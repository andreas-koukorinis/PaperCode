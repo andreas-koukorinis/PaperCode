{
 "cells": [
  {
   "cell_type": "code",
   "execution_count": 1,
   "metadata": {},
   "outputs": [
    {
     "data": {
      "text/plain": [
       "{'divide': 'warn', 'over': 'warn', 'under': 'ignore', 'invalid': 'warn'}"
      ]
     },
     "execution_count": 1,
     "metadata": {},
     "output_type": "execute_result"
    }
   ],
   "source": [
    "from MKLpy.preprocessing import normalization, rescale_01\n",
    "from sklearn.metrics.pairwise import rbf_kernel as RBF\n",
    "import os\n",
    "import pandas as pd\n",
    "import numpy as np\n",
    "import pickle as pkl\n",
    "import aknotebooks.classification.convenience_functions.mkl_base as mkl_base\n",
    "from MKLpy.metrics.pairwise.misc import homogeneous_polynomial_kernel as HPK_kernel\n",
    "from aknotebooks.classification.convenience_functions.mkl_base import hardDrivesLoc, dataOnlyDrive, folderList, symbols, \\\n",
    "    dataList, finalLocation, DataLoc, path\n",
    "# from aknotebooks.classification.convenience_functions.fit_mkl import featureCreation\n",
    "\n",
    "np.seterr(divide='ignore', invalid='ignore')"
   ]
  },
  {
   "cell_type": "code",
   "execution_count": 2,
   "metadata": {},
   "outputs": [],
   "source": [
    "\n",
    "def featureCreation(idxKey, locDict):\n",
    "    \"\"\" gives out clean features and labels for a given locDict and a idxKey \"\"\"\n",
    "    featuresIdxDirFileLoc = locDict[idxKey][0]\n",
    "    labelsIdxDirFileLoc = locDict[idxKey][1]\n",
    "    ''' read the features file'''\n",
    "    featuresTupleFile = pkl.load(open(featuresIdxDirFileLoc, \"rb\"), encoding='latin1')\n",
    "    dfFeatures = pd.concat([featuresTupleFile[0], featuresTupleFile[1], \\\n",
    "                            featuresTupleFile[2], featuresTupleFile[3]], axis=1, sort=False).fillna(0)\n",
    "    ''' read the labels file'''\n",
    "    labelsDf = pd.read_csv(labelsIdxDirFileLoc)\n",
    "    ''' pop the labels out'''\n",
    "    labels = labelsDf['label_PrMov__window_5__thres_arbitrary__0.1']\n",
    "    '''dataframe of Features and Labels - X and Y'''\n",
    "    dfXY = pd.concat([dfFeatures, labels], axis=1, sort='False').dropna()\n",
    "    labelName = str(dfXY.columns[dfXY.columns.str.contains(pat='label')].values[0])\n",
    "    ''' drop the labels from the features'''\n",
    "    dfX = dfXY.drop(columns=[labelName])\n",
    "    arrX = np.array(dfX)\n",
    "    ''' feature normalisation'''\n",
    "    # feature scaling in [0,1] - X = rescale_01(arrX)\n",
    "    X = normalization(rescale_01(arrX))\n",
    "    y = dfXY[dfXY.columns[dfXY.columns.str.contains(pat='label')]].iloc[:, 0]\n",
    "    ''' returns features, labels'''\n",
    "    return X, y"
   ]
  },
  {
   "cell_type": "code",
   "execution_count": 3,
   "metadata": {},
   "outputs": [
    {
     "name": "stdout",
     "output_type": "stream",
     "text": [
      "AAL.L\n"
     ]
    }
   ],
   "source": [
    "\n",
    "MKLExpPath = os.path.join(DataLoc, path)\n",
    "symbols = sorted(os.listdir(MKLExpPath))\n",
    "\n",
    "\n",
    "symbolIdx = 0\n",
    "print(symbols[symbolIdx])\n",
    "MKLSymbolPath = os.path.join(MKLExpPath, symbols[symbolIdx])\n",
    "MKLSymbolKernelsPath = \"/\".join((MKLSymbolPath, 'Kernels'))\n"
   ]
  },
  {
   "cell_type": "code",
   "execution_count": 4,
   "metadata": {},
   "outputs": [],
   "source": [
    "cleanListKernelInputKeys = {}\n",
    "compKernels={}\n",
    "\n",
    "''' creating the appropriate paths and making the code far more modular'''\n",
    "SymbolCommonPaths = mkl_base.open_pickle_file(MKLSymbolPath,'LocDictsListCorrect.pkl')  # where the locations of the symbol\n",
    "# paths are\n",
    "kernelInputPaths = mkl_base.open_pickle_file(MKLSymbolPath, 'kernelInputsLocations.pkl')  # where the location of the kernel\n"
   ]
  },
  {
   "cell_type": "code",
   "execution_count": null,
   "metadata": {},
   "outputs": [],
   "source": [
    "MKLSymbolPath"
   ]
  },
  {
   "cell_type": "code",
   "execution_count": null,
   "metadata": {},
   "outputs": [],
   "source": [
    "\n",
    "for keyInput in kernelInputPaths.keys() :\n",
    "    Xtr, ytr = featureCreation(idxKey=keyInput,\n",
    "                                   locDict=SymbolCommonPaths)\n",
    "    if (np.isfinite( Xtr ).all()==True and  np.isnan( Xtr ).all() == False):\n",
    "        print(keyInput)\n",
    "        cleanListKernelInputKeys[keyInput] = SymbolCommonPaths[keyInput]\n",
    "    else:\n",
    "        print('Shapes dont match.')\n",
    "        continue\n",
    "\n",
    "\n",
    "pkl.dump(cleanListKernelInputKeys, open(\"/\".join((MKLSymbolKernelsPath, \"cleanKernelsList.pkl\")), \"wb\"))"
   ]
  },
  {
   "cell_type": "code",
   "execution_count": 5,
   "metadata": {},
   "outputs": [],
   "source": [
    "cleanListKernelInputKeys = pkl.load(open(\"/\".join((MKLSymbolKernelsPath, \"cleanKernelsList.pkl\",)),\"rb\"), encoding='latin1')\n"
   ]
  },
  {
   "cell_type": "code",
   "execution_count": null,
   "metadata": {},
   "outputs": [],
   "source": []
  },
  {
   "cell_type": "code",
   "execution_count": null,
   "metadata": {},
   "outputs": [],
   "source": []
  },
  {
   "cell_type": "code",
   "execution_count": null,
   "metadata": {},
   "outputs": [
    {
     "name": "stdout",
     "output_type": "stream",
     "text": [
      "training EasyMKL...for polynomials and RBFtraining EasyMKL...for polynomials and RBFtraining EasyMKL...for polynomials and RBFtraining EasyMKL...for polynomials and RBFtraining EasyMKL...for polynomials and RBFtraining EasyMKL...for polynomials and RBFtraining EasyMKL...for polynomials and RBFtraining EasyMKL...for polynomials and RBFtraining EasyMKL...for polynomials and RBFtraining EasyMKL...for polynomials and RBFtraining EasyMKL...for polynomials and RBFtraining EasyMKL...for polynomials and RBFtraining EasyMKL...for polynomials and RBFtraining EasyMKL...for polynomials and RBFtraining EasyMKL...for polynomials and RBFtraining EasyMKL...for polynomials and RBFtraining EasyMKL...for polynomials and RBFtraining EasyMKL...for polynomials and RBFtraining EasyMKL...for polynomials and RBFtraining EasyMKL...for polynomials and RBFtraining EasyMKL...for polynomials and RBFtraining EasyMKL...for polynomials and RBFtraining EasyMKL...for polynomials and RBFtraining EasyMKL...for polynomials and RBFtraining EasyMKL...for polynomials and RBFtraining EasyMKL...for polynomials and RBFtraining EasyMKL...for polynomials and RBFtraining EasyMKL...for polynomials and RBFtraining EasyMKL...for polynomials and RBFtraining EasyMKL...for polynomials and RBFtraining EasyMKL...for polynomials and RBFtraining EasyMKL...for polynomials and RBFtraining EasyMKL...for polynomials and RBFtraining EasyMKL...for polynomials and RBFtraining EasyMKL...for polynomials and RBFtraining EasyMKL...for polynomials and RBFtraining EasyMKL...for polynomials and RBFtraining EasyMKL...for polynomials and RBFtraining EasyMKL...for polynomials and RBFtraining EasyMKL...for polynomials and RBFtraining EasyMKL...for polynomials and RBFtraining EasyMKL...for polynomials and RBFtraining EasyMKL...for polynomials and RBFtraining EasyMKL...for polynomials and RBF"
     ]
    }
   ],
   "source": [
    "compKernels={}\n",
    "RBFKernels={}\n",
    "for kernelKey in cleanListKernelInputKeys:\n",
    "    featuresIdxDirFileLoc = cleanListKernelInputKeys[kernelKey][0]\n",
    "    labelsIdxDirFileLoc = cleanListKernelInputKeys[kernelKey][1]\n",
    "    \n",
    "    featuresTupleFile = pkl.load(open(featuresIdxDirFileLoc, \"rb\"), encoding='latin1')\n",
    "    dfFeatures = pd.concat([featuresTupleFile[0], featuresTupleFile[1], \\\n",
    "                                featuresTupleFile[2], featuresTupleFile[3]], axis=1, sort=False).fillna(0)\n",
    "    ''' read the labels file'''\n",
    "#     labelsDf = \n",
    "    ''' pop the labels out'''\n",
    "    labels = pd.read_csv(labelsIdxDirFileLoc)['label_PrMov__window_5__thres_arbitrary__0.1']\n",
    "    '''dataframe of Features and Labels - X and Y'''\n",
    "    dfXY = pd.concat([dfFeatures, labels], axis=1, sort='False').dropna()\n",
    "    labelName = str(dfXY.columns[dfXY.columns.str.contains(pat='label')].values[0])\n",
    "    ''' drop the labels from the features'''\n",
    "    dfX = dfXY.drop(columns=[labelName])\n",
    "    ''' feature normalisation'''\n",
    "    # feature scaling in [0,1] - X = rescale_01(arrX)\n",
    "    Xtr = normalization(rescale_01(np.array(dfX)))\n",
    "    #kernelHPK = [HPK_kernel(Xtr, degree=d) for d in range(1, 4)]\n",
    "    kernelRBF = [RBF(Xtr, gamma=gamma) for gamma in [1., 10, 100.]]\n",
    "    print('training EasyMKL...for polynomials and RBF', end='')\n",
    "    #compKernelsRBF[kernelKey] = [kernelHPK, kernelRBF]\n",
    "    RBFKernels[kernelKey] = [kernelRBF]\n",
    "    kernelFileName = \"/\".join(\n",
    "        (MKLSymbolKernelsPath, \"\".join((kernelKey[0], '_', kernelKey[1], \"_RBFKernels.pkl\"))))\n",
    "    pkl.dump(RBFKernels[kernelKey], open(kernelFileName, \"wb\"))\n",
    "\n",
    "           \n",
    " \n",
    "    \n",
    "    "
   ]
  },
  {
   "cell_type": "code",
   "execution_count": 1,
   "metadata": {},
   "outputs": [
    {
     "ename": "NameError",
     "evalue": "name 'cleanListKernelInputKeys' is not defined",
     "output_type": "error",
     "traceback": [
      "\u001b[0;31m---------------------------------------------------------------------------\u001b[0m",
      "\u001b[0;31mNameError\u001b[0m                                 Traceback (most recent call last)",
      "\u001b[0;32m<ipython-input-1-bc07823f67bb>\u001b[0m in \u001b[0;36m<module>\u001b[0;34m\u001b[0m\n\u001b[0;32m----> 1\u001b[0;31m \u001b[0mlen\u001b[0m\u001b[0;34m(\u001b[0m\u001b[0mcleanListKernelInputKeys\u001b[0m\u001b[0;34m)\u001b[0m\u001b[0;34m\u001b[0m\u001b[0;34m\u001b[0m\u001b[0m\n\u001b[0m",
      "\u001b[0;31mNameError\u001b[0m: name 'cleanListKernelInputKeys' is not defined"
     ]
    }
   ],
   "source": [
    "len(cleanListKernelInputKeys)"
   ]
  },
  {
   "cell_type": "code",
   "execution_count": null,
   "metadata": {},
   "outputs": [],
   "source": [
    "\n"
   ]
  },
  {
   "cell_type": "code",
   "execution_count": null,
   "metadata": {},
   "outputs": [],
   "source": [
    "if Xtr.shape[0] == ytr.shape[0]:\n",
    "            print(SymbolCommonPaths[keyInput])\n",
    "            print('doing the kernels bit')\n",
    "            kernelHPK = [HPK_kernel(Xtr, degree=d) for d in range(1, 11)]\n",
    "            kernelRBF = [RBF(Xtr, gamma=gamma) for gamma in [1., 10, 100.]]\n",
    "            print('training EasyMKL...for polynomials and RBF', end='')\n",
    "            compKernels[keyInput] = [kernelHPK, kernelRBF]\n",
    "        else:\n",
    "            print('Shapes dont match.')\n",
    "            continue"
   ]
  },
  {
   "cell_type": "code",
   "execution_count": null,
   "metadata": {},
   "outputs": [],
   "source": []
  },
  {
   "cell_type": "code",
   "execution_count": null,
   "metadata": {},
   "outputs": [],
   "source": [
    "kernelFileName = \"/\".join((MKLSymbolPath,'kernelInputsLocations.pkl'))\n",
    "pkl.load(open(kernelFileName, \"rb\"))"
   ]
  },
  {
   "cell_type": "code",
   "execution_count": null,
   "metadata": {},
   "outputs": [],
   "source": [
    "kernelFileName"
   ]
  },
  {
   "cell_type": "code",
   "execution_count": null,
   "metadata": {},
   "outputs": [],
   "source": [
    "fileName = \"/\".join((MKLSymbolPath,'LocDictsListCorrect.pkl'))\n",
    "pkl.load(open(fileName, \"rb\"))"
   ]
  },
  {
   "cell_type": "code",
   "execution_count": null,
   "metadata": {},
   "outputs": [],
   "source": []
  }
 ],
 "metadata": {
  "kernelspec": {
   "display_name": "Python 3",
   "language": "python",
   "name": "python3"
  },
  "language_info": {
   "codemirror_mode": {
    "name": "ipython",
    "version": 3
   },
   "file_extension": ".py",
   "mimetype": "text/x-python",
   "name": "python",
   "nbconvert_exporter": "python",
   "pygments_lexer": "ipython3",
   "version": "3.6.8"
  }
 },
 "nbformat": 4,
 "nbformat_minor": 2
}
