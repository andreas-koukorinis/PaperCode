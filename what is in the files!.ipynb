{
 "cells": [
  {
   "cell_type": "code",
   "execution_count": 1,
   "id": "fc69f9ab",
   "metadata": {},
   "outputs": [],
   "source": [
    "import numpy as np\n",
    "import os\n",
    "import matplotlib.pyplot as plt\n",
    "import freqopttest.util as util\n",
    "import freqopttest.data as data\n",
    "import freqopttest.kernel as kernel\n",
    "import freqopttest.tst as tst\n",
    "import collections\n",
    "from collections import defaultdict\n",
    "import freqopttest.glo as glo\n",
    "from pathlib import Path\n",
    "import sys\n",
    "import time\n",
    "import os\n",
    "import pandas as pd\n",
    "from concurrent.futures import ThreadPoolExecutor\n",
    "import pickle"
   ]
  },
  {
   "cell_type": "code",
   "execution_count": 2,
   "id": "6b682a69",
   "metadata": {},
   "outputs": [],
   "source": [
    "\n",
    "sys.path.insert(0, '/directory/tothe/handshakefile/')\n",
    "sys.path.append('/home/ak/Documents/PaperCode/stylised_facts')\n",
    "\n",
    "mfdfaDataFrames = '/media/ak/T7/August11th2022Experiments/mfdfaDataFrames'  # Input Files\n",
    "LinearMMDOutputFiles = '/media/ak/T7/August11th2022Experiments/ExperimentOne/TestMMDOutputFiles'  # Location to Save Files\n",
    "experimentOne = '/media/ak/T7/August11th2022Experiments/ExperimentOne'"
   ]
  },
  {
   "cell_type": "code",
   "execution_count": 3,
   "id": "e70dfad0",
   "metadata": {},
   "outputs": [
    {
     "data": {
      "text/plain": [
       "['G_1',\n",
       " 'YM1',\n",
       " 'XM1',\n",
       " 'TU1',\n",
       " 'TY1',\n",
       " 'KE1',\n",
       " 'FB1',\n",
       " 'JB1',\n",
       " 'FV1',\n",
       " 'results',\n",
       " 'OE1',\n",
       " 'RX1',\n",
       " 'DU1',\n",
       " 'US1']"
      ]
     },
     "execution_count": 3,
     "metadata": {},
     "output_type": "execute_result"
    }
   ],
   "source": [
    "os.listdir(mfdfaDataFrames)"
   ]
  },
  {
   "cell_type": "markdown",
   "id": "92a5186c",
   "metadata": {},
   "source": [
    "# mfdfaDataFrames"
   ]
  },
  {
   "cell_type": "code",
   "execution_count": 4,
   "id": "1f405862",
   "metadata": {},
   "outputs": [],
   "source": [
    "symbols = sorted([f for f in os.listdir(mfdfaDataFrames) if str('results') not in f])"
   ]
  },
  {
   "cell_type": "code",
   "execution_count": 5,
   "id": "52026e6f",
   "metadata": {},
   "outputs": [],
   "source": [
    "symbolIdx = 1\n",
    "symbolDir = os.path.join(mfdfaDataFrames, symbols[symbolIdx],'results')\n",
    "\n",
    "barsIdx =  1\n",
    "bars = ['tick', 'calendar', 'dollar', 'volume']\n",
    "symbolFiles = sorted(os.listdir(os.path.join(symbolDir, bars[barsIdx])))"
   ]
  },
  {
   "cell_type": "code",
   "execution_count": 6,
   "id": "c8637e13",
   "metadata": {},
   "outputs": [
    {
     "data": {
      "text/plain": [
       "['FB1_calendar_alpha.pkl',\n",
       " 'FB1_calendar_list_H.pkl',\n",
       " 'FB1_calendar_list_H_intercept.pkl',\n",
       " 'FB1_calendar_mfSpect.pkl',\n",
       " 'FB1_calendar_n_F.pkl',\n",
       " 'FB1_calendar_tau.pkl']"
      ]
     },
     "execution_count": 6,
     "metadata": {},
     "output_type": "execute_result"
    }
   ],
   "source": [
    "symbolFiles"
   ]
  },
  {
   "cell_type": "code",
   "execution_count": 7,
   "id": "399c459c",
   "metadata": {},
   "outputs": [
    {
     "name": "stdout",
     "output_type": "stream",
     "text": [
      "/media/ak/T7/August11th2022Experiments/mfdfaDataFrames/FB1/results/FB1_calendar_list_H_intercept.pkl\n"
     ]
    }
   ],
   "source": [
    "symbolFileIdx = 2\n",
    "symbolFileIdxPath = os.path.join(symbolDir, symbolFiles[symbolFileIdx])\n",
    "print(symbolFileIdxPath)"
   ]
  },
  {
   "cell_type": "code",
   "execution_count": 8,
   "id": "35a7bed3",
   "metadata": {},
   "outputs": [
    {
     "data": {
      "text/plain": [
       "False"
      ]
     },
     "execution_count": 8,
     "metadata": {},
     "output_type": "execute_result"
    }
   ],
   "source": [
    "os.path.isfile(symbolFileIdxPath)"
   ]
  },
  {
   "cell_type": "markdown",
   "id": "78f3f47d",
   "metadata": {},
   "source": [
    "# experimentOne"
   ]
  },
  {
   "cell_type": "code",
   "execution_count": 9,
   "id": "f4bccd11",
   "metadata": {},
   "outputs": [
    {
     "name": "stdout",
     "output_type": "stream",
     "text": [
      "['FB1', 'JB1', 'XM1', 'TY1', 'TU1', 'RX1', 'YM1', 'G_1', 'KE1', 'LinearMMDOutputFiles', 'FV1', 'US1', 'DU1', 'OE1']\n"
     ]
    }
   ],
   "source": [
    "symbolsExpOne = os.listdir(experimentOne)\n",
    "print(symbolsExpOne)\n",
    "symbolsExpOneIdx = 1\n",
    "symbolsExpOneDir = os.path.join(experimentOne, symbolsExpOne[symbolsExpOneIdx])\n",
    "symbolsExpOneDirFiles = os.listdir(symbolsExpOneDir)\n"
   ]
  },
  {
   "cell_type": "code",
   "execution_count": 10,
   "id": "4276fce5",
   "metadata": {},
   "outputs": [],
   "source": [
    "symbolExpOneFileChoiceIdx  = 4\n",
    "filePath = os.path.join(symbolsExpOneDir, symbolsExpOneDirFiles[symbolExpOneFileChoiceIdx])"
   ]
  },
  {
   "cell_type": "code",
   "execution_count": 11,
   "id": "8783b2f1",
   "metadata": {},
   "outputs": [],
   "source": [
    "pklFile = pd.read_pickle(filePath)\n",
    "keyslist  = sorted(list(pklFile.keys()) )\n",
    "# ['micro_price_change', 'arrival_rates', 'gk_vol', 'median_traded_volume', 'tick']"
   ]
  },
  {
   "cell_type": "code",
   "execution_count": 12,
   "id": "c6afdef0",
   "metadata": {},
   "outputs": [
    {
     "data": {
      "text/plain": [
       "defaultdict(dict,\n",
       "            {'micro_price_change': 0         0.000000e+00\n",
       "             1         9.192208e-07\n",
       "             2         3.201145e-07\n",
       "             3         1.301498e-07\n",
       "             4         1.795922e-07\n",
       "                           ...     \n",
       "             219220    1.209179e-06\n",
       "             219221    0.000000e+00\n",
       "             219222    1.040153e-07\n",
       "             219223   -2.075169e-07\n",
       "             219224   -6.088331e-08\n",
       "             Name: pct_change_micro_price, Length: 219225, dtype: float64,\n",
       "             'arrival_rates': 0         10.0\n",
       "             1          5.0\n",
       "             2          3.0\n",
       "             3          3.0\n",
       "             4          6.0\n",
       "                       ... \n",
       "             219220     0.0\n",
       "             219221     0.0\n",
       "             219222     0.0\n",
       "             219223     0.0\n",
       "             219224     0.0\n",
       "             Name: arrival_rates, Length: 219225, dtype: float64,\n",
       "             'gk_vol': 0         0.0\n",
       "             1         0.0\n",
       "             2         0.0\n",
       "             3         0.0\n",
       "             4         0.0\n",
       "                      ... \n",
       "             219220    0.0\n",
       "             219221    0.0\n",
       "             219222    0.0\n",
       "             219223    0.0\n",
       "             219224    0.0\n",
       "             Name: GK_vol, Length: 219225, dtype: float64,\n",
       "             'median_traded_volume': 0          1.0\n",
       "             1          1.0\n",
       "             2          1.0\n",
       "             3          1.0\n",
       "             4          1.0\n",
       "                       ... \n",
       "             219220    18.0\n",
       "             219221    18.0\n",
       "             219222    18.0\n",
       "             219223    18.0\n",
       "             219224     1.0\n",
       "             Name: median_traded_volume, Length: 219225, dtype: float64,\n",
       "             'tick': {'n_F': {10: array([0.00000000e+00, 0.00000000e+00, 0.00000000e+00, ...,\n",
       "                      4.76017756e-05, 4.75776483e-05, 4.74056592e-05]),\n",
       "               11: array([0.00000000e+00, 0.00000000e+00, 0.00000000e+00, ...,\n",
       "                      4.79827204e-05, 4.79598226e-05, 4.77827547e-05]),\n",
       "               12: array([0.00000000e+00, 0.00000000e+00, 0.00000000e+00, ...,\n",
       "                      4.83711191e-05, 4.83492564e-05, 4.81670252e-05]),\n",
       "               13: array([0.00000000e+00, 0.00000000e+00, 0.00000000e+00, ...,\n",
       "                      4.87676827e-05, 4.87466815e-05, 4.85592225e-05]),\n",
       "               14: array([0.00000000e+00, 0.00000000e+00, 0.00000000e+00, ...,\n",
       "                      4.91732203e-05, 4.91529296e-05, 4.89602009e-05]),\n",
       "               15: array([0.00000000e+00, 0.00000000e+00, 0.00000000e+00, ...,\n",
       "                      4.95886525e-05, 4.95689460e-05, 4.93709318e-05]),\n",
       "               16: array([0.00000000e+00, 0.00000000e+00, 0.00000000e+00, ...,\n",
       "                      5.00150286e-05, 4.99958063e-05, 4.97925210e-05]),\n",
       "               17: array([0.00000000e+00, 0.00000000e+00, 0.00000000e+00, ...,\n",
       "                      5.04535465e-05, 5.04347365e-05, 5.02262300e-05]),\n",
       "               18: array([0.00000000e+00, 0.00000000e+00, 0.00000000e+00, ...,\n",
       "                      5.09055763e-05, 5.08871368e-05, 5.06735004e-05]),\n",
       "               19: array([0.00000000e+00, 0.00000000e+00, 0.00000000e+00, ...,\n",
       "                      5.13726891e-05, 5.13546106e-05, 5.11359844e-05]),\n",
       "               20: array([0.00000000e+00, 0.00000000e+00, 0.00000000e+00, ...,\n",
       "                      5.18566912e-05, 5.18389985e-05, 5.16155807e-05]),\n",
       "               21: array([0.00000000e+00, 0.00000000e+00, 0.00000000e+00, ...,\n",
       "                      5.23596656e-05, 5.23424200e-05, 5.21144780e-05]),\n",
       "               22: array([0.00000000e+00, 0.00000000e+00, 0.00000000e+00, ...,\n",
       "                      5.28840221e-05, 5.28673240e-05, 5.26352078e-05]),\n",
       "               23: array([0.00000000e+00, 0.00000000e+00, 0.00000000e+00, ...,\n",
       "                      5.34325578e-05, 5.34165494e-05, 5.31807084e-05]),\n",
       "               24: array([0.00000000e+00, 0.00000000e+00, 0.00000000e+00, ...,\n",
       "                      5.40085309e-05, 5.39933987e-05, 5.37544021e-05]),\n",
       "               25: array([0.00000000e+00, 0.00000000e+00, 0.00000000e+00, ...,\n",
       "                      5.46157501e-05, 5.46017280e-05, 5.43602901e-05]),\n",
       "               26: array([0.00000000e+00, 0.00000000e+00, 0.00000000e+00, ...,\n",
       "                      5.52586835e-05, 5.52460557e-05, 5.50030666e-05]),\n",
       "               27: array([0.00000000e+00, 0.00000000e+00, 0.00000000e+00, ...,\n",
       "                      5.59425916e-05, 5.59316956e-05, 5.56882594e-05]),\n",
       "               28: array([0.00000000e+00, 0.00000000e+00, 0.00000000e+00, ...,\n",
       "                      5.66736893e-05, 5.66649182e-05, 5.64224001e-05]),\n",
       "               29: array([0.00000000e+00, 0.00000000e+00, 0.00000000e+00, ...,\n",
       "                      5.74593428e-05, 5.74531476e-05, 5.72132318e-05]),\n",
       "               30: array([0.00000000e+00, 0.00000000e+00, 0.00000000e+00, ...,\n",
       "                      5.83083101e-05, 5.83052013e-05, 5.80699623e-05]),\n",
       "               31: array([0.00000000e+00, 0.00000000e+00, 0.00000000e+00, ...,\n",
       "                      5.92310330e-05, 5.92315797e-05, 5.90035704e-05]),\n",
       "               32: array([0.00000000e+00, 0.00000000e+00, 0.00000000e+00, ...,\n",
       "                      6.02399895e-05, 6.02448171e-05, 6.00271766e-05]),\n",
       "               33: array([0.00000000e+00, 0.00000000e+00, 0.00000000e+00, ...,\n",
       "                      6.13501185e-05, 6.13599026e-05, 6.11564879e-05]),\n",
       "               34: array([0.00000000e+00, 0.00000000e+00, 0.00000000e+00, ...,\n",
       "                      6.25793258e-05, 6.25947803e-05, 6.24103266e-05]),\n",
       "               35: array([0.00000000e+00, 0.00000000e+00, 0.00000000e+00, ...,\n",
       "                      6.39490787e-05, 6.39709373e-05, 6.38112502e-05]),\n",
       "               36: array([0.00000000e+00, 0.00000000e+00, 0.00000000e+00, ...,\n",
       "                      6.54850945e-05, 6.55140812e-05, 6.53862641e-05]),\n",
       "               37: array([0.00000000e+00, 0.00000000e+00, 0.00000000e+00, ...,\n",
       "                      6.72181138e-05, 6.72548989e-05, 6.71676170e-05]),\n",
       "               38: array([0.00000000e+00, 0.00000000e+00, 0.00000000e+00, ...,\n",
       "                      6.91847368e-05, 6.92298740e-05, 6.91936504e-05]),\n",
       "               39: array([0.00000000e+00, 0.00000000e+00, 0.00000000e+00, ...,\n",
       "                      7.14282715e-05, 7.14821099e-05, 7.15096424e-05]),\n",
       "               40: array([0.00000000e+00, 0.00000000e+00, 0.00000000e+00, ...,\n",
       "                      7.17970861e-05, 7.17970861e-05, 6.88670080e-05]),\n",
       "               41: array([1.16088461e-06, 1.30808255e-06, 1.46031250e-06, ...,\n",
       "                      7.69572388e-05, 7.70280808e-05, 7.72314454e-05]),\n",
       "               42: array([1.54006121e-06, 1.71622063e-06, 1.89757072e-06, ...,\n",
       "                      8.03684156e-05, 8.04464155e-05, 8.07675368e-05]),\n",
       "               43: array([1.90930389e-06, 2.11539257e-06, 2.32666490e-06, ...,\n",
       "                      8.43074888e-05, 8.43906378e-05, 8.48532740e-05]),\n",
       "               44: array([2.31639907e-06, 2.55434366e-06, 2.79720109e-06, ...,\n",
       "                      8.88547766e-05, 8.89399360e-05, 8.95704065e-05]),\n",
       "               45: array([2.77811997e-06, 3.04923332e-06, 3.32510694e-06, ...,\n",
       "                      9.40934506e-05, 9.41761253e-05, 9.50025785e-05]),\n",
       "               46: array([3.30075532e-06, 3.60524913e-06, 3.91519526e-06, ...,\n",
       "                      1.00104990e-04, 1.00179161e-04, 1.01230369e-04]),\n",
       "               47: array([3.88593011e-06, 4.22274281e-06, 4.56769128e-06, ...,\n",
       "                      1.06963191e-04, 1.07021261e-04, 1.08324948e-04]),\n",
       "               48: array([4.53329195e-06, 4.90007841e-06, 5.28130789e-06, ...,\n",
       "                      1.14727223e-04, 1.14760135e-04, 1.16340963e-04]),\n",
       "               49: array([5.24265109e-06, 5.63584303e-06, 6.05558824e-06, ...,\n",
       "                      1.23434668e-04, 1.23432227e-04, 1.25309689e-04]),\n",
       "               50: array([6.01601925e-06, 6.43087997e-06, 6.89300012e-06, ...,\n",
       "                      1.33095778e-04, 1.33047176e-04, 1.35233736e-04]),\n",
       "               51: array([6.85952799e-06, 7.29015361e-06, 7.80080895e-06, ...,\n",
       "                      1.43690175e-04, 1.43584667e-04, 1.46084486e-04]),\n",
       "               52: array([7.78513748e-06, 8.22440085e-06, 8.79268309e-06, ...,\n",
       "                      1.55166806e-04, 1.54994446e-04, 1.57802931e-04]),\n",
       "               53: array([8.81202409e-06, 9.25150951e-06, 9.88994296e-06, ...,\n",
       "                      1.67447263e-04, 1.67199583e-04, 1.70303826e-04]),\n",
       "               54: array([9.96745645e-06, 1.03974887e-05, 1.11222642e-05, ...,\n",
       "                      1.80431815e-04, 1.80102367e-04, 1.83482339e-04]),\n",
       "               55: array([1.12868426e-05, 1.16967571e-05, 1.25275081e-05, ...,\n",
       "                      1.94007015e-04, 1.93591696e-04, 1.97221942e-04]),\n",
       "               56: array([1.28125453e-05, 1.31913498e-05, 1.41502740e-05, ...,\n",
       "                      2.08053558e-04, 2.07550725e-04, 2.11402256e-04]),\n",
       "               57: array([1.45911623e-05, 1.49286568e-05, 1.60388962e-05, ...,\n",
       "                      2.22453322e-04, 2.21863709e-04, 2.25905824e-04]),\n",
       "               58: array([1.66693543e-05, 1.69576034e-05, 1.82410241e-05, ...,\n",
       "                      2.37094894e-04, 2.36421386e-04, 2.40623240e-04]),\n",
       "               59: array([1.90889035e-05, 1.93237489e-05, 2.07985342e-05, ...,\n",
       "                      2.51877339e-04, 2.51124653e-04, 2.55456476e-04]),\n",
       "               60: array([2.18821664e-05, 2.20643654e-05, 2.37429818e-05, ...,\n",
       "                      2.66712302e-04, 2.65886628e-04, 2.70320581e-04]),\n",
       "               61: array([2.50690822e-05, 2.52047594e-05, 2.70927459e-05, ...,\n",
       "                      2.81524720e-04, 2.80633364e-04, 2.85144064e-04]),\n",
       "               62: array([2.86563382e-05, 2.87566922e-05, 3.08524220e-05, ...,\n",
       "                      2.96252534e-04, 2.95303583e-04, 2.99868358e-04]),\n",
       "               63: array([3.26385276e-05, 3.27189824e-05, 3.50142298e-05, ...,\n",
       "                      3.10845729e-04, 3.09847752e-04, 3.14446697e-04]),\n",
       "               64: array([3.70005881e-05, 3.70796913e-05, 3.95606771e-05, ...,\n",
       "                      3.25265012e-04, 3.24226812e-04, 3.28842702e-04]),\n",
       "               65: array([4.17206915e-05, 4.18190274e-05, 4.44676208e-05, ...,\n",
       "                      3.39480349e-04, 3.38410755e-04, 3.43028871e-04]),\n",
       "               66: array([4.67729528e-05, 4.69122274e-05, 4.97070866e-05, ...,\n",
       "                      3.53469503e-04, 3.52377208e-04, 3.56985114e-04]),\n",
       "               67: array([5.21296218e-05, 5.23319744e-05, 5.52495211e-05, ...,\n",
       "                      3.67216675e-04, 3.66110108e-04, 3.70697403e-04]),\n",
       "               68: array([5.77626726e-05, 5.80501963e-05, 6.10653991e-05, ...,\n",
       "                      3.80711285e-04, 3.79598518e-04, 3.84156595e-04]),\n",
       "               69: array([6.36448475e-05, 6.40392751e-05, 6.71262598e-05, ...,\n",
       "                      3.93946921e-04, 3.92835600e-04, 3.97357408e-04]),\n",
       "               70: array([6.97502737e-05, 7.02727786e-05, 7.34052983e-05, ...,\n",
       "                      4.06920454e-04, 4.05817754e-04, 4.10297582e-04]),\n",
       "               71: array([7.60547744e-05, 7.67258466e-05, 7.98776446e-05, ...,\n",
       "                      4.19631298e-04, 4.18543895e-04, 4.22977179e-04]),\n",
       "               72: array([8.25359789e-05, 8.33753466e-05, 8.65204378e-05, ...,\n",
       "                      4.32080819e-04, 4.31014874e-04, 4.35398020e-04]),\n",
       "               73: array([8.91733085e-05, 9.01998863e-05, 9.33127776e-05, ...,\n",
       "                      4.44271844e-04, 4.43233001e-04, 4.47563238e-04]),\n",
       "               74: array([9.59478934e-05, 9.71797452e-05, 1.00235609e-04, ...,\n",
       "                      4.56208283e-04, 4.55201672e-04, 4.59476919e-04]),\n",
       "               75: array([0.00010284, 0.0001043 , 0.00010727, ..., 0.00046789, 0.00046693,\n",
       "                      0.00047114]),\n",
       "               76: array([0.00010984, 0.00011153, 0.0001144 , ..., 0.00047934, 0.00047841,\n",
       "                      0.00048257]),\n",
       "               77: array([0.00011693, 0.00011888, 0.00012162, ..., 0.00049054, 0.00048966,\n",
       "                      0.00049376]),\n",
       "               78: array([0.00012409, 0.00012631, 0.00012891, ..., 0.00050151, 0.00050067,\n",
       "                      0.00050472]),\n",
       "               79: array([0.00013132, 0.00013382, 0.00013625, ..., 0.00051225, 0.00051147,\n",
       "                      0.00051545])},\n",
       "              'list_H': array([       nan,        nan,        nan,        nan,        nan,\n",
       "                            nan,        nan,        nan,        nan,        nan,\n",
       "                            nan,        nan,        nan,        nan,        nan,\n",
       "                            nan,        nan,        nan,        nan,        nan,\n",
       "                            nan,        nan,        nan,        nan,        nan,\n",
       "                            nan,        nan,        nan,        nan,        nan,\n",
       "                            nan, 0.61962362, 0.59890166, 0.58411105, 0.5733969 ,\n",
       "                     0.5661115 , 0.56178501, 0.55989931, 0.55982972, 0.56084329,\n",
       "                     0.56213062, 0.56286358, 0.56227007, 0.55971321, 0.55475894,\n",
       "                     0.54721708, 0.53714605, 0.52482028, 0.5106687 , 0.49519944,\n",
       "                     0.47892768, 0.46232005, 0.44576164, 0.42954453, 0.41387214,\n",
       "                     0.3988725 , 0.38461464, 0.37112443, 0.35839801, 0.34641227,\n",
       "                     0.33513253, 0.32451799, 0.3145254 , 0.30511138, 0.29623391,\n",
       "                     0.28785315, 0.2799319 , 0.27243572, 0.26533294, 0.25859455]),\n",
       "              'list_H_intercept': array([         nan,          nan,          nan,          nan,\n",
       "                              nan,          nan,          nan,          nan,\n",
       "                              nan,          nan,          nan,          nan,\n",
       "                              nan,          nan,          nan,          nan,\n",
       "                              nan,          nan,          nan,          nan,\n",
       "                              nan,          nan,          nan,          nan,\n",
       "                              nan,          nan,          nan,          nan,\n",
       "                              nan,          nan,          nan, -14.15055078,\n",
       "                     -13.96616641, -13.81980438, -13.69807277, -13.59594655,\n",
       "                     -13.50973263, -13.43556237, -13.36903674, -13.30525126,\n",
       "                     -13.23903313, -13.16532906, -13.0796822 , -12.97871317,\n",
       "                     -12.86050541, -12.72480399, -12.57297402, -12.40772151,\n",
       "                     -12.23263888, -12.05167935, -11.86867251, -11.68696588,\n",
       "                     -11.50922786, -11.33739903, -11.17274929, -11.01599141,\n",
       "                     -10.86741119, -10.72698894, -10.59450054, -10.46959532,\n",
       "                     -10.35185257, -10.24082083, -10.13604383, -10.03707692,\n",
       "                      -9.94349675,  -9.85490645,  -9.77093775,  -9.69125127,\n",
       "                      -9.61553565,  -9.54350598]),\n",
       "              'tau': array([            nan,             nan,             nan,             nan,\n",
       "                                 nan,             nan,             nan,             nan,\n",
       "                                 nan,             nan,             nan,             nan,\n",
       "                                 nan,             nan,             nan,             nan,\n",
       "                                 nan,             nan,             nan,             nan,\n",
       "                                 nan,             nan,             nan,             nan,\n",
       "                                 nan,             nan,             nan,             nan,\n",
       "                                 nan,             nan,             nan, -9.38037638e-01,\n",
       "                     -8.80219668e-01, -8.24766684e-01, -7.70641239e-01, -7.16944248e-01,\n",
       "                     -6.62928995e-01, -6.08070486e-01, -5.52136223e-01, -4.95241043e-01,\n",
       "                     -4.37869379e-01, -3.80850063e-01, -3.25275918e-01, -2.72372832e-01,\n",
       "                     -2.23337484e-01, -1.79174375e-01, -1.40566322e-01, -1.07805528e-01,\n",
       "                     -8.07963320e-02, -5.91210565e-02, -4.21446416e-02, -2.91279052e-02,\n",
       "                     -1.93244025e-02, -1.20475852e-02, -6.70685819e-03, -2.81874800e-03,\n",
       "                     -1.94255777e-06,  2.03595594e-03,  3.51443153e-03,  4.59557207e-03,\n",
       "                      5.39757599e-03,  6.00577850e-03,  6.48128652e-03,  6.86755227e-03,\n",
       "                      7.19527910e-03,  7.48602992e-03,  7.75485336e-03,  8.01217919e-03,\n",
       "                      8.26517774e-03,  8.51872951e-03]),\n",
       "              'alpha': array([       nan,        nan,        nan,        nan,        nan,\n",
       "                            nan,        nan,        nan,        nan,        nan,\n",
       "                            nan,        nan,        nan,        nan,        nan,\n",
       "                            nan,        nan,        nan,        nan,        nan,\n",
       "                            nan,        nan,        nan,        nan,        nan,\n",
       "                            nan,        nan,        nan,        nan,        nan,\n",
       "                            nan, 0.5781797 , 0.55452984, 0.54125445, 0.53696991,\n",
       "                     0.54015252, 0.5485851 , 0.55934263, 0.5689518 , 0.57371664,\n",
       "                     0.57019316, 0.55574145, 0.52903086, 0.49035349, 0.44163109,\n",
       "                     0.38608053, 0.32760794, 0.27009196, 0.21675275, 0.16976415,\n",
       "                     0.13016736, 0.09803503, 0.07276817, 0.05340727, 0.0388811 ,\n",
       "                     0.02816805, 0.02037898, 0.01478476, 0.01081141, 0.00802004,\n",
       "                     0.00608203, 0.00475508, 0.00386266, 0.00327727, 0.00290751,\n",
       "                     0.00268823, 0.00257326, 0.00252999, 0.00253552]),\n",
       "              'mfSpect': array([       nan,        nan,        nan,        nan,        nan,\n",
       "                            nan,        nan,        nan,        nan,        nan,\n",
       "                            nan,        nan,        nan,        nan,        nan,\n",
       "                            nan,        nan,        nan,        nan,        nan,\n",
       "                            nan,        nan,        nan,        nan,        nan,\n",
       "                            nan,        nan,        nan,        nan,        nan,\n",
       "                            nan, 0.99585561, 0.99112564, 0.98714302, 0.9854292 ,\n",
       "                     0.98702051, 0.99208005, 0.99961033, 1.00729767, 1.01158602,\n",
       "                     1.00806254, 0.99216566, 0.96011294, 0.90983236, 0.84162101,\n",
       "                     0.75829517, 0.66473902, 0.56696186, 0.47095129, 0.38167294,\n",
       "                     0.30247937, 0.23500146, 0.17941438, 0.13488431, 0.1000215 ,\n",
       "                     0.07323888, 0.0529873 , 0.03788289, 0.0267575 , 0.01866254,\n",
       "                     0.0128485 , 0.00873497, 0.00587922, 0.00394743, 0.00269025,\n",
       "                     0.00192279, 0.00150888, 0.00134877, 0.00136979])}})"
      ]
     },
     "execution_count": 12,
     "metadata": {},
     "output_type": "execute_result"
    }
   ],
   "source": [
    "pklFile"
   ]
  },
  {
   "cell_type": "code",
   "execution_count": 13,
   "id": "eada8090",
   "metadata": {},
   "outputs": [
    {
     "name": "stdout",
     "output_type": "stream",
     "text": [
      "median_traded_volume\n"
     ]
    },
    {
     "data": {
      "text/plain": [
       "0          1.0\n",
       "1          1.0\n",
       "2          1.0\n",
       "3          1.0\n",
       "4          1.0\n",
       "          ... \n",
       "219220    18.0\n",
       "219221    18.0\n",
       "219222    18.0\n",
       "219223    18.0\n",
       "219224     1.0\n",
       "Name: median_traded_volume, Length: 219225, dtype: float64"
      ]
     },
     "execution_count": 13,
     "metadata": {},
     "output_type": "execute_result"
    }
   ],
   "source": [
    "keyslistIdx = 2\n",
    "print(keyslist[keyslistIdx])\n",
    "pklFile[keyslist[keyslistIdx]]"
   ]
  },
  {
   "cell_type": "markdown",
   "id": "1aedfe4a",
   "metadata": {},
   "source": [
    "# LinearMMDOutputFile"
   ]
  },
  {
   "cell_type": "code",
   "execution_count": 16,
   "id": "2e4c103d",
   "metadata": {},
   "outputs": [],
   "source": [
    "testMMDOutputFilesPath = '/media/ak/T71/August11th2022Experiments/TestMMDOutputFiles'"
   ]
  },
  {
   "cell_type": "code",
   "execution_count": 17,
   "id": "bd356560",
   "metadata": {},
   "outputs": [
    {
     "ename": "FileNotFoundError",
     "evalue": "[Errno 2] No such file or directory: '/media/ak/T71/August11th2022Experiments/TestMMDOutputFiles'",
     "output_type": "error",
     "traceback": [
      "\u001b[0;31m---------------------------------------------------------------------------\u001b[0m",
      "\u001b[0;31mFileNotFoundError\u001b[0m                         Traceback (most recent call last)",
      "\u001b[0;32m/tmp/ipykernel_46373/2973126015.py\u001b[0m in \u001b[0;36m<module>\u001b[0;34m\u001b[0m\n\u001b[0;32m----> 1\u001b[0;31m \u001b[0mtestMMDOutputFilesSymbols\u001b[0m \u001b[0;34m=\u001b[0m \u001b[0mos\u001b[0m\u001b[0;34m.\u001b[0m\u001b[0mlistdir\u001b[0m\u001b[0;34m(\u001b[0m\u001b[0mtestMMDOutputFilesPath\u001b[0m\u001b[0;34m)\u001b[0m\u001b[0;34m\u001b[0m\u001b[0;34m\u001b[0m\u001b[0m\n\u001b[0m",
      "\u001b[0;31mFileNotFoundError\u001b[0m: [Errno 2] No such file or directory: '/media/ak/T71/August11th2022Experiments/TestMMDOutputFiles'"
     ]
    }
   ],
   "source": [
    "testMMDOutputFilesSymbols = os.listdir(testMMDOutputFilesPath)\n"
   ]
  },
  {
   "cell_type": "code",
   "execution_count": 18,
   "id": "9f68ad50",
   "metadata": {},
   "outputs": [
    {
     "ename": "NameError",
     "evalue": "name 'testMMDOutputFilesSymbols' is not defined",
     "output_type": "error",
     "traceback": [
      "\u001b[0;31m---------------------------------------------------------------------------\u001b[0m",
      "\u001b[0;31mNameError\u001b[0m                                 Traceback (most recent call last)",
      "\u001b[0;32m/tmp/ipykernel_46373/1456644978.py\u001b[0m in \u001b[0;36m<module>\u001b[0;34m\u001b[0m\n\u001b[1;32m      1\u001b[0m \u001b[0mtestMMDidx\u001b[0m \u001b[0;34m=\u001b[0m \u001b[0;36m1\u001b[0m\u001b[0;34m\u001b[0m\u001b[0;34m\u001b[0m\u001b[0m\n\u001b[0;32m----> 2\u001b[0;31m \u001b[0mtestMMDidxPath\u001b[0m \u001b[0;34m=\u001b[0m \u001b[0mos\u001b[0m\u001b[0;34m.\u001b[0m\u001b[0mpath\u001b[0m\u001b[0;34m.\u001b[0m\u001b[0mjoin\u001b[0m\u001b[0;34m(\u001b[0m\u001b[0mtestMMDOutputFilesPath\u001b[0m\u001b[0;34m,\u001b[0m \u001b[0mtestMMDOutputFilesSymbols\u001b[0m\u001b[0;34m[\u001b[0m\u001b[0mtestMMDidx\u001b[0m\u001b[0;34m]\u001b[0m\u001b[0;34m)\u001b[0m\u001b[0;34m\u001b[0m\u001b[0;34m\u001b[0m\u001b[0m\n\u001b[0m",
      "\u001b[0;31mNameError\u001b[0m: name 'testMMDOutputFilesSymbols' is not defined"
     ]
    }
   ],
   "source": [
    "testMMDidx = 1\n",
    "testMMDidxPath = os.path.join(testMMDOutputFilesPath, testMMDOutputFilesSymbols[testMMDidx])"
   ]
  },
  {
   "cell_type": "code",
   "execution_count": 19,
   "id": "83334cce",
   "metadata": {},
   "outputs": [
    {
     "ename": "NameError",
     "evalue": "name 'testMMDidxPath' is not defined",
     "output_type": "error",
     "traceback": [
      "\u001b[0;31m---------------------------------------------------------------------------\u001b[0m",
      "\u001b[0;31mNameError\u001b[0m                                 Traceback (most recent call last)",
      "\u001b[0;32m/tmp/ipykernel_46373/3187653984.py\u001b[0m in \u001b[0;36m<module>\u001b[0;34m\u001b[0m\n\u001b[0;32m----> 1\u001b[0;31m \u001b[0mrx1_files\u001b[0m \u001b[0;34m=\u001b[0m \u001b[0mos\u001b[0m\u001b[0;34m.\u001b[0m\u001b[0mlistdir\u001b[0m\u001b[0;34m(\u001b[0m\u001b[0mtestMMDidxPath\u001b[0m\u001b[0;34m)\u001b[0m\u001b[0;34m\u001b[0m\u001b[0;34m\u001b[0m\u001b[0m\n\u001b[0m",
      "\u001b[0;31mNameError\u001b[0m: name 'testMMDidxPath' is not defined"
     ]
    }
   ],
   "source": [
    "rx1_files = os.listdir(testMMDidxPath)"
   ]
  },
  {
   "cell_type": "code",
   "execution_count": 17,
   "id": "4c1e2132",
   "metadata": {},
   "outputs": [
    {
     "name": "stdout",
     "output_type": "stream",
     "text": [
      "/media/ak/T71/August11th2022Experiments/TestMMDOutputFiles/RX1/RX1_alpha_Results_Table_LinearMMD.pkl\n"
     ]
    }
   ],
   "source": [
    "RX1fileIdx = os.path.join(testMMDidxPath,rx1_files[0])\n",
    "print(RX1fileIdx)"
   ]
  },
  {
   "cell_type": "markdown",
   "id": "57384cce",
   "metadata": {},
   "source": [
    "# ExperimentInputFiles"
   ]
  },
  {
   "cell_type": "code",
   "execution_count": 18,
   "id": "e4f53edf",
   "metadata": {},
   "outputs": [],
   "source": [
    "ExperimentInputFiles = '/media/ak/T71/August11th2022Experiments/ExperimentInputFiles'"
   ]
  },
  {
   "cell_type": "code",
   "execution_count": 19,
   "id": "f41f9cd8",
   "metadata": {},
   "outputs": [],
   "source": [
    "symbol = [f for f in [f for f in os.listdir(ExperimentInputFiles) if str('pkl') not in f] if str('delete') not in f]"
   ]
  },
  {
   "cell_type": "code",
   "execution_count": 20,
   "id": "8ae9021e",
   "metadata": {},
   "outputs": [
    {
     "name": "stdout",
     "output_type": "stream",
     "text": [
      "/media/ak/T71/August11th2022Experiments/ExperimentInputFiles/FB1\n"
     ]
    }
   ],
   "source": [
    "symbolIdx =  1\n",
    "symbolLoc = os.path.join(ExperimentInputFiles, symbol[symbolIdx])\n",
    "barChoice = 'tick'\n",
    "print(symbolLoc)"
   ]
  },
  {
   "cell_type": "code",
   "execution_count": 21,
   "id": "a57eb9dc",
   "metadata": {},
   "outputs": [
    {
     "name": "stdout",
     "output_type": "stream",
     "text": [
      "[]\n"
     ]
    }
   ],
   "source": [
    "files = os.listdir(symbolLoc)\n",
    "barFiles = [f for f in files if str(barChoice) in f]\n",
    "print(barFiles)"
   ]
  },
  {
   "cell_type": "code",
   "execution_count": 22,
   "id": "e766e848",
   "metadata": {},
   "outputs": [
    {
     "ename": "NameError",
     "evalue": "name 'volumeFiles' is not defined",
     "output_type": "error",
     "traceback": [
      "\u001b[0;31m---------------------------------------------------------------------------\u001b[0m",
      "\u001b[0;31mNameError\u001b[0m                                 Traceback (most recent call last)",
      "\u001b[0;32m<ipython-input-22-b06fc6904bfb>\u001b[0m in \u001b[0;36m<module>\u001b[0;34m\u001b[0m\n\u001b[1;32m      1\u001b[0m \u001b[0mvolumeFileIdx\u001b[0m \u001b[0;34m=\u001b[0m \u001b[0;36m10\u001b[0m\u001b[0;34m\u001b[0m\u001b[0;34m\u001b[0m\u001b[0m\n\u001b[0;32m----> 2\u001b[0;31m \u001b[0mvolumeFileLoc\u001b[0m \u001b[0;34m=\u001b[0m \u001b[0mos\u001b[0m\u001b[0;34m.\u001b[0m\u001b[0mpath\u001b[0m\u001b[0;34m.\u001b[0m\u001b[0mjoin\u001b[0m\u001b[0;34m(\u001b[0m\u001b[0msymbolLoc\u001b[0m\u001b[0;34m,\u001b[0m \u001b[0mvolumeFiles\u001b[0m\u001b[0;34m[\u001b[0m\u001b[0mvolumeFileIdx\u001b[0m\u001b[0;34m]\u001b[0m\u001b[0;34m)\u001b[0m\u001b[0;34m\u001b[0m\u001b[0;34m\u001b[0m\u001b[0m\n\u001b[0m",
      "\u001b[0;31mNameError\u001b[0m: name 'volumeFiles' is not defined"
     ]
    }
   ],
   "source": [
    "volumeFileIdx = 10\n",
    "volumeFileLoc = os.path.join(symbolLoc, volumeFiles[volumeFileIdx])"
   ]
  },
  {
   "cell_type": "code",
   "execution_count": 23,
   "id": "d96854ce",
   "metadata": {},
   "outputs": [
    {
     "ename": "NameError",
     "evalue": "name 'volumeFileLoc' is not defined",
     "output_type": "error",
     "traceback": [
      "\u001b[0;31m---------------------------------------------------------------------------\u001b[0m",
      "\u001b[0;31mNameError\u001b[0m                                 Traceback (most recent call last)",
      "\u001b[0;32m<ipython-input-23-8f3092e4cb42>\u001b[0m in \u001b[0;36m<module>\u001b[0;34m\u001b[0m\n\u001b[0;32m----> 1\u001b[0;31m \u001b[0mpd\u001b[0m\u001b[0;34m.\u001b[0m\u001b[0mread_pickle\u001b[0m\u001b[0;34m(\u001b[0m\u001b[0mvolumeFileLoc\u001b[0m\u001b[0;34m)\u001b[0m\u001b[0;34m\u001b[0m\u001b[0;34m\u001b[0m\u001b[0m\n\u001b[0m",
      "\u001b[0;31mNameError\u001b[0m: name 'volumeFileLoc' is not defined"
     ]
    }
   ],
   "source": [
    "pd.read_pickle(volumeFileLoc)"
   ]
  },
  {
   "cell_type": "markdown",
   "id": "86a22d9f",
   "metadata": {},
   "source": [
    "## OE1"
   ]
  },
  {
   "cell_type": "code",
   "execution_count": 20,
   "id": "e5673716",
   "metadata": {},
   "outputs": [],
   "source": [
    "symbol ='YM1'\n",
    "ExperimentOne ='/media/ak/T7/August11th2022Experiments/ExperimentOne'\n",
    "OE1_Exp_One = os.path.join(ExperimentOne, symbol)"
   ]
  },
  {
   "cell_type": "code",
   "execution_count": 21,
   "id": "af1eb4b7",
   "metadata": {},
   "outputs": [
    {
     "name": "stdout",
     "output_type": "stream",
     "text": [
      "286 0 140 0\n"
     ]
    }
   ],
   "source": [
    "OE1_files =os.listdir(OE1_Exp_One)\n",
    "OE1_dollar_files = [f for f in OE1_files if str('dollar') in f]\n",
    "OE1_volume_files = [f for f in OE1_files if str('volume') in f]\n",
    "OE1_calendar_files = [f for f in OE1_files if str('calendar') in f]\n",
    "\n",
    "print(len(OE1_files) , len(OE1_volume_files), len(OE1_dollar_files), len(OE1_calendar_files))\n"
   ]
  },
  {
   "cell_type": "code",
   "execution_count": 22,
   "id": "6f447c46",
   "metadata": {},
   "outputs": [
    {
     "name": "stdout",
     "output_type": "stream",
     "text": [
      "/media/ak/T7/August11th2022Experiments/ExperimentOne/YM1/YM10dollar_mfdfa.pkl\n",
      "==========================================\n",
      "/media/ak/T7/August11th2022Experiments/ExperimentOne/YM1/YM11dollar_mfdfa.pkl\n",
      "==========================================\n",
      "/media/ak/T7/August11th2022Experiments/ExperimentOne/YM1/YM12dollar_mfdfa.pkl\n",
      "==========================================\n",
      "/media/ak/T7/August11th2022Experiments/ExperimentOne/YM1/YM13dollar_mfdfa.pkl\n",
      "==========================================\n",
      "/media/ak/T7/August11th2022Experiments/ExperimentOne/YM1/YM14dollar_mfdfa.pkl\n",
      "==========================================\n",
      "/media/ak/T7/August11th2022Experiments/ExperimentOne/YM1/YM15dollar_mfdfa.pkl\n",
      "==========================================\n",
      "/media/ak/T7/August11th2022Experiments/ExperimentOne/YM1/YM16dollar_mfdfa.pkl\n",
      "==========================================\n",
      "/media/ak/T7/August11th2022Experiments/ExperimentOne/YM1/YM17dollar_mfdfa.pkl\n",
      "==========================================\n",
      "/media/ak/T7/August11th2022Experiments/ExperimentOne/YM1/YM18dollar_mfdfa.pkl\n",
      "==========================================\n",
      "/media/ak/T7/August11th2022Experiments/ExperimentOne/YM1/YM19dollar_mfdfa.pkl\n",
      "==========================================\n",
      "/media/ak/T7/August11th2022Experiments/ExperimentOne/YM1/YM110dollar_mfdfa.pkl\n",
      "==========================================\n",
      "/media/ak/T7/August11th2022Experiments/ExperimentOne/YM1/YM111dollar_mfdfa.pkl\n",
      "==========================================\n",
      "/media/ak/T7/August11th2022Experiments/ExperimentOne/YM1/YM112dollar_mfdfa.pkl\n",
      "==========================================\n",
      "/media/ak/T7/August11th2022Experiments/ExperimentOne/YM1/YM113dollar_mfdfa.pkl\n",
      "==========================================\n",
      "/media/ak/T7/August11th2022Experiments/ExperimentOne/YM1/YM114dollar_mfdfa.pkl\n",
      "==========================================\n",
      "/media/ak/T7/August11th2022Experiments/ExperimentOne/YM1/YM115dollar_mfdfa.pkl\n",
      "==========================================\n",
      "/media/ak/T7/August11th2022Experiments/ExperimentOne/YM1/YM116dollar_mfdfa.pkl\n",
      "==========================================\n",
      "/media/ak/T7/August11th2022Experiments/ExperimentOne/YM1/YM117dollar_mfdfa.pkl\n",
      "==========================================\n",
      "/media/ak/T7/August11th2022Experiments/ExperimentOne/YM1/YM118dollar_mfdfa.pkl\n",
      "==========================================\n",
      "/media/ak/T7/August11th2022Experiments/ExperimentOne/YM1/YM119dollar_mfdfa.pkl\n",
      "==========================================\n",
      "/media/ak/T7/August11th2022Experiments/ExperimentOne/YM1/YM120dollar_mfdfa.pkl\n",
      "==========================================\n",
      "/media/ak/T7/August11th2022Experiments/ExperimentOne/YM1/YM121dollar_mfdfa.pkl\n",
      "==========================================\n",
      "/media/ak/T7/August11th2022Experiments/ExperimentOne/YM1/YM122dollar_mfdfa.pkl\n",
      "==========================================\n",
      "/media/ak/T7/August11th2022Experiments/ExperimentOne/YM1/YM123dollar_mfdfa.pkl\n",
      "==========================================\n",
      "/media/ak/T7/August11th2022Experiments/ExperimentOne/YM1/YM124dollar_mfdfa.pkl\n",
      "==========================================\n",
      "/media/ak/T7/August11th2022Experiments/ExperimentOne/YM1/YM125dollar_mfdfa.pkl\n",
      "==========================================\n",
      "/media/ak/T7/August11th2022Experiments/ExperimentOne/YM1/YM126dollar_mfdfa.pkl\n",
      "==========================================\n",
      "/media/ak/T7/August11th2022Experiments/ExperimentOne/YM1/YM127dollar_mfdfa.pkl\n",
      "==========================================\n",
      "/media/ak/T7/August11th2022Experiments/ExperimentOne/YM1/YM128dollar_mfdfa.pkl\n",
      "==========================================\n",
      "/media/ak/T7/August11th2022Experiments/ExperimentOne/YM1/YM129dollar_mfdfa.pkl\n",
      "==========================================\n",
      "/media/ak/T7/August11th2022Experiments/ExperimentOne/YM1/YM130dollar_mfdfa.pkl\n",
      "==========================================\n",
      "/media/ak/T7/August11th2022Experiments/ExperimentOne/YM1/YM131dollar_mfdfa.pkl\n",
      "==========================================\n",
      "/media/ak/T7/August11th2022Experiments/ExperimentOne/YM1/YM132dollar_mfdfa.pkl\n",
      "==========================================\n",
      "/media/ak/T7/August11th2022Experiments/ExperimentOne/YM1/YM133dollar_mfdfa.pkl\n",
      "==========================================\n",
      "/media/ak/T7/August11th2022Experiments/ExperimentOne/YM1/YM134dollar_mfdfa.pkl\n",
      "==========================================\n",
      "/media/ak/T7/August11th2022Experiments/ExperimentOne/YM1/YM135dollar_mfdfa.pkl\n",
      "==========================================\n",
      "/media/ak/T7/August11th2022Experiments/ExperimentOne/YM1/YM136dollar_mfdfa.pkl\n",
      "==========================================\n",
      "/media/ak/T7/August11th2022Experiments/ExperimentOne/YM1/YM137dollar_mfdfa.pkl\n",
      "==========================================\n",
      "/media/ak/T7/August11th2022Experiments/ExperimentOne/YM1/YM138dollar_mfdfa.pkl\n",
      "==========================================\n",
      "/media/ak/T7/August11th2022Experiments/ExperimentOne/YM1/YM139dollar_mfdfa.pkl\n",
      "==========================================\n",
      "/media/ak/T7/August11th2022Experiments/ExperimentOne/YM1/YM140dollar_mfdfa.pkl\n",
      "==========================================\n",
      "/media/ak/T7/August11th2022Experiments/ExperimentOne/YM1/YM141dollar_mfdfa.pkl\n",
      "==========================================\n",
      "/media/ak/T7/August11th2022Experiments/ExperimentOne/YM1/YM142dollar_mfdfa.pkl\n",
      "==========================================\n",
      "/media/ak/T7/August11th2022Experiments/ExperimentOne/YM1/YM143dollar_mfdfa.pkl\n",
      "==========================================\n",
      "/media/ak/T7/August11th2022Experiments/ExperimentOne/YM1/YM144dollar_mfdfa.pkl\n",
      "==========================================\n",
      "/media/ak/T7/August11th2022Experiments/ExperimentOne/YM1/YM145dollar_mfdfa.pkl\n",
      "==========================================\n",
      "/media/ak/T7/August11th2022Experiments/ExperimentOne/YM1/YM146dollar_mfdfa.pkl\n",
      "==========================================\n",
      "/media/ak/T7/August11th2022Experiments/ExperimentOne/YM1/YM147dollar_mfdfa.pkl\n",
      "==========================================\n",
      "/media/ak/T7/August11th2022Experiments/ExperimentOne/YM1/YM148dollar_mfdfa.pkl\n",
      "==========================================\n",
      "/media/ak/T7/August11th2022Experiments/ExperimentOne/YM1/YM149dollar_mfdfa.pkl\n",
      "==========================================\n",
      "/media/ak/T7/August11th2022Experiments/ExperimentOne/YM1/YM150dollar_mfdfa.pkl\n",
      "==========================================\n",
      "/media/ak/T7/August11th2022Experiments/ExperimentOne/YM1/YM151dollar_mfdfa.pkl\n",
      "==========================================\n",
      "/media/ak/T7/August11th2022Experiments/ExperimentOne/YM1/YM152dollar_mfdfa.pkl\n",
      "==========================================\n",
      "/media/ak/T7/August11th2022Experiments/ExperimentOne/YM1/YM153dollar_mfdfa.pkl\n",
      "==========================================\n",
      "/media/ak/T7/August11th2022Experiments/ExperimentOne/YM1/YM154dollar_mfdfa.pkl\n",
      "==========================================\n",
      "/media/ak/T7/August11th2022Experiments/ExperimentOne/YM1/YM155dollar_mfdfa.pkl\n",
      "==========================================\n",
      "/media/ak/T7/August11th2022Experiments/ExperimentOne/YM1/YM156dollar_mfdfa.pkl\n",
      "==========================================\n",
      "/media/ak/T7/August11th2022Experiments/ExperimentOne/YM1/YM157dollar_mfdfa.pkl\n",
      "==========================================\n",
      "/media/ak/T7/August11th2022Experiments/ExperimentOne/YM1/YM158dollar_mfdfa.pkl\n",
      "==========================================\n",
      "/media/ak/T7/August11th2022Experiments/ExperimentOne/YM1/YM159dollar_mfdfa.pkl\n",
      "==========================================\n",
      "/media/ak/T7/August11th2022Experiments/ExperimentOne/YM1/YM160dollar_mfdfa.pkl\n",
      "==========================================\n",
      "/media/ak/T7/August11th2022Experiments/ExperimentOne/YM1/YM161dollar_mfdfa.pkl\n",
      "==========================================\n",
      "/media/ak/T7/August11th2022Experiments/ExperimentOne/YM1/YM162dollar_mfdfa.pkl\n",
      "==========================================\n",
      "/media/ak/T7/August11th2022Experiments/ExperimentOne/YM1/YM163dollar_mfdfa.pkl\n",
      "==========================================\n",
      "/media/ak/T7/August11th2022Experiments/ExperimentOne/YM1/YM164dollar_mfdfa.pkl\n",
      "==========================================\n",
      "/media/ak/T7/August11th2022Experiments/ExperimentOne/YM1/YM165dollar_mfdfa.pkl\n",
      "==========================================\n",
      "/media/ak/T7/August11th2022Experiments/ExperimentOne/YM1/YM166dollar_mfdfa.pkl\n",
      "==========================================\n",
      "/media/ak/T7/August11th2022Experiments/ExperimentOne/YM1/YM167dollar_mfdfa.pkl\n",
      "==========================================\n",
      "/media/ak/T7/August11th2022Experiments/ExperimentOne/YM1/YM168dollar_mfdfa.pkl\n",
      "==========================================\n",
      "/media/ak/T7/August11th2022Experiments/ExperimentOne/YM1/YM169dollar_mfdfa.pkl\n"
     ]
    },
    {
     "name": "stdout",
     "output_type": "stream",
     "text": [
      "==========================================\n",
      "/media/ak/T7/August11th2022Experiments/ExperimentOne/YM1/YM170dollar_mfdfa.pkl\n",
      "==========================================\n",
      "/media/ak/T7/August11th2022Experiments/ExperimentOne/YM1/YM171dollar_mfdfa.pkl\n",
      "==========================================\n",
      "/media/ak/T7/August11th2022Experiments/ExperimentOne/YM1/YM172dollar_mfdfa.pkl\n",
      "==========================================\n",
      "/media/ak/T7/August11th2022Experiments/ExperimentOne/YM1/YM173dollar_mfdfa.pkl\n",
      "==========================================\n",
      "/media/ak/T7/August11th2022Experiments/ExperimentOne/YM1/YM174dollar_mfdfa.pkl\n",
      "==========================================\n",
      "/media/ak/T7/August11th2022Experiments/ExperimentOne/YM1/YM175dollar_mfdfa.pkl\n",
      "==========================================\n",
      "/media/ak/T7/August11th2022Experiments/ExperimentOne/YM1/YM176dollar_mfdfa.pkl\n",
      "==========================================\n",
      "/media/ak/T7/August11th2022Experiments/ExperimentOne/YM1/YM177dollar_mfdfa.pkl\n",
      "==========================================\n",
      "/media/ak/T7/August11th2022Experiments/ExperimentOne/YM1/YM178dollar_mfdfa.pkl\n",
      "==========================================\n",
      "/media/ak/T7/August11th2022Experiments/ExperimentOne/YM1/YM179dollar_mfdfa.pkl\n",
      "==========================================\n",
      "/media/ak/T7/August11th2022Experiments/ExperimentOne/YM1/YM180dollar_mfdfa.pkl\n",
      "==========================================\n",
      "/media/ak/T7/August11th2022Experiments/ExperimentOne/YM1/YM181dollar_mfdfa.pkl\n",
      "==========================================\n",
      "/media/ak/T7/August11th2022Experiments/ExperimentOne/YM1/YM182dollar_mfdfa.pkl\n",
      "==========================================\n",
      "/media/ak/T7/August11th2022Experiments/ExperimentOne/YM1/YM183dollar_mfdfa.pkl\n",
      "==========================================\n",
      "/media/ak/T7/August11th2022Experiments/ExperimentOne/YM1/YM184dollar_mfdfa.pkl\n",
      "==========================================\n",
      "/media/ak/T7/August11th2022Experiments/ExperimentOne/YM1/YM185dollar_mfdfa.pkl\n",
      "==========================================\n",
      "/media/ak/T7/August11th2022Experiments/ExperimentOne/YM1/YM186dollar_mfdfa.pkl\n",
      "==========================================\n",
      "/media/ak/T7/August11th2022Experiments/ExperimentOne/YM1/YM187dollar_mfdfa.pkl\n",
      "==========================================\n",
      "/media/ak/T7/August11th2022Experiments/ExperimentOne/YM1/YM188dollar_mfdfa.pkl\n",
      "==========================================\n",
      "/media/ak/T7/August11th2022Experiments/ExperimentOne/YM1/YM189dollar_mfdfa.pkl\n",
      "==========================================\n",
      "/media/ak/T7/August11th2022Experiments/ExperimentOne/YM1/YM190dollar_mfdfa.pkl\n",
      "==========================================\n",
      "/media/ak/T7/August11th2022Experiments/ExperimentOne/YM1/YM191dollar_mfdfa.pkl\n",
      "==========================================\n",
      "/media/ak/T7/August11th2022Experiments/ExperimentOne/YM1/YM192dollar_mfdfa.pkl\n",
      "==========================================\n",
      "/media/ak/T7/August11th2022Experiments/ExperimentOne/YM1/YM193dollar_mfdfa.pkl\n",
      "==========================================\n",
      "/media/ak/T7/August11th2022Experiments/ExperimentOne/YM1/YM194dollar_mfdfa.pkl\n",
      "==========================================\n",
      "/media/ak/T7/August11th2022Experiments/ExperimentOne/YM1/YM195dollar_mfdfa.pkl\n",
      "==========================================\n",
      "/media/ak/T7/August11th2022Experiments/ExperimentOne/YM1/YM196dollar_mfdfa.pkl\n",
      "==========================================\n",
      "/media/ak/T7/August11th2022Experiments/ExperimentOne/YM1/YM197dollar_mfdfa.pkl\n",
      "==========================================\n",
      "/media/ak/T7/August11th2022Experiments/ExperimentOne/YM1/YM198dollar_mfdfa.pkl\n",
      "==========================================\n",
      "/media/ak/T7/August11th2022Experiments/ExperimentOne/YM1/YM199dollar_mfdfa.pkl\n",
      "==========================================\n",
      "/media/ak/T7/August11th2022Experiments/ExperimentOne/YM1/YM1100dollar_mfdfa.pkl\n",
      "==========================================\n",
      "/media/ak/T7/August11th2022Experiments/ExperimentOne/YM1/YM1101dollar_mfdfa.pkl\n",
      "==========================================\n",
      "/media/ak/T7/August11th2022Experiments/ExperimentOne/YM1/YM1102dollar_mfdfa.pkl\n",
      "==========================================\n",
      "/media/ak/T7/August11th2022Experiments/ExperimentOne/YM1/YM1103dollar_mfdfa.pkl\n",
      "==========================================\n",
      "/media/ak/T7/August11th2022Experiments/ExperimentOne/YM1/YM1104dollar_mfdfa.pkl\n",
      "==========================================\n",
      "/media/ak/T7/August11th2022Experiments/ExperimentOne/YM1/YM1105dollar_mfdfa.pkl\n",
      "==========================================\n",
      "/media/ak/T7/August11th2022Experiments/ExperimentOne/YM1/YM1106dollar_mfdfa.pkl\n",
      "==========================================\n",
      "/media/ak/T7/August11th2022Experiments/ExperimentOne/YM1/YM1107dollar_mfdfa.pkl\n",
      "==========================================\n",
      "/media/ak/T7/August11th2022Experiments/ExperimentOne/YM1/YM1108dollar_mfdfa.pkl\n",
      "==========================================\n",
      "/media/ak/T7/August11th2022Experiments/ExperimentOne/YM1/YM1109dollar_mfdfa.pkl\n",
      "==========================================\n",
      "/media/ak/T7/August11th2022Experiments/ExperimentOne/YM1/YM1110dollar_mfdfa.pkl\n",
      "==========================================\n",
      "/media/ak/T7/August11th2022Experiments/ExperimentOne/YM1/YM1111dollar_mfdfa.pkl\n",
      "==========================================\n",
      "/media/ak/T7/August11th2022Experiments/ExperimentOne/YM1/YM1112dollar_mfdfa.pkl\n",
      "==========================================\n",
      "/media/ak/T7/August11th2022Experiments/ExperimentOne/YM1/YM1113dollar_mfdfa.pkl\n",
      "==========================================\n",
      "/media/ak/T7/August11th2022Experiments/ExperimentOne/YM1/YM1114dollar_mfdfa.pkl\n",
      "==========================================\n",
      "/media/ak/T7/August11th2022Experiments/ExperimentOne/YM1/YM1115dollar_mfdfa.pkl\n",
      "==========================================\n",
      "/media/ak/T7/August11th2022Experiments/ExperimentOne/YM1/YM1116dollar_mfdfa.pkl\n",
      "==========================================\n",
      "/media/ak/T7/August11th2022Experiments/ExperimentOne/YM1/YM1117dollar_mfdfa.pkl\n",
      "==========================================\n",
      "/media/ak/T7/August11th2022Experiments/ExperimentOne/YM1/YM1118dollar_mfdfa.pkl\n",
      "==========================================\n",
      "/media/ak/T7/August11th2022Experiments/ExperimentOne/YM1/YM1119dollar_mfdfa.pkl\n",
      "==========================================\n",
      "/media/ak/T7/August11th2022Experiments/ExperimentOne/YM1/YM1120dollar_mfdfa.pkl\n",
      "==========================================\n",
      "/media/ak/T7/August11th2022Experiments/ExperimentOne/YM1/YM1121dollar_mfdfa.pkl\n",
      "==========================================\n",
      "/media/ak/T7/August11th2022Experiments/ExperimentOne/YM1/YM1122dollar_mfdfa.pkl\n",
      "==========================================\n",
      "/media/ak/T7/August11th2022Experiments/ExperimentOne/YM1/YM1123dollar_mfdfa.pkl\n",
      "==========================================\n",
      "/media/ak/T7/August11th2022Experiments/ExperimentOne/YM1/YM1124dollar_mfdfa.pkl\n",
      "==========================================\n",
      "/media/ak/T7/August11th2022Experiments/ExperimentOne/YM1/YM1125dollar_mfdfa.pkl\n",
      "==========================================\n",
      "/media/ak/T7/August11th2022Experiments/ExperimentOne/YM1/YM1126dollar_mfdfa.pkl\n",
      "==========================================\n",
      "/media/ak/T7/August11th2022Experiments/ExperimentOne/YM1/YM1127dollar_mfdfa.pkl\n",
      "==========================================\n",
      "/media/ak/T7/August11th2022Experiments/ExperimentOne/YM1/YM1128dollar_mfdfa.pkl\n",
      "==========================================\n",
      "/media/ak/T7/August11th2022Experiments/ExperimentOne/YM1/YM1129dollar_mfdfa.pkl\n",
      "==========================================\n",
      "/media/ak/T7/August11th2022Experiments/ExperimentOne/YM1/YM1130dollar_mfdfa.pkl\n",
      "==========================================\n",
      "/media/ak/T7/August11th2022Experiments/ExperimentOne/YM1/YM1131dollar_mfdfa.pkl\n",
      "==========================================\n",
      "/media/ak/T7/August11th2022Experiments/ExperimentOne/YM1/YM1132dollar_mfdfa.pkl\n",
      "==========================================\n",
      "/media/ak/T7/August11th2022Experiments/ExperimentOne/YM1/YM1133dollar_mfdfa.pkl\n",
      "==========================================\n",
      "/media/ak/T7/August11th2022Experiments/ExperimentOne/YM1/YM1134dollar_mfdfa.pkl\n",
      "==========================================\n",
      "/media/ak/T7/August11th2022Experiments/ExperimentOne/YM1/YM1135dollar_mfdfa.pkl\n",
      "==========================================\n",
      "/media/ak/T7/August11th2022Experiments/ExperimentOne/YM1/YM1136dollar_mfdfa.pkl\n",
      "==========================================\n",
      "/media/ak/T7/August11th2022Experiments/ExperimentOne/YM1/YM1137dollar_mfdfa.pkl\n",
      "==========================================\n",
      "/media/ak/T7/August11th2022Experiments/ExperimentOne/YM1/YM1138dollar_mfdfa.pkl\n",
      "==========================================\n",
      "/media/ak/T7/August11th2022Experiments/ExperimentOne/YM1/YM1139dollar_mfdfa.pkl\n"
     ]
    },
    {
     "name": "stdout",
     "output_type": "stream",
     "text": [
      "==========================================\n"
     ]
    }
   ],
   "source": [
    "errors_dollar = dict()\n",
    "OE1_dollar_alpha = dict()\n",
    "OE1_dollar_tau = dict()\n",
    "for i in range (0, len(OE1_dollar_files)):\n",
    "    OE1_file_idx = i\n",
    "    OE1_file_idx_path = os.path.join(OE1_Exp_One,OE1_dollar_files[OE1_file_idx])\n",
    "    print(OE1_file_idx_path)\n",
    "    try:\n",
    "        var_ = pd.read_pickle(OE1_file_idx_path)['dollar']\n",
    "        OE1_dollar_alpha[i] = var_['alpha']\n",
    "        OE1_dollar_tau[i] = var_['tau']\n",
    "        \n",
    "        print('==========================================')\n",
    "    except:\n",
    "        errors_dollar[i] = str(OE1_dollar_files[OE1_file_idx])\n",
    "        print('error here')\n",
    "        continue\n"
   ]
  },
  {
   "cell_type": "code",
   "execution_count": 27,
   "id": "6b22e469",
   "metadata": {},
   "outputs": [],
   "source": [
    "errors_volume_ = dict()\n",
    "OE1_volume_alpha = dict()\n",
    "OE1_volume_tau = dict()\n",
    "\n",
    "for i in range (0, len(OE1_volume_files)):\n",
    "    OE1_file_idx = i\n",
    "    OE1_file_idx_path = os.path.join(OE1_Exp_One,OE1_volume_files[OE1_file_idx])\n",
    "    print(OE1_file_idx_path)\n",
    "    try:\n",
    "        var_ = pd.read_pickle(OE1_file_idx_path)['dollar']\n",
    "        OE1_volume_alpha[i] = var_['alpha']\n",
    "        OE1_volume_tau[i] = var_['tau']\n",
    "        \n",
    "        print('==========================================')\n",
    "    except:\n",
    "        errors_volume_[i] = str(OE1_volume_files[OE1_file_idx])\n",
    "        print('error here')\n",
    "        continue\n"
   ]
  },
  {
   "cell_type": "code",
   "execution_count": 28,
   "id": "38fc2ce8",
   "metadata": {},
   "outputs": [
    {
     "data": {
      "text/html": [
       "<div>\n",
       "<style scoped>\n",
       "    .dataframe tbody tr th:only-of-type {\n",
       "        vertical-align: middle;\n",
       "    }\n",
       "\n",
       "    .dataframe tbody tr th {\n",
       "        vertical-align: top;\n",
       "    }\n",
       "\n",
       "    .dataframe thead th {\n",
       "        text-align: right;\n",
       "    }\n",
       "</style>\n",
       "<table border=\"1\" class=\"dataframe\">\n",
       "  <thead>\n",
       "    <tr style=\"text-align: right;\">\n",
       "      <th></th>\n",
       "    </tr>\n",
       "  </thead>\n",
       "  <tbody>\n",
       "  </tbody>\n",
       "</table>\n",
       "</div>"
      ],
      "text/plain": [
       "Empty DataFrame\n",
       "Columns: []\n",
       "Index: []"
      ]
     },
     "execution_count": 28,
     "metadata": {},
     "output_type": "execute_result"
    }
   ],
   "source": [
    "pd.DataFrame.from_dict(OE1_volume_tau)"
   ]
  },
  {
   "cell_type": "code",
   "execution_count": 29,
   "id": "313907cd",
   "metadata": {},
   "outputs": [
    {
     "data": {
      "text/plain": [
       "[]"
      ]
     },
     "execution_count": 29,
     "metadata": {},
     "output_type": "execute_result"
    }
   ],
   "source": [
    "OE1_volume_files"
   ]
  },
  {
   "cell_type": "code",
   "execution_count": 30,
   "id": "e1bcc5a8",
   "metadata": {},
   "outputs": [
    {
     "data": {
      "text/plain": [
       "{}"
      ]
     },
     "execution_count": 30,
     "metadata": {},
     "output_type": "execute_result"
    }
   ],
   "source": [
    "errors_dollar"
   ]
  },
  {
   "cell_type": "code",
   "execution_count": 31,
   "id": "48050b66",
   "metadata": {},
   "outputs": [
    {
     "data": {
      "text/plain": [
       "{}"
      ]
     },
     "execution_count": 31,
     "metadata": {},
     "output_type": "execute_result"
    }
   ],
   "source": [
    "errors_volume_"
   ]
  },
  {
   "cell_type": "code",
   "execution_count": null,
   "id": "f199b32a",
   "metadata": {},
   "outputs": [],
   "source": []
  },
  {
   "cell_type": "code",
   "execution_count": null,
   "id": "cddc4c65",
   "metadata": {},
   "outputs": [],
   "source": []
  }
 ],
 "metadata": {
  "kernelspec": {
   "display_name": "Python 3 (ipykernel)",
   "language": "python",
   "name": "python3"
  },
  "language_info": {
   "codemirror_mode": {
    "name": "ipython",
    "version": 3
   },
   "file_extension": ".py",
   "mimetype": "text/x-python",
   "name": "python",
   "nbconvert_exporter": "python",
   "pygments_lexer": "ipython3",
   "version": "3.7.12"
  }
 },
 "nbformat": 4,
 "nbformat_minor": 5
}
