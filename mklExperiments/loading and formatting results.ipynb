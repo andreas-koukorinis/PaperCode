{
 "cells": [
  {
   "cell_type": "code",
   "execution_count": 2,
   "metadata": {},
   "outputs": [],
   "source": [
    "# append all the necessary paths\n",
    "import sys\n",
    "sys.path.append('/home/ak/Documents/Research/PaperCode/singlekernelclf/')\n",
    "sys.path.append('/home/ak/Documents/Research/PaperCode/MultiKernelLearning')\n",
    "%reload_ext memory_profiler\n",
    "import new_alternate_single_svm as nalsvm\n",
    "import mkl_data_processing as mkl_dp\n",
    "import mkl_model_cross_validation as mkl_cv\n",
    "import os\n",
    "import numpy as np\n",
    "import simplejson\n",
    "import pickle as pickle\n",
    "from mkl_data_processing import storage_location, cross_validation_results_location, evaluate_predictions, oos_results_location, return_cross_val_symbol_path, model_dates_list"
   ]
  },
  {
   "cell_type": "code",
   "execution_count": 11,
   "metadata": {},
   "outputs": [],
   "source": [
    "\n",
    "def load_pickled_in_filename(file):\n",
    "    # load a simple pickled file and return it. its a bit different to the method used for the dictionary as this\n",
    "    # is pure Python 3.x\n",
    "    pickle_in = open(file, 'rb')\n",
    "    return pickle.load(pickle_in)"
   ]
  },
  {
   "cell_type": "code",
   "execution_count": 3,
   "metadata": {},
   "outputs": [],
   "source": [
    "symbol = 'ECM.L'"
   ]
  },
  {
   "cell_type": "code",
   "execution_count": 10,
   "metadata": {},
   "outputs": [],
   "source": [
    "oos_file_path = oos_results_location(symbol)\n",
    "oos_files = os.listdir(oos_file_path)\n",
    "oos_files_idx =0\n",
    "oos_file = os.path.join(oos_file_path, oos_files[oos_files_idx])"
   ]
  },
  {
   "cell_type": "code",
   "execution_count": 15,
   "metadata": {},
   "outputs": [
    {
     "data": {
      "text/plain": [
       "['ECM.L_LabelsAlternateFive_ModelDates.pkl', 'ECM.L_ModelDates.pkl']"
      ]
     },
     "execution_count": 15,
     "metadata": {},
     "output_type": "execute_result"
    }
   ],
   "source": [
    "oos_files"
   ]
  },
  {
   "cell_type": "code",
   "execution_count": null,
   "metadata": {},
   "outputs": [],
   "source": []
  }
 ],
 "metadata": {
  "kernelspec": {
   "display_name": "Python 3",
   "language": "python",
   "name": "python3"
  },
  "language_info": {
   "codemirror_mode": {
    "name": "ipython",
    "version": 3
   },
   "file_extension": ".py",
   "mimetype": "text/x-python",
   "name": "python",
   "nbconvert_exporter": "python",
   "pygments_lexer": "ipython3",
   "version": "3.6.9"
  }
 },
 "nbformat": 4,
 "nbformat_minor": 4
}
