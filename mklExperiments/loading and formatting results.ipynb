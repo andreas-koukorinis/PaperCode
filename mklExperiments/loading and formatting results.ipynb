{
 "cells": [
  {
   "cell_type": "code",
   "execution_count": 145,
   "metadata": {},
   "outputs": [],
   "source": [
    "# append all the necessary paths\n",
    "import sys\n",
    "sys.path.append('/home/ak/Documents/Research/PaperCode/singlekernelclf/')\n",
    "sys.path.append('/home/ak/Documents/Research/PaperCode/MultiKernelLearning')\n",
    "%reload_ext memory_profiler\n",
    "import new_alternate_single_svm as nalsvm\n",
    "# import mkl_data_processing as mkl_dp\n",
    "# import mkl_model_cross_validation as mkl_cv\n",
    "import os\n",
    "import numpy as np\n",
    "import simplejson\n",
    "import pickle as pickle\n",
    "import matplotlib.pyplot as plt\n",
    "#from mkl_data_processing import storage_location, cross_validation_results_location, evaluate_predictions, oos_results_location, return_cross_val_symbol_path, model_dates_list"
   ]
  },
  {
   "cell_type": "markdown",
   "metadata": {},
   "source": [
    "## folders"
   ]
  },
  {
   "cell_type": "code",
   "execution_count": 68,
   "metadata": {},
   "outputs": [],
   "source": [
    "passportDrive ='/media/ak/My Passport'\n",
    "dataOnlyDrive = '/media/ak/DataOnly/'\n",
    "finDataFolder = os.path.join(dataOnlyDrive, 'FinDataReal')\n",
    "experimentDataPassportDrive = os.path.join(passportDrive, 'ExperimentData')\n",
    "alternativeExperimentPath = os.path.join(experimentDataPassportDrive,'AlternateLabelExperimentPath')\n",
    "oosResultsPath = '/media/ak/My Passport/Data/FinDataReal/JointLocationsAlternateDataClean/OOS_Results'"
   ]
  },
  {
   "cell_type": "code",
   "execution_count": 11,
   "metadata": {},
   "outputs": [],
   "source": [
    "\n",
    "def load_pickled_in_filename(file):\n",
    "    # load a simple pickled file and return it. its a bit different to the method used for the dictionary as this\n",
    "    # is pure Python 3.x\n",
    "    pickle_in = open(file, 'rb')\n",
    "    return pickle.load(pickle_in)"
   ]
  },
  {
   "cell_type": "code",
   "execution_count": 62,
   "metadata": {},
   "outputs": [],
   "source": [
    "\n",
    "symbols  = os.listdir(oosResultsPath)\n",
    "symbolIdx = 5\n",
    "symbol = symbols[symbolIdx]"
   ]
  },
  {
   "cell_type": "code",
   "execution_count": 63,
   "metadata": {},
   "outputs": [
    {
     "data": {
      "text/plain": [
       "'/media/ak/My Passport/Data/FinDataReal/JointLocationsAlternateDataClean/OOS_Results/PRU.L'"
      ]
     },
     "execution_count": 63,
     "metadata": {},
     "output_type": "execute_result"
    }
   ],
   "source": [
    "oos_path = os.path.join(oosResultsPath, symbol)\n",
    "oos_path"
   ]
  },
  {
   "cell_type": "code",
   "execution_count": 64,
   "metadata": {},
   "outputs": [
    {
     "data": {
      "text/plain": [
       "['PRU.L_20180416_LabelsAlternateFour__OOS_Results.pkl',\n",
       " 'PRU.L_20180416_LabelsAlternateOne__OOS_Results.pkl']"
      ]
     },
     "execution_count": 64,
     "metadata": {},
     "output_type": "execute_result"
    }
   ],
   "source": [
    "oos_file = os.listdir(oos_path)\n",
    "oos_file"
   ]
  },
  {
   "cell_type": "code",
   "execution_count": 57,
   "metadata": {},
   "outputs": [],
   "source": [
    "oos_results_dict = load_pickled_in_filename(os.path.join(oos_path, oos_file[2]))"
   ]
  },
  {
   "cell_type": "code",
   "execution_count": 66,
   "metadata": {},
   "outputs": [
    {
     "data": {
      "text/plain": [
       "{'20180420': {'accuracy': 0.87,\n",
       "  'precision': 0.76,\n",
       "  'recall': 0.87,\n",
       "  'f1- weighted': 0.81,\n",
       "  'f1- micro': 0.87,\n",
       "  'f1- macro': 0.31,\n",
       "  'Hamming Loss': 0.13}}"
      ]
     },
     "execution_count": 66,
     "metadata": {},
     "output_type": "execute_result"
    }
   ],
   "source": [
    "oos_results_dict['MKL']"
   ]
  },
  {
   "cell_type": "code",
   "execution_count": null,
   "metadata": {},
   "outputs": [],
   "source": [
    "alternateSymbol  = 'AV.L'\n"
   ]
  },
  {
   "cell_type": "code",
   "execution_count": 100,
   "metadata": {},
   "outputs": [
    {
     "name": "stdout",
     "output_type": "stream",
     "text": [
      "/media/ak/My Passport/ExperimentData/AlternateLabelExperimentPath/AAL.L\n"
     ]
    }
   ],
   "source": [
    "symbols_with_experiments = os.listdir(alternativeExperimentPath)\n",
    "symbolPath = os.path.join(alternativeExperimentPath, symbols_with_experiments[0])\n",
    "print(symbolPath)\n",
    "files =os.listdir(symbolPath)\n",
    "LabelFiveExperiments = [f for f in files if str('Five') in f]\n",
    "LabelFourExperiments = [f for f in files if str('Four') in f]\n",
    "LabelThreeExperiments = [f for f in files if str('Three') in f]\n",
    "#LabelTwoExperiments = [f for f in files if str('Two') in f]\n",
    "LabelOneExperiments = [f for f in files if str('One') in f]\n",
    "\n",
    "\n"
   ]
  },
  {
   "cell_type": "code",
   "execution_count": null,
   "metadata": {},
   "outputs": [],
   "source": []
  },
  {
   "cell_type": "code",
   "execution_count": 106,
   "metadata": {},
   "outputs": [],
   "source": [
    "pkled_file_to_load = os.path.join(symbolPath, LabelFiveExperiments[10])"
   ]
  },
  {
   "cell_type": "code",
   "execution_count": 107,
   "metadata": {},
   "outputs": [],
   "source": [
    "pkl_file_keys = list(load_pickled_in_filename(pkled_file_to_load).keys())"
   ]
  },
  {
   "cell_type": "code",
   "execution_count": 108,
   "metadata": {},
   "outputs": [],
   "source": [
    "pkled_dict = load_pickled_in_filename(pkled_file_to_load)[list(load_pickled_in_filename(pkled_file_to_load).keys())[0]]"
   ]
  },
  {
   "cell_type": "code",
   "execution_count": 109,
   "metadata": {},
   "outputs": [
    {
     "data": {
      "text/plain": [
       "accuracy        0.558077\n",
       "precision       0.986154\n",
       "recall          0.558077\n",
       "f1- weighted    0.664231\n",
       "f1- micro       0.558077\n",
       "f1- macro       0.243846\n",
       "Hamming Loss    0.441923\n",
       "dtype: float64"
      ]
     },
     "execution_count": 109,
     "metadata": {},
     "output_type": "execute_result"
    }
   ],
   "source": [
    "import pandas as pd\n",
    "pd.DataFrame.from_dict(pkled_dict).mean(axis=1)"
   ]
  },
  {
   "cell_type": "code",
   "execution_count": 110,
   "metadata": {},
   "outputs": [],
   "source": [
    "\n",
    "def mean_results(experimentsList, DateIdx):\n",
    "    pkled_file_to_load = os.path.join(symbolPath, experimentsList[DateIdx])\n",
    "    pkled_dict = load_pickled_in_filename(pkled_file_to_load)[list(load_pickled_in_filename(pkled_file_to_load).keys())[0]]\n",
    "    return pd.DataFrame.from_dict(pkled_dict).mean(axis=1)\n",
    "    \n",
    "    \n",
    "    "
   ]
  },
  {
   "cell_type": "code",
   "execution_count": 111,
   "metadata": {},
   "outputs": [
    {
     "data": {
      "text/plain": [
       "accuracy        0.761389\n",
       "precision       0.987778\n",
       "recall          0.761389\n",
       "f1- weighted    0.840556\n",
       "f1- micro       0.761389\n",
       "f1- macro       0.293056\n",
       "Hamming Loss    0.238611\n",
       "dtype: float64"
      ]
     },
     "execution_count": 111,
     "metadata": {},
     "output_type": "execute_result"
    }
   ],
   "source": [
    "mean_results(LabelFiveExperiments, 1)"
   ]
  },
  {
   "cell_type": "markdown",
   "metadata": {},
   "source": [
    "## do something silly to get all of the results out"
   ]
  },
  {
   "cell_type": "code",
   "execution_count": 179,
   "metadata": {},
   "outputs": [],
   "source": [
    "\n",
    "#5\n",
    "labelfive_mean_results_list = list()\n",
    "for i in range(len(LabelFiveExperiments)-1):\n",
    "    \n",
    "    labelfive_mean_results_list.append(mean_results(LabelFiveExperiments, i))\n",
    "\n",
    "labelfour_mean_results_list = list()\n",
    "#4\n",
    "for i in range(len(LabelFourExperiments)-1):\n",
    "    \n",
    "    labelfour_mean_results_list.append(mean_results(LabelFourExperiments, i))\n",
    "    \n",
    "labelthree_mean_results_list = list()\n",
    "#3\n",
    "for i in range(len(LabelThreeExperiments)-1):\n",
    "    \n",
    "    labelthree_mean_results_list.append(mean_results(LabelThreeExperiments, i))\n",
    "#1\n",
    "labelone_mean_results_list = list()\n",
    "for i in range(len(LabelOneExperiments)-1):\n",
    "    \n",
    "    labelone_mean_results_list.append(mean_results(LabelOneExperiments, i))"
   ]
  },
  {
   "cell_type": "code",
   "execution_count": 133,
   "metadata": {},
   "outputs": [
    {
     "data": {
      "text/plain": [
       "accuracy        0.550827\n",
       "precision       0.834676\n",
       "recall          0.550827\n",
       "f1- weighted    0.612541\n",
       "f1- micro       0.550827\n",
       "f1- macro       0.216938\n",
       "Hamming Loss    0.449173\n",
       "dtype: float64"
      ]
     },
     "execution_count": 133,
     "metadata": {},
     "output_type": "execute_result"
    }
   ],
   "source": [
    "labels_lists = [labelone_mean_results_list]"
   ]
  },
  {
   "cell_type": "code",
   "execution_count": 142,
   "metadata": {},
   "outputs": [],
   "source": [
    "df_results  = pd.DataFrame(mean_results_list)"
   ]
  },
  {
   "cell_type": "code",
   "execution_count": 163,
   "metadata": {},
   "outputs": [
    {
     "data": {
      "text/plain": [
       "accuracy        0.406667\n",
       "precision       0.718214\n",
       "recall          0.406667\n",
       "f1- weighted    0.481471\n",
       "f1- micro       0.406667\n",
       "f1- macro       0.247838\n",
       "Hamming Loss    0.593333\n",
       "dtype: float64"
      ]
     },
     "execution_count": 163,
     "metadata": {},
     "output_type": "execute_result"
    }
   ],
   "source": [
    "pd.DataFrame(labelfour_mean_results_list).median(axis=0)"
   ]
  },
  {
   "cell_type": "code",
   "execution_count": 162,
   "metadata": {},
   "outputs": [
    {
     "data": {
      "text/plain": [
       "accuracy        0.634297\n",
       "precision       0.986196\n",
       "recall          0.634297\n",
       "f1- weighted    0.734541\n",
       "f1- micro       0.634297\n",
       "f1- macro       0.253557\n",
       "Hamming Loss    0.365703\n",
       "dtype: float64"
      ]
     },
     "execution_count": 162,
     "metadata": {},
     "output_type": "execute_result"
    }
   ],
   "source": []
  },
  {
   "cell_type": "code",
   "execution_count": 180,
   "metadata": {},
   "outputs": [],
   "source": [
    "def symbol_results(labelone_mean_results_list, labelthree_mean_results_list, labelfour_mean_results_list, labelfive_mean_results_list):\n",
    "    symbol_results = dict()\n",
    "    symbol_results['Label One'] = pd.DataFrame(labelone_mean_results_list).median(axis=0)\n",
    "    symbol_results['Label Three'] = pd.DataFrame(labelthree_mean_results_list).median(axis=0)\n",
    "    symbol_results['Label Five'] = pd.DataFrame(labelfive_mean_results_list).median(axis=0)\n",
    "    symbol_results['Label Four'] = pd.DataFrame(labelfour_mean_results_list).median(axis=0)\n",
    "    \n",
    "    return symbol_results\n",
    "\n"
   ]
  },
  {
   "cell_type": "code",
   "execution_count": 197,
   "metadata": {},
   "outputs": [],
   "source": [
    "resultsDF = pd.DataFrame.from_dict(symbol_results)*100"
   ]
  },
  {
   "cell_type": "code",
   "execution_count": 191,
   "metadata": {},
   "outputs": [],
   "source": [
    "pd.options.display.float_format = \"{:,.2f}%\".format\n",
    "# \"{0:.2f}%\""
   ]
  },
  {
   "cell_type": "code",
   "execution_count": 196,
   "metadata": {},
   "outputs": [
    {
     "data": {
      "text/plain": [
       "'\\\\begin{tabular}{lrrrr}\\n\\\\toprule\\n{} &  Label One &  Label Three &  Label Five &  Label Four \\\\\\\\\\n\\\\midrule\\naccuracy     &     36.09\\\\% &       89.81\\\\% &      63.43\\\\% &      40.67\\\\% \\\\\\\\\\nprecision    &     34.37\\\\% &       99.68\\\\% &      98.62\\\\% &      71.82\\\\% \\\\\\\\\\nrecall       &     36.09\\\\% &       89.81\\\\% &      63.43\\\\% &      40.67\\\\% \\\\\\\\\\nf1- weighted &     27.69\\\\% &       93.50\\\\% &      73.45\\\\% &      48.15\\\\% \\\\\\\\\\nf1- micro    &     36.09\\\\% &       89.81\\\\% &      63.43\\\\% &      40.67\\\\% \\\\\\\\\\nf1- macro    &     26.81\\\\% &       48.08\\\\% &      25.36\\\\% &      24.78\\\\% \\\\\\\\\\nHamming Loss &     63.91\\\\% &       10.19\\\\% &      36.57\\\\% &      59.33\\\\% \\\\\\\\\\n\\\\bottomrule\\n\\\\end{tabular}\\n'"
      ]
     },
     "execution_count": 196,
     "metadata": {},
     "output_type": "execute_result"
    }
   ],
   "source": [
    "resultsDF.to_latex()"
   ]
  },
  {
   "cell_type": "code",
   "execution_count": 198,
   "metadata": {},
   "outputs": [
    {
     "data": {
      "text/html": [
       "<div>\n",
       "<style scoped>\n",
       "    .dataframe tbody tr th:only-of-type {\n",
       "        vertical-align: middle;\n",
       "    }\n",
       "\n",
       "    .dataframe tbody tr th {\n",
       "        vertical-align: top;\n",
       "    }\n",
       "\n",
       "    .dataframe thead th {\n",
       "        text-align: right;\n",
       "    }\n",
       "</style>\n",
       "<table border=\"1\" class=\"dataframe\">\n",
       "  <thead>\n",
       "    <tr style=\"text-align: right;\">\n",
       "      <th></th>\n",
       "      <th>Label One</th>\n",
       "      <th>Label Three</th>\n",
       "      <th>Label Five</th>\n",
       "      <th>Label Four</th>\n",
       "    </tr>\n",
       "  </thead>\n",
       "  <tbody>\n",
       "    <tr>\n",
       "      <th>accuracy</th>\n",
       "      <td>36.09%</td>\n",
       "      <td>89.81%</td>\n",
       "      <td>63.43%</td>\n",
       "      <td>40.67%</td>\n",
       "    </tr>\n",
       "    <tr>\n",
       "      <th>precision</th>\n",
       "      <td>34.37%</td>\n",
       "      <td>99.68%</td>\n",
       "      <td>98.62%</td>\n",
       "      <td>71.82%</td>\n",
       "    </tr>\n",
       "    <tr>\n",
       "      <th>recall</th>\n",
       "      <td>36.09%</td>\n",
       "      <td>89.81%</td>\n",
       "      <td>63.43%</td>\n",
       "      <td>40.67%</td>\n",
       "    </tr>\n",
       "    <tr>\n",
       "      <th>f1- weighted</th>\n",
       "      <td>27.69%</td>\n",
       "      <td>93.50%</td>\n",
       "      <td>73.45%</td>\n",
       "      <td>48.15%</td>\n",
       "    </tr>\n",
       "    <tr>\n",
       "      <th>f1- micro</th>\n",
       "      <td>36.09%</td>\n",
       "      <td>89.81%</td>\n",
       "      <td>63.43%</td>\n",
       "      <td>40.67%</td>\n",
       "    </tr>\n",
       "    <tr>\n",
       "      <th>f1- macro</th>\n",
       "      <td>26.81%</td>\n",
       "      <td>48.08%</td>\n",
       "      <td>25.36%</td>\n",
       "      <td>24.78%</td>\n",
       "    </tr>\n",
       "    <tr>\n",
       "      <th>Hamming Loss</th>\n",
       "      <td>63.91%</td>\n",
       "      <td>10.19%</td>\n",
       "      <td>36.57%</td>\n",
       "      <td>59.33%</td>\n",
       "    </tr>\n",
       "  </tbody>\n",
       "</table>\n",
       "</div>"
      ],
      "text/plain": [
       "              Label One  Label Three  Label Five  Label Four\n",
       "accuracy         36.09%       89.81%      63.43%      40.67%\n",
       "precision        34.37%       99.68%      98.62%      71.82%\n",
       "recall           36.09%       89.81%      63.43%      40.67%\n",
       "f1- weighted     27.69%       93.50%      73.45%      48.15%\n",
       "f1- micro        36.09%       89.81%      63.43%      40.67%\n",
       "f1- macro        26.81%       48.08%      25.36%      24.78%\n",
       "Hamming Loss     63.91%       10.19%      36.57%      59.33%"
      ]
     },
     "execution_count": 198,
     "metadata": {},
     "output_type": "execute_result"
    }
   ],
   "source": [
    "resultsDF"
   ]
  },
  {
   "cell_type": "code",
   "execution_count": null,
   "metadata": {},
   "outputs": [],
   "source": []
  }
 ],
 "metadata": {
  "kernelspec": {
   "display_name": "Python 3",
   "language": "python",
   "name": "python3"
  },
  "language_info": {
   "codemirror_mode": {
    "name": "ipython",
    "version": 3
   },
   "file_extension": ".py",
   "mimetype": "text/x-python",
   "name": "python",
   "nbconvert_exporter": "python",
   "pygments_lexer": "ipython3",
   "version": "3.6.8"
  },
  "latex_envs": {
   "LaTeX_envs_menu_present": true,
   "autoclose": false,
   "autocomplete": true,
   "bibliofile": "biblio.bib",
   "cite_by": "apalike",
   "current_citInitial": 1,
   "eqLabelWithNumbers": true,
   "eqNumInitial": 1,
   "hotkeys": {
    "equation": "Ctrl-E",
    "itemize": "Ctrl-I"
   },
   "labels_anchors": false,
   "latex_user_defs": false,
   "report_style_numbering": false,
   "user_envs_cfg": false
  }
 },
 "nbformat": 4,
 "nbformat_minor": 4
}
