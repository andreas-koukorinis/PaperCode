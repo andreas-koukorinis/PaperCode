{
 "cells": [
  {
   "cell_type": "code",
   "execution_count": 1,
   "metadata": {},
   "outputs": [],
   "source": [
    "from sklearn.datasets import load_breast_cancer\n",
    "ds = load_breast_cancer()\n",
    "X,Y = ds.data, ds.target\n",
    "from sklearn.datasets import load_svmlight_file\n"
   ]
  },
  {
   "cell_type": "code",
   "execution_count": 2,
   "metadata": {},
   "outputs": [],
   "source": [
    "from MKLpy.preprocessing import \\\n",
    "    normalization, rescale_01, rescale, centering\n",
    "X = rescale_01(X)       #feature scaling in [0,1]\n",
    "X = normalization(X)    #row (example) normalization ||X_i||_2^2 = 1"
   ]
  },
  {
   "cell_type": "code",
   "execution_count": 3,
   "metadata": {},
   "outputs": [],
   "source": [
    "from sklearn import preprocessing\n",
    "scaler = preprocessing.StandardScaler()\n",
    "Xscikit = scaler.fit_transform(X)"
   ]
  },
  {
   "cell_type": "code",
   "execution_count": 8,
   "metadata": {},
   "outputs": [
    {
     "name": "stdout",
     "output_type": "stream",
     "text": [
      "preprocessing data...done\n"
     ]
    }
   ],
   "source": [
    "\n",
    "'''\n",
    "WARNING: be sure that your matrix is not sparse! EXAMPLE:\n",
    "from sklearn.datasets import load_svmlight_file\n",
    "X,Y = load_svmlight_file(...)\n",
    "X = X.toarray()\n",
    "'''\n",
    "\n",
    "#preprocess data\n",
    "print ('preprocessing data...', end='')\n",
    "from MKLpy.preprocessing import normalization, rescale_01\n",
    "X = rescale_01(X)\t#feature scaling in [0,1]\n",
    "X = normalization(X) #||X_i||_2^2 = 1\n",
    "\n",
    "#train/test split\n",
    "from sklearn.model_selection import train_test_split\n",
    "Xtr,Xte,Ytr,Yte = train_test_split(X,Y, test_size=.75, random_state=42)\n",
    "print ('done')"
   ]
  },
  {
   "cell_type": "code",
   "execution_count": 9,
   "metadata": {},
   "outputs": [
    {
     "name": "stdout",
     "output_type": "stream",
     "text": [
      "torch.Size([142, 30]) torch.Size([427, 30])\n"
     ]
    }
   ],
   "source": [
    "print(Xtr.shape, Xte.shape)"
   ]
  },
  {
   "cell_type": "code",
   "execution_count": 10,
   "metadata": {},
   "outputs": [
    {
     "name": "stdout",
     "output_type": "stream",
     "text": [
      "computing Homogeneous Polynomial Kernels...done\n"
     ]
    }
   ],
   "source": [
    "#compute homogeneous polynomial kernels with degrees 0,1,2,...,10.\n",
    "print ('computing Homogeneous Polynomial Kernels...', end='')\n",
    "from MKLpy.metrics import pairwise\n",
    "KLtr = [pairwise.homogeneous_polynomial_kernel(Xtr, degree=d) for d in range(11)]\n",
    "KLte = [pairwise.homogeneous_polynomial_kernel(Xte,Xtr, degree=d) for d in range(11)]\n",
    "print ('done')"
   ]
  },
  {
   "cell_type": "code",
   "execution_count": 11,
   "metadata": {},
   "outputs": [
    {
     "name": "stdout",
     "output_type": "stream",
     "text": [
      "evaluating metrics...done\n",
      "results of the 5-degree HP kernel:\n",
      "margin: 0.0819, radius: 0.8779, radiu-margin ratio: 0.8088,\n",
      "trace: 142.0000, frobenius norm: 78.8652\n",
      "computing Spectral Ratio...0.0733\n"
     ]
    }
   ],
   "source": [
    "\n",
    "#evaluate kernels in terms of margin, radius etc...\n",
    "print ('evaluating metrics...', end='')\n",
    "from MKLpy.metrics import margin, radius, ratio, trace, frobenius\n",
    "from MKLpy.preprocessing import kernel_normalization\n",
    "deg = 5\n",
    "K = KLtr[deg]\t\t\t\t\t#the HPK with degree 5\n",
    "K = kernel_normalization(K)\t\t#normalize the kernel K (useless in the case of HPK computed on normalized data)\n",
    "\n",
    "score_margin = margin(K,Ytr)\t#the distance between the positive and negative classes in the kernel space\n",
    "score_radius = radius(K)\t\t#the radius of the Einimum Enclosing Ball containing data in the kernel space\n",
    "score_ratio  = ratio (K,Ytr)\t#the radius/margin ratio defined as (radius**2/margin**2)/n_examples\n",
    "#the ratio can be also computed as score_radius**2/score_margin**2/len(Ytr)\n",
    "score_trace  = trace (K)\t\t#the trace of the kernel matrix\n",
    "score_froben = frobenius(K)\t\t#the Frobenius norm of a kernel matrix\n",
    "print ('done')\n",
    "print ('results of the %d-degree HP kernel:' % deg)\n",
    "print ('margin: %.4f, radius: %.4f, radiu-margin ratio: %.4f,' % (score_margin, score_radius, score_ratio))\n",
    "print ('trace: %.4f, frobenius norm: %.4f' % (score_trace, score_froben))\n",
    "\n",
    "\n",
    "#evaluate the empirical complexity of the kernel matrix, i.e. the Spectral Ratio\n",
    "# Michele Donini, Fabio Aiolli: \"Learning deep kernels in the space of dot-product polynomials\". Machine Learning (2017)\n",
    "# Ivano Lauriola, Mirko Polato, Fabio Aiolli: \"The Minimum Effort Maximum Output principle applied to Multiple Kernel Learning\". ESANN (2018)\n",
    "print ('computing Spectral Ratio...', end='')\n",
    "from MKLpy.metrics import spectral_ratio\n",
    "SR = spectral_ratio(K, norm=True)\n",
    "print ('%.4f' % SR)"
   ]
  },
  {
   "cell_type": "code",
   "execution_count": 12,
   "metadata": {},
   "outputs": [],
   "source": [
    "from MKLpy import generators\n",
    "# 10 homogeneous poly. kernels \n",
    "KL_hpk = generators.HPK_generator(X, degrees=range(1,11))\n",
    "\n",
    "# 3 rbf kernels\n",
    "KL_rbf = generators.RBF_generator(X, gamma=[.001, .01, .1])\n",
    "\n",
    "# from MKLpy.metrics import pairwise\n",
    "# # 2 custom kernels (linear and polynomial)\n",
    "# ker_functions = [pairwise.linear_kernel, lambda X,Z : pairwise.polynomial_kernel(X,Z, degree=5)]\n",
    "# KL_mix = generators.Lambda_generator(X, ker_functions)"
   ]
  },
  {
   "cell_type": "code",
   "execution_count": 17,
   "metadata": {},
   "outputs": [],
   "source": [
    "import jsonpickle\n",
    "obj_str = jsonpickle.encode(KL_rbf)\n",
    "restored_obj = jsonpickle.decode(obj_str)"
   ]
  },
  {
   "cell_type": "code",
   "execution_count": 24,
   "metadata": {},
   "outputs": [
    {
     "data": {
      "text/plain": [
       "3"
      ]
     },
     "execution_count": 24,
     "metadata": {},
     "output_type": "execute_result"
    }
   ],
   "source": []
  },
  {
   "cell_type": "code",
   "execution_count": 13,
   "metadata": {},
   "outputs": [],
   "source": [
    "KL = generators.RBF_generator(X, gamma=[.001, .01, .1])  #our list of base kernels (or a generator)\n",
    "\n",
    "#usually, base kernels are normalize to prevent scaling and numerical issues\n",
    "from MKLpy.preprocessing import kernel_normalization\n",
    "KL_norm = [kernel_normalization(K) for K in KL]\n",
    "\n",
    "#let us divide trainig (70%) and test (30%) examples\n",
    "from MKLpy.model_selection import train_test_split\n",
    "KLtr, KLte, Ytr, Yte = train_test_split(KL, Y, test_size=.8, random_state=42)"
   ]
  },
  {
   "cell_type": "code",
   "execution_count": 18,
   "metadata": {},
   "outputs": [],
   "source": [
    "from MKLpy.algorithms import AverageMKL\n",
    "#AverageMKL simply computes the average of input kernels\n",
    "#It looks bad but it is a really strong baseline in MKL ;)\n",
    "mkl = AverageMKL().fit(KLtr, Ytr)       #combine kernels and train the classifier\n",
    "y_preds  = mkl.predict(KLte)            #predict the output class\n",
    "y_scores = mkl.decision_function(KLte)  #returns the projection on the distance vector"
   ]
  },
  {
   "cell_type": "code",
   "execution_count": 19,
   "metadata": {},
   "outputs": [],
   "source": [
    "from MKLpy.algorithms import AverageMKL\n",
    "%timeit\n",
    "mkl = AverageMKL(multiclass_strategy='ova').fit(KLtr, Ytr)"
   ]
  },
  {
   "cell_type": "code",
   "execution_count": 20,
   "metadata": {},
   "outputs": [],
   "source": [
    "from MKLpy.algorithms import EasyMKL\n",
    "from MKLpy.multiclass import OneVsRestMKLClassifier, OneVsOneMKLClassifier\n",
    "mkl = EasyMKL(lam=.1)\n",
    "clf = OneVsRestMKLClassifier(mkl).fit(KLtr, Ytr)"
   ]
  },
  {
   "cell_type": "code",
   "execution_count": null,
   "metadata": {},
   "outputs": [],
   "source": []
  },
  {
   "cell_type": "code",
   "execution_count": 27,
   "metadata": {},
   "outputs": [],
   "source": [
    "restored_obj.classes_\n",
    "from collections import defaultdict\n",
    "dict_list = defaultdict(dict)"
   ]
  },
  {
   "cell_type": "code",
   "execution_count": 21,
   "metadata": {},
   "outputs": [
    {
     "ename": "NameError",
     "evalue": "name 'dict_list' is not defined",
     "output_type": "error",
     "traceback": [
      "\u001b[0;31m---------------------------------------------------------------------------\u001b[0m",
      "\u001b[0;31mNameError\u001b[0m                                 Traceback (most recent call last)",
      "\u001b[0;32m<ipython-input-21-fb9fc54d356f>\u001b[0m in \u001b[0;36m<module>\u001b[0;34m\u001b[0m\n\u001b[1;32m     10\u001b[0m     \u001b[0mmkl\u001b[0m \u001b[0;34m=\u001b[0m \u001b[0mEasyMKL\u001b[0m\u001b[0;34m(\u001b[0m\u001b[0mlam\u001b[0m\u001b[0;34m=\u001b[0m\u001b[0mlam\u001b[0m\u001b[0;34m,\u001b[0m \u001b[0mlearner\u001b[0m\u001b[0;34m=\u001b[0m\u001b[0msvm\u001b[0m\u001b[0;34m)\u001b[0m\u001b[0;34m\u001b[0m\u001b[0;34m\u001b[0m\u001b[0m\n\u001b[1;32m     11\u001b[0m     \u001b[0mscores\u001b[0m \u001b[0;34m=\u001b[0m \u001b[0mcross_val_score\u001b[0m\u001b[0;34m(\u001b[0m\u001b[0mKL\u001b[0m\u001b[0;34m,\u001b[0m \u001b[0mY\u001b[0m\u001b[0;34m,\u001b[0m \u001b[0mmkl\u001b[0m\u001b[0;34m,\u001b[0m \u001b[0mn_folds\u001b[0m\u001b[0;34m=\u001b[0m\u001b[0;36m3\u001b[0m\u001b[0;34m,\u001b[0m \u001b[0mscoring\u001b[0m\u001b[0;34m=\u001b[0m\u001b[0;34m'roc_auc'\u001b[0m\u001b[0;34m)\u001b[0m\u001b[0;34m\u001b[0m\u001b[0;34m\u001b[0m\u001b[0m\n\u001b[0;32m---> 12\u001b[0;31m     \u001b[0mdict_list\u001b[0m\u001b[0;34m[\u001b[0m\u001b[0mlam\u001b[0m\u001b[0;34m]\u001b[0m\u001b[0;34m[\u001b[0m \u001b[0mC\u001b[0m\u001b[0;34m]\u001b[0m\u001b[0;34m=\u001b[0m \u001b[0mscores\u001b[0m\u001b[0;34m\u001b[0m\u001b[0;34m\u001b[0m\u001b[0m\n\u001b[0m\u001b[1;32m     13\u001b[0m \u001b[0;34m\u001b[0m\u001b[0m\n",
      "\u001b[0;31mNameError\u001b[0m: name 'dict_list' is not defined"
     ]
    }
   ],
   "source": [
    "from MKLpy.model_selection import cross_val_score\n",
    "from MKLpy.algorithms import EasyMKL\n",
    "from sklearn.svm import SVC\n",
    "from itertools import product\n",
    "lam_values = [0, 0.1, 0.2,0.8, 1]\n",
    "C_values   = [0.01, 1,10, 50, 100]\n",
    "test_list = list()\n",
    "for lam, C in product(lam_values, C_values):    \n",
    "    svm = SVC(C=C)\n",
    "    mkl = EasyMKL(lam=lam, learner=svm)\n",
    "    scores = cross_val_score(KL, Y, mkl, n_folds=3, scoring='roc_auc')\n",
    "    dict_list[lam][ C]= scores\n",
    "   "
   ]
  },
  {
   "cell_type": "code",
   "execution_count": 54,
   "metadata": {},
   "outputs": [],
   "source": [
    "obj_str = jsonpickle.encode(mkl)"
   ]
  },
  {
   "cell_type": "code",
   "execution_count": 55,
   "metadata": {},
   "outputs": [],
   "source": [
    "restored_obj = jsonpickle.decode(obj_str)"
   ]
  },
  {
   "cell_type": "code",
   "execution_count": 56,
   "metadata": {},
   "outputs": [
    {
     "data": {
      "text/plain": [
       "EasyMKL(lam=1, learner=SVC(C=100, kernel='precomputed'), max_iter=-1,\n",
       "        multiclass_strategy='ova', tolerance=1e-07, verbose=False)"
      ]
     },
     "execution_count": 56,
     "metadata": {},
     "output_type": "execute_result"
    }
   ],
   "source": [
    "restored_obj"
   ]
  },
  {
   "cell_type": "code",
   "execution_count": 41,
   "metadata": {},
   "outputs": [],
   "source": [
    "import os\n",
    "test_location = '/media/ak/DataOnly/'\n",
    "file_name = os.path.join(test_location,'test_file.json')"
   ]
  },
  {
   "cell_type": "code",
   "execution_count": 57,
   "metadata": {},
   "outputs": [],
   "source": [
    "f = open(file_name, 'w')\n",
    "f.write(obj_str)\n",
    "f.close()"
   ]
  },
  {
   "cell_type": "code",
   "execution_count": 58,
   "metadata": {},
   "outputs": [],
   "source": [
    "f=open(file_name)"
   ]
  },
  {
   "cell_type": "code",
   "execution_count": 59,
   "metadata": {},
   "outputs": [],
   "source": [
    "json_str =f.read()"
   ]
  },
  {
   "cell_type": "code",
   "execution_count": 60,
   "metadata": {},
   "outputs": [],
   "source": [
    "obj =jsonpickle.decode(json_str)"
   ]
  },
  {
   "cell_type": "code",
   "execution_count": 61,
   "metadata": {},
   "outputs": [
    {
     "data": {
      "text/plain": [
       "tensor([0, 1])"
      ]
     },
     "execution_count": 61,
     "metadata": {},
     "output_type": "execute_result"
    }
   ],
   "source": [
    "obj.classes_"
   ]
  },
  {
   "cell_type": "code",
   "execution_count": 63,
   "metadata": {},
   "outputs": [],
   "source": [
    "def jsonpickle_store_obj(obj, filename_location):\n",
    "    \"\"\"\n",
    "    function to encode an object in jsonpickle and store it\n",
    "    obj: object to be encoded in jsonpickle\n",
    "    location: where to store it\n",
    "    \n",
    "    \"\"\"\n",
    "    obj_str = jsonpickle.encode(obj)\n",
    "    f = open(filename_location, 'w')\n",
    "    f.write(obj_str)\n",
    "    f.close()\n",
    "    print('encoded and saved in :', filename_location)"
   ]
  },
  {
   "cell_type": "code",
   "execution_count": 64,
   "metadata": {},
   "outputs": [
    {
     "name": "stdout",
     "output_type": "stream",
     "text": [
      "encoded and saved in : /media/ak/DataOnly/test_file.json\n"
     ]
    }
   ],
   "source": [
    "jsonpickle_store_obj(mkl, file_name)"
   ]
  },
  {
   "cell_type": "code",
   "execution_count": 69,
   "metadata": {},
   "outputs": [],
   "source": [
    "def jsonpickle_load_decode(filename_location):\n",
    "    f = open(filename_location)\n",
    "    json_str = f.read()\n",
    "    obj = jsonpickle.decode(json_str)\n",
    "    return obj\n",
    "    "
   ]
  },
  {
   "cell_type": "code",
   "execution_count": 70,
   "metadata": {},
   "outputs": [],
   "source": [
    "thawed_obj =jsonpickle_load_decode('/media/ak/DataOnly/test_file.json')"
   ]
  },
  {
   "cell_type": "code",
   "execution_count": null,
   "metadata": {},
   "outputs": [],
   "source": []
  },
  {
   "cell_type": "code",
   "execution_count": null,
   "metadata": {},
   "outputs": [],
   "source": []
  }
 ],
 "metadata": {
  "kernelspec": {
   "display_name": "Python 3",
   "language": "python",
   "name": "python3"
  },
  "language_info": {
   "codemirror_mode": {
    "name": "ipython",
    "version": 3
   },
   "file_extension": ".py",
   "mimetype": "text/x-python",
   "name": "python",
   "nbconvert_exporter": "python",
   "pygments_lexer": "ipython3",
   "version": "3.6.9"
  }
 },
 "nbformat": 4,
 "nbformat_minor": 4
}
