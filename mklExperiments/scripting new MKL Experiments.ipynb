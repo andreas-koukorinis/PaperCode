{
 "cells": [
  {
   "cell_type": "code",
   "execution_count": 6,
   "metadata": {},
   "outputs": [],
   "source": [
    "import sys\n",
    "sys.path.append('/home/ak/Documents/Research/PaperCode/singlekernelclf/')\n",
    "sys.path.append('/home/ak/Documents/Research/PaperCode/MultiKernelLearning')\n",
    "%reload_ext memory_profiler\n"
   ]
  },
  {
   "cell_type": "code",
   "execution_count": 7,
   "metadata": {},
   "outputs": [],
   "source": [
    "from MKLpy.preprocessing import normalization, rescale_01\n",
    "from MKLpy.metrics import pairwise\n",
    "from MKLpy.metrics import margin, radius, ratio, trace, frobenius\n",
    "from MKLpy.preprocessing import kernel_normalization\n",
    "from MKLpy import generators\n",
    "from MKLpy.algorithms import AverageMKL, EasyMKL\n",
    "from sklearn.svm import SVC\n",
    "from MKLpy.multiclass import OneVsRestMKLClassifier, OneVsOneMKLClassifier\n",
    "from sklearn.metrics import accuracy_score, roc_auc_score"
   ]
  },
  {
   "cell_type": "code",
   "execution_count": 8,
   "metadata": {},
   "outputs": [],
   "source": [
    "from mkl_data_processing import storage_location,cross_validation_results_location\n",
    "from mkl_model_cross_validation import load_pickled_in_filename"
   ]
  },
  {
   "cell_type": "code",
   "execution_count": 9,
   "metadata": {},
   "outputs": [],
   "source": [
    "import gc #for garbage collection"
   ]
  },
  {
   "cell_type": "code",
   "execution_count": 10,
   "metadata": {},
   "outputs": [],
   "source": [
    "from sklearn.preprocessing import StandardScaler\n",
    "from sklearn.model_selection import train_test_split\n",
    "from sklearn.metrics import precision_recall_fscore_support\n",
    "import pandas as pd\n",
    "import numpy as np\n",
    "import datetime as dt\n",
    "from sklearn.preprocessing import MinMaxScaler\n",
    "from collections import defaultdict\n",
    "import fileutils\n",
    "import psutil\n",
    "import pickle\n",
    "import fnmatch\n",
    "import os\n",
    "import torch\n",
    "import time\n",
    "import clfutils\n",
    "from sklearn.metrics import roc_auc_score, accuracy_score, f1_score, recall_score, precision_score, hamming_loss\n",
    "import new_alternate_single_svm as nalsvm"
   ]
  },
  {
   "cell_type": "code",
   "execution_count": null,
   "metadata": {},
   "outputs": [],
   "source": []
  },
  {
   "cell_type": "code",
   "execution_count": 12,
   "metadata": {},
   "outputs": [],
   "source": [
    "def load_pickled_in_filename(file):\n",
    "    # load a simple pickled file and return it. its a bit different to the method used for the dictionary as this\n",
    "    # is pure Python 3.x\n",
    "    pickle_in = open(file, 'rb')\n",
    "    return pickle.load(pickle_in)\n"
   ]
  },
  {
   "cell_type": "code",
   "execution_count": 13,
   "metadata": {},
   "outputs": [],
   "source": [
    "import os\n",
    "import pickle\n",
    "file_location = '/media/ak/My Passport/Data/FinDataReal/JointLocationsAlternateDataClean/CCL.L'\n",
    "files_pkl = os.listdir(file_location)"
   ]
  },
  {
   "cell_type": "code",
   "execution_count": 14,
   "metadata": {},
   "outputs": [],
   "source": [
    "file_to_be_loaded = os.path.join(file_location, files_pkl[3])"
   ]
  },
  {
   "cell_type": "code",
   "execution_count": 15,
   "metadata": {},
   "outputs": [
    {
     "data": {
      "text/plain": [
       "{'20170704': [(1, 100, [1.0, 1.0, 0.32420091324200917])],\n",
       " '20170705': [(1,\n",
       "   100,\n",
       "   [0.9628099173553719, 0.9813278008298755, 0.8921161825726142])],\n",
       " '20170711': [(1,\n",
       "   100,\n",
       "   [0.7952127659574468, 0.9533333333333333, 0.9986666666666666])],\n",
       " '20170818': [(1,\n",
       "   100,\n",
       "   [0.858974358974359, 0.41025641025641024, 0.3137614678899082])]}"
      ]
     },
     "execution_count": 15,
     "metadata": {},
     "output_type": "execute_result"
    }
   ],
   "source": [
    "load_pickled_in_filename(file_to_be_loaded)"
   ]
  },
  {
   "cell_type": "code",
   "execution_count": 16,
   "metadata": {},
   "outputs": [
    {
     "name": "stdout",
     "output_type": "stream",
     "text": [
      "ECM.L\n",
      "/media/ak/My Passport/Data/FinDataReal/JointLocationsAlternateDataClean/CV_Results/ECM.L\n",
      "SHP.L\n",
      "/media/ak/My Passport/Data/FinDataReal/JointLocationsAlternateDataClean/CV_Results/SHP.L\n"
     ]
    }
   ],
   "source": [
    " for symbol in ['ECM.L','SHP.L']:\n",
    "        print(symbol) # which symbol - unnecessary at this point\n",
    "        cross_validation_data_location = cross_validation_results_location(symbol)\n",
    "        print(cross_validation_data_location)\n",
    "        #clean_data_location = storage_location(symbol)"
   ]
  },
  {
   "cell_type": "code",
   "execution_count": 17,
   "metadata": {},
   "outputs": [],
   "source": [
    "pkl_files_cross_val = os.listdir(cross_validation_data_location)"
   ]
  },
  {
   "cell_type": "code",
   "execution_count": 18,
   "metadata": {},
   "outputs": [],
   "source": [
    "idx =1\n",
    "loaded_pickle =load_pickled_in_filename(os.path.join(cross_validation_data_location,pkl_files_cross_val[idx]))"
   ]
  },
  {
   "cell_type": "code",
   "execution_count": 22,
   "metadata": {},
   "outputs": [],
   "source": [
    "fitted_model_dates = [loaded_pickle.columns.values[f][1] for f,_ in enumerate(loaded_pickle.columns.values)]"
   ]
  },
  {
   "cell_type": "code",
   "execution_count": 47,
   "metadata": {},
   "outputs": [],
   "source": [
    "loaded_dict= loaded_pickle.to_dict()"
   ]
  },
  {
   "cell_type": "code",
   "execution_count": 58,
   "metadata": {},
   "outputs": [],
   "source": [
    "keys =list(loaded_dict.keys())"
   ]
  },
  {
   "cell_type": "code",
   "execution_count": 61,
   "metadata": {},
   "outputs": [],
   "source": [
    "symbol = keys[0][0]\n",
    "date = keys[0][1]\n",
    "label_type = keys[0][2]"
   ]
  },
  {
   "cell_type": "code",
   "execution_count": 74,
   "metadata": {},
   "outputs": [
    {
     "data": {
      "text/plain": [
       "0.9920948616600791"
      ]
     },
     "execution_count": 74,
     "metadata": {},
     "output_type": "execute_result"
    }
   ],
   "source": [
    "loaded_pickle[keys[0]][0].values[0][1]"
   ]
  },
  {
   "cell_type": "code",
   "execution_count": 28,
   "metadata": {},
   "outputs": [],
   "source": [
    " #{k1 + k2 : v for k1, v1 in d.iteritems() for k2, v in v1.iteritems() } \n",
    "example_dict = {k1 + k2 : v for k1, v1 in loaded_pickle.iteritems() for k2, v in v1.iteritems() } "
   ]
  },
  {
   "cell_type": "code",
   "execution_count": 63,
   "metadata": {},
   "outputs": [],
   "source": [
    "\n",
    "results_df = pd.DataFrame.from_dict(example_dict )\n",
    "    \n"
   ]
  },
  {
   "cell_type": "code",
   "execution_count": 33,
   "metadata": {},
   "outputs": [],
   "source": [
    "KeysForLabelsFive  = [f for f in list(example_dict.keys()) if str('LabelsAlternateFive') in f]\n",
    "KeysForLabelsFour  = [f for f in list(example_dict.keys()) if str('LabelsAlternateFour') in f]\n"
   ]
  },
  {
   "cell_type": "code",
   "execution_count": 74,
   "metadata": {},
   "outputs": [],
   "source": [
    "ECM_results = [f for f in results_df.columns.values if str('ECM.L') in f]\n",
    "SHP_results = [f for f in results_df.columns.values if str('SHP.L') in f]\n"
   ]
  },
  {
   "cell_type": "code",
   "execution_count": null,
   "metadata": {},
   "outputs": [],
   "source": []
  },
  {
   "cell_type": "code",
   "execution_count": 86,
   "metadata": {},
   "outputs": [],
   "source": [
    "ECM_results_Label4 = [f for f in ECM_results if str('LabelsAlternateFour') in f]\n",
    "ECM_results_Label5 = [f for f in ECM_results if str('LabelsAlternateFive') in f]"
   ]
  },
  {
   "cell_type": "code",
   "execution_count": 90,
   "metadata": {},
   "outputs": [
    {
     "data": {
      "text/plain": [
       "ECM.L  20170704  LabelsAlternateFour  0.0  0.01      0.378403\n",
       "                                           1.00      0.404097\n",
       "                                           10.00     0.399031\n",
       "                                           100.00    0.410935\n",
       "                                      0.1  0.01      0.330443\n",
       "                                                       ...   \n",
       "       20180419  LabelsAlternateFour  0.2  100.00    0.692779\n",
       "                                      1.0  0.01      0.692779\n",
       "                                           1.00      0.692779\n",
       "                                           10.00     0.692779\n",
       "                                           100.00    0.692779\n",
       "Length: 992, dtype: float64"
      ]
     },
     "execution_count": 90,
     "metadata": {},
     "output_type": "execute_result"
    }
   ],
   "source": [
    "results_df[ECM_results_Label4].mean(axis=0)"
   ]
  },
  {
   "cell_type": "code",
   "execution_count": 87,
   "metadata": {},
   "outputs": [
    {
     "data": {
      "text/plain": [
       "ECM.L  20170705  LabelsAlternateFive  0.0  0.01      0.990793\n",
       "                                           1.00      0.990793\n",
       "                                           10.00     0.990793\n",
       "                                           100.00    0.990793\n",
       "                                      0.1  0.01      0.990793\n",
       "                                                       ...   \n",
       "       20180411  LabelsAlternateFive  0.2  100.00    0.997470\n",
       "                                      1.0  0.01      0.997470\n",
       "                                           1.00      0.997470\n",
       "                                           10.00     0.997470\n",
       "                                           100.00    0.997470\n",
       "Length: 928, dtype: float64"
      ]
     },
     "execution_count": 87,
     "metadata": {},
     "output_type": "execute_result"
    }
   ],
   "source": [
    "results_df[ECM_results_Label5].mean(axis=0)"
   ]
  },
  {
   "cell_type": "code",
   "execution_count": 93,
   "metadata": {},
   "outputs": [],
   "source": [
    "dates_ECM_label_5 = [f[1] for f in ECM_results_Label5]"
   ]
  },
  {
   "cell_type": "code",
   "execution_count": 96,
   "metadata": {},
   "outputs": [],
   "source": [
    "dates = np.unique(dates_ECM_label_5)"
   ]
  },
  {
   "cell_type": "code",
   "execution_count": 97,
   "metadata": {},
   "outputs": [
    {
     "data": {
      "text/plain": [
       "array(['20170705', '20170710', '20170711', '20170712', '20170717',\n",
       "       '20170718', '20170719', '20170720', '20170725', '20170726',\n",
       "       '20170728', '20170802', '20170803', '20170807', '20170808',\n",
       "       '20170809', '20170810', '20170811', '20170814', '20170815',\n",
       "       '20170816', '20170821', '20170822', '20170823', '20170824',\n",
       "       '20170829', '20170830', '20170901', '20170905', '20170906',\n",
       "       '20170907', '20170911', '20170912', '20170914', '20170918',\n",
       "       '20170920', '20170921', '20170922', '20170925', '20170926',\n",
       "       '20170929', '20171004', '20171009', '20171010', '20171016',\n",
       "       '20171017', '20171023', '20171024', '20171025', '20171030',\n",
       "       '20171031', '20180202', '20180206', '20180216', '20180220',\n",
       "       '20180226', '20180227', '20180411'], dtype='<U8')"
      ]
     },
     "execution_count": 97,
     "metadata": {},
     "output_type": "execute_result"
    }
   ],
   "source": []
  },
  {
   "cell_type": "code",
   "execution_count": null,
   "metadata": {},
   "outputs": [],
   "source": []
  }
 ],
 "metadata": {
  "kernelspec": {
   "display_name": "Python 3",
   "language": "python",
   "name": "python3"
  },
  "language_info": {
   "codemirror_mode": {
    "name": "ipython",
    "version": 3
   },
   "file_extension": ".py",
   "mimetype": "text/x-python",
   "name": "python",
   "nbconvert_exporter": "python",
   "pygments_lexer": "ipython3",
   "version": "3.6.9"
  }
 },
 "nbformat": 4,
 "nbformat_minor": 4
}
