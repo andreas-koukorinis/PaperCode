{
 "cells": [
  {
   "cell_type": "code",
   "execution_count": 2,
   "metadata": {},
   "outputs": [
    {
     "data": {
      "text/plain": [
       "'\\nThis is a snippet of code containing basic functions:\\nto clean up the model dates from cross validation only\\n'"
      ]
     },
     "execution_count": 2,
     "metadata": {},
     "output_type": "execute_result"
    }
   ],
   "source": [
    "'''\n",
    "This is a snippet of code containing basic functions:\n",
    "to clean up the model dates from cross validation only\n",
    "'''"
   ]
  },
  {
   "cell_type": "code",
   "execution_count": null,
   "metadata": {},
   "outputs": [],
   "source": []
  },
  {
   "cell_type": "code",
   "execution_count": 3,
   "metadata": {},
   "outputs": [],
   "source": [
    "# append all the necessary paths\n",
    "import sys\n",
    "sys.path.append('/home/ak/Documents/Research/PaperCode/singlekernelclf/')\n",
    "sys.path.append('/home/ak/Documents/Research/PaperCode/MultiKernelLearning')\n",
    "%reload_ext memory_profiler\n",
    "import new_alternate_single_svm as nalsvm\n",
    "import mkl_data_processing as mkl_dp\n",
    "import mkl_model_cross_validation as mkl_cv\n",
    "import os\n",
    "import numpy as np\n",
    "import simplejson\n",
    "import pickle as pickle"
   ]
  },
  {
   "cell_type": "code",
   "execution_count": 4,
   "metadata": {},
   "outputs": [],
   "source": [
    "def pickle_dump_obj_to_filename(destinationPath,symbol,fileName, obj ):\n",
    "    pickle_out_filename = os.path.join(destinationPath, \"_\".join((symbol, fileName)))\n",
    "    pickle_out = open(pickle_out_filename, 'wb')\n",
    "    pickle.dump(obj, pickle_out)\n",
    "    pickle_out.close()\n",
    "    print('saved', pickle_out_filename)\n",
    "# results/locations etc\n",
    "def return_cross_val_symbol_path(symbol):\n",
    "    \"\"\"\n",
    "    returns the path for cross validation results of a symbol for post processing\n",
    "    if the symbol in the cv_results sub-folder\n",
    "    input: symbol\n",
    "    returns: symbol_cross val path\n",
    "    \"\"\"\n",
    "    symbols_available = [f for f in os.listdir('/media/ak/My Passport/Data/FinDataReal/JointLocationsAlternateDataClean/CV_Results/') if str('.L') in f]\n",
    "    if symbol in (symbols_available):\n",
    "        cross_val_location = mkl_dp.cross_validation_results_location(symbol)\n",
    "        print(cross_val_location)\n",
    "    else:\n",
    "        print('symbol not in list')\n",
    "    return cross_val_location\n",
    "def model_dates_list(cross_val_location):\n",
    "    pkl_files = os.listdir(cross_val_location)\n",
    "    modelDates = sorted(np.unique([pkl_files[f].split(\"_\")[1] for f,_ in enumerate(pkl_files)]))\n",
    "    return list(sorted(modelDates))"
   ]
  },
  {
   "cell_type": "code",
   "execution_count": 6,
   "metadata": {},
   "outputs": [
    {
     "data": {
      "text/plain": [
       "['AAL.L',\n",
       " 'BATS.L',\n",
       " 'CCL.L',\n",
       " 'CPG.L',\n",
       " 'CV_Results',\n",
       " 'DMGOa.L',\n",
       " 'ECM.L',\n",
       " 'GKN.L',\n",
       " 'OOS_Results',\n",
       " 'PRU.L',\n",
       " 'PSON.L',\n",
       " 'RB.L',\n",
       " 'RDSa.L',\n",
       " 'RDSb.L',\n",
       " 'RSA.L',\n",
       " 'RTO.L',\n",
       " 'SDR.L',\n",
       " 'SHP.L',\n",
       " 'SMIN.L',\n",
       " 'STAN.L']"
      ]
     },
     "execution_count": 6,
     "metadata": {},
     "output_type": "execute_result"
    }
   ],
   "source": [
    "symbols = [f for f in os.listdir('/media/ak/My Passport/Data/FinDataReal/JointLocationsAlternateDataClean')]\n",
    "symbols"
   ]
  },
  {
   "cell_type": "code",
   "execution_count": 7,
   "metadata": {},
   "outputs": [
    {
     "data": {
      "text/plain": [
       "['AAL.L',\n",
       " 'BATS.L',\n",
       " 'ECM.L',\n",
       " 'GKN.L',\n",
       " 'PSON.L',\n",
       " 'RDSa.L',\n",
       " 'RDSb.L',\n",
       " 'RSA.L',\n",
       " 'SHP.L',\n",
       " 'STAN.L']"
      ]
     },
     "execution_count": 7,
     "metadata": {},
     "output_type": "execute_result"
    }
   ],
   "source": [
    "symbols_available = [f for f in os.listdir('/media/ak/My Passport/Data/FinDataReal/JointLocationsAlternateDataClean/CV_Results/') if str('.L') in f]\n",
    "# symbols that are available for post cross validation processing\n",
    "symbols_available"
   ]
  },
  {
   "cell_type": "code",
   "execution_count": 42,
   "metadata": {},
   "outputs": [
    {
     "name": "stdout",
     "output_type": "stream",
     "text": [
      "/media/ak/My Passport/Data/FinDataReal/JointLocationsAlternateDataClean/CV_Results/ECM.L\n"
     ]
    },
    {
     "data": {
      "text/plain": [
       "'/media/ak/My Passport/Data/FinDataReal/JointLocationsAlternateDataClean/CV_Results/ECM.L'"
      ]
     },
     "execution_count": 42,
     "metadata": {},
     "output_type": "execute_result"
    }
   ],
   "source": [
    "return_cross_val_symbol_path('ECM.L')\n"
   ]
  },
  {
   "cell_type": "code",
   "execution_count": 40,
   "metadata": {},
   "outputs": [],
   "source": [
    "idx = 2\n",
    "open_sample_pkl_file = os.path.join(cross_val_location, pkl_files[idx]) # pick a set of cross-validation results\n",
    "df = mkl_cv.load_pickled_in_filename(open_sample_pkl_file)"
   ]
  },
  {
   "cell_type": "code",
   "execution_count": 22,
   "metadata": {},
   "outputs": [],
   "source": [
    "#  model_fit_date = pkl_files[idx].split(\"_\")[1]\n",
    "Model_Date =open_sample_pkl_file.split(\"_\")[2] #<-- double check what is happening here"
   ]
  },
  {
   "cell_type": "code",
   "execution_count": 23,
   "metadata": {},
   "outputs": [],
   "source": [
    "df.reset_index(inplace=True)  "
   ]
  },
  {
   "cell_type": "code",
   "execution_count": 24,
   "metadata": {},
   "outputs": [],
   "source": [
    "label_number_str = 'LabelsAlternateFive'\n",
    "ECM_Label_Five = [f for f in df.keys() if str('ECM.L') in f and str(label_number_str) in f]"
   ]
  },
  {
   "cell_type": "code",
   "execution_count": 25,
   "metadata": {},
   "outputs": [],
   "source": [
    "ECM_Label_Five_model_dates = [ECM_Label_Five[g][1] for g,_ in enumerate(ECM_Label_Five)]"
   ]
  },
  {
   "cell_type": "code",
   "execution_count": null,
   "metadata": {},
   "outputs": [],
   "source": [
    "ModelDates = sorted(np.unique(ECM_Label_Five_model_dates))\n",
    "fileName =  \"_\".join((label_number_str, 'ModelDates.pkl'))\n",
    "pickle_dump_filename(oos_results_location,symbol,fileName, ModelDates )"
   ]
  },
  {
   "cell_type": "code",
   "execution_count": null,
   "metadata": {},
   "outputs": [],
   "source": [
    "fileName"
   ]
  },
  {
   "cell_type": "code",
   "execution_count": null,
   "metadata": {},
   "outputs": [],
   "source": [
    "def load_cross_validation_results(idx, symbol):\n",
    "    cross_val_location = mkl_dp.cross_validation_results_location(str(symbol))\n",
    "    open_sample_pkl_file = os.path.join(cross_val_location, os.listdir(cross_val_location)[idx])\n",
    "    df = mkl_cv.load_pickled_in_filename(open_sample_pkl_file)\n",
    "    return df\n",
    "    "
   ]
  },
  {
   "cell_type": "code",
   "execution_count": null,
   "metadata": {},
   "outputs": [],
   "source": [
    "test =load_cross_validation_results(12, 'ECM.L')"
   ]
  },
  {
   "cell_type": "code",
   "execution_count": null,
   "metadata": {},
   "outputs": [],
   "source": []
  },
  {
   "cell_type": "code",
   "execution_count": null,
   "metadata": {},
   "outputs": [],
   "source": []
  }
 ],
 "metadata": {
  "kernelspec": {
   "display_name": "Python 3",
   "language": "python",
   "name": "python3"
  },
  "language_info": {
   "codemirror_mode": {
    "name": "ipython",
    "version": 3
   },
   "file_extension": ".py",
   "mimetype": "text/x-python",
   "name": "python",
   "nbconvert_exporter": "python",
   "pygments_lexer": "ipython3",
   "version": "3.6.9"
  }
 },
 "nbformat": 4,
 "nbformat_minor": 4
}
