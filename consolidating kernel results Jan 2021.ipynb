{
 "cells": [
  {
   "cell_type": "code",
   "execution_count": 23,
   "metadata": {},
   "outputs": [],
   "source": [
    "\n",
    "import os\n",
    "import pickle\n",
    "import pandas as pd\n",
    "import sys\n",
    "import sys\n",
    "from memory_profiler import profile\n",
    "import pandas as pd\n",
    "import numpy as np\n",
    "sys.path.append('/home/ak/Documents/Research/PaperCode/MultiKernelLearning')\n",
    "sys.path.append('/home/ak/Documents/Research/PaperCode/singlekernelclf/')\n",
    "import jsonpickle\n",
    "from collections import defaultdict\n",
    "from sklearn.svm import SVC\n",
    "from collections import OrderedDict\n",
    "import os\n",
    "from sklearn.metrics import accuracy_score\n",
    "import torch\n",
    "\n",
    "\n",
    "from fileutils import new_feature_utils as nfu\n",
    "from fileutils.new_feature_utils import CreateMarketFeatures\n",
    "import multiprocessing\n",
    "import mkl_data_processing as mkldp\n",
    "from matplotlib.ticker import ScalarFormatter,AutoMinorLocator\n",
    "import matplotlib as mpl\n",
    "import matplotlib.pyplot as plt\n",
    "styleFiles = os.listdir(mpl.get_configdir())\n",
    "styleFileIdx = 0\n",
    "\n",
    "plt.style.use(os.path.join(mpl.get_configdir(), styleFiles[styleFileIdx]))\n",
    "    "
   ]
  },
  {
   "cell_type": "code",
   "execution_count": 33,
   "metadata": {},
   "outputs": [],
   "source": [
    "def open_pickle_filepath(pickle_file):\n",
    "    pickle_to_file = pickle.load(open(pickle_file, \"rb\"), encoding='latin1')\n",
    "\n",
    "    return pickle_to_file"
   ]
  },
  {
   "cell_type": "code",
   "execution_count": 24,
   "metadata": {},
   "outputs": [],
   "source": [
    "os.listdir('/media/ak/')\n",
    "T7 = os.path.join('/media/ak/', 'T7')\n",
    "LaCie = os.path.join('/media/ak/', 'LaCie')\n",
    "heuristic = os.path.join(T7, 'Heuristic')\n",
    "symbols =  os.listdir(heuristic)"
   ]
  },
  {
   "cell_type": "code",
   "execution_count": 25,
   "metadata": {},
   "outputs": [
    {
     "name": "stdout",
     "output_type": "stream",
     "text": [
      "0 APF.L\n",
      "1 AV.L\n",
      "2 AZN.L\n",
      "3 BARC.L\n",
      "4 CCL.L\n",
      "5 CEY.L\n",
      "6 CPG.L\n",
      "7 ITV.L\n",
      "8 KGF.L\n",
      "9 LAND.L\n",
      "10 MKS.L\n",
      "11 RBS.L\n",
      "12 REL.L\n",
      "13 SPT.L\n"
     ]
    }
   ],
   "source": [
    "symbols_dict =dict()\n",
    "for i, symbol in enumerate(sorted(symbols)):\n",
    "    print(i, symbol)\n",
    "    symbols_dict[symbol] = (os.listdir(os.path.join(heuristic, symbol)))"
   ]
  },
  {
   "cell_type": "code",
   "execution_count": 55,
   "metadata": {},
   "outputs": [
    {
     "name": "stdout",
     "output_type": "stream",
     "text": [
      "------- AV.L --------\n"
     ]
    }
   ],
   "source": [
    "symbolIDX = 1\n",
    "symbol = sorted(symbols)[symbolIDX]\n",
    "print(\"-------\", symbol, \"--------\")\n",
    "                 \n",
    "all_symbol_files = symbols_dict[sorted(symbols)[symbolIDX]] \n",
    "# this produces a list of files of model out of sample dates\n",
    "label_one_symbol_files = [f for f in all_symbol_files if str('Label_idx__1_') in f]\n",
    "label_two_symbol_files = [f for f in all_symbol_files if str('Label_idx__2_') in f]\n",
    "label_three_symbol_files = [f for f in all_symbol_files if str('Label_idx__3_') in f]\n",
    "label_four_symbol_files = [f for f in all_symbol_files if str('Label_idx__4_') in f]\n",
    "label_five_symbol_files = [f for f in all_symbol_files if str('Label_idx__5_') in f]\n",
    "label_six_symbol_files = [f for f in all_symbol_files if str('Label_idx__6_') in f]\n"
   ]
  },
  {
   "cell_type": "code",
   "execution_count": 103,
   "metadata": {},
   "outputs": [
    {
     "name": "stdout",
     "output_type": "stream",
     "text": [
      "312\n"
     ]
    }
   ],
   "source": [
    "fileIDX =1\n",
    "file_to_load = os.path.join(heuristic, symbol, label_four_symbol_files[fileIDX])\n",
    "loaded_dict = open_pickle_filepath(file_to_load)\n",
    "single_key_loaded_dict = list(loaded_dict.keys())\n",
    "loaded_key = single_key_loaded_dict[0]\n",
    "all_file_keys = list(loaded_dict[loaded_key].keys())\n",
    "print(len(all_file_keys))"
   ]
  },
  {
   "cell_type": "code",
   "execution_count": 105,
   "metadata": {},
   "outputs": [],
   "source": [
    "# take the values as a panda dataframe to get the results out\n",
    "list_of_dfs =[]\n",
    "for key in range(0, int(len(all_file_keys))):\n",
    "    list_of_dfs.append(pd.DataFrame.from_dict(loaded_dict[loaded_key][all_file_keys[key]].values()))"
   ]
  },
  {
   "cell_type": "code",
   "execution_count": 108,
   "metadata": {},
   "outputs": [
    {
     "data": {
      "text/plain": [
       "accuracy        0.730\n",
       "precision       0.665\n",
       "recall          0.730\n",
       "f1- weighted    0.670\n",
       "f1- micro       0.730\n",
       "f1- macro       0.460\n",
       "Hamming Loss    0.270\n",
       "dtype: float64"
      ]
     },
     "execution_count": 108,
     "metadata": {},
     "output_type": "execute_result"
    }
   ],
   "source": [
    "pd.concat(list_of_dfs).median(axis=0)"
   ]
  },
  {
   "cell_type": "code",
   "execution_count": null,
   "metadata": {},
   "outputs": [],
   "source": []
  }
 ],
 "metadata": {
  "kernelspec": {
   "display_name": "Python 3",
   "language": "python",
   "name": "python3"
  },
  "language_info": {
   "codemirror_mode": {
    "name": "ipython",
    "version": 3
   },
   "file_extension": ".py",
   "mimetype": "text/x-python",
   "name": "python",
   "nbconvert_exporter": "python",
   "pygments_lexer": "ipython3",
   "version": "3.6.13"
  },
  "latex_envs": {
   "LaTeX_envs_menu_present": true,
   "autoclose": false,
   "autocomplete": true,
   "bibliofile": "biblio.bib",
   "cite_by": "apalike",
   "current_citInitial": 1,
   "eqLabelWithNumbers": true,
   "eqNumInitial": 1,
   "hotkeys": {
    "equation": "Ctrl-E",
    "itemize": "Ctrl-I"
   },
   "labels_anchors": false,
   "latex_user_defs": false,
   "report_style_numbering": false,
   "user_envs_cfg": false
  }
 },
 "nbformat": 4,
 "nbformat_minor": 4
}
