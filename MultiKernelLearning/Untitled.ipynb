{
 "cells": [
  {
   "cell_type": "code",
   "execution_count": 5,
   "metadata": {},
   "outputs": [],
   "source": [
    "import os\n",
    "import pandas as pd\n",
    "import numpy as np\n",
    "import pickle as pickle"
   ]
  },
  {
   "cell_type": "code",
   "execution_count": 3,
   "metadata": {},
   "outputs": [],
   "source": [
    "expLocation = '/media/ak/DataOnly/ExperimentCommonLocs/MKLOOSPredictions/SimpleMKL'"
   ]
  },
  {
   "cell_type": "code",
   "execution_count": 8,
   "metadata": {},
   "outputs": [],
   "source": [
    "def open_pickle_filepath(pickle_file):\n",
    "    pickle_to_file = pickle.load(open(pickle_file, \"rb\"), encoding='latin1')\n",
    "\n",
    "    return pickle_to_file"
   ]
  },
  {
   "cell_type": "code",
   "execution_count": 15,
   "metadata": {},
   "outputs": [],
   "source": [
    "files =os.listdir(expLocation)"
   ]
  },
  {
   "cell_type": "code",
   "execution_count": 28,
   "metadata": {},
   "outputs": [],
   "source": [
    "test_file = files[1122]"
   ]
  },
  {
   "cell_type": "code",
   "execution_count": 29,
   "metadata": {},
   "outputs": [
    {
     "name": "stdout",
     "output_type": "stream",
     "text": [
      "/media/ak/DataOnly/ExperimentCommonLocs/MKLOOSPredictions/SimpleMKL/LAND.L_SimpleMKL_poly_kernel_Label_idx:220171027_OOS_Date_20180227.pkl\n"
     ]
    }
   ],
   "source": [
    "test_location = os.path.join(expLocation, test_file)\n",
    "print(test_location)"
   ]
  },
  {
   "cell_type": "code",
   "execution_count": 30,
   "metadata": {},
   "outputs": [
    {
     "data": {
      "text/plain": [
       "defaultdict(dict,\n",
       "            {'20171027': {'20171030': {'accuracy': 0.83,\n",
       "               'precision': 0.68,\n",
       "               'recall': 0.83,\n",
       "               'f1- weighted': 0.75,\n",
       "               'f1- micro': 0.83,\n",
       "               'f1- macro': 0.45,\n",
       "               'Hamming Loss': 0.17},\n",
       "              '20171031': {'accuracy': 0.81,\n",
       "               'precision': 0.65,\n",
       "               'recall': 0.81,\n",
       "               'f1- weighted': 0.72,\n",
       "               'f1- micro': 0.81,\n",
       "               'f1- macro': 0.45,\n",
       "               'Hamming Loss': 0.19},\n",
       "              '20180201': {'accuracy': 0.96,\n",
       "               'precision': 0.92,\n",
       "               'recall': 0.96,\n",
       "               'f1- weighted': 0.94,\n",
       "               'f1- micro': 0.96,\n",
       "               'f1- macro': 0.49,\n",
       "               'Hamming Loss': 0.04},\n",
       "              '20180202': {'accuracy': 0.96,\n",
       "               'precision': 0.92,\n",
       "               'recall': 0.96,\n",
       "               'f1- weighted': 0.94,\n",
       "               'f1- micro': 0.96,\n",
       "               'f1- macro': 0.49,\n",
       "               'Hamming Loss': 0.04},\n",
       "              '20180205': {'accuracy': 0.95,\n",
       "               'precision': 0.91,\n",
       "               'recall': 0.95,\n",
       "               'f1- weighted': 0.93,\n",
       "               'f1- micro': 0.95,\n",
       "               'f1- macro': 0.49,\n",
       "               'Hamming Loss': 0.05},\n",
       "              '20180206': {'accuracy': 0.92,\n",
       "               'precision': 0.85,\n",
       "               'recall': 0.92,\n",
       "               'f1- weighted': 0.88,\n",
       "               'f1- micro': 0.92,\n",
       "               'f1- macro': 0.48,\n",
       "               'Hamming Loss': 0.08},\n",
       "              '20180207': {'accuracy': 0.96,\n",
       "               'precision': 0.92,\n",
       "               'recall': 0.96,\n",
       "               'f1- weighted': 0.94,\n",
       "               'f1- micro': 0.96,\n",
       "               'f1- macro': 0.49,\n",
       "               'Hamming Loss': 0.04},\n",
       "              '20180208': {'accuracy': 0.96,\n",
       "               'precision': 0.92,\n",
       "               'recall': 0.96,\n",
       "               'f1- weighted': 0.94,\n",
       "               'f1- micro': 0.96,\n",
       "               'f1- macro': 0.49,\n",
       "               'Hamming Loss': 0.04},\n",
       "              '20180209': {'accuracy': 0.96,\n",
       "               'precision': 0.92,\n",
       "               'recall': 0.96,\n",
       "               'f1- weighted': 0.94,\n",
       "               'f1- micro': 0.96,\n",
       "               'f1- macro': 0.49,\n",
       "               'Hamming Loss': 0.04},\n",
       "              '20180212': {'accuracy': 0.95,\n",
       "               'precision': 0.91,\n",
       "               'recall': 0.95,\n",
       "               'f1- weighted': 0.93,\n",
       "               'f1- micro': 0.95,\n",
       "               'f1- macro': 0.49,\n",
       "               'Hamming Loss': 0.05},\n",
       "              '20180213': {'accuracy': 0.92,\n",
       "               'precision': 0.85,\n",
       "               'recall': 0.92,\n",
       "               'f1- weighted': 0.88,\n",
       "               'f1- micro': 0.92,\n",
       "               'f1- macro': 0.48,\n",
       "               'Hamming Loss': 0.08},\n",
       "              '20180214': {'accuracy': 0.97,\n",
       "               'precision': 0.94,\n",
       "               'recall': 0.97,\n",
       "               'f1- weighted': 0.95,\n",
       "               'f1- micro': 0.97,\n",
       "               'f1- macro': 0.49,\n",
       "               'Hamming Loss': 0.03},\n",
       "              '20180215': {'accuracy': 0.96,\n",
       "               'precision': 0.92,\n",
       "               'recall': 0.96,\n",
       "               'f1- weighted': 0.94,\n",
       "               'f1- micro': 0.96,\n",
       "               'f1- macro': 0.49,\n",
       "               'Hamming Loss': 0.04},\n",
       "              '20180216': {'accuracy': 0.94,\n",
       "               'precision': 0.89,\n",
       "               'recall': 0.94,\n",
       "               'f1- weighted': 0.92,\n",
       "               'f1- micro': 0.94,\n",
       "               'f1- macro': 0.49,\n",
       "               'Hamming Loss': 0.06},\n",
       "              '20180219': {'accuracy': 0.97,\n",
       "               'precision': 0.93,\n",
       "               'recall': 0.97,\n",
       "               'f1- weighted': 0.95,\n",
       "               'f1- micro': 0.97,\n",
       "               'f1- macro': 0.49,\n",
       "               'Hamming Loss': 0.03},\n",
       "              '20180220': {'accuracy': 0.98,\n",
       "               'precision': 0.95,\n",
       "               'recall': 0.98,\n",
       "               'f1- weighted': 0.96,\n",
       "               'f1- micro': 0.98,\n",
       "               'f1- macro': 0.49,\n",
       "               'Hamming Loss': 0.02},\n",
       "              '20180221': {'accuracy': 0.96,\n",
       "               'precision': 0.92,\n",
       "               'recall': 0.96,\n",
       "               'f1- weighted': 0.94,\n",
       "               'f1- micro': 0.96,\n",
       "               'f1- macro': 0.49,\n",
       "               'Hamming Loss': 0.04},\n",
       "              '20180222': {'accuracy': 0.93,\n",
       "               'precision': 0.87,\n",
       "               'recall': 0.93,\n",
       "               'f1- weighted': 0.9,\n",
       "               'f1- micro': 0.93,\n",
       "               'f1- macro': 0.48,\n",
       "               'Hamming Loss': 0.07},\n",
       "              '20180223': {'accuracy': 0.97,\n",
       "               'precision': 0.94,\n",
       "               'recall': 0.97,\n",
       "               'f1- weighted': 0.95,\n",
       "               'f1- micro': 0.97,\n",
       "               'f1- macro': 0.49,\n",
       "               'Hamming Loss': 0.03},\n",
       "              '20180226': {'accuracy': 0.97,\n",
       "               'precision': 0.95,\n",
       "               'recall': 0.97,\n",
       "               'f1- weighted': 0.96,\n",
       "               'f1- micro': 0.97,\n",
       "               'f1- macro': 0.49,\n",
       "               'Hamming Loss': 0.03},\n",
       "              '20180227': {'accuracy': 0.94,\n",
       "               'precision': 0.89,\n",
       "               'recall': 0.94,\n",
       "               'f1- weighted': 0.92,\n",
       "               'f1- micro': 0.94,\n",
       "               'f1- macro': 0.49,\n",
       "               'Hamming Loss': 0.06}}})"
      ]
     },
     "execution_count": 30,
     "metadata": {},
     "output_type": "execute_result"
    }
   ],
   "source": [
    "open_pickle_filepath(test_location)"
   ]
  },
  {
   "cell_type": "code",
   "execution_count": null,
   "metadata": {},
   "outputs": [],
   "source": []
  }
 ],
 "metadata": {
  "kernelspec": {
   "display_name": "Python 3",
   "language": "python",
   "name": "python3"
  },
  "language_info": {
   "codemirror_mode": {
    "name": "ipython",
    "version": 3
   },
   "file_extension": ".py",
   "mimetype": "text/x-python",
   "name": "python",
   "nbconvert_exporter": "python",
   "pygments_lexer": "ipython3",
   "version": "3.6.8"
  }
 },
 "nbformat": 4,
 "nbformat_minor": 2
}
