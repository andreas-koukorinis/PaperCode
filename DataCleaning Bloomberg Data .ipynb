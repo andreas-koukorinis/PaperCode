{
 "cells": [
  {
   "cell_type": "code",
   "execution_count": 1,
   "metadata": {},
   "outputs": [],
   "source": [
    "import pandas as pd\n",
    "import numpy as np\n",
    "import os\n",
    "from dateutil.parser import parse\n",
    "from pandas.tseries.offsets import BDay\n",
    "import pickle as pkl\n",
    "import fnmatch\n",
    "import datetime as dt\n",
    "from datetime import timedelta\n",
    "import glob\n",
    "#Set PANDAS to show all columns in DataFrame\n",
    "pd.set_option('display.max_columns', None)\n",
    "\n",
    "import matplotlib.pyplot as plt\n",
    "def listdirs(folder): #return only directories from a master folder\n",
    "    return [d for d in os.listdir(folder) if os.path.isdir(os.path.join(folder, d))]\n",
    "\n",
    "def find_path(basepath, stringname):\n",
    "    for fname in os.listdir(basepath):\n",
    "        path = os.path.join(basepath, fname)\n",
    "        if os.path.isdir(path):\n",
    "            if stringname in fname:\n",
    "                return path\n",
    "def get_ticket(rx_path):\n",
    "    ticker=rx_path.split(\".\")[0].split(\"/\")[-1].split(\"-\")[0]\n",
    "    return ticker\n",
    "\n",
    "def ticker_trades_dir(ticker):\n",
    "    dest=os.path.join(os.getenv('FINANCE_DATA'), \"_\".join((ticker,'trades')))\n",
    "    if not os.path.isdir(dest):\n",
    "        os.makedirs(dest)\n",
    "def quotes_trades_dir(ticker):\n",
    "    dest=os.path.join(os.getenv('FINANCE_DATA'), \"_\".join((ticker,'quotes')))\n",
    "    if not os.path.isdir(dest):\n",
    "        os.makedirs(dest)\n",
    "def agg_on_trd_time(gr):\n",
    "    \"\"\"\n",
    "    Utility func to aggregate trades on timestamp. All trades with equal time stamp\n",
    "    will collapse to one row and the traded price will be the volume weighted traded\n",
    "    price.\n",
    "    \"\"\"\n",
    "    vTrdPrice = np.sum(gr['TradedPrice'] * gr['Volume'])/np.sum(gr['Volume'])\n",
    "    volume = np.sum(gr['Volume'])\n",
    "\n",
    "    return pd.Series({'Volume': volume,\n",
    "                      'TradedPrice': vTrdPrice})\n",
    "\n",
    "def open_pickle_file(path, pickle_file):\n",
    "    file_loc = os.path.join(path, pickle_file)\n",
    "    pickle_to_file = pickle.load(open(file_loc, \"rb\"))\n",
    "    return pickle_to_file\n",
    "def common_member(a, b): \n",
    "      \n",
    "    a_set = set(a) \n",
    "    b_set = set(b) \n",
    "      \n",
    "    # check length  \n",
    "    if len(a_set.intersection(b_set)) > 0: \n",
    "        return(a_set.intersection(b_set))   \n",
    "    else: \n",
    "        return(\"no common elements\") \n",
    "\n",
    "def f(x):\n",
    "     return Series(dict(Number_of_tweets = x['content'].count(), \n",
    "                        Company=x['Company'].min(),\n",
    "                        Description=x['from_user_description'].min(),\n",
    "                        ))\n",
    "    \n",
    "def obv_calc(df):\n",
    "    df['SignedVolume']=df['Volume']*np.sign(df['TradedPrice'].diff()).cumsum()\n",
    "    df['SignedVolume'][:1]=0\n",
    "    df['OBV']=df['SignedVolume'].cumsum()\n",
    "    df =df.drop(columns=['SignedVolume'])\n",
    "    return df\n",
    "def chaikin_mf(df, period=5):\n",
    "    df[\"MF Multiplier\"] = (df['TradedPrice']-(df['TradedPrice'].expanding(period).min() ) \\\n",
    "                           - (df['TradedPrice'].expanding(period).max() - df['TradedPrice']))/(df['TradedPrice'].expanding(period).max() - df['TradedPrice'].expanding(period).min())\n",
    "    df[\"MF Volume\"] = df['MF Multiplier'] * df['Volume'] \n",
    "    df['CMF']= df['MF Volume'].sum()/df[\"Volume\"].rolling(5).sum()\n",
    "    df=df.drop(columns=['MF Multiplier','MF Volume'])\n",
    "    return df"
   ]
  },
  {
   "cell_type": "code",
   "execution_count": 6,
   "metadata": {},
   "outputs": [],
   "source": [
    "##locations ##\n",
    "#dataOnlyDrive = ('/media/ak/WorkDrive/Data')\n",
    "''' Exterrnal Files'''\n",
    "extPath = '/media/ak/My Passport/Experiment Data'\n",
    "barketData = '/media/ak/My Passport/Barket Data/'"
   ]
  },
  {
   "cell_type": "code",
   "execution_count": 7,
   "metadata": {},
   "outputs": [
    {
     "data": {
      "text/plain": [
       "['DU1_Comdty',\n",
       " 'FB1_Comdty',\n",
       " 'FV1_Comdty',\n",
       " 'raw bloomberg data',\n",
       " 'TU1_Comdty-20181028',\n",
       " 'TY1_Comdty_quotes',\n",
       " 'TY1_Comdty_trades',\n",
       " 'US1_Comdty_quotes',\n",
       " 'US1_Comdty_trades',\n",
       " 'UST10y',\n",
       " 'UST2y',\n",
       " 'UST5y',\n",
       " 'VIX_Index_quotes',\n",
       " 'VIX_Index_trades',\n",
       " 'VXX_US_Equity-20181027']"
      ]
     },
     "execution_count": 7,
     "metadata": {},
     "output_type": "execute_result"
    }
   ],
   "source": [
    "os.listdir(barketData)"
   ]
  },
  {
   "cell_type": "code",
   "execution_count": 8,
   "metadata": {},
   "outputs": [],
   "source": [
    "targetDrive = barketData\n",
    "bmrg_folders=[s for s in os.listdir(targetDrive ) if s.endswith('Comdty')]\n",
    "bmrg_trades=sorted([s for s in os.listdir(targetDrive ) if s.endswith('y_trades')])\n",
    "bmrg_quotes=sorted([s for s in os.listdir(targetDrive ) if s.endswith('y_quotes')])\n",
    "bmrg_tickers=sorted([bmrg_trades[idx].split('_t')[0] for idx,_ in enumerate(bmrg_trades)])"
   ]
  },
  {
   "cell_type": "code",
   "execution_count": 9,
   "metadata": {},
   "outputs": [
    {
     "name": "stdout",
     "output_type": "stream",
     "text": [
      "['TY1_Comdty_quotes', 'US1_Comdty_quotes'] ['TY1_Comdty_trades', 'US1_Comdty_trades']\n"
     ]
    }
   ],
   "source": [
    "# symbols = ['FB1', 'TU1', 'TY1', 'FV1']\n",
    "print(bmrg_quotes, bmrg_trades)"
   ]
  },
  {
   "cell_type": "code",
   "execution_count": 6,
   "metadata": {},
   "outputs": [
    {
     "data": {
      "text/plain": [
       "['TY1_Comdty', 'US1_Comdty']"
      ]
     },
     "execution_count": 6,
     "metadata": {},
     "output_type": "execute_result"
    }
   ],
   "source": [
    "bmrg_tickers"
   ]
  },
  {
   "cell_type": "code",
   "execution_count": 11,
   "metadata": {},
   "outputs": [
    {
     "name": "stdout",
     "output_type": "stream",
     "text": [
      "TY1_Comdty_quotes\n",
      "TY1_Comdty_trades\n"
     ]
    }
   ],
   "source": [
    "symbolIdx= 0\n",
    "print(bmrg_quotes[symbolIdx])\n",
    "print(bmrg_trades[symbolIdx])\n",
    "# get dates and files\n",
    "symbol_quotes = os.path.join(targetDrive,str(bmrg_quotes[symbolIdx]))\n",
    "symbol_trades = os.path.join(targetDrive,str(bmrg_trades[symbolIdx]))\n",
    "symbolQuoteDates = [quoteFile.split(\".\")[0] for quoteFile in os.listdir(symbol_quotes)] \n",
    "symbolTradeDates = [tradeFile.split(\".\")[0] for tradeFile in os.listdir(symbol_trades)] "
   ]
  },
  {
   "cell_type": "code",
   "execution_count": 12,
   "metadata": {},
   "outputs": [
    {
     "data": {
      "text/plain": [
       "'/media/ak/My Passport/Barket Data/TY1_Comdty_quotes'"
      ]
     },
     "execution_count": 12,
     "metadata": {},
     "output_type": "execute_result"
    }
   ],
   "source": [
    "# TradeQuoteDates =[set(ymQuoteDates).intersection(set(ymTradeDates))]\n",
    "symbol_quotes"
   ]
  },
  {
   "cell_type": "code",
   "execution_count": null,
   "metadata": {},
   "outputs": [],
   "source": []
  },
  {
   "cell_type": "code",
   "execution_count": 13,
   "metadata": {},
   "outputs": [],
   "source": [
    "# tradeTestDate = os.path.join(symbol_trades, quoteTradeDates[0]+'.csv')\n",
    "# tradeQuoteDate = os.path.join(symbol_quotes, quoteTradeDates[0]+'.csv')\n",
    "# trades =pd.read_csv(tradeTestDate,low_memory=False)\n",
    "# quotes = pd.read_csv(tradeQuoteDate, low_memory=False)"
   ]
  },
  {
   "cell_type": "code",
   "execution_count": 14,
   "metadata": {},
   "outputs": [],
   "source": [
    "#create dictionaries that have all the data we may need/want. on for top of the LOB and one for trades\n",
    "quoteTradeDates=[eventDate for eventDate in symbolQuoteDates if eventDate in symbolTradeDates]\n",
    "len(quoteTradeDates)\n",
    "dfAllTrades ={}\n",
    "dfAllQuotes ={}\n",
    "for idx,date in enumerate(quoteTradeDates):\n",
    "    tradeTestDate = pd.read_csv(os.path.join(symbol_trades, quoteTradeDates[idx]+'.csv'))\n",
    "    tradeQuoteDate = pd.read_csv(os.path.join(symbol_quotes, quoteTradeDates[idx]+'.csv'))\n",
    "    dfAllTrades[date] = tradeTestDate\n",
    "    dfAllQuotes[date] = tradeQuoteDate\n",
    "    \n",
    "    "
   ]
  },
  {
   "cell_type": "code",
   "execution_count": null,
   "metadata": {},
   "outputs": [],
   "source": []
  },
  {
   "cell_type": "code",
   "execution_count": 15,
   "metadata": {},
   "outputs": [],
   "source": [
    "dfAllQuotesName = \"\".join(('AllQuotes',bmrg_quotes[symbolIdx],'Comdty.pkl'))\n",
    "dfAllTradesName = \"\".join(('AllTrades',bmrg_trades[symbolIdx],'Comdty.pkl'))"
   ]
  },
  {
   "cell_type": "code",
   "execution_count": null,
   "metadata": {},
   "outputs": [],
   "source": [
    "dfAllQuotesName\n",
    "symbol_quotes"
   ]
  },
  {
   "cell_type": "code",
   "execution_count": 16,
   "metadata": {},
   "outputs": [],
   "source": [
    "pkl.dump(dfAllQuotes, open(\"/\".join((symbol_quotes, dfAllQuotesName)), \"wb\"))\n"
   ]
  },
  {
   "cell_type": "code",
   "execution_count": 17,
   "metadata": {},
   "outputs": [],
   "source": [
    "pkl.dump(dfAllTrades, open(\"/\".join((symbol_trades, dfAllTradesName)), \"wb\"))"
   ]
  },
  {
   "cell_type": "code",
   "execution_count": null,
   "metadata": {},
   "outputs": [],
   "source": []
  },
  {
   "cell_type": "code",
   "execution_count": 18,
   "metadata": {},
   "outputs": [],
   "source": [
    "dQuoteKeys = list(dfAllQuotes.keys()) #one common set of keys at the moment\n",
    "dTradeKeys = list(dfAllTrades.keys())\n",
    "commonDates =list(set(dQuoteKeys).intersection(set(dTradeKeys)))\n"
   ]
  },
  {
   "cell_type": "markdown",
   "metadata": {},
   "source": [
    "### "
   ]
  },
  {
   "cell_type": "code",
   "execution_count": 19,
   "metadata": {},
   "outputs": [],
   "source": [
    "\n",
    "dfLOBRaw={}\n",
    "# QuoteColumns =['Unnamed: 0','TimeStamp']\n",
    "# TradeColumns= ['Unnamed: 0', 'size', 'time', 'type', 'value']\n",
    "for idx, dateKey in enumerate(commonDates):\n",
    "    #dfAllQuotes[dKeys[idx]].reset_index(level=0, inplace=True)\n",
    "    dfAllQuotes[commonDates[idx]]['TimeStamp']= pd.to_datetime(dfAllQuotes[commonDates[idx]]['time'])\n",
    "    dfAllTrades[commonDates[idx]]['TradeTimeStamp']= pd.to_datetime(dfAllTrades[commonDates[idx]]['time'])\n",
    "    dfAllTrades[commonDates[idx]]['TradedPrice']= dfAllTrades[commonDates[idx]]['value']\n",
    "    dfAllTrades[commonDates[idx]]['TradedSize']= dfAllTrades[commonDates[idx]]['size']\n",
    "    dfAllTrades[commonDates[idx]].rename(columns = {'type':'QuotedSide','value':'bestPrice','size':'QuoteSize','time':'QuoteTimeStamp'}, inplace = True) \n",
    "    dfAllTrades[commonDates[idx]]['Duration']=dfAllTrades[commonDates[idx]].TradeTimeStamp.diff()/np.timedelta64(1, 'ms')\n",
    "    \n",
    "    "
   ]
  },
  {
   "cell_type": "code",
   "execution_count": null,
   "metadata": {},
   "outputs": [],
   "source": [
    "# import arviz as az\n",
    "\n",
    "# az.style.use(\"arviz-darkgrid\")\n",
    "# testDuration = np.array(dfAllTrades[dKeys[3]]['Duration'].dropna())\n",
    "# az.plot_posterior(testDuration);"
   ]
  },
  {
   "cell_type": "code",
   "execution_count": 21,
   "metadata": {},
   "outputs": [],
   "source": [
    "idx=1\n",
    "dfBID =dfAllQuotes[commonDates[idx]][dfAllQuotes[commonDates[idx]]['type']=='BID'].rename(columns={'type':'BidSide','value':'bestBidPrice','size':'bestBidSize','time':'TimeStampS'})#.drop(QuoteColumns, inplace=True, axis=1)\n",
    "dfASK =dfAllQuotes[commonDates[idx]][dfAllQuotes[commonDates[idx]]['type']=='ASK'].rename(columns={'type':'AskSide','value':'bestAskPrice','size':'bestAskSize','time':'TimeStampS'})#.drop(QuoteColumns, inplace=True, axis=1)\n"
   ]
  },
  {
   "cell_type": "code",
   "execution_count": 22,
   "metadata": {},
   "outputs": [],
   "source": [
    "dfLOB =dfBID.merge(dfASK,left_on='TimeStampS', right_on='TimeStampS')\n",
    "dfLOB= dfLOB.drop(['Unnamed: 0_x', 'Unnamed: 0_y','AskSide','BidSide'], axis=1)\n",
    "#dfAllTrades[dKeys[0]].TradeTimeStamp.diff().dropna()/np.timedelta64(1, 'ms')# dfLOB =dfBID.merge(dfASK,left_on='TimeStampS', right_on='TimeStampS')\n",
    "# dfLOB= dfLOB.drop(['Unnamed: 0_x', 'Unnamed: 0_y','AskSide','BidSide'], axis=1)\n",
    "#dfAllTrades[dKeys[0]].TradeTimeStamp.diff().dropna()/np.timedelta64(1, 'ms')"
   ]
  },
  {
   "cell_type": "code",
   "execution_count": 23,
   "metadata": {},
   "outputs": [],
   "source": [
    "dfAllTrades[commonDates[idx]] = dfAllTrades[commonDates[idx]].rename(index=str, columns={\"size\": \"Volume\",\"value\":\"TradedPrice\",\"time\":\"TimeStampT\"}).drop(columns=['Unnamed: 0'])"
   ]
  },
  {
   "cell_type": "code",
   "execution_count": 30,
   "metadata": {},
   "outputs": [],
   "source": [
    "# dfClean = dfCleanTrades.rename(index=str, columns={\"TimeStampT\":\"TimeStampS\"})"
   ]
  },
  {
   "cell_type": "code",
   "execution_count": null,
   "metadata": {},
   "outputs": [],
   "source": [
    "# dfMergedLOB = dfBID.merge(dfASK,left_on='TimeStampS', right_on='TimeStampS')"
   ]
  },
  {
   "cell_type": "code",
   "execution_count": null,
   "metadata": {},
   "outputs": [],
   "source": [
    "dfCompleteDF = dfClean.merge(dfLOB,left_on='TimeStampS', right_on='TimeStampS')"
   ]
  },
  {
   "cell_type": "code",
   "execution_count": 26,
   "metadata": {},
   "outputs": [],
   "source": [
    "dfLOBTrades =dfAllTrades[commonDates[1]]"
   ]
  },
  {
   "cell_type": "code",
   "execution_count": 29,
   "metadata": {},
   "outputs": [
    {
     "ename": "NameError",
     "evalue": "name 'dKeys' is not defined",
     "output_type": "error",
     "traceback": [
      "\u001b[0;31m-----------------------------------------\u001b[0m",
      "\u001b[0;31mNameError\u001b[0mTraceback (most recent call last)",
      "\u001b[0;32m<ipython-input-29-fe9423bad150>\u001b[0m in \u001b[0;36m<module>\u001b[0;34m\u001b[0m\n\u001b[1;32m      1\u001b[0m \u001b[0mdfLOBraw\u001b[0m \u001b[0;34m=\u001b[0m\u001b[0;34m{\u001b[0m\u001b[0;34m}\u001b[0m\u001b[0;34m\u001b[0m\u001b[0;34m\u001b[0m\u001b[0m\n\u001b[1;32m      2\u001b[0m \u001b[0;32mfor\u001b[0m \u001b[0midx\u001b[0m\u001b[0;34m,\u001b[0m \u001b[0mdateKey\u001b[0m \u001b[0;32min\u001b[0m \u001b[0menumerate\u001b[0m\u001b[0;34m(\u001b[0m\u001b[0mcommonDates\u001b[0m\u001b[0;34m)\u001b[0m\u001b[0;34m:\u001b[0m\u001b[0;34m\u001b[0m\u001b[0;34m\u001b[0m\u001b[0m\n\u001b[0;32m----> 3\u001b[0;31m     \u001b[0mdfBID\u001b[0m \u001b[0;34m=\u001b[0m\u001b[0mdfAllQuotes\u001b[0m\u001b[0;34m[\u001b[0m\u001b[0mdKeys\u001b[0m\u001b[0;34m[\u001b[0m\u001b[0midx\u001b[0m\u001b[0;34m]\u001b[0m\u001b[0;34m]\u001b[0m\u001b[0;34m[\u001b[0m\u001b[0mdfAllQuotes\u001b[0m\u001b[0;34m[\u001b[0m\u001b[0mdKeys\u001b[0m\u001b[0;34m[\u001b[0m\u001b[0;36m0\u001b[0m\u001b[0;34m]\u001b[0m\u001b[0;34m]\u001b[0m\u001b[0;34m[\u001b[0m\u001b[0;34m'type'\u001b[0m\u001b[0;34m]\u001b[0m\u001b[0;34m==\u001b[0m\u001b[0;34m'BID'\u001b[0m\u001b[0;34m]\u001b[0m\u001b[0;34m.\u001b[0m\u001b[0mrename\u001b[0m\u001b[0;34m(\u001b[0m\u001b[0mcolumns\u001b[0m\u001b[0;34m=\u001b[0m\u001b[0;34m{\u001b[0m\u001b[0;34m'type'\u001b[0m\u001b[0;34m:\u001b[0m\u001b[0;34m'BidSide'\u001b[0m\u001b[0;34m,\u001b[0m\u001b[0;34m'value'\u001b[0m\u001b[0;34m:\u001b[0m\u001b[0;34m'bestBidPrice'\u001b[0m\u001b[0;34m,\u001b[0m\u001b[0;34m'size'\u001b[0m\u001b[0;34m:\u001b[0m\u001b[0;34m'bestBidSize'\u001b[0m\u001b[0;34m,\u001b[0m\u001b[0;34m'time'\u001b[0m\u001b[0;34m:\u001b[0m\u001b[0;34m'BidTimeStamp'\u001b[0m\u001b[0;34m}\u001b[0m\u001b[0;34m)\u001b[0m\u001b[0;34m\u001b[0m\u001b[0;34m\u001b[0m\u001b[0m\n\u001b[0m\u001b[1;32m      4\u001b[0m     \u001b[0mdfASK\u001b[0m \u001b[0;34m=\u001b[0m\u001b[0mdfAllQuotes\u001b[0m\u001b[0;34m[\u001b[0m\u001b[0mdKeys\u001b[0m\u001b[0;34m[\u001b[0m\u001b[0midx\u001b[0m\u001b[0;34m]\u001b[0m\u001b[0;34m]\u001b[0m\u001b[0;34m[\u001b[0m\u001b[0mdfAllQuotes\u001b[0m\u001b[0;34m[\u001b[0m\u001b[0mdKeys\u001b[0m\u001b[0;34m[\u001b[0m\u001b[0;36m0\u001b[0m\u001b[0;34m]\u001b[0m\u001b[0;34m]\u001b[0m\u001b[0;34m[\u001b[0m\u001b[0;34m'type'\u001b[0m\u001b[0;34m]\u001b[0m\u001b[0;34m==\u001b[0m\u001b[0;34m'ASK'\u001b[0m\u001b[0;34m]\u001b[0m\u001b[0;34m.\u001b[0m\u001b[0mrename\u001b[0m\u001b[0;34m(\u001b[0m\u001b[0mcolumns\u001b[0m\u001b[0;34m=\u001b[0m\u001b[0;34m{\u001b[0m\u001b[0;34m'type'\u001b[0m\u001b[0;34m:\u001b[0m\u001b[0;34m'AskSide'\u001b[0m\u001b[0;34m,\u001b[0m\u001b[0;34m'value'\u001b[0m\u001b[0;34m:\u001b[0m\u001b[0;34m'bestAskPrice'\u001b[0m\u001b[0;34m,\u001b[0m\u001b[0;34m'size'\u001b[0m\u001b[0;34m:\u001b[0m\u001b[0;34m'bestAskSize'\u001b[0m\u001b[0;34m,\u001b[0m\u001b[0;34m'time'\u001b[0m\u001b[0;34m:\u001b[0m\u001b[0;34m'AskTimeStamp'\u001b[0m\u001b[0;34m}\u001b[0m\u001b[0;34m)\u001b[0m\u001b[0;34m\u001b[0m\u001b[0;34m\u001b[0m\u001b[0m\n\u001b[1;32m      5\u001b[0m     \u001b[0mdfLOBraw\u001b[0m\u001b[0;34m[\u001b[0m\u001b[0mdKeys\u001b[0m\u001b[0;34m[\u001b[0m\u001b[0midx\u001b[0m\u001b[0;34m]\u001b[0m\u001b[0;34m]\u001b[0m \u001b[0;34m=\u001b[0m\u001b[0mpd\u001b[0m\u001b[0;34m.\u001b[0m\u001b[0mconcat\u001b[0m\u001b[0;34m(\u001b[0m\u001b[0;34m[\u001b[0m\u001b[0mdfBID\u001b[0m\u001b[0;34m,\u001b[0m \u001b[0mdfASK\u001b[0m\u001b[0;34m]\u001b[0m\u001b[0;34m,\u001b[0m\u001b[0maxis\u001b[0m\u001b[0;34m=\u001b[0m\u001b[0;36m1\u001b[0m\u001b[0;34m,\u001b[0m \u001b[0mjoin\u001b[0m\u001b[0;34m=\u001b[0m\u001b[0;34m'outer'\u001b[0m\u001b[0;34m)\u001b[0m\u001b[0;34m\u001b[0m\u001b[0;34m\u001b[0m\u001b[0m\n",
      "\u001b[0;31mNameError\u001b[0m: name 'dKeys' is not defined"
     ]
    }
   ],
   "source": [
    "dfLOBraw ={}\n",
    "for idx, dateKey in enumerate(commonDates):\n",
    "    dfBID =dfAllQuotes[dKeys[idx]][dfAllQuotes[dKeys[0]]['type']=='BID'].rename(columns={'type':'BidSide','value':'bestBidPrice','size':'bestBidSize','time':'BidTimeStamp'})\n",
    "    dfASK =dfAllQuotes[dKeys[idx]][dfAllQuotes[dKeys[0]]['type']=='ASK'].rename(columns={'type':'AskSide','value':'bestAskPrice','size':'bestAskSize','time':'AskTimeStamp'})\n",
    "    dfLOBraw[dKeys[idx]] =pd.concat([dfBID, dfASK],axis=1, join='outer')"
   ]
  },
  {
   "cell_type": "code",
   "execution_count": 31,
   "metadata": {},
   "outputs": [
    {
     "data": {
      "text/html": [
       "<div>\n",
       "<style scoped>\n",
       "    .dataframe tbody tr th:only-of-type {\n",
       "        vertical-align: middle;\n",
       "    }\n",
       "\n",
       "    .dataframe tbody tr th {\n",
       "        vertical-align: top;\n",
       "    }\n",
       "\n",
       "    .dataframe thead th {\n",
       "        text-align: right;\n",
       "    }\n",
       "</style>\n",
       "<table border=\"1\" class=\"dataframe\">\n",
       "  <thead>\n",
       "    <tr style=\"text-align: right;\">\n",
       "      <th></th>\n",
       "      <th>QuoteSize</th>\n",
       "      <th>QuoteTimeStamp</th>\n",
       "      <th>QuotedSide</th>\n",
       "      <th>bestPrice</th>\n",
       "      <th>TradeTimeStamp</th>\n",
       "      <th>TradedPrice</th>\n",
       "      <th>TradedSize</th>\n",
       "      <th>Duration</th>\n",
       "    </tr>\n",
       "  </thead>\n",
       "  <tbody>\n",
       "    <tr>\n",
       "      <th>0</th>\n",
       "      <td>7</td>\n",
       "      <td>2018-07-13 00:00:04</td>\n",
       "      <td>TRADE</td>\n",
       "      <td>120.140625</td>\n",
       "      <td>2018-07-13 00:00:04</td>\n",
       "      <td>120.140625</td>\n",
       "      <td>7</td>\n",
       "      <td>NaN</td>\n",
       "    </tr>\n",
       "    <tr>\n",
       "      <th>1</th>\n",
       "      <td>46</td>\n",
       "      <td>2018-07-13 00:00:04</td>\n",
       "      <td>TRADE</td>\n",
       "      <td>120.140625</td>\n",
       "      <td>2018-07-13 00:00:04</td>\n",
       "      <td>120.140625</td>\n",
       "      <td>46</td>\n",
       "      <td>0.0</td>\n",
       "    </tr>\n",
       "    <tr>\n",
       "      <th>2</th>\n",
       "      <td>10</td>\n",
       "      <td>2018-07-13 00:00:04</td>\n",
       "      <td>TRADE</td>\n",
       "      <td>120.140625</td>\n",
       "      <td>2018-07-13 00:00:04</td>\n",
       "      <td>120.140625</td>\n",
       "      <td>10</td>\n",
       "      <td>0.0</td>\n",
       "    </tr>\n",
       "    <tr>\n",
       "      <th>3</th>\n",
       "      <td>7</td>\n",
       "      <td>2018-07-13 00:00:04</td>\n",
       "      <td>TRADE</td>\n",
       "      <td>120.140625</td>\n",
       "      <td>2018-07-13 00:00:04</td>\n",
       "      <td>120.140625</td>\n",
       "      <td>7</td>\n",
       "      <td>0.0</td>\n",
       "    </tr>\n",
       "    <tr>\n",
       "      <th>4</th>\n",
       "      <td>4</td>\n",
       "      <td>2018-07-13 00:00:04</td>\n",
       "      <td>TRADE</td>\n",
       "      <td>120.140625</td>\n",
       "      <td>2018-07-13 00:00:04</td>\n",
       "      <td>120.140625</td>\n",
       "      <td>4</td>\n",
       "      <td>0.0</td>\n",
       "    </tr>\n",
       "  </tbody>\n",
       "</table>\n",
       "</div>"
      ],
      "text/plain": [
       "   QuoteSize       QuoteTimeStamp QuotedSide   bestPrice      TradeTimeStamp  \\\n",
       "0          7  2018-07-13 00:00:04      TRADE  120.140625 2018-07-13 00:00:04   \n",
       "1         46  2018-07-13 00:00:04      TRADE  120.140625 2018-07-13 00:00:04   \n",
       "2         10  2018-07-13 00:00:04      TRADE  120.140625 2018-07-13 00:00:04   \n",
       "3          7  2018-07-13 00:00:04      TRADE  120.140625 2018-07-13 00:00:04   \n",
       "4          4  2018-07-13 00:00:04      TRADE  120.140625 2018-07-13 00:00:04   \n",
       "\n",
       "   TradedPrice  TradedSize  Duration  \n",
       "0   120.140625           7       NaN  \n",
       "1   120.140625          46       0.0  \n",
       "2   120.140625          10       0.0  \n",
       "3   120.140625           7       0.0  \n",
       "4   120.140625           4       0.0  "
      ]
     },
     "execution_count": 31,
     "metadata": {},
     "output_type": "execute_result"
    }
   ],
   "source": [
    "dfLOBTrades.head(5)"
   ]
  },
  {
   "cell_type": "code",
   "execution_count": null,
   "metadata": {},
   "outputs": [],
   "source": []
  },
  {
   "cell_type": "markdown",
   "metadata": {},
   "source": [
    "idx=0\n",
    "dfBID =dfAllQuotes[dKeys[idx]][dfAllQuotes[dKeys[idx]]['type']=='BID'].rename(columns={'type':'BidSide','value':'bestBidPrice','size':'bestBidSize','time':'BidTimeStamp'})#.drop(QuoteColumns, inplace=True, axis=1)\n",
    "dfASK =dfAllQuotes[dKeys[idx]][dfAllQuotes[dKeys[idx]]['type']=='ASK'].rename(columns={'type':'AskSide','value':'bestAskPrice','size':'bestAskSize','time':'AskTimeStamp'})#.drop(QuoteColumns, inplace=True, axis=1)\n",
    "dfAllTrades[dKeys[0]].TradeTimeStamp.diff().dropna()/np.timedelta64(1, 'ms')\n",
    "#dfAllQuotes[dateKeys[idx]]['Time']= dfAllQuotes[dateKeys[idx]]['time'].dt.time\n",
    "    \n",
    "    "
   ]
  },
  {
   "cell_type": "code",
   "execution_count": null,
   "metadata": {},
   "outputs": [],
   "source": []
  },
  {
   "cell_type": "code",
   "execution_count": null,
   "metadata": {},
   "outputs": [],
   "source": [
    "dfAllTrades[dKeys[0]].TradeTimeStamp.diff().dropna()/np.timedelta64(1, 'ms')"
   ]
  },
  {
   "cell_type": "code",
   "execution_count": 25,
   "metadata": {},
   "outputs": [
    {
     "data": {
      "text/html": [
       "<div>\n",
       "<style scoped>\n",
       "    .dataframe tbody tr th:only-of-type {\n",
       "        vertical-align: middle;\n",
       "    }\n",
       "\n",
       "    .dataframe tbody tr th {\n",
       "        vertical-align: top;\n",
       "    }\n",
       "\n",
       "    .dataframe thead th {\n",
       "        text-align: right;\n",
       "    }\n",
       "</style>\n",
       "<table border=\"1\" class=\"dataframe\">\n",
       "  <thead>\n",
       "    <tr style=\"text-align: right;\">\n",
       "      <th></th>\n",
       "      <th>bestBidSize</th>\n",
       "      <th>TimeStampS</th>\n",
       "      <th>bestBidPrice</th>\n",
       "      <th>TimeStamp_x</th>\n",
       "      <th>bestAskSize</th>\n",
       "      <th>bestAskPrice</th>\n",
       "      <th>TimeStamp_y</th>\n",
       "    </tr>\n",
       "  </thead>\n",
       "  <tbody>\n",
       "    <tr>\n",
       "      <th>0</th>\n",
       "      <td>185</td>\n",
       "      <td>2018-05-21 00:00:00</td>\n",
       "      <td>140.96875</td>\n",
       "      <td>2018-05-21</td>\n",
       "      <td>63</td>\n",
       "      <td>141.0</td>\n",
       "      <td>2018-05-21</td>\n",
       "    </tr>\n",
       "    <tr>\n",
       "      <th>1</th>\n",
       "      <td>185</td>\n",
       "      <td>2018-05-21 00:00:00</td>\n",
       "      <td>140.96875</td>\n",
       "      <td>2018-05-21</td>\n",
       "      <td>59</td>\n",
       "      <td>141.0</td>\n",
       "      <td>2018-05-21</td>\n",
       "    </tr>\n",
       "    <tr>\n",
       "      <th>2</th>\n",
       "      <td>185</td>\n",
       "      <td>2018-05-21 00:00:00</td>\n",
       "      <td>140.96875</td>\n",
       "      <td>2018-05-21</td>\n",
       "      <td>56</td>\n",
       "      <td>141.0</td>\n",
       "      <td>2018-05-21</td>\n",
       "    </tr>\n",
       "    <tr>\n",
       "      <th>3</th>\n",
       "      <td>185</td>\n",
       "      <td>2018-05-21 00:00:00</td>\n",
       "      <td>140.96875</td>\n",
       "      <td>2018-05-21</td>\n",
       "      <td>59</td>\n",
       "      <td>141.0</td>\n",
       "      <td>2018-05-21</td>\n",
       "    </tr>\n",
       "  </tbody>\n",
       "</table>\n",
       "</div>"
      ],
      "text/plain": [
       "   bestBidSize           TimeStampS  bestBidPrice TimeStamp_x  bestAskSize  \\\n",
       "0          185  2018-05-21 00:00:00     140.96875  2018-05-21           63   \n",
       "1          185  2018-05-21 00:00:00     140.96875  2018-05-21           59   \n",
       "2          185  2018-05-21 00:00:00     140.96875  2018-05-21           56   \n",
       "3          185  2018-05-21 00:00:00     140.96875  2018-05-21           59   \n",
       "\n",
       "   bestAskPrice TimeStamp_y  \n",
       "0         141.0  2018-05-21  \n",
       "1         141.0  2018-05-21  \n",
       "2         141.0  2018-05-21  \n",
       "3         141.0  2018-05-21  "
      ]
     },
     "execution_count": 25,
     "metadata": {},
     "output_type": "execute_result"
    }
   ],
   "source": [
    "columns = ['index', 'Unnamed: 0','time','AskSide']\n",
    "dfLOB.head(4)"
   ]
  },
  {
   "cell_type": "code",
   "execution_count": null,
   "metadata": {},
   "outputs": [],
   "source": [
    "dfBID =dfAllQuotes[dKeys[0]][dfAllQuotes[dKeys[0]]['type']=='BID'].rename(columns={'type':'BidSide','value':'bestBidPrice','size':'bestBidSize','TimeStamp':'BidTimeStamp'})\n",
    "dfASK =dfAllQuotes[dKeys[0]][dfAllQuotes[dKeys[0]]['type']=='ASK'].rename(columns={'type':'AskSide','value':'bestAskPrice','size':'bestAskSize','TimeStamp':'AskTimeStamp'})"
   ]
  },
  {
   "cell_type": "code",
   "execution_count": null,
   "metadata": {},
   "outputs": [],
   "source": [
    "dfASK.head(3)"
   ]
  },
  {
   "cell_type": "code",
   "execution_count": null,
   "metadata": {},
   "outputs": [],
   "source": [
    "columns = [ 'Unnamed: 0','TimeStamp','AskSide']\n",
    "dfASK.drop(columns, inplace=True, axis=1)\n",
    "dfASK.head(3)"
   ]
  },
  {
   "cell_type": "code",
   "execution_count": null,
   "metadata": {},
   "outputs": [],
   "source": [
    "columns = [ 'Unnamed: 0','TimeStamp','BidSide']\n",
    "dfBID.drop(columns, inplace=True, axis=1)\n",
    "dfBID.head(3)"
   ]
  },
  {
   "cell_type": "code",
   "execution_count": 24,
   "metadata": {},
   "outputs": [
    {
     "data": {
      "text/html": [
       "<div>\n",
       "<style scoped>\n",
       "    .dataframe tbody tr th:only-of-type {\n",
       "        vertical-align: middle;\n",
       "    }\n",
       "\n",
       "    .dataframe tbody tr th {\n",
       "        vertical-align: top;\n",
       "    }\n",
       "\n",
       "    .dataframe thead th {\n",
       "        text-align: right;\n",
       "    }\n",
       "</style>\n",
       "<table border=\"1\" class=\"dataframe\">\n",
       "  <thead>\n",
       "    <tr style=\"text-align: right;\">\n",
       "      <th></th>\n",
       "      <th>Unnamed: 0</th>\n",
       "      <th>bestBidSize</th>\n",
       "      <th>TimeStampS</th>\n",
       "      <th>BidSide</th>\n",
       "      <th>bestBidPrice</th>\n",
       "      <th>TimeStamp</th>\n",
       "      <th>Unnamed: 0</th>\n",
       "      <th>bestAskSize</th>\n",
       "      <th>TimeStampS</th>\n",
       "      <th>AskSide</th>\n",
       "      <th>bestAskPrice</th>\n",
       "      <th>TimeStamp</th>\n",
       "    </tr>\n",
       "  </thead>\n",
       "  <tbody>\n",
       "    <tr>\n",
       "      <th>872178</th>\n",
       "      <td>902973.0</td>\n",
       "      <td>97.0</td>\n",
       "      <td>2018-05-21 23:59:16</td>\n",
       "      <td>BID</td>\n",
       "      <td>141.4375</td>\n",
       "      <td>2018-05-21 23:59:16</td>\n",
       "      <td>902987.0</td>\n",
       "      <td>351.0</td>\n",
       "      <td>2018-05-21 23:59:44</td>\n",
       "      <td>ASK</td>\n",
       "      <td>141.46875</td>\n",
       "      <td>2018-05-21 23:59:44</td>\n",
       "    </tr>\n",
       "    <tr>\n",
       "      <th>872179</th>\n",
       "      <td>902973.0</td>\n",
       "      <td>97.0</td>\n",
       "      <td>2018-05-21 23:59:16</td>\n",
       "      <td>BID</td>\n",
       "      <td>141.4375</td>\n",
       "      <td>2018-05-21 23:59:16</td>\n",
       "      <td>902988.0</td>\n",
       "      <td>357.0</td>\n",
       "      <td>2018-05-21 23:59:48</td>\n",
       "      <td>ASK</td>\n",
       "      <td>141.46875</td>\n",
       "      <td>2018-05-21 23:59:48</td>\n",
       "    </tr>\n",
       "    <tr>\n",
       "      <th>872180</th>\n",
       "      <td>902973.0</td>\n",
       "      <td>97.0</td>\n",
       "      <td>2018-05-21 23:59:16</td>\n",
       "      <td>BID</td>\n",
       "      <td>141.4375</td>\n",
       "      <td>2018-05-21 23:59:16</td>\n",
       "      <td>902989.0</td>\n",
       "      <td>351.0</td>\n",
       "      <td>2018-05-21 23:59:50</td>\n",
       "      <td>ASK</td>\n",
       "      <td>141.46875</td>\n",
       "      <td>2018-05-21 23:59:50</td>\n",
       "    </tr>\n",
       "    <tr>\n",
       "      <th>872181</th>\n",
       "      <td>902973.0</td>\n",
       "      <td>97.0</td>\n",
       "      <td>2018-05-21 23:59:16</td>\n",
       "      <td>BID</td>\n",
       "      <td>141.4375</td>\n",
       "      <td>2018-05-21 23:59:16</td>\n",
       "      <td>902990.0</td>\n",
       "      <td>323.0</td>\n",
       "      <td>2018-05-21 23:59:59</td>\n",
       "      <td>ASK</td>\n",
       "      <td>141.46875</td>\n",
       "      <td>2018-05-21 23:59:59</td>\n",
       "    </tr>\n",
       "    <tr>\n",
       "      <th>872182</th>\n",
       "      <td>902973.0</td>\n",
       "      <td>97.0</td>\n",
       "      <td>2018-05-21 23:59:16</td>\n",
       "      <td>BID</td>\n",
       "      <td>141.4375</td>\n",
       "      <td>2018-05-21 23:59:16</td>\n",
       "      <td>902991.0</td>\n",
       "      <td>324.0</td>\n",
       "      <td>2018-05-21 23:59:59</td>\n",
       "      <td>ASK</td>\n",
       "      <td>141.46875</td>\n",
       "      <td>2018-05-21 23:59:59</td>\n",
       "    </tr>\n",
       "    <tr>\n",
       "      <th>872183</th>\n",
       "      <td>902973.0</td>\n",
       "      <td>97.0</td>\n",
       "      <td>2018-05-21 23:59:16</td>\n",
       "      <td>BID</td>\n",
       "      <td>141.4375</td>\n",
       "      <td>2018-05-21 23:59:16</td>\n",
       "      <td>902992.0</td>\n",
       "      <td>323.0</td>\n",
       "      <td>2018-05-21 23:59:59</td>\n",
       "      <td>ASK</td>\n",
       "      <td>141.46875</td>\n",
       "      <td>2018-05-21 23:59:59</td>\n",
       "    </tr>\n",
       "    <tr>\n",
       "      <th>872184</th>\n",
       "      <td>902973.0</td>\n",
       "      <td>97.0</td>\n",
       "      <td>2018-05-21 23:59:16</td>\n",
       "      <td>BID</td>\n",
       "      <td>141.4375</td>\n",
       "      <td>2018-05-21 23:59:16</td>\n",
       "      <td>902993.0</td>\n",
       "      <td>304.0</td>\n",
       "      <td>2018-05-22 00:00:00</td>\n",
       "      <td>ASK</td>\n",
       "      <td>141.46875</td>\n",
       "      <td>2018-05-22 00:00:00</td>\n",
       "    </tr>\n",
       "    <tr>\n",
       "      <th>872185</th>\n",
       "      <td>902973.0</td>\n",
       "      <td>97.0</td>\n",
       "      <td>2018-05-21 23:59:16</td>\n",
       "      <td>BID</td>\n",
       "      <td>141.4375</td>\n",
       "      <td>2018-05-21 23:59:16</td>\n",
       "      <td>902994.0</td>\n",
       "      <td>279.0</td>\n",
       "      <td>2018-05-22 00:00:00</td>\n",
       "      <td>ASK</td>\n",
       "      <td>141.46875</td>\n",
       "      <td>2018-05-22 00:00:00</td>\n",
       "    </tr>\n",
       "    <tr>\n",
       "      <th>872186</th>\n",
       "      <td>902973.0</td>\n",
       "      <td>97.0</td>\n",
       "      <td>2018-05-21 23:59:16</td>\n",
       "      <td>BID</td>\n",
       "      <td>141.4375</td>\n",
       "      <td>2018-05-21 23:59:16</td>\n",
       "      <td>902995.0</td>\n",
       "      <td>278.0</td>\n",
       "      <td>2018-05-22 00:00:00</td>\n",
       "      <td>ASK</td>\n",
       "      <td>141.46875</td>\n",
       "      <td>2018-05-22 00:00:00</td>\n",
       "    </tr>\n",
       "    <tr>\n",
       "      <th>872187</th>\n",
       "      <td>902973.0</td>\n",
       "      <td>97.0</td>\n",
       "      <td>2018-05-21 23:59:16</td>\n",
       "      <td>BID</td>\n",
       "      <td>141.4375</td>\n",
       "      <td>2018-05-21 23:59:16</td>\n",
       "      <td>902996.0</td>\n",
       "      <td>276.0</td>\n",
       "      <td>2018-05-22 00:00:00</td>\n",
       "      <td>ASK</td>\n",
       "      <td>141.46875</td>\n",
       "      <td>2018-05-22 00:00:00</td>\n",
       "    </tr>\n",
       "    <tr>\n",
       "      <th>872188</th>\n",
       "      <td>902973.0</td>\n",
       "      <td>97.0</td>\n",
       "      <td>2018-05-21 23:59:16</td>\n",
       "      <td>BID</td>\n",
       "      <td>141.4375</td>\n",
       "      <td>2018-05-21 23:59:16</td>\n",
       "      <td>902997.0</td>\n",
       "      <td>274.0</td>\n",
       "      <td>2018-05-22 00:00:00</td>\n",
       "      <td>ASK</td>\n",
       "      <td>141.46875</td>\n",
       "      <td>2018-05-22 00:00:00</td>\n",
       "    </tr>\n",
       "    <tr>\n",
       "      <th>872189</th>\n",
       "      <td>902973.0</td>\n",
       "      <td>97.0</td>\n",
       "      <td>2018-05-21 23:59:16</td>\n",
       "      <td>BID</td>\n",
       "      <td>141.4375</td>\n",
       "      <td>2018-05-21 23:59:16</td>\n",
       "      <td>902998.0</td>\n",
       "      <td>272.0</td>\n",
       "      <td>2018-05-22 00:00:00</td>\n",
       "      <td>ASK</td>\n",
       "      <td>141.46875</td>\n",
       "      <td>2018-05-22 00:00:00</td>\n",
       "    </tr>\n",
       "  </tbody>\n",
       "</table>\n",
       "</div>"
      ],
      "text/plain": [
       "        Unnamed: 0  bestBidSize           TimeStampS BidSide  bestBidPrice  \\\n",
       "872178    902973.0         97.0  2018-05-21 23:59:16     BID      141.4375   \n",
       "872179    902973.0         97.0  2018-05-21 23:59:16     BID      141.4375   \n",
       "872180    902973.0         97.0  2018-05-21 23:59:16     BID      141.4375   \n",
       "872181    902973.0         97.0  2018-05-21 23:59:16     BID      141.4375   \n",
       "872182    902973.0         97.0  2018-05-21 23:59:16     BID      141.4375   \n",
       "872183    902973.0         97.0  2018-05-21 23:59:16     BID      141.4375   \n",
       "872184    902973.0         97.0  2018-05-21 23:59:16     BID      141.4375   \n",
       "872185    902973.0         97.0  2018-05-21 23:59:16     BID      141.4375   \n",
       "872186    902973.0         97.0  2018-05-21 23:59:16     BID      141.4375   \n",
       "872187    902973.0         97.0  2018-05-21 23:59:16     BID      141.4375   \n",
       "872188    902973.0         97.0  2018-05-21 23:59:16     BID      141.4375   \n",
       "872189    902973.0         97.0  2018-05-21 23:59:16     BID      141.4375   \n",
       "\n",
       "                 TimeStamp  Unnamed: 0  bestAskSize           TimeStampS  \\\n",
       "872178 2018-05-21 23:59:16    902987.0        351.0  2018-05-21 23:59:44   \n",
       "872179 2018-05-21 23:59:16    902988.0        357.0  2018-05-21 23:59:48   \n",
       "872180 2018-05-21 23:59:16    902989.0        351.0  2018-05-21 23:59:50   \n",
       "872181 2018-05-21 23:59:16    902990.0        323.0  2018-05-21 23:59:59   \n",
       "872182 2018-05-21 23:59:16    902991.0        324.0  2018-05-21 23:59:59   \n",
       "872183 2018-05-21 23:59:16    902992.0        323.0  2018-05-21 23:59:59   \n",
       "872184 2018-05-21 23:59:16    902993.0        304.0  2018-05-22 00:00:00   \n",
       "872185 2018-05-21 23:59:16    902994.0        279.0  2018-05-22 00:00:00   \n",
       "872186 2018-05-21 23:59:16    902995.0        278.0  2018-05-22 00:00:00   \n",
       "872187 2018-05-21 23:59:16    902996.0        276.0  2018-05-22 00:00:00   \n",
       "872188 2018-05-21 23:59:16    902997.0        274.0  2018-05-22 00:00:00   \n",
       "872189 2018-05-21 23:59:16    902998.0        272.0  2018-05-22 00:00:00   \n",
       "\n",
       "       AskSide  bestAskPrice           TimeStamp  \n",
       "872178     ASK     141.46875 2018-05-21 23:59:44  \n",
       "872179     ASK     141.46875 2018-05-21 23:59:48  \n",
       "872180     ASK     141.46875 2018-05-21 23:59:50  \n",
       "872181     ASK     141.46875 2018-05-21 23:59:59  \n",
       "872182     ASK     141.46875 2018-05-21 23:59:59  \n",
       "872183     ASK     141.46875 2018-05-21 23:59:59  \n",
       "872184     ASK     141.46875 2018-05-22 00:00:00  \n",
       "872185     ASK     141.46875 2018-05-22 00:00:00  \n",
       "872186     ASK     141.46875 2018-05-22 00:00:00  \n",
       "872187     ASK     141.46875 2018-05-22 00:00:00  \n",
       "872188     ASK     141.46875 2018-05-22 00:00:00  \n",
       "872189     ASK     141.46875 2018-05-22 00:00:00  "
      ]
     },
     "execution_count": 24,
     "metadata": {},
     "output_type": "execute_result"
    }
   ],
   "source": [
    "dfLOBraw =pd.concat([dfBID, dfASK],axis=1, join='outer').ffill().dropna()\n",
    "dfLOBraw.tail(12)"
   ]
  },
  {
   "cell_type": "code",
   "execution_count": null,
   "metadata": {},
   "outputs": [],
   "source": []
  },
  {
   "cell_type": "code",
   "execution_count": null,
   "metadata": {},
   "outputs": [],
   "source": []
  },
  {
   "cell_type": "code",
   "execution_count": null,
   "metadata": {},
   "outputs": [],
   "source": [
    "tp_rolling=test_file['TradedPrice'].rolling(5).mean()\n",
    "v= test_file['Volume'].rolling(5).mean()\n",
    "df=test_file\n",
    "# df.groupby(df.index).rolling(7).apply(lambda x: np.average(x.TradedPrice, weights=x.Volume))"
   ]
  },
  {
   "cell_type": "code",
   "execution_count": null,
   "metadata": {},
   "outputs": [],
   "source": [
    "# # Groupby column with rolling mean.\n",
    "# df_grouped_rolling = df.groupby(df.index)[['TradedPrice', 'Volume']].rolling(window=3, min_periods=2).min()\n",
    "# df_grouped_rolling.groupby(df_grouped_rolling.index).rolling(7).apply(lambda x: np.average(x.TradedPrice, weights=x.Volume))\n",
    "# # # df_grouped_rolling.head(10)\n",
    "# df_grouped_rolling"
   ]
  },
  {
   "cell_type": "code",
   "execution_count": null,
   "metadata": {},
   "outputs": [],
   "source": [
    "# idx=0\n",
    "# trades_files_loc = os.path.join(data_dir,bmrg_trades[idx])\n",
    "# trades_files= os.listdir(os.path.join(data_dir,bmrg_trades[idx]))\n",
    "# # file_idx=1\n",
    "# for file_idx,_ in enumerate(trades_files):\n",
    "#     symbol='G_1_Comdty'\n",
    "#     print('working on symbol:', symbol)\n",
    "#     trades_df = pd.read_csv(os.path.join(trades_files_loc, trades_files[file_idx]), index_col=0)\n",
    "#     print('reading this:', trades_files[file_idx])\n",
    "#     trades_df=trades_df.rename(index=str, columns={\"size\": \"Volume\",\"value\":\"TradedPrice\"}).drop(columns=['type'])\n",
    "#     trades_df['TradedTime'] = pd.to_datetime(trades_df['time'])\n",
    "#     trades_df= trades_df.drop(columns=['time'])\n",
    "#     res = trades_df.groupby('TradedTime').apply(agg_on_trd_time)\n",
    "#     res.reset_index(inplace=True)\n",
    "#     res.loc[:, 'Duration'] = res['TradedTime']- res['TradedTime'].shift(1)\n",
    "#     res['Duration'].fillna(value=0, inplace=True)\n",
    "#     res.loc[:, 'Duration'] = res['Duration'].apply(lambda tt: tt.total_seconds())\n",
    "#     res.loc[1:, 'ReturnTradedPrice'] = \\\n",
    "#         res['TradedPrice'].rolling(window=2).apply(lambda xx: np.log(xx[-1]/xx[0]))\n",
    "#     res.loc[0, 'ReturnTradedPrice'] = 0.\n",
    "#     target_file_name\n",
    "#     target_file_name = os.path.join(os.path.join(data_dir,symbol),trades_files[file_idx])\n",
    "#     print('saving here:', target_file_name)karima\n",
    "#     res[['TradedTime', 'TradedPrice', 'ReturnTradedPrice', 'Volume', \\\n",
    "#          'Duration']].to_csv(target_file_name, index=False)\n",
    "# print(res.columns.values)                       "
   ]
  },
  {
   "cell_type": "code",
   "execution_count": null,
   "metadata": {},
   "outputs": [],
   "source": [
    "# for idx, symbol_trades in enumerate(bmrg_trades):\n",
    "#     trades_files_loc = os.path.join(data_dir,bmrg_trades[idx])\n",
    "#     trades_files= os.listdir(os.path.join(data_dir,bmrg_trades[idx]))\n",
    "#     symbol=\"_\".join((bmrg_trades[idx].split('_')[0],\"Comdty\"))\n",
    "#     print('working on symbol:', symbol)\n",
    "#     for file_idx,_ in enumerate(trades_files):\n",
    "#         print('reading this:', trades_files[file_idx])\n",
    "#         trades_df = pd.read_csv(os.path.join(trades_files_loc, trades_files[file_idx]), index_col=0)\n",
    "#         trades_df=trades_df.rename(index=str, columns={\"size\": \"Volume\",\"value\":\"TradedPrice\"}).drop(columns=['type'])\n",
    "#         trades_df['TradedTime'] = pd.to_datetime(trades_df['time'])\n",
    "#         trades_df= trades_df.drop(columns=['time'])\n",
    "#         res = trades_df.groupby('TradedTime').apply(agg_on_trd_time)\n",
    "#         res.reset_index(inplace=True)\n",
    "#         res.loc[:, 'Duration'] = res['TradedTime']- res['TradedTime'].shift(1)\n",
    "#         res['Duration'].fillna(value=0, inplace=True)\n",
    "#         res.loc[:, 'Duration'] = res['Duration'].apply(lambda tt: tt.total_seconds())\n",
    "#         res.loc[1:, 'ReturnTradedPrice'] = \\\n",
    "#             res['TradedPrice'].rolling(window=2).apply(lambda xx: np.log(xx[-1]/xx[0]))\n",
    "#         res.loc[0, 'ReturnTradedPrice'] = 0\n",
    "#         target_file_name = os.path.join(os.path.join(data_dir,symbol),trades_files[file_idx])\n",
    "#         print('saving here:', target_file_name)\n",
    "#         res[['TradedTime', 'TradedPrice', 'ReturnTradedPrice', 'Volume', \\\n",
    "#              'Duration']].to_csv(target_file_name, index=False)\n",
    "\n",
    "        \n",
    "    \n"
   ]
  },
  {
   "cell_type": "code",
   "execution_count": null,
   "metadata": {},
   "outputs": [],
   "source": []
  },
  {
   "cell_type": "code",
   "execution_count": null,
   "metadata": {},
   "outputs": [],
   "source": [
    "# symbol_path = find_path(data_dir, str(bmrg_symbols[0]))\n",
    "# symbol_files=os.listdir(symbol_path)\n",
    "\n",
    "# symbol=symbol_files[1].split('-')[0]\n",
    "# date=symbol_files[1].split('-')[1].split('.')[0]\n",
    "idx=3\n",
    "trades_loc= os.path.join(data_dir,bmrg_trades[1])\n",
    "list_files =os.listdir(os.path.join(data_dir,bmrg_trades[1]))\n",
    "trades_file = os.path.join(trades_loc, list_files[idx])\n",
    "df= pd.read_csv(trades_file,index_col=0 )\n",
    "df.drop(columns=['type'])"
   ]
  },
  {
   "cell_type": "code",
   "execution_count": null,
   "metadata": {},
   "outputs": [],
   "source": [
    "from dateutil.parser import parse\n",
    "import datetime as dt\n",
    "# sample = parse(df['time'].iloc[:,1])\n",
    "# print(sample)\n",
    "sample=parse(df['time'].iloc[12])\n",
    "# # datetime.datetime(2010, 2, 15, 0, 0)\n",
    "# print(dt.strftime('%d/%m/%Y'))\n",
    "# # 15/02/2010\n",
    "sample_time=sample.time()\n",
    "sample_time.strftime('%H:%M:%S.%f')"
   ]
  },
  {
   "cell_type": "markdown",
   "metadata": {},
   "source": [
    "# Crypto Data#"
   ]
  },
  {
   "cell_type": "code",
   "execution_count": null,
   "metadata": {},
   "outputs": [],
   "source": [
    "import os\n",
    "crypto=os.path.join(data_only_drive,'crypto/BTCUSD.PERP.BMEX')\n",
    "os.listdir(data_only_drive)"
   ]
  },
  {
   "cell_type": "code",
   "execution_count": null,
   "metadata": {},
   "outputs": [],
   "source": [
    "crypto_path=os.path.join(data_only_drive,'crypto')\n",
    "trades_crypto_path = os.path.join(crypto_path,'trades')\n",
    "perp_trades_loc= os.path.join(trades_crypto_path,'BTCUSD.PERP.BMEX')\n",
    "perp_trades_list=os.listdir(perp_trades_loc)"
   ]
  },
  {
   "cell_type": "code",
   "execution_count": null,
   "metadata": {},
   "outputs": [],
   "source": [
    "LOB = os.path.join(crypto_path,'LOB')\n",
    "lob_files= os.listdir(os.path.join(LOB,os.listdir(LOB)[0]))\n"
   ]
  },
  {
   "cell_type": "code",
   "execution_count": null,
   "metadata": {},
   "outputs": [],
   "source": [
    "sample_file = pd.read_csv(os.path.join(perp_trades_loc, perp_trades_list[0]), index_col=0)"
   ]
  },
  {
   "cell_type": "code",
   "execution_count": null,
   "metadata": {},
   "outputs": [],
   "source": [
    "os.path.join(perp_trades_loc, perp_trades_list[0])"
   ]
  },
  {
   "cell_type": "code",
   "execution_count": null,
   "metadata": {},
   "outputs": [],
   "source": [
    "sample_file.reset_index(inplace=True)"
   ]
  },
  {
   "cell_type": "code",
   "execution_count": null,
   "metadata": {},
   "outputs": [],
   "source": [
    "from scipy.spatial.distance import pdist, squareform"
   ]
  },
  {
   "cell_type": "code",
   "execution_count": null,
   "metadata": {},
   "outputs": [],
   "source": [
    "sample_file=sample_file.drop(columns=['index'])"
   ]
  },
  {
   "cell_type": "code",
   "execution_count": null,
   "metadata": {},
   "outputs": [],
   "source": [
    "sample_file.columns.values"
   ]
  },
  {
   "cell_type": "code",
   "execution_count": null,
   "metadata": {},
   "outputs": [],
   "source": [
    "crypto_df= pd.to_datetime(sample_file['received_at'])"
   ]
  },
  {
   "cell_type": "code",
   "execution_count": null,
   "metadata": {},
   "outputs": [],
   "source": [
    "crypto_df['TradedPrice']= sample_file['price']\n"
   ]
  },
  {
   "cell_type": "code",
   "execution_count": null,
   "metadata": {},
   "outputs": [],
   "source": [
    "sample_file =sample_file.rename(index=str, columns={\"received_at\":\"TradedTime\",\"side\":\"Side\"})"
   ]
  },
  {
   "cell_type": "code",
   "execution_count": null,
   "metadata": {},
   "outputs": [],
   "source": [
    "sample_file['TradedTime']=pd.to_datetime(sample_file['TradedTime'])"
   ]
  },
  {
   "cell_type": "code",
   "execution_count": null,
   "metadata": {},
   "outputs": [],
   "source": [
    "sample_file =sample_file.rename(index=str, columns={\"price\":\"TradedPrice\",\"size\":\"Volume\"})"
   ]
  },
  {
   "cell_type": "code",
   "execution_count": null,
   "metadata": {},
   "outputs": [],
   "source": [
    "def get_time(date_time):\n",
    "    timestamp= date_time.strftime('%H:%M:%S.%f')\n",
    "    return timestamp"
   ]
  },
  {
   "cell_type": "code",
   "execution_count": null,
   "metadata": {},
   "outputs": [],
   "source": [
    "sample_file['TradedTime']=sample_file['TradedTime'].apply(get_time)"
   ]
  },
  {
   "cell_type": "markdown",
   "metadata": {},
   "source": [
    "res = sample_file.groupby('TradedTime').apply(agg_on_trd_time)\n",
    "res.reset_index(inplace=True)\n",
    "res.loc[:, 'Duration'] = res['TradedTime']- res['TradedTime'].shift(1)\n",
    "res['Duration'].fillna(value=0, inplace=True)\n",
    "res.loc[:, 'Duration'] = res['Duration'].apply(lambda tt: tt.total_seconds())\n",
    "res.loc[1:, 'ReturnTradedPrice'] = \\\n",
    "res['TradedPrice'].rolling(window=2).apply(lambda xx: np.log(xx[-1]/xx[0]))\n",
    "res.loc[0, 'ReturnTradedPrice'] = 0"
   ]
  },
  {
   "cell_type": "code",
   "execution_count": null,
   "metadata": {},
   "outputs": [],
   "source": [
    "data_dir = os.getenv('FINANCE_DATA') #main directory\n",
    "data_only_drive= '/mnt/usb-Seagate_Expansion_Desk_NA8XEHR6-0:0-part2'\n",
    "bmrg_symbols=[s for s in os.listdir(data_dir) if s.endswith('20181028') or s.endswith('20181027')]\n",
    "\n",
    "\n",
    "bmrg_symbols_destinations=[s for s in os.listdir(data_dir) if s.endswith('trades') or s.endswith('quotes')]\n",
    "bmrg_tickers=[bmrg_symbols_destinations[idx].split('_t')[0] or \\\n",
    "              bmrg_symbols_destinations[idx].split('_q')[0] for idx,_ in enumerate(bmrg_symbols_destinations)]\n",
    "ftse_symbols= [s for s in os.listdir(data_dir) if s.endswith('.L')]\n",
    "features_models_dd= os.path.join(data_dir, 'features_models')\n",
    "labels = os.path.join(features_models_dd, 'labels')\n",
    "model_features= os.path.join(features_models_dd, 'features')\n",
    "features_models_dOd= os.path.join(data_only_drive, 'features_models')"
   ]
  },
  {
   "cell_type": "raw",
   "metadata": {},
   "source": [
    "#     symbol_features_path = os.path.join(model_features, symbol,'MODEL_BASED') # set model-based features path for the symbol\n",
    "#     symbol_labels_list= os.listdir(symbol_labels_path) # make a list of all the labels\n",
    "#     market_features_path = os.path.join(data_only_drive,'Data','features_models',symbol,'MARKET_BASED')\n",
    "#     features_dates_dir= os.listdir(symbol_features_path)\n",
    "#     market_features_dates= [os.listdir(market_features_path)[idx].split(\".\")[0] for idx, _ in enumerate(market_features_path)]\n",
    "#     labels_dates= [symbol_labels_list[idx].split(\".\")[0] for idx, _ in enumerate(symbol_labels_list)]\n"
   ]
  },
  {
   "cell_type": "code",
   "execution_count": null,
   "metadata": {},
   "outputs": [],
   "source": [
    "data_dir\n",
    "ftse_symbols= [s for s in os.listdir(data_dir) if s.endswith('.L')]\n",
    "test=os.listdir(os.path.join(data_dir, ftse_symbols[1]))\n",
    "len(test)"
   ]
  },
  {
   "cell_type": "code",
   "execution_count": null,
   "metadata": {},
   "outputs": [],
   "source": [
    "\n",
    "for idx,_ in enumerate(ftse_symbols):\n",
    "    symbol=ftse_symbols[idx] # set symbol\n",
    "    features_models_path = '/media/ak/WorkDrive/Data/features_models/models/'\n",
    "    features_only_path = '/media/ak/WorkDrive/Data/features_models/features/'\n",
    "    symbol_raw_data_path = os.listdir(os.path.join(data_dir, symbol))\n",
    "    symbol_hmm_model_path = os.listdir(os.path.join(features_models_path, symbol,'HMM'))\n",
    "    symbol_labels_path= os.listdir(os.path.join(labels, symbol,'NON_DIRECTIONAL')) # set labels path for the symbol\n",
    "    market_features_path = os.listdir(os.path.join(data_only_drive,'Data','features_models',symbol,'MARKET_BASED'))\n",
    "    symbol_model_features = os.listdir(os.path.join(features_only_path, symbol, 'MODEL_BASED'))\n",
    "#     print('symbol: ', symbol)\n",
    "# #     print('number of days: ', len(symbol_raw_data_path))\n",
    "# #     print('number of hmm models: ', len(symbol_hmm_model_path))\n",
    "# #     print(\"number of date files in labels:\",len(symbol_labels_path))\n",
    "#     print(\"mearket features:\", len(market_features_path))\n",
    "#     print(\"common elements between market features and labels:\",len(list(common_member(market_features_path, \\\n",
    "#                                                                                        symbol_labels_path))))\n",
    "# #     if len(symbol_raw_data_path)!= len(symbol_labels_path):\n",
    "# #         print('check symbol:',symbol)\n",
    "# #         problem_list.append(symbol)\n"
   ]
  },
  {
   "cell_type": "code",
   "execution_count": null,
   "metadata": {},
   "outputs": [],
   "source": [
    "##test case##\n",
    "symbol='AAL.L' # set symbol\n",
    "features_models_path = '/media/ak/WorkDrive/Data/features_models/models/'\n",
    "symbol_raw_data_path = os.path.join(data_dir, symbol)\n",
    "symbol_hmm_model_path = os.path.join(features_models_path, symbol,'HMM')\n",
    "symbol_labels_path= os.path.join(labels, symbol,'NON_DIRECTIONAL') # set labels path for the symbol\n",
    "market_features_path = os.path.join(data_only_drive,'Data','features_models',symbol,'MARKET_BASED')\n",
    "print('symbol: ', symbol)\n",
    "print(symbol_raw_data_path)\n",
    "print(symbol_hmm_model_path)\n",
    "print(symbol_labels_path)\n",
    "print(market_features_path)\n"
   ]
  },
  {
   "cell_type": "code",
   "execution_count": null,
   "metadata": {},
   "outputs": [],
   "source": [
    "symbol_features = os.listdir(os.path.join(features_only_path, symbol, 'MODEL_BASED')) #this is a list of folders, indexed by date\n",
    "labels_dates= [symbol_labels_path[idx].split(\".\")[0] for idx, _ in enumerate(symbol_labels_path)]\n",
    "date=labels_dates[1]\n",
    "# for _, date in enumerate(labels_dates):\n",
    "date_symbol_features = os.path.join(features_only_path, symbol, 'MODEL_BASED', date)\n",
    "date_feature_list= os.listdir(date_symbol_features)\n",
    "for idx, _ in enumerate(date_feature_list):\n",
    "    open_pickle_file(path=date_symbol_features, pickle_file=date_feature_list[idx])\n"
   ]
  },
  {
   "cell_type": "code",
   "execution_count": null,
   "metadata": {},
   "outputs": [],
   "source": [
    "date\n",
    "date_symbol_features = os.path.join(features_only_path, symbol, 'MODEL_BASED', date)\n",
    "date_symbol_features\n",
    "date_feature_list= os.listdir(date_symbol_features)\n",
    "print date_feature_list\n",
    "for idx, _ in enumerate(date_feature_list):\n",
    "     open_pickle_file(path=date_symbol_features, pickle_file=date_feature_list[idx])[1]"
   ]
  },
  {
   "cell_type": "code",
   "execution_count": null,
   "metadata": {},
   "outputs": [],
   "source": [
    "# for idx, date  in enumerate(symbol_model_features):\n",
    "#     print os.listdir(os.path.join(features_only_path, symbol, 'MODEL_BASED', date))\n",
    "date_feature_list= os.listdir(date_symbol_features)\n",
    "for idx, _ in enumerate(date_feature_list):\n",
    "    print date_feature_list[idx]"
   ]
  },
  {
   "cell_type": "code",
   "execution_count": null,
   "metadata": {},
   "outputs": [],
   "source": []
  },
  {
   "cell_type": "markdown",
   "metadata": {},
   "source": []
  },
  {
   "cell_type": "code",
   "execution_count": null,
   "metadata": {},
   "outputs": [],
   "source": []
  },
  {
   "cell_type": "raw",
   "metadata": {},
   "source": [
    "[symbol_labels_list[idx].split(\".\")[0] for idx, _ in enumerate(symbol_labels_list)]"
   ]
  },
  {
   "cell_type": "code",
   "execution_count": null,
   "metadata": {},
   "outputs": [],
   "source": [
    "duration=pd.read_csv(file_location,index_col=0)['Duration']\n",
    "non_directional_labels = pd.read_csv(file_location,index_col=0)['label_PrMov__window_25__thres_arbitrary__10.0'] #this is a problem\n",
    "df = pd.read_csv(file_location,index_col=0)\n",
    "features_dates_dir= os.listdir(symbol_features_path)#\n",
    "# path for a specific hmm model date --- out of sample pickle files\n",
    "pickle_features_path= os.path.join(symbol_features_path, features_dates_dir[1])"
   ]
  },
  {
   "cell_type": "code",
   "execution_count": null,
   "metadata": {},
   "outputs": [],
   "source": [
    "os.listdir(pickle_features_path)"
   ]
  },
  {
   "cell_type": "code",
   "execution_count": null,
   "metadata": {},
   "outputs": [],
   "source": [
    "# 'III.L_3_states_features_date:_20171024_now:_20181226_\n",
    "compute_date= '20181226'\n",
    "date= features_dates_dir[5]\n",
    "features_pickle_file = \"_\".join((symbol,'3_states_features_date:',features_dates_dir[5],'now:',compute_date,'.pickle'))"
   ]
  },
  {
   "cell_type": "code",
   "execution_count": null,
   "metadata": {},
   "outputs": [],
   "source": [
    "model_features =open_pickle_file(pickle_features_path,features_pickle_file) #tuple for all the HMM- model features"
   ]
  },
  {
   "cell_type": "code",
   "execution_count": null,
   "metadata": {},
   "outputs": [],
   "source": [
    "market_features_path = os.path.join(data_only_drive,'Data','features_models',symbol,'MARKET_BASED')"
   ]
  },
  {
   "cell_type": "code",
   "execution_count": null,
   "metadata": {},
   "outputs": [],
   "source": [
    "market_features= os.path.join(market_features_path, date)"
   ]
  },
  {
   "cell_type": "code",
   "execution_count": null,
   "metadata": {},
   "outputs": [],
   "source": [
    "if os.path.isfile(market_features):\n",
    "    pd.read_csv(market_features)\n",
    "else:\n",
    "    pass"
   ]
  },
  {
   "cell_type": "code",
   "execution_count": null,
   "metadata": {},
   "outputs": [],
   "source": [
    "market_features_dates= [os.listdir(market_features_path)[idx].split(\".\")[0] for idx, _ in enumerate(market_features_path)]"
   ]
  },
  {
   "cell_type": "code",
   "execution_count": null,
   "metadata": {},
   "outputs": [],
   "source": [
    "def common_member(a, b): \n",
    "      \n",
    "    a_set = set(a) \n",
    "    b_set = set(b) \n",
    "      \n",
    "    # check length  \n",
    "    if len(a_set.intersection(b_set)) > 0: \n",
    "        return(a_set.intersection(b_set))   \n",
    "    else: \n",
    "        return(\"no common elements\") "
   ]
  },
  {
   "cell_type": "code",
   "execution_count": null,
   "metadata": {},
   "outputs": [],
   "source": [
    "common_elements=list(common_member(features_dates_dir, market_features_dates))"
   ]
  },
  {
   "cell_type": "code",
   "execution_count": null,
   "metadata": {},
   "outputs": [],
   "source": [
    "len(common_elements)"
   ]
  },
  {
   "cell_type": "code",
   "execution_count": null,
   "metadata": {},
   "outputs": [],
   "source": [
    "len(features_dates_dir)"
   ]
  },
  {
   "cell_type": "code",
   "execution_count": null,
   "metadata": {},
   "outputs": [],
   "source": [
    "len(market_features_dates)"
   ]
  },
  {
   "cell_type": "code",
   "execution_count": null,
   "metadata": {},
   "outputs": [],
   "source": []
  }
 ],
 "metadata": {
  "kernelspec": {
   "display_name": "Python 3",
   "language": "python",
   "name": "python3"
  },
  "language_info": {
   "codemirror_mode": {
    "name": "ipython",
    "version": 3
   },
   "file_extension": ".py",
   "mimetype": "text/x-python",
   "name": "python",
   "nbconvert_exporter": "python",
   "pygments_lexer": "ipython3",
   "version": "3.6.8"
  },
  "latex_envs": {
   "LaTeX_envs_menu_present": true,
   "autoclose": false,
   "autocomplete": true,
   "bibliofile": "biblio.bib",
   "cite_by": "apalike",
   "current_citInitial": 1,
   "eqLabelWithNumbers": true,
   "eqNumInitial": 1,
   "hotkeys": {
    "equation": "Ctrl-E",
    "itemize": "Ctrl-I"
   },
   "labels_anchors": false,
   "latex_user_defs": false,
   "report_style_numbering": false,
   "user_envs_cfg": false
  }
 },
 "nbformat": 4,
 "nbformat_minor": 2
}
