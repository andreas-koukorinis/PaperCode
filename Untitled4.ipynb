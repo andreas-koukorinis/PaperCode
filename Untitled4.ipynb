{
 "cells": [
  {
   "cell_type": "code",
   "execution_count": 7,
   "id": "60e71c37",
   "metadata": {},
   "outputs": [],
   "source": [
    "import numpy as np\n",
    "import pandas as pd\n",
    "from statsmodels.tsa.arima_process import ArmaProcess\n",
    "from causalimpact import CausalImpact\n",
    "import matplotlib.pyplot as plt\n",
    "from pandas.tseries.offsets import DateOffset\n",
    "\n",
    "# Set a seed for reproducibility\n",
    "np.random.seed(12345)\n",
    "\n",
    "# Define an ARMA process for our simulated data\n",
    "arma_process = ArmaProcess([1, 0.0], [1, -0.9])\n",
    "\n",
    "# Generate 100 observations of this process\n",
    "n_obs = 100\n",
    "y = 100 + arma_process.generate_sample(nsample=n_obs)\n",
    "X = np.random.normal(size=n_obs)\n",
    "\n",
    "# Add a shock/intervention at observation 70\n",
    "y[70:] += 10\n",
    "\n",
    "# Create a DataFrame for the observed data\n",
    "df = pd.DataFrame({'y': y, 'X': X}, \n",
    "                  index=pd.date_range(start='2020-01-01', periods=n_obs, freq='D'))\n",
    "\n",
    "# # Create a pre-period and post-period that defines when the shock/intervention occurred\n",
    "pre_period = ['2020-01-01', '2020-03-10']\n",
    "post_period = ['2020-03-11', '2020-04-09']\n",
    "\n",
    "# Apply the Causal Impact analysis\n",
    "ci = CausalImpact(df, pre_period, post_period)\n",
    "\n",
    "# # Display the results\n",
    "# print(ci.summary())\n",
    "# print(ci.summary(output='report'))\n",
    "\n",
    "# # Plot the results\n",
    "# ci.plot()\n",
    "# plt.show()\n"
   ]
  },
  {
   "cell_type": "code",
   "execution_count": 11,
   "id": "58f9fa8a",
   "metadata": {},
   "outputs": [
    {
     "data": {
      "text/plain": [
       "{'data':                      y         X\n",
       " 2020-01-01   99.795292 -1.565657\n",
       " 2020-01-02  100.663180 -0.562540\n",
       " 2020-01-03   99.049512 -0.032664\n",
       " 2020-01-04   99.911765 -0.929006\n",
       " 2020-01-05  102.465938 -0.482573\n",
       " ...                ...       ...\n",
       " 2020-04-05  110.768604  0.910983\n",
       " 2020-04-06  109.402382 -1.020903\n",
       " 2020-04-07  109.145170 -1.413416\n",
       " 2020-04-08  111.258648  1.296608\n",
       " 2020-04-09  109.626204  0.252275\n",
       " \n",
       " [100 rows x 2 columns],\n",
       " 'pre_period': ['2020-01-01', '2020-03-10'],\n",
       " 'post_period': ['2020-03-11', '2020-04-09'],\n",
       " 'model_args': None,\n",
       " 'ucm_model': None,\n",
       " 'post_period_response': None,\n",
       " 'alpha': 0.05,\n",
       " 'estimation': 'MLE'}"
      ]
     },
     "execution_count": 11,
     "metadata": {},
     "output_type": "execute_result"
    }
   ],
   "source": [
    "ci.params"
   ]
  },
  {
   "cell_type": "code",
   "execution_count": null,
   "id": "9977d8a4",
   "metadata": {},
   "outputs": [],
   "source": []
  }
 ],
 "metadata": {
  "kernelspec": {
   "display_name": "Python [conda env:timeSeries] *",
   "language": "python",
   "name": "conda-env-timeSeries-py"
  },
  "language_info": {
   "codemirror_mode": {
    "name": "ipython",
    "version": 3
   },
   "file_extension": ".py",
   "mimetype": "text/x-python",
   "name": "python",
   "nbconvert_exporter": "python",
   "pygments_lexer": "ipython3",
   "version": "3.7.12"
  }
 },
 "nbformat": 4,
 "nbformat_minor": 5
}
