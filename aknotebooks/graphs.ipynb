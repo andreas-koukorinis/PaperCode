{
 "cells": [
  {
   "cell_type": "code",
   "execution_count": 1,
   "metadata": {},
   "outputs": [],
   "source": [
    "\n",
    "import os\n",
    "\n",
    "import pandas as pd\n",
    "\n",
    "from sklearn.externals import joblib\n",
    "# Added version check for recent scikit-learn 0.18 checksok ca\n",
    "from distutils.version import LooseVersion as Version\n",
    "import numpy as np\n",
    "\n",
    "from sklearn.metrics import accuracy_score, classification_report\n",
    "from sklearn.metrics import precision_recall_fscore_support \n",
    "\n",
    "from collections import OrderedDict\n",
    "import pickle \n",
    "import matplotlib.pyplot as plt\n",
    "import seaborn as sns\n"
   ]
  },
  {
   "cell_type": "code",
   "execution_count": 2,
   "metadata": {},
   "outputs": [],
   "source": [
    "metrics_dir= ('/home/ak/Documents/Research/metrics/')\n",
    "\n",
    "#search only for npy files+make a list --> will use this later\n",
    "pickle_files=[s for s in os.listdir(metrics_dir) if s.endswith('metrics.pickle')]"
   ]
  },
  {
   "cell_type": "code",
   "execution_count": 3,
   "metadata": {},
   "outputs": [],
   "source": [
    "pickle_idx=3\n",
    "column_results={}\n",
    "row_results ={}\n",
    "for pickle_idx, pickle_file in enumerate(pickle_files):\n",
    "    name = pickle_file.split(\"_\")[0]\n",
    "    pickle_file_loc = os.path.join(metrics_dir, pickle_files[pickle_idx])\n",
    "    with open(pickle_file_loc, \"rb\") as input_file:\n",
    "        load_pickle = pickle.load(input_file)\n",
    "    recall_dict = load_pickle[\"recall\"]\n",
    "    f1_score_dict = load_pickle[\"F1-score\"]\n",
    "    accuracy_dict = load_pickle['accuracy']\n",
    "    accuracy_df_columns = pd.DataFrame(pd.DataFrame(accuracy_dict).apply(lambda x: np.nanmean( x), axis=1)) #along the columns\n",
    "    accuracy_df_rows = pd.DataFrame(pd.DataFrame(accuracy_dict).apply(lambda x: np.nanmean( x), axis=0)) #along the rows\n",
    "    row_results[name] = accuracy_df_rows.mean()\n",
    "    column_results[name] = accuracy_df_columns.mean()\n",
    "    \n",
    "    "
   ]
  },
  {
   "cell_type": "code",
   "execution_count": 4,
   "metadata": {},
   "outputs": [],
   "source": [
    "df_means= pd.DataFrame(row_results).T\n",
    "# df_means.reset_index(level=0, inplace=True)\n"
   ]
  },
  {
   "cell_type": "code",
   "execution_count": 5,
   "metadata": {},
   "outputs": [],
   "source": [
    "# tips = sns.load_dataset(\"tips\")\n",
    "# tips"
   ]
  },
  {
   "cell_type": "code",
   "execution_count": 13,
   "metadata": {},
   "outputs": [],
   "source": [
    "df_means = df_means.rename(columns={'index':'Symbol', 0:'Accuracy'})"
   ]
  },
  {
   "cell_type": "code",
   "execution_count": 7,
   "metadata": {},
   "outputs": [],
   "source": [
    "df_means.reset_index(level=0, inplace=True)"
   ]
  },
  {
   "cell_type": "code",
   "execution_count": 8,
   "metadata": {},
   "outputs": [],
   "source": [
    "# df_means['Accuracy']\n",
    "# df_means['Accuracy'] = pd.Series([\"{0:.2f}%\".format(val * 100) for val in df_means['Accuracy']], index = df_means.index)"
   ]
  },
  {
   "cell_type": "code",
   "execution_count": 14,
   "metadata": {},
   "outputs": [
    {
     "data": {
      "text/html": [
       "<div>\n",
       "<style scoped>\n",
       "    .dataframe tbody tr th:only-of-type {\n",
       "        vertical-align: middle;\n",
       "    }\n",
       "\n",
       "    .dataframe tbody tr th {\n",
       "        vertical-align: top;\n",
       "    }\n",
       "\n",
       "    .dataframe thead th {\n",
       "        text-align: right;\n",
       "    }\n",
       "</style>\n",
       "<table border=\"1\" class=\"dataframe\">\n",
       "  <thead>\n",
       "    <tr style=\"text-align: right;\">\n",
       "      <th></th>\n",
       "      <th>Symbol</th>\n",
       "      <th>Accuracy</th>\n",
       "    </tr>\n",
       "  </thead>\n",
       "  <tbody>\n",
       "    <tr>\n",
       "      <th>0</th>\n",
       "      <td>AAL.L</td>\n",
       "      <td>0.435036</td>\n",
       "    </tr>\n",
       "    <tr>\n",
       "      <th>1</th>\n",
       "      <td>AV.L</td>\n",
       "      <td>0.561732</td>\n",
       "    </tr>\n",
       "    <tr>\n",
       "      <th>2</th>\n",
       "      <td>AZN.L</td>\n",
       "      <td>0.518342</td>\n",
       "    </tr>\n",
       "    <tr>\n",
       "      <th>3</th>\n",
       "      <td>BARC.L</td>\n",
       "      <td>0.548769</td>\n",
       "    </tr>\n",
       "    <tr>\n",
       "      <th>4</th>\n",
       "      <td>BATS.L</td>\n",
       "      <td>0.421629</td>\n",
       "    </tr>\n",
       "    <tr>\n",
       "      <th>5</th>\n",
       "      <td>BLT.L</td>\n",
       "      <td>0.618810</td>\n",
       "    </tr>\n",
       "    <tr>\n",
       "      <th>6</th>\n",
       "      <td>CEY.L</td>\n",
       "      <td>0.473471</td>\n",
       "    </tr>\n",
       "    <tr>\n",
       "      <th>7</th>\n",
       "      <td>CPI.L</td>\n",
       "      <td>0.583361</td>\n",
       "    </tr>\n",
       "    <tr>\n",
       "      <th>8</th>\n",
       "      <td>DGE.L</td>\n",
       "      <td>0.776060</td>\n",
       "    </tr>\n",
       "    <tr>\n",
       "      <th>9</th>\n",
       "      <td>ECM.L</td>\n",
       "      <td>0.510380</td>\n",
       "    </tr>\n",
       "    <tr>\n",
       "      <th>10</th>\n",
       "      <td>GKN.L</td>\n",
       "      <td>0.521671</td>\n",
       "    </tr>\n",
       "    <tr>\n",
       "      <th>11</th>\n",
       "      <td>III.L</td>\n",
       "      <td>0.485136</td>\n",
       "    </tr>\n",
       "    <tr>\n",
       "      <th>12</th>\n",
       "      <td>ITV.L</td>\n",
       "      <td>0.499611</td>\n",
       "    </tr>\n",
       "    <tr>\n",
       "      <th>13</th>\n",
       "      <td>LAND.L</td>\n",
       "      <td>0.580005</td>\n",
       "    </tr>\n",
       "    <tr>\n",
       "      <th>14</th>\n",
       "      <td>LGEN.L</td>\n",
       "      <td>0.704974</td>\n",
       "    </tr>\n",
       "    <tr>\n",
       "      <th>15</th>\n",
       "      <td>LLOY.L</td>\n",
       "      <td>0.594390</td>\n",
       "    </tr>\n",
       "    <tr>\n",
       "      <th>16</th>\n",
       "      <td>MAB.L</td>\n",
       "      <td>0.521088</td>\n",
       "    </tr>\n",
       "    <tr>\n",
       "      <th>17</th>\n",
       "      <td>MKS.L</td>\n",
       "      <td>0.544690</td>\n",
       "    </tr>\n",
       "    <tr>\n",
       "      <th>18</th>\n",
       "      <td>PSON.L</td>\n",
       "      <td>0.622115</td>\n",
       "    </tr>\n",
       "    <tr>\n",
       "      <th>19</th>\n",
       "      <td>RBS.L</td>\n",
       "      <td>0.648316</td>\n",
       "    </tr>\n",
       "    <tr>\n",
       "      <th>20</th>\n",
       "      <td>RDSa.L</td>\n",
       "      <td>0.814832</td>\n",
       "    </tr>\n",
       "    <tr>\n",
       "      <th>21</th>\n",
       "      <td>REL.L</td>\n",
       "      <td>0.576738</td>\n",
       "    </tr>\n",
       "    <tr>\n",
       "      <th>22</th>\n",
       "      <td>RR.L</td>\n",
       "      <td>0.524995</td>\n",
       "    </tr>\n",
       "    <tr>\n",
       "      <th>23</th>\n",
       "      <td>RTO.L</td>\n",
       "      <td>0.618467</td>\n",
       "    </tr>\n",
       "    <tr>\n",
       "      <th>24</th>\n",
       "      <td>SDR.L</td>\n",
       "      <td>0.592766</td>\n",
       "    </tr>\n",
       "    <tr>\n",
       "      <th>25</th>\n",
       "      <td>SMIN.L</td>\n",
       "      <td>0.544685</td>\n",
       "    </tr>\n",
       "    <tr>\n",
       "      <th>26</th>\n",
       "      <td>TSCO.L</td>\n",
       "      <td>0.587442</td>\n",
       "    </tr>\n",
       "    <tr>\n",
       "      <th>27</th>\n",
       "      <td>ULVR.L</td>\n",
       "      <td>0.672838</td>\n",
       "    </tr>\n",
       "    <tr>\n",
       "      <th>28</th>\n",
       "      <td>VOD.L</td>\n",
       "      <td>0.617182</td>\n",
       "    </tr>\n",
       "  </tbody>\n",
       "</table>\n",
       "</div>"
      ],
      "text/plain": [
       "    Symbol  Accuracy\n",
       "0    AAL.L  0.435036\n",
       "1     AV.L  0.561732\n",
       "2    AZN.L  0.518342\n",
       "3   BARC.L  0.548769\n",
       "4   BATS.L  0.421629\n",
       "5    BLT.L  0.618810\n",
       "6    CEY.L  0.473471\n",
       "7    CPI.L  0.583361\n",
       "8    DGE.L  0.776060\n",
       "9    ECM.L  0.510380\n",
       "10   GKN.L  0.521671\n",
       "11   III.L  0.485136\n",
       "12   ITV.L  0.499611\n",
       "13  LAND.L  0.580005\n",
       "14  LGEN.L  0.704974\n",
       "15  LLOY.L  0.594390\n",
       "16   MAB.L  0.521088\n",
       "17   MKS.L  0.544690\n",
       "18  PSON.L  0.622115\n",
       "19   RBS.L  0.648316\n",
       "20  RDSa.L  0.814832\n",
       "21   REL.L  0.576738\n",
       "22    RR.L  0.524995\n",
       "23   RTO.L  0.618467\n",
       "24   SDR.L  0.592766\n",
       "25  SMIN.L  0.544685\n",
       "26  TSCO.L  0.587442\n",
       "27  ULVR.L  0.672838\n",
       "28   VOD.L  0.617182"
      ]
     },
     "execution_count": 14,
     "metadata": {},
     "output_type": "execute_result"
    }
   ],
   "source": [
    "df_means"
   ]
  },
  {
   "cell_type": "code",
   "execution_count": 15,
   "metadata": {},
   "outputs": [],
   "source": [
    "# sns.set_context(\"talk\", font_scale=1.4, rc={\"lines.linewidth\": 2})\n",
    "# sns.set('talk','darkgrid')"
   ]
  },
  {
   "cell_type": "code",
   "execution_count": 30,
   "metadata": {},
   "outputs": [
    {
     "data": {
      "image/png": "[encoded data removed]",
      "text/plain": [
       "<matplotlib.figure.Figure at 0x7fec8c82dbd0>"
      ]
     },
     "metadata": {},
     "output_type": "display_data"
    }
   ],
   "source": [
    "papercode_dir= '/home/ak/Documents/Research/Papers/figures/'\n",
    "plt.figure(figsize=(15,9))\n",
    "sns.light_palette(\"navy\", reverse=True)\n",
    "#sns.set_palette(\"husl\")\n",
    "sns.color_palette(\"PuBuGn_d\")\n",
    "sns.set_context(\"talk\")\n",
    "sns.set(font_scale=1.2)\n",
    "sns.set_style(\"whitegrid\")\n",
    "plt.title('Out of Sample Performance')\n",
    "ax = sns.barplot(y='Symbol', x='Accuracy',data=df_means)\n",
    "ax.tick_params(right=False, top=False)\n",
    "line_level = float(df_means.mean())\n",
    "plt.axvline(line_level, color= 'r', alpha=0.8, linestyle='dashed',linewidth=1.5)\n",
    "# manipulate\n",
    "ax.set_xticklabels(['{:,.02%}'.format(x) for x in df_means['Accuracy']])\n",
    "# [\"{0:.2f}%\".format(val * 100) for val in df_means['Accuracy']]\n",
    "filename='oos_performance.png'\n",
    "plt.savefig(\"\".join((papercode_dir,filename)))\n",
    "plt.show()"
   ]
  },
  {
   "cell_type": "code",
   "execution_count": null,
   "metadata": {},
   "outputs": [],
   "source": [
    "\n"
   ]
  },
  {
   "cell_type": "code",
   "execution_count": null,
   "metadata": {},
   "outputs": [],
   "source": [
    "df_means.plot.bar()\n",
    "plt.title('Out of sample Accuracy')\n",
    "plt.xlabel('symbol')\n",
    "sns.set_palette(\"husl\")\n"
   ]
  },
  {
   "cell_type": "code",
   "execution_count": 26,
   "metadata": {},
   "outputs": [],
   "source": []
  },
  {
   "cell_type": "code",
   "execution_count": 29,
   "metadata": {},
   "outputs": [
    {
     "data": {
      "text/plain": [
       "<matplotlib.figure.Figure at 0x7fec8c8dd650>"
      ]
     },
     "metadata": {},
     "output_type": "display_data"
    }
   ],
   "source": []
  },
  {
   "cell_type": "code",
   "execution_count": null,
   "metadata": {},
   "outputs": [],
   "source": []
  }
 ],
 "metadata": {
  "kernelspec": {
   "display_name": "Python 2",
   "language": "python",
   "name": "python2"
  },
  "language_info": {
   "codemirror_mode": {
    "name": "ipython",
    "version": 2
   },
   "file_extension": ".py",
   "mimetype": "text/x-python",
   "name": "python",
   "nbconvert_exporter": "python",
   "pygments_lexer": "ipython2",
   "version": "2.7.15rc1"
  }
 },
 "nbformat": 4,
 "nbformat_minor": 2
}
