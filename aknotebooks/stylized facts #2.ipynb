{
 "cells": [
  {
   "cell_type": "code",
   "execution_count": 1,
   "metadata": {},
   "outputs": [],
   "source": [
    "\n",
    "import pandas as pd\n",
    "\n",
    "from sklearn.externals import joblib\n",
    "# Added version check for recent scikit-learn 0.18 checksok ca\n",
    "from distutils.version import LooseVersion as Version\n",
    "import numpy as np\n",
    "from dateutil.parser import parse\n",
    "import datetime as dt\n",
    "from numba import jit\n",
    "from sklearn.metrics import accuracy_score, classification_report\n",
    "from sklearn.metrics import precision_recall_fscore_support \n",
    "from tqdm import tqdm, tqdm_notebook\n",
    "\n",
    "from collections import OrderedDict\n",
    "import pickle \n",
    "import matplotlib.pyplot as plt\n",
    "import seaborn as sns\n",
    "import random, os, csv      # random is the rng, os is the operating system, and csv handles\n",
    "                            # CSV files\n",
    "import matplotlib.pyplot as plt  # This is the plotter\n",
    "import time                 # This allows for lots of neat tricks.\n",
    "import powerlaw\n",
    "import mpmath\n",
    "# import visual tools\n",
    "import matplotlib as mpl\n",
    "import matplotlib.pyplot as plt\n",
    "import matplotlib.gridspec as gridspec\n",
    "%matplotlib inline\n",
    "import seaborn as sns\n",
    "\n",
    "plt.style.use('seaborn-talk')\n",
    "plt.style.use('bmh')\n",
    "\n",
    "#plt.rcParams['font.family'] = 'DejaVu Sans Mono'\n",
    "#plt.rcParams['font.size'] = 9.5\n",
    "plt.rcParams['font.weight'] = 'medium'\n",
    "#plt.rcParams['figure.figsize'] = 10,7\n",
    "blue, green, red, purple, gold, teal = sns.color_palette('colorblind', 6)\n",
    "\n"
   ]
  },
  {
   "cell_type": "code",
   "execution_count": 2,
   "metadata": {},
   "outputs": [],
   "source": [
    "def returns(s):\n",
    "    #compute log returns\n",
    "    arr = np.diff(np.log(s))\n",
    "    return (pd.Series(arr, index=s.index[1:]))\n",
    "\n",
    "def tick_bars(df, price_column, m):\n",
    "    '''\n",
    "    compute tick bars\n",
    "    # args\n",
    "        df: pd.DataFrame()\n",
    "        column: name for price data\n",
    "        m: int(), threshold value for ticks\n",
    "    # returns\n",
    "        idx: list of indices\n",
    "    '''\n",
    "    t = df[price_column]\n",
    "    ts = 0\n",
    "    idx = []\n",
    "    for i, x in enumerate(tqdm(t)):\n",
    "        ts += 1\n",
    "        if ts >= m:\n",
    "            idx.append(i)\n",
    "            ts = 0\n",
    "            continue\n",
    "    return idx\n",
    "def tick_bar_df(df, price_column, m):\n",
    "    idx = tick_bars(df, price_column, m)\n",
    "    return df.iloc[idx]\n",
    "#========================================================\n",
    "def volume_bars(df, volume_column, m):\n",
    "    '''\n",
    "    compute volume bars\n",
    "    # args\n",
    "        df: pd.DataFrame()\n",
    "        column: name for volume data\n",
    "        m: int(), threshold value for volume\n",
    "    # returns\n",
    "        idx: list of indices\n",
    "    '''\n",
    "    t = df[volume_column]\n",
    "    ts = 0\n",
    "    idx = []\n",
    "    for i, x in enumerate(tqdm(t)):\n",
    "        ts += x\n",
    "        if ts >= m:\n",
    "            idx.append(i)\n",
    "            ts = 0\n",
    "            continue\n",
    "    return idx\n",
    "\n",
    "def volume_bar_df(df, volume_column, m):\n",
    "    idx = volume_bars(df, volume_column, m)\n",
    "    return df.iloc[idx]\n",
    "#========================================================\n",
    "def dollar_bars(df, dv_column, m):\n",
    "    '''\n",
    "    compute dollar bars\n",
    "    # args\n",
    "        df: pd.DataFrame()\n",
    "        column: name for dollar volume data\n",
    "        m: int(), threshold value for dollars\n",
    "    # returns\n",
    "        idx: list of indices\n",
    "    '''\n",
    "    t = df[dv_column]\n",
    "    ts = 0\n",
    "    idx = []\n",
    "    for i, x in enumerate(tqdm(t)):\n",
    "        ts += x\n",
    "        if ts >= m:\n",
    "            idx.append(i)\n",
    "            ts = 0\n",
    "            continue\n",
    "    return idx\n",
    "\n",
    "def dollar_bar_df(df, dv_column, m):\n",
    "    idx = dollar_bars(df, dv_column, m)\n",
    "    return df.iloc[idx]\n",
    "#========================================================\n",
    "dataparser = lambda x: pd.datetime.strptime(x, '%M:%S.%f').time\n",
    "#========================================================\n",
    "@jit(nopython=True)\n",
    "def mad_outlier(y, thresh=3.):\n",
    "    '''\n",
    "    compute outliers based on mad\n",
    "    # args\n",
    "        y: assumed to be array with shape (N,1)\n",
    "        thresh: float()\n",
    "    # returns\n",
    "        array index of outliers\n",
    "    '''\n",
    "    median = np.median(y)\n",
    "    diff = np.sum((y - median)**2, axis=-1)\n",
    "    diff = np.sqrt(diff)\n",
    "    med_abs_deviation = np.median(diff)\n",
    "\n",
    "    modified_z_score = 0.6745 * diff / med_abs_deviation\n",
    "\n",
    "    return modified_z_score > thresh\n"
   ]
  },
  {
   "cell_type": "code",
   "execution_count": 3,
   "metadata": {},
   "outputs": [],
   "source": [
    "os.getcwd()\n",
    "data_dir = os.getenv('FINANCE_DATA')  # main directory referenced in all the code\n",
    "data_only_drive = '/mnt/usb-Seagate_Expansion_Desk_NA8XEHR6-0:0-part2/FinData/'  # external date only drive\n",
    "quotes=[s for s in os.listdir(data_only_drive) if s.endswith('quotes')]\n",
    "trades=[s for s in os.listdir(data_only_drive) if s.endswith('trades')]\n",
    "TY1_trades=[s for s in os.listdir(data_only_drive) if s.startswith('TY1') and s.endswith('trades')]\n",
    "TY1_quotes=[s for s in os.listdir(data_only_drive) if s.startswith('TY1') and s.endswith('quotes')]"
   ]
  },
  {
   "cell_type": "code",
   "execution_count": 4,
   "metadata": {},
   "outputs": [],
   "source": [
    "import os\n",
    "data_drive='/mnt/usb-Seagate_Expansion_Desk_NA8XEHR6-0:0-part2/'\n",
    "clean_files_data = \"\".join((data_drive,'/BTCUSD.PERP.BMEX/'))\n",
    "raw_crypto_data = '/mnt/usb-Seagate_Expansion_Desk_NA8XEHR6-0:0-part2/Data/crypto/LOB/BTCUSD.PERP.BMEX/' #btc perp data\n",
    "clean_crypto_files = os.listdir(clean_files_data)"
   ]
  },
  {
   "cell_type": "code",
   "execution_count": 5,
   "metadata": {},
   "outputs": [],
   "source": [
    "filename = \"\".join((clean_files_data,clean_crypto_files[0]))\n",
    "df_crypto=pd.read_csv(filename)"
   ]
  },
  {
   "cell_type": "code",
   "execution_count": null,
   "metadata": {},
   "outputs": [],
   "source": [
    "# ty1_quotes_loc=\"\".join((data_only_drive,TY1_quotes[0]))\n",
    "# ty1_trades_loc=\"\".join((data_only_drive,TY1_trades[0]))"
   ]
  },
  {
   "cell_type": "code",
   "execution_count": null,
   "metadata": {
    "scrolled": true
   },
   "outputs": [],
   "source": [
    "# futures_data_folder= '/home/ak/Documents/Data/FuturesData/'\n",
    "loc=ty1_quotes_loc\n",
    "csv_files=[s for s in os.listdir(loc) if s.endswith('.csv')]"
   ]
  },
  {
   "cell_type": "code",
   "execution_count": null,
   "metadata": {},
   "outputs": [],
   "source": [
    "csv_idx=1\n",
    "csv_loc = \"/\".join((loc,csv_files[csv_idx]))\n",
    "raw_data=pd.read_csv(csv_loc)\n",
    "raw_data.columns.values\n",
    "# raw_data=raw_data.rename(columns={'Unnamed: 0':'TimeStamp'})\n",
    "raw_data.reset_index(inplace=True)\n",
    "raw_data=raw_data.drop(columns=['index','Unnamed: 0'])"
   ]
  },
  {
   "cell_type": "code",
   "execution_count": null,
   "metadata": {},
   "outputs": [],
   "source": [
    "raw_data.columns.values"
   ]
  },
  {
   "cell_type": "code",
   "execution_count": null,
   "metadata": {},
   "outputs": [],
   "source": [
    "raw_data.head(10)\n",
    "bids=raw_data[raw_data['type']=='BID'].rename(columns={'size': 'bestBidSize', 'time': 'bidTimeStamp','value':'bestBidPrice'})\n",
    "asks=raw_data[raw_data['type']=='ASK'].rename(columns={'size': 'bestAskSize', 'time': 'askTimeStamp','value':'bestAskPrice'})\n",
    "df=pd.concat([bids, asks], axis=1)\n",
    "df=df.fillna(method='ffill').dropna()\n",
    "df['bidTimeStamp']=pd.to_datetime(df['bidTimeStamp'])\n",
    "df['askTimeStamp']=pd.to_datetime(df['askTimeStamp'])"
   ]
  },
  {
   "cell_type": "code",
   "execution_count": null,
   "metadata": {},
   "outputs": [],
   "source": [
    "# # df = pd.DataFrame(raw_data.row.str.split('',1).tolist(),\n",
    "# #                                    columns = ['BID','ASK'])\n",
    "# raw_data['type'].str.split('', 1, expand=True)\n"
   ]
  },
  {
   "cell_type": "code",
   "execution_count": null,
   "metadata": {},
   "outputs": [],
   "source": [
    "new_dates, new_times = zip(*[(d.date(), d.time()) for d in df['askTimeStamp']])\n",
    "# df = df.assign(df.askTimeStamp = new_times)\n"
   ]
  },
  {
   "cell_type": "code",
   "execution_count": 7,
   "metadata": {},
   "outputs": [],
   "source": [
    "df_crypto.drop('Unnamed: 0', axis=1, inplace=True)"
   ]
  },
  {
   "cell_type": "code",
   "execution_count": 8,
   "metadata": {},
   "outputs": [
    {
     "data": {
      "text/html": [
       "<div>\n",
       "<style scoped>\n",
       "    .dataframe tbody tr th:only-of-type {\n",
       "        vertical-align: middle;\n",
       "    }\n",
       "\n",
       "    .dataframe tbody tr th {\n",
       "        vertical-align: top;\n",
       "    }\n",
       "\n",
       "    .dataframe thead th {\n",
       "        text-align: right;\n",
       "    }\n",
       "</style>\n",
       "<table border=\"1\" class=\"dataframe\">\n",
       "  <thead>\n",
       "    <tr style=\"text-align: right;\">\n",
       "      <th></th>\n",
       "      <th>bestBidPrice</th>\n",
       "      <th>bestBidSize</th>\n",
       "      <th>bestAskPrice</th>\n",
       "      <th>bestAskSize</th>\n",
       "      <th>timestamp</th>\n",
       "      <th>time</th>\n",
       "      <th>date</th>\n",
       "      <th>milliSeconds</th>\n",
       "      <th>duration</th>\n",
       "      <th>MicroPrice</th>\n",
       "      <th>MicroPriceReturns</th>\n",
       "    </tr>\n",
       "  </thead>\n",
       "  <tbody>\n",
       "    <tr>\n",
       "      <th>0</th>\n",
       "      <td>6696.5</td>\n",
       "      <td>1176546.0</td>\n",
       "      <td>6697.0</td>\n",
       "      <td>426856.0</td>\n",
       "      <td>2018-08-26 13:21:37.905000+00:00</td>\n",
       "      <td>13:21:37.905000</td>\n",
       "      <td>2018-08-26</td>\n",
       "      <td>48097000.0</td>\n",
       "      <td>0.0</td>\n",
       "      <td>6696.633109</td>\n",
       "      <td>0.000000e+00</td>\n",
       "    </tr>\n",
       "    <tr>\n",
       "      <th>1</th>\n",
       "      <td>6696.5</td>\n",
       "      <td>1176646.0</td>\n",
       "      <td>6697.0</td>\n",
       "      <td>426856.0</td>\n",
       "      <td>2018-08-26 13:21:38.017000+00:00</td>\n",
       "      <td>13:21:38.017000</td>\n",
       "      <td>2018-08-26</td>\n",
       "      <td>48098000.0</td>\n",
       "      <td>1000.0</td>\n",
       "      <td>6696.633101</td>\n",
       "      <td>-1.239604e-09</td>\n",
       "    </tr>\n",
       "    <tr>\n",
       "      <th>2</th>\n",
       "      <td>6696.5</td>\n",
       "      <td>1176296.0</td>\n",
       "      <td>6697.0</td>\n",
       "      <td>426856.0</td>\n",
       "      <td>2018-08-26 13:21:38.304000+00:00</td>\n",
       "      <td>13:21:38.304000</td>\n",
       "      <td>2018-08-26</td>\n",
       "      <td>48098000.0</td>\n",
       "      <td>0.0</td>\n",
       "      <td>6696.633130</td>\n",
       "      <td>4.339290e-09</td>\n",
       "    </tr>\n",
       "    <tr>\n",
       "      <th>3</th>\n",
       "      <td>6696.5</td>\n",
       "      <td>1176296.0</td>\n",
       "      <td>6697.0</td>\n",
       "      <td>424112.0</td>\n",
       "      <td>2018-08-26 13:21:38.338000+00:00</td>\n",
       "      <td>13:21:38.338000</td>\n",
       "      <td>2018-08-26</td>\n",
       "      <td>48098000.0</td>\n",
       "      <td>0.0</td>\n",
       "      <td>6696.632501</td>\n",
       "      <td>-9.393097e-08</td>\n",
       "    </tr>\n",
       "    <tr>\n",
       "      <th>4</th>\n",
       "      <td>6696.5</td>\n",
       "      <td>1176296.0</td>\n",
       "      <td>6697.0</td>\n",
       "      <td>424112.0</td>\n",
       "      <td>2018-08-26 13:21:38.465000+00:00</td>\n",
       "      <td>13:21:38.465000</td>\n",
       "      <td>2018-08-26</td>\n",
       "      <td>48098000.0</td>\n",
       "      <td>0.0</td>\n",
       "      <td>6696.632501</td>\n",
       "      <td>0.000000e+00</td>\n",
       "    </tr>\n",
       "  </tbody>\n",
       "</table>\n",
       "</div>"
      ],
      "text/plain": [
       "   bestBidPrice  bestBidSize  bestAskPrice  bestAskSize  \\\n",
       "0        6696.5    1176546.0        6697.0     426856.0   \n",
       "1        6696.5    1176646.0        6697.0     426856.0   \n",
       "2        6696.5    1176296.0        6697.0     426856.0   \n",
       "3        6696.5    1176296.0        6697.0     424112.0   \n",
       "4        6696.5    1176296.0        6697.0     424112.0   \n",
       "\n",
       "                          timestamp             time        date  \\\n",
       "0  2018-08-26 13:21:37.905000+00:00  13:21:37.905000  2018-08-26   \n",
       "1  2018-08-26 13:21:38.017000+00:00  13:21:38.017000  2018-08-26   \n",
       "2  2018-08-26 13:21:38.304000+00:00  13:21:38.304000  2018-08-26   \n",
       "3  2018-08-26 13:21:38.338000+00:00  13:21:38.338000  2018-08-26   \n",
       "4  2018-08-26 13:21:38.465000+00:00  13:21:38.465000  2018-08-26   \n",
       "\n",
       "   milliSeconds  duration   MicroPrice  MicroPriceReturns  \n",
       "0    48097000.0       0.0  6696.633109       0.000000e+00  \n",
       "1    48098000.0    1000.0  6696.633101      -1.239604e-09  \n",
       "2    48098000.0       0.0  6696.633130       4.339290e-09  \n",
       "3    48098000.0       0.0  6696.632501      -9.393097e-08  \n",
       "4    48098000.0       0.0  6696.632501       0.000000e+00  "
      ]
     },
     "execution_count": 8,
     "metadata": {},
     "output_type": "execute_result"
    }
   ],
   "source": [
    "df_crypto.head(5)"
   ]
  },
  {
   "cell_type": "markdown",
   "metadata": {},
   "source": [
    "df['milliSeconds']=[int(((x.hour*60 + x.minute)*60 + x.second)*1000) for x in df['TimeStamp']]"
   ]
  },
  {
   "cell_type": "markdown",
   "metadata": {},
   "source": [
    "df=df.drop(columns=['bidTimeStamp','askTimeStamp', 'type'])\n"
   ]
  },
  {
   "cell_type": "code",
   "execution_count": null,
   "metadata": {},
   "outputs": [],
   "source": [
    "\n"
   ]
  },
  {
   "cell_type": "raw",
   "metadata": {},
   "source": [
    "# raw_data['TimeStamp']=pd.to_datetime(raw_data['TimeStamp'], format='%M:%S.%f' )\n",
    "df.rename(columns={'bidTimeStamp':'TimeStamp'})"
   ]
  },
  {
   "cell_type": "raw",
   "metadata": {},
   "source": [
    "def micro_price(df):\n",
    "    df['MicroPrice']=(df['bestAskPrice']*df['bestAskSize']+df['bestBidPrice']*df['bestBidSize'])/(df['bestAskSize']+df['bestBidSize'])\n",
    "    return df "
   ]
  },
  {
   "cell_type": "code",
   "execution_count": null,
   "metadata": {},
   "outputs": [],
   "source": [
    "# from StringIO import StringIO\n",
    "# in_ = StringIO()\n",
    "# in_.write(raw_data['TimeStamp'])\n",
    "# in_.seek(0)\n"
   ]
  },
  {
   "cell_type": "code",
   "execution_count": null,
   "metadata": {},
   "outputs": [],
   "source": [
    "df=micro_price(df)"
   ]
  },
  {
   "cell_type": "code",
   "execution_count": 10,
   "metadata": {},
   "outputs": [],
   "source": [
    "\n",
    "# raw_data['TimeStamp'].dt.time\n",
    "# raw_data['TimeStamp']=pd.to_datetime(raw_data['TimeStamp'])\n",
    "df_crypto['logRetMicroPrice']=returns(df_crypto.MicroPrice)\n",
    "df=df_crypto.dropna()"
   ]
  },
  {
   "cell_type": "code",
   "execution_count": null,
   "metadata": {},
   "outputs": [],
   "source": [
    "# raw_data['milliSeconds']=[int(((x.hour*60 + x.minute)*60 + x.second)*1000) for x in raw_data['TimeStamp']]\n",
    "# raw_data['Duration']= raw_data['milliSeconds'].diff(1)\n",
    "# raw_data=raw_data.dropna()\n",
    "df.columns.values"
   ]
  },
  {
   "cell_type": "code",
   "execution_count": null,
   "metadata": {},
   "outputs": [],
   "source": [
    "# for x in range(raw_data.shape[0]):\n",
    "#     t= raw_data['TimeStamp'][x]\n",
    "#     print (t.hour*60 + t.minute)*60 + t.second "
   ]
  },
  {
   "cell_type": "code",
   "execution_count": 11,
   "metadata": {},
   "outputs": [
    {
     "data": {
      "image/png": "[encoded data removed]",
      "text/plain": [
       "<Figure size 1080x648 with 1 Axes>"
      ]
     },
     "metadata": {},
     "output_type": "display_data"
    }
   ],
   "source": [
    "from scipy.stats import norm\n",
    "x = np.linspace(np.min(df.logRetMicroPrice),np.max(df.logRetMicroPrice),1000)\n",
    "y = norm.pdf(x, loc=np.mean(df.logRetMicroPrice), scale=np.std(df.logRetMicroPrice))    # for example\n",
    "\n",
    "plt.figure(figsize=(15,9))\n",
    "sns.light_palette(\"navy\", reverse=True)\n",
    "#sns.set_palette(\"husl\")\n",
    "sns.color_palette(\"PuBuGn_d\")\n",
    "sns.set_context(\"talk\")\n",
    "sns.set(font_scale=1.2)\n",
    "sns.set_style(\"whitegrid\")\n",
    "ax=sns.distplot(df.logRetMicroPrice, label='BTC Perp Data')\n",
    "plt.plot(x,y, color='red',linestyle='--',label='Normal')\n",
    "ax.legend()\n",
    "plt.title('MicroPrice Log Returns')\n",
    "ax.tick_params(right=False, top=False)"
   ]
  },
  {
   "cell_type": "code",
   "execution_count": 12,
   "metadata": {},
   "outputs": [
    {
     "data": {
      "image/png": "[encoded data removed]",
      "text/plain": [
       "<Figure size 432x288 with 1 Axes>"
      ]
     },
     "metadata": {},
     "output_type": "display_data"
    }
   ],
   "source": [
    "mad = mad_outlier(df.MicroPrice.values.reshape(-1,1))\n",
    "_=sns.boxplot(df.loc[~mad].MicroPrice*100)"
   ]
  },
  {
   "cell_type": "code",
   "execution_count": 13,
   "metadata": {},
   "outputs": [
    {
     "data": {
      "text/plain": [
       "array(['bestBidPrice', 'bestBidSize', 'bestAskPrice', 'bestAskSize',\n",
       "       'timestamp', 'time', 'date', 'milliSeconds', 'duration',\n",
       "       'MicroPrice', 'MicroPriceReturns', 'logRetMicroPrice'],\n",
       "      dtype=object)"
      ]
     },
     "execution_count": 13,
     "metadata": {},
     "output_type": "execute_result"
    }
   ],
   "source": [
    "df.columns.values"
   ]
  },
  {
   "cell_type": "code",
   "execution_count": 14,
   "metadata": {},
   "outputs": [
    {
     "name": "stderr",
     "output_type": "stream",
     "text": [
      "/home/ak/virtualenvs/DataAnalysis/lib/python2.7/site-packages/ipykernel_launcher.py:4: SettingWithCopyWarning: \n",
      "A value is trying to be set on a copy of a slice from a DataFrame.\n",
      "Try using .loc[row_indexer,col_indexer] = value instead\n",
      "\n",
      "See the caveats in the documentation: http://pandas.pydata.org/pandas-docs/stable/indexing.html#indexing-view-versus-copy\n",
      "  after removing the cwd from sys.path.\n",
      "/home/ak/virtualenvs/DataAnalysis/lib/python2.7/site-packages/ipykernel_launcher.py:6: SettingWithCopyWarning: \n",
      "A value is trying to be set on a copy of a slice from a DataFrame.\n",
      "Try using .loc[row_indexer,col_indexer] = value instead\n",
      "\n",
      "See the caveats in the documentation: http://pandas.pydata.org/pandas-docs/stable/indexing.html#indexing-view-versus-copy\n",
      "  \n"
     ]
    }
   ],
   "source": [
    "\n",
    "s1=df.bestAskSize\n",
    "s2=df.bestBidSize\n",
    "df['v']=pd.concat([s1, s2], axis=1).min(axis=1)\n",
    "# np.min(df.bestAskSize, df.bestBidPrice)\n",
    "df['dv']= df.v*df.MicroPrice"
   ]
  },
  {
   "cell_type": "code",
   "execution_count": 15,
   "metadata": {},
   "outputs": [
    {
     "name": "stdout",
     "output_type": "stream",
     "text": [
      "('num ticks:', 27684849)\n",
      "('volume ratio:', 444902.0)\n",
      "('dollar ratio:', 2977671812.0)\n"
     ]
    }
   ],
   "source": [
    "n_ticks = df.shape[0]\n",
    "volume_ratio = (df.v.sum()/n_ticks).round()\n",
    "dollar_ratio = (df.dv.sum()/n_ticks).round()\n",
    "print('num ticks:', n_ticks)\n",
    "print('volume ratio:', volume_ratio)\n",
    "print('dollar ratio:', dollar_ratio)"
   ]
  },
  {
   "cell_type": "code",
   "execution_count": 16,
   "metadata": {},
   "outputs": [
    {
     "name": "stderr",
     "output_type": "stream",
     "text": [
      "  1%|          | 334228/27684849 [00:00<00:08, 3342275.22it/s]"
     ]
    },
    {
     "name": "stdout",
     "output_type": "stream",
     "text": [
      "('tick threshold:', 100)\n"
     ]
    },
    {
     "name": "stderr",
     "output_type": "stream",
     "text": [
      "100%|██████████| 27684849/27684849 [00:05<00:00, 4776528.27it/s]\n"
     ]
    },
    {
     "data": {
      "text/plain": [
       "[99, 199, 299, 399, 499, 599, 699, 799, 899, 999]"
      ]
     },
     "execution_count": 16,
     "metadata": {},
     "output_type": "execute_result"
    }
   ],
   "source": [
    "tick_M = 100 # arbitrary\n",
    "print('tick threshold:', tick_M)\n",
    "tidx = tick_bars(df, 'MicroPrice', tick_M)\n",
    "tidx[:10]\n",
    "\n"
   ]
  },
  {
   "cell_type": "code",
   "execution_count": 17,
   "metadata": {},
   "outputs": [
    {
     "name": "stderr",
     "output_type": "stream",
     "text": [
      "100%|██████████| 27684849/27684849 [00:05<00:00, 4729616.67it/s]\n"
     ]
    },
    {
     "data": {
      "text/plain": [
       "(276848, 14)"
      ]
     },
     "execution_count": 17,
     "metadata": {},
     "output_type": "execute_result"
    }
   ],
   "source": [
    "\n",
    "\n",
    "tick_df = tick_bar_df(df, 'MicroPrice', tick_M)\n",
    "tick_df.shape\n",
    "\n"
   ]
  },
  {
   "cell_type": "code",
   "execution_count": 21,
   "metadata": {},
   "outputs": [
    {
     "data": {
      "text/html": [
       "<div>\n",
       "<style scoped>\n",
       "    .dataframe tbody tr th:only-of-type {\n",
       "        vertical-align: middle;\n",
       "    }\n",
       "\n",
       "    .dataframe tbody tr th {\n",
       "        vertical-align: top;\n",
       "    }\n",
       "\n",
       "    .dataframe thead th {\n",
       "        text-align: right;\n",
       "    }\n",
       "</style>\n",
       "<table border=\"1\" class=\"dataframe\">\n",
       "  <thead>\n",
       "    <tr style=\"text-align: right;\">\n",
       "      <th></th>\n",
       "      <th>bestBidPrice</th>\n",
       "      <th>bestBidSize</th>\n",
       "      <th>bestAskPrice</th>\n",
       "      <th>bestAskSize</th>\n",
       "      <th>timestamp</th>\n",
       "      <th>time</th>\n",
       "      <th>date</th>\n",
       "      <th>milliSeconds</th>\n",
       "      <th>duration</th>\n",
       "      <th>MicroPrice</th>\n",
       "      <th>MicroPriceReturns</th>\n",
       "      <th>logRetMicroPrice</th>\n",
       "      <th>v</th>\n",
       "      <th>dv</th>\n",
       "    </tr>\n",
       "  </thead>\n",
       "  <tbody>\n",
       "    <tr>\n",
       "      <th>1</th>\n",
       "      <td>6696.5</td>\n",
       "      <td>1176646.0</td>\n",
       "      <td>6697.0</td>\n",
       "      <td>426856.0</td>\n",
       "      <td>2018-08-26 13:21:38.017000+00:00</td>\n",
       "      <td>13:21:38.017000</td>\n",
       "      <td>2018-08-26</td>\n",
       "      <td>48098000.0</td>\n",
       "      <td>1000.0</td>\n",
       "      <td>6696.633101</td>\n",
       "      <td>-1.239604e-09</td>\n",
       "      <td>-1.239604e-09</td>\n",
       "      <td>426856.0</td>\n",
       "      <td>2.858498e+09</td>\n",
       "    </tr>\n",
       "    <tr>\n",
       "      <th>2</th>\n",
       "      <td>6696.5</td>\n",
       "      <td>1176296.0</td>\n",
       "      <td>6697.0</td>\n",
       "      <td>426856.0</td>\n",
       "      <td>2018-08-26 13:21:38.304000+00:00</td>\n",
       "      <td>13:21:38.304000</td>\n",
       "      <td>2018-08-26</td>\n",
       "      <td>48098000.0</td>\n",
       "      <td>0.0</td>\n",
       "      <td>6696.633130</td>\n",
       "      <td>4.339290e-09</td>\n",
       "      <td>4.339292e-09</td>\n",
       "      <td>426856.0</td>\n",
       "      <td>2.858498e+09</td>\n",
       "    </tr>\n",
       "    <tr>\n",
       "      <th>3</th>\n",
       "      <td>6696.5</td>\n",
       "      <td>1176296.0</td>\n",
       "      <td>6697.0</td>\n",
       "      <td>424112.0</td>\n",
       "      <td>2018-08-26 13:21:38.338000+00:00</td>\n",
       "      <td>13:21:38.338000</td>\n",
       "      <td>2018-08-26</td>\n",
       "      <td>48098000.0</td>\n",
       "      <td>0.0</td>\n",
       "      <td>6696.632501</td>\n",
       "      <td>-9.393097e-08</td>\n",
       "      <td>-9.393097e-08</td>\n",
       "      <td>424112.0</td>\n",
       "      <td>2.840122e+09</td>\n",
       "    </tr>\n",
       "    <tr>\n",
       "      <th>4</th>\n",
       "      <td>6696.5</td>\n",
       "      <td>1176296.0</td>\n",
       "      <td>6697.0</td>\n",
       "      <td>424112.0</td>\n",
       "      <td>2018-08-26 13:21:38.465000+00:00</td>\n",
       "      <td>13:21:38.465000</td>\n",
       "      <td>2018-08-26</td>\n",
       "      <td>48098000.0</td>\n",
       "      <td>0.0</td>\n",
       "      <td>6696.632501</td>\n",
       "      <td>0.000000e+00</td>\n",
       "      <td>0.000000e+00</td>\n",
       "      <td>424112.0</td>\n",
       "      <td>2.840122e+09</td>\n",
       "    </tr>\n",
       "    <tr>\n",
       "      <th>5</th>\n",
       "      <td>6696.5</td>\n",
       "      <td>1176296.0</td>\n",
       "      <td>6697.0</td>\n",
       "      <td>418112.0</td>\n",
       "      <td>2018-08-26 13:21:38.563000+00:00</td>\n",
       "      <td>13:21:38.563000</td>\n",
       "      <td>2018-08-26</td>\n",
       "      <td>48098000.0</td>\n",
       "      <td>0.0</td>\n",
       "      <td>6696.631118</td>\n",
       "      <td>-2.065148e-07</td>\n",
       "      <td>-2.065148e-07</td>\n",
       "      <td>418112.0</td>\n",
       "      <td>2.799942e+09</td>\n",
       "    </tr>\n",
       "  </tbody>\n",
       "</table>\n",
       "</div>"
      ],
      "text/plain": [
       "   bestBidPrice  bestBidSize  bestAskPrice  bestAskSize  \\\n",
       "1        6696.5    1176646.0        6697.0     426856.0   \n",
       "2        6696.5    1176296.0        6697.0     426856.0   \n",
       "3        6696.5    1176296.0        6697.0     424112.0   \n",
       "4        6696.5    1176296.0        6697.0     424112.0   \n",
       "5        6696.5    1176296.0        6697.0     418112.0   \n",
       "\n",
       "                          timestamp             time        date  \\\n",
       "1  2018-08-26 13:21:38.017000+00:00  13:21:38.017000  2018-08-26   \n",
       "2  2018-08-26 13:21:38.304000+00:00  13:21:38.304000  2018-08-26   \n",
       "3  2018-08-26 13:21:38.338000+00:00  13:21:38.338000  2018-08-26   \n",
       "4  2018-08-26 13:21:38.465000+00:00  13:21:38.465000  2018-08-26   \n",
       "5  2018-08-26 13:21:38.563000+00:00  13:21:38.563000  2018-08-26   \n",
       "\n",
       "   milliSeconds  duration   MicroPrice  MicroPriceReturns  logRetMicroPrice  \\\n",
       "1    48098000.0    1000.0  6696.633101      -1.239604e-09     -1.239604e-09   \n",
       "2    48098000.0       0.0  6696.633130       4.339290e-09      4.339292e-09   \n",
       "3    48098000.0       0.0  6696.632501      -9.393097e-08     -9.393097e-08   \n",
       "4    48098000.0       0.0  6696.632501       0.000000e+00      0.000000e+00   \n",
       "5    48098000.0       0.0  6696.631118      -2.065148e-07     -2.065148e-07   \n",
       "\n",
       "          v            dv  \n",
       "1  426856.0  2.858498e+09  \n",
       "2  426856.0  2.858498e+09  \n",
       "3  424112.0  2.840122e+09  \n",
       "4  424112.0  2.840122e+09  \n",
       "5  418112.0  2.799942e+09  "
      ]
     },
     "execution_count": 21,
     "metadata": {},
     "output_type": "execute_result"
    }
   ],
   "source": [
    "tick_df.head(5)\n",
    "df.head(5)"
   ]
  },
  {
   "cell_type": "code",
   "execution_count": 19,
   "metadata": {},
   "outputs": [
    {
     "data": {
      "text/plain": [
       "((10000,), (10000,))"
      ]
     },
     "execution_count": 19,
     "metadata": {},
     "output_type": "execute_result"
    }
   ],
   "source": [
    "def select_sample_data(ref, sub, price_col, idx_1,idx_2):\n",
    "    '''\n",
    "    select a sample of data based on date, assumes datetimeindex\n",
    "    \n",
    "    # args\n",
    "        ref: pd.DataFrame containing all ticks\n",
    "        sub: subordinated pd.DataFrame of prices\n",
    "        price_col: str(), price column\n",
    "        date: str(), date to select\n",
    "    # returns\n",
    "        xdf: ref pd.Series\n",
    "        xtdf: subordinated pd.Series\n",
    "    '''\n",
    "    xdf = df[price_col].iloc[idx_1:idx_2]\n",
    "    xtdf = sub[price_col].iloc[idx_1:idx_2]\n",
    "    return xdf, xtdf\n",
    "\n",
    "## try different dates to see how the quantity of tick bars changes\n",
    "idx_1=0\n",
    "idx_2=10000\n",
    "xdf, xtdf = select_sample_data(df, tick_df, 'MicroPrice', idx_1,idx_2)\n",
    "\n",
    "xdf.shape, xtdf.shape"
   ]
  },
  {
   "cell_type": "code",
   "execution_count": 26,
   "metadata": {},
   "outputs": [
    {
     "ename": "SyntaxError",
     "evalue": "invalid syntax (<ipython-input-26-8d9027afaf6a>, line 3)",
     "output_type": "error",
     "traceback": [
      "\u001b[0;36m  File \u001b[0;32m\"<ipython-input-26-8d9027afaf6a>\"\u001b[0;36m, line \u001b[0;32m3\u001b[0m\n\u001b[0;31m    ref.plot(*args, **kwds, ax=axes[0], label='price')\u001b[0m\n\u001b[0m                          ^\u001b[0m\n\u001b[0;31mSyntaxError\u001b[0m\u001b[0;31m:\u001b[0m invalid syntax\n"
     ]
    }
   ],
   "source": [
    "def plot_sample_data(ref, sub, bar_type, *args, **kwds):\n",
    "    f,axes=plt.subplots(3,sharex=True, sharey=True, figsize=(10,7))\n",
    "    ref.plot(*args, **kwds, ax=axes[0], label='price')\n",
    "    sub.plot(*args, **kwds, ax=axes[0], marker='X', ls='', label=bar_type)\n",
    "    axes[0].legend();\n",
    "    \n",
    "    ref.plot(*args, **kwds, ax=axes[1], label='price', marker='o')\n",
    "    sub.plot(*args, **kwds, ax=axes[2], ls='', marker='X',\n",
    "             color='r', label=bar_type)\n",
    "\n",
    "    for ax in axes[1:]: ax.legend()\n",
    "    plt.tight_layout()\n",
    "    \n",
    "    return\n",
    "\n",
    "plot_sample_data(xdf, xtdf, 'tick bar', alpha=0.5, markersize=7)\n"
   ]
  },
  {
   "cell_type": "code",
   "execution_count": 30,
   "metadata": {},
   "outputs": [
    {
     "data": {
      "text/plain": [
       "<matplotlib.axes._subplots.AxesSubplot at 0x7f3b4ca16610>"
      ]
     },
     "execution_count": 30,
     "metadata": {},
     "output_type": "execute_result"
    },
    {
     "data": {
      "image/png": "[encoded data removed]",
      "text/plain": [
       "<Figure size 720x504 with 3 Axes>"
      ]
     },
     "metadata": {},
     "output_type": "display_data"
    }
   ],
   "source": [
    "ref = xdf\n",
    "sub\n",
    "f,axes=plt.subplots(3,sharex=True, sharey=True, figsize=(10,7))\n",
    "sns.lineplot(data=data,ax=axes[0], palette=\"tab10\", linewidth=2.5)\n",
    "\n",
    "sns.lineplot(data=xtdf,ax=axes[1],palette=\"tab25\",color='red',linestyle='-' ,linewidth=1.5)"
   ]
  },
  {
   "cell_type": "code",
   "execution_count": 23,
   "metadata": {},
   "outputs": [
    {
     "data": {
      "image/png": "[encoded data removed]",
      "text/plain": [
       "<Figure size 432x288 with 1 Axes>"
      ]
     },
     "metadata": {},
     "output_type": "display_data"
    },
    {
     "data": {
      "image/png": "[encoded data removed]",
      "text/plain": [
       "<Figure size 432x288 with 1 Axes>"
      ]
     },
     "metadata": {},
     "output_type": "display_data"
    }
   ],
   "source": [
    "bar_type='tick bar'\n",
    "# fig,axes=plt.subplots(3, figsize=(10,7))\n",
    "ref=xdf\n",
    "sub=xtdf\n",
    "ref.plot(color='blue',label='price')\n",
    "plt.show()\n",
    "sub.plot(color='red',label=bar_type)\n",
    "plt.show()\n"
   ]
  },
  {
   "cell_type": "code",
   "execution_count": 24,
   "metadata": {},
   "outputs": [
    {
     "data": {
      "image/png": "[encoded data removed]",
      "text/plain": [
       "<Figure size 432x288 with 1 Axes>"
      ]
     },
     "metadata": {},
     "output_type": "display_data"
    },
    {
     "data": {
      "image/png": "[encoded data removed]",
      "text/plain": [
       "<Figure size 432x288 with 1 Axes>"
      ]
     },
     "metadata": {},
     "output_type": "display_data"
    }
   ],
   "source": [
    "ax = ref.plot(color='blue',label='price')\n",
    "# ax.yaxis.set_major_formatter(mpl.ticker.StrMethodFormatter('{x:,.00f}'))\n",
    "plt.show()\n",
    "ax2 = sub.plot(color='red',label=bar_type)\n",
    "num_ticks = 10\n",
    "\n",
    "plt.show()"
   ]
  },
  {
   "cell_type": "code",
   "execution_count": null,
   "metadata": {},
   "outputs": [],
   "source": [
    "\n",
    "fig, axs = plt.subplots(2, 1,sharey=True)\n",
    "axs[0].plot(ref)\n",
    "axs[1].plot(sub, color= 'red',linestyle='--')\n",
    "# axs[0].set_xlim(0, 2)\n",
    "\n",
    "axs[0].grid(True)\n",
    "\n",
    "for axs in axes:\n",
    "    axs.set_xlabel('Common x-label')\n",
    "    axs.set_ylabel('Common y-label')\n",
    "\n",
    "fig.tight_layout()\n",
    "plt.show()"
   ]
  },
  {
   "cell_type": "markdown",
   "metadata": {},
   "source": []
  },
  {
   "cell_type": "code",
   "execution_count": null,
   "metadata": {},
   "outputs": [],
   "source": [
    "\n",
    "sns.distplot(sub)\n",
    "sns.distplot(ref)"
   ]
  },
  {
   "cell_type": "code",
   "execution_count": 25,
   "metadata": {},
   "outputs": [],
   "source": [
    "def autocorr(x):\n",
    "    n = x.size\n",
    "    norm = (x - np.mean(x))\n",
    "    result = np.correlate(norm, norm, mode='same')\n",
    "    acorr = result[n//2 + 1:] / (x.var() * np.arange(n-1, n//2, -1))\n",
    "    lag = np.abs(acorr).argmax() + 1\n",
    "    r = acorr[lag-1]        \n",
    "    if np.abs(r) > 0.5:\n",
    "        print('Appears to be autocorrelated with r = {}, lag = {}'. format(r, lag))\n",
    "    else: \n",
    "        print('Appears to be not autocorrelated')\n",
    "    return r, lag\n"
   ]
  },
  {
   "cell_type": "code",
   "execution_count": null,
   "metadata": {},
   "outputs": [],
   "source": [
    "autocorr(df['microPrice'])"
   ]
  },
  {
   "cell_type": "code",
   "execution_count": null,
   "metadata": {},
   "outputs": [],
   "source": [
    "df['Sqrd_returns']=(df['returns']**2)*100"
   ]
  },
  {
   "cell_type": "code",
   "execution_count": null,
   "metadata": {},
   "outputs": [],
   "source": [
    "df['Sqrd_returns'].plot()"
   ]
  },
  {
   "cell_type": "code",
   "execution_count": null,
   "metadata": {},
   "outputs": [],
   "source": [
    "import statsmodels as sts\n",
    "# Importing lag_plot\n",
    "from pandas import lag_plot\n",
    "from pandas import autocorrelation_plot\n"
   ]
  },
  {
   "cell_type": "code",
   "execution_count": null,
   "metadata": {},
   "outputs": [],
   "source": [
    "series = df.MicroPrice\n",
    "\n",
    "import pandas as pd\n",
    "from pandas import datetools"
   ]
  },
  {
   "cell_type": "code",
   "execution_count": null,
   "metadata": {},
   "outputs": [],
   "source": [
    "# from statsmodels.graphics.tsaplots import plot_acf, plot_pacf\n",
    "# # plot_acf(series)\n",
    "# # plt.show()\n",
    "# # # plot_pacf(series)\n",
    "# # # plt.show()"
   ]
  },
  {
   "cell_type": "code",
   "execution_count": null,
   "metadata": {},
   "outputs": [],
   "source": [
    "sns.lmplot(x='microPrice', y='Sqrd_returns', data=df)\n",
    "#do calculation using high and low"
   ]
  },
  {
   "cell_type": "code",
   "execution_count": null,
   "metadata": {},
   "outputs": [],
   "source": [
    "import powerlaw\n",
    "import mpmath"
   ]
  },
  {
   "cell_type": "code",
   "execution_count": null,
   "metadata": {},
   "outputs": [],
   "source": [
    "# fit_returns_discrete = powerlaw.Fit(df.logRetMicroPrice, discrete=False) \n",
    "# fitwolf = powerlaw.Fit(Wolfdata, discrete=True)"
   ]
  },
  {
   "cell_type": "code",
   "execution_count": null,
   "metadata": {},
   "outputs": [],
   "source": [
    "df.shape"
   ]
  },
  {
   "cell_type": "code",
   "execution_count": null,
   "metadata": {},
   "outputs": [],
   "source": [
    "print(\"For the Generated Data\")\n",
    "print(\"Max Likelihood Estimate of Alpha: %5.3f\" % (fitgen.power_law.alpha)) \n",
    "cutoffString_gen = '{:,.2f}'.format(fitgen.power_law.xmin)  # I'm just formatting the output\n",
    "print(\"Cutoff value, xmin:  \"+cutoffString_gen)"
   ]
  },
  {
   "cell_type": "code",
   "execution_count": null,
   "metadata": {},
   "outputs": [],
   "source": [
    "m"
   ]
  },
  {
   "cell_type": "code",
   "execution_count": null,
   "metadata": {},
   "outputs": [],
   "source": []
  },
  {
   "cell_type": "code",
   "execution_count": null,
   "metadata": {},
   "outputs": [],
   "source": [
    "df_crypto.columns.values"
   ]
  },
  {
   "cell_type": "code",
   "execution_count": null,
   "metadata": {},
   "outputs": [],
   "source": [
    "tick_M = 20 # arbitrary\n",
    "print('tick threshold:', tick_M)\n",
    "tidx = tick_bars(df_crypto, 'MicroPrice', tick_M)\n",
    "tidx[:10]\n"
   ]
  },
  {
   "cell_type": "code",
   "execution_count": null,
   "metadata": {},
   "outputs": [],
   "source": [
    "crypto_tick_df = tick_bar_df(df_crypto, 'MicroPrice', tick_M)\n",
    "crypto_tick_df.shape"
   ]
  },
  {
   "cell_type": "code",
   "execution_count": null,
   "metadata": {},
   "outputs": [],
   "source": [
    "## try different dates to see how the quantity of tick bars changes\n",
    "idx_1=0\n",
    "idx_2=1000000\n",
    "# perp_xdf, perp_xtdf = select_sample_data(df_crypto, crypto_tick_df, 'MicroPrice', idx_1,idx_2)\n",
    "\n",
    "# perp_xdf.shape, perp_xtdf.shape\n",
    "crypto_tick_df.head(4)"
   ]
  },
  {
   "cell_type": "code",
   "execution_count": null,
   "metadata": {},
   "outputs": [],
   "source": []
  },
  {
   "cell_type": "code",
   "execution_count": null,
   "metadata": {},
   "outputs": [],
   "source": [
    "btc_xdf"
   ]
  },
  {
   "cell_type": "code",
   "execution_count": null,
   "metadata": {},
   "outputs": [],
   "source": [
    "data = perp_xdf\n",
    "\n",
    "sns.lineplot(data=perp_xdf, palette=\"tab10\", linewidth=2.5)\n",
    "plt.show()\n",
    "sns.lineplot(data=perp_xtdf,palette=\"tab25\",color='red',linestyle='-' ,linewidth=1.5)"
   ]
  },
  {
   "cell_type": "code",
   "execution_count": null,
   "metadata": {},
   "outputs": [],
   "source": []
  }
 ],
 "metadata": {
  "kernelspec": {
   "display_name": "Python 2",
   "language": "python",
   "name": "python2"
  },
  "language_info": {
   "codemirror_mode": {
    "name": "ipython",
    "version": 2
   },
   "file_extension": ".py",
   "mimetype": "text/x-python",
   "name": "python",
   "nbconvert_exporter": "python",
   "pygments_lexer": "ipython2",
   "version": "2.7.15rc1"
  }
 },
 "nbformat": 4,
 "nbformat_minor": 2
}
