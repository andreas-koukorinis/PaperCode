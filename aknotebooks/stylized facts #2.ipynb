{
 "cells": [
  {
   "cell_type": "code",
   "execution_count": 1,
   "metadata": {},
   "outputs": [],
   "source": [
    "\n",
    "import pandas as pd\n",
    "\n",
    "from sklearn.externals import joblib\n",
    "# Added version check for recent scikit-learn 0.18 checksok ca\n",
    "from distutils.version import LooseVersion as Version\n",
    "import numpy as np\n",
    "from dateutil.parser import parse\n",
    "import datetime as dt\n",
    "from numba import jit\n",
    "\n",
    "from tqdm import tqdm, tqdm_notebook\n",
    "\n",
    "from collections import OrderedDict as od\n",
    "import pickle \n",
    "import matplotlib.pyplot as plt\n",
    "import seaborn as sns\n",
    "import random, os, csv      # random is the rng, os is the operating system, and csv handles\n",
    "                            # CSV files\n",
    "import matplotlib.pyplot as plt  # This is the plotter\n",
    "import time                 # This allows for lots of neat tricks.\n",
    "import powerlaw\n",
    "import mpmath\n",
    "# import visual tools\n",
    "import matplotlib as mpl\n",
    "import matplotlib.pyplot as plt\n",
    "import matplotlib.gridspec as gridspec\n",
    "%matplotlib inline\n",
    "import seaborn as sns\n",
    "\n",
    "\n",
    "import statsmodels.api as sm\n",
    "import math\n",
    "plt.style.use('seaborn-talk')\n",
    "plt.style.use('bmh')\n",
    "\n",
    "#plt.rcParams['font.family'] = 'DejaVu Sans Mono'\n",
    "#plt.rcParams['font.size'] = 9.5\n",
    "plt.rcParams['font.weight'] = 'medium'\n",
    "#plt.rcParams['figure.figsize'] = 10,7\n",
    "blue, green, red, purple, gold, teal = sns.color_palette('colorblind', 6)\n",
    "\n",
    "import powerlaw\n",
    "import mpmath\n",
    "import pylab\n",
    "pylab.rcParams['xtick.major.pad']='8'\n",
    "pylab.rcParams['ytick.major.pad']='8'\n",
    "#pylab.rcParams['font.sans-serif']='Arial'\n",
    "\n",
    "from matplotlib import rc\n",
    "rc('font', family='sans-serif')\n",
    "rc('font', size=10.0)\n",
    "rc('text', usetex=False)\n",
    "\n",
    "\n",
    "from matplotlib.font_manager import FontProperties\n",
    "\n",
    "panel_label_font = FontProperties().copy()\n",
    "panel_label_font.set_weight(\"bold\")\n",
    "panel_label_font.set_size(12.0)\n",
    "panel_label_font.set_family(\"sans-serif\")\n",
    "\n",
    "def plot_basics(data, data_inst, fig, units):\n",
    "    from powerlaw import plot_pdf, Fit, pdf\n",
    "    annotate_coord = (-.4, .95)\n",
    "    ax1 = fig.add_subplot(n_graphs,n_data,data_inst)\n",
    "    x, y = pdf(data, linear_bins=True)\n",
    "    ind = y>0\n",
    "    y = y[ind]\n",
    "    x = x[:-1]\n",
    "    x = x[ind]\n",
    "    ax1.scatter(x, y, color='r', s=.5)\n",
    "    plot_pdf(data[data>0], ax=ax1, color='b', linewidth=2)\n",
    "    from pylab import setp\n",
    "    setp( ax1.get_xticklabels(), visible=False)\n",
    "from pylab import setp\n"
   ]
  },
  {
   "cell_type": "code",
   "execution_count": 2,
   "metadata": {},
   "outputs": [],
   "source": [
    "def returns(s):\n",
    "    #compute log returns\n",
    "    arr = np.diff(np.log(s))\n",
    "    return (pd.Series(arr, index=s.index[1:]))\n",
    "\n",
    "def tick_bars(df, price_column, m):\n",
    "    '''\n",
    "    compute tick bars\n",
    "    # args\n",
    "        df: pd.DataFrame()\n",
    "        column: name for price data\n",
    "        m: int(), threshold value for ticks\n",
    "    # returns\n",
    "        idx: list of indices\n",
    "    '''\n",
    "    t = df[price_column]\n",
    "    ts = 0\n",
    "    idx = []\n",
    "    for i, x in enumerate(tqdm(t)):\n",
    "        ts += 1\n",
    "        if ts >= m:\n",
    "            idx.append(i)\n",
    "            ts = 0\n",
    "            continue\n",
    "    return idx\n",
    "def tick_bar_df(df, price_column, m):\n",
    "    idx = tick_bars(df, price_column, m)\n",
    "    return df.iloc[idx]\n",
    "#========================================================\n",
    "def volume_bars(df, volume_column, m):\n",
    "    '''\n",
    "    compute volume bars\n",
    "    # args\n",
    "        df: pd.DataFrame()\n",
    "        column: name for volume data\n",
    "        m: int(), threshold value for volume\n",
    "    # returns\n",
    "        idx: list of indices\n",
    "    '''\n",
    "    t = df[volume_column]\n",
    "    ts = 0\n",
    "    idx = []\n",
    "    for i, x in enumerate(tqdm(t)):\n",
    "        ts += x\n",
    "        if ts >= m:\n",
    "            idx.append(i)\n",
    "            ts = 0\n",
    "            continue\n",
    "    return idx\n",
    "\n",
    "def volume_bar_df(df, volume_column, m):\n",
    "    idx = volume_bars(df, volume_column, m)\n",
    "    return df.iloc[idx]\n",
    "#========================================================\n",
    "def dollar_bars(df, dv_column, m):\n",
    "    '''\n",
    "    compute dollar bars\n",
    "    # args\n",
    "        df: pd.DataFrame()\n",
    "        column: name for dollar volume data\n",
    "        m: int(), threshold value for dollars\n",
    "    # returns\n",
    "        idx: list of indices\n",
    "    '''\n",
    "    t = df[dv_column]\n",
    "    ts = 0\n",
    "    idx = []\n",
    "    for i, x in enumerate(tqdm(t)):\n",
    "        ts += x\n",
    "        if ts >= m:\n",
    "            idx.append(i)\n",
    "            ts = 0\n",
    "            continue\n",
    "    return idx\n",
    "\n",
    "def dollar_bar_df(df, dv_column, m):\n",
    "    idx = dollar_bars(df, dv_column, m)\n",
    "    return df.iloc[idx]\n",
    "#========================================================\n",
    "dataparser = lambda x: pd.datetime.strptime(x, '%M:%S.%f').time\n",
    "#========================================================\n",
    "@jit(nopython=True)\n",
    "def mad_outlier(y, thresh=3.):\n",
    "    '''\n",
    "    compute outliers based on mad\n",
    "    # args\n",
    "        y: assumed to be array with shape (N,1)\n",
    "        thresh: float()\n",
    "    # returns\n",
    "        array index of outliers\n",
    "    '''\n",
    "    median = np.median(y)\n",
    "    diff = np.sum((y - median)**2, axis=-1)\n",
    "    diff = np.sqrt(diff)\n",
    "    med_abs_deviation = np.median(diff)\n",
    "\n",
    "    modified_z_score = 0.6745 * diff / med_abs_deviation\n",
    "\n",
    "    return modified_z_score > thresh\n"
   ]
  },
  {
   "cell_type": "code",
   "execution_count": 7,
   "metadata": {},
   "outputs": [],
   "source": [
    "os.getcwd()\n",
    "data_only_drive = '/media/ak/DataOnly/'  # external date only drive\n",
    "# quotes=[s for s in os.listdir(data_only_drive) if s.endswith('quotes')]\n",
    "# trades=[s for s in os.listdir(data_only_drive) if s.endswith('trades')]\n",
    "YM1_trades=[s for s in os.listdir(data_only_drive) if s.startswith('YM1') and s.endswith('trades')]\n",
    "YM1_quotes=[s for s in os.listdir(data_only_drive) if s.startswith('YM1') and s.endswith('quotes')]"
   ]
  },
  {
   "cell_type": "code",
   "execution_count": 9,
   "metadata": {},
   "outputs": [
    {
     "data": {
      "text/plain": [
       "['YM1_Comdty_quotes']"
      ]
     },
     "execution_count": 9,
     "metadata": {},
     "output_type": "execute_result"
    }
   ],
   "source": [
    "YM1_quotes"
   ]
  },
  {
   "cell_type": "code",
   "execution_count": 4,
   "metadata": {},
   "outputs": [],
   "source": [
    "\n",
    "# clean_files_data = \"\".join((data_only_drive,'/BTCUSD.PERP.BMEX/'))\n",
    "# raw_crypto_data_lob = '/media/ak/DataOnly/crypto/LOB/BTCUSD.PERP.BMEX/' #btc perp data\n",
    "# clean_crypto_files = os.listdir(clean_files_data)\n",
    "# csv_files = [s for s in os.listdir(raw_crypto_data_lob) if s.endswith('.csv')]\n",
    "# low_memory = False"
   ]
  },
  {
   "cell_type": "code",
   "execution_count": 10,
   "metadata": {},
   "outputs": [],
   "source": [
    "# # cleaning first stack of crypto-data\n",
    "# mylist = []\n",
    "# fields = ['happened_at', 'BIDPRC1', 'BIDSIZE1', 'ASKPRC1', 'ASKSIZE1']\n",
    "\n",
    "# # for csv_files_idx, csv_date in enumerate(csv_files):\n",
    "# #     print csv_date\n",
    "# csv_files_idx=3\n",
    "# csv_loc = \"/\".join((raw_crypto_data_lob,csv_files[csv_files_idx]))\n",
    "# for chunk in pd.read_csv(csv_loc, chunksize=2000, skipinitialspace=True, usecols=fields, error_bad_lines=False, engine='python'):\n",
    "#     mylist.append(chunk)\n",
    "#     print chunk.head(4)\n",
    "#     big_data_df = pd.concat(mylist, axis=0)\n",
    "# del mylist\n",
    "# print df_name\n",
    "# # df_name = \"\".join((clean_files_data,csv_files_idx,\".csv\"))\n",
    "# # big_data_df.to_csv(df_name)"
   ]
  },
  {
   "cell_type": "code",
   "execution_count": 11,
   "metadata": {},
   "outputs": [],
   "source": [
    "# import os\n",
    "# data_drive=data_only_drive\n",
    "# clean_files_data = \"\".join((data_drive,'/BTCUSD.PERP.BMEX/'))\n",
    "# raw_crypto_data = '/mnt/usb-Seagate_Expansion_Desk_NA8XEHR6-0:0-part2/Data/crypto/LOB/BTCUSD.PERP.BMEX/' #btc perp data\n",
    "# clean_crypto_files = os.listdir(clean_files_data)\n",
    "# filename = \"\".join((clean_files_data,clean_crypto_files[0]))\n",
    "# df_crypto=pd.read_csv(filename)"
   ]
  },
  {
   "cell_type": "code",
   "execution_count": 22,
   "metadata": {},
   "outputs": [],
   "source": [
    "quote_files_loc = \"\".join((data_only_drive, YM1_quotes[0]))\n",
    "quote_files_list = os.listdir(quote_files_loc)\n",
    "quote_idx=0\n",
    "quote_df = pd.read_csv(\"/\".join((quote_files_loc, quote_files_list[quote_idx])))"
   ]
  },
  {
   "cell_type": "code",
   "execution_count": 44,
   "metadata": {},
   "outputs": [
    {
     "data": {
      "text/plain": [
       "array(['size', 'time', 'type', 'value'], dtype=object)"
      ]
     },
     "execution_count": 44,
     "metadata": {},
     "output_type": "execute_result"
    }
   ],
   "source": [
    "# quote_df.drop('Unnamed: 0', axis=1, inplace= True)\n",
    "quote_df.columns.values"
   ]
  },
  {
   "cell_type": "code",
   "execution_count": 48,
   "metadata": {},
   "outputs": [],
   "source": [
    "from datetime import datetime\n",
    "# datetime.strptime(d, '%b %d %Y %I:%M%p')\n",
    "quote_df['DateTime']=pd.to_datetime(quote_df['time'])"
   ]
  },
  {
   "cell_type": "code",
   "execution_count": 94,
   "metadata": {},
   "outputs": [],
   "source": [
    "\n",
    "quote_df['TimeStamp']=[x.time() for x in quote_df['DateTime']]\n",
    "\n",
    "quote_df['millisTimeStamp']=[(datetime.combine(date.min, timeobj) - datetime.min).total_seconds()*1000 for timeobj in quote_df['TimeStamp']]\n",
    "quote_df['Duration'] =quote_df['millisTimeStamp'].diff()"
   ]
  },
  {
   "cell_type": "code",
   "execution_count": 84,
   "metadata": {},
   "outputs": [
    {
     "data": {
      "text/plain": [
       "7.0"
      ]
     },
     "execution_count": 84,
     "metadata": {},
     "output_type": "execute_result"
    }
   ],
   "source": [
    "from datetime import datetime, date, time, timedelta\n",
    "timeobj = quote_df['TimeStamp'][5]\n",
    "t = datetime.combine(date.min, timeobj) - datetime.min\n",
    "t.total_seconds()\n",
    "# 45900.0"
   ]
  },
  {
   "cell_type": "code",
   "execution_count": 96,
   "metadata": {},
   "outputs": [
    {
     "name": "stderr",
     "output_type": "stream",
     "text": [
      "/home/ak/Envs/research/lib/python2.7/site-packages/ipykernel_launcher.py:3: RuntimeWarning: divide by zero encountered in log\n",
      "  This is separate from the ipykernel package so we can avoid doing imports until\n",
      "/home/ak/Envs/research/local/lib/python2.7/site-packages/numpy/lib/function_base.py:1946: RuntimeWarning: invalid value encountered in subtract\n",
      "  a = op(a[slice1], a[slice2])\n"
     ]
    }
   ],
   "source": [
    "quote_df['TradeReturns']=returns(quote_df['value'])"
   ]
  },
  {
   "cell_type": "code",
   "execution_count": 100,
   "metadata": {},
   "outputs": [],
   "source": [
    "quote_df.rename(columns={\"value\":'TradedPrice',\"size\":\"Volume\"})\n",
    "bid_quote_df= quote_df[quote_df['type']=='BID']\n",
    "ask_quote_df= quote_df[quote_df['type']=='ASK']"
   ]
  },
  {
   "cell_type": "code",
   "execution_count": 103,
   "metadata": {},
   "outputs": [
    {
     "data": {
      "text/html": [
       "<div>\n",
       "<style scoped>\n",
       "    .dataframe tbody tr th:only-of-type {\n",
       "        vertical-align: middle;\n",
       "    }\n",
       "\n",
       "    .dataframe tbody tr th {\n",
       "        vertical-align: top;\n",
       "    }\n",
       "\n",
       "    .dataframe thead th {\n",
       "        text-align: right;\n",
       "    }\n",
       "</style>\n",
       "<table border=\"1\" class=\"dataframe\">\n",
       "  <thead>\n",
       "    <tr style=\"text-align: right;\">\n",
       "      <th></th>\n",
       "      <th>size</th>\n",
       "      <th>time</th>\n",
       "      <th>type</th>\n",
       "      <th>value</th>\n",
       "      <th>DateTime</th>\n",
       "      <th>TimeStamp</th>\n",
       "      <th>Duration</th>\n",
       "      <th>millisDuration</th>\n",
       "      <th>millisTimeStamp</th>\n",
       "      <th>TradeReturns</th>\n",
       "    </tr>\n",
       "  </thead>\n",
       "  <tbody>\n",
       "    <tr>\n",
       "      <th>0</th>\n",
       "      <td>3234</td>\n",
       "      <td>2018-10-17 00:00:00</td>\n",
       "      <td>BID</td>\n",
       "      <td>97.89</td>\n",
       "      <td>2018-10-17 00:00:00</td>\n",
       "      <td>00:00:00</td>\n",
       "      <td>NaN</td>\n",
       "      <td>0.0</td>\n",
       "      <td>0.0</td>\n",
       "      <td>NaN</td>\n",
       "    </tr>\n",
       "    <tr>\n",
       "      <th>2</th>\n",
       "      <td>3237</td>\n",
       "      <td>2018-10-17 00:00:01</td>\n",
       "      <td>BID</td>\n",
       "      <td>97.89</td>\n",
       "      <td>2018-10-17 00:00:01</td>\n",
       "      <td>00:00:01</td>\n",
       "      <td>1000.0</td>\n",
       "      <td>1000.0</td>\n",
       "      <td>1000.0</td>\n",
       "      <td>-0.000051</td>\n",
       "    </tr>\n",
       "    <tr>\n",
       "      <th>4</th>\n",
       "      <td>3236</td>\n",
       "      <td>2018-10-17 00:00:06</td>\n",
       "      <td>BID</td>\n",
       "      <td>97.89</td>\n",
       "      <td>2018-10-17 00:00:06</td>\n",
       "      <td>00:00:06</td>\n",
       "      <td>0.0</td>\n",
       "      <td>6000.0</td>\n",
       "      <td>6000.0</td>\n",
       "      <td>-0.000051</td>\n",
       "    </tr>\n",
       "    <tr>\n",
       "      <th>5</th>\n",
       "      <td>3235</td>\n",
       "      <td>2018-10-17 00:00:07</td>\n",
       "      <td>BID</td>\n",
       "      <td>97.89</td>\n",
       "      <td>2018-10-17 00:00:07</td>\n",
       "      <td>00:00:07</td>\n",
       "      <td>1000.0</td>\n",
       "      <td>7000.0</td>\n",
       "      <td>7000.0</td>\n",
       "      <td>0.000000</td>\n",
       "    </tr>\n",
       "    <tr>\n",
       "      <th>7</th>\n",
       "      <td>2954</td>\n",
       "      <td>2018-10-17 00:02:08</td>\n",
       "      <td>BID</td>\n",
       "      <td>97.89</td>\n",
       "      <td>2018-10-17 00:02:08</td>\n",
       "      <td>00:02:08</td>\n",
       "      <td>120000.0</td>\n",
       "      <td>128000.0</td>\n",
       "      <td>128000.0</td>\n",
       "      <td>-0.000051</td>\n",
       "    </tr>\n",
       "  </tbody>\n",
       "</table>\n",
       "</div>"
      ],
      "text/plain": [
       "   size                 time type  value            DateTime TimeStamp  \\\n",
       "0  3234  2018-10-17 00:00:00  BID  97.89 2018-10-17 00:00:00  00:00:00   \n",
       "2  3237  2018-10-17 00:00:01  BID  97.89 2018-10-17 00:00:01  00:00:01   \n",
       "4  3236  2018-10-17 00:00:06  BID  97.89 2018-10-17 00:00:06  00:00:06   \n",
       "5  3235  2018-10-17 00:00:07  BID  97.89 2018-10-17 00:00:07  00:00:07   \n",
       "7  2954  2018-10-17 00:02:08  BID  97.89 2018-10-17 00:02:08  00:02:08   \n",
       "\n",
       "   Duration  millisDuration  millisTimeStamp  TradeReturns  \n",
       "0       NaN             0.0              0.0           NaN  \n",
       "2    1000.0          1000.0           1000.0     -0.000051  \n",
       "4       0.0          6000.0           6000.0     -0.000051  \n",
       "5    1000.0          7000.0           7000.0      0.000000  \n",
       "7  120000.0        128000.0         128000.0     -0.000051  "
      ]
     },
     "execution_count": 103,
     "metadata": {},
     "output_type": "execute_result"
    }
   ],
   "source": [
    "bid_quote_df.head(5)"
   ]
  },
  {
   "cell_type": "code",
   "execution_count": 107,
   "metadata": {},
   "outputs": [
    {
     "data": {
      "text/html": [
       "<div>\n",
       "<style scoped>\n",
       "    .dataframe tbody tr th:only-of-type {\n",
       "        vertical-align: middle;\n",
       "    }\n",
       "\n",
       "    .dataframe tbody tr th {\n",
       "        vertical-align: top;\n",
       "    }\n",
       "\n",
       "    .dataframe thead th {\n",
       "        text-align: right;\n",
       "    }\n",
       "</style>\n",
       "<table border=\"1\" class=\"dataframe\">\n",
       "  <thead>\n",
       "    <tr style=\"text-align: right;\">\n",
       "      <th></th>\n",
       "      <th>size_x</th>\n",
       "      <th>time_x</th>\n",
       "      <th>type_x</th>\n",
       "      <th>value_x</th>\n",
       "      <th>DateTime</th>\n",
       "      <th>TimeStamp_x</th>\n",
       "      <th>Duration_x</th>\n",
       "      <th>millisDuration_x</th>\n",
       "      <th>millisTimeStamp_x</th>\n",
       "      <th>TradeReturns_x</th>\n",
       "      <th>size_y</th>\n",
       "      <th>time_y</th>\n",
       "      <th>type_y</th>\n",
       "      <th>value_y</th>\n",
       "      <th>TimeStamp_y</th>\n",
       "      <th>Duration_y</th>\n",
       "      <th>millisDuration_y</th>\n",
       "      <th>millisTimeStamp_y</th>\n",
       "      <th>TradeReturns_y</th>\n",
       "    </tr>\n",
       "  </thead>\n",
       "  <tbody>\n",
       "    <tr>\n",
       "      <th>2</th>\n",
       "      <td>3236</td>\n",
       "      <td>2018-10-17 00:00:06</td>\n",
       "      <td>BID</td>\n",
       "      <td>97.89</td>\n",
       "      <td>2018-10-17 00:00:06</td>\n",
       "      <td>00:00:06</td>\n",
       "      <td>0.0</td>\n",
       "      <td>6000.0</td>\n",
       "      <td>6000.0</td>\n",
       "      <td>-0.000051</td>\n",
       "      <td>2171.0</td>\n",
       "      <td>2018-10-17 00:00:06</td>\n",
       "      <td>ASK</td>\n",
       "      <td>97.895</td>\n",
       "      <td>00:00:06</td>\n",
       "      <td>5000.0</td>\n",
       "      <td>6000.0</td>\n",
       "      <td>6000.0</td>\n",
       "      <td>0.000051</td>\n",
       "    </tr>\n",
       "    <tr>\n",
       "      <th>10</th>\n",
       "      <td>2954</td>\n",
       "      <td>2018-10-17 00:03:14</td>\n",
       "      <td>BID</td>\n",
       "      <td>97.89</td>\n",
       "      <td>2018-10-17 00:03:14</td>\n",
       "      <td>00:03:14</td>\n",
       "      <td>0.0</td>\n",
       "      <td>194000.0</td>\n",
       "      <td>194000.0</td>\n",
       "      <td>-0.000051</td>\n",
       "      <td>2183.0</td>\n",
       "      <td>2018-10-17 00:03:14</td>\n",
       "      <td>ASK</td>\n",
       "      <td>97.895</td>\n",
       "      <td>00:03:14</td>\n",
       "      <td>46000.0</td>\n",
       "      <td>194000.0</td>\n",
       "      <td>194000.0</td>\n",
       "      <td>0.000051</td>\n",
       "    </tr>\n",
       "    <tr>\n",
       "      <th>11</th>\n",
       "      <td>2954</td>\n",
       "      <td>2018-10-17 00:03:14</td>\n",
       "      <td>BID</td>\n",
       "      <td>97.89</td>\n",
       "      <td>2018-10-17 00:03:14</td>\n",
       "      <td>00:03:14</td>\n",
       "      <td>0.0</td>\n",
       "      <td>194000.0</td>\n",
       "      <td>194000.0</td>\n",
       "      <td>-0.000051</td>\n",
       "      <td>2193.0</td>\n",
       "      <td>2018-10-17 00:03:14</td>\n",
       "      <td>ASK</td>\n",
       "      <td>97.895</td>\n",
       "      <td>00:03:14</td>\n",
       "      <td>0.0</td>\n",
       "      <td>194000.0</td>\n",
       "      <td>194000.0</td>\n",
       "      <td>0.000000</td>\n",
       "    </tr>\n",
       "    <tr>\n",
       "      <th>12</th>\n",
       "      <td>2954</td>\n",
       "      <td>2018-10-17 00:03:14</td>\n",
       "      <td>BID</td>\n",
       "      <td>97.89</td>\n",
       "      <td>2018-10-17 00:03:14</td>\n",
       "      <td>00:03:14</td>\n",
       "      <td>0.0</td>\n",
       "      <td>194000.0</td>\n",
       "      <td>194000.0</td>\n",
       "      <td>-0.000051</td>\n",
       "      <td>2203.0</td>\n",
       "      <td>2018-10-17 00:03:14</td>\n",
       "      <td>ASK</td>\n",
       "      <td>97.895</td>\n",
       "      <td>00:03:14</td>\n",
       "      <td>0.0</td>\n",
       "      <td>194000.0</td>\n",
       "      <td>194000.0</td>\n",
       "      <td>0.000051</td>\n",
       "    </tr>\n",
       "    <tr>\n",
       "      <th>13</th>\n",
       "      <td>3235</td>\n",
       "      <td>2018-10-17 00:03:48</td>\n",
       "      <td>BID</td>\n",
       "      <td>97.89</td>\n",
       "      <td>2018-10-17 00:03:48</td>\n",
       "      <td>00:03:48</td>\n",
       "      <td>0.0</td>\n",
       "      <td>228000.0</td>\n",
       "      <td>228000.0</td>\n",
       "      <td>-0.000051</td>\n",
       "      <td>2313.0</td>\n",
       "      <td>2018-10-17 00:03:48</td>\n",
       "      <td>ASK</td>\n",
       "      <td>97.895</td>\n",
       "      <td>00:03:48</td>\n",
       "      <td>15000.0</td>\n",
       "      <td>228000.0</td>\n",
       "      <td>228000.0</td>\n",
       "      <td>0.000000</td>\n",
       "    </tr>\n",
       "    <tr>\n",
       "      <th>14</th>\n",
       "      <td>3235</td>\n",
       "      <td>2018-10-17 00:03:48</td>\n",
       "      <td>BID</td>\n",
       "      <td>97.89</td>\n",
       "      <td>2018-10-17 00:03:48</td>\n",
       "      <td>00:03:48</td>\n",
       "      <td>0.0</td>\n",
       "      <td>228000.0</td>\n",
       "      <td>228000.0</td>\n",
       "      <td>-0.000051</td>\n",
       "      <td>2303.0</td>\n",
       "      <td>2018-10-17 00:03:48</td>\n",
       "      <td>ASK</td>\n",
       "      <td>97.895</td>\n",
       "      <td>00:03:48</td>\n",
       "      <td>0.0</td>\n",
       "      <td>228000.0</td>\n",
       "      <td>228000.0</td>\n",
       "      <td>0.000000</td>\n",
       "    </tr>\n",
       "    <tr>\n",
       "      <th>15</th>\n",
       "      <td>3235</td>\n",
       "      <td>2018-10-17 00:03:48</td>\n",
       "      <td>BID</td>\n",
       "      <td>97.89</td>\n",
       "      <td>2018-10-17 00:03:48</td>\n",
       "      <td>00:03:48</td>\n",
       "      <td>0.0</td>\n",
       "      <td>228000.0</td>\n",
       "      <td>228000.0</td>\n",
       "      <td>-0.000051</td>\n",
       "      <td>2293.0</td>\n",
       "      <td>2018-10-17 00:03:48</td>\n",
       "      <td>ASK</td>\n",
       "      <td>97.895</td>\n",
       "      <td>00:03:48</td>\n",
       "      <td>0.0</td>\n",
       "      <td>228000.0</td>\n",
       "      <td>228000.0</td>\n",
       "      <td>0.000051</td>\n",
       "    </tr>\n",
       "    <tr>\n",
       "      <th>19</th>\n",
       "      <td>3284</td>\n",
       "      <td>2018-10-17 00:07:04</td>\n",
       "      <td>BID</td>\n",
       "      <td>97.89</td>\n",
       "      <td>2018-10-17 00:07:04</td>\n",
       "      <td>00:07:04</td>\n",
       "      <td>1000.0</td>\n",
       "      <td>424000.0</td>\n",
       "      <td>424000.0</td>\n",
       "      <td>-0.000051</td>\n",
       "      <td>2818.0</td>\n",
       "      <td>2018-10-17 00:07:04</td>\n",
       "      <td>ASK</td>\n",
       "      <td>97.895</td>\n",
       "      <td>00:07:04</td>\n",
       "      <td>0.0</td>\n",
       "      <td>424000.0</td>\n",
       "      <td>424000.0</td>\n",
       "      <td>0.000051</td>\n",
       "    </tr>\n",
       "    <tr>\n",
       "      <th>44</th>\n",
       "      <td>3243</td>\n",
       "      <td>2018-10-17 00:11:14</td>\n",
       "      <td>BID</td>\n",
       "      <td>97.89</td>\n",
       "      <td>2018-10-17 00:11:14</td>\n",
       "      <td>00:11:14</td>\n",
       "      <td>8000.0</td>\n",
       "      <td>674000.0</td>\n",
       "      <td>674000.0</td>\n",
       "      <td>0.000000</td>\n",
       "      <td>2790.0</td>\n",
       "      <td>2018-10-17 00:11:14</td>\n",
       "      <td>ASK</td>\n",
       "      <td>97.895</td>\n",
       "      <td>00:11:14</td>\n",
       "      <td>0.0</td>\n",
       "      <td>674000.0</td>\n",
       "      <td>674000.0</td>\n",
       "      <td>0.000051</td>\n",
       "    </tr>\n",
       "    <tr>\n",
       "      <th>48</th>\n",
       "      <td>3208</td>\n",
       "      <td>2018-10-17 00:11:26</td>\n",
       "      <td>BID</td>\n",
       "      <td>97.89</td>\n",
       "      <td>2018-10-17 00:11:26</td>\n",
       "      <td>00:11:26</td>\n",
       "      <td>9000.0</td>\n",
       "      <td>686000.0</td>\n",
       "      <td>686000.0</td>\n",
       "      <td>0.000000</td>\n",
       "      <td>2840.0</td>\n",
       "      <td>2018-10-17 00:11:26</td>\n",
       "      <td>ASK</td>\n",
       "      <td>97.895</td>\n",
       "      <td>00:11:26</td>\n",
       "      <td>0.0</td>\n",
       "      <td>686000.0</td>\n",
       "      <td>686000.0</td>\n",
       "      <td>0.000051</td>\n",
       "    </tr>\n",
       "    <tr>\n",
       "      <th>49</th>\n",
       "      <td>3208</td>\n",
       "      <td>2018-10-17 00:11:26</td>\n",
       "      <td>BID</td>\n",
       "      <td>97.89</td>\n",
       "      <td>2018-10-17 00:11:26</td>\n",
       "      <td>00:11:26</td>\n",
       "      <td>9000.0</td>\n",
       "      <td>686000.0</td>\n",
       "      <td>686000.0</td>\n",
       "      <td>0.000000</td>\n",
       "      <td>2857.0</td>\n",
       "      <td>2018-10-17 00:11:26</td>\n",
       "      <td>ASK</td>\n",
       "      <td>97.895</td>\n",
       "      <td>00:11:26</td>\n",
       "      <td>0.0</td>\n",
       "      <td>686000.0</td>\n",
       "      <td>686000.0</td>\n",
       "      <td>0.000051</td>\n",
       "    </tr>\n",
       "    <tr>\n",
       "      <th>50</th>\n",
       "      <td>3208</td>\n",
       "      <td>2018-10-17 00:11:26</td>\n",
       "      <td>BID</td>\n",
       "      <td>97.89</td>\n",
       "      <td>2018-10-17 00:11:26</td>\n",
       "      <td>00:11:26</td>\n",
       "      <td>9000.0</td>\n",
       "      <td>686000.0</td>\n",
       "      <td>686000.0</td>\n",
       "      <td>0.000000</td>\n",
       "      <td>2843.0</td>\n",
       "      <td>2018-10-17 00:11:26</td>\n",
       "      <td>ASK</td>\n",
       "      <td>97.895</td>\n",
       "      <td>00:11:26</td>\n",
       "      <td>0.0</td>\n",
       "      <td>686000.0</td>\n",
       "      <td>686000.0</td>\n",
       "      <td>0.000051</td>\n",
       "    </tr>\n",
       "    <tr>\n",
       "      <th>51</th>\n",
       "      <td>3208</td>\n",
       "      <td>2018-10-17 00:11:26</td>\n",
       "      <td>BID</td>\n",
       "      <td>97.89</td>\n",
       "      <td>2018-10-17 00:11:26</td>\n",
       "      <td>00:11:26</td>\n",
       "      <td>9000.0</td>\n",
       "      <td>686000.0</td>\n",
       "      <td>686000.0</td>\n",
       "      <td>0.000000</td>\n",
       "      <td>2828.0</td>\n",
       "      <td>2018-10-17 00:11:26</td>\n",
       "      <td>ASK</td>\n",
       "      <td>97.895</td>\n",
       "      <td>00:11:26</td>\n",
       "      <td>0.0</td>\n",
       "      <td>686000.0</td>\n",
       "      <td>686000.0</td>\n",
       "      <td>0.000000</td>\n",
       "    </tr>\n",
       "    <tr>\n",
       "      <th>52</th>\n",
       "      <td>3131</td>\n",
       "      <td>2018-10-17 00:11:26</td>\n",
       "      <td>BID</td>\n",
       "      <td>97.89</td>\n",
       "      <td>2018-10-17 00:11:26</td>\n",
       "      <td>00:11:26</td>\n",
       "      <td>0.0</td>\n",
       "      <td>686000.0</td>\n",
       "      <td>686000.0</td>\n",
       "      <td>0.000000</td>\n",
       "      <td>2840.0</td>\n",
       "      <td>2018-10-17 00:11:26</td>\n",
       "      <td>ASK</td>\n",
       "      <td>97.895</td>\n",
       "      <td>00:11:26</td>\n",
       "      <td>0.0</td>\n",
       "      <td>686000.0</td>\n",
       "      <td>686000.0</td>\n",
       "      <td>0.000051</td>\n",
       "    </tr>\n",
       "    <tr>\n",
       "      <th>53</th>\n",
       "      <td>3131</td>\n",
       "      <td>2018-10-17 00:11:26</td>\n",
       "      <td>BID</td>\n",
       "      <td>97.89</td>\n",
       "      <td>2018-10-17 00:11:26</td>\n",
       "      <td>00:11:26</td>\n",
       "      <td>0.0</td>\n",
       "      <td>686000.0</td>\n",
       "      <td>686000.0</td>\n",
       "      <td>0.000000</td>\n",
       "      <td>2857.0</td>\n",
       "      <td>2018-10-17 00:11:26</td>\n",
       "      <td>ASK</td>\n",
       "      <td>97.895</td>\n",
       "      <td>00:11:26</td>\n",
       "      <td>0.0</td>\n",
       "      <td>686000.0</td>\n",
       "      <td>686000.0</td>\n",
       "      <td>0.000051</td>\n",
       "    </tr>\n",
       "    <tr>\n",
       "      <th>54</th>\n",
       "      <td>3131</td>\n",
       "      <td>2018-10-17 00:11:26</td>\n",
       "      <td>BID</td>\n",
       "      <td>97.89</td>\n",
       "      <td>2018-10-17 00:11:26</td>\n",
       "      <td>00:11:26</td>\n",
       "      <td>0.0</td>\n",
       "      <td>686000.0</td>\n",
       "      <td>686000.0</td>\n",
       "      <td>0.000000</td>\n",
       "      <td>2843.0</td>\n",
       "      <td>2018-10-17 00:11:26</td>\n",
       "      <td>ASK</td>\n",
       "      <td>97.895</td>\n",
       "      <td>00:11:26</td>\n",
       "      <td>0.0</td>\n",
       "      <td>686000.0</td>\n",
       "      <td>686000.0</td>\n",
       "      <td>0.000051</td>\n",
       "    </tr>\n",
       "    <tr>\n",
       "      <th>55</th>\n",
       "      <td>3131</td>\n",
       "      <td>2018-10-17 00:11:26</td>\n",
       "      <td>BID</td>\n",
       "      <td>97.89</td>\n",
       "      <td>2018-10-17 00:11:26</td>\n",
       "      <td>00:11:26</td>\n",
       "      <td>0.0</td>\n",
       "      <td>686000.0</td>\n",
       "      <td>686000.0</td>\n",
       "      <td>0.000000</td>\n",
       "      <td>2828.0</td>\n",
       "      <td>2018-10-17 00:11:26</td>\n",
       "      <td>ASK</td>\n",
       "      <td>97.895</td>\n",
       "      <td>00:11:26</td>\n",
       "      <td>0.0</td>\n",
       "      <td>686000.0</td>\n",
       "      <td>686000.0</td>\n",
       "      <td>0.000000</td>\n",
       "    </tr>\n",
       "    <tr>\n",
       "      <th>56</th>\n",
       "      <td>3054</td>\n",
       "      <td>2018-10-17 00:11:26</td>\n",
       "      <td>BID</td>\n",
       "      <td>97.89</td>\n",
       "      <td>2018-10-17 00:11:26</td>\n",
       "      <td>00:11:26</td>\n",
       "      <td>0.0</td>\n",
       "      <td>686000.0</td>\n",
       "      <td>686000.0</td>\n",
       "      <td>0.000000</td>\n",
       "      <td>2840.0</td>\n",
       "      <td>2018-10-17 00:11:26</td>\n",
       "      <td>ASK</td>\n",
       "      <td>97.895</td>\n",
       "      <td>00:11:26</td>\n",
       "      <td>0.0</td>\n",
       "      <td>686000.0</td>\n",
       "      <td>686000.0</td>\n",
       "      <td>0.000051</td>\n",
       "    </tr>\n",
       "    <tr>\n",
       "      <th>57</th>\n",
       "      <td>3054</td>\n",
       "      <td>2018-10-17 00:11:26</td>\n",
       "      <td>BID</td>\n",
       "      <td>97.89</td>\n",
       "      <td>2018-10-17 00:11:26</td>\n",
       "      <td>00:11:26</td>\n",
       "      <td>0.0</td>\n",
       "      <td>686000.0</td>\n",
       "      <td>686000.0</td>\n",
       "      <td>0.000000</td>\n",
       "      <td>2857.0</td>\n",
       "      <td>2018-10-17 00:11:26</td>\n",
       "      <td>ASK</td>\n",
       "      <td>97.895</td>\n",
       "      <td>00:11:26</td>\n",
       "      <td>0.0</td>\n",
       "      <td>686000.0</td>\n",
       "      <td>686000.0</td>\n",
       "      <td>0.000051</td>\n",
       "    </tr>\n",
       "    <tr>\n",
       "      <th>58</th>\n",
       "      <td>3054</td>\n",
       "      <td>2018-10-17 00:11:26</td>\n",
       "      <td>BID</td>\n",
       "      <td>97.89</td>\n",
       "      <td>2018-10-17 00:11:26</td>\n",
       "      <td>00:11:26</td>\n",
       "      <td>0.0</td>\n",
       "      <td>686000.0</td>\n",
       "      <td>686000.0</td>\n",
       "      <td>0.000000</td>\n",
       "      <td>2843.0</td>\n",
       "      <td>2018-10-17 00:11:26</td>\n",
       "      <td>ASK</td>\n",
       "      <td>97.895</td>\n",
       "      <td>00:11:26</td>\n",
       "      <td>0.0</td>\n",
       "      <td>686000.0</td>\n",
       "      <td>686000.0</td>\n",
       "      <td>0.000051</td>\n",
       "    </tr>\n",
       "    <tr>\n",
       "      <th>59</th>\n",
       "      <td>3054</td>\n",
       "      <td>2018-10-17 00:11:26</td>\n",
       "      <td>BID</td>\n",
       "      <td>97.89</td>\n",
       "      <td>2018-10-17 00:11:26</td>\n",
       "      <td>00:11:26</td>\n",
       "      <td>0.0</td>\n",
       "      <td>686000.0</td>\n",
       "      <td>686000.0</td>\n",
       "      <td>0.000000</td>\n",
       "      <td>2828.0</td>\n",
       "      <td>2018-10-17 00:11:26</td>\n",
       "      <td>ASK</td>\n",
       "      <td>97.895</td>\n",
       "      <td>00:11:26</td>\n",
       "      <td>0.0</td>\n",
       "      <td>686000.0</td>\n",
       "      <td>686000.0</td>\n",
       "      <td>0.000000</td>\n",
       "    </tr>\n",
       "    <tr>\n",
       "      <th>60</th>\n",
       "      <td>3022</td>\n",
       "      <td>2018-10-17 00:11:26</td>\n",
       "      <td>BID</td>\n",
       "      <td>97.89</td>\n",
       "      <td>2018-10-17 00:11:26</td>\n",
       "      <td>00:11:26</td>\n",
       "      <td>0.0</td>\n",
       "      <td>686000.0</td>\n",
       "      <td>686000.0</td>\n",
       "      <td>0.000000</td>\n",
       "      <td>2840.0</td>\n",
       "      <td>2018-10-17 00:11:26</td>\n",
       "      <td>ASK</td>\n",
       "      <td>97.895</td>\n",
       "      <td>00:11:26</td>\n",
       "      <td>0.0</td>\n",
       "      <td>686000.0</td>\n",
       "      <td>686000.0</td>\n",
       "      <td>0.000051</td>\n",
       "    </tr>\n",
       "    <tr>\n",
       "      <th>61</th>\n",
       "      <td>3022</td>\n",
       "      <td>2018-10-17 00:11:26</td>\n",
       "      <td>BID</td>\n",
       "      <td>97.89</td>\n",
       "      <td>2018-10-17 00:11:26</td>\n",
       "      <td>00:11:26</td>\n",
       "      <td>0.0</td>\n",
       "      <td>686000.0</td>\n",
       "      <td>686000.0</td>\n",
       "      <td>0.000000</td>\n",
       "      <td>2857.0</td>\n",
       "      <td>2018-10-17 00:11:26</td>\n",
       "      <td>ASK</td>\n",
       "      <td>97.895</td>\n",
       "      <td>00:11:26</td>\n",
       "      <td>0.0</td>\n",
       "      <td>686000.0</td>\n",
       "      <td>686000.0</td>\n",
       "      <td>0.000051</td>\n",
       "    </tr>\n",
       "    <tr>\n",
       "      <th>62</th>\n",
       "      <td>3022</td>\n",
       "      <td>2018-10-17 00:11:26</td>\n",
       "      <td>BID</td>\n",
       "      <td>97.89</td>\n",
       "      <td>2018-10-17 00:11:26</td>\n",
       "      <td>00:11:26</td>\n",
       "      <td>0.0</td>\n",
       "      <td>686000.0</td>\n",
       "      <td>686000.0</td>\n",
       "      <td>0.000000</td>\n",
       "      <td>2843.0</td>\n",
       "      <td>2018-10-17 00:11:26</td>\n",
       "      <td>ASK</td>\n",
       "      <td>97.895</td>\n",
       "      <td>00:11:26</td>\n",
       "      <td>0.0</td>\n",
       "      <td>686000.0</td>\n",
       "      <td>686000.0</td>\n",
       "      <td>0.000051</td>\n",
       "    </tr>\n",
       "    <tr>\n",
       "      <th>63</th>\n",
       "      <td>3022</td>\n",
       "      <td>2018-10-17 00:11:26</td>\n",
       "      <td>BID</td>\n",
       "      <td>97.89</td>\n",
       "      <td>2018-10-17 00:11:26</td>\n",
       "      <td>00:11:26</td>\n",
       "      <td>0.0</td>\n",
       "      <td>686000.0</td>\n",
       "      <td>686000.0</td>\n",
       "      <td>0.000000</td>\n",
       "      <td>2828.0</td>\n",
       "      <td>2018-10-17 00:11:26</td>\n",
       "      <td>ASK</td>\n",
       "      <td>97.895</td>\n",
       "      <td>00:11:26</td>\n",
       "      <td>0.0</td>\n",
       "      <td>686000.0</td>\n",
       "      <td>686000.0</td>\n",
       "      <td>0.000000</td>\n",
       "    </tr>\n",
       "    <tr>\n",
       "      <th>64</th>\n",
       "      <td>3021</td>\n",
       "      <td>2018-10-17 00:11:26</td>\n",
       "      <td>BID</td>\n",
       "      <td>97.89</td>\n",
       "      <td>2018-10-17 00:11:26</td>\n",
       "      <td>00:11:26</td>\n",
       "      <td>0.0</td>\n",
       "      <td>686000.0</td>\n",
       "      <td>686000.0</td>\n",
       "      <td>0.000000</td>\n",
       "      <td>2840.0</td>\n",
       "      <td>2018-10-17 00:11:26</td>\n",
       "      <td>ASK</td>\n",
       "      <td>97.895</td>\n",
       "      <td>00:11:26</td>\n",
       "      <td>0.0</td>\n",
       "      <td>686000.0</td>\n",
       "      <td>686000.0</td>\n",
       "      <td>0.000051</td>\n",
       "    </tr>\n",
       "    <tr>\n",
       "      <th>65</th>\n",
       "      <td>3021</td>\n",
       "      <td>2018-10-17 00:11:26</td>\n",
       "      <td>BID</td>\n",
       "      <td>97.89</td>\n",
       "      <td>2018-10-17 00:11:26</td>\n",
       "      <td>00:11:26</td>\n",
       "      <td>0.0</td>\n",
       "      <td>686000.0</td>\n",
       "      <td>686000.0</td>\n",
       "      <td>0.000000</td>\n",
       "      <td>2857.0</td>\n",
       "      <td>2018-10-17 00:11:26</td>\n",
       "      <td>ASK</td>\n",
       "      <td>97.895</td>\n",
       "      <td>00:11:26</td>\n",
       "      <td>0.0</td>\n",
       "      <td>686000.0</td>\n",
       "      <td>686000.0</td>\n",
       "      <td>0.000051</td>\n",
       "    </tr>\n",
       "    <tr>\n",
       "      <th>66</th>\n",
       "      <td>3021</td>\n",
       "      <td>2018-10-17 00:11:26</td>\n",
       "      <td>BID</td>\n",
       "      <td>97.89</td>\n",
       "      <td>2018-10-17 00:11:26</td>\n",
       "      <td>00:11:26</td>\n",
       "      <td>0.0</td>\n",
       "      <td>686000.0</td>\n",
       "      <td>686000.0</td>\n",
       "      <td>0.000000</td>\n",
       "      <td>2843.0</td>\n",
       "      <td>2018-10-17 00:11:26</td>\n",
       "      <td>ASK</td>\n",
       "      <td>97.895</td>\n",
       "      <td>00:11:26</td>\n",
       "      <td>0.0</td>\n",
       "      <td>686000.0</td>\n",
       "      <td>686000.0</td>\n",
       "      <td>0.000051</td>\n",
       "    </tr>\n",
       "    <tr>\n",
       "      <th>67</th>\n",
       "      <td>3021</td>\n",
       "      <td>2018-10-17 00:11:26</td>\n",
       "      <td>BID</td>\n",
       "      <td>97.89</td>\n",
       "      <td>2018-10-17 00:11:26</td>\n",
       "      <td>00:11:26</td>\n",
       "      <td>0.0</td>\n",
       "      <td>686000.0</td>\n",
       "      <td>686000.0</td>\n",
       "      <td>0.000000</td>\n",
       "      <td>2828.0</td>\n",
       "      <td>2018-10-17 00:11:26</td>\n",
       "      <td>ASK</td>\n",
       "      <td>97.895</td>\n",
       "      <td>00:11:26</td>\n",
       "      <td>0.0</td>\n",
       "      <td>686000.0</td>\n",
       "      <td>686000.0</td>\n",
       "      <td>0.000000</td>\n",
       "    </tr>\n",
       "    <tr>\n",
       "      <th>68</th>\n",
       "      <td>2921</td>\n",
       "      <td>2018-10-17 00:11:26</td>\n",
       "      <td>BID</td>\n",
       "      <td>97.89</td>\n",
       "      <td>2018-10-17 00:11:26</td>\n",
       "      <td>00:11:26</td>\n",
       "      <td>0.0</td>\n",
       "      <td>686000.0</td>\n",
       "      <td>686000.0</td>\n",
       "      <td>0.000000</td>\n",
       "      <td>2840.0</td>\n",
       "      <td>2018-10-17 00:11:26</td>\n",
       "      <td>ASK</td>\n",
       "      <td>97.895</td>\n",
       "      <td>00:11:26</td>\n",
       "      <td>0.0</td>\n",
       "      <td>686000.0</td>\n",
       "      <td>686000.0</td>\n",
       "      <td>0.000051</td>\n",
       "    </tr>\n",
       "    <tr>\n",
       "      <th>...</th>\n",
       "      <td>...</td>\n",
       "      <td>...</td>\n",
       "      <td>...</td>\n",
       "      <td>...</td>\n",
       "      <td>...</td>\n",
       "      <td>...</td>\n",
       "      <td>...</td>\n",
       "      <td>...</td>\n",
       "      <td>...</td>\n",
       "      <td>...</td>\n",
       "      <td>...</td>\n",
       "      <td>...</td>\n",
       "      <td>...</td>\n",
       "      <td>...</td>\n",
       "      <td>...</td>\n",
       "      <td>...</td>\n",
       "      <td>...</td>\n",
       "      <td>...</td>\n",
       "      <td>...</td>\n",
       "    </tr>\n",
       "    <tr>\n",
       "      <th>45953</th>\n",
       "      <td>3585</td>\n",
       "      <td>2018-10-17 23:52:53</td>\n",
       "      <td>BID</td>\n",
       "      <td>97.88</td>\n",
       "      <td>2018-10-17 23:52:53</td>\n",
       "      <td>23:52:53</td>\n",
       "      <td>0.0</td>\n",
       "      <td>85973000.0</td>\n",
       "      <td>85973000.0</td>\n",
       "      <td>0.000000</td>\n",
       "      <td>3581.0</td>\n",
       "      <td>2018-10-17 23:52:53</td>\n",
       "      <td>ASK</td>\n",
       "      <td>97.885</td>\n",
       "      <td>23:52:53</td>\n",
       "      <td>0.0</td>\n",
       "      <td>85973000.0</td>\n",
       "      <td>85973000.0</td>\n",
       "      <td>0.000051</td>\n",
       "    </tr>\n",
       "    <tr>\n",
       "      <th>45954</th>\n",
       "      <td>3463</td>\n",
       "      <td>2018-10-17 23:52:53</td>\n",
       "      <td>BID</td>\n",
       "      <td>97.88</td>\n",
       "      <td>2018-10-17 23:52:53</td>\n",
       "      <td>23:52:53</td>\n",
       "      <td>0.0</td>\n",
       "      <td>85973000.0</td>\n",
       "      <td>85973000.0</td>\n",
       "      <td>0.000000</td>\n",
       "      <td>3581.0</td>\n",
       "      <td>2018-10-17 23:52:53</td>\n",
       "      <td>ASK</td>\n",
       "      <td>97.885</td>\n",
       "      <td>23:52:53</td>\n",
       "      <td>0.0</td>\n",
       "      <td>85973000.0</td>\n",
       "      <td>85973000.0</td>\n",
       "      <td>0.000051</td>\n",
       "    </tr>\n",
       "    <tr>\n",
       "      <th>45955</th>\n",
       "      <td>3373</td>\n",
       "      <td>2018-10-17 23:52:53</td>\n",
       "      <td>BID</td>\n",
       "      <td>97.88</td>\n",
       "      <td>2018-10-17 23:52:53</td>\n",
       "      <td>23:52:53</td>\n",
       "      <td>0.0</td>\n",
       "      <td>85973000.0</td>\n",
       "      <td>85973000.0</td>\n",
       "      <td>0.000000</td>\n",
       "      <td>3581.0</td>\n",
       "      <td>2018-10-17 23:52:53</td>\n",
       "      <td>ASK</td>\n",
       "      <td>97.885</td>\n",
       "      <td>23:52:53</td>\n",
       "      <td>0.0</td>\n",
       "      <td>85973000.0</td>\n",
       "      <td>85973000.0</td>\n",
       "      <td>0.000051</td>\n",
       "    </tr>\n",
       "    <tr>\n",
       "      <th>45956</th>\n",
       "      <td>3463</td>\n",
       "      <td>2018-10-17 23:52:53</td>\n",
       "      <td>BID</td>\n",
       "      <td>97.88</td>\n",
       "      <td>2018-10-17 23:52:53</td>\n",
       "      <td>23:52:53</td>\n",
       "      <td>0.0</td>\n",
       "      <td>85973000.0</td>\n",
       "      <td>85973000.0</td>\n",
       "      <td>-0.000051</td>\n",
       "      <td>3581.0</td>\n",
       "      <td>2018-10-17 23:52:53</td>\n",
       "      <td>ASK</td>\n",
       "      <td>97.885</td>\n",
       "      <td>23:52:53</td>\n",
       "      <td>0.0</td>\n",
       "      <td>85973000.0</td>\n",
       "      <td>85973000.0</td>\n",
       "      <td>0.000051</td>\n",
       "    </tr>\n",
       "    <tr>\n",
       "      <th>45957</th>\n",
       "      <td>3373</td>\n",
       "      <td>2018-10-17 23:52:54</td>\n",
       "      <td>BID</td>\n",
       "      <td>97.88</td>\n",
       "      <td>2018-10-17 23:52:54</td>\n",
       "      <td>23:52:54</td>\n",
       "      <td>0.0</td>\n",
       "      <td>85974000.0</td>\n",
       "      <td>85974000.0</td>\n",
       "      <td>-0.000051</td>\n",
       "      <td>3881.0</td>\n",
       "      <td>2018-10-17 23:52:54</td>\n",
       "      <td>ASK</td>\n",
       "      <td>97.885</td>\n",
       "      <td>23:52:54</td>\n",
       "      <td>1000.0</td>\n",
       "      <td>85974000.0</td>\n",
       "      <td>85974000.0</td>\n",
       "      <td>0.000051</td>\n",
       "    </tr>\n",
       "    <tr>\n",
       "      <th>45958</th>\n",
       "      <td>3372</td>\n",
       "      <td>2018-10-17 23:53:06</td>\n",
       "      <td>BID</td>\n",
       "      <td>97.88</td>\n",
       "      <td>2018-10-17 23:53:06</td>\n",
       "      <td>23:53:06</td>\n",
       "      <td>7000.0</td>\n",
       "      <td>85986000.0</td>\n",
       "      <td>85986000.0</td>\n",
       "      <td>-0.000051</td>\n",
       "      <td>3880.0</td>\n",
       "      <td>2018-10-17 23:53:06</td>\n",
       "      <td>ASK</td>\n",
       "      <td>97.885</td>\n",
       "      <td>23:53:06</td>\n",
       "      <td>0.0</td>\n",
       "      <td>85986000.0</td>\n",
       "      <td>85986000.0</td>\n",
       "      <td>0.000051</td>\n",
       "    </tr>\n",
       "    <tr>\n",
       "      <th>45959</th>\n",
       "      <td>3372</td>\n",
       "      <td>2018-10-17 23:53:06</td>\n",
       "      <td>BID</td>\n",
       "      <td>97.88</td>\n",
       "      <td>2018-10-17 23:53:06</td>\n",
       "      <td>23:53:06</td>\n",
       "      <td>7000.0</td>\n",
       "      <td>85986000.0</td>\n",
       "      <td>85986000.0</td>\n",
       "      <td>-0.000051</td>\n",
       "      <td>3879.0</td>\n",
       "      <td>2018-10-17 23:53:06</td>\n",
       "      <td>ASK</td>\n",
       "      <td>97.885</td>\n",
       "      <td>23:53:06</td>\n",
       "      <td>0.0</td>\n",
       "      <td>85986000.0</td>\n",
       "      <td>85986000.0</td>\n",
       "      <td>0.000000</td>\n",
       "    </tr>\n",
       "    <tr>\n",
       "      <th>45960</th>\n",
       "      <td>3371</td>\n",
       "      <td>2018-10-17 23:53:06</td>\n",
       "      <td>BID</td>\n",
       "      <td>97.88</td>\n",
       "      <td>2018-10-17 23:53:06</td>\n",
       "      <td>23:53:06</td>\n",
       "      <td>0.0</td>\n",
       "      <td>85986000.0</td>\n",
       "      <td>85986000.0</td>\n",
       "      <td>-0.000051</td>\n",
       "      <td>3880.0</td>\n",
       "      <td>2018-10-17 23:53:06</td>\n",
       "      <td>ASK</td>\n",
       "      <td>97.885</td>\n",
       "      <td>23:53:06</td>\n",
       "      <td>0.0</td>\n",
       "      <td>85986000.0</td>\n",
       "      <td>85986000.0</td>\n",
       "      <td>0.000051</td>\n",
       "    </tr>\n",
       "    <tr>\n",
       "      <th>45961</th>\n",
       "      <td>3371</td>\n",
       "      <td>2018-10-17 23:53:06</td>\n",
       "      <td>BID</td>\n",
       "      <td>97.88</td>\n",
       "      <td>2018-10-17 23:53:06</td>\n",
       "      <td>23:53:06</td>\n",
       "      <td>0.0</td>\n",
       "      <td>85986000.0</td>\n",
       "      <td>85986000.0</td>\n",
       "      <td>-0.000051</td>\n",
       "      <td>3879.0</td>\n",
       "      <td>2018-10-17 23:53:06</td>\n",
       "      <td>ASK</td>\n",
       "      <td>97.885</td>\n",
       "      <td>23:53:06</td>\n",
       "      <td>0.0</td>\n",
       "      <td>85986000.0</td>\n",
       "      <td>85986000.0</td>\n",
       "      <td>0.000000</td>\n",
       "    </tr>\n",
       "    <tr>\n",
       "      <th>45963</th>\n",
       "      <td>3499</td>\n",
       "      <td>2018-10-17 23:54:03</td>\n",
       "      <td>BID</td>\n",
       "      <td>97.88</td>\n",
       "      <td>2018-10-17 23:54:03</td>\n",
       "      <td>23:54:03</td>\n",
       "      <td>0.0</td>\n",
       "      <td>86043000.0</td>\n",
       "      <td>86043000.0</td>\n",
       "      <td>-0.000051</td>\n",
       "      <td>3902.0</td>\n",
       "      <td>2018-10-17 23:54:03</td>\n",
       "      <td>ASK</td>\n",
       "      <td>97.885</td>\n",
       "      <td>23:54:03</td>\n",
       "      <td>2000.0</td>\n",
       "      <td>86043000.0</td>\n",
       "      <td>86043000.0</td>\n",
       "      <td>0.000000</td>\n",
       "    </tr>\n",
       "    <tr>\n",
       "      <th>45964</th>\n",
       "      <td>3589</td>\n",
       "      <td>2018-10-17 23:54:03</td>\n",
       "      <td>BID</td>\n",
       "      <td>97.88</td>\n",
       "      <td>2018-10-17 23:54:03</td>\n",
       "      <td>23:54:03</td>\n",
       "      <td>0.0</td>\n",
       "      <td>86043000.0</td>\n",
       "      <td>86043000.0</td>\n",
       "      <td>0.000000</td>\n",
       "      <td>3902.0</td>\n",
       "      <td>2018-10-17 23:54:03</td>\n",
       "      <td>ASK</td>\n",
       "      <td>97.885</td>\n",
       "      <td>23:54:03</td>\n",
       "      <td>2000.0</td>\n",
       "      <td>86043000.0</td>\n",
       "      <td>86043000.0</td>\n",
       "      <td>0.000000</td>\n",
       "    </tr>\n",
       "    <tr>\n",
       "      <th>45965</th>\n",
       "      <td>3467</td>\n",
       "      <td>2018-10-17 23:54:03</td>\n",
       "      <td>BID</td>\n",
       "      <td>97.88</td>\n",
       "      <td>2018-10-17 23:54:03</td>\n",
       "      <td>23:54:03</td>\n",
       "      <td>0.0</td>\n",
       "      <td>86043000.0</td>\n",
       "      <td>86043000.0</td>\n",
       "      <td>0.000000</td>\n",
       "      <td>3902.0</td>\n",
       "      <td>2018-10-17 23:54:03</td>\n",
       "      <td>ASK</td>\n",
       "      <td>97.885</td>\n",
       "      <td>23:54:03</td>\n",
       "      <td>2000.0</td>\n",
       "      <td>86043000.0</td>\n",
       "      <td>86043000.0</td>\n",
       "      <td>0.000000</td>\n",
       "    </tr>\n",
       "    <tr>\n",
       "      <th>45966</th>\n",
       "      <td>3377</td>\n",
       "      <td>2018-10-17 23:54:03</td>\n",
       "      <td>BID</td>\n",
       "      <td>97.88</td>\n",
       "      <td>2018-10-17 23:54:03</td>\n",
       "      <td>23:54:03</td>\n",
       "      <td>0.0</td>\n",
       "      <td>86043000.0</td>\n",
       "      <td>86043000.0</td>\n",
       "      <td>0.000000</td>\n",
       "      <td>3902.0</td>\n",
       "      <td>2018-10-17 23:54:03</td>\n",
       "      <td>ASK</td>\n",
       "      <td>97.885</td>\n",
       "      <td>23:54:03</td>\n",
       "      <td>2000.0</td>\n",
       "      <td>86043000.0</td>\n",
       "      <td>86043000.0</td>\n",
       "      <td>0.000000</td>\n",
       "    </tr>\n",
       "    <tr>\n",
       "      <th>45967</th>\n",
       "      <td>3329</td>\n",
       "      <td>2018-10-17 23:54:28</td>\n",
       "      <td>BID</td>\n",
       "      <td>97.88</td>\n",
       "      <td>2018-10-17 23:54:28</td>\n",
       "      <td>23:54:28</td>\n",
       "      <td>25000.0</td>\n",
       "      <td>86068000.0</td>\n",
       "      <td>86068000.0</td>\n",
       "      <td>0.000000</td>\n",
       "      <td>3870.0</td>\n",
       "      <td>2018-10-17 23:54:28</td>\n",
       "      <td>ASK</td>\n",
       "      <td>97.885</td>\n",
       "      <td>23:54:28</td>\n",
       "      <td>0.0</td>\n",
       "      <td>86068000.0</td>\n",
       "      <td>86068000.0</td>\n",
       "      <td>0.000051</td>\n",
       "    </tr>\n",
       "    <tr>\n",
       "      <th>45968</th>\n",
       "      <td>3269</td>\n",
       "      <td>2018-10-17 23:54:28</td>\n",
       "      <td>BID</td>\n",
       "      <td>97.88</td>\n",
       "      <td>2018-10-17 23:54:28</td>\n",
       "      <td>23:54:28</td>\n",
       "      <td>0.0</td>\n",
       "      <td>86068000.0</td>\n",
       "      <td>86068000.0</td>\n",
       "      <td>0.000000</td>\n",
       "      <td>3870.0</td>\n",
       "      <td>2018-10-17 23:54:28</td>\n",
       "      <td>ASK</td>\n",
       "      <td>97.885</td>\n",
       "      <td>23:54:28</td>\n",
       "      <td>0.0</td>\n",
       "      <td>86068000.0</td>\n",
       "      <td>86068000.0</td>\n",
       "      <td>0.000051</td>\n",
       "    </tr>\n",
       "    <tr>\n",
       "      <th>45969</th>\n",
       "      <td>3253</td>\n",
       "      <td>2018-10-17 23:54:28</td>\n",
       "      <td>BID</td>\n",
       "      <td>97.88</td>\n",
       "      <td>2018-10-17 23:54:28</td>\n",
       "      <td>23:54:28</td>\n",
       "      <td>0.0</td>\n",
       "      <td>86068000.0</td>\n",
       "      <td>86068000.0</td>\n",
       "      <td>0.000000</td>\n",
       "      <td>3870.0</td>\n",
       "      <td>2018-10-17 23:54:28</td>\n",
       "      <td>ASK</td>\n",
       "      <td>97.885</td>\n",
       "      <td>23:54:28</td>\n",
       "      <td>0.0</td>\n",
       "      <td>86068000.0</td>\n",
       "      <td>86068000.0</td>\n",
       "      <td>0.000051</td>\n",
       "    </tr>\n",
       "    <tr>\n",
       "      <th>45970</th>\n",
       "      <td>3221</td>\n",
       "      <td>2018-10-17 23:54:28</td>\n",
       "      <td>BID</td>\n",
       "      <td>97.88</td>\n",
       "      <td>2018-10-17 23:54:28</td>\n",
       "      <td>23:54:28</td>\n",
       "      <td>0.0</td>\n",
       "      <td>86068000.0</td>\n",
       "      <td>86068000.0</td>\n",
       "      <td>0.000000</td>\n",
       "      <td>3870.0</td>\n",
       "      <td>2018-10-17 23:54:28</td>\n",
       "      <td>ASK</td>\n",
       "      <td>97.885</td>\n",
       "      <td>23:54:28</td>\n",
       "      <td>0.0</td>\n",
       "      <td>86068000.0</td>\n",
       "      <td>86068000.0</td>\n",
       "      <td>0.000051</td>\n",
       "    </tr>\n",
       "    <tr>\n",
       "      <th>45973</th>\n",
       "      <td>3189</td>\n",
       "      <td>2018-10-17 23:56:48</td>\n",
       "      <td>BID</td>\n",
       "      <td>97.88</td>\n",
       "      <td>2018-10-17 23:56:48</td>\n",
       "      <td>23:56:48</td>\n",
       "      <td>20000.0</td>\n",
       "      <td>86208000.0</td>\n",
       "      <td>86208000.0</td>\n",
       "      <td>0.000000</td>\n",
       "      <td>3885.0</td>\n",
       "      <td>2018-10-17 23:56:48</td>\n",
       "      <td>ASK</td>\n",
       "      <td>97.885</td>\n",
       "      <td>23:56:48</td>\n",
       "      <td>0.0</td>\n",
       "      <td>86208000.0</td>\n",
       "      <td>86208000.0</td>\n",
       "      <td>0.000051</td>\n",
       "    </tr>\n",
       "    <tr>\n",
       "      <th>45974</th>\n",
       "      <td>3244</td>\n",
       "      <td>2018-10-17 23:58:30</td>\n",
       "      <td>BID</td>\n",
       "      <td>97.88</td>\n",
       "      <td>2018-10-17 23:58:30</td>\n",
       "      <td>23:58:30</td>\n",
       "      <td>35000.0</td>\n",
       "      <td>86310000.0</td>\n",
       "      <td>86310000.0</td>\n",
       "      <td>-0.000051</td>\n",
       "      <td>3384.0</td>\n",
       "      <td>2018-10-17 23:58:30</td>\n",
       "      <td>ASK</td>\n",
       "      <td>97.885</td>\n",
       "      <td>23:58:30</td>\n",
       "      <td>0.0</td>\n",
       "      <td>86310000.0</td>\n",
       "      <td>86310000.0</td>\n",
       "      <td>0.000051</td>\n",
       "    </tr>\n",
       "    <tr>\n",
       "      <th>45975</th>\n",
       "      <td>3244</td>\n",
       "      <td>2018-10-17 23:58:30</td>\n",
       "      <td>BID</td>\n",
       "      <td>97.88</td>\n",
       "      <td>2018-10-17 23:58:30</td>\n",
       "      <td>23:58:30</td>\n",
       "      <td>35000.0</td>\n",
       "      <td>86310000.0</td>\n",
       "      <td>86310000.0</td>\n",
       "      <td>-0.000051</td>\n",
       "      <td>3294.0</td>\n",
       "      <td>2018-10-17 23:58:30</td>\n",
       "      <td>ASK</td>\n",
       "      <td>97.885</td>\n",
       "      <td>23:58:30</td>\n",
       "      <td>0.0</td>\n",
       "      <td>86310000.0</td>\n",
       "      <td>86310000.0</td>\n",
       "      <td>0.000051</td>\n",
       "    </tr>\n",
       "    <tr>\n",
       "      <th>45976</th>\n",
       "      <td>3244</td>\n",
       "      <td>2018-10-17 23:58:30</td>\n",
       "      <td>BID</td>\n",
       "      <td>97.88</td>\n",
       "      <td>2018-10-17 23:58:30</td>\n",
       "      <td>23:58:30</td>\n",
       "      <td>35000.0</td>\n",
       "      <td>86310000.0</td>\n",
       "      <td>86310000.0</td>\n",
       "      <td>-0.000051</td>\n",
       "      <td>3281.0</td>\n",
       "      <td>2018-10-17 23:58:30</td>\n",
       "      <td>ASK</td>\n",
       "      <td>97.885</td>\n",
       "      <td>23:58:30</td>\n",
       "      <td>0.0</td>\n",
       "      <td>86310000.0</td>\n",
       "      <td>86310000.0</td>\n",
       "      <td>0.000000</td>\n",
       "    </tr>\n",
       "    <tr>\n",
       "      <th>45977</th>\n",
       "      <td>3304</td>\n",
       "      <td>2018-10-17 23:58:30</td>\n",
       "      <td>BID</td>\n",
       "      <td>97.88</td>\n",
       "      <td>2018-10-17 23:58:30</td>\n",
       "      <td>23:58:30</td>\n",
       "      <td>0.0</td>\n",
       "      <td>86310000.0</td>\n",
       "      <td>86310000.0</td>\n",
       "      <td>0.000000</td>\n",
       "      <td>3384.0</td>\n",
       "      <td>2018-10-17 23:58:30</td>\n",
       "      <td>ASK</td>\n",
       "      <td>97.885</td>\n",
       "      <td>23:58:30</td>\n",
       "      <td>0.0</td>\n",
       "      <td>86310000.0</td>\n",
       "      <td>86310000.0</td>\n",
       "      <td>0.000051</td>\n",
       "    </tr>\n",
       "    <tr>\n",
       "      <th>45978</th>\n",
       "      <td>3304</td>\n",
       "      <td>2018-10-17 23:58:30</td>\n",
       "      <td>BID</td>\n",
       "      <td>97.88</td>\n",
       "      <td>2018-10-17 23:58:30</td>\n",
       "      <td>23:58:30</td>\n",
       "      <td>0.0</td>\n",
       "      <td>86310000.0</td>\n",
       "      <td>86310000.0</td>\n",
       "      <td>0.000000</td>\n",
       "      <td>3294.0</td>\n",
       "      <td>2018-10-17 23:58:30</td>\n",
       "      <td>ASK</td>\n",
       "      <td>97.885</td>\n",
       "      <td>23:58:30</td>\n",
       "      <td>0.0</td>\n",
       "      <td>86310000.0</td>\n",
       "      <td>86310000.0</td>\n",
       "      <td>0.000051</td>\n",
       "    </tr>\n",
       "    <tr>\n",
       "      <th>45979</th>\n",
       "      <td>3304</td>\n",
       "      <td>2018-10-17 23:58:30</td>\n",
       "      <td>BID</td>\n",
       "      <td>97.88</td>\n",
       "      <td>2018-10-17 23:58:30</td>\n",
       "      <td>23:58:30</td>\n",
       "      <td>0.0</td>\n",
       "      <td>86310000.0</td>\n",
       "      <td>86310000.0</td>\n",
       "      <td>0.000000</td>\n",
       "      <td>3281.0</td>\n",
       "      <td>2018-10-17 23:58:30</td>\n",
       "      <td>ASK</td>\n",
       "      <td>97.885</td>\n",
       "      <td>23:58:30</td>\n",
       "      <td>0.0</td>\n",
       "      <td>86310000.0</td>\n",
       "      <td>86310000.0</td>\n",
       "      <td>0.000000</td>\n",
       "    </tr>\n",
       "    <tr>\n",
       "      <th>45980</th>\n",
       "      <td>3394</td>\n",
       "      <td>2018-10-17 23:58:30</td>\n",
       "      <td>BID</td>\n",
       "      <td>97.88</td>\n",
       "      <td>2018-10-17 23:58:30</td>\n",
       "      <td>23:58:30</td>\n",
       "      <td>0.0</td>\n",
       "      <td>86310000.0</td>\n",
       "      <td>86310000.0</td>\n",
       "      <td>0.000000</td>\n",
       "      <td>3384.0</td>\n",
       "      <td>2018-10-17 23:58:30</td>\n",
       "      <td>ASK</td>\n",
       "      <td>97.885</td>\n",
       "      <td>23:58:30</td>\n",
       "      <td>0.0</td>\n",
       "      <td>86310000.0</td>\n",
       "      <td>86310000.0</td>\n",
       "      <td>0.000051</td>\n",
       "    </tr>\n",
       "    <tr>\n",
       "      <th>45981</th>\n",
       "      <td>3394</td>\n",
       "      <td>2018-10-17 23:58:30</td>\n",
       "      <td>BID</td>\n",
       "      <td>97.88</td>\n",
       "      <td>2018-10-17 23:58:30</td>\n",
       "      <td>23:58:30</td>\n",
       "      <td>0.0</td>\n",
       "      <td>86310000.0</td>\n",
       "      <td>86310000.0</td>\n",
       "      <td>0.000000</td>\n",
       "      <td>3294.0</td>\n",
       "      <td>2018-10-17 23:58:30</td>\n",
       "      <td>ASK</td>\n",
       "      <td>97.885</td>\n",
       "      <td>23:58:30</td>\n",
       "      <td>0.0</td>\n",
       "      <td>86310000.0</td>\n",
       "      <td>86310000.0</td>\n",
       "      <td>0.000051</td>\n",
       "    </tr>\n",
       "    <tr>\n",
       "      <th>45982</th>\n",
       "      <td>3394</td>\n",
       "      <td>2018-10-17 23:58:30</td>\n",
       "      <td>BID</td>\n",
       "      <td>97.88</td>\n",
       "      <td>2018-10-17 23:58:30</td>\n",
       "      <td>23:58:30</td>\n",
       "      <td>0.0</td>\n",
       "      <td>86310000.0</td>\n",
       "      <td>86310000.0</td>\n",
       "      <td>0.000000</td>\n",
       "      <td>3281.0</td>\n",
       "      <td>2018-10-17 23:58:30</td>\n",
       "      <td>ASK</td>\n",
       "      <td>97.885</td>\n",
       "      <td>23:58:30</td>\n",
       "      <td>0.0</td>\n",
       "      <td>86310000.0</td>\n",
       "      <td>86310000.0</td>\n",
       "      <td>0.000000</td>\n",
       "    </tr>\n",
       "    <tr>\n",
       "      <th>45983</th>\n",
       "      <td>3304</td>\n",
       "      <td>2018-10-17 23:58:30</td>\n",
       "      <td>BID</td>\n",
       "      <td>97.88</td>\n",
       "      <td>2018-10-17 23:58:30</td>\n",
       "      <td>23:58:30</td>\n",
       "      <td>0.0</td>\n",
       "      <td>86310000.0</td>\n",
       "      <td>86310000.0</td>\n",
       "      <td>-0.000051</td>\n",
       "      <td>3384.0</td>\n",
       "      <td>2018-10-17 23:58:30</td>\n",
       "      <td>ASK</td>\n",
       "      <td>97.885</td>\n",
       "      <td>23:58:30</td>\n",
       "      <td>0.0</td>\n",
       "      <td>86310000.0</td>\n",
       "      <td>86310000.0</td>\n",
       "      <td>0.000051</td>\n",
       "    </tr>\n",
       "    <tr>\n",
       "      <th>45984</th>\n",
       "      <td>3304</td>\n",
       "      <td>2018-10-17 23:58:30</td>\n",
       "      <td>BID</td>\n",
       "      <td>97.88</td>\n",
       "      <td>2018-10-17 23:58:30</td>\n",
       "      <td>23:58:30</td>\n",
       "      <td>0.0</td>\n",
       "      <td>86310000.0</td>\n",
       "      <td>86310000.0</td>\n",
       "      <td>-0.000051</td>\n",
       "      <td>3294.0</td>\n",
       "      <td>2018-10-17 23:58:30</td>\n",
       "      <td>ASK</td>\n",
       "      <td>97.885</td>\n",
       "      <td>23:58:30</td>\n",
       "      <td>0.0</td>\n",
       "      <td>86310000.0</td>\n",
       "      <td>86310000.0</td>\n",
       "      <td>0.000051</td>\n",
       "    </tr>\n",
       "    <tr>\n",
       "      <th>45985</th>\n",
       "      <td>3304</td>\n",
       "      <td>2018-10-17 23:58:30</td>\n",
       "      <td>BID</td>\n",
       "      <td>97.88</td>\n",
       "      <td>2018-10-17 23:58:30</td>\n",
       "      <td>23:58:30</td>\n",
       "      <td>0.0</td>\n",
       "      <td>86310000.0</td>\n",
       "      <td>86310000.0</td>\n",
       "      <td>-0.000051</td>\n",
       "      <td>3281.0</td>\n",
       "      <td>2018-10-17 23:58:30</td>\n",
       "      <td>ASK</td>\n",
       "      <td>97.885</td>\n",
       "      <td>23:58:30</td>\n",
       "      <td>0.0</td>\n",
       "      <td>86310000.0</td>\n",
       "      <td>86310000.0</td>\n",
       "      <td>0.000000</td>\n",
       "    </tr>\n",
       "  </tbody>\n",
       "</table>\n",
       "<p>41659 rows × 19 columns</p>\n",
       "</div>"
      ],
      "text/plain": [
       "       size_x               time_x type_x  value_x            DateTime  \\\n",
       "2        3236  2018-10-17 00:00:06    BID    97.89 2018-10-17 00:00:06   \n",
       "10       2954  2018-10-17 00:03:14    BID    97.89 2018-10-17 00:03:14   \n",
       "11       2954  2018-10-17 00:03:14    BID    97.89 2018-10-17 00:03:14   \n",
       "12       2954  2018-10-17 00:03:14    BID    97.89 2018-10-17 00:03:14   \n",
       "13       3235  2018-10-17 00:03:48    BID    97.89 2018-10-17 00:03:48   \n",
       "14       3235  2018-10-17 00:03:48    BID    97.89 2018-10-17 00:03:48   \n",
       "15       3235  2018-10-17 00:03:48    BID    97.89 2018-10-17 00:03:48   \n",
       "19       3284  2018-10-17 00:07:04    BID    97.89 2018-10-17 00:07:04   \n",
       "44       3243  2018-10-17 00:11:14    BID    97.89 2018-10-17 00:11:14   \n",
       "48       3208  2018-10-17 00:11:26    BID    97.89 2018-10-17 00:11:26   \n",
       "49       3208  2018-10-17 00:11:26    BID    97.89 2018-10-17 00:11:26   \n",
       "50       3208  2018-10-17 00:11:26    BID    97.89 2018-10-17 00:11:26   \n",
       "51       3208  2018-10-17 00:11:26    BID    97.89 2018-10-17 00:11:26   \n",
       "52       3131  2018-10-17 00:11:26    BID    97.89 2018-10-17 00:11:26   \n",
       "53       3131  2018-10-17 00:11:26    BID    97.89 2018-10-17 00:11:26   \n",
       "54       3131  2018-10-17 00:11:26    BID    97.89 2018-10-17 00:11:26   \n",
       "55       3131  2018-10-17 00:11:26    BID    97.89 2018-10-17 00:11:26   \n",
       "56       3054  2018-10-17 00:11:26    BID    97.89 2018-10-17 00:11:26   \n",
       "57       3054  2018-10-17 00:11:26    BID    97.89 2018-10-17 00:11:26   \n",
       "58       3054  2018-10-17 00:11:26    BID    97.89 2018-10-17 00:11:26   \n",
       "59       3054  2018-10-17 00:11:26    BID    97.89 2018-10-17 00:11:26   \n",
       "60       3022  2018-10-17 00:11:26    BID    97.89 2018-10-17 00:11:26   \n",
       "61       3022  2018-10-17 00:11:26    BID    97.89 2018-10-17 00:11:26   \n",
       "62       3022  2018-10-17 00:11:26    BID    97.89 2018-10-17 00:11:26   \n",
       "63       3022  2018-10-17 00:11:26    BID    97.89 2018-10-17 00:11:26   \n",
       "64       3021  2018-10-17 00:11:26    BID    97.89 2018-10-17 00:11:26   \n",
       "65       3021  2018-10-17 00:11:26    BID    97.89 2018-10-17 00:11:26   \n",
       "66       3021  2018-10-17 00:11:26    BID    97.89 2018-10-17 00:11:26   \n",
       "67       3021  2018-10-17 00:11:26    BID    97.89 2018-10-17 00:11:26   \n",
       "68       2921  2018-10-17 00:11:26    BID    97.89 2018-10-17 00:11:26   \n",
       "...       ...                  ...    ...      ...                 ...   \n",
       "45953    3585  2018-10-17 23:52:53    BID    97.88 2018-10-17 23:52:53   \n",
       "45954    3463  2018-10-17 23:52:53    BID    97.88 2018-10-17 23:52:53   \n",
       "45955    3373  2018-10-17 23:52:53    BID    97.88 2018-10-17 23:52:53   \n",
       "45956    3463  2018-10-17 23:52:53    BID    97.88 2018-10-17 23:52:53   \n",
       "45957    3373  2018-10-17 23:52:54    BID    97.88 2018-10-17 23:52:54   \n",
       "45958    3372  2018-10-17 23:53:06    BID    97.88 2018-10-17 23:53:06   \n",
       "45959    3372  2018-10-17 23:53:06    BID    97.88 2018-10-17 23:53:06   \n",
       "45960    3371  2018-10-17 23:53:06    BID    97.88 2018-10-17 23:53:06   \n",
       "45961    3371  2018-10-17 23:53:06    BID    97.88 2018-10-17 23:53:06   \n",
       "45963    3499  2018-10-17 23:54:03    BID    97.88 2018-10-17 23:54:03   \n",
       "45964    3589  2018-10-17 23:54:03    BID    97.88 2018-10-17 23:54:03   \n",
       "45965    3467  2018-10-17 23:54:03    BID    97.88 2018-10-17 23:54:03   \n",
       "45966    3377  2018-10-17 23:54:03    BID    97.88 2018-10-17 23:54:03   \n",
       "45967    3329  2018-10-17 23:54:28    BID    97.88 2018-10-17 23:54:28   \n",
       "45968    3269  2018-10-17 23:54:28    BID    97.88 2018-10-17 23:54:28   \n",
       "45969    3253  2018-10-17 23:54:28    BID    97.88 2018-10-17 23:54:28   \n",
       "45970    3221  2018-10-17 23:54:28    BID    97.88 2018-10-17 23:54:28   \n",
       "45973    3189  2018-10-17 23:56:48    BID    97.88 2018-10-17 23:56:48   \n",
       "45974    3244  2018-10-17 23:58:30    BID    97.88 2018-10-17 23:58:30   \n",
       "45975    3244  2018-10-17 23:58:30    BID    97.88 2018-10-17 23:58:30   \n",
       "45976    3244  2018-10-17 23:58:30    BID    97.88 2018-10-17 23:58:30   \n",
       "45977    3304  2018-10-17 23:58:30    BID    97.88 2018-10-17 23:58:30   \n",
       "45978    3304  2018-10-17 23:58:30    BID    97.88 2018-10-17 23:58:30   \n",
       "45979    3304  2018-10-17 23:58:30    BID    97.88 2018-10-17 23:58:30   \n",
       "45980    3394  2018-10-17 23:58:30    BID    97.88 2018-10-17 23:58:30   \n",
       "45981    3394  2018-10-17 23:58:30    BID    97.88 2018-10-17 23:58:30   \n",
       "45982    3394  2018-10-17 23:58:30    BID    97.88 2018-10-17 23:58:30   \n",
       "45983    3304  2018-10-17 23:58:30    BID    97.88 2018-10-17 23:58:30   \n",
       "45984    3304  2018-10-17 23:58:30    BID    97.88 2018-10-17 23:58:30   \n",
       "45985    3304  2018-10-17 23:58:30    BID    97.88 2018-10-17 23:58:30   \n",
       "\n",
       "      TimeStamp_x  Duration_x  millisDuration_x  millisTimeStamp_x  \\\n",
       "2        00:00:06         0.0            6000.0             6000.0   \n",
       "10       00:03:14         0.0          194000.0           194000.0   \n",
       "11       00:03:14         0.0          194000.0           194000.0   \n",
       "12       00:03:14         0.0          194000.0           194000.0   \n",
       "13       00:03:48         0.0          228000.0           228000.0   \n",
       "14       00:03:48         0.0          228000.0           228000.0   \n",
       "15       00:03:48         0.0          228000.0           228000.0   \n",
       "19       00:07:04      1000.0          424000.0           424000.0   \n",
       "44       00:11:14      8000.0          674000.0           674000.0   \n",
       "48       00:11:26      9000.0          686000.0           686000.0   \n",
       "49       00:11:26      9000.0          686000.0           686000.0   \n",
       "50       00:11:26      9000.0          686000.0           686000.0   \n",
       "51       00:11:26      9000.0          686000.0           686000.0   \n",
       "52       00:11:26         0.0          686000.0           686000.0   \n",
       "53       00:11:26         0.0          686000.0           686000.0   \n",
       "54       00:11:26         0.0          686000.0           686000.0   \n",
       "55       00:11:26         0.0          686000.0           686000.0   \n",
       "56       00:11:26         0.0          686000.0           686000.0   \n",
       "57       00:11:26         0.0          686000.0           686000.0   \n",
       "58       00:11:26         0.0          686000.0           686000.0   \n",
       "59       00:11:26         0.0          686000.0           686000.0   \n",
       "60       00:11:26         0.0          686000.0           686000.0   \n",
       "61       00:11:26         0.0          686000.0           686000.0   \n",
       "62       00:11:26         0.0          686000.0           686000.0   \n",
       "63       00:11:26         0.0          686000.0           686000.0   \n",
       "64       00:11:26         0.0          686000.0           686000.0   \n",
       "65       00:11:26         0.0          686000.0           686000.0   \n",
       "66       00:11:26         0.0          686000.0           686000.0   \n",
       "67       00:11:26         0.0          686000.0           686000.0   \n",
       "68       00:11:26         0.0          686000.0           686000.0   \n",
       "...           ...         ...               ...                ...   \n",
       "45953    23:52:53         0.0        85973000.0         85973000.0   \n",
       "45954    23:52:53         0.0        85973000.0         85973000.0   \n",
       "45955    23:52:53         0.0        85973000.0         85973000.0   \n",
       "45956    23:52:53         0.0        85973000.0         85973000.0   \n",
       "45957    23:52:54         0.0        85974000.0         85974000.0   \n",
       "45958    23:53:06      7000.0        85986000.0         85986000.0   \n",
       "45959    23:53:06      7000.0        85986000.0         85986000.0   \n",
       "45960    23:53:06         0.0        85986000.0         85986000.0   \n",
       "45961    23:53:06         0.0        85986000.0         85986000.0   \n",
       "45963    23:54:03         0.0        86043000.0         86043000.0   \n",
       "45964    23:54:03         0.0        86043000.0         86043000.0   \n",
       "45965    23:54:03         0.0        86043000.0         86043000.0   \n",
       "45966    23:54:03         0.0        86043000.0         86043000.0   \n",
       "45967    23:54:28     25000.0        86068000.0         86068000.0   \n",
       "45968    23:54:28         0.0        86068000.0         86068000.0   \n",
       "45969    23:54:28         0.0        86068000.0         86068000.0   \n",
       "45970    23:54:28         0.0        86068000.0         86068000.0   \n",
       "45973    23:56:48     20000.0        86208000.0         86208000.0   \n",
       "45974    23:58:30     35000.0        86310000.0         86310000.0   \n",
       "45975    23:58:30     35000.0        86310000.0         86310000.0   \n",
       "45976    23:58:30     35000.0        86310000.0         86310000.0   \n",
       "45977    23:58:30         0.0        86310000.0         86310000.0   \n",
       "45978    23:58:30         0.0        86310000.0         86310000.0   \n",
       "45979    23:58:30         0.0        86310000.0         86310000.0   \n",
       "45980    23:58:30         0.0        86310000.0         86310000.0   \n",
       "45981    23:58:30         0.0        86310000.0         86310000.0   \n",
       "45982    23:58:30         0.0        86310000.0         86310000.0   \n",
       "45983    23:58:30         0.0        86310000.0         86310000.0   \n",
       "45984    23:58:30         0.0        86310000.0         86310000.0   \n",
       "45985    23:58:30         0.0        86310000.0         86310000.0   \n",
       "\n",
       "       TradeReturns_x  size_y               time_y type_y  value_y  \\\n",
       "2           -0.000051  2171.0  2018-10-17 00:00:06    ASK   97.895   \n",
       "10          -0.000051  2183.0  2018-10-17 00:03:14    ASK   97.895   \n",
       "11          -0.000051  2193.0  2018-10-17 00:03:14    ASK   97.895   \n",
       "12          -0.000051  2203.0  2018-10-17 00:03:14    ASK   97.895   \n",
       "13          -0.000051  2313.0  2018-10-17 00:03:48    ASK   97.895   \n",
       "14          -0.000051  2303.0  2018-10-17 00:03:48    ASK   97.895   \n",
       "15          -0.000051  2293.0  2018-10-17 00:03:48    ASK   97.895   \n",
       "19          -0.000051  2818.0  2018-10-17 00:07:04    ASK   97.895   \n",
       "44           0.000000  2790.0  2018-10-17 00:11:14    ASK   97.895   \n",
       "48           0.000000  2840.0  2018-10-17 00:11:26    ASK   97.895   \n",
       "49           0.000000  2857.0  2018-10-17 00:11:26    ASK   97.895   \n",
       "50           0.000000  2843.0  2018-10-17 00:11:26    ASK   97.895   \n",
       "51           0.000000  2828.0  2018-10-17 00:11:26    ASK   97.895   \n",
       "52           0.000000  2840.0  2018-10-17 00:11:26    ASK   97.895   \n",
       "53           0.000000  2857.0  2018-10-17 00:11:26    ASK   97.895   \n",
       "54           0.000000  2843.0  2018-10-17 00:11:26    ASK   97.895   \n",
       "55           0.000000  2828.0  2018-10-17 00:11:26    ASK   97.895   \n",
       "56           0.000000  2840.0  2018-10-17 00:11:26    ASK   97.895   \n",
       "57           0.000000  2857.0  2018-10-17 00:11:26    ASK   97.895   \n",
       "58           0.000000  2843.0  2018-10-17 00:11:26    ASK   97.895   \n",
       "59           0.000000  2828.0  2018-10-17 00:11:26    ASK   97.895   \n",
       "60           0.000000  2840.0  2018-10-17 00:11:26    ASK   97.895   \n",
       "61           0.000000  2857.0  2018-10-17 00:11:26    ASK   97.895   \n",
       "62           0.000000  2843.0  2018-10-17 00:11:26    ASK   97.895   \n",
       "63           0.000000  2828.0  2018-10-17 00:11:26    ASK   97.895   \n",
       "64           0.000000  2840.0  2018-10-17 00:11:26    ASK   97.895   \n",
       "65           0.000000  2857.0  2018-10-17 00:11:26    ASK   97.895   \n",
       "66           0.000000  2843.0  2018-10-17 00:11:26    ASK   97.895   \n",
       "67           0.000000  2828.0  2018-10-17 00:11:26    ASK   97.895   \n",
       "68           0.000000  2840.0  2018-10-17 00:11:26    ASK   97.895   \n",
       "...               ...     ...                  ...    ...      ...   \n",
       "45953        0.000000  3581.0  2018-10-17 23:52:53    ASK   97.885   \n",
       "45954        0.000000  3581.0  2018-10-17 23:52:53    ASK   97.885   \n",
       "45955        0.000000  3581.0  2018-10-17 23:52:53    ASK   97.885   \n",
       "45956       -0.000051  3581.0  2018-10-17 23:52:53    ASK   97.885   \n",
       "45957       -0.000051  3881.0  2018-10-17 23:52:54    ASK   97.885   \n",
       "45958       -0.000051  3880.0  2018-10-17 23:53:06    ASK   97.885   \n",
       "45959       -0.000051  3879.0  2018-10-17 23:53:06    ASK   97.885   \n",
       "45960       -0.000051  3880.0  2018-10-17 23:53:06    ASK   97.885   \n",
       "45961       -0.000051  3879.0  2018-10-17 23:53:06    ASK   97.885   \n",
       "45963       -0.000051  3902.0  2018-10-17 23:54:03    ASK   97.885   \n",
       "45964        0.000000  3902.0  2018-10-17 23:54:03    ASK   97.885   \n",
       "45965        0.000000  3902.0  2018-10-17 23:54:03    ASK   97.885   \n",
       "45966        0.000000  3902.0  2018-10-17 23:54:03    ASK   97.885   \n",
       "45967        0.000000  3870.0  2018-10-17 23:54:28    ASK   97.885   \n",
       "45968        0.000000  3870.0  2018-10-17 23:54:28    ASK   97.885   \n",
       "45969        0.000000  3870.0  2018-10-17 23:54:28    ASK   97.885   \n",
       "45970        0.000000  3870.0  2018-10-17 23:54:28    ASK   97.885   \n",
       "45973        0.000000  3885.0  2018-10-17 23:56:48    ASK   97.885   \n",
       "45974       -0.000051  3384.0  2018-10-17 23:58:30    ASK   97.885   \n",
       "45975       -0.000051  3294.0  2018-10-17 23:58:30    ASK   97.885   \n",
       "45976       -0.000051  3281.0  2018-10-17 23:58:30    ASK   97.885   \n",
       "45977        0.000000  3384.0  2018-10-17 23:58:30    ASK   97.885   \n",
       "45978        0.000000  3294.0  2018-10-17 23:58:30    ASK   97.885   \n",
       "45979        0.000000  3281.0  2018-10-17 23:58:30    ASK   97.885   \n",
       "45980        0.000000  3384.0  2018-10-17 23:58:30    ASK   97.885   \n",
       "45981        0.000000  3294.0  2018-10-17 23:58:30    ASK   97.885   \n",
       "45982        0.000000  3281.0  2018-10-17 23:58:30    ASK   97.885   \n",
       "45983       -0.000051  3384.0  2018-10-17 23:58:30    ASK   97.885   \n",
       "45984       -0.000051  3294.0  2018-10-17 23:58:30    ASK   97.885   \n",
       "45985       -0.000051  3281.0  2018-10-17 23:58:30    ASK   97.885   \n",
       "\n",
       "      TimeStamp_y  Duration_y  millisDuration_y  millisTimeStamp_y  \\\n",
       "2        00:00:06      5000.0            6000.0             6000.0   \n",
       "10       00:03:14     46000.0          194000.0           194000.0   \n",
       "11       00:03:14         0.0          194000.0           194000.0   \n",
       "12       00:03:14         0.0          194000.0           194000.0   \n",
       "13       00:03:48     15000.0          228000.0           228000.0   \n",
       "14       00:03:48         0.0          228000.0           228000.0   \n",
       "15       00:03:48         0.0          228000.0           228000.0   \n",
       "19       00:07:04         0.0          424000.0           424000.0   \n",
       "44       00:11:14         0.0          674000.0           674000.0   \n",
       "48       00:11:26         0.0          686000.0           686000.0   \n",
       "49       00:11:26         0.0          686000.0           686000.0   \n",
       "50       00:11:26         0.0          686000.0           686000.0   \n",
       "51       00:11:26         0.0          686000.0           686000.0   \n",
       "52       00:11:26         0.0          686000.0           686000.0   \n",
       "53       00:11:26         0.0          686000.0           686000.0   \n",
       "54       00:11:26         0.0          686000.0           686000.0   \n",
       "55       00:11:26         0.0          686000.0           686000.0   \n",
       "56       00:11:26         0.0          686000.0           686000.0   \n",
       "57       00:11:26         0.0          686000.0           686000.0   \n",
       "58       00:11:26         0.0          686000.0           686000.0   \n",
       "59       00:11:26         0.0          686000.0           686000.0   \n",
       "60       00:11:26         0.0          686000.0           686000.0   \n",
       "61       00:11:26         0.0          686000.0           686000.0   \n",
       "62       00:11:26         0.0          686000.0           686000.0   \n",
       "63       00:11:26         0.0          686000.0           686000.0   \n",
       "64       00:11:26         0.0          686000.0           686000.0   \n",
       "65       00:11:26         0.0          686000.0           686000.0   \n",
       "66       00:11:26         0.0          686000.0           686000.0   \n",
       "67       00:11:26         0.0          686000.0           686000.0   \n",
       "68       00:11:26         0.0          686000.0           686000.0   \n",
       "...           ...         ...               ...                ...   \n",
       "45953    23:52:53         0.0        85973000.0         85973000.0   \n",
       "45954    23:52:53         0.0        85973000.0         85973000.0   \n",
       "45955    23:52:53         0.0        85973000.0         85973000.0   \n",
       "45956    23:52:53         0.0        85973000.0         85973000.0   \n",
       "45957    23:52:54      1000.0        85974000.0         85974000.0   \n",
       "45958    23:53:06         0.0        85986000.0         85986000.0   \n",
       "45959    23:53:06         0.0        85986000.0         85986000.0   \n",
       "45960    23:53:06         0.0        85986000.0         85986000.0   \n",
       "45961    23:53:06         0.0        85986000.0         85986000.0   \n",
       "45963    23:54:03      2000.0        86043000.0         86043000.0   \n",
       "45964    23:54:03      2000.0        86043000.0         86043000.0   \n",
       "45965    23:54:03      2000.0        86043000.0         86043000.0   \n",
       "45966    23:54:03      2000.0        86043000.0         86043000.0   \n",
       "45967    23:54:28         0.0        86068000.0         86068000.0   \n",
       "45968    23:54:28         0.0        86068000.0         86068000.0   \n",
       "45969    23:54:28         0.0        86068000.0         86068000.0   \n",
       "45970    23:54:28         0.0        86068000.0         86068000.0   \n",
       "45973    23:56:48         0.0        86208000.0         86208000.0   \n",
       "45974    23:58:30         0.0        86310000.0         86310000.0   \n",
       "45975    23:58:30         0.0        86310000.0         86310000.0   \n",
       "45976    23:58:30         0.0        86310000.0         86310000.0   \n",
       "45977    23:58:30         0.0        86310000.0         86310000.0   \n",
       "45978    23:58:30         0.0        86310000.0         86310000.0   \n",
       "45979    23:58:30         0.0        86310000.0         86310000.0   \n",
       "45980    23:58:30         0.0        86310000.0         86310000.0   \n",
       "45981    23:58:30         0.0        86310000.0         86310000.0   \n",
       "45982    23:58:30         0.0        86310000.0         86310000.0   \n",
       "45983    23:58:30         0.0        86310000.0         86310000.0   \n",
       "45984    23:58:30         0.0        86310000.0         86310000.0   \n",
       "45985    23:58:30         0.0        86310000.0         86310000.0   \n",
       "\n",
       "       TradeReturns_y  \n",
       "2            0.000051  \n",
       "10           0.000051  \n",
       "11           0.000000  \n",
       "12           0.000051  \n",
       "13           0.000000  \n",
       "14           0.000000  \n",
       "15           0.000051  \n",
       "19           0.000051  \n",
       "44           0.000051  \n",
       "48           0.000051  \n",
       "49           0.000051  \n",
       "50           0.000051  \n",
       "51           0.000000  \n",
       "52           0.000051  \n",
       "53           0.000051  \n",
       "54           0.000051  \n",
       "55           0.000000  \n",
       "56           0.000051  \n",
       "57           0.000051  \n",
       "58           0.000051  \n",
       "59           0.000000  \n",
       "60           0.000051  \n",
       "61           0.000051  \n",
       "62           0.000051  \n",
       "63           0.000000  \n",
       "64           0.000051  \n",
       "65           0.000051  \n",
       "66           0.000051  \n",
       "67           0.000000  \n",
       "68           0.000051  \n",
       "...               ...  \n",
       "45953        0.000051  \n",
       "45954        0.000051  \n",
       "45955        0.000051  \n",
       "45956        0.000051  \n",
       "45957        0.000051  \n",
       "45958        0.000051  \n",
       "45959        0.000000  \n",
       "45960        0.000051  \n",
       "45961        0.000000  \n",
       "45963        0.000000  \n",
       "45964        0.000000  \n",
       "45965        0.000000  \n",
       "45966        0.000000  \n",
       "45967        0.000051  \n",
       "45968        0.000051  \n",
       "45969        0.000051  \n",
       "45970        0.000051  \n",
       "45973        0.000051  \n",
       "45974        0.000051  \n",
       "45975        0.000051  \n",
       "45976        0.000000  \n",
       "45977        0.000051  \n",
       "45978        0.000051  \n",
       "45979        0.000000  \n",
       "45980        0.000051  \n",
       "45981        0.000051  \n",
       "45982        0.000000  \n",
       "45983        0.000051  \n",
       "45984        0.000051  \n",
       "45985        0.000000  \n",
       "\n",
       "[41659 rows x 19 columns]"
      ]
     },
     "execution_count": 107,
     "metadata": {},
     "output_type": "execute_result"
    }
   ],
   "source": [
    "pd.merge(bid_quote_df, ask_quote_df,how='left',on='DateTime').dropna()"
   ]
  },
  {
   "cell_type": "code",
   "execution_count": null,
   "metadata": {
    "scrolled": true
   },
   "outputs": [],
   "source": [
    "# futures_data_folder= '/home/ak/Documents/Data/FuturesData/'\n",
    "# loc=ty1_quotes_loc\n",
    "# csv_files=[s for s in os.listdir(loc) if s.endswith('.csv')]"
   ]
  },
  {
   "cell_type": "code",
   "execution_count": 32,
   "metadata": {},
   "outputs": [],
   "source": [
    "# # csv_idx=1\n",
    "# # csv_loc = \"/\".join((loc,csv_files[csv_idx]))\n",
    "# raw_data=df_crypto.copy(deep=True) #pd.read_csv(csv_loc)\n",
    "# raw_data.columns.values\n",
    "# # raw_data=raw_data.rename(columns={'Unnamed: 0':'TimeStamp'})\n",
    "# raw_data.reset_index(inplace=True)\n",
    "# raw_data=raw_data.drop(columns=['index','Unnamed: 0'])"
   ]
  },
  {
   "cell_type": "code",
   "execution_count": 33,
   "metadata": {},
   "outputs": [],
   "source": [
    "# raw_data.head(5)"
   ]
  },
  {
   "cell_type": "code",
   "execution_count": 9,
   "metadata": {},
   "outputs": [],
   "source": [
    "# raw_data.head(10)\n",
    "# bids=raw_data[raw_data['type']=='BID'].rename(columns={'size': 'bestBidSize', 'time': 'bidTimeStamp','value':'bestBidPrice'})\n",
    "# asks=raw_data[raw_data['type']=='ASK'].rename(columns={'size': 'bestAskSize', 'time': 'askTimeStamp','value':'bestAskPrice'})\n",
    "# df=pd.concat([bids, asks], axis=1)\n",
    "# df=df.fillna(method='ffill').dropna()\n",
    "# df['bidTimeStamp']=pd.to_datetime(df['bidTimeStamp'])\n",
    "# df['askTimeStamp']=pd.to_datetime(df['askTimeStamp'])"
   ]
  },
  {
   "cell_type": "code",
   "execution_count": null,
   "metadata": {},
   "outputs": [],
   "source": [
    "# # df = pd.DataFrame(raw_data.row.str.split('',1).tolist(),\n",
    "# #                                    columns = ['BID','ASK'])\n",
    "# raw_data['type'].str.split('', 1, expand=True)\n"
   ]
  },
  {
   "cell_type": "code",
   "execution_count": null,
   "metadata": {},
   "outputs": [],
   "source": [
    "new_dates, new_times = zip(*[(d.date(), d.time()) for d in df['askTimeStamp']])\n",
    "# df = df.assign(df.askTimeStamp = new_times)\n"
   ]
  },
  {
   "cell_type": "code",
   "execution_count": null,
   "metadata": {},
   "outputs": [],
   "source": [
    "# df_crypto.drop('Unnamed: 0', axis=1, inplace=True)"
   ]
  },
  {
   "cell_type": "code",
   "execution_count": null,
   "metadata": {},
   "outputs": [],
   "source": [
    "# df_crypto.head(5)"
   ]
  },
  {
   "cell_type": "markdown",
   "metadata": {},
   "source": [
    "df['milliSeconds']=[int(((x.hour*60 + x.minute)*60 + x.second)*1000) for x in df['TimeStamp']]"
   ]
  },
  {
   "cell_type": "markdown",
   "metadata": {},
   "source": [
    "df=df.drop(columns=['bidTimeStamp','askTimeStamp', 'type'])\n"
   ]
  },
  {
   "cell_type": "code",
   "execution_count": null,
   "metadata": {},
   "outputs": [],
   "source": [
    "\n"
   ]
  },
  {
   "cell_type": "raw",
   "metadata": {},
   "source": [
    "# raw_data['TimeStamp']=pd.to_datetime(raw_data['TimeStamp'], format='%M:%S.%f' )\n",
    "df.rename(columns={'bidTimeStamp':'TimeStamp'})"
   ]
  },
  {
   "cell_type": "code",
   "execution_count": 15,
   "metadata": {},
   "outputs": [],
   "source": [
    "def micro_price(df):\n",
    "    df['MicroPrice']=(df['bestAskPrice']*df['bestAskSize']+df['bestBidPrice']*df['bestBidSize'])/(df['bestAskSize']+df['bestBidSize'])\n",
    "    return df "
   ]
  },
  {
   "cell_type": "code",
   "execution_count": 16,
   "metadata": {},
   "outputs": [],
   "source": [
    "# from StringIO import StringIO\n",
    "# in_ = StringIO()\n",
    "# in_.write(raw_data['TimeStamp'])\n",
    "# in_.seek(0)\n"
   ]
  },
  {
   "cell_type": "code",
   "execution_count": 17,
   "metadata": {},
   "outputs": [],
   "source": [
    "df=micro_price(raw_data)"
   ]
  },
  {
   "cell_type": "code",
   "execution_count": 18,
   "metadata": {},
   "outputs": [],
   "source": [
    "\n",
    "# raw_data['TimeStamp'].dt.time\n",
    "# raw_data['TimeStamp']=pd.to_datetime(raw_data['TimeStamp'])\n",
    "df['logRetMicroPrice']=np.log(df.MicroPrice/df.MicroPrice.shift(1))\n",
    "df=df.dropna()"
   ]
  },
  {
   "cell_type": "code",
   "execution_count": 19,
   "metadata": {},
   "outputs": [
    {
     "data": {
      "text/plain": [
       "array(['bestBidPrice', 'bestBidSize', 'bestAskPrice', 'bestAskSize',\n",
       "       'timestamp', 'time', 'date', 'milliSeconds', 'duration',\n",
       "       'MicroPrice', 'MicroPriceReturns', 'logRetMicroPrice'],\n",
       "      dtype=object)"
      ]
     },
     "execution_count": 19,
     "metadata": {},
     "output_type": "execute_result"
    }
   ],
   "source": [
    "# raw_data['milliSeconds']=[int(((x.hour*60 + x.minute)*60 + x.second)*1000) for x in raw_data['TimeStamp']]\n",
    "# raw_data['Duration']= raw_data['milliSeconds'].diff(1)\n",
    "# raw_data=raw_data.dropna()\n",
    "df.columns.values"
   ]
  },
  {
   "cell_type": "code",
   "execution_count": 20,
   "metadata": {},
   "outputs": [],
   "source": [
    "# for x in range(raw_data.shape[0]):\n",
    "#     t= raw_data['TimeStamp'][x]\n",
    "#     print (t.hour*60 + t.minute)*60 + t.second "
   ]
  },
  {
   "cell_type": "code",
   "execution_count": 21,
   "metadata": {},
   "outputs": [
    {
     "data": {
      "image/png": "[encoded data removed]",
      "text/plain": [
       "<Figure size 1080x648 with 1 Axes>"
      ]
     },
     "metadata": {
      "needs_background": "light"
     },
     "output_type": "display_data"
    }
   ],
   "source": [
    "from scipy.stats import norm\n",
    "x = np.linspace(np.min(df.MicroPriceReturns),np.max(df.MicroPriceReturns),1000)\n",
    "y = norm.pdf(x, loc=np.mean(df.MicroPriceReturns), scale=np.std(df.MicroPriceReturns))    # for example\n",
    "\n",
    "plt.figure(figsize=(15,9))\n",
    "sns.light_palette(\"navy\", reverse=True)\n",
    "#sns.set_palette(\"husl\")\n",
    "sns.color_palette(\"PuBuGn_d\")\n",
    "sns.set_context(\"talk\")\n",
    "sns.set(font_scale=1.2)\n",
    "sns.set_style(\"whitegrid\")\n",
    "ax=sns.distplot(df.MicroPriceReturns, label='BTC Perp Data')\n",
    "plt.plot(x,y, color='red',linestyle='--',label='Normal')\n",
    "ax.legend()\n",
    "plt.title('BTC Perp Data- MicroPrice Returns')\n",
    "ax.tick_params(right=False, top=False)"
   ]
  },
  {
   "cell_type": "code",
   "execution_count": 22,
   "metadata": {},
   "outputs": [
    {
     "data": {
      "image/png": "[encoded data removed]",
      "text/plain": [
       "<Figure size 432x288 with 1 Axes>"
      ]
     },
     "metadata": {},
     "output_type": "display_data"
    }
   ],
   "source": [
    "mad = mad_outlier(df.MicroPrice.values.reshape(-1,1))\n",
    "_=sns.boxplot(df.loc[~mad].MicroPrice*100)"
   ]
  },
  {
   "cell_type": "code",
   "execution_count": 24,
   "metadata": {},
   "outputs": [
    {
     "name": "stderr",
     "output_type": "stream",
     "text": [
      "/home/ak/Envs/research/lib/python2.7/site-packages/ipykernel_launcher.py:4: SettingWithCopyWarning: \n",
      "A value is trying to be set on a copy of a slice from a DataFrame.\n",
      "Try using .loc[row_indexer,col_indexer] = value instead\n",
      "\n",
      "See the caveats in the documentation: http://pandas.pydata.org/pandas-docs/stable/indexing.html#indexing-view-versus-copy\n",
      "  after removing the cwd from sys.path.\n",
      "/home/ak/Envs/research/lib/python2.7/site-packages/ipykernel_launcher.py:6: SettingWithCopyWarning: \n",
      "A value is trying to be set on a copy of a slice from a DataFrame.\n",
      "Try using .loc[row_indexer,col_indexer] = value instead\n",
      "\n",
      "See the caveats in the documentation: http://pandas.pydata.org/pandas-docs/stable/indexing.html#indexing-view-versus-copy\n",
      "  \n"
     ]
    }
   ],
   "source": [
    "\n",
    "s1=df.bestAskSize\n",
    "s2=df.bestBidSize\n",
    "df['v']=pd.concat([s1, s2], axis=1).min(axis=1)\n",
    "# np.min(df.bestAskSize, df.bestBidPrice)\n",
    "df['dv']= df.v*df.MicroPrice"
   ]
  },
  {
   "cell_type": "code",
   "execution_count": 25,
   "metadata": {},
   "outputs": [
    {
     "name": "stdout",
     "output_type": "stream",
     "text": [
      "('num ticks:', 27684849)\n",
      "('volume ratio:', 444902.0)\n",
      "('dollar ratio:', 2977671812.0)\n"
     ]
    }
   ],
   "source": [
    "n_ticks = df.shape[0]\n",
    "volume_ratio = (df.v.sum()/n_ticks).round()\n",
    "dollar_ratio = (df.dv.sum()/n_ticks).round()\n",
    "print('num ticks:', n_ticks)\n",
    "print('volume ratio:', volume_ratio)\n",
    "print('dollar ratio:', dollar_ratio)"
   ]
  },
  {
   "cell_type": "code",
   "execution_count": 26,
   "metadata": {},
   "outputs": [
    {
     "name": "stderr",
     "output_type": "stream",
     "text": [
      "  2%|▏         | 446555/27684849 [00:00<00:06, 4465543.61it/s]"
     ]
    },
    {
     "name": "stdout",
     "output_type": "stream",
     "text": [
      "('tick threshold:', 100)\n"
     ]
    },
    {
     "name": "stderr",
     "output_type": "stream",
     "text": [
      "100%|██████████| 27684849/27684849 [00:04<00:00, 6185720.49it/s]\n"
     ]
    },
    {
     "data": {
      "text/plain": [
       "[99, 199, 299, 399, 499, 599, 699, 799, 899, 999]"
      ]
     },
     "execution_count": 26,
     "metadata": {},
     "output_type": "execute_result"
    }
   ],
   "source": [
    "tick_M = 100 # arbitrary\n",
    "print('tick threshold:', tick_M)\n",
    "tidx = tick_bars(df, 'MicroPrice', tick_M)\n",
    "tidx[:10]\n",
    "\n"
   ]
  },
  {
   "cell_type": "code",
   "execution_count": 27,
   "metadata": {},
   "outputs": [
    {
     "name": "stderr",
     "output_type": "stream",
     "text": [
      "100%|██████████| 27684849/27684849 [00:04<00:00, 6178189.32it/s]\n"
     ]
    },
    {
     "data": {
      "text/plain": [
       "(276848, 14)"
      ]
     },
     "execution_count": 27,
     "metadata": {},
     "output_type": "execute_result"
    }
   ],
   "source": [
    "\n",
    "\n",
    "tick_df = tick_bar_df(df, 'MicroPrice', tick_M)\n",
    "tick_df.shape\n",
    "\n"
   ]
  },
  {
   "cell_type": "code",
   "execution_count": null,
   "metadata": {},
   "outputs": [],
   "source": [
    "\n"
   ]
  },
  {
   "cell_type": "code",
   "execution_count": 28,
   "metadata": {},
   "outputs": [
    {
     "data": {
      "text/plain": [
       "((10000,), (10000,))"
      ]
     },
     "execution_count": 28,
     "metadata": {},
     "output_type": "execute_result"
    }
   ],
   "source": [
    "def select_sample_data(ref, sub, price_col, idx_1,idx_2):\n",
    "    '''\n",
    "    select a sample of data based on date, assumes datetimeindex\n",
    "    \n",
    "    # args\n",
    "        ref: pd.DataFrame containing all ticks\n",
    "        sub: subordinated pd.DataFrame of prices\n",
    "        price_col: str(), price column\n",
    "        date: str(), date to select\n",
    "    # returns\n",
    "        xdf: ref pd.Series\n",
    "        xtdf: subordinated pd.Series\n",
    "    '''\n",
    "    xdf = df[price_col].iloc[idx_1:idx_2]\n",
    "    xtdf = sub[price_col].iloc[idx_1:idx_2]\n",
    "    return xdf, xtdf\n",
    "\n",
    "## try different dates to see how the quantity of tick bars changes\n",
    "idx_1=0\n",
    "idx_2=10000\n",
    "xdf, xtdf = select_sample_data(df, tick_df, 'MicroPrice', idx_1,idx_2)\n",
    "\n",
    "xdf.shape, xtdf.shape"
   ]
  },
  {
   "cell_type": "code",
   "execution_count": 30,
   "metadata": {},
   "outputs": [
    {
     "data": {
      "text/plain": [
       "<matplotlib.axes._subplots.AxesSubplot at 0x7f8377b31f10>"
      ]
     },
     "execution_count": 30,
     "metadata": {},
     "output_type": "execute_result"
    },
    {
     "data": {
      "image/png": "[encoded data removed]",
      "text/plain": [
       "<Figure size 720x504 with 3 Axes>"
      ]
     },
     "metadata": {},
     "output_type": "display_data"
    }
   ],
   "source": [
    "ref = xdf\n",
    "sub =xtdf\n",
    "f,axes=plt.subplots(3,sharex=True, sharey=True, figsize=(10,7))\n",
    "sns.lineplot(data=xdf,ax=axes[0], palette=\"tab10\", linewidth=2.5)\n",
    "sns.lineplot(data=xtdf,ax=axes[1],palette=\"tab25\",color='red',linestyle='-' ,linewidth=1.5)"
   ]
  },
  {
   "cell_type": "code",
   "execution_count": 31,
   "metadata": {},
   "outputs": [
    {
     "data": {
      "image/png": "[encoded data removed]",
      "text/plain": [
       "<Figure size 432x288 with 1 Axes>"
      ]
     },
     "metadata": {},
     "output_type": "display_data"
    },
    {
     "data": {
      "image/png": "[encoded data removed]",
      "text/plain": [
       "<Figure size 432x288 with 1 Axes>"
      ]
     },
     "metadata": {},
     "output_type": "display_data"
    }
   ],
   "source": [
    "bar_type='tick bar'\n",
    "# fig,axes=plt.subplots(3, figsize=(10,7))\n",
    "ref=xdf\n",
    "sub=xtdf\n",
    "ref.plot(color='blue',label='price')\n",
    "plt.show()\n",
    "sub.plot(color='red',label=bar_type)\n",
    "plt.show()\n"
   ]
  },
  {
   "cell_type": "code",
   "execution_count": 32,
   "metadata": {},
   "outputs": [
    {
     "data": {
      "image/png": "[encoded data removed]",
      "text/plain": [
       "<Figure size 432x288 with 1 Axes>"
      ]
     },
     "metadata": {},
     "output_type": "display_data"
    },
    {
     "data": {
      "image/png": "[encoded data removed]",
      "text/plain": [
       "<Figure size 432x288 with 1 Axes>"
      ]
     },
     "metadata": {},
     "output_type": "display_data"
    }
   ],
   "source": [
    "ax = ref.plot(color='blue',label='price')\n",
    "# ax.yaxis.set_major_formatter(mpl.ticker.StrMethodFormatter('{x:,.00f}'))\n",
    "plt.show()\n",
    "ax2 = sub.plot(color='red',label=bar_type)\n",
    "num_ticks = 10\n",
    "\n",
    "plt.show()"
   ]
  },
  {
   "cell_type": "code",
   "execution_count": 33,
   "metadata": {},
   "outputs": [
    {
     "data": {
      "image/png": "[encoded data removed]",
      "text/plain": [
       "<Figure size 432x288 with 2 Axes>"
      ]
     },
     "metadata": {},
     "output_type": "display_data"
    }
   ],
   "source": [
    "\n",
    "fig, axs = plt.subplots(2, 1,sharey=True)\n",
    "axs[0].plot(ref)\n",
    "axs[1].plot(sub, color= 'red',linestyle='--')\n",
    "# axs[0].set_xlim(0, 2)\n",
    "\n",
    "axs[0].grid(True)\n",
    "\n",
    "for axs in axes:\n",
    "    axs.set_xlabel('Common x-label')\n",
    "    axs.set_ylabel('Common y-label')\n",
    "\n",
    "fig.tight_layout()\n",
    "plt.show()"
   ]
  },
  {
   "cell_type": "markdown",
   "metadata": {},
   "source": []
  },
  {
   "cell_type": "code",
   "execution_count": 118,
   "metadata": {
    "scrolled": true
   },
   "outputs": [
    {
     "name": "stderr",
     "output_type": "stream",
     "text": [
      "/home/ak/Envs/research/local/lib/python2.7/site-packages/seaborn/timeseries.py:183: UserWarning: The `tsplot` function is deprecated and will be removed in a future release. Please update your code to use the new `lineplot` function.\n",
      "  warnings.warn(msg, UserWarning)\n"
     ]
    },
    {
     "data": {
      "image/png": "[encoded data removed]",
      "text/plain": [
       "<Figure size 748.8x514.8 with 1 Axes>"
      ]
     },
     "metadata": {
      "needs_background": "light"
     },
     "output_type": "display_data"
    },
    {
     "name": "stderr",
     "output_type": "stream",
     "text": [
      "/home/ak/Envs/research/local/lib/python2.7/site-packages/seaborn/timeseries.py:183: UserWarning: The `tsplot` function is deprecated and will be removed in a future release. Please update your code to use the new `lineplot` function.\n",
      "  warnings.warn(msg, UserWarning)\n"
     ]
    },
    {
     "data": {
      "image/png": "[encoded data removed]",
      "text/plain": [
       "<Figure size 748.8x514.8 with 1 Axes>"
      ]
     },
     "metadata": {
      "needs_background": "light"
     },
     "output_type": "display_data"
    }
   ],
   "source": [
    "\n",
    "sub_returns =sub.pct_change().dropna()\n",
    "ref_returns = ref.pct_change().dropna()\n",
    "\n",
    "sns.tsplot(sub_returns)\n",
    "plt.show()\n",
    "sns.tsplot(ref_returns, color='red')\n",
    "plt.show()"
   ]
  },
  {
   "cell_type": "code",
   "execution_count": null,
   "metadata": {},
   "outputs": [],
   "source": [
    "# def autocorr(x):\n",
    "#     n = x.size\n",
    "#     norm = (x - np.mean(x))\n",
    "#     result = np.correlate(norm, norm, mode='same')\n",
    "#     acorr = result[n//2 + 1:] / (x.var() * np.arange(n-1, n//2, -1))\n",
    "#     lag = np.abs(acorr).argmax() + 1\n",
    "#     r = acorr[lag-1]        \n",
    "#     if np.abs(r) > 0.5:\n",
    "#         print('Appears to be autocorrelated with r = {}, lag = {}'. format(r, lag))\n",
    "#     else: \n",
    "#         print('Appears to be not autocorrelated')\n",
    "#     return r, lag\n"
   ]
  },
  {
   "cell_type": "code",
   "execution_count": null,
   "metadata": {},
   "outputs": [],
   "source": []
  },
  {
   "cell_type": "code",
   "execution_count": 35,
   "metadata": {},
   "outputs": [
    {
     "name": "stderr",
     "output_type": "stream",
     "text": [
      "/home/ak/Envs/research/lib/python2.7/site-packages/ipykernel_launcher.py:1: SettingWithCopyWarning: \n",
      "A value is trying to be set on a copy of a slice from a DataFrame.\n",
      "Try using .loc[row_indexer,col_indexer] = value instead\n",
      "\n",
      "See the caveats in the documentation: http://pandas.pydata.org/pandas-docs/stable/indexing.html#indexing-view-versus-copy\n",
      "  \"\"\"Entry point for launching an IPython kernel.\n"
     ]
    }
   ],
   "source": [
    "df['SqrdReturns']=(df.MicroPriceReturns**2)*100"
   ]
  },
  {
   "cell_type": "code",
   "execution_count": 36,
   "metadata": {},
   "outputs": [
    {
     "data": {
      "text/plain": [
       "<matplotlib.axes._subplots.AxesSubplot at 0x7f8377bb4810>"
      ]
     },
     "execution_count": 36,
     "metadata": {},
     "output_type": "execute_result"
    },
    {
     "data": {
      "image/png": "[encoded data removed]",
      "text/plain": [
       "<Figure size 432x288 with 1 Axes>"
      ]
     },
     "metadata": {},
     "output_type": "display_data"
    }
   ],
   "source": [
    "df.SqrdReturns.plot()"
   ]
  },
  {
   "cell_type": "code",
   "execution_count": 31,
   "metadata": {},
   "outputs": [],
   "source": [
    "import statsmodels as sts\n",
    "# Importing lag_plot\n",
    "# from pandas import lag_plot\n",
    "# from pandas import autocorrelation_plot\n"
   ]
  },
  {
   "cell_type": "code",
   "execution_count": 38,
   "metadata": {},
   "outputs": [],
   "source": [
    "series = df.MicroPrice\n",
    "\n",
    "# import pandas as pd\n",
    "import datetools"
   ]
  },
  {
   "cell_type": "code",
   "execution_count": null,
   "metadata": {},
   "outputs": [],
   "source": [
    "# from statsmodels.graphics.tsaplots import plot_acf, plot_pacf\n",
    "# # plot_acf(series)\n",
    "# # plt.show()\n",
    "# # # plot_pacf(series)\n",
    "# # # plt.show()"
   ]
  },
  {
   "cell_type": "code",
   "execution_count": 39,
   "metadata": {},
   "outputs": [
    {
     "data": {
      "text/plain": [
       "<seaborn.axisgrid.FacetGrid at 0x7f837a2bded0>"
      ]
     },
     "execution_count": 39,
     "metadata": {},
     "output_type": "execute_result"
    },
    {
     "data": {
      "image/png": "[encoded data removed]",
      "text/plain": [
       "<Figure size 360x360 with 1 Axes>"
      ]
     },
     "metadata": {},
     "output_type": "display_data"
    }
   ],
   "source": [
    "sns.lmplot(x='MicroPrice', y='SqrdReturns', data=df)\n",
    "#do calculation using high and low"
   ]
  },
  {
   "cell_type": "code",
   "execution_count": 90,
   "metadata": {},
   "outputs": [],
   "source": [
    "sample=df[:20000]"
   ]
  },
  {
   "cell_type": "code",
   "execution_count": 91,
   "metadata": {},
   "outputs": [
    {
     "data": {
      "text/plain": [
       "20000"
      ]
     },
     "execution_count": 91,
     "metadata": {},
     "output_type": "execute_result"
    }
   ],
   "source": [
    "len(sample)"
   ]
  },
  {
   "cell_type": "code",
   "execution_count": 92,
   "metadata": {},
   "outputs": [],
   "source": []
  },
  {
   "cell_type": "code",
   "execution_count": 93,
   "metadata": {},
   "outputs": [
    {
     "name": "stderr",
     "output_type": "stream",
     "text": [
      "Values less than or equal to 0 in data. Throwing out 0 or negative values\n",
      "Calculating best minimal value for power law fit\n",
      "Values less than or equal to 0 in data. Throwing out 0 or negative values\n",
      "Calculating best minimal value for power law fit\n"
     ]
    }
   ],
   "source": [
    "fit_returns_discrete = powerlaw.Fit(sample.MicroPriceReturns, discrete=False) \n",
    "fitwolf = powerlaw.Fit(sample.MicroPriceReturns, discrete=True)"
   ]
  },
  {
   "cell_type": "code",
   "execution_count": 94,
   "metadata": {},
   "outputs": [
    {
     "data": {
      "text/plain": [
       "(27684849, 15)"
      ]
     },
     "execution_count": 94,
     "metadata": {},
     "output_type": "execute_result"
    }
   ],
   "source": [
    "df.shape"
   ]
  },
  {
   "cell_type": "code",
   "execution_count": 95,
   "metadata": {},
   "outputs": [
    {
     "name": "stderr",
     "output_type": "stream",
     "text": [
      "Values less than or equal to 0 in data. Throwing out 0 or negative values\n",
      "Calculating best minimal value for power law fit\n"
     ]
    },
    {
     "data": {
      "text/plain": [
       "(958.9591031602828, 3.716010049035742e-17)"
      ]
     },
     "execution_count": 95,
     "metadata": {},
     "output_type": "execute_result"
    }
   ],
   "source": [
    "data= sample.MicroPriceReturns\n",
    "####\n",
    "import powerlaw\n",
    "fit = powerlaw.Fit(data)\n",
    "fit.power_law.alpha\n",
    "fit.power_law.sigma\n",
    "fit.distribution_compare('power_law', 'exponential')"
   ]
  },
  {
   "cell_type": "code",
   "execution_count": 96,
   "metadata": {},
   "outputs": [
    {
     "name": "stderr",
     "output_type": "stream",
     "text": [
      "Values less than or equal to 0 in data. Throwing out 0 or negative values\n",
      "Calculating best minimal value for power law fit\n"
     ]
    },
    {
     "data": {
      "image/png": "[encoded data removed]",
      "text/plain": [
       "<Figure size 432x288 with 1 Axes>"
      ]
     },
     "metadata": {},
     "output_type": "display_data"
    }
   ],
   "source": [
    "fit = powerlaw.Fit(data, discrete=True)\n",
    "####\n",
    "figCCDF = fit.plot_pdf(color='b', linewidth=2)\n",
    "fit.power_law.plot_pdf(color='b', linestyle='--', ax=figCCDF)\n",
    "fit.plot_ccdf(color='r', linewidth=2, ax=figCCDF)\n",
    "fit.power_law.plot_ccdf(color='r', linestyle='--', ax=figCCDF)\n",
    "####\n",
    "figCCDF.set_ylabel(u\"p(X),  p(X≥x)\")\n",
    "figCCDF.set_xlabel(r\"BTC MicroPriceReturns\")\n",
    "\n",
    "figname = 'FigCCDF'"
   ]
  },
  {
   "cell_type": "code",
   "execution_count": 97,
   "metadata": {
    "scrolled": true
   },
   "outputs": [
    {
     "name": "stderr",
     "output_type": "stream",
     "text": [
      "Values less than or equal to 0 in data. Throwing out 0 or negative values\n",
      "Calculating best minimal value for power law fit\n"
     ]
    }
   ],
   "source": [
    "fit = powerlaw.Fit(data)\n",
    "###\n",
    "x, y = fit.cdf()\n",
    "bin_edges, probability = fit.pdf()\n",
    "y = fit.lognormal.cdf(data=[300,350])\n",
    "y = fit.lognormal.pdf()"
   ]
  },
  {
   "cell_type": "code",
   "execution_count": 98,
   "metadata": {},
   "outputs": [
    {
     "name": "stderr",
     "output_type": "stream",
     "text": [
      "Values less than or equal to 0 in data. Throwing out 0 or negative values\n",
      "Calculating best minimal value for power law fit\n",
      "Values less than or equal to 0 in data. Throwing out 0 or negative values\n",
      "Calculating best minimal value for power law fit\n"
     ]
    },
    {
     "data": {
      "image/png": "[encoded data removed]",
      "text/plain": [
       "<Figure size 432x288 with 1 Axes>"
      ]
     },
     "metadata": {},
     "output_type": "display_data"
    }
   ],
   "source": [
    "fit = powerlaw.Fit(data, discrete=True, xmax=None)\n",
    "FigCCDFmax = fit.plot_ccdf(color='b', label=r\"Empirical, no $x_{max}$\")\n",
    "fit.power_law.plot_ccdf(color='b', linestyle='--', ax=FigCCDFmax, label=r\"Fit, no $x_{max}$\")\n",
    "fit = powerlaw.Fit(data, discrete=True, xmax=1000)\n",
    "fit.plot_ccdf(color='r', label=r\"Empirical, $x_{max}=1000$\")\n",
    "fit.power_law.plot_ccdf(color='r', linestyle='--', ax=FigCCDFmax, label=r\"Fit, $x_{max}=1000$\")\n",
    "#x, y = powerlaw.ccdf(data, xmax=max(data))\n",
    "#fig1.plot(x,y)\n",
    "####\n",
    "#FigCCDFmax.set_ylabel(r\"$p(X\\geq x)$\")\n",
    "FigCCDFmax.set_ylabel(u\"p(X≥x)\")\n",
    "FigCCDFmax.set_xlabel(r\"Word Frequency\")\n",
    "handles, labels = FigCCDFmax.get_legend_handles_labels()\n",
    "leg = FigCCDFmax.legend(handles, labels, loc=3)\n",
    "leg.draw_frame(False)\n",
    "\n",
    "figname = 'FigCCDFmax'\n",
    "# savefig(figname+'.eps', bbox_inches='tight')\n",
    "#savefig(figname+'.tiff', bbox_inches='tight', dpi=300)"
   ]
  },
  {
   "cell_type": "code",
   "execution_count": 99,
   "metadata": {},
   "outputs": [
    {
     "name": "stderr",
     "output_type": "stream",
     "text": [
      "Values less than or equal to 0 in data. Throwing out 0 or negative values\n",
      "Calculating best minimal value for power law fit\n"
     ]
    },
    {
     "data": {
      "text/plain": [
       "<matplotlib.legend.Legend at 0x7f82896e8f50>"
      ]
     },
     "execution_count": 99,
     "metadata": {},
     "output_type": "execute_result"
    },
    {
     "data": {
      "image/png": "[encoded data removed]",
      "text/plain": [
       "<Figure size 432x288 with 1 Axes>"
      ]
     },
     "metadata": {},
     "output_type": "display_data"
    }
   ],
   "source": [
    "fit = powerlaw.Fit(data, discrete=True)\n",
    "####\n",
    "fit.distribution_compare('power_law', 'lognormal')\n",
    "fig = fit.plot_ccdf(linewidth=3, label='Empirical Data')\n",
    "fit.power_law.plot_ccdf(ax=fig, color='r', linestyle='--', label='Power law fit')\n",
    "fit.lognormal.plot_ccdf(ax=fig, color='g', linestyle='--', label='Lognormal fit')\n",
    "####\n",
    "fig.set_ylabel(u\"p(X≥x)\")\n",
    "fig.set_xlabel(\"Word Frequency\")\n",
    "handles, labels = fig.get_legend_handles_labels()\n",
    "fig.legend(handles, labels, loc=3)"
   ]
  },
  {
   "cell_type": "code",
   "execution_count": 100,
   "metadata": {},
   "outputs": [
    {
     "data": {
      "text/plain": [
       "array(['Unnamed: 0', 'bestBidPrice', 'bestBidSize', 'bestAskPrice',\n",
       "       'bestAskSize', 'timestamp', 'time', 'date', 'milliSeconds',\n",
       "       'duration', 'MicroPrice', 'MicroPriceReturns'], dtype=object)"
      ]
     },
     "execution_count": 100,
     "metadata": {},
     "output_type": "execute_result"
    }
   ],
   "source": [
    "df_crypto.columns.values"
   ]
  },
  {
   "cell_type": "code",
   "execution_count": 101,
   "metadata": {},
   "outputs": [
    {
     "name": "stderr",
     "output_type": "stream",
     "text": [
      "  2%|▏         | 434068/27684850 [00:00<00:06, 4340673.79it/s]"
     ]
    },
    {
     "name": "stdout",
     "output_type": "stream",
     "text": [
      "('tick threshold:', 20)\n"
     ]
    },
    {
     "name": "stderr",
     "output_type": "stream",
     "text": [
      "100%|██████████| 27684850/27684850 [00:04<00:00, 6111708.76it/s]\n"
     ]
    },
    {
     "data": {
      "text/plain": [
       "[19, 39, 59, 79, 99, 119, 139, 159, 179, 199]"
      ]
     },
     "execution_count": 101,
     "metadata": {},
     "output_type": "execute_result"
    }
   ],
   "source": [
    "tick_M = 20 # arbitrary\n",
    "print('tick threshold:', tick_M)\n",
    "tidx = tick_bars(df_crypto, 'MicroPrice', tick_M)\n",
    "tidx[:10]\n"
   ]
  },
  {
   "cell_type": "code",
   "execution_count": 102,
   "metadata": {},
   "outputs": [
    {
     "name": "stderr",
     "output_type": "stream",
     "text": [
      "100%|██████████| 27684850/27684850 [00:04<00:00, 6035402.26it/s]\n"
     ]
    },
    {
     "data": {
      "text/plain": [
       "(1384242, 12)"
      ]
     },
     "execution_count": 102,
     "metadata": {},
     "output_type": "execute_result"
    }
   ],
   "source": [
    "crypto_tick_df = tick_bar_df(df_crypto, 'MicroPrice', tick_M)\n",
    "crypto_tick_df.shape"
   ]
  },
  {
   "cell_type": "code",
   "execution_count": 103,
   "metadata": {},
   "outputs": [
    {
     "data": {
      "text/html": [
       "<div>\n",
       "<style scoped>\n",
       "    .dataframe tbody tr th:only-of-type {\n",
       "        vertical-align: middle;\n",
       "    }\n",
       "\n",
       "    .dataframe tbody tr th {\n",
       "        vertical-align: top;\n",
       "    }\n",
       "\n",
       "    .dataframe thead th {\n",
       "        text-align: right;\n",
       "    }\n",
       "</style>\n",
       "<table border=\"1\" class=\"dataframe\">\n",
       "  <thead>\n",
       "    <tr style=\"text-align: right;\">\n",
       "      <th></th>\n",
       "      <th>Unnamed: 0</th>\n",
       "      <th>bestBidPrice</th>\n",
       "      <th>bestBidSize</th>\n",
       "      <th>bestAskPrice</th>\n",
       "      <th>bestAskSize</th>\n",
       "      <th>timestamp</th>\n",
       "      <th>time</th>\n",
       "      <th>date</th>\n",
       "      <th>milliSeconds</th>\n",
       "      <th>duration</th>\n",
       "      <th>MicroPrice</th>\n",
       "      <th>MicroPriceReturns</th>\n",
       "    </tr>\n",
       "  </thead>\n",
       "  <tbody>\n",
       "    <tr>\n",
       "      <th>19</th>\n",
       "      <td>20</td>\n",
       "      <td>6696.5</td>\n",
       "      <td>1148160.0</td>\n",
       "      <td>6697.0</td>\n",
       "      <td>367214.0</td>\n",
       "      <td>2018-08-26 13:21:40.332000+00:00</td>\n",
       "      <td>13:21:40.332000</td>\n",
       "      <td>2018-08-26</td>\n",
       "      <td>48100000.0</td>\n",
       "      <td>0.0</td>\n",
       "      <td>6696.621163</td>\n",
       "      <td>0.000000e+00</td>\n",
       "    </tr>\n",
       "    <tr>\n",
       "      <th>39</th>\n",
       "      <td>40</td>\n",
       "      <td>6696.5</td>\n",
       "      <td>1048660.0</td>\n",
       "      <td>6697.0</td>\n",
       "      <td>676364.0</td>\n",
       "      <td>2018-08-26 13:21:41.609000+00:00</td>\n",
       "      <td>13:21:41.609000</td>\n",
       "      <td>2018-08-26</td>\n",
       "      <td>48101000.0</td>\n",
       "      <td>0.0</td>\n",
       "      <td>6696.696045</td>\n",
       "      <td>0.000000e+00</td>\n",
       "    </tr>\n",
       "    <tr>\n",
       "      <th>59</th>\n",
       "      <td>60</td>\n",
       "      <td>6696.5</td>\n",
       "      <td>1223292.0</td>\n",
       "      <td>6697.0</td>\n",
       "      <td>472620.0</td>\n",
       "      <td>2018-08-26 13:21:42.555000+00:00</td>\n",
       "      <td>13:21:42.555000</td>\n",
       "      <td>2018-08-26</td>\n",
       "      <td>48102000.0</td>\n",
       "      <td>0.0</td>\n",
       "      <td>6696.639341</td>\n",
       "      <td>-1.226930e-11</td>\n",
       "    </tr>\n",
       "    <tr>\n",
       "      <th>79</th>\n",
       "      <td>80</td>\n",
       "      <td>6696.5</td>\n",
       "      <td>1217966.0</td>\n",
       "      <td>6697.0</td>\n",
       "      <td>695804.0</td>\n",
       "      <td>2018-08-26 13:21:43.964000+00:00</td>\n",
       "      <td>13:21:43.964000</td>\n",
       "      <td>2018-08-26</td>\n",
       "      <td>48103000.0</td>\n",
       "      <td>0.0</td>\n",
       "      <td>6696.681789</td>\n",
       "      <td>-6.827579e-08</td>\n",
       "    </tr>\n",
       "  </tbody>\n",
       "</table>\n",
       "</div>"
      ],
      "text/plain": [
       "    Unnamed: 0  bestBidPrice  bestBidSize  bestAskPrice  bestAskSize  \\\n",
       "19          20        6696.5    1148160.0        6697.0     367214.0   \n",
       "39          40        6696.5    1048660.0        6697.0     676364.0   \n",
       "59          60        6696.5    1223292.0        6697.0     472620.0   \n",
       "79          80        6696.5    1217966.0        6697.0     695804.0   \n",
       "\n",
       "                           timestamp             time        date  \\\n",
       "19  2018-08-26 13:21:40.332000+00:00  13:21:40.332000  2018-08-26   \n",
       "39  2018-08-26 13:21:41.609000+00:00  13:21:41.609000  2018-08-26   \n",
       "59  2018-08-26 13:21:42.555000+00:00  13:21:42.555000  2018-08-26   \n",
       "79  2018-08-26 13:21:43.964000+00:00  13:21:43.964000  2018-08-26   \n",
       "\n",
       "    milliSeconds  duration   MicroPrice  MicroPriceReturns  \n",
       "19    48100000.0       0.0  6696.621163       0.000000e+00  \n",
       "39    48101000.0       0.0  6696.696045       0.000000e+00  \n",
       "59    48102000.0       0.0  6696.639341      -1.226930e-11  \n",
       "79    48103000.0       0.0  6696.681789      -6.827579e-08  "
      ]
     },
     "execution_count": 103,
     "metadata": {},
     "output_type": "execute_result"
    }
   ],
   "source": [
    "## try different dates to see how the quantity of tick bars changes\n",
    "idx_1=0\n",
    "idx_2=1000000\n",
    "# perp_xdf, perp_xtdf = select_sample_data(df_crypto, crypto_tick_df, 'MicroPrice', idx_1,idx_2)\n",
    "\n",
    "# perp_xdf.shape, perp_xtdf.shape\n",
    "crypto_tick_df.head(4)"
   ]
  },
  {
   "cell_type": "code",
   "execution_count": 83,
   "metadata": {},
   "outputs": [],
   "source": [
    "dta_plain = sample.MicroPriceReturns"
   ]
  },
  {
   "cell_type": "code",
   "execution_count": 88,
   "metadata": {},
   "outputs": [],
   "source": [
    "import statsmodels.api as sm\n",
    "from statsmodels.graphics import tsaplots"
   ]
  },
  {
   "cell_type": "code",
   "execution_count": 82,
   "metadata": {},
   "outputs": [],
   "source": [
    "# data = perp_xdf\n",
    "\n",
    "# sns.lineplot(data=perp_xdf, palette=\"tab10\", linewidth=2.5)\n",
    "# plt.show()\n",
    "# sns.lineplot(data=perp_xtdf,palette=\"tab25\",color='red',linestyle='-' ,linewidth=1.5)"
   ]
  },
  {
   "cell_type": "code",
   "execution_count": 125,
   "metadata": {},
   "outputs": [
    {
     "data": {
      "image/png": "[encoded data removed]",
      "text/plain": [
       "<Figure size 748.8x514.8 with 1 Axes>"
      ]
     },
     "metadata": {
      "needs_background": "light"
     },
     "output_type": "display_data"
    }
   ],
   "source": [
    "sm.graphics.tsa.plot_acf(ref_returns.values.squeeze(), lags=40)\n",
    "plt.show()"
   ]
  },
  {
   "cell_type": "code",
   "execution_count": 143,
   "metadata": {},
   "outputs": [],
   "source": [
    "def pacf_graph(df,title):\n",
    "    sm.graphics.tsa.plot_acf(df.values.squeeze(), lags=40)\n",
    "    plt.title(title)\n",
    "    plt.show()"
   ]
  },
  {
   "cell_type": "code",
   "execution_count": 144,
   "metadata": {},
   "outputs": [
    {
     "data": {
      "image/png": "[encoded data removed]",
      "text/plain": [
       "<Figure size 748.8x514.8 with 1 Axes>"
      ]
     },
     "metadata": {
      "needs_background": "light"
     },
     "output_type": "display_data"
    },
    {
     "data": {
      "image/png": "[encoded data removed]",
      "text/plain": [
       "<Figure size 748.8x514.8 with 1 Axes>"
      ]
     },
     "metadata": {
      "needs_background": "light"
     },
     "output_type": "display_data"
    },
    {
     "data": {
      "image/png": "[encoded data removed]",
      "text/plain": [
       "<Figure size 748.8x514.8 with 1 Axes>"
      ]
     },
     "metadata": {
      "needs_background": "light"
     },
     "output_type": "display_data"
    }
   ],
   "source": [
    "pacf_graph(sub_returns,'sub-returns')"
   ]
  },
  {
   "cell_type": "code",
   "execution_count": 142,
   "metadata": {},
   "outputs": [
    {
     "data": {
      "image/png": "[encoded data removed]",
      "text/plain": [
       "<Figure size 748.8x514.8 with 1 Axes>"
      ]
     },
     "metadata": {
      "needs_background": "light"
     },
     "output_type": "display_data"
    }
   ],
   "source": [
    "def expo_decay():\n",
    "    x = np.linspace(0, 5, 100)\n",
    "    y = np.exp(x)\n",
    "    plt.figure()\n",
    "    plt.plot(x, np.exp(-x), color='red',linestyle='--')\n",
    "#     plt.xlabel('$x$')\n",
    "#     plt.ylabel('$-\\exp(-x)$')\n",
    "\n",
    "    plt.show()\n",
    "expo_decay()"
   ]
  },
  {
   "cell_type": "code",
   "execution_count": 128,
   "metadata": {},
   "outputs": [
    {
     "data": {
      "image/png": "[encoded data removed]",
      "text/plain": [
       "<Figure size 748.8x514.8 with 1 Axes>"
      ]
     },
     "metadata": {
      "needs_background": "light"
     },
     "output_type": "display_data"
    }
   ],
   "source": [
    "fig = tsaplots.plot_acf(sub_returns.values, lags=40)"
   ]
  },
  {
   "cell_type": "code",
   "execution_count": null,
   "metadata": {},
   "outputs": [],
   "source": []
  }
 ],
 "metadata": {
  "kernelspec": {
   "display_name": "Python 2",
   "language": "python",
   "name": "python2"
  },
  "language_info": {
   "codemirror_mode": {
    "name": "ipython",
    "version": 2
   },
   "file_extension": ".py",
   "mimetype": "text/x-python",
   "name": "python",
   "nbconvert_exporter": "python",
   "pygments_lexer": "ipython2",
   "version": "2.7.15rc1"
  }
 },
 "nbformat": 4,
 "nbformat_minor": 2
}
