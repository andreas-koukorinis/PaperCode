{
 "cells": [
  {
   "cell_type": "code",
   "execution_count": 1,
   "metadata": {},
   "outputs": [],
   "source": [
    "\n",
    "import pandas as pd\n",
    "\n",
    "from sklearn.externals import joblib\n",
    "# Added version check for recent scikit-learn 0.18 checksok ca\n",
    "from distutils.version import LooseVersion as Version\n",
    "import numpy as np\n",
    "from dateutil.parser import parse\n",
    "import datetime as dt\n",
    "from numba import jit\n",
    "from sklearn.metrics import accuracy_score, classification_report\n",
    "from sklearn.metrics import precision_recall_fscore_support \n",
    "from tqdm import tqdm, tqdm_notebook\n",
    "\n",
    "from collections import OrderedDict\n",
    "import pickle \n",
    "import matplotlib.pyplot as plt\n",
    "import seaborn as sns\n",
    "import random, os, csv      # random is the rng, os is the operating system, and csv handles\n",
    "                            # CSV files\n",
    "import matplotlib.pyplot as plt  # This is the plotter\n",
    "import time                 # This allows for lots of neat tricks.\n",
    "import powerlaw\n",
    "import mpmath\n",
    "# import visual tools\n",
    "import matplotlib as mpl\n",
    "import matplotlib.pyplot as plt\n",
    "import matplotlib.gridspec as gridspec\n",
    "%matplotlib inline\n",
    "import seaborn as sns\n",
    "\n",
    "plt.style.use('seaborn-talk')\n",
    "plt.style.use('bmh')\n",
    "\n",
    "#plt.rcParams['font.family'] = 'DejaVu Sans Mono'\n",
    "#plt.rcParams['font.size'] = 9.5\n",
    "plt.rcParams['font.weight'] = 'medium'\n",
    "#plt.rcParams['figure.figsize'] = 10,7\n",
    "blue, green, red, purple, gold, teal = sns.color_palette('colorblind', 6)\n",
    "\n"
   ]
  },
  {
   "cell_type": "code",
   "execution_count": 2,
   "metadata": {},
   "outputs": [],
   "source": [
    "def returns(s):\n",
    "    #compute log returns\n",
    "    arr = np.diff(np.log(s))\n",
    "    return (pd.Series(arr, index=s.index[1:]))\n",
    "\n",
    "def tick_bars(df, price_column, m):\n",
    "    '''\n",
    "    compute tick bars\n",
    "    # args\n",
    "        df: pd.DataFrame()\n",
    "        column: name for price data\n",
    "        m: int(), threshold value for ticks\n",
    "    # returns\n",
    "        idx: list of indices\n",
    "    '''\n",
    "    t = df[price_column]\n",
    "    ts = 0\n",
    "    idx = []\n",
    "    for i, x in enumerate(tqdm(t)):\n",
    "        ts += 1\n",
    "        if ts >= m:\n",
    "            idx.append(i)\n",
    "            ts = 0\n",
    "            continue\n",
    "    return idx\n",
    "def tick_bar_df(df, price_column, m):\n",
    "    idx = tick_bars(df, price_column, m)\n",
    "    return df.iloc[idx]\n",
    "#========================================================\n",
    "def volume_bars(df, volume_column, m):\n",
    "    '''\n",
    "    compute volume bars\n",
    "    # args\n",
    "        df: pd.DataFrame()\n",
    "        column: name for volume data\n",
    "        m: int(), threshold value for volume\n",
    "    # returns\n",
    "        idx: list of indices\n",
    "    '''\n",
    "    t = df[volume_column]\n",
    "    ts = 0\n",
    "    idx = []\n",
    "    for i, x in enumerate(tqdm(t)):\n",
    "        ts += x\n",
    "        if ts >= m:\n",
    "            idx.append(i)\n",
    "            ts = 0\n",
    "            continue\n",
    "    return idx\n",
    "\n",
    "def volume_bar_df(df, volume_column, m):\n",
    "    idx = volume_bars(df, volume_column, m)\n",
    "    return df.iloc[idx]\n",
    "#========================================================\n",
    "def dollar_bars(df, dv_column, m):\n",
    "    '''\n",
    "    compute dollar bars\n",
    "    # args\n",
    "        df: pd.DataFrame()\n",
    "        column: name for dollar volume data\n",
    "        m: int(), threshold value for dollars\n",
    "    # returns\n",
    "        idx: list of indices\n",
    "    '''\n",
    "    t = df[dv_column]\n",
    "    ts = 0\n",
    "    idx = []\n",
    "    for i, x in enumerate(tqdm(t)):\n",
    "        ts += x\n",
    "        if ts >= m:\n",
    "            idx.append(i)\n",
    "            ts = 0\n",
    "            continue\n",
    "    return idx\n",
    "\n",
    "def dollar_bar_df(df, dv_column, m):\n",
    "    idx = dollar_bars(df, dv_column, m)\n",
    "    return df.iloc[idx]\n",
    "#========================================================\n",
    "dataparser = lambda x: pd.datetime.strptime(x, '%M:%S.%f').time\n",
    "#========================================================\n",
    "@jit(nopython=True)\n",
    "def mad_outlier(y, thresh=3.):\n",
    "    '''\n",
    "    compute outliers based on mad\n",
    "    # args\n",
    "        y: assumed to be array with shape (N,1)\n",
    "        thresh: float()\n",
    "    # returns\n",
    "        array index of outliers\n",
    "    '''\n",
    "    median = np.median(y)\n",
    "    diff = np.sum((y - median)**2, axis=-1)\n",
    "    diff = np.sqrt(diff)\n",
    "    med_abs_deviation = np.median(diff)\n",
    "\n",
    "    modified_z_score = 0.6745 * diff / med_abs_deviation\n",
    "\n",
    "    return modified_z_score > thresh\n"
   ]
  },
  {
   "cell_type": "code",
   "execution_count": 3,
   "metadata": {},
   "outputs": [],
   "source": [
    "os.getcwd()\n",
    "data_dir = os.getenv('FINANCE_DATA')  # main directory referenced in all the code\n",
    "data_only_drive = '/mnt/usb-Seagate_Expansion_Desk_NA8XEHR6-0:0-part2/FinData/'  # external date only drive\n",
    "quotes=[s for s in os.listdir(data_only_drive) if s.endswith('quotes')]\n",
    "trades=[s for s in os.listdir(data_only_drive) if s.endswith('trades')]\n",
    "TY1_trades=[s for s in os.listdir(data_only_drive) if s.startswith('TY1') and s.endswith('trades')]\n",
    "TY1_quotes=[s for s in os.listdir(data_only_drive) if s.startswith('TY1') and s.endswith('quotes')]"
   ]
  },
  {
   "cell_type": "code",
   "execution_count": 4,
   "metadata": {},
   "outputs": [],
   "source": [
    "ty1_quotes_loc=\"\".join((data_only_drive,TY1_quotes[0]))\n",
    "ty1_trades_loc=\"\".join((data_only_drive,TY1_trades[0]))"
   ]
  },
  {
   "cell_type": "code",
   "execution_count": 5,
   "metadata": {
    "scrolled": true
   },
   "outputs": [],
   "source": [
    "# futures_data_folder= '/home/ak/Documents/Data/FuturesData/'\n",
    "loc=ty1_quotes_loc\n",
    "csv_files=[s for s in os.listdir(loc) if s.endswith('.csv')]"
   ]
  },
  {
   "cell_type": "code",
   "execution_count": 7,
   "metadata": {},
   "outputs": [],
   "source": [
    "csv_idx=1\n",
    "csv_loc = \"/\".join((loc,csv_files[csv_idx]))\n",
    "raw_data=pd.read_csv(csv_loc)\n",
    "raw_data.columns.values\n",
    "# raw_data=raw_data.rename(columns={'Unnamed: 0':'TimeStamp'})\n",
    "raw_data.reset_index(inplace=True)\n",
    "raw_data=raw_data.drop(columns=['index','Unnamed: 0'])"
   ]
  },
  {
   "cell_type": "code",
   "execution_count": 8,
   "metadata": {},
   "outputs": [
    {
     "data": {
      "text/plain": [
       "array(['size', 'time', 'type', 'value'], dtype=object)"
      ]
     },
     "execution_count": 8,
     "metadata": {},
     "output_type": "execute_result"
    }
   ],
   "source": [
    "raw_data.columns.values"
   ]
  },
  {
   "cell_type": "code",
   "execution_count": 10,
   "metadata": {},
   "outputs": [],
   "source": [
    "raw_data.head(10)\n",
    "bids=raw_data[raw_data['type']=='BID'].rename(columns={'size': 'bestBidSize', 'time': 'bidTimeStamp','value':'bestBidPrice'})\n",
    "asks=raw_data[raw_data['type']=='ASK'].rename(columns={'size': 'bestAskSize', 'time': 'askTimeStamp','value':'bestAskPrice'})\n",
    "df=pd.concat([bids, asks], axis=1)\n",
    "df=df.fillna(method='ffill').dropna()\n",
    "df['bidTimeStamp']=pd.to_datetime(df['bidTimeStamp'])\n",
    "df['askTimeStamp']=pd.to_datetime(df['askTimeStamp'])"
   ]
  },
  {
   "cell_type": "code",
   "execution_count": null,
   "metadata": {},
   "outputs": [],
   "source": [
    "# # df = pd.DataFrame(raw_data.row.str.split('',1).tolist(),\n",
    "# #                                    columns = ['BID','ASK'])\n",
    "# raw_data['type'].str.split('', 1, expand=True)\n"
   ]
  },
  {
   "cell_type": "code",
   "execution_count": 14,
   "metadata": {},
   "outputs": [],
   "source": [
    "new_dates, new_times = zip(*[(d.date(), d.time()) for d in df['askTimeStamp']])\n",
    "# df = df.assign(df.askTimeStamp = new_times)\n"
   ]
  },
  {
   "cell_type": "code",
   "execution_count": 16,
   "metadata": {},
   "outputs": [],
   "source": [
    "df.TimeStamp."
   ]
  },
  {
   "cell_type": "code",
   "execution_count": 18,
   "metadata": {},
   "outputs": [],
   "source": [
    "df['milliSeconds']=[int(((x.hour*60 + x.minute)*60 + x.second)*1000) for x in df['TimeStamp']]"
   ]
  },
  {
   "cell_type": "code",
   "execution_count": 20,
   "metadata": {},
   "outputs": [],
   "source": [
    "df=df.drop(columns=['bidTimeStamp','askTimeStamp', 'type'])\n"
   ]
  },
  {
   "cell_type": "code",
   "execution_count": 21,
   "metadata": {},
   "outputs": [
    {
     "data": {
      "text/html": [
       "<div>\n",
       "<style scoped>\n",
       "    .dataframe tbody tr th:only-of-type {\n",
       "        vertical-align: middle;\n",
       "    }\n",
       "\n",
       "    .dataframe tbody tr th {\n",
       "        vertical-align: top;\n",
       "    }\n",
       "\n",
       "    .dataframe thead th {\n",
       "        text-align: right;\n",
       "    }\n",
       "</style>\n",
       "<table border=\"1\" class=\"dataframe\">\n",
       "  <thead>\n",
       "    <tr style=\"text-align: right;\">\n",
       "      <th></th>\n",
       "      <th>bestBidSize</th>\n",
       "      <th>bestBidPrice</th>\n",
       "      <th>bestAskSize</th>\n",
       "      <th>bestAskPrice</th>\n",
       "      <th>TimeStamp</th>\n",
       "      <th>Date</th>\n",
       "      <th>milliSeconds</th>\n",
       "    </tr>\n",
       "  </thead>\n",
       "  <tbody>\n",
       "    <tr>\n",
       "      <th>1</th>\n",
       "      <td>714.0</td>\n",
       "      <td>119.250000</td>\n",
       "      <td>514.0</td>\n",
       "      <td>119.265625</td>\n",
       "      <td>00:00:00</td>\n",
       "      <td>2018-06-14</td>\n",
       "      <td>0</td>\n",
       "    </tr>\n",
       "    <tr>\n",
       "      <th>2</th>\n",
       "      <td>714.0</td>\n",
       "      <td>119.250000</td>\n",
       "      <td>526.0</td>\n",
       "      <td>119.265625</td>\n",
       "      <td>00:00:00</td>\n",
       "      <td>2018-06-14</td>\n",
       "      <td>0</td>\n",
       "    </tr>\n",
       "    <tr>\n",
       "      <th>3</th>\n",
       "      <td>751.0</td>\n",
       "      <td>119.250000</td>\n",
       "      <td>526.0</td>\n",
       "      <td>119.265625</td>\n",
       "      <td>00:00:00</td>\n",
       "      <td>2018-06-14</td>\n",
       "      <td>0</td>\n",
       "    </tr>\n",
       "    <tr>\n",
       "      <th>4</th>\n",
       "      <td>764.0</td>\n",
       "      <td>119.250000</td>\n",
       "      <td>526.0</td>\n",
       "      <td>119.265625</td>\n",
       "      <td>00:00:00</td>\n",
       "      <td>2018-06-14</td>\n",
       "      <td>0</td>\n",
       "    </tr>\n",
       "    <tr>\n",
       "      <th>5</th>\n",
       "      <td>765.0</td>\n",
       "      <td>119.250000</td>\n",
       "      <td>526.0</td>\n",
       "      <td>119.265625</td>\n",
       "      <td>00:00:00</td>\n",
       "      <td>2018-06-14</td>\n",
       "      <td>0</td>\n",
       "    </tr>\n",
       "    <tr>\n",
       "      <th>6</th>\n",
       "      <td>765.0</td>\n",
       "      <td>119.250000</td>\n",
       "      <td>527.0</td>\n",
       "      <td>119.265625</td>\n",
       "      <td>00:00:00</td>\n",
       "      <td>2018-06-14</td>\n",
       "      <td>0</td>\n",
       "    </tr>\n",
       "    <tr>\n",
       "      <th>7</th>\n",
       "      <td>758.0</td>\n",
       "      <td>119.250000</td>\n",
       "      <td>527.0</td>\n",
       "      <td>119.265625</td>\n",
       "      <td>00:00:00</td>\n",
       "      <td>2018-06-14</td>\n",
       "      <td>0</td>\n",
       "    </tr>\n",
       "    <tr>\n",
       "      <th>8</th>\n",
       "      <td>758.0</td>\n",
       "      <td>119.250000</td>\n",
       "      <td>520.0</td>\n",
       "      <td>119.265625</td>\n",
       "      <td>00:00:00</td>\n",
       "      <td>2018-06-14</td>\n",
       "      <td>0</td>\n",
       "    </tr>\n",
       "    <tr>\n",
       "      <th>9</th>\n",
       "      <td>721.0</td>\n",
       "      <td>119.250000</td>\n",
       "      <td>520.0</td>\n",
       "      <td>119.265625</td>\n",
       "      <td>00:00:00</td>\n",
       "      <td>2018-06-14</td>\n",
       "      <td>0</td>\n",
       "    </tr>\n",
       "    <tr>\n",
       "      <th>10</th>\n",
       "      <td>721.0</td>\n",
       "      <td>119.250000</td>\n",
       "      <td>508.0</td>\n",
       "      <td>119.265625</td>\n",
       "      <td>00:00:00</td>\n",
       "      <td>2018-06-14</td>\n",
       "      <td>0</td>\n",
       "    </tr>\n",
       "    <tr>\n",
       "      <th>11</th>\n",
       "      <td>708.0</td>\n",
       "      <td>119.250000</td>\n",
       "      <td>508.0</td>\n",
       "      <td>119.265625</td>\n",
       "      <td>00:00:00</td>\n",
       "      <td>2018-06-14</td>\n",
       "      <td>0</td>\n",
       "    </tr>\n",
       "    <tr>\n",
       "      <th>12</th>\n",
       "      <td>709.0</td>\n",
       "      <td>119.250000</td>\n",
       "      <td>508.0</td>\n",
       "      <td>119.265625</td>\n",
       "      <td>00:00:00</td>\n",
       "      <td>2018-06-14</td>\n",
       "      <td>0</td>\n",
       "    </tr>\n",
       "    <tr>\n",
       "      <th>13</th>\n",
       "      <td>728.0</td>\n",
       "      <td>119.250000</td>\n",
       "      <td>508.0</td>\n",
       "      <td>119.265625</td>\n",
       "      <td>00:00:00</td>\n",
       "      <td>2018-06-14</td>\n",
       "      <td>0</td>\n",
       "    </tr>\n",
       "    <tr>\n",
       "      <th>14</th>\n",
       "      <td>728.0</td>\n",
       "      <td>119.250000</td>\n",
       "      <td>510.0</td>\n",
       "      <td>119.265625</td>\n",
       "      <td>00:00:00</td>\n",
       "      <td>2018-06-14</td>\n",
       "      <td>0</td>\n",
       "    </tr>\n",
       "    <tr>\n",
       "      <th>15</th>\n",
       "      <td>728.0</td>\n",
       "      <td>119.250000</td>\n",
       "      <td>521.0</td>\n",
       "      <td>119.265625</td>\n",
       "      <td>00:00:00</td>\n",
       "      <td>2018-06-14</td>\n",
       "      <td>0</td>\n",
       "    </tr>\n",
       "    <tr>\n",
       "      <th>16</th>\n",
       "      <td>728.0</td>\n",
       "      <td>119.250000</td>\n",
       "      <td>522.0</td>\n",
       "      <td>119.265625</td>\n",
       "      <td>00:00:00</td>\n",
       "      <td>2018-06-14</td>\n",
       "      <td>0</td>\n",
       "    </tr>\n",
       "    <tr>\n",
       "      <th>17</th>\n",
       "      <td>728.0</td>\n",
       "      <td>119.250000</td>\n",
       "      <td>520.0</td>\n",
       "      <td>119.265625</td>\n",
       "      <td>00:00:00</td>\n",
       "      <td>2018-06-14</td>\n",
       "      <td>0</td>\n",
       "    </tr>\n",
       "    <tr>\n",
       "      <th>18</th>\n",
       "      <td>706.0</td>\n",
       "      <td>119.250000</td>\n",
       "      <td>520.0</td>\n",
       "      <td>119.265625</td>\n",
       "      <td>00:00:00</td>\n",
       "      <td>2018-06-14</td>\n",
       "      <td>0</td>\n",
       "    </tr>\n",
       "    <tr>\n",
       "      <th>19</th>\n",
       "      <td>723.0</td>\n",
       "      <td>119.250000</td>\n",
       "      <td>520.0</td>\n",
       "      <td>119.265625</td>\n",
       "      <td>00:00:00</td>\n",
       "      <td>2018-06-14</td>\n",
       "      <td>0</td>\n",
       "    </tr>\n",
       "    <tr>\n",
       "      <th>20</th>\n",
       "      <td>763.0</td>\n",
       "      <td>119.250000</td>\n",
       "      <td>520.0</td>\n",
       "      <td>119.265625</td>\n",
       "      <td>00:00:00</td>\n",
       "      <td>2018-06-14</td>\n",
       "      <td>0</td>\n",
       "    </tr>\n",
       "    <tr>\n",
       "      <th>21</th>\n",
       "      <td>785.0</td>\n",
       "      <td>119.250000</td>\n",
       "      <td>520.0</td>\n",
       "      <td>119.265625</td>\n",
       "      <td>00:00:00</td>\n",
       "      <td>2018-06-14</td>\n",
       "      <td>0</td>\n",
       "    </tr>\n",
       "    <tr>\n",
       "      <th>22</th>\n",
       "      <td>789.0</td>\n",
       "      <td>119.250000</td>\n",
       "      <td>520.0</td>\n",
       "      <td>119.265625</td>\n",
       "      <td>00:00:00</td>\n",
       "      <td>2018-06-14</td>\n",
       "      <td>0</td>\n",
       "    </tr>\n",
       "    <tr>\n",
       "      <th>23</th>\n",
       "      <td>790.0</td>\n",
       "      <td>119.250000</td>\n",
       "      <td>520.0</td>\n",
       "      <td>119.265625</td>\n",
       "      <td>00:00:00</td>\n",
       "      <td>2018-06-14</td>\n",
       "      <td>0</td>\n",
       "    </tr>\n",
       "    <tr>\n",
       "      <th>24</th>\n",
       "      <td>786.0</td>\n",
       "      <td>119.250000</td>\n",
       "      <td>520.0</td>\n",
       "      <td>119.265625</td>\n",
       "      <td>00:00:00</td>\n",
       "      <td>2018-06-14</td>\n",
       "      <td>0</td>\n",
       "    </tr>\n",
       "    <tr>\n",
       "      <th>25</th>\n",
       "      <td>746.0</td>\n",
       "      <td>119.250000</td>\n",
       "      <td>520.0</td>\n",
       "      <td>119.265625</td>\n",
       "      <td>00:00:00</td>\n",
       "      <td>2018-06-14</td>\n",
       "      <td>0</td>\n",
       "    </tr>\n",
       "    <tr>\n",
       "      <th>26</th>\n",
       "      <td>724.0</td>\n",
       "      <td>119.250000</td>\n",
       "      <td>520.0</td>\n",
       "      <td>119.265625</td>\n",
       "      <td>00:00:00</td>\n",
       "      <td>2018-06-14</td>\n",
       "      <td>0</td>\n",
       "    </tr>\n",
       "    <tr>\n",
       "      <th>27</th>\n",
       "      <td>768.0</td>\n",
       "      <td>119.250000</td>\n",
       "      <td>520.0</td>\n",
       "      <td>119.265625</td>\n",
       "      <td>00:00:00</td>\n",
       "      <td>2018-06-14</td>\n",
       "      <td>0</td>\n",
       "    </tr>\n",
       "    <tr>\n",
       "      <th>28</th>\n",
       "      <td>774.0</td>\n",
       "      <td>119.250000</td>\n",
       "      <td>520.0</td>\n",
       "      <td>119.265625</td>\n",
       "      <td>00:00:00</td>\n",
       "      <td>2018-06-14</td>\n",
       "      <td>0</td>\n",
       "    </tr>\n",
       "    <tr>\n",
       "      <th>29</th>\n",
       "      <td>773.0</td>\n",
       "      <td>119.250000</td>\n",
       "      <td>520.0</td>\n",
       "      <td>119.265625</td>\n",
       "      <td>00:00:00</td>\n",
       "      <td>2018-06-14</td>\n",
       "      <td>0</td>\n",
       "    </tr>\n",
       "    <tr>\n",
       "      <th>30</th>\n",
       "      <td>729.0</td>\n",
       "      <td>119.250000</td>\n",
       "      <td>520.0</td>\n",
       "      <td>119.265625</td>\n",
       "      <td>00:00:00</td>\n",
       "      <td>2018-06-14</td>\n",
       "      <td>0</td>\n",
       "    </tr>\n",
       "    <tr>\n",
       "      <th>...</th>\n",
       "      <td>...</td>\n",
       "      <td>...</td>\n",
       "      <td>...</td>\n",
       "      <td>...</td>\n",
       "      <td>...</td>\n",
       "      <td>...</td>\n",
       "      <td>...</td>\n",
       "    </tr>\n",
       "    <tr>\n",
       "      <th>1460570</th>\n",
       "      <td>678.0</td>\n",
       "      <td>119.484375</td>\n",
       "      <td>618.0</td>\n",
       "      <td>119.500000</td>\n",
       "      <td>23:59:59</td>\n",
       "      <td>2018-06-14</td>\n",
       "      <td>86399000</td>\n",
       "    </tr>\n",
       "    <tr>\n",
       "      <th>1460571</th>\n",
       "      <td>678.0</td>\n",
       "      <td>119.484375</td>\n",
       "      <td>631.0</td>\n",
       "      <td>119.500000</td>\n",
       "      <td>23:59:59</td>\n",
       "      <td>2018-06-14</td>\n",
       "      <td>86399000</td>\n",
       "    </tr>\n",
       "    <tr>\n",
       "      <th>1460572</th>\n",
       "      <td>678.0</td>\n",
       "      <td>119.484375</td>\n",
       "      <td>618.0</td>\n",
       "      <td>119.500000</td>\n",
       "      <td>23:59:59</td>\n",
       "      <td>2018-06-14</td>\n",
       "      <td>86399000</td>\n",
       "    </tr>\n",
       "    <tr>\n",
       "      <th>1460573</th>\n",
       "      <td>678.0</td>\n",
       "      <td>119.484375</td>\n",
       "      <td>631.0</td>\n",
       "      <td>119.500000</td>\n",
       "      <td>23:59:59</td>\n",
       "      <td>2018-06-14</td>\n",
       "      <td>86399000</td>\n",
       "    </tr>\n",
       "    <tr>\n",
       "      <th>1460574</th>\n",
       "      <td>678.0</td>\n",
       "      <td>119.484375</td>\n",
       "      <td>618.0</td>\n",
       "      <td>119.500000</td>\n",
       "      <td>23:59:59</td>\n",
       "      <td>2018-06-14</td>\n",
       "      <td>86399000</td>\n",
       "    </tr>\n",
       "    <tr>\n",
       "      <th>1460575</th>\n",
       "      <td>678.0</td>\n",
       "      <td>119.484375</td>\n",
       "      <td>631.0</td>\n",
       "      <td>119.500000</td>\n",
       "      <td>23:59:59</td>\n",
       "      <td>2018-06-14</td>\n",
       "      <td>86399000</td>\n",
       "    </tr>\n",
       "    <tr>\n",
       "      <th>1460576</th>\n",
       "      <td>677.0</td>\n",
       "      <td>119.484375</td>\n",
       "      <td>631.0</td>\n",
       "      <td>119.500000</td>\n",
       "      <td>23:59:59</td>\n",
       "      <td>2018-06-14</td>\n",
       "      <td>86399000</td>\n",
       "    </tr>\n",
       "    <tr>\n",
       "      <th>1460577</th>\n",
       "      <td>777.0</td>\n",
       "      <td>119.484375</td>\n",
       "      <td>631.0</td>\n",
       "      <td>119.500000</td>\n",
       "      <td>23:59:59</td>\n",
       "      <td>2018-06-14</td>\n",
       "      <td>86399000</td>\n",
       "    </tr>\n",
       "    <tr>\n",
       "      <th>1460578</th>\n",
       "      <td>777.0</td>\n",
       "      <td>119.484375</td>\n",
       "      <td>731.0</td>\n",
       "      <td>119.500000</td>\n",
       "      <td>00:00:00</td>\n",
       "      <td>2018-06-15</td>\n",
       "      <td>0</td>\n",
       "    </tr>\n",
       "    <tr>\n",
       "      <th>1460579</th>\n",
       "      <td>777.0</td>\n",
       "      <td>119.484375</td>\n",
       "      <td>728.0</td>\n",
       "      <td>119.500000</td>\n",
       "      <td>00:00:00</td>\n",
       "      <td>2018-06-15</td>\n",
       "      <td>0</td>\n",
       "    </tr>\n",
       "    <tr>\n",
       "      <th>1460580</th>\n",
       "      <td>778.0</td>\n",
       "      <td>119.484375</td>\n",
       "      <td>728.0</td>\n",
       "      <td>119.500000</td>\n",
       "      <td>00:00:00</td>\n",
       "      <td>2018-06-15</td>\n",
       "      <td>0</td>\n",
       "    </tr>\n",
       "    <tr>\n",
       "      <th>1460581</th>\n",
       "      <td>778.0</td>\n",
       "      <td>119.484375</td>\n",
       "      <td>727.0</td>\n",
       "      <td>119.500000</td>\n",
       "      <td>00:00:00</td>\n",
       "      <td>2018-06-15</td>\n",
       "      <td>0</td>\n",
       "    </tr>\n",
       "    <tr>\n",
       "      <th>1460582</th>\n",
       "      <td>778.0</td>\n",
       "      <td>119.484375</td>\n",
       "      <td>728.0</td>\n",
       "      <td>119.500000</td>\n",
       "      <td>00:00:00</td>\n",
       "      <td>2018-06-15</td>\n",
       "      <td>0</td>\n",
       "    </tr>\n",
       "    <tr>\n",
       "      <th>1460583</th>\n",
       "      <td>778.0</td>\n",
       "      <td>119.484375</td>\n",
       "      <td>735.0</td>\n",
       "      <td>119.500000</td>\n",
       "      <td>00:00:00</td>\n",
       "      <td>2018-06-15</td>\n",
       "      <td>0</td>\n",
       "    </tr>\n",
       "    <tr>\n",
       "      <th>1460584</th>\n",
       "      <td>781.0</td>\n",
       "      <td>119.484375</td>\n",
       "      <td>735.0</td>\n",
       "      <td>119.500000</td>\n",
       "      <td>00:00:00</td>\n",
       "      <td>2018-06-15</td>\n",
       "      <td>0</td>\n",
       "    </tr>\n",
       "    <tr>\n",
       "      <th>1460585</th>\n",
       "      <td>781.0</td>\n",
       "      <td>119.484375</td>\n",
       "      <td>728.0</td>\n",
       "      <td>119.500000</td>\n",
       "      <td>00:00:00</td>\n",
       "      <td>2018-06-15</td>\n",
       "      <td>0</td>\n",
       "    </tr>\n",
       "    <tr>\n",
       "      <th>1460586</th>\n",
       "      <td>781.0</td>\n",
       "      <td>119.484375</td>\n",
       "      <td>729.0</td>\n",
       "      <td>119.500000</td>\n",
       "      <td>00:00:00</td>\n",
       "      <td>2018-06-15</td>\n",
       "      <td>0</td>\n",
       "    </tr>\n",
       "    <tr>\n",
       "      <th>1460587</th>\n",
       "      <td>894.0</td>\n",
       "      <td>119.484375</td>\n",
       "      <td>729.0</td>\n",
       "      <td>119.500000</td>\n",
       "      <td>00:00:00</td>\n",
       "      <td>2018-06-15</td>\n",
       "      <td>0</td>\n",
       "    </tr>\n",
       "    <tr>\n",
       "      <th>1460588</th>\n",
       "      <td>897.0</td>\n",
       "      <td>119.484375</td>\n",
       "      <td>729.0</td>\n",
       "      <td>119.500000</td>\n",
       "      <td>00:00:00</td>\n",
       "      <td>2018-06-15</td>\n",
       "      <td>0</td>\n",
       "    </tr>\n",
       "    <tr>\n",
       "      <th>1460589</th>\n",
       "      <td>897.0</td>\n",
       "      <td>119.484375</td>\n",
       "      <td>716.0</td>\n",
       "      <td>119.500000</td>\n",
       "      <td>00:00:00</td>\n",
       "      <td>2018-06-15</td>\n",
       "      <td>0</td>\n",
       "    </tr>\n",
       "    <tr>\n",
       "      <th>1460590</th>\n",
       "      <td>897.0</td>\n",
       "      <td>119.484375</td>\n",
       "      <td>715.0</td>\n",
       "      <td>119.500000</td>\n",
       "      <td>00:00:00</td>\n",
       "      <td>2018-06-15</td>\n",
       "      <td>0</td>\n",
       "    </tr>\n",
       "    <tr>\n",
       "      <th>1460591</th>\n",
       "      <td>897.0</td>\n",
       "      <td>119.484375</td>\n",
       "      <td>713.0</td>\n",
       "      <td>119.500000</td>\n",
       "      <td>00:00:00</td>\n",
       "      <td>2018-06-15</td>\n",
       "      <td>0</td>\n",
       "    </tr>\n",
       "    <tr>\n",
       "      <th>1460592</th>\n",
       "      <td>898.0</td>\n",
       "      <td>119.484375</td>\n",
       "      <td>713.0</td>\n",
       "      <td>119.500000</td>\n",
       "      <td>00:00:00</td>\n",
       "      <td>2018-06-15</td>\n",
       "      <td>0</td>\n",
       "    </tr>\n",
       "    <tr>\n",
       "      <th>1460593</th>\n",
       "      <td>898.0</td>\n",
       "      <td>119.484375</td>\n",
       "      <td>720.0</td>\n",
       "      <td>119.500000</td>\n",
       "      <td>00:00:00</td>\n",
       "      <td>2018-06-15</td>\n",
       "      <td>0</td>\n",
       "    </tr>\n",
       "    <tr>\n",
       "      <th>1460594</th>\n",
       "      <td>898.0</td>\n",
       "      <td>119.484375</td>\n",
       "      <td>713.0</td>\n",
       "      <td>119.500000</td>\n",
       "      <td>00:00:00</td>\n",
       "      <td>2018-06-15</td>\n",
       "      <td>0</td>\n",
       "    </tr>\n",
       "    <tr>\n",
       "      <th>1460595</th>\n",
       "      <td>898.0</td>\n",
       "      <td>119.484375</td>\n",
       "      <td>726.0</td>\n",
       "      <td>119.500000</td>\n",
       "      <td>00:00:00</td>\n",
       "      <td>2018-06-15</td>\n",
       "      <td>0</td>\n",
       "    </tr>\n",
       "    <tr>\n",
       "      <th>1460596</th>\n",
       "      <td>903.0</td>\n",
       "      <td>119.484375</td>\n",
       "      <td>726.0</td>\n",
       "      <td>119.500000</td>\n",
       "      <td>00:00:00</td>\n",
       "      <td>2018-06-15</td>\n",
       "      <td>0</td>\n",
       "    </tr>\n",
       "    <tr>\n",
       "      <th>1460597</th>\n",
       "      <td>903.0</td>\n",
       "      <td>119.484375</td>\n",
       "      <td>724.0</td>\n",
       "      <td>119.500000</td>\n",
       "      <td>00:00:00</td>\n",
       "      <td>2018-06-15</td>\n",
       "      <td>0</td>\n",
       "    </tr>\n",
       "    <tr>\n",
       "      <th>1460598</th>\n",
       "      <td>904.0</td>\n",
       "      <td>119.484375</td>\n",
       "      <td>724.0</td>\n",
       "      <td>119.500000</td>\n",
       "      <td>00:00:00</td>\n",
       "      <td>2018-06-15</td>\n",
       "      <td>0</td>\n",
       "    </tr>\n",
       "    <tr>\n",
       "      <th>1460599</th>\n",
       "      <td>904.0</td>\n",
       "      <td>119.484375</td>\n",
       "      <td>711.0</td>\n",
       "      <td>119.500000</td>\n",
       "      <td>00:00:00</td>\n",
       "      <td>2018-06-15</td>\n",
       "      <td>0</td>\n",
       "    </tr>\n",
       "  </tbody>\n",
       "</table>\n",
       "<p>1460599 rows × 7 columns</p>\n",
       "</div>"
      ],
      "text/plain": [
       "         bestBidSize  bestBidPrice  bestAskSize  bestAskPrice TimeStamp  \\\n",
       "1              714.0    119.250000        514.0    119.265625  00:00:00   \n",
       "2              714.0    119.250000        526.0    119.265625  00:00:00   \n",
       "3              751.0    119.250000        526.0    119.265625  00:00:00   \n",
       "4              764.0    119.250000        526.0    119.265625  00:00:00   \n",
       "5              765.0    119.250000        526.0    119.265625  00:00:00   \n",
       "6              765.0    119.250000        527.0    119.265625  00:00:00   \n",
       "7              758.0    119.250000        527.0    119.265625  00:00:00   \n",
       "8              758.0    119.250000        520.0    119.265625  00:00:00   \n",
       "9              721.0    119.250000        520.0    119.265625  00:00:00   \n",
       "10             721.0    119.250000        508.0    119.265625  00:00:00   \n",
       "11             708.0    119.250000        508.0    119.265625  00:00:00   \n",
       "12             709.0    119.250000        508.0    119.265625  00:00:00   \n",
       "13             728.0    119.250000        508.0    119.265625  00:00:00   \n",
       "14             728.0    119.250000        510.0    119.265625  00:00:00   \n",
       "15             728.0    119.250000        521.0    119.265625  00:00:00   \n",
       "16             728.0    119.250000        522.0    119.265625  00:00:00   \n",
       "17             728.0    119.250000        520.0    119.265625  00:00:00   \n",
       "18             706.0    119.250000        520.0    119.265625  00:00:00   \n",
       "19             723.0    119.250000        520.0    119.265625  00:00:00   \n",
       "20             763.0    119.250000        520.0    119.265625  00:00:00   \n",
       "21             785.0    119.250000        520.0    119.265625  00:00:00   \n",
       "22             789.0    119.250000        520.0    119.265625  00:00:00   \n",
       "23             790.0    119.250000        520.0    119.265625  00:00:00   \n",
       "24             786.0    119.250000        520.0    119.265625  00:00:00   \n",
       "25             746.0    119.250000        520.0    119.265625  00:00:00   \n",
       "26             724.0    119.250000        520.0    119.265625  00:00:00   \n",
       "27             768.0    119.250000        520.0    119.265625  00:00:00   \n",
       "28             774.0    119.250000        520.0    119.265625  00:00:00   \n",
       "29             773.0    119.250000        520.0    119.265625  00:00:00   \n",
       "30             729.0    119.250000        520.0    119.265625  00:00:00   \n",
       "...              ...           ...          ...           ...       ...   \n",
       "1460570        678.0    119.484375        618.0    119.500000  23:59:59   \n",
       "1460571        678.0    119.484375        631.0    119.500000  23:59:59   \n",
       "1460572        678.0    119.484375        618.0    119.500000  23:59:59   \n",
       "1460573        678.0    119.484375        631.0    119.500000  23:59:59   \n",
       "1460574        678.0    119.484375        618.0    119.500000  23:59:59   \n",
       "1460575        678.0    119.484375        631.0    119.500000  23:59:59   \n",
       "1460576        677.0    119.484375        631.0    119.500000  23:59:59   \n",
       "1460577        777.0    119.484375        631.0    119.500000  23:59:59   \n",
       "1460578        777.0    119.484375        731.0    119.500000  00:00:00   \n",
       "1460579        777.0    119.484375        728.0    119.500000  00:00:00   \n",
       "1460580        778.0    119.484375        728.0    119.500000  00:00:00   \n",
       "1460581        778.0    119.484375        727.0    119.500000  00:00:00   \n",
       "1460582        778.0    119.484375        728.0    119.500000  00:00:00   \n",
       "1460583        778.0    119.484375        735.0    119.500000  00:00:00   \n",
       "1460584        781.0    119.484375        735.0    119.500000  00:00:00   \n",
       "1460585        781.0    119.484375        728.0    119.500000  00:00:00   \n",
       "1460586        781.0    119.484375        729.0    119.500000  00:00:00   \n",
       "1460587        894.0    119.484375        729.0    119.500000  00:00:00   \n",
       "1460588        897.0    119.484375        729.0    119.500000  00:00:00   \n",
       "1460589        897.0    119.484375        716.0    119.500000  00:00:00   \n",
       "1460590        897.0    119.484375        715.0    119.500000  00:00:00   \n",
       "1460591        897.0    119.484375        713.0    119.500000  00:00:00   \n",
       "1460592        898.0    119.484375        713.0    119.500000  00:00:00   \n",
       "1460593        898.0    119.484375        720.0    119.500000  00:00:00   \n",
       "1460594        898.0    119.484375        713.0    119.500000  00:00:00   \n",
       "1460595        898.0    119.484375        726.0    119.500000  00:00:00   \n",
       "1460596        903.0    119.484375        726.0    119.500000  00:00:00   \n",
       "1460597        903.0    119.484375        724.0    119.500000  00:00:00   \n",
       "1460598        904.0    119.484375        724.0    119.500000  00:00:00   \n",
       "1460599        904.0    119.484375        711.0    119.500000  00:00:00   \n",
       "\n",
       "               Date  milliSeconds  \n",
       "1        2018-06-14             0  \n",
       "2        2018-06-14             0  \n",
       "3        2018-06-14             0  \n",
       "4        2018-06-14             0  \n",
       "5        2018-06-14             0  \n",
       "6        2018-06-14             0  \n",
       "7        2018-06-14             0  \n",
       "8        2018-06-14             0  \n",
       "9        2018-06-14             0  \n",
       "10       2018-06-14             0  \n",
       "11       2018-06-14             0  \n",
       "12       2018-06-14             0  \n",
       "13       2018-06-14             0  \n",
       "14       2018-06-14             0  \n",
       "15       2018-06-14             0  \n",
       "16       2018-06-14             0  \n",
       "17       2018-06-14             0  \n",
       "18       2018-06-14             0  \n",
       "19       2018-06-14             0  \n",
       "20       2018-06-14             0  \n",
       "21       2018-06-14             0  \n",
       "22       2018-06-14             0  \n",
       "23       2018-06-14             0  \n",
       "24       2018-06-14             0  \n",
       "25       2018-06-14             0  \n",
       "26       2018-06-14             0  \n",
       "27       2018-06-14             0  \n",
       "28       2018-06-14             0  \n",
       "29       2018-06-14             0  \n",
       "30       2018-06-14             0  \n",
       "...             ...           ...  \n",
       "1460570  2018-06-14      86399000  \n",
       "1460571  2018-06-14      86399000  \n",
       "1460572  2018-06-14      86399000  \n",
       "1460573  2018-06-14      86399000  \n",
       "1460574  2018-06-14      86399000  \n",
       "1460575  2018-06-14      86399000  \n",
       "1460576  2018-06-14      86399000  \n",
       "1460577  2018-06-14      86399000  \n",
       "1460578  2018-06-15             0  \n",
       "1460579  2018-06-15             0  \n",
       "1460580  2018-06-15             0  \n",
       "1460581  2018-06-15             0  \n",
       "1460582  2018-06-15             0  \n",
       "1460583  2018-06-15             0  \n",
       "1460584  2018-06-15             0  \n",
       "1460585  2018-06-15             0  \n",
       "1460586  2018-06-15             0  \n",
       "1460587  2018-06-15             0  \n",
       "1460588  2018-06-15             0  \n",
       "1460589  2018-06-15             0  \n",
       "1460590  2018-06-15             0  \n",
       "1460591  2018-06-15             0  \n",
       "1460592  2018-06-15             0  \n",
       "1460593  2018-06-15             0  \n",
       "1460594  2018-06-15             0  \n",
       "1460595  2018-06-15             0  \n",
       "1460596  2018-06-15             0  \n",
       "1460597  2018-06-15             0  \n",
       "1460598  2018-06-15             0  \n",
       "1460599  2018-06-15             0  \n",
       "\n",
       "[1460599 rows x 7 columns]"
      ]
     },
     "execution_count": 21,
     "metadata": {},
     "output_type": "execute_result"
    }
   ],
   "source": [
    "df\n"
   ]
  },
  {
   "cell_type": "code",
   "execution_count": null,
   "metadata": {},
   "outputs": [],
   "source": [
    "# raw_data['TimeStamp']=pd.to_datetime(raw_data['TimeStamp'], format='%M:%S.%f' )\n",
    "df.rename(columns={'bidTimeStamp':'TimeStamp'})"
   ]
  },
  {
   "cell_type": "code",
   "execution_count": 29,
   "metadata": {},
   "outputs": [],
   "source": [
    "def micro_price(df):\n",
    "    df['MicroPrice']=(df['bestAskPrice']*df['bestAskSize']+df['bestBidPrice']*df['bestBidSize'])/(df['bestAskSize']+df['bestBidSize'])\n",
    "    return df "
   ]
  },
  {
   "cell_type": "code",
   "execution_count": null,
   "metadata": {},
   "outputs": [],
   "source": [
    "# from StringIO import StringIO\n",
    "# in_ = StringIO()\n",
    "# in_.write(raw_data['TimeStamp'])\n",
    "# in_.seek(0)\n"
   ]
  },
  {
   "cell_type": "code",
   "execution_count": 31,
   "metadata": {},
   "outputs": [
    {
     "name": "stderr",
     "output_type": "stream",
     "text": [
      "/home/ak/virtualenvs/DataAnalysis/lib/python2.7/site-packages/ipykernel_launcher.py:2: SettingWithCopyWarning: \n",
      "A value is trying to be set on a copy of a slice from a DataFrame.\n",
      "Try using .loc[row_indexer,col_indexer] = value instead\n",
      "\n",
      "See the caveats in the documentation: http://pandas.pydata.org/pandas-docs/stable/indexing.html#indexing-view-versus-copy\n",
      "  \n"
     ]
    }
   ],
   "source": [
    "df=micro_price(df)"
   ]
  },
  {
   "cell_type": "code",
   "execution_count": 36,
   "metadata": {},
   "outputs": [
    {
     "name": "stderr",
     "output_type": "stream",
     "text": [
      "/home/ak/virtualenvs/DataAnalysis/lib/python2.7/site-packages/ipykernel_launcher.py:4: SettingWithCopyWarning: \n",
      "A value is trying to be set on a copy of a slice from a DataFrame.\n",
      "Try using .loc[row_indexer,col_indexer] = value instead\n",
      "\n",
      "See the caveats in the documentation: http://pandas.pydata.org/pandas-docs/stable/indexing.html#indexing-view-versus-copy\n",
      "  after removing the cwd from sys.path.\n"
     ]
    }
   ],
   "source": [
    "\n",
    "# raw_data['TimeStamp'].dt.time\n",
    "# raw_data['TimeStamp']=pd.to_datetime(raw_data['TimeStamp'])\n",
    "df['logRetMicroPrice']=returns(df.MicroPrice)\n",
    "df=df.dropna()"
   ]
  },
  {
   "cell_type": "code",
   "execution_count": 52,
   "metadata": {},
   "outputs": [
    {
     "data": {
      "text/plain": [
       "array(['bestBidSize', 'bestBidPrice', 'bestAskSize', 'bestAskPrice',\n",
       "       'TimeStamp', 'Date', 'milliSeconds', 'MicroPrice',\n",
       "       'logRetMicroPrice'], dtype=object)"
      ]
     },
     "execution_count": 52,
     "metadata": {},
     "output_type": "execute_result"
    }
   ],
   "source": [
    "# raw_data['milliSeconds']=[int(((x.hour*60 + x.minute)*60 + x.second)*1000) for x in raw_data['TimeStamp']]\n",
    "# raw_data['Duration']= raw_data['milliSeconds'].diff(1)\n",
    "# raw_data=raw_data.dropna()\n",
    "df.columns.values"
   ]
  },
  {
   "cell_type": "code",
   "execution_count": null,
   "metadata": {},
   "outputs": [],
   "source": [
    "# for x in range(raw_data.shape[0]):\n",
    "#     t= raw_data['TimeStamp'][x]\n",
    "#     print (t.hour*60 + t.minute)*60 + t.second "
   ]
  },
  {
   "cell_type": "code",
   "execution_count": 50,
   "metadata": {},
   "outputs": [
    {
     "data": {
      "image/png": "[encoded data removed]",
      "text/plain": [
       "<Figure size 1080x648 with 1 Axes>"
      ]
     },
     "metadata": {},
     "output_type": "display_data"
    }
   ],
   "source": [
    "from scipy.stats import norm\n",
    "x = np.linspace(np.min(df.logRetMicroPrice),np.max(df.logRetMicroPrice),1000)\n",
    "y = norm.pdf(x, loc=np.mean(df.logRetMicroPrice), scale=np.std(df.logRetMicroPrice))    # for example\n",
    "\n",
    "plt.figure(figsize=(15,9))\n",
    "sns.light_palette(\"navy\", reverse=True)\n",
    "#sns.set_palette(\"husl\")\n",
    "sns.color_palette(\"PuBuGn_d\")\n",
    "sns.set_context(\"talk\")\n",
    "sns.set(font_scale=1.2)\n",
    "sns.set_style(\"whitegrid\")\n",
    "ax=sns.distplot(df.logRetMicroPrice, label='TY1 Data')\n",
    "plt.plot(x,y, color='red',linestyle='--',label='Normal')\n",
    "ax.legend()\n",
    "plt.title('MicroPrice Log Returns')\n",
    "ax.tick_params(right=False, top=False)"
   ]
  },
  {
   "cell_type": "code",
   "execution_count": 54,
   "metadata": {},
   "outputs": [
    {
     "data": {
      "image/png": "[encoded data removed]",
      "text/plain": [
       "<Figure size 432x288 with 1 Axes>"
      ]
     },
     "metadata": {},
     "output_type": "display_data"
    }
   ],
   "source": [
    "mad = mad_outlier(df.MicroPrice.values.reshape(-1,1))\n",
    "_=sns.boxplot(df.loc[~mad].MicroPrice*100)"
   ]
  },
  {
   "cell_type": "code",
   "execution_count": 55,
   "metadata": {},
   "outputs": [
    {
     "name": "stderr",
     "output_type": "stream",
     "text": [
      "/home/ak/virtualenvs/DataAnalysis/lib/python2.7/site-packages/ipykernel_launcher.py:4: SettingWithCopyWarning: \n",
      "A value is trying to be set on a copy of a slice from a DataFrame.\n",
      "Try using .loc[row_indexer,col_indexer] = value instead\n",
      "\n",
      "See the caveats in the documentation: http://pandas.pydata.org/pandas-docs/stable/indexing.html#indexing-view-versus-copy\n",
      "  after removing the cwd from sys.path.\n",
      "/home/ak/virtualenvs/DataAnalysis/lib/python2.7/site-packages/ipykernel_launcher.py:6: SettingWithCopyWarning: \n",
      "A value is trying to be set on a copy of a slice from a DataFrame.\n",
      "Try using .loc[row_indexer,col_indexer] = value instead\n",
      "\n",
      "See the caveats in the documentation: http://pandas.pydata.org/pandas-docs/stable/indexing.html#indexing-view-versus-copy\n",
      "  \n"
     ]
    }
   ],
   "source": [
    "\n",
    "s1=df.bestAskSize\n",
    "s2=df.bestBidSize\n",
    "df['v']=pd.concat([s1, s2], axis=1).min(axis=1)\n",
    "# np.min(df.bestAskSize, df.bestBidPrice)\n",
    "df['dv']= df.v*df.MicroPrice"
   ]
  },
  {
   "cell_type": "code",
   "execution_count": 56,
   "metadata": {},
   "outputs": [
    {
     "name": "stdout",
     "output_type": "stream",
     "text": [
      "('num ticks:', 1460598)\n",
      "('volume ratio:', 1035.0)\n",
      "('dollar ratio:', 123568.0)\n"
     ]
    }
   ],
   "source": [
    "n_ticks = df.shape[0]\n",
    "volume_ratio = (df.v.sum()/n_ticks).round()\n",
    "dollar_ratio = (df.dv.sum()/n_ticks).round()\n",
    "print('num ticks:', n_ticks)\n",
    "print('volume ratio:', volume_ratio)\n",
    "print('dollar ratio:', dollar_ratio)"
   ]
  },
  {
   "cell_type": "code",
   "execution_count": 57,
   "metadata": {},
   "outputs": [
    {
     "name": "stderr",
     "output_type": "stream",
     "text": [
      " 22%|██▏       | 327403/1460598 [00:00<00:00, 3274001.90it/s]"
     ]
    },
    {
     "name": "stdout",
     "output_type": "stream",
     "text": [
      "('tick threshold:', 20)\n"
     ]
    },
    {
     "name": "stderr",
     "output_type": "stream",
     "text": [
      "100%|██████████| 1460598/1460598 [00:00<00:00, 3506939.55it/s]\n"
     ]
    },
    {
     "data": {
      "text/plain": [
       "[19, 39, 59, 79, 99, 119, 139, 159, 179, 199]"
      ]
     },
     "execution_count": 57,
     "metadata": {},
     "output_type": "execute_result"
    }
   ],
   "source": [
    "tick_M = 20 # arbitrary\n",
    "print('tick threshold:', tick_M)\n",
    "tidx = tick_bars(df, 'MicroPrice', tick_M)\n",
    "tidx[:10]\n",
    "\n"
   ]
  },
  {
   "cell_type": "code",
   "execution_count": 58,
   "metadata": {},
   "outputs": [
    {
     "name": "stderr",
     "output_type": "stream",
     "text": [
      "100%|██████████| 1460598/1460598 [00:00<00:00, 3527075.78it/s]\n"
     ]
    },
    {
     "data": {
      "text/plain": [
       "(73029, 11)"
      ]
     },
     "execution_count": 58,
     "metadata": {},
     "output_type": "execute_result"
    }
   ],
   "source": [
    "\n",
    "\n",
    "tick_df = tick_bar_df(df, 'MicroPrice', tick_M)\n",
    "tick_df.shape\n",
    "\n"
   ]
  },
  {
   "cell_type": "code",
   "execution_count": 59,
   "metadata": {},
   "outputs": [
    {
     "data": {
      "text/plain": [
       "((1000,), (1000,))"
      ]
     },
     "execution_count": 59,
     "metadata": {},
     "output_type": "execute_result"
    }
   ],
   "source": [
    "def select_sample_data(ref, sub, price_col, idx_1,idx_2):\n",
    "    '''\n",
    "    select a sample of data based on date, assumes datetimeindex\n",
    "    \n",
    "    # args\n",
    "        ref: pd.DataFrame containing all ticks\n",
    "        sub: subordinated pd.DataFrame of prices\n",
    "        price_col: str(), price column\n",
    "        date: str(), date to select\n",
    "    # returns\n",
    "        xdf: ref pd.Series\n",
    "        xtdf: subordinated pd.Series\n",
    "    '''\n",
    "    xdf = df[price_col].iloc[idx_1:idx_2]\n",
    "    xtdf = sub[price_col].iloc[idx_1:idx_2]\n",
    "    return xdf, xtdf\n",
    "\n",
    "## try different dates to see how the quantity of tick bars changes\n",
    "idx_1=0\n",
    "idx_2=1000\n",
    "xdf, xtdf = select_sample_data(df, tick_df, 'MicroPrice', idx_1,idx_2)\n",
    "\n",
    "xdf.shape, xtdf.shape"
   ]
  },
  {
   "cell_type": "code",
   "execution_count": 75,
   "metadata": {},
   "outputs": [
    {
     "data": {
      "text/plain": [
       "2    119.256628\n",
       "3    119.256436\n",
       "4    119.256371\n",
       "5    119.256366\n",
       "6    119.256373\n",
       "Name: MicroPrice, dtype: float64"
      ]
     },
     "execution_count": 75,
     "metadata": {},
     "output_type": "execute_result"
    }
   ],
   "source": [
    "# def plot_sample_data(ref, sub, bar_type, *args, **kwds):\n",
    "#     f,axes=plt.subplots(3,sharex=True, sharey=True, figsize=(10,7))\n",
    "#     ref.plot(*args, **kwds, ax=axes[0], label='price')\n",
    "#     sub.plot(*args, **kwds, ax=axes[0], marker='X', ls='', label=bar_type)\n",
    "#     axes[0].legend();\n",
    "    \n",
    "#     ref.plot(*args, **kwds, ax=axes[1], label='price', marker='o')\n",
    "#     sub.plot(*args, **kwds, ax=axes[2], ls='', marker='X',\n",
    "#              color='r', label=bar_type)\n",
    "\n",
    "#     for ax in axes[1:]: ax.legend()\n",
    "#     plt.tight_layout()\n",
    "    \n",
    "#     return\n",
    "\n",
    "# plot_sample_data(xdf, xtdf, 'tick bar', alpha=0.5, markersize=7)\n",
    "xdf.head()"
   ]
  },
  {
   "cell_type": "code",
   "execution_count": 90,
   "metadata": {},
   "outputs": [
    {
     "data": {
      "image/png": "[encoded data removed]",
      "text/plain": [
       "<Figure size 432x288 with 1 Axes>"
      ]
     },
     "metadata": {},
     "output_type": "display_data"
    },
    {
     "data": {
      "text/plain": [
       "<matplotlib.axes._subplots.AxesSubplot at 0x7fced2b80a90>"
      ]
     },
     "execution_count": 90,
     "metadata": {},
     "output_type": "execute_result"
    },
    {
     "data": {
      "image/png": "[encoded data removed]",
      "text/plain": [
       "<Figure size 432x288 with 1 Axes>"
      ]
     },
     "metadata": {},
     "output_type": "display_data"
    }
   ],
   "source": [
    "data = xdf\n",
    "\n",
    "sns.lineplot(data=data, palette=\"tab10\", linewidth=2.5)\n",
    "plt.show()\n",
    "sns.lineplot(data=xtdf,palette=\"tab25\",color='red',linestyle='-' ,linewidth=1.5)"
   ]
  },
  {
   "cell_type": "code",
   "execution_count": 74,
   "metadata": {},
   "outputs": [
    {
     "data": {
      "image/png": "[encoded data removed]",
      "text/plain": [
       "<Figure size 432x288 with 1 Axes>"
      ]
     },
     "metadata": {},
     "output_type": "display_data"
    },
    {
     "data": {
      "image/png": "[encoded data removed]",
      "text/plain": [
       "<Figure size 432x288 with 1 Axes>"
      ]
     },
     "metadata": {},
     "output_type": "display_data"
    }
   ],
   "source": [
    "bar_type='tick bar'\n",
    "# fig,axes=plt.subplots(3, figsize=(10,7))\n",
    "ref=xdf\n",
    "sub=xtdf\n",
    "ref.plot(color='blue',label='price')\n",
    "plt.show()\n",
    "sub.plot(color='red',label=bar_type)\n",
    "plt.show()\n"
   ]
  },
  {
   "cell_type": "markdown",
   "metadata": {},
   "source": []
  },
  {
   "cell_type": "code",
   "execution_count": null,
   "metadata": {},
   "outputs": [],
   "source": [
    "\n",
    "sns.distplot(sub)\n",
    "sns.distplot(ref)"
   ]
  },
  {
   "cell_type": "code",
   "execution_count": null,
   "metadata": {},
   "outputs": [],
   "source": [
    "def autocorr(x):\n",
    "    n = x.size\n",
    "    norm = (x - np.mean(x))\n",
    "    result = np.correlate(norm, norm, mode='same')\n",
    "    acorr = result[n//2 + 1:] / (x.var() * np.arange(n-1, n//2, -1))\n",
    "    lag = np.abs(acorr).argmax() + 1\n",
    "    r = acorr[lag-1]        \n",
    "    if np.abs(r) > 0.5:\n",
    "        print('Appears to be autocorrelated with r = {}, lag = {}'. format(r, lag))\n",
    "    else: \n",
    "        print('Appears to be not autocorrelated')\n",
    "    return r, lag\n"
   ]
  },
  {
   "cell_type": "code",
   "execution_count": null,
   "metadata": {},
   "outputs": [],
   "source": [
    "autocorr(df['microPrice'])"
   ]
  },
  {
   "cell_type": "code",
   "execution_count": null,
   "metadata": {},
   "outputs": [],
   "source": [
    "df['Sqrd_returns']=(df['returns']**2)*100"
   ]
  },
  {
   "cell_type": "code",
   "execution_count": null,
   "metadata": {},
   "outputs": [],
   "source": [
    "df['Sqrd_returns'].plot()"
   ]
  },
  {
   "cell_type": "code",
   "execution_count": 93,
   "metadata": {},
   "outputs": [
    {
     "ename": "ImportError",
     "evalue": "cannot import name lag_plot",
     "output_type": "error",
     "traceback": [
      "\u001b[0;31m----------------------------------\u001b[0m",
      "\u001b[0;31mImportError\u001b[0mTraceback (most recent call last)",
      "\u001b[0;32m<ipython-input-93-7a5056fd6f99>\u001b[0m in \u001b[0;36m<module>\u001b[0;34m()\u001b[0m\n\u001b[1;32m      1\u001b[0m \u001b[0;32mimport\u001b[0m \u001b[0mstatsmodels\u001b[0m \u001b[0;32mas\u001b[0m \u001b[0msts\u001b[0m\u001b[0;34m\u001b[0m\u001b[0m\n\u001b[1;32m      2\u001b[0m \u001b[0;31m# Importing lag_plot\u001b[0m\u001b[0;34m\u001b[0m\u001b[0;34m\u001b[0m\u001b[0m\n\u001b[0;32m----> 3\u001b[0;31m \u001b[0;32mfrom\u001b[0m \u001b[0mpandas\u001b[0m \u001b[0;32mimport\u001b[0m \u001b[0mlag_plot\u001b[0m\u001b[0;34m\u001b[0m\u001b[0m\n\u001b[0m\u001b[1;32m      4\u001b[0m \u001b[0;32mfrom\u001b[0m \u001b[0mpandas\u001b[0m \u001b[0;32mimport\u001b[0m \u001b[0mautocorrelation_plot\u001b[0m\u001b[0;34m\u001b[0m\u001b[0m\n",
      "\u001b[0;31mImportError\u001b[0m: cannot import name lag_plot"
     ]
    }
   ],
   "source": [
    "import statsmodels as sts\n",
    "# Importing lag_plot\n",
    "from pandas import lag_plot\n",
    "from pandas import autocorrelation_plot\n"
   ]
  },
  {
   "cell_type": "code",
   "execution_count": 98,
   "metadata": {},
   "outputs": [
    {
     "ename": "ImportError",
     "evalue": "cannot import name datetools",
     "output_type": "error",
     "traceback": [
      "\u001b[0;31m----------------------------------\u001b[0m",
      "\u001b[0;31mImportError\u001b[0mTraceback (most recent call last)",
      "\u001b[0;32m<ipython-input-98-b4c5134f9f26>\u001b[0m in \u001b[0;36m<module>\u001b[0;34m()\u001b[0m\n\u001b[1;32m      2\u001b[0m \u001b[0;34m\u001b[0m\u001b[0m\n\u001b[1;32m      3\u001b[0m \u001b[0;32mimport\u001b[0m \u001b[0mpandas\u001b[0m \u001b[0;32mas\u001b[0m \u001b[0mpd\u001b[0m\u001b[0;34m\u001b[0m\u001b[0m\n\u001b[0;32m----> 4\u001b[0;31m \u001b[0;32mfrom\u001b[0m \u001b[0mpandas\u001b[0m \u001b[0;32mimport\u001b[0m \u001b[0mdatetools\u001b[0m\u001b[0;34m\u001b[0m\u001b[0m\n\u001b[0m",
      "\u001b[0;31mImportError\u001b[0m: cannot import name datetools"
     ]
    }
   ],
   "source": [
    "series = df.MicroPrice\n",
    "\n",
    "import pandas as pd\n",
    "from pandas import datetools"
   ]
  },
  {
   "cell_type": "code",
   "execution_count": null,
   "metadata": {},
   "outputs": [],
   "source": [
    "# from statsmodels.graphics.tsaplots import plot_acf, plot_pacf\n",
    "# # plot_acf(series)\n",
    "# # plt.show()\n",
    "# # # plot_pacf(series)\n",
    "# # # plt.show()"
   ]
  },
  {
   "cell_type": "code",
   "execution_count": null,
   "metadata": {},
   "outputs": [],
   "source": [
    "sns.lmplot(x='microPrice', y='Sqrd_returns', data=df)\n",
    "#do calculation using high and low"
   ]
  },
  {
   "cell_type": "code",
   "execution_count": 99,
   "metadata": {},
   "outputs": [],
   "source": [
    "import powerlaw\n",
    "import mpmath"
   ]
  },
  {
   "cell_type": "code",
   "execution_count": null,
   "metadata": {},
   "outputs": [
    {
     "name": "stderr",
     "output_type": "stream",
     "text": [
      "Values less than or equal to 0 in data. Throwing out 0 or negative values\n",
      "Calculating best minimal value for power law fit\n",
      "/home/ak/virtualenvs/DataAnalysis/local/lib/python2.7/site-packages/powerlaw.py:700: RuntimeWarning: invalid value encountered in divide\n",
      "  (Theoretical_CDF * (1 - Theoretical_CDF))\n"
     ]
    }
   ],
   "source": [
    "fit_returns_discrete = powerlaw.Fit(df.logRetMicroPrice, discrete=False) \n",
    "# fitwolf = powerlaw.Fit(Wolfdata, discrete=True)"
   ]
  },
  {
   "cell_type": "code",
   "execution_count": null,
   "metadata": {},
   "outputs": [],
   "source": [
    "fit_returns_discrete"
   ]
  },
  {
   "cell_type": "code",
   "execution_count": null,
   "metadata": {},
   "outputs": [],
   "source": [
    "print(\"For the Generated Data\")\n",
    "print(\"Max Likelihood Estimate of Alpha: %5.3f\" % (fitgen.power_law.alpha)) \n",
    "cutoffString_gen = '{:,.2f}'.format(fitgen.power_law.xmin)  # I'm just formatting the output\n",
    "print(\"Cutoff value, xmin:  \"+cutoffString_gen)"
   ]
  }
 ],
 "metadata": {
  "kernelspec": {
   "display_name": "Python 2",
   "language": "python",
   "name": "python2"
  },
  "language_info": {
   "codemirror_mode": {
    "name": "ipython",
    "version": 2
   },
   "file_extension": ".py",
   "mimetype": "text/x-python",
   "name": "python",
   "nbconvert_exporter": "python",
   "pygments_lexer": "ipython2",
   "version": "2.7.15rc1"
  }
 },
 "nbformat": 4,
 "nbformat_minor": 2
}
