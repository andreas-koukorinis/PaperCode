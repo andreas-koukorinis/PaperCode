{
 "cells": [
  {
   "cell_type": "code",
   "execution_count": 1,
   "metadata": {},
   "outputs": [],
   "source": [
    "import datetime as dt\n",
    "\n",
    "from IPython.core.display import HTML, display\n",
    "import os\n",
    "def hide_code(auto=False):\n",
    "    \"\"\"\n",
    "    Provides a button to click to hide the code \n",
    "    \n",
    "    Parameters\n",
    "    ----------\n",
    "    auto: (boolean) whether to hide the code when this function is called\n",
    "\n",
    "    Notes\n",
    "    -----\n",
    "    Call the function at the end of a cell or\n",
    "    use the display function from IPython.core.display display the HTML\n",
    "    \"\"\"\n",
    "    auto_str = '//' if not auto else ''\n",
    "    return HTML('''<script>\n",
    "    code_show=true; \n",
    "    function code_toggle() {{\n",
    "     if (code_show){{\n",
    "     $('div.input').hide();\n",
    "     }} else {{\n",
    "     $('div.input').show();\n",
    "     }}\n",
    "     code_show = !code_show\n",
    "    }}\n",
    "    {auto}$(document).ready(code_toggle);\n",
    "    </script>\n",
    "    <a href=\"javascript:code_toggle()\">Code AK {year}</a>.'''.format(\n",
    "        auto=auto_str, year=dt.datetime.now().year))"
   ]
  },
  {
   "cell_type": "markdown",
   "metadata": {},
   "source": [
    "### 1.Analysing feature behaviour based on synthetic data"
   ]
  },
  {
   "cell_type": "code",
   "execution_count": 2,
   "metadata": {},
   "outputs": [],
   "source": [
    "\n",
    "import json\n",
    "import pandas as pd\n",
    "import numpy as np\n",
    "np.set_printoptions(precision=3, suppress=True)\n",
    "import os\n",
    "import matplotlib.pyplot as plt\n",
    "import pickle\n",
    "import matplotlib.pyplot as plt\n",
    "import seaborn as sns\n",
    "%matplotlib inline\n",
    "import seaborn as sns\n",
    "from mpl_toolkits.mplot3d import axes3d"
   ]
  },
  {
   "cell_type": "code",
   "execution_count": 52,
   "metadata": {},
   "outputs": [
    {
     "data": {
      "text/plain": [
       "['intradaydistribution.png',\n",
       " 'explore-proxy-vr.png',\n",
       " 'im_trace.png',\n",
       " 'determ_average_sequence.png',\n",
       " 'hmm-abc.f7.gnuplot',\n",
       " 'gaussian_example.png',\n",
       " 'hmm-abc.f4.gnuplot',\n",
       " 'gumbel_example.png',\n",
       " 'HeatMap_UpperTailDependence20120823.png',\n",
       " 'generativekernel1.png',\n",
       " 'JointPlot.png',\n",
       " 'SVR with epsilon.png',\n",
       " 'im_determinant.png',\n",
       " 'trellis_graph.synctex.gz(busy)',\n",
       " 'QQQKDEDurationDistos.png',\n",
       " 'JPYChronoDurationNonZeroPrcReturn.png',\n",
       " 'JPYACFNZTradeDurationTC.png',\n",
       " 'QQQScatterplot_TradeClock.png',\n",
       " 'tradevolGE.png',\n",
       " 'EEMKDEDurationDistos.png',\n",
       " 'EEMKDENonZrClock.png',\n",
       " 'frank_example.png',\n",
       " 'Price Trends.png',\n",
       " 'autocorrelationGE.png',\n",
       " 'determ_seq.png',\n",
       " 'hmm-abc.f5.gnuplot',\n",
       " 'hmm_large.png',\n",
       " 'features_dim.png',\n",
       " 'durationvolcompGE.png',\n",
       " 'simple_flowchart.aux',\n",
       " 'generative2.png',\n",
       " 'error_fischer_polar.png',\n",
       " 'EEMKACFVol.png',\n",
       " 'clayton_example.png',\n",
       " 'trellis_graph.tex',\n",
       " 'multiple_models.png',\n",
       " 'EEMKACFTClockDur.png',\n",
       " '10.png',\n",
       " 'Error_Trace.png',\n",
       " 'JPYChronoDurationZeroPrcReturn.png',\n",
       " 'trellis_graph.aux',\n",
       " 'EEMKACFTradDur.png',\n",
       " '01.png',\n",
       " 'hmm-abc.aux',\n",
       " 'volumeduration.png',\n",
       " 'durationcomparisonGE.png',\n",
       " 'states_across_days.png',\n",
       " 'fischer_polar_i_1.png',\n",
       " 'flow diagram.tex',\n",
       " 'JPYScatterplot_TradeClock.png',\n",
       " 'trace_multiple_slices.png',\n",
       " 'var_ratio_intra.png',\n",
       " 'Error_Gap.png',\n",
       " 'relative versus absolute momentum.png',\n",
       " 'tradevolnormGE.png',\n",
       " '00.png',\n",
       " 'svm.gif',\n",
       " 'learning_curves.png',\n",
       " 'PCA.aux',\n",
       " 'QQQDistributionDurations.png',\n",
       " 'price_change.png',\n",
       " 'acceleration_v_trend.png',\n",
       " 'EEMKACFTradRet.png',\n",
       " 'range_seq.png',\n",
       " 'EEMReturnDistos.png',\n",
       " 'fischer_polar_i_2.png',\n",
       " 'std_spread.png',\n",
       " 'HeatMap_UpperTailDependence20120614.png',\n",
       " 'QQQReturnDistos.png',\n",
       " 'dim_reduction.png',\n",
       " 'trend_acceleration.png',\n",
       " 'scatter_plot.png',\n",
       " 'im_spectral_gap.png',\n",
       " 'JPYDurationDistos.png',\n",
       " 'EEMKACFVCDur.png',\n",
       " 'fischer_polar_w_error.png',\n",
       " 'hurtst.png',\n",
       " 'statetransm.png',\n",
       " 'hmm-abc.f3.gnuplot',\n",
       " 'softmargin.png',\n",
       " 'hmm-abc.f2.gnuplot',\n",
       " 'hmm-abc.tex',\n",
       " 'JPYPriceReturnDistos.png',\n",
       " 'Screenshot from 2017-12-05 18:16:30.png',\n",
       " 'var_ratio_example.png',\n",
       " 'flow diagram.aux',\n",
       " 'variance_ratio.png',\n",
       " 'determ_copies.png',\n",
       " 'hmm-abc.f6.gnuplot',\n",
       " 'PCA.tex',\n",
       " 'QQQKACFVCDur.png',\n",
       " 'modified_range.png',\n",
       " 'ksi_determinant_distribution.png',\n",
       " 'DetXi_multiple_slices.png',\n",
       " 'QQQKDENonZrClock.png',\n",
       " 'hmm.png',\n",
       " 'EEMKDEZRPriceClocks.png',\n",
       " 'EEMScatterplot_TradeClock.png',\n",
       " 'hmm-abc.f1.gnuplot',\n",
       " 'simple_flowchart.tex',\n",
       " '11.png',\n",
       " 'QQQKDEZRPriceClocks.png',\n",
       " 'EEMKDEZRTwoClocks.png',\n",
       " 'violinGE.png',\n",
       " 'EEMDistributionDurations.png']"
      ]
     },
     "execution_count": 52,
     "metadata": {},
     "output_type": "execute_result"
    }
   ],
   "source": [
    "doc_path= ('/home/ak/Documents/Data/')\n",
    "figures_path= ('/home/ak/Documents/Research/Papers/figures/')\n",
    "os.listdir(figures_path)"
   ]
  },
  {
   "cell_type": "code",
   "execution_count": 3,
   "metadata": {},
   "outputs": [],
   "source": [
    "##helper functions for plotting##\n",
    "def plot_set(df):\n",
    "    for i in [1,5,10,100]:\n",
    "        x= np.asarray(df.iloc[:,10*i].expanding().mean())\n",
    "        plt.plot(x,linestyle='--', label =str(10*i)+'-slices')\n",
    "\n",
    "def plot_single_sequence(df, seq_no):\n",
    "    x= np.asarray(df.iloc[:,seq_no].index)\n",
    "    y=df.iloc[:,seq_no].expanding(10).mean()\n",
    "    error=y.expanding(seq_no).std()\n",
    "    plt.plot(x, y, 'k-',linewidth=0.9)\n",
    "    plt.fill_between(x, y-error, y+error, alpha=0.8, edgecolor='#1B2ACD', facecolor='#fff4f2',\n",
    "                         linewidth=0.4, linestyle='dashdot', antialiased=False)\n",
    "    \n",
    "    plt.legend([str(seq_no)+'-th time slice'])\n",
    "\n",
    "def plot_single_sequence_error(df, seq_no):\n",
    "    x= np.asarray(df.iloc[:,seq_no].index)\n",
    "    y=df.iloc[:,seq_no].expanding(1).mean()\n",
    "    error=y.expanding(seq_no).std()\n",
    "    plt.plot(x, error, linestyle='dashdot',linewidth=0.9, color='r')\n",
    "    plt.legend([str(seq_no)+'-th time slice '])"
   ]
  },
  {
   "cell_type": "markdown",
   "metadata": {},
   "source": [
    "## Two states with skewed transition matrix favouring one state and static parameters that are sufficiently apart. We create state sequences of fixed length and for every fixed length sequence we generate M copies of observation data from the observation distribution.¶\n"
   ]
  },
  {
   "cell_type": "code",
   "execution_count": 4,
   "metadata": {},
   "outputs": [
    {
     "data": {
      "text/plain": [
       "['fischer_polar_len10000states2.npy',\n",
       " 'fixed_states_len10000_states4.npy',\n",
       " 'im_metrics_len10000states3.npy',\n",
       " 'fischer_polar_10k_2s.npy',\n",
       " 'all_features_10k_2s.npy',\n",
       " 'fischer_polar_len10000states4.npy',\n",
       " 'ksi_metrics_10k_2s.npy',\n",
       " 'all_features.npy',\n",
       " 'fixed_states_len10000_states3.npy',\n",
       " 'ksi_metrics_len10000states3.npy',\n",
       " 'im_metrics_stats3.npy',\n",
       " 'all_features3.npy',\n",
       " 'predictions',\n",
       " 'fischer_polar_coords3.npy',\n",
       " 'ksi_metrics_len10000states2.npy',\n",
       " 'labels',\n",
       " 'im_metrics_len10000states2.npy',\n",
       " 'im_metrics_len10000states4.npy',\n",
       " 'models',\n",
       " 'ksi_metrics_len10000states4.npy',\n",
       " 'im_metrics_long_small.npy',\n",
       " 'im_metrics_10k_2s.npy',\n",
       " 'fixed_states3.npy',\n",
       " 'ksi_metrics_long_small.npy',\n",
       " 'fischer_polar_long_small.npy',\n",
       " 'fixed_states_len10000_states2.npy',\n",
       " 'features',\n",
       " 'fischer_polar_len10000states3.npy',\n",
       " 'ksi_metrics_stats3.npy']"
      ]
     },
     "execution_count": 4,
     "metadata": {},
     "output_type": "execute_result"
    }
   ],
   "source": [
    "ticker = 'SYNT_2states'\n",
    "main_path = '/home/ak/Data/features_models/'\n",
    "file_name = 'synthetic_study_' + str(ticker)\n",
    "os.listdir(main_path)"
   ]
  },
  {
   "cell_type": "code",
   "execution_count": 5,
   "metadata": {},
   "outputs": [
    {
     "data": {
      "text/plain": [
       "['fischer_polar_len10000states2.npy',\n",
       " 'ksi_metrics_len10000states2.npy',\n",
       " 'im_metrics_len10000states2.npy',\n",
       " 'fixed_states_len10000_states2.npy']"
      ]
     },
     "execution_count": 5,
     "metadata": {},
     "output_type": "execute_result"
    }
   ],
   "source": [
    "#search only for npy files+make a list --> will use this later\n",
    "npy_files=[s for s in os.listdir(main_path) if s.endswith('states2.npy')]\n",
    "npy_files"
   ]
  },
  {
   "cell_type": "code",
   "execution_count": 6,
   "metadata": {},
   "outputs": [
    {
     "data": {
      "text/plain": [
       "'fischer_polar_len10000states2.npy'"
      ]
     },
     "execution_count": 6,
     "metadata": {},
     "output_type": "execute_result"
    }
   ],
   "source": [
    "npy_files[0]"
   ]
  },
  {
   "cell_type": "code",
   "execution_count": 7,
   "metadata": {},
   "outputs": [
    {
     "data": {
      "text/plain": [
       "['spectral', 'determ', 'trace']"
      ]
     },
     "execution_count": 7,
     "metadata": {},
     "output_type": "execute_result"
    }
   ],
   "source": [
    "\n",
    "\n",
    "#load bot matrix and vector valued\n",
    "ksi_metrics =np.load(main_path+str(npy_files[1])).item()\n",
    "im_metrics =np.load(main_path+str(npy_files[2])).item()\n",
    "fischer_polar =np.load(main_path+str(npy_files[0]))\n",
    "states = np.load(main_path+str(npy_files[3]))\n",
    "\n",
    "dfs = [ksi_metrics, im_metrics, fischer_polar]\n",
    "metrics_keys=ksi_metrics.keys()\n",
    "metrics_keys\n"
   ]
  },
  {
   "cell_type": "code",
   "execution_count": 12,
   "metadata": {},
   "outputs": [
    {
     "data": {
      "text/plain": [
       "(3, 10000, 3)"
      ]
     },
     "execution_count": 12,
     "metadata": {},
     "output_type": "execute_result"
    }
   ],
   "source": [
    "\n",
    "#3 copies, #10k, #2states\n",
    "ksi_determinant =pd.DataFrame(ksi_metrics['determ'].T)\n",
    "fischer_polar.shape"
   ]
  },
  {
   "cell_type": "code",
   "execution_count": 11,
   "metadata": {},
   "outputs": [
    {
     "data": {
      "image/png": "[encoded data removed]",
      "text/plain": [
       "<Figure size 432x288 with 1 Axes>"
      ]
     },
     "metadata": {},
     "output_type": "display_data"
    }
   ],
   "source": [
    "\n",
    "i=1\n",
    "rho = pd.DataFrame(fischer_polar[i]).iloc[:,0].values\n",
    "phi1 = pd.DataFrame(fischer_polar[i]).iloc[:,1].values\n",
    "phi2 = pd.DataFrame(fischer_polar[i]).iloc[:,2].values\n",
    "fig = plt.figure()\n",
    "ax = fig.add_subplot(111, projection='3d')\n",
    "#shape: copies x sequence x number of inputs\n",
    "ax.scatter(rho, phi1, phi2)\n",
    "plt.show()"
   ]
  },
  {
   "cell_type": "code",
   "execution_count": null,
   "metadata": {},
   "outputs": [],
   "source": []
  },
  {
   "cell_type": "code",
   "execution_count": 13,
   "metadata": {
    "scrolled": true
   },
   "outputs": [],
   "source": [
    "k=0\n",
    "rho=pd.DataFrame(fischer_polar[k]).iloc[:,0].values\n",
    "phi_1=pd.DataFrame(fischer_polar[k]).iloc[:,1].values\n",
    "phi_2=pd.DataFrame(fischer_polar[k]).iloc[:,2].values\n",
    "\n"
   ]
  },
  {
   "cell_type": "code",
   "execution_count": 18,
   "metadata": {},
   "outputs": [
    {
     "data": {
      "image/png": "[encoded data removed]",
      "text/plain": [
       "<Figure size 432x288 with 1 Axes>"
      ]
     },
     "metadata": {},
     "output_type": "display_data"
    }
   ],
   "source": [
    "# fig = plt.figure()\n",
    "# ax = fig.add_subplot(111, projection='2d')\n",
    "#shape: copies x sequence x number of inputs\n",
    "plt.scatter(phi_1, phi_2)\n",
    "plt.show()"
   ]
  },
  {
   "cell_type": "code",
   "execution_count": null,
   "metadata": {},
   "outputs": [],
   "source": []
  },
  {
   "cell_type": "code",
   "execution_count": 20,
   "metadata": {},
   "outputs": [],
   "source": [
    "\n",
    "df_fischer['states']=states\n",
    "df_fischer_state0= df_fischer[df_fischer['states'] == 0]\n",
    "df_fischer_state1= df_fischer[df_fischer['states'] == 1]"
   ]
  },
  {
   "cell_type": "code",
   "execution_count": 37,
   "metadata": {},
   "outputs": [
    {
     "data": {
      "text/plain": [
       "6040"
      ]
     },
     "execution_count": 37,
     "metadata": {},
     "output_type": "execute_result"
    }
   ],
   "source": [
    "df_fischer_state0.shape[0]"
   ]
  },
  {
   "cell_type": "code",
   "execution_count": 54,
   "metadata": {},
   "outputs": [
    {
     "name": "stderr",
     "output_type": "stream",
     "text": [
      "/home/ak/virtualenvs/DataAnalysis/local/lib/python2.7/site-packages/matplotlib/axes/_axes.py:6462: UserWarning: The 'normed' kwarg is deprecated, and has been replaced by the 'density' kwarg.\n",
      "  warnings.warn(\"The 'normed' kwarg is deprecated, and has been \"\n"
     ]
    },
    {
     "data": {
      "image/png": "[encoded data removed]",
      "text/plain": [
       "<Figure size 432x288 with 1 Axes>"
      ]
     },
     "metadata": {},
     "output_type": "display_data"
    },
    {
     "name": "stderr",
     "output_type": "stream",
     "text": [
      "/home/ak/virtualenvs/DataAnalysis/local/lib/python2.7/site-packages/matplotlib/axes/_axes.py:6462: UserWarning: The 'normed' kwarg is deprecated, and has been replaced by the 'density' kwarg.\n",
      "  warnings.warn(\"The 'normed' kwarg is deprecated, and has been \"\n"
     ]
    },
    {
     "data": {
      "image/png": "[encoded data removed]",
      "text/plain": [
       "<Figure size 432x288 with 1 Axes>"
      ]
     },
     "metadata": {},
     "output_type": "display_data"
    }
   ],
   "source": [
    "k=1\n",
    "# Set up the matplotlib figure\n",
    "sns.despine(left=True)\n",
    "sns.distplot(df_fischer_state0[k], kde=True, color=\"b\")\n",
    "title_1 = 'Vector '+r'$\\phi_'+str(k)+'$ at state 1'\n",
    "plt.title('Distribution for State 1')\n",
    "plt.xlabel(title_1)\n",
    "plt.savefig(figures_path+title_1+'.png') \n",
    "plt.show()\n",
    "sns.distplot(df_fischer_state1[k], kde=True, color=\"r\")\n",
    "title_2 = 'Vector '+r'$\\phi_'+str(k)+'$ at state 2'\n",
    "plt.title('Distribution for State 2')\n",
    "plt.xlabel(title_2)\n",
    "plt.show()"
   ]
  },
  {
   "cell_type": "code",
   "execution_count": 54,
   "metadata": {},
   "outputs": [],
   "source": [
    "state1_phi1=pd.DataFrame(df_fischer_state0.iloc[:,1])\n",
    "state2_phi1=pd.DataFrame(df_fischer_state1.iloc[:,1])"
   ]
  },
  {
   "cell_type": "code",
   "execution_count": 55,
   "metadata": {},
   "outputs": [
    {
     "data": {
      "text/plain": [
       "(3960, 1)"
      ]
     },
     "execution_count": 55,
     "metadata": {},
     "output_type": "execute_result"
    }
   ],
   "source": [
    "state2_phi1.shape"
   ]
  },
  {
   "cell_type": "code",
   "execution_count": 29,
   "metadata": {},
   "outputs": [
    {
     "ename": "KeyError",
     "evalue": "'states'",
     "output_type": "error",
     "traceback": [
      "\u001b[0;31m---------------------------------------------------------------------------\u001b[0m",
      "\u001b[0;31mKeyError\u001b[0m                                  Traceback (most recent call last)",
      "\u001b[0;32m<ipython-input-29-f939b89435c9>\u001b[0m in \u001b[0;36m<module>\u001b[0;34m()\u001b[0m\n\u001b[1;32m      3\u001b[0m \u001b[0msns\u001b[0m\u001b[0;34m.\u001b[0m\u001b[0mset_style\u001b[0m\u001b[0;34m(\u001b[0m\u001b[0;34m'ticks'\u001b[0m\u001b[0;34m)\u001b[0m\u001b[0;34m\u001b[0m\u001b[0m\n\u001b[1;32m      4\u001b[0m \u001b[0;31m# sns.set(rc={'figure.figsize':(11.7,8.27)})\u001b[0m\u001b[0;34m\u001b[0m\u001b[0;34m\u001b[0m\u001b[0m\n\u001b[0;32m----> 5\u001b[0;31m \u001b[0mg\u001b[0m\u001b[0;34m=\u001b[0m\u001b[0msns\u001b[0m\u001b[0;34m.\u001b[0m\u001b[0mFacetGrid\u001b[0m\u001b[0;34m(\u001b[0m\u001b[0mdf\u001b[0m\u001b[0;34m,\u001b[0m \u001b[0mcol\u001b[0m \u001b[0;34m=\u001b[0m\u001b[0;34m\"states\"\u001b[0m\u001b[0;34m)\u001b[0m\u001b[0;34m\u001b[0m\u001b[0m\n\u001b[0m\u001b[1;32m      6\u001b[0m \u001b[0mg\u001b[0m\u001b[0;34m.\u001b[0m\u001b[0mmap\u001b[0m\u001b[0;34m(\u001b[0m\u001b[0msns\u001b[0m\u001b[0;34m.\u001b[0m\u001b[0mdistplot\u001b[0m\u001b[0;34m,\u001b[0m \u001b[0;36m2\u001b[0m\u001b[0;34m)\u001b[0m\u001b[0;34m;\u001b[0m\u001b[0;34m\u001b[0m\u001b[0m\n\u001b[1;32m      7\u001b[0m \u001b[0maxes\u001b[0m\u001b[0;34m=\u001b[0m\u001b[0mg\u001b[0m\u001b[0;34m.\u001b[0m\u001b[0maxes\u001b[0m\u001b[0;34m.\u001b[0m\u001b[0mflatten\u001b[0m\u001b[0;34m(\u001b[0m\u001b[0;34m)\u001b[0m\u001b[0;34m\u001b[0m\u001b[0m\n",
      "\u001b[0;32m/home/ak/virtualenvs/DataAnalysis/local/lib/python2.7/site-packages/seaborn/axisgrid.pyc\u001b[0m in \u001b[0;36m__init__\u001b[0;34m(self, data, row, col, hue, col_wrap, sharex, sharey, size, aspect, palette, row_order, col_order, hue_order, hue_kws, dropna, legend_out, despine, margin_titles, xlim, ylim, subplot_kws, gridspec_kws)\u001b[0m\n\u001b[1;32m    248\u001b[0m             \u001b[0mcol_names\u001b[0m \u001b[0;34m=\u001b[0m \u001b[0;34m[\u001b[0m\u001b[0;34m]\u001b[0m\u001b[0;34m\u001b[0m\u001b[0m\n\u001b[1;32m    249\u001b[0m         \u001b[0;32melse\u001b[0m\u001b[0;34m:\u001b[0m\u001b[0;34m\u001b[0m\u001b[0m\n\u001b[0;32m--> 250\u001b[0;31m             \u001b[0mcol_names\u001b[0m \u001b[0;34m=\u001b[0m \u001b[0mutils\u001b[0m\u001b[0;34m.\u001b[0m\u001b[0mcategorical_order\u001b[0m\u001b[0;34m(\u001b[0m\u001b[0mdata\u001b[0m\u001b[0;34m[\u001b[0m\u001b[0mcol\u001b[0m\u001b[0;34m]\u001b[0m\u001b[0;34m,\u001b[0m \u001b[0mcol_order\u001b[0m\u001b[0;34m)\u001b[0m\u001b[0;34m\u001b[0m\u001b[0m\n\u001b[0m\u001b[1;32m    251\u001b[0m \u001b[0;34m\u001b[0m\u001b[0m\n\u001b[1;32m    252\u001b[0m         \u001b[0;31m# Additional dict of kwarg -> list of values for mapping the hue var\u001b[0m\u001b[0;34m\u001b[0m\u001b[0;34m\u001b[0m\u001b[0m\n",
      "\u001b[0;32m/home/ak/virtualenvs/DataAnalysis/local/lib/python2.7/site-packages/pandas/core/frame.pyc\u001b[0m in \u001b[0;36m__getitem__\u001b[0;34m(self, key)\u001b[0m\n\u001b[1;32m   2683\u001b[0m             \u001b[0;32mreturn\u001b[0m \u001b[0mself\u001b[0m\u001b[0;34m.\u001b[0m\u001b[0m_getitem_multilevel\u001b[0m\u001b[0;34m(\u001b[0m\u001b[0mkey\u001b[0m\u001b[0;34m)\u001b[0m\u001b[0;34m\u001b[0m\u001b[0m\n\u001b[1;32m   2684\u001b[0m         \u001b[0;32melse\u001b[0m\u001b[0;34m:\u001b[0m\u001b[0;34m\u001b[0m\u001b[0m\n\u001b[0;32m-> 2685\u001b[0;31m             \u001b[0;32mreturn\u001b[0m \u001b[0mself\u001b[0m\u001b[0;34m.\u001b[0m\u001b[0m_getitem_column\u001b[0m\u001b[0;34m(\u001b[0m\u001b[0mkey\u001b[0m\u001b[0;34m)\u001b[0m\u001b[0;34m\u001b[0m\u001b[0m\n\u001b[0m\u001b[1;32m   2686\u001b[0m \u001b[0;34m\u001b[0m\u001b[0m\n\u001b[1;32m   2687\u001b[0m     \u001b[0;32mdef\u001b[0m \u001b[0m_getitem_column\u001b[0m\u001b[0;34m(\u001b[0m\u001b[0mself\u001b[0m\u001b[0;34m,\u001b[0m \u001b[0mkey\u001b[0m\u001b[0;34m)\u001b[0m\u001b[0;34m:\u001b[0m\u001b[0;34m\u001b[0m\u001b[0m\n",
      "\u001b[0;32m/home/ak/virtualenvs/DataAnalysis/local/lib/python2.7/site-packages/pandas/core/frame.pyc\u001b[0m in \u001b[0;36m_getitem_column\u001b[0;34m(self, key)\u001b[0m\n\u001b[1;32m   2690\u001b[0m         \u001b[0;31m# get column\u001b[0m\u001b[0;34m\u001b[0m\u001b[0;34m\u001b[0m\u001b[0m\n\u001b[1;32m   2691\u001b[0m         \u001b[0;32mif\u001b[0m \u001b[0mself\u001b[0m\u001b[0;34m.\u001b[0m\u001b[0mcolumns\u001b[0m\u001b[0;34m.\u001b[0m\u001b[0mis_unique\u001b[0m\u001b[0;34m:\u001b[0m\u001b[0;34m\u001b[0m\u001b[0m\n\u001b[0;32m-> 2692\u001b[0;31m             \u001b[0;32mreturn\u001b[0m \u001b[0mself\u001b[0m\u001b[0;34m.\u001b[0m\u001b[0m_get_item_cache\u001b[0m\u001b[0;34m(\u001b[0m\u001b[0mkey\u001b[0m\u001b[0;34m)\u001b[0m\u001b[0;34m\u001b[0m\u001b[0m\n\u001b[0m\u001b[1;32m   2693\u001b[0m \u001b[0;34m\u001b[0m\u001b[0m\n\u001b[1;32m   2694\u001b[0m         \u001b[0;31m# duplicate columns & possible reduce dimensionality\u001b[0m\u001b[0;34m\u001b[0m\u001b[0;34m\u001b[0m\u001b[0m\n",
      "\u001b[0;32m/home/ak/virtualenvs/DataAnalysis/local/lib/python2.7/site-packages/pandas/core/generic.pyc\u001b[0m in \u001b[0;36m_get_item_cache\u001b[0;34m(self, item)\u001b[0m\n\u001b[1;32m   2484\u001b[0m         \u001b[0mres\u001b[0m \u001b[0;34m=\u001b[0m \u001b[0mcache\u001b[0m\u001b[0;34m.\u001b[0m\u001b[0mget\u001b[0m\u001b[0;34m(\u001b[0m\u001b[0mitem\u001b[0m\u001b[0;34m)\u001b[0m\u001b[0;34m\u001b[0m\u001b[0m\n\u001b[1;32m   2485\u001b[0m         \u001b[0;32mif\u001b[0m \u001b[0mres\u001b[0m \u001b[0;32mis\u001b[0m \u001b[0mNone\u001b[0m\u001b[0;34m:\u001b[0m\u001b[0;34m\u001b[0m\u001b[0m\n\u001b[0;32m-> 2486\u001b[0;31m             \u001b[0mvalues\u001b[0m \u001b[0;34m=\u001b[0m \u001b[0mself\u001b[0m\u001b[0;34m.\u001b[0m\u001b[0m_data\u001b[0m\u001b[0;34m.\u001b[0m\u001b[0mget\u001b[0m\u001b[0;34m(\u001b[0m\u001b[0mitem\u001b[0m\u001b[0;34m)\u001b[0m\u001b[0;34m\u001b[0m\u001b[0m\n\u001b[0m\u001b[1;32m   2487\u001b[0m             \u001b[0mres\u001b[0m \u001b[0;34m=\u001b[0m \u001b[0mself\u001b[0m\u001b[0;34m.\u001b[0m\u001b[0m_box_item_values\u001b[0m\u001b[0;34m(\u001b[0m\u001b[0mitem\u001b[0m\u001b[0;34m,\u001b[0m \u001b[0mvalues\u001b[0m\u001b[0;34m)\u001b[0m\u001b[0;34m\u001b[0m\u001b[0m\n\u001b[1;32m   2488\u001b[0m             \u001b[0mcache\u001b[0m\u001b[0;34m[\u001b[0m\u001b[0mitem\u001b[0m\u001b[0;34m]\u001b[0m \u001b[0;34m=\u001b[0m \u001b[0mres\u001b[0m\u001b[0;34m\u001b[0m\u001b[0m\n",
      "\u001b[0;32m/home/ak/virtualenvs/DataAnalysis/local/lib/python2.7/site-packages/pandas/core/internals.pyc\u001b[0m in \u001b[0;36mget\u001b[0;34m(self, item, fastpath)\u001b[0m\n\u001b[1;32m   4113\u001b[0m \u001b[0;34m\u001b[0m\u001b[0m\n\u001b[1;32m   4114\u001b[0m             \u001b[0;32mif\u001b[0m \u001b[0;32mnot\u001b[0m \u001b[0misna\u001b[0m\u001b[0;34m(\u001b[0m\u001b[0mitem\u001b[0m\u001b[0;34m)\u001b[0m\u001b[0;34m:\u001b[0m\u001b[0;34m\u001b[0m\u001b[0m\n\u001b[0;32m-> 4115\u001b[0;31m                 \u001b[0mloc\u001b[0m \u001b[0;34m=\u001b[0m \u001b[0mself\u001b[0m\u001b[0;34m.\u001b[0m\u001b[0mitems\u001b[0m\u001b[0;34m.\u001b[0m\u001b[0mget_loc\u001b[0m\u001b[0;34m(\u001b[0m\u001b[0mitem\u001b[0m\u001b[0;34m)\u001b[0m\u001b[0;34m\u001b[0m\u001b[0m\n\u001b[0m\u001b[1;32m   4116\u001b[0m             \u001b[0;32melse\u001b[0m\u001b[0;34m:\u001b[0m\u001b[0;34m\u001b[0m\u001b[0m\n\u001b[1;32m   4117\u001b[0m                 \u001b[0mindexer\u001b[0m \u001b[0;34m=\u001b[0m \u001b[0mnp\u001b[0m\u001b[0;34m.\u001b[0m\u001b[0marange\u001b[0m\u001b[0;34m(\u001b[0m\u001b[0mlen\u001b[0m\u001b[0;34m(\u001b[0m\u001b[0mself\u001b[0m\u001b[0;34m.\u001b[0m\u001b[0mitems\u001b[0m\u001b[0;34m)\u001b[0m\u001b[0;34m)\u001b[0m\u001b[0;34m[\u001b[0m\u001b[0misna\u001b[0m\u001b[0;34m(\u001b[0m\u001b[0mself\u001b[0m\u001b[0;34m.\u001b[0m\u001b[0mitems\u001b[0m\u001b[0;34m)\u001b[0m\u001b[0;34m]\u001b[0m\u001b[0;34m\u001b[0m\u001b[0m\n",
      "\u001b[0;32m/home/ak/virtualenvs/DataAnalysis/local/lib/python2.7/site-packages/pandas/core/indexes/base.pyc\u001b[0m in \u001b[0;36mget_loc\u001b[0;34m(self, key, method, tolerance)\u001b[0m\n\u001b[1;32m   3063\u001b[0m                 \u001b[0;32mreturn\u001b[0m \u001b[0mself\u001b[0m\u001b[0;34m.\u001b[0m\u001b[0m_engine\u001b[0m\u001b[0;34m.\u001b[0m\u001b[0mget_loc\u001b[0m\u001b[0;34m(\u001b[0m\u001b[0mkey\u001b[0m\u001b[0;34m)\u001b[0m\u001b[0;34m\u001b[0m\u001b[0m\n\u001b[1;32m   3064\u001b[0m             \u001b[0;32mexcept\u001b[0m \u001b[0mKeyError\u001b[0m\u001b[0;34m:\u001b[0m\u001b[0;34m\u001b[0m\u001b[0m\n\u001b[0;32m-> 3065\u001b[0;31m                 \u001b[0;32mreturn\u001b[0m \u001b[0mself\u001b[0m\u001b[0;34m.\u001b[0m\u001b[0m_engine\u001b[0m\u001b[0;34m.\u001b[0m\u001b[0mget_loc\u001b[0m\u001b[0;34m(\u001b[0m\u001b[0mself\u001b[0m\u001b[0;34m.\u001b[0m\u001b[0m_maybe_cast_indexer\u001b[0m\u001b[0;34m(\u001b[0m\u001b[0mkey\u001b[0m\u001b[0;34m)\u001b[0m\u001b[0;34m)\u001b[0m\u001b[0;34m\u001b[0m\u001b[0m\n\u001b[0m\u001b[1;32m   3066\u001b[0m \u001b[0;34m\u001b[0m\u001b[0m\n\u001b[1;32m   3067\u001b[0m         \u001b[0mindexer\u001b[0m \u001b[0;34m=\u001b[0m \u001b[0mself\u001b[0m\u001b[0;34m.\u001b[0m\u001b[0mget_indexer\u001b[0m\u001b[0;34m(\u001b[0m\u001b[0;34m[\u001b[0m\u001b[0mkey\u001b[0m\u001b[0;34m]\u001b[0m\u001b[0;34m,\u001b[0m \u001b[0mmethod\u001b[0m\u001b[0;34m=\u001b[0m\u001b[0mmethod\u001b[0m\u001b[0;34m,\u001b[0m \u001b[0mtolerance\u001b[0m\u001b[0;34m=\u001b[0m\u001b[0mtolerance\u001b[0m\u001b[0;34m)\u001b[0m\u001b[0;34m\u001b[0m\u001b[0m\n",
      "\u001b[0;32mpandas/_libs/index.pyx\u001b[0m in \u001b[0;36mpandas._libs.index.IndexEngine.get_loc\u001b[0;34m()\u001b[0m\n",
      "\u001b[0;32mpandas/_libs/index.pyx\u001b[0m in \u001b[0;36mpandas._libs.index.IndexEngine.get_loc\u001b[0;34m()\u001b[0m\n",
      "\u001b[0;31mKeyError\u001b[0m: 'states'"
     ]
    },
    {
     "data": {
      "text/plain": [
       "<Figure size 3240x1728 with 0 Axes>"
      ]
     },
     "metadata": {},
     "output_type": "display_data"
    }
   ],
   "source": [
    "plt.figure(figsize=(45,24))\n",
    "df= pd.DataFrame(fischer_polar[0])\n",
    "sns.set_style('ticks')\n",
    "# sns.set(rc={'figure.figsize':(11.7,8.27)})\n",
    "g=sns.FacetGrid(df, col =\"states\")\n",
    "g.map(sns.distplot, 2);\n",
    "axes=g.axes.flatten()\n",
    "axes = g.axes.flatten()\n",
    "axes[0].set_title(\"State 0\")\n",
    "axes[0].set_ylabel(\"Frequency\")\n",
    "axes[0].set_xlabel(\"\")\n",
    "axes[1].set_title(\"State 1\")\n",
    "axes[1].set_xlabel(\"\")\n",
    "axes[0].set_xlim(2,)\n",
    "axes[1].set_xlim(2,)"
   ]
  },
  {
   "cell_type": "code",
   "execution_count": null,
   "metadata": {},
   "outputs": [],
   "source": []
  },
  {
   "cell_type": "code",
   "execution_count": null,
   "metadata": {},
   "outputs": [],
   "source": []
  },
  {
   "cell_type": "code",
   "execution_count": null,
   "metadata": {},
   "outputs": [],
   "source": []
  }
 ],
 "metadata": {
  "kernelspec": {
   "display_name": "Python 2",
   "language": "python",
   "name": "python2"
  },
  "language_info": {
   "codemirror_mode": {
    "name": "ipython",
    "version": 2
   },
   "file_extension": ".py",
   "mimetype": "text/x-python",
   "name": "python",
   "nbconvert_exporter": "python",
   "pygments_lexer": "ipython2",
   "version": "2.7.12"
  }
 },
 "nbformat": 4,
 "nbformat_minor": 2
}
