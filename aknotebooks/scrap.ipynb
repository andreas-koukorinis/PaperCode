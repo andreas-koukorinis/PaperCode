{
 "cells": [
  {
   "cell_type": "code",
   "execution_count": 3,
   "metadata": {},
   "outputs": [],
   "source": [
    "from sklearn.preprocessing import StandardScaler\n",
    "from sklearn.preprocessing import MinMaxScaler\n",
    "from sklearn.multiclass import OneVsRestClassifier\n",
    "import sys\n",
    "import os\n",
    "from sklearn import decomposition\n",
    "from sklearn.linear_model import LogisticRegression\n",
    "from sklearn import svm\n",
    "import pandas as pd\n",
    "\n",
    "from sklearn.externals import joblib\n",
    "# Added version check for recent scikit-learn 0.18 checksok ca\n",
    "from distutils.version import LooseVersion as Version\n",
    "import numpy as np\n",
    "from sklearn.metrics import accuracy_score, classification_report\n",
    "from sklearn.metrics import precision_recall_fscore_support \n",
    "\n",
    "from collections import OrderedDict\n",
    "import pickle \n",
    "from sklearn.svm import SVC # \"Support Vector Classifier\"\n",
    "from sklearn.decomposition import FastICA\n",
    "from sklearn.feature_selection import SelectKBest\n",
    "from sklearn.feature_selection import f_regression\n",
    "from sklearn.feature_selection import SelectPercentile, f_classif\n",
    "from sklearn.cross_validation import KFold\n",
    "from sklearn.cross_validation import cross_val_score\n",
    "from sklearn import preprocessing\n",
    "from sklearn.grid_search import GridSearchCV\n",
    "import matplotlib.pyplot as plt\n",
    "# from mpl_toolkits.mplot3d import Axes3D\n",
    "from math import sqrt\n",
    "from sklearn.datasets import make_circles\n",
    "import seaborn as sns\n",
    "import matplotlib.pyplot as plt\n",
    "import pylab as pl\n",
    "from sklearn.model_selection import train_test_split\n",
    "\n",
    "\n",
    "%matplotlib inline"
   ]
  },
  {
   "cell_type": "markdown",
   "metadata": {},
   "source": [
    "# paths###\n"
   ]
  },
  {
   "cell_type": "code",
   "execution_count": 31,
   "metadata": {},
   "outputs": [],
   "source": [
    "\n",
    "data_dir = os.getenv('FINANCE_DATA')  # main directory referenced in all the code\n",
    "findata_only = '/mnt/usb-Seagate_Expansion_Desk_NA8XEHR6-0:0-part2/FinData/'  # external date only drive\n",
    "raw_crypto_data = '/mnt/usb-Seagate_Expansion_Desk_NA8XEHR6-0:0-part2/Data/crypto/LOB/BTCUSD.PERP.BMEX/'\n",
    "csv_files=[s for s in os.listdir(raw_crypto_data) if s.endswith('.csv')]\n",
    "# trades=[s for s in os.listdir(data_only_drive) if s.endswith('trades')]\n"
   ]
  },
  {
   "cell_type": "code",
   "execution_count": 12,
   "metadata": {},
   "outputs": [
    {
     "name": "stderr",
     "output_type": "stream",
     "text": [
      "/home/ak/virtualenvs/DataAnalysis/local/lib/python2.7/site-packages/IPython/core/interactiveshell.py:2714: DtypeWarning: Columns (2) have mixed types. Specify dtype option on import or set low_memory=False.\n",
      "  interactivity=interactivity, compiler=compiler, result=result)\n"
     ]
    }
   ],
   "source": [
    "csv_files_idx=1\n",
    "# for csv_idx,_ in enumerate(csv_files):\n",
    "\n",
    "csv_loc = \"/\".join((raw_crypto_data,csv_files[csv_files_idx]))\n",
    "raw_data=pd.read_csv(csv_loc)"
   ]
  },
  {
   "cell_type": "code",
   "execution_count": 25,
   "metadata": {},
   "outputs": [],
   "source": [
    "df_test=raw_data.head(5)\n",
    "# raw_data['TimeStamp']=pd.to_datetime(raw_data['happened_at'], format='%M:%S.%f' )"
   ]
  },
  {
   "cell_type": "code",
   "execution_count": 24,
   "metadata": {},
   "outputs": [],
   "source": [
    "from dateutil.parser import parse "
   ]
  },
  {
   "cell_type": "code",
   "execution_count": 28,
   "metadata": {},
   "outputs": [
    {
     "name": "stderr",
     "output_type": "stream",
     "text": [
      "/home/ak/virtualenvs/DataAnalysis/lib/python2.7/site-packages/ipykernel_launcher.py:1: SettingWithCopyWarning: \n",
      "A value is trying to be set on a copy of a slice from a DataFrame.\n",
      "Try using .loc[row_indexer,col_indexer] = value instead\n",
      "\n",
      "See the caveats in the documentation: http://pandas.pydata.org/pandas-docs/stable/indexing.html#indexing-view-versus-copy\n",
      "  \"\"\"Entry point for launching an IPython kernel.\n"
     ]
    }
   ],
   "source": [
    "df_test['timestamp']=pd.to_datetime(df_test['happened_at'])"
   ]
  },
  {
   "cell_type": "code",
   "execution_count": 34,
   "metadata": {},
   "outputs": [
    {
     "name": "stderr",
     "output_type": "stream",
     "text": [
      "/home/ak/virtualenvs/DataAnalysis/lib/python2.7/site-packages/ipykernel_launcher.py:1: SettingWithCopyWarning: \n",
      "A value is trying to be set on a copy of a slice from a DataFrame.\n",
      "Try using .loc[row_indexer,col_indexer] = value instead\n",
      "\n",
      "See the caveats in the documentation: http://pandas.pydata.org/pandas-docs/stable/indexing.html#indexing-view-versus-copy\n",
      "  \"\"\"Entry point for launching an IPython kernel.\n",
      "/home/ak/virtualenvs/DataAnalysis/lib/python2.7/site-packages/ipykernel_launcher.py:2: SettingWithCopyWarning: \n",
      "A value is trying to be set on a copy of a slice from a DataFrame.\n",
      "Try using .loc[row_indexer,col_indexer] = value instead\n",
      "\n",
      "See the caveats in the documentation: http://pandas.pydata.org/pandas-docs/stable/indexing.html#indexing-view-versus-copy\n",
      "  \n"
     ]
    }
   ],
   "source": [
    "df_test['time']=df_test['timestamp'].dt.time\n",
    "df_test['date']=df_test['timestamp'].dt.date"
   ]
  },
  {
   "cell_type": "code",
   "execution_count": 36,
   "metadata": {},
   "outputs": [
    {
     "name": "stderr",
     "output_type": "stream",
     "text": [
      "/home/ak/virtualenvs/DataAnalysis/lib/python2.7/site-packages/ipykernel_launcher.py:1: SettingWithCopyWarning: \n",
      "A value is trying to be set on a copy of a slice from a DataFrame.\n",
      "Try using .loc[row_indexer,col_indexer] = value instead\n",
      "\n",
      "See the caveats in the documentation: http://pandas.pydata.org/pandas-docs/stable/indexing.html#indexing-view-versus-copy\n",
      "  \"\"\"Entry point for launching an IPython kernel.\n"
     ]
    }
   ],
   "source": [
    "df_test['milliSeconds']=[int(((x.hour*60 + x.minute)*60 + x.second)*1000) for x in df_test['time']]"
   ]
  },
  {
   "cell_type": "code",
   "execution_count": 38,
   "metadata": {},
   "outputs": [
    {
     "data": {
      "text/plain": [
       "array(['status', 'fair', 'happened_at', 'BIDPRC1', 'BIDSIZE1', 'ASKPRC1',\n",
       "       'ASKSIZE1', 'BIDPRC2', 'BIDSIZE2', 'ASKPRC2', 'ASKSIZE2',\n",
       "       'BIDPRC3', 'BIDSIZE3', 'ASKPRC3', 'ASKSIZE3', 'BIDPRC4',\n",
       "       'BIDSIZE4', 'ASKPRC4', 'ASKSIZE4', 'BIDPRC5', 'BIDSIZE5',\n",
       "       'ASKPRC5', 'ASKSIZE5', 'BIDPRC6', 'BIDSIZE6', 'ASKPRC6',\n",
       "       'ASKSIZE6', 'timestamp', 'time', 'date', 'milliSeconds'],\n",
       "      dtype=object)"
      ]
     },
     "execution_count": 38,
     "metadata": {},
     "output_type": "execute_result"
    }
   ],
   "source": [
    "df_test.columns.values"
   ]
  },
  {
   "cell_type": "code",
   "execution_count": 43,
   "metadata": {},
   "outputs": [],
   "source": [
    "df_2=pd.DataFrame()\n",
    "df_2[['BID','BIDSIZE','ASK','ASKSIZE']]=df_test[['BIDPRC1', 'BIDSIZE1', 'ASKPRC1',\n",
    "       'ASKSIZE1']]"
   ]
  },
  {
   "cell_type": "code",
   "execution_count": 45,
   "metadata": {},
   "outputs": [],
   "source": [
    "df_2.drop('BID', axis=1, inplace=True)"
   ]
  },
  {
   "cell_type": "code",
   "execution_count": 50,
   "metadata": {},
   "outputs": [],
   "source": [
    "csv_files=[s for s in os.listdir(raw_crypto_data) if s.endswith('.csv')]\n",
    "# for csv_files_idx, csv_date in enumerate(csv_files):\n",
    "csv_files_idx=1\n",
    "csv_loc = \"/\".join((raw_crypto_data,csv_files[csv_files_idx]))\n",
    "raw_data=pd.read_csv(csv_loc)\n"
   ]
  },
  {
   "cell_type": "code",
   "execution_count": 57,
   "metadata": {},
   "outputs": [],
   "source": [
    "clean_df=pd.DataFrame()\n",
    "clean_df[['happened_at','bestBidPrice','bestBidSize','bestAskPrice','bestAskSize']]=raw_data[['happened_at','BIDPRC1', 'BIDSIZE1', 'ASKPRC1',\n",
    "       'ASKSIZE1']]\n"
   ]
  },
  {
   "cell_type": "code",
   "execution_count": 58,
   "metadata": {},
   "outputs": [],
   "source": [
    "clean_df['timestamp']=pd.to_datetime(clean_df['happened_at'])\n",
    "clean_df['time']=clean_df['timestamp'].dt.time\n",
    "clean_df['date']=clean_df['timestamp'].dt.date\n",
    "clean_df['milliSeconds']=[(((x.hour*60 + x.minute)*60 + x.second)*1000) for x in clean_df['time']]\n",
    "clean_df.drop('happened_at', axis=1, inplace=True)"
   ]
  },
  {
   "cell_type": "code",
   "execution_count": 59,
   "metadata": {},
   "outputs": [],
   "source": [
    "clean_df['duration']=clean_df.milliSeconds.diff(1)"
   ]
  },
  {
   "cell_type": "code",
   "execution_count": 60,
   "metadata": {},
   "outputs": [],
   "source": [
    "clean_df['MicroPrice']=(clean_df['bestAskPrice']*clean_df['bestAskSize']+clean_df['bestBidPrice']*clean_df['bestBidSize'])/(clean_df['bestAskSize']+clean_df['bestBidSize'])"
   ]
  },
  {
   "cell_type": "code",
   "execution_count": 67,
   "metadata": {},
   "outputs": [
    {
     "name": "stderr",
     "output_type": "stream",
     "text": [
      "/home/ak/virtualenvs/DataAnalysis/lib/python2.7/site-packages/ipykernel_launcher.py:1: SettingWithCopyWarning: \n",
      "A value is trying to be set on a copy of a slice from a DataFrame.\n",
      "Try using .loc[row_indexer,col_indexer] = value instead\n",
      "\n",
      "See the caveats in the documentation: http://pandas.pydata.org/pandas-docs/stable/indexing.html#indexing-view-versus-copy\n",
      "  \"\"\"Entry point for launching an IPython kernel.\n"
     ]
    }
   ],
   "source": [
    "clean_df['MicroPriceReturns']=clean_df.MicroPrice.pct_change()\n",
    "clean_df=clean_df.dropna()"
   ]
  },
  {
   "cell_type": "code",
   "execution_count": 69,
   "metadata": {},
   "outputs": [
    {
     "data": {
      "text/plain": [
       "(18811228, 11)"
      ]
     },
     "execution_count": 69,
     "metadata": {},
     "output_type": "execute_result"
    }
   ],
   "source": [
    "clean_df.shape"
   ]
  },
  {
   "cell_type": "code",
   "execution_count": null,
   "metadata": {},
   "outputs": [],
   "source": [
    "import seaborn as sns\n",
    "import matplotlib.pyplot as plt\n",
    "import statsmodels"
   ]
  },
  {
   "cell_type": "code",
   "execution_count": 2,
   "metadata": {},
   "outputs": [],
   "source": [
    "def off_set(array_1, array_2):\n",
    "    off_set= len(array_1)-len(array_2)\n",
    "    return off_set\n",
    "\n",
    "def simpleInputs(_X,_y):\n",
    "    _offset =np.abs(off_set(_X,_y))\n",
    "    if _offset==0:\n",
    "        X = _X.as_matrix().astype(np.float)\n",
    "        y=_y.astype(np.int)\n",
    "    else:\n",
    "        X= _X[:-_offset].as_matrix().astype(np.float)\n",
    "        y = _y.astype(np.int)\n",
    "    return X, y\n",
    "def ensure_dir(file_path): #ensure a dictory exists otherwise create it\n",
    "    if not os.path.exists(file_path):\n",
    "        os.makedirs(file_path)\n",
    "        print('New Directory Created',file_path)\n",
    "    else:\n",
    "        print('Directory Exists!check')\n"
   ]
  },
  {
   "cell_type": "code",
   "execution_count": 3,
   "metadata": {},
   "outputs": [],
   "source": [
    "##useful functions##\n",
    "def listdirs(folder): #return only directories from a master folder\n",
    "    return [d for d in os.listdir(folder) if os.path.isdir(os.path.join(folder, d))]"
   ]
  },
  {
   "cell_type": "code",
   "execution_count": 10,
   "metadata": {},
   "outputs": [
    {
     "name": "stdout",
     "output_type": "stream",
     "text": [
      "Directory Exists!check\n",
      "Directory Exists!check\n",
      "Directory Exists!check\n",
      "('New Directory Created', '/home/ak/Documents/Data/features_models/models/BAR')\n",
      "Directory Exists!check\n",
      "Directory Exists!check\n",
      "Directory Exists!check\n",
      "Directory Exists!check\n",
      "Directory Exists!check\n",
      "Directory Exists!check\n",
      "Directory Exists!check\n",
      "Directory Exists!check\n",
      "Directory Exists!check\n",
      "Directory Exists!check\n",
      "Directory Exists!check\n"
     ]
    }
   ],
   "source": [
    "symbols_ftse= ['DMG','ECM','CPG','BAR','STAN','LAN','SGE','SDR','SSE','BT.','CCL','WPP','AZN','KGF','ISF']\n",
    "###ticker###\n",
    " #enter symbol you want - this will be made for various\n",
    "for ticker in symbols_ftse:\n",
    "    model_ticker_path =os.path.join(_models_+'/'+ticker)\n",
    "    ensure_dir(model_ticker_path)\n",
    "# os.listdir(model_ticker_path)\n"
   ]
  },
  {
   "cell_type": "code",
   "execution_count": 11,
   "metadata": {},
   "outputs": [
    {
     "data": {
      "text/plain": [
       "'/home/ak/Documents/Data/features_models/models/ISF'"
      ]
     },
     "execution_count": 11,
     "metadata": {},
     "output_type": "execute_result"
    }
   ],
   "source": [
    "os.path.join(_models_,ticker)"
   ]
  },
  {
   "cell_type": "code",
   "execution_count": 13,
   "metadata": {},
   "outputs": [],
   "source": [
    "###############\n",
    "with open(_pkl_path + ticker+'_features.pickle', 'rb') as handle:\n",
    "    ticker_features_ = pickle.load(handle)\n",
    "with open(_pkl_path + ticker+'_labelled_data.pickle', 'rb') as handle:\n",
    "    ticker_labelled_data_ = pickle.load(handle)\n",
    "_dates = ticker_labelled_data_.keys()   \n"
   ]
  },
  {
   "cell_type": "code",
   "execution_count": null,
   "metadata": {
    "collapsed": true
   },
   "outputs": [],
   "source": [
    "X.shape[1]"
   ]
  },
  {
   "cell_type": "code",
   "execution_count": 54,
   "metadata": {},
   "outputs": [],
   "source": [
    "def to_table(report): \n",
    "    report = report.splitlines() \n",
    "    res = [] \n",
    "    res.append(['']+report[0].split()) \n",
    "    for row in report[2:-2]: \n",
    "        res.append(row.split()) \n",
    "        lr = report[-1].split() \n",
    "        res.append([' '.join(lr[:3])]+lr[3:]) \n",
    "        return np.array(res)"
   ]
  },
  {
   "cell_type": "code",
   "execution_count": 57,
   "metadata": {},
   "outputs": [
    {
     "data": {
      "text/html": [
       "<div>\n",
       "<style scoped>\n",
       "    .dataframe tbody tr th:only-of-type {\n",
       "        vertical-align: middle;\n",
       "    }\n",
       "\n",
       "    .dataframe tbody tr th {\n",
       "        vertical-align: top;\n",
       "    }\n",
       "\n",
       "    .dataframe thead th {\n",
       "        text-align: right;\n",
       "    }\n",
       "</style>\n",
       "<table border=\"1\" class=\"dataframe\">\n",
       "  <thead>\n",
       "    <tr style=\"text-align: right;\">\n",
       "      <th></th>\n",
       "      <th>0</th>\n",
       "      <th>1</th>\n",
       "      <th>2</th>\n",
       "      <th>3</th>\n",
       "      <th>4</th>\n",
       "    </tr>\n",
       "  </thead>\n",
       "  <tbody>\n",
       "    <tr>\n",
       "      <th>0</th>\n",
       "      <td></td>\n",
       "      <td>precision</td>\n",
       "      <td>recall</td>\n",
       "      <td>f1-score</td>\n",
       "      <td>support</td>\n",
       "    </tr>\n",
       "    <tr>\n",
       "      <th>1</th>\n",
       "      <td>-1</td>\n",
       "      <td>0.99</td>\n",
       "      <td>0.04</td>\n",
       "      <td>0.07</td>\n",
       "      <td>7081</td>\n",
       "    </tr>\n",
       "    <tr>\n",
       "      <th>2</th>\n",
       "      <td>avg / total</td>\n",
       "      <td>0.76</td>\n",
       "      <td>0.38</td>\n",
       "      <td>0.24</td>\n",
       "      <td>11058</td>\n",
       "    </tr>\n",
       "  </tbody>\n",
       "</table>\n",
       "</div>"
      ],
      "text/plain": [
       "             0          1       2         3        4\n",
       "0               precision  recall  f1-score  support\n",
       "1           -1       0.99    0.04      0.07     7081\n",
       "2  avg / total       0.76    0.38      0.24    11058"
      ]
     },
     "execution_count": 57,
     "metadata": {},
     "output_type": "execute_result"
    }
   ],
   "source": [
    "pd.DataFrame(to_table(class_report))"
   ]
  },
  {
   "cell_type": "code",
   "execution_count": 59,
   "metadata": {},
   "outputs": [
    {
     "name": "stdout",
     "output_type": "stream",
     "text": [
      "[0.99, 0.04, 0.07]\n",
      "[0.37, 1.0, 0.54]\n",
      "plotMat: [[0.99, 0.04, 0.07], [0.37, 1.0, 0.54]]\n",
      "support: [7081, 3977]\n"
     ]
    },
    {
     "data": {
      "image/png": "[encoded data removed]",
      "text/plain": [
       "<matplotlib.figure.Figure at 0x7f9ee5a5e6d0>"
      ]
     },
     "metadata": {},
     "output_type": "display_data"
    }
   ],
   "source": [
    "plot_classification_report(class_report)"
   ]
  },
  {
   "cell_type": "code",
   "execution_count": 80,
   "metadata": {},
   "outputs": [],
   "source": [
    "\n",
    "import pandas as pd \n",
    "\n",
    "report = pd.DataFrame(list(precision_recall_fscore_support(y_cc, y_predict)), index=['Precision', 'Recall', 'F1-score', 'Support']).T # Now add the 'Avg/Total' row report.loc['Avg/Total', :] = precision_recall_fscore_support(y_true, y_test, average='weighted') report.loc['Avg/Total', 'Support'] = report['Support'].sum()\n"
   ]
  },
  {
   "cell_type": "code",
   "execution_count": 93,
   "metadata": {},
   "outputs": [],
   "source": [
    "\n",
    "#Now add the 'Avg/Total' row \n",
    "report.loc['Avg/Total', :] = precision_recall_fscore_support(y_cc, y_predict, average='weighted') \n",
    "\n",
    "report.loc['Avg/Total', 'Support'] = report['Support'].sum()\n",
    "\n",
    "type(report)\n",
    "report.to_csv('/home/ak/Documents/'+'crap.csv')"
   ]
  },
  {
   "cell_type": "code",
   "execution_count": 94,
   "metadata": {},
   "outputs": [
    {
     "data": {
      "text/plain": [
       "'/home/ak/Documents/Research/QFPaper/aknotebooks'"
      ]
     },
     "execution_count": 94,
     "metadata": {},
     "output_type": "execute_result"
    }
   ],
   "source": [
    "os.getcwd()"
   ]
  },
  {
   "cell_type": "code",
   "execution_count": 95,
   "metadata": {},
   "outputs": [
    {
     "data": {
      "text/html": [
       "<div>\n",
       "<style scoped>\n",
       "    .dataframe tbody tr th:only-of-type {\n",
       "        vertical-align: middle;\n",
       "    }\n",
       "\n",
       "    .dataframe tbody tr th {\n",
       "        vertical-align: top;\n",
       "    }\n",
       "\n",
       "    .dataframe thead th {\n",
       "        text-align: right;\n",
       "    }\n",
       "</style>\n",
       "<table border=\"1\" class=\"dataframe\">\n",
       "  <thead>\n",
       "    <tr style=\"text-align: right;\">\n",
       "      <th></th>\n",
       "      <th>Unnamed: 0</th>\n",
       "      <th>Precision</th>\n",
       "      <th>Recall</th>\n",
       "      <th>F1-score</th>\n",
       "      <th>Support</th>\n",
       "    </tr>\n",
       "  </thead>\n",
       "  <tbody>\n",
       "    <tr>\n",
       "      <th>0</th>\n",
       "      <td>0</td>\n",
       "      <td>0.985612</td>\n",
       "      <td>0.038695</td>\n",
       "      <td>0.074467</td>\n",
       "      <td>7081.0</td>\n",
       "    </tr>\n",
       "    <tr>\n",
       "      <th>1</th>\n",
       "      <td>1</td>\n",
       "      <td>0.368553</td>\n",
       "      <td>0.998994</td>\n",
       "      <td>0.538456</td>\n",
       "      <td>3977.0</td>\n",
       "    </tr>\n",
       "    <tr>\n",
       "      <th>2</th>\n",
       "      <td>Avg/Total</td>\n",
       "      <td>0.763687</td>\n",
       "      <td>0.384066</td>\n",
       "      <td>0.241340</td>\n",
       "      <td>11058.0</td>\n",
       "    </tr>\n",
       "  </tbody>\n",
       "</table>\n",
       "</div>"
      ],
      "text/plain": [
       "  Unnamed: 0  Precision    Recall  F1-score  Support\n",
       "0          0   0.985612  0.038695  0.074467   7081.0\n",
       "1          1   0.368553  0.998994  0.538456   3977.0\n",
       "2  Avg/Total   0.763687  0.384066  0.241340  11058.0"
      ]
     },
     "execution_count": 95,
     "metadata": {},
     "output_type": "execute_result"
    }
   ],
   "source": [
    "pd.read_csv('/home/ak/Documents/'+'crap.csv')"
   ]
  },
  {
   "cell_type": "code",
   "execution_count": 4,
   "metadata": {},
   "outputs": [],
   "source": [
    "symbols_ftse= ['RB','CPI','AAL','CNA','VOD',\n",
    "                'RSA','GKN','ECM','CRH','III','HSB','REL','PRU','RTO',\n",
    "                'UU.','NG.','TSC','CEY','SBR','SDR','STAN','LAN']\n"
   ]
  },
  {
   "cell_type": "code",
   "execution_count": 52,
   "metadata": {},
   "outputs": [],
   "source": [
    "ticker ='CPI'\n",
    "ticker_predictions_path_ = os.path.join(_predictions_, ticker)\n",
    "files_ =os.listdir(ticker_predictions_path_)\n",
    "with open(_pkl_path + ticker+'_labelled_data.pickle', 'rb') as handle:\n",
    "    ticker_labelled_data_ = pickle.load(handle)\n",
    "_dates = ticker_labelled_data_.keys()   \n",
    "files_[0]\n",
    "file_form=ticker+'_'+_dates[3]+'_class_report.csv'\n",
    "_L=len(_dates)"
   ]
  },
  {
   "cell_type": "code",
   "execution_count": 53,
   "metadata": {},
   "outputs": [
    {
     "ename": "TypeError",
     "evalue": "unhashable type",
     "output_type": "error",
     "traceback": [
      "\u001B[0;31m---------------------------------------------------------------------------\u001B[0m",
      "\u001B[0;31mTypeError\u001B[0m                                 Traceback (most recent call last)",
      "\u001B[0;32m<ipython-input-53-48157915beb4>\u001B[0m in \u001B[0;36m<module>\u001B[0;34m()\u001B[0m\n\u001B[1;32m      4\u001B[0m     \u001B[0mfile_form\u001B[0m\u001B[0;34m=\u001B[0m\u001B[0mticker\u001B[0m\u001B[0;34m+\u001B[0m\u001B[0;34m'_'\u001B[0m\u001B[0;34m+\u001B[0m\u001B[0m_dates\u001B[0m\u001B[0;34m[\u001B[0m\u001B[0;36m3\u001B[0m\u001B[0;34m]\u001B[0m\u001B[0;34m+\u001B[0m\u001B[0;34m'_class_report.csv'\u001B[0m\u001B[0;34m\u001B[0m\u001B[0m\n\u001B[1;32m      5\u001B[0m     \u001B[0m_df_\u001B[0m\u001B[0;34m=\u001B[0m\u001B[0mpd\u001B[0m\u001B[0;34m.\u001B[0m\u001B[0mread_csv\u001B[0m\u001B[0;34m(\u001B[0m\u001B[0mos\u001B[0m\u001B[0;34m.\u001B[0m\u001B[0mpath\u001B[0m\u001B[0;34m.\u001B[0m\u001B[0mjoin\u001B[0m\u001B[0;34m(\u001B[0m\u001B[0mticker_predictions_path_\u001B[0m\u001B[0;34m,\u001B[0m\u001B[0mfile_form\u001B[0m\u001B[0;34m)\u001B[0m\u001B[0;34m)\u001B[0m\u001B[0;34m\u001B[0m\u001B[0m\n\u001B[0;32m----> 6\u001B[0;31m     \u001B[0mresults\u001B[0m\u001B[0;34m[\u001B[0m\u001B[0m_index\u001B[0m\u001B[0;34m,\u001B[0m \u001B[0;34m:\u001B[0m\u001B[0;34m]\u001B[0m\u001B[0;34m=\u001B[0m\u001B[0m_df_\u001B[0m\u001B[0;34m[\u001B[0m\u001B[0;34m'Precision'\u001B[0m\u001B[0;34m]\u001B[0m\u001B[0;34m[\u001B[0m\u001B[0;36m1\u001B[0m\u001B[0;34m]\u001B[0m\u001B[0;34m\u001B[0m\u001B[0m\n\u001B[0m",
      "\u001B[0;31mTypeError\u001B[0m: unhashable type"
     ]
    }
   ],
   "source": [
    "results={'precision:':np.empty((_L,1))\n",
    "    }\n",
    "for _index, _value in enumerate(_dates):\n",
    "    file_form=ticker+'_'+_dates[3]+'_class_report.csv'\n",
    "    _df_=pd.read_csv(os.path.join(ticker_predictions_path_,file_form))\n",
    "    results[_index, :]=_df_['Precision'][1]"
   ]
  },
  {
   "cell_type": "code",
   "execution_count": 70,
   "metadata": {},
   "outputs": [
    {
     "data": {
      "text/plain": [
       "{0: 0.7078792958927075, 1: 0.6896551724137931, 2: 0.7024686555058001}"
      ]
     },
     "execution_count": 70,
     "metadata": {},
     "output_type": "execute_result"
    }
   ],
   "source": [
    "_df_['Precision'].to_dict()"
   ]
  },
  {
   "cell_type": "code",
   "execution_count": 71,
   "metadata": {},
   "outputs": [
    {
     "data": {
      "text/plain": [
       "{'F1-score': {0: 0.8271302644466211,\n",
       "  1: 0.05361930294906166,\n",
       "  2: 0.5974791839523146},\n",
       " 'Precision': {0: 0.7078792958927075,\n",
       "  1: 0.6896551724137931,\n",
       "  2: 0.7024686555058001},\n",
       " 'Recall': {0: 0.9946996466431096,\n",
       "  1: 0.027894002789400282,\n",
       "  2: 0.7076604554865424},\n",
       " 'Support': {0: 1698.0, 1: 717.0, 2: 2415.0},\n",
       " 'Unnamed: 0': {0: '0', 1: '1', 2: 'Avg/Total'}}"
      ]
     },
     "execution_count": 71,
     "metadata": {},
     "output_type": "execute_result"
    }
   ],
   "source": [
    "_df_.to_dict()"
   ]
  },
  {
   "cell_type": "code",
   "execution_count": 63,
   "metadata": {},
   "outputs": [],
   "source": [
    "for row in reader:\n",
    "    print row"
   ]
  },
  {
   "cell_type": "code",
   "execution_count": 5,
   "metadata": {},
   "outputs": [],
   "source": [
    "ticker ='PRU'\n",
    "###############\n",
    "with open(_pkl_path + ticker+'_features.pickle', 'rb') as handle:\n",
    "    ticker_features_ = pickle.load(handle)\n",
    "with open(_pkl_path + ticker+'_labelled_data.pickle', 'rb') as handle:\n",
    "    ticker_labelled_data_ = pickle.load(handle)\n",
    "_dates = ticker_labelled_data_.keys()   "
   ]
  },
  {
   "cell_type": "code",
   "execution_count": 6,
   "metadata": {},
   "outputs": [
    {
     "data": {
      "text/plain": [
       "array(['TradedTime', 'TradedPrice', 'Duration', 'ReturnTradedPrice',\n",
       "       'label_control_chart_q_40_q_70_window_15',\n",
       "       'label_simple_ep_window_20_thresh_0.05',\n",
       "       'label_simple_ep_window_20_thresh_0.00'], dtype=object)"
      ]
     },
     "execution_count": 6,
     "metadata": {},
     "output_type": "execute_result"
    }
   ],
   "source": [
    "ticker_labelled_data_[_dates[1]].columns.values"
   ]
  },
  {
   "cell_type": "code",
   "execution_count": 17,
   "metadata": {},
   "outputs": [],
   "source": [
    "_y_=ticker_labelled_data_[_dates[1]]['label_control_chart_q_40_q_70_window_15']"
   ]
  },
  {
   "cell_type": "code",
   "execution_count": 18,
   "metadata": {},
   "outputs": [
    {
     "data": {
      "text/plain": [
       "array([1, 0])"
      ]
     },
     "execution_count": 18,
     "metadata": {},
     "output_type": "execute_result"
    }
   ],
   "source": [
    "_y_.unique()"
   ]
  },
  {
   "cell_type": "code",
   "execution_count": 24,
   "metadata": {},
   "outputs": [
    {
     "data": {
      "text/html": [
       "<div>\n",
       "<style scoped>\n",
       "    .dataframe tbody tr th:only-of-type {\n",
       "        vertical-align: middle;\n",
       "    }\n",
       "\n",
       "    .dataframe tbody tr th {\n",
       "        vertical-align: top;\n",
       "    }\n",
       "\n",
       "    .dataframe thead th {\n",
       "        text-align: right;\n",
       "    }\n",
       "</style>\n",
       "<table border=\"1\" class=\"dataframe\">\n",
       "  <thead>\n",
       "    <tr style=\"text-align: right;\">\n",
       "      <th></th>\n",
       "      <th>fischer_score_dlambda</th>\n",
       "      <th>fischer_score_dsigma</th>\n",
       "      <th>fischer_score_dweight</th>\n",
       "    </tr>\n",
       "  </thead>\n",
       "  <tbody>\n",
       "    <tr>\n",
       "      <th>868</th>\n",
       "      <td>8.540967</td>\n",
       "      <td>-6.476134e+02</td>\n",
       "      <td>-1.018436</td>\n",
       "    </tr>\n",
       "    <tr>\n",
       "      <th>869</th>\n",
       "      <td>11.316914</td>\n",
       "      <td>-7.160528e+02</td>\n",
       "      <td>0.218641</td>\n",
       "    </tr>\n",
       "    <tr>\n",
       "      <th>870</th>\n",
       "      <td>11.316914</td>\n",
       "      <td>-7.459808e+02</td>\n",
       "      <td>1.452236</td>\n",
       "    </tr>\n",
       "    <tr>\n",
       "      <th>871</th>\n",
       "      <td>27.880614</td>\n",
       "      <td>-2.083298e+03</td>\n",
       "      <td>15.087762</td>\n",
       "    </tr>\n",
       "    <tr>\n",
       "      <th>872</th>\n",
       "      <td>28.040853</td>\n",
       "      <td>-2.119577e+03</td>\n",
       "      <td>16.405925</td>\n",
       "    </tr>\n",
       "    <tr>\n",
       "      <th>873</th>\n",
       "      <td>28.040853</td>\n",
       "      <td>-2.149505e+03</td>\n",
       "      <td>17.639520</td>\n",
       "    </tr>\n",
       "    <tr>\n",
       "      <th>874</th>\n",
       "      <td>34.845980</td>\n",
       "      <td>-3.496391e+03</td>\n",
       "      <td>31.402463</td>\n",
       "    </tr>\n",
       "    <tr>\n",
       "      <th>875</th>\n",
       "      <td>35.078581</td>\n",
       "      <td>-3.535538e+03</td>\n",
       "      <td>32.758817</td>\n",
       "    </tr>\n",
       "    <tr>\n",
       "      <th>876</th>\n",
       "      <td>35.078581</td>\n",
       "      <td>-3.565466e+03</td>\n",
       "      <td>33.992411</td>\n",
       "    </tr>\n",
       "    <tr>\n",
       "      <th>877</th>\n",
       "      <td>40.913189</td>\n",
       "      <td>-4.913520e+03</td>\n",
       "      <td>47.770914</td>\n",
       "    </tr>\n",
       "    <tr>\n",
       "      <th>878</th>\n",
       "      <td>50.012421</td>\n",
       "      <td>-6.232428e+03</td>\n",
       "      <td>61.161309</td>\n",
       "    </tr>\n",
       "    <tr>\n",
       "      <th>879</th>\n",
       "      <td>50.200460</td>\n",
       "      <td>-6.269809e+03</td>\n",
       "      <td>62.494145</td>\n",
       "    </tr>\n",
       "    <tr>\n",
       "      <th>880</th>\n",
       "      <td>50.200460</td>\n",
       "      <td>-6.299737e+03</td>\n",
       "      <td>63.727739</td>\n",
       "    </tr>\n",
       "    <tr>\n",
       "      <th>881</th>\n",
       "      <td>50.200460</td>\n",
       "      <td>-6.329665e+03</td>\n",
       "      <td>64.961334</td>\n",
       "    </tr>\n",
       "    <tr>\n",
       "      <th>882</th>\n",
       "      <td>50.200460</td>\n",
       "      <td>-6.359593e+03</td>\n",
       "      <td>66.194929</td>\n",
       "    </tr>\n",
       "    <tr>\n",
       "      <th>883</th>\n",
       "      <td>66.764160</td>\n",
       "      <td>-7.696910e+03</td>\n",
       "      <td>79.830455</td>\n",
       "    </tr>\n",
       "    <tr>\n",
       "      <th>884</th>\n",
       "      <td>66.924399</td>\n",
       "      <td>-7.733189e+03</td>\n",
       "      <td>81.148618</td>\n",
       "    </tr>\n",
       "    <tr>\n",
       "      <th>885</th>\n",
       "      <td>66.924399</td>\n",
       "      <td>-7.763117e+03</td>\n",
       "      <td>82.382213</td>\n",
       "    </tr>\n",
       "    <tr>\n",
       "      <th>886</th>\n",
       "      <td>78.597532</td>\n",
       "      <td>-9.104771e+03</td>\n",
       "      <td>96.075494</td>\n",
       "    </tr>\n",
       "    <tr>\n",
       "      <th>887</th>\n",
       "      <td>84.841599</td>\n",
       "      <td>-9.430234e+03</td>\n",
       "      <td>94.802125</td>\n",
       "    </tr>\n",
       "    <tr>\n",
       "      <th>888</th>\n",
       "      <td>85.326999</td>\n",
       "      <td>-9.466996e+03</td>\n",
       "      <td>96.038239</td>\n",
       "    </tr>\n",
       "    <tr>\n",
       "      <th>889</th>\n",
       "      <td>85.326999</td>\n",
       "      <td>-9.496924e+03</td>\n",
       "      <td>97.271833</td>\n",
       "    </tr>\n",
       "    <tr>\n",
       "      <th>890</th>\n",
       "      <td>85.326999</td>\n",
       "      <td>-9.526852e+03</td>\n",
       "      <td>98.505428</td>\n",
       "    </tr>\n",
       "    <tr>\n",
       "      <th>891</th>\n",
       "      <td>85.326999</td>\n",
       "      <td>-9.556780e+03</td>\n",
       "      <td>99.739023</td>\n",
       "    </tr>\n",
       "    <tr>\n",
       "      <th>892</th>\n",
       "      <td>85.326999</td>\n",
       "      <td>-9.654696e+03</td>\n",
       "      <td>95.183248</td>\n",
       "    </tr>\n",
       "    <tr>\n",
       "      <th>893</th>\n",
       "      <td>85.326999</td>\n",
       "      <td>-9.684624e+03</td>\n",
       "      <td>96.416843</td>\n",
       "    </tr>\n",
       "    <tr>\n",
       "      <th>894</th>\n",
       "      <td>85.326999</td>\n",
       "      <td>-9.714552e+03</td>\n",
       "      <td>97.650437</td>\n",
       "    </tr>\n",
       "    <tr>\n",
       "      <th>895</th>\n",
       "      <td>101.890699</td>\n",
       "      <td>-1.105187e+04</td>\n",
       "      <td>111.285963</td>\n",
       "    </tr>\n",
       "    <tr>\n",
       "      <th>896</th>\n",
       "      <td>102.050937</td>\n",
       "      <td>-1.108815e+04</td>\n",
       "      <td>112.604127</td>\n",
       "    </tr>\n",
       "    <tr>\n",
       "      <th>897</th>\n",
       "      <td>117.401011</td>\n",
       "      <td>-1.142618e+04</td>\n",
       "      <td>111.557853</td>\n",
       "    </tr>\n",
       "    <tr>\n",
       "      <th>...</th>\n",
       "      <td>...</td>\n",
       "      <td>...</td>\n",
       "      <td>...</td>\n",
       "    </tr>\n",
       "    <tr>\n",
       "      <th>5453</th>\n",
       "      <td>-573.778132</td>\n",
       "      <td>-1.108791e+06</td>\n",
       "      <td>12636.671931</td>\n",
       "    </tr>\n",
       "    <tr>\n",
       "      <th>5454</th>\n",
       "      <td>-573.778132</td>\n",
       "      <td>-1.108821e+06</td>\n",
       "      <td>12637.905526</td>\n",
       "    </tr>\n",
       "    <tr>\n",
       "      <th>5455</th>\n",
       "      <td>-573.778132</td>\n",
       "      <td>-1.108850e+06</td>\n",
       "      <td>12639.139121</td>\n",
       "    </tr>\n",
       "    <tr>\n",
       "      <th>5456</th>\n",
       "      <td>-567.840923</td>\n",
       "      <td>-1.109185e+06</td>\n",
       "      <td>12638.093584</td>\n",
       "    </tr>\n",
       "    <tr>\n",
       "      <th>5457</th>\n",
       "      <td>-567.287604</td>\n",
       "      <td>-1.109222e+06</td>\n",
       "      <td>12639.327872</td>\n",
       "    </tr>\n",
       "    <tr>\n",
       "      <th>5458</th>\n",
       "      <td>-552.887350</td>\n",
       "      <td>-1.109547e+06</td>\n",
       "      <td>12638.281661</td>\n",
       "    </tr>\n",
       "    <tr>\n",
       "      <th>5459</th>\n",
       "      <td>-543.352237</td>\n",
       "      <td>-1.109858e+06</td>\n",
       "      <td>12637.234365</td>\n",
       "    </tr>\n",
       "    <tr>\n",
       "      <th>5460</th>\n",
       "      <td>-542.922861</td>\n",
       "      <td>-1.109894e+06</td>\n",
       "      <td>12638.468499</td>\n",
       "    </tr>\n",
       "    <tr>\n",
       "      <th>5461</th>\n",
       "      <td>-542.922861</td>\n",
       "      <td>-1.109924e+06</td>\n",
       "      <td>12639.702093</td>\n",
       "    </tr>\n",
       "    <tr>\n",
       "      <th>5462</th>\n",
       "      <td>-542.922861</td>\n",
       "      <td>-1.109954e+06</td>\n",
       "      <td>12640.935688</td>\n",
       "    </tr>\n",
       "    <tr>\n",
       "      <th>5463</th>\n",
       "      <td>-542.922861</td>\n",
       "      <td>-1.109984e+06</td>\n",
       "      <td>12642.169283</td>\n",
       "    </tr>\n",
       "    <tr>\n",
       "      <th>5464</th>\n",
       "      <td>-542.922861</td>\n",
       "      <td>-1.110014e+06</td>\n",
       "      <td>12643.402877</td>\n",
       "    </tr>\n",
       "    <tr>\n",
       "      <th>5465</th>\n",
       "      <td>-526.359161</td>\n",
       "      <td>-1.111351e+06</td>\n",
       "      <td>12657.038403</td>\n",
       "    </tr>\n",
       "    <tr>\n",
       "      <th>5466</th>\n",
       "      <td>-523.888058</td>\n",
       "      <td>-1.112685e+06</td>\n",
       "      <td>12670.625060</td>\n",
       "    </tr>\n",
       "    <tr>\n",
       "      <th>5467</th>\n",
       "      <td>-523.645800</td>\n",
       "      <td>-1.112724e+06</td>\n",
       "      <td>12671.986510</td>\n",
       "    </tr>\n",
       "    <tr>\n",
       "      <th>5468</th>\n",
       "      <td>-523.645800</td>\n",
       "      <td>-1.112754e+06</td>\n",
       "      <td>12673.220105</td>\n",
       "    </tr>\n",
       "    <tr>\n",
       "      <th>5469</th>\n",
       "      <td>-508.295311</td>\n",
       "      <td>-1.113079e+06</td>\n",
       "      <td>12672.173832</td>\n",
       "    </tr>\n",
       "    <tr>\n",
       "      <th>5470</th>\n",
       "      <td>-497.438583</td>\n",
       "      <td>-1.103801e+06</td>\n",
       "      <td>12671.126939</td>\n",
       "    </tr>\n",
       "    <tr>\n",
       "      <th>5471</th>\n",
       "      <td>-483.104888</td>\n",
       "      <td>-1.105038e+06</td>\n",
       "      <td>12684.743788</td>\n",
       "    </tr>\n",
       "    <tr>\n",
       "      <th>5472</th>\n",
       "      <td>-468.909856</td>\n",
       "      <td>-1.106360e+06</td>\n",
       "      <td>12698.188458</td>\n",
       "    </tr>\n",
       "    <tr>\n",
       "      <th>5473</th>\n",
       "      <td>-454.048257</td>\n",
       "      <td>-1.106667e+06</td>\n",
       "      <td>12696.958992</td>\n",
       "    </tr>\n",
       "    <tr>\n",
       "      <th>5474</th>\n",
       "      <td>-453.695810</td>\n",
       "      <td>-1.106702e+06</td>\n",
       "      <td>12698.194136</td>\n",
       "    </tr>\n",
       "    <tr>\n",
       "      <th>5475</th>\n",
       "      <td>-453.695810</td>\n",
       "      <td>-1.106732e+06</td>\n",
       "      <td>12699.427731</td>\n",
       "    </tr>\n",
       "    <tr>\n",
       "      <th>5476</th>\n",
       "      <td>-441.190522</td>\n",
       "      <td>-1.107058e+06</td>\n",
       "      <td>12698.381652</td>\n",
       "    </tr>\n",
       "    <tr>\n",
       "      <th>5477</th>\n",
       "      <td>-440.755981</td>\n",
       "      <td>-1.107094e+06</td>\n",
       "      <td>12699.615792</td>\n",
       "    </tr>\n",
       "    <tr>\n",
       "      <th>5478</th>\n",
       "      <td>-440.755981</td>\n",
       "      <td>-1.107124e+06</td>\n",
       "      <td>12700.849386</td>\n",
       "    </tr>\n",
       "    <tr>\n",
       "      <th>5479</th>\n",
       "      <td>-440.755981</td>\n",
       "      <td>-1.107154e+06</td>\n",
       "      <td>12702.082981</td>\n",
       "    </tr>\n",
       "    <tr>\n",
       "      <th>5480</th>\n",
       "      <td>-440.755981</td>\n",
       "      <td>-1.107240e+06</td>\n",
       "      <td>12697.527206</td>\n",
       "    </tr>\n",
       "    <tr>\n",
       "      <th>5481</th>\n",
       "      <td>-440.755981</td>\n",
       "      <td>-1.107270e+06</td>\n",
       "      <td>12698.760801</td>\n",
       "    </tr>\n",
       "    <tr>\n",
       "      <th>5482</th>\n",
       "      <td>-711.036548</td>\n",
       "      <td>-1.071237e+06</td>\n",
       "      <td>12697.755134</td>\n",
       "    </tr>\n",
       "  </tbody>\n",
       "</table>\n",
       "<p>4615 rows × 3 columns</p>\n",
       "</div>"
      ],
      "text/plain": [
       "      fischer_score_dlambda  fischer_score_dsigma  fischer_score_dweight\n",
       "868                8.540967         -6.476134e+02              -1.018436\n",
       "869               11.316914         -7.160528e+02               0.218641\n",
       "870               11.316914         -7.459808e+02               1.452236\n",
       "871               27.880614         -2.083298e+03              15.087762\n",
       "872               28.040853         -2.119577e+03              16.405925\n",
       "873               28.040853         -2.149505e+03              17.639520\n",
       "874               34.845980         -3.496391e+03              31.402463\n",
       "875               35.078581         -3.535538e+03              32.758817\n",
       "876               35.078581         -3.565466e+03              33.992411\n",
       "877               40.913189         -4.913520e+03              47.770914\n",
       "878               50.012421         -6.232428e+03              61.161309\n",
       "879               50.200460         -6.269809e+03              62.494145\n",
       "880               50.200460         -6.299737e+03              63.727739\n",
       "881               50.200460         -6.329665e+03              64.961334\n",
       "882               50.200460         -6.359593e+03              66.194929\n",
       "883               66.764160         -7.696910e+03              79.830455\n",
       "884               66.924399         -7.733189e+03              81.148618\n",
       "885               66.924399         -7.763117e+03              82.382213\n",
       "886               78.597532         -9.104771e+03              96.075494\n",
       "887               84.841599         -9.430234e+03              94.802125\n",
       "888               85.326999         -9.466996e+03              96.038239\n",
       "889               85.326999         -9.496924e+03              97.271833\n",
       "890               85.326999         -9.526852e+03              98.505428\n",
       "891               85.326999         -9.556780e+03              99.739023\n",
       "892               85.326999         -9.654696e+03              95.183248\n",
       "893               85.326999         -9.684624e+03              96.416843\n",
       "894               85.326999         -9.714552e+03              97.650437\n",
       "895              101.890699         -1.105187e+04             111.285963\n",
       "896              102.050937         -1.108815e+04             112.604127\n",
       "897              117.401011         -1.142618e+04             111.557853\n",
       "...                     ...                   ...                    ...\n",
       "5453            -573.778132         -1.108791e+06           12636.671931\n",
       "5454            -573.778132         -1.108821e+06           12637.905526\n",
       "5455            -573.778132         -1.108850e+06           12639.139121\n",
       "5456            -567.840923         -1.109185e+06           12638.093584\n",
       "5457            -567.287604         -1.109222e+06           12639.327872\n",
       "5458            -552.887350         -1.109547e+06           12638.281661\n",
       "5459            -543.352237         -1.109858e+06           12637.234365\n",
       "5460            -542.922861         -1.109894e+06           12638.468499\n",
       "5461            -542.922861         -1.109924e+06           12639.702093\n",
       "5462            -542.922861         -1.109954e+06           12640.935688\n",
       "5463            -542.922861         -1.109984e+06           12642.169283\n",
       "5464            -542.922861         -1.110014e+06           12643.402877\n",
       "5465            -526.359161         -1.111351e+06           12657.038403\n",
       "5466            -523.888058         -1.112685e+06           12670.625060\n",
       "5467            -523.645800         -1.112724e+06           12671.986510\n",
       "5468            -523.645800         -1.112754e+06           12673.220105\n",
       "5469            -508.295311         -1.113079e+06           12672.173832\n",
       "5470            -497.438583         -1.103801e+06           12671.126939\n",
       "5471            -483.104888         -1.105038e+06           12684.743788\n",
       "5472            -468.909856         -1.106360e+06           12698.188458\n",
       "5473            -454.048257         -1.106667e+06           12696.958992\n",
       "5474            -453.695810         -1.106702e+06           12698.194136\n",
       "5475            -453.695810         -1.106732e+06           12699.427731\n",
       "5476            -441.190522         -1.107058e+06           12698.381652\n",
       "5477            -440.755981         -1.107094e+06           12699.615792\n",
       "5478            -440.755981         -1.107124e+06           12700.849386\n",
       "5479            -440.755981         -1.107154e+06           12702.082981\n",
       "5480            -440.755981         -1.107240e+06           12697.527206\n",
       "5481            -440.755981         -1.107270e+06           12698.760801\n",
       "5482            -711.036548         -1.071237e+06           12697.755134\n",
       "\n",
       "[4615 rows x 3 columns]"
      ]
     },
     "execution_count": 24,
     "metadata": {},
     "output_type": "execute_result"
    }
   ],
   "source": [
    "ticker_features_[_dates[1]][0]"
   ]
  },
  {
   "cell_type": "code",
   "execution_count": 37,
   "metadata": {},
   "outputs": [],
   "source": [
    "folder =os.path.join(_pkl_path,'models','DMG/')"
   ]
  },
  {
   "cell_type": "code",
   "execution_count": 43,
   "metadata": {},
   "outputs": [],
   "source": [
    "test='20171025_svm_clf.pkl'\n",
    "svm_clf_ = os.path.join(folder,str(test))\n"
   ]
  },
  {
   "cell_type": "code",
   "execution_count": 44,
   "metadata": {},
   "outputs": [],
   "source": [
    "with open(svm_clf_, 'rb') as handle:\n",
    "    estimator = pickle.load(handle)"
   ]
  },
  {
   "cell_type": "code",
   "execution_count": 4,
   "metadata": {},
   "outputs": [],
   "source": [
    "_features_path='/home/ak/Documents/Data/features_models/features/'"
   ]
  },
  {
   "cell_type": "code",
   "execution_count": 45,
   "metadata": {},
   "outputs": [
    {
     "data": {
      "text/plain": [
       "['SYNT_2states20170605_features.pickle',\n",
       " 'SYNT_2states20170607_features.pickle',\n",
       " 'SYNT_2states20170602_features.pickle',\n",
       " 'SYNT_2states20170601_features.pickle',\n",
       " 'SYNT_2states20170606_features.pickle']"
      ]
     },
     "execution_count": 45,
     "metadata": {},
     "output_type": "execute_result"
    }
   ],
   "source": [
    "list_=os.listdir(_features_path)\n",
    "\n",
    "list_"
   ]
  },
  {
   "cell_type": "code",
   "execution_count": 63,
   "metadata": {},
   "outputs": [
    {
     "data": {
      "text/plain": [
       "'/home/ak/Documents/Data/features_models/features/SYNT_2states20170601_features.pickle'"
      ]
     },
     "execution_count": 63,
     "metadata": {},
     "output_type": "execute_result"
    }
   ],
   "source": [
    "file_=list_[3]\n",
    "synt_file_ = os.path.join(_features_path, file_)\n",
    "synt_file_"
   ]
  },
  {
   "cell_type": "code",
   "execution_count": 64,
   "metadata": {},
   "outputs": [],
   "source": [
    "with open(synt_file_, 'rb') as handle:\n",
    "    synt_features_ = pickle.load(handle)"
   ]
  },
  {
   "cell_type": "code",
   "execution_count": 70,
   "metadata": {},
   "outputs": [
    {
     "data": {
      "text/html": [
       "<div>\n",
       "<style scoped>\n",
       "    .dataframe tbody tr th:only-of-type {\n",
       "        vertical-align: middle;\n",
       "    }\n",
       "\n",
       "    .dataframe tbody tr th {\n",
       "        vertical-align: top;\n",
       "    }\n",
       "\n",
       "    .dataframe thead th {\n",
       "        text-align: right;\n",
       "    }\n",
       "</style>\n",
       "<table border=\"1\" class=\"dataframe\">\n",
       "  <thead>\n",
       "    <tr style=\"text-align: right;\">\n",
       "      <th></th>\n",
       "      <th>fischer_score_dlambda</th>\n",
       "      <th>fischer_score_dsigma</th>\n",
       "      <th>fischer_score_dweight</th>\n",
       "    </tr>\n",
       "  </thead>\n",
       "  <tbody>\n",
       "    <tr>\n",
       "      <th>0</th>\n",
       "      <td>33.005566</td>\n",
       "      <td>-16.989929</td>\n",
       "      <td>-1.132597</td>\n",
       "    </tr>\n",
       "    <tr>\n",
       "      <th>1</th>\n",
       "      <td>45.008896</td>\n",
       "      <td>-45.582068</td>\n",
       "      <td>-2.506641</td>\n",
       "    </tr>\n",
       "    <tr>\n",
       "      <th>2</th>\n",
       "      <td>51.391444</td>\n",
       "      <td>-66.676951</td>\n",
       "      <td>-3.747624</td>\n",
       "    </tr>\n",
       "    <tr>\n",
       "      <th>3</th>\n",
       "      <td>65.134834</td>\n",
       "      <td>-66.531405</td>\n",
       "      <td>0.427045</td>\n",
       "    </tr>\n",
       "    <tr>\n",
       "      <th>4</th>\n",
       "      <td>81.934755</td>\n",
       "      <td>-66.554550</td>\n",
       "      <td>5.241577</td>\n",
       "    </tr>\n",
       "    <tr>\n",
       "      <th>5</th>\n",
       "      <td>92.254657</td>\n",
       "      <td>-80.434892</td>\n",
       "      <td>3.905963</td>\n",
       "    </tr>\n",
       "    <tr>\n",
       "      <th>6</th>\n",
       "      <td>85.494314</td>\n",
       "      <td>-75.340446</td>\n",
       "      <td>2.773064</td>\n",
       "    </tr>\n",
       "    <tr>\n",
       "      <th>7</th>\n",
       "      <td>101.641797</td>\n",
       "      <td>-106.096422</td>\n",
       "      <td>1.339792</td>\n",
       "    </tr>\n",
       "    <tr>\n",
       "      <th>8</th>\n",
       "      <td>114.525390</td>\n",
       "      <td>-105.457900</td>\n",
       "      <td>6.421884</td>\n",
       "    </tr>\n",
       "    <tr>\n",
       "      <th>9</th>\n",
       "      <td>130.764959</td>\n",
       "      <td>-105.619878</td>\n",
       "      <td>11.174159</td>\n",
       "    </tr>\n",
       "    <tr>\n",
       "      <th>10</th>\n",
       "      <td>149.396395</td>\n",
       "      <td>-106.501252</td>\n",
       "      <td>9.883874</td>\n",
       "    </tr>\n",
       "    <tr>\n",
       "      <th>11</th>\n",
       "      <td>167.398702</td>\n",
       "      <td>-137.221526</td>\n",
       "      <td>8.458181</td>\n",
       "    </tr>\n",
       "    <tr>\n",
       "      <th>12</th>\n",
       "      <td>180.407267</td>\n",
       "      <td>-160.589340</td>\n",
       "      <td>7.166638</td>\n",
       "    </tr>\n",
       "    <tr>\n",
       "      <th>13</th>\n",
       "      <td>194.378981</td>\n",
       "      <td>-160.283696</td>\n",
       "      <td>11.533021</td>\n",
       "    </tr>\n",
       "    <tr>\n",
       "      <th>14</th>\n",
       "      <td>200.592382</td>\n",
       "      <td>-160.287731</td>\n",
       "      <td>17.981276</td>\n",
       "    </tr>\n",
       "    <tr>\n",
       "      <th>15</th>\n",
       "      <td>214.571127</td>\n",
       "      <td>-188.224297</td>\n",
       "      <td>16.692101</td>\n",
       "    </tr>\n",
       "    <tr>\n",
       "      <th>16</th>\n",
       "      <td>193.381240</td>\n",
       "      <td>-187.498132</td>\n",
       "      <td>15.578001</td>\n",
       "    </tr>\n",
       "    <tr>\n",
       "      <th>17</th>\n",
       "      <td>207.959177</td>\n",
       "      <td>-196.034688</td>\n",
       "      <td>14.224204</td>\n",
       "    </tr>\n",
       "    <tr>\n",
       "      <th>18</th>\n",
       "      <td>226.887826</td>\n",
       "      <td>-225.833935</td>\n",
       "      <td>12.837101</td>\n",
       "    </tr>\n",
       "    <tr>\n",
       "      <th>19</th>\n",
       "      <td>240.915041</td>\n",
       "      <td>-225.016828</td>\n",
       "      <td>17.580181</td>\n",
       "    </tr>\n",
       "    <tr>\n",
       "      <th>20</th>\n",
       "      <td>231.557590</td>\n",
       "      <td>-224.902230</td>\n",
       "      <td>25.288013</td>\n",
       "    </tr>\n",
       "    <tr>\n",
       "      <th>21</th>\n",
       "      <td>245.907324</td>\n",
       "      <td>-254.124399</td>\n",
       "      <td>23.931768</td>\n",
       "    </tr>\n",
       "    <tr>\n",
       "      <th>22</th>\n",
       "      <td>264.671793</td>\n",
       "      <td>-259.292196</td>\n",
       "      <td>22.610228</td>\n",
       "    </tr>\n",
       "    <tr>\n",
       "      <th>23</th>\n",
       "      <td>235.799409</td>\n",
       "      <td>-228.961012</td>\n",
       "      <td>21.447926</td>\n",
       "    </tr>\n",
       "    <tr>\n",
       "      <th>24</th>\n",
       "      <td>248.287641</td>\n",
       "      <td>-229.022139</td>\n",
       "      <td>25.451387</td>\n",
       "    </tr>\n",
       "    <tr>\n",
       "      <th>25</th>\n",
       "      <td>272.233249</td>\n",
       "      <td>-215.813174</td>\n",
       "      <td>24.188771</td>\n",
       "    </tr>\n",
       "    <tr>\n",
       "      <th>26</th>\n",
       "      <td>285.332765</td>\n",
       "      <td>-197.370911</td>\n",
       "      <td>23.004183</td>\n",
       "    </tr>\n",
       "    <tr>\n",
       "      <th>27</th>\n",
       "      <td>300.016054</td>\n",
       "      <td>-199.436579</td>\n",
       "      <td>26.975576</td>\n",
       "    </tr>\n",
       "    <tr>\n",
       "      <th>28</th>\n",
       "      <td>311.192795</td>\n",
       "      <td>-204.969415</td>\n",
       "      <td>25.644235</td>\n",
       "    </tr>\n",
       "    <tr>\n",
       "      <th>29</th>\n",
       "      <td>327.026531</td>\n",
       "      <td>-234.996441</td>\n",
       "      <td>24.229516</td>\n",
       "    </tr>\n",
       "    <tr>\n",
       "      <th>...</th>\n",
       "      <td>...</td>\n",
       "      <td>...</td>\n",
       "      <td>...</td>\n",
       "    </tr>\n",
       "    <tr>\n",
       "      <th>4970</th>\n",
       "      <td>4469.034792</td>\n",
       "      <td>-10320.926395</td>\n",
       "      <td>4622.188082</td>\n",
       "    </tr>\n",
       "    <tr>\n",
       "      <th>4971</th>\n",
       "      <td>4433.346663</td>\n",
       "      <td>-10342.263729</td>\n",
       "      <td>4621.021717</td>\n",
       "    </tr>\n",
       "    <tr>\n",
       "      <th>4972</th>\n",
       "      <td>4451.223194</td>\n",
       "      <td>-10321.608334</td>\n",
       "      <td>4619.724885</td>\n",
       "    </tr>\n",
       "    <tr>\n",
       "      <th>4973</th>\n",
       "      <td>4441.151265</td>\n",
       "      <td>-10340.665888</td>\n",
       "      <td>4618.538193</td>\n",
       "    </tr>\n",
       "    <tr>\n",
       "      <th>4974</th>\n",
       "      <td>4444.930383</td>\n",
       "      <td>-10365.616501</td>\n",
       "      <td>4617.289304</td>\n",
       "    </tr>\n",
       "    <tr>\n",
       "      <th>4975</th>\n",
       "      <td>4470.541460</td>\n",
       "      <td>-10315.631444</td>\n",
       "      <td>4616.015122</td>\n",
       "    </tr>\n",
       "    <tr>\n",
       "      <th>4976</th>\n",
       "      <td>4472.233980</td>\n",
       "      <td>-10314.666012</td>\n",
       "      <td>4622.507649</td>\n",
       "    </tr>\n",
       "    <tr>\n",
       "      <th>4977</th>\n",
       "      <td>4475.773631</td>\n",
       "      <td>-10304.274279</td>\n",
       "      <td>4621.035232</td>\n",
       "    </tr>\n",
       "    <tr>\n",
       "      <th>4978</th>\n",
       "      <td>4465.840488</td>\n",
       "      <td>-10303.265004</td>\n",
       "      <td>4628.733273</td>\n",
       "    </tr>\n",
       "    <tr>\n",
       "      <th>4979</th>\n",
       "      <td>4478.497893</td>\n",
       "      <td>-10331.355604</td>\n",
       "      <td>4627.403819</td>\n",
       "    </tr>\n",
       "    <tr>\n",
       "      <th>4980</th>\n",
       "      <td>4489.640485</td>\n",
       "      <td>-10351.601245</td>\n",
       "      <td>4626.130851</td>\n",
       "    </tr>\n",
       "    <tr>\n",
       "      <th>4981</th>\n",
       "      <td>4509.600042</td>\n",
       "      <td>-10358.452309</td>\n",
       "      <td>4624.748874</td>\n",
       "    </tr>\n",
       "    <tr>\n",
       "      <th>4982</th>\n",
       "      <td>4525.256590</td>\n",
       "      <td>-10359.226221</td>\n",
       "      <td>4629.212714</td>\n",
       "    </tr>\n",
       "    <tr>\n",
       "      <th>4983</th>\n",
       "      <td>4535.067615</td>\n",
       "      <td>-10359.173454</td>\n",
       "      <td>4635.061310</td>\n",
       "    </tr>\n",
       "    <tr>\n",
       "      <th>4984</th>\n",
       "      <td>4543.630241</td>\n",
       "      <td>-10384.475338</td>\n",
       "      <td>4633.714023</td>\n",
       "    </tr>\n",
       "    <tr>\n",
       "      <th>4985</th>\n",
       "      <td>4530.548360</td>\n",
       "      <td>-10368.483036</td>\n",
       "      <td>4632.599784</td>\n",
       "    </tr>\n",
       "    <tr>\n",
       "      <th>4986</th>\n",
       "      <td>4533.764849</td>\n",
       "      <td>-10368.509862</td>\n",
       "      <td>4638.310783</td>\n",
       "    </tr>\n",
       "    <tr>\n",
       "      <th>4987</th>\n",
       "      <td>4540.477155</td>\n",
       "      <td>-10368.497828</td>\n",
       "      <td>4644.309454</td>\n",
       "    </tr>\n",
       "    <tr>\n",
       "      <th>4988</th>\n",
       "      <td>4547.903944</td>\n",
       "      <td>-10390.689322</td>\n",
       "      <td>4642.947522</td>\n",
       "    </tr>\n",
       "    <tr>\n",
       "      <th>4989</th>\n",
       "      <td>4424.317087</td>\n",
       "      <td>-10411.764944</td>\n",
       "      <td>4641.835664</td>\n",
       "    </tr>\n",
       "    <tr>\n",
       "      <th>4990</th>\n",
       "      <td>4432.524094</td>\n",
       "      <td>-10411.764934</td>\n",
       "      <td>4646.481059</td>\n",
       "    </tr>\n",
       "    <tr>\n",
       "      <th>4991</th>\n",
       "      <td>4336.252882</td>\n",
       "      <td>-10433.066800</td>\n",
       "      <td>4645.011897</td>\n",
       "    </tr>\n",
       "    <tr>\n",
       "      <th>4992</th>\n",
       "      <td>4331.167466</td>\n",
       "      <td>-10436.501376</td>\n",
       "      <td>4643.851954</td>\n",
       "    </tr>\n",
       "    <tr>\n",
       "      <th>4993</th>\n",
       "      <td>4348.194224</td>\n",
       "      <td>-10467.444854</td>\n",
       "      <td>4642.412476</td>\n",
       "    </tr>\n",
       "    <tr>\n",
       "      <th>4994</th>\n",
       "      <td>4351.521210</td>\n",
       "      <td>-10491.486865</td>\n",
       "      <td>4641.196078</td>\n",
       "    </tr>\n",
       "    <tr>\n",
       "      <th>4995</th>\n",
       "      <td>4361.365425</td>\n",
       "      <td>-10518.199596</td>\n",
       "      <td>4639.879788</td>\n",
       "    </tr>\n",
       "    <tr>\n",
       "      <th>4996</th>\n",
       "      <td>4363.414852</td>\n",
       "      <td>-10518.317099</td>\n",
       "      <td>4646.467922</td>\n",
       "    </tr>\n",
       "    <tr>\n",
       "      <th>4997</th>\n",
       "      <td>4341.388307</td>\n",
       "      <td>-10527.533581</td>\n",
       "      <td>4644.980050</td>\n",
       "    </tr>\n",
       "    <tr>\n",
       "      <th>4998</th>\n",
       "      <td>4351.559252</td>\n",
       "      <td>-10514.950171</td>\n",
       "      <td>4643.775733</td>\n",
       "    </tr>\n",
       "    <tr>\n",
       "      <th>4999</th>\n",
       "      <td>4362.334156</td>\n",
       "      <td>-10516.493148</td>\n",
       "      <td>4648.317269</td>\n",
       "    </tr>\n",
       "  </tbody>\n",
       "</table>\n",
       "<p>4851 rows × 3 columns</p>\n",
       "</div>"
      ],
      "text/plain": [
       "      fischer_score_dlambda  fischer_score_dsigma  fischer_score_dweight\n",
       "0                 33.005566            -16.989929              -1.132597\n",
       "1                 45.008896            -45.582068              -2.506641\n",
       "2                 51.391444            -66.676951              -3.747624\n",
       "3                 65.134834            -66.531405               0.427045\n",
       "4                 81.934755            -66.554550               5.241577\n",
       "5                 92.254657            -80.434892               3.905963\n",
       "6                 85.494314            -75.340446               2.773064\n",
       "7                101.641797           -106.096422               1.339792\n",
       "8                114.525390           -105.457900               6.421884\n",
       "9                130.764959           -105.619878              11.174159\n",
       "10               149.396395           -106.501252               9.883874\n",
       "11               167.398702           -137.221526               8.458181\n",
       "12               180.407267           -160.589340               7.166638\n",
       "13               194.378981           -160.283696              11.533021\n",
       "14               200.592382           -160.287731              17.981276\n",
       "15               214.571127           -188.224297              16.692101\n",
       "16               193.381240           -187.498132              15.578001\n",
       "17               207.959177           -196.034688              14.224204\n",
       "18               226.887826           -225.833935              12.837101\n",
       "19               240.915041           -225.016828              17.580181\n",
       "20               231.557590           -224.902230              25.288013\n",
       "21               245.907324           -254.124399              23.931768\n",
       "22               264.671793           -259.292196              22.610228\n",
       "23               235.799409           -228.961012              21.447926\n",
       "24               248.287641           -229.022139              25.451387\n",
       "25               272.233249           -215.813174              24.188771\n",
       "26               285.332765           -197.370911              23.004183\n",
       "27               300.016054           -199.436579              26.975576\n",
       "28               311.192795           -204.969415              25.644235\n",
       "29               327.026531           -234.996441              24.229516\n",
       "...                     ...                   ...                    ...\n",
       "4970            4469.034792         -10320.926395            4622.188082\n",
       "4971            4433.346663         -10342.263729            4621.021717\n",
       "4972            4451.223194         -10321.608334            4619.724885\n",
       "4973            4441.151265         -10340.665888            4618.538193\n",
       "4974            4444.930383         -10365.616501            4617.289304\n",
       "4975            4470.541460         -10315.631444            4616.015122\n",
       "4976            4472.233980         -10314.666012            4622.507649\n",
       "4977            4475.773631         -10304.274279            4621.035232\n",
       "4978            4465.840488         -10303.265004            4628.733273\n",
       "4979            4478.497893         -10331.355604            4627.403819\n",
       "4980            4489.640485         -10351.601245            4626.130851\n",
       "4981            4509.600042         -10358.452309            4624.748874\n",
       "4982            4525.256590         -10359.226221            4629.212714\n",
       "4983            4535.067615         -10359.173454            4635.061310\n",
       "4984            4543.630241         -10384.475338            4633.714023\n",
       "4985            4530.548360         -10368.483036            4632.599784\n",
       "4986            4533.764849         -10368.509862            4638.310783\n",
       "4987            4540.477155         -10368.497828            4644.309454\n",
       "4988            4547.903944         -10390.689322            4642.947522\n",
       "4989            4424.317087         -10411.764944            4641.835664\n",
       "4990            4432.524094         -10411.764934            4646.481059\n",
       "4991            4336.252882         -10433.066800            4645.011897\n",
       "4992            4331.167466         -10436.501376            4643.851954\n",
       "4993            4348.194224         -10467.444854            4642.412476\n",
       "4994            4351.521210         -10491.486865            4641.196078\n",
       "4995            4361.365425         -10518.199596            4639.879788\n",
       "4996            4363.414852         -10518.317099            4646.467922\n",
       "4997            4341.388307         -10527.533581            4644.980050\n",
       "4998            4351.559252         -10514.950171            4643.775733\n",
       "4999            4362.334156         -10516.493148            4648.317269\n",
       "\n",
       "[4851 rows x 3 columns]"
      ]
     },
     "execution_count": 70,
     "metadata": {},
     "output_type": "execute_result"
    }
   ],
   "source": [
    "synt_features_[0]"
   ]
  },
  {
   "cell_type": "code",
   "execution_count": 68,
   "metadata": {},
   "outputs": [],
   "source": [
    "\n"
   ]
  },
  {
   "cell_type": "code",
   "execution_count": 75,
   "metadata": {},
   "outputs": [],
   "source": [
    "a=synt_features_[1]\n",
    "unique, counts = np.unique(a, return_counts=True)"
   ]
  },
  {
   "cell_type": "code",
   "execution_count": null,
   "metadata": {},
   "outputs": [],
   "source": []
  },
  {
   "cell_type": "code",
   "execution_count": 74,
   "metadata": {},
   "outputs": [
    {
     "data": {
      "text/plain": [
       "fischer_score_dlambda    0\n",
       "fischer_score_dsigma     0\n",
       "fischer_score_dweight    0\n",
       "dtype: int64"
      ]
     },
     "execution_count": 74,
     "metadata": {},
     "output_type": "execute_result"
    }
   ],
   "source": [
    "a.isnull().sum()"
   ]
  },
  {
   "cell_type": "code",
   "execution_count": 26,
   "metadata": {},
   "outputs": [
    {
     "data": {
      "text/plain": [
       "(4876, 6)"
      ]
     },
     "execution_count": 26,
     "metadata": {},
     "output_type": "execute_result"
    }
   ],
   "source": [
    "a.shape"
   ]
  },
  {
   "cell_type": "code",
   "execution_count": null,
   "metadata": {},
   "outputs": [],
   "source": []
  }
 ],
 "metadata": {
  "kernelspec": {
   "display_name": "Python 2",
   "language": "python",
   "name": "python2"
  },
  "language_info": {
   "codemirror_mode": {
    "name": "ipython",
    "version": 2
   },
   "file_extension": ".py",
   "mimetype": "text/x-python",
   "name": "python",
   "nbconvert_exporter": "python",
   "pygments_lexer": "ipython2",
   "version": "2.7.15rc1"
  }
 },
 "nbformat": 4,
 "nbformat_minor": 2
}