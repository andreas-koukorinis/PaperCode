{
 "cells": [
  {
   "cell_type": "code",
   "execution_count": 118,
   "metadata": {},
   "outputs": [],
   "source": [
    "import sys\n",
    "import numpy as np\n",
    "import os\n",
    "import pandas as pd\n",
    "import pickle\n",
    "sys.path.append('/home/ak/Documents/Research/hsmm/hsmm/')\n",
    "_features_path= '/home/ak/Documents/Data/features_models/' #directory to save data\n",
    "_models_path = os.path.join(_features_path,'models')\n",
    "_path=os.getenv('FINANCE_DATA')\n",
    "_ftse = os.path.join(_path,'FTSE/')\n",
    "import matplotlib.pyplot as plt\n",
    "figures_path= ('/home/ak/Documents/Research/QFPaper/paper/figures/')\n",
    "%matplotlib inline"
   ]
  },
  {
   "cell_type": "code",
   "execution_count": 119,
   "metadata": {},
   "outputs": [
    {
     "data": {
      "text/plain": [
       "['ZLc1_3_model_results_.pkl',\n",
       " 'ZLc1_2012_clfs_.pkl',\n",
       " 'ZLc1_4_clfs_.pkl',\n",
       " 'ZLc1_3_clfs_.pkl',\n",
       " 'ZLc1_2012_model_results_.pkl']"
      ]
     },
     "execution_count": 119,
     "metadata": {},
     "output_type": "execute_result"
    }
   ],
   "source": [
    "os.listdir(_models_path)"
   ]
  },
  {
   "cell_type": "code",
   "execution_count": 76,
   "metadata": {},
   "outputs": [],
   "source": [
    "from hsmm_core.observation_models import *\n",
    "from hsmm_core.hmm import *\n",
    "from hsmm_core.hmm_utils import load_data\n",
    "from hsmm_core.prediction_engines import *"
   ]
  },
  {
   "cell_type": "code",
   "execution_count": 120,
   "metadata": {},
   "outputs": [],
   "source": [
    "##useful functions##\n",
    "def listdirs(folder): #return only directories from a master folder\n",
    "    return [d for d in os.listdir(folder) if os.path.isdir(os.path.join(folder, d))]\n",
    "\n",
    "\n",
    "    "
   ]
  },
  {
   "cell_type": "code",
   "execution_count": 88,
   "metadata": {},
   "outputs": [],
   "source": [
    "symbols_list= os.listdir(_ftse)\n",
    "for _no, _ in enumerate(symbols_list):\n",
    "    ticker = symbols_list[_no]\n",
    "    no_days =len(os.listdir(_ftse+symbols_list[_no]))\n"
   ]
  },
  {
   "cell_type": "code",
   "execution_count": 79,
   "metadata": {},
   "outputs": [],
   "source": [
    "# for _no, _ in enumerate(symbols_list):\n",
    "#     ticker = symbols_list[_no]\n",
    "#     data_path=os.path.join(_ftse+ticker)\n",
    "#     listdirs(data_path)\n",
    "#     no_days=len(os.listdir(os.path.join(_path+ticker)))\n"
   ]
  },
  {
   "cell_type": "code",
   "execution_count": 100,
   "metadata": {},
   "outputs": [],
   "source": [
    "test_=(_features_path+ ticker)\n",
    "os.makedirs(test_)"
   ]
  },
  {
   "cell_type": "code",
   "execution_count": 101,
   "metadata": {},
   "outputs": [
    {
     "data": {
      "text/plain": [
       "[]"
      ]
     },
     "execution_count": 101,
     "metadata": {},
     "output_type": "execute_result"
    }
   ],
   "source": [
    "os.listdir(test_)"
   ]
  },
  {
   "cell_type": "code",
   "execution_count": 102,
   "metadata": {},
   "outputs": [],
   "source": [
    "#Three Hidden States\n",
    "n_hidden_states = 3\n",
    "\n",
    "zero_pc_threshold = 1e-5\n",
    "init_params = {\n",
    "    \"obs_model_params\": {\n",
    "                                'epsilon': zero_pc_threshold,\n",
    "                                'obs_model_name': 'ExpUniGauss',\n",
    "                                'init_params': {'epsilon': zero_pc_threshold},\n",
    "                                'em_init_method': initialization_method.cluster\n",
    "\n",
    "    },\n",
    "    \"hidden_model_params\": {\n",
    "                                'no_hidden_states': n_hidden_states,\n",
    "                                # 'pi':startprob,\n",
    "                                # 'tpm': transmat\n",
    "                                'em_init_method': initialization_method.uniform\n",
    "    },\n",
    "    \"update_tag\": 'tpsml'\n",
    "}\n",
    "\n"
   ]
  },
  {
   "cell_type": "code",
   "execution_count": 103,
   "metadata": {},
   "outputs": [
    {
     "ename": "NameError",
     "evalue": "name 'TradingHours' is not defined",
     "output_type": "error",
     "traceback": [
      "\u001b[0;31m---------------------------------------------------------------------------\u001b[0m",
      "\u001b[0;31mNameError\u001b[0m                                 Traceback (most recent call last)",
      "\u001b[0;32m<ipython-input-103-2187577e9490>\u001b[0m in \u001b[0;36m<module>\u001b[0;34m()\u001b[0m\n\u001b[1;32m      6\u001b[0m                                        \u001b[0;31m#file_name=['20120217.csv'],\u001b[0m\u001b[0;34m\u001b[0m\u001b[0;34m\u001b[0m\u001b[0m\n\u001b[1;32m      7\u001b[0m                                        \u001b[0mload_columns\u001b[0m\u001b[0;34m=\u001b[0m\u001b[0;34m[\u001b[0m\u001b[0;34m'TradedTime'\u001b[0m\u001b[0;34m,\u001b[0m \u001b[0;34m'Duration'\u001b[0m\u001b[0;34m,\u001b[0m\u001b[0;34m'TradedPrice'\u001b[0m\u001b[0;34m,\u001b[0m \u001b[0;34m'ReturnTradedPrice'\u001b[0m\u001b[0;34m]\u001b[0m\u001b[0;34m,\u001b[0m\u001b[0;34m\u001b[0m\u001b[0m\n\u001b[0;32m----> 8\u001b[0;31m                                        which_trading_hours=TradingHours.only_mkt_hours)\n\u001b[0m",
      "\u001b[0;31mNameError\u001b[0m: name 'TradingHours' is not defined"
     ]
    }
   ],
   "source": [
    "# Look out for the flag which_trading_hours. Possible values are: \n",
    "# TradingHours.pre_open_hours, TradingHours.only_mkt_hours, TradingHours.all_trading_day \n",
    "# with the obvious interpretation\n",
    "data_dic, data_sampling_tag =load_data(ticker,\n",
    "                                       no_of_days=3, \n",
    "                                       #file_name=['20120217.csv'], \n",
    "                                       load_columns=['TradedTime', 'Duration','TradedPrice', 'ReturnTradedPrice'], \n",
    "                                       which_trading_hours=TradingHours.only_mkt_hours)"
   ]
  },
  {
   "cell_type": "code",
   "execution_count": null,
   "metadata": {},
   "outputs": [],
   "source": [
    "labelling_methods = [\n",
    "    {'method': dl_choices.control_chart,\n",
    "  'cc_quantiles': [40, 70],\n",
    "      'rolling_window': 15,\n",
    "    },\n",
    "    # {\n",
    "    #     'method': dl_choices.control_chart,\n",
    "    #     'cc_quantiles': [20, 80],\n",
    "    #     'rolling_window': 10,\n",
    "    # },\n",
    "#     {\n",
    "#         'method': dl_choices.simple_all,\n",
    "#         'rolling_window': 5,\n",
    "#     },\n",
    "#     {\n",
    "#         'method': dl_choices.simple_ma,\n",
    "#         'rolling_window': 5,\n",
    "#     },\n",
    "    {\n",
    "        'method': dl_choices.simple_ep,\n",
    "        'rolling_window': 20,\n",
    "        'cmp_threshold': 0.05, # Use this value to set a threshold in comparison, i.e. it does not suffice \n",
    "                            # to have P_t < P_{t + window} but  P_t < ( 1- cmp_threshold) * P_{t + window} \n",
    "    },\n",
    "    {\n",
    "        'method': dl_choices.simple_ep,\n",
    "        'rolling_window': 20,\n",
    "    },\n",
    "]\n",
    "\n",
    "labellers_ = []\n",
    "\n",
    "for labelling_method in labelling_methods:\n",
    "    method = labelling_method['method']\n",
    "\n",
    "    if method is dl_choices.control_chart:\n",
    "        # look for qunatile values, if not use default 10/90\n",
    "        labellers_.append(data_labelling_cc(**labelling_method))\n",
    "    else:\n",
    "        labellers_.append(data_labelling_simple(**labelling_method))"
   ]
  },
  {
   "cell_type": "code",
   "execution_count": null,
   "metadata": {},
   "outputs": [],
   "source": [
    "\n",
    "hmm_calibration_engine = hmm_calibration(no_parallel_procs=None,\n",
    "                                         init_params=init_params)\n",
    "\n",
    "trained_hmms = hmm_calibration_engine.hmm_fit_func(ticker, data_dic, 'resample__', force_recalc=True)\n",
    "\n",
    "print trained_hmms\n",
    "\n",
    "# a_model = trained_hmms['20140122']\n",
    "# a_model.map_metrics(data_dic['20140122'])\n",
    "#\n",
    "\n"
   ]
  },
  {
   "cell_type": "code",
   "execution_count": null,
   "metadata": {},
   "outputs": [],
   "source": [
    "prediction_params = {\n",
    "    'labelling_methods':  labelling_methods,\n",
    "    'feature_generation': feature_generation.one_model_to_one_fset,\n",
    "}\n",
    "\n",
    "prediction_eng = hs_prediction_engine(hmm_init_params=init_params,\n",
    "                                      prediction_innit_params=prediction_params,\n",
    "                                      no_parallel_procs=None)"
   ]
  },
  {
   "cell_type": "code",
   "execution_count": null,
   "metadata": {},
   "outputs": [],
   "source": [
    "features, _ = prediction_eng.train_model_data(ticker, data_dic, 'resample__', force_hmm_recalc=False)"
   ]
  },
  {
   "cell_type": "code",
   "execution_count": null,
   "metadata": {},
   "outputs": [],
   "source": [
    "M=5\n",
    "T=len(_dates)\n",
    "\n",
    "_ll_results= {'_likeli_': {_no: {} for _no in xrange(2, 6)}}\n",
    "\n",
    "for i in xrange(0,T):\n",
    "    print _dates[i]"
   ]
  },
  {
   "cell_type": "code",
   "execution_count": null,
   "metadata": {},
   "outputs": [],
   "source": [
    "for idx, _no in enumerate(xrange(2,6)):\n",
    "    print _no\n",
    "    init_params[\"hidden_model_params\"][\"no_hidden_states\"] =_no\n",
    "    hmm_calibration_engine = hmm_calibration(no_parallel_procs=None,\n",
    "                                             init_params=init_params)\n",
    "    trained_hmms = hmm_calibration_engine.hmm_fit_func(ticker, data_dic, \n",
    "                                                       'resample__', force_recalc=True)\n",
    "    for _date in range(0,T):\n",
    "        print _dates[_date]\n",
    "        filename, _ = os.path.splitext(_dates[_date])\n",
    "        _no_items=len(trained_hmms[filename].__dict__['history_likelihood_'])\n",
    "        _likel_=trained_hmms[filename].__dict__['history_likelihood_'][_no_items-1]\n",
    "        print _likel_\n",
    "        _ll_results['_likeli_'][_no][_date] =_likel_\n"
   ]
  },
  {
   "cell_type": "code",
   "execution_count": null,
   "metadata": {},
   "outputs": [],
   "source": [
    "for _date in range(0,T):\n",
    "    filename, _ = os.path.splitext(_dates[_date])\n",
    "    _no_items=len(trained_hmms[filename].__dict__['history_likelihood_'])\n",
    "    _likel_=trained_hmms[filename].__dict__['history_likelihood_'][_no_items-1]\n",
    "    print _likel_"
   ]
  },
  {
   "cell_type": "code",
   "execution_count": null,
   "metadata": {},
   "outputs": [],
   "source": [
    "for i in xrange(2,6):\n",
    "    print i"
   ]
  },
  {
   "cell_type": "code",
   "execution_count": null,
   "metadata": {},
   "outputs": [],
   "source": [
    "_ll_results['_likeli_'][3]"
   ]
  },
  {
   "cell_type": "code",
   "execution_count": null,
   "metadata": {},
   "outputs": [],
   "source": [
    "_ll_results['_likeli_'][5]"
   ]
  },
  {
   "cell_type": "code",
   "execution_count": null,
   "metadata": {},
   "outputs": [],
   "source": [
    "_ll_results['_likeli_'][4]"
   ]
  },
  {
   "cell_type": "code",
   "execution_count": null,
   "metadata": {},
   "outputs": [],
   "source": [
    "_no_states=_ll_results['_likeli_'].keys()"
   ]
  },
  {
   "cell_type": "code",
   "execution_count": null,
   "metadata": {},
   "outputs": [],
   "source": [
    "dictionary = _ll_results['_likeli_']\n",
    "print(dictionary.keys())"
   ]
  },
  {
   "cell_type": "code",
   "execution_count": null,
   "metadata": {},
   "outputs": [],
   "source": [
    "print(dictionary[2])"
   ]
  },
  {
   "cell_type": "code",
   "execution_count": null,
   "metadata": {
    "scrolled": true
   },
   "outputs": [],
   "source": [
    "fig, ax = plt.subplots()\n",
    "fig.autofmt_xdate()\n",
    "for k in dictionary:\n",
    "    xs, ys = zip(*sorted(dictionary[k].items(), key=lambda x: x[0]))\n",
    "    ax.plot([datetime.strptime(_dates[i].split('.')[0], '%Y%m%d') for i in xs],\n",
    "            ys,marker='o', linestyle='--', label=k)\n",
    "ax.legend()\n",
    "plt.xlabel('#Day')\n",
    "plt.ylabel('likelihood')\n",
    "plt.show()"
   ]
  },
  {
   "cell_type": "code",
   "execution_count": null,
   "metadata": {},
   "outputs": [],
   "source": [
    "for _date in range(0,4):\n",
    "    filename, _ = os.path.splitext(_dates[_date])\n",
    "    print filename"
   ]
  },
  {
   "cell_type": "code",
   "execution_count": null,
   "metadata": {},
   "outputs": [],
   "source": [
    "k"
   ]
  },
  {
   "cell_type": "code",
   "execution_count": null,
   "metadata": {},
   "outputs": [],
   "source": []
  }
 ],
 "metadata": {
  "kernelspec": {
   "display_name": "Python 2",
   "language": "python",
   "name": "python2"
  },
  "language_info": {
   "codemirror_mode": {
    "name": "ipython",
    "version": 2
   },
   "file_extension": ".py",
   "mimetype": "text/x-python",
   "name": "python",
   "nbconvert_exporter": "python",
   "pygments_lexer": "ipython2",
   "version": "2.7.15rc1"
  }
 },
 "nbformat": 4,
 "nbformat_minor": 2
}
