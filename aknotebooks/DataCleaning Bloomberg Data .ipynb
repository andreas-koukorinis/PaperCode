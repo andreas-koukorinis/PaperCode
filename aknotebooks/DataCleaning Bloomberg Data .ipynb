{
 "cells": [
  {
   "cell_type": "code",
   "execution_count": 4,
   "metadata": {},
   "outputs": [],
   "source": [
    "import pandas as pd\n",
    "import numpy as np\n",
    "import os\n",
    "from dateutil.parser import parse\n",
    "from pandas.tseries.offsets import BDay\n",
    "import pickle\n",
    "import fnmatch\n",
    "import datetime as dt\n",
    "from datetime import timedelta\n",
    "import glob\n",
    "#Set PANDAS to show all columns in DataFrame\n",
    "pd.set_option('display.max_columns', None)\n",
    "\n",
    "import matplotlib.pyplot as plt\n",
    "def listdirs(folder): #return only directories from a master folder\n",
    "    return [d for d in os.listdir(folder) if os.path.isdir(os.path.join(folder, d))]\n",
    "\n",
    "def find_path(basepath, stringname):\n",
    "    for fname in os.listdir(basepath):\n",
    "        path = os.path.join(basepath, fname)\n",
    "        if os.path.isdir(path):\n",
    "            if stringname in fname:\n",
    "                return path\n",
    "def get_ticket(rx_path):\n",
    "    ticker=rx_path.split(\".\")[0].split(\"/\")[-1].split(\"-\")[0]\n",
    "    return ticker\n",
    "\n",
    "def ticker_trades_dir(ticker):\n",
    "    dest=os.path.join(os.getenv('FINANCE_DATA'), \"_\".join((ticker,'trades')))\n",
    "    if not os.path.isdir(dest):\n",
    "        os.makedirs(dest)\n",
    "def quotes_trades_dir(ticker):\n",
    "    dest=os.path.join(os.getenv('FINANCE_DATA'), \"_\".join((ticker,'quotes')))\n",
    "    if not os.path.isdir(dest):\n",
    "        os.makedirs(dest)\n",
    "def agg_on_trd_time(gr):\n",
    "    \"\"\"\n",
    "    Utility func to aggregate trades on timestamp. All trades with equal time stamp\n",
    "    will collapse to one row and the traded price will be the volume weighted traded\n",
    "    price.\n",
    "    \"\"\"\n",
    "    vTrdPrice = np.sum(gr['TradedPrice'] * gr['Volume'])/np.sum(gr['Volume'])\n",
    "    volume = np.sum(gr['Volume'])\n",
    "\n",
    "    return pd.Series({'Volume': volume,\n",
    "                      'TradedPrice': vTrdPrice})\n",
    "\n",
    "def open_pickle_file(path, pickle_file):\n",
    "    file_loc = os.path.join(path, pickle_file)\n",
    "    pickle_to_file = pickle.load(open(file_loc, \"rb\"))\n",
    "    return pickle_to_file\n",
    "def common_member(a, b): \n",
    "      \n",
    "    a_set = set(a) \n",
    "    b_set = set(b) \n",
    "      \n",
    "    # check length  \n",
    "    if len(a_set.intersection(b_set)) > 0: \n",
    "        return(a_set.intersection(b_set))   \n",
    "    else: \n",
    "        return(\"no common elements\") \n",
    "\n",
    "def f(x):\n",
    "     return Series(dict(Number_of_tweets = x['content'].count(), \n",
    "                        Company=x['Company'].min(),\n",
    "                        Description=x['from_user_description'].min(),\n",
    "                        ))"
   ]
  },
  {
   "cell_type": "code",
   "execution_count": 5,
   "metadata": {},
   "outputs": [],
   "source": [
    "##locations ##\n",
    "dataOnlyDrive = ('/media/ak/DataOnly/')\n",
    "#dataOnlyDrive = ('/media/ak/My Passport/Barket Data/')"
   ]
  },
  {
   "cell_type": "code",
   "execution_count": 6,
   "metadata": {},
   "outputs": [
    {
     "data": {
      "text/plain": [
       "['VXX',\n",
       " 'FinDataReal',\n",
       " 'VXX_US_Equity-20181027',\n",
       " 'XM1_Comdty-20181028',\n",
       " 'TY1_Comdty-20181028',\n",
       " 'TY1_Comdty_trades',\n",
       " 'BTCUSD.PERP.BMEX',\n",
       " 'TY1_Comdty_quotes',\n",
       " 'US1_Comdty-20181028',\n",
       " 'US1_Comdty_trades',\n",
       " 'FinData',\n",
       " '.Trash-1000',\n",
       " 'SYNT_2states',\n",
       " 'data for testing',\n",
       " 'raw bloomberg data',\n",
       " 'US1_Comdty_quotes',\n",
       " 'crypto',\n",
       " 'YM1_Comdty_quotes',\n",
       " 'TU1_Comdty-20181028',\n",
       " 'old models',\n",
       " 'YM1_Comdty-20181028',\n",
       " 'Data',\n",
       " 'YM1_Comdty_trades',\n",
       " 'lost+found']"
      ]
     },
     "execution_count": 6,
     "metadata": {},
     "output_type": "execute_result"
    }
   ],
   "source": [
    "os.listdir(dataOnlyDrive)"
   ]
  },
  {
   "cell_type": "code",
   "execution_count": 7,
   "metadata": {},
   "outputs": [],
   "source": [
    "bmrg_folders=[s for s in os.listdir(dataOnlyDrive) if s.endswith('Comdty')]\n",
    "bmrg_trades=[s for s in os.listdir(dataOnlyDrive) if s.endswith('y_trades')]\n",
    "bmrg_quotes=[s for s in os.listdir(dataOnlyDrive) if s.endswith('y_quotes')]\n",
    "bmrg_tickers=[bmrg_trades[idx].split('_t')[0] for idx,_ in enumerate(bmrg_trades)]"
   ]
  },
  {
   "cell_type": "code",
   "execution_count": 8,
   "metadata": {},
   "outputs": [
    {
     "name": "stdout",
     "output_type": "stream",
     "text": [
      "['TY1_Comdty_quotes', 'US1_Comdty_quotes', 'YM1_Comdty_quotes'] ['TY1_Comdty_trades', 'US1_Comdty_trades', 'YM1_Comdty_trades']\n"
     ]
    }
   ],
   "source": [
    "symbols = ['FB1', 'TU1', 'TY1', 'FV1']\n",
    "print(bmrg_quotes, bmrg_trades)"
   ]
  },
  {
   "cell_type": "code",
   "execution_count": null,
   "metadata": {},
   "outputs": [],
   "source": []
  },
  {
   "cell_type": "code",
   "execution_count": 9,
   "metadata": {},
   "outputs": [],
   "source": [
    "# get dates and files\n",
    "ym_quotes = os.path.join(dataOnlyDrive,str(bmrg_quotes[0]))\n",
    "ym_trades = os.path.join(dataOnlyDrive,str(bmrg_trades[0]))\n",
    "ymQuoteDates = [quoteFile.split(\".\")[0] for quoteFile in os.listdir(ym_quotes)] \n",
    "ymTradeDates = [tradeFile.split(\".\")[0] for tradeFile in os.listdir(ym_trades)] "
   ]
  },
  {
   "cell_type": "code",
   "execution_count": 10,
   "metadata": {},
   "outputs": [
    {
     "data": {
      "text/plain": [
       "1"
      ]
     },
     "execution_count": 10,
     "metadata": {},
     "output_type": "execute_result"
    }
   ],
   "source": [
    "TradeQuoteDates =[set(ymQuoteDates).intersection(set(ymTradeDates))]\n",
    "len(TradeQuoteDates)"
   ]
  },
  {
   "cell_type": "code",
   "execution_count": 11,
   "metadata": {},
   "outputs": [
    {
     "name": "stdout",
     "output_type": "stream",
     "text": [
      "/media/ak/DataOnly/TY1_Comdty_trades/20180423.csv\n",
      "/media/ak/DataOnly/TY1_Comdty_trades/20180430.csv\n",
      "/media/ak/DataOnly/TY1_Comdty_trades/20180620.csv\n",
      "/media/ak/DataOnly/TY1_Comdty_trades/20180601.csv\n",
      "/media/ak/DataOnly/TY1_Comdty_trades/20180711.csv\n",
      "/media/ak/DataOnly/TY1_Comdty_trades/20180727.csv\n",
      "/media/ak/DataOnly/TY1_Comdty_trades/20180621.csv\n",
      "/media/ak/DataOnly/TY1_Comdty_trades/20180511.csv\n",
      "/media/ak/DataOnly/TY1_Comdty_trades/20180608.csv\n",
      "/media/ak/DataOnly/TY1_Comdty_trades/20180822.csv\n",
      "/media/ak/DataOnly/TY1_Comdty_trades/20180905.csv\n",
      "/media/ak/DataOnly/TY1_Comdty_trades/20180530.csv\n",
      "/media/ak/DataOnly/TY1_Comdty_trades/20180806.csv\n",
      "/media/ak/DataOnly/TY1_Comdty_trades/20180817.csv\n",
      "/media/ak/DataOnly/TY1_Comdty_trades/20180529.csv\n",
      "/media/ak/DataOnly/TY1_Comdty_trades/20180524.csv\n",
      "/media/ak/DataOnly/TY1_Comdty_trades/20180622.csv\n",
      "/media/ak/DataOnly/TY1_Comdty_trades/20180702.csv\n",
      "/media/ak/DataOnly/TY1_Comdty_trades/20180509.csv\n",
      "/media/ak/DataOnly/TY1_Comdty_trades/20180813.csv\n",
      "/media/ak/DataOnly/TY1_Comdty_trades/20180612.csv\n",
      "/media/ak/DataOnly/TY1_Comdty_trades/20180503.csv\n",
      "/media/ak/DataOnly/TY1_Comdty_trades/20180613.csv\n",
      "/media/ak/DataOnly/TY1_Comdty_trades/20180522.csv\n",
      "/media/ak/DataOnly/TY1_Comdty_trades/20180717.csv\n",
      "/media/ak/DataOnly/TY1_Comdty_trades/20180628.csv\n",
      "/media/ak/DataOnly/TY1_Comdty_trades/20180828.csv\n",
      "/media/ak/DataOnly/TY1_Comdty_trades/20180911.csv\n",
      "/media/ak/DataOnly/TY1_Comdty_trades/20180614.csv\n",
      "/media/ak/DataOnly/TY1_Comdty_trades/20180809.csv\n",
      "/media/ak/DataOnly/TY1_Comdty_trades/20180518.csv\n",
      "/media/ak/DataOnly/TY1_Comdty_trades/20180502.csv\n",
      "/media/ak/DataOnly/TY1_Comdty_trades/20180606.csv\n",
      "/media/ak/DataOnly/TY1_Comdty_trades/20180829.csv\n",
      "/media/ak/DataOnly/TY1_Comdty_trades/20180713.csv\n",
      "/media/ak/DataOnly/TY1_Comdty_trades/20180604.csv\n",
      "/media/ak/DataOnly/TY1_Comdty_trades/20180823.csv\n",
      "/media/ak/DataOnly/TY1_Comdty_trades/20180730.csv\n",
      "/media/ak/DataOnly/TY1_Comdty_trades/20180801.csv\n",
      "/media/ak/DataOnly/TY1_Comdty_trades/20180906.csv\n",
      "/media/ak/DataOnly/TY1_Comdty_trades/20180814.csv\n",
      "/media/ak/DataOnly/TY1_Comdty_trades/20180424.csv\n",
      "/media/ak/DataOnly/TY1_Comdty_trades/20180907.csv\n",
      "/media/ak/DataOnly/TY1_Comdty_trades/20180704.csv\n",
      "/media/ak/DataOnly/TY1_Comdty_trades/20180517.csv\n",
      "/media/ak/DataOnly/TY1_Comdty_trades/20180731.csv\n",
      "/media/ak/DataOnly/TY1_Comdty_trades/20180703.csv\n",
      "/media/ak/DataOnly/TY1_Comdty_trades/20180718.csv\n",
      "/media/ak/DataOnly/TY1_Comdty_trades/20180516.csv\n",
      "/media/ak/DataOnly/TY1_Comdty_trades/20180716.csv\n",
      "/media/ak/DataOnly/TY1_Comdty_trades/20180525.csv\n",
      "/media/ak/DataOnly/TY1_Comdty_trades/20180726.csv\n",
      "/media/ak/DataOnly/TY1_Comdty_trades/20180720.csv\n",
      "/media/ak/DataOnly/TY1_Comdty_trades/20180611.csv\n",
      "/media/ak/DataOnly/TY1_Comdty_trades/20180531.csv\n",
      "/media/ak/DataOnly/TY1_Comdty_trades/20180504.csv\n",
      "/media/ak/DataOnly/TY1_Comdty_trades/20180508.csv\n",
      "/media/ak/DataOnly/TY1_Comdty_trades/20180627.csv\n",
      "/media/ak/DataOnly/TY1_Comdty_trades/20180418.csv\n",
      "/media/ak/DataOnly/TY1_Comdty_trades/20180903.csv\n",
      "/media/ak/DataOnly/TY1_Comdty_trades/20180521.csv\n",
      "/media/ak/DataOnly/TY1_Comdty_trades/20180807.csv\n",
      "/media/ak/DataOnly/TY1_Comdty_trades/20180831.csv\n",
      "/media/ak/DataOnly/TY1_Comdty_trades/20180619.csv\n",
      "/media/ak/DataOnly/TY1_Comdty_trades/20180523.csv\n",
      "/media/ak/DataOnly/TY1_Comdty_trades/20180816.csv\n",
      "/media/ak/DataOnly/TY1_Comdty_trades/20180824.csv\n",
      "/media/ak/DataOnly/TY1_Comdty_trades/20180810.csv\n",
      "/media/ak/DataOnly/TY1_Comdty_trades/20180821.csv\n",
      "/media/ak/DataOnly/TY1_Comdty_trades/20180425.csv\n",
      "/media/ak/DataOnly/TY1_Comdty_trades/20180420.csv\n",
      "/media/ak/DataOnly/TY1_Comdty_trades/20180416.csv\n",
      "/media/ak/DataOnly/TY1_Comdty_trades/20180605.csv\n",
      "/media/ak/DataOnly/TY1_Comdty_trades/20180802.csv\n",
      "/media/ak/DataOnly/TY1_Comdty_trades/20180712.csv\n",
      "/media/ak/DataOnly/TY1_Comdty_trades/20180723.csv\n",
      "/media/ak/DataOnly/TY1_Comdty_trades/20180803.csv\n",
      "/media/ak/DataOnly/TY1_Comdty_trades/20180419.csv\n",
      "/media/ak/DataOnly/TY1_Comdty_trades/20180507.csv\n",
      "/media/ak/DataOnly/TY1_Comdty_trades/20180417.csv\n",
      "/media/ak/DataOnly/TY1_Comdty_trades/20180515.csv\n",
      "/media/ak/DataOnly/TY1_Comdty_trades/20180426.csv\n",
      "/media/ak/DataOnly/TY1_Comdty_trades/20180615.csv\n",
      "/media/ak/DataOnly/TY1_Comdty_trades/20180827.csv\n",
      "/media/ak/DataOnly/TY1_Comdty_trades/20180710.csv\n",
      "/media/ak/DataOnly/TY1_Comdty_trades/20180427.csv\n",
      "/media/ak/DataOnly/TY1_Comdty_trades/20180607.csv\n",
      "/media/ak/DataOnly/TY1_Comdty_trades/20180706.csv\n",
      "/media/ak/DataOnly/TY1_Comdty_trades/20180626.csv\n",
      "/media/ak/DataOnly/TY1_Comdty_trades/20180629.csv\n",
      "/media/ak/DataOnly/TY1_Comdty_trades/20180830.csv\n",
      "/media/ak/DataOnly/TY1_Comdty_trades/20180815.csv\n",
      "/media/ak/DataOnly/TY1_Comdty_trades/20180808.csv\n",
      "/media/ak/DataOnly/TY1_Comdty_trades/20180618.csv\n",
      "/media/ak/DataOnly/TY1_Comdty_trades/20180705.csv\n",
      "/media/ak/DataOnly/TY1_Comdty_trades/20180910.csv\n",
      "/media/ak/DataOnly/TY1_Comdty_trades/20180625.csv\n",
      "/media/ak/DataOnly/TY1_Comdty_trades/20180820.csv\n",
      "/media/ak/DataOnly/TY1_Comdty_trades/20180904.csv\n",
      "/media/ak/DataOnly/TY1_Comdty_trades/20180501.csv\n",
      "/media/ak/DataOnly/TY1_Comdty_trades/20180725.csv\n",
      "/media/ak/DataOnly/TY1_Comdty_trades/20180719.csv\n",
      "/media/ak/DataOnly/TY1_Comdty_trades/20180724.csv\n",
      "/media/ak/DataOnly/TY1_Comdty_trades/20180709.csv\n",
      "/media/ak/DataOnly/TY1_Comdty_trades/20180528.csv\n",
      "/media/ak/DataOnly/TY1_Comdty_trades/20180413.csv\n",
      "/media/ak/DataOnly/TY1_Comdty_trades/20180510.csv\n",
      "/media/ak/DataOnly/TY1_Comdty_trades/20180514.csv\n"
     ]
    }
   ],
   "source": [
    "quoteTradeDates=[eventDate for eventDate in ymQuoteDates if eventDate in ymTradeDates]\n",
    "len(quoteTradeDates)\n",
    "for qTdate in quoteTradeDates:\n",
    "    tradeTestDate = os.path.join(ym_trades, \".\".join((qTdate,'csv')))\n",
    "    print (tradeTestDate)"
   ]
  },
  {
   "cell_type": "code",
   "execution_count": 12,
   "metadata": {},
   "outputs": [],
   "source": [
    "tradeTestDate = os.path.join(ym_trades, quoteTradeDates[0]+'.csv')\n",
    "tradeQuoteDate = os.path.join(ym_quotes, quoteTradeDates[0]+'.csv')\n",
    "trades =pd.read_csv(tradeTestDate,low_memory=False)\n",
    "quotes = pd.read_csv(tradeQuoteDate, low_memory=False)"
   ]
  },
  {
   "cell_type": "code",
   "execution_count": 13,
   "metadata": {},
   "outputs": [],
   "source": [
    "#create dictionaries that have all the data we may need/want. on for top of the LOB and one for trades\n",
    "dfAllTrades ={}\n",
    "dfAllQuotes ={}\n",
    "for idx,date in enumerate(quoteTradeDates):\n",
    "    tradeTestDate = pd.read_csv(os.path.join(ym_trades, quoteTradeDates[idx]+'.csv'))\n",
    "    tradeQuoteDate = pd.read_csv(os.path.join(ym_quotes, quoteTradeDates[idx]+'.csv'))\n",
    "    dfAllTrades[date] = tradeTestDate\n",
    "    dfAllQuotes[date] = tradeQuoteDate\n",
    "    \n",
    "    "
   ]
  },
  {
   "cell_type": "code",
   "execution_count": 17,
   "metadata": {},
   "outputs": [],
   "source": [
    "dKeys = list(dfAllQuotes.keys()) #one common set of keys at the moment\n",
    "dTradeKeys = list(dfAllTrades.keys())"
   ]
  },
  {
   "cell_type": "code",
   "execution_count": null,
   "metadata": {},
   "outputs": [],
   "source": [
    "\n"
   ]
  },
  {
   "cell_type": "code",
   "execution_count": 18,
   "metadata": {},
   "outputs": [],
   "source": [
    "commonDates =set(dKeys).intersection(set(dTradeKeys))\n",
    "dfLOBRaw={}\n",
    "# QuoteColumns =['Unnamed: 0','TimeStamp']\n",
    "# TradeColumns= ['Unnamed: 0', 'size', 'time', 'type', 'value']\n",
    "for idx, dateKey in enumerate(commonDates):\n",
    "    #dfAllQuotes[dKeys[idx]].reset_index(level=0, inplace=True)\n",
    "    dfAllQuotes[dKeys[idx]]['TimeStamp']= pd.to_datetime(dfAllQuotes[dKeys[idx]]['time'])\n",
    "    dfAllTrades[dKeys[idx]]['TradeTimeStamp']= pd.to_datetime(dfAllTrades[dKeys[idx]]['time'])\n",
    "    dfAllTrades[dKeys[idx]]['TradedPrice']= dfAllTrades[dKeys[idx]]['value']\n",
    "    dfAllTrades[dKeys[idx]]['TradedSize']= dfAllTrades[dKeys[idx]]['size']\n",
    "    dfAllTrades[dKeys[idx]].rename(columns = {'type':'QuotedSide','value':'bestPrice','size':'QuoteSize','time':'QuoteTimeStamp'}, inplace = True) \n",
    "    \n",
    "    "
   ]
  },
  {
   "cell_type": "code",
   "execution_count": null,
   "metadata": {},
   "outputs": [],
   "source": []
  },
  {
   "cell_type": "code",
   "execution_count": 19,
   "metadata": {},
   "outputs": [],
   "source": [
    "quotesKeys=list(dfAllQuotes.keys())"
   ]
  },
  {
   "cell_type": "code",
   "execution_count": null,
   "metadata": {},
   "outputs": [],
   "source": [
    "# symbol = 'TY_'\n",
    "# filename = \".\".join((symbol+'AllQuotes','pkl'))\n",
    "\n",
    "# ProcessedDataOnly ='/media/ak/My Passport/ProcessedData/'\n",
    "# file_loc_name = \"\".join((ProcessedDataOnly,filename))\n",
    "# with open(file_loc_name, 'wb') as handle:\n",
    "#     pickle.dump(dfAllQuotes, handle, protocol=pickle.HIGHEST_PROTOCOL)\n",
    "# # file_loc_name"
   ]
  },
  {
   "cell_type": "code",
   "execution_count": 32,
   "metadata": {},
   "outputs": [],
   "source": [
    "# symbol = 'TY_'\n",
    "# filename = \".\".join((symbol+'AllTrades','pkl'))\n",
    "# \"\".join((dataOnlyDrive,filename))\n",
    "\n"
   ]
  },
  {
   "cell_type": "code",
   "execution_count": 21,
   "metadata": {},
   "outputs": [
    {
     "data": {
      "text/html": [
       "<div>\n",
       "<style scoped>\n",
       "    .dataframe tbody tr th:only-of-type {\n",
       "        vertical-align: middle;\n",
       "    }\n",
       "\n",
       "    .dataframe tbody tr th {\n",
       "        vertical-align: top;\n",
       "    }\n",
       "\n",
       "    .dataframe thead th {\n",
       "        text-align: right;\n",
       "    }\n",
       "</style>\n",
       "<table border=\"1\" class=\"dataframe\">\n",
       "  <thead>\n",
       "    <tr style=\"text-align: right;\">\n",
       "      <th></th>\n",
       "      <th>Unnamed: 0</th>\n",
       "      <th>size</th>\n",
       "      <th>time</th>\n",
       "      <th>type</th>\n",
       "      <th>value</th>\n",
       "      <th>TimeStamp</th>\n",
       "    </tr>\n",
       "  </thead>\n",
       "  <tbody>\n",
       "    <tr>\n",
       "      <td>0</td>\n",
       "      <td>0</td>\n",
       "      <td>760</td>\n",
       "      <td>2018-04-23 00:00:00</td>\n",
       "      <td>BID</td>\n",
       "      <td>119.421875</td>\n",
       "      <td>2018-04-23</td>\n",
       "    </tr>\n",
       "    <tr>\n",
       "      <td>1</td>\n",
       "      <td>1</td>\n",
       "      <td>674</td>\n",
       "      <td>2018-04-23 00:00:00</td>\n",
       "      <td>ASK</td>\n",
       "      <td>119.437500</td>\n",
       "      <td>2018-04-23</td>\n",
       "    </tr>\n",
       "    <tr>\n",
       "      <td>2</td>\n",
       "      <td>2</td>\n",
       "      <td>791</td>\n",
       "      <td>2018-04-23 00:00:00</td>\n",
       "      <td>BID</td>\n",
       "      <td>119.421875</td>\n",
       "      <td>2018-04-23</td>\n",
       "    </tr>\n",
       "    <tr>\n",
       "      <td>3</td>\n",
       "      <td>3</td>\n",
       "      <td>837</td>\n",
       "      <td>2018-04-23 00:00:00</td>\n",
       "      <td>BID</td>\n",
       "      <td>119.421875</td>\n",
       "      <td>2018-04-23</td>\n",
       "    </tr>\n",
       "    <tr>\n",
       "      <td>4</td>\n",
       "      <td>4</td>\n",
       "      <td>846</td>\n",
       "      <td>2018-04-23 00:00:00</td>\n",
       "      <td>BID</td>\n",
       "      <td>119.421875</td>\n",
       "      <td>2018-04-23</td>\n",
       "    </tr>\n",
       "  </tbody>\n",
       "</table>\n",
       "</div>"
      ],
      "text/plain": [
       "   Unnamed: 0  size                 time type       value  TimeStamp\n",
       "0           0   760  2018-04-23 00:00:00  BID  119.421875 2018-04-23\n",
       "1           1   674  2018-04-23 00:00:00  ASK  119.437500 2018-04-23\n",
       "2           2   791  2018-04-23 00:00:00  BID  119.421875 2018-04-23\n",
       "3           3   837  2018-04-23 00:00:00  BID  119.421875 2018-04-23\n",
       "4           4   846  2018-04-23 00:00:00  BID  119.421875 2018-04-23"
      ]
     },
     "execution_count": 21,
     "metadata": {},
     "output_type": "execute_result"
    }
   ],
   "source": [
    "dfAllQuotes[dKeys[0]].head()"
   ]
  },
  {
   "cell_type": "code",
   "execution_count": 42,
   "metadata": {},
   "outputs": [],
   "source": [
    "# dfLOBraw ={}\n",
    "# for idx, dateKey in enumerate(commonDates):\n",
    "#     dfBID =dfAllQuotes[dKeys[idx]][dfAllQuotes[dKeys[0]]['type']=='BID'].rename(columns={'type':'BidSide','value':'bestBidPrice','size':'bestBidSize','time':'BidTimeStamp'})\n",
    "#     dfASK =dfAllQuotes[dKeys[idx]][dfAllQuotes[dKeys[0]]['type']=='ASK'].rename(columns={'type':'AskSide','value':'bestAskPrice','size':'bestAskSize','time':'AskTimeStamp'})\n",
    "#     dfLOBraw[dKeys[idx]] =pd.concat([dfBID, dfASK],axis=1, join='outer')"
   ]
  },
  {
   "cell_type": "code",
   "execution_count": 29,
   "metadata": {},
   "outputs": [],
   "source": [
    "idx=0\n",
    "dfBID =dfAllQuotes[dKeys[idx]][dfAllQuotes[dKeys[idx]]['type']=='BID'].rename(columns={'type':'BidSide','value':'bestBidPrice','size':'bestBidSize','time':'BidTimeStamp'})#.drop(QuoteColumns, inplace=True, axis=1)\n",
    "dfASK =dfAllQuotes[dKeys[idx]][dfAllQuotes[dKeys[idx]]['type']=='ASK'].rename(columns={'type':'AskSide','value':'bestAskPrice','size':'bestAskSize','time':'AskTimeStamp'})#.drop(QuoteColumns, inplace=True, axis=1)\n",
    "dfLOBRaw[dKeys[idx]] =pd.concat([dfBID, dfASK],axis=1, join='outer').ffill().dropna()\n",
    "#dfAllQuotes[dateKeys[idx]]['Time']= dfAllQuotes[dateKeys[idx]]['time'].dt.time\n",
    "    \n",
    "    "
   ]
  },
  {
   "cell_type": "code",
   "execution_count": 33,
   "metadata": {},
   "outputs": [
    {
     "data": {
      "text/html": [
       "<div>\n",
       "<style scoped>\n",
       "    .dataframe tbody tr th:only-of-type {\n",
       "        vertical-align: middle;\n",
       "    }\n",
       "\n",
       "    .dataframe tbody tr th {\n",
       "        vertical-align: top;\n",
       "    }\n",
       "\n",
       "    .dataframe thead th {\n",
       "        text-align: right;\n",
       "    }\n",
       "</style>\n",
       "<table border=\"1\" class=\"dataframe\">\n",
       "  <thead>\n",
       "    <tr style=\"text-align: right;\">\n",
       "      <th></th>\n",
       "      <th>Unnamed: 0</th>\n",
       "      <th>bestBidSize</th>\n",
       "      <th>BidTimeStamp</th>\n",
       "      <th>BidSide</th>\n",
       "      <th>bestBidPrice</th>\n",
       "      <th>TimeStamp</th>\n",
       "      <th>Unnamed: 0</th>\n",
       "      <th>bestAskSize</th>\n",
       "      <th>AskTimeStamp</th>\n",
       "      <th>AskSide</th>\n",
       "      <th>bestAskPrice</th>\n",
       "      <th>TimeStamp</th>\n",
       "    </tr>\n",
       "  </thead>\n",
       "  <tbody>\n",
       "    <tr>\n",
       "      <td>1</td>\n",
       "      <td>0.0</td>\n",
       "      <td>1537.0</td>\n",
       "      <td>2018-05-14 00:00:00</td>\n",
       "      <td>ASK</td>\n",
       "      <td>119.375000</td>\n",
       "      <td>2018-05-14</td>\n",
       "      <td>1.0</td>\n",
       "      <td>1538.0</td>\n",
       "      <td>2018-05-14 00:00:00</td>\n",
       "      <td>ASK</td>\n",
       "      <td>119.375000</td>\n",
       "      <td>2018-05-14</td>\n",
       "    </tr>\n",
       "    <tr>\n",
       "      <td>2</td>\n",
       "      <td>2.0</td>\n",
       "      <td>330.0</td>\n",
       "      <td>2018-05-14 00:00:00</td>\n",
       "      <td>BID</td>\n",
       "      <td>119.359375</td>\n",
       "      <td>2018-05-14</td>\n",
       "      <td>1.0</td>\n",
       "      <td>1538.0</td>\n",
       "      <td>2018-05-14 00:00:00</td>\n",
       "      <td>ASK</td>\n",
       "      <td>119.375000</td>\n",
       "      <td>2018-05-14</td>\n",
       "    </tr>\n",
       "    <tr>\n",
       "      <td>3</td>\n",
       "      <td>3.0</td>\n",
       "      <td>321.0</td>\n",
       "      <td>2018-05-14 00:00:00</td>\n",
       "      <td>BID</td>\n",
       "      <td>119.359375</td>\n",
       "      <td>2018-05-14</td>\n",
       "      <td>1.0</td>\n",
       "      <td>1538.0</td>\n",
       "      <td>2018-05-14 00:00:00</td>\n",
       "      <td>ASK</td>\n",
       "      <td>119.375000</td>\n",
       "      <td>2018-05-14</td>\n",
       "    </tr>\n",
       "    <tr>\n",
       "      <td>4</td>\n",
       "      <td>4.0</td>\n",
       "      <td>311.0</td>\n",
       "      <td>2018-05-14 00:00:00</td>\n",
       "      <td>BID</td>\n",
       "      <td>119.359375</td>\n",
       "      <td>2018-05-14</td>\n",
       "      <td>1.0</td>\n",
       "      <td>1538.0</td>\n",
       "      <td>2018-05-14 00:00:00</td>\n",
       "      <td>ASK</td>\n",
       "      <td>119.375000</td>\n",
       "      <td>2018-05-14</td>\n",
       "    </tr>\n",
       "    <tr>\n",
       "      <td>5</td>\n",
       "      <td>5.0</td>\n",
       "      <td>310.0</td>\n",
       "      <td>2018-05-14 00:00:00</td>\n",
       "      <td>BID</td>\n",
       "      <td>119.359375</td>\n",
       "      <td>2018-05-14</td>\n",
       "      <td>1.0</td>\n",
       "      <td>1538.0</td>\n",
       "      <td>2018-05-14 00:00:00</td>\n",
       "      <td>ASK</td>\n",
       "      <td>119.375000</td>\n",
       "      <td>2018-05-14</td>\n",
       "    </tr>\n",
       "    <tr>\n",
       "      <td>...</td>\n",
       "      <td>...</td>\n",
       "      <td>...</td>\n",
       "      <td>...</td>\n",
       "      <td>...</td>\n",
       "      <td>...</td>\n",
       "      <td>...</td>\n",
       "      <td>...</td>\n",
       "      <td>...</td>\n",
       "      <td>...</td>\n",
       "      <td>...</td>\n",
       "      <td>...</td>\n",
       "      <td>...</td>\n",
       "    </tr>\n",
       "    <tr>\n",
       "      <td>797256</td>\n",
       "      <td>826464.0</td>\n",
       "      <td>487.0</td>\n",
       "      <td>2018-05-15 00:00:00</td>\n",
       "      <td>BID</td>\n",
       "      <td>119.171875</td>\n",
       "      <td>2018-05-15</td>\n",
       "      <td>826466.0</td>\n",
       "      <td>472.0</td>\n",
       "      <td>2018-05-15 00:00:00</td>\n",
       "      <td>BID</td>\n",
       "      <td>119.171875</td>\n",
       "      <td>2018-05-15</td>\n",
       "    </tr>\n",
       "    <tr>\n",
       "      <td>797257</td>\n",
       "      <td>826464.0</td>\n",
       "      <td>487.0</td>\n",
       "      <td>2018-05-15 00:00:00</td>\n",
       "      <td>BID</td>\n",
       "      <td>119.171875</td>\n",
       "      <td>2018-05-15</td>\n",
       "      <td>826467.0</td>\n",
       "      <td>452.0</td>\n",
       "      <td>2018-05-15 00:00:00</td>\n",
       "      <td>BID</td>\n",
       "      <td>119.171875</td>\n",
       "      <td>2018-05-15</td>\n",
       "    </tr>\n",
       "    <tr>\n",
       "      <td>797258</td>\n",
       "      <td>826464.0</td>\n",
       "      <td>487.0</td>\n",
       "      <td>2018-05-15 00:00:00</td>\n",
       "      <td>BID</td>\n",
       "      <td>119.171875</td>\n",
       "      <td>2018-05-15</td>\n",
       "      <td>826468.0</td>\n",
       "      <td>451.0</td>\n",
       "      <td>2018-05-15 00:00:00</td>\n",
       "      <td>BID</td>\n",
       "      <td>119.171875</td>\n",
       "      <td>2018-05-15</td>\n",
       "    </tr>\n",
       "    <tr>\n",
       "      <td>797259</td>\n",
       "      <td>826464.0</td>\n",
       "      <td>487.0</td>\n",
       "      <td>2018-05-15 00:00:00</td>\n",
       "      <td>BID</td>\n",
       "      <td>119.171875</td>\n",
       "      <td>2018-05-15</td>\n",
       "      <td>826469.0</td>\n",
       "      <td>444.0</td>\n",
       "      <td>2018-05-15 00:00:00</td>\n",
       "      <td>BID</td>\n",
       "      <td>119.171875</td>\n",
       "      <td>2018-05-15</td>\n",
       "    </tr>\n",
       "    <tr>\n",
       "      <td>797260</td>\n",
       "      <td>826470.0</td>\n",
       "      <td>443.0</td>\n",
       "      <td>2018-05-15 00:00:00</td>\n",
       "      <td>BID</td>\n",
       "      <td>119.171875</td>\n",
       "      <td>2018-05-15</td>\n",
       "      <td>826469.0</td>\n",
       "      <td>444.0</td>\n",
       "      <td>2018-05-15 00:00:00</td>\n",
       "      <td>BID</td>\n",
       "      <td>119.171875</td>\n",
       "      <td>2018-05-15</td>\n",
       "    </tr>\n",
       "  </tbody>\n",
       "</table>\n",
       "<p>797260 rows × 12 columns</p>\n",
       "</div>"
      ],
      "text/plain": [
       "        Unnamed: 0  bestBidSize         BidTimeStamp BidSide  bestBidPrice  \\\n",
       "1              0.0       1537.0  2018-05-14 00:00:00     ASK    119.375000   \n",
       "2              2.0        330.0  2018-05-14 00:00:00     BID    119.359375   \n",
       "3              3.0        321.0  2018-05-14 00:00:00     BID    119.359375   \n",
       "4              4.0        311.0  2018-05-14 00:00:00     BID    119.359375   \n",
       "5              5.0        310.0  2018-05-14 00:00:00     BID    119.359375   \n",
       "...            ...          ...                  ...     ...           ...   \n",
       "797256    826464.0        487.0  2018-05-15 00:00:00     BID    119.171875   \n",
       "797257    826464.0        487.0  2018-05-15 00:00:00     BID    119.171875   \n",
       "797258    826464.0        487.0  2018-05-15 00:00:00     BID    119.171875   \n",
       "797259    826464.0        487.0  2018-05-15 00:00:00     BID    119.171875   \n",
       "797260    826470.0        443.0  2018-05-15 00:00:00     BID    119.171875   \n",
       "\n",
       "        TimeStamp  Unnamed: 0  bestAskSize         AskTimeStamp AskSide  \\\n",
       "1      2018-05-14         1.0       1538.0  2018-05-14 00:00:00     ASK   \n",
       "2      2018-05-14         1.0       1538.0  2018-05-14 00:00:00     ASK   \n",
       "3      2018-05-14         1.0       1538.0  2018-05-14 00:00:00     ASK   \n",
       "4      2018-05-14         1.0       1538.0  2018-05-14 00:00:00     ASK   \n",
       "5      2018-05-14         1.0       1538.0  2018-05-14 00:00:00     ASK   \n",
       "...           ...         ...          ...                  ...     ...   \n",
       "797256 2018-05-15    826466.0        472.0  2018-05-15 00:00:00     BID   \n",
       "797257 2018-05-15    826467.0        452.0  2018-05-15 00:00:00     BID   \n",
       "797258 2018-05-15    826468.0        451.0  2018-05-15 00:00:00     BID   \n",
       "797259 2018-05-15    826469.0        444.0  2018-05-15 00:00:00     BID   \n",
       "797260 2018-05-15    826469.0        444.0  2018-05-15 00:00:00     BID   \n",
       "\n",
       "        bestAskPrice  TimeStamp  \n",
       "1         119.375000 2018-05-14  \n",
       "2         119.375000 2018-05-14  \n",
       "3         119.375000 2018-05-14  \n",
       "4         119.375000 2018-05-14  \n",
       "5         119.375000 2018-05-14  \n",
       "...              ...        ...  \n",
       "797256    119.171875 2018-05-15  \n",
       "797257    119.171875 2018-05-15  \n",
       "797258    119.171875 2018-05-15  \n",
       "797259    119.171875 2018-05-15  \n",
       "797260    119.171875 2018-05-15  \n",
       "\n",
       "[797260 rows x 12 columns]"
      ]
     },
     "execution_count": 33,
     "metadata": {},
     "output_type": "execute_result"
    }
   ],
   "source": [
    "dfLOBRaw['20180514']"
   ]
  },
  {
   "cell_type": "code",
   "execution_count": 25,
   "metadata": {},
   "outputs": [
    {
     "data": {
      "text/html": [
       "<div>\n",
       "<style scoped>\n",
       "    .dataframe tbody tr th:only-of-type {\n",
       "        vertical-align: middle;\n",
       "    }\n",
       "\n",
       "    .dataframe tbody tr th {\n",
       "        vertical-align: top;\n",
       "    }\n",
       "\n",
       "    .dataframe thead th {\n",
       "        text-align: right;\n",
       "    }\n",
       "</style>\n",
       "<table border=\"1\" class=\"dataframe\">\n",
       "  <thead>\n",
       "    <tr style=\"text-align: right;\">\n",
       "      <th></th>\n",
       "      <th>Unnamed: 0</th>\n",
       "      <th>bestAskSize</th>\n",
       "      <th>AskTimeStamp</th>\n",
       "      <th>AskSide</th>\n",
       "      <th>bestAskPrice</th>\n",
       "      <th>TimeStamp</th>\n",
       "    </tr>\n",
       "  </thead>\n",
       "  <tbody>\n",
       "    <tr>\n",
       "      <td>1</td>\n",
       "      <td>1</td>\n",
       "      <td>1538</td>\n",
       "      <td>2018-05-14 00:00:00</td>\n",
       "      <td>ASK</td>\n",
       "      <td>119.375000</td>\n",
       "      <td>2018-05-14 00:00:00</td>\n",
       "    </tr>\n",
       "    <tr>\n",
       "      <td>10</td>\n",
       "      <td>10</td>\n",
       "      <td>1582</td>\n",
       "      <td>2018-05-14 00:00:00</td>\n",
       "      <td>ASK</td>\n",
       "      <td>119.375000</td>\n",
       "      <td>2018-05-14 00:00:00</td>\n",
       "    </tr>\n",
       "    <tr>\n",
       "      <td>12</td>\n",
       "      <td>12</td>\n",
       "      <td>239</td>\n",
       "      <td>2018-05-14 00:00:00</td>\n",
       "      <td>BID</td>\n",
       "      <td>119.359375</td>\n",
       "      <td>2018-05-14 00:00:00</td>\n",
       "    </tr>\n",
       "    <tr>\n",
       "      <td>22</td>\n",
       "      <td>22</td>\n",
       "      <td>1596</td>\n",
       "      <td>2018-05-14 00:00:02</td>\n",
       "      <td>ASK</td>\n",
       "      <td>119.375000</td>\n",
       "      <td>2018-05-14 00:00:02</td>\n",
       "    </tr>\n",
       "  </tbody>\n",
       "</table>\n",
       "</div>"
      ],
      "text/plain": [
       "    Unnamed: 0  bestAskSize         AskTimeStamp AskSide  bestAskPrice  \\\n",
       "1            1         1538  2018-05-14 00:00:00     ASK    119.375000   \n",
       "10          10         1582  2018-05-14 00:00:00     ASK    119.375000   \n",
       "12          12          239  2018-05-14 00:00:00     BID    119.359375   \n",
       "22          22         1596  2018-05-14 00:00:02     ASK    119.375000   \n",
       "\n",
       "             TimeStamp  \n",
       "1  2018-05-14 00:00:00  \n",
       "10 2018-05-14 00:00:00  \n",
       "12 2018-05-14 00:00:00  \n",
       "22 2018-05-14 00:00:02  "
      ]
     },
     "execution_count": 25,
     "metadata": {},
     "output_type": "execute_result"
    }
   ],
   "source": [
    "dfASK.columns.values\n",
    "AskColumns =['level_0', 'index', 'Unnamed: 0','TimeStamp', 'AskSide']\n",
    "dfASK.head(4)"
   ]
  },
  {
   "cell_type": "code",
   "execution_count": 24,
   "metadata": {},
   "outputs": [
    {
     "data": {
      "text/html": [
       "<div>\n",
       "<style scoped>\n",
       "    .dataframe tbody tr th:only-of-type {\n",
       "        vertical-align: middle;\n",
       "    }\n",
       "\n",
       "    .dataframe tbody tr th {\n",
       "        vertical-align: top;\n",
       "    }\n",
       "\n",
       "    .dataframe thead th {\n",
       "        text-align: right;\n",
       "    }\n",
       "</style>\n",
       "<table border=\"1\" class=\"dataframe\">\n",
       "  <thead>\n",
       "    <tr style=\"text-align: right;\">\n",
       "      <th></th>\n",
       "      <th>Unnamed: 0</th>\n",
       "      <th>QuoteSize</th>\n",
       "      <th>QuoteTimeStamp</th>\n",
       "      <th>QuotedSide</th>\n",
       "      <th>bestPrice</th>\n",
       "      <th>TradeTimeStamp</th>\n",
       "      <th>TradedPrice</th>\n",
       "      <th>TradedSize</th>\n",
       "    </tr>\n",
       "  </thead>\n",
       "  <tbody>\n",
       "    <tr>\n",
       "      <td>0</td>\n",
       "      <td>12</td>\n",
       "      <td>3</td>\n",
       "      <td>2018-04-23 00:00:00</td>\n",
       "      <td>TRADE</td>\n",
       "      <td>119.437500</td>\n",
       "      <td>2018-04-23 00:00:00</td>\n",
       "      <td>119.437500</td>\n",
       "      <td>3</td>\n",
       "    </tr>\n",
       "    <tr>\n",
       "      <td>1</td>\n",
       "      <td>33</td>\n",
       "      <td>50</td>\n",
       "      <td>2018-04-23 00:00:07</td>\n",
       "      <td>TRADE</td>\n",
       "      <td>119.421875</td>\n",
       "      <td>2018-04-23 00:00:07</td>\n",
       "      <td>119.421875</td>\n",
       "      <td>50</td>\n",
       "    </tr>\n",
       "    <tr>\n",
       "      <td>2</td>\n",
       "      <td>38</td>\n",
       "      <td>1</td>\n",
       "      <td>2018-04-23 00:00:07</td>\n",
       "      <td>TRADE</td>\n",
       "      <td>119.437500</td>\n",
       "      <td>2018-04-23 00:00:07</td>\n",
       "      <td>119.437500</td>\n",
       "      <td>1</td>\n",
       "    </tr>\n",
       "    <tr>\n",
       "      <td>3</td>\n",
       "      <td>72</td>\n",
       "      <td>1</td>\n",
       "      <td>2018-04-23 00:00:53</td>\n",
       "      <td>TRADE</td>\n",
       "      <td>119.421875</td>\n",
       "      <td>2018-04-23 00:00:53</td>\n",
       "      <td>119.421875</td>\n",
       "      <td>1</td>\n",
       "    </tr>\n",
       "    <tr>\n",
       "      <td>4</td>\n",
       "      <td>78</td>\n",
       "      <td>1</td>\n",
       "      <td>2018-04-23 00:01:07</td>\n",
       "      <td>TRADE</td>\n",
       "      <td>119.437500</td>\n",
       "      <td>2018-04-23 00:01:07</td>\n",
       "      <td>119.437500</td>\n",
       "      <td>1</td>\n",
       "    </tr>\n",
       "  </tbody>\n",
       "</table>\n",
       "</div>"
      ],
      "text/plain": [
       "   Unnamed: 0  QuoteSize       QuoteTimeStamp QuotedSide   bestPrice  \\\n",
       "0          12          3  2018-04-23 00:00:00      TRADE  119.437500   \n",
       "1          33         50  2018-04-23 00:00:07      TRADE  119.421875   \n",
       "2          38          1  2018-04-23 00:00:07      TRADE  119.437500   \n",
       "3          72          1  2018-04-23 00:00:53      TRADE  119.421875   \n",
       "4          78          1  2018-04-23 00:01:07      TRADE  119.437500   \n",
       "\n",
       "       TradeTimeStamp  TradedPrice  TradedSize  \n",
       "0 2018-04-23 00:00:00   119.437500           3  \n",
       "1 2018-04-23 00:00:07   119.421875          50  \n",
       "2 2018-04-23 00:00:07   119.437500           1  \n",
       "3 2018-04-23 00:00:53   119.421875           1  \n",
       "4 2018-04-23 00:01:07   119.437500           1  "
      ]
     },
     "execution_count": 24,
     "metadata": {},
     "output_type": "execute_result"
    }
   ],
   "source": [
    "dfAllTrades[dKeys[0]].head(5)"
   ]
  },
  {
   "cell_type": "code",
   "execution_count": null,
   "metadata": {},
   "outputs": [],
   "source": [
    "columns = ['index', 'Unnamed: 0','time','AskSide']\n",
    "# df.drop(columns, inplace=True, axis=1)"
   ]
  },
  {
   "cell_type": "code",
   "execution_count": 37,
   "metadata": {},
   "outputs": [],
   "source": [
    "dfBID =dfAllQuotes[dKeys[0]][dfAllQuotes[dKeys[0]]['type']=='BID'].rename(columns={'type':'BidSide','value':'bestBidPrice','size':'bestBidSize','TimeStamp':'BidTimeStamp'})\n",
    "dfASK =dfAllQuotes[dKeys[0]][dfAllQuotes[dKeys[0]]['type']=='ASK'].rename(columns={'type':'AskSide','value':'bestAskPrice','size':'bestAskSize','TimeStamp':'AskTimeStamp'})"
   ]
  },
  {
   "cell_type": "code",
   "execution_count": 44,
   "metadata": {},
   "outputs": [
    {
     "data": {
      "text/html": [
       "<div>\n",
       "<style scoped>\n",
       "    .dataframe tbody tr th:only-of-type {\n",
       "        vertical-align: middle;\n",
       "    }\n",
       "\n",
       "    .dataframe tbody tr th {\n",
       "        vertical-align: top;\n",
       "    }\n",
       "\n",
       "    .dataframe thead th {\n",
       "        text-align: right;\n",
       "    }\n",
       "</style>\n",
       "<table border=\"1\" class=\"dataframe\">\n",
       "  <thead>\n",
       "    <tr style=\"text-align: right;\">\n",
       "      <th></th>\n",
       "      <th>Unnamed: 0</th>\n",
       "      <th>bestAskSize</th>\n",
       "      <th>AskTimeStamp</th>\n",
       "      <th>AskSide</th>\n",
       "      <th>bestAskPrice</th>\n",
       "      <th>TimeStamp</th>\n",
       "    </tr>\n",
       "  </thead>\n",
       "  <tbody>\n",
       "    <tr>\n",
       "      <td>1</td>\n",
       "      <td>2</td>\n",
       "      <td>610</td>\n",
       "      <td>2018-04-30 00:00:00</td>\n",
       "      <td>ASK</td>\n",
       "      <td>119.46875</td>\n",
       "      <td>2018-04-30 00:00:00</td>\n",
       "    </tr>\n",
       "    <tr>\n",
       "      <td>10</td>\n",
       "      <td>11</td>\n",
       "      <td>589</td>\n",
       "      <td>2018-04-30 00:01:10</td>\n",
       "      <td>ASK</td>\n",
       "      <td>119.46875</td>\n",
       "      <td>2018-04-30 00:01:10</td>\n",
       "    </tr>\n",
       "    <tr>\n",
       "      <td>12</td>\n",
       "      <td>13</td>\n",
       "      <td>602</td>\n",
       "      <td>2018-04-30 00:01:35</td>\n",
       "      <td>ASK</td>\n",
       "      <td>119.46875</td>\n",
       "      <td>2018-04-30 00:01:35</td>\n",
       "    </tr>\n",
       "  </tbody>\n",
       "</table>\n",
       "</div>"
      ],
      "text/plain": [
       "    Unnamed: 0  bestAskSize         AskTimeStamp AskSide  bestAskPrice  \\\n",
       "1            2          610  2018-04-30 00:00:00     ASK     119.46875   \n",
       "10          11          589  2018-04-30 00:01:10     ASK     119.46875   \n",
       "12          13          602  2018-04-30 00:01:35     ASK     119.46875   \n",
       "\n",
       "             TimeStamp  \n",
       "1  2018-04-30 00:00:00  \n",
       "10 2018-04-30 00:01:10  \n",
       "12 2018-04-30 00:01:35  "
      ]
     },
     "execution_count": 44,
     "metadata": {},
     "output_type": "execute_result"
    }
   ],
   "source": [
    "dfASK.head(3)"
   ]
  },
  {
   "cell_type": "code",
   "execution_count": 48,
   "metadata": {},
   "outputs": [
    {
     "data": {
      "text/html": [
       "<div>\n",
       "<style scoped>\n",
       "    .dataframe tbody tr th:only-of-type {\n",
       "        vertical-align: middle;\n",
       "    }\n",
       "\n",
       "    .dataframe tbody tr th {\n",
       "        vertical-align: top;\n",
       "    }\n",
       "\n",
       "    .dataframe thead th {\n",
       "        text-align: right;\n",
       "    }\n",
       "</style>\n",
       "<table border=\"1\" class=\"dataframe\">\n",
       "  <thead>\n",
       "    <tr style=\"text-align: right;\">\n",
       "      <th></th>\n",
       "      <th>bestAskSize</th>\n",
       "      <th>AskTimeStamp</th>\n",
       "      <th>bestAskPrice</th>\n",
       "    </tr>\n",
       "  </thead>\n",
       "  <tbody>\n",
       "    <tr>\n",
       "      <td>1</td>\n",
       "      <td>610</td>\n",
       "      <td>2018-04-30 00:00:00</td>\n",
       "      <td>119.46875</td>\n",
       "    </tr>\n",
       "    <tr>\n",
       "      <td>10</td>\n",
       "      <td>589</td>\n",
       "      <td>2018-04-30 00:01:10</td>\n",
       "      <td>119.46875</td>\n",
       "    </tr>\n",
       "    <tr>\n",
       "      <td>12</td>\n",
       "      <td>602</td>\n",
       "      <td>2018-04-30 00:01:35</td>\n",
       "      <td>119.46875</td>\n",
       "    </tr>\n",
       "  </tbody>\n",
       "</table>\n",
       "</div>"
      ],
      "text/plain": [
       "    bestAskSize         AskTimeStamp  bestAskPrice\n",
       "1           610  2018-04-30 00:00:00     119.46875\n",
       "10          589  2018-04-30 00:01:10     119.46875\n",
       "12          602  2018-04-30 00:01:35     119.46875"
      ]
     },
     "execution_count": 48,
     "metadata": {},
     "output_type": "execute_result"
    }
   ],
   "source": [
    "columns = [ 'Unnamed: 0','TimeStamp','AskSide']\n",
    "dfASK.drop(columns, inplace=True, axis=1)\n",
    "dfASK.head(3)"
   ]
  },
  {
   "cell_type": "code",
   "execution_count": 50,
   "metadata": {},
   "outputs": [
    {
     "data": {
      "text/html": [
       "<div>\n",
       "<style scoped>\n",
       "    .dataframe tbody tr th:only-of-type {\n",
       "        vertical-align: middle;\n",
       "    }\n",
       "\n",
       "    .dataframe tbody tr th {\n",
       "        vertical-align: top;\n",
       "    }\n",
       "\n",
       "    .dataframe thead th {\n",
       "        text-align: right;\n",
       "    }\n",
       "</style>\n",
       "<table border=\"1\" class=\"dataframe\">\n",
       "  <thead>\n",
       "    <tr style=\"text-align: right;\">\n",
       "      <th></th>\n",
       "      <th>bestBidSize</th>\n",
       "      <th>BidTimeStamp</th>\n",
       "      <th>bestBidPrice</th>\n",
       "    </tr>\n",
       "  </thead>\n",
       "  <tbody>\n",
       "    <tr>\n",
       "      <td>0</td>\n",
       "      <td>609</td>\n",
       "      <td>2018-04-30 00:00:00</td>\n",
       "      <td>119.46875</td>\n",
       "    </tr>\n",
       "    <tr>\n",
       "      <td>2</td>\n",
       "      <td>609</td>\n",
       "      <td>2018-04-30 00:00:00</td>\n",
       "      <td>119.46875</td>\n",
       "    </tr>\n",
       "    <tr>\n",
       "      <td>3</td>\n",
       "      <td>608</td>\n",
       "      <td>2018-04-30 00:00:00</td>\n",
       "      <td>119.46875</td>\n",
       "    </tr>\n",
       "  </tbody>\n",
       "</table>\n",
       "</div>"
      ],
      "text/plain": [
       "   bestBidSize         BidTimeStamp  bestBidPrice\n",
       "0          609  2018-04-30 00:00:00     119.46875\n",
       "2          609  2018-04-30 00:00:00     119.46875\n",
       "3          608  2018-04-30 00:00:00     119.46875"
      ]
     },
     "execution_count": 50,
     "metadata": {},
     "output_type": "execute_result"
    }
   ],
   "source": [
    "columns = [ 'Unnamed: 0','TimeStamp','BidSide']\n",
    "dfBID.drop(columns, inplace=True, axis=1)\n",
    "dfBID.head(3)"
   ]
  },
  {
   "cell_type": "code",
   "execution_count": 51,
   "metadata": {},
   "outputs": [
    {
     "data": {
      "text/html": [
       "<div>\n",
       "<style scoped>\n",
       "    .dataframe tbody tr th:only-of-type {\n",
       "        vertical-align: middle;\n",
       "    }\n",
       "\n",
       "    .dataframe tbody tr th {\n",
       "        vertical-align: top;\n",
       "    }\n",
       "\n",
       "    .dataframe thead th {\n",
       "        text-align: right;\n",
       "    }\n",
       "</style>\n",
       "<table border=\"1\" class=\"dataframe\">\n",
       "  <thead>\n",
       "    <tr style=\"text-align: right;\">\n",
       "      <th></th>\n",
       "      <th>bestBidSize</th>\n",
       "      <th>BidTimeStamp</th>\n",
       "      <th>bestBidPrice</th>\n",
       "      <th>bestAskSize</th>\n",
       "      <th>AskTimeStamp</th>\n",
       "      <th>bestAskPrice</th>\n",
       "    </tr>\n",
       "  </thead>\n",
       "  <tbody>\n",
       "    <tr>\n",
       "      <td>959006</td>\n",
       "      <td>298.0</td>\n",
       "      <td>2018-04-30 23:59:19</td>\n",
       "      <td>119.484375</td>\n",
       "      <td>283.0</td>\n",
       "      <td>2018-04-30 23:59:19</td>\n",
       "      <td>119.484375</td>\n",
       "    </tr>\n",
       "    <tr>\n",
       "      <td>959007</td>\n",
       "      <td>282.0</td>\n",
       "      <td>2018-04-30 23:59:19</td>\n",
       "      <td>119.484375</td>\n",
       "      <td>283.0</td>\n",
       "      <td>2018-04-30 23:59:19</td>\n",
       "      <td>119.484375</td>\n",
       "    </tr>\n",
       "    <tr>\n",
       "      <td>959008</td>\n",
       "      <td>281.0</td>\n",
       "      <td>2018-04-30 23:59:19</td>\n",
       "      <td>119.484375</td>\n",
       "      <td>283.0</td>\n",
       "      <td>2018-04-30 23:59:19</td>\n",
       "      <td>119.484375</td>\n",
       "    </tr>\n",
       "    <tr>\n",
       "      <td>959009</td>\n",
       "      <td>331.0</td>\n",
       "      <td>2018-04-30 23:59:19</td>\n",
       "      <td>119.484375</td>\n",
       "      <td>283.0</td>\n",
       "      <td>2018-04-30 23:59:19</td>\n",
       "      <td>119.484375</td>\n",
       "    </tr>\n",
       "    <tr>\n",
       "      <td>959010</td>\n",
       "      <td>336.0</td>\n",
       "      <td>2018-04-30 23:59:19</td>\n",
       "      <td>119.484375</td>\n",
       "      <td>283.0</td>\n",
       "      <td>2018-04-30 23:59:19</td>\n",
       "      <td>119.484375</td>\n",
       "    </tr>\n",
       "    <tr>\n",
       "      <td>...</td>\n",
       "      <td>...</td>\n",
       "      <td>...</td>\n",
       "      <td>...</td>\n",
       "      <td>...</td>\n",
       "      <td>...</td>\n",
       "      <td>...</td>\n",
       "    </tr>\n",
       "    <tr>\n",
       "      <td>959126</td>\n",
       "      <td>916.0</td>\n",
       "      <td>2018-05-01 00:00:00</td>\n",
       "      <td>119.484375</td>\n",
       "      <td>699.0</td>\n",
       "      <td>2018-05-01 00:00:00</td>\n",
       "      <td>119.500000</td>\n",
       "    </tr>\n",
       "    <tr>\n",
       "      <td>959127</td>\n",
       "      <td>934.0</td>\n",
       "      <td>2018-05-01 00:00:00</td>\n",
       "      <td>119.484375</td>\n",
       "      <td>699.0</td>\n",
       "      <td>2018-05-01 00:00:00</td>\n",
       "      <td>119.500000</td>\n",
       "    </tr>\n",
       "    <tr>\n",
       "      <td>959128</td>\n",
       "      <td>916.0</td>\n",
       "      <td>2018-05-01 00:00:00</td>\n",
       "      <td>119.484375</td>\n",
       "      <td>699.0</td>\n",
       "      <td>2018-05-01 00:00:00</td>\n",
       "      <td>119.500000</td>\n",
       "    </tr>\n",
       "    <tr>\n",
       "      <td>959129</td>\n",
       "      <td>934.0</td>\n",
       "      <td>2018-05-01 00:00:00</td>\n",
       "      <td>119.484375</td>\n",
       "      <td>699.0</td>\n",
       "      <td>2018-05-01 00:00:00</td>\n",
       "      <td>119.500000</td>\n",
       "    </tr>\n",
       "    <tr>\n",
       "      <td>959130</td>\n",
       "      <td>941.0</td>\n",
       "      <td>2018-05-01 00:00:00</td>\n",
       "      <td>119.484375</td>\n",
       "      <td>699.0</td>\n",
       "      <td>2018-05-01 00:00:00</td>\n",
       "      <td>119.500000</td>\n",
       "    </tr>\n",
       "  </tbody>\n",
       "</table>\n",
       "<p>125 rows × 6 columns</p>\n",
       "</div>"
      ],
      "text/plain": [
       "        bestBidSize         BidTimeStamp  bestBidPrice  bestAskSize  \\\n",
       "959006        298.0  2018-04-30 23:59:19    119.484375        283.0   \n",
       "959007        282.0  2018-04-30 23:59:19    119.484375        283.0   \n",
       "959008        281.0  2018-04-30 23:59:19    119.484375        283.0   \n",
       "959009        331.0  2018-04-30 23:59:19    119.484375        283.0   \n",
       "959010        336.0  2018-04-30 23:59:19    119.484375        283.0   \n",
       "...             ...                  ...           ...          ...   \n",
       "959126        916.0  2018-05-01 00:00:00    119.484375        699.0   \n",
       "959127        934.0  2018-05-01 00:00:00    119.484375        699.0   \n",
       "959128        916.0  2018-05-01 00:00:00    119.484375        699.0   \n",
       "959129        934.0  2018-05-01 00:00:00    119.484375        699.0   \n",
       "959130        941.0  2018-05-01 00:00:00    119.484375        699.0   \n",
       "\n",
       "               AskTimeStamp  bestAskPrice  \n",
       "959006  2018-04-30 23:59:19    119.484375  \n",
       "959007  2018-04-30 23:59:19    119.484375  \n",
       "959008  2018-04-30 23:59:19    119.484375  \n",
       "959009  2018-04-30 23:59:19    119.484375  \n",
       "959010  2018-04-30 23:59:19    119.484375  \n",
       "...                     ...           ...  \n",
       "959126  2018-05-01 00:00:00    119.500000  \n",
       "959127  2018-05-01 00:00:00    119.500000  \n",
       "959128  2018-05-01 00:00:00    119.500000  \n",
       "959129  2018-05-01 00:00:00    119.500000  \n",
       "959130  2018-05-01 00:00:00    119.500000  \n",
       "\n",
       "[125 rows x 6 columns]"
      ]
     },
     "execution_count": 51,
     "metadata": {},
     "output_type": "execute_result"
    }
   ],
   "source": [
    "dfLOBraw =pd.concat([dfBID, dfASK],axis=1, join='outer').ffill().dropna()\n",
    "dfLOBraw.tail(125)"
   ]
  },
  {
   "cell_type": "code",
   "execution_count": null,
   "metadata": {},
   "outputs": [],
   "source": [
    "def obv_calc(df):\n",
    "    df['SignedVolume']=df['Volume']*np.sign(df['TradedPrice'].diff()).cumsum()\n",
    "    df['SignedVolume'][:1]=0\n",
    "    df['OBV']=df['SignedVolume'].cumsum()\n",
    "    df =df.drop(columns=['SignedVolume'])\n",
    "    return df\n",
    "    "
   ]
  },
  {
   "cell_type": "code",
   "execution_count": null,
   "metadata": {},
   "outputs": [],
   "source": [
    "def chaikin_mf(df, period=5):\n",
    "    df[\"MF Multiplier\"] = (df['TradedPrice']-(df['TradedPrice'].expanding(period).min() ) \\\n",
    "                           - (df['TradedPrice'].expanding(period).max() - df['TradedPrice']))/(df['TradedPrice'].expanding(period).max() - df['TradedPrice'].expanding(period).min())\n",
    "    df[\"MF Volume\"] = df['MF Multiplier'] * df['Volume'] \n",
    "    df['CMF']= df['MF Volume'].sum()/df[\"Volume\"].rolling(5).sum()\n",
    "    df=df.drop(columns=['MF Multiplier','MF Volume'])\n",
    "    return df"
   ]
  },
  {
   "cell_type": "code",
   "execution_count": null,
   "metadata": {},
   "outputs": [],
   "source": [
    "tp_rolling=test_file['TradedPrice'].rolling(5).mean()\n",
    "v= test_file['Volume'].rolling(5).mean()\n",
    "df=test_file\n",
    "# df.groupby(df.index).rolling(7).apply(lambda x: np.average(x.TradedPrice, weights=x.Volume))"
   ]
  },
  {
   "cell_type": "code",
   "execution_count": null,
   "metadata": {},
   "outputs": [],
   "source": [
    "# # Groupby column with rolling mean.\n",
    "# df_grouped_rolling = df.groupby(df.index)[['TradedPrice', 'Volume']].rolling(window=3, min_periods=2).min()\n",
    "# df_grouped_rolling.groupby(df_grouped_rolling.index).rolling(7).apply(lambda x: np.average(x.TradedPrice, weights=x.Volume))\n",
    "# # # df_grouped_rolling.head(10)\n",
    "# df_grouped_rolling"
   ]
  },
  {
   "cell_type": "code",
   "execution_count": null,
   "metadata": {},
   "outputs": [],
   "source": [
    "# idx=0\n",
    "# trades_files_loc = os.path.join(data_dir,bmrg_trades[idx])\n",
    "# trades_files= os.listdir(os.path.join(data_dir,bmrg_trades[idx]))\n",
    "# # file_idx=1\n",
    "# for file_idx,_ in enumerate(trades_files):\n",
    "#     symbol='G_1_Comdty'\n",
    "#     print('working on symbol:', symbol)\n",
    "#     trades_df = pd.read_csv(os.path.join(trades_files_loc, trades_files[file_idx]), index_col=0)\n",
    "#     print('reading this:', trades_files[file_idx])\n",
    "#     trades_df=trades_df.rename(index=str, columns={\"size\": \"Volume\",\"value\":\"TradedPrice\"}).drop(columns=['type'])\n",
    "#     trades_df['TradedTime'] = pd.to_datetime(trades_df['time'])\n",
    "#     trades_df= trades_df.drop(columns=['time'])\n",
    "#     res = trades_df.groupby('TradedTime').apply(agg_on_trd_time)\n",
    "#     res.reset_index(inplace=True)\n",
    "#     res.loc[:, 'Duration'] = res['TradedTime']- res['TradedTime'].shift(1)\n",
    "#     res['Duration'].fillna(value=0, inplace=True)\n",
    "#     res.loc[:, 'Duration'] = res['Duration'].apply(lambda tt: tt.total_seconds())\n",
    "#     res.loc[1:, 'ReturnTradedPrice'] = \\\n",
    "#         res['TradedPrice'].rolling(window=2).apply(lambda xx: np.log(xx[-1]/xx[0]))\n",
    "#     res.loc[0, 'ReturnTradedPrice'] = 0.\n",
    "#     target_file_name\n",
    "#     target_file_name = os.path.join(os.path.join(data_dir,symbol),trades_files[file_idx])\n",
    "#     print('saving here:', target_file_name)karima\n",
    "#     res[['TradedTime', 'TradedPrice', 'ReturnTradedPrice', 'Volume', \\\n",
    "#          'Duration']].to_csv(target_file_name, index=False)\n",
    "# print(res.columns.values)                       "
   ]
  },
  {
   "cell_type": "code",
   "execution_count": null,
   "metadata": {},
   "outputs": [],
   "source": [
    "# for idx, symbol_trades in enumerate(bmrg_trades):\n",
    "#     trades_files_loc = os.path.join(data_dir,bmrg_trades[idx])\n",
    "#     trades_files= os.listdir(os.path.join(data_dir,bmrg_trades[idx]))\n",
    "#     symbol=\"_\".join((bmrg_trades[idx].split('_')[0],\"Comdty\"))\n",
    "#     print('working on symbol:', symbol)\n",
    "#     for file_idx,_ in enumerate(trades_files):\n",
    "#         print('reading this:', trades_files[file_idx])\n",
    "#         trades_df = pd.read_csv(os.path.join(trades_files_loc, trades_files[file_idx]), index_col=0)\n",
    "#         trades_df=trades_df.rename(index=str, columns={\"size\": \"Volume\",\"value\":\"TradedPrice\"}).drop(columns=['type'])\n",
    "#         trades_df['TradedTime'] = pd.to_datetime(trades_df['time'])\n",
    "#         trades_df= trades_df.drop(columns=['time'])\n",
    "#         res = trades_df.groupby('TradedTime').apply(agg_on_trd_time)\n",
    "#         res.reset_index(inplace=True)\n",
    "#         res.loc[:, 'Duration'] = res['TradedTime']- res['TradedTime'].shift(1)\n",
    "#         res['Duration'].fillna(value=0, inplace=True)\n",
    "#         res.loc[:, 'Duration'] = res['Duration'].apply(lambda tt: tt.total_seconds())\n",
    "#         res.loc[1:, 'ReturnTradedPrice'] = \\\n",
    "#             res['TradedPrice'].rolling(window=2).apply(lambda xx: np.log(xx[-1]/xx[0]))\n",
    "#         res.loc[0, 'ReturnTradedPrice'] = 0\n",
    "#         target_file_name = os.path.join(os.path.join(data_dir,symbol),trades_files[file_idx])\n",
    "#         print('saving here:', target_file_name)\n",
    "#         res[['TradedTime', 'TradedPrice', 'ReturnTradedPrice', 'Volume', \\\n",
    "#              'Duration']].to_csv(target_file_name, index=False)\n",
    "\n",
    "        \n",
    "    \n"
   ]
  },
  {
   "cell_type": "code",
   "execution_count": null,
   "metadata": {},
   "outputs": [],
   "source": []
  },
  {
   "cell_type": "code",
   "execution_count": null,
   "metadata": {},
   "outputs": [],
   "source": [
    "# symbol_path = find_path(data_dir, str(bmrg_symbols[0]))\n",
    "# symbol_files=os.listdir(symbol_path)\n",
    "\n",
    "# symbol=symbol_files[1].split('-')[0]\n",
    "# date=symbol_files[1].split('-')[1].split('.')[0]\n",
    "idx=3\n",
    "trades_loc= os.path.join(data_dir,bmrg_trades[1])\n",
    "list_files =os.listdir(os.path.join(data_dir,bmrg_trades[1]))\n",
    "trades_file = os.path.join(trades_loc, list_files[idx])\n",
    "df= pd.read_csv(trades_file,index_col=0 )\n",
    "df.drop(columns=['type'])"
   ]
  },
  {
   "cell_type": "code",
   "execution_count": null,
   "metadata": {},
   "outputs": [],
   "source": [
    "from dateutil.parser import parse\n",
    "import datetime as dt\n",
    "# sample = parse(df['time'].iloc[:,1])\n",
    "# print(sample)\n",
    "sample=parse(df['time'].iloc[12])\n",
    "# # datetime.datetime(2010, 2, 15, 0, 0)\n",
    "# print(dt.strftime('%d/%m/%Y'))\n",
    "# # 15/02/2010\n",
    "sample_time=sample.time()\n",
    "sample_time.strftime('%H:%M:%S.%f')"
   ]
  },
  {
   "cell_type": "markdown",
   "metadata": {},
   "source": [
    "# Crypto Data#"
   ]
  },
  {
   "cell_type": "code",
   "execution_count": null,
   "metadata": {},
   "outputs": [],
   "source": [
    "import os\n",
    "crypto=os.path.join(data_only_drive,'crypto/BTCUSD.PERP.BMEX')\n",
    "os.listdir(data_only_drive)"
   ]
  },
  {
   "cell_type": "code",
   "execution_count": null,
   "metadata": {},
   "outputs": [],
   "source": [
    "crypto_path=os.path.join(data_only_drive,'crypto')\n",
    "trades_crypto_path = os.path.join(crypto_path,'trades')\n",
    "perp_trades_loc= os.path.join(trades_crypto_path,'BTCUSD.PERP.BMEX')\n",
    "perp_trades_list=os.listdir(perp_trades_loc)"
   ]
  },
  {
   "cell_type": "code",
   "execution_count": null,
   "metadata": {},
   "outputs": [],
   "source": [
    "LOB = os.path.join(crypto_path,'LOB')\n",
    "lob_files= os.listdir(os.path.join(LOB,os.listdir(LOB)[0]))\n"
   ]
  },
  {
   "cell_type": "code",
   "execution_count": null,
   "metadata": {},
   "outputs": [],
   "source": [
    "sample_file = pd.read_csv(os.path.join(perp_trades_loc, perp_trades_list[0]), index_col=0)"
   ]
  },
  {
   "cell_type": "code",
   "execution_count": null,
   "metadata": {},
   "outputs": [],
   "source": [
    "os.path.join(perp_trades_loc, perp_trades_list[0])"
   ]
  },
  {
   "cell_type": "code",
   "execution_count": null,
   "metadata": {},
   "outputs": [],
   "source": [
    "sample_file.reset_index(inplace=True)"
   ]
  },
  {
   "cell_type": "code",
   "execution_count": null,
   "metadata": {},
   "outputs": [],
   "source": [
    "from scipy.spatial.distance import pdist, squareform"
   ]
  },
  {
   "cell_type": "code",
   "execution_count": null,
   "metadata": {},
   "outputs": [],
   "source": [
    "sample_file=sample_file.drop(columns=['index'])"
   ]
  },
  {
   "cell_type": "code",
   "execution_count": null,
   "metadata": {},
   "outputs": [],
   "source": [
    "sample_file.columns.values"
   ]
  },
  {
   "cell_type": "code",
   "execution_count": null,
   "metadata": {},
   "outputs": [],
   "source": [
    "crypto_df= pd.to_datetime(sample_file['received_at'])"
   ]
  },
  {
   "cell_type": "code",
   "execution_count": null,
   "metadata": {},
   "outputs": [],
   "source": [
    "crypto_df['TradedPrice']= sample_file['price']\n"
   ]
  },
  {
   "cell_type": "code",
   "execution_count": null,
   "metadata": {},
   "outputs": [],
   "source": [
    "sample_file =sample_file.rename(index=str, columns={\"received_at\":\"TradedTime\",\"side\":\"Side\"})"
   ]
  },
  {
   "cell_type": "code",
   "execution_count": null,
   "metadata": {},
   "outputs": [],
   "source": [
    "sample_file['TradedTime']=pd.to_datetime(sample_file['TradedTime'])"
   ]
  },
  {
   "cell_type": "code",
   "execution_count": null,
   "metadata": {},
   "outputs": [],
   "source": [
    "sample_file =sample_file.rename(index=str, columns={\"price\":\"TradedPrice\",\"size\":\"Volume\"})"
   ]
  },
  {
   "cell_type": "code",
   "execution_count": null,
   "metadata": {},
   "outputs": [],
   "source": [
    "def get_time(date_time):\n",
    "    timestamp= date_time.strftime('%H:%M:%S.%f')\n",
    "    return timestamp"
   ]
  },
  {
   "cell_type": "code",
   "execution_count": null,
   "metadata": {},
   "outputs": [],
   "source": [
    "sample_file['TradedTime']=sample_file['TradedTime'].apply(get_time)"
   ]
  },
  {
   "cell_type": "markdown",
   "metadata": {},
   "source": [
    "res = sample_file.groupby('TradedTime').apply(agg_on_trd_time)\n",
    "res.reset_index(inplace=True)\n",
    "res.loc[:, 'Duration'] = res['TradedTime']- res['TradedTime'].shift(1)\n",
    "res['Duration'].fillna(value=0, inplace=True)\n",
    "res.loc[:, 'Duration'] = res['Duration'].apply(lambda tt: tt.total_seconds())\n",
    "res.loc[1:, 'ReturnTradedPrice'] = \\\n",
    "res['TradedPrice'].rolling(window=2).apply(lambda xx: np.log(xx[-1]/xx[0]))\n",
    "res.loc[0, 'ReturnTradedPrice'] = 0"
   ]
  },
  {
   "cell_type": "code",
   "execution_count": null,
   "metadata": {},
   "outputs": [],
   "source": [
    "data_dir = os.getenv('FINANCE_DATA') #main directory\n",
    "data_only_drive= '/mnt/usb-Seagate_Expansion_Desk_NA8XEHR6-0:0-part2'\n",
    "bmrg_symbols=[s for s in os.listdir(data_dir) if s.endswith('20181028') or s.endswith('20181027')]\n",
    "\n",
    "\n",
    "bmrg_symbols_destinations=[s for s in os.listdir(data_dir) if s.endswith('trades') or s.endswith('quotes')]\n",
    "bmrg_tickers=[bmrg_symbols_destinations[idx].split('_t')[0] or \\\n",
    "              bmrg_symbols_destinations[idx].split('_q')[0] for idx,_ in enumerate(bmrg_symbols_destinations)]\n",
    "ftse_symbols= [s for s in os.listdir(data_dir) if s.endswith('.L')]\n",
    "features_models_dd= os.path.join(data_dir, 'features_models')\n",
    "labels = os.path.join(features_models_dd, 'labels')\n",
    "model_features= os.path.join(features_models_dd, 'features')\n",
    "features_models_dOd= os.path.join(data_only_drive, 'features_models')"
   ]
  },
  {
   "cell_type": "raw",
   "metadata": {},
   "source": [
    "#     symbol_features_path = os.path.join(model_features, symbol,'MODEL_BASED') # set model-based features path for the symbol\n",
    "#     symbol_labels_list= os.listdir(symbol_labels_path) # make a list of all the labels\n",
    "#     market_features_path = os.path.join(data_only_drive,'Data','features_models',symbol,'MARKET_BASED')\n",
    "#     features_dates_dir= os.listdir(symbol_features_path)\n",
    "#     market_features_dates= [os.listdir(market_features_path)[idx].split(\".\")[0] for idx, _ in enumerate(market_features_path)]\n",
    "#     labels_dates= [symbol_labels_list[idx].split(\".\")[0] for idx, _ in enumerate(symbol_labels_list)]\n"
   ]
  },
  {
   "cell_type": "code",
   "execution_count": null,
   "metadata": {},
   "outputs": [],
   "source": [
    "data_dir\n",
    "ftse_symbols= [s for s in os.listdir(data_dir) if s.endswith('.L')]\n",
    "test=os.listdir(os.path.join(data_dir, ftse_symbols[1]))\n",
    "len(test)"
   ]
  },
  {
   "cell_type": "code",
   "execution_count": null,
   "metadata": {},
   "outputs": [],
   "source": [
    "\n",
    "for idx,_ in enumerate(ftse_symbols):\n",
    "    symbol=ftse_symbols[idx] # set symbol\n",
    "    features_models_path = '/media/ak/WorkDrive/Data/features_models/models/'\n",
    "    features_only_path = '/media/ak/WorkDrive/Data/features_models/features/'\n",
    "    symbol_raw_data_path = os.listdir(os.path.join(data_dir, symbol))\n",
    "    symbol_hmm_model_path = os.listdir(os.path.join(features_models_path, symbol,'HMM'))\n",
    "    symbol_labels_path= os.listdir(os.path.join(labels, symbol,'NON_DIRECTIONAL')) # set labels path for the symbol\n",
    "    market_features_path = os.listdir(os.path.join(data_only_drive,'Data','features_models',symbol,'MARKET_BASED'))\n",
    "    symbol_model_features = os.listdir(os.path.join(features_only_path, symbol, 'MODEL_BASED'))\n",
    "#     print('symbol: ', symbol)\n",
    "# #     print('number of days: ', len(symbol_raw_data_path))\n",
    "# #     print('number of hmm models: ', len(symbol_hmm_model_path))\n",
    "# #     print(\"number of date files in labels:\",len(symbol_labels_path))\n",
    "#     print(\"mearket features:\", len(market_features_path))\n",
    "#     print(\"common elements between market features and labels:\",len(list(common_member(market_features_path, \\\n",
    "#                                                                                        symbol_labels_path))))\n",
    "# #     if len(symbol_raw_data_path)!= len(symbol_labels_path):\n",
    "# #         print('check symbol:',symbol)\n",
    "# #         problem_list.append(symbol)\n"
   ]
  },
  {
   "cell_type": "code",
   "execution_count": null,
   "metadata": {},
   "outputs": [],
   "source": [
    "##test case##\n",
    "symbol='AAL.L' # set symbol\n",
    "features_models_path = '/media/ak/WorkDrive/Data/features_models/models/'\n",
    "symbol_raw_data_path = os.path.join(data_dir, symbol)\n",
    "symbol_hmm_model_path = os.path.join(features_models_path, symbol,'HMM')\n",
    "symbol_labels_path= os.path.join(labels, symbol,'NON_DIRECTIONAL') # set labels path for the symbol\n",
    "market_features_path = os.path.join(data_only_drive,'Data','features_models',symbol,'MARKET_BASED')\n",
    "print('symbol: ', symbol)\n",
    "print(symbol_raw_data_path)\n",
    "print(symbol_hmm_model_path)\n",
    "print(symbol_labels_path)\n",
    "print(market_features_path)\n"
   ]
  },
  {
   "cell_type": "code",
   "execution_count": null,
   "metadata": {},
   "outputs": [],
   "source": [
    "symbol_features = os.listdir(os.path.join(features_only_path, symbol, 'MODEL_BASED')) #this is a list of folders, indexed by date\n",
    "labels_dates= [symbol_labels_path[idx].split(\".\")[0] for idx, _ in enumerate(symbol_labels_path)]\n",
    "date=labels_dates[1]\n",
    "# for _, date in enumerate(labels_dates):\n",
    "date_symbol_features = os.path.join(features_only_path, symbol, 'MODEL_BASED', date)\n",
    "date_feature_list= os.listdir(date_symbol_features)\n",
    "for idx, _ in enumerate(date_feature_list):\n",
    "    open_pickle_file(path=date_symbol_features, pickle_file=date_feature_list[idx])\n"
   ]
  },
  {
   "cell_type": "code",
   "execution_count": null,
   "metadata": {},
   "outputs": [],
   "source": [
    "date\n",
    "date_symbol_features = os.path.join(features_only_path, symbol, 'MODEL_BASED', date)\n",
    "date_symbol_features\n",
    "date_feature_list= os.listdir(date_symbol_features)\n",
    "print date_feature_list\n",
    "for idx, _ in enumerate(date_feature_list):\n",
    "     open_pickle_file(path=date_symbol_features, pickle_file=date_feature_list[idx])[1]"
   ]
  },
  {
   "cell_type": "code",
   "execution_count": null,
   "metadata": {},
   "outputs": [],
   "source": [
    "# for idx, date  in enumerate(symbol_model_features):\n",
    "#     print os.listdir(os.path.join(features_only_path, symbol, 'MODEL_BASED', date))\n",
    "date_feature_list= os.listdir(date_symbol_features)\n",
    "for idx, _ in enumerate(date_feature_list):\n",
    "    print date_feature_list[idx]"
   ]
  },
  {
   "cell_type": "code",
   "execution_count": null,
   "metadata": {},
   "outputs": [],
   "source": []
  },
  {
   "cell_type": "markdown",
   "metadata": {},
   "source": []
  },
  {
   "cell_type": "code",
   "execution_count": null,
   "metadata": {},
   "outputs": [],
   "source": []
  },
  {
   "cell_type": "raw",
   "metadata": {},
   "source": [
    "[symbol_labels_list[idx].split(\".\")[0] for idx, _ in enumerate(symbol_labels_list)]"
   ]
  },
  {
   "cell_type": "code",
   "execution_count": null,
   "metadata": {},
   "outputs": [],
   "source": [
    "duration=pd.read_csv(file_location,index_col=0)['Duration']\n",
    "non_directional_labels = pd.read_csv(file_location,index_col=0)['label_PrMov__window_25__thres_arbitrary__10.0'] #this is a problem\n",
    "df = pd.read_csv(file_location,index_col=0)\n",
    "features_dates_dir= os.listdir(symbol_features_path)#\n",
    "# path for a specific hmm model date --- out of sample pickle files\n",
    "pickle_features_path= os.path.join(symbol_features_path, features_dates_dir[1])"
   ]
  },
  {
   "cell_type": "code",
   "execution_count": null,
   "metadata": {},
   "outputs": [],
   "source": [
    "os.listdir(pickle_features_path)"
   ]
  },
  {
   "cell_type": "code",
   "execution_count": null,
   "metadata": {},
   "outputs": [],
   "source": [
    "# 'III.L_3_states_features_date:_20171024_now:_20181226_\n",
    "compute_date= '20181226'\n",
    "date= features_dates_dir[5]\n",
    "features_pickle_file = \"_\".join((symbol,'3_states_features_date:',features_dates_dir[5],'now:',compute_date,'.pickle'))"
   ]
  },
  {
   "cell_type": "code",
   "execution_count": null,
   "metadata": {},
   "outputs": [],
   "source": [
    "model_features =open_pickle_file(pickle_features_path,features_pickle_file) #tuple for all the HMM- model features"
   ]
  },
  {
   "cell_type": "code",
   "execution_count": null,
   "metadata": {},
   "outputs": [],
   "source": [
    "market_features_path = os.path.join(data_only_drive,'Data','features_models',symbol,'MARKET_BASED')"
   ]
  },
  {
   "cell_type": "code",
   "execution_count": null,
   "metadata": {},
   "outputs": [],
   "source": [
    "market_features= os.path.join(market_features_path, date)"
   ]
  },
  {
   "cell_type": "code",
   "execution_count": null,
   "metadata": {},
   "outputs": [],
   "source": [
    "if os.path.isfile(market_features):\n",
    "    pd.read_csv(market_features)\n",
    "else:\n",
    "    pass"
   ]
  },
  {
   "cell_type": "code",
   "execution_count": null,
   "metadata": {},
   "outputs": [],
   "source": [
    "market_features_dates= [os.listdir(market_features_path)[idx].split(\".\")[0] for idx, _ in enumerate(market_features_path)]"
   ]
  },
  {
   "cell_type": "code",
   "execution_count": null,
   "metadata": {},
   "outputs": [],
   "source": [
    "def common_member(a, b): \n",
    "      \n",
    "    a_set = set(a) \n",
    "    b_set = set(b) \n",
    "      \n",
    "    # check length  \n",
    "    if len(a_set.intersection(b_set)) > 0: \n",
    "        return(a_set.intersection(b_set))   \n",
    "    else: \n",
    "        return(\"no common elements\") "
   ]
  },
  {
   "cell_type": "code",
   "execution_count": null,
   "metadata": {},
   "outputs": [],
   "source": [
    "common_elements=list(common_member(features_dates_dir, market_features_dates))"
   ]
  },
  {
   "cell_type": "code",
   "execution_count": null,
   "metadata": {},
   "outputs": [],
   "source": [
    "len(common_elements)"
   ]
  },
  {
   "cell_type": "code",
   "execution_count": null,
   "metadata": {},
   "outputs": [],
   "source": [
    "len(features_dates_dir)"
   ]
  },
  {
   "cell_type": "code",
   "execution_count": null,
   "metadata": {},
   "outputs": [],
   "source": [
    "len(market_features_dates)"
   ]
  },
  {
   "cell_type": "code",
   "execution_count": null,
   "metadata": {},
   "outputs": [],
   "source": []
  }
 ],
 "metadata": {
  "kernelspec": {
   "display_name": "Python 3",
   "language": "python",
   "name": "python3"
  },
  "language_info": {
   "codemirror_mode": {
    "name": "ipython",
    "version": 3
   },
   "file_extension": ".py",
   "mimetype": "text/x-python",
   "name": "python",
   "nbconvert_exporter": "python",
   "pygments_lexer": "ipython3",
   "version": "3.6.8"
  }
 },
 "nbformat": 4,
 "nbformat_minor": 2
}
