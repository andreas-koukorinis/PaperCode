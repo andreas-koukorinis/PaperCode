{
 "cells": [
  {
   "cell_type": "code",
   "execution_count": 1,
   "metadata": {
    "collapsed": true
   },
   "outputs": [],
   "source": [
    "import pandas as pd\n",
    "import numpy as np\n",
    "import sys\n",
    "import datetime\n",
    "from datetime import date\n",
    "import os, fnmatch\n",
    "import numpy as np\n",
    "_path=('/home/ak/Documents/Data/GPDATA/')\n",
    "data_path= ('/home/ak/Documents/Data/')\n",
    "import shutil\n",
    "### make a list of all the files, this will be used to parse through ###\n",
    "### ignore files that are there before ###\n",
    "_files=fnmatch.filter(os.listdir(_path), 'garethpet*.csv')\n",
    "sys.path.append(_path)\n",
    "\n",
    "no_files=len(_files)"
   ]
  },
  {
   "cell_type": "code",
   "execution_count": 2,
   "metadata": {
    "collapsed": true
   },
   "outputs": [],
   "source": [
    "###define functions which will be used###\n",
    "\n",
    "def _raw_data(file_name):\n",
    "    raw_data =pd.read_csv(file_name, low_memory=False)\n",
    "    return raw_data\n",
    "\n",
    "def _columns(data_frame):\n",
    "    _columns_ =data_frame.columns.values\n",
    "    return _columns_\n",
    "\n",
    "def _trade_data(data_frame):\n",
    "    trade_data = data_frame[data_frame['Type'] == 'Trade']\n",
    "    return trade_data\n",
    "\n",
    "\n",
    "def _basic_columns(data_frame):\n",
    "    basic_columns=data_frame[['#RIC','Date[G]','Time[G]','Price','Volume']]\n",
    "    return basic_columns\n",
    "\n",
    "def _date_convert(_date):\n",
    "    return datetime.date.strftime(datetime.datetime.strptime(_date, '%d-%b-%Y'), '%Y%m%d')\n",
    "\n",
    "def time_in_millis(time_stamp):\n",
    "    conv_time =datetime.datetime.strptime(time_stamp, '%H:%M:%S.%f')\n",
    "    in_millis=(((conv_time.hour.real*60 + conv_time.minute.real) *60)\n",
    "               +(conv_time.second.real))*1000 +float(conv_time.microsecond)/10**3.\n",
    "    return in_millis\n",
    "\n",
    "def listdirs(folder): #return only directories from a master folder\n",
    "    return [d for d in os.listdir(folder) if os.path.isdir(os.path.join(folder, d))]\n",
    "\n",
    "def copy_directory(dir_src, dir_dst ): #copy all files from one directory with one extension to another\n",
    "    for filename in os.listdir(dir_src):\n",
    "        if filename.endswith('.csv'):\n",
    "            shutil.copy(dir_src + filename, dir_dst)\n",
    "\n",
    "def ensure_dir(file_path): #ensure a dictory exists otherwise create it\n",
    "    directory = os.path.dirname(file_path)\n",
    "    if not os.path.exists(directory):\n",
    "        os.makedirs(directory)\n",
    "        print('New Directory Created',file_path)\n",
    "\n",
    "####\n"
   ]
  },
  {
   "cell_type": "code",
   "execution_count": 8,
   "metadata": {},
   "outputs": [
    {
     "name": "stderr",
     "output_type": "stream",
     "text": [
      "/home/ak/Envs/DataAnalysis/local/lib/python2.7/site-packages/IPython/core/interactiveshell.py:2717: DtypeWarning: Columns (5,17,19) have mixed types. Specify dtype option on import or set low_memory=False.\n",
      "  interactivity=interactivity, compiler=compiler, result=result)\n"
     ]
    },
    {
     "name": "stdout",
     "output_type": "stream",
     "text": [
      "0\n",
      "Did the First Bit\n",
      "Finished. check your directory\n",
      "          #RIC      Date[G]       TradedTime  TradedPrice   Volume  \\\n",
      "36177510  GD.N  03-JAN-2012  14:31:38.813725        67.97  23699.0   \n",
      "36177513  GD.N  03-JAN-2012  14:31:38.813762        67.95    100.0   \n",
      "36177515  GD.N  03-JAN-2012  14:31:38.813762        67.95    100.0   \n",
      "36177521  GD.N  03-JAN-2012  14:31:38.823482        67.95    100.0   \n",
      "36177532  GD.N  03-JAN-2012  14:31:38.898718        68.00    100.0   \n",
      "36177540  GD.N  03-JAN-2012  14:31:39.199525        67.95    100.0   \n",
      "36177542  GD.N  03-JAN-2012  14:31:39.199525        67.95    100.0   \n",
      "36177567  GD.N  03-JAN-2012  14:31:42.627170        67.98    300.0   \n",
      "36177573  GD.N  03-JAN-2012  14:31:42.627170        67.97    200.0   \n",
      "36177574  GD.N  03-JAN-2012  14:31:42.627170        67.98   1100.0   \n",
      "\n",
      "          ReturnTradedPrice      Duration  logReturnTradedPrice  \n",
      "36177510          -0.174320 -2.332181e+07             -0.191548  \n",
      "36177513          -0.000294  3.700000e-02             -0.000294  \n",
      "36177515           0.000000  0.000000e+00              0.000000  \n",
      "36177521           0.000000  9.720000e+00              0.000000  \n",
      "36177532           0.000736  7.523600e+01              0.000736  \n",
      "36177540          -0.000735  3.008070e+02             -0.000736  \n",
      "36177542           0.000000  0.000000e+00              0.000000  \n",
      "36177567           0.000442  3.427645e+03              0.000441  \n",
      "36177573          -0.000147  0.000000e+00             -0.000147  \n",
      "36177574           0.000147  0.000000e+00              0.000147  \n"
     ]
    }
   ],
   "source": [
    "ticker_data={}\n",
    "date_data={}\n",
    "data_trades={}\n",
    "raw_data=  pd.read_csv('/home/ak/Documents/Data/GPDATA/garethpeters@unsw.edu.au-Jan2012_HMMProj-N145855118.csv.tar.gz', compression='gzip')\n",
    "raw_data.columns = ['#RIC' if x=='garethpeters@unsw.edu.au-Jan2012_HMMProj-N145855118.csv' else x for x in raw_data.columns]\n",
    "\n",
    "for i in range(no_files):\n",
    "     print i\n",
    "     #raw_data= comp_data #_raw_data(_path + _files[i])\n",
    "     data_trades[i] =_trade_data(raw_data)\n",
    "     data_trades[i]= _basic_columns(data_trades[i])\n",
    "     data_trades[i].rename(columns={'Price': 'TradedPrice', 'Time[G]': 'TradedTime'}, inplace=True)\n",
    "     data_trades[i]['ReturnTradedPrice'] =data_trades[i]['TradedPrice'].pct_change()\n",
    "     data_trades[i]['Duration']= data_trades[i]['TradedTime'].apply(time_in_millis).diff().astype(float)\n",
    "     data_trades[i]['logReturnTradedPrice']  = np.log(1 + data_trades[i]['ReturnTradedPrice'])\n",
    "     #data_trades[i]= data_trades[i].ix[1:] #--check this works before you run it pls\n",
    "\n",
    "\n",
    "\n",
    "#print raw_data.head(10)\n",
    "print 'Did the First Bit'\n",
    "\n",
    "ticker_list=data_trades[0]['#RIC'].unique()\n",
    "for ticker_ in ticker_list:\n",
    "    if not os.path.exists(_path+ticker_):\n",
    "        os.makedirs(_path+ticker_)\n",
    "\n",
    "date_list =data_trades[0]['Date[G]'].unique()\n",
    "#print(ticker_list)\n",
    "#\n",
    "for j in range(no_files):\n",
    "    for ticker_ in ticker_list:\n",
    "        root=(_path + ticker_)\n",
    "        ticker_data[ticker_] = data_trades[j][data_trades[j]['#RIC']==ticker_]\n",
    "        #ticker_data[ticker_].to_csv(_path+ ticker_+ '.csv')\n",
    "        for date_ in date_list:\n",
    "            date_data[date_]=ticker_data[ticker_][ticker_data[ticker_]['Date[G]'] == date_]\n",
    "            #date_data[date_]['Date[G]'].apply(_date_convert)\n",
    "            date_data[date_].to_csv(root + '/' +date_ +'.csv')\n",
    "\n",
    "            #date_data[date_].dropna()\n",
    "\n",
    "\n",
    "print 'Finished. check your directory'\n",
    "print date_data[date_list[0]].head(10)\n"
   ]
  },
  {
   "cell_type": "code",
   "execution_count": 13,
   "metadata": {
    "collapsed": true
   },
   "outputs": [],
   "source": [
    "def _date_convert(_date):\n",
    "    return datetime.date.strftime(datetime.datetime.strptime(_date, '%d-%b-%Y'), '%Y%m%d')"
   ]
  },
  {
   "cell_type": "code",
   "execution_count": 14,
   "metadata": {},
   "outputs": [
    {
     "name": "stdout",
     "output_type": "stream",
     "text": [
      "0 MS.N\n",
      "1 HSBA.L\n",
      "2 YHOO.O\n",
      "3 LMT.N\n",
      "4 GD.N\n",
      "5 DBKGn.DE\n",
      "6 JPM.N\n",
      "7 C.N\n",
      "8 GS.N\n",
      "9 GOOG.OQ\n"
     ]
    }
   ],
   "source": [
    "symbols=listdirs(_path)\n",
    "for index, symbol in enumerate(symbols):\n",
    "    print index, symbol"
   ]
  },
  {
   "cell_type": "code",
   "execution_count": 43,
   "metadata": {},
   "outputs": [
    {
     "data": {
      "text/plain": [
       "'/home/ak/Documents/Data/GOOG.OQ'"
      ]
     },
     "execution_count": 43,
     "metadata": {},
     "output_type": "execute_result"
    }
   ],
   "source": [
    "number_=9\n",
    "symbol_list=os.listdir(_path+symbols[number_])\n",
    "df1=pd.read_csv(_path+str(symbols[number_])+'/'+symbol_list[0])\n",
    "df2=df1.iloc[1:]\n",
    "df2.to_csv(data_path+symbols[number_]+'/'+symbol_list[0])\n",
    "symbols[number_]\n",
    "target_path=os.path.join(data_path,symbols[number_])\n",
    "target_path"
   ]
  },
  {
   "cell_type": "markdown",
   "metadata": {},
   "source": [
    "for index, _ in enumerate(symbols):\n",
    "    folder=os.listdir(_path+symbols[index])\n",
    "    no_files=len(folder)\n",
    "    for j in range((len(folder))):\n",
    "        df=pd.read_csv(_path+symbols[index]+'/'+folder[j])\n",
    "        _df=df.iloc[1:]\n",
    "        _df.to_csv(data_path+symbols[index]+'/'+folder[j])\n",
    "            \n",
    "            \n",
    "            "
   ]
  },
  {
   "cell_type": "code",
   "execution_count": 44,
   "metadata": {},
   "outputs": [
    {
     "data": {
      "text/plain": [
       "'/home/ak/Documents/Data/GPDATA/GOOG.OQ'"
      ]
     },
     "execution_count": 44,
     "metadata": {},
     "output_type": "execute_result"
    }
   ],
   "source": [
    "symbol_path= os.path.join(data_path,'GPDATA',symbols[number_])\n",
    "symbol_path"
   ]
  },
  {
   "cell_type": "code",
   "execution_count": 45,
   "metadata": {},
   "outputs": [
    {
     "data": {
      "text/plain": [
       "26"
      ]
     },
     "execution_count": 45,
     "metadata": {},
     "output_type": "execute_result"
    }
   ],
   "source": [
    "_files =os.listdir(symbol_path)\n",
    "# file_name=_files[1]\n",
    "# os.path.splitext(os.path.split(file_name)[1])[0]\n",
    "#_files\n",
    "symbol_path\n",
    "len(_files)"
   ]
  },
  {
   "cell_type": "code",
   "execution_count": 46,
   "metadata": {},
   "outputs": [
    {
     "name": "stdout",
     "output_type": "stream",
     "text": [
      "0\n",
      "1\n",
      "2\n",
      "3\n",
      "4\n",
      "5\n",
      "6\n",
      "7\n",
      "8\n",
      "9\n",
      "10\n",
      "11\n",
      "12\n",
      "13\n",
      "14\n",
      "15\n",
      "16\n",
      "17\n",
      "18\n",
      "19\n",
      "20\n",
      "21\n",
      "22\n",
      "23\n",
      "24\n",
      "25\n"
     ]
    }
   ],
   "source": [
    "for index,date_string in enumerate(_files):\n",
    "    print index\n",
    "    new_date=_date_convert(os.path.splitext(os.path.split(date_string)[1])[0])\n",
    "    df=pd.read_csv(symbol_path+'/'+_files[index])\n",
    "    _df=df.iloc[1:]\n",
    "    _df.to_csv(target_path+'/'+new_date+'.csv')"
   ]
  },
  {
   "cell_type": "code",
   "execution_count": 47,
   "metadata": {
    "collapsed": true
   },
   "outputs": [],
   "source": [
    "data_dir = os.getenv('FINANCE_DATA') \n",
    "#df = pd.read_csv(os.path.join(data_dir, 'YHOO.O', '20120119.csv'))"
   ]
  },
  {
   "cell_type": "markdown",
   "metadata": {},
   "source": [
    "import fnmatch\n",
    "list_models=fnmatch.filter(os.listdir(_models_path), str(ticker))"
   ]
  },
  {
   "cell_type": "code",
   "execution_count": 48,
   "metadata": {},
   "outputs": [
    {
     "data": {
      "text/plain": [
       "27"
      ]
     },
     "execution_count": 48,
     "metadata": {},
     "output_type": "execute_result"
    }
   ],
   "source": [
    "len(os.listdir(os.path.join(data_dir,str(symbols[number_]))))"
   ]
  },
  {
   "cell_type": "code",
   "execution_count": 49,
   "metadata": {},
   "outputs": [
    {
     "data": {
      "text/plain": [
       "27"
      ]
     },
     "execution_count": 49,
     "metadata": {},
     "output_type": "execute_result"
    }
   ],
   "source": [
    "len(os.listdir(target_path))"
   ]
  },
  {
   "cell_type": "code",
   "execution_count": null,
   "metadata": {
    "collapsed": true
   },
   "outputs": [],
   "source": []
  }
 ],
 "metadata": {
  "kernelspec": {
   "display_name": "Python 2",
   "language": "python",
   "name": "python2"
  },
  "language_info": {
   "codemirror_mode": {
    "name": "ipython",
    "version": 2
   },
   "file_extension": ".py",
   "mimetype": "text/x-python",
   "name": "python",
   "nbconvert_exporter": "python",
   "pygments_lexer": "ipython2",
   "version": "2.7.12+"
  }
 },
 "nbformat": 4,
 "nbformat_minor": 2
}
