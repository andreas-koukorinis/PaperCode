{
 "cells": [
  {
   "cell_type": "code",
   "execution_count": 1,
   "metadata": {},
   "outputs": [],
   "source": [
    "import os\n",
    "import pandas as pd\n",
    "import matplotlib as mpl\n",
    "import matplotlib.pyplot as plt\n",
    "%matplotlib inline\n",
    "import pickle\n",
    "plt.style.use(os.path.join(mpl.get_configdir(), 'latexstyle.mplstyle'))"
   ]
  },
  {
   "cell_type": "markdown",
   "metadata": {},
   "source": [
    "the effect of class distribution on classifier learning"
   ]
  },
  {
   "cell_type": "code",
   "execution_count": 15,
   "metadata": {},
   "outputs": [],
   "source": [
    "from scipy import stats\n",
    "# x2= df.from_dict(labelsDict)[differentLabelTypes[2]]\n",
    "# x1= df.from_dict(labelsDict)[differentLabelTypes[1]]\n",
    "def quantile_plot(x, **kwargs):\n",
    "    quantiles, xr = stats.probplot(x, fit=False)\n",
    "    plt.scatter(xr, quantiles, **kwargs)\n",
    "    \n",
    "def qqplot(x, y, **kwargs):\n",
    "    _, xr = stats.probplot(x, fit=False)\n",
    "    _, yr = stats.probplot(y, fit=False)\n",
    "    plt.scatter(xr, yr, **kwargs)\n",
    "\n",
    "# quantile_plot(x1)\n",
    "# quantile_plot(x2)\n",
    "# _=plt.title('Quantile Plots for Labels')\n",
    "#todo add legends and a 45% degree line"
   ]
  },
  {
   "cell_type": "code",
   "execution_count": 130,
   "metadata": {},
   "outputs": [],
   "source": [
    "# location of data\n",
    "passport = '/media/ak/My Passport/Data/FinDataReal/LabelsAlternateOne/'\n"
   ]
  },
  {
   "cell_type": "markdown",
   "metadata": {},
   "source": [
    "picking a symbol and reading all the alternative labels data"
   ]
  },
  {
   "cell_type": "code",
   "execution_count": 131,
   "metadata": {},
   "outputs": [],
   "source": [
    "\n",
    "ticker = 'BARC.L'\n",
    "filename = \"\".join((passport,ticker.split(\".\")[0],'_AlternateLabels.pickle'))\n",
    "with open(filename, 'rb') as handle:\n",
    "    data =pickle.load(handle)\n"
   ]
  },
  {
   "cell_type": "code",
   "execution_count": null,
   "metadata": {},
   "outputs": [],
   "source": []
  },
  {
   "cell_type": "markdown",
   "metadata": {},
   "source": [
    "First lets deal with labels types:\n",
    "1. take a list of all the data keys\n",
    "this list(data.keys()) will give you a  list of dates to deal with - essentially it is a Symbol Date mapping \n",
    "2. lets pick the various data types: \\\n",
    "\n",
    "differentLabelTypes=data[listKeys[idx]].filter(like='label', axis=1).columns.values"
   ]
  },
  {
   "cell_type": "markdown",
   "metadata": {},
   "source": [
    "###  label types ###"
   ]
  },
  {
   "cell_type": "code",
   "execution_count": 182,
   "metadata": {},
   "outputs": [
    {
     "data": {
      "text/plain": [
       "array(['label_MovAv__window_2__thres_arbitrary__0.0',\n",
       "       'label_MovAv__window_5__thres_arbitrary__0.1',\n",
       "       'label_PrMov__window_2__thres_arbitrary__0.5',\n",
       "       'label_EndPo__window_9__thres_arbitrary__0.1',\n",
       "       'label_MovAv__window_20__thres_arbitrary__0.8'], dtype=object)"
      ]
     },
     "execution_count": 182,
     "metadata": {},
     "output_type": "execute_result"
    }
   ],
   "source": [
    "listKeys = list(data.keys())\n",
    "idx =3 \n",
    "differentLabelTypes=data[listKeys[idx]].filter(like='label', axis=1).columns.values # what are the different labels that we have\n",
    "count_of_labels = len(differentLabelTypes) # how many different labels do we have\n",
    "\n",
    "# a bit redundant\n"
   ]
  },
  {
   "cell_type": "markdown",
   "metadata": {},
   "source": [
    "# first dictionary will give you proportion of movement to no movement"
   ]
  },
  {
   "cell_type": "code",
   "execution_count": 193,
   "metadata": {},
   "outputs": [],
   "source": [
    "from collections import defaultdict\n",
    "labelsDict = defaultdict(dict) #create a structured dict that will have two keys to every value label/date \n",
    "\n",
    "for idx, key in enumerate(listKeys): #iterate through all the symbol-days\n",
    "    df =pd.DataFrame(data[listKeys[idx]]).drop(columns=['label_PrMov__window_2__thres_arbitrary__0.5']) #read each day\n",
    "    differentLabelTypes = df.filter(like='label', axis=1).columns.values \n",
    "    # make a list of all the labels- this is kind of rendundant given what I am doing\n",
    "    for i, labelValue in enumerate(differentLabelTypes): #go through all the different labels\n",
    "        try:\n",
    "            labelsDict[differentLabelTypes[i]][key] =(df[differentLabelTypes[i]].value_counts()[1]+df[differentLabelTypes[i]].value_counts()[-1])/ df[differentLabelTypes[i]].value_counts()[0]\n",
    "        except:\n",
    "#             print('continuing')\n",
    "            continue"
   ]
  },
  {
   "cell_type": "markdown",
   "metadata": {},
   "source": [
    "### this is a dictionary about relative movements"
   ]
  },
  {
   "cell_type": "code",
   "execution_count": 199,
   "metadata": {},
   "outputs": [],
   "source": [
    "from collections import defaultdict\n",
    "labelsDictUpDown = defaultdict(dict) #create a structured dict that will have two keys to every value label/date \n",
    "\n",
    "for idx, key in enumerate(listKeys): #iterate through all the symbol-days\n",
    "    df =pd.DataFrame(data[listKeys[idx]]).drop(columns=['label_PrMov__window_2__thres_arbitrary__0.5']) #read each day\n",
    "    differentLabelTypes = data[listKeys[idx]].filter(like='label', axis=1).columns.values \n",
    "    # make a list of all the labels- this is kind of rendundant given what I am doing\n",
    "    for i, labelValue in enumerate(differentLabelTypes): #go through all the different labels\n",
    "        try:\n",
    "             labelsDictUpDown[differentLabelTypes[i]][key] =df[differentLabelTypes[i]].value_counts()[1]/df[differentLabelTypes[i]].value_counts()[-1]\n",
    "    #    'defining movement that corresponds to a +1 label versus a -1 label'               \n",
    "        except:\n",
    "#             print('continuing')\n",
    "            continue"
   ]
  },
  {
   "cell_type": "code",
   "execution_count": 172,
   "metadata": {},
   "outputs": [],
   "source": [
    "# lets refactor the two dictionaries now"
   ]
  },
  {
   "cell_type": "code",
   "execution_count": 200,
   "metadata": {},
   "outputs": [],
   "source": [
    "## this is general movement of proportions\n",
    "labelProportions = df.from_dict(labelsDict)\n",
    "#g = sns.FacetGrid(tests)\n",
    "#sns.load_dataset(\"tips\")\n",
    "label_Proportions_DF = labelProportions.reset_index().rename(columns={\"index\": \"Date\"})\n",
    "## this is the up-down movement\n",
    "UpDownProportions = df.from_dict(labelsDictUpDown)\n",
    "#g = sns.FacetGrid(tests)\n",
    "#sns.load_dataset(\"tips\")\n",
    "UpDown_Proportions_DF = labelProportions.reset_index().rename(columns={\"index\": \"Date\"})"
   ]
  },
  {
   "cell_type": "code",
   "execution_count": 202,
   "metadata": {},
   "outputs": [],
   "source": [
    "labels= UpDown_Proportions_DF.filter(like='label', axis=1).columns.values "
   ]
  },
  {
   "cell_type": "code",
   "execution_count": 234,
   "metadata": {},
   "outputs": [],
   "source": [
    "import seaborn as sns\n",
    "from scipy.stats import norm\n",
    "import numpy as np\n",
    "def price_based_histogram_labels(x, labelText):\n",
    "    x= np.array(x.dropna())\n",
    "    min_ylim, max_ylim = plt.ylim()\n",
    "    min_xlim, max_xlim = plt.xlim()\n",
    "    ax = sns.distplot(x, fit=norm, kde=False, bins=20)\n",
    "    _=ax.text(0.5, max_ylim*0.7, 'Median: {:.2f}'.format(np.median(x)), fontsize =15)\n",
    "    _=ax.axvline(np.median(x), color='r', linestyle='dashed', linewidth=2)\n",
    "    #_=ax.axhline(np.std(x)*0.9, color='r', linestyle='dashed', linewidth=1)\n",
    "    _=ax.text(0.6, max_ylim*0.4, 'StDev: {:.2f}'.format(x.std()), fontsize=15)\n",
    "    plt.title('Rolling window of ' + labelText.split(\"_\")[4] + ' , threshold ' + labelText.split(\"_\")[-1] )\n",
    "    plt.tight_layout() \n",
    "    plt.show()"
   ]
  },
  {
   "cell_type": "code",
   "execution_count": null,
   "metadata": {},
   "outputs": [],
   "source": []
  },
  {
   "cell_type": "code",
   "execution_count": 238,
   "metadata": {},
   "outputs": [],
   "source": [
    "# for i in range(1,3):\n",
    "#     x =UpDown_Proportions_DF[labels[i]]\n",
    "#     text =labels[0]\n",
    "#     price_based_histogram_labels(x, text)\n",
    "#     plt.show()"
   ]
  },
  {
   "cell_type": "markdown",
   "metadata": {},
   "source": [
    "## Dealing with Labels Directly ##"
   ]
  },
  {
   "cell_type": "code",
   "execution_count": 175,
   "metadata": {},
   "outputs": [],
   "source": [
    "import seaborn as sns\n",
    "from scipy.stats import norm\n",
    "import numpy as np\n",
    "def price_based_histogram_labels(x, labelText):\n",
    "    x= np.array(x.dropna())\n",
    "    min_ylim, max_ylim = plt.ylim()\n",
    "    ax = sns.distplot(x, fit=norm, kde=False, bins=20)\n",
    "    _=ax.text(x.std()*0.5, max_ylim*0.5, 'Median: {:.2f}'.format(np.median(x)))\n",
    "    _=ax.axvline(np.median(x), color='r', linestyle='dashed', linewidth=2)\n",
    "    #_=ax.axhline(np.std(x)*0.9, color='r', linestyle='dashed', linewidth=1)\n",
    "    _=ax.text(x.std()*0.5, max_ylim*0.1, 'StDev: {:.2f}'.format(x.std()))\n",
    "    plt.title('Rolling window of ' + labelText.split(\"_\")[4] + ' , threshold ' + labelText.split(\"_\")[-1] )\n",
    "    plt.tight_layout() \n",
    "    plt.show()"
   ]
  },
  {
   "cell_type": "code",
   "execution_count": 239,
   "metadata": {},
   "outputs": [],
   "source": [
    "#need to store the labels !"
   ]
  },
  {
   "cell_type": "code",
   "execution_count": 28,
   "metadata": {},
   "outputs": [],
   "source": [
    "# pd.concat([data[k].set_index(k) for k in list(data.keys())], axis =0)\n",
    "df = pd.concat([pd.DataFrame({label: data[k][label].tolist() for label in differentLabelTypes}, index = [k]*len(data[k])) for k in list(data.keys())], axis =0)"
   ]
  },
  {
   "cell_type": "code",
   "execution_count": 30,
   "metadata": {
    "scrolled": true
   },
   "outputs": [],
   "source": [
    "\n",
    "df= df.reset_index().rename(columns={\"index\": \"Date\"})\n",
    "# from scipy import stats\n",
    "# x2= df.from_dict(labelsDict)[differentLabelTypes[2]]\n",
    "# x1= df.from_dict(labelsDict)[differentLabelTypes[1]]"
   ]
  },
  {
   "cell_type": "code",
   "execution_count": 36,
   "metadata": {},
   "outputs": [],
   "source": [
    "labels =df.filter(like='label', axis=1).columns.values"
   ]
  },
  {
   "cell_type": "code",
   "execution_count": 45,
   "metadata": {},
   "outputs": [
    {
     "name": "stdout",
     "output_type": "stream",
     "text": [
      "0 label_MovAv__window_2__thres_arbitrary__0.0\n",
      "1 label_MovAv__window_5__thres_arbitrary__0.1\n",
      "2 label_PrMov__window_2__thres_arbitrary__0.5\n",
      "3 label_EndPo__window_9__thres_arbitrary__0.1\n",
      "4 label_MovAv__window_20__thres_arbitrary__0.8\n"
     ]
    }
   ],
   "source": [
    "dfs =[]\n",
    "for idx, label in enumerate(labels):\n",
    "    print(idx, label)\n",
    "    df1 = df[['Date', labels[idx]]]\n",
    "    df1Clean = pd.DataFrame()\n",
    "\n",
    "    df1Clean['Date'] = df1['Date']\n",
    "    df1Clean['LabelValue'] = df1[labels[idx]]\n",
    "    df1Clean['LabelType'] = 'Label '+str(idx)\n",
    "    dfs.append(df1Clean)"
   ]
  },
  {
   "cell_type": "code",
   "execution_count": 53,
   "metadata": {},
   "outputs": [],
   "source": [
    "dfsConcat = pd.concat(dfs, axis =0)"
   ]
  },
  {
   "cell_type": "code",
   "execution_count": 56,
   "metadata": {},
   "outputs": [
    {
     "data": {
      "text/plain": [
       "<seaborn.axisgrid.FacetGrid at 0x7fc52ac7e828>"
      ]
     },
     "execution_count": 56,
     "metadata": {},
     "output_type": "execute_result"
    },
    {
     "data": {
      "image/png": "[encoded data removed]",
      "text/plain": [
       "<Figure size 1080x216 with 5 Axes>"
      ]
     },
     "metadata": {
      "needs_background": "light"
     },
     "output_type": "display_data"
    }
   ],
   "source": [
    "g = sns.FacetGrid(dfsConcat, col=\"LabelType\",legend_out=False)\n",
    "_=g.map(sns.distplot, \"LabelValue\", bins=20,fit=norm, kde=False)\n",
    "g.add_legend()"
   ]
  },
  {
   "cell_type": "code",
   "execution_count": 57,
   "metadata": {},
   "outputs": [
    {
     "name": "stderr",
     "output_type": "stream",
     "text": [
      "No handles with labels found to put in legend.\n",
      "No handles with labels found to put in legend.\n",
      "No handles with labels found to put in legend.\n",
      "No handles with labels found to put in legend.\n",
      "No handles with labels found to put in legend.\n"
     ]
    },
    {
     "data": {
      "image/png": "[encoded data removed]",
      "text/plain": [
       "<Figure size 1080x216 with 5 Axes>"
      ]
     },
     "metadata": {
      "needs_background": "light"
     },
     "output_type": "display_data"
    }
   ],
   "source": [
    "g = sns.FacetGrid(dfsConcat, col=\"LabelType\",legend_out=False)\n",
    "g.map(quantile_plot, \"LabelValue\")\n",
    "plt.legend([],[], frameon=False)\n",
    "# for ax in g.axes.flat:\n",
    "#     ax.axline((0, 0), slope=.2, c=\".2\", ls=\"--\", zorder=0)\n",
    "# \n",
    "# ax.set_prop_cycle(color=['red', 'green', 'blue'])\n",
    "axes = g.fig.axes\n",
    "\n",
    "for ax in axes:\n",
    "    x = np.linspace(*ax.get_xlim())#*1.09\n",
    "    y = np.linspace(*ax.get_ylim())#*1.09\n",
    "    ax.plot(x, y,c=\"red\", ls=\"--\",zorder=0)\n",
    "    ax. legend(loc='upper left', frameon=False) \n",
    "    \n",
    "\n",
    "plt.show()"
   ]
  },
  {
   "cell_type": "code",
   "execution_count": 59,
   "metadata": {},
   "outputs": [],
   "source": [
    "def price_based_histogram_labels(x, labelText):\n",
    "    x= np.array(x.dropna())\n",
    "    ax = sns.distplot(x, fit=norm, kde=False, bins=20)\n",
    "    _=ax.text(x.std()*0.5, max_ylim*0.5, 'Median: {:.2f}'.format(np.median(x)))\n",
    "    _=ax.axvline(np.median(x), color='r', linestyle='dashed', linewidth=2)\n",
    "    #_=ax.axhline(np.std(x)*0.9, color='r', linestyle='dashed', linewidth=1)\n",
    "    _=ax.text(x.std()*0.5, max_ylim*0.1, 'StDev: {:.2f}'.format(x.std()))\n",
    "    plt.title('Rolling window of ' + labelText.split(\"_\")[4] + ' , threshold ' + labelText.split(\"_\")[-1] )\n",
    "    plt.tight_layout() \n",
    "    plt.show()"
   ]
  },
  {
   "cell_type": "code",
   "execution_count": 65,
   "metadata": {},
   "outputs": [
    {
     "data": {
      "text/html": [
       "<div>\n",
       "<style scoped>\n",
       "    .dataframe tbody tr th:only-of-type {\n",
       "        vertical-align: middle;\n",
       "    }\n",
       "\n",
       "    .dataframe tbody tr th {\n",
       "        vertical-align: top;\n",
       "    }\n",
       "\n",
       "    .dataframe thead th {\n",
       "        text-align: right;\n",
       "    }\n",
       "</style>\n",
       "<table border=\"1\" class=\"dataframe\">\n",
       "  <thead>\n",
       "    <tr style=\"text-align: right;\">\n",
       "      <th></th>\n",
       "      <th>Date</th>\n",
       "      <th>LabelValue</th>\n",
       "      <th>LabelType</th>\n",
       "    </tr>\n",
       "  </thead>\n",
       "  <tbody>\n",
       "    <tr>\n",
       "      <th>0</th>\n",
       "      <td>20170116</td>\n",
       "      <td>-1.0</td>\n",
       "      <td>Label 0</td>\n",
       "    </tr>\n",
       "    <tr>\n",
       "      <th>1</th>\n",
       "      <td>20170116</td>\n",
       "      <td>-1.0</td>\n",
       "      <td>Label 0</td>\n",
       "    </tr>\n",
       "    <tr>\n",
       "      <th>2</th>\n",
       "      <td>20170116</td>\n",
       "      <td>-1.0</td>\n",
       "      <td>Label 0</td>\n",
       "    </tr>\n",
       "    <tr>\n",
       "      <th>3</th>\n",
       "      <td>20170116</td>\n",
       "      <td>-1.0</td>\n",
       "      <td>Label 0</td>\n",
       "    </tr>\n",
       "  </tbody>\n",
       "</table>\n",
       "</div>"
      ],
      "text/plain": [
       "       Date  LabelValue LabelType\n",
       "0  20170116        -1.0   Label 0\n",
       "1  20170116        -1.0   Label 0\n",
       "2  20170116        -1.0   Label 0\n",
       "3  20170116        -1.0   Label 0"
      ]
     },
     "execution_count": 65,
     "metadata": {},
     "output_type": "execute_result"
    }
   ],
   "source": [
    "dfs[0].head(4)"
   ]
  },
  {
   "cell_type": "code",
   "execution_count": 66,
   "metadata": {},
   "outputs": [
    {
     "ename": "NameError",
     "evalue": "name 'max_ylim' is not defined",
     "output_type": "error",
     "traceback": [
      "\u001b[0;31m---------------------------------------------------------------------------\u001b[0m",
      "\u001b[0;31mNameError\u001b[0m                                 Traceback (most recent call last)",
      "\u001b[0;32m<ipython-input-66-94c1591ecc17>\u001b[0m in \u001b[0;36m<module>\u001b[0;34m\u001b[0m\n\u001b[0;32m----> 1\u001b[0;31m \u001b[0mprice_based_histogram_labels\u001b[0m\u001b[0;34m(\u001b[0m\u001b[0mdfs\u001b[0m\u001b[0;34m[\u001b[0m\u001b[0;36m0\u001b[0m\u001b[0;34m]\u001b[0m\u001b[0;34m.\u001b[0m\u001b[0mLabelValue\u001b[0m\u001b[0;34m,\u001b[0m \u001b[0;34m'Label 0'\u001b[0m\u001b[0;34m)\u001b[0m\u001b[0;34m\u001b[0m\u001b[0;34m\u001b[0m\u001b[0m\n\u001b[0m",
      "\u001b[0;32m<ipython-input-59-cbbef7c9afd8>\u001b[0m in \u001b[0;36mprice_based_histogram_labels\u001b[0;34m(x, labelText)\u001b[0m\n\u001b[1;32m      2\u001b[0m     \u001b[0mx\u001b[0m\u001b[0;34m=\u001b[0m \u001b[0mnp\u001b[0m\u001b[0;34m.\u001b[0m\u001b[0marray\u001b[0m\u001b[0;34m(\u001b[0m\u001b[0mx\u001b[0m\u001b[0;34m.\u001b[0m\u001b[0mdropna\u001b[0m\u001b[0;34m(\u001b[0m\u001b[0;34m)\u001b[0m\u001b[0;34m)\u001b[0m\u001b[0;34m\u001b[0m\u001b[0;34m\u001b[0m\u001b[0m\n\u001b[1;32m      3\u001b[0m     \u001b[0max\u001b[0m \u001b[0;34m=\u001b[0m \u001b[0msns\u001b[0m\u001b[0;34m.\u001b[0m\u001b[0mdistplot\u001b[0m\u001b[0;34m(\u001b[0m\u001b[0mx\u001b[0m\u001b[0;34m,\u001b[0m \u001b[0mfit\u001b[0m\u001b[0;34m=\u001b[0m\u001b[0mnorm\u001b[0m\u001b[0;34m,\u001b[0m \u001b[0mkde\u001b[0m\u001b[0;34m=\u001b[0m\u001b[0;32mFalse\u001b[0m\u001b[0;34m,\u001b[0m \u001b[0mbins\u001b[0m\u001b[0;34m=\u001b[0m\u001b[0;36m20\u001b[0m\u001b[0;34m)\u001b[0m\u001b[0;34m\u001b[0m\u001b[0;34m\u001b[0m\u001b[0m\n\u001b[0;32m----> 4\u001b[0;31m     \u001b[0m_\u001b[0m\u001b[0;34m=\u001b[0m\u001b[0max\u001b[0m\u001b[0;34m.\u001b[0m\u001b[0mtext\u001b[0m\u001b[0;34m(\u001b[0m\u001b[0mx\u001b[0m\u001b[0;34m.\u001b[0m\u001b[0mstd\u001b[0m\u001b[0;34m(\u001b[0m\u001b[0;34m)\u001b[0m\u001b[0;34m*\u001b[0m\u001b[0;36m0.5\u001b[0m\u001b[0;34m,\u001b[0m \u001b[0mmax_ylim\u001b[0m\u001b[0;34m*\u001b[0m\u001b[0;36m0.5\u001b[0m\u001b[0;34m,\u001b[0m \u001b[0;34m'Median: {:.2f}'\u001b[0m\u001b[0;34m.\u001b[0m\u001b[0mformat\u001b[0m\u001b[0;34m(\u001b[0m\u001b[0mnp\u001b[0m\u001b[0;34m.\u001b[0m\u001b[0mmedian\u001b[0m\u001b[0;34m(\u001b[0m\u001b[0mx\u001b[0m\u001b[0;34m)\u001b[0m\u001b[0;34m)\u001b[0m\u001b[0;34m)\u001b[0m\u001b[0;34m\u001b[0m\u001b[0;34m\u001b[0m\u001b[0m\n\u001b[0m\u001b[1;32m      5\u001b[0m     \u001b[0m_\u001b[0m\u001b[0;34m=\u001b[0m\u001b[0max\u001b[0m\u001b[0;34m.\u001b[0m\u001b[0maxvline\u001b[0m\u001b[0;34m(\u001b[0m\u001b[0mnp\u001b[0m\u001b[0;34m.\u001b[0m\u001b[0mmedian\u001b[0m\u001b[0;34m(\u001b[0m\u001b[0mx\u001b[0m\u001b[0;34m)\u001b[0m\u001b[0;34m,\u001b[0m \u001b[0mcolor\u001b[0m\u001b[0;34m=\u001b[0m\u001b[0;34m'r'\u001b[0m\u001b[0;34m,\u001b[0m \u001b[0mlinestyle\u001b[0m\u001b[0;34m=\u001b[0m\u001b[0;34m'dashed'\u001b[0m\u001b[0;34m,\u001b[0m \u001b[0mlinewidth\u001b[0m\u001b[0;34m=\u001b[0m\u001b[0;36m2\u001b[0m\u001b[0;34m)\u001b[0m\u001b[0;34m\u001b[0m\u001b[0;34m\u001b[0m\u001b[0m\n\u001b[1;32m      6\u001b[0m     \u001b[0;31m#_=ax.axhline(np.std(x)*0.9, color='r', linestyle='dashed', linewidth=1)\u001b[0m\u001b[0;34m\u001b[0m\u001b[0;34m\u001b[0m\u001b[0;34m\u001b[0m\u001b[0m\n",
      "\u001b[0;31mNameError\u001b[0m: name 'max_ylim' is not defined"
     ]
    },
    {
     "data": {
      "image/png": "[encoded data removed]",
      "text/plain": [
       "<Figure size 432x288 with 1 Axes>"
      ]
     },
     "metadata": {
      "needs_background": "light"
     },
     "output_type": "display_data"
    }
   ],
   "source": [
    "price_based_histogram_labels(dfs[0].LabelValue, 'Label 0')"
   ]
  },
  {
   "cell_type": "code",
   "execution_count": null,
   "metadata": {},
   "outputs": [],
   "source": []
  }
 ],
 "metadata": {
  "kernelspec": {
   "display_name": "Python 3",
   "language": "python",
   "name": "python3"
  },
  "language_info": {
   "codemirror_mode": {
    "name": "ipython",
    "version": 3
   },
   "file_extension": ".py",
   "mimetype": "text/x-python",
   "name": "python",
   "nbconvert_exporter": "python",
   "pygments_lexer": "ipython3",
   "version": "3.6.8"
  },
  "latex_envs": {
   "LaTeX_envs_menu_present": true,
   "autoclose": false,
   "autocomplete": true,
   "bibliofile": "biblio.bib",
   "cite_by": "apalike",
   "current_citInitial": 1,
   "eqLabelWithNumbers": true,
   "eqNumInitial": 1,
   "hotkeys": {
    "equation": "Ctrl-E",
    "itemize": "Ctrl-I"
   },
   "labels_anchors": false,
   "latex_user_defs": false,
   "report_style_numbering": false,
   "user_envs_cfg": false
  }
 },
 "nbformat": 4,
 "nbformat_minor": 2
}
