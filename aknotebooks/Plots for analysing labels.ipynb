{
 "cells": [
  {
   "cell_type": "code",
   "execution_count": 1,
   "metadata": {},
   "outputs": [],
   "source": [
    "import os\n",
    "import pandas as pd\n",
    "import numpy as np\n",
    "import matplotlib as mpl\n",
    "import matplotlib.pyplot as plt\n",
    "%matplotlib inline\n",
    "import pickle as pkl\n",
    "plt.style.use(os.path.join(mpl.get_configdir(), 'latexstyle.mplstyle'))\n",
    "from scipy import stats\n",
    "from sklearn.preprocessing import StandardScaler\n",
    "import warnings\n",
    "warnings.filterwarnings('ignore')"
   ]
  },
  {
   "cell_type": "code",
   "execution_count": 2,
   "metadata": {},
   "outputs": [],
   "source": [
    "figuresDestination ='/home/ak/Documents/Research/Papers/figures/'"
   ]
  },
  {
   "cell_type": "markdown",
   "metadata": {},
   "source": [
    "the effect of class distribution on classifier learning"
   ]
  },
  {
   "cell_type": "code",
   "execution_count": 3,
   "metadata": {},
   "outputs": [],
   "source": [
    "from scipy import stats\n",
    "# x2= df.from_dict(labelsDict)[differentLabelTypes[2]]\n",
    "# x1= df.from_dict(labelsDict)[differentLabelTypes[1]]\n",
    "def quantile_plot(x, **kwargs):\n",
    "    quantiles, xr = stats.probplot(x, fit=False)\n",
    "    plt.scatter(xr, quantiles, **kwargs)\n",
    "    \n",
    "def qqplot(x, y, **kwargs):\n",
    "    _, xr = stats.probplot(x, fit=False)\n",
    "    _, yr = stats.probplot(y, fit=False)\n",
    "    plt.scatter(xr, yr, **kwargs)\n",
    "\n",
    "# quantile_plot(x1)\n",
    "# quantile_plot(x2)\n",
    "# _=plt.title('Quantile Plots for Labels')\n",
    "#todo add legends and a 45% degree line"
   ]
  },
  {
   "cell_type": "code",
   "execution_count": 4,
   "metadata": {},
   "outputs": [
    {
     "ename": "NameError",
     "evalue": "name 'passport' is not defined",
     "output_type": "error",
     "traceback": [
      "\u001b[0;31m---------------------------------------------------------------------------\u001b[0m",
      "\u001b[0;31mNameError\u001b[0m                                 Traceback (most recent call last)",
      "\u001b[0;32m<ipython-input-4-ebc321820a17>\u001b[0m in \u001b[0;36m<module>\u001b[0;34m()\u001b[0m\n\u001b[1;32m      1\u001b[0m \u001b[0;31m# location of data\u001b[0m\u001b[0;34m\u001b[0m\u001b[0;34m\u001b[0m\u001b[0;34m\u001b[0m\u001b[0m\n\u001b[1;32m      2\u001b[0m \u001b[0mpassportData\u001b[0m \u001b[0;34m=\u001b[0m \u001b[0;34m'/media/ak/My Passport1/Data/FinDataReal/'\u001b[0m\u001b[0;34m\u001b[0m\u001b[0;34m\u001b[0m\u001b[0m\n\u001b[0;32m----> 3\u001b[0;31m \u001b[0mos\u001b[0m\u001b[0;34m.\u001b[0m\u001b[0mlistdir\u001b[0m\u001b[0;34m(\u001b[0m\u001b[0mpassport\u001b[0m\u001b[0;34m)\u001b[0m\u001b[0;34m\u001b[0m\u001b[0;34m\u001b[0m\u001b[0m\n\u001b[0m\u001b[1;32m      4\u001b[0m \u001b[0;34m\u001b[0m\u001b[0m\n\u001b[1;32m      5\u001b[0m \u001b[0mlabelPaths\u001b[0m \u001b[0;34m=\u001b[0m \u001b[0;34m[\u001b[0m\u001b[0;34m'LabelsAlternateOne'\u001b[0m\u001b[0;34m,\u001b[0m\u001b[0;34m'LabelsAlternateTwo'\u001b[0m\u001b[0;34m,\u001b[0m\u001b[0;34m'LabelsAlternateThree'\u001b[0m\u001b[0;34m,\u001b[0m\u001b[0;34m'LabelsAlternateFour'\u001b[0m\u001b[0;34m,\u001b[0m\u001b[0;34m'LabelsAlternateFive'\u001b[0m\u001b[0;34m]\u001b[0m\u001b[0;34m\u001b[0m\u001b[0;34m\u001b[0m\u001b[0m\n",
      "\u001b[0;31mNameError\u001b[0m: name 'passport' is not defined"
     ]
    }
   ],
   "source": [
    "# location of data\n",
    "passportData = '/media/ak/My Passport1/Data/FinDataReal/'\n",
    "os.listdir(passport)\n",
    "\n",
    "labelPaths = ['LabelsAlternateOne','LabelsAlternateTwo','LabelsAlternateThree','LabelsAlternateFour','LabelsAlternateFive']\n"
   ]
  },
  {
   "cell_type": "code",
   "execution_count": 24,
   "metadata": {},
   "outputs": [
    {
     "data": {
      "text/plain": [
       "['AAL.L',\n",
       " 'AAL.L_LabelsAlternateFive_SingleKernelSVC.pkl',\n",
       " 'MAB.L',\n",
       " 'MKS.L',\n",
       " 'NG.L',\n",
       " 'PRU.L',\n",
       " 'PRU.L_LabelsAlternateFive_SingleKernelSVC.pkl',\n",
       " 'PRU.L_LabelsAlternateFour_SingleKernelSVC.pkl',\n",
       " 'PRU.L_LabelsAlternateOne_SingleKernelSVC.pkl',\n",
       " 'PRU.L_LabelsAlternateThree_SingleKernelSVC.pkl',\n",
       " 'PSON.L',\n",
       " 'PSON.L_LabelsAlternateFive_SingleKernelSVC.pkl',\n",
       " 'PSON.L_LabelsAlternateFour_SingleKernelSVC.pkl',\n",
       " 'PSON.L_LabelsAlternateOne_SingleKernelSVC.pkl',\n",
       " 'PSON.L_LabelsAlternateThree_SingleKernelSVC.pkl',\n",
       " 'RB.L',\n",
       " 'BLT.L_LabelsAlternateFive_SingleKernelSVC.pkl',\n",
       " 'BLT.L_LabelsAlternateFour_SingleKernelSVC.pkl',\n",
       " 'BLT.L_LabelsAlternateOne_SingleKernelSVC.pkl',\n",
       " 'BLT.L_LabelsAlternateThree_SingleKernelSVC.pkl',\n",
       " 'CCL.L',\n",
       " 'CCL.L_LabelsAlternateFive_SingleKernelSVC.pkl',\n",
       " 'CCL.L_LabelsAlternateFour_SingleKernelSVC.pkl',\n",
       " 'CCL.L_LabelsAlternateOne_SingleKernelSVC.pkl',\n",
       " 'CCL.L_LabelsAlternateThree_SingleKernelSVC.pkl',\n",
       " 'CEY.L',\n",
       " 'CEY.L_LabelsAlternateFive_SingleKernelSVC.pkl',\n",
       " 'CEY.L_LabelsAlternateFour_SingleKernelSVC.pkl',\n",
       " 'CEY.L_LabelsAlternateOne_SingleKernelSVC.pkl',\n",
       " 'CEY.L_LabelsAlternateThree_SingleKernelSVC.pkl',\n",
       " 'CNA.L',\n",
       " 'CNA.L_LabelsAlternateFive_SingleKernelSVC.pkl',\n",
       " 'CNA.L_LabelsAlternateFour_SingleKernelSVC.pkl',\n",
       " 'CNA.L_LabelsAlternateOne_SingleKernelSVC.pkl',\n",
       " 'CNA.L_LabelsAlternateThree_SingleKernelSVC.pkl',\n",
       " 'RSA.L',\n",
       " 'RTO.L',\n",
       " 'SDR.L',\n",
       " 'STAN.L_LabelsAlternateFive_SingleKernelSVC.pkl',\n",
       " 'STAN.L_LabelsAlternateFour_SingleKernelSVC.pkl',\n",
       " 'STAN.L_LabelsAlternateOne_SingleKernelSVC.pkl',\n",
       " 'STAN.L_LabelsAlternateThree_SingleKernelSVC.pkl',\n",
       " 'TSCO.L',\n",
       " 'TSCO.L_LabelsAlternateFive_SingleKernelSVC.pkl',\n",
       " 'TSCO.L_LabelsAlternateFour_SingleKernelSVC.pkl',\n",
       " 'TSCO.L_LabelsAlternateOne_SingleKernelSVC.pkl',\n",
       " 'TSCO.L_LabelsAlternateThree_SingleKernelSVC.pkl',\n",
       " 'ULVR.L',\n",
       " 'ULVR.L_LabelsAlternateFive_SingleKernelSVC.pkl',\n",
       " 'ULVR.L_LabelsAlternateFour_SingleKernelSVC.pkl',\n",
       " 'ULVR.L_LabelsAlternateOne_SingleKernelSVC.pkl',\n",
       " 'ULVR.L_LabelsAlternateThree_SingleKernelSVC.pkl',\n",
       " 'CPG.L_LabelsAlternateFive_SingleKernelSVC.pkl',\n",
       " 'CPG.L_LabelsAlternateFour_SingleKernelSVC.pkl',\n",
       " 'CPG.L_LabelsAlternateOne_SingleKernelSVC.pkl',\n",
       " 'CPG.L_LabelsAlternateThree_SingleKernelSVC.pkl',\n",
       " 'CPI.L_LabelsAlternateFive_SingleKernelSVC.pkl',\n",
       " 'CPI.L_LabelsAlternateFour_SingleKernelSVC.pkl',\n",
       " 'CPI.L_LabelsAlternateOne_SingleKernelSVC.pkl',\n",
       " 'CPI.L_LabelsAlternateThree_SingleKernelSVC.pkl',\n",
       " 'DMGOa.L_LabelsAlternateFive_SingleKernelSVC.pkl',\n",
       " 'DMGOa.L_LabelsAlternateFour_SingleKernelSVC.pkl',\n",
       " 'DMGOa.L_LabelsAlternateOne_SingleKernelSVC.pkl',\n",
       " 'DMGOa.L_LabelsAlternateThree_SingleKernelSVC.pkl',\n",
       " 'ECM.L_LabelsAlternateFive_SingleKernelSVC.pkl',\n",
       " 'ECM.L_LabelsAlternateFour_SingleKernelSVC.pkl',\n",
       " 'ECM.L_LabelsAlternateOne_SingleKernelSVC.pkl',\n",
       " 'ECM.L_LabelsAlternateThree_SingleKernelSVC.pkl',\n",
       " 'GKN.L_LabelsAlternateFive_SingleKernelSVC.pkl',\n",
       " 'GKN.L_LabelsAlternateFour_SingleKernelSVC.pkl',\n",
       " 'GKN.L_LabelsAlternateOne_SingleKernelSVC.pkl',\n",
       " 'GKN.L_LabelsAlternateThree_SingleKernelSVC.pkl',\n",
       " 'HSBA.L_LabelsAlternateFive_SingleKernelSVC.pkl',\n",
       " 'HSBA.L_LabelsAlternateFour_SingleKernelSVC.pkl',\n",
       " 'HSBA.L_LabelsAlternateThree_SingleKernelSVC.pkl',\n",
       " 'IOG.L',\n",
       " 'ITV.L',\n",
       " 'JointLocationsAlternateDataClean',\n",
       " 'JointLocationsDicts',\n",
       " 'KGF.L',\n",
       " 'Labels',\n",
       " 'LabelsAlternateFive',\n",
       " 'LabelsAlternateFour',\n",
       " 'LabelsAlternateOne',\n",
       " 'LabelsAlternateThree',\n",
       " 'LabelsAlternateTwo',\n",
       " 'LAND.L',\n",
       " 'LGEN.L',\n",
       " 'AAL.L_LabelsAlternateFour_SingleKernelSVC.pkl',\n",
       " 'AZN.L',\n",
       " 'BARC.L_LabelsAlternateFour_SingleKernelSVC.pkl',\n",
       " 'BLT.L',\n",
       " 'CPG.L',\n",
       " 'HSBA.L_LabelsAlternateOne_SingleKernelSVC.pkl',\n",
       " 'LLOY.L',\n",
       " 'RBS.L',\n",
       " 'RR.L',\n",
       " 'SGE.L',\n",
       " 'STAN.L',\n",
       " 'UU.L',\n",
       " 'RDSa.L',\n",
       " 'RDSb.L',\n",
       " 'REL.L',\n",
       " 'SHP.L',\n",
       " 'SMIN.L',\n",
       " 'SPT.L',\n",
       " 'AZN.L_LabelsAlternateFive_SingleKernelSVC.pkl',\n",
       " 'AZN.L_LabelsAlternateFour_SingleKernelSVC.pkl',\n",
       " 'AZN.L_LabelsAlternateOne_SingleKernelSVC.pkl',\n",
       " 'AZN.L_LabelsAlternateThree_SingleKernelSVC.pkl',\n",
       " 'BARC.L',\n",
       " 'VOD.L',\n",
       " 'VOD.L_LabelsAlternateFive_SingleKernelSVC.pkl',\n",
       " 'VOD.L_LabelsAlternateFour_SingleKernelSVC.pkl',\n",
       " 'VOD.L_LabelsAlternateOne_SingleKernelSVC.pkl',\n",
       " 'VOD.L_LabelsAlternateThree_SingleKernelSVC.pkl',\n",
       " 'WPP.L',\n",
       " 'BARC.L_LabelsAlternateOne_SingleKernelSVC.pkl',\n",
       " 'BARC.L_LabelsAlternateThree_SingleKernelSVC.pkl',\n",
       " 'BATS.L',\n",
       " 'BATS.L_LabelsAlternateFive_SingleKernelSVC.pkl',\n",
       " 'BATS.L_LabelsAlternateFour_SingleKernelSVC.pkl',\n",
       " 'AAL.L_LabelsAlternateOne_SingleKernelSVC.pkl',\n",
       " 'AAL.L_LabelsAlternateThree_SingleKernelSVC.pkl',\n",
       " 'APF.L',\n",
       " 'APF.L_LabelsAlternateFive_SingleKernelSVC.pkl',\n",
       " 'APF.L_LabelsAlternateFour_SingleKernelSVC.pkl',\n",
       " 'APF.L_LabelsAlternateOne_SingleKernelSVC.pkl',\n",
       " 'APF.L_LabelsAlternateThree_SingleKernelSVC.pkl',\n",
       " 'AV.L',\n",
       " 'AV.L_LabelsAlternateFive_SingleKernelSVC.pkl',\n",
       " 'AV.L_LabelsAlternateFour_SingleKernelSVC.pkl',\n",
       " 'AV.L_LabelsAlternateOne_SingleKernelSVC.pkl']"
      ]
     },
     "execution_count": 24,
     "metadata": {},
     "output_type": "execute_result"
    }
   ],
   "source": [
    "symbols = os.listdir(passportData+'Labels')\n",
    "os.listdir(passportData)"
   ]
  },
  {
   "cell_type": "markdown",
   "metadata": {},
   "source": [
    "picking a symbol and reading all the alternative labels data"
   ]
  },
  {
   "cell_type": "code",
   "execution_count": 31,
   "metadata": {},
   "outputs": [
    {
     "name": "stdout",
     "output_type": "stream",
     "text": [
      "BLT.L\n"
     ]
    },
    {
     "data": {
      "text/plain": [
       "['20170116',\n",
       " '20170117',\n",
       " '20170118',\n",
       " '20170119',\n",
       " '20170120',\n",
       " '20170123',\n",
       " '20170124',\n",
       " '20170125',\n",
       " '20170126',\n",
       " '20170127',\n",
       " '20170130',\n",
       " '20170131',\n",
       " '20170703',\n",
       " '20170704',\n",
       " '20170705',\n",
       " '20170706',\n",
       " '20170707',\n",
       " '20170710',\n",
       " '20170711',\n",
       " '20170811',\n",
       " '20170814',\n",
       " '20170815',\n",
       " '20170816',\n",
       " '20170817',\n",
       " '20170818',\n",
       " '20170821',\n",
       " '20170822',\n",
       " '20170823',\n",
       " '20170824',\n",
       " '20170825',\n",
       " '20170829',\n",
       " '20170830',\n",
       " '20170831',\n",
       " '20170901',\n",
       " '20170904',\n",
       " '20170905',\n",
       " '20170906',\n",
       " '20170907',\n",
       " '20170713',\n",
       " '20170714',\n",
       " '20170717',\n",
       " '20170718',\n",
       " '20170719',\n",
       " '20170720',\n",
       " '20170721',\n",
       " '20170724',\n",
       " '20170725',\n",
       " '20170726',\n",
       " '20170727',\n",
       " '20170728',\n",
       " '20170731',\n",
       " '20170801',\n",
       " '20170802',\n",
       " '20170803',\n",
       " '20170804',\n",
       " '20170807',\n",
       " '20170808',\n",
       " '20170809',\n",
       " '20170911',\n",
       " '20170912',\n",
       " '20170913',\n",
       " '20170914',\n",
       " '20170915',\n",
       " '20170918',\n",
       " '20170919',\n",
       " '20170920',\n",
       " '20170921',\n",
       " '20170922',\n",
       " '20170925',\n",
       " '20170926',\n",
       " '20170927',\n",
       " '20170928',\n",
       " '20170929',\n",
       " '20171002',\n",
       " '20171003',\n",
       " '20171004',\n",
       " '20171005',\n",
       " '20171009',\n",
       " '20171010',\n",
       " '20171011',\n",
       " '20171012',\n",
       " '20171013',\n",
       " '20171016',\n",
       " '20171017',\n",
       " '20171018',\n",
       " '20171019',\n",
       " '20171020',\n",
       " '20171023',\n",
       " '20171024',\n",
       " '20171025',\n",
       " '20171026',\n",
       " '20171027',\n",
       " '20171030',\n",
       " '20171031',\n",
       " '20180201',\n",
       " '20180202',\n",
       " '20170712',\n",
       " '20170810',\n",
       " '20170908',\n",
       " '20171006',\n",
       " '20180205',\n",
       " '20180206',\n",
       " '20180207',\n",
       " '20180208',\n",
       " '20180209',\n",
       " '20180212',\n",
       " '20180213',\n",
       " '20180214',\n",
       " '20180215',\n",
       " '20180216',\n",
       " '20180219',\n",
       " '20180220',\n",
       " '20180221',\n",
       " '20180222',\n",
       " '20180223',\n",
       " '20180226',\n",
       " '20180227',\n",
       " '20180228',\n",
       " '20180403',\n",
       " '20180404',\n",
       " '20180405',\n",
       " '20180406',\n",
       " '20180409',\n",
       " '20180410',\n",
       " '20180411',\n",
       " '20180412',\n",
       " '20180413',\n",
       " '20180416',\n",
       " '20180417',\n",
       " '20180418',\n",
       " '20180419',\n",
       " '20180420']"
      ]
     },
     "execution_count": 31,
     "metadata": {},
     "output_type": "execute_result"
    }
   ],
   "source": [
    "idx=6\n",
    "ticker = symbols[idx]\n",
    "print(ticker)\n",
    "LabelsAlternateFive = os.path.join(passportData, 'LabelsAlternateFive')\n",
    "LabelsDate = os.path.join(LabelsAlternateFive, ticker)\n",
    "# filename = \"\".join((passport,ticker.split(\".\")[0],'_AlternateLabels.pickle'))\n",
    "# with open(filename, 'rb') as handle:\n",
    "#     data =pkl.load(handle)\n",
    "os.listdir(filename)"
   ]
  },
  {
   "cell_type": "code",
   "execution_count": 6,
   "metadata": {},
   "outputs": [
    {
     "ename": "NameError",
     "evalue": "name 'data' is not defined",
     "output_type": "error",
     "traceback": [
      "\u001b[0;31m---------------------------------------------------------------------------\u001b[0m",
      "\u001b[0;31mNameError\u001b[0m                                 Traceback (most recent call last)",
      "\u001b[0;32m<ipython-input-6-aa0daa0cc42b>\u001b[0m in \u001b[0;36m<module>\u001b[0;34m\u001b[0m\n\u001b[0;32m----> 1\u001b[0;31m \u001b[0mlistKeys\u001b[0m \u001b[0;34m=\u001b[0m \u001b[0mlist\u001b[0m\u001b[0;34m(\u001b[0m\u001b[0mdata\u001b[0m\u001b[0;34m.\u001b[0m\u001b[0mkeys\u001b[0m\u001b[0;34m(\u001b[0m\u001b[0;34m)\u001b[0m\u001b[0;34m)\u001b[0m \u001b[0;31m# all the dates that we have data for and labels alligned.\u001b[0m\u001b[0;34m\u001b[0m\u001b[0;34m\u001b[0m\u001b[0m\n\u001b[0m\u001b[1;32m      2\u001b[0m \u001b[0;34m\u001b[0m\u001b[0m\n\u001b[1;32m      3\u001b[0m \u001b[0;31m# differentLabelTypes=data[listKeys[idx]].filter(like='label', axis=1).columns.values # what are the different labels that we have\u001b[0m\u001b[0;34m\u001b[0m\u001b[0;34m\u001b[0m\u001b[0;34m\u001b[0m\u001b[0m\n\u001b[1;32m      4\u001b[0m \u001b[0;31m# count_of_labels = len(differentLabelTypes) # how many different labels do we have\u001b[0m\u001b[0;34m\u001b[0m\u001b[0;34m\u001b[0m\u001b[0;34m\u001b[0m\u001b[0m\n\u001b[1;32m      5\u001b[0m \u001b[0;34m\u001b[0m\u001b[0m\n",
      "\u001b[0;31mNameError\u001b[0m: name 'data' is not defined"
     ]
    }
   ],
   "source": [
    "listKeys = list(data.keys()) # all the dates that we have data for and labels alligned.\n",
    "\n",
    "# differentLabelTypes=data[listKeys[idx]].filter(like='label', axis=1).columns.values # what are the different labels that we have\n",
    "# count_of_labels = len(differentLabelTypes) # how many different labels do we have\n",
    "\n",
    "#listKeys basically a list of dates- "
   ]
  },
  {
   "cell_type": "code",
   "execution_count": 10,
   "metadata": {},
   "outputs": [
    {
     "ename": "FileNotFoundError",
     "evalue": "[Errno 2] No such file or directory: '/media/ak/My Passport/Data/FinDataReal/Labels'",
     "output_type": "error",
     "traceback": [
      "\u001b[0;31m---------------------------------------------------------------------------\u001b[0m",
      "\u001b[0;31mFileNotFoundError\u001b[0m                         Traceback (most recent call last)",
      "\u001b[0;32m<ipython-input-10-d4f06b3990ff>\u001b[0m in \u001b[0;36m<module>\u001b[0;34m\u001b[0m\n\u001b[1;32m      2\u001b[0m \u001b[0;34m\u001b[0m\u001b[0m\n\u001b[1;32m      3\u001b[0m \u001b[0mpassportData\u001b[0m \u001b[0;34m=\u001b[0m \u001b[0;34m'/media/ak/My Passport/Data/FinDataReal/'\u001b[0m\u001b[0;34m\u001b[0m\u001b[0;34m\u001b[0m\u001b[0m\n\u001b[0;32m----> 4\u001b[0;31m \u001b[0msymbols\u001b[0m \u001b[0;34m=\u001b[0m \u001b[0mos\u001b[0m\u001b[0;34m.\u001b[0m\u001b[0mlistdir\u001b[0m\u001b[0;34m(\u001b[0m\u001b[0mpassportData\u001b[0m\u001b[0;34m+\u001b[0m\u001b[0;34m'Labels'\u001b[0m\u001b[0;34m)\u001b[0m\u001b[0;34m\u001b[0m\u001b[0;34m\u001b[0m\u001b[0m\n\u001b[0m\u001b[1;32m      5\u001b[0m \u001b[0;31m# [x for b in a for x in b] # Works fine\u001b[0m\u001b[0;34m\u001b[0m\u001b[0;34m\u001b[0m\u001b[0;34m\u001b[0m\u001b[0m\n\u001b[1;32m      6\u001b[0m \u001b[0mlabelSymbolPaths\u001b[0m \u001b[0;34m=\u001b[0m \u001b[0;34m[\u001b[0m\u001b[0mos\u001b[0m\u001b[0;34m.\u001b[0m\u001b[0mpath\u001b[0m\u001b[0;34m.\u001b[0m\u001b[0mjoin\u001b[0m\u001b[0;34m(\u001b[0m\u001b[0mpassportData\u001b[0m\u001b[0;34m,\u001b[0m \u001b[0mlabel\u001b[0m\u001b[0;34m,\u001b[0m \u001b[0msymbol\u001b[0m\u001b[0;34m)\u001b[0m \u001b[0;32mfor\u001b[0m \u001b[0mlabel\u001b[0m \u001b[0;32min\u001b[0m \u001b[0mlabelPaths\u001b[0m \u001b[0;32mfor\u001b[0m \u001b[0msymbol\u001b[0m \u001b[0;32min\u001b[0m \u001b[0msymbols\u001b[0m\u001b[0;34m]\u001b[0m\u001b[0;34m\u001b[0m\u001b[0;34m\u001b[0m\u001b[0m\n",
      "\u001b[0;31mFileNotFoundError\u001b[0m: [Errno 2] No such file or directory: '/media/ak/My Passport/Data/FinDataReal/Labels'"
     ]
    }
   ],
   "source": [
    "# [x for b in a for x in b] # Works fine\n",
    "labelSymbolPaths = [os.path.join(passportData, label, symbol) for label in labelPaths for symbol in symbols]\n",
    "# double list comprehenstion that creates a directory in the Passport file for each label/symbol\n",
    "labelSymbolDatePaths =  [os.path.join(labelSymbol, keyDate) for labelSymbol in labelSymbolPaths for keyDate in listKeys]\n",
    "# takes the label symbol paths and creates a directory indexed by the dates"
   ]
  },
  {
   "cell_type": "code",
   "execution_count": null,
   "metadata": {},
   "outputs": [],
   "source": [
    "\n"
   ]
  },
  {
   "cell_type": "markdown",
   "metadata": {},
   "source": [
    "labelPaths: contains all the names of various directories\n",
    "\n",
    "passportData: the FinDataReal folder\n",
    "\n",
    "symbols : returns all the symbols we have data for (inclusive the first gen of Labels)\n",
    "labelSymbolPaths: returns folders for each alternate data per symbol"
   ]
  },
  {
   "cell_type": "markdown",
   "metadata": {},
   "source": [
    "First lets deal with labels types:\n",
    "1. take a list of all the data keys\n",
    "this list(data.keys()) will give you a  list of dates to deal with - essentially it is a Symbol Date mapping \n",
    "2. lets pick the various data types: \\\n",
    "\n",
    "differentLabelTypes=data[listKeys[idx]].filter(like='label', axis=1).columns.values"
   ]
  },
  {
   "cell_type": "markdown",
   "metadata": {},
   "source": [
    "###  label types ###"
   ]
  },
  {
   "cell_type": "code",
   "execution_count": null,
   "metadata": {},
   "outputs": [],
   "source": []
  },
  {
   "cell_type": "code",
   "execution_count": null,
   "metadata": {},
   "outputs": [],
   "source": []
  },
  {
   "cell_type": "code",
   "execution_count": 99,
   "metadata": {},
   "outputs": [],
   "source": [
    "# for path in labelSymbolDatePaths:\n",
    "#     if not os.path.exists(path):\n",
    "#         os.mkdir(path)\n",
    "#     else:\n",
    "#         print('continuing')\n",
    "#         continue"
   ]
  },
  {
   "cell_type": "markdown",
   "metadata": {},
   "source": [
    "# first dictionary will give you proportion of movement to no movement"
   ]
  },
  {
   "cell_type": "code",
   "execution_count": 100,
   "metadata": {},
   "outputs": [],
   "source": [
    "from collections import defaultdict\n",
    "labelsDict = defaultdict(dict) #create a structured dict that will have two keys to every value label/date \n",
    "\n",
    "for idx, key in enumerate(listKeys): #iterate through all the symbol-days\n",
    "    df =pd.DataFrame(data[listKeys[idx]]).drop(columns=['label_PrMov__window_2__thres_arbitrary__0.5']) #read each day\n",
    "    differentLabelTypes = df.filter(like='label', axis=1).columns.values \n",
    "    # make a list of all the labels- this is kind of rendundant given what I am doing\n",
    "    for i, labelValue in enumerate(differentLabelTypes): #go through all the different labels\n",
    "        try:\n",
    "            labelsDict[differentLabelTypes[i]][key] =(df[differentLabelTypes[i]].value_counts()[1]+df[differentLabelTypes[i]].value_counts()[-1])/ df[differentLabelTypes[i]].value_counts()[0]\n",
    "        except:\n",
    "#             print('continuing')\n",
    "            continue"
   ]
  },
  {
   "cell_type": "code",
   "execution_count": 101,
   "metadata": {},
   "outputs": [],
   "source": [
    "# idx = 1\n",
    "\n",
    "\n",
    "\n",
    "# # create a dict with the labels\n",
    "# myDict = {}\n",
    "# labels = [c for c in  dfTest.columns.tolist()  if 'label' in c]\n",
    "# info = [c for c in  dfTest.columns.tolist()  if 'label' not in c]\n",
    "# for label in labels:\n",
    "#     myDict[label]  =  dfTest[[label] + info]  "
   ]
  },
  {
   "cell_type": "code",
   "execution_count": 102,
   "metadata": {},
   "outputs": [],
   "source": [
    "for idx in range(len(list(data.keys()))):\n",
    "    df = data[list(data.keys())[idx]]\n",
    "    labels = [c for c in  df.columns.tolist()  if 'label' in c]\n",
    "    info = [c for c in  df.columns.tolist()  if 'label' not in c]"
   ]
  },
  {
   "cell_type": "code",
   "execution_count": 103,
   "metadata": {},
   "outputs": [],
   "source": [
    "passportData = '/media/ak/My Passport/Data/FinDataReal/'\n",
    "\n"
   ]
  },
  {
   "cell_type": "code",
   "execution_count": 104,
   "metadata": {},
   "outputs": [],
   "source": [
    "labelSymbolDatePaths[0]\n",
    "x = labelPaths\n",
    "y =labels\n",
    "labelDict = dict(zip(x, y))\n"
   ]
  },
  {
   "cell_type": "code",
   "execution_count": 105,
   "metadata": {},
   "outputs": [
    {
     "name": "stdout",
     "output_type": "stream",
     "text": [
      "label_MovAv__window_2__thres_arbitrary__0.0\n",
      "label_MovAv__window_5__thres_arbitrary__0.1\n",
      "label_PrMov__window_2__thres_arbitrary__0.5\n",
      "label_EndPo__window_9__thres_arbitrary__0.1\n",
      "label_MovAv__window_20__thres_arbitrary__0.8\n"
     ]
    }
   ],
   "source": [
    "for labelKey in list(labelDict.keys()):\n",
    "#         print(os.path.join(passportData, labelKey, ticker, dataKey))\n",
    "        print(labelDict[labelKey])"
   ]
  },
  {
   "cell_type": "code",
   "execution_count": 106,
   "metadata": {},
   "outputs": [
    {
     "data": {
      "text/plain": [
       "'/media/ak/My Passport/Data/FinDataReal/LabelsAlternateOne/AAL.L/20170116'"
      ]
     },
     "execution_count": 106,
     "metadata": {},
     "output_type": "execute_result"
    }
   ],
   "source": [
    "labelSymbolDatePaths[0]"
   ]
  },
  {
   "cell_type": "code",
   "execution_count": 107,
   "metadata": {
    "scrolled": false
   },
   "outputs": [
    {
     "name": "stdout",
     "output_type": "stream",
     "text": [
      "saving:  /media/ak/My Passport/Data/FinDataReal/LabelsAlternateOne/BLT.L/20170116/20170116.csv\n",
      "saving:  /media/ak/My Passport/Data/FinDataReal/LabelsAlternateTwo/BLT.L/20170116/20170116.csv\n",
      "saving:  /media/ak/My Passport/Data/FinDataReal/LabelsAlternateThree/BLT.L/20170116/20170116.csv\n",
      "saving:  /media/ak/My Passport/Data/FinDataReal/LabelsAlternateFour/BLT.L/20170116/20170116.csv\n",
      "saving:  /media/ak/My Passport/Data/FinDataReal/LabelsAlternateFive/BLT.L/20170116/20170116.csv\n",
      "saving:  /media/ak/My Passport/Data/FinDataReal/LabelsAlternateOne/BLT.L/20170117/20170117.csv\n",
      "saving:  /media/ak/My Passport/Data/FinDataReal/LabelsAlternateTwo/BLT.L/20170117/20170117.csv\n",
      "saving:  /media/ak/My Passport/Data/FinDataReal/LabelsAlternateThree/BLT.L/20170117/20170117.csv\n",
      "saving:  /media/ak/My Passport/Data/FinDataReal/LabelsAlternateFour/BLT.L/20170117/20170117.csv\n",
      "saving:  /media/ak/My Passport/Data/FinDataReal/LabelsAlternateFive/BLT.L/20170117/20170117.csv\n",
      "saving:  /media/ak/My Passport/Data/FinDataReal/LabelsAlternateOne/BLT.L/20170118/20170118.csv\n",
      "saving:  /media/ak/My Passport/Data/FinDataReal/LabelsAlternateTwo/BLT.L/20170118/20170118.csv\n",
      "saving:  /media/ak/My Passport/Data/FinDataReal/LabelsAlternateThree/BLT.L/20170118/20170118.csv\n",
      "saving:  /media/ak/My Passport/Data/FinDataReal/LabelsAlternateFour/BLT.L/20170118/20170118.csv\n",
      "saving:  /media/ak/My Passport/Data/FinDataReal/LabelsAlternateFive/BLT.L/20170118/20170118.csv\n",
      "saving:  /media/ak/My Passport/Data/FinDataReal/LabelsAlternateOne/BLT.L/20170119/20170119.csv\n",
      "saving:  /media/ak/My Passport/Data/FinDataReal/LabelsAlternateTwo/BLT.L/20170119/20170119.csv\n",
      "saving:  /media/ak/My Passport/Data/FinDataReal/LabelsAlternateThree/BLT.L/20170119/20170119.csv\n",
      "saving:  /media/ak/My Passport/Data/FinDataReal/LabelsAlternateFour/BLT.L/20170119/20170119.csv\n",
      "saving:  /media/ak/My Passport/Data/FinDataReal/LabelsAlternateFive/BLT.L/20170119/20170119.csv\n",
      "saving:  /media/ak/My Passport/Data/FinDataReal/LabelsAlternateOne/BLT.L/20170120/20170120.csv\n",
      "saving:  /media/ak/My Passport/Data/FinDataReal/LabelsAlternateTwo/BLT.L/20170120/20170120.csv\n",
      "saving:  /media/ak/My Passport/Data/FinDataReal/LabelsAlternateThree/BLT.L/20170120/20170120.csv\n",
      "saving:  /media/ak/My Passport/Data/FinDataReal/LabelsAlternateFour/BLT.L/20170120/20170120.csv\n",
      "saving:  /media/ak/My Passport/Data/FinDataReal/LabelsAlternateFive/BLT.L/20170120/20170120.csv\n",
      "saving:  /media/ak/My Passport/Data/FinDataReal/LabelsAlternateOne/BLT.L/20170123/20170123.csv\n",
      "saving:  /media/ak/My Passport/Data/FinDataReal/LabelsAlternateTwo/BLT.L/20170123/20170123.csv\n",
      "saving:  /media/ak/My Passport/Data/FinDataReal/LabelsAlternateThree/BLT.L/20170123/20170123.csv\n",
      "saving:  /media/ak/My Passport/Data/FinDataReal/LabelsAlternateFour/BLT.L/20170123/20170123.csv\n",
      "saving:  /media/ak/My Passport/Data/FinDataReal/LabelsAlternateFive/BLT.L/20170123/20170123.csv\n",
      "saving:  /media/ak/My Passport/Data/FinDataReal/LabelsAlternateOne/BLT.L/20170124/20170124.csv\n",
      "saving:  /media/ak/My Passport/Data/FinDataReal/LabelsAlternateTwo/BLT.L/20170124/20170124.csv\n",
      "saving:  /media/ak/My Passport/Data/FinDataReal/LabelsAlternateThree/BLT.L/20170124/20170124.csv\n",
      "saving:  /media/ak/My Passport/Data/FinDataReal/LabelsAlternateFour/BLT.L/20170124/20170124.csv\n",
      "saving:  /media/ak/My Passport/Data/FinDataReal/LabelsAlternateFive/BLT.L/20170124/20170124.csv\n",
      "saving:  /media/ak/My Passport/Data/FinDataReal/LabelsAlternateOne/BLT.L/20170125/20170125.csv\n",
      "saving:  /media/ak/My Passport/Data/FinDataReal/LabelsAlternateTwo/BLT.L/20170125/20170125.csv\n",
      "saving:  /media/ak/My Passport/Data/FinDataReal/LabelsAlternateThree/BLT.L/20170125/20170125.csv\n",
      "saving:  /media/ak/My Passport/Data/FinDataReal/LabelsAlternateFour/BLT.L/20170125/20170125.csv\n",
      "saving:  /media/ak/My Passport/Data/FinDataReal/LabelsAlternateFive/BLT.L/20170125/20170125.csv\n",
      "saving:  /media/ak/My Passport/Data/FinDataReal/LabelsAlternateOne/BLT.L/20170126/20170126.csv\n",
      "saving:  /media/ak/My Passport/Data/FinDataReal/LabelsAlternateTwo/BLT.L/20170126/20170126.csv\n",
      "saving:  /media/ak/My Passport/Data/FinDataReal/LabelsAlternateThree/BLT.L/20170126/20170126.csv\n",
      "saving:  /media/ak/My Passport/Data/FinDataReal/LabelsAlternateFour/BLT.L/20170126/20170126.csv\n",
      "saving:  /media/ak/My Passport/Data/FinDataReal/LabelsAlternateFive/BLT.L/20170126/20170126.csv\n",
      "saving:  /media/ak/My Passport/Data/FinDataReal/LabelsAlternateOne/BLT.L/20170127/20170127.csv\n",
      "saving:  /media/ak/My Passport/Data/FinDataReal/LabelsAlternateTwo/BLT.L/20170127/20170127.csv\n",
      "saving:  /media/ak/My Passport/Data/FinDataReal/LabelsAlternateThree/BLT.L/20170127/20170127.csv\n",
      "saving:  /media/ak/My Passport/Data/FinDataReal/LabelsAlternateFour/BLT.L/20170127/20170127.csv\n",
      "saving:  /media/ak/My Passport/Data/FinDataReal/LabelsAlternateFive/BLT.L/20170127/20170127.csv\n",
      "saving:  /media/ak/My Passport/Data/FinDataReal/LabelsAlternateOne/BLT.L/20170130/20170130.csv\n",
      "saving:  /media/ak/My Passport/Data/FinDataReal/LabelsAlternateTwo/BLT.L/20170130/20170130.csv\n",
      "saving:  /media/ak/My Passport/Data/FinDataReal/LabelsAlternateThree/BLT.L/20170130/20170130.csv\n",
      "saving:  /media/ak/My Passport/Data/FinDataReal/LabelsAlternateFour/BLT.L/20170130/20170130.csv\n",
      "saving:  /media/ak/My Passport/Data/FinDataReal/LabelsAlternateFive/BLT.L/20170130/20170130.csv\n",
      "saving:  /media/ak/My Passport/Data/FinDataReal/LabelsAlternateOne/BLT.L/20170131/20170131.csv\n",
      "saving:  /media/ak/My Passport/Data/FinDataReal/LabelsAlternateTwo/BLT.L/20170131/20170131.csv\n",
      "saving:  /media/ak/My Passport/Data/FinDataReal/LabelsAlternateThree/BLT.L/20170131/20170131.csv\n",
      "saving:  /media/ak/My Passport/Data/FinDataReal/LabelsAlternateFour/BLT.L/20170131/20170131.csv\n",
      "saving:  /media/ak/My Passport/Data/FinDataReal/LabelsAlternateFive/BLT.L/20170131/20170131.csv\n"
     ]
    },
    {
     "ename": "FileNotFoundError",
     "evalue": "[Errno 2] No such file or directory: '/media/ak/My Passport/Data/FinDataReal/LabelsAlternateOne/BLT.L/20170703/20170703.csv'",
     "output_type": "error",
     "traceback": [
      "\u001b[0;31m-----------------------------------------------------\u001b[0m",
      "\u001b[0;31mFileNotFoundError\u001b[0m   Traceback (most recent call last)",
      "\u001b[0;32m<ipython-input-107-e1cef5abf614>\u001b[0m in \u001b[0;36m<module>\u001b[0;34m\u001b[0m\n\u001b[1;32m      5\u001b[0m     \u001b[0;32mfor\u001b[0m \u001b[0mlabelKey\u001b[0m \u001b[0;32min\u001b[0m \u001b[0mlist\u001b[0m\u001b[0;34m(\u001b[0m\u001b[0mlabelDict\u001b[0m\u001b[0;34m.\u001b[0m\u001b[0mkeys\u001b[0m\u001b[0;34m(\u001b[0m\u001b[0;34m)\u001b[0m\u001b[0;34m)\u001b[0m\u001b[0;34m:\u001b[0m\u001b[0;34m\u001b[0m\u001b[0;34m\u001b[0m\u001b[0m\n\u001b[1;32m      6\u001b[0m         \u001b[0mdestination\u001b[0m \u001b[0;34m=\u001b[0m \u001b[0mos\u001b[0m\u001b[0;34m.\u001b[0m\u001b[0mpath\u001b[0m\u001b[0;34m.\u001b[0m\u001b[0mjoin\u001b[0m\u001b[0;34m(\u001b[0m\u001b[0mpassportData\u001b[0m\u001b[0;34m,\u001b[0m \u001b[0mlabelKey\u001b[0m\u001b[0;34m,\u001b[0m \u001b[0mticker\u001b[0m\u001b[0;34m,\u001b[0m \u001b[0mdataKey\u001b[0m\u001b[0;34m,\u001b[0m\u001b[0mstr\u001b[0m\u001b[0;34m(\u001b[0m\u001b[0mdataKey\u001b[0m\u001b[0;34m)\u001b[0m\u001b[0;34m+\u001b[0m\u001b[0;34m'.csv'\u001b[0m\u001b[0;34m)\u001b[0m\u001b[0;34m\u001b[0m\u001b[0;34m\u001b[0m\u001b[0m\n\u001b[0;32m----> 7\u001b[0;31m         \u001b[0mdf\u001b[0m\u001b[0;34m[\u001b[0m\u001b[0;34m[\u001b[0m\u001b[0mlabelDict\u001b[0m\u001b[0;34m[\u001b[0m\u001b[0mlabelKey\u001b[0m\u001b[0;34m]\u001b[0m\u001b[0;34m]\u001b[0m \u001b[0;34m+\u001b[0m \u001b[0minfo\u001b[0m\u001b[0;34m]\u001b[0m\u001b[0;34m.\u001b[0m\u001b[0mto_csv\u001b[0m\u001b[0;34m(\u001b[0m\u001b[0mdestination\u001b[0m\u001b[0;34m)\u001b[0m\u001b[0;34m\u001b[0m\u001b[0;34m\u001b[0m\u001b[0m\n\u001b[0m\u001b[1;32m      8\u001b[0m         \u001b[0mprint\u001b[0m\u001b[0;34m(\u001b[0m\u001b[0;34m'saving: '\u001b[0m\u001b[0;34m,\u001b[0m \u001b[0mdestination\u001b[0m\u001b[0;34m)\u001b[0m\u001b[0;34m\u001b[0m\u001b[0;34m\u001b[0m\u001b[0m\n\u001b[1;32m      9\u001b[0m         \u001b[0malternateLabels\u001b[0m\u001b[0;34m[\u001b[0m\u001b[0mdataKey\u001b[0m\u001b[0;34m]\u001b[0m\u001b[0;34m[\u001b[0m\u001b[0mlabelKey\u001b[0m\u001b[0;34m]\u001b[0m \u001b[0;34m=\u001b[0m \u001b[0mdestination\u001b[0m\u001b[0;34m\u001b[0m\u001b[0;34m\u001b[0m\u001b[0m\n",
      "\u001b[0;32m~/.local/lib/python3.6/site-packages/pandas/core/generic.py\u001b[0m in \u001b[0;36mto_csv\u001b[0;34m(self, path_or_buf, sep, na_rep, float_format, columns, header, index, index_label, mode, encoding, compression, quoting, quotechar, line_terminator, chunksize, date_format, doublequote, escapechar, decimal)\u001b[0m\n\u001b[1;32m   3226\u001b[0m             \u001b[0mdecimal\u001b[0m\u001b[0;34m=\u001b[0m\u001b[0mdecimal\u001b[0m\u001b[0;34m,\u001b[0m\u001b[0;34m\u001b[0m\u001b[0;34m\u001b[0m\u001b[0m\n\u001b[1;32m   3227\u001b[0m         )\n\u001b[0;32m-> 3228\u001b[0;31m         \u001b[0mformatter\u001b[0m\u001b[0;34m.\u001b[0m\u001b[0msave\u001b[0m\u001b[0;34m(\u001b[0m\u001b[0;34m)\u001b[0m\u001b[0;34m\u001b[0m\u001b[0;34m\u001b[0m\u001b[0m\n\u001b[0m\u001b[1;32m   3229\u001b[0m \u001b[0;34m\u001b[0m\u001b[0m\n\u001b[1;32m   3230\u001b[0m         \u001b[0;32mif\u001b[0m \u001b[0mpath_or_buf\u001b[0m \u001b[0;32mis\u001b[0m \u001b[0;32mNone\u001b[0m\u001b[0;34m:\u001b[0m\u001b[0;34m\u001b[0m\u001b[0;34m\u001b[0m\u001b[0m\n",
      "\u001b[0;32m~/.local/lib/python3.6/site-packages/pandas/io/formats/csvs.py\u001b[0m in \u001b[0;36msave\u001b[0;34m(self)\u001b[0m\n\u001b[1;32m    181\u001b[0m                 \u001b[0mself\u001b[0m\u001b[0;34m.\u001b[0m\u001b[0mmode\u001b[0m\u001b[0;34m,\u001b[0m\u001b[0;34m\u001b[0m\u001b[0;34m\u001b[0m\u001b[0m\n\u001b[1;32m    182\u001b[0m                 \u001b[0mencoding\u001b[0m\u001b[0;34m=\u001b[0m\u001b[0mself\u001b[0m\u001b[0;34m.\u001b[0m\u001b[0mencoding\u001b[0m\u001b[0;34m,\u001b[0m\u001b[0;34m\u001b[0m\u001b[0;34m\u001b[0m\u001b[0m\n\u001b[0;32m--> 183\u001b[0;31m                 \u001b[0mcompression\u001b[0m\u001b[0;34m=\u001b[0m\u001b[0mself\u001b[0m\u001b[0;34m.\u001b[0m\u001b[0mcompression\u001b[0m\u001b[0;34m,\u001b[0m\u001b[0;34m\u001b[0m\u001b[0;34m\u001b[0m\u001b[0m\n\u001b[0m\u001b[1;32m    184\u001b[0m             )\n\u001b[1;32m    185\u001b[0m             \u001b[0mclose\u001b[0m \u001b[0;34m=\u001b[0m \u001b[0;32mTrue\u001b[0m\u001b[0;34m\u001b[0m\u001b[0;34m\u001b[0m\u001b[0m\n",
      "\u001b[0;32m~/.local/lib/python3.6/site-packages/pandas/io/common.py\u001b[0m in \u001b[0;36m_get_handle\u001b[0;34m(path_or_buf, mode, encoding, compression, memory_map, is_text)\u001b[0m\n\u001b[1;32m    397\u001b[0m         \u001b[0;32mif\u001b[0m \u001b[0mencoding\u001b[0m\u001b[0;34m:\u001b[0m\u001b[0;34m\u001b[0m\u001b[0;34m\u001b[0m\u001b[0m\n\u001b[1;32m    398\u001b[0m             \u001b[0;31m# Encoding\u001b[0m\u001b[0;34m\u001b[0m\u001b[0;34m\u001b[0m\u001b[0;34m\u001b[0m\u001b[0m\n\u001b[0;32m--> 399\u001b[0;31m             \u001b[0mf\u001b[0m \u001b[0;34m=\u001b[0m \u001b[0mopen\u001b[0m\u001b[0;34m(\u001b[0m\u001b[0mpath_or_buf\u001b[0m\u001b[0;34m,\u001b[0m \u001b[0mmode\u001b[0m\u001b[0;34m,\u001b[0m \u001b[0mencoding\u001b[0m\u001b[0;34m=\u001b[0m\u001b[0mencoding\u001b[0m\u001b[0;34m,\u001b[0m \u001b[0mnewline\u001b[0m\u001b[0;34m=\u001b[0m\u001b[0;34m\"\"\u001b[0m\u001b[0;34m)\u001b[0m\u001b[0;34m\u001b[0m\u001b[0;34m\u001b[0m\u001b[0m\n\u001b[0m\u001b[1;32m    400\u001b[0m         \u001b[0;32melif\u001b[0m \u001b[0mis_text\u001b[0m\u001b[0;34m:\u001b[0m\u001b[0;34m\u001b[0m\u001b[0;34m\u001b[0m\u001b[0m\n\u001b[1;32m    401\u001b[0m             \u001b[0;31m# No explicit encoding\u001b[0m\u001b[0;34m\u001b[0m\u001b[0;34m\u001b[0m\u001b[0;34m\u001b[0m\u001b[0m\n",
      "\u001b[0;31mFileNotFoundError\u001b[0m: [Errno 2] No such file or directory: '/media/ak/My Passport/Data/FinDataReal/LabelsAlternateOne/BLT.L/20170703/20170703.csv'"
     ]
    }
   ],
   "source": [
    "alternateLabels = defaultdict(dict)\n",
    "for idxKey, dataKey in enumerate(list(data.keys())):\n",
    "    df= data[list(data.keys())[idxKey]]\n",
    "    info = [c for c in  df.columns.tolist()  if 'label' not in c]\n",
    "    for labelKey in list(labelDict.keys()):\n",
    "        destination = os.path.join(passportData, labelKey, ticker, dataKey,str(dataKey)+'.csv')\n",
    "        df[[labelDict[labelKey]] + info].to_csv(destination)\n",
    "        print('saving: ', destination)\n",
    "        alternateLabels[dataKey][labelKey] = destination\n"
   ]
  },
  {
   "cell_type": "code",
   "execution_count": null,
   "metadata": {},
   "outputs": [],
   "source": [
    "alternateLabelsFile = \"\".join((ticker,\"_AlternateLabelsLocations.pkl\"))\n",
    "fileName = os.path.join(passportData,alternateLabelsFile )\n",
    "fileName"
   ]
  },
  {
   "cell_type": "code",
   "execution_count": null,
   "metadata": {},
   "outputs": [],
   "source": [
    "\n",
    "with open(fileName, 'wb') as handle:\n",
    "    pkl.dump(alternateLabels, handle, protocol=pkl.HIGHEST_PROTOCOL)\n",
    "\n"
   ]
  },
  {
   "cell_type": "code",
   "execution_count": null,
   "metadata": {},
   "outputs": [],
   "source": [
    "with open(fileName, 'rb') as handle:\n",
    "    unitTest =pkl.load(handle)"
   ]
  },
  {
   "cell_type": "code",
   "execution_count": null,
   "metadata": {},
   "outputs": [],
   "source": [
    "unitTest[list(unitTest.keys())[0]].keys()"
   ]
  },
  {
   "cell_type": "code",
   "execution_count": 302,
   "metadata": {},
   "outputs": [],
   "source": [
    "# # e.g. \n",
    "# myDict['label_MovAv__window_2__thres_arbitrary__0.0']"
   ]
  },
  {
   "cell_type": "markdown",
   "metadata": {},
   "source": [
    "### this is a dictionary about relative movements"
   ]
  },
  {
   "cell_type": "code",
   "execution_count": 303,
   "metadata": {},
   "outputs": [],
   "source": [
    "from collections import defaultdict\n",
    "labelsDictUpDown = defaultdict(dict) #create a structured dict that will have two keys to every value label/date \n",
    "\n",
    "for idx, key in enumerate(listKeys): #iterate through all the symbol-days\n",
    "    df =pd.DataFrame(data[listKeys[idx]]).drop(columns=['label_PrMov__window_2__thres_arbitrary__0.5']) #read each day\n",
    "    differentLabelTypes = data[listKeys[idx]].filter(like='label', axis=1).columns.values \n",
    "    # make a list of all the labels- this is kind of rendundant given what I am doing\n",
    "    for i, labelValue in enumerate(differentLabelTypes): #go through all the different labels\n",
    "        try:\n",
    "             labelsDictUpDown[differentLabelTypes[i]][key] =df[differentLabelTypes[i]].value_counts()[1]/df[differentLabelTypes[i]].value_counts()[-1]\n",
    "    #    'defining movement that corresponds to a +1 label versus a -1 label'               \n",
    "        except:\n",
    "#             print('continuing')\n",
    "            continue"
   ]
  },
  {
   "cell_type": "code",
   "execution_count": 304,
   "metadata": {},
   "outputs": [],
   "source": [
    "# lets refactor the two dictionaries now"
   ]
  },
  {
   "cell_type": "code",
   "execution_count": 305,
   "metadata": {},
   "outputs": [],
   "source": [
    "## this is general movement of proportions\n",
    "labelProportions = df.from_dict(labelsDict)\n",
    "#g = sns.FacetGrid(tests)\n",
    "#sns.load_dataset(\"tips\")\n",
    "label_Proportions_DF = labelProportions.reset_index().rename(columns={\"index\": \"Date\"})\n",
    "## this is the up-down movement\n",
    "UpDownProportions = df.from_dict(labelsDictUpDown)\n",
    "#g = sns.FacetGrid(tests)\n",
    "#sns.load_dataset(\"tips\")\n",
    "UpDown_Proportions_DF = labelProportions.reset_index().rename(columns={\"index\": \"Date\"})"
   ]
  },
  {
   "cell_type": "code",
   "execution_count": 306,
   "metadata": {},
   "outputs": [],
   "source": [
    "labels= UpDown_Proportions_DF.filter(like='label', axis=1).columns.values "
   ]
  },
  {
   "cell_type": "code",
   "execution_count": 307,
   "metadata": {},
   "outputs": [],
   "source": [
    "import seaborn as sns\n",
    "from scipy.stats import norm\n",
    "import numpy as np\n",
    "def price_based_histogram_labels(x, labelText,ax):\n",
    "    x= np.array(x.dropna())\n",
    "    min_ylim, max_ylim = plt.ylim()\n",
    "    min_xlim, max_xlim = plt.xlim()\n",
    "    sns.distplot(x, fit=norm, kde=False, bins=20, ax=ax)\n",
    "    _=ax.axvline(np.median(x), color='r', linestyle='dashed', linewidth=2, label ='Median: {:.2f}'.format(np.median(x)))\n",
    "    #_=ax.axhline(np.std(x)*0.9, color='r', linestyle='dashed', linewidth=1)\n",
    "    ax.text(0.5, 0.5, 'StDev: {:.2f}'.format(x.std()), fontsize=15, horizontalalignment='center', verticalalignment='center', transform=ax.transAxes)\n",
    "    ax.legend()\n",
    "    plt.tight_layout() \n",
    "   "
   ]
  },
  {
   "cell_type": "code",
   "execution_count": 308,
   "metadata": {},
   "outputs": [],
   "source": [
    "# nrows = 2\n",
    "# ncolumns =2 \n",
    "# fig, axes = plt.subplots(nrows, ncolumns, figsize = (4* ncolumns, 4* nrows))\n",
    "# for i in range(nrows):\n",
    "#     for j in range(ncolumns):\n",
    "#         axes[i][j].scatter(np.random.normal(size=100), np.random.normal(size=100)*j)"
   ]
  },
  {
   "cell_type": "code",
   "execution_count": 309,
   "metadata": {},
   "outputs": [
    {
     "data": {
      "image/png": "[encoded data removed]",
      "text/plain": [
       "<Figure size 518.4x320.4 with 1 Axes>"
      ]
     },
     "metadata": {
      "needs_background": "light"
     },
     "output_type": "display_data"
    },
    {
     "data": {
      "image/png": "[encoded data removed]",
      "text/plain": [
       "<Figure size 518.4x320.4 with 1 Axes>"
      ]
     },
     "metadata": {
      "needs_background": "light"
     },
     "output_type": "display_data"
    }
   ],
   "source": [
    "i=2\n",
    "f, ax = plt.subplots()\n",
    "x =UpDown_Proportions_DF[labels[i]]\n",
    "text =labels[i]\n",
    "price_based_histogram_labels( x, text, ax)\n",
    "plt.show()\n",
    "res = stats.probplot(x, plot=plt)\n"
   ]
  },
  {
   "cell_type": "code",
   "execution_count": 310,
   "metadata": {},
   "outputs": [
    {
     "data": {
      "image/png": "[encoded data removed]",
      "text/plain": [
       "<Figure size 648x576 with 4 Axes>"
      ]
     },
     "metadata": {
      "needs_background": "light"
     },
     "output_type": "display_data"
    }
   ],
   "source": [
    "nrows = 2\n",
    "ncolumns =2 \n",
    "fig, axes = plt.subplots(nrows, ncolumns, figsize = (4.5* ncolumns, 4.0* nrows))\n",
    "for i in range(nrows):\n",
    "    for j in range(ncolumns):\n",
    "        x =UpDown_Proportions_DF[labels[i+nrows*j]]\n",
    "        text =labels[i+nrows*j]\n",
    "        price_based_histogram_labels( x, text, ax= axes[i][j])\n",
    "plt.savefig('/home/ak/Documents/Research/Papers/figures/' + str(ticker )+'AlternateLabels'+ '.png', dpi=150)\n"
   ]
  },
  {
   "cell_type": "code",
   "execution_count": 311,
   "metadata": {},
   "outputs": [
    {
     "data": {
      "image/png": "[encoded data removed]",
      "text/plain": [
       "<Figure size 648x576 with 4 Axes>"
      ]
     },
     "metadata": {
      "needs_background": "light"
     },
     "output_type": "display_data"
    }
   ],
   "source": [
    "nrows = 2\n",
    "ncolumns =2 \n",
    "fig, axes = plt.subplots(nrows, ncolumns, figsize = (4.5* ncolumns, 4.0* nrows))\n",
    "for i in range(nrows):\n",
    "    for j in range(ncolumns):\n",
    "        x =UpDown_Proportions_DF[labels[i+nrows*j]]\n",
    "        text =labels[i+nrows*j]\n",
    "        stats.probplot(x, plot=axes[i][j])\n",
    "\n",
    "plt.savefig('/home/ak/Documents/Research/Papers/figures/' + str(ticker )+'QQPlotsAlternateLabels'+ '.png', dpi=150)\n"
   ]
  },
  {
   "cell_type": "code",
   "execution_count": 215,
   "metadata": {},
   "outputs": [],
   "source": [
    "# for i in range(1,3):\n",
    "#     x =UpDown_Proportions_DF[labels[i]]\n",
    "#     text =labels[0]\n",
    "#     price_based_histogram_labels(x, text)\n",
    "#     plt.show()"
   ]
  },
  {
   "cell_type": "markdown",
   "metadata": {},
   "source": [
    "## Dealing with Labels Directly ##"
   ]
  },
  {
   "cell_type": "code",
   "execution_count": 164,
   "metadata": {},
   "outputs": [],
   "source": [
    "#need to store the labels !"
   ]
  },
  {
   "cell_type": "code",
   "execution_count": 165,
   "metadata": {},
   "outputs": [],
   "source": [
    "# pd.concat([data[k].set_index(k) for k in list(data.keys())], axis =0)\n",
    "df = pd.concat([pd.DataFrame({label: data[k][label].tolist() for label in differentLabelTypes}, index = [k]*len(data[k])) for k in list(data.keys())], axis =0)"
   ]
  },
  {
   "cell_type": "code",
   "execution_count": 30,
   "metadata": {
    "scrolled": true
   },
   "outputs": [],
   "source": [
    "\n",
    "df= dfimport seaborn as sns\n",
    "from scipy.stats import norm\n",
    "import numpy as np\n",
    "def price_based_histogram_labels(x, labelText):\n",
    "    x= np.array(x.dropna())\n",
    "    min_ylim, max_ylim = plt.ylim()\n",
    "    ax = sns.distplot(x, fit=norm, kde=False, bins=20)\n",
    "    _=ax.text(x.std()*0.5, max_ylim*0.5, 'Median: {:.2f}'.format(np.median(x)))\n",
    "    _=ax.axvline(np.median(x), color='r', linestyle='dashed', linewidth=2)\n",
    "    #_=ax.axhline(np.std(x)*0.9, color='r', linestyle='dashed', linewidth=1)\n",
    "    _=ax.text(x.std()*0.5, max_ylim*0.1, 'StDev: {:.2f}'.format(x.std()))\n",
    "    plt.title('Rolling window of ' + labelText.split(\"_\")[4] + ' , threshold ' + labelText.split(\"_\")[-1] )\n",
    "    plt.tight_layout() \n",
    "    plt.show().reset_index().rename(columns={\"index\": \"Date\"})\n",
    "# from scipy import stats\n",
    "# x2= df.from_dict(labelsDict)[differentLabelTypes[2]]\n",
    "# x1= df.from_dict(labelsDict)[differentLabelTypes[1]]"
   ]
  },
  {
   "cell_type": "code",
   "execution_count": 36,
   "metadata": {},
   "outputs": [],
   "source": [
    "labels =df.filter(like='label', axis=1).columns.values"
   ]
  },
  {
   "cell_type": "code",
   "execution_count": 45,
   "metadata": {},
   "outputs": [
    {
     "name": "stdout",
     "output_type": "stream",
     "text": [
      "0 label_MovAv__window_2__thres_arbitrary__0.0\n",
      "1 label_MovAv__window_5__thres_arbitrary__0.1\n",
      "2 label_PrMov__window_2__thres_arbitrary__0.5\n",
      "3 label_EndPo__window_9__thres_arbitrary__0.1\n",
      "4 label_MovAv__window_20__thres_arbitrary__0.8\n"
     ]
    }
   ],
   "source": [
    "dfs =[]\n",
    "for idx, label in enumerate(labels):\n",
    "    print(idx, label)\n",
    "    df1 = df[['Date', labels[idx]]]\n",
    "    df1Clean = pd.DataFrame()\n",
    "\n",
    "    df1Clean['Date'] = df1['Date']\n",
    "    df1Clean['LabelValue'] = df1[labels[idx]]\n",
    "    df1Clean['LabelType'] = 'Label '+str(idx)\n",
    "    dfs.append(df1Clean)"
   ]
  },
  {
   "cell_type": "code",
   "execution_count": 53,
   "metadata": {},
   "outputs": [],
   "source": [
    "dfsConcat = pd.concat(dfs, axis =0)"
   ]
  },
  {
   "cell_type": "code",
   "execution_count": 56,
   "metadata": {},
   "outputs": [
    {
     "data": {
      "text/plain": [
       "<seaborn.axisgrid.FacetGrid at 0x7fc52ac7e828>"
      ]
     },
     "execution_count": 56,
     "metadata": {},
     "output_type": "execute_result"
    },
    {
     "data": {
      "image/png": "[encoded data removed]",
      "text/plain": [
       "<Figure size 1080x216 with 5 Axes>"
      ]
     },
     "metadata": {
      "needs_background": "light"
     },
     "output_type": "display_data"
    }
   ],
   "source": [
    "g = sns.FacetGrid(dfsConcat, col=\"LabelType\",legend_out=False)\n",
    "_=g.map(sns.distplot, \"LabelValue\", bins=20,fit=norm, kde=False)\n",
    "g.add_legend()"
   ]
  },
  {
   "cell_type": "code",
   "execution_count": 57,
   "metadata": {},
   "outputs": [
    {
     "name": "stderr",
     "output_type": "stream",
     "text": [
      "No handles with labels found to put in legend.\n",
      "No handles with labels found to put in legend.\n",
      "No handles with labels found to put in legend.\n",
      "No handles with labels found to put in legend.\n",
      "No handles with labels found to put in legend.\n"
     ]
    },
    {
     "data": {
      "image/png": "[encoded data removed]",
      "text/plain": [
       "<Figure size 1080x216 with 5 Axes>"
      ]
     },
     "metadata": {
      "needs_background": "light"
     },
     "output_type": "display_data"
    }
   ],
   "source": [
    "g = sns.FacetGrid(dfsConcat, col=\"LabelType\",legend_out=False)\n",
    "g.map(quantile_plot, \"LabelValue\")\n",
    "plt.legend([],[], frameon=False)\n",
    "# for ax in g.axes.flat:\n",
    "#     ax.axline((0, 0), slope=.2, c=\".2\", ls=\"--\", zorder=0)\n",
    "# \n",
    "# ax.set_prop_cycle(color=['red', 'green', 'blue'])\n",
    "axes = g.fig.axes\n",
    "\n",
    "for ax in axes:\n",
    "    x = np.linspace(*ax.get_xlim())#*1.09\n",
    "    y = np.linspace(*ax.get_ylim())#*1.09\n",
    "    ax.plot(x, y,c=\"red\", ls=\"--\",zorder=0)\n",
    "    ax. legend(loc='upper left', frameon=False) \n",
    "    \n",
    "\n",
    "plt.show()"
   ]
  },
  {
   "cell_type": "code",
   "execution_count": 59,
   "metadata": {},
   "outputs": [],
   "source": [
    "def price_based_histogram_labels(x, labelText):\n",
    "    x= np.array(x.dropna())\n",
    "    ax = sns.distplot(x, fit=norm, kde=False, bins=20)\n",
    "    _=ax.text(x.std()*0.5, max_ylim*0.5, 'Median: {:.2f}'.format(np.median(x)))\n",
    "    _=ax.axvline(np.median(x), color='r', linestyle='dashed', linewidth=2)\n",
    "    #_=ax.axhline(np.std(x)*0.9, color='r', linestyle='dashed', linewidth=1)\n",
    "    _=ax.text(x.std()*0.5, max_ylim*0.1, 'StDev: {:.2f}'.format(x.std()))\n",
    "    plt.title('Rolling window of ' + labelText.split(\"_\")[4] + ' , threshold ' + labelText.split(\"_\")[-1] )\n",
    "    plt.tight_layout() \n",
    "    plt.show()"
   ]
  },
  {
   "cell_type": "code",
   "execution_count": 65,
   "metadata": {},
   "outputs": [
    {
     "data": {
      "text/html": [
       "<div>\n",
       "<style scoped>\n",
       "    .dataframe tbody tr th:only-of-type {\n",
       "        vertical-align: middle;\n",
       "    }\n",
       "\n",
       "    .dataframe tbody tr th {\n",
       "        vertical-align: top;\n",
       "    }\n",
       "\n",
       "    .dataframe thead th {\n",
       "        text-align: right;\n",
       "    }\n",
       "</style>\n",
       "<table border=\"1\" class=\"dataframe\">\n",
       "  <thead>\n",
       "    <tr style=\"text-align: right;\">\n",
       "      <th></th>\n",
       "      <th>Date</th>\n",
       "      <th>LabelValue</th>\n",
       "      <th>LabelType</th>\n",
       "    </tr>\n",
       "  </thead>\n",
       "  <tbody>\n",
       "    <tr>\n",
       "      <th>0</th>\n",
       "      <td>20170116</td>\n",
       "      <td>-1.0</td>\n",
       "      <td>Label 0</td>\n",
       "    </tr>\n",
       "    <tr>\n",
       "      <th>1</th>\n",
       "      <td>20170116</td>\n",
       "      <td>-1.0</td>\n",
       "      <td>Label 0</td>\n",
       "    </tr>\n",
       "    <tr>\n",
       "      <th>2</th>\n",
       "      <td>20170116</td>\n",
       "      <td>-1.0</td>\n",
       "      <td>Label 0</td>\n",
       "    </tr>\n",
       "    <tr>\n",
       "      <th>3</th>\n",
       "      <td>20170116</td>\n",
       "      <td>-1.0</td>\n",
       "      <td>Label 0</td>\n",
       "    </tr>\n",
       "  </tbody>\n",
       "</table>\n",
       "</div>"
      ],
      "text/plain": [
       "       Date  LabelValue LabelType\n",
       "0  20170116        -1.0   Label 0\n",
       "1  20170116        -1.0   Label 0\n",
       "2  20170116        -1.0   Label 0\n",
       "3  20170116        -1.0   Label 0"
      ]
     },
     "execution_count": 65,
     "metadata": {},
     "output_type": "execute_result"
    }
   ],
   "source": [
    "dfs[0].head(4)"
   ]
  },
  {
   "cell_type": "code",
   "execution_count": 66,
   "metadata": {},
   "outputs": [
    {
     "ename": "NameError",
     "evalue": "name 'max_ylim' is not defined",
     "output_type": "error",
     "traceback": [
      "\u001b[0;31m---------------------------------------------------------------------------\u001b[0m",
      "\u001b[0;31mNameError\u001b[0m                                 Traceback (most recent call last)",
      "\u001b[0;32m<ipython-input-66-94c1591ecc17>\u001b[0m in \u001b[0;36m<module>\u001b[0;34m\u001b[0m\n\u001b[0;32m----> 1\u001b[0;31m \u001b[0mprice_based_histogram_labels\u001b[0m\u001b[0;34m(\u001b[0m\u001b[0mdfs\u001b[0m\u001b[0;34m[\u001b[0m\u001b[0;36m0\u001b[0m\u001b[0;34m]\u001b[0m\u001b[0;34m.\u001b[0m\u001b[0mLabelValue\u001b[0m\u001b[0;34m,\u001b[0m \u001b[0;34m'Label 0'\u001b[0m\u001b[0;34m)\u001b[0m\u001b[0;34m\u001b[0m\u001b[0;34m\u001b[0m\u001b[0m\n\u001b[0m",
      "\u001b[0;32m<ipython-input-59-cbbef7c9afd8>\u001b[0m in \u001b[0;36mprice_based_histogram_labels\u001b[0;34m(x, labelText)\u001b[0m\n\u001b[1;32m      2\u001b[0m     \u001b[0mx\u001b[0m\u001b[0;34m=\u001b[0m \u001b[0mnp\u001b[0m\u001b[0;34m.\u001b[0m\u001b[0marray\u001b[0m\u001b[0;34m(\u001b[0m\u001b[0mx\u001b[0m\u001b[0;34m.\u001b[0m\u001b[0mdropna\u001b[0m\u001b[0;34m(\u001b[0m\u001b[0;34m)\u001b[0m\u001b[0;34m)\u001b[0m\u001b[0;34m\u001b[0m\u001b[0;34m\u001b[0m\u001b[0m\n\u001b[1;32m      3\u001b[0m     \u001b[0max\u001b[0m \u001b[0;34m=\u001b[0m \u001b[0msns\u001b[0m\u001b[0;34m.\u001b[0m\u001b[0mdistplot\u001b[0m\u001b[0;34m(\u001b[0m\u001b[0mx\u001b[0m\u001b[0;34m,\u001b[0m \u001b[0mfit\u001b[0m\u001b[0;34m=\u001b[0m\u001b[0mnorm\u001b[0m\u001b[0;34m,\u001b[0m \u001b[0mkde\u001b[0m\u001b[0;34m=\u001b[0m\u001b[0;32mFalse\u001b[0m\u001b[0;34m,\u001b[0m \u001b[0mbins\u001b[0m\u001b[0;34m=\u001b[0m\u001b[0;36m20\u001b[0m\u001b[0;34m)\u001b[0m\u001b[0;34m\u001b[0m\u001b[0;34m\u001b[0m\u001b[0m\n\u001b[0;32m----> 4\u001b[0;31m     \u001b[0m_\u001b[0m\u001b[0;34m=\u001b[0m\u001b[0max\u001b[0m\u001b[0;34m.\u001b[0m\u001b[0mtext\u001b[0m\u001b[0;34m(\u001b[0m\u001b[0mx\u001b[0m\u001b[0;34m.\u001b[0m\u001b[0mstd\u001b[0m\u001b[0;34m(\u001b[0m\u001b[0;34m)\u001b[0m\u001b[0;34m*\u001b[0m\u001b[0;36m0.5\u001b[0m\u001b[0;34m,\u001b[0m \u001b[0mmax_ylim\u001b[0m\u001b[0;34m*\u001b[0m\u001b[0;36m0.5\u001b[0m\u001b[0;34m,\u001b[0m \u001b[0;34m'Median: {:.2f}'\u001b[0m\u001b[0;34m.\u001b[0m\u001b[0mformat\u001b[0m\u001b[0;34m(\u001b[0m\u001b[0mnp\u001b[0m\u001b[0;34m.\u001b[0m\u001b[0mmedian\u001b[0m\u001b[0;34m(\u001b[0m\u001b[0mx\u001b[0m\u001b[0;34m)\u001b[0m\u001b[0;34m)\u001b[0m\u001b[0;34m)\u001b[0m\u001b[0;34m\u001b[0m\u001b[0;34m\u001b[0m\u001b[0m\n\u001b[0m\u001b[1;32m      5\u001b[0m     \u001b[0m_\u001b[0m\u001b[0;34m=\u001b[0m\u001b[0max\u001b[0m\u001b[0;34m.\u001b[0m\u001b[0maxvline\u001b[0m\u001b[0;34m(\u001b[0m\u001b[0mnp\u001b[0m\u001b[0;34m.\u001b[0m\u001b[0mmedian\u001b[0m\u001b[0;34m(\u001b[0m\u001b[0mx\u001b[0m\u001b[0;34m)\u001b[0m\u001b[0;34m,\u001b[0m \u001b[0mcolor\u001b[0m\u001b[0;34m=\u001b[0m\u001b[0;34m'r'\u001b[0m\u001b[0;34m,\u001b[0m \u001b[0mlinestyle\u001b[0m\u001b[0;34m=\u001b[0m\u001b[0;34m'dashed'\u001b[0m\u001b[0;34m,\u001b[0m \u001b[0mlinewidth\u001b[0m\u001b[0;34m=\u001b[0m\u001b[0;36m2\u001b[0m\u001b[0;34m)\u001b[0m\u001b[0;34m\u001b[0m\u001b[0;34m\u001b[0m\u001b[0m\n\u001b[1;32m      6\u001b[0m     \u001b[0;31m#_=ax.axhline(np.std(x)*0.9, color='r', linestyle='dashed', linewidth=1)\u001b[0m\u001b[0;34m\u001b[0m\u001b[0;34m\u001b[0m\u001b[0;34m\u001b[0m\u001b[0m\n",
      "\u001b[0;31mNameError\u001b[0m: name 'max_ylim' is not defined"
     ]
    },
    {
     "data": {
      "image/png": "[encoded data removed]",
      "text/plain": [
       "<Figure size 432x288 with 1 Axes>"
      ]
     },
     "metadata": {
      "needs_background": "light"
     },
     "output_type": "display_data"
    }
   ],
   "source": [
    "price_based_histogram_labels(dfs[0].LabelValue, 'Label 0')"
   ]
  },
  {
   "cell_type": "code",
   "execution_count": null,
   "metadata": {},
   "outputs": [],
   "source": []
  }
 ],
 "metadata": {
  "kernelspec": {
   "display_name": "Python 3",
   "language": "python",
   "name": "python3"
  },
  "language_info": {
   "codemirror_mode": {
    "name": "ipython",
    "version": 3
   },
   "file_extension": ".py",
   "mimetype": "text/x-python",
   "name": "python",
   "nbconvert_exporter": "python",
   "pygments_lexer": "ipython3",
   "version": "3.6.13"
  },
  "latex_envs": {
   "LaTeX_envs_menu_present": true,
   "autoclose": false,
   "autocomplete": true,
   "bibliofile": "biblio.bib",
   "cite_by": "apalike",
   "current_citInitial": 1,
   "eqLabelWithNumbers": true,
   "eqNumInitial": 1,
   "hotkeys": {
    "equation": "Ctrl-E",
    "itemize": "Ctrl-I"
   },
   "labels_anchors": false,
   "latex_user_defs": false,
   "report_style_numbering": false,
   "user_envs_cfg": false
  }
 },
 "nbformat": 4,
 "nbformat_minor": 2
}
