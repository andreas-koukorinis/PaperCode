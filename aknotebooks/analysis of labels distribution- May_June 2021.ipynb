{
 "cells": [
  {
   "cell_type": "code",
   "execution_count": 2,
   "id": "sensitive-essay",
   "metadata": {},
   "outputs": [],
   "source": [
    "import os\n",
    "import pandas as pd\n",
    "import math\n",
    "import sys\n",
    "import numpy as np\n",
    "import matplotlib as mpl\n",
    "import matplotlib.pyplot as plt\n",
    "%matplotlib inline\n",
    "import pickle as pkl\n",
    "plt.style.use(os.path.join(mpl.get_configdir(), 'latexstyle.mplstyle'))\n",
    "sys.path.append('/home/ak/Documents/Research/PaperCode/singlekernelclf')\n",
    "from scipy import stats\n",
    "from sklearn.preprocessing import StandardScaler\n",
    "import warnings\n",
    "warnings.filterwarnings('ignore')\n",
    "from collections import defaultdict\n",
    "import multiprocessing\n",
    "import math\n",
    "import seaborn as sns"
   ]
  },
  {
   "cell_type": "code",
   "execution_count": null,
   "id": "internal-start",
   "metadata": {},
   "outputs": [],
   "source": []
  },
  {
   "cell_type": "markdown",
   "id": "ignored-mailman",
   "metadata": {},
   "source": [
    "## pull in all the various utils I need"
   ]
  },
  {
   "cell_type": "code",
   "execution_count": 3,
   "id": "attractive-appearance",
   "metadata": {},
   "outputs": [],
   "source": [
    "from fileutils import DataLoader as DataLoader\n",
    "from fileutils import paths\n",
    "from fileutils import new_feature_utils as nfu"
   ]
  },
  {
   "cell_type": "markdown",
   "id": "sapphire-filling",
   "metadata": {},
   "source": [
    "## where figures will get stored"
   ]
  },
  {
   "cell_type": "code",
   "execution_count": 4,
   "id": "enormous-nancy",
   "metadata": {},
   "outputs": [],
   "source": [
    "figuresDestination ='/home/ak/Documents/Research/Papers/HybridLearningPaper/figures/'\n",
    "symbols = os.listdir(paths('symbols_features'))\n",
    "\n",
    "alternate_labels_nos = [1, 2, 3, 4, 5, 6]  # we have 7 alternative data types\n",
    "\n",
    "mainPath = paths('main')\n",
    "\n",
    "locationPath = os.path.join(mainPath,'ExperimentCommonLocs/')\n",
    "\n",
    "labelsTitles = [f for f in os.listdir(locationPath) if str('LabelsA') in f]\n",
    "labelsTitles = [f for f in os.listdir(locationPath) if str('LabelsA') in f]"
   ]
  },
  {
   "cell_type": "code",
   "execution_count": 5,
   "id": "damaged-leader",
   "metadata": {},
   "outputs": [],
   "source": [
    "def labelsPath(mainPath, idx):\n",
    "    locationPath = os.path.join(mainPath,'ExperimentCommonLocs/')\n",
    "\n",
    "\n",
    "    \n",
    "    labelsDictLoc = {'1':'LabelsAlternateOne',\n",
    "                     '2':'LabelsAlternateTwo',\n",
    "                     '3':'LabelsAlternateThree',\n",
    "                     '4':'LabelsAlternateFour',\n",
    "                     '5':'LabelsAlternateFive',\n",
    "                     '6':'LabelsAlternateSix',\n",
    "                     '7':'LabelsAlternateSeven'\n",
    "                     \n",
    "                    }\n",
    "    labelsPath = os.path.join(locationPath, labelsDictLoc[idx])\n",
    "    \n",
    "    if os.path.isdir(labelsPath):\n",
    "        return labelsPath\n",
    "    else:\n",
    "        print('Not a valid Label')\n",
    "        \n",
    "def symbol_feature_paths(mainPath, symbol):\n",
    "    \"\"\"\n",
    "    mainPath: is the main path created in Dataloader\n",
    "    symbol\n",
    "    returns: symbol paths dictionary indexed by keys which are dates\n",
    "    keys: which are the dates for the symbol's features paths\n",
    "    \"\"\"\n",
    "    \n",
    "    symbolData = DataLoader(mainPath, symbol)\n",
    "    hmm_dates_list = sorted(symbolData.hmm_dates_list) ## all hmm model dates\n",
    "    hmm_date_indx = 0 # pick a model date index\n",
    "    hmm_date = hmm_dates_list[hmm_date_indx]  # pull out the date\n",
    "    hmm_features_date_path = os.path.join(symbolData.symbol_features_path, hmm_date)\n",
    "    symbol_feature_paths = {feature_file.split(\"_\")[5]: os.path.join(hmm_features_date_path, feature_file) for\n",
    "                            f, feature_file in enumerate(sorted(os.listdir(hmm_features_date_path)))}\n",
    "    \n",
    "    return symbol_feature_paths"
   ]
  },
  {
   "cell_type": "code",
   "execution_count": 10,
   "id": "enormous-fabric",
   "metadata": {},
   "outputs": [
    {
     "name": "stdout",
     "output_type": "stream",
     "text": [
      "/media/ak/DataOnly/ExperimentCommonLocs/LabelsAlternateTwo\n",
      "['LGEN.L', 'SMIN.L', 'NG.L', 'BLT.L', 'KGF.L', 'PRU.L', 'SHP.L', 'RTO.L', 'BATS.L', 'ULVR.L', 'RR.L', 'CPI.L', 'UU.L', 'RDSa.L', 'RSA.L', 'SPT.L', 'CEY.L', 'RB.L', 'TSCO.L', 'ITV.L', 'PSON.L', 'SDR.L', 'APF.L', 'STAN.L', 'REL.L', 'AZN.L', 'CCL.L', 'SGE.L', 'RDSb.L', 'LLOY.L', 'MKS.L', 'WPP.L', 'CPG.L', 'BARC.L', 'AV.L', 'AAL.L', 'VOD.L', 'MAB.L', 'RBS.L', 'LAND.L']\n"
     ]
    }
   ],
   "source": [
    "labelIdx = '2' # pick the label-idx \n",
    "\n",
    "\n",
    "# path for the label that has all the symbols\n",
    "mainLabelPath =labelsPath(mainPath, labelIdx) \n",
    "print(mainLabelPath)\n",
    "# take out all the symbols\n",
    "symbols = os.listdir(mainLabelPath) \n",
    "print(symbols) # list of symbols"
   ]
  },
  {
   "cell_type": "markdown",
   "id": "established-witness",
   "metadata": {},
   "source": [
    "\n",
    "## pick a symbol"
   ]
  },
  {
   "cell_type": "code",
   "execution_count": null,
   "id": "framed-husband",
   "metadata": {},
   "outputs": [],
   "source": []
  },
  {
   "cell_type": "markdown",
   "id": "dental-serbia",
   "metadata": {},
   "source": [
    "### functions that can be used"
   ]
  },
  {
   "cell_type": "code",
   "execution_count": 7,
   "id": "cultural-eleven",
   "metadata": {},
   "outputs": [],
   "source": [
    "\n",
    "labelSymbolDict = dict()\n",
    "dict_pct_no_move ={}\n",
    "for symbol in symbols:\n",
    "\n",
    "    symbol_Main_LabelsPath = os.path.join(mainLabelPath, symbol)\n",
    "    labelSymbolDict[symbol] =(os.listdir(symbol_Main_LabelsPath))\n",
    "\n",
    "    ## now for the specific symbol that you have chosen\n",
    "\n",
    "    symbol_Label_Paths  = {labelSymbolDict[symbol][f].split(\".\")[0]:os.path.join(symbol_Main_LabelsPath, labelSymbolDict[symbol][f]) for f,_ in enumerate(labelSymbolDict[symbol])}    \n",
    "    ## make a dictionary that has \n",
    "\n",
    "    labelsValuesDict = dict()\n",
    "    for date in list(symbol_Label_Paths.keys()):\n",
    "        dataDf = pd.read_csv(symbol_Label_Paths[date])\n",
    "        label_name = str(dataDf.columns[dataDf.columns.str.contains(pat='label')].values[0])\n",
    "\n",
    "        labelsValuesDict[date] = dataDf[label_name] # keep the values of the labels only\n",
    "\n",
    "    df_across_dates = pd.DataFrame.from_dict(labelsValuesDict)\n",
    "    df_across_dates_values = df_across_dates.apply(pd.Series.value_counts) \n",
    "    df_pcts = pd.DataFrame()\n",
    "    df_pcts[0]= df_across_dates_values.loc[0]/(df_across_dates_values.loc[0]+df_across_dates_values.loc[1]+df_across_dates_values.loc[-1])\n",
    "    df_pcts[1] = 1- df_pcts[0]\n",
    "    dict_pct_no_move[symbol] = df_pcts[0]\n"
   ]
  },
  {
   "cell_type": "code",
   "execution_count": 8,
   "id": "impressed-event",
   "metadata": {},
   "outputs": [
    {
     "ename": "NameError",
     "evalue": "name 'label_name' is not defined",
     "output_type": "error",
     "traceback": [
      "\u001b[0;31m---------------------------------------------------------------------------\u001b[0m",
      "\u001b[0;31mNameError\u001b[0m                                 Traceback (most recent call last)",
      "\u001b[0;32m<ipython-input-8-93ce62e63577>\u001b[0m in \u001b[0;36m<module>\u001b[0;34m()\u001b[0m\n\u001b[0;32m----> 1\u001b[0;31m \u001b[0mprint\u001b[0m\u001b[0;34m(\u001b[0m\u001b[0mlabel_name\u001b[0m\u001b[0;34m)\u001b[0m\u001b[0;34m\u001b[0m\u001b[0;34m\u001b[0m\u001b[0m\n\u001b[0m\u001b[1;32m      2\u001b[0m \u001b[0mdf_across_dates_values\u001b[0m\u001b[0;34m\u001b[0m\u001b[0;34m\u001b[0m\u001b[0m\n",
      "\u001b[0;31mNameError\u001b[0m: name 'label_name' is not defined"
     ]
    }
   ],
   "source": [
    "print(label_name)\n",
    "df_across_dates_values"
   ]
  },
  {
   "cell_type": "code",
   "execution_count": 56,
   "id": "front-multiple",
   "metadata": {},
   "outputs": [
    {
     "data": {
      "image/png": "[encoded data removed]",
      "text/plain": [
       "<Figure size 1296x360 with 1 Axes>"
      ]
     },
     "metadata": {
      "needs_background": "light"
     },
     "output_type": "display_data"
    }
   ],
   "source": [
    "df_across_time = pd.DataFrame.from_dict(dict_pct_no_move).median(axis=1)\n",
    "f, ax = plt.subplots(figsize = (18 ,5))\n",
    "df_across_time.plot.hist(label='frequencies')\n",
    "\n",
    "_ = plt.axvline(x = df_across_time.mean(), color='r', linewidth = 1.5, linestyle=\"--\", label='mean' )\n",
    "_ =ax.legend(fontsize = 14)\n",
    "title = label_name+'_across_time_histo.png'\n",
    "target_path = os.path.join(figuresDestination, title)\n",
    "\n",
    "plt.savefig(target_path)"
   ]
  },
  {
   "cell_type": "code",
   "execution_count": null,
   "id": "mexican-replica",
   "metadata": {},
   "outputs": [],
   "source": []
  },
  {
   "cell_type": "code",
   "execution_count": 1,
   "id": "developmental-simpson",
   "metadata": {},
   "outputs": [
    {
     "ename": "NameError",
     "evalue": "name 'pd' is not defined",
     "output_type": "error",
     "traceback": [
      "\u001b[0;31m---------------------------------------------------------------------------\u001b[0m",
      "\u001b[0;31mNameError\u001b[0m                                 Traceback (most recent call last)",
      "\u001b[0;32m<ipython-input-1-d87779217518>\u001b[0m in \u001b[0;36m<module>\u001b[0;34m()\u001b[0m\n\u001b[0;32m----> 1\u001b[0;31m \u001b[0mdf_across_symbols\u001b[0m \u001b[0;34m=\u001b[0m \u001b[0mpd\u001b[0m\u001b[0;34m.\u001b[0m\u001b[0mDataFrame\u001b[0m\u001b[0;34m.\u001b[0m\u001b[0mfrom_dict\u001b[0m\u001b[0;34m(\u001b[0m\u001b[0mdict_pct_no_move\u001b[0m\u001b[0;34m)\u001b[0m\u001b[0;34m.\u001b[0m\u001b[0mmedian\u001b[0m\u001b[0;34m(\u001b[0m\u001b[0maxis\u001b[0m\u001b[0;34m=\u001b[0m\u001b[0;36m0\u001b[0m\u001b[0;34m)\u001b[0m\u001b[0;34m\u001b[0m\u001b[0;34m\u001b[0m\u001b[0m\n\u001b[0m\u001b[1;32m      2\u001b[0m \u001b[0mdf_across_symbols\u001b[0m\u001b[0;34m.\u001b[0m\u001b[0mmean\u001b[0m\u001b[0;34m(\u001b[0m\u001b[0;34m)\u001b[0m\u001b[0;34m\u001b[0m\u001b[0;34m\u001b[0m\u001b[0m\n",
      "\u001b[0;31mNameError\u001b[0m: name 'pd' is not defined"
     ]
    }
   ],
   "source": [
    "df_across_symbols = pd.DataFrame.from_dict(dict_pct_no_move).median(axis=0)\n",
    "df_across_symbols.mean()"
   ]
  },
  {
   "cell_type": "code",
   "execution_count": 58,
   "id": "passing-muslim",
   "metadata": {},
   "outputs": [
    {
     "data": {
      "image/png": "[encoded data removed]",
      "text/plain": [
       "<Figure size 1296x360 with 1 Axes>"
      ]
     },
     "metadata": {
      "needs_background": "light"
     },
     "output_type": "display_data"
    }
   ],
   "source": [
    "f, ax = plt.subplots(figsize = (18 ,5))\n",
    "df_across_symbols.plot.bar(label ='percentage inside range')\n",
    "_=plt.axhline(y = df_across_symbols.mean(), color='r', linewidth = 1, linestyle=\"--\", label='mean' )\n",
    "_ = ax.legend(fontsize = 14)\n",
    "title = label_name+'_across_symbols_bar_plot.png'\n",
    "target_path = os.path.join(figuresDestination, title)\n",
    "\n",
    "plt.savefig(target_path)"
   ]
  },
  {
   "cell_type": "code",
   "execution_count": 51,
   "id": "conceptual-framework",
   "metadata": {},
   "outputs": [],
   "source": [
    "def labels_dicionaries(keys, alternate_labels_nos):\n",
    "    label_date_dict = defaultdict(dict)\n",
    "    label_names = dict()\n",
    "    value_counts_dict =dict()\n",
    "    \n",
    "    for label_idx in alternate_labels_nos:    \n",
    "        for key_idx, key in enumerate(keys): # this is a date\n",
    "            labels_file_path = os.path.join(symbolData.symbol_specific_label_path(label_idx), key + \".csv\")\n",
    "            labels = pd.read_csv(labels_file_path) # load all the labels\n",
    "            label_name = str(labels.columns[labels.columns.str.contains(pat='label')].values[0]) #strip the name\n",
    "            labels_values = labels[label_name] # keep the values of the labels only\n",
    "            label_date_dict[key][label_idx] = (labels_values) # tag label values into a dictionary\n",
    "            label_names[label_idx] = label_name # keep the label names\n",
    "            value_counts_dict[key] =pd.DataFrame.from_dict(label_date_dict[key]).apply(pd.Series.value_counts) # do a simple count of numbers of each label values\n",
    "    return label_date_dict, value_counts_dict, label_names"
   ]
  },
  {
   "cell_type": "code",
   "execution_count": 13,
   "id": "comprehensive-brother",
   "metadata": {},
   "outputs": [],
   "source": [
    "\n",
    "def open_pickle_filepath(pickle_file):\n",
    "    pickle_to_file = pickle.load(open(pickle_file, \"rb\"), encoding='latin1')\n",
    "\n",
    "    return pickle_to_file\n",
    "\n",
    "\n",
    "\n",
    "def relative_movements(df, label_idx):\n",
    "    global proportionMoveNoMove\n",
    "    \n",
    "    if math.isnan(df[label_idx][-1]) == True:\n",
    "        \n",
    "        proportionMoveNoMove = df[label_idx][1]/df[label_idx][0] # move to no move\n",
    "    \n",
    "    elif math.isnan(df[label_idx][0]) == True:\n",
    "        \n",
    "        proportionMoveNoMove = df[label_idx][1]/df[label_idx][-1] # move up versus move down\n",
    "    \n",
    "    elif math.isnan(df[label_idx][-1]) == True and math.isnan(df[label_idx][1]) == True:\n",
    "        pass\n",
    "    \n",
    "    elif math.isnan(df[label_idx][-1]) == True and math.isnan(df[label_idx][0]) == True:\n",
    "        pass\n",
    "    \n",
    "    elif math.isnan(df[label_idx][0]) == True and math.isnan(df[label_idx][1]) == True:\n",
    "        pass\n",
    "    \n",
    "    elif math.isnan(df[label_idx][-1]) == True and math.isnan(df[label_idx][1]) == True and math.isnan(df[label_idx][0]) == True:\n",
    "        pass\n",
    "    \n",
    "    elif math.isnan(df[label_idx][-1]) != True and math.isnan(df[label_idx][1]) != True and math.isnan(df[label_idx][0]) != True:\n",
    "        \n",
    "        proportionMoveNoMove = (df[label_idx][1] + df[label_idx][-1]) /df[label_idx][0] # move to no move\n",
    "                \n",
    "    return proportionMoveNoMove\n",
    "    "
   ]
  },
  {
   "cell_type": "markdown",
   "id": "centered-missile",
   "metadata": {},
   "source": [
    "#### various inputs- will need to iterate over"
   ]
  },
  {
   "cell_type": "code",
   "execution_count": null,
   "id": "tender-restaurant",
   "metadata": {},
   "outputs": [],
   "source": []
  },
  {
   "cell_type": "code",
   "execution_count": null,
   "id": "activated-radius",
   "metadata": {},
   "outputs": [],
   "source": [
    "def symbol_feature_paths(mainPath, symbol):\n",
    "    \"\"\"\n",
    "    mainPath: is the main path created in Dataloader\n",
    "    symbol\n",
    "    returns: symbol paths dictionary indexed by keys which are dates\n",
    "    keys: which are the dates for the symbol's features paths\n",
    "    \"\"\"\n",
    "    \n",
    "    symbolData = DataLoader(mainPath, symbol)\n",
    "    hmm_dates_list = sorted(symbolData.hmm_dates_list) ## all hmm model dates\n",
    "    hmm_date_indx = 0 # pick a model date index\n",
    "    hmm_date = hmm_dates_list[hmm_date_indx]  # pull out the date\n",
    "    hmm_features_date_path = os.path.join(symbolData.symbol_features_path, hmm_date)\n",
    "    symbol_feature_paths = {feature_file.split(\"_\")[5]: os.path.join(hmm_features_date_path, feature_file) for\n",
    "                            f, feature_file in enumerate(sorted(os.listdir(hmm_features_date_path)))}\n",
    "\n",
    "   \n",
    "    return symbol_feature_paths\n",
    "# for key in keys:  # <--- this is the label key in older versions of the code!\n",
    "\n",
    "\n",
    "# all sorts of analysis needed for the label distribution\n",
    "# for every key, which represents a data, label_date_dict[key], we get a dictionary that has 7 keys (1-7) which represent the keys for the labels. For some random date/\"key\", you get:\n",
    "# label_date_dict[key] = {{1: 0 0.0 1 0.0 2 0.0 3 0.0 4 0.0 ... }\n",
    "\n",
    "# label_date_dict[key].keys() = dict_keys([1, 2, 3, 4, 5, 6, 7])\n",
    "\n",
    "# value_counts, returns basically the number of 0, 1, -1 in the dataframe and label_names- plain names\n",
    "\n",
    "            \n",
    "def relative_movement_calculation(keys):\n",
    "\n",
    "    label_date_dict, value_counts_dict, label_names =labels_dicionaries(keys, alternate_labels_nos)\n",
    "    relative_movement_dict  = defaultdict(dict)\n",
    "    for key in keys:\n",
    "        for label_no in alternate_labels_nos:\n",
    "            print('##############Date:',key, '################ & Label: ', label_no)\n",
    "            relative_movement_dict[key][label_no]  = (relative_movements(value_counts_dict[key], label_no))\n",
    "           # print(relative_movement_dict)\n",
    "        return relative_movement_dict"
   ]
  },
  {
   "cell_type": "code",
   "execution_count": null,
   "id": "korean-modem",
   "metadata": {},
   "outputs": [],
   "source": [
    "\n",
    "# for symbol in symbols:\n",
    "symbolData = DataLoader(mainPath, symbol)\n",
    "paths = symbol_feature_paths(mainPath, symbol)\n",
    "keys = sorted(list(paths.keys()))\n",
    "print(keys)\n",
    "\n",
    "\n",
    "#     ## main piece of code is here ## \n",
    "\n",
    "# relative_movement_dict = relative_movement_calculation(keys)\n",
    "# relative_movement_dict.keys()\n",
    "# dfDatesLabels = pd.DataFrame.from_dict(relative_movement_dict, orient= \"index\")\n",
    "\n",
    "# df_across_dates[str(symbol)] = dfDatesLabels #.median(axis=0)"
   ]
  },
  {
   "cell_type": "code",
   "execution_count": null,
   "id": "behavioral-money",
   "metadata": {},
   "outputs": [],
   "source": [
    "relative_movement_dict = relative_movement_calculation(keys)\n",
    "relative_movement_dict.keys()\n",
    "dfDatesLabels = pd.DataFrame.from_dict(relative_movement_dict, orient= \"index\")"
   ]
  },
  {
   "cell_type": "code",
   "execution_count": null,
   "id": "substantial-juvenile",
   "metadata": {},
   "outputs": [],
   "source": [
    "label_date_dict = defaultdict(dict)\n",
    "label_names = dict()\n",
    "value_counts_dict =dict()\n",
    "    \n",
    "for label_idx in alternate_labels_nos:    \n",
    "    for key_idx, key in enumerate(keys): # this is a date\n",
    "        labels_file_path = os.path.join(symbolData.symbol_specific_label_path(label_idx), key + \".csv\")\n",
    "        labels = pd.read_csv(labels_file_path) # load all the labels\n",
    "        label_name = str(labels.columns[labels.columns.str.contains(pat='label')].values[0]) #strip the name\n",
    "        labels_values = labels[label_name] # keep the values of the labels only\n",
    "        label_date_dict[key][label_idx] = (labels_values) # tag label values into a dictionary\n",
    "        label_names[label_idx] = label_name # keep the label names\n",
    "        value_counts_dict[key] =pd.DataFrame.from_dict(label_date_dict[key]).apply(pd.Series.value_counts) # do a simple count of numbers of each label values"
   ]
  },
  {
   "cell_type": "code",
   "execution_count": null,
   "id": "authorized-illness",
   "metadata": {},
   "outputs": [],
   "source": [
    "pd.read_csv(os.path.join(labelsAnalysisResults,\"LabelsProportionsAcrossDates.csv\"))"
   ]
  },
  {
   "cell_type": "code",
   "execution_count": null,
   "id": "fallen-poster",
   "metadata": {},
   "outputs": [],
   "source": [
    "relative_movement_dict"
   ]
  },
  {
   "cell_type": "code",
   "execution_count": null,
   "id": "dying-variable",
   "metadata": {},
   "outputs": [],
   "source": [
    "df_across_dates"
   ]
  },
  {
   "cell_type": "code",
   "execution_count": null,
   "id": "going-blocking",
   "metadata": {},
   "outputs": [],
   "source": [
    "fig, ((ax1, ax2), (ax3, ax4)) = plt.subplots(2,2, constrained_layout = True)\n",
    "ax1 =sns.distplot(df_across_dates.iloc[1], bins =10)\n",
    "ax2 =sns.distplot(df_across_dates.iloc[2], bins =10)"
   ]
  },
  {
   "cell_type": "code",
   "execution_count": null,
   "id": "cutting-occasions",
   "metadata": {},
   "outputs": [],
   "source": [
    "_=sns.distplot(df_across_dates.iloc[0], bins =10)\n",
    "plt.axvline(df_across_dates.iloc[6].median(), linestyle = '--', color = 'purple', label ='median of label 7')\n",
    "_=plt.xlabel(\"Proportion of move to no move\")\n",
    "plt.legend()\n",
    "# figName = os.path.join(figuresDestination, 'Labe71Distribution.png')\n",
    "# plt.savefig(figName , dpi =150 )"
   ]
  },
  {
   "cell_type": "code",
   "execution_count": null,
   "id": "honey-instruction",
   "metadata": {},
   "outputs": [],
   "source": [
    "df_across_dates.head(4)"
   ]
  },
  {
   "cell_type": "code",
   "execution_count": null,
   "id": "better-graph",
   "metadata": {},
   "outputs": [],
   "source": [
    "df_across_dates.median(axis=1)"
   ]
  },
  {
   "cell_type": "code",
   "execution_count": null,
   "id": "under-headquarters",
   "metadata": {},
   "outputs": [],
   "source": [
    "sns.displot(df_across_dates.median(axis=1))"
   ]
  },
  {
   "cell_type": "code",
   "execution_count": null,
   "id": "neural-shepherd",
   "metadata": {},
   "outputs": [],
   "source": [
    "_=sns.distplot(df_across_dates.iloc[7], bins =10)\n",
    "plt.axvline(df_across_dates.iloc[7].median(), linestyle = '--', color = 'purple', label ='median of label 7')\n",
    "_=plt.xlabel(\"Proportion of move to no move\")\n",
    "plt.legend()\n",
    "# figName = os.path.join(figuresDestination, 'Label7Distribution.png')\n",
    "# plt.savefig(figName , dpi =150 )"
   ]
  },
  {
   "cell_type": "code",
   "execution_count": null,
   "id": "sweet-technical",
   "metadata": {},
   "outputs": [],
   "source": [
    "ax[0, 0] = sns.distplot(df_across_dates.iloc[1], bins =10)"
   ]
  },
  {
   "cell_type": "code",
   "execution_count": null,
   "id": "clinical-representation",
   "metadata": {},
   "outputs": [],
   "source": [
    "pd.options.display.float_format = '{:.2}'.format\n",
    "#print(df_across_dates.to_latex(index=True))\n",
    "df_across_dates = df_across_dates\n",
    "df_across_dates.median(axis=1).T"
   ]
  },
  {
   "cell_type": "code",
   "execution_count": null,
   "id": "published-musical",
   "metadata": {},
   "outputs": [],
   "source": [
    "print(df_across_dates.median(axis=1).to_latex(index=True))  #[(6)]"
   ]
  },
  {
   "cell_type": "code",
   "execution_count": null,
   "id": "matched-siemens",
   "metadata": {},
   "outputs": [],
   "source": [
    "plt.figure(figsize=(10,5))\n",
    "df_across_dates.iloc[1].median(axis=1)\n"
   ]
  },
  {
   "cell_type": "code",
   "execution_count": null,
   "id": "textile-trader",
   "metadata": {},
   "outputs": [],
   "source": []
  }
 ],
 "metadata": {
  "kernelspec": {
   "display_name": "Python 3",
   "language": "python",
   "name": "python3"
  },
  "language_info": {
   "codemirror_mode": {
    "name": "ipython",
    "version": 3
   },
   "file_extension": ".py",
   "mimetype": "text/x-python",
   "name": "python",
   "nbconvert_exporter": "python",
   "pygments_lexer": "ipython3",
   "version": "3.6.13"
  }
 },
 "nbformat": 4,
 "nbformat_minor": 5
}
