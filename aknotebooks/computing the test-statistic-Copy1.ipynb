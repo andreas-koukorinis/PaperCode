{
 "cells": [
  {
   "cell_type": "code",
   "execution_count": 1,
   "metadata": {},
   "outputs": [],
   "source": [
    "from __future__ import division\n",
    "import numpy as np\n",
    "from sys import stdout\n",
    "from sklearn.metrics import pairwise_kernels\n",
    "\n",
    "\n",
    "def MMD2u(K, m, n):\n",
    "    \"\"\"The MMD^2_u unbiased statistic.\n",
    "    \"\"\"\n",
    "    Kx = K[:m, :m]\n",
    "    Ky = K[m:, m:]\n",
    "    Kxy = K[:m, m:]\n",
    "    return 1.0 / (m * (m - 1.0)) * (Kx.sum() - Kx.diagonal().sum()) + \\\n",
    "        1.0 / (n * (n - 1.0)) * (Ky.sum() - Ky.diagonal().sum()) - \\\n",
    "        2.0 / (m * n) * Kxy.sum()\n",
    "\n",
    "\n",
    "def compute_null_distribution(K, m, n, iterations=10000, verbose=False,\n",
    "                              random_state=None, marker_interval=1000):\n",
    "    \"\"\"Compute the bootstrap null-distribution of MMD2u.\n",
    "    \"\"\"\n",
    "    if type(random_state) == type(np.random.RandomState()):\n",
    "        rng = random_state\n",
    "    else:\n",
    "        rng = np.random.RandomState(random_state)\n",
    "\n",
    "    mmd2u_null = np.zeros(iterations)\n",
    "    for i in range(iterations):\n",
    "        if verbose and (i % marker_interval) == 0:\n",
    "            print(i),\n",
    "            stdout.flush()\n",
    "        idx = rng.permutation(m+n)\n",
    "        K_i = K[idx, idx[:, None]]\n",
    "        mmd2u_null[i] = MMD2u(K_i, m, n)\n",
    "\n",
    "    if verbose:\n",
    "        print(\"\")\n",
    "\n",
    "    return mmd2u_null\n",
    "\n",
    "\n",
    "def compute_null_distribution_given_permutations(K, m, n, permutation,\n",
    "                                                 iterations=None):\n",
    "    \"\"\"Compute the bootstrap null-distribution of MMD2u given\n",
    "    predefined permutations.\n",
    "\n",
    "    Note:: verbosity is removed to improve speed.\n",
    "    \"\"\"\n",
    "    if iterations is None:\n",
    "        iterations = len(permutation)\n",
    "\n",
    "    mmd2u_null = np.zeros(iterations)\n",
    "    for i in range(iterations):\n",
    "        idx = permutation[i]\n",
    "        K_i = K[idx, idx[:, None]]\n",
    "        mmd2u_null[i] = MMD2u(K_i, m, n)\n",
    "\n",
    "    return mmd2u_null\n",
    "\n",
    "\n",
    "def kernel_two_sample_test(X, Y, kernel_function='rbf', iterations=10000,\n",
    "                           verbose=False, random_state=None, **kwargs):\n",
    "    \"\"\"Compute MMD^2_u, its null distribution and the p-value of the\n",
    "    kernel two-sample test.\n",
    "\n",
    "    Note that extra parameters captured by **kwargs will be passed to\n",
    "    pairwise_kernels() as kernel parameters. E.g. if\n",
    "    kernel_two_sample_test(..., kernel_function='rbf', gamma=0.1),\n",
    "    then this will result in getting the kernel through\n",
    "    kernel_function(metric='rbf', gamma=0.1).\n",
    "    \"\"\"\n",
    "    m = len(X)\n",
    "    n = len(Y)\n",
    "    XY = np.vstack([X, Y])\n",
    "    K = pairwise_kernels(XY, metric=kernel_function, **kwargs)\n",
    "    mmd2u = MMD2u(K, m, n)\n",
    "    if verbose:\n",
    "        print(\"MMD^2_u = %s\" % mmd2u)\n",
    "        print(\"Computing the null distribution.\")\n",
    "\n",
    "    mmd2u_null = compute_null_distribution(K, m, n, iterations,\n",
    "                                           verbose=verbose,\n",
    "                                           random_state=random_state)\n",
    "    p_value = max(1.0/iterations, (mmd2u_null > mmd2u).sum() /\n",
    "                  float(iterations))\n",
    "    if verbose:\n",
    "        print(\"p-value ~= %s \\t (resolution : %s)\" % (p_value, 1.0/iterations))\n",
    "\n",
    "    return mmd2u, mmd2u_null, p_value\n",
    "\n",
    "\n"
   ]
  },
  {
   "cell_type": "code",
   "execution_count": 4,
   "metadata": {},
   "outputs": [
    {
     "name": "stdout",
     "output_type": "stream",
     "text": [
      "MMD^2_u = 0.03862081638998227\n",
      "Computing the null distribution.\n",
      "0\n",
      "1000\n",
      "2000\n",
      "3000\n",
      "4000\n",
      "5000\n",
      "6000\n",
      "7000\n",
      "8000\n",
      "9000\n",
      "\n",
      "p-value ~= 0.1087 \t (resolution : 0.0001)\n"
     ]
    },
    {
     "name": "stderr",
     "output_type": "stream",
     "text": [
      "/home/ak/Envs/resrPyth3/lib/python3.6/site-packages/ipykernel_launcher.py:39: MatplotlibDeprecationWarning: \n",
      "The 'normed' kwarg was deprecated in Matplotlib 2.1 and will be removed in 3.1. Use 'density' instead.\n"
     ]
    },
    {
     "data": {
      "image/png": "[encoded data removed]",
      "text/plain": [
       "<Figure size 432x288 with 1 Axes>"
      ]
     },
     "metadata": {
      "needs_background": "light"
     },
     "output_type": "display_data"
    },
    {
     "data": {
      "image/png": "[encoded data removed]",
      "text/plain": [
       "<Figure size 432x288 with 1 Axes>"
      ]
     },
     "metadata": {
      "needs_background": "light"
     },
     "output_type": "display_data"
    }
   ],
   "source": [
    "# if __name__ == '__main__':\n",
    "\n",
    "import matplotlib.pyplot as plt\n",
    "from sklearn.metrics import pairwise_distances\n",
    "\n",
    "np.random.seed(0)\n",
    "\n",
    "m = 20\n",
    "n = 20\n",
    "d = 2\n",
    "\n",
    "sigma2X = np.eye(d)\n",
    "muX = np.zeros(d)\n",
    "\n",
    "sigma2Y = np.eye(d)\n",
    "muY = np.ones(d)\n",
    "# muY = np.zeros(d)\n",
    "\n",
    "iterations = 10000\n",
    "\n",
    "X = np.random.multivariate_normal(mean=muX, cov=sigma2X, size=m)\n",
    "Y = np.random.multivariate_normal(mean=muY, cov=sigma2Y, size=n)\n",
    "\n",
    "if d == 2:\n",
    "    plt.figure()\n",
    "    plt.plot(X[:, 0], X[:, 1], 'bo')\n",
    "    plt.plot(Y[:, 0], Y[:, 1], 'rx')\n",
    "\n",
    "sigma2 = np.median(pairwise_distances(X, Y, metric='euclidean'))**2\n",
    "mmd2u, mmd2u_null, p_value = kernel_two_sample_test(X, Y,\n",
    "                                                    kernel_function='rbf',\n",
    "                                                    gamma=1.0/sigma2,\n",
    "                                                    verbose=True)\n",
    "# mmd2u, mmd2u_null, p_value = kernel_two_sample_test(X, Y,\n",
    "#                                                     kernel_function='linear',\n",
    "#                                                     verbose=True)\n",
    "\n",
    "plt.figure()\n",
    "prob, bins, patches = plt.hist(mmd2u_null, bins=50, normed=True)\n",
    "plt.plot(mmd2u, prob.max()/30, 'w*', markersize=24, markeredgecolor='k',\n",
    "         markeredgewidth=2, label=\"$MMD^2_u = %s$\" % mmd2u)\n",
    "plt.xlabel('$MMD^2_u$')\n",
    "plt.ylabel('$p(MMD^2_u)$')\n",
    "plt.legend(numpoints=1)\n",
    "plt.title('$MMD^2_u$: null-distribution and observed value. $p$-value=%s'\n",
    "          % p_value)\n",
    "plt.show()\n"
   ]
  },
  {
   "cell_type": "code",
   "execution_count": null,
   "metadata": {},
   "outputs": [],
   "source": []
  }
 ],
 "metadata": {
  "kernelspec": {
   "display_name": "Python 3",
   "language": "python",
   "name": "python3"
  },
  "language_info": {
   "codemirror_mode": {
    "name": "ipython",
    "version": 3
   },
   "file_extension": ".py",
   "mimetype": "text/x-python",
   "name": "python",
   "nbconvert_exporter": "python",
   "pygments_lexer": "ipython3",
   "version": "3.6.8"
  }
 },
 "nbformat": 4,
 "nbformat_minor": 2
}
