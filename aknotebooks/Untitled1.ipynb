{
 "cells": [
  {
   "cell_type": "code",
   "execution_count": null,
   "metadata": {},
   "outputs": [
    {
     "name": "stdout",
     "output_type": "stream",
     "text": [
      "Number of points in data set is 22625, number of points with large price change 5117\n",
      "Clustering of data produces highly unbalanced subsets; fall back to random intialisation.\n",
      "Number of points in data set is 14535, number of points with large price change 3053\n",
      "Clustering of data produces highly unbalanced subsets; fall back to random intialisation.\n",
      "Number of points in data set is 13660, number of points with large price change 3720\n",
      "Clustering of data produces highly unbalanced subsets; fall back to random intialisation.\n",
      "Number of points in data set is 14830, number of points with large price change 4161\n",
      "Clustering of data produces highly unbalanced subsets; fall back to random intialisation.\n",
      "Number of points in data set is 22039, number of points with large price change 5061\n",
      "Clustering of data produces highly unbalanced subsets; fall back to random intialisation.\n",
      "Number of points in data set is 12028, number of points with large price change 3162\n",
      "Clustering of data produces highly unbalanced subsets; fall back to random intialisation.\n",
      "Number of points in data set is 11488, number of points with large price change 3608\n",
      "Clustering of data produces highly unbalanced subsets; fall back to random intialisation.\n",
      "Number of points in data set is 17666, number of points with large price change 4791\n",
      "Clustering of data produces highly unbalanced subsets; fall back to random intialisation.\n",
      "Number of points in data set is 13158, number of points with large price change 2977\n",
      "Clustering of data produces highly unbalanced subsets; fall back to random intialisation.\n",
      "Number of points in data set is 24102, number of points with large price change 5549\n",
      "Clustering of data produces highly unbalanced subsets; fall back to random intialisation.\n"
     ]
    }
   ],
   "source": [
    "from hsmm_core.data_utils import DataLoader, TradingHours\n",
    "from hsmm_core.feature_spaces import hmm_features\n",
    "from hsmm_core.hsmm_runner import HmmCalibration\n",
    "import time\n",
    "from hsmm_core.consts import InitialisationMethod\n",
    "\n",
    "n_hidden_states = 2\n",
    "\n",
    "data_loader_init = {\n",
    "    'trading_hours_filter': TradingHours.only_mkt_hours,\n",
    "}\n",
    "\n",
    "\n",
    "init_params = {\n",
    "    'obs_model_name': 'ExpIndMixDiracGauss',\n",
    "    'em_obs_init_method': InitialisationMethod.cluster,\n",
    "    'em_hidden_init_method': InitialisationMethod.uniform,\n",
    "    'no_hidden_states': n_hidden_states,\n",
    "    'update_tag': 'tpsml'\n",
    "}\n",
    "\n",
    "\n",
    "ticker = 'BATS.L'\n",
    "\n",
    "sd = '20180403'\n",
    "ed = '20180419'\n",
    "\n",
    "data_loader = DataLoader(**data_loader_init)\n",
    "\n",
    "data_loader_hash = data_loader.data_loader_hash()\n",
    "\n",
    "data = data_loader.load_trades_data(ticker, start_date=sd, end_date=ed)\n",
    "\n",
    "hmm_calibration_engine = HmmCalibration(init_params=init_params)\n",
    "hmm_calibration_engine.run_calibration_all_data(ticker, data,  data_loader_hash,\n",
    "                                                force_recalc=True, use_multiprocessing=False,\n",
    "                                                n_processes=2)\n",
    "\n",
    "\n"
   ]
  },
  {
   "cell_type": "code",
   "execution_count": null,
   "metadata": {},
   "outputs": [],
   "source": [
    "features_engine = hmm_features()\n",
    "\n",
    "s = time.time()\n",
    "for date, date_data in data.iteritems():\n",
    "    stored_hmm, _ = hmm_calibration_engine.get_calibrated_hmm(ticker, date, data_loader_hash)\n",
    "\n",
    "    if stored_hmm is None:\n",
    "       raise ValueError(\"No hmm available for date {}\".format(date))\n",
    "\n",
    "    features_engine.hmm = stored_hmm\n",
    "\n",
    "    features = features_engine.generate_features(date_data)"
   ]
  },
  {
   "cell_type": "code",
   "execution_count": null,
   "metadata": {},
   "outputs": [],
   "source": [
    "features"
   ]
  },
  {
   "cell_type": "code",
   "execution_count": null,
   "metadata": {},
   "outputs": [],
   "source": []
  }
 ],
 "metadata": {
  "kernelspec": {
   "display_name": "Python 2",
   "language": "python",
   "name": "python2"
  },
  "language_info": {
   "codemirror_mode": {
    "name": "ipython",
    "version": 2
   },
   "file_extension": ".py",
   "mimetype": "text/x-python",
   "name": "python",
   "nbconvert_exporter": "python",
   "pygments_lexer": "ipython2",
   "version": "2.7.15rc1"
  }
 },
 "nbformat": 4,
 "nbformat_minor": 2
}
