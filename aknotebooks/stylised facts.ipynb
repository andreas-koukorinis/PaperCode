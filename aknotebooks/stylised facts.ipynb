{
 "cells": [
  {
   "cell_type": "code",
   "execution_count": 44,
   "metadata": {},
   "outputs": [],
   "source": [
    "import pandas as pd\n",
    "import numpy as np\n",
    "import os\n",
    "from pandas.tseries.offsets import BDay\n",
    "import pickle\n",
    "import fnmatch\n",
    "from scipy import stats\n",
    "from dateutil.parser import parse\n",
    "from pylab import *\n",
    "import statsmodels as sts\n",
    "import datetime as dt\n",
    "import glob\n",
    "from scipy.spatial.distance import pdist, squareform\n",
    "def listdirs(folder): #return only directories from a master folder\n",
    "    return [d for d in os.listdir(folder) if os.path.isdir(os.path.join(folder, d))]\n",
    "\n",
    "def find_path(basepath, stringname):\n",
    "    for fname in os.listdir(basepath):\n",
    "        path = os.path.join(basepath, fname)\n",
    "        if os.path.isdir(path):\n",
    "            if stringname in fname:\n",
    "                return path\n",
    "def get_ticket(rx_path):\n",
    "    ticker=rx_path.split(\".\")[0].split(\"/\")[-1].split(\"-\")[0]\n",
    "    return ticker\n",
    "\n",
    "def ticker_trades_dir(ticker):\n",
    "    dest=os.path.join(os.getenv('FINANCE_DATA'), \"_\".join((ticker,'trades')))\n",
    "    if not os.path.isdir(dest):\n",
    "        os.makedirs(dest)\n",
    "def quotes_trades_dir(ticker):\n",
    "    dest=os.path.join(os.getenv('FINANCE_DATA'), \"_\".join((ticker,'quotes')))\n",
    "    if not os.path.isdir(dest):\n",
    "        os.makedirs(dest)\n",
    "def agg_on_trd_time(gr):\n",
    "    \"\"\"\n",
    "    Utility func to aggregate trades on timestamp. All trades with equal time stamp\n",
    "    will collapse to one row and the traded price will be the volume weighted traded\n",
    "    price.\n",
    "    \"\"\"\n",
    "    vTrdPrice = np.sum(gr['TradedPrice'] * gr['Volume'])/np.sum(gr['Volume'])\n",
    "    volume = np.sum(gr['Volume'])\n",
    "\n",
    "    return pd.Series({'Volume': volume,\n",
    "                      'TradedPrice': vTrdPrice})"
   ]
  },
  {
   "cell_type": "code",
   "execution_count": 2,
   "metadata": {},
   "outputs": [],
   "source": [
    "data_dir = os.getenv('FINANCE_DATA') #main directory\n",
    "data_only_drive= '/mnt/usb-Seagate_Expansion_Desk_NA8XEHR6-0:0-part2'\n",
    "bmrg_symbols=[s for s in os.listdir(data_dir) if s.endswith('20181028') or s.endswith('20181027')]\n",
    "\n",
    "\n",
    "bmrg_symbols_destinations=[s for s in os.listdir(data_dir) if s.endswith('trades') or s.endswith('quotes')]\n",
    "bmrg_tickers=[bmrg_symbols_destinations[idx].split('_t')[0] or \\\n",
    "              bmrg_symbols_destinations[idx].split('_q')[0] for idx,_ in enumerate(bmrg_symbols_destinations)]"
   ]
  },
  {
   "cell_type": "code",
   "execution_count": 3,
   "metadata": {},
   "outputs": [],
   "source": [
    "bmrg_folders=[s for s in os.listdir(data_dir) if s.endswith('Comdty')]\n",
    "bmrg_trades=[s for s in os.listdir(data_dir) if s.endswith('y_trades')]\n",
    "bmrg_quotes=[s for s in os.listdir(data_dir) if s.endswith('y_quotes')]\n",
    "bmrg_tickers=[bmrg_trades[idx].split('_t')[0] for idx,_ in enumerate(bmrg_trades)]"
   ]
  },
  {
   "cell_type": "code",
   "execution_count": 10,
   "metadata": {},
   "outputs": [],
   "source": [
    "#need these columns 'TradedTime', 'TradedPrice', 'ReturnTradedPrice', 'Volume','Duration'"
   ]
  },
  {
   "cell_type": "code",
   "execution_count": 12,
   "metadata": {},
   "outputs": [],
   "source": [
    "symbol='US1_Comdty'\n",
    "trades_files_loc = os.path.join(data_dir,symbol)\n",
    "trades_files=os.listdir(trades_files_loc)\n",
    "file_idx=3\n",
    "trades_df = pd.read_csv(os.path.join(trades_files_loc, trades_files[file_idx]), index_col=False)\n",
    "trades_df['SquaredReturns']=trades_df['ReturnTradedPrice']**2\n",
    "trades_df=trades_df.dropna()\n",
    "trades_df['TradedDateTime']=pd.to_datetime(trades_df['TradedTime'])"
   ]
  },
  {
   "cell_type": "code",
   "execution_count": 20,
   "metadata": {},
   "outputs": [
    {
     "data": {
      "text/plain": [
       "pandas.core.series.Series"
      ]
     },
     "execution_count": 20,
     "metadata": {},
     "output_type": "execute_result"
    }
   ],
   "source": [
    "type(trades_df['TradedDateTime'])"
   ]
  },
  {
   "cell_type": "code",
   "execution_count": null,
   "metadata": {},
   "outputs": [],
   "source": [
    "trades_df.fillna(value=0, inplace=True)\n",
    "trades_df.columns.values\n"
   ]
  },
  {
   "cell_type": "code",
   "execution_count": 67,
   "metadata": {},
   "outputs": [
    {
     "data": {
      "text/plain": [
       "xrange(10)"
      ]
     },
     "execution_count": 67,
     "metadata": {},
     "output_type": "execute_result"
    }
   ],
   "source": [
    "test=trades_df['TradedTime'][2]\n"
   ]
  },
  {
   "cell_type": "code",
   "execution_count": 72,
   "metadata": {},
   "outputs": [],
   "source": [
    "# datetime.datetime.strptime(test,'%Y-%m-%d %H:%M:%S')\n",
    "#datetime.strptime(war_start, '%Y-%m-%d')\n",
    "parse(test).date()\n",
    "trades_df['TradedTime']=trades_df['TradedTime'].apply(parse)"
   ]
  },
  {
   "cell_type": "code",
   "execution_count": 86,
   "metadata": {},
   "outputs": [],
   "source": [
    "# trades_df['TradedTime'].datetime.time()\n",
    "trades_df['TradedTime'] = [datetime.datetime.time(d) for d in trades_df['TradedTime']]"
   ]
  },
  {
   "cell_type": "code",
   "execution_count": 89,
   "metadata": {},
   "outputs": [],
   "source": [
    "trades_df= trades_df.drop(columns=['TradedDateTime'])"
   ]
  },
  {
   "cell_type": "code",
   "execution_count": 91,
   "metadata": {},
   "outputs": [
    {
     "data": {
      "text/plain": [
       "array(['TradedTime', 'TradedPrice', 'ReturnTradedPrice', 'Volume',\n",
       "       'Duration', 'SquaredReturns'], dtype=object)"
      ]
     },
     "execution_count": 91,
     "metadata": {},
     "output_type": "execute_result"
    }
   ],
   "source": [
    "trades_df.columns.values"
   ]
  },
  {
   "cell_type": "code",
   "execution_count": null,
   "metadata": {},
   "outputs": [],
   "source": [
    "fig, ax = subplots()\n",
    "nonz=trades_df[trades_df['ReturnTradedPrice']!=0]\n",
    "zero=trades_df[trades_df['ReturnTradedPrice']==0]\n",
    "ax.scatter(nonz['Volume'], nonz['Duration'], cmap='gray')\n",
    "# ax.set_aspect(1)\n",
    "# xlim(np.min(z['ReturnTradedPrice']), np.max(z['ReturnTradedPrice']))\n",
    "# ylim(np.max(z['Duration']), np.max(z['Duration']))\n",
    "xlabel('Volume')\n",
    "ylabel('Duration')\n",
    "# title('Volume') ;\n",
    "ax.scatter(zero['Volume'], zero['Duration'], cmap='gray')\n"
   ]
  },
  {
   "cell_type": "code",
   "execution_count": null,
   "metadata": {},
   "outputs": [],
   "source": [
    "fig, ax = subplots()\n",
    "ax.scatter(zero['Volume'], zero['Duration'], cmap='gray')"
   ]
  },
  {
   "cell_type": "code",
   "execution_count": null,
   "metadata": {},
   "outputs": [],
   "source": [
    "trades_df['simple_rtn'] = 100 * trades_df['ReturnTradedPrice']\n",
    "trades_df['log_rtn'] = 100 * (np.log(trades_df['TradedPrice']) - np.log(trades_df['TradedPrice'].shift(1)))\n",
    "\n",
    "# dropping NA's in the first row\n",
    "trades_df.dropna(how = 'any', inplace = True)\n",
    "\n",
    "trades_df.columns.values"
   ]
  },
  {
   "cell_type": "code",
   "execution_count": null,
   "metadata": {},
   "outputs": [],
   "source": [
    "df_nonzero = trades_df[trades_df['ReturnTradedPrice']!=0]\n",
    "df_zero= trades_df[trades_df['ReturnTradedPrice']==0]"
   ]
  },
  {
   "cell_type": "code",
   "execution_count": null,
   "metadata": {},
   "outputs": [],
   "source": [
    "sns.pairplot(df_nonzero, hue=\"Volume\")"
   ]
  },
  {
   "cell_type": "markdown",
   "metadata": {},
   "source": []
  },
  {
   "cell_type": "code",
   "execution_count": null,
   "metadata": {},
   "outputs": [],
   "source": [
    "x_nz = df_nonzero['ReturnTradedPrice']\n",
    "dur_nz= df_nonzero['Duration']\n",
    "vol_nz = df_nonzero['Volume']\n",
    "sns.scatterplot(x=x_nz, y=dur_nz, hue=vol_nz,sizes=(1, 8),palette=\"ch:r=-.3,d=.7_r\", linewidth=0)\n",
    "# Plot a historgram and kernel density estimate\n"
   ]
  },
  {
   "cell_type": "code",
   "execution_count": null,
   "metadata": {},
   "outputs": [],
   "source": [
    "sns.distplot(dur_nz, color=\"m\")"
   ]
  },
  {
   "cell_type": "code",
   "execution_count": null,
   "metadata": {},
   "outputs": [],
   "source": [
    "import scipy.stats as scs\n",
    "\n",
    "# Plotting the distribution of the returns ----\n",
    "ax = sns.distplot(x_nz, kde = True, norm_hist=True)                                    \n",
    "\n",
    "xx = np.arange(min(x_nz), max(x_nz), 0.01)                                                   \n",
    "yy = scs.norm.pdf(xx)                                                         \n",
    "ax.plot(xx, yy, 'r', lw=2)\n",
    "_=ax.set_title('Distribution of returns')"
   ]
  },
  {
   "cell_type": "code",
   "execution_count": null,
   "metadata": {},
   "outputs": [],
   "source": [
    "import statsmodels.formula.api as smf\n",
    "import pandas as pd\n",
    "import matplotlib.pyplot as plt\n",
    "from pandas.plotting import autocorrelation_plot"
   ]
  },
  {
   "cell_type": "code",
   "execution_count": null,
   "metadata": {},
   "outputs": [],
   "source": [
    "ticker_data =x_nz\n",
    "ticker_data_len = len(ticker_data)\n",
    "sns.distplot(x_nz)"
   ]
  },
  {
   "cell_type": "code",
   "execution_count": null,
   "metadata": {},
   "outputs": [],
   "source": []
  }
 ],
 "metadata": {
  "kernelspec": {
   "display_name": "Python 2",
   "language": "python",
   "name": "python2"
  },
  "language_info": {
   "codemirror_mode": {
    "name": "ipython",
    "version": 2
   },
   "file_extension": ".py",
   "mimetype": "text/x-python",
   "name": "python",
   "nbconvert_exporter": "python",
   "pygments_lexer": "ipython2",
   "version": "2.7.15rc1"
  }
 },
 "nbformat": 4,
 "nbformat_minor": 2
}
