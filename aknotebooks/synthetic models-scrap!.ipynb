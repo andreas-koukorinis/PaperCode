{
 "cells": [
  {
   "cell_type": "code",
   "execution_count": 4,
   "metadata": {},
   "outputs": [],
   "source": [
    "import pandas as pd\n",
    "import numpy as np\n",
    "import os\n",
    "from pandas.tseries.offsets import BDay\n",
    "from hsmm_core.utils import mc_limiting_distribution, states_from_limit_dist\n",
    "from hsmm_core.observation_models import ExpIndMixDiracGauss\n",
    "from hsmm_core.feature_spaces import hmm_features\n",
    "from hsmm_core.hsmm_runner import HmmCalibration\n",
    "\n",
    "from hsmm_core.hmm import hmm_impl\n",
    "\n",
    "from hsmm_core.data_utils import DataLoader, TradingHours\n",
    "from hsmm_core.labelling import DataLabellingSimple\n",
    "from hsmm_core.consts import ThresholdMethod, LabellingChoice\n",
    "import pickle\n",
    "from hsmm_core.consts import InitialisationMethod\n",
    "import datetime as dt\n",
    "from sklearn.preprocessing import StandardScaler\n",
    "from sklearn.model_selection import GridSearchCV, KFold\n",
    "from sklearn.model_selection import train_test_split\n",
    "from sklearn.svm import SVC\n",
    "from sklearn.ensemble import RandomForestClassifier,  GradientBoostingClassifier\n",
    "from sklearn.linear_model import RidgeClassifierCV\n",
    "from sklearn.gaussian_process import GaussianProcessClassifier\n",
    "from sklearn.gaussian_process.kernels import RBF\n",
    "sc = StandardScaler()\n"
   ]
  },
  {
   "cell_type": "code",
   "execution_count": 2,
   "metadata": {},
   "outputs": [],
   "source": [
    "# ticker = 'SYNT_2states' #testing a new synthetic ticker\n",
    "\n",
    "data_dir = os.getenv('FINANCE_DATA') #main directory\n",
    "features_path = os.path.join(os.path.expanduser(\"~\"), 'Data/features_models/features/') #where features are saved\n",
    "labels_path = os.path.join(os.path.expanduser(\"~\"), 'Data/features_models/labels') #where labels are saved\n",
    "ticker_labels_path = os.path.join(labels_path, ticker + '/NON_DIRECTIONAL')\n",
    "\n",
    "if not os.path.exists(os.path.join(data_dir, ticker)):\n",
    "    os.makedirs(os.path.join(data_dir, ticker))\n",
    "\n",
    "if not os.path.exists(ticker_labels_path):\n",
    "    os.makedirs(ticker_labels_path)\n",
    "\n",
    "labels_list = os.listdir(ticker_labels_path)\n",
    "\n",
    "# ####paths####\n",
    "main_path = os.path.join(os.path.expanduser(\"~\"), 'Data/features_models/')\n",
    "\n",
    "models_path = os.path.join(main_path, 'models')\n",
    "ticker_models_path = os.path.join(models_path, ticker)\n",
    "\n",
    "hmm_models_path = os.path.join(models_path,'hmm_models') #only if we store the hmm models\n",
    "if not os.path.exists(ticker_models_path):\n",
    "    os.makedirs(ticker_models_path)\n"
   ]
  },
  {
   "cell_type": "code",
   "execution_count": 3,
   "metadata": {},
   "outputs": [
    {
     "data": {
      "text/plain": [
       "'synt_model_20160623_label_PrMov__window_25__thres_arbitrary__10.0_clfs_.pickle'"
      ]
     },
     "execution_count": 3,
     "metadata": {},
     "output_type": "execute_result"
    }
   ],
   "source": [
    "os.listdir(ticker_models_path)[1]"
   ]
  },
  {
   "cell_type": "code",
   "execution_count": 13,
   "metadata": {},
   "outputs": [],
   "source": [
    "data_cls = DataLoader(path_=data_dir, ticker=ticker)"
   ]
  },
  {
   "cell_type": "code",
   "execution_count": 14,
   "metadata": {},
   "outputs": [],
   "source": [
    "##get dates as a list \n",
    "data_files=os.listdir(os.path.join(data_dir, ticker))\n",
    "\n",
    "synt_dates=[os.path.splitext(x)[0] for x in data_files]"
   ]
  },
  {
   "cell_type": "code",
   "execution_count": 15,
   "metadata": {},
   "outputs": [
    {
     "data": {
      "text/plain": [
       "('20160601', '20160719')"
      ]
     },
     "execution_count": 15,
     "metadata": {},
     "output_type": "execute_result"
    }
   ],
   "source": [
    "synt_dates.sort()\n",
    "start_date=synt_dates[0]\n",
    "end_date =synt_dates[-1]\n",
    "start_date, end_date"
   ]
  },
  {
   "cell_type": "code",
   "execution_count": 12,
   "metadata": {},
   "outputs": [],
   "source": [
    "data_loader_init = {\n",
    "        'trading_hours_filter': TradingHours.only_mkt_hours\n",
    "    }\n",
    "\n",
    "no_states=2\n",
    "\n",
    "hmm_init = {\n",
    "    'obs_model_name': 'CensoredExpIndMixDiracGauss',\n",
    "    'em_obs_init_method': InitialisationMethod.cluster,\n",
    "    'em_hidden_init_method': InitialisationMethod.uniform,\n",
    "    'no_hidden_states': no_states,\n",
    "    'update_tag': 'tpsml'\n",
    "}\n",
    "\n",
    "data_loader = DataLoader(**data_loader_init)\n",
    "# keep the hash of the data loader to uniquely identify how the data was loaded ( perhaps a dollar clock was\n",
    "# used), as this affects the calibration of the hmm\n",
    "data_loader_hash = data_loader.data_loader_hash()\n",
    "\n",
    "data = data_loader.load_trades_data(ticker, start_date=start_date, end_date=end_date)\n",
    "##calibrate the hmm models\n",
    "hmm_calibration_engine = HmmCalibration(init_params=hmm_init)\n",
    "hmm_calibration_engine.run_calibration_all_data(ticker, data, data_loader_hash,\n",
    "                                                force_recalc=False, use_multiprocessing=False,\n",
    "                                                n_processes=2)\n",
    "\n",
    "# Create the hmm feature engine and for every change the hmm model in the features engine\n",
    "features_engine = hmm_features()"
   ]
  },
  {
   "cell_type": "markdown",
   "metadata": {},
   "source": [
    "## create labels and store the labels with the data ###"
   ]
  },
  {
   "cell_type": "code",
   "execution_count": 13,
   "metadata": {},
   "outputs": [
    {
     "name": "stdout",
     "output_type": "stream",
     "text": [
      "{'rolling_window': 25, 'labelling_method': 'PrMov', 'updown_threshold': 0.1, 'threshold_method': 'arbitrary'}\n"
     ]
    }
   ],
   "source": [
    "window = 25\n",
    "threshold = 0.1\n",
    "\n",
    "labelling_method_params = [{\n",
    "\n",
    "    'labelling_method': LabellingChoice.price_move_in_window,\n",
    "    'rolling_window': window,\n",
    "    # Uncomment below if you want to check a price move only above a certain level\n",
    "    'updown_threshold': threshold,  # this is multiplied by 100\n",
    "    'threshold_method': ThresholdMethod.arbitrary,\n",
    "}]\n",
    "\n",
    "for label_init in labelling_method_params:\n",
    "    print label_init\n",
    "    labeller = DataLabellingSimple(label_init)\n",
    "    labeller.label_training_data(data)\n",
    "\n",
    "# SAVE THE DATA WITH LABELS \n",
    "for date, date_data in data.iteritems():\n",
    "    date_data.to_csv(os.path.join(ticker_labels_path, str(date)+'.csv'))"
   ]
  },
  {
   "cell_type": "code",
   "execution_count": 1,
   "metadata": {},
   "outputs": [
    {
     "ename": "NameError",
     "evalue": "name 'data' is not defined",
     "output_type": "error",
     "traceback": [
      "\u001b[0;31m----------------------------------\u001b[0m",
      "\u001b[0;31mNameError\u001b[0mTraceback (most recent call last)",
      "\u001b[0;32m<ipython-input-1-7d1ad1f40852>\u001b[0m in \u001b[0;36m<module>\u001b[0;34m()\u001b[0m\n\u001b[0;32m----> 1\u001b[0;31m \u001b[0mdd_keys\u001b[0m\u001b[0;34m=\u001b[0m\u001b[0mdata\u001b[0m\u001b[0;34m.\u001b[0m\u001b[0mkeys\u001b[0m\u001b[0;34m(\u001b[0m\u001b[0;34m)\u001b[0m\u001b[0;34m\u001b[0m\u001b[0m\n\u001b[0m",
      "\u001b[0;31mNameError\u001b[0m: name 'data' is not defined"
     ]
    }
   ],
   "source": [
    "dd_keys=data.keys()\n"
   ]
  },
  {
   "cell_type": "raw",
   "metadata": {},
   "source": [
    "# oos_data = fwd_dates(_dates_list=dates, _key_date=dates[-2])]\n",
    "\n",
    "#data_for_features = dates_for_features[i],\n",
    "for index, date in enumerate(synt_data_dates):\n",
    "    seq = (synt_data_dates[index], \"csv\"); # This is sequence of strings.\n",
    "#     print str(\".\".join( seq ))\n",
    "    input_date_data = pd.read_csv(os.path.join(ticker_dir, str(\".\".join(seq))))\n",
    "#     features_oos=features_engine.generate_features(input_date_data)"
   ]
  },
  {
   "cell_type": "markdown",
   "metadata": {},
   "source": [
    "## create features for out of sample predictions ##"
   ]
  },
  {
   "cell_type": "code",
   "execution_count": null,
   "metadata": {},
   "outputs": [],
   "source": []
  }
 ],
 "metadata": {
  "kernelspec": {
   "display_name": "Python 2",
   "language": "python",
   "name": "python2"
  },
  "language_info": {
   "codemirror_mode": {
    "name": "ipython",
    "version": 2
   },
   "file_extension": ".py",
   "mimetype": "text/x-python",
   "name": "python",
   "nbconvert_exporter": "python",
   "pygments_lexer": "ipython2",
   "version": "2.7.15rc1"
  }
 },
 "nbformat": 4,
 "nbformat_minor": 2
}
