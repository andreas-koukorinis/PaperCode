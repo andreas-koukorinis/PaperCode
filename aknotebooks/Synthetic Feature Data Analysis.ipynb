{
 "cells": [
  {
   "cell_type": "code",
   "execution_count": 1,
   "metadata": {},
   "outputs": [],
   "source": [
    "import sys\n",
    "import json\n",
    "import pandas as pd \n",
    "import numpy as np \n",
    "from scipy import stats\n",
    "from sklearn import cluster, linear_model\n",
    "import matplotlib.pyplot as plt\n",
    "np.set_printoptions(precision=3, suppress=True)\n",
    "import os\n",
    "\n",
    "from scipy import signal\n",
    "import pickle\n",
    "from sklearn.decomposition import FastICA, PCA\n",
    "import itertools as iter\n",
    "from sklearn import preprocessing as prep\n",
    "import seaborn as sns\n",
    "import statsmodels as sts\n",
    "import time\n",
    "import matplotlib.pyplot as plt\n",
    "%matplotlib inline\n",
    "#sys.path.append('/home/ak/Documents/Research/hsmm/') \n",
    "#sys.path.append('/home/ak/Documents/Research/hsmm/hsmm/') \n",
    "#sys.path.append('/home/kman/Research/hsmm/')\n",
    "doc_path= ('/home/ak/Documents/Data/')\n",
    "graph_path=('/home/ak/Documents/Research/Thesis/')\n",
    "data_path_gp = doc_path + 'GPDATA/'\n",
    "import seaborn as sns\n",
    "plt.style.use('fivethirtyeight')\n"
   ]
  },
  {
   "cell_type": "code",
   "execution_count": 2,
   "metadata": {},
   "outputs": [
    {
     "data": {
      "text/plain": [
       "['ksi_metrics.npy', 'fischer_polar.npy', 'im_metrics.npy']"
      ]
     },
     "execution_count": 2,
     "metadata": {},
     "output_type": "execute_result"
    }
   ],
   "source": [
    "#search only for npy files\n",
    "npy_files=[s for s in os.listdir(data_path_gp) if s.endswith('.npy')]\n",
    "npy_files\n",
    "#os.listdir(data_path_gp)"
   ]
  },
  {
   "cell_type": "code",
   "execution_count": 3,
   "metadata": {},
   "outputs": [],
   "source": [
    "#load bot matrix and vector valued\n",
    "\n",
    "fischer_polar =np.load(data_path_gp+'fischer_polar.npy')\n",
    "ksi_metrics =np.load(data_path_gp+'ksi_metrics.npy').item()\n",
    "im_metrics= np.load(data_path_gp+'im_metrics.npy').item()"
   ]
  },
  {
   "cell_type": "code",
   "execution_count": 4,
   "metadata": {},
   "outputs": [],
   "source": [
    "ksi_keys=ksi_metrics.keys()#['spectral', 'determ', 'trace']\n",
    "im_keys=im_metrics.keys()#same as above\n"
   ]
  },
  {
   "cell_type": "code",
   "execution_count": 8,
   "metadata": {},
   "outputs": [
    {
     "data": {
      "text/plain": [
       "array([[[   8.017,    2.   ,    3.295],\n",
       "        [  14.691,    1.775,    3.297],\n",
       "        [  20.115,    1.962,    3.322],\n",
       "        ...,\n",
       "        [1172.185,    1.584,    3.216],\n",
       "        [1171.94 ,    1.584,    3.217],\n",
       "        [1171.224,    1.584,    3.209]],\n",
       "\n",
       "       [[   4.629,    1.523,    3.384],\n",
       "        [   8.774,    1.58 ,    3.398],\n",
       "        [   5.009,    1.389,    5.54 ],\n",
       "        ...,\n",
       "        [ 920.261,    1.784,    3.214],\n",
       "        [ 920.149,    1.784,    3.215],\n",
       "        [ 920.624,    1.784,    3.217]],\n",
       "\n",
       "       [[   8.064,    1.343,    3.283],\n",
       "        [   3.631,    1.65 ,    5.622],\n",
       "        [  74.722,    1.607,    6.239],\n",
       "        ...,\n",
       "        [ 832.604,    1.879,    3.098],\n",
       "        [ 832.615,    1.879,    3.099],\n",
       "        [ 830.895,    1.88 ,    3.101]],\n",
       "\n",
       "       ...,\n",
       "\n",
       "       [[   9.735,    1.421,    3.257],\n",
       "        [   4.132,    0.978,    3.847],\n",
       "        [   4.913,    0.764,    4.514],\n",
       "        ...,\n",
       "        [1565.849,    1.721,    3.191],\n",
       "        [1566.11 ,    1.721,    3.192],\n",
       "        [1566.374,    1.721,    3.192]],\n",
       "\n",
       "       [[   6.324,    1.514,    3.319],\n",
       "        [  13.425,    1.439,    3.309],\n",
       "        [  18.688,    1.399,    3.324],\n",
       "        ...,\n",
       "        [ 689.386,    1.731,    2.926],\n",
       "        [ 689.385,    1.731,    2.927],\n",
       "        [ 687.929,    1.731,    2.929]],\n",
       "\n",
       "       [[  10.006,    1.622,    1.571],\n",
       "        [   9.009,    1.508,    1.414],\n",
       "        [  18.951,    1.518,    1.497],\n",
       "        ...,\n",
       "        [ 334.722,    2.188,    2.478],\n",
       "        [ 334.435,    2.189,    2.482],\n",
       "        [ 327.122,    2.202,    2.463]]])"
      ]
     },
     "execution_count": 8,
     "metadata": {},
     "output_type": "execute_result"
    }
   ],
   "source": [
    "fischer_polar"
   ]
  },
  {
   "cell_type": "code",
   "execution_count": 6,
   "metadata": {
    "collapsed": true
   },
   "outputs": [],
   "source": [
    "x=fischer_polar.shape[0]\n",
    "y=fischer_polar.shape[1]\n",
    "z=fischer_polar.shape[2]"
   ]
  },
  {
   "cell_type": "code",
   "execution_count": 8,
   "metadata": {},
   "outputs": [
    {
     "data": {
      "text/plain": [
       "{'determ': 1, 'spectral': 0, 'trace': 2}"
      ]
     },
     "execution_count": 8,
     "metadata": {},
     "output_type": "execute_result"
    }
   ],
   "source": [
    "_keys=ksi_keys #names are the same for all files\n",
    "#deal with ksi-first\n",
    "ksi_spectral=pd.DataFrame(ksi_metrics[_keys[0]]) #spectral gap\n",
    "ksi_determ =pd.DataFrame(ksi_metrics[_keys[1]]) #determinant\n",
    "ksi_trace=pd.DataFrame(ksi_metrics[_keys[2]]) #trace\n",
    "\n",
    "keys2idx={_key:i for i,_key in enumerate(_keys)} #enumerate the keys\n",
    "\n",
    "keys2idx"
   ]
  },
  {
   "cell_type": "code",
   "execution_count": 17,
   "metadata": {},
   "outputs": [
    {
     "data": {
      "image/png": "[encoded data removed]",
      "text/plain": [
       "<matplotlib.figure.Figure at 0x7f0f06418c90>"
      ]
     },
     "metadata": {},
     "output_type": "display_data"
    }
   ],
   "source": [
    "ksi_determ[:1]\n",
    "plt.show()"
   ]
  },
  {
   "cell_type": "markdown",
   "metadata": {},
   "source": [
    "We create state sequences of fixed length 1500 and for every fixed length generate 10e4 copies of observation data from the above distribution. \n",
    "#Axis 0 is thus the first dimension (the \"rows\"), and axis 1 is the second dimension (the \"columns\").\n",
    " z=3, as we what rho, \\phi_0, \\phi_1"
   ]
  },
  {
   "cell_type": "code",
   "execution_count": 9,
   "metadata": {
    "collapsed": true
   },
   "outputs": [],
   "source": [
    "_copies=ksi_determ.shape[0]\n",
    "_seq_length =ksi_determ.shape[1]\n",
    "\n",
    "_key=0\n",
    "_keys[_key]\n",
    "\n",
    "#summing across copies (each column is a running sum)- these are running sums so they have \n",
    "_sequences_sum=ksi_metrics[_keys[_key]].cumsum(axis=0) #.sum(axis=0) which sums along the rows (producing column totals)- so this is running sums along the copies\n",
    "_copies_sum=ksi_metrics[_keys[_key]].cumsum(axis=1) #this is running sums along the sequences"
   ]
  },
  {
   "cell_type": "code",
   "execution_count": 10,
   "metadata": {},
   "outputs": [
    {
     "data": {
      "image/png": "[encoded data removed]",
      "text/plain": [
       "<matplotlib.figure.Figure at 0x7f0f3ffb7a50>"
      ]
     },
     "metadata": {},
     "output_type": "display_data"
    }
   ],
   "source": [
    "_average_=pd.DataFrame(ksi_metrics[_keys[_key]]).mean(axis=0) #averge across sequences\n",
    "_average_.hist()\n",
    "plt.show()"
   ]
  },
  {
   "cell_type": "code",
   "execution_count": null,
   "metadata": {
    "collapsed": true
   },
   "outputs": [],
   "source": [
    "#pd.DataFrame(ksi_metrics[_keys[_key]]).head(10).cumsum(axis=1).mean()94"
   ]
  },
  {
   "cell_type": "code",
   "execution_count": null,
   "metadata": {},
   "outputs": [],
   "source": [
    "_sequences_sum.shape\n",
    "_test=pd.DataFrame(_sequences_sum).head(1000)\n",
    "for idx,row in _test.iterrows():\n",
    "    idx=_test.index.to_series(axis=1)+1\n",
    "    plt.plot(row.div(idx),linewidth =2,alpha = 0.4,ls='--',color='lightblue')\n",
    "    normalised_test= row.div(idx)\n",
    "\n",
    "plt.ylabel('Avg '+str(_keys[_key]),fontsize=12)\n",
    "plt.xlabel('t:Sequence Length',fontsize=12)\n",
    "plt.title(\"Convergence of Ksi \" +str(_keys[_key])+ \" with Increase in t\",fontsize=14)\n",
    "plt.savefig(graph_path+'ksi_spectral_1.png', format='png', dpi=1200)"
   ]
  },
  {
   "cell_type": "code",
   "execution_count": null,
   "metadata": {},
   "outputs": [],
   "source": [
    "_copies_sum.shape\n",
    "_test=pd.DataFrame(_copies_sum).head(2500)\n",
    "for idx,row in _test.iterrows():\n",
    "    idx=_test.index.to_series(axis=1)+1\n",
    "    plt.plot(row.div(idx),linewidth =2,alpha = 0.4,ls='--',color='lightblue')\n",
    "    normalised_test= row.div(idx)\n",
    "    # Plot the response with standard error\n",
    "    sns.tsplot(data=normalised_test, time=idx)\n",
    "\n",
    "# plt.ylabel('Avg '+str(_keys[_key]),fontsize=12)\n",
    "# plt.xlabel('t:Sequence Length',fontsize=12)\n",
    "# plt.title(\"Convergence of Ksi \" +str(_keys[_key])+ \" with Increase in t\",fontsize=14)"
   ]
  },
  {
   "cell_type": "code",
   "execution_count": null,
   "metadata": {},
   "outputs": [],
   "source": [
    "# Load the long-form example gammas dataset\n",
    "gammas = sns.load_dataset(\"gammas\")\n",
    "\n",
    "# Plot the response with standard error\n",
    "sns.tsplot(data=gammas, time=\"timepoint\", unit=\"subject\",\n",
    "           condition=\"ROI\", value=\"BOLD signal\")"
   ]
  },
  {
   "cell_type": "code",
   "execution_count": null,
   "metadata": {},
   "outputs": [],
   "source": [
    "gammas"
   ]
  },
  {
   "cell_type": "code",
   "execution_count": null,
   "metadata": {},
   "outputs": [],
   "source": [
    "from mpl_toolkits.mplot3d import axes3d, Axes3D\n",
    "fig = plt.figure()\n",
    "\n",
    "ax = Axes3D(fig) \n",
    "#Create grid and multivariate normal\n",
    "x = np.linspace(-10,10,500)\n",
    "y = np.linspace(-10,10,500)\n",
    "X, Y = np.meshgrid(x,y)"
   ]
  },
  {
   "cell_type": "code",
   "execution_count": null,
   "metadata": {},
   "outputs": [],
   "source": [
    "x1=_sequences_sum[500]\n",
    "x2=_sequences_sum[1100]\n",
    "x3=_sequences_sum[700]\n",
    "y=np.linspace(0,0.2,x3.size)\n",
    "plt.figure()\n",
    "\n",
    "from mpl_toolkits.mplot3d import axes3d, Axes3D\n",
    "fig = plt.figure()\n",
    "\n",
    "ax = Axes3D(fig) \n",
    "x=np.linspace(1,5,x3.size)\n",
    "z=np.sin(x/2)\n",
    "x.size\n",
    "ax.plot_surface(x1, y,z, color='r')\n",
    "#ax.plot_surface(x2, y,z, color='b')\n",
    "#ax.plot_surface(x3, y,z, color='g')\n",
    "# ax.set_ylabel('Sequence #')\n",
    "#ax.set_xlabel('Running average of Ksi Spectral Gap')\n",
    "#ax.add_collection3d(plt.fill_between(ksi_1100, 0.95*z, 1.05*z, color='r',alpha=0.3),zs=1,zdir='x')\n",
    "#ax.add_collection3d(plt.fill_between(ksi_500, 0.95*z, 1.05*z, color='b',alpha=0.3),zs=1,zdir='x')\n",
    "\n",
    "\n",
    "plt.show()"
   ]
  },
  {
   "cell_type": "code",
   "execution_count": null,
   "metadata": {},
   "outputs": [],
   "source": [
    "#Fischer Polar Coordinates\n",
    "_shape=fischer_polar.shape\n",
    "no_copies =_shape[0] #think about this as #of days\n",
    "no_seqns=_shape[1] #think about this as #time in the day\n",
    "no_elements= _shape[2] #\\rho, \\phi_0, \\phi_1\n",
    "print \"the number of copies (rows):\", no_copies, \"and the number of sequences (columns):\", no_seqns\n"
   ]
  },
  {
   "cell_type": "code",
   "execution_count": null,
   "metadata": {},
   "outputs": [],
   "source": [
    "plt.plot(_copies_sum[100])"
   ]
  },
  {
   "cell_type": "code",
   "execution_count": null,
   "metadata": {},
   "outputs": [],
   "source": [
    "\n",
    "\n",
    "# replace the hard coded data frame with all of them when you iterate indexed on keys\n",
    "#denominator=_copies_sum.index.values+1\n",
    "#norm_cs =[_copies_sum/j for j in range(len(_copies_sum)]\n",
    "# norm_spectral_cs =_copies_sum.divide(denominator, axis='rows')\n",
    "# norm_spectral_average = norm_spectral_cs.mean(axis=1) #calculate average\n",
    "# _std=norm_spectral_cs.std(axis=1) #calculate standard-deviation\n",
    "pd.DataFrame(_copies_sum).index"
   ]
  },
  {
   "cell_type": "code",
   "execution_count": null,
   "metadata": {},
   "outputs": [],
   "source": [
    "plt.style.use(['seaborn-whitegrid'])\n",
    "plt.plot(norm_spectral_cs[10:],linewidth =2,alpha = 0.4,ls='--',color='lightblue')\n",
    "plt.ylabel('Spectral Gap')\n",
    "plt.title('k')\n",
    "plt.text(30, .025, r'$\\mu=100,\\ \\sigma=15$')\n",
    "#plt.title('title', fontsize=10)\n",
    "#plt.ylabel('Y-Axis')\n",
    "plt.show()\n",
    "#plt.plot(norm_spectral_average[10:])\n",
    "#plt.show()"
   ]
  },
  {
   "cell_type": "code",
   "execution_count": null,
   "metadata": {},
   "outputs": [],
   "source": [
    "\n"
   ]
  },
  {
   "cell_type": "code",
   "execution_count": null,
   "metadata": {
    "collapsed": true
   },
   "outputs": [],
   "source": [
    "norm_copies=np.zeros_like(_copies_total)\n",
    "no_copies, seqns, polar_cos =norm_copies.shape"
   ]
  },
  {
   "cell_type": "markdown",
   "metadata": {},
   "source": [
    "%timeit\n",
    "def normalise_df(df):\n",
    "    df_norm=pd.DataFrame()\n",
    "    detominator=df.index.values+1\n",
    "    for col in list(df.columns):\n",
    "        df_norm[col] = df[col] / (denominator)\n",
    "    return df_norm"
   ]
  },
  {
   "cell_type": "code",
   "execution_count": null,
   "metadata": {
    "collapsed": true
   },
   "outputs": [],
   "source": [
    "_time_averaged=pd.DataFrame(fischer_time_average.mean(axis=1))\n",
    "_std= pd.DataFrame(fischer_time_average.std(axis=1))\n"
   ]
  },
  {
   "cell_type": "code",
   "execution_count": null,
   "metadata": {},
   "outputs": [],
   "source": [
    "_time_averaged.columns.values"
   ]
  },
  {
   "cell_type": "code",
   "execution_count": null,
   "metadata": {
    "collapsed": true
   },
   "outputs": [],
   "source": [
    "import numpy as np\n",
    "import matplotlib.pyplot as plt\n",
    "\n",
    "# example data\n",
    "x = np.asarray(_time_averaged.index)\n",
    "y = np.asarray(_time_averaged[1])\n",
    "z = np.asarray(_time_averaged[2])\n",
    "\n"
   ]
  },
  {
   "cell_type": "code",
   "execution_count": null,
   "metadata": {},
   "outputs": [],
   "source": [
    "plt.plot(np.log(y))"
   ]
  },
  {
   "cell_type": "code",
   "execution_count": null,
   "metadata": {},
   "outputs": [],
   "source": [
    "error = np.asarray(_std[1])\n",
    "\n",
    "plt.plot(x, y, 'k-',linewidth=0.7)\n",
    "plt.fill_between(x, y-error, y+error, alpha=0.6, edgecolor='#1B2ACD', facecolor='#089FFF',\n",
    "    linewidth=0.1, linestyle='dashdot', antialiased=False)\n",
    "plt.title('Average Sequence')\n",
    "plt.legend()\n",
    "plt.show()"
   ]
  },
  {
   "cell_type": "code",
   "execution_count": null,
   "metadata": {
    "collapsed": true
   },
   "outputs": [],
   "source": []
  }
 ],
 "metadata": {
  "kernelspec": {
   "display_name": "Python 2",
   "language": "python",
   "name": "python2"
  },
  "language_info": {
   "codemirror_mode": {
    "name": "ipython",
    "version": 2
   },
   "file_extension": ".py",
   "mimetype": "text/x-python",
   "name": "python",
   "nbconvert_exporter": "python",
   "pygments_lexer": "ipython2",
   "version": "2.7.12+"
  }
 },
 "nbformat": 4,
 "nbformat_minor": 2
}
