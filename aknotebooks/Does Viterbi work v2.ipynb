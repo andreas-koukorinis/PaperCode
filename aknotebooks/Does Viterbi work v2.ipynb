{
 "cells": [
  {
   "cell_type": "code",
   "execution_count": 2,
   "metadata": {},
   "outputs": [],
   "source": [
    "import sys \n",
    "from scipy.interpolate import interp1d\n",
    "from scipy.interpolate import splrep as splrep\n",
    "\n",
    "sys.path.append('/home/ak/Documents/Research/master/hsmm_core/')\n",
    "sys.path.append('/home/ak/Documents/Research/master/')\n",
    "import numpy as np\n",
    "import pandas as pd\n",
    "import os\n",
    "from pandas.tseries.offsets import BDay\n",
    "from hsmm_core.hmm import hmm_engine\n",
    "from hsmm_core.observation_models import ExpIndMixDiracGauss\n",
    "from hsmm_core.data_utils import load_data, TradingHours\n",
    "import datetime as dt\n"
   ]
  },
  {
   "cell_type": "code",
   "execution_count": 3,
   "metadata": {},
   "outputs": [],
   "source": [
    "no_states = 2\n",
    "sigmas = [0.05, 0.002] # fast and slow\n",
    "# Duration is measured in seconds for now (to be revised). lambda units are seconds^{-1}\n",
    "# so here we consider\n",
    "\n",
    "lambdas = [1./35., 1/20.]\n",
    "weights = [0.1, 0.2]\n",
    "\n",
    "obs_model = ExpIndMixDiracGauss(no_states)\n",
    "obs_model.set_up_initials(priors={'sigmas': sigmas, 'lambdas': lambdas, 'weights': weights})\n",
    "\n",
    "hmm_ = hmm_engine(obs_model, no_states)\n",
    "\n",
    "# set up some priors\n",
    "tpm = np.array([[0.45, 0.55], [0.8, 0.2]])\n",
    "pi = np.array([0.4, 0.6])\n",
    "hmm_.set_up_initials(priors={'tpm': tpm, 'pi': pi})"
   ]
  },
  {
   "cell_type": "code",
   "execution_count": 4,
   "metadata": {},
   "outputs": [],
   "source": [
    "def states_from_fixed_ratios(ratios, total_length):\n",
    "    states = np.array([], dtype=np.int64) \n",
    "    ratios_ids = np.arange(len(ratios))\n",
    "    rng = np.random.RandomState(345)\n",
    "    while len(states) < total_length: \n",
    "        \n",
    "        ratio = ratios[rng.choice(ratios_ids)] \n",
    "        #print ratio\n",
    "        states = np.append(states, np.append(np.repeat(0, 100*ratio[0]), np.repeat(1, 100*ratio[1]))) \n",
    "        #print len(states)\n",
    "    return states"
   ]
  },
  {
   "cell_type": "code",
   "execution_count": 7,
   "metadata": {},
   "outputs": [],
   "source": [
    "\n",
    "# Lets fix a ratio of 20:80 and sample some fixed states \n",
    "state_ratios = np.array([[0.2, 0.05], [0.4, 0.1], [0.8, 0.2]]) \n",
    "\n",
    "# Lets fix a ratio of 20:80 and sample some fixed states \n",
    "state_ratios = np.array([[0.2, 0.05], [0.4, 0.1], [0.8, 0.2]]) \n",
    "Ts = [20,50,100,200, 400,500, 700, 900,1000, 1200, 1500]\n",
    "M = 10000\n",
    "\n",
    "all_errors = np.zeros((len(Ts), M))\n"
   ]
  },
  {
   "cell_type": "code",
   "execution_count": 8,
   "metadata": {},
   "outputs": [
    {
     "data": {
      "text/plain": [
       "11"
      ]
     },
     "execution_count": 8,
     "metadata": {},
     "output_type": "execute_result"
    }
   ],
   "source": [
    "len(Ts)"
   ]
  },
  {
   "cell_type": "code",
   "execution_count": 9,
   "metadata": {},
   "outputs": [],
   "source": [
    "###create sequences###\n",
    "for i_T, T in enumerate(Ts):\n",
    "    rng = np.random.RandomState(12345)\n",
    "    states = states_from_fixed_ratios(state_ratios, T)\n",
    "    \n",
    "    for m in xrange(M):\n",
    "        random_states = hmm_.sample_states(rng=rng, length=M)\n",
    "        observation_points = obs_model.sample_data(M, rng=rng, state=states)\n",
    "        viterbi_inferred = hmm_.map_metrics(observation_points)['viterbi_optimal_state_seq'] \n",
    "        all_errors[i_T, m] = np.sum((viterbi_inferred - states)**2)/float(T) \n",
    "        # The first duration is always zero\n",
    "        observation_points[0, 0] = 0."
   ]
  },
  {
   "cell_type": "code",
   "execution_count": 25,
   "metadata": {},
   "outputs": [
    {
     "ename": "ValueError",
     "evalue": "Unable to coerce to DataFrame, shape must be (6, 10000): given (6, 1)",
     "output_type": "error",
     "traceback": [
      "\u001b[0;31m---------------------------------------------------------------------------\u001b[0m",
      "\u001b[0;31mValueError\u001b[0m                                Traceback (most recent call last)",
      "\u001b[0;32m<ipython-input-25-b72a31a0f05c>\u001b[0m in \u001b[0;36m<module>\u001b[0;34m()\u001b[0m\n\u001b[1;32m      1\u001b[0m \u001b[0;34m\u001b[0m\u001b[0m\n\u001b[1;32m      2\u001b[0m \u001b[0merror_means_wrt_m\u001b[0m \u001b[0;34m=\u001b[0m \u001b[0mall_errors_df\u001b[0m\u001b[0;34m.\u001b[0m\u001b[0mmean\u001b[0m\u001b[0;34m(\u001b[0m\u001b[0maxis\u001b[0m\u001b[0;34m=\u001b[0m\u001b[0;36m1\u001b[0m\u001b[0;34m)\u001b[0m\u001b[0;34m\u001b[0m\u001b[0m\n\u001b[0;32m----> 3\u001b[0;31m \u001b[0mfinal_errors\u001b[0m \u001b[0;34m=\u001b[0m \u001b[0mnp\u001b[0m\u001b[0;34m.\u001b[0m\u001b[0mmean\u001b[0m\u001b[0;34m(\u001b[0m\u001b[0;34m(\u001b[0m\u001b[0mdf_all_errors\u001b[0m \u001b[0;34m-\u001b[0m \u001b[0merror_means_wrt_m\u001b[0m\u001b[0;34m[\u001b[0m\u001b[0;34m:\u001b[0m\u001b[0;34m,\u001b[0m \u001b[0mnp\u001b[0m\u001b[0;34m.\u001b[0m\u001b[0mnewaxis\u001b[0m\u001b[0;34m]\u001b[0m\u001b[0;34m)\u001b[0m\u001b[0;34m**\u001b[0m\u001b[0;36m2\u001b[0m\u001b[0;34m,\u001b[0m \u001b[0maxis\u001b[0m\u001b[0;34m=\u001b[0m\u001b[0;36m1\u001b[0m\u001b[0;34m)\u001b[0m\u001b[0;34m\u001b[0m\u001b[0m\n\u001b[0m",
      "\u001b[0;32m/home/ak/Envs/DataAnalysis/local/lib/python2.7/site-packages/pandas/core/ops.pyc\u001b[0m in \u001b[0;36mf\u001b[0;34m(self, other, axis, level, fill_value)\u001b[0m\n\u001b[1;32m   1545\u001b[0m     \u001b[0;32mdef\u001b[0m \u001b[0mf\u001b[0m\u001b[0;34m(\u001b[0m\u001b[0mself\u001b[0m\u001b[0;34m,\u001b[0m \u001b[0mother\u001b[0m\u001b[0;34m,\u001b[0m \u001b[0maxis\u001b[0m\u001b[0;34m=\u001b[0m\u001b[0mdefault_axis\u001b[0m\u001b[0;34m,\u001b[0m \u001b[0mlevel\u001b[0m\u001b[0;34m=\u001b[0m\u001b[0mNone\u001b[0m\u001b[0;34m,\u001b[0m \u001b[0mfill_value\u001b[0m\u001b[0;34m=\u001b[0m\u001b[0mNone\u001b[0m\u001b[0;34m)\u001b[0m\u001b[0;34m:\u001b[0m\u001b[0;34m\u001b[0m\u001b[0m\n\u001b[1;32m   1546\u001b[0m \u001b[0;34m\u001b[0m\u001b[0m\n\u001b[0;32m-> 1547\u001b[0;31m         \u001b[0mother\u001b[0m \u001b[0;34m=\u001b[0m \u001b[0m_align_method_FRAME\u001b[0m\u001b[0;34m(\u001b[0m\u001b[0mself\u001b[0m\u001b[0;34m,\u001b[0m \u001b[0mother\u001b[0m\u001b[0;34m,\u001b[0m \u001b[0maxis\u001b[0m\u001b[0;34m)\u001b[0m\u001b[0;34m\u001b[0m\u001b[0m\n\u001b[0m\u001b[1;32m   1548\u001b[0m \u001b[0;34m\u001b[0m\u001b[0m\n\u001b[1;32m   1549\u001b[0m         \u001b[0;32mif\u001b[0m \u001b[0misinstance\u001b[0m\u001b[0;34m(\u001b[0m\u001b[0mother\u001b[0m\u001b[0;34m,\u001b[0m \u001b[0mABCDataFrame\u001b[0m\u001b[0;34m)\u001b[0m\u001b[0;34m:\u001b[0m  \u001b[0;31m# Another DataFrame\u001b[0m\u001b[0;34m\u001b[0m\u001b[0m\n",
      "\u001b[0;32m/home/ak/Envs/DataAnalysis/local/lib/python2.7/site-packages/pandas/core/ops.pyc\u001b[0m in \u001b[0;36m_align_method_FRAME\u001b[0;34m(left, right, axis)\u001b[0m\n\u001b[1;32m   1468\u001b[0m                                  \u001b[0;34m\"must be {req_shape}: given {given_shape}\"\u001b[0m\u001b[0;34m\u001b[0m\u001b[0m\n\u001b[1;32m   1469\u001b[0m                                  .format(req_shape=left.shape,\n\u001b[0;32m-> 1470\u001b[0;31m                                          given_shape=right.shape))\n\u001b[0m\u001b[1;32m   1471\u001b[0m \u001b[0;34m\u001b[0m\u001b[0m\n\u001b[1;32m   1472\u001b[0m             right = left._constructor(right, index=left.index,\n",
      "\u001b[0;31mValueError\u001b[0m: Unable to coerce to DataFrame, shape must be (6, 10000): given (6, 1)"
     ]
    }
   ],
   "source": [
    "\n",
    "error_means_wrt_m = all_errors_df.mean(axis=1) \n",
    "final_errors = np.mean((df_all_errors - error_means_wrt_m[:, np.newaxis])**2, axis=1)"
   ]
  },
  {
   "cell_type": "code",
   "execution_count": 8,
   "metadata": {},
   "outputs": [],
   "source": [
    "all_errors_df =pd.DataFrame(all_errors)"
   ]
  },
  {
   "cell_type": "code",
   "execution_count": 9,
   "metadata": {},
   "outputs": [],
   "source": [
    "df_observation_points=pd.DataFrame(observation_points)\n",
    "df_all_errors = pd.DataFrame(all_errors)\n",
    "df_Ts= pd.DataFrame(Ts)"
   ]
  },
  {
   "cell_type": "code",
   "execution_count": 31,
   "metadata": {},
   "outputs": [
    {
     "data": {
      "text/html": [
       "<div>\n",
       "<style scoped>\n",
       "    .dataframe tbody tr th:only-of-type {\n",
       "        vertical-align: middle;\n",
       "    }\n",
       "\n",
       "    .dataframe tbody tr th {\n",
       "        vertical-align: top;\n",
       "    }\n",
       "\n",
       "    .dataframe thead th {\n",
       "        text-align: right;\n",
       "    }\n",
       "</style>\n",
       "<table border=\"1\" class=\"dataframe\">\n",
       "  <thead>\n",
       "    <tr style=\"text-align: right;\">\n",
       "      <th></th>\n",
       "      <th>0</th>\n",
       "      <th>1</th>\n",
       "      <th>2</th>\n",
       "      <th>3</th>\n",
       "      <th>4</th>\n",
       "      <th>5</th>\n",
       "      <th>6</th>\n",
       "      <th>7</th>\n",
       "      <th>8</th>\n",
       "      <th>9</th>\n",
       "      <th>...</th>\n",
       "      <th>9990</th>\n",
       "      <th>9991</th>\n",
       "      <th>9992</th>\n",
       "      <th>9993</th>\n",
       "      <th>9994</th>\n",
       "      <th>9995</th>\n",
       "      <th>9996</th>\n",
       "      <th>9997</th>\n",
       "      <th>9998</th>\n",
       "      <th>9999</th>\n",
       "    </tr>\n",
       "  </thead>\n",
       "  <tbody>\n",
       "    <tr>\n",
       "      <th>0</th>\n",
       "      <td>0.200000</td>\n",
       "      <td>0.170000</td>\n",
       "      <td>0.230000</td>\n",
       "      <td>0.200000</td>\n",
       "      <td>0.200000</td>\n",
       "      <td>0.210000</td>\n",
       "      <td>0.190000</td>\n",
       "      <td>0.200000</td>\n",
       "      <td>0.220000</td>\n",
       "      <td>0.220000</td>\n",
       "      <td>...</td>\n",
       "      <td>0.190000</td>\n",
       "      <td>0.230000</td>\n",
       "      <td>0.180000</td>\n",
       "      <td>0.230000</td>\n",
       "      <td>0.160000</td>\n",
       "      <td>0.210000</td>\n",
       "      <td>0.160000</td>\n",
       "      <td>0.210000</td>\n",
       "      <td>0.150000</td>\n",
       "      <td>0.210000</td>\n",
       "    </tr>\n",
       "    <tr>\n",
       "      <th>1</th>\n",
       "      <td>0.205000</td>\n",
       "      <td>0.217500</td>\n",
       "      <td>0.250000</td>\n",
       "      <td>0.225000</td>\n",
       "      <td>0.230000</td>\n",
       "      <td>0.245000</td>\n",
       "      <td>0.227500</td>\n",
       "      <td>0.207500</td>\n",
       "      <td>0.227500</td>\n",
       "      <td>0.235000</td>\n",
       "      <td>...</td>\n",
       "      <td>0.250000</td>\n",
       "      <td>0.232500</td>\n",
       "      <td>0.215000</td>\n",
       "      <td>0.222500</td>\n",
       "      <td>0.227500</td>\n",
       "      <td>0.230000</td>\n",
       "      <td>0.242500</td>\n",
       "      <td>0.245000</td>\n",
       "      <td>0.250000</td>\n",
       "      <td>0.230000</td>\n",
       "    </tr>\n",
       "    <tr>\n",
       "      <th>2</th>\n",
       "      <td>0.187143</td>\n",
       "      <td>0.228571</td>\n",
       "      <td>0.191429</td>\n",
       "      <td>0.200000</td>\n",
       "      <td>0.195714</td>\n",
       "      <td>0.211429</td>\n",
       "      <td>0.201429</td>\n",
       "      <td>0.182857</td>\n",
       "      <td>0.197143</td>\n",
       "      <td>0.201429</td>\n",
       "      <td>...</td>\n",
       "      <td>0.201429</td>\n",
       "      <td>0.201429</td>\n",
       "      <td>0.208571</td>\n",
       "      <td>0.201429</td>\n",
       "      <td>0.200000</td>\n",
       "      <td>0.200000</td>\n",
       "      <td>0.198571</td>\n",
       "      <td>0.225714</td>\n",
       "      <td>0.187143</td>\n",
       "      <td>0.191429</td>\n",
       "    </tr>\n",
       "    <tr>\n",
       "      <th>3</th>\n",
       "      <td>0.182222</td>\n",
       "      <td>0.202222</td>\n",
       "      <td>0.190000</td>\n",
       "      <td>0.185556</td>\n",
       "      <td>0.201111</td>\n",
       "      <td>0.186667</td>\n",
       "      <td>0.182222</td>\n",
       "      <td>0.191111</td>\n",
       "      <td>0.195556</td>\n",
       "      <td>0.191111</td>\n",
       "      <td>...</td>\n",
       "      <td>0.203333</td>\n",
       "      <td>0.186667</td>\n",
       "      <td>0.191111</td>\n",
       "      <td>0.191111</td>\n",
       "      <td>0.192222</td>\n",
       "      <td>0.197778</td>\n",
       "      <td>0.196667</td>\n",
       "      <td>0.200000</td>\n",
       "      <td>0.197778</td>\n",
       "      <td>0.203333</td>\n",
       "    </tr>\n",
       "    <tr>\n",
       "      <th>4</th>\n",
       "      <td>0.189167</td>\n",
       "      <td>0.204167</td>\n",
       "      <td>0.202500</td>\n",
       "      <td>0.185000</td>\n",
       "      <td>0.198333</td>\n",
       "      <td>0.208333</td>\n",
       "      <td>0.196667</td>\n",
       "      <td>0.203333</td>\n",
       "      <td>0.202500</td>\n",
       "      <td>0.205833</td>\n",
       "      <td>...</td>\n",
       "      <td>0.197500</td>\n",
       "      <td>0.194167</td>\n",
       "      <td>0.199167</td>\n",
       "      <td>0.193333</td>\n",
       "      <td>0.198333</td>\n",
       "      <td>0.192500</td>\n",
       "      <td>0.186667</td>\n",
       "      <td>0.202500</td>\n",
       "      <td>0.207500</td>\n",
       "      <td>0.200833</td>\n",
       "    </tr>\n",
       "    <tr>\n",
       "      <th>5</th>\n",
       "      <td>0.180667</td>\n",
       "      <td>0.193333</td>\n",
       "      <td>0.207333</td>\n",
       "      <td>0.192000</td>\n",
       "      <td>0.197333</td>\n",
       "      <td>0.187333</td>\n",
       "      <td>0.205333</td>\n",
       "      <td>0.196667</td>\n",
       "      <td>0.178000</td>\n",
       "      <td>0.196000</td>\n",
       "      <td>...</td>\n",
       "      <td>0.190667</td>\n",
       "      <td>0.194000</td>\n",
       "      <td>0.192667</td>\n",
       "      <td>0.188667</td>\n",
       "      <td>0.182667</td>\n",
       "      <td>0.192000</td>\n",
       "      <td>0.186667</td>\n",
       "      <td>0.182667</td>\n",
       "      <td>0.186000</td>\n",
       "      <td>0.188667</td>\n",
       "    </tr>\n",
       "  </tbody>\n",
       "</table>\n",
       "<p>6 rows × 10000 columns</p>\n",
       "</div>"
      ],
      "text/plain": [
       "       0         1         2         3         4         5         6     \\\n",
       "0  0.200000  0.170000  0.230000  0.200000  0.200000  0.210000  0.190000   \n",
       "1  0.205000  0.217500  0.250000  0.225000  0.230000  0.245000  0.227500   \n",
       "2  0.187143  0.228571  0.191429  0.200000  0.195714  0.211429  0.201429   \n",
       "3  0.182222  0.202222  0.190000  0.185556  0.201111  0.186667  0.182222   \n",
       "4  0.189167  0.204167  0.202500  0.185000  0.198333  0.208333  0.196667   \n",
       "5  0.180667  0.193333  0.207333  0.192000  0.197333  0.187333  0.205333   \n",
       "\n",
       "       7         8         9       ...         9990      9991      9992  \\\n",
       "0  0.200000  0.220000  0.220000    ...     0.190000  0.230000  0.180000   \n",
       "1  0.207500  0.227500  0.235000    ...     0.250000  0.232500  0.215000   \n",
       "2  0.182857  0.197143  0.201429    ...     0.201429  0.201429  0.208571   \n",
       "3  0.191111  0.195556  0.191111    ...     0.203333  0.186667  0.191111   \n",
       "4  0.203333  0.202500  0.205833    ...     0.197500  0.194167  0.199167   \n",
       "5  0.196667  0.178000  0.196000    ...     0.190667  0.194000  0.192667   \n",
       "\n",
       "       9993      9994      9995      9996      9997      9998      9999  \n",
       "0  0.230000  0.160000  0.210000  0.160000  0.210000  0.150000  0.210000  \n",
       "1  0.222500  0.227500  0.230000  0.242500  0.245000  0.250000  0.230000  \n",
       "2  0.201429  0.200000  0.200000  0.198571  0.225714  0.187143  0.191429  \n",
       "3  0.191111  0.192222  0.197778  0.196667  0.200000  0.197778  0.203333  \n",
       "4  0.193333  0.198333  0.192500  0.186667  0.202500  0.207500  0.200833  \n",
       "5  0.188667  0.182667  0.192000  0.186667  0.182667  0.186000  0.188667  \n",
       "\n",
       "[6 rows x 10000 columns]"
      ]
     },
     "execution_count": 31,
     "metadata": {},
     "output_type": "execute_result"
    }
   ],
   "source": [
    "df_all_errors"
   ]
  },
  {
   "cell_type": "code",
   "execution_count": 35,
   "metadata": {},
   "outputs": [],
   "source": [
    "all_errors =all_errors_df.values"
   ]
  },
  {
   "cell_type": "code",
   "execution_count": 36,
   "metadata": {},
   "outputs": [
    {
     "data": {
      "text/plain": [
       "array([0.192617  , 0.229269  , 0.20014414, 0.19300311, 0.19724108,\n",
       "       0.19315133])"
      ]
     },
     "execution_count": 36,
     "metadata": {},
     "output_type": "execute_result"
    }
   ],
   "source": [
    "np.mean(all_errors, axis=1)"
   ]
  },
  {
   "cell_type": "code",
   "execution_count": 29,
   "metadata": {},
   "outputs": [],
   "source": [
    "main_path = '/home/ak/Documents/Data/features_models/'"
   ]
  },
  {
   "cell_type": "code",
   "execution_count": 16,
   "metadata": {},
   "outputs": [
    {
     "data": {
      "text/plain": [
       "['models',\n",
       " 'observation_points.csv',\n",
       " 'all_errors.csv',\n",
       " 'features',\n",
       " 'predictions',\n",
       " 'synthetic_study',\n",
       " 'Ts.csv',\n",
       " 'observation_points_2.csv',\n",
       " 'labels']"
      ]
     },
     "execution_count": 16,
     "metadata": {},
     "output_type": "execute_result"
    }
   ],
   "source": [
    "os.listdir(main_path)"
   ]
  },
  {
   "cell_type": "code",
   "execution_count": 15,
   "metadata": {},
   "outputs": [],
   "source": [
    "import pandas as pd\n",
    "# df_observation_points = pd.DataFrame(observation_points)\n",
    "obs_points= 'observation_points.csv'\n",
    "all_errors = 'all_errors.csv'\n",
    "Ts_file='Ts.csv'\n",
    "# all_errors_df =pd.read_csv(main_path+all_errors)\n",
    "# obs_points_df = pd.read_csv(main_path+obs_points)\n",
    "df_observation_points.to_csv(os.path.join(main_path, obs_points), index=False)\n",
    "df_all_errors.to_csv(os.path.join(main_path, all_errors), index=False)\n",
    "df_Ts.to_csv(os.path.join(main_path, Ts_file), index= False)"
   ]
  },
  {
   "cell_type": "code",
   "execution_count": null,
   "metadata": {},
   "outputs": [],
   "source": [
    "all_errors_df"
   ]
  },
  {
   "cell_type": "code",
   "execution_count": null,
   "metadata": {},
   "outputs": [],
   "source": [
    "import seaborn as sns\n",
    "import matplotlib.pyplot as plt\n",
    "total_error_fixedT = np.cumsum(all_errors_df.values, axis=1)\n",
    "total_error_fixedT /= np.arange(1, M+1)\n",
    "sns.set()\n",
    "# plt.plot(total_error_fixedT/np.arange(M))\n",
    "error_T100 = total_error_fixedT[5]\n",
    "error_T700 = total_error_fixedT[11] \n",
    "error_T1500 = total_error_fixedT[-1] \n",
    "with plt.style.context('ggplot'):\n",
    "    # Set an aspect ratio\n",
    "    width, height = plt.figaspect(0.68)\n",
    "    fig = plt.figure(figsize=(width,height), dpi=400)\n",
    "    fig.patch.set_facecolor('white')\n",
    "    #fig = plt.figure(figsize=(12,8))\n",
    "    plt.plot(error_T100, color='grey',linestyle='--', label='T100')\n",
    "    plt.plot(error_T700, color='blue',linestyle=':', label='T700')\n",
    "    plt.plot(error_T1500, color='green',linestyle='-', label='T1500')\n",
    "\n",
    "plt.legend(loc='upper right')\n",
    "plt.xlabel('Sequence Length')\n",
    "plt.ylabel('Error')\n",
    "plt.show()"
   ]
  },
  {
   "cell_type": "code",
   "execution_count": null,
   "metadata": {},
   "outputs": [],
   "source": [
    "import numpy as np\n",
    "error_means_wrt_m = np.mean(all_errors,axis=1) \n",
    "final_errors = np.mean((all_errors - error_means_wrt_m[:, np.newaxis])**2, axis=1)"
   ]
  },
  {
   "cell_type": "code",
   "execution_count": null,
   "metadata": {},
   "outputs": [],
   "source": [
    "plt.rcParams['font.family'] = 'serif'\n",
    "plt.rcParams['font.serif'] = 'Ubuntu'\n",
    "plt.rcParams['font.monospace'] = 'Ubuntu Mono'\n",
    "plt.rcParams['font.size'] = 10\n",
    "plt.rcParams['axes.labelsize'] = 10\n",
    "plt.rcParams['axes.labelweight'] = 'bold'\n",
    "plt.rcParams['xtick.labelsize'] = 8\n",
    "plt.rcParams['ytick.labelsize'] = 8\n",
    "plt.rcParams['legend.fontsize'] = 10\n",
    "plt.rcParams['figure.titlesize'] = 12"
   ]
  },
  {
   "cell_type": "code",
   "execution_count": null,
   "metadata": {},
   "outputs": [],
   "source": [
    "error_means_wrt_m = np.mean(all_errors,axis=1) \n",
    "final_errors = np.mean((all_errors - error_means_wrt_m[:, np.newaxis])**2, axis=1)"
   ]
  },
  {
   "cell_type": "code",
   "execution_count": null,
   "metadata": {},
   "outputs": [],
   "source": [
    "fig = plt.figure(figsize=(12,8))\n",
    "ax = fig.add_subplot(111) \n",
    "fig.subplots_adjust(top=0.85)\n",
    "ax.set_ylabel('MC - error', fontsize=14)\n",
    "ax.set_xlabel('T', fontsize=14)\n",
    "ax.text(1000, .00025, 'Using 1e4 batches', fontsize=14) \n",
    "f2 = interp1d(Ts, final_errors, kind='linear')\n",
    "f3=interpolate.splrep(Ts, final_errors, s=2)\n",
    "#ynew = interpolate.splev(xnew, f3, der=1)\n",
    "# ax.plot(Ts, final_errors,'--',color='r')\n",
    "\n",
    "# #xnew = np.linspace(1, 1500, num=11, endpoint=True)\n",
    "# #ax.plot(xnew, f2(xnew))\n",
    "# #ax.plot(xnew, ynew)\n",
    "# #import matplotlib.pyplot as plt\n",
    "# plt.plot(x, y, 'o', xnew, f(xnew), '-', xnew, f2(xnew), '--')\n",
    "# ax.axis([0, 1500, 0., 0.0003] ) ;"
   ]
  },
  {
   "cell_type": "code",
   "execution_count": null,
   "metadata": {},
   "outputs": [],
   "source": [
    "f3"
   ]
  },
  {
   "cell_type": "code",
   "execution_count": null,
   "metadata": {},
   "outputs": [],
   "source": [
    "from scipy.interpolate import interp1d\n",
    "from scipy import interpolate\n",
    "\n",
    "fig = plt.figure(figsize=(12,8))\n",
    "ax = fig.add_subplot(111) \n",
    "fig.subplots_adjust(top=0.85)\n",
    "ax.set_ylabel('MC - error', fontsize=14)\n",
    "ax.set_xlabel('T', fontsize=14)\n",
    "ax.text(1000, .00025, 'Using 1e4 batches', fontsize=14) \n",
    "f2 = interp1d(Ts, final_errors, kind='linear')\n",
    "f3=interpolate.splrep(Ts, final_errors, s=2)\n",
    "xnew = np.linspace(1, 1500, num=11, endpoint=True)\n",
    "ynew = interpolate.splev(xnew, f3, der=1)\n",
    "ax.plot(Ts, final_errors,'--',color='r')\n",
    "\n",
    "\n",
    "ax.plot(xnew, f2(xnew))\n",
    "ax.plot(xnew, ynew)\n",
    "#import matplotlib.pyplot as plt\n",
    "# plt.plot(x, y, 'o', xnew, f(xnew), '-', xnew, f2(xnew), '--')\n",
    "ax.axis([0, 1500, 0., 0.0003] ) ;\n",
    "tck, u = splrep(pts.T, u=None, s=0.0, per=1) \n",
    "u_new = np.linspace(u.min(), u.max(), 1000) \n",
    "x_new, y_new = splev(u_new, tck, der=0)\n",
    "\n",
    "plt.plot(pts[:,0], pts[:,1], 'ro') \n",
    "plt.plot(x_new, y_new, 'b--') \n",
    "plt.show()"
   ]
  },
  {
   "cell_type": "code",
   "execution_count": null,
   "metadata": {},
   "outputs": [],
   "source": [
    "fig = plt.figure(figsize=(12,8))\n",
    "ax = fig.add_subplot(111) \n",
    "fig.subplots_adjust(top=0.85)\n",
    "ax.set_ylabel('MC - error', fontsize=14)\n",
    "ax.set_xlabel('T', fontsize=14)\n",
    "ax.text(1000, .00025, 'Using 1e4 batches', fontsize=14) \n",
    "f2 = interp1d(Ts, final_errors, kind='linear')\n",
    "f3=interpolate.splrep(Ts, final_errors, s=2)\n",
    "\n",
    "xnew = np.linspace(1, 1500, num=11, endpoint=True)\n",
    "ynew = interpolate.splev(xnew, f3, der=1)\n",
    "ax.plot(Ts, final_errors,'--',color='r')\n",
    "\n",
    "ax.plot(xnew, f2(xnew))\n",
    "ax.plot(xnew, ynew)\n",
    "import matplotlib.pyplot as plt\n",
    "plt.plot(x, y, 'o', xnew, f(xnew), '-', xnew, f2(xnew), '--')\n",
    "ax.axis([0, 1500, 0., 0.0003] ) ;"
   ]
  },
  {
   "cell_type": "code",
   "execution_count": null,
   "metadata": {},
   "outputs": [],
   "source": [
    "np.linspace(1, 1500, num=11, endpoint=True)"
   ]
  },
  {
   "cell_type": "code",
   "execution_count": null,
   "metadata": {},
   "outputs": [],
   "source": []
  }
 ],
 "metadata": {
  "kernelspec": {
   "display_name": "Python 2",
   "language": "python",
   "name": "python2"
  },
  "language_info": {
   "codemirror_mode": {
    "name": "ipython",
    "version": 2
   },
   "file_extension": ".py",
   "mimetype": "text/x-python",
   "name": "python",
   "nbconvert_exporter": "python",
   "pygments_lexer": "ipython2",
   "version": "2.7.12+"
  }
 },
 "nbformat": 4,
 "nbformat_minor": 2
}
