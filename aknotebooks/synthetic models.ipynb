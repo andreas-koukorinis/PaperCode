{
 "cells": [
  {
   "cell_type": "code",
   "execution_count": 124,
   "metadata": {},
   "outputs": [],
   "source": [
    "import pandas as pd\n",
    "import numpy as np\n",
    "import os\n",
    "import matplotlib.pyplot as plt\n",
    "import seaborn as sns\n",
    "plt.style.use('ggplot')\n",
    "%matplotlib inline"
   ]
  },
  {
   "cell_type": "code",
   "execution_count": 2,
   "metadata": {},
   "outputs": [],
   "source": [
    "ticker = 'SYNT_2states'\n",
    "features_path='/home/ak/Documents/Data/features_models/features/'\n",
    "\n",
    "####paths####\n",
    "labels_path = '/home/ak/Documents/Data/features_models/labels'\n",
    "main_path = '/home/ak/Documents/Data/features_models/'\n",
    "\n",
    "models_path=os.path.join(main_path,'models')\n",
    "hmm_models_path = os.path.join(models_path,'hmm_models')\n",
    "features_ticker_path = os.path.join(features_path, ticker)\n",
    "predictions_path = os.path.join(main_path, 'predictions')\n",
    "# ticker = 'SYNT_4states'\n",
    "\n",
    "features_path = os.path.join(main_path, 'features')\n",
    "ticker_labels_path = os.path.join(labels_path, ticker)\n",
    "ticker_models_path = os.path.join(models_path, ticker)\n",
    "ticker_predictions_path = os.path.join(predictions_path, ticker)\n",
    "\n",
    "ticker_features_path = os.path.join(features_path, ticker)\n",
    "\n",
    "###\n",
    "\n",
    "# list of files    \n",
    "labels_list = os.listdir(ticker_labels_path)\n",
    "\n",
    "features_list = os.listdir(ticker_features_path)"
   ]
  },
  {
   "cell_type": "code",
   "execution_count": 38,
   "metadata": {},
   "outputs": [],
   "source": [
    "\n",
    "labels_dates=os.path.join(ticker_labels_path,labels_list[0])\n",
    "\n",
    "non_dir_labels_path=os.path.join(ticker_labels_path,labels_list[0])\n",
    "dates=os.listdir(non_dir_labels_path)\n",
    "no=1\n",
    "file_name= os.path.join(non_dir_labels_path, dates[no])\n",
    "label_df=pd.read_csv(file_name)\n",
    "label_ar=label_df.drop(columns=['Duration', 'ReturnTradedPrice', 'states', 'TradedTime',\n",
    "       'TradedPrice', 'ticker'], axis=1)\n",
    "labels = label_ar.iloc[:,0]"
   ]
  },
  {
   "cell_type": "code",
   "execution_count": null,
   "metadata": {},
   "outputs": [],
   "source": []
  },
  {
   "cell_type": "code",
   "execution_count": null,
   "metadata": {},
   "outputs": [],
   "source": []
  }
 ],
 "metadata": {
  "kernelspec": {
   "display_name": "Python 2",
   "language": "python",
   "name": "python2"
  },
  "language_info": {
   "codemirror_mode": {
    "name": "ipython",
    "version": 2
   },
   "file_extension": ".py",
   "mimetype": "text/x-python",
   "name": "python",
   "nbconvert_exporter": "python",
   "pygments_lexer": "ipython2",
   "version": "2.7.12"
  }
 },
 "nbformat": 4,
 "nbformat_minor": 2
}
