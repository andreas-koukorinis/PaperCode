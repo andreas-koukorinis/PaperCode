{
 "cells": [
  {
   "cell_type": "code",
   "execution_count": 3,
   "metadata": {},
   "outputs": [],
   "source": [
    "import pandas as pd\n",
    "import numpy as np\n",
    "import os\n",
    "from pandas.tseries.offsets import BDay\n",
    "import pickle\n",
    "import fnmatch\n",
    "import datetime as dt\n",
    "import glob\n",
    "import matplotlib.pyplot as plt\n",
    "def listdirs(folder): #return only directories from a master folder\n",
    "    return [d for d in os.listdir(folder) if os.path.isdir(os.path.join(folder, d))]\n",
    "\n",
    "def find_path(basepath, stringname):\n",
    "    for fname in os.listdir(basepath):\n",
    "        path = os.path.join(basepath, fname)\n",
    "        if os.path.isdir(path):\n",
    "            if stringname in fname:\n",
    "                return path\n",
    "def get_ticket(rx_path):\n",
    "    ticker=rx_path.split(\".\")[0].split(\"/\")[-1].split(\"-\")[0]\n",
    "    return ticker\n",
    "\n",
    "def ticker_trades_dir(ticker):\n",
    "    dest=os.path.join(os.getenv('FINANCE_DATA'), \"_\".join((ticker,'trades')))\n",
    "    if not os.path.isdir(dest):\n",
    "        os.makedirs(dest)\n",
    "def quotes_trades_dir(ticker):\n",
    "    dest=os.path.join(os.getenv('FINANCE_DATA'), \"_\".join((ticker,'quotes')))\n",
    "    if not os.path.isdir(dest):\n",
    "        os.makedirs(dest)\n",
    "def agg_on_trd_time(gr):\n",
    "    \"\"\"\n",
    "    Utility func to aggregate trades on timestamp. All trades with equal time stamp\n",
    "    will collapse to one row and the traded price will be the volume weighted traded\n",
    "    price.\n",
    "    \"\"\"\n",
    "    vTrdPrice = np.sum(gr['TradedPrice'] * gr['Volume'])/np.sum(gr['Volume'])\n",
    "    volume = np.sum(gr['Volume'])\n",
    "\n",
    "    return pd.Series({'Volume': volume,\n",
    "                      'TradedPrice': vTrdPrice})\n",
    "\n",
    "def open_pickle_file(path, pickle_file):\n",
    "    file_loc = os.path.join(path, pickle_file)\n",
    "    pickle_to_file = pickle.load(open(file_loc, \"rb\"))\n",
    "    return pickle_to_file\n",
    "def common_member(a, b): \n",
    "      \n",
    "    a_set = set(a) \n",
    "    b_set = set(b) \n",
    "      \n",
    "    # check length  \n",
    "    if len(a_set.intersection(b_set)) > 0: \n",
    "        return(a_set.intersection(b_set))   \n",
    "    else: \n",
    "        return(\"no common elements\") "
   ]
  },
  {
   "cell_type": "code",
   "execution_count": 10,
   "metadata": {},
   "outputs": [
    {
     "data": {
      "text/plain": [
       "['VXX',\n",
       " 'VXX_US_Equity-20181027',\n",
       " 'XM1_Comdty-20181028',\n",
       " 'TY1_Comdty-20181028',\n",
       " 'BTCUSD.PERP.BMEX',\n",
       " 'US1_Comdty-20181028',\n",
       " 'FinData',\n",
       " '.Trash-1000',\n",
       " 'SYNT_2states',\n",
       " 'raw bloomberg data',\n",
       " 'crypto',\n",
       " 'TU1_Comdty-20181028',\n",
       " 'old models',\n",
       " 'YM1_Comdty-20181028',\n",
       " 'Data',\n",
       " 'lost+found']"
      ]
     },
     "execution_count": 10,
     "metadata": {},
     "output_type": "execute_result"
    }
   ],
   "source": [
    "os.listdir('/media/ak/DataOnly/')"
   ]
  },
  {
   "cell_type": "code",
   "execution_count": 2,
   "metadata": {},
   "outputs": [
    {
     "ename": "NameError",
     "evalue": "name 'data_dir' is not defined",
     "output_type": "error",
     "traceback": [
      "\u001b[0;31m---------------------------------------------------------------------------\u001b[0m",
      "\u001b[0;31mNameError\u001b[0m                                 Traceback (most recent call last)",
      "\u001b[0;32m<ipython-input-2-f30c19fbae40>\u001b[0m in \u001b[0;36m<module>\u001b[0;34m()\u001b[0m\n\u001b[0;32m----> 1\u001b[0;31m \u001b[0mbmrg_folders\u001b[0m\u001b[0;34m=\u001b[0m\u001b[0;34m[\u001b[0m\u001b[0ms\u001b[0m \u001b[0;32mfor\u001b[0m \u001b[0ms\u001b[0m \u001b[0;32min\u001b[0m \u001b[0mos\u001b[0m\u001b[0;34m.\u001b[0m\u001b[0mlistdir\u001b[0m\u001b[0;34m(\u001b[0m\u001b[0mdata_dir\u001b[0m\u001b[0;34m)\u001b[0m \u001b[0;32mif\u001b[0m \u001b[0ms\u001b[0m\u001b[0;34m.\u001b[0m\u001b[0mendswith\u001b[0m\u001b[0;34m(\u001b[0m\u001b[0;34m'Comdty'\u001b[0m\u001b[0;34m)\u001b[0m\u001b[0;34m]\u001b[0m\u001b[0;34m\u001b[0m\u001b[0m\n\u001b[0m\u001b[1;32m      2\u001b[0m \u001b[0mbmrg_trades\u001b[0m\u001b[0;34m=\u001b[0m\u001b[0;34m[\u001b[0m\u001b[0ms\u001b[0m \u001b[0;32mfor\u001b[0m \u001b[0ms\u001b[0m \u001b[0;32min\u001b[0m \u001b[0mos\u001b[0m\u001b[0;34m.\u001b[0m\u001b[0mlistdir\u001b[0m\u001b[0;34m(\u001b[0m\u001b[0mdata_dir\u001b[0m\u001b[0;34m)\u001b[0m \u001b[0;32mif\u001b[0m \u001b[0ms\u001b[0m\u001b[0;34m.\u001b[0m\u001b[0mendswith\u001b[0m\u001b[0;34m(\u001b[0m\u001b[0;34m'y_trades'\u001b[0m\u001b[0;34m)\u001b[0m\u001b[0;34m]\u001b[0m\u001b[0;34m\u001b[0m\u001b[0m\n\u001b[1;32m      3\u001b[0m \u001b[0mbmrg_quotes\u001b[0m\u001b[0;34m=\u001b[0m\u001b[0;34m[\u001b[0m\u001b[0ms\u001b[0m \u001b[0;32mfor\u001b[0m \u001b[0ms\u001b[0m \u001b[0;32min\u001b[0m \u001b[0mos\u001b[0m\u001b[0;34m.\u001b[0m\u001b[0mlistdir\u001b[0m\u001b[0;34m(\u001b[0m\u001b[0mdata_dir\u001b[0m\u001b[0;34m)\u001b[0m \u001b[0;32mif\u001b[0m \u001b[0ms\u001b[0m\u001b[0;34m.\u001b[0m\u001b[0mendswith\u001b[0m\u001b[0;34m(\u001b[0m\u001b[0;34m'y_quotes'\u001b[0m\u001b[0;34m)\u001b[0m\u001b[0;34m]\u001b[0m\u001b[0;34m\u001b[0m\u001b[0m\n\u001b[1;32m      4\u001b[0m \u001b[0mbmrg_tickers\u001b[0m\u001b[0;34m=\u001b[0m\u001b[0;34m[\u001b[0m\u001b[0mbmrg_trades\u001b[0m\u001b[0;34m[\u001b[0m\u001b[0midx\u001b[0m\u001b[0;34m]\u001b[0m\u001b[0;34m.\u001b[0m\u001b[0msplit\u001b[0m\u001b[0;34m(\u001b[0m\u001b[0;34m'_t'\u001b[0m\u001b[0;34m)\u001b[0m\u001b[0;34m[\u001b[0m\u001b[0;36m0\u001b[0m\u001b[0;34m]\u001b[0m \u001b[0;32mfor\u001b[0m \u001b[0midx\u001b[0m\u001b[0;34m,\u001b[0m\u001b[0m_\u001b[0m \u001b[0;32min\u001b[0m \u001b[0menumerate\u001b[0m\u001b[0;34m(\u001b[0m\u001b[0mbmrg_trades\u001b[0m\u001b[0;34m)\u001b[0m\u001b[0;34m]\u001b[0m\u001b[0;34m\u001b[0m\u001b[0m\n",
      "\u001b[0;31mNameError\u001b[0m: name 'data_dir' is not defined"
     ]
    }
   ],
   "source": [
    "bmrg_folders=[s for s in os.listdir(data_dir) if s.endswith('Comdty')]\n",
    "bmrg_trades=[s for s in os.listdir(data_dir) if s.endswith('y_trades')]\n",
    "bmrg_quotes=[s for s in os.listdir(data_dir) if s.endswith('y_quotes')]\n",
    "bmrg_tickers=[bmrg_trades[idx].split('_t')[0] for idx,_ in enumerate(bmrg_trades)]"
   ]
  },
  {
   "cell_type": "code",
   "execution_count": 6,
   "metadata": {},
   "outputs": [],
   "source": [
    "def obv_calc(df):\n",
    "    df['SignedVolume']=df['Volume']*np.sign(df['TradedPrice'].diff()).cumsum()\n",
    "    df['SignedVolume'][:1]=0\n",
    "    df['OBV']=df['SignedVolume'].cumsum()\n",
    "    df =df.drop(columns=['SignedVolume'])\n",
    "    return df\n",
    "    "
   ]
  },
  {
   "cell_type": "code",
   "execution_count": 7,
   "metadata": {},
   "outputs": [],
   "source": [
    "def chaikin_mf(df, period=5):\n",
    "    df[\"MF Multiplier\"] = (df['TradedPrice']-(df['TradedPrice'].expanding(period).min() ) \\\n",
    "                           - (df['TradedPrice'].expanding(period).max() - df['TradedPrice']))/(df['TradedPrice'].expanding(period).max() - df['TradedPrice'].expanding(period).min())\n",
    "    df[\"MF Volume\"] = df['MF Multiplier'] * df['Volume'] \n",
    "    df['CMF']= df['MF Volume'].sum()/df[\"Volume\"].rolling(5).sum()\n",
    "    df=df.drop(columns=['MF Multiplier','MF Volume'])\n",
    "    return df"
   ]
  },
  {
   "cell_type": "code",
   "execution_count": null,
   "metadata": {},
   "outputs": [],
   "source": [
    "tp_rolling=test_file['TradedPrice'].rolling(5).mean()\n",
    "v= test_file['Volume'].rolling(5).mean()\n",
    "df=test_file\n",
    "# df.groupby(df.index).rolling(7).apply(lambda x: np.average(x.TradedPrice, weights=x.Volume))"
   ]
  },
  {
   "cell_type": "code",
   "execution_count": null,
   "metadata": {},
   "outputs": [],
   "source": [
    "# # Groupby column with rolling mean.\n",
    "# df_grouped_rolling = df.groupby(df.index)[['TradedPrice', 'Volume']].rolling(window=3, min_periods=2).min()\n",
    "# df_grouped_rolling.groupby(df_grouped_rolling.index).rolling(7).apply(lambda x: np.average(x.TradedPrice, weights=x.Volume))\n",
    "# # # df_grouped_rolling.head(10)\n",
    "# df_grouped_rolling"
   ]
  },
  {
   "cell_type": "code",
   "execution_count": null,
   "metadata": {},
   "outputs": [],
   "source": [
    "# idx=0\n",
    "# trades_files_loc = os.path.join(data_dir,bmrg_trades[idx])\n",
    "# trades_files= os.listdir(os.path.join(data_dir,bmrg_trades[idx]))\n",
    "# # file_idx=1\n",
    "# for file_idx,_ in enumerate(trades_files):\n",
    "#     symbol='G_1_Comdty'\n",
    "#     print('working on symbol:', symbol)\n",
    "#     trades_df = pd.read_csv(os.path.join(trades_files_loc, trades_files[file_idx]), index_col=0)\n",
    "#     print('reading this:', trades_files[file_idx])\n",
    "#     trades_df=trades_df.rename(index=str, columns={\"size\": \"Volume\",\"value\":\"TradedPrice\"}).drop(columns=['type'])\n",
    "#     trades_df['TradedTime'] = pd.to_datetime(trades_df['time'])\n",
    "#     trades_df= trades_df.drop(columns=['time'])\n",
    "#     res = trades_df.groupby('TradedTime').apply(agg_on_trd_time)\n",
    "#     res.reset_index(inplace=True)\n",
    "#     res.loc[:, 'Duration'] = res['TradedTime']- res['TradedTime'].shift(1)\n",
    "#     res['Duration'].fillna(value=0, inplace=True)\n",
    "#     res.loc[:, 'Duration'] = res['Duration'].apply(lambda tt: tt.total_seconds())\n",
    "#     res.loc[1:, 'ReturnTradedPrice'] = \\\n",
    "#         res['TradedPrice'].rolling(window=2).apply(lambda xx: np.log(xx[-1]/xx[0]))\n",
    "#     res.loc[0, 'ReturnTradedPrice'] = 0.\n",
    "#     target_file_name\n",
    "#     target_file_name = os.path.join(os.path.join(data_dir,symbol),trades_files[file_idx])\n",
    "#     print('saving here:', target_file_name)karima\n",
    "#     res[['TradedTime', 'TradedPrice', 'ReturnTradedPrice', 'Volume', \\\n",
    "#          'Duration']].to_csv(target_file_name, index=False)\n",
    "# print(res.columns.values)                       "
   ]
  },
  {
   "cell_type": "code",
   "execution_count": null,
   "metadata": {},
   "outputs": [],
   "source": [
    "# for idx, symbol_trades in enumerate(bmrg_trades):\n",
    "#     trades_files_loc = os.path.join(data_dir,bmrg_trades[idx])\n",
    "#     trades_files= os.listdir(os.path.join(data_dir,bmrg_trades[idx]))\n",
    "#     symbol=\"_\".join((bmrg_trades[idx].split('_')[0],\"Comdty\"))\n",
    "#     print('working on symbol:', symbol)\n",
    "#     for file_idx,_ in enumerate(trades_files):\n",
    "#         print('reading this:', trades_files[file_idx])\n",
    "#         trades_df = pd.read_csv(os.path.join(trades_files_loc, trades_files[file_idx]), index_col=0)\n",
    "#         trades_df=trades_df.rename(index=str, columns={\"size\": \"Volume\",\"value\":\"TradedPrice\"}).drop(columns=['type'])\n",
    "#         trades_df['TradedTime'] = pd.to_datetime(trades_df['time'])\n",
    "#         trades_df= trades_df.drop(columns=['time'])\n",
    "#         res = trades_df.groupby('TradedTime').apply(agg_on_trd_time)\n",
    "#         res.reset_index(inplace=True)\n",
    "#         res.loc[:, 'Duration'] = res['TradedTime']- res['TradedTime'].shift(1)\n",
    "#         res['Duration'].fillna(value=0, inplace=True)\n",
    "#         res.loc[:, 'Duration'] = res['Duration'].apply(lambda tt: tt.total_seconds())\n",
    "#         res.loc[1:, 'ReturnTradedPrice'] = \\\n",
    "#             res['TradedPrice'].rolling(window=2).apply(lambda xx: np.log(xx[-1]/xx[0]))\n",
    "#         res.loc[0, 'ReturnTradedPrice'] = 0\n",
    "#         target_file_name = os.path.join(os.path.join(data_dir,symbol),trades_files[file_idx])\n",
    "#         print('saving here:', target_file_name)\n",
    "#         res[['TradedTime', 'TradedPrice', 'ReturnTradedPrice', 'Volume', \\\n",
    "#              'Duration']].to_csv(target_file_name, index=False)\n",
    "\n",
    "        \n",
    "    \n"
   ]
  },
  {
   "cell_type": "code",
   "execution_count": null,
   "metadata": {},
   "outputs": [],
   "source": []
  },
  {
   "cell_type": "code",
   "execution_count": null,
   "metadata": {},
   "outputs": [],
   "source": [
    "# symbol_path = find_path(data_dir, str(bmrg_symbols[0]))\n",
    "# symbol_files=os.listdir(symbol_path)\n",
    "\n",
    "# symbol=symbol_files[1].split('-')[0]\n",
    "# date=symbol_files[1].split('-')[1].split('.')[0]\n",
    "idx=3\n",
    "trades_loc= os.path.join(data_dir,bmrg_trades[1])\n",
    "list_files =os.listdir(os.path.join(data_dir,bmrg_trades[1]))\n",
    "trades_file = os.path.join(trades_loc, list_files[idx])\n",
    "df= pd.read_csv(trades_file,index_col=0 )\n",
    "df.drop(columns=['type'])"
   ]
  },
  {
   "cell_type": "code",
   "execution_count": null,
   "metadata": {},
   "outputs": [],
   "source": [
    "from dateutil.parser import parse\n",
    "import datetime as dt\n",
    "# sample = parse(df['time'].iloc[:,1])\n",
    "# print(sample)\n",
    "sample=parse(df['time'].iloc[12])\n",
    "# # datetime.datetime(2010, 2, 15, 0, 0)\n",
    "# print(dt.strftime('%d/%m/%Y'))\n",
    "# # 15/02/2010\n",
    "sample_time=sample.time()\n",
    "sample_time.strftime('%H:%M:%S.%f')"
   ]
  },
  {
   "cell_type": "markdown",
   "metadata": {},
   "source": [
    "# Crypto Data#"
   ]
  },
  {
   "cell_type": "code",
   "execution_count": null,
   "metadata": {},
   "outputs": [],
   "source": [
    "import os\n",
    "crypto=os.path.join(data_only_drive,'crypto/BTCUSD.PERP.BMEX')\n",
    "os.listdir(data_only_drive)"
   ]
  },
  {
   "cell_type": "code",
   "execution_count": null,
   "metadata": {},
   "outputs": [],
   "source": [
    "crypto_path=os.path.join(data_only_drive,'crypto')\n",
    "trades_crypto_path = os.path.join(crypto_path,'trades')\n",
    "perp_trades_loc= os.path.join(trades_crypto_path,'BTCUSD.PERP.BMEX')\n",
    "perp_trades_list=os.listdir(perp_trades_loc)"
   ]
  },
  {
   "cell_type": "code",
   "execution_count": null,
   "metadata": {},
   "outputs": [],
   "source": [
    "LOB = os.path.join(crypto_path,'LOB')\n",
    "lob_files= os.listdir(os.path.join(LOB,os.listdir(LOB)[0]))\n"
   ]
  },
  {
   "cell_type": "code",
   "execution_count": null,
   "metadata": {},
   "outputs": [],
   "source": [
    "sample_file = pd.read_csv(os.path.join(perp_trades_loc, perp_trades_list[0]), index_col=0)"
   ]
  },
  {
   "cell_type": "code",
   "execution_count": null,
   "metadata": {},
   "outputs": [],
   "source": [
    "os.path.join(perp_trades_loc, perp_trades_list[0])"
   ]
  },
  {
   "cell_type": "code",
   "execution_count": null,
   "metadata": {},
   "outputs": [],
   "source": [
    "sample_file.reset_index(inplace=True)"
   ]
  },
  {
   "cell_type": "code",
   "execution_count": null,
   "metadata": {},
   "outputs": [],
   "source": [
    "from scipy.spatial.distance import pdist, squareform"
   ]
  },
  {
   "cell_type": "code",
   "execution_count": null,
   "metadata": {},
   "outputs": [],
   "source": [
    "sample_file=sample_file.drop(columns=['index'])"
   ]
  },
  {
   "cell_type": "code",
   "execution_count": null,
   "metadata": {},
   "outputs": [],
   "source": [
    "sample_file.columns.values"
   ]
  },
  {
   "cell_type": "code",
   "execution_count": null,
   "metadata": {},
   "outputs": [],
   "source": [
    "crypto_df= pd.to_datetime(sample_file['received_at'])"
   ]
  },
  {
   "cell_type": "code",
   "execution_count": null,
   "metadata": {},
   "outputs": [],
   "source": [
    "crypto_df['TradedPrice']= sample_file['price']\n"
   ]
  },
  {
   "cell_type": "code",
   "execution_count": null,
   "metadata": {},
   "outputs": [],
   "source": [
    "sample_file =sample_file.rename(index=str, columns={\"received_at\":\"TradedTime\",\"side\":\"Side\"})"
   ]
  },
  {
   "cell_type": "code",
   "execution_count": null,
   "metadata": {},
   "outputs": [],
   "source": [
    "sample_file['TradedTime']=pd.to_datetime(sample_file['TradedTime'])"
   ]
  },
  {
   "cell_type": "code",
   "execution_count": null,
   "metadata": {},
   "outputs": [],
   "source": [
    "sample_file =sample_file.rename(index=str, columns={\"price\":\"TradedPrice\",\"size\":\"Volume\"})"
   ]
  },
  {
   "cell_type": "code",
   "execution_count": null,
   "metadata": {},
   "outputs": [],
   "source": [
    "def get_time(date_time):\n",
    "    timestamp= date_time.strftime('%H:%M:%S.%f')\n",
    "    return timestamp"
   ]
  },
  {
   "cell_type": "code",
   "execution_count": null,
   "metadata": {},
   "outputs": [],
   "source": [
    "sample_file['TradedTime']=sample_file['TradedTime'].apply(get_time)"
   ]
  },
  {
   "cell_type": "markdown",
   "metadata": {},
   "source": [
    "res = sample_file.groupby('TradedTime').apply(agg_on_trd_time)\n",
    "res.reset_index(inplace=True)\n",
    "res.loc[:, 'Duration'] = res['TradedTime']- res['TradedTime'].shift(1)\n",
    "res['Duration'].fillna(value=0, inplace=True)\n",
    "res.loc[:, 'Duration'] = res['Duration'].apply(lambda tt: tt.total_seconds())\n",
    "res.loc[1:, 'ReturnTradedPrice'] = \\\n",
    "res['TradedPrice'].rolling(window=2).apply(lambda xx: np.log(xx[-1]/xx[0]))\n",
    "res.loc[0, 'ReturnTradedPrice'] = 0"
   ]
  },
  {
   "cell_type": "code",
   "execution_count": 63,
   "metadata": {},
   "outputs": [],
   "source": [
    "data_dir = os.getenv('FINANCE_DATA') #main directory\n",
    "data_only_drive= '/mnt/usb-Seagate_Expansion_Desk_NA8XEHR6-0:0-part2'\n",
    "bmrg_symbols=[s for s in os.listdir(data_dir) if s.endswith('20181028') or s.endswith('20181027')]\n",
    "\n",
    "\n",
    "bmrg_symbols_destinations=[s for s in os.listdir(data_dir) if s.endswith('trades') or s.endswith('quotes')]\n",
    "bmrg_tickers=[bmrg_symbols_destinations[idx].split('_t')[0] or \\\n",
    "              bmrg_symbols_destinations[idx].split('_q')[0] for idx,_ in enumerate(bmrg_symbols_destinations)]\n",
    "ftse_symbols= [s for s in os.listdir(data_dir) if s.endswith('.L')]\n",
    "features_models_dd= os.path.join(data_dir, 'features_models')\n",
    "labels = os.path.join(features_models_dd, 'labels')\n",
    "model_features= os.path.join(features_models_dd, 'features')\n",
    "features_models_dOd= os.path.join(data_only_drive, 'features_models')"
   ]
  },
  {
   "cell_type": "raw",
   "metadata": {},
   "source": [
    "#     symbol_features_path = os.path.join(model_features, symbol,'MODEL_BASED') # set model-based features path for the symbol\n",
    "#     symbol_labels_list= os.listdir(symbol_labels_path) # make a list of all the labels\n",
    "#     market_features_path = os.path.join(data_only_drive,'Data','features_models',symbol,'MARKET_BASED')\n",
    "#     features_dates_dir= os.listdir(symbol_features_path)\n",
    "#     market_features_dates= [os.listdir(market_features_path)[idx].split(\".\")[0] for idx, _ in enumerate(market_features_path)]\n",
    "#     labels_dates= [symbol_labels_list[idx].split(\".\")[0] for idx, _ in enumerate(symbol_labels_list)]\n"
   ]
  },
  {
   "cell_type": "code",
   "execution_count": 108,
   "metadata": {},
   "outputs": [
    {
     "data": {
      "text/plain": [
       "140"
      ]
     },
     "execution_count": 108,
     "metadata": {},
     "output_type": "execute_result"
    }
   ],
   "source": [
    "data_dir\n",
    "ftse_symbols= [s for s in os.listdir(data_dir) if s.endswith('.L')]\n",
    "test=os.listdir(os.path.join(data_dir, ftse_symbols[1]))\n",
    "len(test)"
   ]
  },
  {
   "cell_type": "code",
   "execution_count": 142,
   "metadata": {},
   "outputs": [],
   "source": [
    "\n",
    "for idx,_ in enumerate(ftse_symbols):\n",
    "    symbol=ftse_symbols[idx] # set symbol\n",
    "    features_models_path = '/media/ak/WorkDrive/Data/features_models/models/'\n",
    "    features_only_path = '/media/ak/WorkDrive/Data/features_models/features/'\n",
    "    symbol_raw_data_path = os.listdir(os.path.join(data_dir, symbol))\n",
    "    symbol_hmm_model_path = os.listdir(os.path.join(features_models_path, symbol,'HMM'))\n",
    "    symbol_labels_path= os.listdir(os.path.join(labels, symbol,'NON_DIRECTIONAL')) # set labels path for the symbol\n",
    "    market_features_path = os.listdir(os.path.join(data_only_drive,'Data','features_models',symbol,'MARKET_BASED'))\n",
    "    symbol_model_features = os.listdir(os.path.join(features_only_path, symbol, 'MODEL_BASED'))\n",
    "#     print('symbol: ', symbol)\n",
    "# #     print('number of days: ', len(symbol_raw_data_path))\n",
    "# #     print('number of hmm models: ', len(symbol_hmm_model_path))\n",
    "# #     print(\"number of date files in labels:\",len(symbol_labels_path))\n",
    "#     print(\"mearket features:\", len(market_features_path))\n",
    "#     print(\"common elements between market features and labels:\",len(list(common_member(market_features_path, \\\n",
    "#                                                                                        symbol_labels_path))))\n",
    "# #     if len(symbol_raw_data_path)!= len(symbol_labels_path):\n",
    "# #         print('check symbol:',symbol)\n",
    "# #         problem_list.append(symbol)\n"
   ]
  },
  {
   "cell_type": "code",
   "execution_count": 137,
   "metadata": {},
   "outputs": [
    {
     "name": "stdout",
     "output_type": "stream",
     "text": [
      "('symbol: ', 'AAL.L')\n",
      "/media/ak/WorkDrive/Data/AAL.L\n",
      "/media/ak/WorkDrive/Data/features_models/models/AAL.L/HMM\n",
      "/media/ak/WorkDrive/Data/features_models/labels/AAL.L/NON_DIRECTIONAL\n",
      "/mnt/usb-Seagate_Expansion_Desk_NA8XEHR6-0:0-part2/Data/features_models/AAL.L/MARKET_BASED\n"
     ]
    }
   ],
   "source": [
    "##test case##\n",
    "symbol='AAL.L' # set symbol\n",
    "features_models_path = '/media/ak/WorkDrive/Data/features_models/models/'\n",
    "symbol_raw_data_path = os.path.join(data_dir, symbol)\n",
    "symbol_hmm_model_path = os.path.join(features_models_path, symbol,'HMM')\n",
    "symbol_labels_path= os.path.join(labels, symbol,'NON_DIRECTIONAL') # set labels path for the symbol\n",
    "market_features_path = os.path.join(data_only_drive,'Data','features_models',symbol,'MARKET_BASED')\n",
    "print('symbol: ', symbol)\n",
    "print(symbol_raw_data_path)\n",
    "print(symbol_hmm_model_path)\n",
    "print(symbol_labels_path)\n",
    "print(market_features_path)\n"
   ]
  },
  {
   "cell_type": "code",
   "execution_count": 195,
   "metadata": {},
   "outputs": [],
   "source": [
    "symbol_features = os.listdir(os.path.join(features_only_path, symbol, 'MODEL_BASED')) #this is a list of folders, indexed by date\n",
    "labels_dates= [symbol_labels_path[idx].split(\".\")[0] for idx, _ in enumerate(symbol_labels_path)]\n",
    "date=labels_dates[1]\n",
    "# for _, date in enumerate(labels_dates):\n",
    "date_symbol_features = os.path.join(features_only_path, symbol, 'MODEL_BASED', date)\n",
    "date_feature_list= os.listdir(date_symbol_features)\n",
    "for idx, _ in enumerate(date_feature_list):\n",
    "    open_pickle_file(path=date_symbol_features, pickle_file=date_feature_list[idx])\n"
   ]
  },
  {
   "cell_type": "code",
   "execution_count": 201,
   "metadata": {},
   "outputs": [
    {
     "name": "stdout",
     "output_type": "stream",
     "text": [
      "['SPT.L_3_states_features_date:_20180413_now:_20181230_.pickle', 'SPT.L_3_states_features_date:_20180419_now:_20181230_.pickle', 'SPT.L_3_states_features_date:_20180409_now:_20181230_.pickle', 'SPT.L_3_states_features_date:_20180328_now:_20181230_.pickle', 'SPT.L_3_states_features_date:_20180406_now:_20181230_.pickle', 'SPT.L_3_states_features_date:_20180403_now:_20181230_.pickle', 'SPT.L_3_states_features_date:_20180410_now:_20181230_.pickle', 'SPT.L_3_states_features_date:_20180417_now:_20181230_.pickle', 'SPT.L_3_states_features_date:_20180329_now:_20181230_.pickle', 'SPT.L_3_states_features_date:_20180411_now:_20181230_.pickle', 'SPT.L_3_states_features_date:_20180405_now:_20181230_.pickle', 'SPT.L_3_states_features_date:_20180416_now:_20181230_.pickle', 'SPT.L_3_states_features_date:_20180418_now:_20181230_.pickle', 'SPT.L_3_states_features_date:_20180412_now:_20181230_.pickle', 'SPT.L_3_states_features_date:_20180404_now:_20181230_.pickle', 'SPT.L_3_states_features_date:_20180420_now:_20181230_.pickle']\n",
      "   lambda_lambda  lambda_sigma  lambda_weight    sigma_sigma  sigma_weight  \\\n",
      "0  -1.755535e-12  0.000000e+00   3.479984e-13       0.000000  0.000000e+00   \n",
      "1  -2.786514e+05 -5.820766e-11   5.115908e-13   12620.911997  9.947598e-14   \n",
      "2  -2.786573e+05 -1.746230e-10   8.445037e-01   12620.911997  1.705303e-13   \n",
      "3  -2.788624e+05 -2.912234e+02   5.957561e+00 -151692.722624 -4.331833e-01   \n",
      "4  -2.789729e+05 -3.813446e+02   7.911316e+00 -150920.538099 -5.393801e-01   \n",
      "\n",
      "   weight_weight  \n",
      "0       2.132940  \n",
      "1      -5.577995  \n",
      "2      -7.791488  \n",
      "3     -14.495621  \n",
      "4     -16.819490  \n",
      "   lambda_lambda   lambda_sigma  lambda_weight   sigma_sigma  sigma_weight  \\\n",
      "0  -1.755535e-12       0.000000   3.479984e-13  0.000000e+00      0.000000   \n",
      "1  -2.292100e+02     485.184053   6.218223e+00  4.903718e+04      0.683613   \n",
      "2  -2.074535e+02    -163.210913   6.653432e+00 -5.415403e+05    -12.437550   \n",
      "3  -2.878019e+03  -67546.835736   3.412766e+01 -3.594984e+06    -91.956758   \n",
      "4  -2.864057e+05 -107717.103326   5.139252e+01 -3.303085e+06   -141.949011   \n",
      "\n",
      "   weight_weight  \n",
      "0       2.132940  \n",
      "1      -8.781635  \n",
      "2     -16.020365  \n",
      "3     -22.245213  \n",
      "4     -26.738038  \n",
      "   lambda_lambda  lambda_sigma  lambda_weight   sigma_sigma  sigma_weight  \\\n",
      "0  -1.755535e-12  0.000000e+00   3.479984e-13      0.000000  0.000000e+00   \n",
      "1  -2.786514e+05  0.000000e+00   0.000000e+00  12945.719181  5.684342e-14   \n",
      "2  -2.787099e+05 -8.731149e-11   2.544505e+00  12945.719181  2.273737e-13   \n",
      "3  -2.787872e+05  1.455192e-10   3.197278e+00  12945.719181 -1.136868e-13   \n",
      "4  -2.788198e+05  1.164153e-10   3.492569e+00  12945.719181  0.000000e+00   \n",
      "\n",
      "   weight_weight  \n",
      "0       2.132940  \n",
      "1      -5.577995  \n",
      "2      -8.009520  \n",
      "3     -10.733488  \n",
      "4     -13.388862  \n",
      "   lambda_lambda  lambda_sigma  lambda_weight    sigma_sigma  sigma_weight  \\\n",
      "0  -1.755535e-12  0.000000e+00   3.479984e-13       0.000000      0.000000   \n",
      "1  -1.148328e+02  0.000000e+00   2.932196e+00       0.000000      0.000000   \n",
      "2  -2.788348e+05 -1.164153e-10   4.940666e+00   -1387.927998      0.000000   \n",
      "3  -2.791210e+05 -6.665563e+02   1.241568e+01 -220849.173901     -0.939163   \n",
      "4  -5.581372e+05 -1.197890e+03   1.837425e+01 -566589.115890     -1.687800   \n",
      "\n",
      "   weight_weight  \n",
      "0       2.132940  \n",
      "1      -4.726308  \n",
      "2      -8.137221  \n",
      "3     -14.773020  \n",
      "4     -18.155823  \n",
      "   lambda_lambda  lambda_sigma  lambda_weight  sigma_sigma  sigma_weight  \\\n",
      "0  -1.755535e-12           0.0   3.479984e-13          0.0           0.0   \n",
      "1  -1.525690e+02           0.0   3.118602e+00          0.0           0.0   \n",
      "2  -1.340320e+02           0.0   2.715329e+00          0.0           0.0   \n",
      "3  -2.787915e+05           0.0   3.630571e+00          0.0           0.0   \n",
      "4  -2.789763e+05           0.0   7.388698e+00          0.0           0.0   \n",
      "\n",
      "   weight_weight  \n",
      "0       2.132940  \n",
      "1      -4.803840  \n",
      "2      -7.454165  \n",
      "3     -12.160454  \n",
      "4     -14.836910  \n",
      "   lambda_lambda  lambda_sigma  lambda_weight   sigma_sigma  sigma_weight  \\\n",
      "0  -1.755535e-12      0.000000   3.479984e-13  0.000000e+00      0.000000   \n",
      "1  -6.505266e+00      0.000000   8.517213e-01  0.000000e+00      0.000000   \n",
      "2  -3.703688e+02  -7776.734632   9.085083e+00 -1.506893e+06    -10.561521   \n",
      "3  -2.795016e+05 -13900.244869   1.564435e+01 -1.814650e+06    -18.877837   \n",
      "4  -5.581534e+05 -13900.015005   1.564409e+01 -1.814650e+06    -18.877513   \n",
      "\n",
      "   weight_weight  \n",
      "0       2.132940  \n",
      "1      -4.356737  \n",
      "2     -11.027338  \n",
      "3     -14.399703  \n",
      "4     -19.100389  \n",
      "   lambda_lambda  lambda_sigma  lambda_weight   sigma_sigma  sigma_weight  \\\n",
      "0  -1.755535e-12      0.000000   3.479984e-13      0.000000  0.000000e+00   \n",
      "1  -2.786514e+05      0.000000   3.437890e-10      0.000000  0.000000e+00   \n",
      "2  -2.788933e+05      0.000000   4.781435e+00      0.000000  0.000000e+00   \n",
      "3  -5.578345e+05      0.000000   8.630959e+00      0.000000  0.000000e+00   \n",
      "4  -8.364859e+05     -0.000515   8.630969e+00  13910.761764 -7.249625e-07   \n",
      "\n",
      "   weight_weight  \n",
      "0       2.132940  \n",
      "1      -6.833628  \n",
      "2      -9.516715  \n",
      "3     -14.242900  \n",
      "4     -17.687955  \n",
      "   lambda_lambda  lambda_sigma  lambda_weight    sigma_sigma  sigma_weight  \\\n",
      "0  -1.755535e-12  0.000000e+00   3.479984e-13       0.000000  0.000000e+00   \n",
      "1  -6.589131e+00  0.000000e+00   8.577491e-01       0.000000  0.000000e+00   \n",
      "2  -2.786566e+05  0.000000e+00   9.114161e-01    9284.259273  1.136868e-13   \n",
      "3  -5.573080e+05  0.000000e+00   9.114161e-01 -292829.763179  1.136868e-13   \n",
      "4  -8.359593e+05 -4.074536e-10   9.114161e-01 -333086.487813 -4.547474e-13   \n",
      "\n",
      "   weight_weight  \n",
      "0       2.132940  \n",
      "1      -4.357441  \n",
      "2      -7.768364  \n",
      "3     -11.213419  \n",
      "4     -14.658474  \n",
      "   lambda_lambda  lambda_sigma  lambda_weight   sigma_sigma  sigma_weight  \\\n",
      "0  -1.755535e-12  0.000000e+00   3.479984e-13  0.000000e+00  0.000000e+00   \n",
      "1  -2.786514e+05 -2.910383e-11   1.705303e-13  6.137403e+03  2.842171e-14   \n",
      "2  -2.791584e+05 -9.590206e+03   1.139408e+01 -1.399536e+06 -1.370198e+01   \n",
      "3  -3.223843e+05 -2.010506e+04   1.117702e+02 -1.510406e+06 -2.852072e+01   \n",
      "4  -6.427588e+05 -2.209784e+04   1.156889e+02 -1.792248e+06 -3.136455e+01   \n",
      "\n",
      "   weight_weight  \n",
      "0       2.132940  \n",
      "1      -5.577995  \n",
      "2     -12.175616  \n",
      "3     -17.403765  \n",
      "4     -20.322003  \n",
      "   lambda_lambda  lambda_sigma  lambda_weight   sigma_sigma  sigma_weight  \\\n",
      "0  -1.755535e-12  0.000000e+00   3.479984e-13      0.000000  0.000000e+00   \n",
      "1  -1.537491e+02  0.000000e+00   3.130354e+00      0.000000  0.000000e+00   \n",
      "2  -2.789521e+05  0.000000e+00   5.708865e+00  13268.957249  5.684342e-14   \n",
      "3  -5.576035e+05  1.164153e-10   5.708865e+00  26537.914498 -5.684342e-14   \n",
      "4  -8.362549e+05 -2.328306e-10   5.708865e+00 -73425.450874  0.000000e+00   \n",
      "\n",
      "   weight_weight  \n",
      "0       2.132940  \n",
      "1      -4.805358  \n",
      "2      -8.267144  \n",
      "3     -11.712199  \n",
      "4     -15.157254  \n",
      "   lambda_lambda  lambda_sigma  lambda_weight   sigma_sigma  sigma_weight  \\\n",
      "0  -1.755535e-12  0.000000e+00   3.479984e-13      0.000000  0.000000e+00   \n",
      "1  -6.505266e+00  0.000000e+00   8.517213e-01      0.000000  0.000000e+00   \n",
      "2  -2.786565e+05  0.000000e+00   9.041992e-01   9284.259273  0.000000e+00   \n",
      "3  -5.573079e+05  2.328306e-10   9.041992e-01  18909.590279 -5.684342e-14   \n",
      "4  -5.573137e+05 -2.095476e-09   1.742016e+00  18909.590279  3.979039e-13   \n",
      "\n",
      "   weight_weight  \n",
      "0       2.132940  \n",
      "1      -4.356737  \n",
      "2      -7.767887  \n",
      "3     -11.212943  \n",
      "4     -13.425748  \n",
      "   lambda_lambda  lambda_sigma  lambda_weight    sigma_sigma  sigma_weight  \\\n",
      "0  -1.755535e-12      0.000000   3.479984e-13       0.000000      0.000000   \n",
      "1  -2.786514e+05      0.000000   1.136868e-13       0.000000      0.000000   \n",
      "2  -5.573028e+05      0.000000   4.547474e-13       0.000000      0.000000   \n",
      "3  -8.359542e+05      0.000000   0.000000e+00   12945.719181      0.000000   \n",
      "4  -8.359674e+05   -207.679139   2.944465e+00 -276453.184551     -4.886954   \n",
      "\n",
      "   weight_weight  \n",
      "0       2.132940  \n",
      "1      -6.833628  \n",
      "2     -11.534316  \n",
      "3     -14.979371  \n",
      "4     -24.310489  \n",
      "   lambda_lambda  lambda_sigma  lambda_weight    sigma_sigma  sigma_weight  \\\n",
      "0  -1.755535e-12      0.000000   3.479984e-13       0.000000      0.000000   \n",
      "1  -1.205502e+02      0.000000   2.967265e+00       0.000000      0.000000   \n",
      "2  -1.756220e+02      0.000000   4.406331e+00       0.000000      0.000000   \n",
      "3  -1.304560e+03  -1308.243817   2.169183e+01 -179920.103835     -1.725720   \n",
      "4  -2.818518e+05  -2226.652361   3.428234e+01 -171758.343072     -2.937203   \n",
      "\n",
      "   weight_weight  \n",
      "0       2.132940  \n",
      "1      -4.738744  \n",
      "2      -7.045495  \n",
      "3     -13.630362  \n",
      "4     -18.175011  \n",
      "   lambda_lambda  lambda_sigma  lambda_weight   sigma_sigma  sigma_weight  \\\n",
      "0  -1.755535e-12  0.000000e+00   3.479984e-13      0.000000           0.0   \n",
      "1  -1.525433e+02  0.000000e+00   3.118493e+00      0.000000           0.0   \n",
      "2  -2.789483e+05  0.000000e+00   5.680051e+00      0.000000           0.0   \n",
      "3  -5.575997e+05  0.000000e+00   5.680051e+00      0.000000           0.0   \n",
      "4  -8.362510e+05 -5.820766e-11   5.680051e+00  13910.766318           0.0   \n",
      "\n",
      "   weight_weight  \n",
      "0       2.132940  \n",
      "1      -4.803792  \n",
      "2      -9.519918  \n",
      "3     -14.220606  \n",
      "4     -17.665661  \n",
      "   lambda_lambda  lambda_sigma  lambda_weight  sigma_sigma  sigma_weight  \\\n",
      "0  -1.755535e-12           0.0   3.479984e-13          0.0           0.0   \n",
      "1  -2.786514e+05           0.0   0.000000e+00          0.0           0.0   \n",
      "2  -5.573028e+05           0.0   2.273737e-13          0.0           0.0   \n",
      "3  -5.574755e+05           0.0   3.538442e+00          0.0           0.0   \n",
      "4  -8.363025e+05           0.0   6.426339e+00          0.0           0.0   \n",
      "\n",
      "   weight_weight  \n",
      "0       2.132940  \n",
      "1      -6.833628  \n",
      "2     -11.534316  \n",
      "3     -14.207519  \n",
      "4     -18.925584  \n",
      "   lambda_lambda  lambda_sigma  lambda_weight    sigma_sigma  sigma_weight  \\\n",
      "0  -1.755535e-12  0.000000e+00   3.479984e-13       0.000000      0.000000   \n",
      "1  -1.528020e+02  0.000000e+00   3.119614e+00       0.000000      0.000000   \n",
      "2  -2.789492e+05  1.455192e-11   5.684479e+00    7903.003698      0.000000   \n",
      "3  -2.792281e+05 -4.840586e+02   1.300953e+01 -174598.746687     -0.686131   \n",
      "4  -2.793968e+05 -6.397998e+02   1.555715e+01 -173326.374612     -0.859335   \n",
      "\n",
      "   weight_weight  \n",
      "0       2.132940  \n",
      "1      -4.804273  \n",
      "2      -8.265163  \n",
      "3     -14.902902  \n",
      "4     -17.211515  \n"
     ]
    }
   ],
   "source": [
    "date\n",
    "date_symbol_features = os.path.join(features_only_path, symbol, 'MODEL_BASED', date)\n",
    "date_symbol_features\n",
    "date_feature_list= os.listdir(date_symbol_features)\n",
    "print date_feature_list\n",
    "for idx, _ in enumerate(date_feature_list):\n",
    "     open_pickle_file(path=date_symbol_features, pickle_file=date_feature_list[idx])[1]"
   ]
  },
  {
   "cell_type": "code",
   "execution_count": 189,
   "metadata": {},
   "outputs": [
    {
     "name": "stdout",
     "output_type": "stream",
     "text": [
      "SPT.L_3_states_features_date:_20180413_now:_20181230_.pickle\n",
      "SPT.L_3_states_features_date:_20180419_now:_20181230_.pickle\n",
      "SPT.L_3_states_features_date:_20180305_now:_20181230_.pickle\n",
      "SPT.L_3_states_features_date:_20180409_now:_20181230_.pickle\n",
      "SPT.L_3_states_features_date:_20180328_now:_20181230_.pickle\n",
      "SPT.L_3_states_features_date:_20180406_now:_20181230_.pickle\n",
      "SPT.L_3_states_features_date:_20180326_now:_20181230_.pickle\n",
      "SPT.L_3_states_features_date:_20180319_now:_20181230_.pickle\n",
      "SPT.L_3_states_features_date:_20180308_now:_20181230_.pickle\n",
      "SPT.L_3_states_features_date:_20180323_now:_20181230_.pickle\n",
      "SPT.L_3_states_features_date:_20180302_now:_20181230_.pickle\n",
      "SPT.L_3_states_features_date:_20170922_now:_20181230_.pickle\n",
      "SPT.L_3_states_features_date:_20180403_now:_20181230_.pickle\n",
      "SPT.L_3_states_features_date:_20170915_now:_20181230_.pickle\n",
      "SPT.L_3_states_features_date:_20170921_now:_20181230_.pickle\n",
      "SPT.L_3_states_features_date:_20180320_now:_20181230_.pickle\n",
      "SPT.L_3_states_features_date:_20170913_now:_20181230_.pickle\n",
      "SPT.L_3_states_features_date:_20180301_now:_20181230_.pickle\n",
      "SPT.L_3_states_features_date:_20170920_now:_20181230_.pickle\n",
      "SPT.L_3_states_features_date:_20170928_now:_20181230_.pickle\n",
      "SPT.L_3_states_features_date:_20170929_now:_20181230_.pickle\n",
      "SPT.L_3_states_features_date:_20180410_now:_20181230_.pickle\n",
      "SPT.L_3_states_features_date:_20180316_now:_20181230_.pickle\n",
      "SPT.L_3_states_features_date:_20180322_now:_20181230_.pickle\n",
      "SPT.L_3_states_features_date:_20170912_now:_20181230_.pickle\n",
      "SPT.L_3_states_features_date:_20180327_now:_20181230_.pickle\n",
      "SPT.L_3_states_features_date:_20180306_now:_20181230_.pickle\n",
      "SPT.L_3_states_features_date:_20180312_now:_20181230_.pickle\n",
      "SPT.L_3_states_features_date:_20180307_now:_20181230_.pickle\n",
      "SPT.L_3_states_features_date:_20170911_now:_20181230_.pickle\n",
      "SPT.L_3_states_features_date:_20170926_now:_20181230_.pickle\n",
      "SPT.L_3_states_features_date:_20170919_now:_20181230_.pickle\n",
      "SPT.L_3_states_features_date:_20180417_now:_20181230_.pickle\n",
      "SPT.L_3_states_features_date:_20170925_now:_20181230_.pickle\n",
      "SPT.L_3_states_features_date:_20180315_now:_20181230_.pickle\n",
      "SPT.L_3_states_features_date:_20180329_now:_20181230_.pickle\n",
      "SPT.L_3_states_features_date:_20180411_now:_20181230_.pickle\n",
      "SPT.L_3_states_features_date:_20180309_now:_20181230_.pickle\n",
      "SPT.L_3_states_features_date:_20180405_now:_20181230_.pickle\n",
      "SPT.L_3_states_features_date:_20180416_now:_20181230_.pickle\n",
      "SPT.L_3_states_features_date:_20180313_now:_20181230_.pickle\n",
      "SPT.L_3_states_features_date:_20180418_now:_20181230_.pickle\n",
      "SPT.L_3_states_features_date:_20180314_now:_20181230_.pickle\n",
      "SPT.L_3_states_features_date:_20180321_now:_20181230_.pickle\n",
      "SPT.L_3_states_features_date:_20170918_now:_20181230_.pickle\n",
      "SPT.L_3_states_features_date:_20180412_now:_20181230_.pickle\n",
      "SPT.L_3_states_features_date:_20170914_now:_20181230_.pickle\n",
      "SPT.L_3_states_features_date:_20180404_now:_20181230_.pickle\n",
      "SPT.L_3_states_features_date:_20170927_now:_20181230_.pickle\n",
      "SPT.L_3_states_features_date:_20180420_now:_20181230_.pickle\n"
     ]
    }
   ],
   "source": [
    "# for idx, date  in enumerate(symbol_model_features):\n",
    "#     print os.listdir(os.path.join(features_only_path, symbol, 'MODEL_BASED', date))\n",
    "date_feature_list= os.listdir(date_symbol_features)\n",
    "for idx, _ in enumerate(date_feature_list):\n",
    "    print date_feature_list[idx]"
   ]
  },
  {
   "cell_type": "code",
   "execution_count": null,
   "metadata": {},
   "outputs": [],
   "source": []
  },
  {
   "cell_type": "markdown",
   "metadata": {},
   "source": []
  },
  {
   "cell_type": "code",
   "execution_count": null,
   "metadata": {},
   "outputs": [],
   "source": []
  },
  {
   "cell_type": "raw",
   "metadata": {},
   "source": [
    "[symbol_labels_list[idx].split(\".\")[0] for idx, _ in enumerate(symbol_labels_list)]"
   ]
  },
  {
   "cell_type": "code",
   "execution_count": 69,
   "metadata": {},
   "outputs": [],
   "source": [
    "duration=pd.read_csv(file_location,index_col=0)['Duration']\n",
    "non_directional_labels = pd.read_csv(file_location,index_col=0)['label_PrMov__window_25__thres_arbitrary__10.0'] #this is a problem\n",
    "df = pd.read_csv(file_location,index_col=0)\n",
    "features_dates_dir= os.listdir(symbol_features_path)#\n",
    "# path for a specific hmm model date --- out of sample pickle files\n",
    "pickle_features_path= os.path.join(symbol_features_path, features_dates_dir[1])"
   ]
  },
  {
   "cell_type": "code",
   "execution_count": 70,
   "metadata": {},
   "outputs": [
    {
     "data": {
      "text/plain": [
       "['MKS.L_3_states_features_date:_20180412_now:_20181225_.pickle',\n",
       " 'MKS.L_3_states_features_date:_20180419_now:_20181225_.pickle',\n",
       " 'MKS.L_3_states_features_date:_20180409_now:_20181225_.pickle',\n",
       " 'MKS.L_3_states_features_date:_20180420_now:_20181225_.pickle',\n",
       " 'MKS.L_3_states_features_date:_20180406_now:_20181225_.pickle',\n",
       " 'MKS.L_3_states_features_date:_20180413_now:_20181225_.pickle',\n",
       " 'MKS.L_3_states_features_date:_20180411_now:_20181225_.pickle',\n",
       " 'MKS.L_3_states_features_date:_20180418_now:_20181225_.pickle',\n",
       " 'MKS.L_3_states_features_date:_20180416_now:_20181225_.pickle',\n",
       " 'MKS.L_3_states_features_date:_20180410_now:_20181225_.pickle',\n",
       " 'MKS.L_3_states_features_date:_20180417_now:_20181225_.pickle']"
      ]
     },
     "execution_count": 70,
     "metadata": {},
     "output_type": "execute_result"
    }
   ],
   "source": [
    "os.listdir(pickle_features_path)"
   ]
  },
  {
   "cell_type": "code",
   "execution_count": 27,
   "metadata": {},
   "outputs": [],
   "source": [
    "# 'III.L_3_states_features_date:_20171024_now:_20181226_\n",
    "compute_date= '20181226'\n",
    "date= features_dates_dir[5]\n",
    "features_pickle_file = \"_\".join((symbol,'3_states_features_date:',features_dates_dir[5],'now:',compute_date,'.pickle'))"
   ]
  },
  {
   "cell_type": "code",
   "execution_count": 28,
   "metadata": {},
   "outputs": [],
   "source": [
    "model_features =open_pickle_file(pickle_features_path,features_pickle_file) #tuple for all the HMM- model features"
   ]
  },
  {
   "cell_type": "code",
   "execution_count": 35,
   "metadata": {},
   "outputs": [],
   "source": [
    "market_features_path = os.path.join(data_only_drive,'Data','features_models',symbol,'MARKET_BASED')"
   ]
  },
  {
   "cell_type": "code",
   "execution_count": 37,
   "metadata": {},
   "outputs": [],
   "source": [
    "market_features= os.path.join(market_features_path, date)"
   ]
  },
  {
   "cell_type": "code",
   "execution_count": 38,
   "metadata": {},
   "outputs": [],
   "source": [
    "if os.path.isfile(market_features):\n",
    "    pd.read_csv(market_features)\n",
    "else:\n",
    "    pass"
   ]
  },
  {
   "cell_type": "code",
   "execution_count": 45,
   "metadata": {},
   "outputs": [],
   "source": [
    "market_features_dates= [os.listdir(market_features_path)[idx].split(\".\")[0] for idx, _ in enumerate(market_features_path)]"
   ]
  },
  {
   "cell_type": "code",
   "execution_count": 47,
   "metadata": {},
   "outputs": [],
   "source": [
    "def common_member(a, b): \n",
    "      \n",
    "    a_set = set(a) \n",
    "    b_set = set(b) \n",
    "      \n",
    "    # check length  \n",
    "    if len(a_set.intersection(b_set)) > 0: \n",
    "        return(a_set.intersection(b_set))   \n",
    "    else: \n",
    "        return(\"no common elements\") "
   ]
  },
  {
   "cell_type": "code",
   "execution_count": 53,
   "metadata": {},
   "outputs": [],
   "source": [
    "common_elements=list(common_member(features_dates_dir, market_features_dates))"
   ]
  },
  {
   "cell_type": "code",
   "execution_count": 54,
   "metadata": {},
   "outputs": [
    {
     "data": {
      "text/plain": [
       "90"
      ]
     },
     "execution_count": 54,
     "metadata": {},
     "output_type": "execute_result"
    }
   ],
   "source": [
    "len(common_elements)"
   ]
  },
  {
   "cell_type": "code",
   "execution_count": 55,
   "metadata": {},
   "outputs": [
    {
     "data": {
      "text/plain": [
       "120"
      ]
     },
     "execution_count": 55,
     "metadata": {},
     "output_type": "execute_result"
    }
   ],
   "source": [
    "len(features_dates_dir)"
   ]
  },
  {
   "cell_type": "code",
   "execution_count": 56,
   "metadata": {},
   "outputs": [
    {
     "data": {
      "text/plain": [
       "90"
      ]
     },
     "execution_count": 56,
     "metadata": {},
     "output_type": "execute_result"
    }
   ],
   "source": [
    "len(market_features_dates)"
   ]
  },
  {
   "cell_type": "code",
   "execution_count": null,
   "metadata": {},
   "outputs": [],
   "source": []
  }
 ],
 "metadata": {
  "kernelspec": {
   "display_name": "Python 2",
   "language": "python",
   "name": "python2"
  },
  "language_info": {
   "codemirror_mode": {
    "name": "ipython",
    "version": 2
   },
   "file_extension": ".py",
   "mimetype": "text/x-python",
   "name": "python",
   "nbconvert_exporter": "python",
   "pygments_lexer": "ipython2",
   "version": "2.7.15rc1"
  }
 },
 "nbformat": 4,
 "nbformat_minor": 2
}
