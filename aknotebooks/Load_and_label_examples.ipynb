{
 "cells": [
  {
   "cell_type": "code",
   "execution_count": 1,
   "metadata": {},
   "outputs": [],
   "source": [
    "import numpy as np \n",
    "import pandas as pd \n",
    "import sys\n",
    "sys.path.append('/home/ak/Documents/Research/hsmm/')\n",
    "\n",
    "from IPython.display import Markdown\n",
    "import datetime as dt \n",
    "from hsmm_core.data_utils import get_files_for_ticker, load_data\n",
    "ticker = 'AAL'\n",
    "import os"
   ]
  },
  {
   "cell_type": "markdown",
   "metadata": {},
   "source": [
    "# Downloading data"
   ]
  },
  {
   "cell_type": "code",
   "execution_count": 2,
   "metadata": {},
   "outputs": [
    {
     "data": {
      "text/markdown": [
       " **The function that loads data is still called load_data. The basic arguments \n",
       "to this function is the name of the ticker (that corresponds to the sub folder locally on disk)\n",
       "and optionally dates by which i can filter the loaded data.**\n"
      ],
      "text/plain": [
       "<IPython.core.display.Markdown object>"
      ]
     },
     "execution_count": 2,
     "metadata": {},
     "output_type": "execute_result"
    }
   ],
   "source": [
    "Markdown(\"\"\" **The function that loads data is still called load_data. The basic arguments \n",
    "to this function is the name of the ticker (that corresponds to the sub folder locally on disk)\n",
    "and optionally dates by which i can filter the loaded data.**\n",
    "\"\"\")"
   ]
  },
  {
   "cell_type": "code",
   "execution_count": 3,
   "metadata": {},
   "outputs": [
    {
     "data": {
      "text/markdown": [
       " **Calling it with simply the ticker name will return all dates available for the \n",
       "ticker**"
      ],
      "text/plain": [
       "<IPython.core.display.Markdown object>"
      ]
     },
     "execution_count": 3,
     "metadata": {},
     "output_type": "execute_result"
    }
   ],
   "source": [
    "Markdown(\"\"\" **Calling it with simply the ticker name will return all dates available for the \n",
    "ticker**\"\"\")"
   ]
  },
  {
   "cell_type": "code",
   "execution_count": 4,
   "metadata": {},
   "outputs": [],
   "source": [
    "data1 = load_data(ticker) "
   ]
  },
  {
   "cell_type": "code",
   "execution_count": 5,
   "metadata": {},
   "outputs": [
    {
     "data": {
      "text/plain": [
       "['20170125',\n",
       " '20170124',\n",
       " '20170127',\n",
       " '20170126',\n",
       " '20170120',\n",
       " '20170123',\n",
       " '20180412',\n",
       " '20180413',\n",
       " '20180410',\n",
       " '20180411',\n",
       " '20180416',\n",
       " '20180417',\n",
       " '20180418',\n",
       " '20180219',\n",
       " '20180419',\n",
       " '20180202',\n",
       " '20170118',\n",
       " '20180212',\n",
       " '20180213',\n",
       " '20180214',\n",
       " '20180215',\n",
       " '20180216',\n",
       " '20170130',\n",
       " '20170131',\n",
       " '20180409',\n",
       " '20170119',\n",
       " '20170117',\n",
       " '20180405',\n",
       " '20180404',\n",
       " '20170116',\n",
       " '20180406',\n",
       " '20180403',\n",
       " '20180221',\n",
       " '20180220',\n",
       " '20180209',\n",
       " '20180208',\n",
       " '20180227',\n",
       " '20180226',\n",
       " '20180228',\n",
       " '20180201',\n",
       " '20180207',\n",
       " '20180206',\n",
       " '20180205',\n",
       " '20180223',\n",
       " '20180420',\n",
       " '20180222']"
      ]
     },
     "execution_count": 5,
     "metadata": {},
     "output_type": "execute_result"
    }
   ],
   "source": [
    "data1.keys() #function produces dictionaries"
   ]
  },
  {
   "cell_type": "code",
   "execution_count": 6,
   "metadata": {},
   "outputs": [
    {
     "data": {
      "text/markdown": [
       " **If a given date range is required, that can be passed as arguments to the \n",
       "loading function. Dates can be passed as datetime objects or strings in format YYYYMMDD**"
      ],
      "text/plain": [
       "<IPython.core.display.Markdown object>"
      ]
     },
     "execution_count": 6,
     "metadata": {},
     "output_type": "execute_result"
    }
   ],
   "source": [
    "Markdown(\"\"\" **If a given date range is required, that can be passed as arguments to the \n",
    "loading function. Dates can be passed as datetime objects or strings in format YYYYMMDD**\"\"\")"
   ]
  },
  {
   "cell_type": "code",
   "execution_count": 7,
   "metadata": {},
   "outputs": [],
   "source": [
    "?load_data"
   ]
  },
  {
   "cell_type": "code",
   "execution_count": 8,
   "metadata": {},
   "outputs": [],
   "source": [
    "start = '20180220' \n",
    "end  = '20180418' \n",
    "data2 = load_data(ticker, start_date=start, end_date=end)\n"
   ]
  },
  {
   "cell_type": "code",
   "execution_count": 9,
   "metadata": {},
   "outputs": [
    {
     "data": {
      "text/markdown": [
       " **When labelling data, the labeller has two levels of \n",
       "configuration, the first mandatory and the second optional and contigent \n",
       "on the selections of the first level. At the first level one needs to \n",
       "choose:** \n",
       "\n",
       "- **labelling_method**: How do i compare the current row \n",
       "to upcoming rows to decide whether it should be labelled as an up move\n",
       "down move or nothing. One can choose to compare the start and end point \n",
       "of an interval / the start point to all points in an interval / the \n",
       "start point to an average value in an interval. Moreover at this stage we make a choice of \n",
       "whether we want to use absolute level of comparison. This will be apparent by the name \n",
       "of the labelling method as it will have one of the suffixes: '_abs'/ '_pct'.  \n",
       "\n",
       "- **thrshd_method:** How to calculate the % level that \n",
       "constitutes an up move (down move). One can choose to use an arbitrary \n",
       "level (hard coded) or to calculate an adaptive level based on historical\n",
       "vol.\n"
      ],
      "text/plain": [
       "<IPython.core.display.Markdown object>"
      ]
     },
     "execution_count": 9,
     "metadata": {},
     "output_type": "execute_result"
    }
   ],
   "source": [
    "Markdown(\"\"\" **When labelling data, the labeller has two levels of \n",
    "configuration, the first mandatory and the second optional and contigent \n",
    "on the selections of the first level. At the first level one needs to \n",
    "choose:** \n",
    "\n",
    "- **labelling_method**: How do i compare the current row \n",
    "to upcoming rows to decide whether it should be labelled as an up move\n",
    "down move or nothing. One can choose to compare the start and end point \n",
    "of an interval / the start point to all points in an interval / the \n",
    "start point to an average value in an interval. Moreover at this stage we make a choice of \n",
    "whether we want to use absolute level of comparison. This will be apparent by the name \n",
    "of the labelling method as it will have one of the suffixes: '_abs'/ '_pct'.  \n",
    "\n",
    "- **thrshd_method:** How to calculate the % level that \n",
    "constitutes an up move (down move). One can choose to use an arbitrary \n",
    "level (hard coded) or to calculate an adaptive level based on historical\n",
    "vol.\n",
    "\"\"\")"
   ]
  },
  {
   "cell_type": "code",
   "execution_count": 10,
   "metadata": {},
   "outputs": [
    {
     "data": {
      "text/markdown": [
       " **If one chooses to threshold up/down moves by some method \n",
       "that depends on historical vol, a second level of configuration \n",
       "is required that will set the following variables:**\n",
       "\n",
       "- **thrshd_vol_window:** How many days to use too calculate the a\n",
       "average used for historical vol. \n",
       "\n",
       "- **updown_thrshd_vol_pct:** What perecent of the historical vol consitutes \n",
       "an up move/down move"
      ],
      "text/plain": [
       "<IPython.core.display.Markdown object>"
      ]
     },
     "execution_count": 10,
     "metadata": {},
     "output_type": "execute_result"
    }
   ],
   "source": [
    "Markdown(\"\"\" **If one chooses to threshold up/down moves by some method \n",
    "that depends on historical vol, a second level of configuration \n",
    "is required that will set the following variables:**\n",
    "\n",
    "- **thrshd_vol_window:** How many days to use too calculate the a\n",
    "average used for historical vol. \n",
    "\n",
    "- **updown_thrshd_vol_pct:** What perecent of the historical vol consitutes \n",
    "an up move/down move\"\"\")"
   ]
  },
  {
   "cell_type": "code",
   "execution_count": 11,
   "metadata": {},
   "outputs": [
    {
     "data": {
      "text/markdown": [
       " **Let us create an working example. We 'd like to \n",
       "label points as:** \n",
       "\n",
       "- Compare the start and end point of an interval including 10 trades\n",
       " **<-- labelling window is 10 and our labelling method is simple_ep.** \n",
       "\n",
       "-Set the absolute level of up or down move as the 10% of averaged historical vol of \n",
       "last 5 days (simple average) **<-- thrshd_method is historical_vol_ma, updown_thrshd_vol_pct \n",
       "is 10, thrshd_vol_window is 5.**\n"
      ],
      "text/plain": [
       "<IPython.core.display.Markdown object>"
      ]
     },
     "execution_count": 11,
     "metadata": {},
     "output_type": "execute_result"
    }
   ],
   "source": [
    "Markdown(\"\"\" **Let us create an working example. We 'd like to \n",
    "label points as:** \n",
    "\n",
    "- Compare the start and end point of an interval including 10 trades\n",
    " **<-- labelling window is 10 and our labelling method is simple_ep.** \n",
    "\n",
    "-Set the absolute level of up or down move as the 10% of averaged historical vol of \n",
    "last 5 days (simple average) **<-- thrshd_method is historical_vol_ma, updown_thrshd_vol_pct \n",
    "is 10, thrshd_vol_window is 5.**\n",
    "\"\"\")"
   ]
  },
  {
   "cell_type": "code",
   "execution_count": 12,
   "metadata": {},
   "outputs": [],
   "source": [
    "from hsmm_core.consts import LabellingChoice, ThresholdMethod \n",
    "from hsmm_core.labelling import DataLabellingSimple \n",
    "\n",
    "\n",
    "labeller = DataLabellingSimple(\n",
    "                    # Style of labelling method - Here we compare rolling \n",
    "                    # intervals end points in absolute terms \n",
    "                    labelling_method=LabellingChoice.simple_ep_abs, \n",
    "                    # Window for labelling method= Number of look ahead trades that control up /down move\n",
    "                    rolling_window=5,\n",
    "                    # Calculate threshold by means of moving average historical vol\n",
    "                    thrshd_method=ThresholdMethod.historical_vol_ma,\n",
    "                    # Use the last 5 days for the above average. \n",
    "                    thrshd_vol_window=5,\n",
    "                    # Pct of historical vol to use for threshold, i.e. 0.1 * historical vol\n",
    "                    updown_thrshd_vol_pct=10.)\n"
   ]
  },
  {
   "cell_type": "code",
   "execution_count": 13,
   "metadata": {},
   "outputs": [
    {
     "name": "stderr",
     "output_type": "stream",
     "text": [
      "/home/ak/virtualenvs/DataAnalysis/local/lib/python2.7/site-packages/numpy/core/fromnumeric.py:2957: RuntimeWarning: Mean of empty slice.\n",
      "  out=out, **kwargs)\n",
      "/home/ak/virtualenvs/DataAnalysis/local/lib/python2.7/site-packages/numpy/core/_methods.py:80: RuntimeWarning: invalid value encountered in double_scalars\n",
      "  ret = ret.dtype.type(ret / rcount)\n",
      "/home/ak/Documents/Research/hsmm/hsmm_core/labelling.py:280: FutureWarning: Currently, 'apply' passes the values as ndarrays to the applied function. In the future, this will change to passing it as Series objects. You need to specify 'raw=True' to keep the current behaviour, and you can pass 'raw=False' to silence this warning\n",
      "  apply(lambda row: self.label_func_(row, effective_threshold))[::-1]\n"
     ]
    }
   ],
   "source": [
    "labeller.label_training_data(data1)  "
   ]
  },
  {
   "cell_type": "code",
   "execution_count": 14,
   "metadata": {},
   "outputs": [
    {
     "data": {
      "text/plain": [
       "['20170116',\n",
       " '20170117',\n",
       " '20170118',\n",
       " '20170119',\n",
       " '20170120',\n",
       " '20170123',\n",
       " '20170124',\n",
       " '20170125',\n",
       " '20170126',\n",
       " '20170127',\n",
       " '20170130',\n",
       " '20170131',\n",
       " '20180201',\n",
       " '20180202',\n",
       " '20180205',\n",
       " '20180206',\n",
       " '20180207',\n",
       " '20180208',\n",
       " '20180209',\n",
       " '20180212',\n",
       " '20180213',\n",
       " '20180214',\n",
       " '20180215',\n",
       " '20180216',\n",
       " '20180219',\n",
       " '20180220',\n",
       " '20180221',\n",
       " '20180222',\n",
       " '20180223',\n",
       " '20180226',\n",
       " '20180227',\n",
       " '20180228',\n",
       " '20180403',\n",
       " '20180404',\n",
       " '20180405',\n",
       " '20180406',\n",
       " '20180409',\n",
       " '20180410',\n",
       " '20180411',\n",
       " '20180412',\n",
       " '20180413',\n",
       " '20180416',\n",
       " '20180417',\n",
       " '20180418',\n",
       " '20180419',\n",
       " '20180420']"
      ]
     },
     "execution_count": 14,
     "metadata": {},
     "output_type": "execute_result"
    }
   ],
   "source": [
    "labeller.__dict__['available_dates_for_ticker_']['AAL']"
   ]
  },
  {
   "cell_type": "code",
   "execution_count": 15,
   "metadata": {
    "scrolled": true
   },
   "outputs": [
    {
     "data": {
      "text/markdown": [
       " **Here is another example, where we dont use the historical vol at all. Instead \n",
       "we set an arbitrary level as a pct of price change (notice how this is reflected to \n",
       "the name of hte labelling method). We still just compare the end points of \n",
       "a rolling interval. Here we use 1 %**"
      ],
      "text/plain": [
       "<IPython.core.display.Markdown object>"
      ]
     },
     "execution_count": 15,
     "metadata": {},
     "output_type": "execute_result"
    }
   ],
   "source": [
    " Markdown(\"\"\" **Here is another example, where we dont use the historical vol at all. Instead \n",
    "we set an arbitrary level as a pct of price change (notice how this is reflected to \n",
    "the name of hte labelling method). We still just compare the end points of \n",
    "a rolling interval. Here we use 1 %**\"\"\") "
   ]
  },
  {
   "cell_type": "code",
   "execution_count": null,
   "metadata": {},
   "outputs": [],
   "source": []
  },
  {
   "cell_type": "code",
   "execution_count": null,
   "metadata": {},
   "outputs": [],
   "source": []
  },
  {
   "cell_type": "code",
   "execution_count": 50,
   "metadata": {},
   "outputs": [
    {
     "ename": "TypeError",
     "evalue": "__init__() got an unexpected keyword argument 'updown_thrshd_pct'",
     "output_type": "error",
     "traceback": [
      "\u001b[0;31m---------------------------------------------------------------------------\u001b[0m",
      "\u001b[0;31mTypeError\u001b[0m                                 Traceback (most recent call last)",
      "\u001b[0;32m<ipython-input-50-c0d43b94a667>\u001b[0m in \u001b[0;36m<module>\u001b[0;34m()\u001b[0m\n\u001b[1;32m      8\u001b[0m                     \u001b[0mthrshd_method\u001b[0m\u001b[0;34m=\u001b[0m\u001b[0mThresholdMethod\u001b[0m\u001b[0;34m.\u001b[0m\u001b[0marbitrary\u001b[0m\u001b[0;34m,\u001b[0m\u001b[0;34m\u001b[0m\u001b[0m\n\u001b[1;32m      9\u001b[0m                     \u001b[0;31m# Use the last 5 days for the above average.\u001b[0m\u001b[0;34m\u001b[0m\u001b[0;34m\u001b[0m\u001b[0m\n\u001b[0;32m---> 10\u001b[0;31m                     updown_thrshd_pct=1.)\n\u001b[0m",
      "\u001b[0;31mTypeError\u001b[0m: __init__() got an unexpected keyword argument 'updown_thrshd_pct'"
     ]
    }
   ],
   "source": [
    "labeller = DataLabellingSimple(\n",
    "                    # Style of labelling method - Here we compare rolling \n",
    "                    # inervals end points in absolute terms \n",
    "                    labelling_method=LabellingChoice.simple_ep_abs, \n",
    "                    # Window for labelling method= Number of look ahead trades that control up /down move\n",
    "                    rolling_window= 15,\n",
    "                    # Calculate threshold by means of moving average historical vol\n",
    "                    thrshd_method=ThresholdMethod.arbitrary,\n",
    "                    # Use the last 5 days for the above average. \n",
    "                    updown_thrshd_pct=1.)"
   ]
  },
  {
   "cell_type": "code",
   "execution_count": null,
   "metadata": {},
   "outputs": [],
   "source": []
  },
  {
   "cell_type": "code",
   "execution_count": 49,
   "metadata": {},
   "outputs": [
    {
     "ename": "AttributeError",
     "evalue": "'DataLabellingSimple' object has no attribute 'updown_thrshd_pct_'",
     "output_type": "error",
     "traceback": [
      "\u001b[0;31m---------------------------------------------------------------------------\u001b[0m",
      "\u001b[0;31mAttributeError\u001b[0m                            Traceback (most recent call last)",
      "\u001b[0;32m<ipython-input-49-8cc808c5571c>\u001b[0m in \u001b[0;36m<module>\u001b[0;34m()\u001b[0m\n\u001b[0;32m----> 1\u001b[0;31m \u001b[0mlabeller\u001b[0m\u001b[0;34m.\u001b[0m\u001b[0mlabel_training_data\u001b[0m\u001b[0;34m(\u001b[0m\u001b[0mdata2\u001b[0m\u001b[0;34m)\u001b[0m\u001b[0;34m\u001b[0m\u001b[0m\n\u001b[0m",
      "\u001b[0;32m/home/ak/Documents/Research/hsmm/hsmm_core/labelling.pyc\u001b[0m in \u001b[0;36mlabel_training_data\u001b[0;34m(self, all_data)\u001b[0m\n\u001b[1;32m    258\u001b[0m         \u001b[0;34m:\u001b[0m\u001b[0;32mreturn\u001b[0m\u001b[0;34m:\u001b[0m\u001b[0;34m\u001b[0m\u001b[0m\n\u001b[1;32m    259\u001b[0m         \"\"\"\n\u001b[0;32m--> 260\u001b[0;31m         \u001b[0mlabel_full_name\u001b[0m \u001b[0;34m=\u001b[0m \u001b[0mself\u001b[0m\u001b[0;34m.\u001b[0m\u001b[0mget_label_name\u001b[0m\u001b[0;34m(\u001b[0m\u001b[0;34m)\u001b[0m\u001b[0;34m\u001b[0m\u001b[0m\n\u001b[0m\u001b[1;32m    261\u001b[0m \u001b[0;34m\u001b[0m\u001b[0m\n\u001b[1;32m    262\u001b[0m         if self.labelling_method_ in [LabellingChoice.simple_ma_pct,\n",
      "\u001b[0;32m/home/ak/Documents/Research/hsmm/hsmm_core/labelling.pyc\u001b[0m in \u001b[0;36mget_label_name\u001b[0;34m(self)\u001b[0m\n\u001b[1;32m    170\u001b[0m             \u001b[0;32mreturn\u001b[0m \u001b[0;34m\"label_{}__window_{}__thres_{}__pct_{:.1f}\"\u001b[0m\u001b[0;34m.\u001b[0m\u001b[0;31m\\\u001b[0m\u001b[0;34m\u001b[0m\u001b[0m\n\u001b[1;32m    171\u001b[0m                 format(str(self.labelling_method_.name), self.rolling_window_,\n\u001b[0;32m--> 172\u001b[0;31m                        self.thrshd_method_.name, 100 * self.updown_thrshd_pct_)\n\u001b[0m\u001b[1;32m    173\u001b[0m         \u001b[0;32melse\u001b[0m\u001b[0;34m:\u001b[0m\u001b[0;34m\u001b[0m\u001b[0m\n\u001b[1;32m    174\u001b[0m             \u001b[0;32mreturn\u001b[0m \u001b[0;34m\"label_{}__window_{}__thres_{}__vol_pct_{:.1f}\"\u001b[0m\u001b[0;34m.\u001b[0m\u001b[0;31m\\\u001b[0m\u001b[0;34m\u001b[0m\u001b[0m\n",
      "\u001b[0;31mAttributeError\u001b[0m: 'DataLabellingSimple' object has no attribute 'updown_thrshd_pct_'"
     ]
    }
   ],
   "source": [
    "labeller.label_training_data(data2) \n"
   ]
  },
  {
   "cell_type": "code",
   "execution_count": 20,
   "metadata": {},
   "outputs": [
    {
     "data": {
      "text/plain": [
       "<hsmm_core.labelling.DataLabellingSimple at 0x7f2df580a2d0>"
      ]
     },
     "execution_count": 20,
     "metadata": {},
     "output_type": "execute_result"
    }
   ],
   "source": [
    "labeller"
   ]
  },
  {
   "cell_type": "code",
   "execution_count": null,
   "metadata": {},
   "outputs": [],
   "source": [
    "unique, counts= np.unique(x, return_counts=True)"
   ]
  },
  {
   "cell_type": "code",
   "execution_count": 60,
   "metadata": {},
   "outputs": [
    {
     "name": "stdout",
     "output_type": "stream",
     "text": [
      "[[-1.000e+00  4.779e+03]\n",
      " [ 1.000e+00  3.740e+03]\n",
      " [       nan  1.000e+00]\n",
      " [       nan  1.000e+00]\n",
      " [       nan  1.000e+00]\n",
      " [       nan  1.000e+00]]\n"
     ]
    }
   ],
   "source": [
    "print np.asarray((unique, counts)).T"
   ]
  },
  {
   "cell_type": "code",
   "execution_count": 61,
   "metadata": {},
   "outputs": [],
   "source": [
    "from scipy.stats import itemfreq"
   ]
  },
  {
   "cell_type": "code",
   "execution_count": 69,
   "metadata": {},
   "outputs": [
    {
     "data": {
      "text/plain": [
       "array([[-1.000e+00,  4.779e+03],\n",
       "       [ 1.000e+00,  3.740e+03],\n",
       "       [       nan,  1.000e+00],\n",
       "       [       nan,  1.000e+00],\n",
       "       [       nan,  1.000e+00],\n",
       "       [       nan,  1.000e+00]])"
      ]
     },
     "execution_count": 69,
     "metadata": {},
     "output_type": "execute_result"
    }
   ],
   "source": [
    "itemfreq(x_1)"
   ]
  },
  {
   "cell_type": "code",
   "execution_count": 70,
   "metadata": {},
   "outputs": [
    {
     "data": {
      "text/plain": [
       "array([[-1.000e+00,  4.468e+03],\n",
       "       [ 1.000e+00,  4.041e+03],\n",
       "       [       nan,  1.000e+00],\n",
       "       [       nan,  1.000e+00],\n",
       "       [       nan,  1.000e+00],\n",
       "       [       nan,  1.000e+00],\n",
       "       [       nan,  1.000e+00],\n",
       "       [       nan,  1.000e+00],\n",
       "       [       nan,  1.000e+00],\n",
       "       [       nan,  1.000e+00],\n",
       "       [       nan,  1.000e+00],\n",
       "       [       nan,  1.000e+00],\n",
       "       [       nan,  1.000e+00],\n",
       "       [       nan,  1.000e+00],\n",
       "       [       nan,  1.000e+00],\n",
       "       [       nan,  1.000e+00]])"
      ]
     },
     "execution_count": 70,
     "metadata": {},
     "output_type": "execute_result"
    }
   ],
   "source": [
    "itemfreq(x_2)"
   ]
  },
  {
   "cell_type": "code",
   "execution_count": 21,
   "metadata": {},
   "outputs": [],
   "source": [
    "from hsmm_core.prediction_engines import *\n",
    "from hsmm_core.data_utils import load_data, TradingHours\n",
    "import sys\n",
    "sys.path.append('/home/ak/Documents/Research/hsmm/')\n",
    "from hsmm_core.data_utils import get_files_for_ticker, load_data\n",
    "from hsmm_core.consts import ThresholdMethod, LabellingChoice\n",
    "\n",
    "ticker = 'AAL'\n",
    "n_hidden_states = 2\n",
    "\n",
    "init_params = {\n",
    "    \"obs_model_params\": {\n",
    "                                'obs_model_name': 'ExpUniGauss',\n",
    "                                'em_init_method': InitialisationMethod.cluster\n",
    "\n",
    "    },\n",
    "    \"hidden_model_params\": {\n",
    "                                'no_hidden_states': n_hidden_states,\n",
    "                                # 'pi':startprob,\n",
    "                                # 'tpm': transmat\n",
    "                                'em_init_method': InitialisationMethod.uniform\n",
    "    },\n",
    "    \"update_tag\": 'tpsml'\n",
    "}"
   ]
  },
  {
   "cell_type": "code",
   "execution_count": 36,
   "metadata": {},
   "outputs": [],
   "source": [
    "\n",
    "labelling_method_params = {\n",
    "    'labelling_method': LabellingChoice.simple_ep_abs,\n",
    "    'rolling_window': 10,\n",
    "    'updown_threshold_pct': 5.,\n",
    "    'threshold_method': ThresholdMethod.historical_vol_ma,\n",
    "    'threshold_vol_window': 5,\n",
    "    'updown_threshold_vol_pct': 10.,\n",
    "}"
   ]
  },
  {
   "cell_type": "code",
   "execution_count": null,
   "metadata": {},
   "outputs": [],
   "source": []
  },
  {
   "cell_type": "code",
   "execution_count": 37,
   "metadata": {},
   "outputs": [],
   "source": [
    "prediction_params = {\n",
    "    'labelling_method_params': labelling_method_params,\n",
    "    'feature_generation': FeatureGeneration.one_model_to_one_fset,\n",
    "}\n",
    "start_dt = '20180416'\n",
    "end_dt = '20180418'\n"
   ]
  },
  {
   "cell_type": "code",
   "execution_count": 39,
   "metadata": {},
   "outputs": [],
   "source": [
    "trading_hours = TradingHours.only_mkt_hours\n",
    "\n",
    "data_dic = load_data(ticker, start_date=start_dt, end_date=end_dt)\n",
    "\n",
    "\n"
   ]
  },
  {
   "cell_type": "code",
   "execution_count": 45,
   "metadata": {},
   "outputs": [
    {
     "ename": "TypeError",
     "evalue": "__init__() got an unexpected keyword argument 'updown_thrshd_pct'",
     "output_type": "error",
     "traceback": [
      "\u001b[0;31m---------------------------------------------------------------------------\u001b[0m",
      "\u001b[0;31mTypeError\u001b[0m                                 Traceback (most recent call last)",
      "\u001b[0;32m<ipython-input-45-3dbf456de1b0>\u001b[0m in \u001b[0;36m<module>\u001b[0;34m()\u001b[0m\n\u001b[1;32m      1\u001b[0m prediction_eng = hs_prediction_engine(hmm_init_params=init_params,\n\u001b[0;32m----> 2\u001b[0;31m                                       prediction_innit_params=prediction_params,)\n\u001b[0m\u001b[1;32m      3\u001b[0m \u001b[0;34m\u001b[0m\u001b[0m\n\u001b[1;32m      4\u001b[0m \u001b[0;34m\u001b[0m\u001b[0m\n\u001b[1;32m      5\u001b[0m \u001b[0;31m# features, _ = prediction_eng.train_model_data(ticker, data_dic, trading_hours, force_hmm_recalc=True)\u001b[0m\u001b[0;34m\u001b[0m\u001b[0;34m\u001b[0m\u001b[0m\n",
      "\u001b[0;32m/home/ak/Documents/Research/hsmm/hsmm_core/prediction_engines.pyc\u001b[0m in \u001b[0;36m__init__\u001b[0;34m(self, hmm_init_params, prediction_innit_params, no_parallel_procs, rng_seed)\u001b[0m\n\u001b[1;32m     53\u001b[0m                                                            \u001b[0mupdown_thrshd_pct\u001b[0m\u001b[0;34m=\u001b[0m\u001b[0mupdown_threshold_pct\u001b[0m\u001b[0;34m,\u001b[0m\u001b[0;34m\u001b[0m\u001b[0m\n\u001b[1;32m     54\u001b[0m                                                            \u001b[0mupdown_thrshd_vol_pct\u001b[0m\u001b[0;34m=\u001b[0m\u001b[0mupdown_threshold_vol_pct\u001b[0m\u001b[0;34m,\u001b[0m\u001b[0;34m\u001b[0m\u001b[0m\n\u001b[0;32m---> 55\u001b[0;31m                                                            thrshd_vol_window=threshold_vol_window))\n\u001b[0m\u001b[1;32m     56\u001b[0m \u001b[0;34m\u001b[0m\u001b[0m\n\u001b[1;32m     57\u001b[0m         self.hmm_calibration_eng_ = hmm_calibration(no_parallel_procs=self.no_parallel_procs_,\n",
      "\u001b[0;31mTypeError\u001b[0m: __init__() got an unexpected keyword argument 'updown_thrshd_pct'"
     ]
    }
   ],
   "source": [
    "prediction_eng = hs_prediction_engine(hmm_init_params=init_params,\n",
    "                                      prediction_innit_params=prediction_params,)\n",
    "\n",
    "\n",
    "# features, _ = prediction_eng.train_model_data(ticker, data_dic, trading_hours, force_hmm_recalc=True)\n",
    "# print features"
   ]
  },
  {
   "cell_type": "code",
   "execution_count": null,
   "metadata": {},
   "outputs": [],
   "source": []
  }
 ],
 "metadata": {
  "kernelspec": {
   "display_name": "Python 2",
   "language": "python",
   "name": "python2"
  },
  "language_info": {
   "codemirror_mode": {
    "name": "ipython",
    "version": 2
   },
   "file_extension": ".py",
   "mimetype": "text/x-python",
   "name": "python",
   "nbconvert_exporter": "python",
   "pygments_lexer": "ipython2",
   "version": "2.7.15rc1"
  }
 },
 "nbformat": 4,
 "nbformat_minor": 2
}
