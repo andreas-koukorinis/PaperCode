{
 "cells": [
  {
   "cell_type": "code",
   "execution_count": 1,
   "metadata": {},
   "outputs": [],
   "source": [
    "import pandas as pd \n",
    "import numpy as np \n",
    "from sklearn.datasets import load_svmlight_file, dump_svmlight_file\n",
    "from MKLpy.regularization import normalization,rescale_01\n",
    "from MKLpy.metrics.pairwise import HPK_kernel\n",
    "from MKLpy.regularization import kernel_centering, kernel_normalization, tracenorm\n",
    "from MKLpy.algorithms import EasyMKL,RMGD,RMKL,AverageMKL\n",
    "import os\n",
    "from sklearn.metrics.pairwise import rbf_kernel as RBF \n",
    "\n"
   ]
  },
  {
   "cell_type": "code",
   "execution_count": 2,
   "metadata": {},
   "outputs": [],
   "source": [
    "columns = ['feature{}'.format(ii) for ii in range(1, 5)] \n",
    "\n",
    "df = pd.DataFrame({col: np.random.randn(10) for col in columns})\n",
    "\n",
    "path = '/home/ak/Documents/Research/temp/mkl_exaple.dmp' \n",
    "\n",
    "df['labels'] = np.random.choice([0, 1], size=len(df))\n",
    "dump_svmlight_file(df[columns].values, df['labels'].values, path) \n",
    "\n"
   ]
  },
  {
   "cell_type": "code",
   "execution_count": 3,
   "metadata": {},
   "outputs": [
    {
     "data": {
      "text/plain": [
       "EasyMKL(estimator=KOMD(coef0=0.0, degree=2.0, kernel='precomputed', lam=0.1, max_iter=100,\n",
       "   multiclass_strategy='ova', rbf_gamma=0.1, verbose=False),\n",
       "    generator=<MKLpy.lists.generator.HPK_generator object at 0x7fe8280cce10>,\n",
       "    lam=0.1, max_iter=100, multiclass_strategy='ova', n_kernels=3,\n",
       "    verbose=False)"
      ]
     },
     "execution_count": 3,
     "metadata": {},
     "output_type": "execute_result"
    }
   ],
   "source": [
    "X,Y = load_svmlight_file(path)\n",
    "X = X.toarray()\t#Important! MKLpy require dense matrices!\n",
    "X = rescale_01(X)\n",
    "X = normalization(X) \n",
    "\n",
    "KL = [HPK_kernel(X,degree=d) for d in range(1,11)]\n",
    "KL2 = [RBF(X, gamma=gamma) for gamma in [1., 10, 100.]] \n",
    "\n",
    "EasyMKL().fit(KL2,Y)"
   ]
  },
  {
   "cell_type": "code",
   "execution_count": 13,
   "metadata": {},
   "outputs": [
    {
     "data": {
      "text/plain": [
       "(10,)"
      ]
     },
     "execution_count": 13,
     "metadata": {},
     "output_type": "execute_result"
    }
   ],
   "source": [
    "X.shape\n",
    "Y.shape"
   ]
  },
  {
   "cell_type": "code",
   "execution_count": null,
   "metadata": {},
   "outputs": [],
   "source": []
  }
 ],
 "metadata": {
  "kernelspec": {
   "display_name": "Python 2",
   "language": "python",
   "name": "python2"
  },
  "language_info": {
   "codemirror_mode": {
    "name": "ipython",
    "version": 2
   },
   "file_extension": ".py",
   "mimetype": "text/x-python",
   "name": "python",
   "nbconvert_exporter": "python",
   "pygments_lexer": "ipython2",
   "version": "2.7.12+"
  }
 },
 "nbformat": 4,
 "nbformat_minor": 2
}
