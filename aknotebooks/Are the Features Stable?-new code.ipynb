{
 "cells": [
  {
   "cell_type": "code",
   "execution_count": 1,
   "metadata": {},
   "outputs": [
    {
     "data": {
      "text/html": [
       "<script>\n",
       "code_show=true; \n",
       "function code_toggle() {\n",
       " if (code_show){\n",
       " $('div.input').hide();\n",
       " } else {\n",
       " $('div.input').show();\n",
       " }\n",
       " code_show = !code_show\n",
       "} \n",
       "$( document ).ready(code_toggle);\n",
       "</script>\n",
       "<form action=\"javascript:code_toggle()\"><input type=\"submit\" value=\"Click here to toggle on/off the raw code.\"></form>"
      ],
      "text/plain": [
       "<IPython.core.display.HTML object>"
      ]
     },
     "execution_count": 1,
     "metadata": {},
     "output_type": "execute_result"
    }
   ],
   "source": [
    "from IPython.display import HTML\n",
    "\n",
    "HTML('''<script>\n",
    "code_show=true; \n",
    "function code_toggle() {\n",
    " if (code_show){\n",
    " $('div.input').hide();\n",
    " } else {\n",
    " $('div.input').show();\n",
    " }\n",
    " code_show = !code_show\n",
    "} \n",
    "$( document ).ready(code_toggle);\n",
    "</script>\n",
    "<form action=\"javascript:code_toggle()\"><input type=\"submit\" value=\"Click here to toggle on/off the raw code.\"></form>''')"
   ]
  },
  {
   "cell_type": "code",
   "execution_count": 1,
   "metadata": {},
   "outputs": [],
   "source": [
    "import numpy as np \n",
    "import pandas as pd \n",
    "import sys \n",
    "from scipy.interpolate import interp1d\n",
    "from scipy.interpolate import splrep as splrep\n",
    "\n",
    "sys.path.append('/home/ak/Documents/Research/master/hsmm_core/')\n",
    "sys.path.append('/home/ak/Documents/Research/master/')\n",
    "from hsmm_core.hmm import * \n",
    "\n",
    "from hsmm_core.prediction_engines import *  \n",
    "import hsmm_core.observation_models \n",
    "from test_hmm.test_utils import generate_sample_paths_independent_sets\n",
    "from hsmm_core.observation_models import ExpIndMixDiracGauss\n",
    "%matplotlib inline"
   ]
  },
  {
   "cell_type": "markdown",
   "metadata": {},
   "source": [
    "Let us create a fairly distinguishable situation : Two states with skewed transition matrix favouring one state \n",
    "and static parameters that are sufficiently apart"
   ]
  },
  {
   "cell_type": "code",
   "execution_count": 3,
   "metadata": {},
   "outputs": [],
   "source": [
    "n_hidden_states = 2\n",
    "sigmas = [0.025, 0.45] \n",
    "lambdas = [0.5, 2] \n",
    "weights = [0.4, 0.3] \n",
    "\n",
    "tpm = np.array([[0.6, 0.4], [0.3, 0.7]])\n",
    "startprob = np.array([0.8, 0.2]) \n",
    "obs_model = hsmm_core.observation_models.ExpIndMixDiracGauss(n_hidden_states)\n",
    "obs_model.sigmas_ = sigmas  \n",
    "obs_model.lambdas_ = lambdas  \n",
    "obs_model.weight_ = weights \n",
    "\n",
    "the_hmm = hmm_engine(obs_model, n_hidden_states) \n",
    "\n",
    "the_hmm.pi_ = startprob\n",
    "the_hmm.tpm_ = tpm"
   ]
  },
  {
   "cell_type": "code",
   "execution_count": 4,
   "metadata": {},
   "outputs": [
    {
     "name": "stdout",
     "output_type": "stream",
     "text": [
      "sigmas  [0.025, 0.45]\n",
      "lambdas  [0.5, 2]\n",
      "Transition matrix  [[0.6 0.4]\n",
      " [0.3 0.7]]\n"
     ]
    }
   ],
   "source": [
    "print \"sigmas \", obs_model.sigmas_\n",
    "print \"lambdas \", obs_model.lambdas_\n",
    "\n",
    "print \"Transition matrix \", the_hmm.tpm_"
   ]
  },
  {
   "cell_type": "markdown",
   "metadata": {},
   "source": [
    "# Helper Funcions for Plotting\n"
   ]
  },
  {
   "cell_type": "code",
   "execution_count": 5,
   "metadata": {},
   "outputs": [],
   "source": [
    "def custom_lineplot(ax, x, y, error, xlims, ylims, color='red'):\n",
    "    \"\"\"Customized line plot with error bars.\"\"\"\n",
    "    \n",
    "    ax.errorbar(x, y, yerr=error, color=color, ls='--', marker='o', capsize=5, capthick=1, ecolor='black')\n",
    "    \n",
    "    ax.set_xlim(xlims)\n",
    "    ax.set_ylim(ylims)\n",
    "    \n",
    "    return ax\n",
    "    \n",
    "def custom_scatterplot(ax, x, y, error, xlims, ylims, color='green', markerscale=100):\n",
    "    \"\"\"Customized scatter plot where marker size is proportional to error measure.\"\"\"\n",
    "    \n",
    "    markersize = error * markerscale\n",
    "    \n",
    "    ax.scatter(x, y, color=color, marker='o', s=markersize, alpha=0.5)\n",
    "    \n",
    "    ax.set_xlim(xlims)\n",
    "    ax.set_ylim(ylims)\n",
    "    \n",
    "    return ax\n",
    "    \n",
    "def custom_barchart(ax, x, y, error, xlims, ylims, error_kw, color='lightblue', width=0.75):\n",
    "    \"\"\"Customized bar chart with positive error bars only.\"\"\"\n",
    "    \n",
    "    error = [np.zeros(len(error)), error]\n",
    "    \n",
    "    ax.bar(x, y, color=color, width=width, yerr=error, error_kw=error_kw, align='center')\n",
    "    \n",
    "    ax.set_xlim(xlims)\n",
    "    ax.set_ylim(ylims)\n",
    "    \n",
    "    return ax\n",
    "    \n",
    "def custom_boxplot(ax, x, y, error, xlims, ylims, mediancolor='magenta'):\n",
    "    \"\"\"Customized boxplot with solid black lines for box, whiskers, caps, and outliers.\"\"\"\n",
    "    \n",
    "    medianprops = {'color': mediancolor, 'linewidth': 2}\n",
    "    boxprops = {'color': 'black', 'linestyle': '-'}\n",
    "    whiskerprops = {'color': 'black', 'linestyle': '-'}\n",
    "    capprops = {'color': 'black', 'linestyle': '-'}\n",
    "    flierprops = {'color': 'black', 'marker': 'x'}\n",
    "    \n",
    "    ax.boxplot(y,\n",
    "               positions=x,\n",
    "               medianprops=medianprops,\n",
    "               boxprops=boxprops,\n",
    "               whiskerprops=whiskerprops,\n",
    "               capprops=capprops,\n",
    "               flierprops=flierprops)\n",
    "    \n",
    "    ax.set_xlim(xlims)\n",
    "    ax.set_ylim(ylims)\n",
    "    \n",
    "    return ax"
   ]
  },
  {
   "cell_type": "code",
   "execution_count": 6,
   "metadata": {},
   "outputs": [],
   "source": [
    "def states_from_fixed_ratios(ratios, total_length):\n",
    "    states = np.array([], dtype=np.int64) \n",
    "    ratios_ids = np.arange(len(ratios))\n",
    "    rng = np.random.RandomState(345)\n",
    "    while len(states) < total_length: \n",
    "        \n",
    "        ratio = ratios[rng.choice(ratios_ids)] \n",
    "        #print ratio\n",
    "        states = np.append(states, np.append(np.repeat(0, 100*ratio[0]), np.repeat(1, 100*ratio[1]))) \n",
    "        #print len(states)\n",
    "    return states\n",
    "\n",
    "# Lets fix a ratio of 20:80 and sample some fixed states \n",
    "state_ratios = np.array([[0.2, 0.05], [0.4, 0.1], [0.8, 0.2]]) \n",
    "\n",
    "# Lets fix a ratio of 20:80 and sample some fixed states \n",
    "state_ratios = np.array([[0.2, 0.05], [0.4, 0.1], [0.8, 0.2]]) \n",
    "\n",
    "Ts = [ 5, 10, 20, 50, 70, 100, 200,300, 400,500, 700, 900,1100, 1200,1300,1400, 1500]\n",
    "M = 10000\n",
    "\n",
    "all_errors = np.zeros((len(Ts), M))"
   ]
  },
  {
   "cell_type": "code",
   "execution_count": 7,
   "metadata": {},
   "outputs": [
    {
     "ename": "ValueError",
     "evalue": "Not all neccessary params are provided",
     "output_type": "error",
     "traceback": [
      "\u001b[0;31m---------------------------------------------------------------------------\u001b[0m",
      "\u001b[0;31mValueError\u001b[0m                                Traceback (most recent call last)",
      "\u001b[0;32m<ipython-input-7-9167244122fd>\u001b[0m in \u001b[0;36m<module>\u001b[0;34m()\u001b[0m\n\u001b[1;32m      6\u001b[0m     \u001b[0;32mfor\u001b[0m \u001b[0mm\u001b[0m \u001b[0;32min\u001b[0m \u001b[0mxrange\u001b[0m\u001b[0;34m(\u001b[0m\u001b[0mM\u001b[0m\u001b[0;34m)\u001b[0m\u001b[0;34m:\u001b[0m\u001b[0;34m\u001b[0m\u001b[0m\n\u001b[1;32m      7\u001b[0m         \u001b[0mrandom_states\u001b[0m \u001b[0;34m=\u001b[0m \u001b[0mthe_hmm\u001b[0m\u001b[0;34m.\u001b[0m\u001b[0msample_states\u001b[0m\u001b[0;34m(\u001b[0m\u001b[0mrng\u001b[0m\u001b[0;34m=\u001b[0m\u001b[0mrng\u001b[0m\u001b[0;34m,\u001b[0m \u001b[0mlength\u001b[0m\u001b[0;34m=\u001b[0m\u001b[0mM\u001b[0m\u001b[0;34m)\u001b[0m\u001b[0;34m\u001b[0m\u001b[0m\n\u001b[0;32m----> 8\u001b[0;31m         \u001b[0mobservation_points\u001b[0m \u001b[0;34m=\u001b[0m \u001b[0mobs_model\u001b[0m\u001b[0;34m.\u001b[0m\u001b[0msample_data\u001b[0m\u001b[0;34m(\u001b[0m\u001b[0mM\u001b[0m\u001b[0;34m,\u001b[0m \u001b[0mrng\u001b[0m\u001b[0;34m=\u001b[0m\u001b[0mrng\u001b[0m\u001b[0;34m,\u001b[0m \u001b[0mstate\u001b[0m\u001b[0;34m=\u001b[0m\u001b[0mstates\u001b[0m\u001b[0;34m)\u001b[0m\u001b[0;34m\u001b[0m\u001b[0m\n\u001b[0m\u001b[1;32m      9\u001b[0m         \u001b[0mviterbi_inferred\u001b[0m \u001b[0;34m=\u001b[0m \u001b[0mthe_hmm\u001b[0m\u001b[0;34m.\u001b[0m\u001b[0mmap_metrics\u001b[0m\u001b[0;34m(\u001b[0m\u001b[0mobservation_points\u001b[0m\u001b[0;34m)\u001b[0m\u001b[0;34m[\u001b[0m\u001b[0;34m'viterbi_optimal_state_seq'\u001b[0m\u001b[0;34m]\u001b[0m\u001b[0;34m\u001b[0m\u001b[0m\n\u001b[1;32m     10\u001b[0m         \u001b[0mall_errors\u001b[0m\u001b[0;34m[\u001b[0m\u001b[0mi_T\u001b[0m\u001b[0;34m,\u001b[0m \u001b[0mm\u001b[0m\u001b[0;34m]\u001b[0m \u001b[0;34m=\u001b[0m \u001b[0mnp\u001b[0m\u001b[0;34m.\u001b[0m\u001b[0msum\u001b[0m\u001b[0;34m(\u001b[0m\u001b[0;34m(\u001b[0m\u001b[0mviterbi_inferred\u001b[0m \u001b[0;34m-\u001b[0m \u001b[0mstates\u001b[0m\u001b[0;34m)\u001b[0m\u001b[0;34m**\u001b[0m\u001b[0;36m2\u001b[0m\u001b[0;34m)\u001b[0m\u001b[0;34m/\u001b[0m\u001b[0mfloat\u001b[0m\u001b[0;34m(\u001b[0m\u001b[0mT\u001b[0m\u001b[0;34m)\u001b[0m\u001b[0;34m\u001b[0m\u001b[0m\n",
      "\u001b[0;32m/home/ak/Documents/Research/master/hsmm_core/observation_models.pyc\u001b[0m in \u001b[0;36msample_data\u001b[0;34m(self, no_points, rng, state)\u001b[0m\n\u001b[1;32m    980\u001b[0m \u001b[0;34m\u001b[0m\u001b[0m\n\u001b[1;32m    981\u001b[0m         \u001b[0;32mif\u001b[0m \u001b[0many\u001b[0m\u001b[0;34m(\u001b[0m\u001b[0mx\u001b[0m \u001b[0;32mis\u001b[0m \u001b[0mNone\u001b[0m \u001b[0;32mfor\u001b[0m \u001b[0mx\u001b[0m \u001b[0;32min\u001b[0m \u001b[0;34m[\u001b[0m\u001b[0mweights\u001b[0m\u001b[0;34m,\u001b[0m \u001b[0msigmas\u001b[0m\u001b[0;34m,\u001b[0m \u001b[0mlambdas\u001b[0m\u001b[0;34m]\u001b[0m\u001b[0;34m)\u001b[0m\u001b[0;34m:\u001b[0m\u001b[0;34m\u001b[0m\u001b[0m\n\u001b[0;32m--> 982\u001b[0;31m             \u001b[0;32mraise\u001b[0m \u001b[0mValueError\u001b[0m\u001b[0;34m(\u001b[0m\u001b[0;34m\"Not all neccessary params are provided\"\u001b[0m\u001b[0;34m)\u001b[0m\u001b[0;34m\u001b[0m\u001b[0m\n\u001b[0m\u001b[1;32m    983\u001b[0m \u001b[0;34m\u001b[0m\u001b[0m\n\u001b[1;32m    984\u001b[0m         \u001b[0;32mif\u001b[0m \u001b[0misinstance\u001b[0m\u001b[0;34m(\u001b[0m\u001b[0mstate\u001b[0m\u001b[0;34m,\u001b[0m \u001b[0mlist\u001b[0m\u001b[0;34m)\u001b[0m \u001b[0;32mor\u001b[0m \u001b[0misinstance\u001b[0m\u001b[0;34m(\u001b[0m\u001b[0mstate\u001b[0m\u001b[0;34m,\u001b[0m \u001b[0mnp\u001b[0m\u001b[0;34m.\u001b[0m\u001b[0mndarray\u001b[0m\u001b[0;34m)\u001b[0m\u001b[0;34m:\u001b[0m\u001b[0;34m\u001b[0m\u001b[0m\n",
      "\u001b[0;31mValueError\u001b[0m: Not all neccessary params are provided"
     ]
    }
   ],
   "source": [
    "###create sequences###\n",
    "for i_T, T in enumerate(Ts):\n",
    "    rng = np.random.RandomState(12345)\n",
    "    states = states_from_fixed_ratios(state_ratios, T)\n",
    "    \n",
    "    for m in xrange(M):\n",
    "        random_states = the_hmm.sample_states(rng=rng, length=M)\n",
    "        observation_points = obs_model.sample_data(M, rng=rng, state=states)\n",
    "        viterbi_inferred = the_hmm.map_metrics(observation_points)['viterbi_optimal_state_seq'] \n",
    "        all_errors[i_T, m] = np.sum((viterbi_inferred - states)**2)/float(T) \n",
    "        # The first duration is always zero\n",
    "        observation_points[0, 0] = 0."
   ]
  },
  {
   "cell_type": "markdown",
   "metadata": {},
   "source": [
    "We create state dequences of fixed length 100, 400, 700, 900, 1200, 1500 and for every fixed length generate \n",
    "10e4 copies of observatio data from the above distribution. "
   ]
  },
  {
   "cell_type": "code",
   "execution_count": 11,
   "metadata": {},
   "outputs": [
    {
     "ename": "ValueError",
     "evalue": "need more than 1 value to unpack",
     "output_type": "error",
     "traceback": [
      "\u001b[0;31m-------------------------------------\u001b[0m",
      "\u001b[0;31mValueError\u001b[0mTraceback (most recent call last)",
      "\u001b[0;32m<ipython-input-11-c055739ec113>\u001b[0m in \u001b[0;36m<module>\u001b[0;34m()\u001b[0m\n\u001b[1;32m      4\u001b[0m     \u001b[0mstates\u001b[0m \u001b[0;34m=\u001b[0m \u001b[0mstates_from_fixed_ratios\u001b[0m\u001b[0;34m(\u001b[0m\u001b[0mstate_ratios\u001b[0m\u001b[0;34m,\u001b[0m \u001b[0mT\u001b[0m\u001b[0;34m)\u001b[0m\u001b[0;34m\u001b[0m\u001b[0m\n\u001b[1;32m      5\u001b[0m     \u001b[0;31m# uncomment here to generate states from the hidden process distribution directly.\u001b[0m\u001b[0;34m\u001b[0m\u001b[0;34m\u001b[0m\u001b[0m\n\u001b[0;32m----> 6\u001b[0;31m     \u001b[0mstates\u001b[0m\u001b[0;34m,\u001b[0m \u001b[0m_\u001b[0m \u001b[0;34m=\u001b[0m \u001b[0mthe_hmm\u001b[0m\u001b[0;34m.\u001b[0m\u001b[0msample_states\u001b[0m\u001b[0;34m(\u001b[0m\u001b[0mrng\u001b[0m\u001b[0;34m=\u001b[0m\u001b[0mrng\u001b[0m\u001b[0;34m,\u001b[0m \u001b[0mlength\u001b[0m\u001b[0;34m=\u001b[0m\u001b[0mT\u001b[0m\u001b[0;34m)\u001b[0m\u001b[0;34m\u001b[0m\u001b[0m\n\u001b[0m\u001b[1;32m      7\u001b[0m     \u001b[0;32mfor\u001b[0m \u001b[0mm\u001b[0m \u001b[0;32min\u001b[0m \u001b[0mxrange\u001b[0m\u001b[0;34m(\u001b[0m\u001b[0mM\u001b[0m\u001b[0;34m)\u001b[0m\u001b[0;34m:\u001b[0m\u001b[0;34m\u001b[0m\u001b[0m\n\u001b[1;32m      8\u001b[0m         \u001b[0mobs_samples\u001b[0m \u001b[0;34m=\u001b[0m \u001b[0mobs_model\u001b[0m\u001b[0;34m.\u001b[0m\u001b[0msample_data\u001b[0m\u001b[0;34m(\u001b[0m\u001b[0mM\u001b[0m\u001b[0;34m,\u001b[0m \u001b[0mstates\u001b[0m\u001b[0;34m,\u001b[0m \u001b[0mrng\u001b[0m\u001b[0;34m=\u001b[0m\u001b[0mrng\u001b[0m\u001b[0;34m)\u001b[0m\u001b[0;34m\u001b[0m\u001b[0m\n",
      "\u001b[0;31mValueError\u001b[0m: need more than 1 value to unpack"
     ]
    }
   ],
   "source": [
    "###create sequences###\n",
    "for i_T, T in enumerate(Ts):\n",
    "    rng = np.random.RandomState(12345)\n",
    "    states = states_from_fixed_ratios(state_ratios, T)\n",
    "    # uncomment here to generate states from the hidden process distribution directly. \n",
    "    states, _ = the_hmm.sample_states(rng=rng, length=T)\n",
    "    for m in xrange(M):\n",
    "        obs_samples = obs_model.sample_data(M, states, rng=rng)\n",
    "        \n",
    "        viterbi_inferred = the_hmm.map_metrics(obs_samples)['viterbi_optimal_state_seq'] \n",
    "        all_errors[i_T, m] = np.sum((viterbi_inferred - states)**2)/float(T)  \n",
    "        print (\"sequence no:\",i_T,\"length of sequence:\",T,\"copies of sequence:\",M)\n",
    "        print'###ERROR###'\n",
    "        print all_errors[i_T,m]\n",
    "        print '####'"
   ]
  },
  {
   "cell_type": "code",
   "execution_count": 8,
   "metadata": {},
   "outputs": [
    {
     "ename": "NameError",
     "evalue": "name 'pts' is not defined",
     "output_type": "error",
     "traceback": [
      "\u001b[0;31m---------------------------------------------------------------------------\u001b[0m",
      "\u001b[0;31mNameError\u001b[0m                                 Traceback (most recent call last)",
      "\u001b[0;32m<ipython-input-8-55cdee5bcea0>\u001b[0m in \u001b[0;36m<module>\u001b[0;34m()\u001b[0m\n\u001b[0;32m----> 1\u001b[0;31m \u001b[0mtck\u001b[0m\u001b[0;34m,\u001b[0m \u001b[0mu\u001b[0m \u001b[0;34m=\u001b[0m \u001b[0msplrep\u001b[0m\u001b[0;34m(\u001b[0m\u001b[0mpts\u001b[0m\u001b[0;34m.\u001b[0m\u001b[0mT\u001b[0m\u001b[0;34m,\u001b[0m \u001b[0mu\u001b[0m\u001b[0;34m=\u001b[0m\u001b[0mNone\u001b[0m\u001b[0;34m,\u001b[0m \u001b[0ms\u001b[0m\u001b[0;34m=\u001b[0m\u001b[0;36m0.0\u001b[0m\u001b[0;34m,\u001b[0m \u001b[0mper\u001b[0m\u001b[0;34m=\u001b[0m\u001b[0;36m1\u001b[0m\u001b[0;34m)\u001b[0m\u001b[0;34m\u001b[0m\u001b[0m\n\u001b[0m\u001b[1;32m      2\u001b[0m \u001b[0mu_new\u001b[0m \u001b[0;34m=\u001b[0m \u001b[0mnp\u001b[0m\u001b[0;34m.\u001b[0m\u001b[0mlinspace\u001b[0m\u001b[0;34m(\u001b[0m\u001b[0mu\u001b[0m\u001b[0;34m.\u001b[0m\u001b[0mmin\u001b[0m\u001b[0;34m(\u001b[0m\u001b[0;34m)\u001b[0m\u001b[0;34m,\u001b[0m \u001b[0mu\u001b[0m\u001b[0;34m.\u001b[0m\u001b[0mmax\u001b[0m\u001b[0;34m(\u001b[0m\u001b[0;34m)\u001b[0m\u001b[0;34m,\u001b[0m \u001b[0;36m1000\u001b[0m\u001b[0;34m)\u001b[0m\u001b[0;34m\u001b[0m\u001b[0m\n\u001b[1;32m      3\u001b[0m \u001b[0mx_new\u001b[0m\u001b[0;34m,\u001b[0m \u001b[0my_new\u001b[0m \u001b[0;34m=\u001b[0m \u001b[0msplev\u001b[0m\u001b[0;34m(\u001b[0m\u001b[0mu_new\u001b[0m\u001b[0;34m,\u001b[0m \u001b[0mtck\u001b[0m\u001b[0;34m,\u001b[0m \u001b[0mder\u001b[0m\u001b[0;34m=\u001b[0m\u001b[0;36m0\u001b[0m\u001b[0;34m)\u001b[0m\u001b[0;34m\u001b[0m\u001b[0m\n\u001b[1;32m      4\u001b[0m \u001b[0;34m\u001b[0m\u001b[0m\n\u001b[1;32m      5\u001b[0m \u001b[0mplt\u001b[0m\u001b[0;34m.\u001b[0m\u001b[0mplot\u001b[0m\u001b[0;34m(\u001b[0m\u001b[0mpts\u001b[0m\u001b[0;34m[\u001b[0m\u001b[0;34m:\u001b[0m\u001b[0;34m,\u001b[0m\u001b[0;36m0\u001b[0m\u001b[0;34m]\u001b[0m\u001b[0;34m,\u001b[0m \u001b[0mpts\u001b[0m\u001b[0;34m[\u001b[0m\u001b[0;34m:\u001b[0m\u001b[0;34m,\u001b[0m\u001b[0;36m1\u001b[0m\u001b[0;34m]\u001b[0m\u001b[0;34m,\u001b[0m \u001b[0;34m'ro'\u001b[0m\u001b[0;34m)\u001b[0m\u001b[0;34m\u001b[0m\u001b[0m\n",
      "\u001b[0;31mNameError\u001b[0m: name 'pts' is not defined"
     ]
    }
   ],
   "source": [
    "tck, u = splrep(pts.T, u=None, s=0.0, per=1) \n",
    "u_new = np.linspace(u.min(), u.max(), 1000) \n",
    "x_new, y_new = splev(u_new, tck, der=0)\n",
    "\n",
    "plt.plot(pts[:,0], pts[:,1], 'ro') \n",
    "plt.plot(x_new, y_new, 'b--') \n",
    "plt.show()"
   ]
  },
  {
   "cell_type": "code",
   "execution_count": 8,
   "metadata": {},
   "outputs": [
    {
     "ename": "NameError",
     "evalue": "name 'final_errors' is not defined",
     "output_type": "error",
     "traceback": [
      "\u001b[0;31m---------------------------------------------------------------------------\u001b[0m",
      "\u001b[0;31mNameError\u001b[0m                                 Traceback (most recent call last)",
      "\u001b[0;32m<ipython-input-8-0007d3baf5b7>\u001b[0m in \u001b[0;36m<module>\u001b[0;34m()\u001b[0m\n\u001b[0;32m----> 1\u001b[0;31m \u001b[0;32mprint\u001b[0m \u001b[0mfinal_errors\u001b[0m\u001b[0;34m.\u001b[0m\u001b[0mshape\u001b[0m\u001b[0;34m\u001b[0m\u001b[0m\n\u001b[0m\u001b[1;32m      2\u001b[0m \u001b[0mTs\u001b[0m \u001b[0;34m=\u001b[0m\u001b[0mnp\u001b[0m\u001b[0;34m.\u001b[0m\u001b[0masarray\u001b[0m\u001b[0;34m(\u001b[0m\u001b[0mTs\u001b[0m\u001b[0;34m)\u001b[0m\u001b[0;34m\u001b[0m\u001b[0m\n\u001b[1;32m      3\u001b[0m \u001b[0mTs\u001b[0m\u001b[0;34m.\u001b[0m\u001b[0mshape\u001b[0m\u001b[0;34m\u001b[0m\u001b[0m\n\u001b[1;32m      4\u001b[0m \u001b[0;31m# define pts from the question\u001b[0m\u001b[0;34m\u001b[0m\u001b[0;34m\u001b[0m\u001b[0m\n\u001b[1;32m      5\u001b[0m \u001b[0;34m\u001b[0m\u001b[0m\n",
      "\u001b[0;31mNameError\u001b[0m: name 'final_errors' is not defined"
     ]
    }
   ],
   "source": [
    "Ts =np.asarray(Ts)\n",
    "Ts.shape\n",
    "# define pts from the question\n",
    "\n",
    "tck, u = splprep(pts.T, u=None, s=0.0, per=1) \n",
    "u_new = np.linspace(u.min(), u.max(), 1000)\n",
    "x_new, y_new = splev(u_new, tck, der=0)\n",
    "\n",
    "plt.plot(pts[:,0], pts[:,1], 'ro')\n",
    "plt.plot(x_new, y_new, 'b--')\n",
    "plt.show()\n",
    "\n"
   ]
  },
  {
   "cell_type": "code",
   "execution_count": 9,
   "metadata": {},
   "outputs": [],
   "source": [
    "def func_determinant(features, i):\n",
    "    for i in range(0,3):\n",
    "        _matrix=np.dot(features[i].T,features[i])\n",
    "        _determinant = np.linalg.det(_matrix)\n",
    "    return _determinant\n",
    "    \n",
    "def symmetric_matrix(features, i):\n",
    "    for i in range(0,3):\n",
    "        _sym_mat[i]= np.dot(features[i].T,features[i])"
   ]
  },
  {
   "cell_type": "code",
   "execution_count": 10,
   "metadata": {},
   "outputs": [],
   "source": [
    "def squareform_diagfill(arr1D): \n",
    "    n = int(np.sqrt(arr1D.size*2)) \n",
    "    if (n*(n+1))//2!=arr1D.size: \n",
    "        print \"Size of 1D array not suitable for creating a symmetric 2D array!\" \n",
    "        return None \n",
    "    else: \n",
    "        R,C = np.triu_indices(n) \n",
    "        out = np.zeros((n,n),dtype=arr1D.dtype) \n",
    "        out[R,C] = arr1D \n",
    "        out[C,R] = arr1D \n",
    "        return out"
   ]
  },
  {
   "cell_type": "code",
   "execution_count": 9,
   "metadata": {},
   "outputs": [
    {
     "name": "stdout",
     "output_type": "stream",
     "text": [
      "100 0 100\n",
      "250 1 200\n",
      "300 2 300\n",
      "475 3 400\n",
      "525 4 500\n",
      "625 5 600\n",
      "725 6 700\n",
      "1000 7 1000\n",
      "2050 8 2000\n"
     ]
    }
   ],
   "source": [
    "state_ratios = np.array([[0.2, 0.05], [0.4, 0.1], [0.8, 0.2]]) \n",
    "\n",
    "Ts = [100, 200, 300, 400, 500,600, 700, 1000,2000]\n",
    "M = 10000 \n",
    "\n",
    "#all_determinants = np.zeros((len(Ts), M))\n",
    "f_eng= hmm_features(hmm=the_hmm)\n",
    "_inf_matrix={}\n",
    "_ksi ={}\n",
    "\n",
    "\n",
    "for i_T, T in enumerate(Ts):\n",
    "    rng = np.random.RandomState(12345) #inside to make the sequences nested\n",
    "    states = states_from_fixed_ratios(state_ratios, T)\n",
    "    print len(states), i_T, T"
   ]
  },
  {
   "cell_type": "code",
   "execution_count": 12,
   "metadata": {},
   "outputs": [
    {
     "ename": "ValueError",
     "evalue": "Shape of passed values is (3, 250), indices imply (2, 250)",
     "output_type": "error",
     "traceback": [
      "\u001b[0;31m---------------------------------------------------------------------------\u001b[0m",
      "\u001b[0;31mValueError\u001b[0m                                Traceback (most recent call last)",
      "\u001b[0;32m<ipython-input-12-e4c9d9f1f5ed>\u001b[0m in \u001b[0;36m<module>\u001b[0;34m()\u001b[0m\n\u001b[1;32m     15\u001b[0m \u001b[0;32mfor\u001b[0m \u001b[0mm\u001b[0m \u001b[0;32min\u001b[0m \u001b[0mxrange\u001b[0m\u001b[0;34m(\u001b[0m\u001b[0mM\u001b[0m\u001b[0;34m)\u001b[0m\u001b[0;34m:\u001b[0m\u001b[0;34m\u001b[0m\u001b[0m\n\u001b[1;32m     16\u001b[0m     \u001b[0m_obs_samples\u001b[0m \u001b[0;34m=\u001b[0m \u001b[0mobs_model\u001b[0m\u001b[0;34m.\u001b[0m\u001b[0msample_data\u001b[0m\u001b[0;34m(\u001b[0m\u001b[0mstates\u001b[0m\u001b[0;34m,\u001b[0m \u001b[0mrng\u001b[0m\u001b[0;34m=\u001b[0m\u001b[0mrng\u001b[0m\u001b[0;34m)\u001b[0m\u001b[0;34m\u001b[0m\u001b[0m\n\u001b[0;32m---> 17\u001b[0;31m     \u001b[0m_df\u001b[0m \u001b[0;34m=\u001b[0m \u001b[0mpd\u001b[0m\u001b[0;34m.\u001b[0m\u001b[0mDataFrame\u001b[0m\u001b[0;34m(\u001b[0m\u001b[0m_obs_samples\u001b[0m\u001b[0;34m,\u001b[0m \u001b[0mcolumns\u001b[0m\u001b[0;34m=\u001b[0m\u001b[0;34m[\u001b[0m\u001b[0;34m'Duration'\u001b[0m\u001b[0;34m,\u001b[0m \u001b[0;34m'ReturnTradedPrice'\u001b[0m\u001b[0;34m]\u001b[0m\u001b[0;34m)\u001b[0m\u001b[0;34m\u001b[0m\u001b[0m\n\u001b[0m\u001b[1;32m     18\u001b[0m     \u001b[0m_features\u001b[0m \u001b[0;34m=\u001b[0m \u001b[0mf_eng\u001b[0m\u001b[0;34m.\u001b[0m\u001b[0mgenerate_features\u001b[0m\u001b[0;34m(\u001b[0m\u001b[0m_df\u001b[0m\u001b[0;34m)\u001b[0m\u001b[0;34m\u001b[0m\u001b[0m\n\u001b[1;32m     19\u001b[0m     \u001b[0m_inf_matrix\u001b[0m\u001b[0;34m[\u001b[0m\u001b[0mm\u001b[0m\u001b[0;34m]\u001b[0m\u001b[0;34m=\u001b[0m\u001b[0m_features\u001b[0m\u001b[0;34m[\u001b[0m\u001b[0;36m1\u001b[0m\u001b[0;34m]\u001b[0m \u001b[0;31m#information matrix\u001b[0m\u001b[0;34m\u001b[0m\u001b[0m\n",
      "\u001b[0;32m/home/ak/Envs/DataAnalysis/local/lib/python2.7/site-packages/pandas/core/frame.pyc\u001b[0m in \u001b[0;36m__init__\u001b[0;34m(self, data, index, columns, dtype, copy)\u001b[0m\n\u001b[1;32m    359\u001b[0m             \u001b[0;32melse\u001b[0m\u001b[0;34m:\u001b[0m\u001b[0;34m\u001b[0m\u001b[0m\n\u001b[1;32m    360\u001b[0m                 mgr = self._init_ndarray(data, index, columns, dtype=dtype,\n\u001b[0;32m--> 361\u001b[0;31m                                          copy=copy)\n\u001b[0m\u001b[1;32m    362\u001b[0m         \u001b[0;32melif\u001b[0m \u001b[0misinstance\u001b[0m\u001b[0;34m(\u001b[0m\u001b[0mdata\u001b[0m\u001b[0;34m,\u001b[0m \u001b[0;34m(\u001b[0m\u001b[0mlist\u001b[0m\u001b[0;34m,\u001b[0m \u001b[0mtypes\u001b[0m\u001b[0;34m.\u001b[0m\u001b[0mGeneratorType\u001b[0m\u001b[0;34m)\u001b[0m\u001b[0;34m)\u001b[0m\u001b[0;34m:\u001b[0m\u001b[0;34m\u001b[0m\u001b[0m\n\u001b[1;32m    363\u001b[0m             \u001b[0;32mif\u001b[0m \u001b[0misinstance\u001b[0m\u001b[0;34m(\u001b[0m\u001b[0mdata\u001b[0m\u001b[0;34m,\u001b[0m \u001b[0mtypes\u001b[0m\u001b[0;34m.\u001b[0m\u001b[0mGeneratorType\u001b[0m\u001b[0;34m)\u001b[0m\u001b[0;34m:\u001b[0m\u001b[0;34m\u001b[0m\u001b[0m\n",
      "\u001b[0;32m/home/ak/Envs/DataAnalysis/local/lib/python2.7/site-packages/pandas/core/frame.pyc\u001b[0m in \u001b[0;36m_init_ndarray\u001b[0;34m(self, values, index, columns, dtype, copy)\u001b[0m\n\u001b[1;32m    531\u001b[0m             \u001b[0mvalues\u001b[0m \u001b[0;34m=\u001b[0m \u001b[0mmaybe_infer_to_datetimelike\u001b[0m\u001b[0;34m(\u001b[0m\u001b[0mvalues\u001b[0m\u001b[0;34m)\u001b[0m\u001b[0;34m\u001b[0m\u001b[0m\n\u001b[1;32m    532\u001b[0m \u001b[0;34m\u001b[0m\u001b[0m\n\u001b[0;32m--> 533\u001b[0;31m         \u001b[0;32mreturn\u001b[0m \u001b[0mcreate_block_manager_from_blocks\u001b[0m\u001b[0;34m(\u001b[0m\u001b[0;34m[\u001b[0m\u001b[0mvalues\u001b[0m\u001b[0;34m]\u001b[0m\u001b[0;34m,\u001b[0m \u001b[0;34m[\u001b[0m\u001b[0mcolumns\u001b[0m\u001b[0;34m,\u001b[0m \u001b[0mindex\u001b[0m\u001b[0;34m]\u001b[0m\u001b[0;34m)\u001b[0m\u001b[0;34m\u001b[0m\u001b[0m\n\u001b[0m\u001b[1;32m    534\u001b[0m \u001b[0;34m\u001b[0m\u001b[0m\n\u001b[1;32m    535\u001b[0m     \u001b[0;34m@\u001b[0m\u001b[0mproperty\u001b[0m\u001b[0;34m\u001b[0m\u001b[0m\n",
      "\u001b[0;32m/home/ak/Envs/DataAnalysis/local/lib/python2.7/site-packages/pandas/core/internals.pyc\u001b[0m in \u001b[0;36mcreate_block_manager_from_blocks\u001b[0;34m(blocks, axes)\u001b[0m\n\u001b[1;32m   4629\u001b[0m         \u001b[0mblocks\u001b[0m \u001b[0;34m=\u001b[0m \u001b[0;34m[\u001b[0m\u001b[0mgetattr\u001b[0m\u001b[0;34m(\u001b[0m\u001b[0mb\u001b[0m\u001b[0;34m,\u001b[0m \u001b[0;34m'values'\u001b[0m\u001b[0;34m,\u001b[0m \u001b[0mb\u001b[0m\u001b[0;34m)\u001b[0m \u001b[0;32mfor\u001b[0m \u001b[0mb\u001b[0m \u001b[0;32min\u001b[0m \u001b[0mblocks\u001b[0m\u001b[0;34m]\u001b[0m\u001b[0;34m\u001b[0m\u001b[0m\n\u001b[1;32m   4630\u001b[0m         \u001b[0mtot_items\u001b[0m \u001b[0;34m=\u001b[0m \u001b[0msum\u001b[0m\u001b[0;34m(\u001b[0m\u001b[0mb\u001b[0m\u001b[0;34m.\u001b[0m\u001b[0mshape\u001b[0m\u001b[0;34m[\u001b[0m\u001b[0;36m0\u001b[0m\u001b[0;34m]\u001b[0m \u001b[0;32mfor\u001b[0m \u001b[0mb\u001b[0m \u001b[0;32min\u001b[0m \u001b[0mblocks\u001b[0m\u001b[0;34m)\u001b[0m\u001b[0;34m\u001b[0m\u001b[0m\n\u001b[0;32m-> 4631\u001b[0;31m         \u001b[0mconstruction_error\u001b[0m\u001b[0;34m(\u001b[0m\u001b[0mtot_items\u001b[0m\u001b[0;34m,\u001b[0m \u001b[0mblocks\u001b[0m\u001b[0;34m[\u001b[0m\u001b[0;36m0\u001b[0m\u001b[0;34m]\u001b[0m\u001b[0;34m.\u001b[0m\u001b[0mshape\u001b[0m\u001b[0;34m[\u001b[0m\u001b[0;36m1\u001b[0m\u001b[0;34m:\u001b[0m\u001b[0;34m]\u001b[0m\u001b[0;34m,\u001b[0m \u001b[0maxes\u001b[0m\u001b[0;34m,\u001b[0m \u001b[0me\u001b[0m\u001b[0;34m)\u001b[0m\u001b[0;34m\u001b[0m\u001b[0m\n\u001b[0m\u001b[1;32m   4632\u001b[0m \u001b[0;34m\u001b[0m\u001b[0m\n\u001b[1;32m   4633\u001b[0m \u001b[0;34m\u001b[0m\u001b[0m\n",
      "\u001b[0;32m/home/ak/Envs/DataAnalysis/local/lib/python2.7/site-packages/pandas/core/internals.pyc\u001b[0m in \u001b[0;36mconstruction_error\u001b[0;34m(tot_items, block_shape, axes, e)\u001b[0m\n\u001b[1;32m   4606\u001b[0m         \u001b[0;32mraise\u001b[0m \u001b[0mValueError\u001b[0m\u001b[0;34m(\u001b[0m\u001b[0;34m\"Empty data passed with indices specified.\"\u001b[0m\u001b[0;34m)\u001b[0m\u001b[0;34m\u001b[0m\u001b[0m\n\u001b[1;32m   4607\u001b[0m     raise ValueError(\"Shape of passed values is {0}, indices imply {1}\".format(\n\u001b[0;32m-> 4608\u001b[0;31m         passed, implied))\n\u001b[0m\u001b[1;32m   4609\u001b[0m \u001b[0;34m\u001b[0m\u001b[0m\n\u001b[1;32m   4610\u001b[0m \u001b[0;34m\u001b[0m\u001b[0m\n",
      "\u001b[0;31mValueError\u001b[0m: Shape of passed values is (3, 250), indices imply (2, 250)"
     ]
    }
   ],
   "source": [
    "from collections import OrderedDict \n",
    "\n",
    "state_ratios = np.array([[0.2, 0.05], [0.4, 0.1], [0.8, 0.2]]) \n",
    "\n",
    "T = 200\n",
    "M = 100\n",
    "\n",
    "#all_determinants = np.zeros((len(Ts), M))\n",
    "f_eng= hmm_features(hmm=the_hmm)\n",
    "_inf_matrix=OrderedDict()\n",
    "_ksi =OrderedDict()\n",
    "\n",
    "rng = np.random.RandomState(12345) #inside to make the sequences nested\n",
    "states = states_from_fixed_ratios(state_ratios, T)\n",
    "for m in xrange(M):\n",
    "    _obs_samples = obs_model.sample_data(states, rng=rng)\n",
    "    _df = pd.DataFrame(_obs_samples, columns=['Duration', 'ReturnTradedPrice'])\n",
    "    _features = f_eng.generate_features(_df)\n",
    "    _inf_matrix[m]=_features[1] #information matrix\n",
    "    _ksi[m] =_features[3] #ksi"
   ]
  },
  {
   "cell_type": "code",
   "execution_count": 13,
   "metadata": {},
   "outputs": [],
   "source": [
    "inf_keys =_inf_matrix.keys()\n",
    "ln_T =T\n",
    "#len(_inf_matrix)\n",
    "spectral_gap = OrderedDict()\n",
    "_trace= OrderedDict()\n",
    "_determinant =OrderedDict()\n",
    "for key in inf_keys:\n",
    "    for i_t in range(0,ln_T):\n",
    "        _s=np.linalg.svd(squareform_diagfill(np.asarray(_inf_matrix[key][i_t:i_t+1])), full_matrices= False, compute_uv= False)\n",
    "        spectral_gap[(key, i_t)]=_s.max() - _s.min()\n",
    "        _trace[(key, i_t)] =np.log(np.sum(_s)/max(1,key))\n",
    "        _determinant[(key, i_t)] = np.log(np.prod(_s)/max(1,key))"
   ]
  },
  {
   "cell_type": "code",
   "execution_count": 14,
   "metadata": {},
   "outputs": [],
   "source": [
    "list_keys =_determinant.keys()"
   ]
  },
  {
   "cell_type": "code",
   "execution_count": 15,
   "metadata": {},
   "outputs": [
    {
     "data": {
      "text/plain": [
       "0"
      ]
     },
     "execution_count": 15,
     "metadata": {},
     "output_type": "execute_result"
    }
   ],
   "source": [
    "len(list_keys)/200"
   ]
  },
  {
   "cell_type": "code",
   "execution_count": 18,
   "metadata": {},
   "outputs": [],
   "source": [
    "_folder ='home/ak/Documents/Data'"
   ]
  },
  {
   "cell_type": "code",
   "execution_count": 22,
   "metadata": {},
   "outputs": [],
   "source": [
    "sys.path.append(_folder)"
   ]
  },
  {
   "cell_type": "code",
   "execution_count": null,
   "metadata": {
    "collapsed": true
   },
   "outputs": [],
   "source": []
  }
 ],
 "metadata": {
  "kernelspec": {
   "display_name": "Python 2",
   "language": "python",
   "name": "python2"
  },
  "language_info": {
   "codemirror_mode": {
    "name": "ipython",
    "version": 2
   },
   "file_extension": ".py",
   "mimetype": "text/x-python",
   "name": "python",
   "nbconvert_exporter": "python",
   "pygments_lexer": "ipython2",
   "version": "2.7.12+"
  }
 },
 "nbformat": 4,
 "nbformat_minor": 1
}
