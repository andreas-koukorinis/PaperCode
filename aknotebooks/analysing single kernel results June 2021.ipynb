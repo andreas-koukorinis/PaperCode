{
 "cells": [
  {
   "cell_type": "code",
   "execution_count": 1,
   "metadata": {},
   "outputs": [],
   "source": [
    "import os\n",
    "import pandas as pd\n",
    "import math\n",
    "import sys\n",
    "import numpy as np\n",
    "import matplotlib as mpl\n",
    "import matplotlib.pyplot as plt\n",
    "%matplotlib inline\n",
    "import pickle as pkl\n",
    "plt.style.use(os.path.join(mpl.get_configdir(), 'latexstyle.mplstyle'))\n",
    "sys.path.append('/home/ak/Documents/Research/PaperCode/singlekernelclf')\n",
    "from scipy import stats\n",
    "from sklearn.preprocessing import StandardScaler\n",
    "import warnings\n",
    "warnings.filterwarnings('ignore')\n",
    "from collections import defaultdict\n",
    "import multiprocessing\n",
    "import math\n",
    "import seaborn as sns"
   ]
  },
  {
   "cell_type": "code",
   "execution_count": 2,
   "metadata": {},
   "outputs": [],
   "source": [
    "from fileutils import DataLoader as DataLoader\n",
    "from fileutils import paths\n",
    "from fileutils import new_feature_utils as nfu"
   ]
  },
  {
   "cell_type": "code",
   "execution_count": 8,
   "metadata": {},
   "outputs": [],
   "source": [
    "figuresDestination ='/home/ak/Documents/Research/Papers/HybridLearningPaper/figures/'\n",
    "symbols = os.listdir(paths('symbols_features'))\n",
    "\n",
    "alternate_labels_nos = [1, 2, 3, 4, 5, 6]  # we have 7 alternative data types\n",
    "\n",
    "mainPath = paths('main')\n",
    "\n",
    "locationPath = os.path.join(mainPath,'ExperimentCommonLocs/')\n",
    "predictionsPath = os.path.join(locationPath, 'OOSPredictions')\n",
    "fittedModelsPath = os.path.join(locationPath, 'FittedModels')"
   ]
  },
  {
   "cell_type": "code",
   "execution_count": 32,
   "metadata": {},
   "outputs": [
    {
     "data": {
      "text/plain": [
       "{'AAL.L',\n",
       " 'APF.L',\n",
       " 'AZN.L',\n",
       " 'BATS.L',\n",
       " 'CCL.L',\n",
       " 'CEY.L',\n",
       " 'LAND.L',\n",
       " 'LGEN.L',\n",
       " 'LLOY.L',\n",
       " 'MAB.L',\n",
       " 'MKS.L',\n",
       " 'NG.L',\n",
       " 'PRU.L',\n",
       " 'RB.L',\n",
       " 'RBS.L',\n",
       " 'RDSa.L',\n",
       " 'REL.L',\n",
       " 'RR.L',\n",
       " 'RSA.L',\n",
       " 'RTO.L',\n",
       " 'SDR.L',\n",
       " 'SHP.L',\n",
       " 'SMIN.L',\n",
       " 'SPT.L',\n",
       " 'STAN.L',\n",
       " 'TSCO.L',\n",
       " 'VOD.L',\n",
       " 'WPP.L'}"
      ]
     },
     "execution_count": 32,
     "metadata": {},
     "output_type": "execute_result"
    }
   ],
   "source": [
    "fittedUniqueSymbols  = set(sorted(np.unique([f.split(\"_\")[0] for f in os.listdir(fittedModelsPath)])))\n",
    "fittedUniqueSymbols"
   ]
  },
  {
   "cell_type": "code",
   "execution_count": 33,
   "metadata": {},
   "outputs": [],
   "source": [
    "symbol ='AAL.L'\n",
    "predictedSymbols = set(sorted(np.unique([f.split(\"_\")[0] for f in os.listdir(predictionsPath)])))"
   ]
  },
  {
   "cell_type": "code",
   "execution_count": 34,
   "metadata": {},
   "outputs": [
    {
     "data": {
      "text/plain": [
       "{'AAL.L',\n",
       " 'APF.L',\n",
       " 'AZN.L',\n",
       " 'BATS.L',\n",
       " 'CCL.L',\n",
       " 'CEY.L',\n",
       " 'LAND.L',\n",
       " 'LGEN.L',\n",
       " 'LLOY.L',\n",
       " 'MAB.L',\n",
       " 'MKS.L',\n",
       " 'PRU.L',\n",
       " 'RB.L',\n",
       " 'RTO.L',\n",
       " 'SHP.L',\n",
       " 'SMIN.L',\n",
       " 'SPT.L',\n",
       " 'STAN.L',\n",
       " 'TSCO.L',\n",
       " 'VOD.L',\n",
       " 'WPP.L'}"
      ]
     },
     "execution_count": 34,
     "metadata": {},
     "output_type": "execute_result"
    }
   ],
   "source": [
    "predictedSymbols"
   ]
  },
  {
   "cell_type": "code",
   "execution_count": null,
   "metadata": {},
   "outputs": [],
   "source": []
  },
  {
   "cell_type": "code",
   "execution_count": 67,
   "metadata": {},
   "outputs": [
    {
     "name": "stdout",
     "output_type": "stream",
     "text": [
      "you chose symbol:  APF.L\n"
     ]
    }
   ],
   "source": [
    "symbolIdx = 1 # symbol choice\n",
    "symbol = uniqueSymbols[symbolIdx]\n",
    "print(\"you chose symbol: \", symbol)"
   ]
  },
  {
   "cell_type": "code",
   "execution_count": 68,
   "metadata": {},
   "outputs": [
    {
     "data": {
      "text/plain": [
       "88"
      ]
     },
     "execution_count": 68,
     "metadata": {},
     "output_type": "execute_result"
    }
   ],
   "source": [
    "symbolFiles = [f for f in os.listdir(fittedModelsPath) if str(symbol) in f] # isolate the files for one symbol\n",
    "len(symbolFiles)"
   ]
  },
  {
   "cell_type": "code",
   "execution_count": null,
   "metadata": {},
   "outputs": [],
   "source": []
  },
  {
   "cell_type": "code",
   "execution_count": 58,
   "metadata": {},
   "outputs": [],
   "source": [
    "labelIdx = 4\n",
    "labelChoice = str(\"_\" + str(labelIdx)+\"_\")\n",
    "labelChoiceSymbolFiles = [f for f in symbolFiles if str(labelChoice) in f]\n",
    "\n"
   ]
  },
  {
   "cell_type": "code",
   "execution_count": 59,
   "metadata": {},
   "outputs": [
    {
     "name": "stdout",
     "output_type": "stream",
     "text": [
      "APF.L_model_fit_date_20170829_4_SingleKernelSVC.pkl\n"
     ]
    }
   ],
   "source": [
    "pklFileIdx = 3\n",
    "pklFile = labelChoiceSymbolFiles[pklFileIdx]\n",
    "print(pklFile)\n",
    "pklFileLoc = os.path.join(fittedModelsPath, pklFile)"
   ]
  },
  {
   "cell_type": "code",
   "execution_count": 40,
   "metadata": {},
   "outputs": [
    {
     "data": {
      "text/plain": [
       "57"
      ]
     },
     "execution_count": 40,
     "metadata": {},
     "output_type": "execute_result"
    }
   ],
   "source": [
    "len(labelChoiceSymbolFiles)"
   ]
  },
  {
   "cell_type": "code",
   "execution_count": 41,
   "metadata": {},
   "outputs": [
    {
     "data": {
      "text/plain": [
       "True"
      ]
     },
     "execution_count": 41,
     "metadata": {},
     "output_type": "execute_result"
    }
   ],
   "source": [
    "os.path.isfile(pklFileLoc)"
   ]
  },
  {
   "cell_type": "code",
   "execution_count": 60,
   "metadata": {},
   "outputs": [
    {
     "data": {
      "text/plain": [
       "defaultdict(dict,\n",
       "            {'APF.L': {'20170829': {'SVC': GridSearchCV(cv=5, estimator=SVC(class_weight='balanced'), n_jobs=-1,\n",
       "                            param_grid={'C': [1, 10, 100], 'gamma': [0.0001, 0.001, 0.01],\n",
       "                                        'kernel': ['rbf', 'poly']},\n",
       "                            verbose=1),\n",
       "               'best_params': {'C': 100, 'gamma': 0.01, 'kernel': 'rbf'},\n",
       "               'means': array([0.46      , 0.46      , 0.44666667, 0.46      , 0.47333333,\n",
       "                      0.46      , 0.36666667, 0.39333333, 0.36666667, 0.39333333,\n",
       "                      0.40666667, 0.39333333, 0.47333333, 0.47333333, 0.40666667,\n",
       "                      0.47333333, 0.56666667, 0.47333333]),\n",
       "               'stds': array([0.23323808, 0.23323808, 0.20176995, 0.23323808, 0.21123973,\n",
       "                      0.23323808, 0.16055459, 0.16384274, 0.16055459, 0.16384274,\n",
       "                      0.16110728, 0.16384274, 0.01333333, 0.01333333, 0.16110728,\n",
       "                      0.01333333, 0.0843274 , 0.01333333]),\n",
       "               'params': [{'C': 1, 'gamma': 0.0001, 'kernel': 'rbf'},\n",
       "                {'C': 1, 'gamma': 0.0001, 'kernel': 'poly'},\n",
       "                {'C': 1, 'gamma': 0.001, 'kernel': 'rbf'},\n",
       "                {'C': 1, 'gamma': 0.001, 'kernel': 'poly'},\n",
       "                {'C': 1, 'gamma': 0.01, 'kernel': 'rbf'},\n",
       "                {'C': 1, 'gamma': 0.01, 'kernel': 'poly'},\n",
       "                {'C': 10, 'gamma': 0.0001, 'kernel': 'rbf'},\n",
       "                {'C': 10, 'gamma': 0.0001, 'kernel': 'poly'},\n",
       "                {'C': 10, 'gamma': 0.001, 'kernel': 'rbf'},\n",
       "                {'C': 10, 'gamma': 0.001, 'kernel': 'poly'},\n",
       "                {'C': 10, 'gamma': 0.01, 'kernel': 'rbf'},\n",
       "                {'C': 10, 'gamma': 0.01, 'kernel': 'poly'},\n",
       "                {'C': 100, 'gamma': 0.0001, 'kernel': 'rbf'},\n",
       "                {'C': 100, 'gamma': 0.0001, 'kernel': 'poly'},\n",
       "                {'C': 100, 'gamma': 0.001, 'kernel': 'rbf'},\n",
       "                {'C': 100, 'gamma': 0.001, 'kernel': 'poly'},\n",
       "                {'C': 100, 'gamma': 0.01, 'kernel': 'rbf'},\n",
       "                {'C': 100, 'gamma': 0.01, 'kernel': 'poly'}],\n",
       "               'best_score': 0.5666666666666667}}})"
      ]
     },
     "execution_count": 60,
     "metadata": {},
     "output_type": "execute_result"
    }
   ],
   "source": [
    "infile = open(pklFileLoc, 'rb')\n",
    "pkl.load(infile, encoding= 'latin1')"
   ]
  },
  {
   "cell_type": "code",
   "execution_count": 43,
   "metadata": {},
   "outputs": [
    {
     "data": {
      "text/plain": [
       "['AZN.L_Label_3_20170818_OOS_results_dict.pkl',\n",
       " 'AZN.L_Label_3_20170809_OOS_results_dict.pkl',\n",
       " 'AZN.L_Label_3_20170929_OOS_results_dict.pkl',\n",
       " 'AZN.L_Label_3_20170807_OOS_results_dict.pkl',\n",
       " 'AZN.L_Label_3_20170823_OOS_results_dict.pkl',\n",
       " 'AZN.L_Label_3_20170131_OOS_results_dict.pkl',\n",
       " 'AZN.L_Label_3_20170705_OOS_results_dict.pkl',\n",
       " 'AZN.L_Label_3_20170920_OOS_results_dict.pkl',\n",
       " 'AZN.L_Label_3_20170825_OOS_results_dict.pkl',\n",
       " 'AZN.L_Label_3_20170124_OOS_results_dict.pkl',\n",
       " 'AZN.L_Label_3_20170704_OOS_results_dict.pkl',\n",
       " 'AZN.L_Label_3_20170811_OOS_results_dict.pkl',\n",
       " 'AZN.L_Label_3_20170925_OOS_results_dict.pkl',\n",
       " 'AZN.L_Label_3_20170901_OOS_results_dict.pkl',\n",
       " 'AZN.L_Label_3_20170911_OOS_results_dict.pkl',\n",
       " 'AZN.L_Label_3_20170810_OOS_results_dict.pkl',\n",
       " 'AZN.L_Label_3_20170801_OOS_results_dict.pkl',\n",
       " 'AZN.L_Label_3_20170904_OOS_results_dict.pkl',\n",
       " 'AZN.L_Label_3_20170815_OOS_results_dict.pkl',\n",
       " 'AZN.L_Label_3_20170127_OOS_results_dict.pkl',\n",
       " 'AZN.L_Label_3_20170921_OOS_results_dict.pkl',\n",
       " 'AZN.L_Label_3_20170915_OOS_results_dict.pkl',\n",
       " 'AZN.L_Label_3_20170703_OOS_results_dict.pkl',\n",
       " 'AZN.L_Label_3_20170829_OOS_results_dict.pkl',\n",
       " 'AZN.L_Label_3_20170118_OOS_results_dict.pkl',\n",
       " 'AZN.L_Label_3_20170905_OOS_results_dict.pkl',\n",
       " 'AZN.L_Label_3_20170126_OOS_results_dict.pkl',\n",
       " 'AZN.L_Label_3_20170803_OOS_results_dict.pkl',\n",
       " 'AZN.L_Label_3_20170123_OOS_results_dict.pkl',\n",
       " 'AZN.L_Label_3_20170817_OOS_results_dict.pkl',\n",
       " 'AZN.L_Label_3_20170914_OOS_results_dict.pkl',\n",
       " 'AZN.L_Label_3_20170119_OOS_results_dict.pkl',\n",
       " 'AZN.L_Label_3_20170922_OOS_results_dict.pkl',\n",
       " 'AZN.L_Label_3_20170816_OOS_results_dict.pkl',\n",
       " 'AZN.L_Label_3_20170913_OOS_results_dict.pkl',\n",
       " 'AZN.L_Label_3_20170125_OOS_results_dict.pkl',\n",
       " 'AZN.L_Label_3_20170808_OOS_results_dict.pkl',\n",
       " 'AZN.L_Label_3_20170120_OOS_results_dict.pkl',\n",
       " 'AZN.L_Label_3_20170918_OOS_results_dict.pkl',\n",
       " 'AZN.L_Label_3_20170802_OOS_results_dict.pkl',\n",
       " 'AZN.L_Label_3_20170927_OOS_results_dict.pkl',\n",
       " 'AZN.L_Label_3_20170831_OOS_results_dict.pkl',\n",
       " 'AZN.L_Label_3_20170907_OOS_results_dict.pkl',\n",
       " 'AZN.L_Label_3_20170821_OOS_results_dict.pkl',\n",
       " 'AZN.L_Label_3_20170130_OOS_results_dict.pkl',\n",
       " 'AZN.L_Label_3_20170912_OOS_results_dict.pkl',\n",
       " 'AZN.L_Label_3_20170822_OOS_results_dict.pkl',\n",
       " 'AZN.L_Label_3_20170814_OOS_results_dict.pkl',\n",
       " 'AZN.L_Label_3_20170706_OOS_results_dict.pkl',\n",
       " 'AZN.L_Label_3_20170804_OOS_results_dict.pkl',\n",
       " 'AZN.L_Label_3_20170830_OOS_results_dict.pkl',\n",
       " 'AZN.L_Label_3_20170928_OOS_results_dict.pkl',\n",
       " 'AZN.L_Label_3_20170908_OOS_results_dict.pkl',\n",
       " 'AZN.L_Label_3_20170824_OOS_results_dict.pkl',\n",
       " 'AZN.L_Label_3_20170919_OOS_results_dict.pkl',\n",
       " 'AZN.L_Label_3_20170926_OOS_results_dict.pkl',\n",
       " 'AZN.L_Label_3_20170906_OOS_results_dict.pkl']"
      ]
     },
     "execution_count": 43,
     "metadata": {},
     "output_type": "execute_result"
    }
   ],
   "source": [
    "labelChoiceSymbolFiles"
   ]
  },
  {
   "cell_type": "code",
   "execution_count": null,
   "metadata": {},
   "outputs": [],
   "source": []
  },
  {
   "cell_type": "code",
   "execution_count": null,
   "metadata": {},
   "outputs": [],
   "source": []
  }
 ],
 "metadata": {
  "kernelspec": {
   "display_name": "Python 3",
   "language": "python",
   "name": "python3"
  },
  "language_info": {
   "codemirror_mode": {
    "name": "ipython",
    "version": 3
   },
   "file_extension": ".py",
   "mimetype": "text/x-python",
   "name": "python",
   "nbconvert_exporter": "python",
   "pygments_lexer": "ipython3",
   "version": "3.6.8"
  }
 },
 "nbformat": 4,
 "nbformat_minor": 5
}
