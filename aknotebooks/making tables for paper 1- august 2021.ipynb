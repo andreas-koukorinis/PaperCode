{
 "cells": [
  {
   "cell_type": "code",
   "execution_count": 1,
   "metadata": {},
   "outputs": [],
   "source": [
    "import pickle as pkl\n",
    "import pandas as pd\n",
    "import os\n",
    "import matplotlib.pyplot as plt\n",
    "%matplotlib inline\n",
    "import seaborn as sns\n",
    "import pandas as pd\n",
    "import numpy as np\n",
    "import pickle"
   ]
  },
  {
   "cell_type": "code",
   "execution_count": 2,
   "metadata": {},
   "outputs": [],
   "source": [
    "predictionsFolder = '/mnt/usb-Seagate_Expansion_Desk_NA8XEHR6-0:0-part2/ExperimentCommonLocs/OOSPredictions'"
   ]
  },
  {
   "cell_type": "code",
   "execution_count": 3,
   "metadata": {},
   "outputs": [],
   "source": [
    "expLocationsFolder = '/mnt/usb-Seagate_Expansion_Desk_NA8XEHR6-0:0-part2/ExperimentCommonLocs/'\n",
    "processDFFolder  =os.path.join(expLocationsFolder, 'processedSingleKernelOOS/')"
   ]
  },
  {
   "cell_type": "code",
   "execution_count": 4,
   "metadata": {},
   "outputs": [
    {
     "data": {
      "text/plain": [
       "['singleKernel_Label_5.csv',\n",
       " 'singleKernel_Label_3.csv',\n",
       " 'singleKernel_Label_4.csv',\n",
       " 'singleKernel_Label_0.csv',\n",
       " 'singleKernel_Label_2.csv',\n",
       " 'singleKernel_Label_1.csv']"
      ]
     },
     "execution_count": 4,
     "metadata": {},
     "output_type": "execute_result"
    }
   ],
   "source": [
    "os.listdir(processDFFolder )"
   ]
  },
  {
   "cell_type": "code",
   "execution_count": 54,
   "metadata": {},
   "outputs": [],
   "source": [
    "\n",
    "def open_pickle_filepath(pickle_file):\n",
    "    '''\n",
    "    enter a path of a pickle file and receive the contents of the file\n",
    "    '''\n",
    "    pickle_to_file = pickle.load(open(pickle_file, \"rb\"), encoding='latin1')\n",
    "\n",
    "    return pickle_to_file\n",
    "\n",
    " \n",
    "\n",
    "def remove_duplicate_rows(df):\n",
    "    '''\n",
    "    enter dataframe and receive a df with the duplicates removed.\n",
    "    '''\n",
    "    return df[~df.index.duplicated(keep='first')]\n",
    "\n",
    "def concatenate_list_to_df(destinationList):\n",
    "    df =remove_duplicate_rows(pd.concat([pd.DataFrame.from_dict(l,orient='index') for l in destinationList]))\n",
    "    return df\n",
    "\n",
    "\n",
    "def return_symbol_files(symbolIdx):\n",
    "    '''\n",
    "    \n",
    "    '''\n",
    "    symbolFolder = os.path.join(predictionsFolder, predictedSymbols[symbolIdx])\n",
    "    \n",
    "    print(predictedSymbols[symbolIdx])\n",
    "    symbolFilesLabelOne = sorted(list(np.unique(np.array([ f for f in os.listdir(symbolFolder) if str('Label_1') in f]))))\n",
    "    symbolFilesLabelTwo = sorted(list(np.unique(np.array([ f for f in os.listdir(symbolFolder) if str('Label_2') in f]))))\n",
    "    symbolFilesLabelThree = sorted(list(np.unique(np.array([ f for f in os.listdir(symbolFolder) if str('Label_3') in f]))))\n",
    "    symbolFilesLabelFour = sorted(list(np.unique(np.array([ f for f in os.listdir(symbolFolder) if str('Label_4') in f]))))\n",
    "    symbolFilesLabelFive = sorted(list(np.unique(np.array([ f for f in os.listdir(symbolFolder) if str('Label_5') in f]))))\n",
    "    symbolFilesLabelSix = sorted(list(np.unique(np.array([ f for f in os.listdir(symbolFolder) if str('Label_6') in f]))))\n",
    "    symbolFilesLabelSeven = sorted(list(np.unique(np.array([ f for f in os.listdir(symbolFolder) if str('Label_7') in f]))))  \n",
    "\n",
    "    print(' you have these symbol coming out : ', symbolFolder)\n",
    "    return [ symbolFilesLabelTwo, symbolFilesLabelThree, symbolFilesLabelFour, symbolFilesLabelFive, symbolFilesLabelSix, symbolFilesLabelSeven]\n"
   ]
  },
  {
   "cell_type": "code",
   "execution_count": 41,
   "metadata": {},
   "outputs": [],
   "source": [
    "predictedSymbols = os.listdir(predictionsFolder)"
   ]
  },
  {
   "cell_type": "code",
   "execution_count": 42,
   "metadata": {},
   "outputs": [
    {
     "name": "stdout",
     "output_type": "stream",
     "text": [
      "['LGEN.L', 'SMIN.L', 'NG.L', 'PRU.L', 'SHP.L', 'RTO.L', 'BATS.L', 'RR.L', 'RDSa.L', 'SPT.L', 'CEY.L', 'RB.L', 'TSCO.L', 'APF.L', 'STAN.L', 'AZN.L', 'CCL.L', 'LLOY.L', 'MKS.L', 'WPP.L', 'AAL.L', 'VOD.L', 'MAB.L', 'RBS.L', 'LAND.L']\n"
     ]
    }
   ],
   "source": [
    "# lets print symbols we have predictions for\n",
    "print(predictedSymbols)"
   ]
  },
  {
   "cell_type": "code",
   "execution_count": 43,
   "metadata": {},
   "outputs": [],
   "source": [
    "# symbolFilesLabelTwo, symbolFilesLabelThree, symbolFilesLabelFour, symbolFilesLabelFive, symbolFilesLabelSix, symbolFilesLabelSeven = return_symbol_files(2)"
   ]
  },
  {
   "cell_type": "code",
   "execution_count": 58,
   "metadata": {},
   "outputs": [
    {
     "name": "stdout",
     "output_type": "stream",
     "text": [
      "SMIN.L\n",
      " you have these symbol coming out :  /mnt/usb-Seagate_Expansion_Desk_NA8XEHR6-0:0-part2/ExperimentCommonLocs/OOSPredictions/SMIN.L\n"
     ]
    }
   ],
   "source": [
    "files_label_one, files_label_two, files_label_three, files_label_four, files_label_five, \\\n",
    "files_label_six = return_symbol_files(1)"
   ]
  },
  {
   "cell_type": "code",
   "execution_count": 62,
   "metadata": {},
   "outputs": [
    {
     "data": {
      "text/plain": [
       "['SMIN.L_Label_5_20170706_OOS_results_dict.pkl',\n",
       " 'SMIN.L_Label_5_20170707_OOS_results_dict.pkl',\n",
       " 'SMIN.L_Label_5_20170710_OOS_results_dict.pkl',\n",
       " 'SMIN.L_Label_5_20170711_OOS_results_dict.pkl',\n",
       " 'SMIN.L_Label_5_20170712_OOS_results_dict.pkl',\n",
       " 'SMIN.L_Label_5_20170713_OOS_results_dict.pkl',\n",
       " 'SMIN.L_Label_5_20170714_OOS_results_dict.pkl',\n",
       " 'SMIN.L_Label_5_20170717_OOS_results_dict.pkl',\n",
       " 'SMIN.L_Label_5_20170718_OOS_results_dict.pkl',\n",
       " 'SMIN.L_Label_5_20170719_OOS_results_dict.pkl',\n",
       " 'SMIN.L_Label_5_20170720_OOS_results_dict.pkl',\n",
       " 'SMIN.L_Label_5_20170721_OOS_results_dict.pkl',\n",
       " 'SMIN.L_Label_5_20170724_OOS_results_dict.pkl',\n",
       " 'SMIN.L_Label_5_20170725_OOS_results_dict.pkl',\n",
       " 'SMIN.L_Label_5_20170726_OOS_results_dict.pkl',\n",
       " 'SMIN.L_Label_5_20170727_OOS_results_dict.pkl',\n",
       " 'SMIN.L_Label_5_20170728_OOS_results_dict.pkl',\n",
       " 'SMIN.L_Label_5_20170731_OOS_results_dict.pkl',\n",
       " 'SMIN.L_Label_5_20170801_OOS_results_dict.pkl',\n",
       " 'SMIN.L_Label_5_20170802_OOS_results_dict.pkl',\n",
       " 'SMIN.L_Label_5_20170803_OOS_results_dict.pkl',\n",
       " 'SMIN.L_Label_5_20170804_OOS_results_dict.pkl',\n",
       " 'SMIN.L_Label_5_20170807_OOS_results_dict.pkl',\n",
       " 'SMIN.L_Label_5_20170808_OOS_results_dict.pkl',\n",
       " 'SMIN.L_Label_5_20170809_OOS_results_dict.pkl',\n",
       " 'SMIN.L_Label_5_20170810_OOS_results_dict.pkl',\n",
       " 'SMIN.L_Label_5_20170811_OOS_results_dict.pkl',\n",
       " 'SMIN.L_Label_5_20170814_OOS_results_dict.pkl',\n",
       " 'SMIN.L_Label_5_20170815_OOS_results_dict.pkl',\n",
       " 'SMIN.L_Label_5_20170816_OOS_results_dict.pkl',\n",
       " 'SMIN.L_Label_5_20170817_OOS_results_dict.pkl',\n",
       " 'SMIN.L_Label_5_20170818_OOS_results_dict.pkl',\n",
       " 'SMIN.L_Label_5_20170821_OOS_results_dict.pkl',\n",
       " 'SMIN.L_Label_5_20170822_OOS_results_dict.pkl',\n",
       " 'SMIN.L_Label_5_20170823_OOS_results_dict.pkl',\n",
       " 'SMIN.L_Label_5_20170824_OOS_results_dict.pkl',\n",
       " 'SMIN.L_Label_5_20170825_OOS_results_dict.pkl',\n",
       " 'SMIN.L_Label_5_20170829_OOS_results_dict.pkl',\n",
       " 'SMIN.L_Label_5_20170830_OOS_results_dict.pkl',\n",
       " 'SMIN.L_Label_5_20170831_OOS_results_dict.pkl',\n",
       " 'SMIN.L_Label_5_20170901_OOS_results_dict.pkl',\n",
       " 'SMIN.L_Label_5_20170904_OOS_results_dict.pkl',\n",
       " 'SMIN.L_Label_5_20170905_OOS_results_dict.pkl',\n",
       " 'SMIN.L_Label_5_20170906_OOS_results_dict.pkl',\n",
       " 'SMIN.L_Label_5_20170907_OOS_results_dict.pkl',\n",
       " 'SMIN.L_Label_5_20170908_OOS_results_dict.pkl',\n",
       " 'SMIN.L_Label_5_20170911_OOS_results_dict.pkl',\n",
       " 'SMIN.L_Label_5_20170912_OOS_results_dict.pkl',\n",
       " 'SMIN.L_Label_5_20170913_OOS_results_dict.pkl',\n",
       " 'SMIN.L_Label_5_20170914_OOS_results_dict.pkl',\n",
       " 'SMIN.L_Label_5_20170915_OOS_results_dict.pkl',\n",
       " 'SMIN.L_Label_5_20170918_OOS_results_dict.pkl',\n",
       " 'SMIN.L_Label_5_20170919_OOS_results_dict.pkl',\n",
       " 'SMIN.L_Label_5_20170920_OOS_results_dict.pkl',\n",
       " 'SMIN.L_Label_5_20170921_OOS_results_dict.pkl',\n",
       " 'SMIN.L_Label_5_20170922_OOS_results_dict.pkl',\n",
       " 'SMIN.L_Label_5_20170925_OOS_results_dict.pkl',\n",
       " 'SMIN.L_Label_5_20170926_OOS_results_dict.pkl',\n",
       " 'SMIN.L_Label_5_20170927_OOS_results_dict.pkl',\n",
       " 'SMIN.L_Label_5_20170928_OOS_results_dict.pkl',\n",
       " 'SMIN.L_Label_5_20170929_OOS_results_dict.pkl',\n",
       " 'SMIN.L_Label_5_20180301_OOS_results_dict.pkl',\n",
       " 'SMIN.L_Label_5_20180302_OOS_results_dict.pkl',\n",
       " 'SMIN.L_Label_5_20180305_OOS_results_dict.pkl',\n",
       " 'SMIN.L_Label_5_20180306_OOS_results_dict.pkl',\n",
       " 'SMIN.L_Label_5_20180307_OOS_results_dict.pkl',\n",
       " 'SMIN.L_Label_5_20180308_OOS_results_dict.pkl',\n",
       " 'SMIN.L_Label_5_20180309_OOS_results_dict.pkl',\n",
       " 'SMIN.L_Label_5_20180312_OOS_results_dict.pkl',\n",
       " 'SMIN.L_Label_5_20180313_OOS_results_dict.pkl',\n",
       " 'SMIN.L_Label_5_20180314_OOS_results_dict.pkl',\n",
       " 'SMIN.L_Label_5_20180315_OOS_results_dict.pkl',\n",
       " 'SMIN.L_Label_5_20180316_OOS_results_dict.pkl',\n",
       " 'SMIN.L_Label_5_20180319_OOS_results_dict.pkl',\n",
       " 'SMIN.L_Label_5_20180320_OOS_results_dict.pkl',\n",
       " 'SMIN.L_Label_5_20180321_OOS_results_dict.pkl',\n",
       " 'SMIN.L_Label_5_20180322_OOS_results_dict.pkl',\n",
       " 'SMIN.L_Label_5_20180323_OOS_results_dict.pkl',\n",
       " 'SMIN.L_Label_5_20180326_OOS_results_dict.pkl',\n",
       " 'SMIN.L_Label_5_20180327_OOS_results_dict.pkl',\n",
       " 'SMIN.L_Label_5_20180328_OOS_results_dict.pkl',\n",
       " 'SMIN.L_Label_5_20180329_OOS_results_dict.pkl',\n",
       " 'SMIN.L_Label_5_20180403_OOS_results_dict.pkl',\n",
       " 'SMIN.L_Label_5_20180404_OOS_results_dict.pkl',\n",
       " 'SMIN.L_Label_5_20180405_OOS_results_dict.pkl',\n",
       " 'SMIN.L_Label_5_20180406_OOS_results_dict.pkl',\n",
       " 'SMIN.L_Label_5_20180409_OOS_results_dict.pkl',\n",
       " 'SMIN.L_Label_5_20180410_OOS_results_dict.pkl',\n",
       " 'SMIN.L_Label_5_20180411_OOS_results_dict.pkl',\n",
       " 'SMIN.L_Label_5_20180412_OOS_results_dict.pkl',\n",
       " 'SMIN.L_Label_5_20180413_OOS_results_dict.pkl',\n",
       " 'SMIN.L_Label_5_20180416_OOS_results_dict.pkl',\n",
       " 'SMIN.L_Label_5_20180417_OOS_results_dict.pkl',\n",
       " 'SMIN.L_Label_5_20180418_OOS_results_dict.pkl',\n",
       " 'SMIN.L_Label_5_20180419_OOS_results_dict.pkl',\n",
       " 'SMIN.L_Label_5_20180420_OOS_results_dict.pkl']"
      ]
     },
     "execution_count": 62,
     "metadata": {},
     "output_type": "execute_result"
    }
   ],
   "source": [
    "files_label_four"
   ]
  },
  {
   "cell_type": "code",
   "execution_count": 67,
   "metadata": {},
   "outputs": [
    {
     "name": "stdout",
     "output_type": "stream",
     "text": [
      "1\n",
      "2\n",
      "3\n",
      "4\n",
      "5\n",
      "6\n",
      "7\n"
     ]
    }
   ],
   "source": [
    "# destinationList = []\n",
    "# # take two dictionaries, one is a default dict and unpack it into a dictionary we will concatenate after\n",
    "# # need to have an inputList and a destinationList\n",
    "# inputList =return_symbol_files(2)[1]\n",
    "# print(symbolFolder)\n",
    "# return_symbol_files(3)\n",
    "for i in range(1,8):\n",
    "    print(i)"
   ]
  },
  {
   "cell_type": "code",
   "execution_count": 71,
   "metadata": {},
   "outputs": [
    {
     "name": "stdout",
     "output_type": "stream",
     "text": [
      "/mnt/usb-Seagate_Expansion_Desk_NA8XEHR6-0:0-part2/ExperimentCommonLocs/OOSPredictions/LGEN.L\n",
      "/mnt/usb-Seagate_Expansion_Desk_NA8XEHR6-0:0-part2/ExperimentCommonLocs/OOSPredictions/SMIN.L\n",
      "/mnt/usb-Seagate_Expansion_Desk_NA8XEHR6-0:0-part2/ExperimentCommonLocs/OOSPredictions/NG.L\n",
      "/mnt/usb-Seagate_Expansion_Desk_NA8XEHR6-0:0-part2/ExperimentCommonLocs/OOSPredictions/PRU.L\n",
      "/mnt/usb-Seagate_Expansion_Desk_NA8XEHR6-0:0-part2/ExperimentCommonLocs/OOSPredictions/SHP.L\n",
      "/mnt/usb-Seagate_Expansion_Desk_NA8XEHR6-0:0-part2/ExperimentCommonLocs/OOSPredictions/RTO.L\n",
      "/mnt/usb-Seagate_Expansion_Desk_NA8XEHR6-0:0-part2/ExperimentCommonLocs/OOSPredictions/BATS.L\n",
      "/mnt/usb-Seagate_Expansion_Desk_NA8XEHR6-0:0-part2/ExperimentCommonLocs/OOSPredictions/RR.L\n",
      "/mnt/usb-Seagate_Expansion_Desk_NA8XEHR6-0:0-part2/ExperimentCommonLocs/OOSPredictions/RDSa.L\n",
      "/mnt/usb-Seagate_Expansion_Desk_NA8XEHR6-0:0-part2/ExperimentCommonLocs/OOSPredictions/SPT.L\n",
      "/mnt/usb-Seagate_Expansion_Desk_NA8XEHR6-0:0-part2/ExperimentCommonLocs/OOSPredictions/CEY.L\n",
      "/mnt/usb-Seagate_Expansion_Desk_NA8XEHR6-0:0-part2/ExperimentCommonLocs/OOSPredictions/RB.L\n",
      "/mnt/usb-Seagate_Expansion_Desk_NA8XEHR6-0:0-part2/ExperimentCommonLocs/OOSPredictions/TSCO.L\n",
      "/mnt/usb-Seagate_Expansion_Desk_NA8XEHR6-0:0-part2/ExperimentCommonLocs/OOSPredictions/APF.L\n",
      "/mnt/usb-Seagate_Expansion_Desk_NA8XEHR6-0:0-part2/ExperimentCommonLocs/OOSPredictions/STAN.L\n",
      "/mnt/usb-Seagate_Expansion_Desk_NA8XEHR6-0:0-part2/ExperimentCommonLocs/OOSPredictions/AZN.L\n",
      "/mnt/usb-Seagate_Expansion_Desk_NA8XEHR6-0:0-part2/ExperimentCommonLocs/OOSPredictions/CCL.L\n",
      "/mnt/usb-Seagate_Expansion_Desk_NA8XEHR6-0:0-part2/ExperimentCommonLocs/OOSPredictions/LLOY.L\n",
      "/mnt/usb-Seagate_Expansion_Desk_NA8XEHR6-0:0-part2/ExperimentCommonLocs/OOSPredictions/MKS.L\n",
      "/mnt/usb-Seagate_Expansion_Desk_NA8XEHR6-0:0-part2/ExperimentCommonLocs/OOSPredictions/WPP.L\n",
      "/mnt/usb-Seagate_Expansion_Desk_NA8XEHR6-0:0-part2/ExperimentCommonLocs/OOSPredictions/AAL.L\n",
      "/mnt/usb-Seagate_Expansion_Desk_NA8XEHR6-0:0-part2/ExperimentCommonLocs/OOSPredictions/VOD.L\n",
      "/mnt/usb-Seagate_Expansion_Desk_NA8XEHR6-0:0-part2/ExperimentCommonLocs/OOSPredictions/MAB.L\n",
      "/mnt/usb-Seagate_Expansion_Desk_NA8XEHR6-0:0-part2/ExperimentCommonLocs/OOSPredictions/RBS.L\n",
      "/mnt/usb-Seagate_Expansion_Desk_NA8XEHR6-0:0-part2/ExperimentCommonLocs/OOSPredictions/LAND.L\n"
     ]
    }
   ],
   "source": [
    "\n",
    "allSymbolsDict =dict() # 1 on labelIdx\n",
    "\n",
    "\n",
    "for symbolIdx in range(len(predictedSymbols)):\n",
    "    \n",
    "    symbolFolder = os.path.join(predictionsFolder, predictedSymbols[symbolIdx])\n",
    "    print(symbolFolder)\n",
    "\n",
    "#     destinationList = []\n",
    "#     for labelidx in range(1,8):\n",
    "#         # need to have an inputList and a destinationList\n",
    "#         inputList =return_symbol_files(symbolIdx)[labelidx]\n",
    "\n",
    "#         for file in inputList:\n",
    "\n",
    "#             file = open_pickle_filepath(os.path.join(symbolFolder, str(file)))\n",
    "#             print(os.path.join(symbolFolder, str(file)) )\n",
    "#             if len(list(file.keys())) ==0:\n",
    "#                 continue\n",
    "#             else:\n",
    "#                 destinationList.append(file[list(file.keys())[0]])\n",
    "#         try: \n",
    "\n",
    "#             allSymbolsDict[predictedSymbols[symbolIdx]] = concatenate_list_to_df(destinationList).mean(axis=0)\n",
    "#         except ValueError or EOFError as error:\n",
    "#             continue # do nothing!\n",
    "\n",
    "\n",
    "# #print(inputList)\n",
    "# # print(symbolFolder)\n",
    "\n"
   ]
  },
  {
   "cell_type": "code",
   "execution_count": 69,
   "metadata": {},
   "outputs": [
    {
     "name": "stdout",
     "output_type": "stream",
     "text": [
      "/mnt/usb-Seagate_Expansion_Desk_NA8XEHR6-0:0-part2/ExperimentCommonLocs/processedSingleKernelOOS/singleKernel_Label_6.csv\n"
     ]
    }
   ],
   "source": [
    "df = pd.DataFrame.from_dict(allSymbolsDict)\n",
    "file_name = os.path.join(processDFFolder, 'singleKernel_Label_'+str(labelidx)+'.csv')\n",
    "print( file_name )"
   ]
  },
  {
   "cell_type": "markdown",
   "metadata": {},
   "source": [
    "## reading files and making plots"
   ]
  },
  {
   "cell_type": "code",
   "execution_count": 70,
   "metadata": {},
   "outputs": [
    {
     "data": {
      "text/html": [
       "<div>\n",
       "<style scoped>\n",
       "    .dataframe tbody tr th:only-of-type {\n",
       "        vertical-align: middle;\n",
       "    }\n",
       "\n",
       "    .dataframe tbody tr th {\n",
       "        vertical-align: top;\n",
       "    }\n",
       "\n",
       "    .dataframe thead th {\n",
       "        text-align: right;\n",
       "    }\n",
       "</style>\n",
       "<table border=\"1\" class=\"dataframe\">\n",
       "  <thead>\n",
       "    <tr style=\"text-align: right;\">\n",
       "      <th></th>\n",
       "      <th>LGEN.L</th>\n",
       "    </tr>\n",
       "  </thead>\n",
       "  <tbody>\n",
       "    <tr>\n",
       "      <th>accuracy</th>\n",
       "      <td>0.329675</td>\n",
       "    </tr>\n",
       "    <tr>\n",
       "      <th>precision</th>\n",
       "      <td>0.197073</td>\n",
       "    </tr>\n",
       "    <tr>\n",
       "      <th>recall</th>\n",
       "      <td>0.329675</td>\n",
       "    </tr>\n",
       "    <tr>\n",
       "      <th>f1- weighted</th>\n",
       "      <td>0.203333</td>\n",
       "    </tr>\n",
       "    <tr>\n",
       "      <th>f1- micro</th>\n",
       "      <td>0.329675</td>\n",
       "    </tr>\n",
       "    <tr>\n",
       "      <th>f1- macro</th>\n",
       "      <td>0.199919</td>\n",
       "    </tr>\n",
       "    <tr>\n",
       "      <th>Hamming Loss</th>\n",
       "      <td>0.670325</td>\n",
       "    </tr>\n",
       "  </tbody>\n",
       "</table>\n",
       "</div>"
      ],
      "text/plain": [
       "                LGEN.L\n",
       "accuracy      0.329675\n",
       "precision     0.197073\n",
       "recall        0.329675\n",
       "f1- weighted  0.203333\n",
       "f1- micro     0.329675\n",
       "f1- macro     0.199919\n",
       "Hamming Loss  0.670325"
      ]
     },
     "execution_count": 70,
     "metadata": {},
     "output_type": "execute_result"
    }
   ],
   "source": [
    "df"
   ]
  },
  {
   "cell_type": "code",
   "execution_count": 48,
   "metadata": {},
   "outputs": [
    {
     "data": {
      "text/plain": [
       "Series([], dtype: float64)"
      ]
     },
     "execution_count": 48,
     "metadata": {},
     "output_type": "execute_result"
    }
   ],
   "source": [
    "df.median(axis=1)"
   ]
  },
  {
   "cell_type": "code",
   "execution_count": 49,
   "metadata": {},
   "outputs": [
    {
     "data": {
      "text/plain": [
       "'LAND.L'"
      ]
     },
     "execution_count": 49,
     "metadata": {},
     "output_type": "execute_result"
    }
   ],
   "source": [
    "predictedSymbols[symbolIdx]"
   ]
  },
  {
   "cell_type": "code",
   "execution_count": null,
   "metadata": {},
   "outputs": [],
   "source": [
    "file_name"
   ]
  },
  {
   "cell_type": "code",
   "execution_count": 15,
   "metadata": {},
   "outputs": [
    {
     "data": {
      "text/plain": [
       "'/mnt/usb-Seagate_Expansion_Desk_NA8XEHR6-0:0-part2/ExperimentCommonLocs/processedSingleKernelOOS/singleKernel_Label_3.csv'"
      ]
     },
     "execution_count": 15,
     "metadata": {},
     "output_type": "execute_result"
    }
   ],
   "source": [
    "file_name"
   ]
  },
  {
   "cell_type": "code",
   "execution_count": 7,
   "metadata": {},
   "outputs": [],
   "source": [
    "single_kernel_processed_files  = os.listdir(processDFFolder )"
   ]
  },
  {
   "cell_type": "code",
   "execution_count": 36,
   "metadata": {},
   "outputs": [
    {
     "name": "stdout",
     "output_type": "stream",
     "text": [
      "/mnt/usb-Seagate_Expansion_Desk_NA8XEHR6-0:0-part2/ExperimentCommonLocs/processedSingleKernelOOS/singleKernel_Label_5.csv\n"
     ]
    }
   ],
   "source": [
    "\n",
    "## file choice\n",
    "fileIdx = 0\n",
    "file_name = os.path.join(processDFFolder, single_kernel_processed_files[fileIdx])\n",
    "print(file_name)"
   ]
  },
  {
   "cell_type": "code",
   "execution_count": 37,
   "metadata": {},
   "outputs": [],
   "source": [
    "loaded_df = pd.read_csv(file_name, index_col =[0]).round(decimals =3)"
   ]
  },
  {
   "cell_type": "code",
   "execution_count": 38,
   "metadata": {
    "scrolled": true
   },
   "outputs": [
    {
     "name": "stdout",
     "output_type": "stream",
     "text": [
      "\\begin{tabular}{l}\n",
      "\\toprule\n",
      "Empty DataFrame\n",
      "Columns: Index([], dtype='object')\n",
      "Index: Index([], dtype='object') \\\\\n",
      "\\bottomrule\n",
      "\\end{tabular}\n",
      "\n"
     ]
    }
   ],
   "source": [
    "print (loaded_df.to_latex())"
   ]
  },
  {
   "cell_type": "code",
   "execution_count": null,
   "metadata": {},
   "outputs": [],
   "source": []
  }
 ],
 "metadata": {
  "kernelspec": {
   "display_name": "Python 3",
   "language": "python",
   "name": "python3"
  },
  "language_info": {
   "codemirror_mode": {
    "name": "ipython",
    "version": 3
   },
   "file_extension": ".py",
   "mimetype": "text/x-python",
   "name": "python",
   "nbconvert_exporter": "python",
   "pygments_lexer": "ipython3",
   "version": "3.6.8"
  }
 },
 "nbformat": 4,
 "nbformat_minor": 5
}
