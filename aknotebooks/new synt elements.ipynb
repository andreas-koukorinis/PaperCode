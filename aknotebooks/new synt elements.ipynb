{
 "cells": [
  {
   "cell_type": "code",
   "execution_count": 1,
   "metadata": {},
   "outputs": [],
   "source": [
    "from hsmm_core.data_utils import DataLoader, TradingHours\n",
    "from hsmm_core.feature_spaces import hmm_features\n",
    "from hsmm_core.hsmm_runner import HmmCalibration\n",
    "import time\n",
    "from hsmm_core.consts import InitialisationMethod\n",
    "from hsmm_core.data_utils import TradingHours, DataLoader\n",
    "from hsmm_core.labelling import DataLabellingSimple\n",
    "from hsmm_core.consts import ThresholdMethod, LabellingChoice\n",
    "import pandas as pd\n",
    "\n",
    "\n"
   ]
  },
  {
   "cell_type": "code",
   "execution_count": 2,
   "metadata": {},
   "outputs": [],
   "source": [
    "import os\n",
    "os.getenv('FINANCE_DATA')\n",
    "ticker= 'SYNT_2states'\n",
    "synt_data=os.listdir(os.path.join(os.getenv('FINANCE_DATA'), ticker))\n",
    "ticker_dir = os.path.join(os.getenv('FINANCE_DATA'),ticker)\n",
    "test_file_name =os.path.join(ticker_dir,synt_data[0])\n"
   ]
  },
  {
   "cell_type": "code",
   "execution_count": null,
   "metadata": {},
   "outputs": [],
   "source": []
  },
  {
   "cell_type": "code",
   "execution_count": 3,
   "metadata": {},
   "outputs": [],
   "source": [
    "###sort out the data###\n",
    "data_symbols=os.listdir(os.getenv('FINANCE_DATA'))\n",
    "synt_data_files = os.listdir(os.path.join(os.getenv('FINANCE_DATA'),'SYNT_2states'))\n",
    "synt_data_dates=[os.path.splitext(file_name)[0] for file_name in synt_data_files]\n",
    "synt_data_dates.sort()#sort the dates. no special reason makes it cleaner to play with the indexation"
   ]
  },
  {
   "cell_type": "code",
   "execution_count": null,
   "metadata": {},
   "outputs": [],
   "source": []
  },
  {
   "cell_type": "code",
   "execution_count": 5,
   "metadata": {},
   "outputs": [],
   "source": [
    "n_hidden_states = 2\n",
    "\n",
    "data_loader_init = {\n",
    "    'trading_hours_filter': TradingHours.only_mkt_hours,\n",
    "}\n",
    "\n",
    "\n",
    "init_params = {\n",
    "    'obs_model_name': 'ExpIndMixDiracGauss',\n",
    "    'em_obs_init_method': InitialisationMethod.cluster,\n",
    "    'em_hidden_init_method': InitialisationMethod.uniform,\n",
    "    'no_hidden_states': n_hidden_states,\n",
    "    'update_tag': 'tpsml'\n",
    "}\n",
    "sd = synt_data_dates[0]\n",
    "ed = synt_data_dates[4]\n",
    "\n",
    "data_loader = DataLoader(**data_loader_init)\n",
    "\n",
    "data_loader_hash = data_loader.data_loader_hash()\n",
    "\n",
    "data = data_loader.load_trades_data(ticker, start_date=sd, end_date=ed)\n",
    "\n",
    "hmm_calibration_engine = HmmCalibration(init_params=init_params)\n",
    "# hmm_calibration_engine.run_calibration_all_data(ticker, data,  data_loader_hash,\n",
    "#                                                 force_recalc=True, use_multiprocessing=False,\n",
    "#                                                 n_processes=2)\n"
   ]
  },
  {
   "cell_type": "code",
   "execution_count": 6,
   "metadata": {},
   "outputs": [],
   "source": [
    "def fwd_dates(_dates_list, _key_date):\n",
    "    # returns a list of dates that are forward from the key_date\n",
    "    fwd_dates_list = [i for i in _dates_list if i > _key_date]\n",
    "    return fwd_dates_list"
   ]
  },
  {
   "cell_type": "code",
   "execution_count": 7,
   "metadata": {},
   "outputs": [],
   "source": [
    "features_engine = hmm_features()\n",
    "\n",
    "s = time.time()\n",
    "for date, date_data in data.iteritems():\n",
    "    stored_hmm, _ = hmm_calibration_engine.get_calibrated_hmm(ticker, date, data_loader_hash)\n",
    "\n",
    "    if stored_hmm is None:\n",
    "       raise ValueError(\"No hmm available for date {}\".format(date))\n",
    "\n",
    "    features_engine.hmm = stored_hmm\n",
    "\n",
    "    features = features_engine.generate_features(date_data)"
   ]
  },
  {
   "cell_type": "code",
   "execution_count": null,
   "metadata": {},
   "outputs": [],
   "source": [
    "dates_for_features=fwd_dates(_dates_list=synt_data_dates, _key_date=sd)"
   ]
  },
  {
   "cell_type": "code",
   "execution_count": null,
   "metadata": {},
   "outputs": [],
   "source": [
    "for date, date_data in data.iteritems():\n",
    "    stored_hmm, _ = hmm_calibration_engine.get_calibrated_hmm(ticker, date, data_loader_hash)\n",
    "    \n",
    "    features_engine.hmm = stored_hmm\n",
    "    \n",
    "\n",
    "    features = features_engine.generate_features(date_data)\n",
    " "
   ]
  },
  {
   "cell_type": "code",
   "execution_count": null,
   "metadata": {},
   "outputs": [],
   "source": [
    "\n",
    "#data_for_features = dates_for_features[i],\n",
    "for index, date in enumerate(synt_data_dates):\n",
    "    seq = (synt_data_dates[index], \"csv\"); # This is sequence of strings.\n",
    "#     print str(\".\".join( seq ))\n",
    "    input_date_data = pd.read_csv(os.path.join(ticker_dir, str(\".\".join(seq))))\n",
    "    features_oos=features_engine.generate_features(input_date_data)\n"
   ]
  },
  {
   "cell_type": "code",
   "execution_count": null,
   "metadata": {},
   "outputs": [],
   "source": [
    "seq[0]"
   ]
  },
  {
   "cell_type": "code",
   "execution_count": null,
   "metadata": {},
   "outputs": [],
   "source": [
    "labelling_method_params = [\n",
    "# {\n",
    "#     'labelling_method': LabellingChoice.ep_in_window,\n",
    "#     'rolling_window': 10,\n",
    "#     'threshold_method': ThresholdMethod.historical_vol_ma,\n",
    "#     'threshold_vol_window': 5,\n",
    "#     'updown_thrshd_vol_pct': 10.,\n",
    "#     'trading_hours_filter': trading_hours_filter,\n",
    "# },\n",
    "{\n",
    "    'labelling_method': LabellingChoice.price_move_in_window,\n",
    "    'rolling_window': 2,\n",
    "    # Uncomment below if you want to check a price move only above a certain level\n",
    "    # 'updown_threshold': 0.1\n",
    "    # 'threshold_method': ThresholdMethod.arbitrary,\n",
    "}]\n",
    "\n",
    "\n",
    "trading_hours_filter = TradingHours.only_mkt_hours\n",
    "\n",
    "sd= seq[0]\n",
    "ed=sd\n",
    "\n",
    "data_loader = DataLoader(trading_hours_filter)\n",
    "\n",
    "input_date_data = data_loader.load_trades_data(ticker, start_date=sd, end_date=ed)\n",
    "\n",
    "for label_init in labelling_method_params:\n",
    "    labeller = DataLabellingSimple(label_init)\n",
    "    the_label = labeller.get_label_name()\n",
    "    labeller.label_training_data(input_date_data)\n",
    "\n",
    "print \"ok\""
   ]
  },
  {
   "cell_type": "code",
   "execution_count": null,
   "metadata": {},
   "outputs": [],
   "source": [
    "main_path = os.path.join(os.path.expanduser(\"~\"), 'Data/features_models/')\n",
    "\n",
    "models_path = os.path.join(main_path, 'models')\n",
    "ticker_models_path = os.path.join(models_path, ticker)"
   ]
  },
  {
   "cell_type": "code",
   "execution_count": null,
   "metadata": {},
   "outputs": [],
   "source": [
    "#input_date_data[str(seq[0])]\n",
    "os.path.join(ticker_models_path)"
   ]
  },
  {
   "cell_type": "code",
   "execution_count": null,
   "metadata": {},
   "outputs": [],
   "source": []
  }
 ],
 "metadata": {
  "kernelspec": {
   "display_name": "Python 2",
   "language": "python",
   "name": "python2"
  },
  "language_info": {
   "codemirror_mode": {
    "name": "ipython",
    "version": 2
   },
   "file_extension": ".py",
   "mimetype": "text/x-python",
   "name": "python",
   "nbconvert_exporter": "python",
   "pygments_lexer": "ipython2",
   "version": "2.7.15rc1"
  }
 },
 "nbformat": 4,
 "nbformat_minor": 2
}
