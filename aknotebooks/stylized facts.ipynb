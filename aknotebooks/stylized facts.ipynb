{
 "cells": [
  {
   "cell_type": "code",
   "execution_count": 1,
   "metadata": {},
   "outputs": [],
   "source": [
    "\n",
    "import pandas as pd\n",
    "\n",
    "from sklearn.externals import joblib\n",
    "# Added version check for recent scikit-learn 0.18 checksok ca\n",
    "from distutils.version import LooseVersion as Version\n",
    "import numpy as np\n",
    "from dateutil.parser import parse\n",
    "import datetime as dt\n",
    "from numba import jit\n",
    "from sklearn.metrics import accuracy_score, classification_report\n",
    "from sklearn.metrics import precision_recall_fscore_support \n",
    "from tqdm import tqdm, tqdm_notebook\n",
    "\n",
    "from collections import OrderedDict\n",
    "import pickle \n",
    "import matplotlib.pyplot as plt\n",
    "import seaborn as sns\n",
    "import random, os, csv      # random is the rng, os is the operating system, and csv handles\n",
    "                            # CSV files\n",
    "import matplotlib.pyplot as plt  # This is the plotter\n",
    "import time                 # This allows for lots of neat tricks.\n",
    "import powerlaw\n",
    "import mpmath\n",
    "# import visual tools\n",
    "import matplotlib as mpl\n",
    "import matplotlib.pyplot as plt\n",
    "import matplotlib.gridspec as gridspec\n",
    "%matplotlib inline\n",
    "import seaborn as sns\n",
    "\n",
    "plt.style.use('seaborn-talk')\n",
    "plt.style.use('bmh')\n",
    "\n",
    "#plt.rcParams['font.family'] = 'DejaVu Sans Mono'\n",
    "#plt.rcParams['font.size'] = 9.5\n",
    "plt.rcParams['font.weight'] = 'medium'\n",
    "#plt.rcParams['figure.figsize'] = 10,7\n",
    "blue, green, red, purple, gold, teal = sns.color_palette('colorblind', 6)\n",
    "\n"
   ]
  },
  {
   "cell_type": "code",
   "execution_count": 2,
   "metadata": {},
   "outputs": [],
   "source": [
    "def returns(s):\n",
    "    #compute log returns\n",
    "    arr = np.diff(np.log(s))\n",
    "    return (pd.Series(arr, index=s.index[1:]))\n",
    "\n",
    "def tick_bars(df, price_column, m):\n",
    "    '''\n",
    "    compute tick bars\n",
    "    # args\n",
    "        df: pd.DataFrame()\n",
    "        column: name for price data\n",
    "        m: int(), threshold value for ticks\n",
    "    # returns\n",
    "        idx: list of indices\n",
    "    '''\n",
    "    t = df[price_column]\n",
    "    ts = 0\n",
    "    idx = []\n",
    "    for i, x in enumerate(tqdm(t)):\n",
    "        ts += 1\n",
    "        if ts >= m:\n",
    "            idx.append(i)\n",
    "            ts = 0\n",
    "            continue\n",
    "    return idx\n",
    "def tick_bar_df(df, price_column, m):\n",
    "    idx = tick_bars(df, price_column, m)\n",
    "    return df.iloc[idx]\n",
    "#========================================================\n",
    "def volume_bars(df, volume_column, m):\n",
    "    '''\n",
    "    compute volume bars\n",
    "    # args\n",
    "        df: pd.DataFrame()\n",
    "        column: name for volume data\n",
    "        m: int(), threshold value for volume\n",
    "    # returns\n",
    "        idx: list of indices\n",
    "    '''\n",
    "    t = df[volume_column]\n",
    "    ts = 0\n",
    "    idx = []\n",
    "    for i, x in enumerate(tqdm(t)):\n",
    "        ts += x\n",
    "        if ts >= m:\n",
    "            idx.append(i)\n",
    "            ts = 0\n",
    "            continue\n",
    "    return idx\n",
    "\n",
    "def volume_bar_df(df, volume_column, m):\n",
    "    idx = volume_bars(df, volume_column, m)\n",
    "    return df.iloc[idx]\n",
    "#========================================================\n",
    "def dollar_bars(df, dv_column, m):\n",
    "    '''\n",
    "    compute dollar bars\n",
    "    # args\n",
    "        df: pd.DataFrame()\n",
    "        column: name for dollar volume data\n",
    "        m: int(), threshold value for dollars\n",
    "    # returns\n",
    "        idx: list of indices\n",
    "    '''\n",
    "    t = df[dv_column]\n",
    "    ts = 0\n",
    "    idx = []\n",
    "    for i, x in enumerate(tqdm(t)):\n",
    "        ts += x\n",
    "        if ts >= m:\n",
    "            idx.append(i)\n",
    "            ts = 0\n",
    "            continue\n",
    "    return idx\n",
    "\n",
    "def dollar_bar_df(df, dv_column, m):\n",
    "    idx = dollar_bars(df, dv_column, m)\n",
    "    return df.iloc[idx]\n",
    "#========================================================\n",
    "dataparser = lambda x: pd.datetime.strptime(x, '%M:%S.%f').time\n",
    "#========================================================\n",
    "@jit(nopython=True)\n",
    "def mad_outlier(y, thresh=3.):\n",
    "    '''\n",
    "    compute outliers based on mad\n",
    "    # args\n",
    "        y: assumed to be array with shape (N,1)\n",
    "        thresh: float()\n",
    "    # returns\n",
    "        array index of outliers\n",
    "    '''\n",
    "    median = np.median(y)\n",
    "    diff = np.sum((y - median)**2, axis=-1)\n",
    "    diff = np.sqrt(diff)\n",
    "    med_abs_deviation = np.median(diff)\n",
    "\n",
    "    modified_z_score = 0.6745 * diff / med_abs_deviation\n",
    "\n",
    "    return modified_z_score > thresh\n"
   ]
  },
  {
   "cell_type": "code",
   "execution_count": 3,
   "metadata": {
    "scrolled": true
   },
   "outputs": [],
   "source": [
    "futures_data_folder= '/home/ak/Documents/Data/FuturesData/'\n",
    "csv_files=[s for s in os.listdir(futures_data_folder) if s.endswith('.csv')]"
   ]
  },
  {
   "cell_type": "code",
   "execution_count": 4,
   "metadata": {},
   "outputs": [],
   "source": [
    "csv_idx=1\n",
    "csv_loc = \"\".join((futures_data_folder,csv_files[csv_idx]))\n",
    "raw_data=pd.read_csv(csv_loc)\n",
    "raw_data.columns.values\n",
    "raw_data=raw_data.rename(columns={'Unnamed: 0':'TimeStamp'})"
   ]
  },
  {
   "cell_type": "code",
   "execution_count": 5,
   "metadata": {},
   "outputs": [
    {
     "data": {
      "text/html": [
       "<div>\n",
       "<style scoped>\n",
       "    .dataframe tbody tr th:only-of-type {\n",
       "        vertical-align: middle;\n",
       "    }\n",
       "\n",
       "    .dataframe tbody tr th {\n",
       "        vertical-align: top;\n",
       "    }\n",
       "\n",
       "    .dataframe thead th {\n",
       "        text-align: right;\n",
       "    }\n",
       "</style>\n",
       "<table border=\"1\" class=\"dataframe\">\n",
       "  <thead>\n",
       "    <tr style=\"text-align: right;\">\n",
       "      <th></th>\n",
       "      <th>TimeStamp</th>\n",
       "      <th>bestAskPrice</th>\n",
       "      <th>bestBidSize</th>\n",
       "      <th>bestAskSize</th>\n",
       "      <th>bestBidPrice</th>\n",
       "      <th>MicroPrice</th>\n",
       "    </tr>\n",
       "  </thead>\n",
       "  <tbody>\n",
       "    <tr>\n",
       "      <th>0</th>\n",
       "      <td>00:00.0</td>\n",
       "      <td>98.07</td>\n",
       "      <td>1689</td>\n",
       "      <td>2960</td>\n",
       "      <td>98.065</td>\n",
       "      <td>98.068183</td>\n",
       "    </tr>\n",
       "    <tr>\n",
       "      <th>1</th>\n",
       "      <td>00:02.8</td>\n",
       "      <td>98.07</td>\n",
       "      <td>1689</td>\n",
       "      <td>2964</td>\n",
       "      <td>98.065</td>\n",
       "      <td>98.068185</td>\n",
       "    </tr>\n",
       "    <tr>\n",
       "      <th>2</th>\n",
       "      <td>00:05.1</td>\n",
       "      <td>98.07</td>\n",
       "      <td>1689</td>\n",
       "      <td>2973</td>\n",
       "      <td>98.065</td>\n",
       "      <td>98.068189</td>\n",
       "    </tr>\n",
       "    <tr>\n",
       "      <th>3</th>\n",
       "      <td>00:25.8</td>\n",
       "      <td>98.07</td>\n",
       "      <td>1689</td>\n",
       "      <td>2953</td>\n",
       "      <td>98.065</td>\n",
       "      <td>98.068181</td>\n",
       "    </tr>\n",
       "    <tr>\n",
       "      <th>4</th>\n",
       "      <td>00:48.4</td>\n",
       "      <td>98.07</td>\n",
       "      <td>1688</td>\n",
       "      <td>2953</td>\n",
       "      <td>98.065</td>\n",
       "      <td>98.068181</td>\n",
       "    </tr>\n",
       "  </tbody>\n",
       "</table>\n",
       "</div>"
      ],
      "text/plain": [
       "  TimeStamp  bestAskPrice  bestBidSize  bestAskSize  bestBidPrice  MicroPrice\n",
       "0   00:00.0         98.07         1689         2960        98.065   98.068183\n",
       "1   00:02.8         98.07         1689         2964        98.065   98.068185\n",
       "2   00:05.1         98.07         1689         2973        98.065   98.068189\n",
       "3   00:25.8         98.07         1689         2953        98.065   98.068181\n",
       "4   00:48.4         98.07         1688         2953        98.065   98.068181"
      ]
     },
     "execution_count": 5,
     "metadata": {},
     "output_type": "execute_result"
    }
   ],
   "source": [
    "\n",
    "raw_data['MicroPrice']=(raw_data['bestAskPrice']*raw_data['bestAskSize']+raw_data['bestBidPrice']*raw_data['bestBidSize'])/(raw_data['bestAskSize']+raw_data['bestBidSize'])\n",
    "raw_data.head()\n"
   ]
  },
  {
   "cell_type": "code",
   "execution_count": 6,
   "metadata": {},
   "outputs": [],
   "source": [
    "# from StringIO import StringIO\n",
    "# in_ = StringIO()\n",
    "# in_.write(raw_data['TimeStamp'])\n",
    "# in_.seek(0)\n"
   ]
  },
  {
   "cell_type": "code",
   "execution_count": null,
   "metadata": {},
   "outputs": [],
   "source": []
  },
  {
   "cell_type": "code",
   "execution_count": 7,
   "metadata": {},
   "outputs": [],
   "source": [
    "raw_data['TimeStamp']=pd.to_datetime(raw_data['TimeStamp'], format='%M:%S.%f' )\n",
    "raw_data['TimeStamp'].dt.time\n",
    "raw_data['TimeStamp']=pd.to_datetime(raw_data['TimeStamp'])\n",
    "raw_data['logRetMicroPrice']=returns(raw_data.MicroPrice)"
   ]
  },
  {
   "cell_type": "code",
   "execution_count": 8,
   "metadata": {},
   "outputs": [],
   "source": [
    "raw_data['milliSeconds']=[int(((x.hour*60 + x.minute)*60 + x.second)*1000) for x in raw_data['TimeStamp']]\n",
    "raw_data['Duration']= raw_data['milliSeconds'].diff(1)\n",
    "raw_data=raw_data.dropna()"
   ]
  },
  {
   "cell_type": "code",
   "execution_count": 9,
   "metadata": {},
   "outputs": [],
   "source": [
    "# for x in range(raw_data.shape[0]):\n",
    "#     t= raw_data['TimeStamp'][x]\n",
    "#     print (t.hour*60 + t.minute)*60 + t.second "
   ]
  },
  {
   "cell_type": "code",
   "execution_count": 10,
   "metadata": {},
   "outputs": [
    {
     "data": {
      "image/png": "[encoded data removed]",
      "text/plain": [
       "<matplotlib.figure.Figure at 0x7f1c462360d0>"
      ]
     },
     "metadata": {},
     "output_type": "display_data"
    }
   ],
   "source": [
    "plt.figure(figsize=(15,9))\n",
    "sns.light_palette(\"navy\", reverse=True)\n",
    "#sns.set_palette(\"husl\")\n",
    "sns.color_palette(\"PuBuGn_d\")\n",
    "sns.set_context(\"talk\")\n",
    "sns.set(font_scale=1.2)\n",
    "sns.set_style(\"whitegrid\")\n",
    "ax=sns.distplot(raw_data.logRetMicroPrice)\n",
    "plt.title('MicroPrice Log Returns')\n",
    "ax.tick_params(right=False, top=False)"
   ]
  },
  {
   "cell_type": "code",
   "execution_count": 11,
   "metadata": {},
   "outputs": [
    {
     "data": {
      "text/plain": [
       "<matplotlib.axes._subplots.AxesSubplot at 0x7f1c3df9a190>"
      ]
     },
     "execution_count": 11,
     "metadata": {},
     "output_type": "execute_result"
    },
    {
     "data": {
      "image/png": "[encoded data removed]",
      "text/plain": [
       "<matplotlib.figure.Figure at 0x7f1c45cce210>"
      ]
     },
     "metadata": {},
     "output_type": "display_data"
    }
   ],
   "source": [
    "mad = mad_outlier(raw_data.MicroPrice.values.reshape(-1,1))\n",
    "sns.boxplot(raw_data.loc[~mad].MicroPrice*100)"
   ]
  },
  {
   "cell_type": "code",
   "execution_count": 12,
   "metadata": {},
   "outputs": [],
   "source": [
    "df= raw_data\n",
    "s1=df.bestAskSize\n",
    "s2=df.bestBidSize\n",
    "df['v']=pd.concat([s1, s2], axis=1).min(axis=1)\n",
    "# np.min(df.bestAskSize, df.bestBidPrice)\n",
    "df['dv']= df.v*df.MicroPrice"
   ]
  },
  {
   "cell_type": "code",
   "execution_count": 47,
   "metadata": {},
   "outputs": [
    {
     "name": "stdout",
     "output_type": "stream",
     "text": [
      "('num ticks:', 18329)\n",
      "('volume ratio:', 572)\n",
      "('dollar ratio:', 56119.0)\n"
     ]
    }
   ],
   "source": [
    "n_ticks = df.shape[0]\n",
    "volume_ratio = (df.v.sum()/n_ticks).round()\n",
    "dollar_ratio = (df.dv.sum()/n_ticks).round()\n",
    "print('num ticks:', n_ticks)\n",
    "print('volume ratio:', volume_ratio)\n",
    "print('dollar ratio:', dollar_ratio)"
   ]
  },
  {
   "cell_type": "code",
   "execution_count": 54,
   "metadata": {},
   "outputs": [
    {
     "name": "stderr",
     "output_type": "stream",
     "text": [
      "100%|██████████| 18329/18329 [00:00<00:00, 1826847.54it/s]"
     ]
    },
    {
     "name": "stdout",
     "output_type": "stream",
     "text": [
      "('tick threshold:', 20)\n"
     ]
    },
    {
     "name": "stderr",
     "output_type": "stream",
     "text": [
      "\n"
     ]
    },
    {
     "data": {
      "text/plain": [
       "[19, 39, 59, 79, 99, 119, 139, 159, 179, 199]"
      ]
     },
     "execution_count": 54,
     "metadata": {},
     "output_type": "execute_result"
    }
   ],
   "source": [
    "tick_M = 20 # arbitrary\n",
    "print('tick threshold:', tick_M)\n",
    "tidx = tick_bars(df, 'MicroPrice', tick_M)\n",
    "tidx[:10]\n",
    "\n"
   ]
  },
  {
   "cell_type": "code",
   "execution_count": 55,
   "metadata": {},
   "outputs": [
    {
     "name": "stderr",
     "output_type": "stream",
     "text": [
      "100%|██████████| 18329/18329 [00:00<00:00, 977598.88it/s]\n"
     ]
    },
    {
     "data": {
      "text/plain": [
       "(916, 11)"
      ]
     },
     "execution_count": 55,
     "metadata": {},
     "output_type": "execute_result"
    }
   ],
   "source": [
    "\n",
    "\n",
    "tick_df = tick_bar_df(df, 'MicroPrice', tick_M)\n",
    "tick_df.shape\n",
    "\n"
   ]
  },
  {
   "cell_type": "code",
   "execution_count": 56,
   "metadata": {},
   "outputs": [
    {
     "data": {
      "text/plain": [
       "((1000,), (916,))"
      ]
     },
     "execution_count": 56,
     "metadata": {},
     "output_type": "execute_result"
    }
   ],
   "source": [
    "def select_sample_data(ref, sub, price_col, idx_1,idx_2):\n",
    "    '''\n",
    "    select a sample of data based on date, assumes datetimeindex\n",
    "    \n",
    "    # args\n",
    "        ref: pd.DataFrame containing all ticks\n",
    "        sub: subordinated pd.DataFrame of prices\n",
    "        price_col: str(), price column\n",
    "        date: str(), date to select\n",
    "    # returns\n",
    "        xdf: ref pd.Series\n",
    "        xtdf: subordinated pd.Series\n",
    "    '''\n",
    "    xdf = df[price_col].iloc[idx_1:idx_2]\n",
    "    xtdf = sub[price_col].iloc[idx_1:idx_2]\n",
    "    return xdf, xtdf\n",
    "\n",
    "## try different dates to see how the quantity of tick bars changes\n",
    "idx_1=0\n",
    "idx_2=1000\n",
    "xdf, xtdf = select_sample_data(df, tick_df, 'MicroPrice', idx_1,idx_2)\n",
    "\n",
    "xdf.shape, xtdf.shape"
   ]
  },
  {
   "cell_type": "code",
   "execution_count": 76,
   "metadata": {},
   "outputs": [
    {
     "data": {
      "image/png": "[encoded data removed]",
      "text/plain": [
       "<matplotlib.figure.Figure at 0x7f1c3c63f850>"
      ]
     },
     "metadata": {},
     "output_type": "display_data"
    },
    {
     "data": {
      "image/png": "[encoded data removed]",
      "text/plain": [
       "<matplotlib.figure.Figure at 0x7f1c3c2f3090>"
      ]
     },
     "metadata": {},
     "output_type": "display_data"
    },
    {
     "ename": "ValueError",
     "evalue": "max() arg is an empty sequence",
     "output_type": "error",
     "traceback": [
      "\u001b[0;31m---------------------------------------------------------------------------\u001b[0m",
      "\u001b[0;31mValueError\u001b[0m                                Traceback (most recent call last)",
      "\u001b[0;32m<ipython-input-76-b1e6599e0865>\u001b[0m in \u001b[0;36m<module>\u001b[0;34m()\u001b[0m\n\u001b[1;32m      8\u001b[0m \u001b[0mplt\u001b[0m\u001b[0;34m.\u001b[0m\u001b[0mshow\u001b[0m\u001b[0;34m(\u001b[0m\u001b[0;34m)\u001b[0m\u001b[0;34m\u001b[0m\u001b[0m\n\u001b[1;32m      9\u001b[0m \u001b[0;34m\u001b[0m\u001b[0m\n\u001b[0;32m---> 10\u001b[0;31m \u001b[0mplt\u001b[0m\u001b[0;34m.\u001b[0m\u001b[0mtight_layout\u001b[0m\u001b[0;34m(\u001b[0m\u001b[0;34m)\u001b[0m\u001b[0;34m\u001b[0m\u001b[0m\n\u001b[0m",
      "\u001b[0;32m/home/ak/Envs/DataAnalysis/local/lib/python2.7/site-packages/matplotlib/pyplot.pyc\u001b[0m in \u001b[0;36mtight_layout\u001b[0;34m(pad, h_pad, w_pad, rect)\u001b[0m\n\u001b[1;32m   1377\u001b[0m \u001b[0;34m\u001b[0m\u001b[0m\n\u001b[1;32m   1378\u001b[0m     \u001b[0mfig\u001b[0m \u001b[0;34m=\u001b[0m \u001b[0mgcf\u001b[0m\u001b[0;34m(\u001b[0m\u001b[0;34m)\u001b[0m\u001b[0;34m\u001b[0m\u001b[0m\n\u001b[0;32m-> 1379\u001b[0;31m     \u001b[0mfig\u001b[0m\u001b[0;34m.\u001b[0m\u001b[0mtight_layout\u001b[0m\u001b[0;34m(\u001b[0m\u001b[0mpad\u001b[0m\u001b[0;34m=\u001b[0m\u001b[0mpad\u001b[0m\u001b[0;34m,\u001b[0m \u001b[0mh_pad\u001b[0m\u001b[0;34m=\u001b[0m\u001b[0mh_pad\u001b[0m\u001b[0;34m,\u001b[0m \u001b[0mw_pad\u001b[0m\u001b[0;34m=\u001b[0m\u001b[0mw_pad\u001b[0m\u001b[0;34m,\u001b[0m \u001b[0mrect\u001b[0m\u001b[0;34m=\u001b[0m\u001b[0mrect\u001b[0m\u001b[0;34m)\u001b[0m\u001b[0;34m\u001b[0m\u001b[0m\n\u001b[0m\u001b[1;32m   1380\u001b[0m \u001b[0;34m\u001b[0m\u001b[0m\n\u001b[1;32m   1381\u001b[0m \u001b[0;34m\u001b[0m\u001b[0m\n",
      "\u001b[0;32m/home/ak/Envs/DataAnalysis/local/lib/python2.7/site-packages/matplotlib/figure.pyc\u001b[0m in \u001b[0;36mtight_layout\u001b[0;34m(self, renderer, pad, h_pad, w_pad, rect)\u001b[0m\n\u001b[1;32m   1752\u001b[0m                                          \u001b[0mrenderer\u001b[0m\u001b[0;34m,\u001b[0m\u001b[0;34m\u001b[0m\u001b[0m\n\u001b[1;32m   1753\u001b[0m                                          \u001b[0mpad\u001b[0m\u001b[0;34m=\u001b[0m\u001b[0mpad\u001b[0m\u001b[0;34m,\u001b[0m \u001b[0mh_pad\u001b[0m\u001b[0;34m=\u001b[0m\u001b[0mh_pad\u001b[0m\u001b[0;34m,\u001b[0m \u001b[0mw_pad\u001b[0m\u001b[0;34m=\u001b[0m\u001b[0mw_pad\u001b[0m\u001b[0;34m,\u001b[0m\u001b[0;34m\u001b[0m\u001b[0m\n\u001b[0;32m-> 1754\u001b[0;31m                                          rect=rect)\n\u001b[0m\u001b[1;32m   1755\u001b[0m \u001b[0;34m\u001b[0m\u001b[0m\n\u001b[1;32m   1756\u001b[0m         \u001b[0mself\u001b[0m\u001b[0;34m.\u001b[0m\u001b[0msubplots_adjust\u001b[0m\u001b[0;34m(\u001b[0m\u001b[0;34m**\u001b[0m\u001b[0mkwargs\u001b[0m\u001b[0;34m)\u001b[0m\u001b[0;34m\u001b[0m\u001b[0m\n",
      "\u001b[0;32m/home/ak/Envs/DataAnalysis/local/lib/python2.7/site-packages/matplotlib/tight_layout.pyc\u001b[0m in \u001b[0;36mget_tight_layout_figure\u001b[0;34m(fig, axes_list, subplotspec_list, renderer, pad, h_pad, w_pad, rect)\u001b[0m\n\u001b[1;32m    320\u001b[0m         \u001b[0msubplots\u001b[0m\u001b[0;34m.\u001b[0m\u001b[0mappend\u001b[0m\u001b[0;34m(\u001b[0m\u001b[0max\u001b[0m\u001b[0;34m)\u001b[0m\u001b[0;34m\u001b[0m\u001b[0m\n\u001b[1;32m    321\u001b[0m \u001b[0;34m\u001b[0m\u001b[0m\n\u001b[0;32m--> 322\u001b[0;31m     \u001b[0mmax_nrows\u001b[0m \u001b[0;34m=\u001b[0m \u001b[0mmax\u001b[0m\u001b[0;34m(\u001b[0m\u001b[0mnrows_list\u001b[0m\u001b[0;34m)\u001b[0m\u001b[0;34m\u001b[0m\u001b[0m\n\u001b[0m\u001b[1;32m    323\u001b[0m     \u001b[0mmax_ncols\u001b[0m \u001b[0;34m=\u001b[0m \u001b[0mmax\u001b[0m\u001b[0;34m(\u001b[0m\u001b[0mncols_list\u001b[0m\u001b[0;34m)\u001b[0m\u001b[0;34m\u001b[0m\u001b[0m\n\u001b[1;32m    324\u001b[0m \u001b[0;34m\u001b[0m\u001b[0m\n",
      "\u001b[0;31mValueError\u001b[0m: max() arg is an empty sequence"
     ]
    },
    {
     "data": {
      "text/plain": [
       "<matplotlib.figure.Figure at 0x7f1c3c33abd0>"
      ]
     },
     "metadata": {},
     "output_type": "display_data"
    }
   ],
   "source": [
    "bar_type='tick bar'\n",
    "# f,axes=plt.subplots(1,sharex=True, figsize=(10,7))\n",
    "ref=xdf\n",
    "sub=xtdf\n",
    "ref.plot(label='price')\n",
    "plt.show()\n",
    "sub.plot(color='red',label=bar_type)\n",
    "plt.show()\n"
   ]
  },
  {
   "cell_type": "markdown",
   "metadata": {},
   "source": []
  },
  {
   "cell_type": "code",
   "execution_count": 78,
   "metadata": {},
   "outputs": [
    {
     "data": {
      "text/plain": [
       "<matplotlib.axes._subplots.AxesSubplot at 0x7f1c37bac710>"
      ]
     },
     "execution_count": 78,
     "metadata": {},
     "output_type": "execute_result"
    },
    {
     "data": {
      "image/png": "[encoded data removed]",
      "text/plain": [
       "<matplotlib.figure.Figure at 0x7f1c37ba8910>"
      ]
     },
     "metadata": {},
     "output_type": "display_data"
    }
   ],
   "source": [
    "\n",
    "sns.distplot(sub)\n",
    "sns.distplot(ref)"
   ]
  },
  {
   "cell_type": "code",
   "execution_count": 37,
   "metadata": {},
   "outputs": [
    {
     "data": {
      "text/plain": [
       "1       98.068185\n",
       "2       98.068189\n",
       "3       98.068181\n",
       "4       98.068181\n",
       "5       98.068181\n",
       "6       98.068177\n",
       "7       98.068184\n",
       "8       98.068184\n",
       "9       98.068111\n",
       "10      98.068114\n",
       "11      98.068084\n",
       "12      98.068081\n",
       "13      98.068085\n",
       "14      98.068084\n",
       "15      98.068085\n",
       "16      98.068084\n",
       "17      98.068093\n",
       "18      98.068084\n",
       "19      98.068093\n",
       "20      98.068111\n",
       "21      98.068183\n",
       "22      98.068179\n",
       "23      98.068187\n",
       "24      98.068191\n",
       "25      98.068240\n",
       "26      98.068245\n",
       "27      98.068240\n",
       "28      98.068245\n",
       "29      98.068549\n",
       "30      98.068579\n",
       "          ...    \n",
       "971     98.061547\n",
       "972     98.061517\n",
       "973     98.061606\n",
       "974     98.061577\n",
       "975     98.061547\n",
       "976     98.061517\n",
       "977     98.061486\n",
       "978     98.061455\n",
       "979     98.061486\n",
       "980     98.061455\n",
       "981     98.061486\n",
       "982     98.061517\n",
       "983     98.061486\n",
       "984     98.061517\n",
       "985     98.061547\n",
       "986     98.061577\n",
       "987     98.061547\n",
       "988     98.061577\n",
       "989     98.061606\n",
       "990     98.061635\n",
       "991     98.061606\n",
       "992     98.061635\n",
       "993     98.061606\n",
       "994     98.061577\n",
       "995     98.061547\n",
       "996     98.061606\n",
       "997     98.061577\n",
       "998     98.061547\n",
       "999     98.061517\n",
       "1000    98.061486\n",
       "Name: MicroPrice, Length: 1000, dtype: float64"
      ]
     },
     "execution_count": 37,
     "metadata": {},
     "output_type": "execute_result"
    }
   ],
   "source": []
  },
  {
   "cell_type": "code",
   "execution_count": null,
   "metadata": {},
   "outputs": [],
   "source": []
  },
  {
   "cell_type": "code",
   "execution_count": null,
   "metadata": {},
   "outputs": [],
   "source": []
  },
  {
   "cell_type": "code",
   "execution_count": null,
   "metadata": {},
   "outputs": [],
   "source": []
  },
  {
   "cell_type": "raw",
   "metadata": {},
   "source": []
  },
  {
   "cell_type": "code",
   "execution_count": null,
   "metadata": {},
   "outputs": [],
   "source": [
    "#[parse(raw_data['TimeStamp'][x] for x in range(raw_data.shape[0]))]\n"
   ]
  },
  {
   "cell_type": "code",
   "execution_count": null,
   "metadata": {},
   "outputs": [],
   "source": [
    "durations=[]\n",
    "length= raw_data.shape[0]-1\n",
    "for idx in range(0,100):\n",
    "    x=(parse(raw_data['TimeStamp'][idx])).time()\n",
    "    y=datetime.timedelta(hours= x.hour, minutes=x.minute, seconds=x.second, microseconds=x.microsecond)\n",
    "    durations.append(y.total_seconds())"
   ]
  },
  {
   "cell_type": "code",
   "execution_count": null,
   "metadata": {
    "scrolled": true
   },
   "outputs": [],
   "source": [
    "# pd.to_timedelta(raw_data['TimeStamp'])\n",
    "# # [parse(x) for x in raw_data['TimeStamp'][x]]\n",
    "# # # x=times[1]\n",
    "# # # # y = datetime.timedelta(hours=x.hour, minutes=x.minute, seconds=x.second, microseconds=x.microsecond)"
   ]
  },
  {
   "cell_type": "code",
   "execution_count": null,
   "metadata": {},
   "outputs": [],
   "source": [
    "import datetime\n",
    "# datetime.datetime.strptime(raw_data['TimeStamp'][1])\n",
    "parse(raw_data['TimeStamp'][26000])"
   ]
  },
  {
   "cell_type": "code",
   "execution_count": null,
   "metadata": {},
   "outputs": [],
   "source": [
    "y=datetime.timedelta(hours= x.hour, minutes=x.minute, seconds=x.second, microseconds=x.microsecond)"
   ]
  },
  {
   "cell_type": "code",
   "execution_count": null,
   "metadata": {},
   "outputs": [],
   "source": [
    "raw_data['microPrice']=(raw_data['bestAskPrice']*raw_data['bestAskSize']+ raw_data['bestBidPrice']*raw_data['bestBidSize'])/(raw_data['bestAskSize']+raw_data['bestBidSize'])"
   ]
  },
  {
   "cell_type": "code",
   "execution_count": null,
   "metadata": {},
   "outputs": [],
   "source": [
    "raw_data['returns'] =raw_data['microPrice'].pct_change()*100"
   ]
  },
  {
   "cell_type": "code",
   "execution_count": null,
   "metadata": {},
   "outputs": [],
   "source": [
    "df=raw_data.dropna()"
   ]
  },
  {
   "cell_type": "code",
   "execution_count": null,
   "metadata": {},
   "outputs": [],
   "source": [
    "def autocorr(x):\n",
    "    n = x.size\n",
    "    norm = (x - np.mean(x))\n",
    "    result = np.correlate(norm, norm, mode='same')\n",
    "    acorr = result[n//2 + 1:] / (x.var() * np.arange(n-1, n//2, -1))\n",
    "    lag = np.abs(acorr).argmax() + 1\n",
    "    r = acorr[lag-1]        \n",
    "    if np.abs(r) > 0.5:\n",
    "        print('Appears to be autocorrelated with r = {}, lag = {}'. format(r, lag))\n",
    "    else: \n",
    "        print('Appears to be not autocorrelated')\n",
    "    return r, lag\n"
   ]
  },
  {
   "cell_type": "code",
   "execution_count": null,
   "metadata": {},
   "outputs": [],
   "source": [
    "autocorr(df['microPrice'])"
   ]
  },
  {
   "cell_type": "code",
   "execution_count": null,
   "metadata": {},
   "outputs": [],
   "source": [
    "df['Sqrd_returns']=(df['returns']**2)*100"
   ]
  },
  {
   "cell_type": "code",
   "execution_count": null,
   "metadata": {},
   "outputs": [],
   "source": [
    "df['Sqrd_returns'].plot()"
   ]
  },
  {
   "cell_type": "code",
   "execution_count": null,
   "metadata": {},
   "outputs": [],
   "source": [
    "import statsmodels as sts\n",
    "# Importing lag_plot\n",
    "from pandas.tools.plotting import lag_plot\n",
    "from pandas.tools.plotting import autocorrelation_plot\n"
   ]
  },
  {
   "cell_type": "code",
   "execution_count": null,
   "metadata": {},
   "outputs": [],
   "source": [
    "series = df['microPrice']\n",
    "# Plotting the lagged values of the series\n",
    "lag_plot(series)\n",
    "plt.show()\n",
    "autocorrelation_plot(series)\n",
    "plt.show()"
   ]
  },
  {
   "cell_type": "code",
   "execution_count": null,
   "metadata": {},
   "outputs": [],
   "source": [
    "from statsmodels.graphics.tsaplots import plot_acf, plot_pacf\n",
    "plot_acf(series)\n",
    "plt.show()\n",
    "# plot_pacf(series)\n",
    "# plt.show()"
   ]
  },
  {
   "cell_type": "code",
   "execution_count": null,
   "metadata": {},
   "outputs": [],
   "source": [
    "sns.lmplot(x='microPrice', y='Sqrd_returns', data=df)\n",
    "#do calculation using high and low"
   ]
  },
  {
   "cell_type": "code",
   "execution_count": null,
   "metadata": {},
   "outputs": [],
   "source": [
    "import powerlaw\n",
    "import mpmath"
   ]
  },
  {
   "cell_type": "code",
   "execution_count": null,
   "metadata": {},
   "outputs": [],
   "source": [
    "fit_returns_discrete = powerlaw.Fit(df['returns'], discrete=False) \n",
    "# fitwolf = powerlaw.Fit(Wolfdata, discrete=True)"
   ]
  },
  {
   "cell_type": "code",
   "execution_count": null,
   "metadata": {},
   "outputs": [],
   "source": [
    "fit_returns_discrete"
   ]
  },
  {
   "cell_type": "code",
   "execution_count": null,
   "metadata": {},
   "outputs": [],
   "source": [
    "print(\"For the Generated Data\")\n",
    "print(\"Max Likelihood Estimate of Alpha: %5.3f\" % (fitgen.power_law.alpha)) \n",
    "cutoffString_gen = '{:,.2f}'.format(fitgen.power_law.xmin)  # I'm just formatting the output\n",
    "print(\"Cutoff value, xmin:  \"+cutoffString_gen)"
   ]
  }
 ],
 "metadata": {
  "kernelspec": {
   "display_name": "Python 2",
   "language": "python",
   "name": "python2"
  },
  "language_info": {
   "codemirror_mode": {
    "name": "ipython",
    "version": 2
   },
   "file_extension": ".py",
   "mimetype": "text/x-python",
   "name": "python",
   "nbconvert_exporter": "python",
   "pygments_lexer": "ipython2",
   "version": "2.7.15rc1"
  }
 },
 "nbformat": 4,
 "nbformat_minor": 2
}
