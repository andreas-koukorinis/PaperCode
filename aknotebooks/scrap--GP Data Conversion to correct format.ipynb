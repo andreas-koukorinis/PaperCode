{
 "cells": [
  {
   "cell_type": "code",
   "execution_count": 1,
   "metadata": {
    "collapsed": true
   },
   "outputs": [],
   "source": [
    "import sys\n",
    "import json\n",
    "import pandas as pd \n",
    "import numpy as np \n",
    "from scipy import stats\n",
    "from sklearn import cluster, linear_model\n",
    "import matplotlib.pyplot as plt\n",
    "np.set_printoptions(precision=3, suppress=True)\n",
    "import os\n",
    "\n",
    "from scipy import signal\n",
    "import pickle\n",
    "from sklearn.decomposition import FastICA, PCA\n",
    "import itertools as iter\n",
    "from sklearn import preprocessing as prep\n",
    "import seaborn as sns\n",
    "import statsmodels as sts\n",
    "import time\n",
    "import matplotlib.pyplot as plt\n",
    "%matplotlib inline\n",
    "#sys.path.append('/home/ak/Documents/Research/hsmm/') \n",
    "#sys.path.append('/home/ak/Documents/Research/hsmm/hsmm/') \n",
    "#sys.path.append('/home/kman/Research/hsmm/')\n",
    "doc_path= ('/home/ak/Documents/Data/')\n",
    "data_path_gp = doc_path + 'GPDATA/'\n",
    "import seaborn as sns\n",
    "plt.style.use('fivethirtyeight')\n"
   ]
  },
  {
   "cell_type": "code",
   "execution_count": 2,
   "metadata": {},
   "outputs": [
    {
     "data": {
      "text/plain": [
       "['ksi_matrix_features.npy',\n",
       " 'im_metrics_matrix_features.npy',\n",
       " 'fischer_polar_features.npy',\n",
       " 'im_matrix_features.npy',\n",
       " 'ksi_metrics.npy',\n",
       " 'gamma_polar_coordinates_features.npy',\n",
       " 'fi_metrics_matrix_features.npy',\n",
       " 'fischer_polar.npy',\n",
       " 'im_metrics.npy']"
      ]
     },
     "execution_count": 2,
     "metadata": {},
     "output_type": "execute_result"
    }
   ],
   "source": [
    "#search only for npy files\n",
    "npy_files=[s for s in os.listdir(doc_path+'mySYNT/features/') if s.endswith('.npy')]\n",
    "npy_files"
   ]
  },
  {
   "cell_type": "code",
   "execution_count": 4,
   "metadata": {
    "collapsed": true
   },
   "outputs": [],
   "source": [
    "#load bot matrix and vector valued\n",
    "ksi_metrics =np.load(data_path_gp+'ksi_metrics.npy').item()\n",
    "im_metrics =np.load(data_path_gp+'im_metrics.npy').item()\n",
    "fischer_polar =np.load(data_path_gp+'fischer_polar.npy')"
   ]
  },
  {
   "cell_type": "markdown",
   "metadata": {},
   "source": [
    "We create state dequences of fixed length 1500 and for every fixed length generate 10e4 copies of observation data from the above distribution."
   ]
  },
  {
   "cell_type": "code",
   "execution_count": 5,
   "metadata": {
    "collapsed": true
   },
   "outputs": [],
   "source": [
    "_keys=im_metrics.keys()\n",
    "_keys #names are the same for all files\n",
    "ksi_spectral=pd.DataFrame(ksi_metrics[_keys[0]])\n",
    "ksi_determ =pd.DataFrame(ksi_metrics[_keys[1]])\n",
    "ksi_trace=pd.DataFrame(ksi_metrics[_keys[2]])"
   ]
  },
  {
   "cell_type": "code",
   "execution_count": 6,
   "metadata": {},
   "outputs": [
    {
     "name": "stdout",
     "output_type": "stream",
     "text": [
      "the number of copies (rows): 10000\n",
      "the number of sequences (columns): 1499\n"
     ]
    }
   ],
   "source": [
    "no_paths =ksi_spectral.shape[0]\n",
    "seq_length=ksi_spectral.shape[1]\n",
    "print \"the number of copies (rows):\", no_paths\n",
    "print \"the number of sequences (columns):\", seq_length\n"
   ]
  },
  {
   "cell_type": "code",
   "execution_count": null,
   "metadata": {
    "collapsed": true
   },
   "outputs": [],
   "source": [
    "#summing across copies (each column is a running sum)\n",
    "\n"
   ]
  },
  {
   "cell_type": "code",
   "execution_count": 7,
   "metadata": {
    "collapsed": true
   },
   "outputs": [],
   "source": [
    "df=im_metrics\n",
    "_spectral =pd.DataFrame(df[_keys[0]])\n",
    "_determ=pd.DataFrame(df[_keys[1]])\n",
    "_trace=pd.DataFrame(df[_keys[2]])\n",
    "def df_cumsum(df):\n",
    "    spectral_cs =df.cumsum()\n",
    "    return spectral"
   ]
  },
  {
   "cell_type": "code",
   "execution_count": null,
   "metadata": {
    "collapsed": true
   },
   "outputs": [],
   "source": [
    "denominator=_spectral.index.values+1\n",
    "\n"
   ]
  },
  {
   "cell_type": "code",
   "execution_count": 8,
   "metadata": {
    "collapsed": true
   },
   "outputs": [],
   "source": [
    "%timeit\n",
    "def normalise_df(df):\n",
    "    df_norm=pd.DataFrame()\n",
    "    detominator=df.index.values+1\n",
    "    for col in list(df.columns):\n",
    "        df_norm[col] = df[col] / (denominator)\n",
    "    return df_norm"
   ]
  },
  {
   "cell_type": "code",
   "execution_count": null,
   "metadata": {
    "collapsed": true
   },
   "outputs": [],
   "source": [
    "%timeit normalise_df(_spectral.cumsum())"
   ]
  },
  {
   "cell_type": "code",
   "execution_count": null,
   "metadata": {
    "collapsed": true
   },
   "outputs": [],
   "source": [
    "%timeit _spectral.cumsum().divide(denominator, axis='rows')"
   ]
  },
  {
   "cell_type": "code",
   "execution_count": null,
   "metadata": {
    "collapsed": true
   },
   "outputs": [],
   "source": [
    "#summing across copies (each column is a running sum)\n",
    "spectral_cs =ksi_spectral.cumsum()\n",
    "denominator=spectral_cs.index.values+1\n",
    "norm_spectral_cs =spectral_cs.divide(denominator, axis='rows')\n",
    "norm_spectral_average = norm_spectral_cs.mean(axis=1) #calculate average\n",
    "_std=norm_spectral_cs.std(axis=1) #calculate standard-deviation\n",
    "\n",
    "norm_spectral_average[5:].plot()\n",
    "\n",
    "norm_spectral_cs['index']=norm_spectral_cs.index\n",
    "\n",
    "x = np.asarray(norm_spectral_cs.index)\n",
    "y = np.asarray(norm_spectral_average)\n",
    "error = np.asarray(_std)"
   ]
  },
  {
   "cell_type": "code",
   "execution_count": null,
   "metadata": {
    "collapsed": true
   },
   "outputs": [],
   "source": [
    "_spectral_cumsum=_spectral.cumsum()\n",
    "norm_spectral_=_spectral_cumsum.divide(denominator, axis='rows')\n",
    "_spectral_average=norm_spectral_.mean(axis=1)\n",
    "_spectral_std=_spectral.cumsum().divide(denominator, axis='rows').std(axis=1)\n",
    "_spectral_average.plot()"
   ]
  },
  {
   "cell_type": "code",
   "execution_count": null,
   "metadata": {
    "collapsed": true
   },
   "outputs": [],
   "source": [
    "norm_spectral_average = norm_spectral_cs.mean(axis=1) #calculate average\n",
    "_std=norm_spectral_cs.std(axis=1) #calculate standard-deviation\n",
    "#norm_spectral_std=norm_spectral_cs.std(axis=1)\n",
    "\n",
    "norm_spectral_average.plot()"
   ]
  },
  {
   "cell_type": "code",
   "execution_count": null,
   "metadata": {
    "collapsed": true
   },
   "outputs": [],
   "source": [
    "\n"
   ]
  },
  {
   "cell_type": "markdown",
   "metadata": {},
   "source": [
    "sns.tsplot(norm_spectral_cs,err_style=\"ci_bars\", color=\"g\")"
   ]
  },
  {
   "cell_type": "markdown",
   "metadata": {},
   "source": [
    "df['Datetime'] = df.index\n",
    "melted_df = pd.melt(df, id_vars='Datetime', var_name='Security', value_name='Price')\n",
    "melted_df['Dummy'] = 0\n",
    "\n",
    "sns.tsplot(melted_df, time='Datetime', unit='Dummy', condition='Security', value='Price', ax=ax)"
   ]
  },
  {
   "cell_type": "code",
   "execution_count": null,
   "metadata": {
    "collapsed": true
   },
   "outputs": [],
   "source": [
    "norm_spectral_cs['index']=norm_spectral_cs.index\n"
   ]
  },
  {
   "cell_type": "code",
   "execution_count": null,
   "metadata": {
    "collapsed": true
   },
   "outputs": [],
   "source": [
    "import numpy as np\n",
    "import matplotlib.pyplot as plt\n",
    "\n",
    "# example data\n",
    "x = np.asarray(norm_spectral_cs.index)\n",
    "y = np.asarray(norm_spectral_average)\n",
    "error = np.asarray(_std)\n",
    "\n",
    "plt.plot(x, y, 'k-',linewidth=0.7)\n",
    "plt.fill_between(x, y-error, y+error, alpha=0.6, edgecolor='#1B2ACD', facecolor='#089FFF',\n",
    "    linewidth=0.1, linestyle='dashdot', antialiased=False)\n",
    "plt.title('Average Sequence')\n",
    "plt.legend()\n",
    "plt.show()\n"
   ]
  },
  {
   "cell_type": "code",
   "execution_count": null,
   "metadata": {
    "collapsed": true
   },
   "outputs": [],
   "source": [
    "plt.plot(y)"
   ]
  },
  {
   "cell_type": "code",
   "execution_count": null,
   "metadata": {
    "collapsed": true
   },
   "outputs": [],
   "source": [
    "a=norm_spectral_cs[1000]\n",
    "b=norm_spectral_cs[1100]\n",
    "c=norm_spectral_cs[1200]\n",
    "plt.plot(a,linewidth=0.4)\n",
    "plt.plot(b, color='r',linewidth=0.5,linestyle='dashdot')\n",
    "plt.plot(c, color='b',linewidth=0.5,linestyle=':')\n",
    "plt.xlabel('#copies of sequences')\n",
    "plt.legend()"
   ]
  },
  {
   "cell_type": "code",
   "execution_count": null,
   "metadata": {
    "collapsed": true
   },
   "outputs": [],
   "source": [
    "for j in range(1,14):\n",
    "    x_series =norm_spectral_cs[j*100]\n",
    "    plt.plot(x_series, label=str(j*100), linewidth=0.4,linestyle='-')\n",
    "\n",
    "plt.legend(bbox_to_anchor=(1.05, 1), loc=2, borderaxespad=0.)\n",
    "plt.title('Range of Sequences', fontsize='small')\n",
    "#plt.legend(bbox_to_anchor=(0., 1.02, 1., .102), loc=2,\n",
    "#           ncol=2, mode=\"expand\", borderaxespad=0.)\n",
    "\n",
    "#plt.legend(loc='lower right', shadow=True, fontsize='small')\n",
    "\n",
    "# Put a nicer background color on the legend.\n",
    "#plt.legend.get_frame().set_facecolor('#00FFCC')"
   ]
  },
  {
   "cell_type": "code",
   "execution_count": null,
   "metadata": {
    "collapsed": true
   },
   "outputs": [],
   "source": [
    "sns.distplot(norm_spectral_average,hist=True)\n",
    "plt.title('Normalised Spectral Average',fontsize='small')"
   ]
  },
  {
   "cell_type": "code",
   "execution_count": null,
   "metadata": {
    "collapsed": true
   },
   "outputs": [],
   "source": [
    "fischer_polar[1].nonzero()"
   ]
  },
  {
   "cell_type": "code",
   "execution_count": null,
   "metadata": {
    "collapsed": true
   },
   "outputs": [],
   "source": [
    "fischer_polar.shape\n",
    "np.random.seed(29)\n",
    "d = np.random.randint(0, 2, size=(3,3,3))"
   ]
  },
  {
   "cell_type": "code",
   "execution_count": null,
   "metadata": {
    "collapsed": true
   },
   "outputs": [],
   "source": [
    "x,y,z=fischer_polar.nonzero()"
   ]
  },
  {
   "cell_type": "code",
   "execution_count": null,
   "metadata": {
    "collapsed": true
   },
   "outputs": [],
   "source": [
    "y"
   ]
  },
  {
   "cell_type": "code",
   "execution_count": null,
   "metadata": {
    "collapsed": true
   },
   "outputs": [],
   "source": [
    "import matplotlib.pyplot as plt\n",
    "from mpl_toolkits.mplot3d import Axes3D\n",
    "fig = plt.figure()\n",
    "ax = fig.add_subplot(111, projection='3d')\n",
    "ax.scatter(x, y, -z, zdir='z', c= 'red')"
   ]
  },
  {
   "cell_type": "code",
   "execution_count": null,
   "metadata": {
    "collapsed": true
   },
   "outputs": [],
   "source": [
    "fischer_cum_sum_copies =fischer_polar.cumsum(axis=0)"
   ]
  },
  {
   "cell_type": "code",
   "execution_count": null,
   "metadata": {
    "collapsed": true
   },
   "outputs": [],
   "source": [
    "fischer_cum_sum_seq =fischer_polar.cumsum(axis=1)\n",
    "fischer_cum_sum_seq.shape"
   ]
  },
  {
   "cell_type": "code",
   "execution_count": null,
   "metadata": {
    "collapsed": true
   },
   "outputs": [],
   "source": [
    "norm_fischer_copies=np.zeros_like(fischer_cum_sum_copies)\n",
    "no_copies, seqns, polar_cos =norm_fischer_copies.shape"
   ]
  },
  {
   "cell_type": "markdown",
   "metadata": {},
   "source": [
    "%timeit\n",
    "def normalise_df(df):\n",
    "    df_norm=pd.DataFrame()\n",
    "    detominator=df.index.values+1\n",
    "    for col in list(df.columns):\n",
    "        df_norm[col] = df[col] / (denominator)\n",
    "    return df_norm"
   ]
  },
  {
   "cell_type": "code",
   "execution_count": null,
   "metadata": {
    "collapsed": true
   },
   "outputs": [],
   "source": [
    "fischer_cum_sum_copies/range(1,10000)"
   ]
  },
  {
   "cell_type": "markdown",
   "metadata": {},
   "source": [
    "_random= np.random.randint(1,5,size=(100,4,3))\n",
    "_random_2 =_random.cumsum(axis=0)"
   ]
  },
  {
   "cell_type": "markdown",
   "metadata": {},
   "source": [
    "for j in range(100):\n",
    "    _random_2[j::]=_random[j::].cumsum(axis=0)/j"
   ]
  },
  {
   "cell_type": "code",
   "execution_count": null,
   "metadata": {
    "collapsed": true
   },
   "outputs": [],
   "source": [
    "for seqn in range(no_paths):\n",
    "    \n",
    "    fischer_time_average =fischer_polar.cumsum(axis=1)/seqn\n",
    "    \n",
    "    "
   ]
  },
  {
   "cell_type": "code",
   "execution_count": null,
   "metadata": {
    "collapsed": true
   },
   "outputs": [],
   "source": [
    "_random_2.shape"
   ]
  },
  {
   "cell_type": "code",
   "execution_count": null,
   "metadata": {
    "collapsed": true
   },
   "outputs": [],
   "source": []
  }
 ],
 "metadata": {
  "kernelspec": {
   "display_name": "Python 2",
   "language": "python",
   "name": "python2"
  },
  "language_info": {
   "codemirror_mode": {
    "name": "ipython",
    "version": 2
   },
   "file_extension": ".py",
   "mimetype": "text/x-python",
   "name": "python",
   "nbconvert_exporter": "python",
   "pygments_lexer": "ipython2",
   "version": "2.7.12+"
  }
 },
 "nbformat": 4,
 "nbformat_minor": 2
}
