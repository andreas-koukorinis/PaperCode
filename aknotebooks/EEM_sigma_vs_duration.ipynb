{
 "cells": [
  {
   "cell_type": "code",
   "execution_count": 1,
   "metadata": {
    "collapsed": true
   },
   "outputs": [],
   "source": [
    "import matplotlib.pyplot as plt\n",
    "%matplotlib inline\n"
   ]
  },
  {
   "cell_type": "code",
   "execution_count": 2,
   "metadata": {
    "collapsed": true
   },
   "outputs": [],
   "source": [
    "import sys\n",
    "import numpy as np\n",
    "import pandas as pd\n",
    "#sys.path.append('/home/ak/ThesisCode/hsmm/')\n",
    "sys.path.append('/home/kman/Research/hsmm/') \n",
    "sys.path.append('/home/ak/Documents/Research/hsmm/hsmm/') \n",
    "\n",
    "from hsmm_core.observation_models import * \n",
    "from hsmm_core.hmm import *\n",
    "from hsmm_core.hmm_utils import load_data\n",
    "from hsmm_core.prediction_engines import *\n",
    "import glob\n",
    "import seaborn\n",
    "import matplotlib.pyplot as plt\n"
   ]
  },
  {
   "cell_type": "code",
   "execution_count": 3,
   "metadata": {},
   "outputs": [
    {
     "name": "stdout",
     "output_type": "stream",
     "text": [
      "['20131231.csv', '20131218.csv', '20140508.csv', '20140424.csv', '20131028.csv', '20140417.csv', '20131126.csv', '20131004.csv', '20140331.csv', '20131024.csv', '20140421.csv', '20130612.csv', '20140321.csv', '20130717.csv', '20130607.csv', '20131129.csv', '20140206.csv', '20140117.csv', '20131105.csv', '20130624.csv', '20130617.csv', '20131122.csv', '20130618.csv', '20131213.csv', '20131018.csv', '20131108.csv', '20131212.csv', '20140114.csv', '20130903.csv', '20131023.csv', '20130815.csv', '20130807.csv', '20130806.csv', '20131016.csv', '20131114.csv', '20131224.csv', '20140428.csv', '20140314.csv', '20130605.csv', '20140203.csv', '20140507.csv', '20140515.csv', '20130813.csv', '20140521.csv', '20140212.csv', '20130703.csv', '20140108.csv', '20130603.csv', '20140226.csv', '20140505.csv', '20130731.csv', '20130712.csv', '20130826.csv', '20140303.csv', '20130904.csv', '20130924.csv', '20130917.csv', '20131106.csv', '20130823.csv', '20130820.csv']\n"
     ]
    }
   ],
   "source": [
    "import os\n",
    "eem_path = '/home/ak/Documents/Data/EEM/'\n",
    "#os.listdir(eem_path)\n",
    "os.chdir(eem_path)\n",
    "eem_files =glob.glob('*.csv')\n",
    "type(eem_files)\n",
    "print eem_files"
   ]
  },
  {
   "cell_type": "code",
   "execution_count": 9,
   "metadata": {
    "collapsed": true
   },
   "outputs": [],
   "source": [
    "ticker = 'EEM'\n",
    "n_hidden_states = 2\n",
    "\n",
    "zero_pc_threshold = 1e-5\n",
    "init_params = {\n",
    "    \"obs_model_params\": {\n",
    "                                'epsilon': zero_pc_threshold,\n",
    "                                'obs_model_name': 'ExpUniGauss',\n",
    "                                'init_params': {'epsilon': zero_pc_threshold},\n",
    "                                'em_initialization_method': initialization_method.cluster\n",
    "\n",
    "    },\n",
    "    \"hidden_model_params\": {\n",
    "                                'no_hidden_states': n_hidden_states,\n",
    "                                # 'pi':startprob,\n",
    "                                # 'tpm': transmat\n",
    "                                'em_initialization_method': initialization_method.uniform\n",
    "    },\n",
    "    \"update_tag\": 'tpsml'\n",
    "}\n",
    "\n",
    "#data_dic, data_sampling_tag = load_data(ticker, resample=None,\n",
    " #                                      file_name=['20140122.csv'],\n",
    "  #                                     load_columns=['Duration', 'ReturnTradedPrice'])\n",
    "\n",
    "data_dic, data_sampling_tag = load_data(ticker, resample=None,\n",
    "                                       file_name=eem_files,\n",
    "                                       load_columns=['Duration', 'ReturnTradedPrice'])\n"
   ]
  },
  {
   "cell_type": "code",
   "execution_count": 10,
   "metadata": {
    "collapsed": true
   },
   "outputs": [],
   "source": [
    "hmm_calibration_engine = hmm_calibration(no_parallel_procs=None,\n",
    "                                         init_params=init_params)\n",
    "                                        \n",
    "trained_hmms = hmm_calibration_engine.hmm_fit_func(ticker, data_dic_2,'resample__', force_recalc=False)"
   ]
  },
  {
   "cell_type": "code",
   "execution_count": 11,
   "metadata": {},
   "outputs": [
    {
     "name": "stdout",
     "output_type": "stream",
     "text": [
      "transition matrix \n",
      "\n",
      "[[ 0.88609957  0.11390043]\n",
      " [ 0.53860001  0.46139999]]\n",
      "state initial distribution \n",
      "\n",
      "[ 0.99765612  0.00234388]\n",
      "observation model \n",
      "\n",
      "{'load_columns_': ['TradedTime', 'Duration', 'ReturnTradedPrice'], 'n_features_': 2, 'n_hidden_states_': 2, 'sigmas_': array([ 0.00015673,  0.00035701]), 'update_tag_all_': 'lqsw', 'min_sigma_': 0.001, 'weight_': array([ 0.44050066,  0.75549555]), 'no_params_per_state_': 3, 'epsilon_': 1e-05, 'lambdas_': array([ 6.8307333 ,  0.30739543])}\n",
      "[ 0.00015673  0.00035701]\n"
     ]
    }
   ],
   "source": [
    "#make it a dicitonary and grab an example  \n",
    "trained_hmms = dict(trained_hmms)  #[] \n",
    "\n",
    "print \"transition matrix\", '\\n' \n",
    "print trained_hmms['20140314'].tpm_\n",
    "\n",
    "print \"state initial distribution\", '\\n' \n",
    "print trained_hmms['20140314'].pi_\n",
    "\n",
    "print \"observation model\", \"\\n\"\n",
    "# notice how we use introspection to get all the attributes! this way you can see whats there and grab sigmas etc\n",
    "print trained_hmms['20140314'].obs_model_.__dict__\n",
    "print trained_hmms['20140314'].obs_model_.__dict__['sigmas_']\n"
   ]
  },
  {
   "cell_type": "code",
   "execution_count": 12,
   "metadata": {},
   "outputs": [
    {
     "data": {
      "text/plain": [
       "{'local_optimal_state': array([1, 1, 1, ..., 1, 1, 1]),\n",
       " 'smooth_local_optimal_state': array([1, 1, 1, ..., 1, 1, 1]),\n",
       " 'viterbi_optimal_state_seq': array([1, 1, 1, ..., 1, 1, 1])}"
      ]
     },
     "execution_count": 12,
     "metadata": {},
     "output_type": "execute_result"
    }
   ],
   "source": [
    "a_model = trained_hmms['20131231']\n",
    "a_model.map_metrics(data_dic['20131231'])"
   ]
  },
  {
   "cell_type": "code",
   "execution_count": 11,
   "metadata": {
    "collapsed": true
   },
   "outputs": [],
   "source": [
    "dates =list(trained_hmms)\n",
    "state_sigmas =[]\n",
    "state_lambdas =[]\n",
    "for date in dates:\n",
    "        sigmas= trained_hmms[date].obs_model_.__dict__['sigmas_']\n",
    "        lambdas= trained_hmms[date].obs_model_.__dict__['lambdas_']\n",
    "        state_sigmas.append(sigmas*1000)\n",
    "        state_lambdas.append(lambdas)"
   ]
  },
  {
   "cell_type": "code",
   "execution_count": 12,
   "metadata": {
    "collapsed": true
   },
   "outputs": [],
   "source": [
    "state_sigmas =pd.DataFrame(state_sigmas)\n",
    "state_lambdas =pd.DataFrame(state_lambdas)"
   ]
  },
  {
   "cell_type": "code",
   "execution_count": 13,
   "metadata": {
    "collapsed": true
   },
   "outputs": [],
   "source": [
    "state_sigmas.columns=['sigma_st_1','sigma_st_2']\n",
    "state_lambdas.columns=['lambda_st_1','lambda_st_2']\n",
    "sigmas_1, lambdas_1 =state_sigmas['sigma_st_1'], state_lambdas['lambda_st_1']\n",
    "sigmas_2, lambdas_2 =state_sigmas['sigma_st_2'], state_lambdas['lambda_st_2']\n",
    "state_components =pd.DataFrame([sigmas_1, lambdas_1,sigmas_2, lambdas_2]).T"
   ]
  },
  {
   "cell_type": "code",
   "execution_count": 14,
   "metadata": {
    "collapsed": true
   },
   "outputs": [],
   "source": [
    "\n",
    "state_components['sig_st1>sig_st2'] = np.where(state_components['sigma_st_1']>state_components['sigma_st_2'], 1, 0)"
   ]
  },
  {
   "cell_type": "code",
   "execution_count": 15,
   "metadata": {
    "collapsed": true
   },
   "outputs": [],
   "source": [
    "#state_components.drop('HighSigmaLowDuration', axis=1, inplace=True)\n",
    "HLSD=state_components[(state_components['sigma_st_1']>state_components['sigma_st_2']) & (state_components['lambda_st_2']> state_components['lambda_st_1'])]\n",
    "HLHD=state_components[(state_components['sigma_st_1']>state_components['sigma_st_2']) & (state_components['lambda_st_1']> state_components['lambda_st_2'])]\n",
    "LSLD=state_components[(state_components['sigma_st_1']<state_components['sigma_st_2']) & (state_components['lambda_st_1']< state_components['lambda_st_2'])]\n",
    "LSHD=state_components[(state_components['sigma_st_1']<state_components['sigma_st_2']) & (state_components['lambda_st_1']> state_components['lambda_st_2'])]"
   ]
  },
  {
   "cell_type": "code",
   "execution_count": 16,
   "metadata": {},
   "outputs": [
    {
     "name": "stdout",
     "output_type": "stream",
     "text": [
      "(8, 5)\n",
      "(0, 5)\n",
      "(2, 5)\n",
      "(50, 5)\n"
     ]
    }
   ],
   "source": [
    "print HLSD.shape\n",
    "print HLHD.shape\n",
    "print LSLD.shape\n",
    "print LSHD.shape"
   ]
  },
  {
   "cell_type": "code",
   "execution_count": 39,
   "metadata": {},
   "outputs": [
    {
     "ename": "KeyError",
     "evalue": "0",
     "output_type": "error",
     "traceback": [
      "\u001b[0;31m---------------------------------------------------------------------------\u001b[0m",
      "\u001b[0;31mKeyError\u001b[0m                                  Traceback (most recent call last)",
      "\u001b[0;32m<ipython-input-39-91eda3fbedc2>\u001b[0m in \u001b[0;36m<module>\u001b[0;34m()\u001b[0m\n\u001b[1;32m      4\u001b[0m \u001b[0max\u001b[0m\u001b[0;34m=\u001b[0m\u001b[0mfig\u001b[0m\u001b[0;34m.\u001b[0m\u001b[0madd_subplot\u001b[0m\u001b[0;34m(\u001b[0m\u001b[0;36m111\u001b[0m\u001b[0;34m)\u001b[0m\u001b[0;34m\u001b[0m\u001b[0m\n\u001b[1;32m      5\u001b[0m \u001b[0mwidth\u001b[0m\u001b[0;34m=\u001b[0m\u001b[0;36m0.5\u001b[0m\u001b[0;34m\u001b[0m\u001b[0m\n\u001b[0;32m----> 6\u001b[0;31m \u001b[0max\u001b[0m\u001b[0;34m.\u001b[0m\u001b[0mbar\u001b[0m\u001b[0;34m(\u001b[0m\u001b[0mHLSD_lambda\u001b[0m\u001b[0;34m,\u001b[0m\u001b[0mHLSD_sigma\u001b[0m\u001b[0;34m,\u001b[0m \u001b[0malign\u001b[0m\u001b[0;34m=\u001b[0m\u001b[0;34m'center'\u001b[0m\u001b[0;34m)\u001b[0m\u001b[0;34m\u001b[0m\u001b[0m\n\u001b[0m",
      "\u001b[0;32m/home/ak/Envs/DataAnalysis/local/lib/python2.7/site-packages/matplotlib/__init__.pyc\u001b[0m in \u001b[0;36minner\u001b[0;34m(ax, *args, **kwargs)\u001b[0m\n\u001b[1;32m   1890\u001b[0m                     warnings.warn(msg % (label_namer, func.__name__),\n\u001b[1;32m   1891\u001b[0m                                   RuntimeWarning, stacklevel=2)\n\u001b[0;32m-> 1892\u001b[0;31m             \u001b[0;32mreturn\u001b[0m \u001b[0mfunc\u001b[0m\u001b[0;34m(\u001b[0m\u001b[0max\u001b[0m\u001b[0;34m,\u001b[0m \u001b[0;34m*\u001b[0m\u001b[0margs\u001b[0m\u001b[0;34m,\u001b[0m \u001b[0;34m**\u001b[0m\u001b[0mkwargs\u001b[0m\u001b[0;34m)\u001b[0m\u001b[0;34m\u001b[0m\u001b[0m\n\u001b[0m\u001b[1;32m   1893\u001b[0m         \u001b[0mpre_doc\u001b[0m \u001b[0;34m=\u001b[0m \u001b[0minner\u001b[0m\u001b[0;34m.\u001b[0m\u001b[0m__doc__\u001b[0m\u001b[0;34m\u001b[0m\u001b[0m\n\u001b[1;32m   1894\u001b[0m         \u001b[0;32mif\u001b[0m \u001b[0mpre_doc\u001b[0m \u001b[0;32mis\u001b[0m \u001b[0mNone\u001b[0m\u001b[0;34m:\u001b[0m\u001b[0;34m\u001b[0m\u001b[0m\n",
      "\u001b[0;32m/home/ak/Envs/DataAnalysis/local/lib/python2.7/site-packages/matplotlib/axes/_axes.pyc\u001b[0m in \u001b[0;36mbar\u001b[0;34m(self, left, height, width, bottom, **kwargs)\u001b[0m\n\u001b[1;32m   2103\u001b[0m         \u001b[0;32mif\u001b[0m \u001b[0malign\u001b[0m \u001b[0;34m==\u001b[0m \u001b[0;34m'center'\u001b[0m\u001b[0;34m:\u001b[0m\u001b[0;34m\u001b[0m\u001b[0m\n\u001b[1;32m   2104\u001b[0m             \u001b[0;32mif\u001b[0m \u001b[0morientation\u001b[0m \u001b[0;34m==\u001b[0m \u001b[0;34m'vertical'\u001b[0m\u001b[0;34m:\u001b[0m\u001b[0;34m\u001b[0m\u001b[0m\n\u001b[0;32m-> 2105\u001b[0;31m                 \u001b[0mleft\u001b[0m \u001b[0;34m=\u001b[0m \u001b[0;34m[\u001b[0m\u001b[0mleft\u001b[0m\u001b[0;34m[\u001b[0m\u001b[0mi\u001b[0m\u001b[0;34m]\u001b[0m \u001b[0;34m-\u001b[0m \u001b[0mwidth\u001b[0m\u001b[0;34m[\u001b[0m\u001b[0mi\u001b[0m\u001b[0;34m]\u001b[0m \u001b[0;34m/\u001b[0m \u001b[0;36m2.\u001b[0m \u001b[0;32mfor\u001b[0m \u001b[0mi\u001b[0m \u001b[0;32min\u001b[0m \u001b[0mxrange\u001b[0m\u001b[0;34m(\u001b[0m\u001b[0mlen\u001b[0m\u001b[0;34m(\u001b[0m\u001b[0mleft\u001b[0m\u001b[0;34m)\u001b[0m\u001b[0;34m)\u001b[0m\u001b[0;34m]\u001b[0m\u001b[0;34m\u001b[0m\u001b[0m\n\u001b[0m\u001b[1;32m   2106\u001b[0m             \u001b[0;32melif\u001b[0m \u001b[0morientation\u001b[0m \u001b[0;34m==\u001b[0m \u001b[0;34m'horizontal'\u001b[0m\u001b[0;34m:\u001b[0m\u001b[0;34m\u001b[0m\u001b[0m\n\u001b[1;32m   2107\u001b[0m                 bottom = [bottom[i] - height[i] / 2.\n",
      "\u001b[0;32m/home/ak/Envs/DataAnalysis/local/lib/python2.7/site-packages/pandas/core/series.pyc\u001b[0m in \u001b[0;36m__getitem__\u001b[0;34m(self, key)\u001b[0m\n\u001b[1;32m    601\u001b[0m         \u001b[0mkey\u001b[0m \u001b[0;34m=\u001b[0m \u001b[0mcom\u001b[0m\u001b[0;34m.\u001b[0m\u001b[0m_apply_if_callable\u001b[0m\u001b[0;34m(\u001b[0m\u001b[0mkey\u001b[0m\u001b[0;34m,\u001b[0m \u001b[0mself\u001b[0m\u001b[0;34m)\u001b[0m\u001b[0;34m\u001b[0m\u001b[0m\n\u001b[1;32m    602\u001b[0m         \u001b[0;32mtry\u001b[0m\u001b[0;34m:\u001b[0m\u001b[0;34m\u001b[0m\u001b[0m\n\u001b[0;32m--> 603\u001b[0;31m             \u001b[0mresult\u001b[0m \u001b[0;34m=\u001b[0m \u001b[0mself\u001b[0m\u001b[0;34m.\u001b[0m\u001b[0mindex\u001b[0m\u001b[0;34m.\u001b[0m\u001b[0mget_value\u001b[0m\u001b[0;34m(\u001b[0m\u001b[0mself\u001b[0m\u001b[0;34m,\u001b[0m \u001b[0mkey\u001b[0m\u001b[0;34m)\u001b[0m\u001b[0;34m\u001b[0m\u001b[0m\n\u001b[0m\u001b[1;32m    604\u001b[0m \u001b[0;34m\u001b[0m\u001b[0m\n\u001b[1;32m    605\u001b[0m             \u001b[0;32mif\u001b[0m \u001b[0;32mnot\u001b[0m \u001b[0mis_scalar\u001b[0m\u001b[0;34m(\u001b[0m\u001b[0mresult\u001b[0m\u001b[0;34m)\u001b[0m\u001b[0;34m:\u001b[0m\u001b[0;34m\u001b[0m\u001b[0m\n",
      "\u001b[0;32m/home/ak/Envs/DataAnalysis/local/lib/python2.7/site-packages/pandas/indexes/base.pyc\u001b[0m in \u001b[0;36mget_value\u001b[0;34m(self, series, key)\u001b[0m\n\u001b[1;32m   2167\u001b[0m         \u001b[0;32mtry\u001b[0m\u001b[0;34m:\u001b[0m\u001b[0;34m\u001b[0m\u001b[0m\n\u001b[1;32m   2168\u001b[0m             return self._engine.get_value(s, k,\n\u001b[0;32m-> 2169\u001b[0;31m                                           tz=getattr(series.dtype, 'tz', None))\n\u001b[0m\u001b[1;32m   2170\u001b[0m         \u001b[0;32mexcept\u001b[0m \u001b[0mKeyError\u001b[0m \u001b[0;32mas\u001b[0m \u001b[0me1\u001b[0m\u001b[0;34m:\u001b[0m\u001b[0;34m\u001b[0m\u001b[0m\n\u001b[1;32m   2171\u001b[0m             \u001b[0;32mif\u001b[0m \u001b[0mlen\u001b[0m\u001b[0;34m(\u001b[0m\u001b[0mself\u001b[0m\u001b[0;34m)\u001b[0m \u001b[0;34m>\u001b[0m \u001b[0;36m0\u001b[0m \u001b[0;32mand\u001b[0m \u001b[0mself\u001b[0m\u001b[0;34m.\u001b[0m\u001b[0minferred_type\u001b[0m \u001b[0;32min\u001b[0m \u001b[0;34m[\u001b[0m\u001b[0;34m'integer'\u001b[0m\u001b[0;34m,\u001b[0m \u001b[0;34m'boolean'\u001b[0m\u001b[0;34m]\u001b[0m\u001b[0;34m:\u001b[0m\u001b[0;34m\u001b[0m\u001b[0m\n",
      "\u001b[0;32mpandas/index.pyx\u001b[0m in \u001b[0;36mpandas.index.IndexEngine.get_value (pandas/index.c:3557)\u001b[0;34m()\u001b[0m\n",
      "\u001b[0;32mpandas/index.pyx\u001b[0m in \u001b[0;36mpandas.index.IndexEngine.get_value (pandas/index.c:3240)\u001b[0;34m()\u001b[0m\n",
      "\u001b[0;32mpandas/index.pyx\u001b[0m in \u001b[0;36mpandas.index.IndexEngine.get_loc (pandas/index.c:4279)\u001b[0;34m()\u001b[0m\n",
      "\u001b[0;32mpandas/src/hashtable_class_helper.pxi\u001b[0m in \u001b[0;36mpandas.hashtable.Int64HashTable.get_item (pandas/hashtable.c:8564)\u001b[0;34m()\u001b[0m\n",
      "\u001b[0;32mpandas/src/hashtable_class_helper.pxi\u001b[0m in \u001b[0;36mpandas.hashtable.Int64HashTable.get_item (pandas/hashtable.c:8508)\u001b[0;34m()\u001b[0m\n",
      "\u001b[0;31mKeyError\u001b[0m: 0"
     ]
    },
    {
     "data": {
      "image/png": "[encoded data removed]",
      "text/plain": [
       "<matplotlib.figure.Figure at 0x7fe4a9e29050>"
      ]
     },
     "metadata": {},
     "output_type": "display_data"
    }
   ],
   "source": [
    "HLSD_sigma=HLSD['sigma_st_1']/HLSD['sigma_st_2']\n",
    "HLSD_lambda=HLSD['lambda_st_1']/HLSD['lambda_st_2']\n",
    "fig=plt.figure()\n",
    "ax=fig.add_subplot(111)\n",
    "width=0.5\n",
    "ax.bar(HLSD_lambda,HLSD_sigma, align='center')"
   ]
  },
  {
   "cell_type": "code",
   "execution_count": 17,
   "metadata": {},
   "outputs": [
    {
     "data": {
      "text/plain": [
       "(60, 5)"
      ]
     },
     "execution_count": 17,
     "metadata": {},
     "output_type": "execute_result"
    }
   ],
   "source": [
    "state_components.shape"
   ]
  },
  {
   "cell_type": "code",
   "execution_count": 20,
   "metadata": {},
   "outputs": [
    {
     "data": {
      "image/png": "[encoded data removed]",
      "text/plain": [
       "<matplotlib.figure.Figure at 0x7fe4ad322390>"
      ]
     },
     "metadata": {},
     "output_type": "display_data"
    }
   ],
   "source": [
    "fig = plt.figure()\n",
    "ax1 = fig.add_subplot(111)\n",
    "\n",
    "ax1.scatter(state_sigmas['sigma_st_1'], state_lambdas['lambda_st_1'], s=10, c='b', marker=\"x\", label='first state')\n",
    "ax1.scatter(state_sigmas['sigma_st_2'], state_lambdas['lambda_st_2'], s=10, c='r', marker=\"o\", label='second state')\n",
    "plt.legend(loc='upper left');\n",
    "plt.xlabel('Sigma x1')\n",
    "plt.ylabel('Lambda')\n",
    "plt.title('EEM Duration vs Sigma')\n",
    "plt.show()"
   ]
  },
  {
   "cell_type": "code",
   "execution_count": 22,
   "metadata": {},
   "outputs": [
    {
     "data": {
      "text/plain": [
       "<matplotlib.figure.Figure at 0x7fe4ad322490>"
      ]
     },
     "execution_count": 22,
     "metadata": {},
     "output_type": "execute_result"
    },
    {
     "data": {
      "image/png": "[encoded data removed]",
      "text/plain": [
       "<matplotlib.figure.Figure at 0x7fe4ad322850>"
      ]
     },
     "metadata": {},
     "output_type": "display_data"
    },
    {
     "data": {
      "text/plain": [
       "<matplotlib.figure.Figure at 0x7fe4ad322490>"
      ]
     },
     "metadata": {},
     "output_type": "display_data"
    }
   ],
   "source": [
    "state_sigmas.plot(kind='bar',stacked=True); #plt.axhline(0, color='k',figsize=(8, 6))\n",
    "fig = plt.gcf()\n",
    "fig.set_size_inches(16.5, 8.5)\n",
    "plt.figure(num=None,dpi=80, facecolor='w', edgecolor='k')"
   ]
  },
  {
   "cell_type": "code",
   "execution_count": 23,
   "metadata": {
    "collapsed": true
   },
   "outputs": [],
   "source": [
    "import scipy.stats as scp"
   ]
  },
  {
   "cell_type": "code",
   "execution_count": 24,
   "metadata": {},
   "outputs": [
    {
     "name": "stdout",
     "output_type": "stream",
     "text": [
      "SpearmanrResult(correlation=-0.37616004445679363, pvalue=0.0030559603126974417)\n",
      "KendalltauResult(correlation=-0.26666666666666666, pvalue=0.0026091934700477886)\n",
      "SpearmanrResult(correlation=-0.44979160878021679, pvalue=0.00031152030190610203)\n",
      "KendalltauResult(correlation=-0.32768361581920902, pvalue=0.00021628168523844004)\n"
     ]
    }
   ],
   "source": [
    "print scp.spearmanr(sigmas_1,lambdas_1)\n",
    "print scp.kendalltau(sigmas_1,lambdas_1)\n",
    "print scp.spearmanr(sigmas_2,lambdas_2)\n",
    "print scp.kendalltau(sigmas_2,lambdas_2)"
   ]
  },
  {
   "cell_type": "code",
   "execution_count": null,
   "metadata": {
    "collapsed": true
   },
   "outputs": [],
   "source": []
  }
 ],
 "metadata": {
  "kernelspec": {
   "display_name": "Python 3",
   "language": "python",
   "name": "python3"
  },
  "language_info": {
   "codemirror_mode": {
    "name": "ipython",
    "version": 3
   },
   "file_extension": ".py",
   "mimetype": "text/x-python",
   "name": "python",
   "nbconvert_exporter": "python",
   "pygments_lexer": "ipython3",
   "version": "3.6.8"
  }
 },
 "nbformat": 4,
 "nbformat_minor": 1
}
