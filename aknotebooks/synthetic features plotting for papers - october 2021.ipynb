{
 "cells": [
  {
   "cell_type": "code",
   "execution_count": 1,
   "metadata": {},
   "outputs": [],
   "source": [
    "import sys\n",
    "sys.path.append('/home/ak/Documents/Research/hsmm')\n"
   ]
  },
  {
   "cell_type": "code",
   "execution_count": 2,
   "metadata": {},
   "outputs": [],
   "source": [
    "import pickle\n",
    "\n",
    "from hsmm_core.data_utils import TradingHours, DataLoader\n",
    "from hsmm_core.data_utils import get_files_for_ticker\n",
    "from hsmm_core.labelling import DataLabellingSimple, DataLabellingCC\n",
    "from hsmm_core.consts import ThresholdMethod, LabellingChoice\n",
    "import datetime as dt\n",
    "import os\n",
    "import pandas as pd\n",
    "import matplotlib as mpl\n",
    "import matplotlib.pyplot as plt\n",
    "%matplotlib inline\\\n",
    "\n",
    "import numpy as np\n",
    "plt.style.use(os.path.join(mpl.get_configdir(), 'latexstyle3.mplstyle'))\n",
    "# for debugging\n",
    "import pdb\n",
    "from IPython.core.debugger import set_trace\n",
    "from collections import defaultdict"
   ]
  },
  {
   "cell_type": "code",
   "execution_count": 3,
   "metadata": {},
   "outputs": [],
   "source": [
    "plt.style.use(os.path.join(mpl.get_configdir(), 'latexstyle3.mplstyle'))\n",
    "figures_destination = '/home/ak/Documents/Research/Papers/figures'"
   ]
  },
  {
   "cell_type": "code",
   "execution_count": 4,
   "metadata": {},
   "outputs": [
    {
     "data": {
      "text/plain": [
       "'/home/ak/.config/matplotlib'"
      ]
     },
     "execution_count": 4,
     "metadata": {},
     "output_type": "execute_result"
    }
   ],
   "source": [
    "mpl.get_configdir()"
   ]
  },
  {
   "cell_type": "code",
   "execution_count": 5,
   "metadata": {},
   "outputs": [],
   "source": [
    "##helper functions for plotting##\n",
    "def plot_set(df):\n",
    "    for i in [1,5,10,100]:\n",
    "        x= np.asarray(df.iloc[:,10*i].expanding().mean())\n",
    "        plt.plot(x,linestyle='--', label =str(10*i)+'-slices')\n",
    "\n",
    "def plot_single_sequence(df, seq_no):\n",
    "    x= np.asarray(df.iloc[:,seq_no].index)\n",
    "    y=df.iloc[:,seq_no].expanding(10).mean()*100\n",
    "    error=y.expanding(seq_no).std()\n",
    "    plt.plot(x, y, 'k-',linewidth=0.9)\n",
    "    plt.fill_between(x, y-error, y+error, alpha=0.8, edgecolor='#1B2ACD', facecolor='#fff4f2',\n",
    "                         linewidth=0.4, linestyle='dashdot', antialiased=False)\n",
    "    \n",
    "    plt.legend([str(seq_no)+'-th time slice'])\n",
    "\n",
    "def plot_single_sequence_error(df, seq_no):\n",
    "    x= np.asarray(df.iloc[:,seq_no].index)\n",
    "    y=df.iloc[:,seq_no].expanding(10).mean()\n",
    "    error=y.expanding(seq_no).std()\n",
    "    plt.plot(x, error, linestyle='dashdot',linewidth=0.9, color='r')\n",
    "    plt.legend([str(seq_no)+'-th time slice '])"
   ]
  },
  {
   "cell_type": "code",
   "execution_count": 6,
   "metadata": {},
   "outputs": [],
   "source": [
    "\n",
    "def open_pickle_filepath(pickle_file):\n",
    "    pickle_to_file = pickle.load(open(pickle_file, \"rb\"), encoding='latin1')\n",
    "    return pickle_to_file"
   ]
  },
  {
   "cell_type": "code",
   "execution_count": 7,
   "metadata": {},
   "outputs": [],
   "source": [
    "# sys.path.append('/home/ak/Documents/Research/master/hsmm_core/')\n",
    "# sys.path.append('/home/ak/Documents/Research/master/')\n",
    "# from hsmm_core.hmm import * \n",
    "\n",
    " \n",
    "# import hsmm_core.observation_models \n",
    "# from test_hmm.test_utils import generate_sample_paths_independent_sets\n",
    "# from hsmm_core.observation_models import ExpIndMixDiracGauss\n",
    "# %matplotlib inline"
   ]
  },
  {
   "cell_type": "code",
   "execution_count": 8,
   "metadata": {},
   "outputs": [
    {
     "data": {
      "text/plain": [
       "['fischer_polar.pkl',\n",
       " 'im_metrics.pkl',\n",
       " 'ksi_metrics.pkl',\n",
       " 'fischer_polar_2_.pkl',\n",
       " 'im_metrics_2_.pkl',\n",
       " 'ksi_metrics_2_.pkl',\n",
       " 'fischer_polar_3_.pkl',\n",
       " 'im_metrics_3_.pkl',\n",
       " 'ksi_metrics_3_.pkl']"
      ]
     },
     "execution_count": 8,
     "metadata": {},
     "output_type": "execute_result"
    }
   ],
   "source": [
    "laCie ='/media/ak/LaCie'\n",
    "npy_files = [f for f in os.listdir(laCie) if str('.pkl') in f]\n",
    "npy_files"
   ]
  },
  {
   "cell_type": "code",
   "execution_count": 9,
   "metadata": {},
   "outputs": [
    {
     "name": "stdout",
     "output_type": "stream",
     "text": [
      "/media/ak/LaCie/im_metrics.pkl\n"
     ]
    }
   ],
   "source": [
    "fileIdx = 1\n",
    "file_path = os.path.join(laCie, npy_files[fileIdx])\n",
    "print(file_path)"
   ]
  },
  {
   "cell_type": "markdown",
   "metadata": {},
   "source": [
    "# IM Metrics "
   ]
  },
  {
   "cell_type": "markdown",
   "metadata": {},
   "source": [
    "### Spectral Gap"
   ]
  },
  {
   "cell_type": "code",
   "execution_count": 10,
   "metadata": {},
   "outputs": [],
   "source": [
    "im_metrics_lists = open_pickle_filepath(file_path)"
   ]
  },
  {
   "cell_type": "code",
   "execution_count": 11,
   "metadata": {},
   "outputs": [
    {
     "data": {
      "text/plain": [
       "['spectral', 'determ', 'trace']"
      ]
     },
     "execution_count": 11,
     "metadata": {},
     "output_type": "execute_result"
    }
   ],
   "source": [
    "im_metrics_dict = im_metrics_lists.item()\n",
    "keys = list(im_metrics_dict.keys())\n",
    "keys[0]\n",
    "keys"
   ]
  },
  {
   "cell_type": "code",
   "execution_count": 12,
   "metadata": {},
   "outputs": [],
   "source": [
    "# information matrix\n",
    "df =pd.DataFrame(im_metrics_dict[keys[0]])\n",
    "determ_df = pd.DataFrame(im_metrics_dict[keys[1]])\n",
    "trace_df = pd.DataFrame(im_metrics_dict[keys[2]])\n"
   ]
  },
  {
   "cell_type": "code",
   "execution_count": 13,
   "metadata": {},
   "outputs": [],
   "source": [
    "df = df.drop(columns=0)"
   ]
  },
  {
   "cell_type": "code",
   "execution_count": 14,
   "metadata": {},
   "outputs": [
    {
     "data": {
      "text/plain": [
       "(0.030000000000000002, 10500.0)"
      ]
     },
     "execution_count": 14,
     "metadata": {},
     "output_type": "execute_result"
    },
    {
     "data": {
      "image/png": "[encoded data removed]",
      "text/plain": [
       "<Figure size 432x288 with 1 Axes>"
      ]
     },
     "metadata": {
      "needs_background": "light"
     },
     "output_type": "display_data"
    }
   ],
   "source": [
    "\n",
    "_ =plot_single_sequence(df, 100)\n",
    "_ = plt.xlabel('No of Copies')\n",
    "plt.xlim(left = 0.000003*10000)\n",
    "plt.xlim(right = 1.05*10000)"
   ]
  },
  {
   "cell_type": "code",
   "execution_count": 27,
   "metadata": {},
   "outputs": [
    {
     "data": {
      "image/png": "[encoded data removed]",
      "text/plain": [
       "<Figure size 432x288 with 1 Axes>"
      ]
     },
     "metadata": {
      "needs_background": "light"
     },
     "output_type": "display_data"
    }
   ],
   "source": [
    "# plt.figure() \n",
    "# df =pd.DataFrame(im_metrics_dict[keys[0]])\n",
    "# seq_no =50\n",
    "# plot_single_sequence(df, seq_no)\n",
    "# plt.xlim(left = 0.000003*10000)\n",
    "# plt.xlim(right = 1.05*10000)\n",
    "\n",
    "\n",
    "# _= plt.ylabel(r'$\\frac{1}{M}\\sum_{i=1}^{m}$ Spectral Gap Inf.Matrix')\n",
    "# _= plt.xlabel('copies')\n",
    "# #plt.title('Information Matrix Spectral Gap ')\n",
    "# plot_title = 'seq_no_'+str(seq_no)+'_information_matrix_spectral_gap.png'\n",
    "# plot_loc = os.path.join( figures_destination, plot_title)\n",
    "# plt.savefig(plot_loc, dpi=1300)\n"
   ]
  },
  {
   "cell_type": "code",
   "execution_count": 28,
   "metadata": {},
   "outputs": [
    {
     "data": {
      "image/png": "[encoded data removed]",
      "text/plain": [
       "<Figure size 432x288 with 1 Axes>"
      ]
     },
     "metadata": {
      "needs_background": "light"
     },
     "output_type": "display_data"
    }
   ],
   "source": [
    "seq_no =50\n",
    "x= np.asarray(df.iloc[:,seq_no].index)\n",
    "y=df.iloc[:,seq_no].expanding(10).mean()\n",
    "error=y.expanding(seq_no).std()\n",
    "plt.xlim(left = 0.00003*10000)\n",
    "plt.xlim(right = 1.03*10000)\n",
    "#plt.title('Information Matrix Spectral Gap ')\n",
    "plot_title = 'seq_no_'+str(seq_no)+'_error_information_matrix_spectral_gap.png'\n",
    "_ = plot_loc = os.path.join( figures_destination, plot_title)\n",
    "_ = plt.savefig(plot_loc, dpi=1200)\n",
    "_ = plt.plot(x, error, linestyle='dashdot',linewidth=0.9, color='r')\n",
    "_ = plt.legend(['error '+str(seq_no)+'-th time slice '])\n",
    "plot_loc = os.path.join( figures_destination, plot_title)\n",
    "plt.savefig(plot_loc, dpi=1300)"
   ]
  },
  {
   "cell_type": "markdown",
   "metadata": {},
   "source": [
    "### Determinant"
   ]
  },
  {
   "cell_type": "code",
   "execution_count": null,
   "metadata": {},
   "outputs": [],
   "source": [
    "\n",
    "#plot_single_sequence(determ_df, 10)\n",
    "plot_single_sequence(determ_df, 14)\n",
    "\n",
    "# _ =plt.xlabel('Copies')\n",
    "_ =plt.ylabel(r'$\\frac{1}{M}\\sum_{i=1}^{m} \\det$ Inf.Matrix')\n",
    "plt.xlim(left= 0.000001*10000, right = 1.015*10000)\n",
    "plot_title = 'information_matrix_determinant.png'\n",
    "plot_loc = os.path.join( figures_destination, plot_title)\n",
    "plt.savefig(plot_loc, dpi=1300)"
   ]
  },
  {
   "cell_type": "markdown",
   "metadata": {},
   "source": [
    "## Trace"
   ]
  },
  {
   "cell_type": "code",
   "execution_count": null,
   "metadata": {},
   "outputs": [],
   "source": [
    "\n",
    "#plot_single_sequence(determ_df, 10)\n",
    "plot_single_sequence(trace_df, 14)\n",
    "\n",
    "\n",
    "_ =plt.ylabel(r'$\\frac{1}{M}\\sum_{i=1}^{m}$ Inf.Matrix')\n",
    "plt.xlim(left= 0.000001*10000, right = 1.01*10000)\n",
    "plot_title = 'information_matrix_trace.png'\n",
    "plot_loc = os.path.join( figures_destination, plot_title)\n",
    "plt.savefig(plot_loc, dpi=1300)"
   ]
  },
  {
   "cell_type": "code",
   "execution_count": null,
   "metadata": {},
   "outputs": [],
   "source": [
    "fileIdx = 2\n",
    "file_path = os.path.join(laCie, npy_files[fileIdx])\n",
    "print(file_path)"
   ]
  },
  {
   "cell_type": "code",
   "execution_count": null,
   "metadata": {},
   "outputs": [],
   "source": [
    "ksi_metrics = open_pickle_filepath(file_path)\n",
    "ksi_metrics.item().keys()"
   ]
  },
  {
   "cell_type": "code",
   "execution_count": null,
   "metadata": {},
   "outputs": [],
   "source": [
    "ksi_spectral_df = pd.DataFrame(ksi_metrics.item()['spectral'])\n",
    "ksi_determ_df = pd.DataFrame(ksi_metrics.item()['determ'])\n",
    "ksi_trace_df = pd.DataFrame(ksi_metrics.item()['trace'])\n"
   ]
  },
  {
   "cell_type": "code",
   "execution_count": null,
   "metadata": {},
   "outputs": [],
   "source": [
    "plot_single_sequence(ksi_spectral_df, 14)\n",
    "_ = plt.xlim(left = 0.0000004* 10000, right = 1.02*10000)\n",
    "plt.ylabel(r'spectral gap for $\\xi$')\n",
    "plot_title = 'ksi_spectral.png'\n",
    "plot_loc = os.path.join( figures_destination, plot_title)\n",
    "plt.savefig(plot_loc, dpi=1300)"
   ]
  },
  {
   "cell_type": "code",
   "execution_count": null,
   "metadata": {},
   "outputs": [],
   "source": [
    "plot_single_sequence(ksi_determ_df, 14)\n",
    "_ = plt.xlim(left = 0.0000004* 10000, right = 1.02*10000)\n",
    "plt.ylabel(r'determ for $\\xi$')\n",
    "plot_title = 'ksi_determ.png'\n",
    "plot_loc = os.path.join( figures_destination, plot_title)\n",
    "plt.savefig(plot_loc, dpi=1300)"
   ]
  },
  {
   "cell_type": "code",
   "execution_count": null,
   "metadata": {},
   "outputs": [],
   "source": [
    "\n",
    "plot_single_sequence(ksi_trace_df, 14)\n",
    "_ = plt.xlim(left = 0.0000004* 10000, right = 1.02*10000)\n",
    "plt.ylabel(r'trace for $\\xi$')\n",
    "plot_title = 'ksi_trace.png'\n",
    "plot_loc = os.path.join( figures_destination, plot_title)\n",
    "plt.savefig(plot_loc, dpi=1300)"
   ]
  },
  {
   "cell_type": "code",
   "execution_count": null,
   "metadata": {},
   "outputs": [],
   "source": [
    "df = ksi_determ_df\n",
    "\n",
    "\n",
    "\n",
    "\n",
    "for i in [5,6,15, 50]:\n",
    "        x= np.asarray(df.iloc[:,i].expanding(100).mean())\n",
    "        _=plt.plot(x,linestyle='--', label =str(10*i)+'-slice')\n",
    "        plt.xlim(left = 0.000004 *10000, right = 1.02 *10000)\n",
    "plt.xlabel('No of Sequence', fontsize =22)\n",
    "plt.ylabel(r'determ $\\xi$', fontsize =22)\n",
    "plot_title = 'ksi_determ_convergence.png'\n",
    "plot_loc = os.path.join( figures_destination, plot_title)\n",
    "plt.savefig(plot_loc, dpi=1300)\n",
    "plt.legend()\n"
   ]
  },
  {
   "cell_type": "code",
   "execution_count": null,
   "metadata": {},
   "outputs": [],
   "source": [
    "df = ksi_trace_df\n",
    "\n",
    "plt.style.use('ggplot')\n",
    "\n",
    "\n",
    "for i in [5,6,15, 50]:\n",
    "        x= np.asarray(df.iloc[:,i].expanding(100).mean())\n",
    "        _=plt.plot(x,linestyle='--', label =str(10*i)+'-slice')\n",
    "        plt.xlim(left = 0.000004 *10000, right = 1.02 *10000)\n",
    "plt.xlabel('No of Sequence', fontsize =22)\n",
    "plt.ylabel(r'trace $\\xi$', fontsize =22)\n",
    "plot_title = 'ksi_trace_convergence.png'\n",
    "plot_loc = os.path.join( figures_destination, plot_title)\n",
    "plt.savefig(plot_loc, dpi=1300)\n",
    "plt.legend()\n"
   ]
  },
  {
   "cell_type": "code",
   "execution_count": 15,
   "metadata": {},
   "outputs": [
    {
     "name": "stdout",
     "output_type": "stream",
     "text": [
      "/media/ak/LaCie/fischer_polar_3_.pkl\n"
     ]
    },
    {
     "data": {
      "text/plain": [
       "['fischer_polar.pkl',\n",
       " 'im_metrics.pkl',\n",
       " 'ksi_metrics.pkl',\n",
       " 'fischer_polar_2_.pkl',\n",
       " 'im_metrics_2_.pkl',\n",
       " 'ksi_metrics_2_.pkl',\n",
       " 'fischer_polar_3_.pkl',\n",
       " 'im_metrics_3_.pkl',\n",
       " 'ksi_metrics_3_.pkl']"
      ]
     },
     "execution_count": 15,
     "metadata": {},
     "output_type": "execute_result"
    }
   ],
   "source": [
    "fileIdx = 6\n",
    "file_path = os.path.join(laCie, npy_files[fileIdx])\n",
    "print(file_path)\n",
    "npy_files"
   ]
  },
  {
   "cell_type": "code",
   "execution_count": 16,
   "metadata": {},
   "outputs": [],
   "source": [
    "fisher = pd.DataFrame(open_pickle_filepath(file_path)[0])"
   ]
  },
  {
   "cell_type": "code",
   "execution_count": 40,
   "metadata": {},
   "outputs": [
    {
     "name": "stderr",
     "output_type": "stream",
     "text": [
      "No handles with labels found to put in legend.\n"
     ]
    },
    {
     "data": {
      "text/plain": [
       "<matplotlib.legend.Legend at 0x7f4a9e66f2b0>"
      ]
     },
     "execution_count": 40,
     "metadata": {},
     "output_type": "execute_result"
    },
    {
     "data": {
      "image/png": "[encoded data removed]",
      "text/plain": [
       "<Figure size 432x288 with 1 Axes>"
      ]
     },
     "metadata": {
      "needs_background": "light"
     },
     "output_type": "display_data"
    }
   ],
   "source": [
    "y = fisher[1].expanding(20).mean()\n",
    "x= np.asarray(fisher[1].index)\n",
    "plt.plot(y)\n",
    "#plt.plot(fisher[0].expanding(100).mean())\n",
    "error=y.expanding(10).std()*100\n",
    "plt.plot(x, y, 'k-',linewidth=0.9)\n",
    "plt.fill_between(x, y-error/x, y+error/x, alpha=0.3, edgecolor='#1C3ACD', facecolor='#fff9f2',\n",
    "                     linewidth=0.2, linestyle='dashdot', antialiased=False)\n",
    "plt.xlim(right = 1525)\n",
    "plt.xlim(left = 50)\n",
    "#plt.ylabel('Fischer Polar Coordinate', fontsize =22)\n",
    "#plt.xlabel('Length of Sequence', fontsize =22)\n",
    "plot_title = 'fisher_one.png'\n",
    "plot_loc = os.path.join( figures_destination, plot_title)\n",
    "plt.savefig(plot_loc, dpi=1300)\n",
    "plt.legend()\n"
   ]
  },
  {
   "cell_type": "code",
   "execution_count": 41,
   "metadata": {},
   "outputs": [
    {
     "name": "stderr",
     "output_type": "stream",
     "text": [
      "No handles with labels found to put in legend.\n"
     ]
    },
    {
     "data": {
      "text/plain": [
       "<matplotlib.legend.Legend at 0x7f4a9e6287f0>"
      ]
     },
     "execution_count": 41,
     "metadata": {},
     "output_type": "execute_result"
    },
    {
     "data": {
      "image/png": "[encoded data removed]",
      "text/plain": [
       "<Figure size 432x288 with 1 Axes>"
      ]
     },
     "metadata": {
      "needs_background": "light"
     },
     "output_type": "display_data"
    }
   ],
   "source": [
    "plt.plot(error, linewidth =0.9, linestyle ='--')\n",
    "plt.xlim(right = 1525)\n",
    "plt.xlim(left = 50)\n",
    "plot_title = 'error_fisher_one.png'\n",
    "plot_loc = os.path.join( figures_destination, plot_title)\n",
    "plt.savefig(plot_loc, dpi=1300)\n",
    "plt.legend()\n"
   ]
  },
  {
   "cell_type": "code",
   "execution_count": 42,
   "metadata": {},
   "outputs": [
    {
     "name": "stderr",
     "output_type": "stream",
     "text": [
      "No handles with labels found to put in legend.\n"
     ]
    },
    {
     "data": {
      "text/plain": [
       "<matplotlib.legend.Legend at 0x7f4a9e854940>"
      ]
     },
     "execution_count": 42,
     "metadata": {},
     "output_type": "execute_result"
    },
    {
     "data": {
      "image/png": "[encoded data removed]",
      "text/plain": [
       "<Figure size 432x288 with 1 Axes>"
      ]
     },
     "metadata": {
      "needs_background": "light"
     },
     "output_type": "display_data"
    }
   ],
   "source": [
    "y = fisher[2].expanding(20).mean()\n",
    "x= np.asarray(fisher[2].index)\n",
    "plt.plot(y)\n",
    "#plt.plot(fisher[0].expanding(100).mean())\n",
    "error=y.expanding(10).std()*200\n",
    "plt.plot(x, y, 'k-',linewidth=0.9)\n",
    "plt.fill_between(x, y-error/x, y+error/x, alpha=0.3, edgecolor='#1C3ACD', facecolor='#fff9f2',\n",
    "                     linewidth=0.2, linestyle='dashdot', antialiased=False)\n",
    "plt.xlim(right = 1525)\n",
    "plt.xlim(left = 50)\n",
    "#plt.xlabel('Length of Sequence')\n",
    "plot_title = 'fisher_two.png'\n",
    "plot_loc = os.path.join( figures_destination, plot_title)\n",
    "plt.savefig(plot_loc, dpi=1300)\n",
    "plt.legend()"
   ]
  },
  {
   "cell_type": "code",
   "execution_count": 46,
   "metadata": {},
   "outputs": [
    {
     "name": "stderr",
     "output_type": "stream",
     "text": [
      "No handles with labels found to put in legend.\n"
     ]
    },
    {
     "data": {
      "image/png": "[encoded data removed]",
      "text/plain": [
       "<Figure size 432x288 with 1 Axes>"
      ]
     },
     "metadata": {
      "needs_background": "light"
     },
     "output_type": "display_data"
    }
   ],
   "source": [
    "_ =plt.plot(error, linewidth =0.9, linestyle ='--', color ='b')\n",
    "\n",
    "_ =plt.xlim(right = 1525)\n",
    "_ =plt.xlim(left = 50)\n",
    "_ =plot_title = 'error_fisher_two.png'\n",
    "_ =plot_loc = os.path.join( figures_destination, plot_title)\n",
    "_ =plt.savefig(plot_loc, dpi=1300)\n",
    "_ =plt.legend()\n"
   ]
  },
  {
   "cell_type": "code",
   "execution_count": null,
   "metadata": {},
   "outputs": [],
   "source": []
  }
 ],
 "metadata": {
  "kernelspec": {
   "display_name": "Python 3",
   "language": "python",
   "name": "python3"
  },
  "language_info": {
   "codemirror_mode": {
    "name": "ipython",
    "version": 3
   },
   "file_extension": ".py",
   "mimetype": "text/x-python",
   "name": "python",
   "nbconvert_exporter": "python",
   "pygments_lexer": "ipython3",
   "version": "3.6.8"
  },
  "latex_envs": {
   "LaTeX_envs_menu_present": true,
   "autoclose": false,
   "autocomplete": true,
   "bibliofile": "biblio.bib",
   "cite_by": "apalike",
   "current_citInitial": 1,
   "eqLabelWithNumbers": true,
   "eqNumInitial": 1,
   "hotkeys": {
    "equation": "Ctrl-E",
    "itemize": "Ctrl-I"
   },
   "labels_anchors": false,
   "latex_user_defs": false,
   "report_style_numbering": false,
   "user_envs_cfg": false
  }
 },
 "nbformat": 4,
 "nbformat_minor": 2
}
