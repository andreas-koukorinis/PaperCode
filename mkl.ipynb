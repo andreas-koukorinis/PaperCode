{
 "cells": [
  {
   "cell_type": "code",
   "execution_count": 4,
   "metadata": {},
   "outputs": [],
   "source": [
    "import pickle\n",
    "import os\n",
    "import pandas as pd\n",
    "import numpy as np\n",
    "import sklearn\n",
    "import scipy.stats as stats\n",
    "\n",
    "from sklearn.pipeline import Pipeline\n",
    "from sklearn import linear_model, decomposition\n",
    "from sklearn.svm import LinearSVC\n",
    "from sklearn.svm import SVC\n",
    "\n",
    "from sklearn.metrics import precision_recall_curve\n",
    "\n",
    "from sklearn.linear_model import SGDClassifier, LogisticRegression\n",
    "\n",
    "from sklearn.preprocessing import StandardScaler\n",
    "from sklearn.preprocessing import MinMaxScaler\n",
    "from sklearn.multiclass import OneVsRestClassifier\n",
    "from sklearn import decomposition\n",
    "import matplotlib.pyplot as plt\n",
    "###############################################\n",
    "\n",
    "from sklearn.linear_model import LogisticRegression\n",
    "from sklearn import svm\n",
    "from sklearn.model_selection import GridSearchCV\n",
    "from sklearn.externals import joblib\n",
    "import pickle\n",
    "# Added version check for recent scikit-learn 0.18 checksok ca\n",
    "from distutils.version import LooseVersion as Version\n",
    "from sklearn.base import clone\n",
    "from itertools import combinations\n",
    "import numpy as np\n",
    "from sklearn.metrics import accuracy_score\n",
    "from sklearn.metrics import roc_auc_score, accuracy_score, f1_score, recall_score, precision_score\n",
    "\n",
    "from sklearn.model_selection import train_test_split\n",
    "##############----########### Take out what is redundant below###\n",
    "from sklearn.linear_model import ElasticNet, Lasso, RidgeClassifier\n",
    "from sklearn.model_selection import StratifiedKFold, cross_val_score\n",
    "from sklearn.preprocessing import scale\n",
    "from sklearn.metrics import roc_curve\n",
    "\n",
    "from sklearn.model_selection import learning_curve\n",
    "from sklearn.model_selection import ShuffleSplit\n",
    "##############################\n",
    "import pandas as pd \n",
    "import numpy as np \n",
    "from sklearn.datasets import load_svmlight_file, dump_svmlight_file\n",
    "import MKLpy as mkl\n",
    "\n",
    "%matplotlib inline\n"
   ]
  },
  {
   "cell_type": "code",
   "execution_count": null,
   "metadata": {},
   "outputs": [],
   "source": []
  },
  {
   "cell_type": "code",
   "execution_count": 4,
   "metadata": {},
   "outputs": [
    {
     "data": {
      "text/plain": [
       "EasyMKL(estimator=KOMD(coef0=0.0, degree=2.0, kernel='precomputed', lam=0.1, max_iter=100,\n",
       "   multiclass_strategy='ova', rbf_gamma=0.1, verbose=False),\n",
       "    generator=<MKLpy.lists.generator.HPK_generator object at 0x7f68a9ce7310>,\n",
       "    lam=0.1, max_iter=100, multiclass_strategy='ova', n_kernels=3,\n",
       "    verbose=False)"
      ]
     },
     "execution_count": 4,
     "metadata": {},
     "output_type": "execute_result"
    }
   ],
   "source": [
    "\n",
    "\n",
    "columns = ['feature{}'.format(ii) for ii in range(1, 5)] \n",
    "\n",
    "df = pd.DataFrame({col: np.random.randn(10) for col in columns})\n",
    "\n",
    "path = '/home/ak/Documents/Research/temp/mkl_example.dmp' \n",
    "\n",
    "df['labels'] = np.random.choice([0, 1], size=len(df))\n",
    "dump_svmlight_file(df[columns].values, df['labels'].values, path) \n",
    "\n",
    "X,Y = load_svmlight_file(path)\n",
    "X = X.toarray()\t#Important! MKLpy require dense matrices!\n",
    "X = rescale_01(X)\n",
    "X = normalization(X) \n",
    "\n",
    "KL = [HPK_kernel(X,degree=d) for d in range(1,11)]\n",
    "KL2 = [RBF(X, gamma=gamma) for gamma in [1., 10, 100.]] \n",
    "\n",
    "EasyMKL().fit(KL2,Y)\n",
    "\n",
    "\n",
    "\n",
    "\n"
   ]
  },
  {
   "cell_type": "code",
   "execution_count": 6,
   "metadata": {},
   "outputs": [
    {
     "data": {
      "text/plain": [
       "0    1\n",
       "1    0\n",
       "2    0\n",
       "3    1\n",
       "4    0\n",
       "5    0\n",
       "6    0\n",
       "7    1\n",
       "8    0\n",
       "9    1\n",
       "Name: labels, dtype: int64"
      ]
     },
     "execution_count": 6,
     "metadata": {},
     "output_type": "execute_result"
    }
   ],
   "source": [
    "df['labels']"
   ]
  },
  {
   "cell_type": "markdown",
   "metadata": {},
   "source": [
    "if __name__ == '__main__':\n",
    "    xx, yy = np.meshgrid(np.linspace(-5, 5, 40), np.linspace(-5, 5, 40))\n",
    "    np.random.seed(0)\n",
    "    X = np.random.randn(300, 2)\n",
    "    y = np.logical_xor(X[:, 0] > 0, X[:, 1] > 0)\n",
    "    # y = X[:,0]>0\n",
    "\n",
    "    y = np.array(y, dtype=np.int)\n",
    "    y[y == 0] = -1\n",
    "\n",
    "    # Define the kernels\n",
    "    kernels = [RBF(10 ** k) for k in range(-5, 0)]  # some RBF kernels\n",
    "    kernels.append(linear)  # Add linear kernel\n",
    "\n",
    "    # fit the model\n",
    "    clf = MultiKernelSVC(kernels=kernels, C=1e6, verbose=True, maxit=100,\n",
    "                         tol=1e-5, p=1, store_objective=True)\n",
    "    clf.fit(X, y)\n",
    "\n",
    "    objective = clf.objective\n",
    "\n",
    "    pl.close('all')\n",
    "    pl.figure()\n",
    "    pl.plot(objective)\n",
    "    pl.xlabel('Iterations')\n",
    "    pl.ylabel('Dual objective')\n",
    "\n",
    "    # plot the line, the points, and the nearest vectors to the plane\n",
    "    Z = clf.predict(np.c_[xx.ravel(), yy.ravel()])\n",
    "    Z = Z.reshape(xx.shape)\n",
    "\n",
    "    # pl.close('all')\n",
    "    pl.figure()\n",
    "    pl.set_cmap(pl.cm.Paired)\n",
    "    pl.pcolormesh(xx, yy, Z)\n",
    "    pl.scatter(X[:,0], X[:,1], c=y)\n",
    "\n",
    "    pl.axis('tight')\n",
    "    pl.show()"
   ]
  },
  {
   "cell_type": "code",
   "execution_count": 11,
   "metadata": {},
   "outputs": [
    {
     "data": {
      "text/plain": [
       "(300,)"
      ]
     },
     "execution_count": 11,
     "metadata": {},
     "output_type": "execute_result"
    }
   ],
   "source": [
    "y.shape"
   ]
  },
  {
   "cell_type": "code",
   "execution_count": 12,
   "metadata": {
    "collapsed": true
   },
   "outputs": [],
   "source": [
    "# Where to save the figures\n",
    "_pkl_path =('/home/ak/Documents/Data/features_test/')\n",
    "\n",
    "#ticker='MS.N'\n",
    "#symbols[3] #enter symbol you want - this will be made for various\n",
    "\n",
    "_graphs_path= '/home/ak/Documents/Data/features_test/graphs/'\n",
    "_models_path = '/home/ak/Documents/Data/features_test/models/'\n",
    "_predictions_path ='/home/ak/Documents/Data/features_test/predictions/'\n",
    "figures_path= ('/home/ak/Documents/Research/QFPaper/paper/figures/')"
   ]
  },
  {
   "cell_type": "code",
   "execution_count": 13,
   "metadata": {
    "collapsed": true
   },
   "outputs": [],
   "source": [
    "##load data\n",
    "ticker = 'ZLc1_3' #loads specific symbol\n",
    "with open(_pkl_path + ticker+'_states_features_data.pickle', 'rb') as handle:\n",
    "    ticker_features_ = pickle.load(handle)\n",
    "with open(_pkl_path + ticker+'_states_labelled_data.pickle', 'rb') as handle:\n",
    "    ticker_labelled_data_ = pickle.load(handle)"
   ]
  },
  {
   "cell_type": "code",
   "execution_count": 19,
   "metadata": {
    "collapsed": true
   },
   "outputs": [],
   "source": [
    "def off_set(array_1, array_2):\n",
    "    off_set= len(array_1)-len(array_2)\n",
    "    return off_set\n",
    "\n",
    "def simpleInputs(_X,_y):\n",
    "    _offset =np.abs(off_set(_X,_y))\n",
    "    if _offset==0:\n",
    "        X = _X.as_matrix().astype(np.float)\n",
    "        y=_y.astype(np.int)\n",
    "    else:\n",
    "        X= _X[:-_offset].as_matrix().astype(np.float)\n",
    "        y = _y.astype(np.int)\n",
    "    return X, y"
   ]
  },
  {
   "cell_type": "code",
   "execution_count": null,
   "metadata": {
    "collapsed": true
   },
   "outputs": [],
   "source": []
  },
  {
   "cell_type": "code",
   "execution_count": 20,
   "metadata": {
    "collapsed": true
   },
   "outputs": [],
   "source": [
    "###the following bit is a bit redundant###\n",
    "_data = ticker_labelled_data_  # data\n",
    "_features = ticker_features_  # features\n",
    "_keys = _data.keys()  # dates\n",
    "###scalers###\n",
    "mms = MinMaxScaler()\n",
    "stdsc = StandardScaler()\n",
    "_clfs=[]\n",
    "_xr=len(_keys)-1 #what is this\n",
    "T=1\n",
    "M=_xr #what is this"
   ]
  },
  {
   "cell_type": "code",
   "execution_count": 21,
   "metadata": {},
   "outputs": [
    {
     "data": {
      "text/plain": [
       "['20100804',\n",
       " '20100820',\n",
       " '20100629',\n",
       " '20100826',\n",
       " '20100519',\n",
       " '20100518',\n",
       " '20100517',\n",
       " '20100621',\n",
       " '20100604',\n",
       " '20100602',\n",
       " '20100601',\n",
       " '20100723',\n",
       " '20100701',\n",
       " '20100628',\n",
       " '20100816',\n",
       " '20100817',\n",
       " '20100521',\n",
       " '20100527',\n",
       " '20100524',\n",
       " '20100525',\n",
       " '20100504',\n",
       " '20100819',\n",
       " '20100616',\n",
       " '20100610',\n",
       " '20100608']"
      ]
     },
     "execution_count": 21,
     "metadata": {},
     "output_type": "execute_result"
    }
   ],
   "source": [
    "_keys"
   ]
  },
  {
   "cell_type": "code",
   "execution_count": 29,
   "metadata": {},
   "outputs": [
    {
     "name": "stdout",
     "output_type": "stream",
     "text": [
      "('number of classes:', 2)\n",
      "True\n",
      "True\n",
      "('number of classes:', 2)\n",
      "True\n",
      "True\n",
      "('number of classes:', 2)\n",
      "True\n",
      "True\n",
      "('number of classes:', 2)\n",
      "True\n",
      "True\n",
      "('number of classes:', 2)\n",
      "True\n",
      "True\n",
      "('number of classes:', 2)\n",
      "True\n",
      "True\n",
      "('number of classes:', 2)\n",
      "True\n",
      "True\n",
      "('number of classes:', 2)\n",
      "True\n",
      "True\n",
      "('number of classes:', 2)\n",
      "True\n",
      "True\n",
      "('number of classes:', 2)\n",
      "True\n",
      "True\n",
      "('number of classes:', 2)\n",
      "True\n",
      "True\n",
      "('number of classes:', 2)\n",
      "True\n",
      "True\n",
      "('number of classes:', 2)\n",
      "True\n",
      "True\n",
      "('number of classes:', 2)\n",
      "True\n",
      "True\n",
      "('number of classes:', 2)\n",
      "True\n",
      "True\n",
      "('number of classes:', 2)\n",
      "True\n",
      "True\n",
      "('number of classes:', 2)\n",
      "True\n",
      "True\n",
      "('number of classes:', 2)\n",
      "True\n",
      "True\n",
      "('number of classes:', 2)\n",
      "True\n",
      "True\n",
      "('number of classes:', 2)\n",
      "True\n",
      "True\n",
      "('number of classes:', 2)\n",
      "True\n",
      "True\n",
      "('number of classes:', 2)\n",
      "True\n",
      "True\n",
      "('number of classes:', 2)\n",
      "True\n",
      "True\n",
      "('number of classes:', 2)\n",
      "True\n",
      "True\n"
     ]
    }
   ],
   "source": [
    "for _idx in xrange(0, _xr): #replace this w _xr\n",
    "    # various types of labels\n",
    "    y_cc = _data[_keys[_idx]].iloc[:, 6].dropna().astype(int).values  # label_simple_ep_window_5_thresh_0.00-last 4 are NaN\n",
    "    y_duration = _data[_keys[_idx]].iloc[:, 3].dropna().astype(int).values\n",
    "    y_price = _data[_keys[_idx]].iloc[:, 1].dropna().astype(int).values # can be used for regression\n",
    "\n",
    "    # feature set\n",
    "    _gamma = _features[_keys[_idx]][2]\n",
    "    _csi = _features[_keys[_idx]][3]\n",
    "    _info = _features[_keys[_idx]][1]\n",
    "    _fischer = _features[_keys[_idx]][0]\n",
    "    short_rolling = _data[_keys[_idx]]['TradedPrice'].rolling(window=5).mean()\n",
    "    long_rolling = _data[_keys[_idx]]['TradedPrice'].rolling(window=15).mean()\n",
    "    ma_signal = (long_rolling - short_rolling).fillna(0)\n",
    "    \n",
    "    df_features = pd.concat([_csi, _gamma, _fischer,_data[_keys[_idx]]['TradedPrice']], axis=1)\n",
    "    \n",
    "    df_features['MA_signal'] = df_features['TradedPrice'].rolling(window=15).mean()-df_features['TradedPrice'].rolling(window=5).mean()\n",
    "    df_features=df_features.dropna()\n",
    "        \n",
    "    \n",
    "    \n",
    "    y_ = y_cc\n",
    "    X, y = simpleInputs(df_features, y_) #simple inputs just makes sure all the sizes fit\n",
    "    X_p, y = simpleInputs(df_features['MA_signal'], y_)\n",
    "           \n",
    "    print(\"number of classes:\",len(np.unique(y)))  # of classes\n",
    "    print(len(X)==len(y))\n",
    "    print(len(X_p)==len(y))\n"
   ]
  },
  {
   "cell_type": "code",
   "execution_count": 30,
   "metadata": {},
   "outputs": [
    {
     "data": {
      "text/plain": [
       "(14313,)"
      ]
     },
     "execution_count": 30,
     "metadata": {},
     "output_type": "execute_result"
    }
   ],
   "source": [
    "y.shape"
   ]
  },
  {
   "cell_type": "code",
   "execution_count": null,
   "metadata": {},
   "outputs": [
    {
     "name": "stdout",
     "output_type": "stream",
     "text": [
      "Gammas : [0.16666667 0.16666667 0.16666667 0.16666667 0.16666667 0.16666667]\n"
     ]
    }
   ],
   "source": [
    "if __name__ == '__main__':\n",
    "    xx, yy = np.meshgrid(np.linspace(-5, 5, 40), np.linspace(-5, 5, 40))\n",
    "    np.random.seed(0)\n",
    "#     X = np.random.randn(300, 2)\n",
    "#     y = np.logical_xor(X[:, 0] > 0, X[:, 1] > 0)\n",
    "#     # y = X[:,0]>0\n",
    "\n",
    "#     y = np.array(y, dtype=np.int)\n",
    "#     y[y == 0] = -1\n",
    "\n",
    "    # Define the kernels\n",
    "    kernels = [RBF(10 ** k) for k in range(-5, 0)]  # some RBF kernels\n",
    "    kernels.append(linear)  # Add linear kernel\n",
    "\n",
    "    # fit the model\n",
    "    clf = MultiKernelSVC(kernels=kernels, C=1e6, verbose=True, maxit=100,\n",
    "                         tol=1e-5, p=1, store_objective=True)\n",
    "    clf.fit(X, y)\n",
    "\n",
    "    objective = clf.objective\n",
    "\n",
    "    pl.close('all')X = np.random.randn(300, 2)\n",
    "#     y = np.logical_xor(X[:, 0] > 0, X[:, 1] > 0)\n",
    "#     # y = X[:,0]>0\n",
    "\n",
    "#     y = np.array(y, dtype=np.int)\n",
    "#     y[y == 0] = -1\n",
    "\n",
    "    pl.figure()\n",
    "    pl.plot(objective)\n",
    "    pl.xlabel('Iterations')\n",
    "    pl.ylabel('Dual objective')\n",
    "\n",
    "    # plot the line, the points, and the nearest vectors to the plane\n",
    "    Z = clf.predict(np.c_[xx.ravel(), yy.ravel()])\n",
    "    Z = Z.reshape(xx.shape)\n",
    "\n",
    "    # pl.close('all')\n",
    "    pl.figure()\n",
    "    pl.set_cmap(pl.cm.Paired)\n",
    "    pl.pcolormesh(xx, yy, Z)\n",
    "    pl.scatter(X[:,0], X[:,1], c=y)\n",
    "\n",
    "    pl.axis('tight')\n",
    "    pl.show()"
   ]
  },
  {
   "cell_type": "code",
   "execution_count": null,
   "metadata": {},
   "outputs": [],
   "source": [
    "X.shape"
   ]
  },
  {
   "cell_type": "code",
   "execution_count": null,
   "metadata": {
    "collapsed": true
   },
   "outputs": [],
   "source": []
  }
 ],
 "metadata": {
  "kernelspec": {
   "display_name": "Python 3",
   "language": "python",
   "name": "python3"
  },
  "language_info": {
   "codemirror_mode": {
    "name": "ipython",
    "version": 3
   },
   "file_extension": ".py",
   "mimetype": "text/x-python",
   "name": "python",
   "nbconvert_exporter": "python",
   "pygments_lexer": "ipython3",
   "version": "3.6.8"
  }
 },
 "nbformat": 4,
 "nbformat_minor": 2
}
