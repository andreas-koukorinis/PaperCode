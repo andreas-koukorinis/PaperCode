{
 "cells": [
  {
   "cell_type": "code",
   "execution_count": 1,
   "metadata": {},
   "outputs": [],
   "source": [
    "import pandas as pd\n",
    "import numpy as np\n",
    "import os\n",
    "from dateutil.parser import parse\n",
    "from pandas.tseries.offsets import BDay\n",
    "import pickle as pkl\n",
    "import fnmatch\n",
    "import datetime as dt\n",
    "from datetime import timedelta\n",
    "import glob\n",
    "#Set PANDAS to show all columns in DataFrame\n",
    "pd.set_option('display.max_columns', None)"
   ]
  },
  {
   "cell_type": "code",
   "execution_count": 2,
   "metadata": {},
   "outputs": [],
   "source": [
    "dataOnlyDrive = ('/media/ak/My Passport/Experiment Data')"
   ]
  },
  {
   "cell_type": "code",
   "execution_count": 3,
   "metadata": {},
   "outputs": [],
   "source": [
    "symbolsPath = \"/\".join((dataOnlyDrive,'MKLExpPath'))\n",
    "symbols =os.listdir(symbolsPath)"
   ]
  },
  {
   "cell_type": "code",
   "execution_count": 4,
   "metadata": {},
   "outputs": [],
   "source": [
    "import os\n",
    "AverageKernelList =[]\n",
    "mklList =[]\n",
    "for root, dirs, files in os.walk(symbolsPath):\n",
    "    for file in files:\n",
    "        if file.endswith(\"average_kernel_results.pkl\"):\n",
    "            AverageKernelList.append(os.path.join(root, file))\n",
    "        elif file.endswith(\"multiple_kernel_results.pkl\"):\n",
    "            mklList.append(os.path.join(root, file))"
   ]
  },
  {
   "cell_type": "code",
   "execution_count": 5,
   "metadata": {},
   "outputs": [],
   "source": [
    "pickleFile=mklList[0]\n",
    "pickle_to_file = pkl.load(open(pickleFile, \"rb\"))"
   ]
  },
  {
   "cell_type": "code",
   "execution_count": 26,
   "metadata": {},
   "outputs": [],
   "source": [
    "metrics =['auc','test_recall', 'train_recall', 'test_accuracy', 'train_accuracy',  'f1_score']"
   ]
  },
  {
   "cell_type": "code",
   "execution_count": 28,
   "metadata": {},
   "outputs": [],
   "source": [
    "data = { x : [] for x in [ 'symbol' ] + metrics }\n",
    "for fn in mklList:\n",
    "    symbol = fn.split(\"/\")[-2]\n",
    "    loadedData = pkl.load(open(fn, \"rb\"))\n",
    "    data['symbol'].append(symbol)\n",
    "    for m in metrics:\n",
    "#         if m == 'test_accuracy':\n",
    "        data[m].append(np.median(loadedData[m]))\n",
    "#         else:\n",
    "#             data[m].append(float('nan'))"
   ]
  },
  {
   "cell_type": "code",
   "execution_count": 29,
   "metadata": {},
   "outputs": [
    {
     "data": {
      "text/html": [
       "<div>\n",
       "<style scoped>\n",
       "    .dataframe tbody tr th:only-of-type {\n",
       "        vertical-align: middle;\n",
       "    }\n",
       "\n",
       "    .dataframe tbody tr th {\n",
       "        vertical-align: top;\n",
       "    }\n",
       "\n",
       "    .dataframe thead th {\n",
       "        text-align: right;\n",
       "    }\n",
       "</style>\n",
       "<table border=\"1\" class=\"dataframe\">\n",
       "  <thead>\n",
       "    <tr style=\"text-align: right;\">\n",
       "      <th></th>\n",
       "      <th>symbol</th>\n",
       "      <th>auc</th>\n",
       "      <th>test_recall</th>\n",
       "      <th>train_recall</th>\n",
       "      <th>test_accuracy</th>\n",
       "      <th>train_accuracy</th>\n",
       "      <th>f1_score</th>\n",
       "    </tr>\n",
       "  </thead>\n",
       "  <tbody>\n",
       "    <tr>\n",
       "      <th>0</th>\n",
       "      <td>APF.L</td>\n",
       "      <td>NaN</td>\n",
       "      <td>NaN</td>\n",
       "      <td>NaN</td>\n",
       "      <td>0.652174</td>\n",
       "      <td>0.911111</td>\n",
       "      <td>0.850000</td>\n",
       "    </tr>\n",
       "    <tr>\n",
       "      <th>1</th>\n",
       "      <td>BARC.L</td>\n",
       "      <td>NaN</td>\n",
       "      <td>NaN</td>\n",
       "      <td>NaN</td>\n",
       "      <td>0.868049</td>\n",
       "      <td>0.972945</td>\n",
       "      <td>0.620774</td>\n",
       "    </tr>\n",
       "    <tr>\n",
       "      <th>2</th>\n",
       "      <td>BLT.L</td>\n",
       "      <td>NaN</td>\n",
       "      <td>NaN</td>\n",
       "      <td>NaN</td>\n",
       "      <td>0.748735</td>\n",
       "      <td>0.964936</td>\n",
       "      <td>0.547162</td>\n",
       "    </tr>\n",
       "    <tr>\n",
       "      <th>3</th>\n",
       "      <td>CNA.L</td>\n",
       "      <td>NaN</td>\n",
       "      <td>0.615205</td>\n",
       "      <td>0.791398</td>\n",
       "      <td>0.615205</td>\n",
       "      <td>0.791398</td>\n",
       "      <td>0.560919</td>\n",
       "    </tr>\n",
       "    <tr>\n",
       "      <th>4</th>\n",
       "      <td>CPG.L</td>\n",
       "      <td>NaN</td>\n",
       "      <td>0.834470</td>\n",
       "      <td>0.847571</td>\n",
       "      <td>0.834470</td>\n",
       "      <td>0.847571</td>\n",
       "      <td>0.548077</td>\n",
       "    </tr>\n",
       "    <tr>\n",
       "      <th>5</th>\n",
       "      <td>DGE.L</td>\n",
       "      <td>NaN</td>\n",
       "      <td>0.848886</td>\n",
       "      <td>0.991377</td>\n",
       "      <td>0.848886</td>\n",
       "      <td>0.991377</td>\n",
       "      <td>0.637164</td>\n",
       "    </tr>\n",
       "    <tr>\n",
       "      <th>6</th>\n",
       "      <td>LAND.L</td>\n",
       "      <td>NaN</td>\n",
       "      <td>0.742212</td>\n",
       "      <td>0.858885</td>\n",
       "      <td>0.742212</td>\n",
       "      <td>0.858885</td>\n",
       "      <td>0.560200</td>\n",
       "    </tr>\n",
       "  </tbody>\n",
       "</table>\n",
       "</div>"
      ],
      "text/plain": [
       "   symbol  auc  test_recall  train_recall  test_accuracy  train_accuracy  \\\n",
       "0   APF.L  NaN          NaN           NaN       0.652174        0.911111   \n",
       "1  BARC.L  NaN          NaN           NaN       0.868049        0.972945   \n",
       "2   BLT.L  NaN          NaN           NaN       0.748735        0.964936   \n",
       "3   CNA.L  NaN     0.615205      0.791398       0.615205        0.791398   \n",
       "4   CPG.L  NaN     0.834470      0.847571       0.834470        0.847571   \n",
       "5   DGE.L  NaN     0.848886      0.991377       0.848886        0.991377   \n",
       "6  LAND.L  NaN     0.742212      0.858885       0.742212        0.858885   \n",
       "\n",
       "   f1_score  \n",
       "0  0.850000  \n",
       "1  0.620774  \n",
       "2  0.547162  \n",
       "3  0.560919  \n",
       "4  0.548077  \n",
       "5  0.637164  \n",
       "6  0.560200  "
      ]
     },
     "execution_count": 29,
     "metadata": {},
     "output_type": "execute_result"
    }
   ],
   "source": [
    "pd.DataFrame(data)"
   ]
  },
  {
   "cell_type": "code",
   "execution_count": 11,
   "metadata": {},
   "outputs": [
    {
     "data": {
      "text/plain": [
       "['/media/ak/My Passport/Experiment Data/MKLExpPath/APF.L/APF.L_one_day_ahead_multiple_kernel_results.pkl',\n",
       " '/media/ak/My Passport/Experiment Data/MKLExpPath/BARC.L/BARC.L_one_day_ahead_multiple_kernel_results.pkl',\n",
       " '/media/ak/My Passport/Experiment Data/MKLExpPath/BLT.L/BLT.L_one_day_ahead_multiple_kernel_results.pkl',\n",
       " '/media/ak/My Passport/Experiment Data/MKLExpPath/CNA.L/CNA.L_one_day_ahead_multiple_kernel_results.pkl',\n",
       " '/media/ak/My Passport/Experiment Data/MKLExpPath/CPG.L/CPG.L_one_day_ahead_multiple_kernel_results.pkl',\n",
       " '/media/ak/My Passport/Experiment Data/MKLExpPath/DGE.L/DGE.L_one_day_ahead_multiple_kernel_results.pkl',\n",
       " '/media/ak/My Passport/Experiment Data/MKLExpPath/LAND.L/LAND.L_one_day_ahead_multiple_kernel_results.pkl']"
      ]
     },
     "execution_count": 11,
     "metadata": {},
     "output_type": "execute_result"
    }
   ],
   "source": [
    "mklList"
   ]
  },
  {
   "cell_type": "code",
   "execution_count": 41,
   "metadata": {},
   "outputs": [
    {
     "data": {
      "text/html": [
       "<div>\n",
       "<style scoped>\n",
       "    .dataframe tbody tr th:only-of-type {\n",
       "        vertical-align: middle;\n",
       "    }\n",
       "\n",
       "    .dataframe tbody tr th {\n",
       "        vertical-align: top;\n",
       "    }\n",
       "\n",
       "    .dataframe thead th {\n",
       "        text-align: right;\n",
       "    }\n",
       "</style>\n",
       "<table border=\"1\" class=\"dataframe\">\n",
       "  <thead>\n",
       "    <tr style=\"text-align: right;\">\n",
       "      <th></th>\n",
       "      <th>tpr</th>\n",
       "      <th>fpr</th>\n",
       "      <th>auc</th>\n",
       "      <th>train_date</th>\n",
       "      <th>data_date</th>\n",
       "      <th>test_recall</th>\n",
       "      <th>train_recall</th>\n",
       "      <th>test_accuracy</th>\n",
       "      <th>train_accuracy</th>\n",
       "      <th>thresholds</th>\n",
       "      <th>f1_score</th>\n",
       "    </tr>\n",
       "  </thead>\n",
       "  <tbody>\n",
       "  </tbody>\n",
       "</table>\n",
       "</div>"
      ],
      "text/plain": [
       "Empty DataFrame\n",
       "Columns: [tpr, fpr, auc, train_date, data_date, test_recall, train_recall, test_accuracy, train_accuracy, thresholds, f1_score]\n",
       "Index: []"
      ]
     },
     "execution_count": 41,
     "metadata": {},
     "output_type": "execute_result"
    }
   ],
   "source": [
    "pd.DataFrame(columns=list(pickle_to_file.keys()))"
   ]
  },
  {
   "cell_type": "code",
   "execution_count": 62,
   "metadata": {},
   "outputs": [
    {
     "data": {
      "text/plain": [
       "['tpr',\n",
       " 'fpr',\n",
       " 'auc',\n",
       " 'train_date',\n",
       " 'data_date',\n",
       " 'test_recall',\n",
       " 'train_recall',\n",
       " 'test_accuracy',\n",
       " 'train_accuracy',\n",
       " 'thresholds',\n",
       " 'f1_score']"
      ]
     },
     "execution_count": 62,
     "metadata": {},
     "output_type": "execute_result"
    }
   ],
   "source": [
    "pickleKeys =list(pickle_to_file.keys())\n",
    "pickleKeys"
   ]
  },
  {
   "cell_type": "code",
   "execution_count": 13,
   "metadata": {},
   "outputs": [
    {
     "data": {
      "text/html": [
       "<div>\n",
       "<style scoped>\n",
       "    .dataframe tbody tr th:only-of-type {\n",
       "        vertical-align: middle;\n",
       "    }\n",
       "\n",
       "    .dataframe tbody tr th {\n",
       "        vertical-align: top;\n",
       "    }\n",
       "\n",
       "    .dataframe thead th {\n",
       "        text-align: right;\n",
       "    }\n",
       "</style>\n",
       "<table border=\"1\" class=\"dataframe\">\n",
       "  <thead>\n",
       "    <tr style=\"text-align: right;\">\n",
       "      <th></th>\n",
       "      <th>tpr</th>\n",
       "      <th>fpr</th>\n",
       "      <th>auc</th>\n",
       "      <th>test_recall</th>\n",
       "      <th>train_recall</th>\n",
       "      <th>test_accuracy</th>\n",
       "      <th>train_accuracy</th>\n",
       "      <th>thresholds</th>\n",
       "      <th>f1_score</th>\n",
       "    </tr>\n",
       "  </thead>\n",
       "  <tbody>\n",
       "  </tbody>\n",
       "</table>\n",
       "</div>"
      ],
      "text/plain": [
       "Empty DataFrame\n",
       "Columns: [tpr, fpr, auc, test_recall, train_recall, test_accuracy, train_accuracy, thresholds, f1_score]\n",
       "Index: []"
      ]
     },
     "execution_count": 13,
     "metadata": {},
     "output_type": "execute_result"
    }
   ],
   "source": [
    "pd.DataFrame(columns=metrics)"
   ]
  },
  {
   "cell_type": "code",
   "execution_count": 57,
   "metadata": {},
   "outputs": [
    {
     "data": {
      "text/plain": [
       "49"
      ]
     },
     "execution_count": 57,
     "metadata": {},
     "output_type": "execute_result"
    }
   ],
   "source": [
    "len(pickle_to_file[pickleKeys[1]][2])"
   ]
  },
  {
   "cell_type": "code",
   "execution_count": null,
   "metadata": {},
   "outputs": [],
   "source": []
  }
 ],
 "metadata": {
  "kernelspec": {
   "display_name": "Python 3",
   "language": "python",
   "name": "python3"
  },
  "language_info": {
   "codemirror_mode": {
    "name": "ipython",
    "version": 3
   },
   "file_extension": ".py",
   "mimetype": "text/x-python",
   "name": "python",
   "nbconvert_exporter": "python",
   "pygments_lexer": "ipython3",
   "version": "3.6.8"
  },
  "latex_envs": {
   "LaTeX_envs_menu_present": true,
   "autoclose": false,
   "autocomplete": true,
   "bibliofile": "biblio.bib",
   "cite_by": "apalike",
   "current_citInitial": 1,
   "eqLabelWithNumbers": true,
   "eqNumInitial": 1,
   "hotkeys": {
    "equation": "Ctrl-E",
    "itemize": "Ctrl-I"
   },
   "labels_anchors": false,
   "latex_user_defs": false,
   "report_style_numbering": false,
   "user_envs_cfg": false
  }
 },
 "nbformat": 4,
 "nbformat_minor": 2
}
