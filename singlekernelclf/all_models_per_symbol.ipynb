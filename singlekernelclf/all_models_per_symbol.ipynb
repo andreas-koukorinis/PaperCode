{
 "cells": [
  {
   "cell_type": "code",
   "execution_count": 1,
   "metadata": {},
   "outputs": [],
   "source": [
    "import sys\n",
    "sys.path.append('/home/ak/Documents/Research/PaperCode/singlekernelclf/')\n",
    "import os\n",
    "import pandas as pd\n",
    "import numpy as np\n",
    "import pickle as pickle"
   ]
  },
  {
   "cell_type": "code",
   "execution_count": 6,
   "metadata": {},
   "outputs": [],
   "source": [
    "oos_experiment_path = '/media/ak/My Passport/ExperimentData/AlternateLabelExperimentPath'\n",
    "oos_experiment_symbol_folders = [f for f in os.listdir(oos_experiment_path) if str('pkl') not in f]\n",
    "processed_data_for_experiments_path = '/media/ak/My Passport/ExperimentData/ProcessedDataForExperiments'"
   ]
  },
  {
   "cell_type": "code",
   "execution_count": 14,
   "metadata": {},
   "outputs": [],
   "source": [
    "symbol = 'AAL.L'\n"
   ]
  },
  {
   "cell_type": "code",
   "execution_count": 18,
   "metadata": {},
   "outputs": [],
   "source": [
    "list_of_files = os.listdir(processed_data_for_experiments_path) \n",
    "list_of_symbol_csvs = [f for f in list_of_files if str(symbol) in f]"
   ]
  },
  {
   "cell_type": "code",
   "execution_count": 20,
   "metadata": {},
   "outputs": [],
   "source": [
    "list_of_df =[]\n",
    "for symbol_csv in list_of_symbol_csvs:\n",
    "    list_of_df.append(pd.read_csv(os.path.join(processed_data_for_experiments_path, symbol_csv)))"
   ]
  },
  {
   "cell_type": "code",
   "execution_count": 40,
   "metadata": {},
   "outputs": [],
   "source": [
    "list_of_df\n",
    "df_combined = pd.concat([pd.DataFrame(l) for l in list_of_df], axis=1, ignore_index =False)"
   ]
  },
  {
   "cell_type": "code",
   "execution_count": 41,
   "metadata": {},
   "outputs": [
    {
     "data": {
      "text/html": [
       "<div>\n",
       "<style scoped>\n",
       "    .dataframe tbody tr th:only-of-type {\n",
       "        vertical-align: middle;\n",
       "    }\n",
       "\n",
       "    .dataframe tbody tr th {\n",
       "        vertical-align: top;\n",
       "    }\n",
       "\n",
       "    .dataframe thead th {\n",
       "        text-align: right;\n",
       "    }\n",
       "</style>\n",
       "<table border=\"1\" class=\"dataframe\">\n",
       "  <thead>\n",
       "    <tr style=\"text-align: right;\">\n",
       "      <th></th>\n",
       "      <th>Unnamed: 0</th>\n",
       "      <th>LabelsAlternateFour</th>\n",
       "      <th>Unnamed: 0</th>\n",
       "      <th>LabelsAlternateOne</th>\n",
       "      <th>Unnamed: 0</th>\n",
       "      <th>LabelsAlternateThree</th>\n",
       "    </tr>\n",
       "  </thead>\n",
       "  <tbody>\n",
       "    <tr>\n",
       "      <th>0</th>\n",
       "      <td>Hamming Loss</td>\n",
       "      <td>0.582856</td>\n",
       "      <td>Hamming Loss</td>\n",
       "      <td>0.648843</td>\n",
       "      <td>Hamming Loss</td>\n",
       "      <td>0.236927</td>\n",
       "    </tr>\n",
       "    <tr>\n",
       "      <th>1</th>\n",
       "      <td>accuracy</td>\n",
       "      <td>0.417144</td>\n",
       "      <td>accuracy</td>\n",
       "      <td>0.351157</td>\n",
       "      <td>accuracy</td>\n",
       "      <td>0.763073</td>\n",
       "    </tr>\n",
       "    <tr>\n",
       "      <th>2</th>\n",
       "      <td>f1- macro</td>\n",
       "      <td>0.203080</td>\n",
       "      <td>f1- macro</td>\n",
       "      <td>0.237748</td>\n",
       "      <td>f1- macro</td>\n",
       "      <td>0.423601</td>\n",
       "    </tr>\n",
       "    <tr>\n",
       "      <th>3</th>\n",
       "      <td>f1- micro</td>\n",
       "      <td>0.417144</td>\n",
       "      <td>f1- micro</td>\n",
       "      <td>0.351157</td>\n",
       "      <td>f1- micro</td>\n",
       "      <td>0.763073</td>\n",
       "    </tr>\n",
       "    <tr>\n",
       "      <th>4</th>\n",
       "      <td>f1- weighted</td>\n",
       "      <td>0.432639</td>\n",
       "      <td>f1- weighted</td>\n",
       "      <td>0.265395</td>\n",
       "      <td>f1- weighted</td>\n",
       "      <td>0.814078</td>\n",
       "    </tr>\n",
       "    <tr>\n",
       "      <th>5</th>\n",
       "      <td>precision</td>\n",
       "      <td>0.597658</td>\n",
       "      <td>precision</td>\n",
       "      <td>0.267711</td>\n",
       "      <td>precision</td>\n",
       "      <td>0.981934</td>\n",
       "    </tr>\n",
       "    <tr>\n",
       "      <th>6</th>\n",
       "      <td>recall</td>\n",
       "      <td>0.417144</td>\n",
       "      <td>recall</td>\n",
       "      <td>0.351157</td>\n",
       "      <td>recall</td>\n",
       "      <td>0.763073</td>\n",
       "    </tr>\n",
       "  </tbody>\n",
       "</table>\n",
       "</div>"
      ],
      "text/plain": [
       "     Unnamed: 0  LabelsAlternateFour    Unnamed: 0  LabelsAlternateOne  \\\n",
       "0  Hamming Loss             0.582856  Hamming Loss            0.648843   \n",
       "1      accuracy             0.417144      accuracy            0.351157   \n",
       "2     f1- macro             0.203080     f1- macro            0.237748   \n",
       "3     f1- micro             0.417144     f1- micro            0.351157   \n",
       "4  f1- weighted             0.432639  f1- weighted            0.265395   \n",
       "5     precision             0.597658     precision            0.267711   \n",
       "6        recall             0.417144        recall            0.351157   \n",
       "\n",
       "     Unnamed: 0  LabelsAlternateThree  \n",
       "0  Hamming Loss              0.236927  \n",
       "1      accuracy              0.763073  \n",
       "2     f1- macro              0.423601  \n",
       "3     f1- micro              0.763073  \n",
       "4  f1- weighted              0.814078  \n",
       "5     precision              0.981934  \n",
       "6        recall              0.763073  "
      ]
     },
     "execution_count": 41,
     "metadata": {},
     "output_type": "execute_result"
    }
   ],
   "source": [
    "df_combined"
   ]
  },
  {
   "cell_type": "code",
   "execution_count": 29,
   "metadata": {},
   "outputs": [
    {
     "data": {
      "text/html": [
       "<div>\n",
       "<style scoped>\n",
       "    .dataframe tbody tr th:only-of-type {\n",
       "        vertical-align: middle;\n",
       "    }\n",
       "\n",
       "    .dataframe tbody tr th {\n",
       "        vertical-align: top;\n",
       "    }\n",
       "\n",
       "    .dataframe thead th {\n",
       "        text-align: right;\n",
       "    }\n",
       "</style>\n",
       "<table border=\"1\" class=\"dataframe\">\n",
       "  <thead>\n",
       "    <tr style=\"text-align: right;\">\n",
       "      <th></th>\n",
       "      <th>1</th>\n",
       "      <th>2</th>\n",
       "      <th>3</th>\n",
       "      <th>4</th>\n",
       "      <th>5</th>\n",
       "    </tr>\n",
       "    <tr>\n",
       "      <th>0</th>\n",
       "      <th></th>\n",
       "      <th></th>\n",
       "      <th></th>\n",
       "      <th></th>\n",
       "      <th></th>\n",
       "    </tr>\n",
       "  </thead>\n",
       "  <tbody>\n",
       "    <tr>\n",
       "      <th>Hamming Loss</th>\n",
       "      <td>0.582856</td>\n",
       "      <td>Hamming Loss</td>\n",
       "      <td>0.648843</td>\n",
       "      <td>Hamming Loss</td>\n",
       "      <td>0.236927</td>\n",
       "    </tr>\n",
       "    <tr>\n",
       "      <th>accuracy</th>\n",
       "      <td>0.417144</td>\n",
       "      <td>accuracy</td>\n",
       "      <td>0.351157</td>\n",
       "      <td>accuracy</td>\n",
       "      <td>0.763073</td>\n",
       "    </tr>\n",
       "    <tr>\n",
       "      <th>f1- macro</th>\n",
       "      <td>0.203080</td>\n",
       "      <td>f1- macro</td>\n",
       "      <td>0.237748</td>\n",
       "      <td>f1- macro</td>\n",
       "      <td>0.423601</td>\n",
       "    </tr>\n",
       "    <tr>\n",
       "      <th>f1- micro</th>\n",
       "      <td>0.417144</td>\n",
       "      <td>f1- micro</td>\n",
       "      <td>0.351157</td>\n",
       "      <td>f1- micro</td>\n",
       "      <td>0.763073</td>\n",
       "    </tr>\n",
       "    <tr>\n",
       "      <th>f1- weighted</th>\n",
       "      <td>0.432639</td>\n",
       "      <td>f1- weighted</td>\n",
       "      <td>0.265395</td>\n",
       "      <td>f1- weighted</td>\n",
       "      <td>0.814078</td>\n",
       "    </tr>\n",
       "    <tr>\n",
       "      <th>precision</th>\n",
       "      <td>0.597658</td>\n",
       "      <td>precision</td>\n",
       "      <td>0.267711</td>\n",
       "      <td>precision</td>\n",
       "      <td>0.981934</td>\n",
       "    </tr>\n",
       "    <tr>\n",
       "      <th>recall</th>\n",
       "      <td>0.417144</td>\n",
       "      <td>recall</td>\n",
       "      <td>0.351157</td>\n",
       "      <td>recall</td>\n",
       "      <td>0.763073</td>\n",
       "    </tr>\n",
       "  </tbody>\n",
       "</table>\n",
       "</div>"
      ],
      "text/plain": [
       "                     1             2         3             4         5\n",
       "0                                                                     \n",
       "Hamming Loss  0.582856  Hamming Loss  0.648843  Hamming Loss  0.236927\n",
       "accuracy      0.417144      accuracy  0.351157      accuracy  0.763073\n",
       "f1- macro     0.203080     f1- macro  0.237748     f1- macro  0.423601\n",
       "f1- micro     0.417144     f1- micro  0.351157     f1- micro  0.763073\n",
       "f1- weighted  0.432639  f1- weighted  0.265395  f1- weighted  0.814078\n",
       "precision     0.597658     precision  0.267711     precision  0.981934\n",
       "recall        0.417144        recall  0.351157        recall  0.763073"
      ]
     },
     "execution_count": 29,
     "metadata": {},
     "output_type": "execute_result"
    }
   ],
   "source": [
    "df_combined.set_index(df_combined.columns[0])"
   ]
  },
  {
   "cell_type": "code",
   "execution_count": 32,
   "metadata": {},
   "outputs": [
    {
     "data": {
      "text/plain": [
       "0    Hamming Loss\n",
       "1        accuracy\n",
       "2       f1- macro\n",
       "3       f1- micro\n",
       "4    f1- weighted\n",
       "5       precision\n",
       "6          recall\n",
       "Name: 2, dtype: object"
      ]
     },
     "execution_count": 32,
     "metadata": {},
     "output_type": "execute_result"
    }
   ],
   "source": [
    "df_combined.drop(columns=P)"
   ]
  },
  {
   "cell_type": "code",
   "execution_count": null,
   "metadata": {},
   "outputs": [],
   "source": []
  }
 ],
 "metadata": {
  "kernelspec": {
   "display_name": "Python 3",
   "language": "python",
   "name": "python3"
  },
  "language_info": {
   "codemirror_mode": {
    "name": "ipython",
    "version": 3
   },
   "file_extension": ".py",
   "mimetype": "text/x-python",
   "name": "python",
   "nbconvert_exporter": "python",
   "pygments_lexer": "ipython3",
   "version": "3.6.8"
  }
 },
 "nbformat": 4,
 "nbformat_minor": 2
}
