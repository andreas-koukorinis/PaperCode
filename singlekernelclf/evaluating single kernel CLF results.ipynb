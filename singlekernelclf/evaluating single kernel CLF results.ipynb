{
 "cells": [
  {
   "cell_type": "code",
   "execution_count": 1,
   "metadata": {},
   "outputs": [],
   "source": [
    "import sys\n",
    "sys.path.append('/home/ak/Documents/Research/PaperCode/singlekernelclf/')\n",
    "import os\n",
    "import pandas as pd\n",
    "import numpy as np\n",
    "import pickle as pickle"
   ]
  },
  {
   "cell_type": "code",
   "execution_count": 2,
   "metadata": {},
   "outputs": [],
   "source": [
    "## functions\n",
    "\n",
    "def load_pickled_in_filename(file):\n",
    "    # load a simple pickled file and return it. its a bit different to the method used for the dictionary as this\n",
    "    # is pure Python 3.x\n",
    "    pickle_in = open(file, 'rb')\n",
    "    return pickle.load(pickle_in)"
   ]
  },
  {
   "cell_type": "code",
   "execution_count": 3,
   "metadata": {},
   "outputs": [],
   "source": [
    "oos_experiment_path = '/media/ak/My Passport/ExperimentData/AlternateLabelExperimentPath'\n",
    "oos_experiment_symbol_folders = [f for f in os.listdir(oos_experiment_path) if str('pkl') not in f]"
   ]
  },
  {
   "cell_type": "code",
   "execution_count": 4,
   "metadata": {},
   "outputs": [
    {
     "data": {
      "text/plain": [
       "['AAL.L',\n",
       " 'AV.L',\n",
       " 'STAN.L',\n",
       " 'TSCO.L',\n",
       " 'ULVR.L',\n",
       " 'VOD.L',\n",
       " 'AZN.L',\n",
       " 'GKN.L',\n",
       " 'HSBA.L',\n",
       " 'PRU.L',\n",
       " 'PSON.L',\n",
       " 'RB.L',\n",
       " 'RDSb.L',\n",
       " 'BATS.L',\n",
       " 'BLT.L',\n",
       " 'SHP.L',\n",
       " 'RTO.L',\n",
       " 'SDR.L',\n",
       " 'DMGOa.L',\n",
       " 'RSA.L',\n",
       " 'SGE.L',\n",
       " 'SMIN.L',\n",
       " 'CEY.L',\n",
       " 'CPG.L',\n",
       " 'CCL.L',\n",
       " 'ECM.L',\n",
       " 'CPI.L']"
      ]
     },
     "execution_count": 4,
     "metadata": {},
     "output_type": "execute_result"
    }
   ],
   "source": [
    "oos_experiment_symbol_folders"
   ]
  },
  {
   "cell_type": "code",
   "execution_count": 5,
   "metadata": {},
   "outputs": [
    {
     "name": "stdout",
     "output_type": "stream",
     "text": [
      "AAL.L\n"
     ]
    }
   ],
   "source": [
    "oos_symbol_idx =0 # this corresponds to a symbol\n",
    "symbol = oos_experiment_symbol_folders[oos_symbol_idx]\n",
    "print(symbol)\n",
    "oos_symbol_folder_files = [f for f in os.listdir(os.path.join(oos_experiment_path, symbol)) if str('_OOS_results') in f]"
   ]
  },
  {
   "cell_type": "code",
   "execution_count": 6,
   "metadata": {},
   "outputs": [],
   "source": [
    "LabelsAlternateFive_symbol_files = [f for f in oos_symbol_folder_files if str('LabelsAlternateFive') in f]\n",
    "LabelsAlternateFour_symbol_files = [f for f in oos_symbol_folder_files if str('LabelsAlternateFour') in f]\n",
    "LabelsAlternateThree_symbol_files = [f for f in oos_symbol_folder_files if str('LabelsAlternateThree') in f]\n",
    "LabelsAlternateTwo_symbol_files = [f for f in oos_symbol_folder_files if str('LabelsAlternateTwo') in f]\n",
    "LabelsAlternateOne_symbol_files = [f for f in oos_symbol_folder_files if str('LabelsAlternateOne') in f]\n"
   ]
  },
  {
   "cell_type": "code",
   "execution_count": 7,
   "metadata": {},
   "outputs": [
    {
     "data": {
      "text/plain": [
       "'LabelsAlternateOne'"
      ]
     },
     "execution_count": 7,
     "metadata": {},
     "output_type": "execute_result"
    }
   ],
   "source": [
    "label_list_input = LabelsAlternateOne_symbol_files\n",
    "number_model_files = len(label_list_input)\n",
    "number_model_files\n",
    "label_string = label_list_input[0].split(\"_\")[1]\n",
    "label_string"
   ]
  },
  {
   "cell_type": "code",
   "execution_count": 8,
   "metadata": {},
   "outputs": [],
   "source": [
    "dict_list=[]\n",
    "for pickle_file_idx in range(number_model_files):\n",
    "    pickle_file_location = os.path.join(oos_experiment_path, symbol, LabelsAlternateOne_symbol_files[pickle_file_idx])\n",
    "    df_w_Data = load_pickled_in_filename(pickle_file_location)\n",
    "    ans = {label.split(\"_\")[1] : {metric : np.mean([value[metric] for value in values.values()]) for metric in values[list(values)[0]].keys()} for label, values in df_w_Data.items()}\n",
    "    dict_list.append(ans)\n"
   ]
  },
  {
   "cell_type": "code",
   "execution_count": 9,
   "metadata": {},
   "outputs": [],
   "source": [
    "def concatenate_all_oos_per_label(dict_list):\n",
    "    list_of_dfs =[pd.DataFrame(l) for l in dict_list]\n",
    "    combined_results =pd.concat([pd.DataFrame(l) for l in dict_list], axis=1)\n",
    "    combined_results\n",
    "    return combined_results\n",
    "    \n",
    "    "
   ]
  },
  {
   "cell_type": "code",
   "execution_count": null,
   "metadata": {},
   "outputs": [],
   "source": []
  },
  {
   "cell_type": "code",
   "execution_count": null,
   "metadata": {},
   "outputs": [],
   "source": []
  },
  {
   "cell_type": "code",
   "execution_count": 10,
   "metadata": {},
   "outputs": [],
   "source": [
    "df =concatenate_all_oos_per_label(dict_list)\n",
    "# df =df.mean(axis=1)\n",
    "# df = pd.DataFrame(df)\n",
    "# df.rename(columns ={df.columns[0]: label_string}, inplace = True)"
   ]
  },
  {
   "cell_type": "code",
   "execution_count": 19,
   "metadata": {},
   "outputs": [
    {
     "data": {
      "text/html": [
       "<div>\n",
       "<style scoped>\n",
       "    .dataframe tbody tr th:only-of-type {\n",
       "        vertical-align: middle;\n",
       "    }\n",
       "\n",
       "    .dataframe tbody tr th {\n",
       "        vertical-align: top;\n",
       "    }\n",
       "\n",
       "    .dataframe thead th {\n",
       "        text-align: right;\n",
       "    }\n",
       "</style>\n",
       "<table border=\"1\" class=\"dataframe\">\n",
       "  <thead>\n",
       "    <tr style=\"text-align: right;\">\n",
       "      <th></th>\n",
       "      <th>20170117</th>\n",
       "      <th>20170707</th>\n",
       "      <th>20170726</th>\n",
       "      <th>20170822</th>\n",
       "      <th>20170119</th>\n",
       "      <th>20170123</th>\n",
       "      <th>20170124</th>\n",
       "      <th>20170127</th>\n",
       "      <th>20170130</th>\n",
       "      <th>20170131</th>\n",
       "      <th>...</th>\n",
       "      <th>20170804</th>\n",
       "      <th>20170807</th>\n",
       "      <th>20170809</th>\n",
       "      <th>20170814</th>\n",
       "      <th>20170817</th>\n",
       "      <th>20170818</th>\n",
       "      <th>20170821</th>\n",
       "      <th>20170823</th>\n",
       "      <th>20170824</th>\n",
       "      <th>20170830</th>\n",
       "    </tr>\n",
       "  </thead>\n",
       "  <tbody>\n",
       "    <tr>\n",
       "      <th>Hamming Loss</th>\n",
       "      <td>0.660000</td>\n",
       "      <td>0.656923</td>\n",
       "      <td>0.716000</td>\n",
       "      <td>0.6775</td>\n",
       "      <td>0.664444</td>\n",
       "      <td>0.580000</td>\n",
       "      <td>0.579412</td>\n",
       "      <td>0.571515</td>\n",
       "      <td>0.671875</td>\n",
       "      <td>0.682903</td>\n",
       "      <td>...</td>\n",
       "      <td>0.639091</td>\n",
       "      <td>0.654</td>\n",
       "      <td>0.590000</td>\n",
       "      <td>0.61000</td>\n",
       "      <td>0.594286</td>\n",
       "      <td>0.678333</td>\n",
       "      <td>0.754</td>\n",
       "      <td>0.600000</td>\n",
       "      <td>0.590</td>\n",
       "      <td>0.61</td>\n",
       "    </tr>\n",
       "    <tr>\n",
       "      <th>accuracy</th>\n",
       "      <td>0.340000</td>\n",
       "      <td>0.343077</td>\n",
       "      <td>0.284000</td>\n",
       "      <td>0.3225</td>\n",
       "      <td>0.335556</td>\n",
       "      <td>0.420000</td>\n",
       "      <td>0.420588</td>\n",
       "      <td>0.428485</td>\n",
       "      <td>0.328125</td>\n",
       "      <td>0.317097</td>\n",
       "      <td>...</td>\n",
       "      <td>0.360909</td>\n",
       "      <td>0.346</td>\n",
       "      <td>0.410000</td>\n",
       "      <td>0.39000</td>\n",
       "      <td>0.405714</td>\n",
       "      <td>0.321667</td>\n",
       "      <td>0.246</td>\n",
       "      <td>0.400000</td>\n",
       "      <td>0.410</td>\n",
       "      <td>0.39</td>\n",
       "    </tr>\n",
       "    <tr>\n",
       "      <th>f1- macro</th>\n",
       "      <td>0.289730</td>\n",
       "      <td>0.268077</td>\n",
       "      <td>0.232667</td>\n",
       "      <td>0.2800</td>\n",
       "      <td>0.238056</td>\n",
       "      <td>0.197143</td>\n",
       "      <td>0.197353</td>\n",
       "      <td>0.200303</td>\n",
       "      <td>0.299063</td>\n",
       "      <td>0.273871</td>\n",
       "      <td>...</td>\n",
       "      <td>0.238182</td>\n",
       "      <td>0.278</td>\n",
       "      <td>0.193333</td>\n",
       "      <td>0.30625</td>\n",
       "      <td>0.301429</td>\n",
       "      <td>0.275000</td>\n",
       "      <td>0.202</td>\n",
       "      <td>0.190000</td>\n",
       "      <td>0.195</td>\n",
       "      <td>0.19</td>\n",
       "    </tr>\n",
       "    <tr>\n",
       "      <th>f1- micro</th>\n",
       "      <td>0.340000</td>\n",
       "      <td>0.343077</td>\n",
       "      <td>0.284000</td>\n",
       "      <td>0.3225</td>\n",
       "      <td>0.335556</td>\n",
       "      <td>0.420000</td>\n",
       "      <td>0.420588</td>\n",
       "      <td>0.428485</td>\n",
       "      <td>0.328125</td>\n",
       "      <td>0.317097</td>\n",
       "      <td>...</td>\n",
       "      <td>0.360909</td>\n",
       "      <td>0.346</td>\n",
       "      <td>0.410000</td>\n",
       "      <td>0.39000</td>\n",
       "      <td>0.405714</td>\n",
       "      <td>0.321667</td>\n",
       "      <td>0.246</td>\n",
       "      <td>0.400000</td>\n",
       "      <td>0.410</td>\n",
       "      <td>0.39</td>\n",
       "    </tr>\n",
       "    <tr>\n",
       "      <th>f1- weighted</th>\n",
       "      <td>0.317297</td>\n",
       "      <td>0.300385</td>\n",
       "      <td>0.223333</td>\n",
       "      <td>0.2975</td>\n",
       "      <td>0.245833</td>\n",
       "      <td>0.248571</td>\n",
       "      <td>0.249412</td>\n",
       "      <td>0.256667</td>\n",
       "      <td>0.329062</td>\n",
       "      <td>0.298065</td>\n",
       "      <td>...</td>\n",
       "      <td>0.246364</td>\n",
       "      <td>0.305</td>\n",
       "      <td>0.238889</td>\n",
       "      <td>0.35875</td>\n",
       "      <td>0.360000</td>\n",
       "      <td>0.280000</td>\n",
       "      <td>0.184</td>\n",
       "      <td>0.226667</td>\n",
       "      <td>0.235</td>\n",
       "      <td>0.22</td>\n",
       "    </tr>\n",
       "    <tr>\n",
       "      <th>precision</th>\n",
       "      <td>0.390000</td>\n",
       "      <td>0.379615</td>\n",
       "      <td>0.203333</td>\n",
       "      <td>0.3475</td>\n",
       "      <td>0.217778</td>\n",
       "      <td>0.177143</td>\n",
       "      <td>0.177647</td>\n",
       "      <td>0.184242</td>\n",
       "      <td>0.380312</td>\n",
       "      <td>0.373226</td>\n",
       "      <td>...</td>\n",
       "      <td>0.198182</td>\n",
       "      <td>0.381</td>\n",
       "      <td>0.166667</td>\n",
       "      <td>0.36500</td>\n",
       "      <td>0.374286</td>\n",
       "      <td>0.361667</td>\n",
       "      <td>0.206</td>\n",
       "      <td>0.156667</td>\n",
       "      <td>0.165</td>\n",
       "      <td>0.15</td>\n",
       "    </tr>\n",
       "    <tr>\n",
       "      <th>recall</th>\n",
       "      <td>0.340000</td>\n",
       "      <td>0.343077</td>\n",
       "      <td>0.284000</td>\n",
       "      <td>0.3225</td>\n",
       "      <td>0.335556</td>\n",
       "      <td>0.420000</td>\n",
       "      <td>0.420588</td>\n",
       "      <td>0.428485</td>\n",
       "      <td>0.328125</td>\n",
       "      <td>0.317097</td>\n",
       "      <td>...</td>\n",
       "      <td>0.360909</td>\n",
       "      <td>0.346</td>\n",
       "      <td>0.410000</td>\n",
       "      <td>0.39000</td>\n",
       "      <td>0.405714</td>\n",
       "      <td>0.321667</td>\n",
       "      <td>0.246</td>\n",
       "      <td>0.400000</td>\n",
       "      <td>0.410</td>\n",
       "      <td>0.39</td>\n",
       "    </tr>\n",
       "  </tbody>\n",
       "</table>\n",
       "<p>7 rows × 37 columns</p>\n",
       "</div>"
      ],
      "text/plain": [
       "              20170117  20170707  20170726  20170822  20170119  20170123  \\\n",
       "Hamming Loss  0.660000  0.656923  0.716000    0.6775  0.664444  0.580000   \n",
       "accuracy      0.340000  0.343077  0.284000    0.3225  0.335556  0.420000   \n",
       "f1- macro     0.289730  0.268077  0.232667    0.2800  0.238056  0.197143   \n",
       "f1- micro     0.340000  0.343077  0.284000    0.3225  0.335556  0.420000   \n",
       "f1- weighted  0.317297  0.300385  0.223333    0.2975  0.245833  0.248571   \n",
       "precision     0.390000  0.379615  0.203333    0.3475  0.217778  0.177143   \n",
       "recall        0.340000  0.343077  0.284000    0.3225  0.335556  0.420000   \n",
       "\n",
       "              20170124  20170127  20170130  20170131  ...  20170804  20170807  \\\n",
       "Hamming Loss  0.579412  0.571515  0.671875  0.682903  ...  0.639091     0.654   \n",
       "accuracy      0.420588  0.428485  0.328125  0.317097  ...  0.360909     0.346   \n",
       "f1- macro     0.197353  0.200303  0.299063  0.273871  ...  0.238182     0.278   \n",
       "f1- micro     0.420588  0.428485  0.328125  0.317097  ...  0.360909     0.346   \n",
       "f1- weighted  0.249412  0.256667  0.329062  0.298065  ...  0.246364     0.305   \n",
       "precision     0.177647  0.184242  0.380312  0.373226  ...  0.198182     0.381   \n",
       "recall        0.420588  0.428485  0.328125  0.317097  ...  0.360909     0.346   \n",
       "\n",
       "              20170809  20170814  20170817  20170818  20170821  20170823  \\\n",
       "Hamming Loss  0.590000   0.61000  0.594286  0.678333     0.754  0.600000   \n",
       "accuracy      0.410000   0.39000  0.405714  0.321667     0.246  0.400000   \n",
       "f1- macro     0.193333   0.30625  0.301429  0.275000     0.202  0.190000   \n",
       "f1- micro     0.410000   0.39000  0.405714  0.321667     0.246  0.400000   \n",
       "f1- weighted  0.238889   0.35875  0.360000  0.280000     0.184  0.226667   \n",
       "precision     0.166667   0.36500  0.374286  0.361667     0.206  0.156667   \n",
       "recall        0.410000   0.39000  0.405714  0.321667     0.246  0.400000   \n",
       "\n",
       "              20170824  20170830  \n",
       "Hamming Loss     0.590      0.61  \n",
       "accuracy         0.410      0.39  \n",
       "f1- macro        0.195      0.19  \n",
       "f1- micro        0.410      0.39  \n",
       "f1- weighted     0.235      0.22  \n",
       "precision        0.165      0.15  \n",
       "recall           0.410      0.39  \n",
       "\n",
       "[7 rows x 37 columns]"
      ]
     },
     "execution_count": 19,
     "metadata": {},
     "output_type": "execute_result"
    }
   ],
   "source": [
    "df"
   ]
  },
  {
   "cell_type": "code",
   "execution_count": 12,
   "metadata": {},
   "outputs": [],
   "source": [
    "def create_mean_list_w_correct_label(df, label_string):\n",
    "    df = pd.DataFrame(df.mean(axis=1))\n",
    "    df =  df.rename(columns ={df.columns[0]: label_string}, inplace = True)\n",
    "    return df"
   ]
  },
  {
   "cell_type": "code",
   "execution_count": 21,
   "metadata": {},
   "outputs": [],
   "source": [
    "create_mean_list_w_correct_label(df, label_string)\n",
    "df_w_mean = pd.DataFrame(df.mean(axis =1))"
   ]
  },
  {
   "cell_type": "code",
   "execution_count": 22,
   "metadata": {},
   "outputs": [
    {
     "name": "stdout",
     "output_type": "stream",
     "text": [
      "\\begin{tabular}{lr}\n",
      "\\toprule\n",
      "{} &         0 \\\\\n",
      "\\midrule\n",
      "Hamming Loss &  0.648843 \\\\\n",
      "accuracy     &  0.351157 \\\\\n",
      "f1- macro    &  0.237748 \\\\\n",
      "f1- micro    &  0.351157 \\\\\n",
      "f1- weighted &  0.265395 \\\\\n",
      "precision    &  0.267711 \\\\\n",
      "recall       &  0.351157 \\\\\n",
      "\\bottomrule\n",
      "\\end{tabular}\n",
      "\n"
     ]
    }
   ],
   "source": [
    "print(df_w_mean.to_latex(index=True)) "
   ]
  },
  {
   "cell_type": "code",
   "execution_count": 14,
   "metadata": {},
   "outputs": [
    {
     "data": {
      "text/plain": [
       "'20170117'"
      ]
     },
     "execution_count": 14,
     "metadata": {},
     "output_type": "execute_result"
    }
   ],
   "source": [
    "df.columns[0]"
   ]
  },
  {
   "cell_type": "code",
   "execution_count": 15,
   "metadata": {},
   "outputs": [],
   "source": [
    " import numpy as np\n",
    "ans = {label : {metric : np.mean([value[metric] for value in values.values()]) for metric in values[list(values)[0]].keys()} for label, values in df_w_Data.items()}"
   ]
  },
  {
   "cell_type": "code",
   "execution_count": 17,
   "metadata": {},
   "outputs": [
    {
     "ename": "IndexError",
     "evalue": "list index out of range",
     "output_type": "error",
     "traceback": [
      "\u001b[0;31m---------------------------------------------------------------------------\u001b[0m",
      "\u001b[0;31mIndexError\u001b[0m                                Traceback (most recent call last)",
      "\u001b[0;32m<ipython-input-17-a2a82ef4fb9d>\u001b[0m in \u001b[0;36m<module>\u001b[0;34m\u001b[0m\n\u001b[0;32m----> 1\u001b[0;31m \u001b[0mnew_key\u001b[0m \u001b[0;34m=\u001b[0m \u001b[0mlist\u001b[0m\u001b[0;34m(\u001b[0m\u001b[0mans\u001b[0m\u001b[0;34m.\u001b[0m\u001b[0mkeys\u001b[0m\u001b[0;34m(\u001b[0m\u001b[0;34m)\u001b[0m\u001b[0;34m)\u001b[0m\u001b[0;34m[\u001b[0m\u001b[0;36m0\u001b[0m\u001b[0;34m]\u001b[0m\u001b[0;34m.\u001b[0m\u001b[0msplit\u001b[0m\u001b[0;34m(\u001b[0m\u001b[0;34m\"_\"\u001b[0m\u001b[0;34m)\u001b[0m\u001b[0;34m[\u001b[0m\u001b[0;36m1\u001b[0m\u001b[0;34m]\u001b[0m\u001b[0;34m+\u001b[0m\u001b[0;34m'-'\u001b[0m \u001b[0;34m+\u001b[0m\u001b[0mlist\u001b[0m\u001b[0;34m(\u001b[0m\u001b[0mans\u001b[0m\u001b[0;34m.\u001b[0m\u001b[0mkeys\u001b[0m\u001b[0;34m(\u001b[0m\u001b[0;34m)\u001b[0m\u001b[0;34m)\u001b[0m\u001b[0;34m[\u001b[0m\u001b[0;36m0\u001b[0m\u001b[0;34m]\u001b[0m\u001b[0;34m.\u001b[0m\u001b[0msplit\u001b[0m\u001b[0;34m(\u001b[0m\u001b[0;34m\"_\"\u001b[0m\u001b[0;34m)\u001b[0m\u001b[0;34m[\u001b[0m\u001b[0;36m2\u001b[0m\u001b[0;34m]\u001b[0m\u001b[0;34m\u001b[0m\u001b[0;34m\u001b[0m\u001b[0m\n\u001b[0m",
      "\u001b[0;31mIndexError\u001b[0m: list index out of range"
     ]
    }
   ],
   "source": [
    "new_key = list(ans.keys())[0].split(\"_\")[1]+'-' +list(ans.keys())[0].split(\"_\")[2]"
   ]
  },
  {
   "cell_type": "code",
   "execution_count": 18,
   "metadata": {},
   "outputs": [
    {
     "ename": "NameError",
     "evalue": "name 'df_test' is not defined",
     "output_type": "error",
     "traceback": [
      "\u001b[0;31m---------------------------------------------------------------------------\u001b[0m",
      "\u001b[0;31mNameError\u001b[0m                                 Traceback (most recent call last)",
      "\u001b[0;32m<ipython-input-18-b6bc9af15396>\u001b[0m in \u001b[0;36m<module>\u001b[0;34m\u001b[0m\n\u001b[0;32m----> 1\u001b[0;31m \u001b[0mkey\u001b[0m \u001b[0;34m=\u001b[0m\u001b[0mlist\u001b[0m\u001b[0;34m(\u001b[0m\u001b[0mdf_test\u001b[0m\u001b[0;34m.\u001b[0m\u001b[0mkeys\u001b[0m\u001b[0;34m(\u001b[0m\u001b[0;34m)\u001b[0m\u001b[0;34m)\u001b[0m\u001b[0;34m\u001b[0m\u001b[0;34m\u001b[0m\u001b[0m\n\u001b[0m\u001b[1;32m      2\u001b[0m \u001b[0;34m\"-\"\u001b[0m\u001b[0;34m.\u001b[0m\u001b[0mjoin\u001b[0m\u001b[0;34m(\u001b[0m\u001b[0;34m(\u001b[0m\u001b[0mkey\u001b[0m\u001b[0;34m[\u001b[0m\u001b[0;36m0\u001b[0m\u001b[0;34m]\u001b[0m\u001b[0;34m.\u001b[0m\u001b[0msplit\u001b[0m\u001b[0;34m(\u001b[0m\u001b[0;34m\"_\"\u001b[0m\u001b[0;34m)\u001b[0m\u001b[0;34m[\u001b[0m\u001b[0;36m1\u001b[0m\u001b[0;34m]\u001b[0m\u001b[0;34m,\u001b[0m\u001b[0mkey\u001b[0m\u001b[0;34m[\u001b[0m\u001b[0;36m0\u001b[0m\u001b[0;34m]\u001b[0m\u001b[0;34m.\u001b[0m\u001b[0msplit\u001b[0m\u001b[0;34m(\u001b[0m\u001b[0;34m\"_\"\u001b[0m\u001b[0;34m)\u001b[0m\u001b[0;34m[\u001b[0m\u001b[0;36m2\u001b[0m\u001b[0;34m]\u001b[0m\u001b[0;34m)\u001b[0m\u001b[0;34m)\u001b[0m\u001b[0;34m\u001b[0m\u001b[0;34m\u001b[0m\u001b[0m\n",
      "\u001b[0;31mNameError\u001b[0m: name 'df_test' is not defined"
     ]
    }
   ],
   "source": [
    "key =list(df_test.keys())\n",
    "\"-\".join((key[0].split(\"_\")[1],key[0].split(\"_\")[2]))"
   ]
  },
  {
   "cell_type": "code",
   "execution_count": null,
   "metadata": {},
   "outputs": [],
   "source": []
  },
  {
   "cell_type": "code",
   "execution_count": 52,
   "metadata": {},
   "outputs": [
    {
     "data": {
      "text/plain": [
       "'20170831'"
      ]
     },
     "execution_count": 52,
     "metadata": {},
     "output_type": "execute_result"
    }
   ],
   "source": [
    "clean_dict = df_test[key[0]]\n",
    "oos_dates =list(clean_dict.keys())\n",
    "oos_date"
   ]
  },
  {
   "cell_type": "code",
   "execution_count": 41,
   "metadata": {},
   "outputs": [],
   "source": [
    "data =clean_dict[oos_date]"
   ]
  },
  {
   "cell_type": "code",
   "execution_count": 54,
   "metadata": {},
   "outputs": [],
   "source": [
    "test_df =pd.DataFrame.from_dict(data, orient='index')"
   ]
  },
  {
   "cell_type": "code",
   "execution_count": 56,
   "metadata": {},
   "outputs": [
    {
     "data": {
      "text/plain": [
       "array([0])"
      ]
     },
     "execution_count": 56,
     "metadata": {},
     "output_type": "execute_result"
    }
   ],
   "source": [
    "test_df.columns.values"
   ]
  },
  {
   "cell_type": "code",
   "execution_count": 59,
   "metadata": {},
   "outputs": [
    {
     "data": {
      "text/html": [
       "<div>\n",
       "<style scoped>\n",
       "    .dataframe tbody tr th:only-of-type {\n",
       "        vertical-align: middle;\n",
       "    }\n",
       "\n",
       "    .dataframe tbody tr th {\n",
       "        vertical-align: top;\n",
       "    }\n",
       "\n",
       "    .dataframe thead th {\n",
       "        text-align: right;\n",
       "    }\n",
       "</style>\n",
       "<table border=\"1\" class=\"dataframe\">\n",
       "  <thead>\n",
       "    <tr style=\"text-align: right;\">\n",
       "      <th></th>\n",
       "      <th>20170831</th>\n",
       "    </tr>\n",
       "  </thead>\n",
       "  <tbody>\n",
       "    <tr>\n",
       "      <th>accuracy</th>\n",
       "      <td>0.73</td>\n",
       "    </tr>\n",
       "    <tr>\n",
       "      <th>precision</th>\n",
       "      <td>0.99</td>\n",
       "    </tr>\n",
       "    <tr>\n",
       "      <th>recall</th>\n",
       "      <td>0.73</td>\n",
       "    </tr>\n",
       "    <tr>\n",
       "      <th>f1- weighted</th>\n",
       "      <td>0.84</td>\n",
       "    </tr>\n",
       "    <tr>\n",
       "      <th>f1- micro</th>\n",
       "      <td>0.73</td>\n",
       "    </tr>\n",
       "    <tr>\n",
       "      <th>f1- macro</th>\n",
       "      <td>0.29</td>\n",
       "    </tr>\n",
       "    <tr>\n",
       "      <th>Hamming Loss</th>\n",
       "      <td>0.27</td>\n",
       "    </tr>\n",
       "  </tbody>\n",
       "</table>\n",
       "</div>"
      ],
      "text/plain": [
       "              20170831\n",
       "accuracy          0.73\n",
       "precision         0.99\n",
       "recall            0.73\n",
       "f1- weighted      0.84\n",
       "f1- micro         0.73\n",
       "f1- macro         0.29\n",
       "Hamming Loss      0.27"
      ]
     },
     "execution_count": 59,
     "metadata": {},
     "output_type": "execute_result"
    }
   ],
   "source": [
    "test_df.rename(columns={0: str(oos_date)})"
   ]
  },
  {
   "cell_type": "code",
   "execution_count": 143,
   "metadata": {},
   "outputs": [],
   "source": [
    "results_path =os.listdir('/media/ak/My Passport/ExperimentData/Alt_Label_Results')"
   ]
  },
  {
   "cell_type": "code",
   "execution_count": 144,
   "metadata": {},
   "outputs": [
    {
     "data": {
      "text/plain": [
       "[]"
      ]
     },
     "execution_count": 144,
     "metadata": {},
     "output_type": "execute_result"
    }
   ],
   "source": [
    "results_path"
   ]
  },
  {
   "cell_type": "code",
   "execution_count": null,
   "metadata": {},
   "outputs": [],
   "source": []
  }
 ],
 "metadata": {
  "kernelspec": {
   "display_name": "Python 3",
   "language": "python",
   "name": "python3"
  },
  "language_info": {
   "codemirror_mode": {
    "name": "ipython",
    "version": 3
   },
   "file_extension": ".py",
   "mimetype": "text/x-python",
   "name": "python",
   "nbconvert_exporter": "python",
   "pygments_lexer": "ipython3",
   "version": "3.6.9"
  }
 },
 "nbformat": 4,
 "nbformat_minor": 4
}
