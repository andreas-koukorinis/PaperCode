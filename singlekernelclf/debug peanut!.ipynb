{
 "cells": [
  {
   "cell_type": "code",
   "execution_count": 1,
   "metadata": {},
   "outputs": [],
   "source": [
    "import os\n",
    "import pickle\n",
    "import pandas as pd\n"
   ]
  },
  {
   "cell_type": "code",
   "execution_count": 136,
   "metadata": {},
   "outputs": [],
   "source": [
    "import os\n",
    "import pickle\n",
    "import pandas as pd\n",
    "\n",
    "\n",
    "'''\n",
    "written in April 2021, for final set of experiments and results for single kernel CLFs\n",
    "'''\n",
    "\n",
    "\n",
    "class DataLoader(object):\n",
    "    \n",
    "    def __init__(self, path_main, symbol):\n",
    "        self.main_path = path_main\n",
    "        self.symbol = symbol\n",
    "        self.symbol_features_path = os.path.join(self.main_path, str('SymbolFeatureDirectories'), self.symbol , 'MODEL_BASED')\n",
    "        # collection of per symbol non directional labels - this will give the location of all the sub-directories\n",
    "        self.main_labels_path = os.path.join(self.main_path, 'ExperimentCommonLocs')\n",
    "        # this will give the location of all the alternative labels files\n",
    "        \n",
    "        # list of all the model -oos hmm feature dates - each folder is a collection of oos feature dates\n",
    "        self.hmm_dates_list = os.listdir(self.symbol_features_path)\n",
    "        # each folder are the OOS features from each HMM\n",
    "        \n",
    "        # directory with all the symbols that have features at the moment\n",
    "        self.all_symbols_features_paths = os.path.join(self.main_path, 'SymbolFeatureDirectories')\n",
    "\n",
    "    def compute_date(self):\n",
    "        \"\"\"\n",
    "        :param symbol_idx: symbol we are looking to get the compute date for\n",
    "        :return: compute date\n",
    "        \"\"\"\n",
    "        compute_date = os.listdir(os.path.join(self.symbol_features_path, os.listdir(self.symbol_features_path)[1]))[1].split(\"_\")[-2]\n",
    "        return compute_date\n",
    "    \n",
    "    def symbol_specific_label_path(self, label_number):\n",
    "        \"\"\"\n",
    "        gets for each symbol label number combination the specific path\n",
    "        :param label_number: takes value 1 to 7 in numeric format\n",
    "        :return: returns a path\n",
    "        \"\"\"\n",
    "        labels_numbers = {1: 'LabelsAlternateOne', 2: 'LabelsAlternateTwo', 3: 'LabelsAlternateThree',\n",
    "                          4: 'LabelsAlternateFour', 5: 'LabelsAlternateFive', 6: 'LabelsAlternateSix',\n",
    "                          7: 'LabelsAlternateSeven'}\n",
    "        return os.path.join(self.main_labels_path, labels_numbers[label_number], self.symbol)\n",
    "    \n",
    "    def symbol_specific_labels_dates(self, label_number):\n",
    "        \"\"\"\n",
    "    \n",
    "        :param label_number: label number and takes value 1 to 7\n",
    "        :return: list of dates\n",
    "        \"\"\"\n",
    "        list_of_dates = [f.split(\".\")[0] for f in os.listdir(self.symbol_specific_label_path(label_number))]\n",
    "        return list_of_dates\n",
    "    \n",
    "    def ticker_features(self, model_date, date):\n",
    "        #TODO: need to make this a lot more flexible with number of states\n",
    "        \"\"\"\n",
    "        this loads up a particular feature date\n",
    "        \"\"\"\n",
    "        if model_date < date:\n",
    "            file_name = \"_\".join(\n",
    "                (self.symbol, '3', 'states', 'features', 'date:', date, 'now:', str(self.compute_date()), '.pickle'))\n",
    "            file_loc = os.path.join(self.symbol_features_path, str(model_date), file_name)\n",
    "            with open(file_loc, 'rb') as handle:\n",
    "                ticker_features = pickle.load(handle, encoding= 'latin1')\n",
    "        else:\n",
    "            print('Loading Feature Date which is in-sample. Change your Model Date')\n",
    "    \n",
    "        return ticker_features\n",
    "    \n",
    "    def ticker_specific_label_date_csv(self, label_number, date):\n",
    "        \"\"\"\n",
    "        returns specific label number and date file for ticker. has data and labels\n",
    "        \"\"\"\n",
    "        file_loc = os.path.join(self.symbol_specific_label_path(label_number), str(date) + '.csv')\n",
    "        ticker_labels = pd.read_csv(file_loc, index_col=0)\n",
    "        return ticker_labels\n",
    "    \n",
    "    @staticmethod\n",
    "    def open_pickle_file(path, pickle_file):\n",
    "        file_loc = os.path.join(path, pickle_file)\n",
    "        pickle_to_file = pickle.load(open(file_loc, \"rb\"), encoding= 'latin1')\n",
    "        return pickle_to_file\n",
    "    \n",
    "    @staticmethod\n",
    "    def get_date_from_file(file_, numb_):\n",
    "        return os.path.splitext(file_[numb_])[0]\n",
    "    \n",
    "    # # ######### Locations of various files ######\n",
    "    # #\n",
    "    # # labels_location_files = ''  # where all the labels are stored\n",
    "    # # mainPath = '/media/ak/DataOnly/SecondAlternativeExperimentPath/'  # all results and various other files will be stored here\n",
    "    # #\n",
    "    # # # all the features are stored here in symbol directories - so you need os.path.join(symbol_feature_directors, [Symbol], 'MODEL_BASED')\n",
    "    # # # # and this will result in subfolders of dates\n",
    "    # # symbol_feature_directories = '/media/ak/DataOnly/SymbolFeatureDirectories/'\n",
    "    # #\n",
    "\n"
   ]
  },
  {
   "cell_type": "code",
   "execution_count": 123,
   "metadata": {},
   "outputs": [],
   "source": [
    "if __name__ == \"__main__\":\n",
    "    test = DataLoader('/media/ak/DataOnly/', 'STAN.L')\n",
    "        # #print(test.compute_date())\n",
    "        # print(test.symbol_features_path)\n",
    "        # print(test.symbol_specific_label_path(2))"
   ]
  },
  {
   "cell_type": "code",
   "execution_count": 124,
   "metadata": {},
   "outputs": [
    {
     "data": {
      "text/plain": [
       "'STAN.L_3_states_features_date:_20180418_now:_20190109_.pickle'"
      ]
     },
     "execution_count": 124,
     "metadata": {},
     "output_type": "execute_result"
    }
   ],
   "source": [
    "os.listdir(os.path.join(test.symbol_features_path, os.listdir(test.symbol_features_path)[0]))[3]\n",
    "# test.main_labels_path\n",
    "# test.all_symbols_features_paths"
   ]
  },
  {
   "cell_type": "code",
   "execution_count": 125,
   "metadata": {},
   "outputs": [
    {
     "data": {
      "text/plain": [
       "'20190109'"
      ]
     },
     "execution_count": 125,
     "metadata": {},
     "output_type": "execute_result"
    }
   ],
   "source": [
    "test.compute_date()"
   ]
  },
  {
   "cell_type": "code",
   "execution_count": 126,
   "metadata": {},
   "outputs": [
    {
     "data": {
      "text/plain": [
       "'/media/ak/DataOnly/ExperimentCommonLocs/LabelsAlternateSeven/STAN.L'"
      ]
     },
     "execution_count": 126,
     "metadata": {},
     "output_type": "execute_result"
    }
   ],
   "source": [
    "test.symbol_specific_label_path(7)"
   ]
  },
  {
   "cell_type": "code",
   "execution_count": 127,
   "metadata": {},
   "outputs": [],
   "source": [
    "test.ticker_features?"
   ]
  },
  {
   "cell_type": "code",
   "execution_count": null,
   "metadata": {},
   "outputs": [],
   "source": []
  },
  {
   "cell_type": "code",
   "execution_count": 128,
   "metadata": {},
   "outputs": [
    {
     "ename": "TypeError",
     "evalue": "stat: path should be string, bytes, os.PathLike or integer, not tuple",
     "output_type": "error",
     "traceback": [
      "\u001b[0;31m-------------------------------------------------\u001b[0m",
      "\u001b[0;31mTypeError\u001b[0m       Traceback (most recent call last)",
      "\u001b[0;32m<ipython-input-128-12d1652878f7>\u001b[0m in \u001b[0;36m<module>\u001b[0;34m\u001b[0m\n\u001b[0;32m----> 1\u001b[0;31m \u001b[0mos\u001b[0m\u001b[0;34m.\u001b[0m\u001b[0mpath\u001b[0m\u001b[0;34m.\u001b[0m\u001b[0misfile\u001b[0m\u001b[0;34m(\u001b[0m\u001b[0mtest\u001b[0m\u001b[0;34m.\u001b[0m\u001b[0mticker_features\u001b[0m\u001b[0;34m(\u001b[0m\u001b[0;34m'20180418'\u001b[0m\u001b[0;34m,\u001b[0m\u001b[0;34m'20180419'\u001b[0m \u001b[0;34m)\u001b[0m\u001b[0;34m)\u001b[0m\u001b[0;34m\u001b[0m\u001b[0;34m\u001b[0m\u001b[0m\n\u001b[0m",
      "\u001b[0;32m~/Envs/resrPyth3/lib/python3.6/genericpath.py\u001b[0m in \u001b[0;36misfile\u001b[0;34m(path)\u001b[0m\n\u001b[1;32m     28\u001b[0m     \u001b[0;34m\"\"\"Test whether a path is a regular file\"\"\"\u001b[0m\u001b[0;34m\u001b[0m\u001b[0;34m\u001b[0m\u001b[0m\n\u001b[1;32m     29\u001b[0m     \u001b[0;32mtry\u001b[0m\u001b[0;34m:\u001b[0m\u001b[0;34m\u001b[0m\u001b[0;34m\u001b[0m\u001b[0m\n\u001b[0;32m---> 30\u001b[0;31m         \u001b[0mst\u001b[0m \u001b[0;34m=\u001b[0m \u001b[0mos\u001b[0m\u001b[0;34m.\u001b[0m\u001b[0mstat\u001b[0m\u001b[0;34m(\u001b[0m\u001b[0mpath\u001b[0m\u001b[0;34m)\u001b[0m\u001b[0;34m\u001b[0m\u001b[0;34m\u001b[0m\u001b[0m\n\u001b[0m\u001b[1;32m     31\u001b[0m     \u001b[0;32mexcept\u001b[0m \u001b[0mOSError\u001b[0m\u001b[0;34m:\u001b[0m\u001b[0;34m\u001b[0m\u001b[0;34m\u001b[0m\u001b[0m\n\u001b[1;32m     32\u001b[0m         \u001b[0;32mreturn\u001b[0m \u001b[0;32mFalse\u001b[0m\u001b[0;34m\u001b[0m\u001b[0;34m\u001b[0m\u001b[0m\n",
      "\u001b[0;31mTypeError\u001b[0m: stat: path should be string, bytes, os.PathLike or integer, not tuple"
     ]
    }
   ],
   "source": [
    "os.path.isfile(test.ticker_features('20180418','20180419' ))"
   ]
  },
  {
   "cell_type": "code",
   "execution_count": 129,
   "metadata": {},
   "outputs": [
    {
     "ename": "TypeError",
     "evalue": "symbol_specific_label_path() missing 1 required positional argument: 'label_number'",
     "output_type": "error",
     "traceback": [
      "\u001b[0;31m-------------------------------------------------\u001b[0m",
      "\u001b[0;31mTypeError\u001b[0m       Traceback (most recent call last)",
      "\u001b[0;32m<ipython-input-129-5c0acbb59b11>\u001b[0m in \u001b[0;36m<module>\u001b[0;34m\u001b[0m\n\u001b[1;32m      1\u001b[0m \u001b[0mfile_loc\u001b[0m \u001b[0;34m=\u001b[0m \u001b[0mtest\u001b[0m\u001b[0;34m.\u001b[0m\u001b[0mticker_features\u001b[0m\u001b[0;34m(\u001b[0m\u001b[0;34m'20180418'\u001b[0m\u001b[0;34m,\u001b[0m\u001b[0;34m'20180420'\u001b[0m \u001b[0;34m)\u001b[0m\u001b[0;34m\u001b[0m\u001b[0;34m\u001b[0m\u001b[0m\n\u001b[0;32m----> 2\u001b[0;31m \u001b[0mtest\u001b[0m\u001b[0;34m.\u001b[0m\u001b[0msymbol_specific_label_path\u001b[0m\u001b[0;34m(\u001b[0m\u001b[0;34m)\u001b[0m\u001b[0;34m\u001b[0m\u001b[0;34m\u001b[0m\u001b[0m\n\u001b[0m",
      "\u001b[0;31mTypeError\u001b[0m: symbol_specific_label_path() missing 1 required positional argument: 'label_number'"
     ]
    }
   ],
   "source": [
    "file_loc = test.ticker_features('20180418','20180420' )\n",
    "test.symbol_specific_label_path()"
   ]
  },
  {
   "cell_type": "code",
   "execution_count": 130,
   "metadata": {},
   "outputs": [
    {
     "ename": "TypeError",
     "evalue": "expected str, bytes or os.PathLike object, not tuple",
     "output_type": "error",
     "traceback": [
      "\u001b[0;31m-------------------------------------------------\u001b[0m",
      "\u001b[0;31mTypeError\u001b[0m       Traceback (most recent call last)",
      "\u001b[0;32m<ipython-input-130-0498f2f6b082>\u001b[0m in \u001b[0;36m<module>\u001b[0;34m\u001b[0m\n\u001b[0;32m----> 1\u001b[0;31m \u001b[0;32mwith\u001b[0m \u001b[0mopen\u001b[0m\u001b[0;34m(\u001b[0m\u001b[0mfile_loc\u001b[0m\u001b[0;34m,\u001b[0m \u001b[0;34m'rb'\u001b[0m\u001b[0;34m)\u001b[0m \u001b[0;32mas\u001b[0m \u001b[0mhandle\u001b[0m\u001b[0;34m:\u001b[0m\u001b[0;34m\u001b[0m\u001b[0;34m\u001b[0m\u001b[0m\n\u001b[0m\u001b[1;32m      2\u001b[0m     \u001b[0mticker_features\u001b[0m \u001b[0;34m=\u001b[0m \u001b[0mpickle\u001b[0m\u001b[0;34m.\u001b[0m\u001b[0mload\u001b[0m\u001b[0;34m(\u001b[0m\u001b[0mhandle\u001b[0m\u001b[0;34m,\u001b[0m \u001b[0mencoding\u001b[0m\u001b[0;34m=\u001b[0m \u001b[0;34m'latin1'\u001b[0m\u001b[0;34m)\u001b[0m\u001b[0;34m\u001b[0m\u001b[0;34m\u001b[0m\u001b[0m\n",
      "\u001b[0;31mTypeError\u001b[0m: expected str, bytes or os.PathLike object, not tuple"
     ]
    }
   ],
   "source": [
    "with open(file_loc, 'rb') as handle:\n",
    "    ticker_features = pickle.load(handle, encoding= 'latin1')"
   ]
  },
  {
   "cell_type": "code",
   "execution_count": null,
   "metadata": {},
   "outputs": [],
   "source": []
  },
  {
   "cell_type": "code",
   "execution_count": 132,
   "metadata": {},
   "outputs": [],
   "source": [
    "test.ticker_specific_label_date_csv?"
   ]
  },
  {
   "cell_type": "code",
   "execution_count": 135,
   "metadata": {},
   "outputs": [
    {
     "data": {
      "text/html": [
       "<div>\n",
       "<style scoped>\n",
       "    .dataframe tbody tr th:only-of-type {\n",
       "        vertical-align: middle;\n",
       "    }\n",
       "\n",
       "    .dataframe tbody tr th {\n",
       "        vertical-align: top;\n",
       "    }\n",
       "\n",
       "    .dataframe thead th {\n",
       "        text-align: right;\n",
       "    }\n",
       "</style>\n",
       "<table border=\"1\" class=\"dataframe\">\n",
       "  <thead>\n",
       "    <tr style=\"text-align: right;\">\n",
       "      <th></th>\n",
       "      <th>TradedTime</th>\n",
       "      <th>TradedPrice</th>\n",
       "      <th>ReturnTradedPrice</th>\n",
       "      <th>Volume</th>\n",
       "      <th>Duration</th>\n",
       "      <th>label_MovAv__window_8__thres_arbitrary__0.0</th>\n",
       "    </tr>\n",
       "  </thead>\n",
       "  <tbody>\n",
       "    <tr>\n",
       "      <th>0</th>\n",
       "      <td>08:00:03.969543</td>\n",
       "      <td>0.07552</td>\n",
       "      <td>0.000000e+00</td>\n",
       "      <td>290.0</td>\n",
       "      <td>0.000000</td>\n",
       "      <td>-1.0</td>\n",
       "    </tr>\n",
       "    <tr>\n",
       "      <th>1</th>\n",
       "      <td>08:00:03.969567</td>\n",
       "      <td>0.07552</td>\n",
       "      <td>0.000000e+00</td>\n",
       "      <td>603.0</td>\n",
       "      <td>0.000024</td>\n",
       "      <td>-1.0</td>\n",
       "    </tr>\n",
       "    <tr>\n",
       "      <th>2</th>\n",
       "      <td>08:00:03.970548</td>\n",
       "      <td>0.07552</td>\n",
       "      <td>0.000000e+00</td>\n",
       "      <td>118.0</td>\n",
       "      <td>0.000981</td>\n",
       "      <td>-1.0</td>\n",
       "    </tr>\n",
       "    <tr>\n",
       "      <th>3</th>\n",
       "      <td>08:00:37.489063</td>\n",
       "      <td>0.07551</td>\n",
       "      <td>-1.324240e-04</td>\n",
       "      <td>1469.0</td>\n",
       "      <td>33.518515</td>\n",
       "      <td>0.0</td>\n",
       "    </tr>\n",
       "    <tr>\n",
       "      <th>4</th>\n",
       "      <td>08:00:37.498643</td>\n",
       "      <td>0.07551</td>\n",
       "      <td>2.220446e-16</td>\n",
       "      <td>470.0</td>\n",
       "      <td>0.009580</td>\n",
       "      <td>0.0</td>\n",
       "    </tr>\n",
       "    <tr>\n",
       "      <th>...</th>\n",
       "      <td>...</td>\n",
       "      <td>...</td>\n",
       "      <td>...</td>\n",
       "      <td>...</td>\n",
       "      <td>...</td>\n",
       "      <td>...</td>\n",
       "    </tr>\n",
       "    <tr>\n",
       "      <th>5575</th>\n",
       "      <td>15:29:48.236861</td>\n",
       "      <td>0.07641</td>\n",
       "      <td>0.000000e+00</td>\n",
       "      <td>1235.0</td>\n",
       "      <td>0.000024</td>\n",
       "      <td>NaN</td>\n",
       "    </tr>\n",
       "    <tr>\n",
       "      <th>5576</th>\n",
       "      <td>15:29:54.467013</td>\n",
       "      <td>0.07642</td>\n",
       "      <td>1.308644e-04</td>\n",
       "      <td>380.0</td>\n",
       "      <td>6.230152</td>\n",
       "      <td>NaN</td>\n",
       "    </tr>\n",
       "    <tr>\n",
       "      <th>5577</th>\n",
       "      <td>15:29:54.527880</td>\n",
       "      <td>0.07643</td>\n",
       "      <td>1.308472e-04</td>\n",
       "      <td>380.0</td>\n",
       "      <td>0.060867</td>\n",
       "      <td>NaN</td>\n",
       "    </tr>\n",
       "    <tr>\n",
       "      <th>5578</th>\n",
       "      <td>15:35:14.776376</td>\n",
       "      <td>0.07644</td>\n",
       "      <td>1.308301e-04</td>\n",
       "      <td>2855165.0</td>\n",
       "      <td>320.248496</td>\n",
       "      <td>NaN</td>\n",
       "    </tr>\n",
       "    <tr>\n",
       "      <th>5579</th>\n",
       "      <td>15:35:16.526416</td>\n",
       "      <td>0.07644</td>\n",
       "      <td>0.000000e+00</td>\n",
       "      <td>7102.0</td>\n",
       "      <td>1.750040</td>\n",
       "      <td>NaN</td>\n",
       "    </tr>\n",
       "  </tbody>\n",
       "</table>\n",
       "<p>5580 rows × 6 columns</p>\n",
       "</div>"
      ],
      "text/plain": [
       "           TradedTime  TradedPrice  ReturnTradedPrice     Volume    Duration  \\\n",
       "0     08:00:03.969543      0.07552       0.000000e+00      290.0    0.000000   \n",
       "1     08:00:03.969567      0.07552       0.000000e+00      603.0    0.000024   \n",
       "2     08:00:03.970548      0.07552       0.000000e+00      118.0    0.000981   \n",
       "3     08:00:37.489063      0.07551      -1.324240e-04     1469.0   33.518515   \n",
       "4     08:00:37.498643      0.07551       2.220446e-16      470.0    0.009580   \n",
       "...               ...          ...                ...        ...         ...   \n",
       "5575  15:29:48.236861      0.07641       0.000000e+00     1235.0    0.000024   \n",
       "5576  15:29:54.467013      0.07642       1.308644e-04      380.0    6.230152   \n",
       "5577  15:29:54.527880      0.07643       1.308472e-04      380.0    0.060867   \n",
       "5578  15:35:14.776376      0.07644       1.308301e-04  2855165.0  320.248496   \n",
       "5579  15:35:16.526416      0.07644       0.000000e+00     7102.0    1.750040   \n",
       "\n",
       "      label_MovAv__window_8__thres_arbitrary__0.0  \n",
       "0                                            -1.0  \n",
       "1                                            -1.0  \n",
       "2                                            -1.0  \n",
       "3                                             0.0  \n",
       "4                                             0.0  \n",
       "...                                           ...  \n",
       "5575                                          NaN  \n",
       "5576                                          NaN  \n",
       "5577                                          NaN  \n",
       "5578                                          NaN  \n",
       "5579                                          NaN  \n",
       "\n",
       "[5580 rows x 6 columns]"
      ]
     },
     "execution_count": 135,
     "metadata": {},
     "output_type": "execute_result"
    }
   ],
   "source": [
    "test.ticker_specific_label_date_csv(3,'20180420' )"
   ]
  },
  {
   "cell_type": "code",
   "execution_count": 137,
   "metadata": {},
   "outputs": [],
   "source": [
    "import os\n",
    "import itertools"
   ]
  },
  {
   "cell_type": "code",
   "execution_count": 138,
   "metadata": {},
   "outputs": [],
   "source": [
    "idx = range(1, 10)"
   ]
  },
  {
   "cell_type": "code",
   "execution_count": 139,
   "metadata": {},
   "outputs": [],
   "source": [
    "letters = ['a','b', 'c']"
   ]
  },
  {
   "cell_type": "code",
   "execution_count": 142,
   "metadata": {},
   "outputs": [
    {
     "data": {
      "text/plain": [
       "[(1, 'a'),\n",
       " (1, 'b'),\n",
       " (1, 'c'),\n",
       " (2, 'a'),\n",
       " (2, 'b'),\n",
       " (2, 'c'),\n",
       " (3, 'a'),\n",
       " (3, 'b'),\n",
       " (3, 'c'),\n",
       " (4, 'a'),\n",
       " (4, 'b'),\n",
       " (4, 'c'),\n",
       " (5, 'a'),\n",
       " (5, 'b'),\n",
       " (5, 'c'),\n",
       " (6, 'a'),\n",
       " (6, 'b'),\n",
       " (6, 'c'),\n",
       " (7, 'a'),\n",
       " (7, 'b'),\n",
       " (7, 'c'),\n",
       " (8, 'a'),\n",
       " (8, 'b'),\n",
       " (8, 'c'),\n",
       " (9, 'a'),\n",
       " (9, 'b'),\n",
       " (9, 'c')]"
      ]
     },
     "execution_count": 142,
     "metadata": {},
     "output_type": "execute_result"
    }
   ],
   "source": [
    "list(itertools.product(idx, letters))"
   ]
  },
  {
   "cell_type": "code",
   "execution_count": null,
   "metadata": {},
   "outputs": [],
   "source": []
  }
 ],
 "metadata": {
  "kernelspec": {
   "display_name": "Python 3",
   "language": "python",
   "name": "python3"
  },
  "language_info": {
   "codemirror_mode": {
    "name": "ipython",
    "version": 3
   },
   "file_extension": ".py",
   "mimetype": "text/x-python",
   "name": "python",
   "nbconvert_exporter": "python",
   "pygments_lexer": "ipython3",
   "version": "3.6.8"
  }
 },
 "nbformat": 4,
 "nbformat_minor": 2
}
