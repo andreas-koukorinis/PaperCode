{
 "cells": [
  {
   "cell_type": "code",
   "execution_count": 9,
   "metadata": {},
   "outputs": [],
   "source": [
    "from hsmm_core.data_utils import TradingHours, DataLoader\n",
    "from hsmm_core.labelling import DataLabellingSimple\n",
    "from hsmm_core.consts import ThresholdMethod, LabellingChoice\n",
    "import datetime as dt\n",
    "import os\n",
    "import pandas as pd\n",
    "\n"
   ]
  },
  {
   "cell_type": "code",
   "execution_count": 23,
   "metadata": {},
   "outputs": [],
   "source": [
    "import fileutils as fileutils\n",
    "#generic path\n",
    "fin_data_path = '/media/ak/My Passport/Data/FinDataReal/'\n",
    "#tickers path\n",
    "\n",
    "tickers_ftse_path = '/media/ak/My Passport/tickersFTSE' \n",
    "labels_list = [f for f in os.listdir(fin_data_path) if str('Labels') in f]"
   ]
  },
  {
   "cell_type": "code",
   "execution_count": 5,
   "metadata": {},
   "outputs": [],
   "source": [
    "fileutils.get_files_for_ticker?\n",
    "# symbolidx = 2\n",
    "# fileutils.get_files_for_ticker()"
   ]
  },
  {
   "cell_type": "code",
   "execution_count": 7,
   "metadata": {},
   "outputs": [],
   "source": [
    "# dateFiles = os.listdir(os.path.join(clean_raw_data_path, symbols[symbolidx],'MODEL_BASED'))\n",
    "# rawDataSymbolPath = os.path.join(clean_raw_data_path, symbols[symbolidx],'MODEL_BASED')"
   ]
  },
  {
   "cell_type": "markdown",
   "metadata": {},
   "source": [
    "### Features "
   ]
  },
  {
   "cell_type": "code",
   "execution_count": 8,
   "metadata": {},
   "outputs": [
    {
     "ename": "NameError",
     "evalue": "name 'clean_raw_data_path' is not defined",
     "output_type": "error",
     "traceback": [
      "\u001b[0;31m-----------------------------------------\u001b[0m",
      "\u001b[0;31mNameError\u001b[0mTraceback (most recent call last)",
      "\u001b[0;32m<ipython-input-8-2d331bfd8386>\u001b[0m in \u001b[0;36m<module>\u001b[0;34m\u001b[0m\n\u001b[0;32m----> 1\u001b[0;31m \u001b[0mdateFiles\u001b[0m \u001b[0;34m=\u001b[0m \u001b[0mos\u001b[0m\u001b[0;34m.\u001b[0m\u001b[0mlistdir\u001b[0m\u001b[0;34m(\u001b[0m\u001b[0mos\u001b[0m\u001b[0;34m.\u001b[0m\u001b[0mpath\u001b[0m\u001b[0;34m.\u001b[0m\u001b[0mjoin\u001b[0m\u001b[0;34m(\u001b[0m\u001b[0mclean_raw_data_path\u001b[0m\u001b[0;34m,\u001b[0m \u001b[0msymbols\u001b[0m\u001b[0;34m[\u001b[0m\u001b[0msymbolidx\u001b[0m\u001b[0;34m]\u001b[0m\u001b[0;34m,\u001b[0m\u001b[0;34m'MODEL_BASED'\u001b[0m\u001b[0;34m)\u001b[0m\u001b[0;34m)\u001b[0m\u001b[0;34m\u001b[0m\u001b[0;34m\u001b[0m\u001b[0m\n\u001b[0m\u001b[1;32m      2\u001b[0m \u001b[0mrawDataSymbolPath\u001b[0m \u001b[0;34m=\u001b[0m \u001b[0mos\u001b[0m\u001b[0;34m.\u001b[0m\u001b[0mpath\u001b[0m\u001b[0;34m.\u001b[0m\u001b[0mjoin\u001b[0m\u001b[0;34m(\u001b[0m\u001b[0mclean_raw_data_path\u001b[0m\u001b[0;34m,\u001b[0m \u001b[0msymbols\u001b[0m\u001b[0;34m[\u001b[0m\u001b[0msymbolidx\u001b[0m\u001b[0;34m]\u001b[0m\u001b[0;34m,\u001b[0m\u001b[0;34m'MODEL_BASED'\u001b[0m\u001b[0;34m)\u001b[0m\u001b[0;34m\u001b[0m\u001b[0;34m\u001b[0m\u001b[0m\n\u001b[1;32m      3\u001b[0m \u001b[0msymbolsFeaturesPath\u001b[0m \u001b[0;34m=\u001b[0m \u001b[0mos\u001b[0m\u001b[0;34m.\u001b[0m\u001b[0mpath\u001b[0m\u001b[0;34m.\u001b[0m\u001b[0mjoin\u001b[0m\u001b[0;34m(\u001b[0m\u001b[0mrawDataSymbolPath\u001b[0m\u001b[0;34m,\u001b[0m \u001b[0mdateFiles\u001b[0m\u001b[0;34m[\u001b[0m\u001b[0;36m1\u001b[0m\u001b[0;34m]\u001b[0m\u001b[0;34m)\u001b[0m\u001b[0;34m\u001b[0m\u001b[0;34m\u001b[0m\u001b[0m\n",
      "\u001b[0;31mNameError\u001b[0m: name 'clean_raw_data_path' is not defined"
     ]
    }
   ],
   "source": [
    "\n",
    "\n",
    "symbolsFeaturesPath = os.path.join(rawDataSymbolPath, dateFiles[1])"
   ]
  },
  {
   "cell_type": "code",
   "execution_count": 30,
   "metadata": {},
   "outputs": [],
   "source": [
    "def get_files_for_ticker(fin_data_dir, ticker):\n",
    "    \"\"\"\n",
    "    :return: Return all file names available for ticker, sort by name which is date\n",
    "    \"\"\"\n",
    "    total_path = os.path.join(fin_data_dir, ticker,'MODEL_BASED')\n",
    "    # os.path.join(total_path, f)\n",
    "    files_for_ticker = os.listdir(total_path)\n",
    "\n",
    "    files_for_ticker.sort()\n",
    "    return files_for_ticker"
   ]
  },
  {
   "cell_type": "code",
   "execution_count": 31,
   "metadata": {},
   "outputs": [],
   "source": [
    "ticker = 'RR.L'\n",
    "total_path = os.path.join(fin_data_path, ticker,'MODEL_BASED')\n"
   ]
  },
  {
   "cell_type": "code",
   "execution_count": 25,
   "metadata": {},
   "outputs": [
    {
     "data": {
      "text/plain": [
       "[]"
      ]
     },
     "execution_count": 25,
     "metadata": {},
     "output_type": "execute_result"
    }
   ],
   "source": [
    "get_files_for_ticker(fin_data_path, 'BARC.L')"
   ]
  },
  {
   "cell_type": "markdown",
   "metadata": {},
   "source": [
    "### Market Data File"
   ]
  },
  {
   "cell_type": "code",
   "execution_count": null,
   "metadata": {},
   "outputs": [],
   "source": [
    "myPassport = '/media/ak/My Passport/'\n",
    "rawDataFilesPath = os.path.join(myPassport, symbols[symbolidx])\n",
    "\n",
    "# rawDataDateFiles =os.listdir((os.path.join(myPassport, symbols[symbolidx])))\n",
    "# rawIdx = 1\n",
    "\n",
    "# pd.read_csv(os.path.join(rawDataFilesPath, rawDataDateFiles[rawIdx])).head(5)"
   ]
  },
  {
   "cell_type": "code",
   "execution_count": null,
   "metadata": {},
   "outputs": [],
   "source": [
    "# /media/ak/My Passport/Data\n",
    "# filelocations for laptop\n",
    "clean_raw_data_path = '/media/ak/My Passport/Data/FinDataReal/'  # has a list of symbols in here with processed data-appendix is a list of symbols\n",
    "data_path = '/media/ak/My Passport/Data/'  # this has features stored + labels stored\n",
    "labels_path = os.path.join(data_path, 'Labels')\n",
    "# list of symbols directory that has 2 files - this basically has two folders, one for HMM and one for SVM\n",
    "singleSVMmodels_path = '/media/ak/DataOnly/Data/features_models/models/'\n",
    "altFeatures_path = '/media/ak/WorkDrive/Data/features_models/features/'\n"
   ]
  },
  {
   "cell_type": "code",
   "execution_count": null,
   "metadata": {},
   "outputs": [],
   "source": [
    "os.listdir(os.path.join(clean_raw_data_path,os.listdir(clean_raw_data_path)[0]))"
   ]
  },
  {
   "cell_type": "code",
   "execution_count": null,
   "metadata": {},
   "outputs": [],
   "source": [
    "\n",
    "listDataPath =os.listdir(fileutils.data_path)\n",
    "listDataPath"
   ]
  },
  {
   "cell_type": "code",
   "execution_count": null,
   "metadata": {},
   "outputs": [],
   "source": [
    "symbols_listDataPath =[s for s in listDataPath if s.endswith('.L') or s.endswith('.I')]\n",
    "fileutils.data_path"
   ]
  },
  {
   "cell_type": "code",
   "execution_count": null,
   "metadata": {},
   "outputs": [],
   "source": [
    "symbols = os.listdir(os.path.join(myPassport, 'Data','FTSE'))\n",
    "get_files_for_ticker(symbols[1])"
   ]
  },
  {
   "cell_type": "code",
   "execution_count": null,
   "metadata": {},
   "outputs": [],
   "source": [
    "os.path.isfile"
   ]
  }
 ],
 "metadata": {
  "kernelspec": {
   "display_name": "Python 3",
   "language": "python",
   "name": "python3"
  },
  "language_info": {
   "codemirror_mode": {
    "name": "ipython",
    "version": 3
   },
   "file_extension": ".py",
   "mimetype": "text/x-python",
   "name": "python",
   "nbconvert_exporter": "python",
   "pygments_lexer": "ipython3",
   "version": "3.6.8"
  },
  "latex_envs": {
   "LaTeX_envs_menu_present": true,
   "autoclose": false,
   "autocomplete": true,
   "bibliofile": "biblio.bib",
   "cite_by": "apalike",
   "current_citInitial": 1,
   "eqLabelWithNumbers": true,
   "eqNumInitial": 1,
   "hotkeys": {
    "equation": "Ctrl-E",
    "itemize": "Ctrl-I"
   },
   "labels_anchors": false,
   "latex_user_defs": false,
   "report_style_numbering": false,
   "user_envs_cfg": false
  }
 },
 "nbformat": 4,
 "nbformat_minor": 2
}
