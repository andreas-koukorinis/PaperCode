{
 "cells": [
  {
   "cell_type": "code",
   "execution_count": 18,
   "metadata": {},
   "outputs": [],
   "source": [
    "import pandas as pd\n",
    "import numpy as np\n",
    "import datetime as dt\n",
    "from sklearn.preprocessing import MinMaxScaler\n",
    "from sklearn.preprocessing import StandardScaler\n",
    "from sklearn.metrics import precision_recall_fscore_support\n",
    "from sklearn.model_selection import GridSearchCV\n",
    "from sklearn.svm import SVC\n",
    "import fileutils as fileutils\n",
    "from sklearn.preprocessing import MinMaxScaler\n",
    "from sklearn.preprocessing import StandardScaler\n",
    "import gc\n",
    "import psutil\n",
    "import pickle\n",
    "import fnmatch\n",
    "import os\n",
    "import clfutils\n",
    "from sklearn.metrics import roc_auc_score, accuracy_score, f1_score, recall_score, precision_score\n",
    "from collections import defaultdict"
   ]
  },
  {
   "cell_type": "code",
   "execution_count": 19,
   "metadata": {},
   "outputs": [],
   "source": [
    "# paths\n",
    "dataDrive = '/media/ak/My Passport/Data/FinDataReal/'  # also labels location folder\n",
    "jointLocationsPickleFolder = os.path.join(dataDrive, 'JointLocationsDicts')\n",
    "extPath = '/media/ak/My Passport/ExperimentData'\n",
    "featuresPath = \"/\".join((extPath, 'features'))  # path with features\n",
    "\n",
    "# Labels\n",
    "labels_location_folder = fileutils.data_path  # this is the folder where all the labels are saved\n",
    "\n",
    "labels_pickle_files = [s for s in os.listdir(labels_location_folder) if ('LabelsAlternate') in s if\n",
    "                       not ('.pkl') in s]  # these are all the dicts that we have alternate labels for.\n",
    "# labels_pickle_files: these are all the dicts that we have alternate labels for.\n",
    "\n",
    "symbols = [f for f in [s for s in os.listdir(labels_location_folder) if '.L' in s if '_Features' not in s] if\n",
    "           ('.L_A' or '_Features') not in f]  # from all"
   ]
  },
  {
   "cell_type": "code",
   "execution_count": 20,
   "metadata": {},
   "outputs": [],
   "source": [
    "forwardDates = [f for f in os.listdir(dataDrive) if ('ForwardDates') in f]\n",
    "svcModels = [g for g in os.listdir(dataDrive) if ('_SingleKernelSVC') in g]"
   ]
  },
  {
   "cell_type": "code",
   "execution_count": 21,
   "metadata": {},
   "outputs": [],
   "source": [
    "def logmemoryusage(msg):\n",
    "    # function to log memory usage\n",
    "    process = psutil.Process(os.getpid())\n",
    "    print('Memory usage at %s is %smb.' % (msg, process.memory_info().rss / 1000 / 1000))\n",
    "\n",
    "\n",
    "def unpickle_csv(pickled_csv):\n",
    "    with open(pickled_csv, 'rb') as f:\n",
    "        u = pickle._Unpickler(f)\n",
    "        u.encoding = 'latin1'\n",
    "        p = u.load()\n",
    "\n",
    "    return p\n",
    "\n",
    "\n",
    "def ticker_features_labels(file_joint_locations):\n",
    "    # input a joint location file that contains both features and labels and returns one\n",
    "    labels = pd.read_csv(file_joint_locations[1])\n",
    "    features = unpickle_csv(file_joint_locations[0])\n",
    "    return features, labels\n",
    "\n",
    "\n",
    "def hmm_features_df(features_tuple):\n",
    "    return pd.concat([features_tuple[0], features_tuple[1], \\\n",
    "                      features_tuple[2], features_tuple[3]], axis=1, sort=False)"
   ]
  },
  {
   "cell_type": "code",
   "execution_count": 22,
   "metadata": {},
   "outputs": [],
   "source": [
    "\n",
    "class AlternateLabelFeaturesLoader(object):\n",
    "    \"\"\"\n",
    "    takes in a main path, a symbol, an alternate label index (from 0 to 4) and returns, the pickled dict file name\n",
    "    and path for the common locations\n",
    "    \"\"\"\n",
    "\n",
    "    def __init__(self, path_main, symbol, alternate_label_idx=None,\n",
    "                 jointLocationsPickleInput=jointLocationsPickleFolder):\n",
    "        self.main_path = path_main\n",
    "        self.symbol = symbol\n",
    "        self.LabelsAlternateName = ['LabelsAlternateFive', 'LabelsAlternateFour', 'LabelsAlternateOne',\n",
    "                                    'LabelsAlternateThree', 'LabelsAlternateTwo']\n",
    "        self.alternate_label_idx = alternate_label_idx\n",
    "        self.jointLocationsPickleFolder = jointLocationsPickleInput\n",
    "        self.jointLocsSymbols = list(np.unique([f.split(\"_\")[0] for f in os.listdir(self.jointLocationsPickleFolder)]))\n",
    "\n",
    "    def return_pickled_dict(self):\n",
    "        # returns the filename of the joint features and labels file\n",
    "        # the features file is a dictionary that has keys\n",
    "#         if self.symbol in self.jointLocsSymbols:\n",
    "        if self.alternate_label_idx < 4:\n",
    "            pickle_in_filename_local = os.path.join(self.jointLocationsPickleFolder, \"_\".join(\n",
    "                (self.symbol, self.LabelsAlternateName[self.alternate_label_idx], 'FeaturesLocations.pkl')))\n",
    "        else:\n",
    "            print('Error in the alternate label index: value between 0 and 4')\n",
    "#         else:\n",
    "#             print('Symbol is not in the folder')\n",
    "        return pickle_in_filename_local\n",
    "\n",
    "    @staticmethod\n",
    "    def load_pickled_in_filename(file):\n",
    "        # load a simple pickled file and return it. its a bit different to the method used for the dictionary as this\n",
    "        # is pure Python 3.x\n",
    "        pickle_in = open(file, 'rb')\n",
    "        return pickle.load(pickle_in)\n",
    "\n",
    "    @staticmethod\n",
    "    def joint_loc_pickle_keys(inputFile):\n",
    "        # returns keys of joint locations from labels and features\n",
    "        return list(AlternateLabelFeaturesLoader.load_pickled_in_filename(inputFile).keys())\n",
    "\n",
    "    @staticmethod\n",
    "    def forwardDates(list_of_keys, current_date):\n",
    "        \"\"\" return all the forward looking dates for each idxKey we use for training\"\"\"\n",
    "        lookAheadKeys = sorted(i for i in list_of_keys if i > current_date)\n",
    "        return lookAheadKeys\n",
    "\n",
    "\n",
    "class CreateMarketFeatures(object):\n",
    "    # a class to be expanded that uses features for base case -market based only-indicators/features\n",
    "    \"\"\"\"Requires:\n",
    "    a dataframe that has TradedPrice And Volume columns\n",
    "    symbol - A stock symbol on which to form a strategy on.\n",
    "    short_window - Lookback period for short moving average.\n",
    "    long_window - Lookback period for long moving average.\n",
    "    \"\"\"\n",
    "\n",
    "    def __init__(self, df):\n",
    "        #         self.ticker = ticker\n",
    "        self.df = df\n",
    "\n",
    "    def load_data(self):\n",
    "        pass\n",
    "\n",
    "    def ma_spread(self, short_window=3, long_window=6):\n",
    "        # function that produces the MA spread, which can be used on its own or as an input for MACD\n",
    "        short_rolling_px = self.df['TradedPrice'].rolling(window=short_window).mean()\n",
    "        long_rolling_px = self.df['TradedPrice'].rolling(window=long_window).mean()\n",
    "        px_name = \"_\".join(('px_indx', str(short_window), str(long_window)))\n",
    "        self.df[px_name] = long_rolling_px - short_rolling_px\n",
    "        return self.df\n",
    "\n",
    "    def ma_spread_duration(self, short_window=2, long_window=4):\n",
    "        # function that produces the MA spread, which can be used on its own or as an input for MACD\n",
    "        short_rolling_px = self.df['Duration'].rolling(window=short_window).mean()\n",
    "        long_rolling_px = self.df['Duration'].rolling(window=long_window).mean()\n",
    "        dur_name = \"_\".join(('dur_indx', str(short_window), str(long_window)))\n",
    "        self.df[dur_name] = long_rolling_px - short_rolling_px\n",
    "        return self.df\n",
    "\n",
    "    def obv_calc(self):\n",
    "        # on balance volume indicator\n",
    "        self.df['SignedVolume'] = self.df['Volume'] * np.sign(self.df['TradedPrice'].diff()).cumsum()\n",
    "        self.df['SignedVolume'].iat[1] = 0\n",
    "        self.df['OBV'] = self.df['SignedVolume']  # .cumsum()\n",
    "        self.df = self.df.drop(columns=['SignedVolume'])\n",
    "        return self.df\n",
    "\n",
    "    def chaikin_mf(self, period=3):\n",
    "        # Chaikin money flow indicator\n",
    "        self.df[\"MF Multiplier\"] = (self.df['TradedPrice'] - (self.df['TradedPrice'].expanding(period).min()) \\\n",
    "                                    - (self.df['TradedPrice'].expanding(period).max() \\\n",
    "                                       - self.df['TradedPrice'])) / (\n",
    "                                           self.df['TradedPrice'].expanding(period).max() - self.df[ \\\n",
    "                                       'TradedPrice'].expanding(period).min())\n",
    "        self.df[\"MF Volume\"] = self.df['MF Multiplier'] * self.df['Volume']\n",
    "        self.df['CMF_' + str(period)] = self.df['MF Volume'].sum() / self.df[\"Volume\"].rolling(period).sum()\n",
    "        self.df = self.df.drop(columns=['MF Multiplier', 'MF Volume'])\n",
    "        return self.df\n",
    "\n",
    "\n",
    "#         # forward_dates_keys = data_cls.forwardDates(joint_keys, joint_keys[joint_key_idx])  # forward dates for this date\n"
   ]
  },
  {
   "cell_type": "code",
   "execution_count": 23,
   "metadata": {},
   "outputs": [],
   "source": [
    "def feature_labels_fit(features, labels):\n",
    "    label_name = str(labels.columns[labels.columns.str.contains(pat='label')].values[0])\n",
    "    features_df = hmm_features_df(features)  # features data-frame - this just unbundles the features into a dataframe\n",
    "    # lets get all the features in order now#\n",
    "    market_features_df = CreateMarketFeatures(\n",
    "        CreateMarketFeatures(CreateMarketFeatures(df=CreateMarketFeatures(df=labels).ma_spread_duration())\n",
    "                             .ma_spread()).chaikin_mf()).obv_calc()  # market features dataframe\n",
    "    df_concat = pd.DataFrame(pd.concat([features_df, market_features_df], axis=1, sort='False').dropna())\n",
    "    df = df_concat[df_concat[label_name].notna()]\n",
    "    df_final = df.drop(columns=['TradedPrice', 'Duration', 'TradedTime', 'ReturnTradedPrice', \\\n",
    "                                'Volume', label_name])\n",
    "    y_labels_train = df[df.columns[df.columns.str.contains(pat='label')]].iloc[:, 0]\n",
    "    if df_final.shape[0] < 10:\n",
    "        print(' the ratio of classes is too low. try another label permutation')\n",
    "    else:\n",
    "        X_train = MinMaxScaler().fit_transform(df_final)\n",
    "        \n",
    "    return X_train, y_labels_train"
   ]
  },
  {
   "cell_type": "code",
   "execution_count": 24,
   "metadata": {},
   "outputs": [
    {
     "data": {
      "text/plain": [
       "'LabelsAlternateOne'"
      ]
     },
     "execution_count": 24,
     "metadata": {},
     "output_type": "execute_result"
    }
   ],
   "source": [
    "#just pick symbols I have joint locations\n",
    "jointLocsSymbols = list(np.unique([f.split(\"_\")[0] for f in os.listdir(jointLocationsPickleFolder)]))\n",
    "symbol= 'AAL.L'\n",
    "alternate_label_idx = 2\n",
    "symbol_idx = jointLocsSymbols.index(symbol)\n",
    "jointLocsSymbols[symbol_idx]\n",
    "labels_pickle_files[alternate_label_idx]"
   ]
  },
  {
   "cell_type": "code",
   "execution_count": null,
   "metadata": {},
   "outputs": [],
   "source": []
  },
  {
   "cell_type": "markdown",
   "metadata": {},
   "source": [
    "## load model"
   ]
  },
  {
   "cell_type": "code",
   "execution_count": 25,
   "metadata": {},
   "outputs": [],
   "source": [
    "symbol = 'AAL.L'\n",
    "best_svc_dict =defaultdict(dict)\n",
    "################\n",
    "symbolForwardDates = [f for f in forwardDates if str(symbol) in f]\n",
    "symbolSVCModels = [g for g in svcModels if str(symbol) in g]\n",
    "\n",
    "############################### SVC Model Location and Alternate Labels ###############################\n",
    "\n",
    "symbolSVCModelLocationIdx = 0\n",
    "symbolSVCModelLocation = os.path.join(dataDrive,symbolSVCModels[symbolSVCModelLocationIdx])\n",
    "alternate_label = symbolSVCModelLocation.split(\"_\")[1]\n",
    "\n",
    "######### MODELS #########################################################\n",
    "models =unpickle_csv(symbolSVCModelLocation)\n",
    "\n",
    "\n",
    "modelDates = list(models[list(models.keys())[0]].keys())\n",
    "modelDateIdx = 0\n",
    "svc = models[str(symbol)][modelDates[modelDateIdx]]['SVC']\n",
    "#### pick forward date ### \n",
    "forwardDate = [g for g in [f for f in symbolForwardDates if (str(modelDates[modelDateIdx])) in f] if str(alternate_label) in g]"
   ]
  },
  {
   "cell_type": "code",
   "execution_count": 28,
   "metadata": {},
   "outputs": [
    {
     "name": "stdout",
     "output_type": "stream",
     "text": [
      "Fitting 5 folds for each of 12 candidates, totalling 60 fits\n"
     ]
    },
    {
     "name": "stderr",
     "output_type": "stream",
     "text": [
      "[Parallel(n_jobs=-1)]: Using backend LokyBackend with 4 concurrent workers.\n",
      "[Parallel(n_jobs=-1)]: Done  42 tasks      | elapsed:   48.0s\n",
      "[Parallel(n_jobs=-1)]: Done  60 out of  60 | elapsed:   55.0s finished\n",
      "/home/ak/Envs/resrPyth3/lib/python3.6/site-packages/sklearn/model_selection/_search.py:814: DeprecationWarning: The default of the `iid` parameter will change from True to False in version 0.22 and will be removed in 0.24. This will change numeric results when test-set sizes are unequal.\n",
      "  DeprecationWarning)\n"
     ]
    }
   ],
   "source": [
    "fitted_model =svc.fit(X_fit, y_fit)"
   ]
  },
  {
   "cell_type": "code",
   "execution_count": 29,
   "metadata": {},
   "outputs": [
    {
     "data": {
      "text/plain": [
       "SVC(C=100, cache_size=200, class_weight='balanced', coef0=0.0,\n",
       "    decision_function_shape='ovr', degree=3, gamma=0.01, kernel='rbf',\n",
       "    max_iter=-1, probability=False, random_state=None, shrinking=True,\n",
       "    tol=0.001, verbose=False)"
      ]
     },
     "execution_count": 29,
     "metadata": {},
     "output_type": "execute_result"
    }
   ],
   "source": [
    "fitted_model.best_estimator_"
   ]
  },
  {
   "cell_type": "code",
   "execution_count": 30,
   "metadata": {},
   "outputs": [
    {
     "name": "stdout",
     "output_type": "stream",
     "text": [
      "ok to go\n",
      "AAL.L  and labels  LabelsAlternateFour\n",
      "Fitting 5 folds for each of 12 candidates, totalling 60 fits\n"
     ]
    },
    {
     "name": "stderr",
     "output_type": "stream",
     "text": [
      "[Parallel(n_jobs=-1)]: Using backend LokyBackend with 4 concurrent workers.\n",
      "[Parallel(n_jobs=-1)]: Done  42 tasks      | elapsed:   37.3s\n",
      "[Parallel(n_jobs=-1)]: Done  60 out of  60 | elapsed:   44.4s finished\n",
      "/home/ak/Envs/resrPyth3/lib/python3.6/site-packages/sklearn/model_selection/_search.py:814: DeprecationWarning: The default of the `iid` parameter will change from True to False in version 0.22 and will be removed in 0.24. This will change numeric results when test-set sizes are unequal.\n",
      "  DeprecationWarning)\n"
     ]
    }
   ],
   "source": [
    "\n",
    "if symbol in jointLocsSymbols:\n",
    "    print('ok to go')\n",
    "    alternate_label_idx = 0  # pick a label indexprint(jointLocsSymbols[symbol_idx], ' and labels ', labels_pickle_files[alternate_label_idx])\n",
    "    symbol_idx = jointLocsSymbols.index(symbol) # dont particularly need this!\n",
    "    print(symbol, ' and labels ', alternate_label)\n",
    "    features, labels = ticker_features_labels(jointLocationsDictionary[modelDates[modelDateIdx]])\n",
    "    X_fit, y_fit =feature_labels_fit(features, labels)\n",
    "    fitted_model =svc.fit(X_fit, y_fit)"
   ]
  },
  {
   "cell_type": "markdown",
   "metadata": {},
   "source": [
    "### OOS testing ###"
   ]
  },
  {
   "cell_type": "code",
   "execution_count": 40,
   "metadata": {},
   "outputs": [
    {
     "data": {
      "text/plain": [
       "['AAL.L_LabelsAlternateFour_20170117_ForwardDates.pkl',\n",
       " 'AAL.L_LabelsAlternateFour_20170119_ForwardDates.pkl',\n",
       " 'AAL.L_LabelsAlternateFour_20170123_ForwardDates.pkl',\n",
       " 'AAL.L_LabelsAlternateFour_20170124_ForwardDates.pkl',\n",
       " 'AAL.L_LabelsAlternateFour_20170127_ForwardDates.pkl',\n",
       " 'AAL.L_LabelsAlternateFour_20170130_ForwardDates.pkl',\n",
       " 'AAL.L_LabelsAlternateFour_20170131_ForwardDates.pkl',\n",
       " 'AAL.L_LabelsAlternateFour_20170301_ForwardDates.pkl',\n",
       " 'AAL.L_LabelsAlternateFour_20170703_ForwardDates.pkl',\n",
       " 'AAL.L_LabelsAlternateFour_20170704_ForwardDates.pkl',\n",
       " 'BARC.L_LabelsAlternateOne_20170815_ForwardDates.pkl',\n",
       " 'BARC.L_LabelsAlternateOne_20170818_ForwardDates.pkl',\n",
       " 'BARC.L_LabelsAlternateOne_20170821_ForwardDates.pkl',\n",
       " 'BARC.L_LabelsAlternateOne_20170823_ForwardDates.pkl',\n",
       " 'BARC.L_LabelsAlternateOne_20170825_ForwardDates.pkl',\n",
       " 'BARC.L_LabelsAlternateOne_20170830_ForwardDates.pkl',\n",
       " 'BARC.L_LabelsAlternateOne_20170831_ForwardDates.pkl',\n",
       " 'BARC.L_LabelsAlternateOne_20170901_ForwardDates.pkl',\n",
       " 'BARC.L_LabelsAlternateOne_20170904_ForwardDates.pkl',\n",
       " 'BARC.L_LabelsAlternateOne_20170905_ForwardDates.pkl',\n",
       " 'BARC.L_LabelsAlternateOne_20170907_ForwardDates.pkl',\n",
       " 'AAL.L_LabelsAlternateFour_20170706_ForwardDates.pkl',\n",
       " 'AAL.L_LabelsAlternateFour_20170725_ForwardDates.pkl',\n",
       " 'AAL.L_LabelsAlternateOne_20170706_ForwardDates.pkl',\n",
       " 'AAL.L_LabelsAlternateOne_20170726_ForwardDates.pkl',\n",
       " 'BARC.L_LabelsAlternateFour_20170810_ForwardDates.pkl',\n",
       " 'BARC.L_LabelsAlternateFour_20170905_ForwardDates.pkl',\n",
       " 'BARC.L_LabelsAlternateOne_20170814_ForwardDates.pkl',\n",
       " 'BARC.L_LabelsAlternateOne_20170908_ForwardDates.pkl',\n",
       " 'BARC.L_LabelsAlternateFour_20170117_ForwardDates.pkl',\n",
       " 'BARC.L_LabelsAlternateFour_20170118_ForwardDates.pkl',\n",
       " 'BARC.L_LabelsAlternateFour_20170120_ForwardDates.pkl',\n",
       " 'BARC.L_LabelsAlternateFour_20170124_ForwardDates.pkl',\n",
       " 'BARC.L_LabelsAlternateFour_20170125_ForwardDates.pkl',\n",
       " 'BARC.L_LabelsAlternateFour_20170126_ForwardDates.pkl',\n",
       " 'BARC.L_LabelsAlternateFour_20170802_ForwardDates.pkl',\n",
       " 'BARC.L_LabelsAlternateFour_20170808_ForwardDates.pkl',\n",
       " 'BARC.L_LabelsAlternateFour_20170809_ForwardDates.pkl',\n",
       " 'BARC.L_LabelsAlternateOne_20170117_ForwardDates.pkl',\n",
       " 'BARC.L_LabelsAlternateOne_20170118_ForwardDates.pkl',\n",
       " 'BARC.L_LabelsAlternateOne_20170120_ForwardDates.pkl',\n",
       " 'BARC.L_LabelsAlternateOne_20170124_ForwardDates.pkl',\n",
       " 'BARC.L_LabelsAlternateOne_20170125_ForwardDates.pkl',\n",
       " 'BARC.L_LabelsAlternateOne_20170126_ForwardDates.pkl',\n",
       " 'BARC.L_LabelsAlternateOne_20170802_ForwardDates.pkl',\n",
       " 'BARC.L_LabelsAlternateOne_20170808_ForwardDates.pkl',\n",
       " 'BARC.L_LabelsAlternateOne_20170809_ForwardDates.pkl',\n",
       " 'BARC.L_LabelsAlternateOne_20170810_ForwardDates.pkl',\n",
       " 'BARC.L_LabelsAlternateFour_20170814_ForwardDates.pkl',\n",
       " 'BARC.L_LabelsAlternateFour_20170815_ForwardDates.pkl',\n",
       " 'BARC.L_LabelsAlternateFour_20170818_ForwardDates.pkl',\n",
       " 'BARC.L_LabelsAlternateFour_20170821_ForwardDates.pkl',\n",
       " 'BARC.L_LabelsAlternateFour_20170823_ForwardDates.pkl',\n",
       " 'BARC.L_LabelsAlternateFour_20170825_ForwardDates.pkl',\n",
       " 'BARC.L_LabelsAlternateFour_20170830_ForwardDates.pkl',\n",
       " 'BARC.L_LabelsAlternateFour_20170831_ForwardDates.pkl',\n",
       " 'BARC.L_LabelsAlternateFour_20170901_ForwardDates.pkl',\n",
       " 'BARC.L_LabelsAlternateFour_20170904_ForwardDates.pkl',\n",
       " 'BARC.L_LabelsAlternateFour_20170907_ForwardDates.pkl',\n",
       " 'BARC.L_LabelsAlternateFour_20170908_ForwardDates.pkl',\n",
       " 'BARC.L_LabelsAlternateFour_20170913_ForwardDates.pkl',\n",
       " 'BARC.L_LabelsAlternateFour_20170915_ForwardDates.pkl',\n",
       " 'BARC.L_LabelsAlternateFour_20170920_ForwardDates.pkl',\n",
       " 'BARC.L_LabelsAlternateFour_20170921_ForwardDates.pkl',\n",
       " 'BARC.L_LabelsAlternateFour_20170922_ForwardDates.pkl',\n",
       " 'BARC.L_LabelsAlternateFour_20170926_ForwardDates.pkl',\n",
       " 'BARC.L_LabelsAlternateFour_20170928_ForwardDates.pkl',\n",
       " 'BARC.L_LabelsAlternateFour_20170929_ForwardDates.pkl',\n",
       " 'BARC.L_LabelsAlternateOne_20170913_ForwardDates.pkl',\n",
       " 'BARC.L_LabelsAlternateOne_20170915_ForwardDates.pkl',\n",
       " 'BARC.L_LabelsAlternateOne_20170920_ForwardDates.pkl',\n",
       " 'BARC.L_LabelsAlternateOne_20170921_ForwardDates.pkl',\n",
       " 'BARC.L_LabelsAlternateOne_20170922_ForwardDates.pkl',\n",
       " 'BARC.L_LabelsAlternateOne_20170926_ForwardDates.pkl',\n",
       " 'BARC.L_LabelsAlternateOne_20170928_ForwardDates.pkl',\n",
       " 'BARC.L_LabelsAlternateOne_20170929_ForwardDates.pkl',\n",
       " 'BARC.L_LabelsAlternateThree_20170117_ForwardDates.pkl',\n",
       " 'BATS.L_LabelsAlternateFour_20170117_ForwardDates.pkl',\n",
       " 'BATS.L_LabelsAlternateFour_20170118_ForwardDates.pkl',\n",
       " 'BATS.L_LabelsAlternateFour_20170119_ForwardDates.pkl',\n",
       " 'BATS.L_LabelsAlternateFour_20170120_ForwardDates.pkl',\n",
       " 'AAL.L_LabelsAlternateOne_20170707_ForwardDates.pkl',\n",
       " 'AAL.L_LabelsAlternateOne_20170710_ForwardDates.pkl',\n",
       " 'AAL.L_LabelsAlternateOne_20170711_ForwardDates.pkl',\n",
       " 'AAL.L_LabelsAlternateOne_20170713_ForwardDates.pkl',\n",
       " 'AAL.L_LabelsAlternateOne_20170714_ForwardDates.pkl',\n",
       " 'AAL.L_LabelsAlternateOne_20170717_ForwardDates.pkl',\n",
       " 'AAL.L_LabelsAlternateOne_20170719_ForwardDates.pkl',\n",
       " 'AAL.L_LabelsAlternateOne_20170720_ForwardDates.pkl',\n",
       " 'AAL.L_LabelsAlternateOne_20170721_ForwardDates.pkl',\n",
       " 'AAL.L_LabelsAlternateOne_20170724_ForwardDates.pkl',\n",
       " 'AAL.L_LabelsAlternateOne_20170725_ForwardDates.pkl',\n",
       " 'AAL.L_LabelsAlternateOne_20170727_ForwardDates.pkl',\n",
       " 'AAL.L_LabelsAlternateOne_20170731_ForwardDates.pkl',\n",
       " 'AAL.L_LabelsAlternateOne_20170801_ForwardDates.pkl',\n",
       " 'AAL.L_LabelsAlternateOne_20170804_ForwardDates.pkl',\n",
       " 'AAL.L_LabelsAlternateOne_20170807_ForwardDates.pkl',\n",
       " 'AAL.L_LabelsAlternateOne_20170809_ForwardDates.pkl',\n",
       " 'AAL.L_LabelsAlternateOne_20170814_ForwardDates.pkl',\n",
       " 'AAL.L_LabelsAlternateOne_20170817_ForwardDates.pkl',\n",
       " 'AAL.L_LabelsAlternateOne_20170818_ForwardDates.pkl',\n",
       " 'AAL.L_LabelsAlternateOne_20170821_ForwardDates.pkl',\n",
       " 'AAL.L_LabelsAlternateOne_20170822_ForwardDates.pkl',\n",
       " 'AAL.L_LabelsAlternateOne_20170823_ForwardDates.pkl',\n",
       " 'AAL.L_LabelsAlternateOne_20170824_ForwardDates.pkl',\n",
       " 'AAL.L_LabelsAlternateOne_20170830_ForwardDates.pkl',\n",
       " 'AAL.L_LabelsAlternateOne_20170831_ForwardDates.pkl',\n",
       " 'AAL.L_LabelsAlternateOne_20170117_ForwardDates.pkl',\n",
       " 'AAL.L_LabelsAlternateOne_20170119_ForwardDates.pkl',\n",
       " 'AAL.L_LabelsAlternateOne_20170123_ForwardDates.pkl',\n",
       " 'AAL.L_LabelsAlternateOne_20170124_ForwardDates.pkl',\n",
       " 'AAL.L_LabelsAlternateOne_20170127_ForwardDates.pkl',\n",
       " 'AAL.L_LabelsAlternateOne_20170130_ForwardDates.pkl',\n",
       " 'AAL.L_LabelsAlternateOne_20170131_ForwardDates.pkl',\n",
       " 'AAL.L_LabelsAlternateOne_20170301_ForwardDates.pkl',\n",
       " 'AAL.L_LabelsAlternateOne_20170703_ForwardDates.pkl',\n",
       " 'AAL.L_LabelsAlternateOne_20170704_ForwardDates.pkl',\n",
       " 'AAL.L_LabelsAlternateFour_20170707_ForwardDates.pkl',\n",
       " 'AAL.L_LabelsAlternateFour_20170710_ForwardDates.pkl',\n",
       " 'AAL.L_LabelsAlternateFour_20170711_ForwardDates.pkl',\n",
       " 'AAL.L_LabelsAlternateFour_20170713_ForwardDates.pkl',\n",
       " 'AAL.L_LabelsAlternateFour_20170714_ForwardDates.pkl',\n",
       " 'AAL.L_LabelsAlternateFour_20170717_ForwardDates.pkl',\n",
       " 'AAL.L_LabelsAlternateFour_20170719_ForwardDates.pkl',\n",
       " 'AAL.L_LabelsAlternateFour_20170720_ForwardDates.pkl',\n",
       " 'AAL.L_LabelsAlternateFour_20170721_ForwardDates.pkl',\n",
       " 'AAL.L_LabelsAlternateFour_20170724_ForwardDates.pkl',\n",
       " 'AAL.L_LabelsAlternateFour_20170726_ForwardDates.pkl',\n",
       " 'AAL.L_LabelsAlternateFour_20170727_ForwardDates.pkl',\n",
       " 'AAL.L_LabelsAlternateFour_20170731_ForwardDates.pkl',\n",
       " 'AAL.L_LabelsAlternateFour_20170801_ForwardDates.pkl',\n",
       " 'AAL.L_LabelsAlternateFour_20170804_ForwardDates.pkl',\n",
       " 'AAL.L_LabelsAlternateFour_20170807_ForwardDates.pkl',\n",
       " 'AAL.L_LabelsAlternateFour_20170809_ForwardDates.pkl',\n",
       " 'AAL.L_LabelsAlternateFour_20170814_ForwardDates.pkl',\n",
       " 'AAL.L_LabelsAlternateFour_20170817_ForwardDates.pkl',\n",
       " 'AAL.L_LabelsAlternateFour_20170818_ForwardDates.pkl',\n",
       " 'AAL.L_LabelsAlternateFour_20170821_ForwardDates.pkl',\n",
       " 'AAL.L_LabelsAlternateFour_20170822_ForwardDates.pkl',\n",
       " 'AAL.L_LabelsAlternateFour_20170823_ForwardDates.pkl',\n",
       " 'AAL.L_LabelsAlternateFour_20170824_ForwardDates.pkl',\n",
       " 'AAL.L_LabelsAlternateFour_20170830_ForwardDates.pkl',\n",
       " 'AAL.L_LabelsAlternateFour_20170831_ForwardDates.pkl']"
      ]
     },
     "execution_count": 40,
     "metadata": {},
     "output_type": "execute_result"
    }
   ],
   "source": [
    "best_svc_dict =defaultdict(dict)\n",
    "# os.path.join(dataDrive,forwardDate[0])\n",
    "forwardDates"
   ]
  },
  {
   "cell_type": "markdown",
   "metadata": {},
   "source": [
    "## Fit code per symbol - see if this works! "
   ]
  },
  {
   "cell_type": "code",
   "execution_count": 11,
   "metadata": {},
   "outputs": [
    {
     "name": "stdout",
     "output_type": "stream",
     "text": [
      "Memory usage at Before garbage collect is 185.73311999999999mb.\n",
      "Memory usage at Before feature creation is 185.73311999999999mb.\n",
      "20170117\n",
      "Fitting 5 folds for each of 12 candidates, totalling 60 fits\n"
     ]
    },
    {
     "name": "stderr",
     "output_type": "stream",
     "text": [
      "[Parallel(n_jobs=-1)]: Using backend LokyBackend with 4 concurrent workers.\n"
     ]
    },
    {
     "ename": "KeyboardInterrupt",
     "evalue": "",
     "output_type": "error",
     "traceback": [
      "\u001b[0;31m---------------------------------------------------------------------------\u001b[0m",
      "\u001b[0;31mKeyboardInterrupt\u001b[0m                         Traceback (most recent call last)",
      "\u001b[0;32m<ipython-input-11-777034e1ef4d>\u001b[0m in \u001b[0;36m<module>\u001b[0;34m\u001b[0m\n\u001b[1;32m     29\u001b[0m         \u001b[0mX_train\u001b[0m \u001b[0;34m=\u001b[0m \u001b[0mMinMaxScaler\u001b[0m\u001b[0;34m(\u001b[0m\u001b[0;34m)\u001b[0m\u001b[0;34m.\u001b[0m\u001b[0mfit_transform\u001b[0m\u001b[0;34m(\u001b[0m\u001b[0mdf_final\u001b[0m\u001b[0;34m)\u001b[0m\u001b[0;34m\u001b[0m\u001b[0;34m\u001b[0m\u001b[0m\n\u001b[1;32m     30\u001b[0m         \u001b[0mmodels_cls\u001b[0m \u001b[0;34m=\u001b[0m  \u001b[0mclfutils\u001b[0m\u001b[0;34m.\u001b[0m\u001b[0mFitModels\u001b[0m\u001b[0;34m(\u001b[0m\u001b[0mX_train\u001b[0m\u001b[0;34m,\u001b[0m \u001b[0my_labels_train\u001b[0m\u001b[0;34m)\u001b[0m\u001b[0;34m\u001b[0m\u001b[0;34m\u001b[0m\u001b[0m\n\u001b[0;32m---> 31\u001b[0;31m         \u001b[0mbest_svc_dict\u001b[0m\u001b[0;34m[\u001b[0m\u001b[0msymbol\u001b[0m\u001b[0;34m]\u001b[0m\u001b[0;34m[\u001b[0m\u001b[0mjoint_key_date\u001b[0m\u001b[0;34m]\u001b[0m \u001b[0;34m=\u001b[0m \u001b[0;34m{\u001b[0m\u001b[0;34m'SVC'\u001b[0m\u001b[0;34m:\u001b[0m \u001b[0mmodels_cls\u001b[0m\u001b[0;34m.\u001b[0m\u001b[0mbest_svc_clf\u001b[0m\u001b[0;34m(\u001b[0m\u001b[0;34m)\u001b[0m\u001b[0;34m}\u001b[0m\u001b[0;34m\u001b[0m\u001b[0;34m\u001b[0m\u001b[0m\n\u001b[0m\u001b[1;32m     32\u001b[0m \u001b[0;34m\u001b[0m\u001b[0m\n\u001b[1;32m     33\u001b[0m \u001b[0;34m\u001b[0m\u001b[0m\n",
      "\u001b[0;32m~/Documents/Research/PaperCode/singlekernelclf/clfutils/__init__.py\u001b[0m in \u001b[0;36mbest_svc_clf\u001b[0;34m(self)\u001b[0m\n\u001b[1;32m     37\u001b[0m \u001b[0;34m\u001b[0m\u001b[0m\n\u001b[1;32m     38\u001b[0m         \u001b[0mclf\u001b[0m \u001b[0;34m=\u001b[0m \u001b[0mGridSearchCV\u001b[0m\u001b[0;34m(\u001b[0m\u001b[0mSVC\u001b[0m\u001b[0;34m(\u001b[0m\u001b[0mclass_weight\u001b[0m\u001b[0;34m=\u001b[0m\u001b[0;34m'balanced'\u001b[0m\u001b[0;34m)\u001b[0m\u001b[0;34m,\u001b[0m \u001b[0mparam_grid\u001b[0m\u001b[0;34m,\u001b[0m \u001b[0mverbose\u001b[0m\u001b[0;34m=\u001b[0m\u001b[0;36m1\u001b[0m\u001b[0;34m,\u001b[0m \u001b[0mn_jobs\u001b[0m\u001b[0;34m=\u001b[0m\u001b[0;34m-\u001b[0m\u001b[0;36m1\u001b[0m\u001b[0;34m,\u001b[0m \u001b[0mcv\u001b[0m\u001b[0;34m=\u001b[0m\u001b[0;36m5\u001b[0m\u001b[0;34m)\u001b[0m\u001b[0;34m\u001b[0m\u001b[0;34m\u001b[0m\u001b[0m\n\u001b[0;32m---> 39\u001b[0;31m         \u001b[0mclf\u001b[0m \u001b[0;34m=\u001b[0m \u001b[0mclf\u001b[0m\u001b[0;34m.\u001b[0m\u001b[0mfit\u001b[0m\u001b[0;34m(\u001b[0m\u001b[0mself\u001b[0m\u001b[0;34m.\u001b[0m\u001b[0mX_train\u001b[0m\u001b[0;34m,\u001b[0m \u001b[0mself\u001b[0m\u001b[0;34m.\u001b[0m\u001b[0my_train\u001b[0m\u001b[0;34m)\u001b[0m\u001b[0;34m\u001b[0m\u001b[0;34m\u001b[0m\u001b[0m\n\u001b[0m\u001b[1;32m     40\u001b[0m         \u001b[0;32mreturn\u001b[0m \u001b[0mclf\u001b[0m\u001b[0;34m\u001b[0m\u001b[0;34m\u001b[0m\u001b[0m\n\u001b[1;32m     41\u001b[0m \u001b[0;34m\u001b[0m\u001b[0m\n",
      "\u001b[0;32m~/Envs/resrPyth3/lib/python3.6/site-packages/sklearn/model_selection/_search.py\u001b[0m in \u001b[0;36mfit\u001b[0;34m(self, X, y, groups, **fit_params)\u001b[0m\n\u001b[1;32m    686\u001b[0m                 \u001b[0;32mreturn\u001b[0m \u001b[0mresults\u001b[0m\u001b[0;34m\u001b[0m\u001b[0;34m\u001b[0m\u001b[0m\n\u001b[1;32m    687\u001b[0m \u001b[0;34m\u001b[0m\u001b[0m\n\u001b[0;32m--> 688\u001b[0;31m             \u001b[0mself\u001b[0m\u001b[0;34m.\u001b[0m\u001b[0m_run_search\u001b[0m\u001b[0;34m(\u001b[0m\u001b[0mevaluate_candidates\u001b[0m\u001b[0;34m)\u001b[0m\u001b[0;34m\u001b[0m\u001b[0;34m\u001b[0m\u001b[0m\n\u001b[0m\u001b[1;32m    689\u001b[0m \u001b[0;34m\u001b[0m\u001b[0m\n\u001b[1;32m    690\u001b[0m         \u001b[0;31m# For multi-metric evaluation, store the best_index_, best_params_ and\u001b[0m\u001b[0;34m\u001b[0m\u001b[0;34m\u001b[0m\u001b[0;34m\u001b[0m\u001b[0m\n",
      "\u001b[0;32m~/Envs/resrPyth3/lib/python3.6/site-packages/sklearn/model_selection/_search.py\u001b[0m in \u001b[0;36m_run_search\u001b[0;34m(self, evaluate_candidates)\u001b[0m\n\u001b[1;32m   1147\u001b[0m     \u001b[0;32mdef\u001b[0m \u001b[0m_run_search\u001b[0m\u001b[0;34m(\u001b[0m\u001b[0mself\u001b[0m\u001b[0;34m,\u001b[0m \u001b[0mevaluate_candidates\u001b[0m\u001b[0;34m)\u001b[0m\u001b[0;34m:\u001b[0m\u001b[0;34m\u001b[0m\u001b[0;34m\u001b[0m\u001b[0m\n\u001b[1;32m   1148\u001b[0m         \u001b[0;34m\"\"\"Search all candidates in param_grid\"\"\"\u001b[0m\u001b[0;34m\u001b[0m\u001b[0;34m\u001b[0m\u001b[0m\n\u001b[0;32m-> 1149\u001b[0;31m         \u001b[0mevaluate_candidates\u001b[0m\u001b[0;34m(\u001b[0m\u001b[0mParameterGrid\u001b[0m\u001b[0;34m(\u001b[0m\u001b[0mself\u001b[0m\u001b[0;34m.\u001b[0m\u001b[0mparam_grid\u001b[0m\u001b[0;34m)\u001b[0m\u001b[0;34m)\u001b[0m\u001b[0;34m\u001b[0m\u001b[0;34m\u001b[0m\u001b[0m\n\u001b[0m\u001b[1;32m   1150\u001b[0m \u001b[0;34m\u001b[0m\u001b[0m\n\u001b[1;32m   1151\u001b[0m \u001b[0;34m\u001b[0m\u001b[0m\n",
      "\u001b[0;32m~/Envs/resrPyth3/lib/python3.6/site-packages/sklearn/model_selection/_search.py\u001b[0m in \u001b[0;36mevaluate_candidates\u001b[0;34m(candidate_params)\u001b[0m\n\u001b[1;32m    665\u001b[0m                                \u001b[0;32mfor\u001b[0m \u001b[0mparameters\u001b[0m\u001b[0;34m,\u001b[0m \u001b[0;34m(\u001b[0m\u001b[0mtrain\u001b[0m\u001b[0;34m,\u001b[0m \u001b[0mtest\u001b[0m\u001b[0;34m)\u001b[0m\u001b[0;34m\u001b[0m\u001b[0;34m\u001b[0m\u001b[0m\n\u001b[1;32m    666\u001b[0m                                in product(candidate_params,\n\u001b[0;32m--> 667\u001b[0;31m                                           cv.split(X, y, groups)))\n\u001b[0m\u001b[1;32m    668\u001b[0m \u001b[0;34m\u001b[0m\u001b[0m\n\u001b[1;32m    669\u001b[0m                 \u001b[0;32mif\u001b[0m \u001b[0mlen\u001b[0m\u001b[0;34m(\u001b[0m\u001b[0mout\u001b[0m\u001b[0;34m)\u001b[0m \u001b[0;34m<\u001b[0m \u001b[0;36m1\u001b[0m\u001b[0;34m:\u001b[0m\u001b[0;34m\u001b[0m\u001b[0;34m\u001b[0m\u001b[0m\n",
      "\u001b[0;32m~/Envs/resrPyth3/lib/python3.6/site-packages/joblib/parallel.py\u001b[0m in \u001b[0;36m__call__\u001b[0;34m(self, iterable)\u001b[0m\n\u001b[1;32m    932\u001b[0m \u001b[0;34m\u001b[0m\u001b[0m\n\u001b[1;32m    933\u001b[0m             \u001b[0;32mwith\u001b[0m \u001b[0mself\u001b[0m\u001b[0;34m.\u001b[0m\u001b[0m_backend\u001b[0m\u001b[0;34m.\u001b[0m\u001b[0mretrieval_context\u001b[0m\u001b[0;34m(\u001b[0m\u001b[0;34m)\u001b[0m\u001b[0;34m:\u001b[0m\u001b[0;34m\u001b[0m\u001b[0;34m\u001b[0m\u001b[0m\n\u001b[0;32m--> 934\u001b[0;31m                 \u001b[0mself\u001b[0m\u001b[0;34m.\u001b[0m\u001b[0mretrieve\u001b[0m\u001b[0;34m(\u001b[0m\u001b[0;34m)\u001b[0m\u001b[0;34m\u001b[0m\u001b[0;34m\u001b[0m\u001b[0m\n\u001b[0m\u001b[1;32m    935\u001b[0m             \u001b[0;31m# Make sure that we get a last message telling us we are done\u001b[0m\u001b[0;34m\u001b[0m\u001b[0;34m\u001b[0m\u001b[0;34m\u001b[0m\u001b[0m\n\u001b[1;32m    936\u001b[0m             \u001b[0melapsed_time\u001b[0m \u001b[0;34m=\u001b[0m \u001b[0mtime\u001b[0m\u001b[0;34m.\u001b[0m\u001b[0mtime\u001b[0m\u001b[0;34m(\u001b[0m\u001b[0;34m)\u001b[0m \u001b[0;34m-\u001b[0m \u001b[0mself\u001b[0m\u001b[0;34m.\u001b[0m\u001b[0m_start_time\u001b[0m\u001b[0;34m\u001b[0m\u001b[0;34m\u001b[0m\u001b[0m\n",
      "\u001b[0;32m~/Envs/resrPyth3/lib/python3.6/site-packages/joblib/parallel.py\u001b[0m in \u001b[0;36mretrieve\u001b[0;34m(self)\u001b[0m\n\u001b[1;32m    831\u001b[0m             \u001b[0;32mtry\u001b[0m\u001b[0;34m:\u001b[0m\u001b[0;34m\u001b[0m\u001b[0;34m\u001b[0m\u001b[0m\n\u001b[1;32m    832\u001b[0m                 \u001b[0;32mif\u001b[0m \u001b[0mgetattr\u001b[0m\u001b[0;34m(\u001b[0m\u001b[0mself\u001b[0m\u001b[0;34m.\u001b[0m\u001b[0m_backend\u001b[0m\u001b[0;34m,\u001b[0m \u001b[0;34m'supports_timeout'\u001b[0m\u001b[0;34m,\u001b[0m \u001b[0;32mFalse\u001b[0m\u001b[0;34m)\u001b[0m\u001b[0;34m:\u001b[0m\u001b[0;34m\u001b[0m\u001b[0;34m\u001b[0m\u001b[0m\n\u001b[0;32m--> 833\u001b[0;31m                     \u001b[0mself\u001b[0m\u001b[0;34m.\u001b[0m\u001b[0m_output\u001b[0m\u001b[0;34m.\u001b[0m\u001b[0mextend\u001b[0m\u001b[0;34m(\u001b[0m\u001b[0mjob\u001b[0m\u001b[0;34m.\u001b[0m\u001b[0mget\u001b[0m\u001b[0;34m(\u001b[0m\u001b[0mtimeout\u001b[0m\u001b[0;34m=\u001b[0m\u001b[0mself\u001b[0m\u001b[0;34m.\u001b[0m\u001b[0mtimeout\u001b[0m\u001b[0;34m)\u001b[0m\u001b[0;34m)\u001b[0m\u001b[0;34m\u001b[0m\u001b[0;34m\u001b[0m\u001b[0m\n\u001b[0m\u001b[1;32m    834\u001b[0m                 \u001b[0;32melse\u001b[0m\u001b[0;34m:\u001b[0m\u001b[0;34m\u001b[0m\u001b[0;34m\u001b[0m\u001b[0m\n\u001b[1;32m    835\u001b[0m                     \u001b[0mself\u001b[0m\u001b[0;34m.\u001b[0m\u001b[0m_output\u001b[0m\u001b[0;34m.\u001b[0m\u001b[0mextend\u001b[0m\u001b[0;34m(\u001b[0m\u001b[0mjob\u001b[0m\u001b[0;34m.\u001b[0m\u001b[0mget\u001b[0m\u001b[0;34m(\u001b[0m\u001b[0;34m)\u001b[0m\u001b[0;34m)\u001b[0m\u001b[0;34m\u001b[0m\u001b[0;34m\u001b[0m\u001b[0m\n",
      "\u001b[0;32m~/Envs/resrPyth3/lib/python3.6/site-packages/joblib/_parallel_backends.py\u001b[0m in \u001b[0;36mwrap_future_result\u001b[0;34m(future, timeout)\u001b[0m\n\u001b[1;32m    519\u001b[0m         AsyncResults.get from multiprocessing.\"\"\"\n\u001b[1;32m    520\u001b[0m         \u001b[0;32mtry\u001b[0m\u001b[0;34m:\u001b[0m\u001b[0;34m\u001b[0m\u001b[0;34m\u001b[0m\u001b[0m\n\u001b[0;32m--> 521\u001b[0;31m             \u001b[0;32mreturn\u001b[0m \u001b[0mfuture\u001b[0m\u001b[0;34m.\u001b[0m\u001b[0mresult\u001b[0m\u001b[0;34m(\u001b[0m\u001b[0mtimeout\u001b[0m\u001b[0;34m=\u001b[0m\u001b[0mtimeout\u001b[0m\u001b[0;34m)\u001b[0m\u001b[0;34m\u001b[0m\u001b[0;34m\u001b[0m\u001b[0m\n\u001b[0m\u001b[1;32m    522\u001b[0m         \u001b[0;32mexcept\u001b[0m \u001b[0mLokyTimeoutError\u001b[0m\u001b[0;34m:\u001b[0m\u001b[0;34m\u001b[0m\u001b[0;34m\u001b[0m\u001b[0m\n\u001b[1;32m    523\u001b[0m             \u001b[0;32mraise\u001b[0m \u001b[0mTimeoutError\u001b[0m\u001b[0;34m(\u001b[0m\u001b[0;34m)\u001b[0m\u001b[0;34m\u001b[0m\u001b[0;34m\u001b[0m\u001b[0m\n",
      "\u001b[0;32m/usr/lib/python3.6/concurrent/futures/_base.py\u001b[0m in \u001b[0;36mresult\u001b[0;34m(self, timeout)\u001b[0m\n\u001b[1;32m    425\u001b[0m                 \u001b[0;32mreturn\u001b[0m \u001b[0mself\u001b[0m\u001b[0;34m.\u001b[0m\u001b[0m__get_result\u001b[0m\u001b[0;34m(\u001b[0m\u001b[0;34m)\u001b[0m\u001b[0;34m\u001b[0m\u001b[0;34m\u001b[0m\u001b[0m\n\u001b[1;32m    426\u001b[0m \u001b[0;34m\u001b[0m\u001b[0m\n\u001b[0;32m--> 427\u001b[0;31m             \u001b[0mself\u001b[0m\u001b[0;34m.\u001b[0m\u001b[0m_condition\u001b[0m\u001b[0;34m.\u001b[0m\u001b[0mwait\u001b[0m\u001b[0;34m(\u001b[0m\u001b[0mtimeout\u001b[0m\u001b[0;34m)\u001b[0m\u001b[0;34m\u001b[0m\u001b[0;34m\u001b[0m\u001b[0m\n\u001b[0m\u001b[1;32m    428\u001b[0m \u001b[0;34m\u001b[0m\u001b[0m\n\u001b[1;32m    429\u001b[0m             \u001b[0;32mif\u001b[0m \u001b[0mself\u001b[0m\u001b[0;34m.\u001b[0m\u001b[0m_state\u001b[0m \u001b[0;32min\u001b[0m \u001b[0;34m[\u001b[0m\u001b[0mCANCELLED\u001b[0m\u001b[0;34m,\u001b[0m \u001b[0mCANCELLED_AND_NOTIFIED\u001b[0m\u001b[0;34m]\u001b[0m\u001b[0;34m:\u001b[0m\u001b[0;34m\u001b[0m\u001b[0;34m\u001b[0m\u001b[0m\n",
      "\u001b[0;32m/usr/lib/python3.6/threading.py\u001b[0m in \u001b[0;36mwait\u001b[0;34m(self, timeout)\u001b[0m\n\u001b[1;32m    293\u001b[0m         \u001b[0;32mtry\u001b[0m\u001b[0;34m:\u001b[0m    \u001b[0;31m# restore state no matter what (e.g., KeyboardInterrupt)\u001b[0m\u001b[0;34m\u001b[0m\u001b[0;34m\u001b[0m\u001b[0m\n\u001b[1;32m    294\u001b[0m             \u001b[0;32mif\u001b[0m \u001b[0mtimeout\u001b[0m \u001b[0;32mis\u001b[0m \u001b[0;32mNone\u001b[0m\u001b[0;34m:\u001b[0m\u001b[0;34m\u001b[0m\u001b[0;34m\u001b[0m\u001b[0m\n\u001b[0;32m--> 295\u001b[0;31m                 \u001b[0mwaiter\u001b[0m\u001b[0;34m.\u001b[0m\u001b[0macquire\u001b[0m\u001b[0;34m(\u001b[0m\u001b[0;34m)\u001b[0m\u001b[0;34m\u001b[0m\u001b[0;34m\u001b[0m\u001b[0m\n\u001b[0m\u001b[1;32m    296\u001b[0m                 \u001b[0mgotit\u001b[0m \u001b[0;34m=\u001b[0m \u001b[0;32mTrue\u001b[0m\u001b[0;34m\u001b[0m\u001b[0;34m\u001b[0m\u001b[0m\n\u001b[1;32m    297\u001b[0m             \u001b[0;32melse\u001b[0m\u001b[0;34m:\u001b[0m\u001b[0;34m\u001b[0m\u001b[0;34m\u001b[0m\u001b[0m\n",
      "\u001b[0;31mKeyboardInterrupt\u001b[0m: "
     ]
    }
   ],
   "source": [
    "\n",
    "    data_cls = AlternateLabelFeaturesLoader(path_main=dataDrive, symbol=jointLocsSymbols[symbol_idx],\n",
    "                                            alternate_label_idx=alternate_label_idx,\n",
    "                                            jointLocationsPickleInput=jointLocationsPickleFolder)\n",
    "    jointLocationsDictionary = (data_cls.load_pickled_in_filename(data_cls.return_pickled_dict()))\n",
    "    joint_keys = data_cls.joint_loc_pickle_keys(data_cls.return_pickled_dict())\n",
    "    logmemoryusage(\"Before garbage collect\")\n",
    "    gc.collect()  # continue\n",
    "    for joint_key_idx, joint_key_date in enumerate(joint_keys):\n",
    "        # this is a date - and we will enumerate through the keys\n",
    "        # getting features and labels\n",
    "        logmemoryusage(\"Before feature creation\")\n",
    "        features, labels = ticker_features_labels(jointLocationsDictionary[joint_keys[joint_key_idx]])\n",
    "        print(joint_key_date)\n",
    "        label_name = str(labels.columns[labels.columns.str.contains(pat='label')].values[0])\n",
    "        features_df = hmm_features_df(features)  # features data-frame - this just unbundles the features into a dataframe\n",
    "        # lets get all the features in order now#\n",
    "        market_features_df = CreateMarketFeatures(\n",
    "                CreateMarketFeatures(CreateMarketFeatures(df=CreateMarketFeatures(df=labels).ma_spread_duration())\n",
    "                                     .ma_spread()).chaikin_mf()).obv_calc()  # market features dataframe\n",
    "        df_concat = pd.DataFrame(pd.concat([features_df, market_features_df], axis=1, sort='False').dropna())\n",
    "        df = df_concat[df_concat[label_name].notna()]\n",
    "        df_final = df.drop(columns=['TradedPrice', 'Duration', 'TradedTime', 'ReturnTradedPrice', \\\n",
    "                                                           'Volume', label_name])\n",
    "        y_labels_train = df[df.columns[df.columns.str.contains(pat='label')]].iloc[:, 0]\n",
    "        if df_final.shape[0] < 10:\n",
    "            print(' the ratio of classes is too low. try another label permutation')\n",
    "            continue\n",
    "        else:\n",
    "            X_train = MinMaxScaler().fit_transform(df_final)\n",
    "            models_cls =  clfutils.FitModels(X_train, y_labels_train)\n",
    "            best_svc_dict[symbol][joint_key_date] = {'SVC': models_cls.best_svc_clf()}\n",
    "\n",
    "        \n"
   ]
  },
  {
   "cell_type": "code",
   "execution_count": null,
   "metadata": {},
   "outputs": [],
   "source": []
  }
 ],
 "metadata": {
  "kernelspec": {
   "display_name": "Python 3",
   "language": "python",
   "name": "python3"
  },
  "language_info": {
   "codemirror_mode": {
    "name": "ipython",
    "version": 3
   },
   "file_extension": ".py",
   "mimetype": "text/x-python",
   "name": "python",
   "nbconvert_exporter": "python",
   "pygments_lexer": "ipython3",
   "version": "3.6.8"
  },
  "latex_envs": {
   "LaTeX_envs_menu_present": true,
   "autoclose": false,
   "autocomplete": true,
   "bibliofile": "biblio.bib",
   "cite_by": "apalike",
   "current_citInitial": 1,
   "eqLabelWithNumbers": true,
   "eqNumInitial": 1,
   "hotkeys": {
    "equation": "Ctrl-E",
    "itemize": "Ctrl-I"
   },
   "labels_anchors": false,
   "latex_user_defs": false,
   "report_style_numbering": false,
   "user_envs_cfg": false
  }
 },
 "nbformat": 4,
 "nbformat_minor": 2
}
