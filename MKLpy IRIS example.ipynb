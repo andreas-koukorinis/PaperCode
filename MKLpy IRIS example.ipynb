{
 "cells": [
  {
   "cell_type": "code",
   "execution_count": 20,
   "metadata": {},
   "outputs": [
    {
     "name": "stdout",
     "output_type": "stream",
     "text": [
      "loading 'iris' (multiclass) dataset...done\n"
     ]
    }
   ],
   "source": [
    "'''\n",
    "This is a snippet of code showing how to select the hyper-parameters\n",
    "of a MKL method using boolean kernels\n",
    "Author: Ivano Lauriola, ivano.lauriola@phd.unipd.it\n",
    "'''\n",
    "import MKLpy\n",
    "import pandas as pd\n",
    "import numpy as np\n",
    "import sklearn.svm as svm\n",
    "import pickle\n",
    "import os\n",
    "import pandas as pd\n",
    "import numpy as np\n",
    "from sklearn.preprocessing import StandardScaler\n",
    "from sklearn.preprocessing import MinMaxScaler\n",
    "from sklearn.model_selection import train_test_split\n",
    "from sklearn.model_selection import GridSearchCV\n",
    "from sklearn.ensemble import RandomForestRegressor, GradientBoostingRegressor\n",
    "from sklearn.kernel_ridge import KernelRidge\n",
    "from sklearn.metrics import accuracy_score, confusion_matrix, classification_report, precision_recall_fscore_support\n",
    "from sklearn.model_selection import KFold, cross_val_score\n",
    "from sklearn.multiclass import OneVsRestClassifier  # support from multiclass\n",
    "import time\n",
    "from sklearn.svm import SVC\n",
    "\n",
    "\n",
    "\n",
    "#load data\n",
    "print ('loading \\'iris\\' (multiclass) dataset...', end='')\n",
    "from sklearn.datasets import load_iris\n",
    "ds = load_iris()\n",
    "X,Y = ds.data, ds.target\n",
    "\n",
    "'''\n",
    "WARNING: be sure that your matrix is not sparse! EXAMPLE:\n",
    "from sklearn.datasets import load_svmlight_file\n",
    "X,Y = load_svmlight_file(...)\n",
    "X = X.toarray()\n",
    "'''\n",
    "\n",
    "print ('done')"
   ]
  },
  {
   "cell_type": "code",
   "execution_count": 46,
   "metadata": {},
   "outputs": [],
   "source": [
    "def open_pickle_file(path, pickle_file):\n",
    "    file_loc = os.path.join(path, pickle_file)\n",
    "    pickle_to_file = pickle.load(open(file_loc, \"rb\"))\n",
    "    return pickle_to_file"
   ]
  },
  {
   "cell_type": "code",
   "execution_count": 47,
   "metadata": {},
   "outputs": [
    {
     "data": {
      "text/plain": [
       "(569, 30)"
      ]
     },
     "execution_count": 47,
     "metadata": {},
     "output_type": "execute_result"
    }
   ],
   "source": [
    "X.shape"
   ]
  },
  {
   "cell_type": "code",
   "execution_count": 48,
   "metadata": {},
   "outputs": [
    {
     "name": "stdout",
     "output_type": "stream",
     "text": [
      "preprocessing data...done\n",
      "computing monotone Conjunctive Kernels...done\n"
     ]
    }
   ],
   "source": [
    "#preprocess data\n",
    "print ('preprocessing data...', end='')\n",
    "#boolean kernels can be applied on binary-valued data, i.e. {0,1}.\n",
    "#in this example, we binarize a real-valued dataset\n",
    "#in this example, we binarize a real-valued dataset\n",
    "from MKLpy.preprocessing import binarization\n",
    "binarizer = binarization.AverageBinarizer()\n",
    "Xbin = binarizer.fit_transform(X,Y)\n",
    "print ('done')\n",
    "\n",
    "#compute normalized homogeneous polynomial kernels with degrees 0,1,2,...,10.\n",
    "print ('computing monotone Conjunctive Kernels...', end='')\n",
    "from MKLpy.metrics import pairwise\n",
    "from MKLpy.preprocessing import kernel_normalization\n",
    "#WARNING: the maximum arity of the conjunctive kernel depends on the number of active variables for each example,\n",
    "# that is 4 in the case of iris dataset binarized\n",
    "KL = [kernel_normalization(pairwise.monotone_conjunctive_kernel(Xbin, c=c)) for c in range(5)]\n",
    "print ('done')"
   ]
  },
  {
   "cell_type": "code",
   "execution_count": 49,
   "metadata": {},
   "outputs": [
    {
     "name": "stdout",
     "output_type": "stream",
     "text": [
      "tuning lambda for EasyMKL..."
     ]
    }
   ],
   "source": [
    "\n",
    "#train/test KL split (N.B. here we split a kernel list directly)\n",
    "from MKLpy.model_selection import train_test_split\n",
    "KLtr,KLte,Ytr,Yte = train_test_split(KL, Y, test_size=.3, random_state=42)\n",
    "\n",
    "#MKL algorithms\n",
    "from MKLpy.algorithms import EasyMKL, KOMD\t#KOMD is not a MKL algorithm but a simple kernel machine like the SVM\n",
    "from MKLpy.model_selection import cross_val_score, cross_val_predict\n",
    "from sklearn.svm import SVC\n",
    "import numpy as np\n",
    "print ('tuning lambda for EasyMKL...', end='')\n",
    "base_learner = SVC(C=10000)\t#simil hard-margin svm\n",
    "best_results = {}\n"
   ]
  },
  {
   "cell_type": "code",
   "execution_count": 50,
   "metadata": {},
   "outputs": [
    {
     "name": "stdout",
     "output_type": "stream",
     "text": [
      "training AverageMKL...done\n",
      "[0.2 0.2 0.2 0.2 0.2]\n",
      "training EasyMKL...done\n",
      "[-9.71714556e-17  6.14493694e-02  1.64774518e-01  3.03677199e-01\n",
      "  4.70098913e-01]\n"
     ]
    }
   ],
   "source": [
    "\n",
    "#MKL algorithms\n",
    "from MKLpy.algorithms import AverageMKL, EasyMKL, KOMD\t#KOMD is not a MKL algorithm but a simple kernel machine like the SVM\n",
    "# #select the base-learner\n",
    "# #MKL algorithms use a hard-margin as base learned (or KOMD in the case of EasyMKL). It is possible to define a different base learner\n",
    "# from sklearn.svm import SVC\n",
    "# base_learner = SVC(C=0.1)\n",
    "# clf = EasyMKL(learner=base_learner)\n",
    "# clf = clf.fit(KLtr,Ytr)\n",
    "print ('training AverageMKL...', end='')\n",
    "clf = AverageMKL().fit(KLtr,Ytr)\t#a wrapper for averaging kernels\n",
    "print ('done')\n",
    "print(clf.weights)\t\t\t#print the weights of the combination of base kernels\n",
    "K_average = clf.ker_matrix\t#the combined kernel matrix\n",
    "\n",
    "\n",
    "print ('training EasyMKL...', end='')\n",
    "clf = EasyMKL(lam=0.1).fit(KLtr,Ytr)\t\t#combining kernels with the EasyMKL algorithm\n",
    "#lam is a hyper-parameter in [0,1]\n",
    "print ('done')\n",
    "print (clf.weights)\n",
    "\n",
    "# #evaluate the solution\n",
    "# from sklearn.metrics import accuracy_score, roc_auc_score\n",
    "# y_pred = clf.predict(KLte)\t\t\t\t\t#predictions\n",
    "# y_score = clf.decision_function(KLte)\t\t#rank\n",
    "# accuracy = accuracy_score(Yte, y_pred)\n",
    "# roc_auc = roc_auc_score(Yte, y_score)\n",
    "# print ('Accuracy score: %.3f, roc AUC score: %.3f' % (accuracy, roc_auc))\n",
    "\n",
    "\n"
   ]
  },
  {
   "cell_type": "code",
   "execution_count": 51,
   "metadata": {},
   "outputs": [],
   "source": [
    "clf=AverageMKL()"
   ]
  },
  {
   "cell_type": "code",
   "execution_count": null,
   "metadata": {},
   "outputs": [],
   "source": []
  },
  {
   "cell_type": "code",
   "execution_count": 52,
   "metadata": {},
   "outputs": [
    {
     "name": "stdout",
     "output_type": "stream",
     "text": [
      "loading 'iris' dataset...done [3 classes]\n",
      "computing Homogeneous Polynomial Kernels...done\n"
     ]
    }
   ],
   "source": [
    "#load data\n",
    "print ('loading \\'iris\\' dataset...', end='')\n",
    "from sklearn.datasets import load_iris\n",
    "import numpy as np\n",
    "ds = load_iris()\n",
    "X,Y = ds.data, ds.target\n",
    "classes = np.unique(Y)\n",
    "print ('done [%d classes]' % len(classes))\n",
    "\n",
    "'''\n",
    "WARNING: be sure that your matrix is not sparse! EXAMPLE:\n",
    "from sklearn.datasets import load_svmlight_file\n",
    "X,Y = load_svmlight_file(...)\n",
    "X = X.toarray()\n",
    "'''\n",
    "\n",
    "#compute homogeneous polynomial kernels with degrees 0,1,2,...,10.\n",
    "print ('computing Homogeneous Polynomial Kernels...', end='')\n",
    "from MKLpy.metrics import pairwise\n",
    "KL = [pairwise.homogeneous_polynomial_kernel(X, degree=d) for d in range(1,4)]\n",
    "KLconjuctive = [kernel_normalization(pairwise.monotone_conjunctive_kernel(Xbin, c=c)) for c in range(5)]\n",
    "print ('done')\n",
    "\n",
    "\n",
    "# #MKL algorithms\n",
    "# from MKLpy.algorithms import EasyMKL\n",
    "# print ('training EasyMKL...', end='')\n",
    "# clf = EasyMKL(lam=0.1).fit(KL,Y)\t\t#combining kernels with the EasyMKL algorithm\n",
    "# #multiclass_strategy should be 'ovo' for one-vs-one decomposition strategy, and 'ova' for one-vs-all/rest strategy\n",
    "# print ('done')\n",
    "\n",
    "# print (clf.weights)"
   ]
  },
  {
   "cell_type": "code",
   "execution_count": 110,
   "metadata": {},
   "outputs": [
    {
     "data": {
      "text/plain": [
       "(569, 30)"
      ]
     },
     "execution_count": 110,
     "metadata": {},
     "output_type": "execute_result"
    }
   ],
   "source": [
    "X.shape"
   ]
  },
  {
   "cell_type": "code",
   "execution_count": 53,
   "metadata": {},
   "outputs": [
    {
     "name": "stdout",
     "output_type": "stream",
     "text": [
      "loading 'breast cancer' dataset...done\n",
      "preprocessing data...done\n"
     ]
    }
   ],
   "source": [
    "\n",
    "\n",
    "#load data\n",
    "print ('loading \\'breast cancer\\' dataset...', end='')\n",
    "from sklearn.datasets import load_breast_cancer\n",
    "ds = load_breast_cancer()\n",
    "X,Y = ds.data, ds.target\n",
    "print ('done')\n",
    "\n",
    "'''\n",
    "WARNING: be sure that your matrix is not sparse! EXAMPLE:\n",
    "from sklearn.datasets import load_svmlight_file\n",
    "X,Y = load_svmlight_file(...)\n",
    "X = X.toarray()\n",
    "'''\n",
    "\n",
    "#preprocess data\n",
    "print ('preprocessing data...', end='')\n",
    "from MKLpy.preprocessing import normalization, rescale_01\n",
    "X = rescale_01(X) #feature scaling in [0,1]\n",
    "X = normalization(X) #||X_i||_2^2 = 1\n",
    "\n",
    "#train/test split\n",
    "from sklearn.model_selection import train_test_split\n",
    "Xtr,Xte,Ytr,Yte = train_test_split(X,Y, test_size=.25, random_state=42)\n",
    "print ('done')"
   ]
  },
  {
   "cell_type": "code",
   "execution_count": 54,
   "metadata": {},
   "outputs": [
    {
     "data": {
      "text/plain": [
       "(569,)"
      ]
     },
     "execution_count": 54,
     "metadata": {},
     "output_type": "execute_result"
    }
   ],
   "source": [
    "# pd.DataFrame(X), print(np.unique(Y))\n",
    "Y.shape"
   ]
  },
  {
   "cell_type": "code",
   "execution_count": 55,
   "metadata": {},
   "outputs": [
    {
     "name": "stdout",
     "output_type": "stream",
     "text": [
      "computing Homogeneous Polynomial Kernels...done\n"
     ]
    }
   ],
   "source": [
    "#compute homogeneous polynomial kernels with degrees 0,1,2,...,10.\n",
    "print ('computing Homogeneous Polynomial Kernels...', end='')\n",
    "from MKLpy.metrics import pairwise\n",
    "KLtr = [pairwise.homogeneous_polynomial_kernel(Xtr, degree=d) for d in range(11)]\n",
    "KLte = [pairwise.homogeneous_polynomial_kernel(Xte,Xtr, degree=d) for d in range(11)]\n",
    "print ('done')\n"
   ]
  },
  {
   "cell_type": "code",
   "execution_count": 56,
   "metadata": {},
   "outputs": [
    {
     "name": "stdout",
     "output_type": "stream",
     "text": [
      "training AverageMKL...done\n",
      "[0.09090909 0.09090909 0.09090909 0.09090909 0.09090909 0.09090909\n",
      " 0.09090909 0.09090909 0.09090909 0.09090909 0.09090909]\n",
      "training EasyMKL...done\n",
      "[-1.08387208e-24  1.35673700e-02  2.76971359e-02  4.30853034e-02\n",
      "  6.02816730e-02  7.96701534e-02  1.01481855e-01  1.25820437e-01\n",
      "  1.52689783e-01  1.82019528e-01  2.13686761e-01]\n"
     ]
    }
   ],
   "source": [
    "#MKL algorithms\n",
    "from MKLpy.algorithms import AverageMKL, EasyMKL, KOMD\t#KOMD is not a MKL algorithm but a simple kernel machine like the SVM\n",
    "print ('training AverageMKL...', end='')\n",
    "clf = AverageMKL().fit(KLtr,Ytr)\t#a wrapper for averaging kernels\n",
    "print ('done')\n",
    "print(clf.weights)\t\t\t#print the weights of the combination of base kernels\n",
    "K_average = clf.ker_matrix\t#the combined kernel matrix\n",
    "\n",
    "\n",
    "print ('training EasyMKL...', end='')\n",
    "clf = EasyMKL(lam=0.1).fit(KLtr,Ytr)\t\t#combining kernels with the EasyMKL algorithm\n",
    "#lam is a hyper-parameter in [0,1]\n",
    "print ('done')\n",
    "print (clf.weights)"
   ]
  },
  {
   "cell_type": "code",
   "execution_count": 57,
   "metadata": {},
   "outputs": [
    {
     "name": "stdout",
     "output_type": "stream",
     "text": [
      "Accuracy score: 0.923, roc AUC score: 0.988\n"
     ]
    }
   ],
   "source": [
    "#evaluate the solution\n",
    "from sklearn.metrics import accuracy_score, roc_auc_score\n",
    "y_pred = clf.predict(KLte) #predictions\n",
    "y_score = clf.decision_function(KLte) #rank\n",
    "accuracy = accuracy_score(Yte, y_pred)\n",
    "roc_auc = roc_auc_score(Yte, y_score)\n",
    "print ('Accuracy score: %.3f, roc AUC score: %.3f' % (accuracy, roc_auc))\n",
    "\n",
    "\n",
    "#select the base-learner\n",
    "#MKL algorithms use a hard-margin as base learned (or KOMD in the case of EasyMKL). It is possible to define a different base learner\n",
    "from sklearn.svm import SVC\n",
    "base_learner = SVC(C=0.1, kernel='rbf')\n",
    "clf = EasyMKL(learner=base_learner)\n",
    "clf = clf.fit(KLtr,Ytr)"
   ]
  },
  {
   "cell_type": "markdown",
   "metadata": {},
   "source": [
    "clf.predict(KLte)"
   ]
  },
  {
   "cell_type": "code",
   "execution_count": 58,
   "metadata": {},
   "outputs": [],
   "source": [
    "for lam in [0, 0.01, 0.1, 0.2, 0.9, 1]:\t#possible lambda values for the EasyMKL algorithm\n",
    "    #MKLpy.model_selection.cross_val_predict performs the cross validation automatically, it optimizes the accuracy\n",
    "    #the counterpart cross_val_score optimized the roc_auc_score (use score='roc_auc')\n",
    "    #WARNING: these functions will change in the next version\n",
    "    scores = cross_val_predict(KLtr, Ytr, EasyMKL(learner=base_learner, lam=lam), n_folds=5, score='accuracy')\n",
    "    acc = np.mean(scores)\n",
    "    if not best_results or best_results['score'] < acc:\n",
    "        best_results = {'lam' : lam, 'score' : acc}"
   ]
  },
  {
   "cell_type": "code",
   "execution_count": 59,
   "metadata": {},
   "outputs": [
    {
     "name": "stdout",
     "output_type": "stream",
     "text": [
      "done\n",
      "accuracy on the test set: 0.923, with lambda=0.00\n"
     ]
    }
   ],
   "source": [
    "#evaluation on the test set\n",
    "from sklearn.metrics import accuracy_score\n",
    "print ('done')\n",
    "clf = EasyMKL(learner=base_learner, lam=best_results['lam']).fit(KLtr,Ytr)\n",
    "y_pred = clf.predict(KLte)\n",
    "accuracy = accuracy_score(Yte, y_pred)\n",
    "print ('accuracy on the test set: %.3f, with lambda=%.2f' % (accuracy, best_results['lam']))"
   ]
  },
  {
   "cell_type": "code",
   "execution_count": 60,
   "metadata": {},
   "outputs": [],
   "source": [
    "import os\n",
    "\n",
    "#   data_dir: main directory , data_only_drive: the big drive where everything is saved\n",
    "# data only dir: main drive that has the\n",
    "workDrive = '/media/ak/WorkDrive/'\n",
    "mountDrive = '/media/ak/e7ab6eee-f896-4a12-9128-b31bcfb0cd38'  \n",
    "dataOnlyDrive = '/media/ak/DataOnly'# external date only drive'"
   ]
  },
  {
   "cell_type": "code",
   "execution_count": 61,
   "metadata": {},
   "outputs": [
    {
     "data": {
      "text/plain": [
       "['VXX',\n",
       " 'VXX_US_Equity-20181027',\n",
       " 'XM1_Comdty-20181028',\n",
       " 'TY1_Comdty-20181028',\n",
       " 'BTCUSD.PERP.BMEX',\n",
       " 'US1_Comdty-20181028',\n",
       " 'FinData',\n",
       " '.Trash-1000',\n",
       " 'SYNT_2states',\n",
       " 'data for testing',\n",
       " 'raw bloomberg data',\n",
       " 'crypto',\n",
       " 'YM1_Comdty_quotes',\n",
       " 'TU1_Comdty-20181028',\n",
       " 'old models',\n",
       " 'YM1_Comdty-20181028',\n",
       " 'Data',\n",
       " 'YM1_Comdty_trades',\n",
       " 'lost+found']"
      ]
     },
     "execution_count": 61,
     "metadata": {},
     "output_type": "execute_result"
    }
   ],
   "source": [
    "os.listdir(dataOnlyDrive)"
   ]
  },
  {
   "cell_type": "code",
   "execution_count": 62,
   "metadata": {},
   "outputs": [],
   "source": [
    "data_only_drive = '/mnt/usb-Seagate_Expansion_Desk_NA8XEHR6-0:0-part2'  # external date only drive\n",
    "data_dir = os.getenv('FINANCE_DATA')"
   ]
  },
  {
   "cell_type": "code",
   "execution_count": 63,
   "metadata": {
    "scrolled": true
   },
   "outputs": [],
   "source": [
    "\n",
    "labels = os.path.join(data_dir,'Labels')\n",
    "symbols =os.listdir(labels)\n",
    "idxSymbol = 2\n",
    "featuresDates = os.path.join(data_dir,symbols[idxSymbol],'MODEL_BASED')\n",
    "idxDate= 9\n",
    "\n",
    "featuresDateList = os.listdir(os.path.join(data_dir,symbols[idxSymbol],'MODEL_BASED'))\n",
    "\n",
    "\n",
    "featuresDateItems = os.path.join(os.path.join(data_dir,symbols[idxSymbol],'MODEL_BASED'), featuresDateList[3])\n",
    "\n",
    "listFeaturesPickle = os.listdir(featuresDateItems)"
   ]
  },
  {
   "cell_type": "code",
   "execution_count": 64,
   "metadata": {},
   "outputs": [
    {
     "data": {
      "text/plain": [
       "['CNA.L_3_states_features_date:_20171006_now:_20181229_.pickle',\n",
       " 'CNA.L_3_states_features_date:_20171018_now:_20181229_.pickle',\n",
       " 'CNA.L_3_states_features_date:_20180219_now:_20181229_.pickle',\n",
       " 'CNA.L_3_states_features_date:_20171023_now:_20181229_.pickle',\n",
       " 'CNA.L_3_states_features_date:_20180209_now:_20181229_.pickle',\n",
       " 'CNA.L_3_states_features_date:_20180228_now:_20181229_.pickle',\n",
       " 'CNA.L_3_states_features_date:_20180404_now:_20181229_.pickle',\n",
       " 'CNA.L_3_states_features_date:_20170926_now:_20181229_.pickle',\n",
       " 'CNA.L_3_states_features_date:_20180213_now:_20181229_.pickle',\n",
       " 'CNA.L_3_states_features_date:_20171020_now:_20181229_.pickle',\n",
       " 'CNA.L_3_states_features_date:_20171030_now:_20181229_.pickle',\n",
       " 'CNA.L_3_states_features_date:_20180206_now:_20181229_.pickle',\n",
       " 'CNA.L_3_states_features_date:_20180409_now:_20181229_.pickle',\n",
       " 'CNA.L_3_states_features_date:_20171027_now:_20181229_.pickle',\n",
       " 'CNA.L_3_states_features_date:_20180403_now:_20181229_.pickle',\n",
       " 'CNA.L_3_states_features_date:_20180207_now:_20181229_.pickle',\n",
       " 'CNA.L_3_states_features_date:_20171016_now:_20181229_.pickle',\n",
       " 'CNA.L_3_states_features_date:_20180406_now:_20181229_.pickle',\n",
       " 'CNA.L_3_states_features_date:_20180417_now:_20181229_.pickle',\n",
       " 'CNA.L_3_states_features_date:_20170925_now:_20181229_.pickle',\n",
       " 'CNA.L_3_states_features_date:_20170914_now:_20181229_.pickle',\n",
       " 'CNA.L_3_states_features_date:_20171026_now:_20181229_.pickle',\n",
       " 'CNA.L_3_states_features_date:_20171024_now:_20181229_.pickle',\n",
       " 'CNA.L_3_states_features_date:_20180420_now:_20181229_.pickle',\n",
       " 'CNA.L_3_states_features_date:_20170918_now:_20181229_.pickle',\n",
       " 'CNA.L_3_states_features_date:_20180201_now:_20181229_.pickle',\n",
       " 'CNA.L_3_states_features_date:_20180220_now:_20181229_.pickle',\n",
       " 'CNA.L_3_states_features_date:_20180416_now:_20181229_.pickle',\n",
       " 'CNA.L_3_states_features_date:_20171009_now:_20181229_.pickle',\n",
       " 'CNA.L_3_states_features_date:_20180214_now:_20181229_.pickle',\n",
       " 'CNA.L_3_states_features_date:_20170929_now:_20181229_.pickle',\n",
       " 'CNA.L_3_states_features_date:_20170915_now:_20181229_.pickle',\n",
       " 'CNA.L_3_states_features_date:_20171010_now:_20181229_.pickle',\n",
       " 'CNA.L_3_states_features_date:_20170928_now:_20181229_.pickle',\n",
       " 'CNA.L_3_states_features_date:_20171013_now:_20181229_.pickle',\n",
       " 'CNA.L_3_states_features_date:_20171002_now:_20181229_.pickle',\n",
       " 'CNA.L_3_states_features_date:_20170922_now:_20181229_.pickle',\n",
       " 'CNA.L_3_states_features_date:_20171031_now:_20181229_.pickle',\n",
       " 'CNA.L_3_states_features_date:_20171012_now:_20181229_.pickle',\n",
       " 'CNA.L_3_states_features_date:_20180410_now:_20181229_.pickle',\n",
       " 'CNA.L_3_states_features_date:_20180223_now:_20181229_.pickle',\n",
       " 'CNA.L_3_states_features_date:_20170920_now:_20181229_.pickle',\n",
       " 'CNA.L_3_states_features_date:_20180216_now:_20181229_.pickle',\n",
       " 'CNA.L_3_states_features_date:_20180215_now:_20181229_.pickle',\n",
       " 'CNA.L_3_states_features_date:_20180208_now:_20181229_.pickle',\n",
       " 'CNA.L_3_states_features_date:_20180411_now:_20181229_.pickle',\n",
       " 'CNA.L_3_states_features_date:_20171025_now:_20181229_.pickle',\n",
       " 'CNA.L_3_states_features_date:_20171003_now:_20181229_.pickle',\n",
       " 'CNA.L_3_states_features_date:_20171005_now:_20181229_.pickle',\n",
       " 'CNA.L_3_states_features_date:_20180405_now:_20181229_.pickle',\n",
       " 'CNA.L_3_states_features_date:_20180221_now:_20181229_.pickle',\n",
       " 'CNA.L_3_states_features_date:_20171011_now:_20181229_.pickle',\n",
       " 'CNA.L_3_states_features_date:_20180227_now:_20181229_.pickle',\n",
       " 'CNA.L_3_states_features_date:_20180222_now:_20181229_.pickle',\n",
       " 'CNA.L_3_states_features_date:_20171019_now:_20181229_.pickle',\n",
       " 'CNA.L_3_states_features_date:_20170921_now:_20181229_.pickle',\n",
       " 'CNA.L_3_states_features_date:_20180412_now:_20181229_.pickle',\n",
       " 'CNA.L_3_states_features_date:_20180418_now:_20181229_.pickle',\n",
       " 'CNA.L_3_states_features_date:_20180419_now:_20181229_.pickle',\n",
       " 'CNA.L_3_states_features_date:_20180226_now:_20181229_.pickle',\n",
       " 'CNA.L_3_states_features_date:_20171017_now:_20181229_.pickle',\n",
       " 'CNA.L_3_states_features_date:_20171004_now:_20181229_.pickle',\n",
       " 'CNA.L_3_states_features_date:_20170919_now:_20181229_.pickle',\n",
       " 'CNA.L_3_states_features_date:_20180205_now:_20181229_.pickle',\n",
       " 'CNA.L_3_states_features_date:_20180202_now:_20181229_.pickle',\n",
       " 'CNA.L_3_states_features_date:_20180212_now:_20181229_.pickle',\n",
       " 'CNA.L_3_states_features_date:_20170927_now:_20181229_.pickle',\n",
       " 'CNA.L_3_states_features_date:_20180413_now:_20181229_.pickle']"
      ]
     },
     "execution_count": 64,
     "metadata": {},
     "output_type": "execute_result"
    }
   ],
   "source": [
    " \n",
    "os.listdir(featuresDateItems)"
   ]
  },
  {
   "cell_type": "code",
   "execution_count": 65,
   "metadata": {},
   "outputs": [],
   "source": [
    "featuresPickle =os.path.join(featuresDateItems,listFeaturesPickle[0])"
   ]
  },
  {
   "cell_type": "code",
   "execution_count": 66,
   "metadata": {},
   "outputs": [],
   "source": [
    "def get_date_from_file(file_, numb_):\n",
    "    return os.path.splitext(file_[numb_])[0]"
   ]
  },
  {
   "cell_type": "code",
   "execution_count": 67,
   "metadata": {},
   "outputs": [],
   "source": [
    "labelsDate = os.path.splitext(listFeaturesPickle[0])[0].split(\"_\")[5]"
   ]
  },
  {
   "cell_type": "code",
   "execution_count": 68,
   "metadata": {},
   "outputs": [],
   "source": [
    "pickle_to_file = pickle.load(open(featuresPickle, \"rb\"), encoding='latin1')"
   ]
  },
  {
   "cell_type": "code",
   "execution_count": 69,
   "metadata": {},
   "outputs": [],
   "source": [
    "fischerFeatures = pickle_to_file[0]\n",
    "gammaFeatures = pickle_to_file[2]\n",
    "informationFeatures= pickle_to_file[1]\n",
    "ksiFeatures= pickle_to_file[3]\n"
   ]
  },
  {
   "cell_type": "code",
   "execution_count": 70,
   "metadata": {},
   "outputs": [],
   "source": [
    "symbolLabel = os.path.join(labels,symbols[idxSymbol],'NON_DIRECTIONAL')"
   ]
  },
  {
   "cell_type": "code",
   "execution_count": 87,
   "metadata": {},
   "outputs": [
    {
     "data": {
      "text/html": [
       "<div>\n",
       "<style scoped>\n",
       "    .dataframe tbody tr th:only-of-type {\n",
       "        vertical-align: middle;\n",
       "    }\n",
       "\n",
       "    .dataframe tbody tr th {\n",
       "        vertical-align: top;\n",
       "    }\n",
       "\n",
       "    .dataframe thead th {\n",
       "        text-align: right;\n",
       "    }\n",
       "</style>\n",
       "<table border=\"1\" class=\"dataframe\">\n",
       "  <thead>\n",
       "    <tr style=\"text-align: right;\">\n",
       "      <th></th>\n",
       "      <th>fischer_score_dlambda</th>\n",
       "      <th>fischer_score_dsigma</th>\n",
       "      <th>fischer_score_dweight</th>\n",
       "    </tr>\n",
       "  </thead>\n",
       "  <tbody>\n",
       "    <tr>\n",
       "      <td>0</td>\n",
       "      <td>2.624230e-16</td>\n",
       "      <td>0.000000</td>\n",
       "      <td>1.169507</td>\n",
       "    </tr>\n",
       "    <tr>\n",
       "      <td>1</td>\n",
       "      <td>1.435258e+01</td>\n",
       "      <td>-2237.318650</td>\n",
       "      <td>-1.815221</td>\n",
       "    </tr>\n",
       "    <tr>\n",
       "      <td>2</td>\n",
       "      <td>3.245063e+01</td>\n",
       "      <td>-4479.369060</td>\n",
       "      <td>-4.803551</td>\n",
       "    </tr>\n",
       "    <tr>\n",
       "      <td>3</td>\n",
       "      <td>5.163437e+01</td>\n",
       "      <td>-4481.338888</td>\n",
       "      <td>-3.297853</td>\n",
       "    </tr>\n",
       "    <tr>\n",
       "      <td>4</td>\n",
       "      <td>7.046081e+01</td>\n",
       "      <td>-3919.231495</td>\n",
       "      <td>-6.284311</td>\n",
       "    </tr>\n",
       "    <tr>\n",
       "      <td>...</td>\n",
       "      <td>...</td>\n",
       "      <td>...</td>\n",
       "      <td>...</td>\n",
       "    </tr>\n",
       "    <tr>\n",
       "      <td>3335</td>\n",
       "      <td>3.650906e+04</td>\n",
       "      <td>824452.905449</td>\n",
       "      <td>-1049.424133</td>\n",
       "    </tr>\n",
       "    <tr>\n",
       "      <td>3336</td>\n",
       "      <td>3.653781e+04</td>\n",
       "      <td>825583.945390</td>\n",
       "      <td>-1052.242669</td>\n",
       "    </tr>\n",
       "    <tr>\n",
       "      <td>3337</td>\n",
       "      <td>3.657620e+04</td>\n",
       "      <td>839426.960859</td>\n",
       "      <td>-1054.973891</td>\n",
       "    </tr>\n",
       "    <tr>\n",
       "      <td>3338</td>\n",
       "      <td>3.630492e+04</td>\n",
       "      <td>828852.744933</td>\n",
       "      <td>-1055.223745</td>\n",
       "    </tr>\n",
       "    <tr>\n",
       "      <td>3339</td>\n",
       "      <td>3.639802e+04</td>\n",
       "      <td>828754.054984</td>\n",
       "      <td>-1056.802543</td>\n",
       "    </tr>\n",
       "  </tbody>\n",
       "</table>\n",
       "<p>3340 rows × 3 columns</p>\n",
       "</div>"
      ],
      "text/plain": [
       "      fischer_score_dlambda  fischer_score_dsigma  fischer_score_dweight\n",
       "0              2.624230e-16              0.000000               1.169507\n",
       "1              1.435258e+01          -2237.318650              -1.815221\n",
       "2              3.245063e+01          -4479.369060              -4.803551\n",
       "3              5.163437e+01          -4481.338888              -3.297853\n",
       "4              7.046081e+01          -3919.231495              -6.284311\n",
       "...                     ...                   ...                    ...\n",
       "3335           3.650906e+04         824452.905449           -1049.424133\n",
       "3336           3.653781e+04         825583.945390           -1052.242669\n",
       "3337           3.657620e+04         839426.960859           -1054.973891\n",
       "3338           3.630492e+04         828852.744933           -1055.223745\n",
       "3339           3.639802e+04         828754.054984           -1056.802543\n",
       "\n",
       "[3340 rows x 3 columns]"
      ]
     },
     "execution_count": 87,
     "metadata": {},
     "output_type": "execute_result"
    }
   ],
   "source": []
  },
  {
   "cell_type": "code",
   "execution_count": 72,
   "metadata": {},
   "outputs": [],
   "source": [
    "labelsFile = os.path.join(symbolLabel,labelsDate+\".csv\")"
   ]
  },
  {
   "cell_type": "code",
   "execution_count": 82,
   "metadata": {},
   "outputs": [],
   "source": [
    "labelsDf= pd.read_csv(labelsFile).fillna(0)"
   ]
  },
  {
   "cell_type": "code",
   "execution_count": 84,
   "metadata": {},
   "outputs": [],
   "source": [
    "labels =labelsDf['label_PrMov__window_5__thres_arbitrary__0.1']"
   ]
  },
  {
   "cell_type": "code",
   "execution_count": 86,
   "metadata": {},
   "outputs": [],
   "source": [
    "Y_all = labels"
   ]
  },
  {
   "cell_type": "code",
   "execution_count": 111,
   "metadata": {},
   "outputs": [],
   "source": [
    "X_all = np.asarray(fischerFeatures)"
   ]
  },
  {
   "cell_type": "code",
   "execution_count": 112,
   "metadata": {},
   "outputs": [
    {
     "data": {
      "text/plain": [
       "(3340, 3)"
      ]
     },
     "execution_count": 112,
     "metadata": {},
     "output_type": "execute_result"
    }
   ],
   "source": [
    "X_all.shape"
   ]
  },
  {
   "cell_type": "code",
   "execution_count": 116,
   "metadata": {},
   "outputs": [
    {
     "name": "stdout",
     "output_type": "stream",
     "text": [
      "done\n"
     ]
    }
   ],
   "source": [
    "X_rescaled = rescale_01(X_all) #feature scaling in [0,1]\n",
    "X_normz = normalization(X_rescaled) #||X_i||_2^2 = 1\n",
    "# X_normz= np.asanyarray(X_normz)\n",
    "# #train/test split\n",
    "\n",
    "Xtr,Xte,Ytr,Yte = train_test_split(X_normz,Y_all, test_size=.85, random_state=42)\n",
    "print ('done')"
   ]
  },
  {
   "cell_type": "code",
   "execution_count": 117,
   "metadata": {},
   "outputs": [
    {
     "name": "stdout",
     "output_type": "stream",
     "text": [
      "computing Homogeneous Polynomial Kernels...done\n"
     ]
    }
   ],
   "source": [
    "#compute homogeneous polynomial kernels with degrees 0,1,2,...,10.\n",
    "print ('computing Homogeneous Polynomial Kernels...', end='')\n",
    "from MKLpy.metrics import pairwise\n",
    "KLtr = [pairwise.homogeneous_polynomial_kernel(Xtr, degree=d) for d in range(11)]\n",
    "KLte = [pairwise.homogeneous_polynomial_kernel(Xte,Xtr, degree=d) for d in range(11)]\n",
    "print ('done')"
   ]
  },
  {
   "cell_type": "code",
   "execution_count": 118,
   "metadata": {},
   "outputs": [
    {
     "name": "stdout",
     "output_type": "stream",
     "text": [
      "training AverageMKL...done\n",
      "[0.09090909 0.09090909 0.09090909 0.09090909 0.09090909 0.09090909\n",
      " 0.09090909 0.09090909 0.09090909 0.09090909 0.09090909]\n",
      "training EasyMKL...done\n",
      "[8.74391642e-15 1.47818727e-02 9.72459861e-03 1.07557648e-02\n",
      " 2.84257802e-02 4.47950332e-02 6.17903138e-02 9.37720229e-02\n",
      " 1.50867167e-01 2.36132749e-01 3.48954698e-01]\n"
     ]
    }
   ],
   "source": [
    "#MKL algorithms\n",
    "from MKLpy.algorithms import AverageMKL, EasyMKL, KOMD\t#KOMD is not a MKL algorithm but a simple kernel machine like the SVM\n",
    "print ('training AverageMKL...', end='')\n",
    "clf = AverageMKL().fit(KLtr,Ytr)\t#a wrapper for averaging kernels\n",
    "print ('done')\n",
    "print(clf.weights)\t\t\t#print the weights of the combination of base kernels\n",
    "K_average = clf.ker_matrix\t#the combined kernel matrix\n",
    "\n",
    "\n",
    "print ('training EasyMKL...', end='')\n",
    "clf = EasyMKL(lam=0.1).fit(KLtr,Ytr)\t\t#combining kernels with the EasyMKL algorithm\n",
    "#lam is a hyper-parameter in [0,1]\n",
    "print ('done')\n",
    "print (clf.weights)"
   ]
  },
  {
   "cell_type": "code",
   "execution_count": 119,
   "metadata": {},
   "outputs": [
    {
     "name": "stdout",
     "output_type": "stream",
     "text": [
      "Accuracy score: 0.784, roc AUC score: 0.669\n"
     ]
    }
   ],
   "source": [
    "#evaluate the solution\n",
    "from sklearn.metrics import accuracy_score, roc_auc_score\n",
    "y_pred = clf.predict(KLte) #predictions\n",
    "y_score = clf.decision_function(KLte) #rank\n",
    "accuracy = accuracy_score(Yte, y_pred)\n",
    "roc_auc = roc_auc_score(Yte, y_score)\n",
    "print ('Accuracy score: %.3f, roc AUC score: %.3f' % (accuracy, roc_auc))\n",
    "\n",
    "\n",
    "#select the base-learner\n",
    "#MKL algorithms use a hard-margin as base learned (or KOMD in the case of EasyMKL). It is possible to define a different base learner\n",
    "from sklearn.svm import SVC\n",
    "base_learner = SVC(C=0.1, kernel='rbf')\n",
    "clf = EasyMKL(learner=base_learner)\n",
    "clf = clf.fit(KLtr,Ytr)"
   ]
  },
  {
   "cell_type": "code",
   "execution_count": 120,
   "metadata": {},
   "outputs": [
    {
     "name": "stdout",
     "output_type": "stream",
     "text": [
      "training AverageMKL...done\n",
      "[0.09090909 0.09090909 0.09090909 0.09090909 0.09090909 0.09090909\n",
      " 0.09090909 0.09090909 0.09090909 0.09090909 0.09090909]\n",
      "training EasyMKL...done\n",
      "[8.74391642e-15 1.47818727e-02 9.72459861e-03 1.07557648e-02\n",
      " 2.84257802e-02 4.47950332e-02 6.17903138e-02 9.37720229e-02\n",
      " 1.50867167e-01 2.36132749e-01 3.48954698e-01]\n"
     ]
    }
   ],
   "source": [
    "from MKLpy.algorithms import AverageMKL, EasyMKL, KOMD\t#KOMD is not a MKL algorithm but a simple kernel machine like the SVM\n",
    "print ('training AverageMKL...', end='')\n",
    "clf = AverageMKL().fit(KLtr,Ytr)\t#a wrapper for averaging kernels\n",
    "print ('done')\n",
    "print(clf.weights)\t\t\t#print the weights of the combination of base kernels\n",
    "K_average = clf.ker_matrix\t#the combined kernel matrix\n",
    "\n",
    "\n",
    "print ('training EasyMKL...', end='')\n",
    "clf = EasyMKL(lam=0.1).fit(KLtr,Ytr)\t\t#combining kernels with the EasyMKL algorithm\n",
    "#lam is a hyper-parameter in [0,1]\n",
    "print ('done')\n",
    "print (clf.weights)"
   ]
  },
  {
   "cell_type": "code",
   "execution_count": null,
   "metadata": {},
   "outputs": [],
   "source": []
  },
  {
   "cell_type": "code",
   "execution_count": null,
   "metadata": {},
   "outputs": [],
   "source": []
  }
 ],
 "metadata": {
  "kernelspec": {
   "display_name": "Python 3",
   "language": "python",
   "name": "python3"
  },
  "language_info": {
   "codemirror_mode": {
    "name": "ipython",
    "version": 3
   },
   "file_extension": ".py",
   "mimetype": "text/x-python",
   "name": "python",
   "nbconvert_exporter": "python",
   "pygments_lexer": "ipython3",
   "version": "3.6.8"
  }
 },
 "nbformat": 4,
 "nbformat_minor": 2
}
