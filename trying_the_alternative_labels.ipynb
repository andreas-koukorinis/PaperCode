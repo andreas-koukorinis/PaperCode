{
 "cells": [
  {
   "cell_type": "code",
   "execution_count": 48,
   "metadata": {},
   "outputs": [],
   "source": [
    "import pandas as pd\n",
    "import os \n",
    "import numpy as np\n",
    "import pickle as pkl\n",
    "import fileutils as fileutils\n",
    "\n"
   ]
  },
  {
   "cell_type": "code",
   "execution_count": 49,
   "metadata": {},
   "outputs": [],
   "source": [
    "def alternate_labels_path(dataDrive,LabelNumber, symbol):\n",
    "    \"\"\"\n",
    "    path of labels and symbol to store data\n",
    "    labelNumber: label number pick from one two three\n",
    "    symbol: symbol in capital letters and .L in the end\n",
    "    \"\"\"\n",
    "    LabelAlternate = 'LabelsAlternate'+str(LabelNumber)\n",
    "    \n",
    "    path = os.path.join(dataDrive, LabelAlternate, str(symbol))\n",
    "    if os.path.exists(path):\n",
    "        return path\n",
    "    else: \n",
    "        print('path does not exist- add a .L to the symbol ')"
   ]
  },
  {
   "cell_type": "code",
   "execution_count": null,
   "metadata": {},
   "outputs": [],
   "source": []
  },
  {
   "cell_type": "code",
   "execution_count": 50,
   "metadata": {},
   "outputs": [],
   "source": [
    "LabelsAlternateNames = ['LabelsAlternateOne',\n",
    " 'LabelsAlternateTwo',\n",
    " 'LabelsAlternateThree',\n",
    " 'LabelsAlternateFour',\n",
    " 'LabelsAlternateFive'] #names of alternate labels\n"
   ]
  },
  {
   "cell_type": "markdown",
   "metadata": {},
   "source": [
    "### Paths ### "
   ]
  },
  {
   "cell_type": "code",
   "execution_count": 67,
   "metadata": {},
   "outputs": [],
   "source": [
    "\n",
    "# paths\n",
    "dataDrive = '/media/ak/My Passport/Data/FinDataReal/'\n",
    "extPath = '/media/ak/My Passport/ExperimentData'\n",
    "featuresPath = \"/\".join((extPath, 'features')) # path with features\n",
    "MKLPath = \"/\".join((extPath, 'MKLExpPath'))\n",
    "labels_location_folder = fileutils.data_path # this is the folder where all the labels are saved\n",
    "\n",
    "labels_pickle_files = [s for s in os.listdir(labels_location_folder ) if ('LabelsAlternate') in s] # these are all the dicts that we have alternate labels for. \n",
    "\n",
    "# ## symbols - getting all the symbols that I have alternate data for\n",
    "# symbols  = [f.split(\"_\")[0] for f in labels_pickle_files] "
   ]
  },
  {
   "cell_type": "code",
   "execution_count": 73,
   "metadata": {},
   "outputs": [
    {
     "data": {
      "text/plain": [
       "['LLOY.L',\n",
       " 'AAL.L',\n",
       " 'APF.L',\n",
       " 'AV.L',\n",
       " 'AZN.L',\n",
       " 'BARC.L',\n",
       " 'BATS.L',\n",
       " 'BLT.L',\n",
       " 'CCL.L',\n",
       " 'CEY.L',\n",
       " 'CNA.L',\n",
       " 'CPG.L',\n",
       " 'IOG.L',\n",
       " 'ITV.L',\n",
       " 'KGF.L',\n",
       " 'LAND.L',\n",
       " 'LGEN.L',\n",
       " 'MAB.L',\n",
       " 'MKS.L',\n",
       " 'NG.L',\n",
       " 'PRU.L',\n",
       " 'PSON.L',\n",
       " 'RB.L',\n",
       " 'RBS.L',\n",
       " 'RDSa.L',\n",
       " 'RDSb.L',\n",
       " 'REL.L',\n",
       " 'RR.L',\n",
       " 'RSA.L',\n",
       " 'RTO.L',\n",
       " 'SDR.L',\n",
       " 'SGE.L',\n",
       " 'SHP.L',\n",
       " 'SMIN.L',\n",
       " 'SPT.L',\n",
       " 'STAN.L',\n",
       " 'TSCO.L',\n",
       " 'ULVR.L',\n",
       " 'UU.L',\n",
       " 'VOD.L',\n",
       " 'WPP.L']"
      ]
     },
     "execution_count": 73,
     "metadata": {},
     "output_type": "execute_result"
    }
   ],
   "source": [
    "symbols  = [f for f in [s for s in os.listdir(labels_location_folder ) if ('.L') in s] if ('.L_A') not in f]\n",
    "symbols"
   ]
  },
  {
   "cell_type": "code",
   "execution_count": 55,
   "metadata": {},
   "outputs": [
    {
     "data": {
      "text/plain": [
       "'/media/ak/My Passport/Data/FinDataReal/'"
      ]
     },
     "execution_count": 55,
     "metadata": {},
     "output_type": "execute_result"
    }
   ],
   "source": [
    "# label_symbol_date_path = os.path.join(fileutils.data_path, LabelsAlternateNames[alternate_label_value_idex],\n",
    "#                                                       ticker, dateIdex)\n"
   ]
  },
  {
   "cell_type": "code",
   "execution_count": 41,
   "metadata": {},
   "outputs": [
    {
     "data": {
      "text/plain": [
       "'AAL.L_AlternateLabelsLocations.pkl'"
      ]
     },
     "execution_count": 41,
     "metadata": {},
     "output_type": "execute_result"
    }
   ],
   "source": [
    "symbol = symbols[0]\n",
    "symbol_pickle_file = [f for f in labels_pickle_files if str(symbol) in f][0]\n",
    "\n",
    "data = pkl.load(open(\"/\".join((dataDrive, symbol_pickle_file)), \"rb\"),\n",
    "                                                encoding='latin1')\n",
    "symbol_pickle_file"
   ]
  },
  {
   "cell_type": "code",
   "execution_count": 42,
   "metadata": {},
   "outputs": [],
   "source": [
    "\n",
    "MKLExpPath = \"/\".join((MKLPath, symbol, 'Experiments'))  # symbol experiment path\n",
    "MKLSymbolPath = \"/\".join((MKLPath, symbol))  # symbol path\n",
    "MKLKernPath = \"/\".join((MKLPath, symbol, 'Kernels'))  # symbol kernel path\n"
   ]
  },
  {
   "cell_type": "markdown",
   "metadata": {},
   "source": [
    "## lets extract some dates FOR LABELS"
   ]
  },
  {
   "cell_type": "code",
   "execution_count": 43,
   "metadata": {},
   "outputs": [],
   "source": [
    "labels_dates_keys = list(data.keys())\n",
    "labels_dict=[]\n",
    "for idx,_ in enumerate(labels_dates_keys):\n",
    "    for labelIdx,_ in enumerate(LabelsAlternateNames):\n",
    "        labels_dict.append((data[labels_dates_keys[idx]][LabelsAlternateNames[labelIdx]].split(\"/\")[-1]).split(\".\")[0])"
   ]
  },
  {
   "cell_type": "code",
   "execution_count": null,
   "metadata": {},
   "outputs": [],
   "source": []
  },
  {
   "cell_type": "markdown",
   "metadata": {},
   "source": [
    "### list of locations for each alternative label"
   ]
  },
  {
   "cell_type": "code",
   "execution_count": 44,
   "metadata": {},
   "outputs": [],
   "source": [
    "labelsOneAlternateLocations = {labels_dates_keys[s]:data[labels_dates_keys[s]][LabelsAlternateNames[0]] for s in range(0,len(labels_dates_keys))}\n",
    "labelsTwoAlternateLocations = {labels_dates_keys[s]:data[labels_dates_keys[s]][LabelsAlternateNames[1]] for s in range(0,len(labels_dates_keys))}\n",
    "labelsThreeAlternateLocations = {labels_dates_keys[s]:data[labels_dates_keys[s]][LabelsAlternateNames[2]] for s in range(0,len(labels_dates_keys))}\n",
    "labelsFourAlternateLocations = {labels_dates_keys[s]:data[labels_dates_keys[s]][LabelsAlternateNames[3]] for s in range(0,len(labels_dates_keys))}\n",
    "labelsFourAlternateLocations = {labels_dates_keys[s]:data[labels_dates_keys[s]][LabelsAlternateNames[4]] for s in range(0,len(labels_dates_keys))}\n"
   ]
  },
  {
   "cell_type": "code",
   "execution_count": null,
   "metadata": {},
   "outputs": [],
   "source": []
  },
  {
   "cell_type": "markdown",
   "metadata": {},
   "source": [
    "### specific symbol targets locations"
   ]
  },
  {
   "cell_type": "code",
   "execution_count": 45,
   "metadata": {},
   "outputs": [],
   "source": [
    "\n",
    "\n",
    "symbolFeaturesLocation = \"/\".join((featuresPath, symbol, 'MODEL_BASED'))\n",
    "#symbolLabelsLocation = ## need to think how I deal with this one\n",
    "symbolHMMDatesList = os.listdir(symbolFeaturesLocation)\n",
    "# list of all the MODEL dates we have generated features files for. each #\n",
    "# each of these dates in symbolFeaturesDates corresponds to a list of dates\n",
    "# (symbolHMMDatesList = '20170829', '20170710', '20170801', ... ]\n",
    "symbolLabelsDates =  list(set(labelsTwoAlternateLocations.keys())) # true dates of data labels --> which correspond for all the dates"
   ]
  },
  {
   "cell_type": "code",
   "execution_count": 46,
   "metadata": {},
   "outputs": [
    {
     "data": {
      "text/plain": [
       "True"
      ]
     },
     "execution_count": 46,
     "metadata": {},
     "output_type": "execute_result"
    }
   ],
   "source": [
    "set(symbolHMMDatesList)==set(symbolLabelsDates) #dates match"
   ]
  },
  {
   "cell_type": "markdown",
   "metadata": {},
   "source": [
    "## keep track of various structs"
   ]
  },
  {
   "cell_type": "code",
   "execution_count": 47,
   "metadata": {},
   "outputs": [],
   "source": [
    "# now lets go down into each HMM-model date, and pick all the forward futures (out of sample)\n",
    "hmmFeatureLocations = {}  # symbol-hmm-model-date index --> this is the indexation in symbolFeaturesDatesList\n",
    "commonDatesDict = {}  # this is a struct that will contain for each HMM date, the common labels/features- this\n",
    "# should\n",
    "# be used for training and testing\n",
    "createDate = []  # place holder for the hash key of when the features got created\n",
    "createDateTwo = '20181229'\n",
    "symbolEachModelFeaturesDates = {}\n",
    "HMMModelFeaturesLabelsCommon = {}  # location dictionary with 2 keys: HMM Date and Common Date\n",
    "commonDates = []\n",
    "\n",
    "LocDictsList = []  # symbol specific"
   ]
  },
  {
   "cell_type": "code",
   "execution_count": 14,
   "metadata": {},
   "outputs": [],
   "source": [
    "for hmmDateIdx, hmmDate in enumerate(sorted(symbolHMMDatesList)):\n",
    "    symbolModelFeaturesDate = os.path.join(symbolFeaturesLocation, symbolHMMDatesList[hmmDateIdx])\n",
    "    if len(os.listdir(symbolModelFeaturesDate)) != 0:\n",
    "        create_date = os.listdir(symbolModelFeaturesDate)[0].split(\"_\")[-2]\n",
    "        # output looks like this: /media/ak/DataOnly/FinDataReal/PRU.L/MODEL_BASED/20170710\n",
    "        # output is a dictionary where the keys are the HMM models dates and the values a list of dates - for\n",
    "        # each HMM date we have a list of features\n",
    "      "
   ]
  },
  {
   "cell_type": "code",
   "execution_count": 15,
   "metadata": {},
   "outputs": [
    {
     "data": {
      "text/plain": [
       "'20181227'"
      ]
     },
     "execution_count": 15,
     "metadata": {},
     "output_type": "execute_result"
    }
   ],
   "source": [
    "create_date"
   ]
  },
  {
   "cell_type": "code",
   "execution_count": 16,
   "metadata": {},
   "outputs": [],
   "source": [
    "symbolEachModelKeys = list(symbolEachModelFeaturesDates.keys())"
   ]
  },
  {
   "cell_type": "code",
   "execution_count": 25,
   "metadata": {},
   "outputs": [
    {
     "data": {
      "text/plain": [
       "[]"
      ]
     },
     "execution_count": 25,
     "metadata": {},
     "output_type": "execute_result"
    }
   ],
   "source": [
    "# symbolEachModelFeaturesDates[symbolEachModelKeys[2]]\n",
    "symbolEachModelKeys"
   ]
  },
  {
   "cell_type": "code",
   "execution_count": 18,
   "metadata": {},
   "outputs": [
    {
     "data": {
      "text/plain": [
       "'/media/ak/DataOnly/FinDataReal/AAL.L'"
      ]
     },
     "execution_count": 18,
     "metadata": {},
     "output_type": "execute_result"
    }
   ],
   "source": [
    "## get model common dates for each model\n",
    "os.path.join('/media/ak/DataOnly/FinDataReal/', symbol)"
   ]
  },
  {
   "cell_type": "code",
   "execution_count": 22,
   "metadata": {},
   "outputs": [],
   "source": [
    "for keyHMMDate in sorted(list(symbolEachModelFeaturesDates.keys())):  # for each of the HMM model dates\n",
    "    common_dates = list(set(symbolEachModelFeaturesDates[keyHMMDate]).intersection(symbolLabelsDates))\n",
    "    # take the list of feature dates (conditional on HMM model date) + the list of labels -intersection!\n",
    "\n",
    "    '''we now produce a dict for each HMM model, where each value is a list of common dates and we are key-ed by\n",
    "    the HMM Date '''\n",
    "    commonDatesDict[keyHMMDate] = common_dates\n",
    "    for commonDate in common_dates:\n",
    "        print(commonDate)\n",
    "        labelsCommonFileLoc = labelsOneAlternateLocations[commonDate]\n",
    "        FeatureFileLoc = os.path.join('/media/ak/DataOnly/FinDataReal/', symbol,'MODEL_BASED',commonDate,symbolEachModelFeaturesDates[keyHMMDate][commonDate])\n",
    "        conditions = [os.path.isfile(FeatureFileLoc), os.path.isfile(labelsCommonFileLoc)]\n",
    "        print(conditions)\n",
    "#"
   ]
  },
  {
   "cell_type": "code",
   "execution_count": 24,
   "metadata": {},
   "outputs": [
    {
     "ename": "NameError",
     "evalue": "name 'labelsCommonFileLoc' is not defined",
     "output_type": "error",
     "traceback": [
      "\u001b[0;31m---------------------------------------------------------------------------\u001b[0m",
      "\u001b[0;31mNameError\u001b[0m                                 Traceback (most recent call last)",
      "\u001b[0;32m<ipython-input-24-ef49ff1749f9>\u001b[0m in \u001b[0;36m<module>\u001b[0;34m\u001b[0m\n\u001b[1;32m      1\u001b[0m \u001b[0;31m#pd.read_csv(labelsOneAlternateLocations[commonDate])\u001b[0m\u001b[0;34m\u001b[0m\u001b[0;34m\u001b[0m\u001b[0;34m\u001b[0m\u001b[0m\n\u001b[0;32m----> 2\u001b[0;31m \u001b[0mos\u001b[0m\u001b[0;34m.\u001b[0m\u001b[0mpath\u001b[0m\u001b[0;34m.\u001b[0m\u001b[0misfile\u001b[0m\u001b[0;34m(\u001b[0m\u001b[0mlabelsCommonFileLoc\u001b[0m\u001b[0;34m)\u001b[0m\u001b[0;34m\u001b[0m\u001b[0;34m\u001b[0m\u001b[0m\n\u001b[0m",
      "\u001b[0;31mNameError\u001b[0m: name 'labelsCommonFileLoc' is not defined"
     ]
    }
   ],
   "source": [
    "#pd.read_csv(labelsOneAlternateLocations[commonDate])\n",
    "os.path.isfile(labelsCommonFileLoc)"
   ]
  },
  {
   "cell_type": "code",
   "execution_count": 109,
   "metadata": {},
   "outputs": [
    {
     "data": {
      "text/plain": [
       "'/media/ak/DataOnly/FinDataReal/APF.L/MODEL_BASED/20170131/APF.L_3_states_features_date:_20170131_now:_20190109_.pickle'"
      ]
     },
     "execution_count": 109,
     "metadata": {},
     "output_type": "execute_result"
    }
   ],
   "source": [
    "FeatureFileLoc"
   ]
  },
  {
   "cell_type": "code",
   "execution_count": 111,
   "metadata": {},
   "outputs": [
    {
     "data": {
      "text/plain": [
       "['APF.L_3_states_features_date:_20170808_now:_20190109_.pickle',\n",
       " 'APF.L_3_states_features_date:_20170809_now:_20190109_.pickle',\n",
       " 'APF.L_3_states_features_date:_20170901_now:_20181229_.pickle',\n",
       " 'APF.L_3_states_features_date:_20170919_now:_20181229_.pickle',\n",
       " 'APF.L_3_states_features_date:_20170704_now:_20190109_.pickle',\n",
       " 'APF.L_3_states_features_date:_20170808_now:_20181229_.pickle',\n",
       " 'APF.L_3_states_features_date:_20170809_now:_20181229_.pickle',\n",
       " 'APF.L_3_states_features_date:_20170816_now:_20190109_.pickle',\n",
       " 'APF.L_3_states_features_date:_20170714_now:_20181229_.pickle',\n",
       " 'APF.L_3_states_features_date:_20170822_now:_20181229_.pickle',\n",
       " 'APF.L_3_states_features_date:_20170801_now:_20181229_.pickle',\n",
       " 'APF.L_3_states_features_date:_20170719_now:_20181229_.pickle',\n",
       " 'APF.L_3_states_features_date:_20170908_now:_20181229_.pickle',\n",
       " 'APF.L_3_states_features_date:_20170915_now:_20190109_.pickle',\n",
       " 'APF.L_3_states_features_date:_20170713_now:_20190109_.pickle',\n",
       " 'APF.L_3_states_features_date:_20170728_now:_20190109_.pickle',\n",
       " 'APF.L_3_states_features_date:_20170717_now:_20181229_.pickle',\n",
       " 'APF.L_3_states_features_date:_20170726_now:_20181229_.pickle',\n",
       " 'APF.L_3_states_features_date:_20170821_now:_20190109_.pickle',\n",
       " 'APF.L_3_states_features_date:_20170824_now:_20181229_.pickle',\n",
       " 'APF.L_3_states_features_date:_20170731_now:_20190109_.pickle',\n",
       " 'APF.L_3_states_features_date:_20170905_now:_20181229_.pickle',\n",
       " 'APF.L_3_states_features_date:_20170804_now:_20190109_.pickle',\n",
       " 'APF.L_3_states_features_date:_20170720_now:_20181229_.pickle',\n",
       " 'APF.L_3_states_features_date:_20170725_now:_20190109_.pickle',\n",
       " 'APF.L_3_states_features_date:_20170706_now:_20190109_.pickle',\n",
       " 'APF.L_3_states_features_date:_20170811_now:_20190109_.pickle',\n",
       " 'APF.L_3_states_features_date:_20170731_now:_20181229_.pickle',\n",
       " 'APF.L_3_states_features_date:_20170721_now:_20181229_.pickle',\n",
       " 'APF.L_3_states_features_date:_20170711_now:_20181229_.pickle',\n",
       " 'APF.L_3_states_features_date:_20170815_now:_20190109_.pickle',\n",
       " 'APF.L_3_states_features_date:_20170810_now:_20181229_.pickle',\n",
       " 'APF.L_3_states_features_date:_20170823_now:_20181229_.pickle',\n",
       " 'APF.L_3_states_features_date:_20170725_now:_20181229_.pickle',\n",
       " 'APF.L_3_states_features_date:_20170706_now:_20181229_.pickle',\n",
       " 'APF.L_3_states_features_date:_20170929_now:_20190109_.pickle',\n",
       " 'APF.L_3_states_features_date:_20170912_now:_20181229_.pickle',\n",
       " 'APF.L_3_states_features_date:_20170705_now:_20181229_.pickle',\n",
       " 'APF.L_3_states_features_date:_20170918_now:_20181229_.pickle',\n",
       " 'APF.L_3_states_features_date:_20170707_now:_20181229_.pickle',\n",
       " 'APF.L_3_states_features_date:_20170822_now:_20190109_.pickle',\n",
       " 'APF.L_3_states_features_date:_20170829_now:_20190109_.pickle',\n",
       " 'APF.L_3_states_features_date:_20170926_now:_20190109_.pickle',\n",
       " 'APF.L_3_states_features_date:_20170926_now:_20181229_.pickle',\n",
       " 'APF.L_3_states_features_date:_20170829_now:_20181229_.pickle',\n",
       " 'APF.L_3_states_features_date:_20170814_now:_20190109_.pickle',\n",
       " 'APF.L_3_states_features_date:_20170811_now:_20181229_.pickle',\n",
       " 'APF.L_3_states_features_date:_20170915_now:_20181229_.pickle',\n",
       " 'APF.L_3_states_features_date:_20170714_now:_20190109_.pickle',\n",
       " 'APF.L_3_states_features_date:_20170817_now:_20190109_.pickle',\n",
       " 'APF.L_3_states_features_date:_20170816_now:_20181229_.pickle',\n",
       " 'APF.L_3_states_features_date:_20170815_now:_20181229_.pickle',\n",
       " 'APF.L_3_states_features_date:_20170703_now:_20181229_.pickle',\n",
       " 'APF.L_3_states_features_date:_20170913_now:_20190109_.pickle',\n",
       " 'APF.L_3_states_features_date:_20170914_now:_20181229_.pickle',\n",
       " 'APF.L_3_states_features_date:_20170728_now:_20181229_.pickle',\n",
       " 'APF.L_3_states_features_date:_20170920_now:_20181229_.pickle',\n",
       " 'APF.L_3_states_features_date:_20170927_now:_20181229_.pickle',\n",
       " 'APF.L_3_states_features_date:_20170710_now:_20181229_.pickle',\n",
       " 'APF.L_3_states_features_date:_20170717_now:_20190109_.pickle',\n",
       " 'APF.L_3_states_features_date:_20170711_now:_20190109_.pickle',\n",
       " 'APF.L_3_states_features_date:_20170803_now:_20181229_.pickle',\n",
       " 'APF.L_3_states_features_date:_20170727_now:_20190109_.pickle',\n",
       " 'APF.L_3_states_features_date:_20170810_now:_20190109_.pickle',\n",
       " 'APF.L_3_states_features_date:_20170830_now:_20181229_.pickle',\n",
       " 'APF.L_3_states_features_date:_20170824_now:_20190109_.pickle',\n",
       " 'APF.L_3_states_features_date:_20170906_now:_20181229_.pickle',\n",
       " 'APF.L_3_states_features_date:_20170830_now:_20190109_.pickle',\n",
       " 'APF.L_3_states_features_date:_20170704_now:_20181229_.pickle',\n",
       " 'APF.L_3_states_features_date:_20170724_now:_20181229_.pickle',\n",
       " 'APF.L_3_states_features_date:_20170825_now:_20190109_.pickle',\n",
       " 'APF.L_3_states_features_date:_20170802_now:_20181229_.pickle',\n",
       " 'APF.L_3_states_features_date:_20170911_now:_20190109_.pickle',\n",
       " 'APF.L_3_states_features_date:_20170802_now:_20190109_.pickle',\n",
       " 'APF.L_3_states_features_date:_20170929_now:_20181229_.pickle',\n",
       " 'APF.L_3_states_features_date:_20170927_now:_20190109_.pickle',\n",
       " 'APF.L_3_states_features_date:_20170925_now:_20190109_.pickle',\n",
       " 'APF.L_3_states_features_date:_20170921_now:_20181229_.pickle',\n",
       " 'APF.L_3_states_features_date:_20170707_now:_20190109_.pickle',\n",
       " 'APF.L_3_states_features_date:_20170922_now:_20190109_.pickle',\n",
       " 'APF.L_3_states_features_date:_20170726_now:_20190109_.pickle',\n",
       " 'APF.L_3_states_features_date:_20170720_now:_20190109_.pickle',\n",
       " 'APF.L_3_states_features_date:_20170831_now:_20190109_.pickle',\n",
       " 'APF.L_3_states_features_date:_20170814_now:_20181229_.pickle',\n",
       " 'APF.L_3_states_features_date:_20170727_now:_20181229_.pickle',\n",
       " 'APF.L_3_states_features_date:_20170807_now:_20181229_.pickle',\n",
       " 'APF.L_3_states_features_date:_20170703_now:_20190109_.pickle',\n",
       " 'APF.L_3_states_features_date:_20170718_now:_20181229_.pickle',\n",
       " 'APF.L_3_states_features_date:_20170713_now:_20181229_.pickle',\n",
       " 'APF.L_3_states_features_date:_20170823_now:_20190109_.pickle',\n",
       " 'APF.L_3_states_features_date:_20170705_now:_20190109_.pickle',\n",
       " 'APF.L_3_states_features_date:_20170719_now:_20190109_.pickle',\n",
       " 'APF.L_3_states_features_date:_20170804_now:_20181229_.pickle',\n",
       " 'APF.L_3_states_features_date:_20170724_now:_20190109_.pickle',\n",
       " 'APF.L_3_states_features_date:_20170818_now:_20181229_.pickle',\n",
       " 'APF.L_3_states_features_date:_20170921_now:_20190109_.pickle',\n",
       " 'APF.L_3_states_features_date:_20170831_now:_20181229_.pickle',\n",
       " 'APF.L_3_states_features_date:_20170710_now:_20190109_.pickle',\n",
       " 'APF.L_3_states_features_date:_20170928_now:_20190109_.pickle',\n",
       " 'APF.L_3_states_features_date:_20170901_now:_20190109_.pickle',\n",
       " 'APF.L_3_states_features_date:_20170825_now:_20181229_.pickle',\n",
       " 'APF.L_3_states_features_date:_20170922_now:_20181229_.pickle',\n",
       " 'APF.L_3_states_features_date:_20170801_now:_20190109_.pickle',\n",
       " 'APF.L_3_states_features_date:_20170920_now:_20190109_.pickle',\n",
       " 'APF.L_3_states_features_date:_20170928_now:_20181229_.pickle',\n",
       " 'APF.L_3_states_features_date:_20170911_now:_20181229_.pickle',\n",
       " 'APF.L_3_states_features_date:_20170803_now:_20190109_.pickle',\n",
       " 'APF.L_3_states_features_date:_20170908_now:_20190109_.pickle',\n",
       " 'APF.L_3_states_features_date:_20170904_now:_20181229_.pickle',\n",
       " 'APF.L_3_states_features_date:_20170817_now:_20181229_.pickle',\n",
       " 'APF.L_3_states_features_date:_20170914_now:_20190109_.pickle',\n",
       " 'APF.L_3_states_features_date:_20170907_now:_20181229_.pickle',\n",
       " 'APF.L_3_states_features_date:_20170904_now:_20190109_.pickle',\n",
       " 'APF.L_3_states_features_date:_20170721_now:_20190109_.pickle',\n",
       " 'APF.L_3_states_features_date:_20170919_now:_20190109_.pickle',\n",
       " 'APF.L_3_states_features_date:_20170712_now:_20181229_.pickle',\n",
       " 'APF.L_3_states_features_date:_20170907_now:_20190109_.pickle',\n",
       " 'APF.L_3_states_features_date:_20170925_now:_20181229_.pickle',\n",
       " 'APF.L_3_states_features_date:_20170807_now:_20190109_.pickle',\n",
       " 'APF.L_3_states_features_date:_20170918_now:_20190109_.pickle',\n",
       " 'APF.L_3_states_features_date:_20170906_now:_20190109_.pickle',\n",
       " 'APF.L_3_states_features_date:_20170818_now:_20190109_.pickle',\n",
       " 'APF.L_3_states_features_date:_20170905_now:_20190109_.pickle',\n",
       " 'APF.L_3_states_features_date:_20170712_now:_20190109_.pickle',\n",
       " 'APF.L_3_states_features_date:_20170913_now:_20181229_.pickle',\n",
       " 'APF.L_3_states_features_date:_20170821_now:_20181229_.pickle',\n",
       " 'APF.L_3_states_features_date:_20170718_now:_20190109_.pickle',\n",
       " 'APF.L_3_states_features_date:_20170912_now:_20190109_.pickle']"
      ]
     },
     "execution_count": 111,
     "metadata": {},
     "output_type": "execute_result"
    }
   ],
   "source": [
    "os.listdir('/media/ak/DataOnly/FinDataReal/APF.L/MODEL_BASED/20170131/')"
   ]
  },
  {
   "cell_type": "code",
   "execution_count": null,
   "metadata": {},
   "outputs": [],
   "source": [
    "# commonDatesKeys  =  list(commonDatesDict.keys())  # each of these dates correspond to an HMM model\n",
    "# commonDatesKeys\n",
    "# for commonDateKey in common:"
   ]
  },
  {
   "cell_type": "code",
   "execution_count": 34,
   "metadata": {},
   "outputs": [
    {
     "data": {
      "text/plain": [
       "[False, False]"
      ]
     },
     "execution_count": 34,
     "metadata": {},
     "output_type": "execute_result"
    }
   ],
   "source": [
    "conditions"
   ]
  },
  {
   "cell_type": "markdown",
   "metadata": {},
   "source": [
    "need to work out the next set"
   ]
  },
  {
   "cell_type": "code",
   "execution_count": null,
   "metadata": {},
   "outputs": [],
   "source": [
    "for hmmModelIdxDate,_ in enumerate(commonDatesKeys): # lets iterate through all the HMM models and for each one pick the common dates of models and labels\n",
    "    print('-------------------------------')\n",
    "    print(hmmDateIdx)\n",
    "    print('-------------------------------')\n",
    "    common_dates = commonDatesDict[hmmModelIdxDate] # pick the list of common dates\n",
    "#     print(common_dates)\n",
    "# #     for commonDate in common_dates:\n",
    "# # #         '''iterate through all the common dates and figure out the location of each file for labels and\n",
    "# # #         features '''\n",
    "# #         labelsCommonFileLoc = labelsOneAlternateLocations[commonDate]\n",
    "# #         print(symbolEachModelFeaturesDates[keyHMMDate])\n",
    "    \n",
    "# # #         print(labelsCommonFileLoc)\n",
    "\n",
    "\n",
    "# # # #         conditions = [os.path.exists(FeatureFileLoc), os.path.exists(labelsCommonFileLoc)]\n"
   ]
  },
  {
   "cell_type": "code",
   "execution_count": null,
   "metadata": {},
   "outputs": [],
   "source": [
    "commonDate\n",
    "# commonDatesFeatureFile = \"\".join(\n",
    "#                             (\n",
    "#                             symbols[symbol], '_3_states_features_date:_', commonDate, \"_now:_\", create_date, \"_.pickle\"))\n",
    "#     FeatureFileLoc = os.path.join(symbolModelFeaturesDate, commonDatesFeatureFile)"
   ]
  },
  {
   "cell_type": "code",
   "execution_count": null,
   "metadata": {},
   "outputs": [],
   "source": [
    "common_dates"
   ]
  },
  {
   "cell_type": "code",
   "execution_count": null,
   "metadata": {},
   "outputs": [],
   "source": []
  }
 ],
 "metadata": {
  "kernelspec": {
   "display_name": "Python 3",
   "language": "python",
   "name": "python3"
  },
  "language_info": {
   "codemirror_mode": {
    "name": "ipython",
    "version": 3
   },
   "file_extension": ".py",
   "mimetype": "text/x-python",
   "name": "python",
   "nbconvert_exporter": "python",
   "pygments_lexer": "ipython3",
   "version": "3.6.8"
  }
 },
 "nbformat": 4,
 "nbformat_minor": 2
}
