{
 "cells": [
  {
   "cell_type": "code",
   "execution_count": 36,
   "id": "55ce0546",
   "metadata": {},
   "outputs": [],
   "source": [
    "import pandas as pd\n",
    "import os \n",
    "import numpy as np\n",
    "import dask.dataframe as dd\n",
    "import dask.multiprocessing\n",
    "dask.config.set(scheduler='processes')\n",
    "import time\n",
    "\n",
    "import dask.array as da\n",
    "import dask.bag as db"
   ]
  },
  {
   "cell_type": "code",
   "execution_count": null,
   "id": "2779e770",
   "metadata": {},
   "outputs": [],
   "source": []
  },
  {
   "cell_type": "code",
   "execution_count": 2,
   "id": "7b56f8b3",
   "metadata": {},
   "outputs": [],
   "source": [
    "CL = '/media/ak/Data1/TradesPurchased/CL'\n",
    "CL_csv = sorted([f for f in os.listdir(CL) if str('.gz') not in f])\n",
    "CL_file_idx = 1\n",
    "file_loc = os.path.join(CL, CL_csv[CL_file_idx])"
   ]
  },
  {
   "cell_type": "code",
   "execution_count": null,
   "id": "8e917095",
   "metadata": {},
   "outputs": [],
   "source": [
    "ES = '/media/ak/Data1/TradesPurchased/ES'\n",
    "CL_csv = sorted([f for f in os.listdir(CL) if str('.gz') not in f])\n",
    "CL_file_idx = 1\n",
    "file_loc = os.path.join(CL, CL_csv[CL_file_idx])"
   ]
  },
  {
   "cell_type": "code",
   "execution_count": 50,
   "id": "58cf9aaf",
   "metadata": {
    "scrolled": true
   },
   "outputs": [
    {
     "data": {
      "text/plain": [
       "['CL',\n",
       " 'ES',\n",
       " 'FGBL',\n",
       " 'FLG',\n",
       " 'FTSE',\n",
       " 'JNI',\n",
       " 'LOB',\n",
       " 'STXE',\n",
       " 'Trades & Quotes-07-15-2020 11_41_52.zip',\n",
       " 'Trades & Quotes-07-15-2020 11_42_08.zip',\n",
       " 'Trades & Quotes-07-15-2020 1_56_35.zip',\n",
       " 'Trades & Quotes-07-15-2020 1_56_41.zip',\n",
       " 'Trades & Quotes-07-15-2020 1_56_48.zip',\n",
       " 'Trades & Quotes-07-15-2020 2_33_56.zip',\n",
       " 'Trades & Quotes-07-15-2020 2_34_40.zip',\n",
       " 'Trades & Quotes-07-15-2020 8_45_36.zip',\n",
       " 'Trades & Quotes-07-17-2020 4_45_25.zip',\n",
       " 'TY']"
      ]
     },
     "execution_count": 50,
     "metadata": {},
     "output_type": "execute_result"
    }
   ],
   "source": [
    "os.listdir('/media/ak/Data1/TradesPurchased')"
   ]
  },
  {
   "cell_type": "code",
   "execution_count": 3,
   "id": "4bfc1bc8",
   "metadata": {},
   "outputs": [
    {
     "name": "stdout",
     "output_type": "stream",
     "text": [
      "Read csv with dask:  0.05813121795654297 sec\n"
     ]
    }
   ],
   "source": [
    "start = time.time()\n",
    "dask_df = dd.read_csv(file_loc, assume_missing=True)\n",
    "end = time.time()\n",
    "print(\"Read csv with dask: \",(end-start),\"sec\")\n"
   ]
  },
  {
   "cell_type": "code",
   "execution_count": 4,
   "id": "4d831431",
   "metadata": {},
   "outputs": [
    {
     "data": {
      "text/plain": [
       "56.22643352228743"
      ]
     },
     "execution_count": 4,
     "metadata": {},
     "output_type": "execute_result"
    }
   ],
   "source": [
    "dask_df['Bid Price'].mean().compute()"
   ]
  },
  {
   "cell_type": "code",
   "execution_count": 5,
   "id": "bfc7acf1",
   "metadata": {},
   "outputs": [
    {
     "data": {
      "text/plain": [
       "Date                 0\n",
       "Time                 0\n",
       "Type                 0\n",
       "Price        320926838\n",
       "Volume       319739042\n",
       "Bid Price      5172543\n",
       "Bid Size       5172543\n",
       "Ask Price      5172543\n",
       "Ask Size       5172543\n",
       "dtype: int64"
      ]
     },
     "execution_count": 5,
     "metadata": {},
     "output_type": "execute_result"
    }
   ],
   "source": [
    "dask_df.isnull().sum().compute()"
   ]
  },
  {
   "cell_type": "code",
   "execution_count": 15,
   "id": "3b22a527",
   "metadata": {
    "scrolled": true
   },
   "outputs": [],
   "source": [
    "dates = list(dask_df['Date'].values.compute())"
   ]
  },
  {
   "cell_type": "code",
   "execution_count": 7,
   "id": "1e82adff",
   "metadata": {},
   "outputs": [
    {
     "data": {
      "text/plain": [
       "array([62.34, 62.33, 62.33, ..., 61.46,   nan,   nan])"
      ]
     },
     "execution_count": 7,
     "metadata": {},
     "output_type": "execute_result"
    }
   ],
   "source": [
    "dask_df['Ask Price'].values.compute()"
   ]
  },
  {
   "cell_type": "code",
   "execution_count": 16,
   "id": "68d3f7ba",
   "metadata": {},
   "outputs": [],
   "source": [
    "list_unique_dates = np.unique(dates)"
   ]
  },
  {
   "cell_type": "code",
   "execution_count": 40,
   "id": "46eb5788",
   "metadata": {},
   "outputs": [],
   "source": [
    "df_quotes = dask_df[dask_df.Date == list_unique_dates[0] ].compute()\n"
   ]
  },
  {
   "cell_type": "code",
   "execution_count": 47,
   "id": "7c39a946",
   "metadata": {},
   "outputs": [
    {
     "data": {
      "text/plain": [
       "405120"
      ]
     },
     "execution_count": 47,
     "metadata": {},
     "output_type": "execute_result"
    }
   ],
   "source": [
    "len(np.unique(df_quotes.Time))\n"
   ]
  },
  {
   "cell_type": "code",
   "execution_count": 49,
   "id": "d8c090a9",
   "metadata": {},
   "outputs": [
    {
     "data": {
      "text/html": [
       "<div>\n",
       "<style scoped>\n",
       "    .dataframe tbody tr th:only-of-type {\n",
       "        vertical-align: middle;\n",
       "    }\n",
       "\n",
       "    .dataframe tbody tr th {\n",
       "        vertical-align: top;\n",
       "    }\n",
       "\n",
       "    .dataframe thead th {\n",
       "        text-align: right;\n",
       "    }\n",
       "</style>\n",
       "<table border=\"1\" class=\"dataframe\">\n",
       "  <thead>\n",
       "    <tr style=\"text-align: right;\">\n",
       "      <th></th>\n",
       "      <th>Date</th>\n",
       "      <th>Time</th>\n",
       "      <th>Type</th>\n",
       "      <th>Price</th>\n",
       "      <th>Volume</th>\n",
       "      <th>Bid Price</th>\n",
       "      <th>Bid Size</th>\n",
       "      <th>Ask Price</th>\n",
       "      <th>Ask Size</th>\n",
       "    </tr>\n",
       "  </thead>\n",
       "  <tbody>\n",
       "    <tr>\n",
       "      <th>0</th>\n",
       "      <td>05/01/2019</td>\n",
       "      <td>00:00:05.546022</td>\n",
       "      <td>Quote</td>\n",
       "      <td>NaN</td>\n",
       "      <td>NaN</td>\n",
       "      <td>62.31</td>\n",
       "      <td>1.0</td>\n",
       "      <td>62.34</td>\n",
       "      <td>14.0</td>\n",
       "    </tr>\n",
       "    <tr>\n",
       "      <th>1</th>\n",
       "      <td>05/01/2019</td>\n",
       "      <td>00:00:24.258137</td>\n",
       "      <td>Quote</td>\n",
       "      <td>NaN</td>\n",
       "      <td>NaN</td>\n",
       "      <td>62.31</td>\n",
       "      <td>1.0</td>\n",
       "      <td>62.33</td>\n",
       "      <td>1.0</td>\n",
       "    </tr>\n",
       "    <tr>\n",
       "      <th>2</th>\n",
       "      <td>05/01/2019</td>\n",
       "      <td>00:00:24.262157</td>\n",
       "      <td>Quote</td>\n",
       "      <td>NaN</td>\n",
       "      <td>NaN</td>\n",
       "      <td>62.31</td>\n",
       "      <td>1.0</td>\n",
       "      <td>62.33</td>\n",
       "      <td>2.0</td>\n",
       "    </tr>\n",
       "    <tr>\n",
       "      <th>3</th>\n",
       "      <td>05/01/2019</td>\n",
       "      <td>00:00:24.262352</td>\n",
       "      <td>Quote</td>\n",
       "      <td>NaN</td>\n",
       "      <td>NaN</td>\n",
       "      <td>62.30</td>\n",
       "      <td>13.0</td>\n",
       "      <td>62.33</td>\n",
       "      <td>2.0</td>\n",
       "    </tr>\n",
       "    <tr>\n",
       "      <th>4</th>\n",
       "      <td>05/01/2019</td>\n",
       "      <td>00:00:24.262352</td>\n",
       "      <td>Quote</td>\n",
       "      <td>NaN</td>\n",
       "      <td>NaN</td>\n",
       "      <td>62.30</td>\n",
       "      <td>13.0</td>\n",
       "      <td>62.33</td>\n",
       "      <td>3.0</td>\n",
       "    </tr>\n",
       "    <tr>\n",
       "      <th>...</th>\n",
       "      <td>...</td>\n",
       "      <td>...</td>\n",
       "      <td>...</td>\n",
       "      <td>...</td>\n",
       "      <td>...</td>\n",
       "      <td>...</td>\n",
       "      <td>...</td>\n",
       "      <td>...</td>\n",
       "      <td>...</td>\n",
       "    </tr>\n",
       "    <tr>\n",
       "      <th>995</th>\n",
       "      <td>05/01/2019</td>\n",
       "      <td>00:21:14.295174</td>\n",
       "      <td>Quote</td>\n",
       "      <td>NaN</td>\n",
       "      <td>NaN</td>\n",
       "      <td>62.33</td>\n",
       "      <td>6.0</td>\n",
       "      <td>62.35</td>\n",
       "      <td>3.0</td>\n",
       "    </tr>\n",
       "    <tr>\n",
       "      <th>996</th>\n",
       "      <td>05/01/2019</td>\n",
       "      <td>00:21:14.299165</td>\n",
       "      <td>Quote</td>\n",
       "      <td>NaN</td>\n",
       "      <td>NaN</td>\n",
       "      <td>62.33</td>\n",
       "      <td>6.0</td>\n",
       "      <td>62.35</td>\n",
       "      <td>4.0</td>\n",
       "    </tr>\n",
       "    <tr>\n",
       "      <th>997</th>\n",
       "      <td>05/01/2019</td>\n",
       "      <td>00:21:14.303164</td>\n",
       "      <td>Quote</td>\n",
       "      <td>NaN</td>\n",
       "      <td>NaN</td>\n",
       "      <td>62.33</td>\n",
       "      <td>6.0</td>\n",
       "      <td>62.35</td>\n",
       "      <td>3.0</td>\n",
       "    </tr>\n",
       "    <tr>\n",
       "      <th>998</th>\n",
       "      <td>05/01/2019</td>\n",
       "      <td>00:21:14.307163</td>\n",
       "      <td>Quote</td>\n",
       "      <td>NaN</td>\n",
       "      <td>NaN</td>\n",
       "      <td>62.33</td>\n",
       "      <td>6.0</td>\n",
       "      <td>62.35</td>\n",
       "      <td>4.0</td>\n",
       "    </tr>\n",
       "    <tr>\n",
       "      <th>999</th>\n",
       "      <td>05/01/2019</td>\n",
       "      <td>00:21:14.311171</td>\n",
       "      <td>Quote</td>\n",
       "      <td>NaN</td>\n",
       "      <td>NaN</td>\n",
       "      <td>62.33</td>\n",
       "      <td>6.0</td>\n",
       "      <td>62.35</td>\n",
       "      <td>3.0</td>\n",
       "    </tr>\n",
       "  </tbody>\n",
       "</table>\n",
       "<p>1000 rows × 9 columns</p>\n",
       "</div>"
      ],
      "text/plain": [
       "           Date             Time   Type  Price  Volume  Bid Price  Bid Size  \\\n",
       "0    05/01/2019  00:00:05.546022  Quote    NaN     NaN      62.31       1.0   \n",
       "1    05/01/2019  00:00:24.258137  Quote    NaN     NaN      62.31       1.0   \n",
       "2    05/01/2019  00:00:24.262157  Quote    NaN     NaN      62.31       1.0   \n",
       "3    05/01/2019  00:00:24.262352  Quote    NaN     NaN      62.30      13.0   \n",
       "4    05/01/2019  00:00:24.262352  Quote    NaN     NaN      62.30      13.0   \n",
       "..          ...              ...    ...    ...     ...        ...       ...   \n",
       "995  05/01/2019  00:21:14.295174  Quote    NaN     NaN      62.33       6.0   \n",
       "996  05/01/2019  00:21:14.299165  Quote    NaN     NaN      62.33       6.0   \n",
       "997  05/01/2019  00:21:14.303164  Quote    NaN     NaN      62.33       6.0   \n",
       "998  05/01/2019  00:21:14.307163  Quote    NaN     NaN      62.33       6.0   \n",
       "999  05/01/2019  00:21:14.311171  Quote    NaN     NaN      62.33       6.0   \n",
       "\n",
       "     Ask Price  Ask Size  \n",
       "0        62.34      14.0  \n",
       "1        62.33       1.0  \n",
       "2        62.33       2.0  \n",
       "3        62.33       2.0  \n",
       "4        62.33       3.0  \n",
       "..         ...       ...  \n",
       "995      62.35       3.0  \n",
       "996      62.35       4.0  \n",
       "997      62.35       3.0  \n",
       "998      62.35       4.0  \n",
       "999      62.35       3.0  \n",
       "\n",
       "[1000 rows x 9 columns]"
      ]
     },
     "execution_count": 49,
     "metadata": {},
     "output_type": "execute_result"
    }
   ],
   "source": [
    "df_quotes.head(1000\n",
    "              )"
   ]
  },
  {
   "cell_type": "code",
   "execution_count": 28,
   "id": "e68bf707",
   "metadata": {},
   "outputs": [],
   "source": [
    "df_trades = dask_df[dask_df.Type == 'Trade' ].compute()"
   ]
  },
  {
   "cell_type": "code",
   "execution_count": 25,
   "id": "bd126d44",
   "metadata": {},
   "outputs": [],
   "source": [
    "df_trades_non_NaN = df_trades[df_trades.Price != 'NaN']"
   ]
  },
  {
   "cell_type": "code",
   "execution_count": 35,
   "id": "c5849471",
   "metadata": {},
   "outputs": [
    {
     "data": {
      "text/html": [
       "<div>\n",
       "<style scoped>\n",
       "    .dataframe tbody tr th:only-of-type {\n",
       "        vertical-align: middle;\n",
       "    }\n",
       "\n",
       "    .dataframe tbody tr th {\n",
       "        vertical-align: top;\n",
       "    }\n",
       "\n",
       "    .dataframe thead th {\n",
       "        text-align: right;\n",
       "    }\n",
       "</style>\n",
       "<table border=\"1\" class=\"dataframe\">\n",
       "  <thead>\n",
       "    <tr style=\"text-align: right;\">\n",
       "      <th></th>\n",
       "      <th>Date</th>\n",
       "      <th>Time</th>\n",
       "      <th>Type</th>\n",
       "      <th>Price</th>\n",
       "      <th>Volume</th>\n",
       "      <th>Bid Price</th>\n",
       "      <th>Bid Size</th>\n",
       "      <th>Ask Price</th>\n",
       "      <th>Ask Size</th>\n",
       "    </tr>\n",
       "  </thead>\n",
       "  <tbody>\n",
       "    <tr>\n",
       "      <th>1093294</th>\n",
       "      <td>05/06/2019</td>\n",
       "      <td>00:02:52.239165</td>\n",
       "      <td>Trade</td>\n",
       "      <td>NaN</td>\n",
       "      <td>1.0</td>\n",
       "      <td>NaN</td>\n",
       "      <td>NaN</td>\n",
       "      <td>NaN</td>\n",
       "      <td>NaN</td>\n",
       "    </tr>\n",
       "    <tr>\n",
       "      <th>1093404</th>\n",
       "      <td>05/06/2019</td>\n",
       "      <td>00:03:13.634651</td>\n",
       "      <td>Trade</td>\n",
       "      <td>NaN</td>\n",
       "      <td>1.0</td>\n",
       "      <td>NaN</td>\n",
       "      <td>NaN</td>\n",
       "      <td>NaN</td>\n",
       "      <td>NaN</td>\n",
       "    </tr>\n",
       "    <tr>\n",
       "      <th>1093490</th>\n",
       "      <td>05/06/2019</td>\n",
       "      <td>00:05:18.727492</td>\n",
       "      <td>Trade</td>\n",
       "      <td>NaN</td>\n",
       "      <td>1.0</td>\n",
       "      <td>NaN</td>\n",
       "      <td>NaN</td>\n",
       "      <td>NaN</td>\n",
       "      <td>NaN</td>\n",
       "    </tr>\n",
       "    <tr>\n",
       "      <th>1093519</th>\n",
       "      <td>05/06/2019</td>\n",
       "      <td>00:05:19.315540</td>\n",
       "      <td>Trade</td>\n",
       "      <td>NaN</td>\n",
       "      <td>1.0</td>\n",
       "      <td>NaN</td>\n",
       "      <td>NaN</td>\n",
       "      <td>NaN</td>\n",
       "      <td>NaN</td>\n",
       "    </tr>\n",
       "    <tr>\n",
       "      <th>1096601</th>\n",
       "      <td>05/06/2019</td>\n",
       "      <td>00:31:30.533025</td>\n",
       "      <td>Trade</td>\n",
       "      <td>NaN</td>\n",
       "      <td>2.0</td>\n",
       "      <td>NaN</td>\n",
       "      <td>NaN</td>\n",
       "      <td>NaN</td>\n",
       "      <td>NaN</td>\n",
       "    </tr>\n",
       "    <tr>\n",
       "      <th>...</th>\n",
       "      <td>...</td>\n",
       "      <td>...</td>\n",
       "      <td>...</td>\n",
       "      <td>...</td>\n",
       "      <td>...</td>\n",
       "      <td>...</td>\n",
       "      <td>...</td>\n",
       "      <td>...</td>\n",
       "      <td>...</td>\n",
       "    </tr>\n",
       "    <tr>\n",
       "      <th>1194961</th>\n",
       "      <td>05/06/2019</td>\n",
       "      <td>18:27:51.913642</td>\n",
       "      <td>Trade</td>\n",
       "      <td>NaN</td>\n",
       "      <td>1.0</td>\n",
       "      <td>NaN</td>\n",
       "      <td>NaN</td>\n",
       "      <td>NaN</td>\n",
       "      <td>NaN</td>\n",
       "    </tr>\n",
       "    <tr>\n",
       "      <th>1194962</th>\n",
       "      <td>05/06/2019</td>\n",
       "      <td>18:27:52.961693</td>\n",
       "      <td>Trade</td>\n",
       "      <td>NaN</td>\n",
       "      <td>1.0</td>\n",
       "      <td>NaN</td>\n",
       "      <td>NaN</td>\n",
       "      <td>NaN</td>\n",
       "      <td>NaN</td>\n",
       "    </tr>\n",
       "    <tr>\n",
       "      <th>1198976</th>\n",
       "      <td>05/06/2019</td>\n",
       "      <td>20:00:00.493930</td>\n",
       "      <td>Trade</td>\n",
       "      <td>NaN</td>\n",
       "      <td>3.0</td>\n",
       "      <td>NaN</td>\n",
       "      <td>NaN</td>\n",
       "      <td>NaN</td>\n",
       "      <td>NaN</td>\n",
       "    </tr>\n",
       "    <tr>\n",
       "      <th>1199023</th>\n",
       "      <td>05/06/2019</td>\n",
       "      <td>20:00:01.313984</td>\n",
       "      <td>Trade</td>\n",
       "      <td>NaN</td>\n",
       "      <td>2.0</td>\n",
       "      <td>NaN</td>\n",
       "      <td>NaN</td>\n",
       "      <td>NaN</td>\n",
       "      <td>NaN</td>\n",
       "    </tr>\n",
       "    <tr>\n",
       "      <th>1202308</th>\n",
       "      <td>05/06/2019</td>\n",
       "      <td>20:15:54.264485</td>\n",
       "      <td>Trade</td>\n",
       "      <td>NaN</td>\n",
       "      <td>1.0</td>\n",
       "      <td>NaN</td>\n",
       "      <td>NaN</td>\n",
       "      <td>NaN</td>\n",
       "      <td>NaN</td>\n",
       "    </tr>\n",
       "  </tbody>\n",
       "</table>\n",
       "<p>1076 rows × 9 columns</p>\n",
       "</div>"
      ],
      "text/plain": [
       "               Date             Time   Type  Price  Volume  Bid Price  \\\n",
       "1093294  05/06/2019  00:02:52.239165  Trade    NaN     1.0        NaN   \n",
       "1093404  05/06/2019  00:03:13.634651  Trade    NaN     1.0        NaN   \n",
       "1093490  05/06/2019  00:05:18.727492  Trade    NaN     1.0        NaN   \n",
       "1093519  05/06/2019  00:05:19.315540  Trade    NaN     1.0        NaN   \n",
       "1096601  05/06/2019  00:31:30.533025  Trade    NaN     2.0        NaN   \n",
       "...             ...              ...    ...    ...     ...        ...   \n",
       "1194961  05/06/2019  18:27:51.913642  Trade    NaN     1.0        NaN   \n",
       "1194962  05/06/2019  18:27:52.961693  Trade    NaN     1.0        NaN   \n",
       "1198976  05/06/2019  20:00:00.493930  Trade    NaN     3.0        NaN   \n",
       "1199023  05/06/2019  20:00:01.313984  Trade    NaN     2.0        NaN   \n",
       "1202308  05/06/2019  20:15:54.264485  Trade    NaN     1.0        NaN   \n",
       "\n",
       "         Bid Size  Ask Price  Ask Size  \n",
       "1093294       NaN        NaN       NaN  \n",
       "1093404       NaN        NaN       NaN  \n",
       "1093490       NaN        NaN       NaN  \n",
       "1093519       NaN        NaN       NaN  \n",
       "1096601       NaN        NaN       NaN  \n",
       "...           ...        ...       ...  \n",
       "1194961       NaN        NaN       NaN  \n",
       "1194962       NaN        NaN       NaN  \n",
       "1198976       NaN        NaN       NaN  \n",
       "1199023       NaN        NaN       NaN  \n",
       "1202308       NaN        NaN       NaN  \n",
       "\n",
       "[1076 rows x 9 columns]"
      ]
     },
     "execution_count": 35,
     "metadata": {},
     "output_type": "execute_result"
    }
   ],
   "source": [
    "df_trades[df_trades.Date == list_unique_dates[4]]"
   ]
  },
  {
   "cell_type": "code",
   "execution_count": null,
   "id": "254fc846",
   "metadata": {},
   "outputs": [],
   "source": []
  }
 ],
 "metadata": {
  "kernelspec": {
   "display_name": "Python [conda env:timeSeries] *",
   "language": "python",
   "name": "conda-env-timeSeries-py"
  },
  "language_info": {
   "codemirror_mode": {
    "name": "ipython",
    "version": 3
   },
   "file_extension": ".py",
   "mimetype": "text/x-python",
   "name": "python",
   "nbconvert_exporter": "python",
   "pygments_lexer": "ipython3",
   "version": "3.7.12"
  }
 },
 "nbformat": 4,
 "nbformat_minor": 5
}
