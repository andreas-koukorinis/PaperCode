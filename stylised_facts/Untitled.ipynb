{
 "cells": [
  {
   "cell_type": "code",
   "execution_count": 5,
   "id": "4e2ba383",
   "metadata": {},
   "outputs": [],
   "source": [
    "import datetime\n",
    "import os\n",
    "import dask.dataframe as dd\n",
    "from pathlib import Path"
   ]
  },
  {
   "cell_type": "code",
   "execution_count": 6,
   "id": "925bf869",
   "metadata": {},
   "outputs": [],
   "source": [
    "data_path = '/media/ak/OS/Data/LOBDataPurhcased'"
   ]
  },
  {
   "cell_type": "code",
   "execution_count": 7,
   "id": "1d01064a",
   "metadata": {},
   "outputs": [],
   "source": [
    "\n",
    "\n",
    "def write_to_csv_for_dates(ddf, suffix, cols_to_drop, output_data_folder):\n",
    "    ddf_dates = sorted(ddf['Date'].unique().compute())\n",
    "\n",
    "    for d in ddf_dates:\n",
    "        date = datetime.datetime.strptime(d, '%m/%d/%Y').date()\n",
    "        quotes_for_date_ddf = ddf[ddf.Date == d].drop(cols_to_drop, axis=1)\n",
    "        write_file_dir = os.path.join(output_data_folder, f\"{symbol}_{suffix}\")\n",
    "        Path(write_file_dir).mkdir(parents=True, exist_ok=True)\n",
    "        write_file_loc = os.path.join(write_file_dir, f\"{datetime.datetime.strftime(date, '%Y%m%d')}.csv\")\n",
    "        dd.to_csv(quotes_for_date_ddf, write_file_loc, single_file=True)\n",
    "\n",
    "def write_to_csv_for_symbol(file_loc, write_data_folder):\n",
    "\n",
    "    ## Get symbol name:\n",
    "#     symbol = file_loc.split('/')[-1].split('.')[0]\n",
    "\n",
    "    ## Need to use dask delayed if this doesn't work\n",
    "    ddf = dd.read_csv(file_loc, assume_missing=True)\n",
    "\n",
    "\n",
    "    quotes_ddf = ddf[ddf.Type == 'Quote']\n",
    "    trades_ddf = ddf[ddf.Type == 'Trade']\n",
    "    write_to_csv_for_dates(quotes_ddf, suffix='quotes', cols_to_drop=['Price', 'Volume', 'Type'], output_data_folder=write_data_folder)\n",
    "    write_to_csv_for_dates(trades_ddf, suffix='trades', cols_to_drop=['Type', 'Bid Price','Bid Size','Ask Price','Ask Size'], output_data_folder=write_data_folder)"
   ]
  },
  {
   "cell_type": "code",
   "execution_count": 12,
   "id": "851e6d6b",
   "metadata": {},
   "outputs": [
    {
     "data": {
      "text/plain": [
       "True"
      ]
     },
     "execution_count": 12,
     "metadata": {},
     "output_type": "execute_result"
    }
   ],
   "source": [
    "location ='/media/ak/LaCie'\n",
    "symbol ='ES'\n",
    "write_data_folder = os.path.join(location, 'ProcessedSampledData')\n",
    "symbol_write_data_folder = os.path.join(write_data_folder, symbol)\n",
    "\n",
    "symbol_location_path = os.path.join(location, symbol)\n",
    "\n",
    "os.path.isdir(symbol_write_data_folder)"
   ]
  },
  {
   "cell_type": "code",
   "execution_count": null,
   "id": "1081ac56",
   "metadata": {},
   "outputs": [],
   "source": []
  },
  {
   "cell_type": "code",
   "execution_count": 18,
   "id": "e7a3b80f",
   "metadata": {},
   "outputs": [],
   "source": [
    "symbol_location_path\n",
    "csv_files = sorted(os.listdir(symbol_location_path))"
   ]
  },
  {
   "cell_type": "code",
   "execution_count": null,
   "id": "1462411e",
   "metadata": {},
   "outputs": [],
   "source": []
  },
  {
   "cell_type": "code",
   "execution_count": 21,
   "id": "cb1049ba",
   "metadata": {},
   "outputs": [
    {
     "data": {
      "text/plain": [
       "'/media/ak/LaCie/ES/Quote_20190502.csv'"
      ]
     },
     "execution_count": 21,
     "metadata": {},
     "output_type": "execute_result"
    }
   ],
   "source": [
    "symbol_file_loc = os.path.join(symbol_location_path, csv_files[1])\n",
    "symbol_file_loc"
   ]
  },
  {
   "cell_type": "code",
   "execution_count": 14,
   "id": "0586b438",
   "metadata": {},
   "outputs": [],
   "source": [
    "# write_data_folder = '/tmp/dask_data_tmp'\n",
    "# file_loc = '/tmp/dask_tmp/CLK2027.csv.gz'\n",
    "# write_to_csv_for_symbol(file_loc, write_data_folder)"
   ]
  },
  {
   "cell_type": "code",
   "execution_count": 22,
   "id": "dd559095",
   "metadata": {},
   "outputs": [
    {
     "ename": "AttributeError",
     "evalue": "'DataFrame' object has no attribute 'Type'",
     "output_type": "error",
     "traceback": [
      "\u001b[0;31m---------------------------------------------------------------------------\u001b[0m",
      "\u001b[0;31mAttributeError\u001b[0m                            Traceback (most recent call last)",
      "\u001b[0;32m<ipython-input-22-7c283020590f>\u001b[0m in \u001b[0;36m<module>\u001b[0;34m\u001b[0m\n\u001b[0;32m----> 1\u001b[0;31m \u001b[0mwrite_to_csv_for_symbol\u001b[0m\u001b[0;34m(\u001b[0m\u001b[0msymbol_file_loc\u001b[0m\u001b[0;34m,\u001b[0m \u001b[0msymbol_write_data_folder\u001b[0m\u001b[0;34m)\u001b[0m\u001b[0;34m\u001b[0m\u001b[0;34m\u001b[0m\u001b[0m\n\u001b[0m",
      "\u001b[0;32m<ipython-input-7-4d855042ac8e>\u001b[0m in \u001b[0;36mwrite_to_csv_for_symbol\u001b[0;34m(file_loc, write_data_folder)\u001b[0m\n\u001b[1;32m     19\u001b[0m \u001b[0;34m\u001b[0m\u001b[0m\n\u001b[1;32m     20\u001b[0m \u001b[0;34m\u001b[0m\u001b[0m\n\u001b[0;32m---> 21\u001b[0;31m     \u001b[0mquotes_ddf\u001b[0m \u001b[0;34m=\u001b[0m \u001b[0mddf\u001b[0m\u001b[0;34m[\u001b[0m\u001b[0mddf\u001b[0m\u001b[0;34m.\u001b[0m\u001b[0mType\u001b[0m \u001b[0;34m==\u001b[0m \u001b[0;34m'Quote'\u001b[0m\u001b[0;34m]\u001b[0m\u001b[0;34m\u001b[0m\u001b[0;34m\u001b[0m\u001b[0m\n\u001b[0m\u001b[1;32m     22\u001b[0m     \u001b[0mtrades_ddf\u001b[0m \u001b[0;34m=\u001b[0m \u001b[0mddf\u001b[0m\u001b[0;34m[\u001b[0m\u001b[0mddf\u001b[0m\u001b[0;34m.\u001b[0m\u001b[0mType\u001b[0m \u001b[0;34m==\u001b[0m \u001b[0;34m'Trade'\u001b[0m\u001b[0;34m]\u001b[0m\u001b[0;34m\u001b[0m\u001b[0;34m\u001b[0m\u001b[0m\n\u001b[1;32m     23\u001b[0m     \u001b[0mwrite_to_csv_for_dates\u001b[0m\u001b[0;34m(\u001b[0m\u001b[0mquotes_ddf\u001b[0m\u001b[0;34m,\u001b[0m \u001b[0msuffix\u001b[0m\u001b[0;34m=\u001b[0m\u001b[0;34m'quotes'\u001b[0m\u001b[0;34m,\u001b[0m \u001b[0mcols_to_drop\u001b[0m\u001b[0;34m=\u001b[0m\u001b[0;34m[\u001b[0m\u001b[0;34m'Price'\u001b[0m\u001b[0;34m,\u001b[0m \u001b[0;34m'Volume'\u001b[0m\u001b[0;34m,\u001b[0m \u001b[0;34m'Type'\u001b[0m\u001b[0;34m]\u001b[0m\u001b[0;34m,\u001b[0m \u001b[0moutput_data_folder\u001b[0m\u001b[0;34m=\u001b[0m\u001b[0mwrite_data_folder\u001b[0m\u001b[0;34m)\u001b[0m\u001b[0;34m\u001b[0m\u001b[0;34m\u001b[0m\u001b[0m\n",
      "\u001b[0;32m~/anaconda3/envs/newTimeSeries/lib/python3.6/site-packages/dask/dataframe/core.py\u001b[0m in \u001b[0;36m__getattr__\u001b[0;34m(self, key)\u001b[0m\n\u001b[1;32m   3761\u001b[0m             \u001b[0;32mreturn\u001b[0m \u001b[0mself\u001b[0m\u001b[0;34m[\u001b[0m\u001b[0mkey\u001b[0m\u001b[0;34m]\u001b[0m\u001b[0;34m\u001b[0m\u001b[0;34m\u001b[0m\u001b[0m\n\u001b[1;32m   3762\u001b[0m         \u001b[0;32melse\u001b[0m\u001b[0;34m:\u001b[0m\u001b[0;34m\u001b[0m\u001b[0;34m\u001b[0m\u001b[0m\n\u001b[0;32m-> 3763\u001b[0;31m             \u001b[0;32mraise\u001b[0m \u001b[0mAttributeError\u001b[0m\u001b[0;34m(\u001b[0m\u001b[0;34m\"'DataFrame' object has no attribute %r\"\u001b[0m \u001b[0;34m%\u001b[0m \u001b[0mkey\u001b[0m\u001b[0;34m)\u001b[0m\u001b[0;34m\u001b[0m\u001b[0;34m\u001b[0m\u001b[0m\n\u001b[0m\u001b[1;32m   3764\u001b[0m \u001b[0;34m\u001b[0m\u001b[0m\n\u001b[1;32m   3765\u001b[0m     \u001b[0;32mdef\u001b[0m \u001b[0m__dir__\u001b[0m\u001b[0;34m(\u001b[0m\u001b[0mself\u001b[0m\u001b[0;34m)\u001b[0m\u001b[0;34m:\u001b[0m\u001b[0;34m\u001b[0m\u001b[0;34m\u001b[0m\u001b[0m\n",
      "\u001b[0;31mAttributeError\u001b[0m: 'DataFrame' object has no attribute 'Type'"
     ]
    }
   ],
   "source": [
    "write_to_csv_for_symbol(symbol_file_loc, symbol_write_data_folder)"
   ]
  },
  {
   "cell_type": "code",
   "execution_count": 23,
   "id": "185360c7",
   "metadata": {},
   "outputs": [],
   "source": [
    "ddf = dd.read_csv(symbol_file_loc, assume_missing=True)\n",
    "\n",
    "\n",
    "# quotes_ddf = ddf[ddf.Type == 'Quote']\n",
    "# trades_ddf = ddf[ddf.Type == 'Trade']"
   ]
  },
  {
   "cell_type": "code",
   "execution_count": 24,
   "id": "b92ec05d",
   "metadata": {},
   "outputs": [
    {
     "data": {
      "text/html": [
       "<div><strong>Dask DataFrame Structure:</strong></div>\n",
       "<div>\n",
       "<style scoped>\n",
       "    .dataframe tbody tr th:only-of-type {\n",
       "        vertical-align: middle;\n",
       "    }\n",
       "\n",
       "    .dataframe tbody tr th {\n",
       "        vertical-align: top;\n",
       "    }\n",
       "\n",
       "    .dataframe thead th {\n",
       "        text-align: right;\n",
       "    }\n",
       "</style>\n",
       "<table border=\"1\" class=\"dataframe\">\n",
       "  <thead>\n",
       "    <tr style=\"text-align: right;\">\n",
       "      <th></th>\n",
       "      <th>Time</th>\n",
       "      <th>Bid Price</th>\n",
       "      <th>Bid Size</th>\n",
       "      <th>Ask Price</th>\n",
       "      <th>Ask Size</th>\n",
       "    </tr>\n",
       "    <tr>\n",
       "      <th>npartitions=1</th>\n",
       "      <th></th>\n",
       "      <th></th>\n",
       "      <th></th>\n",
       "      <th></th>\n",
       "      <th></th>\n",
       "    </tr>\n",
       "  </thead>\n",
       "  <tbody>\n",
       "    <tr>\n",
       "      <th></th>\n",
       "      <td>object</td>\n",
       "      <td>float64</td>\n",
       "      <td>float64</td>\n",
       "      <td>float64</td>\n",
       "      <td>float64</td>\n",
       "    </tr>\n",
       "    <tr>\n",
       "      <th></th>\n",
       "      <td>...</td>\n",
       "      <td>...</td>\n",
       "      <td>...</td>\n",
       "      <td>...</td>\n",
       "      <td>...</td>\n",
       "    </tr>\n",
       "  </tbody>\n",
       "</table>\n",
       "</div>\n",
       "<div>Dask Name: read-csv, 1 tasks</div>"
      ],
      "text/plain": [
       "Dask DataFrame Structure:\n",
       "                 Time Bid Price Bid Size Ask Price Ask Size\n",
       "npartitions=1                                              \n",
       "               object   float64  float64   float64  float64\n",
       "                  ...       ...      ...       ...      ...\n",
       "Dask Name: read-csv, 1 tasks"
      ]
     },
     "execution_count": 24,
     "metadata": {},
     "output_type": "execute_result"
    }
   ],
   "source": [
    "ddf"
   ]
  },
  {
   "cell_type": "code",
   "execution_count": null,
   "id": "3cebbcde",
   "metadata": {},
   "outputs": [],
   "source": []
  }
 ],
 "metadata": {
  "kernelspec": {
   "display_name": "Python 3",
   "language": "python",
   "name": "python3"
  },
  "language_info": {
   "codemirror_mode": {
    "name": "ipython",
    "version": 3
   },
   "file_extension": ".py",
   "mimetype": "text/x-python",
   "name": "python",
   "nbconvert_exporter": "python",
   "pygments_lexer": "ipython3",
   "version": "3.6.13"
  }
 },
 "nbformat": 4,
 "nbformat_minor": 5
}
