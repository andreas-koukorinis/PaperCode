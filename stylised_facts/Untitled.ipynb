{
 "cells": [
  {
   "cell_type": "code",
   "execution_count": 2,
   "id": "e690df4c",
   "metadata": {},
   "outputs": [],
   "source": [
    "import numpy as np\n",
    "import matplotlib.pyplot as plt\n",
    "import freqopttest.util as util\n",
    "import freqopttest.data as data\n",
    "import freqopttest.kernel as kernel\n",
    "import freqopttest.tst as tst\n",
    "import collections\n",
    "from collections import defaultdict\n",
    "import freqopttest.glo as glo\n",
    "import sys\n",
    "import time\n",
    "import os\n",
    "import pandas as pd\n",
    "import pickle\n",
    "import itertools\n",
    "mfdfaDataFrames = '/media/ak/T71/August11th2022Experiments/mfdfaDataFrames'  # Input Files\n",
    "LinearMMDOutputFiles = '/media/ak/T71/August11th2022Experiments/ExperimentOne/TestMMDOutputFiles'  # Location to Save Files\n"
   ]
  },
  {
   "cell_type": "code",
   "execution_count": 7,
   "id": "db69ec7f",
   "metadata": {},
   "outputs": [],
   "source": [
    "\n",
    "\n",
    "def simulate_null_spectral(weights, n_simulate=1000, seed=275):\n",
    "    \"\"\"\n",
    "    weights: chi-square weights (for the infinite weigted sum of chi squares)\n",
    "    Return the values of MMD^2 (NOT n*MMD^2) simulated from the null distribution by\n",
    "    the spectral method.\n",
    "    \"\"\"\n",
    "    # draw at most block_size values at a time\n",
    "    block_size = 400\n",
    "    D = chi2_weights.shape[0]  # len(weights)\n",
    "    mmds = np.zeros(n_simulate)\n",
    "    from_ind = 0\n",
    "\n",
    "    with util.NumpySeedContext(seed=seed):\n",
    "        while from_ind < n_simulate:\n",
    "            to_draw = min(block_size, n_simulate - from_ind)\n",
    "            # draw chi^2 random variables.\n",
    "            chi2 = np.random.randn(D, to_draw) ** 2\n",
    "            # an array of length to_draw\n",
    "            sim_mmds = 2.0 * weights.dot(chi2 - 1.0)\n",
    "            # store\n",
    "            end_ind = from_ind + to_draw\n",
    "            mmds[from_ind:end_ind] = sim_mmds\n",
    "            from_ind = end_ind\n",
    "    return mmds\n",
    "\n",
    "\n",
    "def chi_square_weights_H0(k, X):\n",
    "    \"\"\"\n",
    "    Return a numpy array of the weights to be used as the weights in the\n",
    "    weighted sum of chi-squares for the null distribution of MMD^2.\n",
    "    - k: a Kernel\n",
    "    - X: n x d number array of n data points\n",
    "    \"\"\"\n",
    "    n = X.shape[0]\n",
    "    # Gram matrix\n",
    "    K = k.eval(X, X)\n",
    "    # centring matrix. Not the most efficient way.\n",
    "    H = np.eye(n) - np.ones((n, n)) / float(n)\n",
    "    HKH = H.dot(K).dot(H)\n",
    "    # https://docs.scipy.org/doc/numpy-1.14.0/reference/generated/numpy.linalg.eigvals.html\n",
    "    evals = np.linalg.eigvals(HKH)\n",
    "    evals = np.real(evals)\n",
    "    # sort in decreasing order\n",
    "    evals = -np.sort(-evals)\n",
    "    weights = evals / float(n) ** 2\n",
    "    return weights\n",
    "#-------# #----------------# FILES & Locations #-----------------#\n",
    "symbol = 'XM1'\n",
    "symbol_mfdfa_Frames_loc = os.path.join(mfdfaDataFrames, symbol)\n",
    "bar_choice = 'dollar'\n",
    "variable = 'alpha'\n",
    "\n",
    "\n",
    "t7 ='/media/ak/T71'\n",
    "experimentFiles = os.path.join(t7,'August11th2022Experiments')\n",
    "\n"
   ]
  },
  {
   "cell_type": "code",
   "execution_count": 14,
   "id": "fc223d01",
   "metadata": {},
   "outputs": [
    {
     "data": {
      "text/plain": [
       "['G_1', 'YM1', 'XM1', 'FB1', 'JB1', 'RX1', 'DU1', 'US1']"
      ]
     },
     "execution_count": 14,
     "metadata": {},
     "output_type": "execute_result"
    }
   ],
   "source": [
    "os.listdir(mfdfaDataFrames) \n"
   ]
  },
  {
   "cell_type": "code",
   "execution_count": 6,
   "id": "850188fa",
   "metadata": {},
   "outputs": [
    {
     "ename": "IndexError",
     "evalue": "list index out of range",
     "output_type": "error",
     "traceback": [
      "\u001b[0;31m-----------------------------------------------------------------\u001b[0m",
      "\u001b[0;31mIndexError\u001b[0m                      Traceback (most recent call last)",
      "\u001b[0;32m<ipython-input-6-08b7a620e02c>\u001b[0m in \u001b[0;36m<module>\u001b[0;34m\u001b[0m\n\u001b[0;32m----> 1\u001b[0;31m \u001b[0mfile_name\u001b[0m \u001b[0;34m=\u001b[0m \u001b[0;34m[\u001b[0m\u001b[0mf\u001b[0m \u001b[0;32mfor\u001b[0m \u001b[0mf\u001b[0m \u001b[0;32min\u001b[0m \u001b[0mos\u001b[0m\u001b[0;34m.\u001b[0m\u001b[0mlistdir\u001b[0m\u001b[0;34m(\u001b[0m\u001b[0msymbol_mfdfa_Frames_loc\u001b[0m \u001b[0;34m)\u001b[0m \u001b[0;32mif\u001b[0m \u001b[0mstr\u001b[0m\u001b[0;34m(\u001b[0m\u001b[0mvariable\u001b[0m\u001b[0;34m)\u001b[0m \u001b[0;32min\u001b[0m \u001b[0mf\u001b[0m\u001b[0;34m]\u001b[0m\u001b[0;34m[\u001b[0m\u001b[0;36m0\u001b[0m\u001b[0;34m]\u001b[0m\u001b[0;34m\u001b[0m\u001b[0;34m\u001b[0m\u001b[0m\n\u001b[0m\u001b[1;32m      2\u001b[0m \u001b[0mfile_loc\u001b[0m \u001b[0;34m=\u001b[0m \u001b[0mos\u001b[0m\u001b[0;34m.\u001b[0m\u001b[0mpath\u001b[0m\u001b[0;34m.\u001b[0m\u001b[0mjoin\u001b[0m\u001b[0;34m(\u001b[0m\u001b[0msymbol_mfdfa_Frames_loc\u001b[0m\u001b[0;34m,\u001b[0m \u001b[0mfile_name\u001b[0m\u001b[0;34m)\u001b[0m\u001b[0;34m\u001b[0m\u001b[0;34m\u001b[0m\u001b[0m\n\u001b[1;32m      3\u001b[0m \u001b[0munpickled_Df\u001b[0m \u001b[0;34m=\u001b[0m \u001b[0mpd\u001b[0m\u001b[0;34m.\u001b[0m\u001b[0mread_pickle\u001b[0m\u001b[0;34m(\u001b[0m\u001b[0mfile_loc\u001b[0m\u001b[0;34m)\u001b[0m\u001b[0;34m\u001b[0m\u001b[0;34m\u001b[0m\u001b[0m\n\u001b[1;32m      4\u001b[0m \u001b[0mlen\u001b[0m \u001b[0;34m=\u001b[0m \u001b[0munpickled_Df\u001b[0m\u001b[0;34m.\u001b[0m\u001b[0mshape\u001b[0m\u001b[0;34m[\u001b[0m\u001b[0;36m1\u001b[0m\u001b[0;34m]\u001b[0m\u001b[0;34m\u001b[0m\u001b[0;34m\u001b[0m\u001b[0m\n\u001b[1;32m      5\u001b[0m \u001b[0mprint\u001b[0m\u001b[0;34m(\u001b[0m\u001b[0mlen\u001b[0m\u001b[0;34m)\u001b[0m\u001b[0;34m\u001b[0m\u001b[0;34m\u001b[0m\u001b[0m\n",
      "\u001b[0;31mIndexError\u001b[0m: list index out of range"
     ]
    }
   ],
   "source": [
    "file_name = [f for f in os.listdir(symbol_mfdfa_Frames_loc ) if str(variable) in f][0]\n",
    "file_loc = os.path.join(symbol_mfdfa_Frames_loc, file_name)\n",
    "unpickled_Df = pd.read_pickle(file_loc)\n",
    "len = unpickled_Df.shape[1]\n",
    "print(len)\n",
    "\n",
    "mmd_train_test_results = defaultdict(dict)\n",
    "\n"
   ]
  },
  {
   "cell_type": "code",
   "execution_count": 4,
   "id": "b3419351",
   "metadata": {},
   "outputs": [
    {
     "ename": "TypeError",
     "evalue": "unsupported operand type(s) for -: 'builtin_function_or_method' and 'int'",
     "output_type": "error",
     "traceback": [
      "\u001b[0;31m-----------------------------------------------------------------\u001b[0m",
      "\u001b[0;31mTypeError\u001b[0m                       Traceback (most recent call last)",
      "\u001b[0;32m<ipython-input-4-bf130773b39b>\u001b[0m in \u001b[0;36m<module>\u001b[0;34m\u001b[0m\n\u001b[1;32m      6\u001b[0m     \u001b[0mc\u001b[0m \u001b[0;34m=\u001b[0m \u001b[0mlist\u001b[0m\u001b[0;34m(\u001b[0m\u001b[0mitertools\u001b[0m\u001b[0;34m.\u001b[0m\u001b[0mproduct\u001b[0m\u001b[0;34m(\u001b[0m\u001b[0ma_args\u001b[0m\u001b[0;34m,\u001b[0m \u001b[0msecond_arg\u001b[0m\u001b[0;34m)\u001b[0m\u001b[0;34m)\u001b[0m\u001b[0;34m\u001b[0m\u001b[0;34m\u001b[0m\u001b[0m\n\u001b[1;32m      7\u001b[0m     \u001b[0;32mfor\u001b[0m \u001b[0mshift\u001b[0m\u001b[0;34m,\u001b[0m \u001b[0mwindow\u001b[0m \u001b[0;32min\u001b[0m \u001b[0mc\u001b[0m\u001b[0;34m:\u001b[0m\u001b[0;34m\u001b[0m\u001b[0;34m\u001b[0m\u001b[0m\n\u001b[0;32m----> 8\u001b[0;31m         \u001b[0;32mfor\u001b[0m \u001b[0mstart_point\u001b[0m \u001b[0;32min\u001b[0m \u001b[0mrange\u001b[0m\u001b[0;34m(\u001b[0m\u001b[0;36m0\u001b[0m\u001b[0;34m,\u001b[0m \u001b[0;34m(\u001b[0m\u001b[0mlen\u001b[0m \u001b[0;34m-\u001b[0m \u001b[0mwindow\u001b[0m \u001b[0;34m-\u001b[0m \u001b[0mshift\u001b[0m\u001b[0;34m)\u001b[0m\u001b[0;34m)\u001b[0m\u001b[0;34m:\u001b[0m\u001b[0;34m\u001b[0m\u001b[0;34m\u001b[0m\u001b[0m\n\u001b[0m\u001b[1;32m      9\u001b[0m             \u001b[0mend_point\u001b[0m \u001b[0;34m=\u001b[0m \u001b[0mstart_point\u001b[0m \u001b[0;34m+\u001b[0m \u001b[0mshift\u001b[0m\u001b[0;34m\u001b[0m\u001b[0;34m\u001b[0m\u001b[0m\n\u001b[1;32m     10\u001b[0m \u001b[0;34m\u001b[0m\u001b[0m\n",
      "\u001b[0;31mTypeError\u001b[0m: unsupported operand type(s) for -: 'builtin_function_or_method' and 'int'"
     ]
    }
   ],
   "source": [
    "if __name__ == '__main__':\n",
    "\n",
    "    start = time.time()\n",
    "    a_args =[1, 2, 3]\n",
    "    second_arg = [1, 4, 5, 6, 8, 10]\n",
    "    c = list(itertools.product(a_args, second_arg))\n",
    "    for shift, window in c:\n",
    "        for start_point in range(0, (len - window - shift)):\n",
    "            end_point = start_point + shift\n",
    "\n",
    "            X = np.array(unpickled_Df.iloc[:, start_point:end_point])\n",
    "            Y = np.array(unpickled_Df.iloc[:, end_point + shift:end_point + 2 * shift])\n",
    "            Z = np.array(unpickled_Df.iloc[:, start_point + window:end_point + window])\n",
    "\n",
    "            try:\n",
    "                tr_data = data.TSTData(X, Y)\n",
    "                test_data_one = data.TSTData(X, Z)  # data to train the model\n",
    "                test_data_two = data.TSTData(Y, Z)\n",
    "                # training dictionary results\n",
    "                tr, te = tr_data.split_tr_te(tr_proportion=0.95, seed=10)  # is this necessary?!\n",
    "\n",
    "                xtr, ytr = tr.xy()\n",
    "                xytr = tr.stack_xy()\n",
    "                sig2 = util.meddistance(xytr, subsample=1000)\n",
    "                k = kernel.KGauss(sig2)\n",
    "                mean, var = tst.QuadMMDTest.h1_mean_var(xtr, ytr, k, is_var_computed=True)\n",
    "                Kx = k.eval(xtr, xtr)\n",
    "                Ky = k.eval(ytr, ytr)\n",
    "                Kxy = k.eval(xtr, ytr)\n",
    "                mean_gram, var_gram = tst.QuadMMDTest.h1_mean_var_gram(Kx, Ky, Kxy, k, True)\n",
    "                chi2_weights = chi_square_weights_H0(k, xytr)\n",
    "                sim_mmds = simulate_null_spectral(chi2_weights, n_simulate=2000)\n",
    "                # choose the best parameter and perform a test with permutations\n",
    "                med = util.meddistance(tr.stack_xy(), 1000)\n",
    "                list_gwidth = np.hstack(((med ** 2) * (2.0 ** np.linspace(-4, 4, 20))))\n",
    "                list_gwidth.sort()\n",
    "                list_kernels = [kernel.KGauss(gw2) for gw2 in list_gwidth]\n",
    "\n",
    "                # grid search to choose the best Gaussian width\n",
    "                besti, powers = tst.QuadMMDTest.grid_search_kernel(tr, list_kernels, alpha=0.05)\n",
    "                # perform test\n",
    "                best_ker = list_kernels[besti]\n",
    "                mmd_train_test_results[start_point]['perm_mmds1'] = tst.QuadMMDTest.permutation_list_mmd2(xtr, ytr, k,\n",
    "                                                                                                          n_permute=2000)\n",
    "                mmd_train_test_results[start_point]['chi2_weights'] = chi2_weights\n",
    "                mmd_train_test_results[start_point]['sim_mmds'] = sim_mmds\n",
    "                mmd_train_test_results[start_point]['sig2'] = sig2\n",
    "                mmd_train_test_results[start_point]['Kxy'] = k.eval(xtr, ytr)\n",
    "                mmd_train_test_results[start_point]['mean'] = mean\n",
    "                mmd_train_test_results[start_point]['var'] = var\n",
    "                mmd_train_test_results[start_point]['Kxx'] = k.eval(xtr, xtr)\n",
    "                mmd_train_test_results[start_point]['Kyy'] = k.eval(ytr, ytr)\n",
    "                mmd_train_test_results[start_point]['mean_gram'] = mean_gram\n",
    "                mmd_train_test_results[start_point]['var_gram'] = var_gram\n",
    "                mmd_train_test_results[start_point]['med'] = util.meddistance(tr.stack_xy(), 1000)\n",
    "                mmd_train_test_results[start_point]['list_gwidth'] = list_gwidth.sort()\n",
    "                mmd_train_test_results[start_point]['list_kernels'] = list_kernels\n",
    "                mmd_train_test_results[start_point]['besti'] = besti\n",
    "                mmd_train_test_results[start_point]['powers'] = powers\n",
    "                mmd_train_test_results[start_point]['best_ker'] = best_ker\n",
    "\n",
    "                alpha = 0.05\n",
    "                mmd_test = tst.QuadMMDTest(best_ker, n_permute=2000, alpha=alpha)\n",
    "                mmd_train_test_results[start_point]['XZ_test'] = mmd_test.perform_test(test_data_one)\n",
    "                mmd_train_test_results[start_point]['YZ_test'] = mmd_test.perform_test(test_data_two)\n",
    "            except ValueError:\n",
    "                pass\n",
    "\n",
    "                # testing the first data set\n",
    "            pickle_out_dict_one = os.path.join(LinearMMDOutputFiles, \"\".join(\n",
    "                (str(symbol) + \"_\" + str(variable) + \"_shift_\" + str(shift) + \"_wind_\" + str(window) + \"_\" + str(\n",
    "                    'quad_MMD_test') + \".pkl\")))\n",
    "            pickle.dump(mmd_train_test_results, open(pickle_out_dict_one, 'wb'), protocol=pickle.HIGHEST_PROTOCOL)\n",
    "\n",
    "        end = time.time()\n",
    "        print(end - start)\n"
   ]
  },
  {
   "cell_type": "code",
   "execution_count": null,
   "id": "a68bd3a3",
   "metadata": {},
   "outputs": [],
   "source": []
  },
  {
   "cell_type": "code",
   "execution_count": null,
   "id": "1c810396",
   "metadata": {},
   "outputs": [],
   "source": []
  }
 ],
 "metadata": {
  "kernelspec": {
   "display_name": "Python [conda env:newTimeSeries] *",
   "language": "python",
   "name": "conda-env-newTimeSeries-py"
  },
  "language_info": {
   "codemirror_mode": {
    "name": "ipython",
    "version": 3
   },
   "file_extension": ".py",
   "mimetype": "text/x-python",
   "name": "python",
   "nbconvert_exporter": "python",
   "pygments_lexer": "ipython3",
   "version": "3.6.13"
  }
 },
 "nbformat": 4,
 "nbformat_minor": 5
}
