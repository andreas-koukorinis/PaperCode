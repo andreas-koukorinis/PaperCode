{
 "cells": [
  {
   "cell_type": "code",
   "execution_count": 1,
   "id": "b373a7f6",
   "metadata": {},
   "outputs": [
    {
     "ename": "ModuleNotFoundError",
     "evalue": "No module named 'seaborn'",
     "output_type": "error",
     "traceback": [
      "\u001b[0;31m---------------------------------------------------------------------------\u001b[0m",
      "\u001b[0;31mModuleNotFoundError\u001b[0m                       Traceback (most recent call last)",
      "\u001b[0;32m<ipython-input-1-b77c78fbb9c9>\u001b[0m in \u001b[0;36m<module>\u001b[0;34m\u001b[0m\n\u001b[1;32m      6\u001b[0m \u001b[0;32mimport\u001b[0m \u001b[0mnumpy\u001b[0m \u001b[0;32mas\u001b[0m \u001b[0mnp\u001b[0m\u001b[0;34m\u001b[0m\u001b[0;34m\u001b[0m\u001b[0m\n\u001b[1;32m      7\u001b[0m \u001b[0;32mimport\u001b[0m \u001b[0mos\u001b[0m\u001b[0;34m\u001b[0m\u001b[0;34m\u001b[0m\u001b[0m\n\u001b[0;32m----> 8\u001b[0;31m \u001b[0;32mimport\u001b[0m \u001b[0mlob_for_futures\u001b[0m \u001b[0;32mas\u001b[0m \u001b[0mlobFut\u001b[0m\u001b[0;34m\u001b[0m\u001b[0;34m\u001b[0m\u001b[0m\n\u001b[0m\u001b[1;32m      9\u001b[0m \u001b[0;32mfrom\u001b[0m \u001b[0mlob_for_futures\u001b[0m \u001b[0;32mimport\u001b[0m \u001b[0;34m*\u001b[0m\u001b[0;34m\u001b[0m\u001b[0;34m\u001b[0m\u001b[0m\n\u001b[1;32m     10\u001b[0m \u001b[0;32mimport\u001b[0m \u001b[0mos\u001b[0m\u001b[0;34m\u001b[0m\u001b[0;34m\u001b[0m\u001b[0m\n",
      "\u001b[0;32m~/Documents/PaperCode/stylised_facts/lob_for_futures/__init__.py\u001b[0m in \u001b[0;36m<module>\u001b[0;34m\u001b[0m\n\u001b[1;32m      6\u001b[0m \u001b[0;32mimport\u001b[0m \u001b[0mpandas\u001b[0m \u001b[0;32mas\u001b[0m \u001b[0mpd\u001b[0m\u001b[0;34m\u001b[0m\u001b[0;34m\u001b[0m\u001b[0m\n\u001b[1;32m      7\u001b[0m \u001b[0;32mimport\u001b[0m \u001b[0mnumpy\u001b[0m \u001b[0;32mas\u001b[0m \u001b[0mnp\u001b[0m\u001b[0;34m\u001b[0m\u001b[0;34m\u001b[0m\u001b[0m\n\u001b[0;32m----> 8\u001b[0;31m \u001b[0;32mimport\u001b[0m \u001b[0mseaborn\u001b[0m \u001b[0;32mas\u001b[0m \u001b[0msns\u001b[0m\u001b[0;34m\u001b[0m\u001b[0;34m\u001b[0m\u001b[0m\n\u001b[0m\u001b[1;32m      9\u001b[0m \u001b[0;32mimport\u001b[0m \u001b[0mtime\u001b[0m\u001b[0;34m\u001b[0m\u001b[0;34m\u001b[0m\u001b[0m\n\u001b[1;32m     10\u001b[0m \u001b[0;32mfrom\u001b[0m \u001b[0msklearn\u001b[0m\u001b[0;34m.\u001b[0m\u001b[0mmetrics\u001b[0m \u001b[0;32mimport\u001b[0m \u001b[0maccuracy_score\u001b[0m\u001b[0;34m,\u001b[0m \u001b[0mroc_auc_score\u001b[0m\u001b[0;34m\u001b[0m\u001b[0;34m\u001b[0m\u001b[0m\n",
      "\u001b[0;31mModuleNotFoundError\u001b[0m: No module named 'seaborn'"
     ]
    }
   ],
   "source": [
    "import sys\n",
    "sys.path.append('/home/ak/Documents/Research/PaperCode/stylised_facts/stylised_facts_data_utilities')\n",
    "import numpy as np\n",
    "import matplotlib.pyplot as plt\n",
    "import pandas as pd\n",
    "import numpy as np\n",
    "import os\n",
    "import lob_for_futures as lobFut\n",
    "from lob_for_futures import *\n",
    "import os\n",
    "import matplotlib.pyplot as plt\n",
    "\n",
    "import numpy as np\n",
    "from sklearn import linear_model\n",
    "import collections\n",
    "from collections import defaultdict\n",
    "import pickle\n",
    "import array_to_latex as a2l\n",
    "import tqdm\n",
    "import time\n",
    "\n",
    "from dateutil.parser import parse\n",
    "from pandas.tseries.offsets import BDay\n",
    "import pickle as pkl\n",
    "import fnmatch\n",
    "\n",
    "import datetime as dt\n",
    "from datetime import timedelta\n",
    "import glob\n",
    "import fathon\n",
    "from fathon import fathonUtils as fu\n",
    "from shogun import ST_UNBIASED_FULL,NAM_PERMUTATION, ST_BIASED_FULL\n",
    "import pyinform as pyinf\n",
    "import pingouin as pig\n",
    "from scipy.stats import entropy\n",
    "from scipy.spatial.distance import jensenshannon\n",
    "from scipy.special import kl_div\n",
    "import time\n",
    "####\n",
    "def symbol_file_name_path(symbol, file_idx):\n",
    "    symbolPath = os.path.join(experimentsDestination, str(symbol))\n",
    "    file_names =sorted(os.listdir(symbolPath))\n",
    "    file_name =file_names[file_idx]\n",
    "    file_path =os.path.join(symbolPath, file_name)\n",
    "    return file_names, file_path\n",
    "def n_F(dicts, bar):\n",
    "    df = pd.DataFrame.from_dict(dicts[str(bar)])\n",
    "    n = df.index.values\n",
    "    F = df.median(axis=1).values\n",
    "    return n, F\n",
    "def h_params(h_dict, bar):\n",
    "    h_df = pd.DataFrame.from_dict(h_dict[str(bar)]).T.median(axis=0)\n",
    "    H_intercept = h_df[1]\n",
    "    H = h_df[0]\n",
    "    return H_intercept, H\n",
    "\n",
    "\n",
    "def open_pickle_filepath(pickle_file):\n",
    "    pickle_to_file = pickle.load(open(pickle_file, \"rb\"), encoding='latin1')\n",
    "\n",
    "    return pickle_to_file"
   ]
  },
  {
   "cell_type": "code",
   "execution_count": 6,
   "id": "9e8f5f7b",
   "metadata": {},
   "outputs": [],
   "source": [
    "import shogun"
   ]
  },
  {
   "cell_type": "code",
   "execution_count": 7,
   "id": "73aedcb6",
   "metadata": {},
   "outputs": [],
   "source": [
    "import stylised_facts_data_utilities.mmd as mmd\n",
    "import stylised_facts_data_utilities.ksd as ksd\n",
    "import stylised_facts_data_utilities.longtaildistr as ltd\n",
    "from scipy import stats"
   ]
  },
  {
   "cell_type": "code",
   "execution_count": 8,
   "id": "4a28bd5d",
   "metadata": {},
   "outputs": [
    {
     "name": "stdout",
     "output_type": "stream",
     "text": [
      "/media/ak/WorkDrive/Data\n",
      "TU1\n"
     ]
    }
   ],
   "source": [
    "## symbol and appropriate quantities ###\n",
    "dataFolder = lobFut.dataFolder # pick a data folder\n",
    "print(dataFolder)\n",
    "\n",
    "quotes =[f for f in os.listdir(dataFolder) if str('_quotes') in f] # seperate quotes and trades\n",
    "trades =[f for f in os.listdir(dataFolder) if str('_trades') in f]\n",
    "\n",
    "symbolIdx = 9 # pick a symbol\n",
    "\n",
    "symbols = [f.split(\"_\")[0] for f in quotes]\n",
    "\n",
    "symbol = sorted(symbols)[symbolIdx]\n",
    "print(symbol)\n",
    "quotesFileCh = os.path.join(dataFolder, quotes[symbolIdx])\n",
    "tradesFileCh = os.path.join(dataFolder, trades[symbolIdx])\n",
    "\n",
    "# get common Dates\n",
    "quotesDates = sorted([f.split(\".csv\")[0] for f in os.listdir(quotesFileCh)])\n",
    "tradesDates = sorted([f.split(\".csv\")[0] for f in os.listdir(tradesFileCh)])\n",
    "\n",
    "intersectionDates = list(set(quotesDates).intersection(tradesDates))\n",
    "\n",
    "trades_cols = ['size', 'time', 'type', 'value']\n"
   ]
  },
  {
   "cell_type": "code",
   "execution_count": 9,
   "id": "fd2844c0",
   "metadata": {},
   "outputs": [
    {
     "data": {
      "text/plain": [
       "['DFA_n_f_valuesvolume_width100calendar_resample200S_bar_20180731_calendar.pkl',\n",
       " 'DFA_h_dict_valuesvolume_width100calendar_resample200S_bar_20180731_calendar.pkl',\n",
       " 'MDFA_n_f_valuesvolume_width100calendar_resample200S_bar_20180731_calendar.pkl',\n",
       " 'MDFA_TAU_DICTvolume_width100calendar_resample200S_bar_20180731_calendar.pkl',\n",
       " 'MDFA_alpha_spectvolume_width100calendar_resample200S_bar_20180731_calendar.pkl',\n",
       " 'MDFA_H_dictvolume_width100calendar_resample200S_bar_20180731_calendar.pkl']"
      ]
     },
     "execution_count": 9,
     "metadata": {},
     "output_type": "execute_result"
    }
   ],
   "source": [
    "experimentsDestination = '/media/ak/T7/MFDFA Experiments/' # where all the MFDFA results are stored\n",
    "files = os.listdir(os.path.join('/media/ak/T7/MFDFA Experiments/', symbol)) # where the specific MFDFA results are\n",
    "files # just a printout of which files are in there"
   ]
  },
  {
   "cell_type": "code",
   "execution_count": 10,
   "id": "74d55bf9",
   "metadata": {},
   "outputs": [
    {
     "name": "stdout",
     "output_type": "stream",
     "text": [
      "/media/ak/T7/MFDFA Experiments/TU1/MDFA_H_dictvolume_width100calendar_resample200S_bar_20180731_calendar.pkl\n"
     ]
    }
   ],
   "source": [
    "## 'MFDFA_H_values_bar_calendar\n",
    "mfdfa_alpha_spect_pickle_file_path = os.path.join(experimentsDestination,symbol, files[4]) # this is the h_dict mfdfa\n",
    "\n",
    "mfdfa_tau_dict_file_path = os.path.join(experimentsDestination,symbol, files[3]) # this is the h_dict mfdfa\n",
    "\n",
    "mfdfa_n_f_file_path = os.path.join(experimentsDestination,symbol,  files[2]) # this is the mfdfa\n",
    "mfdfa_h_dict_path = os.path.join(experimentsDestination,symbol,  files[5])\n",
    "print(mfdfa_h_dict_path )"
   ]
  },
  {
   "cell_type": "code",
   "execution_count": 11,
   "id": "6e4194ad",
   "metadata": {},
   "outputs": [],
   "source": [
    "# read the DFA Dicts\n",
    "H_dicts = open_pickle_filepath(mfdfa_tau_dict_file_path)\n",
    "# returns h_dict[j][i] = [H, H_intercept] # bar/date: H, H_intercept\n",
    "barIdx =0 #0:tick, 1:volume\n",
    "bars = ['tick', 'volume', 'dollar', 'calendar']\n",
    "dates = list(H_dicts[bars[barIdx]].keys())\n",
    "\n",
    "MFDFA_n_f_dicts = open_pickle_filepath(mfdfa_n_f_file_path)\n",
    "dicts= open_pickle_filepath(mfdfa_h_dict_path)"
   ]
  },
  {
   "cell_type": "code",
   "execution_count": 12,
   "id": "33b7bd4b",
   "metadata": {},
   "outputs": [],
   "source": [
    "bar_choice = bars[barIdx]\n",
    "# tick bar\n",
    "mfSpect_tick =list()\n",
    "alpha_tick =list()\n",
    "# dollar bar\n",
    "mfSpect_dollar =list()\n",
    "alpha_dollar =list()\n",
    "\n",
    "# calendar bar\n",
    "mfSpect_calendar =list()\n",
    "alpha_calendar =list()\n",
    "\n",
    "# calendar bar\n",
    "mfSpect_volume =list()\n",
    "alpha_volume =list()\n",
    "\n",
    "\n",
    "for i in range(len(dates)):\n",
    "    mfSpect_tick.append(dicts[str(bar_choice)][dates[i]][0])\n",
    "    alpha_tick.append(dicts[str(bar_choice)][dates[i]][1])\n",
    "    # dollar\n",
    "    mfSpect_dollar.append(dicts['dollar'][dates[i]][0])\n",
    "    alpha_dollar.append(dicts['dollar'][dates[i]][1])\n",
    "    # calendar\n",
    "    mfSpect_calendar.append(dicts['calendar'][dates[i]][0])\n",
    "    alpha_calendar.append(dicts['calendar'][dates[i]][1])\n",
    "    # usd volume\n",
    "    mfSpect_volume.append(dicts['volume'][dates[i]][0])\n",
    "    alpha_volume.append(dicts['volume'][dates[i]][1])\n",
    "    "
   ]
  },
  {
   "cell_type": "code",
   "execution_count": 13,
   "id": "c03ae2c9",
   "metadata": {},
   "outputs": [],
   "source": [
    "'tick'\n",
    "mfSpect_tick_df = pd.DataFrame(list(map(np.ravel, mfSpect_tick))).T #take transpose so we can read across dates\n",
    "alpha_tick_df = pd.DataFrame(list(map(np.ravel, alpha_tick))).T\n",
    "\n",
    "'dollar'\n",
    "mfSpect_dollar_df = pd.DataFrame(list(map(np.ravel, mfSpect_dollar))).T\n",
    "alpha_dollar_df = pd.DataFrame(list(map(np.ravel, alpha_dollar))).T\n",
    "\n",
    "'calendar'\n",
    "mfSpect_calendar_df = pd.DataFrame(list(map(np.ravel, mfSpect_calendar))).T\n",
    "alpha_calendar_df = pd.DataFrame(list(map(np.ravel, alpha_calendar))).T\n",
    "\n",
    "'volume'\n",
    "mfSpect_volume_df = pd.DataFrame(list(map(np.ravel, mfSpect_volume))).T\n",
    "alpha_volume_df = pd.DataFrame(list(map(np.ravel, alpha_volume))).T\n"
   ]
  },
  {
   "cell_type": "code",
   "execution_count": 14,
   "id": "9ed2439c",
   "metadata": {},
   "outputs": [],
   "source": [
    "from scipy.stats import norm, laplace\n",
    "\n",
    "def sample_gaussian_vs_laplace(n=220, mu=0.0, sigma2=None, b=np.sqrt(0.5)):    \n",
    "    # sample from both distributions\n",
    "    X=norm.rvs(size=n, loc=mu, scale=sigma2)\n",
    "    Y=laplace.rvs(size=n, loc=mu, scale=b)\n",
    "    \n",
    "    return X,Y"
   ]
  },
  {
   "cell_type": "code",
   "execution_count": 48,
   "id": "50c18462",
   "metadata": {},
   "outputs": [],
   "source": [
    "choice_variable = np.array(mfSpect_calendar_df.median(axis=1))"
   ]
  },
  {
   "cell_type": "code",
   "execution_count": 49,
   "id": "bb510ae4",
   "metadata": {},
   "outputs": [],
   "source": [
    "X, Y = sample_gaussian_vs_laplace(n=len(choice_variable), mu= np.average(choice_variable), sigma2 = np.std(choice_variable), b=np.sqrt(0.5))"
   ]
  },
  {
   "cell_type": "code",
   "execution_count": 51,
   "id": "d399bc7d",
   "metadata": {},
   "outputs": [
    {
     "data": {
      "text/plain": [
       "numpy.ndarray"
      ]
     },
     "execution_count": 51,
     "metadata": {},
     "output_type": "execute_result"
    }
   ],
   "source": [
    "type(choice_variable)"
   ]
  },
  {
   "cell_type": "code",
   "execution_count": 56,
   "id": "aee96d98",
   "metadata": {},
   "outputs": [
    {
     "data": {
      "image/png": "[encoded data removed]",
      "text/plain": [
       "<Figure size 518.4x320.4 with 1 Axes>"
      ]
     },
     "metadata": {
      "needs_background": "light"
     },
     "output_type": "display_data"
    }
   ],
   "source": [
    "plt.hist(X, alpha=0.9, bins =30)\n",
    "plt.hist(Y,  alpha=0.3, bins =30, color ='green')\n",
    "plt.hist(choice_variable, alpha=0.5, color='r', bins =30);"
   ]
  },
  {
   "cell_type": "code",
   "execution_count": 53,
   "id": "80e5c8a9",
   "metadata": {},
   "outputs": [],
   "source": [
    "from shogun import RealFeatures, QuadraticTimeMMD, GaussianKernel\n",
    "samples_p = RealFeatures(X.reshape(1,len(X)))\n",
    "\n",
    "samples_q = RealFeatures(Y.reshape(1,len(Y)))\n",
    "\n",
    "samples_z = RealFeatures(choice_variable.reshape(1,len(choice_variable)))"
   ]
  },
  {
   "cell_type": "code",
   "execution_count": 57,
   "id": "0d2a78f0",
   "metadata": {},
   "outputs": [],
   "source": [
    "mmd = QuadraticTimeMMD(samples_p, samples_z)\n",
    "kernel = GaussianKernel(10, 1)\n",
    "mmd.set_kernel(kernel)\n",
    "alpha = 0.05"
   ]
  },
  {
   "cell_type": "code",
   "execution_count": 58,
   "id": "d5d4cc5a",
   "metadata": {},
   "outputs": [
    {
     "name": "stdout",
     "output_type": "stream",
     "text": [
      "0.0\n"
     ]
    }
   ],
   "source": [
    "mmd.set_statistic_type(ST_BIASED_FULL)\n",
    "statistic = mmd.compute_statistic()\n",
    "mmd.set_null_approximation_method(NAM_PERMUTATION)\n",
    "mmd.set_num_null_samples(200)\n",
    "threshold = mmd.compute_threshold(alpha)\n",
    "p_value = mmd.compute_p_value(statistic)\n",
    "print(p_value)"
   ]
  },
  {
   "cell_type": "code",
   "execution_count": 59,
   "id": "4398fa1e",
   "metadata": {},
   "outputs": [],
   "source": [
    "mmd.compute_statistic?"
   ]
  },
  {
   "cell_type": "code",
   "execution_count": 61,
   "id": "7c04b624",
   "metadata": {},
   "outputs": [],
   "source": [
    "import tensorflow as tf\n",
    "sigma_median= 1\n",
    "\n",
    "with tf.Session() as sess:\n",
    "    init = tf.global_variables_initializer()\n",
    "    sess.run(init)\n",
    "#     print(\"MMD and ratio:\", sess.run(mmd.rbf_mmd2_and_ratio(X,Y, sigma=sigma_median)))"
   ]
  },
  {
   "cell_type": "code",
   "execution_count": null,
   "id": "d1bbca4f",
   "metadata": {},
   "outputs": [],
   "source": []
  }
 ],
 "metadata": {
  "kernelspec": {
   "display_name": "Python 3",
   "language": "python",
   "name": "python3"
  },
  "language_info": {
   "codemirror_mode": {
    "name": "ipython",
    "version": 3
   },
   "file_extension": ".py",
   "mimetype": "text/x-python",
   "name": "python",
   "nbconvert_exporter": "python",
   "pygments_lexer": "ipython3",
   "version": "3.6.13"
  },
  "latex_envs": {
   "LaTeX_envs_menu_present": true,
   "autoclose": false,
   "autocomplete": true,
   "bibliofile": "biblio.bib",
   "cite_by": "apalike",
   "current_citInitial": 1,
   "eqLabelWithNumbers": true,
   "eqNumInitial": 1,
   "hotkeys": {
    "equation": "Ctrl-E",
    "itemize": "Ctrl-I"
   },
   "labels_anchors": false,
   "latex_user_defs": false,
   "report_style_numbering": false,
   "user_envs_cfg": false
  }
 },
 "nbformat": 4,
 "nbformat_minor": 5
}
