{
 "cells": [
  {
   "cell_type": "code",
   "execution_count": 19,
   "metadata": {},
   "outputs": [],
   "source": [
    "import os\n",
    "import numpy as np\n",
    "import pickle as pkl\n",
    "import pandas as pd\n",
    "import stylised_facts_data_utilities.createLOB as createLOB\n",
    "from collections import defaultdict\n",
    "folder= '/media/ak/WorkDrive/Data/ProcessedDataForExperiments/'\n",
    "activityClocksFolder = os.path.join(folder,'ActivityClocks')\n",
    "folderList = os.listdir(folder)\n",
    "figures ='/home/ak/Documents/Research/Papers/figures/'"
   ]
  },
  {
   "cell_type": "code",
   "execution_count": 20,
   "metadata": {},
   "outputs": [],
   "source": [
    "symbol ='SI1'"
   ]
  },
  {
   "cell_type": "code",
   "execution_count": 3,
   "metadata": {
    "scrolled": true
   },
   "outputs": [
    {
     "data": {
      "text/plain": [
       "['AllQuotes_SI1_Comdty.pkl',\n",
       " 'SI1_Comdty_Trades',\n",
       " 'AllTrades_SI1_Comdty.pkl',\n",
       " 'SI1_Comdty_Quotes']"
      ]
     },
     "execution_count": 3,
     "metadata": {},
     "output_type": "execute_result"
    }
   ],
   "source": [
    "files =[f for f in folderList if (str(symbol)) in f]\n",
    "files"
   ]
  },
  {
   "cell_type": "code",
   "execution_count": 4,
   "metadata": {},
   "outputs": [],
   "source": [
    "\n",
    "bidAskfileLoc = \"\".join((folder, files[0]))\n",
    "tradefileLoc = \"\".join((folder, files[2]))\n",
    "tradefileDict = pkl.load(open(tradefileLoc, \"rb\"))\n",
    "bidAskdicts = pkl.load(open(bidAskfileLoc, \"rb\"))"
   ]
  },
  {
   "cell_type": "code",
   "execution_count": 5,
   "metadata": {},
   "outputs": [],
   "source": [
    "keys = list(bidAskdicts.keys())\n",
    "\n",
    "    "
   ]
  },
  {
   "cell_type": "raw",
   "metadata": {
    "pycharm": {
     "name": "#%% raw\n"
    }
   },
   "source": []
  },
  {
   "cell_type": "code",
   "execution_count": 38,
   "metadata": {},
   "outputs": [
    {
     "name": "stdout",
     "output_type": "stream",
     "text": [
      "20180621\n"
     ]
    },
    {
     "name": "stderr",
     "output_type": "stream",
     "text": [
      "/home/ak/virtualenvs/resr3python/lib/python3.6/site-packages/pandas/core/series.py:856: RuntimeWarning: divide by zero encountered in log\n",
      "  result = getattr(ufunc, method)(*inputs, **kwargs)\n"
     ]
    },
    {
     "name": "stdout",
     "output_type": "stream",
     "text": [
      "20181011\n",
      "20180614\n",
      "20180601\n",
      "20180627\n",
      "20180531\n",
      "20180724\n",
      "20180518\n",
      "20180612\n",
      "20180628\n",
      "20180516\n",
      "20180723\n",
      "20180510\n",
      "20180928\n",
      "20181017\n",
      "20180903\n",
      "20180517\n",
      "20181004\n",
      "20180910\n",
      "20180926\n",
      "20180706\n",
      "20181018\n",
      "20180424\n",
      "20180912\n",
      "20180704\n",
      "20180625\n",
      "20181026\n",
      "20180830\n",
      "20180514\n",
      "20180712\n",
      "20180727\n",
      "20181008\n",
      "20181001\n",
      "20180921\n",
      "20180829\n",
      "20181029\n",
      "20180423\n",
      "20180806\n",
      "20180807\n",
      "20180703\n",
      "20180711\n",
      "20180615\n",
      "20180611\n",
      "20180619\n",
      "20180508\n",
      "20180502\n",
      "20180425\n",
      "20180914\n",
      "20180605\n",
      "20180821\n",
      "20180503\n",
      "20180620\n",
      "20181003\n",
      "20180501\n",
      "20180509\n",
      "20181023\n",
      "20180719\n",
      "20181019\n",
      "20180618\n",
      "20180528\n",
      "20181022\n",
      "20181024\n",
      "20180810\n",
      "20180604\n",
      "20181010\n",
      "20180626\n",
      "20180802\n",
      "20180709\n",
      "20180911\n",
      "20180918\n",
      "20180420\n",
      "20180613\n",
      "20180606\n",
      "20180507\n",
      "20180608\n",
      "20180823\n",
      "20180920\n",
      "20180809\n",
      "20180521\n",
      "20181025\n",
      "20180522\n",
      "20181101\n",
      "20180824\n",
      "20180731\n",
      "20180801\n",
      "20180813\n",
      "20180913\n",
      "20180511\n",
      "20181009\n",
      "20181016\n",
      "20180430\n",
      "20181005\n",
      "20180523\n",
      "20180831\n",
      "20181031\n",
      "20180814\n",
      "20180515\n",
      "20180827\n",
      "20180717\n",
      "20180705\n",
      "20180828\n",
      "20180815\n",
      "20180925\n",
      "20180919\n",
      "20180629\n",
      "20180927\n",
      "20181002\n",
      "20180726\n",
      "20180607\n",
      "20180702\n",
      "20181102\n",
      "20180718\n",
      "20180524\n",
      "20181015\n",
      "20180808\n",
      "20180713\n",
      "20180427\n",
      "20180816\n",
      "20180822\n",
      "20180622\n",
      "20181012\n",
      "20181030\n",
      "20180803\n",
      "20180905\n",
      "20180924\n",
      "20180720\n",
      "20180904\n",
      "20180907\n",
      "20180716\n",
      "20180525\n",
      "20180530\n",
      "20180426\n",
      "20180529\n",
      "20180820\n",
      "20180917\n",
      "20180906\n",
      "20180725\n",
      "20180710\n",
      "20180504\n",
      "20180817\n",
      "20180730\n"
     ]
    }
   ],
   "source": [
    "activityClocksDict = dict()\n",
    "for keyIdex in keys:\n",
    "    print(keyIdex)\n",
    "    dfTrades = tradefileDict[keyIdex]\n",
    "    dfQuotes = bidAskdicts[keyIdex]\n",
    "    LOB = createLOB.createLOBtwoInputs(dfQuotes, dfTrades)\n",
    "    activityClocksDict[keyIdex]= createLOB.Clocks(createLOB.calcLOB(LOB), 'MicroPrice', 'TradeVolume','DollarVolume',100,25,25)\n",
    "\n"
   ]
  },
  {
   "cell_type": "code",
   "execution_count": 39,
   "metadata": {},
   "outputs": [],
   "source": [
    "\n",
    "\n",
    "pkl.dump(activityClocksDict, open(save_loc, 'wb'), protocol=pkl.HIGHEST_PROTOCOL)"
   ]
  },
  {
   "cell_type": "markdown",
   "metadata": {
    "pycharm": {
     "name": "#%% md\n"
    }
   },
   "source": [
    "### load pickle here"
   ]
  },
  {
   "cell_type": "code",
   "execution_count": 21,
   "metadata": {},
   "outputs": [],
   "source": [
    "FileName = \"\".join(('ActivityClocks_', symbol, '.pkl'))\n",
    "\n",
    "load_loc = os.path.join(activityClocksFolder, FileName)\n"
   ]
  },
  {
   "cell_type": "code",
   "execution_count": 23,
   "metadata": {},
   "outputs": [],
   "source": [
    "infile = open(load_loc ,'rb')\n",
    "activityClockFile = pkl.load(infile)\n",
    "infile.close()"
   ]
  },
  {
   "cell_type": "code",
   "execution_count": 25,
   "metadata": {},
   "outputs": [],
   "source": [
    "keys = list(activityClockFile.keys())"
   ]
  },
  {
   "cell_type": "code",
   "execution_count": 26,
   "metadata": {},
   "outputs": [
    {
     "name": "stderr",
     "output_type": "stream",
     "text": [
      "100%|██████████| 655729/655729 [00:00<00:00, 2291429.13it/s]\n"
     ]
    },
    {
     "data": {
      "text/plain": [
       "array(['BidSize', 'QuoteTime', 'type_x', 'BestBid', 'TradeTime',\n",
       "       'AskSize', 'time_y', 'type_y', 'BestAsk', 'TradeVolume', 'TradeId',\n",
       "       'TradePrice', 'TimeStamp', 'milliSeconds', 'DollarVolume',\n",
       "       'MicroPrice', 'Duration', 'PriceChange', 'LogReturn', 'BidOffer',\n",
       "       'L1PriceImbalance', 'L1SizeRatio', 'MicroPricePctChange',\n",
       "       'FwdMPChange_1', 'FwdMPChange_5', 'LogTradeSize'], dtype=object)"
      ]
     },
     "execution_count": 26,
     "metadata": {},
     "output_type": "execute_result"
    }
   ],
   "source": [
    "\n",
    "activityClockFile[keys[1]].volume_bar_df().columns.values"
   ]
  },
  {
   "cell_type": "code",
   "execution_count": null,
   "outputs": [],
   "source": [
    "from statsmodels.tsa.seasonal import STL\n",
    "%matplotlib inline\n",
    "import fathon\n",
    "from fathon import fathonUtils as fu"
   ],
   "metadata": {
    "collapsed": false,
    "pycharm": {
     "name": "#%%\n"
    }
   }
  },
  {
   "cell_type": "markdown",
   "source": [
    "#### get all the information clocks sorted"
   ],
   "metadata": {
    "collapsed": false
   }
  },
  {
   "cell_type": "code",
   "execution_count": null,
   "outputs": [],
   "source": [
    "volumeBarDF = activityClocksDict[keys[1]].volume_bar_df()\n",
    "tickBarDF = activityClocksDict[keys[1]].tick_bar_df()\n",
    "dollarVolumeBarDF = activityClocksDict[keys[1]].dollar_bar_df()\n",
    "originalDF = activityClocksDict[keys[1]].original_df()"
   ],
   "metadata": {
    "collapsed": false,
    "pycharm": {
     "name": "#%%\n"
    }
   }
  },
  {
   "cell_type": "code",
   "execution_count": null,
   "outputs": [],
   "source": [
    "##pull out variable of choice\n",
    "variable = 'L1PriceImbalance'\n",
    "volumeBarVariable = np.asanyarray(volumeBarDF[str(variable)])\n",
    "tickBarVariable = np.asanyarray(tickBarDF[str(variable)])\n",
    "dollarVolumeBarVariable = np.asanyarray(tickBarDF[str(variable)])\n",
    "originalVariable = originalDF[str(variable)]"
   ],
   "metadata": {
    "collapsed": false,
    "pycharm": {
     "name": "#%%\n"
    }
   }
  },
  {
   "cell_type": "code",
   "execution_count": null,
   "outputs": [],
   "source": [
    "len(dollarVolumeBarVariabe)"
   ],
   "metadata": {
    "collapsed": false,
    "pycharm": {
     "name": "#%%\n"
    }
   }
  },
  {
   "cell_type": "code",
   "execution_count": null,
   "outputs": [],
   "source": [
    "\n",
    "a = fu.toAggregated(dollarVolumeBarVariable)\n"
   ],
   "metadata": {
    "collapsed": false,
    "pycharm": {
     "name": "#%%\n"
    }
   }
  },
  {
   "cell_type": "code",
   "execution_count": null,
   "outputs": [],
   "source": [
    "pymfdfa = fathon.MFDFA(a)\n"
   ],
   "metadata": {
    "collapsed": false,
    "pycharm": {
     "name": "#%%\n"
    }
   }
  },
  {
   "cell_type": "code",
   "execution_count": null,
   "outputs": [],
   "source": [
    "winSizes = fu.linRangeByStep(10, 2000)\n",
    "qs = np.arange(-3, 4, 0.1)\n",
    "revSeg = True\n",
    "polOrd = 1\n",
    "n, F = pymfdfa.computeFlucVec(winSizes, qs, revSeg=revSeg, polOrd=polOrd)\n"
   ],
   "metadata": {
    "collapsed": false,
    "pycharm": {
     "name": "#%%\n"
    }
   }
  },
  {
   "cell_type": "code",
   "execution_count": null,
   "outputs": [],
   "source": [
    "list_H, list_H_intercept = pymfdfa.fitFlucVec()"
   ],
   "metadata": {
    "collapsed": false,
    "pycharm": {
     "name": "#%%\n"
    }
   }
  },
  {
   "cell_type": "code",
   "execution_count": null,
   "outputs": [],
   "source": [
    "plt.plot(np.log(n), np.log(F[0, :]), 'ro')\n",
    "plt.plot(np.log(n), list_H_intercept[0]+list_H[0]*np.log(n), '--', label='h_{:.1f} = {:.2f}'.format(qs[0], list_H[0]))\n",
    "half_idx = int(len(qs)/2)\n",
    "plt.plot(np.log(n), np.log(F[half_idx, :]), 'co')\n",
    "plt.plot(np.log(n), list_H_intercept[half_idx]+list_H[half_idx]*np.log(n),\n",
    "         '--', label='h_{:.1f} = {:.2f}'.format(qs[half_idx], list_H[half_idx]))\n",
    "plt.plot(np.log(n), np.log(F[-1, :]), 'yo')\n",
    "plt.plot(np.log(n), list_H_intercept[-1]+list_H[-1]*np.log(n), '--',\n",
    "         label='h_{:.1f} = {:.2f}'.format(qs[-1], list_H[-1]))\n",
    "plt.xlabel('ln(n)', fontsize=14)\n",
    "plt.ylabel('ln(F(n))', fontsize=14)\n",
    "plt.title('MFDFA', fontsize=14)\n",
    "plt.legend(loc=0, fontsize=14)\n",
    "\n",
    "title = 'MDFDA_'+str(variable)+str(symbol)+'_plot1.png'\n",
    "fileLocation = os.path.join(figures, title)\n",
    "plt.savefig(fileLocation, dpi = 150 )"
   ],
   "metadata": {
    "collapsed": false,
    "pycharm": {
     "name": "#%%\n"
    }
   }
  },
  {
   "cell_type": "code",
   "execution_count": null,
   "outputs": [],
   "source": [
    "plt.plot(qs, list_H, 'ro-')\n",
    "plt.xlabel('q', fontsize=14)\n",
    "plt.ylabel('h(q)', fontsize=14)\n",
    "plt.title('h(q)', fontsize=14)"
   ],
   "metadata": {
    "collapsed": false,
    "pycharm": {
     "name": "#%%\n"
    }
   }
  },
  {
   "cell_type": "code",
   "execution_count": null,
   "outputs": [],
   "source": [
    "tau = pymfdfa.computeMassExponents()"
   ],
   "metadata": {
    "collapsed": false,
    "pycharm": {
     "name": "#%%\n"
    }
   }
  },
  {
   "cell_type": "code",
   "execution_count": 27,
   "metadata": {},
   "outputs": [],
   "source": [
    "tau = pymfdfa.computeMassExponents()"
   ]
  },
  {
   "cell_type": "markdown",
   "metadata": {},
   "source": [
    "#### get all the information clocks sorted"
   ]
  },
  {
   "cell_type": "code",
   "execution_count": 28,
   "metadata": {
    "scrolled": false
   },
   "outputs": [
    {
     "name": "stderr",
     "output_type": "stream",
     "text": [
      "100%|██████████| 655729/655729 [00:00<00:00, 2291203.88it/s]\n",
      "100%|██████████| 655729/655729 [00:00<00:00, 2772791.93it/s]\n",
      "100%|██████████| 655729/655729 [00:00<00:00, 2576102.39it/s]\n"
     ]
    }
   ],
   "source": [
    "volumeBarDF = activityClocksDict[keys[1]].volume_bar_df()\n",
    "tickBarDF = activityClocksDict[keys[1]].tick_bar_df()\n",
    "dollarVolumeBarDF = activityClocksDict[keys[1]].dollar_bar_df()\n",
    "originalDF = activityClocksDict[keys[1]].original_df()"
   ]
  },
  {
   "cell_type": "code",
   "execution_count": 34,
   "metadata": {
    "scrolled": true
   },
   "outputs": [],
   "source": [
    "##pull out variable of choice\n",
    "variable = 'L1PriceImbalance'\n",
    "volumeBarVariable = np.asanyarray(volumeBarDF[str(variable)])\n",
    "tickBarVariable = np.asanyarray(tickBarDF[str(variable)])\n",
    "dollarVolumeBarVariable = np.asanyarray(tickBarDF[str(variable)])\n",
    "originalVariable = originalDF[str(variable)]"
   ]
  },
  {
   "cell_type": "code",
   "execution_count": 33,
   "metadata": {},
   "outputs": [
    {
     "data": {
      "text/plain": [
       "65528"
      ]
     },
     "execution_count": 33,
     "metadata": {},
     "output_type": "execute_result"
    }
   ],
   "source": [
    "len(dollarVolumeBarVariabe)"
   ]
  },
  {
   "cell_type": "code",
   "execution_count": 35,
   "metadata": {},
   "outputs": [],
   "source": [
    "\n",
    "a = fu.toAggregated(dollarVolumeBarVariable)\n"
   ]
  },
  {
   "cell_type": "code",
   "execution_count": 36,
   "metadata": {},
   "outputs": [],
   "source": [
    "pymfdfa = fathon.MFDFA(a)\n"
   ]
  },
  {
   "cell_type": "code",
   "execution_count": 37,
   "metadata": {},
   "outputs": [],
   "source": [
    "winSizes = fu.linRangeByStep(10, 2000)\n",
    "qs = np.arange(-3, 4, 0.1)\n",
    "revSeg = True\n",
    "polOrd = 1\n",
    "n, F = pymfdfa.computeFlucVec(winSizes, qs, revSeg=revSeg, polOrd=polOrd)\n"
   ]
  },
  {
   "cell_type": "code",
   "execution_count": null,
   "metadata": {},
   "outputs": [],
   "source": [
    "list_H, list_H_intercept = pymfdfa.fitFlucVec()"
   ]
  },
  {
   "cell_type": "code",
   "execution_count": null,
   "metadata": {},
   "outputs": [],
   "source": [
    "plt.plot(np.log(n), np.log(F[0, :]), 'ro')\n",
    "plt.plot(np.log(n), list_H_intercept[0]+list_H[0]*np.log(n), '--', label='h_{:.1f} = {:.2f}'.format(qs[0], list_H[0]))\n",
    "half_idx = int(len(qs)/2)\n",
    "plt.plot(np.log(n), np.log(F[half_idx, :]), 'co')\n",
    "plt.plot(np.log(n), list_H_intercept[half_idx]+list_H[half_idx]*np.log(n),\n",
    "         '--', label='h_{:.1f} = {:.2f}'.format(qs[half_idx], list_H[half_idx]))\n",
    "plt.plot(np.log(n), np.log(F[-1, :]), 'yo')\n",
    "plt.plot(np.log(n), list_H_intercept[-1]+list_H[-1]*np.log(n), '--',\n",
    "         label='h_{:.1f} = {:.2f}'.format(qs[-1], list_H[-1]))\n",
    "plt.xlabel('ln(n)', fontsize=14)\n",
    "plt.ylabel('ln(F(n))', fontsize=14)\n",
    "plt.title('MFDFA', fontsize=14)\n",
    "plt.legend(loc=0, fontsize=14)\n",
    "\n",
    "title = 'MDFDA_'+str(variable)+str(symbol)+'_plot1.png'\n",
    "fileLocation = os.path.join(figures, title)\n",
    "plt.savefig(fileLocation, dpi = 150 )"
   ]
  },
  {
   "cell_type": "code",
   "execution_count": null,
   "metadata": {},
   "outputs": [],
   "source": [
    "plt.plot(qs, list_H, 'ro-')\n",
    "plt.xlabel('q', fontsize=14)\n",
    "plt.ylabel('h(q)', fontsize=14)\n",
    "plt.title('h(q)', fontsize=14)"
   ]
  },
  {
   "cell_type": "code",
   "execution_count": null,
   "metadata": {},
   "outputs": [],
   "source": [
    "tau = pymfdfa.computeMassExponents()"
   ]
  }
 ],
 "metadata": {
  "kernelspec": {
   "display_name": "Python 3",
   "language": "python",
   "name": "python3"
  },
  "language_info": {
   "codemirror_mode": {
    "name": "ipython",
    "version": 3
   },
   "file_extension": ".py",
   "mimetype": "text/x-python",
   "name": "python",
   "nbconvert_exporter": "python",
   "pygments_lexer": "ipython3",
   "version": "3.6.9"
  }
 },
 "nbformat": 4,
 "nbformat_minor": 4
}