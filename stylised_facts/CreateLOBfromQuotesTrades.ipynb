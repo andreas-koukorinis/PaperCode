{
 "cells": [
  {
   "cell_type": "code",
   "execution_count": 9,
   "metadata": {},
   "outputs": [],
   "source": [
    "import os\n",
    "import numpy as np\n",
    "import pickle as pkl\n",
    "import pandas as pd\n",
    "import stylised_facts_data_utilities.createLOB as createLOB\n",
    "from collections import defaultdict\n",
    "folder= '/media/ak/WorkDrive/Data/ProcessedDataForExperiments/'\n",
    "activityClocksFolder = os.path.join(folder,'ActivityClocks')\n",
    "folderList = os.listdir(folder)"
   ]
  },
  {
   "cell_type": "code",
   "execution_count": 21,
   "metadata": {},
   "outputs": [],
   "source": [
    "symbol ='CO1'"
   ]
  },
  {
   "cell_type": "code",
   "execution_count": 23,
   "metadata": {},
   "outputs": [
    {
     "data": {
      "text/plain": [
       "'AllTrades_CO1_Comdty.pkl'"
      ]
     },
     "execution_count": 23,
     "metadata": {},
     "output_type": "execute_result"
    }
   ],
   "source": [
    "files =[f for f in folderList if (str(symbol)) in f]\n",
    "files[0]"
   ]
  },
  {
   "cell_type": "code",
   "execution_count": 24,
   "metadata": {},
   "outputs": [],
   "source": [
    "\n",
    "bidAskfileLoc = \"\".join((folder, files[1]))\n",
    "tradefileLoc = \"\".join((folder, files[0]))\n",
    "tradefileDict = pkl.load(open(tradefileLoc, \"rb\"))\n",
    "bidAskdicts = pkl.load(open(bidAskfileLoc, \"rb\"))"
   ]
  },
  {
   "cell_type": "code",
   "execution_count": 25,
   "metadata": {},
   "outputs": [],
   "source": [
    "keys = list(bidAskdicts.keys())\n",
    "\n",
    "    "
   ]
  },
  {
   "cell_type": "code",
   "execution_count": 26,
   "metadata": {},
   "outputs": [
    {
     "name": "stdout",
     "output_type": "stream",
     "text": [
      "20180621\n",
      "20181011\n",
      "20180614\n",
      "20180601\n",
      "20180627\n"
     ]
    },
    {
     "name": "stderr",
     "output_type": "stream",
     "text": [
      "/home/ak/virtualenvs/resr3python/lib/python3.6/site-packages/pandas/core/series.py:856: RuntimeWarning: divide by zero encountered in log\n",
      "  result = getattr(ufunc, method)(*inputs, **kwargs)\n"
     ]
    },
    {
     "name": "stdout",
     "output_type": "stream",
     "text": [
      "20180531\n",
      "20180724\n",
      "20180518\n",
      "20180612\n",
      "20180628\n",
      "20180516\n",
      "20180723\n",
      "20180510\n",
      "20180928\n",
      "20181017\n",
      "20180903\n",
      "20180517\n",
      "20181004\n",
      "20180910\n",
      "20180926\n",
      "20180706\n",
      "20181018\n",
      "20180424\n",
      "20180912\n",
      "20180704\n",
      "20180625\n",
      "20181026\n",
      "20180830\n",
      "20180514\n",
      "20180712\n",
      "20180727\n",
      "20181008\n",
      "20181001\n",
      "20180921\n",
      "20180829\n",
      "20181029\n",
      "20180423\n",
      "20180806\n",
      "20180807\n",
      "20180703\n",
      "20180711\n",
      "20180615\n",
      "20180611\n",
      "20180619\n",
      "20180508\n",
      "20180502\n",
      "20180425\n",
      "20180914\n",
      "20180605\n",
      "20180821\n",
      "20180503\n",
      "20180620\n",
      "20181003\n",
      "20180501\n",
      "20180509\n",
      "20181023\n",
      "20180719\n",
      "20181019\n",
      "20180618\n",
      "20180528\n",
      "20181022\n",
      "20181024\n",
      "20180810\n",
      "20180604\n",
      "20181010\n",
      "20180626\n",
      "20180802\n",
      "20180709\n",
      "20180911\n",
      "20180918\n",
      "20180420\n",
      "20180613\n",
      "20180606\n",
      "20180507\n",
      "20180608\n",
      "20180823\n",
      "20180920\n",
      "20180809\n",
      "20180521\n",
      "20181025\n",
      "20180522\n",
      "20181101\n",
      "20180824\n",
      "20180731\n",
      "20180801\n",
      "20180813\n",
      "20180913\n",
      "20180511\n",
      "20181009\n",
      "20181016\n",
      "20180430\n",
      "20181005\n",
      "20180523\n",
      "20180831\n",
      "20181031\n",
      "20180814\n",
      "20180515\n",
      "20180827\n",
      "20180717\n",
      "20180705\n",
      "20180828\n",
      "20180815\n",
      "20180925\n",
      "20180919\n",
      "20180629\n",
      "20180927\n",
      "20181002\n",
      "20180726\n",
      "20180607\n",
      "20180702\n",
      "20181102\n",
      "20180718\n",
      "20180524\n",
      "20181015\n",
      "20180808\n",
      "20180713\n",
      "20180427\n",
      "20180816\n",
      "20180822\n",
      "20180622\n",
      "20181012\n",
      "20181030\n",
      "20180803\n",
      "20180905\n",
      "20180924\n",
      "20180720\n",
      "20180904\n",
      "20180907\n",
      "20180716\n",
      "20180525\n",
      "20180530\n",
      "20180426\n",
      "20180529\n",
      "20180820\n",
      "20180917\n",
      "20180906\n",
      "20180725\n",
      "20180710\n",
      "20180504\n",
      "20180817\n",
      "20180730\n"
     ]
    }
   ],
   "source": [
    "activityClocksDict = dict()\n",
    "for keyIdex in keys:\n",
    "    print(keyIdex)\n",
    "    dfTrades = tradefileDict[keyIdex]\n",
    "    dfQuotes = bidAskdicts[keyIdex]\n",
    "    LOB = createLOB.createLOBtwoInputs(dfQuotes, dfTrades)\n",
    "    activityClocksDict[keyIdex]= createLOB.Clocks(createLOB.calcLOB(LOB), 'MicroPrice', 'TradeVolume','DollarVolume',10,5,5)\n",
    "\n"
   ]
  },
  {
   "cell_type": "code",
   "execution_count": 27,
   "metadata": {},
   "outputs": [],
   "source": [
    "\n",
    "FileName = \"\".join(('ActivityClocks_', symbol, '.pkl'))\n",
    "\n",
    "save_loc = os.path.join(activityClocksFolder, FileName)\n",
    "pkl.dump(activityClocksDict, open(save_loc, 'wb'), protocol=pkl.HIGHEST_PROTOCOL)"
   ]
  },
  {
   "cell_type": "code",
   "execution_count": 29,
   "metadata": {},
   "outputs": [
    {
     "data": {
      "text/plain": [
       "<stylised_facts_data_utilities.createLOB.Clocks at 0x7f84841f1278>"
      ]
     },
     "execution_count": 29,
     "metadata": {},
     "output_type": "execute_result"
    }
   ],
   "source": [
    "\n",
    "activityClocksDict[keys[1]].volume_bar_df()"
   ]
  },
  {
   "cell_type": "code",
   "execution_count": 30,
   "metadata": {},
   "outputs": [],
   "source": [
    "import fathon"
   ]
  },
  {
   "cell_type": "code",
   "execution_count": null,
   "metadata": {
    "scrolled": false
   },
   "outputs": [],
   "source": []
  },
  {
   "cell_type": "code",
   "execution_count": null,
   "metadata": {
    "scrolled": true
   },
   "outputs": [],
   "source": []
  },
  {
   "cell_type": "code",
   "execution_count": 3,
   "metadata": {},
   "outputs": [],
   "source": [
    "## save location"
   ]
  },
  {
   "cell_type": "code",
   "execution_count": null,
   "metadata": {},
   "outputs": [],
   "source": [
    "\n"
   ]
  }
 ],
 "metadata": {
  "kernelspec": {
   "display_name": "Python 3",
   "language": "python",
   "name": "python3"
  },
  "language_info": {
   "codemirror_mode": {
    "name": "ipython",
    "version": 3
   },
   "file_extension": ".py",
   "mimetype": "text/x-python",
   "name": "python",
   "nbconvert_exporter": "python",
   "pygments_lexer": "ipython3",
   "version": "3.6.9"
  }
 },
 "nbformat": 4,
 "nbformat_minor": 4
}
