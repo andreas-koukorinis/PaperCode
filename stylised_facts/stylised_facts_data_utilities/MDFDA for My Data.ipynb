{
 "cells": [
  {
   "cell_type": "code",
   "execution_count": null,
   "metadata": {
    "pycharm": {
     "name": "#%%\n"
    }
   },
   "outputs": [],
   "source": [
    "import mdfda as mdf\n",
    "# import visual tools\n",
    "import matplotlib as mpl\n",
    "import matplotlib.pyplot as plt\n",
    "import matplotlib.gridspec as gridspec\n",
    "%matplotlib inline\n",
    "import seaborn as sns\n",
    "import numpy as np\n",
    "from numpy import cumsum, polyfit, polyval, mean, sqrt, arange, zeros, nan, log2\n",
    "from numpy.lib.stride_tricks import as_strided as ast\n",
    "import matplotlib.pyplot as plt\n",
    "\n",
    "plt.style.use('seaborn-talk')\n",
    "plt.style.use('bmh')\n",
    "\n",
    "#plt.rcParams['font.family'] = 'DejaVu Sans Mono'\n",
    "#plt.rcParams['font.size'] = 9.5\n",
    "plt.rcParams['font.weight'] = 'medium'\n",
    "#plt.rcParams['figure.figsize'] = 10,7\n",
    "blue, green, red, purple, gold, teal = sns.color_palette('colorblind', 6)\n",
    "\n",
    "# import util libs\n",
    "\n",
    "from tqdm import tqdm, tqdm_notebook\n",
    "import warnings\n",
    "warnings.filterwarnings(\"ignore\")\n",
    "\n",
    "RANDOM_STATE = 777\n",
    "####\n",
    "\n",
    "import pandas as pd\n",
    "import numpy as np\n",
    "import pickle\n",
    "import os\n",
    "from sklearn.metrics.pairwise import rbf_kernel\n",
    "import pandas as pd\n",
    "import numpy as np\n",
    "\n",
    "import time\n",
    "from sklearn.metrics import accuracy_score, roc_auc_score\n",
    "from collections import defaultdict\n",
    "import matplotlib.pyplot as plt\n",
    "import seaborn as sb\n",
    "###\n",
    "import pystan\n",
    "from scipy.stats import pearsonr, zscore\n",
    "from MFDFA import fgn\n",
    "# Plot settings\n",
    "%matplotlib inline\n",
    "%config InlineBackend.figure_format = 'svg'\n",
    "sb.set()\n",
    "\n",
    "from numpy import cumsum\n",
    "import numpy as np\n",
    "\n",
    "import matplotlib as mpl\n",
    "from matplotlib import pyplot as plt\n",
    "from matplotlib import cm\n",
    "\n",
    "\n",
    "\n",
    "# import visual tools\n",
    "import matplotlib as mpl\n",
    "import matplotlib.pyplot as plt\n",
    "import matplotlib.gridspec as gridspec\n",
    "%matplotlib inline\n",
    "import seaborn as sns\n",
    "\n",
    "plt.style.use('seaborn-talk')\n",
    "plt.style.use('bmh')\n",
    "\n",
    "#plt.rcParams['font.family'] = 'DejaVu Sans Mono'\n",
    "#plt.rcParams['font.size'] = 9.5\n",
    "plt.rcParams['font.weight'] = 'medium'\n",
    "#plt.rcParams['figure.figsize'] = 10,7\n",
    "blue, green, red, purple, gold, teal = sns.color_palette('colorblind', 6)\n",
    "\n",
    "# import util libs\n",
    "\n",
    "from tqdm import tqdm, tqdm_notebook\n",
    "import warnings\n",
    "warnings.filterwarnings(\"ignore\")\n",
    "\n",
    "RANDOM_STATE = 777\n",
    "\n",
    "# %matplotlib inline"
   ]
  },
  {
   "cell_type": "code",
   "execution_count": null,
   "metadata": {
    "pycharm": {
     "name": "#%%\n"
    }
   },
   "outputs": [],
   "source": [
    "SMALL_SIZE = 8\n",
    "MEDIUM_SIZE = 10\n",
    "BIGGER_SIZE = 12\n",
    "\n",
    "plt.rc('font', size=SMALL_SIZE)          # controls default text sizes\n",
    "plt.rc('axes', titlesize=SMALL_SIZE)     # fontsize of the axes title\n",
    "plt.rc('axes', labelsize=MEDIUM_SIZE)    # fontsize of the x and y labels\n",
    "plt.rc('xtick', labelsize=SMALL_SIZE)    # fontsize of the tick labels\n",
    "plt.rc('ytick', labelsize=SMALL_SIZE)    # fontsize of the tick labels\n",
    "plt.rc('legend', fontsize=SMALL_SIZE)    # legend fontsize\n",
    "plt.rc('figure', titlesize=BIGGER_SIZE)  # fontsize of the figure title"
   ]
  },
  {
   "cell_type": "code",
   "execution_count": null,
   "metadata": {
    "pycharm": {
     "name": "#%%\n"
    }
   },
   "outputs": [],
   "source": [
    "def tick_bars(df, price_column, m):\n",
    "    '''\n",
    "    compute tick bars\n",
    "\n",
    "    # args\n",
    "        df: pd.DataFrame()\n",
    "        column: name for price data\n",
    "        m: int(), threshold value for ticks\n",
    "    # returns\n",
    "        idx: list of indices\n",
    "    '''\n",
    "    t = df[price_column]\n",
    "    ts = 0\n",
    "    idx = []\n",
    "    for i, x in enumerate(tqdm(t)):\n",
    "        ts += 1\n",
    "        if ts >= m:\n",
    "            idx.append(i)\n",
    "            ts = 0\n",
    "            continue\n",
    "    return idx\n",
    "\n",
    "def tick_bar_df(df, price_column, m):\n",
    "    idx = tick_bars(df, price_column, m)\n",
    "    return df.iloc[idx].drop_duplicates()\n",
    "\n",
    "def tick_bars(df, price_column, m):\n",
    "    '''\n",
    "    compute tick bars\n",
    "\n",
    "    # args\n",
    "        df: pd.DataFrame()\n",
    "        column: name for price data\n",
    "        m: int(), threshold value for ticks\n",
    "    # returns\n",
    "        idx: list of indices\n",
    "    '''\n",
    "    t = df[price_column]\n",
    "    ts = 0\n",
    "    idx = []\n",
    "    for i, x in enumerate(tqdm(t)):\n",
    "        ts += 1\n",
    "        if ts >= m:\n",
    "            idx.append(i)\n",
    "            ts = 0\n",
    "            continue\n",
    "    return idx\n",
    "\n",
    "def tick_bar_df(df, price_column, m):\n",
    "    idx = tick_bars(df, price_column, m)\n",
    "    return df.iloc[idx].drop_duplicates()\n",
    "def tick_bars(df, price_column, m):\n",
    "    '''\n",
    "    compute tick bars\n",
    "\n",
    "    # args\n",
    "        df: pd.DataFrame()\n",
    "        column: name for price data\n",
    "        m: int(), threshold value for ticks\n",
    "    # returns\n",
    "        idx: list of indices\n",
    "    '''\n",
    "    t = df[price_column]\n",
    "    ts = 0\n",
    "    idx = []\n",
    "    for i, x in enumerate(tqdm(t)):\n",
    "        ts += 1\n",
    "        if ts >= m:\n",
    "            idx.append(i)\n",
    "            ts = 0\n",
    "            continue\n",
    "    return idx\n",
    "\n",
    "def tick_bar_df(df, price_column, m):\n",
    "    idx = tick_bars(df, price_column, m)\n",
    "    return df.iloc[idx].drop_duplicates()\n",
    "\n",
    "def mad_outlier(y, thresh=5.):\n",
    "    '''\n",
    "    compute outliers based on mad\n",
    "    # args\n",
    "        y: assumed to be array with shape (N,1)\n",
    "        thresh: float()\n",
    "    # returns\n",
    "        array index of outliers\n",
    "    '''\n",
    "    median = np.median(y)\n",
    "    diff = np.sum((y - median)**2, axis=-1)\n",
    "    diff = np.sqrt(diff)\n",
    "    med_abs_deviation = np.median(diff)\n",
    "\n",
    "    modified_z_score = 0.6745 * diff / med_abs_deviation\n",
    "\n",
    "    return modified_z_score > thresh"
   ]
  },
  {
   "cell_type": "code",
   "execution_count": null,
   "metadata": {
    "pycharm": {
     "name": "#%%\n"
    }
   },
   "outputs": [],
   "source": [
    "os.getcwd()\n",
    "''' Locations'''\n",
    "cwd= os.getcwd()\n",
    "extHD = '/media/ak/My Passport/'\n",
    "extHdData = \"\".join((extHD, 'Data'))\n",
    "extHdExpData = \"\".join((extHD, 'Experiment Data')) #['features', 'labels', 'metrics', 'models']\n",
    "extHdFutures = \"\".join((extHD, 'Barket Data/raw bloomberg data')) #futures\n",
    "futuresSymbols  = []\n",
    "os.listdir(extHdExpData)\n",
    "cleanLOBFolder = \"/\".join((extHdExpData,'CleanLOBData'))\n",
    "symbols =sorted(os.listdir(cleanLOBFolder))\n",
    "\n",
    "symbolIdx = 0\n",
    "symbolCleanSymbolFolder = \"/\".join((cleanLOBFolder, symbols[symbolIdx]))\n",
    "symbolCleanFilesList = os.listdir(symbolCleanSymbolFolder)"
   ]
  },
  {
   "cell_type": "code",
   "execution_count": null,
   "metadata": {
    "pycharm": {
     "name": "#%%\n"
    }
   },
   "outputs": [],
   "source": [
    "\n",
    "FileName =\"/\".join((bmrg_folders[symbolIDi], str('fileID_'+fileIDi+'_FileDictClocks.csv')))\n",
    "\n",
    "save_loc = os.path.join(extHdFutures, FileName)"
   ]
  },
  {
   "cell_type": "code",
   "execution_count": null,
   "metadata": {
    "pycharm": {
     "name": "#%%\n"
    }
   },
   "outputs": [],
   "source": [
    "dfTest =pd.read_csv(\"/\".join((symbolCleanSymbolFolder,symbolCleanFilesList[0])))\n",
    "dfTestCopy = dfTest.copy(deep=True)"
   ]
  },
  {
   "cell_type": "code",
   "execution_count": null,
   "metadata": {
    "pycharm": {
     "name": "#%%\n"
    }
   },
   "outputs": [],
   "source": [
    "dfGrouped = dfTestCopy.groupby('TradeTime')['BidSize', 'AskSize', 'TradeSize']\n",
    "dfGroupedSum = dfGrouped.sum()\n",
    "dfGroupedSum.reset_index(level=0, inplace=True)"
   ]
  },
  {
   "cell_type": "code",
   "execution_count": null,
   "metadata": {
    "pycharm": {
     "name": "#%%\n"
    }
   },
   "outputs": [],
   "source": [
    "dfGroupedSum.head()"
   ]
  },
  {
   "cell_type": "code",
   "execution_count": null,
   "metadata": {
    "pycharm": {
     "name": "#%%\n"
    }
   },
   "outputs": [],
   "source": [
    "dfMergedtEST =dfGroupedSum.merge(dfTestCopy, on='TradeTime')"
   ]
  },
  {
   "cell_type": "code",
   "execution_count": null,
   "metadata": {
    "pycharm": {
     "name": "#%%\n"
    }
   },
   "outputs": [],
   "source": [
    "dfMergedLOB = dfMergedtEST.drop(columns=['Unnamed: 0','type_x','type_y','AskQuoteId','BidQuoteId'])"
   ]
  },
  {
   "cell_type": "code",
   "execution_count": null,
   "metadata": {
    "pycharm": {
     "name": "#%%\n"
    }
   },
   "outputs": [],
   "source": [
    "dfMergedLOB.head(3).columns.values"
   ]
  },
  {
   "cell_type": "code",
   "execution_count": null,
   "metadata": {
    "pycharm": {
     "name": "#%%\n"
    }
   },
   "outputs": [],
   "source": []
  },
  {
   "cell_type": "code",
   "execution_count": null,
   "metadata": {
    "pycharm": {
     "name": "#%%\n"
    }
   },
   "outputs": [],
   "source": [
    "dfMergedLOB = dfMergedLOB.rename(columns={\"TradeSize_x\":\"TradedSize\", })\n"
   ]
  },
  {
   "cell_type": "code",
   "execution_count": null,
   "metadata": {
    "pycharm": {
     "name": "#%%\n"
    }
   },
   "outputs": [],
   "source": [
    "mad = mad_outlier(dfMergedLOB.MicroPrice.values.reshape(-1,1))"
   ]
  },
  {
   "cell_type": "code",
   "execution_count": null,
   "metadata": {
    "pycharm": {
     "name": "#%%\n"
    }
   },
   "outputs": [],
   "source": [
    "_=sns.boxplot(dfMergedLOB.loc[~mad].MicroPrice)"
   ]
  },
  {
   "cell_type": "code",
   "execution_count": null,
   "metadata": {
    "pycharm": {
     "name": "#%%\n"
    }
   },
   "outputs": [],
   "source": [
    "dfLOB =dfMergedLOB.loc[~mad]"
   ]
  },
  {
   "cell_type": "code",
   "execution_count": null,
   "metadata": {
    "pycharm": {
     "name": "#%%\n"
    }
   },
   "outputs": [],
   "source": [
    "dfLOB['TradedDollarVolume'] =dfLOB.TradedSize*dfLOB.TradePrice"
   ]
  },
  {
   "cell_type": "code",
   "execution_count": null,
   "metadata": {
    "pycharm": {
     "name": "#%%\n"
    }
   },
   "outputs": [],
   "source": [
    "dfMergedLOB.columns.values"
   ]
  },
  {
   "cell_type": "markdown",
   "metadata": {
    "pycharm": {
     "name": "#%% md\n"
    }
   },
   "source": [
    "## Tick Bars ##"
   ]
  },
  {
   "cell_type": "code",
   "execution_count": null,
   "metadata": {
    "pycharm": {
     "name": "#%%\n"
    }
   },
   "outputs": [],
   "source": [
    "n_ticks = dfLOB.shape[0]\n",
    "volume_ratio = (dfLOB.TradedSize.sum()/n_ticks).round()\n",
    "dollar_ratio = (dfLOB.TradedDollarVolume.sum()/n_ticks).round()\n",
    "print(f'num ticks: {n_ticks:,}')\n",
    "print(f'volume ratio: {volume_ratio}')\n",
    "print(f'dollar ratio: {dollar_ratio}')"
   ]
  },
  {
   "cell_type": "code",
   "execution_count": null,
   "metadata": {
    "pycharm": {
     "name": "#%%\n"
    }
   },
   "outputs": [],
   "source": [
    "tick_M = 5 # arbitrary\n",
    "print(f'tick threshold: {tick_M:,}')\n",
    "tidx = tick_bars(dfLOB, 'TradePrice', tick_M)\n",
    "tidx[:10]"
   ]
  },
  {
   "cell_type": "code",
   "execution_count": null,
   "metadata": {
    "pycharm": {
     "name": "#%%\n"
    }
   },
   "outputs": [],
   "source": [
    "tick_df = tick_bar_df(dfLOB, 'TradePrice', tick_M)\n",
    "tick_df.shape"
   ]
  },
  {
   "cell_type": "code",
   "execution_count": null,
   "metadata": {
    "pycharm": {
     "name": "#%%\n"
    }
   },
   "outputs": [],
   "source": [
    "# The time array of the trajectory\n",
    "t_final= tick_df.shape[0]\n",
    "delta_t=1 #tick\n",
    "time = np.arange(0, t_final, delta_t)\n",
    "y = np.asarray(tick_df.MicroPricePctChange)"
   ]
  },
  {
   "cell_type": "code",
   "execution_count": null,
   "metadata": {
    "pycharm": {
     "name": "#%%\n"
    }
   },
   "outputs": [],
   "source": [
    "#This is the stochastic trajectory over time\n",
    "plt.plot(y, label = r'Trajectory of MicroPrice Pct Change(tick clock)')\n",
    "\n",
    "plt.xlabel(r'time $t$')\n",
    "plt.ylabel(r'$y(t)$')\n",
    "plt.legend()"
   ]
  },
  {
   "cell_type": "code",
   "execution_count": null,
   "metadata": {
    "pycharm": {
     "name": "#%%\n"
    }
   },
   "outputs": [],
   "source": [
    "from MFDFA import fgn\n",
    "from MFDFA import MFDFA"
   ]
  },
  {
   "cell_type": "code",
   "execution_count": null,
   "metadata": {
    "pycharm": {
     "name": "#%%\n"
    }
   },
   "outputs": [],
   "source": [
    "\n",
    "# Select a band of lags, which usually ranges from \n",
    "# very small segments of data, to very long ones, as\n",
    "lag = np.logspace(0.7, 4, 60).astype(int)\n",
    "# Notice these must be ints, since these will segment\n",
    "# the data into chucks of lag size\n",
    "\n",
    "# Select the power q\n",
    "q = 9\n",
    "\n",
    "# The order of the polynomial fitting\n",
    "order = 2\n",
    "\n",
    "# Obtain the (MF)DFA as\n",
    "lag, dfa = MFDFA(y, lag = lag, q = q, order = order)"
   ]
  },
  {
   "cell_type": "code",
   "execution_count": null,
   "metadata": {
    "pycharm": {
     "name": "#%%\n"
    }
   },
   "outputs": [],
   "source": [
    "plt.plot(lag, dfa)\n",
    "# To uncover the Hurst index, lets get some log-log plots\n",
    "plt.loglog(lag, dfa, 'o', label='fOU: MFDFA q=2')\n",
    "\n",
    "# And now we need to fit the line to find the slope. We will\n",
    "# fit the first points, since the results are more accurate \n",
    "# there. Don't forget that if you are seeing in log-log\n",
    "# scales, you need to fit the logs of the results\n",
    "np.polyfit(np.log(lag[:15]), np.log(dfa[:15]),1)[0]\n",
    "plt.show()\n",
    "# Now what you should obtain is: slope = H + 1"
   ]
  },
  {
   "cell_type": "code",
   "execution_count": null,
   "metadata": {
    "pycharm": {
     "name": "#%%\n"
    }
   },
   "outputs": [],
   "source": [
    "def plot_trends(X,scale,m=1,label='',title=''):\n",
    "    t = np.arange(X.shape[0])\n",
    "   \n",
    "    plt.plot(t,X,lw=2.0)\n",
    "    for i0 in range(0,X.shape[0]-scale+1,scale):\n",
    "        i1 = i0+scale\n",
    "        t0 = t[i0:i1]\n",
    "        C = np.polyfit(t0,X[i0:i1],m)\n",
    "        fit = np.polyval(C,t0);\n",
    "        RMS = np.sqrt(((X[i0:i1]-fit)**2).mean())\n",
    "        plt.plot(t0,fit,color='r',linestyle='--')\n",
    "        plt.plot(t0,fit-RMS,'r')\n",
    "        plt.plot(t0,fit+RMS,'r')\n",
    "#         plt.tight_layout( h_pad=2.4)\n",
    "#        \n",
    "        plt.ylabel(label,ha='center')\n",
    "#     if title: plt.text(100,500,title,fontsize=12) \n",
    "\n",
    "scale = 1000\n",
    "RW1 = np.cumsum(y-y.mean())\n",
    "\n",
    "plt.subplot(311)\n",
    "plt.title('A Linear detrending', fontsize= 9 )\n",
    "plot_trends(RW1,scale,1,label='Multifractal signal\\namplitude',\n",
    "            title='A Linear detrending')\n",
    "plt.legend(['Noise like time-series','Local trend','+/- 1 local RMS'], prop={'size': 6}, loc='upper right')\n",
    "plt.subplot(312)\n",
    "plt.title('B Quadratic detrending', fontsize= 9 )\n",
    "plot_trends(RW1,scale,2,label='MicroPrice Change\\namplitude',\n",
    "            title='B Quadratic detrending')\n",
    "plt.subplot(313)\n",
    "plt.title('C Cubig detrending')\n",
    "plot_trends(RW1,scale,3,label='MicroPrice Change\\namplitude',\n",
    "            title='C Cubic detrending')\n"
   ]
  },
  {
   "cell_type": "code",
   "execution_count": null,
   "metadata": {
    "pycharm": {
     "name": "#%%\n"
    }
   },
   "outputs": [],
   "source": [
    "import time\n",
    "\n",
    "scstep = 8\n",
    "scales = np.floor(2.0**arange(4,10.1,1.0/scstep)).astype('i4')\n",
    "RW = mdf.rwalk(y.ravel())\n",
    "t0 = time.clock()\n",
    "RMS0 = mdf.compRMS(RW,scales,1)\n",
    "dtslow = time.clock() - t0\n",
    "print ('Took %0.3fs'%dtslow)"
   ]
  },
  {
   "cell_type": "code",
   "execution_count": null,
   "metadata": {
    "pycharm": {
     "name": "#%%\n"
    }
   },
   "outputs": [],
   "source": [
    "# scstep = 8\n",
    "# scales = np.floor(2.0**arange(4,10.1,1.0/scstep)).astype('i4')\n",
    "# RW = mdf.rwalk(y.ravel())\n",
    "# t0 = time.clock()\n",
    "# RMS = fastRMS(RW,scales,1)\n",
    "# dtfast = time.clock() - t0\n",
    "# print('Took %0.3fs'%dtfast)"
   ]
  },
  {
   "cell_type": "code",
   "execution_count": null,
   "metadata": {
    "pycharm": {
     "name": "#%%\n"
    }
   },
   "outputs": [],
   "source": [
    "plt.subplot(211)\n",
    "\n",
    "t = arange(0,RW.shape[0],scales[0])+scales[0]/2.0\n",
    "plt.imshow(RMS0,extent=(t[0],t[-1],log2(scales[0]),log2(scales[-1])),aspect='auto')\n",
    "plt.yticks(log2(scales)[::scstep],scales[::scstep])\n",
    "plt.text(500,log2(scales[-scstep]),'compRMS (%0.3fs)'%dtslow,ha='left',color='w',fontsize=20)\n",
    "plt.ylabel('Scale'); plt.colorbar();\n",
    "plt.subplot(212)\n",
    "plt.imshow(RMS,extent=(t[0],t[-1],log2(scales[0]),log2(scales[-1])),aspect='auto')\n",
    "plt.yticks(log2(scales)[::scstep],scales[::scstep])\n",
    "plt.text(500,log2(scales[-scstep]),'fastRMS (%0.3fs)'%dtfast,ha='left',color='w',fontsize=20)\n",
    "plt.xlabel('Sample index'); plt.ylabel('Scale'); plt.colorbar();\n",
    "plt.tight_layout()"
   ]
  },
  {
   "cell_type": "markdown",
   "metadata": {
    "pycharm": {
     "name": "#%% md\n"
    }
   },
   "source": [
    "## Volume Clock ##"
   ]
  },
  {
   "cell_type": "code",
   "execution_count": null,
   "metadata": {
    "pycharm": {
     "name": "#%%\n"
    }
   },
   "outputs": [],
   "source": [
    "def volume_bars(df, volume_column, m):\n",
    "    '''\n",
    "    compute volume bars\n",
    "\n",
    "    # args\n",
    "        df: pd.DataFrame()\n",
    "        volume_column: name for volume data\n",
    "        m: int(), threshold value for volume\n",
    "    # returns\n",
    "        idx: list of indices\n",
    "    '''\n",
    "    t = df[volume_column]\n",
    "    ts = 0\n",
    "    idx = []\n",
    "    for i, x in enumerate(tqdm(t)):\n",
    "        ts += x\n",
    "        if ts >= m:\n",
    "            idx.append(i)\n",
    "            ts = 0\n",
    "            continue\n",
    "    return idx\n",
    "\n",
    "def volume_bar_df(df, volume_column, m):\n",
    "    idx = volume_bars(df, volume_column, m)\n",
    "    return df.iloc[idx].drop_duplicates()"
   ]
  },
  {
   "cell_type": "code",
   "execution_count": null,
   "metadata": {
    "pycharm": {
     "name": "#%%\n"
    }
   },
   "outputs": [],
   "source": [
    "volume_M =5 \n",
    "print(f'volume threshold: {volume_M:,}')\n",
    "v_bar_df = volume_bar_df(df, 'TradedSize', volume_M)\n"
   ]
  },
  {
   "cell_type": "code",
   "execution_count": null,
   "metadata": {
    "pycharm": {
     "name": "#%%\n"
    }
   },
   "outputs": [],
   "source": [
    "y_vc = np.asarray(v_bar_df.MicroPricePctChange.dropna())\n",
    "#This is the stochastic trajectory over time\n",
    "plt.plot(y_vc, label = r'Trajectory of MicroPrice Pct Change(vol clock)')\n",
    "\n",
    "plt.xlabel(r'time $t$')\n",
    "plt.ylabel(r'$y(t)$')\n",
    "plt.legend()"
   ]
  },
  {
   "cell_type": "code",
   "execution_count": null,
   "metadata": {
    "pycharm": {
     "name": "#%%\n"
    }
   },
   "outputs": [],
   "source": [
    "def plot_trends(X,scale,m=1,label='',title=''):\n",
    "    t = np.arange(X.shape[0])\n",
    "   \n",
    "    plt.plot(t,X,lw=2.0)\n",
    "    for i0 in range(0,X.shape[0]-scale+1,scale):\n",
    "        i1 = i0+scale\n",
    "        t0 = t[i0:i1]\n",
    "        C = np.polyfit(t0,X[i0:i1],m)\n",
    "        fit = np.polyval(C,t0);\n",
    "        RMS = np.sqrt(((X[i0:i1]-fit)**2).mean())\n",
    "        plt.plot(t0,fit,color='r',linestyle='--')\n",
    "        plt.plot(t0,fit-RMS,'r')\n",
    "        plt.plot(t0,fit+RMS,'r')\n",
    "#         plt.tight_layout( h_pad=2.4)\n",
    "#        \n",
    "        plt.ylabel(label,ha='center')\n",
    "#     if title: plt.text(100,500,title,fontsize=12) \n",
    "\n",
    "scale = 1000\n",
    "RW1 = np.cumsum(y_vc-y_vc.mean())\n",
    "plt.title('Volume Clock')\n",
    "plt.subplot(311)\n",
    "plt.title('A Linear detrending', fontsize= 9 )\n",
    "plot_trends(RW1,scale,1,label='Multifractal signal\\namplitude',\n",
    "            title='A Linear detrending')\n",
    "plt.legend(['Noise like time-series','Local trend','+/- 1 local RMS'], prop={'size': 6}, loc='upper right')\n",
    "plt.subplot(312)\n",
    "plt.title('B Quadratic detrending', fontsize= 9 )\n",
    "plot_trends(RW1,scale,2,label='MicroPrice Change\\namplitude',\n",
    "            title='B Quadratic detrending')\n",
    "plt.subplot(313)\n",
    "plt.title('C Cubig detrending')\n",
    "plot_trends(RW1,scale,3,label='MicroPrice Change\\namplitude',\n",
    "            title='C Cubic detrending')"
   ]
  },
  {
   "cell_type": "code",
   "execution_count": null,
   "metadata": {
    "pycharm": {
     "name": "#%%\n"
    }
   },
   "outputs": [],
   "source": [
    "import time\n",
    "\n",
    "scstep = 8\n",
    "scales = np.floor(2.0**arange(4,10.1,1.0/scstep)).astype('i4')\n",
    "RW = mdf.rwalk(y.ravel())\n",
    "t0 = time.clock()\n",
    "RMS0 = mdf.compRMS(RW,scales,1)\n",
    "dtslow = time.clock() - t0\n",
    "print ('Took %0.3fs'%dtslow)"
   ]
  },
  {
   "cell_type": "code",
   "execution_count": null,
   "metadata": {
    "pycharm": {
     "name": "#%%\n"
    }
   },
   "outputs": [],
   "source": [
    "# scstep = 2\n",
    "# scales = np.floor(2.0**arange(4,10.1,1.0/scstep)).astype('i4')\n",
    "# RW = mdf.rwalk(y.ravel())\n",
    "# t0 = time.clock()\n",
    "# RMS = mdf.fastRMS(RW,scales,1)\n",
    "# dtfast = time.clock() - t0\n",
    "# print('Took %0.3fs'%dtfast)"
   ]
  },
  {
   "cell_type": "code",
   "execution_count": null,
   "metadata": {
    "pycharm": {
     "name": "#%%\n"
    }
   },
   "outputs": [],
   "source": [
    "def fastRMS(X, scales, m=1, verbose=False):\n",
    "    \"\"\"Compute RMS of detrended signal in sliding windows.\n",
    "    RMS is computed for each scale from scales array. RMS is evaluated\n",
    "    for each scale (N elements) and in all possible windows of N elements.\n",
    "    RMS in windows which do not fully overlap with signal (edges) are not computed,\n",
    "    result for them is set to nan.\n",
    "    The step for sliding of windows is set to scales[0].\n",
    "\n",
    "    This is a fast vectorized version of compRMS function.\n",
    "\n",
    "\tParameters\n",
    "\t----------\n",
    "\tX:       array, time-series\n",
    "    scales:  array, scales (number of elements in a window) for RMS computation\n",
    "    m:       order of polynomial for polyfit\n",
    "\n",
    "\tExamples\n",
    "\t# --------\n",
    "    # >>> X = cumsum(0.1*randn(8000))\n",
    "    # >>> scales = (2**arange(4,10)).astype('i4')\n",
    "\t# >>> RMS = fastRMS(X,scales)\n",
    "    # >>> subplot(311)\n",
    "    # >>> plot(arange(0,X.shape[0],scales[0]),RMS.T/scales + 0.01*arange(len(scales)))\n",
    "    # >>> subplot(312)\n",
    "    # >>> mRMS = ma.array(RMS,mask=isnan(RMS))\n",
    "    # >>> loglog(scales,mRMS.mean(1),'o-',ms=5.0,lw=0.5)\n",
    "    # >>> subplot(313)\n",
    "    # >>> for q in [-3,-1,1,3]:\n",
    "    #         loglog(scales,((mRMS**q).mean(1))**(1.0/q),'o-',ms=5.0,lw=0.5)\n",
    "\n",
    "\t\"\"\"\n",
    "    from numpy.polynomial.polynomial import polyval as mpolyval, polyfit as mpolyfit\n",
    "    step = scales[0]\n",
    "    out = nan + zeros((len(scales), X.shape[0] // step), 'f8')\n",
    "    j = 0\n",
    "    for scale in scales:\n",
    "        if verbose: \n",
    "            i0 = scale // 2 / step + 1\n",
    "            Y = mdf.rw(X[step - (scale // 2) % step:], scale, step)\n",
    "            i = arange(scale)\n",
    "            C = mpolyfit(i, Y.T, m)\n",
    "            rms = sqrt(((Y - mpolyval(i, C)) ** 2).mean(1))\n",
    "            out[j, i0:i0 + rms.shape[0]] = rms\n",
    "        j += 1\n",
    "    return out"
   ]
  },
  {
   "cell_type": "code",
   "execution_count": null,
   "metadata": {
    "pycharm": {
     "name": "#%%\n"
    }
   },
   "outputs": [],
   "source": [
    "# X = cumsum(0.1*np.random.randn(8000))\n",
    "# scales = (2**arange(4,10)).astype('i4')\n",
    "# RMS = fastRMS(X,scales)\n",
    "# plt.subplot(311)\n",
    "# plt.plot(arange(0,X.shape[0],scales[0]),RMS.T/scales + 0.01*arange(len(scales)))\n",
    "# plt.subplot(312)\n",
    "# mRMS = np.ma.array(RMS,mask=np.isnan(RMS))\n",
    "# plt.loglog(scales,mRMS.mean(1),'o-',ms=5.0,lw=0.5)\n",
    "# plt.subplot(313)\n",
    "# for q in [-3,-1,1,3]:\n",
    "#     plt.loglog(scales,((mRMS**q).mean(1))**(1.0/q),'o-',ms=5.0,lw=0.5)"
   ]
  },
  {
   "cell_type": "code",
   "execution_count": null,
   "metadata": {
    "pycharm": {
     "name": "#%%\n"
    }
   },
   "outputs": [],
   "source": [
    "x1= dfLOB.MicroPricePctChange.values\n",
    "x2 = v_bar_df.MicroPricePctChange.values\n",
    "y1 = dfLOB.Duration.diff().values\n",
    "y2 = v_bar_df.Duration.diff().values"
   ]
  },
  {
   "cell_type": "code",
   "execution_count": null,
   "metadata": {
    "pycharm": {
     "name": "#%%\n"
    }
   },
   "outputs": [],
   "source": [
    "ticks = np.sign(dfLOB.TradePrice -dfLOB.TradePrice.shift(1) )\n",
    "vticks = np.sign(v_bar_df.TradePrice -v_bar_df.TradePrice.shift(1) )\n",
    "ticks_adj = ticks.copy()\n",
    "vticks_adj = vticks.copy()\n"
   ]
  },
  {
   "cell_type": "code",
   "execution_count": null,
   "metadata": {
    "pycharm": {
     "name": "#%%\n"
    }
   },
   "outputs": [],
   "source": [
    "ticks_adj = ticks.replace(to_replace=0, method='ffill')\n",
    "vticks_adj = vticks.replace(to_replace=0, method='ffill')"
   ]
  },
  {
   "cell_type": "code",
   "execution_count": null,
   "metadata": {
    "pycharm": {
     "name": "#%%\n"
    }
   },
   "outputs": [],
   "source": [
    "# Calculate autocorrelation for n lags \n",
    "size=15\n",
    "params = {'legend.fontsize': 'large',\n",
    "          'figure.figsize': (20,8),\n",
    "          'axes.labelsize': size,\n",
    "          'axes.titlesize': size,\n",
    "          'xtick.labelsize': size*0.75,\n",
    "          'ytick.labelsize': size*0.75,\n",
    "          'axes.titlepad': 25}\n",
    "plt.rcParams.update(params)\n",
    "fig, ax1 = plt.subplots(figsize=(8,5))\n",
    "for i in np.arange( 1, 1000 ):\n",
    "    ax1.bar( i, ticks_adj.autocorr( lag = i ), color = 'blue' )\n",
    "ax1.set_title( 'Autocorrelation of tick test data by lag' )\n",
    "ax1.set_ylabel( 'Autocorrelation' )\n",
    "ax1.set_xlabel( 'Lag' )\n",
    "plt.show()"
   ]
  },
  {
   "cell_type": "code",
   "execution_count": null,
   "metadata": {
    "pycharm": {
     "name": "#%%\n"
    }
   },
   "outputs": [],
   "source": [
    "size=15\n",
    "params = {'legend.fontsize': 'large',\n",
    "          'figure.figsize': (20,8),\n",
    "          'axes.labelsize': size,\n",
    "          'axes.titlesize': size,\n",
    "          'xtick.labelsize': size*0.75,\n",
    "          'ytick.labelsize': size*0.75,\n",
    "          'axes.titlepad': 25}\n",
    "plt.rcParams.update(params)\n",
    "# Calculate autocorrelation for n lags \n",
    "fig, ax1 = plt.subplots(figsize=(8,5))\n",
    "for i in np.arange( 1, 1000 ):\n",
    "    ax1.bar( i, vticks_adj.autocorr( lag = i ), color = 'red' )\n",
    "ax1.set_title( 'Autocorrelation of  volume tick test data by lag' )\n",
    "ax1.set_ylabel( 'Autocorrelation' )\n",
    "ax1.set_xlabel( 'Lag' )\n",
    "plt.show()"
   ]
  },
  {
   "cell_type": "code",
   "execution_count": null,
   "metadata": {
    "pycharm": {
     "name": "#%%\n"
    }
   },
   "outputs": [],
   "source": [
    "dfTradeDirection = dfLOB[['TradePrice','BestBid','BestAsk']]\n"
   ]
  },
  {
   "cell_type": "code",
   "execution_count": null,
   "metadata": {
    "pycharm": {
     "name": "#%%\n"
    }
   },
   "outputs": [],
   "source": [
    "dfLOB.loc[dfLOB ['TradePrice'] == dfLOB ['BestBid'],'TradeDirection'] =-1 \n",
    "dfLOB.loc[dfLOB ['TradePrice'] == dfLOB ['BestAsk'],'TradeDirection'] =1"
   ]
  },
  {
   "cell_type": "code",
   "execution_count": null,
   "metadata": {
    "pycharm": {
     "name": "#%%\n"
    }
   },
   "outputs": [],
   "source": [
    "dfLOB"
   ]
  },
  {
   "cell_type": "code",
   "execution_count": null,
   "metadata": {
    "pycharm": {
     "name": "#%%\n"
    }
   },
   "outputs": [],
   "source": [
    "trades_adj = dfTradeDirection.TradeDirection.replace(to_replace=0, method='ffill')"
   ]
  },
  {
   "cell_type": "code",
   "execution_count": 1,
   "metadata": {
    "pycharm": {
     "name": "#%%\n"
    }
   },
   "outputs": [
    {
     "ename": "NameError",
     "evalue": "name 'plt' is not defined",
     "output_type": "error",
     "traceback": [
      "\u001B[0;31m---------------------------------------------------------------------------\u001B[0m",
      "\u001B[0;31mNameError\u001B[0m                                 Traceback (most recent call last)",
      "\u001B[0;32m<ipython-input-1-b5e9d2d4bee5>\u001B[0m in \u001B[0;36m<module>\u001B[0;34m\u001B[0m\n\u001B[1;32m      8\u001B[0m           'axes.titlepad': 25}\n\u001B[1;32m      9\u001B[0m \u001B[0;31m# Calculate autocorrelation for n lags\u001B[0m\u001B[0;34m\u001B[0m\u001B[0;34m\u001B[0m\u001B[0;34m\u001B[0m\u001B[0m\n\u001B[0;32m---> 10\u001B[0;31m \u001B[0mfig\u001B[0m\u001B[0;34m,\u001B[0m \u001B[0max1\u001B[0m \u001B[0;34m=\u001B[0m \u001B[0mplt\u001B[0m\u001B[0;34m.\u001B[0m\u001B[0msubplots\u001B[0m\u001B[0;34m(\u001B[0m\u001B[0mfigsize\u001B[0m\u001B[0;34m=\u001B[0m\u001B[0;34m(\u001B[0m\u001B[0;36m8\u001B[0m\u001B[0;34m,\u001B[0m\u001B[0;36m5\u001B[0m\u001B[0;34m)\u001B[0m\u001B[0;34m)\u001B[0m\u001B[0;34m\u001B[0m\u001B[0;34m\u001B[0m\u001B[0m\n\u001B[0m\u001B[1;32m     11\u001B[0m \u001B[0max1\u001B[0m\u001B[0;34m.\u001B[0m\u001B[0mxaxis\u001B[0m\u001B[0;34m.\u001B[0m\u001B[0mset_minor_locator\u001B[0m\u001B[0;34m(\u001B[0m\u001B[0mAutoMinorLocator\u001B[0m\u001B[0;34m(\u001B[0m\u001B[0;34m)\u001B[0m\u001B[0;34m)\u001B[0m\u001B[0;34m\u001B[0m\u001B[0;34m\u001B[0m\u001B[0m\n\u001B[1;32m     12\u001B[0m \u001B[0max1\u001B[0m\u001B[0;34m.\u001B[0m\u001B[0myaxis\u001B[0m\u001B[0;34m.\u001B[0m\u001B[0mset_minor_locator\u001B[0m\u001B[0;34m(\u001B[0m\u001B[0mAutoMinorLocator\u001B[0m\u001B[0;34m(\u001B[0m\u001B[0;34m)\u001B[0m\u001B[0;34m)\u001B[0m\u001B[0;34m\u001B[0m\u001B[0;34m\u001B[0m\u001B[0m\n",
      "\u001B[0;31mNameError\u001B[0m: name 'plt' is not defined"
     ]
    }
   ],
   "source": [
    "size=15\n",
    "params = {'legend.fontsize': 'large',\n",
    "          'figure.figsize': (20,8),\n",
    "          'axes.labelsize': size,\n",
    "          'axes.titlesize': size,\n",
    "          'xtick.labelsize': size*0.75,\n",
    "          'ytick.labelsize': size*0.75,\n",
    "          'axes.titlepad': 25}\n",
    "# Calculate autocorrelation for n lags \n",
    "fig, ax1 = plt.subplots(figsize=(8,5))\n",
    "\n",
    "autocorrelseries= dict()\n",
    "for i in np.arange( 1, 1000 ):\n",
    "    ax1.set_facecolor('xkcd:white')\n",
    "    ax1.bar( i, trades_adj.autocorr( lag = i ), color = 'darkblue' )\n",
    "    autocorrelseries[i] = trades_adj.autocorr( lag = i )\n",
    "ax1.set_title( 'Autocorrelation of Direction of Trades by lag' )\n",
    "ax1.set_ylabel( 'Autocorrelation' )\n",
    "ax1.set_xlabel( 'Lag' )\n",
    "# Initial value of y at t=0, lifetime in s\n",
    "N, tau = 1,50\n",
    "# Maximum time to consider (s)\n",
    "tmax = 1000\n",
    "# A suitable grid of time points, and the exponential decay itself\n",
    "t = np.linspace(0, tmax, 10000)\n",
    "y = N * np.exp(-t/tau)\n",
    "\n",
    "# fig = plt.figure()\n",
    "# ax = fig.add_subplot(111)\n",
    "ax1.plot(t, y, color='r', linestyle ='dotted')\n",
    "plt.savefig('/home/ak/Documents/Research/Papers/figures/autocorrelsymbol.png', dpi=150) \n",
    "plt.show()\n",
    "# file_location = \"\".join(('home/ak/Documents/Research/Papers/figures/','autoCorrelLags.png'))\n",
    "\n",
    "# plt.savefig(file_location, dpi=150)\n"
   ]
  },
  {
   "cell_type": "code",
   "execution_count": null,
   "metadata": {
    "pycharm": {
     "name": "#%%\n"
    }
   },
   "outputs": [],
   "source": [
    "autocorrelseries"
   ]
  },
  {
   "cell_type": "code",
   "execution_count": 3,
   "metadata": {
    "pycharm": {
     "name": "#%%\n"
    }
   },
   "outputs": [
    {
     "data": {
      "image/png": "[encoded data removed]",
      "text/plain": [
       "<Figure size 432x288 with 1 Axes>"
      ]
     },
     "metadata": {
      "needs_background": "light"
     },
     "output_type": "display_data"
    }
   ],
   "source": [
    "import numpy as np\n",
    "import matplotlib.pyplot as plt\n",
    "\n",
    "# Initial value of y at t=0, lifetime in s\n",
    "N, tau = 1, 50\n",
    "# Maximum time to consider (s)\n",
    "tmax = 1000\n",
    "# A suitable grid of time points, and the exponential decay itself\n",
    "t = np.linspace(0, tmax, 1000)\n",
    "y = N * np.exp(-t/tau)\n",
    "\n",
    "fig = plt.figure()\n",
    "ax = fig.add_subplot(111)\n",
    "ax.plot(t, y)\n",
    "\n",
    "# The number of lifetimes that fall within the plotted time interval\n",
    "ntau = tmax // tau + 1\n",
    "# xticks at 0, tau, 2*tau, ..., ntau*tau; yticks at the corresponding y-values\n",
    "xticks = [i*tau for i in range(ntau)]\n",
    "yticks = [N * np.exp(-i) for i in range(ntau)]\n",
    "ax.set_xticks(xticks)\n",
    "ax.set_yticks(yticks)\n",
    "\n",
    "# xtick labels: 0, tau, 2tau, ...\n",
    "xtick_labels = [r'$0$', r'$\\tau$'] + [r'${}\\tau$'.format(k) for k in range(2,ntau)]\n",
    "ax.set_xticklabels(xtick_labels)\n",
    "# corresponding ytick labels: N, N/e, N/2e, ...\n",
    "ytick_labels = [r'$N$',r'$N/e$'] + [r'$N/{}e$'.format(k) for k in range(2,ntau)]\n",
    "ax.set_yticklabels(ytick_labels)\n",
    "\n",
    "ax.set_xlabel(r'$t\\;/\\mathrm{s}$')\n",
    "ax.set_ylabel(r'$y$')\n",
    "ax.grid()\n",
    "plt.show()"
   ]
  },
  {
   "cell_type": "code",
   "execution_count": null,
   "metadata": {
    "pycharm": {
     "name": "#%%\n"
    }
   },
   "outputs": [],
   "source": [
    "import stylised_facts.stylised_facts_data_utilities"
   ]
  },
  {
   "cell_type": "code",
   "execution_count": null,
   "metadata": {
    "pycharm": {
     "name": "#%%\n"
    }
   },
   "outputs": [],
   "source": []
  }
 ],
 "metadata": {
  "kernelspec": {
   "display_name": "Python 3",
   "language": "python",
   "name": "python3"
  },
  "language_info": {
   "codemirror_mode": {
    "name": "ipython",
    "version": 3
   },
   "file_extension": ".py",
   "mimetype": "text/x-python",
   "name": "python",
   "nbconvert_exporter": "python",
   "pygments_lexer": "ipython3",
   "version": "3.6.8"
  }
 },
 "nbformat": 4,
 "nbformat_minor": 2
}