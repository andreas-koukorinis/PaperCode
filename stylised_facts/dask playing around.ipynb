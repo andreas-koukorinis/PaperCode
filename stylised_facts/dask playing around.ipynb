{
 "cells": [
  {
   "cell_type": "code",
   "execution_count": 1,
   "metadata": {},
   "outputs": [],
   "source": [
    "import pandas as pd\n",
    "import os \n",
    "import numpy as np\n",
    "import dask.dataframe as dd\n",
    "import dask.multiprocessing\n",
    "dask.config.set(scheduler='processes')\n",
    "import time\n",
    "\n",
    "import dask.array as da\n",
    "import dask.bag as db"
   ]
  },
  {
   "cell_type": "code",
   "execution_count": null,
   "metadata": {},
   "outputs": [],
   "source": []
  },
  {
   "cell_type": "code",
   "execution_count": 2,
   "metadata": {},
   "outputs": [
    {
     "ename": "FileNotFoundError",
     "evalue": "[Errno 2] No such file or directory: '/media/ak/Data1/TradesPurchased/CL'",
     "output_type": "error",
     "traceback": [
      "\u001b[0;31m-------------------------------------------------------------\u001b[0m",
      "\u001b[0;31mFileNotFoundError\u001b[0m           Traceback (most recent call last)",
      "\u001b[0;32m<ipython-input-2-c3533ffdea9a>\u001b[0m in \u001b[0;36m<module>\u001b[0;34m\u001b[0m\n\u001b[1;32m      1\u001b[0m \u001b[0mCL\u001b[0m \u001b[0;34m=\u001b[0m \u001b[0;34m'/media/ak/Data1/TradesPurchased/CL'\u001b[0m\u001b[0;34m\u001b[0m\u001b[0;34m\u001b[0m\u001b[0m\n\u001b[0;32m----> 2\u001b[0;31m \u001b[0mCL_csv\u001b[0m \u001b[0;34m=\u001b[0m \u001b[0msorted\u001b[0m\u001b[0;34m(\u001b[0m\u001b[0;34m[\u001b[0m\u001b[0mf\u001b[0m \u001b[0;32mfor\u001b[0m \u001b[0mf\u001b[0m \u001b[0;32min\u001b[0m \u001b[0mos\u001b[0m\u001b[0;34m.\u001b[0m\u001b[0mlistdir\u001b[0m\u001b[0;34m(\u001b[0m\u001b[0mCL\u001b[0m\u001b[0;34m)\u001b[0m \u001b[0;32mif\u001b[0m \u001b[0mstr\u001b[0m\u001b[0;34m(\u001b[0m\u001b[0;34m'.gz'\u001b[0m\u001b[0;34m)\u001b[0m \u001b[0;32mnot\u001b[0m \u001b[0;32min\u001b[0m \u001b[0mf\u001b[0m\u001b[0;34m]\u001b[0m\u001b[0;34m)\u001b[0m\u001b[0;34m\u001b[0m\u001b[0;34m\u001b[0m\u001b[0m\n\u001b[0m\u001b[1;32m      3\u001b[0m \u001b[0mCL_file_idx\u001b[0m \u001b[0;34m=\u001b[0m \u001b[0;36m1\u001b[0m\u001b[0;34m\u001b[0m\u001b[0;34m\u001b[0m\u001b[0m\n\u001b[1;32m      4\u001b[0m \u001b[0mfile_loc\u001b[0m \u001b[0;34m=\u001b[0m \u001b[0mos\u001b[0m\u001b[0;34m.\u001b[0m\u001b[0mpath\u001b[0m\u001b[0;34m.\u001b[0m\u001b[0mjoin\u001b[0m\u001b[0;34m(\u001b[0m\u001b[0mCL\u001b[0m\u001b[0;34m,\u001b[0m \u001b[0mCL_csv\u001b[0m\u001b[0;34m[\u001b[0m\u001b[0mCL_file_idx\u001b[0m\u001b[0;34m]\u001b[0m\u001b[0;34m)\u001b[0m\u001b[0;34m\u001b[0m\u001b[0;34m\u001b[0m\u001b[0m\n",
      "\u001b[0;31mFileNotFoundError\u001b[0m: [Errno 2] No such file or directory: '/media/ak/Data1/TradesPurchased/CL'"
     ]
    }
   ],
   "source": [
    "CL = '/media/ak/Data1/TradesPurchased/CL'\n",
    "CL_csv = sorted([f for f in os.listdir(CL) if str('.gz') not in f])\n",
    "CL_file_idx = 1\n",
    "file_loc = os.path.join(CL, CL_csv[CL_file_idx])"
   ]
  },
  {
   "cell_type": "code",
   "execution_count": 3,
   "metadata": {},
   "outputs": [],
   "source": [
    "# we are just picking one file here # \n",
    "ES = '/media/ak/Data1/TradesPurchased/ES'\n",
    "ES_csv = sorted([f for f in os.listdir(ES) if str('.gz') not in f])\n",
    "ES_file_idx = 1\n",
    "es_file_loc = os.path.join(ES, ES_csv[ES_file_idx])"
   ]
  },
  {
   "cell_type": "code",
   "execution_count": 4,
   "metadata": {
    "scrolled": true
   },
   "outputs": [
    {
     "data": {
      "text/plain": [
       "['CL',\n",
       " 'ES',\n",
       " 'FGBL',\n",
       " 'FLG',\n",
       " 'FTSE',\n",
       " 'JNI',\n",
       " 'LOB',\n",
       " 'STXE',\n",
       " 'Trades & Quotes-07-15-2020 11_41_52.zip',\n",
       " 'Trades & Quotes-07-15-2020 11_42_08.zip',\n",
       " 'Trades & Quotes-07-15-2020 1_56_35.zip',\n",
       " 'Trades & Quotes-07-15-2020 1_56_41.zip',\n",
       " 'Trades & Quotes-07-15-2020 1_56_48.zip',\n",
       " 'Trades & Quotes-07-15-2020 2_33_56.zip',\n",
       " 'Trades & Quotes-07-15-2020 2_34_40.zip',\n",
       " 'Trades & Quotes-07-15-2020 8_45_36.zip',\n",
       " 'Trades & Quotes-07-17-2020 4_45_25.zip',\n",
       " 'TY']"
      ]
     },
     "execution_count": 4,
     "metadata": {},
     "output_type": "execute_result"
    }
   ],
   "source": [
    "os.listdir('/media/ak/Data1/TradesPurchased')"
   ]
  },
  {
   "cell_type": "code",
   "execution_count": 5,
   "metadata": {},
   "outputs": [
    {
     "name": "stdout",
     "output_type": "stream",
     "text": [
      "Read csv with dask:  0.07524275779724121 sec\n"
     ]
    }
   ],
   "source": [
    "start = time.time()\n",
    "cl_dask_df = dd.read_csv(file_loc, assume_missing=True)\n",
    "es_dask_df = dd.read_csv(es_file_loc, assume_missing=True)\n",
    "\n",
    "end = time.time()\n",
    "print(\"Read csv with dask: \",(end-start),\"sec\")\n"
   ]
  },
  {
   "cell_type": "code",
   "execution_count": null,
   "metadata": {},
   "outputs": [],
   "source": []
  },
  {
   "cell_type": "code",
   "execution_count": null,
   "metadata": {},
   "outputs": [],
   "source": []
  },
  {
   "cell_type": "code",
   "execution_count": null,
   "metadata": {},
   "outputs": [],
   "source": [
    "#get list of dates from the file"
   ]
  },
  {
   "cell_type": "code",
   "execution_count": 6,
   "metadata": {
    "scrolled": true
   },
   "outputs": [],
   "source": [
    "cl_dates = list(cl_dask_df['Date'].values.compute())\n",
    "es_dates =list(cl_dask_df['Date'].values.compute())"
   ]
  },
  {
   "cell_type": "code",
   "execution_count": null,
   "metadata": {},
   "outputs": [],
   "source": [
    "cl_unique_dates = np.unique(cl_dates)\n",
    "es_unique_dates = np.unique(es_dates)"
   ]
  },
  {
   "cell_type": "code",
   "execution_count": null,
   "metadata": {},
   "outputs": [],
   "source": [
    "df_cl = cl_dask_df[cl_dask_df.Date == cl_unique_dates[0] ].compute()\n",
    "df_es = es_dask_df[es_dask_df.Date == es_unique_dates[0] ].compute()"
   ]
  },
  {
   "cell_type": "code",
   "execution_count": null,
   "metadata": {},
   "outputs": [],
   "source": [
    "unique_quotes_cl = len(np.unique(df_quotes_cl.Time))\n",
    "unique_quotes_es =len(np.unique(df_quotes_es.Time))"
   ]
  },
  {
   "cell_type": "code",
   "execution_count": null,
   "metadata": {},
   "outputs": [],
   "source": [
    "df_trades_es = df_quotes_es[df_es.Type == \"Trade\"]\n",
    "df_quotes_es = df_quotes_es[df_es.Type == \"Quote\"]\n"
   ]
  },
  {
   "cell_type": "code",
   "execution_count": null,
   "metadata": {},
   "outputs": [],
   "source": [
    "import sys\n",
    "df_trades_es.info()"
   ]
  },
  {
   "cell_type": "code",
   "execution_count": null,
   "metadata": {},
   "outputs": [],
   "source": [
    "df_quotes_es.info()"
   ]
  },
  {
   "cell_type": "code",
   "execution_count": null,
   "metadata": {},
   "outputs": [],
   "source": [
    "df_quotes_es =df_quotes_es.drop(['Price', 'Volume','Type'], 1)"
   ]
  },
  {
   "cell_type": "code",
   "execution_count": null,
   "metadata": {},
   "outputs": [],
   "source": [
    "df_trades_es_processed = df_trades_es.groupby('Time', as_index=False, sort=True)['Date','Price','Volume'].mean()"
   ]
  },
  {
   "cell_type": "code",
   "execution_count": null,
   "metadata": {},
   "outputs": [],
   "source": [
    "df_quotes_es_processed = df_quotes_es.groupby('Time', as_index=False, sort=True)['Date','Bid Price','Bid Size','Ask Price','Ask Size'].mean()"
   ]
  },
  {
   "cell_type": "code",
   "execution_count": null,
   "metadata": {},
   "outputs": [],
   "source": [
    "import matplotlib.pyplot as plt\n",
    "plt.plot(df_quotes_es_processed['Bid Price'])\n",
    "\n",
    "plt.plot(df_quotes_es_processed['Ask Price'], color ='r')\n",
    "plt.plot(df_trades_es_processed['Price'], color ='g')\n",
    "plt.show()\n",
    "_=plt.hist((df_quotes_es_processed['Ask Price'] - df_quotes_es_processed['Bid Price']), color ='g', bins =120)"
   ]
  },
  {
   "cell_type": "code",
   "execution_count": null,
   "metadata": {},
   "outputs": [],
   "source": [
    "#TODO:\n",
    "#replace Bid Price with BestBid and Ask Price with Best Ask\n",
    "#replace Price with TradePrice and Volume with TradeVolume\n"
   ]
  },
  {
   "cell_type": "code",
   "execution_count": null,
   "metadata": {},
   "outputs": [],
   "source": [
    "quotes_df = pd.merge_asof(\n",
    "                    qt_tmp_df[qt_tmp_df['type'] == 'BID'].dropna().fillna(\"ffill\").sort_values('TradeTime')\n",
    "                    , qt_tmp_df[qt_tmp_df['type'] == 'ASK'].dropna().fillna(\"ffill\").sort_values('TradeTime'),\n",
    "                    on='TradeTime', allow_exact_matches=True)"
   ]
  },
  {
   "cell_type": "code",
   "execution_count": null,
   "metadata": {},
   "outputs": [],
   "source": [
    "df_trades = dask_df[dask_df.Type == 'Trade' ].compute()"
   ]
  },
  {
   "cell_type": "code",
   "execution_count": null,
   "metadata": {},
   "outputs": [],
   "source": [
    "df_trades_non_NaN = df_trades[df_trades.Price != 'NaN']"
   ]
  },
  {
   "cell_type": "code",
   "execution_count": null,
   "metadata": {},
   "outputs": [],
   "source": [
    "df_trades[df_trades.Date == list_unique_dates[4]]"
   ]
  },
  {
   "cell_type": "code",
   "execution_count": null,
   "metadata": {},
   "outputs": [],
   "source": []
  }
 ],
 "metadata": {
  "kernelspec": {
   "display_name": "Python 3",
   "language": "python",
   "name": "python3"
  },
  "language_info": {
   "codemirror_mode": {
    "name": "ipython",
    "version": 3
   },
   "file_extension": ".py",
   "mimetype": "text/x-python",
   "name": "python",
   "nbconvert_exporter": "python",
   "pygments_lexer": "ipython3",
   "version": "3.7.7"
  }
 },
 "nbformat": 4,
 "nbformat_minor": 5
}
