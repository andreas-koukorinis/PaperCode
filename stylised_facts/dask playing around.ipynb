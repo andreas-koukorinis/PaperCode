{
 "cells": [
  {
   "cell_type": "code",
   "execution_count": 1,
   "id": "55ce0546",
   "metadata": {},
   "outputs": [],
   "source": [
    "import pandas as pd\n",
    "import os \n",
    "import numpy as np\n",
    "import dask.dataframe as dd\n",
    "import dask.multiprocessing\n",
    "dask.config.set(scheduler='processes')\n",
    "import time\n",
    "\n",
    "import dask.array as da\n",
    "import dask.bag as db"
   ]
  },
  {
   "cell_type": "code",
   "execution_count": null,
   "id": "b617922d",
   "metadata": {},
   "outputs": [],
   "source": []
  },
  {
   "cell_type": "code",
   "execution_count": 2,
   "id": "7b56f8b3",
   "metadata": {},
   "outputs": [],
   "source": [
    "CL = '/media/ak/Data1/TradesPurchased/CL'\n",
    "CL_csv = sorted([f for f in os.listdir(CL) if str('.gz') not in f])\n",
    "CL_file_idx = 1\n",
    "file_loc = os.path.join(CL, CL_csv[CL_file_idx])"
   ]
  },
  {
   "cell_type": "code",
   "execution_count": 3,
   "id": "9382a75f",
   "metadata": {},
   "outputs": [],
   "source": [
    "# we are just picking one file here # \n",
    "ES = '/media/ak/Data1/TradesPurchased/ES'\n",
    "ES_csv = sorted([f for f in os.listdir(ES) if str('.gz') not in f])\n",
    "ES_file_idx = 1\n",
    "es_file_loc = os.path.join(ES, ES_csv[ES_file_idx])"
   ]
  },
  {
   "cell_type": "code",
   "execution_count": 4,
   "id": "58cf9aaf",
   "metadata": {
    "scrolled": true
   },
   "outputs": [
    {
     "data": {
      "text/plain": [
       "['CL',\n",
       " 'ES',\n",
       " 'FGBL',\n",
       " 'FLG',\n",
       " 'FTSE',\n",
       " 'JNI',\n",
       " 'LOB',\n",
       " 'STXE',\n",
       " 'Trades & Quotes-07-15-2020 11_41_52.zip',\n",
       " 'Trades & Quotes-07-15-2020 11_42_08.zip',\n",
       " 'Trades & Quotes-07-15-2020 1_56_35.zip',\n",
       " 'Trades & Quotes-07-15-2020 1_56_41.zip',\n",
       " 'Trades & Quotes-07-15-2020 1_56_48.zip',\n",
       " 'Trades & Quotes-07-15-2020 2_33_56.zip',\n",
       " 'Trades & Quotes-07-15-2020 2_34_40.zip',\n",
       " 'Trades & Quotes-07-15-2020 8_45_36.zip',\n",
       " 'Trades & Quotes-07-17-2020 4_45_25.zip',\n",
       " 'TY']"
      ]
     },
     "execution_count": 4,
     "metadata": {},
     "output_type": "execute_result"
    }
   ],
   "source": [
    "os.listdir('/media/ak/Data1/TradesPurchased')"
   ]
  },
  {
   "cell_type": "code",
   "execution_count": 5,
   "id": "4bfc1bc8",
   "metadata": {},
   "outputs": [
    {
     "name": "stdout",
     "output_type": "stream",
     "text": [
      "Read csv with dask:  0.07524275779724121 sec\n"
     ]
    }
   ],
   "source": [
    "start = time.time()\n",
    "cl_dask_df = dd.read_csv(file_loc, assume_missing=True)\n",
    "es_dask_df = dd.read_csv(es_file_loc, assume_missing=True)\n",
    "\n",
    "end = time.time()\n",
    "print(\"Read csv with dask: \",(end-start),\"sec\")\n"
   ]
  },
  {
   "cell_type": "code",
   "execution_count": null,
   "id": "80e1fd42",
   "metadata": {},
   "outputs": [],
   "source": []
  },
  {
   "cell_type": "code",
   "execution_count": null,
   "id": "4d831431",
   "metadata": {},
   "outputs": [],
   "source": []
  },
  {
   "cell_type": "code",
   "execution_count": null,
   "id": "bfc7acf1",
   "metadata": {},
   "outputs": [],
   "source": [
    "#get list of dates from the file"
   ]
  },
  {
   "cell_type": "code",
   "execution_count": 6,
   "id": "3b22a527",
   "metadata": {
    "scrolled": true
   },
   "outputs": [],
   "source": [
    "cl_dates = list(cl_dask_df['Date'].values.compute())\n",
    "es_dates =list(cl_dask_df['Date'].values.compute())"
   ]
  },
  {
   "cell_type": "code",
   "execution_count": null,
   "id": "68d3f7ba",
   "metadata": {},
   "outputs": [],
   "source": [
    "cl_unique_dates = np.unique(cl_dates)\n",
    "es_unique_dates = np.unique(es_dates)"
   ]
  },
  {
   "cell_type": "code",
   "execution_count": null,
   "id": "a3055fb7",
   "metadata": {},
   "outputs": [],
   "source": [
    "df_cl = cl_dask_df[cl_dask_df.Date == cl_unique_dates[0] ].compute()\n",
    "df_es = es_dask_df[es_dask_df.Date == es_unique_dates[0] ].compute()"
   ]
  },
  {
   "cell_type": "code",
   "execution_count": null,
   "id": "040ecb92",
   "metadata": {},
   "outputs": [],
   "source": [
    "unique_quotes_cl = len(np.unique(df_quotes_cl.Time))\n",
    "unique_quotes_es =len(np.unique(df_quotes_es.Time))"
   ]
  },
  {
   "cell_type": "code",
   "execution_count": null,
   "id": "4a063642",
   "metadata": {},
   "outputs": [],
   "source": [
    "df_trades_es = df_quotes_es[df_es.Type == \"Trade\"]\n",
    "df_quotes_es = df_quotes_es[df_es.Type == \"Quote\"]\n"
   ]
  },
  {
   "cell_type": "code",
   "execution_count": null,
   "id": "8f4c9b6f",
   "metadata": {},
   "outputs": [],
   "source": [
    "import sys\n",
    "df_trades_es.info()"
   ]
  },
  {
   "cell_type": "code",
   "execution_count": null,
   "id": "26ed4c7f",
   "metadata": {},
   "outputs": [],
   "source": [
    "df_quotes_es.info()"
   ]
  },
  {
   "cell_type": "code",
   "execution_count": null,
   "id": "4155ff65",
   "metadata": {},
   "outputs": [],
   "source": [
    "df_quotes_es =df_quotes_es.drop(['Price', 'Volume','Type'], 1)"
   ]
  },
  {
   "cell_type": "code",
   "execution_count": null,
   "id": "6727fdac",
   "metadata": {},
   "outputs": [],
   "source": [
    "df_trades_es_processed = df_trades_es.groupby('Time', as_index=False, sort=True)['Date','Price','Volume'].mean()"
   ]
  },
  {
   "cell_type": "code",
   "execution_count": null,
   "id": "ce272a80",
   "metadata": {},
   "outputs": [],
   "source": [
    "df_quotes_es_processed = df_quotes_es.groupby('Time', as_index=False, sort=True)['Date','Bid Price','Bid Size','Ask Price','Ask Size'].mean()"
   ]
  },
  {
   "cell_type": "code",
   "execution_count": null,
   "id": "88c77fb2",
   "metadata": {},
   "outputs": [],
   "source": [
    "import matplotlib.pyplot as plt\n",
    "plt.plot(df_quotes_es_processed['Bid Price'])\n",
    "\n",
    "plt.plot(df_quotes_es_processed['Ask Price'], color ='r')\n",
    "plt.plot(df_trades_es_processed['Price'], color ='g')\n",
    "plt.show()\n",
    "_=plt.hist((df_quotes_es_processed['Ask Price'] - df_quotes_es_processed['Bid Price']), color ='g', bins =120)"
   ]
  },
  {
   "cell_type": "code",
   "execution_count": null,
   "id": "e90bae0e",
   "metadata": {},
   "outputs": [],
   "source": [
    "#TODO:\n",
    "#replace Bid Price with BestBid and Ask Price with Best Ask\n",
    "#replace Price with TradePrice and Volume with TradeVolume\n"
   ]
  },
  {
   "cell_type": "code",
   "execution_count": null,
   "id": "570c5145",
   "metadata": {},
   "outputs": [],
   "source": [
    "quotes_df = pd.merge_asof(\n",
    "                    qt_tmp_df[qt_tmp_df['type'] == 'BID'].dropna().fillna(\"ffill\").sort_values('TradeTime')\n",
    "                    , qt_tmp_df[qt_tmp_df['type'] == 'ASK'].dropna().fillna(\"ffill\").sort_values('TradeTime'),\n",
    "                    on='TradeTime', allow_exact_matches=True)"
   ]
  },
  {
   "cell_type": "code",
   "execution_count": null,
   "id": "e179446a",
   "metadata": {},
   "outputs": [],
   "source": [
    "df_trades = dask_df[dask_df.Type == 'Trade' ].compute()"
   ]
  },
  {
   "cell_type": "code",
   "execution_count": null,
   "id": "8bee25c4",
   "metadata": {},
   "outputs": [],
   "source": [
    "df_trades_non_NaN = df_trades[df_trades.Price != 'NaN']"
   ]
  },
  {
   "cell_type": "code",
   "execution_count": null,
   "id": "2f62f58f",
   "metadata": {},
   "outputs": [],
   "source": [
    "df_trades[df_trades.Date == list_unique_dates[4]]"
   ]
  },
  {
   "cell_type": "code",
   "execution_count": null,
   "id": "89fdb2f1",
   "metadata": {},
   "outputs": [],
   "source": []
  }
 ],
 "metadata": {
  "kernelspec": {
   "display_name": "Python [conda env:timeSeries] *",
   "language": "python",
   "name": "conda-env-timeSeries-py"
  },
  "language_info": {
   "codemirror_mode": {
    "name": "ipython",
    "version": 3
   },
   "file_extension": ".py",
   "mimetype": "text/x-python",
   "name": "python",
   "nbconvert_exporter": "python",
   "pygments_lexer": "ipython3",
   "version": "3.7.12"
  }
 },
 "nbformat": 4,
 "nbformat_minor": 5
}
