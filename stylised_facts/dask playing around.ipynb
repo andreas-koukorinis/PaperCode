{
 "cells": [
  {
   "cell_type": "code",
   "execution_count": 2,
   "id": "55ce0546",
   "metadata": {},
   "outputs": [],
   "source": [
    "import pandas as pd\n",
    "import os \n",
    "import numpy as np\n",
    "import dask.dataframe as dd\n",
    "import dask.multiprocessing\n",
    "dask.config.set(scheduler='processes')\n",
    "import time\n",
    "\n",
    "import dask.array as da\n",
    "import dask.bag as db"
   ]
  },
  {
   "cell_type": "code",
   "execution_count": 86,
   "id": "b617922d",
   "metadata": {},
   "outputs": [
    {
     "data": {
      "text/plain": [
       "['CL', 'ES', 'FLG', 'FTSE', 'JNI', 'STXE']"
      ]
     },
     "execution_count": 86,
     "metadata": {},
     "output_type": "execute_result"
    }
   ],
   "source": [
    "targetLocation = '/media/ak/Data1/ProcessedFuturesData'\n",
    "es_target_location = os.path.join(targetLocation, 'ES')\n",
    "os.listdir(targetLocation)"
   ]
  },
  {
   "cell_type": "code",
   "execution_count": 3,
   "id": "7b56f8b3",
   "metadata": {},
   "outputs": [],
   "source": [
    "CL = '/media/ak/Data1/TradesPurchased/CL'\n",
    "CL_csv = sorted([f for f in os.listdir(CL) if str('.gz') not in f])\n",
    "CL_file_idx = 1\n",
    "file_loc = os.path.join(CL, CL_csv[CL_file_idx])"
   ]
  },
  {
   "cell_type": "code",
   "execution_count": 76,
   "id": "9382a75f",
   "metadata": {},
   "outputs": [],
   "source": [
    "# we are just picking one file here # \n",
    "ES = '/media/ak/Data1/TradesPurchased/ES'\n",
    "ES_csv = sorted([f for f in os.listdir(ES) if str('.gz') not in f])\n",
    "ES_file_idx = 1\n",
    "ES_file_date = ES_csv[ES_file_idx]\n",
    "es_file_loc = os.path.join(ES, ES_csv[ES_file_idx])"
   ]
  },
  {
   "cell_type": "code",
   "execution_count": 77,
   "id": "58cf9aaf",
   "metadata": {
    "scrolled": true
   },
   "outputs": [
    {
     "data": {
      "text/plain": [
       "'ESM2019.csv'"
      ]
     },
     "execution_count": 77,
     "metadata": {},
     "output_type": "execute_result"
    }
   ],
   "source": []
  },
  {
   "cell_type": "code",
   "execution_count": 8,
   "id": "4bfc1bc8",
   "metadata": {},
   "outputs": [
    {
     "name": "stdout",
     "output_type": "stream",
     "text": [
      "Read csv with dask:  0.2530505657196045 sec\n"
     ]
    }
   ],
   "source": [
    "start = time.time()\n",
    "cl_dask_df = dd.read_csv(file_loc, assume_missing=True)\n",
    "es_dask_df = dd.read_csv(es_file_loc, assume_missing=True)\n",
    "\n",
    "end = time.time()\n",
    "print(\"Read csv with dask: \",(end-start),\"sec\")\n"
   ]
  },
  {
   "cell_type": "code",
   "execution_count": null,
   "id": "bfc7acf1",
   "metadata": {},
   "outputs": [],
   "source": [
    "#get list of dates from the file"
   ]
  },
  {
   "cell_type": "code",
   "execution_count": 9,
   "id": "3b22a527",
   "metadata": {
    "scrolled": true
   },
   "outputs": [],
   "source": [
    "cl_dates = list(cl_dask_df['Date'].values.compute())\n",
    "es_dates =list(cl_dask_df['Date'].values.compute())"
   ]
  },
  {
   "cell_type": "code",
   "execution_count": 10,
   "id": "68d3f7ba",
   "metadata": {},
   "outputs": [],
   "source": [
    "cl_unique_dates = np.unique(cl_dates)\n",
    "es_unique_dates = np.unique(es_dates)"
   ]
  },
  {
   "cell_type": "code",
   "execution_count": 105,
   "id": "71f410ba",
   "metadata": {},
   "outputs": [
    {
     "name": "stdout",
     "output_type": "stream",
     "text": [
      "20190505.csv\n"
     ]
    }
   ],
   "source": [
    "unique_date_idx = 3\n",
    "dt =pd.to_datetime(es_unique_dates[unique_date_idx])\n",
    "dt_save_format = dt.strftime('%Y%m%d')+'.csv'\n",
    "print(dt_save_format)"
   ]
  },
  {
   "cell_type": "code",
   "execution_count": 21,
   "id": "a3055fb7",
   "metadata": {},
   "outputs": [],
   "source": [
    "df_cl = cl_dask_df[cl_dask_df.Date == cl_unique_dates[0] ].compute()\n",
    "df_es = es_dask_df[es_dask_df.Date == es_unique_dates[0] ].compute()"
   ]
  },
  {
   "cell_type": "code",
   "execution_count": 14,
   "id": "040ecb92",
   "metadata": {},
   "outputs": [],
   "source": [
    "unique_quotes_cl = len(np.unique(df_quotes_cl.Time))\n",
    "unique_quotes_es =len(np.unique(df_quotes_es.Time))"
   ]
  },
  {
   "cell_type": "code",
   "execution_count": 24,
   "id": "4a063642",
   "metadata": {},
   "outputs": [],
   "source": [
    "df_trades_es = df_quotes_es[df_es.Type == \"Trade\"]\n",
    "df_quotes_es = df_quotes_es[df_es.Type == \"Quote\"]\n"
   ]
  },
  {
   "cell_type": "code",
   "execution_count": 88,
   "id": "4d05071e",
   "metadata": {},
   "outputs": [
    {
     "name": "stderr",
     "output_type": "stream",
     "text": [
      "/home/ak/anaconda3/envs/timeSeries/lib/python3.7/site-packages/ipykernel_launcher.py:2: FutureWarning: In a future version of pandas all arguments of DataFrame.drop except for the argument 'labels' will be keyword-only\n",
      "  \n"
     ]
    },
    {
     "data": {
      "text/html": [
       "<div>\n",
       "<style scoped>\n",
       "    .dataframe tbody tr th:only-of-type {\n",
       "        vertical-align: middle;\n",
       "    }\n",
       "\n",
       "    .dataframe tbody tr th {\n",
       "        vertical-align: top;\n",
       "    }\n",
       "\n",
       "    .dataframe thead th {\n",
       "        text-align: right;\n",
       "    }\n",
       "</style>\n",
       "<table border=\"1\" class=\"dataframe\">\n",
       "  <thead>\n",
       "    <tr style=\"text-align: right;\">\n",
       "      <th></th>\n",
       "      <th>Date</th>\n",
       "      <th>Time</th>\n",
       "      <th>Type</th>\n",
       "      <th>Price</th>\n",
       "      <th>Volume</th>\n",
       "    </tr>\n",
       "  </thead>\n",
       "  <tbody>\n",
       "    <tr>\n",
       "      <th>0</th>\n",
       "      <td>05/01/2019</td>\n",
       "      <td>00:00:00.348670</td>\n",
       "      <td>Trade</td>\n",
       "      <td>2959.00</td>\n",
       "      <td>1.0</td>\n",
       "    </tr>\n",
       "    <tr>\n",
       "      <th>1</th>\n",
       "      <td>05/01/2019</td>\n",
       "      <td>00:00:00.349414</td>\n",
       "      <td>Trade</td>\n",
       "      <td>2959.00</td>\n",
       "      <td>1.0</td>\n",
       "    </tr>\n",
       "    <tr>\n",
       "      <th>3</th>\n",
       "      <td>05/01/2019</td>\n",
       "      <td>00:00:00.436745</td>\n",
       "      <td>Trade</td>\n",
       "      <td>2959.25</td>\n",
       "      <td>5.0</td>\n",
       "    </tr>\n",
       "    <tr>\n",
       "      <th>11</th>\n",
       "      <td>05/01/2019</td>\n",
       "      <td>00:00:12.433271</td>\n",
       "      <td>Trade</td>\n",
       "      <td>2959.25</td>\n",
       "      <td>2.0</td>\n",
       "    </tr>\n",
       "    <tr>\n",
       "      <th>13</th>\n",
       "      <td>05/01/2019</td>\n",
       "      <td>00:00:12.469263</td>\n",
       "      <td>Trade</td>\n",
       "      <td>2959.25</td>\n",
       "      <td>2.0</td>\n",
       "    </tr>\n",
       "    <tr>\n",
       "      <th>...</th>\n",
       "      <td>...</td>\n",
       "      <td>...</td>\n",
       "      <td>...</td>\n",
       "      <td>...</td>\n",
       "      <td>...</td>\n",
       "    </tr>\n",
       "    <tr>\n",
       "      <th>461924</th>\n",
       "      <td>05/01/2019</td>\n",
       "      <td>23:59:34.014686</td>\n",
       "      <td>Trade</td>\n",
       "      <td>2925.00</td>\n",
       "      <td>1.0</td>\n",
       "    </tr>\n",
       "    <tr>\n",
       "      <th>461934</th>\n",
       "      <td>05/01/2019</td>\n",
       "      <td>23:59:35.202813</td>\n",
       "      <td>Trade</td>\n",
       "      <td>2924.75</td>\n",
       "      <td>1.0</td>\n",
       "    </tr>\n",
       "    <tr>\n",
       "      <th>461958</th>\n",
       "      <td>05/01/2019</td>\n",
       "      <td>23:59:44.850330</td>\n",
       "      <td>Trade</td>\n",
       "      <td>2924.75</td>\n",
       "      <td>1.0</td>\n",
       "    </tr>\n",
       "    <tr>\n",
       "      <th>461978</th>\n",
       "      <td>05/01/2019</td>\n",
       "      <td>23:59:52.774827</td>\n",
       "      <td>Trade</td>\n",
       "      <td>2925.00</td>\n",
       "      <td>1.0</td>\n",
       "    </tr>\n",
       "    <tr>\n",
       "      <th>462006</th>\n",
       "      <td>05/01/2019</td>\n",
       "      <td>23:59:57.015137</td>\n",
       "      <td>Trade</td>\n",
       "      <td>2925.00</td>\n",
       "      <td>1.0</td>\n",
       "    </tr>\n",
       "  </tbody>\n",
       "</table>\n",
       "<p>206313 rows × 5 columns</p>\n",
       "</div>"
      ],
      "text/plain": [
       "              Date             Time   Type    Price  Volume\n",
       "0       05/01/2019  00:00:00.348670  Trade  2959.00     1.0\n",
       "1       05/01/2019  00:00:00.349414  Trade  2959.00     1.0\n",
       "3       05/01/2019  00:00:00.436745  Trade  2959.25     5.0\n",
       "11      05/01/2019  00:00:12.433271  Trade  2959.25     2.0\n",
       "13      05/01/2019  00:00:12.469263  Trade  2959.25     2.0\n",
       "...            ...              ...    ...      ...     ...\n",
       "461924  05/01/2019  23:59:34.014686  Trade  2925.00     1.0\n",
       "461934  05/01/2019  23:59:35.202813  Trade  2924.75     1.0\n",
       "461958  05/01/2019  23:59:44.850330  Trade  2924.75     1.0\n",
       "461978  05/01/2019  23:59:52.774827  Trade  2925.00     1.0\n",
       "462006  05/01/2019  23:59:57.015137  Trade  2925.00     1.0\n",
       "\n",
       "[206313 rows x 5 columns]"
      ]
     },
     "execution_count": 88,
     "metadata": {},
     "output_type": "execute_result"
    }
   ],
   "source": [
    "import sys\n",
    "df_trades_es.drop(['Bid Price', 'Bid Size','Ask Price', 'Ask Size'], 1)"
   ]
  },
  {
   "cell_type": "code",
   "execution_count": 32,
   "id": "0b66c88a",
   "metadata": {},
   "outputs": [
    {
     "name": "stdout",
     "output_type": "stream",
     "text": [
      "<class 'pandas.core.frame.DataFrame'>\n",
      "Int64Index: 2529010 entries, 2 to 462022\n",
      "Data columns (total 9 columns):\n",
      " #   Column     Dtype  \n",
      "---  ------     -----  \n",
      " 0   Date       object \n",
      " 1   Time       object \n",
      " 2   Type       object \n",
      " 3   Price      float64\n",
      " 4   Volume     float64\n",
      " 5   Bid Price  float64\n",
      " 6   Bid Size   float64\n",
      " 7   Ask Price  float64\n",
      " 8   Ask Size   float64\n",
      "dtypes: float64(6), object(3)\n",
      "memory usage: 192.9+ MB\n"
     ]
    }
   ],
   "source": [
    "df_quotes_es.info()"
   ]
  },
  {
   "cell_type": "code",
   "execution_count": 38,
   "id": "c4d8fad7",
   "metadata": {},
   "outputs": [
    {
     "name": "stderr",
     "output_type": "stream",
     "text": [
      "/home/ak/anaconda3/envs/timeSeries/lib/python3.7/site-packages/ipykernel_launcher.py:1: FutureWarning: In a future version of pandas all arguments of DataFrame.drop except for the argument 'labels' will be keyword-only\n",
      "  \"\"\"Entry point for launching an IPython kernel.\n"
     ]
    }
   ],
   "source": [
    "df_quotes_es =df_quotes_es.drop(['Price', 'Volume','Type'], 1)"
   ]
  },
  {
   "cell_type": "code",
   "execution_count": 65,
   "id": "38eb2716",
   "metadata": {},
   "outputs": [
    {
     "name": "stderr",
     "output_type": "stream",
     "text": [
      "/home/ak/anaconda3/envs/timeSeries/lib/python3.7/site-packages/ipykernel_launcher.py:1: FutureWarning: Indexing with multiple keys (implicitly converted to a tuple of keys) will be deprecated, use a list instead.\n",
      "  \"\"\"Entry point for launching an IPython kernel.\n"
     ]
    }
   ],
   "source": [
    "df_trades_es_processed = df_trades_es.groupby('Time', as_index=False, sort=True)['Date','Price','Volume'].mean()"
   ]
  },
  {
   "cell_type": "code",
   "execution_count": 66,
   "id": "eaf0112a",
   "metadata": {},
   "outputs": [
    {
     "name": "stderr",
     "output_type": "stream",
     "text": [
      "/home/ak/anaconda3/envs/timeSeries/lib/python3.7/site-packages/ipykernel_launcher.py:1: FutureWarning: Indexing with multiple keys (implicitly converted to a tuple of keys) will be deprecated, use a list instead.\n",
      "  \"\"\"Entry point for launching an IPython kernel.\n"
     ]
    }
   ],
   "source": [
    "df_quotes_es_processed = df_quotes_es.groupby('Time', as_index=False, sort=True)['Date','Bid Price','Bid Size','Ask Price','Ask Size'].mean()"
   ]
  },
  {
   "cell_type": "code",
   "execution_count": 68,
   "id": "4f6c233a",
   "metadata": {},
   "outputs": [
    {
     "data": {
      "image/png": "[encoded data removed]",
      "text/plain": [
       "<Figure size 432x288 with 1 Axes>"
      ]
     },
     "metadata": {
      "needs_background": "light"
     },
     "output_type": "display_data"
    },
    {
     "data": {
      "image/png": "[encoded data removed]",
      "text/plain": [
       "<Figure size 432x288 with 1 Axes>"
      ]
     },
     "metadata": {
      "needs_background": "light"
     },
     "output_type": "display_data"
    }
   ],
   "source": [
    "import matplotlib.pyplot as plt\n",
    "plt.plot(df_quotes_es_processed['Bid Price'])\n",
    "\n",
    "plt.plot(df_quotes_es_processed['Ask Price'], color ='r')\n",
    "plt.plot(df_trades_es_processed['Price'], color ='g')\n",
    "plt.show()\n",
    "_=plt.hist((df_quotes_es_processed['Ask Price'] - df_quotes_es_processed['Bid Price']), color ='g', bins =120)"
   ]
  },
  {
   "cell_type": "code",
   "execution_count": 64,
   "id": "558d6d30",
   "metadata": {},
   "outputs": [
    {
     "data": {
      "text/html": [
       "<div>\n",
       "<style scoped>\n",
       "    .dataframe tbody tr th:only-of-type {\n",
       "        vertical-align: middle;\n",
       "    }\n",
       "\n",
       "    .dataframe tbody tr th {\n",
       "        vertical-align: top;\n",
       "    }\n",
       "\n",
       "    .dataframe thead th {\n",
       "        text-align: right;\n",
       "    }\n",
       "</style>\n",
       "<table border=\"1\" class=\"dataframe\">\n",
       "  <thead>\n",
       "    <tr style=\"text-align: right;\">\n",
       "      <th></th>\n",
       "      <th>Date</th>\n",
       "      <th>Time</th>\n",
       "      <th>Type</th>\n",
       "      <th>Price</th>\n",
       "      <th>Volume</th>\n",
       "      <th>Bid Price</th>\n",
       "      <th>Bid Size</th>\n",
       "      <th>Ask Price</th>\n",
       "      <th>Ask Size</th>\n",
       "    </tr>\n",
       "  </thead>\n",
       "  <tbody>\n",
       "    <tr>\n",
       "      <th>0</th>\n",
       "      <td>05/01/2019</td>\n",
       "      <td>00:00:00.348670</td>\n",
       "      <td>Trade</td>\n",
       "      <td>2959.00</td>\n",
       "      <td>1.0</td>\n",
       "      <td>NaN</td>\n",
       "      <td>NaN</td>\n",
       "      <td>NaN</td>\n",
       "      <td>NaN</td>\n",
       "    </tr>\n",
       "    <tr>\n",
       "      <th>1</th>\n",
       "      <td>05/01/2019</td>\n",
       "      <td>00:00:00.349414</td>\n",
       "      <td>Trade</td>\n",
       "      <td>2959.00</td>\n",
       "      <td>1.0</td>\n",
       "      <td>NaN</td>\n",
       "      <td>NaN</td>\n",
       "      <td>NaN</td>\n",
       "      <td>NaN</td>\n",
       "    </tr>\n",
       "    <tr>\n",
       "      <th>3</th>\n",
       "      <td>05/01/2019</td>\n",
       "      <td>00:00:00.436745</td>\n",
       "      <td>Trade</td>\n",
       "      <td>2959.25</td>\n",
       "      <td>5.0</td>\n",
       "      <td>NaN</td>\n",
       "      <td>NaN</td>\n",
       "      <td>NaN</td>\n",
       "      <td>NaN</td>\n",
       "    </tr>\n",
       "    <tr>\n",
       "      <th>11</th>\n",
       "      <td>05/01/2019</td>\n",
       "      <td>00:00:12.433271</td>\n",
       "      <td>Trade</td>\n",
       "      <td>2959.25</td>\n",
       "      <td>2.0</td>\n",
       "      <td>NaN</td>\n",
       "      <td>NaN</td>\n",
       "      <td>NaN</td>\n",
       "      <td>NaN</td>\n",
       "    </tr>\n",
       "    <tr>\n",
       "      <th>13</th>\n",
       "      <td>05/01/2019</td>\n",
       "      <td>00:00:12.469263</td>\n",
       "      <td>Trade</td>\n",
       "      <td>2959.25</td>\n",
       "      <td>2.0</td>\n",
       "      <td>NaN</td>\n",
       "      <td>NaN</td>\n",
       "      <td>NaN</td>\n",
       "      <td>NaN</td>\n",
       "    </tr>\n",
       "    <tr>\n",
       "      <th>...</th>\n",
       "      <td>...</td>\n",
       "      <td>...</td>\n",
       "      <td>...</td>\n",
       "      <td>...</td>\n",
       "      <td>...</td>\n",
       "      <td>...</td>\n",
       "      <td>...</td>\n",
       "      <td>...</td>\n",
       "      <td>...</td>\n",
       "    </tr>\n",
       "    <tr>\n",
       "      <th>461924</th>\n",
       "      <td>05/01/2019</td>\n",
       "      <td>23:59:34.014686</td>\n",
       "      <td>Trade</td>\n",
       "      <td>2925.00</td>\n",
       "      <td>1.0</td>\n",
       "      <td>NaN</td>\n",
       "      <td>NaN</td>\n",
       "      <td>NaN</td>\n",
       "      <td>NaN</td>\n",
       "    </tr>\n",
       "    <tr>\n",
       "      <th>461934</th>\n",
       "      <td>05/01/2019</td>\n",
       "      <td>23:59:35.202813</td>\n",
       "      <td>Trade</td>\n",
       "      <td>2924.75</td>\n",
       "      <td>1.0</td>\n",
       "      <td>NaN</td>\n",
       "      <td>NaN</td>\n",
       "      <td>NaN</td>\n",
       "      <td>NaN</td>\n",
       "    </tr>\n",
       "    <tr>\n",
       "      <th>461958</th>\n",
       "      <td>05/01/2019</td>\n",
       "      <td>23:59:44.850330</td>\n",
       "      <td>Trade</td>\n",
       "      <td>2924.75</td>\n",
       "      <td>1.0</td>\n",
       "      <td>NaN</td>\n",
       "      <td>NaN</td>\n",
       "      <td>NaN</td>\n",
       "      <td>NaN</td>\n",
       "    </tr>\n",
       "    <tr>\n",
       "      <th>461978</th>\n",
       "      <td>05/01/2019</td>\n",
       "      <td>23:59:52.774827</td>\n",
       "      <td>Trade</td>\n",
       "      <td>2925.00</td>\n",
       "      <td>1.0</td>\n",
       "      <td>NaN</td>\n",
       "      <td>NaN</td>\n",
       "      <td>NaN</td>\n",
       "      <td>NaN</td>\n",
       "    </tr>\n",
       "    <tr>\n",
       "      <th>462006</th>\n",
       "      <td>05/01/2019</td>\n",
       "      <td>23:59:57.015137</td>\n",
       "      <td>Trade</td>\n",
       "      <td>2925.00</td>\n",
       "      <td>1.0</td>\n",
       "      <td>NaN</td>\n",
       "      <td>NaN</td>\n",
       "      <td>NaN</td>\n",
       "      <td>NaN</td>\n",
       "    </tr>\n",
       "  </tbody>\n",
       "</table>\n",
       "<p>206313 rows × 9 columns</p>\n",
       "</div>"
      ],
      "text/plain": [
       "              Date             Time   Type    Price  Volume  Bid Price  \\\n",
       "0       05/01/2019  00:00:00.348670  Trade  2959.00     1.0        NaN   \n",
       "1       05/01/2019  00:00:00.349414  Trade  2959.00     1.0        NaN   \n",
       "3       05/01/2019  00:00:00.436745  Trade  2959.25     5.0        NaN   \n",
       "11      05/01/2019  00:00:12.433271  Trade  2959.25     2.0        NaN   \n",
       "13      05/01/2019  00:00:12.469263  Trade  2959.25     2.0        NaN   \n",
       "...            ...              ...    ...      ...     ...        ...   \n",
       "461924  05/01/2019  23:59:34.014686  Trade  2925.00     1.0        NaN   \n",
       "461934  05/01/2019  23:59:35.202813  Trade  2924.75     1.0        NaN   \n",
       "461958  05/01/2019  23:59:44.850330  Trade  2924.75     1.0        NaN   \n",
       "461978  05/01/2019  23:59:52.774827  Trade  2925.00     1.0        NaN   \n",
       "462006  05/01/2019  23:59:57.015137  Trade  2925.00     1.0        NaN   \n",
       "\n",
       "        Bid Size  Ask Price  Ask Size  \n",
       "0            NaN        NaN       NaN  \n",
       "1            NaN        NaN       NaN  \n",
       "3            NaN        NaN       NaN  \n",
       "11           NaN        NaN       NaN  \n",
       "13           NaN        NaN       NaN  \n",
       "...          ...        ...       ...  \n",
       "461924       NaN        NaN       NaN  \n",
       "461934       NaN        NaN       NaN  \n",
       "461958       NaN        NaN       NaN  \n",
       "461978       NaN        NaN       NaN  \n",
       "462006       NaN        NaN       NaN  \n",
       "\n",
       "[206313 rows x 9 columns]"
      ]
     },
     "execution_count": 64,
     "metadata": {},
     "output_type": "execute_result"
    }
   ],
   "source": []
  },
  {
   "cell_type": "code",
   "execution_count": null,
   "id": "9a56666c",
   "metadata": {},
   "outputs": [],
   "source": [
    "quotes_df = pd.merge_asof(\n",
    "                    qt_tmp_df[qt_tmp_df['type'] == 'BID'].dropna().fillna(\"ffill\").sort_values('TradeTime')\n",
    "                    , qt_tmp_df[qt_tmp_df['type'] == 'ASK'].dropna().fillna(\"ffill\").sort_values('TradeTime'),\n",
    "                    on='TradeTime', allow_exact_matches=True)"
   ]
  },
  {
   "cell_type": "code",
   "execution_count": 28,
   "id": "e179446a",
   "metadata": {},
   "outputs": [],
   "source": [
    "df_trades = dask_df[dask_df.Type == 'Trade' ].compute()"
   ]
  },
  {
   "cell_type": "code",
   "execution_count": 25,
   "id": "8bee25c4",
   "metadata": {},
   "outputs": [],
   "source": [
    "df_trades_non_NaN = df_trades[df_trades.Price != 'NaN']"
   ]
  },
  {
   "cell_type": "code",
   "execution_count": 35,
   "id": "2f62f58f",
   "metadata": {},
   "outputs": [
    {
     "data": {
      "text/html": [
       "<div>\n",
       "<style scoped>\n",
       "    .dataframe tbody tr th:only-of-type {\n",
       "        vertical-align: middle;\n",
       "    }\n",
       "\n",
       "    .dataframe tbody tr th {\n",
       "        vertical-align: top;\n",
       "    }\n",
       "\n",
       "    .dataframe thead th {\n",
       "        text-align: right;\n",
       "    }\n",
       "</style>\n",
       "<table border=\"1\" class=\"dataframe\">\n",
       "  <thead>\n",
       "    <tr style=\"text-align: right;\">\n",
       "      <th></th>\n",
       "      <th>Date</th>\n",
       "      <th>Time</th>\n",
       "      <th>Type</th>\n",
       "      <th>Price</th>\n",
       "      <th>Volume</th>\n",
       "      <th>Bid Price</th>\n",
       "      <th>Bid Size</th>\n",
       "      <th>Ask Price</th>\n",
       "      <th>Ask Size</th>\n",
       "    </tr>\n",
       "  </thead>\n",
       "  <tbody>\n",
       "    <tr>\n",
       "      <th>1093294</th>\n",
       "      <td>05/06/2019</td>\n",
       "      <td>00:02:52.239165</td>\n",
       "      <td>Trade</td>\n",
       "      <td>NaN</td>\n",
       "      <td>1.0</td>\n",
       "      <td>NaN</td>\n",
       "      <td>NaN</td>\n",
       "      <td>NaN</td>\n",
       "      <td>NaN</td>\n",
       "    </tr>\n",
       "    <tr>\n",
       "      <th>1093404</th>\n",
       "      <td>05/06/2019</td>\n",
       "      <td>00:03:13.634651</td>\n",
       "      <td>Trade</td>\n",
       "      <td>NaN</td>\n",
       "      <td>1.0</td>\n",
       "      <td>NaN</td>\n",
       "      <td>NaN</td>\n",
       "      <td>NaN</td>\n",
       "      <td>NaN</td>\n",
       "    </tr>\n",
       "    <tr>\n",
       "      <th>1093490</th>\n",
       "      <td>05/06/2019</td>\n",
       "      <td>00:05:18.727492</td>\n",
       "      <td>Trade</td>\n",
       "      <td>NaN</td>\n",
       "      <td>1.0</td>\n",
       "      <td>NaN</td>\n",
       "      <td>NaN</td>\n",
       "      <td>NaN</td>\n",
       "      <td>NaN</td>\n",
       "    </tr>\n",
       "    <tr>\n",
       "      <th>1093519</th>\n",
       "      <td>05/06/2019</td>\n",
       "      <td>00:05:19.315540</td>\n",
       "      <td>Trade</td>\n",
       "      <td>NaN</td>\n",
       "      <td>1.0</td>\n",
       "      <td>NaN</td>\n",
       "      <td>NaN</td>\n",
       "      <td>NaN</td>\n",
       "      <td>NaN</td>\n",
       "    </tr>\n",
       "    <tr>\n",
       "      <th>1096601</th>\n",
       "      <td>05/06/2019</td>\n",
       "      <td>00:31:30.533025</td>\n",
       "      <td>Trade</td>\n",
       "      <td>NaN</td>\n",
       "      <td>2.0</td>\n",
       "      <td>NaN</td>\n",
       "      <td>NaN</td>\n",
       "      <td>NaN</td>\n",
       "      <td>NaN</td>\n",
       "    </tr>\n",
       "    <tr>\n",
       "      <th>...</th>\n",
       "      <td>...</td>\n",
       "      <td>...</td>\n",
       "      <td>...</td>\n",
       "      <td>...</td>\n",
       "      <td>...</td>\n",
       "      <td>...</td>\n",
       "      <td>...</td>\n",
       "      <td>...</td>\n",
       "      <td>...</td>\n",
       "    </tr>\n",
       "    <tr>\n",
       "      <th>1194961</th>\n",
       "      <td>05/06/2019</td>\n",
       "      <td>18:27:51.913642</td>\n",
       "      <td>Trade</td>\n",
       "      <td>NaN</td>\n",
       "      <td>1.0</td>\n",
       "      <td>NaN</td>\n",
       "      <td>NaN</td>\n",
       "      <td>NaN</td>\n",
       "      <td>NaN</td>\n",
       "    </tr>\n",
       "    <tr>\n",
       "      <th>1194962</th>\n",
       "      <td>05/06/2019</td>\n",
       "      <td>18:27:52.961693</td>\n",
       "      <td>Trade</td>\n",
       "      <td>NaN</td>\n",
       "      <td>1.0</td>\n",
       "      <td>NaN</td>\n",
       "      <td>NaN</td>\n",
       "      <td>NaN</td>\n",
       "      <td>NaN</td>\n",
       "    </tr>\n",
       "    <tr>\n",
       "      <th>1198976</th>\n",
       "      <td>05/06/2019</td>\n",
       "      <td>20:00:00.493930</td>\n",
       "      <td>Trade</td>\n",
       "      <td>NaN</td>\n",
       "      <td>3.0</td>\n",
       "      <td>NaN</td>\n",
       "      <td>NaN</td>\n",
       "      <td>NaN</td>\n",
       "      <td>NaN</td>\n",
       "    </tr>\n",
       "    <tr>\n",
       "      <th>1199023</th>\n",
       "      <td>05/06/2019</td>\n",
       "      <td>20:00:01.313984</td>\n",
       "      <td>Trade</td>\n",
       "      <td>NaN</td>\n",
       "      <td>2.0</td>\n",
       "      <td>NaN</td>\n",
       "      <td>NaN</td>\n",
       "      <td>NaN</td>\n",
       "      <td>NaN</td>\n",
       "    </tr>\n",
       "    <tr>\n",
       "      <th>1202308</th>\n",
       "      <td>05/06/2019</td>\n",
       "      <td>20:15:54.264485</td>\n",
       "      <td>Trade</td>\n",
       "      <td>NaN</td>\n",
       "      <td>1.0</td>\n",
       "      <td>NaN</td>\n",
       "      <td>NaN</td>\n",
       "      <td>NaN</td>\n",
       "      <td>NaN</td>\n",
       "    </tr>\n",
       "  </tbody>\n",
       "</table>\n",
       "<p>1076 rows × 9 columns</p>\n",
       "</div>"
      ],
      "text/plain": [
       "               Date             Time   Type  Price  Volume  Bid Price  \\\n",
       "1093294  05/06/2019  00:02:52.239165  Trade    NaN     1.0        NaN   \n",
       "1093404  05/06/2019  00:03:13.634651  Trade    NaN     1.0        NaN   \n",
       "1093490  05/06/2019  00:05:18.727492  Trade    NaN     1.0        NaN   \n",
       "1093519  05/06/2019  00:05:19.315540  Trade    NaN     1.0        NaN   \n",
       "1096601  05/06/2019  00:31:30.533025  Trade    NaN     2.0        NaN   \n",
       "...             ...              ...    ...    ...     ...        ...   \n",
       "1194961  05/06/2019  18:27:51.913642  Trade    NaN     1.0        NaN   \n",
       "1194962  05/06/2019  18:27:52.961693  Trade    NaN     1.0        NaN   \n",
       "1198976  05/06/2019  20:00:00.493930  Trade    NaN     3.0        NaN   \n",
       "1199023  05/06/2019  20:00:01.313984  Trade    NaN     2.0        NaN   \n",
       "1202308  05/06/2019  20:15:54.264485  Trade    NaN     1.0        NaN   \n",
       "\n",
       "         Bid Size  Ask Price  Ask Size  \n",
       "1093294       NaN        NaN       NaN  \n",
       "1093404       NaN        NaN       NaN  \n",
       "1093490       NaN        NaN       NaN  \n",
       "1093519       NaN        NaN       NaN  \n",
       "1096601       NaN        NaN       NaN  \n",
       "...           ...        ...       ...  \n",
       "1194961       NaN        NaN       NaN  \n",
       "1194962       NaN        NaN       NaN  \n",
       "1198976       NaN        NaN       NaN  \n",
       "1199023       NaN        NaN       NaN  \n",
       "1202308       NaN        NaN       NaN  \n",
       "\n",
       "[1076 rows x 9 columns]"
      ]
     },
     "execution_count": 35,
     "metadata": {},
     "output_type": "execute_result"
    }
   ],
   "source": [
    "df_trades[df_trades.Date == list_unique_dates[4]]"
   ]
  },
  {
   "cell_type": "code",
   "execution_count": 95,
   "id": "89fdb2f1",
   "metadata": {},
   "outputs": [],
   "source": [
    "targetLocation = '/media/ak/Data1/ProcessedFuturesData' \n",
    "os.listdir(targetLocation)\n",
    "test_location = os.path.join(targetLocation, 'ES')"
   ]
  },
  {
   "cell_type": "code",
   "execution_count": 101,
   "id": "20a56328",
   "metadata": {},
   "outputs": [
    {
     "data": {
      "text/html": [
       "<div>\n",
       "<style scoped>\n",
       "    .dataframe tbody tr th:only-of-type {\n",
       "        vertical-align: middle;\n",
       "    }\n",
       "\n",
       "    .dataframe tbody tr th {\n",
       "        vertical-align: top;\n",
       "    }\n",
       "\n",
       "    .dataframe thead th {\n",
       "        text-align: right;\n",
       "    }\n",
       "</style>\n",
       "<table border=\"1\" class=\"dataframe\">\n",
       "  <thead>\n",
       "    <tr style=\"text-align: right;\">\n",
       "      <th></th>\n",
       "      <th>Time</th>\n",
       "      <th>Price</th>\n",
       "      <th>Volume</th>\n",
       "    </tr>\n",
       "  </thead>\n",
       "  <tbody>\n",
       "    <tr>\n",
       "      <th>0</th>\n",
       "      <td>00:00:00.348670</td>\n",
       "      <td>2959.00</td>\n",
       "      <td>1.0</td>\n",
       "    </tr>\n",
       "    <tr>\n",
       "      <th>1</th>\n",
       "      <td>00:00:00.349414</td>\n",
       "      <td>2959.00</td>\n",
       "      <td>1.0</td>\n",
       "    </tr>\n",
       "    <tr>\n",
       "      <th>2</th>\n",
       "      <td>00:00:00.436745</td>\n",
       "      <td>2959.25</td>\n",
       "      <td>5.0</td>\n",
       "    </tr>\n",
       "    <tr>\n",
       "      <th>3</th>\n",
       "      <td>00:00:12.433271</td>\n",
       "      <td>2959.25</td>\n",
       "      <td>2.0</td>\n",
       "    </tr>\n",
       "    <tr>\n",
       "      <th>4</th>\n",
       "      <td>00:00:12.469263</td>\n",
       "      <td>2959.25</td>\n",
       "      <td>2.0</td>\n",
       "    </tr>\n",
       "    <tr>\n",
       "      <th>...</th>\n",
       "      <td>...</td>\n",
       "      <td>...</td>\n",
       "      <td>...</td>\n",
       "    </tr>\n",
       "    <tr>\n",
       "      <th>142327</th>\n",
       "      <td>23:59:34.014686</td>\n",
       "      <td>2925.00</td>\n",
       "      <td>1.0</td>\n",
       "    </tr>\n",
       "    <tr>\n",
       "      <th>142328</th>\n",
       "      <td>23:59:35.202813</td>\n",
       "      <td>2924.75</td>\n",
       "      <td>1.0</td>\n",
       "    </tr>\n",
       "    <tr>\n",
       "      <th>142329</th>\n",
       "      <td>23:59:44.850330</td>\n",
       "      <td>2924.75</td>\n",
       "      <td>1.0</td>\n",
       "    </tr>\n",
       "    <tr>\n",
       "      <th>142330</th>\n",
       "      <td>23:59:52.774827</td>\n",
       "      <td>2925.00</td>\n",
       "      <td>1.0</td>\n",
       "    </tr>\n",
       "    <tr>\n",
       "      <th>142331</th>\n",
       "      <td>23:59:57.015137</td>\n",
       "      <td>2925.00</td>\n",
       "      <td>1.0</td>\n",
       "    </tr>\n",
       "  </tbody>\n",
       "</table>\n",
       "<p>142332 rows × 3 columns</p>\n",
       "</div>"
      ],
      "text/plain": [
       "                   Time    Price  Volume\n",
       "0       00:00:00.348670  2959.00     1.0\n",
       "1       00:00:00.349414  2959.00     1.0\n",
       "2       00:00:00.436745  2959.25     5.0\n",
       "3       00:00:12.433271  2959.25     2.0\n",
       "4       00:00:12.469263  2959.25     2.0\n",
       "...                 ...      ...     ...\n",
       "142327  23:59:34.014686  2925.00     1.0\n",
       "142328  23:59:35.202813  2924.75     1.0\n",
       "142329  23:59:44.850330  2924.75     1.0\n",
       "142330  23:59:52.774827  2925.00     1.0\n",
       "142331  23:59:57.015137  2925.00     1.0\n",
       "\n",
       "[142332 rows x 3 columns]"
      ]
     },
     "execution_count": 101,
     "metadata": {},
     "output_type": "execute_result"
    }
   ],
   "source": [
    "files =os.listdir(test_location)\n",
    "pd.read_csv(os.path.join(test_location, files[1]))"
   ]
  },
  {
   "cell_type": "code",
   "execution_count": 98,
   "id": "2a07d3da",
   "metadata": {},
   "outputs": [
    {
     "name": "stdout",
     "output_type": "stream",
     "text": [
      "16\n"
     ]
    }
   ],
   "source": [
    "import multiprocessing\n",
    "print(multiprocessing.cpu_count())"
   ]
  },
  {
   "cell_type": "code",
   "execution_count": null,
   "id": "84bd512f",
   "metadata": {},
   "outputs": [],
   "source": []
  }
 ],
 "metadata": {
  "kernelspec": {
   "display_name": "Python [conda env:timeSeries] *",
   "language": "python",
   "name": "conda-env-timeSeries-py"
  },
  "language_info": {
   "codemirror_mode": {
    "name": "ipython",
    "version": 3
   },
   "file_extension": ".py",
   "mimetype": "text/x-python",
   "name": "python",
   "nbconvert_exporter": "python",
   "pygments_lexer": "ipython3",
   "version": "3.7.12"
  }
 },
 "nbformat": 4,
 "nbformat_minor": 5
}
