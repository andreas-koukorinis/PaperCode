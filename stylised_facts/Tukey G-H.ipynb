{
 "cells": [
  {
   "cell_type": "code",
   "execution_count": 227,
   "metadata": {},
   "outputs": [],
   "source": [
    "from statsmodels.graphics.tsaplots import plot_acf, plot_pacf\n",
    "import statsmodels.graphics.tsaplots as tsaplots\n",
    "from collections import OrderedDict\n",
    "import GPy as gpy\n",
    "import pandas as pd\n",
    "import os.path \n",
    "import os\n",
    "import seaborn as sns\n",
    "import statsmodels.regression.quantile_regression as QuantReg\n",
    "import tensorflow as tf\n",
    "import sklearn\n",
    "import scipy.stats\n",
    "import scipy.optimize\n",
    "from scipy.stats import cauchy\n",
    "import numpy as np\n",
    "import matplotlib.pyplot as plt\n",
    "import tqdm as tqdm\n",
    "from sklearn import preprocessing\n",
    "%matplotlib inline\n",
    "import itertools"
   ]
  },
  {
   "cell_type": "code",
   "execution_count": 226,
   "metadata": {},
   "outputs": [],
   "source": [
    "locParams = np.linspace(-0.5, 0.5, 3)\n",
    "scaleParams = np.linspace(0.1, 2.5, 3)\n",
    "gParams = np.linspace(-1., 1., 3)\n",
    "hParams = 10**np.linspace(-3, -1, 3)"
   ]
  },
  {
   "cell_type": "code",
   "execution_count": 228,
   "metadata": {},
   "outputs": [],
   "source": [
    "paramList = list( itertools.product( locParams, scaleParams, gParams, hParams))"
   ]
  },
  {
   "cell_type": "code",
   "execution_count": null,
   "metadata": {},
   "outputs": [],
   "source": []
  },
  {
   "cell_type": "code",
   "execution_count": 6,
   "metadata": {},
   "outputs": [],
   "source": [
    "def qpk(params, z):\n",
    "    return params[0] + params[1] * (1./params[2] * ( np.exp(params[2] * z ) - 1. ) * np.exp( params[3]*z**2. / 2.))"
   ]
  },
  {
   "cell_type": "code",
   "execution_count": 201,
   "metadata": {},
   "outputs": [],
   "source": [
    "def estimateTukeyDistribution(Y):\n",
    "    \"\"\"\n",
    "    Tukey Estimation based on Genton's paper 2.1 sect\n",
    "    \"\"\"\n",
    "    p = np.linspace(1e-2, 1-1e-2, 500)\n",
    "    \n",
    "    zpk =scipy.stats.norm.ppf( p )\n",
    "    qhat = np.percentile( Y, p*100 )\n",
    "    \n",
    "    def qresiduals( params, zpk, qhat):\n",
    "        return np.sum((qhat - qpk( params, zpk ))**2)\n",
    "    \n",
    "    mu = np.mean(Y)\n",
    "    std = np.std(Y-mu)\n",
    "    \n",
    "    res= scipy.optimize.least_squares( qresiduals, x0=(0, 1, 0.6, 0.2), bounds=( np.array([-np.inf, 1e-2, -np.inf, 1e-2]),\\\n",
    "                                              np.array([np.inf, np.inf, np.inf, np.inf])), args= (zpk, qhat) )\n",
    "    return res"
   ]
  },
  {
   "cell_type": "code",
   "execution_count": null,
   "metadata": {},
   "outputs": [],
   "source": []
  },
  {
   "cell_type": "code",
   "execution_count": 233,
   "metadata": {},
   "outputs": [],
   "source": [
    "Z= np.random.weibull(23,size=(15000,))"
   ]
  },
  {
   "cell_type": "code",
   "execution_count": 234,
   "metadata": {},
   "outputs": [
    {
     "data": {
      "text/plain": [
       "<matplotlib.axes._subplots.AxesSubplot at 0x7fc061eb5c18>"
      ]
     },
     "execution_count": 234,
     "metadata": {},
     "output_type": "execute_result"
    },
    {
     "data": {
      "image/png": "[encoded data removed]",
      "text/plain": [
       "<Figure size 432x288 with 1 Axes>"
      ]
     },
     "metadata": {
      "needs_background": "light"
     },
     "output_type": "display_data"
    }
   ],
   "source": [
    "sns.distplot(Z)"
   ]
  },
  {
   "cell_type": "code",
   "execution_count": 221,
   "metadata": {},
   "outputs": [],
   "source": [
    "resid= estimateTukeyDistribution(Z)"
   ]
  },
  {
   "cell_type": "code",
   "execution_count": 222,
   "metadata": {},
   "outputs": [],
   "source": [
    "Y_hat = qpk(resid.x, Z)"
   ]
  },
  {
   "cell_type": "code",
   "execution_count": 223,
   "metadata": {},
   "outputs": [],
   "source": [
    "params = dict( zip(['loc','scale','g','h'], resid.x))"
   ]
  },
  {
   "cell_type": "code",
   "execution_count": 224,
   "metadata": {},
   "outputs": [
    {
     "name": "stdout",
     "output_type": "stream",
     "text": [
      "{'loc': 0.9796317901185003, 'scale': 0.04873910903894141, 'g': -0.11400408339707611, 'h': 0.0444222301962753}\n"
     ]
    }
   ],
   "source": [
    "print(params)"
   ]
  },
  {
   "cell_type": "code",
   "execution_count": 225,
   "metadata": {},
   "outputs": [
    {
     "data": {
      "text/plain": [
       "<matplotlib.axes._subplots.AxesSubplot at 0x7fc062121860>"
      ]
     },
     "execution_count": 225,
     "metadata": {},
     "output_type": "execute_result"
    },
    {
     "data": {
      "image/png": "[encoded data removed]",
      "text/plain": [
       "<Figure size 432x288 with 1 Axes>"
      ]
     },
     "metadata": {
      "needs_background": "light"
     },
     "output_type": "display_data"
    }
   ],
   "source": [
    "sns.distplot(Y_hat, hist=True, color ='red', label='estimated')\n",
    "sns.distplot(Z, hist=False, color= 'blue',hist_kws= {\"linewidth\":2.5}, label ='%s: g=%3.2g, h=%3.2g' % (str('params'),params['g'], params['h']))"
   ]
  },
  {
   "cell_type": "code",
   "execution_count": 136,
   "metadata": {},
   "outputs": [],
   "source": [
    "def buildTukeyEstimator(data, feature, targetFeature, groupby, display=True):\n",
    "    \"\"\"\n",
    "    data: Pandas Core DataFrame- index, direction, issuer, cbbt mid spread, rs vol, target\n",
    "    feature: string that is essentially part of the data DataFrame\n",
    "    targetFeature : string that is essentially part of the data DataFrame\n",
    "    groupBy: also an array of 2 strings or more!\n",
    "    \"\"\"\n",
    "    results = []\n",
    "    try:\n",
    "        group1 = list( data[groupby[0]].dropna().unique().sort_values() )\n",
    "    except:\n",
    "        group1 = sorted( list( rfqData[groupBy[0]].dropna().unique() ) )\n",
    "    try:\n",
    "        group2 = list(rfqData[groupBy[1]].dropna().unique().sort_values() )\n",
    "    except:\n",
    "        group2 = sorted( list (rfqData[groupBy[1]].dropna().unique( ) ) )\n",
    "    ROWS = len( group1 )\n",
    "    COLS = len( group2 )\n",
    "    if display:\n",
    "        fig, axes = plt.subplots( ROWS, COLS, figsize = (COLS*5, ROWS*5), sharey ='row')\n",
    "        colorMap = {'ColorOne': 'b', 'ColorTwo':'r'}\n",
    "    for i, j in tqdm(itertools.product( range(ROWS ), range( COLS)) ):\n",
    "        lims =(np.inf, -np.inf)\n",
    "        for side in ['BUY','SIDE']:\n",
    "            rowGroup, colGroup= group1[i], group2[j]\n",
    "            \n",
    "                      \n",
    "    "
   ]
  },
  {
   "cell_type": "code",
   "execution_count": 16,
   "metadata": {},
   "outputs": [],
   "source": [
    "columns = [\"Asset1\", \"Asset2\", \"Asset3\"]\n",
    "\n",
    "df = pd.DataFrame( columns=columns)"
   ]
  },
  {
   "cell_type": "code",
   "execution_count": 17,
   "metadata": {},
   "outputs": [],
   "source": [
    "df[\"Asset1\"] = np.random.gumbel(size=(5000,))\n",
    "df[\"Asset2\"] = np.random.normal(size=(5000,))\n",
    "df[\"Asset3\"] = np.random.poisson(size=(5000,))\n"
   ]
  },
  {
   "cell_type": "code",
   "execution_count": 28,
   "metadata": {},
   "outputs": [],
   "source": [
    "def fun(x):\n",
    "    return np.std(x)\n",
    "  "
   ]
  },
  {
   "cell_type": "code",
   "execution_count": 38,
   "metadata": {},
   "outputs": [],
   "source": [
    "\n",
    "tmp  = pd.DataFrame(np.random.randn(2000,2)/10000, \n",
    "                    index=pd.date_range('2001-01-01',periods=2000),\n",
    "                    columns=['A','B'])\n",
    "tmp['date'] = pd.date_range('2001-01-01',periods=2000)\n",
    "tmp['ii'] = range(len(tmp))        "
   ]
  },
  {
   "cell_type": "code",
   "execution_count": 39,
   "metadata": {},
   "outputs": [
    {
     "data": {
      "text/html": [
       "<div>\n",
       "<style scoped>\n",
       "    .dataframe tbody tr th:only-of-type {\n",
       "        vertical-align: middle;\n",
       "    }\n",
       "\n",
       "    .dataframe tbody tr th {\n",
       "        vertical-align: top;\n",
       "    }\n",
       "\n",
       "    .dataframe thead th {\n",
       "        text-align: right;\n",
       "    }\n",
       "</style>\n",
       "<table border=\"1\" class=\"dataframe\">\n",
       "  <thead>\n",
       "    <tr style=\"text-align: right;\">\n",
       "      <th></th>\n",
       "      <th>A</th>\n",
       "      <th>B</th>\n",
       "      <th>date</th>\n",
       "      <th>ii</th>\n",
       "    </tr>\n",
       "  </thead>\n",
       "  <tbody>\n",
       "    <tr>\n",
       "      <th>2001-01-01</th>\n",
       "      <td>6.900960e-05</td>\n",
       "      <td>0.000123</td>\n",
       "      <td>2001-01-01</td>\n",
       "      <td>0</td>\n",
       "    </tr>\n",
       "    <tr>\n",
       "      <th>2001-01-02</th>\n",
       "      <td>1.692308e-04</td>\n",
       "      <td>0.000021</td>\n",
       "      <td>2001-01-02</td>\n",
       "      <td>1</td>\n",
       "    </tr>\n",
       "    <tr>\n",
       "      <th>2001-01-03</th>\n",
       "      <td>4.661730e-07</td>\n",
       "      <td>0.000046</td>\n",
       "      <td>2001-01-03</td>\n",
       "      <td>2</td>\n",
       "    </tr>\n",
       "    <tr>\n",
       "      <th>2001-01-04</th>\n",
       "      <td>-2.866790e-05</td>\n",
       "      <td>0.000234</td>\n",
       "      <td>2001-01-04</td>\n",
       "      <td>3</td>\n",
       "    </tr>\n",
       "  </tbody>\n",
       "</table>\n",
       "</div>"
      ],
      "text/plain": [
       "                       A         B       date  ii\n",
       "2001-01-01  6.900960e-05  0.000123 2001-01-01   0\n",
       "2001-01-02  1.692308e-04  0.000021 2001-01-02   1\n",
       "2001-01-03  4.661730e-07  0.000046 2001-01-03   2\n",
       "2001-01-04 -2.866790e-05  0.000234 2001-01-04   3"
      ]
     },
     "execution_count": 39,
     "metadata": {},
     "output_type": "execute_result"
    }
   ],
   "source": [
    "tmp.head(4)"
   ]
  },
  {
   "cell_type": "code",
   "execution_count": 195,
   "metadata": {},
   "outputs": [],
   "source": [
    "outputTukey = \n"
   ]
  },
  {
   "cell_type": "code",
   "execution_count": null,
   "metadata": {},
   "outputs": [],
   "source": []
  },
  {
   "cell_type": "code",
   "execution_count": 196,
   "metadata": {},
   "outputs": [
    {
     "data": {
      "text/plain": [
       " active_mask: array([0, 0, 0, 0])\n",
       "        cost: 944.016087166255\n",
       "         fun: array([43.4514922])\n",
       "        grad: array([4.29013537e-01, 5.67708438e-01, 4.92165921e-01, 3.07414720e+03])\n",
       "         jac: array([[9.87339020e-03, 1.30653381e-02, 1.13267899e-02, 7.07489443e+01]])\n",
       "     message: '`ftol` termination condition is satisfied.'\n",
       "        nfev: 202\n",
       "        njev: 198\n",
       "  optimality: 0.5194145629157446\n",
       "      status: 2\n",
       "     success: True\n",
       "           x: array([0.85188026, 0.92493191, 0.43185974, 0.01000003])"
      ]
     },
     "execution_count": 196,
     "metadata": {},
     "output_type": "execute_result"
    }
   ],
   "source": [
    "outputTukey[2]"
   ]
  },
  {
   "cell_type": "code",
   "execution_count": 82,
   "metadata": {},
   "outputs": [],
   "source": [
    "params_i = dict( zip(['loc','scale','g','h'], outputTukey[2].x))"
   ]
  },
  {
   "cell_type": "code",
   "execution_count": 84,
   "metadata": {},
   "outputs": [],
   "source": [
    "params\n",
    "Y_hat_i = qpk(outputTukey[2].x, Z)"
   ]
  },
  {
   "cell_type": "code",
   "execution_count": 87,
   "metadata": {},
   "outputs": [
    {
     "data": {
      "text/plain": [
       "<matplotlib.axes._subplots.AxesSubplot at 0x7fc0654f1f28>"
      ]
     },
     "execution_count": 87,
     "metadata": {},
     "output_type": "execute_result"
    },
    {
     "data": {
      "image/png": "[encoded data removed]",
      "text/plain": [
       "<Figure size 432x288 with 1 Axes>"
      ]
     },
     "metadata": {
      "needs_background": "light"
     },
     "output_type": "display_data"
    }
   ],
   "source": [
    "sns.distplot(Y_hat_i, hist=True, color ='red')\n",
    "sns.distplot(df.Asset1, hist=False, color= 'blue',hist_kws= {\"linewidth\":2.5}, label ='%s: g=%3.2g, h=%3.2g' % (str('params'),params_i['g'], params_i['h']))"
   ]
  },
  {
   "cell_type": "code",
   "execution_count": null,
   "metadata": {},
   "outputs": [],
   "source": []
  }
 ],
 "metadata": {
  "kernelspec": {
   "display_name": "Python 3",
   "language": "python",
   "name": "python3"
  },
  "language_info": {
   "codemirror_mode": {
    "name": "ipython",
    "version": 3
   },
   "file_extension": ".py",
   "mimetype": "text/x-python",
   "name": "python",
   "nbconvert_exporter": "python",
   "pygments_lexer": "ipython3",
   "version": "3.6.9"
  }
 },
 "nbformat": 4,
 "nbformat_minor": 2
}
