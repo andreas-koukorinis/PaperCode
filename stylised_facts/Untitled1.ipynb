{
 "cells": [
  {
   "cell_type": "code",
   "execution_count": 6,
   "id": "f8bf6473",
   "metadata": {},
   "outputs": [],
   "source": [
    "import os\n",
    "import pandas as pd\n",
    "import numpy as np\n",
    "from fathon import MFDFA\n",
    "from fathon import fathonUtils as fu\n",
    "\n",
    "\n",
    "experimentsLocation = '/media/ak/T71/August11th2022Experiments/'\n",
    "\n",
    "\n",
    "def read_exp_data(symbol_files_, file_idx_):\n",
    "    file_idx_loc_ = os.path.join(experimentsLocation, symbol_files_[file_idx_])\n",
    "    with open(file_idx_loc_, 'rb') as f:\n",
    "        df_idx_ = pd.read_pickle(f)\n",
    "    return df_idx_\n",
    "\n",
    "\n",
    "def win_Sizes_len(data):\n",
    "    return round(len(toAggregated(data)), -2)\n",
    "\n",
    "\n",
    "class MfdfaQuantities(object):\n",
    "    def __init__(self, data, winSizes, qs, revSeg, polOrd):\n",
    "        self.data = data\n",
    "        self.winSizes = winSizes\n",
    "        self.qs = qs\n",
    "        self.revSeg = revSeg\n",
    "        self.polOrd = polOrd\n",
    "        self.pymfdfa = MFDFA(self.data)\n",
    "\n",
    "    def n_F_output(self):\n",
    "        n, F = self.pymfdfa.computeFlucVec(self.winSizes, self.qs, self.revSeg, self.polOrd)\n",
    "        return n, F\n",
    "\n",
    "    def H_and_H_intcpt_output(self):\n",
    "        list_H, list_H_intercept = self.pymfdfa.fitFlucVec()\n",
    "        return list_H, list_H_intercept\n",
    "\n",
    "    def compute_mass_exponents(self):\n",
    "        tau = self.pymfdfa.computeMassExponents()\n",
    "        return tau\n",
    "\n",
    "    def compute_multi_fractal_spectrum(self):\n",
    "        alpha, mfSpect = self.pymfdfa.computeMultifractalSpectrum()\n",
    "        return alpha, mfSpect\n",
    "\n"
   ]
  },
  {
   "cell_type": "code",
   "execution_count": null,
   "id": "b299b2b3",
   "metadata": {},
   "outputs": [],
   "source": []
  }
 ],
 "metadata": {
  "kernelspec": {
   "display_name": "Python [conda env:newTimeSeries] *",
   "language": "python",
   "name": "conda-env-newTimeSeries-py"
  },
  "language_info": {
   "codemirror_mode": {
    "name": "ipython",
    "version": 3
   },
   "file_extension": ".py",
   "mimetype": "text/x-python",
   "name": "python",
   "nbconvert_exporter": "python",
   "pygments_lexer": "ipython3",
   "version": "3.6.13"
  }
 },
 "nbformat": 4,
 "nbformat_minor": 5
}
