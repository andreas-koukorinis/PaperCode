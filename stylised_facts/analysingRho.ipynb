{
 "cells": [
  {
   "cell_type": "code",
   "execution_count": 2,
   "id": "88949dc6",
   "metadata": {},
   "outputs": [],
   "source": [
    "import pandas as pd\n",
    "from collections import defaultdict\n",
    "import freqopttest.glo as glo\n",
    "import sys\n",
    "import time\n",
    "import os\n",
    "import pandas as pd\n",
    "import pickle\n",
    "import itertools\n",
    "import numpy as np\n"
   ]
  },
  {
   "cell_type": "code",
   "execution_count": 3,
   "id": "cf0adf6f",
   "metadata": {},
   "outputs": [],
   "source": [
    "ExpInputFiles = '/media/ak/T71/August11th2022Experiments/ExperimentInputFiles'"
   ]
  },
  {
   "cell_type": "code",
   "execution_count": 18,
   "id": "991800f3",
   "metadata": {},
   "outputs": [],
   "source": [
    "rhoDictVolume = [h for h in [g for g in [f for f in os.listdir(ExpInputFiles) if str('Rho') in f] if str('TY') in g] if str('volume') in h]"
   ]
  },
  {
   "cell_type": "code",
   "execution_count": null,
   "id": "73a306be",
   "metadata": {},
   "outputs": [],
   "source": []
  },
  {
   "cell_type": "code",
   "execution_count": 23,
   "id": "74e87f99",
   "metadata": {},
   "outputs": [
    {
     "name": "stdout",
     "output_type": "stream",
     "text": [
      "0\n",
      "2\n",
      "3\n",
      "4\n",
      "1\n",
      "5\n",
      "8\n",
      "6\n",
      "9\n",
      "7\n",
      "10\n",
      "11\n"
     ]
    }
   ],
   "source": [
    "allDicts = {}\n",
    "for fileName in rhoDictVolume:\n",
    "    fileNameLoc = os.path.join(ExpInputFiles, fileName)\n",
    "    pickleDict = pd.read_pickle(fileNameLoc)\n",
    "    keyIdx = list(pickleDict.keys())[0]\n",
    "    print(keyIdx)\n",
    "    allDicts[keyIdx] = pickleDict[keyIdx]"
   ]
  },
  {
   "cell_type": "code",
   "execution_count": 28,
   "id": "4bc05382",
   "metadata": {},
   "outputs": [],
   "source": [
    "df =pd.DataFrame.from_dict(allDicts)"
   ]
  },
  {
   "cell_type": "code",
   "execution_count": 39,
   "id": "03ff1671",
   "metadata": {},
   "outputs": [
    {
     "data": {
      "text/plain": [
       "<matplotlib.axes._subplots.AxesSubplot at 0x7f501bda9128>"
      ]
     },
     "execution_count": 39,
     "metadata": {},
     "output_type": "execute_result"
    },
    {
     "data": {
      "image/png": "[encoded data removed]",
      "text/plain": [
       "<Figure size 864x576 with 1 Axes>"
      ]
     },
     "metadata": {
      "needs_background": "light"
     },
     "output_type": "display_data"
    }
   ],
   "source": [
    "plt.rcParams['font.sans-serif'] = 'Helvetica'\n",
    "plt.rcParams['axes.edgecolor']='#333F4B'\n",
    "plt.rcParams['axes.linewidth']=0.8\n",
    "plt.rcParams['xtick.color']='#333F4B'\n",
    "plt.rcParams['ytick.color']='#333F4B'\n",
    "\n",
    "fig, ax = plt.subplots(figsize = (12,8))\n",
    "medianRho = df.median(axis=1)\n",
    "medianRho.plot(kind = \"hist\", density = True, bins = 25, color='lightblue', alpha=0.65, label=\"\")\n",
    "medianRho.plot(kind = \"kde\", color='darkred')\n"
   ]
  },
  {
   "cell_type": "code",
   "execution_count": null,
   "id": "c0e0136f",
   "metadata": {},
   "outputs": [],
   "source": []
  }
 ],
 "metadata": {
  "kernelspec": {
   "display_name": "Python [conda env:newTimeSeries] *",
   "language": "python",
   "name": "conda-env-newTimeSeries-py"
  },
  "language_info": {
   "codemirror_mode": {
    "name": "ipython",
    "version": 3
   },
   "file_extension": ".py",
   "mimetype": "text/x-python",
   "name": "python",
   "nbconvert_exporter": "python",
   "pygments_lexer": "ipython3",
   "version": "3.6.13"
  }
 },
 "nbformat": 4,
 "nbformat_minor": 5
}
