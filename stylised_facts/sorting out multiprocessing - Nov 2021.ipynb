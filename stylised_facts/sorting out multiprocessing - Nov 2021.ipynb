{
 "cells": [
  {
   "cell_type": "code",
   "execution_count": 1,
   "id": "2135164f",
   "metadata": {},
   "outputs": [
    {
     "name": "stderr",
     "output_type": "stream",
     "text": [
      "/home/ak/anaconda3/envs/mmd-kernels/lib/python3.7/site-packages/outdated/utils.py:18: OutdatedPackageWarning: The package pingouin is out of date. Your version is 0.4.0, the latest is 0.5.0.\n",
      "Set the environment variable OUTDATED_IGNORE=1 to disable these warnings.\n",
      "  **kwargs\n"
     ]
    }
   ],
   "source": [
    "import numpy as np\n",
    "import matplotlib.pyplot as plt\n",
    "import pandas as pd\n",
    "import numpy as np\n",
    "import os\n",
    "import lob_for_futures as lobFut\n",
    "from lob_for_futures import *\n",
    "import os\n",
    "import matplotlib.pyplot as plt\n",
    "\n",
    "from dateutil.parser import parse\n",
    "from pandas.tseries.offsets import BDay\n",
    "import pickle as pkl\n",
    "import fnmatch\n",
    "import pickle\n",
    "import datetime as dt\n",
    "from datetime import timedelta\n",
    "import glob\n",
    "import fathon\n",
    "from fathon import fathonUtils as fu\n",
    "import itertools\n",
    "import pyinform as pyinf\n",
    "import pingouin as pig\n",
    "from scipy.stats import entropy\n",
    "from scipy.spatial.distance import jensenshannon\n",
    "from scipy.special import kl_div\n",
    "import time\n",
    "import matplotlib.ticker as mtick\n",
    "dataFolder = lobFut.dataFolder\n",
    "quotes = [f for f in os.listdir(dataFolder) if str('_quotes') in f]\n",
    "trades = [f for f in os.listdir(dataFolder) if str('_trades') in f]\n",
    "\n",
    "# symbolIdx = 0\n",
    "\n",
    "symbols = [f.split(\"_\")[0] for f in quotes]\n",
    "\n",
    "trades_cols = ['size', 'time', 'type', 'value']\n",
    "experimentsDestination = '/media/ak/T7/MFDFA Experiments'\n",
    "plt.style.use(os.path.join('/home/ak/.config/matplotlib','latexstyle.mplstyle'))"
   ]
  },
  {
   "cell_type": "code",
   "execution_count": 2,
   "id": "4f04bd34",
   "metadata": {},
   "outputs": [
    {
     "data": {
      "text/plain": [
       "['VIX',\n",
       " 'FB1',\n",
       " 'TU1',\n",
       " 'G',\n",
       " 'RX1',\n",
       " 'OE1',\n",
       " 'TY1',\n",
       " 'FV1',\n",
       " 'JB1',\n",
       " 'RX1',\n",
       " 'DU1',\n",
       " 'KE1',\n",
       " 'US1',\n",
       " 'YM1',\n",
       " 'XM1',\n",
       " 'VXX']"
      ]
     },
     "execution_count": 2,
     "metadata": {},
     "output_type": "execute_result"
    }
   ],
   "source": [
    "informationClockFolder = '/media/ak/T7/FuturesDataSemiProcessed'\n",
    "symbols"
   ]
  },
  {
   "cell_type": "code",
   "execution_count": 3,
   "id": "c323d52d",
   "metadata": {},
   "outputs": [],
   "source": [
    "# from multiprocessing import Pool\n",
    "# import pickle\n",
    "# symbolFolderToStore = os.path.join(informationClockFolder, symbol)\n",
    "# number_of_workers = 5\n",
    "\n",
    "# # with Pool(number_of_workers) as p:\n",
    "# with Pool(number_of_workers) as p:\n",
    "#     print(p.map(produce_info_clock_files, intersectionDates))"
   ]
  },
  {
   "cell_type": "code",
   "execution_count": null,
   "id": "afe9ceba",
   "metadata": {},
   "outputs": [],
   "source": []
  }
 ],
 "metadata": {
  "kernelspec": {
   "display_name": "Python 3",
   "language": "python",
   "name": "python3"
  },
  "language_info": {
   "codemirror_mode": {
    "name": "ipython",
    "version": 3
   },
   "file_extension": ".py",
   "mimetype": "text/x-python",
   "name": "python",
   "nbconvert_exporter": "python",
   "pygments_lexer": "ipython3",
   "version": "3.7.7"
  }
 },
 "nbformat": 4,
 "nbformat_minor": 5
}
