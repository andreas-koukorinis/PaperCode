{
 "cells": [
  {
   "cell_type": "code",
   "execution_count": 1,
   "metadata": {},
   "outputs": [],
   "source": [
    "import os\n",
    "import numpy as np\n",
    "import pickle as pkl\n",
    "import pandas as pd\n",
    "\n",
    "from collections import defaultdict\n",
    "import sys\n",
    "sys.path.append('/home/ak/Documents/Research/PaperCode/stylised_facts')\n",
    "import lob_for_futures\n",
    "figures ='/home/ak/Documents/Research/Papers/figures/'\n"
   ]
  },
  {
   "cell_type": "code",
   "execution_count": 3,
   "metadata": {},
   "outputs": [
    {
     "data": {
      "text/plain": [
       "['VIX',\n",
       " 'FB1',\n",
       " 'TU1',\n",
       " 'RX1',\n",
       " 'OE1',\n",
       " 'TY1',\n",
       " 'FV1',\n",
       " 'JB1',\n",
       " 'DU1',\n",
       " 'KE1',\n",
       " 'US1',\n",
       " 'YM1',\n",
       " 'XM1',\n",
       " 'VXX',\n",
       " 'G_1']"
      ]
     },
     "execution_count": 3,
     "metadata": {},
     "output_type": "execute_result"
    }
   ],
   "source": [
    "LaCie = '/media/ak/LaCie'\n",
    "T7 = '/media/ak/T7'\n",
    "FuturesDataSemiProcessed = os.path.join(T7, 'FuturesDataSemiProcessed')\n",
    "\n",
    "symbols = os.listdir(FuturesDataSemiProcessed)\n",
    "symbols"
   ]
  },
  {
   "cell_type": "code",
   "execution_count": null,
   "metadata": {
    "scrolled": true
   },
   "outputs": [],
   "source": [
    "files =[f for f in folderList if (str(symbol)) in f]\n",
    "files"
   ]
  },
  {
   "cell_type": "code",
   "execution_count": null,
   "metadata": {},
   "outputs": [],
   "source": [
    "\n",
    "bidAskfileLoc = \"\".join((folder, files[0]))\n",
    "tradefileLoc = \"\".join((folder, files[2]))\n",
    "tradefileDict = pkl.load(open(tradefileLoc, \"rb\"))\n",
    "bidAskdicts = pkl.load(open(bidAskfileLoc, \"rb\"))"
   ]
  },
  {
   "cell_type": "code",
   "execution_count": null,
   "metadata": {},
   "outputs": [],
   "source": [
    "keys = list(bidAskdicts.keys())\n",
    "\n",
    "    "
   ]
  },
  {
   "cell_type": "raw",
   "metadata": {
    "pycharm": {
     "name": "#%% raw\n"
    }
   },
   "source": []
  },
  {
   "cell_type": "code",
   "execution_count": null,
   "metadata": {},
   "outputs": [],
   "source": [
    "activityClocksDict = dict()\n",
    "for keyIdex in keys:\n",
    "    print(keyIdex)\n",
    "    dfTrades = tradefileDict[keyIdex]\n",
    "    dfQuotes = bidAskdicts[keyIdex]\n",
    "    LOB = createLOB.createLOBtwoInputs(dfQuotes, dfTrades)\n",
    "    activityClocksDict[keyIdex]= createLOB.Clocks(createLOB.calcLOB(LOB), 'MicroPrice', 'TradeVolume','DollarVolume',100,25,25)\n",
    "\n"
   ]
  },
  {
   "cell_type": "code",
   "execution_count": null,
   "metadata": {},
   "outputs": [],
   "source": [
    "\n",
    "\n",
    "pkl.dump(activityClocksDict, open(save_loc, 'wb'), protocol=pkl.HIGHEST_PROTOCOL)"
   ]
  },
  {
   "cell_type": "markdown",
   "metadata": {
    "pycharm": {
     "name": "#%% md\n"
    }
   },
   "source": [
    "### load pickle here"
   ]
  },
  {
   "cell_type": "code",
   "execution_count": null,
   "metadata": {},
   "outputs": [],
   "source": [
    "FileName = \"\".join(('ActivityClocks_', symbol, '.pkl'))\n",
    "\n",
    "load_loc = os.path.join(activityClocksFolder, FileName)\n"
   ]
  },
  {
   "cell_type": "code",
   "execution_count": null,
   "metadata": {},
   "outputs": [],
   "source": [
    "infile = open(load_loc ,'rb')\n",
    "activityClockFile = pkl.load(infile)\n",
    "infile.close()"
   ]
  },
  {
   "cell_type": "code",
   "execution_count": null,
   "metadata": {},
   "outputs": [],
   "source": [
    "keys = list(activityClockFile.keys())"
   ]
  },
  {
   "cell_type": "code",
   "execution_count": null,
   "metadata": {},
   "outputs": [],
   "source": [
    "\n",
    "activityClockFile[keys[1]].volume_bar_df().columns.values"
   ]
  },
  {
   "cell_type": "code",
   "execution_count": null,
   "metadata": {
    "pycharm": {
     "name": "#%%\n"
    }
   },
   "outputs": [],
   "source": [
    "from statsmodels.tsa.seasonal import STL\n",
    "%matplotlib inline\n",
    "import fathon\n",
    "from fathon import fathonUtils as fu"
   ]
  },
  {
   "cell_type": "markdown",
   "metadata": {
    "pycharm": {
     "name": "#%% md\n"
    }
   },
   "source": [
    "#### get all the information clocks sorted"
   ]
  },
  {
   "cell_type": "code",
   "execution_count": null,
   "metadata": {
    "pycharm": {
     "name": "#%%\n"
    }
   },
   "outputs": [],
   "source": [
    "volumeBarDF = activityClocksDict[keys[1]].volume_bar_df()\n",
    "tickBarDF = activityClocksDict[keys[1]].tick_bar_df()\n",
    "dollarVolumeBarDF = activityClocksDict[keys[1]].dollar_bar_df()\n",
    "originalDF = activityClocksDict[keys[1]].original_df()"
   ]
  },
  {
   "cell_type": "code",
   "execution_count": null,
   "metadata": {
    "pycharm": {
     "name": "#%%\n"
    }
   },
   "outputs": [],
   "source": [
    "##pull out variable of choice\n",
    "variable = 'L1PriceImbalance'\n",
    "volumeBarVariable = np.asanyarray(volumeBarDF[str(variable)])\n",
    "tickBarVariable = np.asanyarray(tickBarDF[str(variable)])\n",
    "dollarVolumeBarVariable = np.asanyarray(tickBarDF[str(variable)])\n",
    "originalVariable = originalDF[str(variable)]"
   ]
  },
  {
   "cell_type": "code",
   "execution_count": null,
   "metadata": {
    "pycharm": {
     "name": "#%%\n"
    }
   },
   "outputs": [],
   "source": [
    "len(dollarVolumeBarVariabe)"
   ]
  },
  {
   "cell_type": "code",
   "execution_count": null,
   "metadata": {
    "pycharm": {
     "name": "#%%\n"
    }
   },
   "outputs": [],
   "source": [
    "\n",
    "a = fu.toAggregated(dollarVolumeBarVariable)\n"
   ]
  },
  {
   "cell_type": "code",
   "execution_count": null,
   "metadata": {
    "pycharm": {
     "name": "#%%\n"
    }
   },
   "outputs": [],
   "source": [
    "pymfdfa = fathon.MFDFA(a)\n"
   ]
  },
  {
   "cell_type": "code",
   "execution_count": null,
   "metadata": {
    "pycharm": {
     "name": "#%%\n"
    }
   },
   "outputs": [],
   "source": [
    "winSizes = fu.linRangeByStep(10, 2000)\n",
    "qs = np.arange(-3, 4, 0.1)\n",
    "revSeg = True\n",
    "polOrd = 1\n",
    "n, F = pymfdfa.computeFlucVec(winSizes, qs, revSeg=revSeg, polOrd=polOrd)\n"
   ]
  },
  {
   "cell_type": "code",
   "execution_count": null,
   "metadata": {
    "pycharm": {
     "name": "#%%\n"
    }
   },
   "outputs": [],
   "source": [
    "list_H, list_H_intercept = pymfdfa.fitFlucVec()"
   ]
  },
  {
   "cell_type": "code",
   "execution_count": null,
   "metadata": {
    "pycharm": {
     "name": "#%%\n"
    }
   },
   "outputs": [],
   "source": [
    "plt.plot(np.log(n), np.log(F[0, :]), 'ro')\n",
    "plt.plot(np.log(n), list_H_intercept[0]+list_H[0]*np.log(n), '--', label='h_{:.1f} = {:.2f}'.format(qs[0], list_H[0]))\n",
    "half_idx = int(len(qs)/2)\n",
    "plt.plot(np.log(n), np.log(F[half_idx, :]), 'co')\n",
    "plt.plot(np.log(n), list_H_intercept[half_idx]+list_H[half_idx]*np.log(n),\n",
    "         '--', label='h_{:.1f} = {:.2f}'.format(qs[half_idx], list_H[half_idx]))\n",
    "plt.plot(np.log(n), np.log(F[-1, :]), 'yo')\n",
    "plt.plot(np.log(n), list_H_intercept[-1]+list_H[-1]*np.log(n), '--',\n",
    "         label='h_{:.1f} = {:.2f}'.format(qs[-1], list_H[-1]))\n",
    "plt.xlabel('ln(n)', fontsize=14)\n",
    "plt.ylabel('ln(F(n))', fontsize=14)\n",
    "plt.title('MFDFA', fontsize=14)\n",
    "plt.legend(loc=0, fontsize=14)\n",
    "\n",
    "title = 'MDFDA_'+str(variable)+str(symbol)+'_plot1.png'\n",
    "fileLocation = os.path.join(figures, title)\n",
    "plt.savefig(fileLocation, dpi = 150 )"
   ]
  },
  {
   "cell_type": "code",
   "execution_count": null,
   "metadata": {
    "pycharm": {
     "name": "#%%\n"
    }
   },
   "outputs": [],
   "source": [
    "plt.plot(qs, list_H, 'ro-')\n",
    "plt.xlabel('q', fontsize=14)\n",
    "plt.ylabel('h(q)', fontsize=14)\n",
    "plt.title('h(q)', fontsize=14)"
   ]
  },
  {
   "cell_type": "code",
   "execution_count": null,
   "metadata": {
    "pycharm": {
     "name": "#%%\n"
    }
   },
   "outputs": [],
   "source": [
    "tau = pymfdfa.computeMassExponents()"
   ]
  },
  {
   "cell_type": "code",
   "execution_count": null,
   "metadata": {
    "pycharm": {
     "name": "#%%\n"
    }
   },
   "outputs": [],
   "source": [
    "tau = pymfdfa.computeMassExponents()"
   ]
  },
  {
   "cell_type": "markdown",
   "metadata": {},
   "source": [
    "#### get all the information clocks sorted"
   ]
  },
  {
   "cell_type": "code",
   "execution_count": null,
   "metadata": {
    "pycharm": {
     "name": "#%%\n"
    }
   },
   "outputs": [],
   "source": [
    "volumeBarDF = activityClocksDict[keys[1]].volume_bar_df()\n",
    "tickBarDF = activityClocksDict[keys[1]].tick_bar_df()\n",
    "dollarVolumeBarDF = activityClocksDict[keys[1]].dollar_bar_df()\n",
    "originalDF = activityClocksDict[keys[1]].original_df()"
   ]
  },
  {
   "cell_type": "code",
   "execution_count": null,
   "metadata": {
    "pycharm": {
     "name": "#%%\n"
    }
   },
   "outputs": [],
   "source": [
    "##pull out variable of choice\n",
    "variable = 'L1PriceImbalance'\n",
    "volumeBarVariable = np.asanyarray(volumeBarDF[str(variable)])\n",
    "tickBarVariable = np.asanyarray(tickBarDF[str(variable)])\n",
    "dollarVolumeBarVariable = np.asanyarray(tickBarDF[str(variable)])\n",
    "originalVariable = originalDF[str(variable)]"
   ]
  },
  {
   "cell_type": "code",
   "execution_count": null,
   "metadata": {
    "pycharm": {
     "name": "#%%\n"
    }
   },
   "outputs": [],
   "source": [
    "len(dollarVolumeBarVariabe)"
   ]
  },
  {
   "cell_type": "code",
   "execution_count": null,
   "metadata": {
    "pycharm": {
     "name": "#%%\n"
    }
   },
   "outputs": [],
   "source": [
    "\n",
    "a = fu.toAggregated(dollarVolumeBarVariable)\n"
   ]
  },
  {
   "cell_type": "code",
   "execution_count": null,
   "metadata": {
    "pycharm": {
     "name": "#%%\n"
    }
   },
   "outputs": [],
   "source": [
    "pymfdfa = fathon.MFDFA(a)\n"
   ]
  },
  {
   "cell_type": "code",
   "execution_count": null,
   "metadata": {
    "pycharm": {
     "name": "#%%\n"
    }
   },
   "outputs": [],
   "source": [
    "winSizes = fu.linRangeByStep(10, 2000)\n",
    "qs = np.arange(-3, 4, 0.1)\n",
    "revSeg = True\n",
    "polOrd = 1\n",
    "n, F = pymfdfa.computeFlucVec(winSizes, qs, revSeg=revSeg, polOrd=polOrd)\n"
   ]
  },
  {
   "cell_type": "code",
   "execution_count": null,
   "metadata": {
    "pycharm": {
     "name": "#%%\n"
    }
   },
   "outputs": [],
   "source": [
    "list_H, list_H_intercept = pymfdfa.fitFlucVec()"
   ]
  },
  {
   "cell_type": "code",
   "execution_count": null,
   "metadata": {
    "pycharm": {
     "name": "#%%\n"
    }
   },
   "outputs": [],
   "source": [
    "plt.plot(np.log(n), np.log(F[0, :]), 'ro')\n",
    "plt.plot(np.log(n), list_H_intercept[0]+list_H[0]*np.log(n), '--', label='h_{:.1f} = {:.2f}'.format(qs[0], list_H[0]))\n",
    "half_idx = int(len(qs)/2)\n",
    "plt.plot(np.log(n), np.log(F[half_idx, :]), 'co')\n",
    "plt.plot(np.log(n), list_H_intercept[half_idx]+list_H[half_idx]*np.log(n),\n",
    "         '--', label='h_{:.1f} = {:.2f}'.format(qs[half_idx], list_H[half_idx]))\n",
    "plt.plot(np.log(n), np.log(F[-1, :]), 'yo')\n",
    "plt.plot(np.log(n), list_H_intercept[-1]+list_H[-1]*np.log(n), '--',\n",
    "         label='h_{:.1f} = {:.2f}'.format(qs[-1], list_H[-1]))\n",
    "plt.xlabel('ln(n)', fontsize=14)\n",
    "plt.ylabel('ln(F(n))', fontsize=14)\n",
    "plt.title('MFDFA', fontsize=14)\n",
    "plt.legend(loc=0, fontsize=14)\n",
    "\n",
    "title = 'MDFDA_'+str(variable)+str(symbol)+'_plot1.png'\n",
    "fileLocation = os.path.join(figures, title)\n",
    "plt.savefig(fileLocation, dpi = 150 )"
   ]
  },
  {
   "cell_type": "code",
   "execution_count": null,
   "metadata": {
    "pycharm": {
     "name": "#%%\n"
    }
   },
   "outputs": [],
   "source": [
    "list_H, list_H_intercept = pymfdfa.fitFlucVec()"
   ]
  },
  {
   "cell_type": "code",
   "execution_count": null,
   "metadata": {
    "pycharm": {
     "name": "#%%\n"
    }
   },
   "outputs": [],
   "source": [
    "plt.plot(np.log(n), np.log(F[0, :]), 'ro')\n",
    "plt.plot(np.log(n), list_H_intercept[0]+list_H[0]*np.log(n), '--', label='h_{:.1f} = {:.2f}'.format(qs[0], list_H[0]))\n",
    "half_idx = int(len(qs)/2)\n",
    "plt.plot(np.log(n), np.log(F[half_idx, :]), 'co')\n",
    "plt.plot(np.log(n), list_H_intercept[half_idx]+list_H[half_idx]*np.log(n),\n",
    "         '--', label='h_{:.1f} = {:.2f}'.format(qs[half_idx], list_H[half_idx]))\n",
    "plt.plot(np.log(n), np.log(F[-1, :]), 'yo')\n",
    "plt.plot(np.log(n), list_H_intercept[-1]+list_H[-1]*np.log(n), '--',\n",
    "         label='h_{:.1f} = {:.2f}'.format(qs[-1], list_H[-1]))\n",
    "plt.xlabel('ln(n)', fontsize=14)\n",
    "plt.ylabel('ln(F(n))', fontsize=14)\n",
    "plt.title('MFDFA', fontsize=14)\n",
    "plt.legend(loc=0, fontsize=14)\n",
    "\n",
    "title = 'MDFDA_'+str(variable)+str(symbol)+'_plot1.png'\n",
    "fileLocation = os.path.join(figures, title)\n",
    "plt.savefig(fileLocation, dpi = 150 )"
   ]
  },
  {
   "cell_type": "code",
   "execution_count": null,
   "metadata": {
    "pycharm": {
     "name": "#%%\n"
    }
   },
   "outputs": [],
   "source": [
    "plt.plot(qs, list_H, 'ro-')\n",
    "plt.xlabel('q', fontsize=14)\n",
    "plt.ylabel('h(q)', fontsize=14)\n",
    "plt.title('h(q)', fontsize=14)"
   ]
  },
  {
   "cell_type": "code",
   "execution_count": null,
   "metadata": {
    "pycharm": {
     "name": "#%%\n"
    }
   },
   "outputs": [],
   "source": [
    "tau = pymfdfa.computeMassExponents()"
   ]
  },
  {
   "cell_type": "code",
   "execution_count": null,
   "metadata": {},
   "outputs": [],
   "source": [
    "tau = pymfdfa.computeMassExponents()"
   ]
  },
  {
   "cell_type": "markdown",
   "metadata": {},
   "source": [
    "#### get all the information clocks sorted"
   ]
  },
  {
   "cell_type": "code",
   "execution_count": null,
   "metadata": {
    "scrolled": false
   },
   "outputs": [],
   "source": [
    "volumeBarDF = activityClocksDict[keys[1]].volume_bar_df()\n",
    "tickBarDF = activityClocksDict[keys[1]].tick_bar_df()\n",
    "dollarVolumeBarDF = activityClocksDict[keys[1]].dollar_bar_df()\n",
    "originalDF = activityClocksDict[keys[1]].original_df()"
   ]
  },
  {
   "cell_type": "code",
   "execution_count": null,
   "metadata": {
    "scrolled": true
   },
   "outputs": [],
   "source": [
    "##pull out variable of choice\n",
    "variable = 'L1PriceImbalance'\n",
    "volumeBarVariable = np.asanyarray(volumeBarDF[str(variable)])\n",
    "tickBarVariable = np.asanyarray(tickBarDF[str(variable)])\n",
    "dollarVolumeBarVariable = np.asanyarray(tickBarDF[str(variable)])\n",
    "originalVariable = originalDF[str(variable)]"
   ]
  },
  {
   "cell_type": "code",
   "execution_count": null,
   "metadata": {},
   "outputs": [],
   "source": [
    "len(dollarVolumeBarVariabe)"
   ]
  },
  {
   "cell_type": "code",
   "execution_count": null,
   "metadata": {},
   "outputs": [],
   "source": [
    "\n",
    "a = fu.toAggregated(dollarVolumeBarVariable)\n"
   ]
  },
  {
   "cell_type": "code",
   "execution_count": null,
   "metadata": {},
   "outputs": [],
   "source": [
    "pymfdfa = fathon.MFDFA(a)\n"
   ]
  },
  {
   "cell_type": "code",
   "execution_count": null,
   "metadata": {},
   "outputs": [],
   "source": [
    "winSizes = fu.linRangeByStep(10, 2000)\n",
    "qs = np.arange(-3, 4, 0.1)\n",
    "revSeg = True\n",
    "polOrd = 1\n",
    "n, F = pymfdfa.computeFlucVec(winSizes, qs, revSeg=revSeg, polOrd=polOrd)\n"
   ]
  },
  {
   "cell_type": "code",
   "execution_count": null,
   "metadata": {},
   "outputs": [],
   "source": [
    "list_H, list_H_intercept = pymfdfa.fitFlucVec()"
   ]
  },
  {
   "cell_type": "code",
   "execution_count": null,
   "metadata": {},
   "outputs": [],
   "source": [
    "plt.plot(np.log(n), np.log(F[0, :]), 'ro')\n",
    "plt.plot(np.log(n), list_H_intercept[0]+list_H[0]*np.log(n), '--', label='h_{:.1f} = {:.2f}'.format(qs[0], list_H[0]))\n",
    "half_idx = int(len(qs)/2)\n",
    "plt.plot(np.log(n), np.log(F[half_idx, :]), 'co')\n",
    "plt.plot(np.log(n), list_H_intercept[half_idx]+list_H[half_idx]*np.log(n),\n",
    "         '--', label='h_{:.1f} = {:.2f}'.format(qs[half_idx], list_H[half_idx]))\n",
    "plt.plot(np.log(n), np.log(F[-1, :]), 'yo')\n",
    "plt.plot(np.log(n), list_H_intercept[-1]+list_H[-1]*np.log(n), '--',\n",
    "         label='h_{:.1f} = {:.2f}'.format(qs[-1], list_H[-1]))\n",
    "plt.xlabel('ln(n)', fontsize=14)\n",
    "plt.ylabel('ln(F(n))', fontsize=14)\n",
    "plt.title('MFDFA', fontsize=14)\n",
    "plt.legend(loc=0, fontsize=14)\n",
    "\n",
    "title = 'MDFDA_'+str(variable)+str(symbol)+'_plot1.png'\n",
    "fileLocation = os.path.join(figures, title)\n",
    "plt.savefig(fileLocation, dpi = 150 )"
   ]
  },
  {
   "cell_type": "code",
   "execution_count": null,
   "metadata": {},
   "outputs": [],
   "source": [
    "plt.plot(qs, list_H, 'ro-')\n",
    "plt.xlabel('q', fontsize=14)\n",
    "plt.ylabel('h(q)', fontsize=14)\n",
    "plt.title('h(q)', fontsize=14)"
   ]
  },
  {
   "cell_type": "code",
   "execution_count": null,
   "metadata": {},
   "outputs": [],
   "source": [
    "tau = pymfdfa.computeMassExponents()"
   ]
  }
 ],
 "metadata": {
  "kernelspec": {
   "display_name": "Python 3",
   "language": "python",
   "name": "python3"
  },
  "language_info": {
   "codemirror_mode": {
    "name": "ipython",
    "version": 3
   },
   "file_extension": ".py",
   "mimetype": "text/x-python",
   "name": "python",
   "nbconvert_exporter": "python",
   "pygments_lexer": "ipython3",
   "version": "3.7.7"
  },
  "latex_envs": {
   "LaTeX_envs_menu_present": true,
   "autoclose": false,
   "autocomplete": true,
   "bibliofile": "biblio.bib",
   "cite_by": "apalike",
   "current_citInitial": 1,
   "eqLabelWithNumbers": true,
   "eqNumInitial": 1,
   "hotkeys": {
    "equation": "Ctrl-E",
    "itemize": "Ctrl-I"
   },
   "labels_anchors": false,
   "latex_user_defs": false,
   "report_style_numbering": false,
   "user_envs_cfg": false
  }
 },
 "nbformat": 4,
 "nbformat_minor": 4
}