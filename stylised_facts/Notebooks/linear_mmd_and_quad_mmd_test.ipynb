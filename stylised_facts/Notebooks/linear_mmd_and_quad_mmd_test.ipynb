{
 "cells": [
  {
   "cell_type": "markdown",
   "id": "8da711c7",
   "metadata": {},
   "source": [
    "a notebook to perform linear mmd test on MFDFA "
   ]
  },
  {
   "cell_type": "code",
   "execution_count": 1,
   "id": "86a02235",
   "metadata": {},
   "outputs": [],
   "source": [
    "%load_ext autoreload\n",
    "%autoreload 2\n",
    "%matplotlib inline\n",
    "import numpy as np\n",
    "import matplotlib.pyplot as plt\n",
    "import freqopttest.util as util\n",
    "import freqopttest.data as data\n",
    "import freqopttest.kernel as kernel\n",
    "import freqopttest.tst as tst\n",
    "import freqopttest.glo as glo\n",
    "import sys\n",
    "import time\n",
    "import os\n",
    "import pandas as pd"
   ]
  },
  {
   "cell_type": "code",
   "execution_count": 42,
   "id": "1675c24c",
   "metadata": {},
   "outputs": [],
   "source": [
    "mfdfaDataFrames = '/media/ak/T71/August11th2022Experiments/mfdfaDataFrames'\n",
    "symbol = 'FB1'\n",
    "variable = 'alpha'\n",
    "\n",
    "file_name = [f for f in os.listdir(mfdfaDataFrames) if str(symbol) and str(variable) in f][0]\n",
    "file_loc = os.path.join(mfdfaDataFrames, file_name)\n",
    "unpickled_Df = pd.read_pickle(file_loc)\n"
   ]
  },
  {
   "cell_type": "code",
   "execution_count": 43,
   "id": "3ad826fb",
   "metadata": {},
   "outputs": [],
   "source": [
    "X = np.array(unpickled_Df.iloc[:, 0:3])\n",
    "Y = np.array(unpickled_Df.iloc[:, 3:6])\n",
    "data_sample =data.TSTData(X, Y)\n",
    "tr, te = data_sample.split_tr_te(tr_proportion=0.5, seed=10)"
   ]
  },
  {
   "cell_type": "code",
   "execution_count": 44,
   "id": "87fe23a3",
   "metadata": {},
   "outputs": [],
   "source": [
    "# choose the best kernel that maximizes the test power \n",
    "med = util.meddistance(tr.stack_xy())\n",
    "widths = [ (med*f) for f in 2.0**np.linspace(-1, 4, 25)]\n",
    "list_kernels = [kernel.KGauss( w**2 ) for w in widths]\n",
    "\n",
    "besti, powers = tst.LinearMMDTest.grid_search_kernel(tr, list_kernels, alpha=0.01)"
   ]
  },
  {
   "cell_type": "code",
   "execution_count": 67,
   "id": "657414ad",
   "metadata": {},
   "outputs": [
    {
     "name": "stdout",
     "output_type": "stream",
     "text": [
      "0.257840690008697 0.2559284203912613\n"
     ]
    }
   ],
   "source": [
    "med_data = util.meddistance(data_sample.stack_xy())\n",
    "print(med_data , med)"
   ]
  },
  {
   "cell_type": "code",
   "execution_count": 45,
   "id": "64bf158b",
   "metadata": {},
   "outputs": [
    {
     "data": {
      "text/plain": [
       "Text(0.5, 1.0, 'median distance = 0.256. Best width: 0.128')"
      ]
     },
     "execution_count": 45,
     "metadata": {},
     "output_type": "execute_result"
    },
    {
     "data": {
      "image/png": "[encoded data removed]",
      "text/plain": [
       "<Figure size 432x288 with 1 Axes>"
      ]
     },
     "metadata": {
      "needs_background": "light"
     },
     "output_type": "display_data"
    }
   ],
   "source": [
    "plt.plot(widths, powers, 'o-')\n",
    "plt.xlabel('Gaussian width')\n",
    "plt.ylabel('test power')\n",
    "plt.title('median distance = %.3g. Best width: %.3g'%(med, widths[besti]) )"
   ]
  },
  {
   "cell_type": "code",
   "execution_count": 46,
   "id": "513e70a2",
   "metadata": {},
   "outputs": [
    {
     "data": {
      "text/plain": [
       "{'alpha': 0.01,\n",
       " 'pvalue': 0.002297832631142959,\n",
       " 'test_stat': 0.726835103641835,\n",
       " 'h0_rejected': True}"
      ]
     },
     "execution_count": 46,
     "metadata": {},
     "output_type": "execute_result"
    }
   ],
   "source": [
    "# The actual test \n",
    "best_ker = list_kernels[besti]\n",
    "lin_mmd_test = tst.LinearMMDTest(best_ker, alpha=0.01)\n",
    "test_result = lin_mmd_test.perform_test(te)\n",
    "test_result"
   ]
  },
  {
   "cell_type": "code",
   "execution_count": 60,
   "id": "69b6f9e9",
   "metadata": {},
   "outputs": [
    {
     "data": {
      "text/plain": [
       "(0.8853950870295467, 1.5438049487251293)"
      ]
     },
     "execution_count": 60,
     "metadata": {},
     "output_type": "execute_result"
    }
   ],
   "source": [
    "lin_mmd_test.two_moments(X,Y , best_ker)"
   ]
  },
  {
   "cell_type": "code",
   "execution_count": 61,
   "id": "6ccefe24",
   "metadata": {},
   "outputs": [
    {
     "data": {
      "text/plain": [
       "-1.0797456931387486"
      ]
     },
     "execution_count": 61,
     "metadata": {},
     "output_type": "execute_result"
    }
   ],
   "source": [
    "lin_mmd_test.variance(X,Y , best_ker)"
   ]
  },
  {
   "cell_type": "code",
   "execution_count": 64,
   "id": "0c22b15d",
   "metadata": {},
   "outputs": [
    {
     "ename": "NameError",
     "evalue": "name 'ss' is not defined",
     "output_type": "error",
     "traceback": [
      "\u001b[0;31m---------------------------------------------------------------------------\u001b[0m",
      "\u001b[0;31mNameError\u001b[0m                                 Traceback (most recent call last)",
      "\u001b[0;32m<ipython-input-64-68cd77c25433>\u001b[0m in \u001b[0;36m<module>\u001b[0;34m\u001b[0m\n\u001b[1;32m      5\u001b[0m \u001b[0mpvals\u001b[0m \u001b[0;34m=\u001b[0m \u001b[0mnp\u001b[0m\u001b[0;34m.\u001b[0m\u001b[0mzeros\u001b[0m\u001b[0;34m(\u001b[0m\u001b[0mrep\u001b[0m\u001b[0;34m)\u001b[0m\u001b[0;34m\u001b[0m\u001b[0;34m\u001b[0m\u001b[0m\n\u001b[1;32m      6\u001b[0m \u001b[0;32mfor\u001b[0m \u001b[0mr\u001b[0m \u001b[0;32min\u001b[0m \u001b[0mrange\u001b[0m\u001b[0;34m(\u001b[0m\u001b[0mrep\u001b[0m\u001b[0;34m)\u001b[0m\u001b[0;34m:\u001b[0m\u001b[0;34m\u001b[0m\u001b[0;34m\u001b[0m\u001b[0m\n\u001b[0;32m----> 7\u001b[0;31m     \u001b[0mte\u001b[0m \u001b[0;34m=\u001b[0m \u001b[0mss\u001b[0m\u001b[0;34m.\u001b[0m\u001b[0msample\u001b[0m\u001b[0;34m(\u001b[0m\u001b[0mte_size\u001b[0m\u001b[0;34m,\u001b[0m \u001b[0mseed\u001b[0m\u001b[0;34m=\u001b[0m\u001b[0mr\u001b[0m\u001b[0;34m+\u001b[0m\u001b[0;36m34000\u001b[0m\u001b[0;34m)\u001b[0m\u001b[0;34m\u001b[0m\u001b[0;34m\u001b[0m\u001b[0m\n\u001b[0m\u001b[1;32m      8\u001b[0m     \u001b[0mtest_result\u001b[0m \u001b[0;34m=\u001b[0m \u001b[0mlin_mmd_test\u001b[0m\u001b[0;34m.\u001b[0m\u001b[0mperform_test\u001b[0m\u001b[0;34m(\u001b[0m\u001b[0mte\u001b[0m\u001b[0;34m)\u001b[0m\u001b[0;34m\u001b[0m\u001b[0;34m\u001b[0m\u001b[0m\n\u001b[1;32m      9\u001b[0m     \u001b[0mpvals\u001b[0m\u001b[0;34m[\u001b[0m\u001b[0mr\u001b[0m\u001b[0;34m]\u001b[0m \u001b[0;34m=\u001b[0m \u001b[0mtest_result\u001b[0m\u001b[0;34m[\u001b[0m\u001b[0;34m'pvalue'\u001b[0m\u001b[0;34m]\u001b[0m\u001b[0;34m\u001b[0m\u001b[0;34m\u001b[0m\u001b[0m\n",
      "\u001b[0;31mNameError\u001b[0m: name 'ss' is not defined"
     ]
    }
   ],
   "source": [
    "rep = 500\n",
    "te_size = 5000\n",
    "alpha = 0.01\n",
    "lin_mmd_test = tst.LinearMMDTest(best_ker, alpha)\n",
    "pvals = np.zeros(rep)\n",
    "for r in range(rep):\n",
    "    te = ss.sample(te_size, seed=r+34000)\n",
    "    test_result = lin_mmd_test.perform_test(te)\n",
    "    pvals[r] = test_result['pvalue']\n",
    "  \n",
    "# plot\n",
    "type1 = np.sum(pvals < alpha)/float(rep)\n",
    "print('type1: %.4g'%type1)\n",
    "    "
   ]
  },
  {
   "cell_type": "code",
   "execution_count": null,
   "id": "5b2a65d8",
   "metadata": {},
   "outputs": [],
   "source": [
    "## how do i sample from the distribution for the test set?"
   ]
  },
  {
   "cell_type": "markdown",
   "id": "5ea329e9",
   "metadata": {},
   "source": [
    "### A notebook to test quadratic MMD two-sample test"
   ]
  },
  {
   "cell_type": "markdown",
   "id": "73a40664",
   "metadata": {},
   "source": [
    "### Test Permutations"
   ]
  },
  {
   "cell_type": "code",
   "execution_count": 49,
   "id": "b593b1ba",
   "metadata": {},
   "outputs": [],
   "source": [
    "xtr, ytr = tr.xy()\n",
    "xytr = tr.stack_xy()\n",
    "sig2 = util.meddistance(xytr, subsample=1000)\n",
    "k = kernel.KGauss(sig2)"
   ]
  },
  {
   "cell_type": "code",
   "execution_count": 51,
   "id": "d01d72f0",
   "metadata": {},
   "outputs": [
    {
     "name": "stdout",
     "output_type": "stream",
     "text": [
      "(1/20) KGauss(w2=0.004): mmd2: 0.0939, var: 0.00139, power obj: 1.92101, took: 0.00043129920959472656\n",
      "(2/20) KGauss(w2=0.005): mmd2: 0.102, var: 0.00163, power obj: 1.99339, took: 0.0003604888916015625\n",
      "(3/20) KGauss(w2=0.007): mmd2: 0.111, var: 0.00187, power obj: 2.06571, took: 0.00034880638122558594\n",
      "(4/20) KGauss(w2=0.010): mmd2: 0.119, var: 0.00213, power obj: 2.13138, took: 0.0003459453582763672\n",
      "(5/20) KGauss(w2=0.013): mmd2: 0.126, var: 0.00234, power obj: 2.18562, took: 0.00034809112548828125\n",
      "(6/20) KGauss(w2=0.018): mmd2: 0.131, var: 0.00245, power obj: 2.22848, took: 0.00034427642822265625\n",
      "(7/20) KGauss(w2=0.024): mmd2: 0.131, var: 0.00237, power obj: 2.26543, took: 0.0003705024719238281\n",
      "(8/20) KGauss(w2=0.032): mmd2: 0.127, var: 0.00204, power obj: 2.30612, took: 0.006884098052978516\n",
      "(9/20) KGauss(w2=0.042): mmd2: 0.119, var: 0.00152, power obj: 2.36491, took: 0.00037550926208496094\n",
      "(10/20) KGauss(w2=0.057): mmd2: 0.107, var: 0.000873, power obj: 2.46682, took: 0.00039887428283691406\n",
      "(11/20) KGauss(w2=0.076): mmd2: 0.093, var: 0.000215, power obj: 2.66801, took: 0.00034880638122558594\n",
      "(12/20) KGauss(w2=0.101): mmd2: 0.0788, var: 0.000109, power obj: 2.36539, took: 0.0003509521484375\n",
      "(13/20) KGauss(w2=0.136): mmd2: 0.0651, var: 7.3e-05, power obj: 1.98598, took: 0.0003535747528076172\n",
      "(14/20) KGauss(w2=0.182): mmd2: 0.0522, var: 4.7e-05, power obj: 1.61428, took: 0.0003535747528076172\n",
      "(15/20) KGauss(w2=0.244): mmd2: 0.0405, var: 2.93e-05, power obj: 1.26124, took: 0.00035500526428222656\n",
      "(16/20) KGauss(w2=0.326): mmd2: 0.03, var: 1.78e-05, power obj: 0.939941, took: 0.0004019737243652344\n",
      "(17/20) KGauss(w2=0.437): mmd2: 0.0211, var: 1.07e-05, power obj: 0.665259, took: 0.005879878997802734\n",
      "(18/20) KGauss(w2=0.585): mmd2: 0.0142, var: 6.44e-06, power obj: 0.447111, took: 0.00035190582275390625\n",
      "(19/20) KGauss(w2=0.783): mmd2: 0.00906, var: 3.92e-06, power obj: 0.286098, took: 0.0003707408905029297\n",
      "(20/20) KGauss(w2=1.048): mmd2: 0.00554, var: 2.41e-06, power obj: 0.174859, took: 0.014861822128295898\n"
     ]
    }
   ],
   "source": [
    "med = util.meddistance(tr.stack_xy(), 1000)\n",
    "list_gwidth = np.hstack( ( (med**2) *(2.0**np.linspace(-4, 4, 20) ) ) )\n",
    "list_gwidth.sort()\n",
    "list_kernels = [kernel.KGauss(gw2) for gw2 in list_gwidth]\n",
    "besti, powers = tst.QuadMMDTest.grid_search_kernel(tr, list_kernels, alpha)"
   ]
  },
  {
   "cell_type": "code",
   "execution_count": 52,
   "id": "12402f06",
   "metadata": {},
   "outputs": [
    {
     "name": "stdout",
     "output_type": "stream",
     "text": [
      "med^2: 0.065\n",
      "best width^2: 0.076\n"
     ]
    },
    {
     "data": {
      "text/plain": [
       "Text(0, 0.5, 'Approx. test power')"
      ]
     },
     "execution_count": 52,
     "metadata": {},
     "output_type": "execute_result"
    },
    {
     "data": {
      "image/png": "[encoded data removed]",
      "text/plain": [
       "<Figure size 432x288 with 1 Axes>"
      ]
     },
     "metadata": {
      "needs_background": "light"
     },
     "output_type": "display_data"
    }
   ],
   "source": [
    "print ('med^2: %.3f'%med**2)\n",
    "print ('best width^2: %.3f'%(list_gwidth[besti]))\n",
    "plt.plot(list_gwidth, powers, 'o-')\n",
    "plt.xlabel('Gaussian width^2')\n",
    "plt.ylabel('Approx. test power')"
   ]
  },
  {
   "cell_type": "code",
   "execution_count": 53,
   "id": "484551ef",
   "metadata": {},
   "outputs": [
    {
     "data": {
      "text/plain": [
       "{'alpha': 0.01,\n",
       " 'pvalue': 0.025,\n",
       " 'test_stat': 0.08572992873612706,\n",
       " 'h0_rejected': False,\n",
       " 'list_permuted_mmd2': array([-0.01022138, -0.00212186, -0.0171437 , -0.01784824,  0.02912588,\n",
       "        -0.02352642,  0.00922356, -0.01451411, -0.0073835 ,  0.01120549,\n",
       "         0.02012269, -0.02456168,  0.00322698, -0.02071388, -0.00699467,\n",
       "         0.02968152, -0.00822205, -0.01658181,  0.01264064,  0.00070653,\n",
       "        -0.01519688, -0.02334762, -0.02258724,  0.01935524, -0.01724654,\n",
       "         0.08707283, -0.00981521,  0.0416121 ,  0.03974041, -0.01469769,\n",
       "         0.02597869,  0.03256511, -0.00043627,  0.03265845, -0.00739738,\n",
       "        -0.00857426, -0.01152219,  0.0411402 , -0.00709379, -0.0045673 ,\n",
       "        -0.01638682, -0.00846645, -0.02508857,  0.0238718 ,  0.00243225,\n",
       "        -0.01215654, -0.0114042 , -0.02400493,  0.00200585, -0.01559514,\n",
       "        -0.01504642, -0.0128679 , -0.02448587,  0.04412327, -0.02522617,\n",
       "        -0.01310084,  0.03697362, -0.0166782 , -0.02158297, -0.01955583,\n",
       "         0.04833128,  0.01805736,  0.03227429, -0.01478568, -0.02180648,\n",
       "         0.05572928, -0.00347014,  0.02202166, -0.0047571 ,  0.00406386,\n",
       "        -0.00454572,  0.01349887,  0.01405977, -0.00386914, -0.00947821,\n",
       "        -0.01938785, -0.02101843,  0.08809848, -0.01758151, -0.02569141,\n",
       "        -0.00081355, -0.00832948,  0.02361544,  0.01255667,  0.00194286,\n",
       "         0.0162146 , -0.00262078,  0.0303347 , -0.0108914 , -0.02092088,\n",
       "         0.01056558, -0.0202242 , -0.00700453, -0.02281536,  0.00147159,\n",
       "        -0.02031601, -0.00527776, -0.02119931, -0.00916733,  0.00584077,\n",
       "        -0.00432954,  0.06891254, -0.00693595, -0.02596241, -0.01166515,\n",
       "        -0.00440717,  0.0304614 ,  0.0205757 ,  0.00786855,  0.10899849,\n",
       "         0.01686511, -0.01401407, -0.00771161, -0.02153071,  0.02909996,\n",
       "        -0.02228611,  0.02339479,  0.02046534, -0.02471675,  0.00015121,\n",
       "        -0.00972284,  0.00959674, -0.00783558, -0.02283485,  0.03713076,\n",
       "        -0.02149673, -0.02691481, -0.02037539, -0.01565886,  0.00991132,\n",
       "        -0.01384999, -0.01760693,  0.00482369, -0.03114904, -0.02405988,\n",
       "        -0.02261492, -0.00546144, -0.01191315,  0.01371837, -0.02303143,\n",
       "        -0.01016378, -0.02105749, -0.02396987,  0.02378922, -0.02280839,\n",
       "         0.028375  ,  0.00290784, -0.00691817, -0.0198224 ,  0.04987264,\n",
       "        -0.00760914, -0.000774  , -0.01370626, -0.01459723,  0.00671418,\n",
       "        -0.01292991,  0.00494185, -0.01413117, -0.02161903, -0.01121074,\n",
       "        -0.0192776 ,  0.09350583,  0.03194276, -0.00682548,  0.12822619,\n",
       "         0.01730408,  0.03130345, -0.02021996,  0.01893526,  0.00645305,\n",
       "        -0.01010879, -0.00091274, -0.01691233, -0.02305574, -0.01226102,\n",
       "         0.00779213, -0.00839569,  0.00137751,  0.02570593, -0.0178696 ,\n",
       "        -0.01367325,  0.00754926, -0.01746933, -0.02559133, -0.02142057,\n",
       "        -0.0167553 , -0.01757358, -0.02051083, -0.00978212, -0.02148102,\n",
       "         0.03683126, -0.01681357,  0.00455015,  0.00520083, -0.01551976,\n",
       "         0.03338189,  0.03533815, -0.01579039,  0.01981323, -0.02806651])}"
      ]
     },
     "execution_count": 53,
     "metadata": {},
     "output_type": "execute_result"
    }
   ],
   "source": [
    "k = kernel.KGauss(list_gwidth[besti])\n",
    "mmd_test = tst.QuadMMDTest(k, n_permute=200, alpha=alpha)\n",
    "test_result = mmd_test.perform_test(te)\n",
    "test_result"
   ]
  },
  {
   "cell_type": "code",
   "execution_count": 57,
   "id": "a6f00680",
   "metadata": {},
   "outputs": [
    {
     "name": "stderr",
     "output_type": "stream",
     "text": [
      "/home/ak/anaconda3/envs/kernels/lib/python3.6/site-packages/ipykernel_launcher.py:6: UserWarning: In Matplotlib 3.3 individual lines on a stem plot will be added as a LineCollection instead of individual lines. This significantly improves the performance of a stem plot. To remove this warning and switch to the new behaviour, set the \"use_line_collection\" keyword argument to True.\n",
      "  \n"
     ]
    },
    {
     "data": {
      "text/plain": [
       "<matplotlib.legend.Legend at 0x7f8bef046710>"
      ]
     },
     "execution_count": 57,
     "metadata": {},
     "output_type": "execute_result"
    },
    {
     "data": {
      "image/png": "[encoded data removed]",
      "text/plain": [
       "<Figure size 432x288 with 1 Axes>"
      ]
     },
     "metadata": {
      "needs_background": "light"
     },
     "output_type": "display_data"
    }
   ],
   "source": [
    "permuted_mmd2s = test_result['list_permuted_mmd2']\n",
    "stat = test_result['test_stat']\n",
    "bins = plt.hist(permuted_mmd2s, bins=50, density=True,stacked=True, label='H0 Permuted MMD2', alpha = 0.5);\n",
    "plt.xlabel('Permuted MMD^2 values')\n",
    "plt.ylabel('Normalized frequency')\n",
    "plt.stem([stat], [max(bins[0])/2], 'or-', label='Observed stat.')\n",
    "plt.legend()"
   ]
  },
  {
   "cell_type": "code",
   "execution_count": 89,
   "id": "ebc6edcc",
   "metadata": {},
   "outputs": [],
   "source": [
    "LinearMMDOutputFiles = '/media/ak/T71/August11th2022Experiments/ExperimentOne/LinearMMDOutputFiles' "
   ]
  },
  {
   "cell_type": "code",
   "execution_count": 93,
   "id": "1f46d315",
   "metadata": {},
   "outputs": [
    {
     "data": {
      "text/plain": [
       "['FB1_alpha_linear_test_ONE.pkl',\n",
       " 'FB1_alpha_linear_test_TWO.pkl',\n",
       " 'FB1_tau_linear_test_ONE.pkl',\n",
       " 'FB1_tau_linear_test_TWO.pkl',\n",
       " 'FB1_tau_1_5_linear_test_ONE.pkl',\n",
       " 'FB1_tau_1_5_linear_test_TWO.pkl',\n",
       " 'FB1_tau_shift_1_wind_5_linear_test_ONE.pkl',\n",
       " 'FB1_tau_shift_1_wind_5_linear_test_TWO.pkl',\n",
       " 'FB1_tau_shift_1_wind_4_linear_test_ONE.pkl',\n",
       " 'FB1_tau_shift_1_wind_4_linear_test_TWO.pkl',\n",
       " 'FB1_tau_shift_2_wind_4_linear_test_ONE.pkl',\n",
       " 'FB1_tau_shift_2_wind_4_linear_test_TWO.pkl',\n",
       " 'FB1_tau_shift_2_wind_6_linear_test_ONE.pkl',\n",
       " 'FB1_tau_shift_2_wind_6_linear_test_TWO.pkl',\n",
       " 'FB1_alpha_shift_2_wind_6_linear_test_ONE.pkl',\n",
       " 'FB1_alpha_shift_2_wind_6_linear_test_TWO.pkl',\n",
       " 'JB1_alpha_shift_2_wind_6_linear_test_ONE.pkl',\n",
       " 'JB1_alpha_shift_2_wind_6_linear_test_TWO.pkl',\n",
       " 'JB1_tau_shift_2_wind_6_linear_test_ONE.pkl',\n",
       " 'JB1_tau_shift_2_wind_6_linear_test_TWO.pkl',\n",
       " 'JB1_tau_shift_1_wind_5_linear_test_ONE.pkl',\n",
       " 'JB1_tau_shift_1_wind_5_linear_test_TWO.pkl']"
      ]
     },
     "execution_count": 93,
     "metadata": {},
     "output_type": "execute_result"
    }
   ],
   "source": [
    "linear_mmd_output_files = os.listdir(LinearMMDOutputFiles)\n",
    "linear_mmd_output_files"
   ]
  },
  {
   "cell_type": "code",
   "execution_count": 83,
   "id": "45391337",
   "metadata": {},
   "outputs": [],
   "source": [
    "file = os.path.join(LinearMMDOutputFiles, linear_mmd_output_files[1])"
   ]
  },
  {
   "cell_type": "code",
   "execution_count": 85,
   "id": "2bd2d8bc",
   "metadata": {},
   "outputs": [
    {
     "data": {
      "text/plain": [
       "defaultdict(dict,\n",
       "            {0: {'test_result': {'alpha': 0.01,\n",
       "               'pvalue': 0.0061535854260501965,\n",
       "               'test_stat': 0.020126803650519946,\n",
       "               'h0_rejected': True},\n",
       "              'test_variance': -0.00022224307687023599,\n",
       "              'med_on_test_data': 0.08939744694107624,\n",
       "              'two_moments': (0.020126803650519946, 0.002230351743149445),\n",
       "              'compute_unbiased_linear_estimator': 0.020126803650519946},\n",
       "             1: {'test_result': {'alpha': 0.01,\n",
       "               'pvalue': 0.002117934721322524,\n",
       "               'test_stat': 0.016381918739546846,\n",
       "               'h0_rejected': True},\n",
       "              'test_variance': -0.0002075241698978175,\n",
       "              'med_on_test_data': 0.06592413703598193,\n",
       "              'two_moments': (0.016381918739546846, 0.0011318901268680727),\n",
       "              'compute_unbiased_linear_estimator': 0.016381918739546846},\n",
       "             2: {'test_result': {'alpha': 0.01,\n",
       "               'pvalue': 0.00038582778258170955,\n",
       "               'test_stat': 0.446599173819696,\n",
       "               'h0_rejected': True},\n",
       "              'test_variance': -0.25892405570111326,\n",
       "              'med_on_test_data': 0.08405015640080886,\n",
       "              'two_moments': (0.446599173819696, 0.6085012260777241),\n",
       "              'compute_unbiased_linear_estimator': 0.446599173819696},\n",
       "             3: {'test_result': {'alpha': 0.01,\n",
       "               'pvalue': 0.000959546969605039,\n",
       "               'test_stat': 0.021771000931269716,\n",
       "               'h0_rejected': True},\n",
       "              'test_variance': -0.00046856040512795183,\n",
       "              'med_on_test_data': 0.07949903787394345,\n",
       "              'two_moments': (0.021771000931269716, 0.0016988660989846283),\n",
       "              'compute_unbiased_linear_estimator': 0.021771000931269716},\n",
       "             4: {'test_result': {'alpha': 0.01,\n",
       "               'pvalue': 0.002911066791778481,\n",
       "               'test_stat': 0.0030673190310745954,\n",
       "               'h0_rejected': True},\n",
       "              'test_variance': -7.878933366685952e-06,\n",
       "              'med_on_test_data': 0.05340726983928618,\n",
       "              'two_moments': (0.0030673190310745954, 4.268386394672165e-05),\n",
       "              'compute_unbiased_linear_estimator': 0.0030673190310745954},\n",
       "             5: {'test_result': {'alpha': 0.01,\n",
       "               'pvalue': 0.001063077033873367,\n",
       "               'test_stat': 0.0032065583857119524,\n",
       "               'h0_rejected': True},\n",
       "              'test_variance': -2.6003805639159234e-06,\n",
       "              'med_on_test_data': 0.08836021445182485,\n",
       "              'two_moments': (0.0032065583857119524, 3.758800646949428e-05),\n",
       "              'compute_unbiased_linear_estimator': 0.0032065583857119524},\n",
       "             6: {'test_result': {'alpha': 0.01,\n",
       "               'pvalue': 2.3218422006006295e-05,\n",
       "               'test_stat': 0.8641491934501045,\n",
       "               'h0_rejected': True},\n",
       "              'test_variance': -0.6959411235323788,\n",
       "              'med_on_test_data': 0.46725328611515643,\n",
       "              'two_moments': (0.8641491934501045, 1.5530839052610887),\n",
       "              'compute_unbiased_linear_estimator': 0.8641491934501045},\n",
       "             7: {'test_result': {'alpha': 0.01,\n",
       "               'pvalue': 0.0014850546934597442,\n",
       "               'test_stat': 0.0003508589041640668,\n",
       "               'h0_rejected': True},\n",
       "              'test_variance': -1.5053918456351604e-07,\n",
       "              'med_on_test_data': 0.047085113536454684,\n",
       "              'two_moments': (0.0003508589041640668, 4.812081509585281e-07),\n",
       "              'compute_unbiased_linear_estimator': 0.0003508589041640668},\n",
       "             8: {'test_result': {'alpha': 0.01,\n",
       "               'pvalue': 0.0031764773687834626,\n",
       "               'test_stat': 0.000357848793159741,\n",
       "               'h0_rejected': True},\n",
       "              'test_variance': -7.964270102157848e-08,\n",
       "              'med_on_test_data': 0.05915638197342768,\n",
       "              'two_moments': (0.000357848793159741, 5.932200694584328e-07),\n",
       "              'compute_unbiased_linear_estimator': 0.000357848793159741},\n",
       "             9: {'test_result': {'alpha': 0.01,\n",
       "               'pvalue': 2.1891832128543515e-05,\n",
       "               'test_stat': 0.8676392686084129,\n",
       "               'h0_rejected': True},\n",
       "              'test_variance': -0.7070659567670549,\n",
       "              'med_on_test_data': 0.46725328611515643,\n",
       "              'two_moments': (0.8676392686084129, 1.5551920481729442),\n",
       "              'compute_unbiased_linear_estimator': 0.8676392686084129},\n",
       "             10: {'test_result': {'alpha': 0.01,\n",
       "               'pvalue': 0.0030762499256320706,\n",
       "               'test_stat': 0.0030712231325528937,\n",
       "               'h0_rejected': True},\n",
       "              'test_variance': -7.630607001321671e-06,\n",
       "              'med_on_test_data': 0.055592031506040925,\n",
       "              'two_moments': (0.0030712231325528937, 4.3359688696891185e-05),\n",
       "              'compute_unbiased_linear_estimator': 0.0030712231325528937},\n",
       "             11: {'test_result': {'alpha': 0.01,\n",
       "               'pvalue': 5.526105751452152e-07,\n",
       "               'test_stat': 1.1731231852228263,\n",
       "               'h0_rejected': True},\n",
       "              'test_variance': -1.5339284205249193,\n",
       "              'med_on_test_data': 0.34444465719647843,\n",
       "              'two_moments': (1.1731231852228263, 2.000354889309428),\n",
       "              'compute_unbiased_linear_estimator': 1.1731231852228263},\n",
       "             12: {'test_result': {'alpha': 0.01,\n",
       "               'pvalue': 0.013921470584684063,\n",
       "               'test_stat': 0.00014752210833290924,\n",
       "               'h0_rejected': False},\n",
       "              'test_variance': -2.361225222775104e-09,\n",
       "              'med_on_test_data': 0.059728405230879904,\n",
       "              'two_moments': (0.00014752210833290924, 1.5519883350896586e-07),\n",
       "              'compute_unbiased_linear_estimator': 0.00014752210833290924},\n",
       "             13: {'test_result': {'alpha': 0.01,\n",
       "               'pvalue': 0.0027748493027999485,\n",
       "               'test_stat': 0.0032080172392425824,\n",
       "               'h0_rejected': True},\n",
       "              'test_variance': -8.563826758341883e-06,\n",
       "              'med_on_test_data': 0.055592031506040925,\n",
       "              'two_moments': (0.0032080172392425824, 4.6164685898681636e-05),\n",
       "              'compute_unbiased_linear_estimator': 0.0032080172392425824},\n",
       "             14: {'test_result': {'alpha': 0.01,\n",
       "               'pvalue': 5.276913613318239e-07,\n",
       "               'test_stat': 1.1651457833967154,\n",
       "               'h0_rejected': True},\n",
       "              'test_variance': -1.5078839671400153,\n",
       "              'med_on_test_data': 0.3415149645357671,\n",
       "              'two_moments': (1.1651457833967154, 1.9658861744235296),\n",
       "              'compute_unbiased_linear_estimator': 1.1651457833967154},\n",
       "             15: {'test_result': {'alpha': 0.01,\n",
       "               'pvalue': 5.705954960282314e-05,\n",
       "               'test_stat': 0.8151304817704318,\n",
       "               'h0_rejected': True},\n",
       "              'test_variance': -0.3970863914644711,\n",
       "              'med_on_test_data': 0.49546092408703624,\n",
       "              'two_moments': (0.8151304817704318, 1.5397590523196614),\n",
       "              'compute_unbiased_linear_estimator': 0.8151304817704318},\n",
       "             16: {'test_result': {'alpha': 0.01,\n",
       "               'pvalue': 2.3295456663800012e-05,\n",
       "               'test_stat': 0.7782937733723465,\n",
       "               'h0_rejected': True},\n",
       "              'test_variance': -0.8036945845369995,\n",
       "              'med_on_test_data': 0.10258172421859214,\n",
       "              'two_moments': (0.7782937733723465, 1.2602858700412685),\n",
       "              'compute_unbiased_linear_estimator': 0.7782937733723465},\n",
       "             17: {'test_result': {'alpha': 0.01,\n",
       "               'pvalue': 0.0008984071976187898,\n",
       "               'test_stat': 0.033406257951589365,\n",
       "               'h0_rejected': True},\n",
       "              'test_variance': -0.0012213369287069405,\n",
       "              'med_on_test_data': 0.0722415587585367,\n",
       "              'two_moments': (0.033406257951589365, 0.003950333908287044),\n",
       "              'compute_unbiased_linear_estimator': 0.033406257951589365},\n",
       "             18: {'test_result': {'alpha': 0.01,\n",
       "               'pvalue': 2.178382331763093e-05,\n",
       "               'test_stat': 0.8677690174773298,\n",
       "               'h0_rejected': True},\n",
       "              'test_variance': -0.5541824728034062,\n",
       "              'med_on_test_data': 0.5032099744817915,\n",
       "              'two_moments': (0.8677690174773298, 1.5547836316423431),\n",
       "              'compute_unbiased_linear_estimator': 0.8677690174773298},\n",
       "             19: {'test_result': {'alpha': 0.01,\n",
       "               'pvalue': 1.3763674520016158e-05,\n",
       "               'test_stat': 0.857437307321945,\n",
       "               'h0_rejected': True},\n",
       "              'test_variance': -0.7637895828819112,\n",
       "              'med_on_test_data': 0.18862787908366468,\n",
       "              'two_moments': (0.857437307321945, 1.4426846127729487),\n",
       "              'compute_unbiased_linear_estimator': 0.857437307321945},\n",
       "             20: {'test_result': {'alpha': 0.01,\n",
       "               'pvalue': 0.0003983772050530198,\n",
       "               'test_stat': 0.5148799048621694,\n",
       "               'h0_rejected': True},\n",
       "              'test_variance': -0.28532352047245335,\n",
       "              'med_on_test_data': 0.0884725503171945,\n",
       "              'two_moments': (0.5148799048621694, 0.813065666551585),\n",
       "              'compute_unbiased_linear_estimator': 0.5148799048621694},\n",
       "             21: {'test_result': {'alpha': 0.01,\n",
       "               'pvalue': 0.00020900744710037881,\n",
       "               'test_stat': 0.4743772949955729,\n",
       "               'h0_rejected': True},\n",
       "              'test_variance': -0.3088180679402548,\n",
       "              'med_on_test_data': 0.08102895160923211,\n",
       "              'two_moments': (0.4743772949955729, 0.6235928526845645),\n",
       "              'compute_unbiased_linear_estimator': 0.4743772949955729},\n",
       "             22: {'test_result': {'alpha': 0.01,\n",
       "               'pvalue': 1.1698394071771843e-07,\n",
       "               'test_stat': 1.3253995675910741,\n",
       "               'h0_rejected': True},\n",
       "              'test_variance': -2.3128987000545225,\n",
       "              'med_on_test_data': 0.357107605732255,\n",
       "              'two_moments': (1.3253995675910741, 2.2673300270612753),\n",
       "              'compute_unbiased_linear_estimator': 1.3253995675910741},\n",
       "             23: {'test_result': {'alpha': 0.01,\n",
       "               'pvalue': 7.470817585576477e-05,\n",
       "               'test_stat': 0.6350367930552789,\n",
       "               'h0_rejected': True},\n",
       "              'test_variance': -0.5245033081678105,\n",
       "              'med_on_test_data': 0.07943538799127674,\n",
       "              'two_moments': (0.6350367930552789, 0.9675460127549681),\n",
       "              'compute_unbiased_linear_estimator': 0.6350367930552789},\n",
       "             24: {'test_result': {'alpha': 0.01,\n",
       "               'pvalue': 0.001133807250497544,\n",
       "               'test_stat': 0.0025913738091087224,\n",
       "               'h0_rejected': True},\n",
       "              'test_variance': -3.149720224717007e-06,\n",
       "              'med_on_test_data': 0.07875138361094651,\n",
       "              'two_moments': (0.0025913738091087224, 2.485989348951591e-05),\n",
       "              'compute_unbiased_linear_estimator': 0.0025913738091087224},\n",
       "             25: {'test_result': {'alpha': 0.01,\n",
       "               'pvalue': 0.0011792300509066618,\n",
       "               'test_stat': 0.06321678016275495,\n",
       "               'h0_rejected': True},\n",
       "              'test_variance': -0.004368189270898564,\n",
       "              'med_on_test_data': 0.06824432161912636,\n",
       "              'two_moments': (0.06321678016275495, 0.01490973856174231),\n",
       "              'compute_unbiased_linear_estimator': 0.06321678016275495},\n",
       "             26: {'test_result': {'alpha': 0.01,\n",
       "               'pvalue': 0.0015827292765497483,\n",
       "               'test_stat': 0.0006585901365462071,\n",
       "               'h0_rejected': True},\n",
       "              'test_variance': -5.054947236212359e-07,\n",
       "              'med_on_test_data': 0.04425970390226182,\n",
       "              'two_moments': (0.0006585901365462071, 1.7181196194137403e-06),\n",
       "              'compute_unbiased_linear_estimator': 0.0006585901365462071}})"
      ]
     },
     "execution_count": 85,
     "metadata": {},
     "output_type": "execute_result"
    }
   ],
   "source": [
    "pd.read_pickle(file)"
   ]
  },
  {
   "cell_type": "code",
   "execution_count": null,
   "id": "80678d52",
   "metadata": {},
   "outputs": [],
   "source": []
  }
 ],
 "metadata": {
  "kernelspec": {
   "display_name": "Python 3",
   "language": "python",
   "name": "python3"
  },
  "language_info": {
   "codemirror_mode": {
    "name": "ipython",
    "version": 3
   },
   "file_extension": ".py",
   "mimetype": "text/x-python",
   "name": "python",
   "nbconvert_exporter": "python",
   "pygments_lexer": "ipython3",
   "version": "3.6.13"
  }
 },
 "nbformat": 4,
 "nbformat_minor": 5
}
