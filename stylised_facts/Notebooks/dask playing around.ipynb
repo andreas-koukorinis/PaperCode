{
 "cells": [
  {
   "cell_type": "code",
   "execution_count": 2,
   "id": "55ce0546",
   "metadata": {},
   "outputs": [],
   "source": [
    "import pandas as pd\n",
    "import os \n",
    "import numpy as np\n",
    "import dask.dataframe as dd\n",
    "import dask.multiprocessing\n",
    "dask.config.set(scheduler='processes')\n",
    "import time"
   ]
  },
  {
   "cell_type": "code",
   "execution_count": 44,
   "id": "7b56f8b3",
   "metadata": {},
   "outputs": [],
   "source": [
    "CL = '/media/ak/Data1/TradesPurchased/CL'\n",
    "CL_csv = sorted([f for f in os.listdir(CL) if str('.gz') not in f])\n",
    "CL_file_idx = 1\n",
    "file_loc = os.path.join(CL, CL_csv[CL_file_idx])"
   ]
  },
  {
   "cell_type": "code",
   "execution_count": null,
   "id": "58cf9aaf",
   "metadata": {},
   "outputs": [],
   "source": []
  },
  {
   "cell_type": "code",
   "execution_count": 45,
   "id": "4bfc1bc8",
   "metadata": {},
   "outputs": [
    {
     "name": "stdout",
     "output_type": "stream",
     "text": [
      "Read csv with dask:  0.23004555702209473 sec\n"
     ]
    }
   ],
   "source": [
    "start = time.time()\n",
    "dask_df = dd.read_csv(file_loc, assume_missing=True)\n",
    "end = time.time()\n",
    "print(\"Read csv with dask: \",(end-start),\"sec\")\n"
   ]
  },
  {
   "cell_type": "code",
   "execution_count": 46,
   "id": "4d831431",
   "metadata": {},
   "outputs": [
    {
     "data": {
      "text/plain": [
       "23.0"
      ]
     },
     "execution_count": 46,
     "metadata": {},
     "output_type": "execute_result"
    }
   ],
   "source": [
    "dask_df['Bid Price'].mean().compute()"
   ]
  },
  {
   "cell_type": "code",
   "execution_count": 47,
   "id": "bfc7acf1",
   "metadata": {},
   "outputs": [
    {
     "data": {
      "text/plain": [
       "Date          0\n",
       "Time          0\n",
       "Type          0\n",
       "Price        19\n",
       "Volume        1\n",
       "Bid Price    33\n",
       "Bid Size     33\n",
       "Ask Price    34\n",
       "Ask Size     34\n",
       "dtype: int64"
      ]
     },
     "execution_count": 47,
     "metadata": {},
     "output_type": "execute_result"
    }
   ],
   "source": [
    "dask_df.isnull().sum().compute()"
   ]
  },
  {
   "cell_type": "code",
   "execution_count": 50,
   "id": "3b22a527",
   "metadata": {
    "scrolled": true
   },
   "outputs": [
    {
     "data": {
      "text/plain": [
       "array(['06/07/2019', '06/21/2019', '06/25/2019', '07/11/2019',\n",
       "       '07/18/2019', '07/18/2019', '07/19/2019', '07/19/2019',\n",
       "       '07/19/2019', '08/02/2019', '08/09/2019', '12/16/2019',\n",
       "       '12/16/2019', '12/17/2019', '01/24/2020', '03/30/2020',\n",
       "       '04/01/2020', '04/01/2020', '05/05/2020', '05/08/2020',\n",
       "       '05/11/2020', '06/02/2020', '06/02/2020', '06/02/2020',\n",
       "       '06/02/2020', '06/02/2020', '06/02/2020', '06/02/2020',\n",
       "       '06/02/2020', '06/02/2020', '06/02/2020', '06/02/2020',\n",
       "       '06/02/2020', '06/02/2020'], dtype=object)"
      ]
     },
     "execution_count": 50,
     "metadata": {},
     "output_type": "execute_result"
    }
   ],
   "source": [
    "dask_df['Date'].values.compute()"
   ]
  },
  {
   "cell_type": "code",
   "execution_count": 53,
   "id": "1e82adff",
   "metadata": {},
   "outputs": [
    {
     "data": {
      "text/plain": [
       "array([nan, nan, nan, nan, nan, nan, nan, nan, nan, nan, nan, nan, nan,\n",
       "       nan, nan, nan, nan, nan, nan, nan, nan, nan, nan, nan, nan, nan,\n",
       "       nan, nan, nan, nan, nan, nan, nan, nan])"
      ]
     },
     "execution_count": 53,
     "metadata": {},
     "output_type": "execute_result"
    }
   ],
   "source": [
    "dask_df['Ask Price'].values.compute()"
   ]
  },
  {
   "cell_type": "code",
   "execution_count": null,
   "id": "68d3f7ba",
   "metadata": {},
   "outputs": [],
   "source": []
  }
 ],
 "metadata": {
  "kernelspec": {
   "display_name": "Python [conda env:timeSeries] *",
   "language": "python",
   "name": "conda-env-timeSeries-py"
  },
  "language_info": {
   "codemirror_mode": {
    "name": "ipython",
    "version": 3
   },
   "file_extension": ".py",
   "mimetype": "text/x-python",
   "name": "python",
   "nbconvert_exporter": "python",
   "pygments_lexer": "ipython3",
   "version": "3.7.12"
  }
 },
 "nbformat": 4,
 "nbformat_minor": 5
}
