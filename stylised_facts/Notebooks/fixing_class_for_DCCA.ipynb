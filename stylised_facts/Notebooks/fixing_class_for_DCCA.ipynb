{
 "cells": [
  {
   "cell_type": "code",
   "execution_count": 1,
   "id": "f3e5b13c",
   "metadata": {},
   "outputs": [],
   "source": [
    "import os\n",
    "import time\n",
    "import pickle\n",
    "import pandas as pd\n",
    "import numpy as np\n",
    "import fathon\n",
    "from fathon import fathonUtils as utils\n",
    "from multiprocessing import Pool\n",
    "from scipy.stats import linregress\n",
    "data_folder = 'path/to/data/folder'\n",
    "symbol_list = sorted(['FB1', 'JB1', 'XM1', 'TY1', 'TU1', 'RX1', 'YM1', 'G_1', 'KE1', 'FV1', 'US1', 'DU1'])  # symbols for T71 USB Drive\n",
    "window_sizes = utils.linRangeByStep(10, 1000, step=20)\n",
    "polynomial_order = 2\n",
    "\n",
    "num_processes = 4  # Set the number of processes for parallelization\n"
   ]
  },
  {
   "cell_type": "code",
   "execution_count": 2,
   "id": "23fd5a9b",
   "metadata": {},
   "outputs": [],
   "source": [
    "base_path = '/media/ak/T71/August11th2022Experiments'\n",
    "# the files in exp_input_path, have more variables in them like this 'micro_price', 'price_imbalance', 'pct_change_micro_price',\n",
    "#        'weighted_activity_spread', 'GK_vol', 'arrival_rates',\n",
    "#        'returns_normalised', 'returns_mix_max', 'skew', 'kurt',\n",
    "#        'median_traded_volume']\n",
    "exp_input_path = os.path.join(base_path, 'ExperimentInputFiles')\n",
    "exp_one_path = os.path.join(base_path, 'ExperimentOne')\n",
    "# the symbol files in exp_one_path, contain files with ['micro_price_change', 'arrival_rates', 'gk_vol', 'median_traded_volume', 'tick']\n",
    "symbols = os.listdir(exp_one_path) \n",
    "\n",
    "hurstFiles = [f for f in os.listdir(exp_input_path) if str('HurstD') in f] # these are mixed symbol files\n",
    "rhoFiles = [f for f in os.listdir(exp_input_path) if str('Rho') in f] # these are mixed symbol files\n"
   ]
  },
  {
   "cell_type": "code",
   "execution_count": 3,
   "id": "e7144ccb",
   "metadata": {},
   "outputs": [
    {
     "data": {
      "text/plain": [
       "['FB1',\n",
       " 'JB1',\n",
       " 'XM1',\n",
       " 'TY1',\n",
       " 'TU1',\n",
       " 'RX1',\n",
       " 'YM1',\n",
       " 'G_1',\n",
       " 'KE1',\n",
       " 'FV1',\n",
       " 'US1',\n",
       " 'DU1']"
      ]
     },
     "execution_count": 3,
     "metadata": {},
     "output_type": "execute_result"
    }
   ],
   "source": [
    "os.listdir(exp_one_path)"
   ]
  },
  {
   "cell_type": "code",
   "execution_count": 4,
   "id": "26caecb4",
   "metadata": {},
   "outputs": [],
   "source": [
    "# os.listdir(exp_input_path)\n",
    "# path = os.path.join(exp_input_path,'G_1')\n",
    "# files = os.listdir(path)\n",
    "# fileIdx = 1\n",
    "# pd.read_pickle(os.path.join(path, files[fileIdx])).columns.values"
   ]
  },
  {
   "cell_type": "code",
   "execution_count": 5,
   "id": "bfbe7cee",
   "metadata": {},
   "outputs": [],
   "source": [
    "# fb1_path = os.path.join(exp_one_path, 'FB1')\n",
    "# fb1_files= os.listdir(fb1_path)\n",
    "# idx_file = 4\n",
    "\n",
    "# pd.read_pickle(os.path.join(fb1_path, fb1_files[idx_file])).keys()"
   ]
  },
  {
   "cell_type": "code",
   "execution_count": 66,
   "id": "480a8e43",
   "metadata": {},
   "outputs": [],
   "source": [
    "class CrossCorrelation:\n",
    "    def __init__(self, path, symbols, symbol_index, bar_choice):\n",
    "        \"\"\"\n",
    "        Initialize CrossCorrelation object.\n",
    "\n",
    "        :param path: str, path to the data folder\n",
    "        :param symbols: list, list of symbols\n",
    "        :param symbol_index: int, index for the symbol\n",
    "        :param bar_choice: str, bar for information clock\n",
    "        \"\"\"\n",
    "        self._symbol_index = symbol_index\n",
    "        self._symbols = symbols\n",
    "        self._bar = bar_choice\n",
    "        self._symbol = self._symbols[self._symbol_index]\n",
    "        self._symbol_filepath = os.path.join(path, str(self._symbol))\n",
    "        self._list_of_files = os.listdir(self._symbol_filepath)\n",
    "\n",
    "    def get_data_and_path(self):\n",
    "        \"\"\"\n",
    "        Get list of files and path to those files.\n",
    "\n",
    "        :return: tuple, (list of files, path to those files)\n",
    "        \"\"\"\n",
    "        files_with_bar = [file for file in self._list_of_files if str(self._bar) in file]\n",
    "        return files_with_bar, self._symbol_filepath\n",
    "\n",
    "    def get_all_data_from_file(self, file_index):\n",
    "        \"\"\"\n",
    "        Get all data from file.\n",
    "\n",
    "        :param file_index: int, index of file in the list\n",
    "        :return: DataFrame, data from the file\n",
    "        \"\"\"\n",
    "        files_with_bar, symbol_filepath = self.get_data_and_path()\n",
    "        file_to_get = os.path.join(symbol_filepath, files_with_bar[file_index])\n",
    "        return pd.read_pickle(file_to_get)\n",
    "\n",
    "    def get_microvar_data(self, file_index, variable):\n",
    "        \"\"\"\n",
    "        Get microvar data.\n",
    "\n",
    "        :param file_index: int, index of file in the list\n",
    "        :param variable: str, micro-structure market variable\n",
    "        :return: DataFrame, microstructure variable data\n",
    "        \"\"\"\n",
    "        data_dict = self.get_all_data_from_file(file_index)\n",
    "        return data_dict[str(variable)]\n",
    "\n",
    "    @staticmethod\n",
    "    def compute_n_rho(var_a, var_b, window_sizes, polynomial_order):\n",
    "        \"\"\"\n",
    "        Compute n and Rho for the given variables.\n",
    "\n",
    "        :param var_a: Series, first variable for the dCCa rho\n",
    "        :param var_b: Series, second variable for the dCCa rho\n",
    "        :param window_sizes: list, window sizes used for the computation\n",
    "        :param polynomial_order: int, polynomial order\n",
    "        :return: tuple, (n, Rho)\n",
    "        \"\"\"\n",
    "\n",
    "        aggregated_var_a = utils.toAggregated(var_a)\n",
    "        aggregated_var_b = utils.toAggregated(var_b)\n",
    "        # Check if the last value in window_sizes is smaller than the input vector lengths\n",
    "        min_input_length = min(len(aggregated_var_a), len(aggregated_var_b))\n",
    "        if window_sizes[-1] >= min_input_length:\n",
    "            # Update the window_sizes array\n",
    "            window_sizes = [size for size in window_sizes if size < min_input_length]\n",
    "            window_sizes = np.asanyarray([int(size) for size in window_sizes],dtype=np.int64)\n",
    "        try:\n",
    "            dcca = fathon.DCCA(aggregated_var_a, aggregated_var_b)\n",
    "            n, _ = dcca.computeFlucVec(window_sizes, polOrd=polynomial_order)\n",
    "            _, rho = dcca.computeRho(window_sizes, polOrd=polynomial_order)\n",
    "        except ZeroDivisionError:\n",
    "            pass\n",
    "        return n, rho\n",
    "    @staticmethod\n",
    "    def compute_n_F_h_h_intercept_dcca(var_a, var_b, window_sizes, polynomial_order):\n",
    "        \"\"\"\n",
    "        Compute the Hurst exponent and the intercept of the linear regression using the DCCA method.\n",
    "\n",
    "        :param n: array, window sizes\n",
    "        :param rho: array, rho values corresponding to the window sizes\n",
    "        :return: tuple, (hurst_exponent, intercept)\n",
    "        \"\"\"\n",
    "        aggregated_var_a = utils.toAggregated(var_a)\n",
    "        aggregated_var_b = utils.toAggregated(var_b)\n",
    "        # Check if the last value in window_sizes is smaller than the input vector lengths\n",
    "        min_input_length = min(len(aggregated_var_a), len(aggregated_var_b))\n",
    "        if window_sizes[-1] >= min_input_length:\n",
    "            # Update the window_sizes array\n",
    "            window_sizes = [size for size in window_sizes if size < min_input_length]\n",
    "            window_sizes = np.asanyarray([int(size) for size in window_sizes],dtype=np.int64)\n",
    "        try:\n",
    "            dcca = fathon.DCCA(aggregated_var_a, aggregated_var_b)\n",
    "            n, F = dcca.computeFlucVec(window_sizes, polOrd=polynomial_order)\n",
    "            H, H_intercept = pydcca.fitFlucVec()\n",
    "        except ZeroDivisionError:\n",
    "            pass\n",
    "        return n, F, H, H_intercept\n"
   ]
  },
  {
   "cell_type": "code",
   "execution_count": 45,
   "id": "d2988d34",
   "metadata": {},
   "outputs": [],
   "source": [
    "cc3 = CrossCorrelation(path= exp_one_path, symbols=symbol_list, symbol_index= 3, bar_choice= 'tick')"
   ]
  },
  {
   "cell_type": "code",
   "execution_count": 46,
   "id": "f5fbe7e0",
   "metadata": {},
   "outputs": [],
   "source": [
    "list_of_files, symbol_path = cc3.get_data_and_path()\n",
    "data_from_file = cc3.get_all_data_from_file(3)\n",
    "mfdfa_data_for_file = data_from_file['tick'] # requires bar input"
   ]
  },
  {
   "cell_type": "code",
   "execution_count": 51,
   "id": "5a0a0aa9",
   "metadata": {},
   "outputs": [],
   "source": [
    "var_a = cc3.get_microvar_data(2, 'arrival_rates')\n",
    "var_b = cc3.get_microvar_data(2, 'median_traded_volume')\n",
    "index=0\n",
    "aggregated_var_a = utils.toAggregated(var_a)\n",
    "aggregated_var_b = utils.toAggregated(var_b)\n",
    "# # Check if the last value in window_sizes is smaller than the input vector lengths\n",
    "# min_input_length = min(len(aggregated_var_a), len(aggregated_var_b))\n",
    "# if window_sizes[-1] >= min_input_length:\n",
    "#     # Update the window_sizes array\n",
    "#         window_sizes = [size for size in window_sizes if size < min_input_length]\n",
    "#         window_sizes = np.asanyarray([int(size) for size in window_sizes],dtype=np.int64)\n",
    "# try:\n",
    "#     dcca = fathon.DCCA(aggregated_var_a, aggregated_var_b)\n",
    "#     n, _ = dcca.computeFlucVec(window_sizes, polOrd=polynomial_order)\n",
    "#     _, rho = dcca.computeRho(window_sizes, polOrd=polynomial_order)\n",
    "# except ZeroDivisionError:\n",
    "#     pass"
   ]
  },
  {
   "cell_type": "code",
   "execution_count": 42,
   "id": "6d30c87c",
   "metadata": {},
   "outputs": [
    {
     "data": {
      "text/plain": [
       "array([-0.00194493,  0.01077823,  0.00190351, -0.00715906, -0.01056668,\n",
       "       -0.01356149, -0.01729795, -0.0207053 , -0.02158909, -0.01991595,\n",
       "       -0.01682543, -0.01300241, -0.00847855, -0.00313096,  0.00273418,\n",
       "        0.00856487,  0.01387941,  0.01855371,  0.02274335,  0.02668775,\n",
       "        0.03048691,  0.03411193,  0.03743176,  0.04033947,  0.04284276,\n",
       "        0.04505329,  0.04710566,  0.04909785,  0.05110951,  0.05317847,\n",
       "        0.05531206,  0.05751641,  0.0597705 ,  0.06202193,  0.06424143,\n",
       "        0.06641752,  0.06852925,  0.07056299,  0.07252554,  0.07444849,\n",
       "        0.07636047,  0.07826817,  0.08015647,  0.08199829,  0.08376719,\n",
       "        0.08544432,  0.08701286,  0.08845927,  0.08978884,  0.09101205])"
      ]
     },
     "execution_count": 42,
     "metadata": {},
     "output_type": "execute_result"
    }
   ],
   "source": [
    "rho"
   ]
  },
  {
   "cell_type": "code",
   "execution_count": 48,
   "id": "997b94df",
   "metadata": {},
   "outputs": [],
   "source": [
    "n, rho =cc3.compute_n_rho(var_a=arrival_rates, var_b=median_traded_volume, window_sizes=window_sizes, polynomial_order=polynomial_order)"
   ]
  },
  {
   "cell_type": "code",
   "execution_count": 49,
   "id": "8707a351",
   "metadata": {},
   "outputs": [
    {
     "name": "stderr",
     "output_type": "stream",
     "text": [
      "/home/ak/anaconda3/envs/newTimeSeries/lib/python3.6/site-packages/ipykernel_launcher.py:105: RuntimeWarning: invalid value encountered in log\n"
     ]
    },
    {
     "data": {
      "text/plain": [
       "(nan, nan)"
      ]
     },
     "execution_count": 49,
     "metadata": {},
     "output_type": "execute_result"
    }
   ],
   "source": [
    "cc3.compute_h_h_intercept_dcca(n, rho)"
   ]
  },
  {
   "cell_type": "code",
   "execution_count": null,
   "id": "1c3dbbad",
   "metadata": {},
   "outputs": [],
   "source": [
    "@staticmethod\n",
    "def compute_h_h_intercept_dcca(args):\n",
    "var_a, var_b, idx, win_sizes, pol_ord = args\n",
    "a = fu.toAggregated(var_a[idx])\n",
    "b = fu.toAggregated(var_b[idx])\n",
    "\n",
    "n, h = pydcca.computeHurstVec(win_sizes, polOrd=pol_ord)\n",
    "h_intercept = pydcca.computeHurstIntercept()\n",
    "return n, h, h_intercept"
   ]
  },
  {
   "cell_type": "code",
   "execution_count": 54,
   "id": "d8821901",
   "metadata": {},
   "outputs": [],
   "source": []
  },
  {
   "cell_type": "code",
   "execution_count": 58,
   "id": "46e456c2",
   "metadata": {},
   "outputs": [],
   "source": [
    "n, F = pydcca.computeFlucVec(winSizes=window_sizes, polOrd=polynomial_order)\n",
    "\n",
    "H, H_intercept = pydcca.fitFlucVec()"
   ]
  },
  {
   "cell_type": "code",
   "execution_count": 62,
   "id": "d13f0d95",
   "metadata": {},
   "outputs": [
    {
     "data": {
      "text/plain": [
       "-0.3116545522780598"
      ]
     },
     "execution_count": 62,
     "metadata": {},
     "output_type": "execute_result"
    }
   ],
   "source": [
    "H_intercept"
   ]
  },
  {
   "cell_type": "code",
   "execution_count": 67,
   "id": "41963164",
   "metadata": {},
   "outputs": [
    {
     "ename": "AttributeError",
     "evalue": "module 'fathon' has no attribute 'MFDCCA'",
     "output_type": "error",
     "traceback": [
      "\u001b[0;31m---------------------------------------------------------------------------\u001b[0m",
      "\u001b[0;31mAttributeError\u001b[0m                            Traceback (most recent call last)",
      "\u001b[0;32m<ipython-input-67-a05f5323f75d>\u001b[0m in \u001b[0;36m<module>\u001b[0;34m\u001b[0m\n\u001b[1;32m      1\u001b[0m \u001b[0ma\u001b[0m \u001b[0;34m=\u001b[0m \u001b[0mutils\u001b[0m\u001b[0;34m.\u001b[0m\u001b[0mtoAggregated\u001b[0m\u001b[0;34m(\u001b[0m\u001b[0mvar_a\u001b[0m\u001b[0;34m)\u001b[0m\u001b[0;34m\u001b[0m\u001b[0;34m\u001b[0m\u001b[0m\n\u001b[1;32m      2\u001b[0m \u001b[0mb\u001b[0m \u001b[0;34m=\u001b[0m \u001b[0mutils\u001b[0m\u001b[0;34m.\u001b[0m\u001b[0mtoAggregated\u001b[0m\u001b[0;34m(\u001b[0m\u001b[0mvar_b\u001b[0m\u001b[0;34m)\u001b[0m\u001b[0;34m\u001b[0m\u001b[0;34m\u001b[0m\u001b[0m\n\u001b[0;32m----> 3\u001b[0;31m \u001b[0mpymfdcca\u001b[0m \u001b[0;34m=\u001b[0m \u001b[0mfathon\u001b[0m\u001b[0;34m.\u001b[0m\u001b[0mMFDCCA\u001b[0m\u001b[0;34m(\u001b[0m\u001b[0ma\u001b[0m\u001b[0;34m,\u001b[0m \u001b[0mb\u001b[0m\u001b[0;34m)\u001b[0m\u001b[0;34m\u001b[0m\u001b[0;34m\u001b[0m\u001b[0m\n\u001b[0m\u001b[1;32m      4\u001b[0m \u001b[0;34m\u001b[0m\u001b[0m\n\u001b[1;32m      5\u001b[0m \u001b[0mwinSizes\u001b[0m \u001b[0;34m=\u001b[0m \u001b[0mfu\u001b[0m\u001b[0;34m.\u001b[0m\u001b[0mlinRangeByStep\u001b[0m\u001b[0;34m(\u001b[0m\u001b[0;36m10\u001b[0m\u001b[0;34m,\u001b[0m \u001b[0;36m2000\u001b[0m\u001b[0;34m)\u001b[0m\u001b[0;34m\u001b[0m\u001b[0;34m\u001b[0m\u001b[0m\n",
      "\u001b[0;31mAttributeError\u001b[0m: module 'fathon' has no attribute 'MFDCCA'"
     ]
    }
   ],
   "source": [
    "a = utils.toAggregated(var_a)\n",
    "b = utils.toAggregated(var_b)\n",
    "pymfdcca = fathon.MFDCCA(a, b)\n",
    "\n",
    "winSizes = fu.linRangeByStep(10, 2000)\n",
    "qs = np.arange(-3, 4, 0.1)\n",
    "revSeg = True\n",
    "polOrd = 1\n",
    "\n",
    "n, F = pymfdcca.computeFlucVec(winSizes, qs, revSeg=revSeg, polOrd=polOrd)\n",
    "\n",
    "list_H, list_H_intercept = pymfdcca.fitFlucVec()\n",
    "\n",
    "\n",
    "\n"
   ]
  },
  {
   "cell_type": "code",
   "execution_count": 73,
   "id": "e052aff7",
   "metadata": {},
   "outputs": [
    {
     "name": "stdout",
     "output_type": "stream",
     "text": [
      "Requirement already satisfied: fathon in /home/ak/anaconda3/envs/newTimeSeries/lib/python3.6/site-packages (1.2)\n",
      "Requirement already satisfied: Cython in /home/ak/anaconda3/envs/newTimeSeries/lib/python3.6/site-packages (from fathon) (0.29.24)\n",
      "Requirement already satisfied: numpy>=1.15 in /home/ak/anaconda3/envs/newTimeSeries/lib/python3.6/site-packages (from fathon) (1.19.5)\n"
     ]
    }
   ],
   "source": [
    "!pip install --upgrade fathon"
   ]
  },
  {
   "cell_type": "code",
   "execution_count": null,
   "id": "ac339021",
   "metadata": {},
   "outputs": [],
   "source": []
  }
 ],
 "metadata": {
  "kernelspec": {
   "display_name": "Python 3",
   "language": "python",
   "name": "python3"
  },
  "language_info": {
   "codemirror_mode": {
    "name": "ipython",
    "version": 3
   },
   "file_extension": ".py",
   "mimetype": "text/x-python",
   "name": "python",
   "nbconvert_exporter": "python",
   "pygments_lexer": "ipython3",
   "version": "3.6.13"
  }
 },
 "nbformat": 4,
 "nbformat_minor": 5
}
