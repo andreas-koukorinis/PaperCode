{
 "cells": [
  {
   "cell_type": "code",
   "execution_count": 75,
   "id": "a6e2299c",
   "metadata": {},
   "outputs": [],
   "source": [
    "import pandas as pd\n",
    "import numpy as np\n",
    "import sys\n",
    "import multiprocessing\n",
    "import time\n",
    "import os\n",
    "import matplotlib.pyplot as plt\n",
    "import seaborn as sns\n",
    "from dateutil.parser import parse\n",
    "from pandas.tseries.offsets import BDay\n",
    "import pickle as pkl\n",
    "import fnmatch\n",
    "\n",
    "# extra imports\n",
    "from collections import OrderedDict\n",
    "from itertools import zip_longest\n",
    "import datetime as dt\n",
    "from datetime import timedelta\n",
    "\n",
    "import glob\n",
    "import fathon\n",
    "from fathon import fathonUtils as fu\n",
    "\n",
    "\n",
    "import matplotlib as mpl\n",
    "from multiprocessing import Pool, freeze_support, Manager\n",
    "\n",
    "import itertools\n",
    "colormap = plt.cm.RdBu\n",
    "plt.style.use(os.path.join(mpl.get_configdir(),'latexstyle.mplstyle'))\n",
    "from collections import defaultdict\n",
    "# import freqopttest.kernel as kernel"
   ]
  },
  {
   "cell_type": "code",
   "execution_count": 76,
   "id": "88f1bc18",
   "metadata": {},
   "outputs": [],
   "source": [
    "def linRangeByStep(start, end, step=1):\n",
    "    \"\"\"Array of linearly separated elements.\n",
    "    \n",
    "    Parameters\n",
    "    ----------\n",
    "    start : int\n",
    "        Smallest element.\n",
    "    end : int\n",
    "        Biggest element.\n",
    "    step : int\n",
    "        Step between two consecutive elements (default : 1).\n",
    "    Returns\n",
    "    -------\n",
    "    numpy ndarray\n",
    "        Array of linearly separated elements.\n",
    "    \"\"\"\n",
    "    return np.arange(start, end + 1, step, dtype=np.int64)\n",
    "\n",
    "def linRangeByCount(start, end, count=-1):\n",
    "    \"\"\"Array of linearly separated elements.\n",
    "    \n",
    "    Parameters\n",
    "    ----------\n",
    "    start : int\n",
    "        Smallest element.\n",
    "    end : int\n",
    "        Biggest element.\n",
    "    count : int\n",
    "        Number of elements (default : `end` - `start` + 1).\n",
    "    Returns\n",
    "    -------\n",
    "    numpy ndarray\n",
    "        Array of linearly separated elements.\n",
    "    \"\"\"\n",
    "    if count == -1 or count > (end - start + 1):\n",
    "        count = end - start + 1\n",
    "        \n",
    "    return np.linspace(start, end, count, endpoint=True, dtype=np.int64)"
   ]
  },
  {
   "cell_type": "code",
   "execution_count": 77,
   "id": "0c11c623",
   "metadata": {},
   "outputs": [
    {
     "data": {
      "text/plain": [
       "['latexstyle.mplstyle']"
      ]
     },
     "execution_count": 77,
     "metadata": {},
     "output_type": "execute_result"
    }
   ],
   "source": [
    "import os\n",
    "os.listdir('/home/ak/.config/matplotlib/')"
   ]
  },
  {
   "cell_type": "code",
   "execution_count": 78,
   "id": "a32c2b9a",
   "metadata": {},
   "outputs": [],
   "source": [
    "t71 = '/media/ak/T7/August11th2022Experiments/'\n",
    "expInputFiles = os.path.join(t71,'ExperimentInputFiles' )\n",
    "expOne = os.path.join(t71, 'ExperimentOne')\n",
    "figuresDestination = '/home/ak/Documents/Papers/StylisedFactsPaper/figures/'\n",
    "#n: Array of window's sizes used for the computation.\n",
    "n =[10, 11, 12, 13, 14, 15, 16, 17, 18, 19, 20, 21, 22, 23, 24, 25, 26, 27, 28, 29, 30, 31, 32, 33, 34, 35, 36, 37, 38, 39, 40, 41, 42, 43, 44, 45, 46, 47, 48, 49, 50, 51, 52, 53, 54, 55, 56, 57, 58, 59, 60, 61, 62, 63, 64, 65, 66, 67, 68, 69, 70, 71, 72, 73, 74, 75, 76, 77, 78, 79]"
   ]
  },
  {
   "cell_type": "code",
   "execution_count": null,
   "id": "61bb7876",
   "metadata": {},
   "outputs": [],
   "source": []
  },
  {
   "cell_type": "code",
   "execution_count": 93,
   "id": "17c4fdf1",
   "metadata": {},
   "outputs": [
    {
     "data": {
      "text/plain": [
       "146"
      ]
     },
     "execution_count": 93,
     "metadata": {},
     "output_type": "execute_result"
    }
   ],
   "source": [
    "symbols = ['FB1', 'JB1', 'XM1', 'TY1', 'TU1', 'RX1', 'YM1', 'US1', 'DU1']\n",
    "#dollar-->YM1, US1 has not the right data\n",
    "#tick -->\n",
    "symbol = 'YM1'\n",
    "symbol_path = os.path.join(expOne,str(symbol))\n",
    "## bar\n",
    "bar = 'tick'\n",
    "bar_mfdfa_files =sorted([f for f in os.listdir(symbol_path) if str(bar) in f])\n",
    "len(bar_mfdfa_files) # this is the number of files that have symbol and bar!"
   ]
  },
  {
   "cell_type": "code",
   "execution_count": null,
   "id": "f222bac1",
   "metadata": {},
   "outputs": [],
   "source": []
  },
  {
   "cell_type": "code",
   "execution_count": 97,
   "id": "4b1dc430",
   "metadata": {
    "scrolled": true
   },
   "outputs": [
    {
     "data": {
      "text/plain": [
       "dict_keys(['micro_price_change', 'arrival_rates', 'gk_vol', 'median_traded_volume', 'tick'])"
      ]
     },
     "execution_count": 97,
     "metadata": {},
     "output_type": "execute_result"
    }
   ],
   "source": [
    "idx = 20\n",
    "tickIdxMfdfaFileLoc = os.path.join(symbol_path, bar_mfdfa_files[idx]) # location of dictionary\n",
    "# dictionary has the following keys:\n",
    "\n",
    "dictf = pd.read_pickle(tickIdxMfdfaFileLoc)\n",
    "dictf.keys()"
   ]
  },
  {
   "cell_type": "raw",
   "id": "64cf9236",
   "metadata": {},
   "source": [
    "['micro_price_change',   # mp change\n",
    " 'arrival_rates', #arrival rate\n",
    " 'gk_vol',# vol\n",
    " 'median_traded_volume', #volume\n",
    " 'tick'] #bar --> this should contain all the mfdfa details!"
   ]
  },
  {
   "cell_type": "code",
   "execution_count": 98,
   "id": "833ad2a1",
   "metadata": {},
   "outputs": [],
   "source": [
    "#     Parameters\n",
    "#     ----------\n",
    "#     n : numpy ndarray\n",
    "#         Array of window's sizes used for the computation.\n",
    "#     tsVec : iterable\n",
    "#         Time series used for the analysis.\n",
    "#     F : numpy ndarray\n",
    "#         Array containing the values of the fluctuations in each window.\n",
    "#     listH : numpy ndarray\n",
    "#         Array containing the values of the slope of the fit at each q-order.\n",
    "#     qList : numpy ndarray\n",
    "#         Array containing the values of the q-orders."
   ]
  },
  {
   "cell_type": "code",
   "execution_count": 99,
   "id": "8bd6eb74",
   "metadata": {},
   "outputs": [],
   "source": [
    "micro_variables = ['arrival_rates', 'gk_vol', 'median_traded_volume', 'micro_price_change'] # all the micro variables\n",
    "\n",
    "gk_vol_dict = defaultdict(dict) # vol dictionary\n",
    "\n",
    "#mfdfa details for the data above\n",
    "arrival_rates_dict = defaultdict(dict)\n",
    "\n",
    "median_traded_volume_dict = defaultdict(dict)\n",
    "micro_price_change_dict = defaultdict(dict)\n",
    "\n",
    "mfdfa_dict = defaultdict(dict)\n",
    "\n",
    "tau_dict = defaultdict(dict)\n",
    "\n",
    "alpha_dict = defaultdict(dict)\n",
    "\n",
    "mfSpect_dict = defaultdict(dict)\n",
    "\n",
    "list_H_intercept_dict = defaultdict(dict)\n",
    "\n",
    "list_H_dict = defaultdict(dict)\n",
    "\n",
    "n_F_dict = defaultdict(dict)\n",
    "\n",
    "\n",
    "for idx in range(0, len(bar_mfdfa_files)):\n",
    "    \n",
    "    barIdxMfdfaFileLoc = os.path.join(symbol_path, bar_mfdfa_files[idx]) # location of file for symbol/bar combination\n",
    "    pkl_dict = pd.read_pickle(barIdxMfdfaFileLoc) # read the pickle file\n",
    "    keys = sorted(list(pd.read_pickle(barIdxMfdfaFileLoc).keys())) # get out all the keys\n",
    "    \n",
    "    bar = list(set(keys).difference(set(micro_variables)))[0] # get out the bar-choice\n",
    "     \n",
    "    gk_vol_dict[idx][bar] = pkl_dict['gk_vol'] # get the vol\n",
    "    median_traded_volume_dict[idx][bar] = pkl_dict['median_traded_volume'] #get the volume\n",
    "    arrival_rates_dict[idx][bar] = pkl_dict['arrival_rates'] #get arrival rates\n",
    "    micro_price_change_dict[idx][bar] = pkl_dict['micro_price_change'] # get micro price change\n",
    "    #---- start getting all the mfdfa variables ----#\n",
    "    tau_dict[idx][bar] = pkl_dict[str(bar)]['tau'] # tau\n",
    "    alpha_dict[idx][bar] = pkl_dict[str(bar)]['alpha'] # alpha\n",
    "    mfSpect_dict[idx][bar] = pkl_dict[str(bar)]['mfSpect'] # mfSpect\n",
    "    n_F_dict[idx][bar] = pkl_dict[str(bar)]['n_F'] # n_F\n",
    "    list_H_dict[idx][bar] = pkl_dict[str(bar)]['list_H'] # list_H\n",
    "    list_H_intercept_dict[idx][bar] = pkl_dict[str(bar)]['list_H_intercept'] # intercept\n",
    "    n_F_dict[idx][bar] = pkl_dict[str(bar)]['n_F'] #n,F\n",
    "    \n",
    "    \n",
    "    \n",
    "    \n",
    "    \n",
    "                       \n",
    "    \n"
   ]
  },
  {
   "cell_type": "code",
   "execution_count": 183,
   "id": "f8c15d79",
   "metadata": {},
   "outputs": [
    {
     "data": {
      "text/plain": [
       "dict_keys([0, 1, 2, 3, 4, 5, 6, 7, 8, 9, 10, 11, 12, 13, 14, 15, 16, 17, 18, 19, 20, 21, 22, 23, 24, 25, 26, 27, 28, 29, 30, 31, 32, 33, 34, 35, 36, 37, 38, 39, 40, 41, 42, 43, 44, 45, 46, 47, 48, 49, 50, 51, 52, 53, 54, 55, 56, 57, 58, 59, 60, 61, 62, 63, 64, 65, 66, 67, 68, 69, 70, 71, 72, 73, 74, 75, 76, 77, 78, 79, 80, 81, 82, 83, 84, 85, 86, 87, 88, 89, 90, 91, 92, 93, 94, 95, 96, 97, 98, 99, 100, 101, 102, 103, 104, 105, 106, 107, 108, 109, 110, 111, 112, 113, 114, 115, 116, 117, 118, 119, 120, 121, 122, 123, 124, 125, 126, 127, 128, 129, 130, 131, 132, 133, 134, 135, 136, 137, 138, 139, 140, 141, 142, 143, 144, 145, 'dollar', 'tick'])"
      ]
     },
     "execution_count": 183,
     "metadata": {},
     "output_type": "execute_result"
    }
   ],
   "source": [
    "micro_price_change_dict.keys()"
   ]
  },
  {
   "cell_type": "code",
   "execution_count": null,
   "id": "aa359b9a",
   "metadata": {},
   "outputs": [],
   "source": []
  },
  {
   "cell_type": "code",
   "execution_count": 100,
   "id": "3275987d",
   "metadata": {},
   "outputs": [],
   "source": [
    "# micro_price_change_dict"
   ]
  },
  {
   "cell_type": "code",
   "execution_count": 163,
   "id": "a28e3f45",
   "metadata": {},
   "outputs": [],
   "source": [
    "name='dollar'\n",
    "d =micro_price_change_dict # just define a variable based on one dictionary\n",
    "g = gk_vol_dict\n",
    "\n"
   ]
  },
  {
   "cell_type": "code",
   "execution_count": 102,
   "id": "5ef791a9",
   "metadata": {},
   "outputs": [
    {
     "data": {
      "text/plain": [
       "['dollar', 'tick', 'volume']"
      ]
     },
     "execution_count": 102,
     "metadata": {},
     "output_type": "execute_result"
    }
   ],
   "source": [
    "# get all second level keys of all first level keys together (set comprehension)\n",
    "sorted(list({k2 for v in d.values() for k2 in v}))"
   ]
  },
  {
   "cell_type": "code",
   "execution_count": 103,
   "id": "9715433c",
   "metadata": {},
   "outputs": [],
   "source": [
    "# get all first level keys\n",
    "\n",
    "#list(d.keys())"
   ]
  },
  {
   "cell_type": "code",
   "execution_count": 114,
   "id": "6696efde",
   "metadata": {},
   "outputs": [],
   "source": [
    "# get all possible pairs of  (first, second) keys\n",
    "tick_all_indices=[(k1,k2) for (k1, v) in d.items() for k2 in v if k2=='tick' ]\n",
    "volume_all_indices=[(k1) for (k1, v) in d.items() for k2 in v if k2=='volume' ]\n",
    "dollar_all_indices=[(k1) for (k1, v) in d.items() for k2 in v if k2=='dollar' ]"
   ]
  },
  {
   "cell_type": "code",
   "execution_count": 159,
   "id": "369a038d",
   "metadata": {},
   "outputs": [],
   "source": [
    "# tick_all_indices\n",
    "# dollar_all_indices\n",
    "# tick_all_indices"
   ]
  },
  {
   "cell_type": "code",
   "execution_count": 116,
   "id": "02a7b061",
   "metadata": {},
   "outputs": [],
   "source": [
    "# sorted(list({k2 for v in d.values() for k2 in v}))"
   ]
  },
  {
   "cell_type": "code",
   "execution_count": 117,
   "id": "e179d96f",
   "metadata": {},
   "outputs": [],
   "source": [
    "\n",
    "micro_price_change = dict()\n",
    "mfSpect_bar_choice = dict()\n",
    "alpha_bar_choice = dict()\n",
    "gk_vol = dict()\n",
    "\n",
    "\n",
    "for f in dollar_all_indices: \n",
    "    \n",
    "    micro_price_change[f] = d[f][str(bar)]\n",
    "    mfSpect_bar_choice[f] = mfSpect_dict[f][str(bar)] \n",
    "    alpha_bar_choice[f] = alpha_dict[f][str(bar)] \n",
    "    gk_vol[f] = gk_vol_dict[f][str(bar)]"
   ]
  },
  {
   "cell_type": "code",
   "execution_count": 118,
   "id": "8c19d3ca",
   "metadata": {},
   "outputs": [
    {
     "data": {
      "text/plain": [
       "count    3.319240e+05\n",
       "mean     2.401036e-09\n",
       "std      8.679750e-08\n",
       "min      0.000000e+00\n",
       "25%      0.000000e+00\n",
       "50%      0.000000e+00\n",
       "75%      0.000000e+00\n",
       "max      8.060986e-06\n",
       "dtype: float64"
      ]
     },
     "execution_count": 118,
     "metadata": {},
     "output_type": "execute_result"
    }
   ],
   "source": [
    "pd.DataFrame.from_dict(gk_vol).median(axis=1).describe()"
   ]
  },
  {
   "cell_type": "code",
   "execution_count": 186,
   "id": "9edd6c42",
   "metadata": {},
   "outputs": [
    {
     "data": {
      "text/plain": [
       "(331924, 79)"
      ]
     },
     "execution_count": 186,
     "metadata": {},
     "output_type": "execute_result"
    }
   ],
   "source": [
    "mpc_df =pd.DataFrame.from_dict(micro_price_change).fillna(0)\n",
    "mpc_df.shape"
   ]
  },
  {
   "cell_type": "code",
   "execution_count": 185,
   "id": "f59d54d8",
   "metadata": {},
   "outputs": [
    {
     "data": {
      "text/plain": [
       "dict_keys([0, 1, 2, 4, 5, 6, 7, 8, 9, 11, 12, 16, 17, 18, 19, 23, 24, 25, 26, 27, 28, 36, 37, 38, 45, 49, 50, 51, 52, 53, 54, 55, 57, 60, 61, 62, 66, 69, 70, 72, 73, 74, 75, 76, 77, 78, 82, 83, 84, 85, 86, 89, 90, 91, 92, 93, 94, 95, 102, 103, 104, 111, 119, 120, 121, 125, 126, 127, 132, 133, 134, 138, 139, 140, 141, 142, 143, 144, 145])"
      ]
     },
     "execution_count": 185,
     "metadata": {},
     "output_type": "execute_result"
    }
   ],
   "source": [
    "mfSpect_bar_choice.keys()"
   ]
  },
  {
   "cell_type": "code",
   "execution_count": 148,
   "id": "d3028f9b",
   "metadata": {},
   "outputs": [],
   "source": [
    "std_df =pd.DataFrame()\n"
   ]
  },
  {
   "cell_type": "code",
   "execution_count": 150,
   "id": "439a87bb",
   "metadata": {},
   "outputs": [],
   "source": [
    "std= mpc_df.std(axis=0)\n",
    "std_df['std'] = std\n",
    "first_regime = np.quantile(std, 0.33) # thresholds based on the definition of a median\n",
    "second_regime = np.quantile(std, 0.66)"
   ]
  },
  {
   "cell_type": "code",
   "execution_count": 140,
   "id": "dc3e11f0",
   "metadata": {},
   "outputs": [
    {
     "name": "stdout",
     "output_type": "stream",
     "text": [
      "0.007762186968310944 0.01097705350998804\n"
     ]
    }
   ],
   "source": [
    "print(first_regime, second_regime)"
   ]
  },
  {
   "cell_type": "code",
   "execution_count": 157,
   "id": "b4d1b4d2",
   "metadata": {},
   "outputs": [],
   "source": [
    "std_df\n",
    "std_df['LowRegime'] = std_df['std'].apply(lambda x: '1' if x <= first_regime else '0')\n",
    "std_df['HiRegime'] = std_df['std'].apply(lambda x: '1' if x >= second_regime else '0')\n",
    "std_df['MidRegime'] = std_df['std'].apply(lambda x: '1' if first_regime<x < second_regime else '0')\n",
    "\n",
    "\n"
   ]
  },
  {
   "cell_type": "code",
   "execution_count": 176,
   "id": "fa9e1f65",
   "metadata": {},
   "outputs": [
    {
     "data": {
      "text/plain": [
       "(79, 4)"
      ]
     },
     "execution_count": 176,
     "metadata": {},
     "output_type": "execute_result"
    }
   ],
   "source": [
    "std_df.shape"
   ]
  },
  {
   "cell_type": "code",
   "execution_count": 170,
   "id": "7fcad5dd",
   "metadata": {},
   "outputs": [],
   "source": [
    "std_df\n",
    "low_regime_indices = std_df.index[std_df['LowRegime'] == '1'].tolist()\n",
    "hi_regime_indices = std_df.index[std_df['HiRegime'] == '1'].tolist()\n",
    "mid_regime_indices = std_df.index[std_df['MidRegime'] == '1'].tolist()"
   ]
  },
  {
   "cell_type": "code",
   "execution_count": 178,
   "id": "f63f33e7",
   "metadata": {},
   "outputs": [
    {
     "data": {
      "text/plain": [
       "79"
      ]
     },
     "execution_count": 178,
     "metadata": {},
     "output_type": "execute_result"
    }
   ],
   "source": [
    "len(hi_regime_indices)+len(low_regime_indices)+len(mid_regime_indices) \n",
    "\n",
    "# these are all dates, so this should match to the shape of the mpc dataframe in terms of dates!"
   ]
  },
  {
   "cell_type": "code",
   "execution_count": 38,
   "id": "5831999b",
   "metadata": {},
   "outputs": [
    {
     "name": "stdout",
     "output_type": "stream",
     "text": [
      "(38, 98) (38, 98)\n"
     ]
    }
   ],
   "source": [
    "# for f in tick_all_indices:\n",
    "#     print(d[f]['tick'])\n",
    "mf_spect_df = pd.DataFrame.from_dict(mfSpect_bar_choice).dropna(0)\n",
    "alpha_df = pd.DataFrame.from_dict(alpha_bar_choice).dropna(0)\n",
    "\n",
    "print(mf_spect_df.shape, alpha_df.shape)\n",
    "#rows x columns"
   ]
  },
  {
   "cell_type": "code",
   "execution_count": 18,
   "id": "c1457943",
   "metadata": {},
   "outputs": [
    {
     "data": {
      "text/plain": [
       "98"
      ]
     },
     "execution_count": 18,
     "metadata": {},
     "output_type": "execute_result"
    }
   ],
   "source": [
    "df = pd.DataFrame.from_dict(micro_price_change).dropna()\n",
    "median_all_pct_change= pd.DataFrame(df.median(axis=0))\n",
    "median_all_pct_change.shape\n",
    "len(list(df.columns))"
   ]
  },
  {
   "cell_type": "code",
   "execution_count": null,
   "id": "08a3daf9",
   "metadata": {},
   "outputs": [],
   "source": []
  },
  {
   "cell_type": "code",
   "execution_count": 142,
   "id": "5f2e29ca",
   "metadata": {},
   "outputs": [],
   "source": [
    "gk_vol_df = pd.DataFrame.from_dict(gk_vol)\n",
    "mean = pd.DataFrame.from_dict(gk_vol).median(axis=0)\n",
    "first_regime = np.quantile(mean, 0.33) # thresholds based on the definition of a median\n",
    "second_regime = np.quantile(mean, 0.66)"
   ]
  },
  {
   "cell_type": "code",
   "execution_count": null,
   "id": "7df553b8",
   "metadata": {},
   "outputs": [],
   "source": []
  },
  {
   "cell_type": "code",
   "execution_count": 20,
   "id": "65255b9a",
   "metadata": {},
   "outputs": [],
   "source": [
    "# df['regime'], b = pd.qcut(df['median'].values, q = [0, 0.33, 0.66, 1], duplicates = 'drop',retbins = True)\n",
    "# # c, b = pd.qcut(df['median'].values, q = [0, 0.25, 0.5, 0.75, 1], duplicates = 'drop',retbins = True)"
   ]
  },
  {
   "cell_type": "code",
   "execution_count": 141,
   "id": "82de89a0",
   "metadata": {},
   "outputs": [
    {
     "data": {
      "text/plain": [
       "count    97.000000\n",
       "mean      0.000050\n",
       "std       0.000025\n",
       "min       0.000000\n",
       "25%       0.000057\n",
       "50%       0.000061\n",
       "75%       0.000064\n",
       "max       0.000076\n",
       "dtype: float64"
      ]
     },
     "execution_count": 141,
     "metadata": {},
     "output_type": "execute_result"
    }
   ],
   "source": [
    "mean.describe()"
   ]
  },
  {
   "cell_type": "code",
   "execution_count": 61,
   "id": "f5a9c31e",
   "metadata": {},
   "outputs": [],
   "source": [
    "regime_df = pd.DataFrame(regime_dict)\n",
    "regimes_count = dict()\n",
    "for i in range(0,regime_df.shape[1]):\n",
    "    regimes_count[i] = (regime_df.iloc[i].value_counts())\n"
   ]
  },
  {
   "cell_type": "code",
   "execution_count": 62,
   "id": "1488ccbb",
   "metadata": {},
   "outputs": [],
   "source": [
    "regime_counts_df = pd.DataFrame(regimes_count)"
   ]
  },
  {
   "cell_type": "code",
   "execution_count": 63,
   "id": "654d2ff7",
   "metadata": {},
   "outputs": [
    {
     "data": {
      "text/html": [
       "<div>\n",
       "<style scoped>\n",
       "    .dataframe tbody tr th:only-of-type {\n",
       "        vertical-align: middle;\n",
       "    }\n",
       "\n",
       "    .dataframe tbody tr th {\n",
       "        vertical-align: top;\n",
       "    }\n",
       "\n",
       "    .dataframe thead th {\n",
       "        text-align: right;\n",
       "    }\n",
       "</style>\n",
       "<table border=\"1\" class=\"dataframe\">\n",
       "  <thead>\n",
       "    <tr style=\"text-align: right;\">\n",
       "      <th></th>\n",
       "    </tr>\n",
       "  </thead>\n",
       "  <tbody>\n",
       "  </tbody>\n",
       "</table>\n",
       "</div>"
      ],
      "text/plain": [
       "Empty DataFrame\n",
       "Columns: []\n",
       "Index: []"
      ]
     },
     "execution_count": 63,
     "metadata": {},
     "output_type": "execute_result"
    }
   ],
   "source": [
    "\n",
    "regime_counts_df # now you have how much time the price change has been on each regime!"
   ]
  },
  {
   "cell_type": "code",
   "execution_count": 42,
   "id": "4c98dbef",
   "metadata": {},
   "outputs": [],
   "source": [
    "a= (micro_price_change_dict[1]['dollar'])"
   ]
  },
  {
   "cell_type": "code",
   "execution_count": 43,
   "id": "0813e785",
   "metadata": {},
   "outputs": [],
   "source": [
    "pydfa = fathon.DFA(a)"
   ]
  },
  {
   "cell_type": "code",
   "execution_count": 27,
   "id": "a799bf03",
   "metadata": {},
   "outputs": [],
   "source": [
    "winSizes = fu.linRangeByStep(10, 2000)\n",
    "revSeg = True\n",
    "polOrd = 3"
   ]
  },
  {
   "cell_type": "code",
   "execution_count": 28,
   "id": "358cec41",
   "metadata": {},
   "outputs": [
    {
     "name": "stdout",
     "output_type": "stream",
     "text": [
      "CPU times: user 7.51 s, sys: 57.9 ms, total: 7.57 s\n",
      "Wall time: 494 ms\n"
     ]
    }
   ],
   "source": [
    "%%time\n",
    "n, F = pydfa.computeFlucVec(winSizes, revSeg=revSeg, polOrd=polOrd)"
   ]
  },
  {
   "cell_type": "code",
   "execution_count": 29,
   "id": "9cddfa64",
   "metadata": {},
   "outputs": [
    {
     "data": {
      "text/plain": [
       "1991"
      ]
     },
     "execution_count": 29,
     "metadata": {},
     "output_type": "execute_result"
    }
   ],
   "source": [
    "len(n)"
   ]
  },
  {
   "cell_type": "code",
   "execution_count": null,
   "id": "8a3ccb5b",
   "metadata": {},
   "outputs": [],
   "source": []
  }
 ],
 "metadata": {
  "kernelspec": {
   "display_name": "Python 3 (ipykernel)",
   "language": "python",
   "name": "python3"
  },
  "language_info": {
   "codemirror_mode": {
    "name": "ipython",
    "version": 3
   },
   "file_extension": ".py",
   "mimetype": "text/x-python",
   "name": "python",
   "nbconvert_exporter": "python",
   "pygments_lexer": "ipython3",
   "version": "3.7.12"
  }
 },
 "nbformat": 4,
 "nbformat_minor": 5
}
