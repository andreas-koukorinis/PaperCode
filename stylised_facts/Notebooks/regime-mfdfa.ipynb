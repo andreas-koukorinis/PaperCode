{
 "cells": [
  {
   "cell_type": "code",
   "execution_count": 1,
   "id": "79fed02b",
   "metadata": {},
   "outputs": [],
   "source": [
    "import pandas as pd\n",
    "import numpy as np\n",
    "import sys\n",
    "import multiprocessing\n",
    "import time\n",
    "import os\n",
    "import matplotlib.pyplot as plt\n",
    "import seaborn as sns\n",
    "from dateutil.parser import parse\n",
    "from pandas.tseries.offsets import BDay\n",
    "import pickle as pkl\n",
    "import fnmatch\n",
    "\n",
    "# extra imports\n",
    "from collections import OrderedDict\n",
    "from itertools import zip_longest\n",
    "import datetime as dt\n",
    "from datetime import timedelta\n",
    "\n",
    "import glob\n",
    "import fathon\n",
    "from fathon import fathonUtils as fu\n",
    "\n",
    "\n",
    "import matplotlib as mpl\n",
    "from multiprocessing import Pool, freeze_support, Manager\n",
    "\n",
    "import itertools\n",
    "colormap = plt.cm.RdBu\n",
    "plt.style.use(os.path.join(mpl.get_configdir(),'latexstyle.mplstyle'))\n",
    "from collections import defaultdict\n",
    "# import freqopttest.kernel as kernel"
   ]
  },
  {
   "cell_type": "code",
   "execution_count": 113,
   "id": "314a0073",
   "metadata": {},
   "outputs": [],
   "source": [
    "def linRangeByStep(start, end, step=1):\n",
    "    \"\"\"Array of linearly separated elements.\n",
    "    \n",
    "    Parameters\n",
    "    ----------\n",
    "    start : int\n",
    "        Smallest element.\n",
    "    end : int\n",
    "        Biggest element.\n",
    "    step : int\n",
    "        Step between two consecutive elements (default : 1).\n",
    "    Returns\n",
    "    -------\n",
    "    numpy ndarray\n",
    "        Array of linearly separated elements.\n",
    "    \"\"\"\n",
    "    return np.arange(start, end + 1, step, dtype=np.int64)\n",
    "\n",
    "def linRangeByCount(start, end, count=-1):\n",
    "    \"\"\"Array of linearly separated elements.\n",
    "    \n",
    "    Parameters\n",
    "    ----------\n",
    "    start : int\n",
    "        Smallest element.\n",
    "    end : int\n",
    "        Biggest element.\n",
    "    count : int\n",
    "        Number of elements (default : `end` - `start` + 1).\n",
    "    Returns\n",
    "    -------\n",
    "    numpy ndarray\n",
    "        Array of linearly separated elements.\n",
    "    \"\"\"\n",
    "    if count == -1 or count > (end - start + 1):\n",
    "        count = end - start + 1\n",
    "        \n",
    "    return np.linspace(start, end, count, endpoint=True, dtype=np.int64)"
   ]
  },
  {
   "cell_type": "code",
   "execution_count": 2,
   "id": "c4619774",
   "metadata": {},
   "outputs": [
    {
     "data": {
      "text/plain": [
       "['latexstyle.mplstyle']"
      ]
     },
     "execution_count": 2,
     "metadata": {},
     "output_type": "execute_result"
    }
   ],
   "source": [
    "import os\n",
    "os.listdir('/home/ak/.config/matplotlib/')"
   ]
  },
  {
   "cell_type": "code",
   "execution_count": 3,
   "id": "405e7085",
   "metadata": {},
   "outputs": [],
   "source": [
    "t71 = '/media/ak/T7/August11th2022Experiments/'\n",
    "expInputFiles = os.path.join(t71,'ExperimentInputFiles' )\n",
    "expOne = os.path.join(t71, 'ExperimentOne')\n",
    "figuresDestination = '/home/ak/Documents/Papers/StylisedFactsPaper/figures/'\n",
    "n =[10, 11, 12, 13, 14, 15, 16, 17, 18, 19, 20, 21, 22, 23, 24, 25, 26, 27, 28, 29, 30, 31, 32, 33, 34, 35, 36, 37, 38, 39, 40, 41, 42, 43, 44, 45, 46, 47, 48, 49, 50, 51, 52, 53, 54, 55, 56, 57, 58, 59, 60, 61, 62, 63, 64, 65, 66, 67, 68, 69, 70, 71, 72, 73, 74, 75, 76, 77, 78, 79]"
   ]
  },
  {
   "cell_type": "code",
   "execution_count": 4,
   "id": "4ca8260b",
   "metadata": {},
   "outputs": [
    {
     "data": {
      "text/plain": [
       "146"
      ]
     },
     "execution_count": 4,
     "metadata": {},
     "output_type": "execute_result"
    }
   ],
   "source": [
    "YM1 = os.path.join(expOne,'YM1')\n",
    "tick_mfdfa_files =sorted([f for f in os.listdir(YM1) if str('tick') in f])\n",
    "len(tick_mfdfa_files)"
   ]
  },
  {
   "cell_type": "code",
   "execution_count": 5,
   "id": "67cf6bb0",
   "metadata": {},
   "outputs": [],
   "source": [
    "idx = 10\n",
    "tickIdxMfdfaFileLoc = os.path.join(YM1, tick_mfdfa_files[idx])\n"
   ]
  },
  {
   "cell_type": "code",
   "execution_count": 6,
   "id": "210d946b",
   "metadata": {},
   "outputs": [
    {
     "data": {
      "text/plain": [
       "0        0.000000e+00\n",
       "1       -1.331701e-07\n",
       "2       -1.745295e-07\n",
       "3       -3.448398e-07\n",
       "4        6.752016e-08\n",
       "             ...     \n",
       "82454   -1.392161e-07\n",
       "82455    1.603283e-07\n",
       "82456    5.294183e-09\n",
       "82457    8.222602e-06\n",
       "82458   -1.733489e-08\n",
       "Name: pct_change_micro_price, Length: 82459, dtype: float64"
      ]
     },
     "execution_count": 6,
     "metadata": {},
     "output_type": "execute_result"
    }
   ],
   "source": [
    "pd.read_pickle(tickIdxMfdfaFileLoc)['micro_price_change']"
   ]
  },
  {
   "cell_type": "code",
   "execution_count": 7,
   "id": "49d56a16",
   "metadata": {},
   "outputs": [],
   "source": [
    "micro_variables = ['arrival_rates', 'gk_vol', 'median_traded_volume', 'micro_price_change']\n",
    "\n",
    "gk_vol_dict = defaultdict(dict)\n",
    "\n",
    "arrival_rates_dict = defaultdict(dict)\n",
    "median_traded_volume_dict = defaultdict(dict)\n",
    "micro_price_change_dict = defaultdict(dict)\n",
    "mfdfa_dict = defaultdict(dict)\n",
    "tau_dict = defaultdict(dict)\n",
    "alpha_dict = defaultdict(dict)\n",
    "mfSpect_dict = defaultdict(dict)\n",
    "list_H_intercept_dict = defaultdict(dict)\n",
    "list_H_dict = defaultdict(dict)\n",
    "n_F_dict = defaultdict(dict)\n",
    "\n",
    "\n",
    "for idx in range(0, 146):\n",
    "    tickIdxMfdfaFileLoc = os.path.join(YM1, tick_mfdfa_files[idx])\n",
    "    pkl_dict = pd.read_pickle(tickIdxMfdfaFileLoc)\n",
    "    keys = sorted(list(pd.read_pickle(tickIdxMfdfaFileLoc).keys()))\n",
    "    bar = list(set(keys).difference(set(micro_variables)))[0]\n",
    "    gk_vol_dict[idx][bar] = pkl_dict['gk_vol']\n",
    "    median_traded_volume_dict[idx][bar] = pkl_dict['median_traded_volume']\n",
    "    arrival_rates_dict[idx][bar] = pkl_dict['arrival_rates']\n",
    "    micro_price_change_dict[idx][bar] = pkl_dict['micro_price_change']\n",
    "    tau_dict[idx][bar] = pkl_dict[str(bar)]['tau']\n",
    "    alpha_dict[idx][bar] = pkl_dict[str(bar)]['alpha']\n",
    "    mfSpect_dict[idx][bar] = pkl_dict[str(bar)]['mfSpect']\n",
    "    n_F_dict[idx][bar] = pkl_dict[str(bar)]['n_F']\n",
    "    list_H_dict[idx][bar] = pkl_dict[str(bar)]['list_H']\n",
    "    list_H_intercept_dict[idx][bar] = pkl_dict[str(bar)]['list_H_intercept']\n",
    "    n_F_dict[idx][bar] = pkl_dict[str(bar)]['n_F']\n",
    "    \n",
    "    \n",
    "    \n",
    "    \n",
    "    \n",
    "                       \n",
    "    \n"
   ]
  },
  {
   "cell_type": "code",
   "execution_count": 8,
   "id": "bc02a6e8",
   "metadata": {},
   "outputs": [],
   "source": [
    "# micro_price_change_dict"
   ]
  },
  {
   "cell_type": "code",
   "execution_count": 141,
   "id": "8e7a2ca1",
   "metadata": {},
   "outputs": [],
   "source": [
    "name='dollar'\n",
    "d =micro_price_change_dict\n",
    "\n"
   ]
  },
  {
   "cell_type": "code",
   "execution_count": 10,
   "id": "b6e11cc6",
   "metadata": {},
   "outputs": [
    {
     "data": {
      "text/plain": [
       "['dollar', 'tick', 'volume']"
      ]
     },
     "execution_count": 10,
     "metadata": {},
     "output_type": "execute_result"
    }
   ],
   "source": [
    "# get all second level keys of all first level keys together (set comprehension)\n",
    "sorted(list({k2 for v in d.values() for k2 in v}))"
   ]
  },
  {
   "cell_type": "code",
   "execution_count": 11,
   "id": "05050c1e",
   "metadata": {},
   "outputs": [],
   "source": [
    "# get all first level keys\n",
    "\n",
    "#list(d.keys())"
   ]
  },
  {
   "cell_type": "code",
   "execution_count": 12,
   "id": "47880864",
   "metadata": {},
   "outputs": [],
   "source": [
    "# get all possible pairs of  (first, second) keys\n",
    "tick_all_pairs=[(k1,k2) for (k1, v) in d.items() for k2 in v if k2=='tick' ]\n",
    "volume_all_indices=[(k1) for (k1, v) in d.items() for k2 in v if k2=='volume' ]\n",
    "tick_all_indices=[(k1) for (k1, v) in d.items() for k2 in v if k2=='tick' ]"
   ]
  },
  {
   "cell_type": "code",
   "execution_count": 99,
   "id": "7d264f45",
   "metadata": {},
   "outputs": [],
   "source": [
    "# sorted(list({k2 for v in d.values() for k2 in v}))"
   ]
  },
  {
   "cell_type": "code",
   "execution_count": 155,
   "id": "9e93bc5b",
   "metadata": {},
   "outputs": [],
   "source": [
    "\n",
    "micro_price_change = dict()\n",
    "mfSpect_bar_choice = dict()\n",
    "alpha_bar_choice = dict()\n",
    "gk_vol = dict()\n",
    "\n",
    "for f in tick_all_indices:\n",
    "    micro_price_change[f] = d[f]['tick']\n",
    "    mfSpect_bar_choice[f] = mfSpect_dict[f]['tick'] \n",
    "    alpha_bar_choice[f] = alpha_dict[f]['tick'] \n",
    "    gk_vol[f] = gk_vol_dict[f]['tick']"
   ]
  },
  {
   "cell_type": "code",
   "execution_count": 143,
   "id": "31a510a3",
   "metadata": {},
   "outputs": [
    {
     "name": "stdout",
     "output_type": "stream",
     "text": [
      "(38, 57) (38, 57)\n"
     ]
    }
   ],
   "source": [
    "# for f in tick_all_indices:\n",
    "#     print(d[f]['tick'])\n",
    "mf_spect_df = pd.DataFrame.from_dict(mfSpect_bar_choice).dropna(0)\n",
    "alpha_df = pd.DataFrame.from_dict(alpha_bar_choice).dropna(0)\n",
    "\n",
    "print(mf_spect_df.shape, alpha_df.shape)\n",
    "#rows x columns"
   ]
  },
  {
   "cell_type": "code",
   "execution_count": 147,
   "id": "30070ce3",
   "metadata": {},
   "outputs": [
    {
     "data": {
      "text/plain": [
       "57"
      ]
     },
     "execution_count": 147,
     "metadata": {},
     "output_type": "execute_result"
    }
   ],
   "source": [
    "df = pd.DataFrame.from_dict(micro_price_change).dropna()\n",
    "median_all_pct_change= pd.DataFrame(df.median(axis=0))\n",
    "median_all_pct_change.shape\n",
    "len(list(df.columns))"
   ]
  },
  {
   "cell_type": "code",
   "execution_count": null,
   "id": "96494019",
   "metadata": {},
   "outputs": [],
   "source": []
  },
  {
   "cell_type": "code",
   "execution_count": 160,
   "id": "bee24658",
   "metadata": {},
   "outputs": [],
   "source": [
    "mean = df.mean(axis=0)\n",
    "first_regime = np.quantile(median.values, 0.33)\n",
    "second_regime = np.quantile(median.values, 0.66)"
   ]
  },
  {
   "cell_type": "code",
   "execution_count": 163,
   "id": "6149f30f",
   "metadata": {},
   "outputs": [
    {
     "data": {
      "text/plain": [
       "count    57.000000\n",
       "mean     -0.000190\n",
       "std       0.000042\n",
       "min      -0.000211\n",
       "25%      -0.000211\n",
       "50%      -0.000211\n",
       "75%      -0.000211\n",
       "max      -0.000105\n",
       "dtype: float64"
      ]
     },
     "execution_count": 163,
     "metadata": {},
     "output_type": "execute_result"
    }
   ],
   "source": [
    "median.describe()"
   ]
  },
  {
   "cell_type": "code",
   "execution_count": 122,
   "id": "05ab342b",
   "metadata": {},
   "outputs": [],
   "source": [
    "# df['regime'], b = pd.qcut(df['median'].values, q = [0, 0.33, 0.66, 1], duplicates = 'drop',retbins = True)\n",
    "# # c, b = pd.qcut(df['median'].values, q = [0, 0.25, 0.5, 0.75, 1], duplicates = 'drop',retbins = True)"
   ]
  },
  {
   "cell_type": "code",
   "execution_count": 180,
   "id": "5b0e33b4",
   "metadata": {},
   "outputs": [
    {
     "data": {
      "text/plain": [
       "57"
      ]
     },
     "execution_count": 180,
     "metadata": {},
     "output_type": "execute_result"
    }
   ],
   "source": []
  },
  {
   "cell_type": "code",
   "execution_count": 192,
   "id": "0dbe730a",
   "metadata": {},
   "outputs": [],
   "source": [
    "regime_dict=dict()\n",
    "for locIdx in range(0, df.shape[1]):\n",
    "    columnDf = df.iloc[:,locIdx]\n",
    "    c, b = pd.qcut(columnDf.values, q = [0, 0.33, 0.66, 1], labels = [1,2,3],  duplicates = 'drop',retbins = True)\n",
    "    regime_dict[locIdx] = c"
   ]
  },
  {
   "cell_type": "code",
   "execution_count": 224,
   "id": "4c202a2d",
   "metadata": {},
   "outputs": [],
   "source": [
    "regime_df = pd.DataFrame(regime_dict)\n",
    "regimes_count = dict()\n",
    "for i in range(0,regime_df.shape[1]):\n",
    "    regimes_count[i] = (regime_df.iloc[i].value_counts())\n"
   ]
  },
  {
   "cell_type": "code",
   "execution_count": 227,
   "id": "0eff00eb",
   "metadata": {},
   "outputs": [],
   "source": [
    "regime_counts_df = pd.DataFrame(regimes_count)"
   ]
  },
  {
   "cell_type": "code",
   "execution_count": 230,
   "id": "e4c1443b",
   "metadata": {},
   "outputs": [
    {
     "data": {
      "text/html": [
       "<div>\n",
       "<style scoped>\n",
       "    .dataframe tbody tr th:only-of-type {\n",
       "        vertical-align: middle;\n",
       "    }\n",
       "\n",
       "    .dataframe tbody tr th {\n",
       "        vertical-align: top;\n",
       "    }\n",
       "\n",
       "    .dataframe thead th {\n",
       "        text-align: right;\n",
       "    }\n",
       "</style>\n",
       "<table border=\"1\" class=\"dataframe\">\n",
       "  <thead>\n",
       "    <tr style=\"text-align: right;\">\n",
       "      <th></th>\n",
       "      <th>0</th>\n",
       "      <th>1</th>\n",
       "      <th>2</th>\n",
       "      <th>3</th>\n",
       "      <th>4</th>\n",
       "      <th>5</th>\n",
       "      <th>6</th>\n",
       "      <th>7</th>\n",
       "      <th>8</th>\n",
       "      <th>9</th>\n",
       "      <th>...</th>\n",
       "      <th>47</th>\n",
       "      <th>48</th>\n",
       "      <th>49</th>\n",
       "      <th>50</th>\n",
       "      <th>51</th>\n",
       "      <th>52</th>\n",
       "      <th>53</th>\n",
       "      <th>54</th>\n",
       "      <th>55</th>\n",
       "      <th>56</th>\n",
       "    </tr>\n",
       "  </thead>\n",
       "  <tbody>\n",
       "    <tr>\n",
       "      <th>1</th>\n",
       "      <td>0</td>\n",
       "      <td>41</td>\n",
       "      <td>30</td>\n",
       "      <td>41</td>\n",
       "      <td>11</td>\n",
       "      <td>24</td>\n",
       "      <td>0</td>\n",
       "      <td>13</td>\n",
       "      <td>13</td>\n",
       "      <td>22</td>\n",
       "      <td>...</td>\n",
       "      <td>0</td>\n",
       "      <td>13</td>\n",
       "      <td>0</td>\n",
       "      <td>13</td>\n",
       "      <td>0</td>\n",
       "      <td>41</td>\n",
       "      <td>13</td>\n",
       "      <td>11</td>\n",
       "      <td>24</td>\n",
       "      <td>0</td>\n",
       "    </tr>\n",
       "    <tr>\n",
       "      <th>2</th>\n",
       "      <td>57</td>\n",
       "      <td>16</td>\n",
       "      <td>16</td>\n",
       "      <td>5</td>\n",
       "      <td>16</td>\n",
       "      <td>16</td>\n",
       "      <td>16</td>\n",
       "      <td>27</td>\n",
       "      <td>27</td>\n",
       "      <td>5</td>\n",
       "      <td>...</td>\n",
       "      <td>22</td>\n",
       "      <td>5</td>\n",
       "      <td>27</td>\n",
       "      <td>44</td>\n",
       "      <td>16</td>\n",
       "      <td>5</td>\n",
       "      <td>16</td>\n",
       "      <td>18</td>\n",
       "      <td>5</td>\n",
       "      <td>18</td>\n",
       "    </tr>\n",
       "    <tr>\n",
       "      <th>3</th>\n",
       "      <td>0</td>\n",
       "      <td>0</td>\n",
       "      <td>11</td>\n",
       "      <td>11</td>\n",
       "      <td>30</td>\n",
       "      <td>17</td>\n",
       "      <td>41</td>\n",
       "      <td>17</td>\n",
       "      <td>17</td>\n",
       "      <td>30</td>\n",
       "      <td>...</td>\n",
       "      <td>35</td>\n",
       "      <td>39</td>\n",
       "      <td>30</td>\n",
       "      <td>0</td>\n",
       "      <td>41</td>\n",
       "      <td>11</td>\n",
       "      <td>28</td>\n",
       "      <td>28</td>\n",
       "      <td>28</td>\n",
       "      <td>39</td>\n",
       "    </tr>\n",
       "  </tbody>\n",
       "</table>\n",
       "<p>3 rows × 57 columns</p>\n",
       "</div>"
      ],
      "text/plain": [
       "   0   1   2   3   4   5   6   7   8   9   ...  47  48  49  50  51  52  53  \\\n",
       "1   0  41  30  41  11  24   0  13  13  22  ...   0  13   0  13   0  41  13   \n",
       "2  57  16  16   5  16  16  16  27  27   5  ...  22   5  27  44  16   5  16   \n",
       "3   0   0  11  11  30  17  41  17  17  30  ...  35  39  30   0  41  11  28   \n",
       "\n",
       "   54  55  56  \n",
       "1  11  24   0  \n",
       "2  18   5  18  \n",
       "3  28  28  39  \n",
       "\n",
       "[3 rows x 57 columns]"
      ]
     },
     "execution_count": 230,
     "metadata": {},
     "output_type": "execute_result"
    }
   ],
   "source": [
    "\n",
    "regime_counts_df"
   ]
  },
  {
   "cell_type": "code",
   "execution_count": null,
   "id": "91b67cd6",
   "metadata": {},
   "outputs": [],
   "source": []
  }
 ],
 "metadata": {
  "kernelspec": {
   "display_name": "Python [conda env:timeSeries] *",
   "language": "python",
   "name": "conda-env-timeSeries-py"
  },
  "language_info": {
   "codemirror_mode": {
    "name": "ipython",
    "version": 3
   },
   "file_extension": ".py",
   "mimetype": "text/x-python",
   "name": "python",
   "nbconvert_exporter": "python",
   "pygments_lexer": "ipython3",
   "version": "3.7.12"
  }
 },
 "nbformat": 4,
 "nbformat_minor": 5
}
