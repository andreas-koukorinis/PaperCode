{
 "cells": [
  {
   "cell_type": "code",
   "execution_count": 1,
   "id": "53929031",
   "metadata": {},
   "outputs": [],
   "source": [
    "# shogun experiments on the new data"
   ]
  },
  {
   "cell_type": "code",
   "execution_count": 6,
   "id": "d356a3de",
   "metadata": {},
   "outputs": [],
   "source": [
    "import pandas as pd\n",
    "import numpy as np\n",
    "import pickle\n",
    "import os\n",
    "from sklearn.metrics.pairwise import rbf_kernel\n",
    "import pandas as pd\n",
    "import numpy as np\n",
    "from scipy.special import gamma\n",
    "from scipy import signal\n",
    "import time\n",
    "import itertools\n",
    "from itertools import combinations\n",
    "try:\n",
    "    from tqdm import tqdm_notebooks as tqdm\n",
    "except ImportError:\n",
    "    tqdm = lambda x: x\n",
    "from collections import defaultdict\n",
    "import matplotlib.pyplot as plt\n",
    "import seaborn as sns\n",
    "###\n",
    "from collections import defaultdict\n",
    "\n",
    "from scipy.stats import pearsonr, zscore\n",
    "from MFDFA import fgn\n",
    "# Plot settings\n",
    "%matplotlib inline\n",
    "%config InlineBackend.figure_format = 'svg'\n",
    "sns.set()\n",
    "from tqdm import tqdm\n",
    "\n",
    "\n",
    "import matplotlib as mpl\n",
    "from matplotlib import cm\n",
    "\n",
    "import sys\n",
    "sys.path.insert(0, '/directory/tothe/handshakefile/')\n",
    "\n",
    "from shogun import *\n",
    "from scipy.stats import norm, laplace\n",
    "import random\n",
    "#sys.path.append('/home/ak/Documents/PaperCode/stylised_facts/hypothesisTesting')\n",
    "sys.path.append('/home/ak/Research/PaperCode/stylised_facts/hypothesisTesting')\n",
    "\n",
    "import shogunMMDutils as mmdutils\n",
    "\n",
    "# import stylised_facts_data_utilities.createLOB as createLOB\n",
    "# import stylised_facts_data_utilities.gpyNARX as gpyNARX\n",
    "# import stylised_facts_data_utilities.longtaildistr as longtail\n",
    "%matplotlib inline\n",
    "\n",
    "# plt.style.use(os.path.join(mpl.get_configdir(),'latexstyle.mplstyle'))"
   ]
  },
  {
   "cell_type": "code",
   "execution_count": 7,
   "id": "58349cef",
   "metadata": {},
   "outputs": [],
   "source": [
    "# !pip install MFDFA"
   ]
  },
  {
   "cell_type": "code",
   "execution_count": 8,
   "id": "cf62e68a",
   "metadata": {},
   "outputs": [],
   "source": [
    "# removes extremities based on two inputs\n",
    "def series_between_percentiles(series, upperValue,lowerValue):\n",
    "    # Find out percentiles and get values in between\n",
    "    lThres = np.percentile(series , lowerValue) # lower percentile\n",
    "    uThres = np.percentile(series , upperValue) # higher percentile\n",
    "    return series[(series > lThres) & (series <uThres)]"
   ]
  },
  {
   "cell_type": "markdown",
   "id": "311c82d3",
   "metadata": {},
   "source": [
    "# New Laptop below"
   ]
  },
  {
   "cell_type": "code",
   "execution_count": 3,
   "id": "40210615",
   "metadata": {},
   "outputs": [],
   "source": [
    "\n",
    "# laptop_OS_folder = '/media/ak/OS/Data/FuturesDataSemiProcessed'\n",
    "# LaCie_ProcessedData = '/media/ak/LaCie/ProcessedSampledData/'\n",
    "# # returns_data = '/media/ak/T7/August11th2022Experiments/Returns/'\n",
    "# t7 = '/media/ak/T71/'\n",
    "# # june_ext = os.path.join(t7, 'June4th2022Experiments')\n",
    "# # returns_data = [f for f in os.listdir(june_ext) if '_returns' in f]\n",
    "# experimentsLocation = '/media/ak/T71/August11th2022Experiments/'\n",
    "# bars =['tick', 'volume', 'calendar', 'dollar']"
   ]
  },
  {
   "cell_type": "markdown",
   "id": "7a9d9440",
   "metadata": {},
   "source": [
    "### Old Laptop Below"
   ]
  },
  {
   "cell_type": "code",
   "execution_count": 11,
   "id": "1df8b51a",
   "metadata": {},
   "outputs": [],
   "source": [
    "t7 = '/media/ak/T7'\n",
    "returns_data = '/media/ak/T7/August11th2022Experiments/Returns/'\n",
    "june_ext = os.path.join(t7, 'June4th2022Experiments')\n",
    "returns_data = [f for f in os.listdir(june_ext) if '_returns' in f]\n",
    "experimentsLocation = '/media/ak/T7/August11th2022Experiments/'\n",
    "bars =['tick', 'volume', 'calendar', 'dollar']"
   ]
  },
  {
   "cell_type": "code",
   "execution_count": 12,
   "id": "c31fc4ba",
   "metadata": {},
   "outputs": [],
   "source": [
    "expOnePath = os.path.join(experimentsLocation, 'ExperimentOne')\n",
    "volume_exp_one = [f for f in os.listdir(expOnePath) if str('volume') in f]\n",
    "tick_exp_one = [f for f in os.listdir(expOnePath) if str('tick') in f]\n"
   ]
  },
  {
   "cell_type": "code",
   "execution_count": 14,
   "id": "c83e4f20",
   "metadata": {},
   "outputs": [
    {
     "data": {
      "text/plain": [
       "'/media/ak/T7/August11th2022Experiments/ExperimentOne/file0tick_mfdfa.pkl'"
      ]
     },
     "execution_count": 14,
     "metadata": {},
     "output_type": "execute_result"
    }
   ],
   "source": [
    "idx = 5\n",
    "increment = 1\n",
    "file_loc = os.path.join(expOnePath, tick_exp_one[idx])\n",
    "file_loc_increment = os.path.join(expOnePath, tick_exp_one[idx+ increment])\n",
    "file_loc_increment"
   ]
  },
  {
   "cell_type": "code",
   "execution_count": 15,
   "id": "fb47d25b",
   "metadata": {},
   "outputs": [],
   "source": [
    "tau = pd.read_pickle(file_loc)['tick']['tau']\n",
    "tau_increment = pd.read_pickle(file_loc_increment)['tick']['tau']"
   ]
  },
  {
   "cell_type": "code",
   "execution_count": 16,
   "id": "3bc4b1eb",
   "metadata": {},
   "outputs": [
    {
     "data": {
      "text/plain": [
       "array([], dtype=float64)"
      ]
     },
     "execution_count": 16,
     "metadata": {},
     "output_type": "execute_result"
    }
   ],
   "source": [
    "series_between_percentiles(tau, 0.9, 0.22)"
   ]
  },
  {
   "cell_type": "code",
   "execution_count": 32,
   "id": "92bab5b5",
   "metadata": {},
   "outputs": [
    {
     "data": {
      "text/plain": [
       "count    70.000000\n",
       "mean     -0.909701\n",
       "std       0.783147\n",
       "min      -2.385251\n",
       "25%      -1.553499\n",
       "50%      -0.820137\n",
       "75%      -0.220275\n",
       "max       0.233154\n",
       "dtype: float64"
      ]
     },
     "execution_count": 32,
     "metadata": {},
     "output_type": "execute_result"
    }
   ],
   "source": [
    "pd.Series(tau).describe()"
   ]
  },
  {
   "cell_type": "code",
   "execution_count": null,
   "id": "b003f898",
   "metadata": {},
   "outputs": [],
   "source": []
  }
 ],
 "metadata": {
  "kernelspec": {
   "display_name": "Python 3",
   "language": "python",
   "name": "python3"
  },
  "language_info": {
   "codemirror_mode": {
    "name": "ipython",
    "version": 3
   },
   "file_extension": ".py",
   "mimetype": "text/x-python",
   "name": "python",
   "nbconvert_exporter": "python",
   "pygments_lexer": "ipython3",
   "version": "3.6.10"
  }
 },
 "nbformat": 4,
 "nbformat_minor": 5
}
