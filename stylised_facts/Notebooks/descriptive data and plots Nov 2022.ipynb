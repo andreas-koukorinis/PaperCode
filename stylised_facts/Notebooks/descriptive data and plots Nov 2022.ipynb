{
 "cells": [
  {
   "cell_type": "code",
   "execution_count": 1,
   "id": "d1ed2bb3",
   "metadata": {},
   "outputs": [],
   "source": [
    "import pandas as pd\n",
    "import numpy as np\n",
    "import sys\n",
    "import multiprocessing\n",
    "import time\n",
    "sys.path.append(('/home/ak/Research/PaperCode/stylised_facts'))\n",
    "sys.path.append('/home/ak/Documents/Research/PaperCode/stylised_facts')\n",
    "\n",
    "import stylised_facts_data_utilities as sfd_utils\n",
    "import lob_for_futures as lobfut\n",
    "import os\n",
    "from sklearn.preprocessing import MinMaxScaler, StandardScaler\n",
    "from multiprocessing import Pool, freeze_support\n",
    "import pickle\n",
    "from multiprocessing import Pool\n"
   ]
  },
  {
   "cell_type": "code",
   "execution_count": 2,
   "id": "9fab5789",
   "metadata": {},
   "outputs": [],
   "source": [
    "\n",
    "scaler = MinMaxScaler()\n",
    "standard_scaler = StandardScaler()\n",
    "pd.set_option('display.max_rows', 500)\n",
    "pd.set_option('display.max_columns', 500)\n",
    "pd.set_option('display.width', 1000)\n",
    "\n",
    "sys.path.insert(0, '/directory/tothe/handshakefile/')\n",
    "sys.path.append('/home/ak/Documents/PaperCode/stylised_facts')\n",
    "## data files\n",
    "laptop_OS_folder = '/media/ak/T7/FuturesDataSemiProcessed'\n",
    "LaCie_ProcessedData = '/media/ak/LaCie/ProcessedSampledData/'\n",
    "# returns_data = '/media/ak/T7/August11th2022Experiments/Returns/'\n",
    "t7 = '/media/ak/T7/'\n",
    "t7_folder = os.path.join(t7, 'FuturesDataSemiProcessed')\n",
    "# june_ext = os.path.join(t7, 'June4th2022Experiments')\n",
    "# returns_data = [f for f in os.listdir(june_ext) if '_returns' in f]\n",
    "experimentsLocation = '/media/ak/T7/August11th2022Experiments/'\n",
    "\n",
    "# here i start with RX1 to do all the experiments in one go\n",
    "symbols = os.listdir(laptop_OS_folder)\n",
    "\n",
    "\n",
    "# symbol_test_folder = os.path.join(laptop_OS_folder, symbols[0])\n",
    "# rx_folder = os.path.join(laptop_OS_folder, 'RX1')\n",
    "# du_folder = os.path.join(t7_folder,  'DU1')                                                                       , 'FB1')\n",
    "# make this a bit more dynamic to take any function in here\n",
    "# files = os.listdir(du_folder)\n",
    "\n"
   ]
  },
  {
   "cell_type": "code",
   "execution_count": null,
   "id": "92caf182",
   "metadata": {},
   "outputs": [],
   "source": []
  }
 ],
 "metadata": {
  "kernelspec": {
   "display_name": "Python 3 (ipykernel)",
   "language": "python",
   "name": "python3"
  },
  "language_info": {
   "codemirror_mode": {
    "name": "ipython",
    "version": 3
   },
   "file_extension": ".py",
   "mimetype": "text/x-python",
   "name": "python",
   "nbconvert_exporter": "python",
   "pygments_lexer": "ipython3",
   "version": "3.7.12"
  }
 },
 "nbformat": 4,
 "nbformat_minor": 5
}
