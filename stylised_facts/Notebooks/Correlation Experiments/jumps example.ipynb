{
 "cells": [
  {
   "cell_type": "code",
   "execution_count": 1,
   "id": "4815116c",
   "metadata": {},
   "outputs": [],
   "source": [
    "import pandas as pd\n",
    "import numpy as np\n",
    "import scipy.stats as stats\n",
    "from typing import Any, List\n",
    "import os\n",
    "import matplotlib.pyplot as plt"
   ]
  },
  {
   "cell_type": "code",
   "execution_count": 2,
   "id": "bea6cb8f",
   "metadata": {},
   "outputs": [],
   "source": [
    "\n",
    "import fathon\n",
    "from fathon import fathonUtils as fu\n",
    "from scipy.stats import norm\n"
   ]
  },
  {
   "cell_type": "code",
   "execution_count": 3,
   "id": "c53b69cd",
   "metadata": {
    "scrolled": false
   },
   "outputs": [
    {
     "name": "stdout",
     "output_type": "stream",
     "text": [
      "{97: 1.2212453270876722e-15, 362: 0.0, 438: 1.209143896119258e-12, 558: 0.0012737632605070992, 569: 0.0037810352561790106, 630: 0.0, 667: 0.020404950842174197, 689: 0.0012198620052531473, 747: 0.0010370527463524626, 755: 0.006415335814140888, 768: 6.8915631632471275e-06, 808: 0.0023036166042710304, 822: 0.00042938642236778346, 850: 0.00014980787677354446, 925: 0.012992158973919032, 967: 1.781024328018077e-09}\n"
     ]
    }
   ],
   "source": [
    "\n",
    "def makeReturns(pData):\n",
    "    return pData.pct_change().fillna(0)\n",
    "\n",
    "def AJjumpTest(pData, threshold_multiplier=2.0):\n",
    "    r = abs(makeReturns(pData))\n",
    "    std_dev = np.std(r)\n",
    "    mean = np.mean(r)\n",
    "\n",
    "    # Define 'jump' as a return that is threshold_multiplier times standard deviation away from the mean\n",
    "    cvalue = mean + threshold_multiplier * std_dev\n",
    "\n",
    "    jumps = r[r > cvalue].index\n",
    "    probabilities = 1 - norm.cdf(r[r > cvalue], loc=mean, scale=std_dev)  # Assuming returns follow normal distribution\n",
    "\n",
    "    result = dict(zip(jumps, probabilities))\n",
    "    return result\n",
    "\n",
    "# Test the function\n",
    "np.random.seed(0)\n",
    "s = pd.Series(np.random.randn(1000), name='value')\n",
    "\n",
    "result = AJjumpTest(s)\n",
    "print(result)\n"
   ]
  },
  {
   "cell_type": "code",
   "execution_count": null,
   "id": "614ddbfc",
   "metadata": {
    "scrolled": true
   },
   "outputs": [],
   "source": [
    "result"
   ]
  },
  {
   "cell_type": "markdown",
   "id": "aaa0c0d3",
   "metadata": {},
   "source": [
    "## looking for jumps in reconstructed LOBs"
   ]
  },
  {
   "cell_type": "code",
   "execution_count": 4,
   "id": "3b91553c",
   "metadata": {},
   "outputs": [],
   "source": [
    "import os\n",
    "reconLOBs = '/media/ak/Data/InterestRateFuturesData/ReconstructedLOB'\n",
    "symbols = os.listdir(reconLOBs)"
   ]
  },
  {
   "cell_type": "code",
   "execution_count": 5,
   "id": "93c9ed2b",
   "metadata": {},
   "outputs": [
    {
     "name": "stdout",
     "output_type": "stream",
     "text": [
      "/media/ak/Data/InterestRateFuturesData/ReconstructedLOB/KE1\n"
     ]
    }
   ],
   "source": [
    "symbolFolder = os.path.join( reconLOBs, symbols[5])\n",
    "print(symbolFolder)"
   ]
  },
  {
   "cell_type": "code",
   "execution_count": 6,
   "id": "fb71c521",
   "metadata": {},
   "outputs": [],
   "source": [
    "files = os.listdir(symbolFolder)"
   ]
  },
  {
   "cell_type": "code",
   "execution_count": 7,
   "id": "49cf9c3d",
   "metadata": {},
   "outputs": [],
   "source": [
    "idx = 10\n",
    "filePath = os.path.join(symbolFolder, files[idx])"
   ]
  },
  {
   "cell_type": "code",
   "execution_count": 8,
   "id": "10d5cfac",
   "metadata": {},
   "outputs": [],
   "source": [
    "dfLOB =pd.read_pickle(filePath)"
   ]
  },
  {
   "cell_type": "code",
   "execution_count": 9,
   "id": "e0f652c7",
   "metadata": {},
   "outputs": [],
   "source": [
    "microPrice = dfLOB.MicroPrice"
   ]
  },
  {
   "cell_type": "code",
   "execution_count": null,
   "id": "584ecfaf",
   "metadata": {},
   "outputs": [],
   "source": []
  },
  {
   "cell_type": "code",
   "execution_count": 10,
   "id": "f8d639d4",
   "metadata": {},
   "outputs": [],
   "source": [
    "s =makeReturns(microPrice)\n"
   ]
  },
  {
   "cell_type": "code",
   "execution_count": 11,
   "id": "18169467",
   "metadata": {},
   "outputs": [
    {
     "name": "stdout",
     "output_type": "stream",
     "text": [
      "{478469: 3.05626336460918e-08, 567296: 0.015470457595111342, 568977: 0.0006360733728475454, 568910: 0.008851452809104599, 567213: 0.003219929340645078, 567299: 0.00487220926517018, 567300: 0.0032798181951255723, 568918: 0.00016711346886866263, 567234: 0.008486764989195428, 567301: 0.013127053854288473, 567239: 0.002506260259079407, 568989: 0.0020236499265703367, 568922: 0.002506260259079407, 567240: 0.0024627827680775427, 568994: 0.0035268289916943196, 569007: 0.003246821884848039, 568923: 0.0018886061008203114, 568939: 0.000700132056612679, 568940: 6.02158281015619e-08, 567268: 4.822649772862064e-07, 566679: 0.017727493675767758, 568941: 3.2577585074022863e-10, 565803: 2.6960322863089914e-11, 567553: 0.0031302917978427436, 565606: 0.0026833652623652338, 566794: 0.0023993547739766807, 568966: 2.6591395752006974e-11, 568967: 0.002233985120939308, 568422: 0.0012945281739970005, 568434: 0.00039476322865117375, 566814: 0.02054312289152105, 567737: 0.001333841493963983, 566869: 0.0004907340318603959, 565905: 0.0004911662799842453, 566870: 0.0009658994989606429, 566871: 0.011061769744951655, 566875: 0.0018585249043323593, 566884: 0.012941873603270593, 566915: 0.0020736510512026074, 568525: 0.0020749149461662952, 566916: 0.017888550583875062, 565925: 0.002340793321711887, 567745: 0.006364130005932611, 567771: 0.009466847516683252, 567555: 0.002804849688260891, 565608: 1.7296164500635314e-12, 565609: 0.007124051286050759, 567802: 0.021352142321693912, 567588: 0.0031417043290509206, 565719: 0.007452823816854415, 567855: 0.00811149276742118, 565752: 0.0028969378183856254, 567624: 0.01874992986481938, 567917: 0.0008816962846557308, 566102: 0.010710447012382107, 566103: 9.5359683049967e-06, 567985: 4.594643566990797e-05, 567986: 3.398940462417954e-08, 566953: 0.019916251411459474, 566162: 0.000549379160631025, 566957: 0.004011779639751301, 568025: 0.00404777714356741, 568094: 0.022252074506673214, 566297: 0.017399361144419312, 568600: 0.015191511987714068, 568603: 0.001836673681840928, 568145: 0.008483141573395137, 566975: 0.002474141863119783, 566976: 0.0006876718206197951, 568147: 0.004109175775884433, 566371: 0.01547647326361834, 566372: 0.015014376235821358, 566425: 0.017191661942336012, 566977: 0.008818723326534883, 568175: 0.015326063191934747, 568211: 0.007928019802517228, 567481: 0.002495154752754969, 565552: 0.00012908048061832655, 565800: 0.015313319660788083, 567482: 0.01887156051541694, 565802: 0.009529792465556075, 565450: 0.00039168539142087067, 567372: 0.011272088335587016, 567311: 8.591027605975299e-07, 565482: 0.00042944801650712794, 565432: 0.015293013559753876, 567380: 0.016878532915557853, 567316: 0.004557446118045982, 565483: 1.0916155896989466e-06, 565484: 0.0015465649613574106, 567383: 0.0015475884949359697, 565485: 0.0022018681569317966, 565495: 5.7744256491298884e-05, 567401: 0.0016249930893723619, 565496: 0.0033973603240279315, 565497: 0.00023655164828573216, 567325: 0.0018771299343046666, 567404: 0.00400335539738883, 565536: 0.0045900021506506405, 567504: 2.837098926877779e-05, 565449: 0.0, 567326: 0.0}\n"
     ]
    }
   ],
   "source": [
    "\n",
    "result = AJjumpTest(microPrice)\n",
    "print(result)\n"
   ]
  },
  {
   "cell_type": "code",
   "execution_count": 12,
   "id": "7a7cf0d8",
   "metadata": {},
   "outputs": [
    {
     "data": {
      "image/png": "[encoded data removed]",
      "text/plain": [
       "<Figure size 432x288 with 1 Axes>"
      ]
     },
     "metadata": {
      "needs_background": "light"
     },
     "output_type": "display_data"
    }
   ],
   "source": [
    "_=plt.hist(list(result.values()),bins = 100)"
   ]
  },
  {
   "cell_type": "code",
   "execution_count": 13,
   "id": "e66b26dd",
   "metadata": {},
   "outputs": [],
   "source": [
    "df_jumps = pd.DataFrame(list(result.items()), columns=['Tick', 'Prob'])\n",
    "df_jumps['Prob'] = df_jumps['Prob'].apply(lambda x: '{:.2%}'.format(x))"
   ]
  },
  {
   "cell_type": "code",
   "execution_count": 14,
   "id": "d90692cb",
   "metadata": {},
   "outputs": [],
   "source": [
    "import numpy as np\n",
    "from scipy.stats import norm\n",
    "\n",
    "def ait_sahalia_jacod_test(price_series, delta):\n",
    "    \"\"\"\n",
    "    Function to perform the Ait-Sahalia and Jacod (2009) test for jumps.\n",
    "\n",
    "    Parameters:\n",
    "    price_series : array-like\n",
    "        The price series to test.\n",
    "    delta : float\n",
    "        The bandwidth parameter.\n",
    "\n",
    "    Returns:\n",
    "    z_value : float\n",
    "        The z-test value.\n",
    "    critical_value : float\n",
    "        The critical value under a 95% confidence level.\n",
    "    p_value : float\n",
    "        The p-value of the test.\n",
    "    \"\"\"\n",
    "\n",
    "    # Calculate log returns\n",
    "    log_returns = np.log(price_series).diff().dropna()\n",
    "\n",
    "    # Calculate bipower variation\n",
    "    bipower_variation = (np.pi / 2) * (log_returns.abs().rolling(window=2).sum().dropna())\n",
    "\n",
    "    # Calculate the test statistic (Z-value here)\n",
    "    z_value = (log_returns**2 - delta * bipower_variation) / np.sqrt((delta**2) * (2 * np.pi - delta) * (bipower_variation / delta))\n",
    "\n",
    "    # Calculate the critical value for a 95% confidence level\n",
    "    critical_value = norm.ppf(0.975)  # Two-tailed test, so we look at 0.975 percentile\n",
    "\n",
    "    # Calculate the p-value\n",
    "    p_value = 2 * (1 - norm.cdf(z_value.abs()))\n",
    "    \n",
    "    df_result = pd.DataFrame()\n",
    "    df_result['z_value'] = z_value\n",
    "    df_result['critical_value'] = critical_value\n",
    "    df_result['p-value'] = p_value \n",
    "\n",
    "\n",
    "    return df_result"
   ]
  },
  {
   "cell_type": "code",
   "execution_count": 15,
   "id": "7af1ed46",
   "metadata": {},
   "outputs": [],
   "source": [
    "# Assume we have price data in a pandas DataFrame df\n",
    "df = pd.DataFrame({\n",
    "    'price': microPrice # Random data for demonstration\n",
    "})"
   ]
  },
  {
   "cell_type": "code",
   "execution_count": null,
   "id": "ec7d4eb7",
   "metadata": {},
   "outputs": [],
   "source": []
  },
  {
   "cell_type": "code",
   "execution_count": 16,
   "id": "bbb61749",
   "metadata": {},
   "outputs": [
    {
     "name": "stdout",
     "output_type": "stream",
     "text": [
      "Z-value: 95367          NaN\n",
      "112350         NaN\n",
      "112351   -0.000252\n",
      "112352   -0.000959\n",
      "112353   -0.000147\n",
      "            ...   \n",
      "569004   -0.000193\n",
      "569005   -0.000619\n",
      "569006   -0.000943\n",
      "569007   -0.001428\n",
      "569008   -0.000227\n",
      "Name: price, Length: 4323, dtype: float64\n",
      "Critical value (95% confidence level): 1.959963984540054\n",
      "P-value: [       nan        nan 0.99979855 ... 0.99924753 0.99886037 0.99981862]\n"
     ]
    }
   ],
   "source": [
    "# Use the function on our price data\n",
    "z_value, critical_value, p_value = ait_sahalia_jacod_test(df['price'], delta=0.1)\n",
    "\n",
    "print(f\"Z-value: {z_value}\")\n",
    "print(f\"Critical value (95% confidence level): {critical_value}\")\n",
    "print(f\"P-value: {p_value}\")"
   ]
  },
  {
   "cell_type": "code",
   "execution_count": 17,
   "id": "6f5a4c4b",
   "metadata": {},
   "outputs": [],
   "source": [
    "df_result = pd.DataFrame()\n",
    "df_result['z_value'] = z_value\n",
    "df_result['critical_value'] = critical_value\n",
    "df_result['p-value'] = p_value \n"
   ]
  },
  {
   "cell_type": "code",
   "execution_count": 18,
   "id": "6f6e238a",
   "metadata": {},
   "outputs": [
    {
     "data": {
      "text/html": [
       "<div>\n",
       "<style scoped>\n",
       "    .dataframe tbody tr th:only-of-type {\n",
       "        vertical-align: middle;\n",
       "    }\n",
       "\n",
       "    .dataframe tbody tr th {\n",
       "        vertical-align: top;\n",
       "    }\n",
       "\n",
       "    .dataframe thead th {\n",
       "        text-align: right;\n",
       "    }\n",
       "</style>\n",
       "<table border=\"1\" class=\"dataframe\">\n",
       "  <thead>\n",
       "    <tr style=\"text-align: right;\">\n",
       "      <th></th>\n",
       "      <th>z_value</th>\n",
       "      <th>critical_value</th>\n",
       "      <th>p-value</th>\n",
       "    </tr>\n",
       "  </thead>\n",
       "  <tbody>\n",
       "    <tr>\n",
       "      <th>count</th>\n",
       "      <td>4.204000e+03</td>\n",
       "      <td>4.323000e+03</td>\n",
       "      <td>4204.000000</td>\n",
       "    </tr>\n",
       "    <tr>\n",
       "      <th>mean</th>\n",
       "      <td>-4.443029e-04</td>\n",
       "      <td>1.959964e+00</td>\n",
       "      <td>0.999645</td>\n",
       "    </tr>\n",
       "    <tr>\n",
       "      <th>std</th>\n",
       "      <td>3.974657e-04</td>\n",
       "      <td>2.620429e-14</td>\n",
       "      <td>0.000317</td>\n",
       "    </tr>\n",
       "    <tr>\n",
       "      <th>min</th>\n",
       "      <td>-5.649577e-03</td>\n",
       "      <td>1.959964e+00</td>\n",
       "      <td>0.995492</td>\n",
       "    </tr>\n",
       "    <tr>\n",
       "      <th>25%</th>\n",
       "      <td>-6.849050e-04</td>\n",
       "      <td>1.959964e+00</td>\n",
       "      <td>0.999454</td>\n",
       "    </tr>\n",
       "    <tr>\n",
       "      <th>50%</th>\n",
       "      <td>-3.785843e-04</td>\n",
       "      <td>1.959964e+00</td>\n",
       "      <td>0.999698</td>\n",
       "    </tr>\n",
       "    <tr>\n",
       "      <th>75%</th>\n",
       "      <td>-8.762381e-05</td>\n",
       "      <td>1.959964e+00</td>\n",
       "      <td>0.999930</td>\n",
       "    </tr>\n",
       "    <tr>\n",
       "      <th>max</th>\n",
       "      <td>-4.750113e-09</td>\n",
       "      <td>1.959964e+00</td>\n",
       "      <td>1.000000</td>\n",
       "    </tr>\n",
       "  </tbody>\n",
       "</table>\n",
       "</div>"
      ],
      "text/plain": [
       "            z_value  critical_value      p-value\n",
       "count  4.204000e+03    4.323000e+03  4204.000000\n",
       "mean  -4.443029e-04    1.959964e+00     0.999645\n",
       "std    3.974657e-04    2.620429e-14     0.000317\n",
       "min   -5.649577e-03    1.959964e+00     0.995492\n",
       "25%   -6.849050e-04    1.959964e+00     0.999454\n",
       "50%   -3.785843e-04    1.959964e+00     0.999698\n",
       "75%   -8.762381e-05    1.959964e+00     0.999930\n",
       "max   -4.750113e-09    1.959964e+00     1.000000"
      ]
     },
     "execution_count": 18,
     "metadata": {},
     "output_type": "execute_result"
    }
   ],
   "source": [
    "df_result.describe()"
   ]
  },
  {
   "cell_type": "code",
   "execution_count": 19,
   "id": "27deb3ba",
   "metadata": {},
   "outputs": [
    {
     "data": {
      "image/png": "[encoded data removed]",
      "text/plain": [
       "<Figure size 432x288 with 1 Axes>"
      ]
     },
     "metadata": {
      "needs_background": "light"
     },
     "output_type": "display_data"
    }
   ],
   "source": [
    "_=plt.hist(df_result.z_value, bins =100)"
   ]
  },
  {
   "cell_type": "code",
   "execution_count": 20,
   "id": "f5bddf9f",
   "metadata": {},
   "outputs": [],
   "source": [
    "def autocovariance_microstructure_noise(Y, l, kn):\n",
    "    \"\"\"\n",
    "    Function to estimate the autocovariance of market-microstructure noise.\n",
    "\n",
    "    Parameters:\n",
    "    Y : pandas Series\n",
    "        The observed price series.\n",
    "    l : int\n",
    "        The lag.\n",
    "    kn : int\n",
    "        The tuning parameter.\n",
    "\n",
    "    Returns:\n",
    "    R_hat : float\n",
    "        The estimated autocovariance.\n",
    "    \"\"\"\n",
    "\n",
    "    n = len(Y)\n",
    "    terms = [(Y.iloc[i+l] - Y.iloc[i+l+kn]) * (Y.iloc[i] - Y.iloc[i-2*kn]) for i in range(2*kn, n-kn-l)]\n",
    "    R_hat = 1/n * sum(terms)\n",
    "\n",
    "    return R_hat"
   ]
  },
  {
   "cell_type": "code",
   "execution_count": 21,
   "id": "58f5a665",
   "metadata": {},
   "outputs": [
    {
     "name": "stdout",
     "output_type": "stream",
     "text": [
      "-0.0034387447611389454\n"
     ]
    }
   ],
   "source": [
    "# Assume we have price data in a pandas Series Y\n",
    "Y = pd.Series(np.random.rand(1000))\n",
    "\n",
    "# Choose a lag and a tuning parameter\n",
    "l = 5\n",
    "kn = 10\n",
    "\n",
    "# Call the function\n",
    "R_hat = autocovariance_microstructure_noise(Y, l, kn)\n",
    "\n",
    "# Print the result\n",
    "print(R_hat)"
   ]
  },
  {
   "cell_type": "markdown",
   "id": "df648baf",
   "metadata": {},
   "source": [
    "##  playing with fathon and jumps"
   ]
  },
  {
   "cell_type": "code",
   "execution_count": 26,
   "id": "31803db8",
   "metadata": {},
   "outputs": [
    {
     "data": {
      "text/plain": [
       "array(['time', 'estimated_arrival_time', 'TradePrice', 'TradedVolume',\n",
       "       'NoOfTrades', 'arrival_rate', 'AverageVolumePerTrade', 'date',\n",
       "       'CCYTradedVolume', 'type', 'value', 'size', 'BestBid', 'BidSize',\n",
       "       'BestAsk', 'AskSize', 'CumlTradingVolume', 'CCYCumlVolume',\n",
       "       'CumlNoOfTrades', 'CumlTradedVolume', 'RunningNoOfTrades',\n",
       "       'RunningCumlVolume', 'RunningCumlNoOfTrades', 'MicroPrice',\n",
       "       'BASpread', 'QuoteSize', 'MidPrice', 'OrderImbalance',\n",
       "       'ExpandingMeanRelativeTickVolume', 'MeanRelativeTickVolume'],\n",
       "      dtype=object)"
      ]
     },
     "execution_count": 26,
     "metadata": {},
     "output_type": "execute_result"
    }
   ],
   "source": [
    "dfLOB.columns.values"
   ]
  },
  {
   "cell_type": "code",
   "execution_count": 59,
   "id": "59333e61",
   "metadata": {},
   "outputs": [],
   "source": [
    "#time series\n",
    "a = np.asarray(dfLOB.OrderImbalance.fillna(0))\n",
    "b = np.asarray(dfLOB.ExpandingMeanRelativeTickVolume.fillna(0))\n"
   ]
  },
  {
   "cell_type": "code",
   "execution_count": 61,
   "id": "14129bd0",
   "metadata": {},
   "outputs": [
    {
     "data": {
      "image/png": "[encoded data removed]",
      "text/plain": [
       "<Figure size 432x288 with 1 Axes>"
      ]
     },
     "metadata": {},
     "output_type": "display_data"
    },
    {
     "data": {
      "text/plain": [
       "[<matplotlib.lines.Line2D at 0x7fd622730210>]"
      ]
     },
     "execution_count": 61,
     "metadata": {},
     "output_type": "execute_result"
    },
    {
     "data": {
      "image/png": "[encoded data removed]",
      "text/plain": [
       "<Figure size 432x288 with 1 Axes>"
      ]
     },
     "metadata": {},
     "output_type": "display_data"
    }
   ],
   "source": [
    "plt.plot(a)\n",
    "plt.show()\n",
    "plt.plot(b)"
   ]
  },
  {
   "cell_type": "code",
   "execution_count": 62,
   "id": "8c63d2d8",
   "metadata": {},
   "outputs": [
    {
     "name": "stderr",
     "output_type": "stream",
     "text": [
      "/home/ak/anaconda3/envs/timeSeries/lib/python3.7/site-packages/ipykernel_launcher.py:10: RuntimeWarning: divide by zero encountered in log\n",
      "  # Remove the CWD from sys.path while we load stuff.\n"
     ]
    }
   ],
   "source": [
    "\n",
    "\n",
    "#zero-mean cumulative sum\n",
    "a = fu.toAggregated(a)\n",
    "b = fu.toAggregated(b)\n",
    "\n",
    "#initialize mfdfa object\n",
    "pymfdcca = fathon.MFDCCA(a, b)\n",
    "#compute fluctuation function and generalized Hurst exponents\n",
    "wins = fu.linRangeByStep(10, 2000)\n",
    "n, F = pymfdcca.computeFlucVec(wins, np.arange(-3, 4, 0.1), revSeg=True, polOrd=1)\n",
    "list_H, list_H_intercept = pymfdcca.fitFlucVec()\n",
    "\n",
    "#compute mass exponents\n",
    "tau = pymfdcca.computeMassExponents()\n",
    "\n",
    "#compute multifractal spectrum\n",
    "alpha, mfSpect = pymfdcca.computeMultifractalSpectrum()"
   ]
  },
  {
   "cell_type": "code",
   "execution_count": 63,
   "id": "6dec0c25",
   "metadata": {},
   "outputs": [
    {
     "data": {
      "text/plain": [
       "Text(0.5, 1.0, 'f($\\\\alpha$)')"
      ]
     },
     "execution_count": 63,
     "metadata": {},
     "output_type": "execute_result"
    },
    {
     "data": {
      "image/png": "[encoded data removed]",
      "text/plain": [
       "<Figure size 432x288 with 1 Axes>"
      ]
     },
     "metadata": {},
     "output_type": "display_data"
    }
   ],
   "source": [
    "import matplotlib.pyplot as plt\n",
    "plt.plot(alpha, mfSpect, 'ro-')\n",
    "plt.xlabel('$\\\\alpha$', fontsize=14)\n",
    "plt.ylabel('f($\\\\alpha$)', fontsize=14)\n",
    "plt.title('f($\\\\alpha$)', fontsize=14)"
   ]
  },
  {
   "cell_type": "markdown",
   "id": "c962f725",
   "metadata": {},
   "source": [
    "A concave shape in the f(q) vs q plot indicates a multifractal process. This suggests that there are many different scaling exponents in your time series,\n",
    "meaning there are multiple types of variability or complexity in your data."
   ]
  },
  {
   "cell_type": "code",
   "execution_count": 52,
   "id": "ebe7e7d1",
   "metadata": {},
   "outputs": [
    {
     "data": {
      "text/plain": [
       "array(['time', 'estimated_arrival_time', 'TradePrice', 'TradedVolume',\n",
       "       'NoOfTrades', 'arrival_rate', 'AverageVolumePerTrade', 'date',\n",
       "       'CCYTradedVolume', 'type', 'value', 'size', 'BestBid', 'BidSize',\n",
       "       'BestAsk', 'AskSize', 'CumlTradingVolume', 'CCYCumlVolume',\n",
       "       'CumlNoOfTrades', 'CumlTradedVolume', 'RunningNoOfTrades',\n",
       "       'RunningCumlVolume', 'RunningCumlNoOfTrades', 'MicroPrice',\n",
       "       'BASpread', 'QuoteSize', 'MidPrice', 'OrderImbalance',\n",
       "       'ExpandingMeanRelativeTickVolume', 'MeanRelativeTickVolume'],\n",
       "      dtype=object)"
      ]
     },
     "execution_count": 52,
     "metadata": {},
     "output_type": "execute_result"
    }
   ],
   "source": [
    "dfLOB.columns.values"
   ]
  },
  {
   "cell_type": "code",
   "execution_count": 54,
   "id": "68a89e07",
   "metadata": {},
   "outputs": [
    {
     "ename": "ValueError",
     "evalue": "all the input array dimensions for the concatenation axis must match exactly, but along dimension 0, the array at index 0 has size 69 and the array at index 1 has size 4324",
     "output_type": "error",
     "traceback": [
      "\u001b[0;31m---------------------------------------------------------------------------\u001b[0m",
      "\u001b[0;31mValueError\u001b[0m                                Traceback (most recent call last)",
      "\u001b[0;32m/tmp/ipykernel_423845/2748599705.py\u001b[0m in \u001b[0;36m<module>\u001b[0;34m\u001b[0m\n\u001b[1;32m     10\u001b[0m \u001b[0;34m\u001b[0m\u001b[0m\n\u001b[1;32m     11\u001b[0m \u001b[0;31m# calculate correlation\u001b[0m\u001b[0;34m\u001b[0m\u001b[0;34m\u001b[0m\u001b[0;34m\u001b[0m\u001b[0m\n\u001b[0;32m---> 12\u001b[0;31m \u001b[0mcorrelation\u001b[0m\u001b[0;34m,\u001b[0m \u001b[0m_\u001b[0m \u001b[0;34m=\u001b[0m \u001b[0mspearmanr\u001b[0m\u001b[0;34m(\u001b[0m\u001b[0mmfSpect\u001b[0m\u001b[0;34m,\u001b[0m \u001b[0mdfLOB\u001b[0m\u001b[0;34m.\u001b[0m\u001b[0mOrderImbalance\u001b[0m\u001b[0;34m)\u001b[0m\u001b[0;34m\u001b[0m\u001b[0;34m\u001b[0m\u001b[0m\n\u001b[0m\u001b[1;32m     13\u001b[0m \u001b[0mprint\u001b[0m\u001b[0;34m(\u001b[0m\u001b[0;34m'Spearman correlation: %.3f'\u001b[0m \u001b[0;34m%\u001b[0m \u001b[0mcorrelation\u001b[0m\u001b[0;34m)\u001b[0m\u001b[0;34m\u001b[0m\u001b[0;34m\u001b[0m\u001b[0m\n",
      "\u001b[0;32m~/anaconda3/envs/timeSeries/lib/python3.7/site-packages/scipy/stats/stats.py\u001b[0m in \u001b[0;36mspearmanr\u001b[0;34m(a, b, axis, nan_policy)\u001b[0m\n\u001b[1;32m   4181\u001b[0m         \u001b[0mb\u001b[0m\u001b[0;34m,\u001b[0m \u001b[0m_\u001b[0m \u001b[0;34m=\u001b[0m \u001b[0m_chk_asarray\u001b[0m\u001b[0;34m(\u001b[0m\u001b[0mb\u001b[0m\u001b[0;34m,\u001b[0m \u001b[0maxis\u001b[0m\u001b[0;34m)\u001b[0m\u001b[0;34m\u001b[0m\u001b[0;34m\u001b[0m\u001b[0m\n\u001b[1;32m   4182\u001b[0m         \u001b[0;32mif\u001b[0m \u001b[0maxisout\u001b[0m \u001b[0;34m==\u001b[0m \u001b[0;36m0\u001b[0m\u001b[0;34m:\u001b[0m\u001b[0;34m\u001b[0m\u001b[0;34m\u001b[0m\u001b[0m\n\u001b[0;32m-> 4183\u001b[0;31m             \u001b[0ma\u001b[0m \u001b[0;34m=\u001b[0m \u001b[0mnp\u001b[0m\u001b[0;34m.\u001b[0m\u001b[0mcolumn_stack\u001b[0m\u001b[0;34m(\u001b[0m\u001b[0;34m(\u001b[0m\u001b[0ma\u001b[0m\u001b[0;34m,\u001b[0m \u001b[0mb\u001b[0m\u001b[0;34m)\u001b[0m\u001b[0;34m)\u001b[0m\u001b[0;34m\u001b[0m\u001b[0;34m\u001b[0m\u001b[0m\n\u001b[0m\u001b[1;32m   4184\u001b[0m         \u001b[0;32melse\u001b[0m\u001b[0;34m:\u001b[0m\u001b[0;34m\u001b[0m\u001b[0;34m\u001b[0m\u001b[0m\n\u001b[1;32m   4185\u001b[0m             \u001b[0ma\u001b[0m \u001b[0;34m=\u001b[0m \u001b[0mnp\u001b[0m\u001b[0;34m.\u001b[0m\u001b[0mrow_stack\u001b[0m\u001b[0;34m(\u001b[0m\u001b[0;34m(\u001b[0m\u001b[0ma\u001b[0m\u001b[0;34m,\u001b[0m \u001b[0mb\u001b[0m\u001b[0;34m)\u001b[0m\u001b[0;34m)\u001b[0m\u001b[0;34m\u001b[0m\u001b[0;34m\u001b[0m\u001b[0m\n",
      "\u001b[0;32m<__array_function__ internals>\u001b[0m in \u001b[0;36mcolumn_stack\u001b[0;34m(*args, **kwargs)\u001b[0m\n",
      "\u001b[0;32m~/anaconda3/envs/timeSeries/lib/python3.7/site-packages/numpy/lib/shape_base.py\u001b[0m in \u001b[0;36mcolumn_stack\u001b[0;34m(tup)\u001b[0m\n\u001b[1;32m    654\u001b[0m             \u001b[0marr\u001b[0m \u001b[0;34m=\u001b[0m \u001b[0marray\u001b[0m\u001b[0;34m(\u001b[0m\u001b[0marr\u001b[0m\u001b[0;34m,\u001b[0m \u001b[0mcopy\u001b[0m\u001b[0;34m=\u001b[0m\u001b[0;32mFalse\u001b[0m\u001b[0;34m,\u001b[0m \u001b[0msubok\u001b[0m\u001b[0;34m=\u001b[0m\u001b[0;32mTrue\u001b[0m\u001b[0;34m,\u001b[0m \u001b[0mndmin\u001b[0m\u001b[0;34m=\u001b[0m\u001b[0;36m2\u001b[0m\u001b[0;34m)\u001b[0m\u001b[0;34m.\u001b[0m\u001b[0mT\u001b[0m\u001b[0;34m\u001b[0m\u001b[0;34m\u001b[0m\u001b[0m\n\u001b[1;32m    655\u001b[0m         \u001b[0marrays\u001b[0m\u001b[0;34m.\u001b[0m\u001b[0mappend\u001b[0m\u001b[0;34m(\u001b[0m\u001b[0marr\u001b[0m\u001b[0;34m)\u001b[0m\u001b[0;34m\u001b[0m\u001b[0;34m\u001b[0m\u001b[0m\n\u001b[0;32m--> 656\u001b[0;31m     \u001b[0;32mreturn\u001b[0m \u001b[0m_nx\u001b[0m\u001b[0;34m.\u001b[0m\u001b[0mconcatenate\u001b[0m\u001b[0;34m(\u001b[0m\u001b[0marrays\u001b[0m\u001b[0;34m,\u001b[0m \u001b[0;36m1\u001b[0m\u001b[0;34m)\u001b[0m\u001b[0;34m\u001b[0m\u001b[0;34m\u001b[0m\u001b[0m\n\u001b[0m\u001b[1;32m    657\u001b[0m \u001b[0;34m\u001b[0m\u001b[0m\n\u001b[1;32m    658\u001b[0m \u001b[0;34m\u001b[0m\u001b[0m\n",
      "\u001b[0;32m<__array_function__ internals>\u001b[0m in \u001b[0;36mconcatenate\u001b[0;34m(*args, **kwargs)\u001b[0m\n",
      "\u001b[0;31mValueError\u001b[0m: all the input array dimensions for the concatenation axis must match exactly, but along dimension 0, the array at index 0 has size 69 and the array at index 1 has size 4324"
     ]
    }
   ],
   "source": [
    "import numpy as np\n",
    "from scipy.stats import spearmanr\n",
    "\n",
    "# calculate volatility (standard deviation of returns)\n",
    "\n",
    "# volatility = dfLOB.MicroPrice.pct_change.rolling(window=30).std()  # 30-day rolling volatility\n",
    "\n",
    "# # perform MFDCCA\n",
    "# result = perform_MFDCCA(series)\n",
    "\n",
    "# calculate correlation\n",
    "correlation, _ = spearmanr(mfSpect, dfLOB.OrderImbalance)\n",
    "print('Spearman correlation: %.3f' % correlation)\n"
   ]
  },
  {
   "cell_type": "code",
   "execution_count": null,
   "id": "d4f0d2d0",
   "metadata": {},
   "outputs": [],
   "source": []
  }
 ],
 "metadata": {
  "kernelspec": {
   "display_name": "Python [conda env:timeSeries] *",
   "language": "python",
   "name": "conda-env-timeSeries-py"
  },
  "language_info": {
   "codemirror_mode": {
    "name": "ipython",
    "version": 3
   },
   "file_extension": ".py",
   "mimetype": "text/x-python",
   "name": "python",
   "nbconvert_exporter": "python",
   "pygments_lexer": "ipython3",
   "version": "3.7.12"
  }
 },
 "nbformat": 4,
 "nbformat_minor": 5
}
