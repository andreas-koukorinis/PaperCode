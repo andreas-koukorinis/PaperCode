{
 "cells": [
  {
   "cell_type": "code",
   "execution_count": 1,
   "id": "5ef1e25d",
   "metadata": {
    "pycharm": {
     "name": "#%%\n"
    }
   },
   "outputs": [
    {
     "ename": "ValueError",
     "evalue": "numpy.ndarray size changed, may indicate binary incompatibility. Expected 88 from C header, got 80 from PyObject",
     "output_type": "error",
     "traceback": [
      "\u001B[0;31m---------------------------------------------------------------------------\u001B[0m",
      "\u001B[0;31mValueError\u001B[0m                                Traceback (most recent call last)",
      "\u001B[0;32m/tmp/ipykernel_37148/3726021569.py\u001B[0m in \u001B[0;36m<module>\u001B[0;34m\u001B[0m\n\u001B[1;32m     16\u001B[0m \u001B[0;34m\u001B[0m\u001B[0m\n\u001B[1;32m     17\u001B[0m \u001B[0;32mimport\u001B[0m \u001B[0mglob\u001B[0m\u001B[0;34m\u001B[0m\u001B[0;34m\u001B[0m\u001B[0m\n\u001B[0;32m---> 18\u001B[0;31m \u001B[0;32mimport\u001B[0m \u001B[0mfathon\u001B[0m\u001B[0;34m\u001B[0m\u001B[0;34m\u001B[0m\u001B[0m\n\u001B[0m\u001B[1;32m     19\u001B[0m \u001B[0;32mfrom\u001B[0m \u001B[0mfathon\u001B[0m \u001B[0;32mimport\u001B[0m \u001B[0mfathonUtils\u001B[0m \u001B[0;32mas\u001B[0m \u001B[0mfu\u001B[0m\u001B[0;34m\u001B[0m\u001B[0;34m\u001B[0m\u001B[0m\n\u001B[1;32m     20\u001B[0m \u001B[0;34m\u001B[0m\u001B[0m\n",
      "\u001B[0;32m~/anaconda3/envs/tickData/lib/python3.7/site-packages/fathon/__init__.py\u001B[0m in \u001B[0;36m<module>\u001B[0;34m\u001B[0m\n\u001B[1;32m     22\u001B[0m     \u001B[0mos\u001B[0m\u001B[0;34m.\u001B[0m\u001B[0msystem\u001B[0m\u001B[0;34m(\u001B[0m\u001B[0mcmd\u001B[0m\u001B[0;34m)\u001B[0m\u001B[0;34m\u001B[0m\u001B[0;34m\u001B[0m\u001B[0m\n\u001B[1;32m     23\u001B[0m \u001B[0;34m\u001B[0m\u001B[0m\n\u001B[0;32m---> 24\u001B[0;31m \u001B[0;32mfrom\u001B[0m \u001B[0;34m.\u001B[0m\u001B[0mdfa\u001B[0m \u001B[0;32mimport\u001B[0m \u001B[0mDFA\u001B[0m\u001B[0;34m\u001B[0m\u001B[0;34m\u001B[0m\u001B[0m\n\u001B[0m\u001B[1;32m     25\u001B[0m \u001B[0;32mfrom\u001B[0m \u001B[0;34m.\u001B[0m\u001B[0mmfdfa\u001B[0m \u001B[0;32mimport\u001B[0m \u001B[0mMFDFA\u001B[0m\u001B[0;34m\u001B[0m\u001B[0;34m\u001B[0m\u001B[0m\n\u001B[1;32m     26\u001B[0m \u001B[0;32mfrom\u001B[0m \u001B[0;34m.\u001B[0m\u001B[0mdcca\u001B[0m \u001B[0;32mimport\u001B[0m \u001B[0mDCCA\u001B[0m\u001B[0;34m\u001B[0m\u001B[0;34m\u001B[0m\u001B[0m\n",
      "\u001B[0;32m~/anaconda3/envs/tickData/lib/python3.7/site-packages/fathon/dfa.pyx\u001B[0m in \u001B[0;36minit fathon.dfa\u001B[0;34m()\u001B[0m\n",
      "\u001B[0;31mValueError\u001B[0m: numpy.ndarray size changed, may indicate binary incompatibility. Expected 88 from C header, got 80 from PyObject"
     ]
    }
   ],
   "source": [
    "import pandas as pd\n",
    "import numpy as np\n",
    "import sys\n",
    "import multiprocessing\n",
    "import time\n",
    "import os\n",
    "import matplotlib.pyplot as plt\n",
    "import seaborn as sns\n",
    "from dateutil.parser import parse\n",
    "from pandas.tseries.offsets import BDay\n",
    "import pickle as pkl\n",
    "import fnmatch\n",
    "import matplotlib.ticker as mtick\n",
    "import datetime as dt\n",
    "from datetime import timedelta\n",
    "\n",
    "import glob\n",
    "import fathon\n",
    "from fathon import fathonUtils as fu\n",
    "\n",
    "\n",
    "import matplotlib as mpl\n",
    "from multiprocessing import Pool, freeze_support, Manager\n",
    "\n",
    "import itertools\n",
    "colormap = plt.cm.RdBu\n",
    "plt.style.use(os.path.join(mpl.get_configdir(),'latexstyle3.mplstyle'))\n",
    "\n",
    "# import freqopttest.kernel as kernel"
   ]
  },
  {
   "cell_type": "code",
   "execution_count": 2,
   "id": "fcad0dba",
   "metadata": {
    "pycharm": {
     "name": "#%%\n"
    }
   },
   "outputs": [
    {
     "data": {
      "text/plain": [
       "['RX1',\n",
       " 'FB1',\n",
       " 'JB1',\n",
       " 'G_1',\n",
       " 'FV1',\n",
       " 'TY1',\n",
       " 'TU1',\n",
       " 'DU1',\n",
       " 'YM1',\n",
       " 'XM1',\n",
       " 'US1',\n",
       " 'OE1',\n",
       " 'KE1',\n",
       " 'RXOld_do_I_delete']"
      ]
     },
     "execution_count": 2,
     "metadata": {},
     "output_type": "execute_result"
    }
   ],
   "source": [
    "t71 = '/media/ak/T71/August11th2022Experiments/'\n",
    "expInputFiles = os.path.join(t71,'ExperimentInputFiles' )\n",
    "rx1Folder = os.path.join(expInputFiles, 'RX1')\n",
    "os.listdir(expInputFiles)"
   ]
  },
  {
   "cell_type": "code",
   "execution_count": 3,
   "id": "e9f4aed5",
   "metadata": {
    "pycharm": {
     "name": "#%%\n"
    }
   },
   "outputs": [],
   "source": [
    "symbols = ['RX1',\n",
    " 'FB1',\n",
    " 'JB1',\n",
    " 'G_1',\n",
    " 'FV1',\n",
    " 'TY1',\n",
    " 'TU1',\n",
    " 'DU1',\n",
    " 'YM1',\n",
    " 'XM1',\n",
    " 'US1',\n",
    " 'OE1',\n",
    " 'KE1']"
   ]
  },
  {
   "cell_type": "code",
   "execution_count": 4,
   "id": "baacf0af",
   "metadata": {
    "pycharm": {
     "name": "#%%\n"
    }
   },
   "outputs": [
    {
     "name": "stdout",
     "output_type": "stream",
     "text": [
      "['RX1', 'FB1', 'JB1', 'G_1', 'FV1', 'TY1', 'TU1', 'DU1', 'YM1', 'XM1', 'US1', 'OE1', 'KE1']\n"
     ]
    }
   ],
   "source": [
    "print(symbols)"
   ]
  },
  {
   "cell_type": "code",
   "execution_count": 5,
   "id": "b62da467",
   "metadata": {
    "pycharm": {
     "name": "#%%\n"
    }
   },
   "outputs": [],
   "source": [
    "rx_files = os.listdir(rx1Folder) # all the rx files\n",
    "rx_files_volume = [f for f in rx_files if str('volume') in f]\n",
    "rx_files_dollar = [f for f in rx_files if str('dollar') in f]\n",
    "rx_files_tick = [f for f in rx_files if str('tick') in f]\n"
   ]
  },
  {
   "cell_type": "code",
   "execution_count": 6,
   "id": "aa8a0c3c",
   "metadata": {
    "pycharm": {
     "name": "#%%\n"
    }
   },
   "outputs": [
    {
     "name": "stdout",
     "output_type": "stream",
     "text": [
      "/media/ak/T71/August11th2022Experiments/ExperimentInputFiles/RX1/RX1_volume_20180417_exp_df.pkl\n"
     ]
    }
   ],
   "source": [
    "# load example file \n",
    "idx =1 \n",
    "idxFileLoc = os.path.join(rx1Folder, rx_files_volume[idx])\n",
    "print(idxFileLoc)\n",
    "df = pd.read_pickle(idxFileLoc)"
   ]
  },
  {
   "cell_type": "code",
   "execution_count": 7,
   "id": "8357ef95",
   "metadata": {
    "pycharm": {
     "name": "#%%\n"
    }
   },
   "outputs": [
    {
     "data": {
      "text/plain": [
       "array(['micro_price', 'price_imbalance', 'pct_change_micro_price',\n",
       "       'weighted_activity_spread', 'GK_vol', 'arrival_rates',\n",
       "       'returns_normalised', 'returns_mix_max', 'skew', 'kurt',\n",
       "       'median_traded_volume'], dtype=object)"
      ]
     },
     "execution_count": 7,
     "metadata": {},
     "output_type": "execute_result"
    }
   ],
   "source": [
    "df.columns.values"
   ]
  },
  {
   "cell_type": "code",
   "execution_count": 8,
   "id": "d2a672e6",
   "metadata": {
    "pycharm": {
     "name": "#%%\n"
    }
   },
   "outputs": [],
   "source": [
    "df1, df2 = [x for _, x in df.groupby(df['GK_vol'] < np.median(df.GK_vol))]"
   ]
  },
  {
   "cell_type": "code",
   "execution_count": 9,
   "id": "15e734e3",
   "metadata": {
    "pycharm": {
     "name": "#%%\n"
    }
   },
   "outputs": [
    {
     "data": {
      "text/plain": [
       "(144657, 11)"
      ]
     },
     "execution_count": 9,
     "metadata": {},
     "output_type": "execute_result"
    }
   ],
   "source": [
    "df1.shape"
   ]
  },
  {
   "cell_type": "code",
   "execution_count": 10,
   "id": "a66b4302",
   "metadata": {
    "pycharm": {
     "name": "#%%\n"
    }
   },
   "outputs": [
    {
     "data": {
      "text/plain": [
       "(144657, 11)"
      ]
     },
     "execution_count": 10,
     "metadata": {},
     "output_type": "execute_result"
    }
   ],
   "source": [
    "df2.shape"
   ]
  },
  {
   "cell_type": "code",
   "execution_count": 11,
   "id": "83d4cd70",
   "metadata": {
    "pycharm": {
     "name": "#%%\n"
    }
   },
   "outputs": [
    {
     "data": {
      "text/plain": [
       "(289314, 11)"
      ]
     },
     "execution_count": 11,
     "metadata": {},
     "output_type": "execute_result"
    }
   ],
   "source": [
    "df.shape"
   ]
  },
  {
   "cell_type": "code",
   "execution_count": 13,
   "id": "6c79aa28",
   "metadata": {
    "pycharm": {
     "name": "#%%\n"
    }
   },
   "outputs": [
    {
     "data": {
      "text/plain": [
       "['G_1_Hi_Vol_Regime', 'G_1_Lo_Vol_Regime']"
      ]
     },
     "execution_count": 13,
     "metadata": {},
     "output_type": "execute_result"
    }
   ],
   "source": [
    "os.listdir('/media/ak/T71/August11th2022Experiments/HiLoData/')"
   ]
  },
  {
   "cell_type": "code",
   "execution_count": 16,
   "id": "b21e976e",
   "metadata": {
    "pycharm": {
     "name": "#%%\n"
    }
   },
   "outputs": [
    {
     "data": {
      "text/html": [
       "<div>\n",
       "<style scoped>\n",
       "    .dataframe tbody tr th:only-of-type {\n",
       "        vertical-align: middle;\n",
       "    }\n",
       "\n",
       "    .dataframe tbody tr th {\n",
       "        vertical-align: top;\n",
       "    }\n",
       "\n",
       "    .dataframe thead th {\n",
       "        text-align: right;\n",
       "    }\n",
       "</style>\n",
       "<table border=\"1\" class=\"dataframe\">\n",
       "  <thead>\n",
       "    <tr style=\"text-align: right;\">\n",
       "      <th></th>\n",
       "      <th>micro_price</th>\n",
       "      <th>price_imbalance</th>\n",
       "      <th>pct_change_micro_price</th>\n",
       "      <th>weighted_activity_spread</th>\n",
       "      <th>GK_vol</th>\n",
       "      <th>arrival_rates</th>\n",
       "      <th>returns_normalised</th>\n",
       "      <th>returns_mix_max</th>\n",
       "      <th>skew</th>\n",
       "      <th>kurt</th>\n",
       "      <th>median_traded_volume</th>\n",
       "    </tr>\n",
       "  </thead>\n",
       "  <tbody>\n",
       "    <tr>\n",
       "      <th>0</th>\n",
       "      <td>123.428832</td>\n",
       "      <td>-22.548579</td>\n",
       "      <td>0.000000</td>\n",
       "      <td>0.014368</td>\n",
       "      <td>0.000306</td>\n",
       "      <td>69.0</td>\n",
       "      <td>0.000000</td>\n",
       "      <td>0.000000</td>\n",
       "      <td>0.000000</td>\n",
       "      <td>0.000000e+00</td>\n",
       "      <td>3.5</td>\n",
       "    </tr>\n",
       "    <tr>\n",
       "      <th>1</th>\n",
       "      <td>123.408958</td>\n",
       "      <td>-18.875743</td>\n",
       "      <td>-0.000141</td>\n",
       "      <td>0.010254</td>\n",
       "      <td>0.000300</td>\n",
       "      <td>100.0</td>\n",
       "      <td>-0.284001</td>\n",
       "      <td>0.505877</td>\n",
       "      <td>0.000000</td>\n",
       "      <td>0.000000e+00</td>\n",
       "      <td>1.0</td>\n",
       "    </tr>\n",
       "    <tr>\n",
       "      <th>2</th>\n",
       "      <td>123.402989</td>\n",
       "      <td>23.684391</td>\n",
       "      <td>0.000103</td>\n",
       "      <td>0.011605</td>\n",
       "      <td>0.000298</td>\n",
       "      <td>77.0</td>\n",
       "      <td>0.209815</td>\n",
       "      <td>0.510257</td>\n",
       "      <td>0.000000</td>\n",
       "      <td>0.000000e+00</td>\n",
       "      <td>3.0</td>\n",
       "    </tr>\n",
       "    <tr>\n",
       "      <th>3</th>\n",
       "      <td>123.419123</td>\n",
       "      <td>32.862695</td>\n",
       "      <td>0.000163</td>\n",
       "      <td>0.009378</td>\n",
       "      <td>0.000292</td>\n",
       "      <td>63.0</td>\n",
       "      <td>0.331697</td>\n",
       "      <td>0.511339</td>\n",
       "      <td>0.000000</td>\n",
       "      <td>0.000000e+00</td>\n",
       "      <td>3.0</td>\n",
       "    </tr>\n",
       "    <tr>\n",
       "      <th>4</th>\n",
       "      <td>123.437050</td>\n",
       "      <td>31.378126</td>\n",
       "      <td>0.000077</td>\n",
       "      <td>0.007672</td>\n",
       "      <td>0.000293</td>\n",
       "      <td>42.0</td>\n",
       "      <td>0.155946</td>\n",
       "      <td>0.509780</td>\n",
       "      <td>0.000000</td>\n",
       "      <td>0.000000e+00</td>\n",
       "      <td>1.0</td>\n",
       "    </tr>\n",
       "    <tr>\n",
       "      <th>...</th>\n",
       "      <td>...</td>\n",
       "      <td>...</td>\n",
       "      <td>...</td>\n",
       "      <td>...</td>\n",
       "      <td>...</td>\n",
       "      <td>...</td>\n",
       "      <td>...</td>\n",
       "      <td>...</td>\n",
       "      <td>...</td>\n",
       "      <td>...</td>\n",
       "      <td>...</td>\n",
       "    </tr>\n",
       "    <tr>\n",
       "      <th>19565</th>\n",
       "      <td>121.823353</td>\n",
       "      <td>-33.991260</td>\n",
       "      <td>0.000096</td>\n",
       "      <td>0.012916</td>\n",
       "      <td>0.000358</td>\n",
       "      <td>0.0</td>\n",
       "      <td>0.195210</td>\n",
       "      <td>0.510128</td>\n",
       "      <td>0.000169</td>\n",
       "      <td>7.721780e-12</td>\n",
       "      <td>1.0</td>\n",
       "    </tr>\n",
       "    <tr>\n",
       "      <th>19566</th>\n",
       "      <td>121.830362</td>\n",
       "      <td>-35.062900</td>\n",
       "      <td>0.000102</td>\n",
       "      <td>0.012084</td>\n",
       "      <td>0.000351</td>\n",
       "      <td>0.0</td>\n",
       "      <td>0.208168</td>\n",
       "      <td>0.510243</td>\n",
       "      <td>0.000171</td>\n",
       "      <td>7.836961e-12</td>\n",
       "      <td>1.0</td>\n",
       "    </tr>\n",
       "    <tr>\n",
       "      <th>19567</th>\n",
       "      <td>121.849302</td>\n",
       "      <td>4.091369</td>\n",
       "      <td>0.000195</td>\n",
       "      <td>0.014085</td>\n",
       "      <td>0.000349</td>\n",
       "      <td>0.0</td>\n",
       "      <td>0.396369</td>\n",
       "      <td>0.511912</td>\n",
       "      <td>0.000196</td>\n",
       "      <td>1.186395e-11</td>\n",
       "      <td>6.0</td>\n",
       "    </tr>\n",
       "    <tr>\n",
       "      <th>19568</th>\n",
       "      <td>121.859003</td>\n",
       "      <td>-12.840199</td>\n",
       "      <td>-0.000054</td>\n",
       "      <td>0.010793</td>\n",
       "      <td>0.000329</td>\n",
       "      <td>0.0</td>\n",
       "      <td>-0.107636</td>\n",
       "      <td>0.507441</td>\n",
       "      <td>0.000197</td>\n",
       "      <td>1.193158e-11</td>\n",
       "      <td>6.0</td>\n",
       "    </tr>\n",
       "    <tr>\n",
       "      <th>19569</th>\n",
       "      <td>121.876953</td>\n",
       "      <td>-19.909030</td>\n",
       "      <td>0.000293</td>\n",
       "      <td>0.020379</td>\n",
       "      <td>0.000330</td>\n",
       "      <td>0.0</td>\n",
       "      <td>0.593798</td>\n",
       "      <td>0.513664</td>\n",
       "      <td>0.000203</td>\n",
       "      <td>1.293501e-11</td>\n",
       "      <td>1.5</td>\n",
       "    </tr>\n",
       "  </tbody>\n",
       "</table>\n",
       "<p>9795 rows × 11 columns</p>\n",
       "</div>"
      ],
      "text/plain": [
       "       micro_price  price_imbalance  pct_change_micro_price  \\\n",
       "0       123.428832       -22.548579                0.000000   \n",
       "1       123.408958       -18.875743               -0.000141   \n",
       "2       123.402989        23.684391                0.000103   \n",
       "3       123.419123        32.862695                0.000163   \n",
       "4       123.437050        31.378126                0.000077   \n",
       "...            ...              ...                     ...   \n",
       "19565   121.823353       -33.991260                0.000096   \n",
       "19566   121.830362       -35.062900                0.000102   \n",
       "19567   121.849302         4.091369                0.000195   \n",
       "19568   121.859003       -12.840199               -0.000054   \n",
       "19569   121.876953       -19.909030                0.000293   \n",
       "\n",
       "       weighted_activity_spread    GK_vol  arrival_rates  returns_normalised  \\\n",
       "0                      0.014368  0.000306           69.0            0.000000   \n",
       "1                      0.010254  0.000300          100.0           -0.284001   \n",
       "2                      0.011605  0.000298           77.0            0.209815   \n",
       "3                      0.009378  0.000292           63.0            0.331697   \n",
       "4                      0.007672  0.000293           42.0            0.155946   \n",
       "...                         ...       ...            ...                 ...   \n",
       "19565                  0.012916  0.000358            0.0            0.195210   \n",
       "19566                  0.012084  0.000351            0.0            0.208168   \n",
       "19567                  0.014085  0.000349            0.0            0.396369   \n",
       "19568                  0.010793  0.000329            0.0           -0.107636   \n",
       "19569                  0.020379  0.000330            0.0            0.593798   \n",
       "\n",
       "       returns_mix_max      skew          kurt  median_traded_volume  \n",
       "0             0.000000  0.000000  0.000000e+00                   3.5  \n",
       "1             0.505877  0.000000  0.000000e+00                   1.0  \n",
       "2             0.510257  0.000000  0.000000e+00                   3.0  \n",
       "3             0.511339  0.000000  0.000000e+00                   3.0  \n",
       "4             0.509780  0.000000  0.000000e+00                   1.0  \n",
       "...                ...       ...           ...                   ...  \n",
       "19565         0.510128  0.000169  7.721780e-12                   1.0  \n",
       "19566         0.510243  0.000171  7.836961e-12                   1.0  \n",
       "19567         0.511912  0.000196  1.186395e-11                   6.0  \n",
       "19568         0.507441  0.000197  1.193158e-11                   6.0  \n",
       "19569         0.513664  0.000203  1.293501e-11                   1.5  \n",
       "\n",
       "[9795 rows x 11 columns]"
      ]
     },
     "execution_count": 16,
     "metadata": {},
     "output_type": "execute_result"
    }
   ],
   "source": [
    "pd.read_pickle('/media/ak/T71/August11th2022Experiments/HiLoData/G_1_Hi_Vol_Regime/G_1_tick_hi_regime20180608.pkl')"
   ]
  },
  {
   "cell_type": "code",
   "execution_count": 19,
   "id": "28e64184",
   "metadata": {
    "pycharm": {
     "name": "#%%\n"
    }
   },
   "outputs": [
    {
     "data": {
      "text/html": [
       "<div>\n",
       "<style scoped>\n",
       "    .dataframe tbody tr th:only-of-type {\n",
       "        vertical-align: middle;\n",
       "    }\n",
       "\n",
       "    .dataframe tbody tr th {\n",
       "        vertical-align: top;\n",
       "    }\n",
       "\n",
       "    .dataframe thead th {\n",
       "        text-align: right;\n",
       "    }\n",
       "</style>\n",
       "<table border=\"1\" class=\"dataframe\">\n",
       "  <thead>\n",
       "    <tr style=\"text-align: right;\">\n",
       "      <th></th>\n",
       "      <th>micro_price</th>\n",
       "      <th>price_imbalance</th>\n",
       "      <th>pct_change_micro_price</th>\n",
       "      <th>weighted_activity_spread</th>\n",
       "      <th>GK_vol</th>\n",
       "      <th>arrival_rates</th>\n",
       "      <th>returns_normalised</th>\n",
       "      <th>returns_mix_max</th>\n",
       "      <th>skew</th>\n",
       "      <th>kurt</th>\n",
       "      <th>median_traded_volume</th>\n",
       "    </tr>\n",
       "  </thead>\n",
       "  <tbody>\n",
       "    <tr>\n",
       "      <th>10</th>\n",
       "      <td>123.411330</td>\n",
       "      <td>33.700585</td>\n",
       "      <td>0.000027</td>\n",
       "      <td>0.006841</td>\n",
       "      <td>0.000280</td>\n",
       "      <td>42.0</td>\n",
       "      <td>0.054853</td>\n",
       "      <td>0.508883</td>\n",
       "      <td>0.000000</td>\n",
       "      <td>0.000000e+00</td>\n",
       "      <td>1.0</td>\n",
       "    </tr>\n",
       "    <tr>\n",
       "      <th>11</th>\n",
       "      <td>123.417930</td>\n",
       "      <td>37.564330</td>\n",
       "      <td>0.000050</td>\n",
       "      <td>0.005183</td>\n",
       "      <td>0.000278</td>\n",
       "      <td>67.0</td>\n",
       "      <td>0.103125</td>\n",
       "      <td>0.509311</td>\n",
       "      <td>0.000000</td>\n",
       "      <td>0.000000e+00</td>\n",
       "      <td>4.0</td>\n",
       "    </tr>\n",
       "    <tr>\n",
       "      <th>12</th>\n",
       "      <td>123.435378</td>\n",
       "      <td>6.906891</td>\n",
       "      <td>0.000153</td>\n",
       "      <td>0.008537</td>\n",
       "      <td>0.000280</td>\n",
       "      <td>60.0</td>\n",
       "      <td>0.310793</td>\n",
       "      <td>0.511153</td>\n",
       "      <td>0.000000</td>\n",
       "      <td>0.000000e+00</td>\n",
       "      <td>4.0</td>\n",
       "    </tr>\n",
       "    <tr>\n",
       "      <th>13</th>\n",
       "      <td>123.447509</td>\n",
       "      <td>2.679061</td>\n",
       "      <td>0.000089</td>\n",
       "      <td>0.010221</td>\n",
       "      <td>0.000268</td>\n",
       "      <td>30.0</td>\n",
       "      <td>0.181044</td>\n",
       "      <td>0.510002</td>\n",
       "      <td>0.000000</td>\n",
       "      <td>0.000000e+00</td>\n",
       "      <td>1.0</td>\n",
       "    </tr>\n",
       "    <tr>\n",
       "      <th>14</th>\n",
       "      <td>123.461694</td>\n",
       "      <td>39.809235</td>\n",
       "      <td>0.000179</td>\n",
       "      <td>0.010368</td>\n",
       "      <td>0.000265</td>\n",
       "      <td>25.0</td>\n",
       "      <td>0.364309</td>\n",
       "      <td>0.511628</td>\n",
       "      <td>0.000162</td>\n",
       "      <td>6.773327e-12</td>\n",
       "      <td>2.0</td>\n",
       "    </tr>\n",
       "    <tr>\n",
       "      <th>...</th>\n",
       "      <td>...</td>\n",
       "      <td>...</td>\n",
       "      <td>...</td>\n",
       "      <td>...</td>\n",
       "      <td>...</td>\n",
       "      <td>...</td>\n",
       "      <td>...</td>\n",
       "      <td>...</td>\n",
       "      <td>...</td>\n",
       "      <td>...</td>\n",
       "      <td>...</td>\n",
       "    </tr>\n",
       "    <tr>\n",
       "      <th>19584</th>\n",
       "      <td>121.820174</td>\n",
       "      <td>26.744774</td>\n",
       "      <td>0.000168</td>\n",
       "      <td>0.007900</td>\n",
       "      <td>0.000000</td>\n",
       "      <td>0.0</td>\n",
       "      <td>0.340572</td>\n",
       "      <td>0.511417</td>\n",
       "      <td>0.000182</td>\n",
       "      <td>9.283721e-12</td>\n",
       "      <td>1.0</td>\n",
       "    </tr>\n",
       "    <tr>\n",
       "      <th>19585</th>\n",
       "      <td>121.841032</td>\n",
       "      <td>26.452989</td>\n",
       "      <td>0.000161</td>\n",
       "      <td>0.007373</td>\n",
       "      <td>0.000000</td>\n",
       "      <td>0.0</td>\n",
       "      <td>0.327841</td>\n",
       "      <td>0.511304</td>\n",
       "      <td>0.000180</td>\n",
       "      <td>9.098108e-12</td>\n",
       "      <td>1.0</td>\n",
       "    </tr>\n",
       "    <tr>\n",
       "      <th>19586</th>\n",
       "      <td>121.860831</td>\n",
       "      <td>31.177243</td>\n",
       "      <td>0.000169</td>\n",
       "      <td>0.007579</td>\n",
       "      <td>0.000000</td>\n",
       "      <td>0.0</td>\n",
       "      <td>0.343876</td>\n",
       "      <td>0.511447</td>\n",
       "      <td>0.000180</td>\n",
       "      <td>9.047634e-12</td>\n",
       "      <td>1.0</td>\n",
       "    </tr>\n",
       "    <tr>\n",
       "      <th>19587</th>\n",
       "      <td>121.865897</td>\n",
       "      <td>7.596447</td>\n",
       "      <td>-0.000107</td>\n",
       "      <td>0.015516</td>\n",
       "      <td>0.000000</td>\n",
       "      <td>0.0</td>\n",
       "      <td>-0.216052</td>\n",
       "      <td>0.506480</td>\n",
       "      <td>0.000167</td>\n",
       "      <td>7.433050e-12</td>\n",
       "      <td>1.5</td>\n",
       "    </tr>\n",
       "    <tr>\n",
       "      <th>19588</th>\n",
       "      <td>121.861087</td>\n",
       "      <td>10.601739</td>\n",
       "      <td>0.000027</td>\n",
       "      <td>0.010324</td>\n",
       "      <td>0.000000</td>\n",
       "      <td>0.0</td>\n",
       "      <td>0.055436</td>\n",
       "      <td>0.508888</td>\n",
       "      <td>0.000169</td>\n",
       "      <td>7.648715e-12</td>\n",
       "      <td>1.5</td>\n",
       "    </tr>\n",
       "  </tbody>\n",
       "</table>\n",
       "<p>9794 rows × 11 columns</p>\n",
       "</div>"
      ],
      "text/plain": [
       "       micro_price  price_imbalance  pct_change_micro_price  \\\n",
       "10      123.411330        33.700585                0.000027   \n",
       "11      123.417930        37.564330                0.000050   \n",
       "12      123.435378         6.906891                0.000153   \n",
       "13      123.447509         2.679061                0.000089   \n",
       "14      123.461694        39.809235                0.000179   \n",
       "...            ...              ...                     ...   \n",
       "19584   121.820174        26.744774                0.000168   \n",
       "19585   121.841032        26.452989                0.000161   \n",
       "19586   121.860831        31.177243                0.000169   \n",
       "19587   121.865897         7.596447               -0.000107   \n",
       "19588   121.861087        10.601739                0.000027   \n",
       "\n",
       "       weighted_activity_spread    GK_vol  arrival_rates  returns_normalised  \\\n",
       "10                     0.006841  0.000280           42.0            0.054853   \n",
       "11                     0.005183  0.000278           67.0            0.103125   \n",
       "12                     0.008537  0.000280           60.0            0.310793   \n",
       "13                     0.010221  0.000268           30.0            0.181044   \n",
       "14                     0.010368  0.000265           25.0            0.364309   \n",
       "...                         ...       ...            ...                 ...   \n",
       "19584                  0.007900  0.000000            0.0            0.340572   \n",
       "19585                  0.007373  0.000000            0.0            0.327841   \n",
       "19586                  0.007579  0.000000            0.0            0.343876   \n",
       "19587                  0.015516  0.000000            0.0           -0.216052   \n",
       "19588                  0.010324  0.000000            0.0            0.055436   \n",
       "\n",
       "       returns_mix_max      skew          kurt  median_traded_volume  \n",
       "10            0.508883  0.000000  0.000000e+00                   1.0  \n",
       "11            0.509311  0.000000  0.000000e+00                   4.0  \n",
       "12            0.511153  0.000000  0.000000e+00                   4.0  \n",
       "13            0.510002  0.000000  0.000000e+00                   1.0  \n",
       "14            0.511628  0.000162  6.773327e-12                   2.0  \n",
       "...                ...       ...           ...                   ...  \n",
       "19584         0.511417  0.000182  9.283721e-12                   1.0  \n",
       "19585         0.511304  0.000180  9.098108e-12                   1.0  \n",
       "19586         0.511447  0.000180  9.047634e-12                   1.0  \n",
       "19587         0.506480  0.000167  7.433050e-12                   1.5  \n",
       "19588         0.508888  0.000169  7.648715e-12                   1.5  \n",
       "\n",
       "[9794 rows x 11 columns]"
      ]
     },
     "execution_count": 19,
     "metadata": {},
     "output_type": "execute_result"
    }
   ],
   "source": [
    "pd.read_pickle('/media/ak/T71/August11th2022Experiments/HiLoData/G_1_lo_Vol_Regime/G_1_tick_lo_regime20180608.pkl')"
   ]
  },
  {
   "cell_type": "markdown",
   "id": "aafb87f6",
   "metadata": {
    "pycharm": {
     "name": "#%% md\n"
    }
   },
   "source": [
    "# variables\n",
    "'micro_price',\n",
    " 'price_imbalance',\n",
    " 'pct_change_micro_price',\n",
    " 'weighted_activity_spread',\n",
    " 'GK_vol',\n",
    " 'arrival_rates',\n",
    " 'returns_normalised',\n",
    " 'returns_mix_max',\n",
    " 'skew',\n",
    " 'kurt',\n",
    " 'median_traded_volume'"
   ]
  },
  {
   "cell_type": "raw",
   "id": "a737bb56",
   "metadata": {
    "pycharm": {
     "name": "#%% raw\n"
    }
   },
   "source": [
    "['micro_price',\n",
    " 'price_imbalance',\n",
    " 'pct_change_micro_price',\n",
    " 'weighted_activity_spread',\n",
    " 'GK_vol',\n",
    " 'arrival_rates',\n",
    " 'returns_normalised',\n",
    " 'returns_mix_max',\n",
    " 'skew',\n",
    " 'kurt',\n",
    " 'median_traded_volume']"
   ]
  },
  {
   "cell_type": "code",
   "execution_count": null,
   "id": "9917a3ca",
   "metadata": {
    "pycharm": {
     "name": "#%%\n"
    }
   },
   "outputs": [],
   "source": []
  },
  {
   "cell_type": "code",
   "execution_count": null,
   "id": "0ee30824",
   "metadata": {
    "pycharm": {
     "name": "#%%\n"
    }
   },
   "outputs": [],
   "source": [
    "a1 = df1['price_imbalance']\n",
    "b1 = df1['median_traded_volume']\n",
    "c1 = df1['arrival_rates']\n",
    "\n",
    "a2 = df2['price_imbalance']\n",
    "b2 = df2['median_traded_volume']\n",
    "c2 = df2['arrival_rates']"
   ]
  },
  {
   "cell_type": "code",
   "execution_count": null,
   "id": "b713c976",
   "metadata": {
    "pycharm": {
     "name": "#%%\n"
    }
   },
   "outputs": [],
   "source": [
    "import numpy as np\n",
    "import matplotlib.pyplot as plt\n",
    "import fathon\n",
    "from fathon import fathonUtils as fu"
   ]
  },
  {
   "cell_type": "code",
   "execution_count": null,
   "id": "155c2319",
   "metadata": {
    "pycharm": {
     "name": "#%%\n"
    }
   },
   "outputs": [],
   "source": [
    "a1 = fu.toAggregated(a1)\n",
    "b1 = fu.toAggregated(b1)\n",
    "c1 = fu.toAggregated(c1)\n",
    "\n",
    "a2 = fu.toAggregated(a2)\n",
    "b2 = fu.toAggregated(b2)\n",
    "c2 = fu.toAggregated(c2)"
   ]
  },
  {
   "cell_type": "code",
   "execution_count": null,
   "id": "2c8f2e8f",
   "metadata": {
    "pycharm": {
     "name": "#%%\n"
    }
   },
   "outputs": [],
   "source": [
    "pydcca = fathon.DCCA(a1, b1)\n",
    "\n",
    "winSizes = fu.linRangeByStep(20, 1000, step=50)\n",
    "polOrd = 1\n",
    "\n",
    "n, F = pydcca.computeFlucVec(winSizes, polOrd=polOrd)\n",
    "\n",
    "H, H_intercept = pydcca.fitFlucVec()\n",
    "\n",
    "plt.plot(np.log(n), np.log(F), 'ro')\n",
    "plt.plot(np.log(n), H_intercept+H*np.log(n), 'k-', label='H = {:.2f}'.format(H))\n",
    "plt.xlabel('ln(n)', fontsize=14)\n",
    "plt.ylabel('ln(F(n))', fontsize=14)\n",
    "plt.title('DCCA', fontsize=14)\n",
    "plt.legend(loc=0, fontsize=14)\n",
    "plt.show()\n",
    "\n",
    "limits_list = np.array([[20,120], [220,870]], dtype=int)\n",
    "list_H, list_H_intercept = pydcca.multiFitFlucVec(limits_list)\n",
    "\n",
    "clrs = ['k', 'b', 'm', 'c', 'y']\n",
    "stls = ['-', '--', '.-']\n",
    "plt.plot(np.log(n), np.log(F), 'ro')\n",
    "for i in range(len(list_H)):\n",
    "    n_rng = np.arange(limits_list[i][0], limits_list[i][1]+1, 50)\n",
    "#     label='H tick = {:.2f}'.format(H_tick), color='red', linestyle = ':')\n",
    "    plt.plot(np.log(n_rng), list_H_intercept[i]+list_H[i]*np.log(n_rng),\n",
    "             clrs[i%len(clrs)]+stls[(i//len(clrs))%len(stls)], label='H_volume = {:.2f}'.format(list_H[i]), color='red', linestyle = ':')\n",
    "plt.xlabel('ln(n)', fontsize=14)\n",
    "plt.ylabel('ln(F(n))', fontsize=14)\n",
    "plt.title('DCCA', fontsize=14)\n",
    "plt.legend(loc=0, fontsize=14)\n",
    "plt.show()\n",
    "\n",
    "winSizes = fu.linRangeByStep(20, 1000, step=50)\n",
    "polOrd = 1\n",
    "\n",
    "n, rho = pydcca.computeRho(winSizes, polOrd=polOrd)\n",
    "\n",
    "plt.plot(n, rho, 'ro')\n",
    "plt.ylim(-1, 1)\n",
    "plt.xlabel('n', fontsize=14)\n",
    "plt.ylabel('$\\\\rho_{DCCA}$', fontsize=14)\n",
    "plt.title('rhoDCCA', fontsize=14)\n",
    "plt.show()\n",
    "\n",
    "pythresh = fathon.DCCA()\n",
    "\n",
    "L = 300\n",
    "winSizes = fu.linRangeByStep(4, 100, step=1)\n",
    "nSim = 100\n",
    "confLvl = 0.95\n",
    "polOrd = 1\n",
    "\n",
    "n, cInt1, cInt2 = pythresh.rhoThresholds(L, winSizes, nSim, confLvl, polOrd=polOrd, verbose=True)\n",
    "\n",
    "plt.plot(n, cInt1, 'r-')\n",
    "plt.plot(n, cInt2, 'b-')\n",
    "plt.ylim(-1, 1)\n",
    "plt.xlabel('n', fontsize=14)\n",
    "plt.show()"
   ]
  },
  {
   "cell_type": "code",
   "execution_count": null,
   "id": "31db00de",
   "metadata": {
    "pycharm": {
     "name": "#%%\n"
    }
   },
   "outputs": [],
   "source": [
    "pydcca = fathon.DCCA(a2, b2)\n",
    "\n",
    "winSizes = fu.linRangeByStep(20, 1000, step=50)\n",
    "polOrd = 1\n",
    "\n",
    "n, F = pydcca.computeFlucVec(winSizes, polOrd=polOrd)\n",
    "\n",
    "H, H_intercept = pydcca.fitFlucVec()\n",
    "\n",
    "plt.plot(np.log(n), np.log(F), 'ro')\n",
    "plt.plot(np.log(n), H_intercept+H*np.log(n), 'k-', label='H = {:.2f}'.format(H))\n",
    "plt.xlabel('ln(n)', fontsize=14)\n",
    "plt.ylabel('ln(F(n))', fontsize=14)\n",
    "plt.title('DCCA', fontsize=14)\n",
    "plt.legend(loc=0, fontsize=14)\n",
    "plt.show()\n",
    "\n",
    "limits_list = np.array([[20,120], [220,870]], dtype=int)\n",
    "list_H, list_H_intercept = pydcca.multiFitFlucVec(limits_list)\n",
    "\n",
    "clrs = ['k', 'b', 'm', 'c', 'y']\n",
    "stls = ['-', '--', '.-']\n",
    "plt.plot(np.log(n), np.log(F), 'ro')\n",
    "for i in range(len(list_H)):\n",
    "    n_rng = np.arange(limits_list[i][0], limits_list[i][1]+1, 50)\n",
    "#     label='H tick = {:.2f}'.format(H_tick), color='red', linestyle = ':')\n",
    "    plt.plot(np.log(n_rng), list_H_intercept[i]+list_H[i]*np.log(n_rng),\n",
    "             clrs[i%len(clrs)]+stls[(i//len(clrs))%len(stls)], label='H_volume = {:.2f}'.format(list_H[i]), color='red', linestyle = ':')\n",
    "plt.xlabel('ln(n)', fontsize=14)\n",
    "plt.ylabel('ln(F(n))', fontsize=14)\n",
    "plt.title('DCCA', fontsize=14)\n",
    "plt.legend(loc=0, fontsize=14)\n",
    "plt.show()\n",
    "\n",
    "winSizes = fu.linRangeByStep(20, 1000, step=50)\n",
    "polOrd = 1\n",
    "\n",
    "n, rho = pydcca.computeRho(winSizes, polOrd=polOrd)\n",
    "\n",
    "plt.plot(n, rho, 'ro')\n",
    "plt.ylim(-1, 1)\n",
    "plt.xlabel('n', fontsize=14)\n",
    "plt.ylabel('$\\\\rho_{DCCA}$', fontsize=14)\n",
    "plt.title('rhoDCCA', fontsize=14)\n",
    "plt.show()\n",
    "\n",
    "pythresh = fathon.DCCA()\n",
    "\n",
    "L = 300\n",
    "winSizes = fu.linRangeByStep(4, 100, step=1)\n",
    "nSim = 100\n",
    "confLvl = 0.95\n",
    "polOrd = 1\n",
    "\n",
    "n, cInt1, cInt2 = pythresh.rhoThresholds(L, winSizes, nSim, confLvl, polOrd=polOrd, verbose=True)\n",
    "\n",
    "plt.plot(n, cInt1, 'r-')\n",
    "plt.plot(n, cInt2, 'b-')\n",
    "plt.ylim(-1, 1)\n",
    "plt.xlabel('n', fontsize=14)\n",
    "plt.show()"
   ]
  },
  {
   "cell_type": "code",
   "execution_count": 22,
   "id": "1d60715a",
   "metadata": {
    "pycharm": {
     "name": "#%%\n"
    }
   },
   "outputs": [],
   "source": [
    "## plotting "
   ]
  },
  {
   "cell_type": "code",
   "execution_count": null,
   "id": "adf647d9",
   "metadata": {
    "pycharm": {
     "name": "#%%\n"
    }
   },
   "outputs": [],
   "source": []
  }
 ],
 "metadata": {
  "kernelspec": {
   "display_name": "Python 3 (ipykernel)",
   "language": "python",
   "name": "python3"
  },
  "language_info": {
   "codemirror_mode": {
    "name": "ipython",
    "version": 3
   },
   "file_extension": ".py",
   "mimetype": "text/x-python",
   "name": "python",
   "nbconvert_exporter": "python",
   "pygments_lexer": "ipython3",
   "version": "3.7.12"
  }
 },
 "nbformat": 4,
 "nbformat_minor": 5
}