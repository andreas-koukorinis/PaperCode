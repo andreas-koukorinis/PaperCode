{
 "cells": [
  {
   "cell_type": "code",
   "execution_count": 1,
   "id": "a52c70b0",
   "metadata": {},
   "outputs": [],
   "source": [
    "import os\n",
    "import pandas as pd\n",
    "import numpy as np\n",
    "import seaborn as sns\n",
    "import matplotlib.pyplot as plt\n",
    "from IPython.display import display, Markdown\n",
    "\n",
    "# Assuming clocks[3] contains the data you want to display\n",
    "\n",
    "import os\n",
    "import pandas as pd\n",
    "\n"
   ]
  },
  {
   "cell_type": "code",
   "execution_count": 2,
   "id": "0b3779e0",
   "metadata": {},
   "outputs": [],
   "source": [
    "t7 = '/media/ak/T7'"
   ]
  },
  {
   "cell_type": "code",
   "execution_count": 3,
   "id": "f6a2598a",
   "metadata": {},
   "outputs": [
    {
     "data": {
      "text/plain": [
       "['Samsung Portable SSD SW for Android.txt',\n",
       " 'oct92022',\n",
       " 'SamsungPortableSSD_Setup_Win_1.0.exe',\n",
       " 'Bond Pressure Index',\n",
       " 'Bond Selection Model',\n",
       " 'Algorithmic Trading Strategy Research',\n",
       " 'Regime Switching',\n",
       " 'Jan9th2022Research',\n",
       " 'PhdThesis_materials',\n",
       " 'SVM Papers',\n",
       " 'SunFeb52023',\n",
       " 'ExperimentCommonLocs',\n",
       " '0803.2773.pdf',\n",
       " 'Returns',\n",
       " 'Random PDF',\n",
       " 'AK-stuff',\n",
       " 'tmp',\n",
       " 'Reference Books for Coding',\n",
       " 'CryptoResearch',\n",
       " 'Work_Quant',\n",
       " 'Quant Finance Documents & Books',\n",
       " 'Journal of Trading Articles',\n",
       " 'Market Microstructure_PriceImpact_Liquidity',\n",
       " 'Hidden Markov and Latent Variable models',\n",
       " 'Reinforcement Learning',\n",
       " 'FX _ Commodities Models',\n",
       " 'Books',\n",
       " '.Trash-1000',\n",
       " 'Street Market Research and Technical Papers (contains copies)',\n",
       " 'testEventClockFiles',\n",
       " 'InterestRateFuturesData',\n",
       " 'Quant Papers that Need Categorisation',\n",
       " 'Kernels',\n",
       " 'Math from 3 to 7 Zvonkin.pdf',\n",
       " 'GH references',\n",
       " 'Carry Strategy Documents',\n",
       " 'ResearchNotebooks',\n",
       " 'Code_REWRITE',\n",
       " 'Deep Learning',\n",
       " 'Applied or Practical Factor Work',\n",
       " 'Intraday Strategies and Ideas',\n",
       " 'Intraday Momentum',\n",
       " 'Background Materials',\n",
       " 'Seasonality',\n",
       " 'Electricity Trading',\n",
       " 'Empirical Finance Topics',\n",
       " 'decca_pdf.pdf',\n",
       " 'Graphical Models, Probabilistic and Unsupervised Learning',\n",
       " 'Guassian Process',\n",
       " 'PortFolioConstruction',\n",
       " 'Introduction to Graphical Models Chiappa',\n",
       " 'Unsupervised Learning',\n",
       " 'Macro Indicators',\n",
       " 'Market Making',\n",
       " 'Multi Source Machine Learning',\n",
       " 'Pairs Trading Papers',\n",
       " 'StylisedFacts',\n",
       " 'System Volume Information',\n",
       " '$RECYCLE.BIN',\n",
       " 'from cash to crypto.pdf',\n",
       " 'Aemilia Pictures',\n",
       " 'Positioning Indicators',\n",
       " 'Chess Books',\n",
       " 'credit_primer.pdf',\n",
       " 'appendix_simple.pdf',\n",
       " 'QuantMental Signals',\n",
       " 'algo trading books',\n",
       " 'Fitness',\n",
       " 'new-latex.pdf',\n",
       " 'Stat Arb with Causality',\n",
       " 'Theses References',\n",
       " 'UCL-thesis',\n",
       " 'MarketsPieces',\n",
       " 'FuturesDataSemiProcessed',\n",
       " 'Relevant Ph.D Theses',\n",
       " 'Trend Strategies',\n",
       " '072775d1_3f05_434e_84a5_5db0d2972060_604.pdf',\n",
       " 'Heuristic',\n",
       " 'ce4a781d_3cc6_4cf7_9a6f_3c2430cec58c_604.pdf',\n",
       " 'Jan9th2022Downloads',\n",
       " 'Jan16thDownloads2022',\n",
       " 'Medians',\n",
       " 'DataScienceWeekly-DataScientistInterviews-Vol1-April2014.pdf',\n",
       " 'From Main Data',\n",
       " 'copy to merge',\n",
       " 'Reference Theses for Ph.D Thesis',\n",
       " 'Jan22_2022Downloads',\n",
       " 'Research_References',\n",
       " 'Coding Books',\n",
       " 'Street Quant Stuff',\n",
       " 'systematic market making',\n",
       " 'Scientific Programming With Python',\n",
       " 'RL Literature & Lecture Notes',\n",
       " 'Computational Statistics Books',\n",
       " 'theses used',\n",
       " 'Computer Vision',\n",
       " 'kernel two sample test methodology',\n",
       " 'Gaussian_Processes',\n",
       " 'NIPS 2019 Papers of Interest',\n",
       " 'statistical computing',\n",
       " 'Kernel Target Allignment',\n",
       " 'Stylised Facts References',\n",
       " 'June4th2022Experiments',\n",
       " '1576544307-cv_complete.pdf',\n",
       " '.~lock.Tick_Data_SymbolList_Futures.xlsx#',\n",
       " 'Franky Shoot',\n",
       " 'Tick_Data_SymbolList_Futures.xlsx',\n",
       " 'August11th2022Experiments',\n",
       " 'MFDFA Materials',\n",
       " 'Microstructure Research',\n",
       " 'DocumentsToBeProcessed',\n",
       " 'August292022Files',\n",
       " 'sept32022_downloads',\n",
       " 'Thesis Relevant',\n",
       " 'MFDFA and LongMemory',\n",
       " 'Embeddings References',\n",
       " 'DB on AI',\n",
       " 'DB Strategies',\n",
       " 'Crypto',\n",
       " '2310.14144 (1).pdf',\n",
       " 'JPM_J_P_Morgan_digest_on_2023-05-16_4416194.pdf',\n",
       " 'JPM_Big_Data___AI_Strate_2023-09-19_4516055.pdf',\n",
       " 'JPM_CTA_Activity_in_Trea_2023-08-24_4495925.pdf',\n",
       " 'JPM_Impacts_of_March_Reg_2023-06-01_4428189.pdf',\n",
       " 'JPM_Impacts_of_March_Reg_2023-06-01_4428189 (1).pdf',\n",
       " 'JPM_J_P_Morgan_digest_on_2023-05-16_4416194 (1).pdf',\n",
       " 'Big Data & AI Strategies_ Contextual NLP sentiment signals using global newswires. Tue Apr 12 2022.pdf',\n",
       " 'Generative AI & Large Language Model Technologies_ DeepFin Investor Workshop summary with NVIDIA. Thu Aug 17 2023.pdf',\n",
       " 'The Quantum of Sharpe_ Quantum Computing for Finance_ DeepFin Investor Workshop summary with IBM Quantum. Wed Aug 31 2022.pdf',\n",
       " 'Natural Language Modelling with Deep Learning and GPUs_ DeepFin Investor Workshop summary with NVIDIA. Thu Nov 18 2021.pdf',\n",
       " 'How Did Our Systematic Tradable Strategies Perform__ Reviewing Risk Premia Trades with Some New Ideas. Fri Mar 16 2018.pdf',\n",
       " 'How close to realized vol should implied vol trade_. Tue Sep 26 2023.pdf',\n",
       " 'Calculating a fair smile. Wed May 17 2023.pdf',\n",
       " 'Fundamental Rates Value Strategies_ Harnessing macro-economic data to trade yield deviations from fair values. Wed Mar 22 2023.pdf',\n",
       " 'Big Data and AI Strategies_ A Practitioner’s Introduction to Neural Networks II. Tue Jan 31 2023.pdf',\n",
       " 'Rust',\n",
       " 'statement.pdf',\n",
       " 'meta learning',\n",
       " 'PhysRevLett.131.197401.pdf']"
      ]
     },
     "execution_count": 3,
     "metadata": {},
     "output_type": "execute_result"
    }
   ],
   "source": [
    "os.listdir(t7)"
   ]
  },
  {
   "cell_type": "code",
   "execution_count": 4,
   "id": "451be9e7",
   "metadata": {},
   "outputs": [],
   "source": [
    "experimentData = '/media/ak/Data1/ExperimentData'\n",
    "ProcessedDataForExperiments = os.path.join(experimentData, 'ProcessedDataForExperiments')\n",
    "figuresLocation = '/home/ak/Documents/Research/Papers/StylisedFactsPaper/figures'"
   ]
  },
  {
   "cell_type": "code",
   "execution_count": 5,
   "id": "02ec6551",
   "metadata": {},
   "outputs": [],
   "source": [
    "# os.listdir(ProcessedDataForExperiments)"
   ]
  },
  {
   "cell_type": "code",
   "execution_count": 6,
   "id": "8ac4e9b8",
   "metadata": {},
   "outputs": [],
   "source": [
    "base_folder = '/media/ak/Data/ExperimentData/August11th2022Experiments/ExperimentInputFiles'\n",
    "outputs = os.path.join(base_folder, 'outputs')"
   ]
  },
  {
   "cell_type": "code",
   "execution_count": 7,
   "id": "cdaf9160",
   "metadata": {},
   "outputs": [
    {
     "data": {
      "text/plain": [
       "['allLOBUST2y.pkl',\n",
       " 'allLOBUST5y.pkl',\n",
       " 'alpha_spectra_dict_bidsizeratioUST10y.pkl',\n",
       " 'alpha_spectra_dict_UST10y.pkl',\n",
       " 'alpha_spectra_dict_UST2y.pkl',\n",
       " 'alpha_spectra_dict_UST5y.pkl',\n",
       " 'ProcessedDataForExperiments']"
      ]
     },
     "execution_count": 7,
     "metadata": {},
     "output_type": "execute_result"
    }
   ],
   "source": [
    "os.listdir('/media/ak/Data1/ExperimentData/')"
   ]
  },
  {
   "cell_type": "code",
   "execution_count": 8,
   "id": "f5f7d01c",
   "metadata": {},
   "outputs": [],
   "source": [
    "t7ExpInputFiles = '/media/ak/T7/August11th2022Experiments/ExperimentInputFiles/'\n",
    "clocks = ['calendar', 'tick', 'dollar', 'volume']\n",
    "symbols = os.listdir(t7ExpInputFiles)"
   ]
  },
  {
   "cell_type": "code",
   "execution_count": 9,
   "id": "fe7ddf28",
   "metadata": {},
   "outputs": [
    {
     "data": {
      "image/png": "[encoded data removed]",
      "text/plain": [
       "<Figure size 1080x432 with 2 Axes>"
      ]
     },
     "metadata": {
      "needs_background": "light"
     },
     "output_type": "display_data"
    },
    {
     "data": {
      "text/plain": [
       "<Figure size 432x288 with 0 Axes>"
      ]
     },
     "metadata": {},
     "output_type": "display_data"
    }
   ],
   "source": [
    "symbolIdx = 2\n",
    "symbolPathLocation = os.path.join(t7ExpInputFiles, symbols[symbolIdx]) \n",
    "micro_price_dict = dict()\n",
    "clockIDX =2\n",
    "list_compher = [f for f in os.listdir(symbolPathLocation) if str(clocks[clockIDX]) in f]\n",
    "testFileIdx = 2\n",
    "testFile = os.path.join(symbolPathLocation,list_compher[testFileIdx])\n",
    "file  = pd.read_pickle(testFile)\n",
    "micro_price_dict[testFileIdx] = file['micro_price']\n",
    "###########################\n",
    "micro_price_dict = dict()\n",
    "clockIDX =2\n",
    "volume = [f for f in os.listdir(symbolPathLocation) if str(clocks[clockIDX]) in f]\n",
    "testFileIdx = 2\n",
    "testFile = os.path.join(symbolPathLocation,volume[testFileIdx])\n",
    "file  = pd.read_pickle(testFile)\n",
    "micro_price_dict[testFileIdx] = file['micro_price']\n",
    "\n",
    "\n",
    "# Get a list of all files in the directory that match the specified criteria\n",
    "volume = [f for f in os.listdir(symbolPathLocation) if str(clocks[testFileIdx]) in f]\n",
    "\n",
    "# Create a dictionary with file indices as keys and 'micro_price' data as values\n",
    "micro_price_dict = {idx: pd.read_pickle(os.path.join(symbolPathLocation, filename))['micro_price'] \n",
    "                    for idx, filename in enumerate(volume)}\n",
    "\n",
    "\n",
    "# Assuming micro_price_dict is already populated\n",
    "data = pd.DataFrame.from_dict(micro_price_dict).dropna()\n",
    "\n",
    "# Normalize the data\n",
    "data_normalized = (data - data.mean()) / data.std()\n",
    "\n",
    "# Calculate median values and their statistics\n",
    "median_values = data_normalized.median(axis=1)\n",
    "mean = median_values.mean()\n",
    "std_dev = median_values.std()\n",
    "\n",
    "# Define the number of bins for the histogram\n",
    "num_bins = 50  # Adjust this value as needed\n",
    "\n",
    "# Create a figure with two subplots\n",
    "fig, axes = plt.subplots(1, 2, figsize=(15, 6))\n",
    "\n",
    "# Plot the regular histogram with a density plot\n",
    "sns.histplot(median_values, bins=num_bins, kde=True, color=\"blue\", ax=axes[0])\n",
    "# axes[0].set_title('Histogram of Normalized Median Values with Density Plot')\n",
    "axes[0].set_xlabel('Normalized Median Value', fontsize = 20)\n",
    "axes[0].set_ylabel('Density', fontsize = 20)\n",
    "\n",
    "# Adding vertical lines for mean and standard deviations\n",
    "axes[0].axvline(mean, color='red', linestyle='--', linewidth=2, label='Mean')\n",
    "axes[0].axvline(mean - std_dev, color='green', linestyle='--', linewidth=2, label='Mean - 1 SD')\n",
    "axes[0].axvline(mean + std_dev, color='green', linestyle='--', linewidth=2, label='Mean + 1 SD')\n",
    "axes[0].legend()\n",
    "\n",
    "# Plot the cumulative probability histogram\n",
    "sns.histplot(median_values, bins=num_bins, cumulative=True, stat=\"density\", kde=False, color=\"green\", ax=axes[1])\n",
    "# axes[1].set_title('Cumulative Probability Histogram')\n",
    "axes[1].set_xlabel('Normalized Median Value', fontsize = 20)\n",
    "axes[1].set_ylabel('Cumulative Probability', fontsize = 20)\n",
    "\n",
    "# Adjust layout and show plot\n",
    "plt.tight_layout()\n",
    "plt.show()\n",
    "plt.tight_layout()\n",
    "title = str(symbols[symbolIdx]) + str(clocks[clockIDX]) \n",
    "plt.savefig(f'{title}.png', dpi=300)\n"
   ]
  },
  {
   "cell_type": "code",
   "execution_count": 18,
   "id": "a110826d",
   "metadata": {},
   "outputs": [
    {
     "data": {
      "text/markdown": [
       "# JB1"
      ],
      "text/plain": [
       "<IPython.core.display.Markdown object>"
      ]
     },
     "metadata": {},
     "output_type": "display_data"
    }
   ],
   "source": [
    "# Check if your data is not a string, convert it to string\n",
    "symbol_text = str(symbols[symbolIdx])\n",
    "\n",
    "# Use Markdown to format it as a big header (e.g., H1)\n",
    "display(Markdown(f'# {symbol_text}'))"
   ]
  },
  {
   "cell_type": "code",
   "execution_count": null,
   "id": "bf2ee8ec",
   "metadata": {},
   "outputs": [],
   "source": [
    "\n"
   ]
  },
  {
   "cell_type": "code",
   "execution_count": 19,
   "id": "b0769400",
   "metadata": {},
   "outputs": [
    {
     "data": {
      "text/plain": [
       "['JB1_dollar_20180416_exp_df.pkl',\n",
       " 'JB1_dollar_20180417_exp_df.pkl',\n",
       " 'JB1_dollar_20180418_exp_df.pkl',\n",
       " 'JB1_dollar_20180419_exp_df.pkl',\n",
       " 'JB1_dollar_20180420_exp_df.pkl',\n",
       " 'JB1_dollar_20180423_exp_df.pkl',\n",
       " 'JB1_dollar_20180424_exp_df.pkl',\n",
       " 'JB1_dollar_20180425_exp_df.pkl',\n",
       " 'JB1_dollar_20180426_exp_df.pkl',\n",
       " 'JB1_dollar_20180427_exp_df.pkl',\n",
       " 'JB1_dollar_20180430_exp_df.pkl',\n",
       " 'JB1_dollar_20180502_exp_df.pkl',\n",
       " 'JB1_dollar_20180504_exp_df.pkl',\n",
       " 'JB1_dollar_20180507_exp_df.pkl',\n",
       " 'JB1_dollar_20180508_exp_df.pkl',\n",
       " 'JB1_dollar_20180509_exp_df.pkl',\n",
       " 'JB1_dollar_20180510_exp_df.pkl',\n",
       " 'JB1_dollar_20180511_exp_df.pkl',\n",
       " 'JB1_dollar_20180514_exp_df.pkl',\n",
       " 'JB1_dollar_20180515_exp_df.pkl',\n",
       " 'JB1_dollar_20180516_exp_df.pkl',\n",
       " 'JB1_dollar_20180517_exp_df.pkl',\n",
       " 'JB1_dollar_20180518_exp_df.pkl',\n",
       " 'JB1_dollar_20180521_exp_df.pkl',\n",
       " 'JB1_dollar_20180522_exp_df.pkl',\n",
       " 'JB1_dollar_20180523_exp_df.pkl',\n",
       " 'JB1_dollar_20180524_exp_df.pkl',\n",
       " 'JB1_dollar_20180525_exp_df.pkl',\n",
       " 'JB1_dollar_20180528_exp_df.pkl',\n",
       " 'JB1_dollar_20180529_exp_df.pkl',\n",
       " 'JB1_dollar_20180530_exp_df.pkl',\n",
       " 'JB1_dollar_20180531_exp_df.pkl',\n",
       " 'JB1_dollar_20180601_exp_df.pkl',\n",
       " 'JB1_dollar_20180604_exp_df.pkl',\n",
       " 'JB1_dollar_20180605_exp_df.pkl',\n",
       " 'JB1_dollar_20180606_exp_df.pkl',\n",
       " 'JB1_dollar_20180607_exp_df.pkl',\n",
       " 'JB1_dollar_20180608_exp_df.pkl',\n",
       " 'JB1_dollar_20180611_exp_df.pkl',\n",
       " 'JB1_dollar_20180612_exp_df.pkl',\n",
       " 'JB1_dollar_20180613_exp_df.pkl',\n",
       " 'JB1_dollar_20180614_exp_df.pkl',\n",
       " 'JB1_dollar_20180615_exp_df.pkl',\n",
       " 'JB1_dollar_20180618_exp_df.pkl',\n",
       " 'JB1_dollar_20180619_exp_df.pkl',\n",
       " 'JB1_dollar_20180620_exp_df.pkl',\n",
       " 'JB1_dollar_20180621_exp_df.pkl',\n",
       " 'JB1_dollar_20180622_exp_df.pkl',\n",
       " 'JB1_dollar_20180625_exp_df.pkl',\n",
       " 'JB1_dollar_20180626_exp_df.pkl',\n",
       " 'JB1_dollar_20180627_exp_df.pkl',\n",
       " 'JB1_dollar_20180628_exp_df.pkl',\n",
       " 'JB1_dollar_20180629_exp_df.pkl',\n",
       " 'JB1_dollar_20180702_exp_df.pkl',\n",
       " 'JB1_dollar_20180703_exp_df.pkl',\n",
       " 'JB1_dollar_20180704_exp_df.pkl',\n",
       " 'JB1_dollar_20180705_exp_df.pkl',\n",
       " 'JB1_dollar_20180706_exp_df.pkl',\n",
       " 'JB1_dollar_20180709_exp_df.pkl',\n",
       " 'JB1_dollar_20180710_exp_df.pkl',\n",
       " 'JB1_dollar_20180711_exp_df.pkl',\n",
       " 'JB1_dollar_20180712_exp_df.pkl',\n",
       " 'JB1_dollar_20180713_exp_df.pkl',\n",
       " 'JB1_dollar_20180716_exp_df.pkl',\n",
       " 'JB1_dollar_20180717_exp_df.pkl',\n",
       " 'JB1_dollar_20180718_exp_df.pkl',\n",
       " 'JB1_dollar_20180719_exp_df.pkl',\n",
       " 'JB1_dollar_20180720_exp_df.pkl',\n",
       " 'JB1_dollar_20180723_exp_df.pkl',\n",
       " 'JB1_dollar_20180724_exp_df.pkl',\n",
       " 'JB1_dollar_20180725_exp_df.pkl',\n",
       " 'JB1_dollar_20180726_exp_df.pkl',\n",
       " 'JB1_dollar_20180727_exp_df.pkl',\n",
       " 'JB1_dollar_20180730_exp_df.pkl',\n",
       " 'JB1_dollar_20180731_exp_df.pkl',\n",
       " 'JB1_dollar_20180801_exp_df.pkl',\n",
       " 'JB1_dollar_20180802_exp_df.pkl',\n",
       " 'JB1_dollar_20180803_exp_df.pkl',\n",
       " 'JB1_dollar_20180806_exp_df.pkl',\n",
       " 'JB1_dollar_20180807_exp_df.pkl',\n",
       " 'JB1_dollar_20180808_exp_df.pkl',\n",
       " 'JB1_dollar_20180809_exp_df.pkl',\n",
       " 'JB1_dollar_20180810_exp_df.pkl',\n",
       " 'JB1_dollar_20180813_exp_df.pkl',\n",
       " 'JB1_dollar_20180814_exp_df.pkl',\n",
       " 'JB1_dollar_20180815_exp_df.pkl',\n",
       " 'JB1_dollar_20180816_exp_df.pkl',\n",
       " 'JB1_dollar_20180817_exp_df.pkl',\n",
       " 'JB1_dollar_20180820_exp_df.pkl',\n",
       " 'JB1_dollar_20180821_exp_df.pkl',\n",
       " 'JB1_dollar_20180822_exp_df.pkl',\n",
       " 'JB1_dollar_20180823_exp_df.pkl',\n",
       " 'JB1_dollar_20180824_exp_df.pkl',\n",
       " 'JB1_dollar_20180827_exp_df.pkl',\n",
       " 'JB1_dollar_20180828_exp_df.pkl',\n",
       " 'JB1_dollar_20180829_exp_df.pkl',\n",
       " 'JB1_dollar_20180830_exp_df.pkl',\n",
       " 'JB1_dollar_20180831_exp_df.pkl',\n",
       " 'JB1_dollar_20180903_exp_df.pkl',\n",
       " 'JB1_dollar_20180904_exp_df.pkl',\n",
       " 'JB1_dollar_20180905_exp_df.pkl',\n",
       " 'JB1_dollar_20180906_exp_df.pkl',\n",
       " 'JB1_dollar_20180907_exp_df.pkl',\n",
       " 'JB1_dollar_20180910_exp_df.pkl',\n",
       " 'JB1_dollar_20180911_exp_df.pkl',\n",
       " 'JB1_dollar_20180912_exp_df.pkl',\n",
       " 'JB1_dollar_20180913_exp_df.pkl',\n",
       " 'JB1_dollar_20180914_exp_df.pkl',\n",
       " 'JB1_dollar_20180917_exp_df.pkl',\n",
       " 'JB1_dollar_20180918_exp_df.pkl',\n",
       " 'JB1_dollar_20180919_exp_df.pkl',\n",
       " 'JB1_dollar_20180920_exp_df.pkl',\n",
       " 'JB1_dollar_20180921_exp_df.pkl',\n",
       " 'JB1_dollar_20180924_exp_df.pkl',\n",
       " 'JB1_dollar_20180925_exp_df.pkl',\n",
       " 'JB1_dollar_20180926_exp_df.pkl',\n",
       " 'JB1_dollar_20180927_exp_df.pkl',\n",
       " 'JB1_dollar_20180928_exp_df.pkl',\n",
       " 'JB1_dollar_20181001_exp_df.pkl',\n",
       " 'JB1_dollar_20181002_exp_df.pkl',\n",
       " 'JB1_dollar_20181003_exp_df.pkl',\n",
       " 'JB1_dollar_20181004_exp_df.pkl',\n",
       " 'JB1_dollar_20181005_exp_df.pkl',\n",
       " 'JB1_dollar_20181008_exp_df.pkl',\n",
       " 'JB1_dollar_20181009_exp_df.pkl',\n",
       " 'JB1_dollar_20181010_exp_df.pkl',\n",
       " 'JB1_dollar_20181011_exp_df.pkl',\n",
       " 'JB1_dollar_20181012_exp_df.pkl',\n",
       " 'JB1_dollar_20181015_exp_df.pkl',\n",
       " 'JB1_dollar_20181016_exp_df.pkl',\n",
       " 'JB1_dollar_20181017_exp_df.pkl',\n",
       " 'JB1_dollar_20181018_exp_df.pkl',\n",
       " 'JB1_dollar_20181019_exp_df.pkl',\n",
       " 'JB1_dollar_20181022_exp_df.pkl',\n",
       " 'JB1_dollar_20181023_exp_df.pkl',\n",
       " 'JB1_dollar_20181024_exp_df.pkl',\n",
       " 'JB1_dollar_20181025_exp_df.pkl',\n",
       " 'JB1_dollar_20181026_exp_df.pkl']"
      ]
     },
     "execution_count": 19,
     "metadata": {},
     "output_type": "execute_result"
    }
   ],
   "source": [
    "volume"
   ]
  },
  {
   "cell_type": "code",
   "execution_count": 20,
   "id": "7143258b",
   "metadata": {},
   "outputs": [
    {
     "data": {
      "text/markdown": [
       "# dollar"
      ],
      "text/plain": [
       "<IPython.core.display.Markdown object>"
      ]
     },
     "metadata": {},
     "output_type": "display_data"
    }
   ],
   "source": [
    "# Check if your data is not a string, convert it to string\n",
    "header_text = str(clocks[clockIDX])\n",
    "\n",
    "# Use Markdown to format it as a big header (e.g., H1)\n",
    "display(Markdown(f'# {header_text}'))"
   ]
  },
  {
   "cell_type": "code",
   "execution_count": 21,
   "id": "4687136f",
   "metadata": {},
   "outputs": [],
   "source": [
    "import os\n",
    "import pandas as pd\n",
    "\n",
    "# Get a list of all files in the directory that match the specified criteria\n",
    "volume = [f for f in os.listdir(symbolPathLocation) if str(clocks[testFileIdx]) in f]\n",
    "\n",
    "# Create a dictionary with file indices as keys and 'micro_price' data as values\n",
    "micro_price_dict = {idx: pd.read_pickle(os.path.join(symbolPathLocation, filename))['micro_price'] \n",
    "                    for idx, filename in enumerate(volume)}\n"
   ]
  },
  {
   "cell_type": "code",
   "execution_count": 22,
   "id": "412688d2",
   "metadata": {},
   "outputs": [
    {
     "name": "stderr",
     "output_type": "stream",
     "text": [
      "/home/ak/anaconda3/envs/timeSeries/lib/python3.7/site-packages/ipykernel_launcher.py:1: FutureWarning: In a future version of pandas all arguments of DataFrame.dropna will be keyword-only\n",
      "  \"\"\"Entry point for launching an IPython kernel.\n"
     ]
    }
   ],
   "source": [
    "x = pd.DataFrame.from_dict(micro_price_dict).dropna(0).median(axis=1)"
   ]
  },
  {
   "cell_type": "code",
   "execution_count": 23,
   "id": "6ff96a88",
   "metadata": {},
   "outputs": [
    {
     "data": {
      "image/png": "[encoded data removed]",
      "text/plain": [
       "<Figure size 432x288 with 1 Axes>"
      ]
     },
     "metadata": {
      "needs_background": "light"
     },
     "output_type": "display_data"
    }
   ],
   "source": [
    "_=plt.hist(x, bins =30)"
   ]
  },
  {
   "cell_type": "code",
   "execution_count": 26,
   "id": "24693d5b",
   "metadata": {},
   "outputs": [
    {
     "data": {
      "image/png": "[encoded data removed]",
      "text/plain": [
       "<Figure size 1080x432 with 2 Axes>"
      ]
     },
     "metadata": {
      "needs_background": "light"
     },
     "output_type": "display_data"
    },
    {
     "data": {
      "text/plain": [
       "<Figure size 432x288 with 0 Axes>"
      ]
     },
     "metadata": {},
     "output_type": "display_data"
    }
   ],
   "source": [
    "\n",
    "# Assuming micro_price_dict is already populated\n",
    "data = pd.DataFrame.from_dict(micro_price_dict).dropna()\n",
    "\n",
    "# Normalize the data\n",
    "data_normalized = (data - data.mean()) / data.std()\n",
    "\n",
    "# Calculate median values and their statistics\n",
    "median_values = data_normalized.median(axis=1)\n",
    "mean = median_values.mean()\n",
    "std_dev = median_values.std()\n",
    "\n",
    "# Define the number of bins for the histogram\n",
    "num_bins = 50  # Adjust this value as needed\n",
    "\n",
    "# Create a figure with two subplots\n",
    "fig, axes = plt.subplots(1, 2, figsize=(15, 6))\n",
    "\n",
    "# Plot the regular histogram with a density plot\n",
    "sns.histplot(median_values, bins=num_bins, kde=True, color=\"blue\", ax=axes[0])\n",
    "# axes[0].set_title('Histogram of Normalized Median Values with Density Plot')\n",
    "axes[0].set_xlabel('Normalized Median Value', fontsize = 20)\n",
    "axes[0].set_ylabel('Density', fontsize = 20)\n",
    "\n",
    "# Adding vertical lines for mean and standard deviations\n",
    "axes[0].axvline(mean, color='red', linestyle='--', linewidth=2, label='Mean')\n",
    "axes[0].axvline(mean - std_dev, color='green', linestyle='--', linewidth=2, label='Mean - 1 SD')\n",
    "axes[0].axvline(mean + std_dev, color='green', linestyle='--', linewidth=2, label='Mean + 1 SD')\n",
    "axes[0].legend()\n",
    "\n",
    "# Plot the cumulative probability histogram\n",
    "sns.histplot(median_values, bins=num_bins, cumulative=True, stat=\"density\", kde=False, color=\"green\", ax=axes[1])\n",
    "# axes[1].set_title('Cumulative Probability Histogram')\n",
    "axes[1].set_xlabel('Normalized Median Value', fontsize = 20)\n",
    "axes[1].set_ylabel('Cumulative Probability', fontsize = 20)\n",
    "\n",
    "# Adjust layout and show plot\n",
    "plt.tight_layout()\n",
    "plt.show()\n",
    "plt.tight_layout()\n",
    "title = str(symbols[symbolIdx]) + str(clocks[clockIDX]) \n",
    "plt.savefig(f'{title}.png', dpi=300)\n"
   ]
  },
  {
   "cell_type": "code",
   "execution_count": 28,
   "id": "c5f8e3e7",
   "metadata": {},
   "outputs": [
    {
     "name": "stdout",
     "output_type": "stream",
     "text": [
      "0\n",
      "1\n",
      "2\n",
      "3\n",
      "0\n",
      "1\n",
      "2\n",
      "3\n",
      "0\n",
      "1\n",
      "2\n",
      "3\n",
      "0\n",
      "1\n",
      "2\n",
      "3\n",
      "0\n",
      "1\n",
      "2\n",
      "3\n",
      "0\n",
      "1\n",
      "2\n",
      "3\n",
      "0\n",
      "1\n",
      "2\n",
      "3\n",
      "0\n",
      "1\n",
      "2\n",
      "3\n",
      "0\n",
      "1\n",
      "2\n",
      "3\n",
      "0\n",
      "1\n",
      "2\n",
      "3\n",
      "0\n",
      "1\n",
      "2\n",
      "3\n",
      "0\n",
      "1\n",
      "2\n",
      "3\n",
      "0\n",
      "1\n",
      "2\n",
      "3\n",
      "/home/ak/Documents/Research/Papers/StylisedFactsPaper/figures/RX1tick.png\n",
      "/home/ak/Documents/Research/Papers/StylisedFactsPaper/figures/JB1dollar.png\n",
      "/home/ak/Documents/Research/Papers/StylisedFactsPaper/figures/US1tick.png\n",
      "/home/ak/Documents/Research/Papers/StylisedFactsPaper/figures/G_1calendar.png\n",
      "/home/ak/Documents/Research/Papers/StylisedFactsPaper/figures/G_1dollar.png\n",
      "/home/ak/Documents/Research/Papers/StylisedFactsPaper/figures/YM1tick.png\n",
      "/home/ak/Documents/Research/Papers/StylisedFactsPaper/figures/JB1tick.png\n",
      "/home/ak/Documents/Research/Papers/StylisedFactsPaper/figures/US1volume.png\n",
      "/home/ak/Documents/Research/Papers/StylisedFactsPaper/figures/XM1tick.png\n",
      "/home/ak/Documents/Research/Papers/StylisedFactsPaper/figures/KE1tick.png\n",
      "/home/ak/Documents/Research/Papers/StylisedFactsPaper/figures/G_1tick.png\n",
      "/home/ak/Documents/Research/Papers/StylisedFactsPaper/figures/JB1volume.png\n",
      "/home/ak/Documents/Research/Papers/StylisedFactsPaper/figures/YM1volume.png\n",
      "/home/ak/Documents/Research/Papers/StylisedFactsPaper/figures/G_1volume.png\n",
      "/home/ak/Documents/Research/Papers/StylisedFactsPaper/figures/XM1volume.png\n",
      "/home/ak/Documents/Research/Papers/StylisedFactsPaper/figures/KE1volume.png\n",
      "/home/ak/Documents/Research/Papers/StylisedFactsPaper/figures/FV1volume.png\n",
      "/home/ak/Documents/Research/Papers/StylisedFactsPaper/figures/YM1dollar.png\n",
      "/home/ak/Documents/Research/Papers/StylisedFactsPaper/figures/XM1dollar.png\n",
      "/home/ak/Documents/Research/Papers/StylisedFactsPaper/figures/RX1dollar.png\n"
     ]
    }
   ],
   "source": [
    "import os\n",
    "import pandas as pd\n",
    "import seaborn as sns\n",
    "import matplotlib.pyplot as plt\n",
    "from concurrent.futures import ProcessPoolExecutor\n",
    "\n",
    "def process_data(symbolIdx, clockIDX):\n",
    "    symbolPathLocation = os.path.join(t7ExpInputFiles, symbols[symbolIdx])\n",
    "    volume = [f for f in os.listdir(symbolPathLocation) if str(clocks[clockIDX]) in f]\n",
    "    \n",
    "    micro_price_dict = {idx: pd.read_pickle(os.path.join(symbolPathLocation, filename))['micro_price']\n",
    "                        for idx, filename in enumerate(volume)}\n",
    "\n",
    "    if not micro_price_dict:\n",
    "        return  # Skip if the dictionary is empty\n",
    "\n",
    "    # Data processing\n",
    "    data = pd.DataFrame.from_dict(micro_price_dict).dropna()\n",
    "    data_normalized = (data - data.mean()) / data.std()\n",
    "    median_values = data_normalized.median(axis=1)\n",
    "    mean = median_values.mean()\n",
    "    std_dev = median_values.std()\n",
    "\n",
    "    # Plotting\n",
    "    num_bins = 50\n",
    "    fig, axes = plt.subplots(1, 2, figsize=(15, 6))\n",
    "    sns.histplot(median_values, bins=num_bins, kde=True, color=\"blue\", ax=axes[0])\n",
    "    axes[0].set_xlabel('Normalized Median Value', fontsize=20)\n",
    "    axes[0].set_ylabel('Density', fontsize=20)\n",
    "    axes[0].axvline(mean, color='red', linestyle='--', linewidth=2, label='Mean')\n",
    "    axes[0].axvline(mean - std_dev, color='green', linestyle='--', linewidth=2, label='Mean - 1 SD')\n",
    "    axes[0].axvline(mean + std_dev, color='green', linestyle='--', linewidth=2, label='Mean + 1 SD')\n",
    "    axes[0].legend()\n",
    "    sns.histplot(median_values, bins=num_bins, cumulative=True, stat=\"density\", kde=False, color=\"green\", ax=axes[1])\n",
    "    axes[1].set_xlabel('Normalized Median Value', fontsize = 20)\n",
    "    axes[1].set_ylabel('Cumulative Probability', fontsize=20)\n",
    "    plt.tight_layout()\n",
    "    title = f'{symbols[symbolIdx]}{clocks[clockIDX]}'\n",
    "    plt.savefig(os.path.join(figuresLocation, f'{title}.png'), dpi=300)\n",
    "    print(os.path.join(figuresLocation, f'{title}.png'))\n",
    "    plt.close(fig)\n",
    "\n",
    "# Assuming `t7ExpInputFiles`, `symbols`, and `clocks` are predefined\n",
    "clocks = ['calendar', 'tick', 'dollar', 'volume']\n",
    "symbolIdx_values = range(len(symbols))  # Assuming `symbols` is a list of symbols\n",
    "\n",
    "# Using ProcessPoolExecutor to run processes in parallel\n",
    "with ProcessPoolExecutor() as executor:\n",
    "    for symbolIdx in symbolIdx_values:\n",
    "        for clockIDX,_ in enumerate(clocks):\n",
    "            print(clockIDX)\n",
    "            executor.submit(process_data, symbolIdx, clockIDX)\n"
   ]
  },
  {
   "cell_type": "code",
   "execution_count": null,
   "id": "86600192",
   "metadata": {},
   "outputs": [],
   "source": [
    "print(clocks[0], clocks[1], clocks[2], clocks[3])"
   ]
  },
  {
   "cell_type": "code",
   "execution_count": null,
   "id": "019f682b",
   "metadata": {},
   "outputs": [],
   "source": []
  },
  {
   "cell_type": "code",
   "execution_count": null,
   "id": "5ac1c23d",
   "metadata": {},
   "outputs": [],
   "source": []
  }
 ],
 "metadata": {
  "kernelspec": {
   "display_name": "Python 3 (ipykernel)",
   "language": "python",
   "name": "python3"
  },
  "language_info": {
   "codemirror_mode": {
    "name": "ipython",
    "version": 3
   },
   "file_extension": ".py",
   "mimetype": "text/x-python",
   "name": "python",
   "nbconvert_exporter": "python",
   "pygments_lexer": "ipython3",
   "version": "3.7.12"
  }
 },
 "nbformat": 4,
 "nbformat_minor": 5
}
