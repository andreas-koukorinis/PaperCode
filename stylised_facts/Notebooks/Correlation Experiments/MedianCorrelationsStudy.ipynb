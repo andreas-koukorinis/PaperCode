{
 "cells": [
  {
   "cell_type": "code",
   "execution_count": 4,
   "id": "07f26fef",
   "metadata": {},
   "outputs": [
    {
     "ename": "TypeError",
     "evalue": "corr() missing 1 required positional argument: 'other'",
     "output_type": "error",
     "traceback": [
      "\u001b[0;31m---------------------------------------------------------------------------\u001b[0m",
      "\u001b[0;31mTypeError\u001b[0m                                 Traceback (most recent call last)",
      "\u001b[0;32m/tmp/ipykernel_610089/3590166042.py\u001b[0m in \u001b[0;36m<module>\u001b[0;34m\u001b[0m\n\u001b[1;32m     36\u001b[0m \u001b[0;32mfor\u001b[0m \u001b[0msymbol\u001b[0m \u001b[0;32min\u001b[0m \u001b[0msymbols\u001b[0m\u001b[0;34m:\u001b[0m\u001b[0;34m\u001b[0m\u001b[0;34m\u001b[0m\u001b[0m\n\u001b[1;32m     37\u001b[0m     \u001b[0minput_file\u001b[0m \u001b[0;34m=\u001b[0m \u001b[0mos\u001b[0m\u001b[0;34m.\u001b[0m\u001b[0mpath\u001b[0m\u001b[0;34m.\u001b[0m\u001b[0mjoin\u001b[0m\u001b[0;34m(\u001b[0m\u001b[0moutput_folder\u001b[0m\u001b[0;34m,\u001b[0m \u001b[0msymbol\u001b[0m \u001b[0;34m+\u001b[0m \u001b[0;34m'_median_lagged_correl.pkl'\u001b[0m\u001b[0;34m)\u001b[0m\u001b[0;34m\u001b[0m\u001b[0;34m\u001b[0m\u001b[0m\n\u001b[0;32m---> 38\u001b[0;31m     \u001b[0mcreate_heatmap\u001b[0m\u001b[0;34m(\u001b[0m\u001b[0minput_file\u001b[0m\u001b[0;34m)\u001b[0m\u001b[0;34m\u001b[0m\u001b[0;34m\u001b[0m\u001b[0m\n\u001b[0m",
      "\u001b[0;32m/tmp/ipykernel_610089/3590166042.py\u001b[0m in \u001b[0;36mcreate_heatmap\u001b[0;34m(input_file)\u001b[0m\n\u001b[1;32m     22\u001b[0m     \u001b[0;31m# Create the heatmap\u001b[0m\u001b[0;34m\u001b[0m\u001b[0;34m\u001b[0m\u001b[0;34m\u001b[0m\u001b[0m\n\u001b[1;32m     23\u001b[0m     \u001b[0mplt\u001b[0m\u001b[0;34m.\u001b[0m\u001b[0mfigure\u001b[0m\u001b[0;34m(\u001b[0m\u001b[0mfigsize\u001b[0m\u001b[0;34m=\u001b[0m\u001b[0;34m(\u001b[0m\u001b[0;36m10\u001b[0m\u001b[0;34m,\u001b[0m \u001b[0;36m8\u001b[0m\u001b[0;34m)\u001b[0m\u001b[0;34m)\u001b[0m  \u001b[0;31m# Set the size of the figure\u001b[0m\u001b[0;34m\u001b[0m\u001b[0;34m\u001b[0m\u001b[0m\n\u001b[0;32m---> 24\u001b[0;31m     \u001b[0msns\u001b[0m\u001b[0;34m.\u001b[0m\u001b[0mheatmap\u001b[0m\u001b[0;34m(\u001b[0m\u001b[0mdf\u001b[0m\u001b[0;34m.\u001b[0m\u001b[0mcorr\u001b[0m\u001b[0;34m(\u001b[0m\u001b[0;34m)\u001b[0m\u001b[0;34m,\u001b[0m \u001b[0mcmap\u001b[0m\u001b[0;34m=\u001b[0m\u001b[0;34m'coolwarm'\u001b[0m\u001b[0;34m,\u001b[0m \u001b[0mannot\u001b[0m\u001b[0;34m=\u001b[0m\u001b[0;32mTrue\u001b[0m\u001b[0;34m,\u001b[0m \u001b[0mfmt\u001b[0m\u001b[0;34m=\u001b[0m\u001b[0;34m'.2f'\u001b[0m\u001b[0;34m)\u001b[0m\u001b[0;34m\u001b[0m\u001b[0;34m\u001b[0m\u001b[0m\n\u001b[0m\u001b[1;32m     25\u001b[0m \u001b[0;34m\u001b[0m\u001b[0m\n\u001b[1;32m     26\u001b[0m     \u001b[0;31m# Add a title\u001b[0m\u001b[0;34m\u001b[0m\u001b[0;34m\u001b[0m\u001b[0;34m\u001b[0m\u001b[0m\n",
      "\u001b[0;31mTypeError\u001b[0m: corr() missing 1 required positional argument: 'other'"
     ]
    },
    {
     "data": {
      "text/plain": [
       "<Figure size 720x576 with 0 Axes>"
      ]
     },
     "metadata": {},
     "output_type": "display_data"
    }
   ],
   "source": [
    "import os\n",
    "import pandas as pd\n",
    "import seaborn as sns\n",
    "import matplotlib.pyplot as plt\n",
    "\n",
    "def create_heatmap(input_file):\n",
    "    \"\"\"\n",
    "    Reads a pickled DataFrame from the specified file, and creates a heatmap of the DataFrame's correlations using Seaborn.\n",
    "\n",
    "    Args:\n",
    "        input_file (str): The file path of the pickled DataFrame.\n",
    "\n",
    "    Returns:\n",
    "        None.\n",
    "    \"\"\"\n",
    "    # Read the pickled DataFrame\n",
    "    df = pd.read_pickle(input_file)\n",
    "    \n",
    "    # Extract the symbol from the filename for the plot title\n",
    "    symbol = os.path.basename(input_file).split('_')[0]\n",
    "\n",
    "    # Create the heatmap\n",
    "    plt.figure(figsize=(10, 8))  # Set the size of the figure\n",
    "    sns.heatmap(df.corr(), cmap='coolwarm', annot=True, fmt='.2f')\n",
    "\n",
    "    # Add a title\n",
    "    plt.title(str(symbol))\n",
    "\n",
    "    # Show the plot\n",
    "    plt.show()\n",
    "\n",
    "output_folder = '/media/ak/Data/InterestRateFuturesData/MFDCCA/MedianCorrelPerSymbol'\n",
    "symbols = os.listdir('/media/ak/Data/InterestRateFuturesData/ReconstructedLOB')\n",
    "\n",
    "# For each symbol, create a heatmap of the median DataFrame\n",
    "for symbol in symbols:\n",
    "    input_file = os.path.join(output_folder, symbol + '_median_lagged_correl.pkl')\n",
    "    create_heatmap(input_file)\n"
   ]
  },
  {
   "cell_type": "code",
   "execution_count": 5,
   "id": "6eaeb0a4",
   "metadata": {},
   "outputs": [],
   "source": [
    "symbol ='RX1'\n",
    "input_file = os.path.join(output_folder, symbol + '_median_lagged_correl.pkl')"
   ]
  },
  {
   "cell_type": "code",
   "execution_count": 6,
   "id": "b8ca8e51",
   "metadata": {},
   "outputs": [
    {
     "data": {
      "text/plain": [
       "microPriceReturns                     0.000000\n",
       "averageVolumePerTrade                 4.500000\n",
       "OrderBookImbalance                    0.003663\n",
       "MeanRelativeTickVolume                0.000000\n",
       "TradedVolume                          6.000000\n",
       "microPriceReturns_lag_1               0.000000\n",
       "averageVolumePerTrade_lag_1           4.500000\n",
       "OrderBookImbalance_lag_1              0.003663\n",
       "MeanRelativeTickVolume_lag_1          0.000000\n",
       "TradedVolume_lag_1                    6.000000\n",
       "microPriceReturns_lag_2               0.000000\n",
       "averageVolumePerTrade_lag_2           4.500000\n",
       "OrderBookImbalance_lag_2              0.003663\n",
       "MeanRelativeTickVolume_lag_2          0.000000\n",
       "TradedVolume_lag_2                    6.000000\n",
       "microPriceReturns_lag_1_lag_2         0.000000\n",
       "averageVolumePerTrade_lag_1_lag_2     4.500000\n",
       "OrderBookImbalance_lag_1_lag_2        0.003663\n",
       "MeanRelativeTickVolume_lag_1_lag_2    0.000000\n",
       "TradedVolume_lag_1_lag_2              6.000000\n",
       "dtype: float64"
      ]
     },
     "execution_count": 6,
     "metadata": {},
     "output_type": "execute_result"
    }
   ],
   "source": [
    "pd.read_pickle(input_file)"
   ]
  },
  {
   "cell_type": "code",
   "execution_count": null,
   "id": "e3009709",
   "metadata": {},
   "outputs": [],
   "source": []
  }
 ],
 "metadata": {
  "kernelspec": {
   "display_name": "Python [conda env:timeSeries] *",
   "language": "python",
   "name": "conda-env-timeSeries-py"
  },
  "language_info": {
   "codemirror_mode": {
    "name": "ipython",
    "version": 3
   },
   "file_extension": ".py",
   "mimetype": "text/x-python",
   "name": "python",
   "nbconvert_exporter": "python",
   "pygments_lexer": "ipython3",
   "version": "3.7.12"
  }
 },
 "nbformat": 4,
 "nbformat_minor": 5
}
