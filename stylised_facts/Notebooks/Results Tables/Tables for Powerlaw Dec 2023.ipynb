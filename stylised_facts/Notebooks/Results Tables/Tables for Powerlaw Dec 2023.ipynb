{
 "cells": [
  {
   "cell_type": "code",
   "execution_count": 38,
   "id": "e14be71c",
   "metadata": {},
   "outputs": [],
   "source": [
    "import pandas as pd\n",
    "import os \n",
    "import numpy as np\n",
    "import sys\n",
    "import pickle as pickle\n",
    "import dill as dill\n",
    "import matplotlib.pyplot as plt\n",
    "\n",
    "# Increase the recursion limit\n",
    "sys.setrecursionlimit(10000)  # Example value, adjust as needed"
   ]
  },
  {
   "cell_type": "code",
   "execution_count": 69,
   "id": "d495ada2",
   "metadata": {},
   "outputs": [],
   "source": [
    "powerLawPath = '/home/ak/Documents/Research/Papers/StylisedFactsPaper/PowerLawResults'\n",
    "files = os.listdir(powerLawPath)\n",
    "figures_destination = '/home/ak/Documents/Research/Papers/StylisedFactsPaper/figures'"
   ]
  },
  {
   "cell_type": "code",
   "execution_count": 4,
   "id": "e8fa6b6c",
   "metadata": {},
   "outputs": [
    {
     "name": "stdout",
     "output_type": "stream",
     "text": [
      "/home/ak/Documents/Research/Papers/StylisedFactsPaper/PowerLawResults/powerLaw_KE1_fitted_model.pkl\n"
     ]
    }
   ],
   "source": [
    "fileIdx = 1\n",
    "fileIdxpath = os.path.join(powerLawPath, files[fileIdx])\n",
    "print(fileIdxpath)"
   ]
  },
  {
   "cell_type": "code",
   "execution_count": 21,
   "id": "7f5cc293",
   "metadata": {},
   "outputs": [
    {
     "name": "stdout",
     "output_type": "stream",
     "text": [
      "OE1\n",
      "KE1\n",
      "FB1\n",
      "DU1\n",
      "XM1\n",
      "US1\n",
      "G\n",
      "JB1\n",
      "TY1\n",
      "YM1\n",
      "FV1\n"
     ]
    }
   ],
   "source": [
    "import dill as pickle\n",
    "symbolsPowerLawDict = dict()\n",
    "# file_path = 'your_file.pkl'\n",
    "\n",
    "# with open(file_path, 'rb') as file:\n",
    "#     data = pickle.load(file)\n",
    "for fileIdx in range(0,11):\n",
    "    fileIdxpath = os.path.join(powerLawPath, files[fileIdx])\n",
    "    print(files[fileIdx].split(\"_\")[1])\n",
    "\n",
    "    with open(fileIdxpath, 'rb') as file:\n",
    "        data = pickle.load(file)\n",
    "        symbolsPowerLawDict[files[fileIdx].split(\"_\")[1]] = data\n",
    "  \n",
    "\n",
    "# Now 'data' contains your unpickled object\n"
   ]
  },
  {
   "cell_type": "code",
   "execution_count": 23,
   "id": "1953e443",
   "metadata": {},
   "outputs": [
    {
     "data": {
      "text/plain": [
       "{'OE1': {'alpha': 1.1450190813846373,\n",
       "  'sigma': 0.0008882178849827406,\n",
       "  'xmin': 0.02390438247011952,\n",
       "  'xmax': None,\n",
       "  'xmin_distance': 'D',\n",
       "  'alpha_std_err': 0.0008882178849827406,\n",
       "  'distribution': 'power_law',\n",
       "  'D': 0.17220346940261722,\n",
       "  'n': 26657.0,\n",
       "  'n_tail': 26657.0,\n",
       "  'loglikelihood': -31587.40021500757},\n",
       " 'KE1': {'alpha': 1.147249369962648,\n",
       "  'sigma': 0.0055496694407083215,\n",
       "  'xmin': 0.02385107620709715,\n",
       "  'xmax': None,\n",
       "  'xmin_distance': 'D',\n",
       "  'alpha_std_err': 0.0055496694407083215,\n",
       "  'distribution': 'power_law',\n",
       "  'D': 0.16741771761315505,\n",
       "  'n': 704.0,\n",
       "  'n_tail': 704.0,\n",
       "  'loglikelihood': -809.521560134252},\n",
       " 'FB1': {'alpha': nan,\n",
       "  'sigma': nan,\n",
       "  'xmin': nan,\n",
       "  'xmax': None,\n",
       "  'xmin_distance': 'D',\n",
       "  'alpha_std_err': nan,\n",
       "  'distribution': 'power_law',\n",
       "  'D': nan,\n",
       "  'n': 0.0,\n",
       "  'n_tail': 0.0,\n",
       "  'loglikelihood': -0.0},\n",
       " 'DU1': {'alpha': 1.141859683105081,\n",
       "  'sigma': 0.0016421100707565146,\n",
       "  'xmin': 0.022819179664933565,\n",
       "  'xmax': None,\n",
       "  'xmin_distance': 'D',\n",
       "  'alpha_std_err': 0.0016421100707565146,\n",
       "  'distribution': 'power_law',\n",
       "  'D': 0.1732912650384305,\n",
       "  'n': 7463.0,\n",
       "  'n_tail': 7463.0,\n",
       "  'loglikelihood': -8813.245971440228},\n",
       " 'XM1': {'alpha': 1.1114760023827936,\n",
       "  'sigma': 0.009071788416906375,\n",
       "  'xmin': 0.012628730844371576,\n",
       "  'xmax': None,\n",
       "  'xmin_distance': 'D',\n",
       "  'alpha_std_err': 0.009071788416906375,\n",
       "  'distribution': 'power_law',\n",
       "  'D': 0.15889752300837767,\n",
       "  'n': 151.0,\n",
       "  'n_tail': 151.0,\n",
       "  'loglikelihood': -158.80534708379105},\n",
       " 'US1': {'alpha': 1.1612082577178997,\n",
       "  'sigma': 0.009200641238883703,\n",
       "  'xmin': 0.02839832834639828,\n",
       "  'xmax': None,\n",
       "  'xmin_distance': 'D',\n",
       "  'alpha_std_err': 0.009200641238883703,\n",
       "  'distribution': 'power_law',\n",
       "  'D': 0.1736826515090687,\n",
       "  'n': 307.0,\n",
       "  'n_tail': 307.0,\n",
       "  'loglikelihood': -352.8564823110602},\n",
       " 'G': {'alpha': 2.131709454122399,\n",
       "  'sigma': 0.8002394293428744,\n",
       "  'xmin': 0.2666463333269792,\n",
       "  'xmax': None,\n",
       "  'xmin_distance': 'D',\n",
       "  'alpha_std_err': 0.8002394293428744,\n",
       "  'distribution': 'power_law',\n",
       "  'D': 0.10833606326035888,\n",
       "  'n': 2.0,\n",
       "  'n_tail': 2.0,\n",
       "  'loglikelihood': -0.6515155564268298},\n",
       " 'JB1': {'alpha': 1.5294346342175795,\n",
       "  'sigma': 0.37436682005026983,\n",
       "  'xmin': 0.0817074620344461,\n",
       "  'xmax': None,\n",
       "  'xmin_distance': 'D',\n",
       "  'alpha_std_err': 0.37436682005026983,\n",
       "  'distribution': 'power_law',\n",
       "  'D': 0.07153905947976397,\n",
       "  'n': 2.0,\n",
       "  'n_tail': 2.0,\n",
       "  'loglikelihood': -0.6953168113433389},\n",
       " 'TY1': {'alpha': nan,\n",
       "  'sigma': nan,\n",
       "  'xmin': nan,\n",
       "  'xmax': None,\n",
       "  'xmin_distance': 'D',\n",
       "  'alpha_std_err': nan,\n",
       "  'distribution': 'power_law',\n",
       "  'D': nan,\n",
       "  'n': 0.0,\n",
       "  'n_tail': 0.0,\n",
       "  'loglikelihood': -0.0},\n",
       " 'YM1': {'alpha': 1.6382732137092486,\n",
       "  'sigma': 0.4513273176635401,\n",
       "  'xmin': 0.11608821450041519,\n",
       "  'xmax': None,\n",
       "  'xmin_distance': 'D',\n",
       "  'alpha_std_err': 0.4513273176635401,\n",
       "  'distribution': 'power_law',\n",
       "  'D': 0.06647957855243469,\n",
       "  'n': 2.0,\n",
       "  'n_tail': 2.0,\n",
       "  'loglikelihood': -0.7217164496667492},\n",
       " 'FV1': {'alpha': 1.1486316640279144,\n",
       "  'sigma': 0.009217744499627383,\n",
       "  'xmin': 0.023369458861319903,\n",
       "  'xmax': None,\n",
       "  'xmin_distance': 'D',\n",
       "  'alpha_std_err': 0.009217744499627383,\n",
       "  'distribution': 'power_law',\n",
       "  'D': 0.18118548483724684,\n",
       "  'n': 260.0,\n",
       "  'n_tail': 260.0,\n",
       "  'loglikelihood': -288.19493851652027}}"
      ]
     },
     "execution_count": 23,
     "metadata": {},
     "output_type": "execute_result"
    }
   ],
   "source": []
  },
  {
   "cell_type": "code",
   "execution_count": 24,
   "id": "50ecc4cc",
   "metadata": {},
   "outputs": [],
   "source": [
    "# Converting the nested dictionary to DataFrame\n",
    "df = pd.DataFrame.from_dict(symbolsPowerLawDict, orient='index')"
   ]
  },
  {
   "cell_type": "code",
   "execution_count": 30,
   "id": "f5518ac1",
   "metadata": {},
   "outputs": [],
   "source": [
    "df = df.drop('FB1')"
   ]
  },
  {
   "cell_type": "code",
   "execution_count": 33,
   "id": "5fd7ccc4",
   "metadata": {},
   "outputs": [],
   "source": [
    "df = df.drop('TY1')"
   ]
  },
  {
   "cell_type": "code",
   "execution_count": 47,
   "id": "bcaedbda",
   "metadata": {},
   "outputs": [
    {
     "name": "stdout",
     "output_type": "stream",
     "text": [
      "\\begin{tabular}{lcccccccc}\n",
      "\\toprule\n",
      "{} &  alpha &  sigma &  xmin &  xmax & xmin_distance &  alpha_std_err & distribution &     D &        n &   n_tail &  loglikelihood \\\\\n",
      "\\midrule\n",
      "OE1 &   1.15 &   0.00 &  0.02 &  None &             D &           0.00 &    power_law &  0.17 &  26657.0 &  26657.0 &      -31587.40 \\\\\n",
      "KE1 &   1.15 &   0.01 &  0.02 &  None &             D &           0.01 &    power_law &  0.17 &    704.0 &    704.0 &        -809.52 \\\\\n",
      "DU1 &   1.14 &   0.00 &  0.02 &  None &             D &           0.00 &    power_law &  0.17 &   7463.0 &   7463.0 &       -8813.25 \\\\\n",
      "XM1 &   1.11 &   0.01 &  0.01 &  None &             D &           0.01 &    power_law &  0.16 &    151.0 &    151.0 &        -158.81 \\\\\n",
      "US1 &   1.16 &   0.01 &  0.03 &  None &             D &           0.01 &    power_law &  0.17 &    307.0 &    307.0 &        -352.86 \\\\\n",
      "G   &   2.13 &   0.80 &  0.27 &  None &             D &           0.80 &    power_law &  0.11 &      2.0 &      2.0 &          -0.65 \\\\\n",
      "JB1 &   1.53 &   0.37 &  0.08 &  None &             D &           0.37 &    power_law &  0.07 &      2.0 &      2.0 &          -0.70 \\\\\n",
      "YM1 &   1.64 &   0.45 &  0.12 &  None &             D &           0.45 &    power_law &  0.07 &      2.0 &      2.0 &          -0.72 \\\\\n",
      "FV1 &   1.15 &   0.01 &  0.02 &  None &             D &           0.01 &    power_law &  0.18 &    260.0 &    260.0 &        -288.19 \\\\\n",
      "\\bottomrule\n",
      "\\end{tabular}\n",
      "\n"
     ]
    }
   ],
   "source": [
    "print(df.round(2).to_latex(column_format='lcccccccc', escape=False, multicolumn_format='c'))"
   ]
  },
  {
   "cell_type": "code",
   "execution_count": 43,
   "id": "e047a573",
   "metadata": {},
   "outputs": [
    {
     "data": {
      "image/png": "[encoded data removed]",
      "text/plain": [
       "<Figure size 432x288 with 1 Axes>"
      ]
     },
     "metadata": {
      "needs_background": "light"
     },
     "output_type": "display_data"
    }
   ],
   "source": [
    "_=plt.hist(df['alpha']/df['sigma'], bins =15)"
   ]
  },
  {
   "cell_type": "code",
   "execution_count": 45,
   "id": "6cb4c6b3",
   "metadata": {},
   "outputs": [
    {
     "name": "stderr",
     "output_type": "stream",
     "text": [
      "/home/ak/anaconda3/envs/timeSeries/lib/python3.7/site-packages/seaborn/_decorators.py:43: FutureWarning: Pass the following variable as a keyword arg: x. From version 0.12, the only valid positional argument will be `data`, and passing other arguments without an explicit keyword will result in an error or misinterpretation.\n",
      "  FutureWarning\n"
     ]
    },
    {
     "data": {
      "text/plain": [
       "<matplotlib.axes._subplots.AxesSubplot at 0x7fddfe3fb710>"
      ]
     },
     "execution_count": 45,
     "metadata": {},
     "output_type": "execute_result"
    },
    {
     "data": {
      "image/png": "[encoded data removed]",
      "text/plain": [
       "<Figure size 432x288 with 1 Axes>"
      ]
     },
     "metadata": {
      "needs_background": "light"
     },
     "output_type": "display_data"
    }
   ],
   "source": [
    "import seaborn as sns\n",
    "sns.barplot(df['alpha'])"
   ]
  },
  {
   "cell_type": "code",
   "execution_count": 46,
   "id": "88856681",
   "metadata": {},
   "outputs": [
    {
     "data": {
      "text/html": [
       "<div>\n",
       "<style scoped>\n",
       "    .dataframe tbody tr th:only-of-type {\n",
       "        vertical-align: middle;\n",
       "    }\n",
       "\n",
       "    .dataframe tbody tr th {\n",
       "        vertical-align: top;\n",
       "    }\n",
       "\n",
       "    .dataframe thead th {\n",
       "        text-align: right;\n",
       "    }\n",
       "</style>\n",
       "<table border=\"1\" class=\"dataframe\">\n",
       "  <thead>\n",
       "    <tr style=\"text-align: right;\">\n",
       "      <th></th>\n",
       "      <th>alpha</th>\n",
       "      <th>sigma</th>\n",
       "      <th>xmin</th>\n",
       "      <th>xmax</th>\n",
       "      <th>xmin_distance</th>\n",
       "      <th>alpha_std_err</th>\n",
       "      <th>distribution</th>\n",
       "      <th>D</th>\n",
       "      <th>n</th>\n",
       "      <th>n_tail</th>\n",
       "      <th>loglikelihood</th>\n",
       "    </tr>\n",
       "  </thead>\n",
       "  <tbody>\n",
       "    <tr>\n",
       "      <th>OE1</th>\n",
       "      <td>1.145019</td>\n",
       "      <td>0.000888</td>\n",
       "      <td>0.023904</td>\n",
       "      <td>None</td>\n",
       "      <td>D</td>\n",
       "      <td>0.000888</td>\n",
       "      <td>power_law</td>\n",
       "      <td>0.172203</td>\n",
       "      <td>26657.0</td>\n",
       "      <td>26657.0</td>\n",
       "      <td>-31587.400215</td>\n",
       "    </tr>\n",
       "    <tr>\n",
       "      <th>KE1</th>\n",
       "      <td>1.147249</td>\n",
       "      <td>0.005550</td>\n",
       "      <td>0.023851</td>\n",
       "      <td>None</td>\n",
       "      <td>D</td>\n",
       "      <td>0.005550</td>\n",
       "      <td>power_law</td>\n",
       "      <td>0.167418</td>\n",
       "      <td>704.0</td>\n",
       "      <td>704.0</td>\n",
       "      <td>-809.521560</td>\n",
       "    </tr>\n",
       "    <tr>\n",
       "      <th>DU1</th>\n",
       "      <td>1.141860</td>\n",
       "      <td>0.001642</td>\n",
       "      <td>0.022819</td>\n",
       "      <td>None</td>\n",
       "      <td>D</td>\n",
       "      <td>0.001642</td>\n",
       "      <td>power_law</td>\n",
       "      <td>0.173291</td>\n",
       "      <td>7463.0</td>\n",
       "      <td>7463.0</td>\n",
       "      <td>-8813.245971</td>\n",
       "    </tr>\n",
       "    <tr>\n",
       "      <th>XM1</th>\n",
       "      <td>1.111476</td>\n",
       "      <td>0.009072</td>\n",
       "      <td>0.012629</td>\n",
       "      <td>None</td>\n",
       "      <td>D</td>\n",
       "      <td>0.009072</td>\n",
       "      <td>power_law</td>\n",
       "      <td>0.158898</td>\n",
       "      <td>151.0</td>\n",
       "      <td>151.0</td>\n",
       "      <td>-158.805347</td>\n",
       "    </tr>\n",
       "    <tr>\n",
       "      <th>US1</th>\n",
       "      <td>1.161208</td>\n",
       "      <td>0.009201</td>\n",
       "      <td>0.028398</td>\n",
       "      <td>None</td>\n",
       "      <td>D</td>\n",
       "      <td>0.009201</td>\n",
       "      <td>power_law</td>\n",
       "      <td>0.173683</td>\n",
       "      <td>307.0</td>\n",
       "      <td>307.0</td>\n",
       "      <td>-352.856482</td>\n",
       "    </tr>\n",
       "    <tr>\n",
       "      <th>G</th>\n",
       "      <td>2.131709</td>\n",
       "      <td>0.800239</td>\n",
       "      <td>0.266646</td>\n",
       "      <td>None</td>\n",
       "      <td>D</td>\n",
       "      <td>0.800239</td>\n",
       "      <td>power_law</td>\n",
       "      <td>0.108336</td>\n",
       "      <td>2.0</td>\n",
       "      <td>2.0</td>\n",
       "      <td>-0.651516</td>\n",
       "    </tr>\n",
       "    <tr>\n",
       "      <th>JB1</th>\n",
       "      <td>1.529435</td>\n",
       "      <td>0.374367</td>\n",
       "      <td>0.081707</td>\n",
       "      <td>None</td>\n",
       "      <td>D</td>\n",
       "      <td>0.374367</td>\n",
       "      <td>power_law</td>\n",
       "      <td>0.071539</td>\n",
       "      <td>2.0</td>\n",
       "      <td>2.0</td>\n",
       "      <td>-0.695317</td>\n",
       "    </tr>\n",
       "    <tr>\n",
       "      <th>YM1</th>\n",
       "      <td>1.638273</td>\n",
       "      <td>0.451327</td>\n",
       "      <td>0.116088</td>\n",
       "      <td>None</td>\n",
       "      <td>D</td>\n",
       "      <td>0.451327</td>\n",
       "      <td>power_law</td>\n",
       "      <td>0.066480</td>\n",
       "      <td>2.0</td>\n",
       "      <td>2.0</td>\n",
       "      <td>-0.721716</td>\n",
       "    </tr>\n",
       "    <tr>\n",
       "      <th>FV1</th>\n",
       "      <td>1.148632</td>\n",
       "      <td>0.009218</td>\n",
       "      <td>0.023369</td>\n",
       "      <td>None</td>\n",
       "      <td>D</td>\n",
       "      <td>0.009218</td>\n",
       "      <td>power_law</td>\n",
       "      <td>0.181185</td>\n",
       "      <td>260.0</td>\n",
       "      <td>260.0</td>\n",
       "      <td>-288.194939</td>\n",
       "    </tr>\n",
       "  </tbody>\n",
       "</table>\n",
       "</div>"
      ],
      "text/plain": [
       "        alpha     sigma      xmin  xmax xmin_distance  alpha_std_err  \\\n",
       "OE1  1.145019  0.000888  0.023904  None             D       0.000888   \n",
       "KE1  1.147249  0.005550  0.023851  None             D       0.005550   \n",
       "DU1  1.141860  0.001642  0.022819  None             D       0.001642   \n",
       "XM1  1.111476  0.009072  0.012629  None             D       0.009072   \n",
       "US1  1.161208  0.009201  0.028398  None             D       0.009201   \n",
       "G    2.131709  0.800239  0.266646  None             D       0.800239   \n",
       "JB1  1.529435  0.374367  0.081707  None             D       0.374367   \n",
       "YM1  1.638273  0.451327  0.116088  None             D       0.451327   \n",
       "FV1  1.148632  0.009218  0.023369  None             D       0.009218   \n",
       "\n",
       "    distribution         D        n   n_tail  loglikelihood  \n",
       "OE1    power_law  0.172203  26657.0  26657.0  -31587.400215  \n",
       "KE1    power_law  0.167418    704.0    704.0    -809.521560  \n",
       "DU1    power_law  0.173291   7463.0   7463.0   -8813.245971  \n",
       "XM1    power_law  0.158898    151.0    151.0    -158.805347  \n",
       "US1    power_law  0.173683    307.0    307.0    -352.856482  \n",
       "G      power_law  0.108336      2.0      2.0      -0.651516  \n",
       "JB1    power_law  0.071539      2.0      2.0      -0.695317  \n",
       "YM1    power_law  0.066480      2.0      2.0      -0.721716  \n",
       "FV1    power_law  0.181185    260.0    260.0    -288.194939  "
      ]
     },
     "execution_count": 46,
     "metadata": {},
     "output_type": "execute_result"
    }
   ],
   "source": [
    "df"
   ]
  },
  {
   "cell_type": "code",
   "execution_count": 53,
   "id": "988823b4",
   "metadata": {},
   "outputs": [],
   "source": [
    "\n",
    "# Resetting the index to make 'Symbols' a column\n",
    "df_reset = df.reset_index()\n",
    "# df_reset.columns = ['Symbols', 'alpha']\n",
    "\n",
    "# # Creating a boxplot for the alpha variable\n",
    "# plt.figure(figsize=(10, 6))\n",
    "# \n",
    "# plt.title('Boxplot of Alpha Values by Symbol')\n",
    "# plt.xlabel('Symbols')\n",
    "# plt.ylabel('Alpha')\n",
    "# plt.show()"
   ]
  },
  {
   "cell_type": "code",
   "execution_count": 64,
   "id": "65148ea6",
   "metadata": {},
   "outputs": [],
   "source": [
    "# plot parametrisations\n",
    "import matplotlib as mpl\n",
    "latex_styles = os.listdir(mpl.get_configdir())\n",
    "latex_styles\n",
    "\n",
    "plt.style.use(os.path.join(mpl.get_configdir(), latex_styles[0]))"
   ]
  },
  {
   "cell_type": "code",
   "execution_count": 65,
   "id": "b1723da3",
   "metadata": {},
   "outputs": [],
   "source": [
    "df_reset = df.reset_index()"
   ]
  },
  {
   "cell_type": "code",
   "execution_count": 70,
   "id": "54a2abe8",
   "metadata": {},
   "outputs": [
    {
     "data": {
      "image/png": "[encoded data removed]",
      "text/plain": [
       "<Figure size 1800x1200 with 1 Axes>"
      ]
     },
     "metadata": {
      "needs_background": "light"
     },
     "output_type": "display_data"
    }
   ],
   "source": [
    "_=sns.barplot(x='index', y='alpha', data=df_reset)\n",
    "plt.xlabel('symbols')\n",
    "plt.ylabel(r'$\\alpha$') \n",
    "title_file = 'powerlaw_tails.png'\n",
    "fig_location = os.path.join(figures_destination, title_file)\n",
    "plt.savefig(fig_location)\n",
    "plt.show()"
   ]
  },
  {
   "cell_type": "code",
   "execution_count": null,
   "id": "3e0a2667",
   "metadata": {},
   "outputs": [],
   "source": []
  }
 ],
 "metadata": {
  "kernelspec": {
   "display_name": "Python 3 (ipykernel)",
   "language": "python",
   "name": "python3"
  },
  "language_info": {
   "codemirror_mode": {
    "name": "ipython",
    "version": 3
   },
   "file_extension": ".py",
   "mimetype": "text/x-python",
   "name": "python",
   "nbconvert_exporter": "python",
   "pygments_lexer": "ipython3",
   "version": "3.7.12"
  }
 },
 "nbformat": 4,
 "nbformat_minor": 5
}
