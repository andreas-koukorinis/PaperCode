{
 "cells": [
  {
   "cell_type": "code",
   "execution_count": 2,
   "id": "cb12cfcb",
   "metadata": {},
   "outputs": [],
   "source": [
    "import os\n",
    "import pandas as pd\n",
    "import numpy as np\n",
    "from multiprocessing import Pool\n",
    "import pickle\n",
    "from collections import defaultdict"
   ]
  },
  {
   "cell_type": "code",
   "execution_count": 3,
   "id": "ee1a2191",
   "metadata": {},
   "outputs": [],
   "source": [
    "newFilesLoc = '/media/ak/T71/August11th2022Experiments/QuadMMDOutputFiles/processedTauResults/newFiles'"
   ]
  },
  {
   "cell_type": "code",
   "execution_count": 18,
   "id": "fbdca538",
   "metadata": {},
   "outputs": [
    {
     "name": "stdout",
     "output_type": "stream",
     "text": [
      "/media/ak/T71/August11th2022Experiments/LinearMMDInputFiles/TY1_tick_mfdfa_dicts_all_dates.pkl\n"
     ]
    }
   ],
   "source": [
    "\n",
    "# def file_loc(symbol):\n",
    "LinearMMDInputFiles = '/media/ak/T71/August11th2022Experiments/LinearMMDInputFiles/'\n",
    "quad_mmd_output_files = '/media/ak/T71/August11th2022Experiments/QuadMMDOutputFiles'\n",
    "bar_choice = 'tick'\n",
    "outputDir = '/media/ak/T7/August11th2022Experiments/LinearMMDOutputFiles'\n",
    "variables = ['n_F', 'list_H', 'list_H_intercept', 'tau', 'alpha', 'mfSpect']\n",
    "file = os.path.join(LinearMMDInputFiles,\n",
    "                    [g for g in [f for f in os.listdir(LinearMMDInputFiles) if symbol in f] if str(bar_choice) in g][0])\n",
    "# return file\n",
    "print(file)"
   ]
  },
  {
   "cell_type": "code",
   "execution_count": 16,
   "id": "527a5f2f",
   "metadata": {},
   "outputs": [
    {
     "data": {
      "text/plain": [
       "['TY1_tick_mfdfa_dicts_all_dates.pkl']"
      ]
     },
     "execution_count": 16,
     "metadata": {},
     "output_type": "execute_result"
    }
   ],
   "source": [
    "symbol = 'TY1'\n"
   ]
  },
  {
   "cell_type": "code",
   "execution_count": 8,
   "id": "a0635348",
   "metadata": {},
   "outputs": [
    {
     "data": {
      "text/plain": [
       "'/media/ak/T71/August11th2022Experiments/LinearMMDInputFiles/G_1_calendar_mfdfa_dicts_all_dates.pkl'"
      ]
     },
     "execution_count": 8,
     "metadata": {},
     "output_type": "execute_result"
    }
   ],
   "source": [
    "file_loc(symbol='XM1')"
   ]
  },
  {
   "cell_type": "code",
   "execution_count": null,
   "id": "f0df054e",
   "metadata": {},
   "outputs": [],
   "source": [
    "data_dict = pd.read_pickle(file)"
   ]
  }
 ],
 "metadata": {
  "kernelspec": {
   "display_name": "Python 3",
   "language": "python",
   "name": "python3"
  },
  "language_info": {
   "codemirror_mode": {
    "name": "ipython",
    "version": 3
   },
   "file_extension": ".py",
   "mimetype": "text/x-python",
   "name": "python",
   "nbconvert_exporter": "python",
   "pygments_lexer": "ipython3",
   "version": "3.6.13"
  }
 },
 "nbformat": 4,
 "nbformat_minor": 5
}
