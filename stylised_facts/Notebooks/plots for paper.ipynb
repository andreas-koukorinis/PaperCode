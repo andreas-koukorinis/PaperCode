{
 "cells": [
  {
   "cell_type": "code",
   "execution_count": 77,
   "id": "cb50ea7f",
   "metadata": {},
   "outputs": [],
   "source": [
    "import pandas as pd\n",
    "import numpy as np\n",
    "import sys\n",
    "import multiprocessing\n",
    "import time\n",
    "sys.path.append('/home/ak/Research/PaperCode/stylised_facts')\n",
    "import stylised_facts_data_utilities as sfd_utils\n",
    "import lob_for_futures as lobfut\n",
    "import os\n",
    "from sklearn.preprocessing import MinMaxScaler, StandardScaler\n",
    "from multiprocessing import Pool, freeze_support\n",
    "import pickle\n",
    "from multiprocessing import Pool\n",
    "import matplotlib.pyplot as plt"
   ]
  },
  {
   "cell_type": "code",
   "execution_count": 36,
   "id": "156f3312",
   "metadata": {},
   "outputs": [],
   "source": [
    "docs_folder = '/home/ak/Documents/'\n",
    "files_folder = os.path.join(docs_folder, 'MFDFA_Files/August11th2022Experiments')\n",
    "LinearMMDOutputFiles_folder = os.path.join(expOne, 'LinearMMDOutputFiles')\n",
    "LinearMMDOutputFiles = sorted(os.listdir(LinearMMDOutputFiles_folder))\n",
    "expOne = os.path.join(files_folder, 'ExperimentOne')\n",
    "expOneFiles = sorted(os.listdir(expOne))\n",
    "mfdfaDFs = os.path.join(files_folder, 'mfdfaDataFrames')\n",
    "expInputFiles = os.path.join(files_folder,'ExperimentInputFiles' )\n",
    "returns = os.path.join(files_folder, 'Returns')"
   ]
  },
  {
   "cell_type": "code",
   "execution_count": 37,
   "id": "77865b61",
   "metadata": {},
   "outputs": [
    {
     "data": {
      "text/plain": [
       "['FB1_alpha_shift_2_wind_6_linear_test_ONE.pkl',\n",
       " 'FB1_alpha_shift_2_wind_6_linear_test_TWO.pkl',\n",
       " 'FB1_tau_shift_2_wind_4_linear_test_ONE.pkl',\n",
       " 'JB1_tau_shift_1_wind_5_linear_test_ONE.pkl',\n",
       " 'FB1_tau_1_5_linear_test_ONE.pkl',\n",
       " 'FB1_tau_shift_1_wind_4_linear_test_ONE.pkl',\n",
       " 'FB1_tau_shift_1_wind_5_linear_test_TWO.pkl',\n",
       " 'JB1_tau_shift_1_wind_5_linear_test_TWO.pkl',\n",
       " 'FB1_tau_shift_2_wind_4_linear_test_TWO.pkl',\n",
       " 'JB1_tau_shift_2_wind_6_linear_test_TWO.pkl',\n",
       " 'FB1_tau_shift_1_wind_5_linear_test_ONE.pkl',\n",
       " 'JB1_alpha_shift_2_wind_6_linear_test_TWO.pkl',\n",
       " 'JB1_tau_shift_2_wind_6_linear_test_ONE.pkl',\n",
       " 'JB1_alpha_shift_2_wind_6_linear_test_ONE.pkl',\n",
       " 'FB1_tau_1_5_linear_test_TWO.pkl',\n",
       " 'FB1_tau_shift_2_wind_6_linear_test_ONE.pkl',\n",
       " 'FB1_tau_shift_1_wind_4_linear_test_TWO.pkl',\n",
       " 'FB1_tau_linear_test_ONE.pkl',\n",
       " 'FB1_tau_linear_test_TWO.pkl',\n",
       " 'FB1_tau_shift_2_wind_6_linear_test_TWO.pkl']"
      ]
     },
     "execution_count": 37,
     "metadata": {},
     "output_type": "execute_result"
    }
   ],
   "source": [
    "os.listdir(LinearMMDOutputFiles_folder)"
   ]
  },
  {
   "cell_type": "code",
   "execution_count": 29,
   "id": "9fd15971",
   "metadata": {},
   "outputs": [
    {
     "data": {
      "text/plain": [
       "'/home/ak/Documents/MFDFA_Files/August11th2022Experiments/ExperimentOne'"
      ]
     },
     "execution_count": 29,
     "metadata": {},
     "output_type": "execute_result"
    }
   ],
   "source": [
    "expOne"
   ]
  },
  {
   "cell_type": "code",
   "execution_count": 38,
   "id": "235f144a",
   "metadata": {},
   "outputs": [],
   "source": [
    "symbol = 'FB1'\n",
    "bar = 'tau'\n",
    "symbol_bar_files = [f for f in LinearMMDOutputFiles if symbol in f if bar in f]"
   ]
  },
  {
   "cell_type": "code",
   "execution_count": 46,
   "id": "3828b68a",
   "metadata": {},
   "outputs": [],
   "source": [
    "symbol_bar_files\n",
    "symbol_bar_files_idx =15\n",
    "symbol_bar_file_idx_path = os.path.join(LinearMMDOutputFiles_folder, LinearMMDOutputFiles[symbol_bar_files_idx])"
   ]
  },
  {
   "cell_type": "code",
   "execution_count": 72,
   "id": "cdc79605",
   "metadata": {},
   "outputs": [
    {
     "data": {
      "text/plain": [
       "24"
      ]
     },
     "execution_count": 72,
     "metadata": {},
     "output_type": "execute_result"
    }
   ],
   "source": [
    "symbol_bar_idx_dict = pd.read_pickle(symbol_bar_file_idx_path)\n",
    "keys = list(symbol_bar_idx_dict.keys())\n",
    "results_keys = sorted(list(symbol_bar_idx_dict[keys[1]].keys()))\n",
    "test_results_keys = ['alpha', 'pvalue', 'test_stat', 'h0_rejected']\n",
    "len(keys)"
   ]
  },
  {
   "cell_type": "code",
   "execution_count": 57,
   "id": "a844136e",
   "metadata": {},
   "outputs": [],
   "source": [
    "num_idx = 1\n",
    "compute_unbiased_linear_estimator = symbol_bar_idx_dict[keys[num_idx]]['compute_unbiased_linear_estimator']\n",
    "med_on_test_data = symbol_bar_idx_dict[keys[num_idx]]['med_on_test_data']\n",
    "test_result = symbol_bar_idx_dict[keys[num_idx]]['test_result']\n",
    "test_variance = symbol_bar_idx_dict[keys[num_idx]]['test_variance']\n",
    "two_moments = symbol_bar_idx_dict[keys[num_idx]]['two_moments']\n",
    "moment_one = symbol_bar_idx_dict[keys[num_idx]]['two_moments'][0]\n",
    "moment_two = symbol_bar_idx_dict[keys[num_idx]]['two_moments'][1]\n",
    "\n"
   ]
  },
  {
   "cell_type": "code",
   "execution_count": 66,
   "id": "17c5d333",
   "metadata": {},
   "outputs": [],
   "source": [
    "cumle_dict = dict()\n",
    "test_results_dict = dict()\n",
    "for num_idx in range(0,24):\n",
    "    cumle_dict[num_idx] = symbol_bar_idx_dict[keys[num_idx]]['compute_unbiased_linear_estimator']\n",
    "    test_results_dict[num_idx] = symbol_bar_idx_dict[keys[num_idx]]['test_result']\n",
    "    \n",
    "    "
   ]
  },
  {
   "cell_type": "code",
   "execution_count": 83,
   "id": "25db4728",
   "metadata": {},
   "outputs": [
    {
     "data": {
      "text/plain": [
       "[0.0013794874506177649,\n",
       " 0.0004563457041924382,\n",
       " 0.43718305832879434,\n",
       " 0.42312961793018944,\n",
       " 0.8881076981486647,\n",
       " 0.891049548821833,\n",
       " 0.8553500772299384,\n",
       " 0.8539052430221249,\n",
       " 0.037738998663661684,\n",
       " 0.9974137122188392,\n",
       " 0.9990588515505712,\n",
       " 1.0375866362603217,\n",
       " 1.0385665039208032,\n",
       " 0.8464221922487621,\n",
       " 1.0982057428902945,\n",
       " 1.0739883105287493,\n",
       " 1.1037073146913623,\n",
       " 1.294462520621793,\n",
       " 1.2569774616504061,\n",
       " 1.1743727234914745,\n",
       " 1.222723519605294,\n",
       " 0.5923261242317532,\n",
       " 0.4213422416186132,\n",
       " 0.11280837193601843]"
      ]
     },
     "execution_count": 83,
     "metadata": {},
     "output_type": "execute_result"
    }
   ],
   "source": [
    "\n",
    "(cumle_dict.values())"
   ]
  },
  {
   "cell_type": "code",
   "execution_count": 71,
   "id": "bf8a2485",
   "metadata": {},
   "outputs": [
    {
     "data": {
      "text/plain": [
       "['alpha', 'pvalue', 'test_stat', 'h0_rejected']"
      ]
     },
     "execution_count": 71,
     "metadata": {},
     "output_type": "execute_result"
    }
   ],
   "source": [
    "list(test_results_dict[0].keys())"
   ]
  },
  {
   "cell_type": "code",
   "execution_count": null,
   "id": "bfbe7bf8",
   "metadata": {},
   "outputs": [],
   "source": []
  }
 ],
 "metadata": {
  "kernelspec": {
   "display_name": "Python 3",
   "language": "python",
   "name": "python3"
  },
  "language_info": {
   "codemirror_mode": {
    "name": "ipython",
    "version": 3
   },
   "file_extension": ".py",
   "mimetype": "text/x-python",
   "name": "python",
   "nbconvert_exporter": "python",
   "pygments_lexer": "ipython3",
   "version": "3.6.13"
  }
 },
 "nbformat": 4,
 "nbformat_minor": 5
}
