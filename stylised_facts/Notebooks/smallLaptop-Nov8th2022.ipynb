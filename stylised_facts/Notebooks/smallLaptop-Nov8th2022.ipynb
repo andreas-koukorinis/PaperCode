{
 "cells": [
  {
   "cell_type": "code",
   "execution_count": 3,
   "id": "0425c41e",
   "metadata": {},
   "outputs": [],
   "source": [
    "import pandas as pd\n",
    "import numpy as np\n",
    "import sys\n",
    "import multiprocessing\n",
    "import time\n",
    "import os"
   ]
  },
  {
   "cell_type": "code",
   "execution_count": 5,
   "id": "d463d10b",
   "metadata": {},
   "outputs": [],
   "source": [
    "t7 = '/media/ak/T7/August11th2022Experiments'\n",
    "folders = os.listdir(t7)\n",
    "returns = os.path.join(t7, 'Returns')\n",
    "expOne = os.path.join(t7, 'ExperimentOne')\n",
    "expTwo = os.path.join(t7, 'ExperimentTwo')\n",
    "mfdfa_dfs = os.path.join(t7, 'mfdfaDataFrames')\n"
   ]
  },
  {
   "cell_type": "code",
   "execution_count": 13,
   "id": "f3d0884e",
   "metadata": {},
   "outputs": [],
   "source": [
    "symbols = os.listdir(returns)\n",
    "symbolIdx = 2\n",
    "symbolFolder = os.path.join(returns, symbols[symbolIdx])"
   ]
  },
  {
   "cell_type": "code",
   "execution_count": 21,
   "id": "39c29a80",
   "metadata": {},
   "outputs": [
    {
     "name": "stdout",
     "output_type": "stream",
     "text": [
      "Date: 20180419\n"
     ]
    }
   ],
   "source": [
    "symbolFiles = sorted(os.listdir(symbolFolder))\n",
    "dates = sorted([f.split(\".\")[0] for f in symbolFiles])\n",
    "dateIdx = 1\n",
    "symbolDateIdxFileLoc = os.path.join(symbolFolder, symbolFiles[dateIdx])\n",
    "print('Date:',  dates[dateIdx])"
   ]
  },
  {
   "cell_type": "code",
   "execution_count": 27,
   "id": "8d94a7b0",
   "metadata": {},
   "outputs": [],
   "source": [
    "dict_all_clocks = pd.read_pickle(symbolDateIdxFileLoc)\n",
    "clocks = list(dict_all_clocks.keys())"
   ]
  },
  {
   "cell_type": "code",
   "execution_count": 29,
   "id": "24f53881",
   "metadata": {},
   "outputs": [
    {
     "name": "stdout",
     "output_type": "stream",
     "text": [
      "clock type: tick\n"
     ]
    },
    {
     "data": {
      "text/html": [
       "<div>\n",
       "<style scoped>\n",
       "    .dataframe tbody tr th:only-of-type {\n",
       "        vertical-align: middle;\n",
       "    }\n",
       "\n",
       "    .dataframe tbody tr th {\n",
       "        vertical-align: top;\n",
       "    }\n",
       "\n",
       "    .dataframe thead th {\n",
       "        text-align: right;\n",
       "    }\n",
       "</style>\n",
       "<table border=\"1\" class=\"dataframe\">\n",
       "  <thead>\n",
       "    <tr style=\"text-align: right;\">\n",
       "      <th></th>\n",
       "      <th>0</th>\n",
       "    </tr>\n",
       "  </thead>\n",
       "  <tbody>\n",
       "    <tr>\n",
       "      <th>1</th>\n",
       "      <td>0.000021</td>\n",
       "    </tr>\n",
       "    <tr>\n",
       "      <th>2</th>\n",
       "      <td>0.000022</td>\n",
       "    </tr>\n",
       "    <tr>\n",
       "      <th>3</th>\n",
       "      <td>-0.000006</td>\n",
       "    </tr>\n",
       "    <tr>\n",
       "      <th>4</th>\n",
       "      <td>-0.000003</td>\n",
       "    </tr>\n",
       "    <tr>\n",
       "      <th>5</th>\n",
       "      <td>0.000019</td>\n",
       "    </tr>\n",
       "    <tr>\n",
       "      <th>...</th>\n",
       "      <td>...</td>\n",
       "    </tr>\n",
       "    <tr>\n",
       "      <th>3857</th>\n",
       "      <td>-0.000003</td>\n",
       "    </tr>\n",
       "    <tr>\n",
       "      <th>3858</th>\n",
       "      <td>-0.000039</td>\n",
       "    </tr>\n",
       "    <tr>\n",
       "      <th>3859</th>\n",
       "      <td>-0.000012</td>\n",
       "    </tr>\n",
       "    <tr>\n",
       "      <th>3860</th>\n",
       "      <td>0.000001</td>\n",
       "    </tr>\n",
       "    <tr>\n",
       "      <th>3861</th>\n",
       "      <td>-0.000010</td>\n",
       "    </tr>\n",
       "  </tbody>\n",
       "</table>\n",
       "<p>3861 rows × 1 columns</p>\n",
       "</div>"
      ],
      "text/plain": [
       "             0\n",
       "1     0.000021\n",
       "2     0.000022\n",
       "3    -0.000006\n",
       "4    -0.000003\n",
       "5     0.000019\n",
       "...        ...\n",
       "3857 -0.000003\n",
       "3858 -0.000039\n",
       "3859 -0.000012\n",
       "3860  0.000001\n",
       "3861 -0.000010\n",
       "\n",
       "[3861 rows x 1 columns]"
      ]
     },
     "execution_count": 29,
     "metadata": {},
     "output_type": "execute_result"
    }
   ],
   "source": [
    "clockIdx = 1\n",
    "print('clock type:', clocks[clockIdx])\n",
    "pd.DataFrame(dict_all_clocks[clocks[clockIdx]])"
   ]
  },
  {
   "cell_type": "code",
   "execution_count": null,
   "id": "ea732a21",
   "metadata": {},
   "outputs": [],
   "source": []
  }
 ],
 "metadata": {
  "kernelspec": {
   "display_name": "Python 3",
   "language": "python",
   "name": "python3"
  },
  "language_info": {
   "codemirror_mode": {
    "name": "ipython",
    "version": 3
   },
   "file_extension": ".py",
   "mimetype": "text/x-python",
   "name": "python",
   "nbconvert_exporter": "python",
   "pygments_lexer": "ipython3",
   "version": "3.6.13"
  }
 },
 "nbformat": 4,
 "nbformat_minor": 5
}
