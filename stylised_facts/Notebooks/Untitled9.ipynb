{
 "cells": [
  {
   "cell_type": "code",
   "execution_count": 1,
   "id": "9dd9cb75",
   "metadata": {},
   "outputs": [],
   "source": [
    "import os\n",
    "import pandas as pd\n",
    "import numpy as np"
   ]
  },
  {
   "cell_type": "code",
   "execution_count": 2,
   "id": "0f62f70d",
   "metadata": {},
   "outputs": [],
   "source": [
    "path = '/media/ak/My Passport/QuadAlpha/'\n",
    "folder = os.listdir('/media/ak/My Passport/QuadAlpha/')"
   ]
  },
  {
   "cell_type": "code",
   "execution_count": 3,
   "id": "0f7341d7",
   "metadata": {},
   "outputs": [],
   "source": [
    "files =[f for f in folder if str('_results_DF') in f]"
   ]
  },
  {
   "cell_type": "code",
   "execution_count": 4,
   "id": "e036d06a",
   "metadata": {},
   "outputs": [],
   "source": [
    "idx = 10\n",
    "dflist =list()\n",
    "for idx in range(0,100):\n",
    "    filePath = os.path.join(path, files[idx])\n",
    "    dflist.append(pd.read_pickle(filePath).T)"
   ]
  },
  {
   "cell_type": "code",
   "execution_count": 5,
   "id": "233a23b1",
   "metadata": {},
   "outputs": [],
   "source": [
    "df_list =dflist\n",
    "#[dflist[0].T, dflist[1].T, dflist[2].T, dflist[3].T, dflist[4].T]\n",
    "# df_list = [df1, df2, df3, df4, ...] # your list of dataframes\n",
    "df_concat = pd.concat([df.reset_index() for df in df_list])\n",
    "\n",
    "# set the index again\n",
    "df_concat.set_index(['start_point', 'end_point', 'window'], inplace=True)"
   ]
  },
  {
   "cell_type": "code",
   "execution_count": 10,
   "id": "5c572dea",
   "metadata": {},
   "outputs": [],
   "source": [
    "df_T =(df_concat.T)"
   ]
  },
  {
   "cell_type": "code",
   "execution_count": 15,
   "id": "57b416af",
   "metadata": {},
   "outputs": [],
   "source": [
    "df_test =df_T.iloc[:, [0,1,3]]"
   ]
  },
  {
   "cell_type": "code",
   "execution_count": 16,
   "id": "61c9f47a",
   "metadata": {},
   "outputs": [
    {
     "ename": "ValueError",
     "evalue": "Buffer has wrong number of dimensions (expected 1, got 2)",
     "output_type": "error",
     "traceback": [
      "\u001b[0;31m---------------------------------------\u001b[0m",
      "\u001b[0;31mValueError\u001b[0mTraceback (most recent call last)",
      "\u001b[0;32m<ipython-input-16-f109e17cb001>\u001b[0m in \u001b[0;36m<module>\u001b[0;34m\u001b[0m\n\u001b[1;32m      1\u001b[0m \u001b[0;31m# Creating the new columns MultiIndex\u001b[0m\u001b[0;34m\u001b[0m\u001b[0;34m\u001b[0m\u001b[0;34m\u001b[0m\u001b[0m\n\u001b[0;32m----> 2\u001b[0;31m \u001b[0mdf_test\u001b[0m\u001b[0;34m.\u001b[0m\u001b[0mcolumns\u001b[0m \u001b[0;34m=\u001b[0m \u001b[0mpd\u001b[0m\u001b[0;34m.\u001b[0m\u001b[0mMultiIndex\u001b[0m\u001b[0;34m.\u001b[0m\u001b[0mfrom_tuples\u001b[0m\u001b[0;34m(\u001b[0m\u001b[0mdf_test\u001b[0m\u001b[0;34m.\u001b[0m\u001b[0miloc\u001b[0m\u001b[0;34m[\u001b[0m\u001b[0;34m:\u001b[0m\u001b[0;36m4\u001b[0m\u001b[0;34m]\u001b[0m\u001b[0;34m.\u001b[0m\u001b[0mT\u001b[0m\u001b[0;34m.\u001b[0m\u001b[0mvalues\u001b[0m\u001b[0;34m,\u001b[0m \u001b[0mnames\u001b[0m\u001b[0;34m=\u001b[0m\u001b[0mdf_test\u001b[0m\u001b[0;34m.\u001b[0m\u001b[0miloc\u001b[0m\u001b[0;34m[\u001b[0m\u001b[0;34m:\u001b[0m\u001b[0;36m4\u001b[0m\u001b[0;34m]\u001b[0m\u001b[0;34m.\u001b[0m\u001b[0mindex\u001b[0m\u001b[0;34m)\u001b[0m\u001b[0;34m\u001b[0m\u001b[0;34m\u001b[0m\u001b[0m\n\u001b[0m\u001b[1;32m      3\u001b[0m \u001b[0;34m\u001b[0m\u001b[0m\n\u001b[1;32m      4\u001b[0m \u001b[0;31m# Dropping the rows that were used for the columns MultiIndex\u001b[0m\u001b[0;34m\u001b[0m\u001b[0;34m\u001b[0m\u001b[0;34m\u001b[0m\u001b[0m\n\u001b[1;32m      5\u001b[0m \u001b[0mdf_test\u001b[0m \u001b[0;34m=\u001b[0m \u001b[0mdf_test\u001b[0m\u001b[0;34m.\u001b[0m\u001b[0miloc\u001b[0m\u001b[0;34m[\u001b[0m\u001b[0;36m4\u001b[0m\u001b[0;34m:\u001b[0m\u001b[0;34m]\u001b[0m\u001b[0;34m\u001b[0m\u001b[0;34m\u001b[0m\u001b[0m\n",
      "\u001b[0;32m~/anaconda3/envs/workresr/lib/python3.6/site-packages/pandas/core/indexes/multi.py\u001b[0m in \u001b[0;36mfrom_tuples\u001b[0;34m(cls, tuples, sortorder, names)\u001b[0m\n\u001b[1;32m    499\u001b[0m                 \u001b[0mtuples\u001b[0m \u001b[0;34m=\u001b[0m \u001b[0mtuples\u001b[0m\u001b[0;34m.\u001b[0m\u001b[0m_values\u001b[0m\u001b[0;34m\u001b[0m\u001b[0;34m\u001b[0m\u001b[0m\n\u001b[1;32m    500\u001b[0m \u001b[0;34m\u001b[0m\u001b[0m\n\u001b[0;32m--> 501\u001b[0;31m             \u001b[0marrays\u001b[0m \u001b[0;34m=\u001b[0m \u001b[0mlist\u001b[0m\u001b[0;34m(\u001b[0m\u001b[0mlib\u001b[0m\u001b[0;34m.\u001b[0m\u001b[0mtuples_to_object_array\u001b[0m\u001b[0;34m(\u001b[0m\u001b[0mtuples\u001b[0m\u001b[0;34m)\u001b[0m\u001b[0;34m.\u001b[0m\u001b[0mT\u001b[0m\u001b[0;34m)\u001b[0m\u001b[0;34m\u001b[0m\u001b[0;34m\u001b[0m\u001b[0m\n\u001b[0m\u001b[1;32m    502\u001b[0m         \u001b[0;32melif\u001b[0m \u001b[0misinstance\u001b[0m\u001b[0;34m(\u001b[0m\u001b[0mtuples\u001b[0m\u001b[0;34m,\u001b[0m \u001b[0mlist\u001b[0m\u001b[0;34m)\u001b[0m\u001b[0;34m:\u001b[0m\u001b[0;34m\u001b[0m\u001b[0;34m\u001b[0m\u001b[0m\n\u001b[1;32m    503\u001b[0m             \u001b[0marrays\u001b[0m \u001b[0;34m=\u001b[0m \u001b[0mlist\u001b[0m\u001b[0;34m(\u001b[0m\u001b[0mlib\u001b[0m\u001b[0;34m.\u001b[0m\u001b[0mto_object_array_tuples\u001b[0m\u001b[0;34m(\u001b[0m\u001b[0mtuples\u001b[0m\u001b[0;34m)\u001b[0m\u001b[0;34m.\u001b[0m\u001b[0mT\u001b[0m\u001b[0;34m)\u001b[0m\u001b[0;34m\u001b[0m\u001b[0;34m\u001b[0m\u001b[0m\n",
      "\u001b[0;32mpandas/_libs/lib.pyx\u001b[0m in \u001b[0;36mpandas._libs.lib.tuples_to_object_array\u001b[0;34m()\u001b[0m\n",
      "\u001b[0;31mValueError\u001b[0m: Buffer has wrong number of dimensions (expected 1, got 2)"
     ]
    }
   ],
   "source": [
    "# Creating the new columns MultiIndex\n",
    "df_test.columns = pd.MultiIndex.from_tuples(df_test.iloc[:4].T.values, names=df_test.iloc[:4].index)\n",
    "\n",
    "# Dropping the rows that were used for the columns MultiIndex\n",
    "df_test = df_test.iloc[4:]\n",
    "\n",
    "# Resetting the index (optional)\n",
    "df_test.reset_index(drop=True, inplace=True)\n"
   ]
  },
  {
   "cell_type": "code",
   "execution_count": 7,
   "id": "f7fd8c81",
   "metadata": {},
   "outputs": [],
   "source": [
    "def remove_prefix(df, prefix):\n",
    "    df.columns = df.columns.str.replace(prefix, '')\n",
    "    return df"
   ]
  },
  {
   "cell_type": "code",
   "execution_count": 8,
   "id": "f7b30590",
   "metadata": {},
   "outputs": [
    {
     "ename": "NameError",
     "evalue": "name 'df' is not defined",
     "output_type": "error",
     "traceback": [
      "\u001b[0;31m---------------------------------------\u001b[0m",
      "\u001b[0;31mNameError\u001b[0mTraceback (most recent call last)",
      "\u001b[0;32m<ipython-input-8-2d5b9137e392>\u001b[0m in \u001b[0;36m<module>\u001b[0;34m\u001b[0m\n\u001b[0;32m----> 1\u001b[0;31m \u001b[0mremove_prefix\u001b[0m\u001b[0;34m(\u001b[0m\u001b[0mdf\u001b[0m\u001b[0;34m.\u001b[0m\u001b[0mT\u001b[0m\u001b[0;34m,\u001b[0m \u001b[0;34m'results_129_'\u001b[0m\u001b[0;34m)\u001b[0m\u001b[0;34m\u001b[0m\u001b[0;34m\u001b[0m\u001b[0m\n\u001b[0m",
      "\u001b[0;31mNameError\u001b[0m: name 'df' is not defined"
     ]
    }
   ],
   "source": [
    "remove_prefix(df.T, 'results_129_')"
   ]
  },
  {
   "cell_type": "code",
   "execution_count": 14,
   "id": "e9b1ac15",
   "metadata": {},
   "outputs": [
    {
     "data": {
      "text/html": [
       "<div>\n",
       "<style scoped>\n",
       "    .dataframe tbody tr th:only-of-type {\n",
       "        vertical-align: middle;\n",
       "    }\n",
       "\n",
       "    .dataframe tbody tr th {\n",
       "        vertical-align: top;\n",
       "    }\n",
       "\n",
       "    .dataframe thead th {\n",
       "        text-align: right;\n",
       "    }\n",
       "</style>\n",
       "<table border=\"1\" class=\"dataframe\">\n",
       "  <thead>\n",
       "    <tr style=\"text-align: right;\">\n",
       "      <th></th>\n",
       "      <th></th>\n",
       "      <th></th>\n",
       "      <th></th>\n",
       "      <th>end_point</th>\n",
       "      <th>Kxx</th>\n",
       "      <th>Kxy</th>\n",
       "      <th>Kyy</th>\n",
       "      <th>XZ_test_alpha</th>\n",
       "      <th>XZ_test_h0_rejected</th>\n",
       "      <th>XZ_test_list_permuted_mmd2</th>\n",
       "      <th>XZ_test_pvalue</th>\n",
       "      <th>XZ_test_test_stat</th>\n",
       "      <th>YZ_test_alpha</th>\n",
       "      <th>...</th>\n",
       "      <th>mean_gram</th>\n",
       "      <th>med</th>\n",
       "      <th>perm_mmds1</th>\n",
       "      <th>powers</th>\n",
       "      <th>sig2</th>\n",
       "      <th>sim_mmds</th>\n",
       "      <th>var</th>\n",
       "      <th>var_gram</th>\n",
       "      <th>start_point</th>\n",
       "      <th>window</th>\n",
       "    </tr>\n",
       "  </thead>\n",
       "  <tbody>\n",
       "    <tr>\n",
       "      <th>129</th>\n",
       "      <th>131</th>\n",
       "      <th>2</th>\n",
       "      <th>5</th>\n",
       "      <td>131</td>\n",
       "      <td>0.621694</td>\n",
       "      <td>0.661592</td>\n",
       "      <td>0.707465</td>\n",
       "      <td>0.05</td>\n",
       "      <td>True</td>\n",
       "      <td>-0.00246052</td>\n",
       "      <td>0</td>\n",
       "      <td>0.402598</td>\n",
       "      <td>0.05</td>\n",
       "      <td>...</td>\n",
       "      <td>0.00852653</td>\n",
       "      <td>0.443153</td>\n",
       "      <td>-0.00587285</td>\n",
       "      <td>0.486985</td>\n",
       "      <td>0.443153</td>\n",
       "      <td>-0.0030855</td>\n",
       "      <td>1.47563e-07</td>\n",
       "      <td>1.47563e-07</td>\n",
       "      <td>129</td>\n",
       "      <td>5</td>\n",
       "    </tr>\n",
       "  </tbody>\n",
       "</table>\n",
       "<p>1 rows × 29 columns</p>\n",
       "</div>"
      ],
      "text/plain": [
       "            end_point       Kxx       Kxy       Kyy XZ_test_alpha  \\\n",
       "129 131 2 5       131  0.621694  0.661592  0.707465          0.05   \n",
       "\n",
       "            XZ_test_h0_rejected XZ_test_list_permuted_mmd2 XZ_test_pvalue  \\\n",
       "129 131 2 5                True                -0.00246052              0   \n",
       "\n",
       "            XZ_test_test_stat YZ_test_alpha  ...   mean_gram       med  \\\n",
       "129 131 2 5          0.402598          0.05  ...  0.00852653  0.443153   \n",
       "\n",
       "             perm_mmds1    powers      sig2   sim_mmds          var  \\\n",
       "129 131 2 5 -0.00587285  0.486985  0.443153 -0.0030855  1.47563e-07   \n",
       "\n",
       "                var_gram start_point window  \n",
       "129 131 2 5  1.47563e-07         129      5  \n",
       "\n",
       "[1 rows x 29 columns]"
      ]
     },
     "execution_count": 14,
     "metadata": {},
     "output_type": "execute_result"
    }
   ],
   "source": [
    "prefix = '129'\n",
    "remove_prefix(df.T, 'results_'+prefix+'_')"
   ]
  },
  {
   "cell_type": "code",
   "execution_count": 15,
   "id": "93fbd31c",
   "metadata": {},
   "outputs": [
    {
     "data": {
      "text/plain": [
       "'(0, 2, 2, 35)'"
      ]
     },
     "execution_count": 15,
     "metadata": {},
     "output_type": "execute_result"
    }
   ],
   "source": []
  },
  {
   "cell_type": "code",
   "execution_count": null,
   "id": "d405e140",
   "metadata": {},
   "outputs": [],
   "source": []
  }
 ],
 "metadata": {
  "kernelspec": {
   "display_name": "Python 3",
   "language": "python",
   "name": "python3"
  },
  "language_info": {
   "codemirror_mode": {
    "name": "ipython",
    "version": 3
   },
   "file_extension": ".py",
   "mimetype": "text/x-python",
   "name": "python",
   "nbconvert_exporter": "python",
   "pygments_lexer": "ipython3",
   "version": "3.6.13"
  }
 },
 "nbformat": 4,
 "nbformat_minor": 5
}
