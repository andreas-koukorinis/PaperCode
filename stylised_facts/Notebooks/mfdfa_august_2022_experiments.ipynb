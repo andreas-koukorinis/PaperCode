{
 "cells": [
  {
   "cell_type": "code",
   "execution_count": 14,
   "id": "27c67b19",
   "metadata": {},
   "outputs": [],
   "source": [
    "import numpy as np\n",
    "import matplotlib.pyplot as plt\n",
    "import pandas as pd\n",
    "import numpy as np\n",
    "import os\n",
    "from dateutil.parser import parse\n",
    "from pandas.tseries.offsets import BDay\n",
    "import pickle as pkl\n",
    "import fnmatch\n",
    "import pickle\n",
    "import datetime as dt\n",
    "from datetime import timedelta\n",
    "import time\n",
    "from statsmodels.tsa.seasonal import STL\n",
    "%matplotlib inline\n",
    "import fathon\n",
    "from fathon import fathonUtils as fu"
   ]
  },
  {
   "cell_type": "code",
   "execution_count": 15,
   "id": "a12ce861",
   "metadata": {},
   "outputs": [],
   "source": [
    "####\n",
    "def open_pickle_filepath(pickle_file):\n",
    "    pickle_to_file = pickle.load(open(pickle_file, \"rb\"), encoding='latin1')"
   ]
  },
  {
   "cell_type": "code",
   "execution_count": 2,
   "id": "405cb9e4",
   "metadata": {},
   "outputs": [],
   "source": [
    "experiments_output_folder = '/media/ak/T7/August11th2022Experiments'\n",
    "rx_pkl = [f for f in os.listdir(experiments_output_folder) if str(\".pkl\") in f]"
   ]
  },
  {
   "cell_type": "code",
   "execution_count": 4,
   "id": "06375631",
   "metadata": {},
   "outputs": [],
   "source": [
    "pkl_idx = 1\n",
    "pkl_path = os.path.join(experiments_output_folder, rx_pkl[pkl_idx])"
   ]
  },
  {
   "cell_type": "code",
   "execution_count": 5,
   "id": "eb5c38f6",
   "metadata": {},
   "outputs": [],
   "source": [
    "test_dict = pd.read_pickle(pkl_path)"
   ]
  },
  {
   "cell_type": "code",
   "execution_count": 8,
   "id": "d6bf54e6",
   "metadata": {},
   "outputs": [],
   "source": [
    "tick_df = test_dict['tick']\n",
    "calendar_df =test_dict['calendar']\n",
    "volume_df = test_dict['volume']\n",
    "dollar_df = test_dict['dollar']"
   ]
  },
  {
   "cell_type": "code",
   "execution_count": 12,
   "id": "dd2b1f12",
   "metadata": {},
   "outputs": [],
   "source": [
    "chosen_df = dollar_df\n",
    "dollar_df.columns.values\n",
    "px_imb = chosen_df['price_imbalance'] \n",
    "rtn_norm = chosen_df['returns_normalised']\n",
    "vol = chosen_df['GK_vol']"
   ]
  },
  {
   "cell_type": "code",
   "execution_count": 18,
   "id": "6b09e94e",
   "metadata": {},
   "outputs": [
    {
     "name": "stdout",
     "output_type": "stream",
     "text": [
      "1660845418.1985116\n"
     ]
    }
   ],
   "source": [
    "winSizes = fu.linRangeByStep(3, 20) # this is gonna need some work\n",
    "revSeg = True\n",
    "polOrd = 1\n",
    "# load all teh dataframes at once with this\n",
    "start = time.time()\n",
    "print(start)"
   ]
  },
  {
   "cell_type": "code",
   "execution_count": 19,
   "id": "f33ec8d8",
   "metadata": {},
   "outputs": [],
   "source": [
    "data = vol\n",
    "a = fu.toAggregated(np.asanyarray(data))\n",
    "pydfa = fathon.DFA(a)\n",
    "pymfdfa = fathon.MFDFA(a)\n",
    "n, F = pydfa.computeFlucVec(winSizes, revSeg=revSeg, polOrd=polOrd)"
   ]
  },
  {
   "cell_type": "code",
   "execution_count": 20,
   "id": "a34791f0",
   "metadata": {},
   "outputs": [
    {
     "name": "stderr",
     "output_type": "stream",
     "text": [
      "/home/ak/anaconda3/envs/newTimeSeries/lib/python3.6/site-packages/ipykernel_launcher.py:1: RuntimeWarning: divide by zero encountered in log\n",
      "  \"\"\"Entry point for launching an IPython kernel.\n"
     ]
    }
   ],
   "source": [
    "H, H_intercept = pydfa.fitFlucVec()  # same for H values"
   ]
  },
  {
   "cell_type": "code",
   "execution_count": 22,
   "id": "40dfb9b0",
   "metadata": {},
   "outputs": [],
   "source": [
    "winSizes = fu.linRangeByStep(5, 50)\n",
    "revSeg = True\n",
    "qs = np.arange(-3, 4, 0.1)\n",
    "polOrd = 3\n",
    "a = fu.toAggregated(np.asanyarray(data))\n",
    "# MFDFA Computations\n",
    "pymfdfa = fathon.MFDFA(a)\n",
    "n, F = pymfdfa.computeFlucVec(winSizes, qs, revSeg=revSeg, polOrd=polOrd)\n"
   ]
  },
  {
   "cell_type": "code",
   "execution_count": 24,
   "id": "dee14caa",
   "metadata": {},
   "outputs": [
    {
     "data": {
      "text/plain": [
       "array([ 5,  6,  7,  8,  9, 10, 11, 12, 13, 14, 15, 16, 17, 18, 19, 20, 21,\n",
       "       22, 23, 24, 25, 26, 27, 28, 29, 30, 31, 32, 33, 34, 35, 36, 37, 38,\n",
       "       39, 40, 41, 42, 43, 44, 45, 46, 47, 48, 49, 50], dtype=int32)"
      ]
     },
     "execution_count": 24,
     "metadata": {},
     "output_type": "execute_result"
    }
   ],
   "source": [
    "n"
   ]
  },
  {
   "cell_type": "code",
   "execution_count": null,
   "id": "df289106",
   "metadata": {},
   "outputs": [],
   "source": []
  }
 ],
 "metadata": {
  "kernelspec": {
   "display_name": "Python 3",
   "language": "python",
   "name": "python3"
  },
  "language_info": {
   "codemirror_mode": {
    "name": "ipython",
    "version": 3
   },
   "file_extension": ".py",
   "mimetype": "text/x-python",
   "name": "python",
   "nbconvert_exporter": "python",
   "pygments_lexer": "ipython3",
   "version": "3.6.13"
  }
 },
 "nbformat": 4,
 "nbformat_minor": 5
}
