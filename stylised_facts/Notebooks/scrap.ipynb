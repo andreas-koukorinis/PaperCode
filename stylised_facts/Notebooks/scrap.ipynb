{
 "cells": [
  {
   "cell_type": "code",
   "execution_count": 1,
   "id": "99e4261b",
   "metadata": {},
   "outputs": [],
   "source": [
    "import time \n",
    "import multiprocessing as mp\n",
    "from multiprocessing import Pool\n",
    "from collections import defaultdict\n",
    "import sys\n",
    "sys.path.append('/home/ak/Documents/PaperCode/stylised_facts')\n",
    "sys.path.append('/home/ak/Documents/PaperCode/stylised_facts/lob_for_futures')"
   ]
  },
  {
   "cell_type": "code",
   "execution_count": 2,
   "id": "a6228caf",
   "metadata": {},
   "outputs": [
    {
     "ename": "ModuleNotFoundError",
     "evalue": "No module named 'lob_for_futures'",
     "output_type": "error",
     "traceback": [
      "\u001b[0;31m--------------------------------------------------\u001b[0m",
      "\u001b[0;31mModuleNotFoundError\u001b[0mTraceback (most recent call last)",
      "\u001b[0;32m<ipython-input-2-9649c1857553>\u001b[0m in \u001b[0;36m<module>\u001b[0;34m()\u001b[0m\n\u001b[1;32m      4\u001b[0m \u001b[0;32mimport\u001b[0m \u001b[0mpandas\u001b[0m \u001b[0;32mas\u001b[0m \u001b[0mpd\u001b[0m\u001b[0;34m\u001b[0m\u001b[0;34m\u001b[0m\u001b[0m\n\u001b[1;32m      5\u001b[0m \u001b[0;32mimport\u001b[0m \u001b[0mos\u001b[0m\u001b[0;34m\u001b[0m\u001b[0;34m\u001b[0m\u001b[0m\n\u001b[0;32m----> 6\u001b[0;31m \u001b[0;32mimport\u001b[0m \u001b[0mlob_for_futures\u001b[0m \u001b[0;32mas\u001b[0m \u001b[0mlobFut\u001b[0m\u001b[0;34m\u001b[0m\u001b[0;34m\u001b[0m\u001b[0m\n\u001b[0m\u001b[1;32m      7\u001b[0m \u001b[0;32mfrom\u001b[0m \u001b[0mlob_for_futures\u001b[0m \u001b[0;32mimport\u001b[0m \u001b[0;34m*\u001b[0m\u001b[0;34m\u001b[0m\u001b[0;34m\u001b[0m\u001b[0m\n\u001b[1;32m      8\u001b[0m \u001b[0;34m\u001b[0m\u001b[0m\n",
      "\u001b[0;31mModuleNotFoundError\u001b[0m: No module named 'lob_for_futures'"
     ]
    }
   ],
   "source": [
    "\n",
    "import numpy as np\n",
    "import matplotlib.pyplot as plt\n",
    "import pandas as pd\n",
    "import os\n",
    "import lob_for_futures as lobFut\n",
    "from lob_for_futures import *\n",
    "\n",
    "from scipy.stats import jarque_bera\n",
    "import matplotlib.pyplot as plt\n",
    "\n",
    "from dateutil.parser import parse\n",
    "from pandas.tseries.offsets import BDay\n",
    "import pickle as pkl\n",
    "import fnmatch\n",
    "import pickle\n",
    "import datetime as dt\n",
    "from datetime import timedelta\n",
    "import glob\n",
    "import fathon\n",
    "from fathon import fathonUtils as fu\n",
    "import itertools\n",
    "import pyinform as pyinf\n",
    "# import pingouin as pig\n",
    "import seaborn as sns\n",
    "from scipy.stats import entropy\n",
    "from scipy.spatial.distance import jensenshannon\n",
    "from scipy.special import kl_div\n",
    "import time\n",
    "import pickle as pkl\n",
    "import matplotlib.ticker as mtick\n",
    "\n",
    "from functools import partial\n",
    "\n",
    "def returns(s):\n",
    "\n",
    "    # compute log returns\n",
    "    arr = np.diff(np.log(s))\n",
    "\n",
    "    return (pd.Series(arr, index=s.index[1:]))"
   ]
  },
  {
   "cell_type": "code",
   "execution_count": null,
   "id": "4ed05c0b",
   "metadata": {},
   "outputs": [],
   "source": [
    "# Lets create a function that shifted your dataframe first before calling the corr(). \n",
    "# Let us break down what we hope to accomplish, and then translate that into code. \n",
    "# For each hour (row) and for a given feature (column) I would like to find the value \n",
    "# for that feature N hours prior. \n",
    "# For each value of N (1-6 in our case) I want to make a new column \n",
    "# for that feature representing the Nth prior hour's measurement.\n",
    "\n",
    "def df_derived_by_shift(df,lag=0,NON_DER=[]):\n",
    "    df = df.copy()\n",
    "    if not lag:\n",
    "        return df\n",
    "    cols ={}\n",
    "    for i in range(1,lag+1):\n",
    "        for x in list(df.columns):\n",
    "            if x not in NON_DER:\n",
    "                if not x in cols:\n",
    "                    cols[x] = ['{}_{}'.format(x, i)]\n",
    "                else:\n",
    "                    cols[x].append('{}_{}'.format(x, i))\n",
    "    for k,v in cols.items():\n",
    "        columns = v\n",
    "        dfn = pd.DataFrame(data=None, columns=columns, index=df.index)    \n",
    "        i = 1\n",
    "        for c in columns:\n",
    "            dfn[c] = df[k].shift(periods=i)\n",
    "            i+=1\n",
    "        df = pd.concat([df, dfn], axis=1)\n",
    "    return df\n",
    "\n",
    "def get_test_stats(bar_types,bar_returns,test_func,*args,**kwds):\n",
    "    \n",
    "    dct = {bar:(int(bar_ret.shape[0]), test_func(bar_ret,*args,**kwds)) \n",
    "           for bar,bar_ret in zip(bar_types,bar_returns)}\n",
    "    df = (pd.DataFrame.from_dict(dct)\n",
    "          .rename(index={0:'sample_size',1:f'{test_func.__name__}_stat'})\n",
    "          .T)\n",
    "    return df"
   ]
  },
  {
   "cell_type": "code",
   "execution_count": null,
   "id": "44c3d98f",
   "metadata": {},
   "outputs": [],
   "source": [
    "loc_activityClockData = '/media/ak/My Passport/ActivityClockData'\n",
    "loc_ProcessedDataForExperiments = '/media/ak/My Passport1/ExperimentData/ProcessedDataForExperiments'\n",
    "list_activityClockData = os.listdir('/media/ak/My Passport1/ActivityClockData')\n",
    "\n",
    "os_data = '/media/ak/OS/Data'\n",
    "FuturesDataSemiProcessed = os.path.join(os_data, 'FuturesDataSemiProcessed')\n",
    "bars = ['tick', 'volume', 'calendar', 'dollar']"
   ]
  },
  {
   "cell_type": "code",
   "execution_count": null,
   "id": "9d9a0df8",
   "metadata": {},
   "outputs": [],
   "source": [
    "symbols = os.listdir(FuturesDataSemiProcessed)\n",
    "jb1_data_loc = os.path.join(FuturesDataSemiProcessed, 'JB1')\n",
    "symbol_data_list = sorted(os.listdir(jb1_data_loc))\n",
    "symbol_data_dates = [f.split('.')[0] for f in symbol_data_list if str('.pkl') in f]"
   ]
  },
  {
   "cell_type": "code",
   "execution_count": null,
   "id": "dc75ff7e",
   "metadata": {},
   "outputs": [],
   "source": [
    "file_idx = 0\n",
    "file_loc = os.path.join(jb1_data_loc, symbol_data_list[file_idx])\n",
    "pickled_default_dict = pd.read_pickle(file_loc)\n",
    "date = list(pickled_default_dict.keys())\n"
   ]
  },
  {
   "cell_type": "code",
   "execution_count": null,
   "id": "c4eb50c2",
   "metadata": {},
   "outputs": [],
   "source": [
    "loaded_pickle_file = pd.read_pickle(file_loc)"
   ]
  },
  {
   "cell_type": "code",
   "execution_count": null,
   "id": "68de1beb",
   "metadata": {},
   "outputs": [],
   "source": [
    "keys = list(loaded_pickle_file.keys())\n",
    "print(keys)"
   ]
  },
  {
   "cell_type": "code",
   "execution_count": null,
   "id": "8c22300b",
   "metadata": {},
   "outputs": [],
   "source": [
    "all_dfs = loaded_pickle_file[keys[0]]\n",
    "all_dfs.keys()"
   ]
  },
  {
   "cell_type": "code",
   "execution_count": null,
   "id": "ebd5dcb8",
   "metadata": {},
   "outputs": [],
   "source": [
    "tick_df = all_dfs['tick']\n",
    "volume_df = all_dfs['volume']\n",
    "calendar_df = all_dfs['calendar']\n",
    "dollar_df = all_dfs['dollar']"
   ]
  },
  {
   "cell_type": "code",
<<<<<<< HEAD
   "execution_count": 28,
   "id": "eeddc822",
=======
   "execution_count": null,
   "id": "ff717333",
>>>>>>> 2217313d7e9392342cc723da13a1e4abbe7b7588
   "metadata": {},
   "outputs": [],
   "source": [
    "dollar_df.columns.values # do cross correlation here"
   ]
  },
  {
   "cell_type": "code",
   "execution_count": null,
   "id": "1cdc5059",
   "metadata": {},
   "outputs": [],
   "source": [
    "volume_df_micro_structure = lobFut.apply_micro_structure_features(volume_df)"
   ]
  },
  {
   "cell_type": "code",
<<<<<<< HEAD
   "execution_count": 35,
   "id": "9c12d09f",
=======
   "execution_count": null,
   "id": "d00e8de1",
>>>>>>> 2217313d7e9392342cc723da13a1e4abbe7b7588
   "metadata": {},
   "outputs": [],
   "source": [
    "volume_df_micro_structure"
   ]
  },
  {
   "cell_type": "code",
   "execution_count": null,
   "id": "388355b9",
   "metadata": {},
   "outputs": [],
   "source": [
    "volume_df_vol_estimation = lobFut.volatilityEstimation(volume_df)\n",
    "tick_df_vol_estimation = lobFut.volatilityEstimation(tick_df)"
   ]
  },
  {
   "cell_type": "code",
   "execution_count": null,
   "id": "59c72a52",
   "metadata": {},
   "outputs": [],
   "source": [
    "plt.hist(tick_df_vol_estimation.garmanKlass(5))"
   ]
  },
  {
   "cell_type": "code",
   "execution_count": null,
   "id": "3ec268da",
   "metadata": {},
   "outputs": [],
   "source": [
    "import seaborn as sns"
   ]
  },
  {
   "cell_type": "code",
<<<<<<< HEAD
   "execution_count": 26,
   "id": "2c011bd7",
   "metadata": {
    "scrolled": true
   },
   "outputs": [
    {
     "data": {
      "text/plain": [
       "<AxesSubplot:ylabel='Count'>"
      ]
     },
     "execution_count": 26,
     "metadata": {},
     "output_type": "execute_result"
    },
    {
     "data": {
      "image/png": "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\n",
      "text/plain": [
       "<Figure size 576x432 with 1 Axes>"
      ]
     },
     "metadata": {
      "needs_background": "light"
     },
     "output_type": "display_data"
    }
   ],
=======
   "execution_count": null,
   "id": "df0a91de",
   "metadata": {},
   "outputs": [],
>>>>>>> 2217313d7e9392342cc723da13a1e4abbe7b7588
   "source": [
    "sns.histplot(tick_df_vol_estimation.garmanKlass(5))"
   ]
  },
  {
   "cell_type": "code",
<<<<<<< HEAD
   "execution_count": 36,
   "id": "379b4e76",
=======
   "execution_count": null,
   "id": "2e9de98d",
>>>>>>> 2217313d7e9392342cc723da13a1e4abbe7b7588
   "metadata": {},
   "outputs": [],
   "source": [
    "experiments_results = '/media/ak/T7/June4th2022Experiments'"
   ]
  },
  {
   "cell_type": "code",
   "execution_count": 38,
   "id": "ae424972",
   "metadata": {},
   "outputs": [],
   "source": [
    "standard_returns_files = [f for f in os.listdir(experiments_results) if str('returns') in f]"
   ]
  },
  {
   "cell_type": "code",
   "execution_count": 40,
   "id": "f27e648d",
   "metadata": {},
   "outputs": [],
   "source": [
    "symbol ='DU1'\n",
    "symbol_standard_returns_files =[f for f in standard_returns_files if str(symbol) in f]"
   ]
  },
  {
   "cell_type": "code",
   "execution_count": 57,
   "id": "f862aeea",
   "metadata": {},
   "outputs": [],
   "source": [
    "fileIdx = 1\n",
    "file_loc = os.path.join(experiments_results, symbol_standard_returns_files[fileIdx])"
   ]
  },
  {
   "cell_type": "code",
   "execution_count": 58,
   "id": "53e6bec7",
   "metadata": {},
   "outputs": [
    {
     "data": {
      "text/plain": [
       "{1: volume_bucket\n",
       " 50.0       -0.001223\n",
       " 67.0       -0.034204\n",
       " 84.0       -0.096343\n",
       " 100.0       0.775518\n",
       " 117.0       0.019516\n",
       "               ...   \n",
       " 362327.0   -0.439982\n",
       " 362342.0   -0.064730\n",
       " 362357.0   -0.116264\n",
       " 362366.0   -0.313538\n",
       " 362375.0    1.873759\n",
       " Length: 15456, dtype: float64}"
      ]
     },
     "execution_count": 58,
     "metadata": {},
     "output_type": "execute_result"
    }
   ],
   "source": [
    "lobFut.open_pickle_filepath(file_loc)['volume']"
   ]
  },
  {
   "cell_type": "code",
   "execution_count": null,
   "id": "21c6375b",
   "metadata": {},
   "outputs": [],
   "source": []
  }
 ],
 "metadata": {
  "kernelspec": {
   "display_name": "Python 3",
   "language": "python",
   "name": "python3"
  },
  "language_info": {
   "codemirror_mode": {
    "name": "ipython",
    "version": 3
   },
   "file_extension": ".py",
   "mimetype": "text/x-python",
   "name": "python",
   "nbconvert_exporter": "python",
   "pygments_lexer": "ipython3",
   "version": "3.6.15"
  }
 },
 "nbformat": 4,
 "nbformat_minor": 5
}
