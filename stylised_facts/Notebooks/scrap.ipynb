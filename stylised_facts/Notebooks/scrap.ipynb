{
 "cells": [
  {
   "cell_type": "code",
   "execution_count": 1,
   "id": "99e4261b",
   "metadata": {},
   "outputs": [],
   "source": [
    "import time \n",
    "import multiprocessing as mp\n",
    "from multiprocessing import Pool\n",
    "from collections import defaultdict\n",
    "import sys\n",
    "sys.path.append('/home/ak/Documents/PaperCode/stylised_facts')\n",
    "sys.path.append('/home/ak/Documents/PaperCode/stylised_facts/lob_for_futures')"
   ]
  },
  {
   "cell_type": "code",
   "execution_count": 2,
   "id": "a6228caf",
   "metadata": {},
   "outputs": [
    {
     "ename": "ModuleNotFoundError",
     "evalue": "No module named 'lob_for_futures'",
     "output_type": "error",
     "traceback": [
      "\u001b[0;31m--------------------------------------------------\u001b[0m",
      "\u001b[0;31mModuleNotFoundError\u001b[0mTraceback (most recent call last)",
      "\u001b[0;32m<ipython-input-2-9649c1857553>\u001b[0m in \u001b[0;36m<module>\u001b[0;34m()\u001b[0m\n\u001b[1;32m      4\u001b[0m \u001b[0;32mimport\u001b[0m \u001b[0mpandas\u001b[0m \u001b[0;32mas\u001b[0m \u001b[0mpd\u001b[0m\u001b[0;34m\u001b[0m\u001b[0;34m\u001b[0m\u001b[0m\n\u001b[1;32m      5\u001b[0m \u001b[0;32mimport\u001b[0m \u001b[0mos\u001b[0m\u001b[0;34m\u001b[0m\u001b[0;34m\u001b[0m\u001b[0m\n\u001b[0;32m----> 6\u001b[0;31m \u001b[0;32mimport\u001b[0m \u001b[0mlob_for_futures\u001b[0m \u001b[0;32mas\u001b[0m \u001b[0mlobFut\u001b[0m\u001b[0;34m\u001b[0m\u001b[0;34m\u001b[0m\u001b[0m\n\u001b[0m\u001b[1;32m      7\u001b[0m \u001b[0;32mfrom\u001b[0m \u001b[0mlob_for_futures\u001b[0m \u001b[0;32mimport\u001b[0m \u001b[0;34m*\u001b[0m\u001b[0;34m\u001b[0m\u001b[0;34m\u001b[0m\u001b[0m\n\u001b[1;32m      8\u001b[0m \u001b[0;34m\u001b[0m\u001b[0m\n",
      "\u001b[0;31mModuleNotFoundError\u001b[0m: No module named 'lob_for_futures'"
     ]
    }
   ],
   "source": [
    "\n",
    "import numpy as np\n",
    "import matplotlib.pyplot as plt\n",
    "import pandas as pd\n",
    "import os\n",
    "import lob_for_futures as lobFut\n",
    "from lob_for_futures import *\n",
    "\n",
    "from scipy.stats import jarque_bera\n",
    "import matplotlib.pyplot as plt\n",
    "\n",
    "from dateutil.parser import parse\n",
    "from pandas.tseries.offsets import BDay\n",
    "import pickle as pkl\n",
    "import fnmatch\n",
    "import pickle\n",
    "import datetime as dt\n",
    "from datetime import timedelta\n",
    "import glob\n",
    "import fathon\n",
    "from fathon import fathonUtils as fu\n",
    "import itertools\n",
    "import pyinform as pyinf\n",
    "# import pingouin as pig\n",
    "import seaborn as sns\n",
    "from scipy.stats import entropy\n",
    "from scipy.spatial.distance import jensenshannon\n",
    "from scipy.special import kl_div\n",
    "import time\n",
    "import pickle as pkl\n",
    "import matplotlib.ticker as mtick\n",
    "\n",
    "from functools import partial\n",
    "\n",
    "def returns(s):\n",
    "\n",
    "    # compute log returns\n",
    "    arr = np.diff(np.log(s))\n",
    "\n",
    "    return (pd.Series(arr, index=s.index[1:]))"
   ]
  },
  {
   "cell_type": "code",
   "execution_count": null,
   "id": "4ed05c0b",
   "metadata": {},
   "outputs": [],
   "source": [
    "# Lets create a function that shifted your dataframe first before calling the corr(). \n",
    "# Let us break down what we hope to accomplish, and then translate that into code. \n",
    "# For each hour (row) and for a given feature (column) I would like to find the value \n",
    "# for that feature N hours prior. \n",
    "# For each value of N (1-6 in our case) I want to make a new column \n",
    "# for that feature representing the Nth prior hour's measurement.\n",
    "\n",
    "def df_derived_by_shift(df,lag=0,NON_DER=[]):\n",
    "    df = df.copy()\n",
    "    if not lag:\n",
    "        return df\n",
    "    cols ={}\n",
    "    for i in range(1,lag+1):\n",
    "        for x in list(df.columns):\n",
    "            if x not in NON_DER:\n",
    "                if not x in cols:\n",
    "                    cols[x] = ['{}_{}'.format(x, i)]\n",
    "                else:\n",
    "                    cols[x].append('{}_{}'.format(x, i))\n",
    "    for k,v in cols.items():\n",
    "        columns = v\n",
    "        dfn = pd.DataFrame(data=None, columns=columns, index=df.index)    \n",
    "        i = 1\n",
    "        for c in columns:\n",
    "            dfn[c] = df[k].shift(periods=i)\n",
    "            i+=1\n",
    "        df = pd.concat([df, dfn], axis=1)\n",
    "    return df\n",
    "\n",
    "def get_test_stats(bar_types,bar_returns,test_func,*args,**kwds):\n",
    "    \n",
    "    dct = {bar:(int(bar_ret.shape[0]), test_func(bar_ret,*args,**kwds)) \n",
    "           for bar,bar_ret in zip(bar_types,bar_returns)}\n",
    "    df = (pd.DataFrame.from_dict(dct)\n",
    "          .rename(index={0:'sample_size',1:f'{test_func.__name__}_stat'})\n",
    "          .T)\n",
    "    return df"
   ]
  },
  {
   "cell_type": "code",
   "execution_count": null,
   "id": "44c3d98f",
   "metadata": {},
   "outputs": [],
   "source": [
    "loc_activityClockData = '/media/ak/My Passport/ActivityClockData'\n",
    "loc_ProcessedDataForExperiments = '/media/ak/My Passport1/ExperimentData/ProcessedDataForExperiments'\n",
    "list_activityClockData = os.listdir('/media/ak/My Passport1/ActivityClockData')\n",
    "\n",
    "os_data = '/media/ak/OS/Data'\n",
    "FuturesDataSemiProcessed = os.path.join(os_data, 'FuturesDataSemiProcessed')\n",
    "bars = ['tick', 'volume', 'calendar', 'dollar']"
   ]
  },
  {
   "cell_type": "code",
   "execution_count": null,
   "id": "9d9a0df8",
   "metadata": {},
   "outputs": [],
   "source": [
    "symbols = os.listdir(FuturesDataSemiProcessed)\n",
    "jb1_data_loc = os.path.join(FuturesDataSemiProcessed, 'JB1')\n",
    "symbol_data_list = sorted(os.listdir(jb1_data_loc))\n",
    "symbol_data_dates = [f.split('.')[0] for f in symbol_data_list if str('.pkl') in f]"
   ]
  },
  {
   "cell_type": "code",
   "execution_count": null,
   "id": "dc75ff7e",
   "metadata": {},
   "outputs": [],
   "source": [
    "file_idx = 0\n",
    "file_loc = os.path.join(jb1_data_loc, symbol_data_list[file_idx])\n",
    "pickled_default_dict = pd.read_pickle(file_loc)\n",
    "date = list(pickled_default_dict.keys())\n"
   ]
  },
  {
   "cell_type": "code",
   "execution_count": null,
   "id": "c4eb50c2",
   "metadata": {},
   "outputs": [],
   "source": [
    "loaded_pickle_file = pd.read_pickle(file_loc)"
   ]
  },
  {
   "cell_type": "code",
   "execution_count": null,
   "id": "68de1beb",
   "metadata": {},
   "outputs": [],
   "source": [
    "keys = list(loaded_pickle_file.keys())\n",
    "print(keys)"
   ]
  },
  {
   "cell_type": "code",
   "execution_count": null,
   "id": "8c22300b",
   "metadata": {},
   "outputs": [],
   "source": [
    "all_dfs = loaded_pickle_file[keys[0]]\n",
    "all_dfs.keys()"
   ]
  },
  {
   "cell_type": "code",
   "execution_count": null,
   "id": "ebd5dcb8",
   "metadata": {},
   "outputs": [],
   "source": [
    "tick_df = all_dfs['tick']\n",
    "volume_df = all_dfs['volume']\n",
    "calendar_df = all_dfs['calendar']\n",
    "dollar_df = all_dfs['dollar']"
   ]
  },
  {
   "cell_type": "code",
   "execution_count": null,
   "id": "ff717333",
   "metadata": {},
   "outputs": [],
   "source": [
    "dollar_df.columns.values # do cross correlation here"
   ]
  },
  {
   "cell_type": "code",
   "execution_count": null,
   "id": "1cdc5059",
   "metadata": {},
   "outputs": [],
   "source": [
    "volume_df_micro_structure = lobFut.apply_micro_structure_features(volume_df)"
   ]
  },
  {
   "cell_type": "code",
   "execution_count": null,
   "id": "d00e8de1",
   "metadata": {},
   "outputs": [],
   "source": [
    "volume_df_micro_structure"
   ]
  },
  {
   "cell_type": "code",
   "execution_count": null,
   "id": "388355b9",
   "metadata": {},
   "outputs": [],
   "source": [
    "volume_df_vol_estimation = lobFut.volatilityEstimation(volume_df)\n",
    "tick_df_vol_estimation = lobFut.volatilityEstimation(tick_df)"
   ]
  },
  {
   "cell_type": "code",
   "execution_count": null,
   "id": "59c72a52",
   "metadata": {},
   "outputs": [],
   "source": [
    "plt.hist(tick_df_vol_estimation.garmanKlass(5))"
   ]
  },
  {
   "cell_type": "code",
   "execution_count": null,
   "id": "3ec268da",
   "metadata": {},
   "outputs": [],
   "source": [
    "import seaborn as sns"
   ]
  },
  {
   "cell_type": "code",
   "execution_count": null,
   "id": "df0a91de",
   "metadata": {},
   "outputs": [],
   "source": [
    "sns.histplot(tick_df_vol_estimation.garmanKlass(5))"
   ]
  },
  {
   "cell_type": "code",
   "execution_count": null,
   "id": "2e9de98d",
   "metadata": {},
   "outputs": [],
   "source": []
  }
 ],
 "metadata": {
  "kernelspec": {
   "display_name": "Python 3",
   "language": "python",
   "name": "python3"
  },
  "language_info": {
   "codemirror_mode": {
    "name": "ipython",
    "version": 3
   },
   "file_extension": ".py",
   "mimetype": "text/x-python",
   "name": "python",
   "nbconvert_exporter": "python",
   "pygments_lexer": "ipython3",
   "version": "3.6.15"
  }
 },
 "nbformat": 4,
 "nbformat_minor": 5
}
