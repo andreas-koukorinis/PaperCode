{
 "cells": [
  {
   "cell_type": "code",
   "execution_count": null,
   "metadata": {},
   "outputs": [],
   "source": [
    "import sys\n",
    "sys.path.insert(0, '/directory/tothe/handshakefile/')\n",
    "sys.path.append('/home/ak/Documents/PaperCode/stylised_facts/')"
   ]
  },
  {
   "cell_type": "code",
   "execution_count": null,
   "metadata": {},
   "outputs": [],
   "source": [
    "import numpy as np\n",
    "import matplotlib.pyplot as plt\n",
    "import pandas as pd\n",
    "import numpy as np\n",
    "import os\n",
    "import lob_for_futures as lobFut\n",
    "from lob_for_futures import *\n",
    "import os\n",
    "import matplotlib.pyplot as plt\n",
    "\n",
    "from dateutil.parser import parse\n",
    "from pandas.tseries.offsets import BDay\n",
    "import pickle as pkl\n",
    "import fnmatch\n",
    "import pickle\n",
    "import datetime as dt\n",
    "from datetime import timedelta\n",
    "import glob\n",
    "import fathon\n",
    "from fathon import fathonUtils as fu\n",
    "import itertools\n",
    "import pyinform as pyinf\n",
    "# import pingouin as pig\n",
    "from scipy.stats import entropy\n",
    "from scipy.spatial.distance import jensenshannon\n",
    "from scipy.special import kl_div\n",
    "import time\n",
    "import matplotlib.ticker as mtick\n",
    "dataFolder = lobFut.dataFolder\n",
    "quotes = [f for f in os.listdir(dataFolder) if str('_quotes') in f]\n",
    "trades = [f for f in os.listdir(dataFolder) if str('_trades') in f]\n",
    "elements = '/media/ak/Elements/OrderBookProcessedData'\n",
    "\n",
    "procesSymbols = sorted(os.listdir(elements))\n",
    "symbolIdx = 0\n",
    "\n",
    "symbols = [f.split(\"_\")[0] for f in quotes]\n",
    "#\n",
    "symbol = sorted(symbols)[symbolIdx]\n",
    "print(symbol)\n",
    "quotesFileCh = os.path.join(dataFolder, quotes[symbolIdx])\n",
    "tradesFileCh = os.path.join(dataFolder, trades[symbolIdx])\n",
    "#\n",
    "# # get common Dates\n",
    "quotesDates = sorted([f.split(\".csv\")[0] for f in os.listdir(quotesFileCh)])\n",
    "tradesDates = sorted([f.split(\".csv\")[0] for f in os.listdir(tradesFileCh)])\n",
    "intersectionDates = list(set(quotesDates).intersection(tradesDates))\n",
    "\n",
    "trades_cols = ['size', 'time', 'type', 'value']\n",
    "#experimentsDestination = '/media/ak/T7/MFDFA Experiments'\n",
    "plt.style.use(os.path.join('/home/ak/.config/matplotlib','latexstyle.mplstyle'))"
   ]
  },
  {
   "cell_type": "code",
   "execution_count": null,
   "metadata": {},
   "outputs": [],
   "source": [
    "dataFolder"
   ]
  },
  {
   "cell_type": "code",
   "execution_count": null,
   "metadata": {},
   "outputs": [],
   "source": [
    "def returns(s):\n",
    "\n",
    "    # compute log returns\n",
    "    arr = np.diff(np.log(s))\n",
    "\n",
    "    return (pd.Series(arr, index=s.index[1:]))"
   ]
  },
  {
   "cell_type": "code",
   "execution_count": null,
   "metadata": {},
   "outputs": [],
   "source": [
    "\n",
    "symbols = sorted(os.listdir(elements))\n",
    "procesSymbols"
   ]
  },
  {
   "cell_type": "code",
   "execution_count": null,
   "metadata": {},
   "outputs": [],
   "source": [
    "# Lets create a function that shifted your dataframe first before calling the corr(). \n",
    "# Let us break down what we hope to accomplish, and then translate that into code. \n",
    "# For each hour (row) and for a given feature (column) I would like to find the value \n",
    "# for that feature N hours prior. \n",
    "# For each value of N (1-6 in our case) I want to make a new column \n",
    "# for that feature representing the Nth prior hour's measurement.\n",
    "\n",
    "def df_derived_by_shift(df,lag=0,NON_DER=[]):\n",
    "    df = df.copy()\n",
    "    if not lag:\n",
    "        return df\n",
    "    cols ={}\n",
    "    for i in range(1,lag+1):\n",
    "        for x in list(df.columns):\n",
    "            if x not in NON_DER:\n",
    "                if not x in cols:\n",
    "                    cols[x] = ['{}_{}'.format(x, i)]\n",
    "                else:\n",
    "                    cols[x].append('{}_{}'.format(x, i))\n",
    "    for k,v in cols.items():\n",
    "        columns = v\n",
    "        dfn = pd.DataFrame(data=None, columns=columns, index=df.index)    \n",
    "        i = 1\n",
    "        for c in columns:\n",
    "            dfn[c] = df[k].shift(periods=i)\n",
    "            i+=1\n",
    "        df = pd.concat([df, dfn], axis=1)\n",
    "    return df\n",
    "\n",
    "def get_test_stats(bar_types,bar_returns,test_func,*args,**kwds):\n",
    "    \n",
    "    dct = {bar:(int(bar_ret.shape[0]), test_func(bar_ret,*args,**kwds)) \n",
    "           for bar,bar_ret in zip(bar_types,bar_returns)}\n",
    "    df = (pd.DataFrame.from_dict(dct)\n",
    "          .rename(index={0:'sample_size',1:f'{test_func.__name__}_stat'})\n",
    "          .T)\n",
    "    return df"
   ]
  },
  {
   "cell_type": "code",
   "execution_count": null,
   "metadata": {},
   "outputs": [],
   "source": [
    "symbolIdx = 1\n",
    "procsdSymbolFolder = os.path.join(elements, procesSymbols[symbolIdx])\n",
    "files = sorted(os.listdir(procsdSymbolFolder))\n",
    "bars =['volume_bar', 'calendar_bar', 'usd_volume_bar', 'tick_bar']\n",
    "symbol = symbols[symbolIdx]\n",
    "print(symbol)"
   ]
  },
  {
   "cell_type": "code",
   "execution_count": null,
   "metadata": {},
   "outputs": [],
   "source": [
    "filesIdx =0\n",
    "fileLocation = os.path.join(procsdSymbolFolder, files[filesIdx])\n",
    "openedDict = open_pickle_filepath(fileLocation)"
   ]
  },
  {
   "cell_type": "code",
   "execution_count": null,
   "metadata": {},
   "outputs": [],
   "source": [
    "volume_bar_df = openedDict[list(openedDict.keys())[0]]"
   ]
  },
  {
   "cell_type": "code",
   "execution_count": 1,
   "metadata": {},
   "outputs": [
    {
     "ename": "NameError",
     "evalue": "name 'apply_micro_structure_features' is not defined",
     "output_type": "error",
     "traceback": [
      "\u001b[0;31m--------------------------------------------------------------\u001b[0m",
      "\u001b[0;31mNameError\u001b[0m                    Traceback (most recent call last)",
      "\u001b[0;32m<ipython-input-1-1a9339dccbb5>\u001b[0m in \u001b[0;36m<module>\u001b[0;34m\u001b[0m\n\u001b[0;32m----> 1\u001b[0;31m \u001b[0mmicro_df_volume\u001b[0m \u001b[0;34m=\u001b[0m\u001b[0mapply_micro_structure_features\u001b[0m\u001b[0;34m(\u001b[0m\u001b[0mvolume_bar_df\u001b[0m\u001b[0;34m)\u001b[0m\u001b[0;34m\u001b[0m\u001b[0;34m\u001b[0m\u001b[0m\n\u001b[0m",
      "\u001b[0;31mNameError\u001b[0m: name 'apply_micro_structure_features' is not defined"
     ]
    }
   ],
   "source": [
    "micro_df_volume =apply_micro_structure_features(volume_bar_df)"
   ]
  },
  {
   "cell_type": "code",
   "execution_count": null,
   "metadata": {},
   "outputs": [],
   "source": []
  },
  {
   "cell_type": "code",
   "execution_count": null,
   "metadata": {},
   "outputs": [],
   "source": []
  }
 ],
 "metadata": {
  "kernelspec": {
   "display_name": "Python 3",
   "language": "python",
   "name": "python3"
  },
  "language_info": {
   "codemirror_mode": {
    "name": "ipython",
    "version": 3
   },
   "file_extension": ".py",
   "mimetype": "text/x-python",
   "name": "python",
   "nbconvert_exporter": "python",
   "pygments_lexer": "ipython3",
   "version": "3.6.13"
  }
 },
 "nbformat": 4,
 "nbformat_minor": 2
}
