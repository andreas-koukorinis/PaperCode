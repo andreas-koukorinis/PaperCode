{
 "cells": [
  {
   "cell_type": "code",
   "execution_count": 1,
   "metadata": {},
   "outputs": [
    {
     "name": "stderr",
     "output_type": "stream",
     "text": [
      "\n",
      "Bad key \"text.kerning_factor\" on line 4 in\n",
      "/home/ak/anaconda3/envs/mmd-kernels/lib/python3.7/site-packages/matplotlib/mpl-data/stylelib/_classic_test_patch.mplstyle.\n",
      "You probably need to get an updated matplotlibrc file from\n",
      "http://github.com/matplotlib/matplotlib/blob/master/matplotlibrc.template\n",
      "or from the matplotlib source distribution\n",
      "/home/ak/anaconda3/envs/mmd-kernels/lib/python3.7/site-packages/outdated/utils.py:18: OutdatedPackageWarning: The package pingouin is out of date. Your version is 0.4.0, the latest is 0.5.0.\n",
      "Set the environment variable OUTDATED_IGNORE=1 to disable these warnings.\n",
      "  **kwargs\n"
     ]
    }
   ],
   "source": [
    "import numpy as np\n",
    "import matplotlib.pyplot as plt\n",
    "import pandas as pd\n",
    "import numpy as np\n",
    "import os\n",
    "import lob_for_futures as lobFut\n",
    "from lob_for_futures import *\n",
    "import os\n",
    "import matplotlib.pyplot as plt\n",
    "\n",
    "from dateutil.parser import parse\n",
    "from pandas.tseries.offsets import BDay\n",
    "import pickle as pkl\n",
    "import fnmatch\n",
    "import pickle\n",
    "import datetime as dt\n",
    "from datetime import timedelta\n",
    "import glob\n",
    "import fathon\n",
    "from fathon import fathonUtils as fu\n",
    "import itertools\n",
    "import pyinform as pyinf\n",
    "import pingouin as pig\n",
    "from scipy.stats import entropy\n",
    "from scipy.spatial.distance import jensenshannon\n",
    "from scipy.special import kl_div\n",
    "import time\n",
    "import matplotlib.ticker as mtick\n",
    "dataFolder = lobFut.dataFolder\n",
    "quotes = [f for f in os.listdir(dataFolder) if str('_quotes') in f]\n",
    "trades = [f for f in os.listdir(dataFolder) if str('_trades') in f]\n",
    "\n",
    "# symbolIdx = 0\n",
    "\n",
    "symbols = [f.split(\"_\")[0] for f in quotes]\n",
    "\n",
    "trades_cols = ['size', 'time', 'type', 'value']\n",
    "experimentsDestination = '/media/ak/T7/MFDFA Experiments'\n",
    "plt.style.use(os.path.join('/home/ak/.config/matplotlib','latexstyle.mplstyle'))"
   ]
  },
  {
   "cell_type": "code",
   "execution_count": 2,
   "metadata": {},
   "outputs": [
    {
     "name": "stdout",
     "output_type": "stream",
     "text": [
      "(8388608, -1)\n",
      "3000\n"
     ]
    }
   ],
   "source": [
    "import pickle\n",
    "import resource\n",
    "import sys\n",
    "\n",
    "print (resource.getrlimit(resource.RLIMIT_STACK))\n",
    "print (sys.getrecursionlimit())\n",
    "\n",
    "max_rec = 0x100000\n",
    "\n",
    "# May segfault without this line. 0x100 is a guess at the size of each stack frame.\n",
    "resource.setrlimit(resource.RLIMIT_STACK, [0x100 * max_rec, resource.RLIM_INFINITY])\n",
    "sys.setrecursionlimit(max_rec)"
   ]
  },
  {
   "cell_type": "code",
   "execution_count": 3,
   "metadata": {},
   "outputs": [],
   "source": [
    "\n",
    "\n",
    "def open_pickle_file(path, pickle_file):\n",
    "    file_loc = os.path.join(path, pickle_file)\n",
    "    pickle_to_file = pkl.load(open(file_loc, \"rb\"))\n",
    "    return pickle_to_file"
   ]
  },
  {
   "cell_type": "code",
   "execution_count": 4,
   "metadata": {},
   "outputs": [
    {
     "data": {
      "text/plain": [
       "'/media/ak/T7/FuturesDataSemiProcessed/RX1'"
      ]
     },
     "execution_count": 4,
     "metadata": {},
     "output_type": "execute_result"
    }
   ],
   "source": [
    "informationClockFolder = '/media/ak/T7/FuturesDataSemiProcessed'\n",
    "symbolDataFolder  = os.path.join(informationClockFolder, symbols[4])\n",
    "symbolDataFolder"
   ]
  },
  {
   "cell_type": "code",
   "execution_count": 22,
   "metadata": {},
   "outputs": [],
   "source": [
    "files  = os.listdir(symbolDataFolder)\n",
    "returnsFiles = [f for f in files if str('Returns') in f]\n",
    "nonReturnFiles = [f for f in files if str('Returns') not in f]\n",
    "lob_dates = [f.split(\".\")[0] for f in nonReturnFiles]\n"
   ]
  },
  {
   "cell_type": "markdown",
   "metadata": {},
   "source": [
    "## LOB Files"
   ]
  },
  {
   "cell_type": "code",
   "execution_count": 9,
   "metadata": {},
   "outputs": [
    {
     "data": {
      "text/plain": [
       "['20180430']"
      ]
     },
     "execution_count": 9,
     "metadata": {},
     "output_type": "execute_result"
    }
   ],
   "source": [
    "unpickled_dict = open_pickle_file(symbolDataFolder, nonReturnFiles[1])\n",
    "date = list(unpickled_dict.keys())\n",
    "bar_dict = unpickled_dict[date[0]]\n",
    "date"
   ]
  },
  {
   "cell_type": "code",
   "execution_count": 14,
   "metadata": {},
   "outputs": [
    {
     "data": {
      "text/plain": [
       "array(['BidSize_open', 'BidSize_high', 'BidSize_low', 'BidSize_close',\n",
       "       'QuoteTime_open', 'QuoteTime_high', 'QuoteTime_low',\n",
       "       'QuoteTime_close', 'type_x_open', 'type_x_high', 'type_x_low',\n",
       "       'type_x_close', 'BestBid_open', 'BestBid_high', 'BestBid_low',\n",
       "       'BestBid_close', 'TradeTime_open', 'TradeTime_high',\n",
       "       'TradeTime_low', 'TradeTime_close', 'AskSize_open', 'AskSize_high',\n",
       "       'AskSize_low', 'AskSize_close', 'time_y_open', 'time_y_high',\n",
       "       'time_y_low', 'time_y_close', 'type_y_open', 'type_y_high',\n",
       "       'type_y_low', 'type_y_close', 'BestAsk_open', 'BestAsk_high',\n",
       "       'BestAsk_low', 'BestAsk_close', 'TradeSize_open', 'TradeSize_high',\n",
       "       'TradeSize_low', 'TradeSize_close', 'type_open', 'type_high',\n",
       "       'type_low', 'type_close', 'TradePrice_open', 'TradePrice_high',\n",
       "       'TradePrice_low', 'TradePrice_close', 'TimeStamp_open',\n",
       "       'TimeStamp_high', 'TimeStamp_low', 'TimeStamp_close',\n",
       "       'TradeVolume_open', 'TradeVolume_high', 'TradeVolume_low',\n",
       "       'TradeVolume_close', 'total_traded_volume_open',\n",
       "       'total_traded_volume_high', 'total_traded_volume_low',\n",
       "       'total_traded_volume_close', 'milliSeconds_open',\n",
       "       'milliSeconds_high', 'milliSeconds_low', 'milliSeconds_close',\n",
       "       'dollar_traded_volume_open', 'dollar_traded_volume_high',\n",
       "       'dollar_traded_volume_low', 'dollar_traded_volume_close',\n",
       "       'timeStampIdx_open', 'timeStampIdx_high', 'timeStampIdx_low',\n",
       "       'timeStampIdx_close', 'micro_price_open', 'micro_price_high',\n",
       "       'micro_price_low', 'micro_price_close'], dtype=object)"
      ]
     },
     "execution_count": 14,
     "metadata": {},
     "output_type": "execute_result"
    }
   ],
   "source": [
    "bar_dict['tick'].columns.values"
   ]
  },
  {
   "cell_type": "markdown",
   "metadata": {},
   "source": [
    "## returns file"
   ]
  },
  {
   "cell_type": "code",
   "execution_count": null,
   "metadata": {},
   "outputs": [],
   "source": []
  },
  {
   "cell_type": "code",
   "execution_count": null,
   "metadata": {},
   "outputs": [],
   "source": []
  }
 ],
 "metadata": {
  "kernelspec": {
   "display_name": "Python 3",
   "language": "python",
   "name": "python3"
  },
  "language_info": {
   "codemirror_mode": {
    "name": "ipython",
    "version": 3
   },
   "file_extension": ".py",
   "mimetype": "text/x-python",
   "name": "python",
   "nbconvert_exporter": "python",
   "pygments_lexer": "ipython3",
   "version": "3.7.7"
  }
 },
 "nbformat": 4,
 "nbformat_minor": 5
}
