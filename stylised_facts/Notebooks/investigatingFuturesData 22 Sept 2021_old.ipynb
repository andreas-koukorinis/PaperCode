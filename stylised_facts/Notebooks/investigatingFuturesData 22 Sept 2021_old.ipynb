{
 "cells": [
  {
   "cell_type": "code",
   "execution_count": 4,
   "metadata": {},
   "outputs": [],
   "source": [
    "import pandas as pd\n",
    "import numpy as np\n",
    "import pickle\n",
    "import os\n",
    "from sklearn.metrics.pairwise import rbf_kernel\n",
    "import pandas as pd\n",
    "import numpy as np\n",
    "\n",
    "import time\n",
    "from sklearn.metrics import accuracy_score, roc_auc_score\n",
    "from collections import defaultdict\n",
    "import matplotlib.pyplot as plt\n",
    "import seaborn as sb\n",
    "###\n",
    "\n",
    "# Plot settings\n",
    "%config InlineBackend.figure_format = 'svg'\n",
    "sb.set()\n",
    "from tqdm import tqdm\n",
    "\n",
    "import numpy as np\n",
    "\n",
    "import matplotlib as mpl\n",
    "from matplotlib import pyplot as plt\n",
    "from matplotlib import cm\n",
    "\n",
    "import sys\n",
    "sys.path.insert(0, '/directory/tothe/handshakefile/')\n",
    "\n",
    "import stylised_facts_data_utilities.createLOB as createLOB\n",
    "\n",
    "%matplotlib inline\n",
    "import os\n",
    "import scipy\n",
    "from scipy.stats import norm, ttest_ind\n",
    "\n",
    "pd.set_option('display.max_rows', 500)\n",
    "pd.set_option('display.max_columns', 500)\n",
    "pd.set_option('display.width', 1000)\n"
   ]
  },
  {
   "cell_type": "code",
   "execution_count": null,
   "metadata": {},
   "outputs": [],
   "source": [
    "import glob\n",
    "from statsmodels.tsa.seasonal import STL\n",
    "%matplotlib inline\n",
    "import fathon\n",
    "from fathon import fathonUtils as fu"
   ]
  },
  {
   "cell_type": "code",
   "execution_count": 5,
   "metadata": {},
   "outputs": [],
   "source": [
    "import logging\n",
    "\n",
    "\n",
    "def logger(name, level=logging.INFO):\n",
    "    tmp_logger = logging.getLogger(name)\n",
    "    if not tmp_logger.handlers:\n",
    "        formatter = logging.Formatter('%(asctime)s %(name)s  %(levelname)s %(message)s')\n",
    "        handler = logging.StreamHandler()\n",
    "        handler.setFormatter(formatter)\n",
    "\n",
    "        tmp_logger.setLevel(level)\n",
    "        tmp_logger.addHandler(handler)\n",
    "    return tmp_logger"
   ]
  },
  {
   "cell_type": "code",
   "execution_count": 6,
   "metadata": {},
   "outputs": [],
   "source": [
    "workDriveFolder = '/media/ak/WorkDrive/Data'\n",
    "laptopDataFolder  = '/media/ak/LaCie'\n",
    "\n",
    "figures_destination = '/home/ak/Documents/Research/Papers/figures/'\n",
    "dataFolder = laptopDataFolder"
   ]
  },
  {
   "cell_type": "code",
   "execution_count": 7,
   "metadata": {},
   "outputs": [],
   "source": [
    "quotes =[f for f in os.listdir(dataFolder) if str('_quotes') in f]\n",
    "trades =[f for f in os.listdir(dataFolder) if str('_trades') in f]"
   ]
  },
  {
   "cell_type": "code",
   "execution_count": 20,
   "metadata": {},
   "outputs": [],
   "source": [
    "symbols= [f.split(\"_\")[0] for f in quotes]"
   ]
  },
  {
   "cell_type": "code",
   "execution_count": 9,
   "metadata": {},
   "outputs": [],
   "source": [
    "def quantile_plot(x, **kwargs):\n",
    "    quantiles , xr = stats.probplot(x, fit= True)\n",
    "    plt.scatter(xr, quantiles, **kwargs)\n",
    "def returns(s):\n",
    "    arr = np.diff(np.log(s))\n",
    "    return (pd.Series(arr, index=s.index[1:]))\n",
    "import statsmodels.api as sm\n",
    "\n",
    "def plot_autocorr(bar_types,bar_returns):\n",
    "    f,axes=plt.subplots(len(bar_types),figsize=(20,14))\n",
    "\n",
    "    for i, (bar, typ) in enumerate(zip(bar_returns, bar_types)):\n",
    "        sm.graphics.tsa.plot_acf(bar, lags=120, ax=axes[i],\n",
    "                                 alpha=0.05, unbiased=True, fft=True,\n",
    "                                 zero=False,\n",
    "                                 title=f'{typ} AutoCorr')\n",
    "        \n",
    "    file_name = 'multiclocks_autocorrel.png'\n",
    "    plt.savefig(os.path.join(figures_destination,file_name))\n",
    "    plt.legend()\n",
    "    plt.tight_layout() "
   ]
  },
  {
   "cell_type": "code",
   "execution_count": 21,
   "metadata": {},
   "outputs": [],
   "source": [
    "class volatilityEstimation(object):\n",
    "    \n",
    "    def __init__(self, df, tick_window=20, clean=True):\n",
    "        self.df = df\n",
    "        self.tick_window = tick_window\n",
    "        self.mu_1 =  np.sqrt((2 / np.pi))\n",
    "        self.mu_43 = 2**(2 / 3) * scipy.special.gamma(7 / 6) ** scipy.special.gamma(1 / 2) ** (-1)\n",
    "        self.clean = True #set to true to remove nans at the beginning of the period\n",
    "        self.trading_seconds_btc = 86400\n",
    "        self.trading_seconds_futures = 23400\n",
    "                      \n",
    "        self.column_open ='micro_price_open'\n",
    "        self.column_high = 'micro_price_high'\n",
    "        self.column_low = 'micro_price_low'\n",
    "        self.column_close = 'micro_price_close'\n",
    "\n",
    "        self.log_hl = (df[str(self.column_high)] / df[str(self.column_low)]).apply(np.log)\n",
    "        self.log_co = (df[str(self.column_close)] / df[str(self.column_open)]).apply(np.log)\n",
    "        # median sampling frequency\n",
    "        \n",
    "        self.z = pd.DataFrame([((x.hour * 60 + x.minute) * 60 + x.second) for x in self.df['TimeStamp_open']]).diff().fillna(0).astype('float64')\n",
    "        self.clean_arrival_rates = np.asarray(self.z[(self.z>self.z.quantile(0.003)) & ( self.z < self.z.quantile(0.97) ) ].dropna()).astype('float64')\n",
    "        # clean arrival rates after i remove all the outliers\n",
    "        self.mean_sampling_frequency = np.mean(np.asarray(self.clean_arrival_rates))\n",
    "        \n",
    " \n",
    "    def arrival_rates(self):\n",
    "        \n",
    "        z = pd.DataFrame([((x.hour * 60 + x.minute) * 60 + x.second) for x in self.df['TimeStamp_open']]).diff().fillna(0).astype('float64')\n",
    "        clean_arrival_rates = np.asarray(z[(z>z.quantile(0.003)) & (z<z.quantile(0.97)) ].dropna()).astype('float64')\n",
    "                                         # clean arrival rates after i remove all the outliers\n",
    "        \n",
    "        return clean_arrival_rates\n",
    "        \n",
    "    \n",
    "    def M_parameter(self):\n",
    "        \"\"\"\n",
    "        normalised sampling frequency for adjustments\n",
    "        \"\"\"\n",
    "       \n",
    "        M_btc = self.trading_seconds_btc / self.mean_sampling_frequency\n",
    "        M_futures = self.trading_seconds_futures / self.mean_sampling_frequency        \n",
    "        \n",
    "        return [M_btc, M_futures]\n",
    "        \n",
    "    \n",
    "    def garmanKlass(self, trading_periods):\n",
    "        \n",
    "        rs = 0.5 * self.log_hl ** 2 - (2 * np.log(2) - 1) * self.log_co ** 2\n",
    "\n",
    "        def f(v):\n",
    "            return (trading_periods * v.mean()) ** 0.5\n",
    "\n",
    "        result = rs.rolling(window=self.tick_window, center=False).apply(func=f)\n",
    "\n",
    "        if  self.clean:\n",
    "            return result.dropna()\n",
    "        else:\n",
    "            return result\n",
    "    \n",
    "    def parkinson(self, trading_periods, clean = True):\n",
    "\n",
    "        rs = (1.0 / (4.0 * np.log(2.0))) *(self.df[str(self.column_high)] / self.df[str(self.column_close)]).apply(np.log) ** 2.0\n",
    "\n",
    "        def f(v):\n",
    "            return trading_periods * v.mean() ** 0.5\n",
    "\n",
    "        result = rs.rolling(window=self.tick_window, center=False).apply(func=f)\n",
    "\n",
    "        if self.clean:\n",
    "            return result.dropna()\n",
    "        else:\n",
    "            return result\n",
    "    \n",
    "    def bipower_variation(self, rollingWindow=5):\n",
    "        '''\n",
    "        Bipower Variation (BV) is the sum of the product of absolute time series returns\n",
    "        :param column: price column\n",
    "        :return: returns bivariate variation\n",
    "        Barnhorf - Nielse & Shephard 2004 & 2006\n",
    "        '''\n",
    "        bv = self.mu_1 ** (-2) * ((self.log_hl.abs() *self.log_hl.shift(1).abs()).fillna(0).rolling(rollingWindow).sum())\n",
    "        \n",
    "        if self.clean:\n",
    "            return bv.dropna()\n",
    "        else:\n",
    "            return bv\n",
    "\n",
    "    \n",
    "    def tripower_quarticity(self, rollingWindow=5, sampling_param = 0):\n",
    "        \"\"\"\n",
    "        using M for BTC here - change sampling param to 1 for everything else\n",
    "        \"\"\"\n",
    "        tpq = self.M_parameter()[sampling_param] * self.mu_43 ** (-3) * (( self.log_hl.abs()**(4 /3) * self.log_hl.shift(1).abs() **(4 / 3) * self.log_hl.shift(2).abs() **(4 / 3) ).rolling(rollingWindow).sum().fillna(0))\n",
    "        \n",
    "        if self.clean:\n",
    "            \n",
    "            return tpq.dropna()\n",
    "        else:\n",
    "            return tpq\n",
    "\n",
    "    \n",
    "    def realised_variance(self, rollingWindow=5):\n",
    "        \"\"\"\n",
    "        realised variance - andersen & bollerselv -1998\n",
    "        \"\"\"\n",
    "\n",
    "        realvar = (self.log_hl **2).rolling(rollingWindow).sum().fillna(0)\n",
    "        \n",
    "        if self.clean:\n",
    "            return realvar.dropna()\n",
    "        else:\n",
    "            return realvar\n",
    "    \n",
    "    def realised_absolute_variation(self, rollingWindow=5, sampling_param = 0):\n",
    "        \"\"\"\n",
    "        realised absolute variation - Forsberg & Ghysels 2007\n",
    "        using M for BTC here - change sampling param to 1 for everything else\n",
    "        \"\"\"\n",
    "        \n",
    "        realabsovar = self.mu_1 **(-2) *self.M_parameter[sampling_param] **(-0.5) * self.log_hl.rolling(rollingWindow).sum().fillna(0)\n",
    "        \n",
    "        return realabsovar\n",
    "    \n",
    "    def realised_skewness_kurtosis(self, rollingWindow = 15, sampling_param = 0):\n",
    "        \n",
    "        \"\"\"\n",
    "        set the rolling window to 10-15\n",
    "        sampling param for BTC ~ 0\n",
    "        \"\"\"\n",
    "        \n",
    "        rm3 = (self.log_hl **3).rolling(rollingWindow).sum().fillna(0)\n",
    "        rm4 = (self.log_hl **4).rolling(rollingWindow).sum().fillna(0)\n",
    "        \n",
    "        rs = np.sqrt(self.M_parameter()[sampling_param]) * (rm3 / self.realised_variance(rollingWindow = rollingWindow)) **(3/2)\n",
    "        rk = self.M_parameter()[sampling_param] * (rm4 / self.realised_variance(rollingWindow = rollingWindow)) ** 2\n",
    "        \n",
    "        return rs, rk\n",
    "    \n",
    "    def jumps_test(self, rollingWindow, sampling_param = 0):\n",
    "        \"\"\"\n",
    "        Jump test by Huang and Tauchen 2005\n",
    "        adopted by repo: RealisedQuantities\n",
    "        \"\"\"\n",
    "        \n",
    "        j1 = (np.log(self.realised_variance(rollingWindow= rollingWindow)) - np.log(self.bipower_variation(rollingWindow = rollingWindow))) \n",
    "        j2 = (((self.mu_1 **-4) +2* (self.mu_1 **-2) -5 ) / \n",
    "              (self.M_parameter()[0]*self.tripower_quarticity(rollingWindow = rollingWindow, sampling_param=sampling_param)\n",
    "                *(self.bipower_variation(rollingWindow = rollingWindow)**-2)))\n",
    "        \n",
    "        j = j1 / (j2 ** 0.5)          \n",
    "        \n",
    "        \n",
    "        return (j.abs() >= stats.norm.ppf(0.995))*1 # can also look at 0.999)*\n",
    "    \n",
    "    def relative_jump_measure(self, rollingWindow, sampling_param = 0):\n",
    "\n",
    "        nominator = (self.realised_variance(rollingWindow= rollingWindow) \n",
    "                     - self.bipower_variation(rollingWindow = rollingWindow))\n",
    "        \n",
    "        measure_to_return = nominator / self.bipower_variation(rollingWindow = rollingWindow)\n",
    "        \n",
    "        return measure_to_return\n",
    "\n",
    "        \n",
    "    \n",
    "\n",
    "    def negative_semivariance(self, x):\n",
    "        \"\"\"\n",
    "        input: returns\n",
    "        negative realised semivariance\n",
    "        Barndorff- Nielsen\n",
    "        \"\"\"\n",
    "        return x.apply(lambda x: (x**2))*(x<0).sum()\n",
    "\n",
    "    def positive_semivariance(self, x):\n",
    "        \"\"\"\n",
    "        input: returns\n",
    "        positive realised semivariance\n",
    "        Barndorff- Nielsen\n",
    "        \"\"\"\n",
    "        return x.apply(lambda x: (x**2))*(x>0).sum()\n",
    "    \n",
    "    def signed_jump_variation(self, x):\n",
    "        \n",
    "        sjv = self.positive_semivariance(x) -self.negative_semivariance(x)\n",
    "        sjv_p = sjv*(sjv>0)\n",
    "        sjv_n = sjv*(sjv<0)\n",
    "        \n",
    "        return sjv_p, sjv_n\n",
    "    \n",
    "    def continuous_discontinuous_quadratic_variance(self):\n",
    "        \n",
    "        \"\"\"\n",
    "        seperate continuous and discontinuous parts of quadratic variation\n",
    "        \n",
    "        \"\"\"\n",
    "        pass                                                                                                                                 \n",
    "\n",
    "\n",
    "\n",
    "\n",
    "class descriptiveStats(object):\n",
    "       \n",
    "        def __init__(self, df):\n",
    "        \n",
    "            self.df = df\n",
    "            self.column_open ='micro_price_open'\n",
    "            self.column_high = 'micro_price_high'\n",
    "            self.column_low = 'micro_price_low'\n",
    "            self.column_close = 'micro_price_close'\n",
    "            self.log_hl = (df[str(self.column_high)] / df[str(self.column_low)]).apply(np.log)\n",
    "            self.log_co = (df[str(self.column_close)] / df[str(self.column_open)]).apply(np.log)\n",
    "        \n",
    "        def base_descriptive_stats(self):\n",
    "\n",
    "            desc_stats =dict()\n",
    "            desc_stats['median_hl'] = np.median(self.log_hl)\n",
    "            desc_stats['mean_co'] = np.median(self.log_co)\n",
    "            desc_stats['quantile_95_hl'] = self.log_hl.quantile(0.95)\n",
    "            desc_stats['quantile_95_co'] = self.log_co.quantile(0.95)\n",
    "            desc_stats['q3_75_hl'] = self.log_hl.quantile(0.75)\n",
    "            desc_stats['q3_75_co'] = self.log_co.quantile(0.75)\n",
    "            desc_stats['q1_25_hl'] = self.log_hl.quantile(0.25)\n",
    "            desc_stats['q1_25_co'] = self.log_co.quantile(0.25)\n",
    "            desc_stats['outlier_lower_limit_hl'] = desc_stats['q1_25_hl'] - 1.5*(desc_stats['q3_75_hl'] - desc_stats['q1_25_hl'])\n",
    "            desc_stats['outlier_upper_limit_hl'] = desc_stats['q3_75_hl'] + 1.5*(desc_stats['q3_75_hl'] - desc_stats['q1_25_hl'])\n",
    "            desc_stats['lower_limit_outliers'] = self.log_hl[self.log_hl > desc_stats['outlier_lower_limit_hl']].count()\n",
    "            desc_stats['upper_limit_outliers'] = self.log_hl[self.log_hl > desc_stats['outlier_upper_limit_hl']].count()\n",
    "            desc_stats['total_outliers'] = desc_stats['lower_limit_outliers'] + desc_stats['upper_limit_outliers']\n",
    "            \n",
    "            return desc_stats\n",
    "\n",
    "        \n",
    "        \n"
   ]
  },
  {
   "cell_type": "code",
   "execution_count": 22,
   "metadata": {},
   "outputs": [],
   "source": [
    "\n",
    "class DataLoader:\n",
    "    \"\"\"\n",
    "    loads data and constructs full LOB and calendar bars for each one\n",
    "    \"\"\"\n",
    "    def __init__(self, data_location, \n",
    "                 symbol,\n",
    "                 dates, \n",
    "                 use_columns, \n",
    "                 calendar_resample,\n",
    "                 trade_volume_width, \n",
    "                 ticks_width, \n",
    "                 usd_volume_width):\n",
    "        \n",
    "        self._data_location = data_location\n",
    "        self._symbol= symbol\n",
    "        self._input_dates = dates\n",
    "        self._use_columns = use_columns\n",
    "        self._calendar_resample = calendar_resample\n",
    "        self._ticks_width = ticks_width\n",
    "        self._trade_volume_width = trade_volume_width\n",
    "        self._usd_volume_width = usd_volume_width\n",
    "        self._dates = []\n",
    "        self._bars_dict = {}\n",
    "        self.calendar_bars = []\n",
    "        self.volume_bars = []\n",
    "        self.tick_bars = []\n",
    "        self.usd_volume_bars = []\n",
    "        self._logger = logger('DataLoader')\n",
    "#         self._symbols = sorted(['VIX',  'FB1',  'TU1',  'G_1',  'RX1',  'OE1',  'TY1',  'FV1',  'JB1',  'RX1',  'DU1',  'KE1',  'US1',  'YM1', 'XM1',  'VXX'] )\n",
    "        self._data_folder = data_location\n",
    "        \n",
    "        self._quotes_string = \"\".join((self._symbol, '_Comdty_quotes' ))\n",
    "        self._trades_string = \"\".join((self._symbol, '_Comdty_trades' ))\n",
    "        \n",
    "#         self._quotes_files =sorted([ f for f in os.listdir(self._data_folder) if str('_quotes') in f])\n",
    "#         self._trades_files = sorted([f for f in os.listdir(self._data_folder) if str('_trades') in f])\n",
    "        \n",
    "        self._quotes_Files = os.path.join(self._data_folder, self._quotes_string)\n",
    "        self._trades_Files = os.path.join(self._data_folder, self._trades_string)\n",
    "    \n",
    "    def load_and_format_data(self):\n",
    "        mergedFile = dict()\n",
    "        for date in self._input_dates:\n",
    "            dateToLoad = os.path.join(date + '.csv')\n",
    "            self._logger.info(f\"Loading data for:{date}\")\n",
    "            \n",
    "            quotesDateFile = os.path.join(self._quotes_Files, dateToLoad)\n",
    "            print(quotesDateFile)\n",
    "            tradesDateFile = os.path.join(self._trades_Files, dateToLoad)\n",
    "            print(tradesDateFile)\n",
    "            \n",
    "            try:\n",
    "                qt_tmp_df = pd.read_csv(quotesDateFile, usecols=self._use_columns)\n",
    "                qt_tmp_df['TradeTime'] = pd.to_datetime(qt_tmp_df.time).values\n",
    "                              \n",
    "                quotes_df =pd.merge_asof(qt_tmp_df[qt_tmp_df['type'] =='BID'].dropna().fillna(\"ffill\").sort_values('TradeTime')\n",
    "                                         , qt_tmp_df[qt_tmp_df['type'] =='ASK'].dropna().fillna(\"ffill\").sort_values('TradeTime'), \n",
    "                                         on='TradeTime', allow_exact_matches=True)\n",
    "                \n",
    "                quotes_df = quotes_df.rename( columns={'value_x': 'BestBid', 'value_y': 'BestAsk',\n",
    "                 'size_x': 'BidSize', 'size_y': 'AskSize', 'time_x': 'QuoteTime' })\n",
    "                              \n",
    "                tr_tmp_df = pd.read_csv(tradesDateFile, usecols=self._use_columns)\n",
    "                tr_tmp_df['TradeTime'] = pd.to_datetime(tr_tmp_df.time).values\n",
    "                trades_df= tr_tmp_df.dropna().fillna(\"ffill\").sort_values('TradeTime')\n",
    "                trades_df = trades_df.rename( columns={'value': 'TradePrice', \n",
    "                                                       'size': 'TradeSize'})\n",
    "                trades_columns = ['TradeSize', 'type','TradePrice','TradeTime']\n",
    "                \n",
    "                LOB =pd.merge_asof(quotes_df, trades_df[trades_columns].sort_values('TradeTime'), on='TradeTime', allow_exact_matches=True)\n",
    "                \n",
    "                LOB.BidSize = LOB['BidSize'].replace(0, 1)\n",
    "                LOB.AskSize = LOB['AskSize'].replace(0, 1)\n",
    "                LOB['TimeStamp'] = pd.to_datetime(LOB.TradeTime).dt.time\n",
    "                LOB['TradeVolume'] = LOB['TradeSize'].fillna(0)\n",
    "                LOB['total_traded_volume'] = LOB.TradeVolume\n",
    "                LOB['milliSeconds'] = [(((x.hour * 60 + x.minute) * 60 + x.second) * 1000) for x in LOB['TimeStamp']]\n",
    "                LOB['dollar_traded_volume'] = pd.Series(LOB.TradePrice * LOB.TradeVolume).fillna(0)\n",
    "                LOB['timeStampIdx'] = pd.DatetimeIndex(LOB.time_y)\n",
    "                LOB['micro_price'] = (LOB.BestAsk * LOB.AskSize + LOB.BestBid * LOB.BidSize) / (LOB.AskSize + LOB.BidSize)  #\n",
    "                \n",
    "                mergedFile[date] = LOB\n",
    "                \n",
    "            except FileNotFoundError:\n",
    "                self._logger.info(f\"Data for day {date} does not exist. Skipping this day\")\n",
    "        return mergedFile\n",
    "    \n",
    "    def apply_micro_structure_features(self, df):\n",
    "        \n",
    "        self._logger.info(\"Applying micro-structure features\")\n",
    "        \n",
    "     \n",
    "        df['weighted_average_bid_price'] = pd.DataFrame(df.filter(like='bid_price', axis=1).values).mul(\n",
    "        pd.DataFrame(df.filter(like='bid_size', axis=1).values)).sum(axis=1) / pd.DataFrame(df.filter(like='bid_size', axis=1).values).sum(axis=1)\n",
    "        \n",
    "        df['weighted_average_ask_price'] = pd.DataFrame(df.filter(like='ask_price', axis=1).values).mul(\n",
    "            pd.DataFrame(df.filter(like='ask_size', axis=1).values)).sum(\n",
    "            axis=1) / pd.DataFrame(df.filter(like='ask_size', axis=1).values).sum(axis=1)\n",
    "        df['weighted_activity_spread'] = df['weighted_average_ask_price'] - df['weighted_average_bid_price']\n",
    "        df['total_size'] = (pd.DataFrame(df.filter(like='ask_size', axis=1).values).sum(axis=1) +\n",
    "                            pd.DataFrame(df.filter(like='bid_size', axis=1).values).sum(axis=1))\n",
    "        df['micro_price'] = ((pd.DataFrame(df.filter(like='bid_price', axis=1).values).mul(\n",
    "            pd.DataFrame(df.filter(like='bid_size', axis=1).values)).sum(axis=1) +\n",
    "                              pd.DataFrame(df.filter(like='ask_price', axis=1).values).mul(\n",
    "                                  pd.DataFrame(df.filter(like='ask_size', axis=1).values)).sum(axis=1))) / df['total_size']\n",
    "        df['price_imbalance'] = ((pd.DataFrame(df.filter(like='ask_price', axis=1).values).mul(\n",
    "            pd.DataFrame(df.filter(like='ask_size', axis=1).values)).sum(axis=1) -\n",
    "                                  pd.DataFrame(df.filter(like='bid_price', axis=1).values).mul(\n",
    "                                      pd.DataFrame(df.filter(like='bid_size', axis=1).values)).sum(axis=1))) / df[\n",
    "                                    'total_size']\n",
    "        df['pct_change_micro_price'] = df.micro_price_close.pct_change()\n",
    "        df['simple_mid_price'] = 0.5 * (pd.DataFrame(df.filter(like='ask_price', axis=1)).mean(axis=1) +\n",
    "                                        pd.DataFrame(df.filter(like='bid_price', axis=1)).mean(axis=1))\n",
    "\n",
    "        # TODO: do we want to be using pct_change here or log returns?\n",
    "        return df\n",
    "\n",
    "    @staticmethod\n",
    "    def prep_bars(df, drop_col):\n",
    "        df.columns = [f\"{i[0]}_{j}\" for i, j in zip(df.columns, ['open', 'high', 'low', 'close'] * len(df.columns))]\n",
    "        if drop_col:\n",
    "            df.drop([f\"{drop_col}_{i}\" for i in ['open', 'high', 'low', 'close']], axis=1, inplace=True)\n",
    "        return df\n",
    "\n",
    "    \n",
    "    def drop_lob_columns(df):\n",
    "        #not using this anywhere at the moment\n",
    "        \n",
    "        ask_price_columns_to_be_dropped = list(pd.DataFrame(df.filter(like='ask_price_', axis=1)).columns.values)\n",
    "        ask_size_columns_to_be_dropped = list(pd.DataFrame(df.filter(like='ask_size_', axis=1)).columns.values)\n",
    "        bid_size_columns_to_be_dropped = list(pd.DataFrame(df.filter(like='bid_size_', axis=1)).columns.values)\n",
    "        bid_price_columns_to_be_dropped = list(pd.DataFrame(df.filter(like='bid_price_', axis=1)).columns.values)\n",
    "        time_stamps = ['timestamp', 'timestamp.1', 'exchange_time', 'feed_time']\n",
    "        columns_to_be_dropped = ask_price_columns_to_be_dropped + ask_size_columns_to_be_dropped + \\\n",
    "                                bid_size_columns_to_be_dropped + bid_price_columns_to_be_dropped + \\\n",
    "                                time_stamps\n",
    "        df = df.drop(columns=columns_to_be_dropped)\n",
    "\n",
    "        return df\n",
    "    \n",
    "    def get_bars(self, df):\n",
    "        \n",
    "        self._logger.info('Calculating calendar clock')\n",
    "        calendar_bars = df.resample(rule=self._calendar_resample, on='timeStampIdx').agg(['first', 'max', 'min', 'last'])\n",
    "        calendar_bars = self.prep_bars(calendar_bars, 'timeStampIdx')\n",
    "\n",
    "        self._logger.info('Calculating volume clock')\n",
    "        # TODO: Doing this on day-by-day basis. We lose the last turn of the clock each day\n",
    "        df['cum_total_trade_volume'] = df.total_traded_volume.cumsum()\n",
    "        df['volume_bucket'] = np.floor(df.cum_total_trade_volume / self._trade_volume_width)\n",
    "        volume_bars = df.groupby(by='volume_bucket').agg(['first', 'max', 'min', 'last']).iloc[1:-1]\n",
    "        volume_bars = self.prep_bars(volume_bars, 'cum_total_trade_volume')\n",
    "        df.drop(['cum_total_trade_volume', 'volume_bucket'], axis=1, inplace=True)\n",
    "\n",
    "        self._logger.info('Calculating tick clock')\n",
    "        # TODO: ticks here means any change to the order book. Not necessarily a trade. Can add that clock too\n",
    "        df['tick_count'] = range(len(df))\n",
    "        df['tick_bucket'] = np.floor(df.tick_count / self._ticks_width)\n",
    "        tick_bars = df.groupby(by='tick_bucket').agg(['first', 'max', 'min', 'last']).iloc[1:-1]\n",
    "        tick_bars = self.prep_bars(tick_bars, 'tick_count')\n",
    "        df.drop(['tick_count', 'tick_bucket'], axis=1, inplace=True)\n",
    "\n",
    "        self._logger.info('Calculating usd volume clock')\n",
    "        df['cum_usd_volume'] = df.dollar_traded_volume.cumsum()\n",
    "        df['usd_volume_bucket'] = np.floor(df.cum_usd_volume / self._usd_volume_width)\n",
    "        usd_volume_bars = df.groupby(by='usd_volume_bucket').agg(['first', 'max', 'min', 'last']).iloc[1:-1]\n",
    "        usd_volume_bars = self.prep_bars(usd_volume_bars, 'cum_usd_volume')\n",
    "        df.drop(['cum_usd_volume', 'usd_volume_bucket'], axis=1, inplace=True)\n",
    "\n",
    "        self.calendar_bars.append(calendar_bars)\n",
    "        self.volume_bars.append(volume_bars)\n",
    "        self.tick_bars.append(tick_bars)\n",
    "        self.usd_volume_bars.append(usd_volume_bars)\n",
    "\n",
    "        self._bars_dict['calendar_bars'] = self.calendar_bars\n",
    "        self._bars_dict['volume_bars'] = self.volume_bars\n",
    "        self._bars_dict['tick_bars'] = self.tick_bars\n",
    "        self._bars_dict['usd_volume_bars'] = self.usd_volume_bars\n",
    "    \n",
    "    def get_all_dates_bars(self, input_dict):\n",
    "        output_dict = {}\n",
    "        for input_date in self._input_dates:\n",
    "            output_dict[input_date] = self.get_bars(input_dict[input_date])\n",
    "        \n",
    "        return output_dict           \n",
    "                \n",
    "    @staticmethod\n",
    "    def get_concat_data(input_dict):\n",
    "        concat_dict = dict()\n",
    "        for bar in input_dict.keys():\n",
    "            \n",
    "            concat_dict[bar] = pd.concat([input_dict[bar][i] \n",
    "                                                            for i in range(len(input_dict[bar]))], ignore_index=False)\n",
    "        return concat_dict\n",
    "\n",
    "    \n",
    "\n",
    "    \n",
    "        \n",
    "    \n"
   ]
  },
  {
   "cell_type": "code",
   "execution_count": 23,
   "metadata": {},
   "outputs": [],
   "source": [
    "def quantile_plot(x, **kwargs):\n",
    "    quantiles , xr = stats.probplot(x, fit= True)\n",
    "    plt.scatter(xr, quantiles, **kwargs)\n",
    "def returns(s):\n",
    "    arr = np.diff(np.log(s))\n",
    "    return (pd.Series(arr, index=s.index[1:]))\n",
    "import statsmodels.api as sm\n",
    "\n",
    "def plot_autocorr(bar_types,bar_returns):\n",
    "    f,axes=plt.subplots(len(bar_types),figsize=(20,14))\n",
    "\n",
    "    for i, (bar, typ) in enumerate(zip(bar_returns, bar_types)):\n",
    "        sm.graphics.tsa.plot_acf(bar, lags=120, ax=axes[i],\n",
    "                                 alpha=0.05, unbiased=True, fft=True,\n",
    "                                 zero=False,\n",
    "                                 title=f'{typ} AutoCorr')\n",
    "        \n",
    "    file_name = 'multiclocks_autocorrel.png'\n",
    "    plt.savefig(os.path.join(figures_destination,file_name))\n",
    "    plt.legend()\n",
    "    plt.tight_layout()   \n",
    "    \n",
    "def plot_hist(bar_types,bar_rets):\n",
    "    \n",
    "    f,axes=plt.subplots(len(bar_types),figsize=(20,12))\n",
    "    for i, (bar, typ) in enumerate(zip(bar_returns, bar_types)):\n",
    "        g = sns.distplot(bar, ax=axes[i], kde=False, label=typ)\n",
    "        g.set(yscale='log')\n",
    "        axes[i].legend()\n",
    "    file_name = 'multiclocks_histogram.png'\n",
    "    plt.savefig(os.path.join(figures_destination,file_name))\n",
    "    plt.legend()\n",
    "    plt.tight_layout()  "
   ]
  },
  {
   "cell_type": "code",
   "execution_count": 31,
   "metadata": {},
   "outputs": [
    {
     "name": "stdout",
     "output_type": "stream",
     "text": [
      "XM1\n"
     ]
    },
    {
     "data": {
      "text/plain": [
       "['YM1_Comdty_quotes',\n",
       " 'VXX_US_Equity_quotes',\n",
       " 'XM1_Comdty_quotes',\n",
       " 'TY1_Comdty_quotes',\n",
       " 'US1_Comdty_quotes']"
      ]
     },
     "execution_count": 31,
     "metadata": {},
     "output_type": "execute_result"
    }
   ],
   "source": [
    "symbolIdx = 3\n",
    "symbol = sorted(symbols)[symbolIdx]\n",
    "print(symbol)\n",
    "quotesFileCh = os.path.join(dataFolder, sorted(quotes)[symbolIdx])\n",
    "tradesFileCh = os.path.join(dataFolder, sorted(trades)[symbolIdx])\n",
    "quotes"
   ]
  },
  {
   "cell_type": "code",
   "execution_count": 32,
   "metadata": {},
   "outputs": [
    {
     "data": {
      "text/plain": [
       "['20180416', '20180417', '20180418', '20180419', '20180420']"
      ]
     },
     "execution_count": 32,
     "metadata": {},
     "output_type": "execute_result"
    }
   ],
   "source": [
    "\n",
    "\n",
    "## get common Dates\n",
    "quotesDates = sorted([f.split(\".csv\")[0] for f in os.listdir(quotesFileCh)])\n",
    "tradesDates = sorted([f.split(\".csv\")[0] for f in os.listdir(tradesFileCh)])\n",
    "intersectionDates = list(set(quotesDates).intersection(tradesDates))\n",
    "quotesDates[0:5]"
   ]
  },
  {
   "cell_type": "code",
   "execution_count": 33,
   "metadata": {},
   "outputs": [],
   "source": [
    "trades_cols =['size', 'time', 'type', 'value']\n",
    "\n",
    "calendar_resample = \"300S\"\n",
    "trade_volume_width=100 \n",
    "ticks_width =100\n",
    "usd_volume_width=100\n",
    "dates_choice = quotesDates[0:20]\n",
    "\n",
    "testClass = DataLoader(data_location=dataFolder, \n",
    "           symbol=symbol, \n",
    "           dates=dates_choice,                        \n",
    "           use_columns=trades_cols, \n",
    "           calendar_resample = \"300S\",\n",
    "           trade_volume_width=trade_volume_width, \n",
    "           ticks_width =ticks_width, \n",
    "           usd_volume_width=usd_volume_width)"
   ]
  },
  {
   "cell_type": "code",
   "execution_count": 34,
   "metadata": {},
   "outputs": [],
   "source": [
    "hash_of_file =  \"_\".join((str(symbol), \"volume_width\",str(trade_volume_width), \"calendar_resample\", str(calendar_resample)))"
   ]
  },
  {
   "cell_type": "code",
   "execution_count": 35,
   "metadata": {},
   "outputs": [
    {
     "name": "stderr",
     "output_type": "stream",
     "text": [
      "2021-09-22 16:39:39,798 DataLoader  INFO Loading data for:20180416\n"
     ]
    },
    {
     "name": "stdout",
     "output_type": "stream",
     "text": [
      "/media/ak/LaCie/XM1_Comdty_quotes/20180416.csv\n",
      "/media/ak/LaCie/XM1_Comdty_trades/20180416.csv\n"
     ]
    },
    {
     "name": "stderr",
     "output_type": "stream",
     "text": [
      "2021-09-22 16:39:40,456 DataLoader  INFO Loading data for:20180417\n"
     ]
    },
    {
     "name": "stdout",
     "output_type": "stream",
     "text": [
      "/media/ak/LaCie/XM1_Comdty_quotes/20180417.csv\n",
      "/media/ak/LaCie/XM1_Comdty_trades/20180417.csv\n"
     ]
    },
    {
     "name": "stderr",
     "output_type": "stream",
     "text": [
      "2021-09-22 16:39:40,974 DataLoader  INFO Loading data for:20180418\n"
     ]
    },
    {
     "name": "stdout",
     "output_type": "stream",
     "text": [
      "/media/ak/LaCie/XM1_Comdty_quotes/20180418.csv\n",
      "/media/ak/LaCie/XM1_Comdty_trades/20180418.csv\n"
     ]
    },
    {
     "name": "stderr",
     "output_type": "stream",
     "text": [
      "2021-09-22 16:39:41,421 DataLoader  INFO Loading data for:20180419\n"
     ]
    },
    {
     "name": "stdout",
     "output_type": "stream",
     "text": [
      "/media/ak/LaCie/XM1_Comdty_quotes/20180419.csv\n",
      "/media/ak/LaCie/XM1_Comdty_trades/20180419.csv\n"
     ]
    },
    {
     "name": "stderr",
     "output_type": "stream",
     "text": [
      "2021-09-22 16:39:41,870 DataLoader  INFO Loading data for:20180420\n"
     ]
    },
    {
     "name": "stdout",
     "output_type": "stream",
     "text": [
      "/media/ak/LaCie/XM1_Comdty_quotes/20180420.csv\n",
      "/media/ak/LaCie/XM1_Comdty_trades/20180420.csv\n"
     ]
    },
    {
     "name": "stderr",
     "output_type": "stream",
     "text": [
      "2021-09-22 16:39:42,312 DataLoader  INFO Loading data for:20180423\n"
     ]
    },
    {
     "name": "stdout",
     "output_type": "stream",
     "text": [
      "/media/ak/LaCie/XM1_Comdty_quotes/20180423.csv\n",
      "/media/ak/LaCie/XM1_Comdty_trades/20180423.csv\n"
     ]
    },
    {
     "name": "stderr",
     "output_type": "stream",
     "text": [
      "2021-09-22 16:39:42,694 DataLoader  INFO Loading data for:20180424\n"
     ]
    },
    {
     "name": "stdout",
     "output_type": "stream",
     "text": [
      "/media/ak/LaCie/XM1_Comdty_quotes/20180424.csv\n",
      "/media/ak/LaCie/XM1_Comdty_trades/20180424.csv\n"
     ]
    },
    {
     "name": "stderr",
     "output_type": "stream",
     "text": [
      "2021-09-22 16:39:43,073 DataLoader  INFO Loading data for:20180425\n"
     ]
    },
    {
     "name": "stdout",
     "output_type": "stream",
     "text": [
      "/media/ak/LaCie/XM1_Comdty_quotes/20180425.csv\n",
      "/media/ak/LaCie/XM1_Comdty_trades/20180425.csv\n"
     ]
    },
    {
     "name": "stderr",
     "output_type": "stream",
     "text": [
      "2021-09-22 16:39:43,479 DataLoader  INFO Loading data for:20180426\n"
     ]
    },
    {
     "name": "stdout",
     "output_type": "stream",
     "text": [
      "/media/ak/LaCie/XM1_Comdty_quotes/20180426.csv\n",
      "/media/ak/LaCie/XM1_Comdty_trades/20180426.csv\n"
     ]
    },
    {
     "name": "stderr",
     "output_type": "stream",
     "text": [
      "2021-09-22 16:39:43,851 DataLoader  INFO Loading data for:20180427\n"
     ]
    },
    {
     "name": "stdout",
     "output_type": "stream",
     "text": [
      "/media/ak/LaCie/XM1_Comdty_quotes/20180427.csv\n",
      "/media/ak/LaCie/XM1_Comdty_trades/20180427.csv\n"
     ]
    },
    {
     "name": "stderr",
     "output_type": "stream",
     "text": [
      "2021-09-22 16:39:44,173 DataLoader  INFO Loading data for:20180430\n"
     ]
    },
    {
     "name": "stdout",
     "output_type": "stream",
     "text": [
      "/media/ak/LaCie/XM1_Comdty_quotes/20180430.csv\n",
      "/media/ak/LaCie/XM1_Comdty_trades/20180430.csv\n"
     ]
    },
    {
     "name": "stderr",
     "output_type": "stream",
     "text": [
      "2021-09-22 16:39:44,563 DataLoader  INFO Loading data for:20180501\n"
     ]
    },
    {
     "name": "stdout",
     "output_type": "stream",
     "text": [
      "/media/ak/LaCie/XM1_Comdty_quotes/20180501.csv\n",
      "/media/ak/LaCie/XM1_Comdty_trades/20180501.csv\n"
     ]
    },
    {
     "name": "stderr",
     "output_type": "stream",
     "text": [
      "2021-09-22 16:39:44,820 DataLoader  INFO Loading data for:20180502\n"
     ]
    },
    {
     "name": "stdout",
     "output_type": "stream",
     "text": [
      "/media/ak/LaCie/XM1_Comdty_quotes/20180502.csv\n",
      "/media/ak/LaCie/XM1_Comdty_trades/20180502.csv\n"
     ]
    },
    {
     "name": "stderr",
     "output_type": "stream",
     "text": [
      "2021-09-22 16:39:45,252 DataLoader  INFO Loading data for:20180503\n"
     ]
    },
    {
     "name": "stdout",
     "output_type": "stream",
     "text": [
      "/media/ak/LaCie/XM1_Comdty_quotes/20180503.csv\n",
      "/media/ak/LaCie/XM1_Comdty_trades/20180503.csv\n"
     ]
    },
    {
     "name": "stderr",
     "output_type": "stream",
     "text": [
      "2021-09-22 16:39:45,605 DataLoader  INFO Loading data for:20180504\n"
     ]
    },
    {
     "name": "stdout",
     "output_type": "stream",
     "text": [
      "/media/ak/LaCie/XM1_Comdty_quotes/20180504.csv\n",
      "/media/ak/LaCie/XM1_Comdty_trades/20180504.csv\n"
     ]
    },
    {
     "name": "stderr",
     "output_type": "stream",
     "text": [
      "2021-09-22 16:39:46,081 DataLoader  INFO Loading data for:20180507\n"
     ]
    },
    {
     "name": "stdout",
     "output_type": "stream",
     "text": [
      "/media/ak/LaCie/XM1_Comdty_quotes/20180507.csv\n",
      "/media/ak/LaCie/XM1_Comdty_trades/20180507.csv\n"
     ]
    },
    {
     "name": "stderr",
     "output_type": "stream",
     "text": [
      "2021-09-22 16:39:46,301 DataLoader  INFO Loading data for:20180508\n"
     ]
    },
    {
     "name": "stdout",
     "output_type": "stream",
     "text": [
      "/media/ak/LaCie/XM1_Comdty_quotes/20180508.csv\n",
      "/media/ak/LaCie/XM1_Comdty_trades/20180508.csv\n"
     ]
    },
    {
     "name": "stderr",
     "output_type": "stream",
     "text": [
      "2021-09-22 16:39:46,705 DataLoader  INFO Loading data for:20180509\n"
     ]
    },
    {
     "name": "stdout",
     "output_type": "stream",
     "text": [
      "/media/ak/LaCie/XM1_Comdty_quotes/20180509.csv\n",
      "/media/ak/LaCie/XM1_Comdty_trades/20180509.csv\n"
     ]
    },
    {
     "name": "stderr",
     "output_type": "stream",
     "text": [
      "2021-09-22 16:39:47,060 DataLoader  INFO Loading data for:20180510\n"
     ]
    },
    {
     "name": "stdout",
     "output_type": "stream",
     "text": [
      "/media/ak/LaCie/XM1_Comdty_quotes/20180510.csv\n",
      "/media/ak/LaCie/XM1_Comdty_trades/20180510.csv\n"
     ]
    },
    {
     "name": "stderr",
     "output_type": "stream",
     "text": [
      "2021-09-22 16:39:47,485 DataLoader  INFO Loading data for:20180511\n"
     ]
    },
    {
     "name": "stdout",
     "output_type": "stream",
     "text": [
      "/media/ak/LaCie/XM1_Comdty_quotes/20180511.csv\n",
      "/media/ak/LaCie/XM1_Comdty_trades/20180511.csv\n"
     ]
    }
   ],
   "source": [
    "## load data ##\n",
    "input_dict = testClass.load_and_format_data() "
   ]
  },
  {
   "cell_type": "code",
   "execution_count": 36,
   "metadata": {},
   "outputs": [
    {
     "name": "stderr",
     "output_type": "stream",
     "text": [
      "2021-09-22 16:45:07,016 DataLoader  INFO Calculating calendar clock\n",
      "2021-09-22 16:45:07,651 DataLoader  INFO Calculating volume clock\n",
      "2021-09-22 16:45:10,566 DataLoader  INFO Calculating tick clock\n",
      "2021-09-22 16:45:11,121 DataLoader  INFO Calculating usd volume clock\n"
     ]
    }
   ],
   "source": [
    "dates = list(input_dict.keys())\n",
    "allBarsDict = testClass.get_bars(input_dict[dates[1]])"
   ]
  },
  {
   "cell_type": "code",
   "execution_count": 37,
   "metadata": {},
   "outputs": [
    {
     "name": "stderr",
     "output_type": "stream",
     "text": [
      "2021-09-22 16:48:03,994 DataLoader  INFO Loading data for:20180416\n"
     ]
    },
    {
     "name": "stdout",
     "output_type": "stream",
     "text": [
      "/media/ak/LaCie/XM1_Comdty_quotes/20180416.csv\n",
      "/media/ak/LaCie/XM1_Comdty_trades/20180416.csv\n"
     ]
    },
    {
     "name": "stderr",
     "output_type": "stream",
     "text": [
      "2021-09-22 16:48:04,317 DataLoader  INFO Loading data for:20180417\n"
     ]
    },
    {
     "name": "stdout",
     "output_type": "stream",
     "text": [
      "/media/ak/LaCie/XM1_Comdty_quotes/20180417.csv\n",
      "/media/ak/LaCie/XM1_Comdty_trades/20180417.csv\n"
     ]
    },
    {
     "name": "stderr",
     "output_type": "stream",
     "text": [
      "2021-09-22 16:48:04,643 DataLoader  INFO Loading data for:20180418\n"
     ]
    },
    {
     "name": "stdout",
     "output_type": "stream",
     "text": [
      "/media/ak/LaCie/XM1_Comdty_quotes/20180418.csv\n",
      "/media/ak/LaCie/XM1_Comdty_trades/20180418.csv\n"
     ]
    },
    {
     "name": "stderr",
     "output_type": "stream",
     "text": [
      "2021-09-22 16:48:04,939 DataLoader  INFO Loading data for:20180419\n"
     ]
    },
    {
     "name": "stdout",
     "output_type": "stream",
     "text": [
      "/media/ak/LaCie/XM1_Comdty_quotes/20180419.csv\n",
      "/media/ak/LaCie/XM1_Comdty_trades/20180419.csv\n"
     ]
    },
    {
     "name": "stderr",
     "output_type": "stream",
     "text": [
      "2021-09-22 16:48:05,315 DataLoader  INFO Loading data for:20180420\n"
     ]
    },
    {
     "name": "stdout",
     "output_type": "stream",
     "text": [
      "/media/ak/LaCie/XM1_Comdty_quotes/20180420.csv\n",
      "/media/ak/LaCie/XM1_Comdty_trades/20180420.csv\n"
     ]
    },
    {
     "name": "stderr",
     "output_type": "stream",
     "text": [
      "2021-09-22 16:48:05,705 DataLoader  INFO Loading data for:20180423\n"
     ]
    },
    {
     "name": "stdout",
     "output_type": "stream",
     "text": [
      "/media/ak/LaCie/XM1_Comdty_quotes/20180423.csv\n",
      "/media/ak/LaCie/XM1_Comdty_trades/20180423.csv\n"
     ]
    },
    {
     "name": "stderr",
     "output_type": "stream",
     "text": [
      "2021-09-22 16:48:06,018 DataLoader  INFO Loading data for:20180424\n"
     ]
    },
    {
     "name": "stdout",
     "output_type": "stream",
     "text": [
      "/media/ak/LaCie/XM1_Comdty_quotes/20180424.csv\n",
      "/media/ak/LaCie/XM1_Comdty_trades/20180424.csv\n"
     ]
    },
    {
     "name": "stderr",
     "output_type": "stream",
     "text": [
      "2021-09-22 16:48:06,278 DataLoader  INFO Loading data for:20180425\n"
     ]
    },
    {
     "name": "stdout",
     "output_type": "stream",
     "text": [
      "/media/ak/LaCie/XM1_Comdty_quotes/20180425.csv\n",
      "/media/ak/LaCie/XM1_Comdty_trades/20180425.csv\n"
     ]
    },
    {
     "name": "stderr",
     "output_type": "stream",
     "text": [
      "2021-09-22 16:48:06,557 DataLoader  INFO Loading data for:20180426\n"
     ]
    },
    {
     "name": "stdout",
     "output_type": "stream",
     "text": [
      "/media/ak/LaCie/XM1_Comdty_quotes/20180426.csv\n",
      "/media/ak/LaCie/XM1_Comdty_trades/20180426.csv\n"
     ]
    },
    {
     "name": "stderr",
     "output_type": "stream",
     "text": [
      "2021-09-22 16:48:06,967 DataLoader  INFO Loading data for:20180427\n"
     ]
    },
    {
     "name": "stdout",
     "output_type": "stream",
     "text": [
      "/media/ak/LaCie/XM1_Comdty_quotes/20180427.csv\n",
      "/media/ak/LaCie/XM1_Comdty_trades/20180427.csv\n"
     ]
    },
    {
     "name": "stderr",
     "output_type": "stream",
     "text": [
      "2021-09-22 16:48:07,240 DataLoader  INFO Loading data for:20180430\n"
     ]
    },
    {
     "name": "stdout",
     "output_type": "stream",
     "text": [
      "/media/ak/LaCie/XM1_Comdty_quotes/20180430.csv\n",
      "/media/ak/LaCie/XM1_Comdty_trades/20180430.csv\n"
     ]
    },
    {
     "name": "stderr",
     "output_type": "stream",
     "text": [
      "2021-09-22 16:48:07,736 DataLoader  INFO Loading data for:20180501\n"
     ]
    },
    {
     "name": "stdout",
     "output_type": "stream",
     "text": [
      "/media/ak/LaCie/XM1_Comdty_quotes/20180501.csv\n",
      "/media/ak/LaCie/XM1_Comdty_trades/20180501.csv\n"
     ]
    },
    {
     "name": "stderr",
     "output_type": "stream",
     "text": [
      "2021-09-22 16:48:08,040 DataLoader  INFO Loading data for:20180502\n"
     ]
    },
    {
     "name": "stdout",
     "output_type": "stream",
     "text": [
      "/media/ak/LaCie/XM1_Comdty_quotes/20180502.csv\n",
      "/media/ak/LaCie/XM1_Comdty_trades/20180502.csv\n"
     ]
    },
    {
     "name": "stderr",
     "output_type": "stream",
     "text": [
      "2021-09-22 16:48:08,370 DataLoader  INFO Loading data for:20180503\n"
     ]
    },
    {
     "name": "stdout",
     "output_type": "stream",
     "text": [
      "/media/ak/LaCie/XM1_Comdty_quotes/20180503.csv\n",
      "/media/ak/LaCie/XM1_Comdty_trades/20180503.csv\n"
     ]
    },
    {
     "name": "stderr",
     "output_type": "stream",
     "text": [
      "2021-09-22 16:48:08,867 DataLoader  INFO Loading data for:20180504\n"
     ]
    },
    {
     "name": "stdout",
     "output_type": "stream",
     "text": [
      "/media/ak/LaCie/XM1_Comdty_quotes/20180504.csv\n",
      "/media/ak/LaCie/XM1_Comdty_trades/20180504.csv\n"
     ]
    },
    {
     "name": "stderr",
     "output_type": "stream",
     "text": [
      "2021-09-22 16:48:09,315 DataLoader  INFO Loading data for:20180507\n"
     ]
    },
    {
     "name": "stdout",
     "output_type": "stream",
     "text": [
      "/media/ak/LaCie/XM1_Comdty_quotes/20180507.csv\n",
      "/media/ak/LaCie/XM1_Comdty_trades/20180507.csv\n"
     ]
    },
    {
     "name": "stderr",
     "output_type": "stream",
     "text": [
      "2021-09-22 16:48:09,793 DataLoader  INFO Loading data for:20180508\n"
     ]
    },
    {
     "name": "stdout",
     "output_type": "stream",
     "text": [
      "/media/ak/LaCie/XM1_Comdty_quotes/20180508.csv\n",
      "/media/ak/LaCie/XM1_Comdty_trades/20180508.csv\n"
     ]
    },
    {
     "name": "stderr",
     "output_type": "stream",
     "text": [
      "2021-09-22 16:48:10,065 DataLoader  INFO Loading data for:20180509\n"
     ]
    },
    {
     "name": "stdout",
     "output_type": "stream",
     "text": [
      "/media/ak/LaCie/XM1_Comdty_quotes/20180509.csv\n",
      "/media/ak/LaCie/XM1_Comdty_trades/20180509.csv\n"
     ]
    },
    {
     "name": "stderr",
     "output_type": "stream",
     "text": [
      "2021-09-22 16:48:10,325 DataLoader  INFO Loading data for:20180510\n"
     ]
    },
    {
     "name": "stdout",
     "output_type": "stream",
     "text": [
      "/media/ak/LaCie/XM1_Comdty_quotes/20180510.csv\n",
      "/media/ak/LaCie/XM1_Comdty_trades/20180510.csv\n"
     ]
    },
    {
     "name": "stderr",
     "output_type": "stream",
     "text": [
      "2021-09-22 16:48:10,911 DataLoader  INFO Loading data for:20180511\n"
     ]
    },
    {
     "name": "stdout",
     "output_type": "stream",
     "text": [
      "/media/ak/LaCie/XM1_Comdty_quotes/20180511.csv\n",
      "/media/ak/LaCie/XM1_Comdty_trades/20180511.csv\n"
     ]
    },
    {
     "name": "stderr",
     "output_type": "stream",
     "text": [
      "2021-09-22 16:48:11,365 DataLoader  INFO Calculating calendar clock\n",
      "2021-09-22 16:48:12,179 DataLoader  INFO Calculating volume clock\n",
      "2021-09-22 16:48:18,441 DataLoader  INFO Calculating tick clock\n",
      "2021-09-22 16:48:19,817 DataLoader  INFO Calculating usd volume clock\n",
      "2021-09-22 16:49:48,076 DataLoader  INFO Loading data for:20180416\n"
     ]
    },
    {
     "name": "stdout",
     "output_type": "stream",
     "text": [
      "/media/ak/LaCie/XM1_Comdty_quotes/20180416.csv\n",
      "/media/ak/LaCie/XM1_Comdty_trades/20180416.csv\n"
     ]
    },
    {
     "name": "stderr",
     "output_type": "stream",
     "text": [
      "2021-09-22 16:49:48,388 DataLoader  INFO Loading data for:20180417\n",
      "2021-09-22 16:49:48,585 DataLoader  INFO Loading data for:20180418\n"
     ]
    },
    {
     "name": "stdout",
     "output_type": "stream",
     "text": [
      "/media/ak/LaCie/XM1_Comdty_quotes/20180417.csv\n",
      "/media/ak/LaCie/XM1_Comdty_trades/20180417.csv\n",
      "/media/ak/LaCie/XM1_Comdty_quotes/20180418.csv\n",
      "/media/ak/LaCie/XM1_Comdty_trades/20180418.csv\n"
     ]
    },
    {
     "name": "stderr",
     "output_type": "stream",
     "text": [
      "2021-09-22 16:49:48,858 DataLoader  INFO Loading data for:20180419\n"
     ]
    },
    {
     "name": "stdout",
     "output_type": "stream",
     "text": [
      "/media/ak/LaCie/XM1_Comdty_quotes/20180419.csv\n",
      "/media/ak/LaCie/XM1_Comdty_trades/20180419.csv\n"
     ]
    },
    {
     "name": "stderr",
     "output_type": "stream",
     "text": [
      "2021-09-22 16:49:49,135 DataLoader  INFO Loading data for:20180420\n"
     ]
    },
    {
     "name": "stdout",
     "output_type": "stream",
     "text": [
      "/media/ak/LaCie/XM1_Comdty_quotes/20180420.csv\n",
      "/media/ak/LaCie/XM1_Comdty_trades/20180420.csv\n"
     ]
    },
    {
     "name": "stderr",
     "output_type": "stream",
     "text": [
      "2021-09-22 16:49:49,383 DataLoader  INFO Loading data for:20180423\n"
     ]
    },
    {
     "name": "stdout",
     "output_type": "stream",
     "text": [
      "/media/ak/LaCie/XM1_Comdty_quotes/20180423.csv\n",
      "/media/ak/LaCie/XM1_Comdty_trades/20180423.csv\n"
     ]
    },
    {
     "name": "stderr",
     "output_type": "stream",
     "text": [
      "2021-09-22 16:49:49,692 DataLoader  INFO Loading data for:20180424\n"
     ]
    },
    {
     "name": "stdout",
     "output_type": "stream",
     "text": [
      "/media/ak/LaCie/XM1_Comdty_quotes/20180424.csv\n",
      "/media/ak/LaCie/XM1_Comdty_trades/20180424.csv\n"
     ]
    },
    {
     "name": "stderr",
     "output_type": "stream",
     "text": [
      "2021-09-22 16:49:50,139 DataLoader  INFO Loading data for:20180425\n"
     ]
    },
    {
     "name": "stdout",
     "output_type": "stream",
     "text": [
      "/media/ak/LaCie/XM1_Comdty_quotes/20180425.csv\n",
      "/media/ak/LaCie/XM1_Comdty_trades/20180425.csv\n"
     ]
    },
    {
     "name": "stderr",
     "output_type": "stream",
     "text": [
      "2021-09-22 16:49:50,357 DataLoader  INFO Loading data for:20180426\n"
     ]
    },
    {
     "name": "stdout",
     "output_type": "stream",
     "text": [
      "/media/ak/LaCie/XM1_Comdty_quotes/20180426.csv\n",
      "/media/ak/LaCie/XM1_Comdty_trades/20180426.csv\n"
     ]
    },
    {
     "name": "stderr",
     "output_type": "stream",
     "text": [
      "2021-09-22 16:49:50,622 DataLoader  INFO Loading data for:20180427\n"
     ]
    },
    {
     "name": "stdout",
     "output_type": "stream",
     "text": [
      "/media/ak/LaCie/XM1_Comdty_quotes/20180427.csv\n",
      "/media/ak/LaCie/XM1_Comdty_trades/20180427.csv\n"
     ]
    },
    {
     "name": "stderr",
     "output_type": "stream",
     "text": [
      "2021-09-22 16:49:50,838 DataLoader  INFO Loading data for:20180430\n"
     ]
    },
    {
     "name": "stdout",
     "output_type": "stream",
     "text": [
      "/media/ak/LaCie/XM1_Comdty_quotes/20180430.csv\n",
      "/media/ak/LaCie/XM1_Comdty_trades/20180430.csv\n"
     ]
    },
    {
     "name": "stderr",
     "output_type": "stream",
     "text": [
      "2021-09-22 16:49:51,124 DataLoader  INFO Loading data for:20180501\n",
      "2021-09-22 16:49:51,306 DataLoader  INFO Loading data for:20180502\n"
     ]
    },
    {
     "name": "stdout",
     "output_type": "stream",
     "text": [
      "/media/ak/LaCie/XM1_Comdty_quotes/20180501.csv\n",
      "/media/ak/LaCie/XM1_Comdty_trades/20180501.csv\n",
      "/media/ak/LaCie/XM1_Comdty_quotes/20180502.csv\n",
      "/media/ak/LaCie/XM1_Comdty_trades/20180502.csv\n"
     ]
    },
    {
     "name": "stderr",
     "output_type": "stream",
     "text": [
      "2021-09-22 16:49:51,602 DataLoader  INFO Loading data for:20180503\n"
     ]
    },
    {
     "name": "stdout",
     "output_type": "stream",
     "text": [
      "/media/ak/LaCie/XM1_Comdty_quotes/20180503.csv\n",
      "/media/ak/LaCie/XM1_Comdty_trades/20180503.csv\n"
     ]
    },
    {
     "name": "stderr",
     "output_type": "stream",
     "text": [
      "2021-09-22 16:49:51,890 DataLoader  INFO Loading data for:20180504\n"
     ]
    },
    {
     "name": "stdout",
     "output_type": "stream",
     "text": [
      "/media/ak/LaCie/XM1_Comdty_quotes/20180504.csv\n",
      "/media/ak/LaCie/XM1_Comdty_trades/20180504.csv\n"
     ]
    },
    {
     "name": "stderr",
     "output_type": "stream",
     "text": [
      "2021-09-22 16:49:52,113 DataLoader  INFO Loading data for:20180507\n"
     ]
    },
    {
     "name": "stdout",
     "output_type": "stream",
     "text": [
      "/media/ak/LaCie/XM1_Comdty_quotes/20180507.csv\n",
      "/media/ak/LaCie/XM1_Comdty_trades/20180507.csv\n"
     ]
    },
    {
     "name": "stderr",
     "output_type": "stream",
     "text": [
      "2021-09-22 16:49:52,400 DataLoader  INFO Loading data for:20180508\n"
     ]
    },
    {
     "name": "stdout",
     "output_type": "stream",
     "text": [
      "/media/ak/LaCie/XM1_Comdty_quotes/20180508.csv\n",
      "/media/ak/LaCie/XM1_Comdty_trades/20180508.csv\n"
     ]
    },
    {
     "name": "stderr",
     "output_type": "stream",
     "text": [
      "2021-09-22 16:49:52,755 DataLoader  INFO Loading data for:20180509\n"
     ]
    },
    {
     "name": "stdout",
     "output_type": "stream",
     "text": [
      "/media/ak/LaCie/XM1_Comdty_quotes/20180509.csv\n",
      "/media/ak/LaCie/XM1_Comdty_trades/20180509.csv\n"
     ]
    },
    {
     "name": "stderr",
     "output_type": "stream",
     "text": [
      "2021-09-22 16:49:53,006 DataLoader  INFO Loading data for:20180510\n"
     ]
    },
    {
     "name": "stdout",
     "output_type": "stream",
     "text": [
      "/media/ak/LaCie/XM1_Comdty_quotes/20180510.csv\n",
      "/media/ak/LaCie/XM1_Comdty_trades/20180510.csv\n"
     ]
    },
    {
     "name": "stderr",
     "output_type": "stream",
     "text": [
      "2021-09-22 16:49:53,332 DataLoader  INFO Loading data for:20180511\n"
     ]
    },
    {
     "name": "stdout",
     "output_type": "stream",
     "text": [
      "/media/ak/LaCie/XM1_Comdty_quotes/20180511.csv\n",
      "/media/ak/LaCie/XM1_Comdty_trades/20180511.csv\n"
     ]
    },
    {
     "name": "stderr",
     "output_type": "stream",
     "text": [
      "2021-09-22 16:49:53,591 DataLoader  INFO Calculating calendar clock\n",
      "2021-09-22 16:49:54,107 DataLoader  INFO Calculating volume clock\n",
      "2021-09-22 16:49:56,808 DataLoader  INFO Calculating tick clock\n",
      "2021-09-22 16:49:57,374 DataLoader  INFO Calculating usd volume clock\n",
      "2021-09-22 16:50:47,130 DataLoader  INFO Loading data for:20180416\n"
     ]
    },
    {
     "name": "stdout",
     "output_type": "stream",
     "text": [
      "/media/ak/LaCie/XM1_Comdty_quotes/20180416.csv\n",
      "/media/ak/LaCie/XM1_Comdty_trades/20180416.csv\n"
     ]
    },
    {
     "name": "stderr",
     "output_type": "stream",
     "text": [
      "2021-09-22 16:50:47,378 DataLoader  INFO Loading data for:20180417\n"
     ]
    },
    {
     "name": "stdout",
     "output_type": "stream",
     "text": [
      "/media/ak/LaCie/XM1_Comdty_quotes/20180417.csv\n",
      "/media/ak/LaCie/XM1_Comdty_trades/20180417.csv\n"
     ]
    },
    {
     "name": "stderr",
     "output_type": "stream",
     "text": [
      "2021-09-22 16:50:47,612 DataLoader  INFO Loading data for:20180418\n"
     ]
    },
    {
     "name": "stdout",
     "output_type": "stream",
     "text": [
      "/media/ak/LaCie/XM1_Comdty_quotes/20180418.csv\n",
      "/media/ak/LaCie/XM1_Comdty_trades/20180418.csv\n"
     ]
    },
    {
     "name": "stderr",
     "output_type": "stream",
     "text": [
      "2021-09-22 16:50:47,867 DataLoader  INFO Loading data for:20180419\n"
     ]
    },
    {
     "name": "stdout",
     "output_type": "stream",
     "text": [
      "/media/ak/LaCie/XM1_Comdty_quotes/20180419.csv\n",
      "/media/ak/LaCie/XM1_Comdty_trades/20180419.csv\n"
     ]
    },
    {
     "name": "stderr",
     "output_type": "stream",
     "text": [
      "2021-09-22 16:50:48,186 DataLoader  INFO Loading data for:20180420\n"
     ]
    },
    {
     "name": "stdout",
     "output_type": "stream",
     "text": [
      "/media/ak/LaCie/XM1_Comdty_quotes/20180420.csv\n",
      "/media/ak/LaCie/XM1_Comdty_trades/20180420.csv\n"
     ]
    },
    {
     "name": "stderr",
     "output_type": "stream",
     "text": [
      "2021-09-22 16:50:48,423 DataLoader  INFO Loading data for:20180423\n"
     ]
    },
    {
     "name": "stdout",
     "output_type": "stream",
     "text": [
      "/media/ak/LaCie/XM1_Comdty_quotes/20180423.csv\n",
      "/media/ak/LaCie/XM1_Comdty_trades/20180423.csv\n"
     ]
    },
    {
     "name": "stderr",
     "output_type": "stream",
     "text": [
      "2021-09-22 16:50:48,708 DataLoader  INFO Loading data for:20180424\n"
     ]
    },
    {
     "name": "stdout",
     "output_type": "stream",
     "text": [
      "/media/ak/LaCie/XM1_Comdty_quotes/20180424.csv\n",
      "/media/ak/LaCie/XM1_Comdty_trades/20180424.csv\n"
     ]
    },
    {
     "name": "stderr",
     "output_type": "stream",
     "text": [
      "2021-09-22 16:50:49,068 DataLoader  INFO Loading data for:20180425\n",
      "2021-09-22 16:50:49,268 DataLoader  INFO Loading data for:20180426\n"
     ]
    },
    {
     "name": "stdout",
     "output_type": "stream",
     "text": [
      "/media/ak/LaCie/XM1_Comdty_quotes/20180425.csv\n",
      "/media/ak/LaCie/XM1_Comdty_trades/20180425.csv\n",
      "/media/ak/LaCie/XM1_Comdty_quotes/20180426.csv\n",
      "/media/ak/LaCie/XM1_Comdty_trades/20180426.csv\n"
     ]
    },
    {
     "name": "stderr",
     "output_type": "stream",
     "text": [
      "2021-09-22 16:50:49,491 DataLoader  INFO Loading data for:20180427\n",
      "2021-09-22 16:50:49,689 DataLoader  INFO Loading data for:20180430\n"
     ]
    },
    {
     "name": "stdout",
     "output_type": "stream",
     "text": [
      "/media/ak/LaCie/XM1_Comdty_quotes/20180427.csv\n",
      "/media/ak/LaCie/XM1_Comdty_trades/20180427.csv\n",
      "/media/ak/LaCie/XM1_Comdty_quotes/20180430.csv\n",
      "/media/ak/LaCie/XM1_Comdty_trades/20180430.csv\n"
     ]
    },
    {
     "name": "stderr",
     "output_type": "stream",
     "text": [
      "2021-09-22 16:50:50,101 DataLoader  INFO Loading data for:20180501\n"
     ]
    },
    {
     "name": "stdout",
     "output_type": "stream",
     "text": [
      "/media/ak/LaCie/XM1_Comdty_quotes/20180501.csv\n",
      "/media/ak/LaCie/XM1_Comdty_trades/20180501.csv\n"
     ]
    },
    {
     "name": "stderr",
     "output_type": "stream",
     "text": [
      "2021-09-22 16:50:50,424 DataLoader  INFO Loading data for:20180502\n"
     ]
    },
    {
     "name": "stdout",
     "output_type": "stream",
     "text": [
      "/media/ak/LaCie/XM1_Comdty_quotes/20180502.csv\n",
      "/media/ak/LaCie/XM1_Comdty_trades/20180502.csv\n"
     ]
    },
    {
     "name": "stderr",
     "output_type": "stream",
     "text": [
      "2021-09-22 16:50:50,754 DataLoader  INFO Loading data for:20180503\n"
     ]
    },
    {
     "name": "stdout",
     "output_type": "stream",
     "text": [
      "/media/ak/LaCie/XM1_Comdty_quotes/20180503.csv\n",
      "/media/ak/LaCie/XM1_Comdty_trades/20180503.csv\n"
     ]
    },
    {
     "name": "stderr",
     "output_type": "stream",
     "text": [
      "2021-09-22 16:50:51,005 DataLoader  INFO Loading data for:20180504\n"
     ]
    },
    {
     "name": "stdout",
     "output_type": "stream",
     "text": [
      "/media/ak/LaCie/XM1_Comdty_quotes/20180504.csv\n",
      "/media/ak/LaCie/XM1_Comdty_trades/20180504.csv\n"
     ]
    },
    {
     "name": "stderr",
     "output_type": "stream",
     "text": [
      "2021-09-22 16:50:51,302 DataLoader  INFO Loading data for:20180507\n",
      "2021-09-22 16:50:51,466 DataLoader  INFO Loading data for:20180508\n"
     ]
    },
    {
     "name": "stdout",
     "output_type": "stream",
     "text": [
      "/media/ak/LaCie/XM1_Comdty_quotes/20180507.csv\n",
      "/media/ak/LaCie/XM1_Comdty_trades/20180507.csv\n",
      "/media/ak/LaCie/XM1_Comdty_quotes/20180508.csv\n",
      "/media/ak/LaCie/XM1_Comdty_trades/20180508.csv\n"
     ]
    },
    {
     "name": "stderr",
     "output_type": "stream",
     "text": [
      "2021-09-22 16:50:51,759 DataLoader  INFO Loading data for:20180509\n"
     ]
    },
    {
     "name": "stdout",
     "output_type": "stream",
     "text": [
      "/media/ak/LaCie/XM1_Comdty_quotes/20180509.csv\n",
      "/media/ak/LaCie/XM1_Comdty_trades/20180509.csv\n"
     ]
    },
    {
     "name": "stderr",
     "output_type": "stream",
     "text": [
      "2021-09-22 16:50:52,068 DataLoader  INFO Loading data for:20180510\n"
     ]
    },
    {
     "name": "stdout",
     "output_type": "stream",
     "text": [
      "/media/ak/LaCie/XM1_Comdty_quotes/20180510.csv\n",
      "/media/ak/LaCie/XM1_Comdty_trades/20180510.csv\n"
     ]
    },
    {
     "name": "stderr",
     "output_type": "stream",
     "text": [
      "2021-09-22 16:50:52,362 DataLoader  INFO Loading data for:20180511\n"
     ]
    },
    {
     "name": "stdout",
     "output_type": "stream",
     "text": [
      "/media/ak/LaCie/XM1_Comdty_quotes/20180511.csv\n",
      "/media/ak/LaCie/XM1_Comdty_trades/20180511.csv\n"
     ]
    },
    {
     "name": "stderr",
     "output_type": "stream",
     "text": [
      "2021-09-22 16:50:52,597 DataLoader  INFO Calculating calendar clock\n",
      "2021-09-22 16:50:53,102 DataLoader  INFO Calculating volume clock\n",
      "2021-09-22 16:50:56,545 DataLoader  INFO Calculating tick clock\n",
      "2021-09-22 16:50:57,155 DataLoader  INFO Calculating usd volume clock\n",
      "2021-09-22 16:51:58,094 DataLoader  INFO Loading data for:20180416\n"
     ]
    },
    {
     "name": "stdout",
     "output_type": "stream",
     "text": [
      "/media/ak/LaCie/XM1_Comdty_quotes/20180416.csv\n",
      "/media/ak/LaCie/XM1_Comdty_trades/20180416.csv\n"
     ]
    },
    {
     "name": "stderr",
     "output_type": "stream",
     "text": [
      "2021-09-22 16:51:58,384 DataLoader  INFO Loading data for:20180417\n",
      "2021-09-22 16:51:58,582 DataLoader  INFO Loading data for:20180418\n"
     ]
    },
    {
     "name": "stdout",
     "output_type": "stream",
     "text": [
      "/media/ak/LaCie/XM1_Comdty_quotes/20180417.csv\n",
      "/media/ak/LaCie/XM1_Comdty_trades/20180417.csv\n",
      "/media/ak/LaCie/XM1_Comdty_quotes/20180418.csv\n",
      "/media/ak/LaCie/XM1_Comdty_trades/20180418.csv\n"
     ]
    },
    {
     "name": "stderr",
     "output_type": "stream",
     "text": [
      "2021-09-22 16:51:58,880 DataLoader  INFO Loading data for:20180419\n"
     ]
    },
    {
     "name": "stdout",
     "output_type": "stream",
     "text": [
      "/media/ak/LaCie/XM1_Comdty_quotes/20180419.csv\n",
      "/media/ak/LaCie/XM1_Comdty_trades/20180419.csv\n"
     ]
    },
    {
     "name": "stderr",
     "output_type": "stream",
     "text": [
      "2021-09-22 16:51:59,169 DataLoader  INFO Loading data for:20180420\n"
     ]
    },
    {
     "name": "stdout",
     "output_type": "stream",
     "text": [
      "/media/ak/LaCie/XM1_Comdty_quotes/20180420.csv\n",
      "/media/ak/LaCie/XM1_Comdty_trades/20180420.csv\n"
     ]
    },
    {
     "name": "stderr",
     "output_type": "stream",
     "text": [
      "2021-09-22 16:51:59,490 DataLoader  INFO Loading data for:20180423\n"
     ]
    },
    {
     "name": "stdout",
     "output_type": "stream",
     "text": [
      "/media/ak/LaCie/XM1_Comdty_quotes/20180423.csv\n",
      "/media/ak/LaCie/XM1_Comdty_trades/20180423.csv\n"
     ]
    },
    {
     "name": "stderr",
     "output_type": "stream",
     "text": [
      "2021-09-22 16:51:59,730 DataLoader  INFO Loading data for:20180424\n"
     ]
    },
    {
     "name": "stdout",
     "output_type": "stream",
     "text": [
      "/media/ak/LaCie/XM1_Comdty_quotes/20180424.csv\n",
      "/media/ak/LaCie/XM1_Comdty_trades/20180424.csv\n"
     ]
    },
    {
     "name": "stderr",
     "output_type": "stream",
     "text": [
      "2021-09-22 16:52:00,121 DataLoader  INFO Loading data for:20180425\n"
     ]
    },
    {
     "name": "stdout",
     "output_type": "stream",
     "text": [
      "/media/ak/LaCie/XM1_Comdty_quotes/20180425.csv\n",
      "/media/ak/LaCie/XM1_Comdty_trades/20180425.csv\n"
     ]
    },
    {
     "name": "stderr",
     "output_type": "stream",
     "text": [
      "2021-09-22 16:52:00,371 DataLoader  INFO Loading data for:20180426\n"
     ]
    },
    {
     "name": "stdout",
     "output_type": "stream",
     "text": [
      "/media/ak/LaCie/XM1_Comdty_quotes/20180426.csv\n",
      "/media/ak/LaCie/XM1_Comdty_trades/20180426.csv\n"
     ]
    },
    {
     "name": "stderr",
     "output_type": "stream",
     "text": [
      "2021-09-22 16:52:00,663 DataLoader  INFO Loading data for:20180427\n"
     ]
    },
    {
     "name": "stdout",
     "output_type": "stream",
     "text": [
      "/media/ak/LaCie/XM1_Comdty_quotes/20180427.csv\n",
      "/media/ak/LaCie/XM1_Comdty_trades/20180427.csv\n"
     ]
    },
    {
     "name": "stderr",
     "output_type": "stream",
     "text": [
      "2021-09-22 16:52:00,884 DataLoader  INFO Loading data for:20180430\n"
     ]
    },
    {
     "name": "stdout",
     "output_type": "stream",
     "text": [
      "/media/ak/LaCie/XM1_Comdty_quotes/20180430.csv\n",
      "/media/ak/LaCie/XM1_Comdty_trades/20180430.csv\n"
     ]
    },
    {
     "name": "stderr",
     "output_type": "stream",
     "text": [
      "2021-09-22 16:52:01,148 DataLoader  INFO Loading data for:20180501\n",
      "2021-09-22 16:52:01,333 DataLoader  INFO Loading data for:20180502\n"
     ]
    },
    {
     "name": "stdout",
     "output_type": "stream",
     "text": [
      "/media/ak/LaCie/XM1_Comdty_quotes/20180501.csv\n",
      "/media/ak/LaCie/XM1_Comdty_trades/20180501.csv\n",
      "/media/ak/LaCie/XM1_Comdty_quotes/20180502.csv\n",
      "/media/ak/LaCie/XM1_Comdty_trades/20180502.csv\n"
     ]
    },
    {
     "name": "stderr",
     "output_type": "stream",
     "text": [
      "2021-09-22 16:52:01,619 DataLoader  INFO Loading data for:20180503\n"
     ]
    },
    {
     "name": "stdout",
     "output_type": "stream",
     "text": [
      "/media/ak/LaCie/XM1_Comdty_quotes/20180503.csv\n",
      "/media/ak/LaCie/XM1_Comdty_trades/20180503.csv\n"
     ]
    },
    {
     "name": "stderr",
     "output_type": "stream",
     "text": [
      "2021-09-22 16:52:01,845 DataLoader  INFO Loading data for:20180504\n"
     ]
    },
    {
     "name": "stdout",
     "output_type": "stream",
     "text": [
      "/media/ak/LaCie/XM1_Comdty_quotes/20180504.csv\n",
      "/media/ak/LaCie/XM1_Comdty_trades/20180504.csv\n"
     ]
    },
    {
     "name": "stderr",
     "output_type": "stream",
     "text": [
      "2021-09-22 16:52:02,109 DataLoader  INFO Loading data for:20180507\n"
     ]
    },
    {
     "name": "stdout",
     "output_type": "stream",
     "text": [
      "/media/ak/LaCie/XM1_Comdty_quotes/20180507.csv\n",
      "/media/ak/LaCie/XM1_Comdty_trades/20180507.csv\n"
     ]
    },
    {
     "name": "stderr",
     "output_type": "stream",
     "text": [
      "2021-09-22 16:52:02,345 DataLoader  INFO Loading data for:20180508\n"
     ]
    },
    {
     "name": "stdout",
     "output_type": "stream",
     "text": [
      "/media/ak/LaCie/XM1_Comdty_quotes/20180508.csv\n",
      "/media/ak/LaCie/XM1_Comdty_trades/20180508.csv\n"
     ]
    },
    {
     "name": "stderr",
     "output_type": "stream",
     "text": [
      "2021-09-22 16:52:02,635 DataLoader  INFO Loading data for:20180509\n"
     ]
    },
    {
     "name": "stdout",
     "output_type": "stream",
     "text": [
      "/media/ak/LaCie/XM1_Comdty_quotes/20180509.csv\n",
      "/media/ak/LaCie/XM1_Comdty_trades/20180509.csv\n"
     ]
    },
    {
     "name": "stderr",
     "output_type": "stream",
     "text": [
      "2021-09-22 16:52:02,903 DataLoader  INFO Loading data for:20180510\n"
     ]
    },
    {
     "name": "stdout",
     "output_type": "stream",
     "text": [
      "/media/ak/LaCie/XM1_Comdty_quotes/20180510.csv\n",
      "/media/ak/LaCie/XM1_Comdty_trades/20180510.csv\n"
     ]
    },
    {
     "name": "stderr",
     "output_type": "stream",
     "text": [
      "2021-09-22 16:52:03,297 DataLoader  INFO Loading data for:20180511\n"
     ]
    },
    {
     "name": "stdout",
     "output_type": "stream",
     "text": [
      "/media/ak/LaCie/XM1_Comdty_quotes/20180511.csv\n",
      "/media/ak/LaCie/XM1_Comdty_trades/20180511.csv\n"
     ]
    },
    {
     "name": "stderr",
     "output_type": "stream",
     "text": [
      "2021-09-22 16:52:03,537 DataLoader  INFO Calculating calendar clock\n",
      "2021-09-22 16:52:04,268 DataLoader  INFO Calculating volume clock\n",
      "2021-09-22 16:52:09,523 DataLoader  INFO Calculating tick clock\n",
      "2021-09-22 16:52:10,415 DataLoader  INFO Calculating usd volume clock\n",
      "2021-09-22 16:53:10,561 DataLoader  INFO Loading data for:20180416\n"
     ]
    },
    {
     "name": "stdout",
     "output_type": "stream",
     "text": [
      "/media/ak/LaCie/XM1_Comdty_quotes/20180416.csv\n",
      "/media/ak/LaCie/XM1_Comdty_trades/20180416.csv\n"
     ]
    },
    {
     "name": "stderr",
     "output_type": "stream",
     "text": [
      "2021-09-22 16:53:10,850 DataLoader  INFO Loading data for:20180417\n",
      "2021-09-22 16:53:11,044 DataLoader  INFO Loading data for:20180418\n"
     ]
    },
    {
     "name": "stdout",
     "output_type": "stream",
     "text": [
      "/media/ak/LaCie/XM1_Comdty_quotes/20180417.csv\n",
      "/media/ak/LaCie/XM1_Comdty_trades/20180417.csv\n",
      "/media/ak/LaCie/XM1_Comdty_quotes/20180418.csv\n",
      "/media/ak/LaCie/XM1_Comdty_trades/20180418.csv\n"
     ]
    },
    {
     "name": "stderr",
     "output_type": "stream",
     "text": [
      "2021-09-22 16:53:11,298 DataLoader  INFO Loading data for:20180419\n"
     ]
    },
    {
     "name": "stdout",
     "output_type": "stream",
     "text": [
      "/media/ak/LaCie/XM1_Comdty_quotes/20180419.csv\n",
      "/media/ak/LaCie/XM1_Comdty_trades/20180419.csv\n"
     ]
    },
    {
     "name": "stderr",
     "output_type": "stream",
     "text": [
      "2021-09-22 16:53:11,583 DataLoader  INFO Loading data for:20180420\n"
     ]
    },
    {
     "name": "stdout",
     "output_type": "stream",
     "text": [
      "/media/ak/LaCie/XM1_Comdty_quotes/20180420.csv\n",
      "/media/ak/LaCie/XM1_Comdty_trades/20180420.csv\n"
     ]
    },
    {
     "name": "stderr",
     "output_type": "stream",
     "text": [
      "2021-09-22 16:53:11,830 DataLoader  INFO Loading data for:20180423\n"
     ]
    },
    {
     "name": "stdout",
     "output_type": "stream",
     "text": [
      "/media/ak/LaCie/XM1_Comdty_quotes/20180423.csv\n",
      "/media/ak/LaCie/XM1_Comdty_trades/20180423.csv\n"
     ]
    },
    {
     "name": "stderr",
     "output_type": "stream",
     "text": [
      "2021-09-22 16:53:12,088 DataLoader  INFO Loading data for:20180424\n"
     ]
    },
    {
     "name": "stdout",
     "output_type": "stream",
     "text": [
      "/media/ak/LaCie/XM1_Comdty_quotes/20180424.csv\n",
      "/media/ak/LaCie/XM1_Comdty_trades/20180424.csv\n"
     ]
    },
    {
     "name": "stderr",
     "output_type": "stream",
     "text": [
      "2021-09-22 16:53:12,466 DataLoader  INFO Loading data for:20180425\n",
      "2021-09-22 16:53:12,653 DataLoader  INFO Loading data for:20180426\n"
     ]
    },
    {
     "name": "stdout",
     "output_type": "stream",
     "text": [
      "/media/ak/LaCie/XM1_Comdty_quotes/20180425.csv\n",
      "/media/ak/LaCie/XM1_Comdty_trades/20180425.csv\n",
      "/media/ak/LaCie/XM1_Comdty_quotes/20180426.csv\n",
      "/media/ak/LaCie/XM1_Comdty_trades/20180426.csv\n"
     ]
    },
    {
     "name": "stderr",
     "output_type": "stream",
     "text": [
      "2021-09-22 16:53:12,900 DataLoader  INFO Loading data for:20180427\n"
     ]
    },
    {
     "name": "stdout",
     "output_type": "stream",
     "text": [
      "/media/ak/LaCie/XM1_Comdty_quotes/20180427.csv\n",
      "/media/ak/LaCie/XM1_Comdty_trades/20180427.csv\n"
     ]
    },
    {
     "name": "stderr",
     "output_type": "stream",
     "text": [
      "2021-09-22 16:53:13,116 DataLoader  INFO Loading data for:20180430\n"
     ]
    },
    {
     "name": "stdout",
     "output_type": "stream",
     "text": [
      "/media/ak/LaCie/XM1_Comdty_quotes/20180430.csv\n",
      "/media/ak/LaCie/XM1_Comdty_trades/20180430.csv\n"
     ]
    },
    {
     "name": "stderr",
     "output_type": "stream",
     "text": [
      "2021-09-22 16:53:13,383 DataLoader  INFO Loading data for:20180501\n",
      "2021-09-22 16:53:13,556 DataLoader  INFO Loading data for:20180502\n"
     ]
    },
    {
     "name": "stdout",
     "output_type": "stream",
     "text": [
      "/media/ak/LaCie/XM1_Comdty_quotes/20180501.csv\n",
      "/media/ak/LaCie/XM1_Comdty_trades/20180501.csv\n",
      "/media/ak/LaCie/XM1_Comdty_quotes/20180502.csv\n",
      "/media/ak/LaCie/XM1_Comdty_trades/20180502.csv\n"
     ]
    },
    {
     "name": "stderr",
     "output_type": "stream",
     "text": [
      "2021-09-22 16:53:13,828 DataLoader  INFO Loading data for:20180503\n"
     ]
    },
    {
     "name": "stdout",
     "output_type": "stream",
     "text": [
      "/media/ak/LaCie/XM1_Comdty_quotes/20180503.csv\n",
      "/media/ak/LaCie/XM1_Comdty_trades/20180503.csv\n"
     ]
    },
    {
     "name": "stderr",
     "output_type": "stream",
     "text": [
      "2021-09-22 16:53:14,081 DataLoader  INFO Loading data for:20180504\n"
     ]
    },
    {
     "name": "stdout",
     "output_type": "stream",
     "text": [
      "/media/ak/LaCie/XM1_Comdty_quotes/20180504.csv\n",
      "/media/ak/LaCie/XM1_Comdty_trades/20180504.csv\n"
     ]
    },
    {
     "name": "stderr",
     "output_type": "stream",
     "text": [
      "2021-09-22 16:53:14,357 DataLoader  INFO Loading data for:20180507\n",
      "2021-09-22 16:53:14,547 DataLoader  INFO Loading data for:20180508\n"
     ]
    },
    {
     "name": "stdout",
     "output_type": "stream",
     "text": [
      "/media/ak/LaCie/XM1_Comdty_quotes/20180507.csv\n",
      "/media/ak/LaCie/XM1_Comdty_trades/20180507.csv\n",
      "/media/ak/LaCie/XM1_Comdty_quotes/20180508.csv\n",
      "/media/ak/LaCie/XM1_Comdty_trades/20180508.csv\n"
     ]
    },
    {
     "name": "stderr",
     "output_type": "stream",
     "text": [
      "2021-09-22 16:53:14,888 DataLoader  INFO Loading data for:20180509\n"
     ]
    },
    {
     "name": "stdout",
     "output_type": "stream",
     "text": [
      "/media/ak/LaCie/XM1_Comdty_quotes/20180509.csv\n",
      "/media/ak/LaCie/XM1_Comdty_trades/20180509.csv\n"
     ]
    },
    {
     "name": "stderr",
     "output_type": "stream",
     "text": [
      "2021-09-22 16:53:15,205 DataLoader  INFO Loading data for:20180510\n"
     ]
    },
    {
     "name": "stdout",
     "output_type": "stream",
     "text": [
      "/media/ak/LaCie/XM1_Comdty_quotes/20180510.csv\n",
      "/media/ak/LaCie/XM1_Comdty_trades/20180510.csv\n"
     ]
    },
    {
     "name": "stderr",
     "output_type": "stream",
     "text": [
      "2021-09-22 16:53:15,605 DataLoader  INFO Loading data for:20180511\n"
     ]
    },
    {
     "name": "stdout",
     "output_type": "stream",
     "text": [
      "/media/ak/LaCie/XM1_Comdty_quotes/20180511.csv\n",
      "/media/ak/LaCie/XM1_Comdty_trades/20180511.csv\n"
     ]
    },
    {
     "name": "stderr",
     "output_type": "stream",
     "text": [
      "2021-09-22 16:53:15,850 DataLoader  INFO Calculating calendar clock\n",
      "2021-09-22 16:53:16,922 DataLoader  INFO Calculating volume clock\n",
      "2021-09-22 16:53:20,065 DataLoader  INFO Calculating tick clock\n",
      "2021-09-22 16:53:20,826 DataLoader  INFO Calculating usd volume clock\n",
      "2021-09-22 16:54:20,988 DataLoader  INFO Loading data for:20180416\n"
     ]
    },
    {
     "name": "stdout",
     "output_type": "stream",
     "text": [
      "/media/ak/LaCie/XM1_Comdty_quotes/20180416.csv\n",
      "/media/ak/LaCie/XM1_Comdty_trades/20180416.csv\n"
     ]
    },
    {
     "name": "stderr",
     "output_type": "stream",
     "text": [
      "2021-09-22 16:54:21,267 DataLoader  INFO Loading data for:20180417\n"
     ]
    },
    {
     "name": "stdout",
     "output_type": "stream",
     "text": [
      "/media/ak/LaCie/XM1_Comdty_quotes/20180417.csv\n",
      "/media/ak/LaCie/XM1_Comdty_trades/20180417.csv\n"
     ]
    },
    {
     "name": "stderr",
     "output_type": "stream",
     "text": [
      "2021-09-22 16:54:21,525 DataLoader  INFO Loading data for:20180418\n"
     ]
    },
    {
     "name": "stdout",
     "output_type": "stream",
     "text": [
      "/media/ak/LaCie/XM1_Comdty_quotes/20180418.csv\n",
      "/media/ak/LaCie/XM1_Comdty_trades/20180418.csv\n"
     ]
    },
    {
     "name": "stderr",
     "output_type": "stream",
     "text": [
      "2021-09-22 16:54:21,767 DataLoader  INFO Loading data for:20180419\n"
     ]
    },
    {
     "name": "stdout",
     "output_type": "stream",
     "text": [
      "/media/ak/LaCie/XM1_Comdty_quotes/20180419.csv\n",
      "/media/ak/LaCie/XM1_Comdty_trades/20180419.csv\n"
     ]
    },
    {
     "name": "stderr",
     "output_type": "stream",
     "text": [
      "2021-09-22 16:54:22,061 DataLoader  INFO Loading data for:20180420\n"
     ]
    },
    {
     "name": "stdout",
     "output_type": "stream",
     "text": [
      "/media/ak/LaCie/XM1_Comdty_quotes/20180420.csv\n",
      "/media/ak/LaCie/XM1_Comdty_trades/20180420.csv\n"
     ]
    },
    {
     "name": "stderr",
     "output_type": "stream",
     "text": [
      "2021-09-22 16:54:22,389 DataLoader  INFO Loading data for:20180423\n"
     ]
    },
    {
     "name": "stdout",
     "output_type": "stream",
     "text": [
      "/media/ak/LaCie/XM1_Comdty_quotes/20180423.csv\n",
      "/media/ak/LaCie/XM1_Comdty_trades/20180423.csv\n"
     ]
    },
    {
     "name": "stderr",
     "output_type": "stream",
     "text": [
      "2021-09-22 16:54:22,669 DataLoader  INFO Loading data for:20180424\n"
     ]
    },
    {
     "name": "stdout",
     "output_type": "stream",
     "text": [
      "/media/ak/LaCie/XM1_Comdty_quotes/20180424.csv\n",
      "/media/ak/LaCie/XM1_Comdty_trades/20180424.csv\n"
     ]
    },
    {
     "name": "stderr",
     "output_type": "stream",
     "text": [
      "2021-09-22 16:54:22,924 DataLoader  INFO Loading data for:20180425\n"
     ]
    },
    {
     "name": "stdout",
     "output_type": "stream",
     "text": [
      "/media/ak/LaCie/XM1_Comdty_quotes/20180425.csv\n",
      "/media/ak/LaCie/XM1_Comdty_trades/20180425.csv\n"
     ]
    },
    {
     "name": "stderr",
     "output_type": "stream",
     "text": [
      "2021-09-22 16:54:23,207 DataLoader  INFO Loading data for:20180426\n"
     ]
    },
    {
     "name": "stdout",
     "output_type": "stream",
     "text": [
      "/media/ak/LaCie/XM1_Comdty_quotes/20180426.csv\n",
      "/media/ak/LaCie/XM1_Comdty_trades/20180426.csv\n"
     ]
    },
    {
     "name": "stderr",
     "output_type": "stream",
     "text": [
      "2021-09-22 16:54:23,463 DataLoader  INFO Loading data for:20180427\n"
     ]
    },
    {
     "name": "stdout",
     "output_type": "stream",
     "text": [
      "/media/ak/LaCie/XM1_Comdty_quotes/20180427.csv\n",
      "/media/ak/LaCie/XM1_Comdty_trades/20180427.csv\n"
     ]
    },
    {
     "name": "stderr",
     "output_type": "stream",
     "text": [
      "2021-09-22 16:54:23,705 DataLoader  INFO Loading data for:20180430\n"
     ]
    },
    {
     "name": "stdout",
     "output_type": "stream",
     "text": [
      "/media/ak/LaCie/XM1_Comdty_quotes/20180430.csv\n",
      "/media/ak/LaCie/XM1_Comdty_trades/20180430.csv\n"
     ]
    },
    {
     "name": "stderr",
     "output_type": "stream",
     "text": [
      "2021-09-22 16:54:24,035 DataLoader  INFO Loading data for:20180501\n"
     ]
    },
    {
     "name": "stdout",
     "output_type": "stream",
     "text": [
      "/media/ak/LaCie/XM1_Comdty_quotes/20180501.csv\n",
      "/media/ak/LaCie/XM1_Comdty_trades/20180501.csv\n"
     ]
    },
    {
     "name": "stderr",
     "output_type": "stream",
     "text": [
      "2021-09-22 16:54:24,252 DataLoader  INFO Loading data for:20180502\n"
     ]
    },
    {
     "name": "stdout",
     "output_type": "stream",
     "text": [
      "/media/ak/LaCie/XM1_Comdty_quotes/20180502.csv\n",
      "/media/ak/LaCie/XM1_Comdty_trades/20180502.csv\n"
     ]
    },
    {
     "name": "stderr",
     "output_type": "stream",
     "text": [
      "2021-09-22 16:54:24,533 DataLoader  INFO Loading data for:20180503\n"
     ]
    },
    {
     "name": "stdout",
     "output_type": "stream",
     "text": [
      "/media/ak/LaCie/XM1_Comdty_quotes/20180503.csv\n",
      "/media/ak/LaCie/XM1_Comdty_trades/20180503.csv\n"
     ]
    },
    {
     "name": "stderr",
     "output_type": "stream",
     "text": [
      "2021-09-22 16:54:24,777 DataLoader  INFO Loading data for:20180504\n"
     ]
    },
    {
     "name": "stdout",
     "output_type": "stream",
     "text": [
      "/media/ak/LaCie/XM1_Comdty_quotes/20180504.csv\n",
      "/media/ak/LaCie/XM1_Comdty_trades/20180504.csv\n"
     ]
    },
    {
     "name": "stderr",
     "output_type": "stream",
     "text": [
      "2021-09-22 16:54:25,039 DataLoader  INFO Loading data for:20180507\n",
      "2021-09-22 16:54:25,234 DataLoader  INFO Loading data for:20180508\n"
     ]
    },
    {
     "name": "stdout",
     "output_type": "stream",
     "text": [
      "/media/ak/LaCie/XM1_Comdty_quotes/20180507.csv\n",
      "/media/ak/LaCie/XM1_Comdty_trades/20180507.csv\n",
      "/media/ak/LaCie/XM1_Comdty_quotes/20180508.csv\n",
      "/media/ak/LaCie/XM1_Comdty_trades/20180508.csv\n"
     ]
    },
    {
     "name": "stderr",
     "output_type": "stream",
     "text": [
      "2021-09-22 16:54:25,541 DataLoader  INFO Loading data for:20180509\n"
     ]
    },
    {
     "name": "stdout",
     "output_type": "stream",
     "text": [
      "/media/ak/LaCie/XM1_Comdty_quotes/20180509.csv\n",
      "/media/ak/LaCie/XM1_Comdty_trades/20180509.csv\n"
     ]
    },
    {
     "name": "stderr",
     "output_type": "stream",
     "text": [
      "2021-09-22 16:54:25,853 DataLoader  INFO Loading data for:20180510\n"
     ]
    },
    {
     "name": "stdout",
     "output_type": "stream",
     "text": [
      "/media/ak/LaCie/XM1_Comdty_quotes/20180510.csv\n",
      "/media/ak/LaCie/XM1_Comdty_trades/20180510.csv\n"
     ]
    },
    {
     "name": "stderr",
     "output_type": "stream",
     "text": [
      "2021-09-22 16:54:26,163 DataLoader  INFO Loading data for:20180511\n"
     ]
    },
    {
     "name": "stdout",
     "output_type": "stream",
     "text": [
      "/media/ak/LaCie/XM1_Comdty_quotes/20180511.csv\n",
      "/media/ak/LaCie/XM1_Comdty_trades/20180511.csv\n"
     ]
    },
    {
     "name": "stderr",
     "output_type": "stream",
     "text": [
      "2021-09-22 16:54:26,391 DataLoader  INFO Calculating calendar clock\n",
      "2021-09-22 16:54:26,916 DataLoader  INFO Calculating volume clock\n",
      "2021-09-22 16:54:30,841 DataLoader  INFO Calculating tick clock\n",
      "2021-09-22 16:54:31,582 DataLoader  INFO Calculating usd volume clock\n",
      "2021-09-22 16:55:44,636 DataLoader  INFO Loading data for:20180416\n"
     ]
    },
    {
     "name": "stdout",
     "output_type": "stream",
     "text": [
      "/media/ak/LaCie/XM1_Comdty_quotes/20180416.csv\n",
      "/media/ak/LaCie/XM1_Comdty_trades/20180416.csv\n"
     ]
    },
    {
     "name": "stderr",
     "output_type": "stream",
     "text": [
      "2021-09-22 16:55:44,931 DataLoader  INFO Loading data for:20180417\n",
      "2021-09-22 16:55:45,130 DataLoader  INFO Loading data for:20180418\n"
     ]
    },
    {
     "name": "stdout",
     "output_type": "stream",
     "text": [
      "/media/ak/LaCie/XM1_Comdty_quotes/20180417.csv\n",
      "/media/ak/LaCie/XM1_Comdty_trades/20180417.csv\n",
      "/media/ak/LaCie/XM1_Comdty_quotes/20180418.csv\n",
      "/media/ak/LaCie/XM1_Comdty_trades/20180418.csv\n"
     ]
    },
    {
     "name": "stderr",
     "output_type": "stream",
     "text": [
      "2021-09-22 16:55:45,418 DataLoader  INFO Loading data for:20180419\n"
     ]
    },
    {
     "name": "stdout",
     "output_type": "stream",
     "text": [
      "/media/ak/LaCie/XM1_Comdty_quotes/20180419.csv\n",
      "/media/ak/LaCie/XM1_Comdty_trades/20180419.csv\n"
     ]
    },
    {
     "name": "stderr",
     "output_type": "stream",
     "text": [
      "2021-09-22 16:55:45,692 DataLoader  INFO Loading data for:20180420\n"
     ]
    },
    {
     "name": "stdout",
     "output_type": "stream",
     "text": [
      "/media/ak/LaCie/XM1_Comdty_quotes/20180420.csv\n",
      "/media/ak/LaCie/XM1_Comdty_trades/20180420.csv\n"
     ]
    },
    {
     "name": "stderr",
     "output_type": "stream",
     "text": [
      "2021-09-22 16:55:45,947 DataLoader  INFO Loading data for:20180423\n"
     ]
    },
    {
     "name": "stdout",
     "output_type": "stream",
     "text": [
      "/media/ak/LaCie/XM1_Comdty_quotes/20180423.csv\n",
      "/media/ak/LaCie/XM1_Comdty_trades/20180423.csv\n"
     ]
    },
    {
     "name": "stderr",
     "output_type": "stream",
     "text": [
      "2021-09-22 16:55:46,206 DataLoader  INFO Loading data for:20180424\n"
     ]
    },
    {
     "name": "stdout",
     "output_type": "stream",
     "text": [
      "/media/ak/LaCie/XM1_Comdty_quotes/20180424.csv\n",
      "/media/ak/LaCie/XM1_Comdty_trades/20180424.csv\n"
     ]
    },
    {
     "name": "stderr",
     "output_type": "stream",
     "text": [
      "2021-09-22 16:55:46,459 DataLoader  INFO Loading data for:20180425\n"
     ]
    },
    {
     "name": "stdout",
     "output_type": "stream",
     "text": [
      "/media/ak/LaCie/XM1_Comdty_quotes/20180425.csv\n",
      "/media/ak/LaCie/XM1_Comdty_trades/20180425.csv\n"
     ]
    },
    {
     "name": "stderr",
     "output_type": "stream",
     "text": [
      "2021-09-22 16:55:46,690 DataLoader  INFO Loading data for:20180426\n"
     ]
    },
    {
     "name": "stdout",
     "output_type": "stream",
     "text": [
      "/media/ak/LaCie/XM1_Comdty_quotes/20180426.csv\n",
      "/media/ak/LaCie/XM1_Comdty_trades/20180426.csv\n"
     ]
    },
    {
     "name": "stderr",
     "output_type": "stream",
     "text": [
      "2021-09-22 16:55:47,056 DataLoader  INFO Loading data for:20180427\n"
     ]
    },
    {
     "name": "stdout",
     "output_type": "stream",
     "text": [
      "/media/ak/LaCie/XM1_Comdty_quotes/20180427.csv\n",
      "/media/ak/LaCie/XM1_Comdty_trades/20180427.csv\n"
     ]
    },
    {
     "name": "stderr",
     "output_type": "stream",
     "text": [
      "2021-09-22 16:55:47,274 DataLoader  INFO Loading data for:20180430\n"
     ]
    },
    {
     "name": "stdout",
     "output_type": "stream",
     "text": [
      "/media/ak/LaCie/XM1_Comdty_quotes/20180430.csv\n",
      "/media/ak/LaCie/XM1_Comdty_trades/20180430.csv\n"
     ]
    },
    {
     "name": "stderr",
     "output_type": "stream",
     "text": [
      "2021-09-22 16:55:47,515 DataLoader  INFO Loading data for:20180501\n",
      "2021-09-22 16:55:47,703 DataLoader  INFO Loading data for:20180502\n"
     ]
    },
    {
     "name": "stdout",
     "output_type": "stream",
     "text": [
      "/media/ak/LaCie/XM1_Comdty_quotes/20180501.csv\n",
      "/media/ak/LaCie/XM1_Comdty_trades/20180501.csv\n",
      "/media/ak/LaCie/XM1_Comdty_quotes/20180502.csv\n",
      "/media/ak/LaCie/XM1_Comdty_trades/20180502.csv\n"
     ]
    },
    {
     "name": "stderr",
     "output_type": "stream",
     "text": [
      "2021-09-22 16:55:47,983 DataLoader  INFO Loading data for:20180503\n"
     ]
    },
    {
     "name": "stdout",
     "output_type": "stream",
     "text": [
      "/media/ak/LaCie/XM1_Comdty_quotes/20180503.csv\n",
      "/media/ak/LaCie/XM1_Comdty_trades/20180503.csv\n"
     ]
    },
    {
     "name": "stderr",
     "output_type": "stream",
     "text": [
      "2021-09-22 16:55:48,237 DataLoader  INFO Loading data for:20180504\n"
     ]
    },
    {
     "name": "stdout",
     "output_type": "stream",
     "text": [
      "/media/ak/LaCie/XM1_Comdty_quotes/20180504.csv\n",
      "/media/ak/LaCie/XM1_Comdty_trades/20180504.csv\n"
     ]
    },
    {
     "name": "stderr",
     "output_type": "stream",
     "text": [
      "2021-09-22 16:55:48,490 DataLoader  INFO Loading data for:20180507\n",
      "2021-09-22 16:55:48,670 DataLoader  INFO Loading data for:20180508\n"
     ]
    },
    {
     "name": "stdout",
     "output_type": "stream",
     "text": [
      "/media/ak/LaCie/XM1_Comdty_quotes/20180507.csv\n",
      "/media/ak/LaCie/XM1_Comdty_trades/20180507.csv\n",
      "/media/ak/LaCie/XM1_Comdty_quotes/20180508.csv\n",
      "/media/ak/LaCie/XM1_Comdty_trades/20180508.csv\n"
     ]
    },
    {
     "name": "stderr",
     "output_type": "stream",
     "text": [
      "2021-09-22 16:55:48,945 DataLoader  INFO Loading data for:20180509\n"
     ]
    },
    {
     "name": "stdout",
     "output_type": "stream",
     "text": [
      "/media/ak/LaCie/XM1_Comdty_quotes/20180509.csv\n",
      "/media/ak/LaCie/XM1_Comdty_trades/20180509.csv\n"
     ]
    },
    {
     "name": "stderr",
     "output_type": "stream",
     "text": [
      "2021-09-22 16:55:49,240 DataLoader  INFO Loading data for:20180510\n"
     ]
    },
    {
     "name": "stdout",
     "output_type": "stream",
     "text": [
      "/media/ak/LaCie/XM1_Comdty_quotes/20180510.csv\n",
      "/media/ak/LaCie/XM1_Comdty_trades/20180510.csv\n"
     ]
    },
    {
     "name": "stderr",
     "output_type": "stream",
     "text": [
      "2021-09-22 16:55:49,576 DataLoader  INFO Loading data for:20180511\n"
     ]
    },
    {
     "name": "stdout",
     "output_type": "stream",
     "text": [
      "/media/ak/LaCie/XM1_Comdty_quotes/20180511.csv\n",
      "/media/ak/LaCie/XM1_Comdty_trades/20180511.csv\n"
     ]
    },
    {
     "name": "stderr",
     "output_type": "stream",
     "text": [
      "2021-09-22 16:55:49,876 DataLoader  INFO Calculating calendar clock\n",
      "2021-09-22 16:55:51,247 DataLoader  INFO Calculating volume clock\n",
      "2021-09-22 16:55:53,699 DataLoader  INFO Calculating tick clock\n",
      "2021-09-22 16:55:54,276 DataLoader  INFO Calculating usd volume clock\n",
      "2021-09-22 16:56:31,529 DataLoader  INFO Loading data for:20180416\n"
     ]
    },
    {
     "name": "stdout",
     "output_type": "stream",
     "text": [
      "/media/ak/LaCie/XM1_Comdty_quotes/20180416.csv\n",
      "/media/ak/LaCie/XM1_Comdty_trades/20180416.csv\n"
     ]
    },
    {
     "name": "stderr",
     "output_type": "stream",
     "text": [
      "2021-09-22 16:56:31,804 DataLoader  INFO Loading data for:20180417\n"
     ]
    },
    {
     "name": "stdout",
     "output_type": "stream",
     "text": [
      "/media/ak/LaCie/XM1_Comdty_quotes/20180417.csv\n",
      "/media/ak/LaCie/XM1_Comdty_trades/20180417.csv\n"
     ]
    },
    {
     "name": "stderr",
     "output_type": "stream",
     "text": [
      "2021-09-22 16:56:32,027 DataLoader  INFO Loading data for:20180418\n"
     ]
    },
    {
     "name": "stdout",
     "output_type": "stream",
     "text": [
      "/media/ak/LaCie/XM1_Comdty_quotes/20180418.csv\n",
      "/media/ak/LaCie/XM1_Comdty_trades/20180418.csv\n"
     ]
    },
    {
     "name": "stderr",
     "output_type": "stream",
     "text": [
      "2021-09-22 16:56:32,298 DataLoader  INFO Loading data for:20180419\n"
     ]
    },
    {
     "name": "stdout",
     "output_type": "stream",
     "text": [
      "/media/ak/LaCie/XM1_Comdty_quotes/20180419.csv\n",
      "/media/ak/LaCie/XM1_Comdty_trades/20180419.csv\n"
     ]
    },
    {
     "name": "stderr",
     "output_type": "stream",
     "text": [
      "2021-09-22 16:56:32,646 DataLoader  INFO Loading data for:20180420\n"
     ]
    },
    {
     "name": "stdout",
     "output_type": "stream",
     "text": [
      "/media/ak/LaCie/XM1_Comdty_quotes/20180420.csv\n",
      "/media/ak/LaCie/XM1_Comdty_trades/20180420.csv\n"
     ]
    },
    {
     "name": "stderr",
     "output_type": "stream",
     "text": [
      "2021-09-22 16:56:32,893 DataLoader  INFO Loading data for:20180423\n"
     ]
    },
    {
     "name": "stdout",
     "output_type": "stream",
     "text": [
      "/media/ak/LaCie/XM1_Comdty_quotes/20180423.csv\n",
      "/media/ak/LaCie/XM1_Comdty_trades/20180423.csv\n"
     ]
    },
    {
     "name": "stderr",
     "output_type": "stream",
     "text": [
      "2021-09-22 16:56:33,244 DataLoader  INFO Loading data for:20180424\n"
     ]
    },
    {
     "name": "stdout",
     "output_type": "stream",
     "text": [
      "/media/ak/LaCie/XM1_Comdty_quotes/20180424.csv\n",
      "/media/ak/LaCie/XM1_Comdty_trades/20180424.csv\n"
     ]
    },
    {
     "name": "stderr",
     "output_type": "stream",
     "text": [
      "2021-09-22 16:56:33,552 DataLoader  INFO Loading data for:20180425\n"
     ]
    },
    {
     "name": "stdout",
     "output_type": "stream",
     "text": [
      "/media/ak/LaCie/XM1_Comdty_quotes/20180425.csv\n",
      "/media/ak/LaCie/XM1_Comdty_trades/20180425.csv\n"
     ]
    },
    {
     "name": "stderr",
     "output_type": "stream",
     "text": [
      "2021-09-22 16:56:33,811 DataLoader  INFO Loading data for:20180426\n"
     ]
    },
    {
     "name": "stdout",
     "output_type": "stream",
     "text": [
      "/media/ak/LaCie/XM1_Comdty_quotes/20180426.csv\n",
      "/media/ak/LaCie/XM1_Comdty_trades/20180426.csv\n"
     ]
    },
    {
     "name": "stderr",
     "output_type": "stream",
     "text": [
      "2021-09-22 16:56:34,238 DataLoader  INFO Loading data for:20180427\n"
     ]
    },
    {
     "name": "stdout",
     "output_type": "stream",
     "text": [
      "/media/ak/LaCie/XM1_Comdty_quotes/20180427.csv\n",
      "/media/ak/LaCie/XM1_Comdty_trades/20180427.csv\n"
     ]
    },
    {
     "name": "stderr",
     "output_type": "stream",
     "text": [
      "2021-09-22 16:56:34,462 DataLoader  INFO Loading data for:20180430\n"
     ]
    },
    {
     "name": "stdout",
     "output_type": "stream",
     "text": [
      "/media/ak/LaCie/XM1_Comdty_quotes/20180430.csv\n",
      "/media/ak/LaCie/XM1_Comdty_trades/20180430.csv\n"
     ]
    },
    {
     "name": "stderr",
     "output_type": "stream",
     "text": [
      "2021-09-22 16:56:34,747 DataLoader  INFO Loading data for:20180501\n",
      "2021-09-22 16:56:34,940 DataLoader  INFO Loading data for:20180502\n"
     ]
    },
    {
     "name": "stdout",
     "output_type": "stream",
     "text": [
      "/media/ak/LaCie/XM1_Comdty_quotes/20180501.csv\n",
      "/media/ak/LaCie/XM1_Comdty_trades/20180501.csv\n",
      "/media/ak/LaCie/XM1_Comdty_quotes/20180502.csv\n",
      "/media/ak/LaCie/XM1_Comdty_trades/20180502.csv\n"
     ]
    },
    {
     "name": "stderr",
     "output_type": "stream",
     "text": [
      "2021-09-22 16:56:35,209 DataLoader  INFO Loading data for:20180503\n"
     ]
    },
    {
     "name": "stdout",
     "output_type": "stream",
     "text": [
      "/media/ak/LaCie/XM1_Comdty_quotes/20180503.csv\n",
      "/media/ak/LaCie/XM1_Comdty_trades/20180503.csv\n"
     ]
    },
    {
     "name": "stderr",
     "output_type": "stream",
     "text": [
      "2021-09-22 16:56:35,549 DataLoader  INFO Loading data for:20180504\n"
     ]
    },
    {
     "name": "stdout",
     "output_type": "stream",
     "text": [
      "/media/ak/LaCie/XM1_Comdty_quotes/20180504.csv\n",
      "/media/ak/LaCie/XM1_Comdty_trades/20180504.csv\n"
     ]
    },
    {
     "name": "stderr",
     "output_type": "stream",
     "text": [
      "2021-09-22 16:56:35,871 DataLoader  INFO Loading data for:20180507\n",
      "2021-09-22 16:56:36,055 DataLoader  INFO Loading data for:20180508\n"
     ]
    },
    {
     "name": "stdout",
     "output_type": "stream",
     "text": [
      "/media/ak/LaCie/XM1_Comdty_quotes/20180507.csv\n",
      "/media/ak/LaCie/XM1_Comdty_trades/20180507.csv\n",
      "/media/ak/LaCie/XM1_Comdty_quotes/20180508.csv\n",
      "/media/ak/LaCie/XM1_Comdty_trades/20180508.csv\n"
     ]
    },
    {
     "name": "stderr",
     "output_type": "stream",
     "text": [
      "2021-09-22 16:56:36,334 DataLoader  INFO Loading data for:20180509\n"
     ]
    },
    {
     "name": "stdout",
     "output_type": "stream",
     "text": [
      "/media/ak/LaCie/XM1_Comdty_quotes/20180509.csv\n",
      "/media/ak/LaCie/XM1_Comdty_trades/20180509.csv\n"
     ]
    },
    {
     "name": "stderr",
     "output_type": "stream",
     "text": [
      "2021-09-22 16:56:36,601 DataLoader  INFO Loading data for:20180510\n"
     ]
    },
    {
     "name": "stdout",
     "output_type": "stream",
     "text": [
      "/media/ak/LaCie/XM1_Comdty_quotes/20180510.csv\n",
      "/media/ak/LaCie/XM1_Comdty_trades/20180510.csv\n"
     ]
    },
    {
     "name": "stderr",
     "output_type": "stream",
     "text": [
      "2021-09-22 16:56:36,989 DataLoader  INFO Loading data for:20180511\n"
     ]
    },
    {
     "name": "stdout",
     "output_type": "stream",
     "text": [
      "/media/ak/LaCie/XM1_Comdty_quotes/20180511.csv\n",
      "/media/ak/LaCie/XM1_Comdty_trades/20180511.csv\n"
     ]
    },
    {
     "name": "stderr",
     "output_type": "stream",
     "text": [
      "2021-09-22 16:56:37,234 DataLoader  INFO Calculating calendar clock\n",
      "2021-09-22 16:56:37,611 DataLoader  INFO Calculating volume clock\n",
      "2021-09-22 16:56:40,595 DataLoader  INFO Calculating tick clock\n",
      "2021-09-22 16:56:41,229 DataLoader  INFO Calculating usd volume clock\n",
      "2021-09-22 16:57:31,584 DataLoader  INFO Loading data for:20180416\n"
     ]
    },
    {
     "name": "stdout",
     "output_type": "stream",
     "text": [
      "/media/ak/LaCie/XM1_Comdty_quotes/20180416.csv\n",
      "/media/ak/LaCie/XM1_Comdty_trades/20180416.csv\n"
     ]
    },
    {
     "name": "stderr",
     "output_type": "stream",
     "text": [
      "2021-09-22 16:57:31,935 DataLoader  INFO Loading data for:20180417\n"
     ]
    },
    {
     "name": "stdout",
     "output_type": "stream",
     "text": [
      "/media/ak/LaCie/XM1_Comdty_quotes/20180417.csv\n",
      "/media/ak/LaCie/XM1_Comdty_trades/20180417.csv\n"
     ]
    },
    {
     "name": "stderr",
     "output_type": "stream",
     "text": [
      "2021-09-22 16:57:32,174 DataLoader  INFO Loading data for:20180418\n"
     ]
    },
    {
     "name": "stdout",
     "output_type": "stream",
     "text": [
      "/media/ak/LaCie/XM1_Comdty_quotes/20180418.csv\n",
      "/media/ak/LaCie/XM1_Comdty_trades/20180418.csv\n"
     ]
    },
    {
     "name": "stderr",
     "output_type": "stream",
     "text": [
      "2021-09-22 16:57:32,461 DataLoader  INFO Loading data for:20180419\n"
     ]
    },
    {
     "name": "stdout",
     "output_type": "stream",
     "text": [
      "/media/ak/LaCie/XM1_Comdty_quotes/20180419.csv\n",
      "/media/ak/LaCie/XM1_Comdty_trades/20180419.csv\n"
     ]
    },
    {
     "name": "stderr",
     "output_type": "stream",
     "text": [
      "2021-09-22 16:57:32,790 DataLoader  INFO Loading data for:20180420\n"
     ]
    },
    {
     "name": "stdout",
     "output_type": "stream",
     "text": [
      "/media/ak/LaCie/XM1_Comdty_quotes/20180420.csv\n",
      "/media/ak/LaCie/XM1_Comdty_trades/20180420.csv\n"
     ]
    },
    {
     "name": "stderr",
     "output_type": "stream",
     "text": [
      "2021-09-22 16:57:33,064 DataLoader  INFO Loading data for:20180423\n"
     ]
    },
    {
     "name": "stdout",
     "output_type": "stream",
     "text": [
      "/media/ak/LaCie/XM1_Comdty_quotes/20180423.csv\n",
      "/media/ak/LaCie/XM1_Comdty_trades/20180423.csv\n"
     ]
    },
    {
     "name": "stderr",
     "output_type": "stream",
     "text": [
      "2021-09-22 16:57:33,342 DataLoader  INFO Loading data for:20180424\n"
     ]
    },
    {
     "name": "stdout",
     "output_type": "stream",
     "text": [
      "/media/ak/LaCie/XM1_Comdty_quotes/20180424.csv\n",
      "/media/ak/LaCie/XM1_Comdty_trades/20180424.csv\n"
     ]
    },
    {
     "name": "stderr",
     "output_type": "stream",
     "text": [
      "2021-09-22 16:57:33,638 DataLoader  INFO Loading data for:20180425\n"
     ]
    },
    {
     "name": "stdout",
     "output_type": "stream",
     "text": [
      "/media/ak/LaCie/XM1_Comdty_quotes/20180425.csv\n",
      "/media/ak/LaCie/XM1_Comdty_trades/20180425.csv\n"
     ]
    },
    {
     "name": "stderr",
     "output_type": "stream",
     "text": [
      "2021-09-22 16:57:33,937 DataLoader  INFO Loading data for:20180426\n"
     ]
    },
    {
     "name": "stdout",
     "output_type": "stream",
     "text": [
      "/media/ak/LaCie/XM1_Comdty_quotes/20180426.csv\n",
      "/media/ak/LaCie/XM1_Comdty_trades/20180426.csv\n"
     ]
    },
    {
     "name": "stderr",
     "output_type": "stream",
     "text": [
      "2021-09-22 16:57:34,210 DataLoader  INFO Loading data for:20180427\n"
     ]
    },
    {
     "name": "stdout",
     "output_type": "stream",
     "text": [
      "/media/ak/LaCie/XM1_Comdty_quotes/20180427.csv\n",
      "/media/ak/LaCie/XM1_Comdty_trades/20180427.csv\n"
     ]
    },
    {
     "name": "stderr",
     "output_type": "stream",
     "text": [
      "2021-09-22 16:57:34,587 DataLoader  INFO Loading data for:20180430\n"
     ]
    },
    {
     "name": "stdout",
     "output_type": "stream",
     "text": [
      "/media/ak/LaCie/XM1_Comdty_quotes/20180430.csv\n",
      "/media/ak/LaCie/XM1_Comdty_trades/20180430.csv\n"
     ]
    },
    {
     "name": "stderr",
     "output_type": "stream",
     "text": [
      "2021-09-22 16:57:34,881 DataLoader  INFO Loading data for:20180501\n"
     ]
    },
    {
     "name": "stdout",
     "output_type": "stream",
     "text": [
      "/media/ak/LaCie/XM1_Comdty_quotes/20180501.csv\n",
      "/media/ak/LaCie/XM1_Comdty_trades/20180501.csv\n"
     ]
    },
    {
     "name": "stderr",
     "output_type": "stream",
     "text": [
      "2021-09-22 16:57:35,163 DataLoader  INFO Loading data for:20180502\n"
     ]
    },
    {
     "name": "stdout",
     "output_type": "stream",
     "text": [
      "/media/ak/LaCie/XM1_Comdty_quotes/20180502.csv\n",
      "/media/ak/LaCie/XM1_Comdty_trades/20180502.csv\n"
     ]
    },
    {
     "name": "stderr",
     "output_type": "stream",
     "text": [
      "2021-09-22 16:57:35,487 DataLoader  INFO Loading data for:20180503\n"
     ]
    },
    {
     "name": "stdout",
     "output_type": "stream",
     "text": [
      "/media/ak/LaCie/XM1_Comdty_quotes/20180503.csv\n",
      "/media/ak/LaCie/XM1_Comdty_trades/20180503.csv\n"
     ]
    },
    {
     "name": "stderr",
     "output_type": "stream",
     "text": [
      "2021-09-22 16:57:35,736 DataLoader  INFO Loading data for:20180504\n"
     ]
    },
    {
     "name": "stdout",
     "output_type": "stream",
     "text": [
      "/media/ak/LaCie/XM1_Comdty_quotes/20180504.csv\n",
      "/media/ak/LaCie/XM1_Comdty_trades/20180504.csv\n"
     ]
    },
    {
     "name": "stderr",
     "output_type": "stream",
     "text": [
      "2021-09-22 16:57:36,034 DataLoader  INFO Loading data for:20180507\n",
      "2021-09-22 16:57:36,185 DataLoader  INFO Loading data for:20180508\n"
     ]
    },
    {
     "name": "stdout",
     "output_type": "stream",
     "text": [
      "/media/ak/LaCie/XM1_Comdty_quotes/20180507.csv\n",
      "/media/ak/LaCie/XM1_Comdty_trades/20180507.csv\n",
      "/media/ak/LaCie/XM1_Comdty_quotes/20180508.csv\n",
      "/media/ak/LaCie/XM1_Comdty_trades/20180508.csv\n"
     ]
    },
    {
     "name": "stderr",
     "output_type": "stream",
     "text": [
      "2021-09-22 16:57:36,476 DataLoader  INFO Loading data for:20180509\n"
     ]
    },
    {
     "name": "stdout",
     "output_type": "stream",
     "text": [
      "/media/ak/LaCie/XM1_Comdty_quotes/20180509.csv\n",
      "/media/ak/LaCie/XM1_Comdty_trades/20180509.csv\n"
     ]
    },
    {
     "name": "stderr",
     "output_type": "stream",
     "text": [
      "2021-09-22 16:57:36,703 DataLoader  INFO Loading data for:20180510\n"
     ]
    },
    {
     "name": "stdout",
     "output_type": "stream",
     "text": [
      "/media/ak/LaCie/XM1_Comdty_quotes/20180510.csv\n",
      "/media/ak/LaCie/XM1_Comdty_trades/20180510.csv\n"
     ]
    },
    {
     "name": "stderr",
     "output_type": "stream",
     "text": [
      "2021-09-22 16:57:37,158 DataLoader  INFO Loading data for:20180511\n"
     ]
    },
    {
     "name": "stdout",
     "output_type": "stream",
     "text": [
      "/media/ak/LaCie/XM1_Comdty_quotes/20180511.csv\n",
      "/media/ak/LaCie/XM1_Comdty_trades/20180511.csv\n"
     ]
    },
    {
     "name": "stderr",
     "output_type": "stream",
     "text": [
      "2021-09-22 16:57:37,459 DataLoader  INFO Calculating calendar clock\n",
      "2021-09-22 16:57:37,904 DataLoader  INFO Calculating volume clock\n",
      "2021-09-22 16:57:40,947 DataLoader  INFO Calculating tick clock\n",
      "2021-09-22 16:57:41,763 DataLoader  INFO Calculating usd volume clock\n",
      "2021-09-22 16:58:32,310 DataLoader  INFO Loading data for:20180416\n"
     ]
    },
    {
     "name": "stdout",
     "output_type": "stream",
     "text": [
      "/media/ak/LaCie/XM1_Comdty_quotes/20180416.csv\n",
      "/media/ak/LaCie/XM1_Comdty_trades/20180416.csv\n"
     ]
    },
    {
     "name": "stderr",
     "output_type": "stream",
     "text": [
      "2021-09-22 16:58:32,652 DataLoader  INFO Loading data for:20180417\n",
      "2021-09-22 16:58:32,833 DataLoader  INFO Loading data for:20180418\n"
     ]
    },
    {
     "name": "stdout",
     "output_type": "stream",
     "text": [
      "/media/ak/LaCie/XM1_Comdty_quotes/20180417.csv\n",
      "/media/ak/LaCie/XM1_Comdty_trades/20180417.csv\n",
      "/media/ak/LaCie/XM1_Comdty_quotes/20180418.csv\n",
      "/media/ak/LaCie/XM1_Comdty_trades/20180418.csv\n"
     ]
    },
    {
     "name": "stderr",
     "output_type": "stream",
     "text": [
      "2021-09-22 16:58:33,147 DataLoader  INFO Loading data for:20180419\n"
     ]
    },
    {
     "name": "stdout",
     "output_type": "stream",
     "text": [
      "/media/ak/LaCie/XM1_Comdty_quotes/20180419.csv\n",
      "/media/ak/LaCie/XM1_Comdty_trades/20180419.csv\n"
     ]
    },
    {
     "name": "stderr",
     "output_type": "stream",
     "text": [
      "2021-09-22 16:58:33,415 DataLoader  INFO Loading data for:20180420\n"
     ]
    },
    {
     "name": "stdout",
     "output_type": "stream",
     "text": [
      "/media/ak/LaCie/XM1_Comdty_quotes/20180420.csv\n",
      "/media/ak/LaCie/XM1_Comdty_trades/20180420.csv\n"
     ]
    },
    {
     "name": "stderr",
     "output_type": "stream",
     "text": [
      "2021-09-22 16:58:33,662 DataLoader  INFO Loading data for:20180423\n"
     ]
    },
    {
     "name": "stdout",
     "output_type": "stream",
     "text": [
      "/media/ak/LaCie/XM1_Comdty_quotes/20180423.csv\n",
      "/media/ak/LaCie/XM1_Comdty_trades/20180423.csv\n"
     ]
    },
    {
     "name": "stderr",
     "output_type": "stream",
     "text": [
      "2021-09-22 16:58:33,923 DataLoader  INFO Loading data for:20180424\n"
     ]
    },
    {
     "name": "stdout",
     "output_type": "stream",
     "text": [
      "/media/ak/LaCie/XM1_Comdty_quotes/20180424.csv\n",
      "/media/ak/LaCie/XM1_Comdty_trades/20180424.csv\n"
     ]
    },
    {
     "name": "stderr",
     "output_type": "stream",
     "text": [
      "2021-09-22 16:58:34,186 DataLoader  INFO Loading data for:20180425\n"
     ]
    },
    {
     "name": "stdout",
     "output_type": "stream",
     "text": [
      "/media/ak/LaCie/XM1_Comdty_quotes/20180425.csv\n",
      "/media/ak/LaCie/XM1_Comdty_trades/20180425.csv\n"
     ]
    },
    {
     "name": "stderr",
     "output_type": "stream",
     "text": [
      "2021-09-22 16:58:34,438 DataLoader  INFO Loading data for:20180426\n"
     ]
    },
    {
     "name": "stdout",
     "output_type": "stream",
     "text": [
      "/media/ak/LaCie/XM1_Comdty_quotes/20180426.csv\n",
      "/media/ak/LaCie/XM1_Comdty_trades/20180426.csv\n"
     ]
    },
    {
     "name": "stderr",
     "output_type": "stream",
     "text": [
      "2021-09-22 16:58:34,732 DataLoader  INFO Loading data for:20180427\n"
     ]
    },
    {
     "name": "stdout",
     "output_type": "stream",
     "text": [
      "/media/ak/LaCie/XM1_Comdty_quotes/20180427.csv\n",
      "/media/ak/LaCie/XM1_Comdty_trades/20180427.csv\n"
     ]
    },
    {
     "name": "stderr",
     "output_type": "stream",
     "text": [
      "2021-09-22 16:58:35,016 DataLoader  INFO Loading data for:20180430\n"
     ]
    },
    {
     "name": "stdout",
     "output_type": "stream",
     "text": [
      "/media/ak/LaCie/XM1_Comdty_quotes/20180430.csv\n",
      "/media/ak/LaCie/XM1_Comdty_trades/20180430.csv\n"
     ]
    },
    {
     "name": "stderr",
     "output_type": "stream",
     "text": [
      "2021-09-22 16:58:35,349 DataLoader  INFO Loading data for:20180501\n",
      "2021-09-22 16:58:35,530 DataLoader  INFO Loading data for:20180502\n"
     ]
    },
    {
     "name": "stdout",
     "output_type": "stream",
     "text": [
      "/media/ak/LaCie/XM1_Comdty_quotes/20180501.csv\n",
      "/media/ak/LaCie/XM1_Comdty_trades/20180501.csv\n",
      "/media/ak/LaCie/XM1_Comdty_quotes/20180502.csv\n",
      "/media/ak/LaCie/XM1_Comdty_trades/20180502.csv\n"
     ]
    },
    {
     "name": "stderr",
     "output_type": "stream",
     "text": [
      "2021-09-22 16:58:35,859 DataLoader  INFO Loading data for:20180503\n"
     ]
    },
    {
     "name": "stdout",
     "output_type": "stream",
     "text": [
      "/media/ak/LaCie/XM1_Comdty_quotes/20180503.csv\n",
      "/media/ak/LaCie/XM1_Comdty_trades/20180503.csv\n"
     ]
    },
    {
     "name": "stderr",
     "output_type": "stream",
     "text": [
      "2021-09-22 16:58:36,172 DataLoader  INFO Loading data for:20180504\n"
     ]
    },
    {
     "name": "stdout",
     "output_type": "stream",
     "text": [
      "/media/ak/LaCie/XM1_Comdty_quotes/20180504.csv\n",
      "/media/ak/LaCie/XM1_Comdty_trades/20180504.csv\n"
     ]
    },
    {
     "name": "stderr",
     "output_type": "stream",
     "text": [
      "2021-09-22 16:58:36,605 DataLoader  INFO Loading data for:20180507\n"
     ]
    },
    {
     "name": "stdout",
     "output_type": "stream",
     "text": [
      "/media/ak/LaCie/XM1_Comdty_quotes/20180507.csv\n",
      "/media/ak/LaCie/XM1_Comdty_trades/20180507.csv\n"
     ]
    },
    {
     "name": "stderr",
     "output_type": "stream",
     "text": [
      "2021-09-22 16:58:36,876 DataLoader  INFO Loading data for:20180508\n"
     ]
    },
    {
     "name": "stdout",
     "output_type": "stream",
     "text": [
      "/media/ak/LaCie/XM1_Comdty_quotes/20180508.csv\n",
      "/media/ak/LaCie/XM1_Comdty_trades/20180508.csv\n"
     ]
    },
    {
     "name": "stderr",
     "output_type": "stream",
     "text": [
      "2021-09-22 16:58:37,164 DataLoader  INFO Loading data for:20180509\n"
     ]
    },
    {
     "name": "stdout",
     "output_type": "stream",
     "text": [
      "/media/ak/LaCie/XM1_Comdty_quotes/20180509.csv\n",
      "/media/ak/LaCie/XM1_Comdty_trades/20180509.csv\n"
     ]
    },
    {
     "name": "stderr",
     "output_type": "stream",
     "text": [
      "2021-09-22 16:58:37,394 DataLoader  INFO Loading data for:20180510\n"
     ]
    },
    {
     "name": "stdout",
     "output_type": "stream",
     "text": [
      "/media/ak/LaCie/XM1_Comdty_quotes/20180510.csv\n",
      "/media/ak/LaCie/XM1_Comdty_trades/20180510.csv\n"
     ]
    },
    {
     "name": "stderr",
     "output_type": "stream",
     "text": [
      "2021-09-22 16:58:37,706 DataLoader  INFO Loading data for:20180511\n"
     ]
    },
    {
     "name": "stdout",
     "output_type": "stream",
     "text": [
      "/media/ak/LaCie/XM1_Comdty_quotes/20180511.csv\n",
      "/media/ak/LaCie/XM1_Comdty_trades/20180511.csv\n"
     ]
    },
    {
     "name": "stderr",
     "output_type": "stream",
     "text": [
      "2021-09-22 16:58:37,950 DataLoader  INFO Calculating calendar clock\n",
      "2021-09-22 16:58:38,737 DataLoader  INFO Calculating volume clock\n",
      "2021-09-22 16:58:42,017 DataLoader  INFO Calculating tick clock\n",
      "2021-09-22 16:58:42,756 DataLoader  INFO Calculating usd volume clock\n",
      "2021-09-22 16:59:45,294 DataLoader  INFO Loading data for:20180416\n"
     ]
    },
    {
     "name": "stdout",
     "output_type": "stream",
     "text": [
      "/media/ak/LaCie/XM1_Comdty_quotes/20180416.csv\n",
      "/media/ak/LaCie/XM1_Comdty_trades/20180416.csv\n"
     ]
    },
    {
     "name": "stderr",
     "output_type": "stream",
     "text": [
      "2021-09-22 16:59:45,544 DataLoader  INFO Loading data for:20180417\n",
      "2021-09-22 16:59:45,738 DataLoader  INFO Loading data for:20180418\n"
     ]
    },
    {
     "name": "stdout",
     "output_type": "stream",
     "text": [
      "/media/ak/LaCie/XM1_Comdty_quotes/20180417.csv\n",
      "/media/ak/LaCie/XM1_Comdty_trades/20180417.csv\n",
      "/media/ak/LaCie/XM1_Comdty_quotes/20180418.csv\n",
      "/media/ak/LaCie/XM1_Comdty_trades/20180418.csv\n"
     ]
    },
    {
     "name": "stderr",
     "output_type": "stream",
     "text": [
      "2021-09-22 16:59:46,040 DataLoader  INFO Loading data for:20180419\n"
     ]
    },
    {
     "name": "stdout",
     "output_type": "stream",
     "text": [
      "/media/ak/LaCie/XM1_Comdty_quotes/20180419.csv\n",
      "/media/ak/LaCie/XM1_Comdty_trades/20180419.csv\n"
     ]
    },
    {
     "name": "stderr",
     "output_type": "stream",
     "text": [
      "2021-09-22 16:59:46,308 DataLoader  INFO Loading data for:20180420\n"
     ]
    },
    {
     "name": "stdout",
     "output_type": "stream",
     "text": [
      "/media/ak/LaCie/XM1_Comdty_quotes/20180420.csv\n",
      "/media/ak/LaCie/XM1_Comdty_trades/20180420.csv\n"
     ]
    },
    {
     "name": "stderr",
     "output_type": "stream",
     "text": [
      "2021-09-22 16:59:46,591 DataLoader  INFO Loading data for:20180423\n"
     ]
    },
    {
     "name": "stdout",
     "output_type": "stream",
     "text": [
      "/media/ak/LaCie/XM1_Comdty_quotes/20180423.csv\n",
      "/media/ak/LaCie/XM1_Comdty_trades/20180423.csv\n"
     ]
    },
    {
     "name": "stderr",
     "output_type": "stream",
     "text": [
      "2021-09-22 16:59:46,852 DataLoader  INFO Loading data for:20180424\n"
     ]
    },
    {
     "name": "stdout",
     "output_type": "stream",
     "text": [
      "/media/ak/LaCie/XM1_Comdty_quotes/20180424.csv\n",
      "/media/ak/LaCie/XM1_Comdty_trades/20180424.csv\n"
     ]
    },
    {
     "name": "stderr",
     "output_type": "stream",
     "text": [
      "2021-09-22 16:59:47,152 DataLoader  INFO Loading data for:20180425\n",
      "2021-09-22 16:59:47,349 DataLoader  INFO Loading data for:20180426\n"
     ]
    },
    {
     "name": "stdout",
     "output_type": "stream",
     "text": [
      "/media/ak/LaCie/XM1_Comdty_quotes/20180425.csv\n",
      "/media/ak/LaCie/XM1_Comdty_trades/20180425.csv\n",
      "/media/ak/LaCie/XM1_Comdty_quotes/20180426.csv\n",
      "/media/ak/LaCie/XM1_Comdty_trades/20180426.csv\n"
     ]
    },
    {
     "name": "stderr",
     "output_type": "stream",
     "text": [
      "2021-09-22 16:59:47,603 DataLoader  INFO Loading data for:20180427\n"
     ]
    },
    {
     "name": "stdout",
     "output_type": "stream",
     "text": [
      "/media/ak/LaCie/XM1_Comdty_quotes/20180427.csv\n",
      "/media/ak/LaCie/XM1_Comdty_trades/20180427.csv\n"
     ]
    },
    {
     "name": "stderr",
     "output_type": "stream",
     "text": [
      "2021-09-22 16:59:47,893 DataLoader  INFO Loading data for:20180430\n"
     ]
    },
    {
     "name": "stdout",
     "output_type": "stream",
     "text": [
      "/media/ak/LaCie/XM1_Comdty_quotes/20180430.csv\n",
      "/media/ak/LaCie/XM1_Comdty_trades/20180430.csv\n"
     ]
    },
    {
     "name": "stderr",
     "output_type": "stream",
     "text": [
      "2021-09-22 16:59:48,229 DataLoader  INFO Loading data for:20180501\n",
      "2021-09-22 16:59:48,410 DataLoader  INFO Loading data for:20180502\n"
     ]
    },
    {
     "name": "stdout",
     "output_type": "stream",
     "text": [
      "/media/ak/LaCie/XM1_Comdty_quotes/20180501.csv\n",
      "/media/ak/LaCie/XM1_Comdty_trades/20180501.csv\n",
      "/media/ak/LaCie/XM1_Comdty_quotes/20180502.csv\n",
      "/media/ak/LaCie/XM1_Comdty_trades/20180502.csv\n"
     ]
    },
    {
     "name": "stderr",
     "output_type": "stream",
     "text": [
      "2021-09-22 16:59:48,694 DataLoader  INFO Loading data for:20180503\n"
     ]
    },
    {
     "name": "stdout",
     "output_type": "stream",
     "text": [
      "/media/ak/LaCie/XM1_Comdty_quotes/20180503.csv\n",
      "/media/ak/LaCie/XM1_Comdty_trades/20180503.csv\n"
     ]
    },
    {
     "name": "stderr",
     "output_type": "stream",
     "text": [
      "2021-09-22 16:59:48,944 DataLoader  INFO Loading data for:20180504\n"
     ]
    },
    {
     "name": "stdout",
     "output_type": "stream",
     "text": [
      "/media/ak/LaCie/XM1_Comdty_quotes/20180504.csv\n",
      "/media/ak/LaCie/XM1_Comdty_trades/20180504.csv\n"
     ]
    },
    {
     "name": "stderr",
     "output_type": "stream",
     "text": [
      "2021-09-22 16:59:49,318 DataLoader  INFO Loading data for:20180507\n",
      "2021-09-22 16:59:49,495 DataLoader  INFO Loading data for:20180508\n"
     ]
    },
    {
     "name": "stdout",
     "output_type": "stream",
     "text": [
      "/media/ak/LaCie/XM1_Comdty_quotes/20180507.csv\n",
      "/media/ak/LaCie/XM1_Comdty_trades/20180507.csv\n",
      "/media/ak/LaCie/XM1_Comdty_quotes/20180508.csv\n",
      "/media/ak/LaCie/XM1_Comdty_trades/20180508.csv\n"
     ]
    },
    {
     "name": "stderr",
     "output_type": "stream",
     "text": [
      "2021-09-22 16:59:49,797 DataLoader  INFO Loading data for:20180509\n"
     ]
    },
    {
     "name": "stdout",
     "output_type": "stream",
     "text": [
      "/media/ak/LaCie/XM1_Comdty_quotes/20180509.csv\n",
      "/media/ak/LaCie/XM1_Comdty_trades/20180509.csv\n"
     ]
    },
    {
     "name": "stderr",
     "output_type": "stream",
     "text": [
      "2021-09-22 16:59:50,114 DataLoader  INFO Loading data for:20180510\n"
     ]
    },
    {
     "name": "stdout",
     "output_type": "stream",
     "text": [
      "/media/ak/LaCie/XM1_Comdty_quotes/20180510.csv\n",
      "/media/ak/LaCie/XM1_Comdty_trades/20180510.csv\n"
     ]
    },
    {
     "name": "stderr",
     "output_type": "stream",
     "text": [
      "2021-09-22 16:59:50,442 DataLoader  INFO Loading data for:20180511\n"
     ]
    },
    {
     "name": "stdout",
     "output_type": "stream",
     "text": [
      "/media/ak/LaCie/XM1_Comdty_quotes/20180511.csv\n",
      "/media/ak/LaCie/XM1_Comdty_trades/20180511.csv\n"
     ]
    },
    {
     "name": "stderr",
     "output_type": "stream",
     "text": [
      "2021-09-22 16:59:50,672 DataLoader  INFO Calculating calendar clock\n",
      "2021-09-22 16:59:51,787 DataLoader  INFO Calculating volume clock\n",
      "2021-09-22 16:59:54,330 DataLoader  INFO Calculating tick clock\n",
      "2021-09-22 16:59:55,068 DataLoader  INFO Calculating usd volume clock\n",
      "2021-09-22 17:01:02,962 DataLoader  INFO Loading data for:20180416\n"
     ]
    },
    {
     "name": "stdout",
     "output_type": "stream",
     "text": [
      "/media/ak/LaCie/XM1_Comdty_quotes/20180416.csv\n",
      "/media/ak/LaCie/XM1_Comdty_trades/20180416.csv\n"
     ]
    },
    {
     "name": "stderr",
     "output_type": "stream",
     "text": [
      "2021-09-22 17:01:03,281 DataLoader  INFO Loading data for:20180417\n",
      "2021-09-22 17:01:03,482 DataLoader  INFO Loading data for:20180418\n"
     ]
    },
    {
     "name": "stdout",
     "output_type": "stream",
     "text": [
      "/media/ak/LaCie/XM1_Comdty_quotes/20180417.csv\n",
      "/media/ak/LaCie/XM1_Comdty_trades/20180417.csv\n"
     ]
    },
    {
     "name": "stderr",
     "output_type": "stream",
     "text": [
      "2021-09-22 17:01:03,727 DataLoader  INFO Loading data for:20180419\n"
     ]
    },
    {
     "name": "stdout",
     "output_type": "stream",
     "text": [
      "/media/ak/LaCie/XM1_Comdty_quotes/20180418.csv\n",
      "/media/ak/LaCie/XM1_Comdty_trades/20180418.csv\n",
      "/media/ak/LaCie/XM1_Comdty_quotes/20180419.csv\n",
      "/media/ak/LaCie/XM1_Comdty_trades/20180419.csv\n"
     ]
    },
    {
     "name": "stderr",
     "output_type": "stream",
     "text": [
      "2021-09-22 17:01:03,988 DataLoader  INFO Loading data for:20180420\n"
     ]
    },
    {
     "name": "stdout",
     "output_type": "stream",
     "text": [
      "/media/ak/LaCie/XM1_Comdty_quotes/20180420.csv\n",
      "/media/ak/LaCie/XM1_Comdty_trades/20180420.csv\n"
     ]
    },
    {
     "name": "stderr",
     "output_type": "stream",
     "text": [
      "2021-09-22 17:01:04,242 DataLoader  INFO Loading data for:20180423\n"
     ]
    },
    {
     "name": "stdout",
     "output_type": "stream",
     "text": [
      "/media/ak/LaCie/XM1_Comdty_quotes/20180423.csv\n",
      "/media/ak/LaCie/XM1_Comdty_trades/20180423.csv\n"
     ]
    },
    {
     "name": "stderr",
     "output_type": "stream",
     "text": [
      "2021-09-22 17:01:04,609 DataLoader  INFO Loading data for:20180424\n"
     ]
    },
    {
     "name": "stdout",
     "output_type": "stream",
     "text": [
      "/media/ak/LaCie/XM1_Comdty_quotes/20180424.csv\n",
      "/media/ak/LaCie/XM1_Comdty_trades/20180424.csv\n"
     ]
    },
    {
     "name": "stderr",
     "output_type": "stream",
     "text": [
      "2021-09-22 17:01:04,856 DataLoader  INFO Loading data for:20180425\n"
     ]
    },
    {
     "name": "stdout",
     "output_type": "stream",
     "text": [
      "/media/ak/LaCie/XM1_Comdty_quotes/20180425.csv\n",
      "/media/ak/LaCie/XM1_Comdty_trades/20180425.csv\n"
     ]
    },
    {
     "name": "stderr",
     "output_type": "stream",
     "text": [
      "2021-09-22 17:01:05,128 DataLoader  INFO Loading data for:20180426\n"
     ]
    },
    {
     "name": "stdout",
     "output_type": "stream",
     "text": [
      "/media/ak/LaCie/XM1_Comdty_quotes/20180426.csv\n",
      "/media/ak/LaCie/XM1_Comdty_trades/20180426.csv\n"
     ]
    },
    {
     "name": "stderr",
     "output_type": "stream",
     "text": [
      "2021-09-22 17:01:05,374 DataLoader  INFO Loading data for:20180427\n"
     ]
    },
    {
     "name": "stdout",
     "output_type": "stream",
     "text": [
      "/media/ak/LaCie/XM1_Comdty_quotes/20180427.csv\n",
      "/media/ak/LaCie/XM1_Comdty_trades/20180427.csv\n"
     ]
    },
    {
     "name": "stderr",
     "output_type": "stream",
     "text": [
      "2021-09-22 17:01:05,621 DataLoader  INFO Loading data for:20180430\n"
     ]
    },
    {
     "name": "stdout",
     "output_type": "stream",
     "text": [
      "/media/ak/LaCie/XM1_Comdty_quotes/20180430.csv\n",
      "/media/ak/LaCie/XM1_Comdty_trades/20180430.csv\n"
     ]
    },
    {
     "name": "stderr",
     "output_type": "stream",
     "text": [
      "2021-09-22 17:01:05,918 DataLoader  INFO Loading data for:20180501\n",
      "2021-09-22 17:01:06,101 DataLoader  INFO Loading data for:20180502\n"
     ]
    },
    {
     "name": "stdout",
     "output_type": "stream",
     "text": [
      "/media/ak/LaCie/XM1_Comdty_quotes/20180501.csv\n",
      "/media/ak/LaCie/XM1_Comdty_trades/20180501.csv\n",
      "/media/ak/LaCie/XM1_Comdty_quotes/20180502.csv\n",
      "/media/ak/LaCie/XM1_Comdty_trades/20180502.csv\n"
     ]
    },
    {
     "name": "stderr",
     "output_type": "stream",
     "text": [
      "2021-09-22 17:01:06,384 DataLoader  INFO Loading data for:20180503\n"
     ]
    },
    {
     "name": "stdout",
     "output_type": "stream",
     "text": [
      "/media/ak/LaCie/XM1_Comdty_quotes/20180503.csv\n",
      "/media/ak/LaCie/XM1_Comdty_trades/20180503.csv\n"
     ]
    },
    {
     "name": "stderr",
     "output_type": "stream",
     "text": [
      "2021-09-22 17:01:06,643 DataLoader  INFO Loading data for:20180504\n"
     ]
    },
    {
     "name": "stdout",
     "output_type": "stream",
     "text": [
      "/media/ak/LaCie/XM1_Comdty_quotes/20180504.csv\n",
      "/media/ak/LaCie/XM1_Comdty_trades/20180504.csv\n"
     ]
    },
    {
     "name": "stderr",
     "output_type": "stream",
     "text": [
      "2021-09-22 17:01:06,892 DataLoader  INFO Loading data for:20180507\n",
      "2021-09-22 17:01:07,064 DataLoader  INFO Loading data for:20180508\n"
     ]
    },
    {
     "name": "stdout",
     "output_type": "stream",
     "text": [
      "/media/ak/LaCie/XM1_Comdty_quotes/20180507.csv\n",
      "/media/ak/LaCie/XM1_Comdty_trades/20180507.csv\n",
      "/media/ak/LaCie/XM1_Comdty_quotes/20180508.csv\n",
      "/media/ak/LaCie/XM1_Comdty_trades/20180508.csv\n"
     ]
    },
    {
     "name": "stderr",
     "output_type": "stream",
     "text": [
      "2021-09-22 17:01:07,356 DataLoader  INFO Loading data for:20180509\n"
     ]
    },
    {
     "name": "stdout",
     "output_type": "stream",
     "text": [
      "/media/ak/LaCie/XM1_Comdty_quotes/20180509.csv\n",
      "/media/ak/LaCie/XM1_Comdty_trades/20180509.csv\n"
     ]
    },
    {
     "name": "stderr",
     "output_type": "stream",
     "text": [
      "2021-09-22 17:01:07,678 DataLoader  INFO Loading data for:20180510\n"
     ]
    },
    {
     "name": "stdout",
     "output_type": "stream",
     "text": [
      "/media/ak/LaCie/XM1_Comdty_quotes/20180510.csv\n",
      "/media/ak/LaCie/XM1_Comdty_trades/20180510.csv\n"
     ]
    },
    {
     "name": "stderr",
     "output_type": "stream",
     "text": [
      "2021-09-22 17:01:07,980 DataLoader  INFO Loading data for:20180511\n"
     ]
    },
    {
     "name": "stdout",
     "output_type": "stream",
     "text": [
      "/media/ak/LaCie/XM1_Comdty_quotes/20180511.csv\n",
      "/media/ak/LaCie/XM1_Comdty_trades/20180511.csv\n"
     ]
    },
    {
     "name": "stderr",
     "output_type": "stream",
     "text": [
      "2021-09-22 17:01:08,215 DataLoader  INFO Calculating calendar clock\n",
      "2021-09-22 17:01:08,787 DataLoader  INFO Calculating volume clock\n",
      "2021-09-22 17:01:11,348 DataLoader  INFO Calculating tick clock\n",
      "2021-09-22 17:01:11,823 DataLoader  INFO Calculating usd volume clock\n",
      "2021-09-22 17:02:00,391 DataLoader  INFO Loading data for:20180416\n"
     ]
    },
    {
     "name": "stdout",
     "output_type": "stream",
     "text": [
      "/media/ak/LaCie/XM1_Comdty_quotes/20180416.csv\n",
      "/media/ak/LaCie/XM1_Comdty_trades/20180416.csv\n"
     ]
    },
    {
     "name": "stderr",
     "output_type": "stream",
     "text": [
      "2021-09-22 17:02:00,643 DataLoader  INFO Loading data for:20180417\n",
      "2021-09-22 17:02:00,841 DataLoader  INFO Loading data for:20180418\n"
     ]
    },
    {
     "name": "stdout",
     "output_type": "stream",
     "text": [
      "/media/ak/LaCie/XM1_Comdty_quotes/20180417.csv\n",
      "/media/ak/LaCie/XM1_Comdty_trades/20180417.csv\n",
      "/media/ak/LaCie/XM1_Comdty_quotes/20180418.csv\n",
      "/media/ak/LaCie/XM1_Comdty_trades/20180418.csv\n"
     ]
    },
    {
     "name": "stderr",
     "output_type": "stream",
     "text": [
      "2021-09-22 17:02:01,093 DataLoader  INFO Loading data for:20180419\n"
     ]
    },
    {
     "name": "stdout",
     "output_type": "stream",
     "text": [
      "/media/ak/LaCie/XM1_Comdty_quotes/20180419.csv\n",
      "/media/ak/LaCie/XM1_Comdty_trades/20180419.csv\n"
     ]
    },
    {
     "name": "stderr",
     "output_type": "stream",
     "text": [
      "2021-09-22 17:02:01,393 DataLoader  INFO Loading data for:20180420\n"
     ]
    },
    {
     "name": "stdout",
     "output_type": "stream",
     "text": [
      "/media/ak/LaCie/XM1_Comdty_quotes/20180420.csv\n",
      "/media/ak/LaCie/XM1_Comdty_trades/20180420.csv\n"
     ]
    },
    {
     "name": "stderr",
     "output_type": "stream",
     "text": [
      "2021-09-22 17:02:01,705 DataLoader  INFO Loading data for:20180423\n"
     ]
    },
    {
     "name": "stdout",
     "output_type": "stream",
     "text": [
      "/media/ak/LaCie/XM1_Comdty_quotes/20180423.csv\n",
      "/media/ak/LaCie/XM1_Comdty_trades/20180423.csv\n"
     ]
    },
    {
     "name": "stderr",
     "output_type": "stream",
     "text": [
      "2021-09-22 17:02:02,076 DataLoader  INFO Loading data for:20180424\n"
     ]
    },
    {
     "name": "stdout",
     "output_type": "stream",
     "text": [
      "/media/ak/LaCie/XM1_Comdty_quotes/20180424.csv\n",
      "/media/ak/LaCie/XM1_Comdty_trades/20180424.csv\n"
     ]
    },
    {
     "name": "stderr",
     "output_type": "stream",
     "text": [
      "2021-09-22 17:02:02,361 DataLoader  INFO Loading data for:20180425\n"
     ]
    },
    {
     "name": "stdout",
     "output_type": "stream",
     "text": [
      "/media/ak/LaCie/XM1_Comdty_quotes/20180425.csv\n",
      "/media/ak/LaCie/XM1_Comdty_trades/20180425.csv\n"
     ]
    },
    {
     "name": "stderr",
     "output_type": "stream",
     "text": [
      "2021-09-22 17:02:02,678 DataLoader  INFO Loading data for:20180426\n"
     ]
    },
    {
     "name": "stdout",
     "output_type": "stream",
     "text": [
      "/media/ak/LaCie/XM1_Comdty_quotes/20180426.csv\n",
      "/media/ak/LaCie/XM1_Comdty_trades/20180426.csv\n"
     ]
    },
    {
     "name": "stderr",
     "output_type": "stream",
     "text": [
      "2021-09-22 17:02:02,921 DataLoader  INFO Loading data for:20180427\n"
     ]
    },
    {
     "name": "stdout",
     "output_type": "stream",
     "text": [
      "/media/ak/LaCie/XM1_Comdty_quotes/20180427.csv\n",
      "/media/ak/LaCie/XM1_Comdty_trades/20180427.csv\n"
     ]
    },
    {
     "name": "stderr",
     "output_type": "stream",
     "text": [
      "2021-09-22 17:02:03,152 DataLoader  INFO Loading data for:20180430\n"
     ]
    },
    {
     "name": "stdout",
     "output_type": "stream",
     "text": [
      "/media/ak/LaCie/XM1_Comdty_quotes/20180430.csv\n",
      "/media/ak/LaCie/XM1_Comdty_trades/20180430.csv\n"
     ]
    },
    {
     "name": "stderr",
     "output_type": "stream",
     "text": [
      "2021-09-22 17:02:03,396 DataLoader  INFO Loading data for:20180501\n",
      "2021-09-22 17:02:03,574 DataLoader  INFO Loading data for:20180502\n"
     ]
    },
    {
     "name": "stdout",
     "output_type": "stream",
     "text": [
      "/media/ak/LaCie/XM1_Comdty_quotes/20180501.csv\n",
      "/media/ak/LaCie/XM1_Comdty_trades/20180501.csv\n",
      "/media/ak/LaCie/XM1_Comdty_quotes/20180502.csv\n",
      "/media/ak/LaCie/XM1_Comdty_trades/20180502.csv\n"
     ]
    },
    {
     "name": "stderr",
     "output_type": "stream",
     "text": [
      "2021-09-22 17:02:03,840 DataLoader  INFO Loading data for:20180503\n"
     ]
    },
    {
     "name": "stdout",
     "output_type": "stream",
     "text": [
      "/media/ak/LaCie/XM1_Comdty_quotes/20180503.csv\n",
      "/media/ak/LaCie/XM1_Comdty_trades/20180503.csv\n"
     ]
    },
    {
     "name": "stderr",
     "output_type": "stream",
     "text": [
      "2021-09-22 17:02:04,070 DataLoader  INFO Loading data for:20180504\n"
     ]
    },
    {
     "name": "stdout",
     "output_type": "stream",
     "text": [
      "/media/ak/LaCie/XM1_Comdty_quotes/20180504.csv\n",
      "/media/ak/LaCie/XM1_Comdty_trades/20180504.csv\n"
     ]
    },
    {
     "name": "stderr",
     "output_type": "stream",
     "text": [
      "2021-09-22 17:02:04,332 DataLoader  INFO Loading data for:20180507\n",
      "2021-09-22 17:02:04,517 DataLoader  INFO Loading data for:20180508\n"
     ]
    },
    {
     "name": "stdout",
     "output_type": "stream",
     "text": [
      "/media/ak/LaCie/XM1_Comdty_quotes/20180507.csv\n",
      "/media/ak/LaCie/XM1_Comdty_trades/20180507.csv\n",
      "/media/ak/LaCie/XM1_Comdty_quotes/20180508.csv\n",
      "/media/ak/LaCie/XM1_Comdty_trades/20180508.csv\n"
     ]
    },
    {
     "name": "stderr",
     "output_type": "stream",
     "text": [
      "2021-09-22 17:02:04,837 DataLoader  INFO Loading data for:20180509\n"
     ]
    },
    {
     "name": "stdout",
     "output_type": "stream",
     "text": [
      "/media/ak/LaCie/XM1_Comdty_quotes/20180509.csv\n",
      "/media/ak/LaCie/XM1_Comdty_trades/20180509.csv\n"
     ]
    },
    {
     "name": "stderr",
     "output_type": "stream",
     "text": [
      "2021-09-22 17:02:05,075 DataLoader  INFO Loading data for:20180510\n"
     ]
    },
    {
     "name": "stdout",
     "output_type": "stream",
     "text": [
      "/media/ak/LaCie/XM1_Comdty_quotes/20180510.csv\n",
      "/media/ak/LaCie/XM1_Comdty_trades/20180510.csv\n"
     ]
    },
    {
     "name": "stderr",
     "output_type": "stream",
     "text": [
      "2021-09-22 17:02:05,413 DataLoader  INFO Loading data for:20180511\n"
     ]
    },
    {
     "name": "stdout",
     "output_type": "stream",
     "text": [
      "/media/ak/LaCie/XM1_Comdty_quotes/20180511.csv\n",
      "/media/ak/LaCie/XM1_Comdty_trades/20180511.csv\n"
     ]
    },
    {
     "name": "stderr",
     "output_type": "stream",
     "text": [
      "2021-09-22 17:02:05,693 DataLoader  INFO Calculating calendar clock\n",
      "2021-09-22 17:02:06,233 DataLoader  INFO Calculating volume clock\n",
      "2021-09-22 17:02:09,778 DataLoader  INFO Calculating tick clock\n",
      "2021-09-22 17:02:10,537 DataLoader  INFO Calculating usd volume clock\n",
      "2021-09-22 17:03:12,211 DataLoader  INFO Loading data for:20180416\n"
     ]
    },
    {
     "name": "stdout",
     "output_type": "stream",
     "text": [
      "/media/ak/LaCie/XM1_Comdty_quotes/20180416.csv\n",
      "/media/ak/LaCie/XM1_Comdty_trades/20180416.csv\n"
     ]
    },
    {
     "name": "stderr",
     "output_type": "stream",
     "text": [
      "2021-09-22 17:03:12,541 DataLoader  INFO Loading data for:20180417\n"
     ]
    },
    {
     "name": "stdout",
     "output_type": "stream",
     "text": [
      "/media/ak/LaCie/XM1_Comdty_quotes/20180417.csv\n",
      "/media/ak/LaCie/XM1_Comdty_trades/20180417.csv\n"
     ]
    },
    {
     "name": "stderr",
     "output_type": "stream",
     "text": [
      "2021-09-22 17:03:12,773 DataLoader  INFO Loading data for:20180418\n"
     ]
    },
    {
     "name": "stdout",
     "output_type": "stream",
     "text": [
      "/media/ak/LaCie/XM1_Comdty_quotes/20180418.csv\n",
      "/media/ak/LaCie/XM1_Comdty_trades/20180418.csv\n"
     ]
    },
    {
     "name": "stderr",
     "output_type": "stream",
     "text": [
      "2021-09-22 17:03:13,080 DataLoader  INFO Loading data for:20180419\n"
     ]
    },
    {
     "name": "stdout",
     "output_type": "stream",
     "text": [
      "/media/ak/LaCie/XM1_Comdty_quotes/20180419.csv\n",
      "/media/ak/LaCie/XM1_Comdty_trades/20180419.csv\n"
     ]
    },
    {
     "name": "stderr",
     "output_type": "stream",
     "text": [
      "2021-09-22 17:03:13,443 DataLoader  INFO Loading data for:20180420\n"
     ]
    },
    {
     "name": "stdout",
     "output_type": "stream",
     "text": [
      "/media/ak/LaCie/XM1_Comdty_quotes/20180420.csv\n",
      "/media/ak/LaCie/XM1_Comdty_trades/20180420.csv\n"
     ]
    },
    {
     "name": "stderr",
     "output_type": "stream",
     "text": [
      "2021-09-22 17:03:13,694 DataLoader  INFO Loading data for:20180423\n"
     ]
    },
    {
     "name": "stdout",
     "output_type": "stream",
     "text": [
      "/media/ak/LaCie/XM1_Comdty_quotes/20180423.csv\n",
      "/media/ak/LaCie/XM1_Comdty_trades/20180423.csv\n"
     ]
    },
    {
     "name": "stderr",
     "output_type": "stream",
     "text": [
      "2021-09-22 17:03:14,008 DataLoader  INFO Loading data for:20180424\n"
     ]
    },
    {
     "name": "stdout",
     "output_type": "stream",
     "text": [
      "/media/ak/LaCie/XM1_Comdty_quotes/20180424.csv\n",
      "/media/ak/LaCie/XM1_Comdty_trades/20180424.csv\n"
     ]
    },
    {
     "name": "stderr",
     "output_type": "stream",
     "text": [
      "2021-09-22 17:03:14,340 DataLoader  INFO Loading data for:20180425\n"
     ]
    },
    {
     "name": "stdout",
     "output_type": "stream",
     "text": [
      "/media/ak/LaCie/XM1_Comdty_quotes/20180425.csv\n",
      "/media/ak/LaCie/XM1_Comdty_trades/20180425.csv\n"
     ]
    },
    {
     "name": "stderr",
     "output_type": "stream",
     "text": [
      "2021-09-22 17:03:14,590 DataLoader  INFO Loading data for:20180426\n"
     ]
    },
    {
     "name": "stdout",
     "output_type": "stream",
     "text": [
      "/media/ak/LaCie/XM1_Comdty_quotes/20180426.csv\n",
      "/media/ak/LaCie/XM1_Comdty_trades/20180426.csv\n"
     ]
    },
    {
     "name": "stderr",
     "output_type": "stream",
     "text": [
      "2021-09-22 17:03:14,909 DataLoader  INFO Loading data for:20180427\n"
     ]
    },
    {
     "name": "stdout",
     "output_type": "stream",
     "text": [
      "/media/ak/LaCie/XM1_Comdty_quotes/20180427.csv\n",
      "/media/ak/LaCie/XM1_Comdty_trades/20180427.csv\n"
     ]
    },
    {
     "name": "stderr",
     "output_type": "stream",
     "text": [
      "2021-09-22 17:03:15,144 DataLoader  INFO Loading data for:20180430\n"
     ]
    },
    {
     "name": "stdout",
     "output_type": "stream",
     "text": [
      "/media/ak/LaCie/XM1_Comdty_quotes/20180430.csv\n",
      "/media/ak/LaCie/XM1_Comdty_trades/20180430.csv\n"
     ]
    },
    {
     "name": "stderr",
     "output_type": "stream",
     "text": [
      "2021-09-22 17:03:15,389 DataLoader  INFO Loading data for:20180501\n",
      "2021-09-22 17:03:15,585 DataLoader  INFO Loading data for:20180502\n"
     ]
    },
    {
     "name": "stdout",
     "output_type": "stream",
     "text": [
      "/media/ak/LaCie/XM1_Comdty_quotes/20180501.csv\n",
      "/media/ak/LaCie/XM1_Comdty_trades/20180501.csv\n",
      "/media/ak/LaCie/XM1_Comdty_quotes/20180502.csv\n",
      "/media/ak/LaCie/XM1_Comdty_trades/20180502.csv\n"
     ]
    },
    {
     "name": "stderr",
     "output_type": "stream",
     "text": [
      "2021-09-22 17:03:15,844 DataLoader  INFO Loading data for:20180503\n"
     ]
    },
    {
     "name": "stdout",
     "output_type": "stream",
     "text": [
      "/media/ak/LaCie/XM1_Comdty_quotes/20180503.csv\n",
      "/media/ak/LaCie/XM1_Comdty_trades/20180503.csv\n"
     ]
    },
    {
     "name": "stderr",
     "output_type": "stream",
     "text": [
      "2021-09-22 17:03:16,071 DataLoader  INFO Loading data for:20180504\n"
     ]
    },
    {
     "name": "stdout",
     "output_type": "stream",
     "text": [
      "/media/ak/LaCie/XM1_Comdty_quotes/20180504.csv\n",
      "/media/ak/LaCie/XM1_Comdty_trades/20180504.csv\n"
     ]
    },
    {
     "name": "stderr",
     "output_type": "stream",
     "text": [
      "2021-09-22 17:03:16,338 DataLoader  INFO Loading data for:20180507\n",
      "2021-09-22 17:03:16,509 DataLoader  INFO Loading data for:20180508\n"
     ]
    },
    {
     "name": "stdout",
     "output_type": "stream",
     "text": [
      "/media/ak/LaCie/XM1_Comdty_quotes/20180507.csv\n",
      "/media/ak/LaCie/XM1_Comdty_trades/20180507.csv\n",
      "/media/ak/LaCie/XM1_Comdty_quotes/20180508.csv\n",
      "/media/ak/LaCie/XM1_Comdty_trades/20180508.csv\n"
     ]
    },
    {
     "name": "stderr",
     "output_type": "stream",
     "text": [
      "2021-09-22 17:03:16,786 DataLoader  INFO Loading data for:20180509\n"
     ]
    },
    {
     "name": "stdout",
     "output_type": "stream",
     "text": [
      "/media/ak/LaCie/XM1_Comdty_quotes/20180509.csv\n",
      "/media/ak/LaCie/XM1_Comdty_trades/20180509.csv\n"
     ]
    },
    {
     "name": "stderr",
     "output_type": "stream",
     "text": [
      "2021-09-22 17:03:17,132 DataLoader  INFO Loading data for:20180510\n"
     ]
    },
    {
     "name": "stdout",
     "output_type": "stream",
     "text": [
      "/media/ak/LaCie/XM1_Comdty_quotes/20180510.csv\n",
      "/media/ak/LaCie/XM1_Comdty_trades/20180510.csv\n"
     ]
    },
    {
     "name": "stderr",
     "output_type": "stream",
     "text": [
      "2021-09-22 17:03:17,526 DataLoader  INFO Loading data for:20180511\n"
     ]
    },
    {
     "name": "stdout",
     "output_type": "stream",
     "text": [
      "/media/ak/LaCie/XM1_Comdty_quotes/20180511.csv\n",
      "/media/ak/LaCie/XM1_Comdty_trades/20180511.csv\n"
     ]
    },
    {
     "name": "stderr",
     "output_type": "stream",
     "text": [
      "2021-09-22 17:03:18,061 DataLoader  INFO Calculating calendar clock\n",
      "2021-09-22 17:03:18,773 DataLoader  INFO Calculating volume clock\n",
      "2021-09-22 17:03:24,101 DataLoader  INFO Calculating tick clock\n",
      "2021-09-22 17:03:24,920 DataLoader  INFO Calculating usd volume clock\n",
      "2021-09-22 17:04:20,144 DataLoader  INFO Loading data for:20180416\n"
     ]
    },
    {
     "name": "stdout",
     "output_type": "stream",
     "text": [
      "/media/ak/LaCie/XM1_Comdty_quotes/20180416.csv\n",
      "/media/ak/LaCie/XM1_Comdty_trades/20180416.csv\n"
     ]
    },
    {
     "name": "stderr",
     "output_type": "stream",
     "text": [
      "2021-09-22 17:04:20,422 DataLoader  INFO Loading data for:20180417\n"
     ]
    },
    {
     "name": "stdout",
     "output_type": "stream",
     "text": [
      "/media/ak/LaCie/XM1_Comdty_quotes/20180417.csv\n",
      "/media/ak/LaCie/XM1_Comdty_trades/20180417.csv\n"
     ]
    },
    {
     "name": "stderr",
     "output_type": "stream",
     "text": [
      "2021-09-22 17:04:20,662 DataLoader  INFO Loading data for:20180418\n"
     ]
    },
    {
     "name": "stdout",
     "output_type": "stream",
     "text": [
      "/media/ak/LaCie/XM1_Comdty_quotes/20180418.csv\n",
      "/media/ak/LaCie/XM1_Comdty_trades/20180418.csv\n"
     ]
    },
    {
     "name": "stderr",
     "output_type": "stream",
     "text": [
      "2021-09-22 17:04:20,982 DataLoader  INFO Loading data for:20180419\n"
     ]
    },
    {
     "name": "stdout",
     "output_type": "stream",
     "text": [
      "/media/ak/LaCie/XM1_Comdty_quotes/20180419.csv\n",
      "/media/ak/LaCie/XM1_Comdty_trades/20180419.csv\n"
     ]
    },
    {
     "name": "stderr",
     "output_type": "stream",
     "text": [
      "2021-09-22 17:04:21,262 DataLoader  INFO Loading data for:20180420\n"
     ]
    },
    {
     "name": "stdout",
     "output_type": "stream",
     "text": [
      "/media/ak/LaCie/XM1_Comdty_quotes/20180420.csv\n",
      "/media/ak/LaCie/XM1_Comdty_trades/20180420.csv\n"
     ]
    },
    {
     "name": "stderr",
     "output_type": "stream",
     "text": [
      "2021-09-22 17:04:21,576 DataLoader  INFO Loading data for:20180423\n"
     ]
    },
    {
     "name": "stdout",
     "output_type": "stream",
     "text": [
      "/media/ak/LaCie/XM1_Comdty_quotes/20180423.csv\n",
      "/media/ak/LaCie/XM1_Comdty_trades/20180423.csv\n"
     ]
    },
    {
     "name": "stderr",
     "output_type": "stream",
     "text": [
      "2021-09-22 17:04:21,870 DataLoader  INFO Loading data for:20180424\n"
     ]
    },
    {
     "name": "stdout",
     "output_type": "stream",
     "text": [
      "/media/ak/LaCie/XM1_Comdty_quotes/20180424.csv\n",
      "/media/ak/LaCie/XM1_Comdty_trades/20180424.csv\n"
     ]
    },
    {
     "name": "stderr",
     "output_type": "stream",
     "text": [
      "2021-09-22 17:04:22,242 DataLoader  INFO Loading data for:20180425\n"
     ]
    },
    {
     "name": "stdout",
     "output_type": "stream",
     "text": [
      "/media/ak/LaCie/XM1_Comdty_quotes/20180425.csv\n",
      "/media/ak/LaCie/XM1_Comdty_trades/20180425.csv\n"
     ]
    },
    {
     "name": "stderr",
     "output_type": "stream",
     "text": [
      "2021-09-22 17:04:22,551 DataLoader  INFO Loading data for:20180426\n"
     ]
    },
    {
     "name": "stdout",
     "output_type": "stream",
     "text": [
      "/media/ak/LaCie/XM1_Comdty_quotes/20180426.csv\n",
      "/media/ak/LaCie/XM1_Comdty_trades/20180426.csv\n"
     ]
    },
    {
     "name": "stderr",
     "output_type": "stream",
     "text": [
      "2021-09-22 17:04:22,835 DataLoader  INFO Loading data for:20180427\n"
     ]
    },
    {
     "name": "stdout",
     "output_type": "stream",
     "text": [
      "/media/ak/LaCie/XM1_Comdty_quotes/20180427.csv\n",
      "/media/ak/LaCie/XM1_Comdty_trades/20180427.csv\n"
     ]
    },
    {
     "name": "stderr",
     "output_type": "stream",
     "text": [
      "2021-09-22 17:04:23,080 DataLoader  INFO Loading data for:20180430\n"
     ]
    },
    {
     "name": "stdout",
     "output_type": "stream",
     "text": [
      "/media/ak/LaCie/XM1_Comdty_quotes/20180430.csv\n",
      "/media/ak/LaCie/XM1_Comdty_trades/20180430.csv\n"
     ]
    },
    {
     "name": "stderr",
     "output_type": "stream",
     "text": [
      "2021-09-22 17:04:23,352 DataLoader  INFO Loading data for:20180501\n"
     ]
    },
    {
     "name": "stdout",
     "output_type": "stream",
     "text": [
      "/media/ak/LaCie/XM1_Comdty_quotes/20180501.csv\n",
      "/media/ak/LaCie/XM1_Comdty_trades/20180501.csv\n"
     ]
    },
    {
     "name": "stderr",
     "output_type": "stream",
     "text": [
      "2021-09-22 17:04:23,676 DataLoader  INFO Loading data for:20180502\n"
     ]
    },
    {
     "name": "stdout",
     "output_type": "stream",
     "text": [
      "/media/ak/LaCie/XM1_Comdty_quotes/20180502.csv\n",
      "/media/ak/LaCie/XM1_Comdty_trades/20180502.csv\n"
     ]
    },
    {
     "name": "stderr",
     "output_type": "stream",
     "text": [
      "2021-09-22 17:04:24,590 DataLoader  INFO Loading data for:20180503\n"
     ]
    },
    {
     "name": "stdout",
     "output_type": "stream",
     "text": [
      "/media/ak/LaCie/XM1_Comdty_quotes/20180503.csv\n",
      "/media/ak/LaCie/XM1_Comdty_trades/20180503.csv\n"
     ]
    },
    {
     "name": "stderr",
     "output_type": "stream",
     "text": [
      "2021-09-22 17:04:25,197 DataLoader  INFO Loading data for:20180504\n"
     ]
    },
    {
     "name": "stdout",
     "output_type": "stream",
     "text": [
      "/media/ak/LaCie/XM1_Comdty_quotes/20180504.csv\n",
      "/media/ak/LaCie/XM1_Comdty_trades/20180504.csv\n"
     ]
    },
    {
     "name": "stderr",
     "output_type": "stream",
     "text": [
      "2021-09-22 17:04:25,496 DataLoader  INFO Loading data for:20180507\n"
     ]
    },
    {
     "name": "stdout",
     "output_type": "stream",
     "text": [
      "/media/ak/LaCie/XM1_Comdty_quotes/20180507.csv\n",
      "/media/ak/LaCie/XM1_Comdty_trades/20180507.csv\n"
     ]
    },
    {
     "name": "stderr",
     "output_type": "stream",
     "text": [
      "2021-09-22 17:04:25,841 DataLoader  INFO Loading data for:20180508\n"
     ]
    },
    {
     "name": "stdout",
     "output_type": "stream",
     "text": [
      "/media/ak/LaCie/XM1_Comdty_quotes/20180508.csv\n",
      "/media/ak/LaCie/XM1_Comdty_trades/20180508.csv\n"
     ]
    },
    {
     "name": "stderr",
     "output_type": "stream",
     "text": [
      "2021-09-22 17:04:26,106 DataLoader  INFO Loading data for:20180509\n"
     ]
    },
    {
     "name": "stdout",
     "output_type": "stream",
     "text": [
      "/media/ak/LaCie/XM1_Comdty_quotes/20180509.csv\n",
      "/media/ak/LaCie/XM1_Comdty_trades/20180509.csv\n"
     ]
    },
    {
     "name": "stderr",
     "output_type": "stream",
     "text": [
      "2021-09-22 17:04:26,330 DataLoader  INFO Loading data for:20180510\n"
     ]
    },
    {
     "name": "stdout",
     "output_type": "stream",
     "text": [
      "/media/ak/LaCie/XM1_Comdty_quotes/20180510.csv\n",
      "/media/ak/LaCie/XM1_Comdty_trades/20180510.csv\n"
     ]
    },
    {
     "name": "stderr",
     "output_type": "stream",
     "text": [
      "2021-09-22 17:04:26,634 DataLoader  INFO Loading data for:20180511\n"
     ]
    },
    {
     "name": "stdout",
     "output_type": "stream",
     "text": [
      "/media/ak/LaCie/XM1_Comdty_quotes/20180511.csv\n",
      "/media/ak/LaCie/XM1_Comdty_trades/20180511.csv\n"
     ]
    },
    {
     "name": "stderr",
     "output_type": "stream",
     "text": [
      "2021-09-22 17:04:26,963 DataLoader  INFO Calculating calendar clock\n",
      "2021-09-22 17:04:30,196 DataLoader  INFO Calculating volume clock\n",
      "2021-09-22 17:04:34,179 DataLoader  INFO Calculating tick clock\n",
      "2021-09-22 17:04:35,212 DataLoader  INFO Calculating usd volume clock\n",
      "2021-09-22 17:05:57,365 DataLoader  INFO Loading data for:20180416\n"
     ]
    },
    {
     "name": "stdout",
     "output_type": "stream",
     "text": [
      "/media/ak/LaCie/XM1_Comdty_quotes/20180416.csv\n",
      "/media/ak/LaCie/XM1_Comdty_trades/20180416.csv\n"
     ]
    },
    {
     "name": "stderr",
     "output_type": "stream",
     "text": [
      "2021-09-22 17:05:57,731 DataLoader  INFO Loading data for:20180417\n"
     ]
    },
    {
     "name": "stdout",
     "output_type": "stream",
     "text": [
      "/media/ak/LaCie/XM1_Comdty_quotes/20180417.csv\n",
      "/media/ak/LaCie/XM1_Comdty_trades/20180417.csv\n"
     ]
    },
    {
     "name": "stderr",
     "output_type": "stream",
     "text": [
      "2021-09-22 17:05:57,969 DataLoader  INFO Loading data for:20180418\n"
     ]
    },
    {
     "name": "stdout",
     "output_type": "stream",
     "text": [
      "/media/ak/LaCie/XM1_Comdty_quotes/20180418.csv\n",
      "/media/ak/LaCie/XM1_Comdty_trades/20180418.csv\n"
     ]
    },
    {
     "name": "stderr",
     "output_type": "stream",
     "text": [
      "2021-09-22 17:05:58,259 DataLoader  INFO Loading data for:20180419\n"
     ]
    },
    {
     "name": "stdout",
     "output_type": "stream",
     "text": [
      "/media/ak/LaCie/XM1_Comdty_quotes/20180419.csv\n",
      "/media/ak/LaCie/XM1_Comdty_trades/20180419.csv\n"
     ]
    },
    {
     "name": "stderr",
     "output_type": "stream",
     "text": [
      "2021-09-22 17:05:58,612 DataLoader  INFO Loading data for:20180420\n"
     ]
    },
    {
     "name": "stdout",
     "output_type": "stream",
     "text": [
      "/media/ak/LaCie/XM1_Comdty_quotes/20180420.csv\n",
      "/media/ak/LaCie/XM1_Comdty_trades/20180420.csv\n"
     ]
    },
    {
     "name": "stderr",
     "output_type": "stream",
     "text": [
      "2021-09-22 17:05:58,961 DataLoader  INFO Loading data for:20180423\n"
     ]
    },
    {
     "name": "stdout",
     "output_type": "stream",
     "text": [
      "/media/ak/LaCie/XM1_Comdty_quotes/20180423.csv\n",
      "/media/ak/LaCie/XM1_Comdty_trades/20180423.csv\n"
     ]
    },
    {
     "name": "stderr",
     "output_type": "stream",
     "text": [
      "2021-09-22 17:05:59,350 DataLoader  INFO Loading data for:20180424\n"
     ]
    },
    {
     "name": "stdout",
     "output_type": "stream",
     "text": [
      "/media/ak/LaCie/XM1_Comdty_quotes/20180424.csv\n",
      "/media/ak/LaCie/XM1_Comdty_trades/20180424.csv\n"
     ]
    },
    {
     "name": "stderr",
     "output_type": "stream",
     "text": [
      "2021-09-22 17:05:59,673 DataLoader  INFO Loading data for:20180425\n"
     ]
    },
    {
     "name": "stdout",
     "output_type": "stream",
     "text": [
      "/media/ak/LaCie/XM1_Comdty_quotes/20180425.csv\n",
      "/media/ak/LaCie/XM1_Comdty_trades/20180425.csv\n"
     ]
    },
    {
     "name": "stderr",
     "output_type": "stream",
     "text": [
      "2021-09-22 17:05:59,935 DataLoader  INFO Loading data for:20180426\n"
     ]
    },
    {
     "name": "stdout",
     "output_type": "stream",
     "text": [
      "/media/ak/LaCie/XM1_Comdty_quotes/20180426.csv\n",
      "/media/ak/LaCie/XM1_Comdty_trades/20180426.csv\n"
     ]
    },
    {
     "name": "stderr",
     "output_type": "stream",
     "text": [
      "2021-09-22 17:06:00,391 DataLoader  INFO Loading data for:20180427\n"
     ]
    },
    {
     "name": "stdout",
     "output_type": "stream",
     "text": [
      "/media/ak/LaCie/XM1_Comdty_quotes/20180427.csv\n",
      "/media/ak/LaCie/XM1_Comdty_trades/20180427.csv\n"
     ]
    },
    {
     "name": "stderr",
     "output_type": "stream",
     "text": [
      "2021-09-22 17:06:00,726 DataLoader  INFO Loading data for:20180430\n"
     ]
    },
    {
     "name": "stdout",
     "output_type": "stream",
     "text": [
      "/media/ak/LaCie/XM1_Comdty_quotes/20180430.csv\n",
      "/media/ak/LaCie/XM1_Comdty_trades/20180430.csv\n"
     ]
    },
    {
     "name": "stderr",
     "output_type": "stream",
     "text": [
      "2021-09-22 17:06:01,089 DataLoader  INFO Loading data for:20180501\n"
     ]
    },
    {
     "name": "stdout",
     "output_type": "stream",
     "text": [
      "/media/ak/LaCie/XM1_Comdty_quotes/20180501.csv\n",
      "/media/ak/LaCie/XM1_Comdty_trades/20180501.csv\n"
     ]
    },
    {
     "name": "stderr",
     "output_type": "stream",
     "text": [
      "2021-09-22 17:06:01,338 DataLoader  INFO Loading data for:20180502\n"
     ]
    },
    {
     "name": "stdout",
     "output_type": "stream",
     "text": [
      "/media/ak/LaCie/XM1_Comdty_quotes/20180502.csv\n",
      "/media/ak/LaCie/XM1_Comdty_trades/20180502.csv\n"
     ]
    },
    {
     "name": "stderr",
     "output_type": "stream",
     "text": [
      "2021-09-22 17:06:01,706 DataLoader  INFO Loading data for:20180503\n"
     ]
    },
    {
     "name": "stdout",
     "output_type": "stream",
     "text": [
      "/media/ak/LaCie/XM1_Comdty_quotes/20180503.csv\n",
      "/media/ak/LaCie/XM1_Comdty_trades/20180503.csv\n"
     ]
    },
    {
     "name": "stderr",
     "output_type": "stream",
     "text": [
      "2021-09-22 17:06:02,002 DataLoader  INFO Loading data for:20180504\n"
     ]
    },
    {
     "name": "stdout",
     "output_type": "stream",
     "text": [
      "/media/ak/LaCie/XM1_Comdty_quotes/20180504.csv\n",
      "/media/ak/LaCie/XM1_Comdty_trades/20180504.csv\n"
     ]
    },
    {
     "name": "stderr",
     "output_type": "stream",
     "text": [
      "2021-09-22 17:06:02,362 DataLoader  INFO Loading data for:20180507\n",
      "2021-09-22 17:06:02,543 DataLoader  INFO Loading data for:20180508\n"
     ]
    },
    {
     "name": "stdout",
     "output_type": "stream",
     "text": [
      "/media/ak/LaCie/XM1_Comdty_quotes/20180507.csv\n",
      "/media/ak/LaCie/XM1_Comdty_trades/20180507.csv\n",
      "/media/ak/LaCie/XM1_Comdty_quotes/20180508.csv\n",
      "/media/ak/LaCie/XM1_Comdty_trades/20180508.csv\n"
     ]
    },
    {
     "name": "stderr",
     "output_type": "stream",
     "text": [
      "2021-09-22 17:06:02,919 DataLoader  INFO Loading data for:20180509\n"
     ]
    },
    {
     "name": "stdout",
     "output_type": "stream",
     "text": [
      "/media/ak/LaCie/XM1_Comdty_quotes/20180509.csv\n",
      "/media/ak/LaCie/XM1_Comdty_trades/20180509.csv\n"
     ]
    },
    {
     "name": "stderr",
     "output_type": "stream",
     "text": [
      "2021-09-22 17:06:03,232 DataLoader  INFO Loading data for:20180510\n"
     ]
    },
    {
     "name": "stdout",
     "output_type": "stream",
     "text": [
      "/media/ak/LaCie/XM1_Comdty_quotes/20180510.csv\n",
      "/media/ak/LaCie/XM1_Comdty_trades/20180510.csv\n"
     ]
    },
    {
     "name": "stderr",
     "output_type": "stream",
     "text": [
      "2021-09-22 17:06:03,736 DataLoader  INFO Loading data for:20180511\n"
     ]
    },
    {
     "name": "stdout",
     "output_type": "stream",
     "text": [
      "/media/ak/LaCie/XM1_Comdty_quotes/20180511.csv\n",
      "/media/ak/LaCie/XM1_Comdty_trades/20180511.csv\n"
     ]
    },
    {
     "name": "stderr",
     "output_type": "stream",
     "text": [
      "2021-09-22 17:06:04,042 DataLoader  INFO Calculating calendar clock\n",
      "2021-09-22 17:06:04,560 DataLoader  INFO Calculating volume clock\n",
      "2021-09-22 17:06:06,591 DataLoader  INFO Calculating tick clock\n",
      "2021-09-22 17:06:06,957 DataLoader  INFO Calculating usd volume clock\n",
      "2021-09-22 17:06:37,393 DataLoader  INFO Loading data for:20180416\n"
     ]
    },
    {
     "name": "stdout",
     "output_type": "stream",
     "text": [
      "/media/ak/LaCie/XM1_Comdty_quotes/20180416.csv\n",
      "/media/ak/LaCie/XM1_Comdty_trades/20180416.csv\n"
     ]
    },
    {
     "name": "stderr",
     "output_type": "stream",
     "text": [
      "2021-09-22 17:06:37,637 DataLoader  INFO Loading data for:20180417\n",
      "2021-09-22 17:06:37,814 DataLoader  INFO Loading data for:20180418\n"
     ]
    },
    {
     "name": "stdout",
     "output_type": "stream",
     "text": [
      "/media/ak/LaCie/XM1_Comdty_quotes/20180417.csv\n",
      "/media/ak/LaCie/XM1_Comdty_trades/20180417.csv\n",
      "/media/ak/LaCie/XM1_Comdty_quotes/20180418.csv\n",
      "/media/ak/LaCie/XM1_Comdty_trades/20180418.csv\n"
     ]
    },
    {
     "name": "stderr",
     "output_type": "stream",
     "text": [
      "2021-09-22 17:06:38,036 DataLoader  INFO Loading data for:20180419\n"
     ]
    },
    {
     "name": "stdout",
     "output_type": "stream",
     "text": [
      "/media/ak/LaCie/XM1_Comdty_quotes/20180419.csv\n",
      "/media/ak/LaCie/XM1_Comdty_trades/20180419.csv\n"
     ]
    },
    {
     "name": "stderr",
     "output_type": "stream",
     "text": [
      "2021-09-22 17:06:38,280 DataLoader  INFO Loading data for:20180420\n"
     ]
    },
    {
     "name": "stdout",
     "output_type": "stream",
     "text": [
      "/media/ak/LaCie/XM1_Comdty_quotes/20180420.csv\n",
      "/media/ak/LaCie/XM1_Comdty_trades/20180420.csv\n"
     ]
    },
    {
     "name": "stderr",
     "output_type": "stream",
     "text": [
      "2021-09-22 17:06:38,571 DataLoader  INFO Loading data for:20180423\n"
     ]
    },
    {
     "name": "stdout",
     "output_type": "stream",
     "text": [
      "/media/ak/LaCie/XM1_Comdty_quotes/20180423.csv\n",
      "/media/ak/LaCie/XM1_Comdty_trades/20180423.csv\n"
     ]
    },
    {
     "name": "stderr",
     "output_type": "stream",
     "text": [
      "2021-09-22 17:06:38,812 DataLoader  INFO Loading data for:20180424\n"
     ]
    },
    {
     "name": "stdout",
     "output_type": "stream",
     "text": [
      "/media/ak/LaCie/XM1_Comdty_quotes/20180424.csv\n",
      "/media/ak/LaCie/XM1_Comdty_trades/20180424.csv\n"
     ]
    },
    {
     "name": "stderr",
     "output_type": "stream",
     "text": [
      "2021-09-22 17:06:39,066 DataLoader  INFO Loading data for:20180425\n",
      "2021-09-22 17:06:39,245 DataLoader  INFO Loading data for:20180426\n"
     ]
    },
    {
     "name": "stdout",
     "output_type": "stream",
     "text": [
      "/media/ak/LaCie/XM1_Comdty_quotes/20180425.csv\n",
      "/media/ak/LaCie/XM1_Comdty_trades/20180425.csv\n",
      "/media/ak/LaCie/XM1_Comdty_quotes/20180426.csv\n",
      "/media/ak/LaCie/XM1_Comdty_trades/20180426.csv\n"
     ]
    },
    {
     "name": "stderr",
     "output_type": "stream",
     "text": [
      "2021-09-22 17:06:39,517 DataLoader  INFO Loading data for:20180427\n",
      "2021-09-22 17:06:39,711 DataLoader  INFO Loading data for:20180430\n"
     ]
    },
    {
     "name": "stdout",
     "output_type": "stream",
     "text": [
      "/media/ak/LaCie/XM1_Comdty_quotes/20180427.csv\n",
      "/media/ak/LaCie/XM1_Comdty_trades/20180427.csv\n",
      "/media/ak/LaCie/XM1_Comdty_quotes/20180430.csv\n",
      "/media/ak/LaCie/XM1_Comdty_trades/20180430.csv\n"
     ]
    },
    {
     "name": "stderr",
     "output_type": "stream",
     "text": [
      "2021-09-22 17:06:39,923 DataLoader  INFO Loading data for:20180501\n",
      "2021-09-22 17:06:40,082 DataLoader  INFO Loading data for:20180502\n"
     ]
    },
    {
     "name": "stdout",
     "output_type": "stream",
     "text": [
      "/media/ak/LaCie/XM1_Comdty_quotes/20180501.csv\n",
      "/media/ak/LaCie/XM1_Comdty_trades/20180501.csv\n",
      "/media/ak/LaCie/XM1_Comdty_quotes/20180502.csv\n",
      "/media/ak/LaCie/XM1_Comdty_trades/20180502.csv\n"
     ]
    },
    {
     "name": "stderr",
     "output_type": "stream",
     "text": [
      "2021-09-22 17:06:40,317 DataLoader  INFO Loading data for:20180503\n"
     ]
    },
    {
     "name": "stdout",
     "output_type": "stream",
     "text": [
      "/media/ak/LaCie/XM1_Comdty_quotes/20180503.csv\n",
      "/media/ak/LaCie/XM1_Comdty_trades/20180503.csv\n"
     ]
    },
    {
     "name": "stderr",
     "output_type": "stream",
     "text": [
      "2021-09-22 17:06:40,574 DataLoader  INFO Loading data for:20180504\n"
     ]
    },
    {
     "name": "stdout",
     "output_type": "stream",
     "text": [
      "/media/ak/LaCie/XM1_Comdty_quotes/20180504.csv\n",
      "/media/ak/LaCie/XM1_Comdty_trades/20180504.csv\n"
     ]
    },
    {
     "name": "stderr",
     "output_type": "stream",
     "text": [
      "2021-09-22 17:06:40,788 DataLoader  INFO Loading data for:20180507\n",
      "2021-09-22 17:06:40,936 DataLoader  INFO Loading data for:20180508\n"
     ]
    },
    {
     "name": "stdout",
     "output_type": "stream",
     "text": [
      "/media/ak/LaCie/XM1_Comdty_quotes/20180507.csv\n",
      "/media/ak/LaCie/XM1_Comdty_trades/20180507.csv\n",
      "/media/ak/LaCie/XM1_Comdty_quotes/20180508.csv\n",
      "/media/ak/LaCie/XM1_Comdty_trades/20180508.csv\n"
     ]
    },
    {
     "name": "stderr",
     "output_type": "stream",
     "text": [
      "2021-09-22 17:06:41,245 DataLoader  INFO Loading data for:20180509\n"
     ]
    },
    {
     "name": "stdout",
     "output_type": "stream",
     "text": [
      "/media/ak/LaCie/XM1_Comdty_quotes/20180509.csv\n",
      "/media/ak/LaCie/XM1_Comdty_trades/20180509.csv\n"
     ]
    },
    {
     "name": "stderr",
     "output_type": "stream",
     "text": [
      "2021-09-22 17:06:41,520 DataLoader  INFO Loading data for:20180510\n"
     ]
    },
    {
     "name": "stdout",
     "output_type": "stream",
     "text": [
      "/media/ak/LaCie/XM1_Comdty_quotes/20180510.csv\n",
      "/media/ak/LaCie/XM1_Comdty_trades/20180510.csv\n"
     ]
    },
    {
     "name": "stderr",
     "output_type": "stream",
     "text": [
      "2021-09-22 17:06:41,802 DataLoader  INFO Loading data for:20180511\n"
     ]
    },
    {
     "name": "stdout",
     "output_type": "stream",
     "text": [
      "/media/ak/LaCie/XM1_Comdty_quotes/20180511.csv\n",
      "/media/ak/LaCie/XM1_Comdty_trades/20180511.csv\n"
     ]
    },
    {
     "name": "stderr",
     "output_type": "stream",
     "text": [
      "2021-09-22 17:06:42,158 DataLoader  INFO Calculating calendar clock\n",
      "2021-09-22 17:06:43,345 DataLoader  INFO Calculating volume clock\n",
      "2021-09-22 17:06:45,509 DataLoader  INFO Calculating tick clock\n",
      "2021-09-22 17:06:46,142 DataLoader  INFO Calculating usd volume clock\n",
      "2021-09-22 17:07:24,017 DataLoader  INFO Loading data for:20180416\n"
     ]
    },
    {
     "name": "stdout",
     "output_type": "stream",
     "text": [
      "/media/ak/LaCie/XM1_Comdty_quotes/20180416.csv\n",
      "/media/ak/LaCie/XM1_Comdty_trades/20180416.csv\n"
     ]
    },
    {
     "name": "stderr",
     "output_type": "stream",
     "text": [
      "2021-09-22 17:07:24,272 DataLoader  INFO Loading data for:20180417\n",
      "2021-09-22 17:07:24,452 DataLoader  INFO Loading data for:20180418\n"
     ]
    },
    {
     "name": "stdout",
     "output_type": "stream",
     "text": [
      "/media/ak/LaCie/XM1_Comdty_quotes/20180417.csv\n",
      "/media/ak/LaCie/XM1_Comdty_trades/20180417.csv\n",
      "/media/ak/LaCie/XM1_Comdty_quotes/20180418.csv\n",
      "/media/ak/LaCie/XM1_Comdty_trades/20180418.csv\n"
     ]
    },
    {
     "name": "stderr",
     "output_type": "stream",
     "text": [
      "2021-09-22 17:07:24,651 DataLoader  INFO Loading data for:20180419\n"
     ]
    },
    {
     "name": "stdout",
     "output_type": "stream",
     "text": [
      "/media/ak/LaCie/XM1_Comdty_quotes/20180419.csv\n",
      "/media/ak/LaCie/XM1_Comdty_trades/20180419.csv\n"
     ]
    },
    {
     "name": "stderr",
     "output_type": "stream",
     "text": [
      "2021-09-22 17:07:24,888 DataLoader  INFO Loading data for:20180420\n"
     ]
    },
    {
     "name": "stdout",
     "output_type": "stream",
     "text": [
      "/media/ak/LaCie/XM1_Comdty_quotes/20180420.csv\n",
      "/media/ak/LaCie/XM1_Comdty_trades/20180420.csv\n"
     ]
    },
    {
     "name": "stderr",
     "output_type": "stream",
     "text": [
      "2021-09-22 17:07:25,155 DataLoader  INFO Loading data for:20180423\n"
     ]
    },
    {
     "name": "stdout",
     "output_type": "stream",
     "text": [
      "/media/ak/LaCie/XM1_Comdty_quotes/20180423.csv\n",
      "/media/ak/LaCie/XM1_Comdty_trades/20180423.csv\n"
     ]
    },
    {
     "name": "stderr",
     "output_type": "stream",
     "text": [
      "2021-09-22 17:07:25,467 DataLoader  INFO Loading data for:20180424\n"
     ]
    },
    {
     "name": "stdout",
     "output_type": "stream",
     "text": [
      "/media/ak/LaCie/XM1_Comdty_quotes/20180424.csv\n",
      "/media/ak/LaCie/XM1_Comdty_trades/20180424.csv\n"
     ]
    },
    {
     "name": "stderr",
     "output_type": "stream",
     "text": [
      "2021-09-22 17:07:25,785 DataLoader  INFO Loading data for:20180425\n"
     ]
    },
    {
     "name": "stdout",
     "output_type": "stream",
     "text": [
      "/media/ak/LaCie/XM1_Comdty_quotes/20180425.csv\n",
      "/media/ak/LaCie/XM1_Comdty_trades/20180425.csv\n"
     ]
    },
    {
     "name": "stderr",
     "output_type": "stream",
     "text": [
      "2021-09-22 17:07:26,028 DataLoader  INFO Loading data for:20180426\n"
     ]
    },
    {
     "name": "stdout",
     "output_type": "stream",
     "text": [
      "/media/ak/LaCie/XM1_Comdty_quotes/20180426.csv\n",
      "/media/ak/LaCie/XM1_Comdty_trades/20180426.csv\n"
     ]
    },
    {
     "name": "stderr",
     "output_type": "stream",
     "text": [
      "2021-09-22 17:07:26,260 DataLoader  INFO Loading data for:20180427\n"
     ]
    },
    {
     "name": "stdout",
     "output_type": "stream",
     "text": [
      "/media/ak/LaCie/XM1_Comdty_quotes/20180427.csv\n",
      "/media/ak/LaCie/XM1_Comdty_trades/20180427.csv\n"
     ]
    },
    {
     "name": "stderr",
     "output_type": "stream",
     "text": [
      "2021-09-22 17:07:26,521 DataLoader  INFO Loading data for:20180430\n"
     ]
    },
    {
     "name": "stdout",
     "output_type": "stream",
     "text": [
      "/media/ak/LaCie/XM1_Comdty_quotes/20180430.csv\n",
      "/media/ak/LaCie/XM1_Comdty_trades/20180430.csv\n"
     ]
    },
    {
     "name": "stderr",
     "output_type": "stream",
     "text": [
      "2021-09-22 17:07:26,738 DataLoader  INFO Loading data for:20180501\n",
      "2021-09-22 17:07:26,909 DataLoader  INFO Loading data for:20180502\n"
     ]
    },
    {
     "name": "stdout",
     "output_type": "stream",
     "text": [
      "/media/ak/LaCie/XM1_Comdty_quotes/20180501.csv\n",
      "/media/ak/LaCie/XM1_Comdty_trades/20180501.csv\n",
      "/media/ak/LaCie/XM1_Comdty_quotes/20180502.csv\n",
      "/media/ak/LaCie/XM1_Comdty_trades/20180502.csv\n"
     ]
    },
    {
     "name": "stderr",
     "output_type": "stream",
     "text": [
      "2021-09-22 17:07:27,165 DataLoader  INFO Loading data for:20180503\n"
     ]
    },
    {
     "name": "stdout",
     "output_type": "stream",
     "text": [
      "/media/ak/LaCie/XM1_Comdty_quotes/20180503.csv\n",
      "/media/ak/LaCie/XM1_Comdty_trades/20180503.csv\n"
     ]
    },
    {
     "name": "stderr",
     "output_type": "stream",
     "text": [
      "2021-09-22 17:07:27,396 DataLoader  INFO Loading data for:20180504\n"
     ]
    },
    {
     "name": "stdout",
     "output_type": "stream",
     "text": [
      "/media/ak/LaCie/XM1_Comdty_quotes/20180504.csv\n",
      "/media/ak/LaCie/XM1_Comdty_trades/20180504.csv\n"
     ]
    },
    {
     "name": "stderr",
     "output_type": "stream",
     "text": [
      "2021-09-22 17:07:27,606 DataLoader  INFO Loading data for:20180507\n",
      "2021-09-22 17:07:27,762 DataLoader  INFO Loading data for:20180508\n"
     ]
    },
    {
     "name": "stdout",
     "output_type": "stream",
     "text": [
      "/media/ak/LaCie/XM1_Comdty_quotes/20180507.csv\n",
      "/media/ak/LaCie/XM1_Comdty_trades/20180507.csv\n",
      "/media/ak/LaCie/XM1_Comdty_quotes/20180508.csv\n",
      "/media/ak/LaCie/XM1_Comdty_trades/20180508.csv\n"
     ]
    },
    {
     "name": "stderr",
     "output_type": "stream",
     "text": [
      "2021-09-22 17:07:28,020 DataLoader  INFO Loading data for:20180509\n"
     ]
    },
    {
     "name": "stdout",
     "output_type": "stream",
     "text": [
      "/media/ak/LaCie/XM1_Comdty_quotes/20180509.csv\n",
      "/media/ak/LaCie/XM1_Comdty_trades/20180509.csv\n"
     ]
    },
    {
     "name": "stderr",
     "output_type": "stream",
     "text": [
      "2021-09-22 17:07:28,241 DataLoader  INFO Loading data for:20180510\n"
     ]
    },
    {
     "name": "stdout",
     "output_type": "stream",
     "text": [
      "/media/ak/LaCie/XM1_Comdty_quotes/20180510.csv\n",
      "/media/ak/LaCie/XM1_Comdty_trades/20180510.csv\n"
     ]
    },
    {
     "name": "stderr",
     "output_type": "stream",
     "text": [
      "2021-09-22 17:07:28,520 DataLoader  INFO Loading data for:20180511\n"
     ]
    },
    {
     "name": "stdout",
     "output_type": "stream",
     "text": [
      "/media/ak/LaCie/XM1_Comdty_quotes/20180511.csv\n",
      "/media/ak/LaCie/XM1_Comdty_trades/20180511.csv\n"
     ]
    },
    {
     "name": "stderr",
     "output_type": "stream",
     "text": [
      "2021-09-22 17:07:28,722 DataLoader  INFO Calculating calendar clock\n",
      "2021-09-22 17:07:29,217 DataLoader  INFO Calculating volume clock\n",
      "2021-09-22 17:07:31,715 DataLoader  INFO Calculating tick clock\n",
      "2021-09-22 17:07:32,400 DataLoader  INFO Calculating usd volume clock\n",
      "2021-09-22 17:08:25,163 DataLoader  INFO Loading data for:20180416\n"
     ]
    },
    {
     "name": "stdout",
     "output_type": "stream",
     "text": [
      "/media/ak/LaCie/XM1_Comdty_quotes/20180416.csv\n",
      "/media/ak/LaCie/XM1_Comdty_trades/20180416.csv\n"
     ]
    },
    {
     "name": "stderr",
     "output_type": "stream",
     "text": [
      "2021-09-22 17:08:25,537 DataLoader  INFO Loading data for:20180417\n"
     ]
    },
    {
     "name": "stdout",
     "output_type": "stream",
     "text": [
      "/media/ak/LaCie/XM1_Comdty_quotes/20180417.csv\n",
      "/media/ak/LaCie/XM1_Comdty_trades/20180417.csv\n"
     ]
    },
    {
     "name": "stderr",
     "output_type": "stream",
     "text": [
      "2021-09-22 17:08:25,776 DataLoader  INFO Loading data for:20180418\n"
     ]
    },
    {
     "name": "stdout",
     "output_type": "stream",
     "text": [
      "/media/ak/LaCie/XM1_Comdty_quotes/20180418.csv\n",
      "/media/ak/LaCie/XM1_Comdty_trades/20180418.csv\n"
     ]
    },
    {
     "name": "stderr",
     "output_type": "stream",
     "text": [
      "2021-09-22 17:08:26,053 DataLoader  INFO Loading data for:20180419\n"
     ]
    },
    {
     "name": "stdout",
     "output_type": "stream",
     "text": [
      "/media/ak/LaCie/XM1_Comdty_quotes/20180419.csv\n",
      "/media/ak/LaCie/XM1_Comdty_trades/20180419.csv\n"
     ]
    },
    {
     "name": "stderr",
     "output_type": "stream",
     "text": [
      "2021-09-22 17:08:26,469 DataLoader  INFO Loading data for:20180420\n"
     ]
    },
    {
     "name": "stdout",
     "output_type": "stream",
     "text": [
      "/media/ak/LaCie/XM1_Comdty_quotes/20180420.csv\n",
      "/media/ak/LaCie/XM1_Comdty_trades/20180420.csv\n"
     ]
    },
    {
     "name": "stderr",
     "output_type": "stream",
     "text": [
      "2021-09-22 17:08:26,811 DataLoader  INFO Loading data for:20180423\n"
     ]
    },
    {
     "name": "stdout",
     "output_type": "stream",
     "text": [
      "/media/ak/LaCie/XM1_Comdty_quotes/20180423.csv\n",
      "/media/ak/LaCie/XM1_Comdty_trades/20180423.csv\n"
     ]
    },
    {
     "name": "stderr",
     "output_type": "stream",
     "text": [
      "2021-09-22 17:08:27,157 DataLoader  INFO Loading data for:20180424\n"
     ]
    },
    {
     "name": "stdout",
     "output_type": "stream",
     "text": [
      "/media/ak/LaCie/XM1_Comdty_quotes/20180424.csv\n",
      "/media/ak/LaCie/XM1_Comdty_trades/20180424.csv\n"
     ]
    },
    {
     "name": "stderr",
     "output_type": "stream",
     "text": [
      "2021-09-22 17:08:27,504 DataLoader  INFO Loading data for:20180425\n"
     ]
    },
    {
     "name": "stdout",
     "output_type": "stream",
     "text": [
      "/media/ak/LaCie/XM1_Comdty_quotes/20180425.csv\n",
      "/media/ak/LaCie/XM1_Comdty_trades/20180425.csv\n"
     ]
    },
    {
     "name": "stderr",
     "output_type": "stream",
     "text": [
      "2021-09-22 17:08:27,795 DataLoader  INFO Loading data for:20180426\n"
     ]
    },
    {
     "name": "stdout",
     "output_type": "stream",
     "text": [
      "/media/ak/LaCie/XM1_Comdty_quotes/20180426.csv\n",
      "/media/ak/LaCie/XM1_Comdty_trades/20180426.csv\n"
     ]
    },
    {
     "name": "stderr",
     "output_type": "stream",
     "text": [
      "2021-09-22 17:08:28,129 DataLoader  INFO Loading data for:20180427\n"
     ]
    },
    {
     "name": "stdout",
     "output_type": "stream",
     "text": [
      "/media/ak/LaCie/XM1_Comdty_quotes/20180427.csv\n",
      "/media/ak/LaCie/XM1_Comdty_trades/20180427.csv\n"
     ]
    },
    {
     "name": "stderr",
     "output_type": "stream",
     "text": [
      "2021-09-22 17:08:28,436 DataLoader  INFO Loading data for:20180430\n"
     ]
    },
    {
     "name": "stdout",
     "output_type": "stream",
     "text": [
      "/media/ak/LaCie/XM1_Comdty_quotes/20180430.csv\n",
      "/media/ak/LaCie/XM1_Comdty_trades/20180430.csv\n"
     ]
    },
    {
     "name": "stderr",
     "output_type": "stream",
     "text": [
      "2021-09-22 17:08:28,826 DataLoader  INFO Loading data for:20180501\n"
     ]
    },
    {
     "name": "stdout",
     "output_type": "stream",
     "text": [
      "/media/ak/LaCie/XM1_Comdty_quotes/20180501.csv\n",
      "/media/ak/LaCie/XM1_Comdty_trades/20180501.csv\n"
     ]
    },
    {
     "name": "stderr",
     "output_type": "stream",
     "text": [
      "2021-09-22 17:08:29,067 DataLoader  INFO Loading data for:20180502\n"
     ]
    },
    {
     "name": "stdout",
     "output_type": "stream",
     "text": [
      "/media/ak/LaCie/XM1_Comdty_quotes/20180502.csv\n",
      "/media/ak/LaCie/XM1_Comdty_trades/20180502.csv\n"
     ]
    },
    {
     "name": "stderr",
     "output_type": "stream",
     "text": [
      "2021-09-22 17:08:29,402 DataLoader  INFO Loading data for:20180503\n"
     ]
    },
    {
     "name": "stdout",
     "output_type": "stream",
     "text": [
      "/media/ak/LaCie/XM1_Comdty_quotes/20180503.csv\n",
      "/media/ak/LaCie/XM1_Comdty_trades/20180503.csv\n"
     ]
    },
    {
     "name": "stderr",
     "output_type": "stream",
     "text": [
      "2021-09-22 17:08:29,732 DataLoader  INFO Loading data for:20180504\n"
     ]
    },
    {
     "name": "stdout",
     "output_type": "stream",
     "text": [
      "/media/ak/LaCie/XM1_Comdty_quotes/20180504.csv\n",
      "/media/ak/LaCie/XM1_Comdty_trades/20180504.csv\n"
     ]
    },
    {
     "name": "stderr",
     "output_type": "stream",
     "text": [
      "2021-09-22 17:08:30,098 DataLoader  INFO Loading data for:20180507\n",
      "2021-09-22 17:08:30,300 DataLoader  INFO Loading data for:20180508\n"
     ]
    },
    {
     "name": "stdout",
     "output_type": "stream",
     "text": [
      "/media/ak/LaCie/XM1_Comdty_quotes/20180507.csv\n",
      "/media/ak/LaCie/XM1_Comdty_trades/20180507.csv\n",
      "/media/ak/LaCie/XM1_Comdty_quotes/20180508.csv\n",
      "/media/ak/LaCie/XM1_Comdty_trades/20180508.csv\n"
     ]
    },
    {
     "name": "stderr",
     "output_type": "stream",
     "text": [
      "2021-09-22 17:08:30,663 DataLoader  INFO Loading data for:20180509\n"
     ]
    },
    {
     "name": "stdout",
     "output_type": "stream",
     "text": [
      "/media/ak/LaCie/XM1_Comdty_quotes/20180509.csv\n",
      "/media/ak/LaCie/XM1_Comdty_trades/20180509.csv\n"
     ]
    },
    {
     "name": "stderr",
     "output_type": "stream",
     "text": [
      "2021-09-22 17:08:30,906 DataLoader  INFO Loading data for:20180510\n"
     ]
    },
    {
     "name": "stdout",
     "output_type": "stream",
     "text": [
      "/media/ak/LaCie/XM1_Comdty_quotes/20180510.csv\n",
      "/media/ak/LaCie/XM1_Comdty_trades/20180510.csv\n"
     ]
    },
    {
     "name": "stderr",
     "output_type": "stream",
     "text": [
      "2021-09-22 17:08:31,252 DataLoader  INFO Loading data for:20180511\n"
     ]
    },
    {
     "name": "stdout",
     "output_type": "stream",
     "text": [
      "/media/ak/LaCie/XM1_Comdty_quotes/20180511.csv\n",
      "/media/ak/LaCie/XM1_Comdty_trades/20180511.csv\n"
     ]
    },
    {
     "name": "stderr",
     "output_type": "stream",
     "text": [
      "2021-09-22 17:08:31,637 DataLoader  INFO Calculating calendar clock\n",
      "2021-09-22 17:08:32,071 DataLoader  INFO Calculating volume clock\n",
      "2021-09-22 17:08:34,688 DataLoader  INFO Calculating tick clock\n",
      "2021-09-22 17:08:35,352 DataLoader  INFO Calculating usd volume clock\n",
      "2021-09-22 17:09:38,979 DataLoader  INFO Loading data for:20180416\n"
     ]
    },
    {
     "name": "stdout",
     "output_type": "stream",
     "text": [
      "/media/ak/LaCie/XM1_Comdty_quotes/20180416.csv\n",
      "/media/ak/LaCie/XM1_Comdty_trades/20180416.csv\n"
     ]
    },
    {
     "name": "stderr",
     "output_type": "stream",
     "text": [
      "2021-09-22 17:09:39,219 DataLoader  INFO Loading data for:20180417\n",
      "2021-09-22 17:09:39,402 DataLoader  INFO Loading data for:20180418\n"
     ]
    },
    {
     "name": "stdout",
     "output_type": "stream",
     "text": [
      "/media/ak/LaCie/XM1_Comdty_quotes/20180417.csv\n",
      "/media/ak/LaCie/XM1_Comdty_trades/20180417.csv\n",
      "/media/ak/LaCie/XM1_Comdty_quotes/20180418.csv\n",
      "/media/ak/LaCie/XM1_Comdty_trades/20180418.csv\n"
     ]
    },
    {
     "name": "stderr",
     "output_type": "stream",
     "text": [
      "2021-09-22 17:09:39,607 DataLoader  INFO Loading data for:20180419\n"
     ]
    },
    {
     "name": "stdout",
     "output_type": "stream",
     "text": [
      "/media/ak/LaCie/XM1_Comdty_quotes/20180419.csv\n",
      "/media/ak/LaCie/XM1_Comdty_trades/20180419.csv\n"
     ]
    },
    {
     "name": "stderr",
     "output_type": "stream",
     "text": [
      "2021-09-22 17:09:39,853 DataLoader  INFO Loading data for:20180420\n"
     ]
    },
    {
     "name": "stdout",
     "output_type": "stream",
     "text": [
      "/media/ak/LaCie/XM1_Comdty_quotes/20180420.csv\n",
      "/media/ak/LaCie/XM1_Comdty_trades/20180420.csv\n"
     ]
    },
    {
     "name": "stderr",
     "output_type": "stream",
     "text": [
      "2021-09-22 17:09:40,080 DataLoader  INFO Loading data for:20180423\n"
     ]
    },
    {
     "name": "stdout",
     "output_type": "stream",
     "text": [
      "/media/ak/LaCie/XM1_Comdty_quotes/20180423.csv\n",
      "/media/ak/LaCie/XM1_Comdty_trades/20180423.csv\n"
     ]
    },
    {
     "name": "stderr",
     "output_type": "stream",
     "text": [
      "2021-09-22 17:09:40,329 DataLoader  INFO Loading data for:20180424\n"
     ]
    },
    {
     "name": "stdout",
     "output_type": "stream",
     "text": [
      "/media/ak/LaCie/XM1_Comdty_quotes/20180424.csv\n",
      "/media/ak/LaCie/XM1_Comdty_trades/20180424.csv\n"
     ]
    },
    {
     "name": "stderr",
     "output_type": "stream",
     "text": [
      "2021-09-22 17:09:40,562 DataLoader  INFO Loading data for:20180425\n",
      "2021-09-22 17:09:40,742 DataLoader  INFO Loading data for:20180426\n"
     ]
    },
    {
     "name": "stdout",
     "output_type": "stream",
     "text": [
      "/media/ak/LaCie/XM1_Comdty_quotes/20180425.csv\n",
      "/media/ak/LaCie/XM1_Comdty_trades/20180425.csv\n",
      "/media/ak/LaCie/XM1_Comdty_quotes/20180426.csv\n",
      "/media/ak/LaCie/XM1_Comdty_trades/20180426.csv\n"
     ]
    },
    {
     "name": "stderr",
     "output_type": "stream",
     "text": [
      "2021-09-22 17:09:41,019 DataLoader  INFO Loading data for:20180427\n"
     ]
    },
    {
     "name": "stdout",
     "output_type": "stream",
     "text": [
      "/media/ak/LaCie/XM1_Comdty_quotes/20180427.csv\n",
      "/media/ak/LaCie/XM1_Comdty_trades/20180427.csv\n"
     ]
    },
    {
     "name": "stderr",
     "output_type": "stream",
     "text": [
      "2021-09-22 17:09:41,262 DataLoader  INFO Loading data for:20180430\n"
     ]
    },
    {
     "name": "stdout",
     "output_type": "stream",
     "text": [
      "/media/ak/LaCie/XM1_Comdty_quotes/20180430.csv\n",
      "/media/ak/LaCie/XM1_Comdty_trades/20180430.csv\n"
     ]
    },
    {
     "name": "stderr",
     "output_type": "stream",
     "text": [
      "2021-09-22 17:09:41,550 DataLoader  INFO Loading data for:20180501\n"
     ]
    },
    {
     "name": "stdout",
     "output_type": "stream",
     "text": [
      "/media/ak/LaCie/XM1_Comdty_quotes/20180501.csv\n",
      "/media/ak/LaCie/XM1_Comdty_trades/20180501.csv\n"
     ]
    },
    {
     "name": "stderr",
     "output_type": "stream",
     "text": [
      "2021-09-22 17:09:41,757 DataLoader  INFO Loading data for:20180502\n"
     ]
    },
    {
     "name": "stdout",
     "output_type": "stream",
     "text": [
      "/media/ak/LaCie/XM1_Comdty_quotes/20180502.csv\n",
      "/media/ak/LaCie/XM1_Comdty_trades/20180502.csv\n"
     ]
    },
    {
     "name": "stderr",
     "output_type": "stream",
     "text": [
      "2021-09-22 17:09:42,021 DataLoader  INFO Loading data for:20180503\n"
     ]
    },
    {
     "name": "stdout",
     "output_type": "stream",
     "text": [
      "/media/ak/LaCie/XM1_Comdty_quotes/20180503.csv\n",
      "/media/ak/LaCie/XM1_Comdty_trades/20180503.csv\n"
     ]
    },
    {
     "name": "stderr",
     "output_type": "stream",
     "text": [
      "2021-09-22 17:09:42,282 DataLoader  INFO Loading data for:20180504\n"
     ]
    },
    {
     "name": "stdout",
     "output_type": "stream",
     "text": [
      "/media/ak/LaCie/XM1_Comdty_quotes/20180504.csv\n",
      "/media/ak/LaCie/XM1_Comdty_trades/20180504.csv\n"
     ]
    },
    {
     "name": "stderr",
     "output_type": "stream",
     "text": [
      "2021-09-22 17:09:42,495 DataLoader  INFO Loading data for:20180507\n",
      "2021-09-22 17:09:42,631 DataLoader  INFO Loading data for:20180508\n"
     ]
    },
    {
     "name": "stdout",
     "output_type": "stream",
     "text": [
      "/media/ak/LaCie/XM1_Comdty_quotes/20180507.csv\n",
      "/media/ak/LaCie/XM1_Comdty_trades/20180507.csv\n",
      "/media/ak/LaCie/XM1_Comdty_quotes/20180508.csv\n",
      "/media/ak/LaCie/XM1_Comdty_trades/20180508.csv\n"
     ]
    },
    {
     "name": "stderr",
     "output_type": "stream",
     "text": [
      "2021-09-22 17:09:42,882 DataLoader  INFO Loading data for:20180509\n"
     ]
    },
    {
     "name": "stdout",
     "output_type": "stream",
     "text": [
      "/media/ak/LaCie/XM1_Comdty_quotes/20180509.csv\n",
      "/media/ak/LaCie/XM1_Comdty_trades/20180509.csv\n"
     ]
    },
    {
     "name": "stderr",
     "output_type": "stream",
     "text": [
      "2021-09-22 17:09:43,253 DataLoader  INFO Loading data for:20180510\n"
     ]
    },
    {
     "name": "stdout",
     "output_type": "stream",
     "text": [
      "/media/ak/LaCie/XM1_Comdty_quotes/20180510.csv\n",
      "/media/ak/LaCie/XM1_Comdty_trades/20180510.csv\n"
     ]
    },
    {
     "name": "stderr",
     "output_type": "stream",
     "text": [
      "2021-09-22 17:09:43,598 DataLoader  INFO Loading data for:20180511\n"
     ]
    },
    {
     "name": "stdout",
     "output_type": "stream",
     "text": [
      "/media/ak/LaCie/XM1_Comdty_quotes/20180511.csv\n",
      "/media/ak/LaCie/XM1_Comdty_trades/20180511.csv\n"
     ]
    },
    {
     "name": "stderr",
     "output_type": "stream",
     "text": [
      "2021-09-22 17:09:43,948 DataLoader  INFO Calculating calendar clock\n",
      "2021-09-22 17:09:44,702 DataLoader  INFO Calculating volume clock\n",
      "2021-09-22 17:09:47,111 DataLoader  INFO Calculating tick clock\n",
      "2021-09-22 17:09:47,673 DataLoader  INFO Calculating usd volume clock\n"
     ]
    }
   ],
   "source": [
    "tick_bar_dfs =[]\n",
    "volume_bar_dfs =[]\n",
    "usd_volume_bar_dfs = []\n",
    "calendar_bar_dfs  =[]\n",
    "for date in dates:\n",
    "    df = testClass.load_and_format_data()[str(date)]\n",
    "    input_dict = testClass.get_bars(df)\n",
    "    tick_bar_df = testClass.get_concat_data(testClass._bars_dict)['tick_bars']\n",
    "    volume_bar_df = testClass.get_concat_data(testClass._bars_dict)['volume_bars']\n",
    "    usd_volume_bar_df = testClass.get_concat_data(testClass._bars_dict)['usd_volume_bars']\n",
    "    calendar_bar_df = testClass.get_concat_data(testClass._bars_dict)['calendar_bars']\n",
    "    tick_bar_dfs.append(tick_bar_df)\n",
    "    volume_bar_dfs.append(volume_bar_df)\n",
    "    usd_volume_bar_dfs.append(usd_volume_bar_df)\n",
    "    calendar_bar_dfs.append(calendar_bar_df)\n"
   ]
  },
  {
   "cell_type": "code",
   "execution_count": null,
   "metadata": {},
   "outputs": [],
   "source": []
  },
  {
   "cell_type": "code",
   "execution_count": null,
   "metadata": {},
   "outputs": [],
   "source": [
    "consolidated_tick_bar_df = pd.concat(tick_bar_dfs).dropna()\n",
    "consolidated_volume_bar_df = pd.concat(volume_bar_dfs).dropna()\n",
    "consolidated_calendar_bar_df = pd.concat(calendar_bar_dfs).dropna()\n",
    "consolidated_usd_volume_bar_df = pd.concat(usd_volume_bar_dfs).dropna()\n",
    "\n",
    "\n"
   ]
  },
  {
   "cell_type": "code",
   "execution_count": null,
   "metadata": {},
   "outputs": [],
   "source": [
    "\n",
    "bars = {'Volume bars clock':consolidated_volume_bar_df,\n",
    "        'Tick bars clock': consolidated_tick_bar_df,'USDVolume bars clock':\n",
    "        consolidated_usd_volume_bar_df,\n",
    "        'Chrono clock': consolidated_calendar_bar_df}"
   ]
  },
  {
   "cell_type": "code",
   "execution_count": null,
   "metadata": {},
   "outputs": [],
   "source": [
    "barsKeys = list(bars.keys())\n",
    "barsKeys"
   ]
  },
  {
   "cell_type": "code",
   "execution_count": null,
   "metadata": {},
   "outputs": [],
   "source": [
    "df_test =bars['Chrono clock'].dropna()\n",
    "\n",
    "df_test_vol = volatilityEstimation(df_test)"
   ]
  },
  {
   "cell_type": "code",
   "execution_count": null,
   "metadata": {},
   "outputs": [],
   "source": [
    "data = descriptiveStats(df_test).base_descriptive_stats()\n",
    "print(pd.Series(data).to_frame().to_latex())"
   ]
  },
  {
   "cell_type": "code",
   "execution_count": null,
   "metadata": {},
   "outputs": [],
   "source": [
    "\n",
    "vr = returns(bars[barsKeys[1]].micro_price_close).replace([np.inf, -np.inf], 0)# volume\n",
    "tr = returns(bars[barsKeys[0]].micro_price_close).replace([np.inf, -np.inf], 0)# tick\n",
    "dr = returns(bars[barsKeys[2]].micro_price_close).dropna().replace([np.inf, -np.inf], 0) # usd volume\n",
    "df_ret = returns(bars[barsKeys[3]].micro_price_close).dropna().replace([np.inf, -np.inf], 0)    # calendar\n",
    "bar_returns = [tr, vr, dr, df_ret]\n",
    "bar_types = ['tick','volume','dollar','calendar']"
   ]
  },
  {
   "cell_type": "code",
   "execution_count": null,
   "metadata": {},
   "outputs": [],
   "source": [
    "\n",
    "from sklearn.preprocessing import StandardScaler, MinMaxScaler\n",
    "def return_scaled(x):\n",
    "    scaler = StandardScaler()\n",
    "    x_scaled = scaler.fit_transform(np.array(x).reshape(-1,1))\n",
    "    return np.asarray(x_scaled)\n"
   ]
  },
  {
   "cell_type": "code",
   "execution_count": null,
   "metadata": {},
   "outputs": [],
   "source": [
    "fig, ax = plt.subplots(figsize=(10,7))\n",
    "sns.kdeplot(tr, \n",
    "            ax=ax,\n",
    "            label=\"Tick\", \n",
    "            bw=0.25,\n",
    "            color='darkblue')\n",
    "sns.kdeplot(dr,\n",
    "            ax=ax,\n",
    "            label=\"USD Volume\",\n",
    "            bw=0.55,linewidth=2.25,\n",
    "            color='blue', linestyle =':')\n",
    "\n",
    "sns.kdeplot(vr,\n",
    "            ax=ax,\n",
    "            label=\"Volume\",\n",
    "            bw=0.55,linewidth=1.25,\n",
    "            color='red', linestyle ='--')\n",
    "\n",
    "\n",
    "plt.xlabel('Returns', fontsize=9)\n",
    "plt.ylabel('Density', fontsize=9)\n",
    "plt.xticks(fontsize = 9, rotation = 45)\n",
    "plt.yticks(fontsize = 9)\n",
    "plt.title(str(symbol))\n",
    "file_name = str(hash_of_file) + '_multiclocks_density_plot.png'\n",
    "plt.savefig(os.path.join(figures_destination,file_name))\n",
    "plt.legend()\n",
    "plt.show()\n",
    "\n"
   ]
  },
  {
   "cell_type": "code",
   "execution_count": null,
   "metadata": {},
   "outputs": [],
   "source": [
    "# Simple normality tests\n",
    "from scipy.stats import shapiro, normaltest, jarque_bera\n",
    "bar_choice = volume_standard.values\n",
    "stat, p = shapiro(bar_choice)\n",
    "print('stat = %.3f, p = %.3f\\n ' % (stat, p))\n",
    "if p > 0.05:\n",
    "    print('prob gaussian')\n",
    "else:\n",
    "    print('non gaussian')\n",
    "\n",
    "stat_nt, p_nt = normaltest(bar_choice)\n",
    "\n",
    "print('stat = %.3f, p = %.3f\\n ' % (stat_nt, p_nt))\n",
    "\n",
    "stat_jb, p_jb = jarque_bera(bar_choice)\n",
    "\n",
    "print('stat = %.3f, p = %.3f\\n ' % (stat_jb, p_jb))"
   ]
  },
  {
   "cell_type": "code",
   "execution_count": null,
   "metadata": {},
   "outputs": [],
   "source": [
    "return_scaled(dr).shape"
   ]
  },
  {
   "cell_type": "code",
   "execution_count": null,
   "metadata": {},
   "outputs": [],
   "source": [
    "import scipy\n",
    "from matplotlib.ticker import PercentFormatter\n",
    "\n",
    "for barIdx in range(0,3):\n",
    "    vol_estimation = volatilityEstimation(bars[barsKeys[barIdx]])\n",
    "\n",
    "    garman_klass_vol_10 = vol_estimation.garmanKlass(trading_periods = 10)\n",
    "    garman_klass_vol_50 = vol_estimation.garmanKlass(trading_periods = 50)\n",
    "    garman_klass_vol_100 = vol_estimation.garmanKlass(trading_periods = 100)\n",
    "\n",
    "    g1 =sns.distplot(garman_klass_vol_10, hist=True, kde=True, \n",
    "                 bins=int(200/5), color = 'darkblue', \n",
    "                 hist_kws={'edgecolor':'red'},\n",
    "                 kde_kws={'linewidth': 2}, \n",
    "                    label=\"10-trading ticks\")\n",
    "    g2 =sns.distplot(garman_klass_vol_50, hist=True, kde=True, \n",
    "                 bins=int(200/5), color = 'green', \n",
    "                 hist_kws={'edgecolor':'lightblue'},\n",
    "                 kde_kws={'linewidth': 2},\n",
    "                    label=\"50-trading ticks\")\n",
    "    g3 =sns.distplot(garman_klass_vol_100, hist=True, kde=True, \n",
    "                 bins=int(200/5), color = 'red', \n",
    "                 hist_kws={'edgecolor':'lightblue'},\n",
    "                 kde_kws={'linewidth': 2},\n",
    "                    label=\"100-trading ticks\")\n",
    "    plt.xlabel('xlabel', fontsize=9)\n",
    "    plt.ylabel('ylabel', fontsize=9)\n",
    "    plt.xticks(fontsize = 9, rotation = 45)\n",
    "    plt.yticks(fontsize = 9)\n",
    "    plt.gca().xaxis.set_major_formatter(PercentFormatter(10))\n",
    "    plt.legend(fontsize=7)\n",
    "    _=plt.xlabel(str(barsKeys[barIdx])+' Garman Klass Volatility') #y label\n",
    "    file_name = str(symbol)+str(barsKeys[barIdx])+'_GK-Klass Histogram.png'\n",
    "    plt.savefig(os.path.join(figures_destination,file_name))\n",
    "    plt.show()"
   ]
  },
  {
   "cell_type": "code",
   "execution_count": null,
   "metadata": {},
   "outputs": [],
   "source": [
    "print(barsKeys[barIdx])\n",
    "for barIdx in range(0,3):\n",
    "    vol_estimation = volatilityEstimation(bars[barsKeys[barIdx]])\n",
    "    arrival_rates = vol_estimation.arrival_rates()\n",
    "\n",
    "    g1 =sns.distplot(arrival_rates, hist=True, kde=True, \n",
    "                 bins=int(200/5), color = 'darkblue', \n",
    "                 hist_kws={'edgecolor':'red'},\n",
    "                 kde_kws={'linewidth': 2}, \n",
    "                    label=\"arrival-rates\")\n",
    "    # g2 =sns.distplot(garman_klass_vol_50, hist=True, kde=True, \n",
    "    #              bins=int(200/5), color = 'green', \n",
    "    #              hist_kws={'edgecolor':'lightblue'},\n",
    "    #              kde_kws={'linewidth': 2},\n",
    "    #                 label=\"50-trading ticks\")\n",
    "    # plt.gca().xaxis.set_major_formatter(PercentFormatter(1))\n",
    "    plt.xlabel('xlabel', fontsize=9)\n",
    "    plt.ylabel('ylabel', fontsize=9)\n",
    "    plt.xticks(fontsize = 9, rotation = 45)\n",
    "    plt.yticks(fontsize = 9)\n",
    "    #plt.gca().xaxis.set_major_formatter(PercentFormatter(1))\n",
    "    plt.legend(fontsize=7)\n",
    "    _=plt.xlabel('Arrival rates for '+ str(barsKeys[barIdx])) #y label\n",
    "  \n",
    "#     file_name = testSymbol+'_'+str(hash_of_file) + str(barsKeys[barIdx]) +'arrival-rates.png'\n",
    "#     plt.savefig(os.path.join(figures_destination,file_name))\n",
    "#     plt.show()"
   ]
  },
  {
   "cell_type": "code",
   "execution_count": null,
   "metadata": {},
   "outputs": [],
   "source": [
    "\n",
    "\n",
    "# print(barsKeys[barIdx])\n",
    "# for barIdx in range(0,3):\n",
    "#     vol_estimation = volatilityEstimation(bars[barsKeys[barIdx]])\n",
    "#     relative_jump_measure_20 = vol_estimation.relative_jump_measure(200)\n",
    "#     print(pd.DataFrame(relative_jump_measure_20).quantile([.1, .2, .75]).style.format(\"{:.2%}\"))\n",
    "\n",
    "# #     g1 =sns.distplot(relative_jump_measure_10, hist=True, kde=True, \n",
    "# #                  bins=int(200/5), color = 'darkblue', \n",
    "# #                  hist_kws={'edgecolor':'red'},\n",
    "# #                  kde_kws={'linewidth': 2}, \n",
    "# #                     label=\"10-trading-ticks\")\n",
    "    \n",
    "#     g2 =sns.distplot(relative_jump_measure_20, hist=True, kde=True, \n",
    "#                  bins=int(200/5), color = 'green', \n",
    "#                  hist_kws={'edgecolor':'lightblue'},\n",
    "#                  kde_kws={'linewidth': 2},\n",
    "#                     label=\"200-trading ticks\")\n",
    "    \n",
    "#     # plt.gca().xaxis.set_major_formatter(PercentFormatter(1))\n",
    "#     plt.legend()\n",
    "#     _=plt.xlabel('Relative jump metric for '+ str(barsKeys[barIdx])) #y label\n",
    "\n",
    "#     file_name = testSymbol+'_'+str(hash_of_file) + str(barsKeys[barIdx]) +'relative_jump_metric.png'\n",
    "    \n",
    "#     plt.savefig(os.path.join(figures_destination,file_name))\n",
    "#     plt.show()"
   ]
  },
  {
   "cell_type": "code",
   "execution_count": null,
   "metadata": {},
   "outputs": [],
   "source": []
  }
 ],
 "metadata": {
  "kernelspec": {
   "display_name": "Python 3",
   "language": "python",
   "name": "python3"
  },
  "language_info": {
   "codemirror_mode": {
    "name": "ipython",
    "version": 3
   },
   "file_extension": ".py",
   "mimetype": "text/x-python",
   "name": "python",
   "nbconvert_exporter": "python",
   "pygments_lexer": "ipython3",
   "version": "3.7.7"
  },
  "latex_envs": {
   "LaTeX_envs_menu_present": true,
   "autoclose": false,
   "autocomplete": true,
   "bibliofile": "biblio.bib",
   "cite_by": "apalike",
   "current_citInitial": 1,
   "eqLabelWithNumbers": true,
   "eqNumInitial": 1,
   "hotkeys": {
    "equation": "Ctrl-E",
    "itemize": "Ctrl-I"
   },
   "labels_anchors": false,
   "latex_user_defs": false,
   "report_style_numbering": false,
   "user_envs_cfg": false
  }
 },
 "nbformat": 4,
 "nbformat_minor": 5
}
