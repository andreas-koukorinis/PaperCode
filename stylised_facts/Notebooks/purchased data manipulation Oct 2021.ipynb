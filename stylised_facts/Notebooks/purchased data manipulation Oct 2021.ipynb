{
 "cells": [
  {
   "cell_type": "code",
   "execution_count": 12,
   "id": "431c802f",
   "metadata": {},
   "outputs": [],
   "source": [
    "import pandas as pd\n",
    "import json\n",
    "import sys\n",
    "import lob_for_futures as lobFut\n",
    "from lob_for_futures import *\n",
    "import os\n",
    "import matplotlib.pyplot as plt\n",
    "import gzip\n",
    "import dask.dataframe as dd\n",
    "\n",
    "from tqdm import tqdm"
   ]
  },
  {
   "cell_type": "code",
   "execution_count": 2,
   "id": "ec4f59a0",
   "metadata": {},
   "outputs": [
    {
     "data": {
      "text/plain": [
       "'/media/ak/LaCie/LOBDataPurhcased/FGBL'"
      ]
     },
     "execution_count": 2,
     "metadata": {},
     "output_type": "execute_result"
    }
   ],
   "source": [
    "lob_data_purchased = '/media/ak/LaCie/LOBDataPurhcased'\n",
    "symbols = ['ES', 'STXE', 'FGBL']\n",
    "symbol_path = os.path.join(lob_data_purchased, symbols[2])\n",
    "symbol_path"
   ]
  },
  {
   "cell_type": "code",
   "execution_count": 3,
   "id": "18380430",
   "metadata": {},
   "outputs": [
    {
     "data": {
      "text/plain": [
       "['FGBLH2020.csv.gz',\n",
       " 'FGBLH2021.csv.gz',\n",
       " 'FGBLM2019.csv.gz',\n",
       " 'FGBLM2020.csv.gz',\n",
       " 'FGBLU2019.csv.gz',\n",
       " 'FGBLU2020.csv.gz',\n",
       " 'FGBLZ2019.csv.gz',\n",
       " 'FGBLZ2020.csv.gz']"
      ]
     },
     "execution_count": 3,
     "metadata": {},
     "output_type": "execute_result"
    }
   ],
   "source": [
    "os.listdir(symbol_path)"
   ]
  },
  {
   "cell_type": "code",
   "execution_count": 6,
   "id": "c8693923",
   "metadata": {},
   "outputs": [
    {
     "name": "stdout",
     "output_type": "stream",
     "text": [
      "/media/ak/LaCie/LOBDataPurhcased/ES/ESH2020.csv\n",
      "/media/ak/LaCie/LOBDataPurhcased/STXE/STXEH2020.csv\n"
     ]
    }
   ],
   "source": [
    "for root, dirs, files in os.walk(lob_data_purchased):\n",
    "    for file in files:\n",
    "        if file.endswith(\".csv\"):\n",
    "             print(os.path.join(root, file))"
   ]
  },
  {
   "cell_type": "code",
   "execution_count": 13,
   "id": "accd0592",
   "metadata": {},
   "outputs": [],
   "source": [
    "TRAIN_PATH ='/media/ak/LaCie/LOBDataPurhcased/ES/ESH2020.csv'"
   ]
  },
  {
   "cell_type": "code",
   "execution_count": null,
   "id": "37dc7505",
   "metadata": {},
   "outputs": [],
   "source": [
    "import subprocess\n",
    "\n",
    "def file_len(fname):\n",
    "    p = subprocess.Popen(['wc', '-l', fname], stdout=subprocess.PIPE, \n",
    "                                              stderr=subprocess.PIPE)\n",
    "    result, err = p.communicate()\n",
    "    if p.returncode != 0:\n",
    "        raise IOError(err)\n",
    "    return int(result.strip().split()[0])+1\n",
    "\n",
    "n_rows = file_len(TRAIN_PATH)\n",
    "print (f'Exact number of rows: {n_rows}')"
   ]
  },
  {
   "cell_type": "code",
   "execution_count": null,
   "id": "4e842bd2",
   "metadata": {},
   "outputs": [],
   "source": []
  }
 ],
 "metadata": {
  "kernelspec": {
   "display_name": "Python 3",
   "language": "python",
   "name": "python3"
  },
  "language_info": {
   "codemirror_mode": {
    "name": "ipython",
    "version": 3
   },
   "file_extension": ".py",
   "mimetype": "text/x-python",
   "name": "python",
   "nbconvert_exporter": "python",
   "pygments_lexer": "ipython3",
   "version": "3.7.7"
  }
 },
 "nbformat": 4,
 "nbformat_minor": 5
}
