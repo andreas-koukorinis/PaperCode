{
 "cells": [
  {
   "cell_type": "code",
<<<<<<< HEAD
   "execution_count": 1,
=======
   "execution_count": 86,
>>>>>>> 33b27658509860f8b295e10c6e95095d98bdc2a2
   "metadata": {},
   "outputs": [],
   "source": [
    "%matplotlib inline\n",
    "# import all shogun classes\n",
    "from shogun import *\n",
    "import matplotlib.pyplot as plt\n",
    "import numpy as np\n",
    "from sklearn import linear_model\n",
    "import time\n",
    "import os\n",
    "import pandas as pd\n",
<<<<<<< HEAD
    "import pickle"
=======
    "import collections\n",
    "etfData = collections.defaultdict(dict)"
>>>>>>> 33b27658509860f8b295e10c6e95095d98bdc2a2
   ]
  },
  {
   "cell_type": "code",
<<<<<<< HEAD
   "execution_count": 2,
=======
   "execution_count": 87,
   "metadata": {},
   "outputs": [],
   "source": [
    "import stylised_facts_data_utilities.createLOB as createLOB"
   ]
  },
  {
   "cell_type": "code",
   "execution_count": 56,
   "metadata": {},
   "outputs": [],
   "source": [
    "etfDir = '/media/ak/My Passport1/MarketData/ETF_Levels/'\n",
    "etfSymbols = sorted(os.listdir(etfDir))\n"
   ]
  },
  {
   "cell_type": "code",
   "execution_count": 57,
   "metadata": {},
   "outputs": [],
   "source": [
    "etfSymbol_to_number = {label: i-1 for i, label in enumerate(set(etfSymbols), 1)}\n"
   ]
  },
  {
   "cell_type": "code",
   "execution_count": 58,
   "metadata": {},
   "outputs": [],
   "source": [
    "uniqueETFList = list(etfSymbol_to_number.values()) #converting dictionary to ETF list"
   ]
  },
  {
   "cell_type": "code",
   "execution_count": 59,
   "metadata": {},
   "outputs": [],
   "source": [
    "import random\n",
    "twoETFS = random.sample(set(uniqueETFList), 2)"
   ]
  },
  {
   "cell_type": "code",
   "execution_count": 73,
>>>>>>> 33b27658509860f8b295e10c6e95095d98bdc2a2
   "metadata": {},
   "outputs": [
    {
     "name": "stderr",
     "output_type": "stream",
     "text": [
<<<<<<< HEAD
      "/home/ak/.local/lib/python3.6/site-packages/tensorflow/python/framework/dtypes.py:516: FutureWarning: Passing (type, 1) or '1type' as a synonym of type is deprecated; in a future version of numpy, it will be understood as (type, (1,)) / '(1,)type'.\n",
      "  _np_qint8 = np.dtype([(\"qint8\", np.int8, 1)])\n",
      "/home/ak/.local/lib/python3.6/site-packages/tensorflow/python/framework/dtypes.py:517: FutureWarning: Passing (type, 1) or '1type' as a synonym of type is deprecated; in a future version of numpy, it will be understood as (type, (1,)) / '(1,)type'.\n",
      "  _np_quint8 = np.dtype([(\"quint8\", np.uint8, 1)])\n",
      "/home/ak/.local/lib/python3.6/site-packages/tensorflow/python/framework/dtypes.py:518: FutureWarning: Passing (type, 1) or '1type' as a synonym of type is deprecated; in a future version of numpy, it will be understood as (type, (1,)) / '(1,)type'.\n",
      "  _np_qint16 = np.dtype([(\"qint16\", np.int16, 1)])\n",
      "/home/ak/.local/lib/python3.6/site-packages/tensorflow/python/framework/dtypes.py:519: FutureWarning: Passing (type, 1) or '1type' as a synonym of type is deprecated; in a future version of numpy, it will be understood as (type, (1,)) / '(1,)type'.\n",
      "  _np_quint16 = np.dtype([(\"quint16\", np.uint16, 1)])\n",
      "/home/ak/.local/lib/python3.6/site-packages/tensorflow/python/framework/dtypes.py:520: FutureWarning: Passing (type, 1) or '1type' as a synonym of type is deprecated; in a future version of numpy, it will be understood as (type, (1,)) / '(1,)type'.\n",
      "  _np_qint32 = np.dtype([(\"qint32\", np.int32, 1)])\n",
      "/home/ak/.local/lib/python3.6/site-packages/tensorflow/python/framework/dtypes.py:525: FutureWarning: Passing (type, 1) or '1type' as a synonym of type is deprecated; in a future version of numpy, it will be understood as (type, (1,)) / '(1,)type'.\n",
      "  np_resource = np.dtype([(\"resource\", np.ubyte, 1)])\n"
=======
      "Pick the 10  and  0 symbols to play with\n",
      "Symbol Location: /media/ak/My Passport1/MarketData/ETF_Levels/XLF\n",
      "Picked the following ETF:  XLF\n",
      "Symbol Location: /media/ak/My Passport1/MarketData/ETF_Levels/EEM\n",
      "Picked the following ETF:  EEM\n"
>>>>>>> 33b27658509860f8b295e10c6e95095d98bdc2a2
     ]
    }
   ],
   "source": [
<<<<<<< HEAD
    "import stylised_facts_data_utilities.createLOB as createLOB\n",
    "import stylised_facts_data_utilities.mmd as mmd\n",
    "import stylised_facts_data_utilities.ksd as ksd"
=======
    "\n",
    "print('Pick the', twoETFS[0],' and ' ,twoETFS[1], 'symbols to play with')\n",
    "### combine symbol index with etfDir to get all the location\n",
    "for etfIdx in list(twoETFS):\n",
    "    etfSymbolFiles = os.path.join(etfDir, etfSymbols[etfIdx])\n",
    "\n",
    "    print('Symbol Location:', etfSymbolFiles)\n",
    "    ## and make a list of all the dates\n",
    "    listETFSymbolFiles = os.listdir(etfSymbolFiles)\n",
    "\n",
    "    print('Picked the following ETF: ',etfSymbols[etfIdx])\n",
    "    combinedETFfiles_A = dict()\n",
    "    for fileIdx, _ in enumerate(os.listdir(etfSymbolFiles)):\n",
    "        etfFileDate = os.listdir(etfSymbolFiles)[fileIdx]\n",
    "        fileLoc = os.path.join(etfSymbolFiles, os.listdir(etfSymbolFiles)[fileIdx])\n",
    "        combinedETFfiles_A[etfFileDate.split('.')[0]] = pd.read_csv(fileLoc)\n",
    "        "
   ]
  },
  {
   "cell_type": "code",
   "execution_count": 71,
   "metadata": {},
   "outputs": [
    {
     "name": "stdout",
     "output_type": "stream",
     "text": [
      "20120402\n",
      "20120403\n",
      "20120404\n",
      "20120405\n",
      "20120409\n",
      "20120410\n",
      "20120411\n",
      "20120412\n",
      "20120413\n",
      "20120416\n",
      "20120417\n",
      "20120418\n",
      "20120419\n",
      "20120420\n",
      "20120423\n",
      "20120424\n",
      "20120425\n",
      "20120426\n",
      "20120427\n",
      "20120430\n"
     ]
    }
   ],
   "source": [
    "etfDateKeys = listETFSymbolFiles\n",
    "for idxKey, dateKey in enumerate(etfDateKeys):\n",
    "    print (etfDateKeys[idxKey].split(\".\")[0])"
   ]
  },
  {
   "cell_type": "code",
   "execution_count": 74,
   "metadata": {},
   "outputs": [],
   "source": [
    "for idxKey, dateKey in enumerate(etfDateKeys):\n",
    "            originalCreateLOB = createLOB.formatETFlob(combinedETFfiles_A[etfDateKeys[idxKey].split(\".\")[0]])\n",
    "            microPxDict[dateKey] = originalCreateLOB['MicroPriceReturns']\n",
    "            durationsDict[dateKey] = originalCreateLOB['milliSeconds'].diff().fillna(0)"
>>>>>>> 33b27658509860f8b295e10c6e95095d98bdc2a2
   ]
  },
  {
   "cell_type": "code",
<<<<<<< HEAD
   "execution_count": 3,
=======
   "execution_count": 80,
   "metadata": {},
   "outputs": [
    {
     "data": {
      "text/plain": [
       "dict_keys(['20120402', '20120402.csv', '20120403.csv', '20120404.csv', '20120405.csv', '20120409.csv', '20120410.csv', '20120411.csv', '20120412.csv', '20120413.csv', '20120416.csv', '20120417.csv', '20120418.csv', '20120419.csv', '20120420.csv', '20120423.csv', '20120424.csv', '20120425.csv', '20120426.csv', '20120427.csv', '20120430.csv'])"
      ]
     },
     "execution_count": 80,
     "metadata": {},
     "output_type": "execute_result"
    }
   ],
   "source": [
    "microPxDict.keys()\n"
   ]
  },
  {
   "cell_type": "code",
   "execution_count": null,
   "metadata": {},
   "outputs": [],
   "source": []
  },
  {
   "cell_type": "code",
   "execution_count": 76,
>>>>>>> 33b27658509860f8b295e10c6e95095d98bdc2a2
   "metadata": {},
   "outputs": [],
   "source": [
    "# getting all the data in \n",
    "ActivityCLockData= '/media/ak/My Passport/Experiment Data/ActivityClockData/'\n",
    "OHLCData= '/media/ak/My Passport/Experiment Data/OHLCData/'\n",
    "folderList = os.listdir(ActivityCLockData)\n",
    "OHLCDataList = os.listdir(OHLCData)\n",
    "ActivityClockDataList = os.listdir(ActivityCLockData)\n",
    "\n",
<<<<<<< HEAD
    "symbols =['FB1','JB1','FV1','G_1']"
=======
    "#     '''\n",
    "#     go through all the dates for the symbol choice above and create a location for each \n",
    "#     etf symbol+ date csv and read it into a pandas dataframe then store it\n",
    "    \n",
    "#     '''\n",
    "etfFileDate = os.listdir(etfSymbolFiles)[fileIdx]\n",
    "fileLoc = os.path.join(etfSymbolFiles, os.listdir(etfSymbolFiles)[fileIdx])\n",
    "combinedETFfiles_A[etfFileDate.split('.')[0]] = pd.read_csv(fileLoc)"
>>>>>>> 33b27658509860f8b295e10c6e95095d98bdc2a2
   ]
  },
  {
   "cell_type": "code",
<<<<<<< HEAD
   "execution_count": 4,
=======
   "execution_count": 77,
>>>>>>> 33b27658509860f8b295e10c6e95095d98bdc2a2
   "metadata": {},
   "outputs": [
    {
     "name": "stdout",
     "output_type": "stream",
     "text": [
      "This file has  1 days\n"
     ]
    }
   ],
   "source": [
    "symbol1= symbols[1]\n",
    "Symbol1ClocksData = np.sort([s for s in os.listdir(ActivityCLockData) if 'Clocks' in s and (str(symbol1)) in s])\n",
    "Symbol1tickBarDictCondensed = dict()\n"
   ]
  },
  {
   "cell_type": "code",
<<<<<<< HEAD
   "execution_count": 5,
=======
   "execution_count": 24,
>>>>>>> 33b27658509860f8b295e10c6e95095d98bdc2a2
   "metadata": {},
   "outputs": [],
   "source": [
    "for pklidx,_ in enumerate(Symbol1ClocksData):\n",
    "    #print(pklidx)\n",
    "    pklClockFile = \"\".join((ActivityCLockData,Symbol1ClocksData[pklidx]))\n",
    "   # print(pklClockFile)\n",
    "    tickBarDF =pickle.load(open(pklClockFile , \"rb\"))['TickBarDf'] #tickbar\n",
    "    Symbol1tickBarDictCondensed[Symbol1ClocksData[pklidx].split('_')[3]]=tickBarDF [['BidSize', 'QuoteTime','BestBid',\n",
    "       'TradeTime', 'AskSize','BestAsk', 'TradeVolume', 'TradedTime', 'type',\n",
    "       'TradePrice', 'TimeStamp', 'milliSeconds','DollarVolume', 'MicroPrice', 'TradeSize', 'DollarVolumeTraded']]\n",
    "   "
   ]
  },
  {
   "cell_type": "code",
<<<<<<< HEAD
   "execution_count": 6,
=======
   "execution_count": 93,
   "metadata": {},
   "outputs": [
    {
     "data": {
      "text/html": [
       "<div>\n",
       "<style scoped>\n",
       "    .dataframe tbody tr th:only-of-type {\n",
       "        vertical-align: middle;\n",
       "    }\n",
       "\n",
       "    .dataframe tbody tr th {\n",
       "        vertical-align: top;\n",
       "    }\n",
       "\n",
       "    .dataframe thead th {\n",
       "        text-align: right;\n",
       "    }\n",
       "</style>\n",
       "<table border=\"1\" class=\"dataframe\">\n",
       "  <thead>\n",
       "    <tr style=\"text-align: right;\">\n",
       "      <th></th>\n",
       "      <th>millis</th>\n",
       "      <th>bid</th>\n",
       "      <th>ask</th>\n",
       "      <th>l1_bid_size</th>\n",
       "      <th>l1_ask_size</th>\n",
       "      <th>price</th>\n",
       "      <th>volume</th>\n",
       "    </tr>\n",
       "  </thead>\n",
       "  <tbody>\n",
       "    <tr>\n",
       "      <th>0</th>\n",
       "      <td>34200154</td>\n",
       "      <td>42.3</td>\n",
       "      <td>42.30</td>\n",
       "      <td>12</td>\n",
       "      <td>8</td>\n",
       "      <td>42.300</td>\n",
       "      <td>769</td>\n",
       "    </tr>\n",
       "    <tr>\n",
       "      <th>1</th>\n",
       "      <td>34200154</td>\n",
       "      <td>42.3</td>\n",
       "      <td>42.30</td>\n",
       "      <td>12</td>\n",
       "      <td>8</td>\n",
       "      <td>42.300</td>\n",
       "      <td>100</td>\n",
       "    </tr>\n",
       "    <tr>\n",
       "      <th>2</th>\n",
       "      <td>34200156</td>\n",
       "      <td>42.3</td>\n",
       "      <td>42.30</td>\n",
       "      <td>12</td>\n",
       "      <td>8</td>\n",
       "      <td>42.300</td>\n",
       "      <td>2400</td>\n",
       "    </tr>\n",
       "    <tr>\n",
       "      <th>3</th>\n",
       "      <td>34200254</td>\n",
       "      <td>42.3</td>\n",
       "      <td>42.31</td>\n",
       "      <td>52</td>\n",
       "      <td>42</td>\n",
       "      <td>42.300</td>\n",
       "      <td>1000</td>\n",
       "    </tr>\n",
       "    <tr>\n",
       "      <th>4</th>\n",
       "      <td>34200258</td>\n",
       "      <td>42.3</td>\n",
       "      <td>42.31</td>\n",
       "      <td>52</td>\n",
       "      <td>42</td>\n",
       "      <td>42.300</td>\n",
       "      <td>100</td>\n",
       "    </tr>\n",
       "    <tr>\n",
       "      <th>...</th>\n",
       "      <td>...</td>\n",
       "      <td>...</td>\n",
       "      <td>...</td>\n",
       "      <td>...</td>\n",
       "      <td>...</td>\n",
       "      <td>...</td>\n",
       "      <td>...</td>\n",
       "    </tr>\n",
       "    <tr>\n",
       "      <th>84154</th>\n",
       "      <td>57655750</td>\n",
       "      <td>42.2</td>\n",
       "      <td>42.21</td>\n",
       "      <td>21</td>\n",
       "      <td>32</td>\n",
       "      <td>42.200</td>\n",
       "      <td>100</td>\n",
       "    </tr>\n",
       "    <tr>\n",
       "      <th>84155</th>\n",
       "      <td>57655750</td>\n",
       "      <td>42.2</td>\n",
       "      <td>42.21</td>\n",
       "      <td>21</td>\n",
       "      <td>32</td>\n",
       "      <td>42.200</td>\n",
       "      <td>300</td>\n",
       "    </tr>\n",
       "    <tr>\n",
       "      <th>84156</th>\n",
       "      <td>57656448</td>\n",
       "      <td>42.2</td>\n",
       "      <td>42.21</td>\n",
       "      <td>18</td>\n",
       "      <td>32</td>\n",
       "      <td>42.205</td>\n",
       "      <td>463501</td>\n",
       "    </tr>\n",
       "    <tr>\n",
       "      <th>84157</th>\n",
       "      <td>57657296</td>\n",
       "      <td>42.2</td>\n",
       "      <td>42.21</td>\n",
       "      <td>26</td>\n",
       "      <td>32</td>\n",
       "      <td>42.200</td>\n",
       "      <td>200</td>\n",
       "    </tr>\n",
       "    <tr>\n",
       "      <th>84158</th>\n",
       "      <td>57657858</td>\n",
       "      <td>42.2</td>\n",
       "      <td>42.21</td>\n",
       "      <td>26</td>\n",
       "      <td>32</td>\n",
       "      <td>42.200</td>\n",
       "      <td>708</td>\n",
       "    </tr>\n",
       "  </tbody>\n",
       "</table>\n",
       "<p>84159 rows × 7 columns</p>\n",
       "</div>"
      ],
      "text/plain": [
       "         millis   bid    ask  l1_bid_size  l1_ask_size   price  volume\n",
       "0      34200154  42.3  42.30           12            8  42.300     769\n",
       "1      34200154  42.3  42.30           12            8  42.300     100\n",
       "2      34200156  42.3  42.30           12            8  42.300    2400\n",
       "3      34200254  42.3  42.31           52           42  42.300    1000\n",
       "4      34200258  42.3  42.31           52           42  42.300     100\n",
       "...         ...   ...    ...          ...          ...     ...     ...\n",
       "84154  57655750  42.2  42.21           21           32  42.200     100\n",
       "84155  57655750  42.2  42.21           21           32  42.200     300\n",
       "84156  57656448  42.2  42.21           18           32  42.205  463501\n",
       "84157  57657296  42.2  42.21           26           32  42.200     200\n",
       "84158  57657858  42.2  42.21           26           32  42.200     708\n",
       "\n",
       "[84159 rows x 7 columns]"
      ]
     },
     "execution_count": 93,
     "metadata": {},
     "output_type": "execute_result"
    }
   ],
   "source": [
    "combinedETFfiles_A[etfDateKeys[0]]"
   ]
  },
  {
   "cell_type": "code",
   "execution_count": 81,
>>>>>>> 33b27658509860f8b295e10c6e95095d98bdc2a2
   "metadata": {},
   "outputs": [],
   "source": [
    "symbol2= symbols[3]\n",
    "Symbol2ClocksData = np.sort([s for s in os.listdir(ActivityCLockData) if 'Clocks' in s and (str(symbol2)) in s])\n",
    "Symbol2tickBarDictCondensed = dict()\n",
    "for pklidx in range(0,19):\n",
    "    pklClockFile = \"\".join((ActivityCLockData,Symbol2ClocksData[pklidx]))\n",
    "    tickBarDF =pickle.load(open(pklClockFile , \"rb\"))['TickBarDf'] #tickbar\n",
    "    Symbol2tickBarDictCondensed[Symbol2ClocksData[pklidx].split('_')[4]]=tickBarDF [['BidSize', 'QuoteTime','BestBid',\n",
    "       'TradeTime', 'AskSize','BestAsk', 'TradeVolume', 'TradedTime', 'type',\n",
    "       'TradePrice', 'TimeStamp', 'milliSeconds','DollarVolume', 'MicroPrice', 'TradeSize', 'DollarVolumeTraded']]\n"
   ]
  },
  {
   "cell_type": "code",
<<<<<<< HEAD
   "execution_count": 12,
   "metadata": {},
   "outputs": [],
   "source": [
    "Symbol1keys = list(Symbol1tickBarDictCondensed.keys())\n",
    "Symbol2keys = list(Symbol2tickBarDictCondensed.keys())\n",
    "\n",
    "mp1 = pd.concat(list(Symbol1tickBarDictCondensed.values() ), axis=0, keys=Symbol1keys)\n",
    "mp2 = pd.concat(list(Symbol2tickBarDictCondensed.values() ), axis=0, keys=Symbol2keys)\n",
    "mp1['MicroPriceChange']=mp1.MicroPrice.pct_change()\n",
    "mp2['MicroPriceChange']=mp2.MicroPrice.pct_change()"
=======
   "execution_count": 82,
   "metadata": {},
   "outputs": [],
   "source": [
    "microPriceArray = dfConcat.dropna().values"
   ]
  },
  {
   "cell_type": "code",
   "execution_count": 85,
   "metadata": {},
   "outputs": [
    {
     "data": {
      "image/png": "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\n",
      "text/plain": [
       "<Figure size 432x288 with 1 Axes>"
      ]
     },
     "metadata": {
      "needs_background": "light"
     },
     "output_type": "display_data"
    }
   ],
   "source": [
    "fig = plt.figure()\n",
    "ax=plt.hist(microPriceArray, alpha=0.5, color='r', bins=40)\n",
    "# figuresTarget = os.path.join(figuresFolder, str(symbol2)+\"micropriceHisto.png\")\n",
    "# plt.title('Microprice for symbol '+ str(symbol2))\n",
    "# plt.savefig(figuresTarget )\n",
    "plt.tight_layout()"
   ]
  },
  {
   "cell_type": "code",
   "execution_count": 26,
   "metadata": {},
   "outputs": [],
   "source": [
    "\n",
    "mPnonZero = microPriceArray[microPriceArray!=0]"
   ]
  },
  {
   "cell_type": "code",
   "execution_count": 27,
   "metadata": {},
   "outputs": [
    {
     "data": {
      "text/html": [
       "<div>\n",
       "<style scoped>\n",
       "    .dataframe tbody tr th:only-of-type {\n",
       "        vertical-align: middle;\n",
       "    }\n",
       "\n",
       "    .dataframe tbody tr th {\n",
       "        vertical-align: top;\n",
       "    }\n",
       "\n",
       "    .dataframe thead th {\n",
       "        text-align: right;\n",
       "    }\n",
       "</style>\n",
       "<table border=\"1\" class=\"dataframe\">\n",
       "  <thead>\n",
       "    <tr style=\"text-align: right;\">\n",
       "      <th></th>\n",
       "      <th>0</th>\n",
       "    </tr>\n",
       "  </thead>\n",
       "  <tbody>\n",
       "    <tr>\n",
       "      <th>count</th>\n",
       "      <td>9.317000e+03</td>\n",
       "    </tr>\n",
       "    <tr>\n",
       "      <th>mean</th>\n",
       "      <td>1.657738e-06</td>\n",
       "    </tr>\n",
       "    <tr>\n",
       "      <th>std</th>\n",
       "      <td>9.737363e-05</td>\n",
       "    </tr>\n",
       "    <tr>\n",
       "      <th>min</th>\n",
       "      <td>-8.828655e-04</td>\n",
       "    </tr>\n",
       "    <tr>\n",
       "      <th>25%</th>\n",
       "      <td>-6.911962e-06</td>\n",
       "    </tr>\n",
       "    <tr>\n",
       "      <th>50%</th>\n",
       "      <td>6.844977e-07</td>\n",
       "    </tr>\n",
       "    <tr>\n",
       "      <th>75%</th>\n",
       "      <td>8.803716e-06</td>\n",
       "    </tr>\n",
       "    <tr>\n",
       "      <th>max</th>\n",
       "      <td>8.508555e-04</td>\n",
       "    </tr>\n",
       "  </tbody>\n",
       "</table>\n",
       "</div>"
      ],
      "text/plain": [
       "                  0\n",
       "count  9.317000e+03\n",
       "mean   1.657738e-06\n",
       "std    9.737363e-05\n",
       "min   -8.828655e-04\n",
       "25%   -6.911962e-06\n",
       "50%    6.844977e-07\n",
       "75%    8.803716e-06\n",
       "max    8.508555e-04"
      ]
     },
     "execution_count": 27,
     "metadata": {},
     "output_type": "execute_result"
    }
   ],
   "source": [
    "pd.DataFrame(mPnonZero).describe()"
>>>>>>> 33b27658509860f8b295e10c6e95095d98bdc2a2
   ]
  },
  {
   "cell_type": "code",
<<<<<<< HEAD
   "execution_count": 13,
=======
   "execution_count": 28,
>>>>>>> 33b27658509860f8b295e10c6e95095d98bdc2a2
   "metadata": {},
   "outputs": [],
   "source": [
    "X =mp1[(mp1.MicroPriceChange<mp1.MicroPriceChange.quantile(.95)) & (mp1.MicroPriceChange>mp1.MicroPriceChange.quantile(.05))].MicroPriceChange.values\n",
    "Y =mp2[(mp2.MicroPriceChange<mp2.MicroPriceChange.quantile(.95)) & (mp2.MicroPriceChange>mp1.MicroPriceChange.quantile(.05))].MicroPriceChange.values"
   ]
  },
  {
   "cell_type": "code",
<<<<<<< HEAD
   "execution_count": 15,
=======
   "execution_count": 29,
>>>>>>> 33b27658509860f8b295e10c6e95095d98bdc2a2
   "metadata": {},
   "outputs": [
    {
     "name": "stdout",
     "output_type": "stream",
     "text": [
      "(5135,) (4182,)\n"
     ]
    }
   ],
   "source": [
    "from scipy import signal\n",
    "train=  signal.resample(Y, 20000)\n",
    "test = signal.resample(X, 20000)"
   ]
  },
  {
   "cell_type": "code",
<<<<<<< HEAD
   "execution_count": 16,
=======
   "execution_count": null,
   "metadata": {},
   "outputs": [],
   "source": []
  },
  {
   "cell_type": "code",
   "execution_count": 30,
>>>>>>> 33b27658509860f8b295e10c6e95095d98bdc2a2
   "metadata": {},
   "outputs": [],
   "source": [
    "features_p  =  RealFeatures(train.reshape(1,len(train)))\n",
    "features_q = RealFeatures(test.reshape(1,len(test)))"
   ]
  },
  {
   "cell_type": "code",
<<<<<<< HEAD
   "execution_count": 17,
=======
   "execution_count": 31,
>>>>>>> 33b27658509860f8b295e10c6e95095d98bdc2a2
   "metadata": {},
   "outputs": [],
   "source": [
    "mmd = LinearTimeMMD()\n",
    "kernel = GaussianKernel(10, 1)\n",
    "mmd.set_kernel(kernel)\n",
    "mmd.set_p(features_p)\n",
    "mmd.set_q(features_q)\n",
    "mmd.set_num_samples_p(1000)\n",
    "mmd.set_num_samples_q(1000)\n",
    "alpha = 0.05"
   ]
  },
  {
   "cell_type": "code",
<<<<<<< HEAD
   "execution_count": 18,
=======
   "execution_count": 32,
>>>>>>> 33b27658509860f8b295e10c6e95095d98bdc2a2
   "metadata": {},
   "outputs": [],
   "source": [
    "mmd.set_statistic_type(ST_BIASED_FULL)\n",
    "statistic = mmd.compute_statistic()"
   ]
  },
  {
   "cell_type": "code",
<<<<<<< HEAD
   "execution_count": 19,
   "metadata": {},
   "outputs": [
    {
     "ename": "SystemError",
     "evalue": "\u001b[1;31m[ERROR]\u001b[0m In file /feedstock_root/build_artefacts/shogun-cpp_1512688880429/work/shogun-shogun_6.1.3/src/shogun/mathematics/Statistics.cpp line 357: Standard deviation (-nan); must be positive\n",
     "output_type": "error",
     "traceback": [
      "\u001b[0;31m---------------------------------------------------------------------------\u001b[0m",
      "\u001b[0;31mSystemError\u001b[0m                               Traceback (most recent call last)",
      "\u001b[0;32m<ipython-input-19-5bb0986913c7>\u001b[0m in \u001b[0;36m<module>\u001b[0;34m\u001b[0m\n\u001b[0;32m----> 1\u001b[0;31m \u001b[0mthreshold\u001b[0m \u001b[0;34m=\u001b[0m \u001b[0mmmd\u001b[0m\u001b[0;34m.\u001b[0m\u001b[0mcompute_threshold\u001b[0m\u001b[0;34m(\u001b[0m\u001b[0malpha\u001b[0m\u001b[0;34m)\u001b[0m\u001b[0;34m\u001b[0m\u001b[0;34m\u001b[0m\u001b[0m\n\u001b[0m\u001b[1;32m      2\u001b[0m \u001b[0mp_value\u001b[0m \u001b[0;34m=\u001b[0m \u001b[0mmmd\u001b[0m\u001b[0;34m.\u001b[0m\u001b[0mcompute_p_value\u001b[0m\u001b[0;34m(\u001b[0m\u001b[0mstatistic\u001b[0m\u001b[0;34m)\u001b[0m\u001b[0;34m\u001b[0m\u001b[0;34m\u001b[0m\u001b[0m\n\u001b[1;32m      3\u001b[0m \u001b[0mprint\u001b[0m\u001b[0;34m(\u001b[0m\u001b[0mp_value\u001b[0m\u001b[0;34m)\u001b[0m\u001b[0;34m\u001b[0m\u001b[0;34m\u001b[0m\u001b[0m\n",
      "\u001b[0;31mSystemError\u001b[0m: \u001b[1;31m[ERROR]\u001b[0m In file /feedstock_root/build_artefacts/shogun-cpp_1512688880429/work/shogun-shogun_6.1.3/src/shogun/mathematics/Statistics.cpp line 357: Standard deviation (-nan); must be positive\n"
=======
   "execution_count": 33,
   "metadata": {},
   "outputs": [
    {
     "name": "stdout",
     "output_type": "stream",
     "text": [
      "0.0\n"
>>>>>>> 33b27658509860f8b295e10c6e95095d98bdc2a2
     ]
    }
   ],
   "source": [
    "threshold = mmd.compute_threshold(alpha)\n",
    "p_value = mmd.compute_p_value(statistic)\n",
    "print(p_value)"
   ]
  },
  {
   "cell_type": "code",
   "execution_count": 34,
   "metadata": {},
   "outputs": [
    {
     "data": {
      "image/png": "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\n",
      "text/plain": [
       "<Figure size 432x288 with 1 Axes>"
      ]
     },
     "metadata": {
      "needs_background": "light"
     },
     "output_type": "display_data"
    }
   ],
   "source": [
    "X = train\n",
    "Y = test\n",
    "plt.hist(X, alpha=0.5)\n",
    "plt.hist(Y, alpha=0.5);"
   ]
  },
  {
   "cell_type": "code",
   "execution_count": 35,
   "metadata": {},
   "outputs": [],
   "source": [
    "import tqdm as tqdm"
   ]
  },
  {
   "cell_type": "code",
   "execution_count": 36,
   "metadata": {},
   "outputs": [
    {
     "name": "stdout",
     "output_type": "stream",
     "text": [
      "Mean differencce: 2.180823489946068e-06\n"
     ]
    }
   ],
   "source": [
    "\n",
    "def simple_statistic(X,Y, squared=False):\n",
    "    assert X.ndim == Y.ndim == 1\n",
    "    \n",
    "    # IMPLEMENT: compute mean difference of X and Y\n",
    "    result = np.mean(X) - np.mean(Y)\n",
    "    \n",
    "    if squared:\n",
    "        result *= result\n",
    "    return result\n",
    "\n",
    "my_statistic = simple_statistic(X,Y)\n",
    "print(\"Mean differencce:\", my_statistic)\n"
   ]
  },
  {
   "cell_type": "code",
   "execution_count": 37,
   "metadata": {},
   "outputs": [],
   "source": [
    "def two_sample_permutation_test(test_statistic, X, Y, num_permutations, prog_bar=True):\n",
    "    assert X.ndim == Y.ndim\n",
    "    \n",
    "    statistics = np.zeros(num_permutations)\n",
    "    \n",
    "    range_ = range(num_permutations)\n",
    "    if prog_bar:\n",
    "        range_ = tqdm(range_)\n",
    "    for i in range_:\n",
    "        # concatenate samples\n",
    "        if X.ndim == 1:\n",
    "            Z = np.hstack((X,Y))\n",
    "        elif X.ndim == 2:\n",
    "            Z = np.vstack((X,Y))\n",
    "            \n",
    "        # IMPLEMENT: permute samples and compute test statistic\n",
    "        perm_inds = np.random.permutation(len(Z))\n",
    "        Z = Z[perm_inds]\n",
    "        X_ = Z[:len(X)]\n",
    "        Y_ = Z[len(X):]\n",
    "        my_test_statistic = test_statistic(X_, Y_)\n",
    "        statistics[i] = my_test_statistic\n",
    "    return statistics\n",
    "\n",
    "num_permutations = 200\n",
    "statistics = two_sample_permutation_test(simple_statistic, X, Y, num_permutations,prog_bar=False)"
   ]
  },
  {
   "cell_type": "code",
   "execution_count": 44,
   "metadata": {},
   "outputs": [
    {
     "data": {
      "image/png": "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\n",
      "text/plain": [
       "<Figure size 432x288 with 1 Axes>"
      ]
     },
     "metadata": {
      "needs_background": "light"
     },
     "output_type": "display_data"
    }
   ],
   "source": [
    "def plot_permutation_samples(null_samples, statistic=None):\n",
    "    plt.hist(null_samples, bins=50)\n",
    "    plt.axvline(x=np.percentile(null_samples, 2.5), c='b')\n",
    "    legend = [\"95% quantiles\"]\n",
    "    if statistic is not None:\n",
    "        plt.axvline(x=statistic, c='r')\n",
    "        legend += [\"Actual test statistic\"]\n",
    "    plt.legend(legend)\n",
    "    plt.axvline(x=np.percentile(null_samples, 97.5), c='b')\n",
    "    plt.xlabel(\"Test statistic value\")\n",
    "    plt.ylabel(\"Counts\")\n",
    "    \n",
    "plot_permutation_samples(statistics, my_statistic)"
   ]
  },
  {
   "cell_type": "code",
   "execution_count": 48,
   "metadata": {},
   "outputs": [],
   "source": [
    "def plot_permutation_samples_with_location(null_samples, statistic=None, location=None, title = None):\n",
    "    plt.hist(null_samples, bins=50)\n",
    "    plt.axvline(x=np.percentile(null_samples, 2.5), c='b')\n",
    "    legend = [\"95% quantiles\"]\n",
    "    if statistic is not None:\n",
    "        plt.axvline(x=statistic, c='r')\n",
    "        legend += [\"Actual test statistic\"]\n",
    "    plt.legend(legend)\n",
    "    plt.axvline(x=np.percentile(null_samples, 97.5), c='b')\n",
    "    plt.xlabel(\"Test statistic value\")\n",
    "    plt.ylabel(\"Counts\")\n",
    "    locGraph = location + title\n",
    "    plt.savefig(location + title +\".png\")"
   ]
  },
  {
   "cell_type": "code",
   "execution_count": 45,
   "metadata": {},
   "outputs": [],
   "source": [
    "from scipy.spatial.distance import squareform, pdist, cdist\n",
    "\n",
    "def sq_distances(X,Y=None):\n",
    "    \"\"\"\n",
    "    If Y=None, then this computes the distance between X and itself\n",
    "    \"\"\"\n",
    "    assert(X.ndim==2)\n",
    "\n",
    "    # IMPLEMENT: compute pairwise distance matrix. Don't use explicit loops, but the above scipy functions\n",
    "    # if X=Y, use more efficient pdist call which exploits symmetry\n",
    "    if Y is None:\n",
    "        sq_dists = squareform(pdist(X, 'sqeuclidean'))\n",
    "    else:\n",
    "        assert(Y.ndim==2)\n",
    "        assert(X.shape[1]==Y.shape[1])\n",
    "        sq_dists = cdist(X, Y, 'sqeuclidean')\n",
    "\n",
    "    return sq_dists\n",
    "\n",
    "def gauss_kernel(X, Y=None, sigma=1.0):\n",
    "    \"\"\"\n",
    "    Computes the standard Gaussian kernel k(x,y)=exp(- ||x-y||**2 / (2 * sigma**2))\n",
    "\n",
    "    X - 2d array, samples on left hand side\n",
    "    Y - 2d array, samples on right hand side, can be None in which case they are replaced by X\n",
    "    \n",
    "    returns: kernel matrix\n",
    "    \"\"\"\n",
    "\n",
    "    # IMPLEMENT: compute squared distances and kernel matrix\n",
    "    sq_dists = sq_distances(X,Y)\n",
    "    K = np.exp(-sq_dists / (2 * sigma**2))\n",
    "    return K\n",
    "\n",
    "# IMPLEMENT\n",
    "def linear_kernel(X, Y):\n",
    "    return np.dot(X, Y.T)"
   ]
  },
  {
   "cell_type": "code",
   "execution_count": 46,
   "metadata": {},
   "outputs": [],
   "source": [
    "def quadratic_time_mmd(X,Y,kernel):\n",
    "    assert X.ndim == Y.ndim == 2\n",
    "    K_XX = kernel(X,X)\n",
    "    K_XY = kernel(X,Y)\n",
    "    K_YY = kernel(Y,Y)\n",
    "       \n",
    "    n = len(K_XX)\n",
    "    m = len(K_YY)\n",
    "    \n",
    "    # IMPLEMENT: unbiased MMD statistic (could also use biased, doesn't matter if we use permutation tests)\n",
    "    np.fill_diagonal(K_XX, 0)\n",
    "    np.fill_diagonal(K_YY, 0)\n",
    "    mmd = np.sum(K_XX) / (n*(n-1))  + np.sum(K_YY) / (m*(m-1))  - 2*np.sum(K_XY)/(n*m)\n",
    "    return mmd"
   ]
  },
  {
   "cell_type": "code",
   "execution_count": 47,
   "metadata": {},
   "outputs": [
    {
     "data": {
      "image/png": "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\n",
      "text/plain": [
       "<Figure size 432x288 with 1 Axes>"
      ]
     },
     "metadata": {
      "needs_background": "light"
     },
     "output_type": "display_data"
    }
   ],
   "source": [
    "my_kernel = lambda X,Y : gauss_kernel(X,Y,sigma=0.3)\n",
    "my_mmd = lambda X,Y : quadratic_time_mmd(X[:,np.newaxis],Y[:,np.newaxis], my_kernel)\n",
    "\n",
    "statistics = two_sample_permutation_test(my_mmd, X, Y, num_permutations, prog_bar=False)\n",
    "my_statistic = my_mmd(X,Y)\n",
    "\n",
    "plot_permutation_samples(statistics, my_statistic)"
   ]
  },
  {
   "cell_type": "code",
   "execution_count": null,
   "metadata": {},
   "outputs": [],
   "source": []
  },
  {
   "cell_type": "code",
   "execution_count": null,
   "metadata": {},
   "outputs": [],
   "source": []
  }
 ],
 "metadata": {
  "kernelspec": {
   "display_name": "Python 3",
   "language": "python",
   "name": "python3"
  },
  "language_info": {
   "codemirror_mode": {
    "name": "ipython",
    "version": 3
   },
   "file_extension": ".py",
   "mimetype": "text/x-python",
   "name": "python",
   "nbconvert_exporter": "python",
   "pygments_lexer": "ipython3",
   "version": "3.6.10"
  },
  "latex_envs": {
   "LaTeX_envs_menu_present": true,
   "autoclose": false,
   "autocomplete": true,
   "bibliofile": "biblio.bib",
   "cite_by": "apalike",
   "current_citInitial": 1,
   "eqLabelWithNumbers": true,
   "eqNumInitial": 1,
   "hotkeys": {
    "equation": "Ctrl-E",
    "itemize": "Ctrl-I"
   },
   "labels_anchors": false,
   "latex_user_defs": false,
   "report_style_numbering": false,
   "user_envs_cfg": false
  }
 },
 "nbformat": 4,
 "nbformat_minor": 4
}
