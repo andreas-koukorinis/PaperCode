{
 "cells": [
  {
   "cell_type": "code",
   "execution_count": 1,
   "id": "b95ddf61",
   "metadata": {},
   "outputs": [],
   "source": [
    "import numpy as np\n",
    "import matplotlib.pyplot as plt\n",
    "%matplotlib inline"
   ]
  },
  {
   "cell_type": "code",
   "execution_count": 2,
   "id": "2282af47",
   "metadata": {},
   "outputs": [
    {
     "data": {
      "text/plain": [
       "'1.3.2'"
      ]
     },
     "execution_count": 2,
     "metadata": {},
     "output_type": "execute_result"
    }
   ],
   "source": [
    "import fathon\n",
    "from fathon import fathonUtils as fu\n",
    "fathon.__version__"
   ]
  },
  {
   "cell_type": "code",
   "execution_count": 5,
   "id": "ddb819f6",
   "metadata": {},
   "outputs": [],
   "source": [
    "a = np.random.randn(10000)\n",
    "b = np.random.randn(10000)\n",
    "\n",
    "a = fu.toAggregated(a)\n",
    "b = fu.toAggregated(b)"
   ]
  },
  {
   "cell_type": "code",
   "execution_count": 6,
   "id": "212fa550",
   "metadata": {},
   "outputs": [
    {
     "data": {
      "text/plain": [
       "10000"
      ]
     },
     "execution_count": 6,
     "metadata": {},
     "output_type": "execute_result"
    }
   ],
   "source": [
    "len(a)"
   ]
  },
  {
   "cell_type": "code",
   "execution_count": 7,
   "id": "7a30d081",
   "metadata": {},
   "outputs": [],
   "source": [
    "pydfa = fathon.DFA(a)"
   ]
  },
  {
   "cell_type": "code",
   "execution_count": 8,
   "id": "a93fdaa6",
   "metadata": {},
   "outputs": [],
   "source": [
    "winSizes = fu.linRangeByStep(10, 2000)\n",
    "revSeg = True\n",
    "polOrd = 3"
   ]
  },
  {
   "cell_type": "code",
   "execution_count": 9,
   "id": "5af7a17f",
   "metadata": {},
   "outputs": [
    {
     "data": {
      "text/plain": [
       "1991"
      ]
     },
     "execution_count": 9,
     "metadata": {},
     "output_type": "execute_result"
    }
   ],
   "source": [
    "len(winSizes)"
   ]
  },
  {
   "cell_type": "code",
   "execution_count": 10,
   "id": "bcf9a16c",
   "metadata": {},
   "outputs": [
    {
     "name": "stdout",
     "output_type": "stream",
     "text": [
      "CPU times: user 14.7 s, sys: 83.9 ms, total: 14.8 s\n",
      "Wall time: 2.33 s\n"
     ]
    }
   ],
   "source": [
    "%%time\n",
    "n, F = pydfa.computeFlucVec(winSizes, revSeg=revSeg, polOrd=polOrd)"
   ]
  },
  {
   "cell_type": "code",
   "execution_count": 11,
   "id": "03cc76cf",
   "metadata": {},
   "outputs": [
    {
     "data": {
      "text/plain": [
       "1991"
      ]
     },
     "execution_count": 11,
     "metadata": {},
     "output_type": "execute_result"
    }
   ],
   "source": [
    "len(n)"
   ]
  },
  {
   "cell_type": "code",
   "execution_count": 12,
   "id": "8f491706",
   "metadata": {},
   "outputs": [],
   "source": [
    "winSizes = fu.linRangeByStep(10, 2000)  # this needs to be more dynamic\n",
    "qs = np.arange(-3, 4, 0.1)\n",
    "revSeg = True\n",
    "polOrd = 1"
   ]
  },
  {
   "cell_type": "code",
   "execution_count": 13,
   "id": "8b47ead0",
   "metadata": {},
   "outputs": [
    {
     "data": {
      "text/plain": [
       "1991"
      ]
     },
     "execution_count": 13,
     "metadata": {},
     "output_type": "execute_result"
    }
   ],
   "source": [
    "len(winSizes)"
   ]
  },
  {
   "cell_type": "code",
   "execution_count": null,
   "id": "a8e50c52",
   "metadata": {},
   "outputs": [],
   "source": []
  }
 ],
 "metadata": {
  "kernelspec": {
   "display_name": "Python 3 (ipykernel)",
   "language": "python",
   "name": "python3"
  },
  "language_info": {
   "codemirror_mode": {
    "name": "ipython",
    "version": 3
   },
   "file_extension": ".py",
   "mimetype": "text/x-python",
   "name": "python",
   "nbconvert_exporter": "python",
   "pygments_lexer": "ipython3",
   "version": "3.7.12"
  }
 },
 "nbformat": 4,
 "nbformat_minor": 5
}
