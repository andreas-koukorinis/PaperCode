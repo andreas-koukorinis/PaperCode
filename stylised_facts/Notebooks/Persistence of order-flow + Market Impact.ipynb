{
 "cells": [
  {
   "cell_type": "markdown",
   "metadata": {},
   "source": [
    "# assumptions and investigative questions\n"
   ]
  },
  {
   "cell_type": "markdown",
   "metadata": {},
   "source": [
    "1/ The price impact of aggregate transactions, i.e. the sum of signed transaction volumes \n",
    "over a given number of trades or time interval -is a different story.\n",
    "2/ we perform an empirical study of a new, high-quality data\n",
    "set from a large electronic trading platform in the foreign exchange (FX) spot\n",
    "market to assess the long-memory properties of order °ow for three liquid\n",
    "currency pairs\n",
    "2/Due to the extremely high levels of market activity on the\n",
    "platform, and in contrast to existing empirical studies of other markets, our\n",
    "data enables us to perform statistically stable estimates of the long-memory\n",
    "properties of intra-day order °ow without needing to aggregate data\n",
    "from di®erent trading days"
   ]
  },
  {
   "cell_type": "markdown",
   "metadata": {},
   "source": [
    "1/We test the hypothesis that the apparent long memory - long memory of order °ow in the FX spot\n",
    "market is a robust empirical property that persists across daily boundaries"
   ]
  },
  {
   "cell_type": "code",
   "execution_count": null,
   "metadata": {},
   "outputs": [],
   "source": []
  }
 ],
 "metadata": {
  "kernelspec": {
   "display_name": "Python 3",
   "language": "python",
   "name": "python3"
  },
  "language_info": {
   "codemirror_mode": {
    "name": "ipython",
    "version": 3
   },
   "file_extension": ".py",
   "mimetype": "text/x-python",
   "name": "python",
   "nbconvert_exporter": "python",
   "pygments_lexer": "ipython3",
   "version": "3.6.8"
  },
  "latex_envs": {
   "LaTeX_envs_menu_present": true,
   "autoclose": false,
   "autocomplete": true,
   "bibliofile": "biblio.bib",
   "cite_by": "apalike",
   "current_citInitial": 1,
   "eqLabelWithNumbers": true,
   "eqNumInitial": 1,
   "hotkeys": {
    "equation": "Ctrl-E",
    "itemize": "Ctrl-I"
   },
   "labels_anchors": false,
   "latex_user_defs": false,
   "report_style_numbering": false,
   "user_envs_cfg": false
  }
 },
 "nbformat": 4,
 "nbformat_minor": 2
}
