{
 "cells": [
  {
   "cell_type": "code",
   "execution_count": 53,
   "outputs": [],
   "source": [
    "\n",
    "import numpy as np\n",
    "import sys\n",
    "import multiprocessing\n",
    "import time\n",
    "import os\n",
    "\n",
    "import matplotlib.pyplot as plt\n",
    "import seaborn as sns\n",
    "from dateutil.parser import parse\n",
    "from pandas.tseries.offsets import BDay\n",
    "import multiprocessing.pool\n",
    "from datetime import datetime\n",
    "import pandas as pd\n",
    "import os\n",
    "import numpy as np\n",
    "from functools import partial\n",
    "import dask.dataframe as dd\n",
    "import dask.multiprocessing\n",
    "\n",
    "LOB = pd.DataFrame()\n",
    "import datetime\n",
    "import os\n",
    "import dask.dataframe as dd\n",
    "from pathlib import Path"
   ],
   "metadata": {
    "collapsed": false,
    "pycharm": {
     "name": "#%%\n"
    }
   }
  },
  {
   "cell_type": "code",
   "execution_count": 4,
   "outputs": [],
   "source": [
    "data1 = '/media/ak/Data1/'\n",
    "\n",
    "trades_quotes_folder = os.path.join(data1, 'TradesPurchased')\n",
    "\n",
    "processed_sampled_data = os.path.join(data1, 'ProcessedSampledData/')\n",
    "tmp_folder =os.path.join(trades_quotes_folder, 'tmp')"
   ],
   "metadata": {
    "collapsed": false,
    "pycharm": {
     "name": "#%%\n"
    }
   }
  },
  {
   "cell_type": "code",
   "execution_count": 15,
   "outputs": [],
   "source": [
    "tmp_files = os.listdir(tmp_folder)\n",
    "symbol = 'JNI'\n",
    "folder_quotes_loc = os.path.join(tmp_folder, symbol+'_quotes')\n",
    "folder_trades_loc = os.path.join(tmp_folder, symbol+'_trades')\n",
    "trades_dates =[ f.split(\".\")[0] for f in os.listdir(folder_trades_loc)]\n",
    "quotes_dates =[ f.split(\".\")[0] for f in os.listdir(folder_quotes_loc)]"
   ],
   "metadata": {
    "collapsed": false,
    "pycharm": {
     "name": "#%%\n"
    }
   }
  },
  {
   "cell_type": "code",
   "execution_count": 19,
   "outputs": [],
   "source": [
    "def intersection(lst1, lst2):\n",
    "    return set(lst1).intersection(lst2)"
   ],
   "metadata": {
    "collapsed": false,
    "pycharm": {
     "name": "#%%\n"
    }
   }
  },
  {
   "cell_type": "code",
   "execution_count": 28,
   "outputs": [],
   "source": [
    "trades_and_quotes = sorted(intersection(trades_dates,quotes_dates))"
   ],
   "metadata": {
    "collapsed": false,
    "pycharm": {
     "name": "#%%\n"
    }
   }
  },
  {
   "cell_type": "code",
   "execution_count": 40,
   "outputs": [
    {
     "data": {
      "text/plain": "   Unnamed: 0        Date             Time    Price  Volume\n0       96423  05/20/2019  16:34:56.168645  21080.0     1.0\n1       96470  05/20/2019  16:40:14.909872  21040.0     1.0\n2       97536  05/20/2019  19:11:40.372648  20950.0     1.0",
      "text/html": "<div>\n<style scoped>\n    .dataframe tbody tr th:only-of-type {\n        vertical-align: middle;\n    }\n\n    .dataframe tbody tr th {\n        vertical-align: top;\n    }\n\n    .dataframe thead th {\n        text-align: right;\n    }\n</style>\n<table border=\"1\" class=\"dataframe\">\n  <thead>\n    <tr style=\"text-align: right;\">\n      <th></th>\n      <th>Unnamed: 0</th>\n      <th>Date</th>\n      <th>Time</th>\n      <th>Price</th>\n      <th>Volume</th>\n    </tr>\n  </thead>\n  <tbody>\n    <tr>\n      <th>0</th>\n      <td>96423</td>\n      <td>05/20/2019</td>\n      <td>16:34:56.168645</td>\n      <td>21080.0</td>\n      <td>1.0</td>\n    </tr>\n    <tr>\n      <th>1</th>\n      <td>96470</td>\n      <td>05/20/2019</td>\n      <td>16:40:14.909872</td>\n      <td>21040.0</td>\n      <td>1.0</td>\n    </tr>\n    <tr>\n      <th>2</th>\n      <td>97536</td>\n      <td>05/20/2019</td>\n      <td>19:11:40.372648</td>\n      <td>20950.0</td>\n      <td>1.0</td>\n    </tr>\n  </tbody>\n</table>\n</div>"
     },
     "execution_count": 40,
     "metadata": {},
     "output_type": "execute_result"
    }
   ],
   "source": [
    "idx =11\n",
    "dateIdx = trades_and_quotes[idx]\n",
    "tradesIdxLoc = os.path.join(folder_trades_loc, dateIdx+\".csv\")\n",
    "quotesIdxLoc = os.path.join(folder_quotes_loc, dateIdx+\".csv\")\n",
    "\n",
    "\n",
    "pd.read_csv(tradesIdxLoc)"
   ],
   "metadata": {
    "collapsed": false,
    "pycharm": {
     "name": "#%%\n"
    }
   }
  },
  {
   "cell_type": "code",
   "execution_count": 41,
   "outputs": [
    {
     "data": {
      "text/plain": "   Unnamed: 0        Date             Time  Bid Price  Bid Size  Ask Price  \\\n0           0  05/20/2019  19:32:57.700508    18820.0       1.0        NaN   \n1           1  05/20/2019  21:06:38.528317    18530.0       8.0        NaN   \n2           2  05/20/2019  21:07:20.172252    18620.0       1.0        NaN   \n3           3  05/20/2019  23:26:01.776887    18630.0       8.0        NaN   \n4           4  05/20/2019  23:49:56.354020    18620.0       9.0        NaN   \n\n   Ask Size  \n0       NaN  \n1       NaN  \n2       NaN  \n3       NaN  \n4       NaN  ",
      "text/html": "<div>\n<style scoped>\n    .dataframe tbody tr th:only-of-type {\n        vertical-align: middle;\n    }\n\n    .dataframe tbody tr th {\n        vertical-align: top;\n    }\n\n    .dataframe thead th {\n        text-align: right;\n    }\n</style>\n<table border=\"1\" class=\"dataframe\">\n  <thead>\n    <tr style=\"text-align: right;\">\n      <th></th>\n      <th>Unnamed: 0</th>\n      <th>Date</th>\n      <th>Time</th>\n      <th>Bid Price</th>\n      <th>Bid Size</th>\n      <th>Ask Price</th>\n      <th>Ask Size</th>\n    </tr>\n  </thead>\n  <tbody>\n    <tr>\n      <th>0</th>\n      <td>0</td>\n      <td>05/20/2019</td>\n      <td>19:32:57.700508</td>\n      <td>18820.0</td>\n      <td>1.0</td>\n      <td>NaN</td>\n      <td>NaN</td>\n    </tr>\n    <tr>\n      <th>1</th>\n      <td>1</td>\n      <td>05/20/2019</td>\n      <td>21:06:38.528317</td>\n      <td>18530.0</td>\n      <td>8.0</td>\n      <td>NaN</td>\n      <td>NaN</td>\n    </tr>\n    <tr>\n      <th>2</th>\n      <td>2</td>\n      <td>05/20/2019</td>\n      <td>21:07:20.172252</td>\n      <td>18620.0</td>\n      <td>1.0</td>\n      <td>NaN</td>\n      <td>NaN</td>\n    </tr>\n    <tr>\n      <th>3</th>\n      <td>3</td>\n      <td>05/20/2019</td>\n      <td>23:26:01.776887</td>\n      <td>18630.0</td>\n      <td>8.0</td>\n      <td>NaN</td>\n      <td>NaN</td>\n    </tr>\n    <tr>\n      <th>4</th>\n      <td>4</td>\n      <td>05/20/2019</td>\n      <td>23:49:56.354020</td>\n      <td>18620.0</td>\n      <td>9.0</td>\n      <td>NaN</td>\n      <td>NaN</td>\n    </tr>\n  </tbody>\n</table>\n</div>"
     },
     "execution_count": 41,
     "metadata": {},
     "output_type": "execute_result"
    }
   ],
   "source": [
    "pd.read_csv(quotesIdxLoc)"
   ],
   "metadata": {
    "collapsed": false,
    "pycharm": {
     "name": "#%%\n"
    }
   }
  },
  {
   "cell_type": "code",
   "execution_count": 44,
   "outputs": [
    {
     "data": {
      "text/plain": "True"
     },
     "execution_count": 44,
     "metadata": {},
     "output_type": "execute_result"
    }
   ],
   "source": [
    "rawFilesLoc = '/media/ak/Data1/TradesPurchased/JNI/CSV'\n",
    "rawFilesList = os.listdir(rawFilesLoc)\n",
    "rawFilesIdx = 0\n",
    "rawFileIdxLoc = os.path.join(rawFilesLoc, rawFilesList[rawFilesIdx])\n",
    "os.path.isfile(rawFileIdxLoc)"
   ],
   "metadata": {
    "collapsed": false,
    "pycharm": {
     "name": "#%%\n"
    }
   }
  },
  {
   "cell_type": "code",
   "execution_count": 47,
   "outputs": [],
   "source": [
    "df = pd.read_csv(rawFileIdxLoc)"
   ],
   "metadata": {
    "collapsed": false,
    "pycharm": {
     "name": "#%%\n"
    }
   }
  },
  {
   "cell_type": "code",
   "execution_count": 48,
   "outputs": [],
   "source": [
    "df_quotes = df[df['Type'] =='Quote']"
   ],
   "metadata": {
    "collapsed": false,
    "pycharm": {
     "name": "#%%\n"
    }
   }
  },
  {
   "cell_type": "code",
   "execution_count": 52,
   "outputs": [
    {
     "data": {
      "text/plain": "            Date             Time   Type  Price  Volume  Bid Price  Bid Size  \\\n0     05/07/2019  07:09:09.933984  Quote    NaN     NaN    21750.0       6.0   \n1     05/07/2019  08:00:04.081904  Quote    NaN     NaN    21950.0       1.0   \n2     05/07/2019  08:29:41.675066  Quote    NaN     NaN    22100.0       2.0   \n3     05/07/2019  08:30:25.802367  Quote    NaN     NaN    21950.0       1.0   \n4     05/07/2019  08:31:00.122136  Quote    NaN     NaN    21970.0       1.0   \n...          ...              ...    ...    ...     ...        ...       ...   \n7145  05/07/2019  23:59:54.886202  Quote    NaN     NaN    21370.0       3.0   \n7146  05/07/2019  23:59:56.090242  Quote    NaN     NaN    21380.0       3.0   \n7147  05/07/2019  23:59:56.186612  Quote    NaN     NaN    21370.0       3.0   \n7148  05/07/2019  23:59:58.390766  Quote    NaN     NaN    21380.0       3.0   \n7149  05/07/2019  23:59:59.890876  Quote    NaN     NaN    21370.0       3.0   \n\n      Ask Price  Ask Size  \n0       22100.0      10.0  \n1       21950.0       1.0  \n2       22100.0      11.0  \n3       21950.0       1.0  \n4       21970.0       1.0  \n...         ...       ...  \n7145    21420.0       3.0  \n7146    21420.0       3.0  \n7147    21420.0       3.0  \n7148    21420.0       3.0  \n7149    21420.0       3.0  \n\n[7142 rows x 9 columns]",
      "text/html": "<div>\n<style scoped>\n    .dataframe tbody tr th:only-of-type {\n        vertical-align: middle;\n    }\n\n    .dataframe tbody tr th {\n        vertical-align: top;\n    }\n\n    .dataframe thead th {\n        text-align: right;\n    }\n</style>\n<table border=\"1\" class=\"dataframe\">\n  <thead>\n    <tr style=\"text-align: right;\">\n      <th></th>\n      <th>Date</th>\n      <th>Time</th>\n      <th>Type</th>\n      <th>Price</th>\n      <th>Volume</th>\n      <th>Bid Price</th>\n      <th>Bid Size</th>\n      <th>Ask Price</th>\n      <th>Ask Size</th>\n    </tr>\n  </thead>\n  <tbody>\n    <tr>\n      <th>0</th>\n      <td>05/07/2019</td>\n      <td>07:09:09.933984</td>\n      <td>Quote</td>\n      <td>NaN</td>\n      <td>NaN</td>\n      <td>21750.0</td>\n      <td>6.0</td>\n      <td>22100.0</td>\n      <td>10.0</td>\n    </tr>\n    <tr>\n      <th>1</th>\n      <td>05/07/2019</td>\n      <td>08:00:04.081904</td>\n      <td>Quote</td>\n      <td>NaN</td>\n      <td>NaN</td>\n      <td>21950.0</td>\n      <td>1.0</td>\n      <td>21950.0</td>\n      <td>1.0</td>\n    </tr>\n    <tr>\n      <th>2</th>\n      <td>05/07/2019</td>\n      <td>08:29:41.675066</td>\n      <td>Quote</td>\n      <td>NaN</td>\n      <td>NaN</td>\n      <td>22100.0</td>\n      <td>2.0</td>\n      <td>22100.0</td>\n      <td>11.0</td>\n    </tr>\n    <tr>\n      <th>3</th>\n      <td>05/07/2019</td>\n      <td>08:30:25.802367</td>\n      <td>Quote</td>\n      <td>NaN</td>\n      <td>NaN</td>\n      <td>21950.0</td>\n      <td>1.0</td>\n      <td>21950.0</td>\n      <td>1.0</td>\n    </tr>\n    <tr>\n      <th>4</th>\n      <td>05/07/2019</td>\n      <td>08:31:00.122136</td>\n      <td>Quote</td>\n      <td>NaN</td>\n      <td>NaN</td>\n      <td>21970.0</td>\n      <td>1.0</td>\n      <td>21970.0</td>\n      <td>1.0</td>\n    </tr>\n    <tr>\n      <th>...</th>\n      <td>...</td>\n      <td>...</td>\n      <td>...</td>\n      <td>...</td>\n      <td>...</td>\n      <td>...</td>\n      <td>...</td>\n      <td>...</td>\n      <td>...</td>\n    </tr>\n    <tr>\n      <th>7145</th>\n      <td>05/07/2019</td>\n      <td>23:59:54.886202</td>\n      <td>Quote</td>\n      <td>NaN</td>\n      <td>NaN</td>\n      <td>21370.0</td>\n      <td>3.0</td>\n      <td>21420.0</td>\n      <td>3.0</td>\n    </tr>\n    <tr>\n      <th>7146</th>\n      <td>05/07/2019</td>\n      <td>23:59:56.090242</td>\n      <td>Quote</td>\n      <td>NaN</td>\n      <td>NaN</td>\n      <td>21380.0</td>\n      <td>3.0</td>\n      <td>21420.0</td>\n      <td>3.0</td>\n    </tr>\n    <tr>\n      <th>7147</th>\n      <td>05/07/2019</td>\n      <td>23:59:56.186612</td>\n      <td>Quote</td>\n      <td>NaN</td>\n      <td>NaN</td>\n      <td>21370.0</td>\n      <td>3.0</td>\n      <td>21420.0</td>\n      <td>3.0</td>\n    </tr>\n    <tr>\n      <th>7148</th>\n      <td>05/07/2019</td>\n      <td>23:59:58.390766</td>\n      <td>Quote</td>\n      <td>NaN</td>\n      <td>NaN</td>\n      <td>21380.0</td>\n      <td>3.0</td>\n      <td>21420.0</td>\n      <td>3.0</td>\n    </tr>\n    <tr>\n      <th>7149</th>\n      <td>05/07/2019</td>\n      <td>23:59:59.890876</td>\n      <td>Quote</td>\n      <td>NaN</td>\n      <td>NaN</td>\n      <td>21370.0</td>\n      <td>3.0</td>\n      <td>21420.0</td>\n      <td>3.0</td>\n    </tr>\n  </tbody>\n</table>\n<p>7142 rows × 9 columns</p>\n</div>"
     },
     "execution_count": 52,
     "metadata": {},
     "output_type": "execute_result"
    }
   ],
   "source": [
    "df_quotes [df_quotes['Date'] =='05/07/2019']"
   ],
   "metadata": {
    "collapsed": false,
    "pycharm": {
     "name": "#%%\n"
    }
   }
  },
  {
   "cell_type": "code",
   "execution_count": null,
   "outputs": [],
   "source": [
    "def write_to_csv_for_symbol(file_loc, write_data_folder):\n",
    "    ## Get symbol name:\n",
    "    symbol = file_loc.split('/')[-1].split('.')[0]\n",
    "\n",
    "    ## Need to use dask delayed if this doesn't work\n",
    "    ddf = dd.read_csv(file_loc, assume_missing=True)\n",
    "    quotes_ddf = ddf[ddf.Type == 'Quote']\n",
    "    trades_ddf = ddf[ddf.Type == 'Trade']\n",
    "    write_to_csv_for_dates(quotes_ddf, suffix='quotes', cols_to_drop=['Price', 'Volume', 'Type'],\n",
    "                           output_data_folder=write_data_folder)\n",
    "    write_to_csv_for_dates(trades_ddf, suffix='trades',\n",
    "                           cols_to_drop=['Type', 'Bid Price', 'Bid Size', 'Ask Price', 'Ask Size'],\n",
    "                           output_data_folder=write_data_folder)\n",
    "\n",
    "\n",
    "def write_to_csv_for_dates(ddf, suffix, cols_to_drop, output_data_folder):\n",
    "    ddf_dates = sorted(ddf['Date'].unique().compute())\n",
    "\n",
    "    for d in ddf_dates:\n",
    "        date = datetime.datetime.strptime(d, '%m/%d/%Y').date()\n",
    "        quotes_for_date_ddf = ddf[ddf.Date == d].drop(cols_to_drop, axis=1)\n",
    "        write_file_dir = os.path.join(output_data_folder, f\"{symbol}_{suffix}\")\n",
    "        Path(write_file_dir).mkdir(parents=True, exist_ok=True)\n",
    "        write_file_loc = os.path.join(write_file_dir, f\"{datetime.datetime.strftime(date, '%Y%m%d')}.csv\")\n",
    "        dd.to_csv(quotes_for_date_ddf, write_file_loc, single_file=True)\n"
   ],
   "metadata": {
    "collapsed": false,
    "pycharm": {
     "name": "#%%\n"
    }
   }
  },
  {
   "cell_type": "code",
   "execution_count": 55,
   "outputs": [],
   "source": [
    "file_loc = rawFileIdxLoc\n",
    "symbol = file_loc.split('/')[-1].split('.')[0]"
   ],
   "metadata": {
    "collapsed": false,
    "pycharm": {
     "name": "#%%\n"
    }
   }
  },
  {
   "cell_type": "code",
   "execution_count": 56,
   "outputs": [
    {
     "data": {
      "text/plain": "'JNIH2020'"
     },
     "execution_count": 56,
     "metadata": {},
     "output_type": "execute_result"
    }
   ],
   "source": [
    "symbol"
   ],
   "metadata": {
    "collapsed": false,
    "pycharm": {
     "name": "#%%\n"
    }
   }
  },
  {
   "cell_type": "code",
   "execution_count": 114,
   "outputs": [],
   "source": [
    "ddf = dd.read_csv(file_loc, assume_missing=True)\n",
    "quotes_ddf = ddf[ddf.Type == 'Quote']\n",
    "trades_ddf = ddf[ddf.Type == 'Trade']"
   ],
   "metadata": {
    "collapsed": false,
    "pycharm": {
     "name": "#%%\n"
    }
   }
  },
  {
   "cell_type": "code",
   "execution_count": 114,
   "outputs": [],
   "source": [],
   "metadata": {
    "collapsed": false,
    "pycharm": {
     "name": "#%%\n"
    }
   }
  },
  {
   "cell_type": "code",
   "execution_count": 115,
   "outputs": [],
   "source": [
    "# ddf.head(10)"
   ],
   "metadata": {
    "collapsed": false,
    "pycharm": {
     "name": "#%%\n"
    }
   }
  },
  {
   "cell_type": "code",
   "execution_count": 116,
   "outputs": [
    {
     "data": {
      "text/plain": "             Date             Time   Type    Price  Volume  Bid Price  \\\n12     05/07/2019  08:45:01.268892  Trade  21830.0     1.0        NaN   \n75     05/07/2019  08:53:31.021930  Trade  21840.0     1.0        NaN   \n279    05/07/2019  09:06:01.989187  Trade  21750.0     6.0        NaN   \n2623   05/07/2019  13:15:03.582735  Trade  21630.0    10.0        NaN   \n3128   05/07/2019  14:42:11.273221  Trade  21610.0     1.0        NaN   \n3224   05/07/2019  14:57:13.283245  Trade  21610.0     1.0        NaN   \n4949   05/07/2019  22:42:16.896795  Trade  21540.0    10.0        NaN   \n5618   05/07/2019  23:02:04.677920  Trade  21480.0     1.0        NaN   \n9612   05/08/2019  02:02:30.879833  Trade  21340.0    10.0        NaN   \n12049  05/08/2019  04:54:00.173559  Trade  21300.0     1.0        NaN   \n\n       Bid Size  Ask Price  Ask Size  \n12          NaN        NaN       NaN  \n75          NaN        NaN       NaN  \n279         NaN        NaN       NaN  \n2623        NaN        NaN       NaN  \n3128        NaN        NaN       NaN  \n3224        NaN        NaN       NaN  \n4949        NaN        NaN       NaN  \n5618        NaN        NaN       NaN  \n9612        NaN        NaN       NaN  \n12049       NaN        NaN       NaN  ",
      "text/html": "<div>\n<style scoped>\n    .dataframe tbody tr th:only-of-type {\n        vertical-align: middle;\n    }\n\n    .dataframe tbody tr th {\n        vertical-align: top;\n    }\n\n    .dataframe thead th {\n        text-align: right;\n    }\n</style>\n<table border=\"1\" class=\"dataframe\">\n  <thead>\n    <tr style=\"text-align: right;\">\n      <th></th>\n      <th>Date</th>\n      <th>Time</th>\n      <th>Type</th>\n      <th>Price</th>\n      <th>Volume</th>\n      <th>Bid Price</th>\n      <th>Bid Size</th>\n      <th>Ask Price</th>\n      <th>Ask Size</th>\n    </tr>\n  </thead>\n  <tbody>\n    <tr>\n      <th>12</th>\n      <td>05/07/2019</td>\n      <td>08:45:01.268892</td>\n      <td>Trade</td>\n      <td>21830.0</td>\n      <td>1.0</td>\n      <td>NaN</td>\n      <td>NaN</td>\n      <td>NaN</td>\n      <td>NaN</td>\n    </tr>\n    <tr>\n      <th>75</th>\n      <td>05/07/2019</td>\n      <td>08:53:31.021930</td>\n      <td>Trade</td>\n      <td>21840.0</td>\n      <td>1.0</td>\n      <td>NaN</td>\n      <td>NaN</td>\n      <td>NaN</td>\n      <td>NaN</td>\n    </tr>\n    <tr>\n      <th>279</th>\n      <td>05/07/2019</td>\n      <td>09:06:01.989187</td>\n      <td>Trade</td>\n      <td>21750.0</td>\n      <td>6.0</td>\n      <td>NaN</td>\n      <td>NaN</td>\n      <td>NaN</td>\n      <td>NaN</td>\n    </tr>\n    <tr>\n      <th>2623</th>\n      <td>05/07/2019</td>\n      <td>13:15:03.582735</td>\n      <td>Trade</td>\n      <td>21630.0</td>\n      <td>10.0</td>\n      <td>NaN</td>\n      <td>NaN</td>\n      <td>NaN</td>\n      <td>NaN</td>\n    </tr>\n    <tr>\n      <th>3128</th>\n      <td>05/07/2019</td>\n      <td>14:42:11.273221</td>\n      <td>Trade</td>\n      <td>21610.0</td>\n      <td>1.0</td>\n      <td>NaN</td>\n      <td>NaN</td>\n      <td>NaN</td>\n      <td>NaN</td>\n    </tr>\n    <tr>\n      <th>3224</th>\n      <td>05/07/2019</td>\n      <td>14:57:13.283245</td>\n      <td>Trade</td>\n      <td>21610.0</td>\n      <td>1.0</td>\n      <td>NaN</td>\n      <td>NaN</td>\n      <td>NaN</td>\n      <td>NaN</td>\n    </tr>\n    <tr>\n      <th>4949</th>\n      <td>05/07/2019</td>\n      <td>22:42:16.896795</td>\n      <td>Trade</td>\n      <td>21540.0</td>\n      <td>10.0</td>\n      <td>NaN</td>\n      <td>NaN</td>\n      <td>NaN</td>\n      <td>NaN</td>\n    </tr>\n    <tr>\n      <th>5618</th>\n      <td>05/07/2019</td>\n      <td>23:02:04.677920</td>\n      <td>Trade</td>\n      <td>21480.0</td>\n      <td>1.0</td>\n      <td>NaN</td>\n      <td>NaN</td>\n      <td>NaN</td>\n      <td>NaN</td>\n    </tr>\n    <tr>\n      <th>9612</th>\n      <td>05/08/2019</td>\n      <td>02:02:30.879833</td>\n      <td>Trade</td>\n      <td>21340.0</td>\n      <td>10.0</td>\n      <td>NaN</td>\n      <td>NaN</td>\n      <td>NaN</td>\n      <td>NaN</td>\n    </tr>\n    <tr>\n      <th>12049</th>\n      <td>05/08/2019</td>\n      <td>04:54:00.173559</td>\n      <td>Trade</td>\n      <td>21300.0</td>\n      <td>1.0</td>\n      <td>NaN</td>\n      <td>NaN</td>\n      <td>NaN</td>\n      <td>NaN</td>\n    </tr>\n  </tbody>\n</table>\n</div>"
     },
     "execution_count": 116,
     "metadata": {},
     "output_type": "execute_result"
    }
   ],
   "source": [
    "trades_ddf.head(10)"
   ],
   "metadata": {
    "collapsed": false,
    "pycharm": {
     "name": "#%%\n"
    }
   }
  },
  {
   "cell_type": "code",
   "execution_count": 82,
   "outputs": [
    {
     "data": {
      "text/plain": "str"
     },
     "execution_count": 82,
     "metadata": {},
     "output_type": "execute_result"
    }
   ],
   "source": [
    "quotes_ddf.head(10)\n",
    "type(quotes_ddf.Date.compute().head(10)[0])"
   ],
   "metadata": {
    "collapsed": false,
    "pycharm": {
     "name": "#%%\n"
    }
   }
  },
  {
   "cell_type": "code",
   "execution_count": 94,
   "outputs": [],
   "source": [
    "# quotes_ddf.Date.tail(10)"
   ],
   "metadata": {
    "collapsed": false,
    "pycharm": {
     "name": "#%%\n"
    }
   }
  },
  {
   "cell_type": "code",
   "execution_count": 62,
   "outputs": [],
   "source": [
    "cols_to_drop=['Price', 'Volume', 'Type']"
   ],
   "metadata": {
    "collapsed": false,
    "pycharm": {
     "name": "#%%\n"
    }
   }
  },
  {
   "cell_type": "code",
   "execution_count": 117,
   "outputs": [],
   "source": [
    "quotes_ddf_dates = sorted(quotes_ddf['Date'].unique().compute())"
   ],
   "metadata": {
    "collapsed": false,
    "pycharm": {
     "name": "#%%\n"
    }
   }
  },
  {
   "cell_type": "code",
   "execution_count": 118,
   "outputs": [
    {
     "data": {
      "text/plain": "['01/06/2020',\n '01/07/2020',\n '01/08/2020',\n '01/09/2020',\n '01/10/2020',\n '01/11/2020',\n '01/14/2020',\n '01/15/2020',\n '01/16/2020',\n '01/17/2020',\n '01/18/2020',\n '01/20/2020',\n '01/21/2020',\n '01/22/2020',\n '01/23/2020',\n '01/24/2020',\n '01/25/2020',\n '01/27/2020',\n '01/28/2020',\n '01/29/2020',\n '01/30/2020',\n '01/31/2020',\n '02/01/2020',\n '02/03/2020',\n '02/04/2020',\n '02/05/2020',\n '02/06/2020',\n '02/07/2020',\n '02/08/2020',\n '02/10/2020',\n '02/11/2020',\n '02/12/2020',\n '02/13/2020',\n '02/14/2020',\n '02/15/2020',\n '02/17/2020',\n '02/18/2020',\n '02/19/2020',\n '02/20/2020',\n '02/21/2020',\n '02/22/2020',\n '02/25/2020',\n '02/26/2020',\n '02/27/2020',\n '02/28/2020',\n '02/29/2020',\n '03/02/2020',\n '03/03/2020',\n '03/04/2020',\n '03/05/2020',\n '03/06/2020',\n '03/07/2020',\n '03/09/2020',\n '03/10/2020',\n '03/11/2020',\n '03/12/2020',\n '05/07/2019',\n '05/08/2019',\n '05/09/2019',\n '05/10/2019',\n '05/11/2019',\n '05/13/2019',\n '05/14/2019',\n '05/15/2019',\n '05/16/2019',\n '05/17/2019',\n '05/18/2019',\n '05/20/2019',\n '05/21/2019',\n '05/22/2019',\n '05/23/2019',\n '05/24/2019',\n '05/25/2019',\n '05/27/2019',\n '05/28/2019',\n '05/29/2019',\n '05/30/2019',\n '05/31/2019',\n '06/01/2019',\n '06/03/2019',\n '06/04/2019',\n '06/05/2019',\n '06/06/2019',\n '06/07/2019',\n '06/08/2019',\n '06/10/2019',\n '06/11/2019',\n '06/12/2019',\n '06/13/2019',\n '06/14/2019',\n '06/15/2019',\n '06/17/2019',\n '06/18/2019',\n '06/19/2019',\n '06/20/2019',\n '06/21/2019',\n '06/22/2019',\n '06/24/2019',\n '06/25/2019',\n '06/26/2019',\n '06/27/2019',\n '06/28/2019',\n '06/29/2019',\n '07/01/2019',\n '07/02/2019',\n '07/03/2019',\n '07/04/2019',\n '07/05/2019',\n '07/06/2019',\n '07/08/2019',\n '07/09/2019',\n '07/10/2019',\n '07/11/2019',\n '07/12/2019',\n '07/13/2019',\n '07/16/2019',\n '07/17/2019',\n '07/18/2019',\n '07/19/2019',\n '07/20/2019',\n '07/22/2019',\n '07/23/2019',\n '07/24/2019',\n '07/25/2019',\n '07/26/2019',\n '07/27/2019',\n '07/29/2019',\n '07/30/2019',\n '07/31/2019',\n '08/01/2019',\n '08/02/2019',\n '08/03/2019',\n '08/05/2019',\n '08/06/2019',\n '08/07/2019',\n '08/08/2019',\n '08/09/2019',\n '08/10/2019',\n '08/13/2019',\n '08/14/2019',\n '08/15/2019',\n '08/16/2019',\n '08/17/2019',\n '08/19/2019',\n '08/20/2019',\n '08/21/2019',\n '08/22/2019',\n '08/23/2019',\n '08/24/2019',\n '08/26/2019',\n '08/27/2019',\n '08/28/2019',\n '08/29/2019',\n '08/30/2019',\n '08/31/2019',\n '09/02/2019',\n '09/03/2019',\n '09/04/2019',\n '09/05/2019',\n '09/06/2019',\n '09/07/2019',\n '09/09/2019',\n '09/10/2019',\n '09/11/2019',\n '09/12/2019',\n '09/13/2019',\n '09/14/2019',\n '09/17/2019',\n '09/18/2019',\n '09/19/2019',\n '09/20/2019',\n '09/21/2019',\n '09/24/2019',\n '09/25/2019',\n '09/26/2019',\n '09/27/2019',\n '09/28/2019',\n '09/30/2019',\n '10/01/2019',\n '10/02/2019',\n '10/03/2019',\n '10/04/2019',\n '10/05/2019',\n '10/07/2019',\n '10/08/2019',\n '10/09/2019',\n '10/10/2019',\n '10/11/2019',\n '10/12/2019',\n '10/15/2019',\n '10/16/2019',\n '10/17/2019',\n '10/18/2019',\n '10/19/2019',\n '10/21/2019',\n '10/22/2019',\n '10/23/2019',\n '10/24/2019',\n '10/25/2019',\n '10/26/2019',\n '10/28/2019',\n '10/29/2019',\n '10/30/2019',\n '10/31/2019',\n '11/01/2019',\n '11/02/2019',\n '11/05/2019',\n '11/06/2019',\n '11/07/2019',\n '11/08/2019',\n '11/09/2019',\n '11/11/2019',\n '11/12/2019',\n '11/13/2019',\n '11/14/2019',\n '11/15/2019',\n '11/16/2019',\n '11/18/2019',\n '11/19/2019',\n '11/20/2019',\n '11/21/2019',\n '11/22/2019',\n '11/23/2019',\n '11/25/2019',\n '11/26/2019',\n '11/27/2019',\n '11/28/2019',\n '11/29/2019',\n '11/30/2019',\n '12/02/2019',\n '12/03/2019',\n '12/04/2019',\n '12/05/2019',\n '12/06/2019',\n '12/07/2019',\n '12/09/2019',\n '12/10/2019',\n '12/11/2019',\n '12/12/2019',\n '12/13/2019',\n '12/14/2019',\n '12/16/2019',\n '12/17/2019',\n '12/18/2019',\n '12/19/2019',\n '12/20/2019',\n '12/21/2019',\n '12/23/2019',\n '12/24/2019',\n '12/25/2019',\n '12/26/2019',\n '12/27/2019',\n '12/28/2019',\n '12/30/2019',\n '12/31/2019']"
     },
     "execution_count": 118,
     "metadata": {},
     "output_type": "execute_result"
    }
   ],
   "source": [
    "quotes_ddf_dates"
   ],
   "metadata": {
    "collapsed": false,
    "pycharm": {
     "name": "#%%\n"
    }
   }
  },
  {
   "cell_type": "code",
   "execution_count": 119,
   "outputs": [
    {
     "data": {
      "text/plain": "'01/18/2020'"
     },
     "execution_count": 119,
     "metadata": {},
     "output_type": "execute_result"
    }
   ],
   "source": [
    "quotes_ddf_dates[10]"
   ],
   "metadata": {
    "collapsed": false,
    "pycharm": {
     "name": "#%%\n"
    }
   }
  },
  {
   "cell_type": "code",
   "execution_count": 120,
   "outputs": [
    {
     "data": {
      "text/plain": "['01/06/2020',\n '01/07/2020',\n '01/08/2020',\n '01/09/2020',\n '01/10/2020',\n '01/11/2020',\n '01/14/2020',\n '01/15/2020',\n '01/16/2020',\n '01/17/2020',\n '01/18/2020',\n '01/20/2020',\n '01/21/2020',\n '01/22/2020',\n '01/23/2020',\n '01/24/2020',\n '01/25/2020',\n '01/27/2020',\n '01/28/2020',\n '01/29/2020',\n '01/30/2020',\n '01/31/2020',\n '02/01/2020',\n '02/03/2020',\n '02/04/2020',\n '02/05/2020',\n '02/06/2020',\n '02/07/2020',\n '02/08/2020',\n '02/10/2020',\n '02/11/2020',\n '02/12/2020',\n '02/13/2020',\n '02/14/2020',\n '02/15/2020',\n '02/17/2020',\n '02/18/2020',\n '02/19/2020',\n '02/20/2020',\n '02/21/2020',\n '02/22/2020',\n '02/25/2020',\n '02/26/2020',\n '02/27/2020',\n '02/28/2020',\n '02/29/2020',\n '03/02/2020',\n '03/03/2020',\n '03/04/2020',\n '03/05/2020',\n '03/06/2020',\n '03/07/2020',\n '03/09/2020',\n '03/10/2020',\n '03/11/2020',\n '03/12/2020',\n '05/07/2019',\n '05/08/2019',\n '05/09/2019',\n '05/10/2019',\n '05/11/2019',\n '05/13/2019',\n '05/14/2019',\n '05/15/2019',\n '05/16/2019',\n '05/17/2019',\n '05/18/2019',\n '05/20/2019',\n '05/21/2019',\n '05/22/2019',\n '05/23/2019',\n '05/24/2019',\n '05/25/2019',\n '05/27/2019',\n '05/28/2019',\n '05/29/2019',\n '05/30/2019',\n '05/31/2019',\n '06/01/2019',\n '06/03/2019',\n '06/04/2019',\n '06/05/2019',\n '06/06/2019',\n '06/07/2019',\n '06/08/2019',\n '06/10/2019',\n '06/11/2019',\n '06/12/2019',\n '06/13/2019',\n '06/14/2019',\n '06/15/2019',\n '06/17/2019',\n '06/18/2019',\n '06/19/2019',\n '06/20/2019',\n '06/21/2019',\n '06/22/2019',\n '06/24/2019',\n '06/25/2019',\n '06/26/2019',\n '06/27/2019',\n '06/28/2019',\n '06/29/2019',\n '07/01/2019',\n '07/02/2019',\n '07/03/2019',\n '07/04/2019',\n '07/05/2019',\n '07/06/2019',\n '07/08/2019',\n '07/09/2019',\n '07/10/2019',\n '07/11/2019',\n '07/12/2019',\n '07/13/2019',\n '07/16/2019',\n '07/17/2019',\n '07/18/2019',\n '07/19/2019',\n '07/20/2019',\n '07/22/2019',\n '07/23/2019',\n '07/24/2019',\n '07/25/2019',\n '07/26/2019',\n '07/27/2019',\n '07/29/2019',\n '07/30/2019',\n '07/31/2019',\n '08/01/2019',\n '08/02/2019',\n '08/03/2019',\n '08/05/2019',\n '08/06/2019',\n '08/07/2019',\n '08/08/2019',\n '08/09/2019',\n '08/10/2019',\n '08/13/2019',\n '08/14/2019',\n '08/15/2019',\n '08/16/2019',\n '08/17/2019',\n '08/19/2019',\n '08/20/2019',\n '08/21/2019',\n '08/22/2019',\n '08/23/2019',\n '08/24/2019',\n '08/26/2019',\n '08/27/2019',\n '08/28/2019',\n '08/29/2019',\n '08/30/2019',\n '08/31/2019',\n '09/02/2019',\n '09/03/2019',\n '09/04/2019',\n '09/05/2019',\n '09/06/2019',\n '09/07/2019',\n '09/09/2019',\n '09/10/2019',\n '09/11/2019',\n '09/12/2019',\n '09/13/2019',\n '09/14/2019',\n '09/17/2019',\n '09/18/2019',\n '09/19/2019',\n '09/20/2019',\n '09/21/2019',\n '09/24/2019',\n '09/25/2019',\n '09/26/2019',\n '09/27/2019',\n '09/28/2019',\n '09/30/2019',\n '10/01/2019',\n '10/02/2019',\n '10/03/2019',\n '10/04/2019',\n '10/05/2019',\n '10/07/2019',\n '10/08/2019',\n '10/09/2019',\n '10/10/2019',\n '10/11/2019',\n '10/12/2019',\n '10/15/2019',\n '10/16/2019',\n '10/17/2019',\n '10/18/2019',\n '10/19/2019',\n '10/21/2019',\n '10/22/2019',\n '10/23/2019',\n '10/24/2019',\n '10/25/2019',\n '10/26/2019',\n '10/28/2019',\n '10/29/2019',\n '10/30/2019',\n '10/31/2019',\n '11/01/2019',\n '11/02/2019',\n '11/05/2019',\n '11/06/2019',\n '11/07/2019',\n '11/08/2019',\n '11/09/2019',\n '11/11/2019',\n '11/12/2019',\n '11/13/2019',\n '11/14/2019',\n '11/15/2019',\n '11/16/2019',\n '11/18/2019',\n '11/19/2019',\n '11/20/2019',\n '11/21/2019',\n '11/22/2019',\n '11/23/2019',\n '11/25/2019',\n '11/26/2019',\n '11/27/2019',\n '11/28/2019',\n '11/29/2019',\n '11/30/2019',\n '12/02/2019',\n '12/03/2019',\n '12/04/2019',\n '12/05/2019',\n '12/06/2019',\n '12/07/2019',\n '12/09/2019',\n '12/10/2019',\n '12/11/2019',\n '12/12/2019',\n '12/13/2019',\n '12/14/2019',\n '12/16/2019',\n '12/17/2019',\n '12/18/2019',\n '12/19/2019',\n '12/20/2019',\n '12/21/2019',\n '12/23/2019',\n '12/24/2019',\n '12/25/2019',\n '12/26/2019',\n '12/27/2019',\n '12/28/2019',\n '12/30/2019',\n '12/31/2019']"
     },
     "execution_count": 120,
     "metadata": {},
     "output_type": "execute_result"
    }
   ],
   "source": [
    "quotes_ddf_dates"
   ],
   "metadata": {
    "collapsed": false,
    "pycharm": {
     "name": "#%%\n"
    }
   }
  },
  {
   "cell_type": "code",
   "execution_count": 130,
   "outputs": [
    {
     "name": "stdout",
     "output_type": "stream",
     "text": [
      "              Date             Time   Type  Price  Volume  Bid Price  \\\n",
      "503006  01/06/2020  23:59:56.455603  Quote    NaN     NaN    23170.0   \n",
      "503007  01/06/2020  23:59:56.855566  Quote    NaN     NaN    23170.0   \n",
      "503008  01/06/2020  23:59:57.055646  Quote    NaN     NaN    23170.0   \n",
      "503009  01/06/2020  23:59:57.155640  Quote    NaN     NaN    23170.0   \n",
      "503010  01/06/2020  23:59:57.255603  Quote    NaN     NaN    23170.0   \n",
      "503011  01/06/2020  23:59:57.455665  Quote    NaN     NaN    23170.0   \n",
      "503012  01/06/2020  23:59:57.555673  Quote    NaN     NaN    23170.0   \n",
      "503013  01/06/2020  23:59:57.655688  Quote    NaN     NaN    23170.0   \n",
      "503014  01/06/2020  23:59:59.455801  Quote    NaN     NaN    23170.0   \n",
      "503015  01/06/2020  23:59:59.559808  Quote    NaN     NaN    23170.0   \n",
      "\n",
      "        Bid Size  Ask Price  Ask Size  \n",
      "503006     147.0    23180.0      60.0  \n",
      "503007     147.0    23180.0      54.0  \n",
      "503008     147.0    23180.0      61.0  \n",
      "503009     147.0    23180.0      54.0  \n",
      "503010     147.0    23180.0      60.0  \n",
      "503011     147.0    23180.0      61.0  \n",
      "503012     147.0    23180.0      60.0  \n",
      "503013     147.0    23180.0      63.0  \n",
      "503014     147.0    23180.0      64.0  \n",
      "503015     147.0    23180.0      63.0  \n",
      "              Date             Time   Type  Price  Volume  Bid Price  \\\n",
      "635129  01/07/2020  23:59:51.939998  Quote    NaN     NaN    23360.0   \n",
      "635130  01/07/2020  23:59:52.334971  Quote    NaN     NaN    23360.0   \n",
      "635132  01/07/2020  23:59:55.731219  Quote    NaN     NaN    23350.0   \n",
      "635135  01/07/2020  23:59:55.830998  Quote    NaN     NaN    23350.0   \n",
      "635136  01/07/2020  23:59:55.931173  Quote    NaN     NaN    23350.0   \n",
      "635137  01/07/2020  23:59:56.031049  Quote    NaN     NaN    23350.0   \n",
      "635139  01/07/2020  23:59:56.131130  Quote    NaN     NaN    23350.0   \n",
      "635140  01/07/2020  23:59:57.334377  Quote    NaN     NaN    23350.0   \n",
      "635141  01/07/2020  23:59:57.634395  Quote    NaN     NaN    23350.0   \n",
      "635143  01/07/2020  23:59:59.234525  Quote    NaN     NaN    23360.0   \n",
      "\n",
      "        Bid Size  Ask Price  Ask Size  \n",
      "635129       6.0    23370.0       8.0  \n",
      "635130       6.0    23370.0       9.0  \n",
      "635132      12.0    23360.0       4.0  \n",
      "635135      12.0    23370.0       9.0  \n",
      "635136      12.0    23360.0       4.0  \n",
      "635137      12.0    23360.0       5.0  \n",
      "635139      12.0    23360.0       4.0  \n",
      "635140      12.0    23360.0       5.0  \n",
      "635141      12.0    23360.0       4.0  \n",
      "635143       3.0    23370.0       8.0  \n",
      "              Date             Time   Type  Price  Volume  Bid Price  \\\n",
      "835731  01/08/2020  23:59:58.162476  Quote    NaN     NaN    23380.0   \n",
      "835732  01/08/2020  23:59:58.365791  Quote    NaN     NaN    23380.0   \n",
      "835733  01/08/2020  23:59:58.462495  Quote    NaN     NaN    23380.0   \n",
      "835734  01/08/2020  23:59:58.865740  Quote    NaN     NaN    23380.0   \n",
      "835735  01/08/2020  23:59:58.966525  Quote    NaN     NaN    23380.0   \n",
      "835739  01/08/2020  23:59:59.265815  Quote    NaN     NaN    23380.0   \n",
      "835740  01/08/2020  23:59:59.365848  Quote    NaN     NaN    23380.0   \n",
      "835741  01/08/2020  23:59:59.665501  Quote    NaN     NaN    23390.0   \n",
      "835742  01/08/2020  23:59:59.765524  Quote    NaN     NaN    23390.0   \n",
      "835743  01/08/2020  23:59:59.964801  Quote    NaN     NaN    23390.0   \n",
      "\n",
      "        Bid Size  Ask Price  Ask Size  \n",
      "835731     122.0    23390.0      53.0  \n",
      "835732     122.0    23390.0      51.0  \n",
      "835733     124.0    23390.0      51.0  \n",
      "835734     125.0    23390.0      48.0  \n",
      "835735     132.0    23390.0      34.0  \n",
      "835739     138.0    23390.0       2.0  \n",
      "835740     138.0    23400.0     148.0  \n",
      "835741       9.0    23400.0     148.0  \n",
      "835742      13.0    23400.0     148.0  \n",
      "835743       8.0    23400.0     148.0  \n",
      "              Date             Time   Type  Price  Volume  Bid Price  \\\n",
      "964076  01/09/2020  23:59:57.400251  Quote    NaN     NaN    23720.0   \n",
      "964077  01/09/2020  23:59:57.700437  Quote    NaN     NaN    23720.0   \n",
      "964078  01/09/2020  23:59:58.301135  Quote    NaN     NaN    23720.0   \n",
      "964079  01/09/2020  23:59:58.404575  Quote    NaN     NaN    23720.0   \n",
      "964080  01/09/2020  23:59:58.501154  Quote    NaN     NaN    23720.0   \n",
      "964081  01/09/2020  23:59:59.304441  Quote    NaN     NaN    23720.0   \n",
      "964082  01/09/2020  23:59:59.400374  Quote    NaN     NaN    23720.0   \n",
      "964083  01/09/2020  23:59:59.505234  Quote    NaN     NaN    23720.0   \n",
      "964084  01/09/2020  23:59:59.605221  Quote    NaN     NaN    23720.0   \n",
      "964085  01/09/2020  23:59:59.901237  Quote    NaN     NaN    23720.0   \n",
      "\n",
      "        Bid Size  Ask Price  Ask Size  \n",
      "964076      98.0    23730.0     125.0  \n",
      "964077     135.0    23730.0      65.0  \n",
      "964078     135.0    23730.0      64.0  \n",
      "964079     135.0    23730.0      63.0  \n",
      "964080     135.0    23730.0      60.0  \n",
      "964081     136.0    23730.0      45.0  \n",
      "964082     136.0    23730.0      42.0  \n",
      "964083     136.0    23730.0      35.0  \n",
      "964084     138.0    23730.0      35.0  \n",
      "964085     138.0    23730.0      33.0  \n"
     ]
    },
    {
     "ename": "KeyboardInterrupt",
     "evalue": "",
     "output_type": "error",
     "traceback": [
      "\u001B[0;31m---------------------------------------------------------------------------\u001B[0m",
      "\u001B[0;31mKeyboardInterrupt\u001B[0m                         Traceback (most recent call last)",
      "\u001B[0;32m/tmp/ipykernel_2035644/1613288822.py\u001B[0m in \u001B[0;36m<module>\u001B[0;34m\u001B[0m\n\u001B[1;32m      1\u001B[0m \u001B[0;32mfor\u001B[0m \u001B[0midx\u001B[0m\u001B[0;34m,\u001B[0m \u001B[0m_\u001B[0m \u001B[0;32min\u001B[0m \u001B[0menumerate\u001B[0m\u001B[0;34m(\u001B[0m\u001B[0mquotes_ddf_dates\u001B[0m\u001B[0;34m)\u001B[0m\u001B[0;34m:\u001B[0m\u001B[0;34m\u001B[0m\u001B[0;34m\u001B[0m\u001B[0m\n\u001B[0;32m----> 2\u001B[0;31m     \u001B[0mprint\u001B[0m\u001B[0;34m(\u001B[0m\u001B[0mquotes_ddf\u001B[0m\u001B[0;34m[\u001B[0m\u001B[0mquotes_ddf\u001B[0m\u001B[0;34m[\u001B[0m\u001B[0;34m'Date'\u001B[0m\u001B[0;34m]\u001B[0m\u001B[0;34m==\u001B[0m\u001B[0mquotes_ddf_dates\u001B[0m\u001B[0;34m[\u001B[0m\u001B[0midx\u001B[0m\u001B[0;34m]\u001B[0m\u001B[0;34m]\u001B[0m\u001B[0;34m.\u001B[0m\u001B[0mcompute\u001B[0m\u001B[0;34m(\u001B[0m\u001B[0;34m)\u001B[0m\u001B[0;34m.\u001B[0m\u001B[0mtail\u001B[0m\u001B[0;34m(\u001B[0m\u001B[0;36m10\u001B[0m\u001B[0;34m)\u001B[0m\u001B[0;34m)\u001B[0m\u001B[0;34m\u001B[0m\u001B[0;34m\u001B[0m\u001B[0m\n\u001B[0m",
      "\u001B[0;32m~/anaconda3/envs/timeSeries/lib/python3.7/site-packages/dask/base.py\u001B[0m in \u001B[0;36mcompute\u001B[0;34m(self, **kwargs)\u001B[0m\n\u001B[1;32m    281\u001B[0m         \u001B[0mdask\u001B[0m\u001B[0;34m.\u001B[0m\u001B[0mbase\u001B[0m\u001B[0;34m.\u001B[0m\u001B[0mcompute\u001B[0m\u001B[0;34m\u001B[0m\u001B[0;34m\u001B[0m\u001B[0m\n\u001B[1;32m    282\u001B[0m         \"\"\"\n\u001B[0;32m--> 283\u001B[0;31m         \u001B[0;34m(\u001B[0m\u001B[0mresult\u001B[0m\u001B[0;34m,\u001B[0m\u001B[0;34m)\u001B[0m \u001B[0;34m=\u001B[0m \u001B[0mcompute\u001B[0m\u001B[0;34m(\u001B[0m\u001B[0mself\u001B[0m\u001B[0;34m,\u001B[0m \u001B[0mtraverse\u001B[0m\u001B[0;34m=\u001B[0m\u001B[0;32mFalse\u001B[0m\u001B[0;34m,\u001B[0m \u001B[0;34m**\u001B[0m\u001B[0mkwargs\u001B[0m\u001B[0;34m)\u001B[0m\u001B[0;34m\u001B[0m\u001B[0;34m\u001B[0m\u001B[0m\n\u001B[0m\u001B[1;32m    284\u001B[0m         \u001B[0;32mreturn\u001B[0m \u001B[0mresult\u001B[0m\u001B[0;34m\u001B[0m\u001B[0;34m\u001B[0m\u001B[0m\n\u001B[1;32m    285\u001B[0m \u001B[0;34m\u001B[0m\u001B[0m\n",
      "\u001B[0;32m~/anaconda3/envs/timeSeries/lib/python3.7/site-packages/dask/base.py\u001B[0m in \u001B[0;36mcompute\u001B[0;34m(*args, **kwargs)\u001B[0m\n\u001B[1;32m    563\u001B[0m         \u001B[0mpostcomputes\u001B[0m\u001B[0;34m.\u001B[0m\u001B[0mappend\u001B[0m\u001B[0;34m(\u001B[0m\u001B[0mx\u001B[0m\u001B[0;34m.\u001B[0m\u001B[0m__dask_postcompute__\u001B[0m\u001B[0;34m(\u001B[0m\u001B[0;34m)\u001B[0m\u001B[0;34m)\u001B[0m\u001B[0;34m\u001B[0m\u001B[0;34m\u001B[0m\u001B[0m\n\u001B[1;32m    564\u001B[0m \u001B[0;34m\u001B[0m\u001B[0m\n\u001B[0;32m--> 565\u001B[0;31m     \u001B[0mresults\u001B[0m \u001B[0;34m=\u001B[0m \u001B[0mschedule\u001B[0m\u001B[0;34m(\u001B[0m\u001B[0mdsk\u001B[0m\u001B[0;34m,\u001B[0m \u001B[0mkeys\u001B[0m\u001B[0;34m,\u001B[0m \u001B[0;34m**\u001B[0m\u001B[0mkwargs\u001B[0m\u001B[0;34m)\u001B[0m\u001B[0;34m\u001B[0m\u001B[0;34m\u001B[0m\u001B[0m\n\u001B[0m\u001B[1;32m    566\u001B[0m     \u001B[0;32mreturn\u001B[0m \u001B[0mrepack\u001B[0m\u001B[0;34m(\u001B[0m\u001B[0;34m[\u001B[0m\u001B[0mf\u001B[0m\u001B[0;34m(\u001B[0m\u001B[0mr\u001B[0m\u001B[0;34m,\u001B[0m \u001B[0;34m*\u001B[0m\u001B[0ma\u001B[0m\u001B[0;34m)\u001B[0m \u001B[0;32mfor\u001B[0m \u001B[0mr\u001B[0m\u001B[0;34m,\u001B[0m \u001B[0;34m(\u001B[0m\u001B[0mf\u001B[0m\u001B[0;34m,\u001B[0m \u001B[0ma\u001B[0m\u001B[0;34m)\u001B[0m \u001B[0;32min\u001B[0m \u001B[0mzip\u001B[0m\u001B[0;34m(\u001B[0m\u001B[0mresults\u001B[0m\u001B[0;34m,\u001B[0m \u001B[0mpostcomputes\u001B[0m\u001B[0;34m)\u001B[0m\u001B[0;34m]\u001B[0m\u001B[0;34m)\u001B[0m\u001B[0;34m\u001B[0m\u001B[0;34m\u001B[0m\u001B[0m\n\u001B[1;32m    567\u001B[0m \u001B[0;34m\u001B[0m\u001B[0m\n",
      "\u001B[0;32m~/anaconda3/envs/timeSeries/lib/python3.7/site-packages/dask/threaded.py\u001B[0m in \u001B[0;36mget\u001B[0;34m(dsk, result, cache, num_workers, pool, **kwargs)\u001B[0m\n\u001B[1;32m     82\u001B[0m         \u001B[0mget_id\u001B[0m\u001B[0;34m=\u001B[0m\u001B[0m_thread_get_id\u001B[0m\u001B[0;34m,\u001B[0m\u001B[0;34m\u001B[0m\u001B[0;34m\u001B[0m\u001B[0m\n\u001B[1;32m     83\u001B[0m         \u001B[0mpack_exception\u001B[0m\u001B[0;34m=\u001B[0m\u001B[0mpack_exception\u001B[0m\u001B[0;34m,\u001B[0m\u001B[0;34m\u001B[0m\u001B[0;34m\u001B[0m\u001B[0m\n\u001B[0;32m---> 84\u001B[0;31m         \u001B[0;34m**\u001B[0m\u001B[0mkwargs\u001B[0m\u001B[0;34m\u001B[0m\u001B[0;34m\u001B[0m\u001B[0m\n\u001B[0m\u001B[1;32m     85\u001B[0m     )\n\u001B[1;32m     86\u001B[0m \u001B[0;34m\u001B[0m\u001B[0m\n",
      "\u001B[0;32m~/anaconda3/envs/timeSeries/lib/python3.7/site-packages/dask/local.py\u001B[0m in \u001B[0;36mget_async\u001B[0;34m(apply_async, num_workers, dsk, result, cache, get_id, rerun_exceptions_locally, pack_exception, raise_exception, callbacks, dumps, loads, **kwargs)\u001B[0m\n\u001B[1;32m    474\u001B[0m             \u001B[0;31m# Main loop, wait on tasks to finish, insert new ones\u001B[0m\u001B[0;34m\u001B[0m\u001B[0;34m\u001B[0m\u001B[0;34m\u001B[0m\u001B[0m\n\u001B[1;32m    475\u001B[0m             \u001B[0;32mwhile\u001B[0m \u001B[0mstate\u001B[0m\u001B[0;34m[\u001B[0m\u001B[0;34m\"waiting\"\u001B[0m\u001B[0;34m]\u001B[0m \u001B[0;32mor\u001B[0m \u001B[0mstate\u001B[0m\u001B[0;34m[\u001B[0m\u001B[0;34m\"ready\"\u001B[0m\u001B[0;34m]\u001B[0m \u001B[0;32mor\u001B[0m \u001B[0mstate\u001B[0m\u001B[0;34m[\u001B[0m\u001B[0;34m\"running\"\u001B[0m\u001B[0;34m]\u001B[0m\u001B[0;34m:\u001B[0m\u001B[0;34m\u001B[0m\u001B[0;34m\u001B[0m\u001B[0m\n\u001B[0;32m--> 476\u001B[0;31m                 \u001B[0mkey\u001B[0m\u001B[0;34m,\u001B[0m \u001B[0mres_info\u001B[0m\u001B[0;34m,\u001B[0m \u001B[0mfailed\u001B[0m \u001B[0;34m=\u001B[0m \u001B[0mqueue_get\u001B[0m\u001B[0;34m(\u001B[0m\u001B[0mqueue\u001B[0m\u001B[0;34m)\u001B[0m\u001B[0;34m\u001B[0m\u001B[0;34m\u001B[0m\u001B[0m\n\u001B[0m\u001B[1;32m    477\u001B[0m                 \u001B[0;32mif\u001B[0m \u001B[0mfailed\u001B[0m\u001B[0;34m:\u001B[0m\u001B[0;34m\u001B[0m\u001B[0;34m\u001B[0m\u001B[0m\n\u001B[1;32m    478\u001B[0m                     \u001B[0mexc\u001B[0m\u001B[0;34m,\u001B[0m \u001B[0mtb\u001B[0m \u001B[0;34m=\u001B[0m \u001B[0mloads\u001B[0m\u001B[0;34m(\u001B[0m\u001B[0mres_info\u001B[0m\u001B[0;34m)\u001B[0m\u001B[0;34m\u001B[0m\u001B[0;34m\u001B[0m\u001B[0m\n",
      "\u001B[0;32m~/anaconda3/envs/timeSeries/lib/python3.7/site-packages/dask/local.py\u001B[0m in \u001B[0;36mqueue_get\u001B[0;34m(q)\u001B[0m\n\u001B[1;32m    131\u001B[0m \u001B[0;34m\u001B[0m\u001B[0m\n\u001B[1;32m    132\u001B[0m     \u001B[0;32mdef\u001B[0m \u001B[0mqueue_get\u001B[0m\u001B[0;34m(\u001B[0m\u001B[0mq\u001B[0m\u001B[0;34m)\u001B[0m\u001B[0;34m:\u001B[0m\u001B[0;34m\u001B[0m\u001B[0;34m\u001B[0m\u001B[0m\n\u001B[0;32m--> 133\u001B[0;31m         \u001B[0;32mreturn\u001B[0m \u001B[0mq\u001B[0m\u001B[0;34m.\u001B[0m\u001B[0mget\u001B[0m\u001B[0;34m(\u001B[0m\u001B[0;34m)\u001B[0m\u001B[0;34m\u001B[0m\u001B[0;34m\u001B[0m\u001B[0m\n\u001B[0m\u001B[1;32m    134\u001B[0m \u001B[0;34m\u001B[0m\u001B[0m\n\u001B[1;32m    135\u001B[0m \u001B[0;34m\u001B[0m\u001B[0m\n",
      "\u001B[0;32m~/anaconda3/envs/timeSeries/lib/python3.7/queue.py\u001B[0m in \u001B[0;36mget\u001B[0;34m(self, block, timeout)\u001B[0m\n\u001B[1;32m    168\u001B[0m             \u001B[0;32melif\u001B[0m \u001B[0mtimeout\u001B[0m \u001B[0;32mis\u001B[0m \u001B[0;32mNone\u001B[0m\u001B[0;34m:\u001B[0m\u001B[0;34m\u001B[0m\u001B[0;34m\u001B[0m\u001B[0m\n\u001B[1;32m    169\u001B[0m                 \u001B[0;32mwhile\u001B[0m \u001B[0;32mnot\u001B[0m \u001B[0mself\u001B[0m\u001B[0;34m.\u001B[0m\u001B[0m_qsize\u001B[0m\u001B[0;34m(\u001B[0m\u001B[0;34m)\u001B[0m\u001B[0;34m:\u001B[0m\u001B[0;34m\u001B[0m\u001B[0;34m\u001B[0m\u001B[0m\n\u001B[0;32m--> 170\u001B[0;31m                     \u001B[0mself\u001B[0m\u001B[0;34m.\u001B[0m\u001B[0mnot_empty\u001B[0m\u001B[0;34m.\u001B[0m\u001B[0mwait\u001B[0m\u001B[0;34m(\u001B[0m\u001B[0;34m)\u001B[0m\u001B[0;34m\u001B[0m\u001B[0;34m\u001B[0m\u001B[0m\n\u001B[0m\u001B[1;32m    171\u001B[0m             \u001B[0;32melif\u001B[0m \u001B[0mtimeout\u001B[0m \u001B[0;34m<\u001B[0m \u001B[0;36m0\u001B[0m\u001B[0;34m:\u001B[0m\u001B[0;34m\u001B[0m\u001B[0;34m\u001B[0m\u001B[0m\n\u001B[1;32m    172\u001B[0m                 \u001B[0;32mraise\u001B[0m \u001B[0mValueError\u001B[0m\u001B[0;34m(\u001B[0m\u001B[0;34m\"'timeout' must be a non-negative number\"\u001B[0m\u001B[0;34m)\u001B[0m\u001B[0;34m\u001B[0m\u001B[0;34m\u001B[0m\u001B[0m\n",
      "\u001B[0;32m~/anaconda3/envs/timeSeries/lib/python3.7/threading.py\u001B[0m in \u001B[0;36mwait\u001B[0;34m(self, timeout)\u001B[0m\n\u001B[1;32m    294\u001B[0m         \u001B[0;32mtry\u001B[0m\u001B[0;34m:\u001B[0m    \u001B[0;31m# restore state no matter what (e.g., KeyboardInterrupt)\u001B[0m\u001B[0;34m\u001B[0m\u001B[0;34m\u001B[0m\u001B[0m\n\u001B[1;32m    295\u001B[0m             \u001B[0;32mif\u001B[0m \u001B[0mtimeout\u001B[0m \u001B[0;32mis\u001B[0m \u001B[0;32mNone\u001B[0m\u001B[0;34m:\u001B[0m\u001B[0;34m\u001B[0m\u001B[0;34m\u001B[0m\u001B[0m\n\u001B[0;32m--> 296\u001B[0;31m                 \u001B[0mwaiter\u001B[0m\u001B[0;34m.\u001B[0m\u001B[0macquire\u001B[0m\u001B[0;34m(\u001B[0m\u001B[0;34m)\u001B[0m\u001B[0;34m\u001B[0m\u001B[0;34m\u001B[0m\u001B[0m\n\u001B[0m\u001B[1;32m    297\u001B[0m                 \u001B[0mgotit\u001B[0m \u001B[0;34m=\u001B[0m \u001B[0;32mTrue\u001B[0m\u001B[0;34m\u001B[0m\u001B[0;34m\u001B[0m\u001B[0m\n\u001B[1;32m    298\u001B[0m             \u001B[0;32melse\u001B[0m\u001B[0;34m:\u001B[0m\u001B[0;34m\u001B[0m\u001B[0;34m\u001B[0m\u001B[0m\n",
      "\u001B[0;31mKeyboardInterrupt\u001B[0m: "
     ]
    }
   ],
   "source": [
    "for idx, _ in enumerate(quotes_ddf_dates):\n",
    "    print(quotes_ddf[quotes_ddf['Date']==quotes_ddf_dates[idx]].compute().tail(10))"
   ],
   "metadata": {
    "collapsed": false,
    "pycharm": {
     "name": "#%%\n"
    }
   }
  },
  {
   "cell_type": "code",
   "execution_count": 126,
   "outputs": [
    {
     "data": {
      "text/plain": "0          05/07/2019\n1          05/07/2019\n2          05/07/2019\n3          05/07/2019\n4          05/07/2019\n              ...    \n1134772    03/12/2020\n1134773    03/12/2020\n1134774    03/12/2020\n1134776    03/12/2020\n1134777    03/12/2020\nName: Date, Length: 10500683, dtype: object"
     },
     "execution_count": 126,
     "metadata": {},
     "output_type": "execute_result"
    }
   ],
   "source": [
    "quotes_ddf.compute().Date"
   ],
   "metadata": {
    "collapsed": false,
    "pycharm": {
     "name": "#%%\n"
    }
   }
  },
  {
   "cell_type": "code",
   "execution_count": 104,
   "outputs": [],
   "source": [],
   "metadata": {
    "collapsed": false,
    "pycharm": {
     "name": "#%%\n"
    }
   }
  },
  {
   "cell_type": "code",
   "execution_count": 87,
   "outputs": [
    {
     "data": {
      "text/plain": "         Date             Time   Type  Price  Volume  Bid Price  Bid Size  \\\n0  05/07/2019  07:09:09.933984  Quote    NaN     NaN    21750.0       6.0   \n1  05/07/2019  08:00:04.081904  Quote    NaN     NaN    21950.0       1.0   \n2  05/07/2019  08:29:41.675066  Quote    NaN     NaN    22100.0       2.0   \n3  05/07/2019  08:30:25.802367  Quote    NaN     NaN    21950.0       1.0   \n4  05/07/2019  08:31:00.122136  Quote    NaN     NaN    21970.0       1.0   \n5  05/07/2019  08:31:33.545788  Quote    NaN     NaN    21950.0       1.0   \n6  05/07/2019  08:32:08.361696  Quote    NaN     NaN    21960.0       1.0   \n7  05/07/2019  08:32:29.877615  Quote    NaN     NaN    21950.0       1.0   \n8  05/07/2019  08:43:49.193337  Quote    NaN     NaN    21880.0       1.0   \n9  05/07/2019  08:43:51.793495  Quote    NaN     NaN    21950.0       1.0   \n\n   Ask Price  Ask Size  \n0    22100.0      10.0  \n1    21950.0       1.0  \n2    22100.0      11.0  \n3    21950.0       1.0  \n4    21970.0       1.0  \n5    21950.0       1.0  \n6    21960.0       1.0  \n7    21950.0       1.0  \n8    21880.0       1.0  \n9    21950.0       1.0  ",
      "text/html": "<div>\n<style scoped>\n    .dataframe tbody tr th:only-of-type {\n        vertical-align: middle;\n    }\n\n    .dataframe tbody tr th {\n        vertical-align: top;\n    }\n\n    .dataframe thead th {\n        text-align: right;\n    }\n</style>\n<table border=\"1\" class=\"dataframe\">\n  <thead>\n    <tr style=\"text-align: right;\">\n      <th></th>\n      <th>Date</th>\n      <th>Time</th>\n      <th>Type</th>\n      <th>Price</th>\n      <th>Volume</th>\n      <th>Bid Price</th>\n      <th>Bid Size</th>\n      <th>Ask Price</th>\n      <th>Ask Size</th>\n    </tr>\n  </thead>\n  <tbody>\n    <tr>\n      <th>0</th>\n      <td>05/07/2019</td>\n      <td>07:09:09.933984</td>\n      <td>Quote</td>\n      <td>NaN</td>\n      <td>NaN</td>\n      <td>21750.0</td>\n      <td>6.0</td>\n      <td>22100.0</td>\n      <td>10.0</td>\n    </tr>\n    <tr>\n      <th>1</th>\n      <td>05/07/2019</td>\n      <td>08:00:04.081904</td>\n      <td>Quote</td>\n      <td>NaN</td>\n      <td>NaN</td>\n      <td>21950.0</td>\n      <td>1.0</td>\n      <td>21950.0</td>\n      <td>1.0</td>\n    </tr>\n    <tr>\n      <th>2</th>\n      <td>05/07/2019</td>\n      <td>08:29:41.675066</td>\n      <td>Quote</td>\n      <td>NaN</td>\n      <td>NaN</td>\n      <td>22100.0</td>\n      <td>2.0</td>\n      <td>22100.0</td>\n      <td>11.0</td>\n    </tr>\n    <tr>\n      <th>3</th>\n      <td>05/07/2019</td>\n      <td>08:30:25.802367</td>\n      <td>Quote</td>\n      <td>NaN</td>\n      <td>NaN</td>\n      <td>21950.0</td>\n      <td>1.0</td>\n      <td>21950.0</td>\n      <td>1.0</td>\n    </tr>\n    <tr>\n      <th>4</th>\n      <td>05/07/2019</td>\n      <td>08:31:00.122136</td>\n      <td>Quote</td>\n      <td>NaN</td>\n      <td>NaN</td>\n      <td>21970.0</td>\n      <td>1.0</td>\n      <td>21970.0</td>\n      <td>1.0</td>\n    </tr>\n    <tr>\n      <th>5</th>\n      <td>05/07/2019</td>\n      <td>08:31:33.545788</td>\n      <td>Quote</td>\n      <td>NaN</td>\n      <td>NaN</td>\n      <td>21950.0</td>\n      <td>1.0</td>\n      <td>21950.0</td>\n      <td>1.0</td>\n    </tr>\n    <tr>\n      <th>6</th>\n      <td>05/07/2019</td>\n      <td>08:32:08.361696</td>\n      <td>Quote</td>\n      <td>NaN</td>\n      <td>NaN</td>\n      <td>21960.0</td>\n      <td>1.0</td>\n      <td>21960.0</td>\n      <td>1.0</td>\n    </tr>\n    <tr>\n      <th>7</th>\n      <td>05/07/2019</td>\n      <td>08:32:29.877615</td>\n      <td>Quote</td>\n      <td>NaN</td>\n      <td>NaN</td>\n      <td>21950.0</td>\n      <td>1.0</td>\n      <td>21950.0</td>\n      <td>1.0</td>\n    </tr>\n    <tr>\n      <th>8</th>\n      <td>05/07/2019</td>\n      <td>08:43:49.193337</td>\n      <td>Quote</td>\n      <td>NaN</td>\n      <td>NaN</td>\n      <td>21880.0</td>\n      <td>1.0</td>\n      <td>21880.0</td>\n      <td>1.0</td>\n    </tr>\n    <tr>\n      <th>9</th>\n      <td>05/07/2019</td>\n      <td>08:43:51.793495</td>\n      <td>Quote</td>\n      <td>NaN</td>\n      <td>NaN</td>\n      <td>21950.0</td>\n      <td>1.0</td>\n      <td>21950.0</td>\n      <td>1.0</td>\n    </tr>\n  </tbody>\n</table>\n</div>"
     },
     "execution_count": 87,
     "metadata": {},
     "output_type": "execute_result"
    }
   ],
   "source": [
    "pd.read_csv(file_loc).head(10)"
   ],
   "metadata": {
    "collapsed": false,
    "pycharm": {
     "name": "#%%\n"
    }
   }
  },
  {
   "cell_type": "code",
   "execution_count": 132,
   "outputs": [
    {
     "name": "stdout",
     "output_type": "stream",
     "text": [
      "CL_quotes\n",
      "CL_trades\n",
      "FLG_quotes\n",
      "FLG_trades\n",
      "JNI_quotes\n",
      "JNI_trades\n",
      "STXE_quotes\n",
      "STXE_trades\n"
     ]
    }
   ],
   "source": [
    "tmp_files\n",
    "for _, fileIdx in enumerate(tmp_files):\n",
    "    print(fileIdx)"
   ],
   "metadata": {
    "collapsed": false,
    "pycharm": {
     "name": "#%%\n"
    }
   }
  },
  {
   "cell_type": "code",
   "execution_count": 148,
   "outputs": [],
   "source": [
    "jni_quote_files_loc = os.path.join(tmp_folder, 'JNI_quotes')\n",
    "jni_trade_files_loc = os.path.join(tmp_folder, 'JNI_trades')\n",
    "jni_quote_files = sorted(os.listdir(jni_quote_files_loc))\n",
    "jni_trade_files = sorted(os.listdir(jni_trade_files_loc))\n",
    "\n"
   ],
   "metadata": {
    "collapsed": false,
    "pycharm": {
     "name": "#%%\n"
    }
   }
  },
  {
   "cell_type": "code",
   "execution_count": 152,
   "outputs": [
    {
     "name": "stdout",
     "output_type": "stream",
     "text": [
      "/media/ak/Data1/TradesPurchased/tmp/JNI_quotes/20190518.csv True\n",
      "/media/ak/Data1/TradesPurchased/tmp/JNI_trades/20190518.csv True\n"
     ]
    }
   ],
   "source": [
    "tmpIdx = 10\n",
    "tmpIdxQuoteFile = os.path.join(jni_quote_files_loc, jni_quote_files[tmpIdx])\n",
    "print(tmpIdxQuoteFile, os.path.isfile(tmpIdxQuoteFile))\n",
    "tmpIdxTradeFile = os.path.join(jni_trade_files_loc, jni_trade_files[tmpIdx])\n",
    "print(tmpIdxTradeFile, os.path.isfile(tmpIdxTradeFile))"
   ],
   "metadata": {
    "collapsed": false,
    "pycharm": {
     "name": "#%%\n"
    }
   }
  },
  {
   "cell_type": "code",
   "execution_count": 181,
   "outputs": [
    {
     "data": {
      "text/plain": "              Date             Time    Price  Volume\n107649  05/18/2019  00:00:00.980518  21320.0     2.0\n107650  05/18/2019  00:00:00.980518  21320.0     5.0\n107651  05/18/2019  00:00:00.980518  21320.0     8.0\n107652  05/18/2019  00:00:00.980518  21320.0     9.0\n107653  05/18/2019  00:00:00.980518  21320.0     4.0",
      "text/html": "<div>\n<style scoped>\n    .dataframe tbody tr th:only-of-type {\n        vertical-align: middle;\n    }\n\n    .dataframe tbody tr th {\n        vertical-align: top;\n    }\n\n    .dataframe thead th {\n        text-align: right;\n    }\n</style>\n<table border=\"1\" class=\"dataframe\">\n  <thead>\n    <tr style=\"text-align: right;\">\n      <th></th>\n      <th>Date</th>\n      <th>Time</th>\n      <th>Price</th>\n      <th>Volume</th>\n    </tr>\n  </thead>\n  <tbody>\n    <tr>\n      <th>107649</th>\n      <td>05/18/2019</td>\n      <td>00:00:00.980518</td>\n      <td>21320.0</td>\n      <td>2.0</td>\n    </tr>\n    <tr>\n      <th>107650</th>\n      <td>05/18/2019</td>\n      <td>00:00:00.980518</td>\n      <td>21320.0</td>\n      <td>5.0</td>\n    </tr>\n    <tr>\n      <th>107651</th>\n      <td>05/18/2019</td>\n      <td>00:00:00.980518</td>\n      <td>21320.0</td>\n      <td>8.0</td>\n    </tr>\n    <tr>\n      <th>107652</th>\n      <td>05/18/2019</td>\n      <td>00:00:00.980518</td>\n      <td>21320.0</td>\n      <td>9.0</td>\n    </tr>\n    <tr>\n      <th>107653</th>\n      <td>05/18/2019</td>\n      <td>00:00:00.980518</td>\n      <td>21320.0</td>\n      <td>4.0</td>\n    </tr>\n  </tbody>\n</table>\n</div>"
     },
     "execution_count": 181,
     "metadata": {},
     "output_type": "execute_result"
    }
   ],
   "source": [
    "pd.read_csv(tmpIdxTradeFile, index_col= 0).head()"
   ],
   "metadata": {
    "collapsed": false,
    "pycharm": {
     "name": "#%%\n"
    }
   }
  },
  {
   "cell_type": "code",
   "execution_count": 159,
   "outputs": [],
   "source": [
    "test = pd.read_csv(tmpIdxQuoteFile)"
   ],
   "metadata": {
    "collapsed": false,
    "pycharm": {
     "name": "#%%\n"
    }
   }
  },
  {
   "cell_type": "code",
   "execution_count": 177,
   "outputs": [],
   "source": [
    "d = pd.to_datetime(test['Date'], infer_datetime_format=True).dt.strftime('%m/%d/%Y')"
   ],
   "metadata": {
    "collapsed": false,
    "pycharm": {
     "name": "#%%\n"
    }
   }
  },
  {
   "cell_type": "code",
   "execution_count": 178,
   "outputs": [
    {
     "data": {
      "text/plain": "0       05/18/2019\n1       05/18/2019\n2       05/18/2019\n3       05/18/2019\n4       05/18/2019\n           ...    \n3305    05/18/2019\n3306    05/18/2019\n3307    05/18/2019\n3308    05/18/2019\n3309    05/18/2019\nName: Date, Length: 3310, dtype: object"
     },
     "execution_count": 178,
     "metadata": {},
     "output_type": "execute_result"
    }
   ],
   "source": [
    "d"
   ],
   "metadata": {
    "collapsed": false,
    "pycharm": {
     "name": "#%%\n"
    }
   }
  },
  {
   "cell_type": "code",
   "execution_count": null,
   "outputs": [],
   "source": [
    "def load_and_format_purchased_date(symbol_, date_file_):\n",
    "    symbol_quote_files_loc = os.path.join(tmp_folder, str(symbol)+'_quotes', str(date_file_)+'.csv')\n",
    "    symbol_trade_files_loc = os.path.join(tmp_folder, str(symbol)+'_trades', str(date_file_)+'.csv')\n",
    "    date = date_file_.split(\".csv\")[0]\n",
    "    try:\n",
    "        qt_tmp_df = pd.read_csv(symbol_quote_files_loc, index_col =0)\n",
    "        trd_tmp_df = pd.read_csv(symbol_trade_files_loc, index_col =0)\n",
    "        qt_tmp_df['QuoteTime'] = pd.to_datetime(qt_tmp_df.Time).values\n",
    "        qt_tmp_df['Date'] = pd.to_datetime(qt_tmp_df['Date'], infer_datetime_format=True).dt.strftime('%m/%d/%Y')\n",
    "\n",
    "    except [FileNotFoundError, AttributeError]:\n",
    "        # self._logger.info(f\"Data for day {date} does not exist. Skipping this day\")\n",
    "        pass\n",
    "\n"
   ],
   "metadata": {
    "collapsed": false,
    "pycharm": {
     "name": "#%%\n"
    }
   }
  },
  {
   "cell_type": "code",
   "execution_count": null,
   "outputs": [],
   "source": [
    "## testing"
   ],
   "metadata": {
    "collapsed": false,
    "pycharm": {
     "name": "#%%\n"
    }
   }
  },
  {
   "cell_type": "code",
   "execution_count": 268,
   "outputs": [],
   "source": [
    "\n",
    "def load_and_format_purchased_date(symbol_, date_file_):\n",
    "    try:\n",
    "        symbol_quote_files_loc = os.path.join(tmp_folder, str(symbol)+'_quotes', str(quotes_dates[10])+'.csv')\n",
    "        symbol_trade_files_loc = os.path.join(tmp_folder, str(symbol)+'_trades', str(quotes_dates[10])+'.csv')\n",
    "        date = date_file.split(\".csv\")[0]\n",
    "        print(date, date_file)\n",
    "        qt_tmp_df = pd.read_csv(symbol_quote_files_loc, index_col =0)\n",
    "        trd_tmp_df = pd.read_csv(symbol_trade_files_loc, index_col =0)\n",
    "        qt_tmp_df['QuoteTime'] = pd.to_datetime(qt_tmp_df.Time).values\n",
    "        qt_tmp_df['Time'] = pd.to_datetime(qt_tmp_df.Time).values\n",
    "        qt_tmp_df['Date'] = pd.to_datetime(qt_tmp_df['Date'], infer_datetime_format=True).dt.strftime('%m/%d/%Y')\n",
    "        trd_tmp_df['TradeTime'] = pd.to_datetime(trd_tmp_df.Time).values\n",
    "        trd_tmp_df['Time'] = pd.to_datetime(trd_tmp_df.Time).values\n",
    "        trd_tmp_df['Date'] = pd.to_datetime(trd_tmp_df['Date'], infer_datetime_format=True).dt.strftime('%m/%d/%Y')\n",
    "        quotes_df = qt_tmp_df.rename(columns={'Bid Price': 'BestBid', 'Ask Price': 'BestAsk',\n",
    "                                              'Bid Size': 'BidSize', 'Ask Size': 'AskSize'}).fillna(method = 'bfill')\n",
    "        trades_df = trd_tmp_df.rename(columns={'Price': 'TradePrice', 'Volume': 'TradeSize'}).fillna(method = 'bfill')\n",
    "        trades_df = trades_df.sort_values('TradeTime')\n",
    "        taq_df = pd.merge_asof( trades_df,quotes_df,on='Time',allow_exact_matches=True)\n",
    "\n",
    "    except [FileNotFoundError, AttributeError]:\n",
    "     pass\n",
    "    return taq_df"
   ],
   "metadata": {
    "collapsed": false,
    "pycharm": {
     "name": "#%%\n"
    }
   }
  },
  {
   "cell_type": "code",
   "execution_count": 270,
   "outputs": [
    {
     "name": "stdout",
     "output_type": "stream",
     "text": [
      "20190518 20190518\n",
      "(40, 11)\n",
      "20190520 20190520\n",
      "(40, 11)\n",
      "20190521 20190521\n",
      "(40, 11)\n",
      "20190522 20190522\n",
      "(40, 11)\n",
      "20190523 20190523\n",
      "(40, 11)\n",
      "20190524 20190524\n",
      "(40, 11)\n",
      "20190525 20190525\n",
      "(40, 11)\n",
      "20200128 20200128\n",
      "(40, 11)\n",
      "20200129 20200129\n",
      "(40, 11)\n",
      "20200130 20200130\n",
      "(40, 11)\n",
      "20200131 20200131\n",
      "(40, 11)\n",
      "20200201 20200201\n",
      "(40, 11)\n",
      "20200203 20200203\n",
      "(40, 11)\n",
      "20200204 20200204\n",
      "(40, 11)\n",
      "20200205 20200205\n",
      "(40, 11)\n"
     ]
    }
   ],
   "source": [
    "symbol ='JNI'\n",
    "#date_file = str(quotes_dates[10])\n",
    "for idx in range(10,25):\n",
    "    date_file = str(quotes_dates[idx])\n",
    "    taq_df =load_and_format_purchased_date(symbol, date_file)\n",
    "    print(taq_df.shape)\n"
   ],
   "metadata": {
    "collapsed": false,
    "pycharm": {
     "name": "#%%\n"
    }
   }
  },
  {
   "cell_type": "code",
   "execution_count": 271,
   "outputs": [],
   "source": [
    "# why are they all the same shape?! something is off!\n"
   ],
   "metadata": {
    "collapsed": false,
    "pycharm": {
     "name": "#%%\n"
    }
   }
  },
  {
   "cell_type": "code",
   "execution_count": 271,
   "outputs": [],
   "source": [],
   "metadata": {
    "collapsed": false,
    "pycharm": {
     "name": "#%%\n"
    }
   }
  },
  {
   "cell_type": "code",
   "execution_count": 260,
   "outputs": [
    {
     "data": {
      "text/plain": "        Date_x                       Time  TradePrice  TradeSize  \\\n0   05/18/2019 2022-11-27 00:00:00.984068     21260.0        1.0   \n1   05/18/2019 2022-11-27 00:04:01.626470     21270.0        5.0   \n2   05/18/2019 2022-11-27 00:04:55.769900     21260.0        1.0   \n3   05/18/2019 2022-11-27 00:07:14.905516     21270.0        1.0   \n4   05/18/2019 2022-11-27 00:07:34.665753     21270.0        1.0   \n5   05/18/2019 2022-11-27 00:07:55.537054     21270.0        1.0   \n6   05/18/2019 2022-11-27 00:09:01.672413     21270.0        1.0   \n7   05/18/2019 2022-11-27 00:16:32.521421     21250.0        1.0   \n8   05/18/2019 2022-11-27 00:16:51.513663     21250.0        1.0   \n9   05/18/2019 2022-11-27 00:22:32.658855     21250.0        1.0   \n10  05/18/2019 2022-11-27 00:31:27.888304     21230.0        1.0   \n11  05/18/2019 2022-11-27 00:38:26.225674     21210.0        1.0   \n12  05/18/2019 2022-11-27 00:39:55.320601     21210.0        1.0   \n13  05/18/2019 2022-11-27 00:40:23.752745     21200.0        2.0   \n14  05/18/2019 2022-11-27 00:42:40.240068     21190.0        3.0   \n15  05/18/2019 2022-11-27 00:50:13.624816     21190.0        3.0   \n16  05/18/2019 2022-11-27 00:56:31.118151     21210.0        1.0   \n17  05/18/2019 2022-11-27 00:56:47.994547     21210.0        1.0   \n18  05/18/2019 2022-11-27 01:41:46.013975     21200.0        5.0   \n19  05/18/2019 2022-11-27 01:42:03.477152     21220.0        1.0   \n20  05/18/2019 2022-11-27 01:45:50.523654     21220.0        1.0   \n21  05/18/2019 2022-11-27 02:02:58.840780     21230.0        2.0   \n22  05/18/2019 2022-11-27 02:10:15.078423     21240.0        1.0   \n23  05/18/2019 2022-11-27 02:27:22.383112     21240.0        3.0   \n24  05/18/2019 2022-11-27 02:39:43.719516     21240.0        2.0   \n25  05/18/2019 2022-11-27 02:42:04.197993     21230.0        1.0   \n26  05/18/2019 2022-11-27 03:58:20.505200     21230.0        1.0   \n27  05/18/2019 2022-11-27 03:58:46.540028     21230.0        1.0   \n28  05/18/2019 2022-11-27 04:01:37.775807     21200.0        3.0   \n29  05/18/2019 2022-11-27 04:05:45.208523     21160.0        1.0   \n30  05/18/2019 2022-11-27 04:09:51.482592     21150.0        1.0   \n31  05/18/2019 2022-11-27 04:10:53.144374     21140.0        1.0   \n32  05/18/2019 2022-11-27 04:11:59.132995     21160.0        1.0   \n33  05/18/2019 2022-11-27 04:14:10.890660     21160.0        3.0   \n34  05/18/2019 2022-11-27 04:17:35.809300     21150.0        5.0   \n35  05/18/2019 2022-11-27 04:40:01.317226     21150.0        1.0   \n36  05/18/2019 2022-11-27 04:43:03.331133     21160.0        1.0   \n37  05/18/2019 2022-11-27 05:08:14.638333     21160.0        1.0   \n38  05/18/2019 2022-11-27 05:16:33.717714     21160.0        1.0   \n39  05/18/2019 2022-11-27 05:30:01.101219     21150.0        3.0   \n\n                    TradeTime      Date_y  BestBid  BidSize  BestAsk  AskSize  \\\n0  2022-11-27 00:00:00.984068  05/18/2019  21250.0     13.0  21260.0      1.0   \n1  2022-11-27 00:04:01.626470  05/18/2019  21260.0     11.0  21270.0      8.0   \n2  2022-11-27 00:04:55.769900  05/18/2019  21260.0      4.0  21270.0     11.0   \n3  2022-11-27 00:07:14.905516  05/18/2019  21260.0     11.0  21270.0     10.0   \n4  2022-11-27 00:07:34.665753  05/18/2019  21260.0     10.0  21270.0     10.0   \n5  2022-11-27 00:07:55.537054  05/18/2019  21260.0     11.0  21270.0      1.0   \n6  2022-11-27 00:09:01.672413  05/18/2019  21270.0      3.0  21280.0     11.0   \n7  2022-11-27 00:16:32.521421  05/18/2019  21250.0     11.0  21260.0     11.0   \n8  2022-11-27 00:16:51.513663  05/18/2019  21250.0      3.0  21260.0     11.0   \n9  2022-11-27 00:22:32.658855  05/18/2019  21240.0     11.0  21250.0      1.0   \n10 2022-11-27 00:31:27.888304  05/18/2019  21230.0      8.0  21240.0     12.0   \n11 2022-11-27 00:38:26.225674  05/18/2019  21210.0      4.0  21220.0     12.0   \n12 2022-11-27 00:39:55.320601  05/18/2019  21200.0     14.0  21220.0     12.0   \n13 2022-11-27 00:40:23.752745  05/18/2019  21200.0      9.0  21210.0     11.0   \n14 2022-11-27 00:42:40.240068  05/18/2019  21190.0      7.0  21200.0     11.0   \n15 2022-11-27 00:50:13.624816  05/18/2019  21190.0      3.0  21200.0     11.0   \n16 2022-11-27 00:56:31.118151  05/18/2019  21200.0      3.0  21210.0     11.0   \n17 2022-11-27 00:56:47.994547  05/18/2019  21200.0      7.0  21210.0     10.0   \n18 2022-11-27 01:41:46.013975  05/18/2019  21200.0     12.0  21220.0     12.0   \n19 2022-11-27 01:42:03.477152  05/18/2019  21210.0     11.0  21220.0      1.0   \n20 2022-11-27 01:45:50.523654  05/18/2019  21210.0      3.0  21220.0     11.0   \n21 2022-11-27 02:02:58.840780  05/18/2019  21220.0     11.0  21230.0      2.0   \n22 2022-11-27 02:10:15.078423  05/18/2019  21230.0     11.0  21240.0      1.0   \n23 2022-11-27 02:27:22.383112  05/18/2019  21240.0      3.0  21250.0     12.0   \n24 2022-11-27 02:39:43.719516  05/18/2019  21230.0     11.0  21240.0      7.0   \n25 2022-11-27 02:42:04.197993  05/18/2019  21220.0     12.0  21230.0      1.0   \n26 2022-11-27 03:58:20.505200  05/18/2019  21230.0      3.0  21240.0     13.0   \n27 2022-11-27 03:58:46.540028  05/18/2019  21230.0      2.0  21240.0     13.0   \n28 2022-11-27 04:01:37.775807  05/18/2019  21200.0      3.0  21210.0     12.0   \n29 2022-11-27 04:05:45.208523  05/18/2019  21160.0      1.0  21170.0     12.0   \n30 2022-11-27 04:09:51.482592  05/18/2019  21150.0      1.0  21160.0      9.0   \n31 2022-11-27 04:10:53.144374  05/18/2019  21140.0      1.0  21150.0      9.0   \n32 2022-11-27 04:11:59.132995  05/18/2019  21150.0      7.0  21160.0      8.0   \n33 2022-11-27 04:14:10.890660  05/18/2019  21160.0      3.0  21170.0      9.0   \n34 2022-11-27 04:17:35.809300  05/18/2019  21140.0      7.0  21150.0      9.0   \n35 2022-11-27 04:40:01.317226  05/18/2019  21150.0      1.0  21160.0      9.0   \n36 2022-11-27 04:43:03.331133  05/18/2019  21150.0      9.0  21160.0      1.0   \n37 2022-11-27 05:08:14.638333  05/18/2019  21150.0      3.0  21160.0      9.0   \n38 2022-11-27 05:16:33.717714  05/18/2019  21160.0      4.0  21170.0      6.0   \n39 2022-11-27 05:30:01.101219  05/18/2019  21150.0      4.0  21150.0      3.0   \n\n                    QuoteTime  \n0  2022-11-27 00:00:00.547887  \n1  2022-11-27 00:03:59.210267  \n2  2022-11-27 00:04:53.870016  \n3  2022-11-27 00:07:14.217481  \n4  2022-11-27 00:07:30.536732  \n5  2022-11-27 00:07:54.057120  \n6  2022-11-27 00:08:55.728068  \n7  2022-11-27 00:16:30.981331  \n8  2022-11-27 00:16:48.197167  \n9  2022-11-27 00:22:31.942580  \n10 2022-11-27 00:31:26.980210  \n11 2022-11-27 00:38:00.100944  \n12 2022-11-27 00:39:54.612452  \n13 2022-11-27 00:40:14.028878  \n14 2022-11-27 00:42:37.974848  \n15 2022-11-27 00:50:11.529606  \n16 2022-11-27 00:56:30.726438  \n17 2022-11-27 00:56:46.742460  \n18 2022-11-27 01:41:45.073004  \n19 2022-11-27 01:41:59.185152  \n20 2022-11-27 01:45:40.802975  \n21 2022-11-27 02:02:52.057133  \n22 2022-11-27 02:10:13.154152  \n23 2022-11-27 02:27:16.159620  \n24 2022-11-27 02:39:43.443501  \n25 2022-11-27 02:41:53.470333  \n26 2022-11-27 03:57:44.676756  \n27 2022-11-27 03:58:20.605202  \n28 2022-11-27 04:01:37.279390  \n29 2022-11-27 04:05:45.161439  \n30 2022-11-27 04:09:51.456669  \n31 2022-11-27 04:10:53.099947  \n32 2022-11-27 04:11:58.667891  \n33 2022-11-27 04:14:05.802533  \n34 2022-11-27 04:17:35.229718  \n35 2022-11-27 04:39:57.064199  \n36 2022-11-27 04:43:03.267406  \n37 2022-11-27 05:08:04.677848  \n38 2022-11-27 05:16:00.030033  \n39 2022-11-27 05:30:00.249172  ",
      "text/html": "<div>\n<style scoped>\n    .dataframe tbody tr th:only-of-type {\n        vertical-align: middle;\n    }\n\n    .dataframe tbody tr th {\n        vertical-align: top;\n    }\n\n    .dataframe thead th {\n        text-align: right;\n    }\n</style>\n<table border=\"1\" class=\"dataframe\">\n  <thead>\n    <tr style=\"text-align: right;\">\n      <th></th>\n      <th>Date_x</th>\n      <th>Time</th>\n      <th>TradePrice</th>\n      <th>TradeSize</th>\n      <th>TradeTime</th>\n      <th>Date_y</th>\n      <th>BestBid</th>\n      <th>BidSize</th>\n      <th>BestAsk</th>\n      <th>AskSize</th>\n      <th>QuoteTime</th>\n    </tr>\n  </thead>\n  <tbody>\n    <tr>\n      <th>0</th>\n      <td>05/18/2019</td>\n      <td>2022-11-27 00:00:00.984068</td>\n      <td>21260.0</td>\n      <td>1.0</td>\n      <td>2022-11-27 00:00:00.984068</td>\n      <td>05/18/2019</td>\n      <td>21250.0</td>\n      <td>13.0</td>\n      <td>21260.0</td>\n      <td>1.0</td>\n      <td>2022-11-27 00:00:00.547887</td>\n    </tr>\n    <tr>\n      <th>1</th>\n      <td>05/18/2019</td>\n      <td>2022-11-27 00:04:01.626470</td>\n      <td>21270.0</td>\n      <td>5.0</td>\n      <td>2022-11-27 00:04:01.626470</td>\n      <td>05/18/2019</td>\n      <td>21260.0</td>\n      <td>11.0</td>\n      <td>21270.0</td>\n      <td>8.0</td>\n      <td>2022-11-27 00:03:59.210267</td>\n    </tr>\n    <tr>\n      <th>2</th>\n      <td>05/18/2019</td>\n      <td>2022-11-27 00:04:55.769900</td>\n      <td>21260.0</td>\n      <td>1.0</td>\n      <td>2022-11-27 00:04:55.769900</td>\n      <td>05/18/2019</td>\n      <td>21260.0</td>\n      <td>4.0</td>\n      <td>21270.0</td>\n      <td>11.0</td>\n      <td>2022-11-27 00:04:53.870016</td>\n    </tr>\n    <tr>\n      <th>3</th>\n      <td>05/18/2019</td>\n      <td>2022-11-27 00:07:14.905516</td>\n      <td>21270.0</td>\n      <td>1.0</td>\n      <td>2022-11-27 00:07:14.905516</td>\n      <td>05/18/2019</td>\n      <td>21260.0</td>\n      <td>11.0</td>\n      <td>21270.0</td>\n      <td>10.0</td>\n      <td>2022-11-27 00:07:14.217481</td>\n    </tr>\n    <tr>\n      <th>4</th>\n      <td>05/18/2019</td>\n      <td>2022-11-27 00:07:34.665753</td>\n      <td>21270.0</td>\n      <td>1.0</td>\n      <td>2022-11-27 00:07:34.665753</td>\n      <td>05/18/2019</td>\n      <td>21260.0</td>\n      <td>10.0</td>\n      <td>21270.0</td>\n      <td>10.0</td>\n      <td>2022-11-27 00:07:30.536732</td>\n    </tr>\n    <tr>\n      <th>5</th>\n      <td>05/18/2019</td>\n      <td>2022-11-27 00:07:55.537054</td>\n      <td>21270.0</td>\n      <td>1.0</td>\n      <td>2022-11-27 00:07:55.537054</td>\n      <td>05/18/2019</td>\n      <td>21260.0</td>\n      <td>11.0</td>\n      <td>21270.0</td>\n      <td>1.0</td>\n      <td>2022-11-27 00:07:54.057120</td>\n    </tr>\n    <tr>\n      <th>6</th>\n      <td>05/18/2019</td>\n      <td>2022-11-27 00:09:01.672413</td>\n      <td>21270.0</td>\n      <td>1.0</td>\n      <td>2022-11-27 00:09:01.672413</td>\n      <td>05/18/2019</td>\n      <td>21270.0</td>\n      <td>3.0</td>\n      <td>21280.0</td>\n      <td>11.0</td>\n      <td>2022-11-27 00:08:55.728068</td>\n    </tr>\n    <tr>\n      <th>7</th>\n      <td>05/18/2019</td>\n      <td>2022-11-27 00:16:32.521421</td>\n      <td>21250.0</td>\n      <td>1.0</td>\n      <td>2022-11-27 00:16:32.521421</td>\n      <td>05/18/2019</td>\n      <td>21250.0</td>\n      <td>11.0</td>\n      <td>21260.0</td>\n      <td>11.0</td>\n      <td>2022-11-27 00:16:30.981331</td>\n    </tr>\n    <tr>\n      <th>8</th>\n      <td>05/18/2019</td>\n      <td>2022-11-27 00:16:51.513663</td>\n      <td>21250.0</td>\n      <td>1.0</td>\n      <td>2022-11-27 00:16:51.513663</td>\n      <td>05/18/2019</td>\n      <td>21250.0</td>\n      <td>3.0</td>\n      <td>21260.0</td>\n      <td>11.0</td>\n      <td>2022-11-27 00:16:48.197167</td>\n    </tr>\n    <tr>\n      <th>9</th>\n      <td>05/18/2019</td>\n      <td>2022-11-27 00:22:32.658855</td>\n      <td>21250.0</td>\n      <td>1.0</td>\n      <td>2022-11-27 00:22:32.658855</td>\n      <td>05/18/2019</td>\n      <td>21240.0</td>\n      <td>11.0</td>\n      <td>21250.0</td>\n      <td>1.0</td>\n      <td>2022-11-27 00:22:31.942580</td>\n    </tr>\n    <tr>\n      <th>10</th>\n      <td>05/18/2019</td>\n      <td>2022-11-27 00:31:27.888304</td>\n      <td>21230.0</td>\n      <td>1.0</td>\n      <td>2022-11-27 00:31:27.888304</td>\n      <td>05/18/2019</td>\n      <td>21230.0</td>\n      <td>8.0</td>\n      <td>21240.0</td>\n      <td>12.0</td>\n      <td>2022-11-27 00:31:26.980210</td>\n    </tr>\n    <tr>\n      <th>11</th>\n      <td>05/18/2019</td>\n      <td>2022-11-27 00:38:26.225674</td>\n      <td>21210.0</td>\n      <td>1.0</td>\n      <td>2022-11-27 00:38:26.225674</td>\n      <td>05/18/2019</td>\n      <td>21210.0</td>\n      <td>4.0</td>\n      <td>21220.0</td>\n      <td>12.0</td>\n      <td>2022-11-27 00:38:00.100944</td>\n    </tr>\n    <tr>\n      <th>12</th>\n      <td>05/18/2019</td>\n      <td>2022-11-27 00:39:55.320601</td>\n      <td>21210.0</td>\n      <td>1.0</td>\n      <td>2022-11-27 00:39:55.320601</td>\n      <td>05/18/2019</td>\n      <td>21200.0</td>\n      <td>14.0</td>\n      <td>21220.0</td>\n      <td>12.0</td>\n      <td>2022-11-27 00:39:54.612452</td>\n    </tr>\n    <tr>\n      <th>13</th>\n      <td>05/18/2019</td>\n      <td>2022-11-27 00:40:23.752745</td>\n      <td>21200.0</td>\n      <td>2.0</td>\n      <td>2022-11-27 00:40:23.752745</td>\n      <td>05/18/2019</td>\n      <td>21200.0</td>\n      <td>9.0</td>\n      <td>21210.0</td>\n      <td>11.0</td>\n      <td>2022-11-27 00:40:14.028878</td>\n    </tr>\n    <tr>\n      <th>14</th>\n      <td>05/18/2019</td>\n      <td>2022-11-27 00:42:40.240068</td>\n      <td>21190.0</td>\n      <td>3.0</td>\n      <td>2022-11-27 00:42:40.240068</td>\n      <td>05/18/2019</td>\n      <td>21190.0</td>\n      <td>7.0</td>\n      <td>21200.0</td>\n      <td>11.0</td>\n      <td>2022-11-27 00:42:37.974848</td>\n    </tr>\n    <tr>\n      <th>15</th>\n      <td>05/18/2019</td>\n      <td>2022-11-27 00:50:13.624816</td>\n      <td>21190.0</td>\n      <td>3.0</td>\n      <td>2022-11-27 00:50:13.624816</td>\n      <td>05/18/2019</td>\n      <td>21190.0</td>\n      <td>3.0</td>\n      <td>21200.0</td>\n      <td>11.0</td>\n      <td>2022-11-27 00:50:11.529606</td>\n    </tr>\n    <tr>\n      <th>16</th>\n      <td>05/18/2019</td>\n      <td>2022-11-27 00:56:31.118151</td>\n      <td>21210.0</td>\n      <td>1.0</td>\n      <td>2022-11-27 00:56:31.118151</td>\n      <td>05/18/2019</td>\n      <td>21200.0</td>\n      <td>3.0</td>\n      <td>21210.0</td>\n      <td>11.0</td>\n      <td>2022-11-27 00:56:30.726438</td>\n    </tr>\n    <tr>\n      <th>17</th>\n      <td>05/18/2019</td>\n      <td>2022-11-27 00:56:47.994547</td>\n      <td>21210.0</td>\n      <td>1.0</td>\n      <td>2022-11-27 00:56:47.994547</td>\n      <td>05/18/2019</td>\n      <td>21200.0</td>\n      <td>7.0</td>\n      <td>21210.0</td>\n      <td>10.0</td>\n      <td>2022-11-27 00:56:46.742460</td>\n    </tr>\n    <tr>\n      <th>18</th>\n      <td>05/18/2019</td>\n      <td>2022-11-27 01:41:46.013975</td>\n      <td>21200.0</td>\n      <td>5.0</td>\n      <td>2022-11-27 01:41:46.013975</td>\n      <td>05/18/2019</td>\n      <td>21200.0</td>\n      <td>12.0</td>\n      <td>21220.0</td>\n      <td>12.0</td>\n      <td>2022-11-27 01:41:45.073004</td>\n    </tr>\n    <tr>\n      <th>19</th>\n      <td>05/18/2019</td>\n      <td>2022-11-27 01:42:03.477152</td>\n      <td>21220.0</td>\n      <td>1.0</td>\n      <td>2022-11-27 01:42:03.477152</td>\n      <td>05/18/2019</td>\n      <td>21210.0</td>\n      <td>11.0</td>\n      <td>21220.0</td>\n      <td>1.0</td>\n      <td>2022-11-27 01:41:59.185152</td>\n    </tr>\n    <tr>\n      <th>20</th>\n      <td>05/18/2019</td>\n      <td>2022-11-27 01:45:50.523654</td>\n      <td>21220.0</td>\n      <td>1.0</td>\n      <td>2022-11-27 01:45:50.523654</td>\n      <td>05/18/2019</td>\n      <td>21210.0</td>\n      <td>3.0</td>\n      <td>21220.0</td>\n      <td>11.0</td>\n      <td>2022-11-27 01:45:40.802975</td>\n    </tr>\n    <tr>\n      <th>21</th>\n      <td>05/18/2019</td>\n      <td>2022-11-27 02:02:58.840780</td>\n      <td>21230.0</td>\n      <td>2.0</td>\n      <td>2022-11-27 02:02:58.840780</td>\n      <td>05/18/2019</td>\n      <td>21220.0</td>\n      <td>11.0</td>\n      <td>21230.0</td>\n      <td>2.0</td>\n      <td>2022-11-27 02:02:52.057133</td>\n    </tr>\n    <tr>\n      <th>22</th>\n      <td>05/18/2019</td>\n      <td>2022-11-27 02:10:15.078423</td>\n      <td>21240.0</td>\n      <td>1.0</td>\n      <td>2022-11-27 02:10:15.078423</td>\n      <td>05/18/2019</td>\n      <td>21230.0</td>\n      <td>11.0</td>\n      <td>21240.0</td>\n      <td>1.0</td>\n      <td>2022-11-27 02:10:13.154152</td>\n    </tr>\n    <tr>\n      <th>23</th>\n      <td>05/18/2019</td>\n      <td>2022-11-27 02:27:22.383112</td>\n      <td>21240.0</td>\n      <td>3.0</td>\n      <td>2022-11-27 02:27:22.383112</td>\n      <td>05/18/2019</td>\n      <td>21240.0</td>\n      <td>3.0</td>\n      <td>21250.0</td>\n      <td>12.0</td>\n      <td>2022-11-27 02:27:16.159620</td>\n    </tr>\n    <tr>\n      <th>24</th>\n      <td>05/18/2019</td>\n      <td>2022-11-27 02:39:43.719516</td>\n      <td>21240.0</td>\n      <td>2.0</td>\n      <td>2022-11-27 02:39:43.719516</td>\n      <td>05/18/2019</td>\n      <td>21230.0</td>\n      <td>11.0</td>\n      <td>21240.0</td>\n      <td>7.0</td>\n      <td>2022-11-27 02:39:43.443501</td>\n    </tr>\n    <tr>\n      <th>25</th>\n      <td>05/18/2019</td>\n      <td>2022-11-27 02:42:04.197993</td>\n      <td>21230.0</td>\n      <td>1.0</td>\n      <td>2022-11-27 02:42:04.197993</td>\n      <td>05/18/2019</td>\n      <td>21220.0</td>\n      <td>12.0</td>\n      <td>21230.0</td>\n      <td>1.0</td>\n      <td>2022-11-27 02:41:53.470333</td>\n    </tr>\n    <tr>\n      <th>26</th>\n      <td>05/18/2019</td>\n      <td>2022-11-27 03:58:20.505200</td>\n      <td>21230.0</td>\n      <td>1.0</td>\n      <td>2022-11-27 03:58:20.505200</td>\n      <td>05/18/2019</td>\n      <td>21230.0</td>\n      <td>3.0</td>\n      <td>21240.0</td>\n      <td>13.0</td>\n      <td>2022-11-27 03:57:44.676756</td>\n    </tr>\n    <tr>\n      <th>27</th>\n      <td>05/18/2019</td>\n      <td>2022-11-27 03:58:46.540028</td>\n      <td>21230.0</td>\n      <td>1.0</td>\n      <td>2022-11-27 03:58:46.540028</td>\n      <td>05/18/2019</td>\n      <td>21230.0</td>\n      <td>2.0</td>\n      <td>21240.0</td>\n      <td>13.0</td>\n      <td>2022-11-27 03:58:20.605202</td>\n    </tr>\n    <tr>\n      <th>28</th>\n      <td>05/18/2019</td>\n      <td>2022-11-27 04:01:37.775807</td>\n      <td>21200.0</td>\n      <td>3.0</td>\n      <td>2022-11-27 04:01:37.775807</td>\n      <td>05/18/2019</td>\n      <td>21200.0</td>\n      <td>3.0</td>\n      <td>21210.0</td>\n      <td>12.0</td>\n      <td>2022-11-27 04:01:37.279390</td>\n    </tr>\n    <tr>\n      <th>29</th>\n      <td>05/18/2019</td>\n      <td>2022-11-27 04:05:45.208523</td>\n      <td>21160.0</td>\n      <td>1.0</td>\n      <td>2022-11-27 04:05:45.208523</td>\n      <td>05/18/2019</td>\n      <td>21160.0</td>\n      <td>1.0</td>\n      <td>21170.0</td>\n      <td>12.0</td>\n      <td>2022-11-27 04:05:45.161439</td>\n    </tr>\n    <tr>\n      <th>30</th>\n      <td>05/18/2019</td>\n      <td>2022-11-27 04:09:51.482592</td>\n      <td>21150.0</td>\n      <td>1.0</td>\n      <td>2022-11-27 04:09:51.482592</td>\n      <td>05/18/2019</td>\n      <td>21150.0</td>\n      <td>1.0</td>\n      <td>21160.0</td>\n      <td>9.0</td>\n      <td>2022-11-27 04:09:51.456669</td>\n    </tr>\n    <tr>\n      <th>31</th>\n      <td>05/18/2019</td>\n      <td>2022-11-27 04:10:53.144374</td>\n      <td>21140.0</td>\n      <td>1.0</td>\n      <td>2022-11-27 04:10:53.144374</td>\n      <td>05/18/2019</td>\n      <td>21140.0</td>\n      <td>1.0</td>\n      <td>21150.0</td>\n      <td>9.0</td>\n      <td>2022-11-27 04:10:53.099947</td>\n    </tr>\n    <tr>\n      <th>32</th>\n      <td>05/18/2019</td>\n      <td>2022-11-27 04:11:59.132995</td>\n      <td>21160.0</td>\n      <td>1.0</td>\n      <td>2022-11-27 04:11:59.132995</td>\n      <td>05/18/2019</td>\n      <td>21150.0</td>\n      <td>7.0</td>\n      <td>21160.0</td>\n      <td>8.0</td>\n      <td>2022-11-27 04:11:58.667891</td>\n    </tr>\n    <tr>\n      <th>33</th>\n      <td>05/18/2019</td>\n      <td>2022-11-27 04:14:10.890660</td>\n      <td>21160.0</td>\n      <td>3.0</td>\n      <td>2022-11-27 04:14:10.890660</td>\n      <td>05/18/2019</td>\n      <td>21160.0</td>\n      <td>3.0</td>\n      <td>21170.0</td>\n      <td>9.0</td>\n      <td>2022-11-27 04:14:05.802533</td>\n    </tr>\n    <tr>\n      <th>34</th>\n      <td>05/18/2019</td>\n      <td>2022-11-27 04:17:35.809300</td>\n      <td>21150.0</td>\n      <td>5.0</td>\n      <td>2022-11-27 04:17:35.809300</td>\n      <td>05/18/2019</td>\n      <td>21140.0</td>\n      <td>7.0</td>\n      <td>21150.0</td>\n      <td>9.0</td>\n      <td>2022-11-27 04:17:35.229718</td>\n    </tr>\n    <tr>\n      <th>35</th>\n      <td>05/18/2019</td>\n      <td>2022-11-27 04:40:01.317226</td>\n      <td>21150.0</td>\n      <td>1.0</td>\n      <td>2022-11-27 04:40:01.317226</td>\n      <td>05/18/2019</td>\n      <td>21150.0</td>\n      <td>1.0</td>\n      <td>21160.0</td>\n      <td>9.0</td>\n      <td>2022-11-27 04:39:57.064199</td>\n    </tr>\n    <tr>\n      <th>36</th>\n      <td>05/18/2019</td>\n      <td>2022-11-27 04:43:03.331133</td>\n      <td>21160.0</td>\n      <td>1.0</td>\n      <td>2022-11-27 04:43:03.331133</td>\n      <td>05/18/2019</td>\n      <td>21150.0</td>\n      <td>9.0</td>\n      <td>21160.0</td>\n      <td>1.0</td>\n      <td>2022-11-27 04:43:03.267406</td>\n    </tr>\n    <tr>\n      <th>37</th>\n      <td>05/18/2019</td>\n      <td>2022-11-27 05:08:14.638333</td>\n      <td>21160.0</td>\n      <td>1.0</td>\n      <td>2022-11-27 05:08:14.638333</td>\n      <td>05/18/2019</td>\n      <td>21150.0</td>\n      <td>3.0</td>\n      <td>21160.0</td>\n      <td>9.0</td>\n      <td>2022-11-27 05:08:04.677848</td>\n    </tr>\n    <tr>\n      <th>38</th>\n      <td>05/18/2019</td>\n      <td>2022-11-27 05:16:33.717714</td>\n      <td>21160.0</td>\n      <td>1.0</td>\n      <td>2022-11-27 05:16:33.717714</td>\n      <td>05/18/2019</td>\n      <td>21160.0</td>\n      <td>4.0</td>\n      <td>21170.0</td>\n      <td>6.0</td>\n      <td>2022-11-27 05:16:00.030033</td>\n    </tr>\n    <tr>\n      <th>39</th>\n      <td>05/18/2019</td>\n      <td>2022-11-27 05:30:01.101219</td>\n      <td>21150.0</td>\n      <td>3.0</td>\n      <td>2022-11-27 05:30:01.101219</td>\n      <td>05/18/2019</td>\n      <td>21150.0</td>\n      <td>4.0</td>\n      <td>21150.0</td>\n      <td>3.0</td>\n      <td>2022-11-27 05:30:00.249172</td>\n    </tr>\n  </tbody>\n</table>\n</div>"
     },
     "execution_count": 260,
     "metadata": {},
     "output_type": "execute_result"
    }
   ],
   "source": [
    "pd.merge_asof( trades_df,quotes_df,on='Time',allow_exact_matches=True)"
   ],
   "metadata": {
    "collapsed": false,
    "pycharm": {
     "name": "#%%\n"
    }
   }
  },
  {
   "cell_type": "code",
   "execution_count": 250,
   "outputs": [
    {
     "data": {
      "text/plain": "              Date                       Time  BestBid  BidSize  BestAsk  \\\n263892  05/18/2019 2022-11-27 00:00:00.144898  21250.0     13.0  21260.0   \n263893  05/18/2019 2022-11-27 00:00:00.547887  21250.0     13.0  21260.0   \n263895  05/18/2019 2022-11-27 00:00:01.044114  21260.0      3.0  21270.0   \n263896  05/18/2019 2022-11-27 00:00:01.143962  21250.0     12.0  21270.0   \n263897  05/18/2019 2022-11-27 00:00:01.643993  21250.0     12.0  21270.0   \n...            ...                        ...      ...      ...      ...   \n273471  05/18/2019 2022-11-27 04:40:01.317226      NaN      NaN      NaN   \n273601  05/18/2019 2022-11-27 04:43:03.331133      NaN      NaN      NaN   \n274435  05/18/2019 2022-11-27 05:08:14.638333      NaN      NaN      NaN   \n274492  05/18/2019 2022-11-27 05:16:33.717714      NaN      NaN      NaN   \n274535  05/18/2019 2022-11-27 05:30:01.101219      NaN      NaN      NaN   \n\n        AskSize                  QuoteTime  TradePrice  TradeSize  \\\n263892      4.0 2022-11-27 00:00:00.144898         NaN        NaN   \n263893      1.0 2022-11-27 00:00:00.547887         NaN        NaN   \n263895     11.0 2022-11-27 00:00:01.044114         NaN        NaN   \n263896     11.0 2022-11-27 00:00:01.143962         NaN        NaN   \n263897     10.0 2022-11-27 00:00:01.643993         NaN        NaN   \n...         ...                        ...         ...        ...   \n273471      NaN                        NaT     21150.0        1.0   \n273601      NaN                        NaT     21160.0        1.0   \n274435      NaN                        NaT     21160.0        1.0   \n274492      NaN                        NaT     21160.0        1.0   \n274535      NaN                        NaT     21150.0        3.0   \n\n                        TradeTime  \n263892                        NaT  \n263893                        NaT  \n263895                        NaT  \n263896                        NaT  \n263897                        NaT  \n...                           ...  \n273471 2022-11-27 04:40:01.317226  \n273601 2022-11-27 04:43:03.331133  \n274435 2022-11-27 05:08:14.638333  \n274492 2022-11-27 05:16:33.717714  \n274535 2022-11-27 05:30:01.101219  \n\n[10646 rows x 10 columns]",
      "text/html": "<div>\n<style scoped>\n    .dataframe tbody tr th:only-of-type {\n        vertical-align: middle;\n    }\n\n    .dataframe tbody tr th {\n        vertical-align: top;\n    }\n\n    .dataframe thead th {\n        text-align: right;\n    }\n</style>\n<table border=\"1\" class=\"dataframe\">\n  <thead>\n    <tr style=\"text-align: right;\">\n      <th></th>\n      <th>Date</th>\n      <th>Time</th>\n      <th>BestBid</th>\n      <th>BidSize</th>\n      <th>BestAsk</th>\n      <th>AskSize</th>\n      <th>QuoteTime</th>\n      <th>TradePrice</th>\n      <th>TradeSize</th>\n      <th>TradeTime</th>\n    </tr>\n  </thead>\n  <tbody>\n    <tr>\n      <th>263892</th>\n      <td>05/18/2019</td>\n      <td>2022-11-27 00:00:00.144898</td>\n      <td>21250.0</td>\n      <td>13.0</td>\n      <td>21260.0</td>\n      <td>4.0</td>\n      <td>2022-11-27 00:00:00.144898</td>\n      <td>NaN</td>\n      <td>NaN</td>\n      <td>NaT</td>\n    </tr>\n    <tr>\n      <th>263893</th>\n      <td>05/18/2019</td>\n      <td>2022-11-27 00:00:00.547887</td>\n      <td>21250.0</td>\n      <td>13.0</td>\n      <td>21260.0</td>\n      <td>1.0</td>\n      <td>2022-11-27 00:00:00.547887</td>\n      <td>NaN</td>\n      <td>NaN</td>\n      <td>NaT</td>\n    </tr>\n    <tr>\n      <th>263895</th>\n      <td>05/18/2019</td>\n      <td>2022-11-27 00:00:01.044114</td>\n      <td>21260.0</td>\n      <td>3.0</td>\n      <td>21270.0</td>\n      <td>11.0</td>\n      <td>2022-11-27 00:00:01.044114</td>\n      <td>NaN</td>\n      <td>NaN</td>\n      <td>NaT</td>\n    </tr>\n    <tr>\n      <th>263896</th>\n      <td>05/18/2019</td>\n      <td>2022-11-27 00:00:01.143962</td>\n      <td>21250.0</td>\n      <td>12.0</td>\n      <td>21270.0</td>\n      <td>11.0</td>\n      <td>2022-11-27 00:00:01.143962</td>\n      <td>NaN</td>\n      <td>NaN</td>\n      <td>NaT</td>\n    </tr>\n    <tr>\n      <th>263897</th>\n      <td>05/18/2019</td>\n      <td>2022-11-27 00:00:01.643993</td>\n      <td>21250.0</td>\n      <td>12.0</td>\n      <td>21270.0</td>\n      <td>10.0</td>\n      <td>2022-11-27 00:00:01.643993</td>\n      <td>NaN</td>\n      <td>NaN</td>\n      <td>NaT</td>\n    </tr>\n    <tr>\n      <th>...</th>\n      <td>...</td>\n      <td>...</td>\n      <td>...</td>\n      <td>...</td>\n      <td>...</td>\n      <td>...</td>\n      <td>...</td>\n      <td>...</td>\n      <td>...</td>\n      <td>...</td>\n    </tr>\n    <tr>\n      <th>273471</th>\n      <td>05/18/2019</td>\n      <td>2022-11-27 04:40:01.317226</td>\n      <td>NaN</td>\n      <td>NaN</td>\n      <td>NaN</td>\n      <td>NaN</td>\n      <td>NaT</td>\n      <td>21150.0</td>\n      <td>1.0</td>\n      <td>2022-11-27 04:40:01.317226</td>\n    </tr>\n    <tr>\n      <th>273601</th>\n      <td>05/18/2019</td>\n      <td>2022-11-27 04:43:03.331133</td>\n      <td>NaN</td>\n      <td>NaN</td>\n      <td>NaN</td>\n      <td>NaN</td>\n      <td>NaT</td>\n      <td>21160.0</td>\n      <td>1.0</td>\n      <td>2022-11-27 04:43:03.331133</td>\n    </tr>\n    <tr>\n      <th>274435</th>\n      <td>05/18/2019</td>\n      <td>2022-11-27 05:08:14.638333</td>\n      <td>NaN</td>\n      <td>NaN</td>\n      <td>NaN</td>\n      <td>NaN</td>\n      <td>NaT</td>\n      <td>21160.0</td>\n      <td>1.0</td>\n      <td>2022-11-27 05:08:14.638333</td>\n    </tr>\n    <tr>\n      <th>274492</th>\n      <td>05/18/2019</td>\n      <td>2022-11-27 05:16:33.717714</td>\n      <td>NaN</td>\n      <td>NaN</td>\n      <td>NaN</td>\n      <td>NaN</td>\n      <td>NaT</td>\n      <td>21160.0</td>\n      <td>1.0</td>\n      <td>2022-11-27 05:16:33.717714</td>\n    </tr>\n    <tr>\n      <th>274535</th>\n      <td>05/18/2019</td>\n      <td>2022-11-27 05:30:01.101219</td>\n      <td>NaN</td>\n      <td>NaN</td>\n      <td>NaN</td>\n      <td>NaN</td>\n      <td>NaT</td>\n      <td>21150.0</td>\n      <td>3.0</td>\n      <td>2022-11-27 05:30:01.101219</td>\n    </tr>\n  </tbody>\n</table>\n<p>10646 rows × 10 columns</p>\n</div>"
     },
     "execution_count": 250,
     "metadata": {},
     "output_type": "execute_result"
    }
   ],
   "source": [
    "pd.concat([quotes_df, trades_df])"
   ],
   "metadata": {
    "collapsed": false,
    "pycharm": {
     "name": "#%%\n"
    }
   }
  },
  {
   "cell_type": "code",
   "execution_count": 252,
   "outputs": [
    {
     "ename": "KeyError",
     "evalue": "'TradeTime'",
     "output_type": "error",
     "traceback": [
      "\u001B[0;31m---------------------------------------------------------------------------\u001B[0m",
      "\u001B[0;31mKeyError\u001B[0m                                  Traceback (most recent call last)",
      "\u001B[0;32m/tmp/ipykernel_2035644/2403432435.py\u001B[0m in \u001B[0;36m<module>\u001B[0;34m\u001B[0m\n\u001B[1;32m      1\u001B[0m \u001B[0mtrades_columns\u001B[0m \u001B[0;34m=\u001B[0m \u001B[0;34m[\u001B[0m\u001B[0;34m'TradeSize'\u001B[0m\u001B[0;34m,\u001B[0m \u001B[0;34m'TradePrice'\u001B[0m\u001B[0;34m,\u001B[0m \u001B[0;34m'TradeTime'\u001B[0m\u001B[0;34m]\u001B[0m\u001B[0;34m\u001B[0m\u001B[0;34m\u001B[0m\u001B[0m\n\u001B[0;32m----> 2\u001B[0;31m \u001B[0mLOB\u001B[0m \u001B[0;34m=\u001B[0m \u001B[0mpd\u001B[0m\u001B[0;34m.\u001B[0m\u001B[0mmerge_asof\u001B[0m\u001B[0;34m(\u001B[0m\u001B[0mquotes_df\u001B[0m\u001B[0;34m,\u001B[0m \u001B[0mtrades_df\u001B[0m\u001B[0;34m.\u001B[0m\u001B[0msort_values\u001B[0m\u001B[0;34m(\u001B[0m\u001B[0;34m'TradeTime'\u001B[0m\u001B[0;34m)\u001B[0m\u001B[0;34m,\u001B[0m\u001B[0mon\u001B[0m\u001B[0;34m=\u001B[0m\u001B[0;34m'TradeTime'\u001B[0m\u001B[0;34m,\u001B[0m\u001B[0mallow_exact_matches\u001B[0m\u001B[0;34m=\u001B[0m\u001B[0;32mTrue\u001B[0m\u001B[0;34m)\u001B[0m\u001B[0;34m\u001B[0m\u001B[0;34m\u001B[0m\u001B[0m\n\u001B[0m",
      "\u001B[0;32m~/anaconda3/envs/timeSeries/lib/python3.7/site-packages/pandas/core/reshape/merge.py\u001B[0m in \u001B[0;36mmerge_asof\u001B[0;34m(left, right, on, left_on, right_on, left_index, right_index, by, left_by, right_by, suffixes, tolerance, allow_exact_matches, direction)\u001B[0m\n\u001B[1;32m    559\u001B[0m         \u001B[0mtolerance\u001B[0m\u001B[0;34m=\u001B[0m\u001B[0mtolerance\u001B[0m\u001B[0;34m,\u001B[0m\u001B[0;34m\u001B[0m\u001B[0;34m\u001B[0m\u001B[0m\n\u001B[1;32m    560\u001B[0m         \u001B[0mallow_exact_matches\u001B[0m\u001B[0;34m=\u001B[0m\u001B[0mallow_exact_matches\u001B[0m\u001B[0;34m,\u001B[0m\u001B[0;34m\u001B[0m\u001B[0;34m\u001B[0m\u001B[0m\n\u001B[0;32m--> 561\u001B[0;31m         \u001B[0mdirection\u001B[0m\u001B[0;34m=\u001B[0m\u001B[0mdirection\u001B[0m\u001B[0;34m,\u001B[0m\u001B[0;34m\u001B[0m\u001B[0;34m\u001B[0m\u001B[0m\n\u001B[0m\u001B[1;32m    562\u001B[0m     )\n\u001B[1;32m    563\u001B[0m     \u001B[0;32mreturn\u001B[0m \u001B[0mop\u001B[0m\u001B[0;34m.\u001B[0m\u001B[0mget_result\u001B[0m\u001B[0;34m(\u001B[0m\u001B[0;34m)\u001B[0m\u001B[0;34m\u001B[0m\u001B[0;34m\u001B[0m\u001B[0m\n",
      "\u001B[0;32m~/anaconda3/envs/timeSeries/lib/python3.7/site-packages/pandas/core/reshape/merge.py\u001B[0m in \u001B[0;36m__init__\u001B[0;34m(self, left, right, on, left_on, right_on, left_index, right_index, by, left_by, right_by, axis, suffixes, copy, fill_method, how, tolerance, allow_exact_matches, direction)\u001B[0m\n\u001B[1;32m   1588\u001B[0m             \u001B[0mhow\u001B[0m\u001B[0;34m=\u001B[0m\u001B[0mhow\u001B[0m\u001B[0;34m,\u001B[0m\u001B[0;34m\u001B[0m\u001B[0;34m\u001B[0m\u001B[0m\n\u001B[1;32m   1589\u001B[0m             \u001B[0msuffixes\u001B[0m\u001B[0;34m=\u001B[0m\u001B[0msuffixes\u001B[0m\u001B[0;34m,\u001B[0m\u001B[0;34m\u001B[0m\u001B[0;34m\u001B[0m\u001B[0m\n\u001B[0;32m-> 1590\u001B[0;31m             \u001B[0mfill_method\u001B[0m\u001B[0;34m=\u001B[0m\u001B[0mfill_method\u001B[0m\u001B[0;34m,\u001B[0m\u001B[0;34m\u001B[0m\u001B[0;34m\u001B[0m\u001B[0m\n\u001B[0m\u001B[1;32m   1591\u001B[0m         )\n\u001B[1;32m   1592\u001B[0m \u001B[0;34m\u001B[0m\u001B[0m\n",
      "\u001B[0;32m~/anaconda3/envs/timeSeries/lib/python3.7/site-packages/pandas/core/reshape/merge.py\u001B[0m in \u001B[0;36m__init__\u001B[0;34m(self, left, right, on, left_on, right_on, left_index, right_index, axis, suffixes, copy, fill_method, how)\u001B[0m\n\u001B[1;32m   1482\u001B[0m             \u001B[0mhow\u001B[0m\u001B[0;34m=\u001B[0m\u001B[0mhow\u001B[0m\u001B[0;34m,\u001B[0m\u001B[0;34m\u001B[0m\u001B[0;34m\u001B[0m\u001B[0m\n\u001B[1;32m   1483\u001B[0m             \u001B[0msuffixes\u001B[0m\u001B[0;34m=\u001B[0m\u001B[0msuffixes\u001B[0m\u001B[0;34m,\u001B[0m\u001B[0;34m\u001B[0m\u001B[0;34m\u001B[0m\u001B[0m\n\u001B[0;32m-> 1484\u001B[0;31m             \u001B[0msort\u001B[0m\u001B[0;34m=\u001B[0m\u001B[0;32mTrue\u001B[0m\u001B[0;34m,\u001B[0m  \u001B[0;31m# factorize sorts\u001B[0m\u001B[0;34m\u001B[0m\u001B[0;34m\u001B[0m\u001B[0m\n\u001B[0m\u001B[1;32m   1485\u001B[0m         )\n\u001B[1;32m   1486\u001B[0m \u001B[0;34m\u001B[0m\u001B[0m\n",
      "\u001B[0;32m~/anaconda3/envs/timeSeries/lib/python3.7/site-packages/pandas/core/reshape/merge.py\u001B[0m in \u001B[0;36m__init__\u001B[0;34m(self, left, right, how, on, left_on, right_on, axis, left_index, right_index, sort, suffixes, copy, indicator, validate)\u001B[0m\n\u001B[1;32m    650\u001B[0m             \u001B[0mself\u001B[0m\u001B[0;34m.\u001B[0m\u001B[0mright_join_keys\u001B[0m\u001B[0;34m,\u001B[0m\u001B[0;34m\u001B[0m\u001B[0;34m\u001B[0m\u001B[0m\n\u001B[1;32m    651\u001B[0m             \u001B[0mself\u001B[0m\u001B[0;34m.\u001B[0m\u001B[0mjoin_names\u001B[0m\u001B[0;34m,\u001B[0m\u001B[0;34m\u001B[0m\u001B[0;34m\u001B[0m\u001B[0m\n\u001B[0;32m--> 652\u001B[0;31m         ) = self._get_merge_keys()\n\u001B[0m\u001B[1;32m    653\u001B[0m \u001B[0;34m\u001B[0m\u001B[0m\n\u001B[1;32m    654\u001B[0m         \u001B[0;31m# validate the merge keys dtypes. We may need to coerce\u001B[0m\u001B[0;34m\u001B[0m\u001B[0;34m\u001B[0m\u001B[0;34m\u001B[0m\u001B[0m\n",
      "\u001B[0;32m~/anaconda3/envs/timeSeries/lib/python3.7/site-packages/pandas/core/reshape/merge.py\u001B[0m in \u001B[0;36m_get_merge_keys\u001B[0;34m(self)\u001B[0m\n\u001B[1;32m   1638\u001B[0m \u001B[0;34m\u001B[0m\u001B[0m\n\u001B[1;32m   1639\u001B[0m         \u001B[0;31m# note this function has side effects\u001B[0m\u001B[0;34m\u001B[0m\u001B[0;34m\u001B[0m\u001B[0;34m\u001B[0m\u001B[0m\n\u001B[0;32m-> 1640\u001B[0;31m         \u001B[0;34m(\u001B[0m\u001B[0mleft_join_keys\u001B[0m\u001B[0;34m,\u001B[0m \u001B[0mright_join_keys\u001B[0m\u001B[0;34m,\u001B[0m \u001B[0mjoin_names\u001B[0m\u001B[0;34m)\u001B[0m \u001B[0;34m=\u001B[0m \u001B[0msuper\u001B[0m\u001B[0;34m(\u001B[0m\u001B[0;34m)\u001B[0m\u001B[0;34m.\u001B[0m\u001B[0m_get_merge_keys\u001B[0m\u001B[0;34m(\u001B[0m\u001B[0;34m)\u001B[0m\u001B[0;34m\u001B[0m\u001B[0;34m\u001B[0m\u001B[0m\n\u001B[0m\u001B[1;32m   1641\u001B[0m \u001B[0;34m\u001B[0m\u001B[0m\n\u001B[1;32m   1642\u001B[0m         \u001B[0;31m# validate index types are the same\u001B[0m\u001B[0;34m\u001B[0m\u001B[0;34m\u001B[0m\u001B[0;34m\u001B[0m\u001B[0m\n",
      "\u001B[0;32m~/anaconda3/envs/timeSeries/lib/python3.7/site-packages/pandas/core/reshape/merge.py\u001B[0m in \u001B[0;36m_get_merge_keys\u001B[0;34m(self)\u001B[0m\n\u001B[1;32m   1016\u001B[0m                         \u001B[0mright_keys\u001B[0m\u001B[0;34m.\u001B[0m\u001B[0mappend\u001B[0m\u001B[0;34m(\u001B[0m\u001B[0mrk\u001B[0m\u001B[0;34m)\u001B[0m\u001B[0;34m\u001B[0m\u001B[0;34m\u001B[0m\u001B[0m\n\u001B[1;32m   1017\u001B[0m                     \u001B[0;32mif\u001B[0m \u001B[0mlk\u001B[0m \u001B[0;32mis\u001B[0m \u001B[0;32mnot\u001B[0m \u001B[0;32mNone\u001B[0m\u001B[0;34m:\u001B[0m\u001B[0;34m\u001B[0m\u001B[0;34m\u001B[0m\u001B[0m\n\u001B[0;32m-> 1018\u001B[0;31m                         \u001B[0mleft_keys\u001B[0m\u001B[0;34m.\u001B[0m\u001B[0mappend\u001B[0m\u001B[0;34m(\u001B[0m\u001B[0mleft\u001B[0m\u001B[0;34m.\u001B[0m\u001B[0m_get_label_or_level_values\u001B[0m\u001B[0;34m(\u001B[0m\u001B[0mlk\u001B[0m\u001B[0;34m)\u001B[0m\u001B[0;34m)\u001B[0m\u001B[0;34m\u001B[0m\u001B[0;34m\u001B[0m\u001B[0m\n\u001B[0m\u001B[1;32m   1019\u001B[0m                         \u001B[0mjoin_names\u001B[0m\u001B[0;34m.\u001B[0m\u001B[0mappend\u001B[0m\u001B[0;34m(\u001B[0m\u001B[0mlk\u001B[0m\u001B[0;34m)\u001B[0m\u001B[0;34m\u001B[0m\u001B[0;34m\u001B[0m\u001B[0m\n\u001B[1;32m   1020\u001B[0m                     \u001B[0;32melse\u001B[0m\u001B[0;34m:\u001B[0m\u001B[0;34m\u001B[0m\u001B[0;34m\u001B[0m\u001B[0m\n",
      "\u001B[0;32m~/anaconda3/envs/timeSeries/lib/python3.7/site-packages/pandas/core/generic.py\u001B[0m in \u001B[0;36m_get_label_or_level_values\u001B[0;34m(self, key, axis)\u001B[0m\n\u001B[1;32m   1561\u001B[0m             \u001B[0mvalues\u001B[0m \u001B[0;34m=\u001B[0m \u001B[0mself\u001B[0m\u001B[0;34m.\u001B[0m\u001B[0maxes\u001B[0m\u001B[0;34m[\u001B[0m\u001B[0maxis\u001B[0m\u001B[0;34m]\u001B[0m\u001B[0;34m.\u001B[0m\u001B[0mget_level_values\u001B[0m\u001B[0;34m(\u001B[0m\u001B[0mkey\u001B[0m\u001B[0;34m)\u001B[0m\u001B[0;34m.\u001B[0m\u001B[0m_values\u001B[0m\u001B[0;34m\u001B[0m\u001B[0;34m\u001B[0m\u001B[0m\n\u001B[1;32m   1562\u001B[0m         \u001B[0;32melse\u001B[0m\u001B[0;34m:\u001B[0m\u001B[0;34m\u001B[0m\u001B[0;34m\u001B[0m\u001B[0m\n\u001B[0;32m-> 1563\u001B[0;31m             \u001B[0;32mraise\u001B[0m \u001B[0mKeyError\u001B[0m\u001B[0;34m(\u001B[0m\u001B[0mkey\u001B[0m\u001B[0;34m)\u001B[0m\u001B[0;34m\u001B[0m\u001B[0;34m\u001B[0m\u001B[0m\n\u001B[0m\u001B[1;32m   1564\u001B[0m \u001B[0;34m\u001B[0m\u001B[0m\n\u001B[1;32m   1565\u001B[0m         \u001B[0;31m# Check for duplicates\u001B[0m\u001B[0;34m\u001B[0m\u001B[0;34m\u001B[0m\u001B[0;34m\u001B[0m\u001B[0m\n",
      "\u001B[0;31mKeyError\u001B[0m: 'TradeTime'"
     ]
    }
   ],
   "source": [
    "trades_columns = ['TradeSize', 'TradePrice', 'TradeTime']\n",
    "LOB = pd.merge_asof(quotes_df, trades_df.sort_values('TradeTime'),on='TradeTime',allow_exact_matches=True)"
   ],
   "metadata": {
    "collapsed": false,
    "pycharm": {
     "name": "#%%\n"
    }
   }
  },
  {
   "cell_type": "code",
   "execution_count": null,
   "outputs": [],
   "source": [],
   "metadata": {
    "collapsed": false,
    "pycharm": {
     "name": "#%%\n"
    }
   }
  },
  {
   "cell_type": "code",
   "execution_count": null,
   "outputs": [],
   "source": [],
   "metadata": {
    "collapsed": false,
    "pycharm": {
     "name": "#%%\n"
    }
   }
  },
  {
   "cell_type": "code",
   "execution_count": 201,
   "outputs": [
    {
     "data": {
      "text/plain": "             Date             Time  TradePrice  TradeSize  \\\n94174  05/18/2019  01:23:41.496600     20780.0        2.0   \n94175  05/18/2019  01:23:41.500597     20790.0        2.0   \n94176  05/18/2019  01:23:41.500597     20800.0        1.0   \n\n                       TradeTime  \n94174 2022-11-27 01:23:41.496600  \n94175 2022-11-27 01:23:41.500597  \n94176 2022-11-27 01:23:41.500597  ",
      "text/html": "<div>\n<style scoped>\n    .dataframe tbody tr th:only-of-type {\n        vertical-align: middle;\n    }\n\n    .dataframe tbody tr th {\n        vertical-align: top;\n    }\n\n    .dataframe thead th {\n        text-align: right;\n    }\n</style>\n<table border=\"1\" class=\"dataframe\">\n  <thead>\n    <tr style=\"text-align: right;\">\n      <th></th>\n      <th>Date</th>\n      <th>Time</th>\n      <th>TradePrice</th>\n      <th>TradeSize</th>\n      <th>TradeTime</th>\n    </tr>\n  </thead>\n  <tbody>\n    <tr>\n      <th>94174</th>\n      <td>05/18/2019</td>\n      <td>01:23:41.496600</td>\n      <td>20780.0</td>\n      <td>2.0</td>\n      <td>2022-11-27 01:23:41.496600</td>\n    </tr>\n    <tr>\n      <th>94175</th>\n      <td>05/18/2019</td>\n      <td>01:23:41.500597</td>\n      <td>20790.0</td>\n      <td>2.0</td>\n      <td>2022-11-27 01:23:41.500597</td>\n    </tr>\n    <tr>\n      <th>94176</th>\n      <td>05/18/2019</td>\n      <td>01:23:41.500597</td>\n      <td>20800.0</td>\n      <td>1.0</td>\n      <td>2022-11-27 01:23:41.500597</td>\n    </tr>\n  </tbody>\n</table>\n</div>"
     },
     "execution_count": 201,
     "metadata": {},
     "output_type": "execute_result"
    }
   ],
   "source": [],
   "metadata": {
    "collapsed": false,
    "pycharm": {
     "name": "#%%\n"
    }
   }
  },
  {
   "cell_type": "code",
   "execution_count": null,
   "outputs": [],
   "source": [],
   "metadata": {
    "collapsed": false,
    "pycharm": {
     "name": "#%%\n"
    }
   }
  },
  {
   "cell_type": "code",
   "execution_count": null,
   "outputs": [],
   "source": [
    "# def load_and_format_data(self):\n",
    "#     mergedFile = dict()\n",
    "#     for date in self._input_dates:\n",
    "#         dateToLoad = os.path.join(date + '.csv')\n",
    "#         self._logger.info(f\"Loading data for:{date}\")\n",
    "#\n",
    "#         quotesDateFile = os.path.join(self._quotes_Files, dateToLoad)\n",
    "#         print(quotesDateFile)\n",
    "#         tradesDateFile = os.path.join(self._trades_Files, dateToLoad)\n",
    "#         print(tradesDateFile)\n",
    "#\n",
    "#         try:\n",
    "#             qt_tmp_df = pd.read_csv(quotesDateFile, usecols=self._use_columns)\n",
    "#             qt_tmp_df['TradeTime'] = pd.to_datetime(qt_tmp_df.time).values\n",
    "#\n",
    "#\n",
    "#\n",
    "#             quotes_df = quotes_df.rename(columns={'value_x': 'BestBid', 'value_y': 'BestAsk',\n",
    "#                                                   'size_x': 'BidSize', 'size_y': 'AskSize', 'time_x': 'QuoteTime'})\n",
    "#\n",
    "#             tr_tmp_df = pd.read_csv(tradesDateFile, usecols=self._use_columns)\n",
    "#             tr_tmp_df['TradeTime'] = pd.to_datetime(tr_tmp_df.time).values\n",
    "#             trades_df = tr_tmp_df.dropna().fillna(\"ffill\").sort_values('TradeTime')\n",
    "#             trades_df = trades_df.rename(columns={'value': 'TradePrice',\n",
    "#                                                   'size': 'TradeSize'})\n",
    "#             trades_columns = ['TradeSize', 'type', 'TradePrice', 'TradeTime']\n",
    "#\n",
    "#             LOB = pd.merge_asof(quotes_df, trades_df[trades_columns].sort_values('TradeTime'), on='TradeTime',\n",
    "#                                 allow_exact_matches=True)\n",
    "#\n",
    "#             LOB.BidSize = LOB['BidSize'].replace(0, 1)\n",
    "#             LOB.AskSize = LOB['AskSize'].replace(0, 1)\n",
    "#             LOB['TimeStamp'] = pd.to_datetime(LOB.TradeTime).dt.time\n",
    "#             LOB['TradeVolume'] = LOB['TradeSize'].fillna(0)\n",
    "#             LOB['total_traded_volume'] = LOB.TradeVolume\n",
    "#             LOB['milliSeconds'] = [(((x.hour * 60 + x.minute) * 60 + x.second) * 1000) for x in LOB['TimeStamp']]\n",
    "#             LOB['dollar_traded_volume'] = pd.Series(LOB.TradePrice * LOB.TradeVolume).fillna(0)\n",
    "#             LOB['timeStampIdx'] = pd.DatetimeIndex(LOB.time_y)\n",
    "#             LOB['micro_price'] = (LOB.BestAsk * LOB.AskSize + LOB.BestBid * LOB.BidSize) / (\n",
    "#                     LOB.AskSize + LOB.BidSize)  #\n",
    "#\n",
    "#             mergedFile[date] = LOB\n",
    "#\n",
    "#         except [FileNotFoundError, AttributeError]:\n",
    "#             self._logger.info(f\"Data for day {date} does not exist. Skipping this day\")\n",
    "#             pass\n",
    "#         return mergedFile"
   ],
   "metadata": {
    "collapsed": false,
    "pycharm": {
     "name": "#%%\n"
    }
   }
  }
 ],
 "metadata": {
  "kernelspec": {
   "display_name": "Python 3",
   "language": "python",
   "name": "python3"
  },
  "language_info": {
   "codemirror_mode": {
    "name": "ipython",
    "version": 2
   },
   "file_extension": ".py",
   "mimetype": "text/x-python",
   "name": "python",
   "nbconvert_exporter": "python",
   "pygments_lexer": "ipython2",
   "version": "2.7.6"
  }
 },
 "nbformat": 4,
 "nbformat_minor": 0
}