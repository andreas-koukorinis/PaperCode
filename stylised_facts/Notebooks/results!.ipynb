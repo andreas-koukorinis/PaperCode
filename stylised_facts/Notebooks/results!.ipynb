{
 "cells": [
  {
   "cell_type": "code",
   "execution_count": 8,
   "id": "9dd9cb75",
   "metadata": {},
   "outputs": [],
   "source": [
    "import os\n",
    "import pandas as pd\n",
    "import numpy as np"
   ]
  },
  {
   "cell_type": "code",
   "execution_count": 9,
   "id": "1cd9e0c3",
   "metadata": {},
   "outputs": [],
   "source": [
    "def pickle_dump_obj_to_filename(destinationPath, symbol, fileName, obj):\n",
    "    pickle_out_filename = os.path.join(destinationPath, \"_\".join((symbol, fileName)))\n",
    "    with open(pickle_out_filename, 'wb') as pickle_out:\n",
    "        pickle.dump(obj, pickle_out)\n",
    "    print('saved', pickle_out_filename)"
   ]
  },
  {
   "cell_type": "code",
   "execution_count": 10,
   "id": "0f62f70d",
   "metadata": {},
   "outputs": [],
   "source": [
    "path = '/media/ak/T71/August11th2022Experiments/QuadMMDOutputFiles/'\n",
    "alphaResults = 'processedAlphaResults'\n",
    "symbol = 'G_1'\n",
    "var_choice= 'calendar'\n",
    "\n",
    "resultsFolder = os.path.join(path, alphaResults, symbol, var_choice)\n",
    "folder_files = os.listdir(resultsFolder)\n"
   ]
  },
  {
   "cell_type": "code",
   "execution_count": 11,
   "id": "0f7341d7",
   "metadata": {},
   "outputs": [
    {
     "data": {
      "text/plain": [
       "['G_1_calendar_1011115_alpharesults.pickle',\n",
       " 'G_1_calendar_1011125_alpharesults.pickle',\n",
       " 'G_1_calendar_1011135_alpharesults.pickle',\n",
       " 'G_1_calendar_1011145_alpharesults.pickle',\n",
       " 'G_1_calendar_1011155_alpharesults.pickle',\n",
       " 'G_1_calendar_101115_alpharesults.pickle',\n",
       " 'G_1_calendar_1011165_alpharesults.pickle',\n",
       " 'G_1_calendar_1011175_alpharesults.pickle',\n",
       " 'G_1_calendar_1012215_alpharesults.pickle',\n",
       " 'G_1_calendar_1012225_alpharesults.pickle']"
      ]
     },
     "execution_count": 11,
     "metadata": {},
     "output_type": "execute_result"
    }
   ],
   "source": [
    "\n",
    "files=[f for f in sorted([f for f in folder_files if str(symbol) in f]) if str(var_choice) in f]\n",
    "files[0:10]"
   ]
  },
  {
   "cell_type": "code",
   "execution_count": 12,
   "id": "ac4322fd",
   "metadata": {},
   "outputs": [
    {
     "name": "stdout",
     "output_type": "stream",
     "text": [
      "/media/ak/T71/August11th2022Experiments/QuadMMDOutputFiles/processedAlphaResults/G_1/calendar/G_1_calendar_1011115_alpharesults.pickle\n"
     ]
    }
   ],
   "source": [
    "# testing two files\n",
    "g_1_file = os.path.join(resultsFolder, 'G_1_calendar_1011115_alpharesults.pickle')\n",
    "\n",
    "print(g_1_file)"
   ]
  },
  {
   "cell_type": "code",
   "execution_count": 13,
   "id": "7218a2e4",
   "metadata": {},
   "outputs": [],
   "source": [
    "# /media/ak/T71/August11th2022Experiments/QuadMMDOutputFiles/processedAlphaResults/TY1/calendar/TY1_calendar_1011115_alpharesults.pickle"
   ]
  },
  {
   "cell_type": "code",
   "execution_count": 14,
   "id": "623dbb4c",
   "metadata": {},
   "outputs": [
    {
     "data": {
      "text/html": [
       "<div>\n",
       "<style scoped>\n",
       "    .dataframe tbody tr th:only-of-type {\n",
       "        vertical-align: middle;\n",
       "    }\n",
       "\n",
       "    .dataframe tbody tr th {\n",
       "        vertical-align: top;\n",
       "    }\n",
       "\n",
       "    .dataframe thead th {\n",
       "        text-align: right;\n",
       "    }\n",
       "</style>\n",
       "<table border=\"1\" class=\"dataframe\">\n",
       "  <thead>\n",
       "    <tr style=\"text-align: right;\">\n",
       "      <th></th>\n",
       "      <th>start_point</th>\n",
       "      <th>end_point</th>\n",
       "      <th>shift</th>\n",
       "      <th>window</th>\n",
       "      <th>results</th>\n",
       "    </tr>\n",
       "  </thead>\n",
       "  <tbody>\n",
       "    <tr>\n",
       "      <th>10</th>\n",
       "      <td>10</td>\n",
       "      <td>11</td>\n",
       "      <td>1</td>\n",
       "      <td>15</td>\n",
       "      <td>{'perm_mmds1': [0.00442332394139755, 0.0159924...</td>\n",
       "    </tr>\n",
       "  </tbody>\n",
       "</table>\n",
       "</div>"
      ],
      "text/plain": [
       "    start_point  end_point  shift  window  \\\n",
       "10           10         11      1      15   \n",
       "\n",
       "                                              results  \n",
       "10  {'perm_mmds1': [0.00442332394139755, 0.0159924...  "
      ]
     },
     "execution_count": 14,
     "metadata": {},
     "output_type": "execute_result"
    }
   ],
   "source": [
    "pd.DataFrame.from_dict(pd.read_pickle('/media/ak/T71/August11th2022Experiments/QuadMMDOutputFiles/processedAlphaResults/TY1/calendar/TY1_calendar_1011115_alpharesults.pickle'))"
   ]
  },
  {
   "cell_type": "code",
   "execution_count": 15,
   "id": "66fe66b4",
   "metadata": {},
   "outputs": [
    {
     "data": {
      "text/html": [
       "<div>\n",
       "<style scoped>\n",
       "    .dataframe tbody tr th:only-of-type {\n",
       "        vertical-align: middle;\n",
       "    }\n",
       "\n",
       "    .dataframe tbody tr th {\n",
       "        vertical-align: top;\n",
       "    }\n",
       "\n",
       "    .dataframe thead th {\n",
       "        text-align: right;\n",
       "    }\n",
       "</style>\n",
       "<table border=\"1\" class=\"dataframe\">\n",
       "  <thead>\n",
       "    <tr style=\"text-align: right;\">\n",
       "      <th></th>\n",
       "      <th>start_point</th>\n",
       "      <th>end_point</th>\n",
       "      <th>shift</th>\n",
       "      <th>window</th>\n",
       "      <th>results</th>\n",
       "    </tr>\n",
       "  </thead>\n",
       "  <tbody>\n",
       "    <tr>\n",
       "      <th>10</th>\n",
       "      <td>10</td>\n",
       "      <td>11</td>\n",
       "      <td>1</td>\n",
       "      <td>15</td>\n",
       "      <td>{'perm_mmds1': [0.00442332394139755, 0.0159924...</td>\n",
       "    </tr>\n",
       "  </tbody>\n",
       "</table>\n",
       "</div>"
      ],
      "text/plain": [
       "    start_point  end_point  shift  window  \\\n",
       "10           10         11      1      15   \n",
       "\n",
       "                                              results  \n",
       "10  {'perm_mmds1': [0.00442332394139755, 0.0159924...  "
      ]
     },
     "execution_count": 15,
     "metadata": {},
     "output_type": "execute_result"
    }
   ],
   "source": [
    "pd.DataFrame.from_dict(pd.read_pickle('/media/ak/T71/August11th2022Experiments/QuadMMDOutputFiles/processedAlphaResults/G_1/calendar/G_1_calendar_1011115_alpharesults.pickle'))"
   ]
  },
  {
   "cell_type": "code",
   "execution_count": 5,
   "id": "e036d06a",
   "metadata": {},
   "outputs": [],
   "source": [
    "\n",
    "path = resultsFolder\n",
    "dflist =list()\n",
    "for idx in range(0,len(files)):\n",
    "    filePath = os.path.join(path, files[idx])\n",
    "    dflist.append(pd.read_pickle(filePath))"
   ]
  },
  {
   "cell_type": "code",
   "execution_count": null,
   "id": "71558b95",
   "metadata": {},
   "outputs": [],
   "source": []
  },
  {
   "cell_type": "code",
   "execution_count": null,
   "id": "a84cedee",
   "metadata": {},
   "outputs": [],
   "source": [
    "# import pandas as pd\n",
    "# import numpy as np\n",
    "\n",
    "# # Extract the first dictionary from dflist\n",
    "# data_dict = dflist[0]\n",
    "\n",
    "# # Extract the 'results' dictionary from the data_dict\n",
    "# results_dict = data_dict['results']\n",
    "\n",
    "# # Calculate medians for each key in the results dictionary\n",
    "# medians = {key: np.median(value) if isinstance(value, np.ndarray) else value for key, value in results_dict[data_dict['start_point']].items()}\n",
    "\n",
    "# # Extract the 'YZ_test' dictionary from the results_dict\n",
    "# yz_test_dict = results_dict[data_dict['start_point']]['YZ_test']\n",
    "\n",
    "# # Combine the 'YZ_test' keys with 'YZ_test_' prefix\n",
    "# yz_test_keys = ['YZ_test_' + key for key in yz_test_dict.keys()]\n",
    "\n",
    "# # Add the 'YZ_test' keys to the medians dictionary\n",
    "# medians.update(zip(yz_test_keys, yz_test_dict.values()))\n",
    "\n",
    "# # Create a DataFrame with a single row\n",
    "# df = pd.DataFrame([medians])\n",
    "\n",
    "# # Create a multi-index with the four keys as levels\n",
    "# index = pd.MultiIndex.from_tuples([(data_dict['start_point'], data_dict['end_point'], data_dict['shift'], data_dict['window'])],\n",
    "#                                   names=['start_point', 'end_point', 'shift', 'window'])\n",
    "\n",
    "# # Set the multi-index for the DataFrame\n",
    "# df.index = index\n",
    "\n",
    "# # Display the DataFrame\n",
    "# df.T\n"
   ]
  },
  {
   "cell_type": "code",
   "execution_count": null,
   "id": "233a23b1",
   "metadata": {},
   "outputs": [],
   "source": [
    "# import pandas as pd\n",
    "# import numpy as np\n",
    "\n",
    "# # Extract the first dictionary from dflist\n",
    "# data_dict = dflist[0]\n",
    "\n",
    "# # Extract the 'results' dictionary from the data_dict\n",
    "# results_dict = data_dict['results']\n",
    "\n",
    "# # Calculate medians for each key in the results dictionary\n",
    "# medians = {key: np.median(value) if isinstance(value, np.ndarray) else value for key, value in results_dict[data_dict['start_point']].items()}\n",
    "\n",
    "# # Extract the 'XZ_test' dictionary from the results_dict\n",
    "# xz_test_dict = results_dict[data_dict['start_point']]['XZ_test']\n",
    "\n",
    "# # Combine the 'XZ_test' keys with 'XZ_test_' prefix\n",
    "# xz_test_keys = ['XZ_test_' + key for key in xz_test_dict.keys()]\n",
    "\n",
    "# # Add the 'XZ_test' keys to the medians dictionary\n",
    "# medians.update(zip(xz_test_keys, xz_test_dict.values()))\n",
    "\n",
    "# # Extract the 'YZ_test' dictionary from the results_dict\n",
    "# yz_test_dict = results_dict[data_dict['start_point']]['YZ_test']\n",
    "\n",
    "# # Combine the 'YZ_test' keys with 'YZ_test_' prefix\n",
    "# yz_test_keys = ['YZ_test_' + key for key in yz_test_dict.keys()]\n",
    "\n",
    "# # Add the 'YZ_test' keys to the medians dictionary\n",
    "# medians.update(zip(yz_test_keys, yz_test_dict.values()))\n",
    "\n",
    "# # Create a DataFrame with a single row\n",
    "# df = pd.DataFrame([medians])\n",
    "\n",
    "# # Create a multi-index with the four keys as levels\n",
    "# index = pd.MultiIndex.from_tuples([(data_dict['start_point'], data_dict['end_point'], data_dict['shift'], data_dict['window'])],\n",
    "#                                   names=['start_point', 'end_point', 'shift', 'window'])\n",
    "\n",
    "# # Set the multi-index for the DataFrame\n",
    "# df.index = index\n",
    "\n",
    "# # Display the DataFrame\n",
    "# print(df['XZ_test_list_permuted_mmd2'].T)\n"
   ]
  },
  {
   "cell_type": "code",
   "execution_count": null,
   "id": "7c7bbe71",
   "metadata": {},
   "outputs": [],
   "source": [
    "data_dict.keys()"
   ]
  },
  {
   "cell_type": "code",
   "execution_count": null,
   "id": "f8809ce3",
   "metadata": {},
   "outputs": [],
   "source": [
    "# import pandas as pd\n",
    "# import numpy as np\n",
    "\n",
    "# # Extract the first dictionary from dflist\n",
    "# data_dict = dflist[10]\n",
    "\n",
    "# # Extract the 'results' dictionary from the data_dict\n",
    "# results_dict = data_dict['results']\n",
    "\n",
    "# # Calculate medians for each key in the results dictionary\n",
    "# medians = {key: np.median(value) if isinstance(value, np.ndarray) else value for key, value in results_dict[data_dict['start_point']].items()}\n",
    "\n",
    "# # Extract the 'XZ_test' dictionary from the results_dict\n",
    "# xz_test_dict = results_dict[data_dict['start_point']]['XZ_test']\n",
    "\n",
    "# # Combine the 'XZ_test' keys with 'XZ_test_' prefix\n",
    "# xz_test_keys = ['XZ_test_' + key for key in xz_test_dict.keys()]\n",
    "\n",
    "# # Add the 'XZ_test' keys to the medians dictionary\n",
    "# medians.update(zip(xz_test_keys, xz_test_dict.values()))\n",
    "\n",
    "# # Extract the 'YZ_test' dictionary from the results_dict\n",
    "# yz_test_dict = results_dict[data_dict['start_point']]['YZ_test']\n",
    "\n",
    "# # Combine the 'YZ_test' keys with 'YZ_test_' prefix\n",
    "# yz_test_keys = ['YZ_test_' + key for key in yz_test_dict.keys()]\n",
    "\n",
    "# # Add the 'YZ_test' keys to the medians dictionary\n",
    "# medians.update(zip(yz_test_keys, yz_test_dict.values()))\n",
    "\n",
    "# # Replace the values of XZ_test_list_permuted_mmd2 and YZ_test_list_permuted_mmd2 with their medians\n",
    "# medians['XZ_test_list_permuted_mmd2'] = np.median(xz_test_dict['list_permuted_mmd2'])\n",
    "# medians['YZ_test_list_permuted_mmd2'] = np.median(yz_test_dict['list_permuted_mmd2'])\n",
    "\n",
    "# # Create a DataFrame with a single row\n",
    "# df = pd.DataFrame([medians])\n",
    "\n",
    "# # Create a multi-index with the four keys as levels\n",
    "# index = pd.MultiIndex.from_tuples([(data_dict['start_point'], data_dict['end_point'], data_dict['shift'], data_dict['window'])],\n",
    "#                                   names=['start_point', 'end_point', 'shift', 'window'])\n",
    "\n",
    "# # Set the multi-index for the DataFrame\n",
    "# df.index = index\n",
    "# # Drop the XZ_test and YZ_test columns\n",
    "# df = df.drop(columns=['XZ_test', 'YZ_test'])\n",
    "\n",
    "# # Display the DataFrame\n",
    "# df.T\n"
   ]
  },
  {
   "cell_type": "code",
   "execution_count": null,
   "id": "5c572dea",
   "metadata": {},
   "outputs": [],
   "source": [
    "import pandas as pd\n",
    "import numpy as np\n",
    "\n",
    "# Initialize an empty list to store the DataFrames\n",
    "df_list = []\n",
    "\n",
    "# Iterate over each dictionary in dflist\n",
    "for data_dict in dflist:\n",
    "    # Extract the 'results' dictionary from the data_dict\n",
    "    results_dict = data_dict['results']\n",
    "    \n",
    "    # Calculate medians for each key in the results dictionary\n",
    "    medians = {key: np.median(value) if isinstance(value, np.ndarray) else value for key, value in results_dict[data_dict['start_point']].items()}\n",
    "    \n",
    "    # Extract the 'XZ_test' dictionary from the results_dict\n",
    "    xz_test_dict = results_dict[data_dict['start_point']]['XZ_test']\n",
    "    \n",
    "    # Combine the 'XZ_test' keys with 'XZ_test_' prefix\n",
    "    xz_test_keys = ['XZ_test_' + key for key in xz_test_dict.keys()]\n",
    "    \n",
    "    # Add the 'XZ_test' keys to the medians dictionary\n",
    "    medians.update(zip(xz_test_keys, xz_test_dict.values()))\n",
    "    \n",
    "    # Extract the 'YZ_test' dictionary from the results_dict\n",
    "    yz_test_dict = results_dict[data_dict['start_point']]['YZ_test']\n",
    "    \n",
    "    # Combine the 'YZ_test' keys with 'YZ_test_' prefix\n",
    "    yz_test_keys = ['YZ_test_' + key for key in yz_test_dict.keys()]\n",
    "    \n",
    "    # Add the 'YZ_test' keys to the medians dictionary\n",
    "    medians.update(zip(yz_test_keys, yz_test_dict.values()))\n",
    "    \n",
    "    # Replace the values of XZ_test_list_permuted_mmd2 and YZ_test_list_permuted_mmd2 with their medians\n",
    "    medians['XZ_test_list_permuted_mmd2'] = np.median(xz_test_dict['list_permuted_mmd2'])\n",
    "    medians['YZ_test_list_permuted_mmd2'] = np.median(yz_test_dict['list_permuted_mmd2'])\n",
    "    \n",
    "    # Create a DataFrame with a single row\n",
    "    df = pd.DataFrame([medians])\n",
    "    \n",
    "    # Create a multi-index with the four keys as levels\n",
    "    index = pd.MultiIndex.from_tuples([(data_dict['start_point'], data_dict['end_point'], data_dict['shift'], data_dict['window'])],\n",
    "                                      names=['start_point', 'end_point', 'shift', 'window'])\n",
    "    \n",
    "    # Set the multi-index for the DataFrame\n",
    "    df.index = index\n",
    "    \n",
    "    # Drop the XZ_test and YZ_test columns\n",
    "    df = df.drop(columns=['XZ_test', 'YZ_test'])\n",
    "    \n",
    "    # Append the DataFrame to the list\n",
    "    df_list.append(df)\n",
    "\n",
    "# Combine all DataFrames into a single DataFrame\n",
    "combined_df = pd.concat(df_list)\n",
    "\n",
    "# Display the combined DataFrame\n",
    "print(combined_df)\n"
   ]
  },
  {
   "cell_type": "code",
   "execution_count": null,
   "id": "73b077c0",
   "metadata": {},
   "outputs": [],
   "source": [
    "len(dflist)"
   ]
  },
  {
   "cell_type": "code",
   "execution_count": null,
   "id": "57b416af",
   "metadata": {},
   "outputs": [],
   "source": [
    "combined_df"
   ]
  },
  {
   "cell_type": "code",
   "execution_count": null,
   "id": "6e994345",
   "metadata": {},
   "outputs": [],
   "source": [
    "window_summary = combined_df.pivot_table(index='window', aggfunc='mean')\n",
    "\n",
    "\n",
    "latex_table = window_summary.to_latex()\n",
    "print(latex_table)"
   ]
  },
  {
   "cell_type": "code",
   "execution_count": null,
   "id": "a1d53ac7",
   "metadata": {},
   "outputs": [],
   "source": [
    "shift_summary = combined_df.pivot_table(index='shift', aggfunc='mean')\n",
    "\n",
    "shift_summary.T"
   ]
  },
  {
   "cell_type": "code",
   "execution_count": null,
   "id": "0c8b0304",
   "metadata": {},
   "outputs": [],
   "source": [
    "window_shift_summary = combined_df.pivot_table(index=['window', 'shift'], aggfunc='mean')\n",
    "window_shift_summary.T"
   ]
  },
  {
   "cell_type": "code",
   "execution_count": null,
   "id": "61c9f47a",
   "metadata": {},
   "outputs": [],
   "source": [
    "# Creating the new columns MultiIndex\n",
    "df_test.columns = pd.MultiIndex.from_tuples(df_test.iloc[:4].T.values, names=df_test.iloc[:4].index)\n",
    "\n",
    "# Dropping the rows that were used for the columns MultiIndex\n",
    "df_test = df_test.iloc[4:]\n",
    "\n",
    "# Resetting the index (optional)\n",
    "df_test.reset_index(drop=True, inplace=True)\n"
   ]
  },
  {
   "cell_type": "code",
   "execution_count": null,
   "id": "f7fd8c81",
   "metadata": {},
   "outputs": [],
   "source": [
    "def remove_prefix(df, prefix):\n",
    "    df.columns = df.columns.str.replace(prefix, '')\n",
    "    return df"
   ]
  },
  {
   "cell_type": "code",
   "execution_count": null,
   "id": "f7b30590",
   "metadata": {},
   "outputs": [],
   "source": [
    "remove_prefix(df.T, 'results_129_')"
   ]
  },
  {
   "cell_type": "code",
   "execution_count": null,
   "id": "e9b1ac15",
   "metadata": {},
   "outputs": [],
   "source": [
    "prefix = '129'\n",
    "remove_prefix(df.T, 'results_'+prefix+'_')"
   ]
  },
  {
   "cell_type": "code",
   "execution_count": null,
   "id": "93fbd31c",
   "metadata": {},
   "outputs": [],
   "source": []
  },
  {
   "cell_type": "code",
   "execution_count": null,
   "id": "d405e140",
   "metadata": {},
   "outputs": [],
   "source": []
  }
 ],
 "metadata": {
  "kernelspec": {
   "display_name": "Python 3",
   "language": "python",
   "name": "python3"
  },
  "language_info": {
   "codemirror_mode": {
    "name": "ipython",
    "version": 3
   },
   "file_extension": ".py",
   "mimetype": "text/x-python",
   "name": "python",
   "nbconvert_exporter": "python",
   "pygments_lexer": "ipython3",
   "version": "3.6.13"
  }
 },
 "nbformat": 4,
 "nbformat_minor": 5
}
