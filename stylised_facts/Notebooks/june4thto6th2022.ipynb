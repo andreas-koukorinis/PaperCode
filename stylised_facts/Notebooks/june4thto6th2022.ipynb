{
 "cells": [
  {
   "cell_type": "code",
   "execution_count": 1,
   "metadata": {
    "pycharm": {
     "name": "#%%\n"
    }
   },
   "outputs": [],
   "source": [
    "import time \n",
    "import multiprocessing as mp\n",
    "from multiprocessing import Pool\n",
    "from collections import defaultdict\n",
    "import sys\n",
    "sys.path.append('/home/ak/Documents/PaperCode/stylised_facts')\n",
    "import numpy as np\n",
    "import matplotlib.pyplot as plt\n",
    "import pandas as pd\n",
    "import os\n",
    "import lob_for_futures as lobFut\n",
    "from lob_for_futures import *\n",
    "\n",
    "from scipy.stats import jarque_bera\n",
    "import matplotlib.pyplot as plt\n",
    "\n",
    "from dateutil.parser import parse\n",
    "from pandas.tseries.offsets import BDay\n",
    "import pickle as pkl\n",
    "import fnmatch\n",
    "import pickle\n",
    "import datetime as dt\n",
    "from datetime import timedelta\n",
    "import glob\n",
    "import fathon\n",
    "from fathon import fathonUtils as fu\n",
    "import itertools\n",
    "import pyinform as pyinf\n",
    "# import pingouin as pig\n",
    "import seaborn as sns\n",
    "from scipy.stats import entropy\n",
    "from scipy.spatial.distance import jensenshannon\n",
    "from scipy.special import kl_div\n",
    "import time\n",
    "import pickle as pkl\n",
    "import matplotlib.ticker as mtick\n",
    "\n",
    "from functools import partial"
   ]
  },
  {
   "cell_type": "code",
   "execution_count": 2,
   "metadata": {
    "pycharm": {
     "name": "#%%\n"
    }
   },
   "outputs": [],
   "source": [
    "loc_activityClockData = '/media/ak/My Passport/ActivityClockData'\n",
    "loc_ProcessedDataForExperiments = '/media/ak/My Passport1/ExperimentData/ProcessedDataForExperiments'\n",
    "list_activityClockData = os.listdir('/media/ak/My Passport/ActivityClockData')\n",
    "list_ProcessedDataForExperiments = os.listdir('/media/ak/My Passport1/ExperimentData/ProcessedDataForExperiments')"
   ]
  },
  {
   "cell_type": "code",
   "execution_count": null,
   "metadata": {
    "pycharm": {
     "name": "#%%\n"
    }
   },
   "outputs": [],
   "source": [
    "# !pip install pyinform"
   ]
  },
  {
   "cell_type": "code",
   "execution_count": 6,
   "metadata": {
    "pycharm": {
     "name": "#%%\n"
    }
   },
   "outputs": [],
   "source": [
    "\n",
    "\n",
    "# Lets create a function that shifted your dataframe first before calling the corr().\n",
    "# Let us break down what we hope to accomplish, and then translate that into code.\n",
    "# For each hour (row) and for a given feature (column) I would like to find the value\n",
    "# for that feature N hours prior.\n",
    "# For each value of N (1-6 in our case) I want to make a new column\n",
    "# for that feature representing the Nth prior hour's measurement.\n",
    "\n",
    "elements = '/media/ak/Elements/OrderBookProcessedData'\n",
    "laCie = '/media/ak/LaCie'\n",
    "experimentsLocation = '/media/ak/T7/June4th2022Experiments'\n",
    "bars =['volume_bar', 'calendar_bar', 'usd_volume_bar', 'tick_bar']\n",
    "# plt.style.use(os.path.join('/home/ak/.config/matplotlib','l3.mplstyle'))\n",
    "figures_destination = '/home/ak/Documents/Research/Papers/figures/'\n",
    "\n",
    "jb_dict = dict()\n",
    "standarised_returns = defaultdict(dict)\n",
    "dataFolder = laCie\n",
    "quotes = [f for f in os.listdir(dataFolder) if str('_quotes') in f]\n",
    "trades = [f for f in os.listdir(dataFolder) if str('_trades') in f]"
   ]
  },
  {
   "cell_type": "code",
   "execution_count": 7,
   "metadata": {
    "pycharm": {
     "name": "#%%\n"
    }
   },
   "outputs": [],
   "source": [
    "def print_cube(num):\n",
    "    \"\"\"\n",
    "    function to print cube of given num\n",
    "    \"\"\"\n",
    "    print(\"Cube: {}\".format(num * num * num))\n"
   ]
  },
  {
   "cell_type": "code",
   "execution_count": 8,
   "metadata": {
    "pycharm": {
     "name": "#%%\n"
    }
   },
   "outputs": [],
   "source": [
    " \n",
    "def print_square(num):\n",
    "    \"\"\"\n",
    "    function to print square of given num\n",
    "    \"\"\"\n",
    "    print(\"Square: {}\".format(num * num))\n"
   ]
  },
  {
   "cell_type": "code",
   "execution_count": 10,
   "metadata": {
    "pycharm": {
     "name": "#%%\n"
    }
   },
   "outputs": [
    {
     "name": "stdout",
     "output_type": "stream",
     "text": [
      ".Trash-1000\n"
     ]
    }
   ],
   "source": [
    "\n",
    "# if __name__ == '__main__':\n",
    "symbolIdx = 0\n",
    "symbols = sorted(os.listdir(dataFolder))\n",
    "procsdSymbolFolder = os.path.join(dataFolder, symbols[symbolIdx])\n",
    "files = sorted(os.listdir(procsdSymbolFolder))\n",
    "bars = ['volume_bar', 'calendar_bar', 'usd_volume_bar', 'tick_bar']\n",
    "symbol = symbols[symbolIdx]\n",
    "print(symbol)\n",
    "\n",
    "#     pickle_out_filename = os.path.join( experimentsLocation, \"\".join((str(symbol), \"_JB_results.pkl\")))\n",
    "\n",
    "#     pickle.dump(jb_dict, open(pickle_out_filename, 'wb'), protocol=pickle.HIGHEST_PROTOCOL)\n",
    "\n",
    "#     pickle_out_returns = os.path.join(experimentsLocation, \"\".join((str(symbol), \"_standard_returns.pkl\")))\n",
    "#     pickle.dump(standarised_returns, open(pickle_out_returns, 'wb'), protocol=pickle.HIGHEST_PROTOCOL)\n",
    "\n",
    "\n",
    "\n",
    "\n"
   ]
  },
  {
   "cell_type": "code",
   "execution_count": null,
   "metadata": {
    "pycharm": {
     "name": "#%%\n"
    }
   },
   "outputs": [],
   "source": [
    "\n",
    "\n",
    "def jb_calculation(symbolIdx, filesIdx):\n",
    "\n",
    "    # add location variables. these i have to figure how to abstract away\n",
    "    print(symbols[symbolIdx])\n",
    "    procsdSymbolFolder = os.path.join(elements, symbols[symbolIdx])\n",
    "    print(procsdSymbolFolder)\n",
    "    files = sorted(os.listdir(procsdSymbolFolder))\n",
    "    \n",
    "    fileLocation = os.path.join(procsdSymbolFolder, files[filesIdx])\n",
    "    print(fileLocation)\n",
    "    \n",
    "    # pick the various files\n",
    "    volume_bar_dict = open_pickle_filepath(fileLocation)[bars[0]]\n",
    "    calendar_bar_dict = open_pickle_filepath(fileLocation)[bars[1]]\n",
    "    usd_volume_bar_dict = open_pickle_filepath(fileLocation)[bars[2]]\n",
    "    tick_bar_dict = open_pickle_filepath(fileLocation)[bars[3]]\n",
    "    # get the dataframes\n",
    "\n",
    "    volume_bar_df = volume_bar_dict[list(volume_bar_dict.keys())[0]]\n",
    "    calendar_bar_df = calendar_bar_dict[list(calendar_bar_dict.keys())[0]]\n",
    "    usd_volume_df = usd_volume_bar_dict[list(usd_volume_bar_dict.keys())[0]]\n",
    "    tick_bar_df = tick_bar_dict[list(usd_volume_bar_dict.keys())[0]]\n",
    "    # returns\n",
    "\n",
    "    vb_ret = returns(volume_bar_df.micro_price_close).replace([np.inf, -np.inf], 0)  # volume\n",
    "    tb_ret = returns(tick_bar_df.micro_price_close).replace([np.inf, -np.inf], 0)  # tick\n",
    "    usdvb_ret = returns(usd_volume_df.micro_price_close).dropna().replace([np.inf, -np.inf], 0)  # usd volume\n",
    "    cb_ret = returns(calendar_bar_df.micro_price_close).dropna().replace([np.inf, -np.inf], 0)  # calendar\n",
    "    # calculating JB statistic\n",
    "    jb_value_tick, _ = jarque_bera(tb_ret)\n",
    "    jb_value_vol, _ = jarque_bera(vb_ret)\n",
    "    jb_value_dollar, _ = jarque_bera(usdvb_ret)\n",
    "    jb_value_calendar, _ = jarque_bera(cb_ret)\n",
    "\n",
    "\n",
    "    jb_test_df = pd.DataFrame(data={'jarque_bera_results': [jb_value_tick,\n",
    "                                                            jb_value_vol,\n",
    "                                                            jb_value_dollar,\n",
    "                                                            jb_value_calendar]\n",
    "                                    },\n",
    "                              index=['tick', 'vol', 'dollar', 'calendar'])\n",
    "    pickle_out_returns = os.path.join(experimentsLocation, \"\".join((str(symbols[symbolIdx]), \"_\"+str(filesIdx)+\"_jb_stats.pkl\")))\n",
    "    pickle.dump(jb_test_df, open(pickle_out_returns, 'wb'), protocol=pickle.HIGHEST_PROTOCOL)\n",
    "\n",
    "    print(\"produced and saved JB stats for :\", symbols[symbolIdx], filesIdx)\n",
    "\n",
    "\n",
    "    "
   ]
  },
  {
   "cell_type": "code",
   "execution_count": null,
   "metadata": {
    "pycharm": {
     "name": "#%%\n"
    }
   },
   "outputs": [],
   "source": [
    "jb_calculation(4, 4)\n",
    "os.listdir('/media/ak/Elements/OrderBookProcessedData/')"
   ]
  },
  {
   "cell_type": "code",
   "execution_count": null,
   "metadata": {
    "pycharm": {
     "name": "#%%\n"
    }
   },
   "outputs": [],
   "source": [
    "def standarised_returns(symbolIdx, filesIdx):\n",
    "    standarised_returns = defaultdict(dict)\n",
    "    # add location variables. these i have to figure how to abstract away\n",
    "    ### all files here ###\n",
    "    procsdSymbolFolder = os.path.join(elements, symbols[symbolIdx])\n",
    "    files = sorted(os.listdir(procsdSymbolFolder))\n",
    "    fileLocation = os.path.join(procsdSymbolFolder, files[filesIdx])\n",
    "    \n",
    "    volume_bar_dict = open_pickle_filepath(fileLocation)[bars[0]]\n",
    "    calendar_bar_dict = open_pickle_filepath(fileLocation)[bars[1]]\n",
    "    usd_volume_bar_dict = open_pickle_filepath(fileLocation)[bars[2]]\n",
    "    tick_bar_dict = open_pickle_filepath(fileLocation)[bars[3]]\n",
    "    ### all dataframes here ###\n",
    "\n",
    "    volume_bar_df = volume_bar_dict[list(volume_bar_dict.keys())[0]]\n",
    "    calendar_bar_df = calendar_bar_dict[list(calendar_bar_dict.keys())[0]]\n",
    "    usd_volume_df = usd_volume_bar_dict[list(usd_volume_bar_dict.keys())[0]]\n",
    "    tick_bar_df = tick_bar_dict[list(usd_volume_bar_dict.keys())[0]]\n",
    "\n",
    "\n",
    "    vb_ret = returns(volume_bar_df.micro_price_close).replace([np.inf, -np.inf], 0)  # volume\n",
    "    tb_ret = returns(tick_bar_df.micro_price_close).replace([np.inf, -np.inf], 0)  # tick\n",
    "    usdvb_ret = returns(usd_volume_df.micro_price_close).dropna().replace([np.inf, -np.inf], 0)  # usd volume\n",
    "    cb_ret = returns(calendar_bar_df.micro_price_close).dropna().replace([np.inf, -np.inf], 0)  # calendar\n",
    "    \n",
    "    tick_standard = (tb_ret - tb_ret.mean()) / tb_ret.std()\n",
    "    volume_standard = (vb_ret - vb_ret.mean()) / vb_ret.std()\n",
    "    dollar_standard = (usdvb_ret - usdvb_ret.mean()) / usdvb_ret.std()\n",
    "    cb_standard = (cb_ret - cb_ret.mean()) / cb_ret.std()\n",
    "    standarised_returns['tick'][filesIdx] = tick_standard\n",
    "    standarised_returns['calendar'][filesIdx] = cb_standard\n",
    "    standarised_returns['volume'][filesIdx] = volume_standard\n",
    "    standarised_returns['dollar'][filesIdx] = dollar_standard\n",
    "    \n",
    "    pickle_out_returns = os.path.join(experimentsLocation, \"\".join((str(symbol), \"_\"+str(filesIdx)+\"_standard_returns.pkl\")))\n",
    "    pickle.dump(standarised_returns, open(pickle_out_returns, 'wb'), protocol=pickle.HIGHEST_PROTOCOL)\n",
    "    return standarised_returns\n",
    "\n",
    "\n"
   ]
  },
  {
   "cell_type": "code",
   "execution_count": null,
   "metadata": {
    "pycharm": {
     "name": "#%%\n"
    }
   },
   "outputs": [],
   "source": [
    "test =standarised_returns(1, 1)"
   ]
  },
  {
   "cell_type": "code",
   "execution_count": null,
   "metadata": {
    "pycharm": {
     "name": "#%%\n"
    }
   },
   "outputs": [],
   "source": [
    "test['tick']"
   ]
  },
  {
   "cell_type": "code",
   "execution_count": null,
   "metadata": {
    "pycharm": {
     "name": "#%%\n"
    }
   },
   "outputs": [],
   "source": [
    "# if __name__ == \"__main__\":\n",
    "#     # creating processes\n",
    "#     p1 = multiprocessing.Process(target=jb_calculation, args=(1, ))\n",
    "    \n",
    " \n",
    "#     # starting process 1\n",
    "#     p1.start()\n",
    "#     # starting process 2\n",
    "# #     p2.start()\n",
    " \n",
    "#     # wait until process 1 is finished\n",
    "# #     p1.join()\n",
    "#     # wait until process 2 is finished\n",
    "# #     p2.join()\n",
    " \n",
    "#     # both processes finished\n",
    "#     print(\"Done!\")"
   ]
  },
  {
   "cell_type": "code",
   "execution_count": null,
   "metadata": {
    "pycharm": {
     "name": "#%%\n"
    }
   },
   "outputs": [],
   "source": [
    "# from multiprocessing import Pool\n",
    "# with Pool(5) as p:\n",
    "#     print(p.map(jb_calculation, [1, 2, 3, 5, 6 ,7, 8, 25]))"
   ]
  },
  {
   "cell_type": "code",
   "execution_count": null,
   "metadata": {
    "pycharm": {
     "name": "#%%\n"
    }
   },
   "outputs": [],
   "source": [
    "from functools import partial\n",
    "from itertools import repeat\n",
    "from multiprocessing import Pool, freeze_support"
   ]
  },
  {
   "cell_type": "code",
   "execution_count": null,
   "metadata": {
    "pycharm": {
     "name": "#%%\n"
    }
   },
   "outputs": [],
   "source": [
    "\n",
    "def main():\n",
    "    a_args = [1, 2]\n",
    "    second_arg = [1, 2, 3, 4, 5, 6]\n",
    "    with Pool() as pool:\n",
    "#        L = pool.starmap(standarised_returns, [(1, 1), (1, 2), (1, 3)])\n",
    "        K = pool.starmap(standarised_returns, list(itertools.product(a_args, second_arg)))\n",
    "#         M = pool.starmap(jb_calculation, zip(a_args, second_arg))\n",
    "#         N = pool.map(partial(jb_calculation, second_arg), a_args)\n",
    "#         assert L == K\n",
    "\n",
    "if __name__==\"__main__\":\n",
    "\n"
   ]
  },
  {
   "cell_type": "code",
   "execution_count": null,
   "metadata": {
    "pycharm": {
     "name": "#%%\n"
    }
   },
   "outputs": [],
   "source": [
    "a_args = [1]\n",
    "second_arg = [f for f in range(0, 20, 1)]"
   ]
  },
  {
   "cell_type": "code",
   "execution_count": null,
   "metadata": {
    "pycharm": {
     "name": "#%%\n"
    }
   },
   "outputs": [],
   "source": [
    "# freeze_support()\n",
    "# with Pool() as pool:\n",
    "#     L = pool.starmap(standarised_returns, list(itertools.product(a_args, second_arg)))\n",
    "#     K = pool.starmap(jb_calculation, list(itertools.product(a_args, second_arg)))"
   ]
  },
  {
   "cell_type": "code",
   "execution_count": null,
   "metadata": {
    "pycharm": {
     "name": "#%%\n"
    }
   },
   "outputs": [],
   "source": [
    "print(L)"
   ]
  },
  {
   "cell_type": "code",
   "execution_count": null,
   "metadata": {
    "pycharm": {
     "name": "#%%\n"
    }
   },
   "outputs": [],
   "source": [
    "list(zip(itertools.product(FIRST, SECOND)))"
   ]
  },
  {
   "cell_type": "code",
   "execution_count": null,
   "metadata": {
    "pycharm": {
     "name": "#%%\n"
    }
   },
   "outputs": [],
   "source": [
    "test_dict =open_pickle_filepath('/media/ak/T7/June4th2022Experiments/DU1_standard_returns.pkl')"
   ]
  },
  {
   "cell_type": "code",
   "execution_count": null,
   "metadata": {
    "pycharm": {
     "name": "#%%\n"
    }
   },
   "outputs": [],
   "source": [
    "test_dict.keys()"
   ]
  },
  {
   "cell_type": "code",
   "execution_count": null,
   "metadata": {
    "pycharm": {
     "name": "#%%\n"
    }
   },
   "outputs": [],
   "source": [
    "files =[f for f in os.listdir('/media/ak/T7/June4th2022Experiments/') if str('_standard_returns') in f]"
   ]
  },
  {
   "cell_type": "code",
   "execution_count": null,
   "metadata": {
    "pycharm": {
     "name": "#%%\n"
    }
   },
   "outputs": [],
   "source": [
    "symbol_ =' OE1'\n",
    "type_file ='_standard_returns'\n",
    "symbol_type_files = [f for f in files if str(symbol) in f if str(type_file) in f]\n",
    "bars = ['tick', 'calendar', 'volume', 'dollar']\n",
    "symbol_type_files"
   ]
  },
  {
   "cell_type": "code",
   "execution_count": null,
   "metadata": {
    "pycharm": {
     "name": "#%%\n"
    }
   },
   "outputs": [],
   "source": [
    "list(oaded_returns['tick'].keys())[0]"
   ]
  },
  {
   "cell_type": "code",
   "execution_count": null,
   "metadata": {
    "pycharm": {
     "name": "#%%\n"
    }
   },
   "outputs": [],
   "source": [
    "list(symbol_type_files"
   ]
  },
  {
   "cell_type": "code",
   "execution_count": null,
   "metadata": {
    "pycharm": {
     "name": "#%%\n"
    }
   },
   "outputs": [],
   "source": [
    "file_index = 1\n",
    "file_path =os.path.join(experimentsLocation, symbol_type_files[file_index])\n",
    "loaded_returns = open_pickle_filepath(file_path)\n",
    "index_item = list(loaded_returns[bars[0]].keys())[0]"
   ]
  },
  {
   "cell_type": "code",
   "execution_count": null,
   "metadata": {
    "pycharm": {
     "name": "#%%\n"
    }
   },
   "outputs": [],
   "source": [
    "tr = loaded_returns['tick'][index_item]\n",
    "calr = loaded_returns['calendar'][index_item]\n",
    "vr = loaded_returns['volume'][index_item]\n",
    "dr = loaded_returns['dollar'][index_item]\n",
    "\n",
    "\n"
   ]
  },
  {
   "cell_type": "code",
   "execution_count": null,
   "metadata": {
    "pycharm": {
     "name": "#%%\n"
    }
   },
   "outputs": [],
   "source": [
    "\n",
    "tick_dict = dict()\n",
    "usd_dict = dict()\n",
    "calendar_dict = dict()\n",
    "volm_dict = dict()\n",
    "for file_index, _ in enumerate(symbol_type_files):\n",
    "    file_path =os.path.join(experimentsLocation, symbol_type_files[file_index])\n",
    "    loaded_returns = open_pickle_filepath(file_path)\n",
    "    index_item = list(loaded_returns[bars[0]].keys())[0]\n",
    "    tick_dict[file_index+1]= (pd.DataFrame(loaded_returns['tick'][index_item].values))\n",
    "    usd_dict[file_index+1]= (pd.DataFrame(loaded_returns['dollar'][index_item].values))\n",
    "    calendar_dict[file_index+1]= (pd.DataFrame(loaded_returns['calendar'][index_item].values))\n",
    "    volm_dict[file_index+1]= (pd.DataFrame(loaded_returns['volume'][index_item].values))\n",
    "    \n",
    "    \n",
    "    "
   ]
  },
  {
   "cell_type": "code",
   "execution_count": null,
   "metadata": {
    "pycharm": {
     "name": "#%%\n"
    }
   },
   "outputs": [],
   "source": [
    "volm_dict"
   ]
  },
  {
   "cell_type": "code",
   "execution_count": null,
   "metadata": {
    "pycharm": {
     "name": "#%%\n"
    }
   },
   "outputs": [],
   "source": [
    "user_dict = calendar_dict\n",
    "def produce_dict(user_dict):\n",
    "    columns_values = list(user_dict.keys())\n",
    "    _df =pd.DataFrame.from_dict({(i,j): user_dict[i][j] \n",
    "                               for i in user_dict.keys() \n",
    "                               for j in user_dict[i].keys()},\n",
    "                           orient='index')\n",
    "    return_df = _df.reset_index().drop(columns=['level_0', 'level_1'])\n",
    "    return return_df\n"
   ]
  },
  {
   "cell_type": "code",
   "execution_count": null,
   "metadata": {
    "pycharm": {
     "name": "#%%\n"
    }
   },
   "outputs": [],
   "source": []
  },
  {
   "cell_type": "code",
   "execution_count": null,
   "metadata": {
    "pycharm": {
     "name": "#%%\n"
    }
   },
   "outputs": [],
   "source": [
    "tick_ = tick_df.T.median(axis=1)\n",
    "usd_ = usd_df.T.median(axis=1)\n",
    "volm_ = volm_df.T.median(axis=1)\n",
    "calendar_ = calendar_df.T.median(axis=1)\n"
   ]
  },
  {
   "cell_type": "code",
   "execution_count": null,
   "metadata": {
    "pycharm": {
     "name": "#%%\n"
    }
   },
   "outputs": [],
   "source": [
    "tick_median = df.T.median(axis=1)"
   ]
  },
  {
   "cell_type": "code",
   "execution_count": null,
   "metadata": {
    "pycharm": {
     "name": "#%%\n"
    }
   },
   "outputs": [],
   "source": [
    "import seaborn as sns\n",
    "fig, ax = plt.subplots(figsize=(10,10))\n",
    "sns.kdeplot(tick_, \n",
    "            ax=ax,\n",
    "            label=\"Tick\", \n",
    "            bw=0.25,\n",
    "            color='darkblue')\n",
    "sns.kdeplot(usd_,\n",
    "            ax=ax,\n",
    "            label=\"USD Volume\",\n",
    "            bw=1.55,linewidth=2.25,\n",
    "            color='purple', linestyle ='-')\n",
    "\n",
    "sns.kdeplot(volm_,\n",
    "            ax=ax,\n",
    "            label=\"Volume\",\n",
    "            bw=0.55,linewidth=1.25,\n",
    "            color='red', linestyle ='-')\n",
    "sns.kdeplot(calendar_,\n",
    "            ax=ax,\n",
    "            label=\"Calendar\",\n",
    "            bw=0.55,linewidth=2.25,\n",
    "            color='grey', linestyle =':')\n",
    "\n",
    "sns.kdeplot(np.random.normal(size=len(dr)),\n",
    "            ax=ax,\n",
    "            label=\"Normal\",\n",
    "            color='darkgreen',\n",
    "            linewidth=3,\n",
    "            linestyle=\"--\")\n",
    "plt.legend()\n",
    "\n",
    "\n",
    "_ =plt.xlabel('Returns', fontsize=19)\n",
    "_ =plt.ylabel('Density', fontsize=19)\n",
    "_ =plt.xticks(fontsize = 15, rotation = 45)\n",
    "_ = plt.yticks(fontsize = 15)\n",
    "\n",
    "#plt.title(str(symbol))\n",
    "file_name = str(symbol) + 'median_multiclocks_density_plot.png'\n",
    "plt.savefig(os.path.join(figures_destination,file_name))\n",
    "plt.legend()\n",
    "plt.show()"
   ]
  },
  {
   "cell_type": "code",
   "execution_count": null,
   "metadata": {
    "pycharm": {
     "name": "#%%\n"
    }
   },
   "outputs": [],
   "source": []
  }
 ],
 "metadata": {
  "kernelspec": {
   "display_name": "Python 3",
   "language": "python",
   "name": "python3"
  },
  "language_info": {
   "codemirror_mode": {
    "name": "ipython",
    "version": 3
   },
   "file_extension": ".py",
   "mimetype": "text/x-python",
   "name": "python",
   "nbconvert_exporter": "python",
   "pygments_lexer": "ipython3",
   "version": "3.6.13"
  }
 },
 "nbformat": 4,
 "nbformat_minor": 2
}
