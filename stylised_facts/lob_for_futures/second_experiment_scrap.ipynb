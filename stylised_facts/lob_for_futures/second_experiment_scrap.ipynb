{
 "cells": [
  {
   "cell_type": "code",
   "execution_count": 1,
   "outputs": [],
   "source": [
    "import pandas as pd"
   ],
   "metadata": {
    "collapsed": false,
    "pycharm": {
     "name": "#%%\n"
    }
   }
  },
  {
   "cell_type": "code",
   "execution_count": 1,
   "outputs": [
    {
     "ename": "ModuleNotFoundError",
     "evalue": "No module named 'stylised_facts'",
     "output_type": "error",
     "traceback": [
      "\u001B[0;31m---------------------------------------------------------------------------\u001B[0m",
      "\u001B[0;31mModuleNotFoundError\u001B[0m                       Traceback (most recent call last)",
      "\u001B[0;32m<ipython-input-1-74140db3eb28>\u001B[0m in \u001B[0;36m<module>\u001B[0;34m\u001B[0m\n\u001B[1;32m     10\u001B[0m \u001B[0;34m\u001B[0m\u001B[0m\n\u001B[1;32m     11\u001B[0m \u001B[0;32mimport\u001B[0m \u001B[0mos\u001B[0m\u001B[0;34m\u001B[0m\u001B[0;34m\u001B[0m\u001B[0m\n\u001B[0;32m---> 12\u001B[0;31m \u001B[0;32mimport\u001B[0m \u001B[0mstylised_facts\u001B[0m\u001B[0;34m.\u001B[0m\u001B[0mlob_for_futures\u001B[0m \u001B[0;32mas\u001B[0m \u001B[0mlobFut\u001B[0m\u001B[0;34m\u001B[0m\u001B[0;34m\u001B[0m\u001B[0m\n\u001B[0m\u001B[1;32m     13\u001B[0m \u001B[0;31m# from lob_for_futures import *\u001B[0m\u001B[0;34m\u001B[0m\u001B[0;34m\u001B[0m\u001B[0;34m\u001B[0m\u001B[0m\n\u001B[1;32m     14\u001B[0m \u001B[0;34m\u001B[0m\u001B[0m\n",
      "\u001B[0;31mModuleNotFoundError\u001B[0m: No module named 'stylised_facts'"
     ]
    }
   ],
   "source": [
    "import time\n",
    "import multiprocessing as mp\n",
    "from multiprocessing import Pool\n",
    "from collections import defaultdict\n",
    "import sys\n",
    "sys.path.append('/home/ak/Documents/PaperCode/stylised_facts')\n",
    "sys.path.append('/home/ak/Documents/Research/PaperCode/stylised_facts/lob_for_futures')\n",
    "import numpy as np\n",
    "import matplotlib.pyplot as plt\n",
    "\n",
    "import os\n",
    "import stylised_facts.lob_for_futures as lobFut\n",
    "# from lob_for_futures import *\n",
    "\n",
    "from scipy.stats import jarque_bera\n",
    "import matplotlib.pyplot as plt\n",
    "\n",
    "from dateutil.parser import parse\n",
    "from pandas.tseries.offsets import BDay\n",
    "import pickle as pkl\n",
    "import fnmatch\n",
    "import pickle\n",
    "import datetime as dt\n",
    "from datetime import timedelta\n",
    "import glob\n",
    "import fathon\n",
    "from fathon import fathonUtils as fu\n",
    "import itertools\n",
    "import pyinform as pyinf\n",
    "# import pingouin as pig\n",
    "import seaborn as sns\n",
    "from scipy.stats import entropy\n",
    "from scipy.spatial.distance import jensenshannon\n",
    "from scipy.special import kl_div\n",
    "import time\n",
    "import pickle as pkl\n",
    "import matplotlib.ticker as mtick\n",
    "from functools import partial\n",
    "import fathon\n",
    "from fathon import fathonUtils as fu\n",
    "from itertools import repeat\n",
    "from multiprocessing import Pool, freeze_support"
   ],
   "metadata": {
    "collapsed": false,
    "pycharm": {
     "name": "#%%\n"
    }
   }
  },
  {
   "cell_type": "code",
   "execution_count": 21,
   "outputs": [],
   "source": [
    "elements = '/media/ak/Elements/OrderBookProcessedData'\n",
    "t7 = '/media/ak/T7'\n",
    "june_4_exp = os.path.join(t7, 'June4th2022Experiments')\n",
    "workDrive = '/media/ak/WorkDrive/'\n",
    "stylisedFactsExperiments = os.path.join(workDrive, 'StylisedFactsExperiments')\n",
    "workDriveData = os.path.join(workDrive, 'Data')\n",
    "os_data = '/media/ak/OS/Data'\n",
    "FuturesDataSemiProcessed = os.path.join(t7, 'FuturesDataSemiProcessed')\n",
    "experimentsLocation = '/media/ak/T7/June4th2022Experiments'\n",
    "bars =['volume_bar', 'calendar_bar', 'usd_volume_bar', 'tick_bar']\n",
    "# plt.style.use(os.path.join('/home/ak/.config/matplotlib','l3.mplstyle'))\n",
    "figures_destination = '/home/ak/Documents/Research/Papers/figures/'\n"
   ],
   "metadata": {
    "collapsed": false,
    "pycharm": {
     "name": "#%%\n"
    }
   }
  },
  {
   "cell_type": "code",
   "execution_count": 24,
   "outputs": [],
   "source": [
    "symbols = os.listdir(FuturesDataSemiProcessed)"
   ],
   "metadata": {
    "collapsed": false,
    "pycharm": {
     "name": "#%%\n"
    }
   }
  },
  {
   "cell_type": "code",
   "execution_count": 25,
   "outputs": [],
   "source": [
    "FB1_path = os.path.join(FuturesDataSemiProcessed, 'FB1')\n",
    "FB1_files = sorted(os.listdir(FB1_path))"
   ],
   "metadata": {
    "collapsed": false,
    "pycharm": {
     "name": "#%%\n"
    }
   }
  },
  {
   "cell_type": "code",
   "execution_count": 27,
   "outputs": [],
   "source": [
    "file_idx =1\n",
    "file_loc = os.path.join(FB1_path, FB1_files[file_idx])"
   ],
   "metadata": {
    "collapsed": false,
    "pycharm": {
     "name": "#%%\n"
    }
   }
  },
  {
   "cell_type": "code",
   "execution_count": 33,
   "outputs": [],
   "source": [
    "bars_dict =pd.read_pickle(file_loc)[FB1_files[file_idx].split(\".\")[0]]"
   ],
   "metadata": {
    "collapsed": false,
    "pycharm": {
     "name": "#%%\n"
    }
   }
  },
  {
   "cell_type": "code",
   "execution_count": 37,
   "outputs": [],
   "source": [
    "tick = bars_dict['tick']\n",
    "volume = bars_dict['volume']\n",
    "dollar = bars_dict['dollar']\n"
   ],
   "metadata": {
    "collapsed": false,
    "pycharm": {
     "name": "#%%\n"
    }
   }
  },
  {
   "cell_type": "code",
   "execution_count": 36,
   "outputs": [
    {
     "data": {
      "text/plain": "array(['BidSize_open', 'BidSize_high', 'BidSize_low', 'BidSize_close',\n       'QuoteTime_open', 'QuoteTime_high', 'QuoteTime_low',\n       'QuoteTime_close', 'type_x_open', 'type_x_high', 'type_x_low',\n       'type_x_close', 'BestBid_open', 'BestBid_high', 'BestBid_low',\n       'BestBid_close', 'TradeTime_open', 'TradeTime_high',\n       'TradeTime_low', 'TradeTime_close', 'AskSize_open', 'AskSize_high',\n       'AskSize_low', 'AskSize_close', 'time_y_open', 'time_y_high',\n       'time_y_low', 'time_y_close', 'type_y_open', 'type_y_high',\n       'type_y_low', 'type_y_close', 'BestAsk_open', 'BestAsk_high',\n       'BestAsk_low', 'BestAsk_close', 'TradeSize_open', 'TradeSize_high',\n       'TradeSize_low', 'TradeSize_close', 'type_open', 'type_high',\n       'type_low', 'type_close', 'TradePrice_open', 'TradePrice_high',\n       'TradePrice_low', 'TradePrice_close', 'TimeStamp_open',\n       'TimeStamp_high', 'TimeStamp_low', 'TimeStamp_close',\n       'TradeVolume_open', 'TradeVolume_high', 'TradeVolume_low',\n       'TradeVolume_close', 'total_traded_volume_open',\n       'total_traded_volume_high', 'total_traded_volume_low',\n       'total_traded_volume_close', 'milliSeconds_open',\n       'milliSeconds_high', 'milliSeconds_low', 'milliSeconds_close',\n       'dollar_traded_volume_open', 'dollar_traded_volume_high',\n       'dollar_traded_volume_low', 'dollar_traded_volume_close',\n       'timeStampIdx_open', 'timeStampIdx_high', 'timeStampIdx_low',\n       'timeStampIdx_close', 'micro_price_open', 'micro_price_high',\n       'micro_price_low', 'micro_price_close'], dtype=object)"
     },
     "execution_count": 36,
     "metadata": {},
     "output_type": "execute_result"
    }
   ],
   "source": [
    "tick.columns.values"
   ],
   "metadata": {
    "collapsed": false,
    "pycharm": {
     "name": "#%%\n"
    }
   }
  },
  {
   "cell_type": "code",
   "execution_count": 44,
   "outputs": [],
   "source": [
    "tick_vol_df = lobFut.volatilityEstimation(tick)"
   ],
   "metadata": {
    "collapsed": false,
    "pycharm": {
     "name": "#%%\n"
    }
   }
  },
  {
   "cell_type": "code",
   "execution_count": 47,
   "outputs": [
    {
     "name": "stdout",
     "output_type": "stream",
     "text": [
      "Applying micro-structure features\n"
     ]
    }
   ],
   "source": [
    "tick_micro_features = lobFut.apply_micro_structure_features(tick)"
   ],
   "metadata": {
    "collapsed": false,
    "pycharm": {
     "name": "#%%\n"
    }
   }
  },
  {
   "cell_type": "code",
   "execution_count": 48,
   "outputs": [
    {
     "data": {
      "text/plain": "Index(['tick_bucket', 'BidSize_open', 'BidSize_high', 'BidSize_low', 'BidSize_close', 'QuoteTime_open', 'QuoteTime_high', 'QuoteTime_low', 'QuoteTime_close', 'type_x_open', 'type_x_high', 'type_x_low', 'type_x_close', 'BestBid_open', 'BestBid_high', 'BestBid_low', 'BestBid_close', 'TradeTime_open', 'TradeTime_high', 'TradeTime_low', 'TradeTime_close', 'AskSize_open', 'AskSize_high', 'AskSize_low', 'AskSize_close', 'time_y_open', 'time_y_high', 'time_y_low', 'time_y_close', 'type_y_open', 'type_y_high', 'type_y_low', 'type_y_close', 'BestAsk_open', 'BestAsk_high', 'BestAsk_low', 'BestAsk_close', 'TradeSize_open', 'TradeSize_high', 'TradeSize_low', 'TradeSize_close', 'type_open', 'type_high', 'type_low', 'type_close', 'TradePrice_open', 'TradePrice_high', 'TradePrice_low', 'TradePrice_close', 'TimeStamp_open', 'TimeStamp_high', 'TimeStamp_low', 'TimeStamp_close', 'TradeVolume_open', 'TradeVolume_high', 'TradeVolume_low', 'TradeVolume_close', 'total_traded_volume_open',\n       'total_traded_volume_high', 'total_traded_volume_low', 'total_traded_volume_close', 'milliSeconds_open', 'milliSeconds_high', 'milliSeconds_low', 'milliSeconds_close', 'dollar_traded_volume_open', 'dollar_traded_volume_high', 'dollar_traded_volume_low', 'dollar_traded_volume_close', 'timeStampIdx_open', 'timeStampIdx_high', 'timeStampIdx_low', 'timeStampIdx_close', 'micro_price_open', 'micro_price_high', 'micro_price_low', 'micro_price_close', 'weighted_average_BestBid', 'weighted_average_BestAsk', 'weighted_activity_spread', 'total_size', 'micro_price', 'price_imbalance', 'pct_change_micro_price', 'simple_mid_price'],\n      dtype='object')"
     },
     "execution_count": 48,
     "metadata": {},
     "output_type": "execute_result"
    }
   ],
   "source": [
    "tick_micro_features.columns"
   ],
   "metadata": {
    "collapsed": false,
    "pycharm": {
     "name": "#%%\n"
    }
   }
  },
  {
   "cell_type": "code",
   "execution_count": 51,
   "outputs": [],
   "source": [
    "pct_micro_change = tick_micro_features.pct_change_micro_price\n",
    "weighted_activity_spread = tick_micro_features.weighted_activity_spread\n"
   ],
   "metadata": {
    "collapsed": false,
    "pycharm": {
     "name": "#%%\n"
    }
   }
  },
  {
   "cell_type": "code",
   "execution_count": 53,
   "outputs": [],
   "source": [
    "data = weighted_activity_spread\n",
    "b_raw = np.asanyarray(data)\n",
    "b = fu.toAggregated(b_raw)\n",
    "pydfb = fathon.DFA(b)"
   ],
   "metadata": {
    "collapsed": false,
    "pycharm": {
     "name": "#%%\n"
    }
   }
  },
  {
   "cell_type": "code",
   "execution_count": 57,
   "outputs": [
    {
     "name": "stdout",
     "output_type": "stream",
     "text": [
      "CPU times: user 1.08 s, sys: 0 ns, total: 1.08 s\n",
      "Wall time: 111 ms\n"
     ]
    }
   ],
   "source": [
    "%%time\n",
    "winSizes = fu.linRangeByStep(10, 40)\n",
    "revSeg = True\n",
    "polOrd = 3\n",
    "n, F = pydfb.computeFlucVec(winSizes, revSeg=revSeg, polOrd=polOrd)"
   ],
   "metadata": {
    "collapsed": false,
    "pycharm": {
     "name": "#%%\n"
    }
   }
  },
  {
   "cell_type": "code",
   "execution_count": 58,
   "outputs": [],
   "source": [
    "H, H_intercept = pydfb.fitFlucVec()"
   ],
   "metadata": {
    "collapsed": false,
    "pycharm": {
     "name": "#%%\n"
    }
   }
  },
  {
   "cell_type": "code",
   "execution_count": 59,
   "outputs": [
    {
     "data": {
      "text/plain": "<matplotlib.legend.Legend at 0x7f962031bf28>"
     },
     "execution_count": 59,
     "metadata": {},
     "output_type": "execute_result"
    },
    {
     "data": {
      "text/plain": "<Figure size 518.4x320.4 with 1 Axes>",
      "image/png": "[encoded data removed]"
     },
     "metadata": {
      "needs_background": "light"
     },
     "output_type": "display_data"
    }
   ],
   "source": [
    "plt.plot(np.log(n), np.log(F), 'ro')\n",
    "plt.plot(np.log(n), H_intercept+H*np.log(n), '--', label='H = {:.2f}'.format(H))\n",
    "plt.xlabel('ln(n)', fontsize=14)\n",
    "plt.ylabel('ln(F(n))', fontsize=14)\n",
    "plt.title('DFA', fontsize=14)\n",
    "plt.legend(loc=0, fontsize=14)"
   ],
   "metadata": {
    "collapsed": false,
    "pycharm": {
     "name": "#%%\n"
    }
   }
  },
  {
   "cell_type": "code",
   "execution_count": 60,
   "outputs": [],
   "source": [
    "## MFDFA"
   ],
   "metadata": {
    "collapsed": false,
    "pycharm": {
     "name": "#%%\n"
    }
   }
  },
  {
   "cell_type": "code",
   "execution_count": 61,
   "outputs": [],
   "source": [
    "pymfdfb = fathon.MFDFA(b)"
   ],
   "metadata": {
    "collapsed": false,
    "pycharm": {
     "name": "#%%\n"
    }
   }
  },
  {
   "cell_type": "code",
   "execution_count": 64,
   "outputs": [],
   "source": [
    "winSizes = fu.linRangeByStep(10, 40)\n",
    "qs = np.arange(-3, 4, 0.1)\n",
    "revSeg = True\n",
    "polOrd = 1"
   ],
   "metadata": {
    "collapsed": false,
    "pycharm": {
     "name": "#%%\n"
    }
   }
  },
  {
   "cell_type": "code",
   "execution_count": 65,
   "outputs": [
    {
     "name": "stdout",
     "output_type": "stream",
     "text": [
      "CPU times: user 1.17 s, sys: 0 ns, total: 1.17 s\n",
      "Wall time: 110 ms\n"
     ]
    }
   ],
   "source": [
    "%%time\n",
    "n, F = pymfdfb.computeFlucVec(winSizes, qs, revSeg=revSeg, polOrd=polOrd)"
   ],
   "metadata": {
    "collapsed": false,
    "pycharm": {
     "name": "#%%\n"
    }
   }
  },
  {
   "cell_type": "code",
   "execution_count": 66,
   "outputs": [],
   "source": [
    "list_H, list_H_intercept = pymfdfb.fitFlucVec()"
   ],
   "metadata": {
    "collapsed": false,
    "pycharm": {
     "name": "#%%\n"
    }
   }
  },
  {
   "cell_type": "code",
   "execution_count": 67,
   "outputs": [
    {
     "data": {
      "text/plain": "<matplotlib.legend.Legend at 0x7f9620039550>"
     },
     "execution_count": 67,
     "metadata": {},
     "output_type": "execute_result"
    },
    {
     "data": {
      "text/plain": "<Figure size 518.4x320.4 with 1 Axes>",
      "image/png": "[encoded data removed]"
     },
     "metadata": {
      "needs_background": "light"
     },
     "output_type": "display_data"
    }
   ],
   "source": [
    "plt.plot(np.log(n), np.log(F[0, :]), 'ro')\n",
    "plt.plot(np.log(n), list_H_intercept[0]+list_H[0]*np.log(n), '--', label='h_{:.1f} = {:.2f}'.format(qs[0], list_H[0]))\n",
    "half_idx = int(len(qs)/2)\n",
    "plt.plot(np.log(n), np.log(F[half_idx, :]), 'co')\n",
    "plt.plot(np.log(n), list_H_intercept[half_idx]+list_H[half_idx]*np.log(n),\n",
    "         '--', label='h_{:.1f} = {:.2f}'.format(qs[half_idx], list_H[half_idx]))\n",
    "plt.plot(np.log(n), np.log(F[-1, :]), 'yo')\n",
    "plt.plot(np.log(n), list_H_intercept[-1]+list_H[-1]*np.log(n), '--',\n",
    "         label='h_{:.1f} = {:.2f}'.format(qs[-1], list_H[-1]))\n",
    "plt.xlabel('ln(n)', fontsize=14)\n",
    "plt.ylabel('ln(F(n))', fontsize=14)\n",
    "plt.title('MFDFA', fontsize=14)\n",
    "plt.legend(loc=0, fontsize=14)"
   ],
   "metadata": {
    "collapsed": false,
    "pycharm": {
     "name": "#%%\n"
    }
   }
  },
  {
   "cell_type": "code",
   "execution_count": 68,
   "outputs": [
    {
     "data": {
      "text/plain": "Text(0.5, 1.0, 'h(q)')"
     },
     "execution_count": 68,
     "metadata": {},
     "output_type": "execute_result"
    },
    {
     "data": {
      "text/plain": "<Figure size 518.4x320.4 with 1 Axes>",
      "image/png": "[encoded data removed]"
     },
     "metadata": {
      "needs_background": "light"
     },
     "output_type": "display_data"
    }
   ],
   "source": [
    "plt.plot(qs, list_H, 'ro-')\n",
    "plt.xlabel('q', fontsize=14)\n",
    "plt.ylabel('h(q)', fontsize=14)\n",
    "plt.title('h(q)', fontsize=14)"
   ],
   "metadata": {
    "collapsed": false,
    "pycharm": {
     "name": "#%%\n"
    }
   }
  },
  {
   "cell_type": "code",
   "execution_count": 70,
   "outputs": [
    {
     "data": {
      "text/plain": "Text(0.5, 1.0, '$\\\\tau$(q)')"
     },
     "execution_count": 70,
     "metadata": {},
     "output_type": "execute_result"
    },
    {
     "data": {
      "text/plain": "<Figure size 518.4x320.4 with 1 Axes>",
      "image/png": "[encoded data removed]"
     },
     "metadata": {
      "needs_background": "light"
     },
     "output_type": "display_data"
    }
   ],
   "source": [
    "tau = pymfdfb.computeMassExponents()\n",
    "plt.plot(qs, tau, 'o--', color='mediumvioletred')\n",
    "plt.xlabel('q', fontsize=14)\n",
    "plt.ylabel('$\\\\tau$(q)', fontsize=14)\n",
    "plt.title('$\\\\tau$(q)', fontsize=14)"
   ],
   "metadata": {
    "collapsed": false,
    "pycharm": {
     "name": "#%%\n"
    }
   }
  },
  {
   "cell_type": "code",
   "execution_count": 71,
   "outputs": [],
   "source": [
    "alpha, mfSpect = pymfdfb.computeMultifractalSpectrum()"
   ],
   "metadata": {
    "collapsed": false,
    "pycharm": {
     "name": "#%%\n"
    }
   }
  },
  {
   "cell_type": "code",
   "execution_count": 72,
   "outputs": [
    {
     "data": {
      "text/plain": "<Figure size 518.4x320.4 with 1 Axes>",
      "image/png": "[encoded data removed]"
     },
     "metadata": {
      "needs_background": "light"
     },
     "output_type": "display_data"
    }
   ],
   "source": [
    "_=plt.plot(alpha, mfSpect, 'bo--')\n",
    "_=plt.xlabel('$\\\\alpha$', fontsize=14)\n",
    "_=plt.ylabel('f($\\\\alpha$)', fontsize=14)\n",
    "_=plt.title('f($\\\\alpha$)', fontsize=14)"
   ],
   "metadata": {
    "collapsed": false,
    "pycharm": {
     "name": "#%%\n"
    }
   }
  },
  {
   "cell_type": "code",
   "execution_count": 82,
   "outputs": [
    {
     "name": "stdout",
     "output_type": "stream",
     "text": [
      "Collecting statsmodels==0.12.1\r\n",
      "  Downloading statsmodels-0.12.1-cp36-cp36m-manylinux1_x86_64.whl (9.5 MB)\r\n",
      "\u001B[K     |████████████████████████████████| 9.5 MB 5.5 MB/s eta 0:00:01\r\n",
      "\u001B[?25hRequirement already satisfied: pandas>=0.21 in /home/ak/anaconda3/envs/ds3_kernels/lib/python3.6/site-packages (from statsmodels==0.12.1) (1.1.5)\r\n",
      "Requirement already satisfied: numpy>=1.15 in /home/ak/.local/lib/python3.6/site-packages (from statsmodels==0.12.1) (1.18.0)\r\n",
      "Requirement already satisfied: patsy>=0.5 in /home/ak/.local/lib/python3.6/site-packages (from statsmodels==0.12.1) (0.5.1)\r\n",
      "Requirement already satisfied: scipy>=1.1 in /home/ak/.local/lib/python3.6/site-packages (from statsmodels==0.12.1) (1.4.1)\r\n",
      "Requirement already satisfied: python-dateutil>=2.7.3 in /home/ak/.local/lib/python3.6/site-packages (from pandas>=0.21->statsmodels==0.12.1) (2.8.1)\r\n",
      "Requirement already satisfied: pytz>=2017.2 in /home/ak/.local/lib/python3.6/site-packages (from pandas>=0.21->statsmodels==0.12.1) (2019.3)\r\n",
      "Requirement already satisfied: six in /home/ak/.local/lib/python3.6/site-packages (from patsy>=0.5->statsmodels==0.12.1) (1.13.0)\r\n",
      "Installing collected packages: statsmodels\r\n",
      "  Attempting uninstall: statsmodels\r\n",
      "    Found existing installation: statsmodels 0.10.2\r\n",
      "    Uninstalling statsmodels-0.10.2:\r\n",
      "      Successfully uninstalled statsmodels-0.10.2\r\n",
      "Successfully installed statsmodels-0.12.2\r\n"
     ]
    }
   ],
   "source": [
    "!pip install statsmodels==0.12.1"
   ],
   "metadata": {
    "collapsed": false,
    "pycharm": {
     "name": "#%%\n"
    }
   }
  },
  {
   "cell_type": "code",
   "execution_count": 84,
   "outputs": [
    {
     "name": "stdout",
     "output_type": "stream",
     "text": [
      "Found existing installation: statsmodels 0.12.2\r\n",
      "Uninstalling statsmodels-0.12.2:\r\n",
      "  Would remove:\r\n",
      "    /home/ak/anaconda3/envs/ds3_kernels/lib/python3.6/site-packages/statsmodels-0.12.2.dist-info/*\r\n",
      "    /home/ak/anaconda3/envs/ds3_kernels/lib/python3.6/site-packages/statsmodels/*\r\n",
      "Proceed (y/n)? ^C\r\n",
      "\u001B[31mERROR: Operation cancelled by user\u001B[0m\r\n"
     ]
    }
   ],
   "source": [
    "!pip uninstall statsmodels"
   ],
   "metadata": {
    "collapsed": false,
    "pycharm": {
     "name": "#%%\n"
    }
   }
  },
  {
   "cell_type": "code",
   "execution_count": 75,
   "outputs": [
    {
     "ename": "ValueError",
     "evalue": "negative dimensions are not allowed",
     "output_type": "error",
     "traceback": [
      "\u001B[0;31m---------------------------------------------------------------------------\u001B[0m",
      "\u001B[0;31mValueError\u001B[0m                                Traceback (most recent call last)",
      "\u001B[0;32m<ipython-input-75-ce3669c5b299>\u001B[0m in \u001B[0;36m<module>\u001B[0;34m()\u001B[0m\n\u001B[0;32m----> 1\u001B[0;31m \u001B[0mget_ipython\u001B[0m\u001B[0;34m(\u001B[0m\u001B[0;34m)\u001B[0m\u001B[0;34m.\u001B[0m\u001B[0mrun_cell_magic\u001B[0m\u001B[0;34m(\u001B[0m\u001B[0;34m'time'\u001B[0m\u001B[0;34m,\u001B[0m \u001B[0;34m''\u001B[0m\u001B[0;34m,\u001B[0m \u001B[0;34m'ht = pyht.computeHt(scales, mfdfaPolOrd=mfdfaPolOrd, polOrd=polOrd)'\u001B[0m\u001B[0;34m)\u001B[0m\u001B[0;34m\u001B[0m\u001B[0;34m\u001B[0m\u001B[0m\n\u001B[0m",
      "\u001B[0;32m/home/ak/anaconda3/envs/ds3_kernels/lib/python3.6/site-packages/IPython/core/interactiveshell.py\u001B[0m in \u001B[0;36mrun_cell_magic\u001B[0;34m(self, magic_name, line, cell)\u001B[0m\n\u001B[1;32m   2115\u001B[0m             \u001B[0mmagic_arg_s\u001B[0m \u001B[0;34m=\u001B[0m \u001B[0mself\u001B[0m\u001B[0;34m.\u001B[0m\u001B[0mvar_expand\u001B[0m\u001B[0;34m(\u001B[0m\u001B[0mline\u001B[0m\u001B[0;34m,\u001B[0m \u001B[0mstack_depth\u001B[0m\u001B[0;34m)\u001B[0m\u001B[0;34m\u001B[0m\u001B[0;34m\u001B[0m\u001B[0m\n\u001B[1;32m   2116\u001B[0m             \u001B[0;32mwith\u001B[0m \u001B[0mself\u001B[0m\u001B[0;34m.\u001B[0m\u001B[0mbuiltin_trap\u001B[0m\u001B[0;34m:\u001B[0m\u001B[0;34m\u001B[0m\u001B[0;34m\u001B[0m\u001B[0m\n\u001B[0;32m-> 2117\u001B[0;31m                 \u001B[0mresult\u001B[0m \u001B[0;34m=\u001B[0m \u001B[0mfn\u001B[0m\u001B[0;34m(\u001B[0m\u001B[0mmagic_arg_s\u001B[0m\u001B[0;34m,\u001B[0m \u001B[0mcell\u001B[0m\u001B[0;34m)\u001B[0m\u001B[0;34m\u001B[0m\u001B[0;34m\u001B[0m\u001B[0m\n\u001B[0m\u001B[1;32m   2118\u001B[0m             \u001B[0;32mreturn\u001B[0m \u001B[0mresult\u001B[0m\u001B[0;34m\u001B[0m\u001B[0;34m\u001B[0m\u001B[0m\n\u001B[1;32m   2119\u001B[0m \u001B[0;34m\u001B[0m\u001B[0m\n",
      "\u001B[0;32m</home/ak/.local/lib/python3.6/site-packages/decorator.py:decorator-gen-60>\u001B[0m in \u001B[0;36mtime\u001B[0;34m(self, line, cell, local_ns)\u001B[0m\n",
      "\u001B[0;32m/home/ak/anaconda3/envs/ds3_kernels/lib/python3.6/site-packages/IPython/core/magic.py\u001B[0m in \u001B[0;36m<lambda>\u001B[0;34m(f, *a, **k)\u001B[0m\n\u001B[1;32m    186\u001B[0m     \u001B[0;31m# but it's overkill for just that one bit of state.\u001B[0m\u001B[0;34m\u001B[0m\u001B[0;34m\u001B[0m\u001B[0;34m\u001B[0m\u001B[0m\n\u001B[1;32m    187\u001B[0m     \u001B[0;32mdef\u001B[0m \u001B[0mmagic_deco\u001B[0m\u001B[0;34m(\u001B[0m\u001B[0marg\u001B[0m\u001B[0;34m)\u001B[0m\u001B[0;34m:\u001B[0m\u001B[0;34m\u001B[0m\u001B[0;34m\u001B[0m\u001B[0m\n\u001B[0;32m--> 188\u001B[0;31m         \u001B[0mcall\u001B[0m \u001B[0;34m=\u001B[0m \u001B[0;32mlambda\u001B[0m \u001B[0mf\u001B[0m\u001B[0;34m,\u001B[0m \u001B[0;34m*\u001B[0m\u001B[0ma\u001B[0m\u001B[0;34m,\u001B[0m \u001B[0;34m**\u001B[0m\u001B[0mk\u001B[0m\u001B[0;34m:\u001B[0m \u001B[0mf\u001B[0m\u001B[0;34m(\u001B[0m\u001B[0;34m*\u001B[0m\u001B[0ma\u001B[0m\u001B[0;34m,\u001B[0m \u001B[0;34m**\u001B[0m\u001B[0mk\u001B[0m\u001B[0;34m)\u001B[0m\u001B[0;34m\u001B[0m\u001B[0;34m\u001B[0m\u001B[0m\n\u001B[0m\u001B[1;32m    189\u001B[0m \u001B[0;34m\u001B[0m\u001B[0m\n\u001B[1;32m    190\u001B[0m         \u001B[0;32mif\u001B[0m \u001B[0mcallable\u001B[0m\u001B[0;34m(\u001B[0m\u001B[0marg\u001B[0m\u001B[0;34m)\u001B[0m\u001B[0;34m:\u001B[0m\u001B[0;34m\u001B[0m\u001B[0;34m\u001B[0m\u001B[0m\n",
      "\u001B[0;32m/home/ak/anaconda3/envs/ds3_kernels/lib/python3.6/site-packages/IPython/core/magics/execution.py\u001B[0m in \u001B[0;36mtime\u001B[0;34m(self, line, cell, local_ns)\u001B[0m\n\u001B[1;32m   1191\u001B[0m         \u001B[0;32melse\u001B[0m\u001B[0;34m:\u001B[0m\u001B[0;34m\u001B[0m\u001B[0;34m\u001B[0m\u001B[0m\n\u001B[1;32m   1192\u001B[0m             \u001B[0mst\u001B[0m \u001B[0;34m=\u001B[0m \u001B[0mclock2\u001B[0m\u001B[0;34m(\u001B[0m\u001B[0;34m)\u001B[0m\u001B[0;34m\u001B[0m\u001B[0;34m\u001B[0m\u001B[0m\n\u001B[0;32m-> 1193\u001B[0;31m             \u001B[0mexec\u001B[0m\u001B[0;34m(\u001B[0m\u001B[0mcode\u001B[0m\u001B[0;34m,\u001B[0m \u001B[0mglob\u001B[0m\u001B[0;34m,\u001B[0m \u001B[0mlocal_ns\u001B[0m\u001B[0;34m)\u001B[0m\u001B[0;34m\u001B[0m\u001B[0;34m\u001B[0m\u001B[0m\n\u001B[0m\u001B[1;32m   1194\u001B[0m             \u001B[0mend\u001B[0m \u001B[0;34m=\u001B[0m \u001B[0mclock2\u001B[0m\u001B[0;34m(\u001B[0m\u001B[0;34m)\u001B[0m\u001B[0;34m\u001B[0m\u001B[0;34m\u001B[0m\u001B[0m\n\u001B[1;32m   1195\u001B[0m             \u001B[0mout\u001B[0m \u001B[0;34m=\u001B[0m \u001B[0;32mNone\u001B[0m\u001B[0;34m\u001B[0m\u001B[0;34m\u001B[0m\u001B[0m\n",
      "\u001B[0;32m<timed exec>\u001B[0m in \u001B[0;36m<module>\u001B[0;34m()\u001B[0m\n",
      "\u001B[0;32m/home/ak/anaconda3/envs/ds3_kernels/lib/python3.6/site-packages/fathon/ht.pyx\u001B[0m in \u001B[0;36mfathon.ht.HT.computeHt\u001B[0;34m()\u001B[0m\n",
      "\u001B[0;32m/home/ak/anaconda3/envs/ds3_kernels/lib/python3.6/site-packages/fathon/ht.pyx\u001B[0m in \u001B[0;36mfathon.ht.HT.cy_computeHt\u001B[0;34m()\u001B[0m\n",
      "\u001B[0;31mValueError\u001B[0m: negative dimensions are not allowed"
     ]
    }
   ],
   "source": [
    "res = STL(data, period=2).fit()"
   ],
   "metadata": {
    "collapsed": false,
    "pycharm": {
     "name": "#%%\n"
    }
   }
  },
  {
   "cell_type": "code",
   "execution_count": 80,
   "outputs": [],
   "source": [],
   "metadata": {
    "collapsed": false,
    "pycharm": {
     "name": "#%%\n"
    }
   }
  },
  {
   "cell_type": "code",
   "execution_count": null,
   "outputs": [],
   "source": [],
   "metadata": {
    "collapsed": false,
    "pycharm": {
     "name": "#%%\n"
    }
   }
  }
 ],
 "metadata": {
  "kernelspec": {
   "display_name": "Python 3",
   "language": "python",
   "name": "python3"
  },
  "language_info": {
   "codemirror_mode": {
    "name": "ipython",
    "version": 2
   },
   "file_extension": ".py",
   "mimetype": "text/x-python",
   "name": "python",
   "nbconvert_exporter": "python",
   "pygments_lexer": "ipython2",
   "version": "2.7.6"
  }
 },
 "nbformat": 4,
 "nbformat_minor": 0
}