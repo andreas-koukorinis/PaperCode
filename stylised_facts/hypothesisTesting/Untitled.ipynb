{
 "cells": [
  {
   "cell_type": "code",
   "execution_count": 1,
   "id": "3c142c2d",
   "metadata": {},
   "outputs": [
    {
     "name": "stderr",
     "output_type": "stream",
     "text": [
      "/home/ak/anaconda3/envs/kernels/lib/python3.6/site-packages/tensorflow/python/framework/dtypes.py:523: FutureWarning: Passing (type, 1) or '1type' as a synonym of type is deprecated; in a future version of numpy, it will be understood as (type, (1,)) / '(1,)type'.\n",
      "  _np_qint8 = np.dtype([(\"qint8\", np.int8, 1)])\n",
      "/home/ak/anaconda3/envs/kernels/lib/python3.6/site-packages/tensorflow/python/framework/dtypes.py:524: FutureWarning: Passing (type, 1) or '1type' as a synonym of type is deprecated; in a future version of numpy, it will be understood as (type, (1,)) / '(1,)type'.\n",
      "  _np_quint8 = np.dtype([(\"quint8\", np.uint8, 1)])\n",
      "/home/ak/anaconda3/envs/kernels/lib/python3.6/site-packages/tensorflow/python/framework/dtypes.py:525: FutureWarning: Passing (type, 1) or '1type' as a synonym of type is deprecated; in a future version of numpy, it will be understood as (type, (1,)) / '(1,)type'.\n",
      "  _np_qint16 = np.dtype([(\"qint16\", np.int16, 1)])\n",
      "/home/ak/anaconda3/envs/kernels/lib/python3.6/site-packages/tensorflow/python/framework/dtypes.py:526: FutureWarning: Passing (type, 1) or '1type' as a synonym of type is deprecated; in a future version of numpy, it will be understood as (type, (1,)) / '(1,)type'.\n",
      "  _np_quint16 = np.dtype([(\"quint16\", np.uint16, 1)])\n",
      "/home/ak/anaconda3/envs/kernels/lib/python3.6/site-packages/tensorflow/python/framework/dtypes.py:527: FutureWarning: Passing (type, 1) or '1type' as a synonym of type is deprecated; in a future version of numpy, it will be understood as (type, (1,)) / '(1,)type'.\n",
      "  _np_qint32 = np.dtype([(\"qint32\", np.int32, 1)])\n",
      "/home/ak/anaconda3/envs/kernels/lib/python3.6/site-packages/tensorflow/python/framework/dtypes.py:532: FutureWarning: Passing (type, 1) or '1type' as a synonym of type is deprecated; in a future version of numpy, it will be understood as (type, (1,)) / '(1,)type'.\n",
      "  np_resource = np.dtype([(\"resource\", np.ubyte, 1)])\n"
     ]
    },
    {
     "data": {
      "text/plain": [
       "'\\nmain piece of code to do sample comparison using Shogun\\n\\n'"
      ]
     },
     "execution_count": 1,
     "metadata": {},
     "output_type": "execute_result"
    }
   ],
   "source": [
    "import os\n",
    "import pandas as pd\n",
    "import pickle\n",
    "import numpy as np\n",
    "from shogun import *\n",
    "import numpy as np\n",
    "import matplotlib.pyplot as plt\n",
    "from scipy.stats import norm, laplace\n",
    "import random\n",
    "\n",
    "import time\n",
    "import ksd\n",
    "import mmd\n",
    "import shogunMMDutils as mmdutils\n",
    "from shogun import RealFeatures\n",
    "\n",
    "'''\n",
    "main piece of code to do sample comparison using Shogun\n",
    "\n",
    "'''"
   ]
  },
  {
   "cell_type": "code",
   "execution_count": 2,
   "id": "08219641",
   "metadata": {},
   "outputs": [
    {
     "name": "stdout",
     "output_type": "stream",
     "text": [
      "unit testing\n",
      "Gaussian vs. Laplace\n",
      "Sample means: -0.02 vs -0.01\n",
      "Samples variances: 0.99 vs 1.01\n"
     ]
    }
   ],
   "source": [
    "print('unit testing')\n",
    "\n",
    "mu = 0.0\n",
    "sigma2 = 1\n",
    "b = np.sqrt(0.5)\n",
    "n = 2200\n",
    "X, Y = mmdutils.sample_gaussian_vs_laplace(n, mu, sigma2, b)\n",
    "print(\"Gaussian vs. Laplace\")\n",
    "print(\"Sample means: %.2f vs %.2f\" % (np.mean(X), np.mean(Y)))\n",
    "print(\"Samples variances: %.2f vs %.2f\" % (np.var(X), np.var(Y)))"
   ]
  },
  {
   "cell_type": "code",
   "execution_count": 3,
   "id": "1e425f32",
   "metadata": {},
   "outputs": [],
   "source": [
    "\n",
    "\n",
    "\n",
    "def shogun_features(x, y):\n",
    "    # create shogun features\n",
    "    return [RealFeatures(x.reshape(1, len(x))), RealFeatures(y.reshape(1, len(y)))]\n"
   ]
  },
  {
   "cell_type": "code",
   "execution_count": 4,
   "id": "d257a0c4",
   "metadata": {},
   "outputs": [],
   "source": [
    "\n",
    "\n",
    "feat_p, feat_q = shogun_features(x=X, y=Y)\n",
    "mmd = QuadraticTimeMMD(feat_p, feat_q)\n",
    "kernel = GaussianKernel(10, 1)\n",
    "mmd.set_kernel(kernel)\n",
    "kernel1 = GaussianKernel(10, 0.1)\n",
    "kernel2 = GaussianKernel(10, 1)\n",
    "kernel3 = GaussianKernel(10, 10)\n",
    "kernel4 = GaussianKernel(5, 0.15)\n",
    "mmd.add_kernel(kernel1)\n",
    "mmd.add_kernel(kernel2)\n",
    "mmd.add_kernel(kernel3)\n",
    "mmd.add_kernel(kernel4)\n",
    "\n",
    "mmd.set_train_test_mode(True)\n",
    "mmd.set_train_test_ratio(1)"
   ]
  },
  {
   "cell_type": "code",
   "execution_count": 6,
   "id": "c71dc794",
   "metadata": {},
   "outputs": [
    {
     "name": "stdout",
     "output_type": "stream",
     "text": [
      "Print best kernel width is: 0.10000000000000002\n"
     ]
    },
    {
     "ename": "NameError",
     "evalue": "name 'p_value_unbiased' is not defined",
     "output_type": "error",
     "traceback": [
      "\u001b[0;31m---------------------------------------------------------------------------\u001b[0m",
      "\u001b[0;31mNameError\u001b[0m                                 Traceback (most recent call last)",
      "\u001b[0;32m<ipython-input-6-0921c81848b4>\u001b[0m in \u001b[0;36m<module>\u001b[0;34m\u001b[0m\n\u001b[1;32m     17\u001b[0m \u001b[0;31m# _, p_value_unbiased = mmdutils.SignificanceResultsMMD.compute_the_p_value_unbiased(mmd=mmd)\u001b[0m\u001b[0;34m\u001b[0m\u001b[0;34m\u001b[0m\u001b[0;34m\u001b[0m\u001b[0m\n\u001b[1;32m     18\u001b[0m \u001b[0;34m\u001b[0m\u001b[0m\n\u001b[0;32m---> 19\u001b[0;31m \u001b[0mmmdutils\u001b[0m\u001b[0;34m.\u001b[0m\u001b[0mSignificanceResultsMMD\u001b[0m\u001b[0;34m.\u001b[0m\u001b[0mtest_by_hand\u001b[0m\u001b[0;34m(\u001b[0m\u001b[0mmmd\u001b[0m\u001b[0;34m=\u001b[0m\u001b[0mmmd\u001b[0m\u001b[0;34m,\u001b[0m \u001b[0mp_value\u001b[0m\u001b[0;34m=\u001b[0m\u001b[0mp_value_unbiased\u001b[0m\u001b[0;34m,\u001b[0m \u001b[0malpha\u001b[0m\u001b[0;34m=\u001b[0m\u001b[0malpha\u001b[0m\u001b[0;34m)\u001b[0m\u001b[0;34m\u001b[0m\u001b[0;34m\u001b[0m\u001b[0m\n\u001b[0m\u001b[1;32m     20\u001b[0m \u001b[0mmmdutils\u001b[0m\u001b[0;34m.\u001b[0m\u001b[0mSignificanceResultsMMD\u001b[0m\u001b[0;34m.\u001b[0m\u001b[0mfull_two_sample\u001b[0m\u001b[0;34m(\u001b[0m\u001b[0mmmd\u001b[0m\u001b[0;34m=\u001b[0m\u001b[0mmmd\u001b[0m\u001b[0;34m,\u001b[0m \u001b[0malpha\u001b[0m\u001b[0;34m=\u001b[0m\u001b[0malpha\u001b[0m\u001b[0;34m)\u001b[0m\u001b[0;34m\u001b[0m\u001b[0;34m\u001b[0m\u001b[0m\n\u001b[1;32m     21\u001b[0m \u001b[0;34m\u001b[0m\u001b[0m\n",
      "\u001b[0;31mNameError\u001b[0m: name 'p_value_unbiased' is not defined"
     ]
    }
   ],
   "source": [
    "\n",
    "\n",
    "# mmd.set_kernel_selection_strategy(KSM_MAXIMIZE_POWER)\n",
    "# mmd.select_kernel()\n",
    "# learnt_kernel_single = GaussianKernel.obtain_from_generic(mmd.get_kernel())\n",
    "# width = learnt_kernel_single.get_width()\n",
    "# print(width)\n",
    "num_runs = 1\n",
    "num_folds = 3\n",
    "alpha = 0.05\n",
    "mmd.set_kernel_selection_strategy(KSM_CROSS_VALIDATION, num_runs, num_folds, alpha)\n",
    "mmd.select_kernel()\n",
    "learnt_kernel_single = GaussianKernel.obtain_from_generic(mmd.get_kernel())\n",
    "width = learnt_kernel_single.get_width()\n",
    "print('Print best kernel width is:', width)\n",
    "\n",
    "# mmdutils.SignificanceResultsMMD.compute_the_p_value_unbiased(mmd=mmd)\n",
    "# _, p_value_biased = mmdutils.SignificanceResultsMMD.compute_the_p_value_biased(mmd=mmd)\n",
    "# _, p_value_unbiased = mmdutils.SignificanceResultsMMD.compute_the_p_value_unbiased(mmd=mmd)\n",
    "\n",
    "mmdutils.SignificanceResultsMMD.test_by_hand(mmd=mmd, p_value=p_value_unbiased, alpha=alpha)\n",
    "mmdutils.SignificanceResultsMMD.full_two_sample(mmd=mmd, alpha=alpha)\n",
    "\n"
   ]
  },
  {
   "cell_type": "code",
   "execution_count": null,
   "id": "15b5497c",
   "metadata": {},
   "outputs": [],
   "source": []
  }
 ],
 "metadata": {
  "kernelspec": {
   "display_name": "Python 3",
   "language": "python",
   "name": "python3"
  },
  "language_info": {
   "codemirror_mode": {
    "name": "ipython",
    "version": 3
   },
   "file_extension": ".py",
   "mimetype": "text/x-python",
   "name": "python",
   "nbconvert_exporter": "python",
   "pygments_lexer": "ipython3",
   "version": "3.6.13"
  }
 },
 "nbformat": 4,
 "nbformat_minor": 5
}
