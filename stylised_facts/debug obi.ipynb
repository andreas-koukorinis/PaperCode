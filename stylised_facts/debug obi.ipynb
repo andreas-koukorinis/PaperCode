{
 "cells": [
  {
   "cell_type": "code",
   "execution_count": 1,
   "id": "3659b68e",
   "metadata": {},
   "outputs": [],
   "source": [
    "import pickle\n",
    "import numpy as np\n",
    "import fathon\n",
    "import concurrent.futures\n",
    "import numpy as np\n",
    "import matplotlib.pyplot as plt\n",
    "import fathon\n",
    "from fathon import fathonUtils as fu\n",
    "import pandas as pd\n",
    "import os\n",
    "import pickle\n",
    "from collections import defaultdict\n",
    "import seaborn as sns\n",
    "import matplotlib as mpl\n",
    "import statsmodels as stmdl"
   ]
  },
  {
   "cell_type": "code",
   "execution_count": null,
   "id": "b7766428",
   "metadata": {},
   "outputs": [],
   "source": [
    "mpl.get_configdir()\n",
    "# plot parametrisations\n",
    "latex_styles = os.listdir(mpl.get_configdir())\n",
    "latex_styles\n",
    "\n",
    "plt.style.use(os.path.join(mpl.get_configdir(), latex_styles[0]))"
   ]
  },
  {
   "cell_type": "code",
   "execution_count": null,
   "id": "de6f9ee8",
   "metadata": {
    "scrolled": true
   },
   "outputs": [],
   "source": [
    "\n",
    "# # Using ProcessPoolExecutor for parallel processing\n",
    "if __name__ == \"__main__\":\n",
    "\n",
    "    # os.listdir('/media/ak/Data1/InterestRateFuturesData/')\n",
    "    reconLOBs = '/media/ak/Data1/InterestRateFuturesData/ReconstructedLOB'\n",
    "    figuresLocation = '/home/ak/Documents/Research/Papers/StylisedFactsPaper/figures'\n",
    "    symbols = sorted(os.listdir(reconLOBs))\n",
    "    symbolFolders = [os.path.join(reconLOBs, symbol) for symbol in symbols]\n",
    "    directory = 'OrderBookImbalance'\n",
    "    path = os.path.join(reconLOBs, directory, 'extremes' )\n",
    "   "
   ]
  },
  {
   "cell_type": "code",
   "execution_count": null,
   "id": "1583e2a0",
   "metadata": {},
   "outputs": [],
   "source": [
    "obi_mfdfa_path = [f for f in os.listdir(path) if str('mfdfa') in f]"
   ]
  },
  {
   "cell_type": "code",
   "execution_count": null,
   "id": "9cc5a376",
   "metadata": {},
   "outputs": [],
   "source": [
    "idx = 3\n",
    "obi_idx_path = os.path.join(path, obi_mfdfa_path[idx])\n",
    "print(obi_idx_path)"
   ]
  },
  {
   "cell_type": "code",
   "execution_count": null,
   "id": "59e2e2d4",
   "metadata": {},
   "outputs": [],
   "source": [
    "symbol = obi_mfdfa_path[idx].split(\"_\")[0]\n",
    "print(symbol)"
   ]
  },
  {
   "cell_type": "code",
   "execution_count": null,
   "id": "eb1bcb1f",
   "metadata": {},
   "outputs": [],
   "source": [
    "g =pd.read_pickle(obi_idx_path)"
   ]
  },
  {
   "cell_type": "code",
   "execution_count": null,
   "id": "0e4fdb27",
   "metadata": {},
   "outputs": [],
   "source": [
    "g.keys()"
   ]
  },
  {
   "cell_type": "code",
   "execution_count": null,
   "id": "6c3fe1f6",
   "metadata": {},
   "outputs": [],
   "source": [
    "# import pandas as pd\n",
    "# import pickle\n",
    "\n",
    "# def create_dataframes_from_file(file_path):\n",
    "#     \"\"\"\n",
    "#     Reads a pickle file that contains a dictionary, and creates a DataFrame for each key in the dictionary.\n",
    "\n",
    "#     Parameters:\n",
    "#     file_path (str): The file path to the pickle file containing the dictionary.\n",
    "\n",
    "#     Returns:\n",
    "#     list: A list of pandas DataFrames, each created from the data associated with a key in the dictionary.\n",
    "#     \"\"\"\n",
    "#     dataframes = []\n",
    "\n",
    "#     with open(file_path, 'rb') as file:\n",
    "#         obi_mfdfa_output_dict_ = pickle.load(file)\n",
    "\n",
    "#     for key, value in obi_mfdfa_output_dict_.items():\n",
    "#         # Convert each value to a DataFrame and add it to the list\n",
    "#         # Assuming each value is either a list or a similar structure that can be directly converted to a DataFrame\n",
    "#         df = pd.DataFrame(value)\n",
    "#         dataframes.append(df)\n",
    "\n",
    "#     return dataframes\n",
    "\n",
    "# # Example usage\n",
    "# file_path = '/media/ak/Data1/InterestRateFuturesData/ReconstructedLOB/OrderBookImbalance/extremes/DU1_obi_mfdfa.pkl'\n",
    "# list_of_dfs = create_dataframes_from_file(file_path)\n",
    "\n",
    "# # Accessing the individual DataFrames\n",
    "# # For example, accessing the first DataFrame\n",
    "# first_df = list_of_dfs[0]\n",
    "# # You can loop through the list for analysis or visualization as needed\n"
   ]
  },
  {
   "cell_type": "code",
   "execution_count": null,
   "id": "956616df",
   "metadata": {},
   "outputs": [],
   "source": [
    "\n",
    "def create_variable_dataframes(obi_mfdfa_output_dict_):\n",
    "    \"\"\"\n",
    "    Creates a dictionary of pandas DataFrames from a nested defaultdict. Each DataFrame\n",
    "    corresponds to one variable, with columns representing different indices.\n",
    "\n",
    "    Parameters:\n",
    "    obi_mfdfa_output_dict_ (defaultdict(dict)): A nested defaultdict where the first level\n",
    "                                                keys are indices and second level keys are\n",
    "                                                variable names.\n",
    "\n",
    "    Returns:\n",
    "    dict: A dictionary where each key is a variable name and the value is a DataFrame\n",
    "          containing the data for that variable across different indices.\n",
    "    \"\"\"\n",
    "    dataframes = defaultdict(pd.DataFrame)\n",
    "\n",
    "    # Iterate over each index in the defaultdict\n",
    "    for index in obi_mfdfa_output_dict_:\n",
    "        # Iterate over each variable and populate the dataframe\n",
    "        for variable, value in obi_mfdfa_output_dict_[index].items():\n",
    "            dataframes[variable][index] = value\n",
    "\n",
    "    return dataframes\n",
    "\n",
    "# Example usage\n",
    "# obi_mfdfa_output_dict_ = { ... }  # This is your nested defaultdict\n",
    "# variable_dfs = create_variable_dataframes(obi_mfdfa_output_dict_)\n",
    "# Now variable_dfs is a dictionary where keys are variables like 'list_H', and values are DataFrames.\n"
   ]
  },
  {
   "cell_type": "code",
   "execution_count": null,
   "id": "b0507404",
   "metadata": {},
   "outputs": [],
   "source": [
    "g"
   ]
  },
  {
   "cell_type": "code",
   "execution_count": null,
   "id": "5d1f5d5d",
   "metadata": {},
   "outputs": [],
   "source": [
    "# variable_dfs = create_variable_dataframes(g)"
   ]
  },
  {
   "cell_type": "code",
   "execution_count": null,
   "id": "ed1e7905",
   "metadata": {},
   "outputs": [],
   "source": [
    "variable_dfs"
   ]
  },
  {
   "cell_type": "code",
   "execution_count": null,
   "id": "472f81cb",
   "metadata": {},
   "outputs": [],
   "source": [
    "ts_tau = variable_dfs['tau'].median(axis=1) # median across one trading day\n",
    "xs_tau = variable_dfs['tau'].median(axis=0) # median across trading days"
   ]
  },
  {
   "cell_type": "code",
   "execution_count": null,
   "id": "5543593c",
   "metadata": {},
   "outputs": [],
   "source": [
    "list_H_ts = variable_dfs['list_H'].median(axis=1)\n",
    "list_H_xs = variable_dfs['list_H'].median(axis=0)\n"
   ]
  },
  {
   "cell_type": "markdown",
   "id": "e8fb155f",
   "metadata": {},
   "source": [
    "## plotting "
   ]
  },
  {
   "cell_type": "code",
   "execution_count": null,
   "id": "c88227c0",
   "metadata": {},
   "outputs": [],
   "source": [
    "xs_tau"
   ]
  },
  {
   "cell_type": "code",
   "execution_count": null,
   "id": "ca331f27",
   "metadata": {},
   "outputs": [],
   "source": [
    "variable = 'ts_tau_obi'\n",
    "_=sns.color_palette(\"coolwarm\", as_cmap=True)\n",
    "_=sns.histplot(ts_tau, kde= True, linestyle = \"--\", color = 'blue', bins =40)\n",
    "# Set the x-axis to start from the minimum value of xs_tau or any specific value\n",
    "_ = plt.xlim(min(ts_tau), max(ts_tau))\n",
    "title = 'MDFDA_'+str(variable)+str(symbol)+'_plot1.png'\n",
    "fileLocation = os.path.join(figuresLocation, title)\n",
    "plt.savefig(fileLocation, dpi = 300 )"
   ]
  },
  {
   "cell_type": "code",
   "execution_count": null,
   "id": "41628540",
   "metadata": {},
   "outputs": [],
   "source": [
    "_=sns.histplot(xs_tau, kde= True, linestyle = \":\", color = 'purple', bins =40)\n",
    "# Set the x-axis to start from the minimum value of xs_tau or any specific value\n",
    "_=plt.xlim(min(xs_tau), max(xs_tau))"
   ]
  },
  {
   "cell_type": "code",
   "execution_count": null,
   "id": "ecc91d1a",
   "metadata": {},
   "outputs": [],
   "source": [
    "import seaborn as sns\n",
    "import matplotlib.pyplot as plt\n",
    "import os\n",
    "\n",
    "\n",
    "def plot_histograms(series1, series2, variable, symbol, figuresLocation,\n",
    "                    xtick_fontsize=18, ytick_fontsize=18, label_fontsize=14):\n",
    "    \"\"\"\n",
    "    Plots two histograms side by side for the given series with customizable font sizes.\n",
    "\n",
    "    Parameters:\n",
    "    series1 (pandas.Series): First series to plot.\n",
    "    series2 (pandas.Series): Second series to plot.\n",
    "    variable (str): Variable name used in the title of the plot.\n",
    "    symbol (str): Symbol name used in the title of the plot.\n",
    "    figuresLocation (str): Directory path to save the plot.\n",
    "    xtick_fontsize (int): Font size for x-axis tick labels.\n",
    "    ytick_fontsize (int): Font size for y-axis tick labels.\n",
    "    label_fontsize (int): Font size for axis labels and title.\n",
    "    \"\"\"\n",
    "    # Setting up the figure and axes\n",
    "    fig, axes = plt.subplots(1, 2, figsize=(12, 5))\n",
    "\n",
    "    # Plotting the first histogram\n",
    "    sns.histplot(series1, kde=True, linestyle=\"--\", color='blue', bins=40, ax=axes[0])\n",
    "    axes[0].set_xlim(min(series1), max(series1))\n",
    "#     axes[0].set_title(f'median across trading days(median trading day)', fontsize=label_fontsize)\n",
    "    axes[0].tick_params(axis='x', labelsize=xtick_fontsize)\n",
    "    axes[0].tick_params(axis='y', labelsize=ytick_fontsize)\n",
    "\n",
    "    # Plotting the second histogram\n",
    "    sns.histplot(series2, kde=True, linestyle=\":\", color='purple', bins=40, ax=axes[1])\n",
    "    axes[1].set_xlim(min(series2), max(series2))\n",
    "#     axes[1].set_title(f'median across trading intervals (clock ticks)', fontsize=label_fontsize)\n",
    "    axes[1].tick_params(axis='x', labelsize=xtick_fontsize)\n",
    "    axes[1].tick_params(axis='y', labelsize=ytick_fontsize)\n",
    "\n",
    "    # Adjust layout and save the figure\n",
    "    plt.tight_layout()\n",
    "    title = f'MDFDA_{variable}_{symbol}_combined_plot.png'\n",
    "    fileLocation = os.path.join(figuresLocation, title)\n",
    "    plt.savefig(fileLocation, dpi=300)\n",
    "\n",
    "    # Display the plot\n",
    "    plt.show()\n",
    "\n",
    "# Example usage\n",
    "# list_H_ts = variable_dfs['list_H'].median(axis=1)\n",
    "# list_H_xs = variable_dfs['list_H'].median(axis=0)\n",
    "# plot_histograms(list_H_ts, list_H_xs, 'ts_tau_obi', 'symbol_name', '/path/to/figuresLocation', \n",
    "#                 xtick_fontsize=14, ytick_fontsize=14, label_fontsize=16)\n",
    "\n",
    "# Example usage\n",
    "# list_H_ts = variable_dfs['list_H'].median(axis=1)\n",
    "# list_H_xs = variable_dfs['list_H'].median(axis=0)\n",
    "plot_histograms(list_H_ts, list_H_xs, 'ts_tau_obi', str(symbol), figuresLocation\n",
    "               )\n"
   ]
  },
  {
   "cell_type": "code",
   "execution_count": null,
   "id": "87323bfd",
   "metadata": {},
   "outputs": [],
   "source": [
    "qs = np.arange(-3, 4, 0.1)\n",
    "plt.plot(qs, list_H_ts, 'go-', alpha = 0.5)\n",
    "_=plt.xlabel('q', fontsize=14)\n",
    "_=plt.ylabel('h(q)', fontsize=14)\n",
    "_=plt.title('h(q)', fontsize=14)"
   ]
  },
  {
   "cell_type": "code",
   "execution_count": null,
   "id": "869b53d4",
   "metadata": {},
   "outputs": [],
   "source": [
    "_=sns.color_palette(\"coolwarm\", as_cmap=True)\n",
    "_=sns.histplot(list_H_xs, kde= True, linestyle = \"--\", color = 'blue', bins =40)"
   ]
  },
  {
   "cell_type": "code",
   "execution_count": null,
   "id": "a62c9ce8",
   "metadata": {},
   "outputs": [],
   "source": [
    "def plot_combined_histogram_and_lineplot(series_hist, series_line, qs, xtick_fontsize=12, ytick_fontsize=18, label_fontsize=18):\n",
    "    \"\"\"\n",
    "    Creates a combined plot with a histogram on the left and a line plot on the right.\n",
    "\n",
    "    Parameters:\n",
    "    series_hist (pandas.Series): Data series for the histogram.\n",
    "    series_line (pandas.Series): Data series for the line plot.\n",
    "    qs (numpy.ndarray): Array of q-values for the line plot.\n",
    "    xtick_fontsize (int): Font size for x-axis tick labels.\n",
    "    ytick_fontsize (int): Font size for y-axis tick labels.\n",
    "    label_fontsize (int): Font size for axis labels.\n",
    "    \"\"\"\n",
    "    # Setting up the figure and axes\n",
    "    fig, axes = plt.subplots(1, 2, figsize=(12, 5))\n",
    "\n",
    "    # Creating the histogram plot on the left\n",
    "    sns.histplot(series_hist, kde=True, linestyle=\"--\", color='blue', bins=40, ax=axes[0])\n",
    "    axes[0].set_xlabel('Value', fontsize=label_fontsize)\n",
    "    axes[0].set_ylabel('Frequency', fontsize=label_fontsize)\n",
    "    axes[0].tick_params(axis='x', labelsize=xtick_fontsize)\n",
    "    axes[0].tick_params(axis='y', labelsize=ytick_fontsize)\n",
    "\n",
    "    # Creating the line plot on the right\n",
    "    axes[1].plot(qs, series_line, 'go-', alpha=0.5)\n",
    "    axes[1].set_xlabel('q', fontsize=label_fontsize)\n",
    "    axes[1].set_ylabel('h(q)', fontsize=label_fontsize)\n",
    "    axes[1].tick_params(axis='x', labelsize=xtick_fontsize)\n",
    "    axes[1].tick_params(axis='y', labelsize=ytick_fontsize)\n",
    "\n",
    "    # Adjust layout\n",
    "    plt.tight_layout()\n",
    "    title = f'MDFDA_{variable}_{symbol}_hq_q.png'\n",
    "    fileLocation = os.path.join(figuresLocation, title)\n",
    "    plt.savefig(fileLocation, dpi=300)\n",
    "\n",
    "    # Display the plot\n",
    "    plt.show()\n",
    "\n",
    "# Example usage\n",
    "plot_combined_histogram_and_lineplot(list_H_xs, list_H_ts, np.arange(-3, 4, 0.1))\n"
   ]
  },
  {
   "cell_type": "code",
   "execution_count": null,
   "id": "38ecb384",
   "metadata": {},
   "outputs": [],
   "source": [
    "_=plt.plot(qs, ts_tau, 'ro-')\n",
    "plt.ylabel('$\\\\tau$(q)', fontsize=14)\n",
    "plt.title('$\\\\tau$(q)', fontsize=14)\n",
    "title = f'MDFDA_{variable}_{symbol}_tau_qs.png'\n",
    "fileLocation = os.path.join(figuresLocation, title)\n",
    "plt.savefig(fileLocation, dpi=300)\n"
   ]
  },
  {
   "cell_type": "code",
   "execution_count": null,
   "id": "78864c24",
   "metadata": {},
   "outputs": [],
   "source": [
    "alpha = variable_dfs['alpha'].median(axis=1)\n",
    "mfSpect = variable_dfs['mfSpect'].median(axis=1)\n",
    "plt.plot(alpha, mfSpect, 'go-', alpha = 0.5)\n",
    "plt.xlabel('$\\\\alpha$', fontsize=14)\n",
    "plt.ylabel('f($\\\\alpha$)', fontsize=14)\n",
    "plt.title('f($\\\\alpha$)', fontsize=14)\n",
    "title = f'MDFDA_{variable}_{symbol}_alpha_mfSpectrum.png'\n",
    "fileLocation = os.path.join(figuresLocation, title)\n",
    "plt.savefig(fileLocation, dpi=300)\n",
    "\n",
    "plt.show()\n",
    "\n"
   ]
  },
  {
   "cell_type": "code",
   "execution_count": null,
   "id": "13c6e460",
   "metadata": {},
   "outputs": [],
   "source": []
  },
  {
   "cell_type": "code",
   "execution_count": null,
   "id": "4f293e7b",
   "metadata": {},
   "outputs": [],
   "source": []
  },
  {
   "cell_type": "code",
   "execution_count": null,
   "id": "dad7a6ac",
   "metadata": {},
   "outputs": [],
   "source": []
  }
 ],
 "metadata": {
  "kernelspec": {
   "display_name": "Python [conda env:timeSeries] *",
   "language": "python",
   "name": "conda-env-timeSeries-py"
  },
  "language_info": {
   "codemirror_mode": {
    "name": "ipython",
    "version": 3
   },
   "file_extension": ".py",
   "mimetype": "text/x-python",
   "name": "python",
   "nbconvert_exporter": "python",
   "pygments_lexer": "ipython3",
   "version": "3.7.12"
  }
 },
 "nbformat": 4,
 "nbformat_minor": 5
}
