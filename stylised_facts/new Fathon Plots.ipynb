{
 "cells": [
  {
   "cell_type": "code",
   "execution_count": 1,
   "id": "c6419b1f",
   "metadata": {},
   "outputs": [
    {
     "name": "stdout",
     "output_type": "stream",
     "text": [
      "JB1\n"
     ]
    }
   ],
   "source": [
    "import numpy as np\n",
    "import matplotlib.pyplot as plt\n",
    "import pandas as pd\n",
    "import numpy as np\n",
    "import os\n",
    "import lob_for_futures as lobFut\n",
    "from lob_for_futures import *\n",
    "import os\n",
    "import matplotlib.pyplot as plt\n",
    "\n",
    "\n",
    "from dateutil.parser import parse\n",
    "from pandas.tseries.offsets import BDay\n",
    "import pickle as pkl\n",
    "import fnmatch\n",
    "import pickle\n",
    "import datetime as dt\n",
    "from datetime import timedelta\n",
    "import glob\n",
    "import fathon\n",
    "from fathon import fathonUtils as fu\n",
    "\n",
    "import pyinform as pyinf\n",
    "import pingouin as pig\n",
    "from scipy.stats import entropy\n",
    "from scipy.spatial.distance import jensenshannon\n",
    "from scipy.special import kl_div\n",
    "import time\n",
    "dataFolder = lobFut.dataFolder\n",
    "quotes =[f for f in os.listdir(dataFolder) if str('_quotes') in f]\n",
    "trades =[f for f in os.listdir(dataFolder) if str('_trades') in f]\n",
    "\n",
    "symbolIdx = 4\n",
    "symbols = [f.split(\"_\")[0] for f in quotes]\n",
    "\n",
    "symbol = sorted(symbols)[symbolIdx]\n",
    "print(symbol)\n",
    "quotesFileCh = os.path.join(dataFolder, quotes[symbolIdx])\n",
    "tradesFileCh = os.path.join(dataFolder, trades[symbolIdx])\n",
    "\n",
    "# get common Dates\n",
    "quotesDates = sorted([f.split(\".csv\")[0] for f in os.listdir(quotesFileCh)])\n",
    "tradesDates = sorted([f.split(\".csv\")[0] for f in os.listdir(tradesFileCh)])\n",
    "intersectionDates = list(set(quotesDates).intersection(tradesDates))\n",
    "\n",
    "trades_cols = ['size', 'time', 'type', 'value']\n",
    "\n"
   ]
  },
  {
   "cell_type": "code",
   "execution_count": 51,
   "id": "c19d59ae",
   "metadata": {},
   "outputs": [],
   "source": [
    "experimentsDestination = '/media/ak/T7/MFDFA Experiments'"
   ]
  },
  {
   "cell_type": "code",
   "execution_count": 43,
   "id": "2999ec62",
   "metadata": {},
   "outputs": [
    {
     "name": "stderr",
     "output_type": "stream",
     "text": [
      "2021-10-09 21:38:43,805 DataLoader  INFO Loading data for:20180517\n",
      "2021-10-09 21:38:43,917 DataLoader  INFO Loading data for:20180508\n",
      "2021-10-09 21:38:43,997 DataLoader  INFO Loading data for:20180713\n"
     ]
    },
    {
     "name": "stdout",
     "output_type": "stream",
     "text": [
      "1633811923.7999465\n",
      "JB1\n",
      "/media/ak/WorkDrive/Data/JB1_Comdty_quotes/20180517.csv\n",
      "/media/ak/WorkDrive/Data/JB1_Comdty_trades/20180517.csv\n",
      "/media/ak/WorkDrive/Data/JB1_Comdty_quotes/20180508.csv\n",
      "/media/ak/WorkDrive/Data/JB1_Comdty_trades/20180508.csv\n",
      "/media/ak/WorkDrive/Data/JB1_Comdty_quotes/20180713.csv\n",
      "/media/ak/WorkDrive/Data/JB1_Comdty_trades/20180713.csv\n"
     ]
    }
   ],
   "source": [
    "\n",
    "\n",
    "if __name__ == '__main__':\n",
    "    # params i need for fathon\n",
    "    winSizes = fu.linRangeByStep(5, 60)\n",
    "    revSeg = True\n",
    "    polOrd = 3\n",
    "    # load all teh dataframes at once with this\n",
    "    start = time.time()\n",
    "    print(start)\n",
    "    # go through all the dataframes and take out n, f and h, h_ intercept\n",
    "    # somehow one list comprehension blows up in memory\n",
    "    n_f_values_dict = dict()\n",
    "    h_dict = dict()\n",
    "\n",
    "    symbolIdx = 4\n",
    "\n",
    "    symbol = sorted(symbols)[symbolIdx]\n",
    "    print(symbol)\n",
    "    quotesFileCh = os.path.join(dataFolder, quotes[symbolIdx])\n",
    "    tradesFileCh = os.path.join(dataFolder, trades[symbolIdx])\n",
    "\n",
    "    # get common Dates\n",
    "    quotesDates = sorted([f.split(\".csv\")[0] for f in os.listdir(quotesFileCh)])\n",
    "    tradesDates = sorted([f.split(\".csv\")[0] for f in os.listdir(tradesFileCh)])\n",
    "    intersectionDates = list(set(quotesDates).intersection(tradesDates))\n",
    "\n",
    "    trades_cols = ['size', 'time', 'type', 'value']\n",
    "\n",
    "    # params for the clocks\n",
    "\n",
    "    calendar_resample_freq = \"600S\"\n",
    "    trade_volume_width = 200\n",
    "    ticks_width = 200\n",
    "    usd_volume_width = 200\n",
    "    dates_choice = intersectionDates[0:3]\n",
    "\n",
    "    testClass = DataLoader(data_location=dataFolder,\n",
    "                           symbol=symbol,\n",
    "                           dates=dates_choice,\n",
    "                           use_columns=trades_cols,\n",
    "                           calendar_resample=calendar_resample_freq,\n",
    "                           trade_volume_width=trade_volume_width,\n",
    "                           ticks_width=ticks_width,\n",
    "                           usd_volume_width=usd_volume_width)\n",
    "\n",
    "    hash_of_file = \"_\".join(\n",
    "        (str(symbol), \"volume_width\", str(trade_volume_width), \"calendar_resample\", str(calendar_resample_freq)))\n",
    "\n",
    "    # load data\n",
    "    input_dict = testClass.load_and_format_data()\n",
    "\n",
    "    tick_bar_dfs = []\n",
    "    volume_bar_dfs = []\n",
    "    usd_volume_bar_dfs = []\n",
    "    calendar_bar_dfs = []\n",
    "    dates = list(input_dict.keys())\n",
    "    \n",
    "\n",
    "\n",
    "\n"
   ]
  },
  {
   "cell_type": "code",
   "execution_count": 62,
   "id": "648d3389",
   "metadata": {},
   "outputs": [],
   "source": [
    "\n",
    "def open_pickle_filepath(pickle_file):\n",
    "    pickle_to_file = pickle.load(open(pickle_file, \"rb\"), encoding='latin1')\n",
    "\n",
    "    return pickle_to_file"
   ]
  },
  {
   "cell_type": "code",
   "execution_count": 44,
   "id": "ee08273b",
   "metadata": {},
   "outputs": [
    {
     "name": "stderr",
     "output_type": "stream",
     "text": [
      "2021-10-09 21:38:44,091 DataLoader  INFO Loading data for:20180517\n",
      "2021-10-09 21:38:44,180 DataLoader  INFO Loading data for:20180508\n",
      "2021-10-09 21:38:44,260 DataLoader  INFO Loading data for:20180713\n"
     ]
    },
    {
     "name": "stdout",
     "output_type": "stream",
     "text": [
      "/media/ak/WorkDrive/Data/JB1_Comdty_quotes/20180517.csv\n",
      "/media/ak/WorkDrive/Data/JB1_Comdty_trades/20180517.csv\n",
      "/media/ak/WorkDrive/Data/JB1_Comdty_quotes/20180508.csv\n",
      "/media/ak/WorkDrive/Data/JB1_Comdty_trades/20180508.csv\n",
      "/media/ak/WorkDrive/Data/JB1_Comdty_quotes/20180713.csv\n",
      "/media/ak/WorkDrive/Data/JB1_Comdty_trades/20180713.csv\n"
     ]
    },
    {
     "name": "stderr",
     "output_type": "stream",
     "text": [
      "2021-10-09 21:38:44,340 DataLoader  INFO Calculating calendar clock\n",
      "2021-10-09 21:38:44,581 DataLoader  INFO Calculating volume clock\n",
      "2021-10-09 21:38:45,376 DataLoader  INFO Calculating tick clock\n",
      "2021-10-09 21:38:45,517 DataLoader  INFO Calculating usd volume clock\n",
      "2021-10-09 21:38:57,828 DataLoader  INFO Loading data for:20180517\n"
     ]
    },
    {
     "name": "stdout",
     "output_type": "stream",
     "text": [
      "/media/ak/WorkDrive/Data/JB1_Comdty_quotes/20180517.csv\n",
      "/media/ak/WorkDrive/Data/JB1_Comdty_trades/20180517.csv\n"
     ]
    },
    {
     "name": "stderr",
     "output_type": "stream",
     "text": [
      "2021-10-09 21:38:58,062 DataLoader  INFO Loading data for:20180508\n",
      "2021-10-09 21:38:58,137 DataLoader  INFO Loading data for:20180713\n",
      "2021-10-09 21:38:58,209 DataLoader  INFO Calculating calendar clock\n"
     ]
    },
    {
     "name": "stdout",
     "output_type": "stream",
     "text": [
      "/media/ak/WorkDrive/Data/JB1_Comdty_quotes/20180508.csv\n",
      "/media/ak/WorkDrive/Data/JB1_Comdty_trades/20180508.csv\n",
      "/media/ak/WorkDrive/Data/JB1_Comdty_quotes/20180713.csv\n",
      "/media/ak/WorkDrive/Data/JB1_Comdty_trades/20180713.csv\n"
     ]
    },
    {
     "name": "stderr",
     "output_type": "stream",
     "text": [
      "2021-10-09 21:38:58,503 DataLoader  INFO Calculating volume clock\n",
      "2021-10-09 21:38:59,164 DataLoader  INFO Calculating tick clock\n",
      "2021-10-09 21:38:59,308 DataLoader  INFO Calculating usd volume clock\n",
      "2021-10-09 21:39:11,088 DataLoader  INFO Loading data for:20180517\n",
      "2021-10-09 21:39:11,166 DataLoader  INFO Loading data for:20180508\n",
      "2021-10-09 21:39:11,238 DataLoader  INFO Loading data for:20180713\n"
     ]
    },
    {
     "name": "stdout",
     "output_type": "stream",
     "text": [
      "/media/ak/WorkDrive/Data/JB1_Comdty_quotes/20180517.csv\n",
      "/media/ak/WorkDrive/Data/JB1_Comdty_trades/20180517.csv\n",
      "/media/ak/WorkDrive/Data/JB1_Comdty_quotes/20180508.csv\n",
      "/media/ak/WorkDrive/Data/JB1_Comdty_trades/20180508.csv\n",
      "/media/ak/WorkDrive/Data/JB1_Comdty_quotes/20180713.csv\n",
      "/media/ak/WorkDrive/Data/JB1_Comdty_trades/20180713.csv\n"
     ]
    },
    {
     "name": "stderr",
     "output_type": "stream",
     "text": [
      "2021-10-09 21:39:11,309 DataLoader  INFO Calculating calendar clock\n",
      "2021-10-09 21:39:11,518 DataLoader  INFO Calculating volume clock\n",
      "2021-10-09 21:39:12,120 DataLoader  INFO Calculating tick clock\n",
      "2021-10-09 21:39:12,241 DataLoader  INFO Calculating usd volume clock\n"
     ]
    }
   ],
   "source": [
    "bar_returns = dict()\n",
    "for date in dates:\n",
    "        df = testClass.load_and_format_data()[str(date)]\n",
    "        input_dict = testClass.get_bars(df)\n",
    "        tick_bar_df = testClass.get_concat_data(testClass._bars_dict)['tick_bars']\n",
    "        volume_bar_df = testClass.get_concat_data(testClass._bars_dict)['volume_bars']\n",
    "        usd_volume_bar_df = testClass.get_concat_data(testClass._bars_dict)['usd_volume_bars']\n",
    "        calendar_bar_df = testClass.get_concat_data(testClass._bars_dict)['calendar_bars']\n",
    "        vr = returns(volume_bar_df.micro_price_close).replace([np.inf, -np.inf], 0)  # volume\n",
    "        tr = returns(tick_bar_df.micro_price_close).replace([np.inf, -np.inf], 0)  # tick\n",
    "        dr = returns(usd_volume_bar_df.micro_price_close).dropna().replace([np.inf, -np.inf], 0)  # usd volume\n",
    "        df_ret = returns(calendar_bar_df.micro_price_close).dropna().replace([np.inf, -np.inf], 0)  # calendar\n",
    "        bar_returns[date] = {'tick':tr,\n",
    "                       'volume': vr,\n",
    "                       'dollar': dr,\n",
    "                       'calendar': df_ret}\n",
    "\n"
   ]
  },
  {
   "cell_type": "code",
   "execution_count": 45,
   "id": "a9cc7536",
   "metadata": {},
   "outputs": [],
   "source": [
    "import itertools\n"
   ]
  },
  {
   "cell_type": "code",
   "execution_count": 41,
   "id": "05ffbe65",
   "metadata": {},
   "outputs": [
    {
     "data": {
      "text/plain": [
       "dict_keys(['tick', 'volume', 'dollar', 'calendar'])"
      ]
     },
     "execution_count": 41,
     "metadata": {},
     "output_type": "execute_result"
    }
   ],
   "source": [
    "bar_returns['20180517'].keys()"
   ]
  },
  {
   "cell_type": "code",
   "execution_count": 111,
   "id": "9a00bbf2",
   "metadata": {},
   "outputs": [
    {
     "name": "stdout",
     "output_type": "stream",
     "text": [
      "for date 20180517  and bar type tick you get 0.5279805409537836\n",
      "for date 20180508  and bar type tick you get 0.6302299600096248\n",
      "for date 20180713  and bar type tick you get 0.6104167446766932\n",
      "for date 20180517  and bar type volume you get 0.36691157227240523\n",
      "for date 20180508  and bar type volume you get 0.513846853247188\n",
      "for date 20180713  and bar type volume you get 0.5023295006245058\n",
      "for date 20180517  and bar type dollar you get 0.4910002524659871\n",
      "for date 20180508  and bar type dollar you get 0.5105304581151281\n",
      "for date 20180713  and bar type dollar you get 0.5172171061818513\n",
      "for date 20180517  and bar type calendar you get 0.4686757122666645\n",
      "for date 20180508  and bar type calendar you get 0.6673803521778631\n",
      "for date 20180713  and bar type calendar you get 0.613032939212193\n"
     ]
    }
   ],
   "source": [
    "dict_dfa = defaultdict(dict)\n",
    "H_dict = defaultdict(dict)\n",
    "for i, j in itertools.product(['tick', 'volume', 'dollar', 'calendar'], dates):\n",
    "    data = (bar_returns[j][i])\n",
    "    a = fu.toAggregated(np.asanyarray(data))\n",
    "    pydfa = fathon.DFA(a)\n",
    "    n, F = pydfa.computeFlucVec(winSizes, revSeg=revSeg, polOrd=polOrd)\n",
    "    dict_dfa[j][i] = dict(zip(n, F))  # dictionary to match all the n and F values\n",
    "\n",
    "    H, H_intercept = pydfa.fitFlucVec()  # same for H values\n",
    "    H_dict[j][i] = [H, H_intercept]\n",
    "\n",
    "    print('for date',j,' and bar type',i, 'you get',H)\n",
    "    \n",
    "    \n"
   ]
  },
  {
   "cell_type": "code",
   "execution_count": 118,
   "id": "82907729",
   "metadata": {},
   "outputs": [
    {
     "name": "stdout",
     "output_type": "stream",
     "text": [
      "tick\n"
     ]
    },
    {
     "data": {
      "image/png": "[encoded data removed]",
      "text/plain": [
       "<Figure size 518.4x320.4 with 1 Axes>"
      ]
     },
     "metadata": {
      "needs_background": "light"
     },
     "output_type": "display_data"
    },
    {
     "name": "stdout",
     "output_type": "stream",
     "text": [
      "volume\n"
     ]
    },
    {
     "data": {
      "image/png": "[encoded data removed]",
      "text/plain": [
       "<Figure size 518.4x320.4 with 1 Axes>"
      ]
     },
     "metadata": {
      "needs_background": "light"
     },
     "output_type": "display_data"
    },
    {
     "name": "stdout",
     "output_type": "stream",
     "text": [
      "dollar\n"
     ]
    },
    {
     "data": {
      "image/png": "[encoded data removed]",
      "text/plain": [
       "<Figure size 518.4x320.4 with 1 Axes>"
      ]
     },
     "metadata": {
      "needs_background": "light"
     },
     "output_type": "display_data"
    },
    {
     "name": "stdout",
     "output_type": "stream",
     "text": [
      "calendar\n"
     ]
    },
    {
     "data": {
      "image/png": "[encoded data removed]",
      "text/plain": [
       "<Figure size 518.4x320.4 with 1 Axes>"
      ]
     },
     "metadata": {
      "needs_background": "light"
     },
     "output_type": "display_data"
    }
   ],
   "source": [
    "bars = ['tick', 'volume', 'dollar', 'calendar']\n",
    "dict_dfa.keys()\n",
    "df = pd.DataFrame.from_dict(dict_dfa[dates[2]])\n",
    "for bar in bars:\n",
    "    print(bar)\n",
    "\n",
    "    F_choice = df[str(bar)]\n",
    "    H, H_intercept = H_dict[dates[1]][str(bar)]\n",
    "    plt.plot(np.log(n), np.log(F_choice), 'ro')\n",
    "    plt.plot(np.log(n), H_intercept+H*np.log(n), '--', label='H = {:.2f}'.format(H))\n",
    "    plt.xlabel('ln(n)', fontsize=14)\n",
    "    plt.ylabel('ln(F(n))', fontsize=14)\n",
    "    plt.title('DFA', fontsize=14)\n",
    "    plt.legend(loc=0, fontsize=14)\n",
    "    plt.show()\n"
   ]
  },
  {
   "cell_type": "code",
   "execution_count": 114,
   "id": "e65348df",
   "metadata": {},
   "outputs": [
    {
     "data": {
      "text/plain": [
       "<matplotlib.legend.Legend at 0x7f2fb29ead90>"
      ]
     },
     "execution_count": 114,
     "metadata": {},
     "output_type": "execute_result"
    },
    {
     "data": {
      "image/png": "[encoded data removed]",
      "text/plain": [
       "<Figure size 518.4x320.4 with 1 Axes>"
      ]
     },
     "metadata": {
      "needs_background": "light"
     },
     "output_type": "display_data"
    }
   ],
   "source": [
    "plt.plot(np.log(n), np.log(F_choice), 'ro')\n",
    "plt.plot(np.log(n), H_intercept+H*np.log(n), '--', label='H = {:.2f}'.format(H))\n",
    "plt.xlabel('ln(n)', fontsize=14)\n",
    "plt.ylabel('ln(F(n))', fontsize=14)\n",
    "plt.title('DFA', fontsize=14)\n",
    "plt.legend(loc=0, fontsize=14)"
   ]
  },
  {
   "cell_type": "code",
   "execution_count": 71,
   "id": "d99b60a8",
   "metadata": {},
   "outputs": [],
   "source": [
    "pkl_files = dict()\n",
    "for idx, file in enumerate(files):\n",
    "    file_path = os.path.join(path, file)\n",
    "    pkl_files[idx] =  open_pickle_filepath(file_path) "
   ]
  },
  {
   "cell_type": "code",
   "execution_count": 105,
   "id": "7fb46abe",
   "metadata": {},
   "outputs": [
    {
     "data": {
      "text/plain": [
       "array([ 5,  6,  7,  8,  9, 10, 11, 12, 13, 14, 15, 16, 17, 18, 19, 20, 21,\n",
       "       22, 23, 24, 25, 26, 27, 28, 29, 30, 31, 32, 33, 34, 35, 36, 37, 38,\n",
       "       39, 40, 41, 42, 43, 44, 45, 46, 47, 48, 49, 50, 51, 52, 53, 54, 55,\n",
       "       56, 57, 58, 59, 60], dtype=int32)"
      ]
     },
     "execution_count": 105,
     "metadata": {},
     "output_type": "execute_result"
    }
   ],
   "source": [
    "n"
   ]
  },
  {
   "cell_type": "code",
   "execution_count": 75,
   "id": "97bc3dd3",
   "metadata": {},
   "outputs": [],
   "source": [
    "example_dict =open_pickle_filepath('/media/ak/T7/MFDFA Experiments/JB1/DFA_n_f_values_bar_calendar_20180713.pkl')"
   ]
  },
  {
   "cell_type": "code",
   "execution_count": 77,
   "id": "07b31cba",
   "metadata": {},
   "outputs": [],
   "source": [
    "keys = list(example_dict.keys())"
   ]
  },
  {
   "cell_type": "code",
   "execution_count": 89,
   "id": "3556036c",
   "metadata": {},
   "outputs": [],
   "source": [
    "df =pd.DataFrame.from_dict(example_dict[keys[1]])\n",
    "bar_types =list(df.columns.values)\n",
    "n = df.index.values"
   ]
  },
  {
   "cell_type": "code",
   "execution_count": 95,
   "id": "34de6852",
   "metadata": {},
   "outputs": [
    {
     "data": {
      "text/plain": [
       "array([1.84458808e-05, 4.40209669e-05, 5.37404967e-05, 4.75188664e-05,\n",
       "       4.40879580e-05, 7.43525960e-05, 6.55099715e-05, 8.14176762e-05,\n",
       "       6.78312343e-05, 7.94319135e-05, 9.46570720e-05, 7.37563653e-05,\n",
       "       9.37230283e-05, 7.80720579e-05, 9.94755986e-05, 1.07885922e-04,\n",
       "       1.03720524e-04, 9.83538116e-05, 1.07626294e-04, 1.24415989e-04,\n",
       "       1.10781042e-04, 1.11266692e-04, 9.90731539e-05, 1.19120498e-04,\n",
       "       1.10101972e-04, 1.22131556e-04, 1.30134796e-04, 1.11319220e-04,\n",
       "       1.32072638e-04, 1.30362225e-04, 1.33715464e-04, 1.41124543e-04,\n",
       "       1.44998563e-04, 1.47388231e-04, 1.48269865e-04, 1.75947177e-04,\n",
       "       1.74955131e-04, 1.74634252e-04, 1.73484303e-04, 1.71709913e-04,\n",
       "       1.68859001e-04, 1.66475007e-04, 1.63355371e-04, 1.64374192e-04,\n",
       "       1.64701288e-04, 1.62830127e-04, 1.59731919e-04, 1.53228124e-04,\n",
       "       1.43499583e-04, 1.21851789e-04, 1.38010548e-04, 1.46045849e-04,\n",
       "       1.49206269e-04, 1.51881918e-04, 1.52269643e-04, 1.51346541e-04])"
      ]
     },
     "execution_count": 95,
     "metadata": {},
     "output_type": "execute_result"
    }
   ],
   "source": [
    "\n",
    "F"
   ]
  },
  {
   "cell_type": "code",
   "execution_count": 98,
   "id": "6a73a644",
   "metadata": {},
   "outputs": [
    {
     "data": {
      "text/plain": [
       "<matplotlib.legend.Legend at 0x7f2feb26f610>"
      ]
     },
     "execution_count": 98,
     "metadata": {},
     "output_type": "execute_result"
    },
    {
     "data": {
      "image/png": "[encoded data removed]",
      "text/plain": [
       "<Figure size 518.4x320.4 with 1 Axes>"
      ]
     },
     "metadata": {
      "needs_background": "light"
     },
     "output_type": "display_data"
    }
   ],
   "source": [
    "F = df[bar_types[2]].values\n",
    "plt.plot(np.log(n), np.log(F), 'ro')\n",
    "plt.plot(np.log(n), H_intercept+H*np.log(n), '--', label='H = {:.2f}'.format(H))\n",
    "plt.xlabel('ln(n)', fontsize=14)\n",
    "plt.ylabel('ln(F(n))', fontsize=14)\n",
    "plt.title('DFA', fontsize=14)\n",
    "plt.legend(loc=0, fontsize=14)"
   ]
  },
  {
   "cell_type": "code",
   "execution_count": null,
   "id": "d2c6bd96",
   "metadata": {},
   "outputs": [],
   "source": []
  }
 ],
 "metadata": {
  "kernelspec": {
   "display_name": "Python 3",
   "language": "python",
   "name": "python3"
  },
  "language_info": {
   "codemirror_mode": {
    "name": "ipython",
    "version": 3
   },
   "file_extension": ".py",
   "mimetype": "text/x-python",
   "name": "python",
   "nbconvert_exporter": "python",
   "pygments_lexer": "ipython3",
   "version": "3.7.7"
  }
 },
 "nbformat": 4,
 "nbformat_minor": 5
}
