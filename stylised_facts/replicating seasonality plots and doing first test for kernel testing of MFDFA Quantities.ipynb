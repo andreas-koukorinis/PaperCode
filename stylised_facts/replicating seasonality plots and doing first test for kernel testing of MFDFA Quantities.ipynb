{
 "cells": [
  {
   "cell_type": "code",
   "execution_count": 1,
   "metadata": {},
   "outputs": [
    {
     "name": "stderr",
     "output_type": "stream",
     "text": [
      "In /home/ak/anaconda3/envs/mmd-kernels/lib/python3.7/site-packages/matplotlib/mpl-data/stylelib/_classic_test.mplstyle: \n",
      "The text.latex.unicode rcparam was deprecated in Matplotlib 3.0 and will be removed in 3.2.\n",
      "In /home/ak/anaconda3/envs/mmd-kernels/lib/python3.7/site-packages/matplotlib/mpl-data/stylelib/_classic_test.mplstyle: \n",
      "The savefig.frameon rcparam was deprecated in Matplotlib 3.1 and will be removed in 3.3.\n",
      "In /home/ak/anaconda3/envs/mmd-kernels/lib/python3.7/site-packages/matplotlib/mpl-data/stylelib/_classic_test.mplstyle: \n",
      "The pgf.debug rcparam was deprecated in Matplotlib 3.0 and will be removed in 3.2.\n",
      "In /home/ak/anaconda3/envs/mmd-kernels/lib/python3.7/site-packages/matplotlib/mpl-data/stylelib/_classic_test.mplstyle: \n",
      "The verbose.level rcparam was deprecated in Matplotlib 3.1 and will be removed in 3.3.\n",
      "In /home/ak/anaconda3/envs/mmd-kernels/lib/python3.7/site-packages/matplotlib/mpl-data/stylelib/_classic_test.mplstyle: \n",
      "The verbose.fileo rcparam was deprecated in Matplotlib 3.1 and will be removed in 3.3.\n"
     ]
    }
   ],
   "source": [
    "import os\n",
    "import numpy as np\n",
    "import pickle as pkl\n",
    "import pandas as pd\n",
    "import pickle\n",
    "from collections import defaultdict\n",
    "import sys\n",
    "sys.path.append('/home/ak/Documents/Research/PaperCode/stylised_facts')\n",
    "import lob_for_futures\n",
    "figures ='/home/ak/Documents/Research/Papers/figures/'\n",
    "\n",
    "##\n",
    "LaCie = '/media/ak/LaCie'\n",
    "T7 = '/media/ak/T7'\n",
    "FuturesDataSemiProcessed = os.path.join(T7, 'FuturesDataSemiProcessed')\n",
    "MFDFAData = os.path.join(T7, 'MFDFA Experiments')\n",
    "symbols = os.listdir(FuturesDataSemiProcessed)\n",
    "import matplotlib.pyplot as plt\n",
    "%matplotlib inline"
   ]
  },
  {
   "cell_type": "code",
   "execution_count": 2,
   "metadata": {},
   "outputs": [],
   "source": [
    "####\n",
    "def symbol_file_name_path(symbol, file_idx):\n",
    "    symbolPath = os.path.join(experimentsDestination, str(symbol))\n",
    "    file_names =sorted(os.listdir(symbolPath))\n",
    "    file_name =file_names[file_idx]\n",
    "    file_path =os.path.join(symbolPath, file_name)\n",
    "    return file_names, file_path\n",
    "def n_F(dicts, bar):\n",
    "    df = pd.DataFrame.from_dict(dicts[str(bar)])\n",
    "    n = df.index.values\n",
    "    F = df.median(axis=1).values\n",
    "    return n, F\n",
    "def h_params(h_dict, bar):\n",
    "    h_df = pd.DataFrame.from_dict(h_dict[str(bar)]).T.median(axis=0)\n",
    "    H_intercept = h_df[1]\n",
    "    H = h_df[0]\n",
    "    return H_intercept, H\n",
    "\n",
    "\n",
    "def open_pickle_filepath(pickle_file):\n",
    "    pickle_to_file = pickle.load(open(pickle_file, \"rb\"), encoding='latin1')\n",
    "\n",
    "    return pickle_to_file"
   ]
  },
  {
   "cell_type": "code",
   "execution_count": 3,
   "metadata": {},
   "outputs": [
    {
     "name": "stderr",
     "output_type": "stream",
     "text": [
      "/home/ak/anaconda3/envs/mmd-kernels/lib/python3.7/site-packages/tensorflow/python/framework/dtypes.py:516: FutureWarning: Passing (type, 1) or '1type' as a synonym of type is deprecated; in a future version of numpy, it will be understood as (type, (1,)) / '(1,)type'.\n",
      "  _np_qint8 = np.dtype([(\"qint8\", np.int8, 1)])\n",
      "/home/ak/anaconda3/envs/mmd-kernels/lib/python3.7/site-packages/tensorflow/python/framework/dtypes.py:517: FutureWarning: Passing (type, 1) or '1type' as a synonym of type is deprecated; in a future version of numpy, it will be understood as (type, (1,)) / '(1,)type'.\n",
      "  _np_quint8 = np.dtype([(\"quint8\", np.uint8, 1)])\n",
      "/home/ak/anaconda3/envs/mmd-kernels/lib/python3.7/site-packages/tensorflow/python/framework/dtypes.py:518: FutureWarning: Passing (type, 1) or '1type' as a synonym of type is deprecated; in a future version of numpy, it will be understood as (type, (1,)) / '(1,)type'.\n",
      "  _np_qint16 = np.dtype([(\"qint16\", np.int16, 1)])\n",
      "/home/ak/anaconda3/envs/mmd-kernels/lib/python3.7/site-packages/tensorflow/python/framework/dtypes.py:519: FutureWarning: Passing (type, 1) or '1type' as a synonym of type is deprecated; in a future version of numpy, it will be understood as (type, (1,)) / '(1,)type'.\n",
      "  _np_quint16 = np.dtype([(\"quint16\", np.uint16, 1)])\n",
      "/home/ak/anaconda3/envs/mmd-kernels/lib/python3.7/site-packages/tensorflow/python/framework/dtypes.py:520: FutureWarning: Passing (type, 1) or '1type' as a synonym of type is deprecated; in a future version of numpy, it will be understood as (type, (1,)) / '(1,)type'.\n",
      "  _np_qint32 = np.dtype([(\"qint32\", np.int32, 1)])\n",
      "/home/ak/anaconda3/envs/mmd-kernels/lib/python3.7/site-packages/tensorflow/python/framework/dtypes.py:525: FutureWarning: Passing (type, 1) or '1type' as a synonym of type is deprecated; in a future version of numpy, it will be understood as (type, (1,)) / '(1,)type'.\n",
      "  np_resource = np.dtype([(\"resource\", np.ubyte, 1)])\n",
      "/home/ak/anaconda3/envs/mmd-kernels/lib/python3.7/site-packages/tensorboard/compat/tensorflow_stub/dtypes.py:541: FutureWarning: Passing (type, 1) or '1type' as a synonym of type is deprecated; in a future version of numpy, it will be understood as (type, (1,)) / '(1,)type'.\n",
      "  _np_qint8 = np.dtype([(\"qint8\", np.int8, 1)])\n",
      "/home/ak/anaconda3/envs/mmd-kernels/lib/python3.7/site-packages/tensorboard/compat/tensorflow_stub/dtypes.py:542: FutureWarning: Passing (type, 1) or '1type' as a synonym of type is deprecated; in a future version of numpy, it will be understood as (type, (1,)) / '(1,)type'.\n",
      "  _np_quint8 = np.dtype([(\"quint8\", np.uint8, 1)])\n",
      "/home/ak/anaconda3/envs/mmd-kernels/lib/python3.7/site-packages/tensorboard/compat/tensorflow_stub/dtypes.py:543: FutureWarning: Passing (type, 1) or '1type' as a synonym of type is deprecated; in a future version of numpy, it will be understood as (type, (1,)) / '(1,)type'.\n",
      "  _np_qint16 = np.dtype([(\"qint16\", np.int16, 1)])\n",
      "/home/ak/anaconda3/envs/mmd-kernels/lib/python3.7/site-packages/tensorboard/compat/tensorflow_stub/dtypes.py:544: FutureWarning: Passing (type, 1) or '1type' as a synonym of type is deprecated; in a future version of numpy, it will be understood as (type, (1,)) / '(1,)type'.\n",
      "  _np_quint16 = np.dtype([(\"quint16\", np.uint16, 1)])\n",
      "/home/ak/anaconda3/envs/mmd-kernels/lib/python3.7/site-packages/tensorboard/compat/tensorflow_stub/dtypes.py:545: FutureWarning: Passing (type, 1) or '1type' as a synonym of type is deprecated; in a future version of numpy, it will be understood as (type, (1,)) / '(1,)type'.\n",
      "  _np_qint32 = np.dtype([(\"qint32\", np.int32, 1)])\n",
      "/home/ak/anaconda3/envs/mmd-kernels/lib/python3.7/site-packages/tensorboard/compat/tensorflow_stub/dtypes.py:550: FutureWarning: Passing (type, 1) or '1type' as a synonym of type is deprecated; in a future version of numpy, it will be understood as (type, (1,)) / '(1,)type'.\n",
      "  np_resource = np.dtype([(\"resource\", np.ubyte, 1)])\n"
     ]
    }
   ],
   "source": [
    "import stylised_facts_data_utilities.mmd as mmd\n",
    "import stylised_facts_data_utilities.ksd as ksd\n",
    "import stylised_facts_data_utilities.longtaildistr as ltd\n",
    "from scipy import stats"
   ]
  },
  {
   "cell_type": "code",
   "execution_count": 4,
   "metadata": {},
   "outputs": [
    {
     "data": {
      "text/plain": [
       "['DFA_h_dict_valuesvolume_width100calendar_resample300S_bar_20180524_calendar.pkl',\n",
       " 'DFA_n_f_valuesvolume_width100calendar_resample300S_bar_20180524_calendar.pkl',\n",
       " 'DFA_n_f_valuesvolume_width100calendar_resample300S_bar_20180815_calendar.pkl',\n",
       " 'MDFA_H_dictvolume_width100calendar_resample300S_bar_20180524_calendar.pkl',\n",
       " 'MDFA_H_dictvolume_width100calendar_resample300S_bar_20180815_calendar.pkl',\n",
       " 'MDFA_TAU_DICTvolume_width100calendar_resample300S_bar_20180524_calendar.pkl',\n",
       " 'MDFA_TAU_DICTvolume_width100calendar_resample300S_bar_20180815_calendar.pkl',\n",
       " 'MDFA_alpha_spectvolume_width100calendar_resample300S_bar_20180524_calendar.pkl',\n",
       " 'MDFA_alpha_spectvolume_width100calendar_resample300S_bar_20180815_calendar.pkl',\n",
       " 'MDFA_n_f_valuesvolume_width100calendar_resample300S_bar_20180524_calendar.pkl',\n",
       " 'MDFA_n_f_valuesvolume_width100calendar_resample300S_bar_20180815_calendar.pkl']"
      ]
     },
     "execution_count": 4,
     "metadata": {},
     "output_type": "execute_result"
    }
   ],
   "source": [
    "symbol ='JB1'\n",
    "experimentsDestination = '/media/ak/T7/MFDFA Experiments/' # where all the MFDFA results are stored\n",
    "files = sorted(os.listdir(os.path.join('/media/ak/T7/MFDFA Experiments/', symbol))) # where the specific MFDFA results are\n",
    "files # just a printout of which files are in there"
   ]
  },
  {
   "cell_type": "code",
   "execution_count": 5,
   "metadata": {},
   "outputs": [
    {
     "name": "stdout",
     "output_type": "stream",
     "text": [
      "/media/ak/T7/MFDFA Experiments/JB1/MDFA_TAU_DICTvolume_width100calendar_resample300S_bar_20180524_calendar.pkl\n"
     ]
    }
   ],
   "source": [
    "## 'MFDFA_H_values_bar_calendar\n",
    "mfdfa_alpha_spect_pickle_file_path = os.path.join(experimentsDestination,symbol, files[4]) # this is the h_dict mfdfa\n",
    "\n",
    "mfdfa_tau_dict_file_path = os.path.join(experimentsDestination,symbol, files[3]) # this is the h_dict mfdfa\n",
    "\n",
    "mfdfa_n_f_file_path = os.path.join(experimentsDestination,symbol,  files[2]) # this is the mfdfa\n",
    "mfdfa_h_dict_path = os.path.join(experimentsDestination,symbol,  files[5])\n",
    "print(mfdfa_h_dict_path )"
   ]
  },
  {
   "cell_type": "code",
   "execution_count": 6,
   "metadata": {},
   "outputs": [],
   "source": [
    "# f(a) versus a across different days"
   ]
  },
  {
   "cell_type": "code",
   "execution_count": 7,
   "metadata": {},
   "outputs": [
    {
     "name": "stdout",
     "output_type": "stream",
     "text": [
      "/media/ak/T7/MFDFA Experiments/JB1/DFA_n_f_valuesvolume_width100calendar_resample300S_bar_20180815_calendar.pkl\n"
     ]
    }
   ],
   "source": [
    "H_dicts = open_pickle_filepath(mfdfa_tau_dict_file_path)\n",
    "# returns h_dict[j][i] = [H, H_intercept] # bar/date: H, H_intercept\n",
    "barIdx =0 #0:tick, 1:volume\n",
    "bars = ['tick', 'volume', 'dollar', 'calendar']\n",
    "dates = list(H_dicts[bars[barIdx]].keys())\n",
    "\n",
    "MFDFA_n_f_dicts = open_pickle_filepath(mfdfa_n_f_file_path)\n",
    "print(mfdfa_n_f_file_path)\n",
    "dicts= open_pickle_filepath(mfdfa_h_dict_path)"
   ]
  },
  {
   "cell_type": "code",
   "execution_count": 8,
   "metadata": {},
   "outputs": [
    {
     "data": {
      "text/plain": [
       "defaultdict(dict,\n",
       "            {'tick': {'20180511': [0.3773636043765493, -11.18092932433365],\n",
       "              '20180921': [0.7560222747891417, -10.802837973053359],\n",
       "              '20180815': [0.6421933890882178, -10.524574826244786]},\n",
       "             'volume': {'20180511': [0.3828297267522325, -11.775165702459413],\n",
       "              '20180921': [0.5773979411401546, -11.252898820034455],\n",
       "              '20180815': [0.5980622702297081, -11.484522423227558]},\n",
       "             'dollar': {'20180511': [0.5140781830684408, -12.878237878888086],\n",
       "              '20180921': [0.5906936150677582, -12.372903976075698],\n",
       "              '20180815': [0.6180008961663104, -12.557547857002998]},\n",
       "             'calendar': {'20180511': [0.4815321592958882, -11.91409237418691],\n",
       "              '20180921': [0.6242972604116319, -10.631798133869278],\n",
       "              '20180815': [0.5712178303953845, -10.609584788723971]}})"
      ]
     },
     "execution_count": 8,
     "metadata": {},
     "output_type": "execute_result"
    }
   ],
   "source": [
    "MFDFA_n_f_dicts"
   ]
  },
  {
   "cell_type": "code",
   "execution_count": 9,
   "metadata": {},
   "outputs": [],
   "source": [
    "bar_choice = bars[barIdx]\n",
    "# tick bar\n",
    "mfSpect_tick =list()\n",
    "alpha_tick =list()\n",
    "# dollar bar\n",
    "mfSpect_dollar =list()\n",
    "alpha_dollar =list()\n",
    "\n",
    "# # calendar bar\n",
    "mfSpect_calendar =list()\n",
    "alpha_calendar =list()\n",
    "\n",
    "# calendar bar\n",
    "mfSpect_volume =list()\n",
    "alpha_volume =list()\n",
    "\n",
    "\n",
    "for i in range(len(dates)):\n",
    "    mfSpect_tick.append(dicts[str(bar_choice)][dates[i]][0])\n",
    "    alpha_tick.append(dicts[str(bar_choice)][dates[i]][1])\n",
    "    # dollar\n",
    "    mfSpect_dollar.append(dicts['dollar'][dates[i]][0])\n",
    "    alpha_dollar.append(dicts['dollar'][dates[i]][1])\n",
    "    # calendar\n",
    "    mfSpect_calendar.append(dicts['calendar'][dates[i]][0])\n",
    "    alpha_calendar.append(dicts['calendar'][dates[i]][1])\n",
    "    # usd volume\n",
    "    mfSpect_volume.append(dicts['volume'][dates[i]][0])\n",
    "    alpha_volume.append(dicts['volume'][dates[i]][1])\n",
    "    "
   ]
  },
  {
   "cell_type": "code",
   "execution_count": 10,
   "metadata": {},
   "outputs": [],
   "source": [
    "'tick'\n",
    "x_tick = pd.DataFrame(list(map(np.ravel, mfSpect_tick))).median(axis=0)\n",
    "y_tick = pd.DataFrame(list(map(np.ravel, alpha_tick))).median(axis=0)\n",
    "'dollar'\n",
    "x_dollar = pd.DataFrame(list(map(np.ravel, mfSpect_dollar))).median(axis=0)\n",
    "y_dollar = pd.DataFrame(list(map(np.ravel, alpha_dollar))).median(axis=0)\n",
    "\n",
    "'calendar'\n",
    "x_calendar = pd.DataFrame(list(map(np.ravel, mfSpect_calendar))).median(axis=0)\n",
    "y_calendar = pd.DataFrame(list(map(np.ravel, alpha_calendar))).median(axis=0)\n",
    "\n",
    "'volume'\n",
    "x_volume = pd.DataFrame(list(map(np.ravel, mfSpect_volume))).median(axis=0)\n",
    "y_volume = pd.DataFrame(list(map(np.ravel, alpha_volume))).median(axis=0)\n"
   ]
  },
  {
   "cell_type": "code",
   "execution_count": 12,
   "metadata": {},
   "outputs": [
    {
     "data": {
      "image/png": "[encoded data removed]",
      "text/plain": [
       "<Figure size 432x288 with 1 Axes>"
      ]
     },
     "metadata": {},
     "output_type": "display_data"
    }
   ],
   "source": [
    "_ = plt.hist(mfSpect_calendar, bins =50)\n",
    "_ = plt.hist(mfSpect_volume, bins =50, color ='red', alpha =0.3)\n",
    "_ = plt.hist(mfSpect_tick, bins =50, color ='g', alpha =0.3)\n"
   ]
  },
  {
   "cell_type": "code",
   "execution_count": 14,
   "metadata": {},
   "outputs": [],
   "source": [
    "import seaborn as sns\n",
    "\n",
    "df_list = [pd.Series(mfSpect_tick), pd.Series(mfSpect_volume), pd.Series(mfSpect_calendar), pd.Series(mfSpect_dollar)]\n",
    "all_dfs = pd.concat(df_list, axis=1)\n",
    "all_dfs.columns = [ 'tick', 'volume', 'calendar', 'dollar' ]\n"
   ]
  },
  {
   "cell_type": "code",
   "execution_count": 15,
   "metadata": {},
   "outputs": [
    {
     "name": "stderr",
     "output_type": "stream",
     "text": [
      "/home/ak/anaconda3/envs/mmd-kernels/lib/python3.7/site-packages/numpy/core/_asarray.py:102: VisibleDeprecationWarning: Creating an ndarray from ragged nested sequences (which is a list-or-tuple of lists-or-tuples-or ndarrays with different lengths or shapes) is deprecated. If you meant to do this, you must specify 'dtype=object' when creating the ndarray.\n",
      "  return array(a, dtype, copy=False, order=order)\n",
      "No handles with labels found to put in legend.\n"
     ]
    },
    {
     "data": {
      "text/plain": [
       "<matplotlib.legend.Legend at 0x7fad5ebd6e50>"
      ]
     },
     "execution_count": 15,
     "metadata": {},
     "output_type": "execute_result"
    },
    {
     "data": {
      "image/png": "[encoded data removed]",
      "text/plain": [
       "<Figure size 432x288 with 1 Axes>"
      ]
     },
     "metadata": {},
     "output_type": "display_data"
    }
   ],
   "source": [
    "boxprops = dict(linestyle='--', linewidth=3, color='darkgoldenrod')\n",
    "flierprops = dict(marker='o', markerfacecolor='green', markersize=12,\n",
    "                  markeredgecolor='none')\n",
    "medianprops = dict(linestyle='-.', linewidth=2.5, color='firebrick')\n",
    "meanpointprops = dict(marker='D', markeredgecolor='black',\n",
    "                      markerfacecolor='firebrick')\n",
    "meanlineprops = dict(linestyle='--', linewidth=2.5, color='purple')\n",
    "all_dfs.boxplot(grid=False, rot=45, meanprops=meanlineprops, meanline=True,\n",
    "                  showmeans=True)\n",
    "\n",
    "\n",
    "plt.legend()"
   ]
  },
  {
   "cell_type": "code",
   "execution_count": 41,
   "metadata": {},
   "outputs": [],
   "source": [
    "#multifractal spectral width given the change in clock, describe the reasons why this could be the case\n",
    "# will that make the distributions be different?"
   ]
  },
  {
   "cell_type": "code",
   "execution_count": 45,
   "metadata": {},
   "outputs": [
    {
     "data": {
      "text/plain": [
       "-14.798234140735929"
      ]
     },
     "execution_count": 45,
     "metadata": {},
     "output_type": "execute_result"
    }
   ],
   "source": []
  },
  {
   "cell_type": "code",
   "execution_count": null,
   "metadata": {},
   "outputs": [],
   "source": []
  }
 ],
 "metadata": {
  "kernelspec": {
   "display_name": "Python 3",
   "language": "python",
   "name": "python3"
  },
  "language_info": {
   "codemirror_mode": {
    "name": "ipython",
    "version": 3
   },
   "file_extension": ".py",
   "mimetype": "text/x-python",
   "name": "python",
   "nbconvert_exporter": "python",
   "pygments_lexer": "ipython3",
   "version": "3.7.7"
  },
  "latex_envs": {
   "LaTeX_envs_menu_present": true,
   "autoclose": false,
   "autocomplete": true,
   "bibliofile": "biblio.bib",
   "cite_by": "apalike",
   "current_citInitial": 1,
   "eqLabelWithNumbers": true,
   "eqNumInitial": 1,
   "hotkeys": {
    "equation": "Ctrl-E",
    "itemize": "Ctrl-I"
   },
   "labels_anchors": false,
   "latex_user_defs": false,
   "report_style_numbering": false,
   "user_envs_cfg": false
  }
 },
 "nbformat": 4,
 "nbformat_minor": 4
}
