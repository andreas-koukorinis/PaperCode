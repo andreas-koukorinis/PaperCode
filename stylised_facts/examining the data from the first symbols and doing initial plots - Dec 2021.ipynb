{
 "cells": [
  {
   "cell_type": "code",
   "execution_count": 1,
   "id": "universal-married",
   "metadata": {},
   "outputs": [
    {
     "name": "stderr",
     "output_type": "stream",
     "text": [
      "/home/ak/.local/lib/python3.6/site-packages/statsmodels/tools/_testing.py:19: FutureWarning: pandas.util.testing is deprecated. Use the functions in the public API at pandas.testing instead.\n",
      "  import pandas.util.testing as tm\n",
      "/home/ak/anaconda3/envs/ds3_kernels/lib/python3.6/site-packages/outdated/utils.py:18: OutdatedPackageWarning: The package pingouin is out of date. Your version is 0.3.12, the latest is 0.5.0.\n",
      "Set the environment variable OUTDATED_IGNORE=1 to disable these warnings.\n",
      "  **kwargs\n"
     ]
    }
   ],
   "source": [
    "import numpy as np\n",
    "import matplotlib.pyplot as plt\n",
    "import pandas as pd\n",
    "import numpy as np\n",
    "import os\n",
    "import lob_for_futures as lobFut\n",
    "from lob_for_futures import *\n",
    "import os\n",
    "import matplotlib.pyplot as plt\n",
    "\n",
    "from dateutil.parser import parse\n",
    "from pandas.tseries.offsets import BDay\n",
    "import pickle as pkl\n",
    "import fnmatch\n",
    "import pickle\n",
    "import datetime as dt\n",
    "from datetime import timedelta\n",
    "import glob\n",
    "import fathon\n",
    "from fathon import fathonUtils as fu\n",
    "import itertools\n",
    "import pyinform as pyinf\n",
    "import pingouin as pig\n",
    "from scipy.stats import entropy\n",
    "from scipy.spatial.distance import jensenshannon\n",
    "from scipy.special import kl_div\n",
    "import time\n",
    "import matplotlib.ticker as mtick\n",
    "dataFolder = lobFut.dataFolder\n",
    "quotes = [f for f in os.listdir(dataFolder) if str('_quotes') in f]\n",
    "trades = [f for f in os.listdir(dataFolder) if str('_trades') in f]\n",
    "\n",
    "# symbolIdx = 0\n",
    "\n",
    "symbols = [f.split(\"_\")[0] for f in quotes]\n",
    "\n",
    "trades_cols = ['size', 'time', 'type', 'value']\n",
    "experimentsDestination = '/media/ak/T7/MFDFA Experiments'\n",
    "plt.style.use(os.path.join('/home/ak/.config/matplotlib','latexstyle.mplstyle'))"
   ]
  },
  {
   "cell_type": "code",
   "execution_count": null,
   "id": "conditional-province",
   "metadata": {},
   "outputs": [],
   "source": [
    "import pickle\n",
    "import resource\n",
    "import sys\n",
    "\n",
    "print (resource.getrlimit(resource.RLIMIT_STACK))\n",
    "print (sys.getrecursionlimit())\n",
    "\n",
    "max_rec = 0x100000\n",
    "\n",
    "# May segfault without this line. 0x100 is a guess at the size of each stack frame.\n",
    "resource.setrlimit(resource.RLIMIT_STACK, [0x100 * max_rec, resource.RLIM_INFINITY])\n",
    "sys.setrecursionlimit(max_rec)"
   ]
  },
  {
   "cell_type": "code",
   "execution_count": 2,
   "id": "roman-toner",
   "metadata": {},
   "outputs": [],
   "source": [
    "\n",
    "\n",
    "def open_pickle_file(path, pickle_file):\n",
    "    file_loc = os.path.join(path, pickle_file)\n",
    "    pickle_to_file = pkl.load(open(file_loc, \"rb\"))\n",
    "    return pickle_to_file"
   ]
  },
  {
   "cell_type": "code",
   "execution_count": 3,
   "id": "local-journalist",
   "metadata": {},
   "outputs": [
    {
     "data": {
      "text/plain": [
       "'/media/ak/T7/FuturesDataSemiProcessed/RX1'"
      ]
     },
     "execution_count": 3,
     "metadata": {},
     "output_type": "execute_result"
    }
   ],
   "source": [
    "informationClockFolder = '/media/ak/T7/FuturesDataSemiProcessed'\n",
    "symbolDataFolder  = os.path.join(informationClockFolder, symbols[4])\n",
    "symbolDataFolder"
   ]
  },
  {
   "cell_type": "code",
   "execution_count": 4,
   "id": "rental-beginning",
   "metadata": {},
   "outputs": [],
   "source": [
    "files  = os.listdir(symbolDataFolder)\n",
    "returnsFiles = [f for f in files if str('Returns') in f]"
   ]
  },
  {
   "cell_type": "markdown",
   "id": "perfect-tongue",
   "metadata": {},
   "source": [
    "## returns file"
   ]
  },
  {
   "cell_type": "code",
   "execution_count": 17,
   "id": "british-indiana",
   "metadata": {},
   "outputs": [],
   "source": [
    "unpickled_dict = open_pickle_file(symbolDataFolder, returnsFiles[1])\n",
    "date = list(unpickled_dict.keys())\n",
    "bar_dict = unpickled_dict[date[0]]"
   ]
  },
  {
   "cell_type": "code",
   "execution_count": 18,
   "id": "negative-julian",
   "metadata": {},
   "outputs": [],
   "source": [
    "bars  = list(bar_dict.keys())"
   ]
  },
  {
   "cell_type": "code",
   "execution_count": 29,
   "id": "sticky-duration",
   "metadata": {},
   "outputs": [
    {
     "data": {
      "text/plain": [
       "volume_bucket\n",
       "2.0       -0.000069\n",
       "3.0        0.000003\n",
       "4.0        0.000003\n",
       "5.0        0.000001\n",
       "6.0       -0.000023\n",
       "             ...   \n",
       "66668.0    0.000006\n",
       "66669.0    0.000005\n",
       "66670.0    0.000001\n",
       "66671.0   -0.000001\n",
       "66672.0   -0.000007\n",
       "Length: 55665, dtype: float64"
      ]
     },
     "execution_count": 29,
     "metadata": {},
     "output_type": "execute_result"
    }
   ],
   "source": [
    "bar_dict[bars[1]]"
   ]
  },
  {
   "cell_type": "markdown",
   "id": "desperate-chase",
   "metadata": {},
   "source": [
    "## mfdfa file "
   ]
  },
  {
   "cell_type": "code",
   "execution_count": 21,
   "id": "sustained-delivery",
   "metadata": {},
   "outputs": [],
   "source": [
    "unpickled_mfdfa_dict = open_pickle_file(symbolDataFolder, files[1])\n",
    "date = list(unpickled_mfdfa_dict.keys())\n",
    "bar_dict = unpickled_mfdfa_dict[date[0]]\n",
    "mfdfa_dict = bar_dict[bars[0]]"
   ]
  },
  {
   "cell_type": "code",
   "execution_count": 28,
   "id": "amber-lambda",
   "metadata": {},
   "outputs": [
    {
     "data": {
      "text/plain": [
       "volume_bucket\n",
       "2.0       -0.000069\n",
       "3.0        0.000003\n",
       "4.0        0.000003\n",
       "5.0        0.000001\n",
       "6.0       -0.000023\n",
       "             ...   \n",
       "66668.0    0.000006\n",
       "66669.0    0.000005\n",
       "66670.0    0.000001\n",
       "66671.0   -0.000001\n",
       "66672.0   -0.000007\n",
       "Length: 55665, dtype: float64"
      ]
     },
     "execution_count": 28,
     "metadata": {},
     "output_type": "execute_result"
    }
   ],
   "source": [
    "unpickled_mfdfa_dict[date[0]]['volume']"
   ]
  },
  {
   "cell_type": "code",
   "execution_count": 30,
   "id": "cordless-mailing",
   "metadata": {},
   "outputs": [
    {
     "data": {
      "text/plain": [
       "['20180709.pkl',\n",
       " 'Returns_20180709.pkl',\n",
       " '20180430.pkl',\n",
       " 'Returns_20180430.pkl',\n",
       " '20180504.pkl',\n",
       " 'Returns_20180504.pkl',\n",
       " '20180517.pkl',\n",
       " 'Returns_20180517.pkl',\n",
       " '20180607.pkl',\n",
       " 'Returns_20180607.pkl',\n",
       " '20180824.pkl',\n",
       " 'Returns_20180824.pkl',\n",
       " '20180719.pkl',\n",
       " 'Returns_20180719.pkl',\n",
       " '20180910.pkl',\n",
       " 'Returns_20180910.pkl',\n",
       " '20180724.pkl',\n",
       " 'Returns_20180724.pkl',\n",
       " '20180601.pkl',\n",
       " 'Returns_20180601.pkl',\n",
       " '20180529.pkl',\n",
       " 'Returns_20180529.pkl',\n",
       " '20180531.pkl',\n",
       " 'Returns_20180531.pkl',\n",
       " '20180827.pkl',\n",
       " 'Returns_20180827.pkl',\n",
       " '20180822.pkl',\n",
       " 'Returns_20180822.pkl',\n",
       " '20181010.pkl',\n",
       " 'Returns_20181010.pkl',\n",
       " '20180522.pkl',\n",
       " 'Returns_20180522.pkl',\n",
       " '20180806.pkl',\n",
       " 'Returns_20180806.pkl',\n",
       " '20180417.pkl',\n",
       " 'Returns_20180417.pkl',\n",
       " '20180723.pkl',\n",
       " 'Returns_20180723.pkl',\n",
       " '20180924.pkl',\n",
       " 'Returns_20180924.pkl',\n",
       " '20180717.pkl',\n",
       " 'Returns_20180717.pkl',\n",
       " '20180605.pkl',\n",
       " 'Returns_20180605.pkl',\n",
       " '20180524.pkl',\n",
       " 'Returns_20180524.pkl',\n",
       " '20180829.pkl',\n",
       " 'Returns_20180829.pkl',\n",
       " '20180911.pkl',\n",
       " 'Returns_20180911.pkl',\n",
       " '20180921.pkl',\n",
       " 'Returns_20180921.pkl',\n",
       " '20180419.pkl',\n",
       " 'Returns_20180419.pkl',\n",
       " '20180725.pkl',\n",
       " 'Returns_20180725.pkl',\n",
       " '20181009.pkl',\n",
       " 'Returns_20181009.pkl',\n",
       " '20181016.pkl',\n",
       " '20180821.pkl',\n",
       " 'Returns_20181016.pkl',\n",
       " 'Returns_20180821.pkl',\n",
       " '20180427.pkl',\n",
       " '20180913.pkl',\n",
       " 'Returns_20180427.pkl',\n",
       " 'Returns_20180913.pkl',\n",
       " '20180820.pkl',\n",
       " 'Returns_20180820.pkl',\n",
       " '20180809.pkl',\n",
       " '20180625.pkl',\n",
       " 'Returns_20180809.pkl',\n",
       " 'Returns_20180625.pkl',\n",
       " '20180425.pkl',\n",
       " '20180802.pkl',\n",
       " 'Returns_20180425.pkl',\n",
       " 'Returns_20180802.pkl',\n",
       " '20180416.pkl',\n",
       " 'Returns_20180416.pkl',\n",
       " '20180918.pkl',\n",
       " 'Returns_20180918.pkl',\n",
       " '20180628.pkl',\n",
       " '20180613.pkl',\n",
       " 'Returns_20180628.pkl',\n",
       " 'Returns_20180613.pkl',\n",
       " '20180518.pkl',\n",
       " 'Returns_20180518.pkl',\n",
       " '20180917.pkl',\n",
       " 'Returns_20180917.pkl',\n",
       " '20180509.pkl',\n",
       " 'Returns_20180509.pkl',\n",
       " '20180926.pkl',\n",
       " 'Returns_20180926.pkl',\n",
       " '20180706.pkl',\n",
       " 'Returns_20180706.pkl',\n",
       " '20180828.pkl',\n",
       " 'Returns_20180828.pkl',\n",
       " '20180813.pkl',\n",
       " '20181015.pkl',\n",
       " 'Returns_20180813.pkl',\n",
       " 'Returns_20181015.pkl',\n",
       " '20181024.pkl',\n",
       " 'Returns_20181024.pkl',\n",
       " '20181023.pkl',\n",
       " '20181017.pkl',\n",
       " 'Returns_20181023.pkl',\n",
       " 'Returns_20181017.pkl',\n",
       " '20180614.pkl',\n",
       " '20180619.pkl',\n",
       " 'Returns_20180614.pkl',\n",
       " 'Returns_20180619.pkl',\n",
       " '20180731.pkl',\n",
       " 'Returns_20180731.pkl',\n",
       " '20180831.pkl',\n",
       " 'Returns_20180831.pkl',\n",
       " '20180606.pkl',\n",
       " 'Returns_20180606.pkl',\n",
       " '20180928.pkl',\n",
       " 'Returns_20180928.pkl',\n",
       " '20181018.pkl',\n",
       " 'Returns_20181018.pkl',\n",
       " '20181004.pkl',\n",
       " '20180629.pkl',\n",
       " 'Returns_20181004.pkl',\n",
       " 'Returns_20180629.pkl',\n",
       " '20180703.pkl',\n",
       " 'Returns_20180703.pkl',\n",
       " '20180528.pkl',\n",
       " 'Returns_20180528.pkl',\n",
       " '20180521.pkl',\n",
       " 'Returns_20180521.pkl',\n",
       " '20181008.pkl',\n",
       " '20180816.pkl',\n",
       " 'Returns_20181008.pkl',\n",
       " 'Returns_20180816.pkl',\n",
       " '20180507.pkl',\n",
       " 'Returns_20180507.pkl',\n",
       " '20181026.pkl',\n",
       " '20180807.pkl',\n",
       " 'Returns_20181026.pkl',\n",
       " 'Returns_20180807.pkl',\n",
       " '20180907.pkl',\n",
       " 'Returns_20180907.pkl',\n",
       " '20181001.pkl',\n",
       " '20181012.pkl',\n",
       " 'Returns_20181001.pkl',\n",
       " 'Returns_20181012.pkl',\n",
       " '20180510.pkl',\n",
       " 'Returns_20180510.pkl',\n",
       " '20181002.pkl',\n",
       " 'Returns_20181002.pkl',\n",
       " '20180726.pkl',\n",
       " 'Returns_20180726.pkl',\n",
       " '20181003.pkl',\n",
       " '20180810.pkl',\n",
       " 'Returns_20181003.pkl',\n",
       " 'Returns_20180810.pkl',\n",
       " '20180712.pkl',\n",
       " 'Returns_20180712.pkl',\n",
       " '20180618.pkl',\n",
       " '20180608.pkl',\n",
       " 'Returns_20180618.pkl',\n",
       " 'Returns_20180608.pkl',\n",
       " '20180814.pkl',\n",
       " 'Returns_20180814.pkl',\n",
       " '20180621.pkl',\n",
       " 'Returns_20180621.pkl',\n",
       " '20180713.pkl',\n",
       " 'Returns_20180713.pkl',\n",
       " '20180611.pkl',\n",
       " 'Returns_20180611.pkl',\n",
       " '20180503.pkl',\n",
       " 'Returns_20180503.pkl',\n",
       " '20180620.pkl',\n",
       " 'Returns_20180620.pkl',\n",
       " '20180604.pkl',\n",
       " 'Returns_20180604.pkl',\n",
       " '20180823.pkl',\n",
       " 'Returns_20180823.pkl',\n",
       " '20180511.pkl',\n",
       " 'Returns_20180511.pkl',\n",
       " '20180705.pkl',\n",
       " 'Returns_20180705.pkl',\n",
       " '20180920.pkl',\n",
       " 'Returns_20180920.pkl',\n",
       " '20180912.pkl',\n",
       " 'Returns_20180912.pkl',\n",
       " '20180803.pkl',\n",
       " 'Returns_20180803.pkl',\n",
       " '20180612.pkl',\n",
       " 'Returns_20180612.pkl',\n",
       " '20180815.pkl',\n",
       " 'Returns_20180815.pkl',\n",
       " '20180808.pkl',\n",
       " 'Returns_20180808.pkl',\n",
       " '20180615.pkl',\n",
       " 'Returns_20180615.pkl',\n",
       " '20180727.pkl',\n",
       " '20181011.pkl',\n",
       " 'Returns_20180727.pkl',\n",
       " 'Returns_20181011.pkl',\n",
       " '20180914.pkl',\n",
       " '20180830.pkl',\n",
       " '20180508.pkl',\n",
       " 'Returns_20180508.pkl',\n",
       " '20180710.pkl',\n",
       " 'Returns_20180710.pkl',\n",
       " '20180720.pkl',\n",
       " 'Returns_20180720.pkl',\n",
       " '20180525.pkl',\n",
       " 'Returns_20180525.pkl',\n",
       " '20180626.pkl',\n",
       " 'Returns_20180626.pkl',\n",
       " '20180711.pkl',\n",
       " 'Returns_20180711.pkl',\n",
       " '20180627.pkl',\n",
       " 'Returns_20180627.pkl',\n",
       " '20180420.pkl',\n",
       " 'Returns_20180420.pkl',\n",
       " '20180514.pkl',\n",
       " '20180502.pkl',\n",
       " 'Returns_20180502.pkl',\n",
       " '20180927.pkl',\n",
       " 'Returns_20180927.pkl',\n",
       " '20180801.pkl',\n",
       " 'Returns_20180801.pkl',\n",
       " '20181025.pkl',\n",
       " 'Returns_20181025.pkl']"
      ]
     },
     "execution_count": 30,
     "metadata": {},
     "output_type": "execute_result"
    }
   ],
   "source": [
    "files"
   ]
  },
  {
   "cell_type": "code",
   "execution_count": null,
   "id": "touched-transcription",
   "metadata": {},
   "outputs": [],
   "source": []
  }
 ],
 "metadata": {
  "kernelspec": {
   "display_name": "Python 3",
   "language": "python",
   "name": "python3"
  },
  "language_info": {
   "codemirror_mode": {
    "name": "ipython",
    "version": 3
   },
   "file_extension": ".py",
   "mimetype": "text/x-python",
   "name": "python",
   "nbconvert_exporter": "python",
   "pygments_lexer": "ipython3",
   "version": "3.6.13"
  }
 },
 "nbformat": 4,
 "nbformat_minor": 5
}
