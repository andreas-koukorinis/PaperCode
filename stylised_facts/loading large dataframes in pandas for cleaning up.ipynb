{
 "cells": [
  {
   "cell_type": "code",
   "execution_count": 7,
   "metadata": {},
   "outputs": [],
   "source": [
    "import pandas as pd\n",
    "import pickle\n",
    "import os\n",
    "import glob"
   ]
  },
  {
   "cell_type": "code",
   "execution_count": 2,
   "metadata": {},
   "outputs": [],
   "source": [
    "inPath=  '/media/ak/My Passport/MarketData'\n",
    "fileName = 'RON_SOYMEAL_TICK_3years-N52799351.csv'\n",
    "outPath = '/media/ak/My Passport/MarketData'"
   ]
  },
  {
   "cell_type": "code",
   "execution_count": 3,
   "metadata": {},
   "outputs": [],
   "source": [
    "chunkSize = 4000"
   ]
  },
  {
   "cell_type": "code",
   "execution_count": 13,
   "metadata": {},
   "outputs": [],
   "source": [
    "# file location\n",
    "inPathFileName = os.path.join(inPath, fileName)\n"
   ]
  },
  {
   "cell_type": "code",
   "execution_count": 14,
   "metadata": {},
   "outputs": [],
   "source": [
    "reader = pd.read_csv(inPathFileName, chunksize= chunkSize, low_memory= False)"
   ]
  },
  {
   "cell_type": "code",
   "execution_count": 15,
   "metadata": {},
   "outputs": [],
   "source": [
    "for i, chunk in enumerate(reader):\n",
    "    outFile = os.path.join(outPath, \"data_{}.pkl\".format(i+1))\n",
    "    with open(outFile, \"wb\") as f:\n",
    "        pickle.dump(chunk,f, pickle.HIGHEST_PROTOCOL)"
   ]
  },
  {
   "cell_type": "code",
   "execution_count": 11,
   "metadata": {},
   "outputs": [],
   "source": [
    "pickle_path =outPath"
   ]
  },
  {
   "cell_type": "code",
   "execution_count": 18,
   "metadata": {},
   "outputs": [],
   "source": [
    "data_p_files=[]\n",
    "for name in glob.glob(pickle_path + \"/data_{}.pkl\".format(i+1)):\n",
    "    data_p_files.append(name)\n",
    "df = pd.DataFrame([])\n",
    "for i in range(len(data_p_files)):\n",
    "    df = df.append(pd.read_pickle(data_p_files[i]), ignore_index=True)\n"
   ]
  },
  {
   "cell_type": "code",
   "execution_count": 19,
   "metadata": {},
   "outputs": [
    {
     "data": {
      "text/html": [
       "<div>\n",
       "<style scoped>\n",
       "    .dataframe tbody tr th:only-of-type {\n",
       "        vertical-align: middle;\n",
       "    }\n",
       "\n",
       "    .dataframe tbody tr th {\n",
       "        vertical-align: top;\n",
       "    }\n",
       "\n",
       "    .dataframe thead th {\n",
       "        text-align: right;\n",
       "    }\n",
       "</style>\n",
       "<table border=\"1\" class=\"dataframe\">\n",
       "  <thead>\n",
       "    <tr style=\"text-align: right;\">\n",
       "      <th></th>\n",
       "      <th>#RIC</th>\n",
       "      <th>Date[G]</th>\n",
       "      <th>Time[G]</th>\n",
       "      <th>GMT Offset</th>\n",
       "      <th>Type</th>\n",
       "      <th>Price</th>\n",
       "      <th>Volume</th>\n",
       "      <th>Bid Price</th>\n",
       "      <th>Bid Size</th>\n",
       "      <th>Ask Price</th>\n",
       "      <th>Ask Size</th>\n",
       "      <th>Qualifiers</th>\n",
       "    </tr>\n",
       "  </thead>\n",
       "  <tbody>\n",
       "    <tr>\n",
       "      <th>0</th>\n",
       "      <td>ZMc1</td>\n",
       "      <td>02-MAY-2010</td>\n",
       "      <td>21:15:00.164</td>\n",
       "      <td>-5</td>\n",
       "      <td>Quote</td>\n",
       "      <td>NaN</td>\n",
       "      <td>NaN</td>\n",
       "      <td>285.5</td>\n",
       "      <td>2.0</td>\n",
       "      <td>NaN</td>\n",
       "      <td>NaN</td>\n",
       "      <td>BBO[MKT_ST_IND]</td>\n",
       "    </tr>\n",
       "    <tr>\n",
       "      <th>1</th>\n",
       "      <td>ZMc1</td>\n",
       "      <td>02-MAY-2010</td>\n",
       "      <td>21:15:00.164</td>\n",
       "      <td>-5</td>\n",
       "      <td>Quote</td>\n",
       "      <td>NaN</td>\n",
       "      <td>NaN</td>\n",
       "      <td>NaN</td>\n",
       "      <td>NaN</td>\n",
       "      <td>308.5</td>\n",
       "      <td>1.0</td>\n",
       "      <td>BBO[MKT_ST_IND]</td>\n",
       "    </tr>\n",
       "    <tr>\n",
       "      <th>2</th>\n",
       "      <td>ZMc1</td>\n",
       "      <td>02-MAY-2010</td>\n",
       "      <td>21:18:35.068</td>\n",
       "      <td>-5</td>\n",
       "      <td>Quote</td>\n",
       "      <td>NaN</td>\n",
       "      <td>NaN</td>\n",
       "      <td>289.8</td>\n",
       "      <td>2.0</td>\n",
       "      <td>NaN</td>\n",
       "      <td>NaN</td>\n",
       "      <td>IND[MKT_ST_IND]</td>\n",
       "    </tr>\n",
       "    <tr>\n",
       "      <th>3</th>\n",
       "      <td>ZMc1</td>\n",
       "      <td>02-MAY-2010</td>\n",
       "      <td>21:18:35.068</td>\n",
       "      <td>-5</td>\n",
       "      <td>Quote</td>\n",
       "      <td>NaN</td>\n",
       "      <td>NaN</td>\n",
       "      <td>NaN</td>\n",
       "      <td>NaN</td>\n",
       "      <td>308.5</td>\n",
       "      <td>1.0</td>\n",
       "      <td>IND[MKT_ST_IND]</td>\n",
       "    </tr>\n",
       "    <tr>\n",
       "      <th>4</th>\n",
       "      <td>ZMc1</td>\n",
       "      <td>02-MAY-2010</td>\n",
       "      <td>22:46:32.644</td>\n",
       "      <td>-5</td>\n",
       "      <td>Quote</td>\n",
       "      <td>NaN</td>\n",
       "      <td>NaN</td>\n",
       "      <td>NaN</td>\n",
       "      <td>NaN</td>\n",
       "      <td>297.9</td>\n",
       "      <td>3.0</td>\n",
       "      <td>IND[MKT_ST_IND]</td>\n",
       "    </tr>\n",
       "  </tbody>\n",
       "</table>\n",
       "</div>"
      ],
      "text/plain": [
       "   #RIC      Date[G]       Time[G]  GMT Offset   Type  Price  Volume  \\\n",
       "0  ZMc1  02-MAY-2010  21:15:00.164          -5  Quote    NaN     NaN   \n",
       "1  ZMc1  02-MAY-2010  21:15:00.164          -5  Quote    NaN     NaN   \n",
       "2  ZMc1  02-MAY-2010  21:18:35.068          -5  Quote    NaN     NaN   \n",
       "3  ZMc1  02-MAY-2010  21:18:35.068          -5  Quote    NaN     NaN   \n",
       "4  ZMc1  02-MAY-2010  22:46:32.644          -5  Quote    NaN     NaN   \n",
       "\n",
       "   Bid Price  Bid Size  Ask Price  Ask Size       Qualifiers  \n",
       "0      285.5       2.0        NaN       NaN  BBO[MKT_ST_IND]  \n",
       "1        NaN       NaN      308.5       1.0  BBO[MKT_ST_IND]  \n",
       "2      289.8       2.0        NaN       NaN  IND[MKT_ST_IND]  \n",
       "3        NaN       NaN      308.5       1.0  IND[MKT_ST_IND]  \n",
       "4        NaN       NaN      297.9       3.0  IND[MKT_ST_IND]  "
      ]
     },
     "execution_count": 19,
     "metadata": {},
     "output_type": "execute_result"
    }
   ],
   "source": [
    "df.head(5)"
   ]
  },
  {
   "cell_type": "code",
   "execution_count": 20,
   "metadata": {},
   "outputs": [
    {
     "data": {
      "text/plain": [
       "(4000, 12)"
      ]
     },
     "execution_count": 20,
     "metadata": {},
     "output_type": "execute_result"
    }
   ],
   "source": [
    "df.shape"
   ]
  },
  {
   "cell_type": "code",
   "execution_count": 21,
   "metadata": {},
   "outputs": [
    {
     "data": {
      "text/html": [
       "<div>\n",
       "<style scoped>\n",
       "    .dataframe tbody tr th:only-of-type {\n",
       "        vertical-align: middle;\n",
       "    }\n",
       "\n",
       "    .dataframe tbody tr th {\n",
       "        vertical-align: top;\n",
       "    }\n",
       "\n",
       "    .dataframe thead th {\n",
       "        text-align: right;\n",
       "    }\n",
       "</style>\n",
       "<table border=\"1\" class=\"dataframe\">\n",
       "  <thead>\n",
       "    <tr style=\"text-align: right;\">\n",
       "      <th></th>\n",
       "      <th>#RIC</th>\n",
       "      <th>Date[G]</th>\n",
       "      <th>Time[G]</th>\n",
       "      <th>GMT Offset</th>\n",
       "      <th>Type</th>\n",
       "      <th>Price</th>\n",
       "      <th>Volume</th>\n",
       "      <th>Bid Price</th>\n",
       "      <th>Bid Size</th>\n",
       "      <th>Ask Price</th>\n",
       "      <th>Ask Size</th>\n",
       "      <th>Qualifiers</th>\n",
       "    </tr>\n",
       "  </thead>\n",
       "  <tbody>\n",
       "    <tr>\n",
       "      <th>9</th>\n",
       "      <td>ZMc1</td>\n",
       "      <td>02-MAY-2010</td>\n",
       "      <td>23:00:01.161</td>\n",
       "      <td>-5</td>\n",
       "      <td>Trade</td>\n",
       "      <td>297.8</td>\n",
       "      <td>1.0</td>\n",
       "      <td>NaN</td>\n",
       "      <td>NaN</td>\n",
       "      <td>NaN</td>\n",
       "      <td>NaN</td>\n",
       "      <td>^[ACT_TP_1]; [HIGHTP_1]; [LOWTP_1];BBO[MKT_ST_...</td>\n",
       "    </tr>\n",
       "    <tr>\n",
       "      <th>10</th>\n",
       "      <td>ZMc1</td>\n",
       "      <td>02-MAY-2010</td>\n",
       "      <td>23:00:01.161</td>\n",
       "      <td>-5</td>\n",
       "      <td>Trade</td>\n",
       "      <td>297.8</td>\n",
       "      <td>1.0</td>\n",
       "      <td>NaN</td>\n",
       "      <td>NaN</td>\n",
       "      <td>NaN</td>\n",
       "      <td>NaN</td>\n",
       "      <td>^[ACT_TP_1];BBO[MKT_ST_IND]</td>\n",
       "    </tr>\n",
       "    <tr>\n",
       "      <th>11</th>\n",
       "      <td>ZMc1</td>\n",
       "      <td>02-MAY-2010</td>\n",
       "      <td>23:00:01.161</td>\n",
       "      <td>-5</td>\n",
       "      <td>Trade</td>\n",
       "      <td>297.8</td>\n",
       "      <td>1.0</td>\n",
       "      <td>NaN</td>\n",
       "      <td>NaN</td>\n",
       "      <td>NaN</td>\n",
       "      <td>NaN</td>\n",
       "      <td>^[ACT_TP_1];BBO[MKT_ST_IND]</td>\n",
       "    </tr>\n",
       "    <tr>\n",
       "      <th>13</th>\n",
       "      <td>ZMc1</td>\n",
       "      <td>02-MAY-2010</td>\n",
       "      <td>23:00:01.184</td>\n",
       "      <td>-5</td>\n",
       "      <td>Trade</td>\n",
       "      <td>297.8</td>\n",
       "      <td>1.0</td>\n",
       "      <td>NaN</td>\n",
       "      <td>NaN</td>\n",
       "      <td>NaN</td>\n",
       "      <td>NaN</td>\n",
       "      <td>^[ACT_TP_1];BBO[MKT_ST_IND]</td>\n",
       "    </tr>\n",
       "    <tr>\n",
       "      <th>15</th>\n",
       "      <td>ZMc1</td>\n",
       "      <td>02-MAY-2010</td>\n",
       "      <td>23:00:01.184</td>\n",
       "      <td>-5</td>\n",
       "      <td>Trade</td>\n",
       "      <td>297.7</td>\n",
       "      <td>NaN</td>\n",
       "      <td>NaN</td>\n",
       "      <td>NaN</td>\n",
       "      <td>NaN</td>\n",
       "      <td>NaN</td>\n",
       "      <td>A[ACT_TP_1];A[LOWTP_1];BBO[MKT_ST_IND];Low[USER]</td>\n",
       "    </tr>\n",
       "  </tbody>\n",
       "</table>\n",
       "</div>"
      ],
      "text/plain": [
       "    #RIC      Date[G]       Time[G]  GMT Offset   Type  Price  Volume  \\\n",
       "9   ZMc1  02-MAY-2010  23:00:01.161          -5  Trade  297.8     1.0   \n",
       "10  ZMc1  02-MAY-2010  23:00:01.161          -5  Trade  297.8     1.0   \n",
       "11  ZMc1  02-MAY-2010  23:00:01.161          -5  Trade  297.8     1.0   \n",
       "13  ZMc1  02-MAY-2010  23:00:01.184          -5  Trade  297.8     1.0   \n",
       "15  ZMc1  02-MAY-2010  23:00:01.184          -5  Trade  297.7     NaN   \n",
       "\n",
       "    Bid Price  Bid Size  Ask Price  Ask Size  \\\n",
       "9         NaN       NaN        NaN       NaN   \n",
       "10        NaN       NaN        NaN       NaN   \n",
       "11        NaN       NaN        NaN       NaN   \n",
       "13        NaN       NaN        NaN       NaN   \n",
       "15        NaN       NaN        NaN       NaN   \n",
       "\n",
       "                                           Qualifiers  \n",
       "9   ^[ACT_TP_1]; [HIGHTP_1]; [LOWTP_1];BBO[MKT_ST_...  \n",
       "10                        ^[ACT_TP_1];BBO[MKT_ST_IND]  \n",
       "11                        ^[ACT_TP_1];BBO[MKT_ST_IND]  \n",
       "13                        ^[ACT_TP_1];BBO[MKT_ST_IND]  \n",
       "15   A[ACT_TP_1];A[LOWTP_1];BBO[MKT_ST_IND];Low[USER]  "
      ]
     },
     "execution_count": 21,
     "metadata": {},
     "output_type": "execute_result"
    }
   ],
   "source": [
    "df[df['Type']=='Trade'].head(5)"
   ]
  },
  {
   "cell_type": "code",
   "execution_count": null,
   "metadata": {},
   "outputs": [],
   "source": []
  }
 ],
 "metadata": {
  "kernelspec": {
   "display_name": "Python 3",
   "language": "python",
   "name": "python3"
  },
  "language_info": {
   "codemirror_mode": {
    "name": "ipython",
    "version": 3
   },
   "file_extension": ".py",
   "mimetype": "text/x-python",
   "name": "python",
   "nbconvert_exporter": "python",
   "pygments_lexer": "ipython3",
   "version": "3.6.8"
  },
  "latex_envs": {
   "LaTeX_envs_menu_present": true,
   "autoclose": false,
   "autocomplete": true,
   "bibliofile": "biblio.bib",
   "cite_by": "apalike",
   "current_citInitial": 1,
   "eqLabelWithNumbers": true,
   "eqNumInitial": 1,
   "hotkeys": {
    "equation": "Ctrl-E",
    "itemize": "Ctrl-I"
   },
   "labels_anchors": false,
   "latex_user_defs": false,
   "report_style_numbering": false,
   "user_envs_cfg": false
  }
 },
 "nbformat": 4,
 "nbformat_minor": 2
}
