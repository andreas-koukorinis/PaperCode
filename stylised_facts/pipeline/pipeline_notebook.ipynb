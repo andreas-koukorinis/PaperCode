{
 "cells": [
  {
   "cell_type": "markdown",
   "metadata": {
    "collapsed": true,
    "pycharm": {
     "name": "#%% md\n"
    }
   },
   "source": [
    "## Imports"
   ]
  },
  {
   "cell_type": "code",
   "execution_count": 3,
   "metadata": {
    "pycharm": {
     "name": "#%%\n"
    }
   },
   "outputs": [],
   "source": [
    "import pandas as pd\n",
    "import json\n",
    "from process_data import DataLoader"
   ]
  },
  {
   "cell_type": "markdown",
   "metadata": {},
   "source": [
    "## Inputs"
   ]
  },
  {
   "cell_type": "code",
   "execution_count": null,
   "metadata": {
    "pycharm": {
     "name": "#%%\n"
    }
   },
   "outputs": [
    {
     "name": "stderr",
     "output_type": "stream",
     "text": [
      "2021-03-20 19:14:29,361 DataLoader  INFO Loading data for: 2020-03-07\n",
      "2021-03-20 19:14:53,179 DataLoader  INFO Successfully loaded data for: 2020-03-07\n",
      "2021-03-20 19:14:53,180 DataLoader  INFO Applying micro-structure features\n",
      "2021-03-20 19:14:57,135 DataLoader  INFO Calculating calendar clock\n",
      "2021-03-20 19:14:57,811 DataLoader  INFO Calculating volume clock\n",
      "2021-03-20 19:14:58,668 DataLoader  INFO Calculating tick clock\n",
      "2021-03-20 19:14:59,752 DataLoader  INFO Calculating usd volume clock\n",
      "2021-03-20 19:15:00,603 DataLoader  INFO Turning the clock for calendar_bars\n",
      "2021-03-20 19:15:00,643 DataLoader  INFO Turning the clock for volume_bars\n",
      "2021-03-20 19:15:00,683 DataLoader  INFO Turning the clock for tick_bars\n",
      "2021-03-20 19:15:00,722 DataLoader  INFO Turning the clock for usd_volume_bars\n",
      "2021-03-20 19:15:00,762 DataLoader  INFO Loading data for: 2020-03-08\n"
     ]
    }
   ],
   "source": [
    "with open('inputsAK.json') as f:\n",
    "    input_config = json.load(f)\n",
    "data = DataLoader(\n",
    "    data_location=input_config['location'],\n",
    "    dates=pd.date_range(start=input_config['dates']['start_date'], periods=input_config['dates']['num_days']),\n",
    "    book_levels=input_config['levels'],\n",
    "    use_cols=input_config['cols_to_use'],\n",
    "    features=input_config['wanted_features'],\n",
    "    calendar_resample=input_config['widths']['calendar_resample'],\n",
    "    ticks_width=input_config['widths']['clock_ticks_width'],\n",
    "    trade_volume_width=input_config['widths']['clock_trade_volume_width'],\n",
    "    usd_volume_width=input_config['widths']['clock_usd_volume_width'],\n",
    "    clock_turns=input_config['num_clock_turns']\n",
    ")\n",
    "\n",
    "data.load_data()"
   ]
  },
  {
   "cell_type": "code",
   "execution_count": null,
   "metadata": {
    "pycharm": {
     "name": "#%%\n"
    }
   },
   "outputs": [],
   "source": [
    "print(data.train_data.keys())"
   ]
  },
  {
   "cell_type": "code",
   "execution_count": null,
   "metadata": {
    "pycharm": {
     "name": "#%%\n"
    }
   },
   "outputs": [],
   "source": [
    "display(data.train_data['calendar_bars'])"
   ]
  },
  {
   "cell_type": "code",
   "execution_count": null,
   "metadata": {
    "pycharm": {
     "name": "#%%\n"
    }
   },
   "outputs": [],
   "source": [
    "display(data.train_data['volume_bars'])"
   ]
  },
  {
   "cell_type": "code",
   "execution_count": null,
   "metadata": {
    "pycharm": {
     "name": "#%%\n"
    }
   },
   "outputs": [],
   "source": [
    "display(data.train_data['tick_bars'])"
   ]
  },
  {
   "cell_type": "code",
   "execution_count": null,
   "metadata": {
    "pycharm": {
     "name": "#%%\n"
    }
   },
   "outputs": [],
   "source": [
    "display(data.train_data['usd_volume_bars'])"
   ]
  },
  {
   "cell_type": "code",
   "execution_count": null,
   "metadata": {
    "pycharm": {
     "name": "#%%\n"
    }
   },
   "outputs": [],
   "source": [
    "print(data.test_data.keys())"
   ]
  },
  {
   "cell_type": "code",
   "execution_count": null,
   "metadata": {
    "pycharm": {
     "name": "#%%\n"
    }
   },
   "outputs": [],
   "source": [
    "display(data.test_data['calendar_bars'])"
   ]
  },
  {
   "cell_type": "code",
   "execution_count": null,
   "metadata": {
    "pycharm": {
     "name": "#%%\n"
    }
   },
   "outputs": [],
   "source": [
    "display(data.test_data['volume_bars'])"
   ]
  },
  {
   "cell_type": "code",
   "execution_count": null,
   "metadata": {
    "pycharm": {
     "name": "#%%\n"
    }
   },
   "outputs": [],
   "source": [
    "display(data.test_data['tick_bars'])"
   ]
  },
  {
   "cell_type": "code",
   "execution_count": null,
   "metadata": {
    "pycharm": {
     "name": "#%%\n"
    }
   },
   "outputs": [],
   "source": [
    "display(data.test_data['usd_volume_bars'])"
   ]
  },
  {
   "cell_type": "code",
   "execution_count": null,
   "metadata": {
    "pycharm": {
     "name": "#%%\n"
    }
   },
   "outputs": [],
   "source": []
  }
 ],
 "metadata": {
  "kernelspec": {
   "display_name": "Python 3",
   "language": "python",
   "name": "python3"
  },
  "language_info": {
   "codemirror_mode": {
    "name": "ipython",
    "version": 3
   },
   "file_extension": ".py",
   "mimetype": "text/x-python",
   "name": "python",
   "nbconvert_exporter": "python",
   "pygments_lexer": "ipython3",
   "version": "3.7.7"
  }
 },
 "nbformat": 4,
 "nbformat_minor": 1
}
