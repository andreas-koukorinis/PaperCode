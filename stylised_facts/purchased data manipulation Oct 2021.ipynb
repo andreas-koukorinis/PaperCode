{
 "cells": [
  {
   "cell_type": "code",
   "execution_count": 1,
   "id": "c670265f",
   "metadata": {},
   "outputs": [],
   "source": [
    "import pandas as pd\n",
    "import json\n",
    "import sys\n",
    "import lob_for_futures as lobFut\n",
    "from lob_for_futures import *\n",
    "import os\n",
    "import matplotlib.pyplot as plt\n",
    "import gzip"
   ]
  },
  {
   "cell_type": "code",
   "execution_count": 2,
   "id": "55edd5c9",
   "metadata": {},
   "outputs": [
    {
     "data": {
      "text/plain": [
       "'/media/ak/LaCie/LOBDataPurhcased/FGBL'"
      ]
     },
     "execution_count": 2,
     "metadata": {},
     "output_type": "execute_result"
    }
   ],
   "source": [
    "lob_data_purchased = '/media/ak/LaCie/LOBDataPurhcased'\n",
    "symbols = ['ES', 'STXE', 'FGBL']\n",
    "symbol_path = os.path.join(lob_data_purchased, symbols[2])\n",
    "symbol_path"
   ]
  },
  {
   "cell_type": "code",
   "execution_count": 3,
   "id": "0ea2a0ea",
   "metadata": {},
   "outputs": [
    {
     "data": {
      "text/plain": [
       "['FGBLH2020.csv.gz',\n",
       " 'FGBLH2021.csv.gz',\n",
       " 'FGBLM2019.csv.gz',\n",
       " 'FGBLM2020.csv.gz',\n",
       " 'FGBLU2019.csv.gz',\n",
       " 'FGBLU2020.csv.gz',\n",
       " 'FGBLZ2019.csv.gz',\n",
       " 'FGBLZ2020.csv.gz']"
      ]
     },
     "execution_count": 3,
     "metadata": {},
     "output_type": "execute_result"
    }
   ],
   "source": [
    "os.listdir(symbol_path)"
   ]
  },
  {
   "cell_type": "code",
   "execution_count": null,
   "id": "b19d3602",
   "metadata": {},
   "outputs": [],
   "source": [
    "\n",
    "# file_to_open = os.path.join(symbol_path, files[fileIDX])\n",
    "# file_to_open\n",
    "files"
   ]
  },
  {
   "cell_type": "code",
   "execution_count": null,
   "id": "13a0fe3b",
   "metadata": {},
   "outputs": [],
   "source": [
    "file_content"
   ]
  },
  {
   "cell_type": "code",
   "execution_count": null,
   "id": "4fdcd62a",
   "metadata": {},
   "outputs": [],
   "source": []
  }
 ],
 "metadata": {
  "kernelspec": {
   "display_name": "Python 3",
   "language": "python",
   "name": "python3"
  },
  "language_info": {
   "codemirror_mode": {
    "name": "ipython",
    "version": 3
   },
   "file_extension": ".py",
   "mimetype": "text/x-python",
   "name": "python",
   "nbconvert_exporter": "python",
   "pygments_lexer": "ipython3",
   "version": "3.7.7"
  }
 },
 "nbformat": 4,
 "nbformat_minor": 5
}
