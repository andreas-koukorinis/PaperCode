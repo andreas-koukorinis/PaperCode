{
 "cells": [
  {
   "cell_type": "code",
   "execution_count": 1,
   "id": "afd681d0",
   "metadata": {},
   "outputs": [],
   "source": [
    "import pandas as pd\n",
    "import numpy as np\n",
    "import sys\n",
    "import multiprocessing\n",
    "import time\n",
    "import os\n",
    "import matplotlib.pyplot as plt\n",
    "import seaborn as sns\n",
    "from dateutil.parser import parse\n",
    "from pandas.tseries.offsets import BDay\n",
    "import pickle as pkl\n",
    "import fnmatch\n",
    "import lob_for_futures as lobFut\n",
    "from lob_for_futures import *\n",
    "# extra imports\n",
    "from collections import OrderedDict\n",
    "from itertools import zip_longest\n",
    "import datetime as dt\n",
    "from datetime import timedelta\n",
    "\n",
    "import glob\n",
    "import fathon\n",
    "from fathon import fathonUtils as fu\n",
    "\n",
    "import matplotlib as mpl\n",
    "from multiprocessing import Pool, freeze_support, Manager\n",
    "\n",
    "import itertools\n",
    "\n",
    "colormap = plt.cm.RdBu\n",
    "plt.style.use(os.path.join(mpl.get_configdir(), 'latexstyle.mplstyle'))\n",
    "from collections import defaultdict\n",
    "\n",
    "dataFolder = lobFut.dataFolder\n",
    "t7 = lobFut.t7folder\n",
    "expInputFiles = os.path.join(lobFut.augExpertiments, 'ExperimentInputFiles')\n",
    "HiLoData = os.path.join(lobFut.augExpertiments, 'HiLoData')\n",
    "plt.style.use(os.path.join('/home/ak/.config/matplotlib', 'latexstyle3.mplstyle'))\n",
    "symbols = ['RX1', 'FB1', 'JB1', 'G_1', 'FV1', 'TY1', 'TU1', 'DU1', 'YM1', 'XM1', 'US1', 'OE1', 'KE1']\n",
    "\n",
    "# laptop data folder\n",
    "laptopDataFolder = os.path.join('/media/ak/OS', 'Data')\n",
    "expFiles = os.path.join(laptopDataFolder, 'August11th2022Experiments')\n",
    "\n",
    "destination = os.path.join(laptopDataFolder, 'AthensSoloTripFeb2023')\n",
    "figuresDestination = '/home/ak/Documents/Papers/StylisedFactsPaper/figures/'\n",
    "# n: Array of window's sizes used for the computation.\n",
    "n = [10, 11, 12, 13, 14, 15, 16, 17, 18, 19, 20, 21, 22, 23, 24, 25, 26, 27, 28, 29, 30, 31, 32, 33, 34, 35, 36, 37, 38,\n",
    "     39, 40, 41, 42, 43, 44, 45, 46, 47, 48, 49, 50, 51, 52, 53, 54, 55, 56, 57, 58, 59, 60, 61, 62, 63, 64, 65, 66, 67,\n",
    "     68, 69, 70, 71, 72, 73, 74, 75, 76, 77, 78, 79]\n"
   ]
  },
  {
   "cell_type": "code",
   "execution_count": 2,
   "id": "7e2ab9ca",
   "metadata": {},
   "outputs": [],
   "source": [
    "class CrossCorrel():\n",
    "    def __init__(self, path, symbols, idx, bar):\n",
    "        self._idx = idx\n",
    "        self._symbols = symbols\n",
    "        self._bar = bar\n",
    "        self._symbol = self._symbols[self._idx]\n",
    "        \n",
    "        self._symbolFilepath = os.path.join(path, str(self._symbol))\n",
    "        \n",
    "        self._listOfFiles = os.listdir(self._symbolFilepath)\n",
    "        \n",
    "        self._micro_variables = ['arrival_rates', 'gk_vol', 'median_traded_volume', 'micro_price_change']\n",
    "\n",
    "\n",
    "#         bar = list(set(pkl_dict_keys).difference(set(micro_variables)))[0]  # get out the bar-choice\n",
    "\n",
    "    def get_data_and_path(self):\n",
    "    # , fileIdx, symbols, path\n",
    "        \"\"\"\n",
    "\n",
    "        :param symbolIdx: symbol index from list\n",
    "        :param symbols: list of symbols\n",
    "        :param bar: bar for information clock\n",
    "        :param path: which path to read from\n",
    "        :return: list of files, and path to those files\n",
    "        \"\"\"\n",
    "        #print('data for symbol', self._symbol)\n",
    "        filesBarSymbol = [f for f in self._listOfFiles if str(self._bar) in f]\n",
    "\n",
    "        return filesBarSymbol, self._symbolFilepath\n",
    "    \n",
    "    def get_all_data_from_file(self, fileIdx):\n",
    "        \"\"\"\n",
    "        fileIdx = index file to get unpickled\n",
    "        \"\"\"\n",
    "        filesBarSymbol, symbolFilepath = self.get_data_and_path()\n",
    "        fileToGet = os.path.join(symbolFilepath , filesBarSymbol[fileIdx])\n",
    "        return pd.read_pickle(fileToGet)\n",
    "    \n",
    "    def get_microvar_data(self, fileIdx,var): \n",
    "        pklDict= self.get_all_data_from_file(fileIdx)\n",
    "        return pklDict[str(var)]\n",
    "    \n",
    "    def get_all_microvar_data(self, fileIdx):\n",
    "        pkl_dict= self.get_all_data_from_file(fileIdx)\n",
    "        pkl_dict_keys = sorted(list(pkl_dict.keys())) # get out all the keys- but its really bars\n",
    "        \n",
    "        #----micro structure vars-----#\n",
    "        \n",
    "        gk_vol = pkl_dict['gk_vol']  # get the vol\n",
    "        median_traded_volume = pkl_dict['median_traded_volume']  # get the volume\n",
    "        arrival_rates = pkl_dict['arrival_rates']  # get arrival rates\n",
    "        micro_price_change = pkl_dict['micro_price_change']  # get micro price change\n",
    "         \n",
    "        # ---- start getting all the mfdfa variables ----#\n",
    "        \n",
    "        tau_dict = pkl_dict[str(self._bar)]['tau']  # tau\n",
    "        alpha = pkl_dict[str(self._bar)]['alpha']  # alpha\n",
    "        mfSpect = pkl_dict[str(self._bar)]['mfSpect']  # mfSpect\n",
    "        n_F_dict = pkl_dict[str(self._bar)]['n_F']  # n_F\n",
    "        list_H_dict = pkl_dict[str(self._bar)]['list_H']  # list_H\n",
    "        list_H_intercept = pkl_dict[str(self._bar)]['list_H_intercept']  # intercept\n",
    "        \n",
    "        return  gk_vol, median_traded_volume, arrival_rates, micro_price_change, tau_dict, alpha, mfSpect, n_F_dict, list_H_dict, list_H_intercept\n",
    "    \n",
    "        \n",
    "        \n",
    "#"
   ]
  },
  {
   "cell_type": "code",
   "execution_count": 3,
   "id": "dc7f0f3b",
   "metadata": {},
   "outputs": [],
   "source": [
    "symbols = ['RX1', 'FB1', 'JB1', 'G_1', 'FV1', 'TY1', 'TU1', 'DU1', 'YM1', 'XM1', 'US1', 'OE1', 'KE1']\n",
    "micro_variables = ['arrival_rates', 'gk_vol', 'median_traded_volume', 'micro_price_change']\n",
    "# self, path, symbols, idx, bar, use_var\n",
    "cc2 = CrossCorrel(laptopDataFolder, symbols, 5, 'tick')"
   ]
  },
  {
   "cell_type": "code",
   "execution_count": 8,
   "id": "dbffd7d6",
   "metadata": {},
   "outputs": [],
   "source": [
    "######################################################### "
   ]
  },
  {
   "cell_type": "code",
   "execution_count": null,
   "id": "05a13af9",
   "metadata": {},
   "outputs": [],
   "source": []
  },
  {
   "cell_type": "code",
   "execution_count": null,
   "id": "098c400e",
   "metadata": {},
   "outputs": [],
   "source": []
  },
  {
   "cell_type": "code",
   "execution_count": 9,
   "id": "5c2390c8",
   "metadata": {},
   "outputs": [],
   "source": [
    "######################################################### "
   ]
  },
  {
   "cell_type": "code",
   "execution_count": 4,
   "id": "4f92e397",
   "metadata": {},
   "outputs": [],
   "source": [
    "files, filesPath = cc2.get_data_and_path()\n",
    "\n"
   ]
  },
  {
   "cell_type": "code",
   "execution_count": 5,
   "id": "26e93ed4",
   "metadata": {},
   "outputs": [],
   "source": [
    "gk_vol, median_traded_volume, arrival_rates, micro_price_change, tau_dict, alpha, mfSpect, n_F_dict, list_H_dict, list_H_intercept = cc2.get_all_microvar_data(fileIdx = 1)"
   ]
  },
  {
   "cell_type": "code",
   "execution_count": 6,
   "id": "133f9d7a",
   "metadata": {},
   "outputs": [],
   "source": [
    "range_to_use = range(0,10)\n",
    "arrivals_list = {f:cc2.get_microvar_data(fileIdx= f, var='arrival_rates') for f in range_to_use }\n",
    "median_volumes_list = {f:cc2.get_microvar_data(fileIdx= f, var='median_traded_volume') for f in range_to_use }\n"
   ]
  },
  {
   "cell_type": "code",
   "execution_count": 7,
   "id": "23670b07",
   "metadata": {},
   "outputs": [],
   "source": [
    "# get all the data fast!"
   ]
  },
  {
   "cell_type": "code",
   "execution_count": 8,
   "id": "3e1f60eb",
   "metadata": {},
   "outputs": [],
   "source": [
    "arrivalsDF = pd.DataFrame(arrivals_list).fillna(0)\n",
    "medianVolumesDF = pd.DataFrame(median_volumes_list).fillna(0)\n"
   ]
  },
  {
   "cell_type": "code",
   "execution_count": null,
   "id": "daa90ff8",
   "metadata": {},
   "outputs": [],
   "source": [
    "medianVolumesDF"
   ]
  },
  {
   "cell_type": "code",
   "execution_count": 9,
   "id": "7a5d97f9",
   "metadata": {},
   "outputs": [],
   "source": [
    "import glob\n",
    "import fathon\n",
    "from fathon import fathonUtils as fu\n",
    "winSizes = fu.linRangeByStep(10, 1000, step=20)\n",
    "polOrd = 1\n",
    "import time\n"
   ]
  },
  {
   "cell_type": "code",
   "execution_count": 10,
   "id": "f6561294",
   "metadata": {},
   "outputs": [],
   "source": [
    "idx =1 \n",
    "a =arrivalsDF[idx]\n",
    "b= medianVolumesDF[idx]\n",
    "\n",
    "a = fu.toAggregated(a)\n",
    "b = fu.toAggregated(b)\n",
    "pydcca = fathon.DCCA(a, b)\n",
    "n, F = pydcca.computeFlucVec(winSizes, polOrd=polOrd)\n",
    "H, H_intercept = pydcca.fitFlucVec()\n",
    "####\n",
    "# limits_list = np.array([[10,120], [220,1000]], dtype=int)\n",
    "# list_H, list_H_intercept = pydcca.multiFitFlucVec(limits_list)\n",
    "\n",
    "n, rho = pydcca.computeRho(winSizes, polOrd=polOrd)"
   ]
  },
  {
   "cell_type": "code",
   "execution_count": 17,
   "id": "c9e849d5",
   "metadata": {},
   "outputs": [],
   "source": [
    "def compute_h_h_dcca(var_a, var_b, idx):\n",
    "    \"\"\"\n",
    "    var_a = first variable for the dCCa rho\n",
    "    var_b = second variable for the dCCa rho\n",
    "    idx = index in for which \"day to pick\"\n",
    "    \"\"\"\n",
    "    a =var_a[idx]\n",
    "    b= var_b[idx]\n",
    "\n",
    "    a = fu.toAggregated(a)\n",
    "    b = fu.toAggregated(b)\n",
    "#     pydcca = fathon.DCCA(a, b)\n",
    "# #     n, F = pydcca.computeFlucVec(winSizes, polOrd=polOrd)\n",
    "#     H, H_intercept = pydcca.fitFlucVec()\n",
    "\n",
    "    return a, b"
   ]
  },
  {
   "cell_type": "code",
   "execution_count": 21,
   "id": "88b2f2a7",
   "metadata": {},
   "outputs": [],
   "source": [
    "a, b =compute_h_h_dcca(arrivalsDF, medianVolumesDF, idx)"
   ]
  },
  {
   "cell_type": "code",
   "execution_count": 24,
   "id": "e4810004",
   "metadata": {},
   "outputs": [],
   "source": [
    "pydcca = fathon.DCCA(a, b)\n",
    "n, F = pydcca.computeFlucVec(winSizes, polOrd=polOrd)\n",
    "H, H_intercept = pydcca.fitFlucVec()"
   ]
  },
  {
   "cell_type": "code",
   "execution_count": 28,
   "id": "2de66f01",
   "metadata": {},
   "outputs": [
    {
     "data": {
      "text/plain": [
       "0.9016279378567426"
      ]
     },
     "execution_count": 28,
     "metadata": {},
     "output_type": "execute_result"
    }
   ],
   "source": [
    "H_intercept"
   ]
  },
  {
   "cell_type": "code",
   "execution_count": null,
   "id": "34039a80",
   "metadata": {},
   "outputs": [],
   "source": [
    "\n",
    "\n",
    "rhoDict =dict()\n",
    "n =[]\n",
    "for idx in range(0,5):\n",
    "    n, rhoDict[idx] = compute_n_Rho(arrivalsDF, medianVolumesDF, idx)"
   ]
  },
  {
   "cell_type": "code",
   "execution_count": null,
   "id": "6e584947",
   "metadata": {},
   "outputs": [],
   "source": []
  },
  {
   "cell_type": "code",
   "execution_count": null,
   "id": "ad28eae9",
   "metadata": {},
   "outputs": [],
   "source": [
    "rhoDF = pd.DataFrame.from_dict(rhoDict)\n"
   ]
  },
  {
   "cell_type": "code",
   "execution_count": null,
   "id": "22538844",
   "metadata": {},
   "outputs": [],
   "source": [
    "plt.rcParams['font.sans-serif'] = 'Verdana'#'Helvetica'\n",
    "plt.rcParams['axes.edgecolor']='#333F4B'\n",
    "plt.rcParams['axes.linewidth']=0.8\n",
    "plt.rcParams['xtick.color']='#333F4B'\n",
    "plt.rcParams['ytick.color']='#333F4B'\n",
    "\n",
    "fig, ax = plt.subplots(figsize=(12,8))\n",
    "\n",
    "ax.set_facecolor('xkcd:white')\n",
    "plt.plot(np.log(n), np.log(F), 'bo',alpha=0.6,markersize=9, label =\" \")\n",
    "plt.plot(np.log(n), H_intercept+H*np.log(n), 'k:',color='r', linewidth=3 ,label='H = {:.2f}'.format(H))\n",
    "plt.xlabel('ln(n)', fontsize=24)\n",
    "plt.ylabel('ln(F(n))', fontsize=24)\n",
    "plt.yticks(fontsize=16)\n",
    "\n",
    "plt.xticks(fontsize=16)\n",
    "\n",
    "plt.legend(loc=0, fontsize=16)\n",
    "\n",
    "# file_name = str(symbol)+'_'+str(bar)+'_lnFn_n.png'\n",
    "# _=plt.savefig(os.path.join(figuresDestination,file_name),dpi=300, bbox_inches=\"tight\")\n",
    "\n",
    "_=plt.show()"
   ]
  },
  {
   "cell_type": "code",
   "execution_count": null,
   "id": "24429209",
   "metadata": {},
   "outputs": [],
   "source": [
    "plt.rcParams['font.sans-serif'] = 'Verdana'#'Helvetica'\n",
    "plt.rcParams['axes.edgecolor']='#333F4B'\n",
    "plt.rcParams['axes.linewidth']=0.8\n",
    "plt.rcParams['xtick.color']='#333F4B'\n",
    "plt.rcParams['ytick.color']='#333F4B'\n",
    "\n",
    "fig, ax = plt.subplots(figsize=(12,8))\n",
    "plt.plot(n, rhoDF[1], 'ro', alpha =1.5, markersize = 10,color='darkgreen')\n",
    "plt.plot(n, rhoDF[3], 'ro', alpha =1.5, markersize = 10,color='darkred')\n",
    "plt.plot(n, rhoDF[2], 'ro', alpha =1.5, markersize = 10,color='grey')\n",
    "plt.plot(n, rhoDF[4], 'ro', alpha =1.5, markersize = 10,color='lightblue')\n",
    "plt.plot(n, rhoDF[0], 'ro', alpha =1.5, markersize = 10,color='lightblue')\n",
    "\n",
    "plt.ylim(-1, 1)\n",
    "plt.xlabel('win-size', fontsize=24)\n",
    "plt.ylabel('$\\\\rho_{DCCA}$', fontsize=24)\n",
    "plt.yticks(fontsize=16)\n",
    "ax.set_facecolor('xkcd:white')\n",
    "plt.xticks(fontsize=16)\n",
    "\n",
    "_=plt.xlim(0, 1000)\n",
    "_=plt.ylim(-0.2, 0.5)"
   ]
  },
  {
   "cell_type": "code",
   "execution_count": null,
   "id": "09eb3060",
   "metadata": {},
   "outputs": [],
   "source": [
    "_=plt.hist(rhoDF[1], bins =100)\n",
    "_=plt.hist(rhoDF[3], bins =100)\n",
    "_=plt.hist(rhoDF[4], bins =200)\n",
    "\n"
   ]
  },
  {
   "cell_type": "code",
   "execution_count": null,
   "id": "37e8ee6f",
   "metadata": {},
   "outputs": [],
   "source": [
    "import multiprocessing\n",
    "def printVal(value):\n",
    "    return (\"hello \"*(value))\n",
    "pool_obj = multiprocessing.Pool()\n",
    "ans = pool_obj.map(printVal,range(0,4))\n",
    "print(ans)\n",
    "pool_obj.close()"
   ]
  },
  {
   "cell_type": "code",
   "execution_count": null,
   "id": "f9a6fc36",
   "metadata": {},
   "outputs": [],
   "source": [
    "def f(x):\n",
    "    return x*x\n",
    "\n",
    "if __name__ == '__main__':\n",
    "    with Pool(5) as p:\n",
    "        print(p.map(f, [1, 2, 3]))"
   ]
  },
  {
   "cell_type": "code",
   "execution_count": 31,
   "id": "1d1be59f",
   "metadata": {},
   "outputs": [],
   "source": [
    "hurst_files =[f for f in os.listdir(expInputFiles) if str('Hurst') in f]"
   ]
  },
  {
   "cell_type": "code",
   "execution_count": 33,
   "id": "f69c7c2b",
   "metadata": {},
   "outputs": [
    {
     "data": {
      "text/plain": [
       "0.781737570160062"
      ]
     },
     "execution_count": 33,
     "metadata": {},
     "output_type": "execute_result"
    }
   ],
   "source": [
    "file = os.path.join(expInputFiles, hurst_files[2])\n",
    "pd.read_pickle(file)['H']"
   ]
  },
  {
   "cell_type": "code",
   "execution_count": 10,
   "id": "17a110e8",
   "metadata": {},
   "outputs": [],
   "source": [
    "#################### imports ######################"
   ]
  },
  {
   "cell_type": "code",
   "execution_count": 15,
   "id": "c76207af",
   "metadata": {},
   "outputs": [],
   "source": [
    "rhoFiles = sorted([f for f in os.listdir(expInputFiles) if str('rho') in f])\n",
    "hurstFiles = sorted([f for f in os.listdir(expInputFiles) if str('Hurst') in f])"
   ]
  },
  {
   "cell_type": "code",
   "execution_count": 17,
   "id": "7afcccb0",
   "metadata": {},
   "outputs": [],
   "source": [
    "filepath = os.path.join(expInputFiles, hurstFiles[1])"
   ]
  },
  {
   "cell_type": "code",
   "execution_count": null,
   "id": "25a85be3",
   "metadata": {},
   "outputs": [],
   "source": []
  },
  {
   "cell_type": "code",
   "execution_count": null,
   "id": "bbaeff5c",
   "metadata": {},
   "outputs": [],
   "source": []
  }
 ],
 "metadata": {
  "kernelspec": {
   "display_name": "Python [conda env:newTimeSeries] *",
   "language": "python",
   "name": "conda-env-newTimeSeries-py"
  },
  "language_info": {
   "codemirror_mode": {
    "name": "ipython",
    "version": 3
   },
   "file_extension": ".py",
   "mimetype": "text/x-python",
   "name": "python",
   "nbconvert_exporter": "python",
   "pygments_lexer": "ipython3",
   "version": "3.6.13"
  }
 },
 "nbformat": 4,
 "nbformat_minor": 5
}
