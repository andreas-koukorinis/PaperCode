{
 "cells": [
  {
   "cell_type": "code",
   "execution_count": 6,
   "metadata": {},
   "outputs": [],
   "source": [
    "%matplotlib inline\n",
    "# import all shogun classes\n",
    "from shogun import *\n",
    "import matplotlib.pyplot as plt\n",
    "import numpy as np\n",
    "from sklearn import linear_model\n",
    "import time\n",
    "import os\n",
    "import pandas as pd\n",
    "import collections\n",
    "etfData = collections.defaultdict(dict)\n",
    "import stylised_facts_data_utilities.createLOB as createLOB\n",
    "import collections\n",
    "import pickle\n",
    "import array_to_latex as a2l\n",
    "import tqdm\n",
    "import time"
   ]
  },
  {
   "cell_type": "code",
   "execution_count": 2,
   "metadata": {},
   "outputs": [
    {
     "name": "stderr",
     "output_type": "stream",
     "text": [
      "/home/ak/anaconda3/envs/ds3_kernels/lib/python3.6/site-packages/tensorflow/python/framework/dtypes.py:458: FutureWarning: Passing (type, 1) or '1type' as a synonym of type is deprecated; in a future version of numpy, it will be understood as (type, (1,)) / '(1,)type'.\n",
      "  _np_qint8 = np.dtype([(\"qint8\", np.int8, 1)])\n",
      "/home/ak/anaconda3/envs/ds3_kernels/lib/python3.6/site-packages/tensorflow/python/framework/dtypes.py:459: FutureWarning: Passing (type, 1) or '1type' as a synonym of type is deprecated; in a future version of numpy, it will be understood as (type, (1,)) / '(1,)type'.\n",
      "  _np_quint8 = np.dtype([(\"quint8\", np.uint8, 1)])\n",
      "/home/ak/anaconda3/envs/ds3_kernels/lib/python3.6/site-packages/tensorflow/python/framework/dtypes.py:460: FutureWarning: Passing (type, 1) or '1type' as a synonym of type is deprecated; in a future version of numpy, it will be understood as (type, (1,)) / '(1,)type'.\n",
      "  _np_qint16 = np.dtype([(\"qint16\", np.int16, 1)])\n",
      "/home/ak/anaconda3/envs/ds3_kernels/lib/python3.6/site-packages/tensorflow/python/framework/dtypes.py:461: FutureWarning: Passing (type, 1) or '1type' as a synonym of type is deprecated; in a future version of numpy, it will be understood as (type, (1,)) / '(1,)type'.\n",
      "  _np_quint16 = np.dtype([(\"quint16\", np.uint16, 1)])\n",
      "/home/ak/anaconda3/envs/ds3_kernels/lib/python3.6/site-packages/tensorflow/python/framework/dtypes.py:462: FutureWarning: Passing (type, 1) or '1type' as a synonym of type is deprecated; in a future version of numpy, it will be understood as (type, (1,)) / '(1,)type'.\n",
      "  _np_qint32 = np.dtype([(\"qint32\", np.int32, 1)])\n",
      "/home/ak/anaconda3/envs/ds3_kernels/lib/python3.6/site-packages/tensorflow/python/framework/dtypes.py:465: FutureWarning: Passing (type, 1) or '1type' as a synonym of type is deprecated; in a future version of numpy, it will be understood as (type, (1,)) / '(1,)type'.\n",
      "  np_resource = np.dtype([(\"resource\", np.ubyte, 1)])\n"
     ]
    }
   ],
   "source": [
    "import stylised_facts_data_utilities.mmd as mmd\n",
    "import stylised_facts_data_utilities.ksd as ksd\n",
    "import stylised_facts_data_utilities.longtaildistr as ltd\n"
   ]
  },
  {
   "cell_type": "code",
   "execution_count": 7,
   "metadata": {},
   "outputs": [],
   "source": [
    "# getting all the data in \n",
    "ActivityCLockData= '/media/ak/My Passport2/Experiment Data/ActivityClockData/'\n",
    "OHLCData= '/media/ak/My Passport2/Experiment Data/OHLCData/'\n",
    "folderList = os.listdir(ActivityCLockData)\n",
    "OHLCDataList = os.listdir(OHLCData)\n",
    "ActivityClockDataList = os.listdir(ActivityCLockData)\n",
    "figuresFolder = '/home/ak/Documents/Research/Papers/StylisedFactsPaper/figures/'\n",
    "symbols =['FB1','JB1','FV1','G_1']\n",
    "futuresData = collections.defaultdict(dict)"
   ]
  },
  {
   "cell_type": "code",
   "execution_count": 8,
   "metadata": {},
   "outputs": [
    {
     "name": "stderr",
     "output_type": "stream",
     "text": [
      "\r",
      "  0%|          | 0/4 [00:00<?, ?it/s]"
     ]
    },
    {
     "name": "stdout",
     "output_type": "stream",
     "text": [
      "FB1\n"
     ]
    },
    {
     "name": "stderr",
     "output_type": "stream",
     "text": [
      "\r",
      " 25%|██▌       | 1/4 [00:02<00:07,  2.67s/it]"
     ]
    },
    {
     "name": "stdout",
     "output_type": "stream",
     "text": [
      "JB1\n"
     ]
    },
    {
     "name": "stderr",
     "output_type": "stream",
     "text": [
      "\r",
      " 50%|█████     | 2/4 [00:11<00:08,  4.46s/it]"
     ]
    },
    {
     "name": "stdout",
     "output_type": "stream",
     "text": [
      "FV1\n"
     ]
    },
    {
     "name": "stderr",
     "output_type": "stream",
     "text": [
      "\r",
      " 75%|███████▌  | 3/4 [03:40<01:05, 65.91s/it]"
     ]
    },
    {
     "name": "stdout",
     "output_type": "stream",
     "text": [
      "G_1\n"
     ]
    },
    {
     "name": "stderr",
     "output_type": "stream",
     "text": [
      "100%|██████████| 4/4 [04:28<00:00, 67.01s/it]\n"
     ]
    }
   ],
   "source": [
    "\n",
    "for symbol in tqdm.tqdm(symbols):\n",
    "    print(symbol)\n",
    "    for file in list(np.sort([s for s in os.listdir(ActivityCLockData) if 'Clocks' in s and (str(symbol)) in s])):\n",
    "        pklClockFile = \"\".join((ActivityCLockData,file))\n",
    "        #print(pklClockFile.split(\"_\")[-2])\n",
    "        futuresData[symbol][pklClockFile.split(\"_\")[-2]]=pickle.load(open(pklClockFile , \"rb\"))['TickBarDf']\n",
    "                                                                                                             \n",
    "                                                                                                             \n",
    "                                                                                                             \n",
    "                               "
   ]
  },
  {
   "cell_type": "code",
   "execution_count": null,
   "metadata": {},
   "outputs": [],
   "source": [
    "futuresDataKeys = list(futuresData.keys())\n",
    "symbolDates = list(futuresData[futuresDataKeys[0]].keys())"
   ]
  },
  {
   "cell_type": "code",
   "execution_count": 5,
   "metadata": {},
   "outputs": [
    {
     "ename": "NameError",
     "evalue": "name 'futuresDataKeys' is not defined",
     "output_type": "error",
     "traceback": [
      "\u001b[0;31m----------------------\u001b[0m",
      "\u001b[0;31mNameError\u001b[0mTraceback (most recent call last)",
      "\u001b[0;32m<ipython-input-5-ca1fd57009a0>\u001b[0m in \u001b[0;36m<module>\u001b[0;34m\u001b[0m\n\u001b[0;32m----> 1\u001b[0;31m \u001b[0mfuturesDataKeys\u001b[0m\u001b[0;34m\u001b[0m\u001b[0;34m\u001b[0m\u001b[0m\n\u001b[0m",
      "\u001b[0;31mNameError\u001b[0m: name 'futuresDataKeys' is not defined"
     ]
    }
   ],
   "source": [
    "futuresDataKeys"
   ]
  },
  {
   "cell_type": "code",
   "execution_count": null,
   "metadata": {},
   "outputs": [],
   "source": [
    "[['BidSize', 'QuoteTime','BestBid',\n",
    "       'TradeTime', 'AskSize','BestAsk', 'TradeVolume', 'TradedTime', 'type',\n",
    "       'TradePrice', 'TimeStamp', 'milliSeconds','DollarVolume', 'MicroPrice', 'TradeSize', 'DollarVolumeTraded']]\n",
    "   "
   ]
  },
  {
   "cell_type": "code",
   "execution_count": null,
   "metadata": {},
   "outputs": [],
   "source": [
    "df= futuresData[futuresDataKeys[3]][symbolDates[2]]\n",
    "futuresDataKeys[3]"
   ]
  },
  {
   "cell_type": "code",
   "execution_count": null,
   "metadata": {},
   "outputs": [],
   "source": [
    "dfConcat = pd.concat(list(futuresData[futuresDataKeys[3]].values() ), axis =0, keys = list(futuresData[futuresDataKeys[3]].keys()))"
   ]
  },
  {
   "cell_type": "code",
   "execution_count": null,
   "metadata": {},
   "outputs": [],
   "source": []
  },
  {
   "cell_type": "code",
   "execution_count": null,
   "metadata": {},
   "outputs": [],
   "source": [
    "calcLOBdf = createLOB.calcLOB(createLOB.formatLOB(dfConcat))"
   ]
  },
  {
   "cell_type": "code",
   "execution_count": null,
   "metadata": {},
   "outputs": [],
   "source": [
    "LOBdf =createLOB.formatLOB(calcLOBdf )"
   ]
  },
  {
   "cell_type": "code",
   "execution_count": null,
   "metadata": {},
   "outputs": [],
   "source": [
    "mpChange = LOBdf.MicroPricePctChange.dropna().values"
   ]
  },
  {
   "cell_type": "code",
   "execution_count": null,
   "metadata": {},
   "outputs": [],
   "source": [
    "mpChange.shape"
   ]
  },
  {
   "cell_type": "code",
   "execution_count": null,
   "metadata": {
    "scrolled": true
   },
   "outputs": [],
   "source": [
    "fig = plt.figure()\n",
    "ax=plt.hist(mpChange, alpha=0.5, color='r', bins=10)\n",
    "figuresTarget = os.path.join(figuresFolder, str(futuresDataKeys[3])+\"micropriceHisto.png\")\n",
    "plt.title('Microprice for symbol '+ str(futuresDataKeys[3]))\n",
    "plt.savefig(figuresTarget )\n",
    "plt.tight_layout()"
   ]
  },
  {
   "cell_type": "code",
   "execution_count": null,
   "metadata": {},
   "outputs": [],
   "source": []
  },
  {
   "cell_type": "code",
   "execution_count": null,
   "metadata": {},
   "outputs": [],
   "source": [
    "from scipy import stats\n",
    "pd.DataFrame(stats.describe(mpChange))"
   ]
  },
  {
   "cell_type": "code",
   "execution_count": null,
   "metadata": {},
   "outputs": [],
   "source": [
    "from scipy.stats import norm, laplace\n",
    "\n",
    "def sample_gaussian_vs_laplace(n=220, mu=0.0, sigma2=None, b=np.sqrt(0.5)):    \n",
    "    # sample from both distributions\n",
    "    X=norm.rvs(size=n, loc=mu, scale=sigma2)\n",
    "    Y=laplace.rvs(size=n, loc=mu, scale=b)\n",
    "    \n",
    "    return X,Y"
   ]
  },
  {
   "cell_type": "code",
   "execution_count": null,
   "metadata": {},
   "outputs": [],
   "source": [
    "X, Y = sample_gaussian_vs_laplace(n=len(mpChange), mu= np.average(mpChange), sigma2 = np.std(mpChange), b=np.sqrt(0.5))"
   ]
  },
  {
   "cell_type": "code",
   "execution_count": null,
   "metadata": {},
   "outputs": [],
   "source": [
    "plt.hist(X, alpha=0.9)\n",
    "plt.hist(mpChange, alpha=0.5, color='r');"
   ]
  },
  {
   "cell_type": "code",
   "execution_count": null,
   "metadata": {},
   "outputs": [],
   "source": [
    "samples_p = RealFeatures(X.reshape(1,len(X)))\n",
    "samples_q = RealFeatures(Y.reshape(1,len(Y)))\n",
    "samples_z = RealFeatures(mpChange.reshape(1,len(mpChange)))"
   ]
  },
  {
   "cell_type": "code",
   "execution_count": null,
   "metadata": {},
   "outputs": [],
   "source": [
    "mmd = QuadraticTimeMMD(samples_p, samples_z)\n",
    "kernel = GaussianKernel(10, 1)\n",
    "mmd.set_kernel(kernel)\n",
    "alpha = 0.05"
   ]
  },
  {
   "cell_type": "code",
   "execution_count": null,
   "metadata": {},
   "outputs": [],
   "source": [
    "mmd.set_statistic_type(ST_BIASED_FULL)\n",
    "statistic = mmd.compute_statistic()\n",
    "mmd.set_null_approximation_method(NAM_PERMUTATION)\n",
    "mmd.set_num_null_samples(200)\n",
    "threshold = mmd.compute_threshold(alpha)\n",
    "p_value = mmd.compute_p_value(statistic)\n",
    "print(p_value)"
   ]
  },
  {
   "cell_type": "code",
   "execution_count": null,
   "metadata": {},
   "outputs": [],
   "source": [
    "def two_sample_permutation_test(test_statistic, X, Y, num_permutations, prog_bar=True):\n",
    "    assert X.ndim == Y.ndim\n",
    "    \n",
    "    statistics = np.zeros(num_permutations)\n",
    "    \n",
    "    range_ = range(num_permutations)\n",
    "    if prog_bar:\n",
    "        range_ = tqdm(range_)\n",
    "    for i in range_:\n",
    "        # concatenate samples\n",
    "        if X.ndim == 1:\n",
    "            Z = np.hstack((X,Y))\n",
    "        elif X.ndim == 2:\n",
    "            Z = np.vstack((X,Y))\n",
    "            \n",
    "        # IMPLEMENT: permute samples and compute test statistic\n",
    "        perm_inds = np.random.permutation(len(Z))\n",
    "        Z = Z[perm_inds]\n",
    "        X_ = Z[:len(X)]\n",
    "        Y_ = Z[len(X):]\n",
    "        my_test_statistic = test_statistic(X_, Y_)\n",
    "        statistics[i] = my_test_statistic\n",
    "    return statistics"
   ]
  },
  {
   "cell_type": "code",
   "execution_count": null,
   "metadata": {
    "scrolled": true
   },
   "outputs": [],
   "source": [
    "import tensorflow as tf\n",
    "sigma_median= 1\n",
    "\n",
    "with tf.Session() as sess:\n",
    "    init = tf.global_variables_initializer()\n",
    "    sess.run(init)\n",
    "#     print(\"MMD and ratio:\", sess.run(mmd.rbf_mmd2_and_ratio(X,Y, sigma=sigma_median)))"
   ]
  },
  {
   "cell_type": "code",
   "execution_count": null,
   "metadata": {},
   "outputs": [],
   "source": [
    "import tqdm \n",
    "log_sigmas = np.linspace(-2, 2,10)\n",
    "                         \n",
    "ratios = np.empty(len(log_sigmas))\n",
    "\n",
    "with tf.Session() as sess:\n",
    "    init = tf.global_variables_initializer()\n",
    "    sess.run(init)\n",
    "    \n",
    "    # IMPLEMENT: compute ratio for every sigma\n",
    "    for i, log_sigma in list(enumerate(log_sigmas)):\n",
    "        current_ratio = sess.run(mmd.rbf_mmd2_and_ratio(X_learn,Y_learn, sigma=10**log_sigma))[1]\n",
    "        ratios[i] = current_ratio\n",
    "\n",
    "plt.plot(log_sigmas, ratios)\n",
    "plt.grid(True)\n",
    "plt.xlabel(\"Log sigma\")\n",
    "plt.ylabel(\"Ratio of MMD and variance (proportional to test power)\")\n",
    "\n",
    "print(\"best sigma:\", 10**log_sigmas[np.argmax(ratios)])"
   ]
  },
  {
   "cell_type": "code",
   "execution_count": null,
   "metadata": {},
   "outputs": [],
   "source": []
  }
 ],
 "metadata": {
  "kernelspec": {
   "display_name": "Python 3",
   "language": "python",
   "name": "python3"
  },
  "language_info": {
   "codemirror_mode": {
    "name": "ipython",
    "version": 3
   },
   "file_extension": ".py",
   "mimetype": "text/x-python",
   "name": "python",
   "nbconvert_exporter": "python",
   "pygments_lexer": "ipython3",
   "version": "3.6.10"
  },
  "latex_envs": {
   "LaTeX_envs_menu_present": true,
   "autoclose": false,
   "autocomplete": true,
   "bibliofile": "biblio.bib",
   "cite_by": "apalike",
   "current_citInitial": 1,
   "eqLabelWithNumbers": true,
   "eqNumInitial": 1,
   "hotkeys": {
    "equation": "Ctrl-E",
    "itemize": "Ctrl-I"
   },
   "labels_anchors": false,
   "latex_user_defs": false,
   "report_style_numbering": false,
   "user_envs_cfg": false
  }
 },
 "nbformat": 4,
 "nbformat_minor": 4
}
