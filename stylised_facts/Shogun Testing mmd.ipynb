{
 "cells": [
  {
   "cell_type": "code",
   "execution_count": 1,
   "metadata": {},
   "outputs": [],
   "source": [
    "%matplotlib inline\n",
    "# import all shogun classes\n",
    "from shogun import *\n",
    "import matplotlib.pyplot as plt\n",
    "import numpy as np\n",
    "from sklearn import linear_model\n",
    "import time\n",
    "import os\n",
    "import pandas as pd\n",
    "import collections\n",
    "etfData = collections.defaultdict(dict)\n",
    "import stylised_facts_data_utilities.createLOB as createLOB\n",
    "import collections\n",
    "import pickle\n",
    "import array_to_latex as a2l\n",
    "import tqdm\n",
    "import time"
   ]
  },
  {
   "cell_type": "code",
   "execution_count": 2,
   "metadata": {},
   "outputs": [
    {
     "name": "stderr",
     "output_type": "stream",
     "text": [
      "/home/ak/anaconda3/envs/ds3_kernels/lib/python3.6/site-packages/tensorflow/python/framework/dtypes.py:458: FutureWarning: Passing (type, 1) or '1type' as a synonym of type is deprecated; in a future version of numpy, it will be understood as (type, (1,)) / '(1,)type'.\n",
      "  _np_qint8 = np.dtype([(\"qint8\", np.int8, 1)])\n",
      "/home/ak/anaconda3/envs/ds3_kernels/lib/python3.6/site-packages/tensorflow/python/framework/dtypes.py:459: FutureWarning: Passing (type, 1) or '1type' as a synonym of type is deprecated; in a future version of numpy, it will be understood as (type, (1,)) / '(1,)type'.\n",
      "  _np_quint8 = np.dtype([(\"quint8\", np.uint8, 1)])\n",
      "/home/ak/anaconda3/envs/ds3_kernels/lib/python3.6/site-packages/tensorflow/python/framework/dtypes.py:460: FutureWarning: Passing (type, 1) or '1type' as a synonym of type is deprecated; in a future version of numpy, it will be understood as (type, (1,)) / '(1,)type'.\n",
      "  _np_qint16 = np.dtype([(\"qint16\", np.int16, 1)])\n",
      "/home/ak/anaconda3/envs/ds3_kernels/lib/python3.6/site-packages/tensorflow/python/framework/dtypes.py:461: FutureWarning: Passing (type, 1) or '1type' as a synonym of type is deprecated; in a future version of numpy, it will be understood as (type, (1,)) / '(1,)type'.\n",
      "  _np_quint16 = np.dtype([(\"quint16\", np.uint16, 1)])\n",
      "/home/ak/anaconda3/envs/ds3_kernels/lib/python3.6/site-packages/tensorflow/python/framework/dtypes.py:462: FutureWarning: Passing (type, 1) or '1type' as a synonym of type is deprecated; in a future version of numpy, it will be understood as (type, (1,)) / '(1,)type'.\n",
      "  _np_qint32 = np.dtype([(\"qint32\", np.int32, 1)])\n",
      "/home/ak/anaconda3/envs/ds3_kernels/lib/python3.6/site-packages/tensorflow/python/framework/dtypes.py:465: FutureWarning: Passing (type, 1) or '1type' as a synonym of type is deprecated; in a future version of numpy, it will be understood as (type, (1,)) / '(1,)type'.\n",
      "  np_resource = np.dtype([(\"resource\", np.ubyte, 1)])\n"
     ]
    }
   ],
   "source": [
    "import stylised_facts_data_utilities.mmd as mmd\n",
    "import stylised_facts_data_utilities.ksd as ksd\n",
    "import stylised_facts_data_utilities.longtaildistr as ltd\n"
   ]
  },
  {
   "cell_type": "code",
   "execution_count": 3,
   "metadata": {},
   "outputs": [],
   "source": [
    "# getting all the data in \n",
    "ActivityCLockData= '/media/ak/My Passport/Experiment Data/ActivityClockData/'\n",
    "OHLCData= '/media/ak/My Passport/Experiment Data/OHLCData/'\n",
    "folderList = os.listdir(ActivityCLockData)\n",
    "OHLCDataList = os.listdir(OHLCData)\n",
    "ActivityClockDataList = os.listdir(ActivityCLockData)\n",
    "figuresFolder = '/home/ak/Documents/Research/Papers/StylisedFactsPaper/figures/'\n",
    "symbols =['FB1','JB1','FV1','G_1']\n",
    "futuresData = collections.defaultdict(dict)"
   ]
  },
  {
   "cell_type": "code",
   "execution_count": 4,
   "metadata": {},
   "outputs": [
    {
     "name": "stderr",
     "output_type": "stream",
     "text": [
      "\r",
      "  0%|          | 0/4 [00:00<?, ?it/s]"
     ]
    },
    {
     "name": "stdout",
     "output_type": "stream",
     "text": [
      "FB1\n"
     ]
    },
    {
     "name": "stderr",
     "output_type": "stream",
     "text": [
      "\r",
      " 25%|██▌       | 1/4 [00:01<00:04,  1.44s/it]"
     ]
    },
    {
     "name": "stdout",
     "output_type": "stream",
     "text": [
      "JB1\n"
     ]
    },
    {
     "name": "stderr",
     "output_type": "stream",
     "text": [
      "\r",
      " 50%|█████     | 2/4 [00:09<00:06,  3.30s/it]"
     ]
    },
    {
     "name": "stdout",
     "output_type": "stream",
     "text": [
      "FV1\n"
     ]
    },
    {
     "name": "stderr",
     "output_type": "stream",
     "text": [
      "\r",
      " 75%|███████▌  | 3/4 [03:20<00:59, 59.71s/it]"
     ]
    },
    {
     "name": "stdout",
     "output_type": "stream",
     "text": [
      "G_1\n"
     ]
    },
    {
     "name": "stderr",
     "output_type": "stream",
     "text": [
      "100%|██████████| 4/4 [04:03<00:00, 60.92s/it]\n"
     ]
    }
   ],
   "source": [
    "\n",
    "for symbol in tqdm.tqdm(symbols):\n",
    "    print(symbol)\n",
    "    for file in list(np.sort([s for s in os.listdir(ActivityCLockData) if 'Clocks' in s and (str(symbol)) in s])):\n",
    "        pklClockFile = \"\".join((ActivityCLockData,file))\n",
    "        #print(pklClockFile.split(\"_\")[-2])\n",
    "        futuresData[symbol][pklClockFile.split(\"_\")[-2]]=pickle.load(open(pklClockFile , \"rb\"))['TickBarDf']\n",
    "                                                                                                             \n",
    "                                                                                                             \n",
    "                                                                                                             \n",
    "                               "
   ]
  },
  {
   "cell_type": "code",
   "execution_count": 17,
   "metadata": {},
   "outputs": [],
   "source": [
    "futuresDataKeys = list(futuresData.keys())\n",
    "symbolDates = list(futuresData[futuresDataKeys[0]].keys())"
   ]
  },
  {
   "cell_type": "code",
   "execution_count": 23,
   "metadata": {},
   "outputs": [
    {
     "data": {
      "text/plain": [
       "['20180416',\n",
       " '20180417',\n",
       " '20180418',\n",
       " '20180419',\n",
       " '20180420',\n",
       " '20180423',\n",
       " '20180424',\n",
       " '20180425',\n",
       " '20180426',\n",
       " '20180427',\n",
       " '20180430',\n",
       " '20180502',\n",
       " '20180503',\n",
       " '20180504',\n",
       " '20180507',\n",
       " '20180509',\n",
       " '20180510',\n",
       " '20180511',\n",
       " '20180514',\n",
       " '20180515',\n",
       " '20180516',\n",
       " '20180517',\n",
       " '20180518',\n",
       " '20180521',\n",
       " '20180522',\n",
       " '20180523',\n",
       " '20180524',\n",
       " '20180525',\n",
       " '20180528',\n",
       " '20180529',\n",
       " '20180531',\n",
       " '20180601',\n",
       " '20180604',\n",
       " '20180605',\n",
       " '20180606',\n",
       " '20180607',\n",
       " '20180608',\n",
       " '20180611',\n",
       " '20180612',\n",
       " '20180613']"
      ]
     },
     "execution_count": 23,
     "metadata": {},
     "output_type": "execute_result"
    }
   ],
   "source": [
    "symbolDates"
   ]
  },
  {
   "cell_type": "code",
   "execution_count": 9,
   "metadata": {},
   "outputs": [
    {
     "data": {
      "text/plain": [
       "[['BidSize',\n",
       "  'QuoteTime',\n",
       "  'BestBid',\n",
       "  'TradeTime',\n",
       "  'AskSize',\n",
       "  'BestAsk',\n",
       "  'TradeVolume',\n",
       "  'TradedTime',\n",
       "  'type',\n",
       "  'TradePrice',\n",
       "  'TimeStamp',\n",
       "  'milliSeconds',\n",
       "  'DollarVolume',\n",
       "  'MicroPrice',\n",
       "  'TradeSize',\n",
       "  'DollarVolumeTraded']]"
      ]
     },
     "execution_count": 9,
     "metadata": {},
     "output_type": "execute_result"
    }
   ],
   "source": [
    "[['BidSize', 'QuoteTime','BestBid',\n",
    "       'TradeTime', 'AskSize','BestAsk', 'TradeVolume', 'TradedTime', 'type',\n",
    "       'TradePrice', 'TimeStamp', 'milliSeconds','DollarVolume', 'MicroPrice', 'TradeSize', 'DollarVolumeTraded']]\n",
    "   "
   ]
  },
  {
   "cell_type": "code",
   "execution_count": 10,
   "metadata": {},
   "outputs": [
    {
     "data": {
      "text/plain": [
       "'G_1'"
      ]
     },
     "execution_count": 10,
     "metadata": {},
     "output_type": "execute_result"
    }
   ],
   "source": [
    "df= futuresData[futuresDataKeys[3]][symbolDates[2]]\n",
    "futuresDataKeys[3]"
   ]
  },
  {
   "cell_type": "code",
   "execution_count": 11,
   "metadata": {},
   "outputs": [],
   "source": [
    "dfConcat = pd.concat(list(futuresData[futuresDataKeys[3]].values() ), axis =0, keys = list(futuresData[futuresDataKeys[3]].keys()))"
   ]
  },
  {
   "cell_type": "code",
   "execution_count": null,
   "metadata": {},
   "outputs": [],
   "source": [
    "# need the vrious clocks"
   ]
  },
  {
   "cell_type": "code",
   "execution_count": 26,
   "metadata": {},
   "outputs": [],
   "source": [
    "calcLOBdf = createLOB.calcLOB(createLOB.formatLOB(dfConcat))"
   ]
  },
  {
   "cell_type": "code",
   "execution_count": 27,
   "metadata": {},
   "outputs": [],
   "source": [
    "LOBdf =createLOB.formatLOB(calcLOBdf )"
   ]
  },
  {
   "cell_type": "code",
   "execution_count": 28,
   "metadata": {},
   "outputs": [],
   "source": [
    "mpChange = LOBdf.MicroPricePctChange.dropna().values"
   ]
  },
  {
   "cell_type": "code",
   "execution_count": 36,
   "metadata": {},
   "outputs": [
    {
     "data": {
      "text/html": [
       "<div>\n",
       "<style scoped>\n",
       "    .dataframe tbody tr th:only-of-type {\n",
       "        vertical-align: middle;\n",
       "    }\n",
       "\n",
       "    .dataframe tbody tr th {\n",
       "        vertical-align: top;\n",
       "    }\n",
       "\n",
       "    .dataframe thead th {\n",
       "        text-align: right;\n",
       "    }\n",
       "</style>\n",
       "<table border=\"1\" class=\"dataframe\">\n",
       "  <thead>\n",
       "    <tr style=\"text-align: right;\">\n",
       "      <th></th>\n",
       "      <th></th>\n",
       "      <th>BidQuoteId</th>\n",
       "      <th>BidSize</th>\n",
       "      <th>QuoteTime</th>\n",
       "      <th>type_x</th>\n",
       "      <th>BestBid</th>\n",
       "      <th>TradeTime</th>\n",
       "      <th>AskQuoteId</th>\n",
       "      <th>AskSize</th>\n",
       "      <th>time_y</th>\n",
       "      <th>type_y</th>\n",
       "      <th>...</th>\n",
       "      <th>TradeSize</th>\n",
       "      <th>DollarVolumeTraded</th>\n",
       "      <th>Duration</th>\n",
       "      <th>PriceChange</th>\n",
       "      <th>LogReturn</th>\n",
       "      <th>BidOffer</th>\n",
       "      <th>MicroPricePctChange</th>\n",
       "      <th>FwdMPChange_1</th>\n",
       "      <th>FwdMPChange_5</th>\n",
       "      <th>LogTradeSize</th>\n",
       "    </tr>\n",
       "  </thead>\n",
       "  <tbody>\n",
       "    <tr>\n",
       "      <th rowspan=\"3\" valign=\"top\">20180416</th>\n",
       "      <th>4</th>\n",
       "      <td>80</td>\n",
       "      <td>37</td>\n",
       "      <td>2018-04-16 07:00:00.358</td>\n",
       "      <td>BID</td>\n",
       "      <td>121.89</td>\n",
       "      <td>2018-04-16 07:00:00.358</td>\n",
       "      <td>81</td>\n",
       "      <td>35</td>\n",
       "      <td>2018-04-16 07:00:00.358</td>\n",
       "      <td>ASK</td>\n",
       "      <td>...</td>\n",
       "      <td>1</td>\n",
       "      <td>121.89</td>\n",
       "      <td>0.0</td>\n",
       "      <td>NaN</td>\n",
       "      <td>NaN</td>\n",
       "      <td>0.01</td>\n",
       "      <td>NaN</td>\n",
       "      <td>NaN</td>\n",
       "      <td>NaN</td>\n",
       "      <td>0.0</td>\n",
       "    </tr>\n",
       "    <tr>\n",
       "      <th>9</th>\n",
       "      <td>94</td>\n",
       "      <td>40</td>\n",
       "      <td>2018-04-16 07:00:00.585</td>\n",
       "      <td>BID</td>\n",
       "      <td>121.89</td>\n",
       "      <td>2018-04-16 07:00:00.585</td>\n",
       "      <td>95</td>\n",
       "      <td>44</td>\n",
       "      <td>2018-04-16 07:00:00.585</td>\n",
       "      <td>ASK</td>\n",
       "      <td>...</td>\n",
       "      <td>1</td>\n",
       "      <td>121.89</td>\n",
       "      <td>227.0</td>\n",
       "      <td>0.000000</td>\n",
       "      <td>0.000000</td>\n",
       "      <td>0.01</td>\n",
       "      <td>0.000003</td>\n",
       "      <td>NaN</td>\n",
       "      <td>NaN</td>\n",
       "      <td>0.0</td>\n",
       "    </tr>\n",
       "    <tr>\n",
       "      <th>14</th>\n",
       "      <td>120</td>\n",
       "      <td>61</td>\n",
       "      <td>2018-04-16 07:00:00.726</td>\n",
       "      <td>BID</td>\n",
       "      <td>121.90</td>\n",
       "      <td>2018-04-16 07:00:00.726</td>\n",
       "      <td>122</td>\n",
       "      <td>16</td>\n",
       "      <td>2018-04-16 07:00:00.726</td>\n",
       "      <td>ASK</td>\n",
       "      <td>...</td>\n",
       "      <td>1</td>\n",
       "      <td>121.91</td>\n",
       "      <td>141.0</td>\n",
       "      <td>0.000164</td>\n",
       "      <td>0.000164</td>\n",
       "      <td>0.01</td>\n",
       "      <td>0.000056</td>\n",
       "      <td>0.000003</td>\n",
       "      <td>NaN</td>\n",
       "      <td>0.0</td>\n",
       "    </tr>\n",
       "  </tbody>\n",
       "</table>\n",
       "<p>3 rows × 31 columns</p>\n",
       "</div>"
      ],
      "text/plain": [
       "             BidQuoteId  BidSize                QuoteTime type_x  BestBid  \\\n",
       "20180416 4           80       37  2018-04-16 07:00:00.358    BID   121.89   \n",
       "         9           94       40  2018-04-16 07:00:00.585    BID   121.89   \n",
       "         14         120       61  2018-04-16 07:00:00.726    BID   121.90   \n",
       "\n",
       "                          TradeTime  AskQuoteId  AskSize  \\\n",
       "20180416 4  2018-04-16 07:00:00.358          81       35   \n",
       "         9  2018-04-16 07:00:00.585          95       44   \n",
       "         14 2018-04-16 07:00:00.726         122       16   \n",
       "\n",
       "                              time_y type_y  ...  TradeSize  \\\n",
       "20180416 4   2018-04-16 07:00:00.358    ASK  ...          1   \n",
       "         9   2018-04-16 07:00:00.585    ASK  ...          1   \n",
       "         14  2018-04-16 07:00:00.726    ASK  ...          1   \n",
       "\n",
       "             DollarVolumeTraded  Duration PriceChange LogReturn  BidOffer  \\\n",
       "20180416 4               121.89       0.0         NaN       NaN      0.01   \n",
       "         9               121.89     227.0    0.000000  0.000000      0.01   \n",
       "         14              121.91     141.0    0.000164  0.000164      0.01   \n",
       "\n",
       "             MicroPricePctChange FwdMPChange_1  FwdMPChange_5  LogTradeSize  \n",
       "20180416 4                   NaN           NaN            NaN           0.0  \n",
       "         9              0.000003           NaN            NaN           0.0  \n",
       "         14             0.000056      0.000003            NaN           0.0  \n",
       "\n",
       "[3 rows x 31 columns]"
      ]
     },
     "execution_count": 36,
     "metadata": {},
     "output_type": "execute_result"
    }
   ],
   "source": [
    "LOBdf.head(3)"
   ]
  },
  {
   "cell_type": "code",
   "execution_count": 35,
   "metadata": {
    "scrolled": true
   },
   "outputs": [],
   "source": [
    "# fig = plt.figure()\n",
    "# ax=plt.hist(mpChange, alpha=0.5, color='r', bins=10)\n",
    "# # figuresTarget = os.path.join(figuresFolder, str(futuresDataKeys[3])+\"micropriceHisto.png\")\n",
    "# plt.title('Microprice for symbol '+ str(futuresDataKeys[3]))\n",
    "# plt.savefig(figuresTarget )\n",
    "# plt.tight_layout()"
   ]
  },
  {
   "cell_type": "code",
   "execution_count": null,
   "metadata": {},
   "outputs": [],
   "source": []
  },
  {
   "cell_type": "code",
   "execution_count": null,
   "metadata": {},
   "outputs": [],
   "source": [
    "from scipy import stats\n",
    "pd.DataFrame(stats.describe(mpChange))"
   ]
  },
  {
   "cell_type": "code",
   "execution_count": null,
   "metadata": {},
   "outputs": [],
   "source": [
    "from scipy.stats import norm, laplace\n",
    "\n",
    "def sample_gaussian_vs_laplace(n=220, mu=0.0, sigma2=None, b=np.sqrt(0.5)):    \n",
    "    # sample from both distributions\n",
    "    X=norm.rvs(size=n, loc=mu, scale=sigma2)\n",
    "    Y=laplace.rvs(size=n, loc=mu, scale=b)\n",
    "    \n",
    "    return X,Y"
   ]
  },
  {
   "cell_type": "code",
   "execution_count": null,
   "metadata": {},
   "outputs": [],
   "source": [
    "X, Y = sample_gaussian_vs_laplace(n=len(mpChange), mu= np.average(mpChange), sigma2 = np.std(mpChange), b=np.sqrt(0.5))"
   ]
  },
  {
   "cell_type": "code",
   "execution_count": null,
   "metadata": {},
   "outputs": [],
   "source": [
    "plt.hist(X, alpha=0.9)\n",
    "plt.hist(mpChange, alpha=0.5, color='r');"
   ]
  },
  {
   "cell_type": "code",
   "execution_count": null,
   "metadata": {},
   "outputs": [],
   "source": [
    "samples_p = RealFeatures(X.reshape(1,len(X)))\n",
    "samples_q = RealFeatures(Y.reshape(1,len(Y)))\n",
    "samples_z = RealFeatures(mpChange.reshape(1,len(mpChange)))"
   ]
  },
  {
   "cell_type": "code",
   "execution_count": null,
   "metadata": {},
   "outputs": [],
   "source": [
    "mmd = QuadraticTimeMMD(samples_p, samples_z)\n",
    "kernel = GaussianKernel(10, 1)\n",
    "mmd.set_kernel(kernel)\n",
    "alpha = 0.05"
   ]
  },
  {
   "cell_type": "code",
   "execution_count": null,
   "metadata": {},
   "outputs": [],
   "source": [
    "mmd.set_statistic_type(ST_BIASED_FULL)\n",
    "statistic = mmd.compute_statistic()\n",
    "mmd.set_null_approximation_method(NAM_PERMUTATION)\n",
    "mmd.set_num_null_samples(200)\n",
    "threshold = mmd.compute_threshold(alpha)\n",
    "p_value = mmd.compute_p_value(statistic)\n",
    "print(p_value)"
   ]
  },
  {
   "cell_type": "code",
   "execution_count": null,
   "metadata": {},
   "outputs": [],
   "source": [
    "def two_sample_permutation_test(test_statistic, X, Y, num_permutations, prog_bar=True):\n",
    "    assert X.ndim == Y.ndim\n",
    "    \n",
    "    statistics = np.zeros(num_permutations)\n",
    "    \n",
    "    range_ = range(num_permutations)\n",
    "    if prog_bar:\n",
    "        range_ = tqdm(range_)\n",
    "    for i in range_:\n",
    "        # concatenate samples\n",
    "        if X.ndim == 1:\n",
    "            Z = np.hstack((X,Y))\n",
    "        elif X.ndim == 2:\n",
    "            Z = np.vstack((X,Y))\n",
    "            \n",
    "        # IMPLEMENT: permute samples and compute test statistic\n",
    "        perm_inds = np.random.permutation(len(Z))\n",
    "        Z = Z[perm_inds]\n",
    "        X_ = Z[:len(X)]\n",
    "        Y_ = Z[len(X):]\n",
    "        my_test_statistic = test_statistic(X_, Y_)\n",
    "        statistics[i] = my_test_statistic\n",
    "    return statistics"
   ]
  },
  {
   "cell_type": "code",
   "execution_count": null,
   "metadata": {
    "scrolled": true
   },
   "outputs": [],
   "source": [
    "import tensorflow as tf\n",
    "sigma_median= 1\n",
    "\n",
    "with tf.Session() as sess:\n",
    "    init = tf.global_variables_initializer()\n",
    "    sess.run(init)\n",
    "#     print(\"MMD and ratio:\", sess.run(mmd.rbf_mmd2_and_ratio(X,Y, sigma=sigma_median)))"
   ]
  },
  {
   "cell_type": "code",
   "execution_count": null,
   "metadata": {},
   "outputs": [],
   "source": [
    "import tqdm \n",
    "log_sigmas = np.linspace(-2, 2,10)\n",
    "                         \n",
    "ratios = np.empty(len(log_sigmas))\n",
    "\n",
    "with tf.Session() as sess:\n",
    "    init = tf.global_variables_initializer()\n",
    "    sess.run(init)\n",
    "    \n",
    "    # IMPLEMENT: compute ratio for every sigma\n",
    "    for i, log_sigma in list(enumerate(log_sigmas)):\n",
    "        current_ratio = sess.run(mmd.rbf_mmd2_and_ratio(X_learn,Y_learn, sigma=10**log_sigma))[1]\n",
    "        ratios[i] = current_ratio\n",
    "\n",
    "plt.plot(log_sigmas, ratios)\n",
    "plt.grid(True)\n",
    "plt.xlabel(\"Log sigma\")\n",
    "plt.ylabel(\"Ratio of MMD and variance (proportional to test power)\")\n",
    "\n",
    "print(\"best sigma:\", 10**log_sigmas[np.argmax(ratios)])"
   ]
  },
  {
   "cell_type": "code",
   "execution_count": null,
   "metadata": {},
   "outputs": [],
   "source": []
  }
 ],
 "metadata": {
  "kernelspec": {
   "display_name": "Python 3",
   "language": "python",
   "name": "python3"
  },
  "language_info": {
   "codemirror_mode": {
    "name": "ipython",
    "version": 3
   },
   "file_extension": ".py",
   "mimetype": "text/x-python",
   "name": "python",
   "nbconvert_exporter": "python",
   "pygments_lexer": "ipython3",
   "version": "3.6.10"
  },
  "latex_envs": {
   "LaTeX_envs_menu_present": true,
   "autoclose": false,
   "autocomplete": true,
   "bibliofile": "biblio.bib",
   "cite_by": "apalike",
   "current_citInitial": 1,
   "eqLabelWithNumbers": true,
   "eqNumInitial": 1,
   "hotkeys": {
    "equation": "Ctrl-E",
    "itemize": "Ctrl-I"
   },
   "labels_anchors": false,
   "latex_user_defs": false,
   "report_style_numbering": false,
   "user_envs_cfg": false
  }
 },
 "nbformat": 4,
 "nbformat_minor": 4
}
