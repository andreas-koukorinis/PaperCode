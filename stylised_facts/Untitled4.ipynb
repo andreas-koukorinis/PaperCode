{
 "cells": [
  {
   "cell_type": "code",
   "execution_count": 1,
   "id": "2c636517",
   "metadata": {},
   "outputs": [
    {
     "name": "stderr",
     "output_type": "stream",
     "text": [
      "/home/ak/anaconda3/envs/mmd-kernels/lib/python3.7/site-packages/outdated/utils.py:18: OutdatedPackageWarning: The package pingouin is out of date. Your version is 0.4.0, the latest is 0.5.0.\n",
      "Set the environment variable OUTDATED_IGNORE=1 to disable these warnings.\n",
      "  **kwargs\n"
     ]
    }
   ],
   "source": [
    "import numpy as np\n",
    "import matplotlib.pyplot as plt\n",
    "import pandas as pd\n",
    "import numpy as np\n",
    "import os\n",
    "import lob_for_futures as lobFut\n",
    "from lob_for_futures import *\n",
    "import os\n",
    "import matplotlib.pyplot as plt\n",
    "\n",
    "from dateutil.parser import parse\n",
    "from pandas.tseries.offsets import BDay\n",
    "import pickle as pkl\n",
    "import fnmatch\n",
    "import pickle\n",
    "import datetime as dt\n",
    "from datetime import timedelta\n",
    "import glob\n",
    "import fathon\n",
    "from fathon import fathonUtils as fu\n",
    "import itertools\n",
    "import pyinform as pyinf\n",
    "import pingouin as pig\n",
    "from scipy.stats import entropy\n",
    "from scipy.spatial.distance import jensenshannon\n",
    "from scipy.special import kl_div\n",
    "import time\n",
    "import matplotlib.ticker as mtick\n",
    "\n",
    "dataFolder = lobFut.dataFolder\n",
    "quotes = [f for f in os.listdir(dataFolder) if str('_quotes') in f]\n",
    "trades = [f for f in os.listdir(dataFolder) if str('_trades') in f]\n",
    "\n",
    "# symbolIdx = 0"
   ]
  },
  {
   "cell_type": "code",
   "execution_count": 2,
   "id": "213debe4",
   "metadata": {},
   "outputs": [],
   "source": [
    "\n",
    "\n",
    "symbols = [f.split(\"_\")[0] for f in quotes]\n",
    "\n",
    "from multiprocessing import Pool\n",
    "import pickle\n",
    "\n",
    "trades_cols = ['size', 'time', 'type', 'value']\n",
    "experimentsDestination = '/media/ak/T7/MFDFA Experiments'\n",
    "plt.style.use(os.path.join('/home/ak/.config/matplotlib', 'latexstyle.mplstyle'))\n",
    "informationClockFolder = '/media/ak/T7/FuturesDataSemiProcessed'\n",
    "\n"
   ]
  },
  {
   "cell_type": "code",
   "execution_count": 20,
   "id": "2ee65833",
   "metadata": {},
   "outputs": [],
   "source": [
    "\n",
    "def produce_info_clock_files(date):\n",
    "    bar_returns = dict()\n",
    "    bars_dicts = defaultdict(dict)\n",
    "    informationClockFolder = '/media/ak/T7/FuturesDataSemiProcessed'\n",
    "\n",
    "    df = testClass.load_and_format_data()[str(date)]\n",
    "\n",
    "    input_dict = testClass.get_bars(df)\n",
    "    calendar_bar_df = (testClass.get_concat_data(testClass._bars_dict)['calendar_bars'])\n",
    "    tick_bar_df = testClass.get_concat_data(testClass._bars_dict)['tick_bars']\n",
    "    volume_bar_df = (testClass.get_concat_data(testClass._bars_dict)['volume_bars'])\n",
    "    usd_volume_bar_df = testClass.get_concat_data(testClass._bars_dict)['usd_volume_bars']\n",
    "    vr = returns(volume_bar_df.micro_price_close).replace([np.inf, -np.inf], 0)  # volume\n",
    "    tr = returns(tick_bar_df.micro_price_close).replace([np.inf, -np.inf], 0)  # tick\n",
    "    dr = returns(usd_volume_bar_df.micro_price_close).dropna().replace([np.inf, -np.inf], 0)  # usd volume\n",
    "    df_ret = returns(calendar_bar_df.micro_price_close).dropna().replace([np.inf, -np.inf], 0)  # calendar\n",
    "    bar_returns[date] = {'tick': tr,\n",
    "                         'volume': vr,\n",
    "                         'dollar': dr,\n",
    "                         'calendar': df_ret}\n",
    "    bars_dicts[date]['tick'] = tick_bar_df\n",
    "    bars_dicts[date]['volume'] = volume_bar_df\n",
    "    bars_dicts[date]['calendar'] = calendar_bar_df\n",
    "    bars_dicts[date]['dollar'] = usd_volume_bar_df\n",
    "    print(bar_returns)\n",
    "    symbolFolderToStore = os.path.join(informationClockFolder, symbol)\n",
    "\n",
    "    #  store all values\n",
    "    pickle_out_filename = os.path.join(symbolFolderToStore, str(date) + '.pkl')\n",
    "    pickle_out_filename_returns = os.path.join(symbolFolderToStore, 'Returns_' + str(date) + '.pkl')\n",
    "\n",
    "    pickle.dump(bars_dicts, open(pickle_out_filename, 'wb'), protocol=pickle.HIGHEST_PROTOCOL)\n",
    "    pickle.dump(bar_returns, open(pickle_out_filename_returns, 'wb'), protocol=pickle.HIGHEST_PROTOCOL)\n",
    "\n",
    "    print('just saved: ', pickle_out_filename)\n",
    "\n",
    "    return bar_returns, bars_dicts"
   ]
  },
  {
   "cell_type": "code",
   "execution_count": 4,
   "id": "23d31433",
   "metadata": {},
   "outputs": [
    {
     "name": "stdout",
     "output_type": "stream",
     "text": [
      "TU1\n",
      "/media/ak/T7/FuturesDataSemiProcessed/TU1\n"
     ]
    }
   ],
   "source": [
    "\n",
    "symbolIdx = 9\n",
    "\n",
    "symbol = sorted(symbols)[symbolIdx]\n",
    "print(symbol)\n",
    "\n",
    "symbolFolderToStore = os.path.join(informationClockFolder, symbol)\n",
    "print(symbolFolderToStore)\n",
    "number_of_workers = 5\n",
    "\n",
    "quotesFileCh = os.path.join(dataFolder, quotes[symbolIdx])\n",
    "tradesFileCh = os.path.join(dataFolder, trades[symbolIdx])\n"
   ]
  },
  {
   "cell_type": "code",
   "execution_count": 5,
   "id": "1900699b",
   "metadata": {},
   "outputs": [],
   "source": [
    "\n",
    "# get common Dates\n",
    "quotesDates = sorted([f.split(\".csv\")[0] for f in os.listdir(quotesFileCh)])\n",
    "tradesDates = sorted([f.split(\".csv\")[0] for f in os.listdir(tradesFileCh)])\n",
    "intersectionDates = list(set(quotesDates).intersection(tradesDates))\n",
    "\n",
    "trades_cols = ['size', 'time', 'type', 'value']\n",
    "\n",
    "# params for the clocks\n",
    "\n",
    "calendar_resample_freq = \"300S\"\n",
    "trade_volume_width = 100\n",
    "ticks_width = 100\n",
    "usd_volume_width = 100\n",
    "dates_choice = intersectionDates"
   ]
  },
  {
   "cell_type": "code",
   "execution_count": 7,
   "id": "df85c452",
   "metadata": {},
   "outputs": [
    {
     "name": "stderr",
     "output_type": "stream",
     "text": [
      "2021-11-13 19:49:51,870 DataLoader  INFO Loading data for:20180725\n"
     ]
    },
    {
     "name": "stdout",
     "output_type": "stream",
     "text": [
      "/media/ak/WorkDrive/Data/TU1_Comdty_quotes/20180725.csv\n",
      "/media/ak/WorkDrive/Data/TU1_Comdty_trades/20180725.csv\n"
     ]
    },
    {
     "name": "stderr",
     "output_type": "stream",
     "text": [
      "2021-11-13 19:49:52,395 DataLoader  INFO Loading data for:20180724\n"
     ]
    },
    {
     "name": "stdout",
     "output_type": "stream",
     "text": [
      "/media/ak/WorkDrive/Data/TU1_Comdty_quotes/20180724.csv\n",
      "/media/ak/WorkDrive/Data/TU1_Comdty_trades/20180724.csv\n"
     ]
    },
    {
     "name": "stderr",
     "output_type": "stream",
     "text": [
      "2021-11-13 19:49:52,807 DataLoader  INFO Loading data for:20180517\n"
     ]
    },
    {
     "name": "stdout",
     "output_type": "stream",
     "text": [
      "/media/ak/WorkDrive/Data/TU1_Comdty_quotes/20180517.csv\n",
      "/media/ak/WorkDrive/Data/TU1_Comdty_trades/20180517.csv\n"
     ]
    },
    {
     "name": "stderr",
     "output_type": "stream",
     "text": [
      "2021-11-13 19:49:53,292 DataLoader  INFO Loading data for:20180514\n"
     ]
    },
    {
     "name": "stdout",
     "output_type": "stream",
     "text": [
      "/media/ak/WorkDrive/Data/TU1_Comdty_quotes/20180514.csv\n",
      "/media/ak/WorkDrive/Data/TU1_Comdty_trades/20180514.csv\n"
     ]
    },
    {
     "name": "stderr",
     "output_type": "stream",
     "text": [
      "2021-11-13 19:49:53,679 DataLoader  INFO Loading data for:20180511\n"
     ]
    },
    {
     "name": "stdout",
     "output_type": "stream",
     "text": [
      "/media/ak/WorkDrive/Data/TU1_Comdty_quotes/20180511.csv\n",
      "/media/ak/WorkDrive/Data/TU1_Comdty_trades/20180511.csv\n"
     ]
    },
    {
     "name": "stderr",
     "output_type": "stream",
     "text": [
      "2021-11-13 19:49:54,077 DataLoader  INFO Loading data for:20180910\n"
     ]
    },
    {
     "name": "stdout",
     "output_type": "stream",
     "text": [
      "/media/ak/WorkDrive/Data/TU1_Comdty_quotes/20180910.csv\n",
      "/media/ak/WorkDrive/Data/TU1_Comdty_trades/20180910.csv\n"
     ]
    },
    {
     "name": "stderr",
     "output_type": "stream",
     "text": [
      "2021-11-13 19:49:54,407 DataLoader  INFO Loading data for:20180525\n"
     ]
    },
    {
     "name": "stdout",
     "output_type": "stream",
     "text": [
      "/media/ak/WorkDrive/Data/TU1_Comdty_quotes/20180525.csv\n",
      "/media/ak/WorkDrive/Data/TU1_Comdty_trades/20180525.csv\n"
     ]
    },
    {
     "name": "stderr",
     "output_type": "stream",
     "text": [
      "2021-11-13 19:49:54,818 DataLoader  INFO Loading data for:20180531\n"
     ]
    },
    {
     "name": "stdout",
     "output_type": "stream",
     "text": [
      "/media/ak/WorkDrive/Data/TU1_Comdty_quotes/20180531.csv\n",
      "/media/ak/WorkDrive/Data/TU1_Comdty_trades/20180531.csv\n"
     ]
    },
    {
     "name": "stderr",
     "output_type": "stream",
     "text": [
      "2021-11-13 19:49:55,539 DataLoader  INFO Loading data for:20180924\n"
     ]
    },
    {
     "name": "stdout",
     "output_type": "stream",
     "text": [
      "/media/ak/WorkDrive/Data/TU1_Comdty_quotes/20180924.csv\n",
      "/media/ak/WorkDrive/Data/TU1_Comdty_trades/20180924.csv\n"
     ]
    },
    {
     "name": "stderr",
     "output_type": "stream",
     "text": [
      "2021-11-13 19:49:55,912 DataLoader  INFO Loading data for:20180829\n"
     ]
    },
    {
     "name": "stdout",
     "output_type": "stream",
     "text": [
      "/media/ak/WorkDrive/Data/TU1_Comdty_quotes/20180829.csv\n",
      "/media/ak/WorkDrive/Data/TU1_Comdty_trades/20180829.csv\n"
     ]
    },
    {
     "name": "stderr",
     "output_type": "stream",
     "text": [
      "2021-11-13 19:49:56,160 DataLoader  INFO Loading data for:20180830\n"
     ]
    },
    {
     "name": "stdout",
     "output_type": "stream",
     "text": [
      "/media/ak/WorkDrive/Data/TU1_Comdty_quotes/20180830.csv\n",
      "/media/ak/WorkDrive/Data/TU1_Comdty_trades/20180830.csv\n"
     ]
    },
    {
     "name": "stderr",
     "output_type": "stream",
     "text": [
      "2021-11-13 19:49:56,373 DataLoader  INFO Loading data for:20180706\n"
     ]
    },
    {
     "name": "stdout",
     "output_type": "stream",
     "text": [
      "/media/ak/WorkDrive/Data/TU1_Comdty_quotes/20180706.csv\n",
      "/media/ak/WorkDrive/Data/TU1_Comdty_trades/20180706.csv\n"
     ]
    },
    {
     "name": "stderr",
     "output_type": "stream",
     "text": [
      "2021-11-13 19:49:56,786 DataLoader  INFO Loading data for:20180928\n"
     ]
    },
    {
     "name": "stdout",
     "output_type": "stream",
     "text": [
      "/media/ak/WorkDrive/Data/TU1_Comdty_quotes/20180928.csv\n",
      "/media/ak/WorkDrive/Data/TU1_Comdty_trades/20180928.csv\n"
     ]
    },
    {
     "name": "stderr",
     "output_type": "stream",
     "text": [
      "2021-11-13 19:49:57,263 DataLoader  INFO Loading data for:20180817\n"
     ]
    },
    {
     "name": "stdout",
     "output_type": "stream",
     "text": [
      "/media/ak/WorkDrive/Data/TU1_Comdty_quotes/20180817.csv\n",
      "/media/ak/WorkDrive/Data/TU1_Comdty_trades/20180817.csv\n"
     ]
    },
    {
     "name": "stderr",
     "output_type": "stream",
     "text": [
      "2021-11-13 19:49:57,637 DataLoader  INFO Loading data for:20180710\n"
     ]
    },
    {
     "name": "stdout",
     "output_type": "stream",
     "text": [
      "/media/ak/WorkDrive/Data/TU1_Comdty_quotes/20180710.csv\n",
      "/media/ak/WorkDrive/Data/TU1_Comdty_trades/20180710.csv\n"
     ]
    },
    {
     "name": "stderr",
     "output_type": "stream",
     "text": [
      "2021-11-13 19:49:57,940 DataLoader  INFO Loading data for:20180503\n"
     ]
    },
    {
     "name": "stdout",
     "output_type": "stream",
     "text": [
      "/media/ak/WorkDrive/Data/TU1_Comdty_quotes/20180503.csv\n",
      "/media/ak/WorkDrive/Data/TU1_Comdty_trades/20180503.csv\n"
     ]
    },
    {
     "name": "stderr",
     "output_type": "stream",
     "text": [
      "2021-11-13 19:49:58,448 DataLoader  INFO Loading data for:20180921\n"
     ]
    },
    {
     "name": "stdout",
     "output_type": "stream",
     "text": [
      "/media/ak/WorkDrive/Data/TU1_Comdty_quotes/20180921.csv\n",
      "/media/ak/WorkDrive/Data/TU1_Comdty_trades/20180921.csv\n"
     ]
    },
    {
     "name": "stderr",
     "output_type": "stream",
     "text": [
      "2021-11-13 19:49:58,774 DataLoader  INFO Loading data for:20180417\n"
     ]
    },
    {
     "name": "stdout",
     "output_type": "stream",
     "text": [
      "/media/ak/WorkDrive/Data/TU1_Comdty_quotes/20180417.csv\n",
      "/media/ak/WorkDrive/Data/TU1_Comdty_trades/20180417.csv\n"
     ]
    },
    {
     "name": "stderr",
     "output_type": "stream",
     "text": [
      "2021-11-13 19:49:59,195 DataLoader  INFO Loading data for:20181011\n"
     ]
    },
    {
     "name": "stdout",
     "output_type": "stream",
     "text": [
      "/media/ak/WorkDrive/Data/TU1_Comdty_quotes/20181011.csv\n",
      "/media/ak/WorkDrive/Data/TU1_Comdty_trades/20181011.csv\n"
     ]
    },
    {
     "name": "stderr",
     "output_type": "stream",
     "text": [
      "2021-11-13 19:50:00,434 DataLoader  INFO Loading data for:20180612\n"
     ]
    },
    {
     "name": "stdout",
     "output_type": "stream",
     "text": [
      "/media/ak/WorkDrive/Data/TU1_Comdty_quotes/20180612.csv\n",
      "/media/ak/WorkDrive/Data/TU1_Comdty_trades/20180612.csv\n"
     ]
    },
    {
     "name": "stderr",
     "output_type": "stream",
     "text": [
      "2021-11-13 19:50:00,848 DataLoader  INFO Loading data for:20180709\n"
     ]
    },
    {
     "name": "stdout",
     "output_type": "stream",
     "text": [
      "/media/ak/WorkDrive/Data/TU1_Comdty_quotes/20180709.csv\n",
      "/media/ak/WorkDrive/Data/TU1_Comdty_trades/20180709.csv\n"
     ]
    },
    {
     "name": "stderr",
     "output_type": "stream",
     "text": [
      "2021-11-13 19:50:01,093 DataLoader  INFO Loading data for:20180718\n"
     ]
    },
    {
     "name": "stdout",
     "output_type": "stream",
     "text": [
      "/media/ak/WorkDrive/Data/TU1_Comdty_quotes/20180718.csv\n",
      "/media/ak/WorkDrive/Data/TU1_Comdty_trades/20180718.csv\n"
     ]
    },
    {
     "name": "stderr",
     "output_type": "stream",
     "text": [
      "2021-11-13 19:50:01,337 DataLoader  INFO Loading data for:20181005\n"
     ]
    },
    {
     "name": "stdout",
     "output_type": "stream",
     "text": [
      "/media/ak/WorkDrive/Data/TU1_Comdty_quotes/20181005.csv\n",
      "/media/ak/WorkDrive/Data/TU1_Comdty_trades/20181005.csv\n"
     ]
    },
    {
     "name": "stderr",
     "output_type": "stream",
     "text": [
      "2021-11-13 19:50:01,982 DataLoader  INFO Loading data for:20180524\n"
     ]
    },
    {
     "name": "stdout",
     "output_type": "stream",
     "text": [
      "/media/ak/WorkDrive/Data/TU1_Comdty_quotes/20180524.csv\n",
      "/media/ak/WorkDrive/Data/TU1_Comdty_trades/20180524.csv\n"
     ]
    },
    {
     "name": "stderr",
     "output_type": "stream",
     "text": [
      "2021-11-13 19:50:02,430 DataLoader  INFO Loading data for:20180820\n"
     ]
    },
    {
     "name": "stdout",
     "output_type": "stream",
     "text": [
      "/media/ak/WorkDrive/Data/TU1_Comdty_quotes/20180820.csv\n",
      "/media/ak/WorkDrive/Data/TU1_Comdty_trades/20180820.csv\n"
     ]
    },
    {
     "name": "stderr",
     "output_type": "stream",
     "text": [
      "2021-11-13 19:50:02,768 DataLoader  INFO Loading data for:20180711\n"
     ]
    },
    {
     "name": "stdout",
     "output_type": "stream",
     "text": [
      "/media/ak/WorkDrive/Data/TU1_Comdty_quotes/20180711.csv\n",
      "/media/ak/WorkDrive/Data/TU1_Comdty_trades/20180711.csv\n"
     ]
    },
    {
     "name": "stderr",
     "output_type": "stream",
     "text": [
      "2021-11-13 19:50:03,171 DataLoader  INFO Loading data for:20180703\n"
     ]
    },
    {
     "name": "stdout",
     "output_type": "stream",
     "text": [
      "/media/ak/WorkDrive/Data/TU1_Comdty_quotes/20180703.csv\n",
      "/media/ak/WorkDrive/Data/TU1_Comdty_trades/20180703.csv\n"
     ]
    },
    {
     "name": "stderr",
     "output_type": "stream",
     "text": [
      "2021-11-13 19:50:03,517 DataLoader  INFO Loading data for:20180822\n"
     ]
    },
    {
     "name": "stdout",
     "output_type": "stream",
     "text": [
      "/media/ak/WorkDrive/Data/TU1_Comdty_quotes/20180822.csv\n",
      "/media/ak/WorkDrive/Data/TU1_Comdty_trades/20180822.csv\n"
     ]
    },
    {
     "name": "stderr",
     "output_type": "stream",
     "text": [
      "2021-11-13 19:50:03,981 DataLoader  INFO Loading data for:20180920\n"
     ]
    },
    {
     "name": "stdout",
     "output_type": "stream",
     "text": [
      "/media/ak/WorkDrive/Data/TU1_Comdty_quotes/20180920.csv\n",
      "/media/ak/WorkDrive/Data/TU1_Comdty_trades/20180920.csv\n"
     ]
    },
    {
     "name": "stderr",
     "output_type": "stream",
     "text": [
      "2021-11-13 19:50:04,469 DataLoader  INFO Loading data for:20180627\n"
     ]
    },
    {
     "name": "stdout",
     "output_type": "stream",
     "text": [
      "/media/ak/WorkDrive/Data/TU1_Comdty_quotes/20180627.csv\n",
      "/media/ak/WorkDrive/Data/TU1_Comdty_trades/20180627.csv\n"
     ]
    },
    {
     "name": "stderr",
     "output_type": "stream",
     "text": [
      "2021-11-13 19:50:05,022 DataLoader  INFO Loading data for:20180925\n"
     ]
    },
    {
     "name": "stdout",
     "output_type": "stream",
     "text": [
      "/media/ak/WorkDrive/Data/TU1_Comdty_quotes/20180925.csv\n",
      "/media/ak/WorkDrive/Data/TU1_Comdty_trades/20180925.csv\n"
     ]
    },
    {
     "name": "stderr",
     "output_type": "stream",
     "text": [
      "2021-11-13 19:50:05,422 DataLoader  INFO Loading data for:20181001\n"
     ]
    },
    {
     "name": "stdout",
     "output_type": "stream",
     "text": [
      "/media/ak/WorkDrive/Data/TU1_Comdty_quotes/20181001.csv\n",
      "/media/ak/WorkDrive/Data/TU1_Comdty_trades/20181001.csv\n"
     ]
    },
    {
     "name": "stderr",
     "output_type": "stream",
     "text": [
      "2021-11-13 19:50:05,821 DataLoader  INFO Loading data for:20180809\n"
     ]
    },
    {
     "name": "stdout",
     "output_type": "stream",
     "text": [
      "/media/ak/WorkDrive/Data/TU1_Comdty_quotes/20180809.csv\n",
      "/media/ak/WorkDrive/Data/TU1_Comdty_trades/20180809.csv\n"
     ]
    },
    {
     "name": "stderr",
     "output_type": "stream",
     "text": [
      "2021-11-13 19:50:06,165 DataLoader  INFO Loading data for:20180510\n"
     ]
    },
    {
     "name": "stdout",
     "output_type": "stream",
     "text": [
      "/media/ak/WorkDrive/Data/TU1_Comdty_quotes/20180510.csv\n",
      "/media/ak/WorkDrive/Data/TU1_Comdty_trades/20180510.csv\n"
     ]
    },
    {
     "name": "stderr",
     "output_type": "stream",
     "text": [
      "2021-11-13 19:50:06,631 DataLoader  INFO Loading data for:20180730\n"
     ]
    },
    {
     "name": "stdout",
     "output_type": "stream",
     "text": [
      "/media/ak/WorkDrive/Data/TU1_Comdty_quotes/20180730.csv\n",
      "/media/ak/WorkDrive/Data/TU1_Comdty_trades/20180730.csv\n"
     ]
    },
    {
     "name": "stderr",
     "output_type": "stream",
     "text": [
      "2021-11-13 19:50:07,011 DataLoader  INFO Loading data for:20180424\n"
     ]
    },
    {
     "name": "stdout",
     "output_type": "stream",
     "text": [
      "/media/ak/WorkDrive/Data/TU1_Comdty_quotes/20180424.csv\n",
      "/media/ak/WorkDrive/Data/TU1_Comdty_trades/20180424.csv\n"
     ]
    },
    {
     "name": "stderr",
     "output_type": "stream",
     "text": [
      "2021-11-13 19:50:07,532 DataLoader  INFO Loading data for:20180426\n"
     ]
    },
    {
     "name": "stdout",
     "output_type": "stream",
     "text": [
      "/media/ak/WorkDrive/Data/TU1_Comdty_quotes/20180426.csv\n",
      "/media/ak/WorkDrive/Data/TU1_Comdty_trades/20180426.csv\n"
     ]
    },
    {
     "name": "stderr",
     "output_type": "stream",
     "text": [
      "2021-11-13 19:50:07,988 DataLoader  INFO Loading data for:20180629\n"
     ]
    },
    {
     "name": "stdout",
     "output_type": "stream",
     "text": [
      "/media/ak/WorkDrive/Data/TU1_Comdty_quotes/20180629.csv\n",
      "/media/ak/WorkDrive/Data/TU1_Comdty_trades/20180629.csv\n"
     ]
    },
    {
     "name": "stderr",
     "output_type": "stream",
     "text": [
      "2021-11-13 19:50:08,439 DataLoader  INFO Loading data for:20181010\n"
     ]
    },
    {
     "name": "stdout",
     "output_type": "stream",
     "text": [
      "/media/ak/WorkDrive/Data/TU1_Comdty_quotes/20181010.csv\n",
      "/media/ak/WorkDrive/Data/TU1_Comdty_trades/20181010.csv\n"
     ]
    },
    {
     "name": "stderr",
     "output_type": "stream",
     "text": [
      "2021-11-13 19:50:09,208 DataLoader  INFO Loading data for:20180601\n"
     ]
    },
    {
     "name": "stdout",
     "output_type": "stream",
     "text": [
      "/media/ak/WorkDrive/Data/TU1_Comdty_quotes/20180601.csv\n",
      "/media/ak/WorkDrive/Data/TU1_Comdty_trades/20180601.csv\n"
     ]
    },
    {
     "name": "stderr",
     "output_type": "stream",
     "text": [
      "2021-11-13 19:50:09,727 DataLoader  INFO Loading data for:20180813\n"
     ]
    },
    {
     "name": "stdout",
     "output_type": "stream",
     "text": [
      "/media/ak/WorkDrive/Data/TU1_Comdty_quotes/20180813.csv\n",
      "/media/ak/WorkDrive/Data/TU1_Comdty_trades/20180813.csv\n"
     ]
    },
    {
     "name": "stderr",
     "output_type": "stream",
     "text": [
      "2021-11-13 19:50:10,308 DataLoader  INFO Loading data for:20180423\n"
     ]
    },
    {
     "name": "stdout",
     "output_type": "stream",
     "text": [
      "/media/ak/WorkDrive/Data/TU1_Comdty_quotes/20180423.csv\n",
      "/media/ak/WorkDrive/Data/TU1_Comdty_trades/20180423.csv\n"
     ]
    },
    {
     "name": "stderr",
     "output_type": "stream",
     "text": [
      "2021-11-13 19:50:10,725 DataLoader  INFO Loading data for:20180416\n"
     ]
    },
    {
     "name": "stdout",
     "output_type": "stream",
     "text": [
      "/media/ak/WorkDrive/Data/TU1_Comdty_quotes/20180416.csv\n",
      "/media/ak/WorkDrive/Data/TU1_Comdty_trades/20180416.csv\n"
     ]
    },
    {
     "name": "stderr",
     "output_type": "stream",
     "text": [
      "2021-11-13 19:50:11,097 DataLoader  INFO Loading data for:20180806\n"
     ]
    },
    {
     "name": "stdout",
     "output_type": "stream",
     "text": [
      "/media/ak/WorkDrive/Data/TU1_Comdty_quotes/20180806.csv\n",
      "/media/ak/WorkDrive/Data/TU1_Comdty_trades/20180806.csv\n"
     ]
    },
    {
     "name": "stderr",
     "output_type": "stream",
     "text": [
      "2021-11-13 19:50:11,471 DataLoader  INFO Loading data for:20180815\n"
     ]
    },
    {
     "name": "stdout",
     "output_type": "stream",
     "text": [
      "/media/ak/WorkDrive/Data/TU1_Comdty_quotes/20180815.csv\n",
      "/media/ak/WorkDrive/Data/TU1_Comdty_trades/20180815.csv\n"
     ]
    },
    {
     "name": "stderr",
     "output_type": "stream",
     "text": [
      "2021-11-13 19:50:11,881 DataLoader  INFO Loading data for:20180816\n"
     ]
    },
    {
     "name": "stdout",
     "output_type": "stream",
     "text": [
      "/media/ak/WorkDrive/Data/TU1_Comdty_quotes/20180816.csv\n",
      "/media/ak/WorkDrive/Data/TU1_Comdty_trades/20180816.csv\n"
     ]
    },
    {
     "name": "stderr",
     "output_type": "stream",
     "text": [
      "2021-11-13 19:50:12,262 DataLoader  INFO Loading data for:20180802\n"
     ]
    },
    {
     "name": "stdout",
     "output_type": "stream",
     "text": [
      "/media/ak/WorkDrive/Data/TU1_Comdty_quotes/20180802.csv\n",
      "/media/ak/WorkDrive/Data/TU1_Comdty_trades/20180802.csv\n"
     ]
    },
    {
     "name": "stderr",
     "output_type": "stream",
     "text": [
      "2021-11-13 19:50:12,643 DataLoader  INFO Loading data for:20180614\n"
     ]
    },
    {
     "name": "stdout",
     "output_type": "stream",
     "text": [
      "/media/ak/WorkDrive/Data/TU1_Comdty_quotes/20180614.csv\n",
      "/media/ak/WorkDrive/Data/TU1_Comdty_trades/20180614.csv\n"
     ]
    },
    {
     "name": "stderr",
     "output_type": "stream",
     "text": [
      "2021-11-13 19:50:13,172 DataLoader  INFO Loading data for:20180516\n"
     ]
    },
    {
     "name": "stdout",
     "output_type": "stream",
     "text": [
      "/media/ak/WorkDrive/Data/TU1_Comdty_quotes/20180516.csv\n",
      "/media/ak/WorkDrive/Data/TU1_Comdty_trades/20180516.csv\n"
     ]
    },
    {
     "name": "stderr",
     "output_type": "stream",
     "text": [
      "2021-11-13 19:50:13,741 DataLoader  INFO Loading data for:20180628\n"
     ]
    },
    {
     "name": "stdout",
     "output_type": "stream",
     "text": [
      "/media/ak/WorkDrive/Data/TU1_Comdty_quotes/20180628.csv\n",
      "/media/ak/WorkDrive/Data/TU1_Comdty_trades/20180628.csv\n"
     ]
    },
    {
     "name": "stderr",
     "output_type": "stream",
     "text": [
      "2021-11-13 19:50:14,131 DataLoader  INFO Loading data for:20180726\n"
     ]
    },
    {
     "name": "stdout",
     "output_type": "stream",
     "text": [
      "/media/ak/WorkDrive/Data/TU1_Comdty_quotes/20180726.csv\n",
      "/media/ak/WorkDrive/Data/TU1_Comdty_trades/20180726.csv\n"
     ]
    },
    {
     "name": "stderr",
     "output_type": "stream",
     "text": [
      "2021-11-13 19:50:14,528 DataLoader  INFO Loading data for:20180906\n"
     ]
    },
    {
     "name": "stdout",
     "output_type": "stream",
     "text": [
      "/media/ak/WorkDrive/Data/TU1_Comdty_quotes/20180906.csv\n",
      "/media/ak/WorkDrive/Data/TU1_Comdty_trades/20180906.csv\n"
     ]
    },
    {
     "name": "stderr",
     "output_type": "stream",
     "text": [
      "2021-11-13 19:50:15,043 DataLoader  INFO Loading data for:20180907\n"
     ]
    },
    {
     "name": "stdout",
     "output_type": "stream",
     "text": [
      "/media/ak/WorkDrive/Data/TU1_Comdty_quotes/20180907.csv\n",
      "/media/ak/WorkDrive/Data/TU1_Comdty_trades/20180907.csv\n"
     ]
    },
    {
     "name": "stderr",
     "output_type": "stream",
     "text": [
      "2021-11-13 19:50:15,627 DataLoader  INFO Loading data for:20181009\n"
     ]
    },
    {
     "name": "stdout",
     "output_type": "stream",
     "text": [
      "/media/ak/WorkDrive/Data/TU1_Comdty_quotes/20181009.csv\n",
      "/media/ak/WorkDrive/Data/TU1_Comdty_trades/20181009.csv\n"
     ]
    },
    {
     "name": "stderr",
     "output_type": "stream",
     "text": [
      "2021-11-13 19:50:16,127 DataLoader  INFO Loading data for:20180814\n"
     ]
    },
    {
     "name": "stdout",
     "output_type": "stream",
     "text": [
      "/media/ak/WorkDrive/Data/TU1_Comdty_quotes/20180814.csv\n",
      "/media/ak/WorkDrive/Data/TU1_Comdty_trades/20180814.csv\n"
     ]
    },
    {
     "name": "stderr",
     "output_type": "stream",
     "text": [
      "2021-11-13 19:50:16,480 DataLoader  INFO Loading data for:20180625\n"
     ]
    },
    {
     "name": "stdout",
     "output_type": "stream",
     "text": [
      "/media/ak/WorkDrive/Data/TU1_Comdty_quotes/20180625.csv\n",
      "/media/ak/WorkDrive/Data/TU1_Comdty_trades/20180625.csv\n"
     ]
    },
    {
     "name": "stderr",
     "output_type": "stream",
     "text": [
      "2021-11-13 19:50:17,027 DataLoader  INFO Loading data for:20180831\n"
     ]
    },
    {
     "name": "stdout",
     "output_type": "stream",
     "text": [
      "/media/ak/WorkDrive/Data/TU1_Comdty_quotes/20180831.csv\n",
      "/media/ak/WorkDrive/Data/TU1_Comdty_trades/20180831.csv\n"
     ]
    },
    {
     "name": "stderr",
     "output_type": "stream",
     "text": [
      "2021-11-13 19:50:17,406 DataLoader  INFO Loading data for:20180605\n"
     ]
    },
    {
     "name": "stdout",
     "output_type": "stream",
     "text": [
      "/media/ak/WorkDrive/Data/TU1_Comdty_quotes/20180605.csv\n",
      "/media/ak/WorkDrive/Data/TU1_Comdty_trades/20180605.csv\n"
     ]
    },
    {
     "name": "stderr",
     "output_type": "stream",
     "text": [
      "2021-11-13 19:50:18,020 DataLoader  INFO Loading data for:20180418\n"
     ]
    },
    {
     "name": "stdout",
     "output_type": "stream",
     "text": [
      "/media/ak/WorkDrive/Data/TU1_Comdty_quotes/20180418.csv\n",
      "/media/ak/WorkDrive/Data/TU1_Comdty_trades/20180418.csv\n"
     ]
    },
    {
     "name": "stderr",
     "output_type": "stream",
     "text": [
      "2021-11-13 19:50:18,495 DataLoader  INFO Loading data for:20180606\n"
     ]
    },
    {
     "name": "stdout",
     "output_type": "stream",
     "text": [
      "/media/ak/WorkDrive/Data/TU1_Comdty_quotes/20180606.csv\n",
      "/media/ak/WorkDrive/Data/TU1_Comdty_trades/20180606.csv\n"
     ]
    },
    {
     "name": "stderr",
     "output_type": "stream",
     "text": [
      "2021-11-13 19:50:19,026 DataLoader  INFO Loading data for:20181003\n"
     ]
    },
    {
     "name": "stdout",
     "output_type": "stream",
     "text": [
      "/media/ak/WorkDrive/Data/TU1_Comdty_quotes/20181003.csv\n",
      "/media/ak/WorkDrive/Data/TU1_Comdty_trades/20181003.csv\n"
     ]
    },
    {
     "name": "stderr",
     "output_type": "stream",
     "text": [
      "2021-11-13 19:50:19,630 DataLoader  INFO Loading data for:20180727\n"
     ]
    },
    {
     "name": "stdout",
     "output_type": "stream",
     "text": [
      "/media/ak/WorkDrive/Data/TU1_Comdty_quotes/20180727.csv\n",
      "/media/ak/WorkDrive/Data/TU1_Comdty_trades/20180727.csv\n"
     ]
    },
    {
     "name": "stderr",
     "output_type": "stream",
     "text": [
      "2021-11-13 19:50:20,001 DataLoader  INFO Loading data for:20180615\n"
     ]
    },
    {
     "name": "stdout",
     "output_type": "stream",
     "text": [
      "/media/ak/WorkDrive/Data/TU1_Comdty_quotes/20180615.csv\n",
      "/media/ak/WorkDrive/Data/TU1_Comdty_trades/20180615.csv\n"
     ]
    },
    {
     "name": "stderr",
     "output_type": "stream",
     "text": [
      "2021-11-13 19:50:20,436 DataLoader  INFO Loading data for:20180827\n"
     ]
    },
    {
     "name": "stdout",
     "output_type": "stream",
     "text": [
      "/media/ak/WorkDrive/Data/TU1_Comdty_quotes/20180827.csv\n",
      "/media/ak/WorkDrive/Data/TU1_Comdty_trades/20180827.csv\n"
     ]
    },
    {
     "name": "stderr",
     "output_type": "stream",
     "text": [
      "2021-11-13 19:50:20,689 DataLoader  INFO Loading data for:20180502\n"
     ]
    },
    {
     "name": "stdout",
     "output_type": "stream",
     "text": [
      "/media/ak/WorkDrive/Data/TU1_Comdty_quotes/20180502.csv\n",
      "/media/ak/WorkDrive/Data/TU1_Comdty_trades/20180502.csv\n"
     ]
    },
    {
     "name": "stderr",
     "output_type": "stream",
     "text": [
      "2021-11-13 19:50:21,135 DataLoader  INFO Loading data for:20180731\n"
     ]
    },
    {
     "name": "stdout",
     "output_type": "stream",
     "text": [
      "/media/ak/WorkDrive/Data/TU1_Comdty_quotes/20180731.csv\n",
      "/media/ak/WorkDrive/Data/TU1_Comdty_trades/20180731.csv\n"
     ]
    },
    {
     "name": "stderr",
     "output_type": "stream",
     "text": [
      "2021-11-13 19:50:21,706 DataLoader  INFO Loading data for:20180620\n"
     ]
    },
    {
     "name": "stdout",
     "output_type": "stream",
     "text": [
      "/media/ak/WorkDrive/Data/TU1_Comdty_quotes/20180620.csv\n",
      "/media/ak/WorkDrive/Data/TU1_Comdty_trades/20180620.csv\n"
     ]
    },
    {
     "name": "stderr",
     "output_type": "stream",
     "text": [
      "2021-11-13 19:50:22,097 DataLoader  INFO Loading data for:20180508\n"
     ]
    },
    {
     "name": "stdout",
     "output_type": "stream",
     "text": [
      "/media/ak/WorkDrive/Data/TU1_Comdty_quotes/20180508.csv\n",
      "/media/ak/WorkDrive/Data/TU1_Comdty_trades/20180508.csv\n"
     ]
    },
    {
     "name": "stderr",
     "output_type": "stream",
     "text": [
      "2021-11-13 19:50:22,498 DataLoader  INFO Loading data for:20180716\n"
     ]
    },
    {
     "name": "stdout",
     "output_type": "stream",
     "text": [
      "/media/ak/WorkDrive/Data/TU1_Comdty_quotes/20180716.csv\n",
      "/media/ak/WorkDrive/Data/TU1_Comdty_trades/20180716.csv\n"
     ]
    },
    {
     "name": "stderr",
     "output_type": "stream",
     "text": [
      "2021-11-13 19:50:22,850 DataLoader  INFO Loading data for:20180905\n"
     ]
    },
    {
     "name": "stdout",
     "output_type": "stream",
     "text": [
      "/media/ak/WorkDrive/Data/TU1_Comdty_quotes/20180905.csv\n",
      "/media/ak/WorkDrive/Data/TU1_Comdty_trades/20180905.csv\n"
     ]
    },
    {
     "name": "stderr",
     "output_type": "stream",
     "text": [
      "2021-11-13 19:50:23,365 DataLoader  INFO Loading data for:20180507\n"
     ]
    },
    {
     "name": "stdout",
     "output_type": "stream",
     "text": [
      "/media/ak/WorkDrive/Data/TU1_Comdty_quotes/20180507.csv\n",
      "/media/ak/WorkDrive/Data/TU1_Comdty_trades/20180507.csv\n"
     ]
    },
    {
     "name": "stderr",
     "output_type": "stream",
     "text": [
      "2021-11-13 19:50:23,626 DataLoader  INFO Loading data for:20180712\n"
     ]
    },
    {
     "name": "stdout",
     "output_type": "stream",
     "text": [
      "/media/ak/WorkDrive/Data/TU1_Comdty_quotes/20180712.csv\n",
      "/media/ak/WorkDrive/Data/TU1_Comdty_trades/20180712.csv\n"
     ]
    },
    {
     "name": "stderr",
     "output_type": "stream",
     "text": [
      "2021-11-13 19:50:23,924 DataLoader  INFO Loading data for:20181004\n"
     ]
    },
    {
     "name": "stdout",
     "output_type": "stream",
     "text": [
      "/media/ak/WorkDrive/Data/TU1_Comdty_quotes/20181004.csv\n",
      "/media/ak/WorkDrive/Data/TU1_Comdty_trades/20181004.csv\n"
     ]
    },
    {
     "name": "stderr",
     "output_type": "stream",
     "text": [
      "2021-11-13 19:50:24,693 DataLoader  INFO Loading data for:20180509\n"
     ]
    },
    {
     "name": "stdout",
     "output_type": "stream",
     "text": [
      "/media/ak/WorkDrive/Data/TU1_Comdty_quotes/20180509.csv\n",
      "/media/ak/WorkDrive/Data/TU1_Comdty_trades/20180509.csv\n"
     ]
    },
    {
     "name": "stderr",
     "output_type": "stream",
     "text": [
      "2021-11-13 19:50:25,104 DataLoader  INFO Loading data for:20180515\n"
     ]
    },
    {
     "name": "stdout",
     "output_type": "stream",
     "text": [
      "/media/ak/WorkDrive/Data/TU1_Comdty_quotes/20180515.csv\n",
      "/media/ak/WorkDrive/Data/TU1_Comdty_trades/20180515.csv\n"
     ]
    },
    {
     "name": "stderr",
     "output_type": "stream",
     "text": [
      "2021-11-13 19:50:25,616 DataLoader  INFO Loading data for:20180607\n"
     ]
    },
    {
     "name": "stdout",
     "output_type": "stream",
     "text": [
      "/media/ak/WorkDrive/Data/TU1_Comdty_quotes/20180607.csv\n",
      "/media/ak/WorkDrive/Data/TU1_Comdty_trades/20180607.csv\n"
     ]
    },
    {
     "name": "stderr",
     "output_type": "stream",
     "text": [
      "2021-11-13 19:50:26,226 DataLoader  INFO Loading data for:20180803\n"
     ]
    },
    {
     "name": "stdout",
     "output_type": "stream",
     "text": [
      "/media/ak/WorkDrive/Data/TU1_Comdty_quotes/20180803.csv\n",
      "/media/ak/WorkDrive/Data/TU1_Comdty_trades/20180803.csv\n"
     ]
    },
    {
     "name": "stderr",
     "output_type": "stream",
     "text": [
      "2021-11-13 19:50:26,670 DataLoader  INFO Loading data for:20180613\n"
     ]
    },
    {
     "name": "stdout",
     "output_type": "stream",
     "text": [
      "/media/ak/WorkDrive/Data/TU1_Comdty_quotes/20180613.csv\n",
      "/media/ak/WorkDrive/Data/TU1_Comdty_trades/20180613.csv\n"
     ]
    },
    {
     "name": "stderr",
     "output_type": "stream",
     "text": [
      "2021-11-13 19:50:27,109 DataLoader  INFO Loading data for:20180523\n"
     ]
    },
    {
     "name": "stdout",
     "output_type": "stream",
     "text": [
      "/media/ak/WorkDrive/Data/TU1_Comdty_quotes/20180523.csv\n",
      "/media/ak/WorkDrive/Data/TU1_Comdty_trades/20180523.csv\n"
     ]
    },
    {
     "name": "stderr",
     "output_type": "stream",
     "text": [
      "2021-11-13 19:50:27,676 DataLoader  INFO Loading data for:20180808\n"
     ]
    },
    {
     "name": "stdout",
     "output_type": "stream",
     "text": [
      "/media/ak/WorkDrive/Data/TU1_Comdty_quotes/20180808.csv\n",
      "/media/ak/WorkDrive/Data/TU1_Comdty_trades/20180808.csv\n"
     ]
    },
    {
     "name": "stderr",
     "output_type": "stream",
     "text": [
      "2021-11-13 19:50:27,989 DataLoader  INFO Loading data for:20180419\n"
     ]
    },
    {
     "name": "stdout",
     "output_type": "stream",
     "text": [
      "/media/ak/WorkDrive/Data/TU1_Comdty_quotes/20180419.csv\n",
      "/media/ak/WorkDrive/Data/TU1_Comdty_trades/20180419.csv\n"
     ]
    },
    {
     "name": "stderr",
     "output_type": "stream",
     "text": [
      "2021-11-13 19:50:28,527 DataLoader  INFO Loading data for:20180621\n"
     ]
    },
    {
     "name": "stdout",
     "output_type": "stream",
     "text": [
      "/media/ak/WorkDrive/Data/TU1_Comdty_quotes/20180621.csv\n",
      "/media/ak/WorkDrive/Data/TU1_Comdty_trades/20180621.csv\n"
     ]
    },
    {
     "name": "stderr",
     "output_type": "stream",
     "text": [
      "2021-11-13 19:50:29,161 DataLoader  INFO Loading data for:20180927\n"
     ]
    },
    {
     "name": "stdout",
     "output_type": "stream",
     "text": [
      "/media/ak/WorkDrive/Data/TU1_Comdty_quotes/20180927.csv\n",
      "/media/ak/WorkDrive/Data/TU1_Comdty_trades/20180927.csv\n"
     ]
    },
    {
     "name": "stderr",
     "output_type": "stream",
     "text": [
      "2021-11-13 19:50:29,638 DataLoader  INFO Loading data for:20180705\n"
     ]
    },
    {
     "name": "stdout",
     "output_type": "stream",
     "text": [
      "/media/ak/WorkDrive/Data/TU1_Comdty_quotes/20180705.csv\n",
      "/media/ak/WorkDrive/Data/TU1_Comdty_trades/20180705.csv\n"
     ]
    },
    {
     "name": "stderr",
     "output_type": "stream",
     "text": [
      "2021-11-13 19:50:30,213 DataLoader  INFO Loading data for:20180828\n"
     ]
    },
    {
     "name": "stdout",
     "output_type": "stream",
     "text": [
      "/media/ak/WorkDrive/Data/TU1_Comdty_quotes/20180828.csv\n",
      "/media/ak/WorkDrive/Data/TU1_Comdty_trades/20180828.csv\n"
     ]
    },
    {
     "name": "stderr",
     "output_type": "stream",
     "text": [
      "2021-11-13 19:50:30,485 DataLoader  INFO Loading data for:20180926\n"
     ]
    },
    {
     "name": "stdout",
     "output_type": "stream",
     "text": [
      "/media/ak/WorkDrive/Data/TU1_Comdty_quotes/20180926.csv\n",
      "/media/ak/WorkDrive/Data/TU1_Comdty_trades/20180926.csv\n"
     ]
    },
    {
     "name": "stderr",
     "output_type": "stream",
     "text": [
      "2021-11-13 19:50:30,913 DataLoader  INFO Loading data for:20180912\n"
     ]
    },
    {
     "name": "stdout",
     "output_type": "stream",
     "text": [
      "/media/ak/WorkDrive/Data/TU1_Comdty_quotes/20180912.csv\n",
      "/media/ak/WorkDrive/Data/TU1_Comdty_trades/20180912.csv\n"
     ]
    },
    {
     "name": "stderr",
     "output_type": "stream",
     "text": [
      "2021-11-13 19:50:31,347 DataLoader  INFO Loading data for:20180801\n"
     ]
    },
    {
     "name": "stdout",
     "output_type": "stream",
     "text": [
      "/media/ak/WorkDrive/Data/TU1_Comdty_quotes/20180801.csv\n",
      "/media/ak/WorkDrive/Data/TU1_Comdty_trades/20180801.csv\n"
     ]
    },
    {
     "name": "stderr",
     "output_type": "stream",
     "text": [
      "2021-11-13 19:50:31,766 DataLoader  INFO Loading data for:20181002\n"
     ]
    },
    {
     "name": "stdout",
     "output_type": "stream",
     "text": [
      "/media/ak/WorkDrive/Data/TU1_Comdty_quotes/20181002.csv\n",
      "/media/ak/WorkDrive/Data/TU1_Comdty_trades/20181002.csv\n"
     ]
    },
    {
     "name": "stderr",
     "output_type": "stream",
     "text": [
      "2021-11-13 19:50:32,281 DataLoader  INFO Loading data for:20180719\n"
     ]
    },
    {
     "name": "stdout",
     "output_type": "stream",
     "text": [
      "/media/ak/WorkDrive/Data/TU1_Comdty_quotes/20180719.csv\n",
      "/media/ak/WorkDrive/Data/TU1_Comdty_trades/20180719.csv\n"
     ]
    },
    {
     "name": "stderr",
     "output_type": "stream",
     "text": [
      "2021-11-13 19:50:32,660 DataLoader  INFO Loading data for:20180420\n"
     ]
    },
    {
     "name": "stdout",
     "output_type": "stream",
     "text": [
      "/media/ak/WorkDrive/Data/TU1_Comdty_quotes/20180420.csv\n",
      "/media/ak/WorkDrive/Data/TU1_Comdty_trades/20180420.csv\n"
     ]
    },
    {
     "name": "stderr",
     "output_type": "stream",
     "text": [
      "2021-11-13 19:50:33,110 DataLoader  INFO Loading data for:20180504\n"
     ]
    },
    {
     "name": "stdout",
     "output_type": "stream",
     "text": [
      "/media/ak/WorkDrive/Data/TU1_Comdty_quotes/20180504.csv\n",
      "/media/ak/WorkDrive/Data/TU1_Comdty_trades/20180504.csv\n"
     ]
    },
    {
     "name": "stderr",
     "output_type": "stream",
     "text": [
      "2021-11-13 19:50:33,553 DataLoader  INFO Loading data for:20180913\n"
     ]
    },
    {
     "name": "stdout",
     "output_type": "stream",
     "text": [
      "/media/ak/WorkDrive/Data/TU1_Comdty_quotes/20180913.csv\n",
      "/media/ak/WorkDrive/Data/TU1_Comdty_trades/20180913.csv\n"
     ]
    }
   ],
   "source": [
    "\n",
    "\n",
    "testClass = DataLoader(data_location=dataFolder,\n",
    "                       symbol=symbol,\n",
    "                       dates=dates_choice,\n",
    "                       use_columns=trades_cols,\n",
    "                       calendar_resample=calendar_resample_freq,\n",
    "                       trade_volume_width=trade_volume_width,\n",
    "                       ticks_width=ticks_width,\n",
    "                       usd_volume_width=usd_volume_width)\n",
    "\n",
    "# load data\n",
    "input_dict = testClass.load_and_format_data()"
   ]
  },
  {
   "cell_type": "code",
   "execution_count": 21,
   "id": "996af06d",
   "metadata": {},
   "outputs": [
    {
     "name": "stderr",
     "output_type": "stream",
     "text": [
      "2021-11-13 20:15:33,490 DataLoader  INFO Loading data for:20180725\n"
     ]
    },
    {
     "name": "stdout",
     "output_type": "stream",
     "text": [
      "/media/ak/WorkDrive/Data/TU1_Comdty_quotes/20180725.csv\n",
      "/media/ak/WorkDrive/Data/TU1_Comdty_trades/20180725.csv\n"
     ]
    },
    {
     "name": "stderr",
     "output_type": "stream",
     "text": [
      "2021-11-13 20:15:33,984 DataLoader  INFO Loading data for:20180724\n"
     ]
    },
    {
     "name": "stdout",
     "output_type": "stream",
     "text": [
      "/media/ak/WorkDrive/Data/TU1_Comdty_quotes/20180724.csv\n",
      "/media/ak/WorkDrive/Data/TU1_Comdty_trades/20180724.csv\n"
     ]
    },
    {
     "name": "stderr",
     "output_type": "stream",
     "text": [
      "2021-11-13 20:15:34,395 DataLoader  INFO Loading data for:20180517\n"
     ]
    },
    {
     "name": "stdout",
     "output_type": "stream",
     "text": [
      "/media/ak/WorkDrive/Data/TU1_Comdty_quotes/20180517.csv\n",
      "/media/ak/WorkDrive/Data/TU1_Comdty_trades/20180517.csv\n"
     ]
    },
    {
     "name": "stderr",
     "output_type": "stream",
     "text": [
      "2021-11-13 20:15:34,867 DataLoader  INFO Loading data for:20180514\n"
     ]
    },
    {
     "name": "stdout",
     "output_type": "stream",
     "text": [
      "/media/ak/WorkDrive/Data/TU1_Comdty_quotes/20180514.csv\n",
      "/media/ak/WorkDrive/Data/TU1_Comdty_trades/20180514.csv\n"
     ]
    },
    {
     "name": "stderr",
     "output_type": "stream",
     "text": [
      "2021-11-13 20:15:35,243 DataLoader  INFO Loading data for:20180511\n"
     ]
    },
    {
     "name": "stdout",
     "output_type": "stream",
     "text": [
      "/media/ak/WorkDrive/Data/TU1_Comdty_quotes/20180511.csv\n",
      "/media/ak/WorkDrive/Data/TU1_Comdty_trades/20180511.csv\n"
     ]
    },
    {
     "name": "stderr",
     "output_type": "stream",
     "text": [
      "2021-11-13 20:15:35,637 DataLoader  INFO Loading data for:20180910\n"
     ]
    },
    {
     "name": "stdout",
     "output_type": "stream",
     "text": [
      "/media/ak/WorkDrive/Data/TU1_Comdty_quotes/20180910.csv\n",
      "/media/ak/WorkDrive/Data/TU1_Comdty_trades/20180910.csv\n"
     ]
    },
    {
     "name": "stderr",
     "output_type": "stream",
     "text": [
      "2021-11-13 20:15:36,069 DataLoader  INFO Loading data for:20180525\n"
     ]
    },
    {
     "name": "stdout",
     "output_type": "stream",
     "text": [
      "/media/ak/WorkDrive/Data/TU1_Comdty_quotes/20180525.csv\n",
      "/media/ak/WorkDrive/Data/TU1_Comdty_trades/20180525.csv\n"
     ]
    },
    {
     "name": "stderr",
     "output_type": "stream",
     "text": [
      "2021-11-13 20:15:36,468 DataLoader  INFO Loading data for:20180531\n"
     ]
    },
    {
     "name": "stdout",
     "output_type": "stream",
     "text": [
      "/media/ak/WorkDrive/Data/TU1_Comdty_quotes/20180531.csv\n",
      "/media/ak/WorkDrive/Data/TU1_Comdty_trades/20180531.csv\n"
     ]
    },
    {
     "name": "stderr",
     "output_type": "stream",
     "text": [
      "2021-11-13 20:15:37,068 DataLoader  INFO Loading data for:20180924\n"
     ]
    },
    {
     "name": "stdout",
     "output_type": "stream",
     "text": [
      "/media/ak/WorkDrive/Data/TU1_Comdty_quotes/20180924.csv\n",
      "/media/ak/WorkDrive/Data/TU1_Comdty_trades/20180924.csv\n"
     ]
    },
    {
     "name": "stderr",
     "output_type": "stream",
     "text": [
      "2021-11-13 20:15:37,432 DataLoader  INFO Loading data for:20180829\n"
     ]
    },
    {
     "name": "stdout",
     "output_type": "stream",
     "text": [
      "/media/ak/WorkDrive/Data/TU1_Comdty_quotes/20180829.csv\n",
      "/media/ak/WorkDrive/Data/TU1_Comdty_trades/20180829.csv\n"
     ]
    },
    {
     "name": "stderr",
     "output_type": "stream",
     "text": [
      "2021-11-13 20:15:37,677 DataLoader  INFO Loading data for:20180830\n"
     ]
    },
    {
     "name": "stdout",
     "output_type": "stream",
     "text": [
      "/media/ak/WorkDrive/Data/TU1_Comdty_quotes/20180830.csv\n",
      "/media/ak/WorkDrive/Data/TU1_Comdty_trades/20180830.csv\n"
     ]
    },
    {
     "name": "stderr",
     "output_type": "stream",
     "text": [
      "2021-11-13 20:15:37,888 DataLoader  INFO Loading data for:20180706\n"
     ]
    },
    {
     "name": "stdout",
     "output_type": "stream",
     "text": [
      "/media/ak/WorkDrive/Data/TU1_Comdty_quotes/20180706.csv\n",
      "/media/ak/WorkDrive/Data/TU1_Comdty_trades/20180706.csv\n"
     ]
    },
    {
     "name": "stderr",
     "output_type": "stream",
     "text": [
      "2021-11-13 20:15:38,292 DataLoader  INFO Loading data for:20180928\n"
     ]
    },
    {
     "name": "stdout",
     "output_type": "stream",
     "text": [
      "/media/ak/WorkDrive/Data/TU1_Comdty_quotes/20180928.csv\n",
      "/media/ak/WorkDrive/Data/TU1_Comdty_trades/20180928.csv\n"
     ]
    },
    {
     "name": "stderr",
     "output_type": "stream",
     "text": [
      "2021-11-13 20:15:38,746 DataLoader  INFO Loading data for:20180817\n"
     ]
    },
    {
     "name": "stdout",
     "output_type": "stream",
     "text": [
      "/media/ak/WorkDrive/Data/TU1_Comdty_quotes/20180817.csv\n",
      "/media/ak/WorkDrive/Data/TU1_Comdty_trades/20180817.csv\n"
     ]
    },
    {
     "name": "stderr",
     "output_type": "stream",
     "text": [
      "2021-11-13 20:15:39,100 DataLoader  INFO Loading data for:20180710\n"
     ]
    },
    {
     "name": "stdout",
     "output_type": "stream",
     "text": [
      "/media/ak/WorkDrive/Data/TU1_Comdty_quotes/20180710.csv\n",
      "/media/ak/WorkDrive/Data/TU1_Comdty_trades/20180710.csv\n"
     ]
    },
    {
     "name": "stderr",
     "output_type": "stream",
     "text": [
      "2021-11-13 20:15:39,390 DataLoader  INFO Loading data for:20180503\n"
     ]
    },
    {
     "name": "stdout",
     "output_type": "stream",
     "text": [
      "/media/ak/WorkDrive/Data/TU1_Comdty_quotes/20180503.csv\n",
      "/media/ak/WorkDrive/Data/TU1_Comdty_trades/20180503.csv\n"
     ]
    },
    {
     "name": "stderr",
     "output_type": "stream",
     "text": [
      "2021-11-13 20:15:39,840 DataLoader  INFO Loading data for:20180921\n"
     ]
    },
    {
     "name": "stdout",
     "output_type": "stream",
     "text": [
      "/media/ak/WorkDrive/Data/TU1_Comdty_quotes/20180921.csv\n",
      "/media/ak/WorkDrive/Data/TU1_Comdty_trades/20180921.csv\n"
     ]
    },
    {
     "name": "stderr",
     "output_type": "stream",
     "text": [
      "2021-11-13 20:15:40,153 DataLoader  INFO Loading data for:20180417\n"
     ]
    },
    {
     "name": "stdout",
     "output_type": "stream",
     "text": [
      "/media/ak/WorkDrive/Data/TU1_Comdty_quotes/20180417.csv\n",
      "/media/ak/WorkDrive/Data/TU1_Comdty_trades/20180417.csv\n"
     ]
    },
    {
     "name": "stderr",
     "output_type": "stream",
     "text": [
      "2021-11-13 20:15:40,558 DataLoader  INFO Loading data for:20181011\n"
     ]
    },
    {
     "name": "stdout",
     "output_type": "stream",
     "text": [
      "/media/ak/WorkDrive/Data/TU1_Comdty_quotes/20181011.csv\n",
      "/media/ak/WorkDrive/Data/TU1_Comdty_trades/20181011.csv\n"
     ]
    },
    {
     "name": "stderr",
     "output_type": "stream",
     "text": [
      "2021-11-13 20:15:41,733 DataLoader  INFO Loading data for:20180612\n"
     ]
    },
    {
     "name": "stdout",
     "output_type": "stream",
     "text": [
      "/media/ak/WorkDrive/Data/TU1_Comdty_quotes/20180612.csv\n",
      "/media/ak/WorkDrive/Data/TU1_Comdty_trades/20180612.csv\n"
     ]
    },
    {
     "name": "stderr",
     "output_type": "stream",
     "text": [
      "2021-11-13 20:15:42,134 DataLoader  INFO Loading data for:20180709\n"
     ]
    },
    {
     "name": "stdout",
     "output_type": "stream",
     "text": [
      "/media/ak/WorkDrive/Data/TU1_Comdty_quotes/20180709.csv\n",
      "/media/ak/WorkDrive/Data/TU1_Comdty_trades/20180709.csv\n"
     ]
    },
    {
     "name": "stderr",
     "output_type": "stream",
     "text": [
      "2021-11-13 20:15:42,373 DataLoader  INFO Loading data for:20180718\n"
     ]
    },
    {
     "name": "stdout",
     "output_type": "stream",
     "text": [
      "/media/ak/WorkDrive/Data/TU1_Comdty_quotes/20180718.csv\n",
      "/media/ak/WorkDrive/Data/TU1_Comdty_trades/20180718.csv\n"
     ]
    },
    {
     "name": "stderr",
     "output_type": "stream",
     "text": [
      "2021-11-13 20:15:42,596 DataLoader  INFO Loading data for:20181005\n"
     ]
    },
    {
     "name": "stdout",
     "output_type": "stream",
     "text": [
      "/media/ak/WorkDrive/Data/TU1_Comdty_quotes/20181005.csv\n",
      "/media/ak/WorkDrive/Data/TU1_Comdty_trades/20181005.csv\n"
     ]
    },
    {
     "name": "stderr",
     "output_type": "stream",
     "text": [
      "2021-11-13 20:15:43,217 DataLoader  INFO Loading data for:20180524\n"
     ]
    },
    {
     "name": "stdout",
     "output_type": "stream",
     "text": [
      "/media/ak/WorkDrive/Data/TU1_Comdty_quotes/20180524.csv\n",
      "/media/ak/WorkDrive/Data/TU1_Comdty_trades/20180524.csv\n"
     ]
    },
    {
     "name": "stderr",
     "output_type": "stream",
     "text": [
      "2021-11-13 20:15:43,648 DataLoader  INFO Loading data for:20180820\n"
     ]
    },
    {
     "name": "stdout",
     "output_type": "stream",
     "text": [
      "/media/ak/WorkDrive/Data/TU1_Comdty_quotes/20180820.csv\n",
      "/media/ak/WorkDrive/Data/TU1_Comdty_trades/20180820.csv\n"
     ]
    },
    {
     "name": "stderr",
     "output_type": "stream",
     "text": [
      "2021-11-13 20:15:43,973 DataLoader  INFO Loading data for:20180711\n"
     ]
    },
    {
     "name": "stdout",
     "output_type": "stream",
     "text": [
      "/media/ak/WorkDrive/Data/TU1_Comdty_quotes/20180711.csv\n",
      "/media/ak/WorkDrive/Data/TU1_Comdty_trades/20180711.csv\n"
     ]
    },
    {
     "name": "stderr",
     "output_type": "stream",
     "text": [
      "2021-11-13 20:15:44,356 DataLoader  INFO Loading data for:20180703\n"
     ]
    },
    {
     "name": "stdout",
     "output_type": "stream",
     "text": [
      "/media/ak/WorkDrive/Data/TU1_Comdty_quotes/20180703.csv\n",
      "/media/ak/WorkDrive/Data/TU1_Comdty_trades/20180703.csv\n"
     ]
    },
    {
     "name": "stderr",
     "output_type": "stream",
     "text": [
      "2021-11-13 20:15:44,688 DataLoader  INFO Loading data for:20180822\n"
     ]
    },
    {
     "name": "stdout",
     "output_type": "stream",
     "text": [
      "/media/ak/WorkDrive/Data/TU1_Comdty_quotes/20180822.csv\n",
      "/media/ak/WorkDrive/Data/TU1_Comdty_trades/20180822.csv\n"
     ]
    },
    {
     "name": "stderr",
     "output_type": "stream",
     "text": [
      "2021-11-13 20:15:45,133 DataLoader  INFO Loading data for:20180920\n"
     ]
    },
    {
     "name": "stdout",
     "output_type": "stream",
     "text": [
      "/media/ak/WorkDrive/Data/TU1_Comdty_quotes/20180920.csv\n",
      "/media/ak/WorkDrive/Data/TU1_Comdty_trades/20180920.csv\n"
     ]
    },
    {
     "name": "stderr",
     "output_type": "stream",
     "text": [
      "2021-11-13 20:15:45,522 DataLoader  INFO Loading data for:20180627\n"
     ]
    },
    {
     "name": "stdout",
     "output_type": "stream",
     "text": [
      "/media/ak/WorkDrive/Data/TU1_Comdty_quotes/20180627.csv\n",
      "/media/ak/WorkDrive/Data/TU1_Comdty_trades/20180627.csv\n"
     ]
    },
    {
     "name": "stderr",
     "output_type": "stream",
     "text": [
      "2021-11-13 20:15:46,045 DataLoader  INFO Loading data for:20180925\n"
     ]
    },
    {
     "name": "stdout",
     "output_type": "stream",
     "text": [
      "/media/ak/WorkDrive/Data/TU1_Comdty_quotes/20180925.csv\n",
      "/media/ak/WorkDrive/Data/TU1_Comdty_trades/20180925.csv\n"
     ]
    },
    {
     "name": "stderr",
     "output_type": "stream",
     "text": [
      "2021-11-13 20:15:46,540 DataLoader  INFO Loading data for:20181001\n"
     ]
    },
    {
     "name": "stdout",
     "output_type": "stream",
     "text": [
      "/media/ak/WorkDrive/Data/TU1_Comdty_quotes/20181001.csv\n",
      "/media/ak/WorkDrive/Data/TU1_Comdty_trades/20181001.csv\n"
     ]
    },
    {
     "name": "stderr",
     "output_type": "stream",
     "text": [
      "2021-11-13 20:15:46,928 DataLoader  INFO Loading data for:20180809\n"
     ]
    },
    {
     "name": "stdout",
     "output_type": "stream",
     "text": [
      "/media/ak/WorkDrive/Data/TU1_Comdty_quotes/20180809.csv\n",
      "/media/ak/WorkDrive/Data/TU1_Comdty_trades/20180809.csv\n"
     ]
    },
    {
     "name": "stderr",
     "output_type": "stream",
     "text": [
      "2021-11-13 20:15:47,261 DataLoader  INFO Loading data for:20180510\n"
     ]
    },
    {
     "name": "stdout",
     "output_type": "stream",
     "text": [
      "/media/ak/WorkDrive/Data/TU1_Comdty_quotes/20180510.csv\n",
      "/media/ak/WorkDrive/Data/TU1_Comdty_trades/20180510.csv\n"
     ]
    },
    {
     "name": "stderr",
     "output_type": "stream",
     "text": [
      "2021-11-13 20:15:47,732 DataLoader  INFO Loading data for:20180730\n"
     ]
    },
    {
     "name": "stdout",
     "output_type": "stream",
     "text": [
      "/media/ak/WorkDrive/Data/TU1_Comdty_quotes/20180730.csv\n",
      "/media/ak/WorkDrive/Data/TU1_Comdty_trades/20180730.csv\n"
     ]
    },
    {
     "name": "stderr",
     "output_type": "stream",
     "text": [
      "2021-11-13 20:15:48,099 DataLoader  INFO Loading data for:20180424\n"
     ]
    },
    {
     "name": "stdout",
     "output_type": "stream",
     "text": [
      "/media/ak/WorkDrive/Data/TU1_Comdty_quotes/20180424.csv\n",
      "/media/ak/WorkDrive/Data/TU1_Comdty_trades/20180424.csv\n"
     ]
    },
    {
     "name": "stderr",
     "output_type": "stream",
     "text": [
      "2021-11-13 20:15:48,597 DataLoader  INFO Loading data for:20180426\n"
     ]
    },
    {
     "name": "stdout",
     "output_type": "stream",
     "text": [
      "/media/ak/WorkDrive/Data/TU1_Comdty_quotes/20180426.csv\n",
      "/media/ak/WorkDrive/Data/TU1_Comdty_trades/20180426.csv\n"
     ]
    },
    {
     "name": "stderr",
     "output_type": "stream",
     "text": [
      "2021-11-13 20:15:49,039 DataLoader  INFO Loading data for:20180629\n"
     ]
    },
    {
     "name": "stdout",
     "output_type": "stream",
     "text": [
      "/media/ak/WorkDrive/Data/TU1_Comdty_quotes/20180629.csv\n",
      "/media/ak/WorkDrive/Data/TU1_Comdty_trades/20180629.csv\n"
     ]
    },
    {
     "name": "stderr",
     "output_type": "stream",
     "text": [
      "2021-11-13 20:15:49,474 DataLoader  INFO Loading data for:20181010\n"
     ]
    },
    {
     "name": "stdout",
     "output_type": "stream",
     "text": [
      "/media/ak/WorkDrive/Data/TU1_Comdty_quotes/20181010.csv\n",
      "/media/ak/WorkDrive/Data/TU1_Comdty_trades/20181010.csv\n"
     ]
    },
    {
     "name": "stderr",
     "output_type": "stream",
     "text": [
      "2021-11-13 20:15:50,136 DataLoader  INFO Loading data for:20180601\n"
     ]
    },
    {
     "name": "stdout",
     "output_type": "stream",
     "text": [
      "/media/ak/WorkDrive/Data/TU1_Comdty_quotes/20180601.csv\n",
      "/media/ak/WorkDrive/Data/TU1_Comdty_trades/20180601.csv\n"
     ]
    },
    {
     "name": "stderr",
     "output_type": "stream",
     "text": [
      "2021-11-13 20:15:50,637 DataLoader  INFO Loading data for:20180813\n"
     ]
    },
    {
     "name": "stdout",
     "output_type": "stream",
     "text": [
      "/media/ak/WorkDrive/Data/TU1_Comdty_quotes/20180813.csv\n",
      "/media/ak/WorkDrive/Data/TU1_Comdty_trades/20180813.csv\n"
     ]
    },
    {
     "name": "stderr",
     "output_type": "stream",
     "text": [
      "2021-11-13 20:15:51,197 DataLoader  INFO Loading data for:20180423\n"
     ]
    },
    {
     "name": "stdout",
     "output_type": "stream",
     "text": [
      "/media/ak/WorkDrive/Data/TU1_Comdty_quotes/20180423.csv\n",
      "/media/ak/WorkDrive/Data/TU1_Comdty_trades/20180423.csv\n"
     ]
    },
    {
     "name": "stderr",
     "output_type": "stream",
     "text": [
      "2021-11-13 20:15:51,580 DataLoader  INFO Loading data for:20180416\n"
     ]
    },
    {
     "name": "stdout",
     "output_type": "stream",
     "text": [
      "/media/ak/WorkDrive/Data/TU1_Comdty_quotes/20180416.csv\n",
      "/media/ak/WorkDrive/Data/TU1_Comdty_trades/20180416.csv\n"
     ]
    },
    {
     "name": "stderr",
     "output_type": "stream",
     "text": [
      "2021-11-13 20:15:51,942 DataLoader  INFO Loading data for:20180806\n"
     ]
    },
    {
     "name": "stdout",
     "output_type": "stream",
     "text": [
      "/media/ak/WorkDrive/Data/TU1_Comdty_quotes/20180806.csv\n",
      "/media/ak/WorkDrive/Data/TU1_Comdty_trades/20180806.csv\n"
     ]
    },
    {
     "name": "stderr",
     "output_type": "stream",
     "text": [
      "2021-11-13 20:15:52,417 DataLoader  INFO Loading data for:20180815\n"
     ]
    },
    {
     "name": "stdout",
     "output_type": "stream",
     "text": [
      "/media/ak/WorkDrive/Data/TU1_Comdty_quotes/20180815.csv\n",
      "/media/ak/WorkDrive/Data/TU1_Comdty_trades/20180815.csv\n"
     ]
    },
    {
     "name": "stderr",
     "output_type": "stream",
     "text": [
      "2021-11-13 20:15:52,811 DataLoader  INFO Loading data for:20180816\n"
     ]
    },
    {
     "name": "stdout",
     "output_type": "stream",
     "text": [
      "/media/ak/WorkDrive/Data/TU1_Comdty_quotes/20180816.csv\n",
      "/media/ak/WorkDrive/Data/TU1_Comdty_trades/20180816.csv\n"
     ]
    },
    {
     "name": "stderr",
     "output_type": "stream",
     "text": [
      "2021-11-13 20:15:53,176 DataLoader  INFO Loading data for:20180802\n"
     ]
    },
    {
     "name": "stdout",
     "output_type": "stream",
     "text": [
      "/media/ak/WorkDrive/Data/TU1_Comdty_quotes/20180802.csv\n",
      "/media/ak/WorkDrive/Data/TU1_Comdty_trades/20180802.csv\n"
     ]
    },
    {
     "name": "stderr",
     "output_type": "stream",
     "text": [
      "2021-11-13 20:15:53,541 DataLoader  INFO Loading data for:20180614\n"
     ]
    },
    {
     "name": "stdout",
     "output_type": "stream",
     "text": [
      "/media/ak/WorkDrive/Data/TU1_Comdty_quotes/20180614.csv\n",
      "/media/ak/WorkDrive/Data/TU1_Comdty_trades/20180614.csv\n"
     ]
    },
    {
     "name": "stderr",
     "output_type": "stream",
     "text": [
      "2021-11-13 20:15:54,055 DataLoader  INFO Loading data for:20180516\n"
     ]
    },
    {
     "name": "stdout",
     "output_type": "stream",
     "text": [
      "/media/ak/WorkDrive/Data/TU1_Comdty_quotes/20180516.csv\n",
      "/media/ak/WorkDrive/Data/TU1_Comdty_trades/20180516.csv\n"
     ]
    },
    {
     "name": "stderr",
     "output_type": "stream",
     "text": [
      "2021-11-13 20:15:54,530 DataLoader  INFO Loading data for:20180628\n"
     ]
    },
    {
     "name": "stdout",
     "output_type": "stream",
     "text": [
      "/media/ak/WorkDrive/Data/TU1_Comdty_quotes/20180628.csv\n",
      "/media/ak/WorkDrive/Data/TU1_Comdty_trades/20180628.csv\n"
     ]
    },
    {
     "name": "stderr",
     "output_type": "stream",
     "text": [
      "2021-11-13 20:15:54,908 DataLoader  INFO Loading data for:20180726\n"
     ]
    },
    {
     "name": "stdout",
     "output_type": "stream",
     "text": [
      "/media/ak/WorkDrive/Data/TU1_Comdty_quotes/20180726.csv\n",
      "/media/ak/WorkDrive/Data/TU1_Comdty_trades/20180726.csv\n"
     ]
    },
    {
     "name": "stderr",
     "output_type": "stream",
     "text": [
      "2021-11-13 20:15:55,289 DataLoader  INFO Loading data for:20180906\n"
     ]
    },
    {
     "name": "stdout",
     "output_type": "stream",
     "text": [
      "/media/ak/WorkDrive/Data/TU1_Comdty_quotes/20180906.csv\n",
      "/media/ak/WorkDrive/Data/TU1_Comdty_trades/20180906.csv\n"
     ]
    },
    {
     "name": "stderr",
     "output_type": "stream",
     "text": [
      "2021-11-13 20:15:55,779 DataLoader  INFO Loading data for:20180907\n"
     ]
    },
    {
     "name": "stdout",
     "output_type": "stream",
     "text": [
      "/media/ak/WorkDrive/Data/TU1_Comdty_quotes/20180907.csv\n",
      "/media/ak/WorkDrive/Data/TU1_Comdty_trades/20180907.csv\n"
     ]
    },
    {
     "name": "stderr",
     "output_type": "stream",
     "text": [
      "2021-11-13 20:15:56,341 DataLoader  INFO Loading data for:20181009\n"
     ]
    },
    {
     "name": "stdout",
     "output_type": "stream",
     "text": [
      "/media/ak/WorkDrive/Data/TU1_Comdty_quotes/20181009.csv\n",
      "/media/ak/WorkDrive/Data/TU1_Comdty_trades/20181009.csv\n"
     ]
    },
    {
     "name": "stderr",
     "output_type": "stream",
     "text": [
      "2021-11-13 20:15:56,826 DataLoader  INFO Loading data for:20180814\n"
     ]
    },
    {
     "name": "stdout",
     "output_type": "stream",
     "text": [
      "/media/ak/WorkDrive/Data/TU1_Comdty_quotes/20180814.csv\n",
      "/media/ak/WorkDrive/Data/TU1_Comdty_trades/20180814.csv\n"
     ]
    },
    {
     "name": "stderr",
     "output_type": "stream",
     "text": [
      "2021-11-13 20:15:57,169 DataLoader  INFO Loading data for:20180625\n"
     ]
    },
    {
     "name": "stdout",
     "output_type": "stream",
     "text": [
      "/media/ak/WorkDrive/Data/TU1_Comdty_quotes/20180625.csv\n",
      "/media/ak/WorkDrive/Data/TU1_Comdty_trades/20180625.csv\n"
     ]
    },
    {
     "name": "stderr",
     "output_type": "stream",
     "text": [
      "2021-11-13 20:15:57,810 DataLoader  INFO Loading data for:20180831\n"
     ]
    },
    {
     "name": "stdout",
     "output_type": "stream",
     "text": [
      "/media/ak/WorkDrive/Data/TU1_Comdty_quotes/20180831.csv\n",
      "/media/ak/WorkDrive/Data/TU1_Comdty_trades/20180831.csv\n"
     ]
    },
    {
     "name": "stderr",
     "output_type": "stream",
     "text": [
      "2021-11-13 20:15:58,175 DataLoader  INFO Loading data for:20180605\n"
     ]
    },
    {
     "name": "stdout",
     "output_type": "stream",
     "text": [
      "/media/ak/WorkDrive/Data/TU1_Comdty_quotes/20180605.csv\n",
      "/media/ak/WorkDrive/Data/TU1_Comdty_trades/20180605.csv\n"
     ]
    },
    {
     "name": "stderr",
     "output_type": "stream",
     "text": [
      "2021-11-13 20:15:58,739 DataLoader  INFO Loading data for:20180418\n"
     ]
    },
    {
     "name": "stdout",
     "output_type": "stream",
     "text": [
      "/media/ak/WorkDrive/Data/TU1_Comdty_quotes/20180418.csv\n",
      "/media/ak/WorkDrive/Data/TU1_Comdty_trades/20180418.csv\n"
     ]
    },
    {
     "name": "stderr",
     "output_type": "stream",
     "text": [
      "2021-11-13 20:15:59,118 DataLoader  INFO Loading data for:20180606\n"
     ]
    },
    {
     "name": "stdout",
     "output_type": "stream",
     "text": [
      "/media/ak/WorkDrive/Data/TU1_Comdty_quotes/20180606.csv\n",
      "/media/ak/WorkDrive/Data/TU1_Comdty_trades/20180606.csv\n"
     ]
    },
    {
     "name": "stderr",
     "output_type": "stream",
     "text": [
      "2021-11-13 20:15:59,624 DataLoader  INFO Loading data for:20181003\n"
     ]
    },
    {
     "name": "stdout",
     "output_type": "stream",
     "text": [
      "/media/ak/WorkDrive/Data/TU1_Comdty_quotes/20181003.csv\n",
      "/media/ak/WorkDrive/Data/TU1_Comdty_trades/20181003.csv\n"
     ]
    },
    {
     "name": "stderr",
     "output_type": "stream",
     "text": [
      "2021-11-13 20:16:00,201 DataLoader  INFO Loading data for:20180727\n"
     ]
    },
    {
     "name": "stdout",
     "output_type": "stream",
     "text": [
      "/media/ak/WorkDrive/Data/TU1_Comdty_quotes/20180727.csv\n",
      "/media/ak/WorkDrive/Data/TU1_Comdty_trades/20180727.csv\n"
     ]
    },
    {
     "name": "stderr",
     "output_type": "stream",
     "text": [
      "2021-11-13 20:16:00,558 DataLoader  INFO Loading data for:20180615\n"
     ]
    },
    {
     "name": "stdout",
     "output_type": "stream",
     "text": [
      "/media/ak/WorkDrive/Data/TU1_Comdty_quotes/20180615.csv\n",
      "/media/ak/WorkDrive/Data/TU1_Comdty_trades/20180615.csv\n"
     ]
    },
    {
     "name": "stderr",
     "output_type": "stream",
     "text": [
      "2021-11-13 20:16:00,976 DataLoader  INFO Loading data for:20180827\n"
     ]
    },
    {
     "name": "stdout",
     "output_type": "stream",
     "text": [
      "/media/ak/WorkDrive/Data/TU1_Comdty_quotes/20180827.csv\n",
      "/media/ak/WorkDrive/Data/TU1_Comdty_trades/20180827.csv\n"
     ]
    },
    {
     "name": "stderr",
     "output_type": "stream",
     "text": [
      "2021-11-13 20:16:01,216 DataLoader  INFO Loading data for:20180502\n"
     ]
    },
    {
     "name": "stdout",
     "output_type": "stream",
     "text": [
      "/media/ak/WorkDrive/Data/TU1_Comdty_quotes/20180502.csv\n",
      "/media/ak/WorkDrive/Data/TU1_Comdty_trades/20180502.csv\n"
     ]
    },
    {
     "name": "stderr",
     "output_type": "stream",
     "text": [
      "2021-11-13 20:16:01,659 DataLoader  INFO Loading data for:20180731\n"
     ]
    },
    {
     "name": "stdout",
     "output_type": "stream",
     "text": [
      "/media/ak/WorkDrive/Data/TU1_Comdty_quotes/20180731.csv\n",
      "/media/ak/WorkDrive/Data/TU1_Comdty_trades/20180731.csv\n"
     ]
    },
    {
     "name": "stderr",
     "output_type": "stream",
     "text": [
      "2021-11-13 20:16:02,210 DataLoader  INFO Loading data for:20180620\n"
     ]
    },
    {
     "name": "stdout",
     "output_type": "stream",
     "text": [
      "/media/ak/WorkDrive/Data/TU1_Comdty_quotes/20180620.csv\n",
      "/media/ak/WorkDrive/Data/TU1_Comdty_trades/20180620.csv\n"
     ]
    },
    {
     "name": "stderr",
     "output_type": "stream",
     "text": [
      "2021-11-13 20:16:02,598 DataLoader  INFO Loading data for:20180508\n"
     ]
    },
    {
     "name": "stdout",
     "output_type": "stream",
     "text": [
      "/media/ak/WorkDrive/Data/TU1_Comdty_quotes/20180508.csv\n",
      "/media/ak/WorkDrive/Data/TU1_Comdty_trades/20180508.csv\n"
     ]
    },
    {
     "name": "stderr",
     "output_type": "stream",
     "text": [
      "2021-11-13 20:16:02,988 DataLoader  INFO Loading data for:20180716\n"
     ]
    },
    {
     "name": "stdout",
     "output_type": "stream",
     "text": [
      "/media/ak/WorkDrive/Data/TU1_Comdty_quotes/20180716.csv\n",
      "/media/ak/WorkDrive/Data/TU1_Comdty_trades/20180716.csv\n"
     ]
    },
    {
     "name": "stderr",
     "output_type": "stream",
     "text": [
      "2021-11-13 20:16:03,443 DataLoader  INFO Loading data for:20180905\n"
     ]
    },
    {
     "name": "stdout",
     "output_type": "stream",
     "text": [
      "/media/ak/WorkDrive/Data/TU1_Comdty_quotes/20180905.csv\n",
      "/media/ak/WorkDrive/Data/TU1_Comdty_trades/20180905.csv\n"
     ]
    },
    {
     "name": "stderr",
     "output_type": "stream",
     "text": [
      "2021-11-13 20:16:03,859 DataLoader  INFO Loading data for:20180507\n"
     ]
    },
    {
     "name": "stdout",
     "output_type": "stream",
     "text": [
      "/media/ak/WorkDrive/Data/TU1_Comdty_quotes/20180507.csv\n",
      "/media/ak/WorkDrive/Data/TU1_Comdty_trades/20180507.csv\n"
     ]
    },
    {
     "name": "stderr",
     "output_type": "stream",
     "text": [
      "2021-11-13 20:16:04,109 DataLoader  INFO Loading data for:20180712\n"
     ]
    },
    {
     "name": "stdout",
     "output_type": "stream",
     "text": [
      "/media/ak/WorkDrive/Data/TU1_Comdty_quotes/20180712.csv\n",
      "/media/ak/WorkDrive/Data/TU1_Comdty_trades/20180712.csv\n"
     ]
    },
    {
     "name": "stderr",
     "output_type": "stream",
     "text": [
      "2021-11-13 20:16:04,408 DataLoader  INFO Loading data for:20181004\n"
     ]
    },
    {
     "name": "stdout",
     "output_type": "stream",
     "text": [
      "/media/ak/WorkDrive/Data/TU1_Comdty_quotes/20181004.csv\n",
      "/media/ak/WorkDrive/Data/TU1_Comdty_trades/20181004.csv\n"
     ]
    },
    {
     "name": "stderr",
     "output_type": "stream",
     "text": [
      "2021-11-13 20:16:05,164 DataLoader  INFO Loading data for:20180509\n"
     ]
    },
    {
     "name": "stdout",
     "output_type": "stream",
     "text": [
      "/media/ak/WorkDrive/Data/TU1_Comdty_quotes/20180509.csv\n",
      "/media/ak/WorkDrive/Data/TU1_Comdty_trades/20180509.csv\n"
     ]
    },
    {
     "name": "stderr",
     "output_type": "stream",
     "text": [
      "2021-11-13 20:16:05,566 DataLoader  INFO Loading data for:20180515\n"
     ]
    },
    {
     "name": "stdout",
     "output_type": "stream",
     "text": [
      "/media/ak/WorkDrive/Data/TU1_Comdty_quotes/20180515.csv\n",
      "/media/ak/WorkDrive/Data/TU1_Comdty_trades/20180515.csv\n"
     ]
    },
    {
     "name": "stderr",
     "output_type": "stream",
     "text": [
      "2021-11-13 20:16:06,072 DataLoader  INFO Loading data for:20180607\n"
     ]
    },
    {
     "name": "stdout",
     "output_type": "stream",
     "text": [
      "/media/ak/WorkDrive/Data/TU1_Comdty_quotes/20180607.csv\n",
      "/media/ak/WorkDrive/Data/TU1_Comdty_trades/20180607.csv\n"
     ]
    },
    {
     "name": "stderr",
     "output_type": "stream",
     "text": [
      "2021-11-13 20:16:06,659 DataLoader  INFO Loading data for:20180803\n"
     ]
    },
    {
     "name": "stdout",
     "output_type": "stream",
     "text": [
      "/media/ak/WorkDrive/Data/TU1_Comdty_quotes/20180803.csv\n",
      "/media/ak/WorkDrive/Data/TU1_Comdty_trades/20180803.csv\n"
     ]
    },
    {
     "name": "stderr",
     "output_type": "stream",
     "text": [
      "2021-11-13 20:16:07,093 DataLoader  INFO Loading data for:20180613\n"
     ]
    },
    {
     "name": "stdout",
     "output_type": "stream",
     "text": [
      "/media/ak/WorkDrive/Data/TU1_Comdty_quotes/20180613.csv\n",
      "/media/ak/WorkDrive/Data/TU1_Comdty_trades/20180613.csv\n"
     ]
    },
    {
     "name": "stderr",
     "output_type": "stream",
     "text": [
      "2021-11-13 20:16:07,521 DataLoader  INFO Loading data for:20180523\n"
     ]
    },
    {
     "name": "stdout",
     "output_type": "stream",
     "text": [
      "/media/ak/WorkDrive/Data/TU1_Comdty_quotes/20180523.csv\n",
      "/media/ak/WorkDrive/Data/TU1_Comdty_trades/20180523.csv\n"
     ]
    },
    {
     "name": "stderr",
     "output_type": "stream",
     "text": [
      "2021-11-13 20:16:07,989 DataLoader  INFO Loading data for:20180808\n"
     ]
    },
    {
     "name": "stdout",
     "output_type": "stream",
     "text": [
      "/media/ak/WorkDrive/Data/TU1_Comdty_quotes/20180808.csv\n",
      "/media/ak/WorkDrive/Data/TU1_Comdty_trades/20180808.csv\n"
     ]
    },
    {
     "name": "stderr",
     "output_type": "stream",
     "text": [
      "2021-11-13 20:16:08,291 DataLoader  INFO Loading data for:20180419\n"
     ]
    },
    {
     "name": "stdout",
     "output_type": "stream",
     "text": [
      "/media/ak/WorkDrive/Data/TU1_Comdty_quotes/20180419.csv\n",
      "/media/ak/WorkDrive/Data/TU1_Comdty_trades/20180419.csv\n"
     ]
    },
    {
     "name": "stderr",
     "output_type": "stream",
     "text": [
      "2021-11-13 20:16:08,909 DataLoader  INFO Loading data for:20180621\n"
     ]
    },
    {
     "name": "stdout",
     "output_type": "stream",
     "text": [
      "/media/ak/WorkDrive/Data/TU1_Comdty_quotes/20180621.csv\n",
      "/media/ak/WorkDrive/Data/TU1_Comdty_trades/20180621.csv\n"
     ]
    },
    {
     "name": "stderr",
     "output_type": "stream",
     "text": [
      "2021-11-13 20:16:09,519 DataLoader  INFO Loading data for:20180927\n"
     ]
    },
    {
     "name": "stdout",
     "output_type": "stream",
     "text": [
      "/media/ak/WorkDrive/Data/TU1_Comdty_quotes/20180927.csv\n",
      "/media/ak/WorkDrive/Data/TU1_Comdty_trades/20180927.csv\n"
     ]
    },
    {
     "name": "stderr",
     "output_type": "stream",
     "text": [
      "2021-11-13 20:16:09,983 DataLoader  INFO Loading data for:20180705\n"
     ]
    },
    {
     "name": "stdout",
     "output_type": "stream",
     "text": [
      "/media/ak/WorkDrive/Data/TU1_Comdty_quotes/20180705.csv\n",
      "/media/ak/WorkDrive/Data/TU1_Comdty_trades/20180705.csv\n"
     ]
    },
    {
     "name": "stderr",
     "output_type": "stream",
     "text": [
      "2021-11-13 20:16:10,540 DataLoader  INFO Loading data for:20180828\n"
     ]
    },
    {
     "name": "stdout",
     "output_type": "stream",
     "text": [
      "/media/ak/WorkDrive/Data/TU1_Comdty_quotes/20180828.csv\n",
      "/media/ak/WorkDrive/Data/TU1_Comdty_trades/20180828.csv\n"
     ]
    },
    {
     "name": "stderr",
     "output_type": "stream",
     "text": [
      "2021-11-13 20:16:10,808 DataLoader  INFO Loading data for:20180926\n"
     ]
    },
    {
     "name": "stdout",
     "output_type": "stream",
     "text": [
      "/media/ak/WorkDrive/Data/TU1_Comdty_quotes/20180926.csv\n",
      "/media/ak/WorkDrive/Data/TU1_Comdty_trades/20180926.csv\n"
     ]
    },
    {
     "name": "stderr",
     "output_type": "stream",
     "text": [
      "2021-11-13 20:16:11,256 DataLoader  INFO Loading data for:20180912\n"
     ]
    },
    {
     "name": "stdout",
     "output_type": "stream",
     "text": [
      "/media/ak/WorkDrive/Data/TU1_Comdty_quotes/20180912.csv\n",
      "/media/ak/WorkDrive/Data/TU1_Comdty_trades/20180912.csv\n"
     ]
    },
    {
     "name": "stderr",
     "output_type": "stream",
     "text": [
      "2021-11-13 20:16:11,665 DataLoader  INFO Loading data for:20180801\n"
     ]
    },
    {
     "name": "stdout",
     "output_type": "stream",
     "text": [
      "/media/ak/WorkDrive/Data/TU1_Comdty_quotes/20180801.csv\n",
      "/media/ak/WorkDrive/Data/TU1_Comdty_trades/20180801.csv\n"
     ]
    },
    {
     "name": "stderr",
     "output_type": "stream",
     "text": [
      "2021-11-13 20:16:12,065 DataLoader  INFO Loading data for:20181002\n"
     ]
    },
    {
     "name": "stdout",
     "output_type": "stream",
     "text": [
      "/media/ak/WorkDrive/Data/TU1_Comdty_quotes/20181002.csv\n",
      "/media/ak/WorkDrive/Data/TU1_Comdty_trades/20181002.csv\n"
     ]
    },
    {
     "name": "stderr",
     "output_type": "stream",
     "text": [
      "2021-11-13 20:16:12,482 DataLoader  INFO Loading data for:20180719\n"
     ]
    },
    {
     "name": "stdout",
     "output_type": "stream",
     "text": [
      "/media/ak/WorkDrive/Data/TU1_Comdty_quotes/20180719.csv\n",
      "/media/ak/WorkDrive/Data/TU1_Comdty_trades/20180719.csv\n"
     ]
    },
    {
     "name": "stderr",
     "output_type": "stream",
     "text": [
      "2021-11-13 20:16:12,860 DataLoader  INFO Loading data for:20180420\n"
     ]
    },
    {
     "name": "stdout",
     "output_type": "stream",
     "text": [
      "/media/ak/WorkDrive/Data/TU1_Comdty_quotes/20180420.csv\n",
      "/media/ak/WorkDrive/Data/TU1_Comdty_trades/20180420.csv\n"
     ]
    },
    {
     "name": "stderr",
     "output_type": "stream",
     "text": [
      "2021-11-13 20:16:13,318 DataLoader  INFO Loading data for:20180504\n"
     ]
    },
    {
     "name": "stdout",
     "output_type": "stream",
     "text": [
      "/media/ak/WorkDrive/Data/TU1_Comdty_quotes/20180504.csv\n",
      "/media/ak/WorkDrive/Data/TU1_Comdty_trades/20180504.csv\n"
     ]
    },
    {
     "name": "stderr",
     "output_type": "stream",
     "text": [
      "2021-11-13 20:16:13,722 DataLoader  INFO Loading data for:20180913\n"
     ]
    },
    {
     "name": "stdout",
     "output_type": "stream",
     "text": [
      "/media/ak/WorkDrive/Data/TU1_Comdty_quotes/20180913.csv\n",
      "/media/ak/WorkDrive/Data/TU1_Comdty_trades/20180913.csv\n"
     ]
    },
    {
     "name": "stderr",
     "output_type": "stream",
     "text": [
      "2021-11-13 20:16:14,395 DataLoader  INFO Calculating calendar clock\n",
      "2021-11-13 20:16:15,695 DataLoader  INFO Calculating volume clock\n",
      "2021-11-13 20:16:47,526 DataLoader  INFO Calculating tick clock\n",
      "2021-11-13 20:16:48,842 DataLoader  INFO Calculating usd volume clock\n"
     ]
    },
    {
     "name": "stdout",
     "output_type": "stream",
     "text": [
      "{'20180725': {'tick': tick_bucket\n",
      "2.0       2.666084e-06\n",
      "3.0      -2.900328e-06\n",
      "4.0      -3.096897e-06\n",
      "5.0      -1.983080e-06\n",
      "6.0      -7.613414e-07\n",
      "              ...     \n",
      "1618.0    1.331230e-05\n",
      "1619.0   -5.017481e-06\n",
      "1620.0    6.777258e-09\n",
      "1621.0    1.599355e-05\n",
      "1622.0    1.114729e-05\n",
      "Length: 3243, dtype: float64, 'volume': volume_bucket\n",
      "2.0        3.801245e-07\n",
      "3.0        2.082894e-06\n",
      "4.0        1.570772e-06\n",
      "5.0       -1.872156e-07\n",
      "7.0        7.931050e-07\n",
      "               ...     \n",
      "67900.0   -2.684749e-06\n",
      "67901.0   -2.958251e-06\n",
      "67902.0    4.473754e-06\n",
      "67903.0    1.385007e-05\n",
      "67904.0   -1.546003e-06\n",
      "Length: 97391, dtype: float64, 'dollar': usd_volume_bucket\n",
      "6.0         -3.768552e-09\n",
      "9.0          1.193812e-06\n",
      "12.0         9.282954e-07\n",
      "15.0         3.479178e-07\n",
      "19.0        -1.235237e-08\n",
      "                 ...     \n",
      "7178838.0   -6.677091e-07\n",
      "7178846.0   -6.536866e-07\n",
      "7178855.0   -7.235950e-07\n",
      "7178863.0   -2.188992e-07\n",
      "7178872.0    4.393840e-07\n",
      "Length: 324545, dtype: float64, 'calendar': timeStampIdx\n",
      "2018-07-25 00:05:00   -1.430236e-07\n",
      "2018-07-25 00:10:00    7.519830e-06\n",
      "2018-07-25 00:15:00   -2.334429e-06\n",
      "2018-07-25 00:20:00   -3.574856e-07\n",
      "2018-07-25 00:25:00   -6.388511e-06\n",
      "                           ...     \n",
      "2018-07-25 23:40:00    1.437469e-05\n",
      "2018-07-25 23:45:00   -2.674464e-06\n",
      "2018-07-25 23:50:00   -5.127272e-06\n",
      "2018-07-25 23:55:00    1.697584e-05\n",
      "2018-07-26 00:00:00   -3.791590e-06\n",
      "Length: 541, dtype: float64}}\n",
      "just saved:  /media/ak/T7/FuturesDataSemiProcessed/TU1/20180725.pkl\n"
     ]
    }
   ],
   "source": [
    "date = intersectionDates[0]\n",
    "bar_returns, bars_dicts = produce_info_clock_files(date)"
   ]
  },
  {
   "cell_type": "code",
   "execution_count": 22,
   "id": "441b0cf3",
   "metadata": {},
   "outputs": [
    {
     "data": {
      "text/plain": [
       "{'20180725': {'tick': tick_bucket\n",
       "  2.0       2.666084e-06\n",
       "  3.0      -2.900328e-06\n",
       "  4.0      -3.096897e-06\n",
       "  5.0      -1.983080e-06\n",
       "  6.0      -7.613414e-07\n",
       "                ...     \n",
       "  1618.0    1.331230e-05\n",
       "  1619.0   -5.017481e-06\n",
       "  1620.0    6.777258e-09\n",
       "  1621.0    1.599355e-05\n",
       "  1622.0    1.114729e-05\n",
       "  Length: 3243, dtype: float64,\n",
       "  'volume': volume_bucket\n",
       "  2.0        3.801245e-07\n",
       "  3.0        2.082894e-06\n",
       "  4.0        1.570772e-06\n",
       "  5.0       -1.872156e-07\n",
       "  7.0        7.931050e-07\n",
       "                 ...     \n",
       "  67900.0   -2.684749e-06\n",
       "  67901.0   -2.958251e-06\n",
       "  67902.0    4.473754e-06\n",
       "  67903.0    1.385007e-05\n",
       "  67904.0   -1.546003e-06\n",
       "  Length: 97391, dtype: float64,\n",
       "  'dollar': usd_volume_bucket\n",
       "  6.0         -3.768552e-09\n",
       "  9.0          1.193812e-06\n",
       "  12.0         9.282954e-07\n",
       "  15.0         3.479178e-07\n",
       "  19.0        -1.235237e-08\n",
       "                   ...     \n",
       "  7178838.0   -6.677091e-07\n",
       "  7178846.0   -6.536866e-07\n",
       "  7178855.0   -7.235950e-07\n",
       "  7178863.0   -2.188992e-07\n",
       "  7178872.0    4.393840e-07\n",
       "  Length: 324545, dtype: float64,\n",
       "  'calendar': timeStampIdx\n",
       "  2018-07-25 00:05:00   -1.430236e-07\n",
       "  2018-07-25 00:10:00    7.519830e-06\n",
       "  2018-07-25 00:15:00   -2.334429e-06\n",
       "  2018-07-25 00:20:00   -3.574856e-07\n",
       "  2018-07-25 00:25:00   -6.388511e-06\n",
       "                             ...     \n",
       "  2018-07-25 23:40:00    1.437469e-05\n",
       "  2018-07-25 23:45:00   -2.674464e-06\n",
       "  2018-07-25 23:50:00   -5.127272e-06\n",
       "  2018-07-25 23:55:00    1.697584e-05\n",
       "  2018-07-26 00:00:00   -3.791590e-06\n",
       "  Length: 541, dtype: float64}}"
      ]
     },
     "execution_count": 22,
     "metadata": {},
     "output_type": "execute_result"
    }
   ],
   "source": []
  },
  {
   "cell_type": "code",
   "execution_count": 17,
   "id": "1ac0184a",
   "metadata": {},
   "outputs": [
    {
     "name": "stderr",
     "output_type": "stream",
     "text": [
      "2021-11-13 20:08:26,402 DataLoader  INFO Loading data for:20180725\n"
     ]
    },
    {
     "name": "stdout",
     "output_type": "stream",
     "text": [
      "/media/ak/WorkDrive/Data/TU1_Comdty_quotes/20180725.csv\n",
      "/media/ak/WorkDrive/Data/TU1_Comdty_trades/20180725.csv\n"
     ]
    },
    {
     "name": "stderr",
     "output_type": "stream",
     "text": [
      "2021-11-13 20:08:26,899 DataLoader  INFO Loading data for:20180724\n"
     ]
    },
    {
     "name": "stdout",
     "output_type": "stream",
     "text": [
      "/media/ak/WorkDrive/Data/TU1_Comdty_quotes/20180724.csv\n",
      "/media/ak/WorkDrive/Data/TU1_Comdty_trades/20180724.csv\n"
     ]
    },
    {
     "name": "stderr",
     "output_type": "stream",
     "text": [
      "2021-11-13 20:08:27,304 DataLoader  INFO Loading data for:20180517\n"
     ]
    },
    {
     "name": "stdout",
     "output_type": "stream",
     "text": [
      "/media/ak/WorkDrive/Data/TU1_Comdty_quotes/20180517.csv\n",
      "/media/ak/WorkDrive/Data/TU1_Comdty_trades/20180517.csv\n"
     ]
    },
    {
     "name": "stderr",
     "output_type": "stream",
     "text": [
      "2021-11-13 20:08:27,748 DataLoader  INFO Loading data for:20180514\n"
     ]
    },
    {
     "name": "stdout",
     "output_type": "stream",
     "text": [
      "/media/ak/WorkDrive/Data/TU1_Comdty_quotes/20180514.csv\n",
      "/media/ak/WorkDrive/Data/TU1_Comdty_trades/20180514.csv\n"
     ]
    },
    {
     "name": "stderr",
     "output_type": "stream",
     "text": [
      "2021-11-13 20:08:28,105 DataLoader  INFO Loading data for:20180511\n"
     ]
    },
    {
     "name": "stdout",
     "output_type": "stream",
     "text": [
      "/media/ak/WorkDrive/Data/TU1_Comdty_quotes/20180511.csv\n",
      "/media/ak/WorkDrive/Data/TU1_Comdty_trades/20180511.csv\n"
     ]
    },
    {
     "name": "stderr",
     "output_type": "stream",
     "text": [
      "2021-11-13 20:08:28,535 DataLoader  INFO Loading data for:20180910\n"
     ]
    },
    {
     "name": "stdout",
     "output_type": "stream",
     "text": [
      "/media/ak/WorkDrive/Data/TU1_Comdty_quotes/20180910.csv\n",
      "/media/ak/WorkDrive/Data/TU1_Comdty_trades/20180910.csv\n"
     ]
    },
    {
     "name": "stderr",
     "output_type": "stream",
     "text": [
      "2021-11-13 20:08:28,879 DataLoader  INFO Loading data for:20180525\n"
     ]
    },
    {
     "name": "stdout",
     "output_type": "stream",
     "text": [
      "/media/ak/WorkDrive/Data/TU1_Comdty_quotes/20180525.csv\n",
      "/media/ak/WorkDrive/Data/TU1_Comdty_trades/20180525.csv\n"
     ]
    },
    {
     "name": "stderr",
     "output_type": "stream",
     "text": [
      "2021-11-13 20:08:29,311 DataLoader  INFO Loading data for:20180531\n"
     ]
    },
    {
     "name": "stdout",
     "output_type": "stream",
     "text": [
      "/media/ak/WorkDrive/Data/TU1_Comdty_quotes/20180531.csv\n",
      "/media/ak/WorkDrive/Data/TU1_Comdty_trades/20180531.csv\n"
     ]
    },
    {
     "name": "stderr",
     "output_type": "stream",
     "text": [
      "2021-11-13 20:08:29,968 DataLoader  INFO Loading data for:20180924\n"
     ]
    },
    {
     "name": "stdout",
     "output_type": "stream",
     "text": [
      "/media/ak/WorkDrive/Data/TU1_Comdty_quotes/20180924.csv\n",
      "/media/ak/WorkDrive/Data/TU1_Comdty_trades/20180924.csv\n"
     ]
    },
    {
     "name": "stderr",
     "output_type": "stream",
     "text": [
      "2021-11-13 20:08:30,360 DataLoader  INFO Loading data for:20180829\n"
     ]
    },
    {
     "name": "stdout",
     "output_type": "stream",
     "text": [
      "/media/ak/WorkDrive/Data/TU1_Comdty_quotes/20180829.csv\n",
      "/media/ak/WorkDrive/Data/TU1_Comdty_trades/20180829.csv\n"
     ]
    },
    {
     "name": "stderr",
     "output_type": "stream",
     "text": [
      "2021-11-13 20:08:30,765 DataLoader  INFO Loading data for:20180830\n"
     ]
    },
    {
     "name": "stdout",
     "output_type": "stream",
     "text": [
      "/media/ak/WorkDrive/Data/TU1_Comdty_quotes/20180830.csv\n",
      "/media/ak/WorkDrive/Data/TU1_Comdty_trades/20180830.csv\n"
     ]
    },
    {
     "name": "stderr",
     "output_type": "stream",
     "text": [
      "2021-11-13 20:08:30,980 DataLoader  INFO Loading data for:20180706\n"
     ]
    },
    {
     "name": "stdout",
     "output_type": "stream",
     "text": [
      "/media/ak/WorkDrive/Data/TU1_Comdty_quotes/20180706.csv\n",
      "/media/ak/WorkDrive/Data/TU1_Comdty_trades/20180706.csv\n"
     ]
    },
    {
     "name": "stderr",
     "output_type": "stream",
     "text": [
      "2021-11-13 20:08:31,406 DataLoader  INFO Loading data for:20180928\n"
     ]
    },
    {
     "name": "stdout",
     "output_type": "stream",
     "text": [
      "/media/ak/WorkDrive/Data/TU1_Comdty_quotes/20180928.csv\n",
      "/media/ak/WorkDrive/Data/TU1_Comdty_trades/20180928.csv\n"
     ]
    },
    {
     "name": "stderr",
     "output_type": "stream",
     "text": [
      "2021-11-13 20:08:31,883 DataLoader  INFO Loading data for:20180817\n"
     ]
    },
    {
     "name": "stdout",
     "output_type": "stream",
     "text": [
      "/media/ak/WorkDrive/Data/TU1_Comdty_quotes/20180817.csv\n",
      "/media/ak/WorkDrive/Data/TU1_Comdty_trades/20180817.csv\n"
     ]
    },
    {
     "name": "stderr",
     "output_type": "stream",
     "text": [
      "2021-11-13 20:08:32,247 DataLoader  INFO Loading data for:20180710\n"
     ]
    },
    {
     "name": "stdout",
     "output_type": "stream",
     "text": [
      "/media/ak/WorkDrive/Data/TU1_Comdty_quotes/20180710.csv\n",
      "/media/ak/WorkDrive/Data/TU1_Comdty_trades/20180710.csv\n"
     ]
    },
    {
     "name": "stderr",
     "output_type": "stream",
     "text": [
      "2021-11-13 20:08:32,567 DataLoader  INFO Loading data for:20180503\n"
     ]
    },
    {
     "name": "stdout",
     "output_type": "stream",
     "text": [
      "/media/ak/WorkDrive/Data/TU1_Comdty_quotes/20180503.csv\n",
      "/media/ak/WorkDrive/Data/TU1_Comdty_trades/20180503.csv\n"
     ]
    },
    {
     "name": "stderr",
     "output_type": "stream",
     "text": [
      "2021-11-13 20:08:33,043 DataLoader  INFO Loading data for:20180921\n"
     ]
    },
    {
     "name": "stdout",
     "output_type": "stream",
     "text": [
      "/media/ak/WorkDrive/Data/TU1_Comdty_quotes/20180921.csv\n",
      "/media/ak/WorkDrive/Data/TU1_Comdty_trades/20180921.csv\n"
     ]
    },
    {
     "name": "stderr",
     "output_type": "stream",
     "text": [
      "2021-11-13 20:08:33,367 DataLoader  INFO Loading data for:20180417\n"
     ]
    },
    {
     "name": "stdout",
     "output_type": "stream",
     "text": [
      "/media/ak/WorkDrive/Data/TU1_Comdty_quotes/20180417.csv\n",
      "/media/ak/WorkDrive/Data/TU1_Comdty_trades/20180417.csv\n"
     ]
    },
    {
     "name": "stderr",
     "output_type": "stream",
     "text": [
      "2021-11-13 20:08:33,829 DataLoader  INFO Loading data for:20181011\n"
     ]
    },
    {
     "name": "stdout",
     "output_type": "stream",
     "text": [
      "/media/ak/WorkDrive/Data/TU1_Comdty_quotes/20181011.csv\n",
      "/media/ak/WorkDrive/Data/TU1_Comdty_trades/20181011.csv\n"
     ]
    },
    {
     "name": "stderr",
     "output_type": "stream",
     "text": [
      "2021-11-13 20:08:35,054 DataLoader  INFO Loading data for:20180612\n"
     ]
    },
    {
     "name": "stdout",
     "output_type": "stream",
     "text": [
      "/media/ak/WorkDrive/Data/TU1_Comdty_quotes/20180612.csv\n",
      "/media/ak/WorkDrive/Data/TU1_Comdty_trades/20180612.csv\n"
     ]
    },
    {
     "name": "stderr",
     "output_type": "stream",
     "text": [
      "2021-11-13 20:08:35,467 DataLoader  INFO Loading data for:20180709\n"
     ]
    },
    {
     "name": "stdout",
     "output_type": "stream",
     "text": [
      "/media/ak/WorkDrive/Data/TU1_Comdty_quotes/20180709.csv\n",
      "/media/ak/WorkDrive/Data/TU1_Comdty_trades/20180709.csv\n"
     ]
    },
    {
     "name": "stderr",
     "output_type": "stream",
     "text": [
      "2021-11-13 20:08:35,711 DataLoader  INFO Loading data for:20180718\n"
     ]
    },
    {
     "name": "stdout",
     "output_type": "stream",
     "text": [
      "/media/ak/WorkDrive/Data/TU1_Comdty_quotes/20180718.csv\n",
      "/media/ak/WorkDrive/Data/TU1_Comdty_trades/20180718.csv\n"
     ]
    },
    {
     "name": "stderr",
     "output_type": "stream",
     "text": [
      "2021-11-13 20:08:35,939 DataLoader  INFO Loading data for:20181005\n"
     ]
    },
    {
     "name": "stdout",
     "output_type": "stream",
     "text": [
      "/media/ak/WorkDrive/Data/TU1_Comdty_quotes/20181005.csv\n",
      "/media/ak/WorkDrive/Data/TU1_Comdty_trades/20181005.csv\n"
     ]
    },
    {
     "name": "stderr",
     "output_type": "stream",
     "text": [
      "2021-11-13 20:08:36,698 DataLoader  INFO Loading data for:20180524\n"
     ]
    },
    {
     "name": "stdout",
     "output_type": "stream",
     "text": [
      "/media/ak/WorkDrive/Data/TU1_Comdty_quotes/20180524.csv\n",
      "/media/ak/WorkDrive/Data/TU1_Comdty_trades/20180524.csv\n"
     ]
    },
    {
     "name": "stderr",
     "output_type": "stream",
     "text": [
      "2021-11-13 20:08:37,130 DataLoader  INFO Loading data for:20180820\n"
     ]
    },
    {
     "name": "stdout",
     "output_type": "stream",
     "text": [
      "/media/ak/WorkDrive/Data/TU1_Comdty_quotes/20180820.csv\n",
      "/media/ak/WorkDrive/Data/TU1_Comdty_trades/20180820.csv\n"
     ]
    },
    {
     "name": "stderr",
     "output_type": "stream",
     "text": [
      "2021-11-13 20:08:37,458 DataLoader  INFO Loading data for:20180711\n"
     ]
    },
    {
     "name": "stdout",
     "output_type": "stream",
     "text": [
      "/media/ak/WorkDrive/Data/TU1_Comdty_quotes/20180711.csv\n",
      "/media/ak/WorkDrive/Data/TU1_Comdty_trades/20180711.csv\n"
     ]
    },
    {
     "name": "stderr",
     "output_type": "stream",
     "text": [
      "2021-11-13 20:08:37,843 DataLoader  INFO Loading data for:20180703\n"
     ]
    },
    {
     "name": "stdout",
     "output_type": "stream",
     "text": [
      "/media/ak/WorkDrive/Data/TU1_Comdty_quotes/20180703.csv\n",
      "/media/ak/WorkDrive/Data/TU1_Comdty_trades/20180703.csv\n"
     ]
    },
    {
     "name": "stderr",
     "output_type": "stream",
     "text": [
      "2021-11-13 20:08:38,176 DataLoader  INFO Loading data for:20180822\n"
     ]
    },
    {
     "name": "stdout",
     "output_type": "stream",
     "text": [
      "/media/ak/WorkDrive/Data/TU1_Comdty_quotes/20180822.csv\n",
      "/media/ak/WorkDrive/Data/TU1_Comdty_trades/20180822.csv\n"
     ]
    },
    {
     "name": "stderr",
     "output_type": "stream",
     "text": [
      "2021-11-13 20:08:38,628 DataLoader  INFO Loading data for:20180920\n"
     ]
    },
    {
     "name": "stdout",
     "output_type": "stream",
     "text": [
      "/media/ak/WorkDrive/Data/TU1_Comdty_quotes/20180920.csv\n",
      "/media/ak/WorkDrive/Data/TU1_Comdty_trades/20180920.csv\n"
     ]
    },
    {
     "name": "stderr",
     "output_type": "stream",
     "text": [
      "2021-11-13 20:08:39,020 DataLoader  INFO Loading data for:20180627\n"
     ]
    },
    {
     "name": "stdout",
     "output_type": "stream",
     "text": [
      "/media/ak/WorkDrive/Data/TU1_Comdty_quotes/20180627.csv\n",
      "/media/ak/WorkDrive/Data/TU1_Comdty_trades/20180627.csv\n"
     ]
    },
    {
     "name": "stderr",
     "output_type": "stream",
     "text": [
      "2021-11-13 20:08:39,546 DataLoader  INFO Loading data for:20180925\n"
     ]
    },
    {
     "name": "stdout",
     "output_type": "stream",
     "text": [
      "/media/ak/WorkDrive/Data/TU1_Comdty_quotes/20180925.csv\n",
      "/media/ak/WorkDrive/Data/TU1_Comdty_trades/20180925.csv\n"
     ]
    },
    {
     "name": "stderr",
     "output_type": "stream",
     "text": [
      "2021-11-13 20:08:39,931 DataLoader  INFO Loading data for:20181001\n"
     ]
    },
    {
     "name": "stdout",
     "output_type": "stream",
     "text": [
      "/media/ak/WorkDrive/Data/TU1_Comdty_quotes/20181001.csv\n",
      "/media/ak/WorkDrive/Data/TU1_Comdty_trades/20181001.csv\n"
     ]
    },
    {
     "name": "stderr",
     "output_type": "stream",
     "text": [
      "2021-11-13 20:08:40,316 DataLoader  INFO Loading data for:20180809\n"
     ]
    },
    {
     "name": "stdout",
     "output_type": "stream",
     "text": [
      "/media/ak/WorkDrive/Data/TU1_Comdty_quotes/20180809.csv\n",
      "/media/ak/WorkDrive/Data/TU1_Comdty_trades/20180809.csv\n"
     ]
    },
    {
     "name": "stderr",
     "output_type": "stream",
     "text": [
      "2021-11-13 20:08:40,646 DataLoader  INFO Loading data for:20180510\n"
     ]
    },
    {
     "name": "stdout",
     "output_type": "stream",
     "text": [
      "/media/ak/WorkDrive/Data/TU1_Comdty_quotes/20180510.csv\n",
      "/media/ak/WorkDrive/Data/TU1_Comdty_trades/20180510.csv\n"
     ]
    },
    {
     "name": "stderr",
     "output_type": "stream",
     "text": [
      "2021-11-13 20:08:41,089 DataLoader  INFO Loading data for:20180730\n"
     ]
    },
    {
     "name": "stdout",
     "output_type": "stream",
     "text": [
      "/media/ak/WorkDrive/Data/TU1_Comdty_quotes/20180730.csv\n",
      "/media/ak/WorkDrive/Data/TU1_Comdty_trades/20180730.csv\n"
     ]
    },
    {
     "name": "stderr",
     "output_type": "stream",
     "text": [
      "2021-11-13 20:08:41,572 DataLoader  INFO Loading data for:20180424\n"
     ]
    },
    {
     "name": "stdout",
     "output_type": "stream",
     "text": [
      "/media/ak/WorkDrive/Data/TU1_Comdty_quotes/20180424.csv\n",
      "/media/ak/WorkDrive/Data/TU1_Comdty_trades/20180424.csv\n"
     ]
    },
    {
     "name": "stderr",
     "output_type": "stream",
     "text": [
      "2021-11-13 20:08:42,070 DataLoader  INFO Loading data for:20180426\n"
     ]
    },
    {
     "name": "stdout",
     "output_type": "stream",
     "text": [
      "/media/ak/WorkDrive/Data/TU1_Comdty_quotes/20180426.csv\n",
      "/media/ak/WorkDrive/Data/TU1_Comdty_trades/20180426.csv\n"
     ]
    },
    {
     "name": "stderr",
     "output_type": "stream",
     "text": [
      "2021-11-13 20:08:42,511 DataLoader  INFO Loading data for:20180629\n"
     ]
    },
    {
     "name": "stdout",
     "output_type": "stream",
     "text": [
      "/media/ak/WorkDrive/Data/TU1_Comdty_quotes/20180629.csv\n",
      "/media/ak/WorkDrive/Data/TU1_Comdty_trades/20180629.csv\n"
     ]
    },
    {
     "name": "stderr",
     "output_type": "stream",
     "text": [
      "2021-11-13 20:08:42,948 DataLoader  INFO Loading data for:20181010\n"
     ]
    },
    {
     "name": "stdout",
     "output_type": "stream",
     "text": [
      "/media/ak/WorkDrive/Data/TU1_Comdty_quotes/20181010.csv\n",
      "/media/ak/WorkDrive/Data/TU1_Comdty_trades/20181010.csv\n"
     ]
    },
    {
     "name": "stderr",
     "output_type": "stream",
     "text": [
      "2021-11-13 20:08:43,610 DataLoader  INFO Loading data for:20180601\n"
     ]
    },
    {
     "name": "stdout",
     "output_type": "stream",
     "text": [
      "/media/ak/WorkDrive/Data/TU1_Comdty_quotes/20180601.csv\n",
      "/media/ak/WorkDrive/Data/TU1_Comdty_trades/20180601.csv\n"
     ]
    },
    {
     "name": "stderr",
     "output_type": "stream",
     "text": [
      "2021-11-13 20:08:44,110 DataLoader  INFO Loading data for:20180813\n"
     ]
    },
    {
     "name": "stdout",
     "output_type": "stream",
     "text": [
      "/media/ak/WorkDrive/Data/TU1_Comdty_quotes/20180813.csv\n",
      "/media/ak/WorkDrive/Data/TU1_Comdty_trades/20180813.csv\n"
     ]
    },
    {
     "name": "stderr",
     "output_type": "stream",
     "text": [
      "2021-11-13 20:08:44,673 DataLoader  INFO Loading data for:20180423\n"
     ]
    },
    {
     "name": "stdout",
     "output_type": "stream",
     "text": [
      "/media/ak/WorkDrive/Data/TU1_Comdty_quotes/20180423.csv\n",
      "/media/ak/WorkDrive/Data/TU1_Comdty_trades/20180423.csv\n"
     ]
    },
    {
     "name": "stderr",
     "output_type": "stream",
     "text": [
      "2021-11-13 20:08:45,052 DataLoader  INFO Loading data for:20180416\n"
     ]
    },
    {
     "name": "stdout",
     "output_type": "stream",
     "text": [
      "/media/ak/WorkDrive/Data/TU1_Comdty_quotes/20180416.csv\n",
      "/media/ak/WorkDrive/Data/TU1_Comdty_trades/20180416.csv\n"
     ]
    },
    {
     "name": "stderr",
     "output_type": "stream",
     "text": [
      "2021-11-13 20:08:45,415 DataLoader  INFO Loading data for:20180806\n"
     ]
    },
    {
     "name": "stdout",
     "output_type": "stream",
     "text": [
      "/media/ak/WorkDrive/Data/TU1_Comdty_quotes/20180806.csv\n",
      "/media/ak/WorkDrive/Data/TU1_Comdty_trades/20180806.csv\n"
     ]
    },
    {
     "name": "stderr",
     "output_type": "stream",
     "text": [
      "2021-11-13 20:08:45,777 DataLoader  INFO Loading data for:20180815\n"
     ]
    },
    {
     "name": "stdout",
     "output_type": "stream",
     "text": [
      "/media/ak/WorkDrive/Data/TU1_Comdty_quotes/20180815.csv\n",
      "/media/ak/WorkDrive/Data/TU1_Comdty_trades/20180815.csv\n"
     ]
    },
    {
     "name": "stderr",
     "output_type": "stream",
     "text": [
      "2021-11-13 20:08:46,171 DataLoader  INFO Loading data for:20180816\n"
     ]
    },
    {
     "name": "stdout",
     "output_type": "stream",
     "text": [
      "/media/ak/WorkDrive/Data/TU1_Comdty_quotes/20180816.csv\n",
      "/media/ak/WorkDrive/Data/TU1_Comdty_trades/20180816.csv\n"
     ]
    },
    {
     "name": "stderr",
     "output_type": "stream",
     "text": [
      "2021-11-13 20:08:46,537 DataLoader  INFO Loading data for:20180802\n"
     ]
    },
    {
     "name": "stdout",
     "output_type": "stream",
     "text": [
      "/media/ak/WorkDrive/Data/TU1_Comdty_quotes/20180802.csv\n",
      "/media/ak/WorkDrive/Data/TU1_Comdty_trades/20180802.csv\n"
     ]
    },
    {
     "name": "stderr",
     "output_type": "stream",
     "text": [
      "2021-11-13 20:08:46,901 DataLoader  INFO Loading data for:20180614\n"
     ]
    },
    {
     "name": "stdout",
     "output_type": "stream",
     "text": [
      "/media/ak/WorkDrive/Data/TU1_Comdty_quotes/20180614.csv\n",
      "/media/ak/WorkDrive/Data/TU1_Comdty_trades/20180614.csv\n"
     ]
    },
    {
     "name": "stderr",
     "output_type": "stream",
     "text": [
      "2021-11-13 20:08:47,527 DataLoader  INFO Loading data for:20180516\n"
     ]
    },
    {
     "name": "stdout",
     "output_type": "stream",
     "text": [
      "/media/ak/WorkDrive/Data/TU1_Comdty_quotes/20180516.csv\n",
      "/media/ak/WorkDrive/Data/TU1_Comdty_trades/20180516.csv\n"
     ]
    },
    {
     "name": "stderr",
     "output_type": "stream",
     "text": [
      "2021-11-13 20:08:48,000 DataLoader  INFO Loading data for:20180628\n"
     ]
    },
    {
     "name": "stdout",
     "output_type": "stream",
     "text": [
      "/media/ak/WorkDrive/Data/TU1_Comdty_quotes/20180628.csv\n",
      "/media/ak/WorkDrive/Data/TU1_Comdty_trades/20180628.csv\n"
     ]
    },
    {
     "name": "stderr",
     "output_type": "stream",
     "text": [
      "2021-11-13 20:08:48,378 DataLoader  INFO Loading data for:20180726\n"
     ]
    },
    {
     "name": "stdout",
     "output_type": "stream",
     "text": [
      "/media/ak/WorkDrive/Data/TU1_Comdty_quotes/20180726.csv\n",
      "/media/ak/WorkDrive/Data/TU1_Comdty_trades/20180726.csv\n"
     ]
    },
    {
     "name": "stderr",
     "output_type": "stream",
     "text": [
      "2021-11-13 20:08:48,757 DataLoader  INFO Loading data for:20180906\n"
     ]
    },
    {
     "name": "stdout",
     "output_type": "stream",
     "text": [
      "/media/ak/WorkDrive/Data/TU1_Comdty_quotes/20180906.csv\n",
      "/media/ak/WorkDrive/Data/TU1_Comdty_trades/20180906.csv\n"
     ]
    },
    {
     "name": "stderr",
     "output_type": "stream",
     "text": [
      "2021-11-13 20:08:49,245 DataLoader  INFO Loading data for:20180907\n"
     ]
    },
    {
     "name": "stdout",
     "output_type": "stream",
     "text": [
      "/media/ak/WorkDrive/Data/TU1_Comdty_quotes/20180907.csv\n",
      "/media/ak/WorkDrive/Data/TU1_Comdty_trades/20180907.csv\n"
     ]
    },
    {
     "name": "stderr",
     "output_type": "stream",
     "text": [
      "2021-11-13 20:08:49,804 DataLoader  INFO Loading data for:20181009\n"
     ]
    },
    {
     "name": "stdout",
     "output_type": "stream",
     "text": [
      "/media/ak/WorkDrive/Data/TU1_Comdty_quotes/20181009.csv\n",
      "/media/ak/WorkDrive/Data/TU1_Comdty_trades/20181009.csv\n"
     ]
    },
    {
     "name": "stderr",
     "output_type": "stream",
     "text": [
      "2021-11-13 20:08:50,288 DataLoader  INFO Loading data for:20180814\n"
     ]
    },
    {
     "name": "stdout",
     "output_type": "stream",
     "text": [
      "/media/ak/WorkDrive/Data/TU1_Comdty_quotes/20180814.csv\n",
      "/media/ak/WorkDrive/Data/TU1_Comdty_trades/20180814.csv\n"
     ]
    },
    {
     "name": "stderr",
     "output_type": "stream",
     "text": [
      "2021-11-13 20:08:50,629 DataLoader  INFO Loading data for:20180625\n"
     ]
    },
    {
     "name": "stdout",
     "output_type": "stream",
     "text": [
      "/media/ak/WorkDrive/Data/TU1_Comdty_quotes/20180625.csv\n",
      "/media/ak/WorkDrive/Data/TU1_Comdty_trades/20180625.csv\n"
     ]
    },
    {
     "name": "stderr",
     "output_type": "stream",
     "text": [
      "2021-11-13 20:08:51,155 DataLoader  INFO Loading data for:20180831\n"
     ]
    },
    {
     "name": "stdout",
     "output_type": "stream",
     "text": [
      "/media/ak/WorkDrive/Data/TU1_Comdty_quotes/20180831.csv\n",
      "/media/ak/WorkDrive/Data/TU1_Comdty_trades/20180831.csv\n"
     ]
    },
    {
     "name": "stderr",
     "output_type": "stream",
     "text": [
      "2021-11-13 20:08:51,519 DataLoader  INFO Loading data for:20180605\n"
     ]
    },
    {
     "name": "stdout",
     "output_type": "stream",
     "text": [
      "/media/ak/WorkDrive/Data/TU1_Comdty_quotes/20180605.csv\n",
      "/media/ak/WorkDrive/Data/TU1_Comdty_trades/20180605.csv\n"
     ]
    },
    {
     "name": "stderr",
     "output_type": "stream",
     "text": [
      "2021-11-13 20:08:52,085 DataLoader  INFO Loading data for:20180418\n"
     ]
    },
    {
     "name": "stdout",
     "output_type": "stream",
     "text": [
      "/media/ak/WorkDrive/Data/TU1_Comdty_quotes/20180418.csv\n",
      "/media/ak/WorkDrive/Data/TU1_Comdty_trades/20180418.csv\n"
     ]
    },
    {
     "name": "stderr",
     "output_type": "stream",
     "text": [
      "2021-11-13 20:08:52,463 DataLoader  INFO Loading data for:20180606\n"
     ]
    },
    {
     "name": "stdout",
     "output_type": "stream",
     "text": [
      "/media/ak/WorkDrive/Data/TU1_Comdty_quotes/20180606.csv\n",
      "/media/ak/WorkDrive/Data/TU1_Comdty_trades/20180606.csv\n"
     ]
    },
    {
     "name": "stderr",
     "output_type": "stream",
     "text": [
      "2021-11-13 20:08:53,087 DataLoader  INFO Loading data for:20181003\n"
     ]
    },
    {
     "name": "stdout",
     "output_type": "stream",
     "text": [
      "/media/ak/WorkDrive/Data/TU1_Comdty_quotes/20181003.csv\n",
      "/media/ak/WorkDrive/Data/TU1_Comdty_trades/20181003.csv\n"
     ]
    },
    {
     "name": "stderr",
     "output_type": "stream",
     "text": [
      "2021-11-13 20:08:53,665 DataLoader  INFO Loading data for:20180727\n"
     ]
    },
    {
     "name": "stdout",
     "output_type": "stream",
     "text": [
      "/media/ak/WorkDrive/Data/TU1_Comdty_quotes/20180727.csv\n",
      "/media/ak/WorkDrive/Data/TU1_Comdty_trades/20180727.csv\n"
     ]
    },
    {
     "name": "stderr",
     "output_type": "stream",
     "text": [
      "2021-11-13 20:08:54,020 DataLoader  INFO Loading data for:20180615\n"
     ]
    },
    {
     "name": "stdout",
     "output_type": "stream",
     "text": [
      "/media/ak/WorkDrive/Data/TU1_Comdty_quotes/20180615.csv\n",
      "/media/ak/WorkDrive/Data/TU1_Comdty_trades/20180615.csv\n"
     ]
    },
    {
     "name": "stderr",
     "output_type": "stream",
     "text": [
      "2021-11-13 20:08:54,438 DataLoader  INFO Loading data for:20180827\n"
     ]
    },
    {
     "name": "stdout",
     "output_type": "stream",
     "text": [
      "/media/ak/WorkDrive/Data/TU1_Comdty_quotes/20180827.csv\n",
      "/media/ak/WorkDrive/Data/TU1_Comdty_trades/20180827.csv\n"
     ]
    },
    {
     "name": "stderr",
     "output_type": "stream",
     "text": [
      "2021-11-13 20:08:54,676 DataLoader  INFO Loading data for:20180502\n"
     ]
    },
    {
     "name": "stdout",
     "output_type": "stream",
     "text": [
      "/media/ak/WorkDrive/Data/TU1_Comdty_quotes/20180502.csv\n",
      "/media/ak/WorkDrive/Data/TU1_Comdty_trades/20180502.csv\n"
     ]
    },
    {
     "name": "stderr",
     "output_type": "stream",
     "text": [
      "2021-11-13 20:08:55,088 DataLoader  INFO Loading data for:20180731\n"
     ]
    },
    {
     "name": "stdout",
     "output_type": "stream",
     "text": [
      "/media/ak/WorkDrive/Data/TU1_Comdty_quotes/20180731.csv\n",
      "/media/ak/WorkDrive/Data/TU1_Comdty_trades/20180731.csv\n"
     ]
    },
    {
     "name": "stderr",
     "output_type": "stream",
     "text": [
      "2021-11-13 20:08:55,627 DataLoader  INFO Loading data for:20180620\n"
     ]
    },
    {
     "name": "stdout",
     "output_type": "stream",
     "text": [
      "/media/ak/WorkDrive/Data/TU1_Comdty_quotes/20180620.csv\n",
      "/media/ak/WorkDrive/Data/TU1_Comdty_trades/20180620.csv\n"
     ]
    },
    {
     "name": "stderr",
     "output_type": "stream",
     "text": [
      "2021-11-13 20:08:56,006 DataLoader  INFO Loading data for:20180508\n"
     ]
    },
    {
     "name": "stdout",
     "output_type": "stream",
     "text": [
      "/media/ak/WorkDrive/Data/TU1_Comdty_quotes/20180508.csv\n",
      "/media/ak/WorkDrive/Data/TU1_Comdty_trades/20180508.csv\n"
     ]
    },
    {
     "name": "stderr",
     "output_type": "stream",
     "text": [
      "2021-11-13 20:08:56,441 DataLoader  INFO Loading data for:20180716\n"
     ]
    },
    {
     "name": "stdout",
     "output_type": "stream",
     "text": [
      "/media/ak/WorkDrive/Data/TU1_Comdty_quotes/20180716.csv\n",
      "/media/ak/WorkDrive/Data/TU1_Comdty_trades/20180716.csv\n"
     ]
    },
    {
     "name": "stderr",
     "output_type": "stream",
     "text": [
      "2021-11-13 20:08:56,793 DataLoader  INFO Loading data for:20180905\n"
     ]
    },
    {
     "name": "stdout",
     "output_type": "stream",
     "text": [
      "/media/ak/WorkDrive/Data/TU1_Comdty_quotes/20180905.csv\n",
      "/media/ak/WorkDrive/Data/TU1_Comdty_trades/20180905.csv\n"
     ]
    },
    {
     "name": "stderr",
     "output_type": "stream",
     "text": [
      "2021-11-13 20:08:57,235 DataLoader  INFO Loading data for:20180507\n"
     ]
    },
    {
     "name": "stdout",
     "output_type": "stream",
     "text": [
      "/media/ak/WorkDrive/Data/TU1_Comdty_quotes/20180507.csv\n",
      "/media/ak/WorkDrive/Data/TU1_Comdty_trades/20180507.csv\n"
     ]
    },
    {
     "name": "stderr",
     "output_type": "stream",
     "text": [
      "2021-11-13 20:08:57,485 DataLoader  INFO Loading data for:20180712\n"
     ]
    },
    {
     "name": "stdout",
     "output_type": "stream",
     "text": [
      "/media/ak/WorkDrive/Data/TU1_Comdty_quotes/20180712.csv\n",
      "/media/ak/WorkDrive/Data/TU1_Comdty_trades/20180712.csv\n"
     ]
    },
    {
     "name": "stderr",
     "output_type": "stream",
     "text": [
      "2021-11-13 20:08:57,777 DataLoader  INFO Loading data for:20181004\n"
     ]
    },
    {
     "name": "stdout",
     "output_type": "stream",
     "text": [
      "/media/ak/WorkDrive/Data/TU1_Comdty_quotes/20181004.csv\n",
      "/media/ak/WorkDrive/Data/TU1_Comdty_trades/20181004.csv\n"
     ]
    },
    {
     "name": "stderr",
     "output_type": "stream",
     "text": [
      "2021-11-13 20:08:58,512 DataLoader  INFO Loading data for:20180509\n"
     ]
    },
    {
     "name": "stdout",
     "output_type": "stream",
     "text": [
      "/media/ak/WorkDrive/Data/TU1_Comdty_quotes/20180509.csv\n",
      "/media/ak/WorkDrive/Data/TU1_Comdty_trades/20180509.csv\n"
     ]
    },
    {
     "name": "stderr",
     "output_type": "stream",
     "text": [
      "2021-11-13 20:08:59,033 DataLoader  INFO Loading data for:20180515\n"
     ]
    },
    {
     "name": "stdout",
     "output_type": "stream",
     "text": [
      "/media/ak/WorkDrive/Data/TU1_Comdty_quotes/20180515.csv\n",
      "/media/ak/WorkDrive/Data/TU1_Comdty_trades/20180515.csv\n"
     ]
    },
    {
     "name": "stderr",
     "output_type": "stream",
     "text": [
      "2021-11-13 20:08:59,534 DataLoader  INFO Loading data for:20180607\n"
     ]
    },
    {
     "name": "stdout",
     "output_type": "stream",
     "text": [
      "/media/ak/WorkDrive/Data/TU1_Comdty_quotes/20180607.csv\n",
      "/media/ak/WorkDrive/Data/TU1_Comdty_trades/20180607.csv\n"
     ]
    },
    {
     "name": "stderr",
     "output_type": "stream",
     "text": [
      "2021-11-13 20:09:00,147 DataLoader  INFO Loading data for:20180803\n"
     ]
    },
    {
     "name": "stdout",
     "output_type": "stream",
     "text": [
      "/media/ak/WorkDrive/Data/TU1_Comdty_quotes/20180803.csv\n",
      "/media/ak/WorkDrive/Data/TU1_Comdty_trades/20180803.csv\n"
     ]
    },
    {
     "name": "stderr",
     "output_type": "stream",
     "text": [
      "2021-11-13 20:09:00,580 DataLoader  INFO Loading data for:20180613\n"
     ]
    },
    {
     "name": "stdout",
     "output_type": "stream",
     "text": [
      "/media/ak/WorkDrive/Data/TU1_Comdty_quotes/20180613.csv\n",
      "/media/ak/WorkDrive/Data/TU1_Comdty_trades/20180613.csv\n"
     ]
    },
    {
     "name": "stderr",
     "output_type": "stream",
     "text": [
      "2021-11-13 20:09:01,005 DataLoader  INFO Loading data for:20180523\n"
     ]
    },
    {
     "name": "stdout",
     "output_type": "stream",
     "text": [
      "/media/ak/WorkDrive/Data/TU1_Comdty_quotes/20180523.csv\n",
      "/media/ak/WorkDrive/Data/TU1_Comdty_trades/20180523.csv\n"
     ]
    },
    {
     "name": "stderr",
     "output_type": "stream",
     "text": [
      "2021-11-13 20:09:01,478 DataLoader  INFO Loading data for:20180808\n"
     ]
    },
    {
     "name": "stdout",
     "output_type": "stream",
     "text": [
      "/media/ak/WorkDrive/Data/TU1_Comdty_quotes/20180808.csv\n",
      "/media/ak/WorkDrive/Data/TU1_Comdty_trades/20180808.csv\n"
     ]
    },
    {
     "name": "stderr",
     "output_type": "stream",
     "text": [
      "2021-11-13 20:09:01,784 DataLoader  INFO Loading data for:20180419\n"
     ]
    },
    {
     "name": "stdout",
     "output_type": "stream",
     "text": [
      "/media/ak/WorkDrive/Data/TU1_Comdty_quotes/20180419.csv\n",
      "/media/ak/WorkDrive/Data/TU1_Comdty_trades/20180419.csv\n"
     ]
    },
    {
     "name": "stderr",
     "output_type": "stream",
     "text": [
      "2021-11-13 20:09:02,284 DataLoader  INFO Loading data for:20180621\n"
     ]
    },
    {
     "name": "stdout",
     "output_type": "stream",
     "text": [
      "/media/ak/WorkDrive/Data/TU1_Comdty_quotes/20180621.csv\n",
      "/media/ak/WorkDrive/Data/TU1_Comdty_trades/20180621.csv\n"
     ]
    },
    {
     "name": "stderr",
     "output_type": "stream",
     "text": [
      "2021-11-13 20:09:02,889 DataLoader  INFO Loading data for:20180927\n"
     ]
    },
    {
     "name": "stdout",
     "output_type": "stream",
     "text": [
      "/media/ak/WorkDrive/Data/TU1_Comdty_quotes/20180927.csv\n",
      "/media/ak/WorkDrive/Data/TU1_Comdty_trades/20180927.csv\n"
     ]
    },
    {
     "name": "stderr",
     "output_type": "stream",
     "text": [
      "2021-11-13 20:09:03,354 DataLoader  INFO Loading data for:20180705\n"
     ]
    },
    {
     "name": "stdout",
     "output_type": "stream",
     "text": [
      "/media/ak/WorkDrive/Data/TU1_Comdty_quotes/20180705.csv\n",
      "/media/ak/WorkDrive/Data/TU1_Comdty_trades/20180705.csv\n"
     ]
    },
    {
     "name": "stderr",
     "output_type": "stream",
     "text": [
      "2021-11-13 20:09:03,920 DataLoader  INFO Loading data for:20180828\n"
     ]
    },
    {
     "name": "stdout",
     "output_type": "stream",
     "text": [
      "/media/ak/WorkDrive/Data/TU1_Comdty_quotes/20180828.csv\n",
      "/media/ak/WorkDrive/Data/TU1_Comdty_trades/20180828.csv\n"
     ]
    },
    {
     "name": "stderr",
     "output_type": "stream",
     "text": [
      "2021-11-13 20:09:04,182 DataLoader  INFO Loading data for:20180926\n"
     ]
    },
    {
     "name": "stdout",
     "output_type": "stream",
     "text": [
      "/media/ak/WorkDrive/Data/TU1_Comdty_quotes/20180926.csv\n",
      "/media/ak/WorkDrive/Data/TU1_Comdty_trades/20180926.csv\n"
     ]
    },
    {
     "name": "stderr",
     "output_type": "stream",
     "text": [
      "2021-11-13 20:09:04,728 DataLoader  INFO Loading data for:20180912\n"
     ]
    },
    {
     "name": "stdout",
     "output_type": "stream",
     "text": [
      "/media/ak/WorkDrive/Data/TU1_Comdty_quotes/20180912.csv\n",
      "/media/ak/WorkDrive/Data/TU1_Comdty_trades/20180912.csv\n"
     ]
    },
    {
     "name": "stderr",
     "output_type": "stream",
     "text": [
      "2021-11-13 20:09:05,138 DataLoader  INFO Loading data for:20180801\n"
     ]
    },
    {
     "name": "stdout",
     "output_type": "stream",
     "text": [
      "/media/ak/WorkDrive/Data/TU1_Comdty_quotes/20180801.csv\n",
      "/media/ak/WorkDrive/Data/TU1_Comdty_trades/20180801.csv\n"
     ]
    },
    {
     "name": "stderr",
     "output_type": "stream",
     "text": [
      "2021-11-13 20:09:05,544 DataLoader  INFO Loading data for:20181002\n"
     ]
    },
    {
     "name": "stdout",
     "output_type": "stream",
     "text": [
      "/media/ak/WorkDrive/Data/TU1_Comdty_quotes/20181002.csv\n",
      "/media/ak/WorkDrive/Data/TU1_Comdty_trades/20181002.csv\n"
     ]
    },
    {
     "name": "stderr",
     "output_type": "stream",
     "text": [
      "2021-11-13 20:09:05,982 DataLoader  INFO Loading data for:20180719\n"
     ]
    },
    {
     "name": "stdout",
     "output_type": "stream",
     "text": [
      "/media/ak/WorkDrive/Data/TU1_Comdty_quotes/20180719.csv\n",
      "/media/ak/WorkDrive/Data/TU1_Comdty_trades/20180719.csv\n"
     ]
    },
    {
     "name": "stderr",
     "output_type": "stream",
     "text": [
      "2021-11-13 20:09:06,362 DataLoader  INFO Loading data for:20180420\n"
     ]
    },
    {
     "name": "stdout",
     "output_type": "stream",
     "text": [
      "/media/ak/WorkDrive/Data/TU1_Comdty_quotes/20180420.csv\n",
      "/media/ak/WorkDrive/Data/TU1_Comdty_trades/20180420.csv\n"
     ]
    },
    {
     "name": "stderr",
     "output_type": "stream",
     "text": [
      "2021-11-13 20:09:06,813 DataLoader  INFO Loading data for:20180504\n"
     ]
    },
    {
     "name": "stdout",
     "output_type": "stream",
     "text": [
      "/media/ak/WorkDrive/Data/TU1_Comdty_quotes/20180504.csv\n",
      "/media/ak/WorkDrive/Data/TU1_Comdty_trades/20180504.csv\n"
     ]
    },
    {
     "name": "stderr",
     "output_type": "stream",
     "text": [
      "2021-11-13 20:09:07,255 DataLoader  INFO Loading data for:20180913\n"
     ]
    },
    {
     "name": "stdout",
     "output_type": "stream",
     "text": [
      "/media/ak/WorkDrive/Data/TU1_Comdty_quotes/20180913.csv\n",
      "/media/ak/WorkDrive/Data/TU1_Comdty_trades/20180913.csv\n"
     ]
    },
    {
     "name": "stderr",
     "output_type": "stream",
     "text": [
      "2021-11-13 20:09:07,937 DataLoader  INFO Calculating calendar clock\n",
      "2021-11-13 20:09:09,261 DataLoader  INFO Calculating volume clock\n",
      "2021-11-13 20:09:40,246 DataLoader  INFO Calculating tick clock\n",
      "2021-11-13 20:09:41,551 DataLoader  INFO Calculating usd volume clock\n"
     ]
    }
   ],
   "source": [
    "df = testClass.load_and_format_data()[date]\n",
    "input_dict = testClass.get_bars(df)\n",
    "calendar_bar_df = (testClass.get_concat_data(testClass._bars_dict)['calendar_bars'])\n",
    "tick_bar_df = testClass.get_concat_data(testClass._bars_dict)['tick_bars']\n",
    "volume_bar_df = (testClass.get_concat_data(testClass._bars_dict)['volume_bars'])\n"
   ]
  },
  {
   "cell_type": "code",
   "execution_count": 19,
   "id": "fa63f1b9",
   "metadata": {},
   "outputs": [
    {
     "data": {
      "text/html": [
       "<div>\n",
       "<style scoped>\n",
       "    .dataframe tbody tr th:only-of-type {\n",
       "        vertical-align: middle;\n",
       "    }\n",
       "\n",
       "    .dataframe tbody tr th {\n",
       "        vertical-align: top;\n",
       "    }\n",
       "\n",
       "    .dataframe thead th {\n",
       "        text-align: right;\n",
       "    }\n",
       "</style>\n",
       "<table border=\"1\" class=\"dataframe\">\n",
       "  <thead>\n",
       "    <tr style=\"text-align: right;\">\n",
       "      <th></th>\n",
       "      <th>BidSize_open</th>\n",
       "      <th>BidSize_high</th>\n",
       "      <th>BidSize_low</th>\n",
       "      <th>BidSize_close</th>\n",
       "      <th>QuoteTime_open</th>\n",
       "      <th>QuoteTime_high</th>\n",
       "      <th>QuoteTime_low</th>\n",
       "      <th>QuoteTime_close</th>\n",
       "      <th>type_x_open</th>\n",
       "      <th>type_x_high</th>\n",
       "      <th>type_x_low</th>\n",
       "      <th>type_x_close</th>\n",
       "      <th>BestBid_open</th>\n",
       "      <th>BestBid_high</th>\n",
       "      <th>BestBid_low</th>\n",
       "      <th>BestBid_close</th>\n",
       "      <th>TradeTime_open</th>\n",
       "      <th>TradeTime_high</th>\n",
       "      <th>TradeTime_low</th>\n",
       "      <th>TradeTime_close</th>\n",
       "      <th>AskSize_open</th>\n",
       "      <th>AskSize_high</th>\n",
       "      <th>AskSize_low</th>\n",
       "      <th>AskSize_close</th>\n",
       "      <th>BestAsk_open</th>\n",
       "      <th>BestAsk_high</th>\n",
       "      <th>BestAsk_low</th>\n",
       "      <th>BestAsk_close</th>\n",
       "      <th>TradeSize_open</th>\n",
       "      <th>TradeSize_high</th>\n",
       "      <th>TradeSize_low</th>\n",
       "      <th>TradeSize_close</th>\n",
       "      <th>TradePrice_open</th>\n",
       "      <th>TradePrice_high</th>\n",
       "      <th>TradePrice_low</th>\n",
       "      <th>TradePrice_close</th>\n",
       "      <th>TimeStamp_open</th>\n",
       "      <th>TimeStamp_high</th>\n",
       "      <th>TimeStamp_low</th>\n",
       "      <th>TimeStamp_close</th>\n",
       "      <th>TradeVolume_open</th>\n",
       "      <th>TradeVolume_high</th>\n",
       "      <th>TradeVolume_low</th>\n",
       "      <th>TradeVolume_close</th>\n",
       "      <th>total_traded_volume_open</th>\n",
       "      <th>total_traded_volume_high</th>\n",
       "      <th>total_traded_volume_low</th>\n",
       "      <th>total_traded_volume_close</th>\n",
       "      <th>milliSeconds_open</th>\n",
       "      <th>milliSeconds_high</th>\n",
       "      <th>milliSeconds_low</th>\n",
       "      <th>milliSeconds_close</th>\n",
       "      <th>dollar_traded_volume_open</th>\n",
       "      <th>dollar_traded_volume_high</th>\n",
       "      <th>dollar_traded_volume_low</th>\n",
       "      <th>dollar_traded_volume_close</th>\n",
       "      <th>timeStampIdx_open</th>\n",
       "      <th>timeStampIdx_high</th>\n",
       "      <th>timeStampIdx_low</th>\n",
       "      <th>timeStampIdx_close</th>\n",
       "      <th>micro_price_open</th>\n",
       "      <th>micro_price_high</th>\n",
       "      <th>micro_price_low</th>\n",
       "      <th>micro_price_close</th>\n",
       "    </tr>\n",
       "    <tr>\n",
       "      <th>volume_bucket</th>\n",
       "      <th></th>\n",
       "      <th></th>\n",
       "      <th></th>\n",
       "      <th></th>\n",
       "      <th></th>\n",
       "      <th></th>\n",
       "      <th></th>\n",
       "      <th></th>\n",
       "      <th></th>\n",
       "      <th></th>\n",
       "      <th></th>\n",
       "      <th></th>\n",
       "      <th></th>\n",
       "      <th></th>\n",
       "      <th></th>\n",
       "      <th></th>\n",
       "      <th></th>\n",
       "      <th></th>\n",
       "      <th></th>\n",
       "      <th></th>\n",
       "      <th></th>\n",
       "      <th></th>\n",
       "      <th></th>\n",
       "      <th></th>\n",
       "      <th></th>\n",
       "      <th></th>\n",
       "      <th></th>\n",
       "      <th></th>\n",
       "      <th></th>\n",
       "      <th></th>\n",
       "      <th></th>\n",
       "      <th></th>\n",
       "      <th></th>\n",
       "      <th></th>\n",
       "      <th></th>\n",
       "      <th></th>\n",
       "      <th></th>\n",
       "      <th></th>\n",
       "      <th></th>\n",
       "      <th></th>\n",
       "      <th></th>\n",
       "      <th></th>\n",
       "      <th></th>\n",
       "      <th></th>\n",
       "      <th></th>\n",
       "      <th></th>\n",
       "      <th></th>\n",
       "      <th></th>\n",
       "      <th></th>\n",
       "      <th></th>\n",
       "      <th></th>\n",
       "      <th></th>\n",
       "      <th></th>\n",
       "      <th></th>\n",
       "      <th></th>\n",
       "      <th></th>\n",
       "      <th></th>\n",
       "      <th></th>\n",
       "      <th></th>\n",
       "      <th></th>\n",
       "      <th></th>\n",
       "      <th></th>\n",
       "      <th></th>\n",
       "      <th></th>\n",
       "    </tr>\n",
       "  </thead>\n",
       "  <tbody>\n",
       "    <tr>\n",
       "      <th>1.0</th>\n",
       "      <td>7325</td>\n",
       "      <td>7325</td>\n",
       "      <td>4088</td>\n",
       "      <td>4153</td>\n",
       "      <td>2018-07-25 00:02:48</td>\n",
       "      <td>2018-07-25 00:03:49</td>\n",
       "      <td>2018-07-25 00:02:48</td>\n",
       "      <td>2018-07-25 00:03:49</td>\n",
       "      <td>BID</td>\n",
       "      <td>BID</td>\n",
       "      <td>BID</td>\n",
       "      <td>BID</td>\n",
       "      <td>105.734375</td>\n",
       "      <td>105.734375</td>\n",
       "      <td>105.734375</td>\n",
       "      <td>105.734375</td>\n",
       "      <td>2018-07-25 00:02:48</td>\n",
       "      <td>2018-07-25 00:03:49</td>\n",
       "      <td>2018-07-25 00:02:48</td>\n",
       "      <td>2018-07-25 00:03:49</td>\n",
       "      <td>8624.0</td>\n",
       "      <td>10947.0</td>\n",
       "      <td>8624.0</td>\n",
       "      <td>10947.0</td>\n",
       "      <td>105.742188</td>\n",
       "      <td>105.742188</td>\n",
       "      <td>105.742188</td>\n",
       "      <td>105.742188</td>\n",
       "      <td>3.0</td>\n",
       "      <td>3.0</td>\n",
       "      <td>3.0</td>\n",
       "      <td>3.0</td>\n",
       "      <td>105.742188</td>\n",
       "      <td>105.742188</td>\n",
       "      <td>105.742188</td>\n",
       "      <td>105.742188</td>\n",
       "      <td>00:02:48</td>\n",
       "      <td>00:03:49</td>\n",
       "      <td>00:02:48</td>\n",
       "      <td>00:03:49</td>\n",
       "      <td>3.0</td>\n",
       "      <td>3.0</td>\n",
       "      <td>3.0</td>\n",
       "      <td>3.0</td>\n",
       "      <td>3.0</td>\n",
       "      <td>3.0</td>\n",
       "      <td>3.0</td>\n",
       "      <td>3.0</td>\n",
       "      <td>168000</td>\n",
       "      <td>229000</td>\n",
       "      <td>168000</td>\n",
       "      <td>229000</td>\n",
       "      <td>317.226562</td>\n",
       "      <td>317.226562</td>\n",
       "      <td>317.226562</td>\n",
       "      <td>317.226562</td>\n",
       "      <td>2018-07-25 00:02:05</td>\n",
       "      <td>2018-07-25 00:03:45</td>\n",
       "      <td>2018-07-25 00:02:05</td>\n",
       "      <td>2018-07-25 00:03:45</td>\n",
       "      <td>105.738599</td>\n",
       "      <td>105.740039</td>\n",
       "      <td>105.738599</td>\n",
       "      <td>105.740039</td>\n",
       "    </tr>\n",
       "    <tr>\n",
       "      <th>2.0</th>\n",
       "      <td>4088</td>\n",
       "      <td>4175</td>\n",
       "      <td>3920</td>\n",
       "      <td>4105</td>\n",
       "      <td>2018-07-25 00:03:49</td>\n",
       "      <td>2018-07-25 00:12:40</td>\n",
       "      <td>2018-07-25 00:03:49</td>\n",
       "      <td>2018-07-25 00:12:40</td>\n",
       "      <td>BID</td>\n",
       "      <td>BID</td>\n",
       "      <td>BID</td>\n",
       "      <td>BID</td>\n",
       "      <td>105.734375</td>\n",
       "      <td>105.734375</td>\n",
       "      <td>105.734375</td>\n",
       "      <td>105.734375</td>\n",
       "      <td>2018-07-25 00:03:49</td>\n",
       "      <td>2018-07-25 00:12:40</td>\n",
       "      <td>2018-07-25 00:03:49</td>\n",
       "      <td>2018-07-25 00:12:40</td>\n",
       "      <td>10947.0</td>\n",
       "      <td>11141.0</td>\n",
       "      <td>10926.0</td>\n",
       "      <td>11105.0</td>\n",
       "      <td>105.742188</td>\n",
       "      <td>105.742188</td>\n",
       "      <td>105.742188</td>\n",
       "      <td>105.742188</td>\n",
       "      <td>3.0</td>\n",
       "      <td>3.0</td>\n",
       "      <td>3.0</td>\n",
       "      <td>3.0</td>\n",
       "      <td>105.742188</td>\n",
       "      <td>105.742188</td>\n",
       "      <td>105.742188</td>\n",
       "      <td>105.742188</td>\n",
       "      <td>00:03:49</td>\n",
       "      <td>00:12:40</td>\n",
       "      <td>00:03:49</td>\n",
       "      <td>00:12:40</td>\n",
       "      <td>3.0</td>\n",
       "      <td>3.0</td>\n",
       "      <td>3.0</td>\n",
       "      <td>3.0</td>\n",
       "      <td>3.0</td>\n",
       "      <td>3.0</td>\n",
       "      <td>3.0</td>\n",
       "      <td>3.0</td>\n",
       "      <td>229000</td>\n",
       "      <td>760000</td>\n",
       "      <td>229000</td>\n",
       "      <td>760000</td>\n",
       "      <td>317.226562</td>\n",
       "      <td>317.226562</td>\n",
       "      <td>317.226562</td>\n",
       "      <td>317.226562</td>\n",
       "      <td>2018-07-25 00:03:45</td>\n",
       "      <td>2018-07-25 00:12:40</td>\n",
       "      <td>2018-07-25 00:03:45</td>\n",
       "      <td>2018-07-25 00:12:40</td>\n",
       "      <td>105.740063</td>\n",
       "      <td>105.740154</td>\n",
       "      <td>105.740035</td>\n",
       "      <td>105.740079</td>\n",
       "    </tr>\n",
       "    <tr>\n",
       "      <th>3.0</th>\n",
       "      <td>4152</td>\n",
       "      <td>4152</td>\n",
       "      <td>3086</td>\n",
       "      <td>3544</td>\n",
       "      <td>2018-07-25 00:13:02</td>\n",
       "      <td>2018-07-25 00:13:25</td>\n",
       "      <td>2018-07-25 00:13:02</td>\n",
       "      <td>2018-07-25 00:13:25</td>\n",
       "      <td>BID</td>\n",
       "      <td>BID</td>\n",
       "      <td>BID</td>\n",
       "      <td>BID</td>\n",
       "      <td>105.734375</td>\n",
       "      <td>105.734375</td>\n",
       "      <td>105.734375</td>\n",
       "      <td>105.734375</td>\n",
       "      <td>2018-07-25 00:13:02</td>\n",
       "      <td>2018-07-25 00:13:25</td>\n",
       "      <td>2018-07-25 00:13:02</td>\n",
       "      <td>2018-07-25 00:13:25</td>\n",
       "      <td>11106.0</td>\n",
       "      <td>12140.0</td>\n",
       "      <td>11106.0</td>\n",
       "      <td>11119.0</td>\n",
       "      <td>105.742188</td>\n",
       "      <td>105.742188</td>\n",
       "      <td>105.742188</td>\n",
       "      <td>105.742188</td>\n",
       "      <td>3.0</td>\n",
       "      <td>3.0</td>\n",
       "      <td>2.0</td>\n",
       "      <td>2.0</td>\n",
       "      <td>105.742188</td>\n",
       "      <td>105.742188</td>\n",
       "      <td>105.734375</td>\n",
       "      <td>105.734375</td>\n",
       "      <td>00:13:02</td>\n",
       "      <td>00:13:25</td>\n",
       "      <td>00:13:02</td>\n",
       "      <td>00:13:25</td>\n",
       "      <td>3.0</td>\n",
       "      <td>3.0</td>\n",
       "      <td>2.0</td>\n",
       "      <td>2.0</td>\n",
       "      <td>3.0</td>\n",
       "      <td>3.0</td>\n",
       "      <td>2.0</td>\n",
       "      <td>2.0</td>\n",
       "      <td>782000</td>\n",
       "      <td>805000</td>\n",
       "      <td>782000</td>\n",
       "      <td>805000</td>\n",
       "      <td>317.226562</td>\n",
       "      <td>317.226562</td>\n",
       "      <td>211.468750</td>\n",
       "      <td>211.468750</td>\n",
       "      <td>2018-07-25 00:13:02</td>\n",
       "      <td>2018-07-25 00:13:25</td>\n",
       "      <td>2018-07-25 00:13:02</td>\n",
       "      <td>2018-07-25 00:13:25</td>\n",
       "      <td>105.740062</td>\n",
       "      <td>105.740604</td>\n",
       "      <td>105.740062</td>\n",
       "      <td>105.740299</td>\n",
       "    </tr>\n",
       "    <tr>\n",
       "      <th>4.0</th>\n",
       "      <td>3479</td>\n",
       "      <td>3625</td>\n",
       "      <td>3086</td>\n",
       "      <td>3210</td>\n",
       "      <td>2018-07-25 00:13:25</td>\n",
       "      <td>2018-07-25 00:13:28</td>\n",
       "      <td>2018-07-25 00:13:25</td>\n",
       "      <td>2018-07-25 00:13:28</td>\n",
       "      <td>BID</td>\n",
       "      <td>BID</td>\n",
       "      <td>BID</td>\n",
       "      <td>BID</td>\n",
       "      <td>105.734375</td>\n",
       "      <td>105.734375</td>\n",
       "      <td>105.734375</td>\n",
       "      <td>105.734375</td>\n",
       "      <td>2018-07-25 00:13:25</td>\n",
       "      <td>2018-07-25 00:13:28</td>\n",
       "      <td>2018-07-25 00:13:25</td>\n",
       "      <td>2018-07-25 00:13:28</td>\n",
       "      <td>11119.0</td>\n",
       "      <td>11352.0</td>\n",
       "      <td>11119.0</td>\n",
       "      <td>11352.0</td>\n",
       "      <td>105.742188</td>\n",
       "      <td>105.742188</td>\n",
       "      <td>105.742188</td>\n",
       "      <td>105.742188</td>\n",
       "      <td>2.0</td>\n",
       "      <td>2.0</td>\n",
       "      <td>2.0</td>\n",
       "      <td>2.0</td>\n",
       "      <td>105.734375</td>\n",
       "      <td>105.734375</td>\n",
       "      <td>105.734375</td>\n",
       "      <td>105.734375</td>\n",
       "      <td>00:13:25</td>\n",
       "      <td>00:13:28</td>\n",
       "      <td>00:13:25</td>\n",
       "      <td>00:13:28</td>\n",
       "      <td>2.0</td>\n",
       "      <td>2.0</td>\n",
       "      <td>2.0</td>\n",
       "      <td>2.0</td>\n",
       "      <td>2.0</td>\n",
       "      <td>2.0</td>\n",
       "      <td>2.0</td>\n",
       "      <td>2.0</td>\n",
       "      <td>805000</td>\n",
       "      <td>808000</td>\n",
       "      <td>805000</td>\n",
       "      <td>808000</td>\n",
       "      <td>211.468750</td>\n",
       "      <td>211.468750</td>\n",
       "      <td>211.468750</td>\n",
       "      <td>211.468750</td>\n",
       "      <td>2018-07-25 00:13:25</td>\n",
       "      <td>2018-07-25 00:13:28</td>\n",
       "      <td>2018-07-25 00:13:25</td>\n",
       "      <td>2018-07-25 00:13:28</td>\n",
       "      <td>105.740326</td>\n",
       "      <td>105.740518</td>\n",
       "      <td>105.740267</td>\n",
       "      <td>105.740465</td>\n",
       "    </tr>\n",
       "    <tr>\n",
       "      <th>5.0</th>\n",
       "      <td>3245</td>\n",
       "      <td>3308</td>\n",
       "      <td>3241</td>\n",
       "      <td>3277</td>\n",
       "      <td>2018-07-25 00:13:28</td>\n",
       "      <td>2018-07-25 00:13:55</td>\n",
       "      <td>2018-07-25 00:13:28</td>\n",
       "      <td>2018-07-25 00:13:55</td>\n",
       "      <td>BID</td>\n",
       "      <td>BID</td>\n",
       "      <td>BID</td>\n",
       "      <td>BID</td>\n",
       "      <td>105.734375</td>\n",
       "      <td>105.734375</td>\n",
       "      <td>105.734375</td>\n",
       "      <td>105.734375</td>\n",
       "      <td>2018-07-25 00:13:28</td>\n",
       "      <td>2018-07-25 00:13:55</td>\n",
       "      <td>2018-07-25 00:13:28</td>\n",
       "      <td>2018-07-25 00:13:55</td>\n",
       "      <td>11352.0</td>\n",
       "      <td>11420.0</td>\n",
       "      <td>11352.0</td>\n",
       "      <td>11420.0</td>\n",
       "      <td>105.742188</td>\n",
       "      <td>105.742188</td>\n",
       "      <td>105.742188</td>\n",
       "      <td>105.742188</td>\n",
       "      <td>2.0</td>\n",
       "      <td>2.0</td>\n",
       "      <td>2.0</td>\n",
       "      <td>2.0</td>\n",
       "      <td>105.734375</td>\n",
       "      <td>105.734375</td>\n",
       "      <td>105.734375</td>\n",
       "      <td>105.734375</td>\n",
       "      <td>00:13:28</td>\n",
       "      <td>00:13:55</td>\n",
       "      <td>00:13:28</td>\n",
       "      <td>00:13:55</td>\n",
       "      <td>2.0</td>\n",
       "      <td>2.0</td>\n",
       "      <td>2.0</td>\n",
       "      <td>2.0</td>\n",
       "      <td>2.0</td>\n",
       "      <td>2.0</td>\n",
       "      <td>2.0</td>\n",
       "      <td>2.0</td>\n",
       "      <td>808000</td>\n",
       "      <td>835000</td>\n",
       "      <td>808000</td>\n",
       "      <td>835000</td>\n",
       "      <td>211.468750</td>\n",
       "      <td>211.468750</td>\n",
       "      <td>211.468750</td>\n",
       "      <td>211.468750</td>\n",
       "      <td>2018-07-25 00:13:28</td>\n",
       "      <td>2018-07-25 00:13:55</td>\n",
       "      <td>2018-07-25 00:13:28</td>\n",
       "      <td>2018-07-25 00:13:55</td>\n",
       "      <td>105.740451</td>\n",
       "      <td>105.740452</td>\n",
       "      <td>105.740433</td>\n",
       "      <td>105.740446</td>\n",
       "    </tr>\n",
       "    <tr>\n",
       "      <th>...</th>\n",
       "      <td>...</td>\n",
       "      <td>...</td>\n",
       "      <td>...</td>\n",
       "      <td>...</td>\n",
       "      <td>...</td>\n",
       "      <td>...</td>\n",
       "      <td>...</td>\n",
       "      <td>...</td>\n",
       "      <td>...</td>\n",
       "      <td>...</td>\n",
       "      <td>...</td>\n",
       "      <td>...</td>\n",
       "      <td>...</td>\n",
       "      <td>...</td>\n",
       "      <td>...</td>\n",
       "      <td>...</td>\n",
       "      <td>...</td>\n",
       "      <td>...</td>\n",
       "      <td>...</td>\n",
       "      <td>...</td>\n",
       "      <td>...</td>\n",
       "      <td>...</td>\n",
       "      <td>...</td>\n",
       "      <td>...</td>\n",
       "      <td>...</td>\n",
       "      <td>...</td>\n",
       "      <td>...</td>\n",
       "      <td>...</td>\n",
       "      <td>...</td>\n",
       "      <td>...</td>\n",
       "      <td>...</td>\n",
       "      <td>...</td>\n",
       "      <td>...</td>\n",
       "      <td>...</td>\n",
       "      <td>...</td>\n",
       "      <td>...</td>\n",
       "      <td>...</td>\n",
       "      <td>...</td>\n",
       "      <td>...</td>\n",
       "      <td>...</td>\n",
       "      <td>...</td>\n",
       "      <td>...</td>\n",
       "      <td>...</td>\n",
       "      <td>...</td>\n",
       "      <td>...</td>\n",
       "      <td>...</td>\n",
       "      <td>...</td>\n",
       "      <td>...</td>\n",
       "      <td>...</td>\n",
       "      <td>...</td>\n",
       "      <td>...</td>\n",
       "      <td>...</td>\n",
       "      <td>...</td>\n",
       "      <td>...</td>\n",
       "      <td>...</td>\n",
       "      <td>...</td>\n",
       "      <td>...</td>\n",
       "      <td>...</td>\n",
       "      <td>...</td>\n",
       "      <td>...</td>\n",
       "      <td>...</td>\n",
       "      <td>...</td>\n",
       "      <td>...</td>\n",
       "      <td>...</td>\n",
       "    </tr>\n",
       "    <tr>\n",
       "      <th>67900.0</th>\n",
       "      <td>1106</td>\n",
       "      <td>2088</td>\n",
       "      <td>900</td>\n",
       "      <td>1430</td>\n",
       "      <td>2018-07-25 23:43:44</td>\n",
       "      <td>2018-07-25 23:53:14</td>\n",
       "      <td>2018-07-25 23:43:44</td>\n",
       "      <td>2018-07-25 23:53:14</td>\n",
       "      <td>BID</td>\n",
       "      <td>BID</td>\n",
       "      <td>BID</td>\n",
       "      <td>BID</td>\n",
       "      <td>105.679688</td>\n",
       "      <td>105.679688</td>\n",
       "      <td>105.679688</td>\n",
       "      <td>105.679688</td>\n",
       "      <td>2018-07-25 23:43:44</td>\n",
       "      <td>2018-07-25 23:53:14</td>\n",
       "      <td>2018-07-25 23:43:44</td>\n",
       "      <td>2018-07-25 23:53:14</td>\n",
       "      <td>2381.0</td>\n",
       "      <td>3255.0</td>\n",
       "      <td>2370.0</td>\n",
       "      <td>2537.0</td>\n",
       "      <td>105.687500</td>\n",
       "      <td>105.687500</td>\n",
       "      <td>105.687500</td>\n",
       "      <td>105.687500</td>\n",
       "      <td>1.0</td>\n",
       "      <td>1.0</td>\n",
       "      <td>1.0</td>\n",
       "      <td>1.0</td>\n",
       "      <td>105.687500</td>\n",
       "      <td>105.687500</td>\n",
       "      <td>105.687500</td>\n",
       "      <td>105.687500</td>\n",
       "      <td>23:43:44</td>\n",
       "      <td>23:53:14</td>\n",
       "      <td>23:43:44</td>\n",
       "      <td>23:53:14</td>\n",
       "      <td>1.0</td>\n",
       "      <td>1.0</td>\n",
       "      <td>1.0</td>\n",
       "      <td>1.0</td>\n",
       "      <td>1.0</td>\n",
       "      <td>1.0</td>\n",
       "      <td>1.0</td>\n",
       "      <td>1.0</td>\n",
       "      <td>85424000</td>\n",
       "      <td>85994000</td>\n",
       "      <td>85424000</td>\n",
       "      <td>85994000</td>\n",
       "      <td>105.687500</td>\n",
       "      <td>105.687500</td>\n",
       "      <td>105.687500</td>\n",
       "      <td>105.687500</td>\n",
       "      <td>2018-07-25 23:43:44</td>\n",
       "      <td>2018-07-25 23:51:55</td>\n",
       "      <td>2018-07-25 23:43:44</td>\n",
       "      <td>2018-07-25 23:51:55</td>\n",
       "      <td>105.685022</td>\n",
       "      <td>105.685710</td>\n",
       "      <td>105.684304</td>\n",
       "      <td>105.684684</td>\n",
       "    </tr>\n",
       "    <tr>\n",
       "      <th>67901.0</th>\n",
       "      <td>1628</td>\n",
       "      <td>1628</td>\n",
       "      <td>1628</td>\n",
       "      <td>1628</td>\n",
       "      <td>2018-07-25 23:54:32</td>\n",
       "      <td>2018-07-25 23:54:32</td>\n",
       "      <td>2018-07-25 23:54:32</td>\n",
       "      <td>2018-07-25 23:54:32</td>\n",
       "      <td>BID</td>\n",
       "      <td>BID</td>\n",
       "      <td>BID</td>\n",
       "      <td>BID</td>\n",
       "      <td>105.679688</td>\n",
       "      <td>105.679688</td>\n",
       "      <td>105.679688</td>\n",
       "      <td>105.679688</td>\n",
       "      <td>2018-07-25 23:54:32</td>\n",
       "      <td>2018-07-25 23:54:32</td>\n",
       "      <td>2018-07-25 23:54:32</td>\n",
       "      <td>2018-07-25 23:54:32</td>\n",
       "      <td>2437.0</td>\n",
       "      <td>2437.0</td>\n",
       "      <td>2437.0</td>\n",
       "      <td>2437.0</td>\n",
       "      <td>105.687500</td>\n",
       "      <td>105.687500</td>\n",
       "      <td>105.687500</td>\n",
       "      <td>105.687500</td>\n",
       "      <td>100.0</td>\n",
       "      <td>100.0</td>\n",
       "      <td>100.0</td>\n",
       "      <td>100.0</td>\n",
       "      <td>105.687500</td>\n",
       "      <td>105.687500</td>\n",
       "      <td>105.687500</td>\n",
       "      <td>105.687500</td>\n",
       "      <td>23:54:32</td>\n",
       "      <td>23:54:32</td>\n",
       "      <td>23:54:32</td>\n",
       "      <td>23:54:32</td>\n",
       "      <td>100.0</td>\n",
       "      <td>100.0</td>\n",
       "      <td>100.0</td>\n",
       "      <td>100.0</td>\n",
       "      <td>100.0</td>\n",
       "      <td>100.0</td>\n",
       "      <td>100.0</td>\n",
       "      <td>100.0</td>\n",
       "      <td>86072000</td>\n",
       "      <td>86072000</td>\n",
       "      <td>86072000</td>\n",
       "      <td>86072000</td>\n",
       "      <td>10568.750000</td>\n",
       "      <td>10568.750000</td>\n",
       "      <td>10568.750000</td>\n",
       "      <td>10568.750000</td>\n",
       "      <td>2018-07-25 23:54:32</td>\n",
       "      <td>2018-07-25 23:54:32</td>\n",
       "      <td>2018-07-25 23:54:32</td>\n",
       "      <td>2018-07-25 23:54:32</td>\n",
       "      <td>105.684371</td>\n",
       "      <td>105.684371</td>\n",
       "      <td>105.684371</td>\n",
       "      <td>105.684371</td>\n",
       "    </tr>\n",
       "    <tr>\n",
       "      <th>67902.0</th>\n",
       "      <td>1629</td>\n",
       "      <td>1654</td>\n",
       "      <td>917</td>\n",
       "      <td>1246</td>\n",
       "      <td>2018-07-25 23:54:32</td>\n",
       "      <td>2018-07-25 23:55:58</td>\n",
       "      <td>2018-07-25 23:54:32</td>\n",
       "      <td>2018-07-25 23:55:58</td>\n",
       "      <td>BID</td>\n",
       "      <td>BID</td>\n",
       "      <td>BID</td>\n",
       "      <td>BID</td>\n",
       "      <td>105.679688</td>\n",
       "      <td>105.679688</td>\n",
       "      <td>105.679688</td>\n",
       "      <td>105.679688</td>\n",
       "      <td>2018-07-25 23:54:32</td>\n",
       "      <td>2018-07-25 23:55:58</td>\n",
       "      <td>2018-07-25 23:54:32</td>\n",
       "      <td>2018-07-25 23:55:58</td>\n",
       "      <td>2437.0</td>\n",
       "      <td>2447.0</td>\n",
       "      <td>2419.0</td>\n",
       "      <td>2419.0</td>\n",
       "      <td>105.687500</td>\n",
       "      <td>105.687500</td>\n",
       "      <td>105.687500</td>\n",
       "      <td>105.687500</td>\n",
       "      <td>100.0</td>\n",
       "      <td>100.0</td>\n",
       "      <td>1.0</td>\n",
       "      <td>2.0</td>\n",
       "      <td>105.687500</td>\n",
       "      <td>105.687500</td>\n",
       "      <td>105.679688</td>\n",
       "      <td>105.679688</td>\n",
       "      <td>23:54:32</td>\n",
       "      <td>23:55:58</td>\n",
       "      <td>23:54:32</td>\n",
       "      <td>23:55:58</td>\n",
       "      <td>100.0</td>\n",
       "      <td>100.0</td>\n",
       "      <td>1.0</td>\n",
       "      <td>2.0</td>\n",
       "      <td>100.0</td>\n",
       "      <td>100.0</td>\n",
       "      <td>1.0</td>\n",
       "      <td>2.0</td>\n",
       "      <td>86072000</td>\n",
       "      <td>86158000</td>\n",
       "      <td>86072000</td>\n",
       "      <td>86158000</td>\n",
       "      <td>10568.750000</td>\n",
       "      <td>10568.750000</td>\n",
       "      <td>105.687500</td>\n",
       "      <td>211.359375</td>\n",
       "      <td>2018-07-25 23:54:32</td>\n",
       "      <td>2018-07-25 23:55:58</td>\n",
       "      <td>2018-07-25 23:54:32</td>\n",
       "      <td>2018-07-25 23:55:58</td>\n",
       "      <td>105.684370</td>\n",
       "      <td>105.685352</td>\n",
       "      <td>105.684342</td>\n",
       "      <td>105.684844</td>\n",
       "    </tr>\n",
       "    <tr>\n",
       "      <th>67903.0</th>\n",
       "      <td>1176</td>\n",
       "      <td>1311</td>\n",
       "      <td>892</td>\n",
       "      <td>923</td>\n",
       "      <td>2018-07-25 23:55:58</td>\n",
       "      <td>2018-07-25 23:59:17</td>\n",
       "      <td>2018-07-25 23:55:58</td>\n",
       "      <td>2018-07-25 23:59:17</td>\n",
       "      <td>BID</td>\n",
       "      <td>BID</td>\n",
       "      <td>BID</td>\n",
       "      <td>BID</td>\n",
       "      <td>105.679688</td>\n",
       "      <td>105.679688</td>\n",
       "      <td>105.679688</td>\n",
       "      <td>105.679688</td>\n",
       "      <td>2018-07-25 23:55:58</td>\n",
       "      <td>2018-07-25 23:59:17</td>\n",
       "      <td>2018-07-25 23:55:58</td>\n",
       "      <td>2018-07-25 23:59:17</td>\n",
       "      <td>2419.0</td>\n",
       "      <td>5125.0</td>\n",
       "      <td>2419.0</td>\n",
       "      <td>5125.0</td>\n",
       "      <td>105.687500</td>\n",
       "      <td>105.687500</td>\n",
       "      <td>105.687500</td>\n",
       "      <td>105.687500</td>\n",
       "      <td>2.0</td>\n",
       "      <td>8.0</td>\n",
       "      <td>1.0</td>\n",
       "      <td>8.0</td>\n",
       "      <td>105.679688</td>\n",
       "      <td>105.679688</td>\n",
       "      <td>105.679688</td>\n",
       "      <td>105.679688</td>\n",
       "      <td>23:55:58</td>\n",
       "      <td>23:59:17</td>\n",
       "      <td>23:55:58</td>\n",
       "      <td>23:59:17</td>\n",
       "      <td>2.0</td>\n",
       "      <td>8.0</td>\n",
       "      <td>1.0</td>\n",
       "      <td>8.0</td>\n",
       "      <td>2.0</td>\n",
       "      <td>8.0</td>\n",
       "      <td>1.0</td>\n",
       "      <td>8.0</td>\n",
       "      <td>86158000</td>\n",
       "      <td>86357000</td>\n",
       "      <td>86158000</td>\n",
       "      <td>86357000</td>\n",
       "      <td>211.359375</td>\n",
       "      <td>845.437500</td>\n",
       "      <td>105.679688</td>\n",
       "      <td>845.437500</td>\n",
       "      <td>2018-07-25 23:55:58</td>\n",
       "      <td>2018-07-25 23:59:17</td>\n",
       "      <td>2018-07-25 23:55:58</td>\n",
       "      <td>2018-07-25 23:59:17</td>\n",
       "      <td>105.684944</td>\n",
       "      <td>105.686308</td>\n",
       "      <td>105.684754</td>\n",
       "      <td>105.686308</td>\n",
       "    </tr>\n",
       "    <tr>\n",
       "      <th>67904.0</th>\n",
       "      <td>902</td>\n",
       "      <td>1098</td>\n",
       "      <td>902</td>\n",
       "      <td>1054</td>\n",
       "      <td>2018-07-25 23:59:17</td>\n",
       "      <td>2018-07-25 23:59:47</td>\n",
       "      <td>2018-07-25 23:59:17</td>\n",
       "      <td>2018-07-25 23:59:47</td>\n",
       "      <td>BID</td>\n",
       "      <td>BID</td>\n",
       "      <td>BID</td>\n",
       "      <td>BID</td>\n",
       "      <td>105.679688</td>\n",
       "      <td>105.679688</td>\n",
       "      <td>105.679688</td>\n",
       "      <td>105.679688</td>\n",
       "      <td>2018-07-25 23:59:17</td>\n",
       "      <td>2018-07-25 23:59:47</td>\n",
       "      <td>2018-07-25 23:59:17</td>\n",
       "      <td>2018-07-25 23:59:47</td>\n",
       "      <td>5125.0</td>\n",
       "      <td>5158.0</td>\n",
       "      <td>5020.0</td>\n",
       "      <td>5020.0</td>\n",
       "      <td>105.687500</td>\n",
       "      <td>105.687500</td>\n",
       "      <td>105.687500</td>\n",
       "      <td>105.687500</td>\n",
       "      <td>8.0</td>\n",
       "      <td>8.0</td>\n",
       "      <td>8.0</td>\n",
       "      <td>8.0</td>\n",
       "      <td>105.679688</td>\n",
       "      <td>105.679688</td>\n",
       "      <td>105.679688</td>\n",
       "      <td>105.679688</td>\n",
       "      <td>23:59:17</td>\n",
       "      <td>23:59:47</td>\n",
       "      <td>23:59:17</td>\n",
       "      <td>23:59:47</td>\n",
       "      <td>8.0</td>\n",
       "      <td>8.0</td>\n",
       "      <td>8.0</td>\n",
       "      <td>8.0</td>\n",
       "      <td>8.0</td>\n",
       "      <td>8.0</td>\n",
       "      <td>8.0</td>\n",
       "      <td>8.0</td>\n",
       "      <td>86357000</td>\n",
       "      <td>86387000</td>\n",
       "      <td>86357000</td>\n",
       "      <td>86387000</td>\n",
       "      <td>845.437500</td>\n",
       "      <td>845.437500</td>\n",
       "      <td>845.437500</td>\n",
       "      <td>845.437500</td>\n",
       "      <td>2018-07-25 23:59:17</td>\n",
       "      <td>2018-07-25 23:59:47</td>\n",
       "      <td>2018-07-25 23:59:17</td>\n",
       "      <td>2018-07-25 23:59:47</td>\n",
       "      <td>105.686331</td>\n",
       "      <td>105.686337</td>\n",
       "      <td>105.686098</td>\n",
       "      <td>105.686144</td>\n",
       "    </tr>\n",
       "  </tbody>\n",
       "</table>\n",
       "<p>48696 rows × 64 columns</p>\n",
       "</div>"
      ],
      "text/plain": [
       "               BidSize_open  BidSize_high  BidSize_low  BidSize_close       QuoteTime_open       QuoteTime_high        QuoteTime_low      QuoteTime_close type_x_open type_x_high type_x_low type_x_close  BestBid_open  BestBid_high  BestBid_low  BestBid_close      TradeTime_open      TradeTime_high       TradeTime_low     TradeTime_close  AskSize_open  AskSize_high  AskSize_low  AskSize_close  BestAsk_open  BestAsk_high  BestAsk_low  BestAsk_close  TradeSize_open  TradeSize_high  TradeSize_low  TradeSize_close  TradePrice_open  TradePrice_high  TradePrice_low  TradePrice_close TimeStamp_open TimeStamp_high TimeStamp_low TimeStamp_close  TradeVolume_open  TradeVolume_high  TradeVolume_low  TradeVolume_close  total_traded_volume_open  total_traded_volume_high  total_traded_volume_low  total_traded_volume_close  milliSeconds_open  milliSeconds_high  milliSeconds_low  milliSeconds_close  dollar_traded_volume_open  dollar_traded_volume_high  dollar_traded_volume_low  \\\n",
       "volume_bucket                                                                                                                                                                                                                                                                                                                                                                                                                                                                                                                                                                                                                                                                                                                                                                                                                                                                                                                                                                                                   \n",
       "1.0                    7325          7325         4088           4153  2018-07-25 00:02:48  2018-07-25 00:03:49  2018-07-25 00:02:48  2018-07-25 00:03:49         BID         BID        BID          BID    105.734375    105.734375   105.734375     105.734375 2018-07-25 00:02:48 2018-07-25 00:03:49 2018-07-25 00:02:48 2018-07-25 00:03:49        8624.0       10947.0       8624.0        10947.0    105.742188    105.742188   105.742188     105.742188             3.0             3.0            3.0              3.0       105.742188       105.742188      105.742188        105.742188       00:02:48       00:03:49      00:02:48        00:03:49               3.0               3.0              3.0                3.0                       3.0                       3.0                      3.0                        3.0             168000             229000            168000              229000                 317.226562                 317.226562                317.226562   \n",
       "2.0                    4088          4175         3920           4105  2018-07-25 00:03:49  2018-07-25 00:12:40  2018-07-25 00:03:49  2018-07-25 00:12:40         BID         BID        BID          BID    105.734375    105.734375   105.734375     105.734375 2018-07-25 00:03:49 2018-07-25 00:12:40 2018-07-25 00:03:49 2018-07-25 00:12:40       10947.0       11141.0      10926.0        11105.0    105.742188    105.742188   105.742188     105.742188             3.0             3.0            3.0              3.0       105.742188       105.742188      105.742188        105.742188       00:03:49       00:12:40      00:03:49        00:12:40               3.0               3.0              3.0                3.0                       3.0                       3.0                      3.0                        3.0             229000             760000            229000              760000                 317.226562                 317.226562                317.226562   \n",
       "3.0                    4152          4152         3086           3544  2018-07-25 00:13:02  2018-07-25 00:13:25  2018-07-25 00:13:02  2018-07-25 00:13:25         BID         BID        BID          BID    105.734375    105.734375   105.734375     105.734375 2018-07-25 00:13:02 2018-07-25 00:13:25 2018-07-25 00:13:02 2018-07-25 00:13:25       11106.0       12140.0      11106.0        11119.0    105.742188    105.742188   105.742188     105.742188             3.0             3.0            2.0              2.0       105.742188       105.742188      105.734375        105.734375       00:13:02       00:13:25      00:13:02        00:13:25               3.0               3.0              2.0                2.0                       3.0                       3.0                      2.0                        2.0             782000             805000            782000              805000                 317.226562                 317.226562                211.468750   \n",
       "4.0                    3479          3625         3086           3210  2018-07-25 00:13:25  2018-07-25 00:13:28  2018-07-25 00:13:25  2018-07-25 00:13:28         BID         BID        BID          BID    105.734375    105.734375   105.734375     105.734375 2018-07-25 00:13:25 2018-07-25 00:13:28 2018-07-25 00:13:25 2018-07-25 00:13:28       11119.0       11352.0      11119.0        11352.0    105.742188    105.742188   105.742188     105.742188             2.0             2.0            2.0              2.0       105.734375       105.734375      105.734375        105.734375       00:13:25       00:13:28      00:13:25        00:13:28               2.0               2.0              2.0                2.0                       2.0                       2.0                      2.0                        2.0             805000             808000            805000              808000                 211.468750                 211.468750                211.468750   \n",
       "5.0                    3245          3308         3241           3277  2018-07-25 00:13:28  2018-07-25 00:13:55  2018-07-25 00:13:28  2018-07-25 00:13:55         BID         BID        BID          BID    105.734375    105.734375   105.734375     105.734375 2018-07-25 00:13:28 2018-07-25 00:13:55 2018-07-25 00:13:28 2018-07-25 00:13:55       11352.0       11420.0      11352.0        11420.0    105.742188    105.742188   105.742188     105.742188             2.0             2.0            2.0              2.0       105.734375       105.734375      105.734375        105.734375       00:13:28       00:13:55      00:13:28        00:13:55               2.0               2.0              2.0                2.0                       2.0                       2.0                      2.0                        2.0             808000             835000            808000              835000                 211.468750                 211.468750                211.468750   \n",
       "...                     ...           ...          ...            ...                  ...                  ...                  ...                  ...         ...         ...        ...          ...           ...           ...          ...            ...                 ...                 ...                 ...                 ...           ...           ...          ...            ...           ...           ...          ...            ...             ...             ...            ...              ...              ...              ...             ...               ...            ...            ...           ...             ...               ...               ...              ...                ...                       ...                       ...                      ...                        ...                ...                ...               ...                 ...                        ...                        ...                       ...   \n",
       "67900.0                1106          2088          900           1430  2018-07-25 23:43:44  2018-07-25 23:53:14  2018-07-25 23:43:44  2018-07-25 23:53:14         BID         BID        BID          BID    105.679688    105.679688   105.679688     105.679688 2018-07-25 23:43:44 2018-07-25 23:53:14 2018-07-25 23:43:44 2018-07-25 23:53:14        2381.0        3255.0       2370.0         2537.0    105.687500    105.687500   105.687500     105.687500             1.0             1.0            1.0              1.0       105.687500       105.687500      105.687500        105.687500       23:43:44       23:53:14      23:43:44        23:53:14               1.0               1.0              1.0                1.0                       1.0                       1.0                      1.0                        1.0           85424000           85994000          85424000            85994000                 105.687500                 105.687500                105.687500   \n",
       "67901.0                1628          1628         1628           1628  2018-07-25 23:54:32  2018-07-25 23:54:32  2018-07-25 23:54:32  2018-07-25 23:54:32         BID         BID        BID          BID    105.679688    105.679688   105.679688     105.679688 2018-07-25 23:54:32 2018-07-25 23:54:32 2018-07-25 23:54:32 2018-07-25 23:54:32        2437.0        2437.0       2437.0         2437.0    105.687500    105.687500   105.687500     105.687500           100.0           100.0          100.0            100.0       105.687500       105.687500      105.687500        105.687500       23:54:32       23:54:32      23:54:32        23:54:32             100.0             100.0            100.0              100.0                     100.0                     100.0                    100.0                      100.0           86072000           86072000          86072000            86072000               10568.750000               10568.750000              10568.750000   \n",
       "67902.0                1629          1654          917           1246  2018-07-25 23:54:32  2018-07-25 23:55:58  2018-07-25 23:54:32  2018-07-25 23:55:58         BID         BID        BID          BID    105.679688    105.679688   105.679688     105.679688 2018-07-25 23:54:32 2018-07-25 23:55:58 2018-07-25 23:54:32 2018-07-25 23:55:58        2437.0        2447.0       2419.0         2419.0    105.687500    105.687500   105.687500     105.687500           100.0           100.0            1.0              2.0       105.687500       105.687500      105.679688        105.679688       23:54:32       23:55:58      23:54:32        23:55:58             100.0             100.0              1.0                2.0                     100.0                     100.0                      1.0                        2.0           86072000           86158000          86072000            86158000               10568.750000               10568.750000                105.687500   \n",
       "67903.0                1176          1311          892            923  2018-07-25 23:55:58  2018-07-25 23:59:17  2018-07-25 23:55:58  2018-07-25 23:59:17         BID         BID        BID          BID    105.679688    105.679688   105.679688     105.679688 2018-07-25 23:55:58 2018-07-25 23:59:17 2018-07-25 23:55:58 2018-07-25 23:59:17        2419.0        5125.0       2419.0         5125.0    105.687500    105.687500   105.687500     105.687500             2.0             8.0            1.0              8.0       105.679688       105.679688      105.679688        105.679688       23:55:58       23:59:17      23:55:58        23:59:17               2.0               8.0              1.0                8.0                       2.0                       8.0                      1.0                        8.0           86158000           86357000          86158000            86357000                 211.359375                 845.437500                105.679688   \n",
       "67904.0                 902          1098          902           1054  2018-07-25 23:59:17  2018-07-25 23:59:47  2018-07-25 23:59:17  2018-07-25 23:59:47         BID         BID        BID          BID    105.679688    105.679688   105.679688     105.679688 2018-07-25 23:59:17 2018-07-25 23:59:47 2018-07-25 23:59:17 2018-07-25 23:59:47        5125.0        5158.0       5020.0         5020.0    105.687500    105.687500   105.687500     105.687500             8.0             8.0            8.0              8.0       105.679688       105.679688      105.679688        105.679688       23:59:17       23:59:47      23:59:17        23:59:47               8.0               8.0              8.0                8.0                       8.0                       8.0                      8.0                        8.0           86357000           86387000          86357000            86387000                 845.437500                 845.437500                845.437500   \n",
       "\n",
       "               dollar_traded_volume_close   timeStampIdx_open   timeStampIdx_high    timeStampIdx_low  timeStampIdx_close  micro_price_open  micro_price_high  micro_price_low  micro_price_close  \n",
       "volume_bucket                                                                                                                                                                                      \n",
       "1.0                            317.226562 2018-07-25 00:02:05 2018-07-25 00:03:45 2018-07-25 00:02:05 2018-07-25 00:03:45        105.738599        105.740039       105.738599         105.740039  \n",
       "2.0                            317.226562 2018-07-25 00:03:45 2018-07-25 00:12:40 2018-07-25 00:03:45 2018-07-25 00:12:40        105.740063        105.740154       105.740035         105.740079  \n",
       "3.0                            211.468750 2018-07-25 00:13:02 2018-07-25 00:13:25 2018-07-25 00:13:02 2018-07-25 00:13:25        105.740062        105.740604       105.740062         105.740299  \n",
       "4.0                            211.468750 2018-07-25 00:13:25 2018-07-25 00:13:28 2018-07-25 00:13:25 2018-07-25 00:13:28        105.740326        105.740518       105.740267         105.740465  \n",
       "5.0                            211.468750 2018-07-25 00:13:28 2018-07-25 00:13:55 2018-07-25 00:13:28 2018-07-25 00:13:55        105.740451        105.740452       105.740433         105.740446  \n",
       "...                                   ...                 ...                 ...                 ...                 ...               ...               ...              ...                ...  \n",
       "67900.0                        105.687500 2018-07-25 23:43:44 2018-07-25 23:51:55 2018-07-25 23:43:44 2018-07-25 23:51:55        105.685022        105.685710       105.684304         105.684684  \n",
       "67901.0                      10568.750000 2018-07-25 23:54:32 2018-07-25 23:54:32 2018-07-25 23:54:32 2018-07-25 23:54:32        105.684371        105.684371       105.684371         105.684371  \n",
       "67902.0                        211.359375 2018-07-25 23:54:32 2018-07-25 23:55:58 2018-07-25 23:54:32 2018-07-25 23:55:58        105.684370        105.685352       105.684342         105.684844  \n",
       "67903.0                        845.437500 2018-07-25 23:55:58 2018-07-25 23:59:17 2018-07-25 23:55:58 2018-07-25 23:59:17        105.684944        105.686308       105.684754         105.686308  \n",
       "67904.0                        845.437500 2018-07-25 23:59:17 2018-07-25 23:59:47 2018-07-25 23:59:17 2018-07-25 23:59:47        105.686331        105.686337       105.686098         105.686144  \n",
       "\n",
       "[48696 rows x 64 columns]"
      ]
     },
     "execution_count": 19,
     "metadata": {},
     "output_type": "execute_result"
    }
   ],
   "source": [
    "volume_bar_df"
   ]
  },
  {
   "cell_type": "code",
   "execution_count": 18,
   "id": "d4eb5aee",
   "metadata": {},
   "outputs": [],
   "source": [
    "\n",
    "\n",
    "# # with Pool(number_of_workers) as p:\n",
    "# with Pool(number_of_workers) as p:\n",
    "#     print(p.map(produce_info_clock_files, intersectionDates))\n"
   ]
  },
  {
   "cell_type": "code",
   "execution_count": null,
   "id": "2d8bf4a5",
   "metadata": {},
   "outputs": [],
   "source": []
  }
 ],
 "metadata": {
  "kernelspec": {
   "display_name": "Python 3",
   "language": "python",
   "name": "python3"
  },
  "language_info": {
   "codemirror_mode": {
    "name": "ipython",
    "version": 3
   },
   "file_extension": ".py",
   "mimetype": "text/x-python",
   "name": "python",
   "nbconvert_exporter": "python",
   "pygments_lexer": "ipython3",
   "version": "3.7.7"
  }
 },
 "nbformat": 4,
 "nbformat_minor": 5
}
