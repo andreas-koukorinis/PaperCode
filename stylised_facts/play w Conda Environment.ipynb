{
 "cells": [
  {
   "cell_type": "code",
   "execution_count": 9,
   "metadata": {},
   "outputs": [],
   "source": [
    "%matplotlib inline\n",
    "# import all shogun classes\n",
    "from shogun import *\n",
    "import matplotlib.pyplot as plt\n",
    "import numpy as np\n",
    "from sklearn import linear_model\n",
    "import time\n",
    "import os\n",
    "import pandas as pd"
   ]
  },
  {
   "cell_type": "code",
   "execution_count": 10,
   "metadata": {},
   "outputs": [],
   "source": [
    "import stylised_facts_data_utilities.createLOB as createLOB"
   ]
  },
  {
   "cell_type": "code",
   "execution_count": 11,
   "metadata": {},
   "outputs": [],
   "source": [
    "# slope= 4.7\n",
    "\n",
    "# x_train = np.random.rand(100)*10\n",
    "# y_train = slope*(x_train)+np.random.randn(100)*5+2\n",
    "# y_true = slope*(x_train)+2\n",
    "# x_test = np.linspace(0,10, 40)\n",
    "# y_test = slope*(x_test)+2\n",
    "\n",
    "# shogun_x_train = RealFeatures(x_train.reshape(1,len(x_train)))\n",
    "# shogun_x_test = RealFeatures(x_test.reshape(1,len(x_test)))"
   ]
  },
  {
   "cell_type": "code",
   "execution_count": 14,
   "metadata": {},
   "outputs": [
    {
     "name": "stdout",
     "output_type": "stream",
     "text": [
      "Pick the 2 symbol to play with\n",
      "Symbol Location: /media/ak/My Passport1/MarketData/ETF_Levels/EWJ\n",
      "Picked the following ETF:  EWJ\n"
     ]
    }
   ],
   "source": [
    "etfDir = '/media/ak/My Passport1/MarketData/ETF_Levels/'\n",
    "etfSymbols = sorted(os.listdir(etfDir))\n",
    "etfIdx=2 #index for etf file\n",
    "print('Pick the', etfIdx, 'symbol to play with')\n",
    "### combine symbol index with etfDir to get all the location\n",
    "etfSymbolFiles = os.path.join(etfDir, etfSymbols[etfIdx])\n",
    "\n",
    "print('Symbol Location:', etfSymbolFiles)\n",
    "## and make a list of all the dates\n",
    "listETFSymbolFiles = os.listdir(etfSymbolFiles)\n",
    "\n",
    "print('Picked the following ETF: ',etfSymbols[etfIdx])"
   ]
  },
  {
   "cell_type": "code",
   "execution_count": 15,
   "metadata": {},
   "outputs": [
    {
     "name": "stdout",
     "output_type": "stream",
     "text": [
      "Symbol Location: /media/ak/My Passport1/MarketData/ETF_Levels/EEM\n",
      "Picked the following ETF:  EEM\n",
      "Symbol Location: /media/ak/My Passport1/MarketData/ETF_Levels/EFA\n",
      "Picked the following ETF:  EFA\n",
      "Symbol Location: /media/ak/My Passport1/MarketData/ETF_Levels/EWJ\n",
      "Picked the following ETF:  EWJ\n",
      "Symbol Location: /media/ak/My Passport1/MarketData/ETF_Levels/FXI\n",
      "Picked the following ETF:  FXI\n",
      "Symbol Location: /media/ak/My Passport1/MarketData/ETF_Levels/GDX\n",
      "Picked the following ETF:  GDX\n"
     ]
    }
   ],
   "source": [
    "## ETF 1\n",
    "for etfIdx in range(0,5):\n",
    "    etfSymbolFiles = os.path.join(etfDir, etfSymbols[etfIdx])\n",
    "\n",
    "    print('Symbol Location:', etfSymbolFiles)\n",
    "    ## and make a list of all the dates\n",
    "    listETFSymbolFiles = os.listdir(etfSymbolFiles)\n",
    "\n",
    "    print('Picked the following ETF: ',etfSymbols[etfIdx])\n",
    "    "
   ]
  },
  {
   "cell_type": "code",
   "execution_count": 11,
   "metadata": {},
   "outputs": [],
   "source": [
    "for etf in etfSymbols:\n",
    "    with open('{}.csv'.format(etf), 'a') as f_output:\n",
    "        print('Picked the following ETF', file=f_output) "
   ]
  },
  {
   "cell_type": "code",
   "execution_count": 7,
   "metadata": {},
   "outputs": [],
   "source": [
    "combinedETFfiles_A = dict() # combine all the files for a single ETF\n",
    "# combinedETFfiles_B = dict() # combine all the files for a single ETF\n",
    "\n",
    "\n",
    "for fileIdx, _ in enumerate(os.listdir(etfSymbolFiles)):\n",
    "    '''\n",
    "    go through all the dates for the symbol choice above and create a location for each \n",
    "    etf symbol+ date csv and read it into a pandas dataframe then store it\n",
    "    \n",
    "    '''\n",
    "    etfFileDate = os.listdir(etfSymbolFiles)[fileIdx]\n",
    "    fileLoc = os.path.join(etfSymbolFiles, os.listdir(etfSymbolFiles)[fileIdx])\n",
    "    combinedETFfiles_A[etfFileDate.split('.')[0]] = pd.read_csv(fileLoc)"
   ]
  },
  {
   "cell_type": "code",
   "execution_count": 9,
   "metadata": {},
   "outputs": [
    {
     "name": "stdout",
     "output_type": "stream",
     "text": [
      "This file has  20 days\n"
     ]
    }
   ],
   "source": [
    "etfDateKeys =list(combinedETFfiles_A.keys())\n",
    "print('This file has ',len(etfDateKeys), 'days')"
   ]
  },
  {
   "cell_type": "code",
   "execution_count": 12,
   "metadata": {},
   "outputs": [],
   "source": [
    "microPxDict = dict()\n",
    "durationsDict = dict()\n",
    "\n",
    "for idxKey, dateKey in enumerate(etfDateKeys):\n",
    "    originalCreateLOB = createLOB.formatETFlob(combinedETFfiles_A[etfDateKeys[idxKey]])\n",
    "    microPxDict[dateKey] = originalCreateLOB['MicroPriceReturns']\n",
    "    durationsDict[dateKey] = originalCreateLOB['milliSeconds'].diff().fillna(0)"
   ]
  },
  {
   "cell_type": "code",
   "execution_count": 16,
   "metadata": {},
   "outputs": [],
   "source": [
    "dfConcat = pd.concat(list(microPxDict.values() ), axis =0, keys = list(microPxDict.keys()))"
   ]
  },
  {
   "cell_type": "code",
   "execution_count": 24,
   "metadata": {},
   "outputs": [],
   "source": [
    "microPriceArray = dfConcat.values"
   ]
  },
  {
   "cell_type": "code",
   "execution_count": null,
   "metadata": {},
   "outputs": [],
   "source": []
  },
  {
   "cell_type": "code",
   "execution_count": 8,
   "metadata": {},
   "outputs": [],
   "source": [
    "features_p  =  RealFeatures(x_train.reshape(1,len(x_train)))\n",
    "features_q = RealFeatures(x_test.reshape(1,len(x_test)))"
   ]
  },
  {
   "cell_type": "code",
   "execution_count": 9,
   "metadata": {},
   "outputs": [],
   "source": [
    "mmd = LinearTimeMMD()\n",
    "kernel = GaussianKernel(10, 1)\n",
    "mmd.set_kernel(kernel)\n",
    "mmd.set_p(features_p)\n",
    "mmd.set_q(features_q)\n",
    "mmd.set_num_samples_p(1000)\n",
    "mmd.set_num_samples_q(1000)\n",
    "alpha = 0.05"
   ]
  },
  {
   "cell_type": "code",
   "execution_count": 11,
   "metadata": {},
   "outputs": [],
   "source": [
    "mmd.set_statistic_type(ST_BIASED_FULL)\n",
    "statistic = mmd.compute_statistic()"
   ]
  },
  {
   "cell_type": "code",
   "execution_count": 12,
   "metadata": {},
   "outputs": [
    {
     "name": "stdout",
     "output_type": "stream",
     "text": [
      "0.2587816393982183\n"
     ]
    }
   ],
   "source": [
    "threshold = mmd.compute_threshold(alpha)\n",
    "p_value = mmd.compute_p_value(statistic)\n",
    "print(p_value)"
   ]
  },
  {
   "cell_type": "code",
   "execution_count": 13,
   "metadata": {},
   "outputs": [
    {
     "data": {
      "text/plain": [
       "0.8685831627039934"
      ]
     },
     "execution_count": 13,
     "metadata": {},
     "output_type": "execute_result"
    }
   ],
   "source": [
    "threshold"
   ]
  },
  {
   "cell_type": "code",
   "execution_count": null,
   "metadata": {},
   "outputs": [],
   "source": []
  }
 ],
 "metadata": {
  "kernelspec": {
   "display_name": "Python 3",
   "language": "python",
   "name": "python3"
  },
  "language_info": {
   "codemirror_mode": {
    "name": "ipython",
    "version": 3
   },
   "file_extension": ".py",
   "mimetype": "text/x-python",
   "name": "python",
   "nbconvert_exporter": "python",
   "pygments_lexer": "ipython3",
   "version": "3.6.10"
  },
  "latex_envs": {
   "LaTeX_envs_menu_present": true,
   "autoclose": false,
   "autocomplete": true,
   "bibliofile": "biblio.bib",
   "cite_by": "apalike",
   "current_citInitial": 1,
   "eqLabelWithNumbers": true,
   "eqNumInitial": 1,
   "hotkeys": {
    "equation": "Ctrl-E",
    "itemize": "Ctrl-I"
   },
   "labels_anchors": false,
   "latex_user_defs": false,
   "report_style_numbering": false,
   "user_envs_cfg": false
  }
 },
 "nbformat": 4,
 "nbformat_minor": 4
}
