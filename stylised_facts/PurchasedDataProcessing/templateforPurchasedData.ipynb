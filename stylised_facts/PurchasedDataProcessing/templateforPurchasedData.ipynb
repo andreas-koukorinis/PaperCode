{
 "cells": [
  {
   "cell_type": "code",
   "execution_count": 6,
   "id": "3a80c691",
   "metadata": {
    "pycharm": {
     "name": "#%%\n"
    }
   },
   "outputs": [],
   "source": [
    "import multiprocessing.pool\n",
    "from datetime import datetime\n",
    "import pandas as pd\n",
    "import os\n",
    "import numpy as np\n",
    "from functools import partial\n",
    "import dask.dataframe as dd\n",
    "import dask.multiprocessing\n",
    "LOB = pd.DataFrame()"
   ]
  },
  {
   "cell_type": "code",
   "execution_count": 7,
   "id": "d4668cd1",
   "metadata": {
    "pycharm": {
     "name": "#%%\n"
    }
   },
   "outputs": [],
   "source": [
    "laCie = '/media/ak/LaCie/'\n",
    "trades_quotes_folder = os.path.join(laCie, 'Trades and Quotes Purchased July 2020/')\n",
    "processed_sampled_data = os.path.join(laCie, 'ProcessedSampledData/')\n",
    "symbols = os.listdir(trades_quotes_folder)\n",
    "symbol = 'FLG'\n",
    "symbol_trades_quotes_folder = os.path.join(trades_quotes_folder, symbol)"
   ]
  },
  {
   "cell_type": "code",
   "execution_count": 8,
   "id": "d7319e9b",
   "metadata": {
    "pycharm": {
     "name": "#%%\n"
    }
   },
   "outputs": [],
   "source": [
    "symbol_files = os.listdir(symbol_trades_quotes_folder)\n"
   ]
  },
  {
   "cell_type": "code",
   "execution_count": 9,
   "id": "946297c2",
   "metadata": {
    "pycharm": {
     "name": "#%%\n"
    }
   },
   "outputs": [
    {
     "name": "stdout",
     "output_type": "stream",
     "text": [
      "/media/ak/LaCie/Trades and Quotes Purchased July 2020/FLG/FLGM2019.csv\n"
     ]
    }
   ],
   "source": [
    "fileidx = 1\n",
    "idx_symbol_file = os.path.join(symbol_trades_quotes_folder, symbol_files[fileidx])\n",
    "print(idx_symbol_file)"
   ]
  },
  {
   "cell_type": "code",
   "execution_count": 10,
   "id": "3f3f6300",
   "metadata": {
    "pycharm": {
     "name": "#%%\n"
    }
   },
   "outputs": [],
   "source": [
    "df = pd.read_csv(idx_symbol_file)\n",
    "\n"
   ]
  },
  {
   "cell_type": "code",
   "execution_count": 11,
   "id": "0b5c085f",
   "metadata": {
    "pycharm": {
     "name": "#%%\n"
    }
   },
   "outputs": [],
   "source": [
    "### conversion of Dates"
   ]
  },
  {
   "cell_type": "code",
   "execution_count": 12,
   "id": "a58109b0",
   "metadata": {
    "pycharm": {
     "name": "#%%\n"
    }
   },
   "outputs": [
    {
     "data": {
      "text/plain": [
       "'05/01/2019'"
      ]
     },
     "execution_count": 12,
     "metadata": {},
     "output_type": "execute_result"
    }
   ],
   "source": [
    "inputDates = df.Date\n",
    "date_time_str = inputDates[1]\n",
    "date_time_str"
   ]
  },
  {
   "cell_type": "code",
   "execution_count": 13,
   "id": "d8f355fe",
   "metadata": {
    "pycharm": {
     "name": "#%%\n"
    }
   },
   "outputs": [],
   "source": [
    "new_date_time = datetime.strptime(date_time_str, \"%d/%m/%Y\").strftime(\"%Y%m%d\")"
   ]
  },
  {
   "cell_type": "code",
   "execution_count": 14,
   "id": "4bb03a03",
   "metadata": {
    "pycharm": {
     "name": "#%%\n"
    }
   },
   "outputs": [
    {
     "data": {
      "text/plain": [
       "'20190105'"
      ]
     },
     "execution_count": 14,
     "metadata": {},
     "output_type": "execute_result"
    }
   ],
   "source": [
    "new_date_time #new format for the date"
   ]
  },
  {
   "cell_type": "code",
   "execution_count": 15,
   "id": "d3542a23",
   "metadata": {
    "pycharm": {
     "name": "#%%\n"
    }
   },
   "outputs": [],
   "source": [
    "df_per_date = df[df['Date'] == date_time_str] # dataframe filtered for the new format"
   ]
  },
  {
   "cell_type": "code",
   "execution_count": 16,
   "id": "ec11427d",
   "metadata": {
    "pycharm": {
     "name": "#%%\n"
    }
   },
   "outputs": [
    {
     "data": {
      "text/plain": [
       "str"
      ]
     },
     "execution_count": 16,
     "metadata": {},
     "output_type": "execute_result"
    }
   ],
   "source": [
    "type(df_per_date['Time'][0])"
   ]
  },
  {
   "cell_type": "code",
   "execution_count": 17,
   "id": "398b7a4c",
   "metadata": {
    "pycharm": {
     "name": "#%%\n"
    }
   },
   "outputs": [],
   "source": [
    "#qt_tmp_df['TradeTime'] = pd.to_datetime(qt_tmp_df.time).values\n",
    "time_obj =pd.to_datetime(df_per_date.Time)"
   ]
  },
  {
   "cell_type": "code",
   "execution_count": 18,
   "id": "aae02091",
   "metadata": {
    "pycharm": {
     "name": "#%%\n"
    }
   },
   "outputs": [
    {
     "data": {
      "text/plain": [
       "pandas.core.series.Series"
      ]
     },
     "execution_count": 18,
     "metadata": {},
     "output_type": "execute_result"
    }
   ],
   "source": [
    "type(time_obj)"
   ]
  },
  {
   "cell_type": "code",
   "execution_count": 19,
   "id": "85875918",
   "metadata": {
    "pycharm": {
     "name": "#%%\n"
    }
   },
   "outputs": [],
   "source": [
    "# pd.to_timedelta(df_per_date.Time).seconds\n"
   ]
  },
  {
   "cell_type": "code",
   "execution_count": 20,
   "id": "ebc8cbe6",
   "metadata": {
    "pycharm": {
     "name": "#%%\n"
    }
   },
   "outputs": [],
   "source": [
    "# qt_tmp_df['TradeTime'] = pd.to_datetime(qt_tmp_df.time).values\n",
    "# dfc['Time_of_Sail'] = pd.to_datetime(dfc['Time_of_Sail'],format= '%H:%M:%S' ).dt.time"
   ]
  },
  {
   "cell_type": "code",
   "execution_count": 20,
   "id": "9578ea82",
   "metadata": {
    "pycharm": {
     "name": "#%%\n"
    }
   },
   "outputs": [],
   "source": []
  },
  {
   "cell_type": "markdown",
   "id": "fe4dd014",
   "metadata": {
    "pycharm": {
     "name": "#%% md\n"
    }
   },
   "source": []
  },
  {
   "cell_type": "code",
   "execution_count": 21,
   "id": "6382bc72",
   "metadata": {
    "pycharm": {
     "name": "#%%\n"
    }
   },
   "outputs": [
    {
     "name": "stderr",
     "output_type": "stream",
     "text": [
      "/home/ak/anaconda3/envs/newTimeSeries/lib/python3.6/site-packages/ipykernel_launcher.py:1: SettingWithCopyWarning: \n",
      "A value is trying to be set on a copy of a slice from a DataFrame.\n",
      "Try using .loc[row_indexer,col_indexer] = value instead\n",
      "\n",
      "See the caveats in the documentation: https://pandas.pydata.org/pandas-docs/stable/user_guide/indexing.html#returning-a-view-versus-a-copy\n",
      "  \"\"\"Entry point for launching an IPython kernel.\n"
     ]
    }
   ],
   "source": [
    "df_per_date['TradeTime']  = pd.to_datetime(df_per_date.Time).dt.time"
   ]
  },
  {
   "cell_type": "code",
   "execution_count": 22,
   "id": "9ed5c0f1",
   "metadata": {
    "pycharm": {
     "name": "#%%\n"
    }
   },
   "outputs": [],
   "source": [
    "# df_per_date['Date'] = datetime.strptime(df_per_date.Date, \"%d/%m/%Y\").strftime(\"%Y%m%d\")"
   ]
  },
  {
   "cell_type": "code",
   "execution_count": 23,
   "id": "a940bcf6",
   "metadata": {
    "pycharm": {
     "name": "#%%\n"
    }
   },
   "outputs": [],
   "source": [
    "bidPrice = df_per_date.filter(like = '-BidPrice')\n",
    "bidSize = df_per_date.filter(like = '-BidSize')\n"
   ]
  },
  {
   "cell_type": "code",
   "execution_count": 24,
   "id": "c99c1aa7",
   "metadata": {
    "pycharm": {
     "name": "#%%\n"
    }
   },
   "outputs": [
    {
     "data": {
      "text/plain": [
       "0        127.33\n",
       "1        127.33\n",
       "2        127.33\n",
       "3        127.33\n",
       "4        127.33\n",
       "          ...  \n",
       "64032    127.30\n",
       "64033    127.30\n",
       "64034    126.42\n",
       "64035       NaN\n",
       "64036       NaN\n",
       "Name: L1-BidPrice, Length: 64037, dtype: float64"
      ]
     },
     "execution_count": 24,
     "metadata": {},
     "output_type": "execute_result"
    }
   ],
   "source": [
    "bidPrice['L1-BidPrice']"
   ]
  },
  {
   "cell_type": "code",
   "execution_count": 25,
   "id": "e666a480",
   "metadata": {
    "pycharm": {
     "name": "#%%\n"
    }
   },
   "outputs": [],
   "source": [
    "LOB['BidPrice'] =(bidSize*bidPrice.values).sum(axis=1)/bidSize.sum(axis=1)\n",
    "LOB['AskPrice'] =(df_per_date.filter(like = '-AskSize')*df_per_date.filter(like = '-AskPrice').values).sum(axis=1)/df_per_date.filter(like = '-AskSize').sum(axis=1)\n"
   ]
  },
  {
   "cell_type": "code",
   "execution_count": 26,
   "id": "d2f17423",
   "metadata": {
    "pycharm": {
     "name": "#%%\n"
    }
   },
   "outputs": [
    {
     "data": {
      "text/html": [
       "<div>\n",
       "<style scoped>\n",
       "    .dataframe tbody tr th:only-of-type {\n",
       "        vertical-align: middle;\n",
       "    }\n",
       "\n",
       "    .dataframe tbody tr th {\n",
       "        vertical-align: top;\n",
       "    }\n",
       "\n",
       "    .dataframe thead th {\n",
       "        text-align: right;\n",
       "    }\n",
       "</style>\n",
       "<table border=\"1\" class=\"dataframe\">\n",
       "  <thead>\n",
       "    <tr style=\"text-align: right;\">\n",
       "      <th></th>\n",
       "      <th>Date</th>\n",
       "      <th>Time</th>\n",
       "      <th>L1-BidPrice</th>\n",
       "      <th>L1-BidSize</th>\n",
       "      <th>L1-BuyNo</th>\n",
       "      <th>L1-AskPrice</th>\n",
       "      <th>L1-AskSize</th>\n",
       "      <th>L1-SellNo</th>\n",
       "      <th>L2-BidPrice</th>\n",
       "      <th>L2-BidSize</th>\n",
       "      <th>...</th>\n",
       "      <th>L9-AskPrice</th>\n",
       "      <th>L9-AskSize</th>\n",
       "      <th>L9-SellNo</th>\n",
       "      <th>L10-BidPrice</th>\n",
       "      <th>L10-BidSize</th>\n",
       "      <th>L10-BuyNo</th>\n",
       "      <th>L10-AskPrice</th>\n",
       "      <th>L10-AskSize</th>\n",
       "      <th>L10-SellNo</th>\n",
       "      <th>TradeTime</th>\n",
       "    </tr>\n",
       "  </thead>\n",
       "  <tbody>\n",
       "    <tr>\n",
       "      <th>0</th>\n",
       "      <td>05/01/2019</td>\n",
       "      <td>08:00:00.169284</td>\n",
       "      <td>127.33</td>\n",
       "      <td>59.0</td>\n",
       "      <td>8.0</td>\n",
       "      <td>127.35</td>\n",
       "      <td>2.0</td>\n",
       "      <td>1.0</td>\n",
       "      <td>127.32</td>\n",
       "      <td>38.0</td>\n",
       "      <td>...</td>\n",
       "      <td>127.43</td>\n",
       "      <td>38.0</td>\n",
       "      <td>9.0</td>\n",
       "      <td>127.24</td>\n",
       "      <td>26.0</td>\n",
       "      <td>10.0</td>\n",
       "      <td>127.44</td>\n",
       "      <td>27.0</td>\n",
       "      <td>6.0</td>\n",
       "      <td>08:00:00.169284</td>\n",
       "    </tr>\n",
       "    <tr>\n",
       "      <th>1</th>\n",
       "      <td>05/01/2019</td>\n",
       "      <td>08:00:00.171387</td>\n",
       "      <td>127.33</td>\n",
       "      <td>59.0</td>\n",
       "      <td>8.0</td>\n",
       "      <td>127.35</td>\n",
       "      <td>7.0</td>\n",
       "      <td>2.0</td>\n",
       "      <td>127.32</td>\n",
       "      <td>41.0</td>\n",
       "      <td>...</td>\n",
       "      <td>127.43</td>\n",
       "      <td>41.0</td>\n",
       "      <td>10.0</td>\n",
       "      <td>127.24</td>\n",
       "      <td>29.0</td>\n",
       "      <td>11.0</td>\n",
       "      <td>127.44</td>\n",
       "      <td>30.0</td>\n",
       "      <td>7.0</td>\n",
       "      <td>08:00:00.171387</td>\n",
       "    </tr>\n",
       "    <tr>\n",
       "      <th>2</th>\n",
       "      <td>05/01/2019</td>\n",
       "      <td>08:00:00.178396</td>\n",
       "      <td>127.33</td>\n",
       "      <td>59.0</td>\n",
       "      <td>8.0</td>\n",
       "      <td>127.34</td>\n",
       "      <td>19.0</td>\n",
       "      <td>3.0</td>\n",
       "      <td>127.32</td>\n",
       "      <td>41.0</td>\n",
       "      <td>...</td>\n",
       "      <td>127.42</td>\n",
       "      <td>37.0</td>\n",
       "      <td>6.0</td>\n",
       "      <td>127.24</td>\n",
       "      <td>29.0</td>\n",
       "      <td>11.0</td>\n",
       "      <td>127.43</td>\n",
       "      <td>41.0</td>\n",
       "      <td>10.0</td>\n",
       "      <td>08:00:00.178396</td>\n",
       "    </tr>\n",
       "    <tr>\n",
       "      <th>3</th>\n",
       "      <td>05/01/2019</td>\n",
       "      <td>08:00:00.190400</td>\n",
       "      <td>127.33</td>\n",
       "      <td>59.0</td>\n",
       "      <td>8.0</td>\n",
       "      <td>127.34</td>\n",
       "      <td>19.0</td>\n",
       "      <td>4.0</td>\n",
       "      <td>127.32</td>\n",
       "      <td>41.0</td>\n",
       "      <td>...</td>\n",
       "      <td>127.42</td>\n",
       "      <td>37.0</td>\n",
       "      <td>6.0</td>\n",
       "      <td>127.24</td>\n",
       "      <td>29.0</td>\n",
       "      <td>11.0</td>\n",
       "      <td>127.43</td>\n",
       "      <td>41.0</td>\n",
       "      <td>10.0</td>\n",
       "      <td>08:00:00.190400</td>\n",
       "    </tr>\n",
       "    <tr>\n",
       "      <th>4</th>\n",
       "      <td>05/01/2019</td>\n",
       "      <td>08:00:00.205580</td>\n",
       "      <td>127.33</td>\n",
       "      <td>64.0</td>\n",
       "      <td>9.0</td>\n",
       "      <td>127.34</td>\n",
       "      <td>19.0</td>\n",
       "      <td>4.0</td>\n",
       "      <td>127.32</td>\n",
       "      <td>41.0</td>\n",
       "      <td>...</td>\n",
       "      <td>127.42</td>\n",
       "      <td>37.0</td>\n",
       "      <td>6.0</td>\n",
       "      <td>127.24</td>\n",
       "      <td>29.0</td>\n",
       "      <td>11.0</td>\n",
       "      <td>127.43</td>\n",
       "      <td>41.0</td>\n",
       "      <td>10.0</td>\n",
       "      <td>08:00:00.205580</td>\n",
       "    </tr>\n",
       "    <tr>\n",
       "      <th>...</th>\n",
       "      <td>...</td>\n",
       "      <td>...</td>\n",
       "      <td>...</td>\n",
       "      <td>...</td>\n",
       "      <td>...</td>\n",
       "      <td>...</td>\n",
       "      <td>...</td>\n",
       "      <td>...</td>\n",
       "      <td>...</td>\n",
       "      <td>...</td>\n",
       "      <td>...</td>\n",
       "      <td>...</td>\n",
       "      <td>...</td>\n",
       "      <td>...</td>\n",
       "      <td>...</td>\n",
       "      <td>...</td>\n",
       "      <td>...</td>\n",
       "      <td>...</td>\n",
       "      <td>...</td>\n",
       "      <td>...</td>\n",
       "      <td>...</td>\n",
       "    </tr>\n",
       "    <tr>\n",
       "      <th>64032</th>\n",
       "      <td>05/01/2019</td>\n",
       "      <td>18:00:00.128145</td>\n",
       "      <td>127.30</td>\n",
       "      <td>6.0</td>\n",
       "      <td>1.0</td>\n",
       "      <td>NaN</td>\n",
       "      <td>NaN</td>\n",
       "      <td>NaN</td>\n",
       "      <td>127.25</td>\n",
       "      <td>14.0</td>\n",
       "      <td>...</td>\n",
       "      <td>NaN</td>\n",
       "      <td>NaN</td>\n",
       "      <td>NaN</td>\n",
       "      <td>NaN</td>\n",
       "      <td>NaN</td>\n",
       "      <td>NaN</td>\n",
       "      <td>NaN</td>\n",
       "      <td>NaN</td>\n",
       "      <td>NaN</td>\n",
       "      <td>18:00:00.128145</td>\n",
       "    </tr>\n",
       "    <tr>\n",
       "      <th>64033</th>\n",
       "      <td>05/01/2019</td>\n",
       "      <td>18:00:00.128145</td>\n",
       "      <td>127.30</td>\n",
       "      <td>6.0</td>\n",
       "      <td>1.0</td>\n",
       "      <td>NaN</td>\n",
       "      <td>NaN</td>\n",
       "      <td>NaN</td>\n",
       "      <td>126.42</td>\n",
       "      <td>1.0</td>\n",
       "      <td>...</td>\n",
       "      <td>NaN</td>\n",
       "      <td>NaN</td>\n",
       "      <td>NaN</td>\n",
       "      <td>NaN</td>\n",
       "      <td>NaN</td>\n",
       "      <td>NaN</td>\n",
       "      <td>NaN</td>\n",
       "      <td>NaN</td>\n",
       "      <td>NaN</td>\n",
       "      <td>18:00:00.128145</td>\n",
       "    </tr>\n",
       "    <tr>\n",
       "      <th>64034</th>\n",
       "      <td>05/01/2019</td>\n",
       "      <td>18:00:00.128145</td>\n",
       "      <td>126.42</td>\n",
       "      <td>1.0</td>\n",
       "      <td>1.0</td>\n",
       "      <td>NaN</td>\n",
       "      <td>NaN</td>\n",
       "      <td>NaN</td>\n",
       "      <td>NaN</td>\n",
       "      <td>NaN</td>\n",
       "      <td>...</td>\n",
       "      <td>NaN</td>\n",
       "      <td>NaN</td>\n",
       "      <td>NaN</td>\n",
       "      <td>NaN</td>\n",
       "      <td>NaN</td>\n",
       "      <td>NaN</td>\n",
       "      <td>NaN</td>\n",
       "      <td>NaN</td>\n",
       "      <td>NaN</td>\n",
       "      <td>18:00:00.128145</td>\n",
       "    </tr>\n",
       "    <tr>\n",
       "      <th>64035</th>\n",
       "      <td>05/01/2019</td>\n",
       "      <td>18:00:00.128145</td>\n",
       "      <td>NaN</td>\n",
       "      <td>NaN</td>\n",
       "      <td>NaN</td>\n",
       "      <td>NaN</td>\n",
       "      <td>NaN</td>\n",
       "      <td>NaN</td>\n",
       "      <td>NaN</td>\n",
       "      <td>NaN</td>\n",
       "      <td>...</td>\n",
       "      <td>NaN</td>\n",
       "      <td>NaN</td>\n",
       "      <td>NaN</td>\n",
       "      <td>NaN</td>\n",
       "      <td>NaN</td>\n",
       "      <td>NaN</td>\n",
       "      <td>NaN</td>\n",
       "      <td>NaN</td>\n",
       "      <td>NaN</td>\n",
       "      <td>18:00:00.128145</td>\n",
       "    </tr>\n",
       "    <tr>\n",
       "      <th>64036</th>\n",
       "      <td>05/01/2019</td>\n",
       "      <td>23:30:05.179559</td>\n",
       "      <td>NaN</td>\n",
       "      <td>NaN</td>\n",
       "      <td>NaN</td>\n",
       "      <td>NaN</td>\n",
       "      <td>NaN</td>\n",
       "      <td>NaN</td>\n",
       "      <td>NaN</td>\n",
       "      <td>NaN</td>\n",
       "      <td>...</td>\n",
       "      <td>NaN</td>\n",
       "      <td>NaN</td>\n",
       "      <td>NaN</td>\n",
       "      <td>NaN</td>\n",
       "      <td>NaN</td>\n",
       "      <td>NaN</td>\n",
       "      <td>NaN</td>\n",
       "      <td>NaN</td>\n",
       "      <td>NaN</td>\n",
       "      <td>23:30:05.179559</td>\n",
       "    </tr>\n",
       "  </tbody>\n",
       "</table>\n",
       "<p>64037 rows × 63 columns</p>\n",
       "</div>"
      ],
      "text/plain": [
       "             Date             Time  L1-BidPrice  L1-BidSize  L1-BuyNo  \\\n",
       "0      05/01/2019  08:00:00.169284       127.33        59.0       8.0   \n",
       "1      05/01/2019  08:00:00.171387       127.33        59.0       8.0   \n",
       "2      05/01/2019  08:00:00.178396       127.33        59.0       8.0   \n",
       "3      05/01/2019  08:00:00.190400       127.33        59.0       8.0   \n",
       "4      05/01/2019  08:00:00.205580       127.33        64.0       9.0   \n",
       "...           ...              ...          ...         ...       ...   \n",
       "64032  05/01/2019  18:00:00.128145       127.30         6.0       1.0   \n",
       "64033  05/01/2019  18:00:00.128145       127.30         6.0       1.0   \n",
       "64034  05/01/2019  18:00:00.128145       126.42         1.0       1.0   \n",
       "64035  05/01/2019  18:00:00.128145          NaN         NaN       NaN   \n",
       "64036  05/01/2019  23:30:05.179559          NaN         NaN       NaN   \n",
       "\n",
       "       L1-AskPrice  L1-AskSize  L1-SellNo  L2-BidPrice  L2-BidSize  ...  \\\n",
       "0           127.35         2.0        1.0       127.32        38.0  ...   \n",
       "1           127.35         7.0        2.0       127.32        41.0  ...   \n",
       "2           127.34        19.0        3.0       127.32        41.0  ...   \n",
       "3           127.34        19.0        4.0       127.32        41.0  ...   \n",
       "4           127.34        19.0        4.0       127.32        41.0  ...   \n",
       "...            ...         ...        ...          ...         ...  ...   \n",
       "64032          NaN         NaN        NaN       127.25        14.0  ...   \n",
       "64033          NaN         NaN        NaN       126.42         1.0  ...   \n",
       "64034          NaN         NaN        NaN          NaN         NaN  ...   \n",
       "64035          NaN         NaN        NaN          NaN         NaN  ...   \n",
       "64036          NaN         NaN        NaN          NaN         NaN  ...   \n",
       "\n",
       "       L9-AskPrice  L9-AskSize  L9-SellNo  L10-BidPrice  L10-BidSize  \\\n",
       "0           127.43        38.0        9.0        127.24         26.0   \n",
       "1           127.43        41.0       10.0        127.24         29.0   \n",
       "2           127.42        37.0        6.0        127.24         29.0   \n",
       "3           127.42        37.0        6.0        127.24         29.0   \n",
       "4           127.42        37.0        6.0        127.24         29.0   \n",
       "...            ...         ...        ...           ...          ...   \n",
       "64032          NaN         NaN        NaN           NaN          NaN   \n",
       "64033          NaN         NaN        NaN           NaN          NaN   \n",
       "64034          NaN         NaN        NaN           NaN          NaN   \n",
       "64035          NaN         NaN        NaN           NaN          NaN   \n",
       "64036          NaN         NaN        NaN           NaN          NaN   \n",
       "\n",
       "       L10-BuyNo  L10-AskPrice  L10-AskSize  L10-SellNo        TradeTime  \n",
       "0           10.0        127.44         27.0         6.0  08:00:00.169284  \n",
       "1           11.0        127.44         30.0         7.0  08:00:00.171387  \n",
       "2           11.0        127.43         41.0        10.0  08:00:00.178396  \n",
       "3           11.0        127.43         41.0        10.0  08:00:00.190400  \n",
       "4           11.0        127.43         41.0        10.0  08:00:00.205580  \n",
       "...          ...           ...          ...         ...              ...  \n",
       "64032        NaN           NaN          NaN         NaN  18:00:00.128145  \n",
       "64033        NaN           NaN          NaN         NaN  18:00:00.128145  \n",
       "64034        NaN           NaN          NaN         NaN  18:00:00.128145  \n",
       "64035        NaN           NaN          NaN         NaN  18:00:00.128145  \n",
       "64036        NaN           NaN          NaN         NaN  23:30:05.179559  \n",
       "\n",
       "[64037 rows x 63 columns]"
      ]
     },
     "execution_count": 26,
     "metadata": {},
     "output_type": "execute_result"
    }
   ],
   "source": [
    "df_per_date"
   ]
  },
  {
   "cell_type": "code",
   "execution_count": 28,
   "id": "db94c3b0",
   "metadata": {
    "pycharm": {
     "name": "#%%\n"
    }
   },
   "outputs": [],
   "source": [
    "LOB['AskSize'] = (df_per_date.filter(like = '-AskSize')*df_per_date.filter(like = '-SellNo').values).sum(axis=1)/df_per_date.filter(like = '-SellNo').sum(axis=1)"
   ]
  },
  {
   "cell_type": "code",
   "execution_count": 29,
   "id": "f54cfe38",
   "metadata": {
    "pycharm": {
     "name": "#%%\n"
    }
   },
   "outputs": [],
   "source": [
    "LOB['BidSize'] = (df_per_date.filter(like = '-BidSize')*df_per_date.filter(like = '-BuyNo').values).sum(axis=1)/df_per_date.filter(like = '-BuyNo').sum(axis=1)"
   ]
  },
  {
   "cell_type": "code",
   "execution_count": 30,
   "id": "017593dd",
   "metadata": {
    "pycharm": {
     "name": "#%%\n"
    }
   },
   "outputs": [
    {
     "data": {
      "text/html": [
       "<div>\n",
       "<style scoped>\n",
       "    .dataframe tbody tr th:only-of-type {\n",
       "        vertical-align: middle;\n",
       "    }\n",
       "\n",
       "    .dataframe tbody tr th {\n",
       "        vertical-align: top;\n",
       "    }\n",
       "\n",
       "    .dataframe thead th {\n",
       "        text-align: right;\n",
       "    }\n",
       "</style>\n",
       "<table border=\"1\" class=\"dataframe\">\n",
       "  <thead>\n",
       "    <tr style=\"text-align: right;\">\n",
       "      <th></th>\n",
       "      <th>BidPrice</th>\n",
       "      <th>AskPrice</th>\n",
       "      <th>AskSize</th>\n",
       "      <th>BidSize</th>\n",
       "    </tr>\n",
       "  </thead>\n",
       "  <tbody>\n",
       "    <tr>\n",
       "      <th>0</th>\n",
       "      <td>127.298333</td>\n",
       "      <td>127.406070</td>\n",
       "      <td>30.268293</td>\n",
       "      <td>30.966102</td>\n",
       "    </tr>\n",
       "    <tr>\n",
       "      <th>1</th>\n",
       "      <td>127.296296</td>\n",
       "      <td>127.404533</td>\n",
       "      <td>32.450980</td>\n",
       "      <td>31.823529</td>\n",
       "    </tr>\n",
       "    <tr>\n",
       "      <th>2</th>\n",
       "      <td>127.296352</td>\n",
       "      <td>127.396295</td>\n",
       "      <td>31.957447</td>\n",
       "      <td>32.057971</td>\n",
       "    </tr>\n",
       "    <tr>\n",
       "      <th>3</th>\n",
       "      <td>127.296352</td>\n",
       "      <td>127.396295</td>\n",
       "      <td>31.687500</td>\n",
       "      <td>32.057971</td>\n",
       "    </tr>\n",
       "    <tr>\n",
       "      <th>4</th>\n",
       "      <td>127.297028</td>\n",
       "      <td>127.396630</td>\n",
       "      <td>32.170213</td>\n",
       "      <td>33.085714</td>\n",
       "    </tr>\n",
       "    <tr>\n",
       "      <th>...</th>\n",
       "      <td>...</td>\n",
       "      <td>...</td>\n",
       "      <td>...</td>\n",
       "      <td>...</td>\n",
       "    </tr>\n",
       "    <tr>\n",
       "      <th>64032</th>\n",
       "      <td>127.224762</td>\n",
       "      <td>NaN</td>\n",
       "      <td>NaN</td>\n",
       "      <td>7.000000</td>\n",
       "    </tr>\n",
       "    <tr>\n",
       "      <th>64033</th>\n",
       "      <td>127.174286</td>\n",
       "      <td>NaN</td>\n",
       "      <td>NaN</td>\n",
       "      <td>3.500000</td>\n",
       "    </tr>\n",
       "    <tr>\n",
       "      <th>64034</th>\n",
       "      <td>126.420000</td>\n",
       "      <td>NaN</td>\n",
       "      <td>NaN</td>\n",
       "      <td>1.000000</td>\n",
       "    </tr>\n",
       "    <tr>\n",
       "      <th>64035</th>\n",
       "      <td>NaN</td>\n",
       "      <td>NaN</td>\n",
       "      <td>NaN</td>\n",
       "      <td>NaN</td>\n",
       "    </tr>\n",
       "    <tr>\n",
       "      <th>64036</th>\n",
       "      <td>NaN</td>\n",
       "      <td>NaN</td>\n",
       "      <td>NaN</td>\n",
       "      <td>NaN</td>\n",
       "    </tr>\n",
       "  </tbody>\n",
       "</table>\n",
       "<p>64037 rows × 4 columns</p>\n",
       "</div>"
      ],
      "text/plain": [
       "         BidPrice    AskPrice    AskSize    BidSize\n",
       "0      127.298333  127.406070  30.268293  30.966102\n",
       "1      127.296296  127.404533  32.450980  31.823529\n",
       "2      127.296352  127.396295  31.957447  32.057971\n",
       "3      127.296352  127.396295  31.687500  32.057971\n",
       "4      127.297028  127.396630  32.170213  33.085714\n",
       "...           ...         ...        ...        ...\n",
       "64032  127.224762         NaN        NaN   7.000000\n",
       "64033  127.174286         NaN        NaN   3.500000\n",
       "64034  126.420000         NaN        NaN   1.000000\n",
       "64035         NaN         NaN        NaN        NaN\n",
       "64036         NaN         NaN        NaN        NaN\n",
       "\n",
       "[64037 rows x 4 columns]"
      ]
     },
     "execution_count": 30,
     "metadata": {},
     "output_type": "execute_result"
    }
   ],
   "source": [
    "LOB"
   ]
  },
  {
   "cell_type": "code",
   "execution_count": null,
   "id": "4f45c9f8",
   "metadata": {
    "pycharm": {
     "name": "#%%\n"
    }
   },
   "outputs": [],
   "source": []
  }
 ],
 "metadata": {
  "kernelspec": {
   "display_name": "Python 3 (ipykernel)",
   "language": "python",
   "name": "python3"
  },
  "language_info": {
   "codemirror_mode": {
    "name": "ipython",
    "version": 3
   },
   "file_extension": ".py",
   "mimetype": "text/x-python",
   "name": "python",
   "nbconvert_exporter": "python",
   "pygments_lexer": "ipython3",
   "version": "3.7.12"
  }
 },
 "nbformat": 4,
 "nbformat_minor": 5
}
