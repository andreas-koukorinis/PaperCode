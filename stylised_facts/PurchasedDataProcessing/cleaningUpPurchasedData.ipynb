{
 "cells": [
  {
   "cell_type": "code",
   "execution_count": 1,
   "id": "3a80c691",
   "metadata": {
    "pycharm": {
     "name": "#%%\n"
    }
   },
   "outputs": [],
   "source": [
    "import multiprocessing.pool\n",
    "from datetime import datetime\n",
    "import pandas as pd\n",
    "import os\n",
    "import numpy as np\n",
    "from functools import partial\n",
    "import dask.dataframe as dd\n",
    "import dask.multiprocessing\n",
    "LOB = pd.DataFrame()\n",
    "import datetime\n",
    "import os\n",
    "import dask.dataframe as dd\n",
    "from pathlib import Path\n"
   ]
  },
  {
   "cell_type": "code",
   "execution_count": 3,
   "id": "9e75b27a",
   "metadata": {
    "pycharm": {
     "name": "#%%\n"
    }
   },
   "outputs": [],
   "source": [
    "# laCie = '/media/ak/LaCie/'\n",
    "data1 = '/media/ak/Data2/'\n",
    "# trades_quotes_folder = os.path.join(data1, 'Trades and Quotes Purchased July 2020/')\n",
    "trades_quotes_folder = os.path.join(data1, 'TradesPurchased')\n",
    "processed_sampled_data = os.path.join(data1, 'ProcessedSampledData/')\n",
    "symbols = os.listdir(trades_quotes_folder)\n",
    "symbol = 'JNI'\n",
    "symbol_trades_quotes_folder = os.path.join(trades_quotes_folder, symbol, 'CSV')\n",
    "write_data_folder = os.path.join(trades_quotes_folder,'tmp')\n",
    "#symbols"
   ]
  },
  {
   "cell_type": "code",
   "execution_count": 4,
   "id": "c9e61d87",
   "metadata": {},
   "outputs": [],
   "source": [
    "\n",
    "\n",
    "def write_to_csv_for_symbol(file_loc, write_data_folder):\n",
    "\n",
    "    ## Get symbol name:\n",
    "    symbol = file_loc.split('/')[-1].split('.')[0]\n",
    "\n",
    "    ## Need to use dask delayed if this doesn't work\n",
    "    ddf = dd.read_csv(file_loc, assume_missing=True)\n",
    "\n",
    "\n",
    "    quotes_ddf = ddf[ddf.Type == 'Quote']\n",
    "    trades_ddf = ddf[ddf.Type == 'Trade']\n",
    "    write_to_csv_for_dates(quotes_ddf, suffix='quotes', cols_to_drop=['Price', 'Volume', 'Type'], output_data_folder=write_data_folder)\n",
    "    write_to_csv_for_dates(trades_ddf, suffix='trades', cols_to_drop=['Type', 'Bid Price','Bid Size','Ask Price','Ask Size'], output_data_folder=write_data_folder)\n",
    "    \n",
    "def write_to_csv_for_dates(ddf, suffix, cols_to_drop, output_data_folder):\n",
    "    ddf_dates = sorted(ddf['Date'].unique().compute())\n",
    "\n",
    "    for d in ddf_dates:\n",
    "        date = datetime.datetime.strptime(d, '%m/%d/%Y').date()\n",
    "        quotes_for_date_ddf = ddf[ddf.Date == d].drop(cols_to_drop, axis=1)\n",
    "        write_file_dir = os.path.join(output_data_folder, f\"{symbol}_{suffix}\")\n",
    "        Path(write_file_dir).mkdir(parents=True, exist_ok=True)\n",
    "        write_file_loc = os.path.join(write_file_dir, f\"{datetime.datetime.strftime(date, '%Y%m%d')}.csv\")\n",
    "        dd.to_csv(quotes_for_date_ddf, write_file_loc, single_file=True)"
   ]
  },
  {
   "cell_type": "code",
   "execution_count": 5,
   "id": "0f0f80af",
   "metadata": {},
   "outputs": [],
   "source": [
    "# write_data_folder = '/tmp/dask_data_tmp'"
   ]
  },
  {
   "cell_type": "code",
   "execution_count": 6,
   "id": "c48738bd",
   "metadata": {
    "pycharm": {
     "name": "#%%\n"
    }
   },
   "outputs": [],
   "source": [
    "# symbol_files = sorted(os.listdir(symbol_trades_quotes_folder))\n",
    "# symbol_files"
   ]
  },
  {
   "cell_type": "code",
   "execution_count": 7,
   "id": "741943d1",
   "metadata": {
    "pycharm": {
     "name": "#%%\n"
    },
    "scrolled": true
   },
   "outputs": [
    {
     "ename": "NameError",
     "evalue": "name 'symbol_files' is not defined",
     "output_type": "error",
     "traceback": [
      "\u001b[0;31m---------------------------------------------------------------------------\u001b[0m",
      "\u001b[0;31mNameError\u001b[0m                                 Traceback (most recent call last)",
      "\u001b[0;32m/tmp/ipykernel_10675/1288380892.py\u001b[0m in \u001b[0;36m<module>\u001b[0;34m\u001b[0m\n\u001b[1;32m      1\u001b[0m \u001b[0mfileidx\u001b[0m \u001b[0;34m=\u001b[0m \u001b[0;36m0\u001b[0m\u001b[0;34m\u001b[0m\u001b[0;34m\u001b[0m\u001b[0m\n\u001b[0;32m----> 2\u001b[0;31m \u001b[0midx_symbol_file\u001b[0m \u001b[0;34m=\u001b[0m \u001b[0mos\u001b[0m\u001b[0;34m.\u001b[0m\u001b[0mpath\u001b[0m\u001b[0;34m.\u001b[0m\u001b[0mjoin\u001b[0m\u001b[0;34m(\u001b[0m\u001b[0msymbol_trades_quotes_folder\u001b[0m\u001b[0;34m,\u001b[0m \u001b[0msymbol_files\u001b[0m\u001b[0;34m[\u001b[0m\u001b[0mfileidx\u001b[0m\u001b[0;34m]\u001b[0m\u001b[0;34m)\u001b[0m\u001b[0;34m\u001b[0m\u001b[0;34m\u001b[0m\u001b[0m\n\u001b[0m\u001b[1;32m      3\u001b[0m \u001b[0mprint\u001b[0m\u001b[0;34m(\u001b[0m\u001b[0midx_symbol_file\u001b[0m\u001b[0;34m)\u001b[0m\u001b[0;34m\u001b[0m\u001b[0;34m\u001b[0m\u001b[0m\n",
      "\u001b[0;31mNameError\u001b[0m: name 'symbol_files' is not defined"
     ]
    }
   ],
   "source": [
    "fileidx = 0\n",
    "idx_symbol_file = os.path.join(symbol_trades_quotes_folder, symbol_files[fileidx])\n",
    "print(idx_symbol_file)"
   ]
  },
  {
   "cell_type": "code",
   "execution_count": 8,
   "id": "5bdf93a9",
   "metadata": {},
   "outputs": [],
   "source": [
    "# write_data_folder = '/tmp/dask_data_tmp'\n",
    "# file_loc = '/tmp/dask_tmp/CLK2027.csv.gz'\n",
    "# write_to_csv_for_symbol(file_loc, write_data_folder)\n"
   ]
  },
  {
   "cell_type": "code",
   "execution_count": 9,
   "id": "b209c52d",
   "metadata": {},
   "outputs": [
    {
     "ename": "NameError",
     "evalue": "name 'idx_symbol_file' is not defined",
     "output_type": "error",
     "traceback": [
      "\u001b[0;31m---------------------------------------------------------------------------\u001b[0m",
      "\u001b[0;31mNameError\u001b[0m                                 Traceback (most recent call last)",
      "\u001b[0;32m/tmp/ipykernel_10675/3540628020.py\u001b[0m in \u001b[0;36m<module>\u001b[0;34m\u001b[0m\n\u001b[0;32m----> 1\u001b[0;31m \u001b[0mwrite_to_csv_for_symbol\u001b[0m\u001b[0;34m(\u001b[0m\u001b[0midx_symbol_file\u001b[0m\u001b[0;34m,\u001b[0m \u001b[0mwrite_data_folder\u001b[0m\u001b[0;34m)\u001b[0m\u001b[0;34m\u001b[0m\u001b[0;34m\u001b[0m\u001b[0m\n\u001b[0m",
      "\u001b[0;31mNameError\u001b[0m: name 'idx_symbol_file' is not defined"
     ]
    }
   ],
   "source": [
    "write_to_csv_for_symbol(idx_symbol_file, write_data_folder)"
   ]
  },
  {
   "cell_type": "code",
   "execution_count": 33,
   "id": "08d788c7",
   "metadata": {
    "pycharm": {
     "name": "#%%\n"
    }
   },
   "outputs": [],
   "source": [
    "# df = pd.read_csv(idx_symbol_file)\n",
    "## Need to use dask delayed if this doesn't work\n",
    "\n",
    "ddf = dd.read_csv(idx_symbol_file, assume_missing=True)\n"
   ]
  },
  {
   "cell_type": "code",
   "execution_count": 35,
   "id": "9cf24530",
   "metadata": {},
   "outputs": [
    {
     "data": {
      "text/html": [
       "<div>\n",
       "<style scoped>\n",
       "    .dataframe tbody tr th:only-of-type {\n",
       "        vertical-align: middle;\n",
       "    }\n",
       "\n",
       "    .dataframe tbody tr th {\n",
       "        vertical-align: top;\n",
       "    }\n",
       "\n",
       "    .dataframe thead th {\n",
       "        text-align: right;\n",
       "    }\n",
       "</style>\n",
       "<table border=\"1\" class=\"dataframe\">\n",
       "  <thead>\n",
       "    <tr style=\"text-align: right;\">\n",
       "      <th></th>\n",
       "      <th>Date</th>\n",
       "      <th>Time</th>\n",
       "      <th>Type</th>\n",
       "      <th>Price</th>\n",
       "      <th>Volume</th>\n",
       "      <th>Bid Price</th>\n",
       "      <th>Bid Size</th>\n",
       "      <th>Ask Price</th>\n",
       "      <th>Ask Size</th>\n",
       "    </tr>\n",
       "  </thead>\n",
       "  <tbody>\n",
       "    <tr>\n",
       "      <th>0</th>\n",
       "      <td>05/07/2019</td>\n",
       "      <td>07:09:09.933984</td>\n",
       "      <td>Quote</td>\n",
       "      <td>NaN</td>\n",
       "      <td>NaN</td>\n",
       "      <td>21750.0</td>\n",
       "      <td>6.0</td>\n",
       "      <td>22100.0</td>\n",
       "      <td>10.0</td>\n",
       "    </tr>\n",
       "    <tr>\n",
       "      <th>1</th>\n",
       "      <td>05/07/2019</td>\n",
       "      <td>08:00:04.081904</td>\n",
       "      <td>Quote</td>\n",
       "      <td>NaN</td>\n",
       "      <td>NaN</td>\n",
       "      <td>21950.0</td>\n",
       "      <td>1.0</td>\n",
       "      <td>21950.0</td>\n",
       "      <td>1.0</td>\n",
       "    </tr>\n",
       "    <tr>\n",
       "      <th>2</th>\n",
       "      <td>05/07/2019</td>\n",
       "      <td>08:29:41.675066</td>\n",
       "      <td>Quote</td>\n",
       "      <td>NaN</td>\n",
       "      <td>NaN</td>\n",
       "      <td>22100.0</td>\n",
       "      <td>2.0</td>\n",
       "      <td>22100.0</td>\n",
       "      <td>11.0</td>\n",
       "    </tr>\n",
       "    <tr>\n",
       "      <th>3</th>\n",
       "      <td>05/07/2019</td>\n",
       "      <td>08:30:25.802367</td>\n",
       "      <td>Quote</td>\n",
       "      <td>NaN</td>\n",
       "      <td>NaN</td>\n",
       "      <td>21950.0</td>\n",
       "      <td>1.0</td>\n",
       "      <td>21950.0</td>\n",
       "      <td>1.0</td>\n",
       "    </tr>\n",
       "    <tr>\n",
       "      <th>4</th>\n",
       "      <td>05/07/2019</td>\n",
       "      <td>08:31:00.122136</td>\n",
       "      <td>Quote</td>\n",
       "      <td>NaN</td>\n",
       "      <td>NaN</td>\n",
       "      <td>21970.0</td>\n",
       "      <td>1.0</td>\n",
       "      <td>21970.0</td>\n",
       "      <td>1.0</td>\n",
       "    </tr>\n",
       "    <tr>\n",
       "      <th>5</th>\n",
       "      <td>05/07/2019</td>\n",
       "      <td>08:31:33.545788</td>\n",
       "      <td>Quote</td>\n",
       "      <td>NaN</td>\n",
       "      <td>NaN</td>\n",
       "      <td>21950.0</td>\n",
       "      <td>1.0</td>\n",
       "      <td>21950.0</td>\n",
       "      <td>1.0</td>\n",
       "    </tr>\n",
       "    <tr>\n",
       "      <th>6</th>\n",
       "      <td>05/07/2019</td>\n",
       "      <td>08:32:08.361696</td>\n",
       "      <td>Quote</td>\n",
       "      <td>NaN</td>\n",
       "      <td>NaN</td>\n",
       "      <td>21960.0</td>\n",
       "      <td>1.0</td>\n",
       "      <td>21960.0</td>\n",
       "      <td>1.0</td>\n",
       "    </tr>\n",
       "    <tr>\n",
       "      <th>7</th>\n",
       "      <td>05/07/2019</td>\n",
       "      <td>08:32:29.877615</td>\n",
       "      <td>Quote</td>\n",
       "      <td>NaN</td>\n",
       "      <td>NaN</td>\n",
       "      <td>21950.0</td>\n",
       "      <td>1.0</td>\n",
       "      <td>21950.0</td>\n",
       "      <td>1.0</td>\n",
       "    </tr>\n",
       "    <tr>\n",
       "      <th>8</th>\n",
       "      <td>05/07/2019</td>\n",
       "      <td>08:43:49.193337</td>\n",
       "      <td>Quote</td>\n",
       "      <td>NaN</td>\n",
       "      <td>NaN</td>\n",
       "      <td>21880.0</td>\n",
       "      <td>1.0</td>\n",
       "      <td>21880.0</td>\n",
       "      <td>1.0</td>\n",
       "    </tr>\n",
       "    <tr>\n",
       "      <th>9</th>\n",
       "      <td>05/07/2019</td>\n",
       "      <td>08:43:51.793495</td>\n",
       "      <td>Quote</td>\n",
       "      <td>NaN</td>\n",
       "      <td>NaN</td>\n",
       "      <td>21950.0</td>\n",
       "      <td>1.0</td>\n",
       "      <td>21950.0</td>\n",
       "      <td>1.0</td>\n",
       "    </tr>\n",
       "  </tbody>\n",
       "</table>\n",
       "</div>"
      ],
      "text/plain": [
       "         Date             Time   Type  Price  Volume  Bid Price  Bid Size  \\\n",
       "0  05/07/2019  07:09:09.933984  Quote    NaN     NaN    21750.0       6.0   \n",
       "1  05/07/2019  08:00:04.081904  Quote    NaN     NaN    21950.0       1.0   \n",
       "2  05/07/2019  08:29:41.675066  Quote    NaN     NaN    22100.0       2.0   \n",
       "3  05/07/2019  08:30:25.802367  Quote    NaN     NaN    21950.0       1.0   \n",
       "4  05/07/2019  08:31:00.122136  Quote    NaN     NaN    21970.0       1.0   \n",
       "5  05/07/2019  08:31:33.545788  Quote    NaN     NaN    21950.0       1.0   \n",
       "6  05/07/2019  08:32:08.361696  Quote    NaN     NaN    21960.0       1.0   \n",
       "7  05/07/2019  08:32:29.877615  Quote    NaN     NaN    21950.0       1.0   \n",
       "8  05/07/2019  08:43:49.193337  Quote    NaN     NaN    21880.0       1.0   \n",
       "9  05/07/2019  08:43:51.793495  Quote    NaN     NaN    21950.0       1.0   \n",
       "\n",
       "   Ask Price  Ask Size  \n",
       "0    22100.0      10.0  \n",
       "1    21950.0       1.0  \n",
       "2    22100.0      11.0  \n",
       "3    21950.0       1.0  \n",
       "4    21970.0       1.0  \n",
       "5    21950.0       1.0  \n",
       "6    21960.0       1.0  \n",
       "7    21950.0       1.0  \n",
       "8    21880.0       1.0  \n",
       "9    21950.0       1.0  "
      ]
     },
     "execution_count": 35,
     "metadata": {},
     "output_type": "execute_result"
    }
   ],
   "source": []
  },
  {
   "cell_type": "code",
   "execution_count": 32,
   "id": "c1ddaff5",
   "metadata": {},
   "outputs": [],
   "source": [
    "## debugging function"
   ]
  },
  {
   "cell_type": "code",
   "execution_count": 6,
   "id": "173487c8",
   "metadata": {
    "pycharm": {
     "name": "#%%\n"
    }
   },
   "outputs": [],
   "source": [
    "### conversion of Dates"
   ]
  },
  {
   "cell_type": "code",
   "execution_count": 26,
   "id": "89427fb9",
   "metadata": {
    "pycharm": {
     "name": "#%%\n"
    }
   },
   "outputs": [
    {
     "data": {
      "text/plain": [
       "'07/19/2019'"
      ]
     },
     "execution_count": 26,
     "metadata": {},
     "output_type": "execute_result"
    }
   ],
   "source": [
    "inputDates = df.Date\n",
    "date_time_str = inputDates[1]\n",
    "date_time_str"
   ]
  },
  {
   "cell_type": "code",
   "execution_count": 28,
   "id": "8475172c",
   "metadata": {
    "pycharm": {
     "name": "#%%\n"
    }
   },
   "outputs": [],
   "source": [
    "new_date_time = datetime.strptime(date_time_str, \"%m/%d/%Y\").strftime(\"%Y%m%d\")"
   ]
  },
  {
   "cell_type": "code",
   "execution_count": 29,
   "id": "38abd893",
   "metadata": {
    "pycharm": {
     "name": "#%%\n"
    }
   },
   "outputs": [
    {
     "data": {
      "text/plain": [
       "'20190719'"
      ]
     },
     "execution_count": 29,
     "metadata": {},
     "output_type": "execute_result"
    }
   ],
   "source": [
    "new_date_time"
   ]
  },
  {
   "cell_type": "code",
   "execution_count": 30,
   "id": "92ea5939",
   "metadata": {
    "pycharm": {
     "name": "#%%\n"
    }
   },
   "outputs": [],
   "source": [
    "df_per_date = df[df['Date'] == date_time_str]"
   ]
  },
  {
   "cell_type": "code",
   "execution_count": 29,
   "id": "b2f312cc",
   "metadata": {
    "pycharm": {
     "name": "#%%\n"
    }
   },
   "outputs": [],
   "source": [
    "# df"
   ]
  },
  {
   "cell_type": "code",
   "execution_count": 13,
   "id": "cec5cd0a",
   "metadata": {
    "pycharm": {
     "name": "#%%\n"
    }
   },
   "outputs": [],
   "source": [
    "#qt_tmp_df['TradeTime'] = pd.to_datetime(qt_tmp_df.time).values\n",
    "time_obj =pd.to_datetime(df_per_date.Time)"
   ]
  },
  {
   "cell_type": "code",
   "execution_count": 16,
   "id": "0f270105",
   "metadata": {
    "pycharm": {
     "name": "#%%\n"
    }
   },
   "outputs": [
    {
     "data": {
      "text/plain": [
       "pandas.core.series.Series"
      ]
     },
     "execution_count": 16,
     "metadata": {},
     "output_type": "execute_result"
    }
   ],
   "source": [
    "type(time_obj)"
   ]
  },
  {
   "cell_type": "code",
   "execution_count": 78,
   "id": "4201ba64",
   "metadata": {
    "pycharm": {
     "name": "#%%\n"
    }
   },
   "outputs": [],
   "source": [
    "# qt_tmp_df['TradeTime'] = pd.to_datetime(qt_tmp_df.time).values\n",
    "# dfc['Time_of_Sail'] = pd.to_datetime(dfc['Time_of_Sail'],format= '%H:%M:%S' ).dt.time"
   ]
  },
  {
   "cell_type": "code",
   "execution_count": null,
   "id": "8507496b",
   "metadata": {
    "pycharm": {
     "name": "#%%\n"
    }
   },
   "outputs": [],
   "source": []
  },
  {
   "cell_type": "markdown",
   "id": "ab6991ea",
   "metadata": {
    "pycharm": {
     "name": "#%% md\n"
    }
   },
   "source": []
  },
  {
   "cell_type": "code",
   "execution_count": 18,
   "id": "80e051ce",
   "metadata": {
    "pycharm": {
     "name": "#%%\n"
    }
   },
   "outputs": [
    {
     "name": "stderr",
     "output_type": "stream",
     "text": [
      "/home/ak/anaconda3/envs/newTimeSeries/lib/python3.6/site-packages/ipykernel_launcher.py:1: SettingWithCopyWarning: \n",
      "A value is trying to be set on a copy of a slice from a DataFrame.\n",
      "Try using .loc[row_indexer,col_indexer] = value instead\n",
      "\n",
      "See the caveats in the documentation: https://pandas.pydata.org/pandas-docs/stable/user_guide/indexing.html#returning-a-view-versus-a-copy\n",
      "  \"\"\"Entry point for launching an IPython kernel.\n"
     ]
    }
   ],
   "source": [
    "df_per_date['TradeTime']  = pd.to_datetime(df_per_date.Time).dt.time"
   ]
  },
  {
   "cell_type": "code",
   "execution_count": 89,
   "id": "ee7c9dd5",
   "metadata": {
    "pycharm": {
     "name": "#%%\n"
    }
   },
   "outputs": [],
   "source": [
    "# df_per_date['Date'] = datetime.strptime(df_per_date.Date, \"%d/%m/%Y\").strftime(\"%Y%m%d\")"
   ]
  },
  {
   "cell_type": "code",
   "execution_count": 19,
   "id": "7e871db2",
   "metadata": {
    "pycharm": {
     "name": "#%%\n"
    }
   },
   "outputs": [],
   "source": [
    "bidPrice = df_per_date.filter(like = '-BidPrice')\n",
    "bidSize = df_per_date.filter(like = '-BidSize')\n"
   ]
  },
  {
   "cell_type": "code",
   "execution_count": 20,
   "id": "25e3c7f2",
   "metadata": {
    "pycharm": {
     "name": "#%%\n"
    }
   },
   "outputs": [
    {
     "data": {
      "text/plain": [
       "0        127.33\n",
       "1        127.33\n",
       "2        127.33\n",
       "3        127.33\n",
       "4        127.33\n",
       "          ...  \n",
       "64032    127.30\n",
       "64033    127.30\n",
       "64034    126.42\n",
       "64035       NaN\n",
       "64036       NaN\n",
       "Name: L1-BidPrice, Length: 64037, dtype: float64"
      ]
     },
     "execution_count": 20,
     "metadata": {},
     "output_type": "execute_result"
    }
   ],
   "source": [
    "bidPrice['L1-BidPrice']"
   ]
  },
  {
   "cell_type": "code",
   "execution_count": 21,
   "id": "d9b7736d",
   "metadata": {
    "pycharm": {
     "name": "#%%\n"
    }
   },
   "outputs": [],
   "source": [
    "LOB['BidPrice'] =(bidSize*bidPrice.values).sum(axis=1)/bidSize.sum(axis=1)\n",
    "LOB['AskPrice'] =(df_per_date.filter(like = '-AskSize')*df_per_date.filter(like = '-AskPrice').values).sum(axis=1)/df_per_date.filter(like = '-AskSize').sum(axis=1)\n",
    "# to compute the appropriate size, we take the size at every level of the order book and we create the sume product using size and number of orders at that level of stack, this just creates a summary statistic of the size\n"
   ]
  },
  {
   "cell_type": "code",
   "execution_count": 22,
   "id": "a85a4991",
   "metadata": {
    "pycharm": {
     "name": "#%%\n"
    }
   },
   "outputs": [
    {
     "data": {
      "text/html": [
       "<div>\n",
       "<style scoped>\n",
       "    .dataframe tbody tr th:only-of-type {\n",
       "        vertical-align: middle;\n",
       "    }\n",
       "\n",
       "    .dataframe tbody tr th {\n",
       "        vertical-align: top;\n",
       "    }\n",
       "\n",
       "    .dataframe thead th {\n",
       "        text-align: right;\n",
       "    }\n",
       "</style>\n",
       "<table border=\"1\" class=\"dataframe\">\n",
       "  <thead>\n",
       "    <tr style=\"text-align: right;\">\n",
       "      <th></th>\n",
       "      <th>Date</th>\n",
       "      <th>Time</th>\n",
       "      <th>L1-BidPrice</th>\n",
       "      <th>L1-BidSize</th>\n",
       "      <th>L1-BuyNo</th>\n",
       "      <th>L1-AskPrice</th>\n",
       "      <th>L1-AskSize</th>\n",
       "      <th>L1-SellNo</th>\n",
       "      <th>L2-BidPrice</th>\n",
       "      <th>L2-BidSize</th>\n",
       "      <th>...</th>\n",
       "      <th>L9-AskPrice</th>\n",
       "      <th>L9-AskSize</th>\n",
       "      <th>L9-SellNo</th>\n",
       "      <th>L10-BidPrice</th>\n",
       "      <th>L10-BidSize</th>\n",
       "      <th>L10-BuyNo</th>\n",
       "      <th>L10-AskPrice</th>\n",
       "      <th>L10-AskSize</th>\n",
       "      <th>L10-SellNo</th>\n",
       "      <th>TradeTime</th>\n",
       "    </tr>\n",
       "  </thead>\n",
       "  <tbody>\n",
       "    <tr>\n",
       "      <th>0</th>\n",
       "      <td>05/01/2019</td>\n",
       "      <td>08:00:00.169284</td>\n",
       "      <td>127.33</td>\n",
       "      <td>59.0</td>\n",
       "      <td>8.0</td>\n",
       "      <td>127.35</td>\n",
       "      <td>2.0</td>\n",
       "      <td>1.0</td>\n",
       "      <td>127.32</td>\n",
       "      <td>38.0</td>\n",
       "      <td>...</td>\n",
       "      <td>127.43</td>\n",
       "      <td>38.0</td>\n",
       "      <td>9.0</td>\n",
       "      <td>127.24</td>\n",
       "      <td>26.0</td>\n",
       "      <td>10.0</td>\n",
       "      <td>127.44</td>\n",
       "      <td>27.0</td>\n",
       "      <td>6.0</td>\n",
       "      <td>08:00:00.169284</td>\n",
       "    </tr>\n",
       "    <tr>\n",
       "      <th>1</th>\n",
       "      <td>05/01/2019</td>\n",
       "      <td>08:00:00.171387</td>\n",
       "      <td>127.33</td>\n",
       "      <td>59.0</td>\n",
       "      <td>8.0</td>\n",
       "      <td>127.35</td>\n",
       "      <td>7.0</td>\n",
       "      <td>2.0</td>\n",
       "      <td>127.32</td>\n",
       "      <td>41.0</td>\n",
       "      <td>...</td>\n",
       "      <td>127.43</td>\n",
       "      <td>41.0</td>\n",
       "      <td>10.0</td>\n",
       "      <td>127.24</td>\n",
       "      <td>29.0</td>\n",
       "      <td>11.0</td>\n",
       "      <td>127.44</td>\n",
       "      <td>30.0</td>\n",
       "      <td>7.0</td>\n",
       "      <td>08:00:00.171387</td>\n",
       "    </tr>\n",
       "    <tr>\n",
       "      <th>2</th>\n",
       "      <td>05/01/2019</td>\n",
       "      <td>08:00:00.178396</td>\n",
       "      <td>127.33</td>\n",
       "      <td>59.0</td>\n",
       "      <td>8.0</td>\n",
       "      <td>127.34</td>\n",
       "      <td>19.0</td>\n",
       "      <td>3.0</td>\n",
       "      <td>127.32</td>\n",
       "      <td>41.0</td>\n",
       "      <td>...</td>\n",
       "      <td>127.42</td>\n",
       "      <td>37.0</td>\n",
       "      <td>6.0</td>\n",
       "      <td>127.24</td>\n",
       "      <td>29.0</td>\n",
       "      <td>11.0</td>\n",
       "      <td>127.43</td>\n",
       "      <td>41.0</td>\n",
       "      <td>10.0</td>\n",
       "      <td>08:00:00.178396</td>\n",
       "    </tr>\n",
       "    <tr>\n",
       "      <th>3</th>\n",
       "      <td>05/01/2019</td>\n",
       "      <td>08:00:00.190400</td>\n",
       "      <td>127.33</td>\n",
       "      <td>59.0</td>\n",
       "      <td>8.0</td>\n",
       "      <td>127.34</td>\n",
       "      <td>19.0</td>\n",
       "      <td>4.0</td>\n",
       "      <td>127.32</td>\n",
       "      <td>41.0</td>\n",
       "      <td>...</td>\n",
       "      <td>127.42</td>\n",
       "      <td>37.0</td>\n",
       "      <td>6.0</td>\n",
       "      <td>127.24</td>\n",
       "      <td>29.0</td>\n",
       "      <td>11.0</td>\n",
       "      <td>127.43</td>\n",
       "      <td>41.0</td>\n",
       "      <td>10.0</td>\n",
       "      <td>08:00:00.190400</td>\n",
       "    </tr>\n",
       "    <tr>\n",
       "      <th>4</th>\n",
       "      <td>05/01/2019</td>\n",
       "      <td>08:00:00.205580</td>\n",
       "      <td>127.33</td>\n",
       "      <td>64.0</td>\n",
       "      <td>9.0</td>\n",
       "      <td>127.34</td>\n",
       "      <td>19.0</td>\n",
       "      <td>4.0</td>\n",
       "      <td>127.32</td>\n",
       "      <td>41.0</td>\n",
       "      <td>...</td>\n",
       "      <td>127.42</td>\n",
       "      <td>37.0</td>\n",
       "      <td>6.0</td>\n",
       "      <td>127.24</td>\n",
       "      <td>29.0</td>\n",
       "      <td>11.0</td>\n",
       "      <td>127.43</td>\n",
       "      <td>41.0</td>\n",
       "      <td>10.0</td>\n",
       "      <td>08:00:00.205580</td>\n",
       "    </tr>\n",
       "    <tr>\n",
       "      <th>...</th>\n",
       "      <td>...</td>\n",
       "      <td>...</td>\n",
       "      <td>...</td>\n",
       "      <td>...</td>\n",
       "      <td>...</td>\n",
       "      <td>...</td>\n",
       "      <td>...</td>\n",
       "      <td>...</td>\n",
       "      <td>...</td>\n",
       "      <td>...</td>\n",
       "      <td>...</td>\n",
       "      <td>...</td>\n",
       "      <td>...</td>\n",
       "      <td>...</td>\n",
       "      <td>...</td>\n",
       "      <td>...</td>\n",
       "      <td>...</td>\n",
       "      <td>...</td>\n",
       "      <td>...</td>\n",
       "      <td>...</td>\n",
       "      <td>...</td>\n",
       "    </tr>\n",
       "    <tr>\n",
       "      <th>64032</th>\n",
       "      <td>05/01/2019</td>\n",
       "      <td>18:00:00.128145</td>\n",
       "      <td>127.30</td>\n",
       "      <td>6.0</td>\n",
       "      <td>1.0</td>\n",
       "      <td>NaN</td>\n",
       "      <td>NaN</td>\n",
       "      <td>NaN</td>\n",
       "      <td>127.25</td>\n",
       "      <td>14.0</td>\n",
       "      <td>...</td>\n",
       "      <td>NaN</td>\n",
       "      <td>NaN</td>\n",
       "      <td>NaN</td>\n",
       "      <td>NaN</td>\n",
       "      <td>NaN</td>\n",
       "      <td>NaN</td>\n",
       "      <td>NaN</td>\n",
       "      <td>NaN</td>\n",
       "      <td>NaN</td>\n",
       "      <td>18:00:00.128145</td>\n",
       "    </tr>\n",
       "    <tr>\n",
       "      <th>64033</th>\n",
       "      <td>05/01/2019</td>\n",
       "      <td>18:00:00.128145</td>\n",
       "      <td>127.30</td>\n",
       "      <td>6.0</td>\n",
       "      <td>1.0</td>\n",
       "      <td>NaN</td>\n",
       "      <td>NaN</td>\n",
       "      <td>NaN</td>\n",
       "      <td>126.42</td>\n",
       "      <td>1.0</td>\n",
       "      <td>...</td>\n",
       "      <td>NaN</td>\n",
       "      <td>NaN</td>\n",
       "      <td>NaN</td>\n",
       "      <td>NaN</td>\n",
       "      <td>NaN</td>\n",
       "      <td>NaN</td>\n",
       "      <td>NaN</td>\n",
       "      <td>NaN</td>\n",
       "      <td>NaN</td>\n",
       "      <td>18:00:00.128145</td>\n",
       "    </tr>\n",
       "    <tr>\n",
       "      <th>64034</th>\n",
       "      <td>05/01/2019</td>\n",
       "      <td>18:00:00.128145</td>\n",
       "      <td>126.42</td>\n",
       "      <td>1.0</td>\n",
       "      <td>1.0</td>\n",
       "      <td>NaN</td>\n",
       "      <td>NaN</td>\n",
       "      <td>NaN</td>\n",
       "      <td>NaN</td>\n",
       "      <td>NaN</td>\n",
       "      <td>...</td>\n",
       "      <td>NaN</td>\n",
       "      <td>NaN</td>\n",
       "      <td>NaN</td>\n",
       "      <td>NaN</td>\n",
       "      <td>NaN</td>\n",
       "      <td>NaN</td>\n",
       "      <td>NaN</td>\n",
       "      <td>NaN</td>\n",
       "      <td>NaN</td>\n",
       "      <td>18:00:00.128145</td>\n",
       "    </tr>\n",
       "    <tr>\n",
       "      <th>64035</th>\n",
       "      <td>05/01/2019</td>\n",
       "      <td>18:00:00.128145</td>\n",
       "      <td>NaN</td>\n",
       "      <td>NaN</td>\n",
       "      <td>NaN</td>\n",
       "      <td>NaN</td>\n",
       "      <td>NaN</td>\n",
       "      <td>NaN</td>\n",
       "      <td>NaN</td>\n",
       "      <td>NaN</td>\n",
       "      <td>...</td>\n",
       "      <td>NaN</td>\n",
       "      <td>NaN</td>\n",
       "      <td>NaN</td>\n",
       "      <td>NaN</td>\n",
       "      <td>NaN</td>\n",
       "      <td>NaN</td>\n",
       "      <td>NaN</td>\n",
       "      <td>NaN</td>\n",
       "      <td>NaN</td>\n",
       "      <td>18:00:00.128145</td>\n",
       "    </tr>\n",
       "    <tr>\n",
       "      <th>64036</th>\n",
       "      <td>05/01/2019</td>\n",
       "      <td>23:30:05.179559</td>\n",
       "      <td>NaN</td>\n",
       "      <td>NaN</td>\n",
       "      <td>NaN</td>\n",
       "      <td>NaN</td>\n",
       "      <td>NaN</td>\n",
       "      <td>NaN</td>\n",
       "      <td>NaN</td>\n",
       "      <td>NaN</td>\n",
       "      <td>...</td>\n",
       "      <td>NaN</td>\n",
       "      <td>NaN</td>\n",
       "      <td>NaN</td>\n",
       "      <td>NaN</td>\n",
       "      <td>NaN</td>\n",
       "      <td>NaN</td>\n",
       "      <td>NaN</td>\n",
       "      <td>NaN</td>\n",
       "      <td>NaN</td>\n",
       "      <td>23:30:05.179559</td>\n",
       "    </tr>\n",
       "  </tbody>\n",
       "</table>\n",
       "<p>64037 rows × 63 columns</p>\n",
       "</div>"
      ],
      "text/plain": [
       "             Date             Time  L1-BidPrice  L1-BidSize  L1-BuyNo  \\\n",
       "0      05/01/2019  08:00:00.169284       127.33        59.0       8.0   \n",
       "1      05/01/2019  08:00:00.171387       127.33        59.0       8.0   \n",
       "2      05/01/2019  08:00:00.178396       127.33        59.0       8.0   \n",
       "3      05/01/2019  08:00:00.190400       127.33        59.0       8.0   \n",
       "4      05/01/2019  08:00:00.205580       127.33        64.0       9.0   \n",
       "...           ...              ...          ...         ...       ...   \n",
       "64032  05/01/2019  18:00:00.128145       127.30         6.0       1.0   \n",
       "64033  05/01/2019  18:00:00.128145       127.30         6.0       1.0   \n",
       "64034  05/01/2019  18:00:00.128145       126.42         1.0       1.0   \n",
       "64035  05/01/2019  18:00:00.128145          NaN         NaN       NaN   \n",
       "64036  05/01/2019  23:30:05.179559          NaN         NaN       NaN   \n",
       "\n",
       "       L1-AskPrice  L1-AskSize  L1-SellNo  L2-BidPrice  L2-BidSize  ...  \\\n",
       "0           127.35         2.0        1.0       127.32        38.0  ...   \n",
       "1           127.35         7.0        2.0       127.32        41.0  ...   \n",
       "2           127.34        19.0        3.0       127.32        41.0  ...   \n",
       "3           127.34        19.0        4.0       127.32        41.0  ...   \n",
       "4           127.34        19.0        4.0       127.32        41.0  ...   \n",
       "...            ...         ...        ...          ...         ...  ...   \n",
       "64032          NaN         NaN        NaN       127.25        14.0  ...   \n",
       "64033          NaN         NaN        NaN       126.42         1.0  ...   \n",
       "64034          NaN         NaN        NaN          NaN         NaN  ...   \n",
       "64035          NaN         NaN        NaN          NaN         NaN  ...   \n",
       "64036          NaN         NaN        NaN          NaN         NaN  ...   \n",
       "\n",
       "       L9-AskPrice  L9-AskSize  L9-SellNo  L10-BidPrice  L10-BidSize  \\\n",
       "0           127.43        38.0        9.0        127.24         26.0   \n",
       "1           127.43        41.0       10.0        127.24         29.0   \n",
       "2           127.42        37.0        6.0        127.24         29.0   \n",
       "3           127.42        37.0        6.0        127.24         29.0   \n",
       "4           127.42        37.0        6.0        127.24         29.0   \n",
       "...            ...         ...        ...           ...          ...   \n",
       "64032          NaN         NaN        NaN           NaN          NaN   \n",
       "64033          NaN         NaN        NaN           NaN          NaN   \n",
       "64034          NaN         NaN        NaN           NaN          NaN   \n",
       "64035          NaN         NaN        NaN           NaN          NaN   \n",
       "64036          NaN         NaN        NaN           NaN          NaN   \n",
       "\n",
       "       L10-BuyNo  L10-AskPrice  L10-AskSize  L10-SellNo        TradeTime  \n",
       "0           10.0        127.44         27.0         6.0  08:00:00.169284  \n",
       "1           11.0        127.44         30.0         7.0  08:00:00.171387  \n",
       "2           11.0        127.43         41.0        10.0  08:00:00.178396  \n",
       "3           11.0        127.43         41.0        10.0  08:00:00.190400  \n",
       "4           11.0        127.43         41.0        10.0  08:00:00.205580  \n",
       "...          ...           ...          ...         ...              ...  \n",
       "64032        NaN           NaN          NaN         NaN  18:00:00.128145  \n",
       "64033        NaN           NaN          NaN         NaN  18:00:00.128145  \n",
       "64034        NaN           NaN          NaN         NaN  18:00:00.128145  \n",
       "64035        NaN           NaN          NaN         NaN  18:00:00.128145  \n",
       "64036        NaN           NaN          NaN         NaN  23:30:05.179559  \n",
       "\n",
       "[64037 rows x 63 columns]"
      ]
     },
     "execution_count": 22,
     "metadata": {},
     "output_type": "execute_result"
    }
   ],
   "source": [
    "df_per_date"
   ]
  },
  {
   "cell_type": "code",
   "execution_count": 127,
   "id": "c14fb5d7",
   "metadata": {
    "pycharm": {
     "name": "#%%\n"
    }
   },
   "outputs": [
    {
     "data": {
      "text/plain": [
       "0        30.268293\n",
       "1        32.450980\n",
       "2        31.957447\n",
       "3        31.687500\n",
       "4        32.170213\n",
       "           ...    \n",
       "64032          NaN\n",
       "64033          NaN\n",
       "64034          NaN\n",
       "64035          NaN\n",
       "64036          NaN\n",
       "Length: 64037, dtype: float64"
      ]
     },
     "execution_count": 127,
     "metadata": {},
     "output_type": "execute_result"
    }
   ],
   "source": [
    "(df_per_date.filter(like = '-AskSize')*df_per_date.filter(like = '-SellNo').values).sum(axis=1)/df_per_date.filter(like = '-SellNo').sum(axis=1)"
   ]
  },
  {
   "cell_type": "code",
   "execution_count": 23,
   "id": "ae8f74c5",
   "metadata": {
    "pycharm": {
     "name": "#%%\n"
    }
   },
   "outputs": [],
   "source": [
    "\n",
    "\n",
    "def write_to_csv_for_symbol(file_loc, write_data_folder):\n",
    "\n",
    "    ## Get symbol name:\n",
    "    symbol = file_loc.split('/')[-1].split('.')[0]\n",
    "\n",
    "    ## Need to use dask delayed if this doesn't work\n",
    "    ddf = dd.read_csv(file_loc, assume_missing=True)\n",
    "\n",
    "\n",
    "    quotes_ddf = ddf[ddf.Type == 'Quote']\n",
    "    trades_ddf = ddf[ddf.Type == 'Trade']\n",
    "    write_to_csv_for_dates(quotes_ddf, suffix='quotes', cols_to_drop=['Price', 'Volume', 'Type'], output_data_folder=write_data_folder)\n",
    "    write_to_csv_for_dates(trades_ddf, suffix='trades', cols_to_drop=['Type', 'Bid Price','Bid Size','Ask Price','Ask Size'], output_data_folder=write_data_folder)"
   ]
  },
  {
   "cell_type": "code",
   "execution_count": 24,
   "id": "a008de1e",
   "metadata": {},
   "outputs": [],
   "source": [
    "\n",
    "# How to call this function?\n",
    "\n",
    "\n",
    "# write_data_folder = '/tmp/dask_data_tmp'\n",
    "# file_loc = '/tmp/dask_tmp/CLK2027.csv.gz'\n",
    "# write_to_csv_for_symbol(file_loc, write_data_folder)"
   ]
  },
  {
   "cell_type": "code",
   "execution_count": null,
   "id": "f194cff1",
   "metadata": {},
   "outputs": [],
   "source": []
  },
  {
   "cell_type": "code",
   "execution_count": null,
   "id": "982fdc34",
   "metadata": {},
   "outputs": [],
   "source": [
    "# start = time.time()\n",
    "# dask_df = dd.read_csv(file_loc, assume_missing=True)\n",
    "# end = time.time()\n",
    "# print(\"Read csv with dask: \",(end-start),\"sec\")"
   ]
  }
 ],
 "metadata": {
  "kernelspec": {
   "display_name": "Python 3 (ipykernel)",
   "language": "python",
   "name": "python3"
  },
  "language_info": {
   "codemirror_mode": {
    "name": "ipython",
    "version": 3
   },
   "file_extension": ".py",
   "mimetype": "text/x-python",
   "name": "python",
   "nbconvert_exporter": "python",
   "pygments_lexer": "ipython3",
   "version": "3.7.12"
  }
 },
 "nbformat": 4,
 "nbformat_minor": 5
}
