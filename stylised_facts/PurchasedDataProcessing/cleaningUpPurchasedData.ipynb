{
 "cells": [
  {
   "cell_type": "code",
   "execution_count": 9,
   "id": "3a80c691",
   "metadata": {
    "pycharm": {
     "name": "#%%\n"
    }
   },
   "outputs": [],
   "source": [
    "import multiprocessing.pool\n",
    "from datetime import datetime\n",
    "import pandas as pd\n",
    "import os\n",
    "import numpy as np\n",
    "from functools import partial\n",
    "import dask.dataframe as dd\n",
    "import dask.multiprocessing\n",
    "LOB = pd.DataFrame()"
   ]
  },
  {
   "cell_type": "code",
   "execution_count": 12,
   "id": "9e75b27a",
   "metadata": {
    "pycharm": {
     "name": "#%%\n"
    }
   },
   "outputs": [],
   "source": [
    "laCie = '/media/ak/LaCie/'\n",
    "trades_quotes_folder = os.path.join(laCie, 'Trades and Quotes Purchased July 2020/')\n",
    "processed_sampled_data = os.path.join(laCie, 'ProcessedSampledData/')\n",
    "symbols = os.listdir(trades_quotes_folder)\n",
    "symbol = 'TY'\n",
    "symbol_trades_quotes_folder = os.path.join(trades_quotes_folder, symbol)"
   ]
  },
  {
   "cell_type": "code",
   "execution_count": 14,
   "id": "c48738bd",
   "metadata": {
    "pycharm": {
     "name": "#%%\n"
    }
   },
   "outputs": [
    {
     "data": {
      "text/plain": [
       "['TYH2020.csv',\n",
       " 'TYH2020.csv.gz',\n",
       " 'TYH2021.csv.gz',\n",
       " 'TYM2019.csv.gz',\n",
       " 'TYM2020.csv.gz',\n",
       " 'TYU2019.csv.gz',\n",
       " 'TYU2020.csv.gz',\n",
       " 'TYZ2019.rar',\n",
       " 'TYZ2019.txt']"
      ]
     },
     "execution_count": 14,
     "metadata": {},
     "output_type": "execute_result"
    }
   ],
   "source": [
    "symbol_files = sorted(os.listdir(symbol_trades_quotes_folder))\n",
    "symbol_files"
   ]
  },
  {
   "cell_type": "code",
   "execution_count": 15,
   "id": "741943d1",
   "metadata": {
    "pycharm": {
     "name": "#%%\n"
    }
   },
   "outputs": [
    {
     "name": "stdout",
     "output_type": "stream",
     "text": [
      "/media/ak/LaCie/Trades and Quotes Purchased July 2020/TY/TYH2020.csv\n"
     ]
    }
   ],
   "source": [
    "fileidx = 0\n",
    "idx_symbol_file = os.path.join(symbol_trades_quotes_folder, symbol_files[fileidx])\n",
    "print(idx_symbol_file)"
   ]
  },
  {
   "cell_type": "code",
   "execution_count": 16,
   "id": "08d788c7",
   "metadata": {
    "pycharm": {
     "name": "#%%\n"
    }
   },
   "outputs": [],
   "source": [
    "df = pd.read_csv(idx_symbol_file)\n",
    "\n"
   ]
  },
  {
   "cell_type": "code",
   "execution_count": 25,
   "id": "c4b2ad27",
   "metadata": {},
   "outputs": [
    {
     "data": {
      "text/html": [
       "<div>\n",
       "<style scoped>\n",
       "    .dataframe tbody tr th:only-of-type {\n",
       "        vertical-align: middle;\n",
       "    }\n",
       "\n",
       "    .dataframe tbody tr th {\n",
       "        vertical-align: top;\n",
       "    }\n",
       "\n",
       "    .dataframe thead th {\n",
       "        text-align: right;\n",
       "    }\n",
       "</style>\n",
       "<table border=\"1\" class=\"dataframe\">\n",
       "  <thead>\n",
       "    <tr style=\"text-align: right;\">\n",
       "      <th></th>\n",
       "      <th>Date</th>\n",
       "      <th>Time</th>\n",
       "      <th>Type</th>\n",
       "      <th>Price</th>\n",
       "      <th>Volume</th>\n",
       "      <th>Bid Price</th>\n",
       "      <th>Bid Size</th>\n",
       "      <th>Ask Price</th>\n",
       "      <th>Ask Size</th>\n",
       "    </tr>\n",
       "  </thead>\n",
       "  <tbody>\n",
       "    <tr>\n",
       "      <th>11</th>\n",
       "      <td>08/23/2019</td>\n",
       "      <td>11:18:33.017419</td>\n",
       "      <td>Trade</td>\n",
       "      <td>131.59375</td>\n",
       "      <td>1.0</td>\n",
       "      <td>NaN</td>\n",
       "      <td>NaN</td>\n",
       "      <td>NaN</td>\n",
       "      <td>NaN</td>\n",
       "    </tr>\n",
       "    <tr>\n",
       "      <th>13</th>\n",
       "      <td>08/27/2019</td>\n",
       "      <td>11:38:51.403200</td>\n",
       "      <td>Trade</td>\n",
       "      <td>132.00000</td>\n",
       "      <td>1.0</td>\n",
       "      <td>NaN</td>\n",
       "      <td>NaN</td>\n",
       "      <td>NaN</td>\n",
       "      <td>NaN</td>\n",
       "    </tr>\n",
       "    <tr>\n",
       "      <th>18</th>\n",
       "      <td>08/28/2019</td>\n",
       "      <td>09:05:33.683163</td>\n",
       "      <td>Trade</td>\n",
       "      <td>131.62500</td>\n",
       "      <td>1.0</td>\n",
       "      <td>NaN</td>\n",
       "      <td>NaN</td>\n",
       "      <td>NaN</td>\n",
       "      <td>NaN</td>\n",
       "    </tr>\n",
       "    <tr>\n",
       "      <th>41</th>\n",
       "      <td>08/29/2019</td>\n",
       "      <td>12:26:03.843027</td>\n",
       "      <td>Trade</td>\n",
       "      <td>131.78125</td>\n",
       "      <td>1.0</td>\n",
       "      <td>NaN</td>\n",
       "      <td>NaN</td>\n",
       "      <td>NaN</td>\n",
       "      <td>NaN</td>\n",
       "    </tr>\n",
       "    <tr>\n",
       "      <th>49</th>\n",
       "      <td>08/29/2019</td>\n",
       "      <td>14:52:08.959326</td>\n",
       "      <td>Trade</td>\n",
       "      <td>132.00000</td>\n",
       "      <td>1.0</td>\n",
       "      <td>NaN</td>\n",
       "      <td>NaN</td>\n",
       "      <td>NaN</td>\n",
       "      <td>NaN</td>\n",
       "    </tr>\n",
       "    <tr>\n",
       "      <th>...</th>\n",
       "      <td>...</td>\n",
       "      <td>...</td>\n",
       "      <td>...</td>\n",
       "      <td>...</td>\n",
       "      <td>...</td>\n",
       "      <td>...</td>\n",
       "      <td>...</td>\n",
       "      <td>...</td>\n",
       "      <td>...</td>\n",
       "    </tr>\n",
       "    <tr>\n",
       "      <th>136597138</th>\n",
       "      <td>03/20/2020</td>\n",
       "      <td>10:22:37.647352</td>\n",
       "      <td>Trade</td>\n",
       "      <td>NaN</td>\n",
       "      <td>1.0</td>\n",
       "      <td>NaN</td>\n",
       "      <td>NaN</td>\n",
       "      <td>NaN</td>\n",
       "      <td>NaN</td>\n",
       "    </tr>\n",
       "    <tr>\n",
       "      <th>136597669</th>\n",
       "      <td>03/20/2020</td>\n",
       "      <td>10:28:08.491849</td>\n",
       "      <td>Trade</td>\n",
       "      <td>NaN</td>\n",
       "      <td>1.0</td>\n",
       "      <td>NaN</td>\n",
       "      <td>NaN</td>\n",
       "      <td>NaN</td>\n",
       "      <td>NaN</td>\n",
       "    </tr>\n",
       "    <tr>\n",
       "      <th>136597792</th>\n",
       "      <td>03/20/2020</td>\n",
       "      <td>10:32:11.083597</td>\n",
       "      <td>Trade</td>\n",
       "      <td>136.00000</td>\n",
       "      <td>1.0</td>\n",
       "      <td>NaN</td>\n",
       "      <td>NaN</td>\n",
       "      <td>NaN</td>\n",
       "      <td>NaN</td>\n",
       "    </tr>\n",
       "    <tr>\n",
       "      <th>136598441</th>\n",
       "      <td>03/20/2020</td>\n",
       "      <td>10:49:08.721728</td>\n",
       "      <td>Trade</td>\n",
       "      <td>NaN</td>\n",
       "      <td>1.0</td>\n",
       "      <td>NaN</td>\n",
       "      <td>NaN</td>\n",
       "      <td>NaN</td>\n",
       "      <td>NaN</td>\n",
       "    </tr>\n",
       "    <tr>\n",
       "      <th>136600725</th>\n",
       "      <td>03/20/2020</td>\n",
       "      <td>11:55:14.357558</td>\n",
       "      <td>Trade</td>\n",
       "      <td>NaN</td>\n",
       "      <td>4.0</td>\n",
       "      <td>NaN</td>\n",
       "      <td>NaN</td>\n",
       "      <td>NaN</td>\n",
       "      <td>NaN</td>\n",
       "    </tr>\n",
       "  </tbody>\n",
       "</table>\n",
       "<p>4561553 rows × 9 columns</p>\n",
       "</div>"
      ],
      "text/plain": [
       "                 Date             Time   Type      Price  Volume  Bid Price  \\\n",
       "11         08/23/2019  11:18:33.017419  Trade  131.59375     1.0        NaN   \n",
       "13         08/27/2019  11:38:51.403200  Trade  132.00000     1.0        NaN   \n",
       "18         08/28/2019  09:05:33.683163  Trade  131.62500     1.0        NaN   \n",
       "41         08/29/2019  12:26:03.843027  Trade  131.78125     1.0        NaN   \n",
       "49         08/29/2019  14:52:08.959326  Trade  132.00000     1.0        NaN   \n",
       "...               ...              ...    ...        ...     ...        ...   \n",
       "136597138  03/20/2020  10:22:37.647352  Trade        NaN     1.0        NaN   \n",
       "136597669  03/20/2020  10:28:08.491849  Trade        NaN     1.0        NaN   \n",
       "136597792  03/20/2020  10:32:11.083597  Trade  136.00000     1.0        NaN   \n",
       "136598441  03/20/2020  10:49:08.721728  Trade        NaN     1.0        NaN   \n",
       "136600725  03/20/2020  11:55:14.357558  Trade        NaN     4.0        NaN   \n",
       "\n",
       "           Bid Size  Ask Price  Ask Size  \n",
       "11              NaN        NaN       NaN  \n",
       "13              NaN        NaN       NaN  \n",
       "18              NaN        NaN       NaN  \n",
       "41              NaN        NaN       NaN  \n",
       "49              NaN        NaN       NaN  \n",
       "...             ...        ...       ...  \n",
       "136597138       NaN        NaN       NaN  \n",
       "136597669       NaN        NaN       NaN  \n",
       "136597792       NaN        NaN       NaN  \n",
       "136598441       NaN        NaN       NaN  \n",
       "136600725       NaN        NaN       NaN  \n",
       "\n",
       "[4561553 rows x 9 columns]"
      ]
     },
     "execution_count": 25,
     "metadata": {},
     "output_type": "execute_result"
    }
   ],
   "source": [
    "## checking the df out- not clear it is necessary\n",
    "\n",
    "types = ['Quote', 'Trade']\n",
    "df[df['Type']==types[1]] \n",
    "# write function that processes all this stuff and saves files in Trades/Quotes similar to the format of everything else"
   ]
  },
  {
   "cell_type": "code",
   "execution_count": 6,
   "id": "173487c8",
   "metadata": {
    "pycharm": {
     "name": "#%%\n"
    }
   },
   "outputs": [],
   "source": [
    "### conversion of Dates"
   ]
  },
  {
   "cell_type": "code",
   "execution_count": 26,
   "id": "89427fb9",
   "metadata": {
    "pycharm": {
     "name": "#%%\n"
    }
   },
   "outputs": [
    {
     "data": {
      "text/plain": [
       "'07/19/2019'"
      ]
     },
     "execution_count": 26,
     "metadata": {},
     "output_type": "execute_result"
    }
   ],
   "source": [
    "inputDates = df.Date\n",
    "date_time_str = inputDates[1]\n",
    "date_time_str"
   ]
  },
  {
   "cell_type": "code",
   "execution_count": 28,
   "id": "8475172c",
   "metadata": {
    "pycharm": {
     "name": "#%%\n"
    }
   },
   "outputs": [],
   "source": [
    "new_date_time = datetime.strptime(date_time_str, \"%m/%d/%Y\").strftime(\"%Y%m%d\")"
   ]
  },
  {
   "cell_type": "code",
   "execution_count": 29,
   "id": "38abd893",
   "metadata": {
    "pycharm": {
     "name": "#%%\n"
    }
   },
   "outputs": [
    {
     "data": {
      "text/plain": [
       "'20190719'"
      ]
     },
     "execution_count": 29,
     "metadata": {},
     "output_type": "execute_result"
    }
   ],
   "source": [
    "new_date_time"
   ]
  },
  {
   "cell_type": "code",
   "execution_count": 30,
   "id": "92ea5939",
   "metadata": {
    "pycharm": {
     "name": "#%%\n"
    }
   },
   "outputs": [],
   "source": [
    "df_per_date = df[df['Date'] == date_time_str]"
   ]
  },
  {
   "cell_type": "code",
   "execution_count": 34,
   "id": "b2f312cc",
   "metadata": {
    "pycharm": {
     "name": "#%%\n"
    }
   },
   "outputs": [
    {
     "data": {
      "text/html": [
       "<div>\n",
       "<style scoped>\n",
       "    .dataframe tbody tr th:only-of-type {\n",
       "        vertical-align: middle;\n",
       "    }\n",
       "\n",
       "    .dataframe tbody tr th {\n",
       "        vertical-align: top;\n",
       "    }\n",
       "\n",
       "    .dataframe thead th {\n",
       "        text-align: right;\n",
       "    }\n",
       "</style>\n",
       "<table border=\"1\" class=\"dataframe\">\n",
       "  <thead>\n",
       "    <tr style=\"text-align: right;\">\n",
       "      <th></th>\n",
       "      <th>Date</th>\n",
       "      <th>Time</th>\n",
       "      <th>Type</th>\n",
       "      <th>Price</th>\n",
       "      <th>Volume</th>\n",
       "      <th>Bid Price</th>\n",
       "      <th>Bid Size</th>\n",
       "      <th>Ask Price</th>\n",
       "      <th>Ask Size</th>\n",
       "    </tr>\n",
       "  </thead>\n",
       "  <tbody>\n",
       "    <tr>\n",
       "      <th>0</th>\n",
       "      <td>07/09/2019</td>\n",
       "      <td>11:35:12.666249</td>\n",
       "      <td>Quote</td>\n",
       "      <td>NaN</td>\n",
       "      <td>NaN</td>\n",
       "      <td>127.875000</td>\n",
       "      <td>1.0</td>\n",
       "      <td>NaN</td>\n",
       "      <td>NaN</td>\n",
       "    </tr>\n",
       "    <tr>\n",
       "      <th>1</th>\n",
       "      <td>07/19/2019</td>\n",
       "      <td>08:03:20.204314</td>\n",
       "      <td>Quote</td>\n",
       "      <td>NaN</td>\n",
       "      <td>NaN</td>\n",
       "      <td>127.921875</td>\n",
       "      <td>1.0</td>\n",
       "      <td>NaN</td>\n",
       "      <td>NaN</td>\n",
       "    </tr>\n",
       "    <tr>\n",
       "      <th>2</th>\n",
       "      <td>07/22/2019</td>\n",
       "      <td>11:59:01.011151</td>\n",
       "      <td>Quote</td>\n",
       "      <td>NaN</td>\n",
       "      <td>NaN</td>\n",
       "      <td>128.015625</td>\n",
       "      <td>5.0</td>\n",
       "      <td>NaN</td>\n",
       "      <td>NaN</td>\n",
       "    </tr>\n",
       "    <tr>\n",
       "      <th>3</th>\n",
       "      <td>07/31/2019</td>\n",
       "      <td>12:34:45.703557</td>\n",
       "      <td>Quote</td>\n",
       "      <td>NaN</td>\n",
       "      <td>NaN</td>\n",
       "      <td>125.000000</td>\n",
       "      <td>1.0</td>\n",
       "      <td>NaN</td>\n",
       "      <td>NaN</td>\n",
       "    </tr>\n",
       "    <tr>\n",
       "      <th>4</th>\n",
       "      <td>08/04/2019</td>\n",
       "      <td>20:56:45.479555</td>\n",
       "      <td>Quote</td>\n",
       "      <td>NaN</td>\n",
       "      <td>NaN</td>\n",
       "      <td>128.375000</td>\n",
       "      <td>1.0</td>\n",
       "      <td>NaN</td>\n",
       "      <td>NaN</td>\n",
       "    </tr>\n",
       "    <tr>\n",
       "      <th>...</th>\n",
       "      <td>...</td>\n",
       "      <td>...</td>\n",
       "      <td>...</td>\n",
       "      <td>...</td>\n",
       "      <td>...</td>\n",
       "      <td>...</td>\n",
       "      <td>...</td>\n",
       "      <td>...</td>\n",
       "      <td>...</td>\n",
       "    </tr>\n",
       "    <tr>\n",
       "      <th>136600783</th>\n",
       "      <td>03/20/2020</td>\n",
       "      <td>11:59:33.347390</td>\n",
       "      <td>Quote</td>\n",
       "      <td>NaN</td>\n",
       "      <td>NaN</td>\n",
       "      <td>136.468750</td>\n",
       "      <td>1.0</td>\n",
       "      <td>136.65625</td>\n",
       "      <td>5.0</td>\n",
       "    </tr>\n",
       "    <tr>\n",
       "      <th>136600784</th>\n",
       "      <td>03/20/2020</td>\n",
       "      <td>11:59:38.522719</td>\n",
       "      <td>Quote</td>\n",
       "      <td>NaN</td>\n",
       "      <td>NaN</td>\n",
       "      <td>136.468750</td>\n",
       "      <td>1.0</td>\n",
       "      <td>136.71875</td>\n",
       "      <td>1.0</td>\n",
       "    </tr>\n",
       "    <tr>\n",
       "      <th>136600785</th>\n",
       "      <td>03/20/2020</td>\n",
       "      <td>11:59:51.675562</td>\n",
       "      <td>Quote</td>\n",
       "      <td>NaN</td>\n",
       "      <td>NaN</td>\n",
       "      <td>136.500000</td>\n",
       "      <td>1.0</td>\n",
       "      <td>136.71875</td>\n",
       "      <td>1.0</td>\n",
       "    </tr>\n",
       "    <tr>\n",
       "      <th>136600786</th>\n",
       "      <td>03/20/2020</td>\n",
       "      <td>12:01:44.946946</td>\n",
       "      <td>Quote</td>\n",
       "      <td>NaN</td>\n",
       "      <td>NaN</td>\n",
       "      <td>136.500000</td>\n",
       "      <td>1.0</td>\n",
       "      <td>NaN</td>\n",
       "      <td>NaN</td>\n",
       "    </tr>\n",
       "    <tr>\n",
       "      <th>136600787</th>\n",
       "      <td>03/20/2020</td>\n",
       "      <td>12:01:44.946946</td>\n",
       "      <td>Quote</td>\n",
       "      <td>NaN</td>\n",
       "      <td>NaN</td>\n",
       "      <td>133.171875</td>\n",
       "      <td>20.0</td>\n",
       "      <td>NaN</td>\n",
       "      <td>NaN</td>\n",
       "    </tr>\n",
       "  </tbody>\n",
       "</table>\n",
       "<p>136600788 rows × 9 columns</p>\n",
       "</div>"
      ],
      "text/plain": [
       "                 Date             Time   Type  Price  Volume   Bid Price  \\\n",
       "0          07/09/2019  11:35:12.666249  Quote    NaN     NaN  127.875000   \n",
       "1          07/19/2019  08:03:20.204314  Quote    NaN     NaN  127.921875   \n",
       "2          07/22/2019  11:59:01.011151  Quote    NaN     NaN  128.015625   \n",
       "3          07/31/2019  12:34:45.703557  Quote    NaN     NaN  125.000000   \n",
       "4          08/04/2019  20:56:45.479555  Quote    NaN     NaN  128.375000   \n",
       "...               ...              ...    ...    ...     ...         ...   \n",
       "136600783  03/20/2020  11:59:33.347390  Quote    NaN     NaN  136.468750   \n",
       "136600784  03/20/2020  11:59:38.522719  Quote    NaN     NaN  136.468750   \n",
       "136600785  03/20/2020  11:59:51.675562  Quote    NaN     NaN  136.500000   \n",
       "136600786  03/20/2020  12:01:44.946946  Quote    NaN     NaN  136.500000   \n",
       "136600787  03/20/2020  12:01:44.946946  Quote    NaN     NaN  133.171875   \n",
       "\n",
       "           Bid Size  Ask Price  Ask Size  \n",
       "0               1.0        NaN       NaN  \n",
       "1               1.0        NaN       NaN  \n",
       "2               5.0        NaN       NaN  \n",
       "3               1.0        NaN       NaN  \n",
       "4               1.0        NaN       NaN  \n",
       "...             ...        ...       ...  \n",
       "136600783       1.0  136.65625       5.0  \n",
       "136600784       1.0  136.71875       1.0  \n",
       "136600785       1.0  136.71875       1.0  \n",
       "136600786       1.0        NaN       NaN  \n",
       "136600787      20.0        NaN       NaN  \n",
       "\n",
       "[136600788 rows x 9 columns]"
      ]
     },
     "execution_count": 34,
     "metadata": {},
     "output_type": "execute_result"
    }
   ],
   "source": [
    "df"
   ]
  },
  {
   "cell_type": "code",
   "execution_count": 13,
   "id": "cec5cd0a",
   "metadata": {
    "pycharm": {
     "name": "#%%\n"
    }
   },
   "outputs": [],
   "source": [
    "#qt_tmp_df['TradeTime'] = pd.to_datetime(qt_tmp_df.time).values\n",
    "time_obj =pd.to_datetime(df_per_date.Time)"
   ]
  },
  {
   "cell_type": "code",
   "execution_count": 16,
   "id": "0f270105",
   "metadata": {
    "pycharm": {
     "name": "#%%\n"
    }
   },
   "outputs": [
    {
     "data": {
      "text/plain": [
       "pandas.core.series.Series"
      ]
     },
     "execution_count": 16,
     "metadata": {},
     "output_type": "execute_result"
    }
   ],
   "source": [
    "type(time_obj)"
   ]
  },
  {
   "cell_type": "code",
   "execution_count": 78,
   "id": "4201ba64",
   "metadata": {
    "pycharm": {
     "name": "#%%\n"
    }
   },
   "outputs": [],
   "source": [
    "# qt_tmp_df['TradeTime'] = pd.to_datetime(qt_tmp_df.time).values\n",
    "# dfc['Time_of_Sail'] = pd.to_datetime(dfc['Time_of_Sail'],format= '%H:%M:%S' ).dt.time"
   ]
  },
  {
   "cell_type": "code",
   "execution_count": null,
   "id": "8507496b",
   "metadata": {
    "pycharm": {
     "name": "#%%\n"
    }
   },
   "outputs": [],
   "source": []
  },
  {
   "cell_type": "markdown",
   "id": "ab6991ea",
   "metadata": {
    "pycharm": {
     "name": "#%% md\n"
    }
   },
   "source": []
  },
  {
   "cell_type": "code",
   "execution_count": 18,
   "id": "80e051ce",
   "metadata": {
    "pycharm": {
     "name": "#%%\n"
    }
   },
   "outputs": [
    {
     "name": "stderr",
     "output_type": "stream",
     "text": [
      "/home/ak/anaconda3/envs/newTimeSeries/lib/python3.6/site-packages/ipykernel_launcher.py:1: SettingWithCopyWarning: \n",
      "A value is trying to be set on a copy of a slice from a DataFrame.\n",
      "Try using .loc[row_indexer,col_indexer] = value instead\n",
      "\n",
      "See the caveats in the documentation: https://pandas.pydata.org/pandas-docs/stable/user_guide/indexing.html#returning-a-view-versus-a-copy\n",
      "  \"\"\"Entry point for launching an IPython kernel.\n"
     ]
    }
   ],
   "source": [
    "df_per_date['TradeTime']  = pd.to_datetime(df_per_date.Time).dt.time"
   ]
  },
  {
   "cell_type": "code",
   "execution_count": 89,
   "id": "ee7c9dd5",
   "metadata": {
    "pycharm": {
     "name": "#%%\n"
    }
   },
   "outputs": [],
   "source": [
    "# df_per_date['Date'] = datetime.strptime(df_per_date.Date, \"%d/%m/%Y\").strftime(\"%Y%m%d\")"
   ]
  },
  {
   "cell_type": "code",
   "execution_count": 19,
   "id": "7e871db2",
   "metadata": {
    "pycharm": {
     "name": "#%%\n"
    }
   },
   "outputs": [],
   "source": [
    "bidPrice = df_per_date.filter(like = '-BidPrice')\n",
    "bidSize = df_per_date.filter(like = '-BidSize')\n"
   ]
  },
  {
   "cell_type": "code",
   "execution_count": 20,
   "id": "25e3c7f2",
   "metadata": {
    "pycharm": {
     "name": "#%%\n"
    }
   },
   "outputs": [
    {
     "data": {
      "text/plain": [
       "0        127.33\n",
       "1        127.33\n",
       "2        127.33\n",
       "3        127.33\n",
       "4        127.33\n",
       "          ...  \n",
       "64032    127.30\n",
       "64033    127.30\n",
       "64034    126.42\n",
       "64035       NaN\n",
       "64036       NaN\n",
       "Name: L1-BidPrice, Length: 64037, dtype: float64"
      ]
     },
     "execution_count": 20,
     "metadata": {},
     "output_type": "execute_result"
    }
   ],
   "source": [
    "bidPrice['L1-BidPrice']"
   ]
  },
  {
   "cell_type": "code",
   "execution_count": 21,
   "id": "d9b7736d",
   "metadata": {
    "pycharm": {
     "name": "#%%\n"
    }
   },
   "outputs": [],
   "source": [
    "LOB['BidPrice'] =(bidSize*bidPrice.values).sum(axis=1)/bidSize.sum(axis=1)\n",
    "LOB['AskPrice'] =(df_per_date.filter(like = '-AskSize')*df_per_date.filter(like = '-AskPrice').values).sum(axis=1)/df_per_date.filter(like = '-AskSize').sum(axis=1)\n",
    "# to compute the appropriate size, we take the size at every level of the order book and we create the sume product using size and number of orders at that level of stack, this just creates a summary statistic of the size\n"
   ]
  },
  {
   "cell_type": "code",
   "execution_count": 22,
   "id": "a85a4991",
   "metadata": {
    "pycharm": {
     "name": "#%%\n"
    }
   },
   "outputs": [
    {
     "data": {
      "text/html": [
       "<div>\n",
       "<style scoped>\n",
       "    .dataframe tbody tr th:only-of-type {\n",
       "        vertical-align: middle;\n",
       "    }\n",
       "\n",
       "    .dataframe tbody tr th {\n",
       "        vertical-align: top;\n",
       "    }\n",
       "\n",
       "    .dataframe thead th {\n",
       "        text-align: right;\n",
       "    }\n",
       "</style>\n",
       "<table border=\"1\" class=\"dataframe\">\n",
       "  <thead>\n",
       "    <tr style=\"text-align: right;\">\n",
       "      <th></th>\n",
       "      <th>Date</th>\n",
       "      <th>Time</th>\n",
       "      <th>L1-BidPrice</th>\n",
       "      <th>L1-BidSize</th>\n",
       "      <th>L1-BuyNo</th>\n",
       "      <th>L1-AskPrice</th>\n",
       "      <th>L1-AskSize</th>\n",
       "      <th>L1-SellNo</th>\n",
       "      <th>L2-BidPrice</th>\n",
       "      <th>L2-BidSize</th>\n",
       "      <th>...</th>\n",
       "      <th>L9-AskPrice</th>\n",
       "      <th>L9-AskSize</th>\n",
       "      <th>L9-SellNo</th>\n",
       "      <th>L10-BidPrice</th>\n",
       "      <th>L10-BidSize</th>\n",
       "      <th>L10-BuyNo</th>\n",
       "      <th>L10-AskPrice</th>\n",
       "      <th>L10-AskSize</th>\n",
       "      <th>L10-SellNo</th>\n",
       "      <th>TradeTime</th>\n",
       "    </tr>\n",
       "  </thead>\n",
       "  <tbody>\n",
       "    <tr>\n",
       "      <th>0</th>\n",
       "      <td>05/01/2019</td>\n",
       "      <td>08:00:00.169284</td>\n",
       "      <td>127.33</td>\n",
       "      <td>59.0</td>\n",
       "      <td>8.0</td>\n",
       "      <td>127.35</td>\n",
       "      <td>2.0</td>\n",
       "      <td>1.0</td>\n",
       "      <td>127.32</td>\n",
       "      <td>38.0</td>\n",
       "      <td>...</td>\n",
       "      <td>127.43</td>\n",
       "      <td>38.0</td>\n",
       "      <td>9.0</td>\n",
       "      <td>127.24</td>\n",
       "      <td>26.0</td>\n",
       "      <td>10.0</td>\n",
       "      <td>127.44</td>\n",
       "      <td>27.0</td>\n",
       "      <td>6.0</td>\n",
       "      <td>08:00:00.169284</td>\n",
       "    </tr>\n",
       "    <tr>\n",
       "      <th>1</th>\n",
       "      <td>05/01/2019</td>\n",
       "      <td>08:00:00.171387</td>\n",
       "      <td>127.33</td>\n",
       "      <td>59.0</td>\n",
       "      <td>8.0</td>\n",
       "      <td>127.35</td>\n",
       "      <td>7.0</td>\n",
       "      <td>2.0</td>\n",
       "      <td>127.32</td>\n",
       "      <td>41.0</td>\n",
       "      <td>...</td>\n",
       "      <td>127.43</td>\n",
       "      <td>41.0</td>\n",
       "      <td>10.0</td>\n",
       "      <td>127.24</td>\n",
       "      <td>29.0</td>\n",
       "      <td>11.0</td>\n",
       "      <td>127.44</td>\n",
       "      <td>30.0</td>\n",
       "      <td>7.0</td>\n",
       "      <td>08:00:00.171387</td>\n",
       "    </tr>\n",
       "    <tr>\n",
       "      <th>2</th>\n",
       "      <td>05/01/2019</td>\n",
       "      <td>08:00:00.178396</td>\n",
       "      <td>127.33</td>\n",
       "      <td>59.0</td>\n",
       "      <td>8.0</td>\n",
       "      <td>127.34</td>\n",
       "      <td>19.0</td>\n",
       "      <td>3.0</td>\n",
       "      <td>127.32</td>\n",
       "      <td>41.0</td>\n",
       "      <td>...</td>\n",
       "      <td>127.42</td>\n",
       "      <td>37.0</td>\n",
       "      <td>6.0</td>\n",
       "      <td>127.24</td>\n",
       "      <td>29.0</td>\n",
       "      <td>11.0</td>\n",
       "      <td>127.43</td>\n",
       "      <td>41.0</td>\n",
       "      <td>10.0</td>\n",
       "      <td>08:00:00.178396</td>\n",
       "    </tr>\n",
       "    <tr>\n",
       "      <th>3</th>\n",
       "      <td>05/01/2019</td>\n",
       "      <td>08:00:00.190400</td>\n",
       "      <td>127.33</td>\n",
       "      <td>59.0</td>\n",
       "      <td>8.0</td>\n",
       "      <td>127.34</td>\n",
       "      <td>19.0</td>\n",
       "      <td>4.0</td>\n",
       "      <td>127.32</td>\n",
       "      <td>41.0</td>\n",
       "      <td>...</td>\n",
       "      <td>127.42</td>\n",
       "      <td>37.0</td>\n",
       "      <td>6.0</td>\n",
       "      <td>127.24</td>\n",
       "      <td>29.0</td>\n",
       "      <td>11.0</td>\n",
       "      <td>127.43</td>\n",
       "      <td>41.0</td>\n",
       "      <td>10.0</td>\n",
       "      <td>08:00:00.190400</td>\n",
       "    </tr>\n",
       "    <tr>\n",
       "      <th>4</th>\n",
       "      <td>05/01/2019</td>\n",
       "      <td>08:00:00.205580</td>\n",
       "      <td>127.33</td>\n",
       "      <td>64.0</td>\n",
       "      <td>9.0</td>\n",
       "      <td>127.34</td>\n",
       "      <td>19.0</td>\n",
       "      <td>4.0</td>\n",
       "      <td>127.32</td>\n",
       "      <td>41.0</td>\n",
       "      <td>...</td>\n",
       "      <td>127.42</td>\n",
       "      <td>37.0</td>\n",
       "      <td>6.0</td>\n",
       "      <td>127.24</td>\n",
       "      <td>29.0</td>\n",
       "      <td>11.0</td>\n",
       "      <td>127.43</td>\n",
       "      <td>41.0</td>\n",
       "      <td>10.0</td>\n",
       "      <td>08:00:00.205580</td>\n",
       "    </tr>\n",
       "    <tr>\n",
       "      <th>...</th>\n",
       "      <td>...</td>\n",
       "      <td>...</td>\n",
       "      <td>...</td>\n",
       "      <td>...</td>\n",
       "      <td>...</td>\n",
       "      <td>...</td>\n",
       "      <td>...</td>\n",
       "      <td>...</td>\n",
       "      <td>...</td>\n",
       "      <td>...</td>\n",
       "      <td>...</td>\n",
       "      <td>...</td>\n",
       "      <td>...</td>\n",
       "      <td>...</td>\n",
       "      <td>...</td>\n",
       "      <td>...</td>\n",
       "      <td>...</td>\n",
       "      <td>...</td>\n",
       "      <td>...</td>\n",
       "      <td>...</td>\n",
       "      <td>...</td>\n",
       "    </tr>\n",
       "    <tr>\n",
       "      <th>64032</th>\n",
       "      <td>05/01/2019</td>\n",
       "      <td>18:00:00.128145</td>\n",
       "      <td>127.30</td>\n",
       "      <td>6.0</td>\n",
       "      <td>1.0</td>\n",
       "      <td>NaN</td>\n",
       "      <td>NaN</td>\n",
       "      <td>NaN</td>\n",
       "      <td>127.25</td>\n",
       "      <td>14.0</td>\n",
       "      <td>...</td>\n",
       "      <td>NaN</td>\n",
       "      <td>NaN</td>\n",
       "      <td>NaN</td>\n",
       "      <td>NaN</td>\n",
       "      <td>NaN</td>\n",
       "      <td>NaN</td>\n",
       "      <td>NaN</td>\n",
       "      <td>NaN</td>\n",
       "      <td>NaN</td>\n",
       "      <td>18:00:00.128145</td>\n",
       "    </tr>\n",
       "    <tr>\n",
       "      <th>64033</th>\n",
       "      <td>05/01/2019</td>\n",
       "      <td>18:00:00.128145</td>\n",
       "      <td>127.30</td>\n",
       "      <td>6.0</td>\n",
       "      <td>1.0</td>\n",
       "      <td>NaN</td>\n",
       "      <td>NaN</td>\n",
       "      <td>NaN</td>\n",
       "      <td>126.42</td>\n",
       "      <td>1.0</td>\n",
       "      <td>...</td>\n",
       "      <td>NaN</td>\n",
       "      <td>NaN</td>\n",
       "      <td>NaN</td>\n",
       "      <td>NaN</td>\n",
       "      <td>NaN</td>\n",
       "      <td>NaN</td>\n",
       "      <td>NaN</td>\n",
       "      <td>NaN</td>\n",
       "      <td>NaN</td>\n",
       "      <td>18:00:00.128145</td>\n",
       "    </tr>\n",
       "    <tr>\n",
       "      <th>64034</th>\n",
       "      <td>05/01/2019</td>\n",
       "      <td>18:00:00.128145</td>\n",
       "      <td>126.42</td>\n",
       "      <td>1.0</td>\n",
       "      <td>1.0</td>\n",
       "      <td>NaN</td>\n",
       "      <td>NaN</td>\n",
       "      <td>NaN</td>\n",
       "      <td>NaN</td>\n",
       "      <td>NaN</td>\n",
       "      <td>...</td>\n",
       "      <td>NaN</td>\n",
       "      <td>NaN</td>\n",
       "      <td>NaN</td>\n",
       "      <td>NaN</td>\n",
       "      <td>NaN</td>\n",
       "      <td>NaN</td>\n",
       "      <td>NaN</td>\n",
       "      <td>NaN</td>\n",
       "      <td>NaN</td>\n",
       "      <td>18:00:00.128145</td>\n",
       "    </tr>\n",
       "    <tr>\n",
       "      <th>64035</th>\n",
       "      <td>05/01/2019</td>\n",
       "      <td>18:00:00.128145</td>\n",
       "      <td>NaN</td>\n",
       "      <td>NaN</td>\n",
       "      <td>NaN</td>\n",
       "      <td>NaN</td>\n",
       "      <td>NaN</td>\n",
       "      <td>NaN</td>\n",
       "      <td>NaN</td>\n",
       "      <td>NaN</td>\n",
       "      <td>...</td>\n",
       "      <td>NaN</td>\n",
       "      <td>NaN</td>\n",
       "      <td>NaN</td>\n",
       "      <td>NaN</td>\n",
       "      <td>NaN</td>\n",
       "      <td>NaN</td>\n",
       "      <td>NaN</td>\n",
       "      <td>NaN</td>\n",
       "      <td>NaN</td>\n",
       "      <td>18:00:00.128145</td>\n",
       "    </tr>\n",
       "    <tr>\n",
       "      <th>64036</th>\n",
       "      <td>05/01/2019</td>\n",
       "      <td>23:30:05.179559</td>\n",
       "      <td>NaN</td>\n",
       "      <td>NaN</td>\n",
       "      <td>NaN</td>\n",
       "      <td>NaN</td>\n",
       "      <td>NaN</td>\n",
       "      <td>NaN</td>\n",
       "      <td>NaN</td>\n",
       "      <td>NaN</td>\n",
       "      <td>...</td>\n",
       "      <td>NaN</td>\n",
       "      <td>NaN</td>\n",
       "      <td>NaN</td>\n",
       "      <td>NaN</td>\n",
       "      <td>NaN</td>\n",
       "      <td>NaN</td>\n",
       "      <td>NaN</td>\n",
       "      <td>NaN</td>\n",
       "      <td>NaN</td>\n",
       "      <td>23:30:05.179559</td>\n",
       "    </tr>\n",
       "  </tbody>\n",
       "</table>\n",
       "<p>64037 rows × 63 columns</p>\n",
       "</div>"
      ],
      "text/plain": [
       "             Date             Time  L1-BidPrice  L1-BidSize  L1-BuyNo  \\\n",
       "0      05/01/2019  08:00:00.169284       127.33        59.0       8.0   \n",
       "1      05/01/2019  08:00:00.171387       127.33        59.0       8.0   \n",
       "2      05/01/2019  08:00:00.178396       127.33        59.0       8.0   \n",
       "3      05/01/2019  08:00:00.190400       127.33        59.0       8.0   \n",
       "4      05/01/2019  08:00:00.205580       127.33        64.0       9.0   \n",
       "...           ...              ...          ...         ...       ...   \n",
       "64032  05/01/2019  18:00:00.128145       127.30         6.0       1.0   \n",
       "64033  05/01/2019  18:00:00.128145       127.30         6.0       1.0   \n",
       "64034  05/01/2019  18:00:00.128145       126.42         1.0       1.0   \n",
       "64035  05/01/2019  18:00:00.128145          NaN         NaN       NaN   \n",
       "64036  05/01/2019  23:30:05.179559          NaN         NaN       NaN   \n",
       "\n",
       "       L1-AskPrice  L1-AskSize  L1-SellNo  L2-BidPrice  L2-BidSize  ...  \\\n",
       "0           127.35         2.0        1.0       127.32        38.0  ...   \n",
       "1           127.35         7.0        2.0       127.32        41.0  ...   \n",
       "2           127.34        19.0        3.0       127.32        41.0  ...   \n",
       "3           127.34        19.0        4.0       127.32        41.0  ...   \n",
       "4           127.34        19.0        4.0       127.32        41.0  ...   \n",
       "...            ...         ...        ...          ...         ...  ...   \n",
       "64032          NaN         NaN        NaN       127.25        14.0  ...   \n",
       "64033          NaN         NaN        NaN       126.42         1.0  ...   \n",
       "64034          NaN         NaN        NaN          NaN         NaN  ...   \n",
       "64035          NaN         NaN        NaN          NaN         NaN  ...   \n",
       "64036          NaN         NaN        NaN          NaN         NaN  ...   \n",
       "\n",
       "       L9-AskPrice  L9-AskSize  L9-SellNo  L10-BidPrice  L10-BidSize  \\\n",
       "0           127.43        38.0        9.0        127.24         26.0   \n",
       "1           127.43        41.0       10.0        127.24         29.0   \n",
       "2           127.42        37.0        6.0        127.24         29.0   \n",
       "3           127.42        37.0        6.0        127.24         29.0   \n",
       "4           127.42        37.0        6.0        127.24         29.0   \n",
       "...            ...         ...        ...           ...          ...   \n",
       "64032          NaN         NaN        NaN           NaN          NaN   \n",
       "64033          NaN         NaN        NaN           NaN          NaN   \n",
       "64034          NaN         NaN        NaN           NaN          NaN   \n",
       "64035          NaN         NaN        NaN           NaN          NaN   \n",
       "64036          NaN         NaN        NaN           NaN          NaN   \n",
       "\n",
       "       L10-BuyNo  L10-AskPrice  L10-AskSize  L10-SellNo        TradeTime  \n",
       "0           10.0        127.44         27.0         6.0  08:00:00.169284  \n",
       "1           11.0        127.44         30.0         7.0  08:00:00.171387  \n",
       "2           11.0        127.43         41.0        10.0  08:00:00.178396  \n",
       "3           11.0        127.43         41.0        10.0  08:00:00.190400  \n",
       "4           11.0        127.43         41.0        10.0  08:00:00.205580  \n",
       "...          ...           ...          ...         ...              ...  \n",
       "64032        NaN           NaN          NaN         NaN  18:00:00.128145  \n",
       "64033        NaN           NaN          NaN         NaN  18:00:00.128145  \n",
       "64034        NaN           NaN          NaN         NaN  18:00:00.128145  \n",
       "64035        NaN           NaN          NaN         NaN  18:00:00.128145  \n",
       "64036        NaN           NaN          NaN         NaN  23:30:05.179559  \n",
       "\n",
       "[64037 rows x 63 columns]"
      ]
     },
     "execution_count": 22,
     "metadata": {},
     "output_type": "execute_result"
    }
   ],
   "source": [
    "df_per_date"
   ]
  },
  {
   "cell_type": "code",
   "execution_count": 127,
   "id": "c14fb5d7",
   "metadata": {
    "pycharm": {
     "name": "#%%\n"
    }
   },
   "outputs": [
    {
     "data": {
      "text/plain": [
       "0        30.268293\n",
       "1        32.450980\n",
       "2        31.957447\n",
       "3        31.687500\n",
       "4        32.170213\n",
       "           ...    \n",
       "64032          NaN\n",
       "64033          NaN\n",
       "64034          NaN\n",
       "64035          NaN\n",
       "64036          NaN\n",
       "Length: 64037, dtype: float64"
      ]
     },
     "execution_count": 127,
     "metadata": {},
     "output_type": "execute_result"
    }
   ],
   "source": [
    "(df_per_date.filter(like = '-AskSize')*df_per_date.filter(like = '-SellNo').values).sum(axis=1)/df_per_date.filter(like = '-SellNo').sum(axis=1)"
   ]
  },
  {
   "cell_type": "code",
   "execution_count": null,
   "id": "ae8f74c5",
   "metadata": {
    "pycharm": {
     "name": "#%%\n"
    }
   },
   "outputs": [],
   "source": []
  }
 ],
 "metadata": {
  "kernelspec": {
   "display_name": "Python 3",
   "language": "python",
   "name": "python3"
  },
  "language_info": {
   "codemirror_mode": {
    "name": "ipython",
    "version": 3
   },
   "file_extension": ".py",
   "mimetype": "text/x-python",
   "name": "python",
   "nbconvert_exporter": "python",
   "pygments_lexer": "ipython3",
   "version": "3.6.13"
  }
 },
 "nbformat": 4,
 "nbformat_minor": 5
}
