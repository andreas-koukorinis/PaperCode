{
 "cells": [
  {
   "cell_type": "code",
   "execution_count": 6,
   "metadata": {
    "collapsed": true
   },
   "outputs": [],
   "source": [
    "import pickle\n",
    "import os\n",
    "import pandas as pd\n",
    "import numpy as np\n",
    "import sklearn\n",
    "import scipy.stats as stats\n",
    "from sklearn.pipeline import Pipeline\n",
    "from sklearn import linear_model, decomposition\n",
    "from sklearn.svm import LinearSVC\n",
    "from sklearn.svm import SVC\n",
    "from sklearn.metrics import precision_recall_curve\n",
    "from sklearn.linear_model import SGDClassifier, LogisticRegression\n",
    "from sklearn.preprocessing import StandardScaler\n",
    "from sklearn.preprocessing import MinMaxScaler\n",
    "from sklearn.multiclass import OneVsRestClassifier\n",
    "from sklearn import decomposition\n",
    "from sklearn.linear_model import LogisticRegression\n",
    "from sklearn import svm\n",
    "\n",
    "from sklearn.externals import joblib\n",
    "import pickle\n",
    "# Added version check for recent scikit-learn 0.18 checksok ca\n",
    "from distutils.version import LooseVersion as Version\n",
    "from sklearn.base import clone\n",
    "from itertools import combinations\n",
    "import numpy as np\n",
    "from sklearn.metrics import accuracy_score\n",
    "from sklearn.metrics import roc_auc_score, accuracy_score, f1_score, recall_score, precision_score\n",
    "from sklearn.learning_curve import learning_curve\n",
    "from sklearn.model_selection import train_test_split\n",
    "##############----########### Take out what is redundant below###\n",
    "from sklearn.linear_model import ElasticNet, Lasso, RidgeClassifier\n",
    "from sklearn.model_selection import GridSearchCV\n",
    "from sklearn.model_selection import StratifiedKFold, cross_val_score\n",
    "from sklearn.preprocessing import scale\n",
    "from sklearn.metrics import roc_curve"
   ]
  },
  {
   "cell_type": "code",
   "execution_count": null,
   "metadata": {
    "collapsed": true
   },
   "outputs": [],
   "source": []
  },
  {
   "cell_type": "markdown",
   "metadata": {},
   "source": [
    "# useful functions"
   ]
  },
  {
   "cell_type": "code",
   "execution_count": 7,
   "metadata": {
    "collapsed": true
   },
   "outputs": [],
   "source": [
    "def off_set(array_1, array_2):\n",
    "    off_set= len(array_1)-len(array_2)\n",
    "    return off_set\n",
    "\n",
    "def simpleInputs(_X,_y):\n",
    "    _offset =np.abs(off_set(_X,_y))\n",
    "    if _offset==0:\n",
    "        X = _X.as_matrix().astype(np.float)\n",
    "        y=_y.astype(np.int)\n",
    "    else:\n",
    "        X= _X[:-_offset].as_matrix().astype(np.float)\n",
    "        y = _y.astype(np.int)\n",
    "    return X, y"
   ]
  },
  {
   "cell_type": "code",
   "execution_count": 9,
   "metadata": {},
   "outputs": [
    {
     "name": "stdout",
     "output_type": "stream",
     "text": [
      "0 MS.N\n",
      "1 HSBA.L\n",
      "2 YHOO.O\n",
      "3 LMT.N\n",
      "4 GD.N\n",
      "5 DBKGn.DE\n",
      "6 LMT\n",
      "7 C.N\n",
      "8 GS.N\n",
      "9 GOOG.OQ\n"
     ]
    }
   ],
   "source": [
    "symbols=['MS.N',\n",
    " 'HSBA.L',\n",
    " 'YHOO.O',\n",
    " 'LMT.N',\n",
    " 'GD.N',\n",
    " 'DBKGn.DE',\n",
    " 'LMT',\n",
    " 'C.N','GS.N','GOOG.OQ']  \n",
    "for _idx, _name in enumerate(symbols):\n",
    "    print _idx, _name"
   ]
  },
  {
   "cell_type": "markdown",
   "metadata": {},
   "source": [
    "# paths"
   ]
  },
  {
   "cell_type": "code",
   "execution_count": 30,
   "metadata": {
    "collapsed": true
   },
   "outputs": [],
   "source": [
    "_no=0 #which symbol to take\n",
    "# Where to save the figures\n",
    "_pkl_path =('/home/ak/Documents/features_test/')\n",
    "ticker=symbols[_no] #enter symbol you want - this will be made for various\n",
    "\n",
    "_graphs_path= '/home/ak/Documents/Data/features_test/graphs/'\n",
    "_models_path = '/home/ak/Documents/Data/features_test/models/'\n",
    "_predictions_path ='/home/ak/Documents/Data/features_test/predictions/'\n",
    "import sys\n",
    "sys.path.append('/home/ak/Documents/Research/QFPaper/Huber-Norm-Regularizer')\n",
    "from huber_svm import HuberSVC"
   ]
  },
  {
   "cell_type": "code",
   "execution_count": 11,
   "metadata": {},
   "outputs": [
    {
     "data": {
      "text/plain": [
       "['LMT.N_features.pickle',\n",
       " 'models',\n",
       " 'MS.N_labelled_data_2.pickle',\n",
       " 'graphs',\n",
       " 'MS.N_labelled_data.pickle',\n",
       " 'C.N_features.pickle',\n",
       " 'C.N_labelled_data.pickle',\n",
       " 'LMT.N_features_2.pickle',\n",
       " 'GS.N_features.pickle',\n",
       " 'HSBA.L_features.pickle',\n",
       " 'MS.N_features.pickle',\n",
       " 'predictions',\n",
       " 'LMT.N_labelled_data_2.pickle',\n",
       " 'DBKGn.DE_features.pickle',\n",
       " 'LMT.N_labelled_data.pickle',\n",
       " 'GD.N_features.pickle',\n",
       " 'GD.N_labelled_data_2.pickle',\n",
       " 'DBKGn.DE_labelled_data.pickle',\n",
       " 'GD.N_features_2.pickle',\n",
       " 'GD.N_labelled_data.pickle',\n",
       " 'DBKGn.DE_labelled_data_2.pickle',\n",
       " 'HSBA.L_labelled_data.pickle',\n",
       " 'GS.N_labelled_data.pickle',\n",
       " 'C.N_clfs_.pkl',\n",
       " 'DBKGn.DE_features_2.pickle',\n",
       " 'MS.N_features_2.pickle']"
      ]
     },
     "execution_count": 11,
     "metadata": {},
     "output_type": "execute_result"
    }
   ],
   "source": [
    "os.listdir(_pkl_path)"
   ]
  },
  {
   "cell_type": "code",
   "execution_count": 12,
   "metadata": {},
   "outputs": [
    {
     "name": "stdout",
     "output_type": "stream",
     "text": [
      "('Using Symbol:', 'MS.N')\n"
     ]
    }
   ],
   "source": [
    "print('Using Symbol:',ticker)"
   ]
  },
  {
   "cell_type": "markdown",
   "metadata": {},
   "source": [
    "# Main Code"
   ]
  },
  {
   "cell_type": "code",
   "execution_count": 13,
   "metadata": {
    "collapsed": true
   },
   "outputs": [],
   "source": [
    "##load data\n",
    "with open(_pkl_path + ticker+'_features_2.pickle', 'rb') as handle:\n",
    "    ticker_features_ = pickle.load(handle)\n",
    "with open(_pkl_path + ticker+'_labelled_data_2.pickle', 'rb') as handle:\n",
    "    ticker_labelled_data_ = pickle.load(handle)"
   ]
  },
  {
   "cell_type": "markdown",
   "metadata": {},
   "source": [
    "_model_results= {\n",
    "    'clfs': np.empty((M, T)),\n",
    "    'test_F1': np.empty((M, T)),\n",
    "    'data_date': np.empty((M, T)),\n",
    "    'test_recall': np.empty((M, T)),\n",
    "    'train_recall': np.empty((M, T)),\n",
    "    'test_accuracy' :np.empty((M, T)),\n",
    "    'train_accuracy' :np.empty((M, T)),\n",
    "}"
   ]
  },
  {
   "cell_type": "markdown",
   "metadata": {},
   "source": [
    "# Data Visualisation "
   ]
  },
  {
   "cell_type": "code",
   "execution_count": 14,
   "metadata": {
    "collapsed": true
   },
   "outputs": [],
   "source": [
    "###the following bit is a bit redundant###\n",
    "_data = ticker_labelled_data_  # data\n",
    "_features = ticker_features_  # features\n",
    "_keys = _data.keys()  # dates\n",
    "###scalers###\n",
    "mms = MinMaxScaler()\n",
    "stdsc = StandardScaler()\n",
    "_clfs=[]\n",
    "_xr=len(_keys)-1\n",
    "T=1\n",
    "M=_xr"
   ]
  },
  {
   "cell_type": "markdown",
   "metadata": {},
   "source": []
  },
  {
   "cell_type": "code",
   "execution_count": 15,
   "metadata": {
    "collapsed": true
   },
   "outputs": [],
   "source": [
    "_columns=_data[_keys[1]].columns.values\n"
   ]
  },
  {
   "cell_type": "code",
   "execution_count": 16,
   "metadata": {},
   "outputs": [
    {
     "data": {
      "text/plain": [
       "True"
      ]
     },
     "execution_count": 16,
     "metadata": {},
     "output_type": "execute_result"
    }
   ],
   "source": [
    "_idx_=1\n",
    "labels_cc_1=_data[_keys[_idx_]].iloc[:,4].dropna() #label_control_chart_q_40_q_70_window_15\n",
    "labels_cc_2=_data[_keys[_idx_]].iloc[:,6].dropna()\n",
    "short_rolling = _data[_keys[_idx]]['TradedPrice'].rolling(window=5).mean()\n",
    "long_rolling = _data[_keys[_idx]]['TradedPrice'].rolling(window=10).mean()\n",
    "ma_signal = (long_rolling - short_rolling).fillna(0)\n",
    "  # feature set\n",
    "_df=pd.concat([_features[_keys[_idx]][0],\n",
    "               _features[_keys[_idx]][1],\n",
    "               _features[_keys[_idx]][2] ,\n",
    "               _features[_keys[_idx]][3], \n",
    "               pd.DataFrame(_data[_keys[_idx]]['TradedPrice']) ]\n",
    "              ,axis=1)\n",
    "_df['ma_signal']=_df['TradedPrice'].rolling(window=5).mean() -_df['TradedPrice'].rolling(window=15).mean()\n",
    "#X=_df.drop['TradedPrice'].dropna()\n",
    "#y=_df['TradedPrice'].dropna()\n",
    "_df.columns.values\n",
    "\n",
    "\n",
    "_shift=3\n",
    "\n",
    "y_test=_df['TradedPrice'].shift(-_shift).values.ravel()\n",
    "y_test = y_test[~np.isnan(y_test)]\n",
    "\n",
    "x_test=_df.iloc[:,0:17][_shift:]\n",
    "x_test = x_test[~np.isnan(x_test)]\n",
    "len(x_test)-len(y_test)\n",
    "y_=y_test\n",
    "x_=x_test#.reshape(-1,1)\n",
    "##\n",
    "#x_.info()\n",
    "\n",
    "len(y_test)==len(x_test)"
   ]
  },
  {
   "cell_type": "code",
   "execution_count": 18,
   "metadata": {
    "collapsed": true
   },
   "outputs": [],
   "source": [
    "from sklearn.preprocessing import Imputer\n",
    "\n",
    "imr = Imputer(missing_values='NaN', strategy='mean', axis=0)\n",
    "imr = imr.fit(_df.values)\n",
    "from sklearn.preprocessing import Imputer\n",
    "\n",
    "imr = Imputer(missing_values='NaN', strategy='mean', axis=0)\n",
    "imr = imr.fit(_df.values)\n",
    "imputed_data = imr.transform(_df)\n",
    "#pd.DataFrame(imputed_data)"
   ]
  },
  {
   "cell_type": "code",
   "execution_count": 19,
   "metadata": {},
   "outputs": [
    {
     "data": {
      "text/plain": [
       "(array([  0.5,   1.5,   2.5,   3.5,   4.5,   5.5,   6.5,   7.5,   8.5,\n",
       "          9.5,  10.5,  11.5,  12.5,  13.5,  14.5,  15.5,  16.5]),\n",
       " <a list of 17 Text xticklabel objects>)"
      ]
     },
     "execution_count": 19,
     "metadata": {},
     "output_type": "execute_result"
    },
    {
     "data": {
      "image/png": "[encoded data removed]",
      "text/plain": [
       "<matplotlib.figure.Figure at 0x7f368a4e7fd0>"
      ]
     },
     "metadata": {},
     "output_type": "display_data"
    }
   ],
   "source": [
    "import seaborn as sns\n",
    "from matplotlib import pyplot as plt\n",
    "%matplotlib inline\n",
    "cm = x_.corr()\n",
    "sns.heatmap(cm, square=True)\n",
    "plt.yticks(rotation=0)\n",
    "plt.xticks(rotation=90)"
   ]
  },
  {
   "cell_type": "code",
   "execution_count": 20,
   "metadata": {
    "collapsed": true
   },
   "outputs": [],
   "source": [
    "from sklearn.linear_model import LogisticRegression\n",
    "from sklearn import metrics as mt\n",
    "\n",
    "lr_clf = LogisticRegression(penalty='l2', C=1.0, class_weight=None)"
   ]
  },
  {
   "cell_type": "code",
   "execution_count": 21,
   "metadata": {},
   "outputs": [
    {
     "name": "stdout",
     "output_type": "stream",
     "text": [
      "('#of models:', 19)\n",
      "('for ticker:', 'MS.N')\n",
      "MS.N 0\n",
      "1760\n",
      "MS.N 1\n",
      "4589\n",
      "MS.N 2\n",
      "3434\n",
      "MS.N 3\n",
      "2089\n",
      "MS.N 4\n",
      "2167\n",
      "MS.N 5\n",
      "2584\n",
      "MS.N 6\n",
      "1911\n",
      "MS.N 7\n",
      "2219\n",
      "MS.N 8\n",
      "2480\n",
      "MS.N 9\n",
      "1755\n",
      "MS.N 10\n",
      "2443\n",
      "MS.N 11\n",
      "1957\n",
      "MS.N 12\n",
      "2879\n",
      "MS.N 13\n",
      "2288\n",
      "MS.N 14\n",
      "1706\n",
      "MS.N 15\n",
      "1673\n",
      "MS.N 16\n",
      "2247\n",
      "MS.N 17\n",
      "3039\n",
      "MS.N 18\n",
      "1845\n",
      "HSBA.L 0\n",
      "1760\n",
      "HSBA.L 1\n",
      "4589\n",
      "HSBA.L 2\n",
      "3434\n",
      "HSBA.L 3\n",
      "2089\n",
      "HSBA.L 4\n",
      "2167\n",
      "HSBA.L 5\n",
      "2584\n",
      "HSBA.L 6\n",
      "1911\n",
      "HSBA.L 7\n",
      "2219\n",
      "HSBA.L 8\n",
      "2480\n",
      "HSBA.L 9\n",
      "1755\n",
      "HSBA.L 10\n",
      "2443\n",
      "HSBA.L 11\n",
      "1957\n",
      "HSBA.L 12\n",
      "2879\n",
      "HSBA.L 13\n",
      "2288\n",
      "HSBA.L 14\n",
      "1706\n",
      "HSBA.L 15\n",
      "1673\n",
      "HSBA.L 16\n",
      "2247\n",
      "HSBA.L 17\n",
      "3039\n",
      "HSBA.L 18\n",
      "1845\n",
      "YHOO.O 0\n",
      "1760\n",
      "YHOO.O 1\n",
      "4589\n",
      "YHOO.O 2\n",
      "3434\n",
      "YHOO.O 3\n",
      "2089\n",
      "YHOO.O 4\n",
      "2167\n",
      "YHOO.O 5\n",
      "2584\n",
      "YHOO.O 6\n",
      "1911\n",
      "YHOO.O 7\n",
      "2219\n",
      "YHOO.O 8\n",
      "2480\n",
      "YHOO.O 9\n",
      "1755\n",
      "YHOO.O 10\n",
      "2443\n",
      "YHOO.O 11\n",
      "1957\n",
      "YHOO.O 12\n",
      "2879\n",
      "YHOO.O 13\n",
      "2288\n",
      "YHOO.O 14\n",
      "1706\n",
      "YHOO.O 15\n",
      "1673\n",
      "YHOO.O 16\n",
      "2247\n",
      "YHOO.O 17\n",
      "3039\n",
      "YHOO.O 18\n",
      "1845\n",
      "LMT.N 0\n",
      "1760\n",
      "LMT.N 1\n",
      "4589\n",
      "LMT.N 2\n",
      "3434\n",
      "LMT.N 3\n",
      "2089\n",
      "LMT.N 4\n",
      "2167\n",
      "LMT.N 5\n",
      "2584\n",
      "LMT.N 6\n",
      "1911\n",
      "LMT.N 7\n",
      "2219\n",
      "LMT.N 8\n",
      "2480\n",
      "LMT.N 9\n",
      "1755\n",
      "LMT.N 10\n",
      "2443\n",
      "LMT.N 11\n",
      "1957\n",
      "LMT.N 12\n",
      "2879\n",
      "LMT.N 13\n",
      "2288\n",
      "LMT.N 14\n",
      "1706\n",
      "LMT.N 15\n",
      "1673\n",
      "LMT.N 16\n",
      "2247\n",
      "LMT.N 17\n",
      "3039\n",
      "LMT.N 18\n",
      "1845\n",
      "GD.N 0\n",
      "1760\n",
      "GD.N 1\n",
      "4589\n",
      "GD.N 2\n",
      "3434\n",
      "GD.N 3\n",
      "2089\n",
      "GD.N 4\n",
      "2167\n",
      "GD.N 5\n",
      "2584\n",
      "GD.N 6\n",
      "1911\n",
      "GD.N 7\n",
      "2219\n",
      "GD.N 8\n",
      "2480\n",
      "GD.N 9\n",
      "1755\n",
      "GD.N 10\n",
      "2443\n",
      "GD.N 11\n",
      "1957\n",
      "GD.N 12\n",
      "2879\n",
      "GD.N 13\n",
      "2288\n",
      "GD.N 14\n",
      "1706\n",
      "GD.N 15\n",
      "1673\n",
      "GD.N 16\n",
      "2247\n",
      "GD.N 17\n",
      "3039\n",
      "GD.N 18\n",
      "1845\n",
      "DBKGn.DE 0\n",
      "1760\n",
      "DBKGn.DE 1\n",
      "4589\n",
      "DBKGn.DE 2\n",
      "3434\n",
      "DBKGn.DE 3\n",
      "2089\n",
      "DBKGn.DE 4\n",
      "2167\n",
      "DBKGn.DE 5\n",
      "2584\n",
      "DBKGn.DE 6\n",
      "1911\n",
      "DBKGn.DE 7\n",
      "2219\n",
      "DBKGn.DE 8\n",
      "2480\n",
      "DBKGn.DE 9\n",
      "1755\n",
      "DBKGn.DE 10\n",
      "2443\n",
      "DBKGn.DE 11\n",
      "1957\n",
      "DBKGn.DE 12\n",
      "2879\n",
      "DBKGn.DE 13\n",
      "2288\n",
      "DBKGn.DE 14\n",
      "1706\n",
      "DBKGn.DE 15\n",
      "1673\n",
      "DBKGn.DE 16\n",
      "2247\n",
      "DBKGn.DE 17\n",
      "3039\n",
      "DBKGn.DE 18\n",
      "1845\n",
      "LMT 0\n",
      "1760\n",
      "LMT 1\n",
      "4589\n",
      "LMT 2\n",
      "3434\n",
      "LMT 3\n",
      "2089\n",
      "LMT 4\n",
      "2167\n",
      "LMT 5\n",
      "2584\n",
      "LMT 6\n",
      "1911\n",
      "LMT 7\n",
      "2219\n",
      "LMT 8\n",
      "2480\n",
      "LMT 9\n",
      "1755\n",
      "LMT 10\n",
      "2443\n",
      "LMT 11\n",
      "1957\n",
      "LMT 12\n",
      "2879\n",
      "LMT 13\n",
      "2288\n",
      "LMT 14\n",
      "1706\n",
      "LMT 15\n",
      "1673\n",
      "LMT 16\n",
      "2247\n",
      "LMT 17\n",
      "3039\n",
      "LMT 18\n",
      "1845\n",
      "C.N 0\n",
      "1760\n",
      "C.N 1\n",
      "4589\n",
      "C.N 2\n",
      "3434\n",
      "C.N 3\n",
      "2089\n",
      "C.N 4\n",
      "2167\n",
      "C.N 5\n",
      "2584\n",
      "C.N 6\n",
      "1911\n",
      "C.N 7\n",
      "2219\n",
      "C.N 8\n",
      "2480\n",
      "C.N 9\n",
      "1755\n",
      "C.N 10\n",
      "2443\n",
      "C.N 11\n",
      "1957\n",
      "C.N 12\n",
      "2879\n",
      "C.N 13\n",
      "2288\n",
      "C.N 14\n",
      "1706\n",
      "C.N 15\n",
      "1673\n",
      "C.N 16\n",
      "2247\n",
      "C.N 17\n",
      "3039\n",
      "C.N 18\n",
      "1845\n",
      "GS.N 0\n",
      "1760\n",
      "GS.N 1\n",
      "4589\n",
      "GS.N 2\n",
      "3434\n",
      "GS.N 3\n",
      "2089\n",
      "GS.N 4\n",
      "2167\n",
      "GS.N 5\n",
      "2584\n",
      "GS.N 6\n",
      "1911\n",
      "GS.N 7\n",
      "2219\n",
      "GS.N 8\n",
      "2480\n",
      "GS.N 9\n",
      "1755\n",
      "GS.N 10\n",
      "2443\n",
      "GS.N 11\n",
      "1957\n",
      "GS.N 12\n",
      "2879\n",
      "GS.N 13\n",
      "2288\n",
      "GS.N 14\n",
      "1706\n",
      "GS.N 15\n",
      "1673\n",
      "GS.N 16\n",
      "2247\n",
      "GS.N 17\n",
      "3039\n",
      "GS.N 18\n",
      "1845\n",
      "GOOG.OQ 0\n",
      "1760\n",
      "GOOG.OQ 1\n",
      "4589\n",
      "GOOG.OQ 2\n",
      "3434\n",
      "GOOG.OQ 3\n",
      "2089\n",
      "GOOG.OQ 4\n",
      "2167\n",
      "GOOG.OQ 5\n",
      "2584\n",
      "GOOG.OQ 6\n",
      "1911\n",
      "GOOG.OQ 7\n",
      "2219\n",
      "GOOG.OQ 8\n",
      "2480\n",
      "GOOG.OQ 9\n",
      "1755\n",
      "GOOG.OQ 10\n",
      "2443\n",
      "GOOG.OQ 11\n",
      "1957\n",
      "GOOG.OQ 12\n",
      "2879\n",
      "GOOG.OQ 13\n",
      "2288\n",
      "GOOG.OQ 14\n",
      "1706\n",
      "GOOG.OQ 15\n",
      "1673\n",
      "GOOG.OQ 16\n",
      "2247\n",
      "GOOG.OQ 17\n",
      "3039\n",
      "GOOG.OQ 18\n",
      "1845\n"
     ]
    }
   ],
   "source": [
    "print(\"#of models:\",_xr)\n",
    "print(\"for ticker:\", ticker)\n",
    "for symbol in symbols:\n",
    "    for _idx in xrange(0, _xr): #replace this w _xr\n",
    "        print symbol, _idx\n",
    "        y_duration = _data[_keys[_idx]].iloc[:, 3].dropna().astype(int).values\n",
    "        y_price = _data[_keys[_idx]].iloc[:, 1].dropna().astype(int).values #\n",
    "        print(len(y_price))"
   ]
  },
  {
   "cell_type": "code",
   "execution_count": null,
   "metadata": {
    "collapsed": true
   },
   "outputs": [],
   "source": [
    "[(symbol,_idx) for symbol in symbols for _idx in range(0, _xr)]\n"
   ]
  },
  {
   "cell_type": "code",
   "execution_count": null,
   "metadata": {
    "collapsed": true
   },
   "outputs": [],
   "source": []
  },
  {
   "cell_type": "raw",
   "metadata": {},
   "source": [
    "\n",
    "    # various types of labels\n",
    "    y_duration = _data[_keys[_idx]].iloc[:, 3].dropna().astype(int).values\n",
    "    y_price = _data[_keys[_idx]].iloc[:, 1].dropna().astype(int).values # can be used for regression\n",
    "\n",
    "  \n",
    "    \n",
    "    \n",
    "    y_=y_price\n",
    "    y_ = y_[off_set(y_,_df.dropna()):]\n",
    "    X= _df.dropna()\n",
    "    print _idx\n",
    "    print(len(X)==len(y_))\n",
    "    #print(np.any(np.isnan(X))) #and gets False\n",
    "    #print(np.isfinite(X.all())) #and gets True\n",
    "    print(np.all(np.isfinite(X)))\n",
    "    X_=np.array(X).astype(np.float64)\n",
    "    X_mms=mms.fit_transform(X_)\n",
    "   \n",
    "    \n",
    "    \n",
    "\n",
    "# #      #     # # Train a SVM classification model\n",
    "#     param_grid = dict(kernel=[\"rbf\"],C=[1,5,10,25,50],gamma=[0.0001,0.001,0.01])\n",
    "#     X_mms = X = mms.fit_transform(X.values)\n",
    "# #     X_train, X_test, y_train, y_test = train_test_split(X_mms, y, test_size=.3, random_state=0)\n",
    "\n",
    "#     clf = GridSearchCV(SVC(class_weight='balanced'), param_grid, verbose=1,n_jobs=-1,cv=5)\n",
    "\n",
    "#     clf.fit(X_train, y_train)\n",
    "#     y_predict = clf.predict(X_test)\n",
    "#     y_predict_train= clf.predict(X_train)\n",
    "# # # #     filename = _models_path + str(ticker) + '_' + str(_keys[_idx]) + '_clf' + '.joblib.pkl'\n",
    "# # # #     pickle.dump(clf, open(filename, 'wb'))\n",
    "#     print('SVM Best Params & Score:')\n",
    "#     print clf.best_reinfiocsportparams_, clf.best_score_\n",
    "# #     _clfs.append(clf)\n",
    "# #     clf_files = _models_path + str(ticker) + '_clfs_'  + '.pkl'\n",
    "# #     pickle.dump(_clfs, open(clf_files, 'wb'))\n",
    "#     print(\"#of models   left:\",_xr -_idx)    \n",
    "#     print('Accuracy: %.2f' % accuracy_score(y_test, y_predict))\n",
    "#     print('Precision: %.3f' % precision_score(y_true=y_test, y_pred=y_predict))\n",
    "# #     print('Recall: %.3f' % recall_score(y_true=y_test, y_pred=y_predict))\n",
    "# #     print('F1: %.3f' % f1_score(y_true=y_test, y_pred=y_predict))\n",
    "#     _model_results['test_accuracy'][_idx, :] = accuracy_score(y_test, y_predict)\n",
    "#     _model_results['test_recall'][_idx, :] = recall_score(y_true=y_test, y_pred=y_predict)\n",
    "#     _model_results['train_accuracy'][_idx, :] = accuracy_score(y_train, y_predict_train)\n",
    "#     _model_results['train_recall'][_idx, :] = recall_score(y_true=y_train, y_pred=y_predict_train)\n",
    "#     _model_results['test_F1'][_idx, :]=f1_score(y_true=y_test, y_pred=y_predict)\n",
    "    \n",
    "\n",
    "\n"
   ]
  },
  {
   "cell_type": "code",
   "execution_count": 22,
   "metadata": {
    "collapsed": true
   },
   "outputs": [],
   "source": [
    "# test_accuracy_=pd.DataFrame(_model_results['test_accuracy']).round(2)\n",
    "# train_accuracy_=pd.DataFrame(_model_results['train_accuracy']).round(2)\n",
    "\n",
    "%matplotlib inline\n",
    "import matplotlib.pyplot as plt\n",
    "\n",
    "%matplotlib inline\n",
    "import matplotlib.pyplot as plt\n",
    "T=1\n",
    "M=_xr\n",
    "_learning_results= {\n",
    "    'train_score': np.empty((M, T)),\n",
    "    'train_std': np.empty((M, T)),\n",
    "    'test_score': np.empty((M, T)),\n",
    "    'test_std': np.empty((M, T)),    \n",
    "}"
   ]
  },
  {
   "cell_type": "code",
   "execution_count": 23,
   "metadata": {},
   "outputs": [
    {
     "name": "stdout",
     "output_type": "stream",
     "text": [
      "('#of models:', 19)\n",
      "('for ticker:', 'MS.N')\n"
     ]
    }
   ],
   "source": [
    "from sklearn.model_selection import learning_curve\n",
    "from sklearn.model_selection import ShuffleSplit\n",
    "n_jobs=1\n",
    "\n",
    "print(\"#of models:\",_xr)\n",
    "print(\"for ticker:\", ticker)\n",
    "all_train_scores_mean=[]\n",
    "all_train_scores_std=[]\n",
    "all_test_scores_mean=[]\n",
    "all_test_scores_std=[]\n",
    "for _idx in xrange(0, _xr): #replace this w _xr\n",
    "    # various types of labels\n",
    "    y_cc = _data[_keys[_idx]].iloc[:, 6].dropna().astype(int).values  # label_simple_ep_window_5_thresh_0.00-last 4 are NaN\n",
    "    y_duration = _data[_keys[_idx]].iloc[:, 3].dropna().astype(int).values\n",
    "    y_price = _data[_keys[_idx]].iloc[:, 1].dropna().astype(int).values # can be used for regression\n",
    "\n",
    "    # feature set\n",
    "    _gamma = _features[_keys[_idx]][2]\n",
    "    _csi = _features[_keys[_idx]][3]\n",
    "    _info = _features[_keys[_idx]][1]\n",
    "    _fischer = _features[_keys[_idx]][0]\n",
    "    short_rolling = _data[_keys[_idx]]['TradedPrice'].rolling(window=5).mean()\n",
    "    long_rolling = _data[_keys[_idx]]['TradedPrice'].rolling(window=15).mean()\n",
    "    ma_signal = (long_rolling - short_rolling).fillna(0)\n",
    "    \n",
    "    df_features = pd.concat([_csi, _gamma, _fischer,_data[_keys[_idx]]['TradedPrice']], axis=1)\n",
    "    \n",
    "    df_features['MA_signal'] = df_features['TradedPrice'].rolling(window=15).mean()-df_features['TradedPrice'].rolling(window=5).mean()\n",
    "    df_features=df_features.dropna()\n",
    "        \n",
    "    \n",
    "    \n",
    "    y_ = y_cc\n",
    "    X, y = simpleInputs(df_features, y_)\n",
    "    X_p, y = simpleInputs(df_features['MA_signal'], y_)\n",
    "           \n",
    "    # # Train a SVM classification model\n",
    "\n",
    "    X_p= X_p.reshape(-1, 1)\n",
    "    X_mms = X = mms.fit_transform(X)\n",
    "    X,y = X_mms, y\n",
    "    \n",
    "    \n",
    "    # score curves, each time with 20% data randomly selected as a validation set.\n",
    "    train_sizes=np.linspace(.1, 1.0, 5)\n",
    "    title = str(ticker)+\" Learning Curves (SVM, RBF kernel, $\\gamma=0.001$)\"\n",
    "    # SVC is more expensive so we do a lower number of CV iterations:\n",
    "    cv = ShuffleSplit(n_splits=10, test_size=0.2, random_state=0)\n",
    "    \n",
    "    estimator = SVC(C=1.0, cache_size=200, class_weight='balanced', coef0=0.0,\n",
    "                    decision_function_shape='ovr', degree=3, gamma='auto', kernel='rbf',\n",
    "                    max_iter=-1, probability=False, random_state=None, shrinking=True,\n",
    "                    tol=0.001, verbose=False)\n",
    "    n_jobs=4\n",
    "    train_sizes, train_scores, test_scores = learning_curve(\n",
    "        estimator, X, y, cv=cv, n_jobs=n_jobs, train_sizes=train_sizes)\n",
    "    all_train_scores_mean.append(np.mean(train_scores, axis=1))\n",
    "    all_train_scores_std.append(np.std(train_scores, axis=1))\n",
    "    all_test_scores_mean.append(np.mean(test_scores, axis=1))\n",
    "    all_test_scores_std.append(np.std(test_scores, axis=1))"
   ]
  },
  {
   "cell_type": "code",
   "execution_count": 24,
   "metadata": {},
   "outputs": [
    {
     "data": {
      "image/png": "[encoded data removed]",
      "text/plain": [
       "<matplotlib.figure.Figure at 0x7f368a09b650>"
      ]
     },
     "metadata": {},
     "output_type": "display_data"
    }
   ],
   "source": [
    "all_train_scores_mean=np.array(all_train_scores_mean)\n",
    "all_test_scores_mean=np.array(all_test_scores_mean)\n",
    "\n",
    "_train_scores_std=all_train_scores_mean.std(axis=0)\n",
    "_train_scores_mean =all_train_scores_mean.mean(axis=0)\n",
    "\n",
    "_test_scores_std=all_test_scores_mean.std(axis=0)\n",
    "_test_scores_mean =all_test_scores_mean.mean(axis=0)\n",
    "plt.figure()\n",
    "title = str(ticker)+\" Learning Curves (SVM, RBF kernel, $\\gamma=0.001$)\"\n",
    "plt.title(title)\n",
    "ylim=None\n",
    "if ylim is not None:\n",
    "    plt.ylim(*ylim)\n",
    "plt.grid()\n",
    "plt.fill_between(train_sizes, _train_scores_mean - _train_scores_std,\n",
    "                     _train_scores_mean + _train_scores_std, alpha=0.2,\n",
    "                     color=\"r\")\n",
    "plt.fill_between(train_sizes, _test_scores_mean - _test_scores_std,\n",
    "                     _test_scores_mean + _test_scores_std, alpha=0.1,\n",
    "                     color=\"g\")\n",
    "plt.plot(train_sizes, _train_scores_mean, 'o-', color=\"r\",\n",
    "             label=\"Training score\")\n",
    "plt.plot(train_sizes, _test_scores_mean, 'o-', color=\"g\",\n",
    "             label=\"Cross-validation score\")\n",
    "plt.legend(loc=\"best\")\n",
    "plt.show()\n"
   ]
  },
  {
   "cell_type": "code",
   "execution_count": 26,
   "metadata": {},
   "outputs": [
    {
     "data": {
      "text/plain": [
       "array([ 18.29999168,  37.81843111,  42.32954981,  40.20332221,  41.15157998])"
      ]
     },
     "execution_count": 26,
     "metadata": {},
     "output_type": "execute_result"
    }
   ],
   "source": [
    "_train_scores_mean/_train_scores_std"
   ]
  },
  {
   "cell_type": "code",
   "execution_count": 27,
   "metadata": {},
   "outputs": [
    {
     "data": {
      "text/plain": [
       "array([ 13.91705739,  29.81358021,  37.16791509,  38.10803673,  38.39507431])"
      ]
     },
     "execution_count": 27,
     "metadata": {},
     "output_type": "execute_result"
    }
   ],
   "source": [
    "_test_scores_mean/_test_scores_std"
   ]
  },
  {
   "cell_type": "code",
   "execution_count": 38,
   "metadata": {
    "collapsed": true
   },
   "outputs": [],
   "source": [
    "lasso = OneVsRestClassifier(Lasso())\n",
    "param_lasso = {'estimator__alpha': [100, 10, 1, 0.1, 1e-2, 1e-3]}\n",
    "\n",
    "elastic = OneVsRestClassifier(ElasticNet())\n",
    "param_elastic = {'estimator__alpha': [100, 10, 1, 0.1, 1e-2, 1e-3], \n",
    "                 'estimator__l1_ratio': np.linspace(0.01, 0.99, 5)}\n",
    "\n",
    "ridge = RidgeClassifier(solver='lsqr')\n",
    "param_ridge = {'alpha': [100, 10, 1, 0.1, 1e-2, 1e-3]}\n",
    "\n",
    "huber = OneVsRestClassifier(HuberSVC())\n",
    "param_huber = {'estimator__C': [100, 10, 1, 0.1, 1e-2, 1e-3], \n",
    "              'estimator__lambd': [100, 10, 1, 0.1, 1e-2, 1e-3], \n",
    "              'estimator__mu': [100, 10, 1, 0.1, 1e-2, 1e-3]}\n",
    "\n",
    "param_lr = {\n",
    "        'C':  np.arange(1.0, 3.0)\n",
    "         , 'solver': ['newton-cg']\n",
    "    }\n",
    "lr_clf = LogisticRegression(penalty='l2', random_state=777, max_iter=10000, tol=10)\n",
    "\n",
    "param_svc = dict(kernel=[\"linear\",\"rbf\"],C=[1,5,10,25,50],gamma=[0.0001,0.001,0.01])\n",
    "svc_clf = svm.SVC(class_weight='balanced')\n",
    "###see if the below works###\n",
    "n_folds = 5\n",
    "param_folds = 3\n",
    "scoring = 'accuracy'"
   ]
  },
  {
   "cell_type": "code",
   "execution_count": 44,
   "metadata": {},
   "outputs": [
    {
     "data": {
      "text/plain": [
       "(1826,)"
      ]
     },
     "execution_count": 44,
     "metadata": {},
     "output_type": "execute_result"
    }
   ],
   "source": [
    "np.shape(X_mms)\n",
    "np.shape(y)"
   ]
  },
  {
   "cell_type": "markdown",
   "metadata": {},
   "source": [
    "result_df = pd.DataFrame()\n",
    "best_clfs=[]\n",
    "for i, (train_index, test_index) in enumerate(StratifiedKFold(y, n_folds=n_folds)):\n",
    "    for clf_name, clf, param_grid in [('Lasso', lasso, param_lasso), \n",
    "                                      ('ElasticNet', elastic, param_elastic), \n",
    "                                      ('Ridge', ridge, param_ridge),\n",
    "                                      ('Logistic', lr_clf, param_lr),\n",
    "                                      ('SVC',svc_clf, param_svc),\n",
    "                                      ('HuberSVC', huber, param_huber)]:\n",
    "        X=X_mms\n",
    "        \n",
    "        gs = GridSearchCV(clf, param_grid, scoring=scoring, cv=param_folds, n_jobs=-1, refit='AUC')\n",
    "        gs.fit(X[train_index], y[train_index])\n",
    "        best_clf = gs.best_estimator_\n",
    "        best_clfs.append(best_clf)\n",
    "\n",
    "        score = accuracy_score(y[test_index], best_clf.predict(X[test_index]))\n",
    "        result_df.loc[i, clf_name] = score"
   ]
  },
  {
   "cell_type": "code",
   "execution_count": 40,
   "metadata": {},
   "outputs": [
    {
     "ename": "NameError",
     "evalue": "name 'clf' is not defined",
     "output_type": "error",
     "traceback": [
      "\u001b[0;31m----------------------------------\u001b[0m",
      "\u001b[0;31mNameError\u001b[0mTraceback (most recent call last)",
      "\u001b[0;32m<ipython-input-40-5bee7c0ffe3c>\u001b[0m in \u001b[0;36m<module>\u001b[0;34m()\u001b[0m\n\u001b[1;32m      1\u001b[0m \u001b[0mX\u001b[0m\u001b[0;34m=\u001b[0m\u001b[0mX_mms\u001b[0m\u001b[0;34m\u001b[0m\u001b[0m\n\u001b[0;32m----> 2\u001b[0;31m \u001b[0mgs\u001b[0m \u001b[0;34m=\u001b[0m \u001b[0mGridSearchCV\u001b[0m\u001b[0;34m(\u001b[0m\u001b[0mclf\u001b[0m\u001b[0;34m,\u001b[0m \u001b[0mparam_grid\u001b[0m\u001b[0;34m,\u001b[0m \u001b[0mscoring\u001b[0m\u001b[0;34m=\u001b[0m\u001b[0mscoring\u001b[0m\u001b[0;34m,\u001b[0m \u001b[0mcv\u001b[0m\u001b[0;34m=\u001b[0m\u001b[0mparam_folds\u001b[0m\u001b[0;34m,\u001b[0m \u001b[0mn_jobs\u001b[0m\u001b[0;34m=\u001b[0m\u001b[0;34m-\u001b[0m\u001b[0;36m1\u001b[0m\u001b[0;34m,\u001b[0m \u001b[0mrefit\u001b[0m\u001b[0;34m=\u001b[0m\u001b[0;34m'AUC'\u001b[0m\u001b[0;34m)\u001b[0m\u001b[0;34m\u001b[0m\u001b[0m\n\u001b[0m\u001b[1;32m      3\u001b[0m \u001b[0mgs\u001b[0m\u001b[0;34m.\u001b[0m\u001b[0mfit\u001b[0m\u001b[0;34m(\u001b[0m\u001b[0mX\u001b[0m\u001b[0;34m[\u001b[0m\u001b[0mtrain_index\u001b[0m\u001b[0;34m]\u001b[0m\u001b[0;34m,\u001b[0m \u001b[0my\u001b[0m\u001b[0;34m[\u001b[0m\u001b[0mtrain_index\u001b[0m\u001b[0;34m]\u001b[0m\u001b[0;34m)\u001b[0m\u001b[0;34m\u001b[0m\u001b[0m\n",
      "\u001b[0;31mNameError\u001b[0m: name 'clf' is not defined"
     ]
    }
   ],
   "source": [
    "X=X_mms\n",
    "gs = GridSearchCV(clf, param_grid, scoring=scoring, cv=param_folds, n_jobs=-1, refit='AUC')\n",
    "gs.fit(X[train_index], y[train_index])"
   ]
  },
  {
   "cell_type": "code",
   "execution_count": 45,
   "metadata": {},
   "outputs": [
    {
     "ename": "TypeError",
     "evalue": "__init__() got an unexpected keyword argument 'n_folds'",
     "output_type": "error",
     "traceback": [
      "\u001b[0;31m----------------------------------\u001b[0m",
      "\u001b[0;31mTypeError\u001b[0mTraceback (most recent call last)",
      "\u001b[0;32m<ipython-input-45-78ae32ced170>\u001b[0m in \u001b[0;36m<module>\u001b[0;34m()\u001b[0m\n\u001b[1;32m      2\u001b[0m \u001b[0mX\u001b[0m\u001b[0;34m=\u001b[0m\u001b[0mX_mms\u001b[0m\u001b[0;34m\u001b[0m\u001b[0m\n\u001b[1;32m      3\u001b[0m \u001b[0;34m\u001b[0m\u001b[0m\n\u001b[0;32m----> 4\u001b[0;31m \u001b[0;32mfor\u001b[0m \u001b[0mi\u001b[0m\u001b[0;34m,\u001b[0m \u001b[0;34m(\u001b[0m\u001b[0mtrain_index\u001b[0m\u001b[0;34m,\u001b[0m \u001b[0mtest_index\u001b[0m\u001b[0;34m)\u001b[0m \u001b[0;32min\u001b[0m \u001b[0menumerate\u001b[0m\u001b[0;34m(\u001b[0m\u001b[0mStratifiedKFold\u001b[0m\u001b[0;34m(\u001b[0m\u001b[0my\u001b[0m\u001b[0;34m,\u001b[0m \u001b[0mn_folds\u001b[0m\u001b[0;34m=\u001b[0m\u001b[0mn_folds\u001b[0m\u001b[0;34m)\u001b[0m\u001b[0;34m)\u001b[0m\u001b[0;34m:\u001b[0m\u001b[0;34m\u001b[0m\u001b[0m\n\u001b[0m\u001b[1;32m      5\u001b[0m     for clf_name, clf, param_grid in [('Lasso', lasso, param_lasso), \n\u001b[1;32m      6\u001b[0m                                       \u001b[0;34m(\u001b[0m\u001b[0;34m'ElasticNet'\u001b[0m\u001b[0;34m,\u001b[0m \u001b[0melastic\u001b[0m\u001b[0;34m,\u001b[0m \u001b[0mparam_elastic\u001b[0m\u001b[0;34m)\u001b[0m\u001b[0;34m,\u001b[0m\u001b[0;34m\u001b[0m\u001b[0m\n",
      "\u001b[0;31mTypeError\u001b[0m: __init__() got an unexpected keyword argument 'n_folds'"
     ]
    }
   ],
   "source": [
    "result_df = pd.DataFrame()\n",
    "X=X_mms\n",
    "\n",
    "cv=StratifiedKFold(n_splits=n_folds)\n",
    "for i, (train_index, test_index) in enumerate(cv.split(X,y)):\n",
    "    for clf_name, clf, param_grid in [('Lasso', lasso, param_lasso), \n",
    "                                      ('ElasticNet', elastic, param_elastic), \n",
    "                                      ('Ridge', ridge, param_ridge), \n",
    "                                      ('HuberSVC', huber, param_huber)]:\n",
    "\n",
    "        gs = GridSearchCV(clf, param_grid, scoring=scoring, cv=param_folds, n_jobs=-1)\n",
    "        gs.fit(X[train_index], y[train_index])\n",
    "        best_clf = gs.best_estimator_\n",
    "\n",
    "        score = accuracy_score(y[test_index], best_clf.predict(X[test_index]))\n",
    "        result_df.loc[i, clf_name] = score"
   ]
  },
  {
   "cell_type": "code",
   "execution_count": null,
   "metadata": {
    "collapsed": true
   },
   "outputs": [],
   "source": []
  }
 ],
 "metadata": {
  "kernelspec": {
   "display_name": "Python 2",
   "language": "python",
   "name": "python2"
  },
  "language_info": {
   "codemirror_mode": {
    "name": "ipython",
    "version": 2
   },
   "file_extension": ".py",
   "mimetype": "text/x-python",
   "name": "python",
   "nbconvert_exporter": "python",
   "pygments_lexer": "ipython2",
   "version": "2.7.12+"
  }
 },
 "nbformat": 4,
 "nbformat_minor": 2
}
