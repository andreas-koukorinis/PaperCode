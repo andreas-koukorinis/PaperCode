{
 "cells": [
  {
   "cell_type": "code",
   "execution_count": 21,
   "id": "acb2f67a",
   "metadata": {},
   "outputs": [],
   "source": [
    "import pandas as pd\n",
    "import os\n",
    "import numpy\n"
   ]
  },
  {
   "cell_type": "code",
   "execution_count": 5,
   "id": "561960d1",
   "metadata": {},
   "outputs": [],
   "source": [
    "informationClockFiles = '/media/ak/T7/August11th2022Experiments/InfoClockDataFrames'"
   ]
  },
  {
   "cell_type": "code",
   "execution_count": 9,
   "id": "b868b10b",
   "metadata": {},
   "outputs": [],
   "source": [
    "symbols = sorted(os.listdir(informationClockFiles))"
   ]
  },
  {
   "cell_type": "markdown",
   "id": "4eb82149",
   "metadata": {},
   "source": [
    "# examining symbols"
   ]
  },
  {
   "cell_type": "code",
   "execution_count": 228,
   "id": "52f53b81",
   "metadata": {},
   "outputs": [
    {
     "name": "stdout",
     "output_type": "stream",
     "text": [
      "all the work is for symbol: YM1\n"
     ]
    }
   ],
   "source": [
    "symbolIdx = 12\n",
    "print('all the work is for symbol:', symbols[symbolIdx])\n",
    "symbolIdxFolder = os.path.join(informationClockFiles, symbols[symbolIdx])\n",
    "symbolIdxFiles = [f for f in os.listdir(symbolIdxFolder) ]\n",
    "bar_choice = 'volume'\n",
    "barChoiceSymbolIdxFiles = sorted([f for f in symbolIdxFiles if str(bar_choice) in f])"
   ]
  },
  {
   "cell_type": "code",
   "execution_count": 229,
   "id": "bdc7a9e4",
   "metadata": {},
   "outputs": [
    {
     "name": "stdout",
     "output_type": "stream",
     "text": [
      "This is how many files for 0 for bar: volume\n"
     ]
    }
   ],
   "source": [
    "print('This is how many files for',len(barChoiceSymbolIdxFiles), 'for bar:', str(bar_choice))"
   ]
  },
  {
   "cell_type": "code",
   "execution_count": 234,
   "id": "559e154f",
   "metadata": {},
   "outputs": [
    {
     "ename": "IndexError",
     "evalue": "list index out of range",
     "output_type": "error",
     "traceback": [
      "\u001b[0;31m---------------------------------------------------------------------------\u001b[0m",
      "\u001b[0;31mIndexError\u001b[0m                                Traceback (most recent call last)",
      "\u001b[0;32m/tmp/ipykernel_12124/777190797.py\u001b[0m in \u001b[0;36m<module>\u001b[0;34m\u001b[0m\n\u001b[1;32m      1\u001b[0m \u001b[0mfileIdx\u001b[0m \u001b[0;34m=\u001b[0m \u001b[0;36m0\u001b[0m\u001b[0;34m\u001b[0m\u001b[0;34m\u001b[0m\u001b[0m\n\u001b[0;32m----> 2\u001b[0;31m \u001b[0mfileLoc\u001b[0m\u001b[0;34m=\u001b[0m \u001b[0mos\u001b[0m\u001b[0;34m.\u001b[0m\u001b[0mpath\u001b[0m\u001b[0;34m.\u001b[0m\u001b[0mjoin\u001b[0m\u001b[0;34m(\u001b[0m\u001b[0msymbolIdxFolder\u001b[0m\u001b[0;34m,\u001b[0m \u001b[0mbarChoiceSymbolIdxFiles\u001b[0m\u001b[0;34m[\u001b[0m\u001b[0mfileIdx\u001b[0m\u001b[0;34m]\u001b[0m\u001b[0;34m)\u001b[0m\u001b[0;34m\u001b[0m\u001b[0;34m\u001b[0m\u001b[0m\n\u001b[0m",
      "\u001b[0;31mIndexError\u001b[0m: list index out of range"
     ]
    }
   ],
   "source": [
    "fileIdx = 0\n",
    "fileLoc= os.path.join(symbolIdxFolder, barChoiceSymbolIdxFiles[fileIdx])"
   ]
  },
  {
   "cell_type": "code",
   "execution_count": 231,
   "id": "5c05d4a3",
   "metadata": {},
   "outputs": [],
   "source": [
    "loadedDict = pd.read_pickle(fileLoc)\n",
    "keys = list(loadedDict.keys())\n",
    "mfdfaLoadedDict = loadedDict[str(bar_choice)]\n",
    "mfdfa_keys = ['n_F', 'list_H', 'list_H_intercept', 'tau', 'alpha', 'mfSpect']"
   ]
  },
  {
   "cell_type": "code",
   "execution_count": 232,
   "id": "c3d38130",
   "metadata": {},
   "outputs": [
    {
     "data": {
      "text/plain": [
       "array([-3.52852782e+00, -3.43464774e+00, -3.34112596e+00, -3.24799532e+00,\n",
       "       -3.15529262e+00, -3.06305907e+00, -2.97134057e+00, -2.88018753e+00,\n",
       "       -2.78965399e+00, -2.69979588e+00, -2.61066828e+00, -2.52232203e+00,\n",
       "       -2.43480004e+00, -2.34813401e+00, -2.26234227e+00, -2.17742907e+00,\n",
       "       -2.09338562e+00, -2.01019248e+00, -1.92782304e+00, -1.84624743e+00,\n",
       "       -1.76543657e+00, -1.68536605e+00, -1.60601958e+00, -1.52739207e+00,\n",
       "       -1.44949211e+00, -1.37234400e+00, -1.29598934e+00, -1.22048822e+00,\n",
       "       -1.14592009e+00, -1.07238425e+00, -1.00000000e+00, -9.28906399e-01,\n",
       "       -8.59261379e-01, -7.91240138e-01, -7.25032565e-01, -6.60839464e-01,\n",
       "       -5.98867381e-01, -5.39321898e-01, -4.82399354e-01, -4.28277163e-01,\n",
       "       -3.77103106e-01, -3.28984333e-01, -2.83977094e-01, -2.42078555e-01,\n",
       "       -2.03222156e-01, -1.67277796e-01, -1.34057493e-01, -1.03326227e-01,\n",
       "       -7.48165869e-02, -4.82450681e-02, -2.33276805e-02,  2.07022483e-04,\n",
       "        2.26085551e-02,  4.40989277e-02,  6.48704101e-02,  8.50858223e-02,\n",
       "        1.04880487e-01,  1.24365100e-01,  1.43628970e-01,  1.62743241e-01,\n",
       "        1.81763904e-01,  2.00734468e-01,  2.19688278e-01,  2.38650461e-01,\n",
       "        2.57639561e-01,  2.76668871e-01,  2.95747531e-01,  3.14881414e-01,\n",
       "        3.34073842e-01,  3.53326162e-01])"
      ]
     },
     "execution_count": 232,
     "metadata": {},
     "output_type": "execute_result"
    }
   ],
   "source": [
    "mfdfaLoadedDict['tau']"
   ]
  },
  {
   "cell_type": "code",
   "execution_count": 233,
   "id": "48bf36a2",
   "metadata": {},
   "outputs": [
    {
     "data": {
      "text/plain": [
       "['micro_price_change',\n",
       " 'arrival_rates',\n",
       " 'gk_vol',\n",
       " 'median_traded_volume',\n",
       " 'volume']"
      ]
     },
     "execution_count": 233,
     "metadata": {},
     "output_type": "execute_result"
    }
   ],
   "source": [
    "keys"
   ]
  },
  {
   "cell_type": "code",
   "execution_count": 235,
   "id": "2a1f03ce",
   "metadata": {},
   "outputs": [],
   "source": [
    "\n",
    "# len = unpickled_Df.shape[1]\n",
    "# print(len)\n",
    "# test_results_one_dict = defaultdict(dict)\n",
    "# test_results_two_dict = defaultdict(dict)\n",
    "\n",
    "# if __name__ == '__main__':\n",
    "#     if __name__ == '__main__':\n",
    "#         shift = 1\n",
    "#         window = 5  # slide\n",
    "#         for start_point in range(0, (len - window - shift)):\n",
    "#             end_point = start_point + shift\n",
    "\n",
    "#             X = np.array(unpickled_Df.iloc[:, start_point:end_point])\n",
    "#             Y = np.array(unpickled_Df.iloc[:, end_point + shift:end_point + 2 * shift])\n",
    "#             Z = np.array(unpickled_Df.iloc[:, start_point + window:end_point + window])\n",
    "\n",
    "#             data_sample = data.TSTData(X, Y)  # data to train the model\n",
    "#             test_data_one = data_sample = data.TSTData(X, Z)\n",
    "#             test_data_two = data_sample = data.TSTData(Y, Z)"
   ]
  },
  {
   "cell_type": "code",
   "execution_count": null,
   "id": "0e0b7e5a",
   "metadata": {},
   "outputs": [],
   "source": []
  }
 ],
 "metadata": {
  "kernelspec": {
   "display_name": "Python [conda env:timeSeries] *",
   "language": "python",
   "name": "conda-env-timeSeries-py"
  },
  "language_info": {
   "codemirror_mode": {
    "name": "ipython",
    "version": 3
   },
   "file_extension": ".py",
   "mimetype": "text/x-python",
   "name": "python",
   "nbconvert_exporter": "python",
   "pygments_lexer": "ipython3",
   "version": "3.7.12"
  }
 },
 "nbformat": 4,
 "nbformat_minor": 5
}
