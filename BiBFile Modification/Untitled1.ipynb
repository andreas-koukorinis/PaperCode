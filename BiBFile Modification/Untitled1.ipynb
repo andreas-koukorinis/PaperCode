{
 "cells": [
  {
   "cell_type": "code",
   "execution_count": 3,
   "id": "8d7d05d6",
   "metadata": {},
   "outputs": [],
   "source": [
    "import biblib.bib\n",
    "import os\n",
    "import glob\n",
    "from pybtex.database import parse_file\n",
    "import bibtexparser\n"
   ]
  },
  {
   "cell_type": "code",
   "execution_count": 2,
   "id": "38b96a4b",
   "metadata": {},
   "outputs": [
    {
     "name": "stdout",
     "output_type": "stream",
     "text": [
      "Collecting pybtex\n",
      "  Using cached pybtex-0.24.0-py2.py3-none-any.whl (561 kB)\n",
      "Requirement already satisfied: six in /home/ak/anaconda3/envs/timeSeries/lib/python3.7/site-packages (from pybtex) (1.16.0)\n",
      "Requirement already satisfied: PyYAML>=3.01 in /home/ak/anaconda3/envs/timeSeries/lib/python3.7/site-packages (from pybtex) (6.0)\n",
      "Collecting latexcodec>=1.0.4\n",
      "  Using cached latexcodec-2.0.1-py2.py3-none-any.whl (18 kB)\n",
      "Installing collected packages: latexcodec, pybtex\n",
      "Successfully installed latexcodec-2.0.1 pybtex-0.24.0\n"
     ]
    }
   ],
   "source": []
  },
  {
   "cell_type": "code",
   "execution_count": null,
   "id": "2d3f9fbf",
   "metadata": {},
   "outputs": [],
   "source": []
  }
 ],
 "metadata": {
  "kernelspec": {
   "display_name": "Python [conda env:timeSeries] *",
   "language": "python",
   "name": "conda-env-timeSeries-py"
  },
  "language_info": {
   "codemirror_mode": {
    "name": "ipython",
    "version": 3
   },
   "file_extension": ".py",
   "mimetype": "text/x-python",
   "name": "python",
   "nbconvert_exporter": "python",
   "pygments_lexer": "ipython3",
   "version": "3.7.12"
  }
 },
 "nbformat": 4,
 "nbformat_minor": 5
}
