{
 "cells": [
  {
   "cell_type": "code",
   "execution_count": 1,
   "metadata": {},
   "outputs": [],
   "source": [
    "import pickle as pkl\n",
    "import pandas as pd\n",
    "import os\n",
    "import matplotlib.pyplot as plt\n",
    "%matplotlib inline\n",
    "import seaborn as sns"
   ]
  },
  {
   "cell_type": "code",
   "execution_count": 2,
   "metadata": {},
   "outputs": [],
   "source": [
    "tempFolder = '/home/ak/Documents/Research/temp/'\n",
    "pickleFiles = [s for s in os.listdir(tempFolder) if \".pkl\" in s]\n",
    "destinationFolder = '/home/ak/Documents/Research/Papers/figures/'"
   ]
  },
  {
   "cell_type": "code",
   "execution_count": 3,
   "metadata": {},
   "outputs": [],
   "source": [
    "symbols = [pickleFiles[s].split(\".\")[0] for s in range(len(pickleFiles))]\n",
    "symbolsSet = list(set(symbols))"
   ]
  },
  {
   "cell_type": "code",
   "execution_count": 4,
   "metadata": {},
   "outputs": [
    {
     "data": {
      "text/plain": [
       "['CPG',\n",
       " 'BLT',\n",
       " 'CCL',\n",
       " 'APF',\n",
       " 'SHP',\n",
       " 'AAL',\n",
       " 'CNA',\n",
       " 'RDSb',\n",
       " 'RSA',\n",
       " 'RTO',\n",
       " 'BARC',\n",
       " 'LAND',\n",
       " 'PSON',\n",
       " 'AZN']"
      ]
     },
     "execution_count": 4,
     "metadata": {},
     "output_type": "execute_result"
    }
   ],
   "source": [
    "symbolsSet\n"
   ]
  },
  {
   "cell_type": "code",
   "execution_count": 5,
   "metadata": {},
   "outputs": [],
   "source": [
    "mklf1score=dict()\n",
    "avgf1score=dict()\n",
    "testaccuracyMKL =dict()\n",
    "testaccuracyAVG =dict()\n",
    "tprDictMKL = dict()\n",
    "fprDictMKL = dict()\n",
    "aucDictMKL = dict()\n",
    "tprDictAVG = dict()\n",
    "fprDictAVG = dict()\n",
    "aucDictAVG = dict()\n",
    "\n",
    "#read all the symbols and extract the Average Kernel and MKL performance\n",
    "\n",
    "for symbolidx, _ in enumerate(symbolsSet):\n",
    "    pickleFileSymbolAvg = \"\".join((tempFolder,\"\".join((symbolsSet[symbolidx],'.L_one_day_ahead_average_kernel_results.pkl'))))\n",
    "    pickleFileSymbolMKL = \"\".join((tempFolder,\"\".join((symbolsSet[symbolidx],'.L_one_day_ahead_multiple_kernel_results.pkl'))))\n",
    "    mklfile = pkl.load(open(pickleFileSymbolMKL, \"rb\"), encoding='latin1')\n",
    "    avgfile = pkl.load(open(pickleFileSymbolAvg, \"rb\"), encoding='latin1')\n",
    "    \n",
    "    mklf1score[symbolsSet[symbolidx]] =mklfile['f1_score']\n",
    "    avgf1score[symbolsSet[symbolidx]] =avgfile['f1_score']\n",
    "    testaccuracyAVG[symbolsSet[symbolidx]] =avgfile['test_accuracy']\n",
    "    testaccuracyMKL[symbolsSet[symbolidx]] =mklfile['test_accuracy']\n",
    "    tprDictMKL[symbolsSet[symbolidx]] =mklfile['tpr']\n",
    "    fprDictMKL[symbolsSet[symbolidx]] =mklfile['fpr']\n",
    "    tprDictAVG[symbolsSet[symbolidx]] =avgfile['tpr']\n",
    "    fprDictAVG[symbolsSet[symbolidx]] =avgfile['fpr']\n",
    "\n",
    "outputList = [mklf1score, avgf1score, testaccuracyMKL, tprDictMKL, tprDictAVG, fprDictMKL, fprDictAVG]\n",
    "    \n",
    "                           "
   ]
  },
  {
   "cell_type": "code",
   "execution_count": null,
   "metadata": {},
   "outputs": [],
   "source": []
  },
  {
   "cell_type": "code",
   "execution_count": 6,
   "metadata": {},
   "outputs": [
    {
     "name": "stdout",
     "output_type": "stream",
     "text": [
      "CPG 758\n",
      "BLT 22\n",
      "CCL 182\n",
      "APF 1900\n",
      "SHP 67\n",
      "AAL 210\n",
      "CNA 32\n",
      "RDSb 1162\n",
      "RSA 2180\n",
      "RTO 2279\n",
      "BARC 67\n",
      "LAND 2460\n",
      "PSON 665\n",
      "AZN 1416\n"
     ]
    }
   ],
   "source": [
    "for symbol in symbolsSet:\n",
    "    \n",
    "    print(symbol, len(tprDictMKL[symbol]))"
   ]
  },
  {
   "cell_type": "code",
   "execution_count": 7,
   "metadata": {},
   "outputs": [],
   "source": [
    "idx = mklf1score.keys()\n"
   ]
  },
  {
   "cell_type": "code",
   "execution_count": 8,
   "metadata": {},
   "outputs": [],
   "source": [
    "\n",
    "target = outputList[5]\n",
    "df = pd.concat([pd.Series(target[i]) for i in idx], axis=1).T\n",
    "df.index = idx"
   ]
  },
  {
   "cell_type": "code",
   "execution_count": 9,
   "metadata": {},
   "outputs": [],
   "source": [
    "keys=list(target.keys())"
   ]
  },
  {
   "cell_type": "code",
   "execution_count": 10,
   "metadata": {},
   "outputs": [],
   "source": [
    "import numpy as np\n",
    "lst=list(target[keys[1]])"
   ]
  },
  {
   "cell_type": "code",
   "execution_count": null,
   "metadata": {},
   "outputs": [],
   "source": []
  },
  {
   "cell_type": "code",
   "execution_count": 11,
   "metadata": {},
   "outputs": [],
   "source": [
    "#pd.DataFrame(list(map(np.ravel, lst))).T #converting list of arrays to dataframe"
   ]
  },
  {
   "cell_type": "code",
   "execution_count": 12,
   "metadata": {},
   "outputs": [],
   "source": [
    "#need to extract the name somehow"
   ]
  },
  {
   "cell_type": "code",
   "execution_count": 13,
   "metadata": {},
   "outputs": [
    {
     "name": "stdout",
     "output_type": "stream",
     "text": [
      "CCL\n"
     ]
    }
   ],
   "source": [
    "f1scores =dict()\n",
    "testaccuracy =dict()\n",
    "\n",
    "pklidx=1\n",
    "mklResults = \"\".join((tempFolder,pickleFiles[1]))\n",
    "avgResults = \"\".join((tempFolder,pickleFiles[0]))\n",
    "print(pickleFiles[pklidx].split(\".\")[0])"
   ]
  },
  {
   "cell_type": "code",
   "execution_count": 14,
   "metadata": {},
   "outputs": [
    {
     "data": {
      "text/plain": [
       "['CPG',\n",
       " 'BLT',\n",
       " 'CCL',\n",
       " 'APF',\n",
       " 'SHP',\n",
       " 'AAL',\n",
       " 'CNA',\n",
       " 'RDSb',\n",
       " 'RSA',\n",
       " 'RTO',\n",
       " 'BARC',\n",
       " 'LAND',\n",
       " 'PSON',\n",
       " 'AZN']"
      ]
     },
     "execution_count": 14,
     "metadata": {},
     "output_type": "execute_result"
    }
   ],
   "source": [
    "symbolsSet"
   ]
  },
  {
   "cell_type": "code",
   "execution_count": 15,
   "metadata": {},
   "outputs": [],
   "source": [
    "testAccuracyMKL = pd.DataFrame.from_dict(testaccuracyMKL, orient='index')\n",
    "testAccuracyAVG = pd.DataFrame.from_dict(testaccuracyAVG, orient='index')\n",
    "f1scoreMKL = pd.DataFrame.from_dict(mklf1score, orient='index')\n",
    "f1scoreAVG = pd.DataFrame.from_dict(avgf1score, orient='index')\n",
    "\n"
   ]
  },
  {
   "cell_type": "code",
   "execution_count": 16,
   "metadata": {},
   "outputs": [
    {
     "data": {
      "text/plain": [
       "CPG     0.912585\n",
       "BLT     0.971205\n",
       "CCL     0.817882\n",
       "APF     0.586957\n",
       "SHP     0.976471\n",
       "AAL     0.971774\n",
       "CNA     0.975804\n",
       "RDSb    0.994061\n",
       "RSA     0.850386\n",
       "RTO     0.902513\n",
       "BARC    0.961023\n",
       "LAND    0.843543\n",
       "PSON    0.880038\n",
       "AZN     0.968639\n",
       "dtype: float64"
      ]
     },
     "execution_count": 16,
     "metadata": {},
     "output_type": "execute_result"
    }
   ],
   "source": [
    "testAccuracyAVG.median(axis=1)"
   ]
  },
  {
   "cell_type": "code",
   "execution_count": 17,
   "metadata": {},
   "outputs": [
    {
     "data": {
      "text/plain": [
       "CPG     0.834470\n",
       "BLT     0.748735\n",
       "CCL     0.762658\n",
       "APF     0.652174\n",
       "SHP     0.805069\n",
       "AAL     0.612554\n",
       "CNA     0.924739\n",
       "RDSb    0.940630\n",
       "RSA     0.781206\n",
       "RTO     0.693288\n",
       "BARC    0.795665\n",
       "LAND    0.742212\n",
       "PSON    0.806971\n",
       "AZN     0.957091\n",
       "dtype: float64"
      ]
     },
     "execution_count": 17,
     "metadata": {},
     "output_type": "execute_result"
    }
   ],
   "source": [
    "testAccuracyMKL.median(axis=1)"
   ]
  },
  {
   "cell_type": "code",
   "execution_count": 18,
   "metadata": {},
   "outputs": [
    {
     "data": {
      "text/plain": [
       "CPG     0.630653\n",
       "BLT     0.666362\n",
       "CCL     0.586675\n",
       "APF     1.000000\n",
       "SHP     0.628863\n",
       "AAL     0.562802\n",
       "CNA     0.638689\n",
       "RDSb    0.699101\n",
       "RSA     0.637941\n",
       "RTO     0.562813\n",
       "BARC    0.661761\n",
       "LAND    0.584655\n",
       "PSON    0.525436\n",
       "AZN     0.741437\n",
       "dtype: float64"
      ]
     },
     "execution_count": 18,
     "metadata": {},
     "output_type": "execute_result"
    }
   ],
   "source": [
    "f1scoreAVG.median(axis=1)"
   ]
  },
  {
   "cell_type": "code",
   "execution_count": 19,
   "metadata": {},
   "outputs": [],
   "source": [
    "F1ScoreTable = pd.DataFrame(columns=['median','StDev','Average'])\n",
    "F1ScoreTable['median'] = f1scoreAVG.median(axis=1).round(2)\n",
    "F1ScoreTable['StDev'] = f1scoreAVG.std(axis=1).round(2)\n",
    "\n",
    "def LatexTable(df, resultsDf):\n",
    "    df['Median']= resultsDf.median(axis=1).round(2)\n",
    "    df['Average'] =resultsDf.mean(axis=1).round(2)\n",
    "    df['St.Dev'] =resultsDf.std(axis=1).round(2)\n",
    "    return df\n",
    "    \n",
    "    "
   ]
  },
  {
   "cell_type": "code",
   "execution_count": null,
   "metadata": {},
   "outputs": [],
   "source": []
  },
  {
   "cell_type": "code",
   "execution_count": 20,
   "metadata": {},
   "outputs": [
    {
     "name": "stdout",
     "output_type": "stream",
     "text": [
      "\\begin{tabular}{lrrr}\n",
      "\\toprule\n",
      "{} &  Median &  Average &  St.Dev \\\\\n",
      "\\midrule\n",
      "CPG  &    0.63 &     0.62 &    0.07 \\\\\n",
      "BLT  &    0.67 &     0.66 &    0.11 \\\\\n",
      "CCL  &    0.59 &     0.60 &    0.07 \\\\\n",
      "APF  &    1.00 &     0.96 &    0.09 \\\\\n",
      "SHP  &    0.63 &     0.62 &    0.11 \\\\\n",
      "AAL  &    0.56 &     0.56 &    0.06 \\\\\n",
      "CNA  &    0.64 &     0.62 &    0.07 \\\\\n",
      "RDSb &    0.70 &     0.67 &    0.11 \\\\\n",
      "RSA  &    0.64 &     0.64 &    0.09 \\\\\n",
      "RTO  &    0.56 &     0.58 &    0.09 \\\\\n",
      "BARC &    0.66 &     0.67 &    0.10 \\\\\n",
      "LAND &    0.58 &     0.61 &    0.09 \\\\\n",
      "PSON &    0.53 &     0.56 &    0.08 \\\\\n",
      "AZN  &    0.74 &     0.74 &    0.07 \\\\\n",
      "\\bottomrule\n",
      "\\end{tabular}\n",
      "\n"
     ]
    }
   ],
   "source": [
    "F1Table = pd.DataFrame()\n",
    "print(LatexTable(F1Table, f1scoreAVG).to_latex())"
   ]
  },
  {
   "cell_type": "code",
   "execution_count": null,
   "metadata": {},
   "outputs": [],
   "source": []
  },
  {
   "cell_type": "code",
   "execution_count": 21,
   "metadata": {},
   "outputs": [],
   "source": [
    "df=pd.DataFrame()\n",
    "# df['BARC'] =np.array(mkldict['BARC'])\n",
    "# df['APF'] =np.array(mkldict['APF'])\n",
    "# # df['BLT']=mkldict['BLT']\n",
    "# df =pd.DataFrame({'BARC': pd.Series(a), 'b': pd.Series(b)})\n",
    "df =pd.DataFrame.from_dict({'BARC': mklf1score['BARC'], \n",
    "                            'APF': mklf1score['APF'], \n",
    "                            'BLT':mklf1score['BLT'], \n",
    "                            'AZN':mklf1score['AZN'],\n",
    "                            'CNA':mklf1score['CNA'],\n",
    "                            'AAL':mklf1score['AAL'],\n",
    "                            'SHP':mklf1score['SHP'],\n",
    "                            'CPG':mklf1score['CPG'],\n",
    "                            'RSA':mklf1score['RSA'], \n",
    "                            'LAND':mklf1score['LAND']\n",
    "                           }, orient='index').T"
   ]
  },
  {
   "cell_type": "code",
   "execution_count": 22,
   "metadata": {},
   "outputs": [],
   "source": [
    "dfaccuracies=pd.DataFrame()\n",
    "dfaccuracies=pd.DataFrame.from_dict({'BARC': testaccuracyMKL['BARC'],'APF': testaccuracyMKL['APF'],'BLT':testaccuracyMKL['BLT'] }, orient='index').T"
   ]
  },
  {
   "cell_type": "code",
   "execution_count": 23,
   "metadata": {},
   "outputs": [],
   "source": [
    "dfMeanAccuracy =df.describe().loc[[\"mean\", \"std\", \"50%\"]].T.round(2).style.format({'mean': \"{:.2%}\",'std': \"{:.2%}\",'50%': \"{:.2%}\"})"
   ]
  },
  {
   "cell_type": "code",
   "execution_count": null,
   "metadata": {},
   "outputs": [],
   "source": []
  },
  {
   "cell_type": "code",
   "execution_count": 24,
   "metadata": {},
   "outputs": [
    {
     "name": "stdout",
     "output_type": "stream",
     "text": [
      "\\begin{tabular}{lrrr}\n",
      "\\toprule\n",
      "{} &  mean &   std &   50\\% \\\\\n",
      "\\midrule\n",
      "BARC &  0.63 &  0.07 &  0.62 \\\\\n",
      "APF  &  0.85 &  0.12 &  0.85 \\\\\n",
      "BLT  &  0.60 &  0.11 &  0.55 \\\\\n",
      "AZN  &  0.68 &  0.05 &  0.67 \\\\\n",
      "CNA  &  0.59 &  0.01 &  0.59 \\\\\n",
      "AAL  &  0.53 &  0.05 &  0.54 \\\\\n",
      "SHP  &  0.56 &  0.07 &  0.55 \\\\\n",
      "CPG  &  0.55 &  0.04 &  0.55 \\\\\n",
      "RSA  &  0.57 &  0.04 &  0.57 \\\\\n",
      "LAND &  0.57 &  0.05 &  0.56 \\\\\n",
      "\\bottomrule\n",
      "\\end{tabular}\n",
      "\n"
     ]
    }
   ],
   "source": [
    "dfmeans =df.describe().loc[[\"mean\", \"std\", \"50%\"]].T.round(2)\n",
    "dfmeans.style.format({'mean': \"{:.2%}\",'std': \"{:.2%}\",'50%': \"{:.2%}\"})\n",
    "print (dfmeans.to_latex())"
   ]
  },
  {
   "cell_type": "code",
   "execution_count": null,
   "metadata": {},
   "outputs": [],
   "source": []
  },
  {
   "cell_type": "code",
   "execution_count": 25,
   "metadata": {},
   "outputs": [],
   "source": [
    "mklResultsFile = pkl.load(open(mklResults, \"rb\"), encoding='latin1')\n",
    "avgResultsFile = pkl.load(open(avgResults, \"rb\"), encoding='latin1')"
   ]
  },
  {
   "cell_type": "code",
   "execution_count": 26,
   "metadata": {},
   "outputs": [],
   "source": [
    "mklKeys = list(mklResultsFile.keys())\n",
    "avgKeys = list(avgResultsFile.keys())\n"
   ]
  },
  {
   "cell_type": "code",
   "execution_count": null,
   "metadata": {},
   "outputs": [],
   "source": []
  },
  {
   "cell_type": "code",
   "execution_count": 27,
   "metadata": {
    "scrolled": true
   },
   "outputs": [
    {
     "data": {
      "image/png": "[encoded data removed]",
      "text/plain": [
       "<Figure size 720x432 with 1 Axes>"
      ]
     },
     "metadata": {
      "needs_background": "light"
     },
     "output_type": "display_data"
    }
   ],
   "source": [
    "fig = plt.figure(figsize=(10,6))\n",
    "f1mlk =mklResultsFile['f1_score']\n",
    "f1avg = avgResultsFile['f1_score']\n",
    "median=np.median(pd.DataFrame(f1mlk).values)\n",
    "splot =sns.distplot(f1mlk);\n",
    "splot2 = sns.distplot(f1avg);\n",
    "plt.title('F1-Score')\n",
    "fig.legend(labels=['MKL','Average Kernel'])\n",
    "medianMLK=np.median(pd.DataFrame(f1mlk).values)\n",
    "medianAVG=np.median(pd.DataFrame(f1avg).values)\n",
    "\n",
    "plt.axvline(medianMLK, color='b', linestyle='--',label='MKL Median')\n",
    "plt.axvline(medianAVG, color='pink', linestyle='--',label='MKL Median')\n",
    "plt.legend({'median MLK':medianMLK,'median AVG':medianAVG })\n",
    "plt.show()\n",
    "f1FileLoc = \"\".join((destinationFolder,\"\".join(('Comparispm_','F1_Distribution.png') )))\n",
    "fig.savefig(f1FileLoc )\n",
    "\n"
   ]
  },
  {
   "cell_type": "code",
   "execution_count": 29,
   "metadata": {},
   "outputs": [
    {
     "ename": "NameError",
     "evalue": "name 'df1x' is not defined",
     "output_type": "error",
     "traceback": [
      "\u001b[0;31m---------------------------------------------------------------------------\u001b[0m",
      "\u001b[0;31mNameError\u001b[0m                                 Traceback (most recent call last)",
      "\u001b[0;32m<ipython-input-29-d5ee9084407f>\u001b[0m in \u001b[0;36m<module>\u001b[0;34m\u001b[0m\n\u001b[1;32m      1\u001b[0m \u001b[0;32mimport\u001b[0m \u001b[0mnumpy\u001b[0m \u001b[0;32mas\u001b[0m \u001b[0mnp\u001b[0m\u001b[0;34m\u001b[0m\u001b[0;34m\u001b[0m\u001b[0m\n\u001b[1;32m      2\u001b[0m \u001b[0mf\u001b[0m\u001b[0;34m,\u001b[0m\u001b[0maxarr\u001b[0m \u001b[0;34m=\u001b[0m \u001b[0mplt\u001b[0m\u001b[0;34m.\u001b[0m\u001b[0msubplots\u001b[0m\u001b[0;34m(\u001b[0m\u001b[0;36m2\u001b[0m\u001b[0;34m,\u001b[0m \u001b[0msharex\u001b[0m\u001b[0;34m=\u001b[0m\u001b[0;32mTrue\u001b[0m\u001b[0;34m,\u001b[0m \u001b[0mgridspec_kw\u001b[0m\u001b[0;34m=\u001b[0m \u001b[0;34m{\u001b[0m\u001b[0;34m\"height_ratios\"\u001b[0m\u001b[0;34m:\u001b[0m \u001b[0;34m(\u001b[0m\u001b[0;36m0.2\u001b[0m\u001b[0;34m,\u001b[0m \u001b[0;36m1\u001b[0m\u001b[0;34m)\u001b[0m\u001b[0;34m}\u001b[0m\u001b[0;34m)\u001b[0m\u001b[0;34m\u001b[0m\u001b[0;34m\u001b[0m\u001b[0m\n\u001b[0;32m----> 3\u001b[0;31m \u001b[0mmean\u001b[0m\u001b[0;34m=\u001b[0m\u001b[0mnp\u001b[0m\u001b[0;34m.\u001b[0m\u001b[0maverage\u001b[0m\u001b[0;34m(\u001b[0m\u001b[0mdf1x\u001b[0m\u001b[0;34m.\u001b[0m\u001b[0mvalues\u001b[0m\u001b[0;34m)\u001b[0m\u001b[0;34m\u001b[0m\u001b[0;34m\u001b[0m\u001b[0m\n\u001b[0m\u001b[1;32m      4\u001b[0m \u001b[0mmedian\u001b[0m\u001b[0;34m=\u001b[0m\u001b[0mnp\u001b[0m\u001b[0;34m.\u001b[0m\u001b[0mmedian\u001b[0m\u001b[0;34m(\u001b[0m\u001b[0mdf1x\u001b[0m\u001b[0;34m.\u001b[0m\u001b[0mvalues\u001b[0m\u001b[0;34m)\u001b[0m\u001b[0;34m\u001b[0m\u001b[0;34m\u001b[0m\u001b[0m\n\u001b[1;32m      5\u001b[0m \u001b[0msns\u001b[0m\u001b[0;34m.\u001b[0m\u001b[0mboxplot\u001b[0m\u001b[0;34m(\u001b[0m\u001b[0mdf1x\u001b[0m\u001b[0;34m,\u001b[0m \u001b[0max\u001b[0m\u001b[0;34m=\u001b[0m\u001b[0maxarr\u001b[0m\u001b[0;34m[\u001b[0m\u001b[0;36m0\u001b[0m\u001b[0;34m]\u001b[0m\u001b[0;34m)\u001b[0m\u001b[0;34m\u001b[0m\u001b[0;34m\u001b[0m\u001b[0m\n",
      "\u001b[0;31mNameError\u001b[0m: name 'df1x' is not defined"
     ]
    },
    {
     "data": {
      "image/png": "[encoded data removed]",
      "text/plain": [
       "<Figure size 432x288 with 2 Axes>"
      ]
     },
     "metadata": {
      "needs_background": "light"
     },
     "output_type": "display_data"
    }
   ],
   "source": [
    "import numpy as np\n",
    "f,axarr = plt.subplots(2, sharex=True, gridspec_kw= {\"height_ratios\": (0.2, 1)})\n",
    "mean=np.average(df1x.values)\n",
    "median=np.median(df1x.values)\n",
    "sns.boxplot(df1x, ax=axarr[0])\n",
    "axarr[0].axvline(mean, color='r', linestyle='--')\n",
    "sns.distplot(df1x, ax=axarr[1])\n",
    "axarr[1].axvline(mean, color='r', linestyle='--')\n",
    "axarr[1].axvline(median, color='g', linestyle='-')\n",
    "plt.legend({'Mean':mean,'Median':median})\n",
    "plt.title('F1 Score Distribution for BARC.LN')\n",
    "\n",
    "_=axarr[0].set(xlabel='')\n",
    "plt.show()\n",
    "f1FileLoc = \"\".join((destinationFolder,\"\".join(('BARC.L_','F1_Distribution.png') )))\n",
    "f.savefig(f1FileLoc )\n"
   ]
  },
  {
   "cell_type": "code",
   "execution_count": null,
   "metadata": {},
   "outputs": [],
   "source": []
  },
  {
   "cell_type": "code",
   "execution_count": 184,
   "metadata": {},
   "outputs": [],
   "source": [
    "# from matplotlib.backends.backend_pdf import PdfPages\n",
    "\n",
    "# with PdfPages('myfigures.pdf') as pdf:\n",
    "# for i in range(1000):\n",
    "#     plt.subplots(2, 3)\n",
    "#     axarr[0, 0].plot(x1, y1)\n",
    "#     axarr[1, 0].plot(x2, y2)\n",
    "\n",
    "#     pdf.savefig(f)\n",
    "#     plt.close('all')\n"
   ]
  },
  {
   "cell_type": "code",
   "execution_count": 185,
   "metadata": {},
   "outputs": [
    {
     "data": {
      "image/png": "[encoded data removed]",
      "text/plain": [
       "<Figure size 432x288 with 2 Axes>"
      ]
     },
     "metadata": {
      "needs_background": "light"
     },
     "output_type": "display_data"
    }
   ],
   "source": [
    "df1y = pd.DataFrame(mklResultsFile['test_accuracy'])\n",
    "\n",
    "f,axarr = plt.subplots(2, sharex=True, gridspec_kw= {\"height_ratios\": (0.2, 1)})\n",
    "mean=np.mean(df1y.values)\n",
    "median=np.median(df1y.values)\n",
    "sns.boxplot(df1y, ax=axarr[0])\n",
    "axarr[0].axvline(mean, color='r', linestyle='--')\n",
    "sns.distplot(df1y, ax=axarr[1])\n",
    "axarr[1].axvline(mean, color='r', linestyle='--')\n",
    "axarr[1].axvline(median, color='g', linestyle='-')\n",
    "plt.legend({'Mean':mean,'Median':median})\n",
    "plt.title('MKL (OOS)Test Accuracy for BARC.LN')\n",
    "\n",
    "_=axarr[0].set(xlabel='')\n",
    "plt.show()\n",
    "f1FileLoc = \"\".join((destinationFolder,\"\".join(('BARC.L_','test_accuracy.png') )))\n",
    "f.savefig(f1FileLoc )"
   ]
  },
  {
   "cell_type": "code",
   "execution_count": 186,
   "metadata": {},
   "outputs": [
    {
     "data": {
      "image/png": "[encoded data removed]",
      "text/plain": [
       "<Figure size 432x288 with 2 Axes>"
      ]
     },
     "metadata": {
      "needs_background": "light"
     },
     "output_type": "display_data"
    }
   ],
   "source": [
    "df1z = pd.DataFrame(avgResultsFile['test_accuracy'])\n",
    "\n",
    "f,axarr = plt.subplots(2, sharex=True, gridspec_kw= {\"height_ratios\": (0.2, 1)})\n",
    "mean=np.mean(df1z.values)\n",
    "median=np.median(df1z.values)\n",
    "sns.boxplot(df1y, ax=axarr[0])\n",
    "axarr[0].axvline(mean, color='r', linestyle='--')\n",
    "sns.distplot(df1z, ax=axarr[1])\n",
    "axarr[1].axvline(mean, color='r', linestyle='--')\n",
    "axarr[1].axvline(median, color='g', linestyle='-')\n",
    "plt.legend({'Mean':mean,'Median':median})\n",
    "plt.title('AVG Kernel (OOS)Test Accuracy for BARC.LN')\n",
    "\n",
    "_=axarr[0].set(xlabel='')\n",
    "plt.show()\n",
    "f1FileLoc = \"\".join((destinationFolder,\"\".join(('BARC.L_','test_accuracy.png') )))\n",
    "f.savefig(f1FileLoc )"
   ]
  },
  {
   "cell_type": "code",
   "execution_count": 187,
   "metadata": {},
   "outputs": [],
   "source": [
    "tprList = mklResultsFile['tpr']\n",
    "fprList = mklResultsFile['fpr']\n",
    "\n",
    "avgtprList = avgResultsFile['tpr']\n",
    "avgfprList = avgResultsFile['fpr']"
   ]
  },
  {
   "cell_type": "code",
   "execution_count": 188,
   "metadata": {},
   "outputs": [
    {
     "data": {
      "text/plain": [
       "[]"
      ]
     },
     "execution_count": 188,
     "metadata": {},
     "output_type": "execute_result"
    }
   ],
   "source": [
    "mklResultsFile['auc']"
   ]
  },
  {
   "cell_type": "code",
   "execution_count": 189,
   "metadata": {},
   "outputs": [
    {
     "ename": "NameError",
     "evalue": "name 'auc' is not defined",
     "output_type": "error",
     "traceback": [
      "\u001b[0;31m---------------------------------------------------------------------------\u001b[0m",
      "\u001b[0;31mNameError\u001b[0m                                 Traceback (most recent call last)",
      "\u001b[0;32m<ipython-input-189-5b508f66186a>\u001b[0m in \u001b[0;36m<module>\u001b[0;34m\u001b[0m\n\u001b[1;32m      3\u001b[0m \u001b[0mtprMKL\u001b[0m \u001b[0;34m=\u001b[0m \u001b[0mtprList\u001b[0m\u001b[0;34m[\u001b[0m\u001b[0midx\u001b[0m\u001b[0;34m]\u001b[0m\u001b[0;34m\u001b[0m\u001b[0;34m\u001b[0m\u001b[0m\n\u001b[1;32m      4\u001b[0m \u001b[0mfprMKL\u001b[0m \u001b[0;34m=\u001b[0m \u001b[0mfprList\u001b[0m\u001b[0;34m[\u001b[0m\u001b[0midx\u001b[0m\u001b[0;34m]\u001b[0m\u001b[0;34m\u001b[0m\u001b[0;34m\u001b[0m\u001b[0m\n\u001b[0;32m----> 5\u001b[0;31m \u001b[0maucMKL\u001b[0m\u001b[0;34m=\u001b[0m \u001b[0mauc\u001b[0m\u001b[0;34m(\u001b[0m\u001b[0mfprMKL\u001b[0m\u001b[0;34m,\u001b[0m\u001b[0mtprMKL\u001b[0m\u001b[0;34m)\u001b[0m\u001b[0;34m\u001b[0m\u001b[0;34m\u001b[0m\u001b[0m\n\u001b[0m\u001b[1;32m      6\u001b[0m \u001b[0;31m## average kernel ##\u001b[0m\u001b[0;34m\u001b[0m\u001b[0;34m\u001b[0m\u001b[0;34m\u001b[0m\u001b[0m\n\u001b[1;32m      7\u001b[0m \u001b[0mtprAVG\u001b[0m \u001b[0;34m=\u001b[0m\u001b[0mavgtprList\u001b[0m\u001b[0;34m[\u001b[0m\u001b[0midx\u001b[0m\u001b[0;34m]\u001b[0m\u001b[0;34m\u001b[0m\u001b[0;34m\u001b[0m\u001b[0m\n",
      "\u001b[0;31mNameError\u001b[0m: name 'auc' is not defined"
     ]
    }
   ],
   "source": [
    "idx=14\n",
    "## multiple kernel ##\n",
    "tprMKL = tprList[idx]\n",
    "fprMKL = fprList[idx]\n",
    "aucMKL= auc(fprMKL,tprMKL)\n",
    "## average kernel ##\n",
    "tprAVG =avgtprList[idx]\n",
    "fprAVG = avgfprList[idx]\n",
    "avgAUC = auc(avgfprItem, avgtprItem)"
   ]
  },
  {
   "cell_type": "code",
   "execution_count": 190,
   "metadata": {},
   "outputs": [],
   "source": [
    "from sklearn.metrics import roc_curve, auc\n"
   ]
  },
  {
   "cell_type": "code",
   "execution_count": 191,
   "metadata": {},
   "outputs": [
    {
     "data": {
      "text/plain": [
       "83"
      ]
     },
     "execution_count": 191,
     "metadata": {},
     "output_type": "execute_result"
    }
   ],
   "source": [
    "import numpy as np\n",
    "len(tprList[4])\n",
    "len(tprList[5])"
   ]
  },
  {
   "cell_type": "code",
   "execution_count": null,
   "metadata": {},
   "outputs": [],
   "source": [
    "def ROC_Graph(fprAVG, tprAVG,fprMKL, tprMKL):\n",
    "    aucMKL= auc(fprMKL,tprMKL)\n",
    "    avgAUC = auc(fprAVG, tprAVG)\n",
    "    fig = plt.figure()\n",
    "    lw = 2\n",
    "    plt.plot(fprAVG, tprAVG, color='darkred',lw=lw, label='Avg Kernel ROC curve (area = %0.2f)' % avgAUC)\n",
    "    plt.plot(fprMKL, tprMKL, color='darkorange',\n",
    "             lw=lw, label='MKL ROC curve (area = %0.2f)' % aucMKL)\n",
    "    plt.plot([0, 1], [0, 1], color='navy', lw=lw, linestyle='--')\n",
    "    plt.xlim([0.0, 1.0])\n",
    "    plt.ylim([0.0, 1.05])\n",
    "    plt.xlabel('False Positive Rate')\n",
    "    plt.ylabel('True Positive Rate')\n",
    "    plt.title('MKL Receiver operating characteristic: MKL vs Average Kernel ')\n",
    "    plt.legend(loc=\"lower right\")\n",
    "    return fig \n",
    "\n",
    "plt.show()"
   ]
  },
  {
   "cell_type": "code",
   "execution_count": null,
   "metadata": {},
   "outputs": [],
   "source": [
    "ROC_Graph(fprAVG, tprAVG,fprMKL, tprMKL)"
   ]
  },
  {
   "cell_type": "code",
   "execution_count": null,
   "metadata": {},
   "outputs": [],
   "source": [
    "os.getcwd()"
   ]
  },
  {
   "cell_type": "code",
   "execution_count": null,
   "metadata": {},
   "outputs": [],
   "source": [
    "idx=14\n",
    "## multiple kernel ##\n",
    "destinationFolder = '/home/ak/Documents/Research/Papers/figures/'\n",
    "for idx in range(1, 25):\n",
    "    tprMKL = tprList[idx]\n",
    "    fprMKL = fprList[idx]\n",
    "    ## average kernel ##\n",
    "    tprAVG =avgtprList[idx]\n",
    "    fprAVG = avgfprList[idx]\n",
    "    fig = ROC_Graph(fprAVG, tprAVG,fprMKL, tprMKL)\n",
    "    fileLoc = \"\".join((destinationFolder,\"\".join((str(idx),'AUC.png') )))\n",
    "    \n",
    "    plt.savefig(fileLoc)\n"
   ]
  },
  {
   "cell_type": "code",
   "execution_count": null,
   "metadata": {},
   "outputs": [],
   "source": []
  },
  {
   "cell_type": "code",
   "execution_count": null,
   "metadata": {},
   "outputs": [],
   "source": [
    "fileLoc"
   ]
  },
  {
   "cell_type": "code",
   "execution_count": null,
   "metadata": {},
   "outputs": [],
   "source": []
  }
 ],
 "metadata": {
  "kernelspec": {
   "display_name": "Python 3",
   "language": "python",
   "name": "python3"
  },
  "language_info": {
   "codemirror_mode": {
    "name": "ipython",
    "version": 3
   },
   "file_extension": ".py",
   "mimetype": "text/x-python",
   "name": "python",
   "nbconvert_exporter": "python",
   "pygments_lexer": "ipython3",
   "version": "3.6.13"
  }
 },
 "nbformat": 4,
 "nbformat_minor": 2
}
