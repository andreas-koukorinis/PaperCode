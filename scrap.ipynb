{
 "cells": [
  {
   "cell_type": "code",
   "execution_count": 2,
   "metadata": {},
   "outputs": [
    {
     "ename": "ModuleNotFoundError",
     "evalue": "No module named 'classification'",
     "output_type": "error",
     "traceback": [
      "\u001b[0;31m---------------------------------------------------------------------------\u001b[0m",
      "\u001b[0;31mModuleNotFoundError\u001b[0m                       Traceback (most recent call last)",
      "\u001b[0;32m<ipython-input-2-161560aa6b3d>\u001b[0m in \u001b[0;36m<module>\u001b[0;34m\u001b[0m\n\u001b[1;32m      2\u001b[0m \u001b[0;32mfrom\u001b[0m \u001b[0maknotebooks\u001b[0m\u001b[0;34m.\u001b[0m\u001b[0mclassification\u001b[0m\u001b[0;34m.\u001b[0m\u001b[0mconvenience_functions\u001b[0m\u001b[0;34m.\u001b[0m\u001b[0mmkl_base\u001b[0m \u001b[0;32mimport\u001b[0m \u001b[0mhardDrivesLoc\u001b[0m\u001b[0;34m,\u001b[0m \u001b[0mdataOnlyDrive\u001b[0m\u001b[0;34m,\u001b[0m \u001b[0mfolderList\u001b[0m\u001b[0;34m,\u001b[0m \u001b[0msymbols\u001b[0m\u001b[0;34m,\u001b[0m\u001b[0;31m \u001b[0m\u001b[0;31m\\\u001b[0m\u001b[0;34m\u001b[0m\u001b[0;34m\u001b[0m\u001b[0m\n\u001b[1;32m      3\u001b[0m     \u001b[0mdataList\u001b[0m\u001b[0;34m,\u001b[0m \u001b[0msymbolFeaturesLocation\u001b[0m\u001b[0;34m,\u001b[0m \u001b[0mselection\u001b[0m\u001b[0;34m,\u001b[0m\u001b[0mcheckDir\u001b[0m\u001b[0;34m\u001b[0m\u001b[0;34m\u001b[0m\u001b[0m\n\u001b[0;32m----> 4\u001b[0;31m \u001b[0;32mfrom\u001b[0m \u001b[0maknotebooks\u001b[0m\u001b[0;34m.\u001b[0m\u001b[0mclassification\u001b[0m\u001b[0;34m.\u001b[0m\u001b[0mconvenience_functions\u001b[0m\u001b[0;34m.\u001b[0m\u001b[0mfit_mkl\u001b[0m \u001b[0;32mimport\u001b[0m \u001b[0mfeatureCreation\u001b[0m\u001b[0;34m\u001b[0m\u001b[0;34m\u001b[0m\u001b[0m\n\u001b[0m\u001b[1;32m      5\u001b[0m \u001b[0;32mfrom\u001b[0m \u001b[0msklearn\u001b[0m\u001b[0;34m.\u001b[0m\u001b[0mmetrics\u001b[0m\u001b[0;34m.\u001b[0m\u001b[0mpairwise\u001b[0m \u001b[0;32mimport\u001b[0m \u001b[0mrbf_kernel\u001b[0m \u001b[0;32mas\u001b[0m \u001b[0mRBF\u001b[0m\u001b[0;34m\u001b[0m\u001b[0;34m\u001b[0m\u001b[0m\n",
      "\u001b[0;32m~/Documents/Research/PaperCode/aknotebooks/classification/convenience_functions/fit_mkl.py\u001b[0m in \u001b[0;36m<module>\u001b[0;34m\u001b[0m\n\u001b[1;32m      5\u001b[0m \u001b[0;32mimport\u001b[0m \u001b[0mnumpy\u001b[0m \u001b[0;32mas\u001b[0m \u001b[0mnp\u001b[0m\u001b[0;34m\u001b[0m\u001b[0;34m\u001b[0m\u001b[0m\n\u001b[1;32m      6\u001b[0m \u001b[0;32mimport\u001b[0m \u001b[0mpickle\u001b[0m \u001b[0;32mas\u001b[0m \u001b[0mpkl\u001b[0m\u001b[0;34m\u001b[0m\u001b[0;34m\u001b[0m\u001b[0m\n\u001b[0;32m----> 7\u001b[0;31m \u001b[0;32mimport\u001b[0m \u001b[0mclassification\u001b[0m\u001b[0;34m.\u001b[0m\u001b[0mconvenience_functions\u001b[0m\u001b[0;34m.\u001b[0m\u001b[0mmkl_base\u001b[0m \u001b[0;32mas\u001b[0m \u001b[0mmkl_base\u001b[0m\u001b[0;34m\u001b[0m\u001b[0;34m\u001b[0m\u001b[0m\n\u001b[0m\u001b[1;32m      8\u001b[0m \u001b[0;32mfrom\u001b[0m \u001b[0mMKLpy\u001b[0m\u001b[0;34m.\u001b[0m\u001b[0mmetrics\u001b[0m\u001b[0;34m.\u001b[0m\u001b[0mpairwise\u001b[0m\u001b[0;34m.\u001b[0m\u001b[0mmisc\u001b[0m \u001b[0;32mimport\u001b[0m \u001b[0mhomogeneous_polynomial_kernel\u001b[0m \u001b[0;32mas\u001b[0m \u001b[0mHPK_kernel\u001b[0m\u001b[0;34m\u001b[0m\u001b[0;34m\u001b[0m\u001b[0m\n\u001b[1;32m      9\u001b[0m \u001b[0;32mfrom\u001b[0m \u001b[0mclassification\u001b[0m\u001b[0;34m.\u001b[0m\u001b[0mconvenience_functions\u001b[0m\u001b[0;34m.\u001b[0m\u001b[0mmkl_base\u001b[0m \u001b[0;32mimport\u001b[0m \u001b[0mhardDrivesLoc\u001b[0m\u001b[0;34m,\u001b[0m \u001b[0mdataOnlyDrive\u001b[0m\u001b[0;34m,\u001b[0m \u001b[0mfolderList\u001b[0m\u001b[0;34m,\u001b[0m \u001b[0msymbols\u001b[0m\u001b[0;34m,\u001b[0m \u001b[0mdataList\u001b[0m\u001b[0;34m,\u001b[0m \u001b[0mfinalLocation\u001b[0m\u001b[0;34m\u001b[0m\u001b[0;34m\u001b[0m\u001b[0m\n",
      "\u001b[0;31mModuleNotFoundError\u001b[0m: No module named 'classification'"
     ]
    }
   ],
   "source": [
    "# import classification.convenience_functions.mkl_base as mkl_base\n",
    "from aknotebooks.classification.convenience_functions.mkl_base import hardDrivesLoc, dataOnlyDrive, folderList, symbols, \\\n",
    "    dataList, symbolFeaturesLocation, selection,checkDir\n",
    "from aknotebooks.classification.convenience_functions.fit_mkl import featureCreation\n",
    "from sklearn.metrics.pairwise import rbf_kernel as RBF"
   ]
  },
  {
   "cell_type": "code",
   "execution_count": null,
   "metadata": {},
   "outputs": [],
   "source": [
    "import MKLpy\n",
    "from MKLpy.metrics import pairwise\n",
    "from MKLpy.algorithms import AverageMKL, EasyMKL, KOMD#KOMD is not a MKL algorithm but a simple kernel machine like the SVM\n",
    "#evaluate the solution\n",
    "from sklearn.metrics import accuracy_score, roc_auc_score\n",
    "from sklearn.metrics import roc_curve, auc\n",
    "from MKLpy.metrics import pairwise\n",
    "from MKLpy.preprocessing import normalization, rescale_01\n",
    "from MKLpy.preprocessing import kernel_normalization\n",
    "from MKLpy.model_selection import cross_val_score, cross_val_predict\n",
    "from sklearn.metrics.pairwise import rbf_kernel as RBF\n",
    "import os\n",
    "import pandas as pd\n",
    "import numpy as np\n",
    "import pickle as pkl"
   ]
  },
  {
   "cell_type": "code",
   "execution_count": null,
   "metadata": {},
   "outputs": [],
   "source": []
  },
  {
   "cell_type": "code",
   "execution_count": null,
   "metadata": {},
   "outputs": [],
   "source": [
    "symbols"
   ]
  },
  {
   "cell_type": "code",
   "execution_count": null,
   "metadata": {},
   "outputs": [],
   "source": [
    "\n",
    "symbolIdx = 2  # pick one of the symbols\n",
    "\n",
    "# do a join to get the location\n",
    "# symbolLocation = \"/\".join((finalLocation, symbols[symbolIdx]))\n",
    "# # get the features now\n",
    "\n",
    "selectionLoc = os.path.join(hardDrivesLoc, selection)\n",
    "\n",
    "# ''' location of WorkDrive'''\n",
    "# dataList = [s for s in os.listdir(selectionLoc) if s.startswith('Dat')]\n",
    "# path = 'MKL_Experiments'\n",
    "MKLExpPath = os.path.join(os.path.join(hardDrivesLoc, selection, dataList[1]), 'MKL_Experiments')\n",
    "MKLSymbolPath = os.path.join(MKLExpPath, symbols[symbolIdx])\n",
    "MKLSymbolKernelsPath = \"/\".join((MKLSymbolPath, 'Kernels'))\n",
    "\n",
    "SymbolCommonPaths = mkl_base.open_pickle_file(MKLSymbolPath, 'LocDictsListCorrect.pkl')\n",
    "uniqueTrainingKeys = np.unique([i[1] for i in SymbolCommonPaths])"
   ]
  },
  {
   "cell_type": "code",
   "execution_count": null,
   "metadata": {},
   "outputs": [],
   "source": [
    "\n",
    "kernelDates = [file.split(\"_\")[0] for file in os.listdir('/media/ak/WorkDrive/Data/MKL_Experiments/PRU.L/Kernels/')]\n",
    "\n",
    "                "
   ]
  },
  {
   "cell_type": "code",
   "execution_count": null,
   "metadata": {},
   "outputs": [],
   "source": [
    "kernelDates[0]"
   ]
  },
  {
   "cell_type": "code",
   "execution_count": null,
   "metadata": {},
   "outputs": [],
   "source": [
    "keys=list(SymbolCommonPaths.keys())\n",
    "type(keys)\n",
    "# for idx, key in enumerate(keys):\n",
    "#     print(idx)\n",
    "#     print(key)\n",
    "#     kernelFileName = \"/\".join((MKLSymbolKernelsPath, \"\".join((key[0], \"_Kernels.pkl\"))))\n",
    "#     checkDir(kernelFileName)\n",
    "#     print(kernelFileName)\n",
    "#     print(SymbolCommonPaths[key])\n",
    "i=kernelDates[0]\n",
    "result=[]\n",
    "for j in keys:\n",
    "    if i in j:\n",
    "        result.append(j)\n",
    "\n",
    "print(result)"
   ]
  },
  {
   "cell_type": "code",
   "execution_count": null,
   "metadata": {},
   "outputs": [],
   "source": [
    "print(SymbolCommonPaths[keys[920]])\n",
    "kernelFileName = \"/\".join((MKLSymbolKernelsPath, \"\".join((i, \"_Kernels.pkl\"))))\n",
    "checkDir(kernelFileName)"
   ]
  },
  {
   "cell_type": "code",
   "execution_count": null,
   "metadata": {},
   "outputs": [],
   "source": [
    "featuresTupleFile=pkl.load(open(SymbolCommonPaths[result[1]][0], \"rb\"),encoding='latin1')\n"
   ]
  },
  {
   "cell_type": "code",
   "execution_count": null,
   "metadata": {},
   "outputs": [],
   "source": [
    "labelsDf  = pd.read_csv(SymbolCommonPaths[result[1]][1])\n"
   ]
  },
  {
   "cell_type": "code",
   "execution_count": null,
   "metadata": {},
   "outputs": [],
   "source": [
    "''' pop the labels out'''\n",
    "labels = labelsDf['label_PrMov__window_5__thres_arbitrary__0.1']\n",
    "''' and same with features'''\n",
    "dfFeatures = pd.concat([featuresTupleFile[0], featuresTupleFile[1], \\\n",
    "                            featuresTupleFile[2], featuresTupleFile[3]], axis=1, sort=False).fillna(0)"
   ]
  },
  {
   "cell_type": "code",
   "execution_count": null,
   "metadata": {},
   "outputs": [],
   "source": [
    "\n",
    "\n",
    "'''dataframe of Features and Labels - X and Y'''\n",
    "dfXY = pd.concat([dfFeatures, labels], axis=1, sort='False').dropna()\n",
    "labelName = str(dfXY.columns[dfXY.columns.str.contains(pat='label')].values[0])\n",
    "''' drop the labels from the features'''\n",
    "dfX = dfXY.drop(columns=[labelName])\n",
    "arrX = np.array(dfX)\n",
    "''' feature normalisation'''\n",
    "# feature scaling in [0,1] - X = rescale_01(arrX)\n",
    "X = normalization(rescale_01(arrX))\n",
    "y = dfXY[dfXY.columns[dfXY.columns.str.contains(pat='label')]].iloc[:, 0]\n",
    "''' returns features, labels'''"
   ]
  },
  {
   "cell_type": "code",
   "execution_count": null,
   "metadata": {},
   "outputs": [],
   "source": [
    "print(X.shape)\n",
    "print(y.shape)"
   ]
  },
  {
   "cell_type": "code",
   "execution_count": null,
   "metadata": {},
   "outputs": [],
   "source": [
    "KLtr = [pairwise.homogeneous_polynomial_kernel(X, degree=d) for d in range(4)]\n",
    "''' Compute RBF Kernels'''\n",
    "gamma_range = np.logspace(-9, 3, 13)\n",
    "ker_list = [RBF(X, gamma=g) for g in gamma_range]\n",
    "\n",
    "## should get the components to have a shape X.shape x y.shape"
   ]
  },
  {
   "cell_type": "code",
   "execution_count": null,
   "metadata": {},
   "outputs": [],
   "source": [
    "## try some bullshit test ###\n",
    "clf = AverageMKL().fit(KLtr,y) #a wrapper for averaging kernels\n",
    "print(clf.weights) #print the weights of the combination of base kernels\n",
    "print ('training EasyMKL...for polynomials and RBF', end='')\n",
    "clfEasy = EasyMKL(lam=0.1).fit(KLtr,y)#combining kernels with the EasyMKL algorithm"
   ]
  },
  {
   "cell_type": "code",
   "execution_count": null,
   "metadata": {},
   "outputs": [],
   "source": [
    "## and test the bullshit of ker_list ##\n",
    "clfRBF = EasyMKL(lam=0.1).fit(ker_list,y) "
   ]
  },
  {
   "cell_type": "code",
   "execution_count": null,
   "metadata": {},
   "outputs": [],
   "source": [
    "KernelsTest = [KLtr, ker_list]\n",
    "testFileName = 'KernelTestPickle.pkl'\n",
    "PapersPath = os.getcwd()\n",
    "pkl.dump(KernelsTest, open(\"/\".join((PapersPath, testFileName)), \"wb\"))"
   ]
  },
  {
   "cell_type": "code",
   "execution_count": null,
   "metadata": {},
   "outputs": [],
   "source": [
    "loadPickleKernels = pkl.load(open(\"/\".join((PapersPath, testFileName)), \"rb\"))"
   ]
  },
  {
   "cell_type": "code",
   "execution_count": null,
   "metadata": {},
   "outputs": [],
   "source": [
    "KLtrloaded = loadPickleKernels[1]\n",
    "ker_list_loaded= loadPickleKernels[1]"
   ]
  },
  {
   "cell_type": "code",
   "execution_count": null,
   "metadata": {},
   "outputs": [],
   "source": [
    "## try some bullshit test ###\n",
    "clfloaded = AverageMKL().fit(KLtrloaded,y) #a wrapper for averaging kernels\n",
    "clfEasyloaded = EasyMKL(lam=0.1).fit(KLtrloaded,y)#combining kernels with the EasyMKL algorithm\n",
    "print('test complete')"
   ]
  },
  {
   "cell_type": "code",
   "execution_count": null,
   "metadata": {},
   "outputs": [],
   "source": [
    " ### and train 3 classifiers ###\n",
    "    clf = AverageMKL().fit(KLtr,ytr) #a wrapper for averaging kernels\n",
    "    print(clf.weights) #print the weights of the combination of base kernels\n",
    "    print ('training EasyMKL...for polynomials and RBF', end='')\n",
    "    clfEasy = EasyMKL(lam=0.1).fit(KLtr,ytr)#combining kernels with the EasyMKL algorithm\n",
    "    clfRBF = EasyMKL(lam=0.1).fit(ker_list,ytr)"
   ]
  },
  {
   "cell_type": "code",
   "execution_count": null,
   "metadata": {},
   "outputs": [],
   "source": [
    "if __name__ == '__main__':\n",
    "    trainingKey =1 \n",
    "    keyDate = list(SymbolCommonPaths)[trainingKey]\n",
    "    \n",
    "    \n",
    "\n",
    "    for trainingKey, keyDate in enumerate(list(SymbolCommonPaths)):\n",
    "\n",
    "        print(trainingKey, keyDate[1])\n",
    "        Xtr, ytr = featureCreation(idxKey=trainingKey,\n",
    "                                   locDict=SymbolCommonPaths)  # need to refactor this to read from the mkl_base\n",
    "        if Xtr.shape[0] == ytr.shape[0]:\n",
    "            print(list(SymbolCommonPaths.keys())[trainingKey][0])\n",
    "            kernelFileName = \"/\".join((MKLSymbolKernelsPath, \"\".join((keyDate[0], \"_Kernels.pkl\"))))\n",
    "            loadPickleKernels = pkl.load(open(kernelFileName, \"rb\"))\n",
    "            print('doing the kernels bit')\n",
    "            KLsimple = loadPickleKernels[0]\n",
    "            KLrbf = loadPickleKernels[1]\n",
    "            clf = AverageMKL().fit(KLsimple, ytr)  # a wrapper for averaging kernels\n",
    "            clfEasy = EasyMKL(lam=0.1).fit(KLsimple, ytr)#combining kernels with the EasyMKL algorithm\n",
    "            clfRBF = EasyMKL(lam=0.1).fit(KLrbf, ytr)\n",
    "            print('------')\n",
    "            print('finished MKL Fitting- Now will test Predictions')\n",
    "            print('Average Kernel Testing')\n",
    "            y_pred = clf.predict(KLsimple)  # predictions\n",
    "            y_score = clf.decision_function(KLsimple)  # rank\n",
    "            accuracy = accuracy_score(ytr, y_pred)\n",
    "            fprAverage, tprAverage, thresholdsAverage = roc_curve(ytr.ravel(), y_score.ravel())\n",
    "            roc_auc = auc(fprAverage, tprAverage)\n",
    "            print('Accuracy score: %.3f, roc AUC score: %.3f' % (accuracy, roc_auc))\n",
    "        else:\n",
    "            print('Shapes dont match.')\n",
    "            continue"
   ]
  },
  {
   "cell_type": "code",
   "execution_count": null,
   "metadata": {},
   "outputs": [],
   "source": [
    "trainingKey =1 \n",
    "keyDate = list(SymbolCommonPaths)[trainingKey]\n",
    "print(trainingKey, keyDate[1])\n",
    "Xtr, ytr = featureCreation(idxKey=trainingKey,\n",
    "                                   locDict=SymbolCommonPaths)  # need to refactor"
   ]
  },
  {
   "cell_type": "code",
   "execution_count": null,
   "metadata": {},
   "outputs": [],
   "source": [
    "Xtr.shape[0] == ytr.shape[0]"
   ]
  },
  {
   "cell_type": "code",
   "execution_count": null,
   "metadata": {},
   "outputs": [],
   "source": [
    "print(list(SymbolCommonPaths.keys())[trainingKey][0])\n",
    "kernelFileName = \"/\".join((MKLSymbolKernelsPath, \"\".join((keyDate[1], \"_Kernels.pkl\"))))\n",
    "loadPickleKernels = pkl.load(open(kernelFileName, \"rb\"))\n",
    "print('doing the kernels bit')\n",
    "KLsimple = loadPickleKernels[0]\n",
    "KLrbf = loadPickleKernels[1]"
   ]
  },
  {
   "cell_type": "code",
   "execution_count": null,
   "metadata": {},
   "outputs": [],
   "source": [
    "clf = AverageMKL().fit(KLsimple, ytr)  # a wrapper for averaging kernels\n",
    "clfEasy = EasyMKL(lam=0.1).fit(KLsimple, ytr)#combining kernels with the EasyMKL algorithm\n",
    "            \n",
    "clfRBF = EasyMKL(lam=0.1).fit(KLrbf, ytr)"
   ]
  },
  {
   "cell_type": "code",
   "execution_count": null,
   "metadata": {},
   "outputs": [],
   "source": [
    " "
   ]
  },
  {
   "cell_type": "code",
   "execution_count": null,
   "metadata": {},
   "outputs": [],
   "source": []
  }
 ],
 "metadata": {
  "kernelspec": {
   "display_name": "Python 3",
   "language": "python",
   "name": "python3"
  },
  "language_info": {
   "codemirror_mode": {
    "name": "ipython",
    "version": 3
   },
   "file_extension": ".py",
   "mimetype": "text/x-python",
   "name": "python",
   "nbconvert_exporter": "python",
   "pygments_lexer": "ipython3",
   "version": "3.6.8"
  }
 },
 "nbformat": 4,
 "nbformat_minor": 2
}
