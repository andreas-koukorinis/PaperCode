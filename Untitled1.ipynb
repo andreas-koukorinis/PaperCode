{
 "cells": [
  {
   "cell_type": "code",
   "execution_count": 2,
   "id": "c59975df",
   "metadata": {},
   "outputs": [],
   "source": [
    "import os\n",
    "import pandas as pd\n",
    "import pickle\n",
    "import sys\n",
    "\n",
    "sys.path.insert(0, '/directory/tothe/handshakefile/')\n",
    "sys.path.append('/home/ak/Documents/PaperCode/stylised_facts')\n",
    "\n",
    "from sklearn.preprocessing import MinMaxScaler, StandardScaler\n",
    "\n",
    "expInputFiles = '/media/ak/T71/August11th2022Experiments/ExperimentOne'\n",
    "mfdfaDataFrames = '/media/ak/T71/August11th2022Experiments/mfdfaDataFrames'  # Storage of Input Files\n",
    "\n",
    "\n",
    "def get_filtered_files(path, bar_choice):\n",
    "    return sorted([f for f in os.listdir(path) if str(bar_choice) in f])\n",
    "\n",
    "\n",
    "def read_pickle_file(file_path, bar_choice, variable):\n",
    "    return pd.read_pickle(file_path)[str(bar_choice)][str(variable)]\n",
    "\n",
    "\n",
    "def create_dataframe_from_dict(unpickled_all_values):\n",
    "    return pd.DataFrame.from_dict(unpickled_all_values).fillna(0)\n",
    "\n",
    "\n",
    "def save_dataframe_to_pickle(df, save_path, protocol=pickle.HIGHEST_PROTOCOL):\n",
    "    with open(save_path, 'wb') as f:\n",
    "        pickle.dump(df, f, protocol=protocol)\n",
    "    print(f'saving: {save_path}')\n",
    "\n"
   ]
  },
  {
   "cell_type": "code",
   "execution_count": 7,
   "id": "6953ca6c",
   "metadata": {},
   "outputs": [],
   "source": [
    "files = [f for f in os.listdir(mfdfaDataFrames) if str('JB1_') in f]\n",
    "jb1Folder = os.path.join(mfdfaDataFrames, 'JB1')"
   ]
  },
  {
   "cell_type": "code",
   "execution_count": 10,
   "id": "9aec6888",
   "metadata": {},
   "outputs": [],
   "source": [
    "set1  = set(files)\n",
    "set2 =  set(os.listdir(jb1Folder))"
   ]
  },
  {
   "cell_type": "code",
   "execution_count": 12,
   "id": "6b566301",
   "metadata": {},
   "outputs": [],
   "source": [
    "# Find elements that are common to both sets\n",
    "common_elements = set1.intersection(set2)"
   ]
  },
  {
   "cell_type": "code",
   "execution_count": 18,
   "id": "ed5f4637",
   "metadata": {},
   "outputs": [],
   "source": [
    "file1 =list(common_elements)[0]"
   ]
  },
  {
   "cell_type": "code",
   "execution_count": 19,
   "id": "73384775",
   "metadata": {},
   "outputs": [],
   "source": [
    "fileOneLoc = os.path.join(mfdfaDataFrames, file1)\n",
    "fileTwoLoc = os.path.join(jb1Folder, file1)"
   ]
  },
  {
   "cell_type": "code",
   "execution_count": 20,
   "id": "9fb5ade8",
   "metadata": {},
   "outputs": [],
   "source": [
    "fileOne = pd.read_pickle(fileOneLoc)"
   ]
  },
  {
   "cell_type": "code",
   "execution_count": 21,
   "id": "7cb09987",
   "metadata": {},
   "outputs": [],
   "source": [
    "fileTwo = pd.read_pickle(fileTwoLoc)"
   ]
  },
  {
   "cell_type": "code",
   "execution_count": 22,
   "id": "38d7a3d0",
   "metadata": {},
   "outputs": [
    {
     "data": {
      "text/plain": [
       "pandas.core.frame.DataFrame"
      ]
     },
     "execution_count": 22,
     "metadata": {},
     "output_type": "execute_result"
    }
   ],
   "source": [
    "type(fileOne)"
   ]
  },
  {
   "cell_type": "code",
   "execution_count": 27,
   "id": "6a4d34d6",
   "metadata": {},
   "outputs": [
    {
     "data": {
      "text/html": [
       "<div>\n",
       "<style scoped>\n",
       "    .dataframe tbody tr th:only-of-type {\n",
       "        vertical-align: middle;\n",
       "    }\n",
       "\n",
       "    .dataframe tbody tr th {\n",
       "        vertical-align: top;\n",
       "    }\n",
       "\n",
       "    .dataframe thead th {\n",
       "        text-align: right;\n",
       "    }\n",
       "</style>\n",
       "<table border=\"1\" class=\"dataframe\">\n",
       "  <thead>\n",
       "    <tr style=\"text-align: right;\">\n",
       "      <th></th>\n",
       "    </tr>\n",
       "  </thead>\n",
       "  <tbody>\n",
       "  </tbody>\n",
       "</table>\n",
       "</div>"
      ],
      "text/plain": [
       "Empty DataFrame\n",
       "Columns: []\n",
       "Index: []"
      ]
     },
     "execution_count": 27,
     "metadata": {},
     "output_type": "execute_result"
    }
   ],
   "source": [
    "fileOne"
   ]
  },
  {
   "cell_type": "code",
   "execution_count": null,
   "id": "9c351b33",
   "metadata": {},
   "outputs": [],
   "source": []
  }
 ],
 "metadata": {
  "kernelspec": {
   "display_name": "Python [conda env:newTimeSeries] *",
   "language": "python",
   "name": "conda-env-newTimeSeries-py"
  },
  "language_info": {
   "codemirror_mode": {
    "name": "ipython",
    "version": 3
   },
   "file_extension": ".py",
   "mimetype": "text/x-python",
   "name": "python",
   "nbconvert_exporter": "python",
   "pygments_lexer": "ipython3",
   "version": "3.6.13"
  }
 },
 "nbformat": 4,
 "nbformat_minor": 5
}
