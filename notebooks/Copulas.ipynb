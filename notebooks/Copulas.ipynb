{
 "cells": [
  {
   "cell_type": "code",
   "execution_count": 7,
   "metadata": {
    "collapsed": false
   },
   "outputs": [],
   "source": [
    "from pandas import *\n",
    "import pandas as pd\n",
    "import numpy as np\n",
    "import sys\n",
    "import pylab as plt\n",
    "import random\n",
    "import numpy.random\n",
    "import pandas as pd\n",
    "##import HMMVS_CR\n",
    "import glob as glob\n",
    "from scipy.special import erf\n",
    "from scipy.stats import expon\n",
    "from scipy.stats import norm\n",
    "import os\n",
    "path =('/home/ak/Documents/Research/QFPaper/Code/')\n",
    "copula_path=('/home/ak/Documents/Research/QFPaper/Code/Copula Code/')\n",
    "os.chdir(path)\n",
    "import hmm\n",
    "import seaborn as sns"
   ]
  },
  {
   "cell_type": "code",
   "execution_count": 8,
   "metadata": {
    "collapsed": false
   },
   "outputs": [],
   "source": [
    "import os\n",
    "os.listdir(copula_path)\n",
    "os.chdir(copula_path)\n",
    "from rstable1 import *\n",
    "from copula_fit import *\n",
    "from copula_cdf import *\n",
    "from copula_plot_functions import *\n",
    "from copula_pdf import *\n",
    "from copulastat import *\n",
    "data_set=pd.DataFrame()\n",
    "#xi =data_set['xi']\n",
    "\n",
    "\n"
   ]
  },
  {
   "cell_type": "code",
   "execution_count": 9,
   "metadata": {
    "collapsed": false
   },
   "outputs": [],
   "source": [
    "def get_f_with_copula(self, data_set, hmm_lmdba, p, sigma):\n",
    "    \"\"\"\n",
    "    This function implements the discrete-continuous density as in Equation-3, Section 3.1 in Cartea paper\\n\",\n",
    "                Tau_Value is the value of Duration where we want the density\\n\",\n",
    "      \"        X_Value is the value of X\\n\",\n",
    "      \"        Lambda, p, Sigma are parameters of this density\\n\",\n",
    "      \"        :param data_set:\\n\",\n",
    "      \"        :param hmm_lmdba:\\n\",\n",
    "      \"        :param p:\\n\",\n",
    "      \"        :param sigma:\\n\",\n",
    "      \"        :return:\\n\",\n",
    "    \"\"\"\n",
    "    self.get_f(data_set, Lambda[j], p[j], Sigma[j])   # How it is called\\n\",\n",
    "    family = self.copula_data_dict['family']\n",
    "    Rho = self.copula_data_dict['parameter_set'][0]\n",
    "    nu = 2\n",
    "    alpha = 5\n",
    "    tau = data_set['tau']\n",
    "    v = [self.cdf_duration(Tau_Value, hmm_lmdba) for Tau_Value in tau] # duration as copula variable in [0, 1]\\n\",\n",
    "    tau = -hmm_lamdba * tau \n",
    "    first_part_of_density = np.exp(tau.values) * (1 - np.exp(-hmm_lmdba))    # tau.values return contents of Series 'tau' as an ndarray\\n\",\n",
    "    # X_Value (price_change)\n",
    "    price_change = data_set['price_change']\n",
    "    u = [self.cdf_price_revision(X_value, p, sigma) for X_value in price_change] # price change as copula variable in [0, 1]\\n\",\n",
    "    second_part_of_density = self.get_gausian_density(price_change, sigma, p)\n",
    "    #print \\\"(Tau = \\\", data_set['tau'], \\\"X = \\\", price_change, \\\") FirstPartOfDensity = \\\", first_part_of_density\\n\",\n",
    "    #print \\\"(Tau = \\\", data_set['tau'], \\\"X = \\\", price_change, \\\") SecondPartOfDensity = \\\", second_part_of_density\\n\",\n",
    "    density = first_part_of_density * second_part_of_density\n",
    "    # print density\\n\",\n",
    "    U = np.array([u, v]).T   # copula variabls in unit squre\n",
    "    copula_part_of_density = copulapdf.copulapdf(family, U, Rho)\n",
    "    # print copula_part_of_density\\n\",\n",
    "    density = density * copula_part_of_density\n",
    "    # print density\\n\",\n",
    "    arr_density = density.values\n",
    "    arr_density[arr_density < epsilion] = epsilion\n",
    "    #arr_density[arr_density >= epsilion] = epsilion\\n\",\n",
    "    return arr_density\n"
   ]
  },
  {
   "cell_type": "code",
   "execution_count": null,
   "metadata": {
    "collapsed": true
   },
   "outputs": [],
   "source": [
    "def expcdf(x):\n",
    "    #cumulative distribution function for an exponential distribution\\n\",\n",
    "    return expon.cdf(x)\n",
    "    \n",
    "    \n",
    "def get_f_copula(data_set, hmm_lambda, p, sigma, family):\\n\",\n",
    "    \"\"\"\n",
    "    Implementation the discrete-continuous density as in Equation-3, Section 3.1 in Cartea paper\\n\",\n",
    "    It returns the vector of likelihood probabilities for duration and price changes.\\n\",\n",
    "    :param data_set: Observed data\\n\",\n",
    "    :param p: vector of probabilities for zero price innovation per every observation data point\\n\",\n",
    "    :param sigma: std dev for non zero price innovation\\n\",\n",
    "    \"\"\"\n",
    "    if family == 'gaussian':\n",
    "        copula_data_dict = {'family' : family, 'parameter_set' : Rho}\n",
    "    elif family == 't':\n",
    "    copula_data_dict = {'family' : family, 'parameter_set' : [Rho, nu]}\n",
    "    elif family == 'frank':\n",
    "     copula_data_dict = {'family' : family, 'parameter_set' : alpha} \n",
    "    elif family == 'no_copula':\n",
    "     copula_data_dict = {}\n",
    "    tau = data_set['tau']\n",
    "     #work with numpy instead of pd.Series\\n\",\n",
    "    tau = -hmm_lambda * tau.values\n",
    "    price_change = data_set['price_change'].values\n",
    "    first_part_of_density = np.exp(tau) * (1 - np.exp(-hmm_lambda))\n",
    "    second_part_of_density = Cartea.get_gausian_mixture_density(price_change, sigma, p)\n",
    "    #copula_density = \n",
    "    density = first_part_of_density * second_part_of_density\n",
    "    epsilon = 0.00001\n",
    "    density[densitf_y < epsilon] = epsilon\n",
    "    return density"
   ]
  },
  {
   "cell_type": "code",
   "execution_count": null,
   "metadata": {
    "collapsed": true
   },
   "outputs": [],
   "source": []
  }
 ],
 "metadata": {
  "kernelspec": {
   "display_name": "Python 2",
   "language": "python",
   "name": "python2"
  },
  "language_info": {
   "codemirror_mode": {
    "name": "ipython",
    "version": 2
   },
   "file_extension": ".py",
   "mimetype": "text/x-python",
   "name": "python",
   "nbconvert_exporter": "python",
   "pygments_lexer": "ipython2",
   "version": "2.7.9"
  }
 },
 "nbformat": 4,
 "nbformat_minor": 0
}
