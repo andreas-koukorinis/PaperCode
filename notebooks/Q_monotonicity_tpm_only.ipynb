{
 "cells": [
  {
   "cell_type": "code",
   "execution_count": 7,
   "metadata": {
    "collapsed": false
   },
   "outputs": [
    {
     "name": "stdout",
     "output_type": "stream",
     "text": [
      "sigma: \n",
      "\n",
      "[0.3, 0.8, 1] \n",
      "\n",
      "transmat:\n",
      "[[ 0.50866113  0.33863492  0.15270396]\n",
      " [ 0.17563367  0.67440608  0.14996025]\n",
      " [ 0.05114943  0.39682856  0.55202201]] \n",
      "\n"
     ]
    }
   ],
   "source": [
    "import sys \n",
    "import numpy as np \n",
    "sys.path.append('/home/ak/Documents/Research/QFPaper/Code/')\n",
    "import hmm \n",
    "import pandas as pd\n",
    "import plotly\n",
    "import plotly.plotly as py\n",
    "import seaborn as sns\n",
    "from hmm import hmm_calibration\n",
    "from observation_models import *\n",
    "import matplotlib.pyplot as plt \n",
    "%matplotlib inline \n",
    "import copy\n",
    "\n",
    "prng = np.random.RandomState(10)\n",
    "n_components = 3\n",
    "startprob = prng.rand(n_components)\n",
    "startprob = startprob / startprob.sum()\n",
    "transmat = prng.rand(n_components, n_components) #random starting point\n",
    "transmat /= np.tile(transmat.sum(axis=1)[:, np.newaxis], (1, n_components))#normalising so all entries sum up to 1\n",
    "\n",
    "sigmas = [ .3, 0.8, 1][0:n_components]\n",
    "lambdas = [0.5, 5., 0.8][0:n_components]\n",
    "weights = [0, 0, 0][0:n_components]\n",
    "init = 1. / n_components\n",
    "\n",
    "tpm_init = np.full((n_components, n_components), init)\n",
    "priors = {'sigmas':sigmas[0:n_components], 'lambdas':lambdas[0:n_components], \n",
    "          'weights':weights[0:n_components], \n",
    "          'tpm': tpm_init, 'pi': startprob}\n",
    "\n",
    "sample_size = 500\n",
    "\n",
    "#generate state and observation data from the \\\"right\\\" distribution\\n\",\n",
    "states = hmm_calibration.sample_states(startprob, transmat, prng, sample_size = sample_size)\n",
    "#define the calibrator and model \n",
    "observation_data = Exp_UniGauss.sample_data(states,lambdas, sigmas, weights, 0, rng=prng)\n",
    "data_set = pd.DataFrame()\n",
    "data_set['tau'] = observation_data[0]\n",
    "data_set['price_change'] = observation_data[1]\n",
    "update_tag = 't'\n",
    "\n",
    "obs_model = Exp_UniGauss(n_components, epsilon=0)\n",
    "the_hmm = hmm_calibration(obs_model, n_components, max_iter=10) \n",
    "result = the_hmm.run_hmm(data_set, update_tag=update_tag, initialise_method_tag=None, priors=priors, rng=prng)\n",
    "print \"transmat:\" \n",
    "print transmat, \"\\n\" "
   ]
  },
  {
   "cell_type": "code",
   "execution_count": 8,
   "metadata": {
    "collapsed": false
   },
   "outputs": [
    {
     "name": "stdout",
     "output_type": "stream",
     "text": [
      "[[ 0.33988139  0.35939499  0.30072362]\n",
      " [ 0.26055825  0.44995867  0.28948308]\n",
      " [ 0.26653298  0.40848289  0.32498414]] \n",
      "\n",
      "[[ 0.36745028  0.35616292  0.2763868 ]\n",
      " [ 0.22066995  0.52937676  0.24995329]\n",
      " [ 0.22699705  0.4493269   0.32367604]] \n",
      "\n",
      "[[ 0.4022215   0.34033007  0.25744843]\n",
      " [ 0.20211347  0.57679905  0.22108749]\n",
      " [ 0.20023188  0.46854696  0.33122116]] \n",
      "\n",
      "[[ 0.43463482  0.32290367  0.24246151]\n",
      " [ 0.1950036   0.60417277  0.20082363]\n",
      " [ 0.17817225  0.47685844  0.34496931]] \n",
      "\n",
      "[[ 0.46077828  0.30825193  0.23096979]\n",
      " [ 0.19343354  0.6203978   0.18616865]\n",
      " [ 0.15788663  0.47999712  0.36211625]] \n",
      "\n",
      "[[ 0.48043373  0.29706704  0.22249923]\n",
      " [ 0.19439983  0.63054932  0.17505085]\n",
      " [ 0.13893945  0.48052955  0.38053101]] \n",
      "\n",
      "[[ 0.49480531  0.28876745  0.21642725]\n",
      " [ 0.19647562  0.63730687  0.16621751]\n",
      " [ 0.12161718  0.47964176  0.39874106]] \n",
      "\n",
      "[[ 0.50526185  0.28259167  0.21214648]\n",
      " [ 0.19898773  0.64208595  0.15892633]\n",
      " [ 0.10618203  0.47799324  0.41582473]] \n",
      "\n",
      "[[ 0.51290984  0.27792486  0.2091653 ]\n",
      " [ 0.20160939  0.64565399  0.15273662]\n",
      " [ 0.0927002   0.47600752  0.43129227]] \n",
      "\n",
      "[[ 0.51854714  0.2743317   0.20712116]\n",
      " [ 0.20417735  0.64843862  0.14738403]\n",
      " [ 0.08107741  0.47396024  0.44496235]] \n",
      "\n"
     ]
    }
   ],
   "source": [
    "for step_obj in result['step_calibrations']: \n",
    "    print step_obj.tpm_, \"\\n\" \n",
    "   "
   ]
  },
  {
   "cell_type": "code",
   "execution_count": 19,
   "metadata": {
    "collapsed": false
   },
   "outputs": [
    {
     "name": "stdout",
     "output_type": "stream",
     "text": [
      "empirical:\n",
      "[[ 0.50793651  0.36507937  0.12698413]\n",
      " [ 0.21189591  0.6802974   0.10780669]\n",
      " [ 0.03846154  0.39423077  0.56730769]] \n",
      "\n",
      "original:\n",
      "[[ 0.50866113  0.33863492  0.15270396]\n",
      " [ 0.17563367  0.67440608  0.14996025]\n",
      " [ 0.05114943  0.39682856  0.55202201]]\n"
     ]
    }
   ],
   "source": [
    "tpm_hat = np.zeros\n",
    "gamma_hat = np.zeros(n_components) \n",
    "tpm_hat = np.zeros((n_components, n_components)) \n",
    "\n",
    "for i in range(sample_size-1):\n",
    "    tpm_hat[states[i], states[i+1]] += 1 \n",
    "    gamma_hat[states[i]] += 1 \n",
    "\n",
    "tpm_hat /= float(sample_size)\n",
    "gamma_hat /=float(sample_size) \n",
    "\n",
    "for i in range(n_components): \n",
    "    tpm_hat[i,:] /= gamma_hat[i]\n",
    "\n",
    "\n",
    "print \"empirical:\\n\", tpm_hat,\"\\n\"\n",
    "print \"original:\\n\", transmat \n",
    "    \n",
    "\n"
   ]
  }
 ],
 "metadata": {
  "kernelspec": {
   "display_name": "Python 2",
   "language": "python",
   "name": "python2"
  },
  "language_info": {
   "codemirror_mode": {
    "name": "ipython",
    "version": 2
   },
   "file_extension": ".py",
   "mimetype": "text/x-python",
   "name": "python",
   "nbconvert_exporter": "python",
   "pygments_lexer": "ipython2",
   "version": "2.7.6"
  }
 },
 "nbformat": 4,
 "nbformat_minor": 0
}
