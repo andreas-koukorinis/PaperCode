{
 "cells": [
  {
   "cell_type": "code",
   "execution_count": 10,
   "metadata": {
    "collapsed": false
   },
   "outputs": [],
   "source": [
    "import sys \n",
    "import numpy as np \n",
    "sys.path.append('/home/ak/Documents/Research/QFPaper/Code/')\n",
    "import hmm \n",
    "import pandas as pd\n",
    "import plotly\n",
    "import plotly.plotly as py\n",
    "import seaborn as sns\n",
    "from hmm import hmm_calibration\n",
    "from observation_models import *\n",
    "import matplotlib.pyplot as plt \n",
    "%matplotlib inline \n",
    "import copy\n",
    "\n",
    "prng = np.random.RandomState(10)\n",
    "n_components = 3\n",
    "startprob = prng.rand(n_components)\n",
    "startprob = startprob / startprob.sum()\n",
    "transmat = prng.rand(n_components, n_components) #random starting point\n",
    "transmat /= np.tile(transmat.sum(axis=1)[:, np.newaxis], (1, n_components))#normalising so all entries sum up to 1\n",
    "epsilon = 1e-3\n",
    "\n",
    "sigmas = [ .3, 0.8, 1][0:n_components]\n",
    "lambdas = [0.5, 1, 0.8][0:n_components]\n",
    "weights = [0.2, 0.1, 0.05][0:n_components]\n",
    "priors = {'sigmas':sigmas, 'lambdas':[0.4, 0.8, 0.6][0:n_components], \n",
    "          'weights':weights,\n",
    "          'pi': startprob, \n",
    "          'tpm': transmat}\n",
    "sample_size = 500\n",
    "#generate state and observation data from the \\\"right\\\" distribution\\n\",\n",
    "states = hmm_calibration.sample_states(startprob, transmat, prng, sample_size=sample_size)\n",
    "\n",
    "observation_data = Exp_UniGauss.sample_data(states,lambdas, sigmas, weights, epsilon, rng=prng)\n",
    "data_set = pd.DataFrame()\n",
    "data_set['tau'] = observation_data[0]\n",
    "data_set['price_change'] = observation_data[1]\n",
    "#define the calibrator and model \n",
    "update_tag = 'l'\n",
    "\n",
    "obs_model = Exp_UniGauss(n_components, epsilon=epsilon)\n",
    "the_hmm = hmm_calibration(obs_model, n_components, max_iter=10) \n",
    "result = the_hmm.run_hmm(data_set, update_tag=update_tag, initialise_method_tag=None,priors=priors, rng=prng)\n"
   ]
  },
  {
   "cell_type": "code",
   "execution_count": 11,
   "metadata": {
    "collapsed": false
   },
   "outputs": [
    {
     "data": {
      "text/plain": [
       "[0.42407102045332645, 0.94223986857469755, 0.87045228183833545]"
      ]
     },
     "execution_count": 11,
     "metadata": {},
     "output_type": "execute_result"
    }
   ],
   "source": [
    "#for step_object in result['step_calibrations']: \n",
    "#    print step_object.tpm_, \"\\n\"  \n",
    "result['step_calibrations'][-1].obs_model_.lambdas_    "
   ]
  },
  {
   "cell_type": "code",
   "execution_count": 9,
   "metadata": {
    "collapsed": false
   },
   "outputs": [
    {
     "name": "stdout",
     "output_type": "stream",
     "text": [
      "In  1 \n",
      "\n",
      "[0.43778311084695132, 1.3244684932432922, 0.5864929252125709]\n",
      "In  2 \n",
      "\n",
      "[0.60372216080895724, 1.3830821342581594, 0.59208583153510819]\n",
      "In  3 \n",
      "\n",
      "[0.7106233317574191, 1.1717723800207225, 0.58611760860111373]\n",
      "In  4 \n",
      "\n",
      "[0.66376435890900809, 1.1452654962604951, 0.66339428389498201]\n",
      "In  5 \n",
      "\n",
      "[0.64661020629967714, 1.1356992608700307, 0.70126668507664447]\n",
      "In  6 \n",
      "\n",
      "[0.56118522318845665, 1.1661701777254678, 0.73559553270892086]\n",
      "In  7 \n",
      "\n",
      "[0.55340205295664913, 1.1109234947053512, 0.75797418960851914]\n",
      "In  8 \n",
      "\n",
      "[0.57425223566285111, 1.0464134436930035, 0.78554246482682566]\n",
      "In  9 \n",
      "\n",
      "[0.57384225639986053, 1.0408141520716783, 0.75285333095231244]\n",
      "In  10 \n",
      "\n",
      "[0.5796739198027071, 1.0750090318820997, 0.70906067343276513]\n"
     ]
    }
   ],
   "source": [
    "sample_size = 1000\n",
    "#generate state and observation data from the \\\"right\\\" distribution\\n\",\n",
    "states = hmm_calibration.sample_states(startprob, transmat, prng, sample_size=sample_size)\n",
    "\n",
    "observation_data=Exp_UniGauss.sample_data(states,lambdas, sigmas, weights, 0, rng=prng)\n",
    "data_set = pd.DataFrame()\n",
    "data_set['tau'] = observation_data[0]\n",
    "data_set['price_change'] = observation_data[1]\n",
    "\n",
    "for i in range(1,11): \n",
    "    df = data_set[0:i*100]\n",
    "    result = the_hmm.run_hmm(df, update_tag=update_tag, initialise_method_tag=None,priors=priors, rng=prng)\n",
    "    last_calibration = result['step_calibrations'][-1]\n",
    "    #optimal_obs_ll = last_calibration.obs_model_.score(df)\n",
    "    #complete_log_likelihoods.append(last_calibration.complete_data_log_likelihood(optimal_obs_ll)) \n",
    "    print \"In \", i, \"\\n\" \n",
    "    print last_calibration.obs_model_.lambdas_ \n",
    "    "
   ]
  },
  {
   "cell_type": "code",
   "execution_count": null,
   "metadata": {
    "collapsed": true
   },
   "outputs": [],
   "source": []
  }
 ],
 "metadata": {
  "kernelspec": {
   "display_name": "Python 2",
   "language": "python",
   "name": "python2"
  },
  "language_info": {
   "codemirror_mode": {
    "name": "ipython",
    "version": 2
   },
   "file_extension": ".py",
   "mimetype": "text/x-python",
   "name": "python",
   "nbconvert_exporter": "python",
   "pygments_lexer": "ipython2",
   "version": "2.7.6"
  }
 },
 "nbformat": 4,
 "nbformat_minor": 0
}
