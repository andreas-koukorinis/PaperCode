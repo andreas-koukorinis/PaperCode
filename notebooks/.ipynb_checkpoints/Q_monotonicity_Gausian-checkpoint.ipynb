{
 "cells": [
  {
   "cell_type": "code",
   "execution_count": 1,
   "metadata": {
    "collapsed": false
   },
   "outputs": [
    {
     "ename": "ImportError",
     "evalue": "No module named hmm",
     "output_type": "error",
     "traceback": [
      "\u001b[1;31m---------------------------------------------------------------------------\u001b[0m",
      "\u001b[1;31mImportError\u001b[0m                               Traceback (most recent call last)",
      "\u001b[1;32m<ipython-input-1-32148e12eff1>\u001b[0m in \u001b[0;36m<module>\u001b[1;34m()\u001b[0m\n\u001b[0;32m      1\u001b[0m \u001b[1;32mimport\u001b[0m \u001b[0mnumpy\u001b[0m \u001b[1;32mas\u001b[0m \u001b[0mnp\u001b[0m\u001b[1;33m\u001b[0m\u001b[0m\n\u001b[1;32m----> 2\u001b[1;33m \u001b[1;32mfrom\u001b[0m \u001b[0mhmm\u001b[0m \u001b[1;32mimport\u001b[0m \u001b[0mhmm_calibration\u001b[0m\u001b[1;33m\u001b[0m\u001b[0m\n\u001b[0m\u001b[0;32m      3\u001b[0m \u001b[1;32mfrom\u001b[0m \u001b[0mobservation_models\u001b[0m \u001b[1;32mimport\u001b[0m \u001b[0mGaussian\u001b[0m\u001b[1;33m\u001b[0m\u001b[0m\n\u001b[0;32m      4\u001b[0m \u001b[1;32mfrom\u001b[0m \u001b[0msklearn\u001b[0m\u001b[1;33m.\u001b[0m\u001b[0mdatasets\u001b[0m\u001b[1;33m.\u001b[0m\u001b[0msamples_generator\u001b[0m \u001b[1;32mimport\u001b[0m \u001b[0mmake_spd_matrix\u001b[0m\u001b[1;33m\u001b[0m\u001b[0m\n\u001b[0;32m      5\u001b[0m \u001b[1;32mfrom\u001b[0m \u001b[0mhmm_utils\u001b[0m \u001b[1;32mimport\u001b[0m \u001b[0mnormalize\u001b[0m\u001b[1;33m\u001b[0m\u001b[0m\n",
      "\u001b[1;31mImportError\u001b[0m: No module named hmm"
     ]
    }
   ],
   "source": [
    "import numpy as np\n",
    "import sys \n",
    "sys.path.append('/home/ak/Documents/Research/QFPaper/Code/') \n",
    "\n",
    "from hmm import hmm_calibration\n",
    "from observation_models import Gaussian\n",
    "from sklearn.datasets.samples_generator import make_spd_matrix\n",
    "from hmm_utils import normalize\n",
    "\n",
    "prng = np.random.RandomState(10)\n",
    "n_hidden_states = 3\n",
    "n_features = 3\n",
    "###This is like the set up func Unit test of hmmlearn ############\n",
    "startprob = prng.rand(n_hidden_states)\n",
    "startprob = startprob / startprob.sum()\n",
    "transmat = prng.rand(n_hidden_states, n_hidden_states)\n",
    "transmat /= np.tile(transmat.sum(axis=1)[:, np.newaxis],\n",
    "                                 (1, n_hidden_states))\n",
    "\n",
    "means = prng.randint(-20, 20, (n_hidden_states, n_features))\n",
    "covars = (1.0 + 2 * prng.rand(n_hidden_states, n_features)) ** 2\n",
    "            \n",
    "transmat = normalize(transmat + np.diag(prng.rand(n_hidden_states)), 1)\n",
    "diag_sigmas = covars['diag']\n",
    "\n",
    "sample_size = 100\n",
    "\n",
    "update_tag = 'tpsm'\n",
    "\n",
    "states = hmm_calibration.sample_states(startprob, transmat, prng, sample_size=sample_size)\n",
    "obs = Gaussian.sample_data(states, 20*means, diag_sigmas, rng=prng)\n",
    "obs_model = Gaussian(n_hidden_states, n_features)\n",
    "the_hmm = hmm_calibration(obs_model, n_hidden_states, max_iter=10)\n",
    "res = the_hmm.run_hmm(obs, update_tag=update_tag, initialise_method_tag='uniform', rng=prng)\n",
    "\n"
   ]
  },
  {
   "cell_type": "code",
   "execution_count": null,
   "metadata": {
    "collapsed": true
   },
   "outputs": [],
   "source": []
  }
 ],
 "metadata": {
  "kernelspec": {
   "display_name": "Python 2",
   "language": "python",
   "name": "python2"
  },
  "language_info": {
   "codemirror_mode": {
    "name": "ipython",
    "version": 2
   },
   "file_extension": ".py",
   "mimetype": "text/x-python",
   "name": "python",
   "nbconvert_exporter": "python",
   "pygments_lexer": "ipython2",
   "version": "2.7.6"
  }
 },
 "nbformat": 4,
 "nbformat_minor": 0
}
