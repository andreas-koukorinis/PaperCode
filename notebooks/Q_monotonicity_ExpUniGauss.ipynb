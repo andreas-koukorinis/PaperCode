{
 "cells": [
  {
   "cell_type": "code",
   "execution_count": null,
   "metadata": {
    "collapsed": true
   },
   "outputs": [],
   "source": [
    "import sys \n",
    "import numpy as np \n",
    "sys.path.append('/home/ak/Documents/Research/QFPaper/Code/')\n",
    "import hmm \n",
    "import pandas as pd\n",
    "import plotly\n",
    "import plotly.plotly as py\n",
    "import seaborn as sns\n",
    "from hmm import hmm_calibration\n",
    "from observation_models import *\n",
    "import matplotlib.pyplot as plt \n",
    "%matplotlib inline \n",
    "import copy\n",
    "\n",
    "prng = np.random.RandomState(10)\n",
    "n_components = 3\n",
    "startprob = prng.rand(n_components)\n",
    "startprob = startprob / startprob.sum()\n",
    "transmat = prng.rand(n_components, n_components) #random starting point\n",
    "transmat /= np.tile(transmat.sum(axis=1)[:, np.newaxis], (1, n_components))#normalising so all entries sum up to 1\n",
    "\n",
    "sigmas = [ .3, 0.8, 1][0:n_components]\n",
    "lambdas = [0.5, 5., 0.8][0:n_components]\n",
    "weights = [0, 0, 0][0:n_components]\n",
    "priors = {'sigmas':[0.3, .85, 1.05][0:n_components], 'lambdas':[0.05, 0.9, 0.72][0:n_components], \n",
    "          'weights':[0.1, 0.02, 0.03][0:n_components]}\n",
    "sample_size = 500\n",
    "#generate state and observation data from the \\\"right\\\" distribution\\n\",\n",
    "states = hmm_calibration.sample_states(startprob, transmat, prng, sample_size=sample_size)\n",
    "\n",
    "observation_data=Exp_UniGauss.sample_data(states,lambdas, sigmas, weights, 0, rng=prng)\n",
    "data_set = pd.DataFrame()\n",
    "data_set['tau'] = observation_data[0]\n",
    "data_set['price_change'] = observation_data[1]\n",
    "#define the calibrator and model \n",
    "update_tag = 'tpsl'\n",
    "\n",
    "obs_model = Exp_UniGauss(n_components, epsilon=0)\n",
    "the_hmm = hmm_calibration(obs_model, n_components, max_iter=10) \n",
    "result = the_hmm.run_hmm(data_set, update_tag=update_tag, initialise_method_tag='uniform',priors=priors, rng=prng)"
   ]
  }
 ],
 "metadata": {
  "kernelspec": {
   "display_name": "Python 2",
   "language": "python",
   "name": "python2"
  },
  "language_info": {
   "codemirror_mode": {
    "name": "ipython",
    "version": 2
   },
   "file_extension": ".py",
   "mimetype": "text/x-python",
   "name": "python",
   "nbconvert_exporter": "python",
   "pygments_lexer": "ipython2",
   "version": "2.7.6"
  }
 },
 "nbformat": 4,
 "nbformat_minor": 0
}
