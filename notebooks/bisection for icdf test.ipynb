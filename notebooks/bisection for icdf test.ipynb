{
 "cells": [
  {
   "cell_type": "code",
   "execution_count": 1,
   "metadata": {},
   "outputs": [],
   "source": [
    "import scipy.optimize as optimize\n",
    "import numpy as np\n",
    "from scipy.stats import norm\n",
    "from scipy.special import ndtri as ndtri\n",
    "from scipy.stats import uniform\n",
    "from functools import partial as partial\n",
    "import random\n",
    "import matplotlib.pyplot as plt\n",
    "import ipdb\n",
    "%matplotlib inline"
   ]
  },
  {
   "cell_type": "code",
   "execution_count": null,
   "metadata": {},
   "outputs": [],
   "source": []
  },
  {
   "cell_type": "markdown",
   "metadata": {},
   "source": []
  },
  {
   "cell_type": "code",
   "execution_count": 2,
   "metadata": {},
   "outputs": [],
   "source": [
    "def pdf_mix(x_var, epsilon, w, mu, standev):\n",
    "    F_mix = w*uniform.pdf(x_var, loc=-epsilon, scale=2*epsilon) + (1-w)*norm.pdf(x_var, loc=mu, scale=standev)\n",
    "    \n",
    "    return pdf_mix\n",
    "    "
   ]
  },
  {
   "cell_type": "code",
   "execution_count": 3,
   "metadata": {},
   "outputs": [],
   "source": [
    "#y_0=0.04\n",
    "w=0.6\n",
    "epsilon=1\n",
    "standev=0.2\n",
    "mu=0\n",
    "y_0=0.9"
   ]
  },
  {
   "cell_type": "code",
   "execution_count": null,
   "metadata": {},
   "outputs": [],
   "source": [
    "def cdf_uninorm(x_var,w, epsilon,mu, standev):\n",
    "    F_mix = w*uniform.cdf(x_var, loc=-epsilon, scale=2*epsilon) + (1-w)*norm.cdf(x_var, loc=mu, scale=standev)\n",
    "#     ipdb.set_trace()\n",
    "    return F_mix\n",
    "  "
   ]
  },
  {
   "cell_type": "code",
   "execution_count": null,
   "metadata": {},
   "outputs": [],
   "source": [
    "def icdf_uninorm(y_0, w, epsilon, mu, standev):    \n",
    "    ipdb.set_trace()  \n",
    "     \n",
    "    a_low =(1-w)*norm.cdf(-epsilon, loc=mu, scale=standev)\n",
    "    a_high= w +(1-w)*norm.cdf(epsilon, loc=mu, scale=standev)\n",
    "    #bound_cdf_mix= partial(cdf_mix, epsilon, w, mu, standev)\n",
    "    def eq_func(x): \n",
    "        return cdf_uninorm(x, w, epsilon, mu, standev) - y_0 \n",
    "    \n",
    "    if y_0 <a_low:\n",
    "        icdf_ = norm.ppf(y_0/(1-w), mu, scale=standev)\n",
    "    \n",
    "    elif a_low <= y_0 < a_high:\n",
    "        icdf_= optimize.bisect(eq_func, -epsilon,epsilon)\n",
    "    \n",
    "    elif y_0>= a_high:\n",
    "        icdf_ = norm.ppf((y_0 - w)/(1-w), loc=mu, scale=standev)\n",
    "    \n",
    "    return icdf_\n",
    "  \n",
    "  "
   ]
  },
  {
   "cell_type": "code",
   "execution_count": 6,
   "metadata": {},
   "outputs": [],
   "source": [
    "bound_cdf_uninorm= partial(cdf_uninorm, epsilon=1, w=0.6, mu=0, standev=0.2)\n",
    "bound_icdf_uninorm = partial(icdf_uninorm, epsilon=1, w=0.6, mu=0, standev=0.2)"
   ]
  },
  {
   "cell_type": "code",
   "execution_count": null,
   "metadata": {
    "scrolled": true
   },
   "outputs": [],
   "source": [
    "x_data=np.linspace(-2,4, num=100)\n",
    "#yy = map(bound_cdf_uninorm, x_data)\n",
    "#est_x_data = map(bound_icdf_uninorm, inverse_data)\n",
    "#x_data -est_x_data \n",
    "xx = x_data[60] \n",
    "xx\n",
    "yy  = cdf_uninorm(xx, w, epsilon, mu, standev) #bound_cdf_uninorm(xx)\n",
    "#inv_xx = icdf_uninorm(yy, w, epsilon, mu, standev)  #bound_icdf_uninorm(yy)\n",
    "# inv_xx - xx, xx"
   ]
  },
  {
   "cell_type": "code",
   "execution_count": 8,
   "metadata": {},
   "outputs": [
    {
     "data": {
      "text/plain": [
       "1.6363636363636367"
      ]
     },
     "execution_count": 8,
     "metadata": {},
     "output_type": "execute_result"
    }
   ],
   "source": [
    "xx = x_data[60] \n",
    "xx"
   ]
  },
  {
   "cell_type": "code",
   "execution_count": null,
   "metadata": {},
   "outputs": [],
   "source": [
    "cdf_uninorm(xx, w, epsilon, mu, standev)"
   ]
  },
  {
   "cell_type": "code",
   "execution_count": null,
   "metadata": {},
   "outputs": [],
   "source": []
  }
 ],
 "metadata": {
  "kernelspec": {
   "display_name": "Python 3",
   "language": "python",
   "name": "python3"
  },
  "language_info": {
   "codemirror_mode": {
    "name": "ipython",
    "version": 3
   },
   "file_extension": ".py",
   "mimetype": "text/x-python",
   "name": "python",
   "nbconvert_exporter": "python",
   "pygments_lexer": "ipython3",
   "version": "3.6.8"
  },
  "latex_envs": {
   "LaTeX_envs_menu_present": true,
   "autoclose": false,
   "autocomplete": true,
   "bibliofile": "biblio.bib",
   "cite_by": "apalike",
   "current_citInitial": 1,
   "eqLabelWithNumbers": true,
   "eqNumInitial": 1,
   "hotkeys": {
    "equation": "Ctrl-E",
    "itemize": "Ctrl-I"
   },
   "labels_anchors": false,
   "latex_user_defs": false,
   "report_style_numbering": false,
   "user_envs_cfg": false
  }
 },
 "nbformat": 4,
 "nbformat_minor": 1
}
