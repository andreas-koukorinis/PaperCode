{
 "cells": [
  {
   "cell_type": "code",
   "execution_count": 1,
   "metadata": {
    "collapsed": false
   },
   "outputs": [],
   "source": [
    "import sys \n",
    "import numpy as np \n",
    "sys.path.append('/home/ak/Documents/Research/QFPaper/Code/')\n",
    "import hmm \n",
    "import pandas as pd\n",
    "import plotly\n",
    "import plotly.plotly as py\n",
    "#import seaborn as sns\n",
    "from hmm import hmm_calibration\n",
    "from observation_models import *\n",
    "import matplotlib.pyplot as plt \n",
    "%matplotlib inline \n",
    "import copy\n",
    "from copy import deepcopy as dcopy\n",
    "\n",
    "prng = np.random.RandomState(10)\n",
    "n_components = 3\n",
    "startprob = prng.rand(n_components)\n",
    "startprob = startprob / startprob.sum()\n",
    "transmat = prng.rand(n_components, n_components) #random starting point\n",
    "transmat /= np.tile(transmat.sum(axis=1)[:, np.newaxis], (1, n_components))#normalising so all entries sum up to 1\n",
    "\n",
    "sigmas = [ .3, 0.8, 1][0:n_components]\n",
    "lambdas = [0.5, 5., 0.8][0:n_components]\n",
    "weights = [0, 0, 0][0:n_components]\n",
    "priors = {'sigmas':[0.3, .85, 1.05][0:n_components], 'lambdas':[0.05, 0.9, 0.72][0:n_components], \n",
    "          'weights':[0.1, 0.02, 0.03][0:n_components], \n",
    "          'tpm': transmat, 'pi': startprob}\n",
    "\n",
    "sample_size = 500\n",
    "no_data_sets = 10 \n",
    "#generate state and observation data from the \\\"right\\\" distribution\\n\",\n",
    "states = hmm_calibration.sample_states(startprob, transmat, prng, sample_size = sample_size)\n",
    "data_sets = [] \n",
    "for i in range(no_data_sets): \n",
    "    observation_data = Exp_UniGauss.sample_data(states,lambdas, sigmas, weights, 0, rng=prng)\n",
    "    data_set = pd.DataFrame()\n",
    "    data_set['tau'] = observation_data[0]\n",
    "    data_set['price_change'] = observation_data[1]\n",
    "    data_sets.append(data_set) \n",
    "    \n",
    "    \n",
    "#define the calibrator and model \n",
    "update_tag = 'sl'\n",
    "\n",
    "obs_model = Exp_UniGauss(n_components, epsilon=0)\n",
    "the_hmm = hmm_calibration(obs_model, n_components, max_iter=10) \n",
    "#result = the_hmm.run_hmm(data_set, update_tag=update_tag, initialise_method_tag=None, priors=priors, rng=prng)"
   ]
  },
  {
   "cell_type": "code",
   "execution_count": 4,
   "metadata": {
    "collapsed": false
   },
   "outputs": [
    {
     "name": "stdout",
     "output_type": "stream",
     "text": [
      "[0.13248238130580517, 0.72644817116799543, 0.7818749289060043]\n",
      "[0.19361941021738419, 0.7837653417556304, 0.80234047964556787]\n",
      "[0.43780719365332338, 0.76756640658657371, 0.93034927733013484]\n",
      "[0.25881545818392082, 0.80868177232797167, 1.0586340719082297]\n",
      "[0.29739656354351396, 0.76088478869392751, 0.65969030236481663]\n",
      "[0.24353509488375683, 0.93336383020122493, 1.0030352959797282]\n",
      "[0.25970505652197101, 0.82153614647498063, 1.0526904210072217]\n",
      "[0.15377298924520996, 0.66526373022037999, 0.81890831911266981]\n",
      "[0.21149055356474958, 0.89738902850338165, 0.87115478121792267]\n",
      "[0.24288541694892965, 0.83497069624668974, 0.86069445302970615]\n"
     ]
    }
   ],
   "source": [
    "lambdas_opt = []\n",
    "sigmas_opt = []\n",
    "    \n",
    "for i in range(no_data_sets):\n",
    "    ds = data_sets[i].iloc[0:100] \n",
    "    the_hmm.run_hmm(ds, update_tag=update_tag, initialise_method_tag=None, priors=priors, rng=prng)\n",
    "    print the_hmm.obs_model_.sigma_\n",
    "    lambdas_opt.append(the_hmm.obs_model_.lambdas_[:])\n",
    "    sigmas_opt.append(the_hmm.obs_model_.sigma_[:])\n",
    "\n",
    "               \n",
    "        \n",
    "        "
   ]
  },
  {
   "cell_type": "code",
   "execution_count": 5,
   "metadata": {
    "collapsed": true
   },
   "outputs": [],
   "source": [
    "lambdas_opt = [] \n",
    "sigmas_opt = [] \n",
    "for j in range(1,5):\n",
    "    for i in range(no_data_sets): \n",
    "        ds = data_sets[i].iloc[0:j*100] \n",
    "        the_hmm.run_hmm(ds, update_tag=update_tag, initialise_method_tag=None, priors=priors, rng=prng)\n",
    "        lambdas_opt.append(the_hmm.obs_model_.lambdas_[:])\n",
    "        sigmas_opt.append(the_hmm.obs_model_.sigma_[:]) \n",
    "\n"
   ]
  },
  {
   "cell_type": "code",
   "execution_count": 83,
   "metadata": {
    "collapsed": false
   },
   "outputs": [
    {
     "data": {
      "text/plain": [
       "[[0.12764817171361112, 0.72889925540921363, 0.77471610093098475],\n",
       " [0.19361222451957363, 0.78376997424580663, 0.80232691827281122],\n",
       " [0.4378063377591162, 0.76756647624012875, 0.93034924393635421],\n",
       " [0.25881540702780004, 0.80868177111218831, 1.0586340406898394],\n",
       " [0.29739656135500109, 0.76088478939976867, 0.65969030084239721],\n",
       " [0.24353509517194472, 0.93336383036174997, 1.0030352959212208],\n",
       " [0.25970505652259029, 0.82153614647459172, 1.05269042100844],\n",
       " [0.15377298924524843, 0.66526373022038177, 0.81890831911268669],\n",
       " [0.21149055356475044, 0.89738902850338098, 0.87115478121792667],\n",
       " [0.24288541694892979, 0.83497069624669051, 0.86069445302970549],\n",
       " [0.24738903576994759, 0.68903910977452276, 0.8753502275705608],\n",
       " [0.17756226628537122, 0.84116479651810228, 0.70667980400132713],\n",
       " [0.20705795928048057, 0.88125203901556748, 0.89948810155271741],\n",
       " [0.22148506350582978, 0.74984162126959741, 0.99210775015916564],\n",
       " [0.28642284025187387, 0.73327537325875991, 0.74034356071304463],\n",
       " [0.22630894706019886, 0.87222198768147108, 0.76385090806724121],\n",
       " [0.24749637868007546, 0.88158904274046601, 0.87108445002538437],\n",
       " [0.19189786302312084, 0.74540331051202779, 0.72210980078430775],\n",
       " [0.21250442601814951, 0.90411232973987721, 0.72302584252885005],\n",
       " [0.24771996834443108, 0.83870284346139901, 0.86750058627715187],\n",
       " [0.25383348936667299, 0.78803874160301723, 0.8511728017447342],\n",
       " [0.20020390647211467, 0.81845441665515672, 0.73878197818141955],\n",
       " [0.28137708050170041, 0.8581492441290961, 0.92798196884635709],\n",
       " [0.24360734020951375, 0.78432472726144731, 1.0272480008407372],\n",
       " [0.26462197636119655, 0.70828805477633217, 0.81129037396219483],\n",
       " [0.26044340015760176, 0.88267449238699613, 0.77529418364499936],\n",
       " [0.24155295500439031, 0.87128217586762691, 0.91169292319487327],\n",
       " [0.20409568233606137, 0.75282801680660671, 0.73874664423326608],\n",
       " [0.23304030734762171, 0.9035245423210081, 0.79807591098651465],\n",
       " [0.26729127414875253, 0.82278739105162357, 0.90746260919380128],\n",
       " [0.26851139433435572, 0.77185394862185785, 0.87916382017286532],\n",
       " [0.26179516779578077, 0.81871938285251622, 0.84786570554938023],\n",
       " [0.31683822630634878, 0.86565579341598387, 0.91327372629229719],\n",
       " [0.24844483894482797, 0.76889740399430107, 0.99821237508318617],\n",
       " [0.25273179751130553, 0.75179387777319884, 0.85955239943177619],\n",
       " [0.27979423681113408, 0.80979879431471236, 0.83681971293420954],\n",
       " [0.24060865544200041, 0.83132832448905847, 0.99890152589420855],\n",
       " [0.18597920028429663, 0.77809197620385395, 0.7710930683374172],\n",
       " [0.26678664592513096, 0.90233727539427844, 0.75319141138119294],\n",
       " [0.24427240710772033, 0.80784929955413853, 0.90915241395810775]]"
      ]
     },
     "execution_count": 83,
     "metadata": {},
     "output_type": "execute_result"
    }
   ],
   "source": [
    "sigmas_opt"
   ]
  },
  {
   "cell_type": "code",
   "execution_count": 6,
   "metadata": {
    "collapsed": true
   },
   "outputs": [],
   "source": [
    "sigmas_diff_sqr =(pd.DataFrame(sigmas_opt)-sigmas)**2\n",
    "lambdas_diff_sqr =(pd.DataFrame(lambdas_opt)-lambdas)**2\n",
    "\n"
   ]
  },
  {
   "cell_type": "code",
   "execution_count": 7,
   "metadata": {
    "collapsed": false
   },
   "outputs": [
    {
     "data": {
      "text/plain": [
       "0.79953234231664139"
      ]
     },
     "execution_count": 7,
     "metadata": {},
     "output_type": "execute_result"
    }
   ],
   "source": [
    "\n",
    "#####\n",
    "#for i in range(no_data_sets): \n",
    " #   results =pd.DataFrame()\n",
    "    #  results_2=pd.DataFrame()\n",
    "    # ds = data_sets[i].iloc[0:100] \n",
    "    # the_hmm.run_hmm(ds, update_tag=update_tag, initialise_method_tag=None, priors=priors, rng=prng)\n",
    "    # print the_hmm.obs_model_.sigma_\n",
    "    # results_2 +=results.append(the_hmm.obs_model_.sigma_)\n",
    "####    \n",
    "MSE=pd.DataFrame()\n",
    "\n",
    "type(np.matrix(sigmas)[:,0]- np.mean(np.matrix(sigmas_opt)[:,0])) \n",
    "xx =lambdas_diff_sqr[0:10][1]\n",
    "yy =lambdas_diff_sqr[0:30][1]\n",
    "np.average(xx)\n",
    "np.average(yy)"
   ]
  },
  {
   "cell_type": "code",
   "execution_count": 11,
   "metadata": {
    "collapsed": true
   },
   "outputs": [],
   "source": [
    "lambdas_mse_1 =np.average(lambdas_diff_sqr[0:10][0])\n",
    "lambdas_mse_2 =np.average(lambdas_diff_sqr[0:20][0])\n",
    "lambdas_mse_3 =np.average(lambdas_diff_sqr[0:30][0])\n",
    "lambdas_mse_4 =np.average(lambdas_diff_sqr[0:39][0])"
   ]
  },
  {
   "cell_type": "code",
   "execution_count": 9,
   "metadata": {
    "collapsed": false
   },
   "outputs": [
    {
     "data": {
      "text/plain": [
       "0.060501387846887009"
      ]
     },
     "execution_count": 9,
     "metadata": {},
     "output_type": "execute_result"
    }
   ],
   "source": [
    "mse_1"
   ]
  },
  {
   "cell_type": "code",
   "execution_count": 10,
   "metadata": {
    "collapsed": false
   },
   "outputs": [
    {
     "data": {
      "text/plain": [
       "0.039479096618052142"
      ]
     },
     "execution_count": 10,
     "metadata": {},
     "output_type": "execute_result"
    }
   ],
   "source": [
    "mse_2"
   ]
  },
  {
   "cell_type": "code",
   "execution_count": 12,
   "metadata": {
    "collapsed": false
   },
   "outputs": [
    {
     "data": {
      "text/plain": [
       "40"
      ]
     },
     "execution_count": 12,
     "metadata": {},
     "output_type": "execute_result"
    }
   ],
   "source": [
    "len(lambdas_diff_sqr)"
   ]
  },
  {
   "cell_type": "code",
   "execution_count": 69,
   "metadata": {
    "collapsed": false
   },
   "outputs": [
    {
     "name": "stdout",
     "output_type": "stream",
     "text": [
      "[[ 0.01063836  0.00838326  0.00681194  0.00575084]\n",
      " [ 0.00598492  0.005703    0.00507708  0.00432127]\n",
      " [ 0.02956757  0.03636832  0.0347516   0.03131533]]\n"
     ]
    }
   ],
   "source": [
    "sigmas_mse_array=np.zeros((3,4))\n",
    "\n",
    "for j in range(0, 3):\n",
    "    for i in range(1, 5):\n",
    "        sigmas_mse=np.average(sigmas_diff_sqr.iloc[0:i*10-1,0+j])\n",
    "        sigmas_mse_array[j,i-1] = sigmas_mse\n",
    "        \n",
    "print(sigmas_mse_array)\n"
   ]
  },
  {
   "cell_type": "code",
   "execution_count": 43,
   "metadata": {
    "collapsed": false
   },
   "outputs": [
    {
     "data": {
      "text/plain": [
       "[<matplotlib.lines.Line2D at 0x7fd3dae4f890>]"
      ]
     },
     "execution_count": 43,
     "metadata": {},
     "output_type": "execute_result"
    },
    {
     "data": {
      "image/png": "[encoded data removed]",
      "text/plain": [
       "<matplotlib.figure.Figure at 0x7fd3db02b9d0>"
      ]
     },
     "metadata": {},
     "output_type": "display_data"
    }
   ],
   "source": [
    "plt.plot(sigmas_mse_array)"
   ]
  },
  {
   "cell_type": "code",
   "execution_count": 51,
   "metadata": {
    "collapsed": false
   },
   "outputs": [
    {
     "data": {
      "text/plain": [
       "0.0056847033286921362"
      ]
     },
     "execution_count": 51,
     "metadata": {},
     "output_type": "execute_result"
    }
   ],
   "source": [
    "np.average(sigmas_diff_sqr[0])"
   ]
  },
  {
   "cell_type": "code",
   "execution_count": 52,
   "metadata": {
    "collapsed": false
   },
   "outputs": [
    {
     "data": {
      "text/plain": [
       "0.0042147775983805685"
      ]
     },
     "execution_count": 52,
     "metadata": {},
     "output_type": "execute_result"
    }
   ],
   "source": [
    "np.average(sigmas_diff_sqr[1])"
   ]
  },
  {
   "cell_type": "code",
   "execution_count": 74,
   "metadata": {
    "collapsed": false
   },
   "outputs": [],
   "source": [
    "sigmas_mse_array= pd.DataFrame(np.transpose(sigmas_mse_array))"
   ]
  },
  {
   "cell_type": "code",
   "execution_count": 82,
   "metadata": {
    "collapsed": false
   },
   "outputs": [
    {
     "data": {
      "text/plain": [
       "{'boxes': [<matplotlib.lines.Line2D at 0x7fd3daae9bd0>,\n",
       "  <matplotlib.lines.Line2D at 0x7fd3daa02890>,\n",
       "  <matplotlib.lines.Line2D at 0x7fd3daa3f4d0>,\n",
       "  <matplotlib.lines.Line2D at 0x7fd3daaa3110>],\n",
       " 'caps': [<matplotlib.lines.Line2D at 0x7fd3daa07ad0>,\n",
       "  <matplotlib.lines.Line2D at 0x7fd3daa1c150>,\n",
       "  <matplotlib.lines.Line2D at 0x7fd3daa16710>,\n",
       "  <matplotlib.lines.Line2D at 0x7fd3daa16d50>,\n",
       "  <matplotlib.lines.Line2D at 0x7fd3daa8d350>,\n",
       "  <matplotlib.lines.Line2D at 0x7fd3daa8d990>,\n",
       "  <matplotlib.lines.Line2D at 0x7fd3daaa3f50>,\n",
       "  <matplotlib.lines.Line2D at 0x7fd3daaae5d0>],\n",
       " 'fliers': [<matplotlib.lines.Line2D at 0x7fd3daa1cdd0>,\n",
       "  <matplotlib.lines.Line2D at 0x7fd3daa27a10>,\n",
       "  <matplotlib.lines.Line2D at 0x7fd3daa97650>,\n",
       "  <matplotlib.lines.Line2D at 0x7fd3daab8290>],\n",
       " 'means': [],\n",
       " 'medians': [<matplotlib.lines.Line2D at 0x7fd3daa1c790>,\n",
       "  <matplotlib.lines.Line2D at 0x7fd3daa273d0>,\n",
       "  <matplotlib.lines.Line2D at 0x7fd3daa8dfd0>,\n",
       "  <matplotlib.lines.Line2D at 0x7fd3daaaec10>],\n",
       " 'whiskers': [<matplotlib.lines.Line2D at 0x7fd3daae9d90>,\n",
       "  <matplotlib.lines.Line2D at 0x7fd3daa074d0>,\n",
       "  <matplotlib.lines.Line2D at 0x7fd3daa02a50>,\n",
       "  <matplotlib.lines.Line2D at 0x7fd3daa160d0>,\n",
       "  <matplotlib.lines.Line2D at 0x7fd3daa3f690>,\n",
       "  <matplotlib.lines.Line2D at 0x7fd3daa3fcd0>,\n",
       "  <matplotlib.lines.Line2D at 0x7fd3daaa32d0>,\n",
       "  <matplotlib.lines.Line2D at 0x7fd3daaa3910>]}"
      ]
     },
     "execution_count": 82,
     "metadata": {},
     "output_type": "execute_result"
    },
    {
     "data": {
      "image/png": "[encoded data removed]",
      "text/plain": [
       "<matplotlib.figure.Figure at 0x7fd3dab22c50>"
      ]
     },
     "metadata": {},
     "output_type": "display_data"
    }
   ],
   "source": [
    "plt.boxplot(sigmas_mse_array.values)"
   ]
  },
  {
   "cell_type": "code",
   "execution_count": 85,
   "metadata": {
    "collapsed": false
   },
   "outputs": [
    {
     "data": {
      "text/html": [
       "<div style=\"max-height:1000px;max-width:1500px;overflow:auto;\">\n",
       "<table border=\"1\" class=\"dataframe\">\n",
       "  <thead>\n",
       "    <tr style=\"text-align: right;\">\n",
       "      <th></th>\n",
       "      <th>tau</th>\n",
       "      <th>price_change</th>\n",
       "    </tr>\n",
       "  </thead>\n",
       "  <tbody>\n",
       "    <tr>\n",
       "      <th>0 </th>\n",
       "      <td> 2.277343</td>\n",
       "      <td> 0.209924</td>\n",
       "    </tr>\n",
       "    <tr>\n",
       "      <th>1 </th>\n",
       "      <td> 0.157959</td>\n",
       "      <td>-0.492057</td>\n",
       "    </tr>\n",
       "    <tr>\n",
       "      <th>2 </th>\n",
       "      <td> 0.084948</td>\n",
       "      <td> 0.950510</td>\n",
       "    </tr>\n",
       "    <tr>\n",
       "      <th>3 </th>\n",
       "      <td> 0.193056</td>\n",
       "      <td>-0.045716</td>\n",
       "    </tr>\n",
       "    <tr>\n",
       "      <th>4 </th>\n",
       "      <td> 0.132256</td>\n",
       "      <td> 0.585659</td>\n",
       "    </tr>\n",
       "    <tr>\n",
       "      <th>5 </th>\n",
       "      <td> 0.012035</td>\n",
       "      <td> 1.285463</td>\n",
       "    </tr>\n",
       "    <tr>\n",
       "      <th>6 </th>\n",
       "      <td> 0.062475</td>\n",
       "      <td> 0.649570</td>\n",
       "    </tr>\n",
       "    <tr>\n",
       "      <th>7 </th>\n",
       "      <td> 0.343721</td>\n",
       "      <td>-0.420100</td>\n",
       "    </tr>\n",
       "    <tr>\n",
       "      <th>8 </th>\n",
       "      <td> 3.095625</td>\n",
       "      <td> 0.967119</td>\n",
       "    </tr>\n",
       "    <tr>\n",
       "      <th>9 </th>\n",
       "      <td> 0.092524</td>\n",
       "      <td> 0.653113</td>\n",
       "    </tr>\n",
       "    <tr>\n",
       "      <th>10</th>\n",
       "      <td> 0.391541</td>\n",
       "      <td> 0.101499</td>\n",
       "    </tr>\n",
       "    <tr>\n",
       "      <th>11</th>\n",
       "      <td> 0.775254</td>\n",
       "      <td>-0.338364</td>\n",
       "    </tr>\n",
       "    <tr>\n",
       "      <th>12</th>\n",
       "      <td> 0.039975</td>\n",
       "      <td>-0.310576</td>\n",
       "    </tr>\n",
       "    <tr>\n",
       "      <th>13</th>\n",
       "      <td> 0.002520</td>\n",
       "      <td> 0.314857</td>\n",
       "    </tr>\n",
       "    <tr>\n",
       "      <th>14</th>\n",
       "      <td> 0.069161</td>\n",
       "      <td> 0.169739</td>\n",
       "    </tr>\n",
       "    <tr>\n",
       "      <th>15</th>\n",
       "      <td> 0.078249</td>\n",
       "      <td>-0.595453</td>\n",
       "    </tr>\n",
       "    <tr>\n",
       "      <th>16</th>\n",
       "      <td> 0.207770</td>\n",
       "      <td>-1.402586</td>\n",
       "    </tr>\n",
       "    <tr>\n",
       "      <th>17</th>\n",
       "      <td> 0.160371</td>\n",
       "      <td> 0.256067</td>\n",
       "    </tr>\n",
       "    <tr>\n",
       "      <th>18</th>\n",
       "      <td> 0.195965</td>\n",
       "      <td> 0.042179</td>\n",
       "    </tr>\n",
       "    <tr>\n",
       "      <th>19</th>\n",
       "      <td> 0.042269</td>\n",
       "      <td> 1.222931</td>\n",
       "    </tr>\n",
       "    <tr>\n",
       "      <th>20</th>\n",
       "      <td> 6.036194</td>\n",
       "      <td> 0.805307</td>\n",
       "    </tr>\n",
       "    <tr>\n",
       "      <th>21</th>\n",
       "      <td> 0.017484</td>\n",
       "      <td> 0.975540</td>\n",
       "    </tr>\n",
       "    <tr>\n",
       "      <th>22</th>\n",
       "      <td> 6.256555</td>\n",
       "      <td>-0.389581</td>\n",
       "    </tr>\n",
       "    <tr>\n",
       "      <th>23</th>\n",
       "      <td> 4.539079</td>\n",
       "      <td>-0.097024</td>\n",
       "    </tr>\n",
       "    <tr>\n",
       "      <th>24</th>\n",
       "      <td> 7.765640</td>\n",
       "      <td>-0.197138</td>\n",
       "    </tr>\n",
       "    <tr>\n",
       "      <th>25</th>\n",
       "      <td> 0.075518</td>\n",
       "      <td> 0.480001</td>\n",
       "    </tr>\n",
       "    <tr>\n",
       "      <th>26</th>\n",
       "      <td> 0.470205</td>\n",
       "      <td>-0.311222</td>\n",
       "    </tr>\n",
       "    <tr>\n",
       "      <th>27</th>\n",
       "      <td> 0.107994</td>\n",
       "      <td> 0.675103</td>\n",
       "    </tr>\n",
       "    <tr>\n",
       "      <th>28</th>\n",
       "      <td> 0.014257</td>\n",
       "      <td>-0.127079</td>\n",
       "    </tr>\n",
       "    <tr>\n",
       "      <th>29</th>\n",
       "      <td> 0.035489</td>\n",
       "      <td>-1.223817</td>\n",
       "    </tr>\n",
       "    <tr>\n",
       "      <th>30</th>\n",
       "      <td> 0.028434</td>\n",
       "      <td> 0.814879</td>\n",
       "    </tr>\n",
       "    <tr>\n",
       "      <th>31</th>\n",
       "      <td> 0.277271</td>\n",
       "      <td>-1.666522</td>\n",
       "    </tr>\n",
       "    <tr>\n",
       "      <th>32</th>\n",
       "      <td> 0.194330</td>\n",
       "      <td>-0.257694</td>\n",
       "    </tr>\n",
       "    <tr>\n",
       "      <th>33</th>\n",
       "      <td> 0.099085</td>\n",
       "      <td> 1.202378</td>\n",
       "    </tr>\n",
       "    <tr>\n",
       "      <th>34</th>\n",
       "      <td> 0.072490</td>\n",
       "      <td> 0.224031</td>\n",
       "    </tr>\n",
       "    <tr>\n",
       "      <th>35</th>\n",
       "      <td> 0.806513</td>\n",
       "      <td>-0.489983</td>\n",
       "    </tr>\n",
       "    <tr>\n",
       "      <th>36</th>\n",
       "      <td> 0.064673</td>\n",
       "      <td> 1.420163</td>\n",
       "    </tr>\n",
       "    <tr>\n",
       "      <th>37</th>\n",
       "      <td> 1.307347</td>\n",
       "      <td> 0.116774</td>\n",
       "    </tr>\n",
       "    <tr>\n",
       "      <th>38</th>\n",
       "      <td> 0.376147</td>\n",
       "      <td>-0.042385</td>\n",
       "    </tr>\n",
       "    <tr>\n",
       "      <th>39</th>\n",
       "      <td> 1.028240</td>\n",
       "      <td>-0.000387</td>\n",
       "    </tr>\n",
       "    <tr>\n",
       "      <th>40</th>\n",
       "      <td> 0.050350</td>\n",
       "      <td> 0.442717</td>\n",
       "    </tr>\n",
       "    <tr>\n",
       "      <th>41</th>\n",
       "      <td> 0.027250</td>\n",
       "      <td> 0.248359</td>\n",
       "    </tr>\n",
       "    <tr>\n",
       "      <th>42</th>\n",
       "      <td> 8.101963</td>\n",
       "      <td>-0.138871</td>\n",
       "    </tr>\n",
       "    <tr>\n",
       "      <th>43</th>\n",
       "      <td> 0.045942</td>\n",
       "      <td> 0.238381</td>\n",
       "    </tr>\n",
       "    <tr>\n",
       "      <th>44</th>\n",
       "      <td> 0.011071</td>\n",
       "      <td>-1.869268</td>\n",
       "    </tr>\n",
       "    <tr>\n",
       "      <th>45</th>\n",
       "      <td> 1.979500</td>\n",
       "      <td>-0.690230</td>\n",
       "    </tr>\n",
       "    <tr>\n",
       "      <th>46</th>\n",
       "      <td> 0.562141</td>\n",
       "      <td> 1.208596</td>\n",
       "    </tr>\n",
       "    <tr>\n",
       "      <th>47</th>\n",
       "      <td> 0.067517</td>\n",
       "      <td> 0.211575</td>\n",
       "    </tr>\n",
       "    <tr>\n",
       "      <th>48</th>\n",
       "      <td> 0.305272</td>\n",
       "      <td>-1.262283</td>\n",
       "    </tr>\n",
       "    <tr>\n",
       "      <th>49</th>\n",
       "      <td> 3.496218</td>\n",
       "      <td> 0.297028</td>\n",
       "    </tr>\n",
       "    <tr>\n",
       "      <th>50</th>\n",
       "      <td> 2.009388</td>\n",
       "      <td> 0.760960</td>\n",
       "    </tr>\n",
       "    <tr>\n",
       "      <th>51</th>\n",
       "      <td> 0.812767</td>\n",
       "      <td>-1.777807</td>\n",
       "    </tr>\n",
       "    <tr>\n",
       "      <th>52</th>\n",
       "      <td> 2.417854</td>\n",
       "      <td>-0.002577</td>\n",
       "    </tr>\n",
       "    <tr>\n",
       "      <th>53</th>\n",
       "      <td> 2.303630</td>\n",
       "      <td>-0.060443</td>\n",
       "    </tr>\n",
       "    <tr>\n",
       "      <th>54</th>\n",
       "      <td> 7.757254</td>\n",
       "      <td>-0.077978</td>\n",
       "    </tr>\n",
       "    <tr>\n",
       "      <th>55</th>\n",
       "      <td> 0.824762</td>\n",
       "      <td>-0.523687</td>\n",
       "    </tr>\n",
       "    <tr>\n",
       "      <th>56</th>\n",
       "      <td> 1.857271</td>\n",
       "      <td>-0.550662</td>\n",
       "    </tr>\n",
       "    <tr>\n",
       "      <th>57</th>\n",
       "      <td> 0.174273</td>\n",
       "      <td> 0.161551</td>\n",
       "    </tr>\n",
       "    <tr>\n",
       "      <th>58</th>\n",
       "      <td> 0.980074</td>\n",
       "      <td>-0.228406</td>\n",
       "    </tr>\n",
       "    <tr>\n",
       "      <th>59</th>\n",
       "      <td> 0.119396</td>\n",
       "      <td> 0.017734</td>\n",
       "    </tr>\n",
       "    <tr>\n",
       "      <th></th>\n",
       "      <td>...</td>\n",
       "      <td>...</td>\n",
       "    </tr>\n",
       "  </tbody>\n",
       "</table>\n",
       "<p>100 rows × 2 columns</p>\n",
       "</div>"
      ],
      "text/plain": [
       "         tau  price_change\n",
       "0   2.277343      0.209924\n",
       "1   0.157959     -0.492057\n",
       "2   0.084948      0.950510\n",
       "3   0.193056     -0.045716\n",
       "4   0.132256      0.585659\n",
       "5   0.012035      1.285463\n",
       "6   0.062475      0.649570\n",
       "7   0.343721     -0.420100\n",
       "8   3.095625      0.967119\n",
       "9   0.092524      0.653113\n",
       "10  0.391541      0.101499\n",
       "11  0.775254     -0.338364\n",
       "12  0.039975     -0.310576\n",
       "13  0.002520      0.314857\n",
       "14  0.069161      0.169739\n",
       "15  0.078249     -0.595453\n",
       "16  0.207770     -1.402586\n",
       "17  0.160371      0.256067\n",
       "18  0.195965      0.042179\n",
       "19  0.042269      1.222931\n",
       "20  6.036194      0.805307\n",
       "21  0.017484      0.975540\n",
       "22  6.256555     -0.389581\n",
       "23  4.539079     -0.097024\n",
       "24  7.765640     -0.197138\n",
       "25  0.075518      0.480001\n",
       "26  0.470205     -0.311222\n",
       "27  0.107994      0.675103\n",
       "28  0.014257     -0.127079\n",
       "29  0.035489     -1.223817\n",
       "30  0.028434      0.814879\n",
       "31  0.277271     -1.666522\n",
       "32  0.194330     -0.257694\n",
       "33  0.099085      1.202378\n",
       "34  0.072490      0.224031\n",
       "35  0.806513     -0.489983\n",
       "36  0.064673      1.420163\n",
       "37  1.307347      0.116774\n",
       "38  0.376147     -0.042385\n",
       "39  1.028240     -0.000387\n",
       "40  0.050350      0.442717\n",
       "41  0.027250      0.248359\n",
       "42  8.101963     -0.138871\n",
       "43  0.045942      0.238381\n",
       "44  0.011071     -1.869268\n",
       "45  1.979500     -0.690230\n",
       "46  0.562141      1.208596\n",
       "47  0.067517      0.211575\n",
       "48  0.305272     -1.262283\n",
       "49  3.496218      0.297028\n",
       "50  2.009388      0.760960\n",
       "51  0.812767     -1.777807\n",
       "52  2.417854     -0.002577\n",
       "53  2.303630     -0.060443\n",
       "54  7.757254     -0.077978\n",
       "55  0.824762     -0.523687\n",
       "56  1.857271     -0.550662\n",
       "57  0.174273      0.161551\n",
       "58  0.980074     -0.228406\n",
       "59  0.119396      0.017734\n",
       "         ...           ...\n",
       "\n",
       "[100 rows x 2 columns]"
      ]
     },
     "execution_count": 85,
     "metadata": {},
     "output_type": "execute_result"
    }
   ],
   "source": [
    "data_sets[1].iloc[0:100]"
   ]
  },
  {
   "cell_type": "code",
   "execution_count": null,
   "metadata": {
    "collapsed": true
   },
   "outputs": [],
   "source": []
  }
 ],
 "metadata": {
  "kernelspec": {
   "display_name": "Python 2",
   "language": "python",
   "name": "python2"
  },
  "language_info": {
   "codemirror_mode": {
    "name": "ipython",
    "version": 2
   },
   "file_extension": ".py",
   "mimetype": "text/x-python",
   "name": "python",
   "nbconvert_exporter": "python",
   "pygments_lexer": "ipython2",
   "version": "2.7.6"
  }
 },
 "nbformat": 4,
 "nbformat_minor": 0
}
