{
 "cells": [
  {
   "cell_type": "code",
   "execution_count": 1,
   "metadata": {
    "collapsed": true
   },
   "outputs": [],
   "source": [
    "import numpy as np\n",
    "import pandas as pd\n",
    "import seaborn as sns\n",
    "import matplotlib.pyplot as plt\n",
    "%matplotlib inline\n",
    "from observation_models import Exp_UniGauss as ExpUniGauss\n",
    "from observation_models import ExpGauss as ExpGauss\n",
    "from observation_models import Gaussian\n",
    "from sklearn.datasets.samples_generator import make_spd_matrix\n",
    "from hmm_utils import normalize\n",
    "from hmm import hmm_calibration"
   ]
  },
  {
   "cell_type": "code",
   "execution_count": 2,
   "metadata": {
    "collapsed": false
   },
   "outputs": [],
   "source": [
    "from UnitTest_GaussianHMM import Gauss_test_func\n",
    "from UnitTest_expUniGauss import expUniGauss_test_func \n",
    "#res = test_func() "
   ]
  },
  {
   "cell_type": "code",
   "execution_count": 3,
   "metadata": {
    "collapsed": false
   },
   "outputs": [],
   "source": [
    "res = expUniGauss_test_func() "
   ]
  },
  {
   "cell_type": "code",
   "execution_count": 4,
   "metadata": {
    "collapsed": false
   },
   "outputs": [
    {
     "data": {
      "text/plain": [
       "[<matplotlib.lines.Line2D at 0x7feaed951a90>]"
      ]
     },
     "execution_count": 4,
     "metadata": {},
     "output_type": "execute_result"
    },
    {
     "data": {
      "image/png": "[encoded data removed]",
      "text/plain": [
       "<matplotlib.figure.Figure at 0x7feaeda16410>"
      ]
     },
     "metadata": {},
     "output_type": "display_data"
    }
   ],
   "source": [
    "plt.plot(res['log_likelihoods']['obs_ll_algo']) "
   ]
  },
  {
   "cell_type": "code",
   "execution_count": 5,
   "metadata": {
    "collapsed": false
   },
   "outputs": [
    {
     "data": {
      "text/plain": [
       "[-3982.2288665200599,\n",
       " -3982.2288665200599,\n",
       " -3982.2288665200599,\n",
       " -3982.2288665200599,\n",
       " -3982.2288665200599,\n",
       " -3982.2288665200599,\n",
       " -3982.2288665200599,\n",
       " -3982.2288665200599,\n",
       " -3982.2288665200599,\n",
       " -3982.2288665200599,\n",
       " -3982.2288665200599,\n",
       " -3982.2288665200599,\n",
       " -3982.2288665200599,\n",
       " -3982.2288665200599,\n",
       " -3982.2288665200599,\n",
       " -3982.2288665200599,\n",
       " -3982.2288665200599,\n",
       " -3982.2288665200599,\n",
       " -3982.2288665200599,\n",
       " -3982.2288665200599,\n",
       " -3982.2288665200599,\n",
       " -3982.2288665200599,\n",
       " -3982.2288665200599,\n",
       " -3982.2288665200599,\n",
       " -3982.2288665200599,\n",
       " -3982.2288665200599,\n",
       " -3982.2288665200599,\n",
       " -3982.2288665200599,\n",
       " -3982.2288665200599,\n",
       " -3982.2288665200599,\n",
       " -3982.2288665200599,\n",
       " -3982.2288665200599,\n",
       " -3982.2288665200599,\n",
       " -3982.2288665200599,\n",
       " -3982.2288665200599,\n",
       " -3982.2288665200599,\n",
       " -3982.2288665200599,\n",
       " -3982.2288665200599,\n",
       " -3982.2288665200599,\n",
       " -3982.2288665200599,\n",
       " -3982.2288665200599,\n",
       " -3982.2288665200599,\n",
       " -3982.2288665200599,\n",
       " -3982.2288665200599,\n",
       " -3982.2288665200599,\n",
       " -3982.2288665200599,\n",
       " -3982.2288665200599,\n",
       " -3982.2288665200599,\n",
       " -3982.2288665200599,\n",
       " -3982.2288665200599]"
      ]
     },
     "execution_count": 5,
     "metadata": {},
     "output_type": "execute_result"
    }
   ],
   "source": [
    "res['log_likelihoods']['obs_ll_algo']"
   ]
  },
  {
   "cell_type": "code",
   "execution_count": 6,
   "metadata": {
    "collapsed": false
   },
   "outputs": [
    {
     "data": {
      "text/plain": [
       "[array([[ 0.32598002,  0.33044555,  0.34357443],\n",
       "        [ 0.17177512,  0.19135238,  0.6368725 ],\n",
       "        [ 0.09285244,  0.358316  ,  0.54883156]]),\n",
       " array([[ 0.32598002,  0.33044555,  0.34357443],\n",
       "        [ 0.17177512,  0.19135238,  0.6368725 ],\n",
       "        [ 0.09285244,  0.358316  ,  0.54883156]]),\n",
       " array([[ 0.32598002,  0.33044555,  0.34357443],\n",
       "        [ 0.17177512,  0.19135238,  0.6368725 ],\n",
       "        [ 0.09285244,  0.358316  ,  0.54883156]]),\n",
       " array([[ 0.32598002,  0.33044555,  0.34357443],\n",
       "        [ 0.17177512,  0.19135238,  0.6368725 ],\n",
       "        [ 0.09285244,  0.358316  ,  0.54883156]]),\n",
       " array([[ 0.32598002,  0.33044555,  0.34357443],\n",
       "        [ 0.17177512,  0.19135238,  0.6368725 ],\n",
       "        [ 0.09285244,  0.358316  ,  0.54883156]]),\n",
       " array([[ 0.32598002,  0.33044555,  0.34357443],\n",
       "        [ 0.17177512,  0.19135238,  0.6368725 ],\n",
       "        [ 0.09285244,  0.358316  ,  0.54883156]]),\n",
       " array([[ 0.32598002,  0.33044555,  0.34357443],\n",
       "        [ 0.17177512,  0.19135238,  0.6368725 ],\n",
       "        [ 0.09285244,  0.358316  ,  0.54883156]]),\n",
       " array([[ 0.32598002,  0.33044555,  0.34357443],\n",
       "        [ 0.17177512,  0.19135238,  0.6368725 ],\n",
       "        [ 0.09285244,  0.358316  ,  0.54883156]]),\n",
       " array([[ 0.32598002,  0.33044555,  0.34357443],\n",
       "        [ 0.17177512,  0.19135238,  0.6368725 ],\n",
       "        [ 0.09285244,  0.358316  ,  0.54883156]]),\n",
       " array([[ 0.32598002,  0.33044555,  0.34357443],\n",
       "        [ 0.17177512,  0.19135238,  0.6368725 ],\n",
       "        [ 0.09285244,  0.358316  ,  0.54883156]]),\n",
       " array([[ 0.32598002,  0.33044555,  0.34357443],\n",
       "        [ 0.17177512,  0.19135238,  0.6368725 ],\n",
       "        [ 0.09285244,  0.358316  ,  0.54883156]]),\n",
       " array([[ 0.32598002,  0.33044555,  0.34357443],\n",
       "        [ 0.17177512,  0.19135238,  0.6368725 ],\n",
       "        [ 0.09285244,  0.358316  ,  0.54883156]]),\n",
       " array([[ 0.32598002,  0.33044555,  0.34357443],\n",
       "        [ 0.17177512,  0.19135238,  0.6368725 ],\n",
       "        [ 0.09285244,  0.358316  ,  0.54883156]]),\n",
       " array([[ 0.32598002,  0.33044555,  0.34357443],\n",
       "        [ 0.17177512,  0.19135238,  0.6368725 ],\n",
       "        [ 0.09285244,  0.358316  ,  0.54883156]]),\n",
       " array([[ 0.32598002,  0.33044555,  0.34357443],\n",
       "        [ 0.17177512,  0.19135238,  0.6368725 ],\n",
       "        [ 0.09285244,  0.358316  ,  0.54883156]]),\n",
       " array([[ 0.32598002,  0.33044555,  0.34357443],\n",
       "        [ 0.17177512,  0.19135238,  0.6368725 ],\n",
       "        [ 0.09285244,  0.358316  ,  0.54883156]]),\n",
       " array([[ 0.32598002,  0.33044555,  0.34357443],\n",
       "        [ 0.17177512,  0.19135238,  0.6368725 ],\n",
       "        [ 0.09285244,  0.358316  ,  0.54883156]]),\n",
       " array([[ 0.32598002,  0.33044555,  0.34357443],\n",
       "        [ 0.17177512,  0.19135238,  0.6368725 ],\n",
       "        [ 0.09285244,  0.358316  ,  0.54883156]]),\n",
       " array([[ 0.32598002,  0.33044555,  0.34357443],\n",
       "        [ 0.17177512,  0.19135238,  0.6368725 ],\n",
       "        [ 0.09285244,  0.358316  ,  0.54883156]]),\n",
       " array([[ 0.32598002,  0.33044555,  0.34357443],\n",
       "        [ 0.17177512,  0.19135238,  0.6368725 ],\n",
       "        [ 0.09285244,  0.358316  ,  0.54883156]]),\n",
       " array([[ 0.32598002,  0.33044555,  0.34357443],\n",
       "        [ 0.17177512,  0.19135238,  0.6368725 ],\n",
       "        [ 0.09285244,  0.358316  ,  0.54883156]]),\n",
       " array([[ 0.32598002,  0.33044555,  0.34357443],\n",
       "        [ 0.17177512,  0.19135238,  0.6368725 ],\n",
       "        [ 0.09285244,  0.358316  ,  0.54883156]]),\n",
       " array([[ 0.32598002,  0.33044555,  0.34357443],\n",
       "        [ 0.17177512,  0.19135238,  0.6368725 ],\n",
       "        [ 0.09285244,  0.358316  ,  0.54883156]]),\n",
       " array([[ 0.32598002,  0.33044555,  0.34357443],\n",
       "        [ 0.17177512,  0.19135238,  0.6368725 ],\n",
       "        [ 0.09285244,  0.358316  ,  0.54883156]]),\n",
       " array([[ 0.32598002,  0.33044555,  0.34357443],\n",
       "        [ 0.17177512,  0.19135238,  0.6368725 ],\n",
       "        [ 0.09285244,  0.358316  ,  0.54883156]]),\n",
       " array([[ 0.32598002,  0.33044555,  0.34357443],\n",
       "        [ 0.17177512,  0.19135238,  0.6368725 ],\n",
       "        [ 0.09285244,  0.358316  ,  0.54883156]]),\n",
       " array([[ 0.32598002,  0.33044555,  0.34357443],\n",
       "        [ 0.17177512,  0.19135238,  0.6368725 ],\n",
       "        [ 0.09285244,  0.358316  ,  0.54883156]]),\n",
       " array([[ 0.32598002,  0.33044555,  0.34357443],\n",
       "        [ 0.17177512,  0.19135238,  0.6368725 ],\n",
       "        [ 0.09285244,  0.358316  ,  0.54883156]]),\n",
       " array([[ 0.32598002,  0.33044555,  0.34357443],\n",
       "        [ 0.17177512,  0.19135238,  0.6368725 ],\n",
       "        [ 0.09285244,  0.358316  ,  0.54883156]]),\n",
       " array([[ 0.32598002,  0.33044555,  0.34357443],\n",
       "        [ 0.17177512,  0.19135238,  0.6368725 ],\n",
       "        [ 0.09285244,  0.358316  ,  0.54883156]]),\n",
       " array([[ 0.32598002,  0.33044555,  0.34357443],\n",
       "        [ 0.17177512,  0.19135238,  0.6368725 ],\n",
       "        [ 0.09285244,  0.358316  ,  0.54883156]]),\n",
       " array([[ 0.32598002,  0.33044555,  0.34357443],\n",
       "        [ 0.17177512,  0.19135238,  0.6368725 ],\n",
       "        [ 0.09285244,  0.358316  ,  0.54883156]]),\n",
       " array([[ 0.32598002,  0.33044555,  0.34357443],\n",
       "        [ 0.17177512,  0.19135238,  0.6368725 ],\n",
       "        [ 0.09285244,  0.358316  ,  0.54883156]]),\n",
       " array([[ 0.32598002,  0.33044555,  0.34357443],\n",
       "        [ 0.17177512,  0.19135238,  0.6368725 ],\n",
       "        [ 0.09285244,  0.358316  ,  0.54883156]]),\n",
       " array([[ 0.32598002,  0.33044555,  0.34357443],\n",
       "        [ 0.17177512,  0.19135238,  0.6368725 ],\n",
       "        [ 0.09285244,  0.358316  ,  0.54883156]]),\n",
       " array([[ 0.32598002,  0.33044555,  0.34357443],\n",
       "        [ 0.17177512,  0.19135238,  0.6368725 ],\n",
       "        [ 0.09285244,  0.358316  ,  0.54883156]]),\n",
       " array([[ 0.32598002,  0.33044555,  0.34357443],\n",
       "        [ 0.17177512,  0.19135238,  0.6368725 ],\n",
       "        [ 0.09285244,  0.358316  ,  0.54883156]]),\n",
       " array([[ 0.32598002,  0.33044555,  0.34357443],\n",
       "        [ 0.17177512,  0.19135238,  0.6368725 ],\n",
       "        [ 0.09285244,  0.358316  ,  0.54883156]]),\n",
       " array([[ 0.32598002,  0.33044555,  0.34357443],\n",
       "        [ 0.17177512,  0.19135238,  0.6368725 ],\n",
       "        [ 0.09285244,  0.358316  ,  0.54883156]]),\n",
       " array([[ 0.32598002,  0.33044555,  0.34357443],\n",
       "        [ 0.17177512,  0.19135238,  0.6368725 ],\n",
       "        [ 0.09285244,  0.358316  ,  0.54883156]]),\n",
       " array([[ 0.32598002,  0.33044555,  0.34357443],\n",
       "        [ 0.17177512,  0.19135238,  0.6368725 ],\n",
       "        [ 0.09285244,  0.358316  ,  0.54883156]]),\n",
       " array([[ 0.32598002,  0.33044555,  0.34357443],\n",
       "        [ 0.17177512,  0.19135238,  0.6368725 ],\n",
       "        [ 0.09285244,  0.358316  ,  0.54883156]]),\n",
       " array([[ 0.32598002,  0.33044555,  0.34357443],\n",
       "        [ 0.17177512,  0.19135238,  0.6368725 ],\n",
       "        [ 0.09285244,  0.358316  ,  0.54883156]]),\n",
       " array([[ 0.32598002,  0.33044555,  0.34357443],\n",
       "        [ 0.17177512,  0.19135238,  0.6368725 ],\n",
       "        [ 0.09285244,  0.358316  ,  0.54883156]]),\n",
       " array([[ 0.32598002,  0.33044555,  0.34357443],\n",
       "        [ 0.17177512,  0.19135238,  0.6368725 ],\n",
       "        [ 0.09285244,  0.358316  ,  0.54883156]]),\n",
       " array([[ 0.32598002,  0.33044555,  0.34357443],\n",
       "        [ 0.17177512,  0.19135238,  0.6368725 ],\n",
       "        [ 0.09285244,  0.358316  ,  0.54883156]]),\n",
       " array([[ 0.32598002,  0.33044555,  0.34357443],\n",
       "        [ 0.17177512,  0.19135238,  0.6368725 ],\n",
       "        [ 0.09285244,  0.358316  ,  0.54883156]]),\n",
       " array([[ 0.32598002,  0.33044555,  0.34357443],\n",
       "        [ 0.17177512,  0.19135238,  0.6368725 ],\n",
       "        [ 0.09285244,  0.358316  ,  0.54883156]]),\n",
       " array([[ 0.32598002,  0.33044555,  0.34357443],\n",
       "        [ 0.17177512,  0.19135238,  0.6368725 ],\n",
       "        [ 0.09285244,  0.358316  ,  0.54883156]]),\n",
       " array([[ 0.32598002,  0.33044555,  0.34357443],\n",
       "        [ 0.17177512,  0.19135238,  0.6368725 ],\n",
       "        [ 0.09285244,  0.358316  ,  0.54883156]])]"
      ]
     },
     "execution_count": 6,
     "metadata": {},
     "output_type": "execute_result"
    }
   ],
   "source": [
    "res['tpm']"
   ]
  },
  {
   "cell_type": "code",
   "execution_count": null,
   "metadata": {
    "collapsed": true
   },
   "outputs": [],
   "source": []
  }
 ],
 "metadata": {
  "kernelspec": {
   "display_name": "Python 2",
   "language": "python",
   "name": "python2"
  },
  "language_info": {
   "codemirror_mode": {
    "name": "ipython",
    "version": 2
   },
   "file_extension": ".py",
   "mimetype": "text/x-python",
   "name": "python",
   "nbconvert_exporter": "python",
   "pygments_lexer": "ipython2",
   "version": "2.7.6"
  }
 },
 "nbformat": 4,
 "nbformat_minor": 0
}
