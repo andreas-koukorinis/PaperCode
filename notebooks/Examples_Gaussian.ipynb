{
 "cells": [
  {
   "cell_type": "code",
   "execution_count": 1,
   "metadata": {},
   "outputs": [],
   "source": [
    "import numpy as np\n",
    "import pandas as pd\n",
    "import seaborn as sns\n",
    "import matplotlib.pyplot as plt\n",
    "%matplotlib inline\n",
    "from observation_models import Exp_UniGauss as ExpUniGauss\n",
    "from observation_models import ExpGauss as ExpGauss\n",
    "from observation_models import Gaussian\n",
    "from sklearn.datasets.samples_generator import make_spd_matrix\n",
    "from hmm_utils import normalize\n",
    "from hmm import hmm_calibration"
   ]
  },
  {
   "cell_type": "code",
   "execution_count": 2,
   "metadata": {},
   "outputs": [],
   "source": [
    "#hidden_states =3\n",
    "sample_points = 1000\n",
    "dur_lambdas =[0.5]\n",
    "sigmas =[1]\n",
    "prob_zeroPC =[0.3]\n",
    "hidden_states = [0]*sample_points #creates an array of size 1000 with zeros\n",
    "rng= np.random.RandomState(14)# sets the seed for the random number generator"
   ]
  },
  {
   "cell_type": "code",
   "execution_count": 3,
   "metadata": {},
   "outputs": [],
   "source": [
    "sample_data=ExpGauss.sample_data(hidden_states, dur_lambdas, sigmas, prob_zeroPC,rng=rng)"
   ]
  },
  {
   "cell_type": "code",
   "execution_count": 4,
   "metadata": {},
   "outputs": [],
   "source": [
    "taus=sample_data[0]\n",
    "price_changes = sample_data[1]"
   ]
  },
  {
   "cell_type": "code",
   "execution_count": null,
   "metadata": {},
   "outputs": [],
   "source": [
    "plt.hist(taus)\n",
    "plt.title('Durations')"
   ]
  },
  {
   "cell_type": "code",
   "execution_count": null,
   "metadata": {},
   "outputs": [],
   "source": [
    "plt.hist(price_changes)\n",
    "plt.title('Price_Changes')"
   ]
  },
  {
   "cell_type": "code",
   "execution_count": null,
   "metadata": {},
   "outputs": [],
   "source": [
    "prng = np.random.RandomState(10)\n",
    "n_components = 3\n",
    "n_features = 3\n",
    "###This is like the set up func Unit test of hmmlearn ############\n",
    "startprob = prng.rand(n_components)\n",
    "startprob = startprob / startprob.sum()\n",
    "transmat = prng.rand(n_components, n_components)\n",
    "transmat /= np.tile(transmat.sum(axis=1)[:, np.newaxis],\n",
    "                                 (1, n_components))\n",
    "\n",
    "means = prng.randint(-20, 20, (n_components, n_features))\n",
    "diag_sigmas = (1.0 + 2 * prng.rand(n_components, n_features)) ** 2 # this is used for constructing gaussian emissions            \n",
    "init = 1. / n_components\n",
    "priors = {\n",
    "    \"means\": 20*means,\n",
    "    #\"covars\":\n",
    "    \"pi\": np.full(n_components, init),\n",
    "    \"tpm\": np.full((n_components, n_components), init) #normalize(transmat + np.diag(prng.rand(n_components)), 1)\n",
    "}\n",
    "\n",
    "sample_size = 1000"
   ]
  },
  {
   "cell_type": "code",
   "execution_count": null,
   "metadata": {},
   "outputs": [],
   "source": [
    "update_tag = 'tpsm'\n",
    "#print transmat\n",
    "states = hmm_calibration.sample_states(startprob, transmat, prng, sample_size=sample_size) #generates a sample of states\n",
    "obs = Gaussian.sample_data(states, 20*means, diag_sigmas, rng=prng) #given the sample of states you create observation data\n",
    "obs_model = Gaussian(priors, len(startprob), n_components) #creates an instance of the class\n",
    "the_hmm = hmm_calibration(obs_model, len(startprob), priors)"
   ]
  },
  {
   "cell_type": "code",
   "execution_count": null,
   "metadata": {},
   "outputs": [],
   "source": [
    "res = the_hmm.run_hmm(obs, update_tag=update_tag, set_up_initials_tag='uniform')"
   ]
  },
  {
   "cell_type": "code",
   "execution_count": null,
   "metadata": {},
   "outputs": [],
   "source": [
    "print res.keys()"
   ]
  },
  {
   "cell_type": "code",
   "execution_count": null,
   "metadata": {},
   "outputs": [],
   "source": [
    "print res['log_likelihoods'].keys()"
   ]
  },
  {
   "cell_type": "code",
   "execution_count": null,
   "metadata": {},
   "outputs": [],
   "source": [
    "plt.plot(res['log_likelihoods']['complete'][5:])"
   ]
  },
  {
   "cell_type": "code",
   "execution_count": null,
   "metadata": {},
   "outputs": [],
   "source": [
    "print(res['log_likelihoods']['obs_data'])"
   ]
  },
  {
   "cell_type": "code",
   "execution_count": null,
   "metadata": {},
   "outputs": [],
   "source": [
    "print transmat #original transmat"
   ]
  },
  {
   "cell_type": "code",
   "execution_count": null,
   "metadata": {},
   "outputs": [],
   "source": [
    "print res['tpm'][-1] #take final transmat"
   ]
  },
  {
   "cell_type": "code",
   "execution_count": null,
   "metadata": {},
   "outputs": [],
   "source": [
    ""
   ]
  }
 ],
 "metadata": {
  "kernelspec": {
   "display_name": "Python 2",
   "language": "python",
   "name": "python2"
  },
  "language_info": {
   "codemirror_mode": {
    "name": "ipython",
    "version": 2.0
   },
   "file_extension": ".py",
   "mimetype": "text/x-python",
   "name": "python",
   "nbconvert_exporter": "python",
   "pygments_lexer": "ipython2",
   "version": "2.7.6"
  }
 },
 "nbformat": 4,
 "nbformat_minor": 0
}