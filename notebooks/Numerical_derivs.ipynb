{
 "cells": [
  {
   "cell_type": "code",
   "execution_count": 1,
   "metadata": {
    "collapsed": false
   },
   "outputs": [
    {
     "name": "stdout",
     "output_type": "stream",
     "text": [
      "Couldn't import dot_parser, loading of dot files will not be possible.\n"
     ]
    }
   ],
   "source": [
    "import numpy as np \n",
    "import theano \n",
    "import theano.tensor as T\n",
    "from theano import pp \n",
    "x = T.dscalar('x')\n",
    "y = T.log(x) \n",
    "gy = T.grad(y, x) \n",
    "f = theano.function([x], gy) "
   ]
  },
  {
   "cell_type": "code",
   "execution_count": 110,
   "metadata": {
    "collapsed": false
   },
   "outputs": [
    {
     "data": {
      "text/plain": [
       "(-0.10797113663280622, array(-0.10798193302637613))"
      ]
     },
     "execution_count": 110,
     "metadata": {},
     "output_type": "execute_result"
    }
   ],
   "source": [
    "import theano \n",
    "import theano.tensor as T \n",
    "from theano import pp \n",
    "import numpy as np  \n",
    "from scipy.stats import norm as norm \n",
    "\n",
    "epsilon = np.array(1e-32, dtype=theano.config.floatX)\n",
    "\n",
    "# all code copied from breeze \n",
    "\n",
    "def theano_floatx(*arrs):\n",
    "    return [i.astype(theano.config.floatX) for i in arrs]\n",
    "\n",
    "def normal_cdf(sample, scale):\n",
    "    scale = T.cast(scale, theano.config.floatX)\n",
    "    div = T.sqrt(2*scale**2 + epsilon)\n",
    "    div = T.cast(div, theano.config.floatX)\n",
    "    erf_arg = sample/div\n",
    "    return .5 *(1 + T.erf(erf_arg + epsilon)) \n",
    " \n",
    "sample, std = T.scalar(), T.scalar() \n",
    "\n",
    "Phi = normal_cdf(sample, std) \n",
    "Phi_f = theano.function([sample, std], Phi) \n",
    "\n",
    "std0 = 1 \n",
    "x = 2. \n",
    "epsilon = .01 \n",
    "dPhi_dsigma_hat = (Phi_f(x, std0+epsilon) - Phi_f(x, std0-epsilon))/(2*epsilon)\n",
    "\n",
    "Phi_dsigma = T.grad(Phi,  std)  \n",
    "Phi_dsigma_f = theano.function([sample, std], Phi_dsigma)\n",
    "val = Phi_dsigma_f(x, std0)\n",
    "\n",
    "dPhi_dsigma_hat, val\n",
    "\n",
    "                                                                     # X = np.linspace(-2, 2., 10)\n",
    "# X_th, = theano_floatx(X) \n",
    "# Phi_f(X_th, 2) - norm.cdf(X, loc=0.,scale=2.) \n",
    "\n",
    "\n"
   ]
  },
  {
   "cell_type": "code",
   "execution_count": 90,
   "metadata": {
    "collapsed": false
   },
   "outputs": [
    {
     "data": {
      "text/plain": [
       "array(7.0)"
      ]
     },
     "execution_count": 90,
     "metadata": {},
     "output_type": "execute_result"
    }
   ],
   "source": [
    "x = T.dscalar('x') \n",
    "y = T.dscalar('y') \n",
    "func = x**2*y + y**2*x\n",
    "dfunc_dx = T.grad(func, x)\n",
    "dfunc_dx_f = theano.function([x,y], dfunc_dx) \n",
    "dfunc_dx_f(3,1)\n"
   ]
  },
  {
   "cell_type": "code",
   "execution_count": 113,
   "metadata": {
    "collapsed": false
   },
   "outputs": [
    {
     "data": {
      "text/plain": [
       "(-0.10798193302637613, array(-0.10798193302637613))"
      ]
     },
     "execution_count": 113,
     "metadata": {},
     "output_type": "execute_result"
    }
   ],
   "source": [
    "from scipy.stats import norm as norm \n",
    "import math\n",
    "sqrt2pi = np.sqrt(2. * math.pi) \n",
    "\n",
    "\n",
    "def cdf_dsigma(x, loc, sigma): \n",
    "    return -x*np.exp(-x**2/(2.*sigma**2))/(sigma**3 * sqrt2pi)\n",
    "\n",
    "cdf_dsigma(x, 0., std0), val\n"
   ]
  },
  {
   "cell_type": "markdown",
   "metadata": {},
   "source": [
    "# Compare psi and copula pdf\n"
   ]
  },
  {
   "cell_type": "code",
   "execution_count": 1,
   "metadata": {
    "collapsed": false
   },
   "outputs": [
    {
     "name": "stdout",
     "output_type": "stream",
     "text": [
      "Couldn't import dot_parser, loading of dot files will not be possible.\n"
     ]
    }
   ],
   "source": [
    "import numpy as np \n",
    "import theano \n",
    "import theano.tensor as T\n",
    "from theano import pp \n"
   ]
  }
 ],
 "metadata": {
  "kernelspec": {
   "display_name": "Python 2",
   "language": "python",
   "name": "python2"
  },
  "language_info": {
   "codemirror_mode": {
    "name": "ipython",
    "version": 2
   },
   "file_extension": ".py",
   "mimetype": "text/x-python",
   "name": "python",
   "nbconvert_exporter": "python",
   "pygments_lexer": "ipython2",
   "version": "2.7.6"
  }
 },
 "nbformat": 4,
 "nbformat_minor": 0
}
