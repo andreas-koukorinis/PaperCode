{
 "cells": [
  {
   "cell_type": "code",
   "execution_count": 1,
   "metadata": {
    "collapsed": false
   },
   "outputs": [
    {
     "name": "stderr",
     "output_type": "stream",
     "text": [
      "/home/kman/Envs/hsmm/local/lib/python2.7/site-packages/matplotlib/__init__.py:872: UserWarning: axes.color_cycle is deprecated and replaced with axes.prop_cycle; please use the latter.\n",
      "  warnings.warn(self.msg_depr % (key, alt_key))\n"
     ]
    }
   ],
   "source": [
    "from pandas import *\n",
    "import pandas as pd\n",
    "import numpy as np\n",
    "import sys\n",
    "import pylab as plt\n",
    "import random\n",
    "import numpy.random\n",
    "import pandas as pd\n",
    "##import HMMVS_CR\n",
    "import glob as glob\n",
    "from scipy.special import erf\n",
    "from scipy.stats import expon\n",
    "from scipy.stats import norm\n",
    "import os, sys\n",
    "sys.path.append('/home/kman/papers/QFPaper/Code/')\n",
    "from numpy.testing import assert_array_almost_equal, assert_almost_equal\n",
    "from copulas import * \n",
    "import seaborn as sns     \n"
   ]
  },
  {
   "cell_type": "code",
   "execution_count": 5,
   "metadata": {
    "collapsed": false
   },
   "outputs": [
    {
     "name": "stdout",
     "output_type": "stream",
     "text": [
      "Couldn't import dot_parser, loading of dot files will not be possible.\n"
     ]
    },
    {
     "ename": "NameError",
     "evalue": "name 't' is not defined",
     "output_type": "error",
     "traceback": [
      "\u001b[1;31m---------------------------------------------------------------------------\u001b[0m",
      "\u001b[1;31mNameError\u001b[0m                                 Traceback (most recent call last)",
      "\u001b[1;32m<ipython-input-5-c15ab673784f>\u001b[0m in \u001b[0;36m<module>\u001b[1;34m()\u001b[0m\n\u001b[0;32m      1\u001b[0m \u001b[1;32mimport\u001b[0m \u001b[0mtheano\u001b[0m\u001b[1;33m\u001b[0m\u001b[0m\n\u001b[0;32m      2\u001b[0m \u001b[1;32mimport\u001b[0m \u001b[0mtheano\u001b[0m\u001b[1;33m.\u001b[0m\u001b[0mtensor\u001b[0m \u001b[1;32mas\u001b[0m \u001b[0mT\u001b[0m\u001b[1;33m\u001b[0m\u001b[0m\n\u001b[1;32m----> 3\u001b[1;33m \u001b[0mpsi\u001b[0m \u001b[1;33m=\u001b[0m \u001b[1;33m(\u001b[0m\u001b[1;33m-\u001b[0m\u001b[0mT\u001b[0m\u001b[1;33m.\u001b[0m\u001b[0mlog\u001b[0m\u001b[1;33m(\u001b[0m\u001b[0mt\u001b[0m\u001b[1;33m)\u001b[0m\u001b[1;33m)\u001b[0m\u001b[1;33m**\u001b[0m\u001b[0mtheta_\u001b[0m\u001b[1;33m\u001b[0m\u001b[0m\n\u001b[0m\u001b[0;32m      4\u001b[0m \u001b[0mpsi_f\u001b[0m \u001b[1;33m=\u001b[0m \u001b[0mtheano\u001b[0m\u001b[1;33m.\u001b[0m\u001b[0mfunction\u001b[0m\u001b[1;33m(\u001b[0m\u001b[1;33m[\u001b[0m\u001b[0mt\u001b[0m\u001b[1;33m,\u001b[0m \u001b[0mtheta_\u001b[0m\u001b[1;33m]\u001b[0m\u001b[1;33m,\u001b[0m \u001b[0mpsi\u001b[0m\u001b[1;33m)\u001b[0m\u001b[1;33m\u001b[0m\u001b[0m\n\u001b[0;32m      5\u001b[0m \u001b[0mdpsi\u001b[0m \u001b[1;33m=\u001b[0m \u001b[0mT\u001b[0m\u001b[1;33m.\u001b[0m\u001b[0mgrad\u001b[0m\u001b[1;33m(\u001b[0m\u001b[0mpsi\u001b[0m\u001b[1;33m,\u001b[0m \u001b[0mt\u001b[0m\u001b[1;33m)\u001b[0m\u001b[1;33m\u001b[0m\u001b[0m\n",
      "\u001b[1;31mNameError\u001b[0m: name 't' is not defined"
     ]
    }
   ],
   "source": [
    "import theano \n",
    "import theano.tensor as T \n",
    "t = T.scalar('t')\n",
    "var_u = T.scalar('u')\n",
    "var_v = T.scalar('v')\n",
    "theta_ = T.scalar('theta')\n",
    "\n",
    "psi = (-T.log(t))**theta_\n",
    "psi_f = theano.function([t, theta_], psi)\n",
    "dpsi = T.grad(psi, t)\n",
    "ddpsi = T.grad(dpsi, t)\n",
    "dddpsi = T.grad(ddpsi, t)\n",
    "\n",
    "dpsi_f = theano.function([t, theta_], dpsi)\n",
    "ddpsi_f = theano.function([t, theta_], ddpsi)\n",
    "dddpsi_f = theano.function([t, theta_], dddpsi)\n",
    "\n",
    "u, v = (0.77132064326674599, 0.8660060790836418)"
   ]
  },
  {
   "cell_type": "code",
   "execution_count": 2,
   "metadata": {
    "collapsed": false
   },
   "outputs": [],
   "source": [
    "import ipdb \n",
    "rng = np.random.RandomState(10)\n",
    "theta = 1 \n",
    "myCopula = Clayton( theta) \n",
    "\n",
    "def test_psi_inv(copula): \n",
    "    ts = np.linspace(1e-12, 1, 30) \n",
    "    for t in ts: \n",
    "        assert_almost_equal(copula.psi(copula.psi_inv(t)), t, decimal=8) \n",
    "        \n",
    "           \n",
    "def test_K_C_inv(copula): \n",
    "    ts = np.linspace(1e-12, 1, 30) \n",
    "    for t in ts: \n",
    "        assert_almost_equal(copula.K_C_inv(copula.K_C(t)), t, decimal=8) \n",
    "\n",
    "test_K_C_inv(myCopula) \n"
   ]
  },
  {
   "cell_type": "code",
   "execution_count": 3,
   "metadata": {
    "collapsed": false
   },
   "outputs": [
    {
     "data": {
      "text/plain": [
       "(0.4307, 0.43478260869569368)"
      ]
     },
     "execution_count": 3,
     "metadata": {},
     "output_type": "execute_result"
    }
   ],
   "source": [
    "import itertools \n",
    "\n",
    "cop_sample = myCopula.sample(rng, sample_size =10000) \n",
    "us = np.linspace(1e-13, 1, 10)\n",
    "vs = np.linspace(1e-13, 1, 10) \n",
    "def Chat(samples, u, v): \n",
    "    res = 0\n",
    "    for copula_point in samples: \n",
    "        res += 1 if copula_point[0] <= u and copula_point[1] <= v else 0 \n",
    "    return res/float(len(samples)) \n",
    "\n",
    "# for u in itertools.product(us, vs): \n",
    "#     print u, Chat(cop_sample, u[0], u[1]) - myCopula.cdf(u[0], u[1])\n",
    "\n",
    "u = [0.66666666666670005, 0.5555555555556001 ]\n",
    "Chat(cop_sample, u[0], u[1]), myCopula.cdf(u[0], u[1])\n",
    "\n"
   ]
  },
  {
   "cell_type": "code",
   "execution_count": null,
   "metadata": {
    "collapsed": false
   },
   "outputs": [],
   "source": [
    "uu  = [0.3645,1.5] \n",
    "\n",
    "def CC(u,v ):\n",
    "    return np.power(np.power(u, -theta) + np.power(v, -theta)-1, -1./theta)\n",
    "\n",
    "CC(u[0], u[1]), myCopula.cdf(u[0], u[1])"
   ]
  },
  {
   "cell_type": "code",
   "execution_count": null,
   "metadata": {
    "collapsed": false
   },
   "outputs": [],
   "source": [
    "myCopula.psi_inv(1)"
   ]
  },
  {
   "cell_type": "code",
   "execution_count": null,
   "metadata": {
    "collapsed": false
   },
   "outputs": [],
   "source": [
    "# Thsi test checks 2d multivariate normal versus empirical.It should give a feeling of what kind of tolerance\n",
    "# one should except in this test. \n",
    "\n",
    "import scipy \n",
    "from scipy.stats import mvn \n",
    "low = np.array([-10, -10.])\n",
    "mu = np.array([0.,0.]) #np.array([-.3, .17])\n",
    "S = np.array([[1.,0.4],[0.4, 1.]])\n",
    "mvnorm_data = np.random.multivariate_normal(mu, S, 10000)\n",
    "\n",
    "for u in itertools.product(np.linspace(-1, 2, 5), np.linspace(-1, 2, 5)):\n",
    "    upp = u\n",
    "    val, i = mvn.mvnun(low, upp, mu, S)\n",
    "    print Chat(mvnorm_data, upp[0], upp[1]) - val  \n",
    "\n"
   ]
  }
 ],
 "metadata": {
  "kernelspec": {
   "display_name": "Python 2",
   "language": "python",
   "name": "python2"
  },
  "language_info": {
   "codemirror_mode": {
    "name": "ipython",
    "version": 2
   },
   "file_extension": ".py",
   "mimetype": "text/x-python",
   "name": "python",
   "nbconvert_exporter": "python",
   "pygments_lexer": "ipython2",
   "version": "2.7.6"
  }
 },
 "nbformat": 4,
 "nbformat_minor": 0
}
