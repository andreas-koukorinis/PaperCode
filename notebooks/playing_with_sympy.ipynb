{
 "cells": [
  {
   "cell_type": "code",
   "execution_count": 3,
   "metadata": {
    "collapsed": false
   },
   "outputs": [],
   "source": [
    "from __future__ import division \n",
    "from sympy import * \n",
    "from sympy.utilities.lambdify import lambdify "
   ]
  },
  {
   "cell_type": "code",
   "execution_count": 4,
   "metadata": {
    "collapsed": false
   },
   "outputs": [
    {
     "data": {
      "text/plain": [
       "(x*y)**(-alpha)*(x*y)**(-alpha - 1.0)*((x*y)**alpha/(x**alpha + y**alpha - (x*y)**alpha))**(2.0 + 1/alpha)*(2.0 + 1/alpha)*(alpha + 1.0)*(alpha*(x*y)**alpha/(x*(x**alpha + y**alpha - (x*y)**alpha)) + (x*y)**alpha*(-alpha*x**alpha/x + alpha*(x*y)**alpha/x)/(x**alpha + y**alpha - (x*y)**alpha)**2)*(x**alpha + y**alpha - (x*y)**alpha) + (x*y)**(-alpha - 1.0)*((x*y)**alpha/(x**alpha + y**alpha - (x*y)**alpha))**(2.0 + 1/alpha)*(-alpha - 1.0)*(alpha + 1.0)/x"
      ]
     },
     "execution_count": 4,
     "metadata": {},
     "output_type": "execute_result"
    }
   ],
   "source": [
    "x = Symbol('x') \n",
    "y = Symbol('y') \n",
    "alpha = Symbol('alpha') \n",
    "\n",
    "#clayton_pdf = \n",
    "claytonpdf = ((1 + alpha)/(x*y)**(1+alpha))*((x*y)**alpha/(x**alpha + y**alpha - (x*y)**alpha))**(1/alpha + 2) \n",
    "claytonpdf_deriv = diff(claytonpdf, x) \n",
    "claytonpdf_deriv.evalf(1) \n",
    "\n"
   ]
  },
  {
   "cell_type": "code",
   "execution_count": 9,
   "metadata": {
    "collapsed": false
   },
   "outputs": [
    {
     "data": {
      "text/plain": [
       "-exp(-x**2/(2*sigma**2))/(c*sigma**2) + x**2*exp(-x**2/(2*sigma**2))/(c*sigma**4)"
      ]
     },
     "execution_count": 9,
     "metadata": {},
     "output_type": "execute_result"
    }
   ],
   "source": [
    "sigma = Symbol('sigma') \n",
    "c= Symbol('c') \n",
    "normal = exp( - x**2/(2*sigma**2))/(c*sigma) \n",
    "\n",
    "diff(normal, sigma) "
   ]
  },
  {
   "cell_type": "code",
   "execution_count": null,
   "metadata": {
    "collapsed": true
   },
   "outputs": [],
   "source": []
  }
 ],
 "metadata": {
  "kernelspec": {
   "display_name": "Python 2",
   "language": "python",
   "name": "python2"
  },
  "language_info": {
   "codemirror_mode": {
    "name": "ipython",
    "version": 2
   },
   "file_extension": ".py",
   "mimetype": "text/x-python",
   "name": "python",
   "nbconvert_exporter": "python",
   "pygments_lexer": "ipython2",
   "version": "2.7.6"
  }
 },
 "nbformat": 4,
 "nbformat_minor": 0
}
