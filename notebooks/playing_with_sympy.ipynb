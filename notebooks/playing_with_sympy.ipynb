{
 "cells": [
  {
   "cell_type": "code",
   "execution_count": 1,
   "metadata": {},
   "outputs": [],
   "source": [
    "from __future__ import division \n",
    "from sympy import * \n",
    "from sympy.utilities.lambdify import lambdify "
   ]
  },
  {
   "cell_type": "code",
   "execution_count": 2,
   "metadata": {},
   "outputs": [
    {
     "data": {
      "text/latex": [
       "$\\displaystyle \\left(x y\\right)^{- \\alpha} \\left(x y\\right)^{- \\alpha - 1.0} \\left(\\frac{\\left(x y\\right)^{\\alpha}}{x^{\\alpha} + y^{\\alpha} - \\left(x y\\right)^{\\alpha}}\\right)^{2.0 + \\frac{1}{\\alpha}} \\left(2.0 + \\frac{1}{\\alpha}\\right) \\left(\\alpha + 1.0\\right) \\left(\\frac{\\alpha \\left(x y\\right)^{\\alpha}}{x \\left(x^{\\alpha} + y^{\\alpha} - \\left(x y\\right)^{\\alpha}\\right)} + \\frac{\\left(x y\\right)^{\\alpha} \\left(- \\frac{\\alpha x^{\\alpha}}{x} + \\frac{\\alpha \\left(x y\\right)^{\\alpha}}{x}\\right)}{\\left(x^{\\alpha} + y^{\\alpha} - \\left(x y\\right)^{\\alpha}\\right)^{2}}\\right) \\left(x^{\\alpha} + y^{\\alpha} - \\left(x y\\right)^{\\alpha}\\right) + \\frac{\\left(x y\\right)^{- \\alpha - 1.0} \\left(\\frac{\\left(x y\\right)^{\\alpha}}{x^{\\alpha} + y^{\\alpha} - \\left(x y\\right)^{\\alpha}}\\right)^{2.0 + \\frac{1}{\\alpha}} \\left(- \\alpha - 1.0\\right) \\left(\\alpha + 1.0\\right)}{x}$"
      ],
      "text/plain": [
       "(x*y)**(-alpha)*(x*y)**(-alpha - 1.0)*((x*y)**alpha/(x**alpha + y**alpha - (x*y)**alpha))**(2.0 + 1/alpha)*(2.0 + 1/alpha)*(alpha + 1.0)*(alpha*(x*y)**alpha/(x*(x**alpha + y**alpha - (x*y)**alpha)) + (x*y)**alpha*(-alpha*x**alpha/x + alpha*(x*y)**alpha/x)/(x**alpha + y**alpha - (x*y)**alpha)**2)*(x**alpha + y**alpha - (x*y)**alpha) + (x*y)**(-alpha - 1.0)*((x*y)**alpha/(x**alpha + y**alpha - (x*y)**alpha))**(2.0 + 1/alpha)*(-alpha - 1.0)*(alpha + 1.0)/x"
      ]
     },
     "execution_count": 2,
     "metadata": {},
     "output_type": "execute_result"
    }
   ],
   "source": [
    "x = Symbol('x') \n",
    "y = Symbol('y') \n",
    "alpha = Symbol('alpha') \n",
    "\n",
    "#clayton_pdf = \n",
    "claytonpdf = ((1 + alpha)/(x*y)**(1+alpha))*((x*y)**alpha/(x**alpha + y**alpha - (x*y)**alpha))**(1/alpha + 2) \n",
    "claytonpdf_deriv = diff(claytonpdf, x) \n",
    "claytonpdf_deriv.evalf(1) \n",
    "\n"
   ]
  },
  {
   "cell_type": "code",
   "execution_count": 3,
   "metadata": {},
   "outputs": [
    {
     "data": {
      "text/latex": [
       "$\\displaystyle - \\frac{e^{- \\frac{x^{2}}{2 \\sigma^{2}}}}{c \\sigma^{2}} + \\frac{x^{2} e^{- \\frac{x^{2}}{2 \\sigma^{2}}}}{c \\sigma^{4}}$"
      ],
      "text/plain": [
       "-exp(-x**2/(2*sigma**2))/(c*sigma**2) + x**2*exp(-x**2/(2*sigma**2))/(c*sigma**4)"
      ]
     },
     "execution_count": 3,
     "metadata": {},
     "output_type": "execute_result"
    }
   ],
   "source": [
    "sigma = Symbol('sigma') \n",
    "c= Symbol('c') \n",
    "normal = exp( - x**2/(2*sigma**2))/(c*sigma) \n",
    "\n",
    "diff(normal, sigma) "
   ]
  },
  {
   "cell_type": "code",
   "execution_count": null,
   "metadata": {},
   "outputs": [],
   "source": []
  }
 ],
 "metadata": {
  "kernelspec": {
   "display_name": "Python 3",
   "language": "python",
   "name": "python3"
  },
  "language_info": {
   "codemirror_mode": {
    "name": "ipython",
    "version": 3
   },
   "file_extension": ".py",
   "mimetype": "text/x-python",
   "name": "python",
   "nbconvert_exporter": "python",
   "pygments_lexer": "ipython3",
   "version": "3.6.8"
  }
 },
 "nbformat": 4,
 "nbformat_minor": 1
}
