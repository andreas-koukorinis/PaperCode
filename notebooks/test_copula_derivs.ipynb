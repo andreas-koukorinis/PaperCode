{
 "cells": [
  {
   "cell_type": "code",
   "execution_count": 1,
   "metadata": {
    "collapsed": false
   },
   "outputs": [
    {
     "name": "stdout",
     "output_type": "stream",
     "text": [
      "Couldn't import dot_parser, loading of dot files will not be possible.\n"
     ]
    }
   ],
   "source": [
    "import numpy as np \n",
    "import theano \n",
    "import theano.tensor as T\n",
    "from theano import pp \n",
    "import sys\n",
    "sys.path.append('/home/kman/papers/QFPaper/Code/')\n",
    "from copulas import * \n",
    "from hmm import * \n",
    "\n",
    "from scipy.stats import expon \n",
    "from scipy.stats import norm \n",
    "\n",
    "theta = 1.5\n",
    "myCopula = Gumbel(theta) \n",
    "\n",
    "rng = np.random.RandomState(123)\n",
    "\n",
    "#sample some exponential and normal random numbers and get the grades\n",
    "n_samples = 10000 \n",
    "ll = 2 \n",
    "sigma = 1.5 \n",
    "taus = rng.exponential(scale=1./ll, size=n_samples) \n",
    "pcs = rng.normal(0., sigma, size=n_samples) \n",
    "us = expon.cdf(taus, scale=1./ll) \n",
    "vs = norm.cdf(pcs, scale=sigma) \n"
   ]
  },
  {
   "cell_type": "code",
   "execution_count": 2,
   "metadata": {
    "collapsed": false
   },
   "outputs": [],
   "source": [
    "t = T.scalar('t') \n",
    "tt = T.vector('tt')\n",
    "theta_ = T.scalar('theta')\n",
    "phi = (-T.log(t))**theta_ \n",
    "dphi = T.grad(phi,t)\n",
    "ddphi = T.grad(dphi, t)\n",
    "dddphi = T.grad(ddphi, t) \n",
    "\n",
    "dphi_f = theano.function([t, theta_], dphi) \n",
    "ddphi_f = theano.function([t, theta_], ddphi) \n",
    "dddphi_f = theano.function([t, theta_], dddphi) \n",
    "\n",
    "theano_results = []\n",
    "copula_module_results =[] \n",
    "\n",
    "def psi_and_derivs_theano(u, v): \n",
    "    \n",
    "    c_u_v = myCopula.psi_inv(myCopula.psi(u) + myCopula.psi(v)) \n",
    "    \n",
    "    return [ \n",
    "            c_u_v,\n",
    "            float(dphi_f(u, theta)), \n",
    "            float(dphi_f(v, theta)),\n",
    "            float(dphi_f(c_u_v, theta)), \n",
    "            float(ddphi_f(u, theta)),\n",
    "            float(ddphi_f(v, theta)),\n",
    "            float(ddphi_f(c_u_v, theta)),\n",
    "            float(dddphi_f(c_u_v, theta))\n",
    "           ]\n",
    "\n",
    "for u, v in zip(us, vs):\n",
    "    theano_results.append(psi_and_derivs_theano(u,v)) \n",
    "\n",
    "for u, v in zip(us, vs): \n",
    "    copula_module_results.append(myCopula.psi_and_derivs(u, v)) \n",
    "    \n",
    "# for i, cr in enumerate(copula_module_results): \n",
    "#      ll = np.asarray(cr) - np.asarray(theano_results[i])#  )/np.asarray(cr)\n",
    "#      if abs(ll.sum()) > 1e-6: \n",
    "#          print i, copula_module_results[i][0]\n",
    "\n",
    "        "
   ]
  },
  {
   "cell_type": "code",
   "execution_count": null,
   "metadata": {
    "collapsed": false
   },
   "outputs": [],
   "source": [
    "from numpy.testing import assert_array_almost_equal \n",
    "\n",
    "theano_results = np.asarray(theano_results)\n",
    "copula_module_results = np.asarray(copula_module_results)\n",
    "# uncomment this to see failures when the argument of the calling function\n",
    "#i.e. c(u,v) is of O(1e-4)\n",
    "\n",
    "#assert_array_almost_equal(copula_module_results, theano_results, \n",
    "#                          decimal=6)\n",
    "\n",
    "# or use absolute tolerance here to see failures when the argument to the 3rd derivative is of O(1e-4)  \n",
    "#np.allclose(theano_results, copula_module_results, rtol=1e-06)"
   ]
  },
  {
   "cell_type": "code",
   "execution_count": null,
   "metadata": {
    "collapsed": false
   },
   "outputs": [],
   "source": [
    "import numpy as np \n",
    "import pdb\n",
    "def ff(t): \n",
    "    return theta*((-np.log(t))**(theta-1) + (theta-1)*(-np.log(t))**(theta-2))/t**2\n",
    "    \n",
    "def dff(t): \n",
    "    m_log_t = -np.log(t)\n",
    "    #pdb.set_trace()\n",
    "    return (-2.*theta*m_log_t**(theta-1) - 3.*theta*(theta-1)*m_log_t**(theta-2)\\\n",
    "     -theta*(theta-1)*(theta-2)*m_log_t**(theta-3))/t**3\n",
    "\n",
    "t = theano_results[844][0] \n",
    "epsilon = 0.001 * t \n",
    "\n",
    "dff_hat = (ff(t+epsilon) - ff(t-epsilon))/(2.*epsilon)\n",
    "\n",
    "dff(t), dddphi_f(t, theta) \n",
    "\n",
    "\n",
    "\n"
   ]
  },
  {
   "cell_type": "markdown",
   "metadata": {},
   "source": [
    "# Test here the copula partial derivs \n"
   ]
  },
  {
   "cell_type": "code",
   "execution_count": 5,
   "metadata": {
    "collapsed": false
   },
   "outputs": [
    {
     "data": {
      "text/plain": [
       "(0.69646918559786164, 0.83106967897697204)"
      ]
     },
     "execution_count": 5,
     "metadata": {},
     "output_type": "execute_result"
    }
   ],
   "source": [
    "var_u = T.scalar('u') \n",
    "var_v = T.scalar('v') \n",
    "\n",
    "# redefine the copula here\n",
    "phi_sum = T.power(-T.log(var_u), theta_) + T.power(-T.log(var_v), theta_)\n",
    "\n",
    "Copula = T.exp(-T.power(phi_sum, 1/theta_)) \n",
    "Copula_f = theano.function([var_u, var_v, theta_], phi_sum)\n",
    "\n",
    "# and calculate the relevant derivatives using Theano \n",
    "dCopula_du = T.grad(Copula, var_u) \n",
    "ddCopula_dudv = T.grad(dCopula_du, var_v) \n",
    "cop_pdf = ddCopula_dudv  \n",
    "cop_pdf_f = theano.function([var_u,var_v, theta_], cop_pdf)\n",
    "\n",
    "dcop_pdf_du = T.grad(ddCopula_dudv, var_u)\n",
    "dcop_pdf_dv = T.grad(cop_pdf, var_v)\n",
    "\n",
    "dcop_pdf_du_f = theano.function([var_u,var_v,theta_], dcop_pdf_du) \n",
    "dcop_pdf_dv_f = theano.function([var_u,var_v,theta_], dcop_pdf_dv) \n",
    "\n",
    "\n",
    "# generate a row with all the generator derivatives that are consumed \n",
    "# copula_dens_and_derivs. Lets do this with Theano here. \n",
    "u = us[0]; v = vs[0] \n",
    "C = Copula_f(u,v, theta)\n",
    "row = {} \n",
    "dphi_f(u,theta) \n",
    "row['psi_prime_u']= float(dphi_f(u,theta))         \n",
    "row['psi_prime_v']= float(dphi_f(v,theta))\n",
    "row['psi_prime_C']= float(dphi_f(C,theta))\n",
    "                         \n",
    "row['psi_twoprime_u']= float(ddphi_f(u, theta))\n",
    "row['psi_twoprime_v']= float(ddphi_f(v, theta))\n",
    "row['psi_twoprime_C']= float(ddphi_f(C, theta))\n",
    "row['psi_threeprime_C']= float(dddphi_f(C, theta))\n",
    "\n",
    "gumbel_results = np.asarray(Gumbel.copula_dens_and_derivs(row))\n",
    "\n",
    "theano_results = np.asarray(\n",
    "                 [\n",
    "                  cop_pdf_f(u,v, theta),\n",
    "                  dcop_pdf_du_f(u,v,theta), \n",
    "                  dcop_pdf_dv_f(u,v, theta)\n",
    "                 ])\n",
    "gumbel_results - theano_results \n",
    "u, v"
   ]
  }
 ],
 "metadata": {
  "kernelspec": {
   "display_name": "Python 2",
   "language": "python",
   "name": "python2"
  },
  "language_info": {
   "codemirror_mode": {
    "name": "ipython",
    "version": 2
   },
   "file_extension": ".py",
   "mimetype": "text/x-python",
   "name": "python",
   "nbconvert_exporter": "python",
   "pygments_lexer": "ipython2",
   "version": "2.7.6"
  }
 },
 "nbformat": 4,
 "nbformat_minor": 0
}
