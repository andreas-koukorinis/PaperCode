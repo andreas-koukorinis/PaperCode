{
 "cells": [
  {
   "cell_type": "code",
   "execution_count": 19,
   "metadata": {
    "collapsed": false
   },
   "outputs": [],
   "source": [
    "import numpy as np\n",
    "import seaborn\n",
    "import matplotlib.pyplot as plt \n",
    "%matplotlib inline \n",
    "import sys \n",
    "sys.path.append('/home/ak/Documents/Research/QFPaper/Code/') \n",
    "\n",
    "from hmm import hmm_calibration\n",
    "from observation_models import Gaussian\n",
    "from sklearn.datasets.samples_generator import make_spd_matrix\n",
    "from hmm_utils import normalize\n",
    "\n",
    "prng = np.random.RandomState(10)\n",
    "n_hidden_states = 3\n",
    "n_features = 2\n",
    "###This is like the set up func Unit test of hmmlearn ############\n",
    "startprob = prng.rand(n_hidden_states)\n",
    "startprob = startprob / startprob.sum()\n",
    "transmat = prng.rand(n_hidden_states, n_hidden_states)\n",
    "transmat /= np.tile(transmat.sum(axis=1)[:, np.newaxis],\n",
    "                                 (1, n_hidden_states))\n",
    "\n",
    "means = prng.randint(-20, 20, (n_hidden_states, n_features))\n",
    "covars = (1.0 + 2 * prng.rand(n_hidden_states, n_features)) ** 2\n",
    "            \n",
    "transmat = normalize(transmat + np.diag(prng.rand(n_hidden_states)), 1)\n",
    "diag_sigmas = covars\n",
    "\n",
    "sample_size = 100\n",
    "\n",
    "update_tag = 'tpsm'\n",
    "\n",
    "states = hmm_calibration.sample_states(startprob, transmat, prng, sample_size=sample_size)\n",
    "obs = Gaussian.sample_data(states, 20*means, diag_sigmas, rng=prng)\n",
    "obs_model = Gaussian(n_hidden_states, n_features)\n",
    "the_hmm = hmm_calibration(obs_model, n_hidden_states, max_iter=10)\n",
    "res = the_hmm.run_hmm(obs, update_tag=update_tag, initialise_method_tag='uniform', rng=prng)\n",
    "\n"
   ]
  },
  {
   "cell_type": "code",
   "execution_count": 25,
   "metadata": {
    "collapsed": false
   },
   "outputs": [
    {
     "data": {
      "image/png": "[encoded data removed]",
      "text/plain": [
       "<matplotlib.figure.Figure at 0x7f3f87712a10>"
      ]
     },
     "metadata": {},
     "output_type": "display_data"
    }
   ],
   "source": [
    "changing_params_name = 'sigmas_'\n",
    "no_state = 0\n",
    "sigma_entry = 1\n",
    "step_object =res['step_calibrations'][2]\n",
    "\n",
    "#this is the variable that the M-step calculated at the step-th step \n",
    "\n",
    "changing_params = getattr(step_object.obs_model_, changing_params_name)\n",
    "theoretical_solution = changing_params[no_state][sigma_entry]\n",
    "#and these should be the optimal observation likelihood and complete data likelihood\n",
    "optimal_obs_ll = step_object.obs_model_.score(obs)\n",
    "complete_data_ll_optimal = step_object.complete_data_log_likelihood(optimal_obs_ll)\n",
    "\n",
    "# now lets vary the \"var_to_plot[no_state]\" and make sure we indeed hit a maxima\n",
    "range1 = np.arange(0.05, theoretical_solution, (theoretical_solution-0.05)/20.)\n",
    "range2 = np.arange(theoretical_solution, 5., (5. - theoretical_solution)/20.)\n",
    "variable_range = np.concatenate((range1, range2))\n",
    "values_range = []\n",
    "for var in variable_range:\n",
    "    changing_params[no_state][sigma_entry] = var\n",
    "    #setattr(step_object.obs_model_, changing_params_name, changing_params) \n",
    "    #print getattr(step_object.obs_model_, changing_params_name)\n",
    "    obs_ll = step_object.obs_model_.score(obs)\n",
    "    values_range.append(step_object.complete_data_log_likelihood(obs_ll))\n",
    "\n",
    "plt.plot(variable_range, values_range)\n",
    "plt.axvline(x=theoretical_solution) \n",
    "plt.show()"
   ]
  },
  {
   "cell_type": "code",
   "execution_count": null,
   "metadata": {
    "collapsed": true
   },
   "outputs": [],
   "source": [
    "values_range"
   ]
  },
  {
   "cell_type": "markdown",
   "metadata": {},
   "source": [
    "##Below: Increased the size of the observation data, in model fitting##"
   ]
  },
  {
   "cell_type": "code",
   "execution_count": 29,
   "metadata": {
    "collapsed": false
   },
   "outputs": [],
   "source": [
    "#defining new sample set of observation data\n",
    "sample_size =1000\n",
    "states = hmm_calibration.sample_states(startprob, transmat, prng, sample_size=sample_size)\n",
    "obs = Gaussian.sample_data(states, 20*means, diag_sigmas, rng=prng)\n",
    "obs_model = Gaussian(n_hidden_states, n_features)\n",
    "the_hmm = hmm_calibration(obs_model, n_hidden_states, max_iter=10)\n"
   ]
  },
  {
   "cell_type": "code",
   "execution_count": 31,
   "metadata": {
    "collapsed": false
   },
   "outputs": [
    {
     "data": {
      "text/plain": [
       "[<matplotlib.lines.Line2D at 0x7f3f87725ad0>]"
      ]
     },
     "execution_count": 31,
     "metadata": {},
     "output_type": "execute_result"
    },
    {
     "data": {
      "image/png": "[encoded data removed]",
      "text/plain": [
       "<matplotlib.figure.Figure at 0x7f3f87663d90>"
      ]
     },
     "metadata": {},
     "output_type": "display_data"
    }
   ],
   "source": [
    "complete_log_likelihoods =[]\n",
    "\n",
    "for i in range(1,11): \n",
    "    df = obs[0:i*100]\n",
    "    result = the_hmm.run_hmm(df, update_tag=update_tag, initialise_method_tag='uniform', rng=prng)\n",
    "    last_calibration = result['step_calibrations'][-1]\n",
    "    optimal_obs_ll = last_calibration.obs_model_.score(df)\n",
    "    complete_log_likelihoods.append(last_calibration.complete_data_log_likelihood(optimal_obs_ll)) \n",
    "\n",
    "plt.plot(range(1,11), complete_log_likelihoods)          "
   ]
  },
  {
   "cell_type": "code",
   "execution_count": null,
   "metadata": {
    "collapsed": true
   },
   "outputs": [],
   "source": []
  }
 ],
 "metadata": {
  "kernelspec": {
   "display_name": "Python 2",
   "language": "python",
   "name": "python2"
  },
  "language_info": {
   "codemirror_mode": {
    "name": "ipython",
    "version": 2
   },
   "file_extension": ".py",
   "mimetype": "text/x-python",
   "name": "python",
   "nbconvert_exporter": "python",
   "pygments_lexer": "ipython2",
   "version": "2.7.6"
  }
 },
 "nbformat": 4,
 "nbformat_minor": 0
}
