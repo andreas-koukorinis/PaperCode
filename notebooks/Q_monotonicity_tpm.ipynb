{
 "cells": [
  {
   "cell_type": "code",
   "execution_count": 41,
   "metadata": {
    "collapsed": false
   },
   "outputs": [],
   "source": [
    "import sys \n",
    "import numpy as np \n",
    "sys.path.append('/home/kman/papers/QFPaper/Code/')\n",
    "import hmm \n",
    "import pandas as pd\n",
    "\n",
    "import seaborn as sns\n",
    "from hmm import hmm_calibration\n",
    "from observation_models import *\n",
    "import matplotlib.pyplot as plt \n",
    "%matplotlib inline \n",
    "import copy\n",
    "import ipdb \n",
    "\n",
    "prng = np.random.RandomState(10)\n",
    "n_components = 2\n",
    "startprob = prng.rand(n_components)\n",
    "startprob = startprob / startprob.sum()\n",
    "transmat = prng.rand(n_components, n_components) #random starting point\n",
    "transmat /= np.tile(transmat.sum(axis=1)[:, np.newaxis], (1, n_components))#normalising so all entries sum up to 1\n",
    "\n",
    "sigmas = [ .3, 0.8, 1][0:n_components]\n",
    "lambdas = [0.5, 5., 0.8][0:n_components]\n",
    "weights = [0, 0, 0][0:n_components]\n",
    "priors = {'sigmas':[0.6, .95, 1.5][0:n_components], 'lambdas':[1, 1.5, 0.4][0:n_components], \n",
    "          'weights':[0.1, 0.2, 0.3][0:n_components]}\n",
    "\n",
    "sample_size = 100000\n",
    "#generate state and observation data from the \\\"right\\\" distribution\\n\",\n",
    "states = hmm_calibration.sample_states(startprob, transmat, prng, sample_size=sample_size)\n",
    "\n",
    "observation_data=ExpUniGauss.sample_data(states,lambdas, sigmas, weights, 0, rng=prng)\n",
    "data_set = pd.DataFrame()\n",
    "data_set['tau'] = observation_data[0]\n",
    "data_set['price_change'] = observation_data[1]\n",
    "#define the calibrator and model \n",
    "# update_tag = 'tpslw'\n",
    "\n",
    "# obs_model = Exp_UniGauss(n_components, epsilon=0)\n",
    "# the_hmm = hmm_calibration(obs_model, n_components, max_iter=10) \n",
    "# result = the_hmm.run_hmm(data_set, update_tag=update_tag, initialise_method_tag='uniform',priors=priors, rng=prng)\n",
    "\n",
    "ll = 2 \n",
    "sigma = 0.5\n",
    "\n",
    "#vv = data_set.apply(lambda row: [row['tau']*2, 3*row['price_change']], axis=1) \n",
    "#vv = data_set.apply(lambda row: pd.Series({'col1':row['tau']*2, 'col2':3*row['price_change']}), axis=1) \n"
   ]
  },
  {
   "cell_type": "code",
   "execution_count": 36,
   "metadata": {
    "collapsed": false
   },
   "outputs": [
    {
     "name": "stdout",
     "output_type": "stream",
     "text": [
      "0.032742023468\n"
     ]
    }
   ],
   "source": [
    "import time \n",
    "rng = np.random.RandomState(144)\n",
    "start_time = time.time() \n",
    "exps = data_set['price_change'].map(lambda xx: np.exp(-xx**2))\n",
    "for i in range(1000):\n",
    "    sigma = rng.uniform(0,1) \n",
    "    final = exps.map(lambda xx: xx**(-.5/sigma**2)) \n",
    "    \n",
    "end_time = time.time()                 \n",
    "print end_time - start_time "
   ]
  },
  {
   "cell_type": "code",
   "execution_count": 39,
   "metadata": {
    "collapsed": false
   },
   "outputs": [
    {
     "name": "stdout",
     "output_type": "stream",
     "text": [
      "0.0481579303741\n"
     ]
    }
   ],
   "source": [
    "start_time = time.time() \n",
    "\n",
    "for i in range(1000):\n",
    "    sigma = rng.uniform(0,1) \n",
    "    final = data_set['price_change'].map(lambda xx: np.exp( -xx**2*(-.5/sigma**2))) \n",
    "    \n",
    "end_time = time.time()                 \n",
    "print end_time - start_time "
   ]
  },
  {
   "cell_type": "code",
   "execution_count": null,
   "metadata": {
    "collapsed": false
   },
   "outputs": [],
   "source": [
    "step_object =result['step_calibrations'][4]\n",
    "optimal_obs_ll = step_object.obs_model_.score(data_set)\n",
    "complete_data_ll_optimal = step_object.complete_data_log_likelihood(optimal_obs_ll) #q-function\n",
    "\n",
    "num_tests = 10  #number of perturbations and re-evaluation of the Q-function\n",
    "values_for_lls = [] \n",
    "original_tpm = copy.deepcopy(step_object.tpm_) \n",
    "\n",
    "for trial in range(num_tests):\n",
    "    tpm = copy.deepcopy(original_tpm) \n",
    "    #print tpm, \"\\n\"\n",
    "    row_to_change = prng.randint(0, n_components)  \n",
    "    col_to_change = prng.randint(0, n_components)\n",
    "    \n",
    "    random_perturb = prng.uniform(low=0., high=tpm[row_to_change, col_to_change]) \n",
    "     \n",
    "    tpm[row_to_change, col_to_change] -= random_perturb \n",
    "    for jj in range(n_components): \n",
    "        if jj is not col_to_change: \n",
    "            tpm[row_to_change, jj] += random_perturb/(n_components -1) \n",
    "    \n",
    "       \n",
    "    step_object.tpm_ = tpm\n",
    "    obs_ll = step_object.obs_model_.score(data_set)\n",
    "    values_for_lls.append( step_object.complete_data_log_likelihood(obs_ll)) \n",
    "    \n",
    "plt.plot(values_for_lls)\n",
    "plt.axhline(y=complete_data_ll_optimal)\n",
    "plt.show()\n",
    "\n",
    "  "
   ]
  },
  {
   "cell_type": "code",
   "execution_count": null,
   "metadata": {
    "collapsed": false
   },
   "outputs": [],
   "source": [
    "values_for_lls "
   ]
  },
  {
   "cell_type": "code",
   "execution_count": null,
   "metadata": {
    "collapsed": false
   },
   "outputs": [],
   "source": [
    "complete_data_ll_optimal "
   ]
  }
 ],
 "metadata": {
  "kernelspec": {
   "display_name": "Python 2",
   "language": "python",
   "name": "python2"
  },
  "language_info": {
   "codemirror_mode": {
    "name": "ipython",
    "version": 2
   },
   "file_extension": ".py",
   "mimetype": "text/x-python",
   "name": "python",
   "nbconvert_exporter": "python",
   "pygments_lexer": "ipython2",
   "version": "2.7.6"
  }
 },
 "nbformat": 4,
 "nbformat_minor": 0
}
