{
 "cells": [
  {
   "cell_type": "code",
   "execution_count": 122,
   "metadata": {},
   "outputs": [],
   "source": [
    "\n",
    "import os\n",
    "import pickle\n",
    "import pandas as pd\n",
    "import sys\n",
    "import sys\n",
    "from memory_profiler import profile\n",
    "import pandas as pd\n",
    "import numpy as np\n",
    "sys.path.append('/home/ak/Documents/Research/PaperCode/MultiKernelLearning')\n",
    "sys.path.append('/home/ak/Documents/Research/PaperCode/singlekernelclf/')\n",
    "import jsonpickle\n",
    "from collections import defaultdict\n",
    "from sklearn.svm import SVC\n",
    "from collections import OrderedDict\n",
    "import os\n",
    "from sklearn.metrics import accuracy_score\n",
    "import torch\n",
    "\n",
    "\n",
    "from fileutils import new_feature_utils as nfu\n",
    "from fileutils.new_feature_utils import CreateMarketFeatures\n",
    "import multiprocessing\n",
    "import mkl_data_processing as mkldp\n"
   ]
  },
  {
   "cell_type": "code",
   "execution_count": 8,
   "metadata": {},
   "outputs": [],
   "source": [
    "from fileutils import DataLoader as DataLoader\n",
    "from fileutils import paths\n",
    "from fileutils import new_feature_utils as nfu\n",
    "from fileutils.new_feature_utils import CreateMarketFeatures"
   ]
  },
  {
   "cell_type": "code",
   "execution_count": 9,
   "metadata": {},
   "outputs": [],
   "source": [
    "def open_pickle_filepath(pickle_file):\n",
    "    pickle_to_file = pickle.load(open(pickle_file, \"rb\"), encoding='latin1')\n",
    "\n",
    "    return pickle_to_file\n",
    "\n",
    "\n",
    "def forward_Dates(list_of_keys, current_date):\n",
    "    \"\"\"\n",
    "    return all the forward looking dates for each idxKey we use for training\n",
    "\n",
    "    :param list_of_keys: dates i have model dates for out of sample\n",
    "    :param current_date: current model date\n",
    "    :return: forward dates for applying the fitted model\n",
    "    \"\"\"\n",
    "    lookAheadKeys = sorted(i for i in list_of_keys if i > current_date)\n",
    "    return lookAheadKeys\n"
   ]
  },
  {
   "cell_type": "code",
   "execution_count": 25,
   "metadata": {},
   "outputs": [],
   "source": [
    "mainFolder  = '/media/ak/LaCie'\n",
    "\n",
    "figures_destination = '/home/ak/Documents/Research/Papers/figures/'\n",
    "dataFolder = laptopDataFolder\n",
    "expLocsDirectories = os.path.join(laptopDataFolder, 'ExperimentCommonLocs')\n",
    "\n",
    "\n"
   ]
  },
  {
   "cell_type": "code",
   "execution_count": 27,
   "metadata": {},
   "outputs": [
    {
     "data": {
      "text/plain": [
       "['FittedModelsAprilModels2021',\n",
       " 'LabelAnalysisResults',\n",
       " 'MKLFittedModels',\n",
       " 'CrossValidationResults',\n",
       " 'MKLOOSPredictionsApril2021',\n",
       " 'JointLocationsDicts',\n",
       " 'OOSPredictions',\n",
       " 'Labels_AlternateApril2021',\n",
       " 'LabelsAlternateOne',\n",
       " 'LabelsAlternateTwo',\n",
       " 'LabelsAlternateThree',\n",
       " 'LabelsAlternateFour',\n",
       " 'LabelsAlternateFive',\n",
       " 'LabelsAlternateSix',\n",
       " 'FittedModels',\n",
       " 'MKLOOSPredictions',\n",
       " 'processedSingleKernelOOS']"
      ]
     },
     "execution_count": 27,
     "metadata": {},
     "output_type": "execute_result"
    }
   ],
   "source": [
    "os.listdir(expLocsDirectories)"
   ]
  },
  {
   "cell_type": "code",
   "execution_count": 29,
   "metadata": {},
   "outputs": [],
   "source": [
    "\n",
    "alternate_labels_nos = {1:\"LabelsAlternateOne\", 2:\"LabelsAlternateTwo\", 3:\"LabelsAlternateThree\", \n",
    "                        4:\"LabelsAlternateFour\", 5:\"LabelsAlternateFive\", 6:\"LabelsAlternateSix\", \n",
    "                        7:\"LabelsAlternateSeven\"}  # we have 7 alternative data types\n",
    "\n",
    "fittedModelsPath = os.path.join(mainPath, \"ExperimentCommonLocs/FittedModels\")\n",
    "oosPredictionsPath = os.path.join(mainPath, \"ExperimentCommonLocs/OOSPredictions\")"
   ]
  },
  {
   "cell_type": "code",
   "execution_count": 128,
   "metadata": {},
   "outputs": [],
   "source": [
    "nonzerodict = defaultdict(dict)\n",
    "zerodict = defaultdict(dict)"
   ]
  },
  {
   "cell_type": "code",
   "execution_count": 129,
   "metadata": {},
   "outputs": [],
   "source": [
    "label_idx = 1  # to be serialised\n",
    "\n",
    "\n",
    "labelsLocation = os.path.join(expLocsDirectories, alternate_labels_nos[label_idx])\n",
    "\n",
    "symbols = sorted(os.listdir(labelsLocation))\n",
    "symbolIdx = 1\n",
    "symbolLabelsFilesPath = os.path.join(labelsLocation, symbols[symbolIdx])"
   ]
  },
  {
   "cell_type": "code",
   "execution_count": 130,
   "metadata": {},
   "outputs": [
    {
     "data": {
      "text/plain": [
       "40"
      ]
     },
     "execution_count": 130,
     "metadata": {},
     "output_type": "execute_result"
    }
   ],
   "source": [
    "dates =[f.split(\".csv\")[0] for f in os.listdir(symbolLabelsFilesPath)]\n",
    "len(symbols)"
   ]
  },
  {
   "cell_type": "code",
   "execution_count": 136,
   "metadata": {},
   "outputs": [],
   "source": [
    "nonzerodict =dict()\n",
    "zerodict = dict()\n",
    "dateIdx = 0\n",
    "for dateIdx in range(0, len(dates)-1):\n",
    "    dateFile = os.path.join(symbolLabelsFilesPath, str(dates[dateIdx])+'.csv')\n",
    "    df = pd.read_csv(dateFile)\n",
    "    zerodict[dates[dateIdx]] = df[df['ReturnTradedPrice']==0]['Duration'].dropna()\n",
    "    nonzerodict[dates[dateIdx]] = df[df['ReturnTradedPrice']!=0]['Duration'].dropna()\n",
    "    "
   ]
  },
  {
   "cell_type": "code",
   "execution_count": 132,
   "metadata": {},
   "outputs": [
    {
     "data": {
      "text/plain": [
       "'APF.L'"
      ]
     },
     "execution_count": 132,
     "metadata": {},
     "output_type": "execute_result"
    }
   ],
   "source": []
  },
  {
   "cell_type": "code",
   "execution_count": 94,
   "metadata": {},
   "outputs": [
    {
     "data": {
      "text/plain": [
       "1     2979.005827\n",
       "2        4.119115\n",
       "3        0.180616\n",
       "4        4.830002\n",
       "5       13.289631\n",
       "6      140.576986\n",
       "7      958.993628\n",
       "8     3870.998883\n",
       "9      152.006523\n",
       "10      11.809207\n",
       "11     291.373557\n",
       "12      25.329528\n",
       "13     878.466194\n",
       "14     230.679948\n",
       "15     699.344577\n",
       "16     711.996410\n",
       "17    3967.985471\n",
       "18    5423.004890\n",
       "19      34.995132\n",
       "20      87.000567\n",
       "21    2006.015469\n",
       "22    3023.984282\n",
       "Name: Duration, dtype: float64"
      ]
     },
     "execution_count": 94,
     "metadata": {},
     "output_type": "execute_result"
    }
   ],
   "source": [
    "## test check\n",
    "testDate ='20170124'\n",
    "test_loc = os.path.join(symbolLabelsFilesPath, str(testDate)+'.csv') \n",
    "test_df =pd.read_csv(test_loc)\n",
    "test_df[test_df['Duration']!=0]['Duration']"
   ]
  },
  {
   "cell_type": "code",
   "execution_count": 137,
   "metadata": {},
   "outputs": [],
   "source": [
    "nz_across_time =pd.DataFrame.from_dict(nonzerodict).fillna(0.01).median(axis =0)\n",
    "nz_across_point_in_time =pd.DataFrame.from_dict(nonzerodict).fillna(0.01).median(axis =1)\n",
    "\n"
   ]
  },
  {
   "cell_type": "code",
   "execution_count": 138,
   "metadata": {},
   "outputs": [],
   "source": [
    "z_across_time =pd.DataFrame.from_dict(zerodict).median(axis =0)\n",
    "z_across_point_in_time =pd.DataFrame.from_dict(zerodict).median(axis =1)\n",
    "\n"
   ]
  },
  {
   "cell_type": "code",
   "execution_count": 139,
   "metadata": {},
   "outputs": [],
   "source": [
    "z_across_time = pd.DataFrame.from_dict(zerodict).median(axis=0)\n",
    "z_across_point_in_time = pd.DataFrame.from_dict(zerodict).median(axis=1)"
   ]
  },
  {
   "cell_type": "code",
   "execution_count": 140,
   "metadata": {},
   "outputs": [],
   "source": [
    "duration_nz =nonzerodf['Duration']\n",
    "duration_z = zerodf['Duration']"
   ]
  },
  {
   "cell_type": "code",
   "execution_count": 141,
   "metadata": {},
   "outputs": [
    {
     "data": {
      "text/plain": [
       "count      25.000000\n",
       "mean     1107.223222\n",
       "std      1776.976860\n",
       "min         0.000022\n",
       "25%         0.169926\n",
       "50%       320.524294\n",
       "75%      1445.998149\n",
       "max      7807.039813\n",
       "Name: Duration, dtype: float64"
      ]
     },
     "execution_count": 141,
     "metadata": {},
     "output_type": "execute_result"
    }
   ],
   "source": [
    "duration_nz.describe()"
   ]
  },
  {
   "cell_type": "code",
   "execution_count": 142,
   "metadata": {},
   "outputs": [
    {
     "data": {
      "image/png": "[encoded data removed]",
      "text/plain": [
       "<Figure size 432x288 with 1 Axes>"
      ]
     },
     "metadata": {
      "needs_background": "light"
     },
     "output_type": "display_data"
    },
    {
     "data": {
      "image/png": "[encoded data removed]",
      "text/plain": [
       "<Figure size 432x288 with 1 Axes>"
      ]
     },
     "metadata": {
      "needs_background": "light"
     },
     "output_type": "display_data"
    }
   ],
   "source": [
    "import seaborn as sns\n",
    "from scipy.stats import norm, levy\n",
    "import matplotlib.pyplot as plt\n",
    "from scipy.stats import probplot\n",
    "ax=sns.distplot(z_across_point_in_time, fit =norm ,kde= True, color = 'r', label ='Point in time')\n",
    "plt.show()\n",
    "ax2=sns.distplot(z_across_time,kde= True, color = 'b')\n",
    "\n"
   ]
  },
  {
   "cell_type": "code",
   "execution_count": 143,
   "metadata": {},
   "outputs": [
    {
     "data": {
      "image/png": "[encoded data removed]",
      "text/plain": [
       "<Figure size 432x288 with 1 Axes>"
      ]
     },
     "metadata": {
      "needs_background": "light"
     },
     "output_type": "display_data"
    }
   ],
   "source": [
    "import pylab\n",
    "g = probplot(z_across_point_in_time,dist='norm',plot=pylab)\n",
    "pylab.show(g)   "
   ]
  },
  {
   "cell_type": "code",
   "execution_count": 144,
   "metadata": {},
   "outputs": [
    {
     "data": {
      "image/png": "[encoded data removed]",
      "text/plain": [
       "<Figure size 432x288 with 1 Axes>"
      ]
     },
     "metadata": {
      "needs_background": "light"
     },
     "output_type": "display_data"
    }
   ],
   "source": [
    "import pylab\n",
    "g = probplot(z_across_time,dist='norm',plot=pylab)\n",
    "pylab.show(g) "
   ]
  },
  {
   "cell_type": "code",
   "execution_count": null,
   "metadata": {},
   "outputs": [],
   "source": []
  }
 ],
 "metadata": {
  "kernelspec": {
   "display_name": "Python 3",
   "language": "python",
   "name": "python3"
  },
  "language_info": {
   "codemirror_mode": {
    "name": "ipython",
    "version": 3
   },
   "file_extension": ".py",
   "mimetype": "text/x-python",
   "name": "python",
   "nbconvert_exporter": "python",
   "pygments_lexer": "ipython3",
   "version": "3.6.8"
  },
  "latex_envs": {
   "LaTeX_envs_menu_present": true,
   "autoclose": false,
   "autocomplete": true,
   "bibliofile": "biblio.bib",
   "cite_by": "apalike",
   "current_citInitial": 1,
   "eqLabelWithNumbers": true,
   "eqNumInitial": 1,
   "hotkeys": {
    "equation": "Ctrl-E",
    "itemize": "Ctrl-I"
   },
   "labels_anchors": false,
   "latex_user_defs": false,
   "report_style_numbering": false,
   "user_envs_cfg": false
  }
 },
 "nbformat": 4,
 "nbformat_minor": 5
}
