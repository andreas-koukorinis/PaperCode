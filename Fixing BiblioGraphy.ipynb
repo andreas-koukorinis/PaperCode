{
 "cells": [
  {
   "cell_type": "code",
   "execution_count": 1,
   "id": "7ae4abf8",
   "metadata": {},
   "outputs": [],
   "source": [
    "import os\n",
    "import re\n"
   ]
  },
  {
   "cell_type": "code",
   "execution_count": 2,
   "id": "0e3920a6",
   "metadata": {},
   "outputs": [],
   "source": [
    "import os\n",
    "\n",
    "def modify_journal_names(filename):\n",
    "    version = 1\n",
    "    new_filename = f'{filename[:-4]}_modified_v{version}.bib'\n",
    "    while os.path.exists(os.path.join('/home/ak/Documents', new_filename)):\n",
    "        version += 1\n",
    "        new_filename = f'{filename[:-4]}_modified_v{version}.bib'\n",
    "        \n",
    "    with open(os.path.join('/home/ak/Documents', filename), 'r') as file:\n",
    "        lines = file.readlines()\n",
    "        \n",
    "    with open(os.path.join('/home/ak/Documents', new_filename), 'w') as new_file:\n",
    "        for line in lines:\n",
    "            if line.startswith('journal'):\n",
    "                journal_name = line[9:-2]\n",
    "                if journal_name not in journal_names:\n",
    "                    journal_names.add(journal_name)\n",
    "                journal_name = journal_name.lower()\n",
    "                journal_name = ' '.join([word.capitalize() for word in journal_name.split()])\n",
    "                new_line = f'journal = {{{journal_name}}},\\n'\n",
    "                print(f'Original line: {line.strip()}')\n",
    "                print(f'Modified line : {new_line.strip()}\\n')\n",
    "                new_file.write(new_line)\n",
    "            else:\n",
    "                new_file.write(line)\n",
    "    \n",
    "    print(f'Original file: {filename}\\nModified file: {new_filename}\\n')\n",
    "    print(f'The following journal names have been modified:')\n",
    "    for journal_name in sorted(journal_names):\n",
    "        print(f'- {journal_name}')\n",
    "    \n",
    "    confirmation = input('Do you want to save the modified file? (y/n): ')\n",
    "    if confirmation.lower() == 'y':\n",
    "        os.rename(os.path.join('/home/ak/Documents', filename), os.path.join('/home/ak/Documents', filename[:-4] + '_original.bib'))\n",
    "        os.rename(os.path.join('/home/ak/Documents', new_filename), os.path.join('/home/ak/Documents', new_filename))\n",
    "        print(f'Modified file saved as: {new_filename}')\n",
    "    else:\n",
    "        os.remove(os.path.join('/home/ak/Documents', new_filename))\n",
    "        print('Modified file discarded.')\n",
    "\n",
    "# if __name__ == '__main__':\n",
    "#     filename = input('Enter the filename (with .bib extension): ')\n",
    "#     journal_names = set()\n",
    "#     modify_journal_names(filename)\n"
   ]
  },
  {
   "cell_type": "code",
   "execution_count": 3,
   "id": "ebf6c07e",
   "metadata": {},
   "outputs": [
    {
     "name": "stdout",
     "output_type": "stream",
     "text": [
      "Original file: stylized_modified_v2.bib\n",
      "Modified file: stylized_modified_v2_modified_v1.bib\n",
      "\n",
      "The following journal names have been modified:\n",
      "Do you want to save the modified file? (y/n): Y\n",
      "Modified file saved as: stylized_modified_v2_modified_v1.bib\n"
     ]
    }
   ],
   "source": [
    "\n",
    "if __name__ == '__main__':\n",
    "    # Replace 'file.bib' with the actual filename\n",
    "    journal_names = set()\n",
    "    modify_journal_names('stylized_modified_v2.bib')"
   ]
  },
  {
   "cell_type": "code",
   "execution_count": 9,
   "id": "a90e9edc",
   "metadata": {},
   "outputs": [],
   "source": [
    "import sys\n",
    "\n",
    "def main():\n",
    "    if len(sys.argv) < 2:\n",
    "        print('Please specify a filename as a command-line argument.')\n",
    "        return\n",
    "\n",
    "    filename = sys.argv[1]\n",
    "    modify_bibfile(filename)\n"
   ]
  },
  {
   "cell_type": "code",
   "execution_count": 10,
   "id": "9e7358a9",
   "metadata": {},
   "outputs": [
    {
     "ename": "NameError",
     "evalue": "name 'modify_bibfile' is not defined",
     "output_type": "error",
     "traceback": [
      "\u001b[0;31m---------------------------------------------------------------------------\u001b[0m",
      "\u001b[0;31mNameError\u001b[0m                                 Traceback (most recent call last)",
      "\u001b[0;32m/tmp/ipykernel_1348724/451043146.py\u001b[0m in \u001b[0;36m<module>\u001b[0;34m\u001b[0m\n\u001b[0;32m----> 1\u001b[0;31m \u001b[0mmain\u001b[0m\u001b[0;34m(\u001b[0m\u001b[0;34m)\u001b[0m\u001b[0;34m\u001b[0m\u001b[0;34m\u001b[0m\u001b[0m\n\u001b[0m",
      "\u001b[0;32m/tmp/ipykernel_1348724/819841440.py\u001b[0m in \u001b[0;36mmain\u001b[0;34m()\u001b[0m\n\u001b[1;32m      7\u001b[0m \u001b[0;34m\u001b[0m\u001b[0m\n\u001b[1;32m      8\u001b[0m     \u001b[0mfilename\u001b[0m \u001b[0;34m=\u001b[0m \u001b[0msys\u001b[0m\u001b[0;34m.\u001b[0m\u001b[0margv\u001b[0m\u001b[0;34m[\u001b[0m\u001b[0;36m1\u001b[0m\u001b[0;34m]\u001b[0m\u001b[0;34m\u001b[0m\u001b[0;34m\u001b[0m\u001b[0m\n\u001b[0;32m----> 9\u001b[0;31m     \u001b[0mmodify_bibfile\u001b[0m\u001b[0;34m(\u001b[0m\u001b[0mfilename\u001b[0m\u001b[0;34m)\u001b[0m\u001b[0;34m\u001b[0m\u001b[0;34m\u001b[0m\u001b[0m\n\u001b[0m",
      "\u001b[0;31mNameError\u001b[0m: name 'modify_bibfile' is not defined"
     ]
    }
   ],
   "source": [
    "main()"
   ]
  },
  {
   "cell_type": "code",
   "execution_count": null,
   "id": "0ad01f3d",
   "metadata": {},
   "outputs": [],
   "source": []
  }
 ],
 "metadata": {
  "kernelspec": {
   "display_name": "Python [conda env:timeSeries] *",
   "language": "python",
   "name": "conda-env-timeSeries-py"
  },
  "language_info": {
   "codemirror_mode": {
    "name": "ipython",
    "version": 3
   },
   "file_extension": ".py",
   "mimetype": "text/x-python",
   "name": "python",
   "nbconvert_exporter": "python",
   "pygments_lexer": "ipython3",
   "version": "3.7.12"
  }
 },
 "nbformat": 4,
 "nbformat_minor": 5
}
