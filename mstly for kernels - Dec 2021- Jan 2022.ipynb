{
 "cells": [
  {
   "cell_type": "code",
   "execution_count": 24,
   "metadata": {},
   "outputs": [
    {
     "name": "stdout",
     "output_type": "stream",
     "text": [
      "latexstyle3.mplstyle\n"
     ]
    }
   ],
   "source": [
    "\n",
    "import pandas as pd\n",
    "import numpy as np\n",
    "import sklearn.svm as svm\n",
    "import pickle\n",
    "import os\n",
    "\n",
    "from sklearn.metrics.pairwise import rbf_kernel\n",
    "import pandas as pd\n",
    "import numpy as np\n",
    "from sklearn.preprocessing import StandardScaler\n",
    "from sklearn.preprocessing import MinMaxScaler\n",
    "from sklearn.model_selection import train_test_split\n",
    "from sklearn.metrics import accuracy_score, confusion_matrix, classification_report, precision_recall_fscore_support\n",
    "standard_scaler = StandardScaler()\n",
    "import time\n",
    "from sklearn.svm import SVC\n",
    "from sklearn.metrics import accuracy_score, roc_auc_score\n",
    "from collections import defaultdict\n",
    "import matplotlib.pyplot as plt\n",
    "from sklearn.metrics.pairwise import rbf_kernel as RBF\n",
    "import pickle as pkl\n",
    "from yellowbrick.style import set_palette\n",
    "from yellowbrick.cluster import InterclusterDistance\n",
    "#evaluate the solution\n",
    "from sklearn.metrics import accuracy_score, roc_auc_score\n",
    "from sklearn.metrics import roc_curve, auc\n",
    "from yellowbrick.style import set_palette\n",
    "from sklearn.naive_bayes import GaussianNB\n",
    "from sklearn.ensemble import RandomForestClassifier\n",
    "from yellowbrick.features import FeatureImportances\n",
    "\n",
    "from yellowbrick.target import ClassBalance, FeatureCorrelation\n",
    "\n",
    "from yellowbrick.classifier.confusion_matrix import *\n",
    "\n",
    "from sklearn.preprocessing import LabelEncoder\n",
    "# Feature Analysis Imports\n",
    "from yellowbrick.features import JointPlotVisualizer\n",
    "\n",
    "from yellowbrick.features import Rank1D, Rank2D\n",
    "from yellowbrick.features import RadViz\n",
    "from sklearn.cluster import KMeans\n",
    "\n",
    "from yellowbrick.style import set_palette\n",
    "from yellowbrick.features.manifold import Manifold\n",
    "### matplotlib stuff ##\n",
    "\n",
    "from matplotlib.ticker import ScalarFormatter,AutoMinorLocator\n",
    "import matplotlib as mpl\n",
    "import matplotlib.pyplot as plt\n",
    "styleFiles = os.listdir(mpl.get_configdir())\n",
    "styleFileIdx = 2\n",
    "print(styleFiles[styleFileIdx])\n",
    "plt.style.use(os.path.join(mpl.get_configdir(), styleFiles[styleFileIdx]))"
   ]
  },
  {
   "cell_type": "code",
   "execution_count": 25,
   "metadata": {},
   "outputs": [
    {
     "name": "stdout",
     "output_type": "stream",
     "text": [
      "polynomial(degree=4,gamma=1.0,b=1.0)\n",
      "gaussian(sigma=2.0)\n",
      "linear\n"
     ]
    }
   ],
   "source": [
    "## kernel imports \n",
    "import traceback\n",
    "import warnings\n",
    "from kernelmethods import KernelMatrix\n",
    "import matplotlib.pyplot as plt\n",
    "# plt.style.use('classic')\n",
    "\n",
    "import numpy as np\n",
    "np.set_printoptions(precision=2)\n",
    "warnings.filterwarnings(\"ignore\")\n",
    "\n",
    "##\n",
    "from kernelmethods import PolyKernel, GaussianKernel, LinearKernel\n",
    "\n",
    "poly = PolyKernel(degree=4)\n",
    "rbf = GaussianKernel()\n",
    "linear = LinearKernel()\n",
    "# you can print/present then in many ways\n",
    "print(poly)\n",
    "print(rbf)\n",
    "print(linear)\n",
    "repr(rbf)\n",
    "import seaborn as sns\n",
    "\n"
   ]
  },
  {
   "cell_type": "code",
   "execution_count": 26,
   "metadata": {},
   "outputs": [],
   "source": [
    "def annotate_heatmap(im, data=None, valfmt=\"{x:.2f}\",\n",
    "                     textcolors=(\"black\", \"white\"),\n",
    "                     threshold=None, **textkw):\n",
    "    \"\"\"\n",
    "    A function to annotate a heatmap.\n",
    "\n",
    "    Parameters\n",
    "    ----------\n",
    "    im\n",
    "        The AxesImage to be labeled.\n",
    "    data\n",
    "        Data used to annotate.  If None, the image's data is used.  Optional.\n",
    "    valfmt\n",
    "        The format of the annotations inside the heatmap.  This should either\n",
    "        use the string format method, e.g. \"$ {x:.2f}\", or be a\n",
    "        `matplotlib.ticker.Formatter`.  Optional.\n",
    "    textcolors\n",
    "        A pair of colors.  The first is used for values below a threshold,\n",
    "        the second for those above.  Optional.\n",
    "    threshold\n",
    "        Value in data units according to which the colors from textcolors are\n",
    "        applied.  If None (the default) uses the middle of the colormap as\n",
    "        separation.  Optional.\n",
    "    **kwargs\n",
    "        All other arguments are forwarded to each call to `text` used to create\n",
    "        the text labels.\n",
    "    \"\"\"\n",
    "\n",
    "    if not isinstance(data, (list, np.ndarray)):\n",
    "        data = im.get_array()\n",
    "\n",
    "    # Normalize the threshold to the images color range.\n",
    "    if threshold is not None:\n",
    "        threshold = im.norm(threshold)\n",
    "    else:\n",
    "        threshold = im.norm(data.max())/2.\n",
    "\n",
    "    # Set default alignment to center, but allow it to be\n",
    "    # overwritten by textkw.\n",
    "    kw = dict(horizontalalignment=\"center\",\n",
    "              verticalalignment=\"center\")\n",
    "    kw.update(textkw)\n",
    "\n",
    "    # Get the formatter in case a string is supplied\n",
    "    if isinstance(valfmt, str):\n",
    "        valfmt = matplotlib.ticker.StrMethodFormatter(valfmt)\n",
    "\n",
    "    # Loop over the data and create a `Text` for each \"pixel\".\n",
    "    # Change the text's color depending on the data.\n",
    "    texts = []\n",
    "    for i in range(data.shape[0]):\n",
    "        for j in range(data.shape[1]):\n",
    "            kw.update(color=textcolors[int(im.norm(data[i, j]) > threshold)])\n",
    "            text = im.axes.text(j, i, valfmt(data[i, j], None), **kw)\n",
    "            texts.append(text)\n",
    "\n",
    "    return texts"
   ]
  },
  {
   "cell_type": "code",
   "execution_count": 15,
   "metadata": {},
   "outputs": [],
   "source": [
    "\n",
    "\n",
    "'''\n",
    "file to create all the various plots for each of the symbols for each of the days\n",
    "'''\n",
    "\n",
    "\n",
    "### functions ###\n",
    "def open_pickle_file(path, pickle_file):\n",
    "    file_loc = os.path.join(path, pickle_file)\n",
    "    pickle_to_file = pkl.load(open(file_loc, \"rb\"), encoding='iso-8859-1')\n",
    "    return pickle_to_file\n",
    "\n",
    "\n",
    "def featureCreation4Viz(idxKey, locDict):\n",
    "    ''' gives out clean features and labels for a given locDict and a idxKey\n",
    "        use idxKey to inser a key from the locDict keys\n",
    "        so for a particular day based on the key we get features and labels here\n",
    "        returns features, labels in one data frame\n",
    "    '''\n",
    "    keys = list(locDict.keys())\n",
    "    featuresIdxDirFileLoc = locDict[keys[idxKey]][0]\n",
    "    labelsIdxDirFileLoc = locDict[keys[idxKey]][1]\n",
    "    ''' read the features file'''\n",
    "    featuresTupleFile = pkl.load(open(featuresIdxDirFileLoc, \"rb\"), encoding='latin1')\n",
    "    dfFeatures = pd.concat([featuresTupleFile[0], featuresTupleFile[1], \\\n",
    "                            featuresTupleFile[2], featuresTupleFile[3]], axis=1, sort=False).fillna(0)\n",
    "    ''' read the labels file'''\n",
    "    labelsDf = pd.read_csv(labelsIdxDirFileLoc)\n",
    "    ''' pop the labels out'''\n",
    "    labels = labelsDf['label_PrMov__window_5__thres_arbitrary__0.1']\n",
    "    '''dataframe of Features and Labels - X and Y'''\n",
    "    dfXY = pd.concat([dfFeatures, labels], axis=1, sort='False').dropna()\n",
    "\n",
    "    return dfXY\n"
   ]
  },
  {
   "cell_type": "code",
   "execution_count": 16,
   "metadata": {},
   "outputs": [
    {
     "name": "stdout",
     "output_type": "stream",
     "text": [
      "you chose symbol: RDSb.L\n",
      "your features are here-in pickle format: /media/ak/DataOnly/SymbolFeatureDirectories/RDSb.L/MODEL_BASED\n",
      "you are picking Label Two\n",
      "polynomial(degree=4,gamma=0.5,b=0.5)\n",
      "gaussian(sigma=0.5)\n"
     ]
    },
    {
     "ename": "RuntimeError",
     "evalue": "Unable to fully compute the kernel matrix!",
     "output_type": "error",
     "traceback": [
      "\u001b[0;31m-------------------------------------------------------------\u001b[0m",
      "\u001b[0;31mKeyboardInterrupt\u001b[0m           Traceback (most recent call last)",
      "\u001b[0;32m~/Envs/resrPyth3/lib/python3.6/site-packages/kernelmethods-0.1+178.g44727f2.dirty-py3.6.egg/kernelmethods/base.py\u001b[0m in \u001b[0;36m_populate_fully\u001b[0;34m(self, dense_fmt, fill_lower_tri)\u001b[0m\n\u001b[1;32m    724\u001b[0m                         \u001b[0mself\u001b[0m\u001b[0;34m.\u001b[0m\u001b[0m_full_km\u001b[0m\u001b[0;34m[\u001b[0m\u001b[0mix_one\u001b[0m\u001b[0;34m,\u001b[0m \u001b[0mix_two\u001b[0m\u001b[0;34m]\u001b[0m \u001b[0;34m=\u001b[0m\u001b[0;31m \u001b[0m\u001b[0;31m\\\u001b[0m\u001b[0;34m\u001b[0m\u001b[0;34m\u001b[0m\u001b[0m\n\u001b[0;32m--> 725\u001b[0;31m                             \u001b[0mself\u001b[0m\u001b[0;34m.\u001b[0m\u001b[0m_eval_kernel\u001b[0m\u001b[0;34m(\u001b[0m\u001b[0mix_one\u001b[0m\u001b[0;34m,\u001b[0m \u001b[0mix_two\u001b[0m\u001b[0;34m)\u001b[0m\u001b[0;34m\u001b[0m\u001b[0;34m\u001b[0m\u001b[0m\n\u001b[0m\u001b[1;32m    726\u001b[0m             \u001b[0;32mexcept\u001b[0m\u001b[0;34m:\u001b[0m\u001b[0;34m\u001b[0m\u001b[0;34m\u001b[0m\u001b[0m\n",
      "\u001b[0;32m~/Envs/resrPyth3/lib/python3.6/site-packages/kernelmethods-0.1+178.g44727f2.dirty-py3.6.egg/kernelmethods/base.py\u001b[0m in \u001b[0;36m_eval_kernel\u001b[0;34m(self, idx_one, idx_two)\u001b[0m\n\u001b[1;32m    575\u001b[0m                 self.kernel(self._sample[idx_one, :],  # from 1st sample\n\u001b[0;32m--> 576\u001b[0;31m                             self._sample_two[idx_two, :])  # from 2nd sample\n\u001b[0m\u001b[1;32m    577\u001b[0m             \u001b[0;31m# second refers to the first in the default case!\u001b[0m\u001b[0;34m\u001b[0m\u001b[0;34m\u001b[0m\u001b[0;34m\u001b[0m\u001b[0m\n",
      "\u001b[0;32m~/Envs/resrPyth3/lib/python3.6/site-packages/kernelmethods-0.1+178.g44727f2.dirty-py3.6.egg/kernelmethods/numeric_kernels.py\u001b[0m in \u001b[0;36m__call__\u001b[0;34m(self, x, y)\u001b[0m\n\u001b[1;32m     69\u001b[0m \u001b[0;34m\u001b[0m\u001b[0m\n\u001b[0;32m---> 70\u001b[0;31m         \u001b[0;32mreturn\u001b[0m \u001b[0;34m(\u001b[0m\u001b[0mself\u001b[0m\u001b[0;34m.\u001b[0m\u001b[0mb\u001b[0m \u001b[0;34m+\u001b[0m \u001b[0mself\u001b[0m\u001b[0;34m.\u001b[0m\u001b[0mgamma\u001b[0m \u001b[0;34m*\u001b[0m \u001b[0mnp\u001b[0m\u001b[0;34m.\u001b[0m\u001b[0mdot\u001b[0m\u001b[0;34m(\u001b[0m\u001b[0mx\u001b[0m\u001b[0;34m,\u001b[0m \u001b[0my\u001b[0m\u001b[0;34m)\u001b[0m\u001b[0;34m)\u001b[0m \u001b[0;34m**\u001b[0m \u001b[0mself\u001b[0m\u001b[0;34m.\u001b[0m\u001b[0mdegree\u001b[0m\u001b[0;34m\u001b[0m\u001b[0;34m\u001b[0m\u001b[0m\n\u001b[0m\u001b[1;32m     71\u001b[0m \u001b[0;34m\u001b[0m\u001b[0m\n",
      "\u001b[0;32m<__array_function__ internals>\u001b[0m in \u001b[0;36mdot\u001b[0;34m(*args, **kwargs)\u001b[0m\n",
      "\u001b[0;31mKeyboardInterrupt\u001b[0m: ",
      "\nDuring handling of the above exception, another exception occurred:\n",
      "\u001b[0;31mRuntimeError\u001b[0m                Traceback (most recent call last)",
      "\u001b[0;32m<ipython-input-16-27a1afd31fbe>\u001b[0m in \u001b[0;36m<module>\u001b[0;34m\u001b[0m\n\u001b[1;32m     84\u001b[0m             \u001b[0mkm_poly\u001b[0m\u001b[0;34m.\u001b[0m\u001b[0mattach_to\u001b[0m\u001b[0;34m(\u001b[0m\u001b[0mX_array\u001b[0m\u001b[0;34m)\u001b[0m\u001b[0;34m\u001b[0m\u001b[0;34m\u001b[0m\u001b[0m\n\u001b[1;32m     85\u001b[0m \u001b[0;34m\u001b[0m\u001b[0m\n\u001b[0;32m---> 86\u001b[0;31m             \u001b[0msns_kernel_poly\u001b[0m \u001b[0;34m=\u001b[0m \u001b[0msns\u001b[0m\u001b[0;34m.\u001b[0m\u001b[0mheatmap\u001b[0m\u001b[0;34m(\u001b[0m\u001b[0mkm_poly\u001b[0m\u001b[0;34m.\u001b[0m\u001b[0mfull\u001b[0m\u001b[0;34m,\u001b[0m\u001b[0mcmap\u001b[0m\u001b[0;34m=\u001b[0m\u001b[0;34m\"RdYlGn\"\u001b[0m\u001b[0;34m,\u001b[0m\u001b[0mcbar\u001b[0m\u001b[0;34m=\u001b[0m\u001b[0;32mFalse\u001b[0m\u001b[0;34m)\u001b[0m\u001b[0;34m\u001b[0m\u001b[0;34m\u001b[0m\u001b[0m\n\u001b[0m\u001b[1;32m     87\u001b[0m             \u001b[0msns_kernel_poly\u001b[0m\u001b[0;34m.\u001b[0m\u001b[0mtick_params\u001b[0m\u001b[0;34m(\u001b[0m\u001b[0mleft\u001b[0m\u001b[0;34m=\u001b[0m\u001b[0;32mFalse\u001b[0m\u001b[0;34m,\u001b[0m \u001b[0mbottom\u001b[0m\u001b[0;34m=\u001b[0m\u001b[0;32mFalse\u001b[0m\u001b[0;34m)\u001b[0m\u001b[0;34m\u001b[0m\u001b[0;34m\u001b[0m\u001b[0m\n\u001b[1;32m     88\u001b[0m \u001b[0;34m\u001b[0m\u001b[0m\n",
      "\u001b[0;32m~/Envs/resrPyth3/lib/python3.6/site-packages/kernelmethods-0.1+178.g44727f2.dirty-py3.6.egg/kernelmethods/base.py\u001b[0m in \u001b[0;36mfull\u001b[0;34m(self)\u001b[0m\n\u001b[1;32m    411\u001b[0m \u001b[0;34m\u001b[0m\u001b[0m\n\u001b[1;32m    412\u001b[0m         \u001b[0;32mif\u001b[0m \u001b[0;32mnot\u001b[0m \u001b[0mself\u001b[0m\u001b[0;34m.\u001b[0m\u001b[0m_populated_fully\u001b[0m\u001b[0;34m:\u001b[0m\u001b[0;34m\u001b[0m\u001b[0;34m\u001b[0m\u001b[0m\n\u001b[0;32m--> 413\u001b[0;31m             \u001b[0mself\u001b[0m\u001b[0;34m.\u001b[0m\u001b[0m_populate_fully\u001b[0m\u001b[0;34m(\u001b[0m\u001b[0mfill_lower_tri\u001b[0m\u001b[0;34m=\u001b[0m\u001b[0;32mTrue\u001b[0m\u001b[0;34m,\u001b[0m \u001b[0mdense_fmt\u001b[0m\u001b[0;34m=\u001b[0m\u001b[0;32mTrue\u001b[0m\u001b[0;34m)\u001b[0m\u001b[0;34m\u001b[0m\u001b[0;34m\u001b[0m\u001b[0m\n\u001b[0m\u001b[1;32m    414\u001b[0m \u001b[0;34m\u001b[0m\u001b[0m\n\u001b[1;32m    415\u001b[0m         \u001b[0;32mif\u001b[0m \u001b[0mself\u001b[0m\u001b[0;34m.\u001b[0m\u001b[0m_keep_normed\u001b[0m\u001b[0;34m:\u001b[0m\u001b[0;34m\u001b[0m\u001b[0;34m\u001b[0m\u001b[0m\n",
      "\u001b[0;32m~/Envs/resrPyth3/lib/python3.6/site-packages/kernelmethods-0.1+178.g44727f2.dirty-py3.6.egg/kernelmethods/base.py\u001b[0m in \u001b[0;36m_populate_fully\u001b[0;34m(self, dense_fmt, fill_lower_tri)\u001b[0m\n\u001b[1;32m    725\u001b[0m                             \u001b[0mself\u001b[0m\u001b[0;34m.\u001b[0m\u001b[0m_eval_kernel\u001b[0m\u001b[0;34m(\u001b[0m\u001b[0mix_one\u001b[0m\u001b[0;34m,\u001b[0m \u001b[0mix_two\u001b[0m\u001b[0;34m)\u001b[0m\u001b[0;34m\u001b[0m\u001b[0;34m\u001b[0m\u001b[0m\n\u001b[1;32m    726\u001b[0m             \u001b[0;32mexcept\u001b[0m\u001b[0;34m:\u001b[0m\u001b[0;34m\u001b[0m\u001b[0;34m\u001b[0m\u001b[0m\n\u001b[0;32m--> 727\u001b[0;31m                 \u001b[0;32mraise\u001b[0m \u001b[0mRuntimeError\u001b[0m\u001b[0;34m(\u001b[0m\u001b[0;34m'Unable to fully compute the kernel matrix!'\u001b[0m\u001b[0;34m)\u001b[0m\u001b[0;34m\u001b[0m\u001b[0;34m\u001b[0m\u001b[0m\n\u001b[0m\u001b[1;32m    728\u001b[0m             \u001b[0;32melse\u001b[0m\u001b[0;34m:\u001b[0m\u001b[0;34m\u001b[0m\u001b[0;34m\u001b[0m\u001b[0m\n\u001b[1;32m    729\u001b[0m                 \u001b[0mself\u001b[0m\u001b[0;34m.\u001b[0m\u001b[0m_populated_fully\u001b[0m \u001b[0;34m=\u001b[0m \u001b[0;32mTrue\u001b[0m\u001b[0;34m\u001b[0m\u001b[0;34m\u001b[0m\u001b[0m\n",
      "\u001b[0;31mRuntimeError\u001b[0m: Unable to fully compute the kernel matrix!"
     ]
    }
   ],
   "source": [
    "plt.style.use('classic')\n",
    "\n",
    "if __name__ == '__main__':\n",
    "    # locations ##\n",
    "    figuresDestination ='/home/ak/Documents/Research/Papers/figures/'\n",
    "    hardDriveLoc = '/media/ak/'\n",
    "    dataOnlyFolder = '/media/ak/DataOnly'  # external date only drive\n",
    "    symbolFeaturesDirectories  = os.path.join(dataOnlyFolder, 'SymbolFeatureDirectories')\n",
    "    ExperimentCommonLocs = os.path.join(dataOnlyFolder,'ExperimentCommonLocs')\n",
    "\n",
    "    labelsLocations = {'One': os.path.join(ExperimentCommonLocs, 'LabelsAlternateOne'),\n",
    "                       'Two': os.path.join(ExperimentCommonLocs, 'LabelsAlternateTwo'),\n",
    "                       'Three': os.path.join(ExperimentCommonLocs, 'LabelsAlternateThree'),\n",
    "                       'Four': os.path.join(ExperimentCommonLocs, 'LabelsAlternateFour'),\n",
    "                       'File':os.path.join(ExperimentCommonLocs, 'LabelsAlternateFive'),\n",
    "                       'Six': os.path.join(ExperimentCommonLocs, 'LabelsAlternateSix')}\n",
    "\n",
    "    # symbols\n",
    "\n",
    "    symbols = sorted(os.listdir(symbolFeaturesDirectories))\n",
    "\n",
    "    # pick a symbol\n",
    "\n",
    "\n",
    "    symbolIdx = 27\n",
    "        \n",
    "    symbolSpecificFeaturesDirectors = os.path.join(symbolFeaturesDirectories, sorted(symbols)[symbolIdx])\n",
    "    print('you chose symbol:', sorted(symbols)[symbolIdx])\n",
    "    symbolFeaturesLocation = \"/\".join((symbolSpecificFeaturesDirectors, 'MODEL_BASED'))  # where all the HMM output is\n",
    "    print('your features are here-in pickle format:',symbolFeaturesLocation)\n",
    "    # and a label Idx\n",
    "    labelsIdx = 'Two'\n",
    "    print('you are picking Label', labelsIdx)\n",
    "    LabelsFilesPath = os.path.join(labelsLocations[str(labelsIdx)], sorted(symbols)[symbolIdx])\n",
    "    LabelsFiles = os.listdir(LabelsFilesPath)\n",
    "\n",
    "    dates = os.listdir(symbolFeaturesLocation)\n",
    "    \n",
    "    dateIdx = 2\n",
    "\n",
    "\n",
    "    for dateIdx in range(2, 32):\n",
    "        dateSpecificDirectory = os.path.join(symbolFeaturesLocation, dates[dateIdx])\n",
    "        dateSpecificFiles = sorted(os.listdir(dateSpecificDirectory))\n",
    "\n",
    "        for idx in range(1, 32):\n",
    "\n",
    "            specificFile = os.path.join(dateSpecificDirectory, dateSpecificFiles[idx])\n",
    "\n",
    "            featuresTupleFile  = open_pickle_file(dateSpecificDirectory, dateSpecificFiles[idx])\n",
    "\n",
    "            label_date = specificFile.split(\"_\")[6]\n",
    "\n",
    "            labelDateFile = os.path.join(LabelsFilesPath, str(label_date) +'.csv')\n",
    "\n",
    "            if os.path.isfile(labelDateFile):\n",
    "                df = pd.read_csv(labelDateFile)\n",
    "            else:\n",
    "                print('not a valid dates file')\n",
    "\n",
    "            labelName = str(df.columns[df.columns.str.contains(pat='label')].values[0])\n",
    "            labels = df[df.columns[df.columns.str.contains(pat='label')]].iloc[:, 0]\n",
    "\n",
    "            dfFeatures = pd.concat([featuresTupleFile[0], featuresTupleFile[1], \\\n",
    "                                    featuresTupleFile[2], featuresTupleFile[3]], axis=1, sort=False).fillna(0)\n",
    "\n",
    "\n",
    "            features= list(dfFeatures.columns.values)\n",
    "            X = pd.get_dummies(dfFeatures)\n",
    "            # Convert unique classes (strings) into integers\n",
    "\n",
    "            X_array = np.asarray(X)\n",
    "\n",
    "            poly = PolyKernel(degree=4, gamma =0.5, b =0.5)\n",
    "            rbf = GaussianKernel(sigma=0.5)\n",
    "            # you can print/present then in many ways\n",
    "            print(poly)\n",
    "            print(rbf)\n",
    "            repr(rbf)\n",
    "            km_poly = KernelMatrix(poly)\n",
    "            km_rbf = KernelMatrix(rbf)\n",
    "            km_linear = KernelMatrix(linear)\n",
    "\n",
    "            km_rbf.attach_to(X_array)\n",
    "            km_linear.attach_to(X_array)\n",
    "            km_poly.attach_to(X_array)\n",
    "            \n",
    "            sns_kernel_poly = sns.heatmap(km_poly.full,cmap=\"RdYlGn\",cbar=False)\n",
    "            sns_kernel_poly.tick_params(left=False, bottom=False)\n",
    "            \n",
    "            \n",
    "            title ='PolyKernel_'+str(sorted(symbols)[symbolIdx])\n",
    "            fig = sns_kernel_poly.get_figure()\n",
    "            \n",
    "            fig.savefig('/home/ak/Documents/Research/Papers/figures/' + str(title)+'_'+str(dateIdx)+'_'+str(idx) + '.png', dpi=150)\n",
    "            x= (km_poly.frob_norm).round(decimals=2)\n",
    "            fig = plt.figure()\n",
    "            \n",
    "            sns_kernel_linear = sns.heatmap(km_linear.full,cmap=\"RdYlGn\",cbar=False)\n",
    "            sns_kernel_linear.tick_params(left=False, bottom=False)\n",
    "            title ='PolyKernel_'+str(sorted(symbols)[symbolIdx])\n",
    "            fig = sns_kernel_linear.get_figure()\n",
    "            \n",
    "            fig.savefig('/home/ak/Documents/Research/Papers/figures/' + str(title)+'_'+str(dateIdx)+'_'+str(idx) + '.png', dpi=150)\n",
    "            x= (km_poly.frob_norm).round(decimals=2)\n",
    "            fig = plt.figure()            \n",
    "            \n",
    "            \n",
    "            plt.matshow(km_linear.full, cmap=\"RdYlGn\", interpolation='none', vmin=0, vmax=1, label = ['FrobNorm: '+str(x)] )\n",
    "            plt.text(3, 3, 'FrobNorm: '+str(x))\n",
    "\n",
    "            \n",
    "            plt_title = 'polyLinear_mplt'+str(sorted(symbols)[symbolIdx]+'_'+str(dateIdx)+'_'+str(idx))\n",
    "            plt.savefig('/home/ak/Documents/Research/Papers/figures/' + str(plt_title) + '.png', dpi=150)\n",
    "            \n",
    "                \n"
   ]
  },
  {
   "cell_type": "code",
   "execution_count": 6,
   "metadata": {},
   "outputs": [],
   "source": [
    "km = KernelMatrix(rbf)\n",
    "km_linear = KernelMatrix(linear)\n",
    "km_poly = KernelMatrix(poly)"
   ]
  },
  {
   "cell_type": "code",
   "execution_count": 7,
   "metadata": {},
   "outputs": [
    {
     "ename": "AttributeError",
     "evalue": "'KernelMatrix' object has no attribute 'shape'",
     "output_type": "error",
     "traceback": [
      "\u001b[0;31m-------------------------------------------------------------\u001b[0m",
      "\u001b[0;31mAttributeError\u001b[0m              Traceback (most recent call last)",
      "\u001b[0;32m<ipython-input-7-0f5d7927d568>\u001b[0m in \u001b[0;36m<module>\u001b[0;34m\u001b[0m\n\u001b[1;32m      1\u001b[0m \u001b[0mpd\u001b[0m\u001b[0;34m.\u001b[0m\u001b[0moptions\u001b[0m\u001b[0;34m.\u001b[0m\u001b[0mdisplay\u001b[0m\u001b[0;34m.\u001b[0m\u001b[0mfloat_format\u001b[0m \u001b[0;34m=\u001b[0m \u001b[0;34m'{:,.2f}'\u001b[0m\u001b[0;34m.\u001b[0m\u001b[0mformat\u001b[0m\u001b[0;34m\u001b[0m\u001b[0;34m\u001b[0m\u001b[0m\n\u001b[1;32m      2\u001b[0m \u001b[0mnp\u001b[0m\u001b[0;34m.\u001b[0m\u001b[0mset_printoptions\u001b[0m\u001b[0;34m(\u001b[0m\u001b[0mprecision\u001b[0m\u001b[0;34m=\u001b[0m\u001b[0;36m2\u001b[0m\u001b[0;34m)\u001b[0m\u001b[0;34m\u001b[0m\u001b[0;34m\u001b[0m\u001b[0m\n\u001b[0;32m----> 3\u001b[0;31m \u001b[0mx\u001b[0m \u001b[0;34m=\u001b[0m\u001b[0mnp\u001b[0m\u001b[0;34m.\u001b[0m\u001b[0mround\u001b[0m\u001b[0;34m(\u001b[0m\u001b[0;34m(\u001b[0m\u001b[0mkm_poly\u001b[0m\u001b[0;34m.\u001b[0m\u001b[0mfrob_norm\u001b[0m\u001b[0;34m)\u001b[0m\u001b[0;34m)\u001b[0m\u001b[0;34m\u001b[0m\u001b[0;34m\u001b[0m\u001b[0m\n\u001b[0m\u001b[1;32m      4\u001b[0m \u001b[0mprint\u001b[0m\u001b[0;34m(\u001b[0m\u001b[0mnp\u001b[0m\u001b[0;34m.\u001b[0m\u001b[0mround\u001b[0m\u001b[0;34m(\u001b[0m\u001b[0mx\u001b[0m\u001b[0;34m)\u001b[0m\u001b[0;34m)\u001b[0m\u001b[0;34m\u001b[0m\u001b[0;34m\u001b[0m\u001b[0m\n",
      "\u001b[0;32m~/Envs/resrPyth3/lib/python3.6/site-packages/kernelmethods-0.1+178.g44727f2.dirty-py3.6.egg/kernelmethods/base.py\u001b[0m in \u001b[0;36mfrob_norm\u001b[0;34m(self)\u001b[0m\n\u001b[1;32m    526\u001b[0m \u001b[0;34m\u001b[0m\u001b[0m\n\u001b[1;32m    527\u001b[0m         \u001b[0;32mif\u001b[0m \u001b[0;32mnot\u001b[0m \u001b[0mself\u001b[0m\u001b[0;34m.\u001b[0m\u001b[0m_populated_fully\u001b[0m\u001b[0;34m:\u001b[0m\u001b[0;34m\u001b[0m\u001b[0;34m\u001b[0m\u001b[0m\n\u001b[0;32m--> 528\u001b[0;31m             \u001b[0mself\u001b[0m\u001b[0;34m.\u001b[0m\u001b[0m_populate_fully\u001b[0m\u001b[0;34m(\u001b[0m\u001b[0mdense_fmt\u001b[0m\u001b[0;34m=\u001b[0m\u001b[0;32mTrue\u001b[0m\u001b[0;34m,\u001b[0m \u001b[0mfill_lower_tri\u001b[0m\u001b[0;34m=\u001b[0m\u001b[0;32mTrue\u001b[0m\u001b[0;34m)\u001b[0m\u001b[0;34m\u001b[0m\u001b[0;34m\u001b[0m\u001b[0m\n\u001b[0m\u001b[1;32m    529\u001b[0m \u001b[0;34m\u001b[0m\u001b[0m\n\u001b[1;32m    530\u001b[0m         \u001b[0;32mif\u001b[0m \u001b[0;32mnot\u001b[0m \u001b[0mhasattr\u001b[0m\u001b[0;34m(\u001b[0m\u001b[0mself\u001b[0m\u001b[0;34m,\u001b[0m \u001b[0;34m'_frob_norm'\u001b[0m\u001b[0;34m)\u001b[0m\u001b[0;34m:\u001b[0m\u001b[0;34m\u001b[0m\u001b[0;34m\u001b[0m\u001b[0m\n",
      "\u001b[0;32m~/Envs/resrPyth3/lib/python3.6/site-packages/kernelmethods-0.1+178.g44727f2.dirty-py3.6.egg/kernelmethods/base.py\u001b[0m in \u001b[0;36m_populate_fully\u001b[0;34m(self, dense_fmt, fill_lower_tri)\u001b[0m\n\u001b[1;32m    711\u001b[0m             \u001b[0;32melse\u001b[0m\u001b[0;34m:\u001b[0m\u001b[0;34m\u001b[0m\u001b[0;34m\u001b[0m\u001b[0m\n\u001b[1;32m    712\u001b[0m                 \u001b[0;31m# filling with nan to avoid unexpected usage!\u001b[0m\u001b[0;34m\u001b[0m\u001b[0;34m\u001b[0m\u001b[0;34m\u001b[0m\u001b[0m\n\u001b[0;32m--> 713\u001b[0;31m                 self._full_km = np.full(self.shape, fill_value=np.nan,\n\u001b[0m\u001b[1;32m    714\u001b[0m                                         dtype=cfg.km_dtype)\n\u001b[1;32m    715\u001b[0m \u001b[0;34m\u001b[0m\u001b[0m\n",
      "\u001b[0;31mAttributeError\u001b[0m: 'KernelMatrix' object has no attribute 'shape'"
     ]
    }
   ],
   "source": [
    "pd.options.display.float_format = '{:,.2f}'.format\n",
    "np.set_printoptions(precision=2)\n",
    "x =np.round((km_poly.frob_norm))\n",
    "print(np.round(x))"
   ]
  },
  {
   "cell_type": "code",
   "execution_count": 8,
   "metadata": {},
   "outputs": [],
   "source": [
    "X_array = np.asarray(X)\n",
    "km.attach_to(X_array)\n",
    "km_linear.attach_to(X_array)\n",
    "km_poly.attach_to(X_array)"
   ]
  },
  {
   "cell_type": "code",
   "execution_count": 9,
   "metadata": {},
   "outputs": [],
   "source": [
    "X_array = np.asarray(X)"
   ]
  },
  {
   "cell_type": "code",
   "execution_count": 10,
   "metadata": {},
   "outputs": [
    {
     "ename": "KMNormError",
     "evalue": "Some diagnoal entries in KM are [close to] zero -  this results in infinite or Nan values during Cosine normalization of KM!",
     "output_type": "error",
     "traceback": [
      "\u001b[0;31m-------------------------------------------------------------\u001b[0m",
      "\u001b[0;31mKMNormError\u001b[0m                 Traceback (most recent call last)",
      "\u001b[0;32m<ipython-input-10-82d314c1335b>\u001b[0m in \u001b[0;36m<module>\u001b[0;34m\u001b[0m\n\u001b[0;32m----> 1\u001b[0;31m \u001b[0mkm_linear\u001b[0m\u001b[0;34m.\u001b[0m\u001b[0mfull\u001b[0m\u001b[0;34m\u001b[0m\u001b[0;34m\u001b[0m\u001b[0m\n\u001b[0m",
      "\u001b[0;32m~/Envs/resrPyth3/lib/python3.6/site-packages/kernelmethods-0.1+178.g44727f2.dirty-py3.6.egg/kernelmethods/base.py\u001b[0m in \u001b[0;36mfull\u001b[0;34m(self)\u001b[0m\n\u001b[1;32m    415\u001b[0m         \u001b[0;32mif\u001b[0m \u001b[0mself\u001b[0m\u001b[0;34m.\u001b[0m\u001b[0m_keep_normed\u001b[0m\u001b[0;34m:\u001b[0m\u001b[0;34m\u001b[0m\u001b[0;34m\u001b[0m\u001b[0m\n\u001b[1;32m    416\u001b[0m             \u001b[0;32mif\u001b[0m \u001b[0;32mnot\u001b[0m \u001b[0mself\u001b[0m\u001b[0;34m.\u001b[0m\u001b[0m_is_normed\u001b[0m\u001b[0;34m:\u001b[0m\u001b[0;34m\u001b[0m\u001b[0;34m\u001b[0m\u001b[0m\n\u001b[0;32m--> 417\u001b[0;31m                 \u001b[0mself\u001b[0m\u001b[0;34m.\u001b[0m\u001b[0mnormalize\u001b[0m\u001b[0;34m(\u001b[0m\u001b[0;34m)\u001b[0m\u001b[0;34m\u001b[0m\u001b[0;34m\u001b[0m\u001b[0m\n\u001b[0m\u001b[1;32m    418\u001b[0m             \u001b[0;32mreturn\u001b[0m \u001b[0mself\u001b[0m\u001b[0;34m.\u001b[0m\u001b[0m_normed_km\u001b[0m\u001b[0;34m\u001b[0m\u001b[0;34m\u001b[0m\u001b[0m\n\u001b[1;32m    419\u001b[0m         \u001b[0;32melse\u001b[0m\u001b[0;34m:\u001b[0m\u001b[0;34m\u001b[0m\u001b[0;34m\u001b[0m\u001b[0m\n",
      "\u001b[0;32m~/Envs/resrPyth3/lib/python3.6/site-packages/kernelmethods-0.1+178.g44727f2.dirty-py3.6.egg/kernelmethods/base.py\u001b[0m in \u001b[0;36mnormalize\u001b[0;34m(self, method)\u001b[0m\n\u001b[1;32m    484\u001b[0m         \u001b[0;32mif\u001b[0m \u001b[0;32mnot\u001b[0m \u001b[0mself\u001b[0m\u001b[0;34m.\u001b[0m\u001b[0m_is_normed\u001b[0m\u001b[0;34m:\u001b[0m\u001b[0;34m\u001b[0m\u001b[0;34m\u001b[0m\u001b[0m\n\u001b[1;32m    485\u001b[0m             \u001b[0;32mif\u001b[0m \u001b[0;32mnot\u001b[0m \u001b[0mself\u001b[0m\u001b[0;34m.\u001b[0m\u001b[0m_two_samples\u001b[0m\u001b[0;34m:\u001b[0m\u001b[0;34m\u001b[0m\u001b[0;34m\u001b[0m\u001b[0m\n\u001b[0;32m--> 486\u001b[0;31m                 \u001b[0mself\u001b[0m\u001b[0;34m.\u001b[0m\u001b[0m_normed_km\u001b[0m \u001b[0;34m=\u001b[0m \u001b[0mnormalize_km\u001b[0m\u001b[0;34m(\u001b[0m\u001b[0mself\u001b[0m\u001b[0;34m.\u001b[0m\u001b[0m_full_km\u001b[0m\u001b[0;34m,\u001b[0m \u001b[0mmethod\u001b[0m\u001b[0;34m=\u001b[0m\u001b[0mmethod\u001b[0m\u001b[0;34m)\u001b[0m\u001b[0;34m\u001b[0m\u001b[0;34m\u001b[0m\u001b[0m\n\u001b[0m\u001b[1;32m    487\u001b[0m             \u001b[0;32melse\u001b[0m\u001b[0;34m:\u001b[0m\u001b[0;34m\u001b[0m\u001b[0;34m\u001b[0m\u001b[0m\n\u001b[1;32m    488\u001b[0m                 \u001b[0;31m# KM_XX and KM_YY must NOT be normalized for correct norm of K_XY\u001b[0m\u001b[0;34m\u001b[0m\u001b[0;34m\u001b[0m\u001b[0;34m\u001b[0m\u001b[0m\n",
      "\u001b[0;32m~/Envs/resrPyth3/lib/python3.6/site-packages/kernelmethods-0.1+178.g44727f2.dirty-py3.6.egg/kernelmethods/operations.py\u001b[0m in \u001b[0;36mnormalize_km\u001b[0;34m(KM, method)\u001b[0m\n\u001b[1;32m    179\u001b[0m             \u001b[0;32mif\u001b[0m \u001b[0mnp\u001b[0m\u001b[0;34m.\u001b[0m\u001b[0misclose\u001b[0m\u001b[0;34m(\u001b[0m\u001b[0mkm_diag\u001b[0m\u001b[0;34m,\u001b[0m \u001b[0;36m0.0\u001b[0m\u001b[0;34m)\u001b[0m\u001b[0;34m.\u001b[0m\u001b[0many\u001b[0m\u001b[0;34m(\u001b[0m\u001b[0;34m)\u001b[0m\u001b[0;34m:\u001b[0m\u001b[0;34m\u001b[0m\u001b[0;34m\u001b[0m\u001b[0m\n\u001b[1;32m    180\u001b[0m                 raise KMNormError(\n\u001b[0;32m--> 181\u001b[0;31m                     \u001b[0;34m'Some diagnoal entries in KM are [close to] zero - '\u001b[0m\u001b[0;34m\u001b[0m\u001b[0;34m\u001b[0m\u001b[0m\n\u001b[0m\u001b[1;32m    182\u001b[0m                     \u001b[0;34m' this results in infinite or Nan values '\u001b[0m\u001b[0;34m\u001b[0m\u001b[0;34m\u001b[0m\u001b[0m\n\u001b[1;32m    183\u001b[0m                     'during Cosine normalization of KM!')\n",
      "\u001b[0;31mKMNormError\u001b[0m: Some diagnoal entries in KM are [close to] zero -  this results in infinite or Nan values during Cosine normalization of KM!"
     ]
    }
   ],
   "source": [
    "km_linear.full"
   ]
  },
  {
   "cell_type": "code",
   "execution_count": 17,
   "metadata": {},
   "outputs": [
    {
     "name": "stdout",
     "output_type": "stream",
     "text": [
      "polynomial(degree=11,gamma=1.0,b=1.0)\n",
      "gaussian(sigma=0.5)\n"
     ]
    },
    {
     "data": {
      "text/plain": [
       "'gaussian(sigma=0.5)'"
      ]
     },
     "execution_count": 17,
     "metadata": {},
     "output_type": "execute_result"
    }
   ],
   "source": [
    "from kernelmethods import PolyKernel, GaussianKernel, LinearKernel\n",
    "\n",
    "poly = PolyKernel(degree=11)\n",
    "rbf = GaussianKernel(sigma=0.5)\n",
    "# you can print/present then in many ways\n",
    "print(poly)\n",
    "print(rbf)\n",
    "repr(rbf)"
   ]
  },
  {
   "cell_type": "code",
   "execution_count": 18,
   "metadata": {},
   "outputs": [],
   "source": [
    "km = KernelMatrix(poly)\n",
    "km_rbf = KernelMatrix(rbf)\n",
    "km_linear = KernelMatrix(linear)"
   ]
  },
  {
   "cell_type": "code",
   "execution_count": 19,
   "metadata": {},
   "outputs": [],
   "source": [
    "km.attach_to(X_array)\n",
    "km_rbf.attach_to(X_array)\n",
    "km_linear.attach_to(X_array)\n"
   ]
  },
  {
   "cell_type": "code",
   "execution_count": 20,
   "metadata": {},
   "outputs": [
    {
     "data": {
      "text/plain": [
       "array([[1., 1., 1., ..., 1., 1., 1.],\n",
       "       [1., 1., 1., ..., 1., 1., 1.],\n",
       "       [1., 1., 1., ..., 1., 1., 1.],\n",
       "       ...,\n",
       "       [1., 1., 1., ..., 1., 1., 1.],\n",
       "       [1., 1., 1., ..., 1., 1., 1.],\n",
       "       [1., 1., 1., ..., 1., 1., 1.]])"
      ]
     },
     "execution_count": 20,
     "metadata": {},
     "output_type": "execute_result"
    }
   ],
   "source": [
    "km.full"
   ]
  },
  {
   "cell_type": "code",
   "execution_count": null,
   "metadata": {},
   "outputs": [],
   "source": [
    "print('number of elements: {}, \\n\\tsamples: {} '.format(km.size, km.num_samples))\n",
    "print('shape of KM: ', km.shape)"
   ]
  },
  {
   "cell_type": "code",
   "execution_count": null,
   "metadata": {},
   "outputs": [],
   "source": [
    "\n"
   ]
  },
  {
   "cell_type": "code",
   "execution_count": 21,
   "metadata": {},
   "outputs": [
    {
     "data": {
      "text/plain": [
       "<matplotlib.image.AxesImage at 0x7f78e40c6f60>"
      ]
     },
     "execution_count": 21,
     "metadata": {},
     "output_type": "execute_result"
    },
    {
     "data": {
      "image/png": "[encoded data removed]",
      "text/plain": [
       "<Figure size 480x480 with 1 Axes>"
      ]
     },
     "metadata": {},
     "output_type": "display_data"
    }
   ],
   "source": [
    "plt.matshow(km_rbf.full, cmap=plt.cm.Spectral_r, interpolation='none', vmin=0, vmax=1)"
   ]
  },
  {
   "cell_type": "code",
   "execution_count": 23,
   "metadata": {},
   "outputs": [
    {
     "ename": "ValueError",
     "evalue": "zero-size array to reduction operation minimum which has no identity",
     "output_type": "error",
     "traceback": [
      "\u001b[0;31m-------------------------------------------------------------\u001b[0m",
      "\u001b[0;31mValueError\u001b[0m                  Traceback (most recent call last)",
      "\u001b[0;32m<ipython-input-23-9e122a6980aa>\u001b[0m in \u001b[0;36m<module>\u001b[0;34m\u001b[0m\n\u001b[1;32m      1\u001b[0m \u001b[0;32mimport\u001b[0m \u001b[0mseaborn\u001b[0m \u001b[0;32mas\u001b[0m \u001b[0msns\u001b[0m\u001b[0;34m\u001b[0m\u001b[0;34m\u001b[0m\u001b[0m\n\u001b[0;32m----> 2\u001b[0;31m \u001b[0msns\u001b[0m\u001b[0;34m.\u001b[0m\u001b[0mheatmap\u001b[0m\u001b[0;34m(\u001b[0m\u001b[0mkm_poly\u001b[0m\u001b[0;34m.\u001b[0m\u001b[0mfull\u001b[0m\u001b[0;34m,\u001b[0m\u001b[0mcmap\u001b[0m\u001b[0;34m=\u001b[0m\u001b[0;34m\"RdYlGn\"\u001b[0m\u001b[0;34m,\u001b[0m \u001b[0mxticklabels\u001b[0m\u001b[0;34m=\u001b[0m\u001b[0;36m90\u001b[0m\u001b[0;34m,\u001b[0m \u001b[0myticklabels\u001b[0m\u001b[0;34m=\u001b[0m\u001b[0;36m90\u001b[0m\u001b[0;34m)\u001b[0m\u001b[0;34m\u001b[0m\u001b[0;34m\u001b[0m\u001b[0m\n\u001b[0m",
      "\u001b[0;32m~/Envs/resrPyth3/lib/python3.6/site-packages/seaborn/matrix.py\u001b[0m in \u001b[0;36mheatmap\u001b[0;34m(data, vmin, vmax, cmap, center, robust, annot, fmt, annot_kws, linewidths, linecolor, cbar, cbar_kws, cbar_ax, square, xticklabels, yticklabels, mask, ax, **kwargs)\u001b[0m\n\u001b[1;32m    515\u001b[0m     plotter = _HeatMapper(data, vmin, vmax, cmap, center, robust, annot, fmt,\n\u001b[1;32m    516\u001b[0m                           \u001b[0mannot_kws\u001b[0m\u001b[0;34m,\u001b[0m \u001b[0mcbar\u001b[0m\u001b[0;34m,\u001b[0m \u001b[0mcbar_kws\u001b[0m\u001b[0;34m,\u001b[0m \u001b[0mxticklabels\u001b[0m\u001b[0;34m,\u001b[0m\u001b[0;34m\u001b[0m\u001b[0;34m\u001b[0m\u001b[0m\n\u001b[0;32m--> 517\u001b[0;31m                           yticklabels, mask)\n\u001b[0m\u001b[1;32m    518\u001b[0m \u001b[0;34m\u001b[0m\u001b[0m\n\u001b[1;32m    519\u001b[0m     \u001b[0;31m# Add the pcolormesh kwargs here\u001b[0m\u001b[0;34m\u001b[0m\u001b[0;34m\u001b[0m\u001b[0;34m\u001b[0m\u001b[0m\n",
      "\u001b[0;32m~/Envs/resrPyth3/lib/python3.6/site-packages/seaborn/matrix.py\u001b[0m in \u001b[0;36m__init__\u001b[0;34m(self, data, vmin, vmax, cmap, center, robust, annot, fmt, annot_kws, cbar, cbar_kws, xticklabels, yticklabels, mask)\u001b[0m\n\u001b[1;32m    165\u001b[0m         \u001b[0;31m# Determine good default values for the colormapping\u001b[0m\u001b[0;34m\u001b[0m\u001b[0;34m\u001b[0m\u001b[0;34m\u001b[0m\u001b[0m\n\u001b[1;32m    166\u001b[0m         self._determine_cmap_params(plot_data, vmin, vmax,\n\u001b[0;32m--> 167\u001b[0;31m                                     cmap, center, robust)\n\u001b[0m\u001b[1;32m    168\u001b[0m \u001b[0;34m\u001b[0m\u001b[0m\n\u001b[1;32m    169\u001b[0m         \u001b[0;31m# Sort out the annotations\u001b[0m\u001b[0;34m\u001b[0m\u001b[0;34m\u001b[0m\u001b[0;34m\u001b[0m\u001b[0m\n",
      "\u001b[0;32m~/Envs/resrPyth3/lib/python3.6/site-packages/seaborn/matrix.py\u001b[0m in \u001b[0;36m_determine_cmap_params\u001b[0;34m(self, plot_data, vmin, vmax, cmap, center, robust)\u001b[0m\n\u001b[1;32m    204\u001b[0m         \u001b[0mcalc_data\u001b[0m \u001b[0;34m=\u001b[0m \u001b[0mplot_data\u001b[0m\u001b[0;34m.\u001b[0m\u001b[0mdata\u001b[0m\u001b[0;34m[\u001b[0m\u001b[0;34m~\u001b[0m\u001b[0mnp\u001b[0m\u001b[0;34m.\u001b[0m\u001b[0misnan\u001b[0m\u001b[0;34m(\u001b[0m\u001b[0mplot_data\u001b[0m\u001b[0;34m.\u001b[0m\u001b[0mdata\u001b[0m\u001b[0;34m)\u001b[0m\u001b[0;34m]\u001b[0m\u001b[0;34m\u001b[0m\u001b[0;34m\u001b[0m\u001b[0m\n\u001b[1;32m    205\u001b[0m         \u001b[0;32mif\u001b[0m \u001b[0mvmin\u001b[0m \u001b[0;32mis\u001b[0m \u001b[0;32mNone\u001b[0m\u001b[0;34m:\u001b[0m\u001b[0;34m\u001b[0m\u001b[0;34m\u001b[0m\u001b[0m\n\u001b[0;32m--> 206\u001b[0;31m             \u001b[0mvmin\u001b[0m \u001b[0;34m=\u001b[0m \u001b[0mnp\u001b[0m\u001b[0;34m.\u001b[0m\u001b[0mpercentile\u001b[0m\u001b[0;34m(\u001b[0m\u001b[0mcalc_data\u001b[0m\u001b[0;34m,\u001b[0m \u001b[0;36m2\u001b[0m\u001b[0;34m)\u001b[0m \u001b[0;32mif\u001b[0m \u001b[0mrobust\u001b[0m \u001b[0;32melse\u001b[0m \u001b[0mcalc_data\u001b[0m\u001b[0;34m.\u001b[0m\u001b[0mmin\u001b[0m\u001b[0;34m(\u001b[0m\u001b[0;34m)\u001b[0m\u001b[0;34m\u001b[0m\u001b[0;34m\u001b[0m\u001b[0m\n\u001b[0m\u001b[1;32m    207\u001b[0m         \u001b[0;32mif\u001b[0m \u001b[0mvmax\u001b[0m \u001b[0;32mis\u001b[0m \u001b[0;32mNone\u001b[0m\u001b[0;34m:\u001b[0m\u001b[0;34m\u001b[0m\u001b[0;34m\u001b[0m\u001b[0m\n\u001b[1;32m    208\u001b[0m             \u001b[0mvmax\u001b[0m \u001b[0;34m=\u001b[0m \u001b[0mnp\u001b[0m\u001b[0;34m.\u001b[0m\u001b[0mpercentile\u001b[0m\u001b[0;34m(\u001b[0m\u001b[0mcalc_data\u001b[0m\u001b[0;34m,\u001b[0m \u001b[0;36m98\u001b[0m\u001b[0;34m)\u001b[0m \u001b[0;32mif\u001b[0m \u001b[0mrobust\u001b[0m \u001b[0;32melse\u001b[0m \u001b[0mcalc_data\u001b[0m\u001b[0;34m.\u001b[0m\u001b[0mmax\u001b[0m\u001b[0;34m(\u001b[0m\u001b[0;34m)\u001b[0m\u001b[0;34m\u001b[0m\u001b[0;34m\u001b[0m\u001b[0m\n",
      "\u001b[0;32m~/Envs/resrPyth3/lib/python3.6/site-packages/numpy/core/_methods.py\u001b[0m in \u001b[0;36m_amin\u001b[0;34m(a, axis, out, keepdims, initial, where)\u001b[0m\n\u001b[1;32m     41\u001b[0m def _amin(a, axis=None, out=None, keepdims=False,\n\u001b[1;32m     42\u001b[0m           initial=_NoValue, where=True):\n\u001b[0;32m---> 43\u001b[0;31m     \u001b[0;32mreturn\u001b[0m \u001b[0mumr_minimum\u001b[0m\u001b[0;34m(\u001b[0m\u001b[0ma\u001b[0m\u001b[0;34m,\u001b[0m \u001b[0maxis\u001b[0m\u001b[0;34m,\u001b[0m \u001b[0;32mNone\u001b[0m\u001b[0;34m,\u001b[0m \u001b[0mout\u001b[0m\u001b[0;34m,\u001b[0m \u001b[0mkeepdims\u001b[0m\u001b[0;34m,\u001b[0m \u001b[0minitial\u001b[0m\u001b[0;34m,\u001b[0m \u001b[0mwhere\u001b[0m\u001b[0;34m)\u001b[0m\u001b[0;34m\u001b[0m\u001b[0;34m\u001b[0m\u001b[0m\n\u001b[0m\u001b[1;32m     44\u001b[0m \u001b[0;34m\u001b[0m\u001b[0m\n\u001b[1;32m     45\u001b[0m def _sum(a, axis=None, dtype=None, out=None, keepdims=False,\n",
      "\u001b[0;31mValueError\u001b[0m: zero-size array to reduction operation minimum which has no identity"
     ]
    }
   ],
   "source": [
    "import seaborn as sns\n",
    "sns.heatmap(km_poly.full,cmap=\"RdYlGn\", xticklabels=90, yticklabels=90)"
   ]
  },
  {
   "cell_type": "code",
   "execution_count": null,
   "metadata": {},
   "outputs": [],
   "source": [
    "plt.matshow(km.full)"
   ]
  },
  {
   "cell_type": "code",
   "execution_count": null,
   "metadata": {},
   "outputs": [],
   "source": []
  }
 ],
 "metadata": {
  "kernelspec": {
   "display_name": "Python 3",
   "language": "python",
   "name": "python3"
  },
  "language_info": {
   "codemirror_mode": {
    "name": "ipython",
    "version": 3
   },
   "file_extension": ".py",
   "mimetype": "text/x-python",
   "name": "python",
   "nbconvert_exporter": "python",
   "pygments_lexer": "ipython3",
   "version": "3.6.8"
  },
  "latex_envs": {
   "LaTeX_envs_menu_present": true,
   "autoclose": false,
   "autocomplete": true,
   "bibliofile": "biblio.bib",
   "cite_by": "apalike",
   "current_citInitial": 1,
   "eqLabelWithNumbers": true,
   "eqNumInitial": 1,
   "hotkeys": {
    "equation": "Ctrl-E",
    "itemize": "Ctrl-I"
   },
   "labels_anchors": false,
   "latex_user_defs": false,
   "report_style_numbering": false,
   "user_envs_cfg": false
  }
 },
 "nbformat": 4,
 "nbformat_minor": 2
}
