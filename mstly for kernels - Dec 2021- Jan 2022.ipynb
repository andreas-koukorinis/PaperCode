{
 "cells": [
  {
   "cell_type": "code",
   "execution_count": 2,
   "metadata": {},
   "outputs": [
    {
     "name": "stdout",
     "output_type": "stream",
     "text": [
      "latexstyle3.mplstyle\n"
     ]
    }
   ],
   "source": [
    "\n",
    "import pandas as pd\n",
    "import numpy as np\n",
    "import sklearn.svm as svm\n",
    "import pickle\n",
    "import os\n",
    "\n",
    "from sklearn.metrics.pairwise import rbf_kernel\n",
    "import pandas as pd\n",
    "import numpy as np\n",
    "from sklearn.preprocessing import StandardScaler\n",
    "from sklearn.preprocessing import MinMaxScaler\n",
    "from sklearn.model_selection import train_test_split\n",
    "from sklearn.metrics import accuracy_score, confusion_matrix, classification_report, precision_recall_fscore_support\n",
    "standard_scaler = StandardScaler()\n",
    "import time\n",
    "from sklearn.svm import SVC\n",
    "from sklearn.metrics import accuracy_score, roc_auc_score\n",
    "from collections import defaultdict\n",
    "import matplotlib.pyplot as plt\n",
    "from sklearn.metrics.pairwise import rbf_kernel as RBF\n",
    "import pickle as pkl\n",
    "from yellowbrick.style import set_palette\n",
    "from yellowbrick.cluster import InterclusterDistance\n",
    "#evaluate the solution\n",
    "from sklearn.metrics import accuracy_score, roc_auc_score\n",
    "from sklearn.metrics import roc_curve, auc\n",
    "from yellowbrick.style import set_palette\n",
    "from sklearn.naive_bayes import GaussianNB\n",
    "from sklearn.ensemble import RandomForestClassifier\n",
    "from yellowbrick.features import FeatureImportances\n",
    "\n",
    "from yellowbrick.target import ClassBalance, FeatureCorrelation\n",
    "\n",
    "from yellowbrick.classifier.confusion_matrix import *\n",
    "\n",
    "from sklearn.preprocessing import LabelEncoder\n",
    "# Feature Analysis Imports\n",
    "from yellowbrick.features import JointPlotVisualizer\n",
    "\n",
    "from yellowbrick.features import Rank1D, Rank2D\n",
    "from yellowbrick.features import RadViz\n",
    "from sklearn.cluster import KMeans\n",
    "\n",
    "from yellowbrick.style import set_palette\n",
    "from yellowbrick.features.manifold import Manifold\n",
    "### matplotlib stuff ##\n",
    "\n",
    "from matplotlib.ticker import ScalarFormatter,AutoMinorLocator\n",
    "import matplotlib as mpl\n",
    "import matplotlib.pyplot as plt\n",
    "styleFiles = os.listdir(mpl.get_configdir())\n",
    "styleFileIdx = 2\n",
    "print(styleFiles[styleFileIdx])\n",
    "plt.style.use(os.path.join(mpl.get_configdir(), styleFiles[styleFileIdx]))"
   ]
  },
  {
   "cell_type": "code",
   "execution_count": 3,
   "metadata": {},
   "outputs": [
    {
     "name": "stdout",
     "output_type": "stream",
     "text": [
      "polynomial(degree=4,gamma=1.0,b=1.0)\n",
      "gaussian(sigma=2.0)\n",
      "linear\n"
     ]
    }
   ],
   "source": [
    "## kernel imports \n",
    "import traceback\n",
    "import warnings\n",
    "from kernelmethods import KernelMatrix\n",
    "import matplotlib.pyplot as plt\n",
    "# plt.style.use('classic')\n",
    "\n",
    "import numpy as np\n",
    "np.set_printoptions(precision=2)\n",
    "warnings.filterwarnings(\"ignore\")\n",
    "\n",
    "##\n",
    "from kernelmethods import PolyKernel, GaussianKernel, LinearKernel\n",
    "\n",
    "poly = PolyKernel(degree=4)\n",
    "rbf = GaussianKernel()\n",
    "linear = LinearKernel()\n",
    "# you can print/present then in many ways\n",
    "print(poly)\n",
    "print(rbf)\n",
    "print(linear)\n",
    "repr(rbf)\n",
    "import seaborn as sns\n",
    "\n"
   ]
  },
  {
   "cell_type": "code",
   "execution_count": 4,
   "metadata": {},
   "outputs": [],
   "source": [
    "def annotate_heatmap(im, data=None, valfmt=\"{x:.2f}\",\n",
    "                     textcolors=(\"black\", \"white\"),\n",
    "                     threshold=None, **textkw):\n",
    "    \"\"\"\n",
    "    A function to annotate a heatmap.\n",
    "\n",
    "    Parameters\n",
    "    ----------\n",
    "    im\n",
    "        The AxesImage to be labeled.\n",
    "    data\n",
    "        Data used to annotate.  If None, the image's data is used.  Optional.\n",
    "    valfmt\n",
    "        The format of the annotations inside the heatmap.  This should either\n",
    "        use the string format method, e.g. \"$ {x:.2f}\", or be a\n",
    "        `matplotlib.ticker.Formatter`.  Optional.\n",
    "    textcolors\n",
    "        A pair of colors.  The first is used for values below a threshold,\n",
    "        the second for those above.  Optional.\n",
    "    threshold\n",
    "        Value in data units according to which the colors from textcolors are\n",
    "        applied.  If None (the default) uses the middle of the colormap as\n",
    "        separation.  Optional.\n",
    "    **kwargs\n",
    "        All other arguments are forwarded to each call to `text` used to create\n",
    "        the text labels.\n",
    "    \"\"\"\n",
    "\n",
    "    if not isinstance(data, (list, np.ndarray)):\n",
    "        data = im.get_array()\n",
    "\n",
    "    # Normalize the threshold to the images color range.\n",
    "    if threshold is not None:\n",
    "        threshold = im.norm(threshold)\n",
    "    else:\n",
    "        threshold = im.norm(data.max())/2.\n",
    "\n",
    "    # Set default alignment to center, but allow it to be\n",
    "    # overwritten by textkw.\n",
    "    kw = dict(horizontalalignment=\"center\",\n",
    "              verticalalignment=\"center\")\n",
    "    kw.update(textkw)\n",
    "\n",
    "    # Get the formatter in case a string is supplied\n",
    "    if isinstance(valfmt, str):\n",
    "        valfmt = matplotlib.ticker.StrMethodFormatter(valfmt)\n",
    "\n",
    "    # Loop over the data and create a `Text` for each \"pixel\".\n",
    "    # Change the text's color depending on the data.\n",
    "    texts = []\n",
    "    for i in range(data.shape[0]):\n",
    "        for j in range(data.shape[1]):\n",
    "            kw.update(color=textcolors[int(im.norm(data[i, j]) > threshold)])\n",
    "            text = im.axes.text(j, i, valfmt(data[i, j], None), **kw)\n",
    "            texts.append(text)\n",
    "\n",
    "    return texts"
   ]
  },
  {
   "cell_type": "code",
   "execution_count": 5,
   "metadata": {},
   "outputs": [],
   "source": [
    "\n",
    "\n",
    "'''\n",
    "file to create all the various plots for each of the symbols for each of the days\n",
    "'''\n",
    "\n",
    "\n",
    "### functions ###\n",
    "def open_pickle_file(path, pickle_file):\n",
    "    file_loc = os.path.join(path, pickle_file)\n",
    "    pickle_to_file = pkl.load(open(file_loc, \"rb\"), encoding='iso-8859-1')\n",
    "    return pickle_to_file\n",
    "\n",
    "\n",
    "def featureCreation4Viz(idxKey, locDict):\n",
    "    ''' gives out clean features and labels for a given locDict and a idxKey\n",
    "        use idxKey to inser a key from the locDict keys\n",
    "        so for a particular day based on the key we get features and labels here\n",
    "        returns features, labels in one data frame\n",
    "    '''\n",
    "    keys = list(locDict.keys())\n",
    "    featuresIdxDirFileLoc = locDict[keys[idxKey]][0]\n",
    "    labelsIdxDirFileLoc = locDict[keys[idxKey]][1]\n",
    "    ''' read the features file'''\n",
    "    featuresTupleFile = pkl.load(open(featuresIdxDirFileLoc, \"rb\"), encoding='latin1')\n",
    "    dfFeatures = pd.concat([featuresTupleFile[0], featuresTupleFile[1], \\\n",
    "                            featuresTupleFile[2], featuresTupleFile[3]], axis=1, sort=False).fillna(0)\n",
    "    ''' read the labels file'''\n",
    "    labelsDf = pd.read_csv(labelsIdxDirFileLoc)\n",
    "    ''' pop the labels out'''\n",
    "    labels = labelsDf['label_PrMov__window_5__thres_arbitrary__0.1']\n",
    "    '''dataframe of Features and Labels - X and Y'''\n",
    "    dfXY = pd.concat([dfFeatures, labels], axis=1, sort='False').dropna()\n",
    "\n",
    "    return dfXY\n"
   ]
  },
  {
   "cell_type": "code",
   "execution_count": null,
   "metadata": {},
   "outputs": [
    {
     "name": "stdout",
     "output_type": "stream",
     "text": [
      "you chose symbol: RDSb.L\n",
      "your features are here-in pickle format: /media/ak/DataOnly/SymbolFeatureDirectories/RDSb.L/MODEL_BASED\n",
      "you are picking Label Two\n",
      "polynomial(degree=4,gamma=0.5,b=0.5)\n",
      "gaussian(sigma=0.5)\n"
     ]
    }
   ],
   "source": [
    "plt.style.use('classic')\n",
    "\n",
    "if __name__ == '__main__':\n",
    "    # locations ##\n",
    "    figuresDestination ='/home/ak/Documents/Research/Papers/figures/'\n",
    "    hardDriveLoc = '/media/ak/'\n",
    "    dataOnlyFolder = '/media/ak/DataOnly'  # external date only drive\n",
    "    symbolFeaturesDirectories  = os.path.join(dataOnlyFolder, 'SymbolFeatureDirectories')\n",
    "    ExperimentCommonLocs = os.path.join(dataOnlyFolder,'ExperimentCommonLocs')\n",
    "\n",
    "    labelsLocations = {'One': os.path.join(ExperimentCommonLocs, 'LabelsAlternateOne'),\n",
    "                       'Two': os.path.join(ExperimentCommonLocs, 'LabelsAlternateTwo'),\n",
    "                       'Three': os.path.join(ExperimentCommonLocs, 'LabelsAlternateThree'),\n",
    "                       'Four': os.path.join(ExperimentCommonLocs, 'LabelsAlternateFour'),\n",
    "                       'File':os.path.join(ExperimentCommonLocs, 'LabelsAlternateFive'),\n",
    "                       'Six': os.path.join(ExperimentCommonLocs, 'LabelsAlternateSix')}\n",
    "\n",
    "    # symbols\n",
    "\n",
    "    symbols = sorted(os.listdir(symbolFeaturesDirectories))\n",
    "\n",
    "    # pick a symbol\n",
    "\n",
    "\n",
    "    symbolIdx = 27\n",
    "        \n",
    "    symbolSpecificFeaturesDirectors = os.path.join(symbolFeaturesDirectories, sorted(symbols)[symbolIdx])\n",
    "    print('you chose symbol:', sorted(symbols)[symbolIdx])\n",
    "    symbolFeaturesLocation = \"/\".join((symbolSpecificFeaturesDirectors, 'MODEL_BASED'))  # where all the HMM output is\n",
    "    print('your features are here-in pickle format:',symbolFeaturesLocation)\n",
    "    # and a label Idx\n",
    "    labelsIdx = 'Two'\n",
    "    print('you are picking Label', labelsIdx)\n",
    "    LabelsFilesPath = os.path.join(labelsLocations[str(labelsIdx)], sorted(symbols)[symbolIdx])\n",
    "    LabelsFiles = os.listdir(LabelsFilesPath)\n",
    "\n",
    "    dates = os.listdir(symbolFeaturesLocation)\n",
    "\n",
    "\n",
    "    for dateIdx in range(2, 32):\n",
    "        dateSpecificDirectory = os.path.join(symbolFeaturesLocation, dates[dateIdx])\n",
    "        dateSpecificFiles = sorted(os.listdir(dateSpecificDirectory))\n",
    "\n",
    "        for idx in range(1, 32):\n",
    "\n",
    "            specificFile = os.path.join(dateSpecificDirectory, dateSpecificFiles[idx])\n",
    "\n",
    "            featuresTupleFile  = open_pickle_file(dateSpecificDirectory, dateSpecificFiles[idx])\n",
    "\n",
    "            label_date = specificFile.split(\"_\")[6]\n",
    "\n",
    "            labelDateFile = os.path.join(LabelsFilesPath, str(label_date) +'.csv')\n",
    "\n",
    "            if os.path.isfile(labelDateFile):\n",
    "                df = pd.read_csv(labelDateFile)\n",
    "            else:\n",
    "                print('not a valid dates file')\n",
    "\n",
    "            labelName = str(df.columns[df.columns.str.contains(pat='label')].values[0])\n",
    "            labels = df[df.columns[df.columns.str.contains(pat='label')]].iloc[:, 0]\n",
    "\n",
    "            dfFeatures = pd.concat([featuresTupleFile[0], featuresTupleFile[1], \\\n",
    "                                    featuresTupleFile[2], featuresTupleFile[3]], axis=1, sort=False).fillna(0)\n",
    "\n",
    "\n",
    "            features= list(dfFeatures.columns.values)\n",
    "            X = pd.get_dummies(dfFeatures)\n",
    "            # Convert unique classes (strings) into integers\n",
    "\n",
    "            X_array = np.asarray(X)\n",
    "\n",
    "            poly = PolyKernel(degree=4, gamma =0.5, b =0.5)\n",
    "            rbf = GaussianKernel(sigma=0.5)\n",
    "            # you can print/present then in many ways\n",
    "            print(poly)\n",
    "            print(rbf)\n",
    "            repr(rbf)\n",
    "            km_poly = KernelMatrix(poly)\n",
    "            km_rbf = KernelMatrix(rbf)\n",
    "            km_linear = KernelMatrix(linear)\n",
    "\n",
    "            km_rbf.attach_to(X_array)\n",
    "            km_linear.attach_to(X_array)\n",
    "            km_poly.attach_to(X_array)\n",
    "            \n",
    "            sns_kernel_poly = sns.heatmap(km_poly.full,cmap=\"RdYlGn\",cbar=False)\n",
    "            sns_kernel_poly.tick_params(left=False, bottom=False)\n",
    "            \n",
    "            \n",
    "            title ='PolyKernel_'+str(sorted(symbols)[symbolIdx])\n",
    "            fig = sns_kernel_poly.get_figure()\n",
    "            \n",
    "            fig.savefig('/home/ak/Documents/Research/Papers/figures/' + str(title)+'_'+str(dateIdx)+'_'+str(idx) + '.png', dpi=150)\n",
    "            x= (km_poly.frob_norm).round(decimals=2)\n",
    "            fig = plt.figure()\n",
    "            \n",
    "            sns_kernel_linear = sns.heatmap(km_linear.full,cmap=\"RdYlGn\",cbar=False)\n",
    "            sns_kernel_linear.tick_params(left=False, bottom=False)\n",
    "            title ='PolyKernel_'+str(sorted(symbols)[symbolIdx])\n",
    "            fig = sns_kernel_linear.get_figure()\n",
    "            \n",
    "            fig.savefig('/home/ak/Documents/Research/Papers/figures/' + str(title)+'_'+str(dateIdx)+'_'+str(idx) + '.png', dpi=150)\n",
    "            x= (km_poly.frob_norm).round(decimals=2)\n",
    "            fig = plt.figure()            \n",
    "            \n",
    "            \n",
    "            plt.matshow(km_linear.full, cmap=\"RdYlGn\", interpolation='none', vmin=0, vmax=1, label = ['FrobNorm: '+str(x)] )\n",
    "            plt.text(3, 3, 'FrobNorm: '+str(x))\n",
    "\n",
    "            \n",
    "            plt_title = 'polyLinear_mplt'+str(sorted(symbols)[symbolIdx]+'_'+str(dateIdx)+'_'+str(idx))\n",
    "            plt.savefig('/home/ak/Documents/Research/Papers/figures/' + str(plt_title) + '.png', dpi=150)\n",
    "            \n",
    "                \n"
   ]
  },
  {
   "cell_type": "code",
   "execution_count": null,
   "metadata": {},
   "outputs": [],
   "source": [
    "km = KernelMatrix(rbf)\n",
    "km_linear = KernelMatrix(linear)\n",
    "km_poly = KernelMatrix(poly)"
   ]
  },
  {
   "cell_type": "code",
   "execution_count": null,
   "metadata": {},
   "outputs": [],
   "source": [
    "pd.options.display.float_format = '{:,.2f}'.format\n",
    "np.set_printoptions(precision=2)\n",
    "x =np.round((km_poly.frob_norm))\n",
    "print(np.round(x))"
   ]
  },
  {
   "cell_type": "code",
   "execution_count": null,
   "metadata": {},
   "outputs": [],
   "source": [
    "X_array = np.asarray(X)\n",
    "km.attach_to(X_array)\n",
    "km_linear.attach_to(X_array)\n",
    "km_poly.attach_to(X_array)"
   ]
  },
  {
   "cell_type": "code",
   "execution_count": null,
   "metadata": {},
   "outputs": [],
   "source": [
    "X_array = np.asarray(X)"
   ]
  },
  {
   "cell_type": "code",
   "execution_count": null,
   "metadata": {},
   "outputs": [],
   "source": [
    "km_linear.full"
   ]
  },
  {
   "cell_type": "code",
   "execution_count": null,
   "metadata": {},
   "outputs": [],
   "source": [
    "from kernelmethods import PolyKernel, GaussianKernel, LinearKernel\n",
    "\n",
    "poly = PolyKernel(degree=11)\n",
    "rbf = GaussianKernel(sigma=0.5)\n",
    "# you can print/present then in many ways\n",
    "print(poly)\n",
    "print(rbf)\n",
    "repr(rbf)"
   ]
  },
  {
   "cell_type": "code",
   "execution_count": null,
   "metadata": {},
   "outputs": [],
   "source": [
    "km = KernelMatrix(poly)\n",
    "km_rbf = KernelMatrix(rbf)\n",
    "km_linear = KernelMatrix(linear)"
   ]
  },
  {
   "cell_type": "code",
   "execution_count": null,
   "metadata": {},
   "outputs": [],
   "source": [
    "km.attach_to(X_array)\n",
    "km_rbf.attach_to(X_array)\n",
    "km_linear.attach_to(X_array)\n"
   ]
  },
  {
   "cell_type": "code",
   "execution_count": null,
   "metadata": {},
   "outputs": [],
   "source": [
    "km.full"
   ]
  },
  {
   "cell_type": "code",
   "execution_count": null,
   "metadata": {},
   "outputs": [],
   "source": [
    "print('number of elements: {}, \\n\\tsamples: {} '.format(km.size, km.num_samples))\n",
    "print('shape of KM: ', km.shape)"
   ]
  },
  {
   "cell_type": "code",
   "execution_count": null,
   "metadata": {},
   "outputs": [],
   "source": [
    "\n"
   ]
  },
  {
   "cell_type": "code",
   "execution_count": null,
   "metadata": {},
   "outputs": [],
   "source": [
    "plt.matshow(km_rbf.full, cmap=plt.cm.Spectral_r, interpolation='none', vmin=0, vmax=1)"
   ]
  },
  {
   "cell_type": "code",
   "execution_count": null,
   "metadata": {},
   "outputs": [],
   "source": [
    "import seaborn as sns\n",
    "sns.heatmap(km_poly.full,cmap=\"RdYlGn\", xticklabels=90, yticklabels=90)"
   ]
  },
  {
   "cell_type": "code",
   "execution_count": null,
   "metadata": {},
   "outputs": [],
   "source": [
    "plt.matshow(km.full)"
   ]
  },
  {
   "cell_type": "code",
   "execution_count": null,
   "metadata": {},
   "outputs": [],
   "source": []
  }
 ],
 "metadata": {
  "kernelspec": {
   "display_name": "Python 3",
   "language": "python",
   "name": "python3"
  },
  "language_info": {
   "codemirror_mode": {
    "name": "ipython",
    "version": 3
   },
   "file_extension": ".py",
   "mimetype": "text/x-python",
   "name": "python",
   "nbconvert_exporter": "python",
   "pygments_lexer": "ipython3",
   "version": "3.6.8"
  },
  "latex_envs": {
   "LaTeX_envs_menu_present": true,
   "autoclose": false,
   "autocomplete": true,
   "bibliofile": "biblio.bib",
   "cite_by": "apalike",
   "current_citInitial": 1,
   "eqLabelWithNumbers": true,
   "eqNumInitial": 1,
   "hotkeys": {
    "equation": "Ctrl-E",
    "itemize": "Ctrl-I"
   },
   "labels_anchors": false,
   "latex_user_defs": false,
   "report_style_numbering": false,
   "user_envs_cfg": false
  }
 },
 "nbformat": 4,
 "nbformat_minor": 2
}
