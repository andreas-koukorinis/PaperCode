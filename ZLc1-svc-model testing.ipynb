{
 "cells": [
  {
   "cell_type": "code",
   "execution_count": 1,
   "metadata": {},
   "outputs": [],
   "source": [
    "import pickle\n",
    "import os\n",
    "import pandas as pd\n",
    "import numpy as np\n",
    "import sklearn\n",
    "import scipy.stats as stats\n",
    "from sklearn.pipeline import Pipeline\n",
    "from sklearn import linear_model, decomposition\n",
    "from sklearn.svm import LinearSVC\n",
    "from sklearn.svm import SVC\n",
    "from sklearn.metrics import precision_recall_curve\n",
    "from sklearn.linear_model import SGDClassifier, LogisticRegression\n",
    "from sklearn.preprocessing import StandardScaler\n",
    "from sklearn.preprocessing import MinMaxScaler\n",
    "from sklearn.multiclass import OneVsRestClassifier\n",
    "from sklearn import decomposition\n",
    "import matplotlib.pyplot as plt\n",
    "\n",
    "from sklearn.linear_model import LogisticRegression\n",
    "from sklearn import svm\n",
    "from sklearn.model_selection import GridSearchCV\n",
    "from sklearn.externals import joblib\n",
    "import pickle\n",
    "# Added version check for recent scikit-learn 0.18 checksok ca\n",
    "from distutils.version import LooseVersion as Version\n",
    "from sklearn.base import clone\n",
    "from itertools import combinations\n",
    "import numpy as np\n",
    "from sklearn.metrics import accuracy_score\n",
    "from sklearn.metrics import roc_auc_score, accuracy_score, f1_score, recall_score, precision_score\n",
    "\n",
    "from sklearn.model_selection import train_test_split\n",
    "##############----########### Take out what is redundant below###\n",
    "from sklearn.linear_model import ElasticNet, Lasso, RidgeClassifier\n",
    "from sklearn.model_selection import StratifiedKFold, cross_val_score\n",
    "from sklearn.preprocessing import scale\n",
    "from sklearn.metrics import roc_curve\n",
    "\n",
    "from sklearn.model_selection import learning_curve\n",
    "from sklearn.model_selection import ShuffleSplit"
   ]
  },
  {
   "cell_type": "code",
   "execution_count": 3,
   "metadata": {},
   "outputs": [],
   "source": [
    "import sys\n",
    "sys.path.append('/home/ak/Documents/Research/QFPaper/Huber-Norm-Regularizer')\n"
   ]
  },
  {
   "cell_type": "code",
   "execution_count": null,
   "metadata": {},
   "outputs": [],
   "source": []
  },
  {
   "cell_type": "markdown",
   "metadata": {},
   "source": [
    "# paths"
   ]
  },
  {
   "cell_type": "markdown",
   "metadata": {},
   "source": [
    "# useful functions"
   ]
  },
  {
   "cell_type": "code",
   "execution_count": 4,
   "metadata": {},
   "outputs": [],
   "source": [
    "def off_set(array_1, array_2):\n",
    "    off_set= len(array_1)-len(array_2)\n",
    "    return off_set\n",
    "\n",
    "def simpleInputs(_X,_y):\n",
    "    _offset =np.abs(off_set(_X,_y))\n",
    "    if _offset==0:\n",
    "        X = _X.as_matrix().astype(np.float)\n",
    "        y=_y.astype(np.int)\n",
    "    else:\n",
    "        X= _X[:-_offset].as_matrix().astype(np.float)\n",
    "        y = _y.astype(np.int)\n",
    "    return X, y\n",
    "\n",
    "def plot_learning_curve(estimator, title, X, y, ylim=None, cv=None,\n",
    "                        n_jobs=1, train_sizes=np.linspace(.1, 1.0, 5)):\n",
    "    \"\"\"\n",
    "    Generate a simple plot of the test and training learning curve.\n",
    "\n",
    "    Parameters\n",
    "    ----------\n",
    "    estimator : object type that implements the \"fit\" and \"predict\" methods\n",
    "        An object of that type which is cloned for each validation.\n",
    "\n",
    "    title : string\n",
    "        Title for the chart.\n",
    "\n",
    "    X : array-like, shape (n_samples, n_features)\n",
    "        Training vector, where n_samples is the number of samples and\n",
    "        n_features is the number of features.\n",
    "\n",
    "    y : array-like, shape (n_samples) or (n_samples, n_features), optional\n",
    "        Target relative to X for classification or regression;\n",
    "        None for unsupervised learning.\n",
    "\n",
    "    ylim : tuple, shape (ymin, ymax), optional\n",
    "        Defines minimum and maximum yvalues plotted.\n",
    "\n",
    "    cv : int, cross-validation generator or an iterable, optional\n",
    "        Determines the cross-validation splitting strategy.\n",
    "        Possible inputs for cv are:\n",
    "          - None, to use the default 3-fold cross-validation,\n",
    "          - integer, to specify the number of folds.\n",
    "          - An object to be used as a cross-validation generator.\n",
    "          - An iterable yielding train/test splits.\n",
    "\n",
    "        For integer/None inputs, if ``y`` is binary or multiclass,\n",
    "        :class:`StratifiedKFold` used. If the estimator is not a classifier\n",
    "        or if ``y`` is neither binary nor multiclass, :class:`KFold` is used.\n",
    "\n",
    "        Refer :ref:`User Guide <cross_validation>` for the various\n",
    "        cross-validators that can be used here.\n",
    "\n",
    "    n_jobs : integer, optional\n",
    "        Number of jobs to run in parallel (default 1).\n",
    "    \"\"\"\n",
    "    plt.figure()\n",
    "    plt.title(title)\n",
    "    if ylim is not None:\n",
    "        plt.ylim(*ylim)\n",
    "    plt.xlabel(\"Training examples\")\n",
    "    plt.ylabel(\"Score\")\n",
    "    train_sizes, train_scores, test_scores = learning_curve(\n",
    "        estimator, X, y, cv=cv, n_jobs=n_jobs, train_sizes=train_sizes)\n",
    "    train_scores_mean = np.mean(train_scores, axis=1)\n",
    "    train_scores_std = np.std(train_scores, axis=1)\n",
    "    test_scores_mean = np.mean(test_scores, axis=1)\n",
    "    test_scores_std = np.std(test_scores, axis=1)\n",
    "    plt.grid()\n",
    "\n",
    "    plt.fill_between(train_sizes, train_scores_mean - train_scores_std,\n",
    "                     train_scores_mean + train_scores_std, alpha=0.1,\n",
    "                     color=\"r\")\n",
    "    plt.fill_between(train_sizes, test_scores_mean - test_scores_std,\n",
    "                     test_scores_mean + test_scores_std, alpha=0.1, color=\"g\")\n",
    "    plt.plot(train_sizes, train_scores_mean, 'o-', color=\"r\",\n",
    "             label=\"Training score\")\n",
    "    plt.plot(train_sizes, test_scores_mean, 'o-', color=\"g\",\n",
    "             label=\"Cross-validation score\")\n",
    "\n",
    "    plt.legend(loc=\"best\")\n",
    "    return plt"
   ]
  },
  {
   "cell_type": "code",
   "execution_count": 5,
   "metadata": {},
   "outputs": [
    {
     "name": "stdout",
     "output_type": "stream",
     "text": [
      "0 MS.N\n",
      "1 HSBA.L\n",
      "2 YHOO.O\n",
      "3 LMT.N\n",
      "4 GD.N\n",
      "5 DBKGn.DE\n",
      "6 LMT\n",
      "7 C.N\n",
      "8 GS.N\n",
      "9 GOOG.OQ\n"
     ]
    }
   ],
   "source": [
    "symbols=['MS.N',\n",
    " 'HSBA.L',\n",
    " 'YHOO.O',\n",
    " 'LMT.N',\n",
    " 'GD.N',\n",
    " 'DBKGn.DE',\n",
    " 'LMT',\n",
    " 'C.N','GS.N','GOOG.OQ']  \n",
    "for _idx, _name in enumerate(symbols):\n",
    "    print _idx, _name"
   ]
  },
  {
   "cell_type": "markdown",
   "metadata": {},
   "source": [
    "create a list and enumerate all the symbols in the list"
   ]
  },
  {
   "cell_type": "code",
   "execution_count": 8,
   "metadata": {},
   "outputs": [
    {
     "ename": "OSError",
     "evalue": "[Errno 2] No such file or directory: '/home/ak/Documents/Data/features_models/models/'",
     "output_type": "error",
     "traceback": [
      "\u001b[0;31m--------------------------------------\u001b[0m",
      "\u001b[0;31mOSError\u001b[0mTraceback (most recent call last)",
      "\u001b[0;32m<ipython-input-8-4254d6e1da11>\u001b[0m in \u001b[0;36m<module>\u001b[0;34m()\u001b[0m\n\u001b[1;32m     10\u001b[0m \u001b[0mfigures_path\u001b[0m\u001b[0;34m=\u001b[0m \u001b[0;34m(\u001b[0m\u001b[0;34m'/home/ak/Documents/Research/QFPaper/paper/figures/'\u001b[0m\u001b[0;34m)\u001b[0m\u001b[0;34m\u001b[0m\u001b[0m\n\u001b[1;32m     11\u001b[0m \u001b[0;34m\u001b[0m\u001b[0m\n\u001b[0;32m---> 12\u001b[0;31m \u001b[0mos\u001b[0m\u001b[0;34m.\u001b[0m\u001b[0mlistdir\u001b[0m\u001b[0;34m(\u001b[0m\u001b[0m_models_path\u001b[0m\u001b[0;34m)\u001b[0m\u001b[0;34m\u001b[0m\u001b[0m\n\u001b[0m",
      "\u001b[0;31mOSError\u001b[0m: [Errno 2] No such file or directory: '/home/ak/Documents/Data/features_models/models/'"
     ]
    }
   ],
   "source": []
  },
  {
   "cell_type": "code",
   "execution_count": 7,
   "metadata": {},
   "outputs": [
    {
     "ename": "IOError",
     "evalue": "[Errno 2] No such file or directory: '/home/ak/Documents/Data/features_models/ZLc1_3_states_features_data.pickle'",
     "output_type": "error",
     "traceback": [
      "\u001b[0;31m--------------------------------------\u001b[0m",
      "\u001b[0;31mIOError\u001b[0mTraceback (most recent call last)",
      "\u001b[0;32m<ipython-input-7-b2688aa6735a>\u001b[0m in \u001b[0;36m<module>\u001b[0;34m()\u001b[0m\n\u001b[1;32m      1\u001b[0m \u001b[0;31m##load data\u001b[0m\u001b[0;34m\u001b[0m\u001b[0;34m\u001b[0m\u001b[0m\n\u001b[1;32m      2\u001b[0m \u001b[0mticker\u001b[0m \u001b[0;34m=\u001b[0m \u001b[0;34m'ZLc1_3'\u001b[0m \u001b[0;31m#loads specific symbol\u001b[0m\u001b[0;34m\u001b[0m\u001b[0m\n\u001b[0;32m----> 3\u001b[0;31m \u001b[0;32mwith\u001b[0m \u001b[0mopen\u001b[0m\u001b[0;34m(\u001b[0m\u001b[0m_pkl_path\u001b[0m \u001b[0;34m+\u001b[0m \u001b[0mticker\u001b[0m\u001b[0;34m+\u001b[0m\u001b[0;34m'_states_features_data.pickle'\u001b[0m\u001b[0;34m,\u001b[0m \u001b[0;34m'rb'\u001b[0m\u001b[0;34m)\u001b[0m \u001b[0;32mas\u001b[0m \u001b[0mhandle\u001b[0m\u001b[0;34m:\u001b[0m\u001b[0;34m\u001b[0m\u001b[0m\n\u001b[0m\u001b[1;32m      4\u001b[0m     \u001b[0mticker_features_\u001b[0m \u001b[0;34m=\u001b[0m \u001b[0mpickle\u001b[0m\u001b[0;34m.\u001b[0m\u001b[0mload\u001b[0m\u001b[0;34m(\u001b[0m\u001b[0mhandle\u001b[0m\u001b[0;34m)\u001b[0m\u001b[0;34m\u001b[0m\u001b[0m\n\u001b[1;32m      5\u001b[0m \u001b[0;32mwith\u001b[0m \u001b[0mopen\u001b[0m\u001b[0;34m(\u001b[0m\u001b[0m_pkl_path\u001b[0m \u001b[0;34m+\u001b[0m \u001b[0mticker\u001b[0m\u001b[0;34m+\u001b[0m\u001b[0;34m'_states_labelled_data.pickle'\u001b[0m\u001b[0;34m,\u001b[0m \u001b[0;34m'rb'\u001b[0m\u001b[0;34m)\u001b[0m \u001b[0;32mas\u001b[0m \u001b[0mhandle\u001b[0m\u001b[0;34m:\u001b[0m\u001b[0;34m\u001b[0m\u001b[0m\n",
      "\u001b[0;31mIOError\u001b[0m: [Errno 2] No such file or directory: '/home/ak/Documents/Data/features_models/ZLc1_3_states_features_data.pickle'"
     ]
    }
   ],
   "source": [
    "# ##load data\n",
    "# ticker = 'ZLc1_3' #loads specific symbol\n",
    "# with open(_pkl_path + ticker+'_states_features_data.pickle', 'rb') as handle:\n",
    "#     ticker_features_ = pickle.load(handle)\n",
    "# with open(_pkl_path + ticker+'_states_labelled_data.pickle', 'rb') as handle:\n",
    "#     ticker_labelled_data_ = pickle.load(handle)"
   ]
  },
  {
   "cell_type": "code",
   "execution_count": 7,
   "metadata": {},
   "outputs": [
    {
     "data": {
      "text/plain": [
       "['20100804',\n",
       " '20100820',\n",
       " '20100629',\n",
       " '20100826',\n",
       " '20100519',\n",
       " '20100518',\n",
       " '20100517',\n",
       " '20100621',\n",
       " '20100604',\n",
       " '20100602',\n",
       " '20100601',\n",
       " '20100723',\n",
       " '20100701',\n",
       " '20100628',\n",
       " '20100816',\n",
       " '20100817',\n",
       " '20100521',\n",
       " '20100527',\n",
       " '20100524',\n",
       " '20100525',\n",
       " '20100504',\n",
       " '20100819',\n",
       " '20100616',\n",
       " '20100610',\n",
       " '20100608']"
      ]
     },
     "execution_count": 7,
     "metadata": {},
     "output_type": "execute_result"
    }
   ],
   "source": [
    "ticker_features_.keys()"
   ]
  },
  {
   "cell_type": "code",
   "execution_count": 22,
   "metadata": {},
   "outputs": [
    {
     "name": "stdout",
     "output_type": "stream",
     "text": [
      "ZLc1_3\n"
     ]
    },
    {
     "data": {
      "text/plain": [
       "['RB_labelled_data.pickle',\n",
       " 'models',\n",
       " 'CNA_features.pickle',\n",
       " 'ZLc1_2012_features.pickle',\n",
       " 'ZLc1_3_states_labelled_data.pickle',\n",
       " 'ZLc1_4_states_features_data.pickle',\n",
       " 'ZLc12_states_labelled_data.pickle',\n",
       " 'CNA_labelled_data.pickle',\n",
       " 'ZLc1_3_states_features_data.pickle',\n",
       " 'ZLc1_4_states_labelled_data.pickle',\n",
       " 'ZLc1_2012_data.pickle',\n",
       " 'AAL_features.pickle',\n",
       " 'CPI_labelled_data.pickle',\n",
       " 'RB_features.pickle',\n",
       " 'CPI_features.pickle',\n",
       " 'VOD_labelled_data.pickle',\n",
       " 'zlc1_ll_results.npy',\n",
       " 'VOD_features.pickle',\n",
       " 'ZLc1_2012_labelled_data.pickle',\n",
       " 'AAL_labelled_data.pickle',\n",
       " 'ZLc1_2_states_labelled_data.pickle',\n",
       " 'IOG']"
      ]
     },
     "execution_count": 22,
     "metadata": {},
     "output_type": "execute_result"
    }
   ],
   "source": [
    "print(ticker)\n",
    "os.listdir(_pkl_path)\n",
    "#need to clean the below and write the state analysis component"
   ]
  },
  {
   "cell_type": "markdown",
   "metadata": {},
   "source": [
    "\n",
    "Main Code"
   ]
  },
  {
   "cell_type": "code",
   "execution_count": 8,
   "metadata": {},
   "outputs": [],
   "source": [
    "###the following bit is a bit redundant###\n",
    "_data = ticker_labelled_data_  # data\n",
    "_features = ticker_features_  # features\n",
    "_keys = _data.keys()  # dates\n",
    "###scalers###\n",
    "mms = MinMaxScaler()\n",
    "stdsc = StandardScaler()\n",
    "_clfs=[]\n",
    "_xr=len(_keys)-1 #what is this\n",
    "T=1\n",
    "M=_xr #what is this\n"
   ]
  },
  {
   "cell_type": "code",
   "execution_count": 9,
   "metadata": {},
   "outputs": [
    {
     "data": {
      "text/plain": [
       "25"
      ]
     },
     "execution_count": 9,
     "metadata": {},
     "output_type": "execute_result"
    }
   ],
   "source": [
    "len(_keys)"
   ]
  },
  {
   "cell_type": "code",
   "execution_count": null,
   "metadata": {},
   "outputs": [],
   "source": []
  },
  {
   "cell_type": "code",
   "execution_count": 10,
   "metadata": {},
   "outputs": [
    {
     "data": {
      "text/plain": [
       "array(['TradedTime', 'TradedPrice', 'ReturnTradedPrice', 'Duration',\n",
       "       'label_control_chart_q_40_q_70_window_15',\n",
       "       'label_simple_ep_window_20_thresh_0.05',\n",
       "       'label_simple_ep_window_20_thresh_0.00'], dtype=object)"
      ]
     },
     "execution_count": 10,
     "metadata": {},
     "output_type": "execute_result"
    }
   ],
   "source": [
    "_columns=_data[_keys[1]].columns.values\n",
    "_columns #simple data+simple labels"
   ]
  },
  {
   "cell_type": "code",
   "execution_count": 11,
   "metadata": {},
   "outputs": [],
   "source": [
    "_model_results= {\n",
    "    'clfs': np.empty((M, T)),\n",
    "    'test_F1': np.empty((M, T)),\n",
    "    'data_date': np.empty((M, T)),\n",
    "    'test_recall': np.empty((M, T)),\n",
    "    'train_recall': np.empty((M, T)),\n",
    "    'test_accuracy' :np.empty((M, T)),\n",
    "    'train_accuracy' :np.empty((M, T)),\n",
    "}"
   ]
  },
  {
   "cell_type": "code",
   "execution_count": 12,
   "metadata": {},
   "outputs": [
    {
     "data": {
      "text/plain": [
       "['test_F1',\n",
       " 'train_accuracy',\n",
       " 'test_recall',\n",
       " 'train_recall',\n",
       " 'clfs',\n",
       " 'test_accuracy',\n",
       " 'data_date']"
      ]
     },
     "execution_count": 12,
     "metadata": {},
     "output_type": "execute_result"
    }
   ],
   "source": [
    "_model_results.keys()"
   ]
  },
  {
   "cell_type": "code",
   "execution_count": 13,
   "metadata": {},
   "outputs": [
    {
     "name": "stdout",
     "output_type": "stream",
     "text": [
      "('#of models:', 24)\n",
      "('for ticker:', 'ZLc1_3')\n",
      "('number of classes:', 2)\n",
      "True\n",
      "True\n",
      "Fitting 5 folds for each of 15 candidates, totalling 75 fits\n"
     ]
    },
    {
     "name": "stderr",
     "output_type": "stream",
     "text": [
      "[Parallel(n_jobs=-1)]: Done  75 out of  75 | elapsed:    0.4s finished\n"
     ]
    },
    {
     "name": "stdout",
     "output_type": "stream",
     "text": [
      "('#of models   left:', 24)\n",
      "Accuracy: 0.78\n",
      "Precision: 0.778\n",
      "('number of classes:', 2)\n",
      "True\n",
      "True\n",
      "Fitting 5 folds for each of 15 candidates, totalling 75 fits\n"
     ]
    },
    {
     "name": "stderr",
     "output_type": "stream",
     "text": [
      "[Parallel(n_jobs=-1)]: Done  42 tasks      | elapsed:   16.3s\n",
      "[Parallel(n_jobs=-1)]: Done  75 out of  75 | elapsed:   30.9s finished\n"
     ]
    },
    {
     "name": "stdout",
     "output_type": "stream",
     "text": [
      "('#of models   left:', 23)\n",
      "Accuracy: 0.79\n",
      "Precision: 0.632\n"
     ]
    }
   ],
   "source": [
    "n_jobs=1\n",
    "\n",
    "print(\"#of models:\",_xr)\n",
    "print(\"for ticker:\", ticker)\n",
    "for _idx in xrange(0, 2): #replace this w _xr\n",
    "    # various types of labels\n",
    "    y_cc = _data[_keys[_idx]].iloc[:, 6].dropna().astype(int).values  # label_simple_ep_window_5_thresh_0.00-last 4 are NaN\n",
    "    y_duration = _data[_keys[_idx]].iloc[:, 3].dropna().astype(int).values\n",
    "    y_price = _data[_keys[_idx]].iloc[:, 1].dropna().astype(int).values # can be used for regression\n",
    "\n",
    "    # feature set\n",
    "    _gamma = _features[_keys[_idx]][2]\n",
    "    _csi = _features[_keys[_idx]][3]\n",
    "    _info = _features[_keys[_idx]][1]\n",
    "    _fischer = _features[_keys[_idx]][0]\n",
    "    short_rolling = _data[_keys[_idx]]['TradedPrice'].rolling(window=5).mean()\n",
    "    long_rolling = _data[_keys[_idx]]['TradedPrice'].rolling(window=15).mean()\n",
    "    ma_signal = (long_rolling - short_rolling).fillna(0)\n",
    "    \n",
    "    df_features = pd.concat([_csi, _gamma, _fischer,_data[_keys[_idx]]['TradedPrice']], axis=1)\n",
    "    \n",
    "    df_features['MA_signal'] = df_features['TradedPrice'].rolling(window=15).mean()-df_features['TradedPrice'].rolling(window=5).mean()\n",
    "    df_features=df_features.dropna()\n",
    "        \n",
    "    \n",
    "    \n",
    "    y_ = y_cc\n",
    "    X, y = simpleInputs(df_features, y_) #simple inputs just makes sure all the sizes fit\n",
    "    X_p, y = simpleInputs(df_features['MA_signal'], y_)\n",
    "           \n",
    "    print(\"number of classes:\",len(np.unique(y)))  # of classes\n",
    "    print(len(X)==len(y))\n",
    "    print(len(X_p)==len(y))\n",
    "\n",
    "\n",
    "    # # Train a SVM classification model\n",
    "    param_grid = dict(kernel=[\"rbf\"],C=[1,5,10,25,50],gamma=[0.0001,0.001,0.01])\n",
    "    X_p= X_p.reshape(-1, 1)\n",
    "    X_mms =mms.fit_transform(X)\n",
    "    X_train, X_test, y_train, y_test = train_test_split(X_mms, y, test_size=.3, random_state=0)\n",
    "\n",
    "    clf = GridSearchCV(SVC(class_weight='balanced'), param_grid, verbose=1,n_jobs=-1,cv=5)\n",
    "    \n",
    "    clf.fit(X_train, y_train)#fitting the first model\n",
    "    y_predict = clf.predict(X_test) #predict on test set\n",
    "    y_predict_train= clf.predict(X_train)\n",
    "# #     filename = _models_path + str(ticker) + '_' + str(_keys[_idx]) + '_clf' + '.joblib.pkl'\n",
    "# #     pickle.dump(clf, open(filename, 'wb'))\n",
    "#     print('SVM Best Params & Score:')\n",
    "#     print clf.best_params_, clf.best_score_\n",
    "    _clfs.append(clf)\n",
    "    clf_files = _models_path + str(ticker) + '_clfs_'  + '.pkl'\n",
    "    pickle.dump(_clfs, open(clf_files, 'wb'))\n",
    "    print(\"#of models   left:\",_xr -_idx)    \n",
    "    print('Accuracy: %.2f' % accuracy_score(y_test, y_predict))\n",
    "    print('Precision: %.3f' % precision_score(y_true=y_test, y_pred=y_predict))\n",
    "#     print('Recall: %.3f' % recall_score(y_true=y_test, y_pred=y_predict))\n",
    "#     print('F1: %.3f' % f1_score(y_true=y_test, y_pred=y_predict))\n",
    "    _model_results['test_accuracy'][_idx, :] = accuracy_score(y_test, y_predict)\n",
    "    _model_results['test_recall'][_idx, :] = recall_score(y_true=y_test, y_pred=y_predict)\n",
    "    _model_results['train_accuracy'][_idx, :] = accuracy_score(y_train, y_predict_train)\n",
    "    _model_results['train_recall'][_idx, :] = recall_score(y_true=y_train, y_pred=y_predict_train)\n",
    "    _model_results['test_F1'][_idx, :]=f1_score(y_true=y_test, y_pred=y_predict)\n",
    "    \n",
    "\n",
    "\n"
   ]
  },
  {
   "cell_type": "code",
   "execution_count": 14,
   "metadata": {},
   "outputs": [],
   "source": [
    "_result_keys=_model_results.keys()"
   ]
  },
  {
   "cell_type": "code",
   "execution_count": 23,
   "metadata": {},
   "outputs": [
    {
     "data": {
      "text/plain": [
       "50"
      ]
     },
     "execution_count": 23,
     "metadata": {},
     "output_type": "execute_result"
    }
   ],
   "source": [
    "clf.best_params_['C']"
   ]
  },
  {
   "cell_type": "code",
   "execution_count": 15,
   "metadata": {},
   "outputs": [],
   "source": [
    "test_accuracy_=pd.DataFrame(_model_results['test_accuracy']).round(2)\n",
    "train_accuracy_=pd.DataFrame(_model_results['train_accuracy']).round(2)\n",
    "\n",
    "%matplotlib inline\n",
    "import matplotlib.pyplot as plt\n",
    "T=1\n",
    "M=_xr\n",
    "_learning_results= {\n",
    "    'train_score': np.empty((M, T)),\n",
    "    'train_std': np.empty((M, T)),\n",
    "    'test_score': np.empty((M, T)),\n",
    "    'test_std': np.empty((M, T)),    \n",
    "}"
   ]
  },
  {
   "cell_type": "code",
   "execution_count": 21,
   "metadata": {},
   "outputs": [
    {
     "data": {
      "text/plain": [
       "[GridSearchCV(cv=5, error_score='raise',\n",
       "        estimator=SVC(C=1.0, cache_size=200, class_weight='balanced', coef0=0.0,\n",
       "   decision_function_shape='ovr', degree=3, gamma='auto', kernel='rbf',\n",
       "   max_iter=-1, probability=False, random_state=None, shrinking=True,\n",
       "   tol=0.001, verbose=False),\n",
       "        fit_params=None, iid=True, n_jobs=-1,\n",
       "        param_grid={'kernel': ['rbf'], 'C': [1, 5, 10, 25, 50], 'gamma': [0.0001, 0.001, 0.01]},\n",
       "        pre_dispatch='2*n_jobs', refit=True, return_train_score='warn',\n",
       "        scoring=None, verbose=1), GridSearchCV(cv=5, error_score='raise',\n",
       "        estimator=SVC(C=1.0, cache_size=200, class_weight='balanced', coef0=0.0,\n",
       "   decision_function_shape='ovr', degree=3, gamma='auto', kernel='rbf',\n",
       "   max_iter=-1, probability=False, random_state=None, shrinking=True,\n",
       "   tol=0.001, verbose=False),\n",
       "        fit_params=None, iid=True, n_jobs=-1,\n",
       "        param_grid={'kernel': ['rbf'], 'C': [1, 5, 10, 25, 50], 'gamma': [0.0001, 0.001, 0.01]},\n",
       "        pre_dispatch='2*n_jobs', refit=True, return_train_score='warn',\n",
       "        scoring=None, verbose=1)]"
      ]
     },
     "execution_count": 21,
     "metadata": {},
     "output_type": "execute_result"
    }
   ],
   "source": [
    "_clfs"
   ]
  },
  {
   "cell_type": "code",
   "execution_count": 17,
   "metadata": {},
   "outputs": [
    {
     "name": "stdout",
     "output_type": "stream",
     "text": [
      "('#of models:', 24)\n",
      "('for ticker:', 'ZLc1_3')\n",
      "('Doing Key:', 0)\n",
      "('Doing Key:', 1)\n",
      "('Doing Key:', 2)\n",
      "('Doing Key:', 3)\n",
      "('Doing Key:', 4)\n",
      "('Doing Key:', 5)\n",
      "('Doing Key:', 6)\n",
      "('Doing Key:', 7)\n",
      "('Doing Key:', 8)\n",
      "('Doing Key:', 9)\n",
      "('Doing Key:', 10)\n",
      "('Doing Key:', 11)\n",
      "('Doing Key:', 12)\n",
      "('Doing Key:', 13)\n",
      "('Doing Key:', 14)\n",
      "('Doing Key:', 15)\n",
      "('Doing Key:', 16)\n",
      "('Doing Key:', 17)\n",
      "('Doing Key:', 18)\n",
      "('Doing Key:', 19)\n",
      "('Doing Key:', 20)\n",
      "('Doing Key:', 21)\n",
      "('Doing Key:', 22)\n",
      "('Doing Key:', 23)\n"
     ]
    }
   ],
   "source": [
    "print(\"#of models:\",_xr)\n",
    "print(\"for ticker:\", ticker)\n",
    "all_train_scores_mean=[]\n",
    "all_train_scores_std=[]\n",
    "all_test_scores_mean=[]\n",
    "all_test_scores_std=[]\n",
    "for _idx in xrange(0, _xr): #replace this w _xr\n",
    "    # various types of labels\n",
    "    y_cc = _data[_keys[_idx]].iloc[:, 6].dropna().astype(int).values  # label_simple_ep_window_5_thresh_0.00-last 4 are NaN\n",
    "    y_duration = _data[_keys[_idx]].iloc[:, 3].dropna().astype(int).values\n",
    "    y_price = _data[_keys[_idx]].iloc[:, 1].dropna().astype(int).values # can be used for regression\n",
    "#     f= FloatProgress(min=0, max=100)\n",
    "#     display(f)\n",
    "#     f.value +=1\n",
    "\n",
    "    # feature set\n",
    "    _gamma = _features[_keys[_idx]][2]\n",
    "    _csi = _features[_keys[_idx]][3]\n",
    "    _info = _features[_keys[_idx]][1]\n",
    "    _fischer = _features[_keys[_idx]][0]\n",
    "    short_rolling = _data[_keys[_idx]]['TradedPrice'].rolling(window=5).mean()\n",
    "    long_rolling = _data[_keys[_idx]]['TradedPrice'].rolling(window=15).mean()\n",
    "    ma_signal = (long_rolling - short_rolling).fillna(0)\n",
    "    \n",
    "    df_features = pd.concat([_csi, _gamma, _fischer,_data[_keys[_idx]]['TradedPrice']], axis=1)\n",
    "    \n",
    "    df_features['MA_signal'] = df_features['TradedPrice'].rolling(window=15).mean()-df_features['TradedPrice'].rolling(window=5).mean()\n",
    "    df_features=df_features.dropna()\n",
    "        \n",
    "    \n",
    "    \n",
    "    y_ = y_cc\n",
    "    X, y = simpleInputs(df_features, y_)\n",
    "    X_p, y = simpleInputs(df_features['MA_signal'], y_)\n",
    "           \n",
    "    # # Train a SVM classification model\n",
    "\n",
    "    X_p= X_p.reshape(-1, 1)\n",
    "    X_mms = mms.fit_transform(X)\n",
    "    X,y = X_mms, y\n",
    "    \n",
    "    \n",
    "    # score curves, each time with 20% data randomly selected as a validation set.\n",
    "    train_sizes=np.linspace(.1, 1.0, 5)\n",
    "    title = str(ticker)+\" Learning Curves (SVM, RBF kernel, $\\gamma=0.001$)\"\n",
    "    # SVC is more expensive so we do a lower number of CV iterations:\n",
    "    cv = ShuffleSplit(n_splits=10, test_size=0.2, random_state=0)\n",
    "    \n",
    "    estimator = SVC(C=1.0, cache_size=200, class_weight='balanced', coef0=0.0,\n",
    "                    decision_function_shape='ovr', degree=3, gamma='auto', kernel='rbf',\n",
    "                    max_iter=-1, probability=False, random_state=None, shrinking=True,\n",
    "                    tol=0.001, verbose=False)\n",
    "    n_jobs=4\n",
    "    print ('Doing Key:', _idx)\n",
    "    train_sizes, train_scores, test_scores = learning_curve(\n",
    "        estimator, X, y, cv=cv, n_jobs=n_jobs, train_sizes=train_sizes)\n",
    "    all_train_scores_mean.append(np.mean(train_scores, axis=1))\n",
    "    all_train_scores_std.append(np.std(train_scores, axis=1))\n",
    "    all_test_scores_mean.append(np.mean(test_scores, axis=1))\n",
    "    all_test_scores_std.append(np.std(test_scores, axis=1))\n",
    " \n",
    " \n",
    "\n",
    "    \n",
    "\n",
    "    "
   ]
  },
  {
   "cell_type": "code",
   "execution_count": 39,
   "metadata": {},
   "outputs": [
    {
     "data": {
      "text/plain": [
       "(14313, 17)"
      ]
     },
     "execution_count": 39,
     "metadata": {},
     "output_type": "execute_result"
    }
   ],
   "source": [
    "X.shape"
   ]
  },
  {
   "cell_type": "code",
   "execution_count": 35,
   "metadata": {},
   "outputs": [
    {
     "data": {
      "image/png": "[encoded data removed]",
      "text/plain": [
       "<matplotlib.figure.Figure at 0x7fe45b2b3890>"
      ]
     },
     "metadata": {},
     "output_type": "display_data"
    }
   ],
   "source": [
    "all_train_scores_mean=np.array(all_train_scores_mean)\n",
    "all_test_scores_mean=np.array(all_test_scores_mean)\n",
    "\n",
    "_train_scores_std=all_train_scores_mean.std(axis=0)\n",
    "_train_scores_mean =all_train_scores_mean.mean(axis=0)\n",
    "\n",
    "_test_scores_std=all_test_scores_mean.std(axis=0)\n",
    "_test_scores_mean =all_test_scores_mean.mean(axis=0)\n",
    "plt.figure()\n",
    "title = str(ticker)+\" Learning Curves (SVM, RBF kernel, $\\gamma=0.001$)\"\n",
    "plt.title(title)\n",
    "ylim=None\n",
    "if ylim is not None:\n",
    "    plt.ylim(*ylim)\n",
    "plt.grid()\n",
    "plt.fill_between(train_sizes, _train_scores_mean - _train_scores_std,\n",
    "                     _train_scores_mean + _train_scores_std, alpha=0.2,\n",
    "                     color=\"r\")\n",
    "plt.fill_between(train_sizes, _test_scores_mean - _test_scores_std,\n",
    "                     _test_scores_mean + _test_scores_std, alpha=0.1,\n",
    "                     color=\"g\")\n",
    "plt.plot(train_sizes, _train_scores_mean, 'o-', color=\"r\",\n",
    "             label=\"Training score\")\n",
    "plt.plot(train_sizes, _test_scores_mean, 'o-', color=\"g\",\n",
    "             label=\"Cross-validation score\")\n",
    "plt.legend(loc=\"best\")\n",
    "plt.ylabel(\"score\")\n",
    "plt.savefig(figures_path+'learning_curves.png')\n",
    "plt.show()"
   ]
  },
  {
   "cell_type": "code",
   "execution_count": null,
   "metadata": {
    "collapsed": true
   },
   "outputs": [],
   "source": []
  },
  {
   "cell_type": "markdown",
   "metadata": {},
   "source": [
    "plt.plot(test_accuracy_)\n",
    "plt.plot(train_accuracy_, color='r')\n",
    "\n",
    "plt.title('Test Accuracy for ticker: '+str(ticker))\n",
    "plt.savefig(_graphs_path+str(ticker)+'_test_accuracy.png', dpi=300)"
   ]
  },
  {
   "cell_type": "markdown",
   "metadata": {},
   "source": [
    "## We will compare the HuberSVM with $l_1$, $l_2$ and elastic-net-regularized SVMs. We will optimize the regularization parameters for each SVM in nested cross validation with an outer loop of five folds and stratified sampling for accuracy."
   ]
  },
  {
   "cell_type": "code",
   "execution_count": 40,
   "metadata": {
    "collapsed": true
   },
   "outputs": [],
   "source": [
    "lasso = OneVsRestClassifier(Lasso())\n",
    "param_lasso = {'estimator__alpha': [ 1, 0.1, 1e-3]}\n",
    "\n",
    "elastic = OneVsRestClassifier(ElasticNet())\n",
    "param_elastic = {'estimator__alpha': [10, 1, 1e-3], \n",
    "                 'estimator__l1_ratio': np.linspace(0.01, 0.29, 5)}\n",
    "\n",
    "ridge = RidgeClassifier(solver='lsqr')\n",
    "param_ridge = {'alpha': [100, 10, 1, 0.1]}\n",
    "\n",
    "huber = OneVsRestClassifier(HuberSVC())\n",
    "param_huber = {'estimator__C': [100,1,1e-2, 1e-3], \n",
    "              'estimator__lambd': [10, 1, 0.1], \n",
    "              'estimator__mu': [ 10, 1, 0.1, 1e-2]}\n",
    "\n",
    "\n",
    "# huber = OneVsRestClassifier(HuberSVC())\n",
    "# param_huber = {'estimator__C': [100, 10, 1, 0.1, 1e-2, 1e-3], \n",
    "#               'estimator__lambd': [100, 10, 1, 0.1, 1e-2, 1e-3], \n",
    "#               'estimator__mu': [100, 10, 1, 0.1, 1e-2, 1e-3]}\n",
    "\n",
    "param_lr = {\n",
    "        'C':  np.arange(1.0, 3.0)\n",
    "         , 'solver': ['newton-cg']\n",
    "    }\n",
    "lr_clf = LogisticRegression(penalty='l2', random_state=777, max_iter=10000, tol=10)\n",
    "\n",
    "param_svc = dict(kernel=[\"linear\",\"rbf\"],C=[1,5,10,25,50],gamma=[0.0001,0.001,0.01])\n",
    "svc_clf = svm.SVC(class_weight='balanced')\n",
    "###see if the below works###\n",
    "n_folds = 5\n",
    "param_folds = 2\n",
    "scoring = 'accuracy'\n"
   ]
  },
  {
   "cell_type": "code",
   "execution_count": 41,
   "metadata": {},
   "outputs": [
    {
     "data": {
      "application/vnd.jupyter.widget-view+json": {
       "model_id": "9525a6452e30484995d25bd28b6002fb"
      }
     },
     "metadata": {},
     "output_type": "display_data"
    }
   ],
   "source": [
    "from ipywidgets import FloatProgress\n",
    "from IPython.display import display\n",
    "f= FloatProgress(min=0, max=100)\n",
    "display(f)\n",
    "f.value +=1"
   ]
  },
  {
   "cell_type": "code",
   "execution_count": 42,
   "metadata": {
    "collapsed": true
   },
   "outputs": [],
   "source": [
    "result_df = pd.DataFrame()\n",
    "best_clfs=[]\n",
    "# f= FloatProgress(min=0, max=100)y\n",
    "# display(f)\n",
    "cv=StratifiedKFold(n_splits=n_folds)\n",
    "\n",
    "for i, (train_index, test_index) in enumerate(cv.split(X,y)):\n",
    "    for clf_name, clf, param_grid in [('Lasso', lasso, param_lasso), \n",
    "                                      ('ElasticNet', elastic, param_elastic), \n",
    "                                      ('Ridge', ridge, param_ridge),\n",
    "                                      ('Logistic', lr_clf, param_lr),\n",
    "                                      ('SVC',svc_clf, param_svc),\n",
    "                                      ('HuberSVC', huber, param_huber)]:\n",
    "        X=X_mms\n",
    "        ##progress bar\n",
    "        \n",
    "#         f.value +=1\n",
    "#       ##main code\n",
    "        gs = GridSearchCV(clf, param_grid, scoring=scoring, cv=param_folds, n_jobs=-1, refit='AUC')\n",
    "        gs.fit(X[train_index], y[train_index])\n",
    "        best_clf = gs.best_estimator_\n",
    "        best_clfs.append(best_clf)\n",
    "\n",
    "        score = accuracy_score(y[test_index], best_clf.predict(X[test_index]))\n",
    "        result_df.loc[i, clf_name] = score\n",
    "        "
   ]
  },
  {
   "cell_type": "code",
   "execution_count": 43,
   "metadata": {},
   "outputs": [
    {
     "data": {
      "text/html": [
       "<div>\n",
       "<style scoped>\n",
       "    .dataframe tbody tr th:only-of-type {\n",
       "        vertical-align: middle;\n",
       "    }\n",
       "\n",
       "    .dataframe tbody tr th {\n",
       "        vertical-align: top;\n",
       "    }\n",
       "\n",
       "    .dataframe thead th {\n",
       "        text-align: right;\n",
       "    }\n",
       "</style>\n",
       "<table border=\"1\" class=\"dataframe\">\n",
       "  <thead>\n",
       "    <tr style=\"text-align: right;\">\n",
       "      <th></th>\n",
       "      <th>Lasso</th>\n",
       "      <th>ElasticNet</th>\n",
       "      <th>Ridge</th>\n",
       "      <th>Logistic</th>\n",
       "      <th>SVC</th>\n",
       "      <th>HuberSVC</th>\n",
       "    </tr>\n",
       "  </thead>\n",
       "  <tbody>\n",
       "    <tr>\n",
       "      <th>0</th>\n",
       "      <td>0.773</td>\n",
       "      <td>0.689</td>\n",
       "      <td>0.691</td>\n",
       "      <td>0.721</td>\n",
       "      <td>0.614</td>\n",
       "      <td>0.689</td>\n",
       "    </tr>\n",
       "    <tr>\n",
       "      <th>1</th>\n",
       "      <td>0.692</td>\n",
       "      <td>0.689</td>\n",
       "      <td>0.690</td>\n",
       "      <td>0.699</td>\n",
       "      <td>0.819</td>\n",
       "      <td>0.779</td>\n",
       "    </tr>\n",
       "    <tr>\n",
       "      <th>2</th>\n",
       "      <td>0.698</td>\n",
       "      <td>0.689</td>\n",
       "      <td>0.699</td>\n",
       "      <td>0.717</td>\n",
       "      <td>0.810</td>\n",
       "      <td>0.778</td>\n",
       "    </tr>\n",
       "    <tr>\n",
       "      <th>3</th>\n",
       "      <td>0.698</td>\n",
       "      <td>0.689</td>\n",
       "      <td>0.721</td>\n",
       "      <td>0.735</td>\n",
       "      <td>0.742</td>\n",
       "      <td>0.791</td>\n",
       "    </tr>\n",
       "    <tr>\n",
       "      <th>4</th>\n",
       "      <td>0.692</td>\n",
       "      <td>0.690</td>\n",
       "      <td>0.718</td>\n",
       "      <td>0.742</td>\n",
       "      <td>0.681</td>\n",
       "      <td>0.781</td>\n",
       "    </tr>\n",
       "    <tr>\n",
       "      <th>Mean</th>\n",
       "      <td>0.710</td>\n",
       "      <td>0.689</td>\n",
       "      <td>0.704</td>\n",
       "      <td>0.723</td>\n",
       "      <td>0.733</td>\n",
       "      <td>0.764</td>\n",
       "    </tr>\n",
       "  </tbody>\n",
       "</table>\n",
       "</div>"
      ],
      "text/plain": [
       "      Lasso  ElasticNet  Ridge  Logistic   SVC  HuberSVC\n",
       "0     0.773       0.689  0.691     0.721 0.614     0.689\n",
       "1     0.692       0.689  0.690     0.699 0.819     0.779\n",
       "2     0.698       0.689  0.699     0.717 0.810     0.778\n",
       "3     0.698       0.689  0.721     0.735 0.742     0.791\n",
       "4     0.692       0.690  0.718     0.742 0.681     0.781\n",
       "Mean  0.710       0.689  0.704     0.723 0.733     0.764"
      ]
     },
     "execution_count": 43,
     "metadata": {},
     "output_type": "execute_result"
    }
   ],
   "source": [
    "result_df.loc['Mean'] = result_df.mean()\n",
    "pd.set_option('display.max_columns', None)\n",
    "pd.set_option('display.max_rows', None)\n",
    "pd.options.display.float_format = '{:,.3f}'.format\n",
    "result_df"
   ]
  },
  {
   "cell_type": "code",
   "execution_count": null,
   "metadata": {
    "collapsed": true
   },
   "outputs": [],
   "source": []
  },
  {
   "cell_type": "code",
   "execution_count": 58,
   "metadata": {},
   "outputs": [
    {
     "data": {
      "image/png": "[encoded data removed]",
      "text/plain": [
       "<matplotlib.figure.Figure at 0x7f3d25203090>"
      ]
     },
     "metadata": {},
     "output_type": "display_data"
    }
   ],
   "source": [
    "import seaborn as sns; \n",
    "sns.set()\n",
    "sns_plot= sns.heatmap(result_df,annot=True,cmap=\"YlGnBu\")\n",
    "sns_plot.figure.savefig(figures_path+'multiple_models.png')"
   ]
  },
  {
   "cell_type": "markdown",
   "metadata": {},
   "source": [
    "plt.figure(figsize=(13, 13))\n",
    "plt.title(\"GridSearchCV evaluating using multiple scorers simultaneously\",\n",
    "          fontsize=16)\n",
    "\n",
    "plt.xlabel(\"min_samples_split\")\n",
    "plt.ylabel(\"Score\")\n",
    "plt.grid()\n",
    "\n",
    "ax = plt.axes()\n",
    "ax.set_xlim(0, 402)\n",
    "ax.set_ylim(0.73, 1)\n",
    "\n",
    "# Get the regular numpy array from the MaskedArray\n",
    "X_axis = np.array(results['param_min_samples_split'].data, dtype=float)\n",
    "\n",
    "for scorer, color in zip(sorted(scoring), ['g', 'k']):\n",
    "    for sample, style in (('train', '--'), ('test', '-')):\n",
    "        sample_score_mean = results['mean_%s_%s' % (sample, scorer)]\n",
    "        sample_score_std = results['std_%s_%s' % (sample, scorer)]\n",
    "        ax.fill_between(X_axis, sample_score_mean - sample_score_std,\n",
    "                        sample_score_mean + sample_score_std,\n",
    "                        alpha=0.1 if sample == 'test' else 0, color=color)\n",
    "        ax.plot(X_axis, sample_score_mean, style, color=color,\n",
    "                alpha=1 if sample == 'test' else 0.7,\n",
    "                label=\"%s (%s)\" % (scorer, sample))\n",
    "\n",
    "    best_index = np.nonzero(results['rank_test_%s' % scorer] == 1)[0][0]\n",
    "    best_score = results['mean_test_%s' % scorer][best_index]\n",
    "\n",
    "    # Plot a dotted vertical line at the best score for that scorer marked by x\n",
    "    ax.plot([X_axis[best_index], ] * 2, [0, best_score],\n",
    "            linestyle='-.', color=color, marker='x', markeredgewidth=3, ms=8)\n",
    "\n",
    "    # Annotate the best score for that scorer\n",
    "    ax.annotate(\"%0.2f\" % best_score,\n",
    "                (X_axis[best_index], best_score + 0.005))\n",
    "\n",
    "plt.legend(loc=\"best\")\n",
    "plt.grid('off')\n",
    "plt.show()"
   ]
  },
  {
   "cell_type": "code",
   "execution_count": null,
   "metadata": {
    "collapsed": true
   },
   "outputs": [],
   "source": [
    "np.array(results)"
   ]
  },
  {
   "cell_type": "code",
   "execution_count": null,
   "metadata": {
    "collapsed": true
   },
   "outputs": [],
   "source": []
  },
  {
   "cell_type": "code",
   "execution_count": null,
   "metadata": {
    "collapsed": true
   },
   "outputs": [],
   "source": []
  }
 ],
 "metadata": {
  "kernelspec": {
   "display_name": "Python 3",
   "language": "python",
   "name": "python3"
  },
  "language_info": {
   "codemirror_mode": {
    "name": "ipython",
    "version": 3
   },
   "file_extension": ".py",
   "mimetype": "text/x-python",
   "name": "python",
   "nbconvert_exporter": "python",
   "pygments_lexer": "ipython3",
   "version": "3.6.8"
  }
 },
 "nbformat": 4,
 "nbformat_minor": 2
}
