{
 "cells": [
  {
   "cell_type": "code",
   "execution_count": 2,
   "metadata": {},
   "outputs": [
    {
     "name": "stdout",
     "output_type": "stream",
     "text": [
      "polynomial(degree=4,gamma=1.0,b=1.0)\n",
      "gaussian(sigma=2.0)\n",
      "linear\n"
     ]
    },
    {
     "data": {
      "text/plain": [
       "'gaussian(sigma=2.0)'"
      ]
     },
     "execution_count": 2,
     "metadata": {},
     "output_type": "execute_result"
    }
   ],
   "source": [
    "\n",
    "import pandas as pd\n",
    "import numpy as np\n",
    "import sklearn.svm as svm\n",
    "import pickle\n",
    "import os\n",
    "\n",
    "## kernel imports \n",
    "import traceback\n",
    "import warnings\n",
    "from kernelmethods import KernelMatrix\n",
    "from kernelmethods import PolyKernel, GaussianKernel, LinearKernel\n",
    "import seaborn as sns\n",
    "import matplotlib.pyplot as plt\n",
    "# plt.style.use('classic')\n",
    "\n",
    "\n",
    "\n",
    "poly = PolyKernel(degree=4)\n",
    "rbf = GaussianKernel()\n",
    "linear = LinearKernel()\n",
    "# you can print/present then in many ways\n",
    "print(poly)\n",
    "print(rbf)\n",
    "print(linear)\n",
    "repr(rbf)\n",
    "\n",
    "\n",
    "\n"
   ]
  },
  {
   "cell_type": "code",
   "execution_count": 3,
   "metadata": {},
   "outputs": [],
   "source": [
    "\n",
    "'''\n",
    "file to create all the various plots for each of the symbols for each of the days\n",
    "'''\n",
    "\n",
    "\n",
    "### functions ###\n",
    "def open_pickle_file(path, pickle_file):\n",
    "    file_loc = os.path.join(path, pickle_file)\n",
    "    pickle_to_file = pkl.load(open(file_loc, \"rb\"), encoding='iso-8859-1')\n",
    "    return pickle_to_file\n",
    "\n",
    "\n",
    "def featureCreation4Viz(idxKey, locDict):\n",
    "    ''' gives out clean features and labels for a given locDict and a idxKey\n",
    "        use idxKey to inser a key from the locDict keys\n",
    "        so for a particular day based on the key we get features and labels here\n",
    "        returns features, labels in one data frame\n",
    "    '''\n",
    "    keys = list(locDict.keys())\n",
    "    featuresIdxDirFileLoc = locDict[keys[idxKey]][0]\n",
    "    labelsIdxDirFileLoc = locDict[keys[idxKey]][1]\n",
    "    ''' read the features file'''\n",
    "    featuresTupleFile = pkl.load(open(featuresIdxDirFileLoc, \"rb\"), encoding='latin1')\n",
    "    dfFeatures = pd.concat([featuresTupleFile[0], featuresTupleFile[1], \\\n",
    "                            featuresTupleFile[2], featuresTupleFile[3]], axis=1, sort=False).fillna(0)\n",
    "    ''' read the labels file'''\n",
    "    labelsDf = pd.read_csv(labelsIdxDirFileLoc)\n",
    "    ''' pop the labels out'''\n",
    "    labels = labelsDf['label_PrMov__window_5__thres_arbitrary__0.1']\n",
    "    '''dataframe of Features and Labels - X and Y'''\n",
    "    dfXY = pd.concat([dfFeatures, labels], axis=1, sort='False').dropna()\n",
    "\n",
    "    return dfXY"
   ]
  },
  {
   "cell_type": "code",
   "execution_count": 4,
   "metadata": {},
   "outputs": [],
   "source": [
    "figuresDestination ='/home/ak/Documents/Research/Papers/figures/'\n",
    "hardDriveLoc = '/media/ak/'\n",
    "dataOnlyFolder = '/media/ak/DataOnly'  # external date only drive\n",
    "symbolFeaturesDirectories  = os.path.join(dataOnlyFolder, 'SymbolFeatureDirectories')\n",
    "ExperimentCommonLocs = os.path.join(dataOnlyFolder,'ExperimentCommonLocs')\n",
    "\n",
    "labelsLocations = {'One': os.path.join(ExperimentCommonLocs, 'LabelsAlternateOne'),\n",
    "                   'Two': os.path.join(ExperimentCommonLocs, 'LabelsAlternateTwo'),\n",
    "                   'Three': os.path.join(ExperimentCommonLocs, 'LabelsAlternateThree'),\n",
    "                   'Four': os.path.join(ExperimentCommonLocs, 'LabelsAlternateFour'),\n",
    "                   'File':os.path.join(ExperimentCommonLocs, 'LabelsAlternateFive'),\n",
    "                   'Six': os.path.join(ExperimentCommonLocs, 'LabelsAlternateSix')}\n",
    "\n",
    "# symbols\n",
    "\n",
    "symbols = sorted(os.listdir(symbolFeaturesDirectories))"
   ]
  },
  {
   "cell_type": "code",
   "execution_count": 6,
   "metadata": {},
   "outputs": [
    {
     "name": "stdout",
     "output_type": "stream",
     "text": [
      "you chose symbol: ITV.L\n",
      "your features are here-in pickle format: /media/ak/DataOnly/SymbolFeatureDirectories/ITV.L/MODEL_BASED\n",
      "you are picking Label Two\n"
     ]
    }
   ],
   "source": [
    "symbolIdx = 14\n",
    "symbolSpecificFeaturesDirectors = os.path.join(symbolFeaturesDirectories, sorted(symbols)[symbolIdx])\n",
    "print('you chose symbol:', sorted(symbols)[symbolIdx])\n",
    "symbolFeaturesLocation = \"/\".join((symbolSpecificFeaturesDirectors, 'MODEL_BASED'))  # where all the HMM output is\n",
    "print('your features are here-in pickle format:',symbolFeaturesLocation)\n",
    "# and a label Idx\n",
    "labelsIdx = 'Two'\n",
    "print('you are picking Label', labelsIdx)\n",
    "LabelsFilesPath = os.path.join(labelsLocations[str(labelsIdx)], sorted(symbols)[symbolIdx])\n",
    "LabelsFiles = os.listdir(LabelsFilesPath)\n",
    "\n",
    "dates = os.listdir(symbolFeaturesLocation)\n"
   ]
  },
  {
   "cell_type": "code",
   "execution_count": null,
   "metadata": {},
   "outputs": [],
   "source": []
  }
 ],
 "metadata": {
  "kernelspec": {
   "display_name": "Python 3",
   "language": "python",
   "name": "python3"
  },
  "language_info": {
   "codemirror_mode": {
    "name": "ipython",
    "version": 3
   },
   "file_extension": ".py",
   "mimetype": "text/x-python",
   "name": "python",
   "nbconvert_exporter": "python",
   "pygments_lexer": "ipython3",
   "version": "3.6.8"
  }
 },
 "nbformat": 4,
 "nbformat_minor": 2
}
