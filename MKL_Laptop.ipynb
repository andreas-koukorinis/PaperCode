{
 "cells": [
  {
   "cell_type": "code",
   "execution_count": 1,
   "metadata": {},
   "outputs": [
    {
     "data": {
      "text/plain": [
       "{'divide': 'warn', 'over': 'warn', 'under': 'ignore', 'invalid': 'warn'}"
      ]
     },
     "execution_count": 1,
     "metadata": {},
     "output_type": "execute_result"
    }
   ],
   "source": [
    "from MKLpy.preprocessing import normalization, rescale_01\n",
    "from sklearn.metrics.pairwise import rbf_kernel as RBF\n",
    "import os\n",
    "import pandas as pd\n",
    "import numpy as np\n",
    "import pickle as pkl\n",
    "from MKLpy.metrics.pairwise.misc import homogeneous_polynomial_kernel as HPK_kernel\n",
    "np.seterr(divide='ignore', invalid='ignore')"
   ]
  },
  {
   "cell_type": "code",
   "execution_count": 37,
   "metadata": {},
   "outputs": [],
   "source": [
    "extPath= '/media/ak/My Passport/Experiment Data'\n",
    "featuresPath =\"/\".join((extPath,'features'))\n",
    "labelsPath =\"/\".join((extPath,'labels'))\n",
    "symbols = list(set(os.listdir(featuresPath))& set(os.listdir(labelsPath)))\n",
    "MKLExpPath = \"/\".join((MKLPath,symbol,'Experiments' )) #symbol is in symbols\n",
    "MKLSymbolPath = \"/\".join((MKLPath,symbol)) #symbol is in symbols\n",
    "MKLKernPath = \"/\".join((MKLPath,symbol,'Kernels' )) #symbol is in symbols"
   ]
  },
  {
   "cell_type": "code",
   "execution_count": 44,
   "metadata": {},
   "outputs": [],
   "source": [
    "def checkDir(dirLoc):\n",
    "    print\n",
    "    if os.path.exists(dirLoc):  # Checks if the dir exists\n",
    "        print(\"The directory exists\")\n",
    "    else:\n",
    "        print(\"No directory found for \" + dirLoc)  # Output if no directory"
   ]
  },
  {
   "cell_type": "code",
   "execution_count": 7,
   "metadata": {},
   "outputs": [
    {
     "name": "stdout",
     "output_type": "stream",
     "text": [
      "Successfully created the directory /media/ak/My Passport/Experiment Data/MKLExpPath \n"
     ]
    }
   ],
   "source": [
    "MKLPath = \"/\".join((extPath,'MKLExpPath'))\n",
    "\n",
    "path =MKLPath\n",
    "try:\n",
    "    os.mkdir(path)\n",
    "except OSError:\n",
    "    print (\"Creation of the directory %s failed\" % path)\n",
    "else:\n",
    "    print (\"Successfully created the directory %s \" % path)"
   ]
  },
  {
   "cell_type": "code",
   "execution_count": null,
   "metadata": {},
   "outputs": [],
   "source": []
  },
  {
   "cell_type": "markdown",
   "metadata": {},
   "source": [
    "\n",
    "try:\n",
    "    os.mkdir(path)\n",
    "except OSError:\n",
    "    print (\"Creation of the directory %s failed\" % path)\n",
    "else:\n",
    "    print (\"Successfully created the directory %s \" % path)"
   ]
  },
  {
   "cell_type": "code",
   "execution_count": 46,
   "metadata": {},
   "outputs": [],
   "source": [
    "symbolIdx =2\n",
    "symbol =symbols[symbolIdx]\n",
    "symbolFeaturesLocation = \"/\".join((featuresPath,symbol,'MODEL_BASED'))\n",
    "symbolLabelsLocation = \"/\".join((labelsPath,symbol,'NON_DIRECTIONAL')) #location of labels for each symbol\n",
    "symbolHMMDatesList = os.listdir(symbolFeaturesLocation) \n",
    "# list of all the MODEL dates we have generated features files for. each #\n",
    "# each of these dates in symbolFeaturesDates corresponds to a list of dates\n",
    "# (symbolHMMDatesList = '20170829', '20170710', '20170801', ... ]\n",
    "symbolLabelsDates = [dateFile.split(\".\")[0] for dateFile in os.listdir(symbolLabelsLocation)]"
   ]
  },
  {
   "cell_type": "code",
   "execution_count": 47,
   "metadata": {},
   "outputs": [],
   "source": [
    "# now lets go down into each HMM-model date, and pick all the forward futures (out of sample)\n",
    "hmmFeatureLocations = {}  # symbol-hmm-model-date index --> this is the indexation in symbolFeaturesDatesList\n",
    "commonDatesDict = {}  # this is a struct that will contain for each HMM date, the common labels/features- this should\n",
    "# be used for training and testing\n",
    "createDate = []  # place holder for the hash key of when the features got created\n",
    "symbolEachModelFeaturesDates = {}\n",
    "HMMModelFeaturesLabelsCommon = {}  # location dictionary with 2 keys: HMM Date and Common Date\n",
    "commonDates = []\n",
    "\n",
    "LocDictsList = []"
   ]
  },
  {
   "cell_type": "code",
   "execution_count": 53,
   "metadata": {},
   "outputs": [
    {
     "ename": "IndexError",
     "evalue": "list index out of range",
     "output_type": "error",
     "traceback": [
      "\u001b[0;31m-----------------------------------------\u001b[0m",
      "\u001b[0;31mIndexError\u001b[0mTraceback (most recent call last)",
      "\u001b[0;32m<ipython-input-53-7b2532077a36>\u001b[0m in \u001b[0;36m<module>\u001b[0;34m\u001b[0m\n\u001b[1;32m      1\u001b[0m \u001b[0mhmmDateIdx\u001b[0m\u001b[0;34m=\u001b[0m\u001b[0;36m1\u001b[0m\u001b[0;34m\u001b[0m\u001b[0;34m\u001b[0m\u001b[0m\n\u001b[0;32m----> 2\u001b[0;31m \u001b[0msymbolModelFeaturesDate\u001b[0m \u001b[0;34m=\u001b[0m \u001b[0mos\u001b[0m\u001b[0;34m.\u001b[0m\u001b[0mpath\u001b[0m\u001b[0;34m.\u001b[0m\u001b[0mjoin\u001b[0m\u001b[0;34m(\u001b[0m\u001b[0msymbolFeaturesLocation\u001b[0m\u001b[0;34m,\u001b[0m \u001b[0msymbolHMMDatesList\u001b[0m\u001b[0;34m[\u001b[0m\u001b[0mhmmDateIdx\u001b[0m\u001b[0;34m]\u001b[0m\u001b[0;34m)\u001b[0m\u001b[0;34m\u001b[0m\u001b[0;34m\u001b[0m\u001b[0m\n\u001b[0m",
      "\u001b[0;31mIndexError\u001b[0m: list index out of range"
     ]
    }
   ],
   "source": [
    "hmmDateIdx=1\n",
    "symbolModelFeaturesDate = os.path.join(symbolFeaturesLocation, symbolHMMDatesList[hmmDateIdx])\n"
   ]
  },
  {
   "cell_type": "code",
   "execution_count": 52,
   "metadata": {},
   "outputs": [],
   "source": [
    "for hmmDateIdx, hmmDate in enumerate(sorted(symbolHMMDatesList)):\n",
    "    symbolModelFeaturesDate = os.path.join(symbolFeaturesLocation, symbolHMMDatesList[hmmDateIdx])\n",
    "    create_date = os.listdir(symbolModelFeaturesDate)[3].split(\"_\")[-2]\n",
    "    # output looks like this: /media/ak/DataOnly/FinDataReal/PRU.L/MODEL_BASED/20170710\n",
    "    symbolEachModelFeaturesDates[symbolHMMDatesList[hmmDateIdx]] = [file.split(\"_\")[5] for file in\n",
    "                                                                    os.listdir(symbolModelFeaturesDate)]\n",
    "    # output is a dictionary where the keys are the HMM models dates and the values a list of dates - for each HMM\n",
    "    # date we have a list of features\n",
    "    for keyHMMDate in sorted(list(symbolEachModelFeaturesDates.keys())):  # for each of the HMM model dates\n",
    "        print(keyHMMDate)\n",
    "        common_dates = list(set(symbolEachModelFeaturesDates[keyHMMDate]) & set(symbolLabelsDates))\n",
    "        # take the list of feature dates (conditional on HMM model date) + the list of labels -intersection!\n",
    "\n",
    "        '''we now produce a dict for each HMM model, where each value is a list of common dates and we are key-ed by \n",
    "        the HMM Date '''\n",
    "        commonDatesDict[keyHMMDate] = common_dates\n",
    "        for commonDate in common_dates:\n",
    "            '''iterate through all the common dates and figure out the location of each file for labels and \n",
    "            features '''\n",
    "            labelsCommonFileLoc = \"/\".join((symbolLabelsLocation, \".\".join((commonDate, 'csv'))))\n",
    "            #             comnDateFeatureLocMaster = os.path.join((symbolModelFeaturesDate, commonDate))\n",
    "            commonDatesFeatureFile = \"\".join(\n",
    "                (symbols[symbolIdx], '_3_states_features_date:_', commonDate, \"_now:_\", create_date, \"_.pickle\"))\n",
    "            FeatureFileLoc = os.path.join(symbolModelFeaturesDate, commonDatesFeatureFile)\n",
    "            checkDir(FeatureFileLoc)\n",
    "            checkDir(labelsCommonFileLoc)\n",
    "            conditions = [os.path.exists(FeatureFileLoc), os.path.exists(labelsCommonFileLoc)]\n",
    "            print(conditions)\n",
    "            if all(conditions):\n",
    "                print('all good on Date:', commonDate)\n",
    "                HMMModelFeaturesLabelsCommon[keyHMMDate, commonDate] = [FeatureFileLoc, labelsCommonFileLoc]\n",
    "                pkl.dump(HMMModelFeaturesLabelsCommon,\n",
    "                         open(\"/\".join((MKLSymbolPath, \"LocDictsListCorrect.pkl\")), \"wb\"))\n",
    "\n",
    "            else:\n",
    "                print('problem on date: ', commonDate)\n",
    "                continue\n",
    "            pkl.dump(commonDatesDict,\n",
    "                     open(\"/\".join((MKLSymbolPath, \"CommonLocationsDicts.pkl\")), \"wb\"))\n",
    "\n",
    "    # LocDictsList.extend(commonDatesDict)\n",
    "    # LocDictsList.extend(HMMModelFeaturesLabelsCommon)\n",
    "\n",
    "# return LocDictsList\n"
   ]
  },
  {
   "cell_type": "code",
   "execution_count": null,
   "metadata": {},
   "outputs": [],
   "source": []
  }
 ],
 "metadata": {
  "kernelspec": {
   "display_name": "Python 3",
   "language": "python",
   "name": "python3"
  },
  "language_info": {
   "codemirror_mode": {
    "name": "ipython",
    "version": 3
   },
   "file_extension": ".py",
   "mimetype": "text/x-python",
   "name": "python",
   "nbconvert_exporter": "python",
   "pygments_lexer": "ipython3",
   "version": "3.6.8"
  }
 },
 "nbformat": 4,
 "nbformat_minor": 2
}
