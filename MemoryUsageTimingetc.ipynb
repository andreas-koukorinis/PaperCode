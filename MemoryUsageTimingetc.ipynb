{
 "cells": [
  {
   "cell_type": "code",
   "execution_count": 2,
   "metadata": {},
   "outputs": [],
   "source": [
    "import os\n",
    "import psutil\n",
    "import sys\n",
    "import traceback\n",
    "\n",
    "PROCESS = psutil.Process(os.getpid())\n",
    "MEGA = 10 ** 6\n",
    "MEGA_STR = ' ' * MEGA\n",
    "\n",
    "\n",
    "# def main():\n",
    "#     try:\n",
    "#         print_memory_usage()\n",
    "#         alloc_max_str()\n",
    "#         alloc_max_array()\n",
    "#     except MemoryError as error:\n",
    "#         # Output expected MemoryErrors.\n",
    "#         log_exception(error)\n",
    "#     except Exception as exception:\n",
    "#         # Output unexpected Exceptions.\n",
    "#         log_exception(exception, False)\n",
    "\n",
    "\n"
   ]
  },
  {
   "cell_type": "code",
   "execution_count": 3,
   "metadata": {},
   "outputs": [],
   "source": [
    "def print_memory_usage():\n",
    "    \"\"\"Prints current memory usage stats.\n",
    "    See: https://stackoverflow.com/a/15495136\n",
    "\n",
    "    :return: None\n",
    "    \"\"\"\n",
    "    total, available, percent, used, free = psutil.virtual_memory()\n",
    "    total, available, used, free = total / MEGA, available / MEGA, used / MEGA, free / MEGA\n",
    "    proc = PROCESS.memory_info()[1] / MEGA\n",
    "    print('process = %s total = %s available = %s used = %s free = %s percent = %s'\n",
    "          % (proc, total, available, used, free, percent))"
   ]
  },
  {
   "cell_type": "code",
   "execution_count": 8,
   "metadata": {},
   "outputs": [],
   "source": [
    "psutil.virtual_memory?"
   ]
  },
  {
   "cell_type": "code",
   "execution_count": 9,
   "metadata": {},
   "outputs": [
    {
     "data": {
      "text/plain": [
       "svmem(total=33650335744, available=5479288832, percent=83.7, used=27502034944, free=5000646656, active=25351757824, inactive=2191015936, buffers=68370432, cached=1079283712, shared=188436480, slab=535916544)"
      ]
     },
     "execution_count": 9,
     "metadata": {},
     "output_type": "execute_result"
    }
   ],
   "source": [
    "psutil.virtual_memory()"
   ]
  },
  {
   "cell_type": "code",
   "execution_count": null,
   "metadata": {},
   "outputs": [],
   "source": []
  }
 ],
 "metadata": {
  "kernelspec": {
   "display_name": "Python 3",
   "language": "python",
   "name": "python3"
  },
  "language_info": {
   "codemirror_mode": {
    "name": "ipython",
    "version": 3
   },
   "file_extension": ".py",
   "mimetype": "text/x-python",
   "name": "python",
   "nbconvert_exporter": "python",
   "pygments_lexer": "ipython3",
   "version": "3.6.8"
  }
 },
 "nbformat": 4,
 "nbformat_minor": 2
}
