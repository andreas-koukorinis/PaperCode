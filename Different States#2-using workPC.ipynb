{
 "cells": [
  {
   "cell_type": "code",
   "execution_count": 2,
   "metadata": {
    "collapsed": true
   },
   "outputs": [],
   "source": [
    "import sys\n",
    "import numpy as np\n",
    "import os\n",
    "import pandas as pd\n",
    "import pickle\n",
    "sys.path.append('/home/ak/Documents/Research/hsmm/')\n",
    "_features_path= '/home/ak/Documents/Data/features_test/' #directory to save data\n",
    "_path=os.getenv('FINANCE_DATA')\n",
    "import matplotlib.pyplot as plt"
   ]
  },
  {
   "cell_type": "code",
   "execution_count": 2,
   "metadata": {},
   "outputs": [
    {
     "data": {
      "text/plain": [
       "['EEM', 'HSBA', 'JPM.N', 'GOOG', 'SYNT', 'mySYNT']"
      ]
     },
     "execution_count": 2,
     "metadata": {},
     "output_type": "execute_result"
    }
   ],
   "source": [
    "os.listdir(_path)\n",
    "#_path"
   ]
  },
  {
   "cell_type": "code",
   "execution_count": 3,
   "metadata": {
    "collapsed": true
   },
   "outputs": [],
   "source": [
    "from hsmm_core.observation_models import *\n",
    "from hsmm_core.hmm import *\n",
    "from hsmm_core.hmm_utils import load_data\n",
    "from hsmm_core.prediction_engines import *"
   ]
  },
  {
   "cell_type": "code",
   "execution_count": 4,
   "metadata": {
    "collapsed": true
   },
   "outputs": [],
   "source": [
    "##useful functions##\n",
    "def listdirs(folder): #return only directories from a master folder\n",
    "    return [d for d in os.listdir(folder) if os.path.isdir(os.path.join(folder, d))]"
   ]
  },
  {
   "cell_type": "markdown",
   "metadata": {},
   "source": [
    "_no=8\n",
    "ticker = symbols[_no]\n",
    "\n",
    "data_path=os.path.join(_features_path_path+ticker)\n",
    "#listdirs(data_path)\n",
    "ticker"
   ]
  },
  {
   "cell_type": "code",
   "execution_count": 9,
   "metadata": {
    "collapsed": true
   },
   "outputs": [],
   "source": [
    "no_days=len(os.listdir(os.path.join(_path+ticker)))\n",
    "_dates=os.listdir(os.path.join(_path+ticker))"
   ]
  },
  {
   "cell_type": "code",
   "execution_count": 27,
   "metadata": {},
   "outputs": [
    {
     "data": {
      "text/plain": [
       "5"
      ]
     },
     "execution_count": 27,
     "metadata": {},
     "output_type": "execute_result"
    }
   ],
   "source": [
    "no_days"
   ]
  },
  {
   "cell_type": "code",
   "execution_count": 10,
   "metadata": {},
   "outputs": [
    {
     "data": {
      "text/plain": [
       "'/home/ak/Data/FinData/JPM.N'"
      ]
     },
     "execution_count": 10,
     "metadata": {},
     "output_type": "execute_result"
    }
   ],
   "source": [
    "os.path.join(_path+ticker)"
   ]
  },
  {
   "cell_type": "code",
   "execution_count": 11,
   "metadata": {
    "collapsed": true
   },
   "outputs": [],
   "source": [
    "n_hidden_states = 2\n",
    "ticker='JPM.N'\n",
    "\n",
    "zero_pc_threshold = 1e-5\n",
    "init_params = {\n",
    "    \"obs_model_params\": {\n",
    "                                'epsilon': zero_pc_threshold,\n",
    "                                'obs_model_name': 'ExpUniGauss',\n",
    "                                'init_params': {'epsilon': zero_pc_threshold},\n",
    "                                'em_init_method': initialization_method.cluster\n",
    "\n",
    "    },\n",
    "    \"hidden_model_params\": {\n",
    "                                'no_hidden_states': n_hidden_states,\n",
    "                                # 'pi':startprob,\n",
    "                                # 'tpm': transmat\n",
    "                                'em_init_method': initialization_method.uniform\n",
    "    },\n",
    "    \"update_tag\": 'tpsml'\n",
    "}\n",
    "\n"
   ]
  },
  {
   "cell_type": "code",
   "execution_count": 12,
   "metadata": {},
   "outputs": [
    {
     "data": {
      "text/plain": [
       "2"
      ]
     },
     "execution_count": 12,
     "metadata": {},
     "output_type": "execute_result"
    }
   ],
   "source": [
    "type(init_params)\n",
    "_params=init_params.keys()\n",
    "init_params[_params[0]].keys()\n",
    "init_params[\"hidden_model_params\"][\"no_hidden_states\"]"
   ]
  },
  {
   "cell_type": "code",
   "execution_count": 1,
   "metadata": {
    "collapsed": true
   },
   "outputs": [
    {
     "ename": "NameError",
     "evalue": "name 'load_data' is not defined",
     "output_type": "error",
     "traceback": [
      "\u001b[0;31m--------------------------------------------------------------------\u001b[0m",
      "\u001b[0;31mNameError\u001b[0m                          Traceback (most recent call last)",
      "\u001b[0;32m<ipython-input-1-e5344e491ace>\u001b[0m in \u001b[0;36m<module>\u001b[0;34m()\u001b[0m\n\u001b[0;32m----> 1\u001b[0;31m data_dic, data_sampling_tag = load_data(ticker, resample=None,\n\u001b[0m\u001b[1;32m      2\u001b[0m                                         \u001b[0mno_of_days\u001b[0m\u001b[0;34m=\u001b[0m\u001b[0mno_days\u001b[0m\u001b[0;34m,\u001b[0m\u001b[0;34m\u001b[0m\u001b[0m\n\u001b[1;32m      3\u001b[0m                                        \u001b[0;31m# file_name=['20090106.csv'],\u001b[0m\u001b[0;34m\u001b[0m\u001b[0;34m\u001b[0m\u001b[0m\n\u001b[1;32m      4\u001b[0m                                        \u001b[0mload_columns\u001b[0m\u001b[0;34m=\u001b[0m\u001b[0;34m[\u001b[0m\u001b[0;34m'TradedTime'\u001b[0m\u001b[0;34m,\u001b[0m \u001b[0;34m'Duration'\u001b[0m\u001b[0;34m,\u001b[0m\u001b[0;34m'TradedPrice'\u001b[0m\u001b[0;34m,\u001b[0m \u001b[0;34m'ReturnTradedPrice'\u001b[0m\u001b[0;34m]\u001b[0m\u001b[0;34m,\u001b[0m\u001b[0;34m\u001b[0m\u001b[0m\n\u001b[1;32m      5\u001b[0m                                         only_mkt_hours=True)\n",
      "\u001b[0;31mNameError\u001b[0m: name 'load_data' is not defined"
     ]
    }
   ],
   "source": [
    "data_dic, data_sampling_tag = load_data(ticker, resample=None,\n",
    "                                        no_of_days=no_days,\n",
    "                                       # file_name=['20090106.csv'],\n",
    "                                       load_columns=['TradedTime', 'Duration','TradedPrice', 'ReturnTradedPrice'],\n",
    "                                        only_mkt_hours=True)\n"
   ]
  },
  {
   "cell_type": "code",
   "execution_count": 14,
   "metadata": {
    "collapsed": true
   },
   "outputs": [],
   "source": [
    "labelling_methods = [\n",
    "    {'method': dl_choices.control_chart,\n",
    "  'cc_quantiles': [40, 70],\n",
    "      'rolling_window': 15,\n",
    "    },\n",
    "    # {\n",
    "    #     'method': dl_choices.control_chart,\n",
    "    #     'cc_quantiles': [20, 80],\n",
    "    #     'rolling_window': 10,\n",
    "    # },\n",
    "#     {\n",
    "#         'method': dl_choices.simple_all,\n",
    "#         'rolling_window': 5,\n",
    "#     },\n",
    "#     {\n",
    "#         'method': dl_choices.simple_ma,\n",
    "#         'rolling_window': 5,\n",
    "#     },\n",
    "    {\n",
    "        'method': dl_choices.simple_ep,\n",
    "        'rolling_window': 20,\n",
    "        'cmp_threshold': 0.05, # Use this value to set a threshold in comparison, i.e. it does not suffice \n",
    "                            # to have P_t < P_{t + window} but  P_t < ( 1- cmp_threshold) * P_{t + window} \n",
    "    },\n",
    "    {\n",
    "        'method': dl_choices.simple_ep,\n",
    "        'rolling_window': 20,\n",
    "    },\n",
    "]\n",
    "\n",
    "labellers_ = []\n",
    "\n",
    "for labelling_method in labelling_methods:\n",
    "    method = labelling_method['method']\n",
    "\n",
    "    if method is dl_choices.control_chart:\n",
    "        # look for qunatile values, if not use default 10/90\n",
    "        labellers_.append(data_labelling_cc(**labelling_method))\n",
    "    else:\n",
    "        labellers_.append(data_labelling_simple(**labelling_method))"
   ]
  },
  {
   "cell_type": "code",
   "execution_count": 15,
   "metadata": {},
   "outputs": [
    {
     "name": "stdout",
     "output_type": "stream",
     "text": [
      "Calibrating hmm on date 20090106\n",
      "Number of points in data set is 7789, number of points with large price change 2533\n",
      "Calibrating hmm on date 20090105\n",
      "Number of points in data set is 7834, number of points with large price change 2478\n",
      "Calibrating hmm on date 20090102\n",
      "Number of points in data set is 5123, number of points with large price change 2033\n",
      "Calibrating hmm on date 20090108\n",
      "Number of points in data set is 6835, number of points with large price change 2185\n",
      "Calibrating hmm on date 20090109\n",
      "Number of points in data set is 7165, number of points with large price change 2005\n",
      "{'20090106': <hsmm_core.hmm.hmm_engine object at 0x7f12999ca0d0>, '20090105': <hsmm_core.hmm.hmm_engine object at 0x7f12999ca5d0>, '20090102': <hsmm_core.hmm.hmm_engine object at 0x7f12999ca350>, '20090108': <hsmm_core.hmm.hmm_engine object at 0x7f12999ca490>, '20090109': <hsmm_core.hmm.hmm_engine object at 0x7f12999ca890>}\n"
     ]
    }
   ],
   "source": [
    "\n",
    "hmm_calibration_engine = hmm_calibration(no_parallel_procs=None,\n",
    "                                         init_params=init_params)\n",
    "\n",
    "trained_hmms = hmm_calibration_engine.hmm_fit_func(ticker, data_dic, 'resample__', force_recalc=True)\n",
    "\n",
    "print trained_hmms\n",
    "\n",
    "# a_model = trained_hmms['20140122']\n",
    "# a_model.map_metrics(data_dic['20140122'])\n",
    "#\n",
    "\n"
   ]
  },
  {
   "cell_type": "code",
   "execution_count": 24,
   "metadata": {
    "collapsed": true
   },
   "outputs": [],
   "source": [
    "prediction_params = {\n",
    "    'labelling_methods':  labelling_methods,\n",
    "    'feature_generation': feature_generation.one_model_to_one_fset,\n",
    "}\n",
    "\n",
    "prediction_eng = hs_prediction_engine(hmm_init_params=init_params,\n",
    "                                      prediction_innit_params=prediction_params,\n",
    "                                      no_parallel_procs=None)"
   ]
  },
  {
   "cell_type": "code",
   "execution_count": 25,
   "metadata": {
    "collapsed": true
   },
   "outputs": [],
   "source": [
    "features, _ = prediction_eng.train_model_data(ticker, data_dic, 'resample__', force_hmm_recalc=False)"
   ]
  },
  {
   "cell_type": "code",
   "execution_count": 58,
   "metadata": {},
   "outputs": [
    {
     "name": "stdout",
     "output_type": "stream",
     "text": [
      "20090105.csv\n",
      "20090102.csv\n",
      "20090106.csv\n",
      "20090108.csv\n",
      "20090109.csv\n"
     ]
    }
   ],
   "source": [
    "M=5\n",
    "T=len(_dates)\n",
    "\n",
    "_ll_results= {'_likeli_': {_no: {} for _no in xrange(2, 6)}}\n",
    "\n",
    "for i in xrange(0,T):\n",
    "    print _dates[i]"
   ]
  },
  {
   "cell_type": "code",
   "execution_count": 59,
   "metadata": {},
   "outputs": [
    {
     "name": "stdout",
     "output_type": "stream",
     "text": [
      "2\n",
      "Calibrating hmm on date 20090106\n",
      "Number of points in data set is 7789, number of points with large price change 2533\n",
      "Calibrating hmm on date 20090105\n",
      "Number of points in data set is 7834, number of points with large price change 2478\n",
      "Calibrating hmm on date 20090102\n",
      "Number of points in data set is 5123, number of points with large price change 2033\n",
      "Calibrating hmm on date 20090108\n",
      "Number of points in data set is 6835, number of points with large price change 2185\n",
      "Calibrating hmm on date 20090109\n",
      "Number of points in data set is 7165, number of points with large price change 2005\n",
      "20090105.csv\n",
      "14308.5433344\n",
      "20090102.csv\n",
      "3921.86364641\n",
      "20090106.csv\n",
      "11355.7703267\n",
      "20090108.csv\n",
      "8830.44295743\n",
      "20090109.csv\n",
      "11603.4541093\n",
      "3\n",
      "Calibrating hmm on date 20090106\n",
      "Number of points in data set is 7789, number of points with large price change 2533\n",
      "Calibrating hmm on date 20090105\n",
      "Number of points in data set is 7834, number of points with large price change 2478\n",
      "Calibrating hmm on date 20090102\n",
      "Number of points in data set is 5123, number of points with large price change 2033\n",
      "Calibrating hmm on date 20090108\n",
      "Number of points in data set is 6835, number of points with large price change 2185\n",
      "Calibrating hmm on date 20090109\n",
      "Number of points in data set is 7165, number of points with large price change 2005\n",
      "20090105.csv\n",
      "14553.2385424\n",
      "20090102.csv\n",
      "4135.01154056\n",
      "20090106.csv\n",
      "12094.1727816\n",
      "20090108.csv\n",
      "9249.71132308\n",
      "20090109.csv\n",
      "12154.270516\n",
      "4\n",
      "Calibrating hmm on date 20090106\n",
      "Number of points in data set is 7789, number of points with large price change 2533\n",
      "Calibrating hmm on date 20090105\n",
      "Number of points in data set is 7834, number of points with large price change 2478\n",
      "Calibrating hmm on date 20090102\n",
      "Number of points in data set is 5123, number of points with large price change 2033\n",
      "Calibrating hmm on date 20090108\n",
      "Number of points in data set is 6835, number of points with large price change 2185\n",
      "Calibrating hmm on date 20090109\n",
      "Number of points in data set is 7165, number of points with large price change 2005\n",
      "20090105.csv\n",
      "14690.6494029\n",
      "20090102.csv\n",
      "4167.92020455\n",
      "20090106.csv\n",
      "12153.2594423\n",
      "20090108.csv\n",
      "9419.35757513\n",
      "20090109.csv\n",
      "12198.4169269\n",
      "5\n",
      "Calibrating hmm on date 20090106\n",
      "Number of points in data set is 7789, number of points with large price change 2533\n",
      "Calibrating hmm on date 20090105\n",
      "Number of points in data set is 7834, number of points with large price change 2478\n",
      "Calibrating hmm on date 20090102\n",
      "Number of points in data set is 5123, number of points with large price change 2033\n",
      "Calibrating hmm on date 20090108\n",
      "Number of points in data set is 6835, number of points with large price change 2185\n",
      "Calibrating hmm on date 20090109\n",
      "Number of points in data set is 7165, number of points with large price change 2005\n",
      "20090105.csv\n",
      "14658.011671\n",
      "20090102.csv\n",
      "4106.05386383\n",
      "20090106.csv\n",
      "12117.9783861\n",
      "20090108.csv\n",
      "9342.9139162\n",
      "20090109.csv\n",
      "12078.8955308\n"
     ]
    }
   ],
   "source": [
    "for idx, _no in enumerate(xrange(2,6)):\n",
    "    print _no\n",
    "    init_params[\"hidden_model_params\"][\"no_hidden_states\"] =_no\n",
    "    hmm_calibration_engine = hmm_calibration(no_parallel_procs=None,\n",
    "                                             init_params=init_params)\n",
    "    trained_hmms = hmm_calibration_engine.hmm_fit_func(ticker, data_dic, \n",
    "                                                       'resample__', force_recalc=True)\n",
    "    for _date in range(0,T):\n",
    "        print _dates[_date]\n",
    "        filename, _ = os.path.splitext(_dates[_date])\n",
    "        _no_items=len(trained_hmms[filename].__dict__['history_likelihood_'])\n",
    "        _likel_=trained_hmms[filename].__dict__['history_likelihood_'][_no_items-1]\n",
    "        print _likel_\n",
    "        _ll_results['_likeli_'][_no][_date] =_likel_\n"
   ]
  },
  {
   "cell_type": "code",
   "execution_count": 46,
   "metadata": {},
   "outputs": [
    {
     "name": "stdout",
     "output_type": "stream",
     "text": [
      "14308.5433344\n",
      "3921.86364641\n",
      "11355.7703267\n",
      "8830.44295743\n",
      "11603.4541093\n"
     ]
    }
   ],
   "source": [
    "for _date in range(0,T):\n",
    "    filename, _ = os.path.splitext(_dates[_date])\n",
    "    _no_items=len(trained_hmms[filename].__dict__['history_likelihood_'])\n",
    "    _likel_=trained_hmms[filename].__dict__['history_likelihood_'][_no_items-1]\n",
    "    print _likel_"
   ]
  },
  {
   "cell_type": "code",
   "execution_count": 25,
   "metadata": {},
   "outputs": [
    {
     "name": "stdout",
     "output_type": "stream",
     "text": [
      "2\n",
      "3\n",
      "4\n",
      "5\n"
     ]
    }
   ],
   "source": [
    "for i in xrange(2,6):\n",
    "    print i"
   ]
  },
  {
   "cell_type": "code",
   "execution_count": 85,
   "metadata": {},
   "outputs": [
    {
     "data": {
      "text/plain": [
       "{0: 14553.238542445497,\n",
       " 1: 4135.0115405634615,\n",
       " 2: 12094.172781635829,\n",
       " 3: 9249.7113230805389,\n",
       " 4: 12154.270515995562}"
      ]
     },
     "execution_count": 85,
     "metadata": {},
     "output_type": "execute_result"
    }
   ],
   "source": [
    "_ll_results['_likeli_'][3]"
   ]
  },
  {
   "cell_type": "code",
   "execution_count": 86,
   "metadata": {},
   "outputs": [
    {
     "data": {
      "text/plain": [
       "{0: 14658.011670987871,\n",
       " 1: 4106.0538638326334,\n",
       " 2: 12117.978386140743,\n",
       " 3: 9342.9139162024676,\n",
       " 4: 12078.895530790629}"
      ]
     },
     "execution_count": 86,
     "metadata": {},
     "output_type": "execute_result"
    }
   ],
   "source": [
    "_ll_results['_likeli_'][5]"
   ]
  },
  {
   "cell_type": "code",
   "execution_count": 77,
   "metadata": {},
   "outputs": [
    {
     "data": {
      "text/plain": [
       "{0: 14690.649402877452,\n",
       " 1: 4167.9202045505981,\n",
       " 2: 12153.259442271943,\n",
       " 3: 9419.3575751274948,\n",
       " 4: 12198.41692689101}"
      ]
     },
     "execution_count": 77,
     "metadata": {},
     "output_type": "execute_result"
    }
   ],
   "source": [
    "_ll_results['_likeli_'][4]"
   ]
  },
  {
   "cell_type": "code",
   "execution_count": 82,
   "metadata": {
    "collapsed": true
   },
   "outputs": [],
   "source": [
    "_no_states=_ll_results['_likeli_'].keys()"
   ]
  },
  {
   "cell_type": "code",
   "execution_count": 99,
   "metadata": {},
   "outputs": [
    {
     "name": "stdout",
     "output_type": "stream",
     "text": [
      "[2, 3, 4, 5]\n"
     ]
    }
   ],
   "source": [
    "dictionary = _ll_results['_likeli_']\n",
    "print(dictionary.keys())"
   ]
  },
  {
   "cell_type": "code",
   "execution_count": 103,
   "metadata": {},
   "outputs": [
    {
     "name": "stdout",
     "output_type": "stream",
     "text": [
      "{0: 14308.54333435061, 1: 3921.8636464133974, 2: 11355.770326676797, 3: 8830.4429574270343, 4: 11603.454109344731}\n"
     ]
    }
   ],
   "source": [
    "print(dictionary[2])"
   ]
  },
  {
   "cell_type": "code",
   "execution_count": 138,
   "metadata": {
    "scrolled": true
   },
   "outputs": [
    {
     "data": {
      "image/png": "[encoded data removed]",
      "text/plain": [
       "<matplotlib.figure.Figure at 0x7f1292335050>"
      ]
     },
     "metadata": {},
     "output_type": "display_data"
    }
   ],
   "source": [
    "fig, ax = plt.subplots()\n",
    "fig.autofmt_xdate()\n",
    "for k in dictionary:\n",
    "    xs, ys = zip(*sorted(dictionary[k].items(), key=lambda x: x[0]))\n",
    "    ax.plot([datetime.strptime(_dates[i].split('.')[0], '%Y%m%d') for i in xs],\n",
    "            ys,marker='o', linestyle='--', label=k)\n",
    "ax.legend()\n",
    "plt.xlabel('#Day')\n",
    "plt.ylabel('likelihood')\n",
    "plt.show()"
   ]
  },
  {
   "cell_type": "code",
   "execution_count": 115,
   "metadata": {},
   "outputs": [
    {
     "name": "stdout",
     "output_type": "stream",
     "text": [
      "20090105\n",
      "20090102\n",
      "20090106\n",
      "20090108\n"
     ]
    }
   ],
   "source": [
    "for _date in range(0,4):\n",
    "    filename, _ = os.path.splitext(_dates[_date])\n",
    "    print filename"
   ]
  },
  {
   "cell_type": "code",
   "execution_count": 118,
   "metadata": {},
   "outputs": [
    {
     "data": {
      "text/plain": [
       "5"
      ]
     },
     "execution_count": 118,
     "metadata": {},
     "output_type": "execute_result"
    }
   ],
   "source": [
    "k"
   ]
  },
  {
   "cell_type": "code",
   "execution_count": null,
   "metadata": {
    "collapsed": true
   },
   "outputs": [],
   "source": []
  }
 ],
 "metadata": {
  "kernelspec": {
   "display_name": "Python 2",
   "language": "python",
   "name": "python2"
  },
  "language_info": {
   "codemirror_mode": {
    "name": "ipython",
    "version": 2
   },
   "file_extension": ".py",
   "mimetype": "text/x-python",
   "name": "python",
   "nbconvert_exporter": "python",
   "pygments_lexer": "ipython2",
   "version": "2.7.15rc1"
  }
 },
 "nbformat": 4,
 "nbformat_minor": 2
}
