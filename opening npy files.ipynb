{
 "cells": [
  {
   "cell_type": "code",
   "execution_count": 17,
   "id": "d36ffceb",
   "metadata": {},
   "outputs": [],
   "source": [
    "import numpy as np\n",
    "import os \n",
    "import pandas as pd\n",
    "import pickle as pickle"
   ]
  },
  {
   "cell_type": "code",
   "execution_count": 36,
   "id": "65423f52",
   "metadata": {},
   "outputs": [],
   "source": [
    "folder = '/media/ak/Data/AK WORK PC SEPT 2018/Data/features_test'\n",
    "folder_two = '/media/ak/Data1/$RECYCLE.BIN/AK WORK PC SEPT 2018/Data/features_test'\n",
    "folder_three ='/media/ak/Data1/Data/features_test'\n",
    "la_cie = '/media/ak/LaCie'"
   ]
  },
  {
   "cell_type": "code",
   "execution_count": 37,
   "id": "04462025",
   "metadata": {},
   "outputs": [
    {
     "data": {
      "text/plain": [
       "['fischer_polar.npy', 'im_metrics.npy', 'ksi_metrics.npy']"
      ]
     },
     "execution_count": 37,
     "metadata": {},
     "output_type": "execute_result"
    }
   ],
   "source": [
    "npy_files = [f for f in os.listdir(folder_three) if str('.npy') in f]\n",
    "npy_files"
   ]
  },
  {
   "cell_type": "code",
   "execution_count": 44,
   "id": "07ee54e5",
   "metadata": {},
   "outputs": [],
   "source": [
    "idx = 2\n",
    "file_path = os.path.join(folder, npy_files[idx])\n",
    "D = np.load(file_path, encoding = 'latin1', allow_pickle= True)"
   ]
  },
  {
   "cell_type": "code",
   "execution_count": 45,
   "id": "c374db0f",
   "metadata": {},
   "outputs": [
    {
     "name": "stdout",
     "output_type": "stream",
     "text": [
      "/media/ak/LaCie/ksi_metrics_3_.pkl\n"
     ]
    }
   ],
   "source": [
    "pickle_out_file_name = os.path.join(la_cie, str(npy_files[idx].split(\".\")[0])+'_3_.pkl')\n",
    "print(pickle_out_file_name)\n",
    "pickle_out = open(pickle_out_file_name, 'wb')\n",
    "pickle.dump(D, pickle_out)\n",
    "pickle_out.close()"
   ]
  },
  {
   "cell_type": "code",
   "execution_count": 46,
   "id": "fee08c45",
   "metadata": {},
   "outputs": [
    {
     "data": {
      "text/plain": [
       "'ksi_metrics'"
      ]
     },
     "execution_count": 46,
     "metadata": {},
     "output_type": "execute_result"
    }
   ],
   "source": [
    "\n",
    "npy_files[idx].split(\".\")[0]"
   ]
  },
  {
   "cell_type": "code",
   "execution_count": 59,
   "id": "34ce1908",
   "metadata": {},
   "outputs": [
    {
     "data": {
      "text/plain": [
       "dict_keys(['spectral', 'determ', 'trace'])"
      ]
     },
     "execution_count": 59,
     "metadata": {},
     "output_type": "execute_result"
    }
   ],
   "source": []
  },
  {
   "cell_type": "code",
   "execution_count": null,
   "id": "88979320",
   "metadata": {},
   "outputs": [],
   "source": []
  }
 ],
 "metadata": {
  "kernelspec": {
   "display_name": "Python 3 (ipykernel)",
   "language": "python",
   "name": "python3"
  },
  "language_info": {
   "codemirror_mode": {
    "name": "ipython",
    "version": 3
   },
   "file_extension": ".py",
   "mimetype": "text/x-python",
   "name": "python",
   "nbconvert_exporter": "python",
   "pygments_lexer": "ipython3",
   "version": "3.8.12"
  }
 },
 "nbformat": 4,
 "nbformat_minor": 5
}
